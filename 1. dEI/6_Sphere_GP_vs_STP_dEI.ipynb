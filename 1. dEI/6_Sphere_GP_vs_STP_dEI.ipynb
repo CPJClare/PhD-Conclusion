{
  "cells": [
    {
      "cell_type": "markdown",
      "metadata": {
        "id": "Dqn4dFx7Z2Ir"
      },
      "source": [
        "\n",
        "Sphere: 2D\n"
      ]
    },
    {
      "cell_type": "code",
      "execution_count": 1,
      "metadata": {
        "colab": {
          "base_uri": "https://localhost:8080/"
        },
        "id": "MJTM_GZZZb5x",
        "outputId": "ec0335c9-1012-44d9-9729-dcca44f571d4"
      },
      "outputs": [
        {
          "output_type": "stream",
          "name": "stdout",
          "text": [
            "Looking in indexes: https://pypi.org/simple, https://us-python.pkg.dev/colab-wheels/public/simple/\n",
            "Collecting pyGPGO\n",
            "  Downloading pyGPGO-0.5.1.tar.gz (14 kB)\n",
            "Requirement already satisfied: numpy in /usr/local/lib/python3.7/dist-packages (from pyGPGO) (1.21.6)\n",
            "Requirement already satisfied: mkl in /usr/local/lib/python3.7/dist-packages (from pyGPGO) (2019.0)\n",
            "Requirement already satisfied: scipy in /usr/local/lib/python3.7/dist-packages (from pyGPGO) (1.7.3)\n",
            "Requirement already satisfied: joblib in /usr/local/lib/python3.7/dist-packages (from pyGPGO) (1.1.0)\n",
            "Requirement already satisfied: scikit-learn in /usr/local/lib/python3.7/dist-packages (from pyGPGO) (1.0.2)\n",
            "Collecting Theano-PyMC\n",
            "  Downloading Theano-PyMC-1.1.2.tar.gz (1.8 MB)\n",
            "\u001b[K     |████████████████████████████████| 1.8 MB 5.0 MB/s \n",
            "\u001b[?25hCollecting pyMC3\n",
            "  Downloading pymc3-3.11.5-py3-none-any.whl (872 kB)\n",
            "\u001b[K     |████████████████████████████████| 872 kB 44.3 MB/s \n",
            "\u001b[?25hRequirement already satisfied: intel-openmp in /usr/local/lib/python3.7/dist-packages (from mkl->pyGPGO) (2022.1.0)\n",
            "Requirement already satisfied: cachetools>=4.2.1 in /usr/local/lib/python3.7/dist-packages (from pyMC3->pyGPGO) (4.2.4)\n",
            "Collecting deprecat\n",
            "  Downloading deprecat-2.1.1-py2.py3-none-any.whl (9.8 kB)\n",
            "Collecting semver>=2.13.0\n",
            "  Downloading semver-2.13.0-py2.py3-none-any.whl (12 kB)\n",
            "Requirement already satisfied: fastprogress>=0.2.0 in /usr/local/lib/python3.7/dist-packages (from pyMC3->pyGPGO) (1.0.3)\n",
            "Requirement already satisfied: dill in /usr/local/lib/python3.7/dist-packages (from pyMC3->pyGPGO) (0.3.5.1)\n",
            "Requirement already satisfied: arviz>=0.11.0 in /usr/local/lib/python3.7/dist-packages (from pyMC3->pyGPGO) (0.12.1)\n",
            "Requirement already satisfied: pandas>=0.24.0 in /usr/local/lib/python3.7/dist-packages (from pyMC3->pyGPGO) (1.3.5)\n",
            "Requirement already satisfied: patsy>=0.5.1 in /usr/local/lib/python3.7/dist-packages (from pyMC3->pyGPGO) (0.5.2)\n",
            "Requirement already satisfied: typing-extensions>=3.7.4 in /usr/local/lib/python3.7/dist-packages (from pyMC3->pyGPGO) (4.1.1)\n",
            "Requirement already satisfied: filelock in /usr/local/lib/python3.7/dist-packages (from Theano-PyMC->pyGPGO) (3.8.0)\n",
            "Requirement already satisfied: matplotlib>=3.0 in /usr/local/lib/python3.7/dist-packages (from arviz>=0.11.0->pyMC3->pyGPGO) (3.2.2)\n",
            "Requirement already satisfied: setuptools>=38.4 in /usr/local/lib/python3.7/dist-packages (from arviz>=0.11.0->pyMC3->pyGPGO) (57.4.0)\n",
            "Requirement already satisfied: xarray>=0.16.1 in /usr/local/lib/python3.7/dist-packages (from arviz>=0.11.0->pyMC3->pyGPGO) (0.20.2)\n",
            "Requirement already satisfied: xarray-einstats>=0.2 in /usr/local/lib/python3.7/dist-packages (from arviz>=0.11.0->pyMC3->pyGPGO) (0.2.2)\n",
            "Requirement already satisfied: netcdf4 in /usr/local/lib/python3.7/dist-packages (from arviz>=0.11.0->pyMC3->pyGPGO) (1.6.0)\n",
            "Requirement already satisfied: packaging in /usr/local/lib/python3.7/dist-packages (from arviz>=0.11.0->pyMC3->pyGPGO) (21.3)\n",
            "Requirement already satisfied: python-dateutil>=2.1 in /usr/local/lib/python3.7/dist-packages (from matplotlib>=3.0->arviz>=0.11.0->pyMC3->pyGPGO) (2.8.2)\n",
            "Requirement already satisfied: cycler>=0.10 in /usr/local/lib/python3.7/dist-packages (from matplotlib>=3.0->arviz>=0.11.0->pyMC3->pyGPGO) (0.11.0)\n",
            "Requirement already satisfied: pyparsing!=2.0.4,!=2.1.2,!=2.1.6,>=2.0.1 in /usr/local/lib/python3.7/dist-packages (from matplotlib>=3.0->arviz>=0.11.0->pyMC3->pyGPGO) (3.0.9)\n",
            "Requirement already satisfied: kiwisolver>=1.0.1 in /usr/local/lib/python3.7/dist-packages (from matplotlib>=3.0->arviz>=0.11.0->pyMC3->pyGPGO) (1.4.4)\n",
            "Requirement already satisfied: pytz>=2017.3 in /usr/local/lib/python3.7/dist-packages (from pandas>=0.24.0->pyMC3->pyGPGO) (2022.2.1)\n",
            "Requirement already satisfied: six in /usr/local/lib/python3.7/dist-packages (from patsy>=0.5.1->pyMC3->pyGPGO) (1.15.0)\n",
            "Requirement already satisfied: importlib-metadata in /usr/local/lib/python3.7/dist-packages (from xarray>=0.16.1->arviz>=0.11.0->pyMC3->pyGPGO) (4.12.0)\n",
            "Requirement already satisfied: wrapt<2,>=1.10 in /usr/local/lib/python3.7/dist-packages (from deprecat->pyMC3->pyGPGO) (1.14.1)\n",
            "Requirement already satisfied: zipp>=0.5 in /usr/local/lib/python3.7/dist-packages (from importlib-metadata->xarray>=0.16.1->arviz>=0.11.0->pyMC3->pyGPGO) (3.8.1)\n",
            "Requirement already satisfied: cftime in /usr/local/lib/python3.7/dist-packages (from netcdf4->arviz>=0.11.0->pyMC3->pyGPGO) (1.6.1)\n",
            "Requirement already satisfied: threadpoolctl>=2.0.0 in /usr/local/lib/python3.7/dist-packages (from scikit-learn->pyGPGO) (3.1.0)\n",
            "Building wheels for collected packages: pyGPGO, Theano-PyMC\n",
            "  Building wheel for pyGPGO (setup.py) ... \u001b[?25l\u001b[?25hdone\n",
            "  Created wheel for pyGPGO: filename=pyGPGO-0.5.1-py3-none-any.whl size=19879 sha256=863af3f0d72341ed23cae565a867d244a732416dfb82adc5b472285e8c857701\n",
            "  Stored in directory: /root/.cache/pip/wheels/c8/5d/0b/2160114e2f1b87791c51b66cf07f89831dbb6f49167950316f\n",
            "  Building wheel for Theano-PyMC (setup.py) ... \u001b[?25l\u001b[?25hdone\n",
            "  Created wheel for Theano-PyMC: filename=Theano_PyMC-1.1.2-py3-none-any.whl size=1529963 sha256=84e65dd49146bfec20fe35f6d73a3c520f112f33d8d3b42e747edcf455ac68dc\n",
            "  Stored in directory: /root/.cache/pip/wheels/f3/af/8c/5dd7553522d74c52a7813806fc7ee1a9caa20a3f7c8fd850d5\n",
            "Successfully built pyGPGO Theano-PyMC\n",
            "Installing collected packages: Theano-PyMC, semver, deprecat, pyMC3, pyGPGO\n",
            "Successfully installed Theano-PyMC-1.1.2 deprecat-2.1.1 pyGPGO-0.5.1 pyMC3-3.11.5 semver-2.13.0\n"
          ]
        }
      ],
      "source": [
        "pip install pyGPGO\n"
      ]
    },
    {
      "cell_type": "code",
      "execution_count": 2,
      "metadata": {
        "id": "ZJSSPbwPaEUB"
      },
      "outputs": [],
      "source": [
        "### 1. Import python modules/packages required:\n",
        "\n",
        "import numpy as np\n",
        "import pandas as pd\n",
        "import scipy as sp\n",
        "import matplotlib.pyplot as plt\n",
        "import warnings\n",
        "import itertools\n",
        "import seaborn as sns\n",
        "import time\n",
        "\n",
        "from pyGPGO.GPGO import GPGO\n",
        "from pyGPGO.surrogates.GaussianProcess import GaussianProcess\n",
        "from pyGPGO.surrogates.tStudentProcess import tStudentProcess\n",
        "from pyGPGO.acquisition import Acquisition\n",
        "from pyGPGO.covfunc import squaredExponential\n",
        "from joblib import Parallel, delayed\n",
        "from scipy.linalg import inv\n",
        "from scipy.spatial.distance import cdist\n",
        "from scipy.optimize import minimize\n",
        "from scipy.stats import norm, t\n",
        "from mpl_toolkits.axes_grid1.inset_locator import inset_axes, mark_inset\n",
        "\n",
        "warnings.filterwarnings(\"ignore\", category=RuntimeWarning)\n"
      ]
    },
    {
      "cell_type": "code",
      "execution_count": 3,
      "metadata": {
        "id": "OeYcTUNoaJWa"
      },
      "outputs": [],
      "source": [
        "### Inputs:\n",
        "\n",
        "func = 'Sphere'\n",
        "n_test = 500\n",
        "eps = 1e-08\n",
        "\n",
        "util_gp = 'EI_gp'\n",
        "util_stp = 'EI_stp'\n",
        "\n",
        "n_init = 5 # random initialisations\n",
        "iters = 20\n",
        "opt = True\n",
        "\n",
        "df = 3"
      ]
    },
    {
      "cell_type": "code",
      "execution_count": 4,
      "metadata": {
        "id": "xpaEOjdzaPMS"
      },
      "outputs": [],
      "source": [
        "### Objective Function - Sphere(x) 2-D:\n",
        "\n",
        "def objfunc(x1_training, x2_training):\n",
        "            return  operator * ( x1_training ** 2\n",
        "                            + x2_training ** 2\n",
        "                            )\n",
        "        \n",
        "# Constraints:\n",
        "lb = -5.12\n",
        "ub = +5.12\n",
        "    \n",
        "# Input array dimension(s):\n",
        "dim = 2\n",
        "\n",
        "# 2-D inputs' parameter bounds:\n",
        "param = {'x1_training': ('cont', [lb, ub]),\n",
        "                 'x2_training': ('cont', [lb, ub])\n",
        "                 }\n",
        "    \n",
        "# True y bounds:\n",
        "y_lb = 0\n",
        "operator = -1 # targets global minimum \n",
        "y_global_orig = y_lb * operator # targets global minimum\n",
        "    \n",
        "# Test data:\n",
        "x1_test = np.linspace(lb, ub, n_test)\n",
        "x2_test = np.linspace(lb, ub, n_test)\n",
        "x_test = np.column_stack((x1_test, x2_test))"
      ]
    },
    {
      "cell_type": "code",
      "execution_count": 5,
      "metadata": {
        "id": "eYpI3Zm4aGxi"
      },
      "outputs": [],
      "source": [
        "n_start_AcqFunc = iters\n",
        "inverse = -1\n"
      ]
    },
    {
      "cell_type": "code",
      "execution_count": 6,
      "metadata": {
        "id": "oO_GUmOoaV0T"
      },
      "outputs": [],
      "source": [
        "### Cumulative Regret Calculators:\n",
        "\n",
        "def min_max_array(x):\n",
        "    new_list = []\n",
        "    for i, num in enumerate(x):\n",
        "            new_list.append(np.min(x[0:i+1]))\n",
        "    return new_list\n",
        "  \n",
        "def acqFuncExact(x):\n",
        "    new_array = []\n",
        "    x = np.array(x) \n",
        "    for i, num in enumerate(x):\n",
        "            new_array = x[:-2][::-3]\n",
        "    return new_array[::-1]\n",
        "\n",
        "def acqFuncApprox(x):\n",
        "    new_array = []\n",
        "    x = np.array(x) \n",
        "    for i, num in enumerate(x):\n",
        "            new_array = x[:-1][::-3]\n",
        "    return new_array[::-1]\n"
      ]
    },
    {
      "cell_type": "code",
      "execution_count": 7,
      "metadata": {
        "id": "kuuJx0IMam9S"
      },
      "outputs": [],
      "source": [
        "### Surrogate derivatives: \n",
        "\n",
        "cov_func = squaredExponential()\n",
        "\n",
        "def kronDelta(X, Xstar):                     # Kronecker's Delta method\n",
        "    return cdist(X, Xstar) < np.finfo(np.float32).eps\n",
        "\n",
        "def se(X, Xstar, sigmaf, l, sigman):         # S.E. kernel method\n",
        "    return sigmaf * np.exp(-0.5 * cdist(X, Xstar) ** 2 / l ** 2) + sigman * kronDelta(X, Xstar)\n",
        "\n",
        "def delta(X, Xstar):                         # Distance between training X and test Xstar vectors\n",
        "    return (X - Xstar)\n",
        "   \n",
        "def der_covmat(X, Xstar, sigmaf, l, sigman): # Covariance matrix derivative terms (i.e. exact, first-order)\n",
        "    nx = len(X)\n",
        "    ny = len(Xstar)\n",
        "    return np.round(np.array([(delta(np.atleast_2d(i), np.atleast_2d(j))[0] * se(np.atleast_2d(i), np.atleast_2d(j), sigmaf, l, sigman)[0]).sum() for (i, j) in itertools.product(X, Xstar)]).reshape(nx, ny), 8)\n",
        "\n",
        "class dGaussianProcess(GaussianProcess):    # Via inheritance, also optimises hyperparameters when opt = TRUE\n",
        "    \n",
        "    def AcqGrad(self, Xstar):               # Method returning exact, first-order derivatives of the GP's posterior mean and standard deviation\n",
        "        Xstar = np.atleast_2d(Xstar)\n",
        "        Kstar = self.covfunc.K(self.X, Xstar).T\n",
        "        \n",
        "        dKstar = der_covmat(self.X, Xstar, self.covfunc.sigmaf, self.covfunc.l, self.covfunc.sigman).T\n",
        "        alpha_Kstar = np.dot(np.linalg.inv(self.K + (self.covfunc.sigman**2) * np.eye(len(self.X))), Kstar.T)\n",
        "        \n",
        "        dm = np.dot(dKstar, self.alpha)\n",
        "        ds = -2 * np.dot(dKstar, alpha_Kstar)\n",
        "        \n",
        "        return dm, ds   \n",
        "\n",
        "class dtStudentProcess(tStudentProcess):    # Via inheritance, also optimises hyperparameters when opt = TRUE\n",
        "    \n",
        "    def AcqGrad(self, Xstar):               # Method returning exact, first-order derivatives of the STP's posterior mean and standard deviation\n",
        "        Xstar = np.atleast_2d(Xstar)\n",
        "        Kstar = self.covfunc.K(self.X, Xstar).T\n",
        "        dKstar = der_covmat(self.X, Xstar, self.covfunc.sigmaf, self.covfunc.l, self.covfunc.sigman).T\n",
        "        \n",
        "        smd_adj = (self.nu + self.beta1 - 2) / (self.nu + self.n1 - 2)\n",
        "\n",
        "        alpha = np.dot(np.linalg.inv(self.K11 + (self.covfunc.sigman**2) * np.eye(len(self.X))), self.y)\n",
        "        alpha_Kstar = np.dot(np.linalg.inv(self.K11 + (self.covfunc.sigman**2) * np.eye(len(self.X))), Kstar.T)      \n",
        "        \n",
        "        dm = np.dot(dKstar, alpha)\n",
        "        ds = -2 * smd_adj * np.dot(dKstar, alpha_Kstar)\n",
        "        \n",
        "        return dm, ds \n",
        "        "
      ]
    },
    {
      "cell_type": "code",
      "execution_count": 8,
      "metadata": {
        "id": "_Dc3YVHVaXz7"
      },
      "outputs": [],
      "source": [
        "### Add exact acquisition function gradient as attribute:\n",
        "\n",
        "class Acquisition_grad(Acquisition):    \n",
        "    def __init__(self, mode, eps=eps, **params):\n",
        "        \n",
        "        self.params = params\n",
        "        self.eps = eps\n",
        "\n",
        "        mode_dict = {\n",
        "            'EI_stp': self.EI_stp,\n",
        "            'EI_gp': self.EI_gp,\n",
        "        }\n",
        "\n",
        "        self.f = mode_dict[mode]\n",
        "    \n",
        "    def EI_stp(self, tau, mean, std, ds, dm, nu=3.0):\n",
        "        gamma = (mean - tau - self.eps) / (std + self.eps)\n",
        "        gamma_h = (mean - tau) / (std + self.eps)\n",
        "        dsdx = ds / (2 * (std + self.eps))\n",
        "        dmdx = (dm - gamma * dsdx) / (std + self.eps)\n",
        "        \n",
        "        f = (std + self.eps) * (gamma * t.cdf(gamma, df=nu) + (nu + gamma ** 2)/(nu - 1) * t.pdf(gamma, df=nu))\n",
        "        df1 = f / (std + self.eps) * dsdx \n",
        "        df2 = (std + self.eps) * (t.cdf(gamma, df=nu) * dmdx + gamma * t.pdf(gamma, df=nu) \\\n",
        "            * (1 - (nu + gamma ** 2)/(nu - 1) + 2/(nu - 1) * dmdx))\n",
        "        df = (df1 + df2)[0]\n",
        "        df_arr = []\n",
        "\n",
        "        for j in range(0, dim):\n",
        "          df_arr.append(df)\n",
        "        return f, np.asarray(df_arr).transpose()\n",
        "        \n",
        "    def d_eval_stp(self, tau, mean, std, ds, dm, nu=3.0):\n",
        "    \n",
        "        return self.f(tau, mean, std, ds, dm, nu=3.0, **self.params)\n",
        "\n",
        "    def EI_gp(self, tau, mean, std, ds, dm):\n",
        "        gamma = (mean - tau - self.eps) / (std + self.eps)\n",
        "        gamma_h = (mean - tau) / (std + self.eps)\n",
        "        dsdx = ds / (2 * (std + self.eps))\n",
        "        dmdx = (dm - gamma * dsdx) / (std + self.eps)\n",
        "        \n",
        "        f = (std + self.eps) * (gamma * norm.cdf(gamma) + norm.pdf(gamma))\n",
        "        df1 = f / (std + self.eps) * dsdx \n",
        "        df2 = (std + self.eps) * norm.cdf(gamma) * dmdx\n",
        "        df = (df1 + df2)[0]\n",
        "        df_arr = []\n",
        "\n",
        "        for j in range(0, dim):\n",
        "          df_arr.append(df)\n",
        "        return f, np.asarray(df_arr).transpose()\n",
        "        \n",
        "    def d_eval_gp(self, tau, mean, std, ds, dm):\n",
        "    \n",
        "        return self.f(tau, mean, std, ds, dm, **self.params)\n",
        "        "
      ]
    },
    {
      "cell_type": "code",
      "execution_count": 9,
      "metadata": {
        "id": "b_B-w81BJxKN"
      },
      "outputs": [],
      "source": [
        "## dGPGO - Gaussian:\n",
        "\n",
        "class dGPGO_gp(GPGO):\n",
        "    n_start = n_start_AcqFunc\n",
        "\n",
        "    def __init__(self, surrogate, acquisition, f, parameter_dict, n_jobs=1):\n",
        "        self.GP = surrogate\n",
        "        self.A = acquisition\n",
        "        self.f = f\n",
        "        self.parameters = parameter_dict\n",
        "        self.n_jobs = n_jobs\n",
        "\n",
        "        self.parameter_key = list(parameter_dict.keys())\n",
        "        self.parameter_value = list(parameter_dict.values())\n",
        "        self.parameter_type = [p[0] for p in self.parameter_value]\n",
        "        self.parameter_range = [p[1] for p in self.parameter_value]\n",
        "\n",
        "        self.history = []\n",
        "        self.header =   'Evaluation \\t Proposed point \\t  Current eval. \\t  Best eval. \\t        Exact EI: StdDev. x \\t Approx EI: StdDev. x '\n",
        "        self.template = '{:3}\\t {}\\t {:3}\\t {:3}\\t {:3}\\t {:3}'\n",
        "\n",
        "    def acqfuncExact(self, xnew, n_start=n_start_AcqFunc):\n",
        "        new_mean, new_var = self.GP.predict(xnew, return_std=True)\n",
        "        new_std = np.sqrt(new_var + eps)\n",
        "        dm, ds = self.GP.AcqGrad(xnew)\n",
        "        f, df = self.A.d_eval_gp(self.tau, new_mean, new_std, ds=ds, dm=dm)\n",
        "\n",
        "        return -f, -df\n",
        "   \n",
        "    def acqfuncApprox(self, xnew, n_start=n_start_AcqFunc):\n",
        "        new_mean, new_var = self.GP.predict(xnew, return_std=True)\n",
        "        new_std = np.sqrt(new_var + eps)\n",
        "        dm, ds = self.GP.AcqGrad(xnew)\n",
        "        f, df = self.A.d_eval_gp(self.tau, new_mean, new_std, ds=ds, dm=dm)\n",
        "\n",
        "        return -f\n",
        "\n",
        "    def d_optimizeAcq(self, method='L-BFGS-B', n_start=n_start_AcqFunc):\n",
        "        start_points_dict = [self._sampleParam() for i in range(n_start)]\n",
        "        start_points_arr = np.array([list(s.values())\n",
        "                                     for s in start_points_dict])\n",
        "        x_best = np.empty((n_start, len(self.parameter_key)))\n",
        "        f_best = np.empty((n_start,))\n",
        "        opt = Parallel(n_jobs=self.n_jobs)(delayed(minimize)(self.acqfuncExact,\n",
        "                                                                 x0=start_point,\n",
        "                                                                 method=method,\n",
        "                                                                 jac = True,\n",
        "                                                                 bounds=self.parameter_range) for start_point in\n",
        "                                               start_points_arr)\n",
        "        x_best = np.array([res.x for res in opt])\n",
        "        f_best = np.array([np.atleast_1d(res.fun)[0] for res in opt])\n",
        "        f_best_min = min(f_best)\n",
        "\n",
        "        self.x_best = x_best\n",
        "        self.f_best = f_best\n",
        "        self.f_best_min = f_best_min\n",
        "        self.x_best_std = np.std(x_best)\n",
        "        self.best = x_best[np.argmin(f_best)]\n",
        "        self.start_points_arr = start_points_arr\n",
        "        self.history.append(self.x_best_std)\n",
        "\n",
        "        x_best_gp = np.empty((n_start, len(self.parameter_key)))\n",
        "        f_best_gp = np.empty((n_start,))\n",
        "        opt_gp = Parallel(n_jobs=self.n_jobs)(delayed(minimize)(self.acqfuncApprox,\n",
        "                                                                 x0=start_point,\n",
        "                                                                 method=method,\n",
        "                                                                 jac = False,\n",
        "                                                                 bounds=self.parameter_range) for start_point in\n",
        "                                               start_points_arr)\n",
        "        x_best_gp = np.array([res.x for res in opt_gp])\n",
        "        f_best_gp = np.array([np.atleast_1d(res.fun)[0] for res in opt_gp])\n",
        "        f_best_min_gp = min(f_best_gp)\n",
        "\n",
        "        self.x_best_gp = x_best_gp\n",
        "        self.f_best_gp = f_best_gp\n",
        "        self.f_best_min_gp = f_best_min_gp\n",
        "        self.x_best_std_gp = np.std(x_best_gp)\n",
        "        self.best_gp = x_best_gp[np.argmin(f_best_gp)]\n",
        "        self.start_points_arr = start_points_arr\n",
        "        self.history.append(self.x_best_std_gp)\n",
        "    \n",
        "    def _printInit(self):\n",
        "        print(self.header)\n",
        "        for init_eval in range(self.init_evals):\n",
        "            print(self.template.format('init', self.GP.X[init_eval], inverse * self.GP.y[init_eval], inverse * self.tau, '', ''))\n",
        "      \n",
        "    def _printCurrent(self):\n",
        "        OKGREEN = '\\033[92m'\n",
        "        ENDC = '\\033[0m'\n",
        "        BOLD = '\\033[1m'\n",
        "        eval = str(len(self.GP.y) - self.init_evals)\n",
        "        proposed = str(self.best)\n",
        "        curr_eval = str(inverse * self.GP.y[-1])\n",
        "        curr_best = str(inverse * self.tau)\n",
        "        min_acqfunc = str(self.f_best_min)\n",
        "        min_acqfunc_gp = str(self.f_best_min_gp)\n",
        "        x_best_std = str(self.x_best_std)\n",
        "        x_best_std_gp = str(self.x_best_std_gp)\n",
        "        if float(curr_eval) <= float(curr_best):\n",
        "            eval = BOLD + OKGREEN + eval + ENDC\n",
        "            proposed = BOLD + OKGREEN + proposed + ENDC\n",
        "            curr_eval = BOLD + OKGREEN + curr_eval + ENDC\n",
        "            curr_best = BOLD + OKGREEN + curr_best + ENDC\n",
        "            x_best_std = BOLD + OKGREEN + x_best_std + ENDC\n",
        "            x_best_std_gp = BOLD + OKGREEN + x_best_std_gp + ENDC\n",
        "        print(self.template.format(eval, proposed, curr_eval, curr_best, x_best_std, x_best_std_gp))\n",
        "\n",
        "    def run(self, max_iter=10, init_evals=3, resume=False):\n",
        "        \n",
        "        if not resume:\n",
        "            self.init_evals = init_evals\n",
        "            self._firstRun(self.init_evals)\n",
        "            self._printInit()\n",
        "        for iteration in range(max_iter):\n",
        "            self.d_optimizeAcq()\n",
        "            self.updateGP()\n",
        "            self._printCurrent()\n"
      ]
    },
    {
      "cell_type": "code",
      "source": [
        "## dGPGO - Student's-t:\n",
        "\n",
        "class dGPGO_stp(GPGO):\n",
        "    n_start = n_start_AcqFunc\n",
        "\n",
        "    def __init__(self, surrogate, acquisition, f, parameter_dict, n_jobs=1):\n",
        "        self.GP = surrogate\n",
        "        self.A = acquisition\n",
        "        self.f = f\n",
        "        self.parameters = parameter_dict\n",
        "        self.n_jobs = n_jobs\n",
        "\n",
        "        self.parameter_key = list(parameter_dict.keys())\n",
        "        self.parameter_value = list(parameter_dict.values())\n",
        "        self.parameter_type = [p[0] for p in self.parameter_value]\n",
        "        self.parameter_range = [p[1] for p in self.parameter_value]\n",
        "\n",
        "        self.history = []\n",
        "        self.header =   'Evaluation \\t Proposed point \\t  Current eval. \\t  Best eval. \\t        Exact EI: StdDev. x \\t Approx EI: StdDev. x '\n",
        "        self.template = '{:3}\\t {}\\t {:3}\\t {:3}\\t {:3}\\t {:3}'\n",
        "\n",
        "    def acqfuncExact(self, xnew, n_start=n_start_AcqFunc):\n",
        "        new_mean, new_var = self.GP.predict(xnew, return_std=True)\n",
        "        new_std = np.sqrt(new_var + eps)\n",
        "        dm, ds = self.GP.AcqGrad(xnew)\n",
        "        f, df = self.A.d_eval_stp(self.tau, new_mean, new_std, ds=ds, dm=dm, nu=3.0)\n",
        "\n",
        "        return -f, -df\n",
        "   \n",
        "    def acqfuncApprox(self, xnew, n_start=n_start_AcqFunc):\n",
        "        new_mean, new_var = self.GP.predict(xnew, return_std=True)\n",
        "        new_std = np.sqrt(new_var + eps)\n",
        "        dm, ds = self.GP.AcqGrad(xnew)\n",
        "        f, df = self.A.d_eval_stp(self.tau, new_mean, new_std, ds=ds, dm=dm, nu=3.0)\n",
        "\n",
        "        return -f\n",
        "\n",
        "    def d_optimizeAcq(self, method='L-BFGS-B', n_start=n_start_AcqFunc):\n",
        "        start_points_dict = [self._sampleParam() for i in range(n_start)]\n",
        "        start_points_arr = np.array([list(s.values())\n",
        "                                     for s in start_points_dict])\n",
        "        x_best = np.empty((n_start, len(self.parameter_key)))\n",
        "        f_best = np.empty((n_start,))\n",
        "        opt = Parallel(n_jobs=self.n_jobs)(delayed(minimize)(self.acqfuncExact,\n",
        "                                                                 x0=start_point,\n",
        "                                                                 method=method,\n",
        "                                                                 jac = True,\n",
        "                                                                 bounds=self.parameter_range) for start_point in\n",
        "                                               start_points_arr)\n",
        "        x_best = np.array([res.x for res in opt])\n",
        "        f_best = np.array([np.atleast_1d(res.fun)[0] for res in opt])\n",
        "        f_best_min = min(f_best)\n",
        "\n",
        "        self.x_best = x_best\n",
        "        self.f_best = f_best\n",
        "        self.f_best_min = f_best_min\n",
        "        self.x_best_std = np.std(x_best)\n",
        "        self.best = x_best[np.argmin(f_best)]\n",
        "        self.start_points_arr = start_points_arr\n",
        "        self.history.append(self.x_best_std)\n",
        "\n",
        "        x_best_gp = np.empty((n_start, len(self.parameter_key)))\n",
        "        f_best_gp = np.empty((n_start,))\n",
        "        opt_gp = Parallel(n_jobs=self.n_jobs)(delayed(minimize)(self.acqfuncApprox,\n",
        "                                                                 x0=start_point,\n",
        "                                                                 method=method,\n",
        "                                                                 jac = False,\n",
        "                                                                 bounds=self.parameter_range) for start_point in\n",
        "                                               start_points_arr)\n",
        "        x_best_gp = np.array([res.x for res in opt_gp])\n",
        "        f_best_gp = np.array([np.atleast_1d(res.fun)[0] for res in opt_gp])\n",
        "        f_best_min_gp = min(f_best_gp)\n",
        "\n",
        "        self.x_best_gp = x_best_gp\n",
        "        self.f_best_gp = f_best_gp\n",
        "        self.f_best_min_gp = f_best_min_gp\n",
        "        self.x_best_std_gp = np.std(x_best_gp)\n",
        "        self.best_gp = x_best_gp[np.argmin(f_best_gp)]\n",
        "        self.start_points_arr = start_points_arr\n",
        "        self.history.append(self.x_best_std_gp)\n",
        "    \n",
        "    def _printInit(self):\n",
        "        print(self.header)\n",
        "        for init_eval in range(self.init_evals):\n",
        "            print(self.template.format('init', self.GP.X[init_eval], inverse * self.GP.y[init_eval], inverse * self.tau, '', ''))\n",
        "      \n",
        "    def _printCurrent(self):\n",
        "        OKGREEN = '\\033[92m'\n",
        "        ENDC = '\\033[0m'\n",
        "        BOLD = '\\033[1m'\n",
        "        eval = str(len(self.GP.y) - self.init_evals)\n",
        "        proposed = str(self.best)\n",
        "        curr_eval = str(inverse * self.GP.y[-1])\n",
        "        curr_best = str(inverse * self.tau)\n",
        "        min_acqfunc = str(self.f_best_min)\n",
        "        min_acqfunc_gp = str(self.f_best_min_gp)\n",
        "        x_best_std = str(self.x_best_std)\n",
        "        x_best_std_gp = str(self.x_best_std_gp)\n",
        "        if float(curr_eval) <= float(curr_best):\n",
        "            eval = BOLD + OKGREEN + eval + ENDC\n",
        "            proposed = BOLD + OKGREEN + proposed + ENDC\n",
        "            curr_eval = BOLD + OKGREEN + curr_eval + ENDC\n",
        "            curr_best = BOLD + OKGREEN + curr_best + ENDC\n",
        "            x_best_std = BOLD + OKGREEN + x_best_std + ENDC\n",
        "            x_best_std_gp = BOLD + OKGREEN + x_best_std_gp + ENDC\n",
        "        print(self.template.format(eval, proposed, curr_eval, curr_best, x_best_std, x_best_std_gp))\n",
        "\n",
        "    def run(self, max_iter=10, init_evals=3, resume=False):\n",
        "        \n",
        "        if not resume:\n",
        "            self.init_evals = init_evals\n",
        "            self._firstRun(self.init_evals)\n",
        "            self._printInit()\n",
        "        for iteration in range(max_iter):\n",
        "            self.d_optimizeAcq()\n",
        "            self.updateGP()\n",
        "            self._printCurrent()\n"
      ],
      "metadata": {
        "id": "3gxt4mo3xQTY"
      },
      "execution_count": 10,
      "outputs": []
    },
    {
      "cell_type": "code",
      "execution_count": 11,
      "metadata": {
        "id": "qXIKGuXVGEg2"
      },
      "outputs": [],
      "source": [
        "###Reproducible set-seeds:\n",
        "\n",
        "run_num_1 = 1\n",
        "run_num_2 = 2\n",
        "run_num_3 = 3\n",
        "run_num_4 = 4\n",
        "run_num_5 = 5\n",
        "run_num_6 = 6\n",
        "run_num_7 = 7\n",
        "run_num_8 = 8\n",
        "run_num_9 = 9\n",
        "run_num_10 = 10\n",
        "run_num_11 = 11\n",
        "run_num_12 = 12\n",
        "run_num_13 = 13\n",
        "run_num_14 = 14\n",
        "run_num_15 = 15\n",
        "run_num_16 = 16\n",
        "run_num_17 = 17\n",
        "run_num_18 = 18\n",
        "run_num_19 = 19\n",
        "run_num_20 = 20\n"
      ]
    },
    {
      "cell_type": "code",
      "execution_count": 12,
      "metadata": {
        "colab": {
          "base_uri": "https://localhost:8080/"
        },
        "id": "JEhagQmnTVIK",
        "outputId": "90210215-7a9b-4f0b-9d42-9840d6921d4c"
      },
      "outputs": [
        {
          "output_type": "execute_result",
          "data": {
            "text/plain": [
              "1663074727.31128"
            ]
          },
          "metadata": {},
          "execution_count": 12
        }
      ],
      "source": [
        "start_gp = time.time()\n",
        "start_gp\n"
      ]
    },
    {
      "cell_type": "code",
      "execution_count": 13,
      "metadata": {
        "colab": {
          "base_uri": "https://localhost:8080/"
        },
        "id": "aH0YSTXufD1v",
        "outputId": "65182f28-1c3f-40f1-d5cd-ee4c05faa52f"
      },
      "outputs": [
        {
          "output_type": "stream",
          "name": "stdout",
          "text": [
            "Evaluation \t Proposed point \t  Current eval. \t  Best eval. \t        Exact EI: StdDev. x \t Approx EI: StdDev. x \n",
            "init\t [-0.84969467  2.25612281]\t 5.812071182014687\t 1.275455677703416\t    \t    \n",
            "init\t [-5.1188288  -2.02411446]\t 30.299447634857913\t 1.275455677703416\t    \t    \n",
            "init\t [-3.61721968 -4.17445279]\t 30.510334291475417\t 1.275455677703416\t    \t    \n",
            "init\t [-3.21269544 -1.58145816]\t 12.822421857501787\t 1.275455677703416\t    \t    \n",
            "init\t [-1.05710106  0.39748336]\t 1.275455677703416\t 1.275455677703416\t    \t    \n",
            "1  \t [ 4.04077223 -4.24914728]\t 34.383092818836786\t 1.275455677703416\t 3.4615340482994683\t 4.12053925323066\n",
            "2  \t [5.12       3.36783542]\t 37.55671539878192\t 1.275455677703416\t 3.3761519423096646\t 3.7126007147366855\n",
            "3  \t [ 2.40146578 -0.17378187]\t 5.797238022053689\t 1.275455677703416\t 3.3804108271894355\t 3.3324141998333245\n",
            "4  \t [-5.12        4.36680096]\t 45.28335059684448\t 1.275455677703416\t 3.1771683939893958\t 3.9885291915932743\n",
            "5  \t [1.30762101 5.12      ]\t 27.924272700727766\t 1.275455677703416\t 2.568044680639208\t 3.274515751184371\n",
            "6  \t [ 0.11350659 -5.12      ]\t 26.227283746285483\t 1.275455677703416\t 2.586925101402892\t 2.907078991922235\n",
            "7  \t [ 5.12       -0.35492881]\t 26.340374458239882\t 1.275455677703416\t 3.1175682313593205\t 3.1549792283013027\n",
            "8  \t [-4.09914958  1.27447471]\t 18.427313036230387\t 1.275455677703416\t 3.329072436339557\t 2.882090154847563\n",
            "9  \t [ 0.18253625 -1.82513285]\t 3.3644293895113337\t 1.275455677703416\t 2.747118095918861\t 2.9714208598565564\n",
            "10 \t [2.1257283  2.01080041]\t 8.56203906759818\t 1.275455677703416\t 3.0517466968632827\t 2.8537260084553697\n",
            "11 \t [-1.5612427   4.21046832]\t 20.165522266846033\t 1.275455677703416\t 2.4979285042615684\t 3.0330086481097576\n",
            "12 \t [ 1.62273909 -2.08368138]\t 6.975010247617391\t 1.275455677703416\t 2.980596770290676\t 2.6084816317630857\n",
            "\u001b[1m\u001b[92m13\u001b[0m\t \u001b[1m\u001b[92m[-0.9517344  -0.11397191]\u001b[0m\t \u001b[1m\u001b[92m0.9187879666699369\u001b[0m\t \u001b[1m\u001b[92m0.9187879666699369\u001b[0m\t \u001b[1m\u001b[92m2.26485694548374\u001b[0m\t \u001b[1m\u001b[92m1.9863785758630996\u001b[0m\n",
            "14 \t [-1.08114446  0.02222965]\t 1.1693675113417332\t 0.9187879666699369\t 2.8866082504755446\t 2.9128099188131276\n",
            "\u001b[1m\u001b[92m15\u001b[0m\t \u001b[1m\u001b[92m[0.12233157 0.01163404]\u001b[0m\t \u001b[1m\u001b[92m0.015100364933341753\u001b[0m\t \u001b[1m\u001b[92m0.015100364933341753\u001b[0m\t \u001b[1m\u001b[92m2.38501340756467\u001b[0m\t \u001b[1m\u001b[92m2.1586579523604206\u001b[0m\n",
            "16 \t [ 0.29481538 -0.06423142]\t 0.09104178187249454\t 0.015100364933341753\t 2.6795825739317656\t 2.570439144231567\n",
            "17 \t [-0.76202048 -2.77807155]\t 8.298356742727083\t 0.015100364933341753\t 2.8109153634835695\t 2.4162631351255524\n",
            "18 \t [ 0.68339336 -0.59495674]\t 0.8210000079225835\t 0.015100364933341753\t 3.044040226473476\t 2.566831546384552\n",
            "19 \t [ 0.51858573 -0.43430518]\t 0.4575521487249966\t 0.015100364933341753\t 3.2261735025008456\t 3.166729727129771\n",
            "20 \t [0.04286128 0.21406383]\t 0.04766041125584817\t 0.015100364933341753\t 2.965056032363059\t 2.8225624199731794\n"
          ]
        }
      ],
      "source": [
        "### EXACT GP EI GRADIENTS\n",
        "\n",
        "np.random.seed(run_num_1)\n",
        "surrogate_gp_1 = dGaussianProcess(cov_func, optimize=opt)\n",
        "\n",
        "gp_1 = dGPGO_gp(surrogate_gp_1, Acquisition_grad(util_gp), objfunc, param)\n",
        "gp_1.run(init_evals=n_init, max_iter=iters)\n"
      ]
    },
    {
      "cell_type": "code",
      "execution_count": 14,
      "metadata": {
        "id": "wTxsSZxFGBB5",
        "colab": {
          "base_uri": "https://localhost:8080/"
        },
        "outputId": "a0146b43-43d7-4aff-c5f8-ab3ab3cbe746"
      },
      "outputs": [
        {
          "output_type": "stream",
          "name": "stdout",
          "text": [
            "Evaluation \t Proposed point \t  Current eval. \t  Best eval. \t        Exact EI: StdDev. x \t Approx EI: StdDev. x \n",
            "init\t [-0.6554122  -4.85451539]\t 23.995884788327533\t 0.6972563370202991\t    \t    \n",
            "init\t [ 0.50854377 -0.6622987 ]\t 0.6972563370202991\t 0.6972563370202991\t    \t    \n",
            "init\t [-0.81543371 -1.73737143]\t 3.683391625826377\t 0.6972563370202991\t    \t    \n",
            "init\t [-3.02439799  1.2213347 ]\t 10.638641624769724\t 0.6972563370202991\t    \t    \n",
            "init\t [-2.05153614 -2.3876887 ]\t 9.90985788235879\t 0.6972563370202991\t    \t    \n",
            "1  \t [5.12 5.12]\t 52.4288\t 0.6972563370202991\t 3.7957328359736677\t 3.7958679592709386\n",
            "2  \t [ 4.84260546 -3.96517156]\t 39.173413151255836\t 0.6972563370202991\t 2.906684316901241\t 3.9492267168509643\n",
            "3  \t [-0.14724304  5.12      ]\t 26.236080513371153\t 0.6972563370202991\t 3.7640494405968385\t 3.9362689315257664\n",
            "4  \t [4.19814932 0.55652488]\t 17.934177627777412\t 0.6972563370202991\t 3.4628159406660157\t 3.3708187194042867\n",
            "5  \t [-5.12 -5.12]\t 52.4288\t 0.6972563370202991\t 3.5014110040885877\t 3.323595676555726\n",
            "6  \t [-4.17926789  4.68338015]\t 39.400329749918235\t 0.6972563370202991\t 3.163542295562318\t 3.7019671026575502\n",
            "7  \t [0.7471435  1.53043763]\t 2.900462765671091\t 0.6972563370202991\t 2.9402648440391035\t 3.0303144170687113\n",
            "8  \t [ 1.77638391 -1.94396303]\t 6.934532042257924\t 0.6972563370202991\t 2.6380484606256025\t 2.527896305306825\n",
            "9  \t [-5.12       -1.21245672]\t 27.684451309337202\t 0.6972563370202991\t 2.7456733080959754\t 2.875110362475384\n",
            "10 \t [2.66480547 2.85874093]\t 15.273587862635122\t 0.6972563370202991\t 2.997048242813179\t 2.79708620745311\n",
            "\u001b[1m\u001b[92m11\u001b[0m\t \u001b[1m\u001b[92m[-0.56834771  0.36035123]\u001b[0m\t \u001b[1m\u001b[92m0.4528721286272595\u001b[0m\t \u001b[1m\u001b[92m0.4528721286272595\u001b[0m\t \u001b[1m\u001b[92m2.895514786551052\u001b[0m\t \u001b[1m\u001b[92m2.86034444825939\u001b[0m\n",
            "12 \t [ 2.00835523 -5.08476475]\t 29.888323307047738\t 0.4528721286272595\t 2.393759077938238\t 2.714994651856445\n",
            "13 \t [-0.7555504   2.15073472]\t 5.196516256768336\t 0.4528721286272595\t 2.9929124395451843\t 2.926851057480021\n",
            "\u001b[1m\u001b[92m14\u001b[0m\t \u001b[1m\u001b[92m[-0.2544822  -0.04694352]\u001b[0m\t \u001b[1m\u001b[92m0.06696488350738417\u001b[0m\t \u001b[1m\u001b[92m0.06696488350738417\u001b[0m\t \u001b[1m\u001b[92m3.001761361463484\u001b[0m\t \u001b[1m\u001b[92m2.9634873456123065\u001b[0m\n",
            "\u001b[1m\u001b[92m15\u001b[0m\t \u001b[1m\u001b[92m[-0.0124081  -0.11429157]\u001b[0m\t \u001b[1m\u001b[92m0.013216524303239096\u001b[0m\t \u001b[1m\u001b[92m0.013216524303239096\u001b[0m\t \u001b[1m\u001b[92m2.808740395982199\u001b[0m\t \u001b[1m\u001b[92m2.8129398820860936\u001b[0m\n",
            "16 \t [ 0.59903663 -0.1504516 ]\t 0.3814805640890503\t 0.013216524303239096\t 2.7450836943964028\t 2.7449776453713937\n",
            "17 \t [-0.58950883  0.03626317]\t 0.3488356734172636\t 0.013216524303239096\t 2.957313026246822\t 2.9112250426162065\n",
            "18 \t [ 0.15067966 -0.16326294]\t 0.049359147509132686\t 0.013216524303239096\t 2.8461897012122575\t 2.55231500672486\n",
            "19 \t [ 0.10157212 -0.15327393]\t 0.033809793002458205\t 0.013216524303239096\t 2.743685004344649\t 2.727269644513286\n",
            "20 \t [-0.31202725 -0.03270929]\t 0.09843089988300749\t 0.013216524303239096\t 2.776016222119206\t 2.5957974138923703\n"
          ]
        }
      ],
      "source": [
        "### EXACT GP EI GRADIENTS\n",
        "\n",
        "np.random.seed(run_num_2)\n",
        "surrogate_gp_2 = dGaussianProcess(cov_func, optimize=opt)\n",
        "\n",
        "gp_2 = dGPGO_gp(surrogate_gp_2, Acquisition_grad(util_gp), objfunc, param)\n",
        "gp_2.run(init_evals=n_init, max_iter=iters)\n"
      ]
    },
    {
      "cell_type": "code",
      "execution_count": 15,
      "metadata": {
        "id": "-dgzIrUIGCGT",
        "colab": {
          "base_uri": "https://localhost:8080/"
        },
        "outputId": "5f80ad69-c58f-4720-f1fe-28bc716a4f21"
      },
      "outputs": [
        {
          "output_type": "stream",
          "name": "stdout",
          "text": [
            "Evaluation \t Proposed point \t  Current eval. \t  Best eval. \t        Exact EI: StdDev. x \t Approx EI: StdDev. x \n",
            "init\t [0.52017052 2.1314337 ]\t 4.813587005218131\t 4.59675431006429\t    \t    \n",
            "init\t [-2.14113547  0.11087468]\t 4.59675431006429\t 4.59675431006429\t    \t    \n",
            "init\t [4.02377681 4.05804123]\t 32.65847846685941\t 4.59675431006429\t    \t    \n",
            "init\t [-3.83400642 -2.99783293]\t 23.686607498512902\t 4.59675431006429\t    \t    \n",
            "init\t [-4.59297584 -0.6061072 ]\t 21.462792989409664\t 4.59675431006429\t    \t    \n",
            "1  \t [ 2.87036899 -1.98289163]\t 12.170877343622498\t 4.59675431006429\t 2.104074823324807\t 3.5140540704745677\n",
            "2  \t [-3.33114862  5.05305125]\t 36.62987805318713\t 4.59675431006429\t 2.750637217698905\t 4.025612040110902\n",
            "3  \t [-0.40701955 -2.40839967]\t 5.966053860772153\t 4.59675431006429\t 3.019694334800697\t 3.6828679063523317\n",
            "4  \t [ 1.47776527 -5.12      ]\t 28.398190192382167\t 4.59675431006429\t 2.961311799291686\t 3.584185929402712\n",
            "5  \t [5.12       0.52669006]\t 26.491802422845403\t 4.59675431006429\t 2.741650186397513\t 3.3011646242958648\n",
            "6  \t [ 5.12       -4.54672744]\t 46.88713045033706\t 4.59675431006429\t 2.9091832927294194\t 3.2635268623520406\n",
            "7  \t [0.43977767 5.12      ]\t 26.407804395387412\t 4.59675431006429\t 3.1942586885765114\t 3.060723694745456\n",
            "8  \t [-5.0836316   2.25842666]\t 30.943801263825215\t 4.59675431006429\t 3.0134531199652943\t 2.9743324356636047\n",
            "9  \t [-5.12 -5.12]\t 52.4288\t 4.59675431006429\t 2.447688256923259\t 2.70478513477936\n",
            "10 \t [-1.63312333 -5.12      ]\t 28.881491806113996\t 4.59675431006429\t 2.9442977914146593\t 3.12850761910829\n",
            "\u001b[1m\u001b[92m11\u001b[0m\t \u001b[1m\u001b[92m[ 0.6863445  -0.06583454]\u001b[0m\t \u001b[1m\u001b[92m0.47540295569446683\u001b[0m\t \u001b[1m\u001b[92m0.47540295569446683\u001b[0m\t \u001b[1m\u001b[92m2.7601003626203706\u001b[0m\t \u001b[1m\u001b[92m1.97427629497738\u001b[0m\n",
            "12 \t [2.03336922 0.59358097]\t 4.48692873954933\t 0.47540295569446683\t 2.6755912528194137\t 2.4671416415184977\n",
            "\u001b[1m\u001b[92m13\u001b[0m\t \u001b[1m\u001b[92m[ 0.08814861 -0.27328514]\u001b[0m\t \u001b[1m\u001b[92m0.08245494556172624\u001b[0m\t \u001b[1m\u001b[92m0.08245494556172624\u001b[0m\t \u001b[1m\u001b[92m2.919118829362675\u001b[0m\t \u001b[1m\u001b[92m2.834072527638274\u001b[0m\n",
            "14 \t [-1.7668841   2.37159498]\t 8.746342204271771\t 0.08245494556172624\t 2.525104101184945\t 2.304135374287531\n",
            "15 \t [ 0.56754293 -0.6800598 ]\t 0.7845863196832996\t 0.08245494556172624\t 2.659345187498248\t 2.5362172972749693\n",
            "16 \t [-0.48502498  0.3613312 ]\t 0.36580946733607134\t 0.08245494556172624\t 2.8688421656075196\t 2.4772440943851852\n",
            "\u001b[1m\u001b[92m17\u001b[0m\t \u001b[1m\u001b[92m[-0.18517122  0.00671421]\u001b[0m\t \u001b[1m\u001b[92m0.034333460803412416\u001b[0m\t \u001b[1m\u001b[92m0.034333460803412416\u001b[0m\t \u001b[1m\u001b[92m2.601849535199268\u001b[0m\t \u001b[1m\u001b[92m2.3226906017009865\u001b[0m\n",
            "18 \t [ 0.6025424  -0.72696181]\t 0.8915308105022134\t 0.034333460803412416\t 2.959335866787876\t 2.7877649913947646\n",
            "19 \t [ 0.08714777 -0.25314589]\t 0.07167757708655759\t 0.034333460803412416\t 2.7760652087466973\t 2.6372069194423107\n",
            "20 \t [ 0.10585361 -0.26290993]\t 0.08032661637993435\t 0.034333460803412416\t 2.2724270502553012\t 1.8616706366837292\n"
          ]
        }
      ],
      "source": [
        "### EXACT GP EI GRADIENTS\n",
        "\n",
        "np.random.seed(run_num_3)\n",
        "surrogate_gp_3 = dGaussianProcess(cov_func, optimize=opt)\n",
        "\n",
        "gp_3 = dGPGO_gp(surrogate_gp_3, Acquisition_grad(util_gp), objfunc, param)\n",
        "gp_3.run(init_evals=n_init, max_iter=iters)\n"
      ]
    },
    {
      "cell_type": "code",
      "execution_count": 16,
      "metadata": {
        "id": "hOtG-2sCGCKS",
        "colab": {
          "base_uri": "https://localhost:8080/"
        },
        "outputId": "b4f3f880-996c-4b50-bdf0-a4d30fc0d231"
      },
      "outputs": [
        {
          "output_type": "stream",
          "name": "stdout",
          "text": [
            "Evaluation \t Proposed point \t  Current eval. \t  Best eval. \t        Exact EI: StdDev. x \t Approx EI: StdDev. x \n",
            "init\t [4.78238555 0.48365823]\t 23.1051368481516\t 6.844040613967918\t    \t    \n",
            "init\t [4.84028785 2.19971578]\t 28.267135924302462\t 6.844040613967918\t    \t    \n",
            "init\t [ 2.02474316 -2.90724357]\t 12.551650027390728\t 6.844040613967918\t    \t    \n",
            "init\t [ 4.87705042 -5.05620219]\t 49.3508013219099\t 6.844040613967918\t    \t    \n",
            "init\t [-2.52946061 -0.66773471]\t 6.844040613967918\t 6.844040613967918\t    \t    \n",
            "1  \t [-1.14334581  4.64643194]\t 22.896569443900606\t 6.844040613967918\t 2.6967167630241695\t 3.8119206631973417\n",
            "2  \t [-5.12 -5.12]\t 52.4288\t 6.844040613967918\t 3.8450949628733193\t 3.3603866955750537\n",
            "3  \t [-0.95819369 -5.12      ]\t 27.132535153656406\t 6.844040613967918\t 3.373058072763016\t 3.5864170451057897\n",
            "\u001b[1m\u001b[92m4\u001b[0m\t \u001b[1m\u001b[92m[0.65712638 1.17928828]\u001b[0m\t \u001b[1m\u001b[92m1.8225359163068036\u001b[0m\t \u001b[1m\u001b[92m1.8225359163068036\u001b[0m\t \u001b[1m\u001b[92m3.0789255672248483\u001b[0m\t \u001b[1m\u001b[92m3.637108111796467\u001b[0m\n",
            "5  \t [-5.12        2.45166061]\t 32.22503973412286\t 1.8225359163068036\t 2.878338061771088\t 3.2141520041794145\n",
            "6  \t [2.62683686 5.12      ]\t 33.11467188409872\t 1.8225359163068036\t 3.2089146110935887\t 2.936923335306099\n",
            "7  \t [-5.12       -1.41933157]\t 28.22890209174905\t 1.8225359163068036\t 2.438297967935166\t 2.1249590817265047\n",
            "8  \t [-1.93436101  1.81231098]\t 7.026223610960477\t 1.8225359163068036\t 2.641650577106239\t 2.499005970324833\n",
            "\u001b[1m\u001b[92m9\u001b[0m\t \u001b[1m\u001b[92m[-0.06593452 -0.50974255]\u001b[0m\t \u001b[1m\u001b[92m0.26418482982836955\u001b[0m\t \u001b[1m\u001b[92m0.26418482982836955\u001b[0m\t \u001b[1m\u001b[92m2.559188948854714\u001b[0m\t \u001b[1m\u001b[92m2.8590892403451464\u001b[0m\n",
            "10 \t [-0.13644175 -1.39285452]\t 1.9586600521716993\t 0.26418482982836955\t 3.3248027213129534\t 3.448818536289971\n",
            "11 \t [ 1.6017237  -0.02157423]\t 2.5659842449506587\t 0.26418482982836955\t 3.199699012068786\t 3.569037077065611\n",
            "12 \t [1.22032927 2.44587097]\t 7.471488333966715\t 0.26418482982836955\t 2.870534625558852\t 3.1611668466068825\n",
            "13 \t [-2.29405036 -2.81827446]\t 13.205337980004686\t 0.26418482982836955\t 2.663062259177642\t 3.4160205405741086\n",
            "14 \t [-3.70790779  5.02704623]\t 39.019773922718414\t 0.26418482982836955\t 2.389912316872003\t 2.5378502207366624\n",
            "15 \t [ 5.12       -2.02663261]\t 30.321639744330753\t 0.26418482982836955\t 3.3039126597027852\t 3.1487306645393383\n",
            "\u001b[1m\u001b[92m16\u001b[0m\t \u001b[1m\u001b[92m[-0.15997454  0.07225953]\u001b[0m\t \u001b[1m\u001b[92m0.0308132914832765\u001b[0m\t \u001b[1m\u001b[92m0.0308132914832765\u001b[0m\t \u001b[1m\u001b[92m2.86564682487941\u001b[0m\t \u001b[1m\u001b[92m2.7437525066983053\u001b[0m\n",
            "17 \t [-0.45726366  0.49062522]\t 0.44980316768853523\t 0.0308132914832765\t 2.819471994436835\t 2.5320981855044447\n",
            "18 \t [ 0.16192713 -0.2769868 ]\t 0.10294208209237551\t 0.0308132914832765\t 2.844377445485924\t 2.952054143836403\n",
            "19 \t [ 0.2399271 -0.3593033]\t 0.18666387272034657\t 0.0308132914832765\t 2.913055919313197\t 2.8303171837276224\n",
            "20 \t [ 0.2017408  -0.33876602]\t 0.15546176544211526\t 0.0308132914832765\t 2.645640363724149\t 2.4919472027511427\n"
          ]
        }
      ],
      "source": [
        "### EXACT GP EI GRADIENTS\n",
        "\n",
        "np.random.seed(run_num_4)\n",
        "surrogate_gp_4 = dGaussianProcess(cov_func, optimize=opt)\n",
        "\n",
        "gp_4= dGPGO_gp(surrogate_gp_4, Acquisition_grad(util_gp), objfunc, param)\n",
        "gp_4.run(init_evals=n_init, max_iter=iters)\n"
      ]
    },
    {
      "cell_type": "code",
      "execution_count": 17,
      "metadata": {
        "id": "JF_SxcEvGCOl",
        "colab": {
          "base_uri": "https://localhost:8080/"
        },
        "outputId": "f8f21165-f207-4fca-d738-f7dc86fb9eed"
      },
      "outputs": [
        {
          "output_type": "stream",
          "name": "stdout",
          "text": [
            "Evaluation \t Proposed point \t  Current eval. \t  Best eval. \t        Exact EI: StdDev. x \t Approx EI: StdDev. x \n",
            "init\t [-2.84678993  3.79629882]\t 22.516097589112718\t 1.3234068721819314\t    \t    \n",
            "init\t [-3.00319585  4.2865757 ]\t 27.393916517947076\t 1.3234068721819314\t    \t    \n",
            "init\t [-0.11866943  1.14425716]\t 1.3234068721819314\t 1.3234068721819314\t    \t    \n",
            "init\t [2.72289645 0.1886002 ]\t 7.449735113237491\t 1.3234068721819314\t    \t    \n",
            "init\t [-2.08076286 -3.19773462]\t 14.555080786026249\t 1.3234068721819314\t    \t    \n",
            "1  \t [ 4.32895605 -5.09732646]\t 44.722597532365825\t 1.3234068721819314\t 4.399561048911011\t 4.319811055806327\n",
            "2  \t [5.12 5.12]\t 52.4288\t 1.3234068721819314\t 4.137823564374656\t 3.700984398728381\n",
            "3  \t [-5.12       -0.27719042]\t 26.29123452807068\t 1.3234068721819314\t 3.3859550189550243\t 3.695864584894835\n",
            "4  \t [0.99551455 5.11914473]\t 27.1966919681028\t 1.3234068721819314\t 3.420990049291924\t 3.335724510055253\n",
            "5  \t [-5.12 -5.12]\t 52.4288\t 1.3234068721819314\t 3.3380350488761388\t 3.327591763242536\n",
            "6  \t [ 1.26046851 -2.70481137]\t 8.904785400598776\t 1.3234068721819314\t 3.223165193582609\t 3.3784344027452495\n",
            "7  \t [ 5.12       -1.48084119]\t 28.407290616590203\t 1.3234068721819314\t 2.30896134685587\t 2.6210770178174507\n",
            "8  \t [-1.49525357 -0.17185572]\t 2.2653176386572094\t 1.3234068721819314\t 2.9025972853253514\t 3.1638582673962117\n",
            "9  \t [5.12       1.77366603]\t 29.360291197677117\t 1.3234068721819314\t 3.024581283039589\t 3.0174781850391312\n",
            "10 \t [0.68003856 2.17406031]\t 5.188990683067016\t 1.3234068721819314\t 2.7908762907741185\t 2.5430473658280968\n",
            "11 \t [ 0.24957708 -5.12      ]\t 26.2766887172362\t 1.3234068721819314\t 2.82829061153946\t 2.96193970650097\n",
            "12 \t [-1.64465921  1.20461662]\t 4.1560051444735695\t 1.3234068721819314\t 2.437341773045114\t 2.8832859893998823\n",
            "\u001b[1m\u001b[92m13\u001b[0m\t \u001b[1m\u001b[92m[ 0.33345191 -0.54677123]\u001b[0m\t \u001b[1m\u001b[92m0.41014895618799607\u001b[0m\t \u001b[1m\u001b[92m0.41014895618799607\u001b[0m\t \u001b[1m\u001b[92m2.784074673809388\u001b[0m\t \u001b[1m\u001b[92m2.6467726605595616\u001b[0m\n",
            "\u001b[1m\u001b[92m14\u001b[0m\t \u001b[1m\u001b[92m[ 0.13576466 -0.31332156]\u001b[0m\t \u001b[1m\u001b[92m0.11660244236701545\u001b[0m\t \u001b[1m\u001b[92m0.11660244236701545\u001b[0m\t \u001b[1m\u001b[92m2.3471467234978256\u001b[0m\t \u001b[1m\u001b[92m2.4783174682615465\u001b[0m\n",
            "15 \t [ 0.13825126 -0.3159248 ]\t 0.11892188905121455\t 0.11660244236701545\t 2.4440791644736883\t 2.7857391077111022\n",
            "16 \t [ 0.1748166  -0.37281168]\t 0.16954939700659863\t 0.11660244236701545\t 2.8705718586000426\t 2.656946275402195\n",
            "\u001b[1m\u001b[92m17\u001b[0m\t \u001b[1m\u001b[92m[ 0.0792806 -0.2052998]\u001b[0m\t \u001b[1m\u001b[92m0.048433421561488325\u001b[0m\t \u001b[1m\u001b[92m0.048433421561488325\u001b[0m\t \u001b[1m\u001b[92m2.591707293708565\u001b[0m\t \u001b[1m\u001b[92m2.642366655031851\u001b[0m\n",
            "18 \t [ 0.16585189 -0.34991606]\t 0.14994810081979648\t 0.048433421561488325\t 2.760972816286022\t 2.8603258706284436\n",
            "19 \t [ 0.09613835 -0.22475546]\t 0.05975760036214768\t 0.048433421561488325\t 2.609895353819463\t 2.7192583672528667\n",
            "20 \t [ 0.19020259 -0.38584104]\t 0.185050332352658\t 0.048433421561488325\t 2.8252597839069367\t 3.015629336387305\n"
          ]
        }
      ],
      "source": [
        "### EXACT GP EI GRADIENTS\n",
        "\n",
        "np.random.seed(run_num_5)\n",
        "surrogate_gp_5 = dGaussianProcess(cov_func, optimize=opt)\n",
        "\n",
        "gp_5 = dGPGO_gp(surrogate_gp_5, Acquisition_grad(util_gp), objfunc, param)\n",
        "gp_5.run(init_evals=n_init, max_iter=iters)\n"
      ]
    },
    {
      "cell_type": "code",
      "execution_count": 18,
      "metadata": {
        "id": "-kDxZtJsGCR3",
        "colab": {
          "base_uri": "https://localhost:8080/"
        },
        "outputId": "f0757dcd-235a-407b-b22c-2c688238e107"
      },
      "outputs": [
        {
          "output_type": "stream",
          "name": "stdout",
          "text": [
            "Evaluation \t Proposed point \t  Current eval. \t  Best eval. \t        Exact EI: StdDev. x \t Approx EI: StdDev. x \n",
            "init\t [ 4.02288795 -1.72052679]\t 19.143839911819178\t 0.7844720799352826\t    \t    \n",
            "init\t [ 3.28938622 -4.69302655]\t 32.84455992822337\t 0.7844720799352826\t    \t    \n",
            "init\t [-4.0175956   0.97333314]\t 17.088451781196223\t 0.7844720799352826\t    \t    \n",
            "init\t [ 0.30532979 -0.83141193]\t 0.7844720799352826\t 0.7844720799352826\t    \t    \n",
            "init\t [-1.68542362  1.25459899]\t 4.414671405342624\t 0.7844720799352826\t    \t    \n",
            "1  \t [5.12 5.12]\t 52.4288\t 0.7844720799352826\t 4.082144197899327\t 3.859837555501155\n",
            "2  \t [-3.74535283 -5.12      ]\t 40.24206779776266\t 0.7844720799352826\t 3.6745659950302687\t 3.681619077117107\n",
            "3  \t [0.08402923 5.12      ]\t 26.221460911676587\t 0.7844720799352826\t 3.285978802763195\t 3.467448040363503\n",
            "4  \t [2.56669879 1.74876145]\t 9.646109280504115\t 0.7844720799352826\t 3.199224950022363\t 3.931327494335471\n",
            "5  \t [-0.25046164 -3.54643381]\t 12.639923790732329\t 0.7844720799352826\t 2.933774936582473\t 3.2794109611314908\n",
            "6  \t [-3.60506296  4.55551311]\t 33.749178580091325\t 0.7844720799352826\t 3.0497529044779044\t 3.3918238203287046\n",
            "7  \t [-2.88953851 -1.80199872]\t 11.596632177015174\t 0.7844720799352826\t 3.1859610579047115\t 3.1417713204935542\n",
            "8  \t [5.12       1.45875086]\t 28.342354070382214\t 0.7844720799352826\t 3.153698761935293\t 3.046524202827272\n",
            "\u001b[1m\u001b[92m9\u001b[0m\t \u001b[1m\u001b[92m[0.28551527 0.33616171]\u001b[0m\t \u001b[1m\u001b[92m0.19452366007912245\u001b[0m\t \u001b[1m\u001b[92m0.19452366007912245\u001b[0m\t \u001b[1m\u001b[92m2.544403505087157\u001b[0m\t \u001b[1m\u001b[92m2.6256971049238973\u001b[0m\n",
            "10 \t [ 0.85150011 -0.31221631]\t 0.822531454655845\t 0.19452366007912245\t 2.6926636419564733\t 2.9373279029933967\n",
            "11 \t [-5.12       -2.35737415]\t 31.771612877857287\t 0.19452366007912245\t 3.3670583808614216\t 3.177763882723054\n",
            "12 \t [0.13271092 1.8672264 ]\t 3.504146625504916\t 0.19452366007912245\t 2.7570117118861948\t 2.702518786007109\n",
            "13 \t [-0.36499576 -0.44963711]\t 0.3353954374319864\t 0.19452366007912245\t 2.4429894579664624\t 2.2266841468090552\n",
            "14 \t [ 1.17849596 -0.98822776]\t 2.3654468345450406\t 0.19452366007912245\t 2.8406222502260494\t 2.9318147225553854\n",
            "15 \t [ 0.19922537 -1.04129494]\t 1.1239859057174766\t 0.19452366007912245\t 2.9802318263873926\t 2.9741480094417683\n",
            "16 \t [ 0.05010014 -0.45867761]\t 0.21289517654625723\t 0.19452366007912245\t 2.780469985414846\t 2.8498355156613857\n",
            "17 \t [ 0.23283839 -0.53675817]\t 0.3423230505699388\t 0.19452366007912245\t 3.3478335264030603\t 3.2933481479574027\n",
            "18 \t [2.47460161 3.8702899 ]\t 21.102797040457943\t 0.19452366007912245\t 3.050201886212364\t 2.820218908536377\n",
            "19 \t [-1.25224845  0.1750324 ]\t 1.5987625081212025\t 0.19452366007912245\t 3.0447060054209496\t 3.0369947742124657\n",
            "\u001b[1m\u001b[92m20\u001b[0m\t \u001b[1m\u001b[92m[ 0.01186551 -0.29030707]\u001b[0m\t \u001b[1m\u001b[92m0.08441898675866993\u001b[0m\t \u001b[1m\u001b[92m0.08441898675866993\u001b[0m\t \u001b[1m\u001b[92m2.8706552799896614\u001b[0m\t \u001b[1m\u001b[92m2.9358959322780414\u001b[0m\n"
          ]
        }
      ],
      "source": [
        "### EXACT GP EI GRADIENTS\n",
        "\n",
        "np.random.seed(run_num_6)\n",
        "surrogate_gp_6 = dGaussianProcess(cov_func, optimize=opt)\n",
        "\n",
        "gp_6 = dGPGO_gp(surrogate_gp_6, Acquisition_grad(util_gp), objfunc, param)\n",
        "gp_6.run(init_evals=n_init, max_iter=iters)\n"
      ]
    },
    {
      "cell_type": "code",
      "execution_count": 19,
      "metadata": {
        "id": "fKB8MCD_GCVI",
        "colab": {
          "base_uri": "https://localhost:8080/"
        },
        "outputId": "b1cf0e50-4a70-4bc3-ebf9-17ff2ad0a572"
      },
      "outputs": [
        {
          "output_type": "stream",
          "name": "stdout",
          "text": [
            "Evaluation \t Proposed point \t  Current eval. \t  Best eval. \t        Exact EI: StdDev. x \t Approx EI: StdDev. x \n",
            "init\t [-4.33860312  2.86636843]\t 27.039544996254122\t 5.622519010932044\t    \t    \n",
            "init\t [-0.63068947  2.28828342]\t 5.634010222398341\t 5.622519010932044\t    \t    \n",
            "init\t [4.8946126  0.39419771]\t 24.112624368867845\t 5.622519010932044\t    \t    \n",
            "init\t [ 0.01147355 -4.38219639]\t 19.20377688135857\t 5.622519010932044\t    \t    \n",
            "init\t [-2.37118484e+00 -1.20319155e-03]\t 5.622519010932044\t 5.622519010932044\t    \t    \n",
            "1  \t [-5.12 -5.12]\t 52.4288\t 5.622519010932044\t 2.86852963193626\t 3.1979968282644236\n",
            "2  \t [3.33590081 5.12      ]\t 37.342634208733344\t 5.622519010932044\t 3.792819009538688\t 3.7005928624393656\n",
            "3  \t [ 4.5235682  -4.16736717]\t 37.82961837123037\t 5.622519010932044\t 3.2182198221112777\t 3.1730187775361305\n",
            "4  \t [-4.02558214 -1.33646422]\t 17.991448177385568\t 5.622519010932044\t 2.8894146894053065\t 3.046307140328312\n",
            "\u001b[1m\u001b[92m5\u001b[0m\t \u001b[1m\u001b[92m[ 1.20807972 -0.75572559]\u001b[0m\t \u001b[1m\u001b[92m2.0305777820257194\u001b[0m\t \u001b[1m\u001b[92m2.0305777820257194\u001b[0m\t \u001b[1m\u001b[92m2.9725757756772833\u001b[0m\t \u001b[1m\u001b[92m3.008549838255539\u001b[0m\n",
            "6  \t [1.93980093 1.96894931]\t 7.639589039087927\t 2.0305777820257194\t 3.1227630628081195\t 3.112004235128716\n",
            "7  \t [-1.24967759  5.12      ]\t 27.776094089447255\t 2.0305777820257194\t 2.4447295427254043\t 2.9032262258746155\n",
            "8  \t [-2.38451718 -3.29452686]\t 16.5398294150732\t 2.0305777820257194\t 2.9069839540014635\t 3.0287956963358655\n",
            "\u001b[1m\u001b[92m9\u001b[0m\t \u001b[1m\u001b[92m[-0.36192296 -0.43065098]\u001b[0m\t \u001b[1m\u001b[92m0.3164484967491136\u001b[0m\t \u001b[1m\u001b[92m0.3164484967491136\u001b[0m\t \u001b[1m\u001b[92m3.1936959361233894\u001b[0m\t \u001b[1m\u001b[92m3.3313148100415497\u001b[0m\n",
            "10 \t [ 2.56826025 -2.13220727]\t 11.142268540843556\t 0.3164484967491136\t 3.081205298214053\t 3.2247850786813914\n",
            "11 \t [ 0.03506215 -1.51536719]\t 2.2975670738674676\t 0.3164484967491136\t 2.808796203199467\t 2.7884037035169293\n",
            "12 \t [-5.11292055  5.04211319]\t 51.56486198679663\t 0.3164484967491136\t 3.2047598488318996\t 3.605194620749345\n",
            "13 \t [5.12       3.05929968]\t 35.5737145099482\t 0.3164484967491136\t 3.1627711259976112\t 3.0907719679064987\n",
            "\u001b[1m\u001b[92m14\u001b[0m\t \u001b[1m\u001b[92m[0.08495168 0.051806  ]\u001b[0m\t \u001b[1m\u001b[92m0.009900650280819493\u001b[0m\t \u001b[1m\u001b[92m0.009900650280819493\u001b[0m\t \u001b[1m\u001b[92m2.4363339620877937\u001b[0m\t \u001b[1m\u001b[92m2.616367377056562\u001b[0m\n",
            "15 \t [ 0.24493106 -0.00482261]\t 0.06001448113997865\t 0.009900650280819493\t 3.2537463692664907\t 3.039763275364499\n",
            "16 \t [-0.16728704  0.20834104]\t 0.07139094479620364\t 0.009900650280819493\t 2.318839159726324\t 2.212421665243818\n",
            "17 \t [ 0.2885054  -0.02416889]\t 0.08381950078625039\t 0.009900650280819493\t 2.248170640376508\t 2.7591397703523675\n",
            "18 \t [-0.32558979  0.31462219]\t 0.2049958345313448\t 0.009900650280819493\t 3.2861196056909487\t 3.316409897877218\n",
            "19 \t [0.2201875  0.00570263]\t 0.048515056389770106\t 0.009900650280819493\t 3.0785916624246763\t 3.004514448683992\n",
            "20 \t [ 0.2919772  -0.02750355]\t 0.08600713298273316\t 0.009900650280819493\t 2.7917509449465943\t 2.928788864774628\n"
          ]
        }
      ],
      "source": [
        "### EXACT GP EI GRADIENTS\n",
        "\n",
        "np.random.seed(run_num_7)\n",
        "surrogate_gp_7 = dGaussianProcess(cov_func, optimize=opt)\n",
        "\n",
        "gp_7 = dGPGO_gp(surrogate_gp_7, Acquisition_grad(util_gp), objfunc, param)\n",
        "gp_7.run(init_evals=n_init, max_iter=iters)\n"
      ]
    },
    {
      "cell_type": "code",
      "execution_count": 20,
      "metadata": {
        "id": "4unvifF-GCXp",
        "colab": {
          "base_uri": "https://localhost:8080/"
        },
        "outputId": "de08f871-dd21-4004-8d84-cc1303c83fdc"
      },
      "outputs": [
        {
          "output_type": "stream",
          "name": "stdout",
          "text": [
            "Evaluation \t Proposed point \t  Current eval. \t  Best eval. \t        Exact EI: StdDev. x \t Approx EI: StdDev. x \n",
            "init\t [3.82391708 4.79785639]\t 37.641767782829874\t 0.10287109474532606\t    \t    \n",
            "init\t [3.78055209 0.31596228]\t 14.392406282091054\t 0.10287109474532606\t    \t    \n",
            "init\t [-2.73686192 -5.00327624]\t 32.52318635319257\t 0.10287109474532606\t    \t    \n",
            "init\t [-0.7119993  -0.99992207]\t 1.5067871566831337\t 0.10287109474532606\t    \t    \n",
            "init\t [ 0.23218863 -0.22126801]\t 0.10287109474532606\t 0.10287109474532606\t    \t    \n",
            "1  \t [0.02041459 1.98577863]\t 3.943733542072024\t 0.10287109474532606\t 2.975790249940113\t 3.7347955902068035\n",
            "2  \t [-5.03492225  2.95509263]\t 34.08301446412634\t 0.10287109474532606\t 3.2200948189604968\t 4.188961652486787\n",
            "3  \t [-5.12       -1.47896116]\t 28.40172612269111\t 0.10287109474532606\t 2.70643693872253\t 3.763104582422638\n",
            "4  \t [ 2.57855628 -4.69210849]\t 28.66483461803054\t 0.10287109474532606\t 3.2444663785151198\t 3.733381682679409\n",
            "5  \t [0.12155999 4.9809562 ]\t 24.824701467598562\t 0.10287109474532606\t 3.03381286830629\t 3.081125207247716\n",
            "6  \t [ 5.12       -2.56412597]\t 32.78914196607468\t 0.10287109474532606\t 2.9802396600607435\t 2.91096867132016\n",
            "7  \t [ 1.43239657 -1.75726267]\t 5.139732035260789\t 0.10287109474532606\t 2.8211837418634347\t 2.8604602867902336\n",
            "8  \t [-2.26085933  0.52496983]\t 5.3870782359057\t 0.10287109474532606\t 3.070117435369712\t 3.115802511395018\n",
            "9  \t [-0.62502501 -2.85315332]\t 8.53114012483842\t 0.10287109474532606\t 2.6409198267540686\t 2.672721921394585\n",
            "10 \t [0.84674702 0.23306071]\t 0.7712978061692458\t 0.10287109474532606\t 3.175799568855353\t 2.9097815601564845\n",
            "11 \t [-2.60507102  4.65235553]\t 28.43080699268983\t 0.10287109474532606\t 2.785722712545309\t 3.1796988053525452\n",
            "12 \t [1.98803108 2.25824095]\t 9.051919776580707\t 0.10287109474532606\t 2.5053409993596065\t 2.5014118284938673\n",
            "13 \t [ 0.56324489 -0.19115944]\t 0.35378673904462027\t 0.10287109474532606\t 2.869834836890775\t 2.8870085060841637\n",
            "14 \t [5.11860196 2.27117782]\t 31.35833470135911\t 0.10287109474532606\t 3.0045764544476623\t 3.126435017210628\n",
            "\u001b[1m\u001b[92m15\u001b[0m\t \u001b[1m\u001b[92m[-0.0286015   0.04193915]\u001b[0m\t \u001b[1m\u001b[92m0.002576938007014573\u001b[0m\t \u001b[1m\u001b[92m0.002576938007014573\u001b[0m\t \u001b[1m\u001b[92m2.60906968693337\u001b[0m\t \u001b[1m\u001b[92m2.5683108492119224\u001b[0m\n",
            "16 \t [ 0.48582026 -0.18954356]\t 0.2719480828940556\t 0.002576938007014573\t 2.645095482360647\t 2.8995197578307086\n",
            "17 \t [-5.12 -5.12]\t 52.4288\t 0.002576938007014573\t 2.914534525590575\t 3.168740818256859\n",
            "18 \t [ 0.34008517 -0.1527632 ]\t 0.1389945140355156\t 0.002576938007014573\t 2.9256582338259665\t 2.8292384616422477\n",
            "19 \t [-0.09046963  0.07350908]\t 0.013588337319188105\t 0.002576938007014573\t 2.359570314341371\t 2.393929715737203\n",
            "20 \t [-0.21224325  0.1736005 ]\t 0.07518433244366887\t 0.002576938007014573\t 2.60681197745584\t 2.5059672932256234\n"
          ]
        }
      ],
      "source": [
        "### EXACT GP EI GRADIENTS\n",
        "\n",
        "np.random.seed(run_num_8)\n",
        "surrogate_gp_8 = dGaussianProcess(cov_func, optimize=opt)\n",
        "\n",
        "gp_8 = dGPGO_gp(surrogate_gp_8, Acquisition_grad(util_gp), objfunc, param)\n",
        "gp_8.run(init_evals=n_init, max_iter=iters)\n"
      ]
    },
    {
      "cell_type": "code",
      "execution_count": 21,
      "metadata": {
        "id": "85OIXcg7GCaJ",
        "colab": {
          "base_uri": "https://localhost:8080/"
        },
        "outputId": "2213bfcc-2ee4-4fb9-98ea-99a9d5a355fb"
      },
      "outputs": [
        {
          "output_type": "stream",
          "name": "stdout",
          "text": [
            "Evaluation \t Proposed point \t  Current eval. \t  Best eval. \t        Exact EI: StdDev. x \t Approx EI: StdDev. x \n",
            "init\t [-5.01376866  0.01919582]\t 25.138244697862262\t 7.349882113053805\t    \t    \n",
            "init\t [-0.04328148 -3.74958562]\t 14.061265633999861\t 7.349882113053805\t    \t    \n",
            "init\t [-3.66478248 -2.88195916]\t 21.736319271030034\t 7.349882113053805\t    \t    \n",
            "init\t [-0.83447623 -2.57944404]\t 7.349882113053805\t 7.349882113053805\t    \t    \n",
            "init\t [-4.25922917 -1.58209393]\t 20.64405433050371\t 7.349882113053805\t    \t    \n",
            "1  \t [4.68664599 5.12      ]\t 48.179050673140004\t 7.349882113053805\t 3.03256471764163\t 2.9827620375590764\n",
            "2  \t [ 4.93512605 -1.14868802]\t 25.674953297624498\t 7.349882113053805\t 3.3117470050281925\t 3.6822132794411115\n",
            "3  \t [-1.47922339  4.44879978]\t 21.979921333163915\t 7.349882113053805\t 2.6305789423110855\t 3.0890031801155717\n",
            "\u001b[1m\u001b[92m4\u001b[0m\t \u001b[1m\u001b[92m[1.09349406 1.13408365]\u001b[0m\t \u001b[1m\u001b[92m2.4818749979390615\u001b[0m\t \u001b[1m\u001b[92m2.4818749979390615\u001b[0m\t \u001b[1m\u001b[92m3.0485900304177926\u001b[0m\t \u001b[1m\u001b[92m3.4867000536194737\u001b[0m\n",
            "5  \t [3.50678683 1.84048058]\t 15.68492261118841\t 2.4818749979390615\t 3.289690741726505\t 3.339016894032377\n",
            "6  \t [-4.58915903  3.28836136]\t 31.873701055425826\t 2.4818749979390615\t 2.8805118895700845\t 3.305664721166281\n",
            "\u001b[1m\u001b[92m7\u001b[0m\t \u001b[1m\u001b[92m[-1.22039756  0.36328903]\u001b[0m\t \u001b[1m\u001b[92m1.6213491168220477\u001b[0m\t \u001b[1m\u001b[92m1.6213491168220477\u001b[0m\t \u001b[1m\u001b[92m2.5793729086613344\u001b[0m\t \u001b[1m\u001b[92m2.925075498298941\u001b[0m\n",
            "8  \t [ 2.7919054  -3.50726473]\t 20.095641667423155\t 1.6213491168220477\t 2.8356579561213895\t 3.2890436257595264\n",
            "9  \t [-5.12 -5.12]\t 52.4288\t 1.6213491168220477\t 3.222251464434069\t 3.1167394724145545\n",
            "\u001b[1m\u001b[92m10\u001b[0m\t \u001b[1m\u001b[92m[ 1.01970088 -0.67944974]\u001b[0m\t \u001b[1m\u001b[92m1.501441826976445\u001b[0m\t \u001b[1m\u001b[92m1.501441826976445\u001b[0m\t \u001b[1m\u001b[92m2.378761332506024\u001b[0m\t \u001b[1m\u001b[92m3.0868756806675917\u001b[0m\n",
            "11 \t [1.47890176 4.51531604]\t 22.57522933350542\t 1.501441826976445\t 2.8442949314803245\t 3.272000344206848\n",
            "12 \t [-2.01404415  1.47202806]\t 6.223240466336925\t 1.501441826976445\t 2.6017826776258146\t 2.900377857511591\n",
            "\u001b[1m\u001b[92m13\u001b[0m\t \u001b[1m\u001b[92m[-0.27036407 -0.40916939]\u001b[0m\t \u001b[1m\u001b[92m0.2405163212189046\u001b[0m\t \u001b[1m\u001b[92m0.2405163212189046\u001b[0m\t \u001b[1m\u001b[92m2.087445319680099\u001b[0m\t \u001b[1m\u001b[92m2.0443671468563234\u001b[0m\n",
            "14 \t [-0.29062083 -0.42762625]\t 0.2673246739546854\t 0.2405163212189046\t 2.540468287828582\t 2.943307176400629\n",
            "15 \t [-1.99447749 -5.12      ]\t 30.192340458278153\t 0.2405163212189046\t 2.892591899815985\t 3.0677899185043187\n",
            "16 \t [-0.32838084 -0.439715  ]\t 0.30118325854204697\t 0.2405163212189046\t 2.9482269172985758\t 3.0380254467676115\n",
            "17 \t [-0.12350316 -0.50839542]\t 0.2737189317768914\t 0.2405163212189046\t 2.6275001780897416\t 2.5009265564800627\n",
            "18 \t [-0.66707187 -0.46010245]\t 0.6566791406724888\t 0.2405163212189046\t 2.531017980094128\t 2.4279073102534996\n",
            "\u001b[1m\u001b[92m19\u001b[0m\t \u001b[1m\u001b[92m[-0.17261709 -0.35360174]\u001b[0m\t \u001b[1m\u001b[92m0.15483084932559446\u001b[0m\t \u001b[1m\u001b[92m0.15483084932559446\u001b[0m\t \u001b[1m\u001b[92m2.784279188906642\u001b[0m\t \u001b[1m\u001b[92m2.9421720908129005\u001b[0m\n",
            "20 \t [-0.01698524 -0.41219554]\t 0.1701936631054812\t 0.15483084932559446\t 2.9896955750010012\t 3.036583354494956\n"
          ]
        }
      ],
      "source": [
        "### EXACT GP EI GRADIENTS\n",
        "\n",
        "np.random.seed(run_num_9)\n",
        "surrogate_gp_9 = dGaussianProcess(cov_func, optimize=opt)\n",
        "\n",
        "gp_9 = dGPGO_gp(surrogate_gp_9, Acquisition_grad(util_gp), objfunc, param)\n",
        "gp_9.run(init_evals=n_init, max_iter=iters)\n"
      ]
    },
    {
      "cell_type": "code",
      "execution_count": 22,
      "metadata": {
        "id": "QQBR-qJPGCcp",
        "colab": {
          "base_uri": "https://localhost:8080/"
        },
        "outputId": "a1ed0b6c-9536-4aa3-c1e1-3b03f693c68b"
      },
      "outputs": [
        {
          "output_type": "stream",
          "name": "stdout",
          "text": [
            "Evaluation \t Proposed point \t  Current eval. \t  Best eval. \t        Exact EI: StdDev. x \t Approx EI: StdDev. x \n",
            "init\t [ 2.77832339 -4.90750004]\t 31.80263747150094\t 7.941821858928501\t    \t    \n",
            "init\t [1.36855793 2.54775176]\t 8.363989812138083\t 7.941821858928501\t    \t    \n",
            "init\t [-0.01528819 -2.81808235]\t 7.941821858928501\t 7.941821858928501\t    \t    \n",
            "init\t [-3.09183626  2.66783449]\t 16.67679237031191\t 7.941821858928501\t    \t    \n",
            "init\t [-3.38830503 -4.2154003 ]\t 29.25021071405309\t 7.941821858928501\t    \t    \n",
            "1  \t [ 5.12       -0.34675903]\t 26.33464182441566\t 7.941821858928501\t 3.4504826861478555\t 3.4752527477872595\n",
            "2  \t [5.12 5.12]\t 52.4288\t 7.941821858928501\t 2.720140825951412\t 2.767647439835728\n",
            "3  \t [-4.21705607 -0.7275049 ]\t 18.31282532366967\t 7.941821858928501\t 2.6896095985137487\t 3.204300078621497\n",
            "4  \t [0.65867346 5.11113959]\t 26.5575986246983\t 7.941821858928501\t 3.687201778840325\t 3.391721540091504\n",
            "\u001b[1m\u001b[92m5\u001b[0m\t \u001b[1m\u001b[92m[ 0.09877078 -0.03903922]\u001b[0m\t \u001b[1m\u001b[92m0.011279726611796229\u001b[0m\t \u001b[1m\u001b[92m0.011279726611796229\u001b[0m\t \u001b[1m\u001b[92m2.966939306171222\u001b[0m\t \u001b[1m\u001b[92m2.8226055136696737\u001b[0m\n",
            "6  \t [ 2.01219052 -0.93942585]\t 4.931431638563069\t 0.011279726611796229\t 3.1149878152408905\t 3.046457762504924\n",
            "7  \t [-0.87518699  0.21447009]\t 0.8119496905345653\t 0.011279726611796229\t 3.051167783519978\t 3.5236210865174122\n",
            "8  \t [3.75275535 2.24584562]\t 19.12699530863282\t 0.011279726611796229\t 2.8860345014615922\t 3.492506696335494\n",
            "9  \t [-0.72794222 -5.12      ]\t 26.744299875273892\t 0.011279726611796229\t 3.0533385487895424\t 3.5042060846470293\n",
            "10 \t [-0.6011932   0.96001604]\t 1.283064070445408\t 0.011279726611796229\t 3.1915638965410515\t 3.5821922257761116\n",
            "11 \t [-2.48567489  5.12      ]\t 32.392979683117936\t 0.011279726611796229\t 2.5227848355125504\t 3.549290690020956\n",
            "12 \t [-0.59608772 -0.59310456]\t 0.7070935933282569\t 0.011279726611796229\t 3.0634314075455578\t 3.187293030813166\n",
            "13 \t [ 5.10978795 -3.28233369]\t 36.88364731784726\t 0.011279726611796229\t 2.826667428897294\t 3.303992287216529\n",
            "14 \t [ 0.23824185 -0.02059983]\t 0.05718352989248215\t 0.011279726611796229\t 2.911362063428083\t 3.2035529940508387\n",
            "15 \t [-0.1018917   0.32948673]\t 0.11894342194584952\t 0.011279726611796229\t 3.124121769284853\t 2.890227362721658\n",
            "16 \t [0.23847408 0.01514371]\t 0.0570992173137873\t 0.011279726611796229\t 2.8491601037352026\t 3.406744341015224\n",
            "17 \t [0.07915416 0.19044044]\t 0.04253294334488636\t 0.011279726611796229\t 2.987520713462404\t 3.0132276046354884\n",
            "18 \t [-1.25516433 -0.91900313]\t 2.4200042304406373\t 0.011279726611796229\t 2.85300798184818\t 2.7544023896246386\n",
            "19 \t [0.17972209 0.27452552]\t 0.10766429327978548\t 0.011279726611796229\t 2.3799910630308854\t 2.078148868437946\n",
            "20 \t [-0.81626982  2.53857869]\t 7.110678167406681\t 0.011279726611796229\t 3.4745014465202266\t 3.253176380282685\n"
          ]
        }
      ],
      "source": [
        "### EXACT GP EI GRADIENTS\n",
        "\n",
        "np.random.seed(run_num_10)\n",
        "surrogate_gp_10 = dGaussianProcess(cov_func, optimize=opt)\n",
        "\n",
        "gp_10 = dGPGO_gp(surrogate_gp_10, Acquisition_grad(util_gp), objfunc, param)\n",
        "gp_10.run(init_evals=n_init, max_iter=iters)\n"
      ]
    },
    {
      "cell_type": "code",
      "execution_count": 23,
      "metadata": {
        "id": "JS8ejeQ2GCfi",
        "colab": {
          "base_uri": "https://localhost:8080/"
        },
        "outputId": "1944bb2a-7e93-400b-fe67-79d4eedb2cee"
      },
      "outputs": [
        {
          "output_type": "stream",
          "name": "stdout",
          "text": [
            "Evaluation \t Proposed point \t  Current eval. \t  Best eval. \t        Exact EI: StdDev. x \t Approx EI: StdDev. x \n",
            "init\t [-3.27403839 -4.92057353]\t 34.93137118861299\t 0.6899456214148796\t    \t    \n",
            "init\t [-0.37664229  2.30332343]\t 5.447158259491397\t 0.6899456214148796\t    \t    \n",
            "init\t [-0.81711509 -0.14922651]\t 0.6899456214148796\t 0.6899456214148796\t    \t    \n",
            "init\t [-4.98912446 -0.12931474]\t 24.908085165573997\t 0.6899456214148796\t    \t    \n",
            "init\t [4.52410012 3.59214172]\t 33.37096399795931\t 0.6899456214148796\t    \t    \n",
            "1  \t [ 3.03550212 -4.46785095]\t 29.17596522689979\t 0.6899456214148796\t 2.7729845617185123\t 3.810016795891542\n",
            "2  \t [ 4.94072018 -0.61728397]\t 24.791755402212313\t 0.6899456214148796\t 2.1983717287658138\t 3.0708832173445963\n",
            "3  \t [-1.19896852  5.12      ]\t 27.651925507645664\t 0.6899456214148796\t 3.1472834956018274\t 3.6879522048049544\n",
            "4  \t [ 1.19392454 -1.30462948]\t 3.1275138631117585\t 0.6899456214148796\t 2.4386609786555193\t 2.7397588473341665\n",
            "5  \t [-3.74685469  2.91006244]\t 22.507383479647885\t 0.6899456214148796\t 2.768604803899244\t 2.7922107654101063\n",
            "6  \t [-0.94072899 -2.50653316]\t 7.167679521792622\t 0.6899456214148796\t 2.933999434865043\t 2.839570720339046\n",
            "7  \t [1.91032258 1.46522271]\t 5.796209958841573\t 0.6899456214148796\t 3.126456440202559\t 3.3911596233524284\n",
            "8  \t [-0.18568613 -5.11439177]\t 26.19148250463699\t 0.6899456214148796\t 2.990845628771488\t 3.224637203645997\n",
            "9  \t [-1.87365161  0.0939219 ]\t 3.5193916661505575\t 0.6899456214148796\t 2.9334170769430137\t 3.1638996769922847\n",
            "\u001b[1m\u001b[92m10\u001b[0m\t \u001b[1m\u001b[92m[-0.0313092  -0.03721985]\u001b[0m\t \u001b[1m\u001b[92m0.002365582999738933\u001b[0m\t \u001b[1m\u001b[92m0.002365582999738933\u001b[0m\t \u001b[1m\u001b[92m2.6562900965000265\u001b[0m\t \u001b[1m\u001b[92m3.3578577544029344\u001b[0m\n",
            "11 \t [2.06930297 5.11133593]\t 30.407769764186295\t 0.002365582999738933\t 3.0439330175350934\t 3.320406084480782\n",
            "12 \t [ 0.18772054 -0.15307971]\t 0.05867239916543553\t 0.002365582999738933\t 2.8069227420593794\t 2.938202855110717\n",
            "13 \t [ 0.2768952  -0.21637062]\t 0.12348719848185699\t 0.002365582999738933\t 2.841686159666104\t 3.2178456285445662\n",
            "14 \t [-5.12       -2.87014166]\t 34.452113166016275\t 0.002365582999738933\t 3.0639418003210275\t 2.9657121476248856\n",
            "15 \t [ 0.62034407 -0.36822239]\t 0.5204144903106316\t 0.002365582999738933\t 2.8396894332726843\t 2.9221966549162812\n",
            "16 \t [-0.49755403  0.5422625 ]\t 0.5416086299261947\t 0.002365582999738933\t 3.1167293940809673\t 3.437314563277335\n",
            "17 \t [ 0.24095397 -0.1837571 ]\t 0.0918254904078234\t 0.002365582999738933\t 2.175773722608336\t 1.9254532680876517\n",
            "\u001b[1m\u001b[92m18\u001b[0m\t \u001b[1m\u001b[92m[0.0017779  0.02713521]\u001b[0m\t \u001b[1m\u001b[92m0.0007394804061057111\u001b[0m\t \u001b[1m\u001b[92m0.0007394804061057111\u001b[0m\t \u001b[1m\u001b[92m2.822062790281361\u001b[0m\t \u001b[1m\u001b[92m2.962632544000894\u001b[0m\n",
            "19 \t [ 0.11774169 -0.07973266]\t 0.020220403848623857\t 0.0007394804061057111\t 2.599286154340518\t 2.825761672461819\n",
            "20 \t [ 5.12       -3.25323415]\t 36.79793245114431\t 0.0007394804061057111\t 2.84714418867211\t 2.7281385224917454\n"
          ]
        }
      ],
      "source": [
        "### EXACT GP EI GRADIENTS\n",
        "\n",
        "np.random.seed(run_num_11)\n",
        "surrogate_gp_11 = dGaussianProcess(cov_func, optimize=opt)\n",
        "\n",
        "gp_11 = dGPGO_gp(surrogate_gp_11, Acquisition_grad(util_gp), objfunc, param)\n",
        "gp_11.run(init_evals=n_init, max_iter=iters)\n"
      ]
    },
    {
      "cell_type": "code",
      "execution_count": 24,
      "metadata": {
        "id": "DXwjUVZ4GCii",
        "colab": {
          "base_uri": "https://localhost:8080/"
        },
        "outputId": "dbf79371-8653-45b3-eb74-7b70dc7c3362"
      },
      "outputs": [
        {
          "output_type": "stream",
          "name": "stdout",
          "text": [
            "Evaluation \t Proposed point \t  Current eval. \t  Best eval. \t        Exact EI: StdDev. x \t Approx EI: StdDev. x \n",
            "init\t [-3.54137249  2.45810889]\t 18.583618467979093\t 5.993464196233534\t    \t    \n",
            "init\t [-2.42365424  0.34549139]\t 5.993464196233534\t 5.993464196233534\t    \t    \n",
            "init\t [-4.97075238  4.28796936]\t 43.09506052206225\t 5.993464196233534\t    \t    \n",
            "init\t [ 4.10332011 -4.77776458]\t 39.66427028607538\t 5.993464196233534\t    \t    \n",
            "init\t [ 4.6791612  -3.71497655]\t 35.6956003298903\t 5.993464196233534\t    \t    \n",
            "1  \t [5.12       4.28576605]\t 44.58219063385849\t 5.993464196233534\t 3.706152958826067\t 3.6472542000496966\n",
            "2  \t [-5.12       -4.85983818]\t 49.83242712805688\t 5.993464196233534\t 3.517858179236281\t 3.2920779587731905\n",
            "3  \t [0.29710703 5.12      ]\t 26.30267258716383\t 5.993464196233534\t 2.925311694942049\t 2.922731566012587\n",
            "\u001b[1m\u001b[92m4\u001b[0m\t \u001b[1m\u001b[92m[1.89092034 0.56120834]\u001b[0m\t \u001b[1m\u001b[92m3.8905345163315044\u001b[0m\t \u001b[1m\u001b[92m3.8905345163315044\u001b[0m\t \u001b[1m\u001b[92m2.502239541713704\u001b[0m\t \u001b[1m\u001b[92m2.5659035732558535\u001b[0m\n",
            "5  \t [-0.44602232 -4.06809875]\t 16.748363342391862\t 3.8905345163315044\t 3.0881481455669952\t 2.8599448715604994\n",
            "6  \t [-5.12       -1.02490031]\t 27.26482065105182\t 3.8905345163315044\t 3.0655752307675197\t 3.1787781467531966\n",
            "7  \t [5.12       0.25060165]\t 26.27720118747975\t 3.8905345163315044\t 2.680923537961216\t 2.8050231493103466\n",
            "\u001b[1m\u001b[92m8\u001b[0m\t \u001b[1m\u001b[92m[ 0.29799828 -1.18909279]\u001b[0m\t \u001b[1m\u001b[92m1.502744632266398\u001b[0m\t \u001b[1m\u001b[92m1.502744632266398\u001b[0m\t \u001b[1m\u001b[92m2.7609579068067767\u001b[0m\t \u001b[1m\u001b[92m2.5865356817912164\u001b[0m\n",
            "9  \t [0.0355585  1.67219201]\t 2.79749053099472\t 1.502744632266398\t 2.768356948221685\t 2.55364946691919\n",
            "10 \t [ 1.89514274 -1.80263869]\t 6.841072247413685\t 1.502744632266398\t 2.8854100501958087\t 3.054225245694061\n",
            "11 \t [-2.51765612 -1.62388318]\t 8.975588926445141\t 1.502744632266398\t 2.8110633721786367\t 2.9700016509370686\n",
            "12 \t [2.46070001 2.56280858]\t 12.623032361400142\t 1.502744632266398\t 2.494027103400479\t 2.6625329047400093\n",
            "\u001b[1m\u001b[92m13\u001b[0m\t \u001b[1m\u001b[92m[-0.18435938 -0.32678041]\u001b[0m\t \u001b[1m\u001b[92m0.1407738178613781\u001b[0m\t \u001b[1m\u001b[92m0.1407738178613781\u001b[0m\t \u001b[1m\u001b[92m2.6362005573901843\u001b[0m\t \u001b[1m\u001b[92m2.7000523047685676\u001b[0m\n",
            "\u001b[1m\u001b[92m14\u001b[0m\t \u001b[1m\u001b[92m[-0.32302787 -0.00324391]\u001b[0m\t \u001b[1m\u001b[92m0.10435753084545982\u001b[0m\t \u001b[1m\u001b[92m0.10435753084545982\u001b[0m\t \u001b[1m\u001b[92m2.8960765588766426\u001b[0m\t \u001b[1m\u001b[92m2.7776648055030497\u001b[0m\n",
            "15 \t [-0.17378885 -0.29462135]\t 0.11700430270193221\t 0.10435753084545982\t 3.1590568233285587\t 3.1531520645950906\n",
            "16 \t [-2.17141446  5.05240132]\t 30.24179984849862\t 0.10435753084545982\t 2.9882646022664185\t 3.217957283067463\n",
            "17 \t [-0.40181577  0.13223068]\t 0.17894086759268474\t 0.10435753084545982\t 2.6756192015487708\t 2.8510569782359827\n",
            "\u001b[1m\u001b[92m18\u001b[0m\t \u001b[1m\u001b[92m[-0.28983173 -0.06797926]\u001b[0m\t \u001b[1m\u001b[92m0.08862361302057085\u001b[0m\t \u001b[1m\u001b[92m0.08862361302057085\u001b[0m\t \u001b[1m\u001b[92m3.134791534072587\u001b[0m\t \u001b[1m\u001b[92m3.0262100037180346\u001b[0m\n",
            "19 \t [-0.03902584 -0.63747279]\t 0.40789457038947136\t 0.08862361302057085\t 2.788695996655904\t 2.964921670173821\n",
            "20 \t [-0.04211177 -0.57758166]\t 0.33537397912376354\t 0.08862361302057085\t 2.552599192210484\t 2.244512399381217\n"
          ]
        }
      ],
      "source": [
        "### EXACT GP EI GRADIENTS\n",
        "\n",
        "np.random.seed(run_num_12)\n",
        "surrogate_gp_12 = dGaussianProcess(cov_func, optimize=opt)\n",
        "\n",
        "gp_12 = dGPGO_gp(surrogate_gp_12, Acquisition_grad(util_gp), objfunc, param)\n",
        "gp_12.run(init_evals=n_init, max_iter=iters)\n"
      ]
    },
    {
      "cell_type": "code",
      "execution_count": 25,
      "metadata": {
        "id": "CphOPndPGClX",
        "colab": {
          "base_uri": "https://localhost:8080/"
        },
        "outputId": "00e1d85d-7518-40ee-f81c-b962fa2ed997"
      },
      "outputs": [
        {
          "output_type": "stream",
          "name": "stdout",
          "text": [
            "Evaluation \t Proposed point \t  Current eval. \t  Best eval. \t        Exact EI: StdDev. x \t Approx EI: StdDev. x \n",
            "init\t [ 2.84367268 -2.68757791]\t 15.30954934064491\t 7.271500601275535\t    \t    \n",
            "init\t [3.32061217 4.76927179]\t 33.772418600555795\t 7.271500601275535\t    \t    \n",
            "init\t [ 4.83943541 -0.47667971]\t 23.647358595121606\t 7.271500601275535\t    \t    \n",
            "init\t [1.11659482 2.82139151]\t 9.20703403927425\t 7.271500601275535\t    \t    \n",
            "init\t [1.45012065 2.27346667]\t 7.271500601275535\t 7.271500601275535\t    \t    \n",
            "1  \t [-4.18648609 -2.4678052 ]\t 23.616728302103265\t 7.271500601275535\t 2.7101692684657377\t 3.110616125154259\n",
            "2  \t [-3.79946932  2.66821301]\t 21.55532775288146\t 7.271500601275535\t 3.028921333383371\t 3.651696133674454\n",
            "3  \t [-0.69739246 -5.12      ]\t 26.700756242868632\t 7.271500601275535\t 2.693982721862383\t 3.330982002640907\n",
            "\u001b[1m\u001b[92m4\u001b[0m\t \u001b[1m\u001b[92m[-0.58669696 -0.75006876]\u001b[0m\t \u001b[1m\u001b[92m0.9068164551257099\u001b[0m\t \u001b[1m\u001b[92m0.9068164551257099\u001b[0m\t \u001b[1m\u001b[92m2.8308880879152523\u001b[0m\t \u001b[1m\u001b[92m3.264459692574259\u001b[0m\n",
            "5  \t [-0.94715615  5.12      ]\t 27.111504777750348\t 0.9068164551257099\t 3.5357747272999447\t 3.9141750812754914\n",
            "6  \t [-5.12 -5.12]\t 52.4288\t 0.9068164551257099\t 2.5919522824489425\t 2.9771044693187627\n",
            "7  \t [ 1.14875181 -0.38629088]\t 1.468851367931218\t 0.9068164551257099\t 2.8438956439644762\t 3.367841912317012\n",
            "8  \t [-1.62986217 -0.27148932]\t 2.7301571473542037\t 0.9068164551257099\t 2.683393348018386\t 3.202169911538697\n",
            "9  \t [-0.73754725 -1.95261332]\t 4.3566747160213\t 0.9068164551257099\t 2.7519699269859736\t 3.5286906924320567\n",
            "10 \t [-1.03210041  1.39305785]\t 3.0058414258925037\t 0.9068164551257099\t 2.6370046809385217\t 3.6053747839782906\n",
            "11 \t [5.10029824 2.68413919]\t 33.21764531035628\t 0.9068164551257099\t 2.9635892584810524\t 3.8990790894055967\n",
            "12 \t [-5.12        0.21018205]\t 26.258576492783664\t 0.9068164551257099\t 2.650217137011498\t 3.2510528031561687\n",
            "13 \t [-3.58976335  5.12      ]\t 39.10080089176151\t 0.9068164551257099\t 2.925392937897431\t 3.5437875031123163\n",
            "14 \t [ 2.19054181 -5.12      ]\t 31.012873436892022\t 0.9068164551257099\t 2.458860110401954\t 2.7532622453697253\n",
            "15 \t [1.776081   0.15242653]\t 3.1776975586574285\t 0.9068164551257099\t 2.5745415467376085\t 2.6841957133894705\n",
            "\u001b[1m\u001b[92m16\u001b[0m\t \u001b[1m\u001b[92m[-0.05377644 -0.00922197]\u001b[0m\t \u001b[1m\u001b[92m0.002976950507583711\u001b[0m\t \u001b[1m\u001b[92m0.002976950507583711\u001b[0m\t \u001b[1m\u001b[92m2.5694568944874545\u001b[0m\t \u001b[1m\u001b[92m2.097197541279145\u001b[0m\n",
            "17 \t [ 5.04930907 -3.11609368]\t 35.20556187022642\t 0.002976950507583711\t 3.3707488828666974\t 3.676867019853846\n",
            "18 \t [ 0.36901157 -0.56225198]\t 0.45229682812107264\t 0.002976950507583711\t 2.1917750632259185\t 2.0711149547248344\n",
            "19 \t [ 0.74581684 -2.22840803]\t 5.522045098317\t 0.002976950507583711\t 2.9516298239635357\t 2.7381999554943928\n",
            "20 \t [-0.91598937  0.79672829]\t 1.473812491066273\t 0.002976950507583711\t 3.2286711950025833\t 3.133279922614427\n"
          ]
        }
      ],
      "source": [
        "### EXACT GP EI GRADIENTS\n",
        "\n",
        "np.random.seed(run_num_13)\n",
        "surrogate_gp_13 = dGaussianProcess(cov_func, optimize=opt)\n",
        "\n",
        "gp_13 = dGPGO_gp(surrogate_gp_13, Acquisition_grad(util_gp), objfunc, param)\n",
        "gp_13.run(init_evals=n_init, max_iter=iters)\n"
      ]
    },
    {
      "cell_type": "code",
      "execution_count": 26,
      "metadata": {
        "id": "ojHTeARNGCoi",
        "colab": {
          "base_uri": "https://localhost:8080/"
        },
        "outputId": "acce62fe-f8a1-4870-bca8-d055ece1b5c2"
      },
      "outputs": [
        {
          "output_type": "stream",
          "name": "stdout",
          "text": [
            "Evaluation \t Proposed point \t  Current eval. \t  Best eval. \t        Exact EI: StdDev. x \t Approx EI: StdDev. x \n",
            "init\t [0.14277984 2.79721013]\t 7.844770612568215\t 3.480496204392171\t    \t    \n",
            "init\t [ 3.7931795  -5.03759925]\t 39.765616906968944\t 3.480496204392171\t    \t    \n",
            "init\t [-1.94830412  4.68586229]\t 25.753194366239512\t 3.480496204392171\t    \t    \n",
            "init\t [ 0.13431513 -1.86076749]\t 3.480496204392171\t 3.480496204392171\t    \t    \n",
            "init\t [ 0.40140736 -2.85434939]\t 8.308438305616814\t 3.480496204392171\t    \t    \n",
            "1  \t [-5.12       -0.19377072]\t 26.25194709281843\t 3.480496204392171\t 3.8433556444900305\t 3.852404541346902\n",
            "2  \t [5.12 5.12]\t 52.4288\t 3.480496204392171\t 4.18329250033217\t 3.728915622685821\n",
            "3  \t [-4.34551125 -5.12      ]\t 45.09786803255743\t 3.480496204392171\t 2.853915855586737\t 3.193505372075696\n",
            "4  \t [ 5.12       -0.05216576]\t 26.21712126687544\t 3.480496204392171\t 2.893799062320016\t 3.348050300772215\n",
            "\u001b[1m\u001b[92m5\u001b[0m\t \u001b[1m\u001b[92m[-1.73473933  0.36160505]\u001b[0m\t \u001b[1m\u001b[92m3.140078760998255\u001b[0m\t \u001b[1m\u001b[92m3.140078760998255\u001b[0m\t \u001b[1m\u001b[92m2.6838252416527255\u001b[0m\t \u001b[1m\u001b[92m2.2514534138508564\u001b[0m\n",
            "\u001b[1m\u001b[92m6\u001b[0m\t \u001b[1m\u001b[92m[1.71751028 0.16853404]\u001b[0m\t \u001b[1m\u001b[92m2.978245272120911\u001b[0m\t \u001b[1m\u001b[92m2.978245272120911\u001b[0m\t \u001b[1m\u001b[92m2.5709118667741047\u001b[0m\t \u001b[1m\u001b[92m2.549695298998288\u001b[0m\n",
            "7  \t [1.777634  5.0862412]\t 29.029832152542937\t 2.978245272120911\t 2.5450515049421374\t 2.6551019393497843\n",
            "8  \t [-5.12        3.49996002]\t 38.46412012157959\t 2.978245272120911\t 2.8693959482545783\t 3.198960578831279\n",
            "9  \t [-0.91830171 -5.12      ]\t 27.057678035656014\t 2.978245272120911\t 3.081832598256094\t 2.8262157120448097\n",
            "10 \t [-2.63603928 -1.98604256]\t 10.893068101271455\t 2.978245272120911\t 2.605619421463406\t 2.3881909473952905\n",
            "11 \t [ 2.87453338 -2.00907246]\t 12.29931428143556\t 2.978245272120911\t 3.1471117291426594\t 2.973119548644076\n",
            "12 \t [2.89987677 2.23804542]\t 13.418132571688997\t 2.978245272120911\t 2.6969445543750723\t 2.9964885241347847\n",
            "13 \t [-2.74398513  1.8749601 ]\t 11.044929765692375\t 2.978245272120911\t 2.7098669017831547\t 3.0004266362569867\n",
            "\u001b[1m\u001b[92m14\u001b[0m\t \u001b[1m\u001b[92m[-0.08457467  0.04622276]\u001b[0m\t \u001b[1m\u001b[92m0.009289418633436308\u001b[0m\t \u001b[1m\u001b[92m0.009289418633436308\u001b[0m\t \u001b[1m\u001b[92m2.7738733851556683\u001b[0m\t \u001b[1m\u001b[92m2.680143631184448\u001b[0m\n",
            "\u001b[1m\u001b[92m15\u001b[0m\t \u001b[1m\u001b[92m[-0.03657922 -0.00349482]\u001b[0m\t \u001b[1m\u001b[92m0.0013502532454803136\u001b[0m\t \u001b[1m\u001b[92m0.0013502532454803136\u001b[0m\t \u001b[1m\u001b[92m2.8041625709340585\u001b[0m\t \u001b[1m\u001b[92m2.86645988660029\u001b[0m\n",
            "16 \t [-0.00999398 -0.04235919]\t 0.0018941809515062619\t 0.0013502532454803136\t 2.9518671464678476\t 2.6465498180543876\n",
            "17 \t [ 0.2396319  -0.31187029]\t 0.1546865289668301\t 0.0013502532454803136\t 2.925074478964754\t 2.986152527045189\n",
            "18 \t [-0.20237229  0.27184098]\t 0.11485206518960478\t 0.0013502532454803136\t 2.2054687260432577\t 2.4814966149420603\n",
            "19 \t [ 0.51241474 -0.4971584 ]\t 0.5097353381386753\t 0.0013502532454803136\t 2.8520691860064855\t 3.0049865955581607\n",
            "20 \t [ 0.04796445 -0.12284853]\t 0.017392348926751813\t 0.0013502532454803136\t 2.593297398106645\t 2.5450190900665364\n"
          ]
        }
      ],
      "source": [
        "### EXACT GP EI GRADIENTS\n",
        "\n",
        "np.random.seed(run_num_14)\n",
        "surrogate_gp_14 = dGaussianProcess(cov_func, optimize=opt)\n",
        "\n",
        "gp_14 = dGPGO_gp(surrogate_gp_14, Acquisition_grad(util_gp), objfunc, param)\n",
        "gp_14.run(init_evals=n_init, max_iter=iters)\n"
      ]
    },
    {
      "cell_type": "code",
      "execution_count": 27,
      "metadata": {
        "id": "vCJzn4vWGCs3",
        "colab": {
          "base_uri": "https://localhost:8080/"
        },
        "outputId": "c0642b71-d1f2-4b7c-f83f-63f171b88fe7"
      },
      "outputs": [
        {
          "output_type": "stream",
          "name": "stdout",
          "text": [
            "Evaluation \t Proposed point \t  Current eval. \t  Best eval. \t        Exact EI: StdDev. x \t Approx EI: StdDev. x \n",
            "init\t [ 3.57189322 -3.28810573]\t 23.57006045912445\t 5.383887924980681\t    \t    \n",
            "init\t [-4.56332069 -1.41784631]\t 22.834183843344235\t 5.383887924980681\t    \t    \n",
            "init\t [-2.29989449  0.3072023 ]\t 5.383887924980681\t 5.383887924980681\t    \t    \n",
            "init\t [-1.9873903  -2.00218256]\t 7.958455228543059\t 5.383887924980681\t    \t    \n",
            "init\t [-3.97576933 -2.5610341 ]\t 22.365637431409507\t 5.383887924980681\t    \t    \n",
            "1  \t [5.12       4.67669476]\t 48.08587386986069\t 5.383887924980681\t 3.7202584499501694\t 3.743810332372512\n",
            "2  \t [-0.5836373  5.12     ]\t 26.555032493543965\t 5.383887924980681\t 2.857958845972583\t 3.482261484459948\n",
            "3  \t [-5.12        3.54942235]\t 38.81279901094424\t 5.383887924980681\t 2.9199525034656\t 3.5194251123619176\n",
            "4  \t [2.58493343 0.8618431 ]\t 7.42465433620531\t 5.383887924980681\t 2.683526074122542\t 2.533751368032287\n",
            "5  \t [-0.98214977 -5.12      ]\t 27.17901817882703\t 5.383887924980681\t 3.2520817242383533\t 3.180985722301554\n",
            "6  \t [5.12       0.05371803]\t 26.21728562686703\t 5.383887924980681\t 3.2157208072515453\t 3.3564475592304936\n",
            "\u001b[1m\u001b[92m7\u001b[0m\t \u001b[1m\u001b[92m[ 0.79602367 -1.54285557]\u001b[0m\t \u001b[1m\u001b[92m3.0140569942879485\u001b[0m\t \u001b[1m\u001b[92m3.0140569942879485\u001b[0m\t \u001b[1m\u001b[92m2.7688615319912926\u001b[0m\t \u001b[1m\u001b[92m2.486186519624413\u001b[0m\n",
            "8  \t [-0.10956268  1.86509132]\t 3.490569612591535\t 3.0140569942879485\t 3.270393611156641\t 3.4617654263193924\n",
            "9  \t [-5.12 -5.12]\t 52.4288\t 3.0140569942879485\t 2.549249899283367\t 2.5451711188254866\n",
            "10 \t [2.06222148 4.51070733]\t 24.599238093913012\t 3.0140569942879485\t 2.904093580566784\t 3.053870804405337\n",
            "11 \t [ 1.77988129 -5.12      ]\t 29.382377411351715\t 3.0140569942879485\t 2.2645304682571807\t 2.7756336034332096\n",
            "12 \t [-2.22312253  2.60271906]\t 11.716420268764978\t 3.0140569942879485\t 2.383239941119797\t 2.2470558203503344\n",
            "13 \t [-5.12        0.85608198]\t 26.947276355212086\t 3.0140569942879485\t 3.0087142963117026\t 3.1263021132893427\n",
            "\u001b[1m\u001b[92m14\u001b[0m\t \u001b[1m\u001b[92m[0.00407569 0.02953719]\u001b[0m\t \u001b[1m\u001b[92m0.0008890567821542255\u001b[0m\t \u001b[1m\u001b[92m0.0008890567821542255\u001b[0m\t \u001b[1m\u001b[92m2.6800903502626006\u001b[0m\t \u001b[1m\u001b[92m2.8425953948414246\u001b[0m\n",
            "15 \t [ 0.20209549 -0.09399887]\t 0.049678375401887395\t 0.0008890567821542255\t 2.030626568304228\t 2.2386856556926937\n",
            "16 \t [ 0.46987659 -0.26595757]\t 0.29151743590426554\t 0.0008890567821542255\t 3.037915670773954\t 3.024435899640897\n",
            "17 \t [-0.06821799  0.08690465]\t 0.012206112119657709\t 0.0008890567821542255\t 2.4488861407619313\t 3.004812688593561\n",
            "\u001b[1m\u001b[92m18\u001b[0m\t \u001b[1m\u001b[92m[0.00440757 0.01792933]\u001b[0m\t \u001b[1m\u001b[92m0.00034088754891575975\u001b[0m\t \u001b[1m\u001b[92m0.00034088754891575975\u001b[0m\t \u001b[1m\u001b[92m2.9035088891253236\u001b[0m\t \u001b[1m\u001b[92m2.8276287517074357\u001b[0m\n",
            "19 \t [ 0.24770464 -0.14547316]\t 0.08252003165425353\t 0.00034088754891575975\t 3.071871842138192\t 3.1215641348456358\n",
            "20 \t [ 0.06976401 -0.02810224]\t 0.00565675343143459\t 0.00034088754891575975\t 2.493260483276148\t 2.4867147488597805\n"
          ]
        }
      ],
      "source": [
        "### EXACT GP EI GRADIENTS\n",
        "\n",
        "np.random.seed(run_num_15)\n",
        "surrogate_gp_15 = dGaussianProcess(cov_func, optimize=opt)\n",
        "\n",
        "gp_15 = dGPGO_gp(surrogate_gp_15, Acquisition_grad(util_gp), objfunc, param)\n",
        "gp_15.run(init_evals=n_init, max_iter=iters)\n"
      ]
    },
    {
      "cell_type": "code",
      "execution_count": 28,
      "metadata": {
        "id": "bGGkhp-kGCw6",
        "colab": {
          "base_uri": "https://localhost:8080/"
        },
        "outputId": "8b895ff9-a060-4931-f9b6-cad0f5bd77f7"
      },
      "outputs": [
        {
          "output_type": "stream",
          "name": "stdout",
          "text": [
            "Evaluation \t Proposed point \t  Current eval. \t  Best eval. \t        Exact EI: StdDev. x \t Approx EI: StdDev. x \n",
            "init\t [-2.83349935  0.23719262]\t 8.084978900492077\t 8.084978900492077\t    \t    \n",
            "init\t [ 0.51918292 -4.65303603]\t 21.92029520206884\t 8.084978900492077\t    \t    \n",
            "init\t [-1.42613673 -2.83565116]\t 10.074783446012654\t 8.084978900492077\t    \t    \n",
            "init\t [ 1.9325559  -3.44339021]\t 15.591708419712269\t 8.084978900492077\t    \t    \n",
            "init\t [-4.39987336  4.51595121]\t 39.75270093978162\t 8.084978900492077\t    \t    \n",
            "1  \t [3.27469422 5.12      ]\t 36.93802224021954\t 8.084978900492077\t 3.825356591194429\t 3.915577822285509\n",
            "2  \t [5.12       0.30279176]\t 26.30608285158056\t 8.084978900492077\t 3.3623768210417824\t 3.2654498313471634\n",
            "3  \t [-5.12 -5.12]\t 52.4288\t 8.084978900492077\t 3.4784760981568756\t 3.622571357865123\n",
            "\u001b[1m\u001b[92m4\u001b[0m\t \u001b[1m\u001b[92m[0.90509598 1.39472461]\u001b[0m\t \u001b[1m\u001b[92m2.7644554690851795\u001b[0m\t \u001b[1m\u001b[92m2.7644554690851795\u001b[0m\t \u001b[1m\u001b[92m2.5424251048832587\u001b[0m\t \u001b[1m\u001b[92m3.2461306973511617\u001b[0m\n",
            "5  \t [-0.22984736  3.68951112]\t 13.665322149736932\t 2.7644554690851795\t 2.8174873745950633\t 3.3796421866624025\n",
            "6  \t [ 5.12       -3.30856148]\t 37.16097906009051\t 2.7644554690851795\t 3.1660946135412877\t 3.5658293105686147\n",
            "7  \t [ 1.7662653  -0.53438298]\t 3.405258277603221\t 2.7644554690851795\t 2.989765323134959\t 2.8302848864740247\n",
            "8  \t [-5.12       -1.51268572]\t 28.502618085438144\t 2.7644554690851795\t 2.553281984296044\t 2.944094063815705\n",
            "9  \t [5.12      3.3086868]\t 37.16180831487841\t 2.7644554690851795\t 2.9666223168903048\t 2.985487833679717\n",
            "\u001b[1m\u001b[92m10\u001b[0m\t \u001b[1m\u001b[92m[-0.48087732  0.05527956]\u001b[0m\t \u001b[1m\u001b[92m0.23429882986242453\u001b[0m\t \u001b[1m\u001b[92m0.23429882986242453\u001b[0m\t \u001b[1m\u001b[92m2.9938347463324937\u001b[0m\t \u001b[1m\u001b[92m3.243955863453338\u001b[0m\n",
            "11 \t [-0.50124305  0.10819238]\t 0.2629501819446529\t 0.23429882986242453\t 3.0969823369028493\t 3.1649677314580678\n",
            "12 \t [-5.02293657  1.37920789]\t 27.132106203787\t 0.23429882986242453\t 3.131615702115954\t 3.2521694511924575\n",
            "13 \t [-0.49642079 -0.0187559 ]\t 0.24678538489412463\t 0.23429882986242453\t 2.557965545651911\t 2.356970427473007\n",
            "14 \t [-0.18894068 -0.59428007]\t 0.388867377503376\t 0.23429882986242453\t 2.655495433847078\t 2.4472363385807188\n",
            "15 \t [-0.36667908 -0.3198913 ]\t 0.23678399065098557\t 0.23429882986242453\t 2.5859517229957354\t 2.6451134707784276\n",
            "\u001b[1m\u001b[92m16\u001b[0m\t \u001b[1m\u001b[92m[-0.46743382 -0.01963764]\u001b[0m\t \u001b[1m\u001b[92m0.21888000877021466\u001b[0m\t \u001b[1m\u001b[92m0.21888000877021466\u001b[0m\t \u001b[1m\u001b[92m2.785563843771526\u001b[0m\t \u001b[1m\u001b[92m2.799168903068222\u001b[0m\n",
            "\u001b[1m\u001b[92m17\u001b[0m\t \u001b[1m\u001b[92m[-0.4315415  -0.17539525]\u001b[0m\t \u001b[1m\u001b[92m0.21699155487813748\u001b[0m\t \u001b[1m\u001b[92m0.21699155487813748\u001b[0m\t \u001b[1m\u001b[92m3.1230108333326347\u001b[0m\t \u001b[1m\u001b[92m2.9538558810302695\u001b[0m\n",
            "18 \t [-0.49644731  0.18803696]\t 0.28181782683538725\t 0.21699155487813748\t 2.652507820454351\t 2.806535330724681\n",
            "19 \t [-0.49853445  0.11977554]\t 0.2628827753088589\t 0.21699155487813748\t 2.799110509842272\t 2.6214400829890376\n",
            "20 \t [-0.55174454  0.41381094]\t 0.4756615376715064\t 0.21699155487813748\t 3.031279717104509\t 3.1469818539432457\n"
          ]
        }
      ],
      "source": [
        "### EXACT GP EI GRADIENTS\n",
        "\n",
        "np.random.seed(run_num_16)\n",
        "surrogate_gp_16 = dGaussianProcess(cov_func, optimize=opt)\n",
        "\n",
        "gp_16 = dGPGO_gp(surrogate_gp_16, Acquisition_grad(util_gp), objfunc, param)\n",
        "gp_16.run(init_evals=n_init, max_iter=iters)\n"
      ]
    },
    {
      "cell_type": "code",
      "execution_count": 29,
      "metadata": {
        "id": "Yrs2mp7hGC1Z",
        "colab": {
          "base_uri": "https://localhost:8080/"
        },
        "outputId": "2f5228c2-da52-4cdb-b657-2a70caaffc83"
      },
      "outputs": [
        {
          "output_type": "stream",
          "name": "stdout",
          "text": [
            "Evaluation \t Proposed point \t  Current eval. \t  Best eval. \t        Exact EI: StdDev. x \t Approx EI: StdDev. x \n",
            "init\t [-2.10263037  0.31320838]\t 4.519153970964611\t 2.5824114132885994\t    \t    \n",
            "init\t [-3.15882714 -4.42470033]\t 29.556161939946307\t 2.5824114132885994\t    \t    \n",
            "init\t [2.93873111 1.60085526]\t 11.198878112253603\t 2.5824114132885994\t    \t    \n",
            "init\t [1.40821398 0.77417363]\t 2.5824114132885994\t 2.5824114132885994\t    \t    \n",
            "init\t [-4.71999574 -1.45598869]\t 24.39826283453718\t 2.5824114132885994\t    \t    \n",
            "1  \t [ 4.96008736 -4.44720822]\t 44.38012757656366\t 2.5824114132885994\t 3.2236213682158397\t 4.367448507407332\n",
            "2  \t [-1.21990793  5.12      ]\t 27.70257535209655\t 2.5824114132885994\t 3.242166428714759\t 3.3817932354927467\n",
            "3  \t [5.12 5.12]\t 52.4288\t 2.5824114132885994\t 3.3045958950289966\t 3.4231739188117\n",
            "4  \t [ 0.90891898 -3.03876689]\t 10.060237903108394\t 2.5824114132885994\t 3.2017762225381436\t 3.6492752226150484\n",
            "5  \t [-4.82762476  2.72283122]\t 30.719770625377336\t 2.5824114132885994\t 2.630237871816265\t 3.5988250964486013\n",
            "6  \t [5.02845008 0.21349356]\t 25.330889731953516\t 2.5824114132885994\t 2.4327287872837395\t 2.9317814545532417\n",
            "7  \t [-0.24487835  2.10661128]\t 4.497776491685344\t 2.5824114132885994\t 2.630813807073249\t 2.71135056999477\n",
            "8  \t [1.84859581 5.12      ]\t 29.631706478505965\t 2.5824114132885994\t 3.2039324309613164\t 3.344151880399693\n",
            "9  \t [-0.12747702 -5.12      ]\t 26.23065039007197\t 2.5824114132885994\t 3.198999981278713\t 3.58977088023755\n",
            "\u001b[1m\u001b[92m10\u001b[0m\t \u001b[1m\u001b[92m[-0.15543241 -0.50416569]\u001b[0m\t \u001b[1m\u001b[92m0.27834227115707555\u001b[0m\t \u001b[1m\u001b[92m0.27834227115707555\u001b[0m\t \u001b[1m\u001b[92m2.3377486203744953\u001b[0m\t \u001b[1m\u001b[92m2.674226020819976\u001b[0m\n",
            "11 \t [ 2.82141853 -1.62210961]\t 10.591642119534711\t 0.27834227115707555\t 3.2854587931047377\t 3.1224856516970996\n",
            "12 \t [-1.44726022 -1.56621344]\t 4.547586682146996\t 0.27834227115707555\t 2.6860379494908786\t 2.6547515258282894\n",
            "13 \t [ 0.55496638 -0.53860436]\t 0.5980823390169467\t 0.27834227115707555\t 2.339582413985145\t 2.5468822254479915\n",
            "\u001b[1m\u001b[92m14\u001b[0m\t \u001b[1m\u001b[92m[-0.03051952  0.12968737]\u001b[0m\t \u001b[1m\u001b[92m0.017750256068549304\u001b[0m\t \u001b[1m\u001b[92m0.017750256068549304\u001b[0m\t \u001b[1m\u001b[92m2.660406285625591\u001b[0m\t \u001b[1m\u001b[92m2.9052135154749643\u001b[0m\n",
            "15 \t [ 0.1456551  -0.05886513]\t 0.024680510579008184\t 0.017750256068549304\t 2.650425641959734\t 2.539452566372855\n",
            "16 \t [ 0.26260449 -0.19139533]\t 0.10559328890610786\t 0.017750256068549304\t 2.571357878848402\t 2.5904265307192094\n",
            "17 \t [ 0.20711435 -0.12237569]\t 0.0578721637461728\t 0.017750256068549304\t 2.462998022436167\t 3.0658576011787675\n",
            "18 \t [ 0.19588774 -0.11789925]\t 0.05227223871563147\t 0.017750256068549304\t 2.777084603598656\t 2.9415556722330223\n",
            "19 \t [ 0.64523447 -0.59131723]\t 0.7659835853135923\t 0.017750256068549304\t 2.491862069749771\t 2.5551722207573473\n",
            "20 \t [ 0.5097993  -0.45871716]\t 0.47031676274563017\t 0.017750256068549304\t 2.6913249300815827\t 2.9575672862835107\n"
          ]
        }
      ],
      "source": [
        "### EXACT GP EI GRADIENTS\n",
        "\n",
        "np.random.seed(run_num_17)\n",
        "surrogate_gp_17 = dGaussianProcess(cov_func, optimize=opt)\n",
        "\n",
        "gp_17 = dGPGO_gp(surrogate_gp_17, Acquisition_grad(util_gp), objfunc, param)\n",
        "gp_17.run(init_evals=n_init, max_iter=iters)\n"
      ]
    },
    {
      "cell_type": "code",
      "execution_count": 30,
      "metadata": {
        "id": "f0HIEP3PIUEa",
        "colab": {
          "base_uri": "https://localhost:8080/"
        },
        "outputId": "485196ec-5496-4a2d-9aac-0264674e1bcb"
      },
      "outputs": [
        {
          "output_type": "stream",
          "name": "stdout",
          "text": [
            "Evaluation \t Proposed point \t  Current eval. \t  Best eval. \t        Exact EI: StdDev. x \t Approx EI: StdDev. x \n",
            "init\t [1.53983224 0.05584255]\t 2.3742017032787373\t 2.3742017032787373\t    \t    \n",
            "init\t [ 3.87687906 -3.25795609]\t 25.644469161882945\t 2.3742017032787373\t    \t    \n",
            "init\t [3.60686662 2.56139557]\t 19.570234102364928\t 2.3742017032787373\t    \t    \n",
            "init\t [1.70088108 4.99604939]\t 27.853505942237412\t 2.3742017032787373\t    \t    \n",
            "init\t [-2.48864335 -4.83014733]\t 29.523668919355142\t 2.3742017032787373\t    \t    \n",
            "1  \t [-5.00718904  2.9174042 ]\t 33.58318939621877\t 2.3742017032787373\t 3.0403234456623927\t 3.7741947226024672\n",
            "2  \t [-2.20660477 -0.45183714]\t 5.073261429346723\t 2.3742017032787373\t 2.65089140912695\t 2.7543262690476276\n",
            "3  \t [-1.33223764  2.98566968]\t 10.689080551059877\t 2.3742017032787373\t 2.890087432597956\t 3.408683455277765\n",
            "4  \t [-5.12      -1.9319886]\t 29.946979952812764\t 2.3742017032787373\t 3.191890495223618\t 3.806445491521425\n",
            "5  \t [ 0.17835775 -2.37604674]\t 5.677409592475777\t 2.3742017032787373\t 2.982458589646849\t 3.110489891604189\n",
            "6  \t [ 0.76019233 -5.09422476]\t 26.529018326324856\t 2.3742017032787373\t 2.9204015733956914\t 2.91489347152028\n",
            "7  \t [5.12 5.12]\t 52.4288\t 2.3742017032787373\t 3.0348237261826707\t 3.362453509341059\n",
            "8  \t [-5.12 -5.12]\t 52.4288\t 2.3742017032787373\t 2.6769144152231643\t 3.054317435791354\n",
            "9  \t [5.12000000e+00 4.87881459e-03]\t 26.21442380283184\t 2.3742017032787373\t 2.993499096241947\t 3.130689279045887\n",
            "10 \t [-2.78212984  5.12      ]\t 33.95464647438897\t 2.3742017032787373\t 2.917935133808299\t 3.0034329268208806\n",
            "\u001b[1m\u001b[92m11\u001b[0m\t \u001b[1m\u001b[92m[0.10037991 0.52126672]\u001b[0m\t \u001b[1m\u001b[92m0.2817951190899045\u001b[0m\t \u001b[1m\u001b[92m0.2817951190899045\u001b[0m\t \u001b[1m\u001b[92m2.8620620561921415\u001b[0m\t \u001b[1m\u001b[92m3.01051962932973\u001b[0m\n",
            "12 \t [0.35005638 1.25449049]\t 1.6962858553300455\t 0.2817951190899045\t 2.5575315083954364\t 2.6656907768426783\n",
            "\u001b[1m\u001b[92m13\u001b[0m\t \u001b[1m\u001b[92m[-0.31608194  0.27381541]\u001b[0m\t \u001b[1m\u001b[92m0.17488267403911245\u001b[0m\t \u001b[1m\u001b[92m0.17488267403911245\u001b[0m\t \u001b[1m\u001b[92m2.9365016494317597\u001b[0m\t \u001b[1m\u001b[92m2.635038755791461\u001b[0m\n",
            "\u001b[1m\u001b[92m14\u001b[0m\t \u001b[1m\u001b[92m[-0.17300564  0.03485954]\u001b[0m\t \u001b[1m\u001b[92m0.03114613932096379\u001b[0m\t \u001b[1m\u001b[92m0.03114613932096379\u001b[0m\t \u001b[1m\u001b[92m2.4712231293602813\u001b[0m\t \u001b[1m\u001b[92m2.3907265687494563\u001b[0m\n",
            "\u001b[1m\u001b[92m15\u001b[0m\t \u001b[1m\u001b[92m[-0.12559071 -0.06675054]\u001b[0m\t \u001b[1m\u001b[92m0.020228660627750476\u001b[0m\t \u001b[1m\u001b[92m0.020228660627750476\u001b[0m\t \u001b[1m\u001b[92m2.6812220567966776\u001b[0m\t \u001b[1m\u001b[92m2.85412662005167\u001b[0m\n",
            "16 \t [-0.23898179  0.07230564]\t 0.062340400671049304\t 0.020228660627750476\t 2.4517629375268397\t 2.571714580819844\n",
            "17 \t [ 0.35771579 -0.48775535]\t 0.36586587000041926\t 0.020228660627750476\t 3.4792151135197105\t 3.355086371654086\n",
            "18 \t [-2.95574112  0.95779428]\t 9.65377542727976\t 0.020228660627750476\t 3.0338043436701696\t 3.343063599995126\n",
            "19 \t [-0.53730494  0.63365804]\t 0.6902191055773643\t 0.020228660627750476\t 2.8004246741133167\t 2.9018804377934737\n",
            "20 \t [-0.107596   -0.17590103]\t 0.04251807042281648\t 0.020228660627750476\t 2.8882344843843204\t 2.7657408290147365\n"
          ]
        }
      ],
      "source": [
        "### EXACT GP EI GRADIENTS\n",
        "\n",
        "np.random.seed(run_num_18)\n",
        "surrogate_gp_18 = dGaussianProcess(cov_func, optimize=opt)\n",
        "\n",
        "gp_18 = dGPGO_gp(surrogate_gp_18, Acquisition_grad(util_gp), objfunc, param)\n",
        "gp_18.run(init_evals=n_init, max_iter=iters)\n"
      ]
    },
    {
      "cell_type": "code",
      "execution_count": 31,
      "metadata": {
        "id": "S3mxRQDLIUPC",
        "colab": {
          "base_uri": "https://localhost:8080/"
        },
        "outputId": "f58ed632-71fa-4a79-c1ea-de03cb112a3d"
      },
      "outputs": [
        {
          "output_type": "stream",
          "name": "stdout",
          "text": [
            "Evaluation \t Proposed point \t  Current eval. \t  Best eval. \t        Exact EI: StdDev. x \t Approx EI: StdDev. x \n",
            "init\t [-4.12125592  2.6751971 ]\t 24.141429859518958\t 12.957869519084127\t    \t    \n",
            "init\t [-2.59135515 -3.70553152]\t 20.446085385698954\t 12.957869519084127\t    \t    \n",
            "init\t [-1.72598719 -4.27008445]\t 21.212653034418548\t 12.957869519084127\t    \t    \n",
            "init\t [1.76104531 3.13952049]\t 12.957869519084127\t 12.957869519084127\t    \t    \n",
            "init\t [4.9432772  1.38916592]\t 26.36577149009895\t 12.957869519084127\t    \t    \n",
            "1  \t [ 4.82668731 -3.73098301]\t 37.21714456946748\t 12.957869519084127\t 3.430892484521406\t 4.65611768047596\n",
            "\u001b[1m\u001b[92m2\u001b[0m\t \u001b[1m\u001b[92m[-0.64696019 -0.05249445]\u001b[0m\t \u001b[1m\u001b[92m0.4213131500748724\u001b[0m\t \u001b[1m\u001b[92m0.4213131500748724\u001b[0m\t \u001b[1m\u001b[92m3.7132672679679297\u001b[0m\t \u001b[1m\u001b[92m3.6668266831694876\u001b[0m\n",
            "3  \t [5.12 5.12]\t 52.4288\t 0.4213131500748724\t 2.98340321753514\t 3.355797019634047\n",
            "4  \t [-5.12       -1.17676652]\t 27.599179438918725\t 0.4213131500748724\t 3.0016943526154103\t 3.3123413510288455\n",
            "5  \t [ 1.49625134 -0.9344517 ]\t 3.111968058662604\t 0.4213131500748724\t 2.812641791236457\t 2.657312167097409\n",
            "6  \t [-1.13623457  5.12      ]\t 27.50542900409558\t 0.4213131500748724\t 3.314743653343337\t 3.5541004021796425\n",
            "7  \t [-5.12 -5.12]\t 52.4288\t 0.4213131500748724\t 3.135926373615813\t 3.3100527477291313\n",
            "8  \t [ 1.40903202 -5.118352  ]\t 28.182898481697215\t 0.4213131500748724\t 2.5233502665607856\t 2.8005488572589394\n",
            "9  \t [-1.129485    1.49044072]\t 3.497149921203787\t 0.4213131500748724\t 2.5917567032922424\t 2.88716164035536\n",
            "10 \t [-1.124361   -0.95266215]\t 2.1717528409190026\t 0.4213131500748724\t 3.0084922502502778\t 3.163136986676883\n",
            "11 \t [0.6341959  0.56043726]\t 0.7162943566728293\t 0.4213131500748724\t 2.4094973590956545\t 2.4199927364897755\n",
            "12 \t [ 3.7159318 -1.1984329]\t 15.244390559818866\t 0.4213131500748724\t 2.6595198124891977\t 2.5824619452896007\n",
            "13 \t [-2.48735293  0.07616529]\t 6.192725764152591\t 0.4213131500748724\t 2.9371119183670937\t 2.635393799967112\n",
            "14 \t [ 0.54979027 -2.29741603]\t 5.580389775714139\t 0.4213131500748724\t 2.4779654384401857\t 2.479027688028837\n",
            "\u001b[1m\u001b[92m15\u001b[0m\t \u001b[1m\u001b[92m[0.28678078 0.39640131]\u001b[0m\t \u001b[1m\u001b[92m0.2393772147734737\u001b[0m\t \u001b[1m\u001b[92m0.2393772147734737\u001b[0m\t \u001b[1m\u001b[92m2.860980513443013\u001b[0m\t \u001b[1m\u001b[92m2.677256886877219\u001b[0m\n",
            "\u001b[1m\u001b[92m16\u001b[0m\t \u001b[1m\u001b[92m[0.24467325 0.42114964]\u001b[0m\t \u001b[1m\u001b[92m0.2372320181346337\u001b[0m\t \u001b[1m\u001b[92m0.2372320181346337\u001b[0m\t \u001b[1m\u001b[92m2.5895179694769865\u001b[0m\t \u001b[1m\u001b[92m2.4558143460960524\u001b[0m\n",
            "17 \t [0.20782688 0.45788375]\t 0.25284953860641646\t 0.2372320181346337\t 2.6962226256345163\t 2.6368877022924417\n",
            "18 \t [0.02915492 1.28593359]\t 1.6544752134905603\t 0.2372320181346337\t 2.980528276844045\t 2.874457008894203\n",
            "\u001b[1m\u001b[92m19\u001b[0m\t \u001b[1m\u001b[92m[0.209095   0.08426727]\u001b[0m\t \u001b[1m\u001b[92m0.05082168986814589\u001b[0m\t \u001b[1m\u001b[92m0.05082168986814589\u001b[0m\t \u001b[1m\u001b[92m2.1986069690183636\u001b[0m\t \u001b[1m\u001b[92m2.179368568238142\u001b[0m\n",
            "20 \t [1.03361194 0.39052613]\t 1.220864301709343\t 0.05082168986814589\t 2.7037803419193174\t 2.570627448665689\n"
          ]
        }
      ],
      "source": [
        "### EXACT GP EI GRADIENTS\n",
        "\n",
        "np.random.seed(run_num_19)\n",
        "surrogate_gp_19 = dGaussianProcess(cov_func, optimize=opt)\n",
        "\n",
        "gp_19 = dGPGO_gp(surrogate_gp_19, Acquisition_grad(util_gp), objfunc, param)\n",
        "gp_19.run(init_evals=n_init, max_iter=iters)\n"
      ]
    },
    {
      "cell_type": "code",
      "execution_count": 32,
      "metadata": {
        "id": "Aawd59dRIUYn",
        "colab": {
          "base_uri": "https://localhost:8080/"
        },
        "outputId": "ef9ef070-c241-4164-8f10-fe865bba788f"
      },
      "outputs": [
        {
          "output_type": "stream",
          "name": "stdout",
          "text": [
            "Evaluation \t Proposed point \t  Current eval. \t  Best eval. \t        Exact EI: StdDev. x \t Approx EI: StdDev. x \n",
            "init\t [0.9024594  4.07258857]\t 17.400410665504328\t 1.579257056101869\t    \t    \n",
            "init\t [4.00927467 3.23417577]\t 26.53417627399789\t 1.579257056101869\t    \t    \n",
            "init\t [-4.75249064  1.96359764]\t 26.44188299535699\t 1.579257056101869\t    \t    \n",
            "init\t [-1.24230715  0.18955208]\t 1.579257056101869\t 1.579257056101869\t    \t    \n",
            "init\t [ 1.61742301 -3.13497377]\t 12.44411771617229\t 1.579257056101869\t    \t    \n",
            "1  \t [-3.59633469 -5.12      ]\t 39.1480231675953\t 1.579257056101869\t 2.8275139839734447\t 3.1385560534787307\n",
            "2  \t [ 5.12       -1.04833609]\t 27.313408558419926\t 1.579257056101869\t 2.7805113343983834\t 3.5409746314206094\n",
            "3  \t [-2.35021732  4.6689615 ]\t 27.322722964184308\t 1.579257056101869\t 2.7616707791870474\t 3.0192005361141714\n",
            "4  \t [-3.87977034 -1.48779248]\t 17.266144365339457\t 1.579257056101869\t 3.247114038151588\t 3.4264877554121074\n",
            "5  \t [1.79013693 0.16049596]\t 3.2303491925659467\t 1.579257056101869\t 3.049015562736012\t 3.2395067803109026\n",
            "6  \t [ 4.33836544 -4.78778528]\t 41.74430258137417\t 1.579257056101869\t 3.247943768838633\t 3.8409766604092943\n",
            "7  \t [-0.3090481 -5.12     ]\t 26.309910727138\t 1.579257056101869\t 3.4653882858200356\t 3.3941169401963784\n",
            "8  \t [-1.4096144   1.78628651]\t 5.177832253808251\t 1.579257056101869\t 3.00834423374284\t 3.1473018191321627\n",
            "9  \t [-0.85547838 -1.25901017]\t 2.3169498794915446\t 1.579257056101869\t 2.759826615355425\t 2.8964814347829795\n",
            "10 \t [-1.30997408 -2.53831725]\t 8.159086529106625\t 1.579257056101869\t 3.0205912143651306\t 3.0542363533683523\n",
            "\u001b[1m\u001b[92m11\u001b[0m\t \u001b[1m\u001b[92m[ 6.23377805e-05 -7.69397210e-02]\u001b[0m\t \u001b[1m\u001b[92m0.005919724552738908\u001b[0m\t \u001b[1m\u001b[92m0.005919724552738908\u001b[0m\t \u001b[1m\u001b[92m3.4081741948912967\u001b[0m\t \u001b[1m\u001b[92m3.1301679812856293\u001b[0m\n",
            "12 \t [0.39510686 1.13152359]\t 1.4364550662649131\t 0.005919724552738908\t 3.583804277739511\t 3.205438256735241\n",
            "13 \t [-0.38670043  0.09549648]\t 0.15865680101345797\t 0.005919724552738908\t 3.2989598803833844\t 3.747244805862317\n",
            "14 \t [-1.07123757  0.06714469]\t 1.1520583463245002\t 0.005919724552738908\t 2.6370834394043277\t 2.213273504778462\n",
            "15 \t [ 0.00517704 -0.2241199 ]\t 0.05025653053265468\t 0.005919724552738908\t 2.7862802786982765\t 2.600164451296874\n",
            "16 \t [5.12 5.12]\t 52.4288\t 0.005919724552738908\t 3.1015735175723687\t 2.9427436694083644\n",
            "17 \t [-0.16257244 -0.01889027]\t 0.02678664111763869\t 0.005919724552738908\t 2.919195425535604\t 3.1581960370839393\n",
            "18 \t [ 0.13299332 -0.37640499]\t 0.15936794268751525\t 0.005919724552738908\t 3.191586148897354\t 3.2901550980426806\n",
            "19 \t [ 0.30635614 -0.57448327]\t 0.4238851128676901\t 0.005919724552738908\t 3.079284146180144\t 2.5253495801365204\n",
            "20 \t [ 0.29036069 -0.55764543]\t 0.39527775512327473\t 0.005919724552738908\t 2.5706628841619974\t 2.2824940508987486\n"
          ]
        }
      ],
      "source": [
        "### EXACT GP EI GRADIENTS\n",
        "\n",
        "np.random.seed(run_num_20)\n",
        "surrogate_gp_20 = dGaussianProcess(cov_func, optimize=opt)\n",
        "\n",
        "gp_20 = dGPGO_gp(surrogate_gp_20, Acquisition_grad(util_gp), objfunc, param)\n",
        "gp_20.run(init_evals=n_init, max_iter=iters)\n"
      ]
    },
    {
      "cell_type": "code",
      "execution_count": 33,
      "metadata": {
        "id": "xkgzPRbBTHaq",
        "colab": {
          "base_uri": "https://localhost:8080/"
        },
        "outputId": "43221a28-0cb4-4841-e936-d8f9b8e82fe5"
      },
      "outputs": [
        {
          "output_type": "execute_result",
          "data": {
            "text/plain": [
              "1663075895.5922399"
            ]
          },
          "metadata": {},
          "execution_count": 33
        }
      ],
      "source": [
        "end_gp = time.time()\n",
        "end_gp\n",
        "\n",
        "time_gp = end_gp - start_gp\n",
        "time_gp\n",
        "\n",
        "start_stp = time.time()\n",
        "start_stp"
      ]
    },
    {
      "cell_type": "code",
      "execution_count": 34,
      "metadata": {
        "id": "7CG3Ndvb16Rb",
        "colab": {
          "base_uri": "https://localhost:8080/"
        },
        "outputId": "b689a726-eb7a-4ee1-a654-b090b814cdbb"
      },
      "outputs": [
        {
          "output_type": "stream",
          "name": "stdout",
          "text": [
            "Evaluation \t Proposed point \t  Current eval. \t  Best eval. \t        Exact EI: StdDev. x \t Approx EI: StdDev. x \n",
            "init\t [-0.84969467  2.25612281]\t 5.812071182014687\t 1.275455677703416\t    \t    \n",
            "init\t [-5.1188288  -2.02411446]\t 30.299447634857913\t 1.275455677703416\t    \t    \n",
            "init\t [-3.61721968 -4.17445279]\t 30.510334291475417\t 1.275455677703416\t    \t    \n",
            "init\t [-3.21269544 -1.58145816]\t 12.822421857501787\t 1.275455677703416\t    \t    \n",
            "init\t [-1.05710106  0.39748336]\t 1.275455677703416\t 1.275455677703416\t    \t    \n",
            "1  \t [ 4.04077223 -4.24914728]\t 34.383092818836786\t 1.275455677703416\t 3.0398354683961246\t 4.233651105505456\n",
            "2  \t [4.42977754 2.01541797]\t 23.68483867572069\t 1.275455677703416\t 3.0251290851947155\t 3.4881015729430294\n",
            "3  \t [ 0.70503872 -1.87020893]\t 3.994761027123115\t 1.275455677703416\t 3.0109437437808606\t 3.4222967277254157\n",
            "4  \t [-4.89958599  4.58721496]\t 45.0484840280944\t 1.275455677703416\t 2.947663656273354\t 4.0268056649773065\n",
            "5  \t [-0.21267453 -5.12      ]\t 26.25963045537311\t 1.275455677703416\t 2.8566360920280807\t 3.642803034962818\n",
            "6  \t [-0.74220389  5.12      ]\t 26.765266621345376\t 1.275455677703416\t 2.7768437631698926\t 2.7492194197205806\n",
            "7  \t [3.11246279 5.12      ]\t 35.901824640743556\t 1.275455677703416\t 3.0452886857634662\t 3.237344239578223\n",
            "8  \t [ 5.12       -1.13814294]\t 27.50976934539704\t 1.275455677703416\t 2.9956574811409413\t 3.172777280605658\n",
            "9  \t [-5.12        1.24153386]\t 27.755806320661765\t 1.275455677703416\t 2.938267501334948\t 2.6880421977292333\n",
            "10 \t [ 1.84813121 -0.11641726]\t 3.429141944341254\t 1.275455677703416\t 3.103415819304694\t 2.964745789889452\n",
            "11 \t [1.35820157 2.49688747]\t 8.079158544666951\t 1.275455677703416\t 2.6779802523284912\t 2.4334071488141893\n",
            "12 \t [-1.0822649  -2.05522693]\t 5.395255046197064\t 1.275455677703416\t 3.108009318695946\t 2.718779043064843\n",
            "13 \t [-2.49741082  0.81754984]\t 6.905448537390447\t 1.275455677703416\t 2.0028853674957454\t 2.454449286892305\n",
            "14 \t [ 2.41088816 -1.90405148]\t 9.437793755700927\t 1.275455677703416\t 2.8549406943943025\t 2.8075937938233024\n",
            "\u001b[1m\u001b[92m15\u001b[0m\t \u001b[1m\u001b[92m[0.27392732 0.10379781]\u001b[0m\t \u001b[1m\u001b[92m0.08581016070630748\u001b[0m\t \u001b[1m\u001b[92m0.08581016070630748\u001b[0m\t \u001b[1m\u001b[92m2.8606648881301617\u001b[0m\t \u001b[1m\u001b[92m2.456917038969843\u001b[0m\n",
            "16 \t [-2.21777914  2.77321712]\t 12.609277465461878\t 0.08581016070630748\t 2.7074909052028087\t 2.6278313424027644\n",
            "17 \t [ 1.88154302 -4.6022922 ]\t 24.721297602314603\t 0.08581016070630748\t 2.84575632908193\t 2.986627255537197\n",
            "18 \t [5.12 5.12]\t 52.4288\t 0.08581016070630748\t 2.8184623294350297\t 2.991509971044632\n",
            "19 \t [-2.77388012  5.12      ]\t 33.9088109006493\t 0.08581016070630748\t 3.0790978487338183\t 3.092384184544529\n",
            "20 \t [3.4906695  0.11926199]\t 12.198996968445028\t 0.08581016070630748\t 2.6358256440242434\t 2.78300423896448\n"
          ]
        }
      ],
      "source": [
        "### EXACT STP EI GRADIENTS\n",
        "\n",
        "np.random.seed(run_num_1)\n",
        "surrogate_stp_1 = dtStudentProcess(cov_func, optimize=opt, nu = df)\n",
        "\n",
        "stp_1 = dGPGO_stp(surrogate_stp_1, Acquisition_grad(util_stp), objfunc, param)\n",
        "stp_1.run(init_evals=n_init, max_iter=iters)\n"
      ]
    },
    {
      "cell_type": "code",
      "execution_count": 35,
      "metadata": {
        "id": "-ilCPSAu9SAg",
        "colab": {
          "base_uri": "https://localhost:8080/"
        },
        "outputId": "1d2494e0-cb91-479e-c494-75cd08a92f43"
      },
      "outputs": [
        {
          "output_type": "stream",
          "name": "stdout",
          "text": [
            "Evaluation \t Proposed point \t  Current eval. \t  Best eval. \t        Exact EI: StdDev. x \t Approx EI: StdDev. x \n",
            "init\t [-0.6554122  -4.85451539]\t 23.995884788327533\t 0.6972563370202991\t    \t    \n",
            "init\t [ 0.50854377 -0.6622987 ]\t 0.6972563370202991\t 0.6972563370202991\t    \t    \n",
            "init\t [-0.81543371 -1.73737143]\t 3.683391625826377\t 0.6972563370202991\t    \t    \n",
            "init\t [-3.02439799  1.2213347 ]\t 10.638641624769724\t 0.6972563370202991\t    \t    \n",
            "init\t [-2.05153614 -2.3876887 ]\t 9.90985788235879\t 0.6972563370202991\t    \t    \n",
            "1  \t [3.24917641 5.12      ]\t 36.77154733490283\t 0.6972563370202991\t 3.3869575814259347\t 3.7738376036071113\n",
            "2  \t [ 4.84260546 -3.96517156]\t 39.173413151255836\t 0.6972563370202991\t 2.7983281930209762\t 3.754338474703566\n",
            "3  \t [-5.12 -5.12]\t 52.4288\t 0.6972563370202991\t 3.4131495833546817\t 3.694385100984289\n",
            "4  \t [4.361124   0.71949956]\t 19.537082190461245\t 0.6972563370202991\t 2.556428557446131\t 3.10229189948606\n",
            "5  \t [0.49699485 2.25768208]\t 5.344132228651693\t 0.6972563370202991\t 3.139712695100306\t 3.250582536441492\n",
            "6  \t [-4.40667555  4.45597249]\t 39.27448026000003\t 0.6972563370202991\t 3.3617083911962005\t 3.4167377654450215\n",
            "7  \t [-0.65546187  5.12      ]\t 26.644030258693927\t 0.6972563370202991\t 2.9411625032155393\t 2.9134215684560947\n",
            "8  \t [ 1.99014433 -1.73020261]\t 6.954275509019256\t 0.6972563370202991\t 2.383769122034476\t 2.5154956591894866\n",
            "9  \t [-5.12       -1.22039828]\t 27.703771959535135\t 0.6972563370202991\t 2.825787013869687\t 2.8596801637762064\n",
            "10 \t [ 1.98847814 -4.89621707]\t 27.926986887094642\t 0.6972563370202991\t 2.6247652865116096\t 3.139810434797002\n",
            "11 \t [-0.75242424  0.44924985]\t 0.7679676707974388\t 0.6972563370202991\t 2.6770195304142015\t 2.9640959722942255\n",
            "12 \t [1.74029289 0.86321659]\t 3.7737622436939797\t 0.6972563370202991\t 2.7134639551549276\t 2.747147326744585\n",
            "13 \t [5.12      3.5841039]\t 39.06020080101157\t 0.6972563370202991\t 2.8520667645523528\t 2.805936117563406\n",
            "14 \t [-1.96161748  3.11013591]\t 13.52088848945201\t 0.6972563370202991\t 2.6369112595027433\t 2.8495572058978587\n",
            "15 \t [-5.12        1.40046184]\t 28.175693372710953\t 0.6972563370202991\t 2.7843569987848933\t 2.7197158400398282\n",
            "16 \t [ 4.58294043 -1.34118824]\t 22.802128899163975\t 0.6972563370202991\t 2.749683117525976\t 2.241286298075915\n",
            "17 \t [2.85968512 2.77431222]\t 15.87460732157562\t 0.6972563370202991\t 2.8418430096739224\t 3.0653185430806618\n",
            "18 \t [1.22385524 4.15921974]\t 18.796930497760265\t 0.6972563370202991\t 2.846817334012612\t 2.9827653203173745\n",
            "19 \t [-2.78619288 -4.40843336]\t 27.197155489835495\t 0.6972563370202991\t 2.8157930931634763\t 2.169589774391143\n",
            "20 \t [-2.39017578 -0.66365562]\t 6.153379040729871\t 0.6972563370202991\t 2.883212075906272\t 2.939232599123848\n"
          ]
        }
      ],
      "source": [
        "### EXACT STP EI GRADIENTS\n",
        "\n",
        "np.random.seed(run_num_2)\n",
        "surrogate_stp_2 = dtStudentProcess(cov_func, optimize=opt, nu = df)\n",
        "\n",
        "stp_2 = dGPGO_stp(surrogate_stp_2, Acquisition_grad(util_stp), objfunc, param)\n",
        "stp_2.run(init_evals=n_init, max_iter=iters)\n"
      ]
    },
    {
      "cell_type": "code",
      "execution_count": 36,
      "metadata": {
        "id": "XieJ158mIvlP",
        "colab": {
          "base_uri": "https://localhost:8080/"
        },
        "outputId": "139794a4-ad60-4f95-cbb2-2268cd39ac83"
      },
      "outputs": [
        {
          "output_type": "stream",
          "name": "stdout",
          "text": [
            "Evaluation \t Proposed point \t  Current eval. \t  Best eval. \t        Exact EI: StdDev. x \t Approx EI: StdDev. x \n",
            "init\t [0.52017052 2.1314337 ]\t 4.813587005218131\t 4.59675431006429\t    \t    \n",
            "init\t [-2.14113547  0.11087468]\t 4.59675431006429\t 4.59675431006429\t    \t    \n",
            "init\t [4.02377681 4.05804123]\t 32.65847846685941\t 4.59675431006429\t    \t    \n",
            "init\t [-3.83400642 -2.99783293]\t 23.686607498512902\t 4.59675431006429\t    \t    \n",
            "init\t [-4.59297584 -0.6061072 ]\t 21.462792989409664\t 4.59675431006429\t    \t    \n",
            "1  \t [ 2.87042319 -1.98283743]\t 12.170973549365186\t 4.59675431006429\t 2.952695931700187\t 2.597026678515837\n",
            "2  \t [-3.19677619  4.62951673]\t 31.65180316747537\t 4.59675431006429\t 2.936772586863199\t 3.9866871368876833\n",
            "3  \t [-0.40695286 -2.40833298]\t 5.96567836677963\t 4.59675431006429\t 2.6859321944377905\t 3.615031866090113\n",
            "4  \t [ 1.11743774 -5.12      ]\t 27.46306710821681\t 4.59675431006429\t 2.845161906534019\t 3.662264524230361\n",
            "5  \t [ 5.12      -0.3554168]\t 26.340721100413365\t 4.59675431006429\t 2.7597046633763167\t 3.1965787508916264\n",
            "6  \t [ 5.07685177 -4.61766316]\t 47.097236897679664\t 4.59675431006429\t 2.781397233111565\t 3.2510459000790117\n",
            "7  \t [-0.2183422  5.12     ]\t 26.26207331648937\t 4.59675431006429\t 3.1533029038101086\t 3.096987666043729\n",
            "8  \t [-5.04921998  2.18751399]\t 30.279839877153258\t 4.59675431006429\t 2.9217598647855043\t 3.140817986537968\n",
            "9  \t [-5.12 -5.12]\t 52.4288\t 4.59675431006429\t 2.6063127001759883\t 2.3726345808488083\n",
            "\u001b[1m\u001b[92m10\u001b[0m\t \u001b[1m\u001b[92m[ 0.61078616 -0.44330386]\u001b[0m\t \u001b[1m\u001b[92m0.5695780434903125\u001b[0m\t \u001b[1m\u001b[92m0.5695780434903125\u001b[0m\t \u001b[1m\u001b[92m2.9444947010326756\u001b[0m\t \u001b[1m\u001b[92m2.911348143646826\u001b[0m\n",
            "11 \t [2.62984001 0.65102239]\t 7.339888648585784\t 0.5695780434903125\t 2.542049154032572\t 2.5150862360967072\n",
            "12 \t [-1.26077777  1.71853089]\t 4.542909011328532\t 0.5695780434903125\t 2.49790205007816\t 2.3827182682044796\n",
            "13 \t [-1.81596665 -4.47985615]\t 23.366845979236928\t 0.5695780434903125\t 2.8211861313347124\t 2.8623349727698217\n",
            "14 \t [-0.72892151 -0.5953462 ]\t 0.8857636672141276\t 0.5695780434903125\t 2.5052761718186556\t 2.7348172352819353\n",
            "15 \t [1.84850135 3.25822918]\t 14.033014633150183\t 0.5695780434903125\t 2.6853366372533936\t 3.000739037363189\n",
            "\u001b[1m\u001b[92m16\u001b[0m\t \u001b[1m\u001b[92m[0.18164036 0.64030987]\u001b[0m\t \u001b[1m\u001b[92m0.44298995160546006\u001b[0m\t \u001b[1m\u001b[92m0.44298995160546006\u001b[0m\t \u001b[1m\u001b[92m2.4633416416117635\u001b[0m\t \u001b[1m\u001b[92m2.775673643273831\u001b[0m\n",
            "17 \t [-1.81253047 -1.62064505]\t 5.911757098327624\t 0.44298995160546006\t 2.516042076249627\t 2.629698542659102\n",
            "18 \t [ 4.83350854 -2.68217332]\t 30.556858596304956\t 0.44298995160546006\t 3.120452575283028\t 3.3616751063092805\n",
            "19 \t [4.25582427 1.60510838]\t 20.688413159190425\t 0.44298995160546006\t 2.8154323935263683\t 2.934776684083928\n",
            "20 \t [ 1.07282003 -1.52698707]\t 3.4826323201032956\t 0.44298995160546006\t 2.463088884551944\t 1.4800659218229013\n"
          ]
        }
      ],
      "source": [
        "### EXACT STP EI GRADIENTS\n",
        "\n",
        "np.random.seed(run_num_3)\n",
        "surrogate_stp_3 = dtStudentProcess(cov_func, optimize=opt, nu = df)\n",
        "\n",
        "stp_3 = dGPGO_stp(surrogate_stp_3, Acquisition_grad(util_stp), objfunc, param)\n",
        "stp_3.run(init_evals=n_init, max_iter=iters)\n"
      ]
    },
    {
      "cell_type": "code",
      "execution_count": 37,
      "metadata": {
        "id": "PhLBVOIfIvol",
        "colab": {
          "base_uri": "https://localhost:8080/"
        },
        "outputId": "8548bfff-b2b7-42d4-bf1c-1d29b0625906"
      },
      "outputs": [
        {
          "output_type": "stream",
          "name": "stdout",
          "text": [
            "Evaluation \t Proposed point \t  Current eval. \t  Best eval. \t        Exact EI: StdDev. x \t Approx EI: StdDev. x \n",
            "init\t [4.78238555 0.48365823]\t 23.1051368481516\t 6.844040613967918\t    \t    \n",
            "init\t [4.84028785 2.19971578]\t 28.267135924302462\t 6.844040613967918\t    \t    \n",
            "init\t [ 2.02474316 -2.90724357]\t 12.551650027390728\t 6.844040613967918\t    \t    \n",
            "init\t [ 4.87705042 -5.05620219]\t 49.3508013219099\t 6.844040613967918\t    \t    \n",
            "init\t [-2.52946061 -0.66773471]\t 6.844040613967918\t 6.844040613967918\t    \t    \n",
            "1  \t [-5.12 -5.12]\t 52.4288\t 6.844040613967918\t 2.979680981504418\t 3.8602450280763407\n",
            "2  \t [-0.9356617   4.54448646]\t 21.527820011061692\t 6.844040613967918\t 2.8942863358300333\t 3.3968436828306894\n",
            "3  \t [-1.01612639 -5.12      ]\t 27.246912843643408\t 6.844040613967918\t 3.225089192153543\t 3.5375834431174304\n",
            "\u001b[1m\u001b[92m4\u001b[0m\t \u001b[1m\u001b[92m[0.49976441 1.02192631]\u001b[0m\t \u001b[1m\u001b[92m1.294097849325865\u001b[0m\t \u001b[1m\u001b[92m1.294097849325865\u001b[0m\t \u001b[1m\u001b[92m3.3384119189985157\u001b[0m\t \u001b[1m\u001b[92m3.4374204471176917\u001b[0m\n",
            "5  \t [-5.12        2.78751688]\t 33.98465033894799\t 1.294097849325865\t 2.797704096499894\t 3.3720238689383657\n",
            "6  \t [2.66208668 5.12      ]\t 33.30110549765256\t 1.294097849325865\t 2.9087732667262673\t 3.296263974641373\n",
            "7  \t [-5.12      -1.7958123]\t 29.43934181937104\t 1.294097849325865\t 2.6432035071061057\t 2.593774866283486\n",
            "8  \t [-2.12711674  1.61955525]\t 7.147584837928823\t 1.294097849325865\t 2.6500223911248773\t 2.393693604133212\n",
            "\u001b[1m\u001b[92m9\u001b[0m\t \u001b[1m\u001b[92m[-0.46825478 -0.91206281]\u001b[0m\t \u001b[1m\u001b[92m1.0511211156317808\u001b[0m\t \u001b[1m\u001b[92m1.0511211156317808\u001b[0m\t \u001b[1m\u001b[92m2.775391814045266\u001b[0m\t \u001b[1m\u001b[92m2.7618008453886627\u001b[0m\n",
            "10 \t [ 4.89934225 -2.03905811]\t 28.16131246216571\t 1.0511211156317808\t 2.833141366881079\t 2.7198671718008125\n",
            "11 \t [1.95988536 1.86894382]\t 7.334101637902325\t 1.0511211156317808\t 3.1136570488169126\t 3.005066578974885\n",
            "12 \t [ 1.40615645 -0.45228842]\t 2.1818407800766093\t 1.0511211156317808\t 2.630624950918078\t 3.032549810429093\n",
            "13 \t [-2.20729005 -2.73151414]\t 12.333298851659318\t 1.0511211156317808\t 2.664092552608206\t 2.878507172069235\n",
            "14 \t [-3.38813568  5.05716686]\t 37.05440005247786\t 1.0511211156317808\t 2.553323010951878\t 2.6291673378753346\n",
            "15 \t [5.12 5.12]\t 52.4288\t 1.0511211156317808\t 2.6392944213381337\t 2.334233390912351\n",
            "16 \t [0.08799884 2.44714394]\t 5.996257254247936\t 1.0511211156317808\t 2.7393283227011276\t 2.3861587084454725\n",
            "17 \t [ 0.0765597  -2.56249345]\t 6.572234067461571\t 1.0511211156317808\t 2.51629686829478\t 2.263454805162216\n",
            "18 \t [ 1.77913263 -5.12      ]\t 29.379712918408288\t 1.0511211156317808\t 2.763978074584746\t 2.69512682354399\n",
            "19 \t [2.7478623  0.12122602]\t 7.56544296227763\t 1.0511211156317808\t 3.0567792074810756\t 3.1013256795929864\n",
            "\u001b[1m\u001b[92m20\u001b[0m\t \u001b[1m\u001b[92m[-0.72015227  0.36721859]\u001b[0m\t \u001b[1m\u001b[92m0.6534687927080635\u001b[0m\t \u001b[1m\u001b[92m0.6534687927080635\u001b[0m\t \u001b[1m\u001b[92m2.3656888462414414\u001b[0m\t \u001b[1m\u001b[92m2.196890739468794\u001b[0m\n"
          ]
        }
      ],
      "source": [
        "### EXACT STP EI GRADIENTS\n",
        "\n",
        "np.random.seed(run_num_4)\n",
        "surrogate_stp_4 = dtStudentProcess(cov_func, optimize=opt, nu = df)\n",
        "\n",
        "stp_4 = dGPGO_stp(surrogate_stp_4, Acquisition_grad(util_stp), objfunc, param)\n",
        "stp_4.run(init_evals=n_init, max_iter=iters)\n"
      ]
    },
    {
      "cell_type": "code",
      "execution_count": 38,
      "metadata": {
        "id": "arbiPyj2IvsJ",
        "colab": {
          "base_uri": "https://localhost:8080/"
        },
        "outputId": "14bb40d8-46c4-4f6d-8f56-db0cfae8b2b3"
      },
      "outputs": [
        {
          "output_type": "stream",
          "name": "stdout",
          "text": [
            "Evaluation \t Proposed point \t  Current eval. \t  Best eval. \t        Exact EI: StdDev. x \t Approx EI: StdDev. x \n",
            "init\t [-2.84678993  3.79629882]\t 22.516097589112718\t 1.3234068721819314\t    \t    \n",
            "init\t [-3.00319585  4.2865757 ]\t 27.393916517947076\t 1.3234068721819314\t    \t    \n",
            "init\t [-0.11866943  1.14425716]\t 1.3234068721819314\t 1.3234068721819314\t    \t    \n",
            "init\t [2.72289645 0.1886002 ]\t 7.449735113237491\t 1.3234068721819314\t    \t    \n",
            "init\t [-2.08076286 -3.19773462]\t 14.555080786026249\t 1.3234068721819314\t    \t    \n",
            "1  \t [ 4.32895605 -5.09732646]\t 44.722597532365825\t 1.3234068721819314\t 4.073838860683518\t 4.525732114684173\n",
            "2  \t [4.02415917 4.76321328]\t 38.882057823645106\t 1.3234068721819314\t 3.6023090407198146\t 3.754040408053642\n",
            "3  \t [-5.12       -0.11984206]\t 26.22876211861513\t 1.3234068721819314\t 3.491563100978102\t 3.5449191001511835\n",
            "4  \t [-5.12 -5.12]\t 52.4288\t 1.3234068721819314\t 3.2056249527868834\t 3.2482296701546653\n",
            "5  \t [0.62873132 3.74515918]\t 14.421520375583091\t 1.3234068721819314\t 2.8590414874106242\t 2.9491390343519104\n",
            "6  \t [ 0.43663463 -5.12      ]\t 26.405049798313218\t 1.3234068721819314\t 3.2442263323950224\t 3.4533891116435362\n",
            "7  \t [ 0.16215422 -1.37559972]\t 1.918568590202161\t 1.3234068721819314\t 2.3551378079715666\t 2.5166194545139002\n",
            "8  \t [ 5.12       -1.57018413]\t 28.679878206240208\t 1.3234068721819314\t 3.147487454431318\t 3.34241773842208\n",
            "9  \t [5.02338933 1.79193261]\t 28.44546283973827\t 1.3234068721819314\t 2.920382311749524\t 3.239972083153373\n",
            "10 \t [-2.06388434 -0.42264188]\t 4.438244713397967\t 1.3234068721819314\t 2.5661753779317924\t 2.43442272922296\n",
            "11 \t [ 1.62549395 -2.45090089]\t 8.649145727822019\t 1.3234068721819314\t 2.7275859970871186\t 2.9402013698766796\n",
            "12 \t [-2.80112818  1.3686137 ]\t 9.719422538454713\t 1.3234068721819314\t 2.6934157034133897\t 2.8774611191087494\n",
            "13 \t [-5.04112861 -2.4443102 ]\t 31.38763000260031\t 1.3234068721819314\t 2.7826511045730875\t 2.856975846671842\n",
            "14 \t [-5.12       2.3108921]\t 31.554622305315274\t 1.3234068721819314\t 2.2906008250664125\t 2.940102589778985\n",
            "15 \t [1.5658046  1.95830911]\t 6.28671861509765\t 1.3234068721819314\t 2.2329143831399683\t 1.6292406746968395\n",
            "\u001b[1m\u001b[92m16\u001b[0m\t \u001b[1m\u001b[92m[ 0.7915047  -0.11242988]\u001b[0m\t \u001b[1m\u001b[92m0.6391201673854465\u001b[0m\t \u001b[1m\u001b[92m0.6391201673854465\u001b[0m\t \u001b[1m\u001b[92m2.618423306869868\u001b[0m\t \u001b[1m\u001b[92m2.583421365761833\u001b[0m\n",
            "\u001b[1m\u001b[92m17\u001b[0m\t \u001b[1m\u001b[92m[-0.50282389 -0.36805695]\u001b[0m\t \u001b[1m\u001b[92m0.3882977887207176\u001b[0m\t \u001b[1m\u001b[92m0.3882977887207176\u001b[0m\t \u001b[1m\u001b[92m2.340780705134748\u001b[0m\t \u001b[1m\u001b[92m2.1679795332394245\u001b[0m\n",
            "18 \t [-0.56946676  4.98287059]\t 25.153291720459872\t 0.3882977887207176\t 2.4731662275282145\t 2.8233820288452685\n",
            "19 \t [-1.06019729  2.32218995]\t 6.516584446384375\t 0.3882977887207176\t 2.7813897663949376\t 3.458081733780176\n",
            "20 \t [ 3.13578193 -2.78624312]\t 17.59627903532323\t 0.3882977887207176\t 2.426560500003835\t 2.5458999088750063\n"
          ]
        }
      ],
      "source": [
        "### EXACT STP EI GRADIENTS\n",
        "\n",
        "np.random.seed(run_num_5)\n",
        "surrogate_stp_5 = dtStudentProcess(cov_func, optimize=opt, nu = df)\n",
        "\n",
        "stp_5 = dGPGO_stp(surrogate_stp_5, Acquisition_grad(util_stp), objfunc, param)\n",
        "stp_5.run(init_evals=n_init, max_iter=iters)\n"
      ]
    },
    {
      "cell_type": "code",
      "execution_count": 39,
      "metadata": {
        "id": "04KJCEm_Ivvf",
        "colab": {
          "base_uri": "https://localhost:8080/"
        },
        "outputId": "c74587a7-3a0e-41ec-9820-f96c9711a563"
      },
      "outputs": [
        {
          "output_type": "stream",
          "name": "stdout",
          "text": [
            "Evaluation \t Proposed point \t  Current eval. \t  Best eval. \t        Exact EI: StdDev. x \t Approx EI: StdDev. x \n",
            "init\t [ 4.02288795 -1.72052679]\t 19.143839911819178\t 0.7844720799352826\t    \t    \n",
            "init\t [ 3.28938622 -4.69302655]\t 32.84455992822337\t 0.7844720799352826\t    \t    \n",
            "init\t [-4.0175956   0.97333314]\t 17.088451781196223\t 0.7844720799352826\t    \t    \n",
            "init\t [ 0.30532979 -0.83141193]\t 0.7844720799352826\t 0.7844720799352826\t    \t    \n",
            "init\t [-1.68542362  1.25459899]\t 4.414671405342624\t 0.7844720799352826\t    \t    \n",
            "1  \t [-5.12 -5.12]\t 52.4288\t 0.7844720799352826\t 3.4714580031203512\t 3.750102696237337\n",
            "2  \t [5.12 5.12]\t 52.4288\t 0.7844720799352826\t 3.144975068562609\t 3.737166502110574\n",
            "3  \t [0.5400919  4.12329885]\t 17.29329265793968\t 0.7844720799352826\t 3.2663443376253833\t 3.3288843169109383\n",
            "4  \t [-0.94044771 -4.18504608]\t 18.39905260560136\t 0.7844720799352826\t 3.1971741248798424\t 4.019509345713097\n",
            "5  \t [3.76619496 1.55334426]\t 16.597102871428493\t 0.7844720799352826\t 2.2876312691537315\t 3.2730366029094915\n",
            "6  \t [-3.67373247  4.48684359]\t 33.628075685453894\t 0.7844720799352826\t 2.939136838728491\t 3.135625141816114\n",
            "7  \t [-3.24133241 -2.15379263]\t 15.145058504605299\t 0.7844720799352826\t 3.2182062167902936\t 3.316255902631955\n",
            "8  \t [0.7532965  1.03603881]\t 1.6408320329239063\t 0.7844720799352826\t 2.6680776523329217\t 2.7879119066102644\n",
            "9  \t [ 0.97645649 -2.23178641]\t 5.934337853592454\t 0.7844720799352826\t 2.4203234619189478\t 2.6575217116078145\n",
            "10 \t [-1.50269253 -0.46094859]\t 2.4705584332727617\t 0.7844720799352826\t 2.828761167903246\t 2.9973183611358136\n",
            "11 \t [ 2.28519949 -0.44027095]\t 5.415975234918838\t 0.7844720799352826\t 3.1512196384095015\t 3.0912491627252057\n",
            "12 \t [-5.12       -1.25953364]\t 27.800824996755086\t 0.7844720799352826\t 2.7660809497691834\t 3.02023268478781\n",
            "13 \t [3.97738001 3.45366881]\t 27.747379985337513\t 0.7844720799352826\t 2.65915556349448\t 2.938967999310727\n",
            "14 \t [-1.26785788  2.91983549]\t 10.132902883805308\t 0.7844720799352826\t 2.6671954134316693\t 3.037437416482055\n",
            "15 \t [2.23661459 5.12      ]\t 31.216844818580036\t 0.7844720799352826\t 2.9175352128200336\t 2.9874471586276896\n",
            "16 \t [-0.98036869 -1.70254002]\t 3.859765281626138\t 0.7844720799352826\t 2.6640752250930926\t 3.1490333319371118\n",
            "17 \t [ 0.91250095 -5.12      ]\t 27.047057983342043\t 0.7844720799352826\t 3.077616620188297\t 3.7782866637175068\n",
            "18 \t [5.12       0.14361529]\t 26.235025350984966\t 0.7844720799352826\t 2.639356181944765\t 3.094518819173129\n",
            "19 \t [-3.03704084 -5.12      ]\t 35.438017077076765\t 0.7844720799352826\t 3.3229028879308693\t 3.3369062853204015\n",
            "20 \t [-3.12590846  2.60169917]\t 16.540142277953088\t 0.7844720799352826\t 3.188925397150563\t 3.5429031782969425\n"
          ]
        }
      ],
      "source": [
        "### EXACT STP EI GRADIENTS\n",
        "\n",
        "np.random.seed(run_num_6)\n",
        "surrogate_stp_6 = dtStudentProcess(cov_func, optimize=opt, nu = df)\n",
        "\n",
        "stp_6 = dGPGO_stp(surrogate_stp_6, Acquisition_grad(util_stp), objfunc, param)\n",
        "stp_6.run(init_evals=n_init, max_iter=iters)\n"
      ]
    },
    {
      "cell_type": "code",
      "execution_count": 40,
      "metadata": {
        "id": "tAOkme3CIvyO",
        "colab": {
          "base_uri": "https://localhost:8080/"
        },
        "outputId": "d3ecb0a4-5fda-4915-8a4e-a4e2e3013af8"
      },
      "outputs": [
        {
          "output_type": "stream",
          "name": "stdout",
          "text": [
            "Evaluation \t Proposed point \t  Current eval. \t  Best eval. \t        Exact EI: StdDev. x \t Approx EI: StdDev. x \n",
            "init\t [-4.33860312  2.86636843]\t 27.039544996254122\t 5.622519010932044\t    \t    \n",
            "init\t [-0.63068947  2.28828342]\t 5.634010222398341\t 5.622519010932044\t    \t    \n",
            "init\t [4.8946126  0.39419771]\t 24.112624368867845\t 5.622519010932044\t    \t    \n",
            "init\t [ 0.01147355 -4.38219639]\t 19.20377688135857\t 5.622519010932044\t    \t    \n",
            "init\t [-2.37118484e+00 -1.20319155e-03]\t 5.622519010932044\t 5.622519010932044\t    \t    \n",
            "1  \t [-5.12 -5.12]\t 52.4288\t 5.622519010932044\t 2.8674302728103327\t 3.148634933530199\n",
            "2  \t [3.07690546 4.49650026]\t 29.685861828634444\t 5.622519010932044\t 2.9528781110079594\t 3.8051769087080998\n",
            "3  \t [ 3.81570236 -4.87523301]\t 38.32748138922263\t 5.622519010932044\t 3.0826351999704045\t 3.9080711390896887\n",
            "4  \t [-4.02558214 -1.33646422]\t 17.991448177385568\t 5.622519010932044\t 2.914451763713685\t 3.046307140328312\n",
            "\u001b[1m\u001b[92m5\u001b[0m\t \u001b[1m\u001b[92m[ 1.14176744 -0.82203787]\u001b[0m\t \u001b[1m\u001b[92m1.9793791540234094\u001b[0m\t \u001b[1m\u001b[92m1.9793791540234094\u001b[0m\t \u001b[1m\u001b[92m2.92380289161984\u001b[0m\t \u001b[1m\u001b[92m3.2140926300563177\u001b[0m\n",
            "6  \t [-1.55798609  5.12      ]\t 28.6417206684268\t 1.9793791540234094\t 3.113369684601618\t 3.4617278486982817\n",
            "7  \t [1.40783184 1.47880854]\t 4.168865177565498\t 1.9793791540234094\t 2.5164958361598493\t 2.7366316108138538\n",
            "8  \t [ 3.36732365 -2.25559908]\t 16.426595789712657\t 1.9793791540234094\t 3.040460606733302\t 3.2664621830994935\n",
            "\u001b[1m\u001b[92m9\u001b[0m\t \u001b[1m\u001b[92m[-0.78625176 -0.85497979]\u001b[0m\t \u001b[1m\u001b[92m1.3491822614670181\u001b[0m\t \u001b[1m\u001b[92m1.3491822614670181\u001b[0m\t \u001b[1m\u001b[92m2.8803801072901756\u001b[0m\t \u001b[1m\u001b[92m3.2047552529612187\u001b[0m\n",
            "10 \t [-2.37815711 -4.33890153]\t 24.481697665133964\t 1.3491822614670181\t 3.1008899757475348\t 3.079409921518929\n",
            "11 \t [5.12       3.35706455]\t 37.484282414768394\t 1.3491822614670181\t 2.514142056652322\t 2.410227388103382\n",
            "12 \t [-5.11292055  5.04211319]\t 51.56486198679663\t 1.3491822614670181\t 2.9355737267302775\t 2.7091903310913414\n",
            "13 \t [ 0.24634247 -2.15975176]\t 4.725212299559181\t 1.3491822614670181\t 2.802739264174383\t 2.880895700627249\n",
            "14 \t [0.89603625 3.38190369]\t 12.240153531934702\t 1.3491822614670181\t 2.2554057686679205\t 2.58689163511088\n",
            "15 \t [-1.73241701 -1.98217068]\t 6.9302692918146285\t 1.3491822614670181\t 3.0866480124835842\t 3.3065049553399963\n",
            "16 \t [-2.54484354  1.91347499]\t 10.137615174373618\t 1.3491822614670181\t 2.663120028652481\t 2.9723438894837875\n",
            "17 \t [-5.12        0.56835578]\t 26.53742828955597\t 1.3491822614670181\t 2.3849918042414564\t 2.507883988803258\n",
            "\u001b[1m\u001b[92m18\u001b[0m\t \u001b[1m\u001b[92m[-0.34005472  0.30015726]\u001b[0m\t \u001b[1m\u001b[92m0.20573159434814414\u001b[0m\t \u001b[1m\u001b[92m0.20573159434814414\u001b[0m\t \u001b[1m\u001b[92m3.3318012872079987\u001b[0m\t \u001b[1m\u001b[92m3.3778239327958004\u001b[0m\n",
            "19 \t [-3.63457363 -3.91766098]\t 28.55819302105993\t 0.20573159434814414\t 3.0678870681327743\t 3.161499214709796\n",
            "20 \t [-3.55098647  4.45289609]\t 32.43778850822032\t 0.20573159434814414\t 2.9635169418945773\t 2.9603581621586197\n"
          ]
        }
      ],
      "source": [
        "### EXACT STP EI GRADIENTS\n",
        "\n",
        "np.random.seed(run_num_7)\n",
        "surrogate_stp_7 = dtStudentProcess(cov_func, optimize=opt, nu = df)\n",
        "\n",
        "stp_7 = dGPGO_stp(surrogate_stp_7, Acquisition_grad(util_stp), objfunc, param)\n",
        "stp_7.run(init_evals=n_init, max_iter=iters)\n"
      ]
    },
    {
      "cell_type": "code",
      "execution_count": 41,
      "metadata": {
        "id": "69-J3EF4Iv1S",
        "colab": {
          "base_uri": "https://localhost:8080/"
        },
        "outputId": "df8b0c61-d62b-4f1a-b05f-2031f6084da1"
      },
      "outputs": [
        {
          "output_type": "stream",
          "name": "stdout",
          "text": [
            "Evaluation \t Proposed point \t  Current eval. \t  Best eval. \t        Exact EI: StdDev. x \t Approx EI: StdDev. x \n",
            "init\t [3.82391708 4.79785639]\t 37.641767782829874\t 0.10287109474532606\t    \t    \n",
            "init\t [3.78055209 0.31596228]\t 14.392406282091054\t 0.10287109474532606\t    \t    \n",
            "init\t [-2.73686192 -5.00327624]\t 32.52318635319257\t 0.10287109474532606\t    \t    \n",
            "init\t [-0.7119993  -0.99992207]\t 1.5067871566831337\t 0.10287109474532606\t    \t    \n",
            "init\t [ 0.23218863 -0.22126801]\t 0.10287109474532606\t 0.10287109474532606\t    \t    \n",
            "1  \t [ 4.96383424 -4.82578382]\t 47.92783980438184\t 0.10287109474532606\t 3.231782858742339\t 3.7412470721903284\n",
            "2  \t [-1.64097237  3.42825023]\t 14.44568993000212\t 0.10287109474532606\t 3.1863977542458652\t 3.400402154216994\n",
            "3  \t [-4.64705514 -0.94800671]\t 22.493838234610514\t 0.10287109474532606\t 2.6637435315090228\t 3.3721926746340567\n",
            "4  \t [ 1.05742796 -4.37121991]\t 20.22571739357228\t 0.10287109474532606\t 3.0271267475602626\t 3.4244497616158482\n",
            "5  \t [1.14109495 2.40276987]\t 7.075400714537837\t 0.10287109474532606\t 2.8068700322341127\t 3.269176889787211\n",
            "6  \t [-3.94043752  1.93309488]\t 19.263903636823148\t 0.10287109474532606\t 3.0825269554570767\t 3.2448928866129725\n",
            "7  \t [0.58149223 5.12      ]\t 26.55253321602776\t 0.10287109474532606\t 2.659627389721431\t 3.2669502175562877\n",
            "8  \t [ 1.70059296 -1.49405843]\t 5.124226995668568\t 0.10287109474532606\t 2.9812266954564377\t 3.287216930101451\n",
            "9  \t [ 5.09697866 -1.7525907 ]\t 29.050765593146355\t 0.10287109474532606\t 2.73583318690835\t 2.969070909490548\n",
            "10 \t [-0.98038443  0.81697827]\t 1.628607130668712\t 0.10287109474532606\t 3.127975966824461\t 3.5012365692239653\n",
            "11 \t [-1.6925872  -2.39874165]\t 8.618812938728311\t 0.10287109474532606\t 2.48290609317033\t 3.3970630689254295\n",
            "12 \t [-5.12 -5.12]\t 52.4288\t 0.10287109474532606\t 2.5684063106711488\t 2.819431496082913\n",
            "13 \t [5.12       2.47453165]\t 32.33770686951086\t 0.10287109474532606\t 2.548605018619328\t 2.532606007269032\n",
            "14 \t [-4.30816144  5.12      ]\t 44.7746549681564\t 0.10287109474532606\t 2.5833576518612587\t 2.619533649210565\n",
            "15 \t [-2.31047806  0.2210389 ]\t 5.387167084664923\t 0.10287109474532606\t 2.4352270508691762\t 1.9566285743817875\n",
            "16 \t [1.48158101 0.80621719]\t 2.8450684503676396\t 0.10287109474532606\t 2.503451980202384\t 2.2941847733425393\n",
            "17 \t [ 3.07553381 -3.37290759]\t 20.835413819834397\t 0.10287109474532606\t 2.6435634633958687\t 2.7189302903321817\n",
            "18 \t [ 0.16945438 -1.99440991]\t 4.006385686172957\t 0.10287109474532606\t 2.7276569855939283\t 2.2448021511029483\n",
            "19 \t [2.66733859 2.46180473]\t 13.175177682362381\t 0.10287109474532606\t 2.7246241980733217\t 2.5386428713009668\n",
            "20 \t [0.16739627 1.04209677]\t 1.1139871921911004\t 0.10287109474532606\t 2.260555076473773\t 2.479919903985587\n"
          ]
        }
      ],
      "source": [
        "### EXACT STP EI GRADIENTS\n",
        "\n",
        "np.random.seed(run_num_8)\n",
        "surrogate_stp_8 = dtStudentProcess(cov_func, optimize=opt, nu = df)\n",
        "\n",
        "stp_8 = dGPGO_stp(surrogate_stp_8, Acquisition_grad(util_stp), objfunc, param)\n",
        "stp_8.run(init_evals=n_init, max_iter=iters)\n"
      ]
    },
    {
      "cell_type": "code",
      "execution_count": 42,
      "metadata": {
        "id": "vonm9jyuIv4t",
        "colab": {
          "base_uri": "https://localhost:8080/"
        },
        "outputId": "3bd9692a-d893-44db-8fc0-1311ca258243"
      },
      "outputs": [
        {
          "output_type": "stream",
          "name": "stdout",
          "text": [
            "Evaluation \t Proposed point \t  Current eval. \t  Best eval. \t        Exact EI: StdDev. x \t Approx EI: StdDev. x \n",
            "init\t [-5.01376866  0.01919582]\t 25.138244697862262\t 7.349882113053805\t    \t    \n",
            "init\t [-0.04328148 -3.74958562]\t 14.061265633999861\t 7.349882113053805\t    \t    \n",
            "init\t [-3.66478248 -2.88195916]\t 21.736319271030034\t 7.349882113053805\t    \t    \n",
            "init\t [-0.83447623 -2.57944404]\t 7.349882113053805\t 7.349882113053805\t    \t    \n",
            "init\t [-4.25922917 -1.58209393]\t 20.64405433050371\t 7.349882113053805\t    \t    \n",
            "1  \t [3.11029524 4.9495987 ]\t 34.172463819640285\t 7.349882113053805\t 3.0292127179646946\t 2.968784285838362\n",
            "2  \t [-2.02106223  4.82097351]\t 27.3264781663823\t 7.349882113053805\t 3.108841791473371\t 4.088809577640372\n",
            "\u001b[1m\u001b[92m3\u001b[0m\t \u001b[1m\u001b[92m[2.0867143  0.36749559]\u001b[0m\t \u001b[1m\u001b[92m4.489429560049972\u001b[0m\t \u001b[1m\u001b[92m4.489429560049972\u001b[0m\t \u001b[1m\u001b[92m2.5785784836275787\u001b[0m\t \u001b[1m\u001b[92m3.9207428806573645\u001b[0m\n",
            "4  \t [ 4.43889093 -3.24498238]\t 30.233663330771726\t 4.489429560049972\t 2.9396516212866155\t 3.4046391426066775\n",
            "5  \t [5.12       0.18155233]\t 26.247361247819132\t 4.489429560049972\t 3.237139419241854\t 2.909074801049374\n",
            "\u001b[1m\u001b[92m6\u001b[0m\t \u001b[1m\u001b[92m[-1.56761212  0.74935402]\u001b[0m\t \u001b[1m\u001b[92m3.018939199545502\u001b[0m\t \u001b[1m\u001b[92m3.018939199545502\u001b[0m\t \u001b[1m\u001b[92m2.9244657781636754\u001b[0m\t \u001b[1m\u001b[92m2.7894449512337705\u001b[0m\n",
            "7  \t [-5.12 -5.12]\t 52.4288\t 3.018939199545502\t 2.8119368546462686\t 3.3106947720943305\n",
            "8  \t [0.08752065 2.28741891]\t 5.239945120612532\t 3.018939199545502\t 2.7046493285276383\t 2.9464519296068197\n",
            "9  \t [-3.7491185   2.51213644]\t 20.366719001288608\t 3.018939199545502\t 3.0919394330662975\t 3.66275692210487\n",
            "10 \t [ 1.83590829 -5.12      ]\t 29.584959251191833\t 3.018939199545502\t 2.5207204701036945\t 2.2300016297344345\n",
            "11 \t [ 1.24915704 -1.43465665]\t 3.618633014502931\t 3.018939199545502\t 2.5017729364658443\t 3.041329732058618\n",
            "12 \t [2.92116752 2.04874617]\t 12.7305805833277\t 3.018939199545502\t 2.6127049254621206\t 2.9692621033467446\n",
            "13 \t [0.54160568 5.03381247]\t 25.632604698961213\t 3.018939199545502\t 2.1524554396374462\t 2.4800564720785334\n",
            "14 \t [5.12       3.22426701]\t 36.610297744783175\t 3.018939199545502\t 2.818806430634992\t 2.706416893381292\n",
            "15 \t [-2.42453936 -5.12      ]\t 32.092791124804656\t 3.018939199545502\t 2.655539868090876\t 2.2153459430604676\n",
            "\u001b[1m\u001b[92m16\u001b[0m\t \u001b[1m\u001b[92m[-0.08064937 -0.56231136]\u001b[0m\t \u001b[1m\u001b[92m0.3226983823247583\u001b[0m\t \u001b[1m\u001b[92m0.3226983823247583\u001b[0m\t \u001b[1m\u001b[92m2.8513715703990985\u001b[0m\t \u001b[1m\u001b[92m3.2334901043349578\u001b[0m\n",
            "17 \t [-1.02596401 -1.15438141]\t 2.385198586172671\t 0.3226983823247583\t 2.5004629579030047\t 2.8244974880038876\n",
            "18 \t [0.40576522 0.61679461]\t 0.5450810030084512\t 0.3226983823247583\t 2.192365039447368\t 2.6297671362312296\n",
            "19 \t [-4.71168956  4.66733454]\t 43.98403022049618\t 0.3226983823247583\t 2.624402293100954\t 3.03685350024574\n",
            "20 \t [-1.35757386  2.80335343]\t 9.70179721742023\t 0.3226983823247583\t 2.754628383294244\t 3.0870327734971945\n"
          ]
        }
      ],
      "source": [
        "### EXACT STP EI GRADIENTS\n",
        "\n",
        "np.random.seed(run_num_9)\n",
        "surrogate_stp_9 = dtStudentProcess(cov_func, optimize=opt, nu = df)\n",
        "\n",
        "stp_9 = dGPGO_stp(surrogate_stp_9, Acquisition_grad(util_stp), objfunc, param)\n",
        "stp_9.run(init_evals=n_init, max_iter=iters)\n"
      ]
    },
    {
      "cell_type": "code",
      "execution_count": 43,
      "metadata": {
        "id": "6amuYlUdIv7r",
        "colab": {
          "base_uri": "https://localhost:8080/"
        },
        "outputId": "c69c2e31-87eb-4e78-ad0c-30e0c4826561"
      },
      "outputs": [
        {
          "output_type": "stream",
          "name": "stdout",
          "text": [
            "Evaluation \t Proposed point \t  Current eval. \t  Best eval. \t        Exact EI: StdDev. x \t Approx EI: StdDev. x \n",
            "init\t [ 2.77832339 -4.90750004]\t 31.80263747150094\t 7.941821858928501\t    \t    \n",
            "init\t [1.36855793 2.54775176]\t 8.363989812138083\t 7.941821858928501\t    \t    \n",
            "init\t [-0.01528819 -2.81808235]\t 7.941821858928501\t 7.941821858928501\t    \t    \n",
            "init\t [-3.09183626  2.66783449]\t 16.67679237031191\t 7.941821858928501\t    \t    \n",
            "init\t [-3.38830503 -4.2154003 ]\t 29.25021071405309\t 7.941821858928501\t    \t    \n",
            "1  \t [4.54922969 4.99328486]\t 45.62838452564954\t 7.941821858928501\t 2.841147604683696\t 3.4754483140270005\n",
            "2  \t [ 4.88530663 -0.60647603]\t 24.234034081437837\t 7.941821858928501\t 2.4982429982600984\t 3.2180988561422175\n",
            "3  \t [-4.10915449 -0.70384409]\t 17.3805471159355\t 7.941821858928501\t 2.7874410923173913\t 2.99213973874963\n",
            "4  \t [0.66753387 5.12      ]\t 26.660001473765824\t 7.941821858928501\t 3.1743283804085753\t 3.3546533465438837\n",
            "\u001b[1m\u001b[92m5\u001b[0m\t \u001b[1m\u001b[92m[ 0.71170391 -0.25080408]\u001b[0m\t \u001b[1m\u001b[92m0.5694251454082797\u001b[0m\t \u001b[1m\u001b[92m0.5694251454082797\u001b[0m\t \u001b[1m\u001b[92m2.709877439534078\u001b[0m\t \u001b[1m\u001b[92m3.142124239706515\u001b[0m\n",
            "6  \t [-1.20596489  0.50876808]\t 1.7131962896299977\t 0.5694251454082797\t 3.1655633370608673\t 3.157598795660503\n",
            "7  \t [-0.57498126 -5.08024286]\t 26.13947093997077\t 0.5694251454082797\t 2.7929031163321443\t 3.2122880811712347\n",
            "8  \t [ 2.06630657 -0.87185758]\t 5.0297584663021935\t 0.5694251454082797\t 2.7971511011776147\t 2.927305622956458\n",
            "9  \t [3.76219153 2.03329774]\t 18.2883847763196\t 0.5694251454082797\t 2.8503643332312754\t 3.183636750400055\n",
            "10 \t [-1.81436277  4.78197133]\t 26.159162083943713\t 0.5694251454082797\t 2.953502835570833\t 3.4036424113707193\n",
            "11 \t [-0.87309754 -1.25106721]\t 2.327468477407388\t 0.5694251454082797\t 2.78556279070783\t 3.0589488543360996\n",
            "12 \t [-5.12        2.87354881]\t 34.471682791195995\t 0.5694251454082797\t 3.1966426356344533\t 3.3428575225519457\n",
            "13 \t [ 5.10537711 -3.44443861]\t 37.929032779536016\t 0.5694251454082797\t 2.8847778590745423\t 3.3529197117018628\n",
            "14 \t [1.1039319  0.84509022]\t 1.9328431131376518\t 0.5694251454082797\t 2.6896461638202465\t 2.8622053214326444\n",
            "15 \t [-0.678902    2.11436056]\t 4.931428512792314\t 0.5694251454082797\t 2.719795996273533\t 2.9172691669705015\n",
            "16 \t [-5.12 -5.12]\t 52.4288\t 0.5694251454082797\t 2.7060790146315474\t 3.1451879700898724\n",
            "17 \t [-5.12       -3.18437176]\t 36.35462353701324\t 0.5694251454082797\t 2.9722620736309504\t 3.2782510535746514\n",
            "18 \t [-2.19853984 -1.86237864]\t 8.30203161940213\t 0.5694251454082797\t 2.430742200859024\t 2.1270667820928235\n",
            "19 \t [ 1.92624793 -2.28713858]\t 8.941433989739059\t 0.5694251454082797\t 2.4320922901352113\t 2.502415950965946\n",
            "20 \t [3.01785305 3.96730068]\t 24.84691168143867\t 0.5694251454082797\t 3.1365097692695714\t 3.1471107753508227\n"
          ]
        }
      ],
      "source": [
        "### EXACT STP EI GRADIENTS\n",
        "\n",
        "np.random.seed(run_num_10)\n",
        "surrogate_stp_10 = dtStudentProcess(cov_func, optimize=opt, nu = df)\n",
        "\n",
        "stp_10 = dGPGO_stp(surrogate_stp_10, Acquisition_grad(util_stp), objfunc, param)\n",
        "stp_10.run(init_evals=n_init, max_iter=iters)\n"
      ]
    },
    {
      "cell_type": "code",
      "execution_count": 44,
      "metadata": {
        "id": "VwbLIP9cIv-F",
        "colab": {
          "base_uri": "https://localhost:8080/"
        },
        "outputId": "1f83ee1f-e58a-454c-ac84-217cb4495cd1"
      },
      "outputs": [
        {
          "output_type": "stream",
          "name": "stdout",
          "text": [
            "Evaluation \t Proposed point \t  Current eval. \t  Best eval. \t        Exact EI: StdDev. x \t Approx EI: StdDev. x \n",
            "init\t [-3.27403839 -4.92057353]\t 34.93137118861299\t 0.6899456214148796\t    \t    \n",
            "init\t [-0.37664229  2.30332343]\t 5.447158259491397\t 0.6899456214148796\t    \t    \n",
            "init\t [-0.81711509 -0.14922651]\t 0.6899456214148796\t 0.6899456214148796\t    \t    \n",
            "init\t [-4.98912446 -0.12931474]\t 24.908085165573997\t 0.6899456214148796\t    \t    \n",
            "init\t [4.52410012 3.59214172]\t 33.37096399795931\t 0.6899456214148796\t    \t    \n",
            "1  \t [ 3.03550212 -4.46785095]\t 29.17596522689979\t 0.6899456214148796\t 2.916473279065293\t 3.7712936756171334\n",
            "2  \t [ 3.17797835 -0.39315423]\t 10.254116633822159\t 0.6899456214148796\t 2.1742698711253277\t 3.2812620794354097\n",
            "3  \t [-0.56721167 -2.55053929]\t 6.826979738725301\t 0.6899456214148796\t 2.9773560179653793\t 3.657951034710367\n",
            "4  \t [1.07594431 5.12      ]\t 27.372056149155306\t 0.6899456214148796\t 2.6451722447511408\t 3.333639904286001\n",
            "5  \t [-3.89879551  2.75812162]\t 22.80784131130914\t 0.6899456214148796\t 2.602349027676596\t 3.082045137956971\n",
            "6  \t [-0.0194987 -5.12     ]\t 26.214780199405357\t 0.6899456214148796\t 3.072930039481084\t 2.902041168418911\n",
            "7  \t [-1.8717248   4.93813402]\t 27.888521303614453\t 0.6899456214148796\t 2.81998335650628\t 3.206235280039125\n",
            "8  \t [5.12       0.63534986]\t 26.618069440543223\t 0.6899456214148796\t 2.598177354198118\t 2.85049310697213\n",
            "9  \t [ 4.99360571 -2.23604255]\t 29.935984226452952\t 0.6899456214148796\t 2.966752629118244\t 2.9579046281996284\n",
            "10 \t [1.77776014 1.77184948]\t 6.299881689967508\t 0.6899456214148796\t 2.774488470958209\t 2.9285094546157073\n",
            "11 \t [ 1.10475804 -1.23378757]\t 2.7427220963627494\t 0.6899456214148796\t 2.958199934297443\t 2.6066197220127822\n",
            "12 \t [-2.29497555  0.48816379]\t 5.505216674559586\t 0.6899456214148796\t 2.7346780095285643\t 3.1614663255527002\n",
            "13 \t [-3.31855314 -1.67954414]\t 13.833663463403077\t 0.6899456214148796\t 2.747313717792777\t 3.2036806732788863\n",
            "14 \t [-5.12       -3.10809895]\t 35.87467905479637\t 0.6899456214148796\t 2.9640453317939985\t 2.941563023184837\n",
            "15 \t [1.12621865 0.13765219]\t 1.2873165795562325\t 0.6899456214148796\t 2.6428248332548288\t 2.050387053533948\n",
            "16 \t [ 1.93995587 -2.30745458]\t 9.08777541032757\t 0.6899456214148796\t 3.1818222806589103\t 2.835160685967892\n",
            "17 \t [-0.38154357  0.93755545]\t 1.0245857213994771\t 0.6899456214148796\t 2.669306587477647\t 2.167427598541392\n",
            "\u001b[1m\u001b[92m18\u001b[0m\t \u001b[1m\u001b[92m[-0.11164696 -0.81745151]\u001b[0m\t \u001b[1m\u001b[92m0.6806920172402384\u001b[0m\t \u001b[1m\u001b[92m0.6806920172402384\u001b[0m\t \u001b[1m\u001b[92m2.590610339783868\u001b[0m\t \u001b[1m\u001b[92m2.926694407749808\u001b[0m\n",
            "19 \t [-4.54259141  4.66728414]\t 42.41867792198276\t 0.6806920172402384\t 2.9732924920195636\t 2.991275744027131\n",
            "20 \t [3.44149311 5.12      ]\t 38.05827482659244\t 0.6806920172402384\t 2.7720309059380863\t 3.0891255260816\n"
          ]
        }
      ],
      "source": [
        "### EXACT STP EI GRADIENTS\n",
        "\n",
        "np.random.seed(run_num_11)\n",
        "surrogate_stp_11 = dtStudentProcess(cov_func, optimize=opt, nu = df)\n",
        "\n",
        "stp_11 = dGPGO_stp(surrogate_stp_11, Acquisition_grad(util_stp), objfunc, param)\n",
        "stp_11.run(init_evals=n_init, max_iter=iters)\n"
      ]
    },
    {
      "cell_type": "code",
      "execution_count": 45,
      "metadata": {
        "id": "MlUNFjc-JTBY",
        "colab": {
          "base_uri": "https://localhost:8080/"
        },
        "outputId": "ffc80aa1-36e9-42f8-c07a-6d8d2ddd0230"
      },
      "outputs": [
        {
          "output_type": "stream",
          "name": "stdout",
          "text": [
            "Evaluation \t Proposed point \t  Current eval. \t  Best eval. \t        Exact EI: StdDev. x \t Approx EI: StdDev. x \n",
            "init\t [-3.54137249  2.45810889]\t 18.583618467979093\t 5.993464196233534\t    \t    \n",
            "init\t [-2.42365424  0.34549139]\t 5.993464196233534\t 5.993464196233534\t    \t    \n",
            "init\t [-4.97075238  4.28796936]\t 43.09506052206225\t 5.993464196233534\t    \t    \n",
            "init\t [ 4.10332011 -4.77776458]\t 39.66427028607538\t 5.993464196233534\t    \t    \n",
            "init\t [ 4.6791612  -3.71497655]\t 35.6956003298903\t 5.993464196233534\t    \t    \n",
            "1  \t [4.61121049 2.73895066]\t 28.76511294085281\t 5.993464196233534\t 3.4419721984661105\t 3.6296835851114655\n",
            "2  \t [-5.12 -5.12]\t 52.4288\t 5.993464196233534\t 3.4367018006627\t 3.5148945643183285\n",
            "3  \t [-0.4506551 -5.12     ]\t 26.41749001561261\t 5.993464196233534\t 2.8503193541368206\t 2.9993137097244196\n",
            "4  \t [0.60829072 5.12      ]\t 26.584417596164\t 5.993464196233534\t 2.2932565134821203\t 2.2552837509291934\n",
            "\u001b[1m\u001b[92m5\u001b[0m\t \u001b[1m\u001b[92m[ 0.60382276 -0.12524711]\u001b[0m\t \u001b[1m\u001b[92m0.38028876340515333\u001b[0m\t \u001b[1m\u001b[92m0.38028876340515333\u001b[0m\t \u001b[1m\u001b[92m2.8323911917631315\u001b[0m\t \u001b[1m\u001b[92m2.595905830256929\u001b[0m\n",
            "6  \t [-5.12       -1.22766467]\t 27.721560535138906\t 0.38028876340515333\t 3.190462280244256\t 3.185899414902223\n",
            "7  \t [ 2.88375715 -0.40171106]\t 8.477427079492768\t 0.38028876340515333\t 2.9508576936605895\t 2.809136856387895\n",
            "8  \t [0.8630006  1.93331135]\t 4.482462819673448\t 0.38028876340515333\t 2.7411870802029954\t 2.610166437431439\n",
            "9  \t [-0.65721421 -1.94224715]\t 4.204254510297535\t 0.38028876340515333\t 2.6602919475333597\t 1.768578873893454\n",
            "10 \t [ 1.60308184 -2.74180195]\t 10.087349310179675\t 0.38028876340515333\t 2.7490024442967416\t 3.1084915494027316\n",
            "11 \t [-2.63927588 -2.97353156]\t 15.807667125248136\t 0.38028876340515333\t 2.9239844604714644\t 3.194042178364927\n",
            "12 \t [ 5.12       -0.34789558]\t 26.33543133507347\t 0.38028876340515333\t 2.5662032267065666\t 3.125148501682603\n",
            "13 \t [5.12 5.12]\t 52.4288\t 0.38028876340515333\t 2.8237573126469897\t 2.9755465736152424\n",
            "14 \t [-1.98375695  5.00748687]\t 29.01021643372956\t 0.38028876340515333\t 2.296506376725338\t 2.5136853494490943\n",
            "15 \t [-0.62786549  1.0580736 ]\t 1.5137348214386261\t 0.38028876340515333\t 2.786181417063007\t 2.7696822545940534\n",
            "16 \t [-0.55788418  2.45114544]\t 6.319348726173942\t 0.38028876340515333\t 2.6101577481525986\t 2.6055225153290547\n",
            "17 \t [2.36514001 2.89918646]\t 13.99916938375192\t 0.38028876340515333\t 2.479679895487696\t 2.384594782490347\n",
            "18 \t [-0.69745116 -0.47559869]\t 0.7126322414160937\t 0.38028876340515333\t 2.678010535153859\t 2.476550526580659\n",
            "19 \t [-5.02910108  1.05754781]\t 26.410265092175855\t 0.38028876340515333\t 2.7133903435137956\t 2.5055728902935064\n",
            "20 \t [ 0.86396623 -1.14729002]\t 2.0627120316830827\t 0.38028876340515333\t 2.462109870629723\t 2.129042252365573\n"
          ]
        }
      ],
      "source": [
        "### EXACT STP EI GRADIENTS\n",
        "\n",
        "np.random.seed(run_num_12)\n",
        "surrogate_stp_12 = dtStudentProcess(cov_func, optimize=opt, nu = df)\n",
        "\n",
        "stp_12 = dGPGO_stp(surrogate_stp_12, Acquisition_grad(util_stp), objfunc, param)\n",
        "stp_12.run(init_evals=n_init, max_iter=iters)\n"
      ]
    },
    {
      "cell_type": "code",
      "execution_count": 46,
      "metadata": {
        "id": "9BsKdU9eJTFL",
        "colab": {
          "base_uri": "https://localhost:8080/"
        },
        "outputId": "9cacd396-27b1-4eeb-ef9a-aff62ba5d1c1"
      },
      "outputs": [
        {
          "output_type": "stream",
          "name": "stdout",
          "text": [
            "Evaluation \t Proposed point \t  Current eval. \t  Best eval. \t        Exact EI: StdDev. x \t Approx EI: StdDev. x \n",
            "init\t [ 2.84367268 -2.68757791]\t 15.30954934064491\t 7.271500601275535\t    \t    \n",
            "init\t [3.32061217 4.76927179]\t 33.772418600555795\t 7.271500601275535\t    \t    \n",
            "init\t [ 4.83943541 -0.47667971]\t 23.647358595121606\t 7.271500601275535\t    \t    \n",
            "init\t [1.11659482 2.82139151]\t 9.20703403927425\t 7.271500601275535\t    \t    \n",
            "init\t [1.45012065 2.27346667]\t 7.271500601275535\t 7.271500601275535\t    \t    \n",
            "1  \t [-4.10876704 -2.60547476]\t 23.670465283396044\t 7.271500601275535\t 2.8126361227606487\t 3.1247994676937356\n",
            "2  \t [-3.79946932  2.66821301]\t 21.55532775288146\t 7.271500601275535\t 2.869514368397359\t 3.497363201456708\n",
            "3  \t [-0.59938321 -5.12      ]\t 26.573660232296533\t 7.271500601275535\t 2.8981845595558027\t 3.046040146079656\n",
            "\u001b[1m\u001b[92m4\u001b[0m\t \u001b[1m\u001b[92m[-1.09354001 -0.20478933]\u001b[0m\t \u001b[1m\u001b[92m1.2377684302382894\u001b[0m\t \u001b[1m\u001b[92m1.2377684302382894\u001b[0m\t \u001b[1m\u001b[92m2.8800169150770287\u001b[0m\t \u001b[1m\u001b[92m3.1320583444680623\u001b[0m\n",
            "5  \t [-0.78723839  4.81240089]\t 23.778946608222068\t 1.2377684302382894\t 3.370189824243638\t 3.91853441733221\n",
            "6  \t [-5.12 -5.12]\t 52.4288\t 1.2377684302382894\t 2.8156961458492913\t 3.125780977245102\n",
            "7  \t [ 1.05077106 -0.48427163]\t 1.3386388366179536\t 1.2377684302382894\t 2.9274418398102373\t 3.769576347750374\n",
            "8  \t [-0.5676289  -2.28042931]\t 5.522560422135329\t 1.2377684302382894\t 2.576006605097109\t 3.3001772051208493\n",
            "9  \t [5.12       2.34054676]\t 31.69255913202038\t 1.2377684302382894\t 2.7941856200247823\t 3.5891625860499126\n",
            "10 \t [-5.08484585 -0.16371589]\t 25.882460180394624\t 1.2377684302382894\t 2.7497463949860417\t 3.450367531245863\n",
            "11 \t [-1.25742284  1.4378813 ]\t 3.6486148365508333\t 1.2377684302382894\t 2.8255805825915195\t 3.540048773860357\n",
            "12 \t [ 5.090263   -3.17239959]\t 35.97489654073139\t 1.2377684302382894\t 2.612587318084093\t 2.860467564424337\n",
            "13 \t [-3.39839854  5.12      ]\t 37.76351265930103\t 1.2377684302382894\t 2.643704120939404\t 3.3054201020003307\n",
            "14 \t [ 2.0763219 -5.12     ]\t 30.52551263129969\t 1.2377684302382894\t 2.5977906540111553\t 2.603725317434091\n",
            "15 \t [2.46915446 0.33875651]\t 6.2114797182602866\t 1.2377684302382894\t 2.6769991819962224\t 2.7241769072430064\n",
            "16 \t [-2.50614825 -0.49585999]\t 6.5266562013069835\t 1.2377684302382894\t 2.634165408756824\t 2.1170819201065303\n",
            "17 \t [ 0.9175011  -1.81234732]\t 4.126411061204612\t 1.2377684302382894\t 3.4417725021511876\t 3.373721966951362\n",
            "\u001b[1m\u001b[92m18\u001b[0m\t \u001b[1m\u001b[92m[0.18033561 0.86366522]\u001b[0m\t \u001b[1m\u001b[92m0.7784385487023301\u001b[0m\t \u001b[1m\u001b[92m0.7784385487023301\u001b[0m\t \u001b[1m\u001b[92m2.249883550639939\u001b[0m\t \u001b[1m\u001b[92m2.5340867446200703\u001b[0m\n",
            "19 \t [-0.63474966  2.67560656]\t 7.561777582058718\t 0.7784385487023301\t 2.770783703025677\t 2.659463196593836\n",
            "20 \t [-2.81887675 -5.12      ]\t 34.16046613849682\t 0.7784385487023301\t 3.4214390248615736\t 3.7887342874220162\n"
          ]
        }
      ],
      "source": [
        "### EXACT STP EI GRADIENTS\n",
        "\n",
        "np.random.seed(run_num_13)\n",
        "surrogate_stp_13 = dtStudentProcess(cov_func, optimize=opt, nu = df)\n",
        "\n",
        "stp_13 = dGPGO_stp(surrogate_stp_13, Acquisition_grad(util_stp), objfunc, param)\n",
        "stp_13.run(init_evals=n_init, max_iter=iters)\n"
      ]
    },
    {
      "cell_type": "code",
      "execution_count": 47,
      "metadata": {
        "id": "k6GjFBr1JTJf",
        "colab": {
          "base_uri": "https://localhost:8080/"
        },
        "outputId": "b4ca4e96-d13a-4448-b109-f139a777e352"
      },
      "outputs": [
        {
          "output_type": "stream",
          "name": "stdout",
          "text": [
            "Evaluation \t Proposed point \t  Current eval. \t  Best eval. \t        Exact EI: StdDev. x \t Approx EI: StdDev. x \n",
            "init\t [0.14277984 2.79721013]\t 7.844770612568215\t 3.480496204392171\t    \t    \n",
            "init\t [ 3.7931795  -5.03759925]\t 39.765616906968944\t 3.480496204392171\t    \t    \n",
            "init\t [-1.94830412  4.68586229]\t 25.753194366239512\t 3.480496204392171\t    \t    \n",
            "init\t [ 0.13431513 -1.86076749]\t 3.480496204392171\t 3.480496204392171\t    \t    \n",
            "init\t [ 0.40140736 -2.85434939]\t 8.308438305616814\t 3.480496204392171\t    \t    \n",
            "1  \t [-5.12 -5.12]\t 52.4288\t 3.480496204392171\t 3.2122865791356316\t 3.771584870484993\n",
            "2  \t [5.12       0.23239885]\t 26.268409227440145\t 3.480496204392171\t 3.086095771194073\t 3.8476404123403682\n",
            "3  \t [-4.30415445 -0.04968542]\t 18.52821417545728\t 3.480496204392171\t 2.809918175511226\t 3.5016276741876102\n",
            "4  \t [-1.4933266 -5.12     ]\t 28.444424345008308\t 3.480496204392171\t 2.7198395342261614\t 2.4689840175588236\n",
            "5  \t [4.99358597 4.5531995 ]\t 45.6675264595232\t 3.480496204392171\t 2.759904434900446\t 2.7109155868781842\n",
            "6  \t [-4.86795576  3.12902268]\t 33.48777625394656\t 3.480496204392171\t 2.495293314212507\t 2.5754094393938423\n",
            "\u001b[1m\u001b[92m7\u001b[0m\t \u001b[1m\u001b[92m[1.68949484 0.02838896]\u001b[0m\t \u001b[1m\u001b[92m2.855198746594251\u001b[0m\t \u001b[1m\u001b[92m2.855198746594251\u001b[0m\t \u001b[1m\u001b[92m2.3409754043064877\u001b[0m\t \u001b[1m\u001b[92m2.3658146729474816\u001b[0m\n",
            "8  \t [1.56757316 5.12      ]\t 28.67168561449633\t 2.855198746594251\t 2.750760480216816\t 3.088871574930516\n",
            "\u001b[1m\u001b[92m9\u001b[0m\t \u001b[1m\u001b[92m[-1.08257858  0.05607771]\u001b[0m\t \u001b[1m\u001b[92m1.1751210993462735\u001b[0m\t \u001b[1m\u001b[92m1.1751210993462735\u001b[0m\t \u001b[1m\u001b[92m2.913389331512589\u001b[0m\t \u001b[1m\u001b[92m2.8286734407606833\u001b[0m\n",
            "10 \t [-3.03192876 -2.38193204]\t 14.866192260448758\t 1.1751210993462735\t 2.714162965643453\t 2.5269082154833993\n",
            "11 \t [ 2.83987746 -2.04372838]\t 12.24172966237269\t 1.1751210993462735\t 3.0011487408089144\t 3.0089587818071273\n",
            "12 \t [2.57028382 1.90845248]\t 10.248549775751089\t 1.1751210993462735\t 2.5750706617798507\t 2.850421327497932\n",
            "13 \t [ 1.09661899 -5.11442572]\t 27.359923605184118\t 1.1751210993462735\t 2.899810245590586\t 3.1655699091666745\n",
            "14 \t [ 5.01187543 -2.16715552]\t 29.815458312058343\t 1.1751210993462735\t 2.396792258094093\t 2.5691636566369906\n",
            "15 \t [-2.32916182  1.83432489]\t 8.789742611956394\t 1.1751210993462735\t 2.4612670022445453\t 2.515850511867616\n",
            "\u001b[1m\u001b[92m16\u001b[0m\t \u001b[1m\u001b[92m[0.26292828 0.52701859]\u001b[0m\t \u001b[1m\u001b[92m0.34687988007588505\u001b[0m\t \u001b[1m\u001b[92m0.34687988007588505\u001b[0m\t \u001b[1m\u001b[92m2.6387195651652138\u001b[0m\t \u001b[1m\u001b[92m2.796801736700711\u001b[0m\n",
            "17 \t [-1.07098585 -1.62248804]\t 3.7794781331407457\t 0.34687988007588505\t 2.6371520900757512\t 2.8420119138382303\n",
            "18 \t [-3.33925385 -4.32343042]\t 29.84266688551387\t 0.34687988007588505\t 2.6633719351740903\t 2.777266721335989\n",
            "19 \t [-5.07340268 -2.29901289]\t 31.024875051628083\t 0.34687988007588505\t 2.696672227724505\t 2.71327402258186\n",
            "20 \t [3.14443168 3.52893637]\t 22.340842481172324\t 0.34687988007588505\t 2.8181757731567934\t 2.8546374453566146\n"
          ]
        }
      ],
      "source": [
        "### EXACT STP EI GRADIENTS\n",
        "\n",
        "np.random.seed(run_num_14)\n",
        "surrogate_stp_14 = dtStudentProcess(cov_func, optimize=opt, nu = df)\n",
        "\n",
        "stp_14 = dGPGO_stp(surrogate_stp_14, Acquisition_grad(util_stp), objfunc, param)\n",
        "stp_14.run(init_evals=n_init, max_iter=iters)\n"
      ]
    },
    {
      "cell_type": "code",
      "execution_count": 48,
      "metadata": {
        "id": "dPS8WB3aJTN6",
        "colab": {
          "base_uri": "https://localhost:8080/"
        },
        "outputId": "81ea28c3-b8f0-4646-a715-ed9fbf00dce2"
      },
      "outputs": [
        {
          "output_type": "stream",
          "name": "stdout",
          "text": [
            "Evaluation \t Proposed point \t  Current eval. \t  Best eval. \t        Exact EI: StdDev. x \t Approx EI: StdDev. x \n",
            "init\t [ 3.57189322 -3.28810573]\t 23.57006045912445\t 5.383887924980681\t    \t    \n",
            "init\t [-4.56332069 -1.41784631]\t 22.834183843344235\t 5.383887924980681\t    \t    \n",
            "init\t [-2.29989449  0.3072023 ]\t 5.383887924980681\t 5.383887924980681\t    \t    \n",
            "init\t [-1.9873903  -2.00218256]\t 7.958455228543059\t 5.383887924980681\t    \t    \n",
            "init\t [-3.97576933 -2.5610341 ]\t 22.365637431409507\t 5.383887924980681\t    \t    \n",
            "1  \t [5.12 5.12]\t 52.4288\t 5.383887924980681\t 3.103495528727901\t 3.725620012374971\n",
            "2  \t [-4.96635744  4.09320867]\t 41.41906339693508\t 5.383887924980681\t 2.775576707409802\t 3.367883944311435\n",
            "3  \t [0.1349482  5.08652948]\t 25.89099316690888\t 5.383887924980681\t 2.832343750027136\t 3.4378126873236385\n",
            "4  \t [4.18660771 0.56312162]\t 17.844790051665612\t 5.383887924980681\t 2.806898866632861\t 2.746443208117899\n",
            "5  \t [-0.73348608 -5.0092615 ]\t 25.630702569631715\t 5.383887924980681\t 3.065932485737142\t 2.5685036614325405\n",
            "\u001b[1m\u001b[92m6\u001b[0m\t \u001b[1m\u001b[92m[ 0.55631653 -0.19534809]\u001b[0m\t \u001b[1m\u001b[92m0.3476489588439813\u001b[0m\t \u001b[1m\u001b[92m0.3476489588439813\u001b[0m\t \u001b[1m\u001b[92m3.017604622069337\u001b[0m\t \u001b[1m\u001b[92m3.3766795871180557\u001b[0m\n",
            "7  \t [1.07320874 1.95110857]\t 4.958601671783198\t 0.3476489588439813\t 2.5213655856957624\t 2.7988177552352624\n",
            "8  \t [-5.12 -5.12]\t 52.4288\t 0.3476489588439813\t 3.3861342052007495\t 3.494607721278123\n",
            "9  \t [-1.72432629  2.61851568]\t 9.829925497270047\t 0.3476489588439813\t 2.1996956065615025\t 2.7306661081235233\n",
            "10 \t [ 1.03658129 -2.5614447 ]\t 7.635499720969284\t 0.3476489588439813\t 2.1151274940291875\t 2.999252840628688\n",
            "11 \t [-5.12        1.14956892]\t 27.535908692397722\t 0.3476489588439813\t 2.3089801525643834\t 2.7703790597574547\n",
            "12 \t [ 2.38941295 -0.79028772]\t 6.333848920699425\t 0.3476489588439813\t 2.4238867439521874\t 2.893675936872688\n",
            "13 \t [2.94199855 3.07401753]\t 18.104939259552452\t 0.3476489588439813\t 2.7703275387122646\t 3.071259797827051\n",
            "14 \t [-2.33660841  4.98095666]\t 30.269668077601082\t 0.3476489588439813\t 2.400093366172231\t 3.2283496285822344\n",
            "\u001b[1m\u001b[92m15\u001b[0m\t \u001b[1m\u001b[92m[-0.51816411  0.19212101]\u001b[0m\t \u001b[1m\u001b[92m0.3054045334470368\u001b[0m\t \u001b[1m\u001b[92m0.3054045334470368\u001b[0m\t \u001b[1m\u001b[92m2.263306766487927\u001b[0m\t \u001b[1m\u001b[92m2.1593252269049237\u001b[0m\n",
            "16 \t [-0.13719654 -1.39602608]\t 1.967711703765423\t 0.3054045334470368\t 3.148132661930592\t 2.6272571179080217\n",
            "17 \t [5.12       2.39302538]\t 31.940970462293244\t 0.3054045334470368\t 2.6672506050655236\t 2.927095761351359\n",
            "18 \t [ 1.75039743 -4.97500602]\t 27.81457605111026\t 0.3054045334470368\t 2.9448587654404013\t 2.386198456230918\n",
            "19 \t [1.55944017 0.647103  ]\t 2.850595949577722\t 0.3054045334470368\t 2.7358020406001033\t 2.578655512383852\n",
            "20 \t [2.58397934 5.12      ]\t 32.8913492512033\t 0.3054045334470368\t 2.6085081521173152\t 2.9778824442009584\n"
          ]
        }
      ],
      "source": [
        "### EXACT STP EI GRADIENTS\n",
        "\n",
        "np.random.seed(run_num_15)\n",
        "surrogate_stp_15 = dtStudentProcess(cov_func, optimize=opt, nu = df)\n",
        "\n",
        "stp_15 = dGPGO_stp(surrogate_stp_15, Acquisition_grad(util_stp), objfunc, param)\n",
        "stp_15.run(init_evals=n_init, max_iter=iters)\n"
      ]
    },
    {
      "cell_type": "code",
      "execution_count": 49,
      "metadata": {
        "id": "lu8ki9XIQPPN",
        "colab": {
          "base_uri": "https://localhost:8080/"
        },
        "outputId": "791fed59-2d51-4c51-ce9e-3d06a1a2566d"
      },
      "outputs": [
        {
          "output_type": "stream",
          "name": "stdout",
          "text": [
            "Evaluation \t Proposed point \t  Current eval. \t  Best eval. \t        Exact EI: StdDev. x \t Approx EI: StdDev. x \n",
            "init\t [-2.83349935  0.23719262]\t 8.084978900492077\t 8.084978900492077\t    \t    \n",
            "init\t [ 0.51918292 -4.65303603]\t 21.92029520206884\t 8.084978900492077\t    \t    \n",
            "init\t [-1.42613673 -2.83565116]\t 10.074783446012654\t 8.084978900492077\t    \t    \n",
            "init\t [ 1.9325559  -3.44339021]\t 15.591708419712269\t 8.084978900492077\t    \t    \n",
            "init\t [-4.39987336  4.51595121]\t 39.75270093978162\t 8.084978900492077\t    \t    \n",
            "1  \t [2.142749   4.83374619]\t 27.956475467604665\t 8.084978900492077\t 3.4789953410776624\t 3.8898763231301547\n",
            "2  \t [-5.12 -5.12]\t 52.4288\t 8.084978900492077\t 3.490817558978272\t 3.283319024007956\n",
            "3  \t [ 4.68713477 -0.44354341]\t 22.165963115321635\t 8.084978900492077\t 2.9856234222393128\t 3.378410904764119\n",
            "\u001b[1m\u001b[92m4\u001b[0m\t \u001b[1m\u001b[92m[0.27281181 1.20480227]\u001b[0m\t \u001b[1m\u001b[92m1.5259748045707113\u001b[0m\t \u001b[1m\u001b[92m1.5259748045707113\u001b[0m\t \u001b[1m\u001b[92m2.813437317623082\u001b[0m\t \u001b[1m\u001b[92m3.2927262625296874\u001b[0m\n",
            "5  \t [-5.12       -1.53624384]\t 28.574445132899633\t 1.5259748045707113\t 2.6261732316882904\t 2.8955047262313585\n",
            "6  \t [5.11442532 3.10636704]\t 35.806862584671464\t 1.5259748045707113\t 3.300531528984417\t 3.7558992991641014\n",
            "7  \t [ 4.61353471 -4.56408508]\t 42.115575138063875\t 1.5259748045707113\t 2.515950438725065\t 3.1525624373206904\n",
            "8  \t [-0.89857142  3.09057076]\t 10.359058193865296\t 1.5259748045707113\t 2.1628312033448407\t 2.504401018587909\n",
            "9  \t [ 1.18058212 -0.61712523]\t 1.7746176955631723\t 1.5259748045707113\t 2.7035108196673283\t 2.584150236074154\n",
            "\u001b[1m\u001b[92m10\u001b[0m\t \u001b[1m\u001b[92m[-0.80210392 -0.26594704]\u001b[0m\t \u001b[1m\u001b[92m0.7140985325348297\u001b[0m\t \u001b[1m\u001b[92m0.7140985325348297\u001b[0m\t \u001b[1m\u001b[92m2.7859224685263895\u001b[0m\t \u001b[1m\u001b[92m3.096186026928335\u001b[0m\n",
            "11 \t [2.21106159 1.47995686]\t 7.0790656509674355\t 0.7140985325348297\t 2.780228188450905\t 2.827214469407442\n",
            "12 \t [-5.01438195  1.32275361]\t 26.893703443540314\t 0.7140985325348297\t 3.1621943298691564\t 3.4446038386590234\n",
            "13 \t [-0.41768573  5.12      ]\t 26.388861365451422\t 0.7140985325348297\t 2.5198440177357506\t 2.5382826848966884\n",
            "14 \t [-2.31526437 -4.95494906]\t 29.911969306244274\t 0.7140985325348297\t 2.6593754759496533\t 2.5252819954753285\n",
            "15 \t [ 2.58823567 -1.40814287]\t 8.681830245910092\t 0.7140985325348297\t 2.270742175648687\t 2.6396340898766657\n",
            "16 \t [ 0.23989666 -1.72262283]\t 3.024979826208662\t 0.7140985325348297\t 2.150516595223031\t 2.410173855212829\n",
            "17 \t [ 4.81158258 -2.2806381 ]\t 28.352637100152208\t 0.7140985325348297\t 3.066412373879692\t 3.142107448862276\n",
            "18 \t [-1.61114312  1.46140732]\t 4.731493497333883\t 0.7140985325348297\t 2.766362163509935\t 2.481787237246425\n",
            "19 \t [5.12 5.12]\t 52.4288\t 0.7140985325348297\t 2.4299945229719184\t 1.8534782550511262\n",
            "20 \t [-2.49775855 -1.53220307]\t 8.58644403248697\t 0.7140985325348297\t 2.821998952836173\t 2.386516220442821\n"
          ]
        }
      ],
      "source": [
        "### EXACT STP EI GRADIENTS\n",
        "\n",
        "np.random.seed(run_num_16)\n",
        "surrogate_stp_16 = dtStudentProcess(cov_func, optimize=opt, nu = df)\n",
        "\n",
        "stp_16 = dGPGO_stp(surrogate_stp_16, Acquisition_grad(util_stp), objfunc, param)\n",
        "stp_16.run(init_evals=n_init, max_iter=iters)\n"
      ]
    },
    {
      "cell_type": "code",
      "execution_count": 50,
      "metadata": {
        "id": "yU2SflSsJTUs",
        "colab": {
          "base_uri": "https://localhost:8080/"
        },
        "outputId": "549d1338-876c-46d4-840e-3333ed164308"
      },
      "outputs": [
        {
          "output_type": "stream",
          "name": "stdout",
          "text": [
            "Evaluation \t Proposed point \t  Current eval. \t  Best eval. \t        Exact EI: StdDev. x \t Approx EI: StdDev. x \n",
            "init\t [-2.10263037  0.31320838]\t 4.519153970964611\t 2.5824114132885994\t    \t    \n",
            "init\t [-3.15882714 -4.42470033]\t 29.556161939946307\t 2.5824114132885994\t    \t    \n",
            "init\t [2.93873111 1.60085526]\t 11.198878112253603\t 2.5824114132885994\t    \t    \n",
            "init\t [1.40821398 0.77417363]\t 2.5824114132885994\t 2.5824114132885994\t    \t    \n",
            "init\t [-4.71999574 -1.45598869]\t 24.39826283453718\t 2.5824114132885994\t    \t    \n",
            "1  \t [ 4.96008736 -4.44720822]\t 44.38012757656366\t 2.5824114132885994\t 3.0551011652792197\t 4.374107023443742\n",
            "2  \t [-1.95646705  4.77829278]\t 26.659845216414467\t 2.5824114132885994\t 2.847963381477246\t 3.2920739518687654\n",
            "3  \t [4.67136791 4.9849391 ]\t 46.671295961614106\t 2.5824114132885994\t 2.6921153973393985\t 3.396636766365133\n",
            "4  \t [ 0.83420485 -3.03051519]\t 9.879920012701453\t 2.5824114132885994\t 3.27879458481107\t 3.614264731074513\n",
            "5  \t [ 4.53480696 -1.0371415 ]\t 21.640136674048737\t 2.5824114132885994\t 2.579212262235611\t 3.161835068131859\n",
            "6  \t [-5.12       2.5678006]\t 32.807999901965346\t 2.5824114132885994\t 2.937247338275011\t 3.022584837998692\n",
            "7  \t [1.21310109 5.02019274]\t 26.67394939164266\t 2.5824114132885994\t 2.8289145547479975\t 2.644142592869613\n",
            "8  \t [ 1.20689371 -5.12      ]\t 27.670992431036776\t 2.5824114132885994\t 3.150340782980229\t 2.926469619223361\n",
            "9  \t [-0.63976355  1.59677557]\t 2.958989623369054\t 2.5824114132885994\t 3.2883003140083473\t 3.4989892770173507\n",
            "10 \t [-1.54103451 -1.88976779]\t 5.946009673164948\t 2.5824114132885994\t 2.317024168642944\t 1.9225946745574736\n",
            "11 \t [5.12       2.00051729]\t 30.216469433494765\t 2.5824114132885994\t 3.2725596019100642\t 3.5602769682309177\n",
            "\u001b[1m\u001b[92m12\u001b[0m\t \u001b[1m\u001b[92m[ 1.03175802 -1.09332328]\u001b[0m\t \u001b[1m\u001b[92m2.2598804190981197\u001b[0m\t \u001b[1m\u001b[92m2.2598804190981197\u001b[0m\t \u001b[1m\u001b[92m2.6178035150945327\u001b[0m\t \u001b[1m\u001b[92m2.4511829935963547\u001b[0m\n",
            "13 \t [0.64697699 2.5250079 ]\t 6.7942441018667425\t 2.2598804190981197\t 2.2040026873075838\t 2.082829147215969\n",
            "14 \t [-2.57822616  2.07123767]\t 10.93727563922326\t 2.2598804190981197\t 2.615976743827229\t 2.8844088971329365\n",
            "\u001b[1m\u001b[92m15\u001b[0m\t \u001b[1m\u001b[92m[-0.10135351 -0.30587374]\u001b[0m\t \u001b[1m\u001b[92m0.10383127795870976\u001b[0m\t \u001b[1m\u001b[92m0.10383127795870976\u001b[0m\t \u001b[1m\u001b[92m2.7842207376503736\u001b[0m\t \u001b[1m\u001b[92m2.603714399999008\u001b[0m\n",
            "16 \t [ 2.33587942 -1.17636793]\t 6.84017416386169\t 0.10383127795870976\t 2.4420507163135547\t 2.6864385438287464\n",
            "17 \t [-0.95237244 -4.37324152]\t 20.032254606201462\t 0.10383127795870976\t 2.6364402743018864\t 3.0412477429066964\n",
            "18 \t [0.00408502 0.60127783]\t 0.36155171845299516\t 0.10383127795870976\t 2.6303529741629883\t 2.8788361371907496\n",
            "19 \t [-3.7523982   0.44016503]\t 14.274237494001202\t 0.10383127795870976\t 2.503646040600745\t 2.6656376325449167\n",
            "20 \t [-0.35998353 -4.46508133]\t 20.066539463947965\t 0.10383127795870976\t 2.9910578214205694\t 3.0074487600460955\n"
          ]
        }
      ],
      "source": [
        "### EXACT STP EI GRADIENTS\n",
        "\n",
        "np.random.seed(run_num_17)\n",
        "surrogate_stp_17 = dtStudentProcess(cov_func, optimize=opt, nu = df)\n",
        "\n",
        "stp_17 = dGPGO_stp(surrogate_stp_17, Acquisition_grad(util_stp), objfunc, param)\n",
        "stp_17.run(init_evals=n_init, max_iter=iters)\n"
      ]
    },
    {
      "cell_type": "code",
      "execution_count": 51,
      "metadata": {
        "id": "eVEhyZ9BQS-1",
        "colab": {
          "base_uri": "https://localhost:8080/"
        },
        "outputId": "4d36aee6-056f-4fff-d92f-ca9388c48710"
      },
      "outputs": [
        {
          "output_type": "stream",
          "name": "stdout",
          "text": [
            "Evaluation \t Proposed point \t  Current eval. \t  Best eval. \t        Exact EI: StdDev. x \t Approx EI: StdDev. x \n",
            "init\t [1.53983224 0.05584255]\t 2.3742017032787373\t 2.3742017032787373\t    \t    \n",
            "init\t [ 3.87687906 -3.25795609]\t 25.644469161882945\t 2.3742017032787373\t    \t    \n",
            "init\t [3.60686662 2.56139557]\t 19.570234102364928\t 2.3742017032787373\t    \t    \n",
            "init\t [1.70088108 4.99604939]\t 27.853505942237412\t 2.3742017032787373\t    \t    \n",
            "init\t [-2.48864335 -4.83014733]\t 29.523668919355142\t 2.3742017032787373\t    \t    \n",
            "1  \t [-5.00718904  2.9174042 ]\t 33.58318939621877\t 2.3742017032787373\t 3.125552236000695\t 3.7187011049550818\n",
            "2  \t [-1.72976978 -0.79594448]\t 3.6256311144514735\t 2.3742017032787373\t 2.8553095508091846\t 2.5295283979512426\n",
            "3  \t [-1.96149827  4.29548193]\t 22.298640473778317\t 2.3742017032787373\t 2.9919844161360074\t 3.0567387593520983\n",
            "4  \t [-5.12      -1.6356182]\t 28.889646885648236\t 2.3742017032787373\t 3.1657720277653976\t 3.814442960122225\n",
            "5  \t [ 0.92639801 -5.12      ]\t 27.07261327255502\t 2.3742017032787373\t 2.8122217650680987\t 2.713571517801197\n",
            "6  \t [5.12 5.12]\t 52.4288\t 2.3742017032787373\t 2.916790497453528\t 2.779651593084581\n",
            "7  \t [ 5.12       -0.31249251]\t 26.31205156929961\t 2.3742017032787373\t 2.993689539850632\t 2.9021848027657273\n",
            "8  \t [-1.0538878  1.5504408]\t 3.5145461501711774\t 2.3742017032787373\t 2.911309773855887\t 2.813839217828829\n",
            "9  \t [ 0.78122104 -2.11924851]\t 5.101520582617476\t 2.3742017032787373\t 2.7288595900042654\t 3.045230301286939\n",
            "10 \t [-3.18395218  0.66087962]\t 10.57431336353242\t 2.3742017032787373\t 3.0439654735529684\t 3.28521872741328\n",
            "11 \t [-5.12 -5.12]\t 52.4288\t 2.3742017032787373\t 3.1573173484754142\t 2.8863995735811234\n",
            "12 \t [0.9332374  1.83767151]\t 4.247968621490578\t 2.3742017032787373\t 2.398001421999639\t 2.4171574393025037\n",
            "13 \t [-1.16546612 -2.58875781]\t 8.059978264625814\t 2.3742017032787373\t 2.8871619691283805\t 3.0159375935992743\n",
            "\u001b[1m\u001b[92m14\u001b[0m\t \u001b[1m\u001b[92m[-0.16486468 -0.08964881]\u001b[0m\t \u001b[1m\u001b[92m0.03521727120849685\u001b[0m\t \u001b[1m\u001b[92m0.03521727120849685\u001b[0m\t \u001b[1m\u001b[92m2.113368659464497\u001b[0m\t \u001b[1m\u001b[92m1.9548000954813547\u001b[0m\n",
            "15 \t [ 3.1441515  -1.29810043]\t 11.570753372305123\t 0.03521727120849685\t 2.8533330006347675\t 3.1314284089875004\n",
            "16 \t [0.07885668 3.09047945]\t 9.557281591416977\t 0.03521727120849685\t 2.296483932909166\t 2.775155767614317\n",
            "17 \t [-4.09078094  4.95419071]\t 41.278494295328386\t 0.03521727120849685\t 3.2696107412616797\t 2.9480280668902177\n",
            "18 \t [-4.93829022  0.51053509]\t 24.64735635971328\t 0.03521727120849685\t 3.1674228182033435\t 3.5881734216953403\n",
            "19 \t [-2.86003779 -1.79235347]\t 11.39234710296035\t 0.03521727120849685\t 2.381744764004053\t 2.975669057844215\n",
            "20 \t [-0.07191092 -3.59971527]\t 12.963121212704122\t 0.03521727120849685\t 2.986952072251133\t 2.9352579223737156\n"
          ]
        }
      ],
      "source": [
        "### EXACT STP EI GRADIENTS\n",
        "\n",
        "np.random.seed(run_num_18)\n",
        "surrogate_stp_18 = dtStudentProcess(cov_func, optimize=opt, nu = df)\n",
        "\n",
        "stp_18 = dGPGO_stp(surrogate_stp_18, Acquisition_grad(util_stp), objfunc, param)\n",
        "stp_18.run(init_evals=n_init, max_iter=iters)\n"
      ]
    },
    {
      "cell_type": "code",
      "execution_count": 52,
      "metadata": {
        "id": "B6gTz1ojQUxn",
        "colab": {
          "base_uri": "https://localhost:8080/"
        },
        "outputId": "baaaf25c-b77b-4409-97cf-90f948cd05e0"
      },
      "outputs": [
        {
          "output_type": "stream",
          "name": "stdout",
          "text": [
            "Evaluation \t Proposed point \t  Current eval. \t  Best eval. \t        Exact EI: StdDev. x \t Approx EI: StdDev. x \n",
            "init\t [-4.12125592  2.6751971 ]\t 24.141429859518958\t 12.957869519084127\t    \t    \n",
            "init\t [-2.59135515 -3.70553152]\t 20.446085385698954\t 12.957869519084127\t    \t    \n",
            "init\t [-1.72598719 -4.27008445]\t 21.212653034418548\t 12.957869519084127\t    \t    \n",
            "init\t [1.76104531 3.13952049]\t 12.957869519084127\t 12.957869519084127\t    \t    \n",
            "init\t [4.9432772  1.38916592]\t 26.36577149009895\t 12.957869519084127\t    \t    \n",
            "1  \t [ 4.82682643 -3.73084389]\t 37.21744948341382\t 12.957869519084127\t 3.533287135782588\t 4.568688997276423\n",
            "\u001b[1m\u001b[92m2\u001b[0m\t \u001b[1m\u001b[92m[ 1.44576631 -2.22935648]\u001b[0m\t \u001b[1m\u001b[92m7.060270524300295\u001b[0m\t \u001b[1m\u001b[92m7.060270524300295\u001b[0m\t \u001b[1m\u001b[92m3.5960503695402593\u001b[0m\t \u001b[1m\u001b[92m3.453954963925953\u001b[0m\n",
            "3  \t [4.43966369 5.12      ]\t 45.92501367549457\t 7.060270524300295\t 2.8255153033369567\t 3.0919878339020244\n",
            "4  \t [-4.9671737  -1.10524622]\t 25.89438376932493\t 7.060270524300295\t 3.0266851716709953\t 2.9981149844793555\n",
            "5  \t [-1.00515118  4.9584083 ]\t 25.596141722636705\t 7.060270524300295\t 3.060554803575398\t 2.3381839518822565\n",
            "\u001b[1m\u001b[92m6\u001b[0m\t \u001b[1m\u001b[92m[-0.40281713 -0.12218767]\u001b[0m\t \u001b[1m\u001b[92m0.1771914659019649\u001b[0m\t \u001b[1m\u001b[92m0.1771914659019649\u001b[0m\t \u001b[1m\u001b[92m2.835348391573124\u001b[0m\t \u001b[1m\u001b[92m2.549198470528876\u001b[0m\n",
            "7  \t [-5.12 -5.12]\t 52.4288\t 0.1771914659019649\t 2.9291025775431794\t 3.4013609049774973\n",
            "8  \t [ 1.52982096 -5.12      ]\t 28.554752157715477\t 0.1771914659019649\t 2.4553739991238994\t 2.6778356103102783\n",
            "9  \t [-1.04333265  1.67114164]\t 3.8812574072211294\t 0.1771914659019649\t 2.1206807436065533\t 2.6627183434902353\n",
            "10 \t [1.64540221 0.41394725]\t 2.8787007781933216\t 0.1771914659019649\t 2.707557327903953\t 2.897025299090382\n",
            "11 \t [-1.98224489 -0.84423816]\t 4.642032868831118\t 0.1771914659019649\t 2.260661231627202\t 2.3713854960700504\n",
            "12 \t [ 3.78693558 -1.12742912]\t 15.611977481616773\t 0.1771914659019649\t 2.6649625953015392\t 2.610246580913277\n",
            "13 \t [1.6675905 5.12     ]\t 28.995258074483363\t 0.1771914659019649\t 2.8058432730905696\t 2.6050360124250567\n",
            "14 \t [-2.56241202  0.64985661]\t 6.98826895739282\t 0.1771914659019649\t 2.351449113756738\t 2.60862681315092\n",
            "15 \t [-3.39096564  4.98831418]\t 36.381926285322926\t 0.1771914659019649\t 2.806398420575024\t 2.547534193421913\n",
            "16 \t [-0.53890494 -1.55500274]\t 2.7084520535005496\t 0.1771914659019649\t 2.5465536801876674\t 2.5070354927906746\n",
            "17 \t [0.45344697 1.46013472]\t 2.337607563673396\t 0.1771914659019649\t 2.5185533380255145\t 2.5519667166116626\n",
            "18 \t [-0.02905658  2.91772495]\t 8.513963181633356\t 0.1771914659019649\t 2.8063177470493272\t 3.1303770621672458\n",
            "19 \t [ 2.82830854 -4.08448637]\t 24.682358068522863\t 0.1771914659019649\t 2.485760328126529\t 2.487973913542437\n",
            "20 \t [ 0.56266631 -0.32389785]\t 0.4215032006356186\t 0.1771914659019649\t 2.510004216134933\t 2.734631825423645\n"
          ]
        }
      ],
      "source": [
        "### EXACT STP EI GRADIENTS\n",
        "\n",
        "np.random.seed(run_num_19)\n",
        "surrogate_stp_19 = dtStudentProcess(cov_func, optimize=opt, nu = df)\n",
        "\n",
        "stp_19 = dGPGO_stp(surrogate_stp_19, Acquisition_grad(util_stp), objfunc, param)\n",
        "stp_19.run(init_evals=n_init, max_iter=iters)\n"
      ]
    },
    {
      "cell_type": "code",
      "execution_count": 53,
      "metadata": {
        "id": "aw3xvSryIwDi",
        "colab": {
          "base_uri": "https://localhost:8080/"
        },
        "outputId": "138a2fc2-8fe5-4714-8bba-892bedca6dc7"
      },
      "outputs": [
        {
          "output_type": "stream",
          "name": "stdout",
          "text": [
            "Evaluation \t Proposed point \t  Current eval. \t  Best eval. \t        Exact EI: StdDev. x \t Approx EI: StdDev. x \n",
            "init\t [0.9024594  4.07258857]\t 17.400410665504328\t 1.579257056101869\t    \t    \n",
            "init\t [4.00927467 3.23417577]\t 26.53417627399789\t 1.579257056101869\t    \t    \n",
            "init\t [-4.75249064  1.96359764]\t 26.44188299535699\t 1.579257056101869\t    \t    \n",
            "init\t [-1.24230715  0.18955208]\t 1.579257056101869\t 1.579257056101869\t    \t    \n",
            "init\t [ 1.61742301 -3.13497377]\t 12.44411771617229\t 1.579257056101869\t    \t    \n",
            "1  \t [-5.12 -5.12]\t 52.4288\t 1.579257056101869\t 2.7890505320707377\t 3.218943611782423\n",
            "2  \t [ 4.07254294 -0.77127317]\t 17.180468333365127\t 1.579257056101869\t 2.688528636436376\t 3.4824183862956093\n",
            "3  \t [-3.02313701 -1.93923735]\t 12.89999884039439\t 1.579257056101869\t 2.884182152505271\t 3.1219707905366763\n",
            "4  \t [-3.00322577  5.12      ]\t 35.23376503135265\t 1.579257056101869\t 2.7761952224560695\t 3.4943515812805663\n",
            "5  \t [-1.23384782 -5.12      ]\t 27.73678044796786\t 1.579257056101869\t 3.1669271161446204\t 3.0674711802434227\n",
            "6  \t [ 4.14636433 -4.97978639]\t 41.99060965598481\t 1.579257056101869\t 3.132658561815215\t 3.598471909927966\n",
            "\u001b[1m\u001b[92m7\u001b[0m\t \u001b[1m\u001b[92m[ 0.40891969 -0.02370773]\u001b[0m\t \u001b[1m\u001b[92m0.1677773653898162\u001b[0m\t \u001b[1m\u001b[92m0.1677773653898162\u001b[0m\t \u001b[1m\u001b[92m3.4667250787710095\u001b[0m\t \u001b[1m\u001b[92m3.2480962632430312\u001b[0m\n",
            "8  \t [-1.43466327  2.23580107]\t 7.0570651095975645\t 0.1677773653898162\t 2.9273008442056816\t 3.086268257396099\n",
            "9  \t [1.68343126 1.27989947]\t 4.4720834479918725\t 0.1677773653898162\t 2.868199163731124\t 2.998609425305868\n",
            "10 \t [-0.40879337 -1.63713654]\t 2.847328068814087\t 0.1677773653898162\t 2.9539511664404863\t 3.064726967092554\n",
            "11 \t [-5.12       -1.14159493]\t 27.517638992622953\t 0.1677773653898162\t 3.2632198287013634\t 3.2442905025926487\n",
            "12 \t [5.12 5.12]\t 52.4288\t 0.1677773653898162\t 3.130372349786499\t 3.431418522718944\n",
            "13 \t [5.12       1.16619409]\t 27.574408651993483\t 0.1677773653898162\t 3.0360095448581452\t 3.4308232981600164\n",
            "14 \t [ 1.3155362 -5.12     ]\t 27.94503548858482\t 0.1677773653898162\t 2.8061903430254493\t 2.7076506365638062\n",
            "15 \t [ 1.8150973  -0.95019179]\t 4.197442654088466\t 0.1677773653898162\t 2.44255874802876\t 2.6364816729928564\n",
            "16 \t [-2.60925657  0.26164403]\t 6.8766774331104425\t 0.1677773653898162\t 2.349722785385463\t 3.0199411347550904\n",
            "17 \t [0.30564041 1.40654346]\t 2.0717805736864165\t 0.1677773653898162\t 2.2904482265519173\t 2.470037872677367\n",
            "18 \t [-1.17732699 -2.59577116]\t 8.124126768279611\t 0.1677773653898162\t 3.0031542874654473\t 2.901658592162724\n",
            "19 \t [-1.20354678  4.0663029 ]\t 17.983344128040358\t 0.1677773653898162\t 2.77526324094042\t 3.062062191058557\n",
            "20 \t [ 3.43440435 -2.46492592]\t 17.87099302578262\t 0.1677773653898162\t 2.2363071779991426\t 2.7064171209229264\n"
          ]
        }
      ],
      "source": [
        "### EXACT STP EI GRADIENTS\n",
        "\n",
        "np.random.seed(run_num_20)\n",
        "surrogate_stp_20 = dtStudentProcess(cov_func, optimize=opt, nu = df)\n",
        "\n",
        "stp_20 = dGPGO_stp(surrogate_stp_20, Acquisition_grad(util_stp), objfunc, param)\n",
        "stp_20.run(init_evals=n_init, max_iter=iters)\n"
      ]
    },
    {
      "cell_type": "code",
      "execution_count": 54,
      "metadata": {
        "id": "5c8szjivRPme",
        "colab": {
          "base_uri": "https://localhost:8080/"
        },
        "outputId": "2c67dcd5-0e52-4713-a72f-2ba49951abfe"
      },
      "outputs": [
        {
          "output_type": "execute_result",
          "data": {
            "text/plain": [
              "1612.0615661144257"
            ]
          },
          "metadata": {},
          "execution_count": 54
        }
      ],
      "source": [
        "end_stp = time.time()\n",
        "end_stp\n",
        "\n",
        "time_stp = end_stp - start_stp\n",
        "time_stp\n"
      ]
    },
    {
      "cell_type": "code",
      "execution_count": 55,
      "metadata": {
        "id": "f6gCKnp6RR8c",
        "colab": {
          "base_uri": "https://localhost:8080/"
        },
        "outputId": "e1fab94f-2c2c-40bd-f06b-e83f76040dc9"
      },
      "outputs": [
        {
          "output_type": "execute_result",
          "data": {
            "text/plain": [
              "(-4.193036367682318, -2.4556178563492512)"
            ]
          },
          "metadata": {},
          "execution_count": 55
        }
      ],
      "source": [
        "### Simple regret minimisation: run number = 1\n",
        "\n",
        "gp_output_1 = np.append(np.min(-gp_1.GP.y[0:n_init]),-gp_1.GP.y[n_init:(n_init+iters)]) \n",
        "stp_output_1 = np.append(np.min(-stp_1.GP.y[0:n_init]),-stp_1.GP.y[n_init:(n_init+iters)]) \n",
        "\n",
        "regret_gp_1 = np.log(gp_output_1 - y_global_orig)\n",
        "regret_stp_1 = np.log(stp_output_1 - y_global_orig)\n",
        "\n",
        "simple_regret_gp_1 = min_max_array(regret_gp_1)\n",
        "simple_regret_stp_1 = min_max_array(regret_stp_1)\n",
        "\n",
        "min_simple_regret_gp_1 = min(simple_regret_gp_1)\n",
        "min_simple_regret_stp_1 = min(simple_regret_stp_1)\n",
        "\n",
        "min_simple_regret_gp_1, min_simple_regret_stp_1\n"
      ]
    },
    {
      "cell_type": "code",
      "execution_count": 56,
      "metadata": {
        "id": "94yBw5tqQxfk",
        "colab": {
          "base_uri": "https://localhost:8080/"
        },
        "outputId": "67832f9a-668f-4fc8-9d7b-35b5f87960c3"
      },
      "outputs": [
        {
          "output_type": "execute_result",
          "data": {
            "text/plain": [
              "(-4.326287391135164, -0.36060216392451794)"
            ]
          },
          "metadata": {},
          "execution_count": 56
        }
      ],
      "source": [
        "### Simple regret minimisation: run number = 2\n",
        "\n",
        "gp_output_2 = np.append(np.min(-gp_2.GP.y[0:n_init]),-gp_2.GP.y[n_init:(n_init+iters)]) \n",
        "stp_output_2 = np.append(np.min(-stp_2.GP.y[0:n_init]),-stp_2.GP.y[n_init:(n_init+iters)]) \n",
        "\n",
        "regret_gp_2 = np.log(gp_output_2 - y_global_orig)\n",
        "regret_stp_2 = np.log(stp_output_2 - y_global_orig)\n",
        "\n",
        "simple_regret_gp_2 = min_max_array(regret_gp_2)\n",
        "simple_regret_stp_2 = min_max_array(regret_stp_2)\n",
        "\n",
        "min_simple_regret_gp_2 = min(simple_regret_gp_2)\n",
        "min_simple_regret_stp_2 = min(simple_regret_stp_2)\n",
        "\n",
        "min_simple_regret_gp_2, min_simple_regret_stp_2\n"
      ]
    },
    {
      "cell_type": "code",
      "execution_count": 57,
      "metadata": {
        "id": "Bu6SBWALQxfl",
        "colab": {
          "base_uri": "https://localhost:8080/"
        },
        "outputId": "3555e419-c4bd-4fde-d044-9de1d5484238"
      },
      "outputs": [
        {
          "output_type": "execute_result",
          "data": {
            "text/plain": [
              "(-3.3716348667067533, -0.8142081918004406)"
            ]
          },
          "metadata": {},
          "execution_count": 57
        }
      ],
      "source": [
        "### Simple regret minimisation: run number = 3\n",
        "\n",
        "gp_output_3 = np.append(np.min(-gp_3.GP.y[0:n_init]),-gp_3.GP.y[n_init:(n_init+iters)]) \n",
        "stp_output_3 = np.append(np.min(-stp_3.GP.y[0:n_init]),-stp_3.GP.y[n_init:(n_init+iters)]) \n",
        "\n",
        "regret_gp_3 = np.log(gp_output_3 - y_global_orig)\n",
        "regret_stp_3 = np.log(stp_output_3 - y_global_orig)\n",
        "\n",
        "simple_regret_gp_3 = min_max_array(regret_gp_3)\n",
        "simple_regret_stp_3 = min_max_array(regret_stp_3)\n",
        "\n",
        "min_simple_regret_gp_3 = min(simple_regret_gp_3)\n",
        "min_simple_regret_stp_3 = min(simple_regret_stp_3)\n",
        "\n",
        "min_simple_regret_gp_3, min_simple_regret_stp_3"
      ]
    },
    {
      "cell_type": "code",
      "execution_count": 58,
      "metadata": {
        "id": "AZm0jgxkQxfm",
        "colab": {
          "base_uri": "https://localhost:8080/"
        },
        "outputId": "bac2128f-e768-4bd8-e3c8-7004f63a8e87"
      },
      "outputs": [
        {
          "output_type": "execute_result",
          "data": {
            "text/plain": [
              "(-3.4798091404251115, -0.4254605011391275)"
            ]
          },
          "metadata": {},
          "execution_count": 58
        }
      ],
      "source": [
        "### Simple regret minimisation: run number = 4\n",
        "\n",
        "gp_output_4 = np.append(np.min(-gp_4.GP.y[0:n_init]),-gp_4.GP.y[n_init:(n_init+iters)]) \n",
        "stp_output_4 = np.append(np.min(-stp_4.GP.y[0:n_init]),-stp_4.GP.y[n_init:(n_init+iters)]) \n",
        "\n",
        "regret_gp_4 = np.log(gp_output_4 - y_global_orig)\n",
        "regret_stp_4 = np.log(stp_output_4 - y_global_orig)\n",
        "\n",
        "simple_regret_gp_4 = min_max_array(regret_gp_4)\n",
        "simple_regret_stp_4 = min_max_array(regret_stp_4)\n",
        "\n",
        "min_simple_regret_gp_4 = min(simple_regret_gp_4)\n",
        "min_simple_regret_stp_4 = min(simple_regret_stp_4)\n",
        "\n",
        "min_simple_regret_gp_4, min_simple_regret_stp_4"
      ]
    },
    {
      "cell_type": "code",
      "execution_count": 59,
      "metadata": {
        "id": "NONPm8JIQxfn",
        "colab": {
          "base_uri": "https://localhost:8080/"
        },
        "outputId": "79d34209-8040-48bf-b07f-39de1175034b"
      },
      "outputs": [
        {
          "output_type": "execute_result",
          "data": {
            "text/plain": [
              "(-3.027565175434478, -0.9459827370309661)"
            ]
          },
          "metadata": {},
          "execution_count": 59
        }
      ],
      "source": [
        "### Simple regret minimisation: run number = 5\n",
        "\n",
        "gp_output_5 = np.append(np.min(-gp_5.GP.y[0:n_init]),-gp_5.GP.y[n_init:(n_init+iters)]) \n",
        "stp_output_5 = np.append(np.min(-stp_5.GP.y[0:n_init]),-stp_5.GP.y[n_init:(n_init+iters)]) \n",
        "\n",
        "regret_gp_5 = np.log(gp_output_5 - y_global_orig)\n",
        "regret_stp_5 = np.log(stp_output_5 - y_global_orig)\n",
        "\n",
        "simple_regret_gp_5 = min_max_array(regret_gp_5)\n",
        "simple_regret_stp_5 = min_max_array(regret_stp_5)\n",
        "\n",
        "min_simple_regret_gp_5 = min(simple_regret_gp_5)\n",
        "min_simple_regret_stp_5 = min(simple_regret_stp_5)\n",
        "\n",
        "min_simple_regret_gp_5, min_simple_regret_stp_5"
      ]
    },
    {
      "cell_type": "code",
      "execution_count": 60,
      "metadata": {
        "id": "CJv3lPuSQxfp",
        "colab": {
          "base_uri": "https://localhost:8080/"
        },
        "outputId": "02839144-b71e-4379-ca51-91417748fd1b"
      },
      "outputs": [
        {
          "output_type": "execute_result",
          "data": {
            "text/plain": [
              "(-2.471962941084676, -0.2427442970723533)"
            ]
          },
          "metadata": {},
          "execution_count": 60
        }
      ],
      "source": [
        "### Simple regret minimisation: run number = 6\n",
        "\n",
        "gp_output_6 = np.append(np.min(-gp_6.GP.y[0:n_init]),-gp_6.GP.y[n_init:(n_init+iters)]) \n",
        "stp_output_6 = np.append(np.min(-stp_6.GP.y[0:n_init]),-stp_6.GP.y[n_init:(n_init+iters)]) \n",
        "\n",
        "regret_gp_6 = np.log(gp_output_6 - y_global_orig)\n",
        "regret_stp_6 = np.log(stp_output_6 - y_global_orig)\n",
        "\n",
        "simple_regret_gp_6 = min_max_array(regret_gp_6)\n",
        "simple_regret_stp_6 = min_max_array(regret_stp_6)\n",
        "\n",
        "min_simple_regret_gp_6 = min(simple_regret_gp_6)\n",
        "min_simple_regret_stp_6 = min(simple_regret_stp_6)\n",
        "\n",
        "min_simple_regret_gp_6, min_simple_regret_stp_6"
      ]
    },
    {
      "cell_type": "code",
      "execution_count": 61,
      "metadata": {
        "id": "quR2ZyApQxfq",
        "colab": {
          "base_uri": "https://localhost:8080/"
        },
        "outputId": "72a7cdb4-7712-4ffd-dc2b-91c1f66cad76"
      },
      "outputs": [
        {
          "output_type": "execute_result",
          "data": {
            "text/plain": [
              "(-4.6151548390674915, -1.58118289981454)"
            ]
          },
          "metadata": {},
          "execution_count": 61
        }
      ],
      "source": [
        "### Simple regret minimisation: run number = 7\n",
        "\n",
        "gp_output_7 = np.append(np.min(-gp_7.GP.y[0:n_init]),-gp_7.GP.y[n_init:(n_init+iters)]) \n",
        "stp_output_7 = np.append(np.min(-stp_7.GP.y[0:n_init]),-stp_7.GP.y[n_init:(n_init+iters)]) \n",
        "\n",
        "regret_gp_7 = np.log(gp_output_7 - y_global_orig)\n",
        "regret_stp_7 = np.log(stp_output_7 - y_global_orig)\n",
        "\n",
        "simple_regret_gp_7 = min_max_array(regret_gp_7)\n",
        "simple_regret_stp_7 = min_max_array(regret_stp_7)\n",
        "\n",
        "min_simple_regret_gp_7 = min(simple_regret_gp_7)\n",
        "min_simple_regret_stp_7 = min(simple_regret_stp_7)\n",
        "\n",
        "min_simple_regret_gp_7, min_simple_regret_stp_7"
      ]
    },
    {
      "cell_type": "code",
      "execution_count": 62,
      "metadata": {
        "id": "99wY5nK6Qxfr",
        "colab": {
          "base_uri": "https://localhost:8080/"
        },
        "outputId": "ca3e6f45-8ea9-46df-be7c-566914dbbbac"
      },
      "outputs": [
        {
          "output_type": "execute_result",
          "data": {
            "text/plain": [
              "(-5.961153403862587, -2.274278581868741)"
            ]
          },
          "metadata": {},
          "execution_count": 62
        }
      ],
      "source": [
        "### Simple regret minimisation: run number = 8\n",
        "\n",
        "gp_output_8 = np.append(np.min(-gp_8.GP.y[0:n_init]),-gp_8.GP.y[n_init:(n_init+iters)]) \n",
        "stp_output_8 = np.append(np.min(-stp_8.GP.y[0:n_init]),-stp_8.GP.y[n_init:(n_init+iters)]) \n",
        "\n",
        "regret_gp_8 = np.log(gp_output_8 - y_global_orig)\n",
        "regret_stp_8 = np.log(stp_output_8 - y_global_orig)\n",
        "\n",
        "simple_regret_gp_8 = min_max_array(regret_gp_8)\n",
        "simple_regret_stp_8 = min_max_array(regret_stp_8)\n",
        "\n",
        "min_simple_regret_gp_8 = min(simple_regret_gp_8)\n",
        "min_simple_regret_stp_8 = min(simple_regret_stp_8)\n",
        "\n",
        "min_simple_regret_gp_8, min_simple_regret_stp_8"
      ]
    },
    {
      "cell_type": "code",
      "execution_count": 63,
      "metadata": {
        "id": "qt0P5t9qQxfs",
        "colab": {
          "base_uri": "https://localhost:8080/"
        },
        "outputId": "b207556d-32c2-4a75-cec5-9f0ba04980ae"
      },
      "outputs": [
        {
          "output_type": "execute_result",
          "data": {
            "text/plain": [
              "(-1.8654220526320782, -1.1310371928752478)"
            ]
          },
          "metadata": {},
          "execution_count": 63
        }
      ],
      "source": [
        "### Simple regret minimisation: run number = 9\n",
        "\n",
        "gp_output_9 = np.append(np.min(-gp_9.GP.y[0:n_init]),-gp_9.GP.y[n_init:(n_init+iters)]) \n",
        "stp_output_9 = np.append(np.min(-stp_9.GP.y[0:n_init]),-stp_9.GP.y[n_init:(n_init+iters)]) \n",
        "\n",
        "regret_gp_9 = np.log(gp_output_9 - y_global_orig)\n",
        "regret_stp_9 = np.log(stp_output_9 - y_global_orig)\n",
        "\n",
        "simple_regret_gp_9 = min_max_array(regret_gp_9)\n",
        "simple_regret_stp_9 = min_max_array(regret_stp_9)\n",
        "\n",
        "min_simple_regret_gp_9 = min(simple_regret_gp_9)\n",
        "min_simple_regret_stp_9 = min(simple_regret_stp_9)\n",
        "\n",
        "min_simple_regret_gp_9, min_simple_regret_stp_9"
      ]
    },
    {
      "cell_type": "code",
      "execution_count": 64,
      "metadata": {
        "id": "vx8to9stQxft",
        "colab": {
          "base_uri": "https://localhost:8080/"
        },
        "outputId": "4bf49bde-35ff-4131-e5c0-d3eab6d59b54"
      },
      "outputs": [
        {
          "output_type": "execute_result",
          "data": {
            "text/plain": [
              "(-4.484748269748821, -0.5631279438763982)"
            ]
          },
          "metadata": {},
          "execution_count": 64
        }
      ],
      "source": [
        "### Simple regret minimisation: run number = 10\n",
        "\n",
        "gp_output_10 = np.append(np.min(-gp_10.GP.y[0:n_init]),-gp_10.GP.y[n_init:(n_init+iters)]) \n",
        "stp_output_10 = np.append(np.min(-stp_10.GP.y[0:n_init]),-stp_10.GP.y[n_init:(n_init+iters)]) \n",
        "\n",
        "regret_gp_10 = np.log(gp_output_10 - y_global_orig)\n",
        "regret_stp_10 = np.log(stp_output_10 - y_global_orig)\n",
        "\n",
        "simple_regret_gp_10 = min_max_array(regret_gp_10)\n",
        "simple_regret_stp_10 = min_max_array(regret_stp_10)\n",
        "\n",
        "min_simple_regret_gp_10 = min(simple_regret_gp_10)\n",
        "min_simple_regret_stp_10 = min(simple_regret_stp_10)\n",
        "\n",
        "min_simple_regret_gp_10, min_simple_regret_stp_10"
      ]
    },
    {
      "cell_type": "code",
      "execution_count": 65,
      "metadata": {
        "id": "d-FGzWyHQxfu",
        "colab": {
          "base_uri": "https://localhost:8080/"
        },
        "outputId": "27a88f3c-40ba-46d4-e2bd-ed2d0fd4ea01"
      },
      "outputs": [
        {
          "output_type": "execute_result",
          "data": {
            "text/plain": [
              "(-7.20956277230277, -0.38464532587738653)"
            ]
          },
          "metadata": {},
          "execution_count": 65
        }
      ],
      "source": [
        "### Simple regret minimisation: run number = 11\n",
        "\n",
        "gp_output_11 = np.append(np.min(-gp_11.GP.y[0:n_init]),-gp_11.GP.y[n_init:(n_init+iters)]) \n",
        "stp_output_11 = np.append(np.min(-stp_11.GP.y[0:n_init]),-stp_11.GP.y[n_init:(n_init+iters)]) \n",
        "\n",
        "regret_gp_11 = np.log(gp_output_11 - y_global_orig)\n",
        "regret_stp_11 = np.log(stp_output_11 - y_global_orig)\n",
        "\n",
        "simple_regret_gp_11 = min_max_array(regret_gp_11)\n",
        "simple_regret_stp_11 = min_max_array(regret_stp_11)\n",
        "\n",
        "min_simple_regret_gp_11 = min(simple_regret_gp_11)\n",
        "min_simple_regret_stp_11 = min(simple_regret_stp_11)\n",
        "\n",
        "min_simple_regret_gp_11, min_simple_regret_stp_11"
      ]
    },
    {
      "cell_type": "code",
      "execution_count": 66,
      "metadata": {
        "id": "SvtsssyjQxfv",
        "colab": {
          "base_uri": "https://localhost:8080/"
        },
        "outputId": "6d1c11a3-0672-492e-9656-3fb9575fe5fb"
      },
      "outputs": [
        {
          "output_type": "execute_result",
          "data": {
            "text/plain": [
              "(-2.423356944231762, -0.9668244111445622)"
            ]
          },
          "metadata": {},
          "execution_count": 66
        }
      ],
      "source": [
        "### Simple regret minimisation: run number = 12\n",
        "\n",
        "gp_output_12 = np.append(np.min(-gp_12.GP.y[0:n_init]),-gp_12.GP.y[n_init:(n_init+iters)]) \n",
        "stp_output_12 = np.append(np.min(-stp_12.GP.y[0:n_init]),-stp_12.GP.y[n_init:(n_init+iters)]) \n",
        "\n",
        "regret_gp_12 = np.log(gp_output_12 - y_global_orig)\n",
        "regret_stp_12 = np.log(stp_output_12 - y_global_orig)\n",
        "\n",
        "simple_regret_gp_12 = min_max_array(regret_gp_12)\n",
        "simple_regret_stp_12 = min_max_array(regret_stp_12)\n",
        "\n",
        "min_simple_regret_gp_12 = min(simple_regret_gp_12)\n",
        "min_simple_regret_stp_12 = min(simple_regret_stp_12)\n",
        "\n",
        "min_simple_regret_gp_12, min_simple_regret_stp_12"
      ]
    },
    {
      "cell_type": "code",
      "execution_count": 67,
      "metadata": {
        "id": "K6OiGcHkQxfw",
        "colab": {
          "base_uri": "https://localhost:8080/"
        },
        "outputId": "30720955-a63a-42c3-b01c-3384ba446a48"
      },
      "outputs": [
        {
          "output_type": "execute_result",
          "data": {
            "text/plain": [
              "(-5.816855822016586, -0.25046522633768253)"
            ]
          },
          "metadata": {},
          "execution_count": 67
        }
      ],
      "source": [
        "### Simple regret minimisation: run number = 13\n",
        "\n",
        "gp_output_13 = np.append(np.min(-gp_13.GP.y[0:n_init]),-gp_13.GP.y[n_init:(n_init+iters)]) \n",
        "stp_output_13 = np.append(np.min(-stp_13.GP.y[0:n_init]),-stp_13.GP.y[n_init:(n_init+iters)]) \n",
        "\n",
        "regret_gp_13 = np.log(gp_output_13 - y_global_orig)\n",
        "regret_stp_13 = np.log(stp_output_13 - y_global_orig)\n",
        "\n",
        "simple_regret_gp_13 = min_max_array(regret_gp_13)\n",
        "simple_regret_stp_13 = min_max_array(regret_stp_13)\n",
        "\n",
        "min_simple_regret_gp_13 = min(simple_regret_gp_13)\n",
        "min_simple_regret_stp_13 = min(simple_regret_stp_13)\n",
        "\n",
        "min_simple_regret_gp_13, min_simple_regret_stp_13"
      ]
    },
    {
      "cell_type": "code",
      "execution_count": 68,
      "metadata": {
        "id": "ogML73shQxfx",
        "colab": {
          "base_uri": "https://localhost:8080/"
        },
        "outputId": "87af9be8-3aee-4921-b323-a1ed75c66e76"
      },
      "outputs": [
        {
          "output_type": "execute_result",
          "data": {
            "text/plain": [
              "(-6.607463114879785, -1.058776725893165)"
            ]
          },
          "metadata": {},
          "execution_count": 68
        }
      ],
      "source": [
        "### Simple regret minimisation: run number = 14\n",
        "\n",
        "gp_output_14 = np.append(np.min(-gp_14.GP.y[0:n_init]),-gp_14.GP.y[n_init:(n_init+iters)]) \n",
        "stp_output_14 = np.append(np.min(-stp_14.GP.y[0:n_init]),-stp_14.GP.y[n_init:(n_init+iters)]) \n",
        "\n",
        "regret_gp_14 = np.log(gp_output_14 - y_global_orig)\n",
        "regret_stp_14 = np.log(stp_output_14 - y_global_orig)\n",
        "\n",
        "simple_regret_gp_14 = min_max_array(regret_gp_14)\n",
        "simple_regret_stp_14 = min_max_array(regret_stp_14)\n",
        "\n",
        "min_simple_regret_gp_14 = min(simple_regret_gp_14)\n",
        "min_simple_regret_stp_14 = min(simple_regret_stp_14)\n",
        "\n",
        "min_simple_regret_gp_14, min_simple_regret_stp_14"
      ]
    },
    {
      "cell_type": "code",
      "execution_count": 69,
      "metadata": {
        "id": "9Eg7gFT9Qxfx",
        "colab": {
          "base_uri": "https://localhost:8080/"
        },
        "outputId": "3d4ff2fe-9261-42c8-cbff-55ff5346829f"
      },
      "outputs": [
        {
          "output_type": "execute_result",
          "data": {
            "text/plain": [
              "(-7.983957903641856, -1.186118042014929)"
            ]
          },
          "metadata": {},
          "execution_count": 69
        }
      ],
      "source": [
        "### Simple regret minimisation: run number = 15\n",
        "\n",
        "gp_output_15 = np.append(np.min(-gp_15.GP.y[0:n_init]),-gp_15.GP.y[n_init:(n_init+iters)]) \n",
        "stp_output_15 = np.append(np.min(-stp_15.GP.y[0:n_init]),-stp_15.GP.y[n_init:(n_init+iters)]) \n",
        "\n",
        "regret_gp_15 = np.log(gp_output_15 - y_global_orig)\n",
        "regret_stp_15 = np.log(stp_output_15 - y_global_orig)\n",
        "\n",
        "simple_regret_gp_15 = min_max_array(regret_gp_15)\n",
        "simple_regret_stp_15 = min_max_array(regret_stp_15)\n",
        "\n",
        "min_simple_regret_gp_15 = min(simple_regret_gp_15)\n",
        "min_simple_regret_stp_15 = min(simple_regret_stp_15)\n",
        "\n",
        "min_simple_regret_gp_15, min_simple_regret_stp_15"
      ]
    },
    {
      "cell_type": "code",
      "execution_count": 70,
      "metadata": {
        "id": "lIAC1U7ZQxfy",
        "colab": {
          "base_uri": "https://localhost:8080/"
        },
        "outputId": "cc79f580-c40c-429f-9f28-04f3409dd366"
      },
      "outputs": [
        {
          "output_type": "execute_result",
          "data": {
            "text/plain": [
              "(-1.527896843811257, -0.3367343254147189)"
            ]
          },
          "metadata": {},
          "execution_count": 70
        }
      ],
      "source": [
        "### Simple regret minimisation: run number = 16\n",
        "\n",
        "gp_output_16 = np.append(np.min(-gp_16.GP.y[0:n_init]),-gp_16.GP.y[n_init:(n_init+iters)]) \n",
        "stp_output_16 = np.append(np.min(-stp_16.GP.y[0:n_init]),-stp_16.GP.y[n_init:(n_init+iters)]) \n",
        "\n",
        "regret_gp_16 = np.log(gp_output_16 - y_global_orig)\n",
        "regret_stp_16 = np.log(stp_output_16 - y_global_orig)\n",
        "\n",
        "simple_regret_gp_16 = min_max_array(regret_gp_16)\n",
        "simple_regret_stp_16 = min_max_array(regret_stp_16)\n",
        "\n",
        "min_simple_regret_gp_16 = min(simple_regret_gp_16)\n",
        "min_simple_regret_stp_16 = min(simple_regret_stp_16)\n",
        "\n",
        "min_simple_regret_gp_16, min_simple_regret_stp_16"
      ]
    },
    {
      "cell_type": "code",
      "execution_count": 71,
      "metadata": {
        "id": "bGott36OQxfz",
        "colab": {
          "base_uri": "https://localhost:8080/"
        },
        "outputId": "f2a16199-83a4-467c-9e6b-0c4256b6b310"
      },
      "outputs": [
        {
          "output_type": "execute_result",
          "data": {
            "text/plain": [
              "(-4.031355336767628, -2.264988024558856)"
            ]
          },
          "metadata": {},
          "execution_count": 71
        }
      ],
      "source": [
        "### Simple regret minimisation: run number = 17\n",
        "\n",
        "gp_output_17 = np.append(np.min(-gp_17.GP.y[0:n_init]),-gp_17.GP.y[n_init:(n_init+iters)]) \n",
        "stp_output_17 = np.append(np.min(-stp_17.GP.y[0:n_init]),-stp_17.GP.y[n_init:(n_init+iters)]) \n",
        "\n",
        "regret_gp_17 = np.log(gp_output_17 - y_global_orig)\n",
        "regret_stp_17 = np.log(stp_output_17 - y_global_orig)\n",
        "\n",
        "simple_regret_gp_17 = min_max_array(regret_gp_17)\n",
        "simple_regret_stp_17 = min_max_array(regret_stp_17)\n",
        "\n",
        "min_simple_regret_gp_17 = min(simple_regret_gp_17)\n",
        "min_simple_regret_stp_17 = min(simple_regret_stp_17)\n",
        "\n",
        "min_simple_regret_gp_17, min_simple_regret_stp_17"
      ]
    },
    {
      "cell_type": "code",
      "execution_count": 72,
      "metadata": {
        "id": "Cz9ZYMBMQxfz",
        "colab": {
          "base_uri": "https://localhost:8080/"
        },
        "outputId": "c2a376cf-a5bb-4d04-8645-cfb2ab65b0ef"
      },
      "outputs": [
        {
          "output_type": "execute_result",
          "data": {
            "text/plain": [
              "(-3.900654837223617, -3.3462186573797186)"
            ]
          },
          "metadata": {},
          "execution_count": 72
        }
      ],
      "source": [
        "### Simple regret minimisation: run number = 18\n",
        "\n",
        "gp_output_18 = np.append(np.min(-gp_18.GP.y[0:n_init]),-gp_18.GP.y[n_init:(n_init+iters)]) \n",
        "stp_output_18 = np.append(np.min(-stp_18.GP.y[0:n_init]),-stp_18.GP.y[n_init:(n_init+iters)]) \n",
        "\n",
        "regret_gp_18 = np.log(gp_output_18 - y_global_orig)\n",
        "regret_stp_18 = np.log(stp_output_18 - y_global_orig)\n",
        "\n",
        "simple_regret_gp_18 = min_max_array(regret_gp_18)\n",
        "simple_regret_stp_18 = min_max_array(regret_stp_18)\n",
        "\n",
        "min_simple_regret_gp_18 = min(simple_regret_gp_18)\n",
        "min_simple_regret_stp_18 = min(simple_regret_stp_18)\n",
        "\n",
        "min_simple_regret_gp_18, min_simple_regret_stp_18"
      ]
    },
    {
      "cell_type": "code",
      "execution_count": 73,
      "metadata": {
        "id": "OBfpWOHNQxf0",
        "colab": {
          "base_uri": "https://localhost:8080/"
        },
        "outputId": "c2474817-981c-4987-afed-4c5b6f2c9347"
      },
      "outputs": [
        {
          "output_type": "execute_result",
          "data": {
            "text/plain": [
              "(-2.9794320496133238, -1.730524402795052)"
            ]
          },
          "metadata": {},
          "execution_count": 73
        }
      ],
      "source": [
        "### Simple regret minimisation: run number = 19\n",
        "\n",
        "gp_output_19 = np.append(np.min(-gp_19.GP.y[0:n_init]),-gp_19.GP.y[n_init:(n_init+iters)]) \n",
        "stp_output_19 = np.append(np.min(-stp_19.GP.y[0:n_init]),-stp_19.GP.y[n_init:(n_init+iters)]) \n",
        "\n",
        "regret_gp_19 = np.log(gp_output_19 - y_global_orig)\n",
        "regret_stp_19 = np.log(stp_output_19 - y_global_orig)\n",
        "\n",
        "simple_regret_gp_19 = min_max_array(regret_gp_19)\n",
        "simple_regret_stp_19 = min_max_array(regret_stp_19)\n",
        "\n",
        "min_simple_regret_gp_19 = min(simple_regret_gp_19)\n",
        "min_simple_regret_stp_19 = min(simple_regret_stp_19)\n",
        "\n",
        "min_simple_regret_gp_19, min_simple_regret_stp_19"
      ]
    },
    {
      "cell_type": "code",
      "execution_count": 74,
      "metadata": {
        "id": "BE1AJ7NsQxf0",
        "colab": {
          "base_uri": "https://localhost:8080/"
        },
        "outputId": "46cb6875-818c-49b1-af4a-ab2a8eb756b3"
      },
      "outputs": [
        {
          "output_type": "execute_result",
          "data": {
            "text/plain": [
              "(-5.129465359422259, -1.7851173844539001)"
            ]
          },
          "metadata": {},
          "execution_count": 74
        }
      ],
      "source": [
        "### Simple regret minimisation: run number = 20\n",
        "\n",
        "gp_output_20 = np.append(np.min(-gp_20.GP.y[0:n_init]),-gp_20.GP.y[n_init:(n_init+iters)]) \n",
        "stp_output_20 = np.append(np.min(-stp_20.GP.y[0:n_init]),-stp_20.GP.y[n_init:(n_init+iters)]) \n",
        "\n",
        "regret_gp_20 = np.log(gp_output_20 - y_global_orig)\n",
        "regret_stp_20 = np.log(stp_output_20 - y_global_orig)\n",
        "\n",
        "simple_regret_gp_20 = min_max_array(regret_gp_20)\n",
        "simple_regret_stp_20 = min_max_array(regret_stp_20)\n",
        "\n",
        "min_simple_regret_gp_20 = min(simple_regret_gp_20)\n",
        "min_simple_regret_stp_20 = min(simple_regret_stp_20)\n",
        "\n",
        "min_simple_regret_gp_20, min_simple_regret_stp_20"
      ]
    },
    {
      "cell_type": "code",
      "execution_count": 75,
      "metadata": {
        "id": "bpX-bKAHQxf1"
      },
      "outputs": [],
      "source": [
        "# Iteration1 :\n",
        "\n",
        "slice1 = 0\n",
        "\n",
        "approx1 = [simple_regret_gp_1[slice1],\n",
        "       simple_regret_gp_2[slice1],\n",
        "       simple_regret_gp_3[slice1],\n",
        "       simple_regret_gp_4[slice1],\n",
        "       simple_regret_gp_5[slice1],\n",
        "       simple_regret_gp_6[slice1],\n",
        "       simple_regret_gp_7[slice1],\n",
        "       simple_regret_gp_8[slice1],\n",
        "       simple_regret_gp_9[slice1],\n",
        "       simple_regret_gp_10[slice1],\n",
        "       simple_regret_gp_11[slice1],\n",
        "       simple_regret_gp_12[slice1],\n",
        "       simple_regret_gp_13[slice1],\n",
        "       simple_regret_gp_14[slice1],\n",
        "       simple_regret_gp_15[slice1],\n",
        "       simple_regret_gp_16[slice1],\n",
        "       simple_regret_gp_17[slice1],\n",
        "       simple_regret_gp_18[slice1],\n",
        "       simple_regret_gp_19[slice1],\n",
        "       simple_regret_gp_20[slice1]]\n",
        "\n",
        "exact1 = [simple_regret_stp_1[slice1],\n",
        "       simple_regret_stp_2[slice1],\n",
        "       simple_regret_stp_3[slice1],\n",
        "       simple_regret_stp_4[slice1],\n",
        "       simple_regret_stp_5[slice1],\n",
        "       simple_regret_stp_6[slice1],\n",
        "       simple_regret_stp_7[slice1],\n",
        "       simple_regret_stp_8[slice1],\n",
        "       simple_regret_stp_9[slice1],\n",
        "       simple_regret_stp_10[slice1],\n",
        "       simple_regret_stp_11[slice1],\n",
        "       simple_regret_stp_12[slice1],\n",
        "       simple_regret_stp_13[slice1],\n",
        "       simple_regret_stp_14[slice1],\n",
        "       simple_regret_stp_15[slice1],\n",
        "       simple_regret_stp_16[slice1],\n",
        "       simple_regret_stp_17[slice1],\n",
        "       simple_regret_stp_18[slice1],\n",
        "       simple_regret_stp_19[slice1],\n",
        "       simple_regret_stp_20[slice1]]\n",
        "\n",
        "approx1_results = pd.DataFrame(approx1).sort_values(by=[0], ascending=False)\n",
        "exact1_results = pd.DataFrame(exact1).sort_values(by=[0], ascending=False)\n",
        "\n",
        "### Best simple regret minimization IQR - approx:\n",
        "lower_gp1 = np.asarray(approx1_results[4:5][0])[0]\n",
        "median_gp1 = np.asarray(approx1_results[9:10][0])[0]\n",
        "upper_gp1 = np.asarray(approx1_results[14:15][0])[0]\n",
        "\n",
        "lower_stp1 = np.asarray(exact1_results[4:5][0])[0]\n",
        "median_stp1 = np.asarray(exact1_results[9:10][0])[0]\n",
        "upper_stp1 = np.asarray(exact1_results[14:15][0])[0]"
      ]
    },
    {
      "cell_type": "code",
      "execution_count": 76,
      "metadata": {
        "id": "CgIkJA1xQxf2"
      },
      "outputs": [],
      "source": [
        "# Iteration11 :\n",
        "\n",
        "slice11 = 10\n",
        "\n",
        "approx11 = [simple_regret_gp_1[slice11],\n",
        "       simple_regret_gp_2[slice11],\n",
        "       simple_regret_gp_3[slice11],\n",
        "       simple_regret_gp_4[slice11],\n",
        "       simple_regret_gp_5[slice11],\n",
        "       simple_regret_gp_6[slice11],\n",
        "       simple_regret_gp_7[slice11],\n",
        "       simple_regret_gp_8[slice11],\n",
        "       simple_regret_gp_9[slice11],\n",
        "       simple_regret_gp_10[slice11],\n",
        "       simple_regret_gp_11[slice11],\n",
        "       simple_regret_gp_12[slice11],\n",
        "       simple_regret_gp_13[slice11],\n",
        "       simple_regret_gp_14[slice11],\n",
        "       simple_regret_gp_15[slice11],\n",
        "       simple_regret_gp_16[slice11],\n",
        "       simple_regret_gp_17[slice11],\n",
        "       simple_regret_gp_18[slice11],\n",
        "       simple_regret_gp_19[slice11],\n",
        "       simple_regret_gp_20[slice11]]\n",
        "\n",
        "exact11 = [simple_regret_stp_1[slice11],\n",
        "       simple_regret_stp_2[slice11],\n",
        "       simple_regret_stp_3[slice11],\n",
        "       simple_regret_stp_4[slice11],\n",
        "       simple_regret_stp_5[slice11],\n",
        "       simple_regret_stp_6[slice11],\n",
        "       simple_regret_stp_7[slice11],\n",
        "       simple_regret_stp_8[slice11],\n",
        "       simple_regret_stp_9[slice11],\n",
        "       simple_regret_stp_10[slice11],\n",
        "       simple_regret_stp_11[slice11],\n",
        "       simple_regret_stp_12[slice11],\n",
        "       simple_regret_stp_13[slice11],\n",
        "       simple_regret_stp_14[slice11],\n",
        "       simple_regret_stp_15[slice11],\n",
        "       simple_regret_stp_16[slice11],\n",
        "       simple_regret_stp_17[slice11],\n",
        "       simple_regret_stp_18[slice11],\n",
        "       simple_regret_stp_19[slice11],\n",
        "       simple_regret_stp_20[slice11]]\n",
        "\n",
        "approx11_results = pd.DataFrame(approx11).sort_values(by=[0], ascending=False)\n",
        "exact11_results = pd.DataFrame(exact11).sort_values(by=[0], ascending=False)\n",
        "\n",
        "### Best simple regret minimization IQR - approx:\n",
        "lower_gp11 = np.asarray(approx11_results[4:5][0])[0]\n",
        "median_gp11 = np.asarray(approx11_results[9:10][0])[0]\n",
        "upper_gp11 = np.asarray(approx11_results[14:15][0])[0]\n",
        "\n",
        "lower_stp11 = np.asarray(exact11_results[4:5][0])[0]\n",
        "median_stp11 = np.asarray(exact11_results[9:10][0])[0]\n",
        "upper_stp11 = np.asarray(exact11_results[14:15][0])[0]"
      ]
    },
    {
      "cell_type": "code",
      "execution_count": 77,
      "metadata": {
        "id": "MFePDfGuQxf2"
      },
      "outputs": [],
      "source": [
        "# Iteration21 :\n",
        "\n",
        "slice21 = 20\n",
        "\n",
        "approx21 = [simple_regret_gp_1[slice21],\n",
        "       simple_regret_gp_2[slice21],\n",
        "       simple_regret_gp_3[slice21],\n",
        "       simple_regret_gp_4[slice21],\n",
        "       simple_regret_gp_5[slice21],\n",
        "       simple_regret_gp_6[slice21],\n",
        "       simple_regret_gp_7[slice21],\n",
        "       simple_regret_gp_8[slice21],\n",
        "       simple_regret_gp_9[slice21],\n",
        "       simple_regret_gp_10[slice21],\n",
        "       simple_regret_gp_11[slice21],\n",
        "       simple_regret_gp_12[slice21],\n",
        "       simple_regret_gp_13[slice21],\n",
        "       simple_regret_gp_14[slice21],\n",
        "       simple_regret_gp_15[slice21],\n",
        "       simple_regret_gp_16[slice21],\n",
        "       simple_regret_gp_17[slice21],\n",
        "       simple_regret_gp_18[slice21],\n",
        "       simple_regret_gp_19[slice21],\n",
        "       simple_regret_gp_20[slice21]]\n",
        "\n",
        "exact21 = [simple_regret_stp_1[slice21],\n",
        "       simple_regret_stp_2[slice21],\n",
        "       simple_regret_stp_3[slice21],\n",
        "       simple_regret_stp_4[slice21],\n",
        "       simple_regret_stp_5[slice21],\n",
        "       simple_regret_stp_6[slice21],\n",
        "       simple_regret_stp_7[slice21],\n",
        "       simple_regret_stp_8[slice21],\n",
        "       simple_regret_stp_9[slice21],\n",
        "       simple_regret_stp_10[slice21],\n",
        "       simple_regret_stp_11[slice21],\n",
        "       simple_regret_stp_12[slice21],\n",
        "       simple_regret_stp_13[slice21],\n",
        "       simple_regret_stp_14[slice21],\n",
        "       simple_regret_stp_15[slice21],\n",
        "       simple_regret_stp_16[slice21],\n",
        "       simple_regret_stp_17[slice21],\n",
        "       simple_regret_stp_18[slice21],\n",
        "       simple_regret_stp_19[slice21],\n",
        "       simple_regret_stp_20[slice21]]\n",
        "\n",
        "approx21_results = pd.DataFrame(approx21).sort_values(by=[0], ascending=False)\n",
        "exact21_results = pd.DataFrame(exact21).sort_values(by=[0], ascending=False)\n",
        "\n",
        "### Best simple regret minimization IQR - approx:\n",
        "lower_gp21 = np.asarray(approx21_results[4:5][0])[0]\n",
        "median_gp21 = np.asarray(approx21_results[9:10][0])[0]\n",
        "upper_gp21 = np.asarray(approx21_results[14:15][0])[0]\n",
        "\n",
        "lower_stp21 = np.asarray(exact21_results[4:5][0])[0]\n",
        "median_stp21 = np.asarray(exact21_results[9:10][0])[0]\n",
        "upper_stp21 = np.asarray(exact21_results[14:15][0])[0]"
      ]
    },
    {
      "cell_type": "code",
      "execution_count": 78,
      "metadata": {
        "id": "PrRDB1kfQxf3"
      },
      "outputs": [],
      "source": [
        "# Iteration2 :\n",
        "\n",
        "slice2 = 1\n",
        "\n",
        "approx2 = [simple_regret_gp_1[slice2],\n",
        "       simple_regret_gp_2[slice2],\n",
        "       simple_regret_gp_3[slice2],\n",
        "       simple_regret_gp_4[slice2],\n",
        "       simple_regret_gp_5[slice2],\n",
        "       simple_regret_gp_6[slice2],\n",
        "       simple_regret_gp_7[slice2],\n",
        "       simple_regret_gp_8[slice2],\n",
        "       simple_regret_gp_9[slice2],\n",
        "       simple_regret_gp_10[slice2],\n",
        "       simple_regret_gp_11[slice2],\n",
        "       simple_regret_gp_12[slice2],\n",
        "       simple_regret_gp_13[slice2],\n",
        "       simple_regret_gp_14[slice2],\n",
        "       simple_regret_gp_15[slice2],\n",
        "       simple_regret_gp_16[slice2],\n",
        "       simple_regret_gp_17[slice2],\n",
        "       simple_regret_gp_18[slice2],\n",
        "       simple_regret_gp_19[slice2],\n",
        "       simple_regret_gp_20[slice2]]\n",
        "\n",
        "exact2 = [simple_regret_stp_1[slice2],\n",
        "       simple_regret_stp_2[slice2],\n",
        "       simple_regret_stp_3[slice2],\n",
        "       simple_regret_stp_4[slice2],\n",
        "       simple_regret_stp_5[slice2],\n",
        "       simple_regret_stp_6[slice2],\n",
        "       simple_regret_stp_7[slice2],\n",
        "       simple_regret_stp_8[slice2],\n",
        "       simple_regret_stp_9[slice2],\n",
        "       simple_regret_stp_10[slice2],\n",
        "       simple_regret_stp_11[slice2],\n",
        "       simple_regret_stp_12[slice2],\n",
        "       simple_regret_stp_13[slice2],\n",
        "       simple_regret_stp_14[slice2],\n",
        "       simple_regret_stp_15[slice2],\n",
        "       simple_regret_stp_16[slice2],\n",
        "       simple_regret_stp_17[slice2],\n",
        "       simple_regret_stp_18[slice2],\n",
        "       simple_regret_stp_19[slice2],\n",
        "       simple_regret_stp_20[slice2]]\n",
        "\n",
        "approx2_results = pd.DataFrame(approx2).sort_values(by=[0], ascending=False)\n",
        "exact2_results = pd.DataFrame(exact2).sort_values(by=[0], ascending=False)\n",
        "\n",
        "### Best simple regret minimization IQR - approx:\n",
        "lower_gp2 = np.asarray(approx2_results[4:5][0])[0]\n",
        "median_gp2 = np.asarray(approx2_results[9:10][0])[0]\n",
        "upper_gp2 = np.asarray(approx2_results[14:15][0])[0]\n",
        "\n",
        "lower_stp2 = np.asarray(exact2_results[4:5][0])[0]\n",
        "median_stp2 = np.asarray(exact2_results[9:10][0])[0]\n",
        "upper_stp2 = np.asarray(exact2_results[14:15][0])[0]"
      ]
    },
    {
      "cell_type": "code",
      "execution_count": 79,
      "metadata": {
        "id": "B8ncJDYeQxf3"
      },
      "outputs": [],
      "source": [
        "# Iteration12 :\n",
        "\n",
        "slice12 = 11\n",
        "\n",
        "approx12 = [simple_regret_gp_1[slice12],\n",
        "       simple_regret_gp_2[slice12],\n",
        "       simple_regret_gp_3[slice12],\n",
        "       simple_regret_gp_4[slice12],\n",
        "       simple_regret_gp_5[slice12],\n",
        "       simple_regret_gp_6[slice12],\n",
        "       simple_regret_gp_7[slice12],\n",
        "       simple_regret_gp_8[slice12],\n",
        "       simple_regret_gp_9[slice12],\n",
        "       simple_regret_gp_10[slice12],\n",
        "       simple_regret_gp_11[slice12],\n",
        "       simple_regret_gp_12[slice12],\n",
        "       simple_regret_gp_13[slice12],\n",
        "       simple_regret_gp_14[slice12],\n",
        "       simple_regret_gp_15[slice12],\n",
        "       simple_regret_gp_16[slice12],\n",
        "       simple_regret_gp_17[slice12],\n",
        "       simple_regret_gp_18[slice12],\n",
        "       simple_regret_gp_19[slice12],\n",
        "       simple_regret_gp_20[slice12]]\n",
        "\n",
        "exact12 = [simple_regret_stp_1[slice12],\n",
        "       simple_regret_stp_2[slice12],\n",
        "       simple_regret_stp_3[slice12],\n",
        "       simple_regret_stp_4[slice12],\n",
        "       simple_regret_stp_5[slice12],\n",
        "       simple_regret_stp_6[slice12],\n",
        "       simple_regret_stp_7[slice12],\n",
        "       simple_regret_stp_8[slice12],\n",
        "       simple_regret_stp_9[slice12],\n",
        "       simple_regret_stp_10[slice12],\n",
        "       simple_regret_stp_11[slice12],\n",
        "       simple_regret_stp_12[slice12],\n",
        "       simple_regret_stp_13[slice12],\n",
        "       simple_regret_stp_14[slice12],\n",
        "       simple_regret_stp_15[slice12],\n",
        "       simple_regret_stp_16[slice12],\n",
        "       simple_regret_stp_17[slice12],\n",
        "       simple_regret_stp_18[slice12],\n",
        "       simple_regret_stp_19[slice12],\n",
        "       simple_regret_stp_20[slice12]]\n",
        "\n",
        "approx12_results = pd.DataFrame(approx12).sort_values(by=[0], ascending=False)\n",
        "exact12_results = pd.DataFrame(exact12).sort_values(by=[0], ascending=False)\n",
        "\n",
        "### Best simple regret minimization IQR - approx:\n",
        "lower_gp12 = np.asarray(approx12_results[4:5][0])[0]\n",
        "median_gp12 = np.asarray(approx12_results[9:10][0])[0]\n",
        "upper_gp12 = np.asarray(approx12_results[14:15][0])[0]\n",
        "\n",
        "lower_stp12 = np.asarray(exact12_results[4:5][0])[0]\n",
        "median_stp12 = np.asarray(exact12_results[9:10][0])[0]\n",
        "upper_stp12 = np.asarray(exact12_results[14:15][0])[0]"
      ]
    },
    {
      "cell_type": "code",
      "execution_count": 80,
      "metadata": {
        "id": "Jn4KpGvcQxf4"
      },
      "outputs": [],
      "source": [
        "# Iteration3 :\n",
        "\n",
        "slice3 = 2\n",
        "\n",
        "approx3 = [simple_regret_gp_1[slice3],\n",
        "       simple_regret_gp_2[slice3],\n",
        "       simple_regret_gp_3[slice3],\n",
        "       simple_regret_gp_4[slice3],\n",
        "       simple_regret_gp_5[slice3],\n",
        "       simple_regret_gp_6[slice3],\n",
        "       simple_regret_gp_7[slice3],\n",
        "       simple_regret_gp_8[slice3],\n",
        "       simple_regret_gp_9[slice3],\n",
        "       simple_regret_gp_10[slice3],\n",
        "       simple_regret_gp_11[slice3],\n",
        "       simple_regret_gp_12[slice3],\n",
        "       simple_regret_gp_13[slice3],\n",
        "       simple_regret_gp_14[slice3],\n",
        "       simple_regret_gp_15[slice3],\n",
        "       simple_regret_gp_16[slice3],\n",
        "       simple_regret_gp_17[slice3],\n",
        "       simple_regret_gp_18[slice3],\n",
        "       simple_regret_gp_19[slice3],\n",
        "       simple_regret_gp_20[slice3]]\n",
        "\n",
        "exact3 = [simple_regret_stp_1[slice3],\n",
        "       simple_regret_stp_2[slice3],\n",
        "       simple_regret_stp_3[slice3],\n",
        "       simple_regret_stp_4[slice3],\n",
        "       simple_regret_stp_5[slice3],\n",
        "       simple_regret_stp_6[slice3],\n",
        "       simple_regret_stp_7[slice3],\n",
        "       simple_regret_stp_8[slice3],\n",
        "       simple_regret_stp_9[slice3],\n",
        "       simple_regret_stp_10[slice3],\n",
        "       simple_regret_stp_11[slice3],\n",
        "       simple_regret_stp_12[slice3],\n",
        "       simple_regret_stp_13[slice3],\n",
        "       simple_regret_stp_14[slice3],\n",
        "       simple_regret_stp_15[slice3],\n",
        "       simple_regret_stp_16[slice3],\n",
        "       simple_regret_stp_17[slice3],\n",
        "       simple_regret_stp_18[slice3],\n",
        "       simple_regret_stp_19[slice3],\n",
        "       simple_regret_stp_20[slice3]]\n",
        "\n",
        "approx3_results = pd.DataFrame(approx3).sort_values(by=[0], ascending=False)\n",
        "exact3_results = pd.DataFrame(exact3).sort_values(by=[0], ascending=False)\n",
        "\n",
        "### Best simple regret minimization IQR - approx:\n",
        "lower_gp3 = np.asarray(approx3_results[4:5][0])[0]\n",
        "median_gp3 = np.asarray(approx3_results[9:10][0])[0]\n",
        "upper_gp3 = np.asarray(approx3_results[14:15][0])[0]\n",
        "\n",
        "lower_stp3 = np.asarray(exact3_results[4:5][0])[0]\n",
        "median_stp3 = np.asarray(exact3_results[9:10][0])[0]\n",
        "upper_stp3 = np.asarray(exact3_results[14:15][0])[0]"
      ]
    },
    {
      "cell_type": "code",
      "execution_count": 81,
      "metadata": {
        "id": "plf83wxrQxf4"
      },
      "outputs": [],
      "source": [
        "# Iteration13 :\n",
        "\n",
        "slice13 = 12\n",
        "\n",
        "approx13 = [simple_regret_gp_1[slice13],\n",
        "       simple_regret_gp_2[slice13],\n",
        "       simple_regret_gp_3[slice13],\n",
        "       simple_regret_gp_4[slice13],\n",
        "       simple_regret_gp_5[slice13],\n",
        "       simple_regret_gp_6[slice13],\n",
        "       simple_regret_gp_7[slice13],\n",
        "       simple_regret_gp_8[slice13],\n",
        "       simple_regret_gp_9[slice13],\n",
        "       simple_regret_gp_10[slice13],\n",
        "       simple_regret_gp_11[slice13],\n",
        "       simple_regret_gp_12[slice13],\n",
        "       simple_regret_gp_13[slice13],\n",
        "       simple_regret_gp_14[slice13],\n",
        "       simple_regret_gp_15[slice13],\n",
        "       simple_regret_gp_16[slice13],\n",
        "       simple_regret_gp_17[slice13],\n",
        "       simple_regret_gp_18[slice13],\n",
        "       simple_regret_gp_19[slice13],\n",
        "       simple_regret_gp_20[slice13]]\n",
        "\n",
        "exact13 = [simple_regret_stp_1[slice13],\n",
        "       simple_regret_stp_2[slice13],\n",
        "       simple_regret_stp_3[slice13],\n",
        "       simple_regret_stp_4[slice13],\n",
        "       simple_regret_stp_5[slice13],\n",
        "       simple_regret_stp_6[slice13],\n",
        "       simple_regret_stp_7[slice13],\n",
        "       simple_regret_stp_8[slice13],\n",
        "       simple_regret_stp_9[slice13],\n",
        "       simple_regret_stp_10[slice13],\n",
        "       simple_regret_stp_11[slice13],\n",
        "       simple_regret_stp_12[slice13],\n",
        "       simple_regret_stp_13[slice13],\n",
        "       simple_regret_stp_14[slice13],\n",
        "       simple_regret_stp_15[slice13],\n",
        "       simple_regret_stp_16[slice13],\n",
        "       simple_regret_stp_17[slice13],\n",
        "       simple_regret_stp_18[slice13],\n",
        "       simple_regret_stp_19[slice13],\n",
        "       simple_regret_stp_20[slice13]]\n",
        "\n",
        "approx13_results = pd.DataFrame(approx13).sort_values(by=[0], ascending=False)\n",
        "exact13_results = pd.DataFrame(exact13).sort_values(by=[0], ascending=False)\n",
        "\n",
        "### Best simple regret minimization IQR - approx:\n",
        "lower_gp13 = np.asarray(approx13_results[4:5][0])[0]\n",
        "median_gp13 = np.asarray(approx13_results[9:10][0])[0]\n",
        "upper_gp13 = np.asarray(approx13_results[14:15][0])[0]\n",
        "\n",
        "lower_stp13 = np.asarray(exact13_results[4:5][0])[0]\n",
        "median_stp13 = np.asarray(exact13_results[9:10][0])[0]\n",
        "upper_stp13 = np.asarray(exact13_results[14:15][0])[0]"
      ]
    },
    {
      "cell_type": "code",
      "execution_count": 82,
      "metadata": {
        "id": "9A7mlVvJQxf5"
      },
      "outputs": [],
      "source": [
        "# Iteration4 :\n",
        "\n",
        "slice4 = 3\n",
        "\n",
        "approx4 = [simple_regret_gp_1[slice4],\n",
        "       simple_regret_gp_2[slice4],\n",
        "       simple_regret_gp_3[slice4],\n",
        "       simple_regret_gp_4[slice4],\n",
        "       simple_regret_gp_5[slice4],\n",
        "       simple_regret_gp_6[slice4],\n",
        "       simple_regret_gp_7[slice4],\n",
        "       simple_regret_gp_8[slice4],\n",
        "       simple_regret_gp_9[slice4],\n",
        "       simple_regret_gp_10[slice4],\n",
        "       simple_regret_gp_11[slice4],\n",
        "       simple_regret_gp_12[slice4],\n",
        "       simple_regret_gp_13[slice4],\n",
        "       simple_regret_gp_14[slice4],\n",
        "       simple_regret_gp_15[slice4],\n",
        "       simple_regret_gp_16[slice4],\n",
        "       simple_regret_gp_17[slice4],\n",
        "       simple_regret_gp_18[slice4],\n",
        "       simple_regret_gp_19[slice4],\n",
        "       simple_regret_gp_20[slice4]]\n",
        "\n",
        "exact4 = [simple_regret_stp_1[slice4],\n",
        "       simple_regret_stp_2[slice4],\n",
        "       simple_regret_stp_3[slice4],\n",
        "       simple_regret_stp_4[slice4],\n",
        "       simple_regret_stp_5[slice4],\n",
        "       simple_regret_stp_6[slice4],\n",
        "       simple_regret_stp_7[slice4],\n",
        "       simple_regret_stp_8[slice4],\n",
        "       simple_regret_stp_9[slice4],\n",
        "       simple_regret_stp_10[slice4],\n",
        "       simple_regret_stp_11[slice4],\n",
        "       simple_regret_stp_12[slice4],\n",
        "       simple_regret_stp_13[slice4],\n",
        "       simple_regret_stp_14[slice4],\n",
        "       simple_regret_stp_15[slice4],\n",
        "       simple_regret_stp_16[slice4],\n",
        "       simple_regret_stp_17[slice4],\n",
        "       simple_regret_stp_18[slice4],\n",
        "       simple_regret_stp_19[slice4],\n",
        "       simple_regret_stp_20[slice4]]\n",
        "\n",
        "approx4_results = pd.DataFrame(approx4).sort_values(by=[0], ascending=False)\n",
        "exact4_results = pd.DataFrame(exact4).sort_values(by=[0], ascending=False)\n",
        "\n",
        "### Best simple regret minimization IQR - approx:\n",
        "lower_gp4 = np.asarray(approx4_results[4:5][0])[0]\n",
        "median_gp4 = np.asarray(approx4_results[9:10][0])[0]\n",
        "upper_gp4 = np.asarray(approx4_results[14:15][0])[0]\n",
        "\n",
        "lower_stp4 = np.asarray(exact4_results[4:5][0])[0]\n",
        "median_stp4 = np.asarray(exact4_results[9:10][0])[0]\n",
        "upper_stp4 = np.asarray(exact4_results[14:15][0])[0]"
      ]
    },
    {
      "cell_type": "code",
      "execution_count": 83,
      "metadata": {
        "id": "ijq-rioYQxf5"
      },
      "outputs": [],
      "source": [
        "# Iteration14 :\n",
        "\n",
        "slice14 = 13\n",
        "\n",
        "approx14 = [simple_regret_gp_1[slice14],\n",
        "       simple_regret_gp_2[slice14],\n",
        "       simple_regret_gp_3[slice14],\n",
        "       simple_regret_gp_4[slice14],\n",
        "       simple_regret_gp_5[slice14],\n",
        "       simple_regret_gp_6[slice14],\n",
        "       simple_regret_gp_7[slice14],\n",
        "       simple_regret_gp_8[slice14],\n",
        "       simple_regret_gp_9[slice14],\n",
        "       simple_regret_gp_10[slice14],\n",
        "       simple_regret_gp_11[slice14],\n",
        "       simple_regret_gp_12[slice14],\n",
        "       simple_regret_gp_13[slice14],\n",
        "       simple_regret_gp_14[slice14],\n",
        "       simple_regret_gp_15[slice14],\n",
        "       simple_regret_gp_16[slice14],\n",
        "       simple_regret_gp_17[slice14],\n",
        "       simple_regret_gp_18[slice14],\n",
        "       simple_regret_gp_19[slice14],\n",
        "       simple_regret_gp_20[slice14]]\n",
        "\n",
        "exact14 = [simple_regret_stp_1[slice14],\n",
        "       simple_regret_stp_2[slice14],\n",
        "       simple_regret_stp_3[slice14],\n",
        "       simple_regret_stp_4[slice14],\n",
        "       simple_regret_stp_5[slice14],\n",
        "       simple_regret_stp_6[slice14],\n",
        "       simple_regret_stp_7[slice14],\n",
        "       simple_regret_stp_8[slice14],\n",
        "       simple_regret_stp_9[slice14],\n",
        "       simple_regret_stp_10[slice14],\n",
        "       simple_regret_stp_11[slice14],\n",
        "       simple_regret_stp_12[slice14],\n",
        "       simple_regret_stp_13[slice14],\n",
        "       simple_regret_stp_14[slice14],\n",
        "       simple_regret_stp_15[slice14],\n",
        "       simple_regret_stp_16[slice14],\n",
        "       simple_regret_stp_17[slice14],\n",
        "       simple_regret_stp_18[slice14],\n",
        "       simple_regret_stp_19[slice14],\n",
        "       simple_regret_stp_20[slice14]]\n",
        "\n",
        "approx14_results = pd.DataFrame(approx14).sort_values(by=[0], ascending=False)\n",
        "exact14_results = pd.DataFrame(exact14).sort_values(by=[0], ascending=False)\n",
        "\n",
        "### Best simple regret minimization IQR - approx:\n",
        "lower_gp14 = np.asarray(approx14_results[4:5][0])[0]\n",
        "median_gp14 = np.asarray(approx14_results[9:10][0])[0]\n",
        "upper_gp14 = np.asarray(approx14_results[14:15][0])[0]\n",
        "\n",
        "lower_stp14 = np.asarray(exact14_results[4:5][0])[0]\n",
        "median_stp14 = np.asarray(exact14_results[9:10][0])[0]\n",
        "upper_stp14 = np.asarray(exact14_results[14:15][0])[0]"
      ]
    },
    {
      "cell_type": "code",
      "execution_count": 84,
      "metadata": {
        "id": "XINlZjoTd-ZK"
      },
      "outputs": [],
      "source": [
        "# Iteration5 :\n",
        "\n",
        "slice5 = 4\n",
        "\n",
        "approx5 = [simple_regret_gp_1[slice5],\n",
        "       simple_regret_gp_2[slice5],\n",
        "       simple_regret_gp_3[slice5],\n",
        "       simple_regret_gp_4[slice5],\n",
        "       simple_regret_gp_5[slice5],\n",
        "       simple_regret_gp_6[slice5],\n",
        "       simple_regret_gp_7[slice5],\n",
        "       simple_regret_gp_8[slice5],\n",
        "       simple_regret_gp_9[slice5],\n",
        "       simple_regret_gp_10[slice5],\n",
        "       simple_regret_gp_11[slice5],\n",
        "       simple_regret_gp_12[slice5],\n",
        "       simple_regret_gp_13[slice5],\n",
        "       simple_regret_gp_14[slice5],\n",
        "       simple_regret_gp_15[slice5],\n",
        "       simple_regret_gp_16[slice5],\n",
        "       simple_regret_gp_17[slice5],\n",
        "       simple_regret_gp_18[slice5],\n",
        "       simple_regret_gp_19[slice5],\n",
        "       simple_regret_gp_20[slice5]]\n",
        "\n",
        "exact5 = [simple_regret_stp_1[slice5],\n",
        "       simple_regret_stp_2[slice5],\n",
        "       simple_regret_stp_3[slice5],\n",
        "       simple_regret_stp_4[slice5],\n",
        "       simple_regret_stp_5[slice5],\n",
        "       simple_regret_stp_6[slice5],\n",
        "       simple_regret_stp_7[slice5],\n",
        "       simple_regret_stp_8[slice5],\n",
        "       simple_regret_stp_9[slice5],\n",
        "       simple_regret_stp_10[slice5],\n",
        "       simple_regret_stp_11[slice5],\n",
        "       simple_regret_stp_12[slice5],\n",
        "       simple_regret_stp_13[slice5],\n",
        "       simple_regret_stp_14[slice5],\n",
        "       simple_regret_stp_15[slice5],\n",
        "       simple_regret_stp_16[slice5],\n",
        "       simple_regret_stp_17[slice5],\n",
        "       simple_regret_stp_18[slice5],\n",
        "       simple_regret_stp_19[slice5],\n",
        "       simple_regret_stp_20[slice5]]\n",
        "\n",
        "approx5_results = pd.DataFrame(approx5).sort_values(by=[0], ascending=False)\n",
        "exact5_results = pd.DataFrame(exact5).sort_values(by=[0], ascending=False)\n",
        "\n",
        "### Best simple regret minimization IQR - approx:\n",
        "lower_gp5 = np.asarray(approx5_results[4:5][0])[0]\n",
        "median_gp5 = np.asarray(approx5_results[9:10][0])[0]\n",
        "upper_gp5 = np.asarray(approx5_results[14:15][0])[0]\n",
        "\n",
        "lower_stp5 = np.asarray(exact5_results[4:5][0])[0]\n",
        "median_stp5 = np.asarray(exact5_results[9:10][0])[0]\n",
        "upper_stp5 = np.asarray(exact5_results[14:15][0])[0]"
      ]
    },
    {
      "cell_type": "code",
      "execution_count": 85,
      "metadata": {
        "id": "4aZ7C8sOQxf6"
      },
      "outputs": [],
      "source": [
        "# Iteration15 :\n",
        "\n",
        "slice15 = 14\n",
        "\n",
        "approx15 = [simple_regret_gp_1[slice15],\n",
        "       simple_regret_gp_2[slice15],\n",
        "       simple_regret_gp_3[slice15],\n",
        "       simple_regret_gp_4[slice15],\n",
        "       simple_regret_gp_5[slice15],\n",
        "       simple_regret_gp_6[slice15],\n",
        "       simple_regret_gp_7[slice15],\n",
        "       simple_regret_gp_8[slice15],\n",
        "       simple_regret_gp_9[slice15],\n",
        "       simple_regret_gp_10[slice15],\n",
        "       simple_regret_gp_11[slice15],\n",
        "       simple_regret_gp_12[slice15],\n",
        "       simple_regret_gp_13[slice15],\n",
        "       simple_regret_gp_14[slice15],\n",
        "       simple_regret_gp_15[slice15],\n",
        "       simple_regret_gp_16[slice15],\n",
        "       simple_regret_gp_17[slice15],\n",
        "       simple_regret_gp_18[slice15],\n",
        "       simple_regret_gp_19[slice15],\n",
        "       simple_regret_gp_20[slice15]]\n",
        "\n",
        "exact15 = [simple_regret_stp_1[slice15],\n",
        "       simple_regret_stp_2[slice15],\n",
        "       simple_regret_stp_3[slice15],\n",
        "       simple_regret_stp_4[slice15],\n",
        "       simple_regret_stp_5[slice15],\n",
        "       simple_regret_stp_6[slice15],\n",
        "       simple_regret_stp_7[slice15],\n",
        "       simple_regret_stp_8[slice15],\n",
        "       simple_regret_stp_9[slice15],\n",
        "       simple_regret_stp_10[slice15],\n",
        "       simple_regret_stp_11[slice15],\n",
        "       simple_regret_stp_12[slice15],\n",
        "       simple_regret_stp_13[slice15],\n",
        "       simple_regret_stp_14[slice15],\n",
        "       simple_regret_stp_15[slice15],\n",
        "       simple_regret_stp_16[slice15],\n",
        "       simple_regret_stp_17[slice15],\n",
        "       simple_regret_stp_18[slice15],\n",
        "       simple_regret_stp_19[slice15],\n",
        "       simple_regret_stp_20[slice15]]\n",
        "\n",
        "approx15_results = pd.DataFrame(approx15).sort_values(by=[0], ascending=False)\n",
        "exact15_results = pd.DataFrame(exact15).sort_values(by=[0], ascending=False)\n",
        "\n",
        "### Best simple regret minimization IQR - approx:\n",
        "lower_gp15 = np.asarray(approx15_results[4:5][0])[0]\n",
        "median_gp15 = np.asarray(approx15_results[9:10][0])[0]\n",
        "upper_gp15 = np.asarray(approx15_results[14:15][0])[0]\n",
        "\n",
        "lower_stp15 = np.asarray(exact15_results[4:5][0])[0]\n",
        "median_stp15 = np.asarray(exact15_results[9:10][0])[0]\n",
        "upper_stp15 = np.asarray(exact15_results[14:15][0])[0]"
      ]
    },
    {
      "cell_type": "code",
      "execution_count": 86,
      "metadata": {
        "id": "KJINKhv1Qxf6"
      },
      "outputs": [],
      "source": [
        "# Iteration6 :\n",
        "\n",
        "slice6 = 5\n",
        "\n",
        "approx6 = [simple_regret_gp_1[slice6],\n",
        "       simple_regret_gp_2[slice6],\n",
        "       simple_regret_gp_3[slice6],\n",
        "       simple_regret_gp_4[slice6],\n",
        "       simple_regret_gp_5[slice6],\n",
        "       simple_regret_gp_6[slice6],\n",
        "       simple_regret_gp_7[slice6],\n",
        "       simple_regret_gp_8[slice6],\n",
        "       simple_regret_gp_9[slice6],\n",
        "       simple_regret_gp_10[slice6],\n",
        "       simple_regret_gp_11[slice6],\n",
        "       simple_regret_gp_12[slice6],\n",
        "       simple_regret_gp_13[slice6],\n",
        "       simple_regret_gp_14[slice6],\n",
        "       simple_regret_gp_15[slice6],\n",
        "       simple_regret_gp_16[slice6],\n",
        "       simple_regret_gp_17[slice6],\n",
        "       simple_regret_gp_18[slice6],\n",
        "       simple_regret_gp_19[slice6],\n",
        "       simple_regret_gp_20[slice6]]\n",
        "\n",
        "exact6 = [simple_regret_stp_1[slice6],\n",
        "       simple_regret_stp_2[slice6],\n",
        "       simple_regret_stp_3[slice6],\n",
        "       simple_regret_stp_4[slice6],\n",
        "       simple_regret_stp_5[slice6],\n",
        "       simple_regret_stp_6[slice6],\n",
        "       simple_regret_stp_7[slice6],\n",
        "       simple_regret_stp_8[slice6],\n",
        "       simple_regret_stp_9[slice6],\n",
        "       simple_regret_stp_10[slice6],\n",
        "       simple_regret_stp_11[slice6],\n",
        "       simple_regret_stp_12[slice6],\n",
        "       simple_regret_stp_13[slice6],\n",
        "       simple_regret_stp_14[slice6],\n",
        "       simple_regret_stp_15[slice6],\n",
        "       simple_regret_stp_16[slice6],\n",
        "       simple_regret_stp_17[slice6],\n",
        "       simple_regret_stp_18[slice6],\n",
        "       simple_regret_stp_19[slice6],\n",
        "       simple_regret_stp_20[slice6]]\n",
        "\n",
        "approx6_results = pd.DataFrame(approx6).sort_values(by=[0], ascending=False)\n",
        "exact6_results = pd.DataFrame(exact6).sort_values(by=[0], ascending=False)\n",
        "\n",
        "### Best simple regret minimization IQR - approx:\n",
        "lower_gp6 = np.asarray(approx6_results[4:5][0])[0]\n",
        "median_gp6 = np.asarray(approx6_results[9:10][0])[0]\n",
        "upper_gp6 = np.asarray(approx6_results[14:15][0])[0]\n",
        "\n",
        "lower_stp6 = np.asarray(exact6_results[4:5][0])[0]\n",
        "median_stp6 = np.asarray(exact6_results[9:10][0])[0]\n",
        "upper_stp6 = np.asarray(exact6_results[14:15][0])[0]"
      ]
    },
    {
      "cell_type": "code",
      "execution_count": 87,
      "metadata": {
        "id": "nwC5N1FsQxf7"
      },
      "outputs": [],
      "source": [
        "# Iteration16 :\n",
        "\n",
        "slice16 = 15\n",
        "\n",
        "approx16 = [simple_regret_gp_1[slice16],\n",
        "       simple_regret_gp_2[slice16],\n",
        "       simple_regret_gp_3[slice16],\n",
        "       simple_regret_gp_4[slice16],\n",
        "       simple_regret_gp_5[slice16],\n",
        "       simple_regret_gp_6[slice16],\n",
        "       simple_regret_gp_7[slice16],\n",
        "       simple_regret_gp_8[slice16],\n",
        "       simple_regret_gp_9[slice16],\n",
        "       simple_regret_gp_10[slice16],\n",
        "       simple_regret_gp_11[slice16],\n",
        "       simple_regret_gp_12[slice16],\n",
        "       simple_regret_gp_13[slice16],\n",
        "       simple_regret_gp_14[slice16],\n",
        "       simple_regret_gp_15[slice16],\n",
        "       simple_regret_gp_16[slice16],\n",
        "       simple_regret_gp_17[slice16],\n",
        "       simple_regret_gp_18[slice16],\n",
        "       simple_regret_gp_19[slice16],\n",
        "       simple_regret_gp_20[slice16]]\n",
        "\n",
        "exact16 = [simple_regret_stp_1[slice16],\n",
        "       simple_regret_stp_2[slice16],\n",
        "       simple_regret_stp_3[slice16],\n",
        "       simple_regret_stp_4[slice16],\n",
        "       simple_regret_stp_5[slice16],\n",
        "       simple_regret_stp_6[slice16],\n",
        "       simple_regret_stp_7[slice16],\n",
        "       simple_regret_stp_8[slice16],\n",
        "       simple_regret_stp_9[slice16],\n",
        "       simple_regret_stp_10[slice16],\n",
        "       simple_regret_stp_11[slice16],\n",
        "       simple_regret_stp_12[slice16],\n",
        "       simple_regret_stp_13[slice16],\n",
        "       simple_regret_stp_14[slice16],\n",
        "       simple_regret_stp_15[slice16],\n",
        "       simple_regret_stp_16[slice16],\n",
        "       simple_regret_stp_17[slice16],\n",
        "       simple_regret_stp_18[slice16],\n",
        "       simple_regret_stp_19[slice16],\n",
        "       simple_regret_stp_20[slice16]]\n",
        "\n",
        "approx16_results = pd.DataFrame(approx16).sort_values(by=[0], ascending=False)\n",
        "exact16_results = pd.DataFrame(exact16).sort_values(by=[0], ascending=False)\n",
        "\n",
        "### Best simple regret minimization IQR - approx:\n",
        "lower_gp16 = np.asarray(approx16_results[4:5][0])[0]\n",
        "median_gp16 = np.asarray(approx16_results[9:10][0])[0]\n",
        "upper_gp16 = np.asarray(approx16_results[14:15][0])[0]\n",
        "\n",
        "lower_stp16 = np.asarray(exact16_results[4:5][0])[0]\n",
        "median_stp16 = np.asarray(exact16_results[9:10][0])[0]\n",
        "upper_stp16 = np.asarray(exact16_results[14:15][0])[0]"
      ]
    },
    {
      "cell_type": "code",
      "execution_count": 88,
      "metadata": {
        "id": "TrPV0AfnQxf7"
      },
      "outputs": [],
      "source": [
        "# Iteration7 :\n",
        "\n",
        "slice7 = 6\n",
        "\n",
        "approx7 = [simple_regret_gp_1[slice7],\n",
        "       simple_regret_gp_2[slice7],\n",
        "       simple_regret_gp_3[slice7],\n",
        "       simple_regret_gp_4[slice7],\n",
        "       simple_regret_gp_5[slice7],\n",
        "       simple_regret_gp_6[slice7],\n",
        "       simple_regret_gp_7[slice7],\n",
        "       simple_regret_gp_8[slice7],\n",
        "       simple_regret_gp_9[slice7],\n",
        "       simple_regret_gp_10[slice7],\n",
        "       simple_regret_gp_11[slice7],\n",
        "       simple_regret_gp_12[slice7],\n",
        "       simple_regret_gp_13[slice7],\n",
        "       simple_regret_gp_14[slice7],\n",
        "       simple_regret_gp_15[slice7],\n",
        "       simple_regret_gp_16[slice7],\n",
        "       simple_regret_gp_17[slice7],\n",
        "       simple_regret_gp_18[slice7],\n",
        "       simple_regret_gp_19[slice7],\n",
        "       simple_regret_gp_20[slice7]]\n",
        "\n",
        "exact7 = [simple_regret_stp_1[slice7],\n",
        "       simple_regret_stp_2[slice7],\n",
        "       simple_regret_stp_3[slice7],\n",
        "       simple_regret_stp_4[slice7],\n",
        "       simple_regret_stp_5[slice7],\n",
        "       simple_regret_stp_6[slice7],\n",
        "       simple_regret_stp_7[slice7],\n",
        "       simple_regret_stp_8[slice7],\n",
        "       simple_regret_stp_9[slice7],\n",
        "       simple_regret_stp_10[slice7],\n",
        "       simple_regret_stp_11[slice7],\n",
        "       simple_regret_stp_12[slice7],\n",
        "       simple_regret_stp_13[slice7],\n",
        "       simple_regret_stp_14[slice7],\n",
        "       simple_regret_stp_15[slice7],\n",
        "       simple_regret_stp_16[slice7],\n",
        "       simple_regret_stp_17[slice7],\n",
        "       simple_regret_stp_18[slice7],\n",
        "       simple_regret_stp_19[slice7],\n",
        "       simple_regret_stp_20[slice7]]\n",
        "\n",
        "approx7_results = pd.DataFrame(approx7).sort_values(by=[0], ascending=False)\n",
        "exact7_results = pd.DataFrame(exact7).sort_values(by=[0], ascending=False)\n",
        "\n",
        "### Best simple regret minimization IQR - approx:\n",
        "lower_gp7 = np.asarray(approx7_results[4:5][0])[0]\n",
        "median_gp7 = np.asarray(approx7_results[9:10][0])[0]\n",
        "upper_gp7 = np.asarray(approx7_results[14:15][0])[0]\n",
        "\n",
        "lower_stp7 = np.asarray(exact7_results[4:5][0])[0]\n",
        "median_stp7 = np.asarray(exact7_results[9:10][0])[0]\n",
        "upper_stp7 = np.asarray(exact7_results[14:15][0])[0]"
      ]
    },
    {
      "cell_type": "code",
      "execution_count": 89,
      "metadata": {
        "id": "Ub_-wpK4Qxf8"
      },
      "outputs": [],
      "source": [
        "# Iteration17 :\n",
        "\n",
        "slice17 = 16\n",
        "\n",
        "approx17 = [simple_regret_gp_1[slice17],\n",
        "       simple_regret_gp_2[slice17],\n",
        "       simple_regret_gp_3[slice17],\n",
        "       simple_regret_gp_4[slice17],\n",
        "       simple_regret_gp_5[slice17],\n",
        "       simple_regret_gp_6[slice17],\n",
        "       simple_regret_gp_7[slice17],\n",
        "       simple_regret_gp_8[slice17],\n",
        "       simple_regret_gp_9[slice17],\n",
        "       simple_regret_gp_10[slice17],\n",
        "       simple_regret_gp_11[slice17],\n",
        "       simple_regret_gp_12[slice17],\n",
        "       simple_regret_gp_13[slice17],\n",
        "       simple_regret_gp_14[slice17],\n",
        "       simple_regret_gp_15[slice17],\n",
        "       simple_regret_gp_16[slice17],\n",
        "       simple_regret_gp_17[slice17],\n",
        "       simple_regret_gp_18[slice17],\n",
        "       simple_regret_gp_19[slice17],\n",
        "       simple_regret_gp_20[slice17]]\n",
        "\n",
        "exact17 = [simple_regret_stp_1[slice17],\n",
        "       simple_regret_stp_2[slice17],\n",
        "       simple_regret_stp_3[slice17],\n",
        "       simple_regret_stp_4[slice17],\n",
        "       simple_regret_stp_5[slice17],\n",
        "       simple_regret_stp_6[slice17],\n",
        "       simple_regret_stp_7[slice17],\n",
        "       simple_regret_stp_8[slice17],\n",
        "       simple_regret_stp_9[slice17],\n",
        "       simple_regret_stp_10[slice17],\n",
        "       simple_regret_stp_11[slice17],\n",
        "       simple_regret_stp_12[slice17],\n",
        "       simple_regret_stp_13[slice17],\n",
        "       simple_regret_stp_14[slice17],\n",
        "       simple_regret_stp_15[slice17],\n",
        "       simple_regret_stp_16[slice17],\n",
        "       simple_regret_stp_17[slice17],\n",
        "       simple_regret_stp_18[slice17],\n",
        "       simple_regret_stp_19[slice17],\n",
        "       simple_regret_stp_20[slice17]]\n",
        "\n",
        "approx17_results = pd.DataFrame(approx17).sort_values(by=[0], ascending=False)\n",
        "exact17_results = pd.DataFrame(exact17).sort_values(by=[0], ascending=False)\n",
        "\n",
        "### Best simple regret minimization IQR - approx:\n",
        "lower_gp17 = np.asarray(approx17_results[4:5][0])[0]\n",
        "median_gp17 = np.asarray(approx17_results[9:10][0])[0]\n",
        "upper_gp17 = np.asarray(approx17_results[14:15][0])[0]\n",
        "\n",
        "lower_stp17 = np.asarray(exact17_results[4:5][0])[0]\n",
        "median_stp17 = np.asarray(exact17_results[9:10][0])[0]\n",
        "upper_stp17 = np.asarray(exact17_results[14:15][0])[0]"
      ]
    },
    {
      "cell_type": "code",
      "execution_count": 90,
      "metadata": {
        "id": "-6VLo37PQxf8"
      },
      "outputs": [],
      "source": [
        "# Iteration8 :\n",
        "\n",
        "slice8 = 7\n",
        "\n",
        "approx8 = [simple_regret_gp_1[slice8],\n",
        "       simple_regret_gp_2[slice8],\n",
        "       simple_regret_gp_3[slice8],\n",
        "       simple_regret_gp_4[slice8],\n",
        "       simple_regret_gp_5[slice8],\n",
        "       simple_regret_gp_6[slice8],\n",
        "       simple_regret_gp_7[slice8],\n",
        "       simple_regret_gp_8[slice8],\n",
        "       simple_regret_gp_9[slice8],\n",
        "       simple_regret_gp_10[slice8],\n",
        "       simple_regret_gp_11[slice8],\n",
        "       simple_regret_gp_12[slice8],\n",
        "       simple_regret_gp_13[slice8],\n",
        "       simple_regret_gp_14[slice8],\n",
        "       simple_regret_gp_15[slice8],\n",
        "       simple_regret_gp_16[slice8],\n",
        "       simple_regret_gp_17[slice8],\n",
        "       simple_regret_gp_18[slice8],\n",
        "       simple_regret_gp_19[slice8],\n",
        "       simple_regret_gp_20[slice8]]\n",
        "\n",
        "exact8 = [simple_regret_stp_1[slice8],\n",
        "       simple_regret_stp_2[slice8],\n",
        "       simple_regret_stp_3[slice8],\n",
        "       simple_regret_stp_4[slice8],\n",
        "       simple_regret_stp_5[slice8],\n",
        "       simple_regret_stp_6[slice8],\n",
        "       simple_regret_stp_7[slice8],\n",
        "       simple_regret_stp_8[slice8],\n",
        "       simple_regret_stp_9[slice8],\n",
        "       simple_regret_stp_10[slice8],\n",
        "       simple_regret_stp_11[slice8],\n",
        "       simple_regret_stp_12[slice8],\n",
        "       simple_regret_stp_13[slice8],\n",
        "       simple_regret_stp_14[slice8],\n",
        "       simple_regret_stp_15[slice8],\n",
        "       simple_regret_stp_16[slice8],\n",
        "       simple_regret_stp_17[slice8],\n",
        "       simple_regret_stp_18[slice8],\n",
        "       simple_regret_stp_19[slice8],\n",
        "       simple_regret_stp_20[slice8]]\n",
        "\n",
        "approx8_results = pd.DataFrame(approx8).sort_values(by=[0], ascending=False)\n",
        "exact8_results = pd.DataFrame(exact8).sort_values(by=[0], ascending=False)\n",
        "\n",
        "### Best simple regret minimization IQR - approx:\n",
        "lower_gp8 = np.asarray(approx8_results[4:5][0])[0]\n",
        "median_gp8 = np.asarray(approx8_results[9:10][0])[0]\n",
        "upper_gp8 = np.asarray(approx8_results[14:15][0])[0]\n",
        "\n",
        "lower_stp8 = np.asarray(exact8_results[4:5][0])[0]\n",
        "median_stp8 = np.asarray(exact8_results[9:10][0])[0]\n",
        "upper_stp8 = np.asarray(exact8_results[14:15][0])[0]"
      ]
    },
    {
      "cell_type": "code",
      "execution_count": 91,
      "metadata": {
        "id": "2Dp-9CC2Qxf9"
      },
      "outputs": [],
      "source": [
        "# Iteration18 :\n",
        "\n",
        "slice18 = 17\n",
        "\n",
        "approx18 = [simple_regret_gp_1[slice18],\n",
        "       simple_regret_gp_2[slice18],\n",
        "       simple_regret_gp_3[slice18],\n",
        "       simple_regret_gp_4[slice18],\n",
        "       simple_regret_gp_5[slice18],\n",
        "       simple_regret_gp_6[slice18],\n",
        "       simple_regret_gp_7[slice18],\n",
        "       simple_regret_gp_8[slice18],\n",
        "       simple_regret_gp_9[slice18],\n",
        "       simple_regret_gp_10[slice18],\n",
        "       simple_regret_gp_11[slice18],\n",
        "       simple_regret_gp_12[slice18],\n",
        "       simple_regret_gp_13[slice18],\n",
        "       simple_regret_gp_14[slice18],\n",
        "       simple_regret_gp_15[slice18],\n",
        "       simple_regret_gp_16[slice18],\n",
        "       simple_regret_gp_17[slice18],\n",
        "       simple_regret_gp_18[slice18],\n",
        "       simple_regret_gp_19[slice18],\n",
        "       simple_regret_gp_20[slice18]]\n",
        "\n",
        "exact18 = [simple_regret_stp_1[slice18],\n",
        "       simple_regret_stp_2[slice18],\n",
        "       simple_regret_stp_3[slice18],\n",
        "       simple_regret_stp_4[slice18],\n",
        "       simple_regret_stp_5[slice18],\n",
        "       simple_regret_stp_6[slice18],\n",
        "       simple_regret_stp_7[slice18],\n",
        "       simple_regret_stp_8[slice18],\n",
        "       simple_regret_stp_9[slice18],\n",
        "       simple_regret_stp_10[slice18],\n",
        "       simple_regret_stp_11[slice18],\n",
        "       simple_regret_stp_12[slice18],\n",
        "       simple_regret_stp_13[slice18],\n",
        "       simple_regret_stp_14[slice18],\n",
        "       simple_regret_stp_15[slice18],\n",
        "       simple_regret_stp_16[slice18],\n",
        "       simple_regret_stp_17[slice18],\n",
        "       simple_regret_stp_18[slice18],\n",
        "       simple_regret_stp_19[slice18],\n",
        "       simple_regret_stp_20[slice18]]\n",
        "\n",
        "approx18_results = pd.DataFrame(approx18).sort_values(by=[0], ascending=False)\n",
        "exact18_results = pd.DataFrame(exact18).sort_values(by=[0], ascending=False)\n",
        "\n",
        "### Best simple regret minimization IQR - approx:\n",
        "lower_gp18 = np.asarray(approx18_results[4:5][0])[0]\n",
        "median_gp18 = np.asarray(approx18_results[9:10][0])[0]\n",
        "upper_gp18 = np.asarray(approx18_results[14:15][0])[0]\n",
        "\n",
        "lower_stp18 = np.asarray(exact18_results[4:5][0])[0]\n",
        "median_stp18 = np.asarray(exact18_results[9:10][0])[0]\n",
        "upper_stp18 = np.asarray(exact18_results[14:15][0])[0]"
      ]
    },
    {
      "cell_type": "code",
      "execution_count": 92,
      "metadata": {
        "id": "SqiaOpB7Qxf9"
      },
      "outputs": [],
      "source": [
        "# Iteration9 :\n",
        "\n",
        "slice9 = 8\n",
        "\n",
        "approx9 = [simple_regret_gp_1[slice9],\n",
        "       simple_regret_gp_2[slice9],\n",
        "       simple_regret_gp_3[slice9],\n",
        "       simple_regret_gp_4[slice9],\n",
        "       simple_regret_gp_5[slice9],\n",
        "       simple_regret_gp_6[slice9],\n",
        "       simple_regret_gp_7[slice9],\n",
        "       simple_regret_gp_8[slice9],\n",
        "       simple_regret_gp_9[slice9],\n",
        "       simple_regret_gp_10[slice9],\n",
        "       simple_regret_gp_11[slice9],\n",
        "       simple_regret_gp_12[slice9],\n",
        "       simple_regret_gp_13[slice9],\n",
        "       simple_regret_gp_14[slice9],\n",
        "       simple_regret_gp_15[slice9],\n",
        "       simple_regret_gp_16[slice9],\n",
        "       simple_regret_gp_17[slice9],\n",
        "       simple_regret_gp_18[slice9],\n",
        "       simple_regret_gp_19[slice9],\n",
        "       simple_regret_gp_20[slice9]]\n",
        "\n",
        "exact9 = [simple_regret_stp_1[slice9],\n",
        "       simple_regret_stp_2[slice9],\n",
        "       simple_regret_stp_3[slice9],\n",
        "       simple_regret_stp_4[slice9],\n",
        "       simple_regret_stp_5[slice9],\n",
        "       simple_regret_stp_6[slice9],\n",
        "       simple_regret_stp_7[slice9],\n",
        "       simple_regret_stp_8[slice9],\n",
        "       simple_regret_stp_9[slice9],\n",
        "       simple_regret_stp_10[slice9],\n",
        "       simple_regret_stp_11[slice9],\n",
        "       simple_regret_stp_12[slice9],\n",
        "       simple_regret_stp_13[slice9],\n",
        "       simple_regret_stp_14[slice9],\n",
        "       simple_regret_stp_15[slice9],\n",
        "       simple_regret_stp_16[slice9],\n",
        "       simple_regret_stp_17[slice9],\n",
        "       simple_regret_stp_18[slice9],\n",
        "       simple_regret_stp_19[slice9],\n",
        "       simple_regret_stp_20[slice9]]\n",
        "\n",
        "approx9_results = pd.DataFrame(approx9).sort_values(by=[0], ascending=False)\n",
        "exact9_results = pd.DataFrame(exact9).sort_values(by=[0], ascending=False)\n",
        "\n",
        "### Best simple regret minimization IQR - approx:\n",
        "lower_gp9 = np.asarray(approx9_results[4:5][0])[0]\n",
        "median_gp9 = np.asarray(approx9_results[9:10][0])[0]\n",
        "upper_gp9 = np.asarray(approx9_results[14:15][0])[0]\n",
        "\n",
        "lower_stp9 = np.asarray(exact9_results[4:5][0])[0]\n",
        "median_stp9 = np.asarray(exact9_results[9:10][0])[0]\n",
        "upper_stp9 = np.asarray(exact9_results[14:15][0])[0]"
      ]
    },
    {
      "cell_type": "code",
      "execution_count": 93,
      "metadata": {
        "id": "OQkCCOsPQxf9"
      },
      "outputs": [],
      "source": [
        "# Iteration19 :\n",
        "\n",
        "slice19 = 18\n",
        "\n",
        "approx19 = [simple_regret_gp_1[slice19],\n",
        "       simple_regret_gp_2[slice19],\n",
        "       simple_regret_gp_3[slice19],\n",
        "       simple_regret_gp_4[slice19],\n",
        "       simple_regret_gp_5[slice19],\n",
        "       simple_regret_gp_6[slice19],\n",
        "       simple_regret_gp_7[slice19],\n",
        "       simple_regret_gp_8[slice19],\n",
        "       simple_regret_gp_9[slice19],\n",
        "       simple_regret_gp_10[slice19],\n",
        "       simple_regret_gp_11[slice19],\n",
        "       simple_regret_gp_12[slice19],\n",
        "       simple_regret_gp_13[slice19],\n",
        "       simple_regret_gp_14[slice19],\n",
        "       simple_regret_gp_15[slice19],\n",
        "       simple_regret_gp_16[slice19],\n",
        "       simple_regret_gp_17[slice19],\n",
        "       simple_regret_gp_18[slice19],\n",
        "       simple_regret_gp_19[slice19],\n",
        "       simple_regret_gp_20[slice19]]\n",
        "\n",
        "exact19 = [simple_regret_stp_1[slice19],\n",
        "       simple_regret_stp_2[slice19],\n",
        "       simple_regret_stp_3[slice19],\n",
        "       simple_regret_stp_4[slice19],\n",
        "       simple_regret_stp_5[slice19],\n",
        "       simple_regret_stp_6[slice19],\n",
        "       simple_regret_stp_7[slice19],\n",
        "       simple_regret_stp_8[slice19],\n",
        "       simple_regret_stp_9[slice19],\n",
        "       simple_regret_stp_10[slice19],\n",
        "       simple_regret_stp_11[slice19],\n",
        "       simple_regret_stp_12[slice19],\n",
        "       simple_regret_stp_13[slice19],\n",
        "       simple_regret_stp_14[slice19],\n",
        "       simple_regret_stp_15[slice19],\n",
        "       simple_regret_stp_16[slice19],\n",
        "       simple_regret_stp_17[slice19],\n",
        "       simple_regret_stp_18[slice19],\n",
        "       simple_regret_stp_19[slice19],\n",
        "       simple_regret_stp_20[slice19]]\n",
        "\n",
        "approx19_results = pd.DataFrame(approx19).sort_values(by=[0], ascending=False)\n",
        "exact19_results = pd.DataFrame(exact19).sort_values(by=[0], ascending=False)\n",
        "\n",
        "### Best simple regret minimization IQR - approx:\n",
        "lower_gp19 = np.asarray(approx19_results[4:5][0])[0]\n",
        "median_gp19 = np.asarray(approx19_results[9:10][0])[0]\n",
        "upper_gp19 = np.asarray(approx19_results[14:15][0])[0]\n",
        "\n",
        "lower_stp19 = np.asarray(exact19_results[4:5][0])[0]\n",
        "median_stp19 = np.asarray(exact19_results[9:10][0])[0]\n",
        "upper_stp19 = np.asarray(exact19_results[14:15][0])[0]"
      ]
    },
    {
      "cell_type": "code",
      "execution_count": 94,
      "metadata": {
        "id": "h4vtWahcQxf-"
      },
      "outputs": [],
      "source": [
        "# Iteration10 :\n",
        "\n",
        "slice10 = 9\n",
        "\n",
        "approx10 = [simple_regret_gp_1[slice10],\n",
        "       simple_regret_gp_2[slice10],\n",
        "       simple_regret_gp_3[slice10],\n",
        "       simple_regret_gp_4[slice10],\n",
        "       simple_regret_gp_5[slice10],\n",
        "       simple_regret_gp_6[slice10],\n",
        "       simple_regret_gp_7[slice10],\n",
        "       simple_regret_gp_8[slice10],\n",
        "       simple_regret_gp_9[slice10],\n",
        "       simple_regret_gp_10[slice10],\n",
        "       simple_regret_gp_11[slice10],\n",
        "       simple_regret_gp_12[slice10],\n",
        "       simple_regret_gp_13[slice10],\n",
        "       simple_regret_gp_14[slice10],\n",
        "       simple_regret_gp_15[slice10],\n",
        "       simple_regret_gp_16[slice10],\n",
        "       simple_regret_gp_17[slice10],\n",
        "       simple_regret_gp_18[slice10],\n",
        "       simple_regret_gp_19[slice10],\n",
        "       simple_regret_gp_20[slice10]]\n",
        "\n",
        "exact10 = [simple_regret_stp_1[slice10],\n",
        "       simple_regret_stp_2[slice10],\n",
        "       simple_regret_stp_3[slice10],\n",
        "       simple_regret_stp_4[slice10],\n",
        "       simple_regret_stp_5[slice10],\n",
        "       simple_regret_stp_6[slice10],\n",
        "       simple_regret_stp_7[slice10],\n",
        "       simple_regret_stp_8[slice10],\n",
        "       simple_regret_stp_9[slice10],\n",
        "       simple_regret_stp_10[slice10],\n",
        "       simple_regret_stp_11[slice10],\n",
        "       simple_regret_stp_12[slice10],\n",
        "       simple_regret_stp_13[slice10],\n",
        "       simple_regret_stp_14[slice10],\n",
        "       simple_regret_stp_15[slice10],\n",
        "       simple_regret_stp_16[slice10],\n",
        "       simple_regret_stp_17[slice10],\n",
        "       simple_regret_stp_18[slice10],\n",
        "       simple_regret_stp_19[slice10],\n",
        "       simple_regret_stp_20[slice10]]\n",
        "\n",
        "approx10_results = pd.DataFrame(approx10).sort_values(by=[0], ascending=False)\n",
        "exact10_results = pd.DataFrame(exact10).sort_values(by=[0], ascending=False)\n",
        "\n",
        "### Best simple regret minimization IQR - approx:\n",
        "lower_gp10 = np.asarray(approx10_results[4:5][0])[0]\n",
        "median_gp10 = np.asarray(approx10_results[9:10][0])[0]\n",
        "upper_gp10 = np.asarray(approx10_results[14:15][0])[0]\n",
        "\n",
        "lower_stp10 = np.asarray(exact10_results[4:5][0])[0]\n",
        "median_stp10 = np.asarray(exact10_results[9:10][0])[0]\n",
        "upper_stp10 = np.asarray(exact10_results[14:15][0])[0]"
      ]
    },
    {
      "cell_type": "code",
      "execution_count": 95,
      "metadata": {
        "id": "Rsf240pWQxf-"
      },
      "outputs": [],
      "source": [
        "# Iteration20 :\n",
        "\n",
        "slice20 = 19\n",
        "\n",
        "approx20 = [simple_regret_gp_1[slice20],\n",
        "       simple_regret_gp_2[slice20],\n",
        "       simple_regret_gp_3[slice20],\n",
        "       simple_regret_gp_4[slice20],\n",
        "       simple_regret_gp_5[slice20],\n",
        "       simple_regret_gp_6[slice20],\n",
        "       simple_regret_gp_7[slice20],\n",
        "       simple_regret_gp_8[slice20],\n",
        "       simple_regret_gp_9[slice20],\n",
        "       simple_regret_gp_10[slice20],\n",
        "       simple_regret_gp_11[slice20],\n",
        "       simple_regret_gp_12[slice20],\n",
        "       simple_regret_gp_13[slice20],\n",
        "       simple_regret_gp_14[slice20],\n",
        "       simple_regret_gp_15[slice20],\n",
        "       simple_regret_gp_16[slice20],\n",
        "       simple_regret_gp_17[slice20],\n",
        "       simple_regret_gp_18[slice20],\n",
        "       simple_regret_gp_19[slice20],\n",
        "       simple_regret_gp_20[slice20]]\n",
        "\n",
        "exact20 = [simple_regret_stp_1[slice20],\n",
        "       simple_regret_stp_2[slice20],\n",
        "       simple_regret_stp_3[slice20],\n",
        "       simple_regret_stp_4[slice20],\n",
        "       simple_regret_stp_5[slice20],\n",
        "       simple_regret_stp_6[slice20],\n",
        "       simple_regret_stp_7[slice20],\n",
        "       simple_regret_stp_8[slice20],\n",
        "       simple_regret_stp_9[slice20],\n",
        "       simple_regret_stp_10[slice20],\n",
        "       simple_regret_stp_11[slice20],\n",
        "       simple_regret_stp_12[slice20],\n",
        "       simple_regret_stp_13[slice20],\n",
        "       simple_regret_stp_14[slice20],\n",
        "       simple_regret_stp_15[slice20],\n",
        "       simple_regret_stp_16[slice20],\n",
        "       simple_regret_stp_17[slice20],\n",
        "       simple_regret_stp_18[slice20],\n",
        "       simple_regret_stp_19[slice20],\n",
        "       simple_regret_stp_20[slice20]]\n",
        "\n",
        "approx20_results = pd.DataFrame(approx20).sort_values(by=[0], ascending=False)\n",
        "exact20_results = pd.DataFrame(exact20).sort_values(by=[0], ascending=False)\n",
        "\n",
        "### Best simple regret minimization IQR - approx:\n",
        "lower_gp20 = np.asarray(approx20_results[4:5][0])[0]\n",
        "median_gp20 = np.asarray(approx20_results[9:10][0])[0]\n",
        "upper_gp20 = np.asarray(approx20_results[14:15][0])[0]\n",
        "\n",
        "lower_stp20 = np.asarray(exact20_results[4:5][0])[0]\n",
        "median_stp20 = np.asarray(exact20_results[9:10][0])[0]\n",
        "upper_stp20 = np.asarray(exact20_results[14:15][0])[0]"
      ]
    },
    {
      "cell_type": "code",
      "execution_count": 96,
      "metadata": {
        "id": "gn36RejbQxf_"
      },
      "outputs": [],
      "source": [
        "### Summarize arrays: 'Loser'\n",
        "\n",
        "lower_gp = [lower_gp1,\n",
        "            lower_gp2,\n",
        "            lower_gp3,\n",
        "            lower_gp4,\n",
        "            lower_gp5,\n",
        "            lower_gp6,\n",
        "            lower_gp7,\n",
        "            lower_gp8,\n",
        "            lower_gp9,\n",
        "            lower_gp10,\n",
        "            lower_gp11,\n",
        "            lower_gp12,\n",
        "            lower_gp13,\n",
        "            lower_gp14,\n",
        "            lower_gp15,\n",
        "            lower_gp16,\n",
        "            lower_gp17,\n",
        "            lower_gp18,\n",
        "            lower_gp19,\n",
        "            lower_gp20,\n",
        "            lower_gp21]\n",
        "\n",
        "median_gp = [median_gp1,\n",
        "            median_gp2,\n",
        "            median_gp3,\n",
        "            median_gp4,\n",
        "            median_gp5,\n",
        "            median_gp6,\n",
        "            median_gp7,\n",
        "            median_gp8,\n",
        "            median_gp9,\n",
        "            median_gp10,\n",
        "            median_gp11,\n",
        "            median_gp12,\n",
        "            median_gp13,\n",
        "            median_gp14,\n",
        "            median_gp15,\n",
        "            median_gp16,\n",
        "            median_gp17,\n",
        "            median_gp18,\n",
        "            median_gp19,\n",
        "            median_gp20,\n",
        "            median_gp21]\n",
        "\n",
        "upper_gp = [upper_gp1,\n",
        "            upper_gp2,\n",
        "            upper_gp3,\n",
        "            upper_gp4,\n",
        "            upper_gp5,\n",
        "            upper_gp6,\n",
        "            upper_gp7,\n",
        "            upper_gp8,\n",
        "            upper_gp9,\n",
        "            upper_gp10,\n",
        "            upper_gp11,\n",
        "            upper_gp12,\n",
        "            upper_gp13,\n",
        "            upper_gp14,\n",
        "            upper_gp15,\n",
        "            upper_gp16,\n",
        "            upper_gp17,\n",
        "            upper_gp18,\n",
        "            upper_gp19,\n",
        "            upper_gp20,\n",
        "            upper_gp21]"
      ]
    },
    {
      "cell_type": "code",
      "execution_count": 97,
      "metadata": {
        "id": "wxtGTOYfQxf_"
      },
      "outputs": [],
      "source": [
        "### Summarize arrays: 'exact'\n",
        "\n",
        "lower_stp = [lower_stp1,\n",
        "            lower_stp2,\n",
        "            lower_stp3,\n",
        "            lower_stp4,\n",
        "            lower_stp5,\n",
        "            lower_stp6,\n",
        "            lower_stp7,\n",
        "            lower_stp8,\n",
        "            lower_stp9,\n",
        "            lower_stp10,\n",
        "            lower_stp11,\n",
        "            lower_stp12,\n",
        "            lower_stp13,\n",
        "            lower_stp14,\n",
        "            lower_stp15,\n",
        "            lower_stp16,\n",
        "            lower_stp17,\n",
        "            lower_stp18,\n",
        "            lower_stp19,\n",
        "            lower_stp20,\n",
        "            lower_stp21]\n",
        "\n",
        "median_stp = [median_stp1,\n",
        "            median_stp2,\n",
        "            median_stp3,\n",
        "            median_stp4,\n",
        "            median_stp5,\n",
        "            median_stp6,\n",
        "            median_stp7,\n",
        "            median_stp8,\n",
        "            median_stp9,\n",
        "            median_stp10,\n",
        "            median_stp11,\n",
        "            median_stp12,\n",
        "            median_stp13,\n",
        "            median_stp14,\n",
        "            median_stp15,\n",
        "            median_stp16,\n",
        "            median_stp17,\n",
        "            median_stp18,\n",
        "            median_stp19,\n",
        "            median_stp20,\n",
        "            median_stp21]\n",
        "\n",
        "upper_stp = [upper_stp1,\n",
        "            upper_stp2,\n",
        "            upper_stp3,\n",
        "            upper_stp4,\n",
        "            upper_stp5,\n",
        "            upper_stp6,\n",
        "            upper_stp7,\n",
        "            upper_stp8,\n",
        "            upper_stp9,\n",
        "            upper_stp10,\n",
        "            upper_stp11,\n",
        "            upper_stp12,\n",
        "            upper_stp13,\n",
        "            upper_stp14,\n",
        "            upper_stp15,\n",
        "            upper_stp16,\n",
        "            upper_stp17,\n",
        "            upper_stp18,\n",
        "            upper_stp19,\n",
        "            upper_stp20,\n",
        "            upper_stp21]"
      ]
    },
    {
      "cell_type": "code",
      "execution_count": 98,
      "metadata": {
        "id": "2MONq-BXQxgA",
        "colab": {
          "base_uri": "https://localhost:8080/",
          "height": 299
        },
        "outputId": "69d704fe-3f6a-461a-938e-cd7d3f80036d"
      },
      "outputs": [
        {
          "output_type": "display_data",
          "data": {
            "text/plain": [
              "<Figure size 432x288 with 1 Axes>"
            ],
            "image/png": "[encoded data removed]"
          },
          "metadata": {
            "needs_background": "light"
          }
        }
      ],
      "source": [
        "### Visualise!\n",
        "\n",
        "title = func\n",
        "plt.figure()\n",
        "\n",
        "plt.plot(median_gp, color = 'Red', ls='-')\n",
        "plt.plot(median_stp, color = 'Red', ls='--')\n",
        "\n",
        "xstar = np.arange(0, iters+1, step=1)\n",
        "plt.fill_between(xstar, lower_gp, upper_gp, facecolor = 'Red', alpha=0.2, label='GP EI Optimisation: Exact GP dEI gradients')\n",
        "plt.fill_between(xstar, lower_stp, upper_stp, facecolor = 'Red', alpha=0.4, label='STP EI Optimisation: Exact STP dEI gradients ' r'($\\nu$' ' = {})'.format(df))\n",
        "\n",
        "plt.title(title, weight = 'bold')\n",
        "plt.xlabel('(Post-initialisation) iteration $\\it{k}$', weight = 'bold')\n",
        "plt.ylabel('log(Regret)', weight = 'bold') \n",
        "plt.legend(loc=1) # add plot legend\n",
        "\n",
        "### Make the x-ticks integers, not floats:\n",
        "count = len(xstar)\n",
        "plt.xticks(np.arange(count), np.arange(0, count))\n",
        "plt.show() #visualise!\n"
      ]
    },
    {
      "cell_type": "code",
      "execution_count": 99,
      "metadata": {
        "id": "l5dkR2Id2oiu",
        "colab": {
          "base_uri": "https://localhost:8080/"
        },
        "outputId": "87ce33ae-a34f-446a-8235-42562e23379d"
      },
      "outputs": [
        {
          "output_type": "execute_result",
          "data": {
            "text/plain": [
              "(1168.2808005809784, 1612.0615661144257)"
            ]
          },
          "metadata": {},
          "execution_count": 99
        }
      ],
      "source": [
        "time_gp, time_stp\n"
      ]
    },
    {
      "cell_type": "code",
      "source": [
        "### acqFunc attribute x, stddev: run number = 1\n",
        "\n",
        "acqFuncgp_gp_1 = acqFuncExact(gp_1.history)\n",
        "acqFuncstp_stp_1 = acqFuncExact(stp_1.history)\n",
        "\n",
        "e1 = np.std(acqFuncstp_stp_1)\n",
        "a1 = np.std(acqFuncgp_gp_1)\n",
        "\n",
        "e1, a1\n"
      ],
      "metadata": {
        "colab": {
          "base_uri": "https://localhost:8080/"
        },
        "id": "uwxv4dmfGsLr",
        "outputId": "de91a88b-14d4-49a0-badd-970e90e9d3d2"
      },
      "execution_count": 100,
      "outputs": [
        {
          "output_type": "execute_result",
          "data": {
            "text/plain": [
              "(0.2415591852617101, 0.34250244780269323)"
            ]
          },
          "metadata": {},
          "execution_count": 100
        }
      ]
    },
    {
      "cell_type": "code",
      "source": [
        "### acqFunc attribute x, stddev: run number = 2\n",
        "\n",
        "acqFuncgp_gp_2 = acqFuncExact(gp_2.history)\n",
        "acqFuncstp_stp_2 = acqFuncExact(stp_2.history)\n",
        "\n",
        "e2 = np.std(acqFuncstp_stp_2)\n",
        "a2 = np.std(acqFuncgp_gp_2)\n",
        "\n",
        "e2, a2\n"
      ],
      "metadata": {
        "colab": {
          "base_uri": "https://localhost:8080/"
        },
        "id": "0YSV00_pGsXe",
        "outputId": "f171634c-ae3a-49de-8fa7-3bc40f9ebb2f"
      },
      "execution_count": 101,
      "outputs": [
        {
          "output_type": "execute_result",
          "data": {
            "text/plain": [
              "(0.2669342170161935, 0.35625918219476804)"
            ]
          },
          "metadata": {},
          "execution_count": 101
        }
      ]
    },
    {
      "cell_type": "code",
      "source": [
        "### acqFunc attribute x, stddev: run number = 3\n",
        "\n",
        "acqFuncgp_gp_3 = acqFuncExact(gp_3.history)\n",
        "acqFuncstp_stp_3 = acqFuncExact(stp_3.history)\n",
        "\n",
        "e3 = np.std(acqFuncstp_stp_3)\n",
        "a3 = np.std(acqFuncgp_gp_3)\n",
        "\n",
        "e3, a3\n"
      ],
      "metadata": {
        "colab": {
          "base_uri": "https://localhost:8080/"
        },
        "id": "HHVmsd2UGsjT",
        "outputId": "a19821c5-f4c2-429d-8617-85f85959b47f"
      },
      "execution_count": 102,
      "outputs": [
        {
          "output_type": "execute_result",
          "data": {
            "text/plain": [
              "(0.20946392866598448, 0.26048780199401683)"
            ]
          },
          "metadata": {},
          "execution_count": 102
        }
      ]
    },
    {
      "cell_type": "code",
      "source": [
        "### acqFunc attribute x, stddev: run number = 4\n",
        "\n",
        "acqFuncgp_gp_4 = acqFuncExact(gp_4.history)\n",
        "acqFuncstp_stp_4 = acqFuncExact(stp_4.history)\n",
        "\n",
        "e4 = np.std(acqFuncstp_stp_4)\n",
        "a4 = np.std(acqFuncgp_gp_4)\n",
        "\n",
        "e4, a4\n"
      ],
      "metadata": {
        "colab": {
          "base_uri": "https://localhost:8080/"
        },
        "id": "r7O19S2eGsu7",
        "outputId": "0694f54c-0b14-4e62-89cc-767b6ddc6148"
      },
      "execution_count": 103,
      "outputs": [
        {
          "output_type": "execute_result",
          "data": {
            "text/plain": [
              "(0.2391894405654429, 0.35304675939437874)"
            ]
          },
          "metadata": {},
          "execution_count": 103
        }
      ]
    },
    {
      "cell_type": "code",
      "source": [
        "### acqFunc attribute x, stddev: run number = 5\n",
        "\n",
        "acqFuncgp_gp_5 = acqFuncExact(gp_5.history)\n",
        "acqFuncstp_stp_5 = acqFuncExact(stp_5.history)\n",
        "\n",
        "e5 = np.std(acqFuncstp_stp_5)\n",
        "a5 = np.std(acqFuncgp_gp_5)\n",
        "\n",
        "e5, a5\n"
      ],
      "metadata": {
        "colab": {
          "base_uri": "https://localhost:8080/"
        },
        "id": "sdb9o6NuGs5m",
        "outputId": "3ec98c3b-f0d7-4d7d-f33c-e7e5338d6b34"
      },
      "execution_count": 104,
      "outputs": [
        {
          "output_type": "execute_result",
          "data": {
            "text/plain": [
              "(0.4770499157808497, 0.5389879760045986)"
            ]
          },
          "metadata": {},
          "execution_count": 104
        }
      ]
    },
    {
      "cell_type": "code",
      "source": [
        "### acqFunc attribute x, stddev: run number = 6\n",
        "\n",
        "acqFuncgp_gp_6 = acqFuncExact(gp_6.history)\n",
        "acqFuncstp_stp_6 = acqFuncExact(stp_6.history)\n",
        "\n",
        "e6 = np.std(acqFuncstp_stp_6)\n",
        "a6 = np.std(acqFuncgp_gp_6)\n",
        "\n",
        "e6, a6\n"
      ],
      "metadata": {
        "colab": {
          "base_uri": "https://localhost:8080/"
        },
        "id": "COQl7LZ8GtE0",
        "outputId": "b55b05cb-4e6e-4856-aa53-b731dc32e401"
      },
      "execution_count": 105,
      "outputs": [
        {
          "output_type": "execute_result",
          "data": {
            "text/plain": [
              "(0.31420928262081943, 0.3709765314917314)"
            ]
          },
          "metadata": {},
          "execution_count": 105
        }
      ]
    },
    {
      "cell_type": "code",
      "source": [
        "### acqFunc attribute x, stddev: run number = 7\n",
        "\n",
        "acqFuncgp_gp_7 = acqFuncExact(gp_7.history)\n",
        "acqFuncstp_stp_7 = acqFuncExact(stp_7.history)\n",
        "\n",
        "e7 = np.std(acqFuncstp_stp_7)\n",
        "a7 = np.std(acqFuncgp_gp_7)\n",
        "\n",
        "e7, a7\n"
      ],
      "metadata": {
        "colab": {
          "base_uri": "https://localhost:8080/"
        },
        "id": "2gy9EtTzGtP7",
        "outputId": "13ece23c-d8d5-4d02-bfc9-78d323bf9ffd"
      },
      "execution_count": 106,
      "outputs": [
        {
          "output_type": "execute_result",
          "data": {
            "text/plain": [
              "(0.26673461620352446, 0.3666119075056314)"
            ]
          },
          "metadata": {},
          "execution_count": 106
        }
      ]
    },
    {
      "cell_type": "code",
      "source": [
        "### acqFunc attribute x, stddev: run number = 8\n",
        "\n",
        "acqFuncgp_gp_8 = acqFuncExact(gp_8.history)\n",
        "acqFuncstp_stp_8 = acqFuncExact(stp_8.history)\n",
        "\n",
        "e8 = np.std(acqFuncstp_stp_8)\n",
        "a8 = np.std(acqFuncgp_gp_8)\n",
        "\n",
        "e8, a8\n"
      ],
      "metadata": {
        "colab": {
          "base_uri": "https://localhost:8080/"
        },
        "id": "S7mn0qoMGtbM",
        "outputId": "76bca76b-45f1-4a67-9f97-fa71c7f4f8de"
      },
      "execution_count": 107,
      "outputs": [
        {
          "output_type": "execute_result",
          "data": {
            "text/plain": [
              "(0.26550226351739825, 0.23824771537779205)"
            ]
          },
          "metadata": {},
          "execution_count": 107
        }
      ]
    },
    {
      "cell_type": "code",
      "source": [
        "### acqFunc attribute x, stddev: run number = 9\n",
        "\n",
        "acqFuncgp_gp_9 = acqFuncExact(gp_9.history)\n",
        "acqFuncstp_stp_9 = acqFuncExact(stp_9.history)\n",
        "\n",
        "e9 = np.std(acqFuncstp_stp_9)\n",
        "a9 = np.std(acqFuncgp_gp_9)\n",
        "\n",
        "e9, a9\n"
      ],
      "metadata": {
        "colab": {
          "base_uri": "https://localhost:8080/"
        },
        "id": "BhljmkNxGtms",
        "outputId": "0c0cf494-cc45-4a76-d8ec-f26d94ffd38c"
      },
      "execution_count": 108,
      "outputs": [
        {
          "output_type": "execute_result",
          "data": {
            "text/plain": [
              "(0.27911897055407553, 0.30360345075496786)"
            ]
          },
          "metadata": {},
          "execution_count": 108
        }
      ]
    },
    {
      "cell_type": "code",
      "source": [
        "### acqFunc attribute x, stddev: run number = 10\n",
        "\n",
        "acqFuncgp_gp_10 = acqFuncExact(gp_10.history)\n",
        "acqFuncstp_stp_10 = acqFuncExact(stp_10.history)\n",
        "\n",
        "e10 = np.std(acqFuncstp_stp_10)\n",
        "a10 = np.std(acqFuncgp_gp_10)\n",
        "\n",
        "e10, a10\n"
      ],
      "metadata": {
        "colab": {
          "base_uri": "https://localhost:8080/"
        },
        "id": "W5GZo6k3Gtx8",
        "outputId": "2efc4f88-457d-4aba-bfe5-33392ce75043"
      },
      "execution_count": 109,
      "outputs": [
        {
          "output_type": "execute_result",
          "data": {
            "text/plain": [
              "(0.22293026226232443, 0.3046743925419832)"
            ]
          },
          "metadata": {},
          "execution_count": 109
        }
      ]
    },
    {
      "cell_type": "code",
      "source": [
        "### acqFunc attribute x, stddev: run number = 11\n",
        "\n",
        "acqFuncgp_gp_11 = acqFuncExact(gp_11.history)\n",
        "acqFuncstp_stp_11 = acqFuncExact(stp_11.history)\n",
        "\n",
        "e11 = np.std(acqFuncstp_stp_11)\n",
        "a11 = np.std(acqFuncgp_gp_11)\n",
        "\n",
        "e11, a11\n"
      ],
      "metadata": {
        "colab": {
          "base_uri": "https://localhost:8080/"
        },
        "id": "isKNhDk5Gt9D",
        "outputId": "dc2a30a1-397c-4e4d-bcfd-60719e372a36"
      },
      "execution_count": 110,
      "outputs": [
        {
          "output_type": "execute_result",
          "data": {
            "text/plain": [
              "(0.219375560118673, 0.27193557644050503)"
            ]
          },
          "metadata": {},
          "execution_count": 110
        }
      ]
    },
    {
      "cell_type": "code",
      "source": [
        "### acqFunc attribute x, stddev: run number = 12\n",
        "\n",
        "acqFuncgp_gp_12 = acqFuncExact(gp_12.history)\n",
        "acqFuncstp_stp_12 = acqFuncExact(stp_12.history)\n",
        "\n",
        "e12 = np.std(acqFuncstp_stp_12)\n",
        "a12 = np.std(acqFuncgp_gp_12)\n",
        "\n",
        "e12, a12\n"
      ],
      "metadata": {
        "colab": {
          "base_uri": "https://localhost:8080/"
        },
        "id": "8ts-wrSuGuIm",
        "outputId": "f5be62ec-8b9e-4c22-eb0d-b51d9a3dac59"
      },
      "execution_count": 111,
      "outputs": [
        {
          "output_type": "execute_result",
          "data": {
            "text/plain": [
              "(0.305367667769274, 0.3077239508104691)"
            ]
          },
          "metadata": {},
          "execution_count": 111
        }
      ]
    },
    {
      "cell_type": "code",
      "source": [
        "### acqFunc attribute x, stddev: run number = 13\n",
        "\n",
        "acqFuncgp_gp_13 = acqFuncExact(gp_13.history)\n",
        "acqFuncstp_stp_13 = acqFuncExact(stp_13.history)\n",
        "\n",
        "e13 = np.std(acqFuncstp_stp_13)\n",
        "a13 = np.std(acqFuncgp_gp_13)\n",
        "\n",
        "e13, a13\n"
      ],
      "metadata": {
        "colab": {
          "base_uri": "https://localhost:8080/"
        },
        "id": "n0drhEe3GuUL",
        "outputId": "32834cb7-c09b-49d8-b484-d69cb08104da"
      },
      "execution_count": 112,
      "outputs": [
        {
          "output_type": "execute_result",
          "data": {
            "text/plain": [
              "(0.2867478874962014, 0.30721131760159254)"
            ]
          },
          "metadata": {},
          "execution_count": 112
        }
      ]
    },
    {
      "cell_type": "code",
      "source": [
        "### acqFunc attribute x, stddev: run number = 14\n",
        "\n",
        "acqFuncgp_gp_14 = acqFuncExact(gp_14.history)\n",
        "acqFuncstp_stp_14 = acqFuncExact(stp_14.history)\n",
        "\n",
        "e14 = np.std(acqFuncstp_stp_14)\n",
        "a14 = np.std(acqFuncgp_gp_14)\n",
        "\n",
        "e14, a14\n"
      ],
      "metadata": {
        "colab": {
          "base_uri": "https://localhost:8080/"
        },
        "id": "R0W3MZaVGues",
        "outputId": "ceabbc20-9fef-432e-c619-143939f705e7"
      },
      "execution_count": 113,
      "outputs": [
        {
          "output_type": "execute_result",
          "data": {
            "text/plain": [
              "(0.217647479095303, 0.42918563840730356)"
            ]
          },
          "metadata": {},
          "execution_count": 113
        }
      ]
    },
    {
      "cell_type": "code",
      "source": [
        "### acqFunc attribute x, stddev: run number = 15\n",
        "\n",
        "acqFuncgp_gp_15 = acqFuncExact(gp_15.history)\n",
        "acqFuncstp_stp_15 = acqFuncExact(stp_15.history)\n",
        "\n",
        "e15 = np.std(acqFuncstp_stp_15)\n",
        "a15 = np.std(acqFuncgp_gp_15)\n",
        "\n",
        "e15, a15\n"
      ],
      "metadata": {
        "colab": {
          "base_uri": "https://localhost:8080/"
        },
        "id": "DoXdDFHoGup-",
        "outputId": "71273064-b6dc-4484-aa99-fd0a42eb48e2"
      },
      "execution_count": 114,
      "outputs": [
        {
          "output_type": "execute_result",
          "data": {
            "text/plain": [
              "(0.34008000304860136, 0.3879070280482497)"
            ]
          },
          "metadata": {},
          "execution_count": 114
        }
      ]
    },
    {
      "cell_type": "code",
      "source": [
        "### acqFunc attribute x, stddev: run number = 16\n",
        "\n",
        "acqFuncgp_gp_16 = acqFuncExact(gp_16.history)\n",
        "acqFuncstp_stp_16 = acqFuncExact(stp_16.history)\n",
        "\n",
        "e16 = np.std(acqFuncstp_stp_16)\n",
        "a16 = np.std(acqFuncgp_gp_16)\n",
        "\n",
        "e16, a16\n"
      ],
      "metadata": {
        "colab": {
          "base_uri": "https://localhost:8080/"
        },
        "id": "K_wAeqSoGu2j",
        "outputId": "c01d90ae-4d6b-462e-fa28-7a82dcdb1ebf"
      },
      "execution_count": 115,
      "outputs": [
        {
          "output_type": "execute_result",
          "data": {
            "text/plain": [
              "(0.3793527161707209, 0.3323293553648512)"
            ]
          },
          "metadata": {},
          "execution_count": 115
        }
      ]
    },
    {
      "cell_type": "code",
      "source": [
        "### acqFunc attribute x, stddev: run number = 17\n",
        "\n",
        "acqFuncgp_gp_17 = acqFuncExact(gp_17.history)\n",
        "acqFuncstp_stp_17 = acqFuncExact(stp_17.history)\n",
        "\n",
        "e17 = np.std(acqFuncstp_stp_17)\n",
        "a17 = np.std(acqFuncgp_gp_17)\n",
        "\n",
        "e17, a17\n"
      ],
      "metadata": {
        "colab": {
          "base_uri": "https://localhost:8080/"
        },
        "id": "n6zy78fjGvBT",
        "outputId": "620092cd-85d9-425b-9a7b-ce150eedc50c"
      },
      "execution_count": 116,
      "outputs": [
        {
          "output_type": "execute_result",
          "data": {
            "text/plain": [
              "(0.30980659440033614, 0.3387464632649898)"
            ]
          },
          "metadata": {},
          "execution_count": 116
        }
      ]
    },
    {
      "cell_type": "code",
      "source": [
        "### acqFunc attribute x, stddev: run number = 18\n",
        "\n",
        "acqFuncgp_gp_18 = acqFuncExact(gp_18.history)\n",
        "acqFuncstp_stp_18 = acqFuncExact(stp_18.history)\n",
        "\n",
        "e18 = np.std(acqFuncstp_stp_18)\n",
        "a18 = np.std(acqFuncgp_gp_18)\n",
        "\n",
        "e18, a18\n"
      ],
      "metadata": {
        "colab": {
          "base_uri": "https://localhost:8080/"
        },
        "id": "s_6_2K4iGvM-",
        "outputId": "61df43fd-a5ec-4b1f-e625-93bfb1ac84ea"
      },
      "execution_count": 117,
      "outputs": [
        {
          "output_type": "execute_result",
          "data": {
            "text/plain": [
              "(0.31162897191648703, 0.24009235868855927)"
            ]
          },
          "metadata": {},
          "execution_count": 117
        }
      ]
    },
    {
      "cell_type": "code",
      "source": [
        "### acqFunc attribute x, stddev: run number = 19\n",
        "\n",
        "acqFuncgp_gp_19 = acqFuncExact(gp_19.history)\n",
        "acqFuncstp_stp_19 = acqFuncExact(stp_19.history)\n",
        "\n",
        "e19 = np.std(acqFuncstp_stp_19)\n",
        "a19 = np.std(acqFuncgp_gp_19)\n",
        "\n",
        "e19, a19\n"
      ],
      "metadata": {
        "colab": {
          "base_uri": "https://localhost:8080/"
        },
        "id": "o8oO8pdBGvYk",
        "outputId": "f6fb49c6-9f1e-49c5-a601-73870b8441c8"
      },
      "execution_count": 118,
      "outputs": [
        {
          "output_type": "execute_result",
          "data": {
            "text/plain": [
              "(0.3652569360842514, 0.357193792178257)"
            ]
          },
          "metadata": {},
          "execution_count": 118
        }
      ]
    },
    {
      "cell_type": "code",
      "source": [
        "### acqFunc attribute x, stddev: run number = 20\n",
        "\n",
        "acqFuncgp_gp_20 = acqFuncExact(gp_20.history)\n",
        "acqFuncstp_stp_20 = acqFuncExact(stp_20.history)\n",
        "\n",
        "e20 = np.std(acqFuncstp_stp_20)\n",
        "a20 = np.std(acqFuncgp_gp_20)\n",
        "\n",
        "e20, a20\n"
      ],
      "metadata": {
        "colab": {
          "base_uri": "https://localhost:8080/"
        },
        "id": "b2w8oLc0IMzU",
        "outputId": "87a7ed85-7229-4f40-da63-4ad6f8e82cca"
      },
      "execution_count": 119,
      "outputs": [
        {
          "output_type": "execute_result",
          "data": {
            "text/plain": [
              "(0.3189920480808478, 0.27614146304654624)"
            ]
          },
          "metadata": {},
          "execution_count": 119
        }
      ]
    },
    {
      "cell_type": "code",
      "source": [
        "### Summarize arrays: \n",
        "\n",
        "stp_stddev = np.sort([e1,e2,e3,e4,e5,e6,e7,e8,e9,e10,e11,e12,e13,e14,e15,e16,e17,e18,e19,e20])\n",
        "gp_stddev = np.sort([a1,a2,a3,a4,a5,a6,a7,a8,a9,a10,a11,a12,a13,a14,a15,a16,a17,a18,a19,a20])\n",
        "\n",
        "np.mean(stp_stddev), np.mean(gp_stddev)\n"
      ],
      "metadata": {
        "colab": {
          "base_uri": "https://localhost:8080/"
        },
        "id": "qAZs3yxMIZul",
        "outputId": "3e8353a8-64e9-4519-b53d-0c7c36bde7d3"
      },
      "execution_count": 120,
      "outputs": [
        {
          "output_type": "execute_result",
          "data": {
            "text/plain": [
              "(0.29184739733145093, 0.3341932554456942)"
            ]
          },
          "metadata": {},
          "execution_count": 120
        }
      ]
    },
    {
      "cell_type": "code",
      "source": [
        "### Visualise!\n",
        "\n",
        "title = func\n",
        "plt.figure()\n",
        "\n",
        "plt.plot(stp_stddev, color = 'Red', ls='-', label='Average $\\sigma$, attribute $\\mathbf{x}$: Exact STP dEI gradients')\n",
        "plt.plot(gp_stddev, color = 'Red', ls='-.', label='Average $\\sigma$, attribute $\\mathbf{x}$: Exact GP dEI gradients')\n",
        "\n",
        "plt.title(title, weight = 'bold')\n",
        "plt.xlabel('Function evaluations: iteration $\\it{k}$', weight = 'bold')\n",
        "plt.ylabel('GP EI, STP EI: Average $\\sigma$, attribute $\\mathbf{x}$', weight = 'bold') \n",
        "plt.legend(loc=0) # add plot legend\n",
        "\n",
        "### Make the x-ticks integers, not floats:\n",
        "count = len(xstar)\n",
        "plt.xticks(np.arange(count), np.arange(1, count))\n",
        "plt.show() #visualize!\n"
      ],
      "metadata": {
        "colab": {
          "base_uri": "https://localhost:8080/",
          "height": 297
        },
        "id": "e_kpqYcMIZxu",
        "outputId": "4b9f5fe1-25e8-45ed-864b-e1c222c496b7"
      },
      "execution_count": 122,
      "outputs": [
        {
          "output_type": "display_data",
          "data": {
            "text/plain": [
              "<Figure size 432x288 with 1 Axes>"
            ],
            "image/png": "[encoded data removed]"
          },
          "metadata": {
            "needs_background": "light"
          }
        }
      ]
    },
    {
      "cell_type": "code",
      "source": [],
      "metadata": {
        "id": "LToGd4vZIZ3I"
      },
      "execution_count": 121,
      "outputs": []
    }
  ],
  "metadata": {
    "colab": {
      "collapsed_sections": [],
      "provenance": []
    },
    "kernelspec": {
      "display_name": "Python 3",
      "name": "python3"
    },
    "language_info": {
      "name": "python"
    }
  },
  "nbformat": 4,
  "nbformat_minor": 0
}