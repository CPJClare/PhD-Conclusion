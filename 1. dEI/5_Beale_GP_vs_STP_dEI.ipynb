{
  "cells": [
    {
      "cell_type": "markdown",
      "metadata": {
        "id": "Dqn4dFx7Z2Ir"
      },
      "source": [
        "\n",
        "Beale: 2D\n"
      ]
    },
    {
      "cell_type": "code",
      "execution_count": 1,
      "metadata": {
        "colab": {
          "base_uri": "https://localhost:8080/"
        },
        "id": "MJTM_GZZZb5x",
        "outputId": "6de55954-8ce3-4bda-e1c8-f295f8b2fdcc"
      },
      "outputs": [
        {
          "output_type": "stream",
          "name": "stdout",
          "text": [
            "Looking in indexes: https://pypi.org/simple, https://us-python.pkg.dev/colab-wheels/public/simple/\n",
            "Collecting pyGPGO\n",
            "  Downloading pyGPGO-0.5.1.tar.gz (14 kB)\n",
            "Requirement already satisfied: numpy in /usr/local/lib/python3.7/dist-packages (from pyGPGO) (1.21.6)\n",
            "Requirement already satisfied: mkl in /usr/local/lib/python3.7/dist-packages (from pyGPGO) (2019.0)\n",
            "Requirement already satisfied: scipy in /usr/local/lib/python3.7/dist-packages (from pyGPGO) (1.7.3)\n",
            "Requirement already satisfied: joblib in /usr/local/lib/python3.7/dist-packages (from pyGPGO) (1.1.0)\n",
            "Requirement already satisfied: scikit-learn in /usr/local/lib/python3.7/dist-packages (from pyGPGO) (1.0.2)\n",
            "Collecting Theano-PyMC\n",
            "  Downloading Theano-PyMC-1.1.2.tar.gz (1.8 MB)\n",
            "\u001b[K     |████████████████████████████████| 1.8 MB 5.1 MB/s \n",
            "\u001b[?25hCollecting pyMC3\n",
            "  Downloading pymc3-3.11.5-py3-none-any.whl (872 kB)\n",
            "\u001b[K     |████████████████████████████████| 872 kB 52.0 MB/s \n",
            "\u001b[?25hRequirement already satisfied: intel-openmp in /usr/local/lib/python3.7/dist-packages (from mkl->pyGPGO) (2022.1.0)\n",
            "Requirement already satisfied: pandas>=0.24.0 in /usr/local/lib/python3.7/dist-packages (from pyMC3->pyGPGO) (1.3.5)\n",
            "Collecting semver>=2.13.0\n",
            "  Downloading semver-2.13.0-py2.py3-none-any.whl (12 kB)\n",
            "Requirement already satisfied: dill in /usr/local/lib/python3.7/dist-packages (from pyMC3->pyGPGO) (0.3.5.1)\n",
            "Requirement already satisfied: arviz>=0.11.0 in /usr/local/lib/python3.7/dist-packages (from pyMC3->pyGPGO) (0.12.1)\n",
            "Collecting deprecat\n",
            "  Downloading deprecat-2.1.1-py2.py3-none-any.whl (9.8 kB)\n",
            "Requirement already satisfied: typing-extensions>=3.7.4 in /usr/local/lib/python3.7/dist-packages (from pyMC3->pyGPGO) (4.1.1)\n",
            "Requirement already satisfied: cachetools>=4.2.1 in /usr/local/lib/python3.7/dist-packages (from pyMC3->pyGPGO) (4.2.4)\n",
            "Requirement already satisfied: patsy>=0.5.1 in /usr/local/lib/python3.7/dist-packages (from pyMC3->pyGPGO) (0.5.2)\n",
            "Requirement already satisfied: fastprogress>=0.2.0 in /usr/local/lib/python3.7/dist-packages (from pyMC3->pyGPGO) (1.0.3)\n",
            "Requirement already satisfied: filelock in /usr/local/lib/python3.7/dist-packages (from Theano-PyMC->pyGPGO) (3.8.0)\n",
            "Requirement already satisfied: xarray>=0.16.1 in /usr/local/lib/python3.7/dist-packages (from arviz>=0.11.0->pyMC3->pyGPGO) (0.20.2)\n",
            "Requirement already satisfied: matplotlib>=3.0 in /usr/local/lib/python3.7/dist-packages (from arviz>=0.11.0->pyMC3->pyGPGO) (3.2.2)\n",
            "Requirement already satisfied: setuptools>=38.4 in /usr/local/lib/python3.7/dist-packages (from arviz>=0.11.0->pyMC3->pyGPGO) (57.4.0)\n",
            "Requirement already satisfied: packaging in /usr/local/lib/python3.7/dist-packages (from arviz>=0.11.0->pyMC3->pyGPGO) (21.3)\n",
            "Requirement already satisfied: xarray-einstats>=0.2 in /usr/local/lib/python3.7/dist-packages (from arviz>=0.11.0->pyMC3->pyGPGO) (0.2.2)\n",
            "Requirement already satisfied: netcdf4 in /usr/local/lib/python3.7/dist-packages (from arviz>=0.11.0->pyMC3->pyGPGO) (1.6.0)\n",
            "Requirement already satisfied: cycler>=0.10 in /usr/local/lib/python3.7/dist-packages (from matplotlib>=3.0->arviz>=0.11.0->pyMC3->pyGPGO) (0.11.0)\n",
            "Requirement already satisfied: kiwisolver>=1.0.1 in /usr/local/lib/python3.7/dist-packages (from matplotlib>=3.0->arviz>=0.11.0->pyMC3->pyGPGO) (1.4.4)\n",
            "Requirement already satisfied: python-dateutil>=2.1 in /usr/local/lib/python3.7/dist-packages (from matplotlib>=3.0->arviz>=0.11.0->pyMC3->pyGPGO) (2.8.2)\n",
            "Requirement already satisfied: pyparsing!=2.0.4,!=2.1.2,!=2.1.6,>=2.0.1 in /usr/local/lib/python3.7/dist-packages (from matplotlib>=3.0->arviz>=0.11.0->pyMC3->pyGPGO) (3.0.9)\n",
            "Requirement already satisfied: pytz>=2017.3 in /usr/local/lib/python3.7/dist-packages (from pandas>=0.24.0->pyMC3->pyGPGO) (2022.2.1)\n",
            "Requirement already satisfied: six in /usr/local/lib/python3.7/dist-packages (from patsy>=0.5.1->pyMC3->pyGPGO) (1.15.0)\n",
            "Requirement already satisfied: importlib-metadata in /usr/local/lib/python3.7/dist-packages (from xarray>=0.16.1->arviz>=0.11.0->pyMC3->pyGPGO) (4.12.0)\n",
            "Requirement already satisfied: wrapt<2,>=1.10 in /usr/local/lib/python3.7/dist-packages (from deprecat->pyMC3->pyGPGO) (1.14.1)\n",
            "Requirement already satisfied: zipp>=0.5 in /usr/local/lib/python3.7/dist-packages (from importlib-metadata->xarray>=0.16.1->arviz>=0.11.0->pyMC3->pyGPGO) (3.8.1)\n",
            "Requirement already satisfied: cftime in /usr/local/lib/python3.7/dist-packages (from netcdf4->arviz>=0.11.0->pyMC3->pyGPGO) (1.6.1)\n",
            "Requirement already satisfied: threadpoolctl>=2.0.0 in /usr/local/lib/python3.7/dist-packages (from scikit-learn->pyGPGO) (3.1.0)\n",
            "Building wheels for collected packages: pyGPGO, Theano-PyMC\n",
            "  Building wheel for pyGPGO (setup.py) ... \u001b[?25l\u001b[?25hdone\n",
            "  Created wheel for pyGPGO: filename=pyGPGO-0.5.1-py3-none-any.whl size=19879 sha256=c9b1716efbf9d02d59071accccd2f8ce94d0208c96062bc7e43f6f230e7c00e7\n",
            "  Stored in directory: /root/.cache/pip/wheels/c8/5d/0b/2160114e2f1b87791c51b66cf07f89831dbb6f49167950316f\n",
            "  Building wheel for Theano-PyMC (setup.py) ... \u001b[?25l\u001b[?25hdone\n",
            "  Created wheel for Theano-PyMC: filename=Theano_PyMC-1.1.2-py3-none-any.whl size=1529963 sha256=a34bab7a6a29c4b3253db0b3dfbc47305a583a8e04aad7dbd7181ddf42dc5d7b\n",
            "  Stored in directory: /root/.cache/pip/wheels/f3/af/8c/5dd7553522d74c52a7813806fc7ee1a9caa20a3f7c8fd850d5\n",
            "Successfully built pyGPGO Theano-PyMC\n",
            "Installing collected packages: Theano-PyMC, semver, deprecat, pyMC3, pyGPGO\n",
            "Successfully installed Theano-PyMC-1.1.2 deprecat-2.1.1 pyGPGO-0.5.1 pyMC3-3.11.5 semver-2.13.0\n"
          ]
        }
      ],
      "source": [
        "pip install pyGPGO\n"
      ]
    },
    {
      "cell_type": "code",
      "execution_count": 2,
      "metadata": {
        "id": "ZJSSPbwPaEUB"
      },
      "outputs": [],
      "source": [
        "### 1. Import python modules/packages required:\n",
        "\n",
        "import numpy as np\n",
        "import pandas as pd\n",
        "import scipy as sp\n",
        "import matplotlib.pyplot as plt\n",
        "import warnings\n",
        "import itertools\n",
        "import seaborn as sns\n",
        "import time\n",
        "\n",
        "from pyGPGO.GPGO import GPGO\n",
        "from pyGPGO.surrogates.GaussianProcess import GaussianProcess\n",
        "from pyGPGO.surrogates.tStudentProcess import tStudentProcess\n",
        "from pyGPGO.acquisition import Acquisition\n",
        "from pyGPGO.covfunc import squaredExponential\n",
        "from joblib import Parallel, delayed\n",
        "from scipy.linalg import inv\n",
        "from scipy.spatial.distance import cdist\n",
        "from scipy.optimize import minimize\n",
        "from scipy.stats import norm, t\n",
        "from mpl_toolkits.axes_grid1.inset_locator import inset_axes, mark_inset\n",
        "\n",
        "warnings.filterwarnings(\"ignore\", category=RuntimeWarning)\n"
      ]
    },
    {
      "cell_type": "code",
      "execution_count": 3,
      "metadata": {
        "id": "OeYcTUNoaJWa"
      },
      "outputs": [],
      "source": [
        "### Inputs:\n",
        "\n",
        "func = 'Beale'\n",
        "n_test = 500\n",
        "eps = 1e-08\n",
        "\n",
        "util_gp = 'EI_gp'\n",
        "util_stp = 'EI_stp'\n",
        "\n",
        "n_init = 5 # random initialisations\n",
        "iters = 20\n",
        "opt = True\n",
        "\n",
        "df = 3"
      ]
    },
    {
      "cell_type": "code",
      "execution_count": 4,
      "metadata": {
        "id": "xpaEOjdzaPMS"
      },
      "outputs": [],
      "source": [
        "### Objective Function - Beale(x) 2-D:\n",
        "\n",
        "def objfunc(x1_training, x2_training):\n",
        "            return  operator * (\n",
        "                (1.500 - x1_training + x1_training * x2_training)**2 +\n",
        "                (2.250 - x1_training + x1_training * x2_training**2)**2 +\n",
        "                (2.625 - x1_training + x1_training * x2_training**3)**2 \n",
        "                )\n",
        "       \n",
        "# Constraints:\n",
        "lb = -4.5\n",
        "ub = +4.5\n",
        "\n",
        "# Input array dimension(s):\n",
        "dim = 2\n",
        "\n",
        "# 2-D inputs' parameter bounds:\n",
        "param = {'x1_training': ('cont', [lb, ub]),\n",
        "             'x2_training': ('cont', [lb, ub])}\n",
        "\n",
        "# True y bounds:\n",
        "operator = -1\n",
        "y_lb = 0 # targets global minimum\n",
        "y_global_orig = y_lb * operator # targets global minimum\n",
        "\n",
        "# Test data:\n",
        "x1_test = np.linspace(lb, ub, n_test)\n",
        "x2_test = np.linspace(lb, ub, n_test)\n",
        "  \n",
        "x_test = np.column_stack((x1_test,x2_test))"
      ]
    },
    {
      "cell_type": "code",
      "execution_count": 5,
      "metadata": {
        "id": "eYpI3Zm4aGxi"
      },
      "outputs": [],
      "source": [
        "n_start_AcqFunc = iters\n",
        "inverse = -1\n"
      ]
    },
    {
      "cell_type": "code",
      "execution_count": 6,
      "metadata": {
        "id": "oO_GUmOoaV0T"
      },
      "outputs": [],
      "source": [
        "### Cumulative Regret Calculators:\n",
        "\n",
        "def min_max_array(x):\n",
        "    new_list = []\n",
        "    for i, num in enumerate(x):\n",
        "            new_list.append(np.min(x[0:i+1]))\n",
        "    return new_list\n",
        "  \n",
        "def acqFuncExact(x):\n",
        "    new_array = []\n",
        "    x = np.array(x) \n",
        "    for i, num in enumerate(x):\n",
        "            new_array = x[:-2][::-3]\n",
        "    return new_array[::-1]\n",
        "\n",
        "def acqFuncApprox(x):\n",
        "    new_array = []\n",
        "    x = np.array(x) \n",
        "    for i, num in enumerate(x):\n",
        "            new_array = x[:-1][::-3]\n",
        "    return new_array[::-1]\n"
      ]
    },
    {
      "cell_type": "code",
      "execution_count": 7,
      "metadata": {
        "id": "kuuJx0IMam9S"
      },
      "outputs": [],
      "source": [
        "### Surrogate derivatives: \n",
        "\n",
        "cov_func = squaredExponential()\n",
        "\n",
        "def kronDelta(X, Xstar):                     # Kronecker's Delta method\n",
        "    return cdist(X, Xstar) < np.finfo(np.float32).eps\n",
        "\n",
        "def se(X, Xstar, sigmaf, l, sigman):         # S.E. kernel method\n",
        "    return sigmaf * np.exp(-0.5 * cdist(X, Xstar) ** 2 / l ** 2) + sigman * kronDelta(X, Xstar)\n",
        "\n",
        "def delta(X, Xstar):                         # Distance between training X and test Xstar vectors\n",
        "    return (X - Xstar)\n",
        "   \n",
        "def der_covmat(X, Xstar, sigmaf, l, sigman): # Covariance matrix derivative terms (i.e. exact, first-order)\n",
        "    nx = len(X)\n",
        "    ny = len(Xstar)\n",
        "    return np.round(np.array([(delta(np.atleast_2d(i), np.atleast_2d(j))[0] * se(np.atleast_2d(i), np.atleast_2d(j), sigmaf, l, sigman)[0]).sum() for (i, j) in itertools.product(X, Xstar)]).reshape(nx, ny), 8)\n",
        "\n",
        "class dGaussianProcess(GaussianProcess):    # Via inheritance, also optimises hyperparameters when opt = TRUE\n",
        "    \n",
        "    def AcqGrad(self, Xstar):               # Method returning exact, first-order derivatives of the GP's posterior mean and standard deviation\n",
        "        Xstar = np.atleast_2d(Xstar)\n",
        "        Kstar = self.covfunc.K(self.X, Xstar).T\n",
        "        \n",
        "        dKstar = der_covmat(self.X, Xstar, self.covfunc.sigmaf, self.covfunc.l, self.covfunc.sigman).T\n",
        "        alpha_Kstar = np.dot(np.linalg.inv(self.K + (self.covfunc.sigman**2) * np.eye(len(self.X))), Kstar.T)\n",
        "        \n",
        "        dm = np.dot(dKstar, self.alpha)\n",
        "        ds = -2 * np.dot(dKstar, alpha_Kstar)\n",
        "        \n",
        "        return dm, ds   \n",
        "\n",
        "class dtStudentProcess(tStudentProcess):    # Via inheritance, also optimises hyperparameters when opt = TRUE\n",
        "    \n",
        "    def AcqGrad(self, Xstar):               # Method returning exact, first-order derivatives of the STP's posterior mean and standard deviation\n",
        "        Xstar = np.atleast_2d(Xstar)\n",
        "        Kstar = self.covfunc.K(self.X, Xstar).T\n",
        "        dKstar = der_covmat(self.X, Xstar, self.covfunc.sigmaf, self.covfunc.l, self.covfunc.sigman).T\n",
        "        \n",
        "        smd_adj = (self.nu + self.beta1 - 2) / (self.nu + self.n1 - 2)\n",
        "\n",
        "        alpha = np.dot(np.linalg.inv(self.K11 + (self.covfunc.sigman**2) * np.eye(len(self.X))), self.y)\n",
        "        alpha_Kstar = np.dot(np.linalg.inv(self.K11 + (self.covfunc.sigman**2) * np.eye(len(self.X))), Kstar.T)      \n",
        "        \n",
        "        dm = np.dot(dKstar, alpha)\n",
        "        ds = -2 * smd_adj * np.dot(dKstar, alpha_Kstar)\n",
        "        \n",
        "        return dm, ds \n",
        "        "
      ]
    },
    {
      "cell_type": "code",
      "execution_count": 8,
      "metadata": {
        "id": "_Dc3YVHVaXz7"
      },
      "outputs": [],
      "source": [
        "### Add exact acquisition function gradient as attribute:\n",
        "\n",
        "class Acquisition_grad(Acquisition):    \n",
        "    def __init__(self, mode, eps=eps, **params):\n",
        "        \n",
        "        self.params = params\n",
        "        self.eps = eps\n",
        "\n",
        "        mode_dict = {\n",
        "            'EI_stp': self.EI_stp,\n",
        "            'EI_gp': self.EI_gp,\n",
        "        }\n",
        "\n",
        "        self.f = mode_dict[mode]\n",
        "    \n",
        "    def EI_stp(self, tau, mean, std, ds, dm, nu=3.0):\n",
        "        gamma = (mean - tau - self.eps) / (std + self.eps)\n",
        "        gamma_h = (mean - tau) / (std + self.eps)\n",
        "        dsdx = ds / (2 * (std + self.eps))\n",
        "        dmdx = (dm - gamma * dsdx) / (std + self.eps)\n",
        "        \n",
        "        f = (std + self.eps) * (gamma * t.cdf(gamma, df=nu) + (nu + gamma ** 2)/(nu - 1) * t.pdf(gamma, df=nu))\n",
        "        df1 = f / (std + self.eps) * dsdx \n",
        "        df2 = (std + self.eps) * (t.cdf(gamma, df=nu) * dmdx + gamma * t.pdf(gamma, df=nu) \\\n",
        "            * (1 - (nu + gamma ** 2)/(nu - 1) + 2/(nu - 1) * dmdx))\n",
        "        df = (df1 + df2)[0]\n",
        "        df_arr = []\n",
        "\n",
        "        for j in range(0, dim):\n",
        "          df_arr.append(df)\n",
        "        return f, np.asarray(df_arr).transpose()\n",
        "        \n",
        "    def d_eval_stp(self, tau, mean, std, ds, dm, nu=3.0):\n",
        "    \n",
        "        return self.f(tau, mean, std, ds, dm, nu=3.0, **self.params)\n",
        "\n",
        "    def EI_gp(self, tau, mean, std, ds, dm):\n",
        "        gamma = (mean - tau - self.eps) / (std + self.eps)\n",
        "        gamma_h = (mean - tau) / (std + self.eps)\n",
        "        dsdx = ds / (2 * (std + self.eps))\n",
        "        dmdx = (dm - gamma * dsdx) / (std + self.eps)\n",
        "        \n",
        "        f = (std + self.eps) * (gamma * norm.cdf(gamma) + norm.pdf(gamma))\n",
        "        df1 = f / (std + self.eps) * dsdx \n",
        "        df2 = (std + self.eps) * norm.cdf(gamma) * dmdx\n",
        "        df = (df1 + df2)[0]\n",
        "        df_arr = []\n",
        "\n",
        "        for j in range(0, dim):\n",
        "          df_arr.append(df)\n",
        "        return f, np.asarray(df_arr).transpose()\n",
        "        \n",
        "    def d_eval_gp(self, tau, mean, std, ds, dm):\n",
        "    \n",
        "        return self.f(tau, mean, std, ds, dm, **self.params)\n",
        "        "
      ]
    },
    {
      "cell_type": "code",
      "execution_count": 9,
      "metadata": {
        "id": "b_B-w81BJxKN"
      },
      "outputs": [],
      "source": [
        "## dGPGO - Gaussian:\n",
        "\n",
        "class dGPGO_gp(GPGO):\n",
        "    n_start = n_start_AcqFunc\n",
        "\n",
        "    def __init__(self, surrogate, acquisition, f, parameter_dict, n_jobs=1):\n",
        "        self.GP = surrogate\n",
        "        self.A = acquisition\n",
        "        self.f = f\n",
        "        self.parameters = parameter_dict\n",
        "        self.n_jobs = n_jobs\n",
        "\n",
        "        self.parameter_key = list(parameter_dict.keys())\n",
        "        self.parameter_value = list(parameter_dict.values())\n",
        "        self.parameter_type = [p[0] for p in self.parameter_value]\n",
        "        self.parameter_range = [p[1] for p in self.parameter_value]\n",
        "\n",
        "        self.history = []\n",
        "        self.header =   'Evaluation \\t Proposed point \\t  Current eval. \\t  Best eval. \\t        Exact EI: StdDev. x \\t Approx EI: StdDev. x '\n",
        "        self.template = '{:3}\\t {}\\t {:3}\\t {:3}\\t {:3}\\t {:3}'\n",
        "\n",
        "    def acqfuncExact(self, xnew, n_start=n_start_AcqFunc):\n",
        "        new_mean, new_var = self.GP.predict(xnew, return_std=True)\n",
        "        new_std = np.sqrt(new_var + eps)\n",
        "        dm, ds = self.GP.AcqGrad(xnew)\n",
        "        f, df = self.A.d_eval_gp(self.tau, new_mean, new_std, ds=ds, dm=dm)\n",
        "\n",
        "        return -f, -df\n",
        "   \n",
        "    def acqfuncApprox(self, xnew, n_start=n_start_AcqFunc):\n",
        "        new_mean, new_var = self.GP.predict(xnew, return_std=True)\n",
        "        new_std = np.sqrt(new_var + eps)\n",
        "        dm, ds = self.GP.AcqGrad(xnew)\n",
        "        f, df = self.A.d_eval_gp(self.tau, new_mean, new_std, ds=ds, dm=dm)\n",
        "\n",
        "        return -f\n",
        "\n",
        "    def d_optimizeAcq(self, method='L-BFGS-B', n_start=n_start_AcqFunc):\n",
        "        start_points_dict = [self._sampleParam() for i in range(n_start)]\n",
        "        start_points_arr = np.array([list(s.values())\n",
        "                                     for s in start_points_dict])\n",
        "        x_best = np.empty((n_start, len(self.parameter_key)))\n",
        "        f_best = np.empty((n_start,))\n",
        "        opt = Parallel(n_jobs=self.n_jobs)(delayed(minimize)(self.acqfuncExact,\n",
        "                                                                 x0=start_point,\n",
        "                                                                 method=method,\n",
        "                                                                 jac = True,\n",
        "                                                                 bounds=self.parameter_range) for start_point in\n",
        "                                               start_points_arr)\n",
        "        x_best = np.array([res.x for res in opt])\n",
        "        f_best = np.array([np.atleast_1d(res.fun)[0] for res in opt])\n",
        "        f_best_min = min(f_best)\n",
        "\n",
        "        self.x_best = x_best\n",
        "        self.f_best = f_best\n",
        "        self.f_best_min = f_best_min\n",
        "        self.x_best_std = np.std(x_best)\n",
        "        self.best = x_best[np.argmin(f_best)]\n",
        "        self.start_points_arr = start_points_arr\n",
        "        self.history.append(self.x_best_std)\n",
        "\n",
        "        x_best_gp = np.empty((n_start, len(self.parameter_key)))\n",
        "        f_best_gp = np.empty((n_start,))\n",
        "        opt_gp = Parallel(n_jobs=self.n_jobs)(delayed(minimize)(self.acqfuncApprox,\n",
        "                                                                 x0=start_point,\n",
        "                                                                 method=method,\n",
        "                                                                 jac = False,\n",
        "                                                                 bounds=self.parameter_range) for start_point in\n",
        "                                               start_points_arr)\n",
        "        x_best_gp = np.array([res.x for res in opt_gp])\n",
        "        f_best_gp = np.array([np.atleast_1d(res.fun)[0] for res in opt_gp])\n",
        "        f_best_min_gp = min(f_best_gp)\n",
        "\n",
        "        self.x_best_gp = x_best_gp\n",
        "        self.f_best_gp = f_best_gp\n",
        "        self.f_best_min_gp = f_best_min_gp\n",
        "        self.x_best_std_gp = np.std(x_best_gp)\n",
        "        self.best_gp = x_best_gp[np.argmin(f_best_gp)]\n",
        "        self.start_points_arr = start_points_arr\n",
        "        self.history.append(self.x_best_std_gp)\n",
        "    \n",
        "    def _printInit(self):\n",
        "        print(self.header)\n",
        "        for init_eval in range(self.init_evals):\n",
        "            print(self.template.format('init', self.GP.X[init_eval], inverse * self.GP.y[init_eval], inverse * self.tau, '', ''))\n",
        "      \n",
        "    def _printCurrent(self):\n",
        "        OKGREEN = '\\033[92m'\n",
        "        ENDC = '\\033[0m'\n",
        "        BOLD = '\\033[1m'\n",
        "        eval = str(len(self.GP.y) - self.init_evals)\n",
        "        proposed = str(self.best)\n",
        "        curr_eval = str(inverse * self.GP.y[-1])\n",
        "        curr_best = str(inverse * self.tau)\n",
        "        min_acqfunc = str(self.f_best_min)\n",
        "        min_acqfunc_gp = str(self.f_best_min_gp)\n",
        "        x_best_std = str(self.x_best_std)\n",
        "        x_best_std_gp = str(self.x_best_std_gp)\n",
        "        if float(curr_eval) <= float(curr_best):\n",
        "            eval = BOLD + OKGREEN + eval + ENDC\n",
        "            proposed = BOLD + OKGREEN + proposed + ENDC\n",
        "            curr_eval = BOLD + OKGREEN + curr_eval + ENDC\n",
        "            curr_best = BOLD + OKGREEN + curr_best + ENDC\n",
        "            x_best_std = BOLD + OKGREEN + x_best_std + ENDC\n",
        "            x_best_std_gp = BOLD + OKGREEN + x_best_std_gp + ENDC\n",
        "        print(self.template.format(eval, proposed, curr_eval, curr_best, x_best_std, x_best_std_gp))\n",
        "\n",
        "    def run(self, max_iter=10, init_evals=3, resume=False):\n",
        "        \n",
        "        if not resume:\n",
        "            self.init_evals = init_evals\n",
        "            self._firstRun(self.init_evals)\n",
        "            self._printInit()\n",
        "        for iteration in range(max_iter):\n",
        "            self.d_optimizeAcq()\n",
        "            self.updateGP()\n",
        "            self._printCurrent()\n"
      ]
    },
    {
      "cell_type": "code",
      "source": [
        "## dGPGO - Student's-t:\n",
        "\n",
        "class dGPGO_stp(GPGO):\n",
        "    n_start = n_start_AcqFunc\n",
        "\n",
        "    def __init__(self, surrogate, acquisition, f, parameter_dict, n_jobs=1):\n",
        "        self.GP = surrogate\n",
        "        self.A = acquisition\n",
        "        self.f = f\n",
        "        self.parameters = parameter_dict\n",
        "        self.n_jobs = n_jobs\n",
        "\n",
        "        self.parameter_key = list(parameter_dict.keys())\n",
        "        self.parameter_value = list(parameter_dict.values())\n",
        "        self.parameter_type = [p[0] for p in self.parameter_value]\n",
        "        self.parameter_range = [p[1] for p in self.parameter_value]\n",
        "\n",
        "        self.history = []\n",
        "        self.header =   'Evaluation \\t Proposed point \\t  Current eval. \\t  Best eval. \\t        Exact EI: StdDev. x \\t Approx EI: StdDev. x '\n",
        "        self.template = '{:3}\\t {}\\t {:3}\\t {:3}\\t {:3}\\t {:3}'\n",
        "\n",
        "    def acqfuncExact(self, xnew, n_start=n_start_AcqFunc):\n",
        "        new_mean, new_var = self.GP.predict(xnew, return_std=True)\n",
        "        new_std = np.sqrt(new_var + eps)\n",
        "        dm, ds = self.GP.AcqGrad(xnew)\n",
        "        f, df = self.A.d_eval_stp(self.tau, new_mean, new_std, ds=ds, dm=dm, nu=3.0)\n",
        "\n",
        "        return -f, -df\n",
        "   \n",
        "    def acqfuncApprox(self, xnew, n_start=n_start_AcqFunc):\n",
        "        new_mean, new_var = self.GP.predict(xnew, return_std=True)\n",
        "        new_std = np.sqrt(new_var + eps)\n",
        "        dm, ds = self.GP.AcqGrad(xnew)\n",
        "        f, df = self.A.d_eval_stp(self.tau, new_mean, new_std, ds=ds, dm=dm, nu=3.0)\n",
        "\n",
        "        return -f\n",
        "\n",
        "    def d_optimizeAcq(self, method='L-BFGS-B', n_start=n_start_AcqFunc):\n",
        "        start_points_dict = [self._sampleParam() for i in range(n_start)]\n",
        "        start_points_arr = np.array([list(s.values())\n",
        "                                     for s in start_points_dict])\n",
        "        x_best = np.empty((n_start, len(self.parameter_key)))\n",
        "        f_best = np.empty((n_start,))\n",
        "        opt = Parallel(n_jobs=self.n_jobs)(delayed(minimize)(self.acqfuncExact,\n",
        "                                                                 x0=start_point,\n",
        "                                                                 method=method,\n",
        "                                                                 jac = True,\n",
        "                                                                 bounds=self.parameter_range) for start_point in\n",
        "                                               start_points_arr)\n",
        "        x_best = np.array([res.x for res in opt])\n",
        "        f_best = np.array([np.atleast_1d(res.fun)[0] for res in opt])\n",
        "        f_best_min = min(f_best)\n",
        "\n",
        "        self.x_best = x_best\n",
        "        self.f_best = f_best\n",
        "        self.f_best_min = f_best_min\n",
        "        self.x_best_std = np.std(x_best)\n",
        "        self.best = x_best[np.argmin(f_best)]\n",
        "        self.start_points_arr = start_points_arr\n",
        "        self.history.append(self.x_best_std)\n",
        "\n",
        "        x_best_gp = np.empty((n_start, len(self.parameter_key)))\n",
        "        f_best_gp = np.empty((n_start,))\n",
        "        opt_gp = Parallel(n_jobs=self.n_jobs)(delayed(minimize)(self.acqfuncApprox,\n",
        "                                                                 x0=start_point,\n",
        "                                                                 method=method,\n",
        "                                                                 jac = False,\n",
        "                                                                 bounds=self.parameter_range) for start_point in\n",
        "                                               start_points_arr)\n",
        "        x_best_gp = np.array([res.x for res in opt_gp])\n",
        "        f_best_gp = np.array([np.atleast_1d(res.fun)[0] for res in opt_gp])\n",
        "        f_best_min_gp = min(f_best_gp)\n",
        "\n",
        "        self.x_best_gp = x_best_gp\n",
        "        self.f_best_gp = f_best_gp\n",
        "        self.f_best_min_gp = f_best_min_gp\n",
        "        self.x_best_std_gp = np.std(x_best_gp)\n",
        "        self.best_gp = x_best_gp[np.argmin(f_best_gp)]\n",
        "        self.start_points_arr = start_points_arr\n",
        "        self.history.append(self.x_best_std_gp)\n",
        "    \n",
        "    def _printInit(self):\n",
        "        print(self.header)\n",
        "        for init_eval in range(self.init_evals):\n",
        "            print(self.template.format('init', self.GP.X[init_eval], inverse * self.GP.y[init_eval], inverse * self.tau, '', ''))\n",
        "      \n",
        "    def _printCurrent(self):\n",
        "        OKGREEN = '\\033[92m'\n",
        "        ENDC = '\\033[0m'\n",
        "        BOLD = '\\033[1m'\n",
        "        eval = str(len(self.GP.y) - self.init_evals)\n",
        "        proposed = str(self.best)\n",
        "        curr_eval = str(inverse * self.GP.y[-1])\n",
        "        curr_best = str(inverse * self.tau)\n",
        "        min_acqfunc = str(self.f_best_min)\n",
        "        min_acqfunc_gp = str(self.f_best_min_gp)\n",
        "        x_best_std = str(self.x_best_std)\n",
        "        x_best_std_gp = str(self.x_best_std_gp)\n",
        "        if float(curr_eval) <= float(curr_best):\n",
        "            eval = BOLD + OKGREEN + eval + ENDC\n",
        "            proposed = BOLD + OKGREEN + proposed + ENDC\n",
        "            curr_eval = BOLD + OKGREEN + curr_eval + ENDC\n",
        "            curr_best = BOLD + OKGREEN + curr_best + ENDC\n",
        "            x_best_std = BOLD + OKGREEN + x_best_std + ENDC\n",
        "            x_best_std_gp = BOLD + OKGREEN + x_best_std_gp + ENDC\n",
        "        print(self.template.format(eval, proposed, curr_eval, curr_best, x_best_std, x_best_std_gp))\n",
        "\n",
        "    def run(self, max_iter=10, init_evals=3, resume=False):\n",
        "        \n",
        "        if not resume:\n",
        "            self.init_evals = init_evals\n",
        "            self._firstRun(self.init_evals)\n",
        "            self._printInit()\n",
        "        for iteration in range(max_iter):\n",
        "            self.d_optimizeAcq()\n",
        "            self.updateGP()\n",
        "            self._printCurrent()\n"
      ],
      "metadata": {
        "id": "3gxt4mo3xQTY"
      },
      "execution_count": 10,
      "outputs": []
    },
    {
      "cell_type": "code",
      "execution_count": 11,
      "metadata": {
        "id": "qXIKGuXVGEg2"
      },
      "outputs": [],
      "source": [
        "###Reproducible set-seeds:\n",
        "\n",
        "run_num_1 = 1\n",
        "run_num_2 = 2\n",
        "run_num_3 = 3\n",
        "run_num_4 = 4\n",
        "run_num_5 = 5\n",
        "run_num_6 = 6\n",
        "run_num_7 = 7\n",
        "run_num_8 = 8\n",
        "run_num_9 = 9\n",
        "run_num_10 = 10\n",
        "run_num_11 = 11\n",
        "run_num_12 = 12\n",
        "run_num_13 = 13\n",
        "run_num_14 = 14\n",
        "run_num_15 = 15\n",
        "run_num_16 = 16\n",
        "run_num_17 = 17\n",
        "run_num_18 = 18\n",
        "run_num_19 = 19\n",
        "run_num_20 = 20\n"
      ]
    },
    {
      "cell_type": "code",
      "execution_count": 12,
      "metadata": {
        "colab": {
          "base_uri": "https://localhost:8080/"
        },
        "id": "JEhagQmnTVIK",
        "outputId": "0a5fa25f-2090-4b1b-bbdd-c8e20f55bbd7"
      },
      "outputs": [
        {
          "output_type": "execute_result",
          "data": {
            "text/plain": [
              "1663074692.3043828"
            ]
          },
          "metadata": {},
          "execution_count": 12
        }
      ],
      "source": [
        "start_gp = time.time()\n",
        "start_gp\n"
      ]
    },
    {
      "cell_type": "code",
      "execution_count": 13,
      "metadata": {
        "colab": {
          "base_uri": "https://localhost:8080/"
        },
        "id": "aH0YSTXufD1v",
        "outputId": "f3193e55-d04e-4703-a910-31560aad7aeb"
      },
      "outputs": [
        {
          "output_type": "stream",
          "name": "stdout",
          "text": [
            "Evaluation \t Proposed point \t  Current eval. \t  Best eval. \t        Exact EI: StdDev. x \t Approx EI: StdDev. x \n",
            "init\t [-0.74680196  1.98292044]\t 6.597029498756062\t 6.597029498756062\t    \t    \n",
            "init\t [-4.49897063 -1.77900685]\t 1305.4710589552556\t 6.597029498756062\t    \t    \n",
            "init\t [-3.17919698 -3.66895265]\t 28173.776013477825\t 6.597029498756062\t    \t    \n",
            "init\t [-2.8236581  -1.38995346]\t 237.9931764117774\t 6.597029498756062\t    \t    \n",
            "init\t [-0.92909273  0.34935061]\t 26.1790631757263\t 6.597029498756062\t    \t    \n",
            "1  \t [-2.36970626 -0.55645492]\t 71.2119828998195\t 6.597029498756062\t 3.3335306044428745\t 3.4939839563365958\n",
            "2  \t [4.5 4.5]\t 174813.36328125\t 6.597029498756062\t 2.8232166829110503\t 3.3634765349993736\n",
            "3  \t [ 2.96089888 -3.08880666]\t 8543.209378110845\t 6.597029498756062\t 2.781323791656617\t 3.3066496854284164\n",
            "4  \t [-3.30520666 -0.03108115]\t 90.08122266981678\t 6.597029498756062\t 2.947112200372126\t 3.255890673464414\n",
            "5  \t [-0.5744994   4.31749386]\t 1914.5134389353236\t 6.597029498756062\t 2.220999285379001\t 2.766671492548056\n",
            "6  \t [-0.37073424  1.30386703]\t 10.612680669467203\t 6.597029498756062\t 2.383474074101509\t 2.436586408709667\n",
            "7  \t [-2.71247853 -0.46688005]\t 80.63736646467099\t 6.597029498756062\t 2.678178703923841\t 2.7088708494475338\n",
            "8  \t [-3.93852348  2.60517971]\t 4423.62309395794\t 6.597029498756062\t 2.8326736058929365\t 2.914821546182786\n",
            "\u001b[1m\u001b[92m9\u001b[0m\t \u001b[1m\u001b[92m[3.1328811  0.42412617]\u001b[0m\t \u001b[1m\u001b[92m0.2667625480325752\u001b[0m\t \u001b[1m\u001b[92m0.2667625480325752\u001b[0m\t \u001b[1m\u001b[92m2.5981478991867655\u001b[0m\t \u001b[1m\u001b[92m2.555904104010574\u001b[0m\n",
            "10 \t [-0.23744734  1.28652121]\t 11.99187286562902\t 0.2667625480325752\t 2.6513209220080283\t 2.677829389479813\n",
            "11 \t [0.2551179  1.25591605]\t 16.464272653233387\t 0.2667625480325752\t 2.4036421577614546\t 2.4210809783774425\n",
            "12 \t [-1.1686124   0.27627695]\t 30.792670793838237\t 0.2667625480325752\t 2.649348925724384\t 2.649348925724384\n",
            "13 \t [3.43159071 0.37283201]\t 1.3171110497407548\t 0.2667625480325752\t 2.1849256190553987\t 2.1480403557368533\n",
            "14 \t [2.05786411 0.69483769]\t 3.7474919936274826\t 0.2667625480325752\t 2.6611305604662303\t 2.665399299483963\n",
            "15 \t [1.72028355 0.87673237]\t 9.349035695368446\t 0.2667625480325752\t 2.3250860982019965\t 2.3394119053980096\n",
            "16 \t [-0.21228692 -1.08525339]\t 18.331644514989843\t 0.2667625480325752\t 2.5774984793241646\t 2.5773464091446305\n",
            "17 \t [ 1.55736949e+00 -6.08660107e-04]\t 1.6229736537164599\t 0.2667625480325752\t 2.547038768151501\t 2.547038768151501\n",
            "18 \t [-0.23394339 -1.35749328]\t 20.285171989683334\t 0.2667625480325752\t 2.589360568831159\t 2.589360568831159\n",
            "19 \t [1.51376239 0.67626061]\t 5.555167132974294\t 0.2667625480325752\t 2.905827300142293\t 2.9211553727384407\n",
            "20 \t [3.99706118 0.27528722]\t 5.697085488549989\t 0.2667625480325752\t 2.6067761953530533\t 2.6402549271078275\n"
          ]
        }
      ],
      "source": [
        "### EXACT GP EI GRADIENTS\n",
        "\n",
        "np.random.seed(run_num_1)\n",
        "surrogate_gp_1 = dGaussianProcess(cov_func, optimize=opt)\n",
        "\n",
        "gp_1 = dGPGO_gp(surrogate_gp_1, Acquisition_grad(util_gp), objfunc, param)\n",
        "gp_1.run(init_evals=n_init, max_iter=iters)\n"
      ]
    },
    {
      "cell_type": "code",
      "execution_count": 14,
      "metadata": {
        "id": "wTxsSZxFGBB5",
        "colab": {
          "base_uri": "https://localhost:8080/"
        },
        "outputId": "fcb15aa9-81ee-456a-b5fd-31696dc1e951"
      },
      "outputs": [
        {
          "output_type": "stream",
          "name": "stdout",
          "text": [
            "Evaluation \t Proposed point \t  Current eval. \t  Best eval. \t        Exact EI: StdDev. x \t Approx EI: StdDev. x \n",
            "init\t [-0.57604588 -4.26666391]\t 2377.8441741808733\t 8.81624267140378\t    \t    \n",
            "init\t [ 0.4469623  -0.58209847]\t 8.81624267140378\t 8.81624267140378\t    \t    \n",
            "init\t [-0.71668978 -1.52698661]\t 47.3742628518178\t 8.81624267140378\t    \t    \n",
            "init\t [-2.65816229  1.0734387 ]\t 9.08861590265506\t 8.81624267140378\t    \t    \n",
            "init\t [-1.80310794 -2.09855452]\t 510.2220943696988\t 8.81624267140378\t    \t    \n",
            "1  \t [4.5 4.5]\t 174813.36328125\t 8.81624267140378\t 3.217020350849662\t 3.3148173065942546\n",
            "2  \t [ 0.27370324 -0.64421743]\t 10.659901362718623\t 8.81624267140378\t 2.6602732032496443\t 3.0046738619064355\n",
            "3  \t [ 4.5        -2.33226482]\t 4152.839922133158\t 8.81624267140378\t 2.946937516951804\t 3.535937725511026\n",
            "4  \t [-1.38505643  4.5       ]\t 15540.794074572656\t 8.81624267140378\t 2.9119009354937817\t 3.1344383708328816\n",
            "5  \t [-4.5 -4.5]\t 181853.61328125\t 8.81624267140378\t 2.9433477600936224\t 2.9915343759786697\n",
            "\u001b[1m\u001b[92m6\u001b[0m\t \u001b[1m\u001b[92m[1.61475856 0.58940569]\u001b[0m\t \u001b[1m\u001b[92m3.9294156055451275\u001b[0m\t \u001b[1m\u001b[92m3.9294156055451275\u001b[0m\t \u001b[1m\u001b[92m2.678969451707177\u001b[0m\t \u001b[1m\u001b[92m2.700319717164061\u001b[0m\n",
            "7  \t [1.13639461 0.91855626]\t 11.88967445345517\t 3.9294156055451275\t 2.6027319876251265\t 2.603813932250563\n",
            "8  \t [ 0.1633099  -0.47411674]\t 12.069099373069289\t 3.9294156055451275\t 2.4293529368513243\t 2.41331366928948\n",
            "9  \t [-2.93505489  0.53799081]\t 52.99476163608124\t 3.9294156055451275\t 2.490259182879001\t 2.548573301502174\n",
            "10 \t [-0.24418429  1.12421158]\t 13.298337427900336\t 3.9294156055451275\t 2.527205513447223\t 2.527205513447223\n",
            "11 \t [ 0.43320191 -0.71009008]\t 8.866638127484721\t 3.9294156055451275\t 2.679099163216062\t 2.673879467637582\n",
            "12 \t [-0.54469641  0.42642093]\t 20.332443815145268\t 3.9294156055451275\t 2.0772598645646236\t 2.078469695619038\n",
            "13 \t [1.6743751  0.61713444]\t 4.016706824884656\t 3.9294156055451275\t 2.705634099037557\t 2.7075380196026693\n",
            "14 \t [-0.45232074 -0.2699137 ]\t 20.953417854841803\t 3.9294156055451275\t 2.7606059437569965\t 2.7606059437569965\n",
            "\u001b[1m\u001b[92m15\u001b[0m\t \u001b[1m\u001b[92m[-4.36745803  1.24439095]\u001b[0m\t \u001b[1m\u001b[92m2.23448317531831\u001b[0m\t \u001b[1m\u001b[92m2.23448317531831\u001b[0m\t \u001b[1m\u001b[92m2.4764372520150926\u001b[0m\t \u001b[1m\u001b[92m2.5008260747355298\u001b[0m\n",
            "16 \t [0.36503067 1.20046172]\t 16.648489585042586\t 2.23448317531831\t 2.3769114227716504\t 2.3769114227716504\n",
            "17 \t [-0.35770512  0.1922898 ]\t 18.812927262574632\t 2.23448317531831\t 2.5743162266503363\t 2.5743162266503363\n",
            "18 \t [ 0.32595849 -1.19233551]\t 9.367024377859765\t 2.23448317531831\t 2.5131201183481964\t 2.5131202194360225\n",
            "19 \t [-4.5         0.58765387]\t 76.8441697219879\t 2.23448317531831\t 2.4980818908063633\t 2.5144818230038557\n",
            "20 \t [0.61135815 0.85685245]\t 12.104349412384298\t 2.23448317531831\t 2.6053125115320728\t 2.6053125115320728\n"
          ]
        }
      ],
      "source": [
        "### EXACT GP EI GRADIENTS\n",
        "\n",
        "np.random.seed(run_num_2)\n",
        "surrogate_gp_2 = dGaussianProcess(cov_func, optimize=opt)\n",
        "\n",
        "gp_2 = dGPGO_gp(surrogate_gp_2, Acquisition_grad(util_gp), objfunc, param)\n",
        "gp_2.run(init_evals=n_init, max_iter=iters)\n"
      ]
    },
    {
      "cell_type": "code",
      "execution_count": 15,
      "metadata": {
        "id": "-dgzIrUIGCGT",
        "colab": {
          "base_uri": "https://localhost:8080/"
        },
        "outputId": "3abb2800-c640-4b18-e40c-39b2c2b33497"
      },
      "outputs": [
        {
          "output_type": "stream",
          "name": "stdout",
          "text": [
            "Evaluation \t Proposed point \t  Current eval. \t  Best eval. \t        Exact EI: StdDev. x \t Approx EI: StdDev. x \n",
            "init\t [0.45718112 1.8733304 ]\t 41.912714742005974\t 41.912714742005974\t    \t    \n",
            "init\t [-1.88185735  0.09744845]\t 47.451188393399434\t 41.912714742005974\t    \t    \n",
            "init\t [3.53652259 3.5666378 ]\t 27475.816689924115\t 41.912714742005974\t    \t    \n",
            "init\t [-3.36973221 -2.6348141 ]\t 5079.048973002421\t 41.912714742005974\t    \t    \n",
            "init\t [-4.03679517 -0.53271141]\t 138.4086524103332\t 41.912714742005974\t    \t    \n",
            "1  \t [ 2.05653972 -2.20902137]\t 597.1982613652538\t 41.912714742005974\t 2.0314956419089514\t 3.0397654458353562\n",
            "2  \t [-2.94491994  4.42400572]\t 65033.505710735764\t 41.912714742005974\t 2.444674316301569\t 3.208568774174224\n",
            "\u001b[1m\u001b[92m3\u001b[0m\t \u001b[1m\u001b[92m[-0.33703412  0.58613212]\u001b[0m\t \u001b[1m\u001b[92m17.171176850394563\u001b[0m\t \u001b[1m\u001b[92m17.171176850394563\u001b[0m\t \u001b[1m\u001b[92m2.5939089000250726\u001b[0m\t \u001b[1m\u001b[92m2.6449140128816007\u001b[0m\n",
            "4  \t [-0.30200503 -4.44817681]\t 892.296678791928\t 17.171176850394563\t 2.3114448298505823\t 2.939054263749953\n",
            "\u001b[1m\u001b[92m5\u001b[0m\t \u001b[1m\u001b[92m[0.23652124 0.44778653]\u001b[0m\t \u001b[1m\u001b[92m11.929282558852247\u001b[0m\t \u001b[1m\u001b[92m11.929282558852247\u001b[0m\t \u001b[1m\u001b[92m2.520406699334662\u001b[0m\t \u001b[1m\u001b[92m2.52008143769495\u001b[0m\n",
            "6  \t [ 4.46207675 -4.05849301]\t 95598.74424276894\t 11.929282558852247\t 2.528956828390466\t 2.5800624556939447\n",
            "\u001b[1m\u001b[92m7\u001b[0m\t \u001b[1m\u001b[92m[0.69921686 0.06572166]\u001b[0m\t \u001b[1m\u001b[92m6.840673184434644\u001b[0m\t \u001b[1m\u001b[92m6.840673184434644\u001b[0m\t \u001b[1m\u001b[92m2.493795874452547\u001b[0m\t \u001b[1m\u001b[92m2.478014427878641\u001b[0m\n",
            "\u001b[1m\u001b[92m8\u001b[0m\t \u001b[1m\u001b[92m[ 1.31278096 -0.10327376]\u001b[0m\t \u001b[1m\u001b[92m2.625613432619532\u001b[0m\t \u001b[1m\u001b[92m2.625613432619532\u001b[0m\t \u001b[1m\u001b[92m2.596702921587616\u001b[0m\t \u001b[1m\u001b[92m2.5940483113618407\u001b[0m\n",
            "9  \t [0.25649653 0.43804811]\t 11.72347430269404\t 2.625613432619532\t 2.372251636932027\t 2.37698839043975\n",
            "10 \t [-0.24941589 -1.83972621]\t 27.218703433882453\t 2.625613432619532\t 2.623268433089555\t 2.623268433089555\n",
            "\u001b[1m\u001b[92m11\u001b[0m\t \u001b[1m\u001b[92m[ 1.58369716 -0.15549801]\u001b[0m\t \u001b[1m\u001b[92m1.677274624985316\u001b[0m\t \u001b[1m\u001b[92m1.677274624985316\u001b[0m\t \u001b[1m\u001b[92m2.5564564204699227\u001b[0m\t \u001b[1m\u001b[92m2.5481396248122956\u001b[0m\n",
            "12 \t [ 1.21904173 -0.04639716]\t 3.0950236340013744\t 1.677274624985316\t 2.4780930745623624\t 2.4776791023730875\n",
            "13 \t [-4.09536641  0.36456546]\t 93.0170459352445\t 1.677274624985316\t 2.609998239982417\t 2.625059683383987\n",
            "14 \t [0.14759226 0.06759569]\t 12.416820499065905\t 1.677274624985316\t 2.374695450303528\t 2.3775872756395438\n",
            "15 \t [ 0.66998814 -1.17941873]\t 7.044089243447181\t 1.677274624985316\t 2.526514376886212\t 2.526514376886212\n",
            "16 \t [ 1.06461832 -0.04633784]\t 3.9940490651091336\t 1.677274624985316\t 2.674339352211795\t 2.675453429390275\n",
            "17 \t [0.16992995 1.48113172]\t 17.56177941278189\t 1.677274624985316\t 2.3828563608183195\t 2.3828563608183195\n",
            "18 \t [ 1.20886961 -0.09568853]\t 3.1403342812211723\t 1.677274624985316\t 2.8503706173273087\t 2.8501938248751433\n",
            "\u001b[1m\u001b[92m19\u001b[0m\t \u001b[1m\u001b[92m[ 2.21640951 -0.10338718]\u001b[0m\t \u001b[1m\u001b[92m1.062311432950786\u001b[0m\t \u001b[1m\u001b[92m1.062311432950786\u001b[0m\t \u001b[1m\u001b[92m2.5460434336006\u001b[0m\t \u001b[1m\u001b[92m2.5460434336006\u001b[0m\n",
            "20 \t [ 1.15899661 -1.1259901 ]\t 7.520744782883107\t 1.062311432950786\t 2.260353625818895\t 2.260353625818895\n"
          ]
        }
      ],
      "source": [
        "### EXACT GP EI GRADIENTS\n",
        "\n",
        "np.random.seed(run_num_3)\n",
        "surrogate_gp_3 = dGaussianProcess(cov_func, optimize=opt)\n",
        "\n",
        "gp_3 = dGPGO_gp(surrogate_gp_3, Acquisition_grad(util_gp), objfunc, param)\n",
        "gp_3.run(init_evals=n_init, max_iter=iters)\n"
      ]
    },
    {
      "cell_type": "code",
      "execution_count": 16,
      "metadata": {
        "id": "hOtG-2sCGCKS",
        "colab": {
          "base_uri": "https://localhost:8080/"
        },
        "outputId": "20bdc6e6-0de7-46fe-a79f-7b79e387680e"
      },
      "outputs": [
        {
          "output_type": "stream",
          "name": "stdout",
          "text": [
            "Evaluation \t Proposed point \t  Current eval. \t  Best eval. \t        Exact EI: StdDev. x \t Approx EI: StdDev. x \n",
            "init\t [4.20326855 0.42509024]\t 3.8409856613776237\t 3.8409856613776237\t    \t    \n",
            "init\t [4.25415924 1.93334394]\t 1070.6518137934977\t 3.8409856613776237\t    \t    \n",
            "init\t [ 1.77955942 -2.55519454]\t 1001.3529311398922\t 3.8409856613776237\t    \t    \n",
            "init\t [ 4.28647009 -4.4439277 ]\t 150069.47442764963\t 3.8409856613776237\t    \t    \n",
            "init\t [-2.22315874 -0.58687621]\t 67.08861688517413\t 3.8409856613776237\t    \t    \n",
            "1  \t [-1.15548213  4.5       ]\t 10711.048216233725\t 3.8409856613776237\t 2.527545342079015\t 3.2301702354917645\n",
            "2  \t [-4.5 -4.5]\t 181853.61328125\t 3.8409856613776237\t 2.8384856078495373\t 2.8297069055200472\n",
            "3  \t [-4.04702316  0.52623137]\t 75.46670629817017\t 3.8409856613776237\t 2.786176092547806\t 2.8380156770753473\n",
            "4  \t [0.18485017 0.64378153]\t 12.841405492691969\t 3.8409856613776237\t 2.660918458125654\t 2.660955491429588\n",
            "5  \t [-0.16111583  0.53775297]\t 15.693408644408636\t 3.8409856613776237\t 2.419510680927564\t 2.431599963920107\n",
            "\u001b[1m\u001b[92m6\u001b[0m\t \u001b[1m\u001b[92m[1.92418858 0.19356408]\u001b[0m\t \u001b[1m\u001b[92m0.6718956334076787\u001b[0m\t \u001b[1m\u001b[92m0.6718956334076787\u001b[0m\t \u001b[1m\u001b[92m2.6122659976211655\u001b[0m\t \u001b[1m\u001b[92m2.604194747173686\u001b[0m\n",
            "7  \t [ 3.03172196 -0.16454275]\t 4.789301741350758\t 0.6718956334076787\t 2.0892901762682032\t 2.1219239424131766\n",
            "8  \t [1.61289764 0.34356121]\t 2.040432470116755\t 0.6718956334076787\t 2.359327743033501\t 2.339912338165452\n",
            "9  \t [-0.62508139 -1.01514705]\t 27.833781277805606\t 0.6718956334076787\t 2.374077306528876\t 2.374077306528876\n",
            "10 \t [2.00077025 0.89650121]\t 9.388851881869538\t 0.6718956334076787\t 3.1888002798908994\t 3.1888002798908994\n",
            "11 \t [1.68267174 1.60274265]\t 92.1687068186896\t 0.6718956334076787\t 2.85711078142276\t 2.85711078142276\n",
            "12 \t [ 3.26416592 -0.20937267]\t 7.197211946003769\t 0.6718956334076787\t 2.640330906939982\t 2.7428699186623877\n",
            "13 \t [1.01783185 0.66176926]\t 7.769308187977419\t 0.6718956334076787\t 2.531493023694388\t 2.531493023694388\n",
            "14 \t [-0.75485471  1.04199996]\t 13.311114503878152\t 0.6718956334076787\t 2.3514660664150173\t 2.3514660664150173\n",
            "\u001b[1m\u001b[92m15\u001b[0m\t \u001b[1m\u001b[92m[2.40257192 0.32987742]\u001b[0m\t \u001b[1m\u001b[92m0.11923650225605985\u001b[0m\t \u001b[1m\u001b[92m0.11923650225605985\u001b[0m\t \u001b[1m\u001b[92m2.5893740779023227\u001b[0m\t \u001b[1m\u001b[92m2.5893740779023227\u001b[0m\n",
            "16 \t [-0.35547889 -0.15136692]\t 19.28212515619054\t 0.11923650225605985\t 2.506309135672555\t 2.506309135672555\n",
            "17 \t [1.24668955 0.2685084 ]\t 3.5077322660503047\t 0.11923650225605985\t 2.4832984346725007\t 2.4921501136752613\n",
            "18 \t [ 3.00877626 -0.17012954]\t 4.693101913974758\t 0.11923650225605985\t 2.5645147228526426\t 2.61241571137277\n",
            "19 \t [ 0.38233586 -0.14433148]\t 9.671236974025433\t 0.11923650225605985\t 2.663826507669348\t 2.663826507669348\n",
            "20 \t [-1.21095663 -0.25525958]\t 35.4285665154855\t 0.11923650225605985\t 2.4235096009377775\t 2.4235096009377775\n"
          ]
        }
      ],
      "source": [
        "### EXACT GP EI GRADIENTS\n",
        "\n",
        "np.random.seed(run_num_4)\n",
        "surrogate_gp_4 = dGaussianProcess(cov_func, optimize=opt)\n",
        "\n",
        "gp_4= dGPGO_gp(surrogate_gp_4, Acquisition_grad(util_gp), objfunc, param)\n",
        "gp_4.run(init_evals=n_init, max_iter=iters)\n"
      ]
    },
    {
      "cell_type": "code",
      "execution_count": 17,
      "metadata": {
        "id": "JF_SxcEvGCOl",
        "colab": {
          "base_uri": "https://localhost:8080/"
        },
        "outputId": "f18b6dc6-f6d8-4ed7-ffbc-f84877c39c09"
      },
      "outputs": [
        {
          "output_type": "stream",
          "name": "stdout",
          "text": [
            "Evaluation \t Proposed point \t  Current eval. \t  Best eval. \t        Exact EI: StdDev. x \t Approx EI: StdDev. x \n",
            "init\t [-2.50206146  3.33659076]\t 8263.905568073349\t 0.311397019260738\t    \t    \n",
            "init\t [-2.6395276   3.76749817]\t 19560.15202528338\t 0.311397019260738\t    \t    \n",
            "init\t [-0.1042993   1.00569477]\t 14.186578993925806\t 0.311397019260738\t    \t    \n",
            "init\t [2.39317071 0.16576189]\t 0.311397019260738\t 0.311397019260738\t    \t    \n",
            "init\t [-1.82879549 -2.81050894]\t 2208.9823086257425\t 0.311397019260738\t    \t    \n",
            "1  \t [ 3.80474653 -4.48007209]\t 123826.98871542915\t 0.311397019260738\t 3.254831965079065\t 3.373847826573162\n",
            "2  \t [3.29285857 4.5       ]\t 94114.63035209569\t 0.311397019260738\t 2.940652915113163\t 3.081941981108914\n",
            "3  \t [4.12554738 0.22865825]\t 7.690959455936971\t 0.311397019260738\t 2.5922208718089674\t 2.847863780448468\n",
            "4  \t [ 1.80691706 -0.85143582]\t 6.566799899134696\t 0.311397019260738\t 2.5528137233249786\t 2.532103381501071\n",
            "5  \t [ 3.4982641  -0.71382815]\t 25.09828511024789\t 0.311397019260738\t 2.4540348555268987\t 2.5116371700329982\n",
            "6  \t [-4.5        -0.39030235]\t 151.58904426666703\t 0.311397019260738\t 2.870388275239493\t 2.8453093082745813\n",
            "7  \t [2.191962  0.6748951]\t 2.9611647212178767\t 0.311397019260738\t 2.2666171595025695\t 2.2177247435329197\n",
            "8  \t [ 0.91580727 -1.42136678]\t 11.502625475094378\t 0.311397019260738\t 2.73498679967864\t 2.6917879359396384\n",
            "9  \t [1.76926434 0.80431859]\t 7.128315360500123\t 0.311397019260738\t 2.528015238608971\t 2.3750420144957487\n",
            "10 \t [-4.5 -4.5]\t 181853.61328125\t 0.311397019260738\t 2.5518847400679463\t 2.5534021653683574\n",
            "11 \t [ 2.48680236 -0.0619473 ]\t 1.3721280531744025\t 0.311397019260738\t 2.6066998796982697\t 2.593693167559717\n",
            "12 \t [ 2.33608848 -0.0517617 ]\t 1.0055205971204009\t 0.311397019260738\t 2.349642701243347\t 2.3137642097144884\n",
            "13 \t [0.16962188 0.8610693 ]\t 13.61932779356935\t 0.311397019260738\t 2.575830085146745\t 2.5888353209721244\n",
            "14 \t [1.45531178 0.25100945]\t 2.3763024944421085\t 0.311397019260738\t 2.136802643599105\t 2.1527095746847102\n",
            "15 \t [1.94306221 0.07933714]\t 0.6516980332216753\t 0.311397019260738\t 2.4067435279080405\t 2.438058131168903\n",
            "\u001b[1m\u001b[92m16\u001b[0m\t \u001b[1m\u001b[92m[3.33553443 0.49000973]\u001b[0m\t \u001b[1m\u001b[92m0.22263807471302513\u001b[0m\t \u001b[1m\u001b[92m0.22263807471302513\u001b[0m\t \u001b[1m\u001b[92m2.448290592429518\u001b[0m\t \u001b[1m\u001b[92m2.448290592429518\u001b[0m\n",
            "17 \t [2.62921364 0.0548957 ]\t 1.107861672841812\t 0.22263807471302513\t 2.404389368601384\t 2.5428071393252663\n",
            "18 \t [0.96308814 0.50977646]\t 6.621782760566147\t 0.22263807471302513\t 2.5013320924981266\t 2.59117103831989\n",
            "19 \t [-0.30150936  0.04884947]\t 18.263365834743936\t 0.22263807471302513\t 2.3139746043635587\t 2.3139752129238924\n",
            "20 \t [2.26971489 0.10103411]\t 0.4199363808907239\t 0.22263807471302513\t 2.5458346494822437\t 2.636648621183713\n"
          ]
        }
      ],
      "source": [
        "### EXACT GP EI GRADIENTS\n",
        "\n",
        "np.random.seed(run_num_5)\n",
        "surrogate_gp_5 = dGaussianProcess(cov_func, optimize=opt)\n",
        "\n",
        "gp_5 = dGPGO_gp(surrogate_gp_5, Acquisition_grad(util_gp), objfunc, param)\n",
        "gp_5.run(init_evals=n_init, max_iter=iters)\n"
      ]
    },
    {
      "cell_type": "code",
      "execution_count": 18,
      "metadata": {
        "id": "-kDxZtJsGCR3",
        "colab": {
          "base_uri": "https://localhost:8080/"
        },
        "outputId": "8ae263c5-24fd-45f2-b71c-f04693cc82bb"
      },
      "outputs": [
        {
          "output_type": "stream",
          "name": "stdout",
          "text": [
            "Evaluation \t Proposed point \t  Current eval. \t  Best eval. \t        Exact EI: StdDev. x \t Approx EI: StdDev. x \n",
            "init\t [ 3.53574136 -1.51218175]\t 273.3122030790333\t 10.038000709758428\t    \t    \n",
            "init\t [ 2.89106211 -4.12473037]\t 43803.250406689425\t 10.038000709758428\t    \t    \n",
            "init\t [-3.53108988  0.85546858]\t 29.828433746298536\t 10.038000709758428\t    \t    \n",
            "init\t [ 0.26835626 -0.73073314]\t 10.658925295067505\t 10.038000709758428\t    \t    \n",
            "init\t [-1.48132936  1.10267489]\t 10.038000709758428\t 10.038000709758428\t    \t    \n",
            "1  \t [4.5        1.29315521]\t 97.49404147046806\t 10.038000709758428\t 3.4108246737384555\t 3.346124791013239\n",
            "2  \t [-4.5 -4.5]\t 181853.61328125\t 10.038000709758428\t 3.5084284902423275\t 3.797149841751602\n",
            "3  \t [1.34038039 4.48968338]\t 15846.111140367186\t 10.038000709758428\t 3.1078014131162246\t 3.0659575810875257\n",
            "4  \t [-2.83945502  3.50029479]\t 14440.965394325414\t 10.038000709758428\t 2.5092434199254474\t 3.377440487670838\n",
            "5  \t [-1.08929429  0.42426011]\t 27.589590237357974\t 10.038000709758428\t 2.4585528456248604\t 2.4473915747367987\n",
            "6  \t [-3.12884128 -0.06056421]\t 85.13966362941997\t 10.038000709758428\t 2.69893539451636\t 2.7760053153583315\n",
            "7  \t [-0.03905264  0.91679288]\t 14.288070033974712\t 10.038000709758428\t 2.8938066648892553\t 2.895072153814905\n",
            "\u001b[1m\u001b[92m8\u001b[0m\t \u001b[1m\u001b[92m[2.0748872  0.10865784]\u001b[0m\t \u001b[1m\u001b[92m0.4675083597108589\u001b[0m\t \u001b[1m\u001b[92m0.4675083597108589\u001b[0m\t \u001b[1m\u001b[92m2.7292193382964083\u001b[0m\t \u001b[1m\u001b[92m2.7193919530902355\u001b[0m\n",
            "9  \t [1.93239715 0.28022517]\t 0.772600134555352\t 0.4675083597108589\t 2.4034743914942007\t 2.4145718906575855\n",
            "10 \t [-1.12874295 -1.68355619]\t 104.0819818636333\t 0.4675083597108589\t 2.498545735742462\t 2.5122677893618923\n",
            "11 \t [3.59227572 0.04673578]\t 6.418883599706605\t 0.4675083597108589\t 2.8802227040205435\t 2.8802227040205435\n",
            "12 \t [-4.29515562  0.77324209]\t 46.285871808620556\t 0.4675083597108589\t 2.4191803351129484\t 2.4191803351129484\n",
            "13 \t [1.42552329 0.56917346]\t 4.57765853167245\t 0.4675083597108589\t 2.3819746996580666\t 2.386931051698347\n",
            "\u001b[1m\u001b[92m14\u001b[0m\t \u001b[1m\u001b[92m[2.10887906 0.19974104]\u001b[0m\t \u001b[1m\u001b[92m0.36996404404565864\u001b[0m\t \u001b[1m\u001b[92m0.36996404404565864\u001b[0m\t \u001b[1m\u001b[92m2.6241612793604987\u001b[0m\t \u001b[1m\u001b[92m2.5975870536064196\u001b[0m\n",
            "15 \t [-1.17470735  0.71417297]\t 22.72289373806676\t 0.36996404404565864\t 2.5378439308114076\t 2.536886551460198\n",
            "16 \t [-1.26337766  0.10087594]\t 34.31119252118213\t 0.36996404404565864\t 2.5405893126149497\t 2.5405893126149497\n",
            "17 \t [1.63181638 0.46744863]\t 2.6935378019569156\t 0.36996404404565864\t 2.906889239859989\t 2.901630066198136\n",
            "18 \t [ 3.64691005 -0.26269013]\t 12.135895398259319\t 0.36996404404565864\t 2.638474185838609\t 2.638474185838609\n",
            "19 \t [ 2.66978282 -0.06121113]\t 1.9474109518755593\t 0.36996404404565864\t 2.7904997670707874\t 2.779285996351692\n",
            "20 \t [1.94599455 0.30504495]\t 0.796212011955509\t 0.36996404404565864\t 2.6592263875019673\t 2.67634712299835\n"
          ]
        }
      ],
      "source": [
        "### EXACT GP EI GRADIENTS\n",
        "\n",
        "np.random.seed(run_num_6)\n",
        "surrogate_gp_6 = dGaussianProcess(cov_func, optimize=opt)\n",
        "\n",
        "gp_6 = dGPGO_gp(surrogate_gp_6, Acquisition_grad(util_gp), objfunc, param)\n",
        "gp_6.run(init_evals=n_init, max_iter=iters)\n"
      ]
    },
    {
      "cell_type": "code",
      "execution_count": 19,
      "metadata": {
        "id": "fKB8MCD_GCVI",
        "colab": {
          "base_uri": "https://localhost:8080/"
        },
        "outputId": "5f2d15f5-17a4-4770-a9ff-f3dcad8d0af9"
      },
      "outputs": [
        {
          "output_type": "stream",
          "name": "stdout",
          "text": [
            "Evaluation \t Proposed point \t  Current eval. \t  Best eval. \t        Exact EI: StdDev. x \t Approx EI: StdDev. x \n",
            "init\t [-3.8132254   2.51926913]\t 3321.1422834954587\t 2.9676923934097053\t    \t    \n",
            "init\t [-0.55431692  2.0111866 ]\t 2.9676923934097053\t 2.9676923934097053\t    \t    \n",
            "init\t [4.30190561 0.34646283]\t 6.32173172477085\t 2.9676923934097053\t    \t    \n",
            "init\t [ 0.01008417 -3.8515398 ]\t 11.971894461559128\t 2.9676923934097053\t    \t    \n",
            "init\t [-2.08404918e+00 -1.05749257e-03]\t 53.820317186435204\t 2.9676923934097053\t    \t    \n",
            "1  \t [0.33335076 2.03706478]\t 40.40304240269206\t 2.9676923934097053\t 2.10557998638403\t 2.595758271865654\n",
            "2  \t [-4.5 -4.5]\t 181853.61328125\t 2.9676923934097053\t 3.3741043252719294\t 3.868460184922477\n",
            "3  \t [4.5 4.5]\t 174813.36328125\t 2.9676923934097053\t 3.096754670342442\t 3.4458440060521354\n",
            "4  \t [ 2.3497627  -2.80773064]\t 3071.4431889655943\t 2.9676923934097053\t 2.625054831961045\t 2.6485794149289896\n",
            "5  \t [-1.46669149  4.3669769 ]\t 14537.036444724683\t 2.9676923934097053\t 2.710988860738283\t 2.7339791976049828\n",
            "6  \t [3.55688736 0.23882211]\t 3.4571872769964855\t 2.9676923934097053\t 2.7904998281879037\t 2.8237515186563527\n",
            "7  \t [0.55899711 0.61400326]\t 10.085654533929794\t 2.9676923934097053\t 2.3617791595736226\t 2.362365175555314\n",
            "8  \t [-0.80611812  1.28249142]\t 7.6076170973841855\t 2.9676923934097053\t 2.709519295642029\t 2.7094051847586256\n",
            "9  \t [-0.03636364  1.17739541]\t 14.000645767640366\t 2.9676923934097053\t 2.7155090758384413\t 2.714395108203092\n",
            "10 \t [0.72965263 1.15975046]\t 18.07427493726496\t 2.9676923934097053\t 2.852028346595881\t 2.8672952885688634\n",
            "11 \t [-1.75933534 -0.40966037]\t 49.93294899528902\t 2.9676923934097053\t 2.5092915636476474\t 2.5092915636476474\n",
            "12 \t [-0.09908992  1.17253666]\t 13.67163785715014\t 2.9676923934097053\t 2.6999111406838843\t 2.7011794926925248\n",
            "13 \t [0.15183169 1.2582132 ]\t 15.5418360903966\t 2.9676923934097053\t 2.6188838023880385\t 2.6333669810231015\n",
            "14 \t [0.60413421 1.31543496]\t 21.633528531510134\t 2.9676923934097053\t 2.3063849082055285\t 2.305395910681268\n",
            "15 \t [-1.17091733 -1.3904274 ]\t 68.03203609966735\t 2.9676923934097053\t 2.8459161012140153\t 2.8459161012140153\n",
            "16 \t [4.39035801 0.01203308]\t 15.746441304094546\t 2.9676923934097053\t 2.3081364674235485\t 2.303795529451587\n",
            "17 \t [ 3.9338529  -0.45831965]\t 21.533859628663823\t 2.9676923934097053\t 2.112523303008269\t 2.112523303008269\n",
            "18 \t [ 0.5053372 -4.4590609]\t 1962.55074481906\t 2.9676923934097053\t 2.8510949111895774\t 2.8510949111895774\n",
            "19 \t [0.86137076 0.67285866]\t 8.752261262934077\t 2.9676923934097053\t 2.7154632295142997\t 2.7154632295142997\n",
            "20 \t [0.13210253 1.20361264]\t 15.08018293454593\t 2.9676923934097053\t 2.606222613128566\t 2.608895158245088\n"
          ]
        }
      ],
      "source": [
        "### EXACT GP EI GRADIENTS\n",
        "\n",
        "np.random.seed(run_num_7)\n",
        "surrogate_gp_7 = dGaussianProcess(cov_func, optimize=opt)\n",
        "\n",
        "gp_7 = dGPGO_gp(surrogate_gp_7, Acquisition_grad(util_gp), objfunc, param)\n",
        "gp_7.run(init_evals=n_init, max_iter=iters)\n"
      ]
    },
    {
      "cell_type": "code",
      "execution_count": 20,
      "metadata": {
        "id": "4unvifF-GCXp",
        "colab": {
          "base_uri": "https://localhost:8080/"
        },
        "outputId": "2788ba94-785a-4799-c18e-bc5ff5d83ccf"
      },
      "outputs": [
        {
          "output_type": "stream",
          "name": "stdout",
          "text": [
            "Evaluation \t Proposed point \t  Current eval. \t  Best eval. \t        Exact EI: StdDev. x \t Approx EI: StdDev. x \n",
            "init\t [3.36086463 4.21686597]\t 66731.07602386779\t 1.8693348557707412\t    \t    \n",
            "init\t [3.32275086 0.27770122]\t 1.8693348557707412\t 1.8693348557707412\t    \t    \n",
            "init\t [-2.40544505 -4.39741076]\t 45883.361726150484\t 1.8693348557707412\t    \t    \n",
            "init\t [-0.62578064 -0.87883776]\t 26.39306084619828\t 1.8693348557707412\t    \t    \n",
            "init\t [ 0.20407204 -0.19447384]\t 11.649230998110728\t 1.8693348557707412\t    \t    \n",
            "1  \t [ 3.29328857 -0.40328063]\t 10.782895625484445\t 1.8693348557707412\t 2.541646113636367\t 2.951686368875979\n",
            "2  \t [-4.42522463  2.59724938]\t 5535.695265667181\t 1.8693348557707412\t 2.542055178951243\t 3.48578738568144\n",
            "3  \t [-0.33624711  1.41514101]\t 9.543155837477817\t 1.8693348557707412\t 2.338436187530064\t 2.341089715090435\n",
            "4  \t [ 2.74487273 -3.64535999]\t 19133.283437908176\t 1.8693348557707412\t 2.75018350425386\t 3.192804199774514\n",
            "5  \t [-0.21134311  1.09596389]\t 13.606616019667854\t 1.8693348557707412\t 2.4794967724959593\t 2.490466311465005\n",
            "\u001b[1m\u001b[92m6\u001b[0m\t \u001b[1m\u001b[92m[2.51247877 0.14729774]\u001b[0m\t \u001b[1m\u001b[92m0.47045559247114155\u001b[0m\t \u001b[1m\u001b[92m0.47045559247114155\u001b[0m\t \u001b[1m\u001b[92m2.7232884020853643\u001b[0m\t \u001b[1m\u001b[92m2.769788390071857\u001b[0m\n",
            "7  \t [3.15459674 0.09462545]\t 2.8846236166352655\t 0.47045559247114155\t 2.6874158613911066\t 2.717345419108106\n",
            "8  \t [0.05636795 0.95365394]\t 14.133141143125764\t 0.47045559247114155\t 2.721145720872613\t 2.721145720872613\n",
            "9  \t [ 0.4201085  -0.01463258]\t 9.36329952609649\t 0.47045559247114155\t 2.4125844727549333\t 2.4125844727549333\n",
            "10 \t [ 4.32398786 -0.03065583]\t 15.912717827929667\t 0.47045559247114155\t 2.5896606340140558\t 2.620158455186527\n",
            "11 \t [-4.40407236 -0.64306126]\t 166.92069928043009\t 0.47045559247114155\t 2.464886829376934\t 2.464886829376934\n",
            "12 \t [3.02101602 0.08701521]\t 2.2978930820832306\t 0.47045559247114155\t 2.225782041909512\t 2.2220067844932228\n",
            "13 \t [3.43776527 0.04155322]\t 5.278627262773176\t 0.47045559247114155\t 2.3153076066382696\t 2.299879601341776\n",
            "14 \t [0.09465198 0.58514818]\t 13.41901284314261\t 0.47045559247114155\t 2.5419588941453886\t 2.5419588941453886\n",
            "15 \t [-0.68267787  2.44914876]\t 46.7889512106129\t 0.47045559247114155\t 2.3657714131426393\t 2.3700805564498646\n",
            "16 \t [1.46027289 0.27365905]\t 2.4285770750802165\t 0.47045559247114155\t 2.4047255062085497\t 2.4277518021124433\n",
            "17 \t [-1.11343152 -0.03531676]\t 32.316673896109634\t 0.47045559247114155\t 2.7022557222287786\t 2.702255867965611\n",
            "18 \t [1.4014254  0.27531812]\t 2.715864446215241\t 0.47045559247114155\t 2.673868298731129\t 2.725959583611118\n",
            "19 \t [-0.50047637 -0.35635446]\t 21.877506170063675\t 0.47045559247114155\t 2.2582369258795465\t 2.2582369258795465\n",
            "20 \t [1.8196276  0.56164509]\t 2.7738812306516496\t 0.47045559247114155\t 2.3292748178574127\t 2.3292748178574127\n"
          ]
        }
      ],
      "source": [
        "### EXACT GP EI GRADIENTS\n",
        "\n",
        "np.random.seed(run_num_8)\n",
        "surrogate_gp_8 = dGaussianProcess(cov_func, optimize=opt)\n",
        "\n",
        "gp_8 = dGPGO_gp(surrogate_gp_8, Acquisition_grad(util_gp), objfunc, param)\n",
        "gp_8.run(init_evals=n_init, max_iter=iters)\n"
      ]
    },
    {
      "cell_type": "code",
      "execution_count": 21,
      "metadata": {
        "id": "85OIXcg7GCaJ",
        "colab": {
          "base_uri": "https://localhost:8080/"
        },
        "outputId": "8c71193f-76b8-4184-9d91-5f42b4d5d779"
      },
      "outputs": [
        {
          "output_type": "stream",
          "name": "stdout",
          "text": [
            "Evaluation \t Proposed point \t  Current eval. \t  Best eval. \t        Exact EI: StdDev. x \t Approx EI: StdDev. x \n",
            "init\t [-4.40663262  0.01687133]\t 127.7531900635415\t 22.479204656276803\t    \t    \n",
            "init\t [-0.03804036 -3.29553424]\t 22.479204656276803\t 22.479204656276803\t    \t    \n",
            "init\t [-3.22100023 -2.53297192]\t 3783.0538402600087\t 22.479204656276803\t    \t    \n",
            "init\t [-0.73342638 -2.26708948]\t 157.51337782244087\t 22.479204656276803\t    \t    \n",
            "init\t [-3.74346314 -1.39051224]\t 380.7730677650304\t 22.479204656276803\t    \t    \n",
            "1  \t [2.73365793 4.35023323]\t 53339.37070055468\t 22.479204656276803\t 2.64688375429922\t 2.6863173383564107\n",
            "2  \t [ 3.51004975 -1.83705246]\t 696.4360705785421\t 22.479204656276803\t 2.652718621486046\t 2.9430526450439918\n",
            "3  \t [-1.95598389  3.25419272]\t 4227.873593975707\t 22.479204656276803\t 2.490359194831831\t 2.7818056827914255\n",
            "\u001b[1m\u001b[92m4\u001b[0m\t \u001b[1m\u001b[92m[0.86980917 0.66073387]\u001b[0m\t \u001b[1m\u001b[92m8.573527323702875\u001b[0m\t \u001b[1m\u001b[92m8.573527323702875\u001b[0m\t \u001b[1m\u001b[92m2.7394515165022186\u001b[0m\t \u001b[1m\u001b[92m2.8479549374672226\u001b[0m\n",
            "5  \t [3.42507379 0.95219299]\t 10.163949442881325\t 8.573527323702875\t 2.5332026912402967\t 2.9674775372519564\n",
            "6  \t [-0.43545299  0.0036874 ]\t 20.317763752073244\t 8.573527323702875\t 2.5092012391192253\t 2.4181784917700813\n",
            "7  \t [ 1.46118287 -4.05610584]\t 9932.968834533214\t 8.573527323702875\t 2.4104694445955817\t 2.8258511094817345\n",
            "8  \t [-2.13834735  0.34104028]\t 47.4880125442716\t 8.573527323702875\t 2.5797638944179297\t 2.8164451547232146\n",
            "\u001b[1m\u001b[92m9\u001b[0m\t \u001b[1m\u001b[92m[2.07514948 0.59230213]\u001b[0m\t \u001b[1m\u001b[92m2.2052856045412215\u001b[0m\t \u001b[1m\u001b[92m2.2052856045412215\u001b[0m\t \u001b[1m\u001b[92m2.7892567332286897\u001b[0m\t \u001b[1m\u001b[92m2.9837594459627725\u001b[0m\n",
            "10 \t [4.5       1.9590413]\t 1280.7589872312992\t 2.2052856045412215\t 2.3660222112938767\t 2.2843575087306602\n",
            "11 \t [-0.84293585 -3.38945265]\t 1387.541355143323\t 2.2052856045412215\t 2.67272149793497\t 2.899714489065967\n",
            "12 \t [-4.5 -4.5]\t 181853.61328125\t 2.2052856045412215\t 2.6213658955210257\t 2.7093614334631058\n",
            "13 \t [-0.34939302 -0.51587672]\t 19.5361802300718\t 2.2052856045412215\t 1.9880817381091151\t 1.9924279710488446\n",
            "14 \t [ 0.1798362  -1.54956627]\t 10.498921812910929\t 2.2052856045412215\t 2.3007884096641544\t 2.3254751291807567\n",
            "15 \t [ 0.02659705 -1.36948366]\t 13.634088692964038\t 2.2052856045412215\t 2.4190379788137806\t 2.4202568894456995\n",
            "\u001b[1m\u001b[92m16\u001b[0m\t \u001b[1m\u001b[92m[2.55750935 0.50938316]\u001b[0m\t \u001b[1m\u001b[92m0.35138890527889544\u001b[0m\t \u001b[1m\u001b[92m0.35138890527889544\u001b[0m\t \u001b[1m\u001b[92m2.627320411039476\u001b[0m\t \u001b[1m\u001b[92m2.6289410384780143\u001b[0m\n",
            "17 \t [0.9599789  0.14890642]\t 4.968831209620454\t 0.35138890527889544\t 2.3465040995535205\t 2.3465040170688347\n",
            "18 \t [2.39601458 0.56059572]\t 0.9923314334323221\t 0.35138890527889544\t 2.499313207478464\t 2.504972972498725\n",
            "19 \t [ 0.22313044 -0.29276427]\t 11.39604620408699\t 0.35138890527889544\t 2.5438732319571473\t 2.5438732319571473\n",
            "20 \t [ 0.80341134 -0.61857391]\t 5.777935673537694\t 0.35138890527889544\t 2.725656975824694\t 2.725656975824694\n"
          ]
        }
      ],
      "source": [
        "### EXACT GP EI GRADIENTS\n",
        "\n",
        "np.random.seed(run_num_9)\n",
        "surrogate_gp_9 = dGaussianProcess(cov_func, optimize=opt)\n",
        "\n",
        "gp_9 = dGPGO_gp(surrogate_gp_9, Acquisition_grad(util_gp), objfunc, param)\n",
        "gp_9.run(init_evals=n_init, max_iter=iters)\n"
      ]
    },
    {
      "cell_type": "code",
      "execution_count": 22,
      "metadata": {
        "id": "QQBR-qJPGCcp",
        "colab": {
          "base_uri": "https://localhost:8080/"
        },
        "outputId": "d074d1eb-578c-41c9-bf9d-b4e44252b14c"
      },
      "outputs": [
        {
          "output_type": "stream",
          "name": "stdout",
          "text": [
            "Evaluation \t Proposed point \t  Current eval. \t  Best eval. \t        Exact EI: StdDev. x \t Approx EI: StdDev. x \n",
            "init\t [ 2.44188579 -4.31323246]\t 40500.708995062356\t 15.229523981513257\t    \t    \n",
            "init\t [1.20283411 2.23923494]\t 281.8768699287936\t 15.229523981513257\t    \t    \n",
            "init\t [-0.01343689 -2.47683019]\t 15.229523981513257\t 15.229523981513257\t    \t    \n",
            "init\t [-2.71743422  2.34477641]\t 985.5637470908332\t 15.229523981513257\t    \t    \n",
            "init\t [-2.97800247 -3.70494167]\t 26177.1461164703\t 15.229523981513257\t    \t    \n",
            "1  \t [4.5 4.5]\t 174813.36328125\t 15.229523981513257\t 2.852629608744508\t 2.9841811721914824\n",
            "\u001b[1m\u001b[92m2\u001b[0m\t \u001b[1m\u001b[92m[ 0.01131507 -1.54520536]\u001b[0m\t \u001b[1m\u001b[92m13.912704377077258\u001b[0m\t \u001b[1m\u001b[92m13.912704377077258\u001b[0m\t \u001b[1m\u001b[92m2.2232875401763565\u001b[0m\t \u001b[1m\u001b[92m2.503076914007926\u001b[0m\n",
            "\u001b[1m\u001b[92m3\u001b[0m\t \u001b[1m\u001b[92m[ 3.49845019 -0.02375826]\u001b[0m\t \u001b[1m\u001b[92m6.6496206326291585\u001b[0m\t \u001b[1m\u001b[92m6.6496206326291585\u001b[0m\t \u001b[1m\u001b[92m2.1858971128060998\u001b[0m\t \u001b[1m\u001b[92m3.0080877673980573\u001b[0m\n",
            "4  \t [-0.85490887  4.5       ]\t 5742.946736473693\t 6.6496206326291585\t 2.7867979032625105\t 3.187455801829355\n",
            "5  \t [-4.5        -0.01811788]\t 133.29357958281327\t 6.6496206326291585\t 2.763601879526052\t 2.763523807555675\n",
            "\u001b[1m\u001b[92m6\u001b[0m\t \u001b[1m\u001b[92m[2.60026757 0.00607349]\u001b[0m\t \u001b[1m\u001b[92m1.2993176675175877\u001b[0m\t \u001b[1m\u001b[92m1.2993176675175877\u001b[0m\t \u001b[1m\u001b[92m2.664117279461925\u001b[0m\t \u001b[1m\u001b[92m2.729627748274252\u001b[0m\n",
            "7  \t [-0.16905251 -1.21200523]\t 17.802918082026686\t 1.2993176675175877\t 2.561032479978094\t 2.67156575031892\n",
            "8  \t [1.34014636 0.01571398]\t 2.5120275573231794\t 1.2993176675175877\t 2.497782550223044\t 2.497782550223044\n",
            "9  \t [1.71975555 0.56562342]\t 3.2140925370513385\t 1.2993176675175877\t 2.799361468501308\t 2.799361468501308\n",
            "\u001b[1m\u001b[92m10\u001b[0m\t \u001b[1m\u001b[92m[ 2.43140439 -0.04525256]\u001b[0m\t \u001b[1m\u001b[92m1.1530979045658902\u001b[0m\t \u001b[1m\u001b[92m1.1530979045658902\u001b[0m\t \u001b[1m\u001b[92m2.7040134539148317\u001b[0m\t \u001b[1m\u001b[92m2.687734259311598\u001b[0m\n",
            "11 \t [ 2.58291634 -0.04792039]\t 1.5647688235765649\t 1.1530979045658902\t 2.336218795982769\t 2.3230807381989567\n",
            "12 \t [ 3.57028693 -1.14052158]\t 87.73955942511631\t 1.1530979045658902\t 2.7658258722094997\t 2.7658258722094997\n",
            "13 \t [ 0.39725589 -0.51168314]\t 9.366495230128253\t 1.1530979045658902\t 2.6469940738353155\t 2.6572775880500497\n",
            "\u001b[1m\u001b[92m14\u001b[0m\t \u001b[1m\u001b[92m[ 2.01584149 -0.01312307]\u001b[0m\t \u001b[1m\u001b[92m0.7201458713428086\u001b[0m\t \u001b[1m\u001b[92m0.7201458713428086\u001b[0m\t \u001b[1m\u001b[92m2.5106521797297394\u001b[0m\t \u001b[1m\u001b[92m2.5114441595278243\u001b[0m\n",
            "15 \t [-0.04180618 -0.57910515]\t 14.795941728429622\t 0.7201458713428086\t 2.6527832074759012\t 2.6527832074759012\n",
            "16 \t [ 4.5        -0.15170357]\t 21.74400921325822\t 0.7201458713428086\t 2.722446812834771\t 2.72244871317375\n",
            "17 \t [1.81055612 0.47777775]\t 2.058585005766181\t 0.7201458713428086\t 2.5619290036584816\t 2.5619290036584816\n",
            "18 \t [1.78700162 0.02519833]\t 0.9762592201435878\t 0.7201458713428086\t 2.4258429291360173\t 2.4349387534030686\n",
            "19 \t [-0.0946695  -1.39061395]\t 16.498855392193924\t 0.7201458713428086\t 2.225165985263401\t 2.2271194413577855\n",
            "20 \t [-0.13556438 -2.20445338]\t 24.471690148926058\t 0.7201458713428086\t 2.8461829251676027\t 2.8461829251676027\n"
          ]
        }
      ],
      "source": [
        "### EXACT GP EI GRADIENTS\n",
        "\n",
        "np.random.seed(run_num_10)\n",
        "surrogate_gp_10 = dGaussianProcess(cov_func, optimize=opt)\n",
        "\n",
        "gp_10 = dGPGO_gp(surrogate_gp_10, Acquisition_grad(util_gp), objfunc, param)\n",
        "gp_10.run(init_evals=n_init, max_iter=iters)\n"
      ]
    },
    {
      "cell_type": "code",
      "execution_count": 23,
      "metadata": {
        "id": "JS8ejeQ2GCfi",
        "colab": {
          "base_uri": "https://localhost:8080/"
        },
        "outputId": "52f49b1a-4459-48d6-a505-b8c22d304882"
      },
      "outputs": [
        {
          "output_type": "stream",
          "name": "stdout",
          "text": [
            "Evaluation \t Proposed point \t  Current eval. \t  Best eval. \t        Exact EI: StdDev. x \t Approx EI: StdDev. x \n",
            "init\t [-2.8775728  -4.32472283]\t 59421.14819100274\t 2.8907294990196846\t    \t    \n",
            "init\t [-0.33103326  2.02440536]\t 2.8907294990196846\t 2.8907294990196846\t    \t    \n",
            "init\t [-0.71816756 -0.13115612]\t 25.271447350027046\t 2.8907294990196846\t    \t    \n",
            "init\t [-4.38497267 -0.11365553]\t 133.2515796886641\t 2.8907294990196846\t    \t    \n",
            "init\t [3.97625987 3.1571558 ]\t 16859.81677190551\t 2.8907294990196846\t    \t    \n",
            "1  \t [ 3.52189019 -3.07285372]\t 11814.475045489096\t 2.8907294990196846\t 2.584225467242587\t 3.581427687772543\n",
            "2  \t [-0.96655529  3.89581054]\t 3001.425371745558\t 2.8907294990196846\t 2.1315853347546727\t 2.870736480116854\n",
            "3  \t [1.3356093 1.1907064]\t 23.5245829965602\t 2.8907294990196846\t 2.7525759000087127\t 2.9879327042108965\n",
            "4  \t [-2.96288867 -1.80818793]\t 650.2698831293418\t 2.8907294990196846\t 2.3342962501296167\t 2.3342962501296167\n",
            "5  \t [0.02531388 1.26759289]\t 14.431321083337945\t 2.8907294990196846\t 2.3314936489320615\t 2.51192234241461\n",
            "6  \t [-0.20062862  1.29985205]\t 12.220395888116908\t 2.8907294990196846\t 2.494363775940978\t 2.5071690669072773\n",
            "7  \t [-1.19229642  1.09301137]\t 11.110922581325042\t 2.8907294990196846\t 2.7501420612093193\t 2.9111288864378717\n",
            "8  \t [-0.41520975  1.32438272]\t 9.924318844040018\t 2.8907294990196846\t 2.4531357513927947\t 2.4531819962783747\n",
            "9  \t [-1.3286      0.45803471]\t 30.45549481223425\t 2.8907294990196846\t 2.68800962695376\t 2.6880099980257413\n",
            "10 \t [-3.99257041  2.30814827]\t 2044.095623751964\t 2.8907294990196846\t 2.4546458267875773\t 2.5026472431065194\n",
            "11 \t [ 0.27894611 -1.77641624]\t 9.268441745388209\t 2.8907294990196846\t 2.7587857909897378\t 2.752237446302706\n",
            "12 \t [ 0.20962774 -1.42207847]\t 10.342569836201406\t 2.8907294990196846\t 2.647556186917696\t 2.6480846224675707\n",
            "\u001b[1m\u001b[92m13\u001b[0m\t \u001b[1m\u001b[92m[ 1.69836526 -0.0501154 ]\u001b[0m\t \u001b[1m\u001b[92m1.2476415577490638\u001b[0m\t \u001b[1m\u001b[92m1.2476415577490638\u001b[0m\t \u001b[1m\u001b[92m2.5502168897985347\u001b[0m\t \u001b[1m\u001b[92m2.5499326007932073\u001b[0m\n",
            "14 \t [ 1.54433957 -0.0410064 ]\t 1.6808174410082573\t 1.2476415577490638\t 2.6839035087181693\t 2.686554713715839\n",
            "15 \t [ 0.02420108 -0.84465616]\t 13.83791364305034\t 1.2476415577490638\t 2.559376315280148\t 2.559376503616139\n",
            "16 \t [0.47181833 1.38571958]\t 21.652688450531087\t 1.2476415577490638\t 2.7565142000778704\t 2.756829446402053\n",
            "17 \t [-0.13340453 -0.50668575]\t 16.116760763888237\t 1.2476415577490638\t 2.103179743923149\t 2.103179743923149\n",
            "\u001b[1m\u001b[92m18\u001b[0m\t \u001b[1m\u001b[92m[ 1.71849511 -0.0162175 ]\u001b[0m\t \u001b[1m\u001b[92m1.1654115504001399\u001b[0m\t \u001b[1m\u001b[92m1.1654115504001399\u001b[0m\t \u001b[1m\u001b[92m2.502254869686998\u001b[0m\t \u001b[1m\u001b[92m2.5005630246222075\u001b[0m\n",
            "\u001b[1m\u001b[92m19\u001b[0m\t \u001b[1m\u001b[92m[ 1.72938111 -0.01402709]\u001b[0m\t \u001b[1m\u001b[92m1.1378559820415566\u001b[0m\t \u001b[1m\u001b[92m1.1378559820415566\u001b[0m\t \u001b[1m\u001b[92m2.373501205116857\u001b[0m\t \u001b[1m\u001b[92m2.369661299851217\u001b[0m\n",
            "20 \t [ 0.54154167 -0.97161686]\t 7.631637103702845\t 1.1378559820415566\t 2.5855088090369254\t 2.5855089470225328\n"
          ]
        }
      ],
      "source": [
        "### EXACT GP EI GRADIENTS\n",
        "\n",
        "np.random.seed(run_num_11)\n",
        "surrogate_gp_11 = dGaussianProcess(cov_func, optimize=opt)\n",
        "\n",
        "gp_11 = dGPGO_gp(surrogate_gp_11, Acquisition_grad(util_gp), objfunc, param)\n",
        "gp_11.run(init_evals=n_init, max_iter=iters)\n"
      ]
    },
    {
      "cell_type": "code",
      "execution_count": 24,
      "metadata": {
        "id": "DXwjUVZ4GCii",
        "colab": {
          "base_uri": "https://localhost:8080/"
        },
        "outputId": "02a73b28-5e9d-43cd-d167-fc294ab33bcd"
      },
      "outputs": [
        {
          "output_type": "stream",
          "name": "stdout",
          "text": [
            "Evaluation \t Proposed point \t  Current eval. \t  Best eval. \t        Exact EI: StdDev. x \t Approx EI: StdDev. x \n",
            "init\t [-3.11253442  2.16044727]\t 746.3412720881302\t 48.45196617039589\t    \t    \n",
            "init\t [-2.13016486  0.30365454]\t 48.45196617039589\t 48.45196617039589\t    \t    \n",
            "init\t [-4.36882534  3.76872307]\t 54651.235607336355\t 48.45196617039589\t    \t    \n",
            "init\t [ 3.60643369 -4.19920715]\t 76007.68460600567\t 48.45196617039589\t    \t    \n",
            "init\t [ 4.11254403 -3.26511611]\t 22941.17826205435\t 48.45196617039589\t    \t    \n",
            "\u001b[1m\u001b[92m1\u001b[0m\t \u001b[1m\u001b[92m[-2.42439456  1.3891593 ]\u001b[0m\t \u001b[1m\u001b[92m2.4116527244190453\u001b[0m\t \u001b[1m\u001b[92m2.4116527244190453\u001b[0m\t \u001b[1m\u001b[92m3.589361992630576\u001b[0m\t \u001b[1m\u001b[92m3.2920389933369476\u001b[0m\n",
            "2  \t [0.50571793 2.79507553]\t 211.47950375436187\t 2.4116527244190453\t 3.2424704202634085\t 3.0479098737669648\n",
            "3  \t [-4.5 -4.5]\t 181853.61328125\t 2.4116527244190453\t 3.321270051792682\t 3.04694794080571\n",
            "4  \t [-2.41267629  0.83109538]\t 25.957779070031876\t 2.4116527244190453\t 2.476782925743765\t 2.5711784172721392\n",
            "5  \t [-3.14594382  0.05332993]\t 82.37203094643553\t 2.4116527244190453\t 2.43480350115353\t 2.669047077353941\n",
            "6  \t [-2.47721564  1.45952123]\t 7.191132408432939\t 2.4116527244190453\t 2.8997669625856486\t 2.856904031389884\n",
            "7  \t [4.5 4.5]\t 174813.36328125\t 2.4116527244190453\t 2.9008106751052143\t 2.717096905941442\n",
            "\u001b[1m\u001b[92m8\u001b[0m\t \u001b[1m\u001b[92m[-2.23870886  1.27018409]\u001b[0m\t \u001b[1m\u001b[92m1.6462982193166698\u001b[0m\t \u001b[1m\u001b[92m1.6462982193166698\u001b[0m\t \u001b[1m\u001b[92m2.6727651915118313\u001b[0m\t \u001b[1m\u001b[92m2.6951611813116854\u001b[0m\n",
            "9  \t [-1.8263596   1.27862001]\t 2.5729738666651363\t 1.6462982193166698\t 2.454968931459439\t 2.395786609289696\n",
            "10 \t [-0.8692832  -0.58566609]\t 29.704737519864647\t 1.6462982193166698\t 2.4759693217990217\t 2.4799781288543135\n",
            "\u001b[1m\u001b[92m11\u001b[0m\t \u001b[1m\u001b[92m[2.04020579 0.14523701]\u001b[0m\t \u001b[1m\u001b[92m0.47274015376742745\u001b[0m\t \u001b[1m\u001b[92m0.47274015376742745\u001b[0m\t \u001b[1m\u001b[92m2.564100779843135\u001b[0m\t \u001b[1m\u001b[92m2.558263634800946\u001b[0m\n",
            "12 \t [-2.80179738  1.33864408]\t 1.9796613955889952\t 0.47274015376742745\t 2.3369006427461785\t 2.2800233211986205\n",
            "\u001b[1m\u001b[92m13\u001b[0m\t \u001b[1m\u001b[92m[2.54086857 0.15735554]\u001b[0m\t \u001b[1m\u001b[92m0.47174884804805656\u001b[0m\t \u001b[1m\u001b[92m0.47174884804805656\u001b[0m\t \u001b[1m\u001b[92m2.4882699558585943\u001b[0m\t \u001b[1m\u001b[92m2.4926933759578813\u001b[0m\n",
            "14 \t [-2.13105013  1.54237379]\t 9.975459647780683\t 0.47174884804805656\t 2.517546472736119\t 2.5278164329010715\n",
            "\u001b[1m\u001b[92m15\u001b[0m\t \u001b[1m\u001b[92m[2.06624238 0.17156105]\u001b[0m\t \u001b[1m\u001b[92m0.4286355112373025\u001b[0m\t \u001b[1m\u001b[92m0.4286355112373025\u001b[0m\t \u001b[1m\u001b[92m2.7519461745298517\u001b[0m\t \u001b[1m\u001b[92m2.751354268977497\u001b[0m\n",
            "16 \t [ 0.68964066 -1.61410312]\t 12.292576187564155\t 0.4286355112373025\t 2.647419982695006\t 2.647419982695006\n",
            "17 \t [1.86351094 0.08574254]\t 0.783312792012569\t 0.4286355112373025\t 2.2980065529840763\t 2.2997342571179864\n",
            "18 \t [0.74006027 0.00850425]\t 6.4201927354467525\t 0.4286355112373025\t 2.7379912833398996\t 2.7480479517351455\n",
            "19 \t [-2.69354638  1.17572805]\t 3.4280448792682954\t 0.4286355112373025\t 2.507394944630789\t 2.5656222388395684\n",
            "20 \t [1.93126824 0.16356255]\t 0.6435689606835335\t 0.4286355112373025\t 2.354021637778025\t 2.373857773892363\n"
          ]
        }
      ],
      "source": [
        "### EXACT GP EI GRADIENTS\n",
        "\n",
        "np.random.seed(run_num_12)\n",
        "surrogate_gp_12 = dGaussianProcess(cov_func, optimize=opt)\n",
        "\n",
        "gp_12 = dGPGO_gp(surrogate_gp_12, Acquisition_grad(util_gp), objfunc, param)\n",
        "gp_12.run(init_evals=n_init, max_iter=iters)\n"
      ]
    },
    {
      "cell_type": "code",
      "execution_count": 25,
      "metadata": {
        "id": "CphOPndPGClX",
        "colab": {
          "base_uri": "https://localhost:8080/"
        },
        "outputId": "ebb2a9b2-6fc1-49fd-9c05-5e2aca11310c"
      },
      "outputs": [
        {
          "output_type": "stream",
          "name": "stdout",
          "text": [
            "Evaluation \t Proposed point \t  Current eval. \t  Best eval. \t        Exact EI: StdDev. x \t Approx EI: StdDev. x \n",
            "init\t [ 2.4993217  -2.36212902]\t 1312.0597023727128\t 25.917758071459016\t    \t    \n",
            "init\t [2.91850679 4.19174278]\t 48757.43948599124\t 25.917758071459016\t    \t    \n",
            "init\t [ 4.25341003 -0.41895677]\t 25.917758071459016\t 25.917758071459016\t    \t    \n",
            "init\t [0.98138216 2.47973863]\t 337.8750512678324\t 25.917758071459016\t    \t    \n",
            "init\t [1.2745201  1.99816407]\t 177.1374160884886\t 25.917758071459016\t    \t    \n",
            "\u001b[1m\u001b[92m1\u001b[0m\t \u001b[1m\u001b[92m[0.8770991  0.76682029]\u001b[0m\t \u001b[1m\u001b[92m9.839351928900173\u001b[0m\t \u001b[1m\u001b[92m9.839351928900173\u001b[0m\t \u001b[1m\u001b[92m2.8080795265765164\u001b[0m\t \u001b[1m\u001b[92m2.9508472266437065\u001b[0m\n",
            "2  \t [-3.51625583 -3.70571814]\t 36387.21686967412\t 9.839351928900173\t 2.843415969536305\t 2.97539584651637\n",
            "3  \t [-3.95052684  2.47322367]\t 3170.4696436569743\t 9.839351928900173\t 2.7058637586087118\t 2.9734117496867594\n",
            "4  \t [-0.32447944 -1.3526273 ]\t 23.12768659231346\t 9.839351928900173\t 2.70134354571031\t 2.694624410993935\n",
            "\u001b[1m\u001b[92m5\u001b[0m\t \u001b[1m\u001b[92m[3.47375088 0.46543694]\u001b[0m\t \u001b[1m\u001b[92m0.5979607607141969\u001b[0m\t \u001b[1m\u001b[92m0.5979607607141969\u001b[0m\t \u001b[1m\u001b[92m2.916559427355009\u001b[0m\t \u001b[1m\u001b[92m3.273845998483393\u001b[0m\n",
            "6  \t [-0.4445298   1.44591019]\t 7.788706098568834\t 0.5979607607141969\t 2.410822249178027\t 2.403168930654727\n",
            "7  \t [-0.82696995  3.26254923]\t 671.3137324865152\t 0.5979607607141969\t 2.664052445980065\t 2.7916756818033974\n",
            "\u001b[1m\u001b[92m8\u001b[0m\t \u001b[1m\u001b[92m[4.5        0.66098356]\u001b[0m\t \u001b[1m\u001b[92m0.412455531676897\u001b[0m\t \u001b[1m\u001b[92m0.412455531676897\u001b[0m\t \u001b[1m\u001b[92m2.560854413102889\u001b[0m\t \u001b[1m\u001b[92m2.564903341061826\u001b[0m\n",
            "9  \t [0.23826269 0.41619545]\t 11.845701463980337\t 0.412455531676897\t 2.5603097302654483\t 2.5518776215999948\n",
            "\u001b[1m\u001b[92m10\u001b[0m\t \u001b[1m\u001b[92m[2.84622724 0.47826027]\u001b[0m\t \u001b[1m\u001b[92m0.011352056848495828\u001b[0m\t \u001b[1m\u001b[92m0.011352056848495828\u001b[0m\t \u001b[1m\u001b[92m2.4612421679443766\u001b[0m\t \u001b[1m\u001b[92m2.518931043466462\u001b[0m\n",
            "11 \t [0.57137814 0.92876835]\t 13.152043865506\t 0.011352056848495828\t 2.7034079730393303\t 2.7031191324865262\n",
            "12 \t [ 4.49205925 -0.06848636]\t 19.31214300485541\t 0.011352056848495828\t 2.561421741530154\t 2.5614212185751293\n",
            "13 \t [-1.67910893  0.83943435]\t 21.63369475339629\t 0.011352056848495828\t 2.681770225109882\t 2.681770225109882\n",
            "14 \t [-0.45135421  0.54164929]\t 18.54065210645489\t 0.011352056848495828\t 2.2011387372647744\t 2.226950228415124\n",
            "15 \t [2.37801891 0.50559884]\t 0.6427362537193204\t 0.011352056848495828\t 2.641295837743365\t 2.6501500686653725\n",
            "16 \t [ 0.11356065 -4.04355791]\t 41.77010454855477\t 0.011352056848495828\t 2.407495405626578\t 2.427464891545709\n",
            "17 \t [-0.11266367 -3.80735533]\t 84.90514272100607\t 0.011352056848495828\t 3.0206645693569825\t 3.0206645693569825\n",
            "18 \t [1.59821118 0.66177779]\t 4.967777719695597\t 0.011352056848495828\t 2.1941916645966164\t 2.254175686888517\n",
            "19 \t [-0.51098582  1.23781006]\t 10.508333975356788\t 0.011352056848495828\t 2.680941248730716\t 2.680941248730716\n",
            "20 \t [4.5        0.79516925]\t 0.838963664138847\t 0.011352056848495828\t 2.940952684779948\t 2.9406177682372046\n"
          ]
        }
      ],
      "source": [
        "### EXACT GP EI GRADIENTS\n",
        "\n",
        "np.random.seed(run_num_13)\n",
        "surrogate_gp_13 = dGaussianProcess(cov_func, optimize=opt)\n",
        "\n",
        "gp_13 = dGPGO_gp(surrogate_gp_13, Acquisition_grad(util_gp), objfunc, param)\n",
        "gp_13.run(init_evals=n_init, max_iter=iters)\n"
      ]
    },
    {
      "cell_type": "code",
      "execution_count": 26,
      "metadata": {
        "id": "ojHTeARNGCoi",
        "colab": {
          "base_uri": "https://localhost:8080/"
        },
        "outputId": "f631df8b-e6c5-4f7e-ba70-12f11a8669dd"
      },
      "outputs": [
        {
          "output_type": "stream",
          "name": "stdout",
          "text": [
            "Evaluation \t Proposed point \t  Current eval. \t  Best eval. \t        Exact EI: StdDev. x \t Approx EI: StdDev. x \n",
            "init\t [0.12549009 2.45848547]\t 30.19066754742359\t 11.367015527968295\t    \t    \n",
            "init\t [ 3.33384917 -4.42757746]\t 88548.3950659154\t 11.367015527968295\t    \t    \n",
            "init\t [-1.71237667  4.11843365]\t 13933.414320383567\t 11.367015527968295\t    \t    \n",
            "init\t [ 0.11805041 -1.63544018]\t 11.367015527968295\t 11.367015527968295\t    \t    \n",
            "init\t [ 0.35279944 -2.50870552]\t 27.90050047415725\t 11.367015527968295\t    \t    \n",
            "1  \t [1.53232195 1.11653614]\t 20.128017475337565\t 11.367015527968295\t 3.1354143656237343\t 2.9139784909838857\n",
            "2  \t [-4.5        -0.35286124]\t 149.51029819246335\t 11.367015527968295\t 3.5352211046623223\t 3.532873867661183\n",
            "3  \t [4.5 4.5]\t 174813.36328125\t 11.367015527968295\t 3.3169378911160687\t 3.0548779884838835\n",
            "4  \t [-3.44638717 -4.5       ]\t 107005.32186520095\t 11.367015527968295\t 2.999224408006605\t 2.9329923661258004\n",
            "5  \t [ 4.19389567 -0.6362805 ]\t 35.83422151565863\t 11.367015527968295\t 2.527699763960648\t 2.597695029332404\n",
            "6  \t [-1.43885572  0.27645901]\t 35.53420190649709\t 11.367015527968295\t 2.394605171249494\t 2.3417726893999466\n",
            "\u001b[1m\u001b[92m7\u001b[0m\t \u001b[1m\u001b[92m[ 1.650312   -0.73725679]\u001b[0m\t \u001b[1m\u001b[92m4.2070653579307375\u001b[0m\t \u001b[1m\u001b[92m4.2070653579307375\u001b[0m\t \u001b[1m\u001b[92m2.2847684923565366\u001b[0m\t \u001b[1m\u001b[92m2.555831276641127\u001b[0m\n",
            "8  \t [-4.35474381  2.05059749]\t 1081.0123007206903\t 4.2070653579307375\t 2.6157886189221102\t 2.6124326659179795\n",
            "9  \t [0.81430705 1.77801577]\t 61.436585483527146\t 4.2070653579307375\t 2.7026812668444\t 2.6497005503205555\n",
            "10 \t [ 0.55117474 -0.43181141]\t 7.869677048846631\t 4.2070653579307375\t 2.454425458714151\t 2.383443747603077\n",
            "\u001b[1m\u001b[92m11\u001b[0m\t \u001b[1m\u001b[92m[ 2.16333337 -0.42090076]\u001b[0m\t \u001b[1m\u001b[92m2.7881406649653147\u001b[0m\t \u001b[1m\u001b[92m2.7881406649653147\u001b[0m\t \u001b[1m\u001b[92m2.6430228729273666\u001b[0m\t \u001b[1m\u001b[92m2.603383307787566\u001b[0m\n",
            "12 \t [ 2.39411072 -0.68424185]\t 7.653821093716801\t 2.7881406649653147\t 2.6117819976893397\t 2.622713567733719\n",
            "\u001b[1m\u001b[92m13\u001b[0m\t \u001b[1m\u001b[92m[3.18481753 0.63994561]\u001b[0m\t \u001b[1m\u001b[92m0.33686051355081487\u001b[0m\t \u001b[1m\u001b[92m0.33686051355081487\u001b[0m\t \u001b[1m\u001b[92m2.5765470382641857\u001b[0m\t \u001b[1m\u001b[92m2.546520629986375\u001b[0m\n",
            "14 \t [-1.3896674  -1.27470872]\t 71.14832506373662\t 0.33686051355081487\t 2.5338554699984557\t 2.5918156618125283\n",
            "15 \t [0.98232597 2.71122009]\t 532.4546003165312\t 0.33686051355081487\t 2.5395653131866354\t 2.5395653131866354\n",
            "16 \t [4.5        1.54199673]\t 300.7835047958456\t 0.33686051355081487\t 2.7026988130544525\t 2.8098670049541563\n",
            "17 \t [ 2.88962046 -0.04311648]\t 2.765251962745013\t 0.33686051355081487\t 2.7370635278144646\t 2.7227117080319454\n",
            "\u001b[1m\u001b[92m18\u001b[0m\t \u001b[1m\u001b[92m[2.63855106 0.27409546]\u001b[0m\t \u001b[1m\u001b[92m0.21038954405827473\u001b[0m\t \u001b[1m\u001b[92m0.21038954405827473\u001b[0m\t \u001b[1m\u001b[92m2.3345225574853274\u001b[0m\t \u001b[1m\u001b[92m2.29494469763241\u001b[0m\n",
            "19 \t [-0.19193948  1.28603578]\t 12.403577669339136\t 0.21038954405827473\t 2.5475524957223334\t 2.544737117341192\n",
            "20 \t [1.22949699 0.29740406]\t 3.718649544558805\t 0.21038954405827473\t 2.3949297645957506\t 2.402268283426489\n"
          ]
        }
      ],
      "source": [
        "### EXACT GP EI GRADIENTS\n",
        "\n",
        "np.random.seed(run_num_14)\n",
        "surrogate_gp_14 = dGaussianProcess(cov_func, optimize=opt)\n",
        "\n",
        "gp_14 = dGPGO_gp(surrogate_gp_14, Acquisition_grad(util_gp), objfunc, param)\n",
        "gp_14.run(init_evals=n_init, max_iter=iters)\n"
      ]
    },
    {
      "cell_type": "code",
      "execution_count": 27,
      "metadata": {
        "id": "vCJzn4vWGCs3",
        "colab": {
          "base_uri": "https://localhost:8080/"
        },
        "outputId": "93d57536-c236-4c0a-f8cd-1a41ad69bb64"
      },
      "outputs": [
        {
          "output_type": "stream",
          "name": "stdout",
          "text": [
            "Evaluation \t Proposed point \t  Current eval. \t  Best eval. \t        Exact EI: StdDev. x \t Approx EI: StdDev. x \n",
            "init\t [ 3.13935928 -2.88993668]\t 6575.875821208801\t 47.082686538130915\t    \t    \n",
            "init\t [-4.01073107 -1.24615399]\t 317.710908287677\t 47.082686538130915\t    \t    \n",
            "init\t [-2.02139164  0.27000202]\t 47.082686538130915\t 47.082686538130915\t    \t    \n",
            "init\t [-1.74672976 -1.75973077]\t 234.8792968363759\t 47.082686538130915\t    \t    \n",
            "init\t [-3.49432851 -2.25090888]\t 2421.671033348018\t 47.082686538130915\t    \t    \n",
            "1  \t [-4.5         0.10054922]\t 126.42590989521966\t 47.082686538130915\t 3.464168165021561\t 3.3472642220822464\n",
            "2  \t [4.5 4.5]\t 174813.36328125\t 47.082686538130915\t 3.232417006219691\t 3.295470778783559\n",
            "3  \t [-0.84090611  4.43221619]\t 5047.417996823176\t 47.082686538130915\t 2.9146583286887657\t 3.241664294083984\n",
            "\u001b[1m\u001b[92m4\u001b[0m\t \u001b[1m\u001b[92m[1.08910464 1.14711382]\u001b[0m\t \u001b[1m\u001b[92m19.596684922345403\u001b[0m\t \u001b[1m\u001b[92m19.596684922345403\u001b[0m\t \u001b[1m\u001b[92m2.6541153283831918\u001b[0m\t \u001b[1m\u001b[92m3.023848248108136\u001b[0m\n",
            "5  \t [-4.49028497  3.28499764]\t 24939.53941196081\t 19.596684922345403\t 2.931712696882915\t 3.1107364319827626\n",
            "6  \t [-0.77603639 -4.48699848]\t 5595.023941442723\t 19.596684922345403\t 2.7968347489801775\t 2.830924412609748\n",
            "\u001b[1m\u001b[92m7\u001b[0m\t \u001b[1m\u001b[92m[-0.45415868  0.37986448]\u001b[0m\t \u001b[1m\u001b[92m19.465115432934144\u001b[0m\t \u001b[1m\u001b[92m19.465115432934144\u001b[0m\t \u001b[1m\u001b[92m2.490148545166567\u001b[0m\t \u001b[1m\u001b[92m2.4582463976452966\u001b[0m\n",
            "8  \t [-0.46586424 -0.32752741]\t 21.249678103406936\t 19.465115432934144\t 2.933895103619645\t 2.923477128068941\n",
            "\u001b[1m\u001b[92m9\u001b[0m\t \u001b[1m\u001b[92m[0.85754684 0.93296441]\u001b[0m\t \u001b[1m\u001b[92m12.726186892668448\u001b[0m\t \u001b[1m\u001b[92m12.726186892668448\u001b[0m\t \u001b[1m\u001b[92m2.28884435036062\u001b[0m\t \u001b[1m\u001b[92m2.250093321668787\u001b[0m\n",
            "\u001b[1m\u001b[92m10\u001b[0m\t \u001b[1m\u001b[92m[1.27365475 0.8318496 ]\u001b[0m\t \u001b[1m\u001b[92m9.449421932574898\u001b[0m\t \u001b[1m\u001b[92m9.449421932574898\u001b[0m\t \u001b[1m\u001b[92m2.5505204542704347\u001b[0m\t \u001b[1m\u001b[92m2.5469974621859075\u001b[0m\n",
            "\u001b[1m\u001b[92m11\u001b[0m\t \u001b[1m\u001b[92m[1.73034174 0.66182583]\u001b[0m\t \u001b[1m\u001b[92m4.418680962089445\u001b[0m\t \u001b[1m\u001b[92m4.418680962089445\u001b[0m\t \u001b[1m\u001b[92m2.347892234032257\u001b[0m\t \u001b[1m\u001b[92m2.361777514537225\u001b[0m\n",
            "12 \t [0.67474932 0.57390973]\t 9.018379421086443\t 4.418680962089445\t 2.421056687927835\t 2.4392844197571213\n",
            "13 \t [-2.68531136 -1.59484909]\t 337.84938983843085\t 4.418680962089445\t 2.890653847434994\t 2.890653847434994\n",
            "14 \t [0.28442511 0.13039291]\t 10.932923407235943\t 4.418680962089445\t 2.664569121826917\t 2.6817853251606873\n",
            "15 \t [-0.71952747 -0.09525343]\t 25.204628386860776\t 4.418680962089445\t 2.160839891991861\t 2.160839891991861\n",
            "16 \t [1.77674692 1.13001768]\t 22.157231600959268\t 4.418680962089445\t 2.7497905488955388\t 2.7497905488955388\n",
            "17 \t [ 0.91416271 -0.98944625]\t 5.759194129218956\t 4.418680962089445\t 2.344701023000334\t 2.344701023000334\n",
            "18 \t [0.39003595 0.14826846]\t 9.855927446909199\t 4.418680962089445\t 2.6322706364674504\t 2.6358877037159423\n",
            "19 \t [ 0.4998036  -0.25978359]\t 8.419205975468264\t 4.418680962089445\t 2.6902818624088343\t 2.6909441746865057\n",
            "20 \t [-0.26451347 -0.11840778]\t 17.88098669898988\t 4.418680962089445\t 2.410399118356535\t 2.410399118356535\n"
          ]
        }
      ],
      "source": [
        "### EXACT GP EI GRADIENTS\n",
        "\n",
        "np.random.seed(run_num_15)\n",
        "surrogate_gp_15 = dGaussianProcess(cov_func, optimize=opt)\n",
        "\n",
        "gp_15 = dGPGO_gp(surrogate_gp_15, Acquisition_grad(util_gp), objfunc, param)\n",
        "gp_15.run(init_evals=n_init, max_iter=iters)\n"
      ]
    },
    {
      "cell_type": "code",
      "execution_count": 28,
      "metadata": {
        "id": "bGGkhp-kGCw6",
        "colab": {
          "base_uri": "https://localhost:8080/"
        },
        "outputId": "e655d5e9-3592-43fa-fbc8-e0c6fdb76482"
      },
      "outputs": [
        {
          "output_type": "stream",
          "name": "stdout",
          "text": [
            "Evaluation \t Proposed point \t  Current eval. \t  Best eval. \t        Exact EI: StdDev. x \t Approx EI: StdDev. x \n",
            "init\t [-2.49038029  0.20847007]\t 59.442894178636664\t 59.442894178636664\t    \t    \n",
            "init\t [ 0.45631311 -4.08958245]\t 932.9374489641153\t 59.442894178636664\t    \t    \n",
            "init\t [-1.25344048 -2.49227152]\t 594.9494957841517\t 59.442894178636664\t    \t    \n",
            "init\t [ 1.69853546 -3.02641717]\t 2418.389440420566\t 59.442894178636664\t    \t    \n",
            "init\t [-3.8670762   3.96909774]\t 58473.38862292419\t 59.442894178636664\t    \t    \n",
            "1  \t [4.5 4.5]\t 174813.36328125\t 59.442894178636664\t 3.4014287407934454\t 3.2429704140657143\n",
            "2  \t [-4.5 -4.5]\t 181853.61328125\t 59.442894178636664\t 3.0687685261663407\t 3.123794128365909\n",
            "\u001b[1m\u001b[92m3\u001b[0m\t \u001b[1m\u001b[92m[0.30512323 1.6014472 ]\u001b[0m\t \u001b[1m\u001b[92m23.039695773705887\u001b[0m\t \u001b[1m\u001b[92m23.039695773705887\u001b[0m\t \u001b[1m\u001b[92m2.47805360648156\u001b[0m\t \u001b[1m\u001b[92m2.6125487664831697\u001b[0m\n",
            "\u001b[1m\u001b[92m4\u001b[0m\t \u001b[1m\u001b[92m[ 3.85542302 -0.12260549]\u001b[0m\t \u001b[1m\u001b[92m11.924391349515925\u001b[0m\t \u001b[1m\u001b[92m11.924391349515925\u001b[0m\t \u001b[1m\u001b[92m2.5248086578514455\u001b[0m\t \u001b[1m\u001b[92m2.800980336935951\u001b[0m\n",
            "5  \t [-0.00709002  0.55924446]\t 14.265206432059344\t 11.924391349515925\t 2.619399217493748\t 2.636510723228913\n",
            "6  \t [-4.26406683 -0.16525302]\t 130.4985991154209\t 11.924391349515925\t 2.9326204635068076\t 2.940498389931198\n",
            "\u001b[1m\u001b[92m7\u001b[0m\t \u001b[1m\u001b[92m[1.89290548 0.56437251]\u001b[0m\t \u001b[1m\u001b[92m2.527763697948722\u001b[0m\t \u001b[1m\u001b[92m2.527763697948722\u001b[0m\t \u001b[1m\u001b[92m2.4322851005783406\u001b[0m\t \u001b[1m\u001b[92m2.4118225332303136\u001b[0m\n",
            "\u001b[1m\u001b[92m8\u001b[0m\t \u001b[1m\u001b[92m[1.93005783 0.54845805]\u001b[0m\t \u001b[1m\u001b[92m2.2328412165038105\u001b[0m\t \u001b[1m\u001b[92m2.2328412165038105\u001b[0m\t \u001b[1m\u001b[92m2.348733249999465\u001b[0m\t \u001b[1m\u001b[92m2.347811523203759\u001b[0m\n",
            "9  \t [ 2.83248723 -0.38933245]\t 6.094334111486105\t 2.2328412165038105\t 2.711470537485038\t 2.711470537485038\n",
            "10 \t [ 4.2415522  -0.35421458]\t 23.399300596257756\t 2.2328412165038105\t 2.657162875422468\t 2.668932437115737\n",
            "11 \t [0.01012787 0.54576447]\t 14.112939263470498\t 2.2328412165038105\t 2.7979851371147024\t 2.7979851371147024\n",
            "12 \t [ 4.47678521 -3.19040158]\t 23853.291807642563\t 2.2328412165038105\t 2.7759457581168894\t 2.7759457581168894\n",
            "\u001b[1m\u001b[92m13\u001b[0m\t \u001b[1m\u001b[92m[2.08981131 0.56973838]\u001b[0m\t \u001b[1m\u001b[92m1.9136438821777295\u001b[0m\t \u001b[1m\u001b[92m1.9136438821777295\u001b[0m\t \u001b[1m\u001b[92m2.2235210160225227\u001b[0m\t \u001b[1m\u001b[92m2.3270807166842724\u001b[0m\n",
            "14 \t [ 1.16933064 -0.01011255]\t 3.388736261406387\t 1.9136438821777295\t 2.26948535319875\t 2.26948535319875\n",
            "\u001b[1m\u001b[92m15\u001b[0m\t \u001b[1m\u001b[92m[2.42674159 0.37796122]\u001b[0m\t \u001b[1m\u001b[92m0.13739667539810144\u001b[0m\t \u001b[1m\u001b[92m0.13739667539810144\u001b[0m\t \u001b[1m\u001b[92m2.438415057044425\u001b[0m\t \u001b[1m\u001b[92m2.4891541912925628\u001b[0m\n",
            "16 \t [1.70701788 0.53179089]\t 2.9231100976674242\t 0.13739667539810144\t 2.4132874598468383\t 2.472578806083578\n",
            "17 \t [2.94614573 0.28517185]\t 0.6395838132747578\t 0.13739667539810144\t 2.7809157599945427\t 2.8072606345620206\n",
            "18 \t [0.92435301 0.53320312]\t 7.053325672160741\t 0.13739667539810144\t 2.4917271321559573\t 2.571492617712856\n",
            "19 \t [2.00416283 0.85575949]\t 7.92502528900585\t 0.13739667539810144\t 2.3110577551343856\t 2.311058205135455\n",
            "20 \t [3.46555932 0.2894091 ]\t 2.355127848091604\t 0.13739667539810144\t 2.763976599655129\t 2.782442534107355\n"
          ]
        }
      ],
      "source": [
        "### EXACT GP EI GRADIENTS\n",
        "\n",
        "np.random.seed(run_num_16)\n",
        "surrogate_gp_16 = dGaussianProcess(cov_func, optimize=opt)\n",
        "\n",
        "gp_16 = dGPGO_gp(surrogate_gp_16, Acquisition_grad(util_gp), objfunc, param)\n",
        "gp_16.run(init_evals=n_init, max_iter=iters)\n"
      ]
    },
    {
      "cell_type": "code",
      "execution_count": 29,
      "metadata": {
        "id": "Yrs2mp7hGC1Z",
        "colab": {
          "base_uri": "https://localhost:8080/"
        },
        "outputId": "c53f473e-f9b8-4c4c-ea4b-8a487917c074"
      },
      "outputs": [
        {
          "output_type": "stream",
          "name": "stdout",
          "text": [
            "Evaluation \t Proposed point \t  Current eval. \t  Best eval. \t        Exact EI: StdDev. x \t Approx EI: StdDev. x \n",
            "init\t [-1.84801498  0.2752808 ]\t 43.39160388622011\t 6.891623366037299\t    \t    \n",
            "init\t [-2.77631292 -3.88889678]\t 30048.58268621874\t 6.891623366037299\t    \t    \n",
            "init\t [2.58286914 1.4070017 ]\t 81.72560623465196\t 6.891623366037299\t    \t    \n",
            "init\t [1.23768806 0.68042604]\t 6.891623366037299\t 6.891623366037299\t    \t    \n",
            "init\t [-4.14843375 -1.27967756]\t 359.4343933746243\t 6.891623366037299\t    \t    \n",
            "1  \t [ 4.35943059 -3.9087003 ]\t 73234.01298703798\t 6.891623366037299\t 3.0947508298399953\t 3.715311624596405\n",
            "2  \t [-1.00950125  4.5       ]\t 8106.221956210172\t 6.891623366037299\t 2.93661223423652\t 2.7491671533789157\n",
            "3  \t [4.5 4.5]\t 174813.36328125\t 6.891623366037299\t 2.71500781577224\t 2.611614814634855\n",
            "\u001b[1m\u001b[92m4\u001b[0m\t \u001b[1m\u001b[92m[2.66614346 0.31249071]\u001b[0m\t \u001b[1m\u001b[92m0.13677664415860527\u001b[0m\t \u001b[1m\u001b[92m0.13677664415860527\u001b[0m\t \u001b[1m\u001b[92m2.799224993781342\u001b[0m\t \u001b[1m\u001b[92m2.812271505951318\u001b[0m\n",
            "5  \t [2.95002527 0.22333079]\t 1.017033055726581\t 0.13677664415860527\t 2.4118334265978487\t 2.417751381391852\n",
            "\u001b[1m\u001b[92m6\u001b[0m\t \u001b[1m\u001b[92m[2.56222662 0.36423921]\u001b[0m\t \u001b[1m\u001b[92m0.05221473978510092\u001b[0m\t \u001b[1m\u001b[92m0.05221473978510092\u001b[0m\t \u001b[1m\u001b[92m2.508081132642512\u001b[0m\t \u001b[1m\u001b[92m2.542909335617914\u001b[0m\n",
            "7  \t [ 0.45148766 -0.56068583]\t 8.782495142704317\t 0.05221473978510092\t 2.2736021387580636\t 2.355567696433843\n",
            "8  \t [2.45293253 4.01434402]\t 26860.44714850753\t 0.05221473978510092\t 2.718938322108052\t 2.718938322108052\n",
            "9  \t [0.26490662 0.48534131]\t 11.765720056245847\t 0.05221473978510092\t 2.8936336701117114\t 2.8936334515786646\n",
            "10 \t [2.35161825 0.65591663]\t 2.183524179100816\t 0.05221473978510092\t 2.3115978925584\t 2.314191876344586\n",
            "11 \t [-4.5         2.06936117]\t 1240.4113684512479\t 0.05221473978510092\t 2.676487281604205\t 2.714990074426211\n",
            "12 \t [ 0.0386648  -1.82908244]\t 12.93389020483113\t 0.05221473978510092\t 2.455597065720619\t 2.455597065720619\n",
            "13 \t [2.67845322 0.58129324]\t 0.5938178011489947\t 0.05221473978510092\t 2.24503077086889\t 2.241722623806272\n",
            "14 \t [ 0.3060043  -1.14313934]\t 9.672995263785596\t 0.05221473978510092\t 2.4073433650582303\t 2.4327143419614057\n",
            "15 \t [2.58303374 0.59998156]\t 0.933837055487092\t 0.05221473978510092\t 2.4586689441833953\t 2.456276294442917\n",
            "16 \t [ 3.04391712e-04 -3.98718885e-01]\t 14.198996721441471\t 0.05221473978510092\t 2.2156765770323346\t 2.2156765770323346\n",
            "17 \t [2.34107482 0.65079276]\t 2.139986132267607\t 0.05221473978510092\t 2.326747859003199\t 2.330655383747525\n",
            "18 \t [ 0.25796276 -0.44874158]\t 10.939426295709087\t 0.05221473978510092\t 2.587812846752715\t 2.587812846752715\n",
            "19 \t [2.64231993 0.58934948]\t 0.7223780594933129\t 0.05221473978510092\t 2.412325010461231\t 2.4094747474622635\n",
            "20 \t [1.69369925 0.71674422]\t 5.493321475202191\t 0.05221473978510092\t 2.642770905936105\t 2.6586488321444355\n"
          ]
        }
      ],
      "source": [
        "### EXACT GP EI GRADIENTS\n",
        "\n",
        "np.random.seed(run_num_17)\n",
        "surrogate_gp_17 = dGaussianProcess(cov_func, optimize=opt)\n",
        "\n",
        "gp_17 = dGPGO_gp(surrogate_gp_17, Acquisition_grad(util_gp), objfunc, param)\n",
        "gp_17.run(init_evals=n_init, max_iter=iters)\n"
      ]
    },
    {
      "cell_type": "code",
      "execution_count": 30,
      "metadata": {
        "id": "f0HIEP3PIUEa",
        "colab": {
          "base_uri": "https://localhost:8080/"
        },
        "outputId": "0263528b-c03a-4f00-a950-28bb5d86ab27"
      },
      "outputs": [
        {
          "output_type": "stream",
          "name": "stdout",
          "text": [
            "Evaluation \t Proposed point \t  Current eval. \t  Best eval. \t        Exact EI: StdDev. x \t Approx EI: StdDev. x \n",
            "init\t [1.35336818 0.04908036]\t 2.472652645883837\t 2.472652645883837\t    \t    \n",
            "init\t [ 3.40741324 -2.86343797]\t 7379.017314590048\t 2.472652645883837\t    \t    \n",
            "init\t [3.17009762 2.25122657]\t 1528.3101419799655\t 2.472652645883837\t    \t    \n",
            "init\t [1.49491501 4.39105903]\t 17224.913295283764\t 2.472652645883837\t    \t    \n",
            "init\t [-2.1872842  -4.24524667]\t 31030.348242396165\t 2.472652645883837\t    \t    \n",
            "1  \t [-4.5         1.90816143]\t 682.2592767691515\t 2.472652645883837\t 2.712691567770591\t 2.840882296652881\n",
            "2  \t [-0.21418539  0.24550652]\t 16.812658613780467\t 2.472652645883837\t 2.3418108976519236\t 2.340009109019954\n",
            "3  \t [ 0.56201494 -0.03993594]\t 7.946294400570069\t 2.472652645883837\t 2.383217340119772\t 2.38403206543492\n",
            "4  \t [-1.68876831  0.36036805]\t 38.42471800614733\t 2.472652645883837\t 2.7282572393299116\t 2.749265882994611\n",
            "5  \t [-0.05787514  0.37788318]\t 14.828593431975197\t 2.472652645883837\t 2.4240321911661384\t 2.4240321911661384\n",
            "6  \t [-1.54797203  1.79524183]\t 24.371667031491736\t 2.472652645883837\t 2.586644948466975\t 2.586644948466975\n",
            "7  \t [ 0.84835982 -0.25705211]\t 5.4183166160476866\t 2.472652645883837\t 2.6758959981818475\t 2.6747819789201177\n",
            "8  \t [ 0.61044489 -0.01776586]\t 7.519322624743921\t 2.472652645883837\t 2.5121750872499624\t 2.514600939528747\n",
            "9  \t [ 0.67506352 -0.08020697]\t 6.889136791166997\t 2.472652645883837\t 2.582169263269754\t 2.582604138995334\n",
            "\u001b[1m\u001b[92m10\u001b[0m\t \u001b[1m\u001b[92m[-0.97734338  1.54078079]\u001b[0m\t \u001b[1m\u001b[92m1.7673828816160209\u001b[0m\t \u001b[1m\u001b[92m1.7673828816160209\u001b[0m\t \u001b[1m\u001b[92m2.8034519024733697\u001b[0m\t \u001b[1m\u001b[92m2.8034519024733697\u001b[0m\n",
            "11 \t [-0.81905668  1.11888128]\t 11.41923652349771\t 1.7673828816160209\t 2.6685295659499157\t 2.6685295659499157\n",
            "12 \t [-0.54364369  0.07017653]\t 21.850606399934932\t 1.7673828816160209\t 2.3904600590412497\t 2.3904600590412497\n",
            "13 \t [-2.52435379  4.36444522]\t 43832.67318019135\t 1.7673828816160209\t 2.5597274873875393\t 2.5697124665445337\n",
            "14 \t [-0.93697614  0.88969843]\t 16.972456482442418\t 1.7673828816160209\t 2.314178829327499\t 2.3276833749178056\n",
            "15 \t [0.3327509 0.0225011]\t 10.310918931451553\t 1.7673828816160209\t 2.490383782311085\t 2.490383782311085\n",
            "16 \t [-0.82363042  1.02685051]\t 13.584470031544898\t 1.7673828816160209\t 2.297432965861198\t 2.301709124480046\n",
            "17 \t [ 0.64978178 -0.09330809]\t 7.101687768991765\t 1.7673828816160209\t 3.025321388124247\t 3.026411540075177\n",
            "18 \t [-1.69473704  1.04137054]\t 12.271575939607185\t 1.7673828816160209\t 2.671657622524954\t 2.6696518326432765\n",
            "19 \t [-1.21282174  1.11418258]\t 10.351375044238642\t 1.7673828816160209\t 2.408592454947238\t 2.4067545769901098\n",
            "20 \t [ 0.7402317 -0.26196  ]\t 6.25792657440041\t 1.7673828816160209\t 2.612845478166892\t 2.612807141545162\n"
          ]
        }
      ],
      "source": [
        "### EXACT GP EI GRADIENTS\n",
        "\n",
        "np.random.seed(run_num_18)\n",
        "surrogate_gp_18 = dGaussianProcess(cov_func, optimize=opt)\n",
        "\n",
        "gp_18 = dGPGO_gp(surrogate_gp_18, Acquisition_grad(util_gp), objfunc, param)\n",
        "gp_18.run(init_evals=n_init, max_iter=iters)\n"
      ]
    },
    {
      "cell_type": "code",
      "execution_count": 31,
      "metadata": {
        "id": "S3mxRQDLIUPC",
        "colab": {
          "base_uri": "https://localhost:8080/"
        },
        "outputId": "ed606b6e-da08-4183-9daa-bbb7c499059b"
      },
      "outputs": [
        {
          "output_type": "stream",
          "name": "stdout",
          "text": [
            "Evaluation \t Proposed point \t  Current eval. \t  Best eval. \t        Exact EI: StdDev. x \t Approx EI: StdDev. x \n",
            "init\t [-3.62219758  2.35124745]\t 1879.409018573639\t 63.544086067314716\t    \t    \n",
            "init\t [-2.27755824 -3.25681481]\t 7496.243410303341\t 63.544086067314716\t    \t    \n",
            "init\t [-1.51698093 -3.75300391]\t 7497.407542620609\t 63.544086067314716\t    \t    \n",
            "init\t [1.54779373 2.75934418]\t 1302.4341957421634\t 63.544086067314716\t    \t    \n",
            "init\t [4.34467723 1.22094661]\t 63.544086067314716\t 63.544086067314716\t    \t    \n",
            "1  \t [ 4.07377978 -3.44761015]\t 30801.171664568574\t 63.544086067314716\t 3.1542285190750907\t 3.8834192733458757\n",
            "2  \t [4.5 4.5]\t 174813.36328125\t 63.544086067314716\t 3.0154669814072945\t 2.8631819875257642\n",
            "\u001b[1m\u001b[92m3\u001b[0m\t \u001b[1m\u001b[92m[ 1.04923617 -0.60142941]\u001b[0m\t \u001b[1m\u001b[92m4.345589095070272\u001b[0m\t \u001b[1m\u001b[92m4.345589095070272\u001b[0m\t \u001b[1m\u001b[92m2.218748121144455\u001b[0m\t \u001b[1m\u001b[92m2.2041605218353904\u001b[0m\n",
            "4  \t [-0.01122721 -0.06586462]\t 14.34868227602195\t 4.345589095070272\t 2.6338734618444426\t 2.6451052222942852\n",
            "\u001b[1m\u001b[92m5\u001b[0m\t \u001b[1m\u001b[92m[2.89370911 0.76065801]\u001b[0m\t \u001b[1m\u001b[92m2.723786225768037\u001b[0m\t \u001b[1m\u001b[92m2.723786225768037\u001b[0m\t \u001b[1m\u001b[92m2.3416010740592816\u001b[0m\t \u001b[1m\u001b[92m2.393360631051937\u001b[0m\n",
            "\u001b[1m\u001b[92m6\u001b[0m\t \u001b[1m\u001b[92m[3.10053721 0.68271601]\u001b[0m\t \u001b[1m\u001b[92m0.8813167234347634\u001b[0m\t \u001b[1m\u001b[92m0.8813167234347634\u001b[0m\t \u001b[1m\u001b[92m2.7446310184934415\u001b[0m\t \u001b[1m\u001b[92m2.785283357458854\u001b[0m\n",
            "7  \t [ 1.62124624 -0.20774117]\t 1.6765705280646688\t 0.8813167234347634\t 2.481612305395861\t 2.481612305395861\n",
            "\u001b[1m\u001b[92m8\u001b[0m\t \u001b[1m\u001b[92m[3.30932747 0.66935138]\u001b[0m\t \u001b[1m\u001b[92m0.438813421038209\u001b[0m\t \u001b[1m\u001b[92m0.438813421038209\u001b[0m\t \u001b[1m\u001b[92m2.4665478833529697\u001b[0m\t \u001b[1m\u001b[92m2.5118696537757046\u001b[0m\n",
            "9  \t [-0.21199875 -0.04263898]\t 17.070167594743076\t 0.438813421038209\t 2.589680308866174\t 2.589680308866174\n",
            "10 \t [-0.82582644 -0.67491925]\t 29.325823744357812\t 0.438813421038209\t 2.7609781185509257\t 2.7609781185509257\n",
            "11 \t [ 0.69704712 -0.46408839]\t 6.583574180492102\t 0.438813421038209\t 2.13421738037942\t 2.1383613861031106\n",
            "\u001b[1m\u001b[92m12\u001b[0m\t \u001b[1m\u001b[92m[3.79335197 0.61771223]\u001b[0m\t \u001b[1m\u001b[92m0.08690620335665056\u001b[0m\t \u001b[1m\u001b[92m0.08690620335665056\u001b[0m\t \u001b[1m\u001b[92m2.4881486298582125\u001b[0m\t \u001b[1m\u001b[92m2.511602473293458\u001b[0m\n",
            "13 \t [3.02838833 0.63004247]\t 0.4489905744653099\t 0.08690620335665056\t 2.5895582660984577\t 2.6421245111392166\n",
            "14 \t [2.1305891  0.02833699]\t 0.5843052675330623\t 0.08690620335665056\t 2.3469172973665278\t 2.3469172973665278\n",
            "15 \t [4.28193306 0.52959259]\t 1.9972738078276364\t 0.08690620335665056\t 2.578162480524012\t 2.588174481045394\n",
            "16 \t [-0.39763954 -0.24253334]\t 20.033717740805443\t 0.08690620335665056\t 2.344059314873277\t 2.344059314873277\n",
            "17 \t [ 0.14892618 -0.21857378]\t 12.306203792857321\t 0.08690620335665056\t 2.4601989739077137\t 2.4601989739077137\n",
            "18 \t [4.08237454 0.013588  ]\t 11.863985450050981\t 0.08690620335665056\t 2.5876901219760775\t 2.5876901219760775\n",
            "19 \t [-0.82822222  0.15066018]\t 26.12041561026293\t 0.08690620335665056\t 2.1726356846811377\t 2.1726356846811377\n",
            "20 \t [ 1.63258259 -0.31628422]\t 1.9157071045280532\t 0.08690620335665056\t 2.4461666193510987\t 2.4423548398818946\n"
          ]
        }
      ],
      "source": [
        "### EXACT GP EI GRADIENTS\n",
        "\n",
        "np.random.seed(run_num_19)\n",
        "surrogate_gp_19 = dGaussianProcess(cov_func, optimize=opt)\n",
        "\n",
        "gp_19 = dGPGO_gp(surrogate_gp_19, Acquisition_grad(util_gp), objfunc, param)\n",
        "gp_19.run(init_evals=n_init, max_iter=iters)\n"
      ]
    },
    {
      "cell_type": "code",
      "execution_count": 32,
      "metadata": {
        "id": "Aawd59dRIUYn",
        "colab": {
          "base_uri": "https://localhost:8080/"
        },
        "outputId": "b1d6af40-ed90-41f5-bd4e-c9f6fc9c7b9f"
      },
      "outputs": [
        {
          "output_type": "stream",
          "name": "stdout",
          "text": [
            "Evaluation \t Proposed point \t  Current eval. \t  Best eval. \t        Exact EI: StdDev. x \t Approx EI: StdDev. x \n",
            "init\t [0.79317721 3.57942355]\t 1607.3829986954497\t 30.55204392634667\t    \t    \n",
            "init\t [3.52377657 2.8425373 ]\t 7209.150060592592\t 30.55204392634667\t    \t    \n",
            "init\t [-4.17699373  1.72581824]\t 253.68900136908488\t 30.55204392634667\t    \t    \n",
            "init\t [-1.09187152  0.16659851]\t 30.55204392634667\t 30.55204392634667\t    \t    \n",
            "init\t [ 1.42156319 -2.75534804]\t 963.9362838324588\t 30.55204392634667\t    \t    \n",
            "1  \t [-4.5 -4.5]\t 181853.61328125\t 30.55204392634667\t 2.4632297008421022\t 2.514003168639772\n",
            "2  \t [ 4.27466108 -1.09266217]\t 117.13091933195585\t 30.55204392634667\t 2.530637991728987\t 2.8022471762169947\n",
            "3  \t [-1.70805604 -0.80051458]\t 56.270182248559934\t 30.55204392634667\t 2.3799453496050353\t 3.0407100935115223\n",
            "4  \t [-2.55732664  3.6797256 ]\t 15859.560574602465\t 30.55204392634667\t 2.5393141907496695\t 2.727267215675866\n",
            "\u001b[1m\u001b[92m5\u001b[0m\t \u001b[1m\u001b[92m[0.41602025 0.21721859]\u001b[0m\t \u001b[1m\u001b[92m9.713405533272155\u001b[0m\t \u001b[1m\u001b[92m9.713405533272155\u001b[0m\t \u001b[1m\u001b[92m2.5370001382909204\u001b[0m\t \u001b[1m\u001b[92m2.5368509079620107\u001b[0m\n",
            "6  \t [ 3.64426552 -4.37676538]\t 98987.42794535059\t 9.713405533272155\t 2.923324060576606\t 2.9583753023731063\n",
            "\u001b[1m\u001b[92m7\u001b[0m\t \u001b[1m\u001b[92m[ 0.31355741 -1.85729999]\u001b[0m\t \u001b[1m\u001b[92m9.565220790401861\u001b[0m\t \u001b[1m\u001b[92m9.565220790401861\u001b[0m\t \u001b[1m\u001b[92m2.9499893277740044\u001b[0m\t \u001b[1m\u001b[92m2.950851599608368\u001b[0m\n",
            "8  \t [-0.04430479 -2.71350019]\t 19.278491965392213\t 9.565220790401861\t 2.729110539187194\t 2.713548905587746\n",
            "9  \t [ 1.03166457 -1.79390178]\t 41.5377037929815\t 9.565220790401861\t 2.5805900114378324\t 2.5805900114378324\n",
            "\u001b[1m\u001b[92m10\u001b[0m\t \u001b[1m\u001b[92m[ 1.18708544 -0.6734729 ]\u001b[0m\t \u001b[1m\u001b[92m3.9572878589472626\u001b[0m\t \u001b[1m\u001b[92m3.9572878589472626\u001b[0m\t \u001b[1m\u001b[92m2.5622945489388558\u001b[0m\t \u001b[1m\u001b[92m2.6132101263321155\u001b[0m\n",
            "11 \t [-4.04721545  0.17172824]\t 105.95511546933812\t 3.9572878589472626\t 2.7079285927588277\t 2.7261282777586575\n",
            "12 \t [ 0.57428886 -1.61598366]\t 10.222204073965791\t 3.9572878589472626\t 2.7339590567835117\t 2.716787299041128\n",
            "13 \t [-1.08014303  2.48027462]\t 174.21624767034155\t 3.9572878589472626\t 3.007032369470511\t 3.007032369470511\n",
            "14 \t [-0.52461224  1.54471636]\t 5.271806150339764\t 3.9572878589472626\t 2.3332730169932985\t 2.3605753225985273\n",
            "15 \t [ 0.0961     -1.07053986]\t 12.631411981391253\t 3.9572878589472626\t 2.2748507330307013\t 2.2111062264226873\n",
            "16 \t [-0.33335792  1.29890618]\t 11.008332945628801\t 3.9572878589472626\t 2.5125295559742806\t 2.5134262438376354\n",
            "17 \t [-0.47555055  1.32496054]\t 9.362786885222093\t 3.9572878589472626\t 2.4693576708182143\t 2.486852331216531\n",
            "18 \t [-0.6645994  -3.10403971]\t 566.7162997590179\t 3.9572878589472626\t 2.7012495483424517\t 2.691604282136574\n",
            "19 \t [ 0.06656791 -0.70760735]\t 13.261392813199347\t 3.9572878589472626\t 2.5311600728528956\t 2.5346638891628848\n",
            "20 \t [ 0.15013493 -0.84324325]\t 12.053032728060252\t 3.9572878589472626\t 2.219180776224558\t 2.1587361044064073\n"
          ]
        }
      ],
      "source": [
        "### EXACT GP EI GRADIENTS\n",
        "\n",
        "np.random.seed(run_num_20)\n",
        "surrogate_gp_20 = dGaussianProcess(cov_func, optimize=opt)\n",
        "\n",
        "gp_20 = dGPGO_gp(surrogate_gp_20, Acquisition_grad(util_gp), objfunc, param)\n",
        "gp_20.run(init_evals=n_init, max_iter=iters)\n"
      ]
    },
    {
      "cell_type": "code",
      "execution_count": 33,
      "metadata": {
        "id": "xkgzPRbBTHaq",
        "colab": {
          "base_uri": "https://localhost:8080/"
        },
        "outputId": "4f782a52-2b0c-4144-cbe1-4626fd18e200"
      },
      "outputs": [
        {
          "output_type": "execute_result",
          "data": {
            "text/plain": [
              "1663075029.7823625"
            ]
          },
          "metadata": {},
          "execution_count": 33
        }
      ],
      "source": [
        "end_gp = time.time()\n",
        "end_gp\n",
        "\n",
        "time_gp = end_gp - start_gp\n",
        "time_gp\n",
        "\n",
        "start_stp = time.time()\n",
        "start_stp"
      ]
    },
    {
      "cell_type": "code",
      "execution_count": 34,
      "metadata": {
        "id": "7CG3Ndvb16Rb",
        "colab": {
          "base_uri": "https://localhost:8080/"
        },
        "outputId": "9dd12017-7bf2-4862-e4d5-8a3408242a22"
      },
      "outputs": [
        {
          "output_type": "stream",
          "name": "stdout",
          "text": [
            "Evaluation \t Proposed point \t  Current eval. \t  Best eval. \t        Exact EI: StdDev. x \t Approx EI: StdDev. x \n",
            "init\t [-0.74680196  1.98292044]\t 6.597029498756062\t 6.597029498756062\t    \t    \n",
            "init\t [-4.49897063 -1.77900685]\t 1305.4710589552556\t 6.597029498756062\t    \t    \n",
            "init\t [-3.17919698 -3.66895265]\t 28173.776013477825\t 6.597029498756062\t    \t    \n",
            "init\t [-2.8236581  -1.38995346]\t 237.9931764117774\t 6.597029498756062\t    \t    \n",
            "init\t [-0.92909273  0.34935061]\t 26.1790631757263\t 6.597029498756062\t    \t    \n",
            "1  \t [-3.51734167  0.89308095]\t 25.5196124603644\t 6.597029498756062\t 3.2076154856298436\t 3.712994226755531\n",
            "2  \t [4.5 4.5]\t 174813.36328125\t 6.597029498756062\t 2.7812955996909308\t 3.248007832805991\n",
            "3  \t [ 2.96082809 -3.08887745]\t 8543.918828465654\t 6.597029498756062\t 2.7843454438152846\t 3.9423528161385177\n",
            "4  \t [-4.30627675  4.0317319 ]\t 79938.34898060079\t 6.597029498756062\t 3.006630688210647\t 3.591935271727547\n",
            "\u001b[1m\u001b[92m5\u001b[0m\t \u001b[1m\u001b[92m[2.34362395 0.5179184 ]\u001b[0m\t \u001b[1m\u001b[92m0.7916988096078867\u001b[0m\t \u001b[1m\u001b[92m0.7916988096078867\u001b[0m\t \u001b[1m\u001b[92m2.497309672653386\u001b[0m\t \u001b[1m\u001b[92m2.8518392186356514\u001b[0m\n",
            "6  \t [ 0.16660095 -2.04057463]\t 9.786760411525764\t 0.7916988096078867\t 2.6966375606090436\t 3.4989197564992414\n",
            "7  \t [0.37403441 4.27266334]\t 1070.761334823747\t 0.7916988096078867\t 2.8338084112286737\t 3.3675377325189806\n",
            "8  \t [ 0.20173913 -4.5       ]\t 292.5005383623001\t 0.7916988096078867\t 2.9290376385298136\t 3.5802321196143327\n",
            "9  \t [ 3.74765268 -0.6617269 ]\t 27.248295349422857\t 0.7916988096078867\t 2.7654917723292196\t 3.160312075353646\n",
            "10 \t [1.34762774 2.42494628]\t 509.6153127998314\t 0.7916988096078867\t 3.08584646559481\t 3.280024171019719\n",
            "11 \t [ 1.17441615 -0.68449666]\t 4.025463300381871\t 0.7916988096078867\t 2.3976695954323244\t 2.941014241389899\n",
            "12 \t [4.5        1.10164117]\t 31.2943140277864\t 0.7916988096078867\t 2.9385366192526465\t 3.5552768131906096\n",
            "13 \t [ 1.77577217 -4.47198428]\t 26315.38660099209\t 0.7916988096078867\t 2.7030409571781893\t 3.2611849813130096\n",
            "14 \t [-1.32914253  4.24818313]\t 10018.138045541196\t 0.7916988096078867\t 3.126947494346376\t 3.3385996350868656\n",
            "15 \t [-1.22144137 -1.36789854]\t 69.31780765465511\t 0.7916988096078867\t 2.6213288944424074\t 3.1420791856291506\n",
            "16 \t [-0.70691376 -3.53539238]\t 1251.76741851516\t 0.7916988096078867\t 2.8379157876620886\t 3.3572751454936856\n",
            "17 \t [-2.16260619  1.49978153]\t 6.669931826303352\t 0.7916988096078867\t 3.135778433161285\t 3.372370209646678\n",
            "18 \t [1.85532493 4.36188288]\t 25278.94919633401\t 0.7916988096078867\t 3.0721448626092687\t 3.4695130266458434\n",
            "19 \t [3.3142299  2.47672813]\t 2878.4606328005166\t 0.7916988096078867\t 3.5749780642572313\t 3.544144313232275\n",
            "20 \t [0.70079191 0.84595746]\t 11.658588081650691\t 0.7916988096078867\t 2.9103135046015285\t 3.276182128226211\n"
          ]
        }
      ],
      "source": [
        "### EXACT STP EI GRADIENTS\n",
        "\n",
        "np.random.seed(run_num_1)\n",
        "surrogate_stp_1 = dtStudentProcess(cov_func, optimize=opt, nu = df)\n",
        "\n",
        "stp_1 = dGPGO_stp(surrogate_stp_1, Acquisition_grad(util_stp), objfunc, param)\n",
        "stp_1.run(init_evals=n_init, max_iter=iters)\n"
      ]
    },
    {
      "cell_type": "code",
      "execution_count": 35,
      "metadata": {
        "id": "-ilCPSAu9SAg",
        "colab": {
          "base_uri": "https://localhost:8080/"
        },
        "outputId": "817ca8e5-2aa0-4fb8-cde5-cb697396161c"
      },
      "outputs": [
        {
          "output_type": "stream",
          "name": "stdout",
          "text": [
            "Evaluation \t Proposed point \t  Current eval. \t  Best eval. \t        Exact EI: StdDev. x \t Approx EI: StdDev. x \n",
            "init\t [-0.57604588 -4.26666391]\t 2377.8441741808733\t 8.81624267140378\t    \t    \n",
            "init\t [ 0.4469623  -0.58209847]\t 8.81624267140378\t 8.81624267140378\t    \t    \n",
            "init\t [-0.71668978 -1.52698661]\t 47.3742628518178\t 8.81624267140378\t    \t    \n",
            "init\t [-2.65816229  1.0734387 ]\t 9.08861590265506\t 8.81624267140378\t    \t    \n",
            "init\t [-1.80310794 -2.09855452]\t 510.2220943696988\t 8.81624267140378\t    \t    \n",
            "1  \t [4.5 4.5]\t 174813.36328125\t 8.81624267140378\t 3.5407493401359926\t 3.9193328927918465\n",
            "2  \t [ 4.25619621 -3.48501406]\t 35822.693673744914\t 8.81624267140378\t 3.1510080097068576\t 4.124742437051462\n",
            "3  \t [-1.01038013  3.64982302]\t 2174.6891649000668\t 8.81624267140378\t 3.1649819988057994\t 3.9112275555532614\n",
            "4  \t [-4.5 -4.5]\t 181853.61328125\t 8.81624267140378\t 3.003737669737869\t 3.4190075235894444\n",
            "\u001b[1m\u001b[92m5\u001b[0m\t \u001b[1m\u001b[92m[3.25498141 0.34012501]\u001b[0m\t \u001b[1m\u001b[92m1.0665824287464973\u001b[0m\t \u001b[1m\u001b[92m1.0665824287464973\u001b[0m\t \u001b[1m\u001b[92m2.18102807907299\u001b[0m\t \u001b[1m\u001b[92m3.1038312804656485\u001b[0m\n",
            "6  \t [-3.87305469  3.91638207]\t 54081.01598611377\t 1.0665824287464973\t 2.60498242121422\t 3.5206985265249524\n",
            "7  \t [1.20890554 1.88748768]\t 126.33191117251306\t 1.0665824287464973\t 2.4247439141296723\t 2.676429675866199\n",
            "8  \t [ 1.36187434 -2.70796174]\t 795.4959814910172\t 1.0665824287464973\t 1.921501977440344\t 2.3245173544852356\n",
            "9  \t [0.94767819 4.5       ]\t 8193.229925943759\t 1.0665824287464973\t 2.2517947006859025\t 2.613434104458963\n",
            "10 \t [-3.69897489 -0.80235536]\t 147.2350776606968\t 1.0665824287464973\t 2.3967827838204014\t 2.514152531195533\n",
            "11 \t [-0.66232654  1.01734185]\t 13.882235623970443\t 1.0665824287464973\t 2.5056076653852375\t 2.397912006727723\n",
            "12 \t [ 2.49723697 -1.20366851]\t 45.25587193005168\t 1.0665824287464973\t 2.247773009758581\t 2.1999452164188598\n",
            "13 \t [-4.5         0.57989209]\t 77.95016307389292\t 1.0665824287464973\t 2.431958977488635\t 2.63563975611158\n",
            "14 \t [4.13140756 1.62711712]\t 364.14977541536314\t 1.0665824287464973\t 2.6496186531112382\t 2.7680420448732304\n",
            "15 \t [-2.24042526 -0.14389821]\t 59.99329483799427\t 1.0665824287464973\t 2.130562609100585\t 2.1013260671407625\n",
            "16 \t [ 1.4035254  -4.24189123]\t 11931.544534748113\t 1.0665824287464973\t 2.207945410118816\t 2.7972162618667142\n",
            "17 \t [-3.2039046  -2.39651035]\t 2813.621731302601\t 1.0665824287464973\t 2.38699817595257\t 2.6655846493213806\n",
            "18 \t [2.61054967 2.78738799]\t 3632.8553461159577\t 1.0665824287464973\t 2.668178165537075\t 2.541982213889555\n",
            "19 \t [1.75932539 0.2276807 ]\t 1.1443020255465366\t 1.0665824287464973\t 2.2240713071571028\t 2.4711069659795872\n",
            "20 \t [-1.94257075  2.54206189]\t 819.7764346697476\t 1.0665824287464973\t 2.4732136903009057\t 2.7083979897031027\n"
          ]
        }
      ],
      "source": [
        "### EXACT STP EI GRADIENTS\n",
        "\n",
        "np.random.seed(run_num_2)\n",
        "surrogate_stp_2 = dtStudentProcess(cov_func, optimize=opt, nu = df)\n",
        "\n",
        "stp_2 = dGPGO_stp(surrogate_stp_2, Acquisition_grad(util_stp), objfunc, param)\n",
        "stp_2.run(init_evals=n_init, max_iter=iters)\n"
      ]
    },
    {
      "cell_type": "code",
      "execution_count": 36,
      "metadata": {
        "id": "XieJ158mIvlP",
        "colab": {
          "base_uri": "https://localhost:8080/"
        },
        "outputId": "a6b69414-cc55-456a-ce4b-7107598746c3"
      },
      "outputs": [
        {
          "output_type": "stream",
          "name": "stdout",
          "text": [
            "Evaluation \t Proposed point \t  Current eval. \t  Best eval. \t        Exact EI: StdDev. x \t Approx EI: StdDev. x \n",
            "init\t [0.45718112 1.8733304 ]\t 41.912714742005974\t 41.912714742005974\t    \t    \n",
            "init\t [-1.88185735  0.09744845]\t 47.451188393399434\t 41.912714742005974\t    \t    \n",
            "init\t [3.53652259 3.5666378 ]\t 27475.816689924115\t 41.912714742005974\t    \t    \n",
            "init\t [-3.36973221 -2.6348141 ]\t 5079.048973002421\t 41.912714742005974\t    \t    \n",
            "init\t [-4.03679517 -0.53271141]\t 138.4086524103332\t 41.912714742005974\t    \t    \n",
            "1  \t [ 2.52283288 -1.74272821]\t 259.55509339560894\t 41.912714742005974\t 3.0806288044778567\t 2.815944078874167\n",
            "2  \t [-3.92590132  2.50335198]\t 3388.148767845736\t 41.912714742005974\t 3.016910191133809\t 4.111807600685231\n",
            "3  \t [-0.78857026  3.75085833]\t 1524.5643974893171\t 41.912714742005974\t 2.726795394206328\t 3.769399353217269\n",
            "4  \t [ 0.34913392 -3.81990236]\t 344.27143405853224\t 41.912714742005974\t 2.5836228862622543\t 3.9026052325489973\n",
            "5  \t [ 2.9558873  -4.12137429]\t 45591.66521870441\t 41.912714742005974\t 3.351430841435297\t 3.772214938623412\n",
            "\u001b[1m\u001b[92m6\u001b[0m\t \u001b[1m\u001b[92m[ 0.18414475 -1.02275688]\u001b[0m\t \u001b[1m\u001b[92m11.406882546409602\u001b[0m\t \u001b[1m\u001b[92m11.406882546409602\u001b[0m\t \u001b[1m\u001b[92m3.517043712836162\u001b[0m\t \u001b[1m\u001b[92m3.44214064805025\u001b[0m\n",
            "7  \t [ 3.85658111 -0.15876849]\t 12.647511978027758\t 11.406882546409602\t 3.1374024981862023\t 3.756853897895796\n",
            "\u001b[1m\u001b[92m8\u001b[0m\t \u001b[1m\u001b[92m[1.72712565 0.34516579]\u001b[0m\t \u001b[1m\u001b[92m1.605860468042483\u001b[0m\t \u001b[1m\u001b[92m1.605860468042483\u001b[0m\t \u001b[1m\u001b[92m3.3227859042996064\u001b[0m\t \u001b[1m\u001b[92m3.6016493395022215\u001b[0m\n",
            "9  \t [-4.5 -4.5]\t 181853.61328125\t 1.605860468042483\t 3.6193505457586355\t 3.594512634845165\n",
            "10 \t [-1.25706069 -2.47037155]\t 573.0816307889994\t 1.605860468042483\t 2.7393947762925275\t 3.2677576140862237\n",
            "11 \t [-1.99804027  2.34213067]\t 489.45574895126686\t 1.605860468042483\t 2.626190939080333\t 3.274577085402436\n",
            "12 \t [0.95355394 4.5       ]\t 8291.595162024814\t 1.605860468042483\t 2.735086846877785\t 3.2266182365153853\n",
            "13 \t [-2.70450997 -1.1789811 ]\t 151.37514073723102\t 1.605860468042483\t 2.8869397312634475\t 3.5249739068644614\n",
            "14 \t [-1.31109525 -4.26268529]\t 11608.632327774576\t 1.605860468042483\t 2.24808247301936\t 3.29292845728822\n",
            "15 \t [-2.75377948  4.21520965]\t 42331.380093726235\t 1.605860468042483\t 2.3831780674176546\t 3.280155803373037\n",
            "16 \t [2.90507015 1.38448905]\t 86.18615289418747\t 1.605860468042483\t 2.350135956033264\t 2.965280201904778\n",
            "17 \t [-0.45777358  0.67718444]\t 17.601632803554228\t 1.605860468042483\t 2.624111734581095\t 3.064233096652037\n",
            "18 \t [ 4.24820087 -2.3573789 ]\t 3910.515172168267\t 1.605860468042483\t 2.8662170902998603\t 3.708932774355064\n",
            "19 \t [-2.88565957  1.00474662]\t 13.824357949452299\t 1.605860468042483\t 2.819859552010102\t 3.823175491571653\n",
            "20 \t [4.26275153 1.68297706]\t 469.7141506628333\t 1.605860468042483\t 2.924471709231043\t 3.6124402830158124\n"
          ]
        }
      ],
      "source": [
        "### EXACT STP EI GRADIENTS\n",
        "\n",
        "np.random.seed(run_num_3)\n",
        "surrogate_stp_3 = dtStudentProcess(cov_func, optimize=opt, nu = df)\n",
        "\n",
        "stp_3 = dGPGO_stp(surrogate_stp_3, Acquisition_grad(util_stp), objfunc, param)\n",
        "stp_3.run(init_evals=n_init, max_iter=iters)\n"
      ]
    },
    {
      "cell_type": "code",
      "execution_count": 37,
      "metadata": {
        "id": "PhLBVOIfIvol",
        "colab": {
          "base_uri": "https://localhost:8080/"
        },
        "outputId": "abc0a08a-4eff-420d-cb18-681a3a8626a5"
      },
      "outputs": [
        {
          "output_type": "stream",
          "name": "stdout",
          "text": [
            "Evaluation \t Proposed point \t  Current eval. \t  Best eval. \t        Exact EI: StdDev. x \t Approx EI: StdDev. x \n",
            "init\t [4.20326855 0.42509024]\t 3.8409856613776237\t 3.8409856613776237\t    \t    \n",
            "init\t [4.25415924 1.93334394]\t 1070.6518137934977\t 3.8409856613776237\t    \t    \n",
            "init\t [ 1.77955942 -2.55519454]\t 1001.3529311398922\t 3.8409856613776237\t    \t    \n",
            "init\t [ 4.28647009 -4.4439277 ]\t 150069.47442764963\t 3.8409856613776237\t    \t    \n",
            "init\t [-2.22315874 -0.58687621]\t 67.08861688517413\t 3.8409856613776237\t    \t    \n",
            "1  \t [-0.70672386  3.8976077 ]\t 1544.0951252541086\t 3.8409856613776237\t 3.432981558400771\t 4.038649852519747\n",
            "2  \t [-4.5 -4.5]\t 181853.61328125\t 3.8409856613776237\t 4.280739931756749\t 3.478649772371184\n",
            "3  \t [0.88086456 0.6039407 ]\t 7.939154513868287\t 3.8409856613776237\t 2.8405904402058444\t 3.922943169656831\n",
            "4  \t [4.5 4.5]\t 174813.36328125\t 3.8409856613776237\t 2.7390075819476554\t 4.085618158712691\n",
            "5  \t [-4.5        1.9595647]\t 833.5906813515462\t 3.8409856613776237\t 2.200234647329849\t 3.5104468426510693\n",
            "6  \t [-0.3446423  -4.33120663]\t 985.3872073284508\t 3.8409856613776237\t 2.350699292363125\t 2.8497058821097254\n",
            "7  \t [-1.7359528   1.70548325]\t 19.27394724806911\t 3.8409856613776237\t 1.990586117827062\t 3.1222154479604516\n",
            "8  \t [-0.35016991 -1.89025643]\t 36.64830731750817\t 3.8409856613776237\t 2.052143406451351\t 3.133518472193988\n",
            "9  \t [-4.5        -0.54323229]\t 162.27472036645597\t 3.8409856613776237\t 2.465653863194362\t 3.0171739826172366\n",
            "10 \t [-3.13147048  3.71820062]\t 25577.874496114746\t 3.8409856613776237\t 2.2667956181618876\t 2.8902637967300966\n",
            "11 \t [1.61440535 2.50875978]\t 834.3974009591984\t 3.8409856613776237\t 2.435028051780397\t 2.6296127297687097\n",
            "12 \t [ 2.66069302 -0.53745926]\t 7.041237282465029\t 3.8409856613776237\t 2.521082207218836\t 3.015201714513318\n",
            "13 \t [1.11434784 4.36630411]\t 9415.487019977472\t 3.8409856613776237\t 2.3675839326742794\t 2.7175431424780285\n",
            "14 \t [-2.10712314 -2.39376514]\t 1265.6761203750173\t 3.8409856613776237\t 2.0792459010959665\t 3.0767736114160122\n",
            "15 \t [ 4.28675378 -1.33371664]\t 243.54023917910456\t 3.8409856613776237\t 2.0245404660851483\t 3.4123730591679924\n",
            "16 \t [-0.44823265 -0.24868868]\t 20.86118702394205\t 3.8409856613776237\t 2.2838570122907798\t 2.632272045506362\n",
            "17 \t [-3.88582997 -2.13412541]\t 2281.5553941131966\t 3.8409856613776237\t 2.254009186829068\t 2.652620326727214\n",
            "18 \t [2.53798623 1.28686568]\t 50.49363474402777\t 3.8409856613776237\t 2.2347188577766683\t 2.9751552293752797\n",
            "19 \t [-0.0102505   1.96511595]\t 13.69239507205939\t 3.8409856613776237\t 2.4788121990111267\t 2.98427275403197\n",
            "20 \t [ 1.18298927 -3.99115761]\t 5857.620850016359\t 3.8409856613776237\t 2.2620191601071413\t 3.702998196082771\n"
          ]
        }
      ],
      "source": [
        "### EXACT STP EI GRADIENTS\n",
        "\n",
        "np.random.seed(run_num_4)\n",
        "surrogate_stp_4 = dtStudentProcess(cov_func, optimize=opt, nu = df)\n",
        "\n",
        "stp_4 = dGPGO_stp(surrogate_stp_4, Acquisition_grad(util_stp), objfunc, param)\n",
        "stp_4.run(init_evals=n_init, max_iter=iters)\n"
      ]
    },
    {
      "cell_type": "code",
      "execution_count": 38,
      "metadata": {
        "id": "arbiPyj2IvsJ",
        "colab": {
          "base_uri": "https://localhost:8080/"
        },
        "outputId": "d0fafa78-d325-4ed6-d66b-634606a45b0e"
      },
      "outputs": [
        {
          "output_type": "stream",
          "name": "stdout",
          "text": [
            "Evaluation \t Proposed point \t  Current eval. \t  Best eval. \t        Exact EI: StdDev. x \t Approx EI: StdDev. x \n",
            "init\t [-2.50206146  3.33659076]\t 8263.905568073349\t 0.311397019260738\t    \t    \n",
            "init\t [-2.6395276   3.76749817]\t 19560.15202528338\t 0.311397019260738\t    \t    \n",
            "init\t [-0.1042993   1.00569477]\t 14.186578993925806\t 0.311397019260738\t    \t    \n",
            "init\t [2.39317071 0.16576189]\t 0.311397019260738\t 0.311397019260738\t    \t    \n",
            "init\t [-1.82879549 -2.81050894]\t 2208.9823086257425\t 0.311397019260738\t    \t    \n",
            "1  \t [4.5 4.5]\t 174813.36222476623\t 0.311397019260738\t 3.8459484662966297\t 4.206652369360936\n",
            "2  \t [ 3.93357159 -3.55305729]\t 34164.92095741094\t 0.311397019260738\t 3.513483798174317\t 3.846870025353718\n",
            "3  \t [-4.5 -4.5]\t 181853.61328125\t 0.311397019260738\t 3.4648529653305555\t 3.7288893711057116\n",
            "4  \t [-3.92632033 -0.04377087]\t 112.31778622350961\t 0.311397019260738\t 2.281806520992422\t 3.263961180853925\n",
            "5  \t [0.82442373 3.37944029]\t 1259.7779873730801\t 0.311397019260738\t 2.1775802845802024\t 2.832937237066602\n",
            "6  \t [ 0.3801762  -4.32498627]\t 893.8618066304975\t 0.311397019260738\t 2.4765611593747945\t 2.77768764999375\n",
            "7  \t [4.5       0.4208384]\t 5.705406875806743\t 0.311397019260738\t 1.849660214733172\t 2.806801495659081\n",
            "8  \t [ 0.63358422 -1.56409734]\t 10.22914553397768\t 0.311397019260738\t 2.5863038936021923\t 3.283441108714185\n",
            "9  \t [-2.29791401  0.77551285]\t 28.917922068903586\t 0.311397019260738\t 2.4714260211289427\t 3.044221354555801\n",
            "10 \t [-1.88295089 -0.9119295 ]\t 67.83580550666822\t 0.311397019260738\t 2.4177181842620388\t 2.986387260715312\n",
            "11 \t [2.37851993 1.95215043]\t 415.91181973683695\t 0.311397019260738\t 2.2171171160872314\t 3.0247535078218353\n",
            "12 \t [ 3.70708556 -1.09522102]\t 83.64355070159502\t 0.311397019260738\t 2.1605728973289526\t 2.644425828192461\n",
            "13 \t [-1.32503344 -4.5       ]\t 16166.626689074228\t 0.311397019260738\t 2.6347678063025284\t 3.406219077553421\n",
            "14 \t [-4.05924317  1.77142721]\t 296.1516944049386\t 0.311397019260738\t 1.953492840828895\t 2.9582633656040587\n",
            "15 \t [ 1.906121   -1.12898884]\t 18.332860586955878\t 0.311397019260738\t 2.3760544379255575\t 3.312785734158498\n",
            "16 \t [ 1.45736922 -3.14534063]\t 2204.025491341696\t 0.311397019260738\t 2.4280082434135153\t 3.556742319181605\n",
            "17 \t [-3.98677396 -1.4669545 ]\t 502.5107594399198\t 0.311397019260738\t 2.043384966256742\t 2.9615609512874026\n",
            "18 \t [-3.47667639  1.71964359]\t 155.8021273903642\t 0.311397019260738\t 2.621165292914871\t 2.6812756616288844\n",
            "19 \t [-0.98436591  2.53909011]\t 166.03796551932007\t 0.311397019260738\t 2.1684999120863435\t 2.899448382900031\n",
            "20 \t [2.39808766 4.49769673]\t 50142.90004589183\t 0.311397019260738\t 2.647541939108545\t 3.4882381396928683\n"
          ]
        }
      ],
      "source": [
        "### EXACT STP EI GRADIENTS\n",
        "\n",
        "np.random.seed(run_num_5)\n",
        "surrogate_stp_5 = dtStudentProcess(cov_func, optimize=opt, nu = df)\n",
        "\n",
        "stp_5 = dGPGO_stp(surrogate_stp_5, Acquisition_grad(util_stp), objfunc, param)\n",
        "stp_5.run(init_evals=n_init, max_iter=iters)\n"
      ]
    },
    {
      "cell_type": "code",
      "execution_count": 39,
      "metadata": {
        "id": "04KJCEm_Ivvf",
        "colab": {
          "base_uri": "https://localhost:8080/"
        },
        "outputId": "8374d679-9493-4510-8353-d0b3addcfc7b"
      },
      "outputs": [
        {
          "output_type": "stream",
          "name": "stdout",
          "text": [
            "Evaluation \t Proposed point \t  Current eval. \t  Best eval. \t        Exact EI: StdDev. x \t Approx EI: StdDev. x \n",
            "init\t [ 3.53574136 -1.51218175]\t 273.3122030790333\t 10.038000709758428\t    \t    \n",
            "init\t [ 2.89106211 -4.12473037]\t 43803.250406689425\t 10.038000709758428\t    \t    \n",
            "init\t [-3.53108988  0.85546858]\t 29.828433746298536\t 10.038000709758428\t    \t    \n",
            "init\t [ 0.26835626 -0.73073314]\t 10.658925295067505\t 10.038000709758428\t    \t    \n",
            "init\t [-1.48132936  1.10267489]\t 10.038000709758428\t 10.038000709758428\t    \t    \n",
            "1  \t [2.4432024  1.18640255]\t 32.52098304209416\t 10.038000709758428\t 3.6573389797130966\t 4.061812094727508\n",
            "2  \t [-4.5 -4.5]\t 181853.61328125\t 10.038000709758428\t 4.4910776347486845\t 4.124990918898485\n",
            "3  \t [4.5 4.5]\t 174813.36289555402\t 10.038000709758428\t 3.268018039412339\t 3.203166999814035\n",
            "4  \t [-1.87233483  4.5       ]\t 28763.04459752731\t 10.038000709758428\t 2.565471720684557\t 4.007129282451611\n",
            "5  \t [-0.76014594 -3.02898103]\t 637.2538523686267\t 10.038000709758428\t 2.1229651982918476\t 2.76607028645748\n",
            "6  \t [-2.36453635 -1.21560563]\t 131.98911532276693\t 10.038000709758428\t 2.4724215170925556\t 3.005423955072894\n",
            "7  \t [0.92803821 2.98485638]\t 798.8581583379193\t 10.038000709758428\t 2.7638597871037764\t 2.925003281755766\n",
            "\u001b[1m\u001b[92m8\u001b[0m\t \u001b[1m\u001b[92m[4.5        0.68651705]\u001b[0m\t \u001b[1m\u001b[92m0.20019899498423308\u001b[0m\t \u001b[1m\u001b[92m0.20019899498423308\u001b[0m\t \u001b[1m\u001b[92m1.986616741888974\u001b[0m\t \u001b[1m\u001b[92m3.0012269733870576\u001b[0m\n",
            "9  \t [ 1.94576109 -0.46450046]\t 2.580074786252822\t 0.20019899498423308\t 2.4838209281312706\t 3.3125517312547776\n",
            "10 \t [-4.01525201 -1.12419583]\t 254.40203212971403\t 0.20019899498423308\t 2.2170252468977525\t 3.132446255030879\n",
            "11 \t [-3.63666037  2.61321287]\t 3816.2286863161503\t 0.20019899498423308\t 2.6320515525243797\t 3.5407479056351714\n",
            "12 \t [0.20400924 1.39547444]\t 17.321000344384206\t 0.20019899498423308\t 2.4303879059839852\t 3.1018879456482926\n",
            "13 \t [ 1.02246491 -2.10696306]\t 99.4424774221931\t 0.20019899498423308\t 2.4648269268628926\t 3.250299861865313\n",
            "14 \t [-0.95018234 -1.44887794]\t 57.89725158180079\t 0.20019899498423308\t 2.6342815743327272\t 3.299845919898588\n",
            "15 \t [ 0.1666327  -3.92243551]\t 79.78243135576625\t 0.20019899498423308\t 2.531771882653676\t 3.6221038833386006\n",
            "16 \t [ 4.5        -0.75184778]\t 55.17817702853594\t 0.20019899498423308\t 2.587160938332884\t 3.6550634605311503\n",
            "17 \t [-1.91853512 -4.5       ]\t 33521.690918381195\t 0.20019899498423308\t 2.8510513663097425\t 3.3534031055564446\n",
            "18 \t [3.70416118 2.18967259]\t 1730.3652969729442\t 0.20019899498423308\t 2.696344594577058\t 3.64762644230268\n",
            "19 \t [-4.01581284  4.27123595]\t 98431.2496746598\t 0.20019899498423308\t 2.6194279336598028\t 3.362722025998898\n",
            "20 \t [2.59588243 3.76192085]\t 20507.291172510086\t 0.20019899498423308\t 2.4940161852177085\t 2.8507687380238336\n"
          ]
        }
      ],
      "source": [
        "### EXACT STP EI GRADIENTS\n",
        "\n",
        "np.random.seed(run_num_6)\n",
        "surrogate_stp_6 = dtStudentProcess(cov_func, optimize=opt, nu = df)\n",
        "\n",
        "stp_6 = dGPGO_stp(surrogate_stp_6, Acquisition_grad(util_stp), objfunc, param)\n",
        "stp_6.run(init_evals=n_init, max_iter=iters)\n"
      ]
    },
    {
      "cell_type": "code",
      "execution_count": 40,
      "metadata": {
        "id": "tAOkme3CIvyO",
        "colab": {
          "base_uri": "https://localhost:8080/"
        },
        "outputId": "91c9d122-6f22-4ef0-d76b-8fda4605c70b"
      },
      "outputs": [
        {
          "output_type": "stream",
          "name": "stdout",
          "text": [
            "Evaluation \t Proposed point \t  Current eval. \t  Best eval. \t        Exact EI: StdDev. x \t Approx EI: StdDev. x \n",
            "init\t [-3.8132254   2.51926913]\t 3321.1422834954587\t 2.9676923934097053\t    \t    \n",
            "init\t [-0.55431692  2.0111866 ]\t 2.9676923934097053\t 2.9676923934097053\t    \t    \n",
            "init\t [4.30190561 0.34646283]\t 6.32173172477085\t 2.9676923934097053\t    \t    \n",
            "init\t [ 0.01008417 -3.8515398 ]\t 11.971894461559128\t 2.9676923934097053\t    \t    \n",
            "init\t [-2.08404918e+00 -1.05749257e-03]\t 53.820317186435204\t 2.9676923934097053\t    \t    \n",
            "1  \t [1.76544417 4.09921491]\t 15955.526944430718\t 2.9676923934097053\t 3.4164629056111795\t 3.8343924772617455\n",
            "2  \t [-4.5 -4.5]\t 181853.61328125\t 2.9676923934097053\t 4.26324637814764\t 3.8933969816939755\n",
            "3  \t [ 3.35364465 -4.28487276]\t 73913.20831044044\t 2.9676923934097053\t 2.888261307960756\t 3.986820210618509\n",
            "4  \t [-3.5381093  -1.17462676]\t 226.89781537510947\t 2.9676923934097053\t 2.67741838489719\t 2.6774412239379877\n",
            "5  \t [ 1.12565709 -0.45166542]\t 3.7990026312662373\t 2.9676923934097053\t 2.422793429231366\t 3.3183309345086887\n",
            "6  \t [4.5 4.5]\t 174813.36328125\t 2.9676923934097053\t 2.8432053894817675\t 3.8336122557152836\n",
            "7  \t [-1.25378003  4.40922721]\t 11175.55416411969\t 2.9676923934097053\t 2.237338762690016\t 3.1841523060926216\n",
            "8  \t [-1.26043594 -1.9726532 ]\t 213.37233315220158\t 2.9676923934097053\t 2.448021643884249\t 3.1248334510154923\n",
            "9  \t [1.52001863 1.62817936]\t 87.44305945721226\t 2.9676923934097053\t 2.31489215483222\t 3.113739519700775\n",
            "10 \t [-4.41231747  4.33061417]\t 129388.5327537275\t 2.9676923934097053\t 2.333046105852852\t 2.914143341187956\n",
            "11 \t [ 4.21352153 -1.42561863]\t 309.9575640262917\t 2.9676923934097053\t 1.9794219288722528\t 2.304488720184493\n",
            "12 \t [-3.1506925   1.10298642]\t 6.2352106973522226\t 2.9676923934097053\t 2.3929624458726457\t 2.5997020476576385\n",
            "13 \t [ 2.07026761 -1.69163956]\t 143.47184704937274\t 2.9676923934097053\t 2.4963229436664465\t 2.337851189455965\n",
            "14 \t [-0.40083719  0.16637715]\t 19.476852638394313\t 2.9676923934097053\t 2.1143124438357175\t 2.2601067255896603\n",
            "15 \t [ 0.39246946 -2.10299967]\t 15.00114933621184\t 2.9676923934097053\t 2.7446146810130005\t 2.881307282877257\n",
            "16 \t [-2.32377323 -3.25745292]\t 7804.072064859736\t 2.9676923934097053\t 2.265494428571072\t 2.491924217160004\n",
            "17 \t [-4.25375171 -0.03900947]\t 124.57803838671829\t 2.9676923934097053\t 2.1454527483559627\t 2.311859333181647\n",
            "\u001b[1m\u001b[92m18\u001b[0m\t \u001b[1m\u001b[92m[2.6891879  0.34054668]\u001b[0m\t \u001b[1m\u001b[92m0.09271947905483087\u001b[0m\t \u001b[1m\u001b[92m0.09271947905483087\u001b[0m\t \u001b[1m\u001b[92m2.767196234754528\u001b[0m\t \u001b[1m\u001b[92m2.476125312376613\u001b[0m\n",
            "19 \t [3.06222069 2.25662019]\t 1454.8124042855786\t 0.09271947905483087\t 2.7201297691685586\t 3.1132749260996215\n",
            "20 \t [0.69281443 2.44486943]\t 184.09644198965606\t 0.09271947905483087\t 2.3181905612831124\t 2.473259271838383\n"
          ]
        }
      ],
      "source": [
        "### EXACT STP EI GRADIENTS\n",
        "\n",
        "np.random.seed(run_num_7)\n",
        "surrogate_stp_7 = dtStudentProcess(cov_func, optimize=opt, nu = df)\n",
        "\n",
        "stp_7 = dGPGO_stp(surrogate_stp_7, Acquisition_grad(util_stp), objfunc, param)\n",
        "stp_7.run(init_evals=n_init, max_iter=iters)\n"
      ]
    },
    {
      "cell_type": "code",
      "execution_count": 41,
      "metadata": {
        "id": "69-J3EF4Iv1S",
        "colab": {
          "base_uri": "https://localhost:8080/"
        },
        "outputId": "1970db6e-1919-48ae-f0fb-1b5e9bf22b25"
      },
      "outputs": [
        {
          "output_type": "stream",
          "name": "stdout",
          "text": [
            "Evaluation \t Proposed point \t  Current eval. \t  Best eval. \t        Exact EI: StdDev. x \t Approx EI: StdDev. x \n",
            "init\t [3.36086463 4.21686597]\t 66731.07602386779\t 1.8693348557707412\t    \t    \n",
            "init\t [3.32275086 0.27770122]\t 1.8693348557707412\t 1.8693348557707412\t    \t    \n",
            "init\t [-2.40544505 -4.39741076]\t 45883.361726150484\t 1.8693348557707412\t    \t    \n",
            "init\t [-0.62578064 -0.87883776]\t 26.39306084619828\t 1.8693348557707412\t    \t    \n",
            "init\t [ 0.20407204 -0.19447384]\t 11.649230998110728\t 1.8693348557707412\t    \t    \n",
            "1  \t [ 4.36274493 -4.24141156]\t 118259.86438097828\t 1.8693348557707412\t 2.8494895118606345\t 4.101435449277635\n",
            "2  \t [-4.42522463  2.59724938]\t 5535.695209202853\t 1.8693348557707412\t 2.9673926986605603\t 3.940868693662758\n",
            "3  \t [-1.03740804  4.30584897]\t 6523.65893093321\t 1.8693348557707412\t 2.854908308537745\t 3.675203657500398\n",
            "4  \t [-2.89325643 -0.6581756 ]\t 95.02616112954877\t 1.8693348557707412\t 3.3323557914810973\t 3.869072249009783\n",
            "5  \t [-1.80646106  1.70081397]\t 21.281642944696756\t 1.8693348557707412\t 2.9886786956257176\t 3.3075018345196643\n",
            "6  \t [ 1.82102167 -1.70087607]\t 110.67187904912174\t 1.8693348557707412\t 3.2971338165942687\t 3.335193189277447\n",
            "7  \t [0.94015545 1.76814729]\t 70.35303888243953\t 1.8693348557707412\t 2.9365301200277583\t 3.3197857371200774\n",
            "8  \t [-4.28670272 -2.11216566]\t 2616.439216898195\t 1.8693348557707412\t 3.3877466027968226\t 3.7798972660626555\n",
            "9  \t [ 0.83052787 -4.17138932]\t 3680.6352944648133\t 1.8693348557707412\t 2.9512106279942527\t 3.2556965620078744\n",
            "10 \t [-4.5        -0.15973572]\t 140.19535257775624\t 1.8693348557707412\t 3.323455900638838\t 3.7563831830264345\n",
            "11 \t [-0.28526947 -2.32723875]\t 49.30601888514542\t 1.8693348557707412\t 3.3743729870014856\t 3.5119694587761363\n",
            "12 \t [ 3.90895659 -1.07517579]\t 89.62340707374867\t 1.8693348557707412\t 2.777434482087032\t 3.600096081675851\n",
            "13 \t [1.72834321 0.43820055]\t 2.094319187861908\t 1.8693348557707412\t 3.5610842796045534\t 3.712492043144614\n",
            "14 \t [-3.38793184  4.43137791]\t 87217.47125131695\t 1.8693348557707412\t 3.0377035631321188\t 3.6765800269697313\n",
            "15 \t [-3.07156666  0.86236258]\t 26.810967778685455\t 1.8693348557707412\t 3.146637200332625\t 2.544120119397801\n",
            "16 \t [4.2845035  1.70093299]\t 504.963277666441\t 1.8693348557707412\t 3.120701593101228\t 2.981610287785259\n",
            "17 \t [0.58951146 3.38499994]\t 699.2876438373914\t 1.8693348557707412\t 3.7340620267099793\t 2.8204619182639066\n",
            "18 \t [-1.53248221  0.31432207]\t 36.58244498421513\t 1.8693348557707412\t 3.6259222050323427\t 2.918135447240194\n",
            "19 \t [-1.7792636  -1.93934147]\t 354.51893181138524\t 1.8693348557707412\t 2.957716840257372\t 2.456580305408019\n",
            "20 \t [-4.5 -4.5]\t 181853.61328125\t 1.8693348557707412\t 2.943760840206056\t 2.975964230519626\n"
          ]
        }
      ],
      "source": [
        "### EXACT STP EI GRADIENTS\n",
        "\n",
        "np.random.seed(run_num_8)\n",
        "surrogate_stp_8 = dtStudentProcess(cov_func, optimize=opt, nu = df)\n",
        "\n",
        "stp_8 = dGPGO_stp(surrogate_stp_8, Acquisition_grad(util_stp), objfunc, param)\n",
        "stp_8.run(init_evals=n_init, max_iter=iters)\n"
      ]
    },
    {
      "cell_type": "code",
      "execution_count": 42,
      "metadata": {
        "id": "vonm9jyuIv4t",
        "colab": {
          "base_uri": "https://localhost:8080/"
        },
        "outputId": "25242938-c411-4163-f4b9-2fa7de3c6e03"
      },
      "outputs": [
        {
          "output_type": "stream",
          "name": "stdout",
          "text": [
            "Evaluation \t Proposed point \t  Current eval. \t  Best eval. \t        Exact EI: StdDev. x \t Approx EI: StdDev. x \n",
            "init\t [-4.40663262  0.01687133]\t 127.7531900635415\t 22.479204656276803\t    \t    \n",
            "init\t [-0.03804036 -3.29553424]\t 22.479204656276803\t 22.479204656276803\t    \t    \n",
            "init\t [-3.22100023 -2.53297192]\t 3783.0538402600087\t 22.479204656276803\t    \t    \n",
            "init\t [-0.73342638 -2.26708948]\t 157.51337782244087\t 22.479204656276803\t    \t    \n",
            "init\t [-3.74346314 -1.39051224]\t 380.7730677650304\t 22.479204656276803\t    \t    \n",
            "1  \t [2.73365793 4.35023323]\t 53339.37070055468\t 22.479204656276803\t 2.652858054295598\t 2.690393160924442\n",
            "2  \t [-2.32657908  3.20298971]\t 5497.529328704222\t 22.479204656276803\t 2.587956617176783\t 3.8852890578241173\n",
            "3  \t [ 3.47248444 -3.77789856]\t 37940.058995332554\t 22.479204656276803\t 2.938706710903563\t 4.098594063739516\n",
            "\u001b[1m\u001b[92m4\u001b[0m\t \u001b[1m\u001b[92m[0.6160516  0.36051942]\u001b[0m\t \u001b[1m\u001b[92m8.313893861305488\u001b[0m\t \u001b[1m\u001b[92m8.313893861305488\u001b[0m\t \u001b[1m\u001b[92m3.687490730231018\u001b[0m\t \u001b[1m\u001b[92m3.8236061518534163\u001b[0m\n",
            "\u001b[1m\u001b[92m5\u001b[0m\t \u001b[1m\u001b[92m[4.36107394 0.39367648]\u001b[0m\t \u001b[1m\u001b[92m5.529895258666361\u001b[0m\t \u001b[1m\u001b[92m5.529895258666361\u001b[0m\t \u001b[1m\u001b[92m3.1774015062111274\u001b[0m\t \u001b[1m\u001b[92m3.3992816634957514\u001b[0m\n",
            "\u001b[1m\u001b[92m6\u001b[0m\t \u001b[1m\u001b[92m[ 2.44498465 -0.4264636 ]\u001b[0m\t \u001b[1m\u001b[92m4.01331471822414\u001b[0m\t \u001b[1m\u001b[92m4.01331471822414\u001b[0m\t \u001b[1m\u001b[92m2.963966594739441\u001b[0m\t \u001b[1m\u001b[92m3.5664073955406757\u001b[0m\n",
            "7  \t [-2.16884286  0.53211996]\t 40.75463248151003\t 4.01331471822414\t 3.531234984280313\t 3.4213371885416466\n",
            "8  \t [-4.5 -4.5]\t 181853.61328125\t 4.01331471822414\t 3.0910978828881785\t 3.319473476992232\n",
            "9  \t [0.04640187 2.35617149]\t 18.647998574474055\t 4.01331471822414\t 2.7043608325353135\t 3.4229368790510666\n",
            "10 \t [2.03328345 1.59195658]\t 113.49673051393737\t 4.01331471822414\t 2.917253651631694\t 3.286267935909978\n",
            "11 \t [-3.7384272   1.48996201]\t 41.47580496693912\t 4.01331471822414\t 2.7127250407985057\t 3.3874909742171386\n",
            "12 \t [-1.80488012 -1.14265256]\t 82.42290277586622\t 4.01331471822414\t 2.6107831069226415\t 3.141989221199975\n",
            "13 \t [-0.3083324   4.25397713]\t 442.1195944607037\t 4.01331471822414\t 2.4858821282732544\t 2.798969225731325\n",
            "14 \t [ 0.98861372 -1.55821073]\t 18.89391106847355\t 4.01331471822414\t 2.3283308124774984\t 3.0589496338807134\n",
            "15 \t [4.17193032 2.44106894]\t 4079.817524158433\t 4.01331471822414\t 2.415467751871488\t 3.013315271930225\n",
            "16 \t [-1.42273061 -3.97140955]\t 9105.205051562612\t 4.01331471822414\t 3.0127323029348942\t 3.4149399402201954\n",
            "17 \t [-0.38750213 -0.70725279]\t 20.5638027413196\t 4.01331471822414\t 2.562078358700639\t 3.6199234907115576\n",
            "18 \t [-1.06110941  1.83629046]\t 8.76500311316535\t 4.01331471822414\t 2.378077652194203\t 3.259632626031562\n",
            "19 \t [-4.38750652  3.85577638]\t 63333.09832260292\t 4.01331471822414\t 3.123382322595468\t 3.561824288569176\n",
            "20 \t [ 0.95706897 -4.5       ]\t 7759.5069616244355\t 4.01331471822414\t 2.7063785839110794\t 3.045739295010339\n"
          ]
        }
      ],
      "source": [
        "### EXACT STP EI GRADIENTS\n",
        "\n",
        "np.random.seed(run_num_9)\n",
        "surrogate_stp_9 = dtStudentProcess(cov_func, optimize=opt, nu = df)\n",
        "\n",
        "stp_9 = dGPGO_stp(surrogate_stp_9, Acquisition_grad(util_stp), objfunc, param)\n",
        "stp_9.run(init_evals=n_init, max_iter=iters)\n"
      ]
    },
    {
      "cell_type": "code",
      "execution_count": 43,
      "metadata": {
        "id": "6amuYlUdIv7r",
        "colab": {
          "base_uri": "https://localhost:8080/"
        },
        "outputId": "0d874744-ec8b-47ad-e468-34d9d8e470e1"
      },
      "outputs": [
        {
          "output_type": "stream",
          "name": "stdout",
          "text": [
            "Evaluation \t Proposed point \t  Current eval. \t  Best eval. \t        Exact EI: StdDev. x \t Approx EI: StdDev. x \n",
            "init\t [ 2.44188579 -4.31323246]\t 40500.708995062356\t 15.229523981513257\t    \t    \n",
            "init\t [1.20283411 2.23923494]\t 281.8768699287936\t 15.229523981513257\t    \t    \n",
            "init\t [-0.01343689 -2.47683019]\t 15.229523981513257\t 15.229523981513257\t    \t    \n",
            "init\t [-2.71743422  2.34477641]\t 985.5637470908332\t 15.229523981513257\t    \t    \n",
            "init\t [-2.97800247 -3.70494167]\t 26177.1461164703\t 15.229523981513257\t    \t    \n",
            "1  \t [4.5 4.5]\t 174813.36323297137\t 15.229523981513257\t 2.900135426611351\t 3.6318190562416097\n",
            "2  \t [ 4.29372653 -0.53303558]\t 31.887545894809897\t 15.229523981513257\t 2.3509133080724776\t 3.323160211855672\n",
            "\u001b[1m\u001b[92m3\u001b[0m\t \u001b[1m\u001b[92m[ 1.60916926 -0.50531231]\u001b[0m\t \u001b[1m\u001b[92m2.6099450906399166\u001b[0m\t \u001b[1m\u001b[92m2.6099450906399166\u001b[0m\t \u001b[1m\u001b[92m2.344473487610827\u001b[0m\t \u001b[1m\u001b[92m3.610757817239163\u001b[0m\n",
            "4  \t [-1.02322561 -0.08673069]\t 30.80048972853664\t 2.6099450906399166\t 2.805076737986497\t 3.594652970284983\n",
            "5  \t [-4.5        -0.07594135]\t 136.2241524965762\t 2.6099450906399166\t 2.780350861623142\t 3.880300875455009\n",
            "6  \t [0.09298606 4.45732906]\t 135.27309231417277\t 2.6099450906399166\t 2.9431186827521354\t 4.071517732867727\n",
            "7  \t [-0.80423538  2.62782873]\t 130.93538854606692\t 2.6099450906399166\t 2.6620464366872483\t 3.558731659452457\n",
            "8  \t [3.52261364 1.10041416]\t 26.80584715488915\t 2.6099450906399166\t 3.032845866233865\t 3.879578174457878\n",
            "9  \t [-2.68392481 -0.87036081]\t 101.02882568138679\t 2.6099450906399166\t 2.8036192460865506\t 3.7146847118090065\n",
            "10 \t [-1.59465478  4.20290449]\t 13639.551507338043\t 2.6099450906399166\t 3.1260922457958897\t 3.783530901944262\n",
            "11 \t [-2.71868925  0.75858652]\t 33.51818444262344\t 2.6099450906399166\t 2.808719036007176\t 3.687690260476749\n",
            "12 \t [-4.27773836  2.82918176]\t 8902.389337364095\t 2.6099450906399166\t 2.8338246514512786\t 3.2823461230462816\n",
            "13 \t [ 4.4997924 -2.1548125]\t 2708.048445538895\t 2.6099450906399166\t 2.9283358489518627\t 3.370185478715388\n",
            "14 \t [0.74223444 0.53132445]\t 8.25296374368056\t 2.6099450906399166\t 2.9834691135498477\t 3.9883165879415916\n",
            "15 \t [1.42399323 4.12536252]\t 10900.150014263289\t 2.6099450906399166\t 3.1815345443748\t 3.976838254227177\n",
            "16 \t [-1.21790524 -1.7343208 ]\t 127.33179262478403\t 2.6099450906399166\t 3.3223550060109415\t 3.925949712207998\n",
            "17 \t [2.95837962 2.55419998]\t 2780.258459682779\t 2.6099450906399166\t 3.3282304933863673\t 3.7356902045843716\n",
            "18 \t [ 2.58531863 -1.78526391]\t 310.207435994947\t 2.6099450906399166\t 2.6116028227748904\t 3.604429726709396\n",
            "19 \t [ 0.21386361 -0.99456051]\t 11.047602197526\t 2.6099450906399166\t 2.9367987770376205\t 3.700053477648276\n",
            "20 \t [-0.49151281 -4.1371291 ]\t 1486.3451023912432\t 2.6099450906399166\t 3.1612955945735854\t 3.501696258813493\n"
          ]
        }
      ],
      "source": [
        "### EXACT STP EI GRADIENTS\n",
        "\n",
        "np.random.seed(run_num_10)\n",
        "surrogate_stp_10 = dtStudentProcess(cov_func, optimize=opt, nu = df)\n",
        "\n",
        "stp_10 = dGPGO_stp(surrogate_stp_10, Acquisition_grad(util_stp), objfunc, param)\n",
        "stp_10.run(init_evals=n_init, max_iter=iters)\n"
      ]
    },
    {
      "cell_type": "code",
      "execution_count": 44,
      "metadata": {
        "id": "VwbLIP9cIv-F",
        "colab": {
          "base_uri": "https://localhost:8080/"
        },
        "outputId": "48cf47c1-c198-473c-a77e-2c07b0082a2e"
      },
      "outputs": [
        {
          "output_type": "stream",
          "name": "stdout",
          "text": [
            "Evaluation \t Proposed point \t  Current eval. \t  Best eval. \t        Exact EI: StdDev. x \t Approx EI: StdDev. x \n",
            "init\t [-2.8775728  -4.32472283]\t 59421.14819100274\t 2.8907294990196846\t    \t    \n",
            "init\t [-0.33103326  2.02440536]\t 2.8907294990196846\t 2.8907294990196846\t    \t    \n",
            "init\t [-0.71816756 -0.13115612]\t 25.271447350027046\t 2.8907294990196846\t    \t    \n",
            "init\t [-4.38497267 -0.11365553]\t 133.2515796886641\t 2.8907294990196846\t    \t    \n",
            "init\t [3.97625987 3.1571558 ]\t 16859.81677190551\t 2.8907294990196846\t    \t    \n",
            "1  \t [ 2.66792179 -3.92682212]\t 27904.860112480015\t 2.8907294990196846\t 2.75133295862056\t 4.158745940941295\n",
            "2  \t [-2.76283728  2.40869011]\t 1230.788181065641\t 2.8907294990196846\t 1.9679337012870766\t 3.2387923350750323\n",
            "3  \t [0.1352985 4.5      ]\t 247.05716384236126\t 2.8907294990196846\t 2.552708535391915\t 3.5388119462875545\n",
            "\u001b[1m\u001b[92m4\u001b[0m\t \u001b[1m\u001b[92m[ 1.94459896 -0.03802486]\u001b[0m\t \u001b[1m\u001b[92m0.8266810507754048\u001b[0m\t \u001b[1m\u001b[92m0.8266810507754048\u001b[0m\t \u001b[1m\u001b[92m2.29242472724308\u001b[0m\t \u001b[1m\u001b[92m3.214507062200505\u001b[0m\n",
            "5  \t [-2.53630147 -0.75909868]\t 85.91700135662161\t 0.8266810507754048\t 2.449135991223082\t 3.3876648351766416\n",
            "6  \t [ 3.74548904 -0.2944271 ]\t 14.06050455500892\t 0.8266810507754048\t 2.5685420650471986\t 3.407127516010655\n",
            "7  \t [ 0.07737682 -1.96541995]\t 11.56494411704259\t 0.8266810507754048\t 2.7550248132275463\t 3.5868939602644176\n",
            "8  \t [1.42700013 1.8189567 ]\t 133.62725017781818\t 0.8266810507754048\t 2.4338848285791044\t 3.608194995042693\n",
            "9  \t [-1.80335453  4.09631015]\t 14989.773493655233\t 0.8266810507754048\t 2.9449384575101805\t 3.9262469591859612\n",
            "10 \t [-4.08414557  1.50934978]\t 62.94881610861958\t 0.8266810507754048\t 2.887301548111449\t 4.036562519147972\n",
            "11 \t [-4.35249381  3.66906037]\t 46071.403512547986\t 0.8266810507754048\t 2.4273882995344125\t 3.8542856503328506\n",
            "12 \t [-2.03067692  0.83502605]\t 23.638146582866103\t 0.8266810507754048\t 2.780882141167773\t 3.2224461767137704\n",
            "13 \t [1.60141694 3.78199417]\t 8273.37826774974\t 0.8266810507754048\t 2.5306050851801376\t 3.2494931077964866\n",
            "14 \t [ 3.91729587 -1.6344452 ]\t 493.60849817781946\t 0.8266810507754048\t 2.781120104761522\t 3.4565512336826525\n",
            "15 \t [-4.06225222 -1.68776185]\t 869.215314948758\t 0.8266810507754048\t 2.943156260367577\t 3.1356104622286605\n",
            "16 \t [ 1.71004462 -1.41754329]\t 38.39857487312415\t 0.8266810507754048\t 2.144663901549554\t 3.2421362924971118\n",
            "17 \t [0.53778879 0.4610156 ]\t 9.379772420881315\t 0.8266810507754048\t 2.2192101862640934\t 2.968246739683475\n",
            "\u001b[1m\u001b[92m18\u001b[0m\t \u001b[1m\u001b[92m[4.5        0.75568836]\u001b[0m\t \u001b[1m\u001b[92m0.2672292683338334\u001b[0m\t \u001b[1m\u001b[92m0.2672292683338334\u001b[0m\t \u001b[1m\u001b[92m2.8116539870277206\u001b[0m\t \u001b[1m\u001b[92m3.32919289635064\u001b[0m\n",
            "19 \t [-0.09751616 -3.68177819]\t 62.478748472381056\t 0.2672292683338334\t 2.7526668649926562\t 3.285555344881383\n",
            "20 \t [-4.5        -3.11508711]\t 22255.89156764146\t 0.2672292683338334\t 4.154402506595672\t 4.108280054225178\n"
          ]
        }
      ],
      "source": [
        "### EXACT STP EI GRADIENTS\n",
        "\n",
        "np.random.seed(run_num_11)\n",
        "surrogate_stp_11 = dtStudentProcess(cov_func, optimize=opt, nu = df)\n",
        "\n",
        "stp_11 = dGPGO_stp(surrogate_stp_11, Acquisition_grad(util_stp), objfunc, param)\n",
        "stp_11.run(init_evals=n_init, max_iter=iters)\n"
      ]
    },
    {
      "cell_type": "code",
      "execution_count": 45,
      "metadata": {
        "id": "MlUNFjc-JTBY",
        "colab": {
          "base_uri": "https://localhost:8080/"
        },
        "outputId": "741e83e7-f90b-41b0-d012-22294fe060d4"
      },
      "outputs": [
        {
          "output_type": "stream",
          "name": "stdout",
          "text": [
            "Evaluation \t Proposed point \t  Current eval. \t  Best eval. \t        Exact EI: StdDev. x \t Approx EI: StdDev. x \n",
            "init\t [-3.11253442  2.16044727]\t 746.3412720881302\t 48.45196617039589\t    \t    \n",
            "init\t [-2.13016486  0.30365454]\t 48.45196617039589\t 48.45196617039589\t    \t    \n",
            "init\t [-4.36882534  3.76872307]\t 54651.235607336355\t 48.45196617039589\t    \t    \n",
            "init\t [ 3.60643369 -4.19920715]\t 76007.68460600567\t 48.45196617039589\t    \t    \n",
            "init\t [ 4.11254403 -3.26511611]\t 22941.17826205435\t 48.45196617039589\t    \t    \n",
            "1  \t [4.5 4.5]\t 174813.36324096035\t 48.45196617039589\t 3.9187406645015987\t 3.373630545708905\n",
            "2  \t [-4.5 -4.5]\t 181853.61328125\t 48.45196617039589\t 3.2019153682617065\t 2.8114986167332887\n",
            "\u001b[1m\u001b[92m3\u001b[0m\t \u001b[1m\u001b[92m[0.332649   2.04254398]\u001b[0m\t \u001b[1m\u001b[92m40.620951979824405\u001b[0m\t \u001b[1m\u001b[92m40.620951979824405\u001b[0m\t \u001b[1m\u001b[92m2.1407880713315475\u001b[0m\t \u001b[1m\u001b[92m1.9542362887479714\u001b[0m\n",
            "\u001b[1m\u001b[92m4\u001b[0m\t \u001b[1m\u001b[92m[2.59156115 0.02729514]\u001b[0m\t \u001b[1m\u001b[92m1.1585523745419402\u001b[0m\t \u001b[1m\u001b[92m1.1585523745419402\u001b[0m\t \u001b[1m\u001b[92m2.1109498810899687\u001b[0m\t \u001b[1m\u001b[92m2.0933038042414482\u001b[0m\n",
            "5  \t [-0.27553462 -2.53528383]\t 61.31185999168989\t 1.1585523745419402\t 1.9803573680369133\t 2.227081365353176\n",
            "6  \t [ 0.2411831  -0.30375281]\t 11.181192167039605\t 1.1585523745419402\t 2.488465050747202\t 2.7322354410573344\n",
            "7  \t [-4.4684763  -0.40962194]\t 151.21658780490748\t 1.1585523745419402\t 2.544013358543494\t 2.878033642939481\n",
            "8  \t [-0.76784524  3.95225925]\t 2018.0932626257768\t 1.1585523745419402\t 2.399448453890438\t 2.5267374146247383\n",
            "\u001b[1m\u001b[92m9\u001b[0m\t \u001b[1m\u001b[92m[4.5        0.73297923]\u001b[0m\t \u001b[1m\u001b[92m0.12774649953538705\u001b[0m\t \u001b[1m\u001b[92m0.12774649953538705\u001b[0m\t \u001b[1m\u001b[92m2.193507994923627\u001b[0m\t \u001b[1m\u001b[92m2.2317577844314003\u001b[0m\n",
            "10 \t [-2.2567129  -1.75448633]\t 356.86051668266\t 0.12774649953538705\t 2.4722825825649863\t 2.5842309546001028\n",
            "11 \t [2.43717346 1.88510816]\t 357.9031869618998\t 0.12774649953538705\t 2.3224261084379556\t 2.2776591225275276\n",
            "12 \t [ 1.94423164 -1.79990674]\t 172.7261578710245\t 0.12774649953538705\t 2.1997643027275724\t 2.75199579485293\n",
            "13 \t [1.2938001  4.00356615]\t 7615.582244245884\t 0.12774649953538705\t 2.287194835291122\t 2.614505033996947\n",
            "14 \t [ 0.1548185 -4.1503216]\t 97.09194652321617\t 0.12774649953538705\t 2.3538169196435996\t 2.4496794009856386\n",
            "15 \t [-1.80135434  2.74385024]\t 1168.0276472798628\t 0.12774649953538705\t 2.8060733612526785\t 2.316323466493852\n",
            "16 \t [ 4.04922786 -1.06628967]\t 95.13046118553444\t 0.12774649953538705\t 2.326287519338228\t 2.299407741206223\n",
            "17 \t [-0.65517435  0.84607485]\t 16.811437276827792\t 0.12774649953538705\t 2.378714297578169\t 2.243945855468923\n",
            "18 \t [-1.92215602 -3.1307187 ]\t 4340.2276450465015\t 0.12774649953538705\t 2.669311025142664\t 2.4379376552580614\n",
            "19 \t [-3.98746491 -1.98379967]\t 1693.453104879694\t 0.12774649953538705\t 2.745142868045221\t 2.7159937674322974\n",
            "20 \t [-0.13544381 -3.17679395]\t 55.75452285939291\t 0.12774649953538705\t 2.380738954413725\t 2.5500557558971595\n"
          ]
        }
      ],
      "source": [
        "### EXACT STP EI GRADIENTS\n",
        "\n",
        "np.random.seed(run_num_12)\n",
        "surrogate_stp_12 = dtStudentProcess(cov_func, optimize=opt, nu = df)\n",
        "\n",
        "stp_12 = dGPGO_stp(surrogate_stp_12, Acquisition_grad(util_stp), objfunc, param)\n",
        "stp_12.run(init_evals=n_init, max_iter=iters)\n"
      ]
    },
    {
      "cell_type": "code",
      "execution_count": 46,
      "metadata": {
        "id": "9BsKdU9eJTFL",
        "colab": {
          "base_uri": "https://localhost:8080/"
        },
        "outputId": "58ccdc44-f5ac-46fc-946a-40e1eb1d7943"
      },
      "outputs": [
        {
          "output_type": "stream",
          "name": "stdout",
          "text": [
            "Evaluation \t Proposed point \t  Current eval. \t  Best eval. \t        Exact EI: StdDev. x \t Approx EI: StdDev. x \n",
            "init\t [ 2.4993217  -2.36212902]\t 1312.0597023727128\t 25.917758071459016\t    \t    \n",
            "init\t [2.91850679 4.19174278]\t 48757.43948599124\t 25.917758071459016\t    \t    \n",
            "init\t [ 4.25341003 -0.41895677]\t 25.917758071459016\t 25.917758071459016\t    \t    \n",
            "init\t [0.98138216 2.47973863]\t 337.8750512678324\t 25.917758071459016\t    \t    \n",
            "init\t [1.2745201  1.99816407]\t 177.1374160884886\t 25.917758071459016\t    \t    \n",
            "1  \t [-2.27719169  1.9100941 ]\t 134.9064095365935\t 25.917758071459016\t 3.1885870662708418\t 2.8353145834947076\n",
            "2  \t [-4.5 -4.5]\t 181853.61328125\t 25.917758071459016\t 2.8545594474531937\t 3.249570831677497\n",
            "3  \t [-1.37044263 -0.94486498]\t 49.63302038560062\t 25.917758071459016\t 2.5540960690607477\t 3.024434663477857\n",
            "4  \t [-3.94651436 -0.21796442]\t 119.60656531464491\t 25.917758071459016\t 2.568284117303307\t 3.9588861934552138\n",
            "5  \t [ 0.96196008 -4.5       ]\t 7840.9071456871225\t 25.917758071459016\t 3.1146876418911593\t 4.288862695096872\n",
            "6  \t [-0.87151635  3.82790502]\t 2153.9722037878732\t 25.917758071459016\t 2.2506215784861654\t 3.8982445065819893\n",
            "\u001b[1m\u001b[92m7\u001b[0m\t \u001b[1m\u001b[92m[ 0.90251357 -0.28532759]\u001b[0m\t \u001b[1m\u001b[92m5.0298915994839435\u001b[0m\t \u001b[1m\u001b[92m5.0298915994839435\u001b[0m\t \u001b[1m\u001b[92m2.9251921899044477\u001b[0m\t \u001b[1m\u001b[92m4.013404907391672\u001b[0m\n",
            "8  \t [4.5      1.567574]\t 332.99094129590134\t 5.0298915994839435\t 2.8747691077830777\t 3.6680441338760796\n",
            "9  \t [-0.66973142 -2.95206958]\t 446.96053781972273\t 5.0298915994839435\t 2.3052789815364285\t 3.622006122314311\n",
            "10 \t [-3.58578923  2.98638421]\t 8688.4129370863\t 5.0298915994839435\t 2.578428501492156\t 4.002224422897884\n",
            "11 \t [ 4.04489422 -3.54750737]\t 35822.22686240255\t 5.0298915994839435\t 2.9202073236857964\t 3.589359980123174\n",
            "\u001b[1m\u001b[92m12\u001b[0m\t \u001b[1m\u001b[92m[2.58537049 0.71191546]\u001b[0m\t \u001b[1m\u001b[92m2.466559670137126\u001b[0m\t \u001b[1m\u001b[92m2.466559670137126\u001b[0m\t \u001b[1m\u001b[92m2.5315078889423215\u001b[0m\t \u001b[1m\u001b[92m2.6364472209573933\u001b[0m\n",
            "\u001b[1m\u001b[92m13\u001b[0m\t \u001b[1m\u001b[92m[-0.75354351  1.70230559]\u001b[0m\t \u001b[1m\u001b[92m1.7293575968585146\u001b[0m\t \u001b[1m\u001b[92m1.7293575968585146\u001b[0m\t \u001b[1m\u001b[92m2.648507640495088\u001b[0m\t \u001b[1m\u001b[92m3.4426580343894475\u001b[0m\n",
            "14 \t [-1.23588804 -4.5       ]\t 14100.72130569672\t 1.7293575968585146\t 2.4293590287167337\t 3.0381980652738254\n",
            "15 \t [-2.68071388 -1.79259994]\t 524.7827752246925\t 1.7293575968585146\t 2.7015436180868977\t 2.9473600222302894\n",
            "16 \t [ 0.81484876 -2.07196621]\t 54.91559740448008\t 1.7293575968585146\t 2.4028789978180862\t 3.2640969133963327\n",
            "17 \t [0.58674513 4.49810174]\t 3269.157971620168\t 1.7293575968585146\t 3.3215728242037716\t 3.9122214727575333\n",
            "18 \t [-1.53112686  0.46086942]\t 33.40120088284666\t 1.7293575968585146\t 2.608224684165195\t 2.847982708316225\n",
            "19 \t [ 2.61275303 -0.85496724]\t 16.21938219470612\t 1.7293575968585146\t 2.4716401604960883\t 3.382364368706923\n",
            "20 \t [-4.13734989 -1.7062038 ]\t 939.1758501720923\t 1.7293575968585146\t 2.9536362102752007\t 3.5042727628860977\n"
          ]
        }
      ],
      "source": [
        "### EXACT STP EI GRADIENTS\n",
        "\n",
        "np.random.seed(run_num_13)\n",
        "surrogate_stp_13 = dtStudentProcess(cov_func, optimize=opt, nu = df)\n",
        "\n",
        "stp_13 = dGPGO_stp(surrogate_stp_13, Acquisition_grad(util_stp), objfunc, param)\n",
        "stp_13.run(init_evals=n_init, max_iter=iters)\n"
      ]
    },
    {
      "cell_type": "code",
      "execution_count": 47,
      "metadata": {
        "id": "k6GjFBr1JTJf",
        "colab": {
          "base_uri": "https://localhost:8080/"
        },
        "outputId": "f56a3ec1-5aa1-483b-995c-550af14b91c3"
      },
      "outputs": [
        {
          "output_type": "stream",
          "name": "stdout",
          "text": [
            "Evaluation \t Proposed point \t  Current eval. \t  Best eval. \t        Exact EI: StdDev. x \t Approx EI: StdDev. x \n",
            "init\t [0.12549009 2.45848547]\t 30.19066754742359\t 11.367015527968295\t    \t    \n",
            "init\t [ 3.33384917 -4.42757746]\t 88548.3950659154\t 11.367015527968295\t    \t    \n",
            "init\t [-1.71237667  4.11843365]\t 13933.414320383567\t 11.367015527968295\t    \t    \n",
            "init\t [ 0.11805041 -1.63544018]\t 11.367015527968295\t 11.367015527968295\t    \t    \n",
            "init\t [ 0.35279944 -2.50870552]\t 27.90050047415725\t 11.367015527968295\t    \t    \n",
            "1  \t [2.98519093 2.98519093]\t 6973.501950646162\t 11.367015527968295\t 3.880491290065632\t 3.43142254833153\n",
            "2  \t [-2.89667999 -4.24931391]\t 54386.40660008204\t 11.367015527968295\t 4.079693977389948\t 3.817087151324049\n",
            "3  \t [-3.9806155   0.31552229]\t 93.88487983949287\t 11.367015527968295\t 2.82716443706561\t 3.4041526116982657\n",
            "\u001b[1m\u001b[92m4\u001b[0m\t \u001b[1m\u001b[92m[ 3.45505385 -0.30037327]\u001b[0m\t \u001b[1m\u001b[92m10.608439308287338\u001b[0m\t \u001b[1m\u001b[92m10.608439308287338\u001b[0m\t \u001b[1m\u001b[92m2.2567053283053515\u001b[0m\t \u001b[1m\u001b[92m3.627336261465829\u001b[0m\n",
            "5  \t [-1.14673048  0.33071488]\t 29.75775796810976\t 10.608439308287338\t 2.6214203598041887\t 3.5050915503225992\n",
            "\u001b[1m\u001b[92m6\u001b[0m\t \u001b[1m\u001b[92m[1.28079394 0.33479456]\u001b[0m\t \u001b[1m\u001b[92m3.5965799641617693\u001b[0m\t \u001b[1m\u001b[92m3.5965799641617693\u001b[0m\t \u001b[1m\u001b[92m2.864823198803846\u001b[0m\t \u001b[1m\u001b[92m3.3775252611670723\u001b[0m\n",
            "7  \t [4.5 4.5]\t 174813.36328125\t 3.5965799641617693\t 2.601987446250726\t 3.603242357420996\n",
            "8  \t [-4.34083403  2.67788513]\t 6471.354681923506\t 3.5965799641617693\t 2.6531934360921356\t 3.468085729822852\n",
            "9  \t [1.11550544 4.04628866]\t 6086.812808947869\t 3.5965799641617693\t 2.478643440802141\t 2.9920468314689654\n",
            "10 \t [-4.18350129 -1.57511046]\t 702.4322175679561\t 3.5965799641617693\t 2.3083531496994625\t 3.162608782835486\n",
            "11 \t [4.33029238 1.26322587]\t 79.62631227781688\t 3.5965799641617693\t 2.475532270520336\t 3.4920461530848455\n",
            "12 \t [ 4.5        -1.43199512]\t 365.5581591201923\t 3.5965799641617693\t 2.6974983238822663\t 3.4585252704273235\n",
            "13 \t [-1.89059852 -1.39384331]\t 129.3670440464332\t 3.5965799641617693\t 2.7914443316754456\t 3.409329198950242\n",
            "14 \t [2.45686892 1.43613396]\t 85.66957516827767\t 3.5965799641617693\t 2.510685042805289\t 3.571667212247565\n",
            "15 \t [-2.28150261  1.69485196]\t 42.5487914029013\t 3.5965799641617693\t 2.5421331992159777\t 2.9865097500900166\n",
            "16 \t [ 0.10493582 -4.5       ]\t 68.67744359892379\t 3.5965799641617693\t 2.4068115107493284\t 3.358289088044038\n",
            "17 \t [ 1.93970752 -1.34130853]\t 39.65499283010908\t 3.5965799641617693\t 2.42833570464476\t 3.203779606098379\n",
            "18 \t [-1.04598941 -2.96122147]\t 1016.9658682507363\t 3.5965799641617693\t 2.671880902906068\t 2.9799752069048333\n",
            "19 \t [ 1.32195778 -3.53984702]\t 3613.435615640389\t 3.5965799641617693\t 3.1832899348325667\t 3.363895481927588\n",
            "20 \t [-4.5 -4.5]\t 181853.61328125\t 3.5965799641617693\t 2.5954902923082583\t 3.084993168471198\n"
          ]
        }
      ],
      "source": [
        "### EXACT STP EI GRADIENTS\n",
        "\n",
        "np.random.seed(run_num_14)\n",
        "surrogate_stp_14 = dtStudentProcess(cov_func, optimize=opt, nu = df)\n",
        "\n",
        "stp_14 = dGPGO_stp(surrogate_stp_14, Acquisition_grad(util_stp), objfunc, param)\n",
        "stp_14.run(init_evals=n_init, max_iter=iters)\n"
      ]
    },
    {
      "cell_type": "code",
      "execution_count": 48,
      "metadata": {
        "id": "dPS8WB3aJTN6",
        "colab": {
          "base_uri": "https://localhost:8080/"
        },
        "outputId": "65632f8d-168a-4568-f176-a866afaface8"
      },
      "outputs": [
        {
          "output_type": "stream",
          "name": "stdout",
          "text": [
            "Evaluation \t Proposed point \t  Current eval. \t  Best eval. \t        Exact EI: StdDev. x \t Approx EI: StdDev. x \n",
            "init\t [ 3.13935928 -2.88993668]\t 6575.875821208801\t 47.082686538130915\t    \t    \n",
            "init\t [-4.01073107 -1.24615399]\t 317.710908287677\t 47.082686538130915\t    \t    \n",
            "init\t [-2.02139164  0.27000202]\t 47.082686538130915\t 47.082686538130915\t    \t    \n",
            "init\t [-1.74672976 -1.75973077]\t 234.8792968363759\t 47.082686538130915\t    \t    \n",
            "init\t [-3.49432851 -2.25090888]\t 2421.671033348018\t 47.082686538130915\t    \t    \n",
            "\u001b[1m\u001b[92m1\u001b[0m\t \u001b[1m\u001b[92m[-4.23888582  0.92924136]\u001b[0m\t \u001b[1m\u001b[92m23.230964510924018\u001b[0m\t \u001b[1m\u001b[92m23.230964510924018\u001b[0m\t \u001b[1m\u001b[92m3.471395078203275\u001b[0m\t \u001b[1m\u001b[92m3.9258561807516092\u001b[0m\n",
            "2  \t [4.5 4.5]\t 174813.36328125\t 23.230964510924018\t 2.9989014452974847\t 3.4879343261660276\n",
            "3  \t [-3.40657572  4.22768441]\t 66331.74514767193\t 23.230964510924018\t 3.1103144764368857\t 3.4607071844626973\n",
            "\u001b[1m\u001b[92m4\u001b[0m\t \u001b[1m\u001b[92m[0.78845704 0.83518685]\u001b[0m\t \u001b[1m\u001b[92m11.194311730985621\u001b[0m\t \u001b[1m\u001b[92m11.194311730985621\u001b[0m\t \u001b[1m\u001b[92m2.9702711266309634\u001b[0m\t \u001b[1m\u001b[92m3.015616671253682\u001b[0m\n",
            "\u001b[1m\u001b[92m5\u001b[0m\t \u001b[1m\u001b[92m[3.82161596 0.35049932]\u001b[0m\t \u001b[1m\u001b[92m3.244448397678908\u001b[0m\t \u001b[1m\u001b[92m3.244448397678908\u001b[0m\t \u001b[1m\u001b[92m3.151556851370511\u001b[0m\t \u001b[1m\u001b[92m3.450042282451862\u001b[0m\n",
            "6  \t [-0.77603639 -4.48699848]\t 5595.023941442723\t 3.244448397678908\t 3.374737383002647\t 3.3883337235074067\n",
            "7  \t [0.42186143 4.16919816]\t 1166.1989431695804\t 3.244448397678908\t 3.334797811365875\t 3.2880574301233683\n",
            "8  \t [-4.5 -4.5]\t 181853.61328125\t 3.244448397678908\t 2.645937476070357\t 3.540060050544713\n",
            "9  \t [ 0.59831291 -1.45039871]\t 8.511641942598061\t 3.244448397678908\t 1.884650337375995\t 2.5640889695571674\n",
            "10 \t [-0.79239113  2.25001568]\t 32.655536970511\t 3.244448397678908\t 2.3748463711128283\t 3.3681960880022555\n",
            "11 \t [1.98141395 2.27141934]\t 695.7066039710213\t 3.244448397678908\t 2.0836210804573563\t 2.9304033233037163\n",
            "12 \t [ 1.21157477 -3.68966453]\t 3858.4153847230064\t 3.244448397678908\t 2.259605609110088\t 3.023543262573531\n",
            "\u001b[1m\u001b[92m13\u001b[0m\t \u001b[1m\u001b[92m[ 2.121227   -0.42412186]\u001b[0m\t \u001b[1m\u001b[92m2.6904632158484194\u001b[0m\t \u001b[1m\u001b[92m2.6904632158484194\u001b[0m\t \u001b[1m\u001b[92m2.5907895003226096\u001b[0m\t \u001b[1m\u001b[92m3.2013563301387467\u001b[0m\n",
            "14 \t [ 4.12096736 -1.07565838]\t 102.03707254983647\t 2.6904632158484194\t 2.284761643474085\t 3.3961716605661105\n",
            "15 \t [-0.71952747 -0.09525343]\t 25.204628386860776\t 2.6904632158484194\t 2.160839891991861\t 3.401817579020842\n",
            "16 \t [3.2754598  1.70612731]\t 330.8161555806463\t 2.6904632158484194\t 2.68897144080204\t 3.243659789099815\n",
            "17 \t [-0.50863228 -2.61018079]\t 159.9527130658828\t 2.6904632158484194\t 2.0585684809880305\t 3.0338461909389767\n",
            "18 \t [-1.18151828  3.50066638]\t 2321.9012039431086\t 2.6904632158484194\t 2.5145298437433845\t 3.3393291131103355\n",
            "19 \t [2.80627421 1.40527457]\t 89.67001723870028\t 2.6904632158484194\t 2.7069310848075414\t 2.7069310847376773\n",
            "20 \t [-2.62756623  1.79812215]\t 113.91678266344006\t 2.6904632158484194\t 2.3843097985935358\t 2.8525081600440525\n"
          ]
        }
      ],
      "source": [
        "### EXACT STP EI GRADIENTS\n",
        "\n",
        "np.random.seed(run_num_15)\n",
        "surrogate_stp_15 = dtStudentProcess(cov_func, optimize=opt, nu = df)\n",
        "\n",
        "stp_15 = dGPGO_stp(surrogate_stp_15, Acquisition_grad(util_stp), objfunc, param)\n",
        "stp_15.run(init_evals=n_init, max_iter=iters)\n"
      ]
    },
    {
      "cell_type": "code",
      "execution_count": 49,
      "metadata": {
        "id": "lu8ki9XIQPPN",
        "colab": {
          "base_uri": "https://localhost:8080/"
        },
        "outputId": "fd9202a5-51ae-4b43-a4db-4d8634c77380"
      },
      "outputs": [
        {
          "output_type": "stream",
          "name": "stdout",
          "text": [
            "Evaluation \t Proposed point \t  Current eval. \t  Best eval. \t        Exact EI: StdDev. x \t Approx EI: StdDev. x \n",
            "init\t [-2.49038029  0.20847007]\t 59.442894178636664\t 59.442894178636664\t    \t    \n",
            "init\t [ 0.45631311 -4.08958245]\t 932.9374489641153\t 59.442894178636664\t    \t    \n",
            "init\t [-1.25344048 -2.49227152]\t 594.9494957841517\t 59.442894178636664\t    \t    \n",
            "init\t [ 1.69853546 -3.02641717]\t 2418.389440420566\t 59.442894178636664\t    \t    \n",
            "init\t [-3.8670762   3.96909774]\t 58473.38862292419\t 59.442894178636664\t    \t    \n",
            "1  \t [4.5 4.5]\t 174813.36328125\t 59.442894178636664\t 4.295790706601609\t 4.05632649766618\n",
            "2  \t [-4.5 -4.5]\t 181853.61328125\t 59.442894178636664\t 3.4889541625081697\t 3.3922407489021706\n",
            "\u001b[1m\u001b[92m3\u001b[0m\t \u001b[1m\u001b[92m[0.41438024 1.74089771]\u001b[0m\t \u001b[1m\u001b[92m32.155925235195056\u001b[0m\t \u001b[1m\u001b[92m32.155925235195056\u001b[0m\t \u001b[1m\u001b[92m2.3665724828456147\u001b[0m\t \u001b[1m\u001b[92m2.750692438666574\u001b[0m\n",
            "\u001b[1m\u001b[92m4\u001b[0m\t \u001b[1m\u001b[92m[ 3.85332914 -0.12430422]\u001b[0m\t \u001b[1m\u001b[92m11.932318160542152\u001b[0m\t \u001b[1m\u001b[92m11.932318160542152\u001b[0m\t \u001b[1m\u001b[92m2.3488894170316175\u001b[0m\t \u001b[1m\u001b[92m3.5700423728504136\u001b[0m\n",
            "\u001b[1m\u001b[92m5\u001b[0m\t \u001b[1m\u001b[92m[ 0.98620786 -0.53398323]\u001b[0m\t \u001b[1m\u001b[92m4.603210656097588\u001b[0m\t \u001b[1m\u001b[92m4.603210656097588\u001b[0m\t \u001b[1m\u001b[92m1.95524969243536\u001b[0m\t \u001b[1m\u001b[92m2.7113170633540227\u001b[0m\n",
            "6  \t [0.15996962 4.25185808]\t 246.7979310070322\t 4.603210656097588\t 2.8296384812091446\t 3.473535347810356\n",
            "7  \t [ 4.05486449 -4.0114029 ]\t 73636.10083315914\t 4.603210656097588\t 2.330855519845778\t 3.3162588380591482\n",
            "8  \t [2.54335089 1.45669144]\t 96.22420473774193\t 4.603210656097588\t 2.157586561923816\t 2.397843097266227\n",
            "9  \t [-3.10485558 -1.53820553]\t 381.98599751830386\t 4.603210656097588\t 2.415998613658155\t 2.6478665844292766\n",
            "10 \t [-4.31451889  0.47110903]\t 87.83986234939161\t 4.603210656097588\t 2.510998052461987\t 2.5809803894420162\n",
            "11 \t [-0.78807002 -0.48246296]\t 27.529670351525624\t 4.603210656097588\t 2.269279345726904\t 2.3349190378249003\n",
            "12 \t [-1.42077121  1.99794181]\t 57.08547777687944\t 4.603210656097588\t 2.4422673628638734\t 2.858184199298927\n",
            "13 \t [1.59056443 3.20877153]\t 3186.5911927035886\t 4.603210656097588\t 2.313244958321379\t 2.360586146165923\n",
            "14 \t [-1.76739332 -4.14572379]\t 17791.34384330296\t 4.603210656097588\t 2.1495417979903055\t 2.297291834096217\n",
            "15 \t [ 2.63972767 -1.30380378]\t 72.18067632428\t 4.603210656097588\t 2.0363765931024087\t 2.0757239027268155\n",
            "16 \t [ 0.29901654 -2.01053798]\t 10.35423023001036\t 4.603210656097588\t 1.7692692492562607\t 2.047956319299144\n",
            "17 \t [-1.24126856  4.35967298]\t 10210.055885107453\t 4.603210656097588\t 2.4578017641610406\t 2.7139301475566198\n",
            "18 \t [-4.04139853  1.62030037]\t 130.44719620903524\t 4.603210656097588\t 2.491726435735119\t 2.436749648608696\n",
            "19 \t [ 4.17181247 -1.75447297]\t 798.7660641987286\t 4.603210656097588\t 2.206141115533097\t 2.1024321086188595\n",
            "20 \t [4.5        1.46950102]\t 222.69391422350128\t 4.603210656097588\t 2.5656572430132685\t 2.4451763165029017\n"
          ]
        }
      ],
      "source": [
        "### EXACT STP EI GRADIENTS\n",
        "\n",
        "np.random.seed(run_num_16)\n",
        "surrogate_stp_16 = dtStudentProcess(cov_func, optimize=opt, nu = df)\n",
        "\n",
        "stp_16 = dGPGO_stp(surrogate_stp_16, Acquisition_grad(util_stp), objfunc, param)\n",
        "stp_16.run(init_evals=n_init, max_iter=iters)\n"
      ]
    },
    {
      "cell_type": "code",
      "execution_count": 50,
      "metadata": {
        "id": "yU2SflSsJTUs",
        "colab": {
          "base_uri": "https://localhost:8080/"
        },
        "outputId": "f4f621e9-e696-445c-a0da-a3613c00a256"
      },
      "outputs": [
        {
          "output_type": "stream",
          "name": "stdout",
          "text": [
            "Evaluation \t Proposed point \t  Current eval. \t  Best eval. \t        Exact EI: StdDev. x \t Approx EI: StdDev. x \n",
            "init\t [-1.84801498  0.2752808 ]\t 43.39160388622011\t 6.891623366037299\t    \t    \n",
            "init\t [-2.77631292 -3.88889678]\t 30048.58268621874\t 6.891623366037299\t    \t    \n",
            "init\t [2.58286914 1.4070017 ]\t 81.72560623465196\t 6.891623366037299\t    \t    \n",
            "init\t [1.23768806 0.68042604]\t 6.891623366037299\t 6.891623366037299\t    \t    \n",
            "init\t [-4.14843375 -1.27967756]\t 359.4343933746243\t 6.891623366037299\t    \t    \n",
            "1  \t [ 4.35945178 -3.9086791 ]\t 73232.4143310993\t 6.891623366037299\t 3.027030649745486\t 4.279652153997513\n",
            "2  \t [-1.71955112  4.19967139]\t 15845.609765746849\t 6.891623366037299\t 2.6360220998092236\t 3.6594666981716886\n",
            "3  \t [4.5 4.5]\t 174813.36328125\t 6.891623366037299\t 2.9330494266975453\t 3.287763907077227\n",
            "4  \t [ 0.10745458 -1.62155946]\t 11.6063721346869\t 6.891623366037299\t 3.255118538487222\t 3.430220447006474\n",
            "5  \t [ 0.65317715 -4.41909896]\t 3169.0876150101226\t 6.891623366037299\t 2.9468131640252966\t 3.7960582955671542\n",
            "6  \t [-3.72535203  1.56711566]\t 74.23985536547214\t 6.891623366037299\t 2.7558291208444143\t 3.4364331908823726\n",
            "7  \t [ 3.94755246 -0.30766335]\t 17.229887715449806\t 6.891623366037299\t 2.7776554190532434\t 3.4560589709800644\n",
            "8  \t [0.980837   3.99206689]\t 4407.048665266063\t 6.891623366037299\t 2.9382303704347996\t 3.519064507539616\n",
            "9  \t [-4.16762511  3.2814715 ]\t 21275.286537777196\t 6.891623366037299\t 3.266405817345807\t 3.758466795411666\n",
            "10 \t [ 2.16089603 -1.39092926]\t 60.30638224396589\t 6.891623366037299\t 2.6696886723788604\t 2.616886859948284\n",
            "11 \t [-0.26847888  1.17823464]\t 12.736814424735115\t 6.891623366037299\t 3.1316684412479603\t 3.1438157712311336\n",
            "12 \t [-1.49659592 -1.59697539]\t 133.40678670392765\t 6.891623366037299\t 2.8901630230838222\t 2.969259691917863\n",
            "13 \t [1.13217376 2.2889256 ]\t 285.55638636838455\t 6.891623366037299\t 2.7919560637517162\t 2.3859660493053068\n",
            "14 \t [4.5        1.31115313]\t 106.87012534136323\t 6.891623366037299\t 3.0709336364970894\t 2.758374215472875\n",
            "15 \t [-4.40694413  0.22404828]\t 114.3744338124979\t 6.891623366037299\t 2.7601555089405623\t 2.6214869193009367\n",
            "16 \t [-0.29215551 -0.26006318]\t 18.392212032650555\t 6.891623366037299\t 2.8448666731523353\t 2.8754668640891787\n",
            "17 \t [ 1.34928851 -2.82285158]\t 994.5187277017923\t 6.891623366037299\t 2.6696032254583737\t 3.0058685365933497\n",
            "18 \t [2.59980589 2.80080881]\t 3705.61405347286\t 6.891623366037299\t 2.7405205071634424\t 3.374749390845868\n",
            "19 \t [-1.75921771  1.80169691]\t 37.76690708668756\t 6.891623366037299\t 2.7363952314185225\t 2.7285961002435264\n",
            "20 \t [-0.31639177 -3.92438789]\t 501.47872433617835\t 6.891623366037299\t 2.700919697315388\t 2.6002369443448474\n"
          ]
        }
      ],
      "source": [
        "### EXACT STP EI GRADIENTS\n",
        "\n",
        "np.random.seed(run_num_17)\n",
        "surrogate_stp_17 = dtStudentProcess(cov_func, optimize=opt, nu = df)\n",
        "\n",
        "stp_17 = dGPGO_stp(surrogate_stp_17, Acquisition_grad(util_stp), objfunc, param)\n",
        "stp_17.run(init_evals=n_init, max_iter=iters)\n"
      ]
    },
    {
      "cell_type": "code",
      "execution_count": 51,
      "metadata": {
        "id": "eVEhyZ9BQS-1",
        "colab": {
          "base_uri": "https://localhost:8080/"
        },
        "outputId": "9d88ff69-1231-4135-da3a-af91ec839d15"
      },
      "outputs": [
        {
          "output_type": "stream",
          "name": "stdout",
          "text": [
            "Evaluation \t Proposed point \t  Current eval. \t  Best eval. \t        Exact EI: StdDev. x \t Approx EI: StdDev. x \n",
            "init\t [1.35336818 0.04908036]\t 2.472652645883837\t 2.472652645883837\t    \t    \n",
            "init\t [ 3.40741324 -2.86343797]\t 7379.017314590048\t 2.472652645883837\t    \t    \n",
            "init\t [3.17009762 2.25122657]\t 1528.3101419799655\t 2.472652645883837\t    \t    \n",
            "init\t [1.49491501 4.39105903]\t 17224.913295283764\t 2.472652645883837\t    \t    \n",
            "init\t [-2.1872842  -4.24524667]\t 31030.348242396165\t 2.472652645883837\t    \t    \n",
            "1  \t [-4.40084975  2.56412478]\t 5036.760896230386\t 2.472652645883837\t 3.2574748132973017\t 4.0593427622559854\n",
            "2  \t [-1.36292246  0.02340281]\t 36.965911169866835\t 2.472652645883837\t 3.3922527737310344\t 3.5264024883375096\n",
            "3  \t [4.5 4.5]\t 174813.36328125\t 2.472652645883837\t 3.3389182453648667\t 4.207143571591553\n",
            "4  \t [-4.14447643 -0.88862389]\t 190.40244480470722\t 2.472652645883837\t 2.656254847175039\t 3.7651649399218514\n",
            "5  \t [-1.01421012  2.29733315]\t 79.35355612394217\t 2.472652645883837\t 2.9340478715376364\t 3.5159880901862275\n",
            "6  \t [ 1.10264319 -4.43703453]\t 9529.040211759688\t 2.472652645883837\t 2.8322816620540676\t 3.838645115855606\n",
            "7  \t [ 0.2223326  -1.79806011]\t 9.54639275834833\t 2.472652645883837\t 3.148454567492418\t 3.5710874149602714\n",
            "8  \t [0.72902764 2.04720597]\t 92.50494355260474\t 2.472652645883837\t 2.69346854473908\t 3.689588967239401\n",
            "9  \t [4.23496711 0.18343009]\t 9.73756898003448\t 2.472652645883837\t 2.828726167835329\t 3.9582085793566266\n",
            "10 \t [-2.14315806  4.13369492]\t 22560.97575934505\t 2.472652645883837\t 3.2345902654722467\t 3.8870060451041515\n",
            "11 \t [-4.5 -4.5]\t 181853.61328125\t 2.472652645883837\t 3.0254950974666213\t 4.199956200113462\n",
            "12 \t [-2.31648283 -1.45903541]\t 199.21253185663505\t 2.472652645883837\t 2.095093775492117\t 2.54228674849387\n",
            "13 \t [-3.1864252   1.10887072]\t 5.786878020895595\t 2.472652645883837\t 2.1968249439513006\t 3.6458940890114158\n",
            "14 \t [ 2.87039668 -0.94012398]\t 27.148581679585075\t 2.472652645883837\t 1.8608049571573093\t 3.75847225741391\n",
            "15 \t [ 1.67232414 -1.83702741]\t 137.86578360622886\t 2.472652645883837\t 2.48602358170536\t 3.926615717659574\n",
            "16 \t [2.43239808 1.05370864]\t 18.23237817332778\t 2.472652645883837\t 2.2618041372468425\t 3.643376388713685\n",
            "17 \t [0.02598962 0.44926213]\t 13.943957432167549\t 2.472652645883837\t 2.8939789930105473\t 3.4304784382052627\n",
            "18 \t [ 4.30996553 -1.31263958]\t 231.20295791185262\t 2.472652645883837\t 2.524101861444811\t 3.498010451483922\n",
            "19 \t [-0.9541817  -2.45133309]\t 340.34586648980564\t 2.472652645883837\t 2.1932957973991165\t 3.3803344710201775\n",
            "20 \t [-0.43685542 -4.18941006]\t 1276.8666952189249\t 2.472652645883837\t 2.620178533684952\t 3.0875893560816383\n"
          ]
        }
      ],
      "source": [
        "### EXACT STP EI GRADIENTS\n",
        "\n",
        "np.random.seed(run_num_18)\n",
        "surrogate_stp_18 = dtStudentProcess(cov_func, optimize=opt, nu = df)\n",
        "\n",
        "stp_18 = dGPGO_stp(surrogate_stp_18, Acquisition_grad(util_stp), objfunc, param)\n",
        "stp_18.run(init_evals=n_init, max_iter=iters)\n"
      ]
    },
    {
      "cell_type": "code",
      "execution_count": 52,
      "metadata": {
        "id": "B6gTz1ojQUxn",
        "colab": {
          "base_uri": "https://localhost:8080/"
        },
        "outputId": "8cf90356-59bf-4dcc-ee77-8b347353ec20"
      },
      "outputs": [
        {
          "output_type": "stream",
          "name": "stdout",
          "text": [
            "Evaluation \t Proposed point \t  Current eval. \t  Best eval. \t        Exact EI: StdDev. x \t Approx EI: StdDev. x \n",
            "init\t [-3.62219758  2.35124745]\t 1879.409018573639\t 63.544086067314716\t    \t    \n",
            "init\t [-2.27755824 -3.25681481]\t 7496.243410303341\t 63.544086067314716\t    \t    \n",
            "init\t [-1.51698093 -3.75300391]\t 7497.407542620609\t 63.544086067314716\t    \t    \n",
            "init\t [1.54779373 2.75934418]\t 1302.4341957421634\t 63.544086067314716\t    \t    \n",
            "init\t [4.34467723 1.22094661]\t 63.544086067314716\t 63.544086067314716\t    \t    \n",
            "1  \t [ 4.24232792 -3.27906201]\t 25038.73455199669\t 63.544086067314716\t 3.411840002978633\t 4.278501698591453\n",
            "2  \t [4.5 4.5]\t 174813.36328125\t 63.544086067314716\t 3.1185495986861\t 4.063954124905574\n",
            "\u001b[1m\u001b[92m3\u001b[0m\t \u001b[1m\u001b[92m[-0.23663262  0.02280684]\u001b[0m\t \u001b[1m\u001b[92m17.368832239947047\u001b[0m\t \u001b[1m\u001b[92m17.368832239947047\u001b[0m\t \u001b[1m\u001b[92m2.5149115970879974\u001b[0m\t \u001b[1m\u001b[92m3.034637725693205\u001b[0m\n",
            "4  \t [-1.03583209  4.36512184]\t 7079.807177671995\t 17.368832239947047\t 2.879020829156119\t 3.487935759014712\n",
            "\u001b[1m\u001b[92m5\u001b[0m\t \u001b[1m\u001b[92m[ 2.41784251 -0.4408243 ]\u001b[0m\t \u001b[1m\u001b[92m4.026219553236008\u001b[0m\t \u001b[1m\u001b[92m4.026219553236008\u001b[0m\t \u001b[1m\u001b[92m2.5315131710608405\u001b[0m\t \u001b[1m\u001b[92m3.581506571140751\u001b[0m\n",
            "6  \t [ 1.06219416 -2.42602199]\t 244.9840776820866\t 4.026219553236008\t 2.5111616199439832\t 3.2733038856251224\n",
            "7  \t [-4.5 -4.5]\t 181853.61328125\t 4.026219553236008\t 3.0686347076544536\t 3.668740811609097\n",
            "8  \t [-4.5        -0.32801439]\t 148.2061232143201\t 4.026219553236008\t 1.979350586457732\t 2.503254322934016\n",
            "9  \t [-2.35034942 -0.09482675]\t 62.33442198449113\t 4.026219553236008\t 2.112230123408649\t 3.2455834874871337\n",
            "10 \t [ 4.5        -0.59299439]\t 40.49223980382148\t 4.026219553236008\t 2.4011381440292716\t 2.846948974133191\n",
            "11 \t [-1.0312507   1.85995701]\t 9.333807949006282\t 4.026219553236008\t 1.8826964040894794\t 2.621521728557288\n",
            "12 \t [ 0.69486036 -4.47859043]\t 3904.32406860543\t 4.026219553236008\t 2.2205148008030804\t 3.4008077183243453\n",
            "13 \t [1.25895642 0.70344516]\t 7.129800404045486\t 4.026219553236008\t 2.5688700720020363\t 3.060227066654127\n",
            "14 \t [-1.26970046 -1.48468704]\t 86.99001372157095\t 4.026219553236008\t 2.315202893388404\t 2.937882468574445\n",
            "15 \t [2.8480067  1.33051088]\t 67.7622188180538\t 4.026219553236008\t 2.4317120724410515\t 3.7504664942745634\n",
            "16 \t [1.50255457 4.42405985]\t 18174.115684455275\t 4.026219553236008\t 2.029233613359157\t 3.3662043264291155\n",
            "17 \t [-2.43461204  3.4163768 ]\t 9050.02412242193\t 4.026219553236008\t 2.2906824414234506\t 3.8658976571786425\n",
            "18 \t [ 3.58577466 -2.32378787]\t 2545.539365896005\t 4.026219553236008\t 2.5876901219172024\t 2.5878798209287788\n",
            "19 \t [ 0.58151556 -1.04208919]\t 7.306922329078752\t 4.026219553236008\t 2.2168194283237637\t 3.180148265695692\n",
            "20 \t [ 2.17013354 -3.78011025]\t 14679.269434267662\t 4.026219553236008\t 2.338354877676277\t 3.1848845026261454\n"
          ]
        }
      ],
      "source": [
        "### EXACT STP EI GRADIENTS\n",
        "\n",
        "np.random.seed(run_num_19)\n",
        "surrogate_stp_19 = dtStudentProcess(cov_func, optimize=opt, nu = df)\n",
        "\n",
        "stp_19 = dGPGO_stp(surrogate_stp_19, Acquisition_grad(util_stp), objfunc, param)\n",
        "stp_19.run(init_evals=n_init, max_iter=iters)\n"
      ]
    },
    {
      "cell_type": "code",
      "execution_count": 53,
      "metadata": {
        "id": "aw3xvSryIwDi",
        "colab": {
          "base_uri": "https://localhost:8080/"
        },
        "outputId": "2b89e04c-c094-4f45-8193-ba26a7271551"
      },
      "outputs": [
        {
          "output_type": "stream",
          "name": "stdout",
          "text": [
            "Evaluation \t Proposed point \t  Current eval. \t  Best eval. \t        Exact EI: StdDev. x \t Approx EI: StdDev. x \n",
            "init\t [0.79317721 3.57942355]\t 1607.3829986954497\t 30.55204392634667\t    \t    \n",
            "init\t [3.52377657 2.8425373 ]\t 7209.150060592592\t 30.55204392634667\t    \t    \n",
            "init\t [-4.17699373  1.72581824]\t 253.68900136908488\t 30.55204392634667\t    \t    \n",
            "init\t [-1.09187152  0.16659851]\t 30.55204392634667\t 30.55204392634667\t    \t    \n",
            "init\t [ 1.42156319 -2.75534804]\t 963.9362838324588\t 30.55204392634667\t    \t    \n",
            "1  \t [-4.5 -4.5]\t 181853.61328125\t 30.55204392634667\t 3.479068993406834\t 3.841823312241344\n",
            "2  \t [ 3.85439608 -0.91501093]\t 54.712550362053015\t 30.55204392634667\t 2.8746319045999016\t 3.684250675399315\n",
            "3  \t [-2.05277529  4.11642477]\t 20137.75617991489\t 30.55204392634667\t 2.9199781394702726\t 4.220784426293635\n",
            "4  \t [-1.15534621 -2.28837514]\t 345.73044686017613\t 30.55204392634667\t 2.8699896331044985\t 4.214032034263336\n",
            "\u001b[1m\u001b[92m5\u001b[0m\t \u001b[1m\u001b[92m[1.39754606 0.34319314]\u001b[0m\t \u001b[1m\u001b[92m3.021744266026171\u001b[0m\t \u001b[1m\u001b[92m3.021744266026171\u001b[0m\t \u001b[1m\u001b[92m3.076037628644954\u001b[0m\t \u001b[1m\u001b[92m4.000270731691046\u001b[0m\n",
            "6  \t [ 3.64426552 -4.37676538]\t 98987.42794527693\t 3.021744266026171\t 3.1051605161890627\t 4.063200977250318\n",
            "7  \t [-4.38889403 -0.58971467]\t 160.6306713075977\t 3.021744266026171\t 3.5030609168971707\t 3.5131906082485322\n",
            "8  \t [-0.42972123 -3.98253406]\t 942.2938662104831\t 3.021744266026171\t 2.876330857752816\t 3.487767654417669\n",
            "9  \t [4.5 4.5]\t 174813.36328125\t 3.021744266026171\t 3.047840422883421\t 4.029469739741995\n",
            "10 \t [3.98674004 1.1180985 ]\t 32.160229924591725\t 3.021744266026171\t 2.3782568871759495\t 3.0081214550431836\n",
            "11 \t [2.04195437 1.97427677]\t 344.45193662659625\t 3.021744266026171\t 2.5076072593517944\t 3.0300935317997912\n",
            "\u001b[1m\u001b[92m12\u001b[0m\t \u001b[1m\u001b[92m[-0.41764343  1.9653736 ]\u001b[0m\t \u001b[1m\u001b[92m2.331172712027246\u001b[0m\t \u001b[1m\u001b[92m2.331172712027246\u001b[0m\t \u001b[1m\u001b[92m2.34837271098731\u001b[0m\t \u001b[1m\u001b[92m3.662634762595278\u001b[0m\n",
            "13 \t [-2.66730485 -0.80761455]\t 94.91212067573618\t 2.331172712027246\t 2.598243732349502\t 3.2754741560882783\n",
            "14 \t [ 1.9001035  -1.14930909]\t 19.519226189880897\t 2.331172712027246\t 2.191150868185382\t 2.797246000571124\n",
            "15 \t [ 0.10913639 -1.05750347]\t 12.444347021554348\t 2.331172712027246\t 2.0412370138052522\t 3.238362319423451\n",
            "\u001b[1m\u001b[92m16\u001b[0m\t \u001b[1m\u001b[92m[-2.3807867   1.39004687]\u001b[0m\t \u001b[1m\u001b[92m2.2560263511194645\u001b[0m\t \u001b[1m\u001b[92m2.2560263511194645\u001b[0m\t \u001b[1m\u001b[92m2.1549128456832083\u001b[0m\t \u001b[1m\u001b[92m2.8222207489583258\u001b[0m\n",
            "\u001b[1m\u001b[92m17\u001b[0m\t \u001b[1m\u001b[92m[2.84694105 0.28097145]\u001b[0m\t \u001b[1m\u001b[92m0.46298383055803555\u001b[0m\t \u001b[1m\u001b[92m0.46298383055803555\u001b[0m\t \u001b[1m\u001b[92m2.2282383815716624\u001b[0m\t \u001b[1m\u001b[92m3.0739895766941188\u001b[0m\n",
            "18 \t [-2.99063691 -2.42776643]\t 2635.019268659018\t 0.46298383055803555\t 2.768428517438322\t 3.085753519954531\n",
            "19 \t [-4.4197271   3.28438851]\t 24118.704178681943\t 0.46298383055803555\t 2.4395850363068976\t 3.327444842575382\n",
            "20 \t [-1.86645817 -4.17768772]\t 20697.69039484289\t 0.46298383055803555\t 2.152364193893509\t 2.8673384840123677\n"
          ]
        }
      ],
      "source": [
        "### EXACT STP EI GRADIENTS\n",
        "\n",
        "np.random.seed(run_num_20)\n",
        "surrogate_stp_20 = dtStudentProcess(cov_func, optimize=opt, nu = df)\n",
        "\n",
        "stp_20 = dGPGO_stp(surrogate_stp_20, Acquisition_grad(util_stp), objfunc, param)\n",
        "stp_20.run(init_evals=n_init, max_iter=iters)\n"
      ]
    },
    {
      "cell_type": "code",
      "execution_count": 54,
      "metadata": {
        "id": "5c8szjivRPme",
        "colab": {
          "base_uri": "https://localhost:8080/"
        },
        "outputId": "ae95b9fb-3c5d-4e77-fae6-b5398f680651"
      },
      "outputs": [
        {
          "output_type": "execute_result",
          "data": {
            "text/plain": [
              "1279.3644042015076"
            ]
          },
          "metadata": {},
          "execution_count": 54
        }
      ],
      "source": [
        "end_stp = time.time()\n",
        "end_stp\n",
        "\n",
        "time_stp = end_stp - start_stp\n",
        "time_stp\n"
      ]
    },
    {
      "cell_type": "code",
      "execution_count": 55,
      "metadata": {
        "id": "f6gCKnp6RR8c",
        "colab": {
          "base_uri": "https://localhost:8080/"
        },
        "outputId": "57f5f4cc-1dc3-4a47-c960-db3409b7df9d"
      },
      "outputs": [
        {
          "output_type": "execute_result",
          "data": {
            "text/plain": [
              "(-1.321396349484615, -0.23357425039576601)"
            ]
          },
          "metadata": {},
          "execution_count": 55
        }
      ],
      "source": [
        "### Simple regret minimisation: run number = 1\n",
        "\n",
        "gp_output_1 = np.append(np.min(-gp_1.GP.y[0:n_init]),-gp_1.GP.y[n_init:(n_init+iters)]) \n",
        "stp_output_1 = np.append(np.min(-stp_1.GP.y[0:n_init]),-stp_1.GP.y[n_init:(n_init+iters)]) \n",
        "\n",
        "regret_gp_1 = np.log(gp_output_1 - y_global_orig)\n",
        "regret_stp_1 = np.log(stp_output_1 - y_global_orig)\n",
        "\n",
        "simple_regret_gp_1 = min_max_array(regret_gp_1)\n",
        "simple_regret_stp_1 = min_max_array(regret_stp_1)\n",
        "\n",
        "min_simple_regret_gp_1 = min(simple_regret_gp_1)\n",
        "min_simple_regret_stp_1 = min(simple_regret_stp_1)\n",
        "\n",
        "min_simple_regret_gp_1, min_simple_regret_stp_1\n"
      ]
    },
    {
      "cell_type": "code",
      "execution_count": 56,
      "metadata": {
        "id": "94yBw5tqQxfk",
        "colab": {
          "base_uri": "https://localhost:8080/"
        },
        "outputId": "39fb334b-d847-461c-84ac-39e4f5cd36ec"
      },
      "outputs": [
        {
          "output_type": "execute_result",
          "data": {
            "text/plain": [
              "(0.8040099598567838, 0.06445954496887692)"
            ]
          },
          "metadata": {},
          "execution_count": 56
        }
      ],
      "source": [
        "### Simple regret minimisation: run number = 2\n",
        "\n",
        "gp_output_2 = np.append(np.min(-gp_2.GP.y[0:n_init]),-gp_2.GP.y[n_init:(n_init+iters)]) \n",
        "stp_output_2 = np.append(np.min(-stp_2.GP.y[0:n_init]),-stp_2.GP.y[n_init:(n_init+iters)]) \n",
        "\n",
        "regret_gp_2 = np.log(gp_output_2 - y_global_orig)\n",
        "regret_stp_2 = np.log(stp_output_2 - y_global_orig)\n",
        "\n",
        "simple_regret_gp_2 = min_max_array(regret_gp_2)\n",
        "simple_regret_stp_2 = min_max_array(regret_stp_2)\n",
        "\n",
        "min_simple_regret_gp_2 = min(simple_regret_gp_2)\n",
        "min_simple_regret_stp_2 = min(simple_regret_stp_2)\n",
        "\n",
        "min_simple_regret_gp_2, min_simple_regret_stp_2\n"
      ]
    },
    {
      "cell_type": "code",
      "execution_count": 57,
      "metadata": {
        "id": "Bu6SBWALQxfl",
        "colab": {
          "base_uri": "https://localhost:8080/"
        },
        "outputId": "94dc1ee5-6dc3-4610-c37a-cdbc5bf14604"
      },
      "outputs": [
        {
          "output_type": "execute_result",
          "data": {
            "text/plain": [
              "(0.060447131196057984, 0.47365973008294315)"
            ]
          },
          "metadata": {},
          "execution_count": 57
        }
      ],
      "source": [
        "### Simple regret minimisation: run number = 3\n",
        "\n",
        "gp_output_3 = np.append(np.min(-gp_3.GP.y[0:n_init]),-gp_3.GP.y[n_init:(n_init+iters)]) \n",
        "stp_output_3 = np.append(np.min(-stp_3.GP.y[0:n_init]),-stp_3.GP.y[n_init:(n_init+iters)]) \n",
        "\n",
        "regret_gp_3 = np.log(gp_output_3 - y_global_orig)\n",
        "regret_stp_3 = np.log(stp_output_3 - y_global_orig)\n",
        "\n",
        "simple_regret_gp_3 = min_max_array(regret_gp_3)\n",
        "simple_regret_stp_3 = min_max_array(regret_stp_3)\n",
        "\n",
        "min_simple_regret_gp_3 = min(simple_regret_gp_3)\n",
        "min_simple_regret_stp_3 = min(simple_regret_stp_3)\n",
        "\n",
        "min_simple_regret_gp_3, min_simple_regret_stp_3"
      ]
    },
    {
      "cell_type": "code",
      "execution_count": 58,
      "metadata": {
        "id": "AZm0jgxkQxfm",
        "colab": {
          "base_uri": "https://localhost:8080/"
        },
        "outputId": "cc4bbca5-42a9-45e4-bf90-3dddcd0574f4"
      },
      "outputs": [
        {
          "output_type": "execute_result",
          "data": {
            "text/plain": [
              "(-2.1266463442484316, 1.345729016312703)"
            ]
          },
          "metadata": {},
          "execution_count": 58
        }
      ],
      "source": [
        "### Simple regret minimisation: run number = 4\n",
        "\n",
        "gp_output_4 = np.append(np.min(-gp_4.GP.y[0:n_init]),-gp_4.GP.y[n_init:(n_init+iters)]) \n",
        "stp_output_4 = np.append(np.min(-stp_4.GP.y[0:n_init]),-stp_4.GP.y[n_init:(n_init+iters)]) \n",
        "\n",
        "regret_gp_4 = np.log(gp_output_4 - y_global_orig)\n",
        "regret_stp_4 = np.log(stp_output_4 - y_global_orig)\n",
        "\n",
        "simple_regret_gp_4 = min_max_array(regret_gp_4)\n",
        "simple_regret_stp_4 = min_max_array(regret_stp_4)\n",
        "\n",
        "min_simple_regret_gp_4 = min(simple_regret_gp_4)\n",
        "min_simple_regret_stp_4 = min(simple_regret_stp_4)\n",
        "\n",
        "min_simple_regret_gp_4, min_simple_regret_stp_4"
      ]
    },
    {
      "cell_type": "code",
      "execution_count": 59,
      "metadata": {
        "id": "NONPm8JIQxfn",
        "colab": {
          "base_uri": "https://localhost:8080/"
        },
        "outputId": "eb0389d9-61f1-4651-b8d1-cd188ed6b5eb"
      },
      "outputs": [
        {
          "output_type": "execute_result",
          "data": {
            "text/plain": [
              "(-1.5022078093359148, -1.1666865916873388)"
            ]
          },
          "metadata": {},
          "execution_count": 59
        }
      ],
      "source": [
        "### Simple regret minimisation: run number = 5\n",
        "\n",
        "gp_output_5 = np.append(np.min(-gp_5.GP.y[0:n_init]),-gp_5.GP.y[n_init:(n_init+iters)]) \n",
        "stp_output_5 = np.append(np.min(-stp_5.GP.y[0:n_init]),-stp_5.GP.y[n_init:(n_init+iters)]) \n",
        "\n",
        "regret_gp_5 = np.log(gp_output_5 - y_global_orig)\n",
        "regret_stp_5 = np.log(stp_output_5 - y_global_orig)\n",
        "\n",
        "simple_regret_gp_5 = min_max_array(regret_gp_5)\n",
        "simple_regret_stp_5 = min_max_array(regret_stp_5)\n",
        "\n",
        "min_simple_regret_gp_5 = min(simple_regret_gp_5)\n",
        "min_simple_regret_stp_5 = min(simple_regret_stp_5)\n",
        "\n",
        "min_simple_regret_gp_5, min_simple_regret_stp_5"
      ]
    },
    {
      "cell_type": "code",
      "execution_count": 60,
      "metadata": {
        "id": "CJv3lPuSQxfp",
        "colab": {
          "base_uri": "https://localhost:8080/"
        },
        "outputId": "a67baaf9-08f3-4110-d24b-03ff51a5a2eb"
      },
      "outputs": [
        {
          "output_type": "execute_result",
          "data": {
            "text/plain": [
              "(-0.9943494563209562, -1.6084434321723933)"
            ]
          },
          "metadata": {},
          "execution_count": 60
        }
      ],
      "source": [
        "### Simple regret minimisation: run number = 6\n",
        "\n",
        "gp_output_6 = np.append(np.min(-gp_6.GP.y[0:n_init]),-gp_6.GP.y[n_init:(n_init+iters)]) \n",
        "stp_output_6 = np.append(np.min(-stp_6.GP.y[0:n_init]),-stp_6.GP.y[n_init:(n_init+iters)]) \n",
        "\n",
        "regret_gp_6 = np.log(gp_output_6 - y_global_orig)\n",
        "regret_stp_6 = np.log(stp_output_6 - y_global_orig)\n",
        "\n",
        "simple_regret_gp_6 = min_max_array(regret_gp_6)\n",
        "simple_regret_stp_6 = min_max_array(regret_stp_6)\n",
        "\n",
        "min_simple_regret_gp_6 = min(simple_regret_gp_6)\n",
        "min_simple_regret_stp_6 = min(simple_regret_stp_6)\n",
        "\n",
        "min_simple_regret_gp_6, min_simple_regret_stp_6"
      ]
    },
    {
      "cell_type": "code",
      "execution_count": 61,
      "metadata": {
        "id": "quR2ZyApQxfq",
        "colab": {
          "base_uri": "https://localhost:8080/"
        },
        "outputId": "3a2c1915-822a-4b40-c12d-76d025db3ca3"
      },
      "outputs": [
        {
          "output_type": "execute_result",
          "data": {
            "text/plain": [
              "(1.087784678899565, -2.378176698443227)"
            ]
          },
          "metadata": {},
          "execution_count": 61
        }
      ],
      "source": [
        "### Simple regret minimisation: run number = 7\n",
        "\n",
        "gp_output_7 = np.append(np.min(-gp_7.GP.y[0:n_init]),-gp_7.GP.y[n_init:(n_init+iters)]) \n",
        "stp_output_7 = np.append(np.min(-stp_7.GP.y[0:n_init]),-stp_7.GP.y[n_init:(n_init+iters)]) \n",
        "\n",
        "regret_gp_7 = np.log(gp_output_7 - y_global_orig)\n",
        "regret_stp_7 = np.log(stp_output_7 - y_global_orig)\n",
        "\n",
        "simple_regret_gp_7 = min_max_array(regret_gp_7)\n",
        "simple_regret_stp_7 = min_max_array(regret_stp_7)\n",
        "\n",
        "min_simple_regret_gp_7 = min(simple_regret_gp_7)\n",
        "min_simple_regret_stp_7 = min(simple_regret_stp_7)\n",
        "\n",
        "min_simple_regret_gp_7, min_simple_regret_stp_7"
      ]
    },
    {
      "cell_type": "code",
      "execution_count": 62,
      "metadata": {
        "id": "99wY5nK6Qxfr",
        "colab": {
          "base_uri": "https://localhost:8080/"
        },
        "outputId": "1602e09b-aa35-4e7e-ee68-e99cc7d46b4e"
      },
      "outputs": [
        {
          "output_type": "execute_result",
          "data": {
            "text/plain": [
              "(-0.7540537081068912, 0.6255826754918475)"
            ]
          },
          "metadata": {},
          "execution_count": 62
        }
      ],
      "source": [
        "### Simple regret minimisation: run number = 8\n",
        "\n",
        "gp_output_8 = np.append(np.min(-gp_8.GP.y[0:n_init]),-gp_8.GP.y[n_init:(n_init+iters)]) \n",
        "stp_output_8 = np.append(np.min(-stp_8.GP.y[0:n_init]),-stp_8.GP.y[n_init:(n_init+iters)]) \n",
        "\n",
        "regret_gp_8 = np.log(gp_output_8 - y_global_orig)\n",
        "regret_stp_8 = np.log(stp_output_8 - y_global_orig)\n",
        "\n",
        "simple_regret_gp_8 = min_max_array(regret_gp_8)\n",
        "simple_regret_stp_8 = min_max_array(regret_stp_8)\n",
        "\n",
        "min_simple_regret_gp_8 = min(simple_regret_gp_8)\n",
        "min_simple_regret_stp_8 = min(simple_regret_stp_8)\n",
        "\n",
        "min_simple_regret_gp_8, min_simple_regret_stp_8"
      ]
    },
    {
      "cell_type": "code",
      "execution_count": 63,
      "metadata": {
        "id": "qt0P5t9qQxfs",
        "colab": {
          "base_uri": "https://localhost:8080/"
        },
        "outputId": "7c1b5596-d5f8-4233-8543-e709d66aa530"
      },
      "outputs": [
        {
          "output_type": "execute_result",
          "data": {
            "text/plain": [
              "(-1.045861676639085, 1.3896175128855641)"
            ]
          },
          "metadata": {},
          "execution_count": 63
        }
      ],
      "source": [
        "### Simple regret minimisation: run number = 9\n",
        "\n",
        "gp_output_9 = np.append(np.min(-gp_9.GP.y[0:n_init]),-gp_9.GP.y[n_init:(n_init+iters)]) \n",
        "stp_output_9 = np.append(np.min(-stp_9.GP.y[0:n_init]),-stp_9.GP.y[n_init:(n_init+iters)]) \n",
        "\n",
        "regret_gp_9 = np.log(gp_output_9 - y_global_orig)\n",
        "regret_stp_9 = np.log(stp_output_9 - y_global_orig)\n",
        "\n",
        "simple_regret_gp_9 = min_max_array(regret_gp_9)\n",
        "simple_regret_stp_9 = min_max_array(regret_stp_9)\n",
        "\n",
        "min_simple_regret_gp_9 = min(simple_regret_gp_9)\n",
        "min_simple_regret_stp_9 = min(simple_regret_stp_9)\n",
        "\n",
        "min_simple_regret_gp_9, min_simple_regret_stp_9"
      ]
    },
    {
      "cell_type": "code",
      "execution_count": 64,
      "metadata": {
        "id": "vx8to9stQxft",
        "colab": {
          "base_uri": "https://localhost:8080/"
        },
        "outputId": "5e8847ed-af8c-49c7-b054-5ab5f52fd2da"
      },
      "outputs": [
        {
          "output_type": "execute_result",
          "data": {
            "text/plain": [
              "(-0.3283014884052254, 0.9593291830443013)"
            ]
          },
          "metadata": {},
          "execution_count": 64
        }
      ],
      "source": [
        "### Simple regret minimisation: run number = 10\n",
        "\n",
        "gp_output_10 = np.append(np.min(-gp_10.GP.y[0:n_init]),-gp_10.GP.y[n_init:(n_init+iters)]) \n",
        "stp_output_10 = np.append(np.min(-stp_10.GP.y[0:n_init]),-stp_10.GP.y[n_init:(n_init+iters)]) \n",
        "\n",
        "regret_gp_10 = np.log(gp_output_10 - y_global_orig)\n",
        "regret_stp_10 = np.log(stp_output_10 - y_global_orig)\n",
        "\n",
        "simple_regret_gp_10 = min_max_array(regret_gp_10)\n",
        "simple_regret_stp_10 = min_max_array(regret_stp_10)\n",
        "\n",
        "min_simple_regret_gp_10 = min(simple_regret_gp_10)\n",
        "min_simple_regret_stp_10 = min(simple_regret_stp_10)\n",
        "\n",
        "min_simple_regret_gp_10, min_simple_regret_stp_10"
      ]
    },
    {
      "cell_type": "code",
      "execution_count": 65,
      "metadata": {
        "id": "d-FGzWyHQxfu",
        "colab": {
          "base_uri": "https://localhost:8080/"
        },
        "outputId": "16e1cd56-4586-4548-f205-dfecaf94f5f3"
      },
      "outputs": [
        {
          "output_type": "execute_result",
          "data": {
            "text/plain": [
              "(0.12914577412926617, -1.3196483061408846)"
            ]
          },
          "metadata": {},
          "execution_count": 65
        }
      ],
      "source": [
        "### Simple regret minimisation: run number = 11\n",
        "\n",
        "gp_output_11 = np.append(np.min(-gp_11.GP.y[0:n_init]),-gp_11.GP.y[n_init:(n_init+iters)]) \n",
        "stp_output_11 = np.append(np.min(-stp_11.GP.y[0:n_init]),-stp_11.GP.y[n_init:(n_init+iters)]) \n",
        "\n",
        "regret_gp_11 = np.log(gp_output_11 - y_global_orig)\n",
        "regret_stp_11 = np.log(stp_output_11 - y_global_orig)\n",
        "\n",
        "simple_regret_gp_11 = min_max_array(regret_gp_11)\n",
        "simple_regret_stp_11 = min_max_array(regret_stp_11)\n",
        "\n",
        "min_simple_regret_gp_11 = min(simple_regret_gp_11)\n",
        "min_simple_regret_stp_11 = min(simple_regret_stp_11)\n",
        "\n",
        "min_simple_regret_gp_11, min_simple_regret_stp_11"
      ]
    },
    {
      "cell_type": "code",
      "execution_count": 66,
      "metadata": {
        "id": "SvtsssyjQxfv",
        "colab": {
          "base_uri": "https://localhost:8080/"
        },
        "outputId": "016c38b9-ce73-4c55-8c0c-b557996f9336"
      },
      "outputs": [
        {
          "output_type": "execute_result",
          "data": {
            "text/plain": [
              "(-0.8471483453447622, -2.057707451170901)"
            ]
          },
          "metadata": {},
          "execution_count": 66
        }
      ],
      "source": [
        "### Simple regret minimisation: run number = 12\n",
        "\n",
        "gp_output_12 = np.append(np.min(-gp_12.GP.y[0:n_init]),-gp_12.GP.y[n_init:(n_init+iters)]) \n",
        "stp_output_12 = np.append(np.min(-stp_12.GP.y[0:n_init]),-stp_12.GP.y[n_init:(n_init+iters)]) \n",
        "\n",
        "regret_gp_12 = np.log(gp_output_12 - y_global_orig)\n",
        "regret_stp_12 = np.log(stp_output_12 - y_global_orig)\n",
        "\n",
        "simple_regret_gp_12 = min_max_array(regret_gp_12)\n",
        "simple_regret_stp_12 = min_max_array(regret_stp_12)\n",
        "\n",
        "min_simple_regret_gp_12 = min(simple_regret_gp_12)\n",
        "min_simple_regret_stp_12 = min(simple_regret_stp_12)\n",
        "\n",
        "min_simple_regret_gp_12, min_simple_regret_stp_12"
      ]
    },
    {
      "cell_type": "code",
      "execution_count": 67,
      "metadata": {
        "id": "K6OiGcHkQxfw",
        "colab": {
          "base_uri": "https://localhost:8080/"
        },
        "outputId": "2f202812-7f3c-456a-c9f5-a2b0e4b055fe"
      },
      "outputs": [
        {
          "output_type": "execute_result",
          "data": {
            "text/plain": [
              "(-4.478356331341319, 0.5477500082534937)"
            ]
          },
          "metadata": {},
          "execution_count": 67
        }
      ],
      "source": [
        "### Simple regret minimisation: run number = 13\n",
        "\n",
        "gp_output_13 = np.append(np.min(-gp_13.GP.y[0:n_init]),-gp_13.GP.y[n_init:(n_init+iters)]) \n",
        "stp_output_13 = np.append(np.min(-stp_13.GP.y[0:n_init]),-stp_13.GP.y[n_init:(n_init+iters)]) \n",
        "\n",
        "regret_gp_13 = np.log(gp_output_13 - y_global_orig)\n",
        "regret_stp_13 = np.log(stp_output_13 - y_global_orig)\n",
        "\n",
        "simple_regret_gp_13 = min_max_array(regret_gp_13)\n",
        "simple_regret_stp_13 = min_max_array(regret_stp_13)\n",
        "\n",
        "min_simple_regret_gp_13 = min(simple_regret_gp_13)\n",
        "min_simple_regret_stp_13 = min(simple_regret_stp_13)\n",
        "\n",
        "min_simple_regret_gp_13, min_simple_regret_stp_13"
      ]
    },
    {
      "cell_type": "code",
      "execution_count": 68,
      "metadata": {
        "id": "ogML73shQxfx",
        "colab": {
          "base_uri": "https://localhost:8080/"
        },
        "outputId": "5ca6f0ca-295f-46c7-83b2-2cdb696bc8e3"
      },
      "outputs": [
        {
          "output_type": "execute_result",
          "data": {
            "text/plain": [
              "(-1.5587944948939658, 1.2799833839615384)"
            ]
          },
          "metadata": {},
          "execution_count": 68
        }
      ],
      "source": [
        "### Simple regret minimisation: run number = 14\n",
        "\n",
        "gp_output_14 = np.append(np.min(-gp_14.GP.y[0:n_init]),-gp_14.GP.y[n_init:(n_init+iters)]) \n",
        "stp_output_14 = np.append(np.min(-stp_14.GP.y[0:n_init]),-stp_14.GP.y[n_init:(n_init+iters)]) \n",
        "\n",
        "regret_gp_14 = np.log(gp_output_14 - y_global_orig)\n",
        "regret_stp_14 = np.log(stp_output_14 - y_global_orig)\n",
        "\n",
        "simple_regret_gp_14 = min_max_array(regret_gp_14)\n",
        "simple_regret_stp_14 = min_max_array(regret_stp_14)\n",
        "\n",
        "min_simple_regret_gp_14 = min(simple_regret_gp_14)\n",
        "min_simple_regret_stp_14 = min(simple_regret_stp_14)\n",
        "\n",
        "min_simple_regret_gp_14, min_simple_regret_stp_14"
      ]
    },
    {
      "cell_type": "code",
      "execution_count": 69,
      "metadata": {
        "id": "9Eg7gFT9Qxfx",
        "colab": {
          "base_uri": "https://localhost:8080/"
        },
        "outputId": "4e14d6aa-969f-4e4e-ec5c-c8d8d8dfad4a"
      },
      "outputs": [
        {
          "output_type": "execute_result",
          "data": {
            "text/plain": [
              "(1.4858412266854037, 0.9897133779893232)"
            ]
          },
          "metadata": {},
          "execution_count": 69
        }
      ],
      "source": [
        "### Simple regret minimisation: run number = 15\n",
        "\n",
        "gp_output_15 = np.append(np.min(-gp_15.GP.y[0:n_init]),-gp_15.GP.y[n_init:(n_init+iters)]) \n",
        "stp_output_15 = np.append(np.min(-stp_15.GP.y[0:n_init]),-stp_15.GP.y[n_init:(n_init+iters)]) \n",
        "\n",
        "regret_gp_15 = np.log(gp_output_15 - y_global_orig)\n",
        "regret_stp_15 = np.log(stp_output_15 - y_global_orig)\n",
        "\n",
        "simple_regret_gp_15 = min_max_array(regret_gp_15)\n",
        "simple_regret_stp_15 = min_max_array(regret_stp_15)\n",
        "\n",
        "min_simple_regret_gp_15 = min(simple_regret_gp_15)\n",
        "min_simple_regret_stp_15 = min(simple_regret_stp_15)\n",
        "\n",
        "min_simple_regret_gp_15, min_simple_regret_stp_15"
      ]
    },
    {
      "cell_type": "code",
      "execution_count": 70,
      "metadata": {
        "id": "lIAC1U7ZQxfy",
        "colab": {
          "base_uri": "https://localhost:8080/"
        },
        "outputId": "fee888d6-34db-4b1b-da6d-ada1069273a7"
      },
      "outputs": [
        {
          "output_type": "execute_result",
          "data": {
            "text/plain": [
              "(-1.9848830960069965, 1.526754028745033)"
            ]
          },
          "metadata": {},
          "execution_count": 70
        }
      ],
      "source": [
        "### Simple regret minimisation: run number = 16\n",
        "\n",
        "gp_output_16 = np.append(np.min(-gp_16.GP.y[0:n_init]),-gp_16.GP.y[n_init:(n_init+iters)]) \n",
        "stp_output_16 = np.append(np.min(-stp_16.GP.y[0:n_init]),-stp_16.GP.y[n_init:(n_init+iters)]) \n",
        "\n",
        "regret_gp_16 = np.log(gp_output_16 - y_global_orig)\n",
        "regret_stp_16 = np.log(stp_output_16 - y_global_orig)\n",
        "\n",
        "simple_regret_gp_16 = min_max_array(regret_gp_16)\n",
        "simple_regret_stp_16 = min_max_array(regret_stp_16)\n",
        "\n",
        "min_simple_regret_gp_16 = min(simple_regret_gp_16)\n",
        "min_simple_regret_stp_16 = min(simple_regret_stp_16)\n",
        "\n",
        "min_simple_regret_gp_16, min_simple_regret_stp_16"
      ]
    },
    {
      "cell_type": "code",
      "execution_count": 71,
      "metadata": {
        "id": "bGott36OQxfz",
        "colab": {
          "base_uri": "https://localhost:8080/"
        },
        "outputId": "2de738f2-614d-47de-ae16-f4e73eebdd14"
      },
      "outputs": [
        {
          "output_type": "execute_result",
          "data": {
            "text/plain": [
              "(-2.9523904525907474, 1.9303066691801607)"
            ]
          },
          "metadata": {},
          "execution_count": 71
        }
      ],
      "source": [
        "### Simple regret minimisation: run number = 17\n",
        "\n",
        "gp_output_17 = np.append(np.min(-gp_17.GP.y[0:n_init]),-gp_17.GP.y[n_init:(n_init+iters)]) \n",
        "stp_output_17 = np.append(np.min(-stp_17.GP.y[0:n_init]),-stp_17.GP.y[n_init:(n_init+iters)]) \n",
        "\n",
        "regret_gp_17 = np.log(gp_output_17 - y_global_orig)\n",
        "regret_stp_17 = np.log(stp_output_17 - y_global_orig)\n",
        "\n",
        "simple_regret_gp_17 = min_max_array(regret_gp_17)\n",
        "simple_regret_stp_17 = min_max_array(regret_stp_17)\n",
        "\n",
        "min_simple_regret_gp_17 = min(simple_regret_gp_17)\n",
        "min_simple_regret_stp_17 = min(simple_regret_stp_17)\n",
        "\n",
        "min_simple_regret_gp_17, min_simple_regret_stp_17"
      ]
    },
    {
      "cell_type": "code",
      "execution_count": 72,
      "metadata": {
        "id": "Cz9ZYMBMQxfz",
        "colab": {
          "base_uri": "https://localhost:8080/"
        },
        "outputId": "a80d9f20-da22-454f-a3ad-8ae6ff5c74ac"
      },
      "outputs": [
        {
          "output_type": "execute_result",
          "data": {
            "text/plain": [
              "(0.5694998544240025, 0.9052915200747084)"
            ]
          },
          "metadata": {},
          "execution_count": 72
        }
      ],
      "source": [
        "### Simple regret minimisation: run number = 18\n",
        "\n",
        "gp_output_18 = np.append(np.min(-gp_18.GP.y[0:n_init]),-gp_18.GP.y[n_init:(n_init+iters)]) \n",
        "stp_output_18 = np.append(np.min(-stp_18.GP.y[0:n_init]),-stp_18.GP.y[n_init:(n_init+iters)]) \n",
        "\n",
        "regret_gp_18 = np.log(gp_output_18 - y_global_orig)\n",
        "regret_stp_18 = np.log(stp_output_18 - y_global_orig)\n",
        "\n",
        "simple_regret_gp_18 = min_max_array(regret_gp_18)\n",
        "simple_regret_stp_18 = min_max_array(regret_stp_18)\n",
        "\n",
        "min_simple_regret_gp_18 = min(simple_regret_gp_18)\n",
        "min_simple_regret_stp_18 = min(simple_regret_stp_18)\n",
        "\n",
        "min_simple_regret_gp_18, min_simple_regret_stp_18"
      ]
    },
    {
      "cell_type": "code",
      "execution_count": 73,
      "metadata": {
        "id": "OBfpWOHNQxf0",
        "colab": {
          "base_uri": "https://localhost:8080/"
        },
        "outputId": "d5d59cb8-4065-49a3-fa51-c65c386ba573"
      },
      "outputs": [
        {
          "output_type": "execute_result",
          "data": {
            "text/plain": [
              "(-2.4429258642568463, 1.3928278595697323)"
            ]
          },
          "metadata": {},
          "execution_count": 73
        }
      ],
      "source": [
        "### Simple regret minimisation: run number = 19\n",
        "\n",
        "gp_output_19 = np.append(np.min(-gp_19.GP.y[0:n_init]),-gp_19.GP.y[n_init:(n_init+iters)]) \n",
        "stp_output_19 = np.append(np.min(-stp_19.GP.y[0:n_init]),-stp_19.GP.y[n_init:(n_init+iters)]) \n",
        "\n",
        "regret_gp_19 = np.log(gp_output_19 - y_global_orig)\n",
        "regret_stp_19 = np.log(stp_output_19 - y_global_orig)\n",
        "\n",
        "simple_regret_gp_19 = min_max_array(regret_gp_19)\n",
        "simple_regret_stp_19 = min_max_array(regret_stp_19)\n",
        "\n",
        "min_simple_regret_gp_19 = min(simple_regret_gp_19)\n",
        "min_simple_regret_stp_19 = min(simple_regret_stp_19)\n",
        "\n",
        "min_simple_regret_gp_19, min_simple_regret_stp_19"
      ]
    },
    {
      "cell_type": "code",
      "execution_count": 74,
      "metadata": {
        "id": "BE1AJ7NsQxf0",
        "colab": {
          "base_uri": "https://localhost:8080/"
        },
        "outputId": "a430cc60-a84e-4eed-976b-00e3ac6a506a"
      },
      "outputs": [
        {
          "output_type": "execute_result",
          "data": {
            "text/plain": [
              "(1.375558906521904, -0.7700631487065193)"
            ]
          },
          "metadata": {},
          "execution_count": 74
        }
      ],
      "source": [
        "### Simple regret minimisation: run number = 20\n",
        "\n",
        "gp_output_20 = np.append(np.min(-gp_20.GP.y[0:n_init]),-gp_20.GP.y[n_init:(n_init+iters)]) \n",
        "stp_output_20 = np.append(np.min(-stp_20.GP.y[0:n_init]),-stp_20.GP.y[n_init:(n_init+iters)]) \n",
        "\n",
        "regret_gp_20 = np.log(gp_output_20 - y_global_orig)\n",
        "regret_stp_20 = np.log(stp_output_20 - y_global_orig)\n",
        "\n",
        "simple_regret_gp_20 = min_max_array(regret_gp_20)\n",
        "simple_regret_stp_20 = min_max_array(regret_stp_20)\n",
        "\n",
        "min_simple_regret_gp_20 = min(simple_regret_gp_20)\n",
        "min_simple_regret_stp_20 = min(simple_regret_stp_20)\n",
        "\n",
        "min_simple_regret_gp_20, min_simple_regret_stp_20"
      ]
    },
    {
      "cell_type": "code",
      "execution_count": 75,
      "metadata": {
        "id": "bpX-bKAHQxf1"
      },
      "outputs": [],
      "source": [
        "# Iteration1 :\n",
        "\n",
        "slice1 = 0\n",
        "\n",
        "approx1 = [simple_regret_gp_1[slice1],\n",
        "       simple_regret_gp_2[slice1],\n",
        "       simple_regret_gp_3[slice1],\n",
        "       simple_regret_gp_4[slice1],\n",
        "       simple_regret_gp_5[slice1],\n",
        "       simple_regret_gp_6[slice1],\n",
        "       simple_regret_gp_7[slice1],\n",
        "       simple_regret_gp_8[slice1],\n",
        "       simple_regret_gp_9[slice1],\n",
        "       simple_regret_gp_10[slice1],\n",
        "       simple_regret_gp_11[slice1],\n",
        "       simple_regret_gp_12[slice1],\n",
        "       simple_regret_gp_13[slice1],\n",
        "       simple_regret_gp_14[slice1],\n",
        "       simple_regret_gp_15[slice1],\n",
        "       simple_regret_gp_16[slice1],\n",
        "       simple_regret_gp_17[slice1],\n",
        "       simple_regret_gp_18[slice1],\n",
        "       simple_regret_gp_19[slice1],\n",
        "       simple_regret_gp_20[slice1]]\n",
        "\n",
        "exact1 = [simple_regret_stp_1[slice1],\n",
        "       simple_regret_stp_2[slice1],\n",
        "       simple_regret_stp_3[slice1],\n",
        "       simple_regret_stp_4[slice1],\n",
        "       simple_regret_stp_5[slice1],\n",
        "       simple_regret_stp_6[slice1],\n",
        "       simple_regret_stp_7[slice1],\n",
        "       simple_regret_stp_8[slice1],\n",
        "       simple_regret_stp_9[slice1],\n",
        "       simple_regret_stp_10[slice1],\n",
        "       simple_regret_stp_11[slice1],\n",
        "       simple_regret_stp_12[slice1],\n",
        "       simple_regret_stp_13[slice1],\n",
        "       simple_regret_stp_14[slice1],\n",
        "       simple_regret_stp_15[slice1],\n",
        "       simple_regret_stp_16[slice1],\n",
        "       simple_regret_stp_17[slice1],\n",
        "       simple_regret_stp_18[slice1],\n",
        "       simple_regret_stp_19[slice1],\n",
        "       simple_regret_stp_20[slice1]]\n",
        "\n",
        "approx1_results = pd.DataFrame(approx1).sort_values(by=[0], ascending=False)\n",
        "exact1_results = pd.DataFrame(exact1).sort_values(by=[0], ascending=False)\n",
        "\n",
        "### Best simple regret minimization IQR - approx:\n",
        "lower_gp1 = np.asarray(approx1_results[4:5][0])[0]\n",
        "median_gp1 = np.asarray(approx1_results[9:10][0])[0]\n",
        "upper_gp1 = np.asarray(approx1_results[14:15][0])[0]\n",
        "\n",
        "lower_stp1 = np.asarray(exact1_results[4:5][0])[0]\n",
        "median_stp1 = np.asarray(exact1_results[9:10][0])[0]\n",
        "upper_stp1 = np.asarray(exact1_results[14:15][0])[0]"
      ]
    },
    {
      "cell_type": "code",
      "execution_count": 76,
      "metadata": {
        "id": "CgIkJA1xQxf2"
      },
      "outputs": [],
      "source": [
        "# Iteration11 :\n",
        "\n",
        "slice11 = 10\n",
        "\n",
        "approx11 = [simple_regret_gp_1[slice11],\n",
        "       simple_regret_gp_2[slice11],\n",
        "       simple_regret_gp_3[slice11],\n",
        "       simple_regret_gp_4[slice11],\n",
        "       simple_regret_gp_5[slice11],\n",
        "       simple_regret_gp_6[slice11],\n",
        "       simple_regret_gp_7[slice11],\n",
        "       simple_regret_gp_8[slice11],\n",
        "       simple_regret_gp_9[slice11],\n",
        "       simple_regret_gp_10[slice11],\n",
        "       simple_regret_gp_11[slice11],\n",
        "       simple_regret_gp_12[slice11],\n",
        "       simple_regret_gp_13[slice11],\n",
        "       simple_regret_gp_14[slice11],\n",
        "       simple_regret_gp_15[slice11],\n",
        "       simple_regret_gp_16[slice11],\n",
        "       simple_regret_gp_17[slice11],\n",
        "       simple_regret_gp_18[slice11],\n",
        "       simple_regret_gp_19[slice11],\n",
        "       simple_regret_gp_20[slice11]]\n",
        "\n",
        "exact11 = [simple_regret_stp_1[slice11],\n",
        "       simple_regret_stp_2[slice11],\n",
        "       simple_regret_stp_3[slice11],\n",
        "       simple_regret_stp_4[slice11],\n",
        "       simple_regret_stp_5[slice11],\n",
        "       simple_regret_stp_6[slice11],\n",
        "       simple_regret_stp_7[slice11],\n",
        "       simple_regret_stp_8[slice11],\n",
        "       simple_regret_stp_9[slice11],\n",
        "       simple_regret_stp_10[slice11],\n",
        "       simple_regret_stp_11[slice11],\n",
        "       simple_regret_stp_12[slice11],\n",
        "       simple_regret_stp_13[slice11],\n",
        "       simple_regret_stp_14[slice11],\n",
        "       simple_regret_stp_15[slice11],\n",
        "       simple_regret_stp_16[slice11],\n",
        "       simple_regret_stp_17[slice11],\n",
        "       simple_regret_stp_18[slice11],\n",
        "       simple_regret_stp_19[slice11],\n",
        "       simple_regret_stp_20[slice11]]\n",
        "\n",
        "approx11_results = pd.DataFrame(approx11).sort_values(by=[0], ascending=False)\n",
        "exact11_results = pd.DataFrame(exact11).sort_values(by=[0], ascending=False)\n",
        "\n",
        "### Best simple regret minimization IQR - approx:\n",
        "lower_gp11 = np.asarray(approx11_results[4:5][0])[0]\n",
        "median_gp11 = np.asarray(approx11_results[9:10][0])[0]\n",
        "upper_gp11 = np.asarray(approx11_results[14:15][0])[0]\n",
        "\n",
        "lower_stp11 = np.asarray(exact11_results[4:5][0])[0]\n",
        "median_stp11 = np.asarray(exact11_results[9:10][0])[0]\n",
        "upper_stp11 = np.asarray(exact11_results[14:15][0])[0]"
      ]
    },
    {
      "cell_type": "code",
      "execution_count": 77,
      "metadata": {
        "id": "MFePDfGuQxf2"
      },
      "outputs": [],
      "source": [
        "# Iteration21 :\n",
        "\n",
        "slice21 = 20\n",
        "\n",
        "approx21 = [simple_regret_gp_1[slice21],\n",
        "       simple_regret_gp_2[slice21],\n",
        "       simple_regret_gp_3[slice21],\n",
        "       simple_regret_gp_4[slice21],\n",
        "       simple_regret_gp_5[slice21],\n",
        "       simple_regret_gp_6[slice21],\n",
        "       simple_regret_gp_7[slice21],\n",
        "       simple_regret_gp_8[slice21],\n",
        "       simple_regret_gp_9[slice21],\n",
        "       simple_regret_gp_10[slice21],\n",
        "       simple_regret_gp_11[slice21],\n",
        "       simple_regret_gp_12[slice21],\n",
        "       simple_regret_gp_13[slice21],\n",
        "       simple_regret_gp_14[slice21],\n",
        "       simple_regret_gp_15[slice21],\n",
        "       simple_regret_gp_16[slice21],\n",
        "       simple_regret_gp_17[slice21],\n",
        "       simple_regret_gp_18[slice21],\n",
        "       simple_regret_gp_19[slice21],\n",
        "       simple_regret_gp_20[slice21]]\n",
        "\n",
        "exact21 = [simple_regret_stp_1[slice21],\n",
        "       simple_regret_stp_2[slice21],\n",
        "       simple_regret_stp_3[slice21],\n",
        "       simple_regret_stp_4[slice21],\n",
        "       simple_regret_stp_5[slice21],\n",
        "       simple_regret_stp_6[slice21],\n",
        "       simple_regret_stp_7[slice21],\n",
        "       simple_regret_stp_8[slice21],\n",
        "       simple_regret_stp_9[slice21],\n",
        "       simple_regret_stp_10[slice21],\n",
        "       simple_regret_stp_11[slice21],\n",
        "       simple_regret_stp_12[slice21],\n",
        "       simple_regret_stp_13[slice21],\n",
        "       simple_regret_stp_14[slice21],\n",
        "       simple_regret_stp_15[slice21],\n",
        "       simple_regret_stp_16[slice21],\n",
        "       simple_regret_stp_17[slice21],\n",
        "       simple_regret_stp_18[slice21],\n",
        "       simple_regret_stp_19[slice21],\n",
        "       simple_regret_stp_20[slice21]]\n",
        "\n",
        "approx21_results = pd.DataFrame(approx21).sort_values(by=[0], ascending=False)\n",
        "exact21_results = pd.DataFrame(exact21).sort_values(by=[0], ascending=False)\n",
        "\n",
        "### Best simple regret minimization IQR - approx:\n",
        "lower_gp21 = np.asarray(approx21_results[4:5][0])[0]\n",
        "median_gp21 = np.asarray(approx21_results[9:10][0])[0]\n",
        "upper_gp21 = np.asarray(approx21_results[14:15][0])[0]\n",
        "\n",
        "lower_stp21 = np.asarray(exact21_results[4:5][0])[0]\n",
        "median_stp21 = np.asarray(exact21_results[9:10][0])[0]\n",
        "upper_stp21 = np.asarray(exact21_results[14:15][0])[0]"
      ]
    },
    {
      "cell_type": "code",
      "execution_count": 78,
      "metadata": {
        "id": "PrRDB1kfQxf3"
      },
      "outputs": [],
      "source": [
        "# Iteration2 :\n",
        "\n",
        "slice2 = 1\n",
        "\n",
        "approx2 = [simple_regret_gp_1[slice2],\n",
        "       simple_regret_gp_2[slice2],\n",
        "       simple_regret_gp_3[slice2],\n",
        "       simple_regret_gp_4[slice2],\n",
        "       simple_regret_gp_5[slice2],\n",
        "       simple_regret_gp_6[slice2],\n",
        "       simple_regret_gp_7[slice2],\n",
        "       simple_regret_gp_8[slice2],\n",
        "       simple_regret_gp_9[slice2],\n",
        "       simple_regret_gp_10[slice2],\n",
        "       simple_regret_gp_11[slice2],\n",
        "       simple_regret_gp_12[slice2],\n",
        "       simple_regret_gp_13[slice2],\n",
        "       simple_regret_gp_14[slice2],\n",
        "       simple_regret_gp_15[slice2],\n",
        "       simple_regret_gp_16[slice2],\n",
        "       simple_regret_gp_17[slice2],\n",
        "       simple_regret_gp_18[slice2],\n",
        "       simple_regret_gp_19[slice2],\n",
        "       simple_regret_gp_20[slice2]]\n",
        "\n",
        "exact2 = [simple_regret_stp_1[slice2],\n",
        "       simple_regret_stp_2[slice2],\n",
        "       simple_regret_stp_3[slice2],\n",
        "       simple_regret_stp_4[slice2],\n",
        "       simple_regret_stp_5[slice2],\n",
        "       simple_regret_stp_6[slice2],\n",
        "       simple_regret_stp_7[slice2],\n",
        "       simple_regret_stp_8[slice2],\n",
        "       simple_regret_stp_9[slice2],\n",
        "       simple_regret_stp_10[slice2],\n",
        "       simple_regret_stp_11[slice2],\n",
        "       simple_regret_stp_12[slice2],\n",
        "       simple_regret_stp_13[slice2],\n",
        "       simple_regret_stp_14[slice2],\n",
        "       simple_regret_stp_15[slice2],\n",
        "       simple_regret_stp_16[slice2],\n",
        "       simple_regret_stp_17[slice2],\n",
        "       simple_regret_stp_18[slice2],\n",
        "       simple_regret_stp_19[slice2],\n",
        "       simple_regret_stp_20[slice2]]\n",
        "\n",
        "approx2_results = pd.DataFrame(approx2).sort_values(by=[0], ascending=False)\n",
        "exact2_results = pd.DataFrame(exact2).sort_values(by=[0], ascending=False)\n",
        "\n",
        "### Best simple regret minimization IQR - approx:\n",
        "lower_gp2 = np.asarray(approx2_results[4:5][0])[0]\n",
        "median_gp2 = np.asarray(approx2_results[9:10][0])[0]\n",
        "upper_gp2 = np.asarray(approx2_results[14:15][0])[0]\n",
        "\n",
        "lower_stp2 = np.asarray(exact2_results[4:5][0])[0]\n",
        "median_stp2 = np.asarray(exact2_results[9:10][0])[0]\n",
        "upper_stp2 = np.asarray(exact2_results[14:15][0])[0]"
      ]
    },
    {
      "cell_type": "code",
      "execution_count": 79,
      "metadata": {
        "id": "B8ncJDYeQxf3"
      },
      "outputs": [],
      "source": [
        "# Iteration12 :\n",
        "\n",
        "slice12 = 11\n",
        "\n",
        "approx12 = [simple_regret_gp_1[slice12],\n",
        "       simple_regret_gp_2[slice12],\n",
        "       simple_regret_gp_3[slice12],\n",
        "       simple_regret_gp_4[slice12],\n",
        "       simple_regret_gp_5[slice12],\n",
        "       simple_regret_gp_6[slice12],\n",
        "       simple_regret_gp_7[slice12],\n",
        "       simple_regret_gp_8[slice12],\n",
        "       simple_regret_gp_9[slice12],\n",
        "       simple_regret_gp_10[slice12],\n",
        "       simple_regret_gp_11[slice12],\n",
        "       simple_regret_gp_12[slice12],\n",
        "       simple_regret_gp_13[slice12],\n",
        "       simple_regret_gp_14[slice12],\n",
        "       simple_regret_gp_15[slice12],\n",
        "       simple_regret_gp_16[slice12],\n",
        "       simple_regret_gp_17[slice12],\n",
        "       simple_regret_gp_18[slice12],\n",
        "       simple_regret_gp_19[slice12],\n",
        "       simple_regret_gp_20[slice12]]\n",
        "\n",
        "exact12 = [simple_regret_stp_1[slice12],\n",
        "       simple_regret_stp_2[slice12],\n",
        "       simple_regret_stp_3[slice12],\n",
        "       simple_regret_stp_4[slice12],\n",
        "       simple_regret_stp_5[slice12],\n",
        "       simple_regret_stp_6[slice12],\n",
        "       simple_regret_stp_7[slice12],\n",
        "       simple_regret_stp_8[slice12],\n",
        "       simple_regret_stp_9[slice12],\n",
        "       simple_regret_stp_10[slice12],\n",
        "       simple_regret_stp_11[slice12],\n",
        "       simple_regret_stp_12[slice12],\n",
        "       simple_regret_stp_13[slice12],\n",
        "       simple_regret_stp_14[slice12],\n",
        "       simple_regret_stp_15[slice12],\n",
        "       simple_regret_stp_16[slice12],\n",
        "       simple_regret_stp_17[slice12],\n",
        "       simple_regret_stp_18[slice12],\n",
        "       simple_regret_stp_19[slice12],\n",
        "       simple_regret_stp_20[slice12]]\n",
        "\n",
        "approx12_results = pd.DataFrame(approx12).sort_values(by=[0], ascending=False)\n",
        "exact12_results = pd.DataFrame(exact12).sort_values(by=[0], ascending=False)\n",
        "\n",
        "### Best simple regret minimization IQR - approx:\n",
        "lower_gp12 = np.asarray(approx12_results[4:5][0])[0]\n",
        "median_gp12 = np.asarray(approx12_results[9:10][0])[0]\n",
        "upper_gp12 = np.asarray(approx12_results[14:15][0])[0]\n",
        "\n",
        "lower_stp12 = np.asarray(exact12_results[4:5][0])[0]\n",
        "median_stp12 = np.asarray(exact12_results[9:10][0])[0]\n",
        "upper_stp12 = np.asarray(exact12_results[14:15][0])[0]"
      ]
    },
    {
      "cell_type": "code",
      "execution_count": 80,
      "metadata": {
        "id": "Jn4KpGvcQxf4"
      },
      "outputs": [],
      "source": [
        "# Iteration3 :\n",
        "\n",
        "slice3 = 2\n",
        "\n",
        "approx3 = [simple_regret_gp_1[slice3],\n",
        "       simple_regret_gp_2[slice3],\n",
        "       simple_regret_gp_3[slice3],\n",
        "       simple_regret_gp_4[slice3],\n",
        "       simple_regret_gp_5[slice3],\n",
        "       simple_regret_gp_6[slice3],\n",
        "       simple_regret_gp_7[slice3],\n",
        "       simple_regret_gp_8[slice3],\n",
        "       simple_regret_gp_9[slice3],\n",
        "       simple_regret_gp_10[slice3],\n",
        "       simple_regret_gp_11[slice3],\n",
        "       simple_regret_gp_12[slice3],\n",
        "       simple_regret_gp_13[slice3],\n",
        "       simple_regret_gp_14[slice3],\n",
        "       simple_regret_gp_15[slice3],\n",
        "       simple_regret_gp_16[slice3],\n",
        "       simple_regret_gp_17[slice3],\n",
        "       simple_regret_gp_18[slice3],\n",
        "       simple_regret_gp_19[slice3],\n",
        "       simple_regret_gp_20[slice3]]\n",
        "\n",
        "exact3 = [simple_regret_stp_1[slice3],\n",
        "       simple_regret_stp_2[slice3],\n",
        "       simple_regret_stp_3[slice3],\n",
        "       simple_regret_stp_4[slice3],\n",
        "       simple_regret_stp_5[slice3],\n",
        "       simple_regret_stp_6[slice3],\n",
        "       simple_regret_stp_7[slice3],\n",
        "       simple_regret_stp_8[slice3],\n",
        "       simple_regret_stp_9[slice3],\n",
        "       simple_regret_stp_10[slice3],\n",
        "       simple_regret_stp_11[slice3],\n",
        "       simple_regret_stp_12[slice3],\n",
        "       simple_regret_stp_13[slice3],\n",
        "       simple_regret_stp_14[slice3],\n",
        "       simple_regret_stp_15[slice3],\n",
        "       simple_regret_stp_16[slice3],\n",
        "       simple_regret_stp_17[slice3],\n",
        "       simple_regret_stp_18[slice3],\n",
        "       simple_regret_stp_19[slice3],\n",
        "       simple_regret_stp_20[slice3]]\n",
        "\n",
        "approx3_results = pd.DataFrame(approx3).sort_values(by=[0], ascending=False)\n",
        "exact3_results = pd.DataFrame(exact3).sort_values(by=[0], ascending=False)\n",
        "\n",
        "### Best simple regret minimization IQR - approx:\n",
        "lower_gp3 = np.asarray(approx3_results[4:5][0])[0]\n",
        "median_gp3 = np.asarray(approx3_results[9:10][0])[0]\n",
        "upper_gp3 = np.asarray(approx3_results[14:15][0])[0]\n",
        "\n",
        "lower_stp3 = np.asarray(exact3_results[4:5][0])[0]\n",
        "median_stp3 = np.asarray(exact3_results[9:10][0])[0]\n",
        "upper_stp3 = np.asarray(exact3_results[14:15][0])[0]"
      ]
    },
    {
      "cell_type": "code",
      "execution_count": 81,
      "metadata": {
        "id": "plf83wxrQxf4"
      },
      "outputs": [],
      "source": [
        "# Iteration13 :\n",
        "\n",
        "slice13 = 12\n",
        "\n",
        "approx13 = [simple_regret_gp_1[slice13],\n",
        "       simple_regret_gp_2[slice13],\n",
        "       simple_regret_gp_3[slice13],\n",
        "       simple_regret_gp_4[slice13],\n",
        "       simple_regret_gp_5[slice13],\n",
        "       simple_regret_gp_6[slice13],\n",
        "       simple_regret_gp_7[slice13],\n",
        "       simple_regret_gp_8[slice13],\n",
        "       simple_regret_gp_9[slice13],\n",
        "       simple_regret_gp_10[slice13],\n",
        "       simple_regret_gp_11[slice13],\n",
        "       simple_regret_gp_12[slice13],\n",
        "       simple_regret_gp_13[slice13],\n",
        "       simple_regret_gp_14[slice13],\n",
        "       simple_regret_gp_15[slice13],\n",
        "       simple_regret_gp_16[slice13],\n",
        "       simple_regret_gp_17[slice13],\n",
        "       simple_regret_gp_18[slice13],\n",
        "       simple_regret_gp_19[slice13],\n",
        "       simple_regret_gp_20[slice13]]\n",
        "\n",
        "exact13 = [simple_regret_stp_1[slice13],\n",
        "       simple_regret_stp_2[slice13],\n",
        "       simple_regret_stp_3[slice13],\n",
        "       simple_regret_stp_4[slice13],\n",
        "       simple_regret_stp_5[slice13],\n",
        "       simple_regret_stp_6[slice13],\n",
        "       simple_regret_stp_7[slice13],\n",
        "       simple_regret_stp_8[slice13],\n",
        "       simple_regret_stp_9[slice13],\n",
        "       simple_regret_stp_10[slice13],\n",
        "       simple_regret_stp_11[slice13],\n",
        "       simple_regret_stp_12[slice13],\n",
        "       simple_regret_stp_13[slice13],\n",
        "       simple_regret_stp_14[slice13],\n",
        "       simple_regret_stp_15[slice13],\n",
        "       simple_regret_stp_16[slice13],\n",
        "       simple_regret_stp_17[slice13],\n",
        "       simple_regret_stp_18[slice13],\n",
        "       simple_regret_stp_19[slice13],\n",
        "       simple_regret_stp_20[slice13]]\n",
        "\n",
        "approx13_results = pd.DataFrame(approx13).sort_values(by=[0], ascending=False)\n",
        "exact13_results = pd.DataFrame(exact13).sort_values(by=[0], ascending=False)\n",
        "\n",
        "### Best simple regret minimization IQR - approx:\n",
        "lower_gp13 = np.asarray(approx13_results[4:5][0])[0]\n",
        "median_gp13 = np.asarray(approx13_results[9:10][0])[0]\n",
        "upper_gp13 = np.asarray(approx13_results[14:15][0])[0]\n",
        "\n",
        "lower_stp13 = np.asarray(exact13_results[4:5][0])[0]\n",
        "median_stp13 = np.asarray(exact13_results[9:10][0])[0]\n",
        "upper_stp13 = np.asarray(exact13_results[14:15][0])[0]"
      ]
    },
    {
      "cell_type": "code",
      "execution_count": 82,
      "metadata": {
        "id": "9A7mlVvJQxf5"
      },
      "outputs": [],
      "source": [
        "# Iteration4 :\n",
        "\n",
        "slice4 = 3\n",
        "\n",
        "approx4 = [simple_regret_gp_1[slice4],\n",
        "       simple_regret_gp_2[slice4],\n",
        "       simple_regret_gp_3[slice4],\n",
        "       simple_regret_gp_4[slice4],\n",
        "       simple_regret_gp_5[slice4],\n",
        "       simple_regret_gp_6[slice4],\n",
        "       simple_regret_gp_7[slice4],\n",
        "       simple_regret_gp_8[slice4],\n",
        "       simple_regret_gp_9[slice4],\n",
        "       simple_regret_gp_10[slice4],\n",
        "       simple_regret_gp_11[slice4],\n",
        "       simple_regret_gp_12[slice4],\n",
        "       simple_regret_gp_13[slice4],\n",
        "       simple_regret_gp_14[slice4],\n",
        "       simple_regret_gp_15[slice4],\n",
        "       simple_regret_gp_16[slice4],\n",
        "       simple_regret_gp_17[slice4],\n",
        "       simple_regret_gp_18[slice4],\n",
        "       simple_regret_gp_19[slice4],\n",
        "       simple_regret_gp_20[slice4]]\n",
        "\n",
        "exact4 = [simple_regret_stp_1[slice4],\n",
        "       simple_regret_stp_2[slice4],\n",
        "       simple_regret_stp_3[slice4],\n",
        "       simple_regret_stp_4[slice4],\n",
        "       simple_regret_stp_5[slice4],\n",
        "       simple_regret_stp_6[slice4],\n",
        "       simple_regret_stp_7[slice4],\n",
        "       simple_regret_stp_8[slice4],\n",
        "       simple_regret_stp_9[slice4],\n",
        "       simple_regret_stp_10[slice4],\n",
        "       simple_regret_stp_11[slice4],\n",
        "       simple_regret_stp_12[slice4],\n",
        "       simple_regret_stp_13[slice4],\n",
        "       simple_regret_stp_14[slice4],\n",
        "       simple_regret_stp_15[slice4],\n",
        "       simple_regret_stp_16[slice4],\n",
        "       simple_regret_stp_17[slice4],\n",
        "       simple_regret_stp_18[slice4],\n",
        "       simple_regret_stp_19[slice4],\n",
        "       simple_regret_stp_20[slice4]]\n",
        "\n",
        "approx4_results = pd.DataFrame(approx4).sort_values(by=[0], ascending=False)\n",
        "exact4_results = pd.DataFrame(exact4).sort_values(by=[0], ascending=False)\n",
        "\n",
        "### Best simple regret minimization IQR - approx:\n",
        "lower_gp4 = np.asarray(approx4_results[4:5][0])[0]\n",
        "median_gp4 = np.asarray(approx4_results[9:10][0])[0]\n",
        "upper_gp4 = np.asarray(approx4_results[14:15][0])[0]\n",
        "\n",
        "lower_stp4 = np.asarray(exact4_results[4:5][0])[0]\n",
        "median_stp4 = np.asarray(exact4_results[9:10][0])[0]\n",
        "upper_stp4 = np.asarray(exact4_results[14:15][0])[0]"
      ]
    },
    {
      "cell_type": "code",
      "execution_count": 83,
      "metadata": {
        "id": "ijq-rioYQxf5"
      },
      "outputs": [],
      "source": [
        "# Iteration14 :\n",
        "\n",
        "slice14 = 13\n",
        "\n",
        "approx14 = [simple_regret_gp_1[slice14],\n",
        "       simple_regret_gp_2[slice14],\n",
        "       simple_regret_gp_3[slice14],\n",
        "       simple_regret_gp_4[slice14],\n",
        "       simple_regret_gp_5[slice14],\n",
        "       simple_regret_gp_6[slice14],\n",
        "       simple_regret_gp_7[slice14],\n",
        "       simple_regret_gp_8[slice14],\n",
        "       simple_regret_gp_9[slice14],\n",
        "       simple_regret_gp_10[slice14],\n",
        "       simple_regret_gp_11[slice14],\n",
        "       simple_regret_gp_12[slice14],\n",
        "       simple_regret_gp_13[slice14],\n",
        "       simple_regret_gp_14[slice14],\n",
        "       simple_regret_gp_15[slice14],\n",
        "       simple_regret_gp_16[slice14],\n",
        "       simple_regret_gp_17[slice14],\n",
        "       simple_regret_gp_18[slice14],\n",
        "       simple_regret_gp_19[slice14],\n",
        "       simple_regret_gp_20[slice14]]\n",
        "\n",
        "exact14 = [simple_regret_stp_1[slice14],\n",
        "       simple_regret_stp_2[slice14],\n",
        "       simple_regret_stp_3[slice14],\n",
        "       simple_regret_stp_4[slice14],\n",
        "       simple_regret_stp_5[slice14],\n",
        "       simple_regret_stp_6[slice14],\n",
        "       simple_regret_stp_7[slice14],\n",
        "       simple_regret_stp_8[slice14],\n",
        "       simple_regret_stp_9[slice14],\n",
        "       simple_regret_stp_10[slice14],\n",
        "       simple_regret_stp_11[slice14],\n",
        "       simple_regret_stp_12[slice14],\n",
        "       simple_regret_stp_13[slice14],\n",
        "       simple_regret_stp_14[slice14],\n",
        "       simple_regret_stp_15[slice14],\n",
        "       simple_regret_stp_16[slice14],\n",
        "       simple_regret_stp_17[slice14],\n",
        "       simple_regret_stp_18[slice14],\n",
        "       simple_regret_stp_19[slice14],\n",
        "       simple_regret_stp_20[slice14]]\n",
        "\n",
        "approx14_results = pd.DataFrame(approx14).sort_values(by=[0], ascending=False)\n",
        "exact14_results = pd.DataFrame(exact14).sort_values(by=[0], ascending=False)\n",
        "\n",
        "### Best simple regret minimization IQR - approx:\n",
        "lower_gp14 = np.asarray(approx14_results[4:5][0])[0]\n",
        "median_gp14 = np.asarray(approx14_results[9:10][0])[0]\n",
        "upper_gp14 = np.asarray(approx14_results[14:15][0])[0]\n",
        "\n",
        "lower_stp14 = np.asarray(exact14_results[4:5][0])[0]\n",
        "median_stp14 = np.asarray(exact14_results[9:10][0])[0]\n",
        "upper_stp14 = np.asarray(exact14_results[14:15][0])[0]"
      ]
    },
    {
      "cell_type": "code",
      "execution_count": 84,
      "metadata": {
        "id": "XINlZjoTd-ZK"
      },
      "outputs": [],
      "source": [
        "# Iteration5 :\n",
        "\n",
        "slice5 = 4\n",
        "\n",
        "approx5 = [simple_regret_gp_1[slice5],\n",
        "       simple_regret_gp_2[slice5],\n",
        "       simple_regret_gp_3[slice5],\n",
        "       simple_regret_gp_4[slice5],\n",
        "       simple_regret_gp_5[slice5],\n",
        "       simple_regret_gp_6[slice5],\n",
        "       simple_regret_gp_7[slice5],\n",
        "       simple_regret_gp_8[slice5],\n",
        "       simple_regret_gp_9[slice5],\n",
        "       simple_regret_gp_10[slice5],\n",
        "       simple_regret_gp_11[slice5],\n",
        "       simple_regret_gp_12[slice5],\n",
        "       simple_regret_gp_13[slice5],\n",
        "       simple_regret_gp_14[slice5],\n",
        "       simple_regret_gp_15[slice5],\n",
        "       simple_regret_gp_16[slice5],\n",
        "       simple_regret_gp_17[slice5],\n",
        "       simple_regret_gp_18[slice5],\n",
        "       simple_regret_gp_19[slice5],\n",
        "       simple_regret_gp_20[slice5]]\n",
        "\n",
        "exact5 = [simple_regret_stp_1[slice5],\n",
        "       simple_regret_stp_2[slice5],\n",
        "       simple_regret_stp_3[slice5],\n",
        "       simple_regret_stp_4[slice5],\n",
        "       simple_regret_stp_5[slice5],\n",
        "       simple_regret_stp_6[slice5],\n",
        "       simple_regret_stp_7[slice5],\n",
        "       simple_regret_stp_8[slice5],\n",
        "       simple_regret_stp_9[slice5],\n",
        "       simple_regret_stp_10[slice5],\n",
        "       simple_regret_stp_11[slice5],\n",
        "       simple_regret_stp_12[slice5],\n",
        "       simple_regret_stp_13[slice5],\n",
        "       simple_regret_stp_14[slice5],\n",
        "       simple_regret_stp_15[slice5],\n",
        "       simple_regret_stp_16[slice5],\n",
        "       simple_regret_stp_17[slice5],\n",
        "       simple_regret_stp_18[slice5],\n",
        "       simple_regret_stp_19[slice5],\n",
        "       simple_regret_stp_20[slice5]]\n",
        "\n",
        "approx5_results = pd.DataFrame(approx5).sort_values(by=[0], ascending=False)\n",
        "exact5_results = pd.DataFrame(exact5).sort_values(by=[0], ascending=False)\n",
        "\n",
        "### Best simple regret minimization IQR - approx:\n",
        "lower_gp5 = np.asarray(approx5_results[4:5][0])[0]\n",
        "median_gp5 = np.asarray(approx5_results[9:10][0])[0]\n",
        "upper_gp5 = np.asarray(approx5_results[14:15][0])[0]\n",
        "\n",
        "lower_stp5 = np.asarray(exact5_results[4:5][0])[0]\n",
        "median_stp5 = np.asarray(exact5_results[9:10][0])[0]\n",
        "upper_stp5 = np.asarray(exact5_results[14:15][0])[0]"
      ]
    },
    {
      "cell_type": "code",
      "execution_count": 85,
      "metadata": {
        "id": "4aZ7C8sOQxf6"
      },
      "outputs": [],
      "source": [
        "# Iteration15 :\n",
        "\n",
        "slice15 = 14\n",
        "\n",
        "approx15 = [simple_regret_gp_1[slice15],\n",
        "       simple_regret_gp_2[slice15],\n",
        "       simple_regret_gp_3[slice15],\n",
        "       simple_regret_gp_4[slice15],\n",
        "       simple_regret_gp_5[slice15],\n",
        "       simple_regret_gp_6[slice15],\n",
        "       simple_regret_gp_7[slice15],\n",
        "       simple_regret_gp_8[slice15],\n",
        "       simple_regret_gp_9[slice15],\n",
        "       simple_regret_gp_10[slice15],\n",
        "       simple_regret_gp_11[slice15],\n",
        "       simple_regret_gp_12[slice15],\n",
        "       simple_regret_gp_13[slice15],\n",
        "       simple_regret_gp_14[slice15],\n",
        "       simple_regret_gp_15[slice15],\n",
        "       simple_regret_gp_16[slice15],\n",
        "       simple_regret_gp_17[slice15],\n",
        "       simple_regret_gp_18[slice15],\n",
        "       simple_regret_gp_19[slice15],\n",
        "       simple_regret_gp_20[slice15]]\n",
        "\n",
        "exact15 = [simple_regret_stp_1[slice15],\n",
        "       simple_regret_stp_2[slice15],\n",
        "       simple_regret_stp_3[slice15],\n",
        "       simple_regret_stp_4[slice15],\n",
        "       simple_regret_stp_5[slice15],\n",
        "       simple_regret_stp_6[slice15],\n",
        "       simple_regret_stp_7[slice15],\n",
        "       simple_regret_stp_8[slice15],\n",
        "       simple_regret_stp_9[slice15],\n",
        "       simple_regret_stp_10[slice15],\n",
        "       simple_regret_stp_11[slice15],\n",
        "       simple_regret_stp_12[slice15],\n",
        "       simple_regret_stp_13[slice15],\n",
        "       simple_regret_stp_14[slice15],\n",
        "       simple_regret_stp_15[slice15],\n",
        "       simple_regret_stp_16[slice15],\n",
        "       simple_regret_stp_17[slice15],\n",
        "       simple_regret_stp_18[slice15],\n",
        "       simple_regret_stp_19[slice15],\n",
        "       simple_regret_stp_20[slice15]]\n",
        "\n",
        "approx15_results = pd.DataFrame(approx15).sort_values(by=[0], ascending=False)\n",
        "exact15_results = pd.DataFrame(exact15).sort_values(by=[0], ascending=False)\n",
        "\n",
        "### Best simple regret minimization IQR - approx:\n",
        "lower_gp15 = np.asarray(approx15_results[4:5][0])[0]\n",
        "median_gp15 = np.asarray(approx15_results[9:10][0])[0]\n",
        "upper_gp15 = np.asarray(approx15_results[14:15][0])[0]\n",
        "\n",
        "lower_stp15 = np.asarray(exact15_results[4:5][0])[0]\n",
        "median_stp15 = np.asarray(exact15_results[9:10][0])[0]\n",
        "upper_stp15 = np.asarray(exact15_results[14:15][0])[0]"
      ]
    },
    {
      "cell_type": "code",
      "execution_count": 86,
      "metadata": {
        "id": "KJINKhv1Qxf6"
      },
      "outputs": [],
      "source": [
        "# Iteration6 :\n",
        "\n",
        "slice6 = 5\n",
        "\n",
        "approx6 = [simple_regret_gp_1[slice6],\n",
        "       simple_regret_gp_2[slice6],\n",
        "       simple_regret_gp_3[slice6],\n",
        "       simple_regret_gp_4[slice6],\n",
        "       simple_regret_gp_5[slice6],\n",
        "       simple_regret_gp_6[slice6],\n",
        "       simple_regret_gp_7[slice6],\n",
        "       simple_regret_gp_8[slice6],\n",
        "       simple_regret_gp_9[slice6],\n",
        "       simple_regret_gp_10[slice6],\n",
        "       simple_regret_gp_11[slice6],\n",
        "       simple_regret_gp_12[slice6],\n",
        "       simple_regret_gp_13[slice6],\n",
        "       simple_regret_gp_14[slice6],\n",
        "       simple_regret_gp_15[slice6],\n",
        "       simple_regret_gp_16[slice6],\n",
        "       simple_regret_gp_17[slice6],\n",
        "       simple_regret_gp_18[slice6],\n",
        "       simple_regret_gp_19[slice6],\n",
        "       simple_regret_gp_20[slice6]]\n",
        "\n",
        "exact6 = [simple_regret_stp_1[slice6],\n",
        "       simple_regret_stp_2[slice6],\n",
        "       simple_regret_stp_3[slice6],\n",
        "       simple_regret_stp_4[slice6],\n",
        "       simple_regret_stp_5[slice6],\n",
        "       simple_regret_stp_6[slice6],\n",
        "       simple_regret_stp_7[slice6],\n",
        "       simple_regret_stp_8[slice6],\n",
        "       simple_regret_stp_9[slice6],\n",
        "       simple_regret_stp_10[slice6],\n",
        "       simple_regret_stp_11[slice6],\n",
        "       simple_regret_stp_12[slice6],\n",
        "       simple_regret_stp_13[slice6],\n",
        "       simple_regret_stp_14[slice6],\n",
        "       simple_regret_stp_15[slice6],\n",
        "       simple_regret_stp_16[slice6],\n",
        "       simple_regret_stp_17[slice6],\n",
        "       simple_regret_stp_18[slice6],\n",
        "       simple_regret_stp_19[slice6],\n",
        "       simple_regret_stp_20[slice6]]\n",
        "\n",
        "approx6_results = pd.DataFrame(approx6).sort_values(by=[0], ascending=False)\n",
        "exact6_results = pd.DataFrame(exact6).sort_values(by=[0], ascending=False)\n",
        "\n",
        "### Best simple regret minimization IQR - approx:\n",
        "lower_gp6 = np.asarray(approx6_results[4:5][0])[0]\n",
        "median_gp6 = np.asarray(approx6_results[9:10][0])[0]\n",
        "upper_gp6 = np.asarray(approx6_results[14:15][0])[0]\n",
        "\n",
        "lower_stp6 = np.asarray(exact6_results[4:5][0])[0]\n",
        "median_stp6 = np.asarray(exact6_results[9:10][0])[0]\n",
        "upper_stp6 = np.asarray(exact6_results[14:15][0])[0]"
      ]
    },
    {
      "cell_type": "code",
      "execution_count": 87,
      "metadata": {
        "id": "nwC5N1FsQxf7"
      },
      "outputs": [],
      "source": [
        "# Iteration16 :\n",
        "\n",
        "slice16 = 15\n",
        "\n",
        "approx16 = [simple_regret_gp_1[slice16],\n",
        "       simple_regret_gp_2[slice16],\n",
        "       simple_regret_gp_3[slice16],\n",
        "       simple_regret_gp_4[slice16],\n",
        "       simple_regret_gp_5[slice16],\n",
        "       simple_regret_gp_6[slice16],\n",
        "       simple_regret_gp_7[slice16],\n",
        "       simple_regret_gp_8[slice16],\n",
        "       simple_regret_gp_9[slice16],\n",
        "       simple_regret_gp_10[slice16],\n",
        "       simple_regret_gp_11[slice16],\n",
        "       simple_regret_gp_12[slice16],\n",
        "       simple_regret_gp_13[slice16],\n",
        "       simple_regret_gp_14[slice16],\n",
        "       simple_regret_gp_15[slice16],\n",
        "       simple_regret_gp_16[slice16],\n",
        "       simple_regret_gp_17[slice16],\n",
        "       simple_regret_gp_18[slice16],\n",
        "       simple_regret_gp_19[slice16],\n",
        "       simple_regret_gp_20[slice16]]\n",
        "\n",
        "exact16 = [simple_regret_stp_1[slice16],\n",
        "       simple_regret_stp_2[slice16],\n",
        "       simple_regret_stp_3[slice16],\n",
        "       simple_regret_stp_4[slice16],\n",
        "       simple_regret_stp_5[slice16],\n",
        "       simple_regret_stp_6[slice16],\n",
        "       simple_regret_stp_7[slice16],\n",
        "       simple_regret_stp_8[slice16],\n",
        "       simple_regret_stp_9[slice16],\n",
        "       simple_regret_stp_10[slice16],\n",
        "       simple_regret_stp_11[slice16],\n",
        "       simple_regret_stp_12[slice16],\n",
        "       simple_regret_stp_13[slice16],\n",
        "       simple_regret_stp_14[slice16],\n",
        "       simple_regret_stp_15[slice16],\n",
        "       simple_regret_stp_16[slice16],\n",
        "       simple_regret_stp_17[slice16],\n",
        "       simple_regret_stp_18[slice16],\n",
        "       simple_regret_stp_19[slice16],\n",
        "       simple_regret_stp_20[slice16]]\n",
        "\n",
        "approx16_results = pd.DataFrame(approx16).sort_values(by=[0], ascending=False)\n",
        "exact16_results = pd.DataFrame(exact16).sort_values(by=[0], ascending=False)\n",
        "\n",
        "### Best simple regret minimization IQR - approx:\n",
        "lower_gp16 = np.asarray(approx16_results[4:5][0])[0]\n",
        "median_gp16 = np.asarray(approx16_results[9:10][0])[0]\n",
        "upper_gp16 = np.asarray(approx16_results[14:15][0])[0]\n",
        "\n",
        "lower_stp16 = np.asarray(exact16_results[4:5][0])[0]\n",
        "median_stp16 = np.asarray(exact16_results[9:10][0])[0]\n",
        "upper_stp16 = np.asarray(exact16_results[14:15][0])[0]"
      ]
    },
    {
      "cell_type": "code",
      "execution_count": 88,
      "metadata": {
        "id": "TrPV0AfnQxf7"
      },
      "outputs": [],
      "source": [
        "# Iteration7 :\n",
        "\n",
        "slice7 = 6\n",
        "\n",
        "approx7 = [simple_regret_gp_1[slice7],\n",
        "       simple_regret_gp_2[slice7],\n",
        "       simple_regret_gp_3[slice7],\n",
        "       simple_regret_gp_4[slice7],\n",
        "       simple_regret_gp_5[slice7],\n",
        "       simple_regret_gp_6[slice7],\n",
        "       simple_regret_gp_7[slice7],\n",
        "       simple_regret_gp_8[slice7],\n",
        "       simple_regret_gp_9[slice7],\n",
        "       simple_regret_gp_10[slice7],\n",
        "       simple_regret_gp_11[slice7],\n",
        "       simple_regret_gp_12[slice7],\n",
        "       simple_regret_gp_13[slice7],\n",
        "       simple_regret_gp_14[slice7],\n",
        "       simple_regret_gp_15[slice7],\n",
        "       simple_regret_gp_16[slice7],\n",
        "       simple_regret_gp_17[slice7],\n",
        "       simple_regret_gp_18[slice7],\n",
        "       simple_regret_gp_19[slice7],\n",
        "       simple_regret_gp_20[slice7]]\n",
        "\n",
        "exact7 = [simple_regret_stp_1[slice7],\n",
        "       simple_regret_stp_2[slice7],\n",
        "       simple_regret_stp_3[slice7],\n",
        "       simple_regret_stp_4[slice7],\n",
        "       simple_regret_stp_5[slice7],\n",
        "       simple_regret_stp_6[slice7],\n",
        "       simple_regret_stp_7[slice7],\n",
        "       simple_regret_stp_8[slice7],\n",
        "       simple_regret_stp_9[slice7],\n",
        "       simple_regret_stp_10[slice7],\n",
        "       simple_regret_stp_11[slice7],\n",
        "       simple_regret_stp_12[slice7],\n",
        "       simple_regret_stp_13[slice7],\n",
        "       simple_regret_stp_14[slice7],\n",
        "       simple_regret_stp_15[slice7],\n",
        "       simple_regret_stp_16[slice7],\n",
        "       simple_regret_stp_17[slice7],\n",
        "       simple_regret_stp_18[slice7],\n",
        "       simple_regret_stp_19[slice7],\n",
        "       simple_regret_stp_20[slice7]]\n",
        "\n",
        "approx7_results = pd.DataFrame(approx7).sort_values(by=[0], ascending=False)\n",
        "exact7_results = pd.DataFrame(exact7).sort_values(by=[0], ascending=False)\n",
        "\n",
        "### Best simple regret minimization IQR - approx:\n",
        "lower_gp7 = np.asarray(approx7_results[4:5][0])[0]\n",
        "median_gp7 = np.asarray(approx7_results[9:10][0])[0]\n",
        "upper_gp7 = np.asarray(approx7_results[14:15][0])[0]\n",
        "\n",
        "lower_stp7 = np.asarray(exact7_results[4:5][0])[0]\n",
        "median_stp7 = np.asarray(exact7_results[9:10][0])[0]\n",
        "upper_stp7 = np.asarray(exact7_results[14:15][0])[0]"
      ]
    },
    {
      "cell_type": "code",
      "execution_count": 89,
      "metadata": {
        "id": "Ub_-wpK4Qxf8"
      },
      "outputs": [],
      "source": [
        "# Iteration17 :\n",
        "\n",
        "slice17 = 16\n",
        "\n",
        "approx17 = [simple_regret_gp_1[slice17],\n",
        "       simple_regret_gp_2[slice17],\n",
        "       simple_regret_gp_3[slice17],\n",
        "       simple_regret_gp_4[slice17],\n",
        "       simple_regret_gp_5[slice17],\n",
        "       simple_regret_gp_6[slice17],\n",
        "       simple_regret_gp_7[slice17],\n",
        "       simple_regret_gp_8[slice17],\n",
        "       simple_regret_gp_9[slice17],\n",
        "       simple_regret_gp_10[slice17],\n",
        "       simple_regret_gp_11[slice17],\n",
        "       simple_regret_gp_12[slice17],\n",
        "       simple_regret_gp_13[slice17],\n",
        "       simple_regret_gp_14[slice17],\n",
        "       simple_regret_gp_15[slice17],\n",
        "       simple_regret_gp_16[slice17],\n",
        "       simple_regret_gp_17[slice17],\n",
        "       simple_regret_gp_18[slice17],\n",
        "       simple_regret_gp_19[slice17],\n",
        "       simple_regret_gp_20[slice17]]\n",
        "\n",
        "exact17 = [simple_regret_stp_1[slice17],\n",
        "       simple_regret_stp_2[slice17],\n",
        "       simple_regret_stp_3[slice17],\n",
        "       simple_regret_stp_4[slice17],\n",
        "       simple_regret_stp_5[slice17],\n",
        "       simple_regret_stp_6[slice17],\n",
        "       simple_regret_stp_7[slice17],\n",
        "       simple_regret_stp_8[slice17],\n",
        "       simple_regret_stp_9[slice17],\n",
        "       simple_regret_stp_10[slice17],\n",
        "       simple_regret_stp_11[slice17],\n",
        "       simple_regret_stp_12[slice17],\n",
        "       simple_regret_stp_13[slice17],\n",
        "       simple_regret_stp_14[slice17],\n",
        "       simple_regret_stp_15[slice17],\n",
        "       simple_regret_stp_16[slice17],\n",
        "       simple_regret_stp_17[slice17],\n",
        "       simple_regret_stp_18[slice17],\n",
        "       simple_regret_stp_19[slice17],\n",
        "       simple_regret_stp_20[slice17]]\n",
        "\n",
        "approx17_results = pd.DataFrame(approx17).sort_values(by=[0], ascending=False)\n",
        "exact17_results = pd.DataFrame(exact17).sort_values(by=[0], ascending=False)\n",
        "\n",
        "### Best simple regret minimization IQR - approx:\n",
        "lower_gp17 = np.asarray(approx17_results[4:5][0])[0]\n",
        "median_gp17 = np.asarray(approx17_results[9:10][0])[0]\n",
        "upper_gp17 = np.asarray(approx17_results[14:15][0])[0]\n",
        "\n",
        "lower_stp17 = np.asarray(exact17_results[4:5][0])[0]\n",
        "median_stp17 = np.asarray(exact17_results[9:10][0])[0]\n",
        "upper_stp17 = np.asarray(exact17_results[14:15][0])[0]"
      ]
    },
    {
      "cell_type": "code",
      "execution_count": 90,
      "metadata": {
        "id": "-6VLo37PQxf8"
      },
      "outputs": [],
      "source": [
        "# Iteration8 :\n",
        "\n",
        "slice8 = 7\n",
        "\n",
        "approx8 = [simple_regret_gp_1[slice8],\n",
        "       simple_regret_gp_2[slice8],\n",
        "       simple_regret_gp_3[slice8],\n",
        "       simple_regret_gp_4[slice8],\n",
        "       simple_regret_gp_5[slice8],\n",
        "       simple_regret_gp_6[slice8],\n",
        "       simple_regret_gp_7[slice8],\n",
        "       simple_regret_gp_8[slice8],\n",
        "       simple_regret_gp_9[slice8],\n",
        "       simple_regret_gp_10[slice8],\n",
        "       simple_regret_gp_11[slice8],\n",
        "       simple_regret_gp_12[slice8],\n",
        "       simple_regret_gp_13[slice8],\n",
        "       simple_regret_gp_14[slice8],\n",
        "       simple_regret_gp_15[slice8],\n",
        "       simple_regret_gp_16[slice8],\n",
        "       simple_regret_gp_17[slice8],\n",
        "       simple_regret_gp_18[slice8],\n",
        "       simple_regret_gp_19[slice8],\n",
        "       simple_regret_gp_20[slice8]]\n",
        "\n",
        "exact8 = [simple_regret_stp_1[slice8],\n",
        "       simple_regret_stp_2[slice8],\n",
        "       simple_regret_stp_3[slice8],\n",
        "       simple_regret_stp_4[slice8],\n",
        "       simple_regret_stp_5[slice8],\n",
        "       simple_regret_stp_6[slice8],\n",
        "       simple_regret_stp_7[slice8],\n",
        "       simple_regret_stp_8[slice8],\n",
        "       simple_regret_stp_9[slice8],\n",
        "       simple_regret_stp_10[slice8],\n",
        "       simple_regret_stp_11[slice8],\n",
        "       simple_regret_stp_12[slice8],\n",
        "       simple_regret_stp_13[slice8],\n",
        "       simple_regret_stp_14[slice8],\n",
        "       simple_regret_stp_15[slice8],\n",
        "       simple_regret_stp_16[slice8],\n",
        "       simple_regret_stp_17[slice8],\n",
        "       simple_regret_stp_18[slice8],\n",
        "       simple_regret_stp_19[slice8],\n",
        "       simple_regret_stp_20[slice8]]\n",
        "\n",
        "approx8_results = pd.DataFrame(approx8).sort_values(by=[0], ascending=False)\n",
        "exact8_results = pd.DataFrame(exact8).sort_values(by=[0], ascending=False)\n",
        "\n",
        "### Best simple regret minimization IQR - approx:\n",
        "lower_gp8 = np.asarray(approx8_results[4:5][0])[0]\n",
        "median_gp8 = np.asarray(approx8_results[9:10][0])[0]\n",
        "upper_gp8 = np.asarray(approx8_results[14:15][0])[0]\n",
        "\n",
        "lower_stp8 = np.asarray(exact8_results[4:5][0])[0]\n",
        "median_stp8 = np.asarray(exact8_results[9:10][0])[0]\n",
        "upper_stp8 = np.asarray(exact8_results[14:15][0])[0]"
      ]
    },
    {
      "cell_type": "code",
      "execution_count": 91,
      "metadata": {
        "id": "2Dp-9CC2Qxf9"
      },
      "outputs": [],
      "source": [
        "# Iteration18 :\n",
        "\n",
        "slice18 = 17\n",
        "\n",
        "approx18 = [simple_regret_gp_1[slice18],\n",
        "       simple_regret_gp_2[slice18],\n",
        "       simple_regret_gp_3[slice18],\n",
        "       simple_regret_gp_4[slice18],\n",
        "       simple_regret_gp_5[slice18],\n",
        "       simple_regret_gp_6[slice18],\n",
        "       simple_regret_gp_7[slice18],\n",
        "       simple_regret_gp_8[slice18],\n",
        "       simple_regret_gp_9[slice18],\n",
        "       simple_regret_gp_10[slice18],\n",
        "       simple_regret_gp_11[slice18],\n",
        "       simple_regret_gp_12[slice18],\n",
        "       simple_regret_gp_13[slice18],\n",
        "       simple_regret_gp_14[slice18],\n",
        "       simple_regret_gp_15[slice18],\n",
        "       simple_regret_gp_16[slice18],\n",
        "       simple_regret_gp_17[slice18],\n",
        "       simple_regret_gp_18[slice18],\n",
        "       simple_regret_gp_19[slice18],\n",
        "       simple_regret_gp_20[slice18]]\n",
        "\n",
        "exact18 = [simple_regret_stp_1[slice18],\n",
        "       simple_regret_stp_2[slice18],\n",
        "       simple_regret_stp_3[slice18],\n",
        "       simple_regret_stp_4[slice18],\n",
        "       simple_regret_stp_5[slice18],\n",
        "       simple_regret_stp_6[slice18],\n",
        "       simple_regret_stp_7[slice18],\n",
        "       simple_regret_stp_8[slice18],\n",
        "       simple_regret_stp_9[slice18],\n",
        "       simple_regret_stp_10[slice18],\n",
        "       simple_regret_stp_11[slice18],\n",
        "       simple_regret_stp_12[slice18],\n",
        "       simple_regret_stp_13[slice18],\n",
        "       simple_regret_stp_14[slice18],\n",
        "       simple_regret_stp_15[slice18],\n",
        "       simple_regret_stp_16[slice18],\n",
        "       simple_regret_stp_17[slice18],\n",
        "       simple_regret_stp_18[slice18],\n",
        "       simple_regret_stp_19[slice18],\n",
        "       simple_regret_stp_20[slice18]]\n",
        "\n",
        "approx18_results = pd.DataFrame(approx18).sort_values(by=[0], ascending=False)\n",
        "exact18_results = pd.DataFrame(exact18).sort_values(by=[0], ascending=False)\n",
        "\n",
        "### Best simple regret minimization IQR - approx:\n",
        "lower_gp18 = np.asarray(approx18_results[4:5][0])[0]\n",
        "median_gp18 = np.asarray(approx18_results[9:10][0])[0]\n",
        "upper_gp18 = np.asarray(approx18_results[14:15][0])[0]\n",
        "\n",
        "lower_stp18 = np.asarray(exact18_results[4:5][0])[0]\n",
        "median_stp18 = np.asarray(exact18_results[9:10][0])[0]\n",
        "upper_stp18 = np.asarray(exact18_results[14:15][0])[0]"
      ]
    },
    {
      "cell_type": "code",
      "execution_count": 92,
      "metadata": {
        "id": "SqiaOpB7Qxf9"
      },
      "outputs": [],
      "source": [
        "# Iteration9 :\n",
        "\n",
        "slice9 = 8\n",
        "\n",
        "approx9 = [simple_regret_gp_1[slice9],\n",
        "       simple_regret_gp_2[slice9],\n",
        "       simple_regret_gp_3[slice9],\n",
        "       simple_regret_gp_4[slice9],\n",
        "       simple_regret_gp_5[slice9],\n",
        "       simple_regret_gp_6[slice9],\n",
        "       simple_regret_gp_7[slice9],\n",
        "       simple_regret_gp_8[slice9],\n",
        "       simple_regret_gp_9[slice9],\n",
        "       simple_regret_gp_10[slice9],\n",
        "       simple_regret_gp_11[slice9],\n",
        "       simple_regret_gp_12[slice9],\n",
        "       simple_regret_gp_13[slice9],\n",
        "       simple_regret_gp_14[slice9],\n",
        "       simple_regret_gp_15[slice9],\n",
        "       simple_regret_gp_16[slice9],\n",
        "       simple_regret_gp_17[slice9],\n",
        "       simple_regret_gp_18[slice9],\n",
        "       simple_regret_gp_19[slice9],\n",
        "       simple_regret_gp_20[slice9]]\n",
        "\n",
        "exact9 = [simple_regret_stp_1[slice9],\n",
        "       simple_regret_stp_2[slice9],\n",
        "       simple_regret_stp_3[slice9],\n",
        "       simple_regret_stp_4[slice9],\n",
        "       simple_regret_stp_5[slice9],\n",
        "       simple_regret_stp_6[slice9],\n",
        "       simple_regret_stp_7[slice9],\n",
        "       simple_regret_stp_8[slice9],\n",
        "       simple_regret_stp_9[slice9],\n",
        "       simple_regret_stp_10[slice9],\n",
        "       simple_regret_stp_11[slice9],\n",
        "       simple_regret_stp_12[slice9],\n",
        "       simple_regret_stp_13[slice9],\n",
        "       simple_regret_stp_14[slice9],\n",
        "       simple_regret_stp_15[slice9],\n",
        "       simple_regret_stp_16[slice9],\n",
        "       simple_regret_stp_17[slice9],\n",
        "       simple_regret_stp_18[slice9],\n",
        "       simple_regret_stp_19[slice9],\n",
        "       simple_regret_stp_20[slice9]]\n",
        "\n",
        "approx9_results = pd.DataFrame(approx9).sort_values(by=[0], ascending=False)\n",
        "exact9_results = pd.DataFrame(exact9).sort_values(by=[0], ascending=False)\n",
        "\n",
        "### Best simple regret minimization IQR - approx:\n",
        "lower_gp9 = np.asarray(approx9_results[4:5][0])[0]\n",
        "median_gp9 = np.asarray(approx9_results[9:10][0])[0]\n",
        "upper_gp9 = np.asarray(approx9_results[14:15][0])[0]\n",
        "\n",
        "lower_stp9 = np.asarray(exact9_results[4:5][0])[0]\n",
        "median_stp9 = np.asarray(exact9_results[9:10][0])[0]\n",
        "upper_stp9 = np.asarray(exact9_results[14:15][0])[0]"
      ]
    },
    {
      "cell_type": "code",
      "execution_count": 93,
      "metadata": {
        "id": "OQkCCOsPQxf9"
      },
      "outputs": [],
      "source": [
        "# Iteration19 :\n",
        "\n",
        "slice19 = 18\n",
        "\n",
        "approx19 = [simple_regret_gp_1[slice19],\n",
        "       simple_regret_gp_2[slice19],\n",
        "       simple_regret_gp_3[slice19],\n",
        "       simple_regret_gp_4[slice19],\n",
        "       simple_regret_gp_5[slice19],\n",
        "       simple_regret_gp_6[slice19],\n",
        "       simple_regret_gp_7[slice19],\n",
        "       simple_regret_gp_8[slice19],\n",
        "       simple_regret_gp_9[slice19],\n",
        "       simple_regret_gp_10[slice19],\n",
        "       simple_regret_gp_11[slice19],\n",
        "       simple_regret_gp_12[slice19],\n",
        "       simple_regret_gp_13[slice19],\n",
        "       simple_regret_gp_14[slice19],\n",
        "       simple_regret_gp_15[slice19],\n",
        "       simple_regret_gp_16[slice19],\n",
        "       simple_regret_gp_17[slice19],\n",
        "       simple_regret_gp_18[slice19],\n",
        "       simple_regret_gp_19[slice19],\n",
        "       simple_regret_gp_20[slice19]]\n",
        "\n",
        "exact19 = [simple_regret_stp_1[slice19],\n",
        "       simple_regret_stp_2[slice19],\n",
        "       simple_regret_stp_3[slice19],\n",
        "       simple_regret_stp_4[slice19],\n",
        "       simple_regret_stp_5[slice19],\n",
        "       simple_regret_stp_6[slice19],\n",
        "       simple_regret_stp_7[slice19],\n",
        "       simple_regret_stp_8[slice19],\n",
        "       simple_regret_stp_9[slice19],\n",
        "       simple_regret_stp_10[slice19],\n",
        "       simple_regret_stp_11[slice19],\n",
        "       simple_regret_stp_12[slice19],\n",
        "       simple_regret_stp_13[slice19],\n",
        "       simple_regret_stp_14[slice19],\n",
        "       simple_regret_stp_15[slice19],\n",
        "       simple_regret_stp_16[slice19],\n",
        "       simple_regret_stp_17[slice19],\n",
        "       simple_regret_stp_18[slice19],\n",
        "       simple_regret_stp_19[slice19],\n",
        "       simple_regret_stp_20[slice19]]\n",
        "\n",
        "approx19_results = pd.DataFrame(approx19).sort_values(by=[0], ascending=False)\n",
        "exact19_results = pd.DataFrame(exact19).sort_values(by=[0], ascending=False)\n",
        "\n",
        "### Best simple regret minimization IQR - approx:\n",
        "lower_gp19 = np.asarray(approx19_results[4:5][0])[0]\n",
        "median_gp19 = np.asarray(approx19_results[9:10][0])[0]\n",
        "upper_gp19 = np.asarray(approx19_results[14:15][0])[0]\n",
        "\n",
        "lower_stp19 = np.asarray(exact19_results[4:5][0])[0]\n",
        "median_stp19 = np.asarray(exact19_results[9:10][0])[0]\n",
        "upper_stp19 = np.asarray(exact19_results[14:15][0])[0]"
      ]
    },
    {
      "cell_type": "code",
      "execution_count": 94,
      "metadata": {
        "id": "h4vtWahcQxf-"
      },
      "outputs": [],
      "source": [
        "# Iteration10 :\n",
        "\n",
        "slice10 = 9\n",
        "\n",
        "approx10 = [simple_regret_gp_1[slice10],\n",
        "       simple_regret_gp_2[slice10],\n",
        "       simple_regret_gp_3[slice10],\n",
        "       simple_regret_gp_4[slice10],\n",
        "       simple_regret_gp_5[slice10],\n",
        "       simple_regret_gp_6[slice10],\n",
        "       simple_regret_gp_7[slice10],\n",
        "       simple_regret_gp_8[slice10],\n",
        "       simple_regret_gp_9[slice10],\n",
        "       simple_regret_gp_10[slice10],\n",
        "       simple_regret_gp_11[slice10],\n",
        "       simple_regret_gp_12[slice10],\n",
        "       simple_regret_gp_13[slice10],\n",
        "       simple_regret_gp_14[slice10],\n",
        "       simple_regret_gp_15[slice10],\n",
        "       simple_regret_gp_16[slice10],\n",
        "       simple_regret_gp_17[slice10],\n",
        "       simple_regret_gp_18[slice10],\n",
        "       simple_regret_gp_19[slice10],\n",
        "       simple_regret_gp_20[slice10]]\n",
        "\n",
        "exact10 = [simple_regret_stp_1[slice10],\n",
        "       simple_regret_stp_2[slice10],\n",
        "       simple_regret_stp_3[slice10],\n",
        "       simple_regret_stp_4[slice10],\n",
        "       simple_regret_stp_5[slice10],\n",
        "       simple_regret_stp_6[slice10],\n",
        "       simple_regret_stp_7[slice10],\n",
        "       simple_regret_stp_8[slice10],\n",
        "       simple_regret_stp_9[slice10],\n",
        "       simple_regret_stp_10[slice10],\n",
        "       simple_regret_stp_11[slice10],\n",
        "       simple_regret_stp_12[slice10],\n",
        "       simple_regret_stp_13[slice10],\n",
        "       simple_regret_stp_14[slice10],\n",
        "       simple_regret_stp_15[slice10],\n",
        "       simple_regret_stp_16[slice10],\n",
        "       simple_regret_stp_17[slice10],\n",
        "       simple_regret_stp_18[slice10],\n",
        "       simple_regret_stp_19[slice10],\n",
        "       simple_regret_stp_20[slice10]]\n",
        "\n",
        "approx10_results = pd.DataFrame(approx10).sort_values(by=[0], ascending=False)\n",
        "exact10_results = pd.DataFrame(exact10).sort_values(by=[0], ascending=False)\n",
        "\n",
        "### Best simple regret minimization IQR - approx:\n",
        "lower_gp10 = np.asarray(approx10_results[4:5][0])[0]\n",
        "median_gp10 = np.asarray(approx10_results[9:10][0])[0]\n",
        "upper_gp10 = np.asarray(approx10_results[14:15][0])[0]\n",
        "\n",
        "lower_stp10 = np.asarray(exact10_results[4:5][0])[0]\n",
        "median_stp10 = np.asarray(exact10_results[9:10][0])[0]\n",
        "upper_stp10 = np.asarray(exact10_results[14:15][0])[0]"
      ]
    },
    {
      "cell_type": "code",
      "execution_count": 95,
      "metadata": {
        "id": "Rsf240pWQxf-"
      },
      "outputs": [],
      "source": [
        "# Iteration20 :\n",
        "\n",
        "slice20 = 19\n",
        "\n",
        "approx20 = [simple_regret_gp_1[slice20],\n",
        "       simple_regret_gp_2[slice20],\n",
        "       simple_regret_gp_3[slice20],\n",
        "       simple_regret_gp_4[slice20],\n",
        "       simple_regret_gp_5[slice20],\n",
        "       simple_regret_gp_6[slice20],\n",
        "       simple_regret_gp_7[slice20],\n",
        "       simple_regret_gp_8[slice20],\n",
        "       simple_regret_gp_9[slice20],\n",
        "       simple_regret_gp_10[slice20],\n",
        "       simple_regret_gp_11[slice20],\n",
        "       simple_regret_gp_12[slice20],\n",
        "       simple_regret_gp_13[slice20],\n",
        "       simple_regret_gp_14[slice20],\n",
        "       simple_regret_gp_15[slice20],\n",
        "       simple_regret_gp_16[slice20],\n",
        "       simple_regret_gp_17[slice20],\n",
        "       simple_regret_gp_18[slice20],\n",
        "       simple_regret_gp_19[slice20],\n",
        "       simple_regret_gp_20[slice20]]\n",
        "\n",
        "exact20 = [simple_regret_stp_1[slice20],\n",
        "       simple_regret_stp_2[slice20],\n",
        "       simple_regret_stp_3[slice20],\n",
        "       simple_regret_stp_4[slice20],\n",
        "       simple_regret_stp_5[slice20],\n",
        "       simple_regret_stp_6[slice20],\n",
        "       simple_regret_stp_7[slice20],\n",
        "       simple_regret_stp_8[slice20],\n",
        "       simple_regret_stp_9[slice20],\n",
        "       simple_regret_stp_10[slice20],\n",
        "       simple_regret_stp_11[slice20],\n",
        "       simple_regret_stp_12[slice20],\n",
        "       simple_regret_stp_13[slice20],\n",
        "       simple_regret_stp_14[slice20],\n",
        "       simple_regret_stp_15[slice20],\n",
        "       simple_regret_stp_16[slice20],\n",
        "       simple_regret_stp_17[slice20],\n",
        "       simple_regret_stp_18[slice20],\n",
        "       simple_regret_stp_19[slice20],\n",
        "       simple_regret_stp_20[slice20]]\n",
        "\n",
        "approx20_results = pd.DataFrame(approx20).sort_values(by=[0], ascending=False)\n",
        "exact20_results = pd.DataFrame(exact20).sort_values(by=[0], ascending=False)\n",
        "\n",
        "### Best simple regret minimization IQR - approx:\n",
        "lower_gp20 = np.asarray(approx20_results[4:5][0])[0]\n",
        "median_gp20 = np.asarray(approx20_results[9:10][0])[0]\n",
        "upper_gp20 = np.asarray(approx20_results[14:15][0])[0]\n",
        "\n",
        "lower_stp20 = np.asarray(exact20_results[4:5][0])[0]\n",
        "median_stp20 = np.asarray(exact20_results[9:10][0])[0]\n",
        "upper_stp20 = np.asarray(exact20_results[14:15][0])[0]"
      ]
    },
    {
      "cell_type": "code",
      "execution_count": 96,
      "metadata": {
        "id": "gn36RejbQxf_"
      },
      "outputs": [],
      "source": [
        "### Summarize arrays: 'Loser'\n",
        "\n",
        "lower_gp = [lower_gp1,\n",
        "            lower_gp2,\n",
        "            lower_gp3,\n",
        "            lower_gp4,\n",
        "            lower_gp5,\n",
        "            lower_gp6,\n",
        "            lower_gp7,\n",
        "            lower_gp8,\n",
        "            lower_gp9,\n",
        "            lower_gp10,\n",
        "            lower_gp11,\n",
        "            lower_gp12,\n",
        "            lower_gp13,\n",
        "            lower_gp14,\n",
        "            lower_gp15,\n",
        "            lower_gp16,\n",
        "            lower_gp17,\n",
        "            lower_gp18,\n",
        "            lower_gp19,\n",
        "            lower_gp20,\n",
        "            lower_gp21]\n",
        "\n",
        "median_gp = [median_gp1,\n",
        "            median_gp2,\n",
        "            median_gp3,\n",
        "            median_gp4,\n",
        "            median_gp5,\n",
        "            median_gp6,\n",
        "            median_gp7,\n",
        "            median_gp8,\n",
        "            median_gp9,\n",
        "            median_gp10,\n",
        "            median_gp11,\n",
        "            median_gp12,\n",
        "            median_gp13,\n",
        "            median_gp14,\n",
        "            median_gp15,\n",
        "            median_gp16,\n",
        "            median_gp17,\n",
        "            median_gp18,\n",
        "            median_gp19,\n",
        "            median_gp20,\n",
        "            median_gp21]\n",
        "\n",
        "upper_gp = [upper_gp1,\n",
        "            upper_gp2,\n",
        "            upper_gp3,\n",
        "            upper_gp4,\n",
        "            upper_gp5,\n",
        "            upper_gp6,\n",
        "            upper_gp7,\n",
        "            upper_gp8,\n",
        "            upper_gp9,\n",
        "            upper_gp10,\n",
        "            upper_gp11,\n",
        "            upper_gp12,\n",
        "            upper_gp13,\n",
        "            upper_gp14,\n",
        "            upper_gp15,\n",
        "            upper_gp16,\n",
        "            upper_gp17,\n",
        "            upper_gp18,\n",
        "            upper_gp19,\n",
        "            upper_gp20,\n",
        "            upper_gp21]"
      ]
    },
    {
      "cell_type": "code",
      "execution_count": 97,
      "metadata": {
        "id": "wxtGTOYfQxf_"
      },
      "outputs": [],
      "source": [
        "### Summarize arrays: 'exact'\n",
        "\n",
        "lower_stp = [lower_stp1,\n",
        "            lower_stp2,\n",
        "            lower_stp3,\n",
        "            lower_stp4,\n",
        "            lower_stp5,\n",
        "            lower_stp6,\n",
        "            lower_stp7,\n",
        "            lower_stp8,\n",
        "            lower_stp9,\n",
        "            lower_stp10,\n",
        "            lower_stp11,\n",
        "            lower_stp12,\n",
        "            lower_stp13,\n",
        "            lower_stp14,\n",
        "            lower_stp15,\n",
        "            lower_stp16,\n",
        "            lower_stp17,\n",
        "            lower_stp18,\n",
        "            lower_stp19,\n",
        "            lower_stp20,\n",
        "            lower_stp21]\n",
        "\n",
        "median_stp = [median_stp1,\n",
        "            median_stp2,\n",
        "            median_stp3,\n",
        "            median_stp4,\n",
        "            median_stp5,\n",
        "            median_stp6,\n",
        "            median_stp7,\n",
        "            median_stp8,\n",
        "            median_stp9,\n",
        "            median_stp10,\n",
        "            median_stp11,\n",
        "            median_stp12,\n",
        "            median_stp13,\n",
        "            median_stp14,\n",
        "            median_stp15,\n",
        "            median_stp16,\n",
        "            median_stp17,\n",
        "            median_stp18,\n",
        "            median_stp19,\n",
        "            median_stp20,\n",
        "            median_stp21]\n",
        "\n",
        "upper_stp = [upper_stp1,\n",
        "            upper_stp2,\n",
        "            upper_stp3,\n",
        "            upper_stp4,\n",
        "            upper_stp5,\n",
        "            upper_stp6,\n",
        "            upper_stp7,\n",
        "            upper_stp8,\n",
        "            upper_stp9,\n",
        "            upper_stp10,\n",
        "            upper_stp11,\n",
        "            upper_stp12,\n",
        "            upper_stp13,\n",
        "            upper_stp14,\n",
        "            upper_stp15,\n",
        "            upper_stp16,\n",
        "            upper_stp17,\n",
        "            upper_stp18,\n",
        "            upper_stp19,\n",
        "            upper_stp20,\n",
        "            upper_stp21]"
      ]
    },
    {
      "cell_type": "code",
      "execution_count": 98,
      "metadata": {
        "id": "2MONq-BXQxgA",
        "colab": {
          "base_uri": "https://localhost:8080/",
          "height": 299
        },
        "outputId": "62d06846-70aa-4566-c64d-f2aa511d8b27"
      },
      "outputs": [
        {
          "output_type": "display_data",
          "data": {
            "text/plain": [
              "<Figure size 432x288 with 1 Axes>"
            ],
            "image/png": "[encoded data removed]"
          },
          "metadata": {
            "needs_background": "light"
          }
        }
      ],
      "source": [
        "### Visualise!\n",
        "\n",
        "title = func\n",
        "plt.figure()\n",
        "\n",
        "plt.plot(median_gp, color = 'Red', ls='-')\n",
        "plt.plot(median_stp, color = 'Red', ls='--')\n",
        "\n",
        "xstar = np.arange(0, iters+1, step=1)\n",
        "plt.fill_between(xstar, lower_gp, upper_gp, facecolor = 'Red', alpha=0.2, label='GP EI Optimisation: Exact GP dEI gradients')\n",
        "plt.fill_between(xstar, lower_stp, upper_stp, facecolor = 'Red', alpha=0.4, label='STP EI Optimisation: Exact STP dEI gradients ' r'($\\nu$' ' = {})'.format(df))\n",
        "\n",
        "plt.title(title, weight = 'bold')\n",
        "plt.xlabel('(Post-initialisation) iteration $\\it{k}$', weight = 'bold')\n",
        "plt.ylabel('log(Regret)', weight = 'bold') \n",
        "plt.legend(loc=0) # add plot legend\n",
        "\n",
        "### Make the x-ticks integers, not floats:\n",
        "count = len(xstar)\n",
        "plt.xticks(np.arange(count), np.arange(0, count))\n",
        "plt.show() #visualise!\n"
      ]
    },
    {
      "cell_type": "code",
      "execution_count": 99,
      "metadata": {
        "id": "l5dkR2Id2oiu",
        "colab": {
          "base_uri": "https://localhost:8080/"
        },
        "outputId": "ac5b5ab2-88bc-4519-a984-7fd716648bf9"
      },
      "outputs": [
        {
          "output_type": "execute_result",
          "data": {
            "text/plain": [
              "(337.477863073349, 1279.3644042015076)"
            ]
          },
          "metadata": {},
          "execution_count": 99
        }
      ],
      "source": [
        "time_gp, time_stp\n"
      ]
    },
    {
      "cell_type": "code",
      "source": [
        "### acqFunc attribute x, stddev: run number = 1\n",
        "\n",
        "acqFuncgp_gp_1 = acqFuncExact(gp_1.history)\n",
        "acqFuncstp_stp_1 = acqFuncExact(stp_1.history)\n",
        "\n",
        "e1 = np.std(acqFuncstp_stp_1)\n",
        "a1 = np.std(acqFuncgp_gp_1)\n",
        "\n",
        "e1, a1\n"
      ],
      "metadata": {
        "colab": {
          "base_uri": "https://localhost:8080/"
        },
        "id": "uwxv4dmfGsLr",
        "outputId": "0d46c9a9-d962-45ad-cf0f-e2e2690b6505"
      },
      "execution_count": 100,
      "outputs": [
        {
          "output_type": "execute_result",
          "data": {
            "text/plain": [
              "(0.2608599546425113, 0.26074125740547244)"
            ]
          },
          "metadata": {},
          "execution_count": 100
        }
      ]
    },
    {
      "cell_type": "code",
      "source": [
        "### acqFunc attribute x, stddev: run number = 2\n",
        "\n",
        "acqFuncgp_gp_2 = acqFuncExact(gp_2.history)\n",
        "acqFuncstp_stp_2 = acqFuncExact(stp_2.history)\n",
        "\n",
        "e2 = np.std(acqFuncstp_stp_2)\n",
        "a2 = np.std(acqFuncgp_gp_2)\n",
        "\n",
        "e2, a2\n"
      ],
      "metadata": {
        "colab": {
          "base_uri": "https://localhost:8080/"
        },
        "id": "0YSV00_pGsXe",
        "outputId": "97196755-35e3-4ad3-c118-bcc5d6943217"
      },
      "execution_count": 101,
      "outputs": [
        {
          "output_type": "execute_result",
          "data": {
            "text/plain": [
              "(0.3963921913096236, 0.23978623080738756)"
            ]
          },
          "metadata": {},
          "execution_count": 101
        }
      ]
    },
    {
      "cell_type": "code",
      "source": [
        "### acqFunc attribute x, stddev: run number = 3\n",
        "\n",
        "acqFuncgp_gp_3 = acqFuncExact(gp_3.history)\n",
        "acqFuncstp_stp_3 = acqFuncExact(stp_3.history)\n",
        "\n",
        "e3 = np.std(acqFuncstp_stp_3)\n",
        "a3 = np.std(acqFuncgp_gp_3)\n",
        "\n",
        "e3, a3\n"
      ],
      "metadata": {
        "colab": {
          "base_uri": "https://localhost:8080/"
        },
        "id": "HHVmsd2UGsjT",
        "outputId": "5b7d67a8-7879-4006-91a1-30be10b8c5af"
      },
      "execution_count": 102,
      "outputs": [
        {
          "output_type": "execute_result",
          "data": {
            "text/plain": [
              "(0.3681480820075384, 0.16810591045405274)"
            ]
          },
          "metadata": {},
          "execution_count": 102
        }
      ]
    },
    {
      "cell_type": "code",
      "source": [
        "### acqFunc attribute x, stddev: run number = 4\n",
        "\n",
        "acqFuncgp_gp_4 = acqFuncExact(gp_4.history)\n",
        "acqFuncstp_stp_4 = acqFuncExact(stp_4.history)\n",
        "\n",
        "e4 = np.std(acqFuncstp_stp_4)\n",
        "a4 = np.std(acqFuncgp_gp_4)\n",
        "\n",
        "e4, a4\n"
      ],
      "metadata": {
        "colab": {
          "base_uri": "https://localhost:8080/"
        },
        "id": "r7O19S2eGsu7",
        "outputId": "029cad2c-7c08-4120-c730-6964b14cfce5"
      },
      "execution_count": 103,
      "outputs": [
        {
          "output_type": "execute_result",
          "data": {
            "text/plain": [
              "(0.5240574855159114, 0.226794516003316)"
            ]
          },
          "metadata": {},
          "execution_count": 103
        }
      ]
    },
    {
      "cell_type": "code",
      "source": [
        "### acqFunc attribute x, stddev: run number = 5\n",
        "\n",
        "acqFuncgp_gp_5 = acqFuncExact(gp_5.history)\n",
        "acqFuncstp_stp_5 = acqFuncExact(stp_5.history)\n",
        "\n",
        "e5 = np.std(acqFuncstp_stp_5)\n",
        "a5 = np.std(acqFuncgp_gp_5)\n",
        "\n",
        "e5, a5\n"
      ],
      "metadata": {
        "colab": {
          "base_uri": "https://localhost:8080/"
        },
        "id": "sdb9o6NuGs5m",
        "outputId": "6bb330c7-2f11-4e1a-bfed-fee60ea8ab03"
      },
      "execution_count": 104,
      "outputs": [
        {
          "output_type": "execute_result",
          "data": {
            "text/plain": [
              "(0.5119357679143994, 0.2452463155183858)"
            ]
          },
          "metadata": {},
          "execution_count": 104
        }
      ]
    },
    {
      "cell_type": "code",
      "source": [
        "### acqFunc attribute x, stddev: run number = 6\n",
        "\n",
        "acqFuncgp_gp_6 = acqFuncExact(gp_6.history)\n",
        "acqFuncstp_stp_6 = acqFuncExact(stp_6.history)\n",
        "\n",
        "e6 = np.std(acqFuncstp_stp_6)\n",
        "a6 = np.std(acqFuncgp_gp_6)\n",
        "\n",
        "e6, a6\n"
      ],
      "metadata": {
        "colab": {
          "base_uri": "https://localhost:8080/"
        },
        "id": "COQl7LZ8GtE0",
        "outputId": "458ab92a-9094-4c81-c0b0-f298f48375ca"
      },
      "execution_count": 105,
      "outputs": [
        {
          "output_type": "execute_result",
          "data": {
            "text/plain": [
              "(0.5427994303784955, 0.30783498751776184)"
            ]
          },
          "metadata": {},
          "execution_count": 105
        }
      ]
    },
    {
      "cell_type": "code",
      "source": [
        "### acqFunc attribute x, stddev: run number = 7\n",
        "\n",
        "acqFuncgp_gp_7 = acqFuncExact(gp_7.history)\n",
        "acqFuncstp_stp_7 = acqFuncExact(stp_7.history)\n",
        "\n",
        "e7 = np.std(acqFuncstp_stp_7)\n",
        "a7 = np.std(acqFuncgp_gp_7)\n",
        "\n",
        "e7, a7\n"
      ],
      "metadata": {
        "colab": {
          "base_uri": "https://localhost:8080/"
        },
        "id": "2gy9EtTzGtP7",
        "outputId": "cd7b82dc-b38f-4177-a891-7586a2e1fff3"
      },
      "execution_count": 106,
      "outputs": [
        {
          "output_type": "execute_result",
          "data": {
            "text/plain": [
              "(0.5026642112842741, 0.3006544998518449)"
            ]
          },
          "metadata": {},
          "execution_count": 106
        }
      ]
    },
    {
      "cell_type": "code",
      "source": [
        "### acqFunc attribute x, stddev: run number = 8\n",
        "\n",
        "acqFuncgp_gp_8 = acqFuncExact(gp_8.history)\n",
        "acqFuncstp_stp_8 = acqFuncExact(stp_8.history)\n",
        "\n",
        "e8 = np.std(acqFuncstp_stp_8)\n",
        "a8 = np.std(acqFuncgp_gp_8)\n",
        "\n",
        "e8, a8\n"
      ],
      "metadata": {
        "colab": {
          "base_uri": "https://localhost:8080/"
        },
        "id": "S7mn0qoMGtbM",
        "outputId": "3f271e3e-61c5-486a-f169-6468c07564a8"
      },
      "execution_count": 107,
      "outputs": [
        {
          "output_type": "execute_result",
          "data": {
            "text/plain": [
              "(0.2720932758805291, 0.1643295741410129)"
            ]
          },
          "metadata": {},
          "execution_count": 107
        }
      ]
    },
    {
      "cell_type": "code",
      "source": [
        "### acqFunc attribute x, stddev: run number = 9\n",
        "\n",
        "acqFuncgp_gp_9 = acqFuncExact(gp_9.history)\n",
        "acqFuncstp_stp_9 = acqFuncExact(stp_9.history)\n",
        "\n",
        "e9 = np.std(acqFuncstp_stp_9)\n",
        "a9 = np.std(acqFuncgp_gp_9)\n",
        "\n",
        "e9, a9\n"
      ],
      "metadata": {
        "colab": {
          "base_uri": "https://localhost:8080/"
        },
        "id": "BhljmkNxGtms",
        "outputId": "099b7ee3-468b-4d96-cbbd-f1ef4b7dd02d"
      },
      "execution_count": 108,
      "outputs": [
        {
          "output_type": "execute_result",
          "data": {
            "text/plain": [
              "(0.35871287338347324, 0.1808758139189706)"
            ]
          },
          "metadata": {},
          "execution_count": 108
        }
      ]
    },
    {
      "cell_type": "code",
      "source": [
        "### acqFunc attribute x, stddev: run number = 10\n",
        "\n",
        "acqFuncgp_gp_10 = acqFuncExact(gp_10.history)\n",
        "acqFuncstp_stp_10 = acqFuncExact(stp_10.history)\n",
        "\n",
        "e10 = np.std(acqFuncstp_stp_10)\n",
        "a10 = np.std(acqFuncgp_gp_10)\n",
        "\n",
        "e10, a10\n"
      ],
      "metadata": {
        "colab": {
          "base_uri": "https://localhost:8080/"
        },
        "id": "W5GZo6k3Gtx8",
        "outputId": "8f95ef08-bd56-42f0-8bba-af87e909dcb1"
      },
      "execution_count": 109,
      "outputs": [
        {
          "output_type": "execute_result",
          "data": {
            "text/plain": [
              "(0.26297103252594034, 0.2073494590411672)"
            ]
          },
          "metadata": {},
          "execution_count": 109
        }
      ]
    },
    {
      "cell_type": "code",
      "source": [
        "### acqFunc attribute x, stddev: run number = 11\n",
        "\n",
        "acqFuncgp_gp_11 = acqFuncExact(gp_11.history)\n",
        "acqFuncstp_stp_11 = acqFuncExact(stp_11.history)\n",
        "\n",
        "e11 = np.std(acqFuncstp_stp_11)\n",
        "a11 = np.std(acqFuncgp_gp_11)\n",
        "\n",
        "e11, a11\n"
      ],
      "metadata": {
        "colab": {
          "base_uri": "https://localhost:8080/"
        },
        "id": "isKNhDk5Gt9D",
        "outputId": "2944df28-1b45-4068-b106-14939092bffc"
      },
      "execution_count": 110,
      "outputs": [
        {
          "output_type": "execute_result",
          "data": {
            "text/plain": [
              "(0.4350077817610093, 0.19073598994035873)"
            ]
          },
          "metadata": {},
          "execution_count": 110
        }
      ]
    },
    {
      "cell_type": "code",
      "source": [
        "### acqFunc attribute x, stddev: run number = 12\n",
        "\n",
        "acqFuncgp_gp_12 = acqFuncExact(gp_12.history)\n",
        "acqFuncstp_stp_12 = acqFuncExact(stp_12.history)\n",
        "\n",
        "e12 = np.std(acqFuncstp_stp_12)\n",
        "a12 = np.std(acqFuncgp_gp_12)\n",
        "\n",
        "e12, a12\n"
      ],
      "metadata": {
        "colab": {
          "base_uri": "https://localhost:8080/"
        },
        "id": "8ts-wrSuGuIm",
        "outputId": "43e4a527-e937-4d38-ffcc-329fcf2e55ca"
      },
      "execution_count": 111,
      "outputs": [
        {
          "output_type": "execute_result",
          "data": {
            "text/plain": [
              "(0.4238147576060354, 0.34139016100887437)"
            ]
          },
          "metadata": {},
          "execution_count": 111
        }
      ]
    },
    {
      "cell_type": "code",
      "source": [
        "### acqFunc attribute x, stddev: run number = 13\n",
        "\n",
        "acqFuncgp_gp_13 = acqFuncExact(gp_13.history)\n",
        "acqFuncstp_stp_13 = acqFuncExact(stp_13.history)\n",
        "\n",
        "e13 = np.std(acqFuncstp_stp_13)\n",
        "a13 = np.std(acqFuncgp_gp_13)\n",
        "\n",
        "e13, a13\n"
      ],
      "metadata": {
        "colab": {
          "base_uri": "https://localhost:8080/"
        },
        "id": "n0drhEe3GuUL",
        "outputId": "63f42a9c-9489-4b6e-d626-98f64a13a38d"
      },
      "execution_count": 112,
      "outputs": [
        {
          "output_type": "execute_result",
          "data": {
            "text/plain": [
              "(0.2895889076322119, 0.2174262074569331)"
            ]
          },
          "metadata": {},
          "execution_count": 112
        }
      ]
    },
    {
      "cell_type": "code",
      "source": [
        "### acqFunc attribute x, stddev: run number = 14\n",
        "\n",
        "acqFuncgp_gp_14 = acqFuncExact(gp_14.history)\n",
        "acqFuncstp_stp_14 = acqFuncExact(stp_14.history)\n",
        "\n",
        "e14 = np.std(acqFuncstp_stp_14)\n",
        "a14 = np.std(acqFuncgp_gp_14)\n",
        "\n",
        "e14, a14\n"
      ],
      "metadata": {
        "colab": {
          "base_uri": "https://localhost:8080/"
        },
        "id": "R0W3MZaVGues",
        "outputId": "740475f8-4f20-4794-dfb6-fb6f2deeac1e"
      },
      "execution_count": 113,
      "outputs": [
        {
          "output_type": "execute_result",
          "data": {
            "text/plain": [
              "(0.4606271987636825, 0.31957039482314126)"
            ]
          },
          "metadata": {},
          "execution_count": 113
        }
      ]
    },
    {
      "cell_type": "code",
      "source": [
        "### acqFunc attribute x, stddev: run number = 15\n",
        "\n",
        "acqFuncgp_gp_15 = acqFuncExact(gp_15.history)\n",
        "acqFuncstp_stp_15 = acqFuncExact(stp_15.history)\n",
        "\n",
        "e15 = np.std(acqFuncstp_stp_15)\n",
        "a15 = np.std(acqFuncgp_gp_15)\n",
        "\n",
        "e15, a15\n"
      ],
      "metadata": {
        "colab": {
          "base_uri": "https://localhost:8080/"
        },
        "id": "DoXdDFHoGup-",
        "outputId": "e57822c0-48c2-4ab3-f327-63707422de11"
      },
      "execution_count": 114,
      "outputs": [
        {
          "output_type": "execute_result",
          "data": {
            "text/plain": [
              "(0.46426641916493533, 0.3167734913756026)"
            ]
          },
          "metadata": {},
          "execution_count": 114
        }
      ]
    },
    {
      "cell_type": "code",
      "source": [
        "### acqFunc attribute x, stddev: run number = 16\n",
        "\n",
        "acqFuncgp_gp_16 = acqFuncExact(gp_16.history)\n",
        "acqFuncstp_stp_16 = acqFuncExact(stp_16.history)\n",
        "\n",
        "e16 = np.std(acqFuncstp_stp_16)\n",
        "a16 = np.std(acqFuncgp_gp_16)\n",
        "\n",
        "e16, a16\n"
      ],
      "metadata": {
        "colab": {
          "base_uri": "https://localhost:8080/"
        },
        "id": "K_wAeqSoGu2j",
        "outputId": "00d4ec51-1572-4b88-f632-7386b739f10c"
      },
      "execution_count": 115,
      "outputs": [
        {
          "output_type": "execute_result",
          "data": {
            "text/plain": [
              "(0.5403601194857297, 0.2852833517854843)"
            ]
          },
          "metadata": {},
          "execution_count": 115
        }
      ]
    },
    {
      "cell_type": "code",
      "source": [
        "### acqFunc attribute x, stddev: run number = 17\n",
        "\n",
        "acqFuncgp_gp_17 = acqFuncExact(gp_17.history)\n",
        "acqFuncstp_stp_17 = acqFuncExact(stp_17.history)\n",
        "\n",
        "e17 = np.std(acqFuncstp_stp_17)\n",
        "a17 = np.std(acqFuncgp_gp_17)\n",
        "\n",
        "e17, a17\n"
      ],
      "metadata": {
        "colab": {
          "base_uri": "https://localhost:8080/"
        },
        "id": "n6zy78fjGvBT",
        "outputId": "a2dc0e31-25cb-4a40-b35c-5824eb0a24f4"
      },
      "execution_count": 116,
      "outputs": [
        {
          "output_type": "execute_result",
          "data": {
            "text/plain": [
              "(0.18593750769901016, 0.24218370035781306)"
            ]
          },
          "metadata": {},
          "execution_count": 116
        }
      ]
    },
    {
      "cell_type": "code",
      "source": [
        "### acqFunc attribute x, stddev: run number = 18\n",
        "\n",
        "acqFuncgp_gp_18 = acqFuncExact(gp_18.history)\n",
        "acqFuncstp_stp_18 = acqFuncExact(stp_18.history)\n",
        "\n",
        "e18 = np.std(acqFuncstp_stp_18)\n",
        "a18 = np.std(acqFuncgp_gp_18)\n",
        "\n",
        "e18, a18\n"
      ],
      "metadata": {
        "colab": {
          "base_uri": "https://localhost:8080/"
        },
        "id": "s_6_2K4iGvM-",
        "outputId": "41c2da8f-e291-4a50-e758-5f3b83481e8a"
      },
      "execution_count": 117,
      "outputs": [
        {
          "output_type": "execute_result",
          "data": {
            "text/plain": [
              "(0.4337888556599936, 0.18091456974185138)"
            ]
          },
          "metadata": {},
          "execution_count": 117
        }
      ]
    },
    {
      "cell_type": "code",
      "source": [
        "### acqFunc attribute x, stddev: run number = 19\n",
        "\n",
        "acqFuncgp_gp_19 = acqFuncExact(gp_19.history)\n",
        "acqFuncstp_stp_19 = acqFuncExact(stp_19.history)\n",
        "\n",
        "e19 = np.std(acqFuncstp_stp_19)\n",
        "a19 = np.std(acqFuncgp_gp_19)\n",
        "\n",
        "e19, a19\n"
      ],
      "metadata": {
        "colab": {
          "base_uri": "https://localhost:8080/"
        },
        "id": "o8oO8pdBGvYk",
        "outputId": "78fbebf2-af6d-4c7e-e047-74b4714c96fa"
      },
      "execution_count": 118,
      "outputs": [
        {
          "output_type": "execute_result",
          "data": {
            "text/plain": [
              "(0.38590104062624575, 0.25030381850454836)"
            ]
          },
          "metadata": {},
          "execution_count": 118
        }
      ]
    },
    {
      "cell_type": "code",
      "source": [
        "### acqFunc attribute x, stddev: run number = 20\n",
        "\n",
        "acqFuncgp_gp_20 = acqFuncExact(gp_20.history)\n",
        "acqFuncstp_stp_20 = acqFuncExact(stp_20.history)\n",
        "\n",
        "e20 = np.std(acqFuncstp_stp_20)\n",
        "a20 = np.std(acqFuncgp_gp_20)\n",
        "\n",
        "e20, a20\n"
      ],
      "metadata": {
        "colab": {
          "base_uri": "https://localhost:8080/"
        },
        "id": "b2w8oLc0IMzU",
        "outputId": "f0ed81db-42d7-4ca4-cd79-cabdd6314003"
      },
      "execution_count": 119,
      "outputs": [
        {
          "output_type": "execute_result",
          "data": {
            "text/plain": [
              "(0.42820167069140624, 0.2094071740800423)"
            ]
          },
          "metadata": {},
          "execution_count": 119
        }
      ]
    },
    {
      "cell_type": "code",
      "source": [
        "### Summarize arrays: \n",
        "\n",
        "stp_stddev = np.sort([e1,e2,e3,e4,e5,e6,e7,e8,e9,e10,e11,e12,e13,e14,e15,e16,e17,e18,e19,e20])\n",
        "gp_stddev = np.sort([a1,a2,a3,a4,a5,a6,a7,a8,a9,a10,a11,a12,a13,a14,a15,a16,a17,a18,a19,a20])\n",
        "\n",
        "np.mean(stp_stddev), np.mean(gp_stddev)\n"
      ],
      "metadata": {
        "colab": {
          "base_uri": "https://localhost:8080/"
        },
        "id": "qAZs3yxMIZul",
        "outputId": "8a8816cb-b22f-4b7a-b5f3-beabadc85ac3"
      },
      "execution_count": 120,
      "outputs": [
        {
          "output_type": "execute_result",
          "data": {
            "text/plain": [
              "(0.4024064281966478, 0.24278537118670104)"
            ]
          },
          "metadata": {},
          "execution_count": 120
        }
      ]
    },
    {
      "cell_type": "code",
      "source": [
        "### Visualise!\n",
        "\n",
        "title = func\n",
        "plt.figure()\n",
        "\n",
        "plt.plot(stp_stddev, color = 'Red', ls='-', label='Average $\\sigma$, attribute $\\mathbf{x}$: Exact STP dEI gradients')\n",
        "plt.plot(gp_stddev, color = 'Red', ls='-.', label='Average $\\sigma$, attribute $\\mathbf{x}$: Exact GP dEI gradients')\n",
        "\n",
        "plt.title(title, weight = 'bold')\n",
        "plt.xlabel('Function evaluations: iteration $\\it{k}$', weight = 'bold')\n",
        "plt.ylabel('GP EI, STP EI: Average $\\sigma$, attribute $\\mathbf{x}$', weight = 'bold') \n",
        "plt.legend(loc=0) # add plot legend\n",
        "\n",
        "### Make the x-ticks integers, not floats:\n",
        "count = len(xstar)\n",
        "plt.xticks(np.arange(count), np.arange(1, count))\n",
        "plt.show() #visualize!\n"
      ],
      "metadata": {
        "colab": {
          "base_uri": "https://localhost:8080/",
          "height": 297
        },
        "id": "e_kpqYcMIZxu",
        "outputId": "38b5d448-d8e5-4659-8984-e7b5840c7ac6"
      },
      "execution_count": 122,
      "outputs": [
        {
          "output_type": "display_data",
          "data": {
            "text/plain": [
              "<Figure size 432x288 with 1 Axes>"
            ],
            "image/png": "[encoded data removed]"
          },
          "metadata": {
            "needs_background": "light"
          }
        }
      ]
    },
    {
      "cell_type": "code",
      "source": [],
      "metadata": {
        "id": "LToGd4vZIZ3I"
      },
      "execution_count": 121,
      "outputs": []
    }
  ],
  "metadata": {
    "colab": {
      "collapsed_sections": [],
      "provenance": []
    },
    "kernelspec": {
      "display_name": "Python 3",
      "name": "python3"
    },
    "language_info": {
      "name": "python"
    }
  },
  "nbformat": 4,
  "nbformat_minor": 0
}