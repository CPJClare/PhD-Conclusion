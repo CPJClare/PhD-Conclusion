{
  "cells": [
    {
      "cell_type": "markdown",
      "metadata": {
        "id": "Dqn4dFx7Z2Ir"
      },
      "source": [
        "\n",
        "SixHumpCamel: 2D\n"
      ]
    },
    {
      "cell_type": "code",
      "execution_count": 1,
      "metadata": {
        "colab": {
          "base_uri": "https://localhost:8080/"
        },
        "id": "MJTM_GZZZb5x",
        "outputId": "14b7a3d5-e700-4a12-99c3-a75e4369ccd2"
      },
      "outputs": [
        {
          "output_type": "stream",
          "name": "stdout",
          "text": [
            "Looking in indexes: https://pypi.org/simple, https://us-python.pkg.dev/colab-wheels/public/simple/\n",
            "Requirement already satisfied: pyGPGO in /usr/local/lib/python3.7/dist-packages (0.5.1)\n",
            "Requirement already satisfied: joblib in /usr/local/lib/python3.7/dist-packages (from pyGPGO) (1.1.0)\n",
            "Requirement already satisfied: pyMC3 in /usr/local/lib/python3.7/dist-packages (from pyGPGO) (3.11.5)\n",
            "Requirement already satisfied: scipy in /usr/local/lib/python3.7/dist-packages (from pyGPGO) (1.7.3)\n",
            "Requirement already satisfied: numpy in /usr/local/lib/python3.7/dist-packages (from pyGPGO) (1.21.6)\n",
            "Requirement already satisfied: Theano-PyMC in /usr/local/lib/python3.7/dist-packages (from pyGPGO) (1.1.2)\n",
            "Requirement already satisfied: mkl in /usr/local/lib/python3.7/dist-packages (from pyGPGO) (2019.0)\n",
            "Requirement already satisfied: scikit-learn in /usr/local/lib/python3.7/dist-packages (from pyGPGO) (1.0.2)\n",
            "Requirement already satisfied: intel-openmp in /usr/local/lib/python3.7/dist-packages (from mkl->pyGPGO) (2022.1.0)\n",
            "Requirement already satisfied: typing-extensions>=3.7.4 in /usr/local/lib/python3.7/dist-packages (from pyMC3->pyGPGO) (4.1.1)\n",
            "Requirement already satisfied: fastprogress>=0.2.0 in /usr/local/lib/python3.7/dist-packages (from pyMC3->pyGPGO) (1.0.3)\n",
            "Requirement already satisfied: dill in /usr/local/lib/python3.7/dist-packages (from pyMC3->pyGPGO) (0.3.5.1)\n",
            "Requirement already satisfied: semver>=2.13.0 in /usr/local/lib/python3.7/dist-packages (from pyMC3->pyGPGO) (2.13.0)\n",
            "Requirement already satisfied: patsy>=0.5.1 in /usr/local/lib/python3.7/dist-packages (from pyMC3->pyGPGO) (0.5.2)\n",
            "Requirement already satisfied: arviz>=0.11.0 in /usr/local/lib/python3.7/dist-packages (from pyMC3->pyGPGO) (0.12.1)\n",
            "Requirement already satisfied: deprecat in /usr/local/lib/python3.7/dist-packages (from pyMC3->pyGPGO) (2.1.1)\n",
            "Requirement already satisfied: cachetools>=4.2.1 in /usr/local/lib/python3.7/dist-packages (from pyMC3->pyGPGO) (4.2.4)\n",
            "Requirement already satisfied: pandas>=0.24.0 in /usr/local/lib/python3.7/dist-packages (from pyMC3->pyGPGO) (1.3.5)\n",
            "Requirement already satisfied: filelock in /usr/local/lib/python3.7/dist-packages (from Theano-PyMC->pyGPGO) (3.8.0)\n",
            "Requirement already satisfied: xarray-einstats>=0.2 in /usr/local/lib/python3.7/dist-packages (from arviz>=0.11.0->pyMC3->pyGPGO) (0.2.2)\n",
            "Requirement already satisfied: netcdf4 in /usr/local/lib/python3.7/dist-packages (from arviz>=0.11.0->pyMC3->pyGPGO) (1.6.0)\n",
            "Requirement already satisfied: packaging in /usr/local/lib/python3.7/dist-packages (from arviz>=0.11.0->pyMC3->pyGPGO) (21.3)\n",
            "Requirement already satisfied: xarray>=0.16.1 in /usr/local/lib/python3.7/dist-packages (from arviz>=0.11.0->pyMC3->pyGPGO) (0.20.2)\n",
            "Requirement already satisfied: setuptools>=38.4 in /usr/local/lib/python3.7/dist-packages (from arviz>=0.11.0->pyMC3->pyGPGO) (57.4.0)\n",
            "Requirement already satisfied: matplotlib>=3.0 in /usr/local/lib/python3.7/dist-packages (from arviz>=0.11.0->pyMC3->pyGPGO) (3.2.2)\n",
            "Requirement already satisfied: python-dateutil>=2.1 in /usr/local/lib/python3.7/dist-packages (from matplotlib>=3.0->arviz>=0.11.0->pyMC3->pyGPGO) (2.8.2)\n",
            "Requirement already satisfied: cycler>=0.10 in /usr/local/lib/python3.7/dist-packages (from matplotlib>=3.0->arviz>=0.11.0->pyMC3->pyGPGO) (0.11.0)\n",
            "Requirement already satisfied: pyparsing!=2.0.4,!=2.1.2,!=2.1.6,>=2.0.1 in /usr/local/lib/python3.7/dist-packages (from matplotlib>=3.0->arviz>=0.11.0->pyMC3->pyGPGO) (3.0.9)\n",
            "Requirement already satisfied: kiwisolver>=1.0.1 in /usr/local/lib/python3.7/dist-packages (from matplotlib>=3.0->arviz>=0.11.0->pyMC3->pyGPGO) (1.4.4)\n",
            "Requirement already satisfied: pytz>=2017.3 in /usr/local/lib/python3.7/dist-packages (from pandas>=0.24.0->pyMC3->pyGPGO) (2022.2.1)\n",
            "Requirement already satisfied: six in /usr/local/lib/python3.7/dist-packages (from patsy>=0.5.1->pyMC3->pyGPGO) (1.15.0)\n",
            "Requirement already satisfied: importlib-metadata in /usr/local/lib/python3.7/dist-packages (from xarray>=0.16.1->arviz>=0.11.0->pyMC3->pyGPGO) (4.12.0)\n",
            "Requirement already satisfied: wrapt<2,>=1.10 in /usr/local/lib/python3.7/dist-packages (from deprecat->pyMC3->pyGPGO) (1.14.1)\n",
            "Requirement already satisfied: zipp>=0.5 in /usr/local/lib/python3.7/dist-packages (from importlib-metadata->xarray>=0.16.1->arviz>=0.11.0->pyMC3->pyGPGO) (3.8.1)\n",
            "Requirement already satisfied: cftime in /usr/local/lib/python3.7/dist-packages (from netcdf4->arviz>=0.11.0->pyMC3->pyGPGO) (1.6.1)\n",
            "Requirement already satisfied: threadpoolctl>=2.0.0 in /usr/local/lib/python3.7/dist-packages (from scikit-learn->pyGPGO) (3.1.0)\n"
          ]
        }
      ],
      "source": [
        "pip install pyGPGO\n"
      ]
    },
    {
      "cell_type": "code",
      "execution_count": 2,
      "metadata": {
        "id": "ZJSSPbwPaEUB"
      },
      "outputs": [],
      "source": [
        "### 1. Import python modules/packages required:\n",
        "\n",
        "import numpy as np\n",
        "import pandas as pd\n",
        "import scipy as sp\n",
        "import matplotlib.pyplot as plt\n",
        "import warnings\n",
        "import itertools\n",
        "import seaborn as sns\n",
        "import time\n",
        "\n",
        "from pyGPGO.GPGO import GPGO\n",
        "from pyGPGO.surrogates.GaussianProcess import GaussianProcess\n",
        "from pyGPGO.surrogates.tStudentProcess import tStudentProcess\n",
        "from pyGPGO.acquisition import Acquisition\n",
        "from pyGPGO.covfunc import squaredExponential\n",
        "from joblib import Parallel, delayed\n",
        "from scipy.linalg import inv\n",
        "from scipy.spatial.distance import cdist\n",
        "from scipy.optimize import minimize\n",
        "from scipy.stats import norm, t\n",
        "from mpl_toolkits.axes_grid1.inset_locator import inset_axes, mark_inset\n",
        "\n",
        "warnings.filterwarnings(\"ignore\", category=RuntimeWarning)\n"
      ]
    },
    {
      "cell_type": "code",
      "execution_count": 3,
      "metadata": {
        "id": "OeYcTUNoaJWa"
      },
      "outputs": [],
      "source": [
        "### Inputs:\n",
        "\n",
        "func = 'SixHumpCamel'\n",
        "n_test = 500\n",
        "eps = 1e-08\n",
        "\n",
        "util_gp = 'EI_gp'\n",
        "util_stp = 'EI_stp'\n",
        "\n",
        "n_init = 5 # random initialisations\n",
        "iters = 20\n",
        "opt = True\n",
        "\n",
        "df = 3"
      ]
    },
    {
      "cell_type": "code",
      "execution_count": 4,
      "metadata": {
        "id": "xpaEOjdzaPMS"
      },
      "outputs": [],
      "source": [
        "### Objective Function - SixHumpCamel(x) 2-D:\n",
        "\n",
        "def objfunc(x1_training, x2_training):\n",
        "        return operator * ((4 - 2.1 * x1_training ** 2 + 1 / 3 * x1_training ** 4) * x1_training ** 2 +\n",
        "                (x1_training * x2_training) + (-4 + 4 * x2_training ** 2) * x2_training ** 2)\n",
        "    \n",
        "# Constraints:\n",
        "lb_x1 = -3\n",
        "ub_x1 = +3\n",
        "    \n",
        "lb_x2 = -2\n",
        "ub_x2 = +2\n",
        "\n",
        "# Input array dimension(s):\n",
        "dim = 2\n",
        "\n",
        "# 2-D inputs' parameter bounds:\n",
        "param = {'x1_training': ('cont', [lb_x1, ub_x1]),\n",
        "             'x2_training': ('cont', [lb_x2, ub_x2])}\n",
        "\n",
        "# True y bounds:\n",
        "operator = -1\n",
        "y_global_orig = -1.0316 # targets global minimum\n",
        "\n",
        "# Test data:\n",
        "x1_test = np.linspace(lb_x1, ub_x1, n_test) \n",
        "x2_test = np.linspace(lb_x2, ub_x2, n_test)\n",
        "  \n",
        "x_test = np.column_stack((x1_test,x2_test))\n"
      ]
    },
    {
      "cell_type": "code",
      "execution_count": 5,
      "metadata": {
        "id": "eYpI3Zm4aGxi"
      },
      "outputs": [],
      "source": [
        "n_start_AcqFunc = iters\n",
        "inverse = -1\n"
      ]
    },
    {
      "cell_type": "code",
      "execution_count": 6,
      "metadata": {
        "id": "oO_GUmOoaV0T"
      },
      "outputs": [],
      "source": [
        "### Cumulative Regret Calculators:\n",
        "\n",
        "def min_max_array(x):\n",
        "    new_list = []\n",
        "    for i, num in enumerate(x):\n",
        "            new_list.append(np.min(x[0:i+1]))\n",
        "    return new_list\n",
        "  \n",
        "def acqFuncExact(x):\n",
        "    new_array = []\n",
        "    x = np.array(x) \n",
        "    for i, num in enumerate(x):\n",
        "            new_array = x[:-2][::-3]\n",
        "    return new_array[::-1]\n",
        "\n",
        "def acqFuncApprox(x):\n",
        "    new_array = []\n",
        "    x = np.array(x) \n",
        "    for i, num in enumerate(x):\n",
        "            new_array = x[:-1][::-3]\n",
        "    return new_array[::-1]\n"
      ]
    },
    {
      "cell_type": "code",
      "execution_count": 7,
      "metadata": {
        "id": "kuuJx0IMam9S"
      },
      "outputs": [],
      "source": [
        "### Surrogate derivatives: \n",
        "\n",
        "cov_func = squaredExponential()\n",
        "\n",
        "def kronDelta(X, Xstar):                     # Kronecker's Delta method\n",
        "    return cdist(X, Xstar) < np.finfo(np.float32).eps\n",
        "\n",
        "def se(X, Xstar, sigmaf, l, sigman):         # S.E. kernel method\n",
        "    return sigmaf * np.exp(-0.5 * cdist(X, Xstar) ** 2 / l ** 2) + sigman * kronDelta(X, Xstar)\n",
        "\n",
        "def delta(X, Xstar):                         # Distance between training X and test Xstar vectors\n",
        "    return (X - Xstar)\n",
        "   \n",
        "def der_covmat(X, Xstar, sigmaf, l, sigman): # Covariance matrix derivative terms (i.e. exact, first-order)\n",
        "    nx = len(X)\n",
        "    ny = len(Xstar)\n",
        "    return np.round(np.array([(delta(np.atleast_2d(i), np.atleast_2d(j))[0] * se(np.atleast_2d(i), np.atleast_2d(j), sigmaf, l, sigman)[0]).sum() for (i, j) in itertools.product(X, Xstar)]).reshape(nx, ny), 8)\n",
        "\n",
        "class dGaussianProcess(GaussianProcess):    # Via inheritance, also optimises hyperparameters when opt = TRUE\n",
        "    \n",
        "    def AcqGrad(self, Xstar):               # Method returning exact, first-order derivatives of the GP's posterior mean and standard deviation\n",
        "        Xstar = np.atleast_2d(Xstar)\n",
        "        Kstar = self.covfunc.K(self.X, Xstar).T\n",
        "        \n",
        "        dKstar = der_covmat(self.X, Xstar, self.covfunc.sigmaf, self.covfunc.l, self.covfunc.sigman).T\n",
        "        alpha_Kstar = np.dot(np.linalg.inv(self.K + (self.covfunc.sigman**2) * np.eye(len(self.X))), Kstar.T)\n",
        "        \n",
        "        dm = np.dot(dKstar, self.alpha)\n",
        "        ds = -2 * np.dot(dKstar, alpha_Kstar)\n",
        "        \n",
        "        return dm, ds   \n",
        "\n",
        "class dtStudentProcess(tStudentProcess):    # Via inheritance, also optimises hyperparameters when opt = TRUE\n",
        "    \n",
        "    def AcqGrad(self, Xstar):               # Method returning exact, first-order derivatives of the STP's posterior mean and standard deviation\n",
        "        Xstar = np.atleast_2d(Xstar)\n",
        "        Kstar = self.covfunc.K(self.X, Xstar).T\n",
        "        dKstar = der_covmat(self.X, Xstar, self.covfunc.sigmaf, self.covfunc.l, self.covfunc.sigman).T\n",
        "        \n",
        "        smd_adj = (self.nu + self.beta1 - 2) / (self.nu + self.n1 - 2)\n",
        "\n",
        "        alpha = np.dot(np.linalg.inv(self.K11 + (self.covfunc.sigman**2) * np.eye(len(self.X))), self.y)\n",
        "        alpha_Kstar = np.dot(np.linalg.inv(self.K11 + (self.covfunc.sigman**2) * np.eye(len(self.X))), Kstar.T)      \n",
        "        \n",
        "        dm = np.dot(dKstar, alpha)\n",
        "        ds = -2 * smd_adj * np.dot(dKstar, alpha_Kstar)\n",
        "        \n",
        "        return dm, ds \n",
        "        "
      ]
    },
    {
      "cell_type": "code",
      "execution_count": 8,
      "metadata": {
        "id": "_Dc3YVHVaXz7"
      },
      "outputs": [],
      "source": [
        "### Add exact acquisition function gradient as attribute:\n",
        "\n",
        "class Acquisition_grad(Acquisition):    \n",
        "    def __init__(self, mode, eps=eps, **params):\n",
        "        \n",
        "        self.params = params\n",
        "        self.eps = eps\n",
        "\n",
        "        mode_dict = {\n",
        "            'EI_stp': self.EI_stp,\n",
        "            'EI_gp': self.EI_gp,\n",
        "        }\n",
        "\n",
        "        self.f = mode_dict[mode]\n",
        "    \n",
        "    def EI_stp(self, tau, mean, std, ds, dm, nu=3.0):\n",
        "        gamma = (mean - tau - self.eps) / (std + self.eps)\n",
        "        gamma_h = (mean - tau) / (std + self.eps)\n",
        "        dsdx = ds / (2 * (std + self.eps))\n",
        "        dmdx = (dm - gamma * dsdx) / (std + self.eps)\n",
        "        \n",
        "        f = (std + self.eps) * (gamma * t.cdf(gamma, df=nu) + (nu + gamma ** 2)/(nu - 1) * t.pdf(gamma, df=nu))\n",
        "        df1 = f / (std + self.eps) * dsdx \n",
        "        df2 = (std + self.eps) * (t.cdf(gamma, df=nu) * dmdx + gamma * t.pdf(gamma, df=nu) \\\n",
        "            * (1 - (nu + gamma ** 2)/(nu - 1) + 2/(nu - 1) * dmdx))\n",
        "        df = (df1 + df2)[0]\n",
        "        df_arr = []\n",
        "\n",
        "        for j in range(0, dim):\n",
        "          df_arr.append(df)\n",
        "        return f, np.asarray(df_arr).transpose()\n",
        "        \n",
        "    def d_eval_stp(self, tau, mean, std, ds, dm, nu=3.0):\n",
        "    \n",
        "        return self.f(tau, mean, std, ds, dm, nu=3.0, **self.params)\n",
        "\n",
        "    def EI_gp(self, tau, mean, std, ds, dm):\n",
        "        gamma = (mean - tau - self.eps) / (std + self.eps)\n",
        "        gamma_h = (mean - tau) / (std + self.eps)\n",
        "        dsdx = ds / (2 * (std + self.eps))\n",
        "        dmdx = (dm - gamma * dsdx) / (std + self.eps)\n",
        "        \n",
        "        f = (std + self.eps) * (gamma * norm.cdf(gamma) + norm.pdf(gamma))\n",
        "        df1 = f / (std + self.eps) * dsdx \n",
        "        df2 = (std + self.eps) * norm.cdf(gamma) * dmdx\n",
        "        df = (df1 + df2)[0]\n",
        "        df_arr = []\n",
        "\n",
        "        for j in range(0, dim):\n",
        "          df_arr.append(df)\n",
        "        return f, np.asarray(df_arr).transpose()\n",
        "        \n",
        "    def d_eval_gp(self, tau, mean, std, ds, dm):\n",
        "    \n",
        "        return self.f(tau, mean, std, ds, dm, **self.params)\n",
        "        "
      ]
    },
    {
      "cell_type": "code",
      "execution_count": 9,
      "metadata": {
        "id": "b_B-w81BJxKN"
      },
      "outputs": [],
      "source": [
        "## dGPGO - Gaussian:\n",
        "\n",
        "class dGPGO_gp(GPGO):\n",
        "    n_start = n_start_AcqFunc\n",
        "\n",
        "    def __init__(self, surrogate, acquisition, f, parameter_dict, n_jobs=1):\n",
        "        self.GP = surrogate\n",
        "        self.A = acquisition\n",
        "        self.f = f\n",
        "        self.parameters = parameter_dict\n",
        "        self.n_jobs = n_jobs\n",
        "\n",
        "        self.parameter_key = list(parameter_dict.keys())\n",
        "        self.parameter_value = list(parameter_dict.values())\n",
        "        self.parameter_type = [p[0] for p in self.parameter_value]\n",
        "        self.parameter_range = [p[1] for p in self.parameter_value]\n",
        "\n",
        "        self.history = []\n",
        "        self.header =   'Evaluation \\t Proposed point \\t  Current eval. \\t  Best eval. \\t        Exact EI: StdDev. x \\t Approx EI: StdDev. x '\n",
        "        self.template = '{:3}\\t {}\\t {:3}\\t {:3}\\t {:3}\\t {:3}'\n",
        "\n",
        "    def acqfuncExact(self, xnew, n_start=n_start_AcqFunc):\n",
        "        new_mean, new_var = self.GP.predict(xnew, return_std=True)\n",
        "        new_std = np.sqrt(new_var + eps)\n",
        "        dm, ds = self.GP.AcqGrad(xnew)\n",
        "        f, df = self.A.d_eval_gp(self.tau, new_mean, new_std, ds=ds, dm=dm)\n",
        "\n",
        "        return -f, -df\n",
        "   \n",
        "    def acqfuncApprox(self, xnew, n_start=n_start_AcqFunc):\n",
        "        new_mean, new_var = self.GP.predict(xnew, return_std=True)\n",
        "        new_std = np.sqrt(new_var + eps)\n",
        "        dm, ds = self.GP.AcqGrad(xnew)\n",
        "        f, df = self.A.d_eval_gp(self.tau, new_mean, new_std, ds=ds, dm=dm)\n",
        "\n",
        "        return -f\n",
        "\n",
        "    def d_optimizeAcq(self, method='L-BFGS-B', n_start=n_start_AcqFunc):\n",
        "        start_points_dict = [self._sampleParam() for i in range(n_start)]\n",
        "        start_points_arr = np.array([list(s.values())\n",
        "                                     for s in start_points_dict])\n",
        "        x_best = np.empty((n_start, len(self.parameter_key)))\n",
        "        f_best = np.empty((n_start,))\n",
        "        opt = Parallel(n_jobs=self.n_jobs)(delayed(minimize)(self.acqfuncExact,\n",
        "                                                                 x0=start_point,\n",
        "                                                                 method=method,\n",
        "                                                                 jac = True,\n",
        "                                                                 bounds=self.parameter_range) for start_point in\n",
        "                                               start_points_arr)\n",
        "        x_best = np.array([res.x for res in opt])\n",
        "        f_best = np.array([np.atleast_1d(res.fun)[0] for res in opt])\n",
        "        f_best_min = min(f_best)\n",
        "\n",
        "        self.x_best = x_best\n",
        "        self.f_best = f_best\n",
        "        self.f_best_min = f_best_min\n",
        "        self.x_best_std = np.std(x_best)\n",
        "        self.best = x_best[np.argmin(f_best)]\n",
        "        self.start_points_arr = start_points_arr\n",
        "        self.history.append(self.x_best_std)\n",
        "\n",
        "        x_best_gp = np.empty((n_start, len(self.parameter_key)))\n",
        "        f_best_gp = np.empty((n_start,))\n",
        "        opt_gp = Parallel(n_jobs=self.n_jobs)(delayed(minimize)(self.acqfuncApprox,\n",
        "                                                                 x0=start_point,\n",
        "                                                                 method=method,\n",
        "                                                                 jac = False,\n",
        "                                                                 bounds=self.parameter_range) for start_point in\n",
        "                                               start_points_arr)\n",
        "        x_best_gp = np.array([res.x for res in opt_gp])\n",
        "        f_best_gp = np.array([np.atleast_1d(res.fun)[0] for res in opt_gp])\n",
        "        f_best_min_gp = min(f_best_gp)\n",
        "\n",
        "        self.x_best_gp = x_best_gp\n",
        "        self.f_best_gp = f_best_gp\n",
        "        self.f_best_min_gp = f_best_min_gp\n",
        "        self.x_best_std_gp = np.std(x_best_gp)\n",
        "        self.best_gp = x_best_gp[np.argmin(f_best_gp)]\n",
        "        self.start_points_arr = start_points_arr\n",
        "        self.history.append(self.x_best_std_gp)\n",
        "    \n",
        "    def _printInit(self):\n",
        "        print(self.header)\n",
        "        for init_eval in range(self.init_evals):\n",
        "            print(self.template.format('init', self.GP.X[init_eval], inverse * self.GP.y[init_eval], inverse * self.tau, '', ''))\n",
        "      \n",
        "    def _printCurrent(self):\n",
        "        OKGREEN = '\\033[92m'\n",
        "        ENDC = '\\033[0m'\n",
        "        BOLD = '\\033[1m'\n",
        "        eval = str(len(self.GP.y) - self.init_evals)\n",
        "        proposed = str(self.best)\n",
        "        curr_eval = str(inverse * self.GP.y[-1])\n",
        "        curr_best = str(inverse * self.tau)\n",
        "        min_acqfunc = str(self.f_best_min)\n",
        "        min_acqfunc_gp = str(self.f_best_min_gp)\n",
        "        x_best_std = str(self.x_best_std)\n",
        "        x_best_std_gp = str(self.x_best_std_gp)\n",
        "        if float(curr_eval) <= float(curr_best):\n",
        "            eval = BOLD + OKGREEN + eval + ENDC\n",
        "            proposed = BOLD + OKGREEN + proposed + ENDC\n",
        "            curr_eval = BOLD + OKGREEN + curr_eval + ENDC\n",
        "            curr_best = BOLD + OKGREEN + curr_best + ENDC\n",
        "            x_best_std = BOLD + OKGREEN + x_best_std + ENDC\n",
        "            x_best_std_gp = BOLD + OKGREEN + x_best_std_gp + ENDC\n",
        "        print(self.template.format(eval, proposed, curr_eval, curr_best, x_best_std, x_best_std_gp))\n",
        "\n",
        "    def run(self, max_iter=10, init_evals=3, resume=False):\n",
        "        \n",
        "        if not resume:\n",
        "            self.init_evals = init_evals\n",
        "            self._firstRun(self.init_evals)\n",
        "            self._printInit()\n",
        "        for iteration in range(max_iter):\n",
        "            self.d_optimizeAcq()\n",
        "            self.updateGP()\n",
        "            self._printCurrent()\n"
      ]
    },
    {
      "cell_type": "code",
      "source": [
        "## dGPGO - Student's-t:\n",
        "\n",
        "class dGPGO_stp(GPGO):\n",
        "    n_start = n_start_AcqFunc\n",
        "\n",
        "    def __init__(self, surrogate, acquisition, f, parameter_dict, n_jobs=1):\n",
        "        self.GP = surrogate\n",
        "        self.A = acquisition\n",
        "        self.f = f\n",
        "        self.parameters = parameter_dict\n",
        "        self.n_jobs = n_jobs\n",
        "\n",
        "        self.parameter_key = list(parameter_dict.keys())\n",
        "        self.parameter_value = list(parameter_dict.values())\n",
        "        self.parameter_type = [p[0] for p in self.parameter_value]\n",
        "        self.parameter_range = [p[1] for p in self.parameter_value]\n",
        "\n",
        "        self.history = []\n",
        "        self.header =   'Evaluation \\t Proposed point \\t  Current eval. \\t  Best eval. \\t        Exact EI: StdDev. x \\t Approx EI: StdDev. x '\n",
        "        self.template = '{:3}\\t {}\\t {:3}\\t {:3}\\t {:3}\\t {:3}'\n",
        "\n",
        "    def acqfuncExact(self, xnew, n_start=n_start_AcqFunc):\n",
        "        new_mean, new_var = self.GP.predict(xnew, return_std=True)\n",
        "        new_std = np.sqrt(new_var + eps)\n",
        "        dm, ds = self.GP.AcqGrad(xnew)\n",
        "        f, df = self.A.d_eval_stp(self.tau, new_mean, new_std, ds=ds, dm=dm, nu=3.0)\n",
        "\n",
        "        return -f, -df\n",
        "   \n",
        "    def acqfuncApprox(self, xnew, n_start=n_start_AcqFunc):\n",
        "        new_mean, new_var = self.GP.predict(xnew, return_std=True)\n",
        "        new_std = np.sqrt(new_var + eps)\n",
        "        dm, ds = self.GP.AcqGrad(xnew)\n",
        "        f, df = self.A.d_eval_stp(self.tau, new_mean, new_std, ds=ds, dm=dm, nu=3.0)\n",
        "\n",
        "        return -f\n",
        "\n",
        "    def d_optimizeAcq(self, method='L-BFGS-B', n_start=n_start_AcqFunc):\n",
        "        start_points_dict = [self._sampleParam() for i in range(n_start)]\n",
        "        start_points_arr = np.array([list(s.values())\n",
        "                                     for s in start_points_dict])\n",
        "        x_best = np.empty((n_start, len(self.parameter_key)))\n",
        "        f_best = np.empty((n_start,))\n",
        "        opt = Parallel(n_jobs=self.n_jobs)(delayed(minimize)(self.acqfuncExact,\n",
        "                                                                 x0=start_point,\n",
        "                                                                 method=method,\n",
        "                                                                 jac = True,\n",
        "                                                                 bounds=self.parameter_range) for start_point in\n",
        "                                               start_points_arr)\n",
        "        x_best = np.array([res.x for res in opt])\n",
        "        f_best = np.array([np.atleast_1d(res.fun)[0] for res in opt])\n",
        "        f_best_min = min(f_best)\n",
        "\n",
        "        self.x_best = x_best\n",
        "        self.f_best = f_best\n",
        "        self.f_best_min = f_best_min\n",
        "        self.x_best_std = np.std(x_best)\n",
        "        self.best = x_best[np.argmin(f_best)]\n",
        "        self.start_points_arr = start_points_arr\n",
        "        self.history.append(self.x_best_std)\n",
        "\n",
        "        x_best_gp = np.empty((n_start, len(self.parameter_key)))\n",
        "        f_best_gp = np.empty((n_start,))\n",
        "        opt_gp = Parallel(n_jobs=self.n_jobs)(delayed(minimize)(self.acqfuncApprox,\n",
        "                                                                 x0=start_point,\n",
        "                                                                 method=method,\n",
        "                                                                 jac = False,\n",
        "                                                                 bounds=self.parameter_range) for start_point in\n",
        "                                               start_points_arr)\n",
        "        x_best_gp = np.array([res.x for res in opt_gp])\n",
        "        f_best_gp = np.array([np.atleast_1d(res.fun)[0] for res in opt_gp])\n",
        "        f_best_min_gp = min(f_best_gp)\n",
        "\n",
        "        self.x_best_gp = x_best_gp\n",
        "        self.f_best_gp = f_best_gp\n",
        "        self.f_best_min_gp = f_best_min_gp\n",
        "        self.x_best_std_gp = np.std(x_best_gp)\n",
        "        self.best_gp = x_best_gp[np.argmin(f_best_gp)]\n",
        "        self.start_points_arr = start_points_arr\n",
        "        self.history.append(self.x_best_std_gp)\n",
        "    \n",
        "    def _printInit(self):\n",
        "        print(self.header)\n",
        "        for init_eval in range(self.init_evals):\n",
        "            print(self.template.format('init', self.GP.X[init_eval], inverse * self.GP.y[init_eval], inverse * self.tau, '', ''))\n",
        "      \n",
        "    def _printCurrent(self):\n",
        "        OKGREEN = '\\033[92m'\n",
        "        ENDC = '\\033[0m'\n",
        "        BOLD = '\\033[1m'\n",
        "        eval = str(len(self.GP.y) - self.init_evals)\n",
        "        proposed = str(self.best)\n",
        "        curr_eval = str(inverse * self.GP.y[-1])\n",
        "        curr_best = str(inverse * self.tau)\n",
        "        min_acqfunc = str(self.f_best_min)\n",
        "        min_acqfunc_gp = str(self.f_best_min_gp)\n",
        "        x_best_std = str(self.x_best_std)\n",
        "        x_best_std_gp = str(self.x_best_std_gp)\n",
        "        if float(curr_eval) <= float(curr_best):\n",
        "            eval = BOLD + OKGREEN + eval + ENDC\n",
        "            proposed = BOLD + OKGREEN + proposed + ENDC\n",
        "            curr_eval = BOLD + OKGREEN + curr_eval + ENDC\n",
        "            curr_best = BOLD + OKGREEN + curr_best + ENDC\n",
        "            x_best_std = BOLD + OKGREEN + x_best_std + ENDC\n",
        "            x_best_std_gp = BOLD + OKGREEN + x_best_std_gp + ENDC\n",
        "        print(self.template.format(eval, proposed, curr_eval, curr_best, x_best_std, x_best_std_gp))\n",
        "\n",
        "    def run(self, max_iter=10, init_evals=3, resume=False):\n",
        "        \n",
        "        if not resume:\n",
        "            self.init_evals = init_evals\n",
        "            self._firstRun(self.init_evals)\n",
        "            self._printInit()\n",
        "        for iteration in range(max_iter):\n",
        "            self.d_optimizeAcq()\n",
        "            self.updateGP()\n",
        "            self._printCurrent()\n"
      ],
      "metadata": {
        "id": "3gxt4mo3xQTY"
      },
      "execution_count": 10,
      "outputs": []
    },
    {
      "cell_type": "code",
      "execution_count": 11,
      "metadata": {
        "id": "qXIKGuXVGEg2"
      },
      "outputs": [],
      "source": [
        "###Reproducible set-seeds:\n",
        "\n",
        "run_num_1 = 1\n",
        "run_num_2 = 2\n",
        "run_num_3 = 3\n",
        "run_num_4 = 4\n",
        "run_num_5 = 5\n",
        "run_num_6 = 6\n",
        "run_num_7 = 7\n",
        "run_num_8 = 8\n",
        "run_num_9 = 9\n",
        "run_num_10 = 10\n",
        "run_num_11 = 11\n",
        "run_num_12 = 12\n",
        "run_num_13 = 13\n",
        "run_num_14 = 14\n",
        "run_num_15 = 15\n",
        "run_num_16 = 16\n",
        "run_num_17 = 17\n",
        "run_num_18 = 18\n",
        "run_num_19 = 19\n",
        "run_num_20 = 20\n"
      ]
    },
    {
      "cell_type": "code",
      "execution_count": 12,
      "metadata": {
        "colab": {
          "base_uri": "https://localhost:8080/"
        },
        "id": "JEhagQmnTVIK",
        "outputId": "214fb7a4-0257-4cd0-dde2-6baeb44630a6"
      },
      "outputs": [
        {
          "output_type": "execute_result",
          "data": {
            "text/plain": [
              "1663059160.7856297"
            ]
          },
          "metadata": {},
          "execution_count": 12
        }
      ],
      "source": [
        "start_gp = time.time()\n",
        "start_gp\n"
      ]
    },
    {
      "cell_type": "code",
      "execution_count": 13,
      "metadata": {
        "colab": {
          "base_uri": "https://localhost:8080/"
        },
        "id": "aH0YSTXufD1v",
        "outputId": "d4a737b5-3a89-47a8-94f1-ee66187b7b90"
      },
      "outputs": [
        {
          "output_type": "stream",
          "name": "stdout",
          "text": [
            "Evaluation \t Proposed point \t  Current eval. \t  Best eval. \t        Exact EI: StdDev. x \t Approx EI: StdDev. x \n",
            "init\t [-0.49786797  0.88129797]\t -0.2650082867644827\t -0.2650082867644827\t    \t    \n",
            "init\t [-2.99931375 -0.79066971]\t 110.13991869176735\t -0.2650082867644827\t    \t    \n",
            "init\t [-2.11946466 -1.63064562]\t 26.90935479429681\t -0.2650082867644827\t    \t    \n",
            "init\t [-1.88243873 -0.61775709]\t 2.8558363102363344\t -0.2650082867644827\t    \t    \n",
            "init\t [-0.61939515  0.15526694]\t 1.0540522096005847\t -0.2650082867644827\t    \t    \n",
            "1  \t [-1.0222508  -0.56767233]\t 1.9738149569435763\t -0.2650082867644827\t 1.6259849529408084\t 1.7035230032707442\n",
            "2  \t [-1.26808267 -0.11971967]\t 2.4833208094638186\t -0.2650082867644827\t 1.4607354264475703\t 1.5349363414405452\n",
            "3  \t [-0.4682545   1.65874906]\t 19.278966809435275\t -0.2650082867644827\t 1.625637030267677\t 1.7129951817249094\n",
            "4  \t [0.57640459 0.14873338]\t 1.108587133549329\t -0.2650082867644827\t 1.8473784057474754\t 1.8799547720491965\n",
            "5  \t [3. 2.]\t 162.89999999999998\t -0.2650082867644827\t 1.6362904981338044\t 1.9999362365084807\n",
            "6  \t [ 1.62245446 -2.        ]\t 46.81311522637849\t -0.2650082867644827\t 1.2187133639280403\t 2.0939780988200214\n",
            "7  \t [-2.33577482  1.41142395]\t 18.056485514077938\t -0.2650082867644827\t 1.4979845069430335\t 1.8438520828591078\n",
            "8  \t [1.55140561 0.11333102]\t 2.234925791924943\t -0.2650082867644827\t 1.5904801019628174\t 1.63722747480619\n",
            "9  \t [-0.41362527 -1.2419735 ]\t 4.485466378560737\t -0.2650082867644827\t 1.5081994436610662\t 1.502324502744195\n",
            "10 \t [ 3.         -0.44634136]\t 106.922848880709\t -0.2650082867644827\t 1.5544819729742247\t 1.5786853020211145\n",
            "11 \t [-0.55435427 -0.23061508]\t 0.9670105495804036\t -0.2650082867644827\t 1.3380672702043204\t 1.2784811274921597\n",
            "12 \t [0.45618444 0.19746525]\t 0.6846677700569301\t -0.2650082867644827\t 1.4716616366081297\t 1.4064756067006592\n",
            "13 \t [0.39398071 0.21868707]\t 0.4755443561854027\t -0.2650082867644827\t 1.1384173815548202\t 1.1057703837169142\n",
            "14 \t [-0.74257473 -0.1075505 ]\t 1.6571600856276385\t -0.2650082867644827\t 1.4107588346680575\t 1.3585547354689873\n",
            "15 \t [0.50775251 0.19471017]\t 0.8503467276613129\t -0.2650082867644827\t 1.3216111426892774\t 1.281492923220466\n",
            "16 \t [0.58529281 0.12169625]\t 1.1500959800437498\t -0.2650082867644827\t 1.3219022712807804\t 1.3737124133953822\n",
            "17 \t [0.50995867 0.18465468]\t 0.8664981540565704\t -0.2650082867644827\t 1.4212223260822312\t 1.397965813050444\n",
            "18 \t [0.57359396 0.12622587]\t 1.1102776349442653\t -0.2650082867644827\t 1.4300064996455308\t 1.3831945744664642\n",
            "19 \t [-0.638635   -0.28383212]\t 1.1896906856821603\t -0.2650082867644827\t 1.6009286963104195\t 1.588507273500127\n",
            "20 \t [-0.76975354 -0.09851442]\t 1.7395419122741436\t -0.2650082867644827\t 1.5130500552136763\t 1.5066868810177187\n"
          ]
        }
      ],
      "source": [
        "### EXACT GP EI GRADIENTS\n",
        "\n",
        "np.random.seed(run_num_1)\n",
        "surrogate_gp_1 = dGaussianProcess(cov_func, optimize=opt)\n",
        "\n",
        "gp_1 = dGPGO_gp(surrogate_gp_1, Acquisition_grad(util_gp), objfunc, param)\n",
        "gp_1.run(init_evals=n_init, max_iter=iters)\n"
      ]
    },
    {
      "cell_type": "code",
      "execution_count": 14,
      "metadata": {
        "id": "wTxsSZxFGBB5",
        "colab": {
          "base_uri": "https://localhost:8080/"
        },
        "outputId": "1167c290-caf1-4075-de8b-131d45ade4f6"
      },
      "outputs": [
        {
          "output_type": "stream",
          "name": "stdout",
          "text": [
            "Evaluation \t Proposed point \t  Current eval. \t  Best eval. \t        Exact EI: StdDev. x \t Approx EI: StdDev. x \n",
            "init\t [-0.38403059 -1.89629507]\t 38.61280125654363\t 0.011939608840498828\t    \t    \n",
            "init\t [ 0.29797487 -0.25871043]\t 0.011939608840498828\t 0.011939608840498828\t    \t    \n",
            "init\t [-0.47779319 -0.67866072]\t 0.1381453419305213\t 0.011939608840498828\t    \t    \n",
            "init\t [-1.7721082   0.47708387]\t 0.626144759281101\t 0.011939608840498828\t    \t    \n",
            "init\t [-1.20207196 -0.9326909 ]\t 3.0693811601417798\t 0.011939608840498828\t    \t    \n",
            "1  \t [-0.31993922 -0.13822595]\t 0.35705703278801193\t 0.011939608840498828\t 1.803501211220942\t 1.9034947058038223\n",
            "2  \t [ 2.04712486 -0.34678071]\t 3.2819773046713774\t 0.011939608840498828\t 1.4639477227166415\t 1.7149178698682075\n",
            "3  \t [0.87539145 2.        ]\t 51.73283837601235\t 0.011939608840498828\t 2.0231150742119595\t 2.14754184134238\n",
            "4  \t [-3. -2.]\t 162.89999999999998\t 0.011939608840498828\t 1.909414068063048\t 2.340352727451027\n",
            "5  \t [3.         1.37226805]\t 119.66888349229755\t 0.011939608840498828\t 1.7192958460752343\t 2.139072329199044\n",
            "6  \t [-1.21016181  0.32572009]\t 1.6274790665782064\t 0.011939608840498828\t 1.4927281097848757\t 1.78730895537635\n",
            "7  \t [ 2.57822459 -1.73411104]\t 51.37545795641484\t 0.011939608840498828\t 1.4263075133213212\t 1.7158413000885573\n",
            "8  \t [-1.13497412  0.24567019]\t 1.8748246583881507\t 0.011939608840498828\t 1.297640951427121\t 1.4340391503946353\n",
            "9  \t [-2.53093763  1.58874316]\t 38.43452837803527\t 0.011939608840498828\t 1.4323081296226097\t 1.5970193025259847\n",
            "10 \t [-0.76656072 -0.04169767]\t 1.7180026301046591\t 0.011939608840498828\t 1.393588208875942\t 1.3719483068905423\n",
            "11 \t [-0.72677218 -0.06724057]\t 1.6068923860923892\t 0.011939608840498828\t 1.4751115609721037\t 1.4858410602600922\n",
            "12 \t [-0.78299377 -0.04440794]\t 1.7667083925091904\t 0.011939608840498828\t 1.1823984500215212\t 1.1763277898141964\n",
            "\u001b[1m\u001b[92m13\u001b[0m\t \u001b[1m\u001b[92m[-0.00776059 -0.17638189]\u001b[0m\t \u001b[1m\u001b[92m-0.11896108969403411\u001b[0m\t \u001b[1m\u001b[92m-0.11896108969403411\u001b[0m\t \u001b[1m\u001b[92m1.472540031960569\u001b[0m\t \u001b[1m\u001b[92m1.4672940102750556\u001b[0m\n",
            "14 \t [-0.3235518  -0.14196628]\t 0.36305190914853197\t -0.11896108969403411\t 1.5335375595202987\t 1.5417036274704126\n",
            "15 \t [-0.22531248 -0.15205578]\t 0.14160896155349167\t -0.11896108969403411\t 1.4205405566422893\t 1.4027009510521546\n",
            "16 \t [-0.58376693 -0.09294834]\t 1.1524480178219365\t -0.11896108969403411\t 1.3162176790013393\t 1.2708806478393393\n",
            "17 \t [-0.44536759 -0.12143538]\t 0.7093558649292472\t -0.11896108969403411\t 1.4403930648977519\t 1.4260609201733445\n",
            "18 \t [-1.01083452  0.07946213]\t 2.144823303098556\t -0.11896108969403411\t 1.3771339824799413\t 1.3345297849046487\n",
            "19 \t [-0.51267083 -0.10284075]\t 0.9231749634758304\t -0.11896108969403411\t 1.3768657344653727\t 1.3486166794602479\n",
            "20 \t [-0.12180052 -0.14854931]\t -0.009346043698255993\t -0.11896108969403411\t 1.4370149709661868\t 1.3819583436579679\n"
          ]
        }
      ],
      "source": [
        "### EXACT GP EI GRADIENTS\n",
        "\n",
        "np.random.seed(run_num_2)\n",
        "surrogate_gp_2 = dGaussianProcess(cov_func, optimize=opt)\n",
        "\n",
        "gp_2 = dGPGO_gp(surrogate_gp_2, Acquisition_grad(util_gp), objfunc, param)\n",
        "gp_2.run(init_evals=n_init, max_iter=iters)\n"
      ]
    },
    {
      "cell_type": "code",
      "execution_count": 15,
      "metadata": {
        "id": "-dgzIrUIGCGT",
        "colab": {
          "base_uri": "https://localhost:8080/"
        },
        "outputId": "1666c292-6629-490f-f1b7-114619ca3298"
      },
      "outputs": [
        {
          "output_type": "stream",
          "name": "stdout",
          "text": [
            "Evaluation \t Proposed point \t  Current eval. \t  Best eval. \t        Exact EI: StdDev. x \t Approx EI: StdDev. x \n",
            "init\t [0.30478742 0.83259129]\t -0.2431922946563294\t -0.2431922946563294\t    \t    \n",
            "init\t [-1.25457157  0.04331042]\t 2.3313310458730996\t -0.2431922946563294\t    \t    \n",
            "init\t [2.35768173 1.58517236]\t 33.54152175045586\t -0.2431922946563294\t    \t    \n",
            "init\t [-2.24648814 -1.17102849]\t 14.214109412296352\t -0.2431922946563294\t    \t    \n",
            "init\t [-2.69119678 -0.23676063]\t 45.87579771712209\t -0.2431922946563294\t    \t    \n",
            "1  \t [-0.24615031  0.33088407]\t -0.23671242014455512\t -0.2431922946563294\t 1.0744224330334209\t 1.0885109152295513\n",
            "\u001b[1m\u001b[92m2\u001b[0m\t \u001b[1m\u001b[92m[-0.26381503  0.4354689 ]\u001b[0m\t \u001b[1m\u001b[92m-0.4612393470974674\u001b[0m\t \u001b[1m\u001b[92m-0.4612393470974674\u001b[0m\t \u001b[1m\u001b[92m1.2683766897887134\u001b[0m\t \u001b[1m\u001b[92m1.2009806966391312\u001b[0m\n",
            "3  \t [-0.51799266  1.2341212 ]\t 3.4758193603861836\t -0.4612393470974674\t 1.3373928527582413\t 1.1468022653669705\n",
            "4  \t [-0.0673234  -0.21593135]\t -0.14518543952304563\t -0.4612393470974674\t 1.1785167255950022\t 1.1212265582224528\n",
            "5  \t [ 0.05023894 -0.29319294]\t -0.31893773832699984\t -0.4612393470974674\t 1.466200232606793\t 1.7668810849791095\n",
            "6  \t [ 0.12147888 -0.35789422]\t -0.43163102803521386\t -0.4612393470974674\t 1.349956987226285\t 1.9939805923117806\n",
            "7  \t [-0.03575096 -0.17723115]\t -0.11025167395845886\t -0.4612393470974674\t 1.320209843939208\t 2.0414188252355263\n",
            "8  \t [ 2.06216375 -2.        ]\t 48.543590513997486\t -0.4612393470974674\t 1.3896302041975428\t 1.8112103685473475\n",
            "9  \t [-0.12353318 -0.09983315]\t 0.033417337879939335\t -0.4612393470974674\t 1.4166344428830824\t 1.3280140452493785\n",
            "\u001b[1m\u001b[92m10\u001b[0m\t \u001b[1m\u001b[92m[-0.1291267  -0.64417092]\u001b[0m\t \u001b[1m\u001b[92m-0.8217779839685982\u001b[0m\t \u001b[1m\u001b[92m-0.8217779839685982\u001b[0m\t \u001b[1m\u001b[92m1.4401823099288904\u001b[0m\t \u001b[1m\u001b[92m1.3614023074198403\u001b[0m\n",
            "11 \t [-0.29574404  0.05253284]\t 0.30747148064680496\t -0.8217779839685982\t 1.4802656622869175\t 1.5614598642586763\n",
            "12 \t [-0.18041224 -0.4906387 ]\t -0.5146104005958982\t -0.8217779839685982\t 1.4571127330446145\t 1.4959726292468785\n",
            "13 \t [-0.18219109 -0.32370731]\t -0.1857755696749902\t -0.8217779839685982\t 1.5639331304353772\t 1.4853854399948236\n",
            "14 \t [-0.15550354 -0.3062085 ]\t -0.19676942537292705\t -0.8217779839685982\t 1.3426119024095664\t 1.488802684375369\n",
            "15 \t [-0.17353173 -0.5004352 ]\t -0.5454707979070833\t -0.8217779839685982\t 1.3640917459293347\t 1.6515790266223367\n",
            "16 \t [-0.24535882 -0.85183965]\t -0.3540907995078644\t -0.8217779839685982\t 1.489032475010502\t 1.5624202028896728\n",
            "17 \t [-0.19474464 -0.20591336]\t 0.026389979049409595\t -0.8217779839685982\t 1.207063841185543\t 1.3481092253095974\n",
            "18 \t [-0.21876721 -0.66806248]\t -0.6556554090428423\t -0.8217779839685982\t 1.5637360457917344\t 1.7501140148805105\n",
            "19 \t [-0.21398811 -0.51850515]\t -0.4965279508260526\t -0.8217779839685982\t 1.3274009096485\t 1.424297193044844\n",
            "20 \t [-0.56979 -2.     ]\t 50.22827994158072\t -0.8217779839685982\t 1.3229003354114242\t 1.3874907120568432\n"
          ]
        }
      ],
      "source": [
        "### EXACT GP EI GRADIENTS\n",
        "\n",
        "np.random.seed(run_num_3)\n",
        "surrogate_gp_3 = dGaussianProcess(cov_func, optimize=opt)\n",
        "\n",
        "gp_3 = dGPGO_gp(surrogate_gp_3, Acquisition_grad(util_gp), objfunc, param)\n",
        "gp_3.run(init_evals=n_init, max_iter=iters)\n"
      ]
    },
    {
      "cell_type": "code",
      "execution_count": 16,
      "metadata": {
        "id": "hOtG-2sCGCKS",
        "colab": {
          "base_uri": "https://localhost:8080/"
        },
        "outputId": "476e19d8-795d-4f5d-e3b0-bac500776395"
      },
      "outputs": [
        {
          "output_type": "stream",
          "name": "stdout",
          "text": [
            "Evaluation \t Proposed point \t  Current eval. \t  Best eval. \t        Exact EI: StdDev. x \t Approx EI: StdDev. x \n",
            "init\t [2.80217903 0.188929  ]\t 63.70212732873661\t 2.3196402150601703\t    \t    \n",
            "init\t [2.83610616 0.85926397]\t 71.43837110827245\t 2.3196402150601703\t    \t    \n",
            "init\t [ 1.18637295 -1.13564202]\t 2.5463267765341566\t 2.3196402150601703\t    \t    \n",
            "init\t [ 2.85764673 -1.97507898]\t 113.76785286351424\t 2.3196402150601703\t    \t    \n",
            "init\t [-1.48210583 -0.26083387]\t 2.3196402150601703\t 2.3196402150601703\t    \t    \n",
            "\u001b[1m\u001b[92m1\u001b[0m\t \u001b[1m\u001b[92m[-0.19248638 -0.29673967]\u001b[0m\t \u001b[1m\u001b[92m-0.118746904624908\u001b[0m\t \u001b[1m\u001b[92m-0.118746904624908\u001b[0m\t \u001b[1m\u001b[92m1.6086530256174443\u001b[0m\t \u001b[1m\u001b[92m1.9647796212899875\u001b[0m\n",
            "\u001b[1m\u001b[92m2\u001b[0m\t \u001b[1m\u001b[92m[ 0.0771446 -0.9683799]\u001b[0m\t \u001b[1m\u001b[92m-0.2844404270558513\u001b[0m\t \u001b[1m\u001b[92m-0.2844404270558513\u001b[0m\t \u001b[1m\u001b[92m1.4637018186714632\u001b[0m\t \u001b[1m\u001b[92m1.6496717312960714\u001b[0m\n",
            "3  \t [ 0.15454763 -1.42856043]\t 8.369638169079648\t -0.2844404270558513\t 1.6052355013483148\t 1.7444763079380028\n",
            "4  \t [-0.59840288  1.94539575]\t 42.167704564580156\t -0.2844404270558513\t 1.7209835865269563\t 1.907651352026891\n",
            "5  \t [-3. -2.]\t 162.89999999999998\t -0.2844404270558513\t 1.6664631899619462\t 1.7084766050922862\n",
            "\u001b[1m\u001b[92m6\u001b[0m\t \u001b[1m\u001b[92m[ 0.4344578  -0.88853037]\u001b[0m\t \u001b[1m\u001b[92m-0.3683825364525794\u001b[0m\t \u001b[1m\u001b[92m-0.3683825364525794\u001b[0m\t \u001b[1m\u001b[92m1.4209290566320243\u001b[0m\t \u001b[1m\u001b[92m1.4370611513289875\u001b[0m\n",
            "\u001b[1m\u001b[92m7\u001b[0m\t \u001b[1m\u001b[92m[-0.00719016 -0.43245909]\u001b[0m\t \u001b[1m\u001b[92m-0.604860009707508\u001b[0m\t \u001b[1m\u001b[92m-0.604860009707508\u001b[0m\t \u001b[1m\u001b[92m1.248352531399821\u001b[0m\t \u001b[1m\u001b[92m1.2413982996880368\u001b[0m\n",
            "\u001b[1m\u001b[92m8\u001b[0m\t \u001b[1m\u001b[92m[ 0.17688634 -0.53889405]\u001b[0m\t \u001b[1m\u001b[92m-0.7964963032738657\u001b[0m\t \u001b[1m\u001b[92m-0.7964963032738657\u001b[0m\t \u001b[1m\u001b[92m1.3168518839210361\u001b[0m\t \u001b[1m\u001b[92m1.3485321134783783\u001b[0m\n",
            "\u001b[1m\u001b[92m9\u001b[0m\t \u001b[1m\u001b[92m[ 0.32482404 -0.67671998]\u001b[0m\t \u001b[1m\u001b[92m-0.8136861810695815\u001b[0m\t \u001b[1m\u001b[92m-0.8136861810695815\u001b[0m\t \u001b[1m\u001b[92m1.3096764249497472\u001b[0m\t \u001b[1m\u001b[92m1.4016474578711888\u001b[0m\n",
            "10 \t [ 0.44588596 -0.85413066]\t -0.4552221934254165\t -0.8136861810695815\t 1.7847918044182591\t 1.8156107513259852\n",
            "11 \t [ 0.17961507 -0.5226659 ]\t -0.761216993134217\t -0.8136861810695815\t 1.645552264119755\t 1.7204801600901636\n",
            "12 \t [-0.71569504 -0.17362165]\t 1.5500170627121175\t -0.8136861810695815\t 1.48737307196718\t 1.4641241220412702\n",
            "13 \t [ 0.29258834 -0.62047788]\t -0.8013874009662579\t -0.8136861810695815\t 1.3263492084603645\t 1.3255961094739506\n",
            "14 \t [ 0.32860924 -0.65912497]\t -0.7915364039463807\t -0.8136861810695815\t 1.262849448789975\t 1.3561611581320698\n",
            "15 \t [ 0.39240801 -0.74272345]\t -0.7134247075686395\t -0.8136861810695815\t 1.5043773466961596\t 1.4589564033262588\n",
            "16 \t [-0.02178001 -0.38499236]\t -0.4947187024436071\t -0.8136861810695815\t 1.412859853131886\t 1.566526979105257\n",
            "17 \t [ 0.17863573 -0.50611606]\t -0.727050579445094\t -0.8136861810695815\t 1.3857732336996273\t 1.513969244171734\n",
            "18 \t [ 0.19715612 -0.51991923]\t -0.7391575197103422\t -0.8136861810695815\t 1.4068447096115668\t 1.319236336692075\n",
            "19 \t [-0.05225443 -0.37129233]\t -0.4451045490917304\t -0.8136861810695815\t 1.4891469328564158\t 1.5010801596274912\n",
            "20 \t [-0.59071384 -0.21713408]\t 1.1028022983598684\t -0.8136861810695815\t 1.3297714718787383\t 1.3422391962777094\n"
          ]
        }
      ],
      "source": [
        "### EXACT GP EI GRADIENTS\n",
        "\n",
        "np.random.seed(run_num_4)\n",
        "surrogate_gp_4 = dGaussianProcess(cov_func, optimize=opt)\n",
        "\n",
        "gp_4= dGPGO_gp(surrogate_gp_4, Acquisition_grad(util_gp), objfunc, param)\n",
        "gp_4.run(init_evals=n_init, max_iter=iters)\n"
      ]
    },
    {
      "cell_type": "code",
      "execution_count": 17,
      "metadata": {
        "id": "JF_SxcEvGCOl",
        "colab": {
          "base_uri": "https://localhost:8080/"
        },
        "outputId": "52166391-9427-49a2-c58d-744544d0a7be"
      },
      "outputs": [
        {
          "output_type": "stream",
          "name": "stdout",
          "text": [
            "Evaluation \t Proposed point \t  Current eval. \t  Best eval. \t        Exact EI: StdDev. x \t Approx EI: StdDev. x \n",
            "init\t [-1.66804097  1.48292922]\t 10.126030408244933\t -0.6512780061070701\t    \t    \n",
            "init\t [-1.75968507  1.67444363]\t 19.4300499315822\t -0.6512780061070701\t    \t    \n",
            "init\t [-0.06953287  0.44697545]\t -0.6512780061070701\t -0.6512780061070701\t    \t    \n",
            "init\t [1.59544714 0.07367195]\t 2.168775388880503\t -0.6512780061070701\t    \t    \n",
            "init\t [-1.21919699 -1.24911509]\t 7.420330936884148\t -0.6512780061070701\t    \t    \n",
            "1  \t [0.27873899 1.08341635]\t 1.4162287546962613\t -0.6512780061070701\t 1.9046164288609266\t 2.0731160710029983\n",
            "2  \t [3. 2.]\t 162.89999999999998\t -0.6512780061070701\t 1.9578852286537753\t 2.0948609708471597\n",
            "3  \t [ 2.22867989 -2.        ]\t 52.44856270446538\t -0.6512780061070701\t 1.658757518255385\t 1.8176558994045657\n",
            "4  \t [0.27494103 0.1639579 ]\t 0.23095496884843886\t -0.6512780061070701\t 1.516092305931419\t 1.5111381589434454\n",
            "5  \t [-3. -2.]\t 162.89999999999998\t -0.6512780061070701\t 1.6423009766473433\t 1.6212333151871032\n",
            "6  \t [-0.19095792 -0.04204985]\t 0.14405301455804922\t -0.6512780061070701\t 1.553814210372317\t 1.4133847143814007\n",
            "7  \t [ 0.22610228 -0.27289114]\t -0.13835154176778736\t -0.6512780061070701\t 1.29749085367777\t 1.0812844536328696\n",
            "8  \t [ 0.05221633 -0.02048553]\t 0.008142972991233401\t -0.6512780061070701\t 1.4380009834506597\t 1.3212762890292205\n",
            "9  \t [ 0.5512364  -0.17662669]\t 0.812643422047539\t -0.6512780061070701\t 1.2886043850775382\t 1.042222180477494\n",
            "10 \t [-0.12947676 -0.25297171]\t -0.14037518527682102\t -0.6512780061070701\t 1.395866106758652\t 1.2887306496426947\n",
            "\u001b[1m\u001b[92m11\u001b[0m\t \u001b[1m\u001b[92m[-0.05655308 -0.67797815]\u001b[0m\t \u001b[1m\u001b[92m-0.9423756339338424\u001b[0m\t \u001b[1m\u001b[92m-0.9423756339338424\u001b[0m\t \u001b[1m\u001b[92m1.430967007423286\u001b[0m\t \u001b[1m\u001b[92m1.325136146275783\u001b[0m\n",
            "12 \t [-0.11044791 -0.76040549]\t -0.8430604329254887\t -0.9423756339338424\t 1.3166777527633542\t 1.1644389279331921\n",
            "13 \t [-0.14699413 -0.69416289]\t -0.8111941815503755\t -0.9423756339338424\t 1.4629238714906319\t 1.3367187744475544\n",
            "14 \t [-0.1574877  -0.67107633]\t -0.7865278891417997\t -0.9423756339338424\t 1.1507581918439176\t 1.12676197480878\n",
            "15 \t [-0.17995564 -0.66070398]\t -0.7376435737725353\t -0.9423756339338424\t 1.378690118956616\t 1.3744726003316152\n",
            "16 \t [-0.18062877 -0.65707727]\t -0.7343978598874492\t -0.9423756339338424\t 1.452565443145064\t 1.4112787019709698\n",
            "17 \t [-0.16961642 -0.69436264]\t -0.7676000078132663\t -0.9423756339338424\t 1.4377188398256726\t 1.3489641377262627\n",
            "18 \t [-0.23823296 -0.54698431]\t -0.4880782793984849\t -0.9423756339338424\t 1.2467348022035536\t 1.1622409232454771\n",
            "19 \t [-0.1898559 -0.6372889]\t -0.7022977790851173\t -0.9423756339338424\t 1.2947667713371396\t 1.2501708102085154\n",
            "20 \t [-0.19992315 -0.61649839]\t -0.6626716311711967\t -0.9423756339338424\t 1.451297621036572\t 1.3673196861428438\n"
          ]
        }
      ],
      "source": [
        "### EXACT GP EI GRADIENTS\n",
        "\n",
        "np.random.seed(run_num_5)\n",
        "surrogate_gp_5 = dGaussianProcess(cov_func, optimize=opt)\n",
        "\n",
        "gp_5 = dGPGO_gp(surrogate_gp_5, Acquisition_grad(util_gp), objfunc, param)\n",
        "gp_5.run(init_evals=n_init, max_iter=iters)\n"
      ]
    },
    {
      "cell_type": "code",
      "execution_count": 18,
      "metadata": {
        "id": "-kDxZtJsGCR3",
        "colab": {
          "base_uri": "https://localhost:8080/"
        },
        "outputId": "13ff9cbb-d608-434c-8782-dc9f00248b0d"
      },
      "outputs": [
        {
          "output_type": "stream",
          "name": "stdout",
          "text": [
            "Evaluation \t Proposed point \t  Current eval. \t  Best eval. \t        Exact EI: StdDev. x \t Approx EI: StdDev. x \n",
            "init\t [ 2.35716091 -0.67208078]\t 11.995980169715628\t -0.3096187466378422\t    \t    \n",
            "init\t [ 1.92737474 -1.8332135 ]\t 31.167927894156623\t -0.3096187466378422\t    \t    \n",
            "init\t [-2.35405992  0.38020826]\t 13.013381745677465\t -0.3096187466378422\t    \t    \n",
            "init\t [ 0.17890417 -0.32477029]\t -0.3096187466378422\t -0.3096187466378422\t    \t    \n",
            "init\t [-0.9875529   0.49007773]\t 0.9989196280666852\t -0.3096187466378422\t    \t    \n",
            "1  \t [0.14564833 0.99656045]\t 0.20177881687152865\t -0.3096187466378422\t 1.7561864617434624\t 1.5394646779870995\n",
            "2  \t [3. 2.]\t 162.89999999999998\t -0.3096187466378422\t 2.101037296569909\t 2.05498898434892\n",
            "\u001b[1m\u001b[92m3\u001b[0m\t \u001b[1m\u001b[92m[-0.20642557  0.73264737]\u001b[0m\t \u001b[1m\u001b[92m-0.9791695830839107\u001b[0m\t \u001b[1m\u001b[92m-0.9791695830839107\u001b[0m\t \u001b[1m\u001b[92m1.8025212981297425\u001b[0m\t \u001b[1m\u001b[92m1.6989965164226464\u001b[0m\n",
            "4  \t [-0.1567979   0.53674031]\t -0.8074587029374714\t -0.9791695830839107\t 1.6961505899045275\t 1.5823137775601843\n",
            "5  \t [-0.08928664  0.26902626]\t -0.2608132060388308\t -0.9791695830839107\t 1.5209998681616408\t 1.299364503352547\n",
            "6  \t [-0.11041711  0.38382373]\t -0.4963936304845496\t -0.9791695830839107\t 1.8428635639494277\t 1.630783234492702\n",
            "7  \t [-0.16661884  0.62848754]\t -0.9511790198898469\t -0.9791695830839107\t 1.6605472872370322\t 1.6614452241553217\n",
            "8  \t [-0.13061649  0.4864093 ]\t -0.7183691159226645\t -0.9791695830839107\t 1.7495081724296242\t 1.6030690446866938\n",
            "9  \t [-0.13770994  0.51972874]\t -0.785085651991113\t -0.9791695830839107\t 1.6453005047993763\t 1.4141769393523096\n",
            "10 \t [-0.13875642  0.52423407]\t -0.793681859448063\t -0.9791695830839107\t 1.8227432600179452\t 1.620793382688836\n",
            "11 \t [-0.32278764  1.2802356 ]\t 4.170415850488464\t -0.9791695830839107\t 1.6542595519657475\t 1.5668310888930117\n",
            "12 \t [-0.24247511  0.30014348]\t -0.17267445542938734\t -0.9791695830839107\t 1.51975436842173\t 1.393436738344582\n",
            "13 \t [-0.19099316  0.23870791]\t -0.11739457828095863\t -0.9791695830839107\t 1.5219463041492998\t 1.5692660662741655\n",
            "14 \t [-0.08109887  0.01715182]\t 0.02364997577543407\t -0.9791695830839107\t 1.567580295383623\t 1.5705044946303999\n",
            "15 \t [-1.62972918 -2.        ]\t 53.31478983090572\t -0.9791695830839107\t 1.7461075081623672\t 1.5321629352718082\n",
            "16 \t [-0.0367273   0.41748185]\t -0.5855960523553173\t -0.9791695830839107\t 1.4348128087656264\t 1.4981309551072224\n",
            "17 \t [0.34092604 0.02316341]\t 0.4428276015423569\t -0.9791695830839107\t 1.480502442081859\t 1.6095445348130712\n",
            "18 \t [-0.41389521  0.92588436]\t -0.2473906250948632\t -0.9791695830839107\t 1.4059088250748433\t 1.4303449747795622\n",
            "19 \t [-0.16041999  0.55297633]\t -0.836273986920025\t -0.9791695830839107\t 1.426943075463304\t 1.532077205888155\n",
            "20 \t [-0.12145617  0.50757529]\t -0.7681299665519166\t -0.9791695830839107\t 1.4310828944241045\t 1.689534121921337\n"
          ]
        }
      ],
      "source": [
        "### EXACT GP EI GRADIENTS\n",
        "\n",
        "np.random.seed(run_num_6)\n",
        "surrogate_gp_6 = dGaussianProcess(cov_func, optimize=opt)\n",
        "\n",
        "gp_6 = dGPGO_gp(surrogate_gp_6, Acquisition_grad(util_gp), objfunc, param)\n",
        "gp_6.run(init_evals=n_init, max_iter=iters)\n"
      ]
    },
    {
      "cell_type": "code",
      "execution_count": 19,
      "metadata": {
        "id": "fKB8MCD_GCVI",
        "colab": {
          "base_uri": "https://localhost:8080/"
        },
        "outputId": "fe3eb23e-85d1-462f-c836-0fead8c77d40"
      },
      "outputs": [
        {
          "output_type": "stream",
          "name": "stdout",
          "text": [
            "Evaluation \t Proposed point \t  Current eval. \t  Best eval. \t        Exact EI: StdDev. x \t Approx EI: StdDev. x \n",
            "init\t [-2.54215026  1.11967517]\t 26.53843863832488\t -0.46481072558790276\t    \t    \n",
            "init\t [-0.36954461  0.89386071]\t -0.46481072558790276\t -0.46481072558790276\t    \t    \n",
            "init\t [2.86793707 0.15398348]\t 76.66051064695093\t -0.46481072558790276\t    \t    \n",
            "init\t [ 0.00672278 -1.71179547]\t 22.613010892757885\t -0.46481072558790276\t    \t    \n",
            "init\t [-1.38936612e+00 -4.69996698e-04]\t 2.294585534557751\t -0.46481072558790276\t    \t    \n",
            "1  \t [0.1310842  1.64834684]\t 18.945381193780257\t -0.46481072558790276\t 1.24513328419618\t 1.430159897823947\n",
            "2  \t [-2.0069916  -0.34039291]\t 4.09787808897999\t -0.46481072558790276\t 1.476826716896781\t 1.476826716896781\n",
            "3  \t [-0.62752856  0.70661994]\t -0.17355017380823146\t -0.46481072558790276\t 1.8961587043369237\t 1.8029925847846435\n",
            "\u001b[1m\u001b[92m4\u001b[0m\t \u001b[1m\u001b[92m[-0.29852921  0.52826691]\u001b[0m\t \u001b[1m\u001b[92m-0.6224198225575582\u001b[0m\t \u001b[1m\u001b[92m-0.6224198225575582\u001b[0m\t \u001b[1m\u001b[92m1.8719980144897486\u001b[0m\t \u001b[1m\u001b[92m1.781920240745369\u001b[0m\n",
            "5  \t [-3. -2.]\t 162.89999999999998\t -0.6224198225575582\t 1.7922425421718102\t 1.7661199354134742\n",
            "6  \t [2.09924505 2.        ]\t 57.57059352637283\t -0.6224198225575582\t 1.7468714191815302\t 1.6552099813641685\n",
            "7  \t [-0.87135168  0.27247566]\t 1.4599845885734641\t -0.6224198225575582\t 1.3197515815690355\t 1.3048742865754301\n",
            "8  \t [-0.77541622  0.22027339]\t 1.362866847569483\t -0.6224198225575582\t 1.4672559287832816\t 1.4289729849252724\n",
            "9  \t [-0.47584579  0.07451895]\t 0.7443706807799777\t -0.6224198225575582\t 1.494262755457277\t 1.5049181688697022\n",
            "10 \t [-0.63791797  0.15118225]\t 1.1166845583102214\t -0.6224198225575582\t 1.6288443099300287\t 1.648288142517949\n",
            "11 \t [-0.76350077  0.22731818]\t 1.3145877356367468\t -0.6224198225575582\t 1.3573384047290729\t 1.3635794491514177\n",
            "12 \t [-0.65733795  0.17519063]\t 1.1290259475906288\t -0.6224198225575582\t 1.4498601722610247\t 1.4521684942777897\n",
            "13 \t [-0.3762991   0.06129751]\t 0.48720440363348655\t -0.6224198225575582\t 1.518129767920155\t 1.5470452045283143\n",
            "14 \t [-0.73480996  0.22176784]\t 1.250012029258112\t -0.6224198225575582\t 1.3600511335662708\t 1.3913847709683544\n",
            "15 \t [-0.16628085 -0.00363702]\t 0.10955076500191437\t -0.6224198225575582\t 1.5711166510413261\t 1.553469550734628\n",
            "16 \t [-0.72072037  0.23431368]\t 1.1814270300663394\t -0.6224198225575582\t 1.2680324265919445\t 1.268054386041705\n",
            "17 \t [-0.86365075  0.32902077]\t 1.2832491316227554\t -0.6224198225575582\t 1.1708783075742126\t 1.1373715930228856\n",
            "18 \t [-0.53167598  0.15291448]\t 0.7977955331475386\t -0.6224198225575582\t 1.5410820818032556\t 1.6651617399615475\n",
            "19 \t [-0.85663759  0.32941291]\t 1.2670387449999887\t -0.6224198225575582\t 1.5159091975554586\t 1.549413748330814\n",
            "20 \t [-0.53082868  0.15604654]\t 0.7899709082074567\t -0.6224198225575582\t 1.4339488183653655\t 1.4960290414288604\n"
          ]
        }
      ],
      "source": [
        "### EXACT GP EI GRADIENTS\n",
        "\n",
        "np.random.seed(run_num_7)\n",
        "surrogate_gp_7 = dGaussianProcess(cov_func, optimize=opt)\n",
        "\n",
        "gp_7 = dGPGO_gp(surrogate_gp_7, Acquisition_grad(util_gp), objfunc, param)\n",
        "gp_7.run(init_evals=n_init, max_iter=iters)\n"
      ]
    },
    {
      "cell_type": "code",
      "execution_count": 20,
      "metadata": {
        "id": "4unvifF-GCXp",
        "colab": {
          "base_uri": "https://localhost:8080/"
        },
        "outputId": "8bb41de1-20e7-4841-9bca-6200e5e2ae34"
      },
      "outputs": [
        {
          "output_type": "stream",
          "name": "stdout",
          "text": [
            "Evaluation \t Proposed point \t  Current eval. \t  Best eval. \t        Exact EI: StdDev. x \t Approx EI: StdDev. x \n",
            "init\t [2.24057642 1.87416265]\t 48.82879577505094\t 0.03190064766213015\t    \t    \n",
            "init\t [2.21516724 0.12342277]\t 8.660623551418242\t 0.03190064766213015\t    \t    \n",
            "init\t [-1.60363003 -1.95440478]\t 48.28332373939171\t 0.03190064766213015\t    \t    \n",
            "init\t [-0.41718709 -0.39059456]\t 0.2801229037700297\t 0.03190064766213015\t    \t    \n",
            "init\t [ 0.13604803 -0.08643282]\t 0.03190064766213015\t 0.03190064766213015\t    \t    \n",
            "\u001b[1m\u001b[92m1\u001b[0m\t \u001b[1m\u001b[92m[-0.57246742  0.6534526 ]\u001b[0m\t \u001b[1m\u001b[92m-0.25569579328253045\u001b[0m\t \u001b[1m\u001b[92m-0.25569579328253045\u001b[0m\t \u001b[1m\u001b[92m1.2463959421143596\u001b[0m\t \u001b[1m\u001b[92m1.6397809866271555\u001b[0m\n",
            "2  \t [-1.18831557  1.21804401]\t 3.8222330710419667\t -0.25569579328253045\t 1.3819434779080972\t 1.671580124884549\n",
            "3  \t [0.04982841 0.04620172]\t 0.003700531824410219\t -0.25569579328253045\t 1.2068665806813608\t 1.570816800958729\n",
            "4  \t [ 1.5233709  -1.90834873]\t 37.71548823920068\t -0.25569579328253045\t 1.5066470778646164\t 1.973091290133215\n",
            "\u001b[1m\u001b[92m5\u001b[0m\t \u001b[1m\u001b[92m[-0.33912575  0.43440778]\u001b[0m\t \u001b[1m\u001b[92m-0.32695670284957334\u001b[0m\t \u001b[1m\u001b[92m-0.32695670284957334\u001b[0m\t \u001b[1m\u001b[92m1.3544068403854066\u001b[0m\t \u001b[1m\u001b[92m1.5564232094941095\u001b[0m\n",
            "6  \t [-0.0246738   0.15315498]\t -0.09296948437208957\t -0.32695670284957334\t 1.6072462872293776\t 1.6653802069884904\n",
            "7  \t [-0.04969907  0.17332622]\t -0.11530480388362623\t -0.32695670284957334\t 1.4599085117385382\t 1.7450449807502921\n",
            "8  \t [-0.28400811  0.38062026]\t -0.2944805612666978\t -0.32695670284957334\t 1.4052687285079808\t 1.6275674536228903\n",
            "9  \t [-0.20166936  0.30552359]\t -0.2409095429867211\t -0.32695670284957334\t 1.2480308413248984\t 1.312950513310299\n",
            "10 \t [-0.24751797  0.3462792 ]\t -0.2705794615232793\t -0.32695670284957334\t 1.5759954061595434\t 1.6930637669662065\n",
            "11 \t [-0.2611143   0.35826569]\t -0.2779999169895273\t -0.32695670284957334\t 1.2347532521210578\t 1.3890185095943188\n",
            "12 \t [-0.33469293  0.42534393]\t -0.31291045425922753\t -0.32695670284957334\t 1.176865411788341\t 1.4692892247302651\n",
            "13 \t [-0.23959081  0.3379682 ]\t -0.2629187826568246\t -0.32695670284957334\t 1.2854194472170961\t 1.4291580998995035\n",
            "14 \t [-0.18106472  0.28551202]\t -0.2222920837650148\t -0.32695670284957334\t 1.4367401784808704\t 1.657345791701301\n",
            "15 \t [-0.34614125  0.4347818 ]\t -0.31401735970094863\t -0.32695670284957334\t 1.2969783718482437\t 1.4052153358808426\n",
            "16 \t [-0.09184302  0.20636134]\t -0.14844758862751387\t -0.32695670284957334\t 1.4525880139087592\t 1.626824784273284\n",
            "17 \t [-0.28924722  0.38179032]\t -0.28834703636193115\t -0.32695670284957334\t 1.4308687205222324\t 1.7191127763305392\n",
            "18 \t [-2.96747048  1.3827406 ]\t 102.86656681896146\t -0.32695670284957334\t 1.458941478309022\t 1.691288922566081\n",
            "\u001b[1m\u001b[92m19\u001b[0m\t \u001b[1m\u001b[92m[-0.3186898   0.71688384]\u001b[0m\t \u001b[1m\u001b[92m-0.8427479393050974\u001b[0m\t \u001b[1m\u001b[92m-0.8427479393050974\u001b[0m\t \u001b[1m\u001b[92m1.2557562607992212\u001b[0m\t \u001b[1m\u001b[92m1.1736151318723897\u001b[0m\n",
            "20 \t [-0.31259074  0.98018318]\t -0.08608807467623156\t -0.8427479393050974\t 1.3032306265348566\t 1.276554718821556\n"
          ]
        }
      ],
      "source": [
        "### EXACT GP EI GRADIENTS\n",
        "\n",
        "np.random.seed(run_num_8)\n",
        "surrogate_gp_8 = dGaussianProcess(cov_func, optimize=opt)\n",
        "\n",
        "gp_8 = dGPGO_gp(surrogate_gp_8, Acquisition_grad(util_gp), objfunc, param)\n",
        "gp_8.run(init_evals=n_init, max_iter=iters)\n"
      ]
    },
    {
      "cell_type": "code",
      "execution_count": 21,
      "metadata": {
        "id": "85OIXcg7GCaJ",
        "colab": {
          "base_uri": "https://localhost:8080/"
        },
        "outputId": "e0999c7d-2f1c-452b-88e2-57ae4b2ec6d3"
      },
      "outputs": [
        {
          "output_type": "stream",
          "name": "stdout",
          "text": [
            "Evaluation \t Proposed point \t  Current eval. \t  Best eval. \t        Exact EI: StdDev. x \t Approx EI: StdDev. x \n",
            "init\t [-2.93775508  0.00749837]\t 92.35857237145763\t 1.395407492769129\t    \t    \n",
            "init\t [-0.02536024 -1.46468188]\t 9.867672894921913\t 1.395407492769129\t    \t    \n",
            "init\t [-2.14733349 -1.1257653 ]\t 10.24680089963123\t 1.395407492769129\t    \t    \n",
            "init\t [-0.48895092 -1.00759533]\t 1.395407492769129\t 1.395407492769129\t    \t    \n",
            "init\t [-2.49564209 -0.61800544]\t 24.58298635463645\t 1.395407492769129\t    \t    \n",
            "1  \t [0.30007956 2.        ]\t 48.94356541468191\t 1.395407492769129\t 1.6064182666594051\t 1.5389731582832187\n",
            "2  \t [3.         0.35932676]\t 109.528200874667\t 1.395407492769129\t 1.874405311467603\t 1.950567378804555\n",
            "3  \t [ 1.74044958 -1.84128563]\t 31.323868720181455\t 1.395407492769129\t 1.441205258985459\t 1.3986993788846274\n",
            "4  \t [-1.55536773 -2.        ]\t 53.216714029899045\t 1.395407492769129\t 1.5454680817450175\t 1.5591566349236696\n",
            "\u001b[1m\u001b[92m5\u001b[0m\t \u001b[1m\u001b[92m[-0.45357128 -0.14814099]\u001b[0m\t \u001b[1m\u001b[92m0.7182664624905546\u001b[0m\t \u001b[1m\u001b[92m0.7182664624905546\u001b[0m\t \u001b[1m\u001b[92m1.3994147828713699\u001b[0m\t \u001b[1m\u001b[92m1.4760552043182549\u001b[0m\n",
            "6  \t [-1.96004765  2.        ]\t 47.35319532029028\t 0.7182664624905546\t 1.2595206651708781\t 1.2432989931521305\n",
            "\u001b[1m\u001b[92m7\u001b[0m\t \u001b[1m\u001b[92m[-0.16356259 -0.36014396]\u001b[0m\t \u001b[1m\u001b[92m-0.2871021596302432\u001b[0m\t \u001b[1m\u001b[92m-0.2871021596302432\u001b[0m\t \u001b[1m\u001b[92m1.3016593582071996\u001b[0m\t \u001b[1m\u001b[92m1.2725181622669557\u001b[0m\n",
            "8  \t [-0.36732676 -0.19354551]\t 0.42917035945099546\t -0.2871021596302432\t 1.2621637138905344\t 1.2346980770571045\n",
            "\u001b[1m\u001b[92m9\u001b[0m\t \u001b[1m\u001b[92m[ 0.16700826 -0.61404645]\u001b[0m\t \u001b[1m\u001b[92m-0.9321464430925556\u001b[0m\t \u001b[1m\u001b[92m-0.9321464430925556\u001b[0m\t \u001b[1m\u001b[92m1.5266119536557448\u001b[0m\t \u001b[1m\u001b[92m1.5234332717537413\u001b[0m\n",
            "10 \t [-0.0802732  -0.37810835]\t -0.43406667180697184\t -0.9321464430925556\t 1.2650229494325034\t 1.2560616847722361\n",
            "11 \t [-0.23561097 -0.26181651]\t 0.021926247322003656\t -0.9321464430925556\t 1.4742146556585638\t 1.4745768605443297\n",
            "12 \t [ 0.01601806 -0.45029128]\t -0.6527854579423339\t -0.9321464430925556\t 1.4615270010074837\t 1.4552735955832088\n",
            "13 \t [-0.27832569 -0.22712788]\t 0.16492604324603452\t -0.9321464430925556\t 1.0766167603119872\t 1.0567397831680667\n",
            "14 \t [ 0.2472223  -0.65468679]\t -0.9047627962799873\t -0.9321464430925556\t 1.3607071035715916\t 1.3463965500863122\n",
            "15 \t [ 0.14744464 -0.54464077]\t -0.8289021471199441\t -0.9321464430925556\t 1.284449882712427\t 1.2658334840598182\n",
            "16 \t [-0.11101316 -0.33082681]\t -0.3041679816813052\t -0.9321464430925556\t 1.448304844383892\t 1.445824975038885\n",
            "17 \t [ 0.08702736 -0.48677353]\t -0.7354034508833077\t -0.9321464430925556\t 1.361664729246828\t 1.3600885936778297\n",
            "18 \t [ 0.4613512  -0.90929697]\t -0.23279976403060842\t -0.9321464430925556\t 1.384744027022649\t 1.3767134829372618\n",
            "19 \t [-0.07112496 -0.34999603]\t -0.38489182070491573\t -0.9321464430925556\t 1.456789923270558\t 1.4305339655808993\n",
            "20 \t [ 0.2167365 -0.5937928]\t -0.8584781229549249\t -0.9321464430925556\t 1.5090805002362888\t 1.50131543052976\n"
          ]
        }
      ],
      "source": [
        "### EXACT GP EI GRADIENTS\n",
        "\n",
        "np.random.seed(run_num_9)\n",
        "surrogate_gp_9 = dGaussianProcess(cov_func, optimize=opt)\n",
        "\n",
        "gp_9 = dGPGO_gp(surrogate_gp_9, Acquisition_grad(util_gp), objfunc, param)\n",
        "gp_9.run(init_evals=n_init, max_iter=iters)\n"
      ]
    },
    {
      "cell_type": "code",
      "execution_count": 22,
      "metadata": {
        "id": "QQBR-qJPGCcp",
        "colab": {
          "base_uri": "https://localhost:8080/"
        },
        "outputId": "65d5b2ff-a99c-46a7-a415-641148e50c22"
      },
      "outputs": [
        {
          "output_type": "stream",
          "name": "stdout",
          "text": [
            "Evaluation \t Proposed point \t  Current eval. \t  Best eval. \t        Exact EI: StdDev. x \t Approx EI: StdDev. x \n",
            "init\t [ 1.62792386 -1.9169922 ]\t 38.25414770674631\t 0.7775687473184012\t    \t    \n",
            "init\t [0.80188941 0.99521553]\t 2.552651714051803\t 0.7775687473184012\t    \t    \n",
            "init\t [-0.00895793 -1.10081342]\t 1.0367630165263393\t 0.7775687473184012\t    \t    \n",
            "init\t [-1.81162281  1.04212285]\t 0.7775687473184012\t 0.7775687473184012\t    \t    \n",
            "init\t [-1.98533498 -1.64664074]\t 25.383481436170044\t 0.7775687473184012\t    \t    \n",
            "1  \t [3. 2.]\t 162.89999999999998\t 0.7775687473184012\t 1.589201390238439\t 1.8094099745112386\n",
            "2  \t [-2.52977022  2.        ]\t 69.90104466534116\t 0.7775687473184012\t 1.1746340026289581\t 1.4519410806466009\n",
            "3  \t [-0.96096779  0.29985852]\t 1.5500307910683613\t 0.7775687473184012\t 1.457698049786842\t 1.6966201140977315\n",
            "4  \t [ 3.         -0.28423181]\t 107.75026028666434\t 0.7775687473184012\t 1.6555392301969527\t 1.9155637003009254\n",
            "\u001b[1m\u001b[92m5\u001b[0m\t \u001b[1m\u001b[92m[-0.348341    0.78170365]\u001b[0m\t \u001b[1m\u001b[92m-0.7679201385345631\u001b[0m\t \u001b[1m\u001b[92m-0.7679201385345631\u001b[0m\t \u001b[1m\u001b[92m1.4782708204493753\u001b[0m\t \u001b[1m\u001b[92m1.3804022166012209\u001b[0m\n",
            "\u001b[1m\u001b[92m6\u001b[0m\t \u001b[1m\u001b[92m[-0.31261101  0.73686067]\u001b[0m\t \u001b[1m\u001b[92m-0.8518092149277464\u001b[0m\t \u001b[1m\u001b[92m-0.8518092149277464\u001b[0m\t \u001b[1m\u001b[92m1.4328590756133965\u001b[0m\t \u001b[1m\u001b[92m1.2068058918756202\u001b[0m\n",
            "7  \t [-0.16515877  1.78290853]\t 27.516171865562928\t -0.8518092149277464\t 1.4839767105244723\t 1.3915424008072712\n",
            "8  \t [-0.74720773  0.20089502]\t 1.3316474156266114\t -0.8518092149277464\t 1.3159263576482951\t 1.220218186714451\n",
            "9  \t [ 0.03874176 -0.13855199]\t -0.07468134710866335\t -0.8518092149277464\t 1.5824064111338276\t 1.5302175717832616\n",
            "10 \t [-0.95475877  0.26521926]\t 1.6389574211458704\t -0.8518092149277464\t 1.513884584316734\t 1.4053970255844934\n",
            "11 \t [-0.01738714 -0.03927793]\t -0.004269512299061877\t -0.8518092149277464\t 1.3322261921105982\t 1.1945260471303945\n",
            "12 \t [-0.14622812  0.049272  ]\t 0.06768145144185406\t -0.8518092149277464\t 1.5502108708426487\t 1.5369149250025418\n",
            "13 \t [-0.08742385  0.01226895]\t 0.028774581603405174\t -0.8518092149277464\t 1.4773958693952753\t 1.508916572973155\n",
            "14 \t [ 0.06251034 -0.13800712]\t -0.06776161663403887\t -0.8518092149277464\t 1.4675534170927154\t 1.426345559772959\n",
            "15 \t [-0.09070467  0.0127903 ]\t 0.030952986895990398\t -0.8518092149277464\t 1.4369578494988313\t 1.4751545068744882\n",
            "16 \t [-0.54257768  0.17940258]\t 0.7821311199424996\t -0.8518092149277464\t 1.535934909783848\t 1.505918985089187\n",
            "17 \t [-0.22019749  0.09303065]\t 0.1342443666013975\t -0.8518092149277464\t 1.5272574771385898\t 1.440684986544211\n",
            "18 \t [-0.06002255  0.00804925]\t 0.013641305770699224\t -0.8518092149277464\t 1.3666470061601899\t 1.3868567699169854\n",
            "19 \t [-0.16366561  0.06709281]\t 0.07673984449091927\t -0.8518092149277464\t 1.1512194446490238\t 0.9351260559142349\n",
            "20 \t [-1.14611855  0.29999731]\t 1.7148844473633291\t -0.8518092149277464\t 1.5583125452358666\t 1.503179404162047\n"
          ]
        }
      ],
      "source": [
        "### EXACT GP EI GRADIENTS\n",
        "\n",
        "np.random.seed(run_num_10)\n",
        "surrogate_gp_10 = dGaussianProcess(cov_func, optimize=opt)\n",
        "\n",
        "gp_10 = dGPGO_gp(surrogate_gp_10, Acquisition_grad(util_gp), objfunc, param)\n",
        "gp_10.run(init_evals=n_init, max_iter=iters)\n"
      ]
    },
    {
      "cell_type": "code",
      "execution_count": 23,
      "metadata": {
        "id": "JS8ejeQ2GCfi",
        "colab": {
          "base_uri": "https://localhost:8080/"
        },
        "outputId": "3adb67ee-9700-4458-acde-7f1281a2f397"
      },
      "outputs": [
        {
          "output_type": "stream",
          "name": "stdout",
          "text": [
            "Evaluation \t Proposed point \t  Current eval. \t  Best eval. \t        Exact EI: StdDev. x \t Approx EI: StdDev. x \n",
            "init\t [-1.91838187 -1.92209903]\t 46.39910375151002\t -0.6254688257880329\t    \t    \n",
            "init\t [-0.22068884  0.89973572]\t -0.6254688257880329\t -0.6254688257880329\t    \t    \n",
            "init\t [-0.47877837 -0.05829161]\t 0.8249470187639529\t -0.6254688257880329\t    \t    \n",
            "init\t [-2.92331511 -0.05051357]\t 88.99028404075307\t -0.6254688257880329\t    \t    \n",
            "init\t [2.65083991 1.40318036]\t 51.423425402262914\t -0.6254688257880329\t    \t    \n",
            "1  \t [0.1162043  0.20936558]\t -0.08968928579150665\t -0.6254688257880329\t 1.4011124206698906\t 1.5072091725693435\n",
            "2  \t [-0.26857992  1.50634431]\t 11.391644241601337\t -0.6254688257880329\t 1.0826218563554062\t 1.3748726126047464\n",
            "3  \t [ 1.46188583 -1.88617587]\t 35.8505521757125\t -0.6254688257880329\t 1.651416146008017\t 1.817712801682867\n",
            "4  \t [ 0.19155584 -0.03220303]\t 0.13365101792458087\t -0.6254688257880329\t 1.3456185031542787\t 1.371070816866985\n",
            "5  \t [0.05153275 0.10757978]\t -0.02960628402370909\t -0.6254688257880329\t 1.2638928820625286\t 1.2646145649691103\n",
            "6  \t [-0.14985578  0.35002975]\t -0.39372013328167677\t -0.6254688257880329\t 1.3742964102016864\t 1.3388102179239987\n",
            "7  \t [0.11699506 0.04199121]\t 0.05223093842347089\t -0.6254688257880329\t 1.5683481335992902\t 1.576863849096469\n",
            "\u001b[1m\u001b[92m8\u001b[0m\t \u001b[1m\u001b[92m[-0.26995571  0.51572618]\u001b[0m\t \u001b[1m\u001b[92m-0.6396691910644168\u001b[0m\t \u001b[1m\u001b[92m-0.6396691910644168\u001b[0m\t \u001b[1m\u001b[92m1.277594298244781\u001b[0m\t \u001b[1m\u001b[92m1.2296604804885944\u001b[0m\n",
            "\u001b[1m\u001b[92m9\u001b[0m\t \u001b[1m\u001b[92m[-0.393145    0.69615932]\u001b[0m\t \u001b[1m\u001b[92m-0.7034331925830128\u001b[0m\t \u001b[1m\u001b[92m-0.7034331925830128\u001b[0m\t \u001b[1m\u001b[92m1.488076948777665\u001b[0m\t \u001b[1m\u001b[92m1.5197643181228095\u001b[0m\n",
            "10 \t [-0.0286944   0.20165924]\t -0.15854520078761228\t -0.7034331925830128\t 1.364792164832861\t 1.395170592431047\n",
            "11 \t [-0.40388298  0.69790768]\t -0.6831502436487382\t -0.7034331925830128\t 1.4842977546542695\t 1.4734860371034428\n",
            "12 \t [-0.28956346  0.52146925]\t -0.6221142445482502\t -0.7034331925830128\t 1.5653183360380327\t 1.571491822710619\n",
            "13 \t [0.07296327 0.09167691]\t -0.005411931909274883\t -0.7034331925830128\t 1.4258921918566467\t 1.4163536397438559\n",
            "14 \t [-0.40762452  0.68865933]\t -0.6698800464455538\t -0.7034331925830128\t 1.446532746883743\t 1.42988452278679\n",
            "15 \t [-0.16295451  0.354311  ]\t -0.39210210232636034\t -0.7034331925830128\t 1.3517265795203108\t 1.363548718263747\n",
            "16 \t [-0.09430454  0.27288273]\t -0.2660063452409678\t -0.7034331925830128\t 1.4046430273840218\t 1.503118956312515\n",
            "17 \t [0.05270265 0.11195745]\t -0.03251489225107886\t -0.7034331925830128\t 1.1636124634637242\t 1.1236827815375043\n",
            "18 \t [0.06165995 0.10256876]\t -0.020136846620698194\t -0.7034331925830128\t 1.4678877759177176\t 1.449753461459067\n",
            "19 \t [-0.23664306  0.44654725]\t -0.5267688507379691\t -0.7034331925830128\t 1.3494705134788418\t 1.315502353845734\n",
            "20 \t [-0.47210751  0.77990244]\t -0.5304182907373182\t -0.7034331925830128\t 1.4716772195121548\t 1.4889896045221904\n"
          ]
        }
      ],
      "source": [
        "### EXACT GP EI GRADIENTS\n",
        "\n",
        "np.random.seed(run_num_11)\n",
        "surrogate_gp_11 = dGaussianProcess(cov_func, optimize=opt)\n",
        "\n",
        "gp_11 = dGPGO_gp(surrogate_gp_11, Acquisition_grad(util_gp), objfunc, param)\n",
        "gp_11.run(init_evals=n_init, max_iter=iters)\n"
      ]
    },
    {
      "cell_type": "code",
      "execution_count": 24,
      "metadata": {
        "id": "DXwjUVZ4GCii",
        "colab": {
          "base_uri": "https://localhost:8080/"
        },
        "outputId": "5a825703-2046-4fed-ed9b-107dc96651c4"
      },
      "outputs": [
        {
          "output_type": "stream",
          "name": "stdout",
          "text": [
            "Evaluation \t Proposed point \t  Current eval. \t  Best eval. \t        Exact EI: StdDev. x \t Approx EI: StdDev. x \n",
            "init\t [-2.07502295  0.96019879]\t 2.6185857163917037\t 1.9967735906956543\t    \t    \n",
            "init\t [-1.42010991  0.13495757]\t 1.9967735906956543\t 1.9967735906956543\t    \t    \n",
            "init\t [-2.91255023  1.67498803]\t 101.67816714332157\t 1.9967735906956543\t    \t    \n",
            "init\t [ 2.40428912 -1.86631429]\t 47.44624883788006\t 1.9967735906956543\t    \t    \n",
            "init\t [ 2.74169602 -1.45116271]\t 58.32400185681089\t 1.9967735906956543\t    \t    \n",
            "\u001b[1m\u001b[92m1\u001b[0m\t \u001b[1m\u001b[92m[-1.15648604  0.74752304]\u001b[0m\t \u001b[1m\u001b[92m0.5401694705946541\u001b[0m\t \u001b[1m\u001b[92m0.5401694705946541\u001b[0m\t \u001b[1m\u001b[92m2.248323829684019\u001b[0m\t \u001b[1m\u001b[92m1.9748983555376431\u001b[0m\n",
            "2  \t [1.83110409 2.        ]\t 54.030151566854705\t 0.5401694705946541\t 2.171627199407564\t 1.8377378106480446\n",
            "3  \t [-3. -2.]\t 162.89999999999998\t 0.5401694705946541\t 1.699038310669307\t 1.6106449554487428\n",
            "4  \t [-0.1634226 -2.       ]\t 48.432181477152\t 0.5401694705946541\t 1.3211135579367483\t 1.2335229673668344\n",
            "\u001b[1m\u001b[92m5\u001b[0m\t \u001b[1m\u001b[92m[-1.47701762  0.78295106]\u001b[0m\t \u001b[1m\u001b[92m0.08738741316331844\u001b[0m\t \u001b[1m\u001b[92m0.08738741316331844\u001b[0m\t \u001b[1m\u001b[92m1.3070465075972726\u001b[0m\t \u001b[1m\u001b[92m1.3180780964190517\u001b[0m\n",
            "6  \t [-0.56372555  1.77672487]\t 27.301492466718933\t 0.08738741316331844\t 1.3053336628491488\t 1.4346547091473445\n",
            "7  \t [-1.32916854  0.36325826]\t 1.409306764759222\t 0.08738741316331844\t 1.4916785170788194\t 1.5279779583814548\n",
            "8  \t [-1.54019582  0.51680302]\t 0.5421387074091392\t 0.08738741316331844\t 1.5595347778311963\t 1.5665447009471225\n",
            "9  \t [-1.38546631  0.40038232]\t 1.20489020798732\t 0.08738741316331844\t 1.3568965252824177\t 1.363567388423478\n",
            "10 \t [-1.101641    0.22547265]\t 1.9158756250012319\t 0.08738741316331844\t 1.325402621684511\t 1.3749617344488636\n",
            "11 \t [-1.38333554  0.39654734]\t 1.2216115217177954\t 0.08738741316331844\t 1.5052743751046571\t 1.5409582064355551\n",
            "12 \t [-1.02556798  0.18719706]\t 1.9446187150465724\t 0.08738741316331844\t 1.3853601001904476\t 1.4471790857861335\n",
            "13 \t [-0.79863541  0.10457803]\t 1.656671195526609\t 0.08738741316331844\t 1.4161855333204543\t 1.438876270922314\n",
            "14 \t [-1.47362163  0.46069777]\t 0.8491057101856692\t 0.08738741316331844\t 1.425137236646234\t 1.4179897786910602\n",
            "15 \t [0.27175881 0.06014818]\t 0.2860187007424736\t 0.08738741316331844\t 1.5047783514365578\t 1.523653629002349\n",
            "16 \t [ 1.06424465 -0.11289495]\t 2.150379067901458\t 0.08738741316331844\t 1.4268812688155221\t 1.3493006619025394\n",
            "17 \t [0.21004926 0.06559156]\t 0.169065943572126\t 0.08738741316331844\t 1.2514139985630013\t 1.2346252497433592\n",
            "18 \t [0.18016095 0.07016777]\t 0.12067527428069147\t 0.08738741316331844\t 1.5715109106948273\t 1.5215596432094374\n",
            "19 \t [-1.84414446  0.10965487]\t 2.1767084991203194\t 0.08738741316331844\t 1.35129727426725\t 1.4156746180164095\n",
            "20 \t [3.        0.4992175]\t 109.64921871626738\t 0.08738741316331844\t 1.3372835713382891\t 1.3376716791233787\n"
          ]
        }
      ],
      "source": [
        "### EXACT GP EI GRADIENTS\n",
        "\n",
        "np.random.seed(run_num_12)\n",
        "surrogate_gp_12 = dGaussianProcess(cov_func, optimize=opt)\n",
        "\n",
        "gp_12 = dGPGO_gp(surrogate_gp_12, Acquisition_grad(util_gp), objfunc, param)\n",
        "gp_12.run(init_evals=n_init, max_iter=iters)\n"
      ]
    },
    {
      "cell_type": "code",
      "execution_count": 25,
      "metadata": {
        "id": "CphOPndPGClX",
        "colab": {
          "base_uri": "https://localhost:8080/"
        },
        "outputId": "d0f518ce-b5dd-4fbe-91ac-6c62214061fe"
      },
      "outputs": [
        {
          "output_type": "stream",
          "name": "stdout",
          "text": [
            "Evaluation \t Proposed point \t  Current eval. \t  Best eval. \t        Exact EI: StdDev. x \t Approx EI: StdDev. x \n",
            "init\t [ 1.66621446 -1.04983512]\t 0.752930921147986\t 0.752930921147986\t    \t    \n",
            "init\t [1.9456712  1.86299679]\t 41.05776363102951\t 0.752930921147986\t    \t    \n",
            "init\t [ 2.83560668 -0.18620301]\t 69.0134544723513\t 0.752930921147986\t    \t    \n",
            "init\t [0.65425478 1.10210606]\t 3.117452174069064\t 0.752930921147986\t    \t    \n",
            "init\t [0.84968007 0.88807292]\t 2.006601529383926\t 0.752930921147986\t    \t    \n",
            "1  \t [ 0.4943127  -1.24330367]\t 3.617106922875216\t 0.752930921147986\t 1.1482809677702306\t 1.2038349978134193\n",
            "2  \t [-0.83460691  1.3144168 ]\t 5.811882953645614\t 0.752930921147986\t 1.8815016005926022\t 1.592869964360895\n",
            "3  \t [-3. -2.]\t 162.89999999999998\t 0.752930921147986\t 1.7882934601251652\t 1.9561831169162682\n",
            "4  \t [ 1.11089436 -2.        ]\t 48.14281330125023\t 0.752930921147986\t 1.4904283199359507\t 1.9167288606770563\n",
            "5  \t [ 2.10322474 -1.94085306]\t 43.06366123572329\t 0.752930921147986\t 1.6960528917875908\t 1.6960528917875908\n",
            "\u001b[1m\u001b[92m6\u001b[0m\t \u001b[1m\u001b[92m[ 0.67539348 -0.4460929 ]\u001b[0m\t \u001b[1m\u001b[92m0.48041758029772375\u001b[0m\t \u001b[1m\u001b[92m0.48041758029772375\u001b[0m\t \u001b[1m\u001b[92m1.4130358607075877\u001b[0m\t \u001b[1m\u001b[92m1.4937594772625022\u001b[0m\n",
            "\u001b[1m\u001b[92m7\u001b[0m\t \u001b[1m\u001b[92m[ 0.28034324 -0.09501552]\u001b[0m\t \u001b[1m\u001b[92m0.23913723226132994\u001b[0m\t \u001b[1m\u001b[92m0.23913723226132994\u001b[0m\t \u001b[1m\u001b[92m1.4054920720531086\u001b[0m\t \u001b[1m\u001b[92m1.6959375280363977\u001b[0m\n",
            "8  \t [ 0.27784105 -0.07276598]\t 0.2551369053186061\t 0.23913723226132994\t 1.3978152855117463\t 1.5956103689385828\n",
            "9  \t [ 0.50766827 -0.28741446]\t 0.4480820677613807\t 0.23913723226132994\t 1.409044615819837\t 1.6881515469917139\n",
            "10 \t [ 0.41932255 -0.2060404 ]\t 0.3912135592962276\t 0.23913723226132994\t 1.4524462884739135\t 1.7167213707367104\n",
            "\u001b[1m\u001b[92m11\u001b[0m\t \u001b[1m\u001b[92m[ 0.23334509 -0.00939766]\u001b[0m\t \u001b[1m\u001b[92m0.2090813367210099\u001b[0m\t \u001b[1m\u001b[92m0.2090813367210099\u001b[0m\t \u001b[1m\u001b[92m1.5432216162757009\u001b[0m\t \u001b[1m\u001b[92m1.7320974135195641\u001b[0m\n",
            "12 \t [ 0.24088522 -0.01181628]\t 0.2216924304272937\t 0.2090813367210099\t 1.4470244999464275\t 1.8080710349859588\n",
            "13 \t [-2.86911375  1.45773345]\t 81.94218776297245\t 0.2090813367210099\t 1.4963425201010183\t 1.8303819047577605\n",
            "14 \t [ 0.35597384 -0.13974094]\t 0.34749847658575395\t 0.2090813367210099\t 1.1982295733561157\t 1.1325921295593355\n",
            "15 \t [ 0.39848483 -0.1836059 ]\t 0.3800822678906324\t 0.2090813367210099\t 1.4539385970255534\t 1.4230123083239659\n",
            "\u001b[1m\u001b[92m16\u001b[0m\t \u001b[1m\u001b[92m[0.20548332 0.05648837]\u001b[0m\t \u001b[1m\u001b[92m0.16405915722716694\u001b[0m\t \u001b[1m\u001b[92m0.16405915722716694\u001b[0m\t \u001b[1m\u001b[92m1.3137481085429936\u001b[0m\t \u001b[1m\u001b[92m1.2474019098056153\u001b[0m\n",
            "\u001b[1m\u001b[92m17\u001b[0m\t \u001b[1m\u001b[92m[-0.07815219  0.78238554]\u001b[0m\t \u001b[1m\u001b[92m-0.9865023741959258\u001b[0m\t \u001b[1m\u001b[92m-0.9865023741959258\u001b[0m\t \u001b[1m\u001b[92m1.6620456096021847\u001b[0m\t \u001b[1m\u001b[92m1.6521328435399214\u001b[0m\n",
            "18 \t [0.14490601 0.18043526]\t -0.01677339179713319\t -0.9865023741959258\t 1.2580850100595258\t 1.2101766231274846\n",
            "19 \t [-0.08221415  0.80858087]\t -0.9449144808117468\t -0.9865023741959258\t 1.4176999919890272\t 1.3820256755835085\n",
            "20 \t [0.01226802 0.51091026]\t -0.7647021868118603\t -0.9865023741959258\t 1.6798900791784657\t 1.6675356364695073\n"
          ]
        }
      ],
      "source": [
        "### EXACT GP EI GRADIENTS\n",
        "\n",
        "np.random.seed(run_num_13)\n",
        "surrogate_gp_13 = dGaussianProcess(cov_func, optimize=opt)\n",
        "\n",
        "gp_13 = dGPGO_gp(surrogate_gp_13, Acquisition_grad(util_gp), objfunc, param)\n",
        "gp_13.run(init_evals=n_init, max_iter=iters)\n"
      ]
    },
    {
      "cell_type": "code",
      "execution_count": 26,
      "metadata": {
        "id": "ojHTeARNGCoi",
        "colab": {
          "base_uri": "https://localhost:8080/"
        },
        "outputId": "f10661f2-402e-4673-c459-a7a39159e9a5"
      },
      "outputs": [
        {
          "output_type": "stream",
          "name": "stdout",
          "text": [
            "Evaluation \t Proposed point \t  Current eval. \t  Best eval. \t        Exact EI: StdDev. x \t Approx EI: StdDev. x \n",
            "init\t [0.08366006 1.09266021]\t 1.0453292732107575\t -1.029299726828387\t    \t    \n",
            "init\t [ 2.22256611 -1.96781221]\t 48.81113313056442\t -1.029299726828387\t    \t    \n",
            "init\t [-1.14158445  1.83041496]\t 31.794043287944216\t -1.029299726828387\t    \t    \n",
            "init\t [ 0.07870027 -0.7268623 ]\t -1.029299726828387\t -1.029299726828387\t    \t    \n",
            "init\t [ 0.23519962 -1.11498023]\t 1.161934062902255\t -1.029299726828387\t    \t    \n",
            "1  \t [-1.4544454   0.80460528]\t 0.13632292703505466\t -1.029299726828387\t 1.503658355512916\t 1.503658355512916\n",
            "2  \t [-1.62889462 -1.85708112]\t 38.86111235771161\t -1.029299726828387\t 1.5374298505922563\t 1.5374298505922563\n",
            "3  \t [-0.15386684 -1.39029353]\t 7.520441668707877\t -1.029299726828387\t 1.3235846389965387\t 1.3235846389965387\n",
            "4  \t [0.42921709 0.75222473]\t 0.007928470491904593\t -1.029299726828387\t 1.4304797833357905\t 1.4304797833357905\n",
            "5  \t [ 0.17242163 -0.54461366]\t -0.811353901266326\t -1.029299726828387\t 1.412829797586225\t 1.4450988057821046\n",
            "6  \t [ 0.06717019 -0.52421601]\t -0.8143512817292351\t -1.029299726828387\t 1.5439795654917354\t 1.50620479946782\n",
            "7  \t [-0.118      -0.40712549]\t -0.4497802933384173\t -1.029299726828387\t 1.4056198373192503\t 1.3793594519410874\n",
            "8  \t [ 0.2592621  -0.56726335]\t -0.7605508340586425\t -1.029299726828387\t 1.5463540043462463\t 1.369358380073805\n",
            "9  \t [ 0.06304136 -0.15679668]\t -0.0899440331807559\t -1.029299726828387\t 1.6814689007190362\t 1.6025367159301296\n",
            "10 \t [-0.08968669 -0.4502591 ]\t -0.5741085689360789\t -1.029299726828387\t 1.4190796705093724\t 1.4567454478312478\n",
            "11 \t [ 0.46905033 -0.65007266]\t -0.49901532086738676\t -1.029299726828387\t 1.4896210002699184\t 1.4351430056361705\n",
            "12 \t [ 0.156359   -0.48217757]\t -0.6926153169088273\t -1.029299726828387\t 1.432881569847015\t 1.2260228945316287\n",
            "13 \t [ 0.37398364 -0.57880722]\t -0.5883008050555698\t -1.029299726828387\t 1.4425614053412645\t 1.5048117897082487\n",
            "14 \t [ 0.05481065 -0.43736292]\t -0.6307577358252264\t -1.029299726828387\t 1.5462595654560578\t 1.4329811511763388\n",
            "15 \t [ 0.98160168 -0.88383851]\t 0.6513386265952582\t -1.029299726828387\t 1.5747129461257667\t 1.247799730766759\n",
            "16 \t [-1.24464695  0.11685708]\t 2.1968108543449953\t -1.029299726828387\t 1.429092982797822\t 1.3645022534716014\n",
            "17 \t [2.24352856 1.99339116]\t 61.173330026700434\t -1.029299726828387\t 1.6309471979115955\t 1.6145210128774306\n",
            "18 \t [ 0.29416743 -0.56838556]\t -0.7113438555615259\t -1.029299726828387\t 1.3411824123280327\t 1.5237870070746857\n",
            "19 \t [ 0.19218579 -0.50568502]\t -0.7135959576320038\t -1.029299726828387\t 1.4095454518165818\t 1.5496296198702957\n",
            "20 \t [ 0.05079322 -0.44249316]\t -0.6420197461803926\t -1.029299726828387\t 1.513481683265984\t 1.2944938657401361\n"
          ]
        }
      ],
      "source": [
        "### EXACT GP EI GRADIENTS\n",
        "\n",
        "np.random.seed(run_num_14)\n",
        "surrogate_gp_14 = dGaussianProcess(cov_func, optimize=opt)\n",
        "\n",
        "gp_14 = dGPGO_gp(surrogate_gp_14, Acquisition_grad(util_gp), objfunc, param)\n",
        "gp_14.run(init_evals=n_init, max_iter=iters)\n"
      ]
    },
    {
      "cell_type": "code",
      "execution_count": 27,
      "metadata": {
        "id": "vCJzn4vWGCs3",
        "colab": {
          "base_uri": "https://localhost:8080/"
        },
        "outputId": "a49fa2de-b6d6-42cf-9934-32e76fdf47ff"
      },
      "outputs": [
        {
          "output_type": "stream",
          "name": "stdout",
          "text": [
            "Evaluation \t Proposed point \t  Current eval. \t  Best eval. \t        Exact EI: StdDev. x \t Approx EI: StdDev. x \n",
            "init\t [ 2.09290618 -1.2844163 ]\t 6.84252100896936\t 2.1163170846379233\t    \t    \n",
            "init\t [-2.67382071 -0.55384622]\t 43.69785230561242\t 2.1163170846379233\t    \t    \n",
            "init\t [-1.34759443  0.1200009 ]\t 2.1163170846379233\t 2.1163170846379233\t    \t    \n",
            "init\t [-1.16448651 -0.78210256]\t 2.3544087277459513\t 2.1163170846379233\t    \t    \n",
            "init\t [-2.32955234 -1.00040394]\t 15.469119251600274\t 2.1163170846379233\t    \t    \n",
            "\u001b[1m\u001b[92m1\u001b[0m\t \u001b[1m\u001b[92m[-0.21638275  1.08971893]\u001b[0m\t \u001b[1m\u001b[92m0.837475442441042\u001b[0m\t \u001b[1m\u001b[92m0.837475442441042\u001b[0m\t \u001b[1m\u001b[92m1.687086957433018\u001b[0m\t \u001b[1m\u001b[92m1.3725080719744793\u001b[0m\n",
            "2  \t [3. 2.]\t 162.89999999999998\t 0.837475442441042\t 1.9631753150999465\t 2.0425444457643627\n",
            "3  \t [-1.96941567  2.        ]\t 47.43342240539559\t 0.837475442441042\t 1.5403553542748882\t 1.7185987471812307\n",
            "4  \t [-0.17804804 -2.        ]\t 48.4808006875014\t 0.837475442441042\t 1.3172156010179834\t 1.066978145531064\n",
            "5  \t [0.70088083 0.45442263]\t 1.1607617601927824\t 0.837475442441042\t 1.5607054393166613\t 1.4634523949154672\n",
            "6  \t [0.44051215 2.        ]\t 49.58058670666018\t 0.837475442441042\t 1.4917690482681116\t 1.5842230565071327\n",
            "\u001b[1m\u001b[92m7\u001b[0m\t \u001b[1m\u001b[92m[-0.33208872  0.14525558]\u001b[0m\t \u001b[1m\u001b[92m0.28518411794690623\u001b[0m\t \u001b[1m\u001b[92m0.28518411794690623\u001b[0m\t \u001b[1m\u001b[92m1.401537870691881\u001b[0m\t \u001b[1m\u001b[92m1.5095393760747033\u001b[0m\n",
            "\u001b[1m\u001b[92m8\u001b[0m\t \u001b[1m\u001b[92m[-0.15032425  0.09334754]\u001b[0m\t \u001b[1m\u001b[92m0.040737291029828274\u001b[0m\t \u001b[1m\u001b[92m0.040737291029828274\u001b[0m\t \u001b[1m\u001b[92m1.7443847138146715\u001b[0m\t \u001b[1m\u001b[92m1.8333383219569797\u001b[0m\n",
            "9  \t [-0.60364389  0.27091131]\t 0.7592796091439257\t 0.040737291029828274\t 1.3733909735212009\t 1.410266239841792\n",
            "10 \t [-0.53953456  0.23814866]\t 0.6521808387640313\t 0.040737291029828274\t 1.4539183944480387\t 1.4811640946810631\n",
            "\u001b[1m\u001b[92m11\u001b[0m\t \u001b[1m\u001b[92m[-0.15367368  0.10558428]\u001b[0m\t \u001b[1m\u001b[92m0.03297505803852837\u001b[0m\t \u001b[1m\u001b[92m0.03297505803852837\u001b[0m\t \u001b[1m\u001b[92m1.3114009868129806\u001b[0m\t \u001b[1m\u001b[92m1.310930861031575\u001b[0m\n",
            "12 \t [-0.46148817  0.20228707]\t 0.5095204408183469\t 0.03297505803852837\t 1.3144470110341009\t 1.4788991998020389\n",
            "13 \t [-0.6706137   0.30839231]\t 0.8534287797282545\t 0.03297505803852837\t 1.6825666212186614\t 1.6457997894086067\n",
            "14 \t [-0.39040207  0.17694105]\t 0.3716625015829975\t 0.03297505803852837\t 1.5619955907987941\t 1.692230009685177\n",
            "15 \t [-0.29168397  0.14566616]\t 0.19976044183287361\t 0.03297505803852837\t 1.1702448417736715\t 1.1563966446040432\n",
            "16 \t [-0.46881106  0.20657559]\t 0.520979058824999\t 0.03297505803852837\t 1.5715515292544295\t 1.5182871513594178\n",
            "17 \t [-0.57443921  0.25487473]\t 0.7138608762610039\t 0.03297505803852837\t 1.2812380807929062\t 1.2913519315271251\n",
            "\u001b[1m\u001b[92m18\u001b[0m\t \u001b[1m\u001b[92m[-0.14314159  0.11219463]\u001b[0m\t \u001b[1m\u001b[92m0.01530284548598268\u001b[0m\t \u001b[1m\u001b[92m0.01530284548598268\u001b[0m\t \u001b[1m\u001b[92m1.412123308841308\u001b[0m\t \u001b[1m\u001b[92m1.344725852401033\u001b[0m\n",
            "19 \t [-0.29914665  0.15010662]\t 0.20837534930785923\t 0.01530284548598268\t 1.5643918156632572\t 1.6594539675505373\n",
            "20 \t [-0.2577758   0.13882127]\t 0.1452343315446074\t 0.01530284548598268\t 1.39757441678078\t 1.5713279271847997\n"
          ]
        }
      ],
      "source": [
        "### EXACT GP EI GRADIENTS\n",
        "\n",
        "np.random.seed(run_num_15)\n",
        "surrogate_gp_15 = dGaussianProcess(cov_func, optimize=opt)\n",
        "\n",
        "gp_15 = dGPGO_gp(surrogate_gp_15, Acquisition_grad(util_gp), objfunc, param)\n",
        "gp_15.run(init_evals=n_init, max_iter=iters)\n"
      ]
    },
    {
      "cell_type": "code",
      "execution_count": 28,
      "metadata": {
        "id": "bGGkhp-kGCw6",
        "colab": {
          "base_uri": "https://localhost:8080/"
        },
        "outputId": "98a0388b-1d31-4426-f826-4a0e569ca09c"
      },
      "outputs": [
        {
          "output_type": "stream",
          "name": "stdout",
          "text": [
            "Evaluation \t Proposed point \t  Current eval. \t  Best eval. \t        Exact EI: StdDev. x \t Approx EI: StdDev. x \n",
            "init\t [-1.66025353  0.09265337]\t 1.8632773736203017\t 1.8632773736203017\t    \t    \n",
            "init\t [ 0.30420874 -1.8175922 ]\t 30.24114424375299\t 1.8632773736203017\t    \t    \n",
            "init\t [-0.83562699 -1.10767623]\t 3.922061281476444\t 1.8632773736203017\t    \t    \n",
            "init\t [ 1.13235697 -1.3450743 ]\t 6.7121671493737685\t 1.8632773736203017\t    \t    \n",
            "init\t [-2.5780508   1.76404344]\t 53.42443470756798\t 1.8632773736203017\t    \t    \n",
            "1  \t [ 3.         -0.03166106]\t 108.80101115742967\t 1.8632773736203017\t 1.9087975856071429\t 2.08835013992957\n",
            "2  \t [-3. -2.]\t 162.89999999999998\t 1.8632773736203017\t 1.8471872664105302\t 1.7864102788733391\n",
            "3  \t [0.53458945 2.        ]\t 50.04858828808778\t 1.8632773736203017\t 1.5088545907563833\t 1.4720178802655093\n",
            "4  \t [-1.10134941  0.07301427]\t 2.25541265535764\t 1.8632773736203017\t 1.5109939546938678\t 1.5740192206167833\n",
            "\u001b[1m\u001b[92m5\u001b[0m\t \u001b[1m\u001b[92m[-0.38436994 -0.07390268]\u001b[0m\t \u001b[1m\u001b[92m0.5528776934672587\u001b[0m\t \u001b[1m\u001b[92m0.5528776934672587\u001b[0m\t \u001b[1m\u001b[92m1.630660062981104\u001b[0m\t \u001b[1m\u001b[92m1.5978489844775672\u001b[0m\n",
            "6  \t [-0.42109164 -0.02890779]\t 0.6539364235501978\t 0.5528776934672587\t 1.6923162504957172\t 1.6620984323829482\n",
            "7  \t [-0.67443952  0.00846508]\t 1.4103489071958895\t 0.5528776934672587\t 1.3191053377114177\t 1.542759983840863\n",
            "8  \t [-0.72625606  0.01352737]\t 1.5639248811969788\t 0.5528776934672587\t 1.2937891476293226\t 1.353882345963034\n",
            "9  \t [-0.81161396  0.01654354]\t 1.8044141832528953\t 0.5528776934672587\t 1.6228358055716485\t 1.5040492669063117\n",
            "\u001b[1m\u001b[92m10\u001b[0m\t \u001b[1m\u001b[92m[ 0.07713587 -0.00636867]\u001b[0m\t \u001b[1m\u001b[92m0.023072012720087676\u001b[0m\t \u001b[1m\u001b[92m0.023072012720087676\u001b[0m\t \u001b[1m\u001b[92m1.5213260460341789\u001b[0m\t \u001b[1m\u001b[92m1.693494111101545\u001b[0m\n",
            "11 \t [ 0.37605161 -0.0128942 ]\t 0.5190919891752236\t 0.023072012720087676\t 1.5633354467576368\t 1.6959197557192798\n",
            "\u001b[1m\u001b[92m12\u001b[0m\t \u001b[1m\u001b[92m[0.01493499 0.05445315]\u001b[0m\t \u001b[1m\u001b[92m-0.010120044571410986\u001b[0m\t \u001b[1m\u001b[92m-0.010120044571410986\u001b[0m\t \u001b[1m\u001b[92m1.652814575294897\u001b[0m\t \u001b[1m\u001b[92m1.82430393329512\u001b[0m\n",
            "13 \t [ 0.38159612 -0.00932071]\t 0.5350591803499689\t -0.010120044571410986\t 1.2270445733892568\t 1.463738346873034\n",
            "14 \t [0.20912662 0.02148252]\t 0.17359449862179208\t -0.010120044571410986\t 1.199150790138382\t 1.120012310840204\n",
            "15 \t [0.14663272 0.03564373]\t 0.08518819830076237\t -0.010120044571410986\t 1.3246657002929265\t 1.1884861696752576\n",
            "16 \t [ 0.47898394 -0.03060918]\t 0.792786493556351\t -0.010120044571410986\t 1.3766030536379146\t 1.2264114075586092\n",
            "17 \t [-0.16021398  0.11146854]\t 0.034353866894802326\t -0.010120044571410986\t 1.578340449963402\t 1.521386931636775\n",
            "18 \t [ 0.36579214 -0.0134559 ]\t 0.4927705813983359\t -0.010120044571410986\t 1.4893115341669656\t 1.2984356516425672\n",
            "19 \t [0.07050523 0.04456579]\t 0.015045560084786637\t -0.010120044571410986\t 1.209216515910283\t 1.1453935999050837\n",
            "20 \t [ 0.54719211 -0.05922163]\t 0.9719705387181258\t -0.010120044571410986\t 1.5640213223009751\t 1.551268399216809\n"
          ]
        }
      ],
      "source": [
        "### EXACT GP EI GRADIENTS\n",
        "\n",
        "np.random.seed(run_num_16)\n",
        "surrogate_gp_16 = dGaussianProcess(cov_func, optimize=opt)\n",
        "\n",
        "gp_16 = dGPGO_gp(surrogate_gp_16, Acquisition_grad(util_gp), objfunc, param)\n",
        "gp_16.run(init_evals=n_init, max_iter=iters)\n"
      ]
    },
    {
      "cell_type": "code",
      "execution_count": 29,
      "metadata": {
        "id": "Yrs2mp7hGC1Z",
        "colab": {
          "base_uri": "https://localhost:8080/"
        },
        "outputId": "6f1e1ff2-456c-4f8d-9428-700cb45d0a19"
      },
      "outputs": [
        {
          "output_type": "stream",
          "name": "stdout",
          "text": [
            "Evaluation \t Proposed point \t  Current eval. \t  Best eval. \t        Exact EI: StdDev. x \t Approx EI: StdDev. x \n",
            "init\t [-1.23200998  0.12234702]\t 2.189206652278967\t 1.7722768782964888\t    \t    \n",
            "init\t [-1.85087528 -1.72839857]\t 29.406067820453675\t 1.7722768782964888\t    \t    \n",
            "init\t [1.72191276 0.62533409]\t 2.2113401446731897\t 1.7722768782964888\t    \t    \n",
            "init\t [0.82512538 0.30241158]\t 1.7722768782964888\t 1.7722768782964888\t    \t    \n",
            "init\t [-2.7656225  -0.56874558]\t 57.5922315952177\t 1.7722768782964888\t    \t    \n",
            "1  \t [-0.94844345  1.77369891]\t 27.464707626764916\t 1.7722768782964888\t 1.8475063655280535\t 1.7331668124315933\n",
            "2  \t [ 2.16747806 -2.        ]\t 50.670774669928775\t 1.7722768782964888\t 1.6242463708035557\t 2.197880546594921\n",
            "3  \t [3. 2.]\t 162.89999999999998\t 1.7722768782964888\t 1.8273012694051465\t 1.6866923178638684\n",
            "4  \t [0.97958062 0.2221369 ]\t 2.229137979813862\t 1.7722768782964888\t 1.5952959609827362\t 1.727403275521201\n",
            "\u001b[1m\u001b[92m5\u001b[0m\t \u001b[1m\u001b[92m[-0.08334248 -0.32165678]\u001b[0m\t \u001b[1m\u001b[92m-0.3165435517895191\u001b[0m\t \u001b[1m\u001b[92m-0.3165435517895191\u001b[0m\t \u001b[1m\u001b[92m1.3365933388428728\u001b[0m\t \u001b[1m\u001b[92m1.2229519008052616\u001b[0m\n",
            "\u001b[1m\u001b[92m6\u001b[0m\t \u001b[1m\u001b[92m[-0.00456981 -0.44315296]\u001b[0m\t \u001b[1m\u001b[92m-0.6291619745773486\u001b[0m\t \u001b[1m\u001b[92m-0.6291619745773486\u001b[0m\t \u001b[1m\u001b[92m1.425432399042027\u001b[0m\t \u001b[1m\u001b[92m1.4441274285787753\u001b[0m\n",
            "7  \t [-0.1632596  -0.28702899]\t -0.1504035258575224\t -0.6291619745773486\t 1.2186689320872715\t 1.1761763249543846\n",
            "8  \t [-0.51449392  0.02033092]\t 0.905742352851246\t -0.6291619745773486\t 1.5094401600909568\t 1.478514232872209\n",
            "9  \t [-0.24611679 -0.20700637]\t 0.12154902372513854\t -0.6291619745773486\t 1.5672184449251148\t 1.548634204053649\n",
            "10 \t [-0.12197426 -0.32652525]\t -0.2821299159793492\t -0.6291619745773486\t 1.2638078076228565\t 1.1764661072412113\n",
            "11 \t [-0.09346761 -0.35734336]\t -0.3773690429532704\t -0.6291619745773486\t 1.639119514060623\t 1.5441994935196732\n",
            "\u001b[1m\u001b[92m12\u001b[0m\t \u001b[1m\u001b[92m[ 0.11830541 -0.66154268]\u001b[0m\t \u001b[1m\u001b[92m-1.0071341453385254\u001b[0m\t \u001b[1m\u001b[92m-1.0071341453385254\u001b[0m\t \u001b[1m\u001b[92m1.2852744016054969\u001b[0m\t \u001b[1m\u001b[92m1.2693314253338686\u001b[0m\n",
            "13 \t [ 0.02521467 -0.5409358 ]\t -0.8390573586807799\t -1.0071341453385254\t 1.2429168999397011\t 1.1957918822449478\n",
            "14 \t [-0.22662511 -0.2519287 ]\t 0.019275542293584635\t -1.0071341453385254\t 1.4202317427162592\t 1.2672154732477778\n",
            "15 \t [-0.16389768 -0.31697265]\t -0.2036164182756886\t -1.0071341453385254\t 1.3500218931313321\t 1.1518417640401835\n",
            "16 \t [-0.15109931 -0.32851063]\t -0.2452196271382986\t -1.0071341453385254\t 1.1980452068787444\t 1.1266779112227256\n",
            "17 \t [-0.04980421 -0.44523503]\t -0.6036661778585746\t -1.0071341453385254\t 1.1576404121808224\t 0.9789490105998127\n",
            "18 \t [-0.0607197  -0.43213558]\t -0.5665174441423825\t -1.0071341453385254\t 1.3747917683064979\t 1.2614936080117207\n",
            "19 \t [-0.03885293 -0.46159448]\t -0.6467157635550382\t -1.0071341453385254\t 1.3431761566746734\t 1.2562271567689947\n",
            "20 \t [ 0.02880166 -0.55679738]\t -0.8683554392047718\t -1.0071341453385254\t 1.5155577282402832\t 1.622916004314801\n"
          ]
        }
      ],
      "source": [
        "### EXACT GP EI GRADIENTS\n",
        "\n",
        "np.random.seed(run_num_17)\n",
        "surrogate_gp_17 = dGaussianProcess(cov_func, optimize=opt)\n",
        "\n",
        "gp_17 = dGPGO_gp(surrogate_gp_17, Acquisition_grad(util_gp), objfunc, param)\n",
        "gp_17.run(init_evals=n_init, max_iter=iters)\n"
      ]
    },
    {
      "cell_type": "code",
      "execution_count": 30,
      "metadata": {
        "id": "f0HIEP3PIUEa",
        "colab": {
          "base_uri": "https://localhost:8080/"
        },
        "outputId": "beda131f-cd6a-46aa-9559-d37d5f8304fb"
      },
      "outputs": [
        {
          "output_type": "stream",
          "name": "stdout",
          "text": [
            "Evaluation \t Proposed point \t  Current eval. \t  Best eval. \t        Exact EI: StdDev. x \t Approx EI: StdDev. x \n",
            "init\t [0.90224545 0.02181349]\t 2.062169771852028\t 2.062169771852028\t    \t    \n",
            "init\t [ 2.27160883 -1.2726391 ]\t 11.64729291207819\t 2.062169771852028\t    \t    \n",
            "init\t [2.11339841 1.00054514]\t 7.792128760671214\t 2.062169771852028\t    \t    \n",
            "init\t [0.99661    1.95158179]\t 46.96206222999227\t 2.062169771852028\t    \t    \n",
            "init\t [-1.45818946 -1.8867763 ]\t 41.4190528039297\t 2.062169771852028\t    \t    \n",
            "1  \t [-2.66531515  1.40819569]\t 45.982813537937645\t 2.062169771852028\t 1.5736723200128686\t 1.903386920817331\n",
            "2  \t [3.        0.6031628]\t 109.78368431836117\t 2.062169771852028\t 1.3147760148745133\t 1.5503952784317807\n",
            "3  \t [1.89592609 0.6375228 ]\t 2.969704029748832\t 2.062169771852028\t 1.4184424205217094\t 1.4184424205217094\n",
            "4  \t [-0.32173714 -1.49268739]\t 11.817714263649087\t 2.062169771852028\t 1.5210965405894012\t 1.5210965405894012\n",
            "\u001b[1m\u001b[92m5\u001b[0m\t \u001b[1m\u001b[92m[-0.73927187  0.43212922]\u001b[0m\t \u001b[1m\u001b[92m0.686338663645771\u001b[0m\t \u001b[1m\u001b[92m0.686338663645771\u001b[0m\t \u001b[1m\u001b[92m1.2992673279008835\u001b[0m\t \u001b[1m\u001b[92m1.4084890045611462\u001b[0m\n",
            "6  \t [-3.         -0.66721437]\t 109.91366621956408\t 0.686338663645771\t 1.400528883780798\t 1.6857633223431794\n",
            "\u001b[1m\u001b[92m7\u001b[0m\t \u001b[1m\u001b[92m[-0.30694961 -0.82375239]\u001b[0m\t \u001b[1m\u001b[92m-0.26109415258126123\u001b[0m\t \u001b[1m\u001b[92m-0.26109415258126123\u001b[0m\t \u001b[1m\u001b[92m1.5482273436822847\u001b[0m\t \u001b[1m\u001b[92m1.5484136458522482\u001b[0m\n",
            "8  \t [-0.33373115 -0.2909626 ]\t 0.2070516228311136\t -0.26109415258126123\t 1.2341570202600438\t 1.3215479769673912\n",
            "9  \t [-1.75084061  0.3508495 ]\t 1.0840719089652828\t -0.26109415258126123\t 1.5121655793495967\t 1.5121655793495967\n",
            "10 \t [-0.83421251  1.80811902]\t 30.04658126333667\t -0.26109415258126123\t 1.566100338773368\t 1.6704474939211253\n",
            "11 \t [-0.8431111  -0.17299245]\t 1.9316943314986037\t -0.26109415258126123\t 1.5369540670822746\t 1.4498991264193513\n",
            "\u001b[1m\u001b[92m12\u001b[0m\t \u001b[1m\u001b[92m[-0.04626011 -0.28362371]\u001b[0m\t \u001b[1m\u001b[92m-0.2742148640986231\u001b[0m\t \u001b[1m\u001b[92m-0.2742148640986231\u001b[0m\t \u001b[1m\u001b[92m1.2578432268858655\u001b[0m\t \u001b[1m\u001b[92m1.3033066077116255\u001b[0m\n",
            "13 \t [-0.0940631 -0.2454676]\t -0.16817827869694296\t -0.2742148640986231\t 1.4484024654971421\t 1.2930701740495099\n",
            "14 \t [ 1.01774058 -2.        ]\t 48.2250946914044\t -0.2742148640986231\t 1.261362732693786\t 1.2663050048617002\n",
            "15 \t [-0.05485529 -0.26668874]\t -0.23761098370645095\t -0.2742148640986231\t 1.389302489341699\t 1.2661504665289727\n",
            "16 \t [-0.21377759 -0.02083701]\t 0.1811677699167673\t -0.2742148640986231\t 1.3173907730052195\t 1.319468060173425\n",
            "\u001b[1m\u001b[92m17\u001b[0m\t \u001b[1m\u001b[92m[ 0.03986443 -0.35291168]\u001b[0m\t \u001b[1m\u001b[92m-0.44385636397224737\u001b[0m\t \u001b[1m\u001b[92m-0.44385636397224737\u001b[0m\t \u001b[1m\u001b[92m1.7633453999502864\u001b[0m\t \u001b[1m\u001b[92m1.7412742536260137\u001b[0m\n",
            "18 \t [1.37594906 0.40535503]\t 2.316318551311781\t -0.44385636397224737\t 1.6054385946794358\t 1.5611302134100158\n",
            "19 \t [-0.03871168 -0.27348562]\t -0.26022398754451387\t -0.44385636397224737\t 1.3680966858305974\t 1.2887114395603716\n",
            "20 \t [-0.03166379 -0.28081617]\t -0.27765674666924967\t -0.44385636397224737\t 1.5184123451002063\t 1.43627073343289\n"
          ]
        }
      ],
      "source": [
        "### EXACT GP EI GRADIENTS\n",
        "\n",
        "np.random.seed(run_num_18)\n",
        "surrogate_gp_18 = dGaussianProcess(cov_func, optimize=opt)\n",
        "\n",
        "gp_18 = dGPGO_gp(surrogate_gp_18, Acquisition_grad(util_gp), objfunc, param)\n",
        "gp_18.run(init_evals=n_init, max_iter=iters)\n"
      ]
    },
    {
      "cell_type": "code",
      "execution_count": 31,
      "metadata": {
        "id": "S3mxRQDLIUPC",
        "colab": {
          "base_uri": "https://localhost:8080/"
        },
        "outputId": "b453f1a8-f8dd-4283-820f-b1a507186a7a"
      },
      "outputs": [
        {
          "output_type": "stream",
          "name": "stdout",
          "text": [
            "Evaluation \t Proposed point \t  Current eval. \t  Best eval. \t        Exact EI: StdDev. x \t Approx EI: StdDev. x \n",
            "init\t [-2.41479839  1.04499887]\t 15.890475442873509\t 6.578088852480828\t    \t    \n",
            "init\t [-1.51837216 -1.44747325]\t 13.520839509777993\t 6.578088852480828\t    \t    \n",
            "init\t [-1.01132062 -1.66800174]\t 23.772158573571232\t 6.578088852480828\t    \t    \n",
            "init\t [1.03186249 1.22637519]\t 6.578088852480828\t 6.578088852480828\t    \t    \n",
            "init\t [2.89645149 0.54264294]\t 83.31828503667734\t 6.578088852480828\t    \t    \n",
            "1  \t [0.10116931 2.        ]\t 48.243059900228204\t 6.578088852480828\t 1.802734884445024\t 2.008826734194486\n",
            "2  \t [ 1.4154914  -1.88944898]\t 36.29074861563762\t 6.578088852480828\t 1.9303001045414583\t 2.150154120606879\n",
            "3  \t [-3. -2.]\t 162.89999999999998\t 6.578088852480828\t 1.4372222344321\t 1.599155198919188\n",
            "\u001b[1m\u001b[92m4\u001b[0m\t \u001b[1m\u001b[92m[-0.2606682 -0.1399839]\u001b[0m\t \u001b[1m\u001b[92m0.22184398731126448\u001b[0m\t \u001b[1m\u001b[92m0.22184398731126448\u001b[0m\t \u001b[1m\u001b[92m1.4041654336884455\u001b[0m\t \u001b[1m\u001b[92m1.4793264221703768\u001b[0m\n",
            "\u001b[1m\u001b[92m5\u001b[0m\t \u001b[1m\u001b[92m[ 0.19813133 -0.17803827]\u001b[0m\t \u001b[1m\u001b[92m-0.004238427612070855\u001b[0m\t \u001b[1m\u001b[92m-0.004238427612070855\u001b[0m\t \u001b[1m\u001b[92m1.3408440579486747\u001b[0m\t \u001b[1m\u001b[92m1.3983748705484975\u001b[0m\n",
            "6  \t [-0.27430555 -0.08600945]\t 0.2834480626298939\t -0.004238427612070855\t 1.5088245386046173\t 1.4945044307160393\n",
            "\u001b[1m\u001b[92m7\u001b[0m\t \u001b[1m\u001b[92m[ 0.15377079 -0.15070031]\u001b[0m\t \u001b[1m\u001b[92m-0.018540449816608573\u001b[0m\t \u001b[1m\u001b[92m-0.018540449816608573\u001b[0m\t \u001b[1m\u001b[92m1.2795310486252387\u001b[0m\t \u001b[1m\u001b[92m1.2400249067465567\u001b[0m\n",
            "\u001b[1m\u001b[92m8\u001b[0m\t \u001b[1m\u001b[92m[ 0.04723679 -0.12321757]\u001b[0m\t \u001b[1m\u001b[92m-0.0567138350143235\u001b[0m\t \u001b[1m\u001b[92m-0.0567138350143235\u001b[0m\t \u001b[1m\u001b[92m1.4376887024938234\u001b[0m\t \u001b[1m\u001b[92m1.368388291698304\u001b[0m\n",
            "9  \t [-0.02262104 -0.10891735]\t -0.04237891031671153\t -0.0567138350143235\t 1.475538746779045\t 1.4397218981595103\n",
            "10 \t [-0.31533916 -0.06475231]\t 0.3810357541960225\t -0.0567138350143235\t 1.6245240957134182\t 1.6530245608451377\n",
            "11 \t [-0.25225065 -0.07364251]\t 0.24310603495990016\t -0.0567138350143235\t 1.1605237022000812\t 1.1738394903962426\n",
            "12 \t [-0.05417523 -0.10273576]\t -0.024485470464218614\t -0.0567138350143235\t 1.400069545962441\t 1.4574447437172924\n",
            "13 \t [ 0.33866736 -0.18799463]\t 0.23162025039446218\t -0.0567138350143235\t 1.5009640273368436\t 1.6767768798115796\n",
            "14 \t [-0.26533015 -0.06332603]\t 0.27213458348625147\t -0.0567138350143235\t 1.325378033695375\t 1.3300573824580888\n",
            "15 \t [-0.42371982 -0.03990124]\t 0.6629401471561489\t -0.0567138350143235\t 1.4753701454169343\t 1.4720682295032113\n",
            "16 \t [ 0.1572183  -0.13444004]\t 0.005466159632280407\t -0.0567138350143235\t 1.248688673764986\t 1.1399672716495945\n",
            "17 \t [ 0.08150114 -0.11492688]\t -0.03502441477500618\t -0.0567138350143235\t 1.3039485800574493\t 1.3423915399529596\n",
            "18 \t [-0.5728373  -0.01022251]\t 1.103663194548136\t -0.0567138350143235\t 1.4857012356276644\t 1.461129914440445\n",
            "19 \t [-0.00491067 -0.09384859]\t -0.03436261889905149\t -0.0567138350143235\t 1.2135291338653578\t 1.1666181566331368\n",
            "20 \t [-0.03914131 -0.08724883]\t -0.020679366191924245\t -0.0567138350143235\t 1.218741895602903\t 1.1179539073518727\n"
          ]
        }
      ],
      "source": [
        "### EXACT GP EI GRADIENTS\n",
        "\n",
        "np.random.seed(run_num_19)\n",
        "surrogate_gp_19 = dGaussianProcess(cov_func, optimize=opt)\n",
        "\n",
        "gp_19 = dGPGO_gp(surrogate_gp_19, Acquisition_grad(util_gp), objfunc, param)\n",
        "gp_19.run(init_evals=n_init, max_iter=iters)\n"
      ]
    },
    {
      "cell_type": "code",
      "execution_count": 32,
      "metadata": {
        "id": "Aawd59dRIUYn",
        "colab": {
          "base_uri": "https://localhost:8080/"
        },
        "outputId": "0f3bcdad-2ee5-4732-d861-585d14e5c0a9"
      },
      "outputs": [
        {
          "output_type": "stream",
          "name": "stdout",
          "text": [
            "Evaluation \t Proposed point \t  Current eval. \t  Best eval. \t        Exact EI: StdDev. x \t Approx EI: StdDev. x \n",
            "init\t [0.52878481 1.59085491]\t 17.29968374481291\t 1.5037392797834441\t    \t    \n",
            "init\t [2.34918438 1.26334991]\t 20.91583049569433\t 1.5037392797834441\t    \t    \n",
            "init\t [-2.78466249  0.76703033]\t 57.06253405225224\t 1.5037392797834441\t    \t    \n",
            "init\t [-0.72791435  0.07404378]\t 1.5037392797834441\t 1.5037392797834441\t    \t    \n",
            "init\t [ 0.94770879 -1.22459913]\t 3.9766737661914173\t 1.5037392797834441\t    \t    \n",
            "1  \t [-1.18115566 -2.        ]\t 52.76057163057528\t 1.5037392797834441\t 1.3239021933320114\t 1.4180856387988787\n",
            "2  \t [ 2.59213852 -1.65326133]\t 47.84960809826183\t 1.5037392797834441\t 1.4256178623338602\t 2.0152754644213333\n",
            "\u001b[1m\u001b[92m3\u001b[0m\t \u001b[1m\u001b[92m[ 0.22139217 -0.162917  ]\u001b[0m\t \u001b[1m\u001b[92m0.05163369461120049\u001b[0m\t \u001b[1m\u001b[92m0.05163369461120049\u001b[0m\t \u001b[1m\u001b[92m1.4281451246146106\u001b[0m\t \u001b[1m\u001b[92m1.3847694614229211\u001b[0m\n",
            "\u001b[1m\u001b[92m4\u001b[0m\t \u001b[1m\u001b[92m[-0.33967677  0.28979802]\u001b[0m\t \u001b[1m\u001b[92m0.02792003913677127\u001b[0m\t \u001b[1m\u001b[92m0.02792003913677127\u001b[0m\t \u001b[1m\u001b[92m1.5751232433854268\u001b[0m\t \u001b[1m\u001b[92m1.5431826745806823\u001b[0m\n",
            "\u001b[1m\u001b[92m5\u001b[0m\t \u001b[1m\u001b[92m[ 0.04615981 -0.02633349]\u001b[0m\t \u001b[1m\u001b[92m0.004525945620337681\u001b[0m\t \u001b[1m\u001b[92m0.004525945620337681\u001b[0m\t \u001b[1m\u001b[92m1.373437617904242\u001b[0m\t \u001b[1m\u001b[92m1.3258882164617054\u001b[0m\n",
            "\u001b[1m\u001b[92m6\u001b[0m\t \u001b[1m\u001b[92m[-0.51229094  0.50493252]\u001b[0m\t \u001b[1m\u001b[92m-0.10733364280664648\u001b[0m\t \u001b[1m\u001b[92m-0.10733364280664648\u001b[0m\t \u001b[1m\u001b[92m1.665103494184454\u001b[0m\t \u001b[1m\u001b[92m1.6526672571826362\u001b[0m\n",
            "7  \t [ 0.73759828 -0.65234338]\t 0.14930320663757457\t -0.10733364280664648\t 1.6470374884529966\t 1.6208417202304342\n",
            "8  \t [ 0.066295   -0.04776447]\t 0.005268067041442573\t -0.10733364280664648\t 1.4239696593139257\t 1.3548461827762353\n",
            "9  \t [ 0.04107459 -0.03045656]\t 0.0017845543856657886\t -0.10733364280664648\t 1.467959003678594\t 1.4551680218753429\n",
            "10 \t [ 0.48207724 -0.35527918]\t 0.2079228106405437\t -0.10733364280664648\t 1.4692746335817921\t 1.4385048164408696\n",
            "11 \t [ 0.03793112 -0.02831173]\t 0.001473192262755958\t -0.10733364280664648\t 1.486344936304549\t 1.4546584851562372\n",
            "12 \t [-0.08631549  0.05747769]\t 0.011552730140765032\t -0.10733364280664648\t 1.6372542042358986\t 1.6361756153711922\n",
            "13 \t [-0.71738867  1.10505096]\t 1.8352213207479229\t -0.10733364280664648\t 1.7405439416843176\t 1.6641659451853956\n",
            "14 \t [-0.24755388  0.17805514]\t 0.07044937176876051\t -0.10733364280664648\t 1.308634622762319\t 1.3203011205800148\n",
            "15 \t [ 0.16281427 -0.11186413]\t 0.0369234327849899\t -0.10733364280664648\t 1.2368378501102255\t 1.1729263541802024\n",
            "16 \t [ 0.12350205 -0.08525982]\t 0.02112831068983883\t -0.10733364280664648\t 1.3707186453948592\t 1.284423138369109\n",
            "17 \t [-0.09753702  0.06519211]\t 0.014577667106746614\t -0.10733364280664648\t 1.3749087607622552\t 1.3164705529341454\n",
            "18 \t [ 0.15726813 -0.10815404]\t 0.03440240524813155\t -0.10733364280664648\t 1.3760901286995368\t 1.32383313121424\n",
            "19 \t [ 0.37016845 -0.26059157]\t 0.15987851799057828\t -0.10733364280664648\t 1.4928270386283873\t 1.4863948465757384\n",
            "20 \t [ 0.23194414 -0.16008542]\t 0.07215316102056238\t -0.10733364280664648\t 1.1976167330863874\t 1.0958439445571948\n"
          ]
        }
      ],
      "source": [
        "### EXACT GP EI GRADIENTS\n",
        "\n",
        "np.random.seed(run_num_20)\n",
        "surrogate_gp_20 = dGaussianProcess(cov_func, optimize=opt)\n",
        "\n",
        "gp_20 = dGPGO_gp(surrogate_gp_20, Acquisition_grad(util_gp), objfunc, param)\n",
        "gp_20.run(init_evals=n_init, max_iter=iters)\n"
      ]
    },
    {
      "cell_type": "code",
      "execution_count": 33,
      "metadata": {
        "id": "xkgzPRbBTHaq",
        "colab": {
          "base_uri": "https://localhost:8080/"
        },
        "outputId": "98426889-8257-418b-dca9-ac3c65f5b617"
      },
      "outputs": [
        {
          "output_type": "execute_result",
          "data": {
            "text/plain": [
              "1663059832.124153"
            ]
          },
          "metadata": {},
          "execution_count": 33
        }
      ],
      "source": [
        "end_gp = time.time()\n",
        "end_gp\n",
        "\n",
        "time_gp = end_gp - start_gp\n",
        "time_gp\n",
        "\n",
        "start_stp = time.time()\n",
        "start_stp"
      ]
    },
    {
      "cell_type": "code",
      "execution_count": 34,
      "metadata": {
        "id": "7CG3Ndvb16Rb",
        "colab": {
          "base_uri": "https://localhost:8080/"
        },
        "outputId": "ec965f97-f258-4217-a64e-4f5b24a36fde"
      },
      "outputs": [
        {
          "output_type": "stream",
          "name": "stdout",
          "text": [
            "Evaluation \t Proposed point \t  Current eval. \t  Best eval. \t        Exact EI: StdDev. x \t Approx EI: StdDev. x \n",
            "init\t [-0.49786797  0.88129797]\t -0.2650082867644827\t -0.2650082867644827\t    \t    \n",
            "init\t [-2.99931375 -0.79066971]\t 110.13991869176735\t -0.2650082867644827\t    \t    \n",
            "init\t [-2.11946466 -1.63064562]\t 26.90935479429681\t -0.2650082867644827\t    \t    \n",
            "init\t [-1.88243873 -0.61775709]\t 2.8558363102363344\t -0.2650082867644827\t    \t    \n",
            "init\t [-0.61939515  0.15526694]\t 1.0540522096005847\t -0.2650082867644827\t    \t    \n",
            "1  \t [1.72565682 2.        ]\t 53.54290653592616\t -0.2650082867644827\t 1.434137932380688\t 2.0809613621168177\n",
            "2  \t [ 1.26914855 -1.50291615]\t 11.85303832920594\t -0.2650082867644827\t 1.5417921757310364\t 2.3245347167979666\n",
            "3  \t [-1.60215436  1.22842078]\t 3.172845166925801\t -0.2650082867644827\t 1.1986498464912037\t 2.1221071723040463\n",
            "4  \t [ 3.         -0.40917164]\t 107.11491909223521\t -0.2650082867644827\t 1.439228021873481\t 2.100822760946402\n",
            "5  \t [-0.40572212 -1.98934551]\t 48.22724880813665\t -0.2650082867644827\t 1.536019858313829\t 1.5557467879677698\n",
            "6  \t [-0.31571141  1.76034648]\t 25.837856457693842\t -0.2650082867644827\t 1.3139123806608115\t 1.6117113050967373\n",
            "7  \t [-2.14196503  1.60523375]\t 19.15332411148959\t -0.2650082867644827\t 1.4818127913710615\t 1.8417746785794809\n",
            "8  \t [0.02328626 0.05086692]\t -0.006970113794866357\t -0.2650082867644827\t 1.5862458280847263\t 2.0168869783717427\n",
            "9  \t [-1.06983738  0.13056773]\t 2.1202815060075815\t -0.2650082867644827\t 1.5428280880788854\t 1.9252324803232355\n",
            "10 \t [-0.95781684  0.10551955]\t 2.0144633884741547\t -0.2650082867644827\t 1.3041618226558453\t 1.9466782739713309\n",
            "11 \t [3. 2.]\t 162.89999999999998\t -0.2650082867644827\t 1.3895733069827216\t 2.184715661124767\n",
            "12 \t [ 2.17179935 -1.9208996 ]\t 42.65441649764527\t -0.2650082867644827\t 1.3834559777199202\t 2.046636113607648\n",
            "13 \t [0.84566509 1.10146037]\t 3.8746636403444628\t -0.2650082867644827\t 1.2515770557400794\t 1.6838986448683004\n",
            "14 \t [-1.41139185 -0.9409279 ]\t 3.191831366679754\t -0.2650082867644827\t 1.422588599604384\t 1.8381177791562344\n",
            "15 \t [1.22364834 0.4341035 ]\t 2.3195838909451587\t -0.2650082867644827\t 1.6221900825668882\t 2.1889574533357776\n",
            "16 \t [ 0.94217699 -0.51278906]\t 0.8707739509198991\t -0.2650082867644827\t 1.1467531319190125\t 1.6674269711637049\n",
            "17 \t [ 0.3332277 -1.0257525]\t 0.2964757647191955\t -0.2650082867644827\t 1.6611988134595286\t 1.880013850489855\n",
            "18 \t [-1.04419676  1.09790906]\t 2.140825729821025\t -0.2650082867644827\t 1.5634129179710268\t 1.9241557705563033\n",
            "19 \t [-2.35530893  0.64595668]\t 11.976393721681143\t -0.2650082867644827\t 1.4093754607042766\t 1.891048267921386\n",
            "20 \t [ 0.45882041 -0.02278612]\t 0.7395781875267036\t -0.2650082867644827\t 1.206034224906036\t 1.5564594872396091\n"
          ]
        }
      ],
      "source": [
        "### EXACT STP EI GRADIENTS\n",
        "\n",
        "np.random.seed(run_num_1)\n",
        "surrogate_stp_1 = dtStudentProcess(cov_func, optimize=opt, nu = df)\n",
        "\n",
        "stp_1 = dGPGO_stp(surrogate_stp_1, Acquisition_grad(util_stp), objfunc, param)\n",
        "stp_1.run(init_evals=n_init, max_iter=iters)\n"
      ]
    },
    {
      "cell_type": "code",
      "execution_count": 35,
      "metadata": {
        "id": "-ilCPSAu9SAg",
        "colab": {
          "base_uri": "https://localhost:8080/"
        },
        "outputId": "962a0426-dc96-41ca-c072-911066785ae6"
      },
      "outputs": [
        {
          "output_type": "stream",
          "name": "stdout",
          "text": [
            "Evaluation \t Proposed point \t  Current eval. \t  Best eval. \t        Exact EI: StdDev. x \t Approx EI: StdDev. x \n",
            "init\t [-0.38403059 -1.89629507]\t 38.61280125654363\t 0.011939608840498828\t    \t    \n",
            "init\t [ 0.29797487 -0.25871043]\t 0.011939608840498828\t 0.011939608840498828\t    \t    \n",
            "init\t [-0.47779319 -0.67866072]\t 0.1381453419305213\t 0.011939608840498828\t    \t    \n",
            "init\t [-1.7721082   0.47708387]\t 0.626144759281101\t 0.011939608840498828\t    \t    \n",
            "init\t [-1.20207196 -0.9326909 ]\t 3.0693811601417798\t 0.011939608840498828\t    \t    \n",
            "\u001b[1m\u001b[92m1\u001b[0m\t \u001b[1m\u001b[92m[-0.38456495  0.83432964]\u001b[0m\t \u001b[1m\u001b[92m-0.6203149326416677\u001b[0m\t \u001b[1m\u001b[92m-0.6203149326416677\u001b[0m\t \u001b[1m\u001b[92m1.7868238777244847\u001b[0m\t \u001b[1m\u001b[92m2.010534968046823\u001b[0m\n",
            "2  \t [1.23837802 1.89272439]\t 41.746463017358984\t -0.6203149326416677\t 1.4273539668191737\t 1.8279079046229945\n",
            "3  \t [ 3.         -1.44809183]\t 113.75697650189262\t -0.6203149326416677\t 1.8991576972440865\t 2.0997467188605907\n",
            "4  \t [-3.         -1.77640011]\t 141.43798961982034\t -0.6203149326416677\t 2.2002006367178244\t 2.446675359179597\n",
            "5  \t [-1.43496797  1.90367931]\t 37.548390398418526\t -0.6203149326416677\t 1.3521159073061437\t 1.9871849201277036\n",
            "6  \t [3. 2.]\t 162.89999999999998\t -0.6203149326416677\t 1.4351214750563552\t 1.8674559132422615\n",
            "7  \t [-2.71567378  0.53539141]\t 46.71493053876734\t -0.6203149326416677\t 1.2461515065027682\t 1.6244887521161193\n",
            "8  \t [-0.50934598  0.07290545]\t 0.8439299599309843\t -0.6203149326416677\t 1.0051283988720432\t 1.3078449090748334\n",
            "9  \t [1.40447077 0.31820161]\t 2.3604729771726256\t -0.6203149326416677\t 1.3382394081556859\t 1.5982303857977989\n",
            "10 \t [0.39938567 0.31253399]\t 0.35823315623926216\t -0.6203149326416677\t 1.0126578090063738\t 1.2512150145348053\n",
            "11 \t [-0.68918496  0.00530211]\t 1.4580911372544931\t -0.6203149326416677\t 1.0395454962966537\t 1.4927515344946358\n",
            "12 \t [0.0583512 2.       ]\t 48.13029751629367\t -0.6203149326416677\t 1.3581635886205572\t 1.6530387081756157\n",
            "13 \t [ 0.8278778  -1.24810058]\t 4.304482888015195\t -0.6203149326416677\t 1.5233850219180103\t 1.7093725055827127\n",
            "14 \t [-2.89715543  1.79049987]\t 105.83732286904238\t -0.6203149326416677\t 1.6123655369538998\t 1.9000752954617004\n",
            "15 \t [ 1.32797407 -0.3183317 ]\t 1.564258279807429\t -0.6203149326416677\t 1.4523569573939978\t 1.5452445944379882\n",
            "16 \t [-1.88579672 -0.34272851]\t 2.8899627340880496\t -0.6203149326416677\t 1.2767337291812133\t 1.5738071558094904\n",
            "17 \t [2.67756311 0.1538789 ]\t 43.891542888432596\t -0.6203149326416677\t 1.3066806202349666\t 1.5591994257122372\n",
            "18 \t [-0.89414026  0.66133308]\t 0.45037926002598405\t -0.6203149326416677\t 1.3172932324216187\t 1.5618513544374524\n",
            "19 \t [ 1.34546289 -1.47544864]\t 10.600148510493064\t -0.6203149326416677\t 1.188960506131025\t 1.4751339462215642\n",
            "20 \t [ 0.82063356 -1.89991672]\t 37.964562091325504\t -0.6203149326416677\t 1.432913786706227\t 1.425001537532006\n"
          ]
        }
      ],
      "source": [
        "### EXACT STP EI GRADIENTS\n",
        "\n",
        "np.random.seed(run_num_2)\n",
        "surrogate_stp_2 = dtStudentProcess(cov_func, optimize=opt, nu = df)\n",
        "\n",
        "stp_2 = dGPGO_stp(surrogate_stp_2, Acquisition_grad(util_stp), objfunc, param)\n",
        "stp_2.run(init_evals=n_init, max_iter=iters)\n"
      ]
    },
    {
      "cell_type": "code",
      "execution_count": 36,
      "metadata": {
        "id": "XieJ158mIvlP",
        "colab": {
          "base_uri": "https://localhost:8080/"
        },
        "outputId": "45d059f9-8f2a-4c54-a4cf-28d256ccb195"
      },
      "outputs": [
        {
          "output_type": "stream",
          "name": "stdout",
          "text": [
            "Evaluation \t Proposed point \t  Current eval. \t  Best eval. \t        Exact EI: StdDev. x \t Approx EI: StdDev. x \n",
            "init\t [0.30478742 0.83259129]\t -0.2431922946563294\t -0.2431922946563294\t    \t    \n",
            "init\t [-1.25457157  0.04331042]\t 2.3313310458730996\t -0.2431922946563294\t    \t    \n",
            "init\t [2.35768173 1.58517236]\t 33.54152175045586\t -0.2431922946563294\t    \t    \n",
            "init\t [-2.24648814 -1.17102849]\t 14.214109412296352\t -0.2431922946563294\t    \t    \n",
            "init\t [-2.69119678 -0.23676063]\t 45.87579771712209\t -0.2431922946563294\t    \t    \n",
            "1  \t [ 0.51355669 -1.12712529]\t 1.710295440543633\t -0.2431922946563294\t 1.346888153693927\t 1.5947454313575025\n",
            "2  \t [-0.30063422  1.99221261]\t 46.87906421880781\t -0.2431922946563294\t 1.396611902405937\t 1.9527258625439068\n",
            "3  \t [ 2.25342631 -0.75724173]\t 7.123047987074203\t -0.2431922946563294\t 1.5267235469105604\t 2.073645761230577\n",
            "4  \t [-0.68567183 -2.        ]\t 50.822389002481465\t -0.2431922946563294\t 1.6079967897970495\t 1.8772436763353657\n",
            "5  \t [ 0.48091391 -0.04580213]\t 0.7865076280542719\t -0.2431922946563294\t 1.4579214741645055\t 1.8130252450038156\n",
            "6  \t [ 2.97471783 -1.80377467]\t 125.89014881851493\t -0.2431922946563294\t 1.6187169158911994\t 1.8183918152397327\n",
            "7  \t [ 1.43216324 -0.02599569]\t 2.2060821196259814\t -0.2431922946563294\t 1.369148702443858\t 1.8757653495457143\n",
            "8  \t [-3. -2.]\t 162.89999999999998\t -0.2431922946563294\t 1.6185970693199931\t 1.7563255904452861\n",
            "9  \t [-0.3507043  -0.08748084]\t 0.46112924607275074\t -0.2431922946563294\t 1.4318203964526859\t 1.6753926355114874\n",
            "10 \t [ 0.70755551 -0.03042011]\t 1.4928088032028306\t -0.2431922946563294\t 1.27722690672023\t 1.6508397825460004\n",
            "11 \t [-1.77436577  1.53735661]\t 12.342431286747095\t -0.2431922946563294\t 1.532118528468186\t 2.0096580800268455\n",
            "12 \t [0.89559356 0.03464509]\t 2.055565959825856\t -0.2431922946563294\t 1.455619296979554\t 1.8055802578414841\n",
            "13 \t [-1.38221346 -1.02928413]\t 3.9759407344807003\t -0.2431922946563294\t 1.6213270856205513\t 2.1280490471964524\n",
            "14 \t [2.70157023 0.34260385]\t 47.43408141483464\t -0.2431922946563294\t 1.6896413822064615\t 2.2148517869409026\n",
            "15 \t [3. 2.]\t 162.89999999999998\t -0.2431922946563294\t 1.4050619967484093\t 1.9498604146546437\n",
            "16 \t [1.36662329 1.73433011]\t 28.845522936776938\t -0.2431922946563294\t 1.4885033739254474\t 1.7606158315914175\n",
            "17 \t [-2.62881595  1.60625472]\t 49.448037721150925\t -0.2431922946563294\t 1.0979710362324204\t 1.3073512347126295\n",
            "18 \t [ 1.29016576 -1.28507727]\t 5.022158994841739\t -0.2431922946563294\t 1.4543003780623673\t 1.6066441938125662\n",
            "19 \t [-0.73978483 -0.02760653]\t 1.6321571729965338\t -0.2431922946563294\t 1.1732684976483074\t 0.8270464553176808\n",
            "20 \t [ 1.05031913 -0.88109022]\t 0.6845120942495171\t -0.2431922946563294\t 1.0366383883241646\t 0.9199886082385242\n"
          ]
        }
      ],
      "source": [
        "### EXACT STP EI GRADIENTS\n",
        "\n",
        "np.random.seed(run_num_3)\n",
        "surrogate_stp_3 = dtStudentProcess(cov_func, optimize=opt, nu = df)\n",
        "\n",
        "stp_3 = dGPGO_stp(surrogate_stp_3, Acquisition_grad(util_stp), objfunc, param)\n",
        "stp_3.run(init_evals=n_init, max_iter=iters)\n"
      ]
    },
    {
      "cell_type": "code",
      "execution_count": 37,
      "metadata": {
        "id": "PhLBVOIfIvol",
        "colab": {
          "base_uri": "https://localhost:8080/"
        },
        "outputId": "84f8a05b-9d71-43f3-f37c-9cc5a9519c7c"
      },
      "outputs": [
        {
          "output_type": "stream",
          "name": "stdout",
          "text": [
            "Evaluation \t Proposed point \t  Current eval. \t  Best eval. \t        Exact EI: StdDev. x \t Approx EI: StdDev. x \n",
            "init\t [2.80217903 0.188929  ]\t 63.70212732873661\t 2.3196402150601703\t    \t    \n",
            "init\t [2.83610616 0.85926397]\t 71.43837110827245\t 2.3196402150601703\t    \t    \n",
            "init\t [ 1.18637295 -1.13564202]\t 2.5463267765341566\t 2.3196402150601703\t    \t    \n",
            "init\t [ 2.85764673 -1.97507898]\t 113.76785286351424\t 2.3196402150601703\t    \t    \n",
            "init\t [-1.48210583 -0.26083387]\t 2.3196402150601703\t 2.3196402150601703\t    \t    \n",
            "1  \t [-3. -2.]\t 162.89999999999998\t 2.3196402150601703\t 1.6059145396209382\t 2.1470024837926927\n",
            "2  \t [-1.95732124  1.7703434 ]\t 26.534597980825662\t 2.3196402150601703\t 1.209933441515038\t 1.7159802381494655\n",
            "\u001b[1m\u001b[92m3\u001b[0m\t \u001b[1m\u001b[92m[ 0.03332207 -0.16857736]\u001b[0m\t \u001b[1m\u001b[92m-0.1116213955880341\u001b[0m\t \u001b[1m\u001b[92m-0.1116213955880341\u001b[0m\t \u001b[1m\u001b[92m1.619819729539745\u001b[0m\t \u001b[1m\u001b[92m1.9418518961345856\u001b[0m\n",
            "4  \t [0.4726431 2.       ]\t 49.737770302246844\t -0.1116213955880341\t 1.027006881079345\t 1.800874592341724\n",
            "5  \t [-0.09171163 -1.80306188]\t 29.47156876610926\t -0.1116213955880341\t 1.4285392740069156\t 1.4549233167558615\n",
            "6  \t [-2.66730573  0.38486496]\t 40.669487487042495\t -0.1116213955880341\t 1.6047685405990815\t 1.5107656826595959\n",
            "7  \t [-0.26748717 -0.12494534]\t 0.2475198518155983\t -0.1116213955880341\t 1.2920474953029124\t 1.6102336478214707\n",
            "8  \t [ 1.36738717 -0.03096196]\t 2.270166538541977\t -0.1116213955880341\t 1.507406727559964\t 1.507454111599958\n",
            "9  \t [-0.99093562  0.7530146 ]\t 0.49031946882012634\t -0.1116213955880341\t 1.3445733796168358\t 1.77904785718031\n",
            "10 \t [3. 2.]\t 162.89999999999998\t -0.1116213955880341\t 1.2602632535324374\t 2.0410440675048305\n",
            "11 \t [0.37787183 0.79371205]\t -0.1031968784360624\t -0.1116213955880341\t 1.575344242191723\t 1.6287688603105719\n",
            "12 \t [ 0.81340579 -1.93398578]\t 41.24886525550365\t -0.1116213955880341\t 1.3536763544894872\t 1.7920796727918538\n",
            "13 \t [-1.32086166 -1.21018169]\t 6.676559277038669\t -0.1116213955880341\t 1.2518153127267289\t 1.6560881816598199\n",
            "14 \t [-1.10120048 -2.        ]\t 52.559314781065225\t -0.1116213955880341\t 1.194707410390326\t 1.7802060541646267\n",
            "15 \t [-0.87803769 -0.75947113]\t 1.6788126936299896\t -0.1116213955880341\t 1.3331234151323215\t 1.7229087789985853\n",
            "\u001b[1m\u001b[92m16\u001b[0m\t \u001b[1m\u001b[92m[-0.3345852   0.66194469]\u001b[0m\t \u001b[1m\u001b[92m-0.7842464135452991\u001b[0m\t \u001b[1m\u001b[92m-0.7842464135452991\u001b[0m\t \u001b[1m\u001b[92m1.4065182936243303\u001b[0m\t \u001b[1m\u001b[92m1.7502674025704092\u001b[0m\n",
            "17 \t [-0.85239974  2.        ]\t 48.22075786784592\t -0.7842464135452991\t 1.220440714917367\t 1.8175260288335489\n",
            "18 \t [ 0.85079654 -0.53820557]\t 0.640575478426348\t -0.7842464135452991\t 1.456483963741828\t 1.6964591404868665\n",
            "19 \t [1.71508038 1.03382234]\t 4.1467839382727165\t -0.7842464135452991\t 1.4416677753346558\t 1.7899581651029568\n",
            "20 \t [0.61135042 0.22987179]\t 1.1593909518934231\t -0.7842464135452991\t 1.0333777293535826\t 1.0842588066693184\n"
          ]
        }
      ],
      "source": [
        "### EXACT STP EI GRADIENTS\n",
        "\n",
        "np.random.seed(run_num_4)\n",
        "surrogate_stp_4 = dtStudentProcess(cov_func, optimize=opt, nu = df)\n",
        "\n",
        "stp_4 = dGPGO_stp(surrogate_stp_4, Acquisition_grad(util_stp), objfunc, param)\n",
        "stp_4.run(init_evals=n_init, max_iter=iters)\n"
      ]
    },
    {
      "cell_type": "code",
      "execution_count": 38,
      "metadata": {
        "id": "arbiPyj2IvsJ",
        "colab": {
          "base_uri": "https://localhost:8080/"
        },
        "outputId": "e8a294c5-a74b-4b7a-d19a-120f02d91d35"
      },
      "outputs": [
        {
          "output_type": "stream",
          "name": "stdout",
          "text": [
            "Evaluation \t Proposed point \t  Current eval. \t  Best eval. \t        Exact EI: StdDev. x \t Approx EI: StdDev. x \n",
            "init\t [-1.66804097  1.48292922]\t 10.126030408244933\t -0.6512780061070701\t    \t    \n",
            "init\t [-1.75968507  1.67444363]\t 19.4300499315822\t -0.6512780061070701\t    \t    \n",
            "init\t [-0.06953287  0.44697545]\t -0.6512780061070701\t -0.6512780061070701\t    \t    \n",
            "init\t [1.59544714 0.07367195]\t 2.168775388880503\t -0.6512780061070701\t    \t    \n",
            "init\t [-1.21919699 -1.24911509]\t 7.420330936884148\t -0.6512780061070701\t    \t    \n",
            "1  \t [3. 2.]\t 162.89999999999998\t -0.6512780061070701\t 1.961447640376032\t 2.2492283323172573\n",
            "2  \t [ 1.99876975 -1.97693373]\t 45.231336871053784\t -0.6512780061070701\t 1.923983800240329\t 1.9492789281190732\n",
            "3  \t [-2.47503082 -0.10856423]\t 22.545979739890676\t -0.6512780061070701\t 2.001548304857134\t 2.1326546327070615\n",
            "4  \t [-3. -2.]\t 162.89999999999998\t -0.6512780061070701\t 1.545282794067434\t 1.8589819737967228\n",
            "5  \t [0.14753586 2.        ]\t 48.38114749360768\t -0.6512780061070701\t 1.2379299098437515\t 1.6921248256881618\n",
            "6  \t [-0.03039725 -1.92902143]\t 40.56488245683931\t -0.6512780061070701\t 1.4743518440859658\t 1.682288235735635\n",
            "7  \t [ 2.99019009 -0.55861176]\t 103.62108412983811\t -0.6512780061070701\t 1.0637576135248326\t 1.3687132301654217\n",
            "8  \t [ 0.45617309 -0.27281363]\t 0.3444411399726952\t -0.6512780061070701\t 1.2947792886052145\t 1.6153823241390315\n",
            "9  \t [-1.12325354 -0.04822243]\t 2.4182176916075724\t -0.6512780061070701\t 1.4305027301720485\t 1.5436230936008737\n",
            "10 \t [-2.80935068  1.02092284]\t 61.94297266345289\t -0.6512780061070701\t 1.3295854123862205\t 1.639566612785296\n",
            "11 \t [0.97245754 0.40183108]\t 2.035751073999185\t -0.6512780061070701\t 1.0228281318615704\t 1.6368814392655409\n",
            "12 \t [-0.85558797  0.86422022]\t 0.43793139958793914\t -0.6512780061070701\t 1.438822497511918\t 1.6514598614891172\n",
            "13 \t [ 1.2797968  -0.67362236]\t 0.5290234221302891\t -0.6512780061070701\t 1.373693024038912\t 1.7300893532704376\n",
            "14 \t [-0.60753883 -0.62213284]\t 0.636078501564998\t -0.6512780061070701\t 1.200044410801268\t 1.7095504396478354\n",
            "15 \t [1.41238693 1.55954324]\t 18.404610230805638\t -0.6512780061070701\t 1.422273540247669\t 1.6456466179679123\n",
            "16 \t [-1.13464931 -2.        ]\t 52.64961355870258\t -0.6512780061070701\t 1.4122089503247357\t 1.6498385607065789\n",
            "17 \t [-1.55469324 -0.64209176]\t 2.135659970469441\t -0.6512780061070701\t 1.4502325904814983\t 1.796076157658428\n",
            "18 \t [-1.59798736  0.53148668]\t 0.41109542060554327\t -0.6512780061070701\t 1.1033530225072095\t 1.7650605813896785\n",
            "19 \t [1.72391656 0.81595302]\t 2.6060252095191645\t -0.6512780061070701\t 1.2517047275542454\t 1.7028546211911106\n",
            "20 \t [-0.48834846  0.06580554]\t 0.7896387029089079\t -0.6512780061070701\t 1.1167905218893073\t 1.134119319719793\n"
          ]
        }
      ],
      "source": [
        "### EXACT STP EI GRADIENTS\n",
        "\n",
        "np.random.seed(run_num_5)\n",
        "surrogate_stp_5 = dtStudentProcess(cov_func, optimize=opt, nu = df)\n",
        "\n",
        "stp_5 = dGPGO_stp(surrogate_stp_5, Acquisition_grad(util_stp), objfunc, param)\n",
        "stp_5.run(init_evals=n_init, max_iter=iters)\n"
      ]
    },
    {
      "cell_type": "code",
      "execution_count": 39,
      "metadata": {
        "id": "04KJCEm_Ivvf",
        "colab": {
          "base_uri": "https://localhost:8080/"
        },
        "outputId": "082e704d-4d77-4b44-e6b7-1f25b37cab7a"
      },
      "outputs": [
        {
          "output_type": "stream",
          "name": "stdout",
          "text": [
            "Evaluation \t Proposed point \t  Current eval. \t  Best eval. \t        Exact EI: StdDev. x \t Approx EI: StdDev. x \n",
            "init\t [ 2.35716091 -0.67208078]\t 11.995980169715628\t -0.3096187466378422\t    \t    \n",
            "init\t [ 1.92737474 -1.8332135 ]\t 31.167927894156623\t -0.3096187466378422\t    \t    \n",
            "init\t [-2.35405992  0.38020826]\t 13.013381745677465\t -0.3096187466378422\t    \t    \n",
            "init\t [ 0.17890417 -0.32477029]\t -0.3096187466378422\t -0.3096187466378422\t    \t    \n",
            "init\t [-0.9875529   0.49007773]\t 0.9989196280666852\t -0.3096187466378422\t    \t    \n",
            "1  \t [0.5049671 2.       ]\t 49.89888418736083\t -0.3096187466378422\t 1.948217761665057\t 1.7120893002989233\n",
            "2  \t [-1.24660285 -2.        ]\t 52.888806491966854\t -0.3096187466378422\t 1.948938286844879\t 2.2549717070206348\n",
            "3  \t [3. 2.]\t 162.89999999999998\t -0.3096187466378422\t 1.704477450590668\t 2.2820157446715315\n",
            "4  \t [-1.70805801  1.72097302]\t 22.374222241265805\t -0.3096187466378422\t 1.6559854343838538\t 2.153299865698536\n",
            "5  \t [-3. -2.]\t 162.89999999999998\t -0.3096187466378422\t 1.4264756880562002\t 1.6705902090970335\n",
            "6  \t [ 1.07611426 -0.06596719]\t 2.2452789878820907\t -0.3096187466378422\t 1.1062937295135837\t 1.5557605717846152\n",
            "7  \t [-2.93949014  1.58456008]\t 103.32816572636087\t -0.3096187466378422\t 1.433439259112353\t 1.6919601706347014\n",
            "8  \t [ 0.43982881 -1.45349417]\t 9.460833818186076\t -0.3096187466378422\t 1.1284475320554441\t 1.3226222748539165\n",
            "9  \t [-0.72675386 -0.12818096]\t 1.6044867525735187\t -0.3096187466378422\t 0.9543592633662141\t 1.2428718131576506\n",
            "\u001b[1m\u001b[92m10\u001b[0m\t \u001b[1m\u001b[92m[0.01941617 0.31792295]\u001b[0m\t \u001b[1m\u001b[92m-0.35575489114599146\u001b[0m\t \u001b[1m\u001b[92m-0.35575489114599146\u001b[0m\t \u001b[1m\u001b[92m0.8931976657681874\u001b[0m\t \u001b[1m\u001b[92m1.365320227879072\u001b[0m\n",
            "11 \t [-0.63986519  1.49365849]\t 11.338483721578001\t -0.35575489114599146\t 1.4299579812169076\t 1.812770781540195\n",
            "12 \t [-1.83430076 -0.30041342]\t 2.604340808490633\t -0.35575489114599146\t 1.462861177101066\t 1.7768520700796748\n",
            "13 \t [2.96826786 0.15473701]\t 100.57202204427742\t -0.35575489114599146\t 1.525213576352736\t 2.0236580806898807\n",
            "14 \t [-0.69086584 -1.02722486]\t 2.4096458468344037\t -0.35575489114599146\t 1.4037217786699439\t 1.6574793461675352\n",
            "15 \t [ 1.31811613 -0.78726781]\t 0.37845497264382266\t -0.35575489114599146\t 1.4490867781363919\t 1.7038101815107094\n",
            "16 \t [ 2.8738618  -1.29448475]\t 78.38972546419765\t -0.35575489114599146\t 1.4157690887316725\t 1.7664590194220229\n",
            "17 \t [-0.38405794 -1.97312679]\t 46.35919887525677\t -0.35575489114599146\t 1.5431825683873255\t 1.6045777640150418\n",
            "18 \t [ 1.76546168 -0.42636905]\t 0.8118541846181692\t -0.35575489114599146\t 1.4895352551936678\t 1.4675298927451619\n",
            "19 \t [ 0.96545614 -1.97134386]\t 45.135906422652226\t -0.35575489114599146\t 1.4668484787786042\t 1.3856794868887041\n",
            "20 \t [-1.32046461e+00  6.50769794e-04]\t 2.35616532040583\t -0.35575489114599146\t 1.2800270286913988\t 1.3275386935641849\n"
          ]
        }
      ],
      "source": [
        "### EXACT STP EI GRADIENTS\n",
        "\n",
        "np.random.seed(run_num_6)\n",
        "surrogate_stp_6 = dtStudentProcess(cov_func, optimize=opt, nu = df)\n",
        "\n",
        "stp_6 = dGPGO_stp(surrogate_stp_6, Acquisition_grad(util_stp), objfunc, param)\n",
        "stp_6.run(init_evals=n_init, max_iter=iters)\n"
      ]
    },
    {
      "cell_type": "code",
      "execution_count": 40,
      "metadata": {
        "id": "tAOkme3CIvyO",
        "colab": {
          "base_uri": "https://localhost:8080/"
        },
        "outputId": "d77a869a-622e-42b8-f3d9-d226d93bdd2c"
      },
      "outputs": [
        {
          "output_type": "stream",
          "name": "stdout",
          "text": [
            "Evaluation \t Proposed point \t  Current eval. \t  Best eval. \t        Exact EI: StdDev. x \t Approx EI: StdDev. x \n",
            "init\t [-2.54215026  1.11967517]\t 26.53843863832488\t -0.46481072558790276\t    \t    \n",
            "init\t [-0.36954461  0.89386071]\t -0.46481072558790276\t -0.46481072558790276\t    \t    \n",
            "init\t [2.86793707 0.15398348]\t 76.66051064695093\t -0.46481072558790276\t    \t    \n",
            "init\t [ 0.00672278 -1.71179547]\t 22.613010892757885\t -0.46481072558790276\t    \t    \n",
            "init\t [-1.38936612e+00 -4.69996698e-04]\t 2.294585534557751\t -0.46481072558790276\t    \t    \n",
            "1  \t [-3. -2.]\t 162.89999999999998\t -0.46481072558790276\t 1.7314281907059572\t 2.0029441788527937\n",
            "2  \t [0.77937282 2.        ]\t 51.28831959309001\t -0.46481072558790276\t 0.981344388105674\t 1.712926049389197\n",
            "3  \t [ 1.87919597 -1.98403343]\t 45.12337044436332\t -0.46481072558790276\t 1.558129605883402\t 2.0252352533503784\n",
            "4  \t [-0.4522468   0.37454932]\t 0.08129919115999285\t -0.46481072558790276\t 1.4087898233702871\t 1.489296982548402\n",
            "5  \t [-0.97779432  1.94087862]\t 41.99168144066137\t -0.46481072558790276\t 1.304567052104851\t 2.1257919816922337\n",
            "6  \t [3. 2.]\t 162.89999999999998\t -0.46481072558790276\t 1.9007160913947982\t 2.0622231861867455\n",
            "7  \t [ 0.51829184 -0.21148469]\t 0.6489184701425882\t -0.46481072558790276\t 1.25109030094067\t 1.416579997931607\n",
            "8  \t [0.74661974 0.70254965]\t 1.1596514116084298\t -0.46481072558790276\t 1.5197514545132844\t 1.9671422648139953\n",
            "9  \t [-0.62058906 -0.48144485]\t 0.8346083691834518\t -0.46481072558790276\t 1.2789718362836056\t 1.5999583841425635\n",
            "10 \t [-2.94154498  1.92471741]\t 127.73976738684357\t -0.46481072558790276\t 1.584487522265923\t 2.0518138948280544\n",
            "11 \t [-2.31564633 -0.35225896]\t 12.841688137109678\t -0.46481072558790276\t 1.4279846180200548\t 1.8718810926870282\n",
            "12 \t [-2.14897422  0.35591758]\t 5.308421728013228\t -0.46481072558790276\t 1.3410845176195683\t 1.8629969277113505\n",
            "13 \t [-1.17939325 -1.78786248]\t 32.589898791768825\t -0.46481072558790276\t 1.4628278439876419\t 1.9296671567375159\n",
            "14 \t [ 1.77966979 -0.56136043]\t 0.3312942875929016\t -0.46481072558790276\t 1.2930105898067346\t 1.5625056253795142\n",
            "15 \t [ 1.1173031  -0.96866747]\t 1.055469664955019\t -0.46481072558790276\t 1.1954650995742755\t 1.80261101969524\n",
            "16 \t [-1.21615744 -0.85883327]\t 2.671062603696017\t -0.46481072558790276\t 1.3675768982684364\t 1.5625807554294076\n",
            "17 \t [ 1.23050001 -0.11822457]\t 2.1985725313851106\t -0.46481072558790276\t 1.2292060565795442\t 1.7215983782459272\n",
            "18 \t [-2.88415998 -0.08489963]\t 80.04394931688324\t -0.46481072558790276\t 1.4342766375925895\t 1.866465891469408\n",
            "19 \t [-1.42473559  0.45816169]\t 0.9384823536837361\t -0.46481072558790276\t 1.1721599043500541\t 1.387041552909551\n",
            "20 \t [-0.02229762 -0.11408663]\t -0.046853318132794856\t -0.46481072558790276\t 1.2084032796323387\t 0.9264427298649041\n"
          ]
        }
      ],
      "source": [
        "### EXACT STP EI GRADIENTS\n",
        "\n",
        "np.random.seed(run_num_7)\n",
        "surrogate_stp_7 = dtStudentProcess(cov_func, optimize=opt, nu = df)\n",
        "\n",
        "stp_7 = dGPGO_stp(surrogate_stp_7, Acquisition_grad(util_stp), objfunc, param)\n",
        "stp_7.run(init_evals=n_init, max_iter=iters)\n"
      ]
    },
    {
      "cell_type": "code",
      "execution_count": 41,
      "metadata": {
        "id": "69-J3EF4Iv1S",
        "colab": {
          "base_uri": "https://localhost:8080/"
        },
        "outputId": "a09b96fa-5f78-4ce1-c026-4f43c4bc1082"
      },
      "outputs": [
        {
          "output_type": "stream",
          "name": "stdout",
          "text": [
            "Evaluation \t Proposed point \t  Current eval. \t  Best eval. \t        Exact EI: StdDev. x \t Approx EI: StdDev. x \n",
            "init\t [2.24057642 1.87416265]\t 48.82879577505094\t 0.03190064766213015\t    \t    \n",
            "init\t [2.21516724 0.12342277]\t 8.660623551418242\t 0.03190064766213015\t    \t    \n",
            "init\t [-1.60363003 -1.95440478]\t 48.28332373939171\t 0.03190064766213015\t    \t    \n",
            "init\t [-0.41718709 -0.39059456]\t 0.2801229037700297\t 0.03190064766213015\t    \t    \n",
            "init\t [ 0.13604803 -0.08643282]\t 0.03190064766213015\t 0.03190064766213015\t    \t    \n",
            "1  \t [-1.66005297  1.66225999]\t 18.778332222766345\t 0.03190064766213015\t 1.353727213963116\t 2.0456683383074803\n",
            "2  \t [ 1.44055706 -1.98827193]\t 46.07100132137815\t 0.03190064766213015\t 1.596653708361136\t 2.182330119377141\n",
            "\u001b[1m\u001b[92m3\u001b[0m\t \u001b[1m\u001b[92m[0.14751036 0.72863173]\u001b[0m\t \u001b[1m\u001b[92m-0.8026526192332897\u001b[0m\t \u001b[1m\u001b[92m-0.8026526192332897\u001b[0m\t \u001b[1m\u001b[92m0.9233169317142133\u001b[0m\t \u001b[1m\u001b[92m1.676361562124802\u001b[0m\n",
            "4  \t [-2.52897784  0.12610399]\t 26.50667860947816\t -0.8026526192332897\t 1.3382073438758544\t 1.9715442110008414\n",
            "5  \t [0.02037012 1.84700895]\t 32.9452625579242\t -0.8026526192332897\t 0.9274404736718385\t 1.6959003285968306\n",
            "6  \t [ 0.81994294 -0.14055694]\t 1.6486150633718126\t -0.8026526192332897\t 1.3041602182871663\t 1.8741989849040428\n",
            "7  \t [ 2.88710231 -0.58600511]\t 77.88540012550138\t -0.8026526192332897\t 1.4662857581447715\t 1.8209859609899286\n",
            "8  \t [-0.28511639  0.10115117]\t 0.2421197481394694\t -0.8026526192332897\t 1.55375028177981\t 1.803838707106418\n",
            "9  \t [1.29113671 0.54830769]\t 2.2433772382364925\t -0.8026526192332897\t 2.081944933509878\t 2.1122856024892815\n",
            "10 \t [-3. -2.]\t 162.89999999999998\t -0.8026526192332897\t 2.15520283914057\t 2.0970363771047733\n",
            "11 \t [-0.30557089 -1.85511713]\t 34.5310633901579\t -0.8026526192332897\t 1.8062219267997108\t 2.000625846146753\n",
            "12 \t [-1.3455807  -0.66852176]\t 2.2473981493921356\t -0.8026526192332897\t 1.6432223154725767\t 1.9971539880718727\n",
            "13 \t [3.        1.8505247]\t 147.66101000285153\t -0.8026526192332897\t 1.4469846581725156\t 1.710781907564516\n",
            "14 \t [-2.59376219  1.95370077]\t 71.3026987868534\t -0.8026526192332897\t 1.3856052503753407\t 1.8696285803823895\n",
            "15 \t [-1.4673528   0.68283684]\t 0.20685838593566153\t -0.8026526192332897\t 1.2399633304681743\t 1.628871151561568\n",
            "16 \t [1.31836745 1.54230892]\t 17.510218872507515\t -0.8026526192332897\t 1.3454236203205951\t 1.3522251994995051\n",
            "17 \t [-0.68979086  1.033237  ]\t 1.039585228300745\t -0.8026526192332897\t 1.3079212588629834\t 1.5490560098441755\n",
            "18 \t [-0.96590588 -1.04705332]\t 3.608418851586695\t -0.8026526192332897\t 1.3428311737381162\t 1.7391491286208325\n",
            "19 \t [-0.88672191  0.14250249]\t 1.8029154864748405\t -0.8026526192332897\t 1.030353996504624\t 0.8745697021308084\n",
            "20 \t [ 1.73636061 -0.43508788]\t 0.7368463302798259\t -0.8026526192332897\t 1.1382165719649928\t 1.7982857965024799\n"
          ]
        }
      ],
      "source": [
        "### EXACT STP EI GRADIENTS\n",
        "\n",
        "np.random.seed(run_num_8)\n",
        "surrogate_stp_8 = dtStudentProcess(cov_func, optimize=opt, nu = df)\n",
        "\n",
        "stp_8 = dGPGO_stp(surrogate_stp_8, Acquisition_grad(util_stp), objfunc, param)\n",
        "stp_8.run(init_evals=n_init, max_iter=iters)\n"
      ]
    },
    {
      "cell_type": "code",
      "execution_count": 42,
      "metadata": {
        "id": "vonm9jyuIv4t",
        "colab": {
          "base_uri": "https://localhost:8080/"
        },
        "outputId": "01b00488-75d8-4fc9-f787-c4dafe6f7409"
      },
      "outputs": [
        {
          "output_type": "stream",
          "name": "stdout",
          "text": [
            "Evaluation \t Proposed point \t  Current eval. \t  Best eval. \t        Exact EI: StdDev. x \t Approx EI: StdDev. x \n",
            "init\t [-2.93775508  0.00749837]\t 92.35857237145763\t 1.395407492769129\t    \t    \n",
            "init\t [-0.02536024 -1.46468188]\t 9.867672894921913\t 1.395407492769129\t    \t    \n",
            "init\t [-2.14733349 -1.1257653 ]\t 10.24680089963123\t 1.395407492769129\t    \t    \n",
            "init\t [-0.48895092 -1.00759533]\t 1.395407492769129\t 1.395407492769129\t    \t    \n",
            "init\t [-2.49564209 -0.61800544]\t 24.58298635463645\t 1.395407492769129\t    \t    \n",
            "1  \t [3. 2.]\t 162.89999999999998\t 1.395407492769129\t 1.4936301182816052\t 1.4064130493067746\n",
            "2  \t [-0.42447343  1.93696449]\t 41.12992716442278\t 1.395407492769129\t 1.596793955767884\t 1.9153480839656625\n",
            "3  \t [ 2.31498963 -1.67906603]\t 29.058549318696002\t 1.395407492769129\t 1.4601080570791707\t 2.4757177032244013\n",
            "4  \t [0.78697322 0.28962011]\t 1.6715508608297975\t 1.395407492769129\t 1.6272146488148203\t 1.7593059141188856\n",
            "5  \t [-1.82744088 -2.        ]\t 54.00750485483481\t 1.395407492769129\t 1.6020492823465533\t 1.4848701021628294\n",
            "\u001b[1m\u001b[92m6\u001b[0m\t \u001b[1m\u001b[92m[-0.34557433 -0.03499033]\u001b[0m\t \u001b[1m\u001b[92m0.4555054369177626\u001b[0m\t \u001b[1m\u001b[92m0.4555054369177626\u001b[0m\t \u001b[1m\u001b[92m1.0465009676608739\u001b[0m\t \u001b[1m\u001b[92m1.4993676171620673\u001b[0m\n",
            "7  \t [ 0.8910068  -0.53844871]\t 0.7155624596306207\t 0.4555054369177626\t 1.1420608254769606\t 1.6559497748948215\n",
            "8  \t [ 0.62871444 -2.        ]\t 48.01616555163378\t 0.4555054369177626\t 1.0696899699205569\t 1.61963357131144\n",
            "9  \t [ 2.76413191 -0.11731716]\t 56.26605661240446\t 0.4555054369177626\t 1.918679374594729\t 2.1242994473904497\n",
            "\u001b[1m\u001b[92m10\u001b[0m\t \u001b[1m\u001b[92m[ 0.01189927 -0.12449704]\u001b[0m\t \u001b[1m\u001b[92m-0.06195221085348817\u001b[0m\t \u001b[1m\u001b[92m-0.06195221085348817\u001b[0m\t \u001b[1m\u001b[92m0.9614295500559957\u001b[0m\t \u001b[1m\u001b[92m1.4486280100650777\u001b[0m\n",
            "11 \t [-1.97806541  1.88619075]\t 36.135843668932885\t -0.06195221085348817\t 1.8265704251980528\t 2.1973099931067344\n",
            "12 \t [-3. -2.]\t 162.89999999999998\t -0.06195221085348817\t 2.0561657259783046\t 2.1324571635686618\n",
            "13 \t [-1.49588012 -0.78522246]\t 2.3993869618493613\t -0.06195221085348817\t 1.3551701748999352\t 1.7217270192509082\n",
            "14 \t [1.07162853 2.        ]\t 52.47216885615525\t -0.06195221085348817\t 1.2017452351237068\t 2.0515182333967785\n",
            "15 \t [-0.82896287  0.89308429]\t 0.4791588961413251\t -0.06195221085348817\t 1.2246087784985986\t 1.6882156618146813\n",
            "16 \t [-0.89387714 -1.75881725]\t 29.501258199446738\t -0.06195221085348817\t 1.2796594722333439\t 1.6159240782431281\n",
            "17 \t [-1.38265879  0.41442941]\t 1.158933745271882\t -0.06195221085348817\t 1.2788221593173295\t 1.838491580122987\n",
            "18 \t [1.65943274 0.31683921]\t 2.2156324159344356\t -0.06195221085348817\t 1.078991386243798\t 1.6398504933307319\n",
            "19 \t [-0.92880347  0.11863362]\t 1.9361763582538274\t -0.06195221085348817\t 1.1842167603079552\t 1.2010760964621077\n",
            "\u001b[1m\u001b[92m20\u001b[0m\t \u001b[1m\u001b[92m[ 0.0173738 -0.7931555]\u001b[0m\t \u001b[1m\u001b[92m-0.9459101666741925\u001b[0m\t \u001b[1m\u001b[92m-0.9459101666741925\u001b[0m\t \u001b[1m\u001b[92m1.2958318032171217\u001b[0m\t \u001b[1m\u001b[92m1.8637518904651351\u001b[0m\n"
          ]
        }
      ],
      "source": [
        "### EXACT STP EI GRADIENTS\n",
        "\n",
        "np.random.seed(run_num_9)\n",
        "surrogate_stp_9 = dtStudentProcess(cov_func, optimize=opt, nu = df)\n",
        "\n",
        "stp_9 = dGPGO_stp(surrogate_stp_9, Acquisition_grad(util_stp), objfunc, param)\n",
        "stp_9.run(init_evals=n_init, max_iter=iters)\n"
      ]
    },
    {
      "cell_type": "code",
      "execution_count": 43,
      "metadata": {
        "id": "6amuYlUdIv7r",
        "colab": {
          "base_uri": "https://localhost:8080/"
        },
        "outputId": "f90572bb-0483-49d5-bfe4-66c2ef255792"
      },
      "outputs": [
        {
          "output_type": "stream",
          "name": "stdout",
          "text": [
            "Evaluation \t Proposed point \t  Current eval. \t  Best eval. \t        Exact EI: StdDev. x \t Approx EI: StdDev. x \n",
            "init\t [ 1.62792386 -1.9169922 ]\t 38.25414770674631\t 0.7775687473184012\t    \t    \n",
            "init\t [0.80188941 0.99521553]\t 2.552651714051803\t 0.7775687473184012\t    \t    \n",
            "init\t [-0.00895793 -1.10081342]\t 1.0367630165263393\t 0.7775687473184012\t    \t    \n",
            "init\t [-1.81162281  1.04212285]\t 0.7775687473184012\t 0.7775687473184012\t    \t    \n",
            "init\t [-1.98533498 -1.64664074]\t 25.383481436170044\t 0.7775687473184012\t    \t    \n",
            "1  \t [3.         1.93535021]\t 155.84121972695567\t 0.7775687473184012\t 1.433276481033487\t 1.8987240463192738\n",
            "2  \t [-0.24407823  1.8043193 ]\t 29.163141953066063\t 0.7775687473184012\t 1.096952087699425\t 1.9574488384711881\n",
            "3  \t [-3.          0.34075951]\t 107.46718597182844\t 0.7775687473184012\t 1.4773786200827024\t 1.8139460622382082\n",
            "4  \t [ 2.8681837  -0.36662059]\t 74.84708310917392\t 0.7775687473184012\t 1.385320857711519\t 1.9326611759744747\n",
            "\u001b[1m\u001b[92m5\u001b[0m\t \u001b[1m\u001b[92m[-0.47732049  0.09790786]\u001b[0m\t \u001b[1m\u001b[92m0.7215636507102541\u001b[0m\t \u001b[1m\u001b[92m0.7215636507102541\u001b[0m\t \u001b[1m\u001b[92m1.1673262424443105\u001b[0m\t \u001b[1m\u001b[92m1.6148271802580176\u001b[0m\n",
            "6  \t [-0.54798149 -2.        ]\t 50.11676572216176\t 0.7215636507102541\t 1.2767513757322795\t 1.7555173479629798\n",
            "\u001b[1m\u001b[92m7\u001b[0m\t \u001b[1m\u001b[92m[ 0.45211679 -0.0402453 ]\u001b[0m\t \u001b[1m\u001b[92m0.7080766295933905\u001b[0m\t \u001b[1m\u001b[92m0.7080766295933905\u001b[0m\t \u001b[1m\u001b[92m1.1497225187981437\u001b[0m\t \u001b[1m\u001b[92m1.4967366712142014\u001b[0m\n",
            "8  \t [-3. -2.]\t 162.89999999999998\t 0.7080766295933905\t 1.2258810182778854\t 1.515718296200656\n",
            "9  \t [-0.82291737 -0.03970421]\t 1.8756278303503904\t 0.7080766295933905\t 1.163074358349973\t 1.34874846481041\n",
            "10 \t [0.66257069 0.09547953]\t 1.4066162350708864\t 0.7080766295933905\t 1.1360165299431246\t 1.3687819568791253\n",
            "11 \t [-1.60356237  1.87705691]\t 34.62006638724295\t 0.7080766295933905\t 1.0134822050386425\t 1.1544691643042353\n",
            "12 \t [-1.33788792 -1.04981352]\t 4.197858229231535\t 0.7080766295933905\t 1.5148425352602641\t 1.8906587352599025\n",
            "\u001b[1m\u001b[92m13\u001b[0m\t \u001b[1m\u001b[92m[ 0.76516669 -0.86399086]\u001b[0m\t \u001b[1m\u001b[92m0.2708790111427354\u001b[0m\t \u001b[1m\u001b[92m0.2708790111427354\u001b[0m\t \u001b[1m\u001b[92m1.4161284316929255\u001b[0m\t \u001b[1m\u001b[92m1.9269305277755164\u001b[0m\n",
            "14 \t [-1.10098557  0.79022718]\t 0.5486664561786603\t 0.2708790111427354\t 1.3293592783085841\t 1.9490365205691154\n",
            "15 \t [1.20779806 2.        ]\t 52.81661430770384\t 0.2708790111427354\t 1.42251965670527\t 1.887858572278234\n",
            "16 \t [2.06004518 0.60697073]\t 4.950845973616544\t 0.2708790111427354\t 1.4736913678860508\t 1.7379183071775017\n",
            "17 \t [1.50691932 0.51133974]\t 2.1557678398424205\t 0.2708790111427354\t 1.545032545754513\t 2.093905241162015\n",
            "18 \t [ 0.63612328 -1.75686422]\t 25.940669773020602\t 0.2708790111427354\t 1.35855748806306\t 2.083574096230058\n",
            "\u001b[1m\u001b[92m19\u001b[0m\t \u001b[1m\u001b[92m[0.19160971 0.73882074]\u001b[0m\t \u001b[1m\u001b[92m-0.7059807026872787\u001b[0m\t \u001b[1m\u001b[92m-0.7059807026872787\u001b[0m\t \u001b[1m\u001b[92m1.327915128474955\u001b[0m\t \u001b[1m\u001b[92m1.7759483236174187\u001b[0m\n",
            "20 \t [ 0.90721499 -0.01787432]\t 2.037977272282956\t -0.7059807026872787\t 1.1604852394458165\t 1.2432277718919424\n"
          ]
        }
      ],
      "source": [
        "### EXACT STP EI GRADIENTS\n",
        "\n",
        "np.random.seed(run_num_10)\n",
        "surrogate_stp_10 = dtStudentProcess(cov_func, optimize=opt, nu = df)\n",
        "\n",
        "stp_10 = dGPGO_stp(surrogate_stp_10, Acquisition_grad(util_stp), objfunc, param)\n",
        "stp_10.run(init_evals=n_init, max_iter=iters)\n"
      ]
    },
    {
      "cell_type": "code",
      "execution_count": 44,
      "metadata": {
        "id": "VwbLIP9cIv-F",
        "colab": {
          "base_uri": "https://localhost:8080/"
        },
        "outputId": "6f3201e2-e7fb-44d0-dc79-619e2736e29c"
      },
      "outputs": [
        {
          "output_type": "stream",
          "name": "stdout",
          "text": [
            "Evaluation \t Proposed point \t  Current eval. \t  Best eval. \t        Exact EI: StdDev. x \t Approx EI: StdDev. x \n",
            "init\t [-1.91838187 -1.92209903]\t 46.39910375151002\t -0.6254688257880329\t    \t    \n",
            "init\t [-0.22068884  0.89973572]\t -0.6254688257880329\t -0.6254688257880329\t    \t    \n",
            "init\t [-0.47877837 -0.05829161]\t 0.8249470187639529\t -0.6254688257880329\t    \t    \n",
            "init\t [-2.92331511 -0.05051357]\t 88.99028404075307\t -0.6254688257880329\t    \t    \n",
            "init\t [2.65083991 1.40318036]\t 51.423425402262914\t -0.6254688257880329\t    \t    \n",
            "1  \t [ 1.77861452 -1.74525428]\t 24.013441075396727\t -0.6254688257880329\t 1.10107047727253\t 2.163895216707745\n",
            "2  \t [0.45680415 1.7651231 ]\t 27.91928344083832\t -0.6254688257880329\t 0.6821626465601874\t 1.663926348637913\n",
            "3  \t [ 0.45701216 -0.36865878]\t 0.10863673381118483\t -0.6254688257880329\t 1.4324136246801817\t 2.013957376647369\n",
            "4  \t [ 0.21513201 -1.47830049]\t 10.224552080551451\t -0.6254688257880329\t 1.343682630678952\t 1.789722724739355\n",
            "5  \t [-1.10366755  1.37388284]\t 7.543855712296749\t -0.6254688257880329\t 1.2857500728428695\t 1.3820235368612444\n",
            "6  \t [0.55767639 0.00490062]\t 1.0535577783136942\t -0.6254688257880329\t 1.1832040386195362\t 1.5427064205996648\n",
            "7  \t [ 2.86680778 -0.51410308]\t 73.81981862403502\t -0.6254688257880329\t 1.508239135867412\t 2.079006928145068\n",
            "8  \t [-2.04878527  1.79275865]\t 29.23194677573562\t -0.6254688257880329\t 1.823038940684768\t 2.0593967232080588\n",
            "9  \t [-0.28317953  2.        ]\t 47.741071280994916\t -0.6254688257880329\t 1.4964480341625406\t 1.847217475501387\n",
            "10 \t [-0.959885    0.70224425]\t 0.48958949179795697\t -0.6254688257880329\t 1.3950607039372203\t 1.8682331297562322\n",
            "11 \t [-3. -2.]\t 162.8999999999998\t -0.6254688257880329\t 1.8682941533200335\t 1.8917490416850844\n",
            "12 \t [-1.053306   -1.17589944]\t 5.663653130918377\t -0.6254688257880329\t 1.6742971657784933\t 2.1747297964497116\n",
            "13 \t [1.44587031 1.03480777]\t 4.029450200083554\t -0.6254688257880329\t 1.3763980105083098\t 1.9890637129052866\n",
            "14 \t [1.62748002 2.        ]\t 53.31106001597129\t -0.6254688257880329\t 1.3036101390564623\t 1.9233410735065577\n",
            "15 \t [-1.00937586 -1.97115199]\t 49.0824708283377\t -0.6254688257880329\t 1.5931744011319375\t 1.6444749987843486\n",
            "16 \t [ 0.8966181 -2.       ]\t 48.238433211239936\t -0.6254688257880329\t 1.6657309206004924\t 1.6994344826952443\n",
            "17 \t [0.76046187 0.85047447]\t 1.5215836982930981\t -0.6254688257880329\t 1.499234639026471\t 1.7044854442620143\n",
            "18 \t [1.48996817 0.09008851]\t 2.2794026979795152\t -0.6254688257880329\t 1.5949651168927055\t 1.9744057635493768\n",
            "19 \t [-0.07977466 -0.08575491]\t 0.0030127890193003617\t -0.6254688257880329\t 1.4487111906120729\t 1.4284450918457594\n",
            "20 \t [ 2.72867161 -1.65351429]\t 65.4063842386457\t -0.6254688257880329\t 1.7702064323151412\t 1.930590604258393\n"
          ]
        }
      ],
      "source": [
        "### EXACT STP EI GRADIENTS\n",
        "\n",
        "np.random.seed(run_num_11)\n",
        "surrogate_stp_11 = dtStudentProcess(cov_func, optimize=opt, nu = df)\n",
        "\n",
        "stp_11 = dGPGO_stp(surrogate_stp_11, Acquisition_grad(util_stp), objfunc, param)\n",
        "stp_11.run(init_evals=n_init, max_iter=iters)\n"
      ]
    },
    {
      "cell_type": "code",
      "execution_count": 45,
      "metadata": {
        "id": "MlUNFjc-JTBY",
        "colab": {
          "base_uri": "https://localhost:8080/"
        },
        "outputId": "c47c5234-17d5-48ae-c33b-6abda681efd5"
      },
      "outputs": [
        {
          "output_type": "stream",
          "name": "stdout",
          "text": [
            "Evaluation \t Proposed point \t  Current eval. \t  Best eval. \t        Exact EI: StdDev. x \t Approx EI: StdDev. x \n",
            "init\t [-2.07502295  0.96019879]\t 2.6185857163917037\t 1.9967735906956543\t    \t    \n",
            "init\t [-1.42010991  0.13495757]\t 1.9967735906956543\t 1.9967735906956543\t    \t    \n",
            "init\t [-2.91255023  1.67498803]\t 101.67816714332157\t 1.9967735906956543\t    \t    \n",
            "init\t [ 2.40428912 -1.86631429]\t 47.44624883788006\t 1.9967735906956543\t    \t    \n",
            "init\t [ 2.74169602 -1.45116271]\t 58.32400185681089\t 1.9967735906956543\t    \t    \n",
            "1  \t [-0.38079302  1.46219043]\t 9.712270211606386\t 1.9967735906956543\t 2.033635102457796\t 1.9495225362901039\n",
            "2  \t [3. 2.]\t 162.89999999999998\t 1.9967735906956543\t 2.166093222016209\t 2.138608462967428\n",
            "3  \t [-3. -2.]\t 162.89999999999998\t 1.9967735906956543\t 1.9068839548815657\t 1.5000838347580014\n",
            "4  \t [-0.0330239 -2.       ]\t 48.07040760997795\t 1.9967735906956543\t 1.1541643192151836\t 1.1411508195904987\n",
            "\u001b[1m\u001b[92m5\u001b[0m\t \u001b[1m\u001b[92m[0.59110155 0.24203734]\u001b[0m\t \u001b[1m\u001b[92m1.0779200995566014\u001b[0m\t \u001b[1m\u001b[92m1.0779200995566014\u001b[0m\t \u001b[1m\u001b[92m0.8005230774438593\u001b[0m\t \u001b[1m\u001b[92m0.6009911911357021\u001b[0m\n",
            "6  \t [0.53372001 1.98993604]\t 48.92092245483155\t 1.0779200995566014\t 1.1882781884530238\t 1.0626712353117442\n",
            "7  \t [-0.62218497  0.13835625]\t 1.0919061337649754\t 1.0779200995566014\t 1.1797099061009189\t 0.9239457843421915\n",
            "8  \t [-1.31045838  1.70120437]\t 22.06165452701821\t 1.0779200995566014\t 1.4375906667742584\t 1.3819954945269428\n",
            "\u001b[1m\u001b[92m9\u001b[0m\t \u001b[1m\u001b[92m[ 1.08440747 -0.79300664]\u001b[0m\t \u001b[1m\u001b[92m0.5483269581255809\u001b[0m\t \u001b[1m\u001b[92m0.5483269581255809\u001b[0m\t \u001b[1m\u001b[92m1.1478414279566167\u001b[0m\t \u001b[1m\u001b[92m1.4262150339206254\u001b[0m\n",
            "10 \t [-2.65329981 -0.02892962]\t 40.45860617336203\t 0.5483269581255809\t 1.3989997946204713\t 1.6484016635935421\n",
            "11 \t [-1.12383084  0.7116422 ]\t 0.5741101854909141\t 0.5483269581255809\t 1.2847104169777728\t 1.3035971949090044\n",
            "12 \t [2.20461774 0.19702671]\t 8.390156586173864\t 0.5483269581255809\t 1.3115412706372973\t 1.199616234071799\n",
            "\u001b[1m\u001b[92m13\u001b[0m\t \u001b[1m\u001b[92m[ 0.07272209 -0.64632806]\u001b[0m\t \u001b[1m\u001b[92m-0.9988401434142266\u001b[0m\t \u001b[1m\u001b[92m-0.9988401434142266\u001b[0m\t \u001b[1m\u001b[92m1.335885500864031\u001b[0m\t \u001b[1m\u001b[92m1.5596388996150121\u001b[0m\n",
            "14 \t [ 1.52161023 -0.19019621]\t 1.7121860298267197\t -0.9988401434142266\t 1.4487965835944898\t 1.569870366946209\n",
            "15 \t [ 1.15787399 -1.9834551 ]\t 46.26680638512337\t -0.9988401434142266\t 1.5038796053356114\t 1.624390252068841\n",
            "16 \t [-1.17050777 -1.1892989 ]\t 6.132464656902977\t -0.9988401434142266\t 1.2362142867487147\t 1.4959826301180696\n",
            "17 \t [1.51397243 0.88100977]\t 2.7885194354216614\t -0.9988401434142266\t 1.2432053896921254\t 1.6789036351599442\n",
            "18 \t [0.6912841  0.17121005]\t 1.4728484462379807\t -0.9988401434142266\t 1.2167974035368754\t 1.0697061798427305\n",
            "19 \t [-0.72196913  0.05372835]\t 1.5113090134048612\t -0.9988401434142266\t 0.9874962512685932\t 0.6821668617124735\n",
            "20 \t [-0.79687003 -0.67119395]\t 1.3232348219051357\t -0.9988401434142266\t 1.3221789167091311\t 1.3863246753650382\n"
          ]
        }
      ],
      "source": [
        "### EXACT STP EI GRADIENTS\n",
        "\n",
        "np.random.seed(run_num_12)\n",
        "surrogate_stp_12 = dtStudentProcess(cov_func, optimize=opt, nu = df)\n",
        "\n",
        "stp_12 = dGPGO_stp(surrogate_stp_12, Acquisition_grad(util_stp), objfunc, param)\n",
        "stp_12.run(init_evals=n_init, max_iter=iters)\n"
      ]
    },
    {
      "cell_type": "code",
      "execution_count": 46,
      "metadata": {
        "id": "9BsKdU9eJTFL",
        "colab": {
          "base_uri": "https://localhost:8080/"
        },
        "outputId": "98a82c60-801f-4823-b01c-02810cfa70e9"
      },
      "outputs": [
        {
          "output_type": "stream",
          "name": "stdout",
          "text": [
            "Evaluation \t Proposed point \t  Current eval. \t  Best eval. \t        Exact EI: StdDev. x \t Approx EI: StdDev. x \n",
            "init\t [ 1.66621446 -1.04983512]\t 0.752930921147986\t 0.752930921147986\t    \t    \n",
            "init\t [1.9456712  1.86299679]\t 41.05776363102951\t 0.752930921147986\t    \t    \n",
            "init\t [ 2.83560668 -0.18620301]\t 69.0134544723513\t 0.752930921147986\t    \t    \n",
            "init\t [0.65425478 1.10210606]\t 3.117452174069064\t 0.752930921147986\t    \t    \n",
            "init\t [0.84968007 0.88807292]\t 2.006601529383926\t 0.752930921147986\t    \t    \n",
            "1  \t [ 0.23587915 -1.47477622]\t 10.090273025412356\t 0.752930921147986\t 1.6281845977038312\t 0.6628193871729265\n",
            "\u001b[1m\u001b[92m2\u001b[0m\t \u001b[1m\u001b[92m[-1.47360489  0.67541883]\u001b[0m\t \u001b[1m\u001b[92m0.2091788113751344\u001b[0m\t \u001b[1m\u001b[92m0.2091788113751344\u001b[0m\t \u001b[1m\u001b[92m2.0942742275410615\u001b[0m\t \u001b[1m\u001b[92m1.6202267251173132\u001b[0m\n",
            "3  \t [-3. -2.]\t 162.89999999999998\t 0.2091788113751344\t 2.051008903645183\t 1.91022286308788\n",
            "4  \t [-0.83161724  2.        ]\t 48.20895978458556\t 0.2091788113751344\t 1.518744013854799\t 2.0279199460016395\n",
            "\u001b[1m\u001b[92m5\u001b[0m\t \u001b[1m\u001b[92m[-0.17068708 -0.00925109]\u001b[0m\t \u001b[1m\u001b[92m0.11599882883335777\u001b[0m\t \u001b[1m\u001b[92m0.11599882883335777\u001b[0m\t \u001b[1m\u001b[92m1.8299520075711109\u001b[0m\t \u001b[1m\u001b[92m2.159254356507096\u001b[0m\n",
            "6  \t [-2.63823727  0.5919663 ]\t 36.03176430078794\t 0.11599882883335777\t 1.64416059588742\t 1.5185322374665593\n",
            "7  \t [ 0.52707804 -0.30342734]\t 0.4620197021535548\t 0.11599882883335777\t 1.675942757715851\t 1.8991274455072777\n",
            "8  \t [-1.20963193 -0.59729715]\t 2.205586843322375\t 0.11599882883335777\t 1.49544116648059\t 1.912128687903035\n",
            "9  \t [ 1.21597094 -1.75620743]\t 25.9789879385469\t 0.11599882883335777\t 1.8089537744668227\t 2.1481795376597397\n",
            "10 \t [-0.53848857  0.00518057]\t 0.9885364768895852\t 0.11599882883335777\t 1.5197840713866995\t 1.754940675725308\n",
            "11 \t [ 2.69659614 -1.57666994]\t 56.73540221539666\t 0.11599882883335777\t 1.540048267014425\t 2.1784433473662737\n",
            "12 \t [-0.72497427 -0.55279923]\t 1.1225891127492542\t 0.11599882883335777\t 1.584534644277608\t 1.4787190893681283\n",
            "13 \t [-0.89681598 -1.671821  ]\t 23.59926880361908\t 0.11599882883335777\t 1.8193868163104192\t 1.8768678102987888\n",
            "14 \t [3. 2.]\t 162.89999999999998\t 0.11599882883335777\t 1.1871029563833955\t 1.913064474164015\n",
            "15 \t [-2.56341616  1.79739172]\t 54.40403487591364\t 0.11599882883335777\t 1.5549908446156453\t 1.8722595826420692\n",
            "16 \t [1.10003579 2.        ]\t 52.556011991383556\t 0.11599882883335777\t 1.3062574903656867\t 1.5764482379923686\n",
            "17 \t [ 1.43124116 -0.11218626]\t 2.036814302099442\t 0.11599882883335777\t 1.5900931393630806\t 1.7424760369441197\n",
            "\u001b[1m\u001b[92m18\u001b[0m\t \u001b[1m\u001b[92m[-0.15773283  0.81579393]\u001b[0m\t \u001b[1m\u001b[92m-0.9208665219197336\u001b[0m\t \u001b[1m\u001b[92m-0.9208665219197336\u001b[0m\t \u001b[1m\u001b[92m1.2066606198673386\u001b[0m\t \u001b[1m\u001b[92m1.2046866945224113\u001b[0m\n",
            "19 \t [ 0.75408279 -0.26593402]\t 1.1933996886445404\t -0.9208665219197336\t 1.1384382829414406\t 1.2175112312020016\n",
            "20 \t [0.08967044 0.06900332]\t 0.019259963508323364\t -0.9208665219197336\t 1.143952709097486\t 1.2801003349616875\n"
          ]
        }
      ],
      "source": [
        "### EXACT STP EI GRADIENTS\n",
        "\n",
        "np.random.seed(run_num_13)\n",
        "surrogate_stp_13 = dtStudentProcess(cov_func, optimize=opt, nu = df)\n",
        "\n",
        "stp_13 = dGPGO_stp(surrogate_stp_13, Acquisition_grad(util_stp), objfunc, param)\n",
        "stp_13.run(init_evals=n_init, max_iter=iters)\n"
      ]
    },
    {
      "cell_type": "code",
      "execution_count": 47,
      "metadata": {
        "id": "k6GjFBr1JTJf",
        "colab": {
          "base_uri": "https://localhost:8080/"
        },
        "outputId": "5fa0dddd-34a8-4c67-ef19-a48294b9817b"
      },
      "outputs": [
        {
          "output_type": "stream",
          "name": "stdout",
          "text": [
            "Evaluation \t Proposed point \t  Current eval. \t  Best eval. \t        Exact EI: StdDev. x \t Approx EI: StdDev. x \n",
            "init\t [0.08366006 1.09266021]\t 1.0453292732107575\t -1.029299726828387\t    \t    \n",
            "init\t [ 2.22256611 -1.96781221]\t 48.81113313056442\t -1.029299726828387\t    \t    \n",
            "init\t [-1.14158445  1.83041496]\t 31.794043287944216\t -1.029299726828387\t    \t    \n",
            "init\t [ 0.07870027 -0.7268623 ]\t -1.029299726828387\t -1.029299726828387\t    \t    \n",
            "init\t [ 0.23519962 -1.11498023]\t 1.161934062902255\t -1.029299726828387\t    \t    \n",
            "1  \t [2.13633803 2.        ]\t 58.474655228320884\t -1.029299726828387\t 2.074095546775086\t 1.7956208163224197\n",
            "2  \t [-1.70819975 -1.78918524]\t 33.31491597310788\t -1.029299726828387\t 1.7667169120623019\t 1.4631122982779006\n",
            "3  \t [-2.62038556  0.28589381]\t 35.318125044471785\t -1.029299726828387\t 1.2787316124930084\t 1.557273101284742\n",
            "4  \t [0.6180226  0.06422126]\t 1.2632791619555415\t -1.029299726828387\t 1.3752661919593088\t 1.6054347433689664\n",
            "5  \t [-0.19108994  0.05099186]\t 0.12315995192178304\t -1.029299726828387\t 1.1276396135839577\t 1.3619326159717713\n",
            "6  \t [ 2.98469085 -0.01061268]\t 104.60104920671759\t -1.029299726828387\t 1.022140867046554\t 1.6375931714054002\n",
            "7  \t [-3. -2.]\t 162.89999999999998\t -1.029299726828387\t 1.3652540786756058\t 2.1051603120989055\n",
            "8  \t [-0.66512549 -1.94458781]\t 44.75174589511355\t -1.029299726828387\t 1.7671416341710577\t 1.9465550300125176\n",
            "9  \t [-2.78759204  1.7019334 ]\t 77.91400476455041\t -1.029299726828387\t 1.4625680564044359\t 1.5680365348090204\n",
            "10 \t [-1.34959722 -0.64326553]\t 2.230891324893611\t -1.029299726828387\t 1.774465871156741\t 1.731329415713772\n",
            "11 \t [-0.17440728 -0.14436058]\t 0.06329280188114628\t -1.029299726828387\t 1.395496491533793\t 1.33641670923705\n",
            "12 \t [ 0.92598486 -0.86335213]\t 0.537361188728809\t -1.029299726828387\t 1.4926891459984724\t 1.8262906777550265\n",
            "13 \t [-1.3315274   0.82233871]\t 0.3777022429664175\t -1.029299726828387\t 1.5353891886409297\t 1.6302033099362094\n",
            "14 \t [0.90388532 1.89292098]\t 40.78229876531316\t -1.029299726828387\t 1.4616370284776798\t 1.663765080947041\n",
            "15 \t [3. 2.]\t 162.89999999999998\t -1.029299726828387\t 1.5984255018190117\t 1.7198772127451383\n",
            "16 \t [ 0.96508899 -1.98548504]\t 46.65060575372383\t -1.029299726828387\t 1.3914312625271916\t 1.5995234160676473\n",
            "17 \t [1.37856523 0.99718724]\t 3.6575131546763857\t -1.029299726828387\t 1.4424739577420056\t 1.6825015792731952\n",
            "18 \t [-0.7383317   0.05252441]\t 1.5606902359238508\t -1.029299726828387\t 0.9011081830425197\t 0.9196270250292141\n",
            "19 \t [0.79392502 0.09605421]\t 1.8101084682628157\t -1.029299726828387\t 1.0137537871422955\t 1.0650175548569356\n",
            "20 \t [0.31210719 0.03553876]\t 0.3760713233073387\t -1.029299726828387\t 1.0488697588232592\t 1.3296591728304346\n"
          ]
        }
      ],
      "source": [
        "### EXACT STP EI GRADIENTS\n",
        "\n",
        "np.random.seed(run_num_14)\n",
        "surrogate_stp_14 = dtStudentProcess(cov_func, optimize=opt, nu = df)\n",
        "\n",
        "stp_14 = dGPGO_stp(surrogate_stp_14, Acquisition_grad(util_stp), objfunc, param)\n",
        "stp_14.run(init_evals=n_init, max_iter=iters)\n"
      ]
    },
    {
      "cell_type": "code",
      "execution_count": 48,
      "metadata": {
        "id": "dPS8WB3aJTN6",
        "colab": {
          "base_uri": "https://localhost:8080/"
        },
        "outputId": "e976bad6-e669-4046-fd13-431e5f879a96"
      },
      "outputs": [
        {
          "output_type": "stream",
          "name": "stdout",
          "text": [
            "Evaluation \t Proposed point \t  Current eval. \t  Best eval. \t        Exact EI: StdDev. x \t Approx EI: StdDev. x \n",
            "init\t [ 2.09290618 -1.2844163 ]\t 6.84252100896936\t 2.1163170846379233\t    \t    \n",
            "init\t [-2.67382071 -0.55384622]\t 43.69785230561242\t 2.1163170846379233\t    \t    \n",
            "init\t [-1.34759443  0.1200009 ]\t 2.1163170846379233\t 2.1163170846379233\t    \t    \n",
            "init\t [-1.16448651 -0.78210256]\t 2.3544087277459513\t 2.1163170846379233\t    \t    \n",
            "init\t [-2.32955234 -1.00040394]\t 15.469119251600274\t 2.1163170846379233\t    \t    \n",
            "\u001b[1m\u001b[92m1\u001b[0m\t \u001b[1m\u001b[92m[0.06134716 0.497386  ]\u001b[0m\t \u001b[1m\u001b[92m-0.6992210784880215\u001b[0m\t \u001b[1m\u001b[92m-0.6992210784880215\u001b[0m\t \u001b[1m\u001b[92m1.3302255160459608\u001b[0m\t \u001b[1m\u001b[92m1.4987426678780162\u001b[0m\n",
            "2  \t [-0.91639636  2.        ]\t 48.24275884336802\t -0.6992210784880215\t 1.4500408937165779\t 1.8983075023692009\n",
            "3  \t [3. 2.]\t 162.89999999999998\t -0.6992210784880215\t 1.7417022587210456\t 2.0249201288039513\n",
            "4  \t [ 0.03662474 -1.80057353]\t 29.015098902185894\t -0.6992210784880215\t 1.2840950106170455\t 1.8370897453369812\n",
            "5  \t [-2.83192397  1.65653321]\t 83.40267621557427\t -0.6992210784880215\t 1.6430659944019887\t 1.991945390598682\n",
            "6  \t [1.23006079 0.10097355]\t 2.483082868642941\t -0.6992210784880215\t 1.5668452456805215\t 1.8687371835490219\n",
            "7  \t [ 2.94694232 -0.51379023]\t 92.39214050669591\t -0.6992210784880215\t 1.1862188064018078\t 1.7629465905696764\n",
            "8  \t [ 0.12418652 -0.20597216]\t -0.12688681907659943\t -0.6992210784880215\t 1.6193294776446319\t 1.880661331770516\n",
            "9  \t [-3. -2.]\t 162.89999999999998\t -0.6992210784880215\t 1.9773635750402978\t 1.7758309305753375\n",
            "10 \t [ 1.18896205 -1.95384955]\t 43.10054484329797\t -0.6992210784880215\t 1.007538505321956\t 1.2253077137895052\n",
            "11 \t [0.67445998 1.68301222]\t 23.314319784286827\t -0.6992210784880215\t 0.7678226762275017\t 1.4092289651613432\n",
            "12 \t [-0.679487   -0.09006299]\t 1.4609762424244415\t -0.6992210784880215\t 1.0116804071381127\t 1.5117438184932237\n",
            "13 \t [ 1.17177735 -0.72388871]\t 0.5500676311538879\t -0.6992210784880215\t 1.348310760944881\t 1.845576429893117\n",
            "14 \t [-1.41073247 -1.89833644]\t 42.47998450724773\t -0.6992210784880215\t 1.5240921720646052\t 1.8492438316512496\n",
            "15 \t [-1.86375069 -0.41145341]\t 2.7309796707809078\t -0.6992210784880215\t 1.1686032406911981\t 1.3094871160794999\n",
            "16 \t [-0.7664788   0.78431929]\t 0.14462592642540972\t -0.6992210784880215\t 1.1819650440670442\t 1.819300203715543\n",
            "17 \t [-1.73377391 -0.86710105]\t 2.8595204930688016\t -0.6992210784880215\t 1.3808994502986307\t 1.604590651655736\n",
            "18 \t [0.47137359 0.14583185]\t 0.774234994012446\t -0.6992210784880215\t 1.197318526138924\t 1.3315256460821776\n",
            "19 \t [1.40962959 1.06766808]\t 4.414808986001351\t -0.6992210784880215\t 1.1906226207296735\t 1.4117197807176685\n",
            "20 \t [-0.95209802 -0.1349155 ]\t 2.20560419225444\t -0.6992210784880215\t 1.1686218696897246\t 1.2441776709390477\n"
          ]
        }
      ],
      "source": [
        "### EXACT STP EI GRADIENTS\n",
        "\n",
        "np.random.seed(run_num_15)\n",
        "surrogate_stp_15 = dtStudentProcess(cov_func, optimize=opt, nu = df)\n",
        "\n",
        "stp_15 = dGPGO_stp(surrogate_stp_15, Acquisition_grad(util_stp), objfunc, param)\n",
        "stp_15.run(init_evals=n_init, max_iter=iters)\n"
      ]
    },
    {
      "cell_type": "code",
      "execution_count": 49,
      "metadata": {
        "id": "lu8ki9XIQPPN",
        "colab": {
          "base_uri": "https://localhost:8080/"
        },
        "outputId": "3b35bb16-d2e3-46dd-9b03-e9deef9f2d47"
      },
      "outputs": [
        {
          "output_type": "stream",
          "name": "stdout",
          "text": [
            "Evaluation \t Proposed point \t  Current eval. \t  Best eval. \t        Exact EI: StdDev. x \t Approx EI: StdDev. x \n",
            "init\t [-1.66025353  0.09265337]\t 1.8632773736203017\t 1.8632773736203017\t    \t    \n",
            "init\t [ 0.30420874 -1.8175922 ]\t 30.24114424375299\t 1.8632773736203017\t    \t    \n",
            "init\t [-0.83562699 -1.10767623]\t 3.922061281476444\t 1.8632773736203017\t    \t    \n",
            "init\t [ 1.13235697 -1.3450743 ]\t 6.7121671493737685\t 1.8632773736203017\t    \t    \n",
            "init\t [-2.5780508   1.76404344]\t 53.42443470756798\t 1.8632773736203017\t    \t    \n",
            "1  \t [2.79397277 0.56248615]\t 62.52823122476681\t 1.8632773736203017\t 1.7729635039730078\t 2.2085757755719375\n",
            "2  \t [-3.         -1.88824474]\t 151.15311502016874\t 1.8632773736203017\t 1.8860450943981246\t 1.8959299584253055\n",
            "3  \t [0.28151036 2.        ]\t 48.86699041736814\t 1.8632773736203017\t 1.2266258503707133\t 1.7161088482303601\n",
            "\u001b[1m\u001b[92m4\u001b[0m\t \u001b[1m\u001b[92m[-0.12904515 -0.01764584]\u001b[0m\t \u001b[1m\u001b[92m0.06706178397838826\u001b[0m\t \u001b[1m\u001b[92m0.06706178397838826\u001b[0m\t \u001b[1m\u001b[92m1.2730335000042867\u001b[0m\t \u001b[1m\u001b[92m1.7832779042531413\u001b[0m\n",
            "5  \t [-0.54095943 -0.23049217]\t 0.9225353942453041\t 0.06706178397838826\t 1.4667342965854415\t 1.6778782204768692\n",
            "6  \t [ 2.68268432 -1.59170878]\t 55.54104474368225\t 0.06706178397838826\t 1.9614465199631057\t 2.1267172368595566\n",
            "7  \t [ 1.08571063 -0.33179794]\t 1.5909811739484991\t 0.06706178397838826\t 1.582842379754815\t 1.6845101365085922\n",
            "8  \t [3. 2.]\t 162.89999999999998\t 0.06706178397838826\t 1.2523514351381242\t 1.5912400235018818\n",
            "9  \t [-3.          0.09068007]\t 108.59533875274322\t 0.06706178397838826\t 1.3465907980075846\t 1.493688878618248\n",
            "10 \t [-0.84317827  0.83014367]\t 0.3452722068971268\t 0.06706178397838826\t 1.3486951998371284\t 1.704778151260349\n",
            "11 \t [0.92492933 0.73734994]\t 1.7833828855018656\t 0.06706178397838826\t 1.322558266819155\t 1.6604275715805104\n",
            "12 \t [-1.36704954 -0.70501457]\t 2.28048857180308\t 0.06706178397838826\t 1.4587647846972145\t 1.6122769166205568\n",
            "13 \t [ 2.12741437 -0.48854691]\t 4.223951348794108\t 0.06706178397838826\t 1.1228531686061216\t 1.4013616131334687\n",
            "14 \t [-1.19688404 -1.84415342]\t 37.268703939857176\t 0.06706178397838826\t 1.1488277686644384\t 1.4464954666060184\n",
            "\u001b[1m\u001b[92m15\u001b[0m\t \u001b[1m\u001b[92m[0.18685926 0.66345693]\u001b[0m\t \u001b[1m\u001b[92m-0.7245913655168056\u001b[0m\t \u001b[1m\u001b[92m-0.7245913655168056\u001b[0m\t \u001b[1m\u001b[92m1.073784081404423\u001b[0m\t \u001b[1m\u001b[92m1.5975476362274723\u001b[0m\n",
            "16 \t [-1.01280734  1.44173385]\t 9.760899805833391\t -0.7245913655168056\t 1.0487450026568572\t 1.349868162763308\n",
            "17 \t [-1.59533328  0.98849263]\t 0.4064949546984436\t -0.7245913655168056\t 1.221340024804705\t 1.7472103335628695\n",
            "18 \t [0.64916579 0.26133612]\t 1.2527910193486511\t -0.7245913655168056\t 1.197065052676578\t 1.5776953865541137\n",
            "\u001b[1m\u001b[92m19\u001b[0m\t \u001b[1m\u001b[92m[ 0.30709116 -0.80183574]\u001b[0m\t \u001b[1m\u001b[92m-0.8056853774067756\u001b[0m\t \u001b[1m\u001b[92m-0.8056853774067756\u001b[0m\t \u001b[1m\u001b[92m1.351980547325082\u001b[0m\t \u001b[1m\u001b[92m1.5693172490674416\u001b[0m\n",
            "20 \t [-0.80234693  0.11069748]\t 1.6564420646875044\t -0.8056853774067756\t 1.1705256448104089\t 1.011344919590885\n"
          ]
        }
      ],
      "source": [
        "### EXACT STP EI GRADIENTS\n",
        "\n",
        "np.random.seed(run_num_16)\n",
        "surrogate_stp_16 = dtStudentProcess(cov_func, optimize=opt, nu = df)\n",
        "\n",
        "stp_16 = dGPGO_stp(surrogate_stp_16, Acquisition_grad(util_stp), objfunc, param)\n",
        "stp_16.run(init_evals=n_init, max_iter=iters)\n"
      ]
    },
    {
      "cell_type": "code",
      "execution_count": 50,
      "metadata": {
        "id": "yU2SflSsJTUs",
        "colab": {
          "base_uri": "https://localhost:8080/"
        },
        "outputId": "a954d633-31d8-4695-a69f-c49fb8f425f7"
      },
      "outputs": [
        {
          "output_type": "stream",
          "name": "stdout",
          "text": [
            "Evaluation \t Proposed point \t  Current eval. \t  Best eval. \t        Exact EI: StdDev. x \t Approx EI: StdDev. x \n",
            "init\t [-1.23200998  0.12234702]\t 2.189206652278967\t 1.7722768782964888\t    \t    \n",
            "init\t [-1.85087528 -1.72839857]\t 29.406067820453675\t 1.7722768782964888\t    \t    \n",
            "init\t [1.72191276 0.62533409]\t 2.2113401446731897\t 1.7722768782964888\t    \t    \n",
            "init\t [0.82512538 0.30241158]\t 1.7722768782964888\t 1.7722768782964888\t    \t    \n",
            "init\t [-2.7656225  -0.56874558]\t 57.5922315952177\t 1.7722768782964888\t    \t    \n",
            "1  \t [-0.85289729  1.94586621]\t 42.468761535884376\t 1.7722768782964888\t 1.421289030148379\t 1.9037521923340597\n",
            "2  \t [ 2.00014779 -2.        ]\t 47.734930206972756\t 1.7722768782964888\t 1.6367315768744046\t 2.365903632864196\n",
            "3  \t [3. 2.]\t 162.89999999999998\t 1.7722768782964888\t 1.3934127466052042\t 1.590025232006182\n",
            "\u001b[1m\u001b[92m4\u001b[0m\t \u001b[1m\u001b[92m[-0.013755   -0.77119872]\u001b[0m\t \u001b[1m\u001b[92m-0.9527271127448717\u001b[0m\t \u001b[1m\u001b[92m-0.9527271127448717\u001b[0m\t \u001b[1m\u001b[92m1.4454884223815947\u001b[0m\t \u001b[1m\u001b[92m2.004649038566336\u001b[0m\n",
            "5  \t [-0.15582747 -1.99661846]\t 48.02934189637039\t -0.9527271127448717\t 1.1062515864127023\t 1.9401969342713654\n",
            "6  \t [0.07571978 0.14233465]\t -0.04575235902663552\t -0.9527271127448717\t 1.0852556545798875\t 1.8190173057165047\n",
            "7  \t [ 1.3442314  -0.17573722]\t 1.9818084216676646\t -0.9527271127448717\t 1.0406915010498532\t 1.8183117449447177\n",
            "8  \t [ 2.72715585 -0.42443492]\t 48.97246917624302\t -0.9527271127448717\t 1.3121139848105745\t 1.8786995399496431\n",
            "9  \t [-2.77841674  1.45843178]\t 64.61411498315542\t -0.9527271127448717\t 1.8024839645357436\t 2.3134122989524077\n",
            "10 \t [0.65290186 0.56038897]\t 0.8535514353222081\t -0.9527271127448717\t 0.9876486254373128\t 1.1184544833148509\n",
            "11 \t [0.80288759 2.        ]\t 51.40093364742912\t -0.9527271127448717\t 1.8666093174217693\t 1.7817743333945226\n",
            "12 \t [-0.73486644 -0.53424401]\t 1.176968061511512\t -0.9527271127448717\t 1.4759766589492598\t 1.47341964677899\n",
            "13 \t [-3. -2.]\t 162.89999999999998\t -0.9527271127448717\t 1.55022732246114\t 1.5621180258294258\n",
            "14 \t [ 0.83004057 -0.90610984]\t 0.5282079432911477\t -0.9527271127448717\t 1.200537778836674\t 1.681602754625091\n",
            "15 \t [-0.58118065  0.81007684]\t -0.24883484196106154\t -0.9527271127448717\t 1.3660942580223534\t 1.6174828743533365\n",
            "16 \t [-1.39692654 -1.02604293]\t 3.9413299511417477\t -0.9527271127448717\t 1.3763232796228178\t 1.7089007604525237\n",
            "17 \t [3.         0.51187345]\t 109.66216887569838\t -0.9527271127448717\t 1.1740096896991277\t 1.7923336003177108\n",
            "18 \t [-1.57676786  1.08853999]\t 1.2469424373093392\t -0.9527271127448717\t 1.3045220364557868\t 1.7749804309892834\n",
            "19 \t [-1.18099597 -1.50906322]\t 15.81520514334142\t -0.9527271127448717\t 1.3682066383727758\t 1.4101297808549749\n",
            "20 \t [ 0.33661022 -0.09533194]\t 0.35863807779856305\t -0.9527271127448717\t 1.2301668412332114\t 1.0263877519374984\n"
          ]
        }
      ],
      "source": [
        "### EXACT STP EI GRADIENTS\n",
        "\n",
        "np.random.seed(run_num_17)\n",
        "surrogate_stp_17 = dtStudentProcess(cov_func, optimize=opt, nu = df)\n",
        "\n",
        "stp_17 = dGPGO_stp(surrogate_stp_17, Acquisition_grad(util_stp), objfunc, param)\n",
        "stp_17.run(init_evals=n_init, max_iter=iters)\n"
      ]
    },
    {
      "cell_type": "code",
      "execution_count": 51,
      "metadata": {
        "id": "eVEhyZ9BQS-1",
        "colab": {
          "base_uri": "https://localhost:8080/"
        },
        "outputId": "4c881b60-4a99-484d-c6fb-65ce73e1630d"
      },
      "outputs": [
        {
          "output_type": "stream",
          "name": "stdout",
          "text": [
            "Evaluation \t Proposed point \t  Current eval. \t  Best eval. \t        Exact EI: StdDev. x \t Approx EI: StdDev. x \n",
            "init\t [0.90224545 0.02181349]\t 2.062169771852028\t 2.062169771852028\t    \t    \n",
            "init\t [ 2.27160883 -1.2726391 ]\t 11.64729291207819\t 2.062169771852028\t    \t    \n",
            "init\t [2.11339841 1.00054514]\t 7.792128760671214\t 2.062169771852028\t    \t    \n",
            "init\t [0.99661    1.95158179]\t 46.96206222999227\t 2.062169771852028\t    \t    \n",
            "init\t [-1.45818946 -1.8867763 ]\t 41.4190528039297\t 2.062169771852028\t    \t    \n",
            "1  \t [-2.93389983  1.13961102]\t 89.63634825741386\t 2.062169771852028\t 1.7891323431717607\t 2.2731013494823062\n",
            "2  \t [ 0.7571308 -1.9917567]\t 47.24065779877466\t 2.062169771852028\t 1.6765071240430063\t 1.7613691560476719\n",
            "3  \t [3. 2.]\t 162.89999999999998\t 2.062169771852028\t 1.482301183570424\t 1.8207959533082532\n",
            "\u001b[1m\u001b[92m4\u001b[0m\t \u001b[1m\u001b[92m[-0.54671068  0.47475898]\u001b[0m\t \u001b[1m\u001b[92m0.05893718115105817\u001b[0m\t \u001b[1m\u001b[92m0.05893718115105817\u001b[0m\t \u001b[1m\u001b[92m1.3941085307077894\u001b[0m\t \u001b[1m\u001b[92m2.0085329993936285\u001b[0m\n",
            "5  \t [-3. -2.]\t 162.89999999999998\t 0.05893718115105817\t 1.1820811876661395\t 2.086410861071758\n",
            "6  \t [ 2.55336361 -0.19697835]\t 28.538898759259734\t 0.05893718115105817\t 0.9652032868166563\t 1.6459147082718053\n",
            "7  \t [-0.62482454  1.45172882]\t 9.69074508724797\t 0.05893718115105817\t 1.1246002902999754\t 1.6160501516348849\n",
            "8  \t [-0.44014893 -0.34227758]\t 0.4354689086846478\t 0.05893718115105817\t 0.9445056826823234\t 0.997654142302399\n",
            "\u001b[1m\u001b[92m9\u001b[0m\t \u001b[1m\u001b[92m[0.22439957 0.38371591]\u001b[0m\t \u001b[1m\u001b[92m-0.21999154879524285\u001b[0m\t \u001b[1m\u001b[92m-0.21999154879524285\u001b[0m\t \u001b[1m\u001b[92m1.0622669239881417\u001b[0m\t \u001b[1m\u001b[92m1.6941867467165266\u001b[0m\n",
            "10 \t [-1.07766867  0.01813343]\t 2.314328936181978\t -0.21999154879524285\t 1.2736808193677016\t 1.5472087545191102\n",
            "11 \t [1.47509304 0.66532422]\t 2.189595282377065\t -0.21999154879524285\t 1.3696546695084229\t 2.092884840402516\n",
            "12 \t [ 0.01351515 -0.03958096]\t -0.006061166674102227\t -0.21999154879524285\t 0.9274583449536834\t 1.331259176250952\n",
            "13 \t [ 2.87499839 -1.82536482]\t 103.65834348020223\t -0.21999154879524285\t 1.5035931189793785\t 1.946697956560041\n",
            "14 \t [-2.33210126 -0.31856533]\t 13.640684625398036\t -0.21999154879524285\t 1.35728666948032\t 1.8833326325423878\n",
            "15 \t [ 1.62814366 -1.02446353]\t 0.5958065946845705\t -0.21999154879524285\t 1.3184252830012182\t 1.737700826358379\n",
            "16 \t [-1.47554077 -0.78553837]\t 2.4084089882407547\t -0.21999154879524285\t 1.4731646920415375\t 1.6843139938224732\n",
            "17 \t [-1.35706828  1.71416616]\t 22.78244827961764\t -0.21999154879524285\t 1.4673393699707522\t 1.9709420810718485\n",
            "18 \t [-0.56769012 -1.387593  ]\t 8.997087784170377\t -0.21999154879524285\t 1.4446321689572692\t 1.9113856257187523\n",
            "19 \t [ 1.93336005 -0.7058966 ]\t 0.6543511628586479\t -0.21999154879524285\t 1.359217810370526\t 1.8752943118416725\n",
            "20 \t [ 1.26578343 -0.12090024]\t 2.178331299734357\t -0.21999154879524285\t 0.780407274225066\t 1.1827211204868375\n"
          ]
        }
      ],
      "source": [
        "### EXACT STP EI GRADIENTS\n",
        "\n",
        "np.random.seed(run_num_18)\n",
        "surrogate_stp_18 = dtStudentProcess(cov_func, optimize=opt, nu = df)\n",
        "\n",
        "stp_18 = dGPGO_stp(surrogate_stp_18, Acquisition_grad(util_stp), objfunc, param)\n",
        "stp_18.run(init_evals=n_init, max_iter=iters)\n"
      ]
    },
    {
      "cell_type": "code",
      "execution_count": 52,
      "metadata": {
        "id": "B6gTz1ojQUxn",
        "colab": {
          "base_uri": "https://localhost:8080/"
        },
        "outputId": "be0b4201-9874-45b6-87c8-7c9d1650e87d"
      },
      "outputs": [
        {
          "output_type": "stream",
          "name": "stdout",
          "text": [
            "Evaluation \t Proposed point \t  Current eval. \t  Best eval. \t        Exact EI: StdDev. x \t Approx EI: StdDev. x \n",
            "init\t [-2.41479839  1.04499887]\t 15.890475442873509\t 6.578088852480828\t    \t    \n",
            "init\t [-1.51837216 -1.44747325]\t 13.520839509777993\t 6.578088852480828\t    \t    \n",
            "init\t [-1.01132062 -1.66800174]\t 23.772158573571232\t 6.578088852480828\t    \t    \n",
            "init\t [1.03186249 1.22637519]\t 6.578088852480828\t 6.578088852480828\t    \t    \n",
            "init\t [2.89645149 0.54264294]\t 83.31828503667734\t 6.578088852480828\t    \t    \n",
            "1  \t [-0.38620012  2.        ]\t 47.778591534031925\t 6.578088852480828\t 1.891916377953788\t 2.0722434971732717\n",
            "2  \t [ 1.29082589 -1.8233282 ]\t 30.934823232474344\t 6.578088852480828\t 2.2387027280868312\t 2.318744786755643\n",
            "3  \t [-3. -2.]\t 162.89999999999998\t 6.578088852480828\t 2.12730655812531\t 1.8234348722633855\n",
            "\u001b[1m\u001b[92m4\u001b[0m\t \u001b[1m\u001b[92m[-0.27915424 -0.15846995]\u001b[0m\t \u001b[1m\u001b[92m0.24542283535795584\u001b[0m\t \u001b[1m\u001b[92m0.24542283535795584\u001b[0m\t \u001b[1m\u001b[92m1.5906025261633114\u001b[0m\t \u001b[1m\u001b[92m1.9633155529340411\u001b[0m\n",
            "5  \t [ 0.72450913 -0.23798928]\t 1.1830935797499074\t 0.24542283535795584\t 1.3948049919896044\t 1.6180533337835363\n",
            "6  \t [-0.91829676  0.14790936]\t 1.8582250948138423\t 0.24542283535795584\t 1.5504655588494625\t 1.72003093974767\n",
            "\u001b[1m\u001b[92m7\u001b[0m\t \u001b[1m\u001b[92m[-0.0171703 -0.3216414]\u001b[0m\t \u001b[1m\u001b[92m-0.3643007348911084\u001b[0m\t \u001b[1m\u001b[92m-0.3643007348911084\u001b[0m\t \u001b[1m\u001b[92m1.4493067730993787\u001b[0m\t \u001b[1m\u001b[92m1.7628272558949982\u001b[0m\n",
            "8  \t [-1.40737785 -0.6155002 ]\t 2.1993019557420945\t -0.3643007348911084\t 1.5498195068579348\t 2.0760616342905456\n",
            "9  \t [1.91213776 2.        ]\t 54.66862283989211\t -0.3643007348911084\t 1.7165346590914863\t 2.294126939441234\n",
            "10 \t [ 2.75502254 -0.96426066]\t 52.218266962100344\t -0.3643007348911084\t 1.8617878408796915\t 2.39669138951623\n",
            "\u001b[1m\u001b[92m11\u001b[0m\t \u001b[1m\u001b[92m[0.24660205 0.67878916]\u001b[0m\t \u001b[1m\u001b[92m-0.5908893407414078\u001b[0m\t \u001b[1m\u001b[92m-0.5908893407414078\u001b[0m\t \u001b[1m\u001b[92m1.816341278405809\u001b[0m\t \u001b[1m\u001b[92m2.334823086256301\u001b[0m\n",
            "12 \t [-2.64876839 -0.10865582]\t 40.052707700994205\t -0.5908893407414078\t 1.661612928475848\t 1.9169239180558943\n",
            "13 \t [-1.75655497  1.75951354]\t 25.00483323635399\t -0.5908893407414078\t 1.5757039534474693\t 2.3597105804487564\n",
            "14 \t [0.62781232 0.44425601]\t 0.9160278821312567\t -0.5908893407414078\t 1.1278826666860555\t 2.0950338996430933\n",
            "15 \t [-2.94654728  1.44028649]\t 99.25486852831676\t -0.5908893407414078\t 1.8536062269345948\t 1.7699816024811073\n",
            "16 \t [-1.66169503  0.62130802]\t 0.07080248394250577\t -0.5908893407414078\t 1.6015908529618086\t 1.721002393845852\n",
            "17 \t [3. 2.]\t 162.89999999999998\t -0.5908893407414078\t 1.3534049173855487\t 1.7073553860898776\n",
            "18 \t [0.89688887 1.97549036]\t 49.11379841196653\t -0.5908893407414078\t 1.2758145305944422\t 1.5555768941068107\n",
            "19 \t [-0.85857128  0.1335845 ]\t 1.7561956634792106\t -0.5908893407414078\t 1.1517512701931272\t 1.0951059384965616\n",
            "20 \t [1.79573877 0.25058992]\t 2.453669561565651\t -0.5908893407414078\t 1.2488368657269096\t 1.3915518975789158\n"
          ]
        }
      ],
      "source": [
        "### EXACT STP EI GRADIENTS\n",
        "\n",
        "np.random.seed(run_num_19)\n",
        "surrogate_stp_19 = dtStudentProcess(cov_func, optimize=opt, nu = df)\n",
        "\n",
        "stp_19 = dGPGO_stp(surrogate_stp_19, Acquisition_grad(util_stp), objfunc, param)\n",
        "stp_19.run(init_evals=n_init, max_iter=iters)\n"
      ]
    },
    {
      "cell_type": "code",
      "execution_count": 53,
      "metadata": {
        "id": "aw3xvSryIwDi",
        "colab": {
          "base_uri": "https://localhost:8080/"
        },
        "outputId": "dad6e085-3ff9-4f22-8fb9-43af425bfced"
      },
      "outputs": [
        {
          "output_type": "stream",
          "name": "stdout",
          "text": [
            "Evaluation \t Proposed point \t  Current eval. \t  Best eval. \t        Exact EI: StdDev. x \t Approx EI: StdDev. x \n",
            "init\t [0.52878481 1.59085491]\t 17.29968374481291\t 1.5037392797834441\t    \t    \n",
            "init\t [2.34918438 1.26334991]\t 20.91583049569433\t 1.5037392797834441\t    \t    \n",
            "init\t [-2.78466249  0.76703033]\t 57.06253405225224\t 1.5037392797834441\t    \t    \n",
            "init\t [-0.72791435  0.07404378]\t 1.5037392797834441\t 1.5037392797834441\t    \t    \n",
            "init\t [ 0.94770879 -1.22459913]\t 3.9766737661914173\t 1.5037392797834441\t    \t    \n",
            "1  \t [-1.29358633 -2.        ]\t 52.962207875768364\t 1.5037392797834441\t 1.7661529221093413\t 1.6494404427232987\n",
            "2  \t [ 2.77604483 -1.46935502]\t 64.59793259600005\t 1.5037392797834441\t 1.52433164094046\t 2.123913686015603\n",
            "\u001b[1m\u001b[92m3\u001b[0m\t \u001b[1m\u001b[92m[ 0.40079531 -0.02815866]\u001b[0m\t \u001b[1m\u001b[92m0.5752854046043101\u001b[0m\t \u001b[1m\u001b[92m0.5752854046043101\u001b[0m\t \u001b[1m\u001b[92m1.4788067524368331\u001b[0m\t \u001b[1m\u001b[92m1.7648925125648625\u001b[0m\n",
            "4  \t [-0.63018161  1.68862292]\t 21.331278346830658\t 0.5752854046043101\t 1.5068510487176974\t 1.7926418785748444\n",
            "\u001b[1m\u001b[92m5\u001b[0m\t \u001b[1m\u001b[92m[-0.07548319 -0.1479765 ]\u001b[0m\t \u001b[1m\u001b[92m-0.05177777666480351\u001b[0m\t \u001b[1m\u001b[92m-0.05177777666480351\u001b[0m\t \u001b[1m\u001b[92m1.2569987357985153\u001b[0m\t \u001b[1m\u001b[92m1.73511029977671\u001b[0m\n",
            "6  \t [-3. -2.]\t 162.89999999999998\t -0.05177777666480351\t 1.651038233093459\t 1.8051237544121446\n",
            "7  \t [ 0.05001257 -1.97777856]\t 45.46735599792216\t -0.05177777666480351\t 1.4513949176120755\t 2.0718679609866584\n",
            "8  \t [3. 2.]\t 162.89999999999998\t -0.05177777666480351\t 1.1936108802132115\t 1.7848584776443157\n",
            "9  \t [1.40477312 0.07012105]\t 2.356167583119763\t -0.05177777666480351\t 0.7578476957628578\t 1.332684549790404\n",
            "10 \t [1.05777937 0.2711009 ]\t 2.327849772457197\t -0.05177777666480351\t 0.8839913877635621\t 1.067023809753252\n",
            "11 \t [2.99823786 0.28162007]\t 108.95416493193079\t -0.05177777666480351\t 1.3613459477567385\t 2.084847532279809\n",
            "12 \t [1.82883939 0.89223732]\t 3.3408453848729116\t -0.05177777666480351\t 1.4276050587845137\t 1.8731205876318129\n",
            "13 \t [1.59014007 1.74136245]\t 29.496588738209738\t -0.05177777666480351\t 1.5199623103101818\t 2.019364165632354\n",
            "14 \t [-1.18891152 -0.70715023]\t 2.2403596379603243\t -0.05177777666480351\t 1.2095593142353311\t 1.8788953304347886\n",
            "15 \t [ 1.61618066 -1.60492666]\t 15.702571678452083\t -0.05177777666480351\t 1.2424067801591336\t 2.0134807501009675\n",
            "16 \t [ 1.0057638  -0.53786239]\t 0.879057754087676\t -0.05177777666480351\t 1.2981375544585223\t 2.0394191383833027\n",
            "\u001b[1m\u001b[92m17\u001b[0m\t \u001b[1m\u001b[92m[-0.02050533  0.71554361]\u001b[0m\t \u001b[1m\u001b[92m-1.0124146982761264\u001b[0m\t \u001b[1m\u001b[92m-1.0124146982761264\u001b[0m\t \u001b[1m\u001b[92m1.3075079357527206\u001b[0m\t \u001b[1m\u001b[92m1.6601503134735995\u001b[0m\n",
            "18 \t [-1.930326    1.56368622]\t 14.108133907280044\t -1.0124146982761264\t 1.3019304851250817\t 2.177650056233924\n",
            "19 \t [-2.1507819   1.99019678]\t 49.19242171652023\t -1.0124146982761264\t 1.421382830802753\t 1.8516328640580122\n",
            "20 \t [0.73208631 0.40705337]\t 1.3369519269163237\t -1.0124146982761264\t 0.7826314148603125\t 0.9233183932153943\n"
          ]
        }
      ],
      "source": [
        "### EXACT STP EI GRADIENTS\n",
        "\n",
        "np.random.seed(run_num_20)\n",
        "surrogate_stp_20 = dtStudentProcess(cov_func, optimize=opt, nu = df)\n",
        "\n",
        "stp_20 = dGPGO_stp(surrogate_stp_20, Acquisition_grad(util_stp), objfunc, param)\n",
        "stp_20.run(init_evals=n_init, max_iter=iters)\n"
      ]
    },
    {
      "cell_type": "code",
      "execution_count": 54,
      "metadata": {
        "id": "5c8szjivRPme",
        "colab": {
          "base_uri": "https://localhost:8080/"
        },
        "outputId": "85124927-fc7f-4d77-a8e6-40a05ab4c133"
      },
      "outputs": [
        {
          "output_type": "execute_result",
          "data": {
            "text/plain": [
              "1103.5126180648804"
            ]
          },
          "metadata": {},
          "execution_count": 54
        }
      ],
      "source": [
        "end_stp = time.time()\n",
        "end_stp\n",
        "\n",
        "time_stp = end_stp - start_stp\n",
        "time_stp\n"
      ]
    },
    {
      "cell_type": "code",
      "execution_count": 55,
      "metadata": {
        "id": "f6gCKnp6RR8c",
        "colab": {
          "base_uri": "https://localhost:8080/"
        },
        "outputId": "86fcc390-09f7-444f-ca21-7bcfd489ea57"
      },
      "outputs": [
        {
          "output_type": "execute_result",
          "data": {
            "text/plain": [
              "(-0.2658009358573259, -0.2658009358573259)"
            ]
          },
          "metadata": {},
          "execution_count": 55
        }
      ],
      "source": [
        "### Simple regret minimisation: run number = 1\n",
        "\n",
        "gp_output_1 = np.append(np.min(-gp_1.GP.y[0:n_init]),-gp_1.GP.y[n_init:(n_init+iters)]) \n",
        "stp_output_1 = np.append(np.min(-stp_1.GP.y[0:n_init]),-stp_1.GP.y[n_init:(n_init+iters)]) \n",
        "\n",
        "regret_gp_1 = np.log(gp_output_1 - y_global_orig)\n",
        "regret_stp_1 = np.log(stp_output_1 - y_global_orig)\n",
        "\n",
        "simple_regret_gp_1 = min_max_array(regret_gp_1)\n",
        "simple_regret_stp_1 = min_max_array(regret_stp_1)\n",
        "\n",
        "min_simple_regret_gp_1 = min(simple_regret_gp_1)\n",
        "min_simple_regret_stp_1 = min(simple_regret_stp_1)\n",
        "\n",
        "min_simple_regret_gp_1, min_simple_regret_stp_1\n"
      ]
    },
    {
      "cell_type": "code",
      "execution_count": 56,
      "metadata": {
        "id": "94yBw5tqQxfk",
        "colab": {
          "base_uri": "https://localhost:8080/"
        },
        "outputId": "520e1bc8-9da0-4b2f-ace8-45ccfcbec28c"
      },
      "outputs": [
        {
          "output_type": "execute_result",
          "data": {
            "text/plain": [
              "(-0.09141497463908152, -0.8884687103656131)"
            ]
          },
          "metadata": {},
          "execution_count": 56
        }
      ],
      "source": [
        "### Simple regret minimisation: run number = 2\n",
        "\n",
        "gp_output_2 = np.append(np.min(-gp_2.GP.y[0:n_init]),-gp_2.GP.y[n_init:(n_init+iters)]) \n",
        "stp_output_2 = np.append(np.min(-stp_2.GP.y[0:n_init]),-stp_2.GP.y[n_init:(n_init+iters)]) \n",
        "\n",
        "regret_gp_2 = np.log(gp_output_2 - y_global_orig)\n",
        "regret_stp_2 = np.log(stp_output_2 - y_global_orig)\n",
        "\n",
        "simple_regret_gp_2 = min_max_array(regret_gp_2)\n",
        "simple_regret_stp_2 = min_max_array(regret_stp_2)\n",
        "\n",
        "min_simple_regret_gp_2 = min(simple_regret_gp_2)\n",
        "min_simple_regret_stp_2 = min(simple_regret_stp_2)\n",
        "\n",
        "min_simple_regret_gp_2, min_simple_regret_stp_2\n"
      ]
    },
    {
      "cell_type": "code",
      "execution_count": 57,
      "metadata": {
        "id": "Bu6SBWALQxfl",
        "colab": {
          "base_uri": "https://localhost:8080/"
        },
        "outputId": "4595c090-04a9-4db1-e9e7-97e3886f5ffa"
      },
      "outputs": [
        {
          "output_type": "execute_result",
          "data": {
            "text/plain": [
              "(-1.5614956503396664, -0.23773993035753282)"
            ]
          },
          "metadata": {},
          "execution_count": 57
        }
      ],
      "source": [
        "### Simple regret minimisation: run number = 3\n",
        "\n",
        "gp_output_3 = np.append(np.min(-gp_3.GP.y[0:n_init]),-gp_3.GP.y[n_init:(n_init+iters)]) \n",
        "stp_output_3 = np.append(np.min(-stp_3.GP.y[0:n_init]),-stp_3.GP.y[n_init:(n_init+iters)]) \n",
        "\n",
        "regret_gp_3 = np.log(gp_output_3 - y_global_orig)\n",
        "regret_stp_3 = np.log(stp_output_3 - y_global_orig)\n",
        "\n",
        "simple_regret_gp_3 = min_max_array(regret_gp_3)\n",
        "simple_regret_stp_3 = min_max_array(regret_stp_3)\n",
        "\n",
        "min_simple_regret_gp_3 = min(simple_regret_gp_3)\n",
        "min_simple_regret_stp_3 = min(simple_regret_stp_3)\n",
        "\n",
        "min_simple_regret_gp_3, min_simple_regret_stp_3"
      ]
    },
    {
      "cell_type": "code",
      "execution_count": 58,
      "metadata": {
        "id": "AZm0jgxkQxfm",
        "colab": {
          "base_uri": "https://localhost:8080/"
        },
        "outputId": "052b685f-9d24-410c-d713-eeec1bd95269"
      },
      "outputs": [
        {
          "output_type": "execute_result",
          "data": {
            "text/plain": [
              "(-1.5236556203622285, -1.396936441899888)"
            ]
          },
          "metadata": {},
          "execution_count": 58
        }
      ],
      "source": [
        "### Simple regret minimisation: run number = 4\n",
        "\n",
        "gp_output_4 = np.append(np.min(-gp_4.GP.y[0:n_init]),-gp_4.GP.y[n_init:(n_init+iters)]) \n",
        "stp_output_4 = np.append(np.min(-stp_4.GP.y[0:n_init]),-stp_4.GP.y[n_init:(n_init+iters)]) \n",
        "\n",
        "regret_gp_4 = np.log(gp_output_4 - y_global_orig)\n",
        "regret_stp_4 = np.log(stp_output_4 - y_global_orig)\n",
        "\n",
        "simple_regret_gp_4 = min_max_array(regret_gp_4)\n",
        "simple_regret_stp_4 = min_max_array(regret_stp_4)\n",
        "\n",
        "min_simple_regret_gp_4 = min(simple_regret_gp_4)\n",
        "min_simple_regret_stp_4 = min(simple_regret_stp_4)\n",
        "\n",
        "min_simple_regret_gp_4, min_simple_regret_stp_4"
      ]
    },
    {
      "cell_type": "code",
      "execution_count": 59,
      "metadata": {
        "id": "NONPm8JIQxfn",
        "colab": {
          "base_uri": "https://localhost:8080/"
        },
        "outputId": "55da54cc-e4de-459a-a8be-ba7b5983029c"
      },
      "outputs": [
        {
          "output_type": "execute_result",
          "data": {
            "text/plain": [
              "(-2.4166011145215123, -0.9667370327122197)"
            ]
          },
          "metadata": {},
          "execution_count": 59
        }
      ],
      "source": [
        "### Simple regret minimisation: run number = 5\n",
        "\n",
        "gp_output_5 = np.append(np.min(-gp_5.GP.y[0:n_init]),-gp_5.GP.y[n_init:(n_init+iters)]) \n",
        "stp_output_5 = np.append(np.min(-stp_5.GP.y[0:n_init]),-stp_5.GP.y[n_init:(n_init+iters)]) \n",
        "\n",
        "regret_gp_5 = np.log(gp_output_5 - y_global_orig)\n",
        "regret_stp_5 = np.log(stp_output_5 - y_global_orig)\n",
        "\n",
        "simple_regret_gp_5 = min_max_array(regret_gp_5)\n",
        "simple_regret_stp_5 = min_max_array(regret_stp_5)\n",
        "\n",
        "min_simple_regret_gp_5 = min(simple_regret_gp_5)\n",
        "min_simple_regret_stp_5 = min(simple_regret_stp_5)\n",
        "\n",
        "min_simple_regret_gp_5, min_simple_regret_stp_5"
      ]
    },
    {
      "cell_type": "code",
      "execution_count": 60,
      "metadata": {
        "id": "CJv3lPuSQxfp",
        "colab": {
          "base_uri": "https://localhost:8080/"
        },
        "outputId": "07fcc9fa-0861-4118-e678-493542151e3f"
      },
      "outputs": [
        {
          "output_type": "execute_result",
          "data": {
            "text/plain": [
              "(-2.948268380567984, -0.3917913581074015)"
            ]
          },
          "metadata": {},
          "execution_count": 60
        }
      ],
      "source": [
        "### Simple regret minimisation: run number = 6\n",
        "\n",
        "gp_output_6 = np.append(np.min(-gp_6.GP.y[0:n_init]),-gp_6.GP.y[n_init:(n_init+iters)]) \n",
        "stp_output_6 = np.append(np.min(-stp_6.GP.y[0:n_init]),-stp_6.GP.y[n_init:(n_init+iters)]) \n",
        "\n",
        "regret_gp_6 = np.log(gp_output_6 - y_global_orig)\n",
        "regret_stp_6 = np.log(stp_output_6 - y_global_orig)\n",
        "\n",
        "simple_regret_gp_6 = min_max_array(regret_gp_6)\n",
        "simple_regret_stp_6 = min_max_array(regret_stp_6)\n",
        "\n",
        "min_simple_regret_gp_6 = min(simple_regret_gp_6)\n",
        "min_simple_regret_stp_6 = min(simple_regret_stp_6)\n",
        "\n",
        "min_simple_regret_gp_6, min_simple_regret_stp_6"
      ]
    },
    {
      "cell_type": "code",
      "execution_count": 61,
      "metadata": {
        "id": "quR2ZyApQxfq",
        "colab": {
          "base_uri": "https://localhost:8080/"
        },
        "outputId": "4c8e9f88-ee1b-4dfd-ffd2-0094eef2951d"
      },
      "outputs": [
        {
          "output_type": "execute_result",
          "data": {
            "text/plain": [
              "(-0.8935996883007996, -0.567767694400235)"
            ]
          },
          "metadata": {},
          "execution_count": 61
        }
      ],
      "source": [
        "### Simple regret minimisation: run number = 7\n",
        "\n",
        "gp_output_7 = np.append(np.min(-gp_7.GP.y[0:n_init]),-gp_7.GP.y[n_init:(n_init+iters)]) \n",
        "stp_output_7 = np.append(np.min(-stp_7.GP.y[0:n_init]),-stp_7.GP.y[n_init:(n_init+iters)]) \n",
        "\n",
        "regret_gp_7 = np.log(gp_output_7 - y_global_orig)\n",
        "regret_stp_7 = np.log(stp_output_7 - y_global_orig)\n",
        "\n",
        "simple_regret_gp_7 = min_max_array(regret_gp_7)\n",
        "simple_regret_stp_7 = min_max_array(regret_stp_7)\n",
        "\n",
        "min_simple_regret_gp_7 = min(simple_regret_gp_7)\n",
        "min_simple_regret_stp_7 = min(simple_regret_stp_7)\n",
        "\n",
        "min_simple_regret_gp_7, min_simple_regret_stp_7"
      ]
    },
    {
      "cell_type": "code",
      "execution_count": 62,
      "metadata": {
        "id": "99wY5nK6Qxfr",
        "colab": {
          "base_uri": "https://localhost:8080/"
        },
        "outputId": "59fee7ef-cc15-49e6-811d-d5ad2d98b649"
      },
      "outputs": [
        {
          "output_type": "execute_result",
          "data": {
            "text/plain": [
              "(-1.6667913180754064, -1.4742630801422865)"
            ]
          },
          "metadata": {},
          "execution_count": 62
        }
      ],
      "source": [
        "### Simple regret minimisation: run number = 8\n",
        "\n",
        "gp_output_8 = np.append(np.min(-gp_8.GP.y[0:n_init]),-gp_8.GP.y[n_init:(n_init+iters)]) \n",
        "stp_output_8 = np.append(np.min(-stp_8.GP.y[0:n_init]),-stp_8.GP.y[n_init:(n_init+iters)]) \n",
        "\n",
        "regret_gp_8 = np.log(gp_output_8 - y_global_orig)\n",
        "regret_stp_8 = np.log(stp_output_8 - y_global_orig)\n",
        "\n",
        "simple_regret_gp_8 = min_max_array(regret_gp_8)\n",
        "simple_regret_stp_8 = min_max_array(regret_stp_8)\n",
        "\n",
        "min_simple_regret_gp_8 = min(simple_regret_gp_8)\n",
        "min_simple_regret_stp_8 = min(simple_regret_stp_8)\n",
        "\n",
        "min_simple_regret_gp_8, min_simple_regret_stp_8"
      ]
    },
    {
      "cell_type": "code",
      "execution_count": 63,
      "metadata": {
        "id": "qt0P5t9qQxfs",
        "colab": {
          "base_uri": "https://localhost:8080/"
        },
        "outputId": "9c82e98a-8b10-4864-9635-e3c79524b3fa"
      },
      "outputs": [
        {
          "output_type": "execute_result",
          "data": {
            "text/plain": [
              "(-2.308064508535467, -2.457021091386353)"
            ]
          },
          "metadata": {},
          "execution_count": 63
        }
      ],
      "source": [
        "### Simple regret minimisation: run number = 9\n",
        "\n",
        "gp_output_9 = np.append(np.min(-gp_9.GP.y[0:n_init]),-gp_9.GP.y[n_init:(n_init+iters)]) \n",
        "stp_output_9 = np.append(np.min(-stp_9.GP.y[0:n_init]),-stp_9.GP.y[n_init:(n_init+iters)]) \n",
        "\n",
        "regret_gp_9 = np.log(gp_output_9 - y_global_orig)\n",
        "regret_stp_9 = np.log(stp_output_9 - y_global_orig)\n",
        "\n",
        "simple_regret_gp_9 = min_max_array(regret_gp_9)\n",
        "simple_regret_stp_9 = min_max_array(regret_stp_9)\n",
        "\n",
        "min_simple_regret_gp_9 = min(simple_regret_gp_9)\n",
        "min_simple_regret_stp_9 = min(simple_regret_stp_9)\n",
        "\n",
        "min_simple_regret_gp_9, min_simple_regret_stp_9"
      ]
    },
    {
      "cell_type": "code",
      "execution_count": 64,
      "metadata": {
        "id": "vx8to9stQxft",
        "colab": {
          "base_uri": "https://localhost:8080/"
        },
        "outputId": "e6fdaa8f-e623-46bb-a3ec-817d8db5be8d"
      },
      "outputs": [
        {
          "output_type": "execute_result",
          "data": {
            "text/plain": [
              "(-1.715961409246572, -1.1220263796790046)"
            ]
          },
          "metadata": {},
          "execution_count": 64
        }
      ],
      "source": [
        "### Simple regret minimisation: run number = 10\n",
        "\n",
        "gp_output_10 = np.append(np.min(-gp_10.GP.y[0:n_init]),-gp_10.GP.y[n_init:(n_init+iters)]) \n",
        "stp_output_10 = np.append(np.min(-stp_10.GP.y[0:n_init]),-stp_10.GP.y[n_init:(n_init+iters)]) \n",
        "\n",
        "regret_gp_10 = np.log(gp_output_10 - y_global_orig)\n",
        "regret_stp_10 = np.log(stp_output_10 - y_global_orig)\n",
        "\n",
        "simple_regret_gp_10 = min_max_array(regret_gp_10)\n",
        "simple_regret_stp_10 = min_max_array(regret_stp_10)\n",
        "\n",
        "min_simple_regret_gp_10 = min(simple_regret_gp_10)\n",
        "min_simple_regret_stp_10 = min(simple_regret_stp_10)\n",
        "\n",
        "min_simple_regret_gp_10, min_simple_regret_stp_10"
      ]
    },
    {
      "cell_type": "code",
      "execution_count": 65,
      "metadata": {
        "id": "d-FGzWyHQxfu",
        "colab": {
          "base_uri": "https://localhost:8080/"
        },
        "outputId": "21f8ca9e-6fe3-4ba8-cfd3-519754d38f6b"
      },
      "outputs": [
        {
          "output_type": "execute_result",
          "data": {
            "text/plain": [
              "(-1.114233240672264, -0.9010790823704407)"
            ]
          },
          "metadata": {},
          "execution_count": 65
        }
      ],
      "source": [
        "### Simple regret minimisation: run number = 11\n",
        "\n",
        "gp_output_11 = np.append(np.min(-gp_11.GP.y[0:n_init]),-gp_11.GP.y[n_init:(n_init+iters)]) \n",
        "stp_output_11 = np.append(np.min(-stp_11.GP.y[0:n_init]),-stp_11.GP.y[n_init:(n_init+iters)]) \n",
        "\n",
        "regret_gp_11 = np.log(gp_output_11 - y_global_orig)\n",
        "regret_stp_11 = np.log(stp_output_11 - y_global_orig)\n",
        "\n",
        "simple_regret_gp_11 = min_max_array(regret_gp_11)\n",
        "simple_regret_stp_11 = min_max_array(regret_stp_11)\n",
        "\n",
        "min_simple_regret_gp_11 = min(simple_regret_gp_11)\n",
        "min_simple_regret_stp_11 = min(simple_regret_stp_11)\n",
        "\n",
        "min_simple_regret_gp_11, min_simple_regret_stp_11"
      ]
    },
    {
      "cell_type": "code",
      "execution_count": 66,
      "metadata": {
        "id": "SvtsssyjQxfv",
        "colab": {
          "base_uri": "https://localhost:8080/"
        },
        "outputId": "d0e13943-582f-4d5b-99d6-c8a0437ba4ae"
      },
      "outputs": [
        {
          "output_type": "execute_result",
          "data": {
            "text/plain": [
              "(0.11242418097637234, -3.4185513977304915)"
            ]
          },
          "metadata": {},
          "execution_count": 66
        }
      ],
      "source": [
        "### Simple regret minimisation: run number = 12\n",
        "\n",
        "gp_output_12 = np.append(np.min(-gp_12.GP.y[0:n_init]),-gp_12.GP.y[n_init:(n_init+iters)]) \n",
        "stp_output_12 = np.append(np.min(-stp_12.GP.y[0:n_init]),-stp_12.GP.y[n_init:(n_init+iters)]) \n",
        "\n",
        "regret_gp_12 = np.log(gp_output_12 - y_global_orig)\n",
        "regret_stp_12 = np.log(stp_output_12 - y_global_orig)\n",
        "\n",
        "simple_regret_gp_12 = min_max_array(regret_gp_12)\n",
        "simple_regret_stp_12 = min_max_array(regret_stp_12)\n",
        "\n",
        "min_simple_regret_gp_12 = min(simple_regret_gp_12)\n",
        "min_simple_regret_stp_12 = min(simple_regret_stp_12)\n",
        "\n",
        "min_simple_regret_gp_12, min_simple_regret_stp_12"
      ]
    },
    {
      "cell_type": "code",
      "execution_count": 67,
      "metadata": {
        "id": "K6OiGcHkQxfw",
        "colab": {
          "base_uri": "https://localhost:8080/"
        },
        "outputId": "9e2ecfd5-acd0-4178-dbad-837a68eed505"
      },
      "outputs": [
        {
          "output_type": "execute_result",
          "data": {
            "text/plain": [
              "(-3.0989256767843743, -2.2006290633051413)"
            ]
          },
          "metadata": {},
          "execution_count": 67
        }
      ],
      "source": [
        "### Simple regret minimisation: run number = 13\n",
        "\n",
        "gp_output_13 = np.append(np.min(-gp_13.GP.y[0:n_init]),-gp_13.GP.y[n_init:(n_init+iters)]) \n",
        "stp_output_13 = np.append(np.min(-stp_13.GP.y[0:n_init]),-stp_13.GP.y[n_init:(n_init+iters)]) \n",
        "\n",
        "regret_gp_13 = np.log(gp_output_13 - y_global_orig)\n",
        "regret_stp_13 = np.log(stp_output_13 - y_global_orig)\n",
        "\n",
        "simple_regret_gp_13 = min_max_array(regret_gp_13)\n",
        "simple_regret_stp_13 = min_max_array(regret_stp_13)\n",
        "\n",
        "min_simple_regret_gp_13 = min(simple_regret_gp_13)\n",
        "min_simple_regret_stp_13 = min(simple_regret_stp_13)\n",
        "\n",
        "min_simple_regret_gp_13, min_simple_regret_stp_13"
      ]
    },
    {
      "cell_type": "code",
      "execution_count": 68,
      "metadata": {
        "id": "ogML73shQxfx",
        "colab": {
          "base_uri": "https://localhost:8080/"
        },
        "outputId": "1b788d1d-0542-4bb9-8369-31f64e671b02"
      },
      "outputs": [
        {
          "output_type": "execute_result",
          "data": {
            "text/plain": [
              "(-6.074727392833108, -6.074727392833108)"
            ]
          },
          "metadata": {},
          "execution_count": 68
        }
      ],
      "source": [
        "### Simple regret minimisation: run number = 14\n",
        "\n",
        "gp_output_14 = np.append(np.min(-gp_14.GP.y[0:n_init]),-gp_14.GP.y[n_init:(n_init+iters)]) \n",
        "stp_output_14 = np.append(np.min(-stp_14.GP.y[0:n_init]),-stp_14.GP.y[n_init:(n_init+iters)]) \n",
        "\n",
        "regret_gp_14 = np.log(gp_output_14 - y_global_orig)\n",
        "regret_stp_14 = np.log(stp_output_14 - y_global_orig)\n",
        "\n",
        "simple_regret_gp_14 = min_max_array(regret_gp_14)\n",
        "simple_regret_stp_14 = min_max_array(regret_stp_14)\n",
        "\n",
        "min_simple_regret_gp_14 = min(simple_regret_gp_14)\n",
        "min_simple_regret_stp_14 = min(simple_regret_stp_14)\n",
        "\n",
        "min_simple_regret_gp_14, min_simple_regret_stp_14"
      ]
    },
    {
      "cell_type": "code",
      "execution_count": 69,
      "metadata": {
        "id": "9Eg7gFT9Qxfx",
        "colab": {
          "base_uri": "https://localhost:8080/"
        },
        "outputId": "efdb550a-bd4e-4809-9851-d248ae4d295d"
      },
      "outputs": [
        {
          "output_type": "execute_result",
          "data": {
            "text/plain": [
              "(0.04583613435073335, -1.1014796310320563)"
            ]
          },
          "metadata": {},
          "execution_count": 69
        }
      ],
      "source": [
        "### Simple regret minimisation: run number = 15\n",
        "\n",
        "gp_output_15 = np.append(np.min(-gp_15.GP.y[0:n_init]),-gp_15.GP.y[n_init:(n_init+iters)]) \n",
        "stp_output_15 = np.append(np.min(-stp_15.GP.y[0:n_init]),-stp_15.GP.y[n_init:(n_init+iters)]) \n",
        "\n",
        "regret_gp_15 = np.log(gp_output_15 - y_global_orig)\n",
        "regret_stp_15 = np.log(stp_output_15 - y_global_orig)\n",
        "\n",
        "simple_regret_gp_15 = min_max_array(regret_gp_15)\n",
        "simple_regret_stp_15 = min_max_array(regret_stp_15)\n",
        "\n",
        "min_simple_regret_gp_15 = min(simple_regret_gp_15)\n",
        "min_simple_regret_stp_15 = min(simple_regret_stp_15)\n",
        "\n",
        "min_simple_regret_gp_15, min_simple_regret_stp_15"
      ]
    },
    {
      "cell_type": "code",
      "execution_count": 70,
      "metadata": {
        "id": "lIAC1U7ZQxfy",
        "colab": {
          "base_uri": "https://localhost:8080/"
        },
        "outputId": "a5872ebf-11bc-4372-962e-1d1721fc9880"
      },
      "outputs": [
        {
          "output_type": "execute_result",
          "data": {
            "text/plain": [
              "(0.021252512399301267, -1.4875981272214072)"
            ]
          },
          "metadata": {},
          "execution_count": 70
        }
      ],
      "source": [
        "### Simple regret minimisation: run number = 16\n",
        "\n",
        "gp_output_16 = np.append(np.min(-gp_16.GP.y[0:n_init]),-gp_16.GP.y[n_init:(n_init+iters)]) \n",
        "stp_output_16 = np.append(np.min(-stp_16.GP.y[0:n_init]),-stp_16.GP.y[n_init:(n_init+iters)]) \n",
        "\n",
        "regret_gp_16 = np.log(gp_output_16 - y_global_orig)\n",
        "regret_stp_16 = np.log(stp_output_16 - y_global_orig)\n",
        "\n",
        "simple_regret_gp_16 = min_max_array(regret_gp_16)\n",
        "simple_regret_stp_16 = min_max_array(regret_stp_16)\n",
        "\n",
        "min_simple_regret_gp_16 = min(simple_regret_gp_16)\n",
        "min_simple_regret_stp_16 = min(simple_regret_stp_16)\n",
        "\n",
        "min_simple_regret_gp_16, min_simple_regret_stp_16"
      ]
    },
    {
      "cell_type": "code",
      "execution_count": 71,
      "metadata": {
        "id": "bGott36OQxfz",
        "colab": {
          "base_uri": "https://localhost:8080/"
        },
        "outputId": "ccdf471c-f95e-4fe2-e86a-a8efa7b40988"
      },
      "outputs": [
        {
          "output_type": "execute_result",
          "data": {
            "text/plain": [
              "(-3.7104768208036245, -2.539917744468374)"
            ]
          },
          "metadata": {},
          "execution_count": 71
        }
      ],
      "source": [
        "### Simple regret minimisation: run number = 17\n",
        "\n",
        "gp_output_17 = np.append(np.min(-gp_17.GP.y[0:n_init]),-gp_17.GP.y[n_init:(n_init+iters)]) \n",
        "stp_output_17 = np.append(np.min(-stp_17.GP.y[0:n_init]),-stp_17.GP.y[n_init:(n_init+iters)]) \n",
        "\n",
        "regret_gp_17 = np.log(gp_output_17 - y_global_orig)\n",
        "regret_stp_17 = np.log(stp_output_17 - y_global_orig)\n",
        "\n",
        "simple_regret_gp_17 = min_max_array(regret_gp_17)\n",
        "simple_regret_stp_17 = min_max_array(regret_stp_17)\n",
        "\n",
        "min_simple_regret_gp_17 = min(simple_regret_gp_17)\n",
        "min_simple_regret_stp_17 = min(simple_regret_stp_17)\n",
        "\n",
        "min_simple_regret_gp_17, min_simple_regret_stp_17"
      ]
    },
    {
      "cell_type": "code",
      "execution_count": 72,
      "metadata": {
        "id": "Cz9ZYMBMQxfz",
        "colab": {
          "base_uri": "https://localhost:8080/"
        },
        "outputId": "8b713d7a-5f5f-457a-cacf-f34260b5a22a"
      },
      "outputs": [
        {
          "output_type": "execute_result",
          "data": {
            "text/plain": [
              "(-0.531464419306239, -0.2087372580674953)"
            ]
          },
          "metadata": {},
          "execution_count": 72
        }
      ],
      "source": [
        "### Simple regret minimisation: run number = 18\n",
        "\n",
        "gp_output_18 = np.append(np.min(-gp_18.GP.y[0:n_init]),-gp_18.GP.y[n_init:(n_init+iters)]) \n",
        "stp_output_18 = np.append(np.min(-stp_18.GP.y[0:n_init]),-stp_18.GP.y[n_init:(n_init+iters)]) \n",
        "\n",
        "regret_gp_18 = np.log(gp_output_18 - y_global_orig)\n",
        "regret_stp_18 = np.log(stp_output_18 - y_global_orig)\n",
        "\n",
        "simple_regret_gp_18 = min_max_array(regret_gp_18)\n",
        "simple_regret_stp_18 = min_max_array(regret_stp_18)\n",
        "\n",
        "min_simple_regret_gp_18 = min(simple_regret_gp_18)\n",
        "min_simple_regret_stp_18 = min(simple_regret_stp_18)\n",
        "\n",
        "min_simple_regret_gp_18, min_simple_regret_stp_18"
      ]
    },
    {
      "cell_type": "code",
      "execution_count": 73,
      "metadata": {
        "id": "OBfpWOHNQxf0",
        "colab": {
          "base_uri": "https://localhost:8080/"
        },
        "outputId": "039b7aa8-986f-42c7-86c1-53c2f08a8322"
      },
      "outputs": [
        {
          "output_type": "execute_result",
          "data": {
            "text/plain": [
              "(-0.02543456866139696, -0.8193667203184797)"
            ]
          },
          "metadata": {},
          "execution_count": 73
        }
      ],
      "source": [
        "### Simple regret minimisation: run number = 19\n",
        "\n",
        "gp_output_19 = np.append(np.min(-gp_19.GP.y[0:n_init]),-gp_19.GP.y[n_init:(n_init+iters)]) \n",
        "stp_output_19 = np.append(np.min(-stp_19.GP.y[0:n_init]),-stp_19.GP.y[n_init:(n_init+iters)]) \n",
        "\n",
        "regret_gp_19 = np.log(gp_output_19 - y_global_orig)\n",
        "regret_stp_19 = np.log(stp_output_19 - y_global_orig)\n",
        "\n",
        "simple_regret_gp_19 = min_max_array(regret_gp_19)\n",
        "simple_regret_stp_19 = min_max_array(regret_stp_19)\n",
        "\n",
        "min_simple_regret_gp_19 = min(simple_regret_gp_19)\n",
        "min_simple_regret_stp_19 = min(simple_regret_stp_19)\n",
        "\n",
        "min_simple_regret_gp_19, min_simple_regret_stp_19"
      ]
    },
    {
      "cell_type": "code",
      "execution_count": 74,
      "metadata": {
        "id": "BE1AJ7NsQxf0",
        "colab": {
          "base_uri": "https://localhost:8080/"
        },
        "outputId": "7845b24c-9966-4c65-9e67-592df5711646"
      },
      "outputs": [
        {
          "output_type": "execute_result",
          "data": {
            "text/plain": [
              "(-0.0787549835201568, -3.9536108283350284)"
            ]
          },
          "metadata": {},
          "execution_count": 74
        }
      ],
      "source": [
        "### Simple regret minimisation: run number = 20\n",
        "\n",
        "gp_output_20 = np.append(np.min(-gp_20.GP.y[0:n_init]),-gp_20.GP.y[n_init:(n_init+iters)]) \n",
        "stp_output_20 = np.append(np.min(-stp_20.GP.y[0:n_init]),-stp_20.GP.y[n_init:(n_init+iters)]) \n",
        "\n",
        "regret_gp_20 = np.log(gp_output_20 - y_global_orig)\n",
        "regret_stp_20 = np.log(stp_output_20 - y_global_orig)\n",
        "\n",
        "simple_regret_gp_20 = min_max_array(regret_gp_20)\n",
        "simple_regret_stp_20 = min_max_array(regret_stp_20)\n",
        "\n",
        "min_simple_regret_gp_20 = min(simple_regret_gp_20)\n",
        "min_simple_regret_stp_20 = min(simple_regret_stp_20)\n",
        "\n",
        "min_simple_regret_gp_20, min_simple_regret_stp_20"
      ]
    },
    {
      "cell_type": "code",
      "execution_count": 75,
      "metadata": {
        "id": "bpX-bKAHQxf1"
      },
      "outputs": [],
      "source": [
        "# Iteration1 :\n",
        "\n",
        "slice1 = 0\n",
        "\n",
        "approx1 = [simple_regret_gp_1[slice1],\n",
        "       simple_regret_gp_2[slice1],\n",
        "       simple_regret_gp_3[slice1],\n",
        "       simple_regret_gp_4[slice1],\n",
        "       simple_regret_gp_5[slice1],\n",
        "       simple_regret_gp_6[slice1],\n",
        "       simple_regret_gp_7[slice1],\n",
        "       simple_regret_gp_8[slice1],\n",
        "       simple_regret_gp_9[slice1],\n",
        "       simple_regret_gp_10[slice1],\n",
        "       simple_regret_gp_11[slice1],\n",
        "       simple_regret_gp_12[slice1],\n",
        "       simple_regret_gp_13[slice1],\n",
        "       simple_regret_gp_14[slice1],\n",
        "       simple_regret_gp_15[slice1],\n",
        "       simple_regret_gp_16[slice1],\n",
        "       simple_regret_gp_17[slice1],\n",
        "       simple_regret_gp_18[slice1],\n",
        "       simple_regret_gp_19[slice1],\n",
        "       simple_regret_gp_20[slice1]]\n",
        "\n",
        "exact1 = [simple_regret_stp_1[slice1],\n",
        "       simple_regret_stp_2[slice1],\n",
        "       simple_regret_stp_3[slice1],\n",
        "       simple_regret_stp_4[slice1],\n",
        "       simple_regret_stp_5[slice1],\n",
        "       simple_regret_stp_6[slice1],\n",
        "       simple_regret_stp_7[slice1],\n",
        "       simple_regret_stp_8[slice1],\n",
        "       simple_regret_stp_9[slice1],\n",
        "       simple_regret_stp_10[slice1],\n",
        "       simple_regret_stp_11[slice1],\n",
        "       simple_regret_stp_12[slice1],\n",
        "       simple_regret_stp_13[slice1],\n",
        "       simple_regret_stp_14[slice1],\n",
        "       simple_regret_stp_15[slice1],\n",
        "       simple_regret_stp_16[slice1],\n",
        "       simple_regret_stp_17[slice1],\n",
        "       simple_regret_stp_18[slice1],\n",
        "       simple_regret_stp_19[slice1],\n",
        "       simple_regret_stp_20[slice1]]\n",
        "\n",
        "approx1_results = pd.DataFrame(approx1).sort_values(by=[0], ascending=False)\n",
        "exact1_results = pd.DataFrame(exact1).sort_values(by=[0], ascending=False)\n",
        "\n",
        "### Best simple regret minimization IQR - approx:\n",
        "lower_gp1 = np.asarray(approx1_results[4:5][0])[0]\n",
        "median_gp1 = np.asarray(approx1_results[9:10][0])[0]\n",
        "upper_gp1 = np.asarray(approx1_results[14:15][0])[0]\n",
        "\n",
        "lower_stp1 = np.asarray(exact1_results[4:5][0])[0]\n",
        "median_stp1 = np.asarray(exact1_results[9:10][0])[0]\n",
        "upper_stp1 = np.asarray(exact1_results[14:15][0])[0]"
      ]
    },
    {
      "cell_type": "code",
      "execution_count": 76,
      "metadata": {
        "id": "CgIkJA1xQxf2"
      },
      "outputs": [],
      "source": [
        "# Iteration11 :\n",
        "\n",
        "slice11 = 10\n",
        "\n",
        "approx11 = [simple_regret_gp_1[slice11],\n",
        "       simple_regret_gp_2[slice11],\n",
        "       simple_regret_gp_3[slice11],\n",
        "       simple_regret_gp_4[slice11],\n",
        "       simple_regret_gp_5[slice11],\n",
        "       simple_regret_gp_6[slice11],\n",
        "       simple_regret_gp_7[slice11],\n",
        "       simple_regret_gp_8[slice11],\n",
        "       simple_regret_gp_9[slice11],\n",
        "       simple_regret_gp_10[slice11],\n",
        "       simple_regret_gp_11[slice11],\n",
        "       simple_regret_gp_12[slice11],\n",
        "       simple_regret_gp_13[slice11],\n",
        "       simple_regret_gp_14[slice11],\n",
        "       simple_regret_gp_15[slice11],\n",
        "       simple_regret_gp_16[slice11],\n",
        "       simple_regret_gp_17[slice11],\n",
        "       simple_regret_gp_18[slice11],\n",
        "       simple_regret_gp_19[slice11],\n",
        "       simple_regret_gp_20[slice11]]\n",
        "\n",
        "exact11 = [simple_regret_stp_1[slice11],\n",
        "       simple_regret_stp_2[slice11],\n",
        "       simple_regret_stp_3[slice11],\n",
        "       simple_regret_stp_4[slice11],\n",
        "       simple_regret_stp_5[slice11],\n",
        "       simple_regret_stp_6[slice11],\n",
        "       simple_regret_stp_7[slice11],\n",
        "       simple_regret_stp_8[slice11],\n",
        "       simple_regret_stp_9[slice11],\n",
        "       simple_regret_stp_10[slice11],\n",
        "       simple_regret_stp_11[slice11],\n",
        "       simple_regret_stp_12[slice11],\n",
        "       simple_regret_stp_13[slice11],\n",
        "       simple_regret_stp_14[slice11],\n",
        "       simple_regret_stp_15[slice11],\n",
        "       simple_regret_stp_16[slice11],\n",
        "       simple_regret_stp_17[slice11],\n",
        "       simple_regret_stp_18[slice11],\n",
        "       simple_regret_stp_19[slice11],\n",
        "       simple_regret_stp_20[slice11]]\n",
        "\n",
        "approx11_results = pd.DataFrame(approx11).sort_values(by=[0], ascending=False)\n",
        "exact11_results = pd.DataFrame(exact11).sort_values(by=[0], ascending=False)\n",
        "\n",
        "### Best simple regret minimization IQR - approx:\n",
        "lower_gp11 = np.asarray(approx11_results[4:5][0])[0]\n",
        "median_gp11 = np.asarray(approx11_results[9:10][0])[0]\n",
        "upper_gp11 = np.asarray(approx11_results[14:15][0])[0]\n",
        "\n",
        "lower_stp11 = np.asarray(exact11_results[4:5][0])[0]\n",
        "median_stp11 = np.asarray(exact11_results[9:10][0])[0]\n",
        "upper_stp11 = np.asarray(exact11_results[14:15][0])[0]"
      ]
    },
    {
      "cell_type": "code",
      "execution_count": 77,
      "metadata": {
        "id": "MFePDfGuQxf2"
      },
      "outputs": [],
      "source": [
        "# Iteration21 :\n",
        "\n",
        "slice21 = 20\n",
        "\n",
        "approx21 = [simple_regret_gp_1[slice21],\n",
        "       simple_regret_gp_2[slice21],\n",
        "       simple_regret_gp_3[slice21],\n",
        "       simple_regret_gp_4[slice21],\n",
        "       simple_regret_gp_5[slice21],\n",
        "       simple_regret_gp_6[slice21],\n",
        "       simple_regret_gp_7[slice21],\n",
        "       simple_regret_gp_8[slice21],\n",
        "       simple_regret_gp_9[slice21],\n",
        "       simple_regret_gp_10[slice21],\n",
        "       simple_regret_gp_11[slice21],\n",
        "       simple_regret_gp_12[slice21],\n",
        "       simple_regret_gp_13[slice21],\n",
        "       simple_regret_gp_14[slice21],\n",
        "       simple_regret_gp_15[slice21],\n",
        "       simple_regret_gp_16[slice21],\n",
        "       simple_regret_gp_17[slice21],\n",
        "       simple_regret_gp_18[slice21],\n",
        "       simple_regret_gp_19[slice21],\n",
        "       simple_regret_gp_20[slice21]]\n",
        "\n",
        "exact21 = [simple_regret_stp_1[slice21],\n",
        "       simple_regret_stp_2[slice21],\n",
        "       simple_regret_stp_3[slice21],\n",
        "       simple_regret_stp_4[slice21],\n",
        "       simple_regret_stp_5[slice21],\n",
        "       simple_regret_stp_6[slice21],\n",
        "       simple_regret_stp_7[slice21],\n",
        "       simple_regret_stp_8[slice21],\n",
        "       simple_regret_stp_9[slice21],\n",
        "       simple_regret_stp_10[slice21],\n",
        "       simple_regret_stp_11[slice21],\n",
        "       simple_regret_stp_12[slice21],\n",
        "       simple_regret_stp_13[slice21],\n",
        "       simple_regret_stp_14[slice21],\n",
        "       simple_regret_stp_15[slice21],\n",
        "       simple_regret_stp_16[slice21],\n",
        "       simple_regret_stp_17[slice21],\n",
        "       simple_regret_stp_18[slice21],\n",
        "       simple_regret_stp_19[slice21],\n",
        "       simple_regret_stp_20[slice21]]\n",
        "\n",
        "approx21_results = pd.DataFrame(approx21).sort_values(by=[0], ascending=False)\n",
        "exact21_results = pd.DataFrame(exact21).sort_values(by=[0], ascending=False)\n",
        "\n",
        "### Best simple regret minimization IQR - approx:\n",
        "lower_gp21 = np.asarray(approx21_results[4:5][0])[0]\n",
        "median_gp21 = np.asarray(approx21_results[9:10][0])[0]\n",
        "upper_gp21 = np.asarray(approx21_results[14:15][0])[0]\n",
        "\n",
        "lower_stp21 = np.asarray(exact21_results[4:5][0])[0]\n",
        "median_stp21 = np.asarray(exact21_results[9:10][0])[0]\n",
        "upper_stp21 = np.asarray(exact21_results[14:15][0])[0]"
      ]
    },
    {
      "cell_type": "code",
      "execution_count": 78,
      "metadata": {
        "id": "PrRDB1kfQxf3"
      },
      "outputs": [],
      "source": [
        "# Iteration2 :\n",
        "\n",
        "slice2 = 1\n",
        "\n",
        "approx2 = [simple_regret_gp_1[slice2],\n",
        "       simple_regret_gp_2[slice2],\n",
        "       simple_regret_gp_3[slice2],\n",
        "       simple_regret_gp_4[slice2],\n",
        "       simple_regret_gp_5[slice2],\n",
        "       simple_regret_gp_6[slice2],\n",
        "       simple_regret_gp_7[slice2],\n",
        "       simple_regret_gp_8[slice2],\n",
        "       simple_regret_gp_9[slice2],\n",
        "       simple_regret_gp_10[slice2],\n",
        "       simple_regret_gp_11[slice2],\n",
        "       simple_regret_gp_12[slice2],\n",
        "       simple_regret_gp_13[slice2],\n",
        "       simple_regret_gp_14[slice2],\n",
        "       simple_regret_gp_15[slice2],\n",
        "       simple_regret_gp_16[slice2],\n",
        "       simple_regret_gp_17[slice2],\n",
        "       simple_regret_gp_18[slice2],\n",
        "       simple_regret_gp_19[slice2],\n",
        "       simple_regret_gp_20[slice2]]\n",
        "\n",
        "exact2 = [simple_regret_stp_1[slice2],\n",
        "       simple_regret_stp_2[slice2],\n",
        "       simple_regret_stp_3[slice2],\n",
        "       simple_regret_stp_4[slice2],\n",
        "       simple_regret_stp_5[slice2],\n",
        "       simple_regret_stp_6[slice2],\n",
        "       simple_regret_stp_7[slice2],\n",
        "       simple_regret_stp_8[slice2],\n",
        "       simple_regret_stp_9[slice2],\n",
        "       simple_regret_stp_10[slice2],\n",
        "       simple_regret_stp_11[slice2],\n",
        "       simple_regret_stp_12[slice2],\n",
        "       simple_regret_stp_13[slice2],\n",
        "       simple_regret_stp_14[slice2],\n",
        "       simple_regret_stp_15[slice2],\n",
        "       simple_regret_stp_16[slice2],\n",
        "       simple_regret_stp_17[slice2],\n",
        "       simple_regret_stp_18[slice2],\n",
        "       simple_regret_stp_19[slice2],\n",
        "       simple_regret_stp_20[slice2]]\n",
        "\n",
        "approx2_results = pd.DataFrame(approx2).sort_values(by=[0], ascending=False)\n",
        "exact2_results = pd.DataFrame(exact2).sort_values(by=[0], ascending=False)\n",
        "\n",
        "### Best simple regret minimization IQR - approx:\n",
        "lower_gp2 = np.asarray(approx2_results[4:5][0])[0]\n",
        "median_gp2 = np.asarray(approx2_results[9:10][0])[0]\n",
        "upper_gp2 = np.asarray(approx2_results[14:15][0])[0]\n",
        "\n",
        "lower_stp2 = np.asarray(exact2_results[4:5][0])[0]\n",
        "median_stp2 = np.asarray(exact2_results[9:10][0])[0]\n",
        "upper_stp2 = np.asarray(exact2_results[14:15][0])[0]"
      ]
    },
    {
      "cell_type": "code",
      "execution_count": 79,
      "metadata": {
        "id": "B8ncJDYeQxf3"
      },
      "outputs": [],
      "source": [
        "# Iteration12 :\n",
        "\n",
        "slice12 = 11\n",
        "\n",
        "approx12 = [simple_regret_gp_1[slice12],\n",
        "       simple_regret_gp_2[slice12],\n",
        "       simple_regret_gp_3[slice12],\n",
        "       simple_regret_gp_4[slice12],\n",
        "       simple_regret_gp_5[slice12],\n",
        "       simple_regret_gp_6[slice12],\n",
        "       simple_regret_gp_7[slice12],\n",
        "       simple_regret_gp_8[slice12],\n",
        "       simple_regret_gp_9[slice12],\n",
        "       simple_regret_gp_10[slice12],\n",
        "       simple_regret_gp_11[slice12],\n",
        "       simple_regret_gp_12[slice12],\n",
        "       simple_regret_gp_13[slice12],\n",
        "       simple_regret_gp_14[slice12],\n",
        "       simple_regret_gp_15[slice12],\n",
        "       simple_regret_gp_16[slice12],\n",
        "       simple_regret_gp_17[slice12],\n",
        "       simple_regret_gp_18[slice12],\n",
        "       simple_regret_gp_19[slice12],\n",
        "       simple_regret_gp_20[slice12]]\n",
        "\n",
        "exact12 = [simple_regret_stp_1[slice12],\n",
        "       simple_regret_stp_2[slice12],\n",
        "       simple_regret_stp_3[slice12],\n",
        "       simple_regret_stp_4[slice12],\n",
        "       simple_regret_stp_5[slice12],\n",
        "       simple_regret_stp_6[slice12],\n",
        "       simple_regret_stp_7[slice12],\n",
        "       simple_regret_stp_8[slice12],\n",
        "       simple_regret_stp_9[slice12],\n",
        "       simple_regret_stp_10[slice12],\n",
        "       simple_regret_stp_11[slice12],\n",
        "       simple_regret_stp_12[slice12],\n",
        "       simple_regret_stp_13[slice12],\n",
        "       simple_regret_stp_14[slice12],\n",
        "       simple_regret_stp_15[slice12],\n",
        "       simple_regret_stp_16[slice12],\n",
        "       simple_regret_stp_17[slice12],\n",
        "       simple_regret_stp_18[slice12],\n",
        "       simple_regret_stp_19[slice12],\n",
        "       simple_regret_stp_20[slice12]]\n",
        "\n",
        "approx12_results = pd.DataFrame(approx12).sort_values(by=[0], ascending=False)\n",
        "exact12_results = pd.DataFrame(exact12).sort_values(by=[0], ascending=False)\n",
        "\n",
        "### Best simple regret minimization IQR - approx:\n",
        "lower_gp12 = np.asarray(approx12_results[4:5][0])[0]\n",
        "median_gp12 = np.asarray(approx12_results[9:10][0])[0]\n",
        "upper_gp12 = np.asarray(approx12_results[14:15][0])[0]\n",
        "\n",
        "lower_stp12 = np.asarray(exact12_results[4:5][0])[0]\n",
        "median_stp12 = np.asarray(exact12_results[9:10][0])[0]\n",
        "upper_stp12 = np.asarray(exact12_results[14:15][0])[0]"
      ]
    },
    {
      "cell_type": "code",
      "execution_count": 80,
      "metadata": {
        "id": "Jn4KpGvcQxf4"
      },
      "outputs": [],
      "source": [
        "# Iteration3 :\n",
        "\n",
        "slice3 = 2\n",
        "\n",
        "approx3 = [simple_regret_gp_1[slice3],\n",
        "       simple_regret_gp_2[slice3],\n",
        "       simple_regret_gp_3[slice3],\n",
        "       simple_regret_gp_4[slice3],\n",
        "       simple_regret_gp_5[slice3],\n",
        "       simple_regret_gp_6[slice3],\n",
        "       simple_regret_gp_7[slice3],\n",
        "       simple_regret_gp_8[slice3],\n",
        "       simple_regret_gp_9[slice3],\n",
        "       simple_regret_gp_10[slice3],\n",
        "       simple_regret_gp_11[slice3],\n",
        "       simple_regret_gp_12[slice3],\n",
        "       simple_regret_gp_13[slice3],\n",
        "       simple_regret_gp_14[slice3],\n",
        "       simple_regret_gp_15[slice3],\n",
        "       simple_regret_gp_16[slice3],\n",
        "       simple_regret_gp_17[slice3],\n",
        "       simple_regret_gp_18[slice3],\n",
        "       simple_regret_gp_19[slice3],\n",
        "       simple_regret_gp_20[slice3]]\n",
        "\n",
        "exact3 = [simple_regret_stp_1[slice3],\n",
        "       simple_regret_stp_2[slice3],\n",
        "       simple_regret_stp_3[slice3],\n",
        "       simple_regret_stp_4[slice3],\n",
        "       simple_regret_stp_5[slice3],\n",
        "       simple_regret_stp_6[slice3],\n",
        "       simple_regret_stp_7[slice3],\n",
        "       simple_regret_stp_8[slice3],\n",
        "       simple_regret_stp_9[slice3],\n",
        "       simple_regret_stp_10[slice3],\n",
        "       simple_regret_stp_11[slice3],\n",
        "       simple_regret_stp_12[slice3],\n",
        "       simple_regret_stp_13[slice3],\n",
        "       simple_regret_stp_14[slice3],\n",
        "       simple_regret_stp_15[slice3],\n",
        "       simple_regret_stp_16[slice3],\n",
        "       simple_regret_stp_17[slice3],\n",
        "       simple_regret_stp_18[slice3],\n",
        "       simple_regret_stp_19[slice3],\n",
        "       simple_regret_stp_20[slice3]]\n",
        "\n",
        "approx3_results = pd.DataFrame(approx3).sort_values(by=[0], ascending=False)\n",
        "exact3_results = pd.DataFrame(exact3).sort_values(by=[0], ascending=False)\n",
        "\n",
        "### Best simple regret minimization IQR - approx:\n",
        "lower_gp3 = np.asarray(approx3_results[4:5][0])[0]\n",
        "median_gp3 = np.asarray(approx3_results[9:10][0])[0]\n",
        "upper_gp3 = np.asarray(approx3_results[14:15][0])[0]\n",
        "\n",
        "lower_stp3 = np.asarray(exact3_results[4:5][0])[0]\n",
        "median_stp3 = np.asarray(exact3_results[9:10][0])[0]\n",
        "upper_stp3 = np.asarray(exact3_results[14:15][0])[0]"
      ]
    },
    {
      "cell_type": "code",
      "execution_count": 81,
      "metadata": {
        "id": "plf83wxrQxf4"
      },
      "outputs": [],
      "source": [
        "# Iteration13 :\n",
        "\n",
        "slice13 = 12\n",
        "\n",
        "approx13 = [simple_regret_gp_1[slice13],\n",
        "       simple_regret_gp_2[slice13],\n",
        "       simple_regret_gp_3[slice13],\n",
        "       simple_regret_gp_4[slice13],\n",
        "       simple_regret_gp_5[slice13],\n",
        "       simple_regret_gp_6[slice13],\n",
        "       simple_regret_gp_7[slice13],\n",
        "       simple_regret_gp_8[slice13],\n",
        "       simple_regret_gp_9[slice13],\n",
        "       simple_regret_gp_10[slice13],\n",
        "       simple_regret_gp_11[slice13],\n",
        "       simple_regret_gp_12[slice13],\n",
        "       simple_regret_gp_13[slice13],\n",
        "       simple_regret_gp_14[slice13],\n",
        "       simple_regret_gp_15[slice13],\n",
        "       simple_regret_gp_16[slice13],\n",
        "       simple_regret_gp_17[slice13],\n",
        "       simple_regret_gp_18[slice13],\n",
        "       simple_regret_gp_19[slice13],\n",
        "       simple_regret_gp_20[slice13]]\n",
        "\n",
        "exact13 = [simple_regret_stp_1[slice13],\n",
        "       simple_regret_stp_2[slice13],\n",
        "       simple_regret_stp_3[slice13],\n",
        "       simple_regret_stp_4[slice13],\n",
        "       simple_regret_stp_5[slice13],\n",
        "       simple_regret_stp_6[slice13],\n",
        "       simple_regret_stp_7[slice13],\n",
        "       simple_regret_stp_8[slice13],\n",
        "       simple_regret_stp_9[slice13],\n",
        "       simple_regret_stp_10[slice13],\n",
        "       simple_regret_stp_11[slice13],\n",
        "       simple_regret_stp_12[slice13],\n",
        "       simple_regret_stp_13[slice13],\n",
        "       simple_regret_stp_14[slice13],\n",
        "       simple_regret_stp_15[slice13],\n",
        "       simple_regret_stp_16[slice13],\n",
        "       simple_regret_stp_17[slice13],\n",
        "       simple_regret_stp_18[slice13],\n",
        "       simple_regret_stp_19[slice13],\n",
        "       simple_regret_stp_20[slice13]]\n",
        "\n",
        "approx13_results = pd.DataFrame(approx13).sort_values(by=[0], ascending=False)\n",
        "exact13_results = pd.DataFrame(exact13).sort_values(by=[0], ascending=False)\n",
        "\n",
        "### Best simple regret minimization IQR - approx:\n",
        "lower_gp13 = np.asarray(approx13_results[4:5][0])[0]\n",
        "median_gp13 = np.asarray(approx13_results[9:10][0])[0]\n",
        "upper_gp13 = np.asarray(approx13_results[14:15][0])[0]\n",
        "\n",
        "lower_stp13 = np.asarray(exact13_results[4:5][0])[0]\n",
        "median_stp13 = np.asarray(exact13_results[9:10][0])[0]\n",
        "upper_stp13 = np.asarray(exact13_results[14:15][0])[0]"
      ]
    },
    {
      "cell_type": "code",
      "execution_count": 82,
      "metadata": {
        "id": "9A7mlVvJQxf5"
      },
      "outputs": [],
      "source": [
        "# Iteration4 :\n",
        "\n",
        "slice4 = 3\n",
        "\n",
        "approx4 = [simple_regret_gp_1[slice4],\n",
        "       simple_regret_gp_2[slice4],\n",
        "       simple_regret_gp_3[slice4],\n",
        "       simple_regret_gp_4[slice4],\n",
        "       simple_regret_gp_5[slice4],\n",
        "       simple_regret_gp_6[slice4],\n",
        "       simple_regret_gp_7[slice4],\n",
        "       simple_regret_gp_8[slice4],\n",
        "       simple_regret_gp_9[slice4],\n",
        "       simple_regret_gp_10[slice4],\n",
        "       simple_regret_gp_11[slice4],\n",
        "       simple_regret_gp_12[slice4],\n",
        "       simple_regret_gp_13[slice4],\n",
        "       simple_regret_gp_14[slice4],\n",
        "       simple_regret_gp_15[slice4],\n",
        "       simple_regret_gp_16[slice4],\n",
        "       simple_regret_gp_17[slice4],\n",
        "       simple_regret_gp_18[slice4],\n",
        "       simple_regret_gp_19[slice4],\n",
        "       simple_regret_gp_20[slice4]]\n",
        "\n",
        "exact4 = [simple_regret_stp_1[slice4],\n",
        "       simple_regret_stp_2[slice4],\n",
        "       simple_regret_stp_3[slice4],\n",
        "       simple_regret_stp_4[slice4],\n",
        "       simple_regret_stp_5[slice4],\n",
        "       simple_regret_stp_6[slice4],\n",
        "       simple_regret_stp_7[slice4],\n",
        "       simple_regret_stp_8[slice4],\n",
        "       simple_regret_stp_9[slice4],\n",
        "       simple_regret_stp_10[slice4],\n",
        "       simple_regret_stp_11[slice4],\n",
        "       simple_regret_stp_12[slice4],\n",
        "       simple_regret_stp_13[slice4],\n",
        "       simple_regret_stp_14[slice4],\n",
        "       simple_regret_stp_15[slice4],\n",
        "       simple_regret_stp_16[slice4],\n",
        "       simple_regret_stp_17[slice4],\n",
        "       simple_regret_stp_18[slice4],\n",
        "       simple_regret_stp_19[slice4],\n",
        "       simple_regret_stp_20[slice4]]\n",
        "\n",
        "approx4_results = pd.DataFrame(approx4).sort_values(by=[0], ascending=False)\n",
        "exact4_results = pd.DataFrame(exact4).sort_values(by=[0], ascending=False)\n",
        "\n",
        "### Best simple regret minimization IQR - approx:\n",
        "lower_gp4 = np.asarray(approx4_results[4:5][0])[0]\n",
        "median_gp4 = np.asarray(approx4_results[9:10][0])[0]\n",
        "upper_gp4 = np.asarray(approx4_results[14:15][0])[0]\n",
        "\n",
        "lower_stp4 = np.asarray(exact4_results[4:5][0])[0]\n",
        "median_stp4 = np.asarray(exact4_results[9:10][0])[0]\n",
        "upper_stp4 = np.asarray(exact4_results[14:15][0])[0]"
      ]
    },
    {
      "cell_type": "code",
      "execution_count": 83,
      "metadata": {
        "id": "ijq-rioYQxf5"
      },
      "outputs": [],
      "source": [
        "# Iteration14 :\n",
        "\n",
        "slice14 = 13\n",
        "\n",
        "approx14 = [simple_regret_gp_1[slice14],\n",
        "       simple_regret_gp_2[slice14],\n",
        "       simple_regret_gp_3[slice14],\n",
        "       simple_regret_gp_4[slice14],\n",
        "       simple_regret_gp_5[slice14],\n",
        "       simple_regret_gp_6[slice14],\n",
        "       simple_regret_gp_7[slice14],\n",
        "       simple_regret_gp_8[slice14],\n",
        "       simple_regret_gp_9[slice14],\n",
        "       simple_regret_gp_10[slice14],\n",
        "       simple_regret_gp_11[slice14],\n",
        "       simple_regret_gp_12[slice14],\n",
        "       simple_regret_gp_13[slice14],\n",
        "       simple_regret_gp_14[slice14],\n",
        "       simple_regret_gp_15[slice14],\n",
        "       simple_regret_gp_16[slice14],\n",
        "       simple_regret_gp_17[slice14],\n",
        "       simple_regret_gp_18[slice14],\n",
        "       simple_regret_gp_19[slice14],\n",
        "       simple_regret_gp_20[slice14]]\n",
        "\n",
        "exact14 = [simple_regret_stp_1[slice14],\n",
        "       simple_regret_stp_2[slice14],\n",
        "       simple_regret_stp_3[slice14],\n",
        "       simple_regret_stp_4[slice14],\n",
        "       simple_regret_stp_5[slice14],\n",
        "       simple_regret_stp_6[slice14],\n",
        "       simple_regret_stp_7[slice14],\n",
        "       simple_regret_stp_8[slice14],\n",
        "       simple_regret_stp_9[slice14],\n",
        "       simple_regret_stp_10[slice14],\n",
        "       simple_regret_stp_11[slice14],\n",
        "       simple_regret_stp_12[slice14],\n",
        "       simple_regret_stp_13[slice14],\n",
        "       simple_regret_stp_14[slice14],\n",
        "       simple_regret_stp_15[slice14],\n",
        "       simple_regret_stp_16[slice14],\n",
        "       simple_regret_stp_17[slice14],\n",
        "       simple_regret_stp_18[slice14],\n",
        "       simple_regret_stp_19[slice14],\n",
        "       simple_regret_stp_20[slice14]]\n",
        "\n",
        "approx14_results = pd.DataFrame(approx14).sort_values(by=[0], ascending=False)\n",
        "exact14_results = pd.DataFrame(exact14).sort_values(by=[0], ascending=False)\n",
        "\n",
        "### Best simple regret minimization IQR - approx:\n",
        "lower_gp14 = np.asarray(approx14_results[4:5][0])[0]\n",
        "median_gp14 = np.asarray(approx14_results[9:10][0])[0]\n",
        "upper_gp14 = np.asarray(approx14_results[14:15][0])[0]\n",
        "\n",
        "lower_stp14 = np.asarray(exact14_results[4:5][0])[0]\n",
        "median_stp14 = np.asarray(exact14_results[9:10][0])[0]\n",
        "upper_stp14 = np.asarray(exact14_results[14:15][0])[0]"
      ]
    },
    {
      "cell_type": "code",
      "execution_count": 84,
      "metadata": {
        "id": "XINlZjoTd-ZK"
      },
      "outputs": [],
      "source": [
        "# Iteration5 :\n",
        "\n",
        "slice5 = 4\n",
        "\n",
        "approx5 = [simple_regret_gp_1[slice5],\n",
        "       simple_regret_gp_2[slice5],\n",
        "       simple_regret_gp_3[slice5],\n",
        "       simple_regret_gp_4[slice5],\n",
        "       simple_regret_gp_5[slice5],\n",
        "       simple_regret_gp_6[slice5],\n",
        "       simple_regret_gp_7[slice5],\n",
        "       simple_regret_gp_8[slice5],\n",
        "       simple_regret_gp_9[slice5],\n",
        "       simple_regret_gp_10[slice5],\n",
        "       simple_regret_gp_11[slice5],\n",
        "       simple_regret_gp_12[slice5],\n",
        "       simple_regret_gp_13[slice5],\n",
        "       simple_regret_gp_14[slice5],\n",
        "       simple_regret_gp_15[slice5],\n",
        "       simple_regret_gp_16[slice5],\n",
        "       simple_regret_gp_17[slice5],\n",
        "       simple_regret_gp_18[slice5],\n",
        "       simple_regret_gp_19[slice5],\n",
        "       simple_regret_gp_20[slice5]]\n",
        "\n",
        "exact5 = [simple_regret_stp_1[slice5],\n",
        "       simple_regret_stp_2[slice5],\n",
        "       simple_regret_stp_3[slice5],\n",
        "       simple_regret_stp_4[slice5],\n",
        "       simple_regret_stp_5[slice5],\n",
        "       simple_regret_stp_6[slice5],\n",
        "       simple_regret_stp_7[slice5],\n",
        "       simple_regret_stp_8[slice5],\n",
        "       simple_regret_stp_9[slice5],\n",
        "       simple_regret_stp_10[slice5],\n",
        "       simple_regret_stp_11[slice5],\n",
        "       simple_regret_stp_12[slice5],\n",
        "       simple_regret_stp_13[slice5],\n",
        "       simple_regret_stp_14[slice5],\n",
        "       simple_regret_stp_15[slice5],\n",
        "       simple_regret_stp_16[slice5],\n",
        "       simple_regret_stp_17[slice5],\n",
        "       simple_regret_stp_18[slice5],\n",
        "       simple_regret_stp_19[slice5],\n",
        "       simple_regret_stp_20[slice5]]\n",
        "\n",
        "approx5_results = pd.DataFrame(approx5).sort_values(by=[0], ascending=False)\n",
        "exact5_results = pd.DataFrame(exact5).sort_values(by=[0], ascending=False)\n",
        "\n",
        "### Best simple regret minimization IQR - approx:\n",
        "lower_gp5 = np.asarray(approx5_results[4:5][0])[0]\n",
        "median_gp5 = np.asarray(approx5_results[9:10][0])[0]\n",
        "upper_gp5 = np.asarray(approx5_results[14:15][0])[0]\n",
        "\n",
        "lower_stp5 = np.asarray(exact5_results[4:5][0])[0]\n",
        "median_stp5 = np.asarray(exact5_results[9:10][0])[0]\n",
        "upper_stp5 = np.asarray(exact5_results[14:15][0])[0]"
      ]
    },
    {
      "cell_type": "code",
      "execution_count": 85,
      "metadata": {
        "id": "4aZ7C8sOQxf6"
      },
      "outputs": [],
      "source": [
        "# Iteration15 :\n",
        "\n",
        "slice15 = 14\n",
        "\n",
        "approx15 = [simple_regret_gp_1[slice15],\n",
        "       simple_regret_gp_2[slice15],\n",
        "       simple_regret_gp_3[slice15],\n",
        "       simple_regret_gp_4[slice15],\n",
        "       simple_regret_gp_5[slice15],\n",
        "       simple_regret_gp_6[slice15],\n",
        "       simple_regret_gp_7[slice15],\n",
        "       simple_regret_gp_8[slice15],\n",
        "       simple_regret_gp_9[slice15],\n",
        "       simple_regret_gp_10[slice15],\n",
        "       simple_regret_gp_11[slice15],\n",
        "       simple_regret_gp_12[slice15],\n",
        "       simple_regret_gp_13[slice15],\n",
        "       simple_regret_gp_14[slice15],\n",
        "       simple_regret_gp_15[slice15],\n",
        "       simple_regret_gp_16[slice15],\n",
        "       simple_regret_gp_17[slice15],\n",
        "       simple_regret_gp_18[slice15],\n",
        "       simple_regret_gp_19[slice15],\n",
        "       simple_regret_gp_20[slice15]]\n",
        "\n",
        "exact15 = [simple_regret_stp_1[slice15],\n",
        "       simple_regret_stp_2[slice15],\n",
        "       simple_regret_stp_3[slice15],\n",
        "       simple_regret_stp_4[slice15],\n",
        "       simple_regret_stp_5[slice15],\n",
        "       simple_regret_stp_6[slice15],\n",
        "       simple_regret_stp_7[slice15],\n",
        "       simple_regret_stp_8[slice15],\n",
        "       simple_regret_stp_9[slice15],\n",
        "       simple_regret_stp_10[slice15],\n",
        "       simple_regret_stp_11[slice15],\n",
        "       simple_regret_stp_12[slice15],\n",
        "       simple_regret_stp_13[slice15],\n",
        "       simple_regret_stp_14[slice15],\n",
        "       simple_regret_stp_15[slice15],\n",
        "       simple_regret_stp_16[slice15],\n",
        "       simple_regret_stp_17[slice15],\n",
        "       simple_regret_stp_18[slice15],\n",
        "       simple_regret_stp_19[slice15],\n",
        "       simple_regret_stp_20[slice15]]\n",
        "\n",
        "approx15_results = pd.DataFrame(approx15).sort_values(by=[0], ascending=False)\n",
        "exact15_results = pd.DataFrame(exact15).sort_values(by=[0], ascending=False)\n",
        "\n",
        "### Best simple regret minimization IQR - approx:\n",
        "lower_gp15 = np.asarray(approx15_results[4:5][0])[0]\n",
        "median_gp15 = np.asarray(approx15_results[9:10][0])[0]\n",
        "upper_gp15 = np.asarray(approx15_results[14:15][0])[0]\n",
        "\n",
        "lower_stp15 = np.asarray(exact15_results[4:5][0])[0]\n",
        "median_stp15 = np.asarray(exact15_results[9:10][0])[0]\n",
        "upper_stp15 = np.asarray(exact15_results[14:15][0])[0]"
      ]
    },
    {
      "cell_type": "code",
      "execution_count": 86,
      "metadata": {
        "id": "KJINKhv1Qxf6"
      },
      "outputs": [],
      "source": [
        "# Iteration6 :\n",
        "\n",
        "slice6 = 5\n",
        "\n",
        "approx6 = [simple_regret_gp_1[slice6],\n",
        "       simple_regret_gp_2[slice6],\n",
        "       simple_regret_gp_3[slice6],\n",
        "       simple_regret_gp_4[slice6],\n",
        "       simple_regret_gp_5[slice6],\n",
        "       simple_regret_gp_6[slice6],\n",
        "       simple_regret_gp_7[slice6],\n",
        "       simple_regret_gp_8[slice6],\n",
        "       simple_regret_gp_9[slice6],\n",
        "       simple_regret_gp_10[slice6],\n",
        "       simple_regret_gp_11[slice6],\n",
        "       simple_regret_gp_12[slice6],\n",
        "       simple_regret_gp_13[slice6],\n",
        "       simple_regret_gp_14[slice6],\n",
        "       simple_regret_gp_15[slice6],\n",
        "       simple_regret_gp_16[slice6],\n",
        "       simple_regret_gp_17[slice6],\n",
        "       simple_regret_gp_18[slice6],\n",
        "       simple_regret_gp_19[slice6],\n",
        "       simple_regret_gp_20[slice6]]\n",
        "\n",
        "exact6 = [simple_regret_stp_1[slice6],\n",
        "       simple_regret_stp_2[slice6],\n",
        "       simple_regret_stp_3[slice6],\n",
        "       simple_regret_stp_4[slice6],\n",
        "       simple_regret_stp_5[slice6],\n",
        "       simple_regret_stp_6[slice6],\n",
        "       simple_regret_stp_7[slice6],\n",
        "       simple_regret_stp_8[slice6],\n",
        "       simple_regret_stp_9[slice6],\n",
        "       simple_regret_stp_10[slice6],\n",
        "       simple_regret_stp_11[slice6],\n",
        "       simple_regret_stp_12[slice6],\n",
        "       simple_regret_stp_13[slice6],\n",
        "       simple_regret_stp_14[slice6],\n",
        "       simple_regret_stp_15[slice6],\n",
        "       simple_regret_stp_16[slice6],\n",
        "       simple_regret_stp_17[slice6],\n",
        "       simple_regret_stp_18[slice6],\n",
        "       simple_regret_stp_19[slice6],\n",
        "       simple_regret_stp_20[slice6]]\n",
        "\n",
        "approx6_results = pd.DataFrame(approx6).sort_values(by=[0], ascending=False)\n",
        "exact6_results = pd.DataFrame(exact6).sort_values(by=[0], ascending=False)\n",
        "\n",
        "### Best simple regret minimization IQR - approx:\n",
        "lower_gp6 = np.asarray(approx6_results[4:5][0])[0]\n",
        "median_gp6 = np.asarray(approx6_results[9:10][0])[0]\n",
        "upper_gp6 = np.asarray(approx6_results[14:15][0])[0]\n",
        "\n",
        "lower_stp6 = np.asarray(exact6_results[4:5][0])[0]\n",
        "median_stp6 = np.asarray(exact6_results[9:10][0])[0]\n",
        "upper_stp6 = np.asarray(exact6_results[14:15][0])[0]"
      ]
    },
    {
      "cell_type": "code",
      "execution_count": 87,
      "metadata": {
        "id": "nwC5N1FsQxf7"
      },
      "outputs": [],
      "source": [
        "# Iteration16 :\n",
        "\n",
        "slice16 = 15\n",
        "\n",
        "approx16 = [simple_regret_gp_1[slice16],\n",
        "       simple_regret_gp_2[slice16],\n",
        "       simple_regret_gp_3[slice16],\n",
        "       simple_regret_gp_4[slice16],\n",
        "       simple_regret_gp_5[slice16],\n",
        "       simple_regret_gp_6[slice16],\n",
        "       simple_regret_gp_7[slice16],\n",
        "       simple_regret_gp_8[slice16],\n",
        "       simple_regret_gp_9[slice16],\n",
        "       simple_regret_gp_10[slice16],\n",
        "       simple_regret_gp_11[slice16],\n",
        "       simple_regret_gp_12[slice16],\n",
        "       simple_regret_gp_13[slice16],\n",
        "       simple_regret_gp_14[slice16],\n",
        "       simple_regret_gp_15[slice16],\n",
        "       simple_regret_gp_16[slice16],\n",
        "       simple_regret_gp_17[slice16],\n",
        "       simple_regret_gp_18[slice16],\n",
        "       simple_regret_gp_19[slice16],\n",
        "       simple_regret_gp_20[slice16]]\n",
        "\n",
        "exact16 = [simple_regret_stp_1[slice16],\n",
        "       simple_regret_stp_2[slice16],\n",
        "       simple_regret_stp_3[slice16],\n",
        "       simple_regret_stp_4[slice16],\n",
        "       simple_regret_stp_5[slice16],\n",
        "       simple_regret_stp_6[slice16],\n",
        "       simple_regret_stp_7[slice16],\n",
        "       simple_regret_stp_8[slice16],\n",
        "       simple_regret_stp_9[slice16],\n",
        "       simple_regret_stp_10[slice16],\n",
        "       simple_regret_stp_11[slice16],\n",
        "       simple_regret_stp_12[slice16],\n",
        "       simple_regret_stp_13[slice16],\n",
        "       simple_regret_stp_14[slice16],\n",
        "       simple_regret_stp_15[slice16],\n",
        "       simple_regret_stp_16[slice16],\n",
        "       simple_regret_stp_17[slice16],\n",
        "       simple_regret_stp_18[slice16],\n",
        "       simple_regret_stp_19[slice16],\n",
        "       simple_regret_stp_20[slice16]]\n",
        "\n",
        "approx16_results = pd.DataFrame(approx16).sort_values(by=[0], ascending=False)\n",
        "exact16_results = pd.DataFrame(exact16).sort_values(by=[0], ascending=False)\n",
        "\n",
        "### Best simple regret minimization IQR - approx:\n",
        "lower_gp16 = np.asarray(approx16_results[4:5][0])[0]\n",
        "median_gp16 = np.asarray(approx16_results[9:10][0])[0]\n",
        "upper_gp16 = np.asarray(approx16_results[14:15][0])[0]\n",
        "\n",
        "lower_stp16 = np.asarray(exact16_results[4:5][0])[0]\n",
        "median_stp16 = np.asarray(exact16_results[9:10][0])[0]\n",
        "upper_stp16 = np.asarray(exact16_results[14:15][0])[0]"
      ]
    },
    {
      "cell_type": "code",
      "execution_count": 88,
      "metadata": {
        "id": "TrPV0AfnQxf7"
      },
      "outputs": [],
      "source": [
        "# Iteration7 :\n",
        "\n",
        "slice7 = 6\n",
        "\n",
        "approx7 = [simple_regret_gp_1[slice7],\n",
        "       simple_regret_gp_2[slice7],\n",
        "       simple_regret_gp_3[slice7],\n",
        "       simple_regret_gp_4[slice7],\n",
        "       simple_regret_gp_5[slice7],\n",
        "       simple_regret_gp_6[slice7],\n",
        "       simple_regret_gp_7[slice7],\n",
        "       simple_regret_gp_8[slice7],\n",
        "       simple_regret_gp_9[slice7],\n",
        "       simple_regret_gp_10[slice7],\n",
        "       simple_regret_gp_11[slice7],\n",
        "       simple_regret_gp_12[slice7],\n",
        "       simple_regret_gp_13[slice7],\n",
        "       simple_regret_gp_14[slice7],\n",
        "       simple_regret_gp_15[slice7],\n",
        "       simple_regret_gp_16[slice7],\n",
        "       simple_regret_gp_17[slice7],\n",
        "       simple_regret_gp_18[slice7],\n",
        "       simple_regret_gp_19[slice7],\n",
        "       simple_regret_gp_20[slice7]]\n",
        "\n",
        "exact7 = [simple_regret_stp_1[slice7],\n",
        "       simple_regret_stp_2[slice7],\n",
        "       simple_regret_stp_3[slice7],\n",
        "       simple_regret_stp_4[slice7],\n",
        "       simple_regret_stp_5[slice7],\n",
        "       simple_regret_stp_6[slice7],\n",
        "       simple_regret_stp_7[slice7],\n",
        "       simple_regret_stp_8[slice7],\n",
        "       simple_regret_stp_9[slice7],\n",
        "       simple_regret_stp_10[slice7],\n",
        "       simple_regret_stp_11[slice7],\n",
        "       simple_regret_stp_12[slice7],\n",
        "       simple_regret_stp_13[slice7],\n",
        "       simple_regret_stp_14[slice7],\n",
        "       simple_regret_stp_15[slice7],\n",
        "       simple_regret_stp_16[slice7],\n",
        "       simple_regret_stp_17[slice7],\n",
        "       simple_regret_stp_18[slice7],\n",
        "       simple_regret_stp_19[slice7],\n",
        "       simple_regret_stp_20[slice7]]\n",
        "\n",
        "approx7_results = pd.DataFrame(approx7).sort_values(by=[0], ascending=False)\n",
        "exact7_results = pd.DataFrame(exact7).sort_values(by=[0], ascending=False)\n",
        "\n",
        "### Best simple regret minimization IQR - approx:\n",
        "lower_gp7 = np.asarray(approx7_results[4:5][0])[0]\n",
        "median_gp7 = np.asarray(approx7_results[9:10][0])[0]\n",
        "upper_gp7 = np.asarray(approx7_results[14:15][0])[0]\n",
        "\n",
        "lower_stp7 = np.asarray(exact7_results[4:5][0])[0]\n",
        "median_stp7 = np.asarray(exact7_results[9:10][0])[0]\n",
        "upper_stp7 = np.asarray(exact7_results[14:15][0])[0]"
      ]
    },
    {
      "cell_type": "code",
      "execution_count": 89,
      "metadata": {
        "id": "Ub_-wpK4Qxf8"
      },
      "outputs": [],
      "source": [
        "# Iteration17 :\n",
        "\n",
        "slice17 = 16\n",
        "\n",
        "approx17 = [simple_regret_gp_1[slice17],\n",
        "       simple_regret_gp_2[slice17],\n",
        "       simple_regret_gp_3[slice17],\n",
        "       simple_regret_gp_4[slice17],\n",
        "       simple_regret_gp_5[slice17],\n",
        "       simple_regret_gp_6[slice17],\n",
        "       simple_regret_gp_7[slice17],\n",
        "       simple_regret_gp_8[slice17],\n",
        "       simple_regret_gp_9[slice17],\n",
        "       simple_regret_gp_10[slice17],\n",
        "       simple_regret_gp_11[slice17],\n",
        "       simple_regret_gp_12[slice17],\n",
        "       simple_regret_gp_13[slice17],\n",
        "       simple_regret_gp_14[slice17],\n",
        "       simple_regret_gp_15[slice17],\n",
        "       simple_regret_gp_16[slice17],\n",
        "       simple_regret_gp_17[slice17],\n",
        "       simple_regret_gp_18[slice17],\n",
        "       simple_regret_gp_19[slice17],\n",
        "       simple_regret_gp_20[slice17]]\n",
        "\n",
        "exact17 = [simple_regret_stp_1[slice17],\n",
        "       simple_regret_stp_2[slice17],\n",
        "       simple_regret_stp_3[slice17],\n",
        "       simple_regret_stp_4[slice17],\n",
        "       simple_regret_stp_5[slice17],\n",
        "       simple_regret_stp_6[slice17],\n",
        "       simple_regret_stp_7[slice17],\n",
        "       simple_regret_stp_8[slice17],\n",
        "       simple_regret_stp_9[slice17],\n",
        "       simple_regret_stp_10[slice17],\n",
        "       simple_regret_stp_11[slice17],\n",
        "       simple_regret_stp_12[slice17],\n",
        "       simple_regret_stp_13[slice17],\n",
        "       simple_regret_stp_14[slice17],\n",
        "       simple_regret_stp_15[slice17],\n",
        "       simple_regret_stp_16[slice17],\n",
        "       simple_regret_stp_17[slice17],\n",
        "       simple_regret_stp_18[slice17],\n",
        "       simple_regret_stp_19[slice17],\n",
        "       simple_regret_stp_20[slice17]]\n",
        "\n",
        "approx17_results = pd.DataFrame(approx17).sort_values(by=[0], ascending=False)\n",
        "exact17_results = pd.DataFrame(exact17).sort_values(by=[0], ascending=False)\n",
        "\n",
        "### Best simple regret minimization IQR - approx:\n",
        "lower_gp17 = np.asarray(approx17_results[4:5][0])[0]\n",
        "median_gp17 = np.asarray(approx17_results[9:10][0])[0]\n",
        "upper_gp17 = np.asarray(approx17_results[14:15][0])[0]\n",
        "\n",
        "lower_stp17 = np.asarray(exact17_results[4:5][0])[0]\n",
        "median_stp17 = np.asarray(exact17_results[9:10][0])[0]\n",
        "upper_stp17 = np.asarray(exact17_results[14:15][0])[0]"
      ]
    },
    {
      "cell_type": "code",
      "execution_count": 90,
      "metadata": {
        "id": "-6VLo37PQxf8"
      },
      "outputs": [],
      "source": [
        "# Iteration8 :\n",
        "\n",
        "slice8 = 7\n",
        "\n",
        "approx8 = [simple_regret_gp_1[slice8],\n",
        "       simple_regret_gp_2[slice8],\n",
        "       simple_regret_gp_3[slice8],\n",
        "       simple_regret_gp_4[slice8],\n",
        "       simple_regret_gp_5[slice8],\n",
        "       simple_regret_gp_6[slice8],\n",
        "       simple_regret_gp_7[slice8],\n",
        "       simple_regret_gp_8[slice8],\n",
        "       simple_regret_gp_9[slice8],\n",
        "       simple_regret_gp_10[slice8],\n",
        "       simple_regret_gp_11[slice8],\n",
        "       simple_regret_gp_12[slice8],\n",
        "       simple_regret_gp_13[slice8],\n",
        "       simple_regret_gp_14[slice8],\n",
        "       simple_regret_gp_15[slice8],\n",
        "       simple_regret_gp_16[slice8],\n",
        "       simple_regret_gp_17[slice8],\n",
        "       simple_regret_gp_18[slice8],\n",
        "       simple_regret_gp_19[slice8],\n",
        "       simple_regret_gp_20[slice8]]\n",
        "\n",
        "exact8 = [simple_regret_stp_1[slice8],\n",
        "       simple_regret_stp_2[slice8],\n",
        "       simple_regret_stp_3[slice8],\n",
        "       simple_regret_stp_4[slice8],\n",
        "       simple_regret_stp_5[slice8],\n",
        "       simple_regret_stp_6[slice8],\n",
        "       simple_regret_stp_7[slice8],\n",
        "       simple_regret_stp_8[slice8],\n",
        "       simple_regret_stp_9[slice8],\n",
        "       simple_regret_stp_10[slice8],\n",
        "       simple_regret_stp_11[slice8],\n",
        "       simple_regret_stp_12[slice8],\n",
        "       simple_regret_stp_13[slice8],\n",
        "       simple_regret_stp_14[slice8],\n",
        "       simple_regret_stp_15[slice8],\n",
        "       simple_regret_stp_16[slice8],\n",
        "       simple_regret_stp_17[slice8],\n",
        "       simple_regret_stp_18[slice8],\n",
        "       simple_regret_stp_19[slice8],\n",
        "       simple_regret_stp_20[slice8]]\n",
        "\n",
        "approx8_results = pd.DataFrame(approx8).sort_values(by=[0], ascending=False)\n",
        "exact8_results = pd.DataFrame(exact8).sort_values(by=[0], ascending=False)\n",
        "\n",
        "### Best simple regret minimization IQR - approx:\n",
        "lower_gp8 = np.asarray(approx8_results[4:5][0])[0]\n",
        "median_gp8 = np.asarray(approx8_results[9:10][0])[0]\n",
        "upper_gp8 = np.asarray(approx8_results[14:15][0])[0]\n",
        "\n",
        "lower_stp8 = np.asarray(exact8_results[4:5][0])[0]\n",
        "median_stp8 = np.asarray(exact8_results[9:10][0])[0]\n",
        "upper_stp8 = np.asarray(exact8_results[14:15][0])[0]"
      ]
    },
    {
      "cell_type": "code",
      "execution_count": 91,
      "metadata": {
        "id": "2Dp-9CC2Qxf9"
      },
      "outputs": [],
      "source": [
        "# Iteration18 :\n",
        "\n",
        "slice18 = 17\n",
        "\n",
        "approx18 = [simple_regret_gp_1[slice18],\n",
        "       simple_regret_gp_2[slice18],\n",
        "       simple_regret_gp_3[slice18],\n",
        "       simple_regret_gp_4[slice18],\n",
        "       simple_regret_gp_5[slice18],\n",
        "       simple_regret_gp_6[slice18],\n",
        "       simple_regret_gp_7[slice18],\n",
        "       simple_regret_gp_8[slice18],\n",
        "       simple_regret_gp_9[slice18],\n",
        "       simple_regret_gp_10[slice18],\n",
        "       simple_regret_gp_11[slice18],\n",
        "       simple_regret_gp_12[slice18],\n",
        "       simple_regret_gp_13[slice18],\n",
        "       simple_regret_gp_14[slice18],\n",
        "       simple_regret_gp_15[slice18],\n",
        "       simple_regret_gp_16[slice18],\n",
        "       simple_regret_gp_17[slice18],\n",
        "       simple_regret_gp_18[slice18],\n",
        "       simple_regret_gp_19[slice18],\n",
        "       simple_regret_gp_20[slice18]]\n",
        "\n",
        "exact18 = [simple_regret_stp_1[slice18],\n",
        "       simple_regret_stp_2[slice18],\n",
        "       simple_regret_stp_3[slice18],\n",
        "       simple_regret_stp_4[slice18],\n",
        "       simple_regret_stp_5[slice18],\n",
        "       simple_regret_stp_6[slice18],\n",
        "       simple_regret_stp_7[slice18],\n",
        "       simple_regret_stp_8[slice18],\n",
        "       simple_regret_stp_9[slice18],\n",
        "       simple_regret_stp_10[slice18],\n",
        "       simple_regret_stp_11[slice18],\n",
        "       simple_regret_stp_12[slice18],\n",
        "       simple_regret_stp_13[slice18],\n",
        "       simple_regret_stp_14[slice18],\n",
        "       simple_regret_stp_15[slice18],\n",
        "       simple_regret_stp_16[slice18],\n",
        "       simple_regret_stp_17[slice18],\n",
        "       simple_regret_stp_18[slice18],\n",
        "       simple_regret_stp_19[slice18],\n",
        "       simple_regret_stp_20[slice18]]\n",
        "\n",
        "approx18_results = pd.DataFrame(approx18).sort_values(by=[0], ascending=False)\n",
        "exact18_results = pd.DataFrame(exact18).sort_values(by=[0], ascending=False)\n",
        "\n",
        "### Best simple regret minimization IQR - approx:\n",
        "lower_gp18 = np.asarray(approx18_results[4:5][0])[0]\n",
        "median_gp18 = np.asarray(approx18_results[9:10][0])[0]\n",
        "upper_gp18 = np.asarray(approx18_results[14:15][0])[0]\n",
        "\n",
        "lower_stp18 = np.asarray(exact18_results[4:5][0])[0]\n",
        "median_stp18 = np.asarray(exact18_results[9:10][0])[0]\n",
        "upper_stp18 = np.asarray(exact18_results[14:15][0])[0]"
      ]
    },
    {
      "cell_type": "code",
      "execution_count": 92,
      "metadata": {
        "id": "SqiaOpB7Qxf9"
      },
      "outputs": [],
      "source": [
        "# Iteration9 :\n",
        "\n",
        "slice9 = 8\n",
        "\n",
        "approx9 = [simple_regret_gp_1[slice9],\n",
        "       simple_regret_gp_2[slice9],\n",
        "       simple_regret_gp_3[slice9],\n",
        "       simple_regret_gp_4[slice9],\n",
        "       simple_regret_gp_5[slice9],\n",
        "       simple_regret_gp_6[slice9],\n",
        "       simple_regret_gp_7[slice9],\n",
        "       simple_regret_gp_8[slice9],\n",
        "       simple_regret_gp_9[slice9],\n",
        "       simple_regret_gp_10[slice9],\n",
        "       simple_regret_gp_11[slice9],\n",
        "       simple_regret_gp_12[slice9],\n",
        "       simple_regret_gp_13[slice9],\n",
        "       simple_regret_gp_14[slice9],\n",
        "       simple_regret_gp_15[slice9],\n",
        "       simple_regret_gp_16[slice9],\n",
        "       simple_regret_gp_17[slice9],\n",
        "       simple_regret_gp_18[slice9],\n",
        "       simple_regret_gp_19[slice9],\n",
        "       simple_regret_gp_20[slice9]]\n",
        "\n",
        "exact9 = [simple_regret_stp_1[slice9],\n",
        "       simple_regret_stp_2[slice9],\n",
        "       simple_regret_stp_3[slice9],\n",
        "       simple_regret_stp_4[slice9],\n",
        "       simple_regret_stp_5[slice9],\n",
        "       simple_regret_stp_6[slice9],\n",
        "       simple_regret_stp_7[slice9],\n",
        "       simple_regret_stp_8[slice9],\n",
        "       simple_regret_stp_9[slice9],\n",
        "       simple_regret_stp_10[slice9],\n",
        "       simple_regret_stp_11[slice9],\n",
        "       simple_regret_stp_12[slice9],\n",
        "       simple_regret_stp_13[slice9],\n",
        "       simple_regret_stp_14[slice9],\n",
        "       simple_regret_stp_15[slice9],\n",
        "       simple_regret_stp_16[slice9],\n",
        "       simple_regret_stp_17[slice9],\n",
        "       simple_regret_stp_18[slice9],\n",
        "       simple_regret_stp_19[slice9],\n",
        "       simple_regret_stp_20[slice9]]\n",
        "\n",
        "approx9_results = pd.DataFrame(approx9).sort_values(by=[0], ascending=False)\n",
        "exact9_results = pd.DataFrame(exact9).sort_values(by=[0], ascending=False)\n",
        "\n",
        "### Best simple regret minimization IQR - approx:\n",
        "lower_gp9 = np.asarray(approx9_results[4:5][0])[0]\n",
        "median_gp9 = np.asarray(approx9_results[9:10][0])[0]\n",
        "upper_gp9 = np.asarray(approx9_results[14:15][0])[0]\n",
        "\n",
        "lower_stp9 = np.asarray(exact9_results[4:5][0])[0]\n",
        "median_stp9 = np.asarray(exact9_results[9:10][0])[0]\n",
        "upper_stp9 = np.asarray(exact9_results[14:15][0])[0]"
      ]
    },
    {
      "cell_type": "code",
      "execution_count": 93,
      "metadata": {
        "id": "OQkCCOsPQxf9"
      },
      "outputs": [],
      "source": [
        "# Iteration19 :\n",
        "\n",
        "slice19 = 18\n",
        "\n",
        "approx19 = [simple_regret_gp_1[slice19],\n",
        "       simple_regret_gp_2[slice19],\n",
        "       simple_regret_gp_3[slice19],\n",
        "       simple_regret_gp_4[slice19],\n",
        "       simple_regret_gp_5[slice19],\n",
        "       simple_regret_gp_6[slice19],\n",
        "       simple_regret_gp_7[slice19],\n",
        "       simple_regret_gp_8[slice19],\n",
        "       simple_regret_gp_9[slice19],\n",
        "       simple_regret_gp_10[slice19],\n",
        "       simple_regret_gp_11[slice19],\n",
        "       simple_regret_gp_12[slice19],\n",
        "       simple_regret_gp_13[slice19],\n",
        "       simple_regret_gp_14[slice19],\n",
        "       simple_regret_gp_15[slice19],\n",
        "       simple_regret_gp_16[slice19],\n",
        "       simple_regret_gp_17[slice19],\n",
        "       simple_regret_gp_18[slice19],\n",
        "       simple_regret_gp_19[slice19],\n",
        "       simple_regret_gp_20[slice19]]\n",
        "\n",
        "exact19 = [simple_regret_stp_1[slice19],\n",
        "       simple_regret_stp_2[slice19],\n",
        "       simple_regret_stp_3[slice19],\n",
        "       simple_regret_stp_4[slice19],\n",
        "       simple_regret_stp_5[slice19],\n",
        "       simple_regret_stp_6[slice19],\n",
        "       simple_regret_stp_7[slice19],\n",
        "       simple_regret_stp_8[slice19],\n",
        "       simple_regret_stp_9[slice19],\n",
        "       simple_regret_stp_10[slice19],\n",
        "       simple_regret_stp_11[slice19],\n",
        "       simple_regret_stp_12[slice19],\n",
        "       simple_regret_stp_13[slice19],\n",
        "       simple_regret_stp_14[slice19],\n",
        "       simple_regret_stp_15[slice19],\n",
        "       simple_regret_stp_16[slice19],\n",
        "       simple_regret_stp_17[slice19],\n",
        "       simple_regret_stp_18[slice19],\n",
        "       simple_regret_stp_19[slice19],\n",
        "       simple_regret_stp_20[slice19]]\n",
        "\n",
        "approx19_results = pd.DataFrame(approx19).sort_values(by=[0], ascending=False)\n",
        "exact19_results = pd.DataFrame(exact19).sort_values(by=[0], ascending=False)\n",
        "\n",
        "### Best simple regret minimization IQR - approx:\n",
        "lower_gp19 = np.asarray(approx19_results[4:5][0])[0]\n",
        "median_gp19 = np.asarray(approx19_results[9:10][0])[0]\n",
        "upper_gp19 = np.asarray(approx19_results[14:15][0])[0]\n",
        "\n",
        "lower_stp19 = np.asarray(exact19_results[4:5][0])[0]\n",
        "median_stp19 = np.asarray(exact19_results[9:10][0])[0]\n",
        "upper_stp19 = np.asarray(exact19_results[14:15][0])[0]"
      ]
    },
    {
      "cell_type": "code",
      "execution_count": 94,
      "metadata": {
        "id": "h4vtWahcQxf-"
      },
      "outputs": [],
      "source": [
        "# Iteration10 :\n",
        "\n",
        "slice10 = 9\n",
        "\n",
        "approx10 = [simple_regret_gp_1[slice10],\n",
        "       simple_regret_gp_2[slice10],\n",
        "       simple_regret_gp_3[slice10],\n",
        "       simple_regret_gp_4[slice10],\n",
        "       simple_regret_gp_5[slice10],\n",
        "       simple_regret_gp_6[slice10],\n",
        "       simple_regret_gp_7[slice10],\n",
        "       simple_regret_gp_8[slice10],\n",
        "       simple_regret_gp_9[slice10],\n",
        "       simple_regret_gp_10[slice10],\n",
        "       simple_regret_gp_11[slice10],\n",
        "       simple_regret_gp_12[slice10],\n",
        "       simple_regret_gp_13[slice10],\n",
        "       simple_regret_gp_14[slice10],\n",
        "       simple_regret_gp_15[slice10],\n",
        "       simple_regret_gp_16[slice10],\n",
        "       simple_regret_gp_17[slice10],\n",
        "       simple_regret_gp_18[slice10],\n",
        "       simple_regret_gp_19[slice10],\n",
        "       simple_regret_gp_20[slice10]]\n",
        "\n",
        "exact10 = [simple_regret_stp_1[slice10],\n",
        "       simple_regret_stp_2[slice10],\n",
        "       simple_regret_stp_3[slice10],\n",
        "       simple_regret_stp_4[slice10],\n",
        "       simple_regret_stp_5[slice10],\n",
        "       simple_regret_stp_6[slice10],\n",
        "       simple_regret_stp_7[slice10],\n",
        "       simple_regret_stp_8[slice10],\n",
        "       simple_regret_stp_9[slice10],\n",
        "       simple_regret_stp_10[slice10],\n",
        "       simple_regret_stp_11[slice10],\n",
        "       simple_regret_stp_12[slice10],\n",
        "       simple_regret_stp_13[slice10],\n",
        "       simple_regret_stp_14[slice10],\n",
        "       simple_regret_stp_15[slice10],\n",
        "       simple_regret_stp_16[slice10],\n",
        "       simple_regret_stp_17[slice10],\n",
        "       simple_regret_stp_18[slice10],\n",
        "       simple_regret_stp_19[slice10],\n",
        "       simple_regret_stp_20[slice10]]\n",
        "\n",
        "approx10_results = pd.DataFrame(approx10).sort_values(by=[0], ascending=False)\n",
        "exact10_results = pd.DataFrame(exact10).sort_values(by=[0], ascending=False)\n",
        "\n",
        "### Best simple regret minimization IQR - approx:\n",
        "lower_gp10 = np.asarray(approx10_results[4:5][0])[0]\n",
        "median_gp10 = np.asarray(approx10_results[9:10][0])[0]\n",
        "upper_gp10 = np.asarray(approx10_results[14:15][0])[0]\n",
        "\n",
        "lower_stp10 = np.asarray(exact10_results[4:5][0])[0]\n",
        "median_stp10 = np.asarray(exact10_results[9:10][0])[0]\n",
        "upper_stp10 = np.asarray(exact10_results[14:15][0])[0]"
      ]
    },
    {
      "cell_type": "code",
      "execution_count": 95,
      "metadata": {
        "id": "Rsf240pWQxf-"
      },
      "outputs": [],
      "source": [
        "# Iteration20 :\n",
        "\n",
        "slice20 = 19\n",
        "\n",
        "approx20 = [simple_regret_gp_1[slice20],\n",
        "       simple_regret_gp_2[slice20],\n",
        "       simple_regret_gp_3[slice20],\n",
        "       simple_regret_gp_4[slice20],\n",
        "       simple_regret_gp_5[slice20],\n",
        "       simple_regret_gp_6[slice20],\n",
        "       simple_regret_gp_7[slice20],\n",
        "       simple_regret_gp_8[slice20],\n",
        "       simple_regret_gp_9[slice20],\n",
        "       simple_regret_gp_10[slice20],\n",
        "       simple_regret_gp_11[slice20],\n",
        "       simple_regret_gp_12[slice20],\n",
        "       simple_regret_gp_13[slice20],\n",
        "       simple_regret_gp_14[slice20],\n",
        "       simple_regret_gp_15[slice20],\n",
        "       simple_regret_gp_16[slice20],\n",
        "       simple_regret_gp_17[slice20],\n",
        "       simple_regret_gp_18[slice20],\n",
        "       simple_regret_gp_19[slice20],\n",
        "       simple_regret_gp_20[slice20]]\n",
        "\n",
        "exact20 = [simple_regret_stp_1[slice20],\n",
        "       simple_regret_stp_2[slice20],\n",
        "       simple_regret_stp_3[slice20],\n",
        "       simple_regret_stp_4[slice20],\n",
        "       simple_regret_stp_5[slice20],\n",
        "       simple_regret_stp_6[slice20],\n",
        "       simple_regret_stp_7[slice20],\n",
        "       simple_regret_stp_8[slice20],\n",
        "       simple_regret_stp_9[slice20],\n",
        "       simple_regret_stp_10[slice20],\n",
        "       simple_regret_stp_11[slice20],\n",
        "       simple_regret_stp_12[slice20],\n",
        "       simple_regret_stp_13[slice20],\n",
        "       simple_regret_stp_14[slice20],\n",
        "       simple_regret_stp_15[slice20],\n",
        "       simple_regret_stp_16[slice20],\n",
        "       simple_regret_stp_17[slice20],\n",
        "       simple_regret_stp_18[slice20],\n",
        "       simple_regret_stp_19[slice20],\n",
        "       simple_regret_stp_20[slice20]]\n",
        "\n",
        "approx20_results = pd.DataFrame(approx20).sort_values(by=[0], ascending=False)\n",
        "exact20_results = pd.DataFrame(exact20).sort_values(by=[0], ascending=False)\n",
        "\n",
        "### Best simple regret minimization IQR - approx:\n",
        "lower_gp20 = np.asarray(approx20_results[4:5][0])[0]\n",
        "median_gp20 = np.asarray(approx20_results[9:10][0])[0]\n",
        "upper_gp20 = np.asarray(approx20_results[14:15][0])[0]\n",
        "\n",
        "lower_stp20 = np.asarray(exact20_results[4:5][0])[0]\n",
        "median_stp20 = np.asarray(exact20_results[9:10][0])[0]\n",
        "upper_stp20 = np.asarray(exact20_results[14:15][0])[0]"
      ]
    },
    {
      "cell_type": "code",
      "execution_count": 96,
      "metadata": {
        "id": "gn36RejbQxf_"
      },
      "outputs": [],
      "source": [
        "### Summarize arrays: 'Loser'\n",
        "\n",
        "lower_gp = [lower_gp1,\n",
        "            lower_gp2,\n",
        "            lower_gp3,\n",
        "            lower_gp4,\n",
        "            lower_gp5,\n",
        "            lower_gp6,\n",
        "            lower_gp7,\n",
        "            lower_gp8,\n",
        "            lower_gp9,\n",
        "            lower_gp10,\n",
        "            lower_gp11,\n",
        "            lower_gp12,\n",
        "            lower_gp13,\n",
        "            lower_gp14,\n",
        "            lower_gp15,\n",
        "            lower_gp16,\n",
        "            lower_gp17,\n",
        "            lower_gp18,\n",
        "            lower_gp19,\n",
        "            lower_gp20,\n",
        "            lower_gp21]\n",
        "\n",
        "median_gp = [median_gp1,\n",
        "            median_gp2,\n",
        "            median_gp3,\n",
        "            median_gp4,\n",
        "            median_gp5,\n",
        "            median_gp6,\n",
        "            median_gp7,\n",
        "            median_gp8,\n",
        "            median_gp9,\n",
        "            median_gp10,\n",
        "            median_gp11,\n",
        "            median_gp12,\n",
        "            median_gp13,\n",
        "            median_gp14,\n",
        "            median_gp15,\n",
        "            median_gp16,\n",
        "            median_gp17,\n",
        "            median_gp18,\n",
        "            median_gp19,\n",
        "            median_gp20,\n",
        "            median_gp21]\n",
        "\n",
        "upper_gp = [upper_gp1,\n",
        "            upper_gp2,\n",
        "            upper_gp3,\n",
        "            upper_gp4,\n",
        "            upper_gp5,\n",
        "            upper_gp6,\n",
        "            upper_gp7,\n",
        "            upper_gp8,\n",
        "            upper_gp9,\n",
        "            upper_gp10,\n",
        "            upper_gp11,\n",
        "            upper_gp12,\n",
        "            upper_gp13,\n",
        "            upper_gp14,\n",
        "            upper_gp15,\n",
        "            upper_gp16,\n",
        "            upper_gp17,\n",
        "            upper_gp18,\n",
        "            upper_gp19,\n",
        "            upper_gp20,\n",
        "            upper_gp21]"
      ]
    },
    {
      "cell_type": "code",
      "execution_count": 97,
      "metadata": {
        "id": "wxtGTOYfQxf_"
      },
      "outputs": [],
      "source": [
        "### Summarize arrays: 'exact'\n",
        "\n",
        "lower_stp = [lower_stp1,\n",
        "            lower_stp2,\n",
        "            lower_stp3,\n",
        "            lower_stp4,\n",
        "            lower_stp5,\n",
        "            lower_stp6,\n",
        "            lower_stp7,\n",
        "            lower_stp8,\n",
        "            lower_stp9,\n",
        "            lower_stp10,\n",
        "            lower_stp11,\n",
        "            lower_stp12,\n",
        "            lower_stp13,\n",
        "            lower_stp14,\n",
        "            lower_stp15,\n",
        "            lower_stp16,\n",
        "            lower_stp17,\n",
        "            lower_stp18,\n",
        "            lower_stp19,\n",
        "            lower_stp20,\n",
        "            lower_stp21]\n",
        "\n",
        "median_stp = [median_stp1,\n",
        "            median_stp2,\n",
        "            median_stp3,\n",
        "            median_stp4,\n",
        "            median_stp5,\n",
        "            median_stp6,\n",
        "            median_stp7,\n",
        "            median_stp8,\n",
        "            median_stp9,\n",
        "            median_stp10,\n",
        "            median_stp11,\n",
        "            median_stp12,\n",
        "            median_stp13,\n",
        "            median_stp14,\n",
        "            median_stp15,\n",
        "            median_stp16,\n",
        "            median_stp17,\n",
        "            median_stp18,\n",
        "            median_stp19,\n",
        "            median_stp20,\n",
        "            median_stp21]\n",
        "\n",
        "upper_stp = [upper_stp1,\n",
        "            upper_stp2,\n",
        "            upper_stp3,\n",
        "            upper_stp4,\n",
        "            upper_stp5,\n",
        "            upper_stp6,\n",
        "            upper_stp7,\n",
        "            upper_stp8,\n",
        "            upper_stp9,\n",
        "            upper_stp10,\n",
        "            upper_stp11,\n",
        "            upper_stp12,\n",
        "            upper_stp13,\n",
        "            upper_stp14,\n",
        "            upper_stp15,\n",
        "            upper_stp16,\n",
        "            upper_stp17,\n",
        "            upper_stp18,\n",
        "            upper_stp19,\n",
        "            upper_stp20,\n",
        "            upper_stp21]"
      ]
    },
    {
      "cell_type": "code",
      "execution_count": 98,
      "metadata": {
        "id": "2MONq-BXQxgA",
        "colab": {
          "base_uri": "https://localhost:8080/",
          "height": 299
        },
        "outputId": "48637461-b19b-4603-ae12-4e751c2ac7b8"
      },
      "outputs": [
        {
          "output_type": "display_data",
          "data": {
            "text/plain": [
              "<Figure size 432x288 with 1 Axes>"
            ],
            "image/png": "[encoded data removed]"
          },
          "metadata": {
            "needs_background": "light"
          }
        }
      ],
      "source": [
        "### Visualise!\n",
        "\n",
        "title = func\n",
        "plt.figure()\n",
        "\n",
        "plt.plot(median_gp, color = 'Red', ls='-')\n",
        "plt.plot(median_stp, color = 'Red', ls='--')\n",
        "\n",
        "xstar = np.arange(0, iters+1, step=1)\n",
        "plt.fill_between(xstar, lower_gp, upper_gp, facecolor = 'Red', alpha=0.2, label='GP EI Optimisation: Exact GP dEI gradients')\n",
        "plt.fill_between(xstar, lower_stp, upper_stp, facecolor = 'Red', alpha=0.4, label='STP EI Optimisation: Exact STP dEI gradients ' r'($\\nu$' ' = {})'.format(df))\n",
        "\n",
        "plt.title(title, weight = 'bold')\n",
        "plt.xlabel('(Post-initialisation) iteration $\\it{k}$', weight = 'bold')\n",
        "plt.ylabel('log(Regret)', weight = 'bold') \n",
        "plt.legend(loc=0) # add plot legend\n",
        "\n",
        "### Make the x-ticks integers, not floats:\n",
        "count = len(xstar)\n",
        "plt.xticks(np.arange(count), np.arange(0, count))\n",
        "plt.show() #visualise!\n"
      ]
    },
    {
      "cell_type": "code",
      "execution_count": 99,
      "metadata": {
        "id": "l5dkR2Id2oiu",
        "colab": {
          "base_uri": "https://localhost:8080/"
        },
        "outputId": "073a427e-9702-428d-adf0-7b3c76602280"
      },
      "outputs": [
        {
          "output_type": "execute_result",
          "data": {
            "text/plain": [
              "(671.3383712768555, 1103.5126180648804)"
            ]
          },
          "metadata": {},
          "execution_count": 99
        }
      ],
      "source": [
        "time_gp, time_stp\n"
      ]
    },
    {
      "cell_type": "code",
      "source": [
        "### acqFunc attribute x, stddev: run number = 1\n",
        "\n",
        "acqFuncgp_gp_1 = acqFuncExact(gp_1.history)\n",
        "acqFuncstp_stp_1 = acqFuncExact(stp_1.history)\n",
        "\n",
        "e1 = np.mean(acqFuncstp_stp_1)\n",
        "a1 = np.mean(acqFuncgp_gp_1)\n",
        "\n",
        "e1, a1\n"
      ],
      "metadata": {
        "colab": {
          "base_uri": "https://localhost:8080/"
        },
        "id": "uwxv4dmfGsLr",
        "outputId": "51031ce6-da69-4be3-aa5e-156cd9fbfefb"
      },
      "execution_count": 100,
      "outputs": [
        {
          "output_type": "execute_result",
          "data": {
            "text/plain": [
              "(1.421747415860772, 1.476675590863188)"
            ]
          },
          "metadata": {},
          "execution_count": 100
        }
      ]
    },
    {
      "cell_type": "code",
      "source": [
        "### acqFunc attribute x, stddev: run number = 2\n",
        "\n",
        "acqFuncgp_gp_2 = acqFuncExact(gp_2.history)\n",
        "acqFuncstp_stp_2 = acqFuncExact(stp_2.history)\n",
        "\n",
        "e2 = np.mean(acqFuncstp_stp_2)\n",
        "a2 = np.mean(acqFuncgp_gp_2)\n",
        "\n",
        "e2, a2\n"
      ],
      "metadata": {
        "colab": {
          "base_uri": "https://localhost:8080/"
        },
        "id": "0YSV00_pGsXe",
        "outputId": "92ee079e-7b68-4b6d-dae2-80e28bee0b45"
      },
      "execution_count": 101,
      "outputs": [
        {
          "output_type": "execute_result",
          "data": {
            "text/plain": [
              "(1.4105674579631553, 1.4996800213123533)"
            ]
          },
          "metadata": {},
          "execution_count": 101
        }
      ]
    },
    {
      "cell_type": "code",
      "source": [
        "### acqFunc attribute x, stddev: run number = 3\n",
        "\n",
        "acqFuncgp_gp_3 = acqFuncExact(gp_3.history)\n",
        "acqFuncstp_stp_3 = acqFuncExact(stp_3.history)\n",
        "\n",
        "e3 = np.mean(acqFuncstp_stp_3)\n",
        "a3 = np.mean(acqFuncgp_gp_3)\n",
        "\n",
        "e3, a3\n"
      ],
      "metadata": {
        "colab": {
          "base_uri": "https://localhost:8080/"
        },
        "id": "HHVmsd2UGsjT",
        "outputId": "ddfeb47d-ad76-4614-f59d-98cc93357f10"
      },
      "execution_count": 102,
      "outputs": [
        {
          "output_type": "execute_result",
          "data": {
            "text/plain": [
              "(1.4303050911007906, 1.367983575155535)"
            ]
          },
          "metadata": {},
          "execution_count": 102
        }
      ]
    },
    {
      "cell_type": "code",
      "source": [
        "### acqFunc attribute x, stddev: run number = 4\n",
        "\n",
        "acqFuncgp_gp_4 = acqFuncExact(gp_4.history)\n",
        "acqFuncstp_stp_4 = acqFuncExact(stp_4.history)\n",
        "\n",
        "e4 = np.mean(acqFuncstp_stp_4)\n",
        "a4 = np.mean(acqFuncgp_gp_4)\n",
        "\n",
        "e4, a4\n"
      ],
      "metadata": {
        "colab": {
          "base_uri": "https://localhost:8080/"
        },
        "id": "r7O19S2eGsu7",
        "outputId": "70cdffa1-a6a7-42e3-df77-093f05cf51da"
      },
      "execution_count": 103,
      "outputs": [
        {
          "output_type": "execute_result",
          "data": {
            "text/plain": [
              "(1.358371423713778, 1.469826818232934)"
            ]
          },
          "metadata": {},
          "execution_count": 103
        }
      ]
    },
    {
      "cell_type": "code",
      "source": [
        "### acqFunc attribute x, stddev: run number = 5\n",
        "\n",
        "acqFuncgp_gp_5 = acqFuncExact(gp_5.history)\n",
        "acqFuncstp_stp_5 = acqFuncExact(stp_5.history)\n",
        "\n",
        "e5 = np.mean(acqFuncstp_stp_5)\n",
        "a5 = np.mean(acqFuncgp_gp_5)\n",
        "\n",
        "e5, a5\n"
      ],
      "metadata": {
        "colab": {
          "base_uri": "https://localhost:8080/"
        },
        "id": "sdb9o6NuGs5m",
        "outputId": "7a2583e4-7f7a-4d91-d7e5-457394b3c750"
      },
      "execution_count": 104,
      "outputs": [
        {
          "output_type": "execute_result",
          "data": {
            "text/plain": [
              "(1.4027560377688648, 1.46382647088558)"
            ]
          },
          "metadata": {},
          "execution_count": 104
        }
      ]
    },
    {
      "cell_type": "code",
      "source": [
        "### acqFunc attribute x, stddev: run number = 6\n",
        "\n",
        "acqFuncgp_gp_6 = acqFuncExact(gp_6.history)\n",
        "acqFuncstp_stp_6 = acqFuncExact(stp_6.history)\n",
        "\n",
        "e6 = np.mean(acqFuncstp_stp_6)\n",
        "a6 = np.mean(acqFuncgp_gp_6)\n",
        "\n",
        "e6, a6\n"
      ],
      "metadata": {
        "colab": {
          "base_uri": "https://localhost:8080/"
        },
        "id": "COQl7LZ8GtE0",
        "outputId": "1f035ba7-bb78-4558-c3f7-b1f1ef359010"
      },
      "execution_count": 105,
      "outputs": [
        {
          "output_type": "execute_result",
          "data": {
            "text/plain": [
              "(1.433301789130808, 1.6393378188417596)"
            ]
          },
          "metadata": {},
          "execution_count": 105
        }
      ]
    },
    {
      "cell_type": "code",
      "source": [
        "### acqFunc attribute x, stddev: run number = 7\n",
        "\n",
        "acqFuncgp_gp_7 = acqFuncExact(gp_7.history)\n",
        "acqFuncstp_stp_7 = acqFuncExact(stp_7.history)\n",
        "\n",
        "e7 = np.mean(acqFuncstp_stp_7)\n",
        "a7 = np.mean(acqFuncgp_gp_7)\n",
        "\n",
        "e7, a7\n"
      ],
      "metadata": {
        "colab": {
          "base_uri": "https://localhost:8080/"
        },
        "id": "2gy9EtTzGtP7",
        "outputId": "05c8e2ec-253b-406c-8d25-75c1d3385ae2"
      },
      "execution_count": 106,
      "outputs": [
        {
          "output_type": "execute_result",
          "data": {
            "text/plain": [
              "(1.3825635855499845, 1.5062846109210342)"
            ]
          },
          "metadata": {},
          "execution_count": 106
        }
      ]
    },
    {
      "cell_type": "code",
      "source": [
        "### acqFunc attribute x, stddev: run number = 8\n",
        "\n",
        "acqFuncgp_gp_8 = acqFuncExact(gp_8.history)\n",
        "acqFuncstp_stp_8 = acqFuncExact(stp_8.history)\n",
        "\n",
        "e8 = np.mean(acqFuncstp_stp_8)\n",
        "a8 = np.mean(acqFuncgp_gp_8)\n",
        "\n",
        "e8, a8\n"
      ],
      "metadata": {
        "colab": {
          "base_uri": "https://localhost:8080/"
        },
        "id": "S7mn0qoMGtbM",
        "outputId": "30e48b44-fef9-4166-9026-fcd5da394440"
      },
      "execution_count": 107,
      "outputs": [
        {
          "output_type": "execute_result",
          "data": {
            "text/plain": [
              "(1.419371690256399, 1.366242572772194)"
            ]
          },
          "metadata": {},
          "execution_count": 107
        }
      ]
    },
    {
      "cell_type": "code",
      "source": [
        "### acqFunc attribute x, stddev: run number = 9\n",
        "\n",
        "acqFuncgp_gp_9 = acqFuncExact(gp_9.history)\n",
        "acqFuncstp_stp_9 = acqFuncExact(stp_9.history)\n",
        "\n",
        "e9 = np.mean(acqFuncstp_stp_9)\n",
        "a9 = np.mean(acqFuncgp_gp_9)\n",
        "\n",
        "e9, a9\n"
      ],
      "metadata": {
        "colab": {
          "base_uri": "https://localhost:8080/"
        },
        "id": "BhljmkNxGtms",
        "outputId": "23a967f9-b8ca-4dd6-ff99-dab883644f13"
      },
      "execution_count": 108,
      "outputs": [
        {
          "output_type": "execute_result",
          "data": {
            "text/plain": [
              "(1.3849969335508647, 1.4149994884753994)"
            ]
          },
          "metadata": {},
          "execution_count": 108
        }
      ]
    },
    {
      "cell_type": "code",
      "source": [
        "### acqFunc attribute x, stddev: run number = 10\n",
        "\n",
        "acqFuncgp_gp_10 = acqFuncExact(gp_10.history)\n",
        "acqFuncstp_stp_10 = acqFuncExact(stp_10.history)\n",
        "\n",
        "e10 = np.mean(acqFuncstp_stp_10)\n",
        "a10 = np.mean(acqFuncgp_gp_10)\n",
        "\n",
        "e10, a10\n"
      ],
      "metadata": {
        "colab": {
          "base_uri": "https://localhost:8080/"
        },
        "id": "W5GZo6k3Gtx8",
        "outputId": "a5a7540e-c8ea-4135-d61f-150b81a85df2"
      },
      "execution_count": 109,
      "outputs": [
        {
          "output_type": "execute_result",
          "data": {
            "text/plain": [
              "(1.3036856983351466, 1.4544056107222438)"
            ]
          },
          "metadata": {},
          "execution_count": 109
        }
      ]
    },
    {
      "cell_type": "code",
      "source": [
        "### acqFunc attribute x, stddev: run number = 11\n",
        "\n",
        "acqFuncgp_gp_11 = acqFuncExact(gp_11.history)\n",
        "acqFuncstp_stp_11 = acqFuncExact(stp_11.history)\n",
        "\n",
        "e11 = np.mean(acqFuncstp_stp_11)\n",
        "a11 = np.mean(acqFuncgp_gp_11)\n",
        "\n",
        "e11, a11\n"
      ],
      "metadata": {
        "colab": {
          "base_uri": "https://localhost:8080/"
        },
        "id": "isKNhDk5Gt9D",
        "outputId": "4d7e5b2e-077f-4d45-c5a6-1e3e3eae417a"
      },
      "execution_count": 110,
      "outputs": [
        {
          "output_type": "execute_result",
          "data": {
            "text/plain": [
              "(1.4522846237274158, 1.3974414186307933)"
            ]
          },
          "metadata": {},
          "execution_count": 110
        }
      ]
    },
    {
      "cell_type": "code",
      "source": [
        "### acqFunc attribute x, stddev: run number = 12\n",
        "\n",
        "acqFuncgp_gp_12 = acqFuncExact(gp_12.history)\n",
        "acqFuncstp_stp_12 = acqFuncExact(stp_12.history)\n",
        "\n",
        "e12 = np.mean(acqFuncstp_stp_12)\n",
        "a12 = np.mean(acqFuncgp_gp_12)\n",
        "\n",
        "e12, a12\n"
      ],
      "metadata": {
        "colab": {
          "base_uri": "https://localhost:8080/"
        },
        "id": "8ts-wrSuGuIm",
        "outputId": "70b50af8-ff84-4748-cbd9-8869b709d2bd"
      },
      "execution_count": 111,
      "outputs": [
        {
          "output_type": "execute_result",
          "data": {
            "text/plain": [
              "(1.3652212642642272, 1.4980559065199122)"
            ]
          },
          "metadata": {},
          "execution_count": 111
        }
      ]
    },
    {
      "cell_type": "code",
      "source": [
        "### acqFunc attribute x, stddev: run number = 13\n",
        "\n",
        "acqFuncgp_gp_13 = acqFuncExact(gp_13.history)\n",
        "acqFuncstp_stp_13 = acqFuncExact(stp_13.history)\n",
        "\n",
        "e13 = np.mean(acqFuncstp_stp_13)\n",
        "a13 = np.mean(acqFuncgp_gp_13)\n",
        "\n",
        "e13, a13\n"
      ],
      "metadata": {
        "colab": {
          "base_uri": "https://localhost:8080/"
        },
        "id": "n0drhEe3GuUL",
        "outputId": "17ec7e03-9ec0-482c-89f4-98fbebc384d1"
      },
      "execution_count": 112,
      "outputs": [
        {
          "output_type": "execute_result",
          "data": {
            "text/plain": [
              "(1.5668955943244947, 1.4776308484427374)"
            ]
          },
          "metadata": {},
          "execution_count": 112
        }
      ]
    },
    {
      "cell_type": "code",
      "source": [
        "### acqFunc attribute x, stddev: run number = 14\n",
        "\n",
        "acqFuncgp_gp_14 = acqFuncExact(gp_14.history)\n",
        "acqFuncstp_stp_14 = acqFuncExact(stp_14.history)\n",
        "\n",
        "e14 = np.mean(acqFuncstp_stp_14)\n",
        "a14 = np.mean(acqFuncgp_gp_14)\n",
        "\n",
        "e14, a14\n"
      ],
      "metadata": {
        "colab": {
          "base_uri": "https://localhost:8080/"
        },
        "id": "R0W3MZaVGues",
        "outputId": "62b7d861-d3c3-4e37-9ac7-dedfb41f9dcc"
      },
      "execution_count": 113,
      "outputs": [
        {
          "output_type": "execute_result",
          "data": {
            "text/plain": [
              "(1.4147647345037606, 1.4807385309784702)"
            ]
          },
          "metadata": {},
          "execution_count": 113
        }
      ]
    },
    {
      "cell_type": "code",
      "source": [
        "### acqFunc attribute x, stddev: run number = 15\n",
        "\n",
        "acqFuncgp_gp_15 = acqFuncExact(gp_15.history)\n",
        "acqFuncstp_stp_15 = acqFuncExact(stp_15.history)\n",
        "\n",
        "e15 = np.mean(acqFuncstp_stp_15)\n",
        "a15 = np.mean(acqFuncgp_gp_15)\n",
        "\n",
        "e15, a15\n"
      ],
      "metadata": {
        "colab": {
          "base_uri": "https://localhost:8080/"
        },
        "id": "DoXdDFHoGup-",
        "outputId": "227dc395-d53d-4294-a376-f5fa58d05343"
      },
      "execution_count": 114,
      "outputs": [
        {
          "output_type": "execute_result",
          "data": {
            "text/plain": [
              "(1.3373181025791065, 1.4900536935428648)"
            ]
          },
          "metadata": {},
          "execution_count": 114
        }
      ]
    },
    {
      "cell_type": "code",
      "source": [
        "### acqFunc attribute x, stddev: run number = 16\n",
        "\n",
        "acqFuncgp_gp_16 = acqFuncExact(gp_16.history)\n",
        "acqFuncstp_stp_16 = acqFuncExact(stp_16.history)\n",
        "\n",
        "e16 = np.mean(acqFuncstp_stp_16)\n",
        "a16 = np.mean(acqFuncgp_gp_16)\n",
        "\n",
        "e16, a16\n"
      ],
      "metadata": {
        "colab": {
          "base_uri": "https://localhost:8080/"
        },
        "id": "K_wAeqSoGu2j",
        "outputId": "0effdba1-14de-4400-8929-c8c25f155d30"
      },
      "execution_count": 115,
      "outputs": [
        {
          "output_type": "execute_result",
          "data": {
            "text/plain": [
              "(1.3616886460248656, 1.5020185004871975)"
            ]
          },
          "metadata": {},
          "execution_count": 115
        }
      ]
    },
    {
      "cell_type": "code",
      "source": [
        "### acqFunc attribute x, stddev: run number = 17\n",
        "\n",
        "acqFuncgp_gp_17 = acqFuncExact(gp_17.history)\n",
        "acqFuncstp_stp_17 = acqFuncExact(stp_17.history)\n",
        "\n",
        "e17 = np.mean(acqFuncstp_stp_17)\n",
        "a17 = np.mean(acqFuncgp_gp_17)\n",
        "\n",
        "e17, a17\n"
      ],
      "metadata": {
        "colab": {
          "base_uri": "https://localhost:8080/"
        },
        "id": "n6zy78fjGvBT",
        "outputId": "9b6df2fd-c92c-475f-932f-e81b5635e823"
      },
      "execution_count": 116,
      "outputs": [
        {
          "output_type": "execute_result",
          "data": {
            "text/plain": [
              "(1.3572020456955285, 1.437114338653251)"
            ]
          },
          "metadata": {},
          "execution_count": 116
        }
      ]
    },
    {
      "cell_type": "code",
      "source": [
        "### acqFunc attribute x, stddev: run number = 18\n",
        "\n",
        "acqFuncgp_gp_18 = acqFuncExact(gp_18.history)\n",
        "acqFuncstp_stp_18 = acqFuncExact(stp_18.history)\n",
        "\n",
        "e18 = np.mean(acqFuncstp_stp_18)\n",
        "a18 = np.mean(acqFuncgp_gp_18)\n",
        "\n",
        "e18, a18\n"
      ],
      "metadata": {
        "colab": {
          "base_uri": "https://localhost:8080/"
        },
        "id": "s_6_2K4iGvM-",
        "outputId": "8cd5df0d-f3a3-4f98-cb71-48353618acd7"
      },
      "execution_count": 117,
      "outputs": [
        {
          "output_type": "execute_result",
          "data": {
            "text/plain": [
              "(1.2947783386901048, 1.442749128490599)"
            ]
          },
          "metadata": {},
          "execution_count": 117
        }
      ]
    },
    {
      "cell_type": "code",
      "source": [
        "### acqFunc attribute x, stddev: run number = 19\n",
        "\n",
        "acqFuncgp_gp_19 = acqFuncExact(gp_19.history)\n",
        "acqFuncstp_stp_19 = acqFuncExact(stp_19.history)\n",
        "\n",
        "e19 = np.mean(acqFuncstp_stp_19)\n",
        "a19 = np.mean(acqFuncgp_gp_19)\n",
        "\n",
        "e19, a19\n"
      ],
      "metadata": {
        "colab": {
          "base_uri": "https://localhost:8080/"
        },
        "id": "o8oO8pdBGvYk",
        "outputId": "cac00663-99e6-4ae7-bafc-b6bcb4c9f650"
      },
      "execution_count": 118,
      "outputs": [
        {
          "output_type": "execute_result",
          "data": {
            "text/plain": [
              "(1.6018896505954205, 1.428714441040094)"
            ]
          },
          "metadata": {},
          "execution_count": 118
        }
      ]
    },
    {
      "cell_type": "code",
      "source": [
        "### acqFunc attribute x, stddev: run number = 20\n",
        "\n",
        "acqFuncgp_gp_20 = acqFuncExact(gp_20.history)\n",
        "acqFuncstp_stp_20 = acqFuncExact(stp_20.history)\n",
        "\n",
        "e20 = np.mean(acqFuncstp_stp_20)\n",
        "a20 = np.mean(acqFuncgp_gp_20)\n",
        "\n",
        "e20, a20\n"
      ],
      "metadata": {
        "colab": {
          "base_uri": "https://localhost:8080/"
        },
        "id": "b2w8oLc0IMzU",
        "outputId": "3feb3128-e2ac-4c49-f0df-98a13d1ce06c"
      },
      "execution_count": 119,
      "outputs": [
        {
          "output_type": "execute_result",
          "data": {
            "text/plain": [
              "(1.317174692334665, 1.4510673591225325)"
            ]
          },
          "metadata": {},
          "execution_count": 119
        }
      ]
    },
    {
      "cell_type": "code",
      "source": [
        "### Summarize arrays: \n",
        "\n",
        "stp_stddev = np.sort([e1,e2,e3,e4,e5,e6,e7,e8,e9,e10,e11,e12,e13,e14,e15,e16,e17,e18,e19,e20])\n",
        "gp_stddev = np.sort([a1,a2,a3,a4,a5,a6,a7,a8,a9,a10,a11,a12,a13,a14,a15,a16,a17,a18,a19,a20])\n",
        "\n",
        "np.mean(stp_stddev), np.mean(gp_stddev)\n"
      ],
      "metadata": {
        "colab": {
          "base_uri": "https://localhost:8080/"
        },
        "id": "qAZs3yxMIZul",
        "outputId": "421b9c65-3b9c-4e92-8a09-bfe509bf7072"
      },
      "execution_count": 120,
      "outputs": [
        {
          "output_type": "execute_result",
          "data": {
            "text/plain": [
              "(1.4008442407985078, 1.4632423372045338)"
            ]
          },
          "metadata": {},
          "execution_count": 120
        }
      ]
    },
    {
      "cell_type": "code",
      "source": [
        "### Visualise!\n",
        "\n",
        "title = func\n",
        "plt.figure()\n",
        "\n",
        "plt.plot(gp_stddev, color = 'Red', ls='--', label='Average $\\sigma$, attribute $\\mathbf{x}$: Exact GP dEI gradients')\n",
        "plt.plot(stp_stddev, color = 'Red', ls='-', label='Average $\\sigma$, attribute $\\mathbf{x}$: Exact STP dEI gradients')\n",
        "\n",
        "plt.title(title, weight = 'bold')\n",
        "plt.xlabel('Function evaluations: iteration $\\it{k}$', weight = 'bold')\n",
        "plt.ylabel('GP EI, STP EI: Average $\\sigma$, attribute $\\mathbf{x}$', weight = 'bold') \n",
        "plt.legend(loc=0) # add plot legend\n",
        "\n",
        "### Make the x-ticks integers, not floats:\n",
        "count = len(xstar)\n",
        "plt.xticks(np.arange(count), np.arange(1, count))\n",
        "plt.show() #visualize!\n"
      ],
      "metadata": {
        "colab": {
          "base_uri": "https://localhost:8080/",
          "height": 297
        },
        "id": "e_kpqYcMIZxu",
        "outputId": "0a09ec59-261b-42b8-8f41-5f5aa046ecf3"
      },
      "execution_count": 121,
      "outputs": [
        {
          "output_type": "display_data",
          "data": {
            "text/plain": [
              "<Figure size 432x288 with 1 Axes>"
            ],
            "image/png": "[encoded data removed]"
          },
          "metadata": {
            "needs_background": "light"
          }
        }
      ]
    },
    {
      "cell_type": "code",
      "source": [],
      "metadata": {
        "id": "LToGd4vZIZ3I"
      },
      "execution_count": 121,
      "outputs": []
    }
  ],
  "metadata": {
    "colab": {
      "collapsed_sections": [],
      "provenance": []
    },
    "kernelspec": {
      "display_name": "Python 3",
      "name": "python3"
    },
    "language_info": {
      "name": "python"
    }
  },
  "nbformat": 4,
  "nbformat_minor": 0
}