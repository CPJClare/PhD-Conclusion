{
  "cells": [
    {
      "cell_type": "markdown",
      "metadata": {
        "id": "Dqn4dFx7Z2Ir"
      },
      "source": [
        "\n",
        "Rastrigin: 2D\n"
      ]
    },
    {
      "cell_type": "code",
      "execution_count": 1,
      "metadata": {
        "colab": {
          "base_uri": "https://localhost:8080/"
        },
        "id": "MJTM_GZZZb5x",
        "outputId": "25528da3-548b-425f-83b4-c9797c221014"
      },
      "outputs": [
        {
          "output_type": "stream",
          "name": "stdout",
          "text": [
            "Looking in indexes: https://pypi.org/simple, https://us-python.pkg.dev/colab-wheels/public/simple/\n",
            "Collecting pyGPGO\n",
            "  Downloading pyGPGO-0.5.1.tar.gz (14 kB)\n",
            "Requirement already satisfied: numpy in /usr/local/lib/python3.7/dist-packages (from pyGPGO) (1.21.6)\n",
            "Requirement already satisfied: mkl in /usr/local/lib/python3.7/dist-packages (from pyGPGO) (2019.0)\n",
            "Requirement already satisfied: scipy in /usr/local/lib/python3.7/dist-packages (from pyGPGO) (1.7.3)\n",
            "Requirement already satisfied: joblib in /usr/local/lib/python3.7/dist-packages (from pyGPGO) (1.1.0)\n",
            "Requirement already satisfied: scikit-learn in /usr/local/lib/python3.7/dist-packages (from pyGPGO) (1.0.2)\n",
            "Collecting Theano-PyMC\n",
            "  Downloading Theano-PyMC-1.1.2.tar.gz (1.8 MB)\n",
            "\u001b[K     |████████████████████████████████| 1.8 MB 4.2 MB/s \n",
            "\u001b[?25hCollecting pyMC3\n",
            "  Downloading pymc3-3.11.5-py3-none-any.whl (872 kB)\n",
            "\u001b[K     |████████████████████████████████| 872 kB 45.5 MB/s \n",
            "\u001b[?25hRequirement already satisfied: intel-openmp in /usr/local/lib/python3.7/dist-packages (from mkl->pyGPGO) (2022.1.0)\n",
            "Requirement already satisfied: fastprogress>=0.2.0 in /usr/local/lib/python3.7/dist-packages (from pyMC3->pyGPGO) (1.0.3)\n",
            "Collecting semver>=2.13.0\n",
            "  Downloading semver-2.13.0-py2.py3-none-any.whl (12 kB)\n",
            "Requirement already satisfied: typing-extensions>=3.7.4 in /usr/local/lib/python3.7/dist-packages (from pyMC3->pyGPGO) (4.1.1)\n",
            "Requirement already satisfied: dill in /usr/local/lib/python3.7/dist-packages (from pyMC3->pyGPGO) (0.3.5.1)\n",
            "Requirement already satisfied: patsy>=0.5.1 in /usr/local/lib/python3.7/dist-packages (from pyMC3->pyGPGO) (0.5.2)\n",
            "Requirement already satisfied: pandas>=0.24.0 in /usr/local/lib/python3.7/dist-packages (from pyMC3->pyGPGO) (1.3.5)\n",
            "Requirement already satisfied: cachetools>=4.2.1 in /usr/local/lib/python3.7/dist-packages (from pyMC3->pyGPGO) (4.2.4)\n",
            "Requirement already satisfied: arviz>=0.11.0 in /usr/local/lib/python3.7/dist-packages (from pyMC3->pyGPGO) (0.12.1)\n",
            "Collecting deprecat\n",
            "  Downloading deprecat-2.1.1-py2.py3-none-any.whl (9.8 kB)\n",
            "Requirement already satisfied: filelock in /usr/local/lib/python3.7/dist-packages (from Theano-PyMC->pyGPGO) (3.8.0)\n",
            "Requirement already satisfied: setuptools>=38.4 in /usr/local/lib/python3.7/dist-packages (from arviz>=0.11.0->pyMC3->pyGPGO) (57.4.0)\n",
            "Requirement already satisfied: matplotlib>=3.0 in /usr/local/lib/python3.7/dist-packages (from arviz>=0.11.0->pyMC3->pyGPGO) (3.2.2)\n",
            "Requirement already satisfied: xarray>=0.16.1 in /usr/local/lib/python3.7/dist-packages (from arviz>=0.11.0->pyMC3->pyGPGO) (0.20.2)\n",
            "Requirement already satisfied: netcdf4 in /usr/local/lib/python3.7/dist-packages (from arviz>=0.11.0->pyMC3->pyGPGO) (1.6.0)\n",
            "Requirement already satisfied: xarray-einstats>=0.2 in /usr/local/lib/python3.7/dist-packages (from arviz>=0.11.0->pyMC3->pyGPGO) (0.2.2)\n",
            "Requirement already satisfied: packaging in /usr/local/lib/python3.7/dist-packages (from arviz>=0.11.0->pyMC3->pyGPGO) (21.3)\n",
            "Requirement already satisfied: pyparsing!=2.0.4,!=2.1.2,!=2.1.6,>=2.0.1 in /usr/local/lib/python3.7/dist-packages (from matplotlib>=3.0->arviz>=0.11.0->pyMC3->pyGPGO) (3.0.9)\n",
            "Requirement already satisfied: kiwisolver>=1.0.1 in /usr/local/lib/python3.7/dist-packages (from matplotlib>=3.0->arviz>=0.11.0->pyMC3->pyGPGO) (1.4.4)\n",
            "Requirement already satisfied: cycler>=0.10 in /usr/local/lib/python3.7/dist-packages (from matplotlib>=3.0->arviz>=0.11.0->pyMC3->pyGPGO) (0.11.0)\n",
            "Requirement already satisfied: python-dateutil>=2.1 in /usr/local/lib/python3.7/dist-packages (from matplotlib>=3.0->arviz>=0.11.0->pyMC3->pyGPGO) (2.8.2)\n",
            "Requirement already satisfied: pytz>=2017.3 in /usr/local/lib/python3.7/dist-packages (from pandas>=0.24.0->pyMC3->pyGPGO) (2022.2.1)\n",
            "Requirement already satisfied: six in /usr/local/lib/python3.7/dist-packages (from patsy>=0.5.1->pyMC3->pyGPGO) (1.15.0)\n",
            "Requirement already satisfied: importlib-metadata in /usr/local/lib/python3.7/dist-packages (from xarray>=0.16.1->arviz>=0.11.0->pyMC3->pyGPGO) (4.12.0)\n",
            "Requirement already satisfied: wrapt<2,>=1.10 in /usr/local/lib/python3.7/dist-packages (from deprecat->pyMC3->pyGPGO) (1.14.1)\n",
            "Requirement already satisfied: zipp>=0.5 in /usr/local/lib/python3.7/dist-packages (from importlib-metadata->xarray>=0.16.1->arviz>=0.11.0->pyMC3->pyGPGO) (3.8.1)\n",
            "Requirement already satisfied: cftime in /usr/local/lib/python3.7/dist-packages (from netcdf4->arviz>=0.11.0->pyMC3->pyGPGO) (1.6.1)\n",
            "Requirement already satisfied: threadpoolctl>=2.0.0 in /usr/local/lib/python3.7/dist-packages (from scikit-learn->pyGPGO) (3.1.0)\n",
            "Building wheels for collected packages: pyGPGO, Theano-PyMC\n",
            "  Building wheel for pyGPGO (setup.py) ... \u001b[?25l\u001b[?25hdone\n",
            "  Created wheel for pyGPGO: filename=pyGPGO-0.5.1-py3-none-any.whl size=19879 sha256=0cd8e85047ff615e3ab822d596b59a5cdef62611d0881c9115df6ffbbf2ceb27\n",
            "  Stored in directory: /root/.cache/pip/wheels/c8/5d/0b/2160114e2f1b87791c51b66cf07f89831dbb6f49167950316f\n",
            "  Building wheel for Theano-PyMC (setup.py) ... \u001b[?25l\u001b[?25hdone\n",
            "  Created wheel for Theano-PyMC: filename=Theano_PyMC-1.1.2-py3-none-any.whl size=1529963 sha256=28ef35817e71def9b0460184ffa36844df6ee1aa49b999ca8ceae50d8892667d\n",
            "  Stored in directory: /root/.cache/pip/wheels/f3/af/8c/5dd7553522d74c52a7813806fc7ee1a9caa20a3f7c8fd850d5\n",
            "Successfully built pyGPGO Theano-PyMC\n",
            "Installing collected packages: Theano-PyMC, semver, deprecat, pyMC3, pyGPGO\n",
            "Successfully installed Theano-PyMC-1.1.2 deprecat-2.1.1 pyGPGO-0.5.1 pyMC3-3.11.5 semver-2.13.0\n"
          ]
        }
      ],
      "source": [
        "pip install pyGPGO\n"
      ]
    },
    {
      "cell_type": "code",
      "execution_count": 2,
      "metadata": {
        "id": "ZJSSPbwPaEUB"
      },
      "outputs": [],
      "source": [
        "### 1. Import python modules/packages required:\n",
        "\n",
        "import numpy as np\n",
        "import pandas as pd\n",
        "import scipy as sp\n",
        "import matplotlib.pyplot as plt\n",
        "import warnings\n",
        "import itertools\n",
        "import seaborn as sns\n",
        "import time\n",
        "\n",
        "from pyGPGO.GPGO import GPGO\n",
        "from pyGPGO.surrogates.GaussianProcess import GaussianProcess\n",
        "from pyGPGO.surrogates.tStudentProcess import tStudentProcess\n",
        "from pyGPGO.acquisition import Acquisition\n",
        "from pyGPGO.covfunc import squaredExponential\n",
        "from joblib import Parallel, delayed\n",
        "from scipy.linalg import inv\n",
        "from scipy.spatial.distance import cdist\n",
        "from scipy.optimize import minimize\n",
        "from scipy.stats import norm, t\n",
        "from mpl_toolkits.axes_grid1.inset_locator import inset_axes, mark_inset\n",
        "\n",
        "warnings.filterwarnings(\"ignore\", category=RuntimeWarning)\n"
      ]
    },
    {
      "cell_type": "code",
      "execution_count": 3,
      "metadata": {
        "id": "OeYcTUNoaJWa"
      },
      "outputs": [],
      "source": [
        "### Inputs:\n",
        "\n",
        "func = 'Rastrigin'\n",
        "n_test = 500\n",
        "eps = 1e-08\n",
        "\n",
        "util_gp = 'EI_gp'\n",
        "util_stp = 'EI_stp'\n",
        "\n",
        "n_init = 5 # random initialisations\n",
        "iters = 20\n",
        "opt = True\n",
        "\n",
        "df = 3"
      ]
    },
    {
      "cell_type": "code",
      "execution_count": 4,
      "metadata": {
        "id": "xpaEOjdzaPMS"
      },
      "outputs": [],
      "source": [
        "### Objective Function - Rastrigin(x) 2-D:\n",
        "\n",
        "def objfunc(x1_training, x2_training):\n",
        "        return  operator * (10 * dim + x1_training** 2 - 10 * np.cos(2 * np.pi * x1_training)\n",
        "                                    + x2_training** 2 - 10 * np.cos(2 * np.pi * x2_training)\n",
        "                          )\n",
        "            \n",
        "# Constraints:\n",
        "lb = -5.12 \n",
        "ub = +5.12\n",
        "    \n",
        "# Input array dimension(s):\n",
        "dim = 2\n",
        "\n",
        "# 2-D inputs' parameter bounds:\n",
        "param = {'x1_training': ('cont', [lb, ub]),\n",
        "             'x2_training': ('cont', [lb, ub])}\n",
        "\n",
        "# True y bounds:\n",
        "operator = -1\n",
        "y_global_orig = 0 # targets global minimum\n",
        "\n",
        "# Test data:\n",
        "x1_test = np.linspace(lb, ub, n_test) \n",
        "x2_test = np.linspace(lb, ub, n_test)\n",
        "  \n",
        "x_test = np.column_stack((x1_test,x2_test))\n"
      ]
    },
    {
      "cell_type": "code",
      "execution_count": 5,
      "metadata": {
        "id": "eYpI3Zm4aGxi"
      },
      "outputs": [],
      "source": [
        "n_start_AcqFunc = iters\n",
        "inverse = -1\n"
      ]
    },
    {
      "cell_type": "code",
      "execution_count": 6,
      "metadata": {
        "id": "oO_GUmOoaV0T"
      },
      "outputs": [],
      "source": [
        "### Cumulative Regret Calculators:\n",
        "\n",
        "def min_max_array(x):\n",
        "    new_list = []\n",
        "    for i, num in enumerate(x):\n",
        "            new_list.append(np.min(x[0:i+1]))\n",
        "    return new_list\n",
        "  \n",
        "def acqFuncExact(x):\n",
        "    new_array = []\n",
        "    x = np.array(x) \n",
        "    for i, num in enumerate(x):\n",
        "            new_array = x[:-2][::-3]\n",
        "    return new_array[::-1]\n",
        "\n",
        "def acqFuncApprox(x):\n",
        "    new_array = []\n",
        "    x = np.array(x) \n",
        "    for i, num in enumerate(x):\n",
        "            new_array = x[:-1][::-3]\n",
        "    return new_array[::-1]\n"
      ]
    },
    {
      "cell_type": "code",
      "execution_count": 7,
      "metadata": {
        "id": "kuuJx0IMam9S"
      },
      "outputs": [],
      "source": [
        "### Surrogate derivatives: \n",
        "\n",
        "cov_func = squaredExponential()\n",
        "\n",
        "def kronDelta(X, Xstar):                     # Kronecker's Delta method\n",
        "    return cdist(X, Xstar) < np.finfo(np.float32).eps\n",
        "\n",
        "def se(X, Xstar, sigmaf, l, sigman):         # S.E. kernel method\n",
        "    return sigmaf * np.exp(-0.5 * cdist(X, Xstar) ** 2 / l ** 2) + sigman * kronDelta(X, Xstar)\n",
        "\n",
        "def delta(X, Xstar):                         # Distance between training X and test Xstar vectors\n",
        "    return (X - Xstar)\n",
        "   \n",
        "def der_covmat(X, Xstar, sigmaf, l, sigman): # Covariance matrix derivative terms (i.e. exact, first-order)\n",
        "    nx = len(X)\n",
        "    ny = len(Xstar)\n",
        "    return np.round(np.array([(delta(np.atleast_2d(i), np.atleast_2d(j))[0] * se(np.atleast_2d(i), np.atleast_2d(j), sigmaf, l, sigman)[0]).sum() for (i, j) in itertools.product(X, Xstar)]).reshape(nx, ny), 8)\n",
        "\n",
        "class dGaussianProcess(GaussianProcess):    # Via inheritance, also optimises hyperparameters when opt = TRUE\n",
        "    \n",
        "    def AcqGrad(self, Xstar):               # Method returning exact, first-order derivatives of the GP's posterior mean and standard deviation\n",
        "        Xstar = np.atleast_2d(Xstar)\n",
        "        Kstar = self.covfunc.K(self.X, Xstar).T\n",
        "        \n",
        "        dKstar = der_covmat(self.X, Xstar, self.covfunc.sigmaf, self.covfunc.l, self.covfunc.sigman).T\n",
        "        alpha_Kstar = np.dot(np.linalg.inv(self.K + (self.covfunc.sigman**2) * np.eye(len(self.X))), Kstar.T)\n",
        "        \n",
        "        dm = np.dot(dKstar, self.alpha)\n",
        "        ds = -2 * np.dot(dKstar, alpha_Kstar)\n",
        "        \n",
        "        return dm, ds   \n",
        "\n",
        "class dtStudentProcess(tStudentProcess):    # Via inheritance, also optimises hyperparameters when opt = TRUE\n",
        "    \n",
        "    def AcqGrad(self, Xstar):               # Method returning exact, first-order derivatives of the STP's posterior mean and standard deviation\n",
        "        Xstar = np.atleast_2d(Xstar)\n",
        "        Kstar = self.covfunc.K(self.X, Xstar).T\n",
        "        dKstar = der_covmat(self.X, Xstar, self.covfunc.sigmaf, self.covfunc.l, self.covfunc.sigman).T\n",
        "        \n",
        "        smd_adj = (self.nu + self.beta1 - 2) / (self.nu + self.n1 - 2)\n",
        "\n",
        "        alpha = np.dot(np.linalg.inv(self.K11 + (self.covfunc.sigman**2) * np.eye(len(self.X))), self.y)\n",
        "        alpha_Kstar = np.dot(np.linalg.inv(self.K11 + (self.covfunc.sigman**2) * np.eye(len(self.X))), Kstar.T)      \n",
        "        \n",
        "        dm = np.dot(dKstar, alpha)\n",
        "        ds = -2 * smd_adj * np.dot(dKstar, alpha_Kstar)\n",
        "        \n",
        "        return dm, ds \n",
        "        "
      ]
    },
    {
      "cell_type": "code",
      "execution_count": 8,
      "metadata": {
        "id": "_Dc3YVHVaXz7"
      },
      "outputs": [],
      "source": [
        "### Add exact acquisition function gradient as attribute:\n",
        "\n",
        "class Acquisition_grad(Acquisition):    \n",
        "    def __init__(self, mode, eps=eps, **params):\n",
        "        \n",
        "        self.params = params\n",
        "        self.eps = eps\n",
        "\n",
        "        mode_dict = {\n",
        "            'EI_stp': self.EI_stp,\n",
        "            'EI_gp': self.EI_gp,\n",
        "        }\n",
        "\n",
        "        self.f = mode_dict[mode]\n",
        "    \n",
        "    def EI_stp(self, tau, mean, std, ds, dm, nu=3.0):\n",
        "        gamma = (mean - tau - self.eps) / (std + self.eps)\n",
        "        gamma_h = (mean - tau) / (std + self.eps)\n",
        "        dsdx = ds / (2 * (std + self.eps))\n",
        "        dmdx = (dm - gamma * dsdx) / (std + self.eps)\n",
        "        \n",
        "        f = (std + self.eps) * (gamma * t.cdf(gamma, df=nu) + (nu + gamma ** 2)/(nu - 1) * t.pdf(gamma, df=nu))\n",
        "        df1 = f / (std + self.eps) * dsdx \n",
        "        df2 = (std + self.eps) * (t.cdf(gamma, df=nu) * dmdx + gamma * t.pdf(gamma, df=nu) \\\n",
        "            * (1 - (nu + gamma ** 2)/(nu - 1) + 2/(nu - 1) * dmdx))\n",
        "        df = (df1 + df2)[0]\n",
        "        df_arr = []\n",
        "\n",
        "        for j in range(0, dim):\n",
        "          df_arr.append(df)\n",
        "        return f, np.asarray(df_arr).transpose()\n",
        "        \n",
        "    def d_eval_stp(self, tau, mean, std, ds, dm, nu=3.0):\n",
        "    \n",
        "        return self.f(tau, mean, std, ds, dm, nu=3.0, **self.params)\n",
        "\n",
        "    def EI_gp(self, tau, mean, std, ds, dm):\n",
        "        gamma = (mean - tau - self.eps) / (std + self.eps)\n",
        "        gamma_h = (mean - tau) / (std + self.eps)\n",
        "        dsdx = ds / (2 * (std + self.eps))\n",
        "        dmdx = (dm - gamma * dsdx) / (std + self.eps)\n",
        "        \n",
        "        f = (std + self.eps) * (gamma * norm.cdf(gamma) + norm.pdf(gamma))\n",
        "        df1 = f / (std + self.eps) * dsdx \n",
        "        df2 = (std + self.eps) * norm.cdf(gamma) * dmdx\n",
        "        df = (df1 + df2)[0]\n",
        "        df_arr = []\n",
        "\n",
        "        for j in range(0, dim):\n",
        "          df_arr.append(df)\n",
        "        return f, np.asarray(df_arr).transpose()\n",
        "        \n",
        "    def d_eval_gp(self, tau, mean, std, ds, dm):\n",
        "    \n",
        "        return self.f(tau, mean, std, ds, dm, **self.params)\n",
        "        "
      ]
    },
    {
      "cell_type": "code",
      "execution_count": 9,
      "metadata": {
        "id": "b_B-w81BJxKN"
      },
      "outputs": [],
      "source": [
        "## dGPGO - Gaussian:\n",
        "\n",
        "class dGPGO_gp(GPGO):\n",
        "    n_start = n_start_AcqFunc\n",
        "\n",
        "    def __init__(self, surrogate, acquisition, f, parameter_dict, n_jobs=1):\n",
        "        self.GP = surrogate\n",
        "        self.A = acquisition\n",
        "        self.f = f\n",
        "        self.parameters = parameter_dict\n",
        "        self.n_jobs = n_jobs\n",
        "\n",
        "        self.parameter_key = list(parameter_dict.keys())\n",
        "        self.parameter_value = list(parameter_dict.values())\n",
        "        self.parameter_type = [p[0] for p in self.parameter_value]\n",
        "        self.parameter_range = [p[1] for p in self.parameter_value]\n",
        "\n",
        "        self.history = []\n",
        "        self.header =   'Evaluation \\t Proposed point \\t  Current eval. \\t  Best eval. \\t        Exact EI: StdDev. x \\t Approx EI: StdDev. x '\n",
        "        self.template = '{:3}\\t {}\\t {:3}\\t {:3}\\t {:3}\\t {:3}'\n",
        "\n",
        "    def acqfuncExact(self, xnew, n_start=n_start_AcqFunc):\n",
        "        new_mean, new_var = self.GP.predict(xnew, return_std=True)\n",
        "        new_std = np.sqrt(new_var + eps)\n",
        "        dm, ds = self.GP.AcqGrad(xnew)\n",
        "        f, df = self.A.d_eval_gp(self.tau, new_mean, new_std, ds=ds, dm=dm)\n",
        "\n",
        "        return -f, -df\n",
        "   \n",
        "    def acqfuncApprox(self, xnew, n_start=n_start_AcqFunc):\n",
        "        new_mean, new_var = self.GP.predict(xnew, return_std=True)\n",
        "        new_std = np.sqrt(new_var + eps)\n",
        "        dm, ds = self.GP.AcqGrad(xnew)\n",
        "        f, df = self.A.d_eval_gp(self.tau, new_mean, new_std, ds=ds, dm=dm)\n",
        "\n",
        "        return -f\n",
        "\n",
        "    def d_optimizeAcq(self, method='L-BFGS-B', n_start=n_start_AcqFunc):\n",
        "        start_points_dict = [self._sampleParam() for i in range(n_start)]\n",
        "        start_points_arr = np.array([list(s.values())\n",
        "                                     for s in start_points_dict])\n",
        "        x_best = np.empty((n_start, len(self.parameter_key)))\n",
        "        f_best = np.empty((n_start,))\n",
        "        opt = Parallel(n_jobs=self.n_jobs)(delayed(minimize)(self.acqfuncExact,\n",
        "                                                                 x0=start_point,\n",
        "                                                                 method=method,\n",
        "                                                                 jac = True,\n",
        "                                                                 bounds=self.parameter_range) for start_point in\n",
        "                                               start_points_arr)\n",
        "        x_best = np.array([res.x for res in opt])\n",
        "        f_best = np.array([np.atleast_1d(res.fun)[0] for res in opt])\n",
        "        f_best_min = min(f_best)\n",
        "\n",
        "        self.x_best = x_best\n",
        "        self.f_best = f_best\n",
        "        self.f_best_min = f_best_min\n",
        "        self.x_best_std = np.std(x_best)\n",
        "        self.best = x_best[np.argmin(f_best)]\n",
        "        self.start_points_arr = start_points_arr\n",
        "        self.history.append(self.x_best_std)\n",
        "\n",
        "        x_best_gp = np.empty((n_start, len(self.parameter_key)))\n",
        "        f_best_gp = np.empty((n_start,))\n",
        "        opt_gp = Parallel(n_jobs=self.n_jobs)(delayed(minimize)(self.acqfuncApprox,\n",
        "                                                                 x0=start_point,\n",
        "                                                                 method=method,\n",
        "                                                                 jac = False,\n",
        "                                                                 bounds=self.parameter_range) for start_point in\n",
        "                                               start_points_arr)\n",
        "        x_best_gp = np.array([res.x for res in opt_gp])\n",
        "        f_best_gp = np.array([np.atleast_1d(res.fun)[0] for res in opt_gp])\n",
        "        f_best_min_gp = min(f_best_gp)\n",
        "\n",
        "        self.x_best_gp = x_best_gp\n",
        "        self.f_best_gp = f_best_gp\n",
        "        self.f_best_min_gp = f_best_min_gp\n",
        "        self.x_best_std_gp = np.std(x_best_gp)\n",
        "        self.best_gp = x_best_gp[np.argmin(f_best_gp)]\n",
        "        self.start_points_arr = start_points_arr\n",
        "        self.history.append(self.x_best_std_gp)\n",
        "    \n",
        "    def _printInit(self):\n",
        "        print(self.header)\n",
        "        for init_eval in range(self.init_evals):\n",
        "            print(self.template.format('init', self.GP.X[init_eval], inverse * self.GP.y[init_eval], inverse * self.tau, '', ''))\n",
        "      \n",
        "    def _printCurrent(self):\n",
        "        OKGREEN = '\\033[92m'\n",
        "        ENDC = '\\033[0m'\n",
        "        BOLD = '\\033[1m'\n",
        "        eval = str(len(self.GP.y) - self.init_evals)\n",
        "        proposed = str(self.best)\n",
        "        curr_eval = str(inverse * self.GP.y[-1])\n",
        "        curr_best = str(inverse * self.tau)\n",
        "        min_acqfunc = str(self.f_best_min)\n",
        "        min_acqfunc_gp = str(self.f_best_min_gp)\n",
        "        x_best_std = str(self.x_best_std)\n",
        "        x_best_std_gp = str(self.x_best_std_gp)\n",
        "        if float(curr_eval) <= float(curr_best):\n",
        "            eval = BOLD + OKGREEN + eval + ENDC\n",
        "            proposed = BOLD + OKGREEN + proposed + ENDC\n",
        "            curr_eval = BOLD + OKGREEN + curr_eval + ENDC\n",
        "            curr_best = BOLD + OKGREEN + curr_best + ENDC\n",
        "            x_best_std = BOLD + OKGREEN + x_best_std + ENDC\n",
        "            x_best_std_gp = BOLD + OKGREEN + x_best_std_gp + ENDC\n",
        "        print(self.template.format(eval, proposed, curr_eval, curr_best, x_best_std, x_best_std_gp))\n",
        "\n",
        "    def run(self, max_iter=10, init_evals=3, resume=False):\n",
        "        \n",
        "        if not resume:\n",
        "            self.init_evals = init_evals\n",
        "            self._firstRun(self.init_evals)\n",
        "            self._printInit()\n",
        "        for iteration in range(max_iter):\n",
        "            self.d_optimizeAcq()\n",
        "            self.updateGP()\n",
        "            self._printCurrent()\n"
      ]
    },
    {
      "cell_type": "code",
      "source": [
        "## dGPGO - Student's-t:\n",
        "\n",
        "class dGPGO_stp(GPGO):\n",
        "    n_start = n_start_AcqFunc\n",
        "\n",
        "    def __init__(self, surrogate, acquisition, f, parameter_dict, n_jobs=1):\n",
        "        self.GP = surrogate\n",
        "        self.A = acquisition\n",
        "        self.f = f\n",
        "        self.parameters = parameter_dict\n",
        "        self.n_jobs = n_jobs\n",
        "\n",
        "        self.parameter_key = list(parameter_dict.keys())\n",
        "        self.parameter_value = list(parameter_dict.values())\n",
        "        self.parameter_type = [p[0] for p in self.parameter_value]\n",
        "        self.parameter_range = [p[1] for p in self.parameter_value]\n",
        "\n",
        "        self.history = []\n",
        "        self.header =   'Evaluation \\t Proposed point \\t  Current eval. \\t  Best eval. \\t        Exact EI: StdDev. x \\t Approx EI: StdDev. x '\n",
        "        self.template = '{:3}\\t {}\\t {:3}\\t {:3}\\t {:3}\\t {:3}'\n",
        "\n",
        "    def acqfuncExact(self, xnew, n_start=n_start_AcqFunc):\n",
        "        new_mean, new_var = self.GP.predict(xnew, return_std=True)\n",
        "        new_std = np.sqrt(new_var + eps)\n",
        "        dm, ds = self.GP.AcqGrad(xnew)\n",
        "        f, df = self.A.d_eval_stp(self.tau, new_mean, new_std, ds=ds, dm=dm, nu=3.0)\n",
        "\n",
        "        return -f, -df\n",
        "   \n",
        "    def acqfuncApprox(self, xnew, n_start=n_start_AcqFunc):\n",
        "        new_mean, new_var = self.GP.predict(xnew, return_std=True)\n",
        "        new_std = np.sqrt(new_var + eps)\n",
        "        dm, ds = self.GP.AcqGrad(xnew)\n",
        "        f, df = self.A.d_eval_stp(self.tau, new_mean, new_std, ds=ds, dm=dm, nu=3.0)\n",
        "\n",
        "        return -f\n",
        "\n",
        "    def d_optimizeAcq(self, method='L-BFGS-B', n_start=n_start_AcqFunc):\n",
        "        start_points_dict = [self._sampleParam() for i in range(n_start)]\n",
        "        start_points_arr = np.array([list(s.values())\n",
        "                                     for s in start_points_dict])\n",
        "        x_best = np.empty((n_start, len(self.parameter_key)))\n",
        "        f_best = np.empty((n_start,))\n",
        "        opt = Parallel(n_jobs=self.n_jobs)(delayed(minimize)(self.acqfuncExact,\n",
        "                                                                 x0=start_point,\n",
        "                                                                 method=method,\n",
        "                                                                 jac = True,\n",
        "                                                                 bounds=self.parameter_range) for start_point in\n",
        "                                               start_points_arr)\n",
        "        x_best = np.array([res.x for res in opt])\n",
        "        f_best = np.array([np.atleast_1d(res.fun)[0] for res in opt])\n",
        "        f_best_min = min(f_best)\n",
        "\n",
        "        self.x_best = x_best\n",
        "        self.f_best = f_best\n",
        "        self.f_best_min = f_best_min\n",
        "        self.x_best_std = np.std(x_best)\n",
        "        self.best = x_best[np.argmin(f_best)]\n",
        "        self.start_points_arr = start_points_arr\n",
        "        self.history.append(self.x_best_std)\n",
        "\n",
        "        x_best_gp = np.empty((n_start, len(self.parameter_key)))\n",
        "        f_best_gp = np.empty((n_start,))\n",
        "        opt_gp = Parallel(n_jobs=self.n_jobs)(delayed(minimize)(self.acqfuncApprox,\n",
        "                                                                 x0=start_point,\n",
        "                                                                 method=method,\n",
        "                                                                 jac = False,\n",
        "                                                                 bounds=self.parameter_range) for start_point in\n",
        "                                               start_points_arr)\n",
        "        x_best_gp = np.array([res.x for res in opt_gp])\n",
        "        f_best_gp = np.array([np.atleast_1d(res.fun)[0] for res in opt_gp])\n",
        "        f_best_min_gp = min(f_best_gp)\n",
        "\n",
        "        self.x_best_gp = x_best_gp\n",
        "        self.f_best_gp = f_best_gp\n",
        "        self.f_best_min_gp = f_best_min_gp\n",
        "        self.x_best_std_gp = np.std(x_best_gp)\n",
        "        self.best_gp = x_best_gp[np.argmin(f_best_gp)]\n",
        "        self.start_points_arr = start_points_arr\n",
        "        self.history.append(self.x_best_std_gp)\n",
        "    \n",
        "    def _printInit(self):\n",
        "        print(self.header)\n",
        "        for init_eval in range(self.init_evals):\n",
        "            print(self.template.format('init', self.GP.X[init_eval], inverse * self.GP.y[init_eval], inverse * self.tau, '', ''))\n",
        "      \n",
        "    def _printCurrent(self):\n",
        "        OKGREEN = '\\033[92m'\n",
        "        ENDC = '\\033[0m'\n",
        "        BOLD = '\\033[1m'\n",
        "        eval = str(len(self.GP.y) - self.init_evals)\n",
        "        proposed = str(self.best)\n",
        "        curr_eval = str(inverse * self.GP.y[-1])\n",
        "        curr_best = str(inverse * self.tau)\n",
        "        min_acqfunc = str(self.f_best_min)\n",
        "        min_acqfunc_gp = str(self.f_best_min_gp)\n",
        "        x_best_std = str(self.x_best_std)\n",
        "        x_best_std_gp = str(self.x_best_std_gp)\n",
        "        if float(curr_eval) <= float(curr_best):\n",
        "            eval = BOLD + OKGREEN + eval + ENDC\n",
        "            proposed = BOLD + OKGREEN + proposed + ENDC\n",
        "            curr_eval = BOLD + OKGREEN + curr_eval + ENDC\n",
        "            curr_best = BOLD + OKGREEN + curr_best + ENDC\n",
        "            x_best_std = BOLD + OKGREEN + x_best_std + ENDC\n",
        "            x_best_std_gp = BOLD + OKGREEN + x_best_std_gp + ENDC\n",
        "        print(self.template.format(eval, proposed, curr_eval, curr_best, x_best_std, x_best_std_gp))\n",
        "\n",
        "    def run(self, max_iter=10, init_evals=3, resume=False):\n",
        "        \n",
        "        if not resume:\n",
        "            self.init_evals = init_evals\n",
        "            self._firstRun(self.init_evals)\n",
        "            self._printInit()\n",
        "        for iteration in range(max_iter):\n",
        "            self.d_optimizeAcq()\n",
        "            self.updateGP()\n",
        "            self._printCurrent()\n"
      ],
      "metadata": {
        "id": "3gxt4mo3xQTY"
      },
      "execution_count": 10,
      "outputs": []
    },
    {
      "cell_type": "code",
      "execution_count": 11,
      "metadata": {
        "id": "qXIKGuXVGEg2"
      },
      "outputs": [],
      "source": [
        "###Reproducible set-seeds:\n",
        "\n",
        "run_num_1 = 1\n",
        "run_num_2 = 2\n",
        "run_num_3 = 3\n",
        "run_num_4 = 4\n",
        "run_num_5 = 5\n",
        "run_num_6 = 6\n",
        "run_num_7 = 7\n",
        "run_num_8 = 8\n",
        "run_num_9 = 9\n",
        "run_num_10 = 10\n",
        "run_num_11 = 11\n",
        "run_num_12 = 12\n",
        "run_num_13 = 13\n",
        "run_num_14 = 14\n",
        "run_num_15 = 15\n",
        "run_num_16 = 16\n",
        "run_num_17 = 17\n",
        "run_num_18 = 18\n",
        "run_num_19 = 19\n",
        "run_num_20 = 20\n"
      ]
    },
    {
      "cell_type": "code",
      "execution_count": 12,
      "metadata": {
        "colab": {
          "base_uri": "https://localhost:8080/"
        },
        "id": "JEhagQmnTVIK",
        "outputId": "05df3f08-8845-4d0b-ed98-da4a03808a12"
      },
      "outputs": [
        {
          "output_type": "execute_result",
          "data": {
            "text/plain": [
              "1663059185.2606251"
            ]
          },
          "metadata": {},
          "execution_count": 12
        }
      ],
      "source": [
        "start_gp = time.time()\n",
        "start_gp\n"
      ]
    },
    {
      "cell_type": "code",
      "execution_count": 13,
      "metadata": {
        "colab": {
          "base_uri": "https://localhost:8080/"
        },
        "id": "aH0YSTXufD1v",
        "outputId": "9ac8d441-b5e0-47c5-9613-fe97ccd19229"
      },
      "outputs": [
        {
          "output_type": "stream",
          "name": "stdout",
          "text": [
            "Evaluation \t Proposed point \t  Current eval. \t  Best eval. \t        Exact EI: StdDev. x \t Approx EI: StdDev. x \n",
            "init\t [-0.84969467  2.25612281]\t 20.33436270766351\t 19.908403246996286\t    \t    \n",
            "init\t [-5.1188288  -2.02411446]\t 33.07414982069084\t 19.908403246996286\t    \t    \n",
            "init\t [-3.61721968 -4.17445279]\t 53.347974723929894\t 19.908403246996286\t    \t    \n",
            "init\t [-3.21269544 -1.58145816]\t 39.218472310354045\t 19.908403246996286\t    \t    \n",
            "init\t [-1.05710106  0.39748336]\t 19.908403246996286\t 19.908403246996286\t    \t    \n",
            "1  \t [ 4.04077223 -4.24914728]\t 44.655863836006326\t 19.908403246996286\t 3.968766121081266\t 4.417340655432655\n",
            "2  \t [5.12 5.12]\t 57.849427451571785\t 19.908403246996286\t 3.2419678726648455\t 3.6838171650274965\n",
            "3  \t [4.33744349 0.432798  ]\t 53.344410128242544\t 19.908403246996286\t 3.5799938235602387\t 4.28347784644832\n",
            "4  \t [-5.12        4.36680096]\t 64.69123843795754\t 19.908403246996286\t 3.605113149579483\t 4.335166522670862\n",
            "5  \t [ 0.15769158 -5.09614947]\t 32.285447952253\t 19.908403246996286\t 3.329084328534446\t 3.669432011195251\n",
            "6  \t [1.14453864 5.12      ]\t 34.082732834665336\t 19.908403246996286\t 3.1391459621008138\t 3.3987488282688685\n",
            "7  \t [ 1.31267743 -1.72405678]\t 30.155476940398223\t 19.908403246996286\t 3.3318756973342603\t 3.343025529927595\n",
            "8  \t [-4.10739872  1.26622556]\t 31.683487300375575\t 19.908403246996286\t 3.2847452699593713\t 3.70026554613865\n",
            "9  \t [-1.80418265  5.01629981]\t 35.13172156440348\t 19.908403246996286\t 3.130059571025986\t 3.7616925316287944\n",
            "10 \t [1.43547837 2.68579275]\t 42.38923907785543\t 19.908403246996286\t 3.232368130188033\t 3.4679422157873305\n",
            "11 \t [-1.024038   -2.45601624]\t 26.81506619013562\t 19.908403246996286\t 3.4200395382437434\t 3.6465973640513383\n",
            "12 \t [ 5.12       -1.99028245]\t 32.904572054647616\t 19.908403246996286\t 3.5419795816110082\t 3.529232524936176\n",
            "13 \t [3.95610073 2.93943604]\t 25.38435272623046\t 19.908403246996286\t 3.0293810158995007\t 3.257347416341244\n",
            "14 \t [1.38617381 0.40255192]\t 37.81657844327279\t 19.908403246996286\t 3.190439403574592\t 3.5593419157022144\n",
            "15 \t [-2.47234479  2.64661596]\t 49.01500509838675\t 19.908403246996286\t 3.176507659089912\t 3.285112720460902\n",
            "16 \t [ 1.67108194 -3.60529414]\t 48.43872428213943\t 19.908403246996286\t 3.929655517298753\t 3.4851803911764168\n",
            "17 \t [-5.12 -5.12]\t 57.849427451571785\t 19.908403246996286\t 3.624460777476498\t 3.753623833682276\n",
            "18 \t [-1.84363535 -4.76249809]\t 39.74619653591705\t 19.908403246996286\t 3.0678001399354846\t 3.0218295659098566\n",
            "19 \t [3.03015577 5.08323948]\t 36.536932544703106\t 19.908403246996286\t 3.0943937147352214\t 3.695399245734657\n",
            "20 \t [-5.12000000e+00  4.08425346e-04]\t 28.92474681980258\t 19.908403246996286\t 3.066504545258361\t 3.2620224988473994\n"
          ]
        }
      ],
      "source": [
        "### EXACT GP EI GRADIENTS\n",
        "\n",
        "np.random.seed(run_num_1)\n",
        "surrogate_gp_1 = dGaussianProcess(cov_func, optimize=opt)\n",
        "\n",
        "gp_1 = dGPGO_gp(surrogate_gp_1, Acquisition_grad(util_gp), objfunc, param)\n",
        "gp_1.run(init_evals=n_init, max_iter=iters)\n"
      ]
    },
    {
      "cell_type": "code",
      "execution_count": 14,
      "metadata": {
        "id": "wTxsSZxFGBB5",
        "colab": {
          "base_uri": "https://localhost:8080/"
        },
        "outputId": "62cdf3f9-49bf-4981-8f8b-e3bd6db245a3"
      },
      "outputs": [
        {
          "output_type": "stream",
          "name": "stdout",
          "text": [
            "Evaluation \t Proposed point \t  Current eval. \t  Best eval. \t        Exact EI: StdDev. x \t Approx EI: StdDev. x \n",
            "init\t [-0.6554122  -4.85451539]\t 43.490296251903594\t 18.964539418712707\t    \t    \n",
            "init\t [ 0.50854377 -0.6622987 ]\t 35.91861667536101\t 18.964539418712707\t    \t    \n",
            "init\t [-0.81543371 -1.73737143]\t 20.479562046739524\t 18.964539418712707\t    \t    \n",
            "init\t [-3.02439799  1.2213347 ]\t 18.964539418712707\t 18.964539418712707\t    \t    \n",
            "init\t [-2.05153614 -2.3876887 ]\t 28.041315668371354\t 18.964539418712707\t    \t    \n",
            "1  \t [5.12       3.79058262]\t 50.77089119709249\t 18.964539418712707\t 4.107772070305577\t 4.484837821956213\n",
            "2  \t [ 4.8426374  -3.96513962]\t 43.91494982240336\t 18.964539418712707\t 3.562444532323405\t 4.3679359612870305\n",
            "3  \t [0.07192172 5.12      ]\t 29.933685188852706\t 18.964539418712707\t 3.818261375216128\t 4.079724757307048\n",
            "4  \t [-5.12 -5.12]\t 57.849427451571785\t 18.964539418712707\t 3.7432034885076\t 4.225576352173871\n",
            "5  \t [ 4.59349575 -0.07218847]\t 40.44010539027009\t 18.964539418712707\t 2.786100781265953\t 3.6557432886467796\n",
            "6  \t [-3.91737664  4.88361111]\t 43.06990976462939\t 18.964539418712707\t 3.1635943779907834\t 3.6661548723843924\n",
            "7  \t [-5.12       -1.25907101]\t 41.07961364023437\t 18.964539418712707\t 3.0485071036405067\t 3.363715187394551\n",
            "8  \t [1.21915537 2.47386203]\t 35.54586282014931\t 18.964539418712707\t 2.8843318319156728\t 2.5337610466518203\n",
            "9  \t [2.92833189 4.73591641]\t 42.88462753435191\t 18.964539418712707\t 3.4636704733274435\t 3.7535510571109656\n",
            "10 \t [ 1.96058274 -3.20105963]\t 21.369013127520887\t 18.964539418712707\t 2.641200079828924\t 3.1107487335428345\n",
            "11 \t [-1.72859059  3.20560299]\t 31.85154721603225\t 18.964539418712707\t 3.465873923214521\t 3.191519734458977\n",
            "12 \t [ 2.9040523  -1.51694656]\t 32.440822281872606\t 18.964539418712707\t 2.316929265384781\t 2.753784725062254\n",
            "13 \t [ 1.66049265 -4.96039671]\t 43.00287785938545\t 18.964539418712707\t 3.3634303018405265\t 3.545262974249343\n",
            "14 \t [-4.99831434  1.60737689]\t 45.37650566911981\t 18.964539418712707\t 3.310251571110233\t 3.8062451045156944\n",
            "15 \t [-1.46025746  1.01097184]\t 22.868010780594293\t 18.964539418712707\t 3.2863577831378135\t 3.3355951580549807\n",
            "16 \t [-2.86264666 -5.11492505]\t 40.351495188498575\t 18.964539418712707\t 3.1794805152036574\t 2.9946474749714507\n",
            "17 \t [3.34026269 1.81361455]\t 35.92731048853902\t 18.964539418712707\t 2.8148980018719034\t 3.2498193587765676\n",
            "18 \t [-2.87051238 -0.57889849]\t 30.502259492777462\t 18.964539418712707\t 2.871699377913361\t 2.9740045497625593\n",
            "19 \t [-5.12       -3.05916295]\t 38.966194662981216\t 18.964539418712707\t 3.257227265622906\t 2.96344531634108\n",
            "20 \t [-5.083233    3.50723547]\t 59.46622169136021\t 18.964539418712707\t 3.405041643978989\t 3.393139206940708\n"
          ]
        }
      ],
      "source": [
        "### EXACT GP EI GRADIENTS\n",
        "\n",
        "np.random.seed(run_num_2)\n",
        "surrogate_gp_2 = dGaussianProcess(cov_func, optimize=opt)\n",
        "\n",
        "gp_2 = dGPGO_gp(surrogate_gp_2, Acquisition_grad(util_gp), objfunc, param)\n",
        "gp_2.run(init_evals=n_init, max_iter=iters)\n"
      ]
    },
    {
      "cell_type": "code",
      "execution_count": 15,
      "metadata": {
        "id": "-dgzIrUIGCGT",
        "colab": {
          "base_uri": "https://localhost:8080/"
        },
        "outputId": "4d208e40-0454-4b13-9099-9c54418c002e"
      },
      "outputs": [
        {
          "output_type": "stream",
          "name": "stdout",
          "text": [
            "Evaluation \t Proposed point \t  Current eval. \t  Best eval. \t        Exact EI: StdDev. x \t Approx EI: StdDev. x \n",
            "init\t [0.52017052 2.1314337 ]\t 27.953858411008774\t 10.607662635789808\t    \t    \n",
            "init\t [-2.14113547  0.11087468]\t 10.607662635789808\t 10.607662635789808\t    \t    \n",
            "init\t [4.02377681 4.05804123]\t 33.42749829480097\t 10.607662635789808\t    \t    \n",
            "init\t [-3.83400642 -2.99783293]\t 28.650953928965198\t 10.607662635789808\t    \t    \n",
            "init\t [-4.59297584 -0.6061072 ]\t 57.6631355589384\t 10.607662635789808\t    \t    \n",
            "1  \t [ 1.67759318 -3.17566744]\t 32.79081619438729\t 10.607662635789808\t 2.6362148863994843\t 3.748253474268059\n",
            "2  \t [-3.55868405  4.82551581]\t 60.708961282145246\t 10.607662635789808\t 3.248232331239969\t 4.227349551174719\n",
            "3  \t [ 5.12      -0.3507253]\t 44.96238197718422\t 10.607662635789808\t 3.321829185884769\t 3.407400549068343\n",
            "4  \t [-1.57258335 -5.10192032]\t 49.46191739291357\t 10.607662635789808\t 3.484086767576093\t 3.491727043201281\n",
            "5  \t [ 4.60130562 -3.45104534]\t 70.65406330267014\t 10.607662635789808\t 3.4110944382411845\t 3.28446149154676\n",
            "6  \t [1.39442511 5.02099968]\t 45.121139687836546\t 10.607662635789808\t 3.65030338411646\t 2.9777465942619528\n",
            "7  \t [-5.12 -5.12]\t 57.849427451571785\t 10.607662635789808\t 3.738740906713786\t 2.7610828264369878\n",
            "8  \t [ 1.77493964 -0.2518877 ]\t 21.771864555434156\t 10.607662635789808\t 3.0971911246777175\t 3.0620888129536827\n",
            "9  \t [-2.40026603  2.1748725 ]\t 34.04428960044136\t 10.607662635789808\t 2.6530679159989323\t 2.570819217645557\n",
            "10 \t [-0.5930262  -2.40244595]\t 42.64284633340007\t 10.607662635789808\t 3.25769325883644\t 3.3747491698514365\n",
            "11 \t [3.34863025 1.67261288]\t 44.49199600977465\t 10.607662635789808\t 3.0700307969583003\t 3.389580937721941\n",
            "12 \t [ 2.11690505 -5.08843091]\t 34.456303959661774\t 10.607662635789808\t 3.0609071751852013\t 3.0290540787183056\n",
            "13 \t [-4.95344287  2.14008376]\t 33.171188903009735\t 10.607662635789808\t 3.384361351347117\t 3.197577760008973\n",
            "14 \t [-0.25672789 -0.12315258]\t 13.351007263103071\t 10.607662635789808\t 3.0645765612448614\t 2.943323471379473\n",
            "15 \t [-1.01330751  5.12      ]\t 29.9864415743168\t 10.607662635789808\t 3.060642764587172\t 3.457045056055087\n",
            "16 \t [5.12 5.12]\t 57.849427451571785\t 10.607662635789808\t 3.0687043949744166\t 3.195934237305291\n",
            "17 \t [-2.11976583 -0.62790959]\t 24.528551053236477\t 10.607662635789808\t 2.782946172260879\t 2.5926687581485335\n",
            "18 \t [-0.64045276  0.56933831]\t 36.152514655895395\t 10.607662635789808\t 3.0083042119223196\t 3.2292398566812484\n",
            "19 \t [5.12      2.4692841]\t 54.83642225451931\t 10.607662635789808\t 2.993166570743031\t 3.524128286095503\n",
            "20 \t [ 2.67169968 -1.11975834]\t 25.8154453929145\t 10.607662635789808\t 2.4681669457517263\t 3.051218308311678\n"
          ]
        }
      ],
      "source": [
        "### EXACT GP EI GRADIENTS\n",
        "\n",
        "np.random.seed(run_num_3)\n",
        "surrogate_gp_3 = dGaussianProcess(cov_func, optimize=opt)\n",
        "\n",
        "gp_3 = dGPGO_gp(surrogate_gp_3, Acquisition_grad(util_gp), objfunc, param)\n",
        "gp_3.run(init_evals=n_init, max_iter=iters)\n"
      ]
    },
    {
      "cell_type": "code",
      "execution_count": 16,
      "metadata": {
        "id": "hOtG-2sCGCKS",
        "colab": {
          "base_uri": "https://localhost:8080/"
        },
        "outputId": "e8bbab1e-113f-4cdb-dc62-ac053b9ee98b"
      },
      "outputs": [
        {
          "output_type": "stream",
          "name": "stdout",
          "text": [
            "Evaluation \t Proposed point \t  Current eval. \t  Best eval. \t        Exact EI: StdDev. x \t Approx EI: StdDev. x \n",
            "init\t [4.78238555 0.48365823]\t 51.03163809010808\t 14.323038259018315\t    \t    \n",
            "init\t [4.84028785 2.19971578]\t 39.78645699016559\t 14.323038259018315\t    \t    \n",
            "init\t [ 2.02474316 -2.90724357]\t 14.323038259018315\t 14.323038259018315\t    \t    \n",
            "init\t [ 4.87705042 -5.05620219]\t 52.80627247106233\t 14.323038259018315\t    \t    \n",
            "init\t [-2.52946061 -0.66773471]\t 41.61497868486559\t 14.323038259018315\t    \t    \n",
            "1  \t [-2.37593926  5.12      ]\t 51.682475782417484\t 14.323038259018315\t 3.1114428188171592\t 3.954252676181088\n",
            "2  \t [-5.12 -5.12]\t 57.849427451571785\t 14.323038259018315\t 3.919815020863657\t 3.1656690037290747\n",
            "3  \t [1.96075502 5.12      ]\t 33.07175374525896\t 14.323038259018315\t 3.2927224031890154\t 3.372587089662072\n",
            "4  \t [0.79127659 1.31343849]\t 23.667976570604065\t 14.323038259018315\t 3.3240329068530303\t 3.5324613265758837\n",
            "5  \t [-1.08833013 -4.87479297]\t 29.387172349591154\t 14.323038259018315\t 3.1717480892245447\t 3.4633564695874117\n",
            "6  \t [5.12 5.12]\t 57.849427451571785\t 14.323038259018315\t 3.1287962739566444\t 3.4924792373273186\n",
            "7  \t [-5.12       -1.84843169]\t 36.543565483758904\t 14.323038259018315\t 2.381915225053141\t 3.217133289188623\n",
            "8  \t [-3.18235306  2.10393102]\t 22.487802657603762\t 14.323038259018315\t 2.3510777582329405\t 3.2066456347041257\n",
            "\u001b[1m\u001b[92m9\u001b[0m\t \u001b[1m\u001b[92m[ 2.03147824 -0.76219726]\u001b[0m\t \u001b[1m\u001b[92m14.137176713029609\u001b[0m\t \u001b[1m\u001b[92m14.137176713029609\u001b[0m\t \u001b[1m\u001b[92m2.483572323236235\u001b[0m\t \u001b[1m\u001b[92m2.7186658581889236\u001b[0m\n",
            "10 \t [ 4.49925806 -2.18621233]\t 51.121282290516845\t 14.137176713029609\t 2.7638277548630823\t 3.269579182491149\n",
            "11 \t [-0.28369163 -1.90698955]\t 17.47779971603191\t 14.137176713029609\t 2.8544519853850976\t 3.817317163216175\n",
            "12 \t [ 1.38821255 -4.9510036 ]\t 44.54276845153296\t 14.137176713029609\t 2.7602682363446025\t 3.6361193448561107\n",
            "13 \t [-0.1407541   3.35280024]\t 30.94269822182789\t 14.137176713029609\t 2.4778249665524634\t 3.0310742701338533\n",
            "14 \t [-2.93273112 -3.28461606]\t 32.427498830724836\t 14.137176713029609\t 2.4888293137443496\t 3.6782048587774487\n",
            "15 \t [-4.67783867  0.34511684]\t 52.00845662996129\t 14.137176713029609\t 2.9919219699696296\t 3.127432441033369\n",
            "16 \t [2.6078937  2.49788176]\t 50.828450958660405\t 14.137176713029609\t 2.7509686930214925\t 3.016545424741875\n",
            "17 \t [-4.18829284  3.50886611]\t 56.057662539468296\t 14.137176713029609\t 3.032813401003295\t 3.6999665111697166\n",
            "18 \t [-1.5063409   1.58059287]\t 43.50446138426804\t 14.137176713029609\t 2.7436880302255258\t 2.8397078756173952\n",
            "19 \t [ 0.40119356 -0.52930566]\t 38.40609676738939\t 14.137176713029609\t 2.962738714499628\t 3.1057837272186073\n",
            "20 \t [ 0.40525086 -3.10651155]\t 30.251312377012283\t 14.137176713029609\t 2.9308483117647275\t 2.993568871872931\n"
          ]
        }
      ],
      "source": [
        "### EXACT GP EI GRADIENTS\n",
        "\n",
        "np.random.seed(run_num_4)\n",
        "surrogate_gp_4 = dGaussianProcess(cov_func, optimize=opt)\n",
        "\n",
        "gp_4= dGPGO_gp(surrogate_gp_4, Acquisition_grad(util_gp), objfunc, param)\n",
        "gp_4.run(init_evals=n_init, max_iter=iters)\n"
      ]
    },
    {
      "cell_type": "code",
      "execution_count": 17,
      "metadata": {
        "id": "JF_SxcEvGCOl",
        "colab": {
          "base_uri": "https://localhost:8080/"
        },
        "outputId": "8680171c-d73d-493c-a602-b1947c1487ff"
      },
      "outputs": [
        {
          "output_type": "stream",
          "name": "stdout",
          "text": [
            "Evaluation \t Proposed point \t  Current eval. \t  Best eval. \t        Exact EI: StdDev. x \t Approx EI: StdDev. x \n",
            "init\t [-2.84678993  3.79629882]\t 33.93442008827236\t 7.8108627039749745\t    \t    \n",
            "init\t [-3.00319585  4.2865757 ]\t 39.673876075575784\t 7.8108627039749745\t    \t    \n",
            "init\t [-0.11866943  1.14425716]\t 7.8108627039749745\t 7.8108627039749745\t    \t    \n",
            "init\t [2.72289645 0.1886002 ]\t 25.38160395721669\t 7.8108627039749745\t    \t    \n",
            "init\t [-2.08076286 -3.19773462]\t 22.589982116319675\t 7.8108627039749745\t    \t    \n",
            "1  \t [ 4.32894502 -5.09733749]\t 61.29459456639687\t 7.8108627039749745\t 4.547765708816684\t 4.713091772977412\n",
            "2  \t [5.12 5.12]\t 57.849427451571785\t 7.8108627039749745\t 4.395143274205688\t 3.8304242438887446\n",
            "3  \t [-5.12       -0.31192635]\t 42.81552120921353\t 7.8108627039749745\t 3.424441054879014\t 3.7349982291454173\n",
            "4  \t [1.11276445 4.76007737]\t 35.670566143430165\t 7.8108627039749745\t 3.4592258307861767\t 3.462062079220441\n",
            "5  \t [-5.12 -5.12]\t 57.849427451571785\t 7.8108627039749745\t 3.4738971390585136\t 3.4639597095279755\n",
            "6  \t [ 0.39675772 -5.12      ]\t 47.050887099555275\t 7.8108627039749745\t 3.3531600084402413\t 3.514642413981918\n",
            "7  \t [ 5.12       -1.68100108]\t 45.951274194956675\t 7.8108627039749745\t 2.4529131706059557\t 2.680596913830806\n",
            "8  \t [ 0.36506031 -1.61080919]\t 37.01656033743204\t 7.8108627039749745\t 2.8723797790076606\t 2.826995890062527\n",
            "9  \t [5.12       1.87551399]\t 35.3483995511112\t 7.8108627039749745\t 3.18766205669966\t 3.3531754125140893\n",
            "10 \t [-2.50968262  1.00263895]\t 27.286665905108197\t 7.8108627039749745\t 2.8154868802702704\t 3.14134780877066\n",
            "11 \t [-5.12        2.28846656]\t 46.55525560741453\t 7.8108627039749745\t 2.778737965157437\t 3.1514181686751668\n",
            "12 \t [ 2.58213167 -2.99766268]\t 34.35222216431596\t 7.8108627039749745\t 3.042309145486561\t 2.965495238158507\n",
            "13 \t [1.54295635 2.32966985]\t 42.245392949778136\t 7.8108627039749745\t 2.9132072497308563\t 3.0317618961911115\n",
            "14 \t [-4.6668877  -2.59526534]\t 61.764633888586125\t 7.8108627039749745\t 2.5263291183520944\t 2.691016832288521\n",
            "\u001b[1m\u001b[92m15\u001b[0m\t \u001b[1m\u001b[92m[-2.02064412 -1.08259386]\u001b[0m\t \u001b[1m\u001b[92m6.655626983308281\u001b[0m\t \u001b[1m\u001b[92m6.655626983308281\u001b[0m\t \u001b[1m\u001b[92m2.409876457920443\u001b[0m\t \u001b[1m\u001b[92m2.615436538195691\u001b[0m\n",
            "16 \t [-0.8224438   4.02088213]\t 22.533638667556986\t 6.655626983308281\t 2.726030846902301\t 3.32157987492567\n",
            "17 \t [3.19224475 3.88483621]\t 34.23833171017681\t 6.655626983308281\t 2.622207414038847\t 2.9655615558723265\n",
            "18 \t [-2.44538611 -5.12      ]\t 54.321624731129646\t 6.655626983308281\t 2.977079330954453\t 3.0485302971798602\n",
            "19 \t [-2.4196922  -0.97607333]\t 25.674154270347685\t 6.655626983308281\t 2.5946827627521585\t 2.3913834793987103\n",
            "20 \t [-0.98309116  2.17159622]\t 11.009273530074312\t 6.655626983308281\t 2.8761408175542944\t 3.00357138769165\n"
          ]
        }
      ],
      "source": [
        "### EXACT GP EI GRADIENTS\n",
        "\n",
        "np.random.seed(run_num_5)\n",
        "surrogate_gp_5 = dGaussianProcess(cov_func, optimize=opt)\n",
        "\n",
        "gp_5 = dGPGO_gp(surrogate_gp_5, Acquisition_grad(util_gp), objfunc, param)\n",
        "gp_5.run(init_evals=n_init, max_iter=iters)\n"
      ]
    },
    {
      "cell_type": "code",
      "execution_count": 18,
      "metadata": {
        "id": "-kDxZtJsGCR3",
        "colab": {
          "base_uri": "https://localhost:8080/"
        },
        "outputId": "8c67b83f-c5e1-46b2-94e3-75aa49383013"
      },
      "outputs": [
        {
          "output_type": "stream",
          "name": "stdout",
          "text": [
            "Evaluation \t Proposed point \t  Current eval. \t  Best eval. \t        Exact EI: StdDev. x \t Approx EI: StdDev. x \n",
            "init\t [ 4.02288795 -1.72052679]\t 31.08835710146886\t 17.28954482757088\t    \t    \n",
            "init\t [ 3.28938622 -4.69302655]\t 58.797867722203385\t 17.28954482757088\t    \t    \n",
            "init\t [-4.0175956   0.97333314]\t 17.28954482757088\t 17.28954482757088\t    \t    \n",
            "init\t [ 0.30532979 -0.83141193]\t 19.296253155889353\t 17.28954482757088\t    \t    \n",
            "init\t [-1.68542362  1.25459899]\t 28.650630936276173\t 17.28954482757088\t    \t    \n",
            "1  \t [5.12 5.12]\t 57.849427451571785\t 17.28954482757088\t 4.472677918711789\t 4.385877122579495\n",
            "2  \t [-5.12 -5.12]\t 57.849427451571785\t 17.28954482757088\t 3.981992141643234\t 4.247353997578747\n",
            "3  \t [0.39239961 5.12      ]\t 46.879049981380305\t 17.28954482757088\t 3.3488394020595016\t 3.913176376308614\n",
            "4  \t [-0.95408494 -4.92186911]\t 26.729297813340416\t 17.28954482757088\t 3.1252574209611974\t 4.23978064900883\n",
            "5  \t [3.88132283 1.66847213]\t 35.40357333585098\t 17.28954482757088\t 2.755187053506103\t 3.3091601398591335\n",
            "6  \t [-3.50135733  4.65921874]\t 69.36710849405449\t 17.28954482757088\t 2.8279717762276526\t 3.3177706767248027\n",
            "7  \t [-2.93001825 -2.19131086]\t 20.73354995532408\t 17.28954482757088\t 2.9556851424534156\t 3.023886927344265\n",
            "\u001b[1m\u001b[92m8\u001b[0m\t \u001b[1m\u001b[92m[1.07553306 2.06715424]\u001b[0m\t \u001b[1m\u001b[92m7.412137046156813\u001b[0m\t \u001b[1m\u001b[92m7.412137046156813\u001b[0m\t \u001b[1m\u001b[92m2.663716802783347\u001b[0m\t \u001b[1m\u001b[92m2.9492520958964876\u001b[0m\n",
            "9  \t [-5.12       -1.60992955]\t 49.22454018711592\t 7.412137046156813\t 2.8097190531659555\t 2.9632196653249343\n",
            "10 \t [ 0.39818689 -2.89160704]\t 28.7735278144756\t 7.412137046156813\t 3.0987877575804816\t 3.208154995682435\n",
            "11 \t [2.8543868 3.5640956]\t 43.95168582413419\t 7.412137046156813\t 3.132246499996522\t 3.1247505269615994\n",
            "12 \t [1.47022114 0.77531512]\t 31.00423299668415\t 7.412137046156813\t 2.880403185254185\t 2.78595720162334\n",
            "13 \t [-0.21745353  2.81863352]\t 21.781299040701573\t 7.412137046156813\t 2.7184357646207635\t 2.7648556408625113\n",
            "14 \t [-4.92313474  2.42023295]\t 50.008644011662\t 7.412137046156813\t 3.1245067256787253\t 2.937817372233235\n",
            "15 \t [-2.83052469 -4.2316744 ]\t 39.92364908503027\t 7.412137046156813\t 3.0534691421132485\t 3.1733022651993603\n",
            "16 \t [-1.74729971 -0.92252376]\t 15.235407365005406\t 7.412137046156813\t 2.8300900621456906\t 2.823283437517072\n",
            "17 \t [5.12      0.0169308]\t 28.98152984191843\t 7.412137046156813\t 3.3556215159125196\t 3.5583794920396654\n",
            "18 \t [ 0.72393115 -5.12      ]\t 41.07942972632672\t 7.412137046156813\t 2.8622332433555617\t 3.0180996818003964\n",
            "19 \t [ 2.14738809 -1.8833903 ]\t 14.714768368319437\t 7.412137046156813\t 3.1697500291371363\t 3.3737306968754432\n",
            "20 \t [ 4.9340119  -3.15179319]\t 39.339231124959305\t 7.412137046156813\t 3.030424466872662\t 3.2910172530605557\n"
          ]
        }
      ],
      "source": [
        "### EXACT GP EI GRADIENTS\n",
        "\n",
        "np.random.seed(run_num_6)\n",
        "surrogate_gp_6 = dGaussianProcess(cov_func, optimize=opt)\n",
        "\n",
        "gp_6 = dGPGO_gp(surrogate_gp_6, Acquisition_grad(util_gp), objfunc, param)\n",
        "gp_6.run(init_evals=n_init, max_iter=iters)\n"
      ]
    },
    {
      "cell_type": "code",
      "execution_count": 19,
      "metadata": {
        "id": "fKB8MCD_GCVI",
        "colab": {
          "base_uri": "https://localhost:8080/"
        },
        "outputId": "ab7dc923-0a90-41e4-95de-150dd2e89ef1"
      },
      "outputs": [
        {
          "output_type": "stream",
          "name": "stdout",
          "text": [
            "Evaluation \t Proposed point \t  Current eval. \t  Best eval. \t        Exact EI: StdDev. x \t Approx EI: StdDev. x \n",
            "init\t [-4.33860312  2.86636843]\t 45.646133072936244\t 22.52235437888213\t    \t    \n",
            "init\t [-0.63068947  2.28828342]\t 34.83012662845338\t 22.52235437888213\t    \t    \n",
            "init\t [4.8946126  0.39419771]\t 44.09657005662876\t 22.52235437888213\t    \t    \n",
            "init\t [ 0.01147355 -4.38219639]\t 36.613209822404315\t 22.52235437888213\t    \t    \n",
            "init\t [-2.37118484e+00 -1.20319155e-03]\t 22.52235437888213\t 22.52235437888213\t    \t    \n",
            "1  \t [-5.12 -5.12]\t 57.849427451571785\t 22.52235437888213\t 3.8026491500397324\t 3.8512257441841946\n",
            "2  \t [3.66237484 5.12      ]\t 57.569392297613234\t 22.52235437888213\t 3.867387143110415\t 4.115667816052539\n",
            "3  \t [ 4.52828409 -4.16265128]\t 62.45864721017638\t 22.52235437888213\t 3.6332475740762114\t 4.0007244098615775\n",
            "4  \t [-4.02558214 -1.33646422]\t 33.289738493146906\t 22.52235437888213\t 2.8825638084769176\t 3.046307140328312\n",
            "\u001b[1m\u001b[92m5\u001b[0m\t \u001b[1m\u001b[92m[ 1.30561129 -0.85934528]\u001b[0m\t \u001b[1m\u001b[92m19.524098049117512\u001b[0m\t \u001b[1m\u001b[92m19.524098049117512\u001b[0m\t \u001b[1m\u001b[92m3.0913302411359456\u001b[0m\t \u001b[1m\u001b[92m3.2582186699246614\u001b[0m\n",
            "6  \t [0.11609633 5.12      ]\t 31.482813126571905\t 19.524098049117512\t 2.8997229642284865\t 3.8342798254160186\n",
            "7  \t [2.24434445 2.31532115]\t 34.032510308894345\t 19.524098049117512\t 2.87598286189458\t 3.4799462074500394\n",
            "8  \t [-2.56582402 -3.4758337 ]\t 57.7066762278762\t 19.524098049117512\t 3.038742726740704\t 3.7043183827975974\n",
            "9  \t [-2.37887928  4.82157764]\t 51.80070543635907\t 19.524098049117512\t 3.5385772988883573\t 3.6126985431076655\n",
            "10 \t [5.12       3.01055289]\t 38.010116626139904\t 19.524098049117512\t 3.069396609569087\t 3.2416780407229076\n",
            "11 \t [ 2.15680208 -5.12      ]\t 38.04968210532146\t 19.524098049117512\t 3.033262174660667\t 2.745162113021066\n",
            "12 \t [-5.11292055  5.04211319]\t 54.3260309744776\t 19.524098049117512\t 3.153294759662835\t 3.4021404378695608\n",
            "13 \t [ 3.2419681  -1.77056739]\t 31.852127747330183\t 19.524098049117512\t 3.2641630575117877\t 2.999640151333713\n",
            "14 \t [-0.74632964 -0.77947533]\t 19.55376409843953\t 19.524098049117512\t 3.346836522218169\t 2.8562269282578048\n",
            "15 \t [ 0.52171952 -2.38079273]\t 43.17108477596321\t 19.524098049117512\t 3.4104910243345485\t 2.9374074903522507\n",
            "16 \t [-5.12        0.33751728]\t 44.264543231983346\t 19.524098049117512\t 3.133640715127003\t 2.91843169354742\n",
            "17 \t [1.26169743 0.50194426]\t 32.577391869741945\t 19.524098049117512\t 3.252649468262774\t 3.0166936063057874\n",
            "18 \t [ 5.12       -1.58040355]\t 50.17321262059416\t 19.524098049117512\t 3.776289008667852\t 3.3241573932236546\n",
            "19 \t [-4.89363627 -2.96944867]\t 35.10023543726601\t 19.524098049117512\t 3.3476473798622854\t 3.2811826866992875\n",
            "20 \t [-2.62600488  1.85585522]\t 31.194941008149257\t 19.524098049117512\t 3.2137221632908477\t 2.8557663535713678\n"
          ]
        }
      ],
      "source": [
        "### EXACT GP EI GRADIENTS\n",
        "\n",
        "np.random.seed(run_num_7)\n",
        "surrogate_gp_7 = dGaussianProcess(cov_func, optimize=opt)\n",
        "\n",
        "gp_7 = dGPGO_gp(surrogate_gp_7, Acquisition_grad(util_gp), objfunc, param)\n",
        "gp_7.run(init_evals=n_init, max_iter=iters)\n"
      ]
    },
    {
      "cell_type": "code",
      "execution_count": 20,
      "metadata": {
        "id": "4unvifF-GCXp",
        "colab": {
          "base_uri": "https://localhost:8080/"
        },
        "outputId": "5eddb0bf-b711-4858-e605-4e826189d303"
      },
      "outputs": [
        {
          "output_type": "stream",
          "name": "stdout",
          "text": [
            "Evaluation \t Proposed point \t  Current eval. \t  Best eval. \t        Exact EI: StdDev. x \t Approx EI: StdDev. x \n",
            "init\t [3.82391708 4.79785639]\t 50.20079446939181\t 13.871821018360485\t    \t    \n",
            "init\t [3.78055209 0.31596228]\t 36.5114251593508\t 13.871821018360485\t    \t    \n",
            "init\t [-2.73686192 -5.00327624]\t 43.34985765011677\t 13.871821018360485\t    \t    \n",
            "init\t [-0.7119993  -0.99992207]\t 13.871821018360485\t 13.871821018360485\t    \t    \n",
            "init\t [ 0.23218863 -0.22126801]\t 17.190590355445654\t 13.871821018360485\t    \t    \n",
            "1  \t [ 4.96376909 -4.82584897]\t 53.598448729164815\t 13.871821018360485\t 3.3833642315427004\t 4.175381521979718\n",
            "2  \t [-5.03492225  2.95509263]\t 34.71822332027364\t 13.871821018360485\t 3.654723920757949\t 3.854996104509319\n",
            "3  \t [-0.88346227  5.12      ]\t 32.26835247215\t 13.871821018360485\t 2.9754652901330023\t 3.6450244256168927\n",
            "4  \t [ 1.0844111  -4.79070896]\t 32.97062299379361\t 13.871821018360485\t 3.314184245046948\t 3.171649146320166\n",
            "5  \t [-5.12       -1.44673329]\t 50.46289040957707\t 13.871821018360485\t 3.473550912197127\t 3.47496607644724\n",
            "\u001b[1m\u001b[92m6\u001b[0m\t \u001b[1m\u001b[92m[-1.95159419  1.92940076]\u001b[0m\t \u001b[1m\u001b[92m8.958091411800888\u001b[0m\t \u001b[1m\u001b[92m8.958091411800888\u001b[0m\t \u001b[1m\u001b[92m3.298874674100236\u001b[0m\t \u001b[1m\u001b[92m3.368317857819336\u001b[0m\n",
            "7  \t [1.43796867 2.43201855]\t 46.3340350028271\t 8.958091411800888\t 2.9815379383437066\t 2.8893147645755395\n",
            "8  \t [ 2.15576526 -2.10872731]\t 15.757196595783046\t 8.958091411800888\t 3.4767671503169506\t 3.4361142368430677\n",
            "9  \t [ 5.09033741 -1.80057301]\t 37.59730661475024\t 8.958091411800888\t 3.553131188236469\t 3.656624117226692\n",
            "10 \t [-5.12 -5.12]\t 57.849427451571785\t 8.958091411800888\t 3.7392012512651105\t 3.7316054378119423\n",
            "11 \t [5.12       2.58500429]\t 54.21424408874834\t 8.958091411800888\t 2.759634804116253\t 3.312928397320116\n",
            "12 \t [-2.24170879 -2.30162295]\t 32.98899954267589\t 8.958091411800888\t 2.2949168353752163\t 2.7763112232723244\n",
            "13 \t [-3.16274303  0.56090919]\t 34.38218654040147\t 8.958091411800888\t 2.528176931250177\t 3.124300309085798\n",
            "14 \t [-3.48568377  5.08364923]\t 59.30273884482088\t 8.958091411800888\t 2.739949564136236\t 3.88848902958342\n",
            "15 \t [1.57289281 5.12      ]\t 50.36809578337911\t 8.958091411800888\t 2.780010375160953\t 2.7801789418274763\n",
            "16 \t [-0.87779246  1.84628676]\t 11.297737039014914\t 8.958091411800888\t 2.665603290244821\t 2.8088332913925598\n",
            "17 \t [ 0.05935303 -2.74147852]\t 18.741739572599794\t 8.958091411800888\t 2.9770723172141293\t 2.964622923842145\n",
            "18 \t [-1.7103522   2.86725968]\t 26.892992150046926\t 8.958091411800888\t 2.9599639610932833\t 3.1293272090992983\n",
            "19 \t [ 2.98112013 -3.51358623]\t 41.26622963346738\t 8.958091411800888\t 2.5421629446050233\t 2.543126153261876\n",
            "20 \t [ 1.78388063 -0.57786684]\t 30.230266776355226\t 8.958091411800888\t 2.6613463619423783\t 2.6594707985805224\n"
          ]
        }
      ],
      "source": [
        "### EXACT GP EI GRADIENTS\n",
        "\n",
        "np.random.seed(run_num_8)\n",
        "surrogate_gp_8 = dGaussianProcess(cov_func, optimize=opt)\n",
        "\n",
        "gp_8 = dGPGO_gp(surrogate_gp_8, Acquisition_grad(util_gp), objfunc, param)\n",
        "gp_8.run(init_evals=n_init, max_iter=iters)\n"
      ]
    },
    {
      "cell_type": "code",
      "execution_count": 21,
      "metadata": {
        "id": "85OIXcg7GCaJ",
        "colab": {
          "base_uri": "https://localhost:8080/"
        },
        "outputId": "a8172060-05fb-45a4-c60b-991f3b75db4e"
      },
      "outputs": [
        {
          "output_type": "stream",
          "name": "stdout",
          "text": [
            "Evaluation \t Proposed point \t  Current eval. \t  Best eval. \t        Exact EI: StdDev. x \t Approx EI: StdDev. x \n",
            "init\t [-5.01376866  0.01919582]\t 25.248289026162446\t 24.454800313488693\t    \t    \n",
            "init\t [-0.04328148 -3.74958562]\t 24.454800313488693\t 24.454800313488693\t    \t    \n",
            "init\t [-3.66478248 -2.88195916]\t 39.46509426509438\t 24.454800313488693\t    \t    \n",
            "init\t [-0.83447623 -2.57944404]\t 31.06766397812992\t 24.454800313488693\t    \t    \n",
            "init\t [-4.25922917 -1.58209393]\t 49.922543556206975\t 24.454800313488693\t    \t    \n",
            "1  \t [5.12 5.12]\t 57.849427451571785\t 24.454800313488693\t 3.015092816370131\t 3.3035248506018386\n",
            "2  \t [ 5.03785231 -1.04596176]\t 27.16958169742484\t 24.454800313488693\t 3.3688604701071845\t 3.7931298887920093\n",
            "3  \t [-1.47691444  4.45110873]\t 61.42049213265991\t 24.454800313488693\t 2.9943420025712695\t 3.1374870491490165\n",
            "4  \t [1.55244529 1.27551439]\t 35.09524858557889\t 24.454800313488693\t 3.1347211726878985\t 3.7398254750178626\n",
            "5  \t [-2.25090749  1.29293161]\t 29.460154598682422\t 24.454800313488693\t 3.5169423266160087\t 4.200620681198181\n",
            "6  \t [1.8025736 5.12     ]\t 38.930436244639026\t 24.454800313488693\t 3.5980394168729037\t 4.338025145796378\n",
            "7  \t [ 2.90505959 -3.3723889 ]\t 38.49358175215039\t 24.454800313488693\t 3.8596120425597693\t 4.66183349046384\n",
            "8  \t [4.95138848 1.94729695]\t 29.314338159432932\t 24.454800313488693\t 3.544676733015427\t 4.2866516099088745\n",
            "9  \t [-5.12 -5.12]\t 57.849427451571785\t 24.454800313488693\t 3.333442321537104\t 3.8260623228482045\n",
            "10 \t [-2.04794507 -5.12      ]\t 33.56912257570726\t 24.454800313488693\t 2.3696957061013872\t 3.40384273726365\n",
            "11 \t [-4.99094553  3.24345975]\t 45.0349263236176\t 24.454800313488693\t 2.6121666453921244\t 3.9135354466907097\n",
            "12 \t [-0.31056367 -0.33541589]\t 29.035994239901903\t 24.454800313488693\t 2.3762895892860096\t 2.978775140164671\n",
            "\u001b[1m\u001b[92m13\u001b[0m\t \u001b[1m\u001b[92m[ 2.32763953 -0.95684751]\u001b[0m\t \u001b[1m\u001b[92m21.385832201239403\u001b[0m\t \u001b[1m\u001b[92m21.385832201239403\u001b[0m\t \u001b[1m\u001b[92m2.2857950205018662\u001b[0m\t \u001b[1m\u001b[92m3.2841598346548517\u001b[0m\n",
            "14 \t [0.43634702 2.93638572]\t 28.811813269830658\t 21.385832201239403\t 2.751363107397507\t 3.524531522416293\n",
            "15 \t [3.14858982 3.10369468]\t 25.645683655116798\t 21.385832201239403\t 2.611018824234071\t 3.4663714308716065\n",
            "16 \t [ 4.40639363 -4.2982085 ]\t 69.19353017553054\t 21.385832201239403\t 2.965023313947967\t 4.014022058631359\n",
            "17 \t [-3.77307603  4.75427167]\t 55.12600184002387\t 21.385832201239403\t 2.5641740710617436\t 3.4872349053604985\n",
            "18 \t [ 0.84859728 -4.40252137]\t 42.47825906850564\t 21.385832201239403\t 2.6235751561038985\t 3.1500542434553687\n",
            "19 \t [3.60464469 0.47105014]\t 50.96558733504713\t 21.385832201239403\t 2.958911917459753\t 3.05477524476385\n",
            "\u001b[1m\u001b[92m20\u001b[0m\t \u001b[1m\u001b[92m[-2.11350524 -0.91056025]\u001b[0m\t \u001b[1m\u001b[92m9.271047107468181\u001b[0m\t \u001b[1m\u001b[92m9.271047107468181\u001b[0m\t \u001b[1m\u001b[92m3.177291922836931\u001b[0m\t \u001b[1m\u001b[92m3.338732769193428\u001b[0m\n"
          ]
        }
      ],
      "source": [
        "### EXACT GP EI GRADIENTS\n",
        "\n",
        "np.random.seed(run_num_9)\n",
        "surrogate_gp_9 = dGaussianProcess(cov_func, optimize=opt)\n",
        "\n",
        "gp_9 = dGPGO_gp(surrogate_gp_9, Acquisition_grad(util_gp), objfunc, param)\n",
        "gp_9.run(init_evals=n_init, max_iter=iters)\n"
      ]
    },
    {
      "cell_type": "code",
      "execution_count": 22,
      "metadata": {
        "id": "QQBR-qJPGCcp",
        "colab": {
          "base_uri": "https://localhost:8080/"
        },
        "outputId": "2eb9aafc-30fd-43be-9131-ec008cd56fc6"
      },
      "outputs": [
        {
          "output_type": "stream",
          "name": "stdout",
          "text": [
            "Evaluation \t Proposed point \t  Current eval. \t  Best eval. \t        Exact EI: StdDev. x \t Approx EI: StdDev. x \n",
            "init\t [ 2.77832339 -4.90750004]\t 41.674330194390116\t 13.839458310244165\t    \t    \n",
            "init\t [1.36855793 2.54775176]\t 44.69639719065837\t 13.839458310244165\t    \t    \n",
            "init\t [-0.01528819 -2.81808235]\t 13.839458310244165\t 13.839458310244165\t    \t    \n",
            "init\t [-3.09183626  2.66783449]\t 33.23221510904937\t 13.839458310244165\t    \t    \n",
            "init\t [-3.38830503 -4.2154003 ]\t 54.73014366983691\t 13.839458310244165\t    \t    \n",
            "1  \t [ 5.12       -0.53830217]\t 48.92629267922258\t 13.839458310244165\t 3.961619521939512\t 4.133017479311657\n",
            "2  \t [5.12 5.12]\t 57.849427451571785\t 13.839458310244165\t 3.597556994738319\t 3.3248830719714504\n",
            "3  \t [-4.22754093 -0.73798976]\t 37.76417471725897\t 13.839458310244165\t 3.1434915627139564\t 3.272303911272761\n",
            "4  \t [ 1.77944761 -0.72160778]\t 23.6219314007071\t 13.839458310244165\t 3.7985447213847947\t 3.7349350096004357\n",
            "5  \t [-4.5050859   5.00650982]\t 65.36419794062027\t 13.839458310244165\t 3.4071060758875698\t 3.8418090629018944\n",
            "6  \t [0.10579747 5.07144996]\t 28.850951888017963\t 13.839458310244165\t 3.6984222353957836\t 3.8060025265382578\n",
            "\u001b[1m\u001b[92m7\u001b[0m\t \u001b[1m\u001b[92m[-1.10430841 -0.00826503]\u001b[0m\t \u001b[1m\u001b[92m3.304937571276623\u001b[0m\t \u001b[1m\u001b[92m3.304937571276623\u001b[0m\t \u001b[1m\u001b[92m3.0162881871761464\u001b[0m\t \u001b[1m\u001b[92m3.8624770652861447\u001b[0m\n",
            "8  \t [4.02447235 2.51756262]\t 42.59166081837165\t 3.304937571276623\t 2.9352067786289138\t 3.2267258016632194\n",
            "9  \t [-0.53137903 -4.86686758]\t 47.07434955710461\t 3.304937571276623\t 3.251157797743196\t 3.6149533949234294\n",
            "10 \t [-0.93666847  0.62454078]\t 19.140164738802195\t 3.304937571276623\t 3.0426527929500087\t 3.600822173479859\n",
            "11 \t [-1.27350046 -1.65147014]\t 31.623247710938486\t 3.304937571276623\t 2.590707711016161\t 3.7471853204727776\n",
            "12 \t [ 4.37130588 -2.95944354]\t 45.0945962517404\t 3.304937571276623\t 3.2410900686442616\t 3.4320900719687786\n",
            "13 \t [-5.12 -5.12]\t 57.849427451571785\t 3.304937571276623\t 3.2223715465656224\t 3.354692129354853\n",
            "14 \t [-5.12        1.64301018]\t 47.85157330243807\t 3.304937571276623\t 2.869599829458941\t 3.0999646134891505\n",
            "15 \t [2.77700547 4.67542814]\t 52.39863399663816\t 3.304937571276623\t 3.026180450421598\t 3.097604632442853\n",
            "16 \t [-1.84996598  5.11863861]\t 36.398737849146066\t 3.304937571276623\t 3.040321607841568\t 3.2330060301917034\n",
            "17 \t [-2.45053553  0.58330932]\t 44.52729163203699\t 3.304937571276623\t 2.901022754487867\t 2.9059248477408204\n",
            "18 \t [-5.12       -2.57923472]\t 54.36329541155715\t 3.304937571276623\t 2.762732758329172\t 2.684688607367829\n",
            "19 \t [ 1.48850798 -2.72487854]\t 41.18644351224248\t 3.304937571276623\t 2.524843570275436\t 2.5639386308261614\n",
            "20 \t [-0.76633817  2.58851034]\t 34.75596565544681\t 3.304937571276623\t 3.237604940233273\t 3.242786868200868\n"
          ]
        }
      ],
      "source": [
        "### EXACT GP EI GRADIENTS\n",
        "\n",
        "np.random.seed(run_num_10)\n",
        "surrogate_gp_10 = dGaussianProcess(cov_func, optimize=opt)\n",
        "\n",
        "gp_10 = dGPGO_gp(surrogate_gp_10, Acquisition_grad(util_gp), objfunc, param)\n",
        "gp_10.run(init_evals=n_init, max_iter=iters)\n"
      ]
    },
    {
      "cell_type": "code",
      "execution_count": 23,
      "metadata": {
        "id": "JS8ejeQ2GCfi",
        "colab": {
          "base_uri": "https://localhost:8080/"
        },
        "outputId": "7e9dc133-5769-483a-ec0c-95b5a925af3a"
      },
      "outputs": [
        {
          "output_type": "stream",
          "name": "stdout",
          "text": [
            "Evaluation \t Proposed point \t  Current eval. \t  Best eval. \t        Exact EI: StdDev. x \t Approx EI: StdDev. x \n",
            "init\t [-3.27403839 -4.92057353]\t 47.655641290890955\t 10.679755252484755\t    \t    \n",
            "init\t [-0.37664229  2.30332343]\t 35.87889240695259\t 10.679755252484755\t    \t    \n",
            "init\t [-0.81711509 -0.14922651]\t 10.679755252484755\t 10.679755252484755\t    \t    \n",
            "init\t [-4.98912446 -0.12931474]\t 28.05462905574235\t 10.679755252484755\t    \t    \n",
            "init\t [4.52410012 3.59214172]\t 71.62694632141611\t 10.679755252484755\t    \t    \n",
            "1  \t [ 3.03550212 -4.46785095]\t 49.22040431745476\t 10.679755252484755\t 3.2120322860731956\t 4.139598688168426\n",
            "2  \t [ 4.25360926 -0.55294285]\t 48.0774987666756\t 10.679755252484755\t 2.830691632807321\t 3.796937629956939\n",
            "3  \t [1.24702516 5.12      ]\t 40.292881856182845\t 10.679755252484755\t 3.447203804186004\t 4.149003702718555\n",
            "4  \t [-0.14982725 -3.281103  ]\t 26.843298318720986\t 10.679755252484755\t 2.5702492725696815\t 3.0291388632441754\n",
            "5  \t [-3.6313084   3.02560873]\t 39.25519344676327\t 10.679755252484755\t 2.8906755367459063\t 3.682512155948192\n",
            "6  \t [-2.84140872 -1.78911886]\t 23.40852235390129\t 10.679755252484755\t 3.088896792615384\t 3.1446435724455233\n",
            "7  \t [ 1.44886905 -0.97131575]\t 22.693014772502647\t 10.679755252484755\t 3.515632445218774\t 3.737642924012391\n",
            "8  \t [-1.42594454  4.96073383]\t 45.88185417083119\t 10.679755252484755\t 3.7092432088042178\t 3.7778211806313053\n",
            "9  \t [-5.12       -2.99585908]\t 37.90326989039408\t 10.679755252484755\t 3.4588648615989612\t 3.232371926824314\n",
            "10 \t [2.20330635 1.72636343]\t 26.422625257782258\t 10.679755252484755\t 3.0451118828764634\t 3.3317899930226442\n",
            "11 \t [-2.56052552  0.6641364 ]\t 41.419971254031566\t 10.679755252484755\t 3.2851246777336183\t 3.7035086698039352\n",
            "12 \t [-4.69318951  4.53457892]\t 75.84752782491911\t 10.679755252484755\t 3.1544380729669625\t 3.5512280097909366\n",
            "13 \t [-0.66210384 -1.15536966]\t 21.41784511837718\t 10.679755252484755\t 3.208826373491104\t 3.118270915366501\n",
            "14 \t [ 0.03622543 -5.12      ]\t 29.183943611692925\t 10.679755252484755\t 3.1753799341320406\t 3.3848730352750263\n",
            "15 \t [5.12       1.34047705]\t 46.10514389584846\t 10.679755252484755\t 3.4042387046759925\t 3.1760256686261696\n",
            "16 \t [ 3.94417466 -2.51560884]\t 42.44563327320033\t 10.679755252484755\t 3.072486207936073\t 3.3754156265756836\n",
            "17 \t [0.73875144 0.31404037]\t 25.26662496239247\t 10.679755252484755\t 2.5880801845366492\t 2.704172322628977\n",
            "18 \t [-5.12 -5.12]\t 57.849427451571785\t 10.679755252484755\t 3.1687481470765344\t 3.4360008157898876\n",
            "19 \t [ 1.57003711 -2.6401009 ]\t 44.85178025868372\t 10.679755252484755\t 2.8792186348989675\t 2.9454575099737124\n",
            "20 \t [-5.02099311  1.57425239]\t 46.7068016452303\t 10.679755252484755\t 2.9505257561634326\t 3.139808609238246\n"
          ]
        }
      ],
      "source": [
        "### EXACT GP EI GRADIENTS\n",
        "\n",
        "np.random.seed(run_num_11)\n",
        "surrogate_gp_11 = dGaussianProcess(cov_func, optimize=opt)\n",
        "\n",
        "gp_11 = dGPGO_gp(surrogate_gp_11, Acquisition_grad(util_gp), objfunc, param)\n",
        "gp_11.run(init_evals=n_init, max_iter=iters)\n"
      ]
    },
    {
      "cell_type": "code",
      "execution_count": 24,
      "metadata": {
        "id": "DXwjUVZ4GCii",
        "colab": {
          "base_uri": "https://localhost:8080/"
        },
        "outputId": "7974b970-dd67-4b1b-cc83-8df6f932d664"
      },
      "outputs": [
        {
          "output_type": "stream",
          "name": "stdout",
          "text": [
            "Evaluation \t Proposed point \t  Current eval. \t  Best eval. \t        Exact EI: StdDev. x \t Approx EI: StdDev. x \n",
            "init\t [-3.54137249  2.45810889]\t 57.903242869085595\t 40.51116653209555\t    \t    \n",
            "init\t [-2.42365424  0.34549139]\t 40.51116653209555\t 40.51116653209555\t    \t    \n",
            "init\t [-4.97075238  4.28796936]\t 55.62655915398208\t 40.51116653209555\t    \t    \n",
            "init\t [ 4.10332011 -4.77776458]\t 49.962803461970296\t 40.51116653209555\t    \t    \n",
            "init\t [ 4.6791612  -3.71497655]\t 62.183891474990624\t 40.51116653209555\t    \t    \n",
            "1  \t [5.12 5.12]\t 57.849427451571785\t 40.51116653209555\t 3.950402656591191\t 4.0915738367981485\n",
            "2  \t [-5.12 -5.12]\t 57.849427451571785\t 40.51116653209555\t 3.728461371001829\t 3.5084444709131293\n",
            "\u001b[1m\u001b[92m3\u001b[0m\t \u001b[1m\u001b[92m[2.39120481 0.97307722]\u001b[0m\t \u001b[1m\u001b[92m24.5606403651218\u001b[0m\t \u001b[1m\u001b[92m24.5606403651218\u001b[0m\t \u001b[1m\u001b[92m2.870589978022405\u001b[0m\t \u001b[1m\u001b[92m3.0383448985476837\u001b[0m\n",
            "4  \t [-0.46882411 -4.42580423]\t 58.54919150500953\t 24.5606403651218\t 2.952737224709507\t 3.3444601419119637\n",
            "5  \t [0.89124597 4.54092672]\t 43.33072399829906\t 24.5606403651218\t 2.579812885664174\t 3.4270283908272683\n",
            "6  \t [-5.12       -1.55605117]\t 50.73223892290047\t 24.5606403651218\t 2.6260487653391182\t 3.24063868349282\n",
            "7  \t [5.12       0.41252994]\t 47.62227907653468\t 24.5606403651218\t 2.7565196895814634\t 3.0365007028581092\n",
            "8  \t [ 0.70322767 -1.40847166]\t 33.76643081847721\t 24.5606403651218\t 2.4460101846944102\t 3.021570379010278\n",
            "9  \t [-0.47128385  2.26775686]\t 36.31588134803827\t 24.5606403651218\t 2.718187808906943\t 2.8880201969045958\n",
            "10 \t [-1.82181678  5.12      ]\t 37.882929567150335\t 24.5606403651218\t 2.9828192137609078\t 3.3538516713689104\n",
            "11 \t [-2.58478391 -2.5553685 ]\t 51.226279276971354\t 24.5606403651218\t 2.9223227110580576\t 3.258773207940239\n",
            "12 \t [3.15345759 3.25556616]\t 35.191943560389156\t 24.5606403651218\t 2.622107706080114\t 3.207724074514642\n",
            "13 \t [ 3.20548171 -1.60794185]\t 37.886672676414435\t 24.5606403651218\t 2.963629188069562\t 2.9967744761282185\n",
            "\u001b[1m\u001b[92m14\u001b[0m\t \u001b[1m\u001b[92m[ 1.84660394 -3.9885046 ]\u001b[0m\t \u001b[1m\u001b[92m23.640288920312173\u001b[0m\t \u001b[1m\u001b[92m23.640288920312173\u001b[0m\t \u001b[1m\u001b[92m3.4459184022247875\u001b[0m\t \u001b[1m\u001b[92m3.166646787030028\u001b[0m\n",
            "15 \t [-2.94072526 -5.12      ]\t 38.25813529204089\t 23.640288920312173\t 3.174986428548629\t 3.3110320721109883\n",
            "16 \t [5.12       2.66482547]\t 51.125858479659684\t 23.640288920312173\t 2.8493763328557136\t 3.42816806854577\n",
            "17 \t [-5.12        0.83177094]\t 34.70181197342633\t 23.640288920312173\t 2.666740346000742\t 2.810815151448392\n",
            "\u001b[1m\u001b[92m18\u001b[0m\t \u001b[1m\u001b[92m[0.16795967 0.38981213]\u001b[0m\t \u001b[1m\u001b[92m22.948288354366888\u001b[0m\t \u001b[1m\u001b[92m22.948288354366888\u001b[0m\t \u001b[1m\u001b[92m2.776359897939359\u001b[0m\t \u001b[1m\u001b[92m2.7832409572735384\u001b[0m\n",
            "19 \t [2.82417895 5.12      ]\t 42.4068211431546\t 22.948288354366888\t 3.1557998983222584\t 3.0376228895689374\n",
            "20 \t [-0.34871375 -2.35996999]\t 37.87612510004953\t 22.948288354366888\t 2.5194260028594875\t 2.709749165362847\n"
          ]
        }
      ],
      "source": [
        "### EXACT GP EI GRADIENTS\n",
        "\n",
        "np.random.seed(run_num_12)\n",
        "surrogate_gp_12 = dGaussianProcess(cov_func, optimize=opt)\n",
        "\n",
        "gp_12 = dGPGO_gp(surrogate_gp_12, Acquisition_grad(util_gp), objfunc, param)\n",
        "gp_12.run(init_evals=n_init, max_iter=iters)\n"
      ]
    },
    {
      "cell_type": "code",
      "execution_count": 25,
      "metadata": {
        "id": "CphOPndPGClX",
        "colab": {
          "base_uri": "https://localhost:8080/"
        },
        "outputId": "1ecf7264-31fd-4bf1-c60e-9586f2822221"
      },
      "outputs": [
        {
          "output_type": "stream",
          "name": "stdout",
          "text": [
            "Evaluation \t Proposed point \t  Current eval. \t  Best eval. \t        Exact EI: StdDev. x \t Approx EI: StdDev. x \n",
            "init\t [ 2.84367268 -2.68757791]\t 33.58019830007169\t 17.435826639425656\t    \t    \n",
            "init\t [3.32061217 4.76927179]\t 56.857057997503354\t 17.435826639425656\t    \t    \n",
            "init\t [ 4.83943541 -0.47667971]\t 48.211919361679726\t 17.435826639425656\t    \t    \n",
            "init\t [1.11659482 2.82139151]\t 17.435826639425656\t 17.435826639425656\t    \t    \n",
            "init\t [1.45012065 2.27346667]\t 38.25352329493884\t 17.435826639425656\t    \t    \n",
            "1  \t [-5.12 -5.12]\t 57.849427451571785\t 17.435826639425656\t 3.468104605129011\t 3.449544912369958\n",
            "2  \t [-3.81749683  0.42652771]\t 39.59347826031612\t 17.435826639425656\t 2.929846276361838\t 3.880786307538539\n",
            "3  \t [-2.89939236  5.12      ]\t 39.26351982732489\t 17.435826639425656\t 3.371200826249854\t 3.992857113981332\n",
            "4  \t [-0.69420447 -5.12      ]\t 42.84099984901968\t 17.435826639425656\t 3.0399904812719574\t 3.5695918964440865\n",
            "5  \t [-2.78914898 -2.47302964]\t 41.316915597905414\t 17.435826639425656\t 3.597883913411788\t 3.812697933695902\n",
            "\u001b[1m\u001b[92m6\u001b[0m\t \u001b[1m\u001b[92m[ 0.03880372 -0.71742593]\u001b[0m\t \u001b[1m\u001b[92m12.844385152016885\u001b[0m\t \u001b[1m\u001b[92m12.844385152016885\u001b[0m\t \u001b[1m\u001b[92m2.857543467900508\u001b[0m\t \u001b[1m\u001b[92m3.680380361294026\u001b[0m\n",
            "7  \t [0.09078976 5.12      ]\t 30.51636983993898\t 12.844385152016885\t 3.256682709158617\t 3.971877253214039\n",
            "8  \t [5.12       2.47329596]\t 54.90147507527987\t 12.844385152016885\t 2.8978140616622636\t 3.640281200144419\n",
            "9  \t [-1.21732831  1.56627536]\t 31.04209865846844\t 12.844385152016885\t 2.877122174361646\t 3.8697398275272064\n",
            "10 \t [-5.10580865 -2.0041286 ]\t 32.218870655181334\t 12.844385152016885\t 3.296087173003579\t 4.096153003462515\n",
            "11 \t [ 5.03138232 -3.60708349]\t 56.34027180209547\t 12.844385152016885\t 2.875710370952013\t 3.938626725855731\n",
            "12 \t [ 0.09034221 -2.56877804]\t 27.25573791220445\t 12.844385152016885\t 3.3560776351276607\t 3.563934576770871\n",
            "13 \t [-4.81172351  2.85489858]\t 41.39738072804022\t 12.844385152016885\t 3.4166517243833012\t 3.7794465778427964\n",
            "\u001b[1m\u001b[92m14\u001b[0m\t \u001b[1m\u001b[92m[ 1.95235326 -0.09348735]\u001b[0m\t \u001b[1m\u001b[92m5.941354841974341\u001b[0m\t \u001b[1m\u001b[92m5.941354841974341\u001b[0m\t \u001b[1m\u001b[92m2.9107009512729474\u001b[0m\t \u001b[1m\u001b[92m2.974904110867827\u001b[0m\n",
            "15 \t [ 2.01112218 -0.11927577]\t 6.762486409977261\t 5.941354841974341\t 2.9053089395102556\t 3.0921017595329165\n",
            "16 \t [-2.8215701 -5.12     ]\t 42.53912406771682\t 5.941354841974341\t 2.6776681821852284\t 2.9861022664943406\n",
            "17 \t [ 2.03329422 -5.05867865]\t 30.614521437016535\t 5.941354841974341\t 3.439443455610879\t 3.464189339652863\n",
            "18 \t [ 2.01811016 -0.14504301]\t 8.031541581982859\t 5.941354841974341\t 2.4306960198435794\t 2.6164463316822117\n",
            "19 \t [-1.56507992  3.4636285 ]\t 53.36175559672206\t 5.941354841974341\t 3.0347395511513415\t 3.2329349317915708\n",
            "20 \t [-1.29283482 -0.66043089]\t 30.101996451610056\t 5.941354841974341\t 3.3312906242067233\t 3.3939401005032077\n"
          ]
        }
      ],
      "source": [
        "### EXACT GP EI GRADIENTS\n",
        "\n",
        "np.random.seed(run_num_13)\n",
        "surrogate_gp_13 = dGaussianProcess(cov_func, optimize=opt)\n",
        "\n",
        "gp_13 = dGPGO_gp(surrogate_gp_13, Acquisition_grad(util_gp), objfunc, param)\n",
        "gp_13.run(init_evals=n_init, max_iter=iters)\n"
      ]
    },
    {
      "cell_type": "code",
      "execution_count": 26,
      "metadata": {
        "id": "ojHTeARNGCoi",
        "colab": {
          "base_uri": "https://localhost:8080/"
        },
        "outputId": "1e32b490-7929-4b4c-ebb1-2f86ca7e54bb"
      },
      "outputs": [
        {
          "output_type": "stream",
          "name": "stdout",
          "text": [
            "Evaluation \t Proposed point \t  Current eval. \t  Best eval. \t        Exact EI: StdDev. x \t Approx EI: StdDev. x \n",
            "init\t [0.14277984 2.79721013]\t 18.683085263052178\t 10.423838604848608\t    \t    \n",
            "init\t [ 3.7931795  -5.03759925]\t 47.36348784446708\t 10.423838604848608\t    \t    \n",
            "init\t [-1.94830412  4.68586229]\t 40.19779334078636\t 10.423838604848608\t    \t    \n",
            "init\t [ 0.13431513 -1.86076749]\t 10.423838604848608\t 10.423838604848608\t    \t    \n",
            "init\t [ 0.40140736 -2.85434939]\t 30.353548735049138\t 10.423838604848608\t    \t    \n",
            "1  \t [-5.12 -5.12]\t 57.849427451571785\t 10.423838604848608\t 4.305246960963045\t 4.074826205461012\n",
            "2  \t [5.12 5.12]\t 57.849427451571785\t 10.423838604848608\t 3.9192087062167373\t 3.907353329505544\n",
            "3  \t [-5.12       0.3554545]\t 45.20267174597589\t 10.423838604848608\t 2.9064075885845853\t 3.721539637466776\n",
            "4  \t [ 5.12       -0.06050559]\t 29.64235096159109\t 10.423838604848608\t 2.8982553103174657\t 3.4150858421151584\n",
            "5  \t [-1.59760721 -0.03747418]\t 21.007297417913293\t 10.423838604848608\t 2.8385247622376055\t 2.761529635925371\n",
            "6  \t [1.79491608 0.4967805 ]\t 30.681621476903537\t 10.423838604848608\t 2.6522303032423507\t 3.646420162165496\n",
            "7  \t [1.87787595 5.12      ]\t 35.2534502651111\t 10.423838604848608\t 3.1565566711671917\t 3.4779762560352285\n",
            "8  \t [-1.84751481 -5.07969837]\t 34.69365150738844\t 10.423838604848608\t 3.2899348206134342\t 3.650058638124165\n",
            "9  \t [-5.06303497  3.61466724]\t 56.98918336534741\t 10.423838604848608\t 2.8818604845308102\t 3.80025954975832\n",
            "10 \t [-3.03052822 -2.48250516]\t 35.46997890891047\t 10.423838604848608\t 2.9006232187142493\t 3.0952297719194712\n",
            "11 \t [ 3.51567076 -2.24145855]\t 46.79922511829074\t 10.423838604848608\t 3.016062494275957\t 3.3197723244211312\n",
            "12 \t [4.16303795 2.34249801]\t 43.11216909525142\t 10.423838604848608\t 3.0131823353367446\t 3.052749479851303\n",
            "13 \t [ 0.96698163 -5.11378773]\t 29.749042993026592\t 10.423838604848608\t 2.6855797836638753\t 3.0186187876533452\n",
            "14 \t [-2.38931098  1.93052581]\t 28.050913877098253\t 10.423838604848608\t 2.501942434954978\t 3.052881233516822\n",
            "15 \t [-5.12       -2.27919076]\t 45.94326795972898\t 10.423838604848608\t 2.789006681628154\t 3.0670586191794307\n",
            "16 \t [-0.03425382 -0.58284916]\t 19.24702356869264\t 10.423838604848608\t 2.6098741383105213\t 2.7173831941700026\n",
            "17 \t [1.74001513 3.0141411 ]\t 22.77910209948601\t 10.423838604848608\t 2.8667601230105046\t 3.109876575101612\n",
            "18 \t [ 5.12       -2.57733492]\t 54.40987413939273\t 10.423838604848608\t 2.491910700193896\t 2.8682047152018972\n",
            "19 \t [-0.27612864  1.40547877]\t 31.973640394746\t 10.423838604848608\t 2.906215337408983\t 3.4539803670749407\n",
            "20 \t [0.11699165 5.12      ]\t 31.520631010352062\t 10.423838604848608\t 2.766444089754822\t 3.0979230306367405\n"
          ]
        }
      ],
      "source": [
        "### EXACT GP EI GRADIENTS\n",
        "\n",
        "np.random.seed(run_num_14)\n",
        "surrogate_gp_14 = dGaussianProcess(cov_func, optimize=opt)\n",
        "\n",
        "gp_14 = dGPGO_gp(surrogate_gp_14, Acquisition_grad(util_gp), objfunc, param)\n",
        "gp_14.run(init_evals=n_init, max_iter=iters)\n"
      ]
    },
    {
      "cell_type": "code",
      "execution_count": 27,
      "metadata": {
        "id": "vCJzn4vWGCs3",
        "colab": {
          "base_uri": "https://localhost:8080/"
        },
        "outputId": "2314357d-9735-457b-e59b-6cefdcaaf518"
      },
      "outputs": [
        {
          "output_type": "stream",
          "name": "stdout",
          "text": [
            "Evaluation \t Proposed point \t  Current eval. \t  Best eval. \t        Exact EI: StdDev. x \t Approx EI: StdDev. x \n",
            "init\t [ 3.57189322 -3.28810573]\t 54.938487770767075\t 7.990765314336182\t    \t    \n",
            "init\t [-4.56332069 -1.41784631]\t 60.750198753157726\t 7.990765314336182\t    \t    \n",
            "init\t [-2.29989449  0.3072023 ]\t 31.984997246800887\t 7.990765314336182\t    \t    \n",
            "init\t [-1.9873903  -2.00218256]\t 7.990765314336182\t 7.990765314336182\t    \t    \n",
            "init\t [-3.97576933 -2.5610341 ]\t 41.754957769694336\t 7.990765314336182\t    \t    \n",
            "1  \t [5.12 5.12]\t 57.849427451571785\t 7.990765314336182\t 3.6936356916626494\t 3.908001163489835\n",
            "2  \t [-0.35157246  5.12      ]\t 45.005812766692976\t 7.990765314336182\t 2.9874573145703516\t 3.712338381751913\n",
            "3  \t [2.59308841 1.16950306]\t 31.584688947189136\t 7.990765314336182\t 3.356210060647031\t 3.5555427282647813\n",
            "4  \t [-5.04628403  4.05419228]\t 42.89546382913226\t 7.990765314336182\t 3.000514979098019\t 3.426729285966233\n",
            "5  \t [-1.61688397 -5.12      ]\t 48.96133288911423\t 7.990765314336182\t 3.443518186129338\t 3.3136069722771335\n",
            "6  \t [ 0.44121736 -1.25803038]\t 31.607312983087798\t 7.990765314336182\t 3.3406850028032036\t 3.3433579450236564\n",
            "7  \t [-5.12 -5.12]\t 57.849427451571785\t 7.990765314336182\t 3.389548392996851\t 3.5909554853304404\n",
            "8  \t [ 1.2456693 -5.12     ]\t 40.20433313144186\t 7.990765314336182\t 3.406338221400385\t 3.6128154134489177\n",
            "9  \t [5.12       2.17724979]\t 39.251626151569496\t 7.990765314336182\t 2.6669365804801966\t 2.7125426498770677\n",
            "10 \t [ 5.12       -0.68442226]\t 43.39791518470368\t 7.990765314336182\t 2.6996967520295057\t 2.9926969958310297\n",
            "11 \t [-0.38004684  2.30015163]\t 35.826063182224324\t 7.990765314336182\t 2.7166870694837084\t 3.0046076930476384\n",
            "12 \t [2.33574772 5.12      ]\t 49.51122710285044\t 7.990765314336182\t 2.7009920296337677\t 2.5978735642162203\n",
            "13 \t [-5.12        1.30392631]\t 43.948766474177724\t 7.990765314336182\t 3.1323756689809823\t 3.226178867728768\n",
            "14 \t [-2.73026125  4.84418965]\t 46.57889543636715\t 7.990765314336182\t 2.8709670199150583\t 3.1920628307810492\n",
            "15 \t [-0.07680533 -3.24805925]\t 21.575854048238497\t 7.990765314336182\t 2.33870644268923\t 2.461256126603713\n",
            "16 \t [-3.11619201  2.63209789]\t 35.9360112755717\t 7.990765314336182\t 3.103083984460514\t 3.0755710620164733\n",
            "17 \t [ 2.52174401 -0.97887479]\t 27.312168210194933\t 7.990765314336182\t 2.665831140118536\t 2.630602949337057\n",
            "18 \t [2.29784905 2.9360215 ]\t 27.658843488657478\t 7.990765314336182\t 2.8638634355299577\t 3.0254660955516153\n",
            "19 \t [-1.91582211 -1.51531788]\t 27.286683075972906\t 7.990765314336182\t 3.013434135414841\t 2.9117643342294683\n",
            "20 \t [0.40275477 0.56899058]\t 37.75174557442823\t 7.990765314336182\t 2.7711803434677305\t 3.2248275424452513\n"
          ]
        }
      ],
      "source": [
        "### EXACT GP EI GRADIENTS\n",
        "\n",
        "np.random.seed(run_num_15)\n",
        "surrogate_gp_15 = dGaussianProcess(cov_func, optimize=opt)\n",
        "\n",
        "gp_15 = dGPGO_gp(surrogate_gp_15, Acquisition_grad(util_gp), objfunc, param)\n",
        "gp_15.run(init_evals=n_init, max_iter=iters)\n"
      ]
    },
    {
      "cell_type": "code",
      "execution_count": 28,
      "metadata": {
        "id": "bGGkhp-kGCw6",
        "colab": {
          "base_uri": "https://localhost:8080/"
        },
        "outputId": "ca903bf5-a1e5-4096-c710-0b7656b1a167"
      },
      "outputs": [
        {
          "output_type": "stream",
          "name": "stdout",
          "text": [
            "Evaluation \t Proposed point \t  Current eval. \t  Best eval. \t        Exact EI: StdDev. x \t Approx EI: StdDev. x \n",
            "init\t [-2.83349935  0.23719262]\t 22.27210456874814\t 22.27210456874814\t    \t    \n",
            "init\t [ 0.51918292 -4.65303603]\t 57.57021076017139\t 22.27210456874814\t    \t    \n",
            "init\t [-1.42613673 -2.83565116]\t 33.89145899403749\t 22.27210456874814\t    \t    \n",
            "init\t [ 1.9325559  -3.44339021]\t 35.85029586225333\t 22.27210456874814\t    \t    \n",
            "init\t [-4.39987336  4.51595121]\t 77.78800881964571\t 22.27210456874814\t    \t    \n",
            "1  \t [5.12 5.12]\t 57.849427451571785\t 22.27210456874814\t 3.965133405589511\t 4.0833901872792495\n",
            "2  \t [5.12     0.135655]\t 32.36092416035443\t 22.27210456874814\t 3.7632541903819026\t 3.263813185734476\n",
            "3  \t [0.43755248 3.98750253]\t 35.362499449628345\t 22.27210456874814\t 3.403876464288054\t 4.078889166399912\n",
            "4  \t [-5.12 -5.12]\t 57.849427451571785\t 22.27210456874814\t 3.5797471765852653\t 3.6555823584593874\n",
            "5  \t [0.82489184 0.43273641]\t 25.45399405097639\t 22.27210456874814\t 2.080974937768671\t 2.7653358771116445\n",
            "6  \t [ 5.12       -3.28421464]\t 51.84402802347754\t 22.27210456874814\t 3.5028762517561667\t 3.6477739024771525\n",
            "7  \t [3.32293585 2.36707067]\t 47.77904299747091\t 22.27210456874814\t 2.892992550669832\t 3.4701650807605087\n",
            "8  \t [-5.12       -1.66515995]\t 46.77923253499253\t 22.27210456874814\t 2.648355540639287\t 3.3420340714143766\n",
            "9  \t [-1.71195722  2.41151709]\t 39.60778461421753\t 22.27210456874814\t 2.9774530950022973\t 3.244900954361486\n",
            "10 \t [ 2.65571287 -0.87624494]\t 26.278185956203046\t 22.27210456874814\t 2.8672461612611806\t 3.36406003086093\n",
            "11 \t [-2.57560446 -5.11762436]\t 54.325526472969386\t 22.27210456874814\t 3.015178050245277\t 3.538346263279625\n",
            "12 \t [-4.89116878  1.40739184]\t 46.50688984115988\t 22.27210456874814\t 3.2487267799857302\t 3.849364202334254\n",
            "13 \t [2.51477901 4.99994776]\t 51.2805083697396\t 22.27210456874814\t 2.547655190656795\t 2.694095318664504\n",
            "\u001b[1m\u001b[92m14\u001b[0m\t \u001b[1m\u001b[92m[-0.56751952 -0.91766733]\u001b[0m\t \u001b[1m\u001b[92m21.58620021652571\u001b[0m\t \u001b[1m\u001b[92m21.58620021652571\u001b[0m\t \u001b[1m\u001b[92m2.2611931736665585\u001b[0m\t \u001b[1m\u001b[92m2.9098595761518085\u001b[0m\n",
            "15 \t [-3.13401707 -2.2141628 ]\t 25.832523313208423\t 21.58620021652571\t 2.620258515469784\t 2.807471747734697\n",
            "\u001b[1m\u001b[92m16\u001b[0m\t \u001b[1m\u001b[92m[0.86257725 2.04238562]\u001b[0m\t \u001b[1m\u001b[92m8.76973987442613\u001b[0m\t \u001b[1m\u001b[92m8.76973987442613\u001b[0m\t \u001b[1m\u001b[92m2.0606658333076484\u001b[0m\t \u001b[1m\u001b[92m2.9573970139127135\u001b[0m\n",
            "17 \t [-0.95999727  4.43647875]\t 40.13219927431472\t 8.76973987442613\t 3.108725393231612\t 3.0465340596127524\n",
            "18 \t [5.04429792 2.68535401]\t 46.99197259634724\t 8.76973987442613\t 2.861352682255387\t 2.810436418467642\n",
            "\u001b[1m\u001b[92m19\u001b[0m\t \u001b[1m\u001b[92m[ 0.95732027 -1.91035677]\u001b[0m\t \u001b[1m\u001b[92m6.468067378794288\u001b[0m\t \u001b[1m\u001b[92m6.468067378794288\u001b[0m\t \u001b[1m\u001b[92m2.6585070378591658\u001b[0m\t \u001b[1m\u001b[92m3.048934249099107\u001b[0m\n",
            "20 \t [ 3.39634706 -4.62439904]\t 67.97109901429685\t 6.468067378794288\t 3.1382434566331816\t 3.1422264643142124\n"
          ]
        }
      ],
      "source": [
        "### EXACT GP EI GRADIENTS\n",
        "\n",
        "np.random.seed(run_num_16)\n",
        "surrogate_gp_16 = dGaussianProcess(cov_func, optimize=opt)\n",
        "\n",
        "gp_16 = dGPGO_gp(surrogate_gp_16, Acquisition_grad(util_gp), objfunc, param)\n",
        "gp_16.run(init_evals=n_init, max_iter=iters)\n"
      ]
    },
    {
      "cell_type": "code",
      "execution_count": 29,
      "metadata": {
        "id": "Yrs2mp7hGC1Z",
        "colab": {
          "base_uri": "https://localhost:8080/"
        },
        "outputId": "a80836ca-1c6d-43db-ea2f-4f8e70726f34"
      },
      "outputs": [
        {
          "output_type": "stream",
          "name": "stdout",
          "text": [
            "Evaluation \t Proposed point \t  Current eval. \t  Best eval. \t        Exact EI: StdDev. x \t Approx EI: StdDev. x \n",
            "init\t [-2.10263037  0.31320838]\t 20.395145364684023\t 20.395145364684023\t    \t    \n",
            "init\t [-3.15882714 -4.42470033]\t 53.03732051200137\t 20.395145364684023\t    \t    \n",
            "init\t [2.93873111 1.60085526]\t 29.989224812583537\t 20.395145364684023\t    \t    \n",
            "init\t [1.40821398 0.77417363]\t 29.451989415882437\t 20.395145364684023\t    \t    \n",
            "init\t [-4.71999574 -1.45598869]\t 55.89242173757483\t 20.395145364684023\t    \t    \n",
            "1  \t [ 4.96008736 -4.44720822]\t 64.14783177084814\t 20.395145364684023\t 3.67716205262681\t 4.800641032712496\n",
            "2  \t [-1.51638461  5.12      ]\t 51.17119182678712\t 20.395145364684023\t 3.9218940379627694\t 3.7776426863290795\n",
            "3  \t [5.12 5.12]\t 57.849427451571785\t 20.395145364684023\t 3.575457680354569\t 3.643588246971652\n",
            "4  \t [ 0.84045277 -5.12      ]\t 34.24880863486494\t 20.395145364684023\t 3.498059067657359\t 3.954605703798145\n",
            "5  \t [ 5.12       -0.71699151]\t 41.49793838029413\t 20.395145364684023\t 3.359461993753774\t 3.7153345102341544\n",
            "6  \t [-4.62723796  2.47167833]\t 64.33355300363587\t 20.395145364684023\t 3.2297405685975122\t 3.3968339617046963\n",
            "7  \t [1.79768893 5.08864246]\t 37.6855446670606\t 20.395145364684023\t 3.2079919646885893\t 2.9384063176538735\n",
            "\u001b[1m\u001b[92m8\u001b[0m\t \u001b[1m\u001b[92m[ 0.03574683 -2.1119669 ]\u001b[0m\t \u001b[1m\u001b[92m7.087087482637973\u001b[0m\t \u001b[1m\u001b[92m7.087087482637973\u001b[0m\t \u001b[1m\u001b[92m3.4597553141745125\u001b[0m\t \u001b[1m\u001b[92m2.9501377442165126\u001b[0m\n",
            "9  \t [-0.28416496  2.3784656 ]\t 35.09139964234975\t 7.087087482637973\t 3.351625417265992\t 3.440879125938434\n",
            "10 \t [ 2.44600398 -2.36091836]\t 47.40545321518014\t 7.087087482637973\t 2.6822446681078516\t 2.744488100136715\n",
            "11 \t [-1.32205218 -2.30059461]\t 34.540343805350155\t 7.087087482637973\t 3.3148406993106803\t 3.4329928568720907\n",
            "12 \t [3.93980815 3.14996969]\t 30.271683467778434\t 7.087087482637973\t 2.7615705945669635\t 3.104432940268625\n",
            "13 \t [ 0.2051792  -0.83369043]\t 12.938622986468797\t 7.087087482637973\t 2.4828397693286983\t 3.171642706562128\n",
            "14 \t [5.12       2.19365077]\t 40.26979797473886\t 7.087087482637973\t 2.875832854483618\t 3.250915347070863\n",
            "15 \t [-5.12 -5.12]\t 57.849427451571785\t 7.087087482637973\t 2.814155224154466\t 3.141959927217908\n",
            "16 \t [-3.59631837  4.43651874]\t 70.05519238755448\t 7.087087482637973\t 2.478215927938745\t 3.0146148385602944\n",
            "17 \t [ 2.70580749 -5.09279351]\t 47.65115926610733\t 7.087087482637973\t 2.486036438830852\t 2.7340257267371935\n",
            "18 \t [-1.13738561 -5.12      ]\t 33.71841547352999\t 7.087087482637973\t 2.8829049786845946\t 2.83212872230749\n",
            "19 \t [-2.25090078  2.01396246]\t 19.217653372995052\t 7.087087482637973\t 2.6920393511707266\t 2.750974802699968\n",
            "20 \t [ 0.36609594 -2.76295723]\t 33.619344813692436\t 7.087087482637973\t 3.0363252620067684\t 2.982377110314652\n"
          ]
        }
      ],
      "source": [
        "### EXACT GP EI GRADIENTS\n",
        "\n",
        "np.random.seed(run_num_17)\n",
        "surrogate_gp_17 = dGaussianProcess(cov_func, optimize=opt)\n",
        "\n",
        "gp_17 = dGPGO_gp(surrogate_gp_17, Acquisition_grad(util_gp), objfunc, param)\n",
        "gp_17.run(init_evals=n_init, max_iter=iters)\n"
      ]
    },
    {
      "cell_type": "code",
      "execution_count": 30,
      "metadata": {
        "id": "f0HIEP3PIUEa",
        "colab": {
          "base_uri": "https://localhost:8080/"
        },
        "outputId": "15370a9e-a0cc-44dd-c878-d12d4c9da533"
      },
      "outputs": [
        {
          "output_type": "stream",
          "name": "stdout",
          "text": [
            "Evaluation \t Proposed point \t  Current eval. \t  Best eval. \t        Exact EI: StdDev. x \t Approx EI: StdDev. x \n",
            "init\t [1.53983224 0.05584255]\t 22.67190580753611\t 22.67190580753611\t    \t    \n",
            "init\t [ 3.87687906 -3.25795609]\t 38.990099416711985\t 22.67190580753611\t    \t    \n",
            "init\t [3.60686662 2.56139557]\t 56.66448698782129\t 22.67190580753611\t    \t    \n",
            "init\t [1.70088108 4.99604939]\t 40.894059318256296\t 22.67190580753611\t    \t    \n",
            "init\t [-2.48864335 -4.83014733]\t 54.6725749848372\t 22.67190580753611\t    \t    \n",
            "1  \t [-5.00718904  2.9174042 ]\t 34.91005808676357\t 22.67190580753611\t 3.502489139117973\t 4.013337710964538\n",
            "2  \t [-2.5172874  -0.57162906]\t 45.60877814255882\t 22.67190580753611\t 3.378432826940311\t 3.1432199338047417\n",
            "\u001b[1m\u001b[92m3\u001b[0m\t \u001b[1m\u001b[92m[-1.16270398  2.84418166]\u001b[0m\t \u001b[1m\u001b[92m18.64896345126307\u001b[0m\t \u001b[1m\u001b[92m18.64896345126307\u001b[0m\t \u001b[1m\u001b[92m4.0385323274023675\u001b[0m\t \u001b[1m\u001b[92m3.7514278913019097\u001b[0m\n",
            "4  \t [ 0.94316799 -5.09984298]\t 29.43280579581087\t 18.64896345126307\t 4.296195571943988\t 4.2687354697839925\n",
            "5  \t [-5.12       -3.24013922]\t 48.80404132120228\t 18.64896345126307\t 3.8170022086725206\t 3.8232376968912347\n",
            "6  \t [5.12 5.12]\t 57.849427451571785\t 18.64896345126307\t 3.5130578904088967\t 3.5724200209265993\n",
            "7  \t [ 5.0674446 -0.0834171]\t 27.912867477339134\t 18.64896345126307\t 3.009716405157424\t 3.379503617644283\n",
            "\u001b[1m\u001b[92m8\u001b[0m\t \u001b[1m\u001b[92m[-0.25335679 -2.14069554]\u001b[0m\t \u001b[1m\u001b[92m18.517158783097425\u001b[0m\t \u001b[1m\u001b[92m18.517158783097425\u001b[0m\t \u001b[1m\u001b[92m2.904805677847266\u001b[0m\t \u001b[1m\u001b[92m3.686246135536861\u001b[0m\n",
            "9  \t [-2.05931647  4.63332738]\t 43.086601890136585\t 18.517158783097425\t 2.79154031862011\t 3.39256361838214\n",
            "\u001b[1m\u001b[92m10\u001b[0m\t \u001b[1m\u001b[92m[-3.06190771  1.84446368]\u001b[0m\t \u001b[1m\u001b[92m17.931421372299255\u001b[0m\t \u001b[1m\u001b[92m17.931421372299255\u001b[0m\t \u001b[1m\u001b[92m3.5320871287920577\u001b[0m\t \u001b[1m\u001b[92m3.6666068208095726\u001b[0m\n",
            "\u001b[1m\u001b[92m11\u001b[0m\t \u001b[1m\u001b[92m[1.11479303 1.78314352]\u001b[0m\t \u001b[1m\u001b[92m14.845210391160803\u001b[0m\t \u001b[1m\u001b[92m14.845210391160803\u001b[0m\t \u001b[1m\u001b[92m3.416246983854043\u001b[0m\t \u001b[1m\u001b[92m3.4285133146151234\u001b[0m\n",
            "12 \t [ 1.71784862 -2.11999715]\t 22.162001901858353\t 14.845210391160803\t 3.210775881146225\t 3.186490038731389\n",
            "13 \t [-4.80195874 -0.59143393]\t 48.596282216849595\t 14.845210391160803\t 3.4162857106299063\t 3.3177673730795934\n",
            "14 \t [-0.53176123  0.77156943]\t 29.32852248948683\t 14.845210391160803\t 2.904408268996628\t 2.9388735048280905\n",
            "15 \t [-4.93311462  4.65004427]\t 62.70427715056073\t 14.845210391160803\t 2.9150579052230574\t 3.5865235497199834\n",
            "16 \t [-5.12 -5.12]\t 57.849427451571785\t 14.845210391160803\t 2.9997705870394817\t 3.394630321162163\n",
            "17 \t [ 2.72046965 -5.12      ]\t 48.17048769912702\t 14.845210391160803\t 3.553951697654066\t 3.8633240551254735\n",
            "18 \t [ 3.33245696 -0.83504526]\t 31.66194607912049\t 14.845210391160803\t 3.1144127529891596\t 3.145419474430658\n",
            "19 \t [0.58080222 3.11675777]\t 31.36256619468427\t 14.845210391160803\t 2.8842888772143804\t 3.4420222681072272\n",
            "20 \t [-2.26239844 -2.63451558]\t 39.47326750389065\t 14.845210391160803\t 3.1707010438507206\t 3.0986582358959773\n"
          ]
        }
      ],
      "source": [
        "### EXACT GP EI GRADIENTS\n",
        "\n",
        "np.random.seed(run_num_18)\n",
        "surrogate_gp_18 = dGaussianProcess(cov_func, optimize=opt)\n",
        "\n",
        "gp_18 = dGPGO_gp(surrogate_gp_18, Acquisition_grad(util_gp), objfunc, param)\n",
        "gp_18.run(init_evals=n_init, max_iter=iters)\n"
      ]
    },
    {
      "cell_type": "code",
      "execution_count": 31,
      "metadata": {
        "id": "S3mxRQDLIUPC",
        "colab": {
          "base_uri": "https://localhost:8080/"
        },
        "outputId": "f9cd0034-7a6d-4c28-d5c9-e9fc2c206bbd"
      },
      "outputs": [
        {
          "output_type": "stream",
          "name": "stdout",
          "text": [
            "Evaluation \t Proposed point \t  Current eval. \t  Best eval. \t        Exact EI: StdDev. x \t Approx EI: StdDev. x \n",
            "init\t [-4.12125592  2.6751971 ]\t 41.43485596167127\t 25.867003842388073\t    \t    \n",
            "init\t [-2.59135515 -3.70553152]\t 51.60126035043229\t 25.867003842388073\t    \t    \n",
            "init\t [-1.72598719 -4.27008445]\t 43.97430127029199\t 25.867003842388073\t    \t    \n",
            "init\t [1.76104531 3.13952049]\t 25.867003842388073\t 25.867003842388073\t    \t    \n",
            "init\t [4.9432772  1.38916592]\t 44.66580306903559\t 25.867003842388073\t    \t    \n",
            "1  \t [ 4.82659077 -3.73107955]\t 53.77420826130772\t 25.867003842388073\t 3.450327871954063\t 4.538788353589094\n",
            "\u001b[1m\u001b[92m2\u001b[0m\t \u001b[1m\u001b[92m[-0.85223298  0.10979632]\u001b[0m\t \u001b[1m\u001b[92m7.034295421249853\u001b[0m\t \u001b[1m\u001b[92m7.034295421249853\u001b[0m\t \u001b[1m\u001b[92m4.023888857763999\u001b[0m\t \u001b[1m\u001b[92m3.833335824874314\u001b[0m\n",
            "3  \t [5.12 5.12]\t 57.849427451571785\t 7.034295421249853\t 3.647277797670536\t 3.7760003759716674\n",
            "4  \t [-5.11255451 -1.1055489 ]\t 31.87825221324293\t 7.034295421249853\t 3.2185349147435565\t 3.4387199967619853\n",
            "5  \t [ 1.56245442 -1.92118448]\t 26.573427226374246\t 7.034295421249853\t 2.795523753835255\t 3.1159729746863984\n",
            "6  \t [-0.99816082  5.12      ]\t 29.921706441277976\t 7.034295421249853\t 3.411193410534427\t 3.5597465789951843\n",
            "7  \t [-5.12 -5.12]\t 57.849427451571785\t 7.034295421249853\t 3.3534154257723716\t 3.3546583390285396\n",
            "8  \t [ 1.0622837 -4.8155417]\t 31.071208079848283\t 7.034295421249853\t 2.7986656361135283\t 3.1047222434553894\n",
            "9  \t [1.68385177 0.62377718]\t 34.38722872910704\t 7.034295421249853\t 2.9036505459810233\t 3.3348756734683085\n",
            "10 \t [-2.40317684 -0.59527481]\t 42.59657583625126\t 7.034295421249853\t 3.0019801020227628\t 3.2113114128137346\n",
            "11 \t [ 4.37918599 -1.12402395]\t 40.580979665513624\t 7.034295421249853\t 2.6514644035092885\t 2.9564376500391956\n",
            "12 \t [-1.23054569  2.36150354]\t 32.3183779765921\t 7.034295421249853\t 2.685917227971912\t 3.1923134398261044\n",
            "13 \t [2.22723814 5.12      ]\t 42.46000413259053\t 7.034295421249853\t 3.1170308892684293\t 3.716772782846018\n",
            "14 \t [-0.25945523 -0.50723634]\t 30.908011605041025\t 7.034295421249853\t 2.6576589156208144\t 3.279730165367181\n",
            "15 \t [-3.22506538  5.02925336]\t 44.30259392993066\t 7.034295421249853\t 3.176281452767183\t 3.3819414580361844\n",
            "16 \t [3.75691314 3.0015309 ]\t 32.68981758670726\t 7.034295421249853\t 2.787571915633446\t 3.1415096719832247\n",
            "17 \t [ 2.74464821 -4.40396173]\t 55.49813355529702\t 7.034295421249853\t 2.837533719491523\t 3.11355737015077\n",
            "18 \t [-4.77840417 -2.96121721]\t 40.12215840940467\t 7.034295421249853\t 2.950947469650302\t 3.1569972703112317\n",
            "19 \t [-0.67819963 -2.29054675]\t 32.58659041821047\t 7.034295421249853\t 2.4617233215345724\t 2.491770888349048\n",
            "20 \t [0.20571735 3.70530046]\t 33.79674809972096\t 7.034295421249853\t 2.8335153791165606\t 2.971291336002765\n"
          ]
        }
      ],
      "source": [
        "### EXACT GP EI GRADIENTS\n",
        "\n",
        "np.random.seed(run_num_19)\n",
        "surrogate_gp_19 = dGaussianProcess(cov_func, optimize=opt)\n",
        "\n",
        "gp_19 = dGPGO_gp(surrogate_gp_19, Acquisition_grad(util_gp), objfunc, param)\n",
        "gp_19.run(init_evals=n_init, max_iter=iters)\n"
      ]
    },
    {
      "cell_type": "code",
      "execution_count": 32,
      "metadata": {
        "id": "Aawd59dRIUYn",
        "colab": {
          "base_uri": "https://localhost:8080/"
        },
        "outputId": "1865835e-a1c3-4b28-e9d6-9dfd5bfbadd9"
      },
      "outputs": [
        {
          "output_type": "stream",
          "name": "stdout",
          "text": [
            "Evaluation \t Proposed point \t  Current eval. \t  Best eval. \t        Exact EI: StdDev. x \t Approx EI: StdDev. x \n",
            "init\t [0.9024594  4.07258857]\t 20.24255447774017\t 17.388691338534382\t    \t    \n",
            "init\t [4.00927467 3.23417577]\t 35.55852254546393\t 17.388691338534382\t    \t    \n",
            "init\t [-4.75249064  1.96359764]\t 36.54582989269194\t 17.388691338534382\t    \t    \n",
            "init\t [-1.24230715  0.18955208]\t 17.388691338534382\t 17.388691338534382\t    \t    \n",
            "init\t [ 1.61742301 -3.13497377]\t 33.22932870179905\t 17.388691338534382\t    \t    \n",
            "1  \t [-5.12 -5.12]\t 57.849427451571785\t 17.388691338534382\t 3.796314649232061\t 3.80892600271981\n",
            "2  \t [ 5.12       -0.90774061]\t 31.382342682975256\t 17.388691338534382\t 3.310078439393854\t 3.967625236196849\n",
            "3  \t [-2.32334252  4.6958363 ]\t 55.23356041730585\t 17.388691338534382\t 3.011737452584211\t 3.4117279794501694\n",
            "4  \t [-1.42211353 -5.12      ]\t 49.77338827837845\t 17.388691338534382\t 3.138358042791503\t 3.7716624872876765\n",
            "5  \t [-5.12       -1.50067346]\t 51.17664504423531\t 17.388691338534382\t 3.3435502391884984\t 3.5975791692205523\n",
            "6  \t [ 4.69062041 -4.43553031]\t 74.51155070056905\t 17.388691338534382\t 3.351598552790956\t 3.6761905463682867\n",
            "7  \t [ 2.29239594 -0.05852186]\t 18.559374477490238\t 17.388691338534382\t 3.77189474973687\t 3.6008162469408322\n",
            "8  \t [-2.42559783 -1.87740665]\t 31.158056009228396\t 17.388691338534382\t 3.2653938874973525\t 3.0518300427643656\n",
            "9  \t [5.12 5.12]\t 57.849427451571785\t 17.388691338534382\t 3.4367678212833854\t 2.9498044849712906\n",
            "\u001b[1m\u001b[92m10\u001b[0m\t \u001b[1m\u001b[92m[0.18139001 1.90444121]\u001b[0m\t \u001b[1m\u001b[92m11.23017165756345\u001b[0m\t \u001b[1m\u001b[92m11.23017165756345\u001b[0m\t \u001b[1m\u001b[92m2.559316485036049\u001b[0m\t \u001b[1m\u001b[92m3.209533039471598\u001b[0m\n",
            "11 \t [-2.15244084  2.00602785]\t 12.911227135195427\t 11.23017165756345\t 2.8856541328316236\t 3.093536467052865\n",
            "12 \t [-4.45972891  4.76447717]\t 71.36263247821208\t 11.23017165756345\t 3.1421922835383405\t 3.449055902584404\n",
            "\u001b[1m\u001b[92m13\u001b[0m\t \u001b[1m\u001b[92m[ 0.15341581 -1.06922862]\u001b[0m\t \u001b[1m\u001b[92m6.395106375361616\u001b[0m\t \u001b[1m\u001b[92m6.395106375361616\u001b[0m\t \u001b[1m\u001b[92m3.031107869575844\u001b[0m\t \u001b[1m\u001b[92m3.476131519385985\u001b[0m\n",
            "14 \t [2.72519987 5.11567279]\t 47.6756742008929\t 6.395106375361616\t 2.7805411702949923\t 2.6672361465119914\n",
            "15 \t [ 1.43903964 -5.12      ]\t 50.270931474158076\t 6.395106375361616\t 2.582863234688492\t 2.7224410298792434\n",
            "16 \t [1.7791486  2.07541448]\t 16.75326382883663\t 6.395106375361616\t 2.862767368166156\t 2.8316661726851424\n",
            "17 \t [5.12       1.62936311]\t 48.45412530443218\t 6.395106375361616\t 2.9057618518446935\t 2.786381027089373\n",
            "18 \t [ 2.99277789 -1.58227928]\t 30.16379904190219\t 6.395106375361616\t 3.1436286451460225\t 3.138216307619035\n",
            "19 \t [-0.32178688 -2.62366949]\t 38.47623125395933\t 6.395106375361616\t 2.9056089503858056\t 2.743140824833143\n",
            "20 \t [ 0.52995263 -0.31805349]\t 34.352251714745286\t 6.395106375361616\t 2.4680222502410065\t 2.33662105347291\n"
          ]
        }
      ],
      "source": [
        "### EXACT GP EI GRADIENTS\n",
        "\n",
        "np.random.seed(run_num_20)\n",
        "surrogate_gp_20 = dGaussianProcess(cov_func, optimize=opt)\n",
        "\n",
        "gp_20 = dGPGO_gp(surrogate_gp_20, Acquisition_grad(util_gp), objfunc, param)\n",
        "gp_20.run(init_evals=n_init, max_iter=iters)\n"
      ]
    },
    {
      "cell_type": "code",
      "execution_count": 33,
      "metadata": {
        "id": "xkgzPRbBTHaq",
        "colab": {
          "base_uri": "https://localhost:8080/"
        },
        "outputId": "8e593cd0-faad-4a29-aa2a-565346467047"
      },
      "outputs": [
        {
          "output_type": "execute_result",
          "data": {
            "text/plain": [
              "1663060078.1943107"
            ]
          },
          "metadata": {},
          "execution_count": 33
        }
      ],
      "source": [
        "end_gp = time.time()\n",
        "end_gp\n",
        "\n",
        "time_gp = end_gp - start_gp\n",
        "time_gp\n",
        "\n",
        "start_stp = time.time()\n",
        "start_stp"
      ]
    },
    {
      "cell_type": "code",
      "execution_count": 34,
      "metadata": {
        "id": "7CG3Ndvb16Rb",
        "colab": {
          "base_uri": "https://localhost:8080/"
        },
        "outputId": "ef00fdf6-8bd9-4e94-c11f-77cc302cab4f"
      },
      "outputs": [
        {
          "output_type": "stream",
          "name": "stdout",
          "text": [
            "Evaluation \t Proposed point \t  Current eval. \t  Best eval. \t        Exact EI: StdDev. x \t Approx EI: StdDev. x \n",
            "init\t [-0.84969467  2.25612281]\t 20.33436270766351\t 19.908403246996286\t    \t    \n",
            "init\t [-5.1188288  -2.02411446]\t 33.07414982069084\t 19.908403246996286\t    \t    \n",
            "init\t [-3.61721968 -4.17445279]\t 53.347974723929894\t 19.908403246996286\t    \t    \n",
            "init\t [-3.21269544 -1.58145816]\t 39.218472310354045\t 19.908403246996286\t    \t    \n",
            "init\t [-1.05710106  0.39748336]\t 19.908403246996286\t 19.908403246996286\t    \t    \n",
            "1  \t [ 4.04077223 -4.24914728]\t 44.655863836006326\t 19.908403246996286\t 3.1524274681614224\t 4.421518129242093\n",
            "2  \t [4.42977754 2.01541797]\t 42.77403520305755\t 19.908403246996286\t 3.270389009242551\t 3.664418274859568\n",
            "3  \t [ 0.1047149  -3.68117597]\t 29.840326213156384\t 19.908403246996286\t 2.9014251492419754\t 4.175143135607348\n",
            "4  \t [-4.89958599  4.58721496]\t 65.50937696421485\t 19.908403246996286\t 3.459463034801761\t 4.111411769642945\n",
            "5  \t [ 1.84587273 -0.35518185]\t 24.005392994841312\t 19.908403246996286\t 2.488590725486577\t 3.4238139635363645\n",
            "6  \t [-4.57443259  1.04282096]\t 41.29887000008003\t 19.908403246996286\t 2.7839098856184012\t 3.408046183639247\n",
            "7  \t [1.39882906 5.05766937]\t 46.23277535664419\t 19.908403246996286\t 3.2549919920426302\t 3.8018574186082343\n",
            "8  \t [4.62022436 4.15131683]\t 60.04921821265257\t 19.908403246996286\t 2.9538144354905733\t 4.124316225639936\n",
            "9  \t [-1.93958654  4.93995468]\t 29.58026172519594\t 19.908403246996286\t 3.082899338490039\t 3.4228813000722638\n",
            "10 \t [ 5.05771515 -1.34492395]\t 43.65653058824776\t 19.908403246996286\t 3.5234828050101177\t 3.516543586753224\n",
            "\u001b[1m\u001b[92m11\u001b[0m\t \u001b[1m\u001b[92m[1.80354291 1.9185185 ]\u001b[0m\t \u001b[1m\u001b[92m14.914537361917091\u001b[0m\t \u001b[1m\u001b[92m14.914537361917091\u001b[0m\t \u001b[1m\u001b[92m2.573893250799312\u001b[0m\t \u001b[1m\u001b[92m2.7472802128338034\u001b[0m\n",
            "12 \t [-1.49187805 -5.12      ]\t 51.13739548970467\t 14.914537361917091\t 3.0351206806643196\t 3.3056046885705572\n",
            "13 \t [ 1.48812061 -5.09217338]\t 49.74756660164665\t 14.914537361917091\t 2.052603420401117\t 2.4008861454904586\n",
            "14 \t [-0.8277918  -1.81141369]\t 15.507278640156038\t 14.914537361917091\t 3.069883963817525\t 3.053180096119674\n",
            "15 \t [ 2.12422728 -2.56599674]\t 33.14385968010344\t 14.914537361917091\t 2.4909686386691696\t 2.805100566764818\n",
            "16 \t [-2.75381175  2.35522412]\t 39.03127457075007\t 14.914537361917091\t 2.6525191587616193\t 2.9341185934515908\n",
            "17 \t [-5.12 -5.12]\t 57.849427451571785\t 14.914537361917091\t 2.876345050389802\t 3.1000714147937547\n",
            "18 \t [0.68472354 2.9235501 ]\t 24.135068736996462\t 14.914537361917091\t 2.6667660267951243\t 2.8027011084689963\n",
            "\u001b[1m\u001b[92m19\u001b[0m\t \u001b[1m\u001b[92m[-0.00202699 -0.9549179 ]\u001b[0m\t \u001b[1m\u001b[92m1.3111869737256132\u001b[0m\t \u001b[1m\u001b[92m1.3111869737256132\u001b[0m\t \u001b[1m\u001b[92m3.2618831377723136\u001b[0m\t \u001b[1m\u001b[92m3.1711625527534117\u001b[0m\n",
            "20 \t [3.54796751 0.17656   ]\t 37.71614453370224\t 1.3111869737256132\t 2.5791007859704322\t 2.657411032709664\n"
          ]
        }
      ],
      "source": [
        "### EXACT STP EI GRADIENTS\n",
        "\n",
        "np.random.seed(run_num_1)\n",
        "surrogate_stp_1 = dtStudentProcess(cov_func, optimize=opt, nu = df)\n",
        "\n",
        "stp_1 = dGPGO_stp(surrogate_stp_1, Acquisition_grad(util_stp), objfunc, param)\n",
        "stp_1.run(init_evals=n_init, max_iter=iters)\n"
      ]
    },
    {
      "cell_type": "code",
      "execution_count": 35,
      "metadata": {
        "id": "-ilCPSAu9SAg",
        "colab": {
          "base_uri": "https://localhost:8080/"
        },
        "outputId": "942ba55f-395c-429c-f4df-03b4244ac01b"
      },
      "outputs": [
        {
          "output_type": "stream",
          "name": "stdout",
          "text": [
            "Evaluation \t Proposed point \t  Current eval. \t  Best eval. \t        Exact EI: StdDev. x \t Approx EI: StdDev. x \n",
            "init\t [-0.6554122  -4.85451539]\t 43.490296251903594\t 18.964539418712707\t    \t    \n",
            "init\t [ 0.50854377 -0.6622987 ]\t 35.91861667536101\t 18.964539418712707\t    \t    \n",
            "init\t [-0.81543371 -1.73737143]\t 20.479562046739524\t 18.964539418712707\t    \t    \n",
            "init\t [-3.02439799  1.2213347 ]\t 18.964539418712707\t 18.964539418712707\t    \t    \n",
            "init\t [-2.05153614 -2.3876887 ]\t 28.041315668371354\t 18.964539418712707\t    \t    \n",
            "1  \t [4.81874241 3.07464552]\t 39.56740440269988\t 18.964539418712707\t 3.67017144778887\t 4.463732601300035\n",
            "2  \t [ 4.84260546 -3.96517156]\t 43.916134329740714\t 18.964539418712707\t 3.4351281785328593\t 4.419552893967704\n",
            "3  \t [-5.12 -5.12]\t 57.849427451571785\t 18.964539418712707\t 3.3435348563630396\t 4.002171409364298\n",
            "4  \t [0.70799905 3.12454697]\t 25.781362594131053\t 18.964539418712707\t 2.5616788568773066\t 3.5964090593393503\n",
            "5  \t [-5.12       -1.22959612]\t 39.158115404957606\t 18.964539418712707\t 3.2695477526477283\t 3.845010137531811\n",
            "6  \t [-4.40667555  4.45597249]\t 77.2238064298952\t 18.964539418712707\t 3.004263417170954\t 4.056145916437655\n",
            "7  \t [ 3.30047968 -1.27609408]\t 37.27260610986593\t 18.964539418712707\t 2.8264743368171095\t 3.688344962897651\n",
            "8  \t [2.28828263 5.12      ]\t 46.54319187164316\t 18.964539418712707\t 2.891914396127522\t 3.2648369993317248\n",
            "9  \t [2.66327713 1.37439761]\t 41.20955822487924\t 18.964539418712707\t 3.390573032882979\t 3.499747604635037\n",
            "10 \t [ 1.92060797 -3.87636223]\t 22.802183211778008\t 18.964539418712707\t 3.072467512749918\t 3.5760184044021375\n",
            "11 \t [-1.90672303  5.03168828]\t 30.819864606201946\t 18.964539418712707\t 3.351763158182831\t 3.632044748762166\n",
            "12 \t [-0.89994635  1.46265763]\t 24.58708905589944\t 18.964539418712707\t 2.4405752361110076\t 2.582854670494294\n",
            "13 \t [-4.79362166  1.32928128]\t 46.817069465034315\t 18.964539418712707\t 2.867632393114495\t 3.246671378575166\n",
            "14 \t [5.12 5.12]\t 57.849427451571785\t 18.964539418712707\t 3.1021202175319744\t 3.492985316593904\n",
            "15 \t [-2.81591939 -5.12      ]\t 42.829687636952116\t 18.964539418712707\t 2.979802188940481\t 3.178507262707997\n",
            "16 \t [0.04177452 5.05813413]\t 26.588681620514777\t 18.964539418712707\t 2.7966877873466993\t 3.087759879716871\n",
            "17 \t [ 5.12       -0.60959112]\t 47.01779772292158\t 18.964539418712707\t 2.4921377812528327\t 3.1906822171107354\n",
            "18 \t [-3.132314   -0.72597658]\t 25.10337936176766\t 18.964539418712707\t 2.971117538330394\t 2.7342001549837778\n",
            "19 \t [-2.25290531  2.62151834]\t 39.35452626284816\t 18.964539418712707\t 2.61331893421618\t 3.0722819559972203\n",
            "20 \t [-4.14321366 -3.1997671 ]\t 38.083275976574136\t 18.964539418712707\t 3.05576765731387\t 3.136837303176055\n"
          ]
        }
      ],
      "source": [
        "### EXACT STP EI GRADIENTS\n",
        "\n",
        "np.random.seed(run_num_2)\n",
        "surrogate_stp_2 = dtStudentProcess(cov_func, optimize=opt, nu = df)\n",
        "\n",
        "stp_2 = dGPGO_stp(surrogate_stp_2, Acquisition_grad(util_stp), objfunc, param)\n",
        "stp_2.run(init_evals=n_init, max_iter=iters)\n"
      ]
    },
    {
      "cell_type": "code",
      "execution_count": 36,
      "metadata": {
        "id": "XieJ158mIvlP",
        "colab": {
          "base_uri": "https://localhost:8080/"
        },
        "outputId": "0f5088e8-96f2-4a72-bb3e-5cd3ef5e961a"
      },
      "outputs": [
        {
          "output_type": "stream",
          "name": "stdout",
          "text": [
            "Evaluation \t Proposed point \t  Current eval. \t  Best eval. \t        Exact EI: StdDev. x \t Approx EI: StdDev. x \n",
            "init\t [0.52017052 2.1314337 ]\t 27.953858411008774\t 10.607662635789808\t    \t    \n",
            "init\t [-2.14113547  0.11087468]\t 10.607662635789808\t 10.607662635789808\t    \t    \n",
            "init\t [4.02377681 4.05804123]\t 33.42749829480097\t 10.607662635789808\t    \t    \n",
            "init\t [-3.83400642 -2.99783293]\t 28.650953928965198\t 10.607662635789808\t    \t    \n",
            "init\t [-4.59297584 -0.6061072 ]\t 57.6631355589384\t 10.607662635789808\t    \t    \n",
            "1  \t [ 2.87042319 -1.98283743]\t 15.364229918613852\t 10.607662635789808\t 2.961830051111131\t 2.7970367521236854\n",
            "2  \t [-3.19677619  4.62951673]\t 55.23721089925957\t 10.607662635789808\t 3.06318860417273\t 4.212942107624269\n",
            "3  \t [-0.49026183 -3.21838369]\t 38.606165068807485\t 10.607662635789808\t 2.479673616052189\t 3.7572576196403893\n",
            "4  \t [4.89423267 0.02817073]\t 26.238638237873694\t 10.607662635789808\t 3.1031616126049966\t 3.9907198296739366\n",
            "5  \t [ 2.66793959 -4.83122769]\t 50.50424889035734\t 10.607662635789808\t 3.2501875434929186\t 3.801455417649892\n",
            "6  \t [1.35689399 4.83145353]\t 46.50940343309243\t 10.607662635789808\t 3.4624930734569825\t 3.316969627752111\n",
            "7  \t [-5.12 -5.12]\t 57.849427451571785\t 10.607662635789808\t 3.242508741487875\t 3.6797425524716183\n",
            "8  \t [-5.0248542   2.30354727]\t 43.97853502402399\t 10.607662635789808\t 3.0379336902721117\t 3.5372099302144755\n",
            "9  \t [-1.89580074  2.13556434]\t 13.635929929310795\t 10.607662635789808\t 2.380907198056037\t 2.857950067729939\n",
            "10 \t [ 0.43946566 -0.61462436]\t 37.37294477274225\t 10.607662635789808\t 3.1154253682209787\t 3.3450334639007773\n",
            "11 \t [-2.20856653 -5.12      ]\t 41.22844533492014\t 10.607662635789808\t 2.958226583007365\t 3.183196108687869\n",
            "12 \t [ 4.97353415 -5.07373191]\t 51.670786281038644\t 10.607662635789808\t 2.8700979038840115\t 2.961256229837233\n",
            "13 \t [2.32451204 1.13703158]\t 24.69193047141195\t 10.607662635789808\t 3.0156165194705884\t 3.1739075801962335\n",
            "14 \t [4.90067862 2.15186755]\t 34.749507654208465\t 10.607662635789808\t 2.9059141346774244\t 3.388092936311575\n",
            "15 \t [ 5.10511726 -2.1557136 ]\t 37.22859755443145\t 10.607662635789808\t 3.042083032154942\t 2.90252381061759\n",
            "16 \t [-0.9015466  5.12     ]\t 31.590594602101937\t 10.607662635789808\t 2.9521818431838183\t 3.1378280174274473\n",
            "17 \t [-1.94687963 -1.7549942 ]\t 17.108445696913464\t 10.607662635789808\t 3.0611144349735326\t 2.8718889817354345\n",
            "18 \t [5.12 5.12]\t 57.849427451571785\t 10.607662635789808\t 2.90468694819989\t 2.827719735868703\n",
            "19 \t [ 0.32867545 -5.06134333]\t 41.20330219944256\t 10.607662635789808\t 2.9934193963833393\t 2.9229896821692125\n",
            "20 \t [ 1.57255502 -2.87355704]\t 32.70234450949316\t 10.607662635789808\t 2.4807130747388433\t 2.477470670227964\n"
          ]
        }
      ],
      "source": [
        "### EXACT STP EI GRADIENTS\n",
        "\n",
        "np.random.seed(run_num_3)\n",
        "surrogate_stp_3 = dtStudentProcess(cov_func, optimize=opt, nu = df)\n",
        "\n",
        "stp_3 = dGPGO_stp(surrogate_stp_3, Acquisition_grad(util_stp), objfunc, param)\n",
        "stp_3.run(init_evals=n_init, max_iter=iters)\n"
      ]
    },
    {
      "cell_type": "code",
      "execution_count": 37,
      "metadata": {
        "id": "PhLBVOIfIvol",
        "colab": {
          "base_uri": "https://localhost:8080/"
        },
        "outputId": "3cb6511e-85e6-49d2-beb3-89041d3ab4d6"
      },
      "outputs": [
        {
          "output_type": "stream",
          "name": "stdout",
          "text": [
            "Evaluation \t Proposed point \t  Current eval. \t  Best eval. \t        Exact EI: StdDev. x \t Approx EI: StdDev. x \n",
            "init\t [4.78238555 0.48365823]\t 51.03163809010808\t 14.323038259018315\t    \t    \n",
            "init\t [4.84028785 2.19971578]\t 39.78645699016559\t 14.323038259018315\t    \t    \n",
            "init\t [ 2.02474316 -2.90724357]\t 14.323038259018315\t 14.323038259018315\t    \t    \n",
            "init\t [ 4.87705042 -5.05620219]\t 52.80627247106233\t 14.323038259018315\t    \t    \n",
            "init\t [-2.52946061 -0.66773471]\t 41.61497868486559\t 14.323038259018315\t    \t    \n",
            "1  \t [-5.12 -5.12]\t 57.849427451571785\t 14.323038259018315\t 3.219803694792671\t 3.954977396658721\n",
            "2  \t [-0.9356617   4.54448646]\t 41.945730234899074\t 14.323038259018315\t 2.886174172371101\t 3.5703075466979484\n",
            "3  \t [-1.02597618 -5.12      ]\t 30.11023811573171\t 14.323038259018315\t 2.7752681451438983\t 3.8242606550680165\n",
            "4  \t [0.49976441 1.02192631]\t 21.388835716483523\t 14.323038259018315\t 3.3117074781273574\t 3.456095317513765\n",
            "5  \t [-4.97003202  3.52793521]\t 57.170650859244\t 14.323038259018315\t 2.602139403323963\t 3.552322470210229\n",
            "6  \t [2.77641072 4.97515712]\t 40.930393054542485\t 14.323038259018315\t 3.2346376415583404\t 3.3877484782179246\n",
            "7  \t [-5.12       -1.86452092]\t 35.81064284110403\t 14.323038259018315\t 3.1363231901022153\t 3.4538415670012563\n",
            "8  \t [-0.23560445 -1.67982723]\t 26.24167545234546\t 14.323038259018315\t 2.737971317948923\t 3.063221482864263\n",
            "9  \t [5.12 5.12]\t 57.849427451571785\t 14.323038259018315\t 2.9205138818086627\t 3.3420965541344523\n",
            "10 \t [ 4.38798694 -2.55041342]\t 62.88543818818923\t 14.323038259018315\t 2.7002632015929713\t 3.2621568063410096\n",
            "\u001b[1m\u001b[92m11\u001b[0m\t \u001b[1m\u001b[92m[-2.05664534  1.87265615]\u001b[0m\t \u001b[1m\u001b[92m11.397173771506814\u001b[0m\t \u001b[1m\u001b[92m11.397173771506814\u001b[0m\t \u001b[1m\u001b[92m3.0835064797736966\u001b[0m\t \u001b[1m\u001b[92m3.483746961413465\u001b[0m\n",
            "12 \t [ 1.38821255 -4.9510036 ]\t 44.54276845153296\t 11.397173771506814\t 2.817363362062522\t 3.5527685113101257\n",
            "13 \t [-2.89996798 -3.28702577]\t 33.43083569007133\t 11.397173771506814\t 2.6957072136939257\t 3.2265718015731375\n",
            "\u001b[1m\u001b[92m14\u001b[0m\t \u001b[1m\u001b[92m[ 2.02839695 -0.82209661]\u001b[0m\t \u001b[1m\u001b[92m10.572373054676984\u001b[0m\t \u001b[1m\u001b[92m10.572373054676984\u001b[0m\t \u001b[1m\u001b[92m2.497509051959855\u001b[0m\t \u001b[1m\u001b[92m2.901845505283811\u001b[0m\n",
            "15 \t [1.56785296 2.76597585]\t 38.2115621438112\t 10.572373054676984\t 2.5254916629525472\t 2.6809559706743724\n",
            "16 \t [-4.90522715  0.75878147]\t 35.806707395454076\t 10.572373054676984\t 2.699314090946976\t 2.9933442756083277\n",
            "17 \t [2.98722415 1.69987153]\t 24.94311874350343\t 10.572373054676984\t 2.7398402345789297\t 2.9703074121873834\n",
            "18 \t [-2.90608795  3.68080478]\t 37.8966211471675\t 10.572373054676984\t 3.0035108321031063\t 2.9360158431909675\n",
            "19 \t [0.97629743 5.12      ]\t 29.988562807198427\t 10.572373054676984\t 2.71598096636173\t 3.2010667030804965\n",
            "\u001b[1m\u001b[92m20\u001b[0m\t \u001b[1m\u001b[92m[-1.10317962  0.93482911]\u001b[0m\t \u001b[1m\u001b[92m4.946499263121876\u001b[0m\t \u001b[1m\u001b[92m4.946499263121876\u001b[0m\t \u001b[1m\u001b[92m2.696600633865046\u001b[0m\t \u001b[1m\u001b[92m3.2281469796189506\u001b[0m\n"
          ]
        }
      ],
      "source": [
        "### EXACT STP EI GRADIENTS\n",
        "\n",
        "np.random.seed(run_num_4)\n",
        "surrogate_stp_4 = dtStudentProcess(cov_func, optimize=opt, nu = df)\n",
        "\n",
        "stp_4 = dGPGO_stp(surrogate_stp_4, Acquisition_grad(util_stp), objfunc, param)\n",
        "stp_4.run(init_evals=n_init, max_iter=iters)\n"
      ]
    },
    {
      "cell_type": "code",
      "execution_count": 38,
      "metadata": {
        "id": "arbiPyj2IvsJ",
        "colab": {
          "base_uri": "https://localhost:8080/"
        },
        "outputId": "0bd0818e-96b5-4e87-8873-b11c23c91a2c"
      },
      "outputs": [
        {
          "output_type": "stream",
          "name": "stdout",
          "text": [
            "Evaluation \t Proposed point \t  Current eval. \t  Best eval. \t        Exact EI: StdDev. x \t Approx EI: StdDev. x \n",
            "init\t [-2.84678993  3.79629882]\t 33.93442008827236\t 7.8108627039749745\t    \t    \n",
            "init\t [-3.00319585  4.2865757 ]\t 39.673876075575784\t 7.8108627039749745\t    \t    \n",
            "init\t [-0.11866943  1.14425716]\t 7.8108627039749745\t 7.8108627039749745\t    \t    \n",
            "init\t [2.72289645 0.1886002 ]\t 25.38160395721669\t 7.8108627039749745\t    \t    \n",
            "init\t [-2.08076286 -3.19773462]\t 22.589982116319675\t 7.8108627039749745\t    \t    \n",
            "1  \t [ 4.32895605 -5.09732646]\t 61.29478907190488\t 7.8108627039749745\t 3.8356743717937167\t 4.556525966014493\n",
            "2  \t [4.02415917 4.76321328]\t 48.16778619122226\t 7.8108627039749745\t 3.8259413912957996\t 4.056521608699057\n",
            "3  \t [-5.12000000e+00 -1.02271084e-03]\t 28.924921230791284\t 7.8108627039749745\t 3.500776259724456\t 3.798601251071965\n",
            "4  \t [-5.12 -5.12]\t 57.849427451571785\t 7.8108627039749745\t 3.39668614466324\t 3.4450260589609067\n",
            "5  \t [ 1.25843274 -3.12193857]\t 24.653983172971397\t 7.8108627039749745\t 2.8277135956453274\t 3.311760616946004\n",
            "6  \t [0.54882338 4.58169417]\t 59.53756860114492\t 7.8108627039749745\t 3.4898475717311794\t 3.560946432504512\n",
            "7  \t [5.11792249 1.66453688]\t 46.70083361455248\t 7.8108627039749745\t 2.663558652974218\t 2.7070979714021344\n",
            "8  \t [ 4.79548348 -1.87946971]\t 36.44316091965574\t 7.8108627039749745\t 3.0180401807263104\t 3.302628185936353\n",
            "9  \t [-2.6145155   0.88236129]\t 27.745017633108034\t 7.8108627039749745\t 3.110118467256941\t 2.8868800429716677\n",
            "10 \t [-0.5248136 -5.12     ]\t 49.07885179452781\t 7.8108627039749745\t 3.0069684053239314\t 3.4892834442872074\n",
            "11 \t [-1.54931607 -0.89830581]\t 24.70394653117274\t 7.8108627039749745\t 2.63629179798487\t 3.1771162562351303\n",
            "12 \t [-5.12        2.62766191]\t 52.781139710873965\t 7.8108627039749745\t 2.8793068819655674\t 3.094860268825825\n",
            "13 \t [-5.12       -2.42712909]\t 53.785667828274924\t 7.8108627039749745\t 2.698648443735863\t 3.0430713552541206\n",
            "14 \t [ 0.40639831 -0.96383011]\t 19.671128297718944\t 7.8108627039749745\t 2.575044319774209\t 2.6574924602117305\n",
            "15 \t [2.38417105 1.92999499]\t 27.827580683738994\t 7.8108627039749745\t 2.6844915709664012\t 2.6397611753276617\n",
            "16 \t [ 2.80104289 -2.4358181 ]\t 39.824467759220525\t 7.8108627039749745\t 2.942034752136272\t 3.160847889176746\n",
            "17 \t [-1.12931371  2.44872939]\t 29.880376140830187\t 7.8108627039749745\t 2.796630642050061\t 3.217887227878133\n",
            "18 \t [0.77725786 0.97149278]\t 10.003611375174192\t 7.8108627039749745\t 2.5978035562976456\t 3.459693198179106\n",
            "19 \t [-3.25470211 -4.22678501]\t 47.30072298560338\t 7.8108627039749745\t 3.409370640170924\t 3.2907096700936105\n",
            "20 \t [ 4.77846698 -0.06306139]\t 31.833372648597376\t 7.8108627039749745\t 2.571992330893567\t 2.867295224546934\n"
          ]
        }
      ],
      "source": [
        "### EXACT STP EI GRADIENTS\n",
        "\n",
        "np.random.seed(run_num_5)\n",
        "surrogate_stp_5 = dtStudentProcess(cov_func, optimize=opt, nu = df)\n",
        "\n",
        "stp_5 = dGPGO_stp(surrogate_stp_5, Acquisition_grad(util_stp), objfunc, param)\n",
        "stp_5.run(init_evals=n_init, max_iter=iters)\n"
      ]
    },
    {
      "cell_type": "code",
      "execution_count": 39,
      "metadata": {
        "id": "04KJCEm_Ivvf",
        "colab": {
          "base_uri": "https://localhost:8080/"
        },
        "outputId": "9713893e-ece7-4a1a-ee07-a943262ec363"
      },
      "outputs": [
        {
          "output_type": "stream",
          "name": "stdout",
          "text": [
            "Evaluation \t Proposed point \t  Current eval. \t  Best eval. \t        Exact EI: StdDev. x \t Approx EI: StdDev. x \n",
            "init\t [ 4.02288795 -1.72052679]\t 31.08835710146886\t 17.28954482757088\t    \t    \n",
            "init\t [ 3.28938622 -4.69302655]\t 58.797867722203385\t 17.28954482757088\t    \t    \n",
            "init\t [-4.0175956   0.97333314]\t 17.28954482757088\t 17.28954482757088\t    \t    \n",
            "init\t [ 0.30532979 -0.83141193]\t 19.296253155889353\t 17.28954482757088\t    \t    \n",
            "init\t [-1.68542362  1.25459899]\t 28.650630936276173\t 17.28954482757088\t    \t    \n",
            "1  \t [-5.12 -5.12]\t 57.849427451571785\t 17.28954482757088\t 3.9687594544846467\t 4.3130258752081785\n",
            "2  \t [4.48914029 2.92869999]\t 49.6932034994741\t 17.28954482757088\t 3.1361933159126294\t 4.088497974487699\n",
            "3  \t [-1.20203668 -5.06547439]\t 34.970040481603995\t 17.28954482757088\t 3.3418600590876055\t 3.9873499916074895\n",
            "4  \t [-2.91508567  4.40569092]\t 47.5928067251325\t 17.28954482757088\t 2.968726725451691\t 4.3210253195160195\n",
            "5  \t [0.91848973 5.08934792]\t 29.562965758813867\t 17.28954482757088\t 2.48702805530439\t 3.4449581873416144\n",
            "6  \t [-3.34061284 -2.06711994]\t 31.699584809772645\t 17.28954482757088\t 3.0616342841658195\t 3.3247993907620974\n",
            "7  \t [-5.04027417  2.87502226]\t 36.9165267636593\t 17.28954482757088\t 3.011656323167197\t 3.62904309840626\n",
            "\u001b[1m\u001b[92m8\u001b[0m\t \u001b[1m\u001b[92m[1.21040886 1.96282553]\u001b[0m\t \u001b[1m\u001b[92m13.127311609106892\u001b[0m\t \u001b[1m\u001b[92m13.127311609106892\u001b[0m\t \u001b[1m\u001b[92m2.8429108325806927\u001b[0m\t \u001b[1m\u001b[92m3.3826848517909873\u001b[0m\n",
            "\u001b[1m\u001b[92m9\u001b[0m\t \u001b[1m\u001b[92m[ 0.13586797 -2.99188025]\u001b[0m\t \u001b[1m\u001b[92m12.410706472124364\u001b[0m\t \u001b[1m\u001b[92m12.410706472124364\u001b[0m\t \u001b[1m\u001b[92m2.4855966825696507\u001b[0m\t \u001b[1m\u001b[92m2.839628406841335\u001b[0m\n",
            "10 \t [5.12 5.12]\t 57.849427451571785\t 12.410706472124364\t 3.2821335582129025\t 3.5626260166143253\n",
            "11 \t [5.12       0.38349679]\t 46.51009990166669\t 12.410706472124364\t 3.086540359059308\t 3.558523520035908\n",
            "12 \t [-5.12       -1.12167046]\t 32.965421011741334\t 12.410706472124364\t 2.832432400485735\t 3.16338002446678\n",
            "13 \t [-0.14757787  3.37547746]\t 32.507587193400674\t 12.410706472124364\t 2.692765644402421\t 2.630629958617252\n",
            "14 \t [2.26869679 0.09652198]\t 18.111677989697142\t 12.410706472124364\t 2.6341066662426305\t 2.9959934987583847\n",
            "15 \t [ 1.85372688 -2.55782234]\t 33.26035211990014\t 12.410706472124364\t 3.031634660200622\t 3.1501543258481766\n",
            "\u001b[1m\u001b[92m16\u001b[0m\t \u001b[1m\u001b[92m[-1.87070483 -1.04592887]\u001b[0m\t \u001b[1m\u001b[92m8.129326517761266\u001b[0m\t \u001b[1m\u001b[92m8.129326517761266\u001b[0m\t \u001b[1m\u001b[92m3.1284295690543558\u001b[0m\t \u001b[1m\u001b[92m3.3951970561718134\u001b[0m\n",
            "17 \t [ 0.88979975 -5.06431018]\t 29.54720165925279\t 8.129326517761266\t 3.324290513521575\t 4.029265278170737\n",
            "18 \t [2.78701257 5.11819713]\t 44.29195742275401\t 8.129326517761266\t 2.7184469923422263\t 3.055325288453699\n",
            "19 \t [-1.6405972  -3.04040542]\t 28.60144173467918\t 8.129326517761266\t 3.1107350392154336\t 3.7031778599197263\n",
            "20 \t [-3.15450784 -5.12      ]\t 43.229250771559634\t 8.129326517761266\t 2.8257090862612877\t 3.5199830888097114\n"
          ]
        }
      ],
      "source": [
        "### EXACT STP EI GRADIENTS\n",
        "\n",
        "np.random.seed(run_num_6)\n",
        "surrogate_stp_6 = dtStudentProcess(cov_func, optimize=opt, nu = df)\n",
        "\n",
        "stp_6 = dGPGO_stp(surrogate_stp_6, Acquisition_grad(util_stp), objfunc, param)\n",
        "stp_6.run(init_evals=n_init, max_iter=iters)\n"
      ]
    },
    {
      "cell_type": "code",
      "execution_count": 40,
      "metadata": {
        "id": "tAOkme3CIvyO",
        "colab": {
          "base_uri": "https://localhost:8080/"
        },
        "outputId": "b312ea58-810d-4aac-eaae-b66330291e12"
      },
      "outputs": [
        {
          "output_type": "stream",
          "name": "stdout",
          "text": [
            "Evaluation \t Proposed point \t  Current eval. \t  Best eval. \t        Exact EI: StdDev. x \t Approx EI: StdDev. x \n",
            "init\t [-4.33860312  2.86636843]\t 45.646133072936244\t 22.52235437888213\t    \t    \n",
            "init\t [-0.63068947  2.28828342]\t 34.83012662845338\t 22.52235437888213\t    \t    \n",
            "init\t [4.8946126  0.39419771]\t 44.09657005662876\t 22.52235437888213\t    \t    \n",
            "init\t [ 0.01147355 -4.38219639]\t 36.613209822404315\t 22.52235437888213\t    \t    \n",
            "init\t [-2.37118484e+00 -1.20319155e-03]\t 22.52235437888213\t 22.52235437888213\t    \t    \n",
            "1  \t [-5.12 -5.12]\t 57.849427451571785\t 22.52235437888213\t 3.005590137810142\t 4.008296444071431\n",
            "2  \t [3.36336072 4.52412691]\t 68.20074440954015\t 22.52235437888213\t 3.0713892808770202\t 4.0099538803586485\n",
            "3  \t [ 3.81570236 -4.87523301]\t 47.234127813742255\t 22.52235437888213\t 3.2730748689604425\t 3.7286815609309363\n",
            "4  \t [-4.02558214 -1.33646422]\t 33.289738493146906\t 22.52235437888213\t 3.0285619241944337\t 3.046307140328312\n",
            "\u001b[1m\u001b[92m5\u001b[0m\t \u001b[1m\u001b[92m[ 1.13453878 -0.82926653]\u001b[0m\t \u001b[1m\u001b[92m10.562931859398235\u001b[0m\t \u001b[1m\u001b[92m10.562931859398235\u001b[0m\t \u001b[1m\u001b[92m2.90717441957879\u001b[0m\t \u001b[1m\u001b[92m3.2664450009859536\u001b[0m\n",
            "6  \t [-1.63107002  5.12      ]\t 48.38141038256166\t 10.562931859398235\t 3.1436702610394365\t 3.790941029351226\n",
            "7  \t [-2.41390012 -5.12      ]\t 53.3236640693585\t 10.562931859398235\t 2.8842321938999156\t 3.1705794900998967\n",
            "8  \t [ 3.27659357 -2.34632917]\t 43.594194264577986\t 10.562931859398235\t 3.234058079605476\t 3.606988720066367\n",
            "9  \t [1.8422583  1.96850892]\t 11.986527512078299\t 10.562931859398235\t 2.79000389883985\t 3.507012072216146\n",
            "10 \t [-5.02023677  4.92727657]\t 50.58746939743787\t 10.562931859398235\t 3.085607904362185\t 3.3799994765595374\n",
            "11 \t [-0.67477788 -2.22520722]\t 28.407724568501663\t 10.562931859398235\t 2.6364470419663157\t 3.202763369974413\n",
            "12 \t [0.57512487 5.12      ]\t 48.161983010673865\t 10.562931859398235\t 3.0845542793271967\t 3.31861368102574\n",
            "13 \t [5.10542567 2.85896485]\t 40.02993115878448\t 10.562931859398235\t 3.1778956714940865\t 3.4949491783332483\n",
            "14 \t [-4.48653069  0.56477601]\t 59.59526620629686\t 10.562931859398235\t 2.734821472938427\t 2.8613044753352748\n",
            "15 \t [2.09400292 0.41206011]\t 24.76071262094809\t 10.562931859398235\t 2.8634843590008656\t 3.3029601492184812\n",
            "16 \t [-0.47679804 -0.10116995]\t 22.08475403275199\t 10.562931859398235\t 2.91056725349076\t 2.8360745862666135\n",
            "17 \t [-2.86459314 -3.09345237]\t 22.856348913711514\t 10.562931859398235\t 2.4522790808870423\t 3.2781281166638196\n",
            "18 \t [ 1.67172856 -4.99798643]\t 42.497425196046436\t 10.562931859398235\t 3.5413465713222045\t 3.8001372008065872\n",
            "19 \t [ 5.0495107  -1.82606093]\t 34.71283776821101\t 10.562931859398235\t 2.9911067345579183\t 3.341458693871196\n",
            "20 \t [5.12 5.12]\t 57.849427451571785\t 10.562931859398235\t 3.074586582680552\t 3.354769166118398\n"
          ]
        }
      ],
      "source": [
        "### EXACT STP EI GRADIENTS\n",
        "\n",
        "np.random.seed(run_num_7)\n",
        "surrogate_stp_7 = dtStudentProcess(cov_func, optimize=opt, nu = df)\n",
        "\n",
        "stp_7 = dGPGO_stp(surrogate_stp_7, Acquisition_grad(util_stp), objfunc, param)\n",
        "stp_7.run(init_evals=n_init, max_iter=iters)\n"
      ]
    },
    {
      "cell_type": "code",
      "execution_count": 41,
      "metadata": {
        "id": "69-J3EF4Iv1S",
        "colab": {
          "base_uri": "https://localhost:8080/"
        },
        "outputId": "7fcae0cf-ca0b-49db-d16a-4b72877bfe51"
      },
      "outputs": [
        {
          "output_type": "stream",
          "name": "stdout",
          "text": [
            "Evaluation \t Proposed point \t  Current eval. \t  Best eval. \t        Exact EI: StdDev. x \t Approx EI: StdDev. x \n",
            "init\t [3.82391708 4.79785639]\t 50.20079446939181\t 13.871821018360485\t    \t    \n",
            "init\t [3.78055209 0.31596228]\t 36.5114251593508\t 13.871821018360485\t    \t    \n",
            "init\t [-2.73686192 -5.00327624]\t 43.34985765011677\t 13.871821018360485\t    \t    \n",
            "init\t [-0.7119993  -0.99992207]\t 13.871821018360485\t 13.871821018360485\t    \t    \n",
            "init\t [ 0.23218863 -0.22126801]\t 17.190590355445654\t 13.871821018360485\t    \t    \n",
            "1  \t [ 4.96383424 -4.82578382]\t 53.60118142988121\t 13.871821018360485\t 3.148890656041407\t 4.085878709003431\n",
            "2  \t [-5.03492225  2.95509263]\t 34.71822332027364\t 13.871821018360485\t 3.31768325059745\t 3.78754875821598\n",
            "3  \t [-5.12       -2.11136579]\t 35.73243029163747\t 13.871821018360485\t 2.9917237096486002\t 3.672794705419105\n",
            "4  \t [ 1.09080552 -4.27732061]\t 32.77746248841899\t 13.871821018360485\t 3.274569647842853\t 3.6307088465578627\n",
            "5  \t [-0.5310758   2.96460578]\t 29.127176814398545\t 13.871821018360485\t 3.221203265742618\t 3.561981054265427\n",
            "6  \t [-3.18494573  0.04667013]\t 16.598317243738887\t 13.871821018360485\t 3.3734552186269324\t 3.191032579584974\n",
            "7  \t [ 4.70774945 -1.99403417]\t 38.769711098757355\t 13.871821018360485\t 3.1715071266682857\t 3.376214641282023\n",
            "8  \t [-2.45943691  4.75108617]\t 58.23037663207794\t 13.871821018360485\t 3.2871026082562667\t 3.48731393900776\n",
            "9  \t [1.98657289 2.18009008]\t 14.482159840694306\t 13.871821018360485\t 3.196189666871632\t 3.3681415253129616\n",
            "10 \t [-5.12 -5.12]\t 57.849427451571785\t 13.871821018360485\t 3.163865040723057\t 3.0661286142558133\n",
            "11 \t [0.89132744 5.094115  ]\t 30.68451059013703\t 13.871821018360485\t 2.9383544776017003\t 3.1640802992946284\n",
            "12 \t [5.12       2.08115552]\t 34.52806273830491\t 13.871821018360485\t 2.5982212247369407\t 2.9541150351631176\n",
            "\u001b[1m\u001b[92m13\u001b[0m\t \u001b[1m\u001b[92m[ 1.89717297 -1.87860421]\u001b[0m\t \u001b[1m\u001b[92m11.914555010483227\u001b[0m\t \u001b[1m\u001b[92m11.914555010483227\u001b[0m\t \u001b[1m\u001b[92m2.6374941584356826\u001b[0m\t \u001b[1m\u001b[92m2.836500504970798\u001b[0m\n",
            "14 \t [-2.16357335 -2.45671582]\t 35.18159328977633\t 11.914555010483227\t 3.2229754065879317\t 3.0885909257782345\n",
            "15 \t [-4.79800754  0.489075  ]\t 50.26565187896787\t 11.914555010483227\t 2.5212385946079547\t 2.5412077135223248\n",
            "16 \t [-1.84996335  0.82241022]\t 13.82840840766906\t 11.914555010483227\t 3.1353937690469404\t 2.97198568337035\n",
            "17 \t [-0.61372976 -5.12      ]\t 46.85502930114288\t 11.914555010483227\t 2.8504854835976987\t 3.1524242580664947\n",
            "18 \t [1.60478777 0.32352793]\t 35.04703048983199\t 11.914555010483227\t 2.6498633066011474\t 2.4987563283190792\n",
            "19 \t [ 2.83927454 -3.49864625]\t 44.98191770772386\t 11.914555010483227\t 3.0053980975432237\t 3.414467715679692\n",
            "20 \t [-2.7841885   2.13941823]\t 23.79480948743509\t 11.914555010483227\t 2.8992360840075704\t 3.1144506548328126\n"
          ]
        }
      ],
      "source": [
        "### EXACT STP EI GRADIENTS\n",
        "\n",
        "np.random.seed(run_num_8)\n",
        "surrogate_stp_8 = dtStudentProcess(cov_func, optimize=opt, nu = df)\n",
        "\n",
        "stp_8 = dGPGO_stp(surrogate_stp_8, Acquisition_grad(util_stp), objfunc, param)\n",
        "stp_8.run(init_evals=n_init, max_iter=iters)\n"
      ]
    },
    {
      "cell_type": "code",
      "execution_count": 42,
      "metadata": {
        "id": "vonm9jyuIv4t",
        "colab": {
          "base_uri": "https://localhost:8080/"
        },
        "outputId": "bf6c167c-1bb4-4116-e54c-829696924e8b"
      },
      "outputs": [
        {
          "output_type": "stream",
          "name": "stdout",
          "text": [
            "Evaluation \t Proposed point \t  Current eval. \t  Best eval. \t        Exact EI: StdDev. x \t Approx EI: StdDev. x \n",
            "init\t [-5.01376866  0.01919582]\t 25.248289026162446\t 24.454800313488693\t    \t    \n",
            "init\t [-0.04328148 -3.74958562]\t 24.454800313488693\t 24.454800313488693\t    \t    \n",
            "init\t [-3.66478248 -2.88195916]\t 39.46509426509438\t 24.454800313488693\t    \t    \n",
            "init\t [-0.83447623 -2.57944404]\t 31.06766397812992\t 24.454800313488693\t    \t    \n",
            "init\t [-4.25922917 -1.58209393]\t 49.922543556206975\t 24.454800313488693\t    \t    \n",
            "1  \t [3.69491889 4.82146316]\t 55.95031066333101\t 24.454800313488693\t 3.0952156607508585\t 3.204358037906524\n",
            "2  \t [-2.02106223  4.82097351]\t 33.10085788033846\t 24.454800313488693\t 3.189439483804398\t 4.05195947884252\n",
            "\u001b[1m\u001b[92m3\u001b[0m\t \u001b[1m\u001b[92m[1.9771472  0.74713585]\u001b[0m\t \u001b[1m\u001b[92m14.750184067763719\u001b[0m\t \u001b[1m\u001b[92m14.750184067763719\u001b[0m\t \u001b[1m\u001b[92m2.635064735105204\u001b[0m\t \u001b[1m\u001b[92m3.5029034060809856\u001b[0m\n",
            "4  \t [ 4.43889093 -3.24498238]\t 59.19033586136056\t 14.750184067763719\t 2.7005694103729647\t 3.6471688610695323\n",
            "5  \t [5.026706   1.32904654]\t 41.93954304108088\t 14.750184067763719\t 3.241051513572885\t 3.529519898749064\n",
            "6  \t [-1.76544689  1.22780431]\t 22.26519233069766\t 14.750184067763719\t 2.8516283612852638\t 3.027635524894027\n",
            "7  \t [-5.12 -5.12]\t 57.849427451571785\t 14.750184067763719\t 2.9054798177300234\t 3.3552718200920686\n",
            "8  \t [-3.80785396  2.57397898]\t 46.50858220673396\t 14.750184067763719\t 2.569678896456374\t 3.4574257894056766\n",
            "9  \t [0.64260293 3.239168  ]\t 36.47245630425739\t 14.750184067763719\t 3.2895917789053604\t 3.132526903557989\n",
            "10 \t [-2.22537273 -5.12      ]\t 42.33578806919259\t 14.750184067763719\t 2.8702648345555537\t 2.7314904357823657\n",
            "\u001b[1m\u001b[92m11\u001b[0m\t \u001b[1m\u001b[92m[ 2.08800547 -2.0561394 ]\u001b[0m\t \u001b[1m\u001b[92m10.69339530259324\u001b[0m\t \u001b[1m\u001b[92m10.69339530259324\u001b[0m\t \u001b[1m\u001b[92m2.794346572103696\u001b[0m\t \u001b[1m\u001b[92m3.520701757644789\u001b[0m\n",
            "\u001b[1m\u001b[92m12\u001b[0m\t \u001b[1m\u001b[92m[-0.09086723 -0.12308064]\u001b[0m\t \u001b[1m\u001b[92m4.453621875540017\u001b[0m\t \u001b[1m\u001b[92m4.453621875540017\u001b[0m\t \u001b[1m\u001b[92m2.317840081530406\u001b[0m\t \u001b[1m\u001b[92m3.0502354006720216\u001b[0m\n",
            "13 \t [ 4.5809354  -0.85844998]\t 44.15760913618685\t 4.453621875540017\t 2.4708810765228413\t 2.6655691161121116\n",
            "14 \t [ 1.66669744 -4.06661023]\t 35.17662811735522\t 4.453621875540017\t 2.403130854854643\t 3.254975419257018\n",
            "15 \t [1.00603967 5.12      ]\t 29.94402906660092\t 4.453621875540017\t 2.7140889548313507\t 2.8915315661439136\n",
            "16 \t [2.89678718 2.4354303 ]\t 35.541071886850965\t 4.453621875540017\t 2.749320116970464\t 3.400848255137264\n",
            "17 \t [-4.04030506  4.65816277]\t 53.796873406445705\t 4.453621875540017\t 2.5992766964509557\t 2.8850094526992773\n",
            "18 \t [ 0.84125354 -0.69839944]\t 18.956523260390416\t 4.453621875540017\t 2.9719516571286047\t 3.0440111358735042\n",
            "19 \t [-2.72767718  0.02894093]\t 19.00392642441669\t 4.453621875540017\t 2.884549016057949\t 2.6908123215245796\n",
            "20 \t [5.12       3.47315513]\t 60.84560717744943\t 4.453621875540017\t 3.118920202859873\t 3.375447255600259\n"
          ]
        }
      ],
      "source": [
        "### EXACT STP EI GRADIENTS\n",
        "\n",
        "np.random.seed(run_num_9)\n",
        "surrogate_stp_9 = dtStudentProcess(cov_func, optimize=opt, nu = df)\n",
        "\n",
        "stp_9 = dGPGO_stp(surrogate_stp_9, Acquisition_grad(util_stp), objfunc, param)\n",
        "stp_9.run(init_evals=n_init, max_iter=iters)\n"
      ]
    },
    {
      "cell_type": "code",
      "execution_count": 43,
      "metadata": {
        "id": "6amuYlUdIv7r",
        "colab": {
          "base_uri": "https://localhost:8080/"
        },
        "outputId": "241e0444-1b7b-4f03-bd79-2206773c7bcf"
      },
      "outputs": [
        {
          "output_type": "stream",
          "name": "stdout",
          "text": [
            "Evaluation \t Proposed point \t  Current eval. \t  Best eval. \t        Exact EI: StdDev. x \t Approx EI: StdDev. x \n",
            "init\t [ 2.77832339 -4.90750004]\t 41.674330194390116\t 13.839458310244165\t    \t    \n",
            "init\t [1.36855793 2.54775176]\t 44.69639719065837\t 13.839458310244165\t    \t    \n",
            "init\t [-0.01528819 -2.81808235]\t 13.839458310244165\t 13.839458310244165\t    \t    \n",
            "init\t [-3.09183626  2.66783449]\t 33.23221510904937\t 13.839458310244165\t    \t    \n",
            "init\t [-3.38830503 -4.2154003 ]\t 54.73014366983691\t 13.839458310244165\t    \t    \n",
            "1  \t [5.12       0.59896323]\t 47.41175831671596\t 13.839458310244165\t 3.155573723257731\t 3.704609157759507\n",
            "2  \t [-4.53780345 -0.81355647]\t 47.08468825435077\t 13.839458310244165\t 2.535097950853813\t 3.3620442033782942\n",
            "3  \t [5.12 5.12]\t 57.849427451571785\t 13.839458310244165\t 3.433227726772619\t 3.7260587528014177\n",
            "\u001b[1m\u001b[92m4\u001b[0m\t \u001b[1m\u001b[92m[-1.12192523  0.07570431]\u001b[0m\t \u001b[1m\u001b[92m5.168211542144556\u001b[0m\t \u001b[1m\u001b[92m5.168211542144556\u001b[0m\t \u001b[1m\u001b[92m3.451563341317921\u001b[0m\t \u001b[1m\u001b[92m3.634525001889794\u001b[0m\n",
            "5  \t [-0.34271121  5.12      ]\t 44.54347993900822\t 5.168211542144556\t 2.70164146194111\t 3.7392510997129085\n",
            "6  \t [ 2.07781024 -0.87380614]\t 9.234486553130314\t 5.168211542144556\t 3.3698463786039095\t 3.428364810011338\n",
            "7  \t [-0.56027461 -5.12      ]\t 48.53002061385467\t 5.168211542144556\t 2.775174083143087\t 3.3430820678355344\n",
            "8  \t [ 3.78220865 -2.18939371]\t 33.37196474556921\t 5.168211542144556\t 3.1441514098134267\t 3.34863633180067\n",
            "9  \t [2.29033513 5.12      ]\t 46.67763712864145\t 5.168211542144556\t 2.7972247862529414\t 3.568193625371162\n",
            "10 \t [-4.97977688  1.50560892]\t 47.13944646831244\t 5.168211542144556\t 2.946421798439869\t 3.3169679528816753\n",
            "11 \t [-3.00829283  4.82181437]\t 37.95262682601814\t 5.168211542144556\t 2.7600838914007584\t 3.1001673900916162\n",
            "12 \t [-1.68746236 -1.8682132 ]\t 23.403567418521284\t 5.168211542144556\t 3.4308889795551414\t 3.0985899846822735\n",
            "13 \t [0.25923173 0.00262831]\t 10.648293260988535\t 5.168211542144556\t 3.1162633492414344\t 3.9859721963112413\n",
            "14 \t [4.30532344 2.58104095]\t 57.33544596712113\t 5.168211542144556\t 2.827760118306514\t 3.75687312729025\n",
            "15 \t [-1.73086187  1.06240069]\t 16.082984679974235\t 5.168211542144556\t 2.5228218666070688\t 2.8366812583029235\n",
            "16 \t [-5.12 -5.12]\t 57.849427451571785\t 5.168211542144556\t 2.7492053880676726\t 3.779451327532203\n",
            "17 \t [2.15376846 0.63736284]\t 25.861316436838408\t 5.168211542144556\t 2.494407518743885\t 3.839632410712727\n",
            "18 \t [-0.88780717  2.52210762]\t 29.436328849612437\t 5.168211542144556\t 2.860347079597285\t 3.371858252769945\n",
            "19 \t [ 4.46446897 -3.80908622]\t 60.564653459335645\t 5.168211542144556\t 2.726374147421705\t 3.0556681588504055\n",
            "20 \t [ 1.84528171 -3.12450997]\t 20.439357029989644\t 5.168211542144556\t 3.194747284407928\t 3.5818423339022623\n"
          ]
        }
      ],
      "source": [
        "### EXACT STP EI GRADIENTS\n",
        "\n",
        "np.random.seed(run_num_10)\n",
        "surrogate_stp_10 = dtStudentProcess(cov_func, optimize=opt, nu = df)\n",
        "\n",
        "stp_10 = dGPGO_stp(surrogate_stp_10, Acquisition_grad(util_stp), objfunc, param)\n",
        "stp_10.run(init_evals=n_init, max_iter=iters)\n"
      ]
    },
    {
      "cell_type": "code",
      "execution_count": 44,
      "metadata": {
        "id": "VwbLIP9cIv-F",
        "colab": {
          "base_uri": "https://localhost:8080/"
        },
        "outputId": "a6db4dfa-84ed-46aa-8090-2f1253d6b157"
      },
      "outputs": [
        {
          "output_type": "stream",
          "name": "stdout",
          "text": [
            "Evaluation \t Proposed point \t  Current eval. \t  Best eval. \t        Exact EI: StdDev. x \t Approx EI: StdDev. x \n",
            "init\t [-3.27403839 -4.92057353]\t 47.655641290890955\t 10.679755252484755\t    \t    \n",
            "init\t [-0.37664229  2.30332343]\t 35.87889240695259\t 10.679755252484755\t    \t    \n",
            "init\t [-0.81711509 -0.14922651]\t 10.679755252484755\t 10.679755252484755\t    \t    \n",
            "init\t [-4.98912446 -0.12931474]\t 28.05462905574235\t 10.679755252484755\t    \t    \n",
            "init\t [4.52410012 3.59214172]\t 71.62694632141611\t 10.679755252484755\t    \t    \n",
            "1  \t [ 3.03550212 -4.46785095]\t 49.22040431745476\t 10.679755252484755\t 2.910252259613797\t 4.082909601971785\n",
            "2  \t [ 2.45710354 -0.83288647]\t 31.394363858898753\t 10.679755252484755\t 2.7000861899111115\t 3.7589702904242683\n",
            "3  \t [-3.67755831  2.64141021]\t 51.20330278744583\t 10.679755252484755\t 3.491717773908175\t 4.255756939073135\n",
            "4  \t [-0.23509426 -3.34993652]\t 36.216782218317746\t 10.679755252484755\t 2.9538034784930898\t 3.28841980523627\n",
            "5  \t [0.09790516 5.12      ]\t 30.767466461970812\t 10.679755252484755\t 2.9697041996032207\t 3.399881155442509\n",
            "6  \t [-5.12       -2.82081579]\t 42.57759946332242\t 10.679755252484755\t 3.2862931168654175\t 3.276690756473005\n",
            "7  \t [5.11378968 0.2537673 ]\t 38.90074334426983\t 10.679755252484755\t 3.121939677126646\t 3.674478446799122\n",
            "8  \t [-2.92066062  4.82024636]\t 38.7102519820431\t 10.679755252484755\t 3.1498093461644405\t 3.3466313131411156\n",
            "9  \t [ 4.74535658 -2.87498438]\t 44.00528353311431\t 10.679755252484755\t 3.2221934715619613\t 3.5320710350215276\n",
            "10 \t [2.40315601 1.61480884]\t 44.09694304549092\t 10.679755252484755\t 2.875907283365429\t 3.147524962342493\n",
            "11 \t [2.39607509 5.12      ]\t 52.60866072173681\t 10.679755252484755\t 3.60350425488509\t 3.442626532644962\n",
            "12 \t [-2.75927351 -1.15139157]\t 22.550058383796962\t 10.679755252484755\t 3.0064001123779454\t 2.949499432395594\n",
            "13 \t [ 0.5665416  -1.42284084]\t 40.33175037930006\t 10.679755252484755\t 3.191331903394745\t 3.3711783573201877\n",
            "14 \t [-0.31313372 -5.12      ]\t 42.88635718146028\t 10.679755252484755\t 2.905751458636143\t 3.266330854877687\n",
            "15 \t [-5.12 -5.12]\t 57.849427451571785\t 10.679755252484755\t 3.15208007054624\t 3.319470838153152\n",
            "16 \t [-2.59600463  0.70182181]\t 38.44805961418306\t 10.679755252484755\t 2.840992847838703\t 3.461289376095528\n",
            "17 \t [-2.81179387 -2.74080836]\t 32.20961556848713\t 10.679755252484755\t 2.8074292324955876\t 3.4366278769623\n",
            "18 \t [-4.81662509  3.9550111 ]\t 45.17387884149595\t 10.679755252484755\t 3.1181230243089613\t 3.214885239274531\n",
            "19 \t [0.65704629 0.45957194]\t 35.83605638626926\t 10.679755252484755\t 2.618365186704263\t 3.2380336017420848\n",
            "20 \t [-1.46685933  3.40876589]\t 51.95682383303369\t 10.679755252484755\t 2.794879250724121\t 3.73894654971174\n"
          ]
        }
      ],
      "source": [
        "### EXACT STP EI GRADIENTS\n",
        "\n",
        "np.random.seed(run_num_11)\n",
        "surrogate_stp_11 = dtStudentProcess(cov_func, optimize=opt, nu = df)\n",
        "\n",
        "stp_11 = dGPGO_stp(surrogate_stp_11, Acquisition_grad(util_stp), objfunc, param)\n",
        "stp_11.run(init_evals=n_init, max_iter=iters)\n"
      ]
    },
    {
      "cell_type": "code",
      "execution_count": 45,
      "metadata": {
        "id": "MlUNFjc-JTBY",
        "colab": {
          "base_uri": "https://localhost:8080/"
        },
        "outputId": "66ede2cc-7bda-457b-ad3a-06ae5a00ced6"
      },
      "outputs": [
        {
          "output_type": "stream",
          "name": "stdout",
          "text": [
            "Evaluation \t Proposed point \t  Current eval. \t  Best eval. \t        Exact EI: StdDev. x \t Approx EI: StdDev. x \n",
            "init\t [-3.54137249  2.45810889]\t 57.903242869085595\t 40.51116653209555\t    \t    \n",
            "init\t [-2.42365424  0.34549139]\t 40.51116653209555\t 40.51116653209555\t    \t    \n",
            "init\t [-4.97075238  4.28796936]\t 55.62655915398208\t 40.51116653209555\t    \t    \n",
            "init\t [ 4.10332011 -4.77776458]\t 49.962803461970296\t 40.51116653209555\t    \t    \n",
            "init\t [ 4.6791612  -3.71497655]\t 62.183891474990624\t 40.51116653209555\t    \t    \n",
            "1  \t [5.12 5.12]\t 57.849427451571785\t 40.51116653209555\t 3.6776527396425984\t 3.9651578763895956\n",
            "2  \t [-5.12 -5.12]\t 57.849427451571785\t 40.51116653209555\t 2.69025923362768\t 3.4817542887366764\n",
            "3  \t [-0.46166813 -5.12      ]\t 48.84921587525349\t 40.51116653209555\t 2.7337294807061703\t 3.002947780957033\n",
            "\u001b[1m\u001b[92m4\u001b[0m\t \u001b[1m\u001b[92m[2.52357387 1.19386188]\u001b[0m\t \u001b[1m\u001b[92m34.229660778936314\u001b[0m\t \u001b[1m\u001b[92m34.229660778936314\u001b[0m\t \u001b[1m\u001b[92m2.571002774949662\u001b[0m\t \u001b[1m\u001b[92m2.5130742411137335\u001b[0m\n",
            "5  \t [-5.12       -1.54249457]\t 50.94966746568011\t 34.229660778936314\t 2.1523275472771455\t 2.888767160563847\n",
            "6  \t [-0.22318783  3.36511433]\t 36.31561184832432\t 34.229660778936314\t 2.503657664864326\t 3.233171210075511\n",
            "\u001b[1m\u001b[92m7\u001b[0m\t \u001b[1m\u001b[92m[ 0.60966929 -1.78376899]\u001b[0m\t \u001b[1m\u001b[92m29.166005356731166\u001b[0m\t \u001b[1m\u001b[92m29.166005356731166\u001b[0m\t \u001b[1m\u001b[92m2.8703874877813136\u001b[0m\t \u001b[1m\u001b[92m3.192919741657986\u001b[0m\n",
            "8  \t [ 4.81638731 -0.90941609]\t 31.549735008232688\t 29.166005356731166\t 3.1299891047857673\t 3.62428505251682\n",
            "9  \t [2.10096968 5.12      ]\t 35.28457904424667\t 29.166005356731166\t 3.031834055712002\t 2.917756024663025\n",
            "10 \t [-2.9609511  -2.37576102]\t 31.815749949379466\t 29.166005356731166\t 3.03963215392109\t 3.276497348097659\n",
            "11 \t [-2.11862023  4.85495045]\t 34.58372782047691\t 29.166005356731166\t 2.517681688078594\t 3.366886548267477\n",
            "12 \t [4.94971258 1.76007929]\t 37.45968771556657\t 29.166005356731166\t 2.5414155146653554\t 3.1664919498433433\n",
            "\u001b[1m\u001b[92m13\u001b[0m\t \u001b[1m\u001b[92m[0.37699508 0.23911828]\u001b[0m\t \u001b[1m\u001b[92m26.675265692020194\u001b[0m\t \u001b[1m\u001b[92m26.675265692020194\u001b[0m\t \u001b[1m\u001b[92m2.4543981910873143\u001b[0m\t \u001b[1m\u001b[92m2.9498955380571914\u001b[0m\n",
            "14 \t [ 1.57980437 -4.01601466]\t 37.443719596714494\t 26.675265692020194\t 2.769832821674533\t 3.187363660894777\n",
            "15 \t [-2.73713603 -5.12      ]\t 47.224014922589426\t 26.675265692020194\t 2.8579668361338064\t 3.321560468824916\n",
            "\u001b[1m\u001b[92m16\u001b[0m\t \u001b[1m\u001b[92m[ 2.72833492 -1.9830091 ]\u001b[0m\t \u001b[1m\u001b[92m22.79012481576161\u001b[0m\t \u001b[1m\u001b[92m22.79012481576161\u001b[0m\t \u001b[1m\u001b[92m2.870944779924804\u001b[0m\t \u001b[1m\u001b[92m2.9606771965261394\u001b[0m\n",
            "17 \t [-5.12        0.84377493]\t 34.07966495939519\t 22.79012481576161\t 2.4314952907070233\t 3.021355507052341\n",
            "\u001b[1m\u001b[92m18\u001b[0m\t \u001b[1m\u001b[92m[-1.22243864 -2.05478682]\u001b[0m\t \u001b[1m\u001b[92m14.580079842131532\u001b[0m\t \u001b[1m\u001b[92m14.580079842131532\u001b[0m\t \u001b[1m\u001b[92m3.075954928242219\u001b[0m\t \u001b[1m\u001b[92m2.927417331576016\u001b[0m\n",
            "19 \t [3.6466004  3.08492127]\t 40.25380345758824\t 14.580079842131532\t 2.7737001764055766\t 2.9173597235395965\n",
            "20 \t [0.34014873 5.11183154]\t 43.98140890276376\t 14.580079842131532\t 2.640945494933677\t 2.515675689442481\n"
          ]
        }
      ],
      "source": [
        "### EXACT STP EI GRADIENTS\n",
        "\n",
        "np.random.seed(run_num_12)\n",
        "surrogate_stp_12 = dtStudentProcess(cov_func, optimize=opt, nu = df)\n",
        "\n",
        "stp_12 = dGPGO_stp(surrogate_stp_12, Acquisition_grad(util_stp), objfunc, param)\n",
        "stp_12.run(init_evals=n_init, max_iter=iters)\n"
      ]
    },
    {
      "cell_type": "code",
      "execution_count": 46,
      "metadata": {
        "id": "9BsKdU9eJTFL",
        "colab": {
          "base_uri": "https://localhost:8080/"
        },
        "outputId": "251a14b3-5d91-4e18-e8dc-136e413e8fec"
      },
      "outputs": [
        {
          "output_type": "stream",
          "name": "stdout",
          "text": [
            "Evaluation \t Proposed point \t  Current eval. \t  Best eval. \t        Exact EI: StdDev. x \t Approx EI: StdDev. x \n",
            "init\t [ 2.84367268 -2.68757791]\t 33.58019830007169\t 17.435826639425656\t    \t    \n",
            "init\t [3.32061217 4.76927179]\t 56.857057997503354\t 17.435826639425656\t    \t    \n",
            "init\t [ 4.83943541 -0.47667971]\t 48.211919361679726\t 17.435826639425656\t    \t    \n",
            "init\t [1.11659482 2.82139151]\t 17.435826639425656\t 17.435826639425656\t    \t    \n",
            "init\t [1.45012065 2.27346667]\t 38.25352329493884\t 17.435826639425656\t    \t    \n",
            "1  \t [-5.12 -5.12]\t 57.849427451571785\t 17.435826639425656\t 2.956877519894405\t 3.4306722804065\n",
            "2  \t [-3.79946932  2.66821301]\t 43.412509428311274\t 17.435826639425656\t 2.5389166878714597\t 3.731942673828179\n",
            "3  \t [-2.15178595 -1.49579183]\t 31.07737996083779\t 17.435826639425656\t 2.4633440313232726\t 3.2957606543044857\n",
            "4  \t [-0.50423444 -5.12      ]\t 49.175426966944855\t 17.435826639425656\t 3.0364514618386087\t 3.8651284944789217\n",
            "5  \t [-4.99747285 -0.8426771 ]\t 30.186574680483698\t 17.435826639425656\t 3.3615592288333414\t 3.8746455075701474\n",
            "6  \t [-1.47143339  4.29526654]\t 53.25977008096706\t 17.435826639425656\t 2.7486710114449044\t 3.805713242778858\n",
            "7  \t [ 0.29172794 -0.41553238]\t 31.474081290315173\t 17.435826639425656\t 3.4531638052246336\t 4.111263669342515\n",
            "8  \t [4.85814166 2.64414447]\t 50.48065632462887\t 17.435826639425656\t 3.2207688146503743\t 4.005094910309956\n",
            "9  \t [-3.20021888 -3.4707955 ]\t 49.04285020629587\t 17.435826639425656\t 3.3730977351659837\t 3.8875932246225937\n",
            "10 \t [-1.61241473  0.81274353]\t 27.027004924759908\t 17.435826639425656\t 3.0268068344353636\t 3.3244072062965264\n",
            "11 \t [ 4.60219075 -4.03627506]\t 55.738795786272526\t 17.435826639425656\t 3.0314567940228883\t 4.404191620897593\n",
            "12 \t [ 0.1437704  -2.67432521]\t 25.560393767934052\t 17.435826639425656\t 3.1056312447164918\t 3.0707133770413053\n",
            "13 \t [ 1.48670131 -4.4567243 ]\t 61.67038149914674\t 17.435826639425656\t 3.274490997504526\t 3.452040727825035\n",
            "\u001b[1m\u001b[92m14\u001b[0m\t \u001b[1m\u001b[92m[2.07443988 0.02859926]\u001b[0m\t \u001b[1m\u001b[92m5.5391477128764475\u001b[0m\t \u001b[1m\u001b[92m5.5391477128764475\u001b[0m\t \u001b[1m\u001b[92m2.8648595374987145\u001b[0m\t \u001b[1m\u001b[92m3.4657891554783378\u001b[0m\n",
            "15 \t [-3.97300782  5.00321189]\t 40.96242768332724\t 5.5391477128764475\t 2.709806837203023\t 3.84982219686435\n",
            "16 \t [5.12 5.12]\t 57.849427451571785\t 5.5391477128764475\t 3.3991836031686686\t 3.490275352441842\n",
            "17 \t [0.84232868 5.12      ]\t 34.153003038657054\t 5.5391477128764475\t 3.221283097251512\t 3.3995302324458385\n",
            "18 \t [-5.12        1.13572455]\t 33.63568245109494\t 5.5391477128764475\t 1.9912547372826406\t 2.7397349974526675\n",
            "19 \t [-5.02677589 -2.82204778]\t 38.99975826814787\t 5.5391477128764475\t 2.6678005998595347\t 2.9796601065670583\n",
            "20 \t [2.96750041 1.16491376]\t 15.275771904620434\t 5.5391477128764475\t 2.811180730097225\t 3.2281993779909572\n"
          ]
        }
      ],
      "source": [
        "### EXACT STP EI GRADIENTS\n",
        "\n",
        "np.random.seed(run_num_13)\n",
        "surrogate_stp_13 = dtStudentProcess(cov_func, optimize=opt, nu = df)\n",
        "\n",
        "stp_13 = dGPGO_stp(surrogate_stp_13, Acquisition_grad(util_stp), objfunc, param)\n",
        "stp_13.run(init_evals=n_init, max_iter=iters)\n"
      ]
    },
    {
      "cell_type": "code",
      "execution_count": 47,
      "metadata": {
        "id": "k6GjFBr1JTJf",
        "colab": {
          "base_uri": "https://localhost:8080/"
        },
        "outputId": "4f8e4c96-c763-4247-ab6a-c34da7e0e0b3"
      },
      "outputs": [
        {
          "output_type": "stream",
          "name": "stdout",
          "text": [
            "Evaluation \t Proposed point \t  Current eval. \t  Best eval. \t        Exact EI: StdDev. x \t Approx EI: StdDev. x \n",
            "init\t [0.14277984 2.79721013]\t 18.683085263052178\t 10.423838604848608\t    \t    \n",
            "init\t [ 3.7931795  -5.03759925]\t 47.36348784446708\t 10.423838604848608\t    \t    \n",
            "init\t [-1.94830412  4.68586229]\t 40.19779334078636\t 10.423838604848608\t    \t    \n",
            "init\t [ 0.13431513 -1.86076749]\t 10.423838604848608\t 10.423838604848608\t    \t    \n",
            "init\t [ 0.40140736 -2.85434939]\t 30.353548735049138\t 10.423838604848608\t    \t    \n",
            "1  \t [-4.98996551 -5.12      ]\t 53.844338556563216\t 10.423838604848608\t 3.1780140634133702\t 3.8443509257492456\n",
            "2  \t [5.12       1.43373874]\t 50.126106106866246\t 10.423838604848608\t 3.153703369901504\t 3.8840234176321444\n",
            "3  \t [-5.12        0.36751971]\t 45.79082563073787\t 10.423838604848608\t 2.978827363948065\t 3.6839806448298758\n",
            "4  \t [-1.70393766  0.0408019 ]\t 16.08583675588006\t 10.423838604848608\t 2.7542992283676737\t 3.0032191881373924\n",
            "5  \t [5.12 5.12]\t 57.849427451571785\t 10.423838604848608\t 3.0354675132533013\t 3.4029095280495594\n",
            "6  \t [ 3.39652139 -1.45417143]\t 51.19903173479741\t 10.423838604848608\t 2.71136477174279\t 3.276125546031313\n",
            "7  \t [-1.79774938 -5.12      ]\t 39.20124066846354\t 10.423838604848608\t 2.6523026306635025\t 3.598104519861937\n",
            "8  \t [-4.81769413  3.59174679]\t 60.36852691508802\t 10.423838604848608\t 3.258213591964483\t 3.7036845690994897\n",
            "9  \t [1.23021503 5.12      ]\t 39.19821602791215\t 10.423838604848608\t 2.9355143909689025\t 3.383919253382353\n",
            "10 \t [-3.04139833 -2.42149459]\t 34.25805170090527\t 10.423838604848608\t 3.0077715866396364\t 2.776841877147573\n",
            "11 \t [0.48124925 0.38092992]\t 37.636946382272384\t 10.423838604848608\t 3.139524843900525\t 2.92247849605036\n",
            "12 \t [2.55740752 2.20145765]\t 37.740304519825706\t 10.423838604848608\t 2.4366279429560214\t 3.3796260682600767\n",
            "13 \t [ 1.06346953 -5.11251595]\t 30.450065702110283\t 10.423838604848608\t 2.8710618016913374\t 3.229346032590946\n",
            "14 \t [-2.38442451  1.93541228]\t 27.720647092110816\t 10.423838604848608\t 2.8337440154584903\t 3.2950252820852146\n",
            "15 \t [-5.12       -2.32285592]\t 48.739836580061215\t 10.423838604848608\t 2.7660015527968547\t 3.1668762867720446\n",
            "16 \t [ 5.07386691 -2.53120797]\t 53.017346224857754\t 10.423838604848608\t 2.829956594991561\t 3.0854207118298773\n",
            "17 \t [3.04864423 4.32277019]\t 42.85866076100718\t 10.423838604848608\t 2.844795172832058\t 3.0380116292839507\n",
            "18 \t [-1.26883516 -1.91339922]\t 17.895940266020787\t 10.423838604848608\t 2.5097915882232296\t 1.8525944411577877\n",
            "19 \t [3.78851967 4.08035791]\t 39.85328824905621\t 10.423838604848608\t 2.8867778495673275\t 2.8867778495673275\n",
            "20 \t [ 1.96131506 -2.86653525]\t 15.672564337867874\t 10.423838604848608\t 2.7283654257947045\t 2.98103782379045\n"
          ]
        }
      ],
      "source": [
        "### EXACT STP EI GRADIENTS\n",
        "\n",
        "np.random.seed(run_num_14)\n",
        "surrogate_stp_14 = dtStudentProcess(cov_func, optimize=opt, nu = df)\n",
        "\n",
        "stp_14 = dGPGO_stp(surrogate_stp_14, Acquisition_grad(util_stp), objfunc, param)\n",
        "stp_14.run(init_evals=n_init, max_iter=iters)\n"
      ]
    },
    {
      "cell_type": "code",
      "execution_count": 48,
      "metadata": {
        "id": "dPS8WB3aJTN6",
        "colab": {
          "base_uri": "https://localhost:8080/"
        },
        "outputId": "b6f89027-5c40-4054-da90-6474e687a36b"
      },
      "outputs": [
        {
          "output_type": "stream",
          "name": "stdout",
          "text": [
            "Evaluation \t Proposed point \t  Current eval. \t  Best eval. \t        Exact EI: StdDev. x \t Approx EI: StdDev. x \n",
            "init\t [ 3.57189322 -3.28810573]\t 54.938487770767075\t 7.990765314336182\t    \t    \n",
            "init\t [-4.56332069 -1.41784631]\t 60.750198753157726\t 7.990765314336182\t    \t    \n",
            "init\t [-2.29989449  0.3072023 ]\t 31.984997246800887\t 7.990765314336182\t    \t    \n",
            "init\t [-1.9873903  -2.00218256]\t 7.990765314336182\t 7.990765314336182\t    \t    \n",
            "init\t [-3.97576933 -2.5610341 ]\t 41.754957769694336\t 7.990765314336182\t    \t    \n",
            "1  \t [2.50790132 5.12      ]\t 55.20196193079832\t 7.990765314336182\t 3.0881738537082546\t 3.8171507094400203\n",
            "2  \t [-4.96635744  4.09320867]\t 43.30810083468987\t 7.990765314336182\t 2.7139639356973566\t 4.14431989651262\n",
            "3  \t [2.15619748 0.77474512]\t 18.142446990160977\t 7.990765314336182\t 3.0706350407124163\t 3.570014356164829\n",
            "4  \t [-0.71760179 -5.12      ]\t 41.46127607456661\t 7.990765314336182\t 3.0085485351694934\t 3.6519504434494205\n",
            "5  \t [-1.30096187  4.88816352]\t 41.10316652509651\t 7.990765314336182\t 3.2901670530437355\t 3.667771041674402\n",
            "6  \t [5.03841913 2.13302213]\t 33.51957077709514\t 7.990765314336182\t 3.1266622952984546\t 3.558686494394088\n",
            "7  \t [-5.12 -5.12]\t 57.849427451571785\t 7.990765314336182\t 3.1424270851809912\t 2.6310837485976206\n",
            "8  \t [ 0.1578643  -1.89434899]\t 10.265983084904283\t 7.990765314336182\t 2.8792766871167648\t 3.0474751355648992\n",
            "9  \t [-0.3187912   2.10603589]\t 20.864472396761826\t 7.990765314336182\t 2.1448266704609216\t 2.7911467541750796\n",
            "10 \t [ 4.97511361 -0.83801445]\t 30.323507013052296\t 7.990765314336182\t 2.8692994890165577\t 3.569034679482622\n",
            "11 \t [5.12 5.12]\t 57.849427451571785\t 7.990765314336182\t 2.433009994654872\t 3.3294691940575474\n",
            "12 \t [-4.77388895  0.82628196]\t 37.3658745540788\t 7.990765314336182\t 2.512038022706247\t 3.1071600098567713\n",
            "13 \t [-2.88168612  2.7250485 ]\t 29.92954093555746\t 7.990765314336182\t 2.7660629752120176\t 3.1526327832827756\n",
            "14 \t [ 1.98094481 -1.37890288]\t 23.139428061018542\t 7.990765314336182\t 2.621641590099987\t 3.366106882406954\n",
            "15 \t [ 1.24053643 -4.02979755]\t 27.358687418956674\t 7.990765314336182\t 2.3152666944253566\t 2.9236191004584478\n",
            "16 \t [2.1619589  2.50662984]\t 35.69464038990773\t 7.990765314336182\t 3.1692020513388184\t 3.2795465959233026\n",
            "17 \t [-0.36799626 -0.21287362]\t 24.622270268940106\t 7.990765314336182\t 2.6756240032307583\t 3.269633449025268\n",
            "18 \t [0.49773572 4.4205419 ]\t 58.56733863958961\t 7.990765314336182\t 3.211634590909033\t 3.381355332227826\n",
            "19 \t [-2.7736841  -4.66490718]\t 53.067485860563444\t 7.990765314336182\t 3.052601563254726\t 3.2470424713518615\n",
            "20 \t [3.51448944 1.11222113]\t 35.93183159046182\t 7.990765314336182\t 2.4238969865057096\t 2.5664532704602223\n"
          ]
        }
      ],
      "source": [
        "### EXACT STP EI GRADIENTS\n",
        "\n",
        "np.random.seed(run_num_15)\n",
        "surrogate_stp_15 = dtStudentProcess(cov_func, optimize=opt, nu = df)\n",
        "\n",
        "stp_15 = dGPGO_stp(surrogate_stp_15, Acquisition_grad(util_stp), objfunc, param)\n",
        "stp_15.run(init_evals=n_init, max_iter=iters)\n"
      ]
    },
    {
      "cell_type": "code",
      "execution_count": 49,
      "metadata": {
        "id": "lu8ki9XIQPPN",
        "colab": {
          "base_uri": "https://localhost:8080/"
        },
        "outputId": "3820189f-e029-4204-e3ec-16e7167a664f"
      },
      "outputs": [
        {
          "output_type": "stream",
          "name": "stdout",
          "text": [
            "Evaluation \t Proposed point \t  Current eval. \t  Best eval. \t        Exact EI: StdDev. x \t Approx EI: StdDev. x \n",
            "init\t [-2.83349935  0.23719262]\t 22.27210456874814\t 22.27210456874814\t    \t    \n",
            "init\t [ 0.51918292 -4.65303603]\t 57.57021076017139\t 22.27210456874814\t    \t    \n",
            "init\t [-1.42613673 -2.83565116]\t 33.89145899403749\t 22.27210456874814\t    \t    \n",
            "init\t [ 1.9325559  -3.44339021]\t 35.85029586225333\t 22.27210456874814\t    \t    \n",
            "init\t [-4.39987336  4.51595121]\t 77.78800881964571\t 22.27210456874814\t    \t    \n",
            "1  \t [2.142749   4.83374619]\t 36.69381850109535\t 22.27210456874814\t 3.6660766989171574\t 4.0201580891181985\n",
            "2  \t [4.5921165  0.66584749]\t 54.94667333340431\t 22.27210456874814\t 3.631396290559891\t 3.7835870651067225\n",
            "3  \t [-5.12 -5.12]\t 57.849427451571785\t 22.27210456874814\t 3.313319513075197\t 3.888453022399422\n",
            "4  \t [0.71913965 0.71913965]\t 24.8880941829524\t 22.27210456874814\t 2.694311881154959\t 3.802366357713522\n",
            "5  \t [-5.12       -1.66043296]\t 47.017030730991706\t 22.27210456874814\t 2.8824763681667287\t 3.753991716051984\n",
            "6  \t [5.12 5.12]\t 57.849427451571785\t 22.27210456874814\t 3.4815674646878185\t 4.2286939524309055\n",
            "7  \t [ 4.61353471 -4.56408508]\t 78.87747696873812\t 22.27210456874814\t 2.754012123918453\t 3.720971767199504\n",
            "8  \t [-1.19298762  4.24119373]\t 35.351839968589054\t 22.27210456874814\t 2.341823764235312\t 2.932810915083019\n",
            "9  \t [-2.42748763 -5.12      ]\t 53.797343836162256\t 22.27210456874814\t 2.9226778407628\t 3.3157829723526437\n",
            "10 \t [-5.12        1.45960057]\t 50.73470731622977\t 22.27210456874814\t 2.8293664177298785\t 3.335682177521883\n",
            "11 \t [ 4.02137461 -1.821725  ]\t 25.224572961167596\t 22.27210456874814\t 2.8898114987654187\t 2.5532768440971316\n",
            "\u001b[1m\u001b[92m12\u001b[0m\t \u001b[1m\u001b[92m[2.05765959 2.16275513]\u001b[0m\t \u001b[1m\u001b[92m14.349270433964154\u001b[0m\t \u001b[1m\u001b[92m14.349270433964154\u001b[0m\t \u001b[1m\u001b[92m3.0533728357486387\u001b[0m\t \u001b[1m\u001b[92m2.9055851504763934\u001b[0m\n",
            "13 \t [-1.63604376  1.97954643]\t 23.241491886947767\t 14.349270433964154\t 2.277473000182012\t 2.329814332025778\n",
            "14 \t [ 0.65506047 -1.42395158]\t 36.95439913440114\t 14.349270433964154\t 2.57334785853891\t 2.449684839375482\n",
            "15 \t [ 2.45248349 -0.15686301]\t 30.073270467014733\t 14.349270433964154\t 2.600247955790797\t 2.9184691300998438\n",
            "16 \t [5.12       2.69050978]\t 49.81500201535727\t 14.349270433964154\t 2.9798450082590784\t 2.7097083265550923\n",
            "17 \t [0.19792573 3.35045029]\t 33.9515549364285\t 14.349270433964154\t 3.0006890936982247\t 2.9472300429174423\n",
            "\u001b[1m\u001b[92m18\u001b[0m\t \u001b[1m\u001b[92m[-0.72934326 -0.044859  ]\u001b[0m\t \u001b[1m\u001b[92m12.222809246666476\u001b[0m\t \u001b[1m\u001b[92m12.222809246666476\u001b[0m\t \u001b[1m\u001b[92m2.929597349319251\u001b[0m\t \u001b[1m\u001b[92m3.3165495046160314\u001b[0m\n",
            "19 \t [-3.48255915  2.66744441]\t 54.141114751526736\t 12.222809246666476\t 2.8398758466276006\t 3.260345509952411\n",
            "20 \t [-3.56710061 -3.17542403]\t 47.415704835327915\t 12.222809246666476\t 3.0528944718548927\t 3.191838622313362\n"
          ]
        }
      ],
      "source": [
        "### EXACT STP EI GRADIENTS\n",
        "\n",
        "np.random.seed(run_num_16)\n",
        "surrogate_stp_16 = dtStudentProcess(cov_func, optimize=opt, nu = df)\n",
        "\n",
        "stp_16 = dGPGO_stp(surrogate_stp_16, Acquisition_grad(util_stp), objfunc, param)\n",
        "stp_16.run(init_evals=n_init, max_iter=iters)\n"
      ]
    },
    {
      "cell_type": "code",
      "execution_count": 50,
      "metadata": {
        "id": "yU2SflSsJTUs",
        "colab": {
          "base_uri": "https://localhost:8080/"
        },
        "outputId": "2d75c686-6605-4785-c62d-ee8a6b37ffc8"
      },
      "outputs": [
        {
          "output_type": "stream",
          "name": "stdout",
          "text": [
            "Evaluation \t Proposed point \t  Current eval. \t  Best eval. \t        Exact EI: StdDev. x \t Approx EI: StdDev. x \n",
            "init\t [-2.10263037  0.31320838]\t 20.395145364684023\t 20.395145364684023\t    \t    \n",
            "init\t [-3.15882714 -4.42470033]\t 53.03732051200137\t 20.395145364684023\t    \t    \n",
            "init\t [2.93873111 1.60085526]\t 29.989224812583537\t 20.395145364684023\t    \t    \n",
            "init\t [1.40821398 0.77417363]\t 29.451989415882437\t 20.395145364684023\t    \t    \n",
            "init\t [-4.71999574 -1.45598869]\t 55.89242173757483\t 20.395145364684023\t    \t    \n",
            "1  \t [ 4.96008736 -4.44720822]\t 64.14783177084814\t 20.395145364684023\t 3.315476681130734\t 4.599696523929133\n",
            "2  \t [-1.95646705  4.77829278]\t 35.26326039091227\t 20.395145364684023\t 3.3628610575978883\t 3.614133676716341\n",
            "3  \t [4.67136791 4.9849391 ]\t 61.45808001353926\t 20.395145364684023\t 2.923773318993859\t 3.68720013916326\n",
            "4  \t [ 0.86616148 -3.39433268]\t 33.47982869959352\t 20.395145364684023\t 3.42278725032201\t 3.892172609019921\n",
            "5  \t [-4.60668397  2.49125822]\t 65.24908325796068\t 20.395145364684023\t 3.2315576109514472\t 3.837210214095967\n",
            "6  \t [4.91645404 0.10149751]\t 27.49374856151171\t 20.395145364684023\t 3.105650995574145\t 3.395550550783925\n",
            "7  \t [0.55085531 4.38796086]\t 56.67429692749358\t 20.395145364684023\t 2.9222616258288987\t 3.454944682250789\n",
            "8  \t [ 3.60111668 -2.30832496]\t 49.92832426627978\t 20.395145364684023\t 3.2534540838211212\t 3.3112984143304773\n",
            "9  \t [-0.59171669 -5.12      ]\t 47.65983594184368\t 20.395145364684023\t 3.651262235053032\t 4.051090744066082\n",
            "\u001b[1m\u001b[92m10\u001b[0m\t \u001b[1m\u001b[92m[-2.05087423 -2.02405809]\u001b[0m\t \u001b[1m\u001b[92m8.923480296799378\u001b[0m\t \u001b[1m\u001b[92m8.923480296799378\u001b[0m\t \u001b[1m\u001b[92m3.0489715109187188\u001b[0m\t \u001b[1m\u001b[92m3.2254073739922022\u001b[0m\n",
            "11 \t [5.12       2.44010711]\t 54.17907651054088\t 8.923480296799378\t 3.2921281925626755\t 3.674002745477852\n",
            "12 \t [-1.16401336  2.22932302]\t 19.88561099161925\t 8.923480296799378\t 2.9192887838712034\t 3.3303327652258634\n",
            "13 \t [-0.16627661 -1.25984735]\t 17.21198604707432\t 8.923480296799378\t 2.2247955177239023\t 2.6616197793849405\n",
            "14 \t [-5.12 -5.12]\t 57.849427451571785\t 8.923480296799378\t 2.692778326727776\t 3.5519059692034953\n",
            "15 \t [2.53082164 5.12      ]\t 55.14283996388126\t 8.923480296799378\t 2.5345217668082594\t 3.0272039161481468\n",
            "16 \t [-3.89034103  4.57612498]\t 57.23465297851018\t 8.923480296799378\t 2.3797402764992692\t 2.8018864031685613\n",
            "17 \t [ 2.2982492  -5.09587095]\t 45.9952902802015\t 8.923480296799378\t 2.577330234764141\t 2.700401914046687\n",
            "18 \t [-0.31114611  0.2860467 ]\t 26.172306389574015\t 8.923480296799378\t 2.587697557398052\t 2.5161769355931027\n",
            "19 \t [-3.76020392  0.38653523]\t 41.21240288694055\t 8.923480296799378\t 2.7365150298310335\t 2.800668044030021\n",
            "20 \t [ 1.77255842 -1.35649476]\t 29.77240460300812\t 8.923480296799378\t 2.6566168601575266\t 2.8261825212074347\n"
          ]
        }
      ],
      "source": [
        "### EXACT STP EI GRADIENTS\n",
        "\n",
        "np.random.seed(run_num_17)\n",
        "surrogate_stp_17 = dtStudentProcess(cov_func, optimize=opt, nu = df)\n",
        "\n",
        "stp_17 = dGPGO_stp(surrogate_stp_17, Acquisition_grad(util_stp), objfunc, param)\n",
        "stp_17.run(init_evals=n_init, max_iter=iters)\n"
      ]
    },
    {
      "cell_type": "code",
      "execution_count": 51,
      "metadata": {
        "id": "eVEhyZ9BQS-1",
        "colab": {
          "base_uri": "https://localhost:8080/"
        },
        "outputId": "8027ae36-a2da-4690-ac82-61ba9ee60c7b"
      },
      "outputs": [
        {
          "output_type": "stream",
          "name": "stdout",
          "text": [
            "Evaluation \t Proposed point \t  Current eval. \t  Best eval. \t        Exact EI: StdDev. x \t Approx EI: StdDev. x \n",
            "init\t [1.53983224 0.05584255]\t 22.67190580753611\t 22.67190580753611\t    \t    \n",
            "init\t [ 3.87687906 -3.25795609]\t 38.990099416711985\t 22.67190580753611\t    \t    \n",
            "init\t [3.60686662 2.56139557]\t 56.66448698782129\t 22.67190580753611\t    \t    \n",
            "init\t [1.70088108 4.99604939]\t 40.894059318256296\t 22.67190580753611\t    \t    \n",
            "init\t [-2.48864335 -4.83014733]\t 54.6725749848372\t 22.67190580753611\t    \t    \n",
            "1  \t [-5.00718904  2.9174042 ]\t 34.91005808676357\t 22.67190580753611\t 3.00450163515948\t 3.858257995709437\n",
            "2  \t [-5.12       -1.55738046]\t 50.70724027251626\t 22.67190580753611\t 2.9707100640013104\t 2.982795831549052\n",
            "\u001b[1m\u001b[92m3\u001b[0m\t \u001b[1m\u001b[92m[-1.81759401  0.24145562]\u001b[0m\t \u001b[1m\u001b[92m18.70482086608838\u001b[0m\t \u001b[1m\u001b[92m18.70482086608838\u001b[0m\t \u001b[1m\u001b[92m4.047526546871867\u001b[0m\t \u001b[1m\u001b[92m3.3726401973858477\u001b[0m\n",
            "4  \t [ 0.75882502 -4.72833594]\t 43.73576125514902\t 18.70482086608838\t 3.259803455450866\t 3.857405809461955\n",
            "5  \t [5.12 5.12]\t 57.849427451571785\t 18.70482086608838\t 3.113966219878506\t 3.6808696822897735\n",
            "6  \t [-0.44565189  2.5682286 ]\t 45.31210533042651\t 18.70482086608838\t 3.0655318917628187\t 3.899996744793388\n",
            "7  \t [-0.52386066 -2.10880612]\t 26.856591448850757\t 18.70482086608838\t 3.1674245826866794\t 3.3896051821068487\n",
            "8  \t [-5.12 -5.12]\t 57.849427451571785\t 18.70482086608838\t 2.7073247202131774\t 3.843952870801121\n",
            "9  \t [-2.05931647  4.63332738]\t 43.086601890136585\t 18.70482086608838\t 3.0369249513731438\t 3.7761220939293763\n",
            "10 \t [ 4.43190373 -0.77925808]\t 47.51956296061641\t 18.70482086608838\t 3.125649167627795\t 3.6477995763210824\n",
            "11 \t [-3.61386316  0.31212835]\t 44.51083729504226\t 18.70482086608838\t 2.795610073279533\t 3.455139435715692\n",
            "12 \t [ 1.44237584 -2.33702028]\t 42.093053717864954\t 18.70482086608838\t 2.7250732645752946\t 3.2308176659150702\n",
            "13 \t [-2.79723562 -2.28842233]\t 32.52764644403537\t 18.70482086608838\t 3.1562178325689683\t 3.3891810532318476\n",
            "14 \t [5.12       1.23641579]\t 39.60095236396026\t 18.70482086608838\t 2.535693742369646\t 2.992396743945113\n",
            "15 \t [-4.93311462  4.65004427]\t 62.70427715056073\t 18.70482086608838\t 2.8841924224389\t 3.09127521158989\n",
            "16 \t [ 2.77551171 -4.79135553]\t 46.4951582158133\t 18.70482086608838\t 2.3805219585468125\t 2.8885039137586204\n",
            "\u001b[1m\u001b[92m17\u001b[0m\t \u001b[1m\u001b[92m[-0.18574797 -0.01860645]\u001b[0m\t \u001b[1m\u001b[92m6.174803446820171\u001b[0m\t \u001b[1m\u001b[92m6.174803446820171\u001b[0m\t \u001b[1m\u001b[92m3.0294015689659584\u001b[0m\t \u001b[1m\u001b[92m3.197805183544832\u001b[0m\n",
            "18 \t [-0.962992   -3.90508349]\t 18.17240800786027\t 6.174803446820171\t 3.0496915273538123\t 3.6153009076986486\n",
            "19 \t [-2.75369625  2.33684616]\t 38.00138510482638\t 6.174803446820171\t 2.286154874358856\t 2.9951502015761626\n",
            "20 \t [1.51756245 2.05050445]\t 26.946019647003226\t 6.174803446820171\t 2.497716862107415\t 3.1143430576465048\n"
          ]
        }
      ],
      "source": [
        "### EXACT STP EI GRADIENTS\n",
        "\n",
        "np.random.seed(run_num_18)\n",
        "surrogate_stp_18 = dtStudentProcess(cov_func, optimize=opt, nu = df)\n",
        "\n",
        "stp_18 = dGPGO_stp(surrogate_stp_18, Acquisition_grad(util_stp), objfunc, param)\n",
        "stp_18.run(init_evals=n_init, max_iter=iters)\n"
      ]
    },
    {
      "cell_type": "code",
      "execution_count": 52,
      "metadata": {
        "id": "B6gTz1ojQUxn",
        "colab": {
          "base_uri": "https://localhost:8080/"
        },
        "outputId": "3ee305a6-62d7-4b65-ec6e-8749b6060c70"
      },
      "outputs": [
        {
          "output_type": "stream",
          "name": "stdout",
          "text": [
            "Evaluation \t Proposed point \t  Current eval. \t  Best eval. \t        Exact EI: StdDev. x \t Approx EI: StdDev. x \n",
            "init\t [-4.12125592  2.6751971 ]\t 41.43485596167127\t 25.867003842388073\t    \t    \n",
            "init\t [-2.59135515 -3.70553152]\t 51.60126035043229\t 25.867003842388073\t    \t    \n",
            "init\t [-1.72598719 -4.27008445]\t 43.97430127029199\t 25.867003842388073\t    \t    \n",
            "init\t [1.76104531 3.13952049]\t 25.867003842388073\t 25.867003842388073\t    \t    \n",
            "init\t [4.9432772  1.38916592]\t 44.66580306903559\t 25.867003842388073\t    \t    \n",
            "1  \t [ 4.82682643 -3.73084389]\t 53.77630571268805\t 25.867003842388073\t 3.1819817603290925\t 4.721091043993306\n",
            "\u001b[1m\u001b[92m2\u001b[0m\t \u001b[1m\u001b[92m[-0.05107128 -0.29851312]\u001b[0m\t \u001b[1m\u001b[92m13.603354132536392\u001b[0m\t \u001b[1m\u001b[92m13.603354132536392\u001b[0m\t \u001b[1m\u001b[92m3.553386660475723\u001b[0m\t \u001b[1m\u001b[92m3.8340618691117885\u001b[0m\n",
            "3  \t [5.12 5.12]\t 57.849427451571785\t 13.603354132536392\t 3.9567367320747215\t 4.359555242982022\n",
            "4  \t [-4.9431446  -0.94431705]\t 26.563547885069152\t 13.603354132536392\t 3.276077901306654\t 3.75331300891261\n",
            "5  \t [-1.02706361  4.62573165]\t 39.63496959139912\t 13.603354132536392\t 2.753543428176987\t 3.2430350236397074\n",
            "6  \t [ 1.41477757 -4.35915666]\t 55.93746180890577\t 13.603354132536392\t 3.29327076170689\t 3.1494167126511177\n",
            "7  \t [-5.12 -5.12]\t 57.849427451571785\t 13.603354132536392\t 3.6127794177927317\t 3.492988216163402\n",
            "8  \t [ 1.89030058 -1.26754267]\t 18.562751215537762\t 13.603354132536392\t 2.5844480028642023\t 3.0508366737831896\n",
            "9  \t [-2.44803879  0.33347075]\t 40.58333708995916\t 13.603354132536392\t 2.7278163204778143\t 3.2045434761491722\n",
            "10 \t [2.01888911 5.12      ]\t 33.07097351379838\t 13.603354132536392\t 3.386346263457391\t 3.3587618223088076\n",
            "11 \t [-0.27475955  1.75757089]\t 24.23845567702155\t 13.603354132536392\t 2.6680948490010037\t 2.9944265292679795\n",
            "12 \t [2.62218377 0.56830966]\t 43.4868797886789\t 13.603354132536392\t 2.695463844584177\t 3.1207892080029915\n",
            "13 \t [-1.14637336 -1.67922353]\t 22.375189401081542\t 13.603354132536392\t 3.2102272318188603\t 3.6660709000916514\n",
            "14 \t [ 5.07184042 -1.53635258]\t 48.825790204427676\t 13.603354132536392\t 2.6983567454900768\t 3.7288328887291002\n",
            "15 \t [-5.06912679  0.86499436]\t 30.759913909039717\t 13.603354132536392\t 3.0050644784140252\t 3.382805503556145\n",
            "16 \t [3.73414075 2.9787585 ]\t 33.90055883051038\t 13.603354132536392\t 2.666046647094024\t 3.277521651120359\n",
            "17 \t [-5.12       -2.75525954]\t 46.18576246964043\t 13.603354132536392\t 2.7065303906996516\t 3.8266228448668484\n",
            "18 \t [ 2.80171599 -2.69583609]\t 35.2625199283825\t 13.603354132536392\t 2.814211065256982\t 3.2616867644995016\n",
            "19 \t [ 0.18179184 -1.66550956]\t 23.714145101056438\t 13.603354132536392\t 2.3328595896383217\t 3.1743445148712937\n",
            "20 \t [-1.78118698  2.44777343]\t 36.68360722521121\t 13.603354132536392\t 2.6299531156944846\t 3.9076936521502303\n"
          ]
        }
      ],
      "source": [
        "### EXACT STP EI GRADIENTS\n",
        "\n",
        "np.random.seed(run_num_19)\n",
        "surrogate_stp_19 = dtStudentProcess(cov_func, optimize=opt, nu = df)\n",
        "\n",
        "stp_19 = dGPGO_stp(surrogate_stp_19, Acquisition_grad(util_stp), objfunc, param)\n",
        "stp_19.run(init_evals=n_init, max_iter=iters)\n"
      ]
    },
    {
      "cell_type": "code",
      "execution_count": 53,
      "metadata": {
        "id": "aw3xvSryIwDi",
        "colab": {
          "base_uri": "https://localhost:8080/"
        },
        "outputId": "6f22bd42-5734-4d7e-8c23-972bad06e8ae"
      },
      "outputs": [
        {
          "output_type": "stream",
          "name": "stdout",
          "text": [
            "Evaluation \t Proposed point \t  Current eval. \t  Best eval. \t        Exact EI: StdDev. x \t Approx EI: StdDev. x \n",
            "init\t [0.9024594  4.07258857]\t 20.24255447774017\t 17.388691338534382\t    \t    \n",
            "init\t [4.00927467 3.23417577]\t 35.55852254546393\t 17.388691338534382\t    \t    \n",
            "init\t [-4.75249064  1.96359764]\t 36.54582989269194\t 17.388691338534382\t    \t    \n",
            "init\t [-1.24230715  0.18955208]\t 17.388691338534382\t 17.388691338534382\t    \t    \n",
            "init\t [ 1.61742301 -3.13497377]\t 33.22932870179905\t 17.388691338534382\t    \t    \n",
            "1  \t [-5.12 -5.12]\t 57.849427451571785\t 17.388691338534382\t 3.143128910720323\t 3.8333158726702288\n",
            "2  \t [-1.37237114 -5.12      ]\t 47.761427444187845\t 17.388691338534382\t 2.8145574531702207\t 3.780945254642499\n",
            "3  \t [ 4.91315823 -0.57399286]\t 44.8592687455342\t 17.388691338534382\t 2.816603608066439\t 3.352972453150892\n",
            "4  \t [-2.37472126  4.83460371]\t 51.00240059573831\t 17.388691338534382\t 3.3034009425241595\t 3.807303426574061\n",
            "5  \t [-5.12       -1.50848283]\t 51.18603351747455\t 17.388691338534382\t 2.6795791440486934\t 3.7363977456411734\n",
            "6  \t [ 4.14636433 -4.97978639]\t 46.01004219435855\t 17.388691338534382\t 3.1483613060455333\t 3.6728642602665467\n",
            "7  \t [-1.92941744 -2.36204486]\t 26.741990705825554\t 17.388691338534382\t 3.491632862929213\t 3.253535284753764\n",
            "8  \t [1.58129154 0.5962237 ]\t 39.80699453759614\t 17.388691338534382\t 2.8276319898201936\t 3.011292454222695\n",
            "9  \t [5.12 5.12]\t 57.849427451571785\t 17.388691338534382\t 2.8100322276406837\t 4.045496306349839\n",
            "\u001b[1m\u001b[92m10\u001b[0m\t \u001b[1m\u001b[92m[-3.10895726  0.1380235 ]\u001b[0m\t \u001b[1m\u001b[92m15.468502821316422\u001b[0m\t \u001b[1m\u001b[92m15.468502821316422\u001b[0m\t \u001b[1m\u001b[92m2.961252485332522\u001b[0m\t \u001b[1m\u001b[92m3.248286852391914\u001b[0m\n",
            "11 \t [-1.41889678  2.32841608]\t 40.89434095446834\t 15.468502821316422\t 2.94755039497228\t 2.995462798108394\n",
            "12 \t [-4.59776113  4.22156972]\t 65.35626794167274\t 15.468502821316422\t 2.856822311687162\t 3.5722541822499494\n",
            "13 \t [2.35698225 5.12      ]\t 50.70708433650039\t 15.468502821316422\t 3.3383003209261926\t 3.94101250978499\n",
            "14 \t [ 0.03778829 -1.58729307]\t 21.334660417138927\t 15.468502821316422\t 3.0486239125575425\t 3.131823406149334\n",
            "15 \t [ 1.29149036 -5.12      ]\t 43.170149535874984\t 15.468502821316422\t 2.776904904941055\t 3.5078381818398623\n",
            "16 \t [ 2.85674485 -1.51187733]\t 34.20360409766252\t 15.468502821316422\t 2.796051482362103\t 3.160922327645108\n",
            "17 \t [4.68575781 1.21363517]\t 45.09193137331863\t 15.468502821316422\t 2.807550751673129\t 2.7505537804862255\n",
            "18 \t [-3.43160426 -3.57014916]\t 62.65687691828438\t 15.468502821316422\t 3.2464364300152213\t 3.4521896642543957\n",
            "19 \t [-0.25131013  5.11327516]\t 38.71871815163034\t 15.468502821316422\t 2.665359216660785\t 3.1411051369638345\n",
            "20 \t [2.42896085 2.2008777 ]\t 36.72631681852833\t 15.468502821316422\t 2.4135068377058073\t 2.829977517373665\n"
          ]
        }
      ],
      "source": [
        "### EXACT STP EI GRADIENTS\n",
        "\n",
        "np.random.seed(run_num_20)\n",
        "surrogate_stp_20 = dtStudentProcess(cov_func, optimize=opt, nu = df)\n",
        "\n",
        "stp_20 = dGPGO_stp(surrogate_stp_20, Acquisition_grad(util_stp), objfunc, param)\n",
        "stp_20.run(init_evals=n_init, max_iter=iters)\n"
      ]
    },
    {
      "cell_type": "code",
      "execution_count": 54,
      "metadata": {
        "id": "5c8szjivRPme",
        "colab": {
          "base_uri": "https://localhost:8080/"
        },
        "outputId": "81e3a0cd-baa5-423b-94e6-8e4331d2a11a"
      },
      "outputs": [
        {
          "output_type": "execute_result",
          "data": {
            "text/plain": [
              "1365.3315243721008"
            ]
          },
          "metadata": {},
          "execution_count": 54
        }
      ],
      "source": [
        "end_stp = time.time()\n",
        "end_stp\n",
        "\n",
        "time_stp = end_stp - start_stp\n",
        "time_stp\n"
      ]
    },
    {
      "cell_type": "code",
      "execution_count": 55,
      "metadata": {
        "id": "f6gCKnp6RR8c",
        "colab": {
          "base_uri": "https://localhost:8080/"
        },
        "outputId": "d7ac7101-1a25-461f-9fe0-469d0c99ca66"
      },
      "outputs": [
        {
          "output_type": "execute_result",
          "data": {
            "text/plain": [
              "(2.9911419163163977, 0.270932813777644)"
            ]
          },
          "metadata": {},
          "execution_count": 55
        }
      ],
      "source": [
        "### Simple regret minimisation: run number = 1\n",
        "\n",
        "gp_output_1 = np.append(np.min(-gp_1.GP.y[0:n_init]),-gp_1.GP.y[n_init:(n_init+iters)]) \n",
        "stp_output_1 = np.append(np.min(-stp_1.GP.y[0:n_init]),-stp_1.GP.y[n_init:(n_init+iters)]) \n",
        "\n",
        "regret_gp_1 = np.log(gp_output_1 - y_global_orig)\n",
        "regret_stp_1 = np.log(stp_output_1 - y_global_orig)\n",
        "\n",
        "simple_regret_gp_1 = min_max_array(regret_gp_1)\n",
        "simple_regret_stp_1 = min_max_array(regret_stp_1)\n",
        "\n",
        "min_simple_regret_gp_1 = min(simple_regret_gp_1)\n",
        "min_simple_regret_stp_1 = min(simple_regret_stp_1)\n",
        "\n",
        "min_simple_regret_gp_1, min_simple_regret_stp_1\n"
      ]
    },
    {
      "cell_type": "code",
      "execution_count": 56,
      "metadata": {
        "id": "94yBw5tqQxfk",
        "colab": {
          "base_uri": "https://localhost:8080/"
        },
        "outputId": "394b4c02-1477-41b3-b8d7-2edd2bffe5d5"
      },
      "outputs": [
        {
          "output_type": "execute_result",
          "data": {
            "text/plain": [
              "(2.9425708889884663, 2.9425708889884663)"
            ]
          },
          "metadata": {},
          "execution_count": 56
        }
      ],
      "source": [
        "### Simple regret minimisation: run number = 2\n",
        "\n",
        "gp_output_2 = np.append(np.min(-gp_2.GP.y[0:n_init]),-gp_2.GP.y[n_init:(n_init+iters)]) \n",
        "stp_output_2 = np.append(np.min(-stp_2.GP.y[0:n_init]),-stp_2.GP.y[n_init:(n_init+iters)]) \n",
        "\n",
        "regret_gp_2 = np.log(gp_output_2 - y_global_orig)\n",
        "regret_stp_2 = np.log(stp_output_2 - y_global_orig)\n",
        "\n",
        "simple_regret_gp_2 = min_max_array(regret_gp_2)\n",
        "simple_regret_stp_2 = min_max_array(regret_stp_2)\n",
        "\n",
        "min_simple_regret_gp_2 = min(simple_regret_gp_2)\n",
        "min_simple_regret_stp_2 = min(simple_regret_stp_2)\n",
        "\n",
        "min_simple_regret_gp_2, min_simple_regret_stp_2\n"
      ]
    },
    {
      "cell_type": "code",
      "execution_count": 57,
      "metadata": {
        "id": "Bu6SBWALQxfl",
        "colab": {
          "base_uri": "https://localhost:8080/"
        },
        "outputId": "a58e96cd-7032-4066-bafe-1bb72d0d8404"
      },
      "outputs": [
        {
          "output_type": "execute_result",
          "data": {
            "text/plain": [
              "(2.361576630127625, 2.361576630127625)"
            ]
          },
          "metadata": {},
          "execution_count": 57
        }
      ],
      "source": [
        "### Simple regret minimisation: run number = 3\n",
        "\n",
        "gp_output_3 = np.append(np.min(-gp_3.GP.y[0:n_init]),-gp_3.GP.y[n_init:(n_init+iters)]) \n",
        "stp_output_3 = np.append(np.min(-stp_3.GP.y[0:n_init]),-stp_3.GP.y[n_init:(n_init+iters)]) \n",
        "\n",
        "regret_gp_3 = np.log(gp_output_3 - y_global_orig)\n",
        "regret_stp_3 = np.log(stp_output_3 - y_global_orig)\n",
        "\n",
        "simple_regret_gp_3 = min_max_array(regret_gp_3)\n",
        "simple_regret_stp_3 = min_max_array(regret_stp_3)\n",
        "\n",
        "min_simple_regret_gp_3 = min(simple_regret_gp_3)\n",
        "min_simple_regret_stp_3 = min(simple_regret_stp_3)\n",
        "\n",
        "min_simple_regret_gp_3, min_simple_regret_stp_3"
      ]
    },
    {
      "cell_type": "code",
      "execution_count": 58,
      "metadata": {
        "id": "AZm0jgxkQxfm",
        "colab": {
          "base_uri": "https://localhost:8080/"
        },
        "outputId": "2f7aa358-ab0f-4cac-ea29-6881982d01e9"
      },
      "outputs": [
        {
          "output_type": "execute_result",
          "data": {
            "text/plain": [
              "(2.6488079738442334, 1.5986801068115295)"
            ]
          },
          "metadata": {},
          "execution_count": 58
        }
      ],
      "source": [
        "### Simple regret minimisation: run number = 4\n",
        "\n",
        "gp_output_4 = np.append(np.min(-gp_4.GP.y[0:n_init]),-gp_4.GP.y[n_init:(n_init+iters)]) \n",
        "stp_output_4 = np.append(np.min(-stp_4.GP.y[0:n_init]),-stp_4.GP.y[n_init:(n_init+iters)]) \n",
        "\n",
        "regret_gp_4 = np.log(gp_output_4 - y_global_orig)\n",
        "regret_stp_4 = np.log(stp_output_4 - y_global_orig)\n",
        "\n",
        "simple_regret_gp_4 = min_max_array(regret_gp_4)\n",
        "simple_regret_stp_4 = min_max_array(regret_stp_4)\n",
        "\n",
        "min_simple_regret_gp_4 = min(simple_regret_gp_4)\n",
        "min_simple_regret_stp_4 = min(simple_regret_stp_4)\n",
        "\n",
        "min_simple_regret_gp_4, min_simple_regret_stp_4"
      ]
    },
    {
      "cell_type": "code",
      "execution_count": 59,
      "metadata": {
        "id": "NONPm8JIQxfn",
        "colab": {
          "base_uri": "https://localhost:8080/"
        },
        "outputId": "4c79557a-67b9-4e1b-cf24-51aca5382d49"
      },
      "outputs": [
        {
          "output_type": "execute_result",
          "data": {
            "text/plain": [
              "(1.8954626597772544, 2.05551541920764)"
            ]
          },
          "metadata": {},
          "execution_count": 59
        }
      ],
      "source": [
        "### Simple regret minimisation: run number = 5\n",
        "\n",
        "gp_output_5 = np.append(np.min(-gp_5.GP.y[0:n_init]),-gp_5.GP.y[n_init:(n_init+iters)]) \n",
        "stp_output_5 = np.append(np.min(-stp_5.GP.y[0:n_init]),-stp_5.GP.y[n_init:(n_init+iters)]) \n",
        "\n",
        "regret_gp_5 = np.log(gp_output_5 - y_global_orig)\n",
        "regret_stp_5 = np.log(stp_output_5 - y_global_orig)\n",
        "\n",
        "simple_regret_gp_5 = min_max_array(regret_gp_5)\n",
        "simple_regret_stp_5 = min_max_array(regret_stp_5)\n",
        "\n",
        "min_simple_regret_gp_5 = min(simple_regret_gp_5)\n",
        "min_simple_regret_stp_5 = min(simple_regret_stp_5)\n",
        "\n",
        "min_simple_regret_gp_5, min_simple_regret_stp_5"
      ]
    },
    {
      "cell_type": "code",
      "execution_count": 60,
      "metadata": {
        "id": "CJv3lPuSQxfp",
        "colab": {
          "base_uri": "https://localhost:8080/"
        },
        "outputId": "9ab0993f-cc52-465c-c758-42833ddc84c0"
      },
      "outputs": [
        {
          "output_type": "execute_result",
          "data": {
            "text/plain": [
              "(2.0031187980196936, 2.0954780809846123)"
            ]
          },
          "metadata": {},
          "execution_count": 60
        }
      ],
      "source": [
        "### Simple regret minimisation: run number = 6\n",
        "\n",
        "gp_output_6 = np.append(np.min(-gp_6.GP.y[0:n_init]),-gp_6.GP.y[n_init:(n_init+iters)]) \n",
        "stp_output_6 = np.append(np.min(-stp_6.GP.y[0:n_init]),-stp_6.GP.y[n_init:(n_init+iters)]) \n",
        "\n",
        "regret_gp_6 = np.log(gp_output_6 - y_global_orig)\n",
        "regret_stp_6 = np.log(stp_output_6 - y_global_orig)\n",
        "\n",
        "simple_regret_gp_6 = min_max_array(regret_gp_6)\n",
        "simple_regret_stp_6 = min_max_array(regret_stp_6)\n",
        "\n",
        "min_simple_regret_gp_6 = min(simple_regret_gp_6)\n",
        "min_simple_regret_stp_6 = min(simple_regret_stp_6)\n",
        "\n",
        "min_simple_regret_gp_6, min_simple_regret_stp_6"
      ]
    },
    {
      "cell_type": "code",
      "execution_count": 61,
      "metadata": {
        "id": "quR2ZyApQxfq",
        "colab": {
          "base_uri": "https://localhost:8080/"
        },
        "outputId": "87658512-e247-4962-86b3-a871103774de"
      },
      "outputs": [
        {
          "output_type": "execute_result",
          "data": {
            "text/plain": [
              "(2.9716494999912664, 2.357350877944353)"
            ]
          },
          "metadata": {},
          "execution_count": 61
        }
      ],
      "source": [
        "### Simple regret minimisation: run number = 7\n",
        "\n",
        "gp_output_7 = np.append(np.min(-gp_7.GP.y[0:n_init]),-gp_7.GP.y[n_init:(n_init+iters)]) \n",
        "stp_output_7 = np.append(np.min(-stp_7.GP.y[0:n_init]),-stp_7.GP.y[n_init:(n_init+iters)]) \n",
        "\n",
        "regret_gp_7 = np.log(gp_output_7 - y_global_orig)\n",
        "regret_stp_7 = np.log(stp_output_7 - y_global_orig)\n",
        "\n",
        "simple_regret_gp_7 = min_max_array(regret_gp_7)\n",
        "simple_regret_stp_7 = min_max_array(regret_stp_7)\n",
        "\n",
        "min_simple_regret_gp_7 = min(simple_regret_gp_7)\n",
        "min_simple_regret_stp_7 = min(simple_regret_stp_7)\n",
        "\n",
        "min_simple_regret_gp_7, min_simple_regret_stp_7"
      ]
    },
    {
      "cell_type": "code",
      "execution_count": 62,
      "metadata": {
        "id": "99wY5nK6Qxfr",
        "colab": {
          "base_uri": "https://localhost:8080/"
        },
        "outputId": "d01b2a5b-db5b-4398-933c-1fd44d31c6ea"
      },
      "outputs": [
        {
          "output_type": "execute_result",
          "data": {
            "text/plain": [
              "(2.1925571922207507, 2.477760762852301)"
            ]
          },
          "metadata": {},
          "execution_count": 62
        }
      ],
      "source": [
        "### Simple regret minimisation: run number = 8\n",
        "\n",
        "gp_output_8 = np.append(np.min(-gp_8.GP.y[0:n_init]),-gp_8.GP.y[n_init:(n_init+iters)]) \n",
        "stp_output_8 = np.append(np.min(-stp_8.GP.y[0:n_init]),-stp_8.GP.y[n_init:(n_init+iters)]) \n",
        "\n",
        "regret_gp_8 = np.log(gp_output_8 - y_global_orig)\n",
        "regret_stp_8 = np.log(stp_output_8 - y_global_orig)\n",
        "\n",
        "simple_regret_gp_8 = min_max_array(regret_gp_8)\n",
        "simple_regret_stp_8 = min_max_array(regret_stp_8)\n",
        "\n",
        "min_simple_regret_gp_8 = min(simple_regret_gp_8)\n",
        "min_simple_regret_stp_8 = min(simple_regret_stp_8)\n",
        "\n",
        "min_simple_regret_gp_8, min_simple_regret_stp_8"
      ]
    },
    {
      "cell_type": "code",
      "execution_count": 63,
      "metadata": {
        "id": "qt0P5t9qQxfs",
        "colab": {
          "base_uri": "https://localhost:8080/"
        },
        "outputId": "58f12727-a43d-4922-a65e-286d507223b9"
      },
      "outputs": [
        {
          "output_type": "execute_result",
          "data": {
            "text/plain": [
              "(2.226896329775584, 1.493717669753133)"
            ]
          },
          "metadata": {},
          "execution_count": 63
        }
      ],
      "source": [
        "### Simple regret minimisation: run number = 9\n",
        "\n",
        "gp_output_9 = np.append(np.min(-gp_9.GP.y[0:n_init]),-gp_9.GP.y[n_init:(n_init+iters)]) \n",
        "stp_output_9 = np.append(np.min(-stp_9.GP.y[0:n_init]),-stp_9.GP.y[n_init:(n_init+iters)]) \n",
        "\n",
        "regret_gp_9 = np.log(gp_output_9 - y_global_orig)\n",
        "regret_stp_9 = np.log(stp_output_9 - y_global_orig)\n",
        "\n",
        "simple_regret_gp_9 = min_max_array(regret_gp_9)\n",
        "simple_regret_stp_9 = min_max_array(regret_stp_9)\n",
        "\n",
        "min_simple_regret_gp_9 = min(simple_regret_gp_9)\n",
        "min_simple_regret_stp_9 = min(simple_regret_stp_9)\n",
        "\n",
        "min_simple_regret_gp_9, min_simple_regret_stp_9"
      ]
    },
    {
      "cell_type": "code",
      "execution_count": 64,
      "metadata": {
        "id": "vx8to9stQxft",
        "colab": {
          "base_uri": "https://localhost:8080/"
        },
        "outputId": "a86c6f28-8323-43d9-b783-bcad1a7acced"
      },
      "outputs": [
        {
          "output_type": "execute_result",
          "data": {
            "text/plain": [
              "(1.1954175839502463, 1.6425266987200722)"
            ]
          },
          "metadata": {},
          "execution_count": 64
        }
      ],
      "source": [
        "### Simple regret minimisation: run number = 10\n",
        "\n",
        "gp_output_10 = np.append(np.min(-gp_10.GP.y[0:n_init]),-gp_10.GP.y[n_init:(n_init+iters)]) \n",
        "stp_output_10 = np.append(np.min(-stp_10.GP.y[0:n_init]),-stp_10.GP.y[n_init:(n_init+iters)]) \n",
        "\n",
        "regret_gp_10 = np.log(gp_output_10 - y_global_orig)\n",
        "regret_stp_10 = np.log(stp_output_10 - y_global_orig)\n",
        "\n",
        "simple_regret_gp_10 = min_max_array(regret_gp_10)\n",
        "simple_regret_stp_10 = min_max_array(regret_stp_10)\n",
        "\n",
        "min_simple_regret_gp_10 = min(simple_regret_gp_10)\n",
        "min_simple_regret_stp_10 = min(simple_regret_stp_10)\n",
        "\n",
        "min_simple_regret_gp_10, min_simple_regret_stp_10"
      ]
    },
    {
      "cell_type": "code",
      "execution_count": 65,
      "metadata": {
        "id": "d-FGzWyHQxfu",
        "colab": {
          "base_uri": "https://localhost:8080/"
        },
        "outputId": "409bdf79-edd3-48f9-81b3-3cf6a4c32862"
      },
      "outputs": [
        {
          "output_type": "execute_result",
          "data": {
            "text/plain": [
              "(2.3683499168354514, 2.3683499168354514)"
            ]
          },
          "metadata": {},
          "execution_count": 65
        }
      ],
      "source": [
        "### Simple regret minimisation: run number = 11\n",
        "\n",
        "gp_output_11 = np.append(np.min(-gp_11.GP.y[0:n_init]),-gp_11.GP.y[n_init:(n_init+iters)]) \n",
        "stp_output_11 = np.append(np.min(-stp_11.GP.y[0:n_init]),-stp_11.GP.y[n_init:(n_init+iters)]) \n",
        "\n",
        "regret_gp_11 = np.log(gp_output_11 - y_global_orig)\n",
        "regret_stp_11 = np.log(stp_output_11 - y_global_orig)\n",
        "\n",
        "simple_regret_gp_11 = min_max_array(regret_gp_11)\n",
        "simple_regret_stp_11 = min_max_array(regret_stp_11)\n",
        "\n",
        "min_simple_regret_gp_11 = min(simple_regret_gp_11)\n",
        "min_simple_regret_stp_11 = min(simple_regret_stp_11)\n",
        "\n",
        "min_simple_regret_gp_11, min_simple_regret_stp_11"
      ]
    },
    {
      "cell_type": "code",
      "execution_count": 66,
      "metadata": {
        "id": "SvtsssyjQxfv",
        "colab": {
          "base_uri": "https://localhost:8080/"
        },
        "outputId": "09da8551-7e07-4c0a-b48d-13d8492850e0"
      },
      "outputs": [
        {
          "output_type": "execute_result",
          "data": {
            "text/plain": [
              "(3.133243352216147, 2.679656202706227)"
            ]
          },
          "metadata": {},
          "execution_count": 66
        }
      ],
      "source": [
        "### Simple regret minimisation: run number = 12\n",
        "\n",
        "gp_output_12 = np.append(np.min(-gp_12.GP.y[0:n_init]),-gp_12.GP.y[n_init:(n_init+iters)]) \n",
        "stp_output_12 = np.append(np.min(-stp_12.GP.y[0:n_init]),-stp_12.GP.y[n_init:(n_init+iters)]) \n",
        "\n",
        "regret_gp_12 = np.log(gp_output_12 - y_global_orig)\n",
        "regret_stp_12 = np.log(stp_output_12 - y_global_orig)\n",
        "\n",
        "simple_regret_gp_12 = min_max_array(regret_gp_12)\n",
        "simple_regret_stp_12 = min_max_array(regret_stp_12)\n",
        "\n",
        "min_simple_regret_gp_12 = min(simple_regret_gp_12)\n",
        "min_simple_regret_stp_12 = min(simple_regret_stp_12)\n",
        "\n",
        "min_simple_regret_gp_12, min_simple_regret_stp_12"
      ]
    },
    {
      "cell_type": "code",
      "execution_count": 67,
      "metadata": {
        "id": "K6OiGcHkQxfw",
        "colab": {
          "base_uri": "https://localhost:8080/"
        },
        "outputId": "c6601392-bb73-473d-9c06-2d5027f5f124"
      },
      "outputs": [
        {
          "output_type": "execute_result",
          "data": {
            "text/plain": [
              "(1.7819371952409373, 1.7118406464831557)"
            ]
          },
          "metadata": {},
          "execution_count": 67
        }
      ],
      "source": [
        "### Simple regret minimisation: run number = 13\n",
        "\n",
        "gp_output_13 = np.append(np.min(-gp_13.GP.y[0:n_init]),-gp_13.GP.y[n_init:(n_init+iters)]) \n",
        "stp_output_13 = np.append(np.min(-stp_13.GP.y[0:n_init]),-stp_13.GP.y[n_init:(n_init+iters)]) \n",
        "\n",
        "regret_gp_13 = np.log(gp_output_13 - y_global_orig)\n",
        "regret_stp_13 = np.log(stp_output_13 - y_global_orig)\n",
        "\n",
        "simple_regret_gp_13 = min_max_array(regret_gp_13)\n",
        "simple_regret_stp_13 = min_max_array(regret_stp_13)\n",
        "\n",
        "min_simple_regret_gp_13 = min(simple_regret_gp_13)\n",
        "min_simple_regret_stp_13 = min(simple_regret_stp_13)\n",
        "\n",
        "min_simple_regret_gp_13, min_simple_regret_stp_13"
      ]
    },
    {
      "cell_type": "code",
      "execution_count": 68,
      "metadata": {
        "id": "ogML73shQxfx",
        "colab": {
          "base_uri": "https://localhost:8080/"
        },
        "outputId": "515f5882-2783-49bc-b22a-0e1e87798f39"
      },
      "outputs": [
        {
          "output_type": "execute_result",
          "data": {
            "text/plain": [
              "(2.3440953566682032, 2.3440953566682032)"
            ]
          },
          "metadata": {},
          "execution_count": 68
        }
      ],
      "source": [
        "### Simple regret minimisation: run number = 14\n",
        "\n",
        "gp_output_14 = np.append(np.min(-gp_14.GP.y[0:n_init]),-gp_14.GP.y[n_init:(n_init+iters)]) \n",
        "stp_output_14 = np.append(np.min(-stp_14.GP.y[0:n_init]),-stp_14.GP.y[n_init:(n_init+iters)]) \n",
        "\n",
        "regret_gp_14 = np.log(gp_output_14 - y_global_orig)\n",
        "regret_stp_14 = np.log(stp_output_14 - y_global_orig)\n",
        "\n",
        "simple_regret_gp_14 = min_max_array(regret_gp_14)\n",
        "simple_regret_stp_14 = min_max_array(regret_stp_14)\n",
        "\n",
        "min_simple_regret_gp_14 = min(simple_regret_gp_14)\n",
        "min_simple_regret_stp_14 = min(simple_regret_stp_14)\n",
        "\n",
        "min_simple_regret_gp_14, min_simple_regret_stp_14"
      ]
    },
    {
      "cell_type": "code",
      "execution_count": 69,
      "metadata": {
        "id": "9Eg7gFT9Qxfx",
        "colab": {
          "base_uri": "https://localhost:8080/"
        },
        "outputId": "f1b6831f-6361-4a2a-9755-2abe0f6bd82c"
      },
      "outputs": [
        {
          "output_type": "execute_result",
          "data": {
            "text/plain": [
              "(2.078286539213237, 2.078286539213237)"
            ]
          },
          "metadata": {},
          "execution_count": 69
        }
      ],
      "source": [
        "### Simple regret minimisation: run number = 15\n",
        "\n",
        "gp_output_15 = np.append(np.min(-gp_15.GP.y[0:n_init]),-gp_15.GP.y[n_init:(n_init+iters)]) \n",
        "stp_output_15 = np.append(np.min(-stp_15.GP.y[0:n_init]),-stp_15.GP.y[n_init:(n_init+iters)]) \n",
        "\n",
        "regret_gp_15 = np.log(gp_output_15 - y_global_orig)\n",
        "regret_stp_15 = np.log(stp_output_15 - y_global_orig)\n",
        "\n",
        "simple_regret_gp_15 = min_max_array(regret_gp_15)\n",
        "simple_regret_stp_15 = min_max_array(regret_stp_15)\n",
        "\n",
        "min_simple_regret_gp_15 = min(simple_regret_gp_15)\n",
        "min_simple_regret_stp_15 = min(simple_regret_stp_15)\n",
        "\n",
        "min_simple_regret_gp_15, min_simple_regret_stp_15"
      ]
    },
    {
      "cell_type": "code",
      "execution_count": 70,
      "metadata": {
        "id": "lIAC1U7ZQxfy",
        "colab": {
          "base_uri": "https://localhost:8080/"
        },
        "outputId": "054824b1-5bfa-446e-8d40-e5f175bcfaa8"
      },
      "outputs": [
        {
          "output_type": "execute_result",
          "data": {
            "text/plain": [
              "(1.8668773589138925, 2.50330381657554)"
            ]
          },
          "metadata": {},
          "execution_count": 70
        }
      ],
      "source": [
        "### Simple regret minimisation: run number = 16\n",
        "\n",
        "gp_output_16 = np.append(np.min(-gp_16.GP.y[0:n_init]),-gp_16.GP.y[n_init:(n_init+iters)]) \n",
        "stp_output_16 = np.append(np.min(-stp_16.GP.y[0:n_init]),-stp_16.GP.y[n_init:(n_init+iters)]) \n",
        "\n",
        "regret_gp_16 = np.log(gp_output_16 - y_global_orig)\n",
        "regret_stp_16 = np.log(stp_output_16 - y_global_orig)\n",
        "\n",
        "simple_regret_gp_16 = min_max_array(regret_gp_16)\n",
        "simple_regret_stp_16 = min_max_array(regret_stp_16)\n",
        "\n",
        "min_simple_regret_gp_16 = min(simple_regret_gp_16)\n",
        "min_simple_regret_stp_16 = min(simple_regret_stp_16)\n",
        "\n",
        "min_simple_regret_gp_16, min_simple_regret_stp_16"
      ]
    },
    {
      "cell_type": "code",
      "execution_count": 71,
      "metadata": {
        "id": "bGott36OQxfz",
        "colab": {
          "base_uri": "https://localhost:8080/"
        },
        "outputId": "56829a79-25d9-4a5b-bd21-47f44e115ed8"
      },
      "outputs": [
        {
          "output_type": "execute_result",
          "data": {
            "text/plain": [
              "(1.9582744638521108, 2.1886860382988744)"
            ]
          },
          "metadata": {},
          "execution_count": 71
        }
      ],
      "source": [
        "### Simple regret minimisation: run number = 17\n",
        "\n",
        "gp_output_17 = np.append(np.min(-gp_17.GP.y[0:n_init]),-gp_17.GP.y[n_init:(n_init+iters)]) \n",
        "stp_output_17 = np.append(np.min(-stp_17.GP.y[0:n_init]),-stp_17.GP.y[n_init:(n_init+iters)]) \n",
        "\n",
        "regret_gp_17 = np.log(gp_output_17 - y_global_orig)\n",
        "regret_stp_17 = np.log(stp_output_17 - y_global_orig)\n",
        "\n",
        "simple_regret_gp_17 = min_max_array(regret_gp_17)\n",
        "simple_regret_stp_17 = min_max_array(regret_stp_17)\n",
        "\n",
        "min_simple_regret_gp_17 = min(simple_regret_gp_17)\n",
        "min_simple_regret_stp_17 = min(simple_regret_stp_17)\n",
        "\n",
        "min_simple_regret_gp_17, min_simple_regret_stp_17"
      ]
    },
    {
      "cell_type": "code",
      "execution_count": 72,
      "metadata": {
        "id": "Cz9ZYMBMQxfz",
        "colab": {
          "base_uri": "https://localhost:8080/"
        },
        "outputId": "3e009140-76bd-483a-ad80-dd7e5aceca26"
      },
      "outputs": [
        {
          "output_type": "execute_result",
          "data": {
            "text/plain": [
              "(2.6976772806421248, 1.8204770515329742)"
            ]
          },
          "metadata": {},
          "execution_count": 72
        }
      ],
      "source": [
        "### Simple regret minimisation: run number = 18\n",
        "\n",
        "gp_output_18 = np.append(np.min(-gp_18.GP.y[0:n_init]),-gp_18.GP.y[n_init:(n_init+iters)]) \n",
        "stp_output_18 = np.append(np.min(-stp_18.GP.y[0:n_init]),-stp_18.GP.y[n_init:(n_init+iters)]) \n",
        "\n",
        "regret_gp_18 = np.log(gp_output_18 - y_global_orig)\n",
        "regret_stp_18 = np.log(stp_output_18 - y_global_orig)\n",
        "\n",
        "simple_regret_gp_18 = min_max_array(regret_gp_18)\n",
        "simple_regret_stp_18 = min_max_array(regret_stp_18)\n",
        "\n",
        "min_simple_regret_gp_18 = min(simple_regret_gp_18)\n",
        "min_simple_regret_stp_18 = min(simple_regret_stp_18)\n",
        "\n",
        "min_simple_regret_gp_18, min_simple_regret_stp_18"
      ]
    },
    {
      "cell_type": "code",
      "execution_count": 73,
      "metadata": {
        "id": "OBfpWOHNQxf0",
        "colab": {
          "base_uri": "https://localhost:8080/"
        },
        "outputId": "17316282-37ee-40e5-be1a-36fbae9f060c"
      },
      "outputs": [
        {
          "output_type": "execute_result",
          "data": {
            "text/plain": [
              "(1.95079753221021, 2.610316389726852)"
            ]
          },
          "metadata": {},
          "execution_count": 73
        }
      ],
      "source": [
        "### Simple regret minimisation: run number = 19\n",
        "\n",
        "gp_output_19 = np.append(np.min(-gp_19.GP.y[0:n_init]),-gp_19.GP.y[n_init:(n_init+iters)]) \n",
        "stp_output_19 = np.append(np.min(-stp_19.GP.y[0:n_init]),-stp_19.GP.y[n_init:(n_init+iters)]) \n",
        "\n",
        "regret_gp_19 = np.log(gp_output_19 - y_global_orig)\n",
        "regret_stp_19 = np.log(stp_output_19 - y_global_orig)\n",
        "\n",
        "simple_regret_gp_19 = min_max_array(regret_gp_19)\n",
        "simple_regret_stp_19 = min_max_array(regret_stp_19)\n",
        "\n",
        "min_simple_regret_gp_19 = min(simple_regret_gp_19)\n",
        "min_simple_regret_stp_19 = min(simple_regret_stp_19)\n",
        "\n",
        "min_simple_regret_gp_19, min_simple_regret_stp_19"
      ]
    },
    {
      "cell_type": "code",
      "execution_count": 74,
      "metadata": {
        "id": "BE1AJ7NsQxf0",
        "colab": {
          "base_uri": "https://localhost:8080/"
        },
        "outputId": "e9d54ddd-bfe3-4f4e-a9ae-2c120888d492"
      },
      "outputs": [
        {
          "output_type": "execute_result",
          "data": {
            "text/plain": [
              "(1.8555330690381389, 2.738805880413265)"
            ]
          },
          "metadata": {},
          "execution_count": 74
        }
      ],
      "source": [
        "### Simple regret minimisation: run number = 20\n",
        "\n",
        "gp_output_20 = np.append(np.min(-gp_20.GP.y[0:n_init]),-gp_20.GP.y[n_init:(n_init+iters)]) \n",
        "stp_output_20 = np.append(np.min(-stp_20.GP.y[0:n_init]),-stp_20.GP.y[n_init:(n_init+iters)]) \n",
        "\n",
        "regret_gp_20 = np.log(gp_output_20 - y_global_orig)\n",
        "regret_stp_20 = np.log(stp_output_20 - y_global_orig)\n",
        "\n",
        "simple_regret_gp_20 = min_max_array(regret_gp_20)\n",
        "simple_regret_stp_20 = min_max_array(regret_stp_20)\n",
        "\n",
        "min_simple_regret_gp_20 = min(simple_regret_gp_20)\n",
        "min_simple_regret_stp_20 = min(simple_regret_stp_20)\n",
        "\n",
        "min_simple_regret_gp_20, min_simple_regret_stp_20"
      ]
    },
    {
      "cell_type": "code",
      "execution_count": 75,
      "metadata": {
        "id": "bpX-bKAHQxf1"
      },
      "outputs": [],
      "source": [
        "# Iteration1 :\n",
        "\n",
        "slice1 = 0\n",
        "\n",
        "approx1 = [simple_regret_gp_1[slice1],\n",
        "       simple_regret_gp_2[slice1],\n",
        "       simple_regret_gp_3[slice1],\n",
        "       simple_regret_gp_4[slice1],\n",
        "       simple_regret_gp_5[slice1],\n",
        "       simple_regret_gp_6[slice1],\n",
        "       simple_regret_gp_7[slice1],\n",
        "       simple_regret_gp_8[slice1],\n",
        "       simple_regret_gp_9[slice1],\n",
        "       simple_regret_gp_10[slice1],\n",
        "       simple_regret_gp_11[slice1],\n",
        "       simple_regret_gp_12[slice1],\n",
        "       simple_regret_gp_13[slice1],\n",
        "       simple_regret_gp_14[slice1],\n",
        "       simple_regret_gp_15[slice1],\n",
        "       simple_regret_gp_16[slice1],\n",
        "       simple_regret_gp_17[slice1],\n",
        "       simple_regret_gp_18[slice1],\n",
        "       simple_regret_gp_19[slice1],\n",
        "       simple_regret_gp_20[slice1]]\n",
        "\n",
        "exact1 = [simple_regret_stp_1[slice1],\n",
        "       simple_regret_stp_2[slice1],\n",
        "       simple_regret_stp_3[slice1],\n",
        "       simple_regret_stp_4[slice1],\n",
        "       simple_regret_stp_5[slice1],\n",
        "       simple_regret_stp_6[slice1],\n",
        "       simple_regret_stp_7[slice1],\n",
        "       simple_regret_stp_8[slice1],\n",
        "       simple_regret_stp_9[slice1],\n",
        "       simple_regret_stp_10[slice1],\n",
        "       simple_regret_stp_11[slice1],\n",
        "       simple_regret_stp_12[slice1],\n",
        "       simple_regret_stp_13[slice1],\n",
        "       simple_regret_stp_14[slice1],\n",
        "       simple_regret_stp_15[slice1],\n",
        "       simple_regret_stp_16[slice1],\n",
        "       simple_regret_stp_17[slice1],\n",
        "       simple_regret_stp_18[slice1],\n",
        "       simple_regret_stp_19[slice1],\n",
        "       simple_regret_stp_20[slice1]]\n",
        "\n",
        "approx1_results = pd.DataFrame(approx1).sort_values(by=[0], ascending=False)\n",
        "exact1_results = pd.DataFrame(exact1).sort_values(by=[0], ascending=False)\n",
        "\n",
        "### Best simple regret minimization IQR - approx:\n",
        "lower_gp1 = np.asarray(approx1_results[4:5][0])[0]\n",
        "median_gp1 = np.asarray(approx1_results[9:10][0])[0]\n",
        "upper_gp1 = np.asarray(approx1_results[14:15][0])[0]\n",
        "\n",
        "lower_stp1 = np.asarray(exact1_results[4:5][0])[0]\n",
        "median_stp1 = np.asarray(exact1_results[9:10][0])[0]\n",
        "upper_stp1 = np.asarray(exact1_results[14:15][0])[0]"
      ]
    },
    {
      "cell_type": "code",
      "execution_count": 76,
      "metadata": {
        "id": "CgIkJA1xQxf2"
      },
      "outputs": [],
      "source": [
        "# Iteration11 :\n",
        "\n",
        "slice11 = 10\n",
        "\n",
        "approx11 = [simple_regret_gp_1[slice11],\n",
        "       simple_regret_gp_2[slice11],\n",
        "       simple_regret_gp_3[slice11],\n",
        "       simple_regret_gp_4[slice11],\n",
        "       simple_regret_gp_5[slice11],\n",
        "       simple_regret_gp_6[slice11],\n",
        "       simple_regret_gp_7[slice11],\n",
        "       simple_regret_gp_8[slice11],\n",
        "       simple_regret_gp_9[slice11],\n",
        "       simple_regret_gp_10[slice11],\n",
        "       simple_regret_gp_11[slice11],\n",
        "       simple_regret_gp_12[slice11],\n",
        "       simple_regret_gp_13[slice11],\n",
        "       simple_regret_gp_14[slice11],\n",
        "       simple_regret_gp_15[slice11],\n",
        "       simple_regret_gp_16[slice11],\n",
        "       simple_regret_gp_17[slice11],\n",
        "       simple_regret_gp_18[slice11],\n",
        "       simple_regret_gp_19[slice11],\n",
        "       simple_regret_gp_20[slice11]]\n",
        "\n",
        "exact11 = [simple_regret_stp_1[slice11],\n",
        "       simple_regret_stp_2[slice11],\n",
        "       simple_regret_stp_3[slice11],\n",
        "       simple_regret_stp_4[slice11],\n",
        "       simple_regret_stp_5[slice11],\n",
        "       simple_regret_stp_6[slice11],\n",
        "       simple_regret_stp_7[slice11],\n",
        "       simple_regret_stp_8[slice11],\n",
        "       simple_regret_stp_9[slice11],\n",
        "       simple_regret_stp_10[slice11],\n",
        "       simple_regret_stp_11[slice11],\n",
        "       simple_regret_stp_12[slice11],\n",
        "       simple_regret_stp_13[slice11],\n",
        "       simple_regret_stp_14[slice11],\n",
        "       simple_regret_stp_15[slice11],\n",
        "       simple_regret_stp_16[slice11],\n",
        "       simple_regret_stp_17[slice11],\n",
        "       simple_regret_stp_18[slice11],\n",
        "       simple_regret_stp_19[slice11],\n",
        "       simple_regret_stp_20[slice11]]\n",
        "\n",
        "approx11_results = pd.DataFrame(approx11).sort_values(by=[0], ascending=False)\n",
        "exact11_results = pd.DataFrame(exact11).sort_values(by=[0], ascending=False)\n",
        "\n",
        "### Best simple regret minimization IQR - approx:\n",
        "lower_gp11 = np.asarray(approx11_results[4:5][0])[0]\n",
        "median_gp11 = np.asarray(approx11_results[9:10][0])[0]\n",
        "upper_gp11 = np.asarray(approx11_results[14:15][0])[0]\n",
        "\n",
        "lower_stp11 = np.asarray(exact11_results[4:5][0])[0]\n",
        "median_stp11 = np.asarray(exact11_results[9:10][0])[0]\n",
        "upper_stp11 = np.asarray(exact11_results[14:15][0])[0]"
      ]
    },
    {
      "cell_type": "code",
      "execution_count": 77,
      "metadata": {
        "id": "MFePDfGuQxf2"
      },
      "outputs": [],
      "source": [
        "# Iteration21 :\n",
        "\n",
        "slice21 = 20\n",
        "\n",
        "approx21 = [simple_regret_gp_1[slice21],\n",
        "       simple_regret_gp_2[slice21],\n",
        "       simple_regret_gp_3[slice21],\n",
        "       simple_regret_gp_4[slice21],\n",
        "       simple_regret_gp_5[slice21],\n",
        "       simple_regret_gp_6[slice21],\n",
        "       simple_regret_gp_7[slice21],\n",
        "       simple_regret_gp_8[slice21],\n",
        "       simple_regret_gp_9[slice21],\n",
        "       simple_regret_gp_10[slice21],\n",
        "       simple_regret_gp_11[slice21],\n",
        "       simple_regret_gp_12[slice21],\n",
        "       simple_regret_gp_13[slice21],\n",
        "       simple_regret_gp_14[slice21],\n",
        "       simple_regret_gp_15[slice21],\n",
        "       simple_regret_gp_16[slice21],\n",
        "       simple_regret_gp_17[slice21],\n",
        "       simple_regret_gp_18[slice21],\n",
        "       simple_regret_gp_19[slice21],\n",
        "       simple_regret_gp_20[slice21]]\n",
        "\n",
        "exact21 = [simple_regret_stp_1[slice21],\n",
        "       simple_regret_stp_2[slice21],\n",
        "       simple_regret_stp_3[slice21],\n",
        "       simple_regret_stp_4[slice21],\n",
        "       simple_regret_stp_5[slice21],\n",
        "       simple_regret_stp_6[slice21],\n",
        "       simple_regret_stp_7[slice21],\n",
        "       simple_regret_stp_8[slice21],\n",
        "       simple_regret_stp_9[slice21],\n",
        "       simple_regret_stp_10[slice21],\n",
        "       simple_regret_stp_11[slice21],\n",
        "       simple_regret_stp_12[slice21],\n",
        "       simple_regret_stp_13[slice21],\n",
        "       simple_regret_stp_14[slice21],\n",
        "       simple_regret_stp_15[slice21],\n",
        "       simple_regret_stp_16[slice21],\n",
        "       simple_regret_stp_17[slice21],\n",
        "       simple_regret_stp_18[slice21],\n",
        "       simple_regret_stp_19[slice21],\n",
        "       simple_regret_stp_20[slice21]]\n",
        "\n",
        "approx21_results = pd.DataFrame(approx21).sort_values(by=[0], ascending=False)\n",
        "exact21_results = pd.DataFrame(exact21).sort_values(by=[0], ascending=False)\n",
        "\n",
        "### Best simple regret minimization IQR - approx:\n",
        "lower_gp21 = np.asarray(approx21_results[4:5][0])[0]\n",
        "median_gp21 = np.asarray(approx21_results[9:10][0])[0]\n",
        "upper_gp21 = np.asarray(approx21_results[14:15][0])[0]\n",
        "\n",
        "lower_stp21 = np.asarray(exact21_results[4:5][0])[0]\n",
        "median_stp21 = np.asarray(exact21_results[9:10][0])[0]\n",
        "upper_stp21 = np.asarray(exact21_results[14:15][0])[0]"
      ]
    },
    {
      "cell_type": "code",
      "execution_count": 78,
      "metadata": {
        "id": "PrRDB1kfQxf3"
      },
      "outputs": [],
      "source": [
        "# Iteration2 :\n",
        "\n",
        "slice2 = 1\n",
        "\n",
        "approx2 = [simple_regret_gp_1[slice2],\n",
        "       simple_regret_gp_2[slice2],\n",
        "       simple_regret_gp_3[slice2],\n",
        "       simple_regret_gp_4[slice2],\n",
        "       simple_regret_gp_5[slice2],\n",
        "       simple_regret_gp_6[slice2],\n",
        "       simple_regret_gp_7[slice2],\n",
        "       simple_regret_gp_8[slice2],\n",
        "       simple_regret_gp_9[slice2],\n",
        "       simple_regret_gp_10[slice2],\n",
        "       simple_regret_gp_11[slice2],\n",
        "       simple_regret_gp_12[slice2],\n",
        "       simple_regret_gp_13[slice2],\n",
        "       simple_regret_gp_14[slice2],\n",
        "       simple_regret_gp_15[slice2],\n",
        "       simple_regret_gp_16[slice2],\n",
        "       simple_regret_gp_17[slice2],\n",
        "       simple_regret_gp_18[slice2],\n",
        "       simple_regret_gp_19[slice2],\n",
        "       simple_regret_gp_20[slice2]]\n",
        "\n",
        "exact2 = [simple_regret_stp_1[slice2],\n",
        "       simple_regret_stp_2[slice2],\n",
        "       simple_regret_stp_3[slice2],\n",
        "       simple_regret_stp_4[slice2],\n",
        "       simple_regret_stp_5[slice2],\n",
        "       simple_regret_stp_6[slice2],\n",
        "       simple_regret_stp_7[slice2],\n",
        "       simple_regret_stp_8[slice2],\n",
        "       simple_regret_stp_9[slice2],\n",
        "       simple_regret_stp_10[slice2],\n",
        "       simple_regret_stp_11[slice2],\n",
        "       simple_regret_stp_12[slice2],\n",
        "       simple_regret_stp_13[slice2],\n",
        "       simple_regret_stp_14[slice2],\n",
        "       simple_regret_stp_15[slice2],\n",
        "       simple_regret_stp_16[slice2],\n",
        "       simple_regret_stp_17[slice2],\n",
        "       simple_regret_stp_18[slice2],\n",
        "       simple_regret_stp_19[slice2],\n",
        "       simple_regret_stp_20[slice2]]\n",
        "\n",
        "approx2_results = pd.DataFrame(approx2).sort_values(by=[0], ascending=False)\n",
        "exact2_results = pd.DataFrame(exact2).sort_values(by=[0], ascending=False)\n",
        "\n",
        "### Best simple regret minimization IQR - approx:\n",
        "lower_gp2 = np.asarray(approx2_results[4:5][0])[0]\n",
        "median_gp2 = np.asarray(approx2_results[9:10][0])[0]\n",
        "upper_gp2 = np.asarray(approx2_results[14:15][0])[0]\n",
        "\n",
        "lower_stp2 = np.asarray(exact2_results[4:5][0])[0]\n",
        "median_stp2 = np.asarray(exact2_results[9:10][0])[0]\n",
        "upper_stp2 = np.asarray(exact2_results[14:15][0])[0]"
      ]
    },
    {
      "cell_type": "code",
      "execution_count": 79,
      "metadata": {
        "id": "B8ncJDYeQxf3"
      },
      "outputs": [],
      "source": [
        "# Iteration12 :\n",
        "\n",
        "slice12 = 11\n",
        "\n",
        "approx12 = [simple_regret_gp_1[slice12],\n",
        "       simple_regret_gp_2[slice12],\n",
        "       simple_regret_gp_3[slice12],\n",
        "       simple_regret_gp_4[slice12],\n",
        "       simple_regret_gp_5[slice12],\n",
        "       simple_regret_gp_6[slice12],\n",
        "       simple_regret_gp_7[slice12],\n",
        "       simple_regret_gp_8[slice12],\n",
        "       simple_regret_gp_9[slice12],\n",
        "       simple_regret_gp_10[slice12],\n",
        "       simple_regret_gp_11[slice12],\n",
        "       simple_regret_gp_12[slice12],\n",
        "       simple_regret_gp_13[slice12],\n",
        "       simple_regret_gp_14[slice12],\n",
        "       simple_regret_gp_15[slice12],\n",
        "       simple_regret_gp_16[slice12],\n",
        "       simple_regret_gp_17[slice12],\n",
        "       simple_regret_gp_18[slice12],\n",
        "       simple_regret_gp_19[slice12],\n",
        "       simple_regret_gp_20[slice12]]\n",
        "\n",
        "exact12 = [simple_regret_stp_1[slice12],\n",
        "       simple_regret_stp_2[slice12],\n",
        "       simple_regret_stp_3[slice12],\n",
        "       simple_regret_stp_4[slice12],\n",
        "       simple_regret_stp_5[slice12],\n",
        "       simple_regret_stp_6[slice12],\n",
        "       simple_regret_stp_7[slice12],\n",
        "       simple_regret_stp_8[slice12],\n",
        "       simple_regret_stp_9[slice12],\n",
        "       simple_regret_stp_10[slice12],\n",
        "       simple_regret_stp_11[slice12],\n",
        "       simple_regret_stp_12[slice12],\n",
        "       simple_regret_stp_13[slice12],\n",
        "       simple_regret_stp_14[slice12],\n",
        "       simple_regret_stp_15[slice12],\n",
        "       simple_regret_stp_16[slice12],\n",
        "       simple_regret_stp_17[slice12],\n",
        "       simple_regret_stp_18[slice12],\n",
        "       simple_regret_stp_19[slice12],\n",
        "       simple_regret_stp_20[slice12]]\n",
        "\n",
        "approx12_results = pd.DataFrame(approx12).sort_values(by=[0], ascending=False)\n",
        "exact12_results = pd.DataFrame(exact12).sort_values(by=[0], ascending=False)\n",
        "\n",
        "### Best simple regret minimization IQR - approx:\n",
        "lower_gp12 = np.asarray(approx12_results[4:5][0])[0]\n",
        "median_gp12 = np.asarray(approx12_results[9:10][0])[0]\n",
        "upper_gp12 = np.asarray(approx12_results[14:15][0])[0]\n",
        "\n",
        "lower_stp12 = np.asarray(exact12_results[4:5][0])[0]\n",
        "median_stp12 = np.asarray(exact12_results[9:10][0])[0]\n",
        "upper_stp12 = np.asarray(exact12_results[14:15][0])[0]"
      ]
    },
    {
      "cell_type": "code",
      "execution_count": 80,
      "metadata": {
        "id": "Jn4KpGvcQxf4"
      },
      "outputs": [],
      "source": [
        "# Iteration3 :\n",
        "\n",
        "slice3 = 2\n",
        "\n",
        "approx3 = [simple_regret_gp_1[slice3],\n",
        "       simple_regret_gp_2[slice3],\n",
        "       simple_regret_gp_3[slice3],\n",
        "       simple_regret_gp_4[slice3],\n",
        "       simple_regret_gp_5[slice3],\n",
        "       simple_regret_gp_6[slice3],\n",
        "       simple_regret_gp_7[slice3],\n",
        "       simple_regret_gp_8[slice3],\n",
        "       simple_regret_gp_9[slice3],\n",
        "       simple_regret_gp_10[slice3],\n",
        "       simple_regret_gp_11[slice3],\n",
        "       simple_regret_gp_12[slice3],\n",
        "       simple_regret_gp_13[slice3],\n",
        "       simple_regret_gp_14[slice3],\n",
        "       simple_regret_gp_15[slice3],\n",
        "       simple_regret_gp_16[slice3],\n",
        "       simple_regret_gp_17[slice3],\n",
        "       simple_regret_gp_18[slice3],\n",
        "       simple_regret_gp_19[slice3],\n",
        "       simple_regret_gp_20[slice3]]\n",
        "\n",
        "exact3 = [simple_regret_stp_1[slice3],\n",
        "       simple_regret_stp_2[slice3],\n",
        "       simple_regret_stp_3[slice3],\n",
        "       simple_regret_stp_4[slice3],\n",
        "       simple_regret_stp_5[slice3],\n",
        "       simple_regret_stp_6[slice3],\n",
        "       simple_regret_stp_7[slice3],\n",
        "       simple_regret_stp_8[slice3],\n",
        "       simple_regret_stp_9[slice3],\n",
        "       simple_regret_stp_10[slice3],\n",
        "       simple_regret_stp_11[slice3],\n",
        "       simple_regret_stp_12[slice3],\n",
        "       simple_regret_stp_13[slice3],\n",
        "       simple_regret_stp_14[slice3],\n",
        "       simple_regret_stp_15[slice3],\n",
        "       simple_regret_stp_16[slice3],\n",
        "       simple_regret_stp_17[slice3],\n",
        "       simple_regret_stp_18[slice3],\n",
        "       simple_regret_stp_19[slice3],\n",
        "       simple_regret_stp_20[slice3]]\n",
        "\n",
        "approx3_results = pd.DataFrame(approx3).sort_values(by=[0], ascending=False)\n",
        "exact3_results = pd.DataFrame(exact3).sort_values(by=[0], ascending=False)\n",
        "\n",
        "### Best simple regret minimization IQR - approx:\n",
        "lower_gp3 = np.asarray(approx3_results[4:5][0])[0]\n",
        "median_gp3 = np.asarray(approx3_results[9:10][0])[0]\n",
        "upper_gp3 = np.asarray(approx3_results[14:15][0])[0]\n",
        "\n",
        "lower_stp3 = np.asarray(exact3_results[4:5][0])[0]\n",
        "median_stp3 = np.asarray(exact3_results[9:10][0])[0]\n",
        "upper_stp3 = np.asarray(exact3_results[14:15][0])[0]"
      ]
    },
    {
      "cell_type": "code",
      "execution_count": 81,
      "metadata": {
        "id": "plf83wxrQxf4"
      },
      "outputs": [],
      "source": [
        "# Iteration13 :\n",
        "\n",
        "slice13 = 12\n",
        "\n",
        "approx13 = [simple_regret_gp_1[slice13],\n",
        "       simple_regret_gp_2[slice13],\n",
        "       simple_regret_gp_3[slice13],\n",
        "       simple_regret_gp_4[slice13],\n",
        "       simple_regret_gp_5[slice13],\n",
        "       simple_regret_gp_6[slice13],\n",
        "       simple_regret_gp_7[slice13],\n",
        "       simple_regret_gp_8[slice13],\n",
        "       simple_regret_gp_9[slice13],\n",
        "       simple_regret_gp_10[slice13],\n",
        "       simple_regret_gp_11[slice13],\n",
        "       simple_regret_gp_12[slice13],\n",
        "       simple_regret_gp_13[slice13],\n",
        "       simple_regret_gp_14[slice13],\n",
        "       simple_regret_gp_15[slice13],\n",
        "       simple_regret_gp_16[slice13],\n",
        "       simple_regret_gp_17[slice13],\n",
        "       simple_regret_gp_18[slice13],\n",
        "       simple_regret_gp_19[slice13],\n",
        "       simple_regret_gp_20[slice13]]\n",
        "\n",
        "exact13 = [simple_regret_stp_1[slice13],\n",
        "       simple_regret_stp_2[slice13],\n",
        "       simple_regret_stp_3[slice13],\n",
        "       simple_regret_stp_4[slice13],\n",
        "       simple_regret_stp_5[slice13],\n",
        "       simple_regret_stp_6[slice13],\n",
        "       simple_regret_stp_7[slice13],\n",
        "       simple_regret_stp_8[slice13],\n",
        "       simple_regret_stp_9[slice13],\n",
        "       simple_regret_stp_10[slice13],\n",
        "       simple_regret_stp_11[slice13],\n",
        "       simple_regret_stp_12[slice13],\n",
        "       simple_regret_stp_13[slice13],\n",
        "       simple_regret_stp_14[slice13],\n",
        "       simple_regret_stp_15[slice13],\n",
        "       simple_regret_stp_16[slice13],\n",
        "       simple_regret_stp_17[slice13],\n",
        "       simple_regret_stp_18[slice13],\n",
        "       simple_regret_stp_19[slice13],\n",
        "       simple_regret_stp_20[slice13]]\n",
        "\n",
        "approx13_results = pd.DataFrame(approx13).sort_values(by=[0], ascending=False)\n",
        "exact13_results = pd.DataFrame(exact13).sort_values(by=[0], ascending=False)\n",
        "\n",
        "### Best simple regret minimization IQR - approx:\n",
        "lower_gp13 = np.asarray(approx13_results[4:5][0])[0]\n",
        "median_gp13 = np.asarray(approx13_results[9:10][0])[0]\n",
        "upper_gp13 = np.asarray(approx13_results[14:15][0])[0]\n",
        "\n",
        "lower_stp13 = np.asarray(exact13_results[4:5][0])[0]\n",
        "median_stp13 = np.asarray(exact13_results[9:10][0])[0]\n",
        "upper_stp13 = np.asarray(exact13_results[14:15][0])[0]"
      ]
    },
    {
      "cell_type": "code",
      "execution_count": 82,
      "metadata": {
        "id": "9A7mlVvJQxf5"
      },
      "outputs": [],
      "source": [
        "# Iteration4 :\n",
        "\n",
        "slice4 = 3\n",
        "\n",
        "approx4 = [simple_regret_gp_1[slice4],\n",
        "       simple_regret_gp_2[slice4],\n",
        "       simple_regret_gp_3[slice4],\n",
        "       simple_regret_gp_4[slice4],\n",
        "       simple_regret_gp_5[slice4],\n",
        "       simple_regret_gp_6[slice4],\n",
        "       simple_regret_gp_7[slice4],\n",
        "       simple_regret_gp_8[slice4],\n",
        "       simple_regret_gp_9[slice4],\n",
        "       simple_regret_gp_10[slice4],\n",
        "       simple_regret_gp_11[slice4],\n",
        "       simple_regret_gp_12[slice4],\n",
        "       simple_regret_gp_13[slice4],\n",
        "       simple_regret_gp_14[slice4],\n",
        "       simple_regret_gp_15[slice4],\n",
        "       simple_regret_gp_16[slice4],\n",
        "       simple_regret_gp_17[slice4],\n",
        "       simple_regret_gp_18[slice4],\n",
        "       simple_regret_gp_19[slice4],\n",
        "       simple_regret_gp_20[slice4]]\n",
        "\n",
        "exact4 = [simple_regret_stp_1[slice4],\n",
        "       simple_regret_stp_2[slice4],\n",
        "       simple_regret_stp_3[slice4],\n",
        "       simple_regret_stp_4[slice4],\n",
        "       simple_regret_stp_5[slice4],\n",
        "       simple_regret_stp_6[slice4],\n",
        "       simple_regret_stp_7[slice4],\n",
        "       simple_regret_stp_8[slice4],\n",
        "       simple_regret_stp_9[slice4],\n",
        "       simple_regret_stp_10[slice4],\n",
        "       simple_regret_stp_11[slice4],\n",
        "       simple_regret_stp_12[slice4],\n",
        "       simple_regret_stp_13[slice4],\n",
        "       simple_regret_stp_14[slice4],\n",
        "       simple_regret_stp_15[slice4],\n",
        "       simple_regret_stp_16[slice4],\n",
        "       simple_regret_stp_17[slice4],\n",
        "       simple_regret_stp_18[slice4],\n",
        "       simple_regret_stp_19[slice4],\n",
        "       simple_regret_stp_20[slice4]]\n",
        "\n",
        "approx4_results = pd.DataFrame(approx4).sort_values(by=[0], ascending=False)\n",
        "exact4_results = pd.DataFrame(exact4).sort_values(by=[0], ascending=False)\n",
        "\n",
        "### Best simple regret minimization IQR - approx:\n",
        "lower_gp4 = np.asarray(approx4_results[4:5][0])[0]\n",
        "median_gp4 = np.asarray(approx4_results[9:10][0])[0]\n",
        "upper_gp4 = np.asarray(approx4_results[14:15][0])[0]\n",
        "\n",
        "lower_stp4 = np.asarray(exact4_results[4:5][0])[0]\n",
        "median_stp4 = np.asarray(exact4_results[9:10][0])[0]\n",
        "upper_stp4 = np.asarray(exact4_results[14:15][0])[0]"
      ]
    },
    {
      "cell_type": "code",
      "execution_count": 83,
      "metadata": {
        "id": "ijq-rioYQxf5"
      },
      "outputs": [],
      "source": [
        "# Iteration14 :\n",
        "\n",
        "slice14 = 13\n",
        "\n",
        "approx14 = [simple_regret_gp_1[slice14],\n",
        "       simple_regret_gp_2[slice14],\n",
        "       simple_regret_gp_3[slice14],\n",
        "       simple_regret_gp_4[slice14],\n",
        "       simple_regret_gp_5[slice14],\n",
        "       simple_regret_gp_6[slice14],\n",
        "       simple_regret_gp_7[slice14],\n",
        "       simple_regret_gp_8[slice14],\n",
        "       simple_regret_gp_9[slice14],\n",
        "       simple_regret_gp_10[slice14],\n",
        "       simple_regret_gp_11[slice14],\n",
        "       simple_regret_gp_12[slice14],\n",
        "       simple_regret_gp_13[slice14],\n",
        "       simple_regret_gp_14[slice14],\n",
        "       simple_regret_gp_15[slice14],\n",
        "       simple_regret_gp_16[slice14],\n",
        "       simple_regret_gp_17[slice14],\n",
        "       simple_regret_gp_18[slice14],\n",
        "       simple_regret_gp_19[slice14],\n",
        "       simple_regret_gp_20[slice14]]\n",
        "\n",
        "exact14 = [simple_regret_stp_1[slice14],\n",
        "       simple_regret_stp_2[slice14],\n",
        "       simple_regret_stp_3[slice14],\n",
        "       simple_regret_stp_4[slice14],\n",
        "       simple_regret_stp_5[slice14],\n",
        "       simple_regret_stp_6[slice14],\n",
        "       simple_regret_stp_7[slice14],\n",
        "       simple_regret_stp_8[slice14],\n",
        "       simple_regret_stp_9[slice14],\n",
        "       simple_regret_stp_10[slice14],\n",
        "       simple_regret_stp_11[slice14],\n",
        "       simple_regret_stp_12[slice14],\n",
        "       simple_regret_stp_13[slice14],\n",
        "       simple_regret_stp_14[slice14],\n",
        "       simple_regret_stp_15[slice14],\n",
        "       simple_regret_stp_16[slice14],\n",
        "       simple_regret_stp_17[slice14],\n",
        "       simple_regret_stp_18[slice14],\n",
        "       simple_regret_stp_19[slice14],\n",
        "       simple_regret_stp_20[slice14]]\n",
        "\n",
        "approx14_results = pd.DataFrame(approx14).sort_values(by=[0], ascending=False)\n",
        "exact14_results = pd.DataFrame(exact14).sort_values(by=[0], ascending=False)\n",
        "\n",
        "### Best simple regret minimization IQR - approx:\n",
        "lower_gp14 = np.asarray(approx14_results[4:5][0])[0]\n",
        "median_gp14 = np.asarray(approx14_results[9:10][0])[0]\n",
        "upper_gp14 = np.asarray(approx14_results[14:15][0])[0]\n",
        "\n",
        "lower_stp14 = np.asarray(exact14_results[4:5][0])[0]\n",
        "median_stp14 = np.asarray(exact14_results[9:10][0])[0]\n",
        "upper_stp14 = np.asarray(exact14_results[14:15][0])[0]"
      ]
    },
    {
      "cell_type": "code",
      "execution_count": 84,
      "metadata": {
        "id": "XINlZjoTd-ZK"
      },
      "outputs": [],
      "source": [
        "# Iteration5 :\n",
        "\n",
        "slice5 = 4\n",
        "\n",
        "approx5 = [simple_regret_gp_1[slice5],\n",
        "       simple_regret_gp_2[slice5],\n",
        "       simple_regret_gp_3[slice5],\n",
        "       simple_regret_gp_4[slice5],\n",
        "       simple_regret_gp_5[slice5],\n",
        "       simple_regret_gp_6[slice5],\n",
        "       simple_regret_gp_7[slice5],\n",
        "       simple_regret_gp_8[slice5],\n",
        "       simple_regret_gp_9[slice5],\n",
        "       simple_regret_gp_10[slice5],\n",
        "       simple_regret_gp_11[slice5],\n",
        "       simple_regret_gp_12[slice5],\n",
        "       simple_regret_gp_13[slice5],\n",
        "       simple_regret_gp_14[slice5],\n",
        "       simple_regret_gp_15[slice5],\n",
        "       simple_regret_gp_16[slice5],\n",
        "       simple_regret_gp_17[slice5],\n",
        "       simple_regret_gp_18[slice5],\n",
        "       simple_regret_gp_19[slice5],\n",
        "       simple_regret_gp_20[slice5]]\n",
        "\n",
        "exact5 = [simple_regret_stp_1[slice5],\n",
        "       simple_regret_stp_2[slice5],\n",
        "       simple_regret_stp_3[slice5],\n",
        "       simple_regret_stp_4[slice5],\n",
        "       simple_regret_stp_5[slice5],\n",
        "       simple_regret_stp_6[slice5],\n",
        "       simple_regret_stp_7[slice5],\n",
        "       simple_regret_stp_8[slice5],\n",
        "       simple_regret_stp_9[slice5],\n",
        "       simple_regret_stp_10[slice5],\n",
        "       simple_regret_stp_11[slice5],\n",
        "       simple_regret_stp_12[slice5],\n",
        "       simple_regret_stp_13[slice5],\n",
        "       simple_regret_stp_14[slice5],\n",
        "       simple_regret_stp_15[slice5],\n",
        "       simple_regret_stp_16[slice5],\n",
        "       simple_regret_stp_17[slice5],\n",
        "       simple_regret_stp_18[slice5],\n",
        "       simple_regret_stp_19[slice5],\n",
        "       simple_regret_stp_20[slice5]]\n",
        "\n",
        "approx5_results = pd.DataFrame(approx5).sort_values(by=[0], ascending=False)\n",
        "exact5_results = pd.DataFrame(exact5).sort_values(by=[0], ascending=False)\n",
        "\n",
        "### Best simple regret minimization IQR - approx:\n",
        "lower_gp5 = np.asarray(approx5_results[4:5][0])[0]\n",
        "median_gp5 = np.asarray(approx5_results[9:10][0])[0]\n",
        "upper_gp5 = np.asarray(approx5_results[14:15][0])[0]\n",
        "\n",
        "lower_stp5 = np.asarray(exact5_results[4:5][0])[0]\n",
        "median_stp5 = np.asarray(exact5_results[9:10][0])[0]\n",
        "upper_stp5 = np.asarray(exact5_results[14:15][0])[0]"
      ]
    },
    {
      "cell_type": "code",
      "execution_count": 85,
      "metadata": {
        "id": "4aZ7C8sOQxf6"
      },
      "outputs": [],
      "source": [
        "# Iteration15 :\n",
        "\n",
        "slice15 = 14\n",
        "\n",
        "approx15 = [simple_regret_gp_1[slice15],\n",
        "       simple_regret_gp_2[slice15],\n",
        "       simple_regret_gp_3[slice15],\n",
        "       simple_regret_gp_4[slice15],\n",
        "       simple_regret_gp_5[slice15],\n",
        "       simple_regret_gp_6[slice15],\n",
        "       simple_regret_gp_7[slice15],\n",
        "       simple_regret_gp_8[slice15],\n",
        "       simple_regret_gp_9[slice15],\n",
        "       simple_regret_gp_10[slice15],\n",
        "       simple_regret_gp_11[slice15],\n",
        "       simple_regret_gp_12[slice15],\n",
        "       simple_regret_gp_13[slice15],\n",
        "       simple_regret_gp_14[slice15],\n",
        "       simple_regret_gp_15[slice15],\n",
        "       simple_regret_gp_16[slice15],\n",
        "       simple_regret_gp_17[slice15],\n",
        "       simple_regret_gp_18[slice15],\n",
        "       simple_regret_gp_19[slice15],\n",
        "       simple_regret_gp_20[slice15]]\n",
        "\n",
        "exact15 = [simple_regret_stp_1[slice15],\n",
        "       simple_regret_stp_2[slice15],\n",
        "       simple_regret_stp_3[slice15],\n",
        "       simple_regret_stp_4[slice15],\n",
        "       simple_regret_stp_5[slice15],\n",
        "       simple_regret_stp_6[slice15],\n",
        "       simple_regret_stp_7[slice15],\n",
        "       simple_regret_stp_8[slice15],\n",
        "       simple_regret_stp_9[slice15],\n",
        "       simple_regret_stp_10[slice15],\n",
        "       simple_regret_stp_11[slice15],\n",
        "       simple_regret_stp_12[slice15],\n",
        "       simple_regret_stp_13[slice15],\n",
        "       simple_regret_stp_14[slice15],\n",
        "       simple_regret_stp_15[slice15],\n",
        "       simple_regret_stp_16[slice15],\n",
        "       simple_regret_stp_17[slice15],\n",
        "       simple_regret_stp_18[slice15],\n",
        "       simple_regret_stp_19[slice15],\n",
        "       simple_regret_stp_20[slice15]]\n",
        "\n",
        "approx15_results = pd.DataFrame(approx15).sort_values(by=[0], ascending=False)\n",
        "exact15_results = pd.DataFrame(exact15).sort_values(by=[0], ascending=False)\n",
        "\n",
        "### Best simple regret minimization IQR - approx:\n",
        "lower_gp15 = np.asarray(approx15_results[4:5][0])[0]\n",
        "median_gp15 = np.asarray(approx15_results[9:10][0])[0]\n",
        "upper_gp15 = np.asarray(approx15_results[14:15][0])[0]\n",
        "\n",
        "lower_stp15 = np.asarray(exact15_results[4:5][0])[0]\n",
        "median_stp15 = np.asarray(exact15_results[9:10][0])[0]\n",
        "upper_stp15 = np.asarray(exact15_results[14:15][0])[0]"
      ]
    },
    {
      "cell_type": "code",
      "execution_count": 86,
      "metadata": {
        "id": "KJINKhv1Qxf6"
      },
      "outputs": [],
      "source": [
        "# Iteration6 :\n",
        "\n",
        "slice6 = 5\n",
        "\n",
        "approx6 = [simple_regret_gp_1[slice6],\n",
        "       simple_regret_gp_2[slice6],\n",
        "       simple_regret_gp_3[slice6],\n",
        "       simple_regret_gp_4[slice6],\n",
        "       simple_regret_gp_5[slice6],\n",
        "       simple_regret_gp_6[slice6],\n",
        "       simple_regret_gp_7[slice6],\n",
        "       simple_regret_gp_8[slice6],\n",
        "       simple_regret_gp_9[slice6],\n",
        "       simple_regret_gp_10[slice6],\n",
        "       simple_regret_gp_11[slice6],\n",
        "       simple_regret_gp_12[slice6],\n",
        "       simple_regret_gp_13[slice6],\n",
        "       simple_regret_gp_14[slice6],\n",
        "       simple_regret_gp_15[slice6],\n",
        "       simple_regret_gp_16[slice6],\n",
        "       simple_regret_gp_17[slice6],\n",
        "       simple_regret_gp_18[slice6],\n",
        "       simple_regret_gp_19[slice6],\n",
        "       simple_regret_gp_20[slice6]]\n",
        "\n",
        "exact6 = [simple_regret_stp_1[slice6],\n",
        "       simple_regret_stp_2[slice6],\n",
        "       simple_regret_stp_3[slice6],\n",
        "       simple_regret_stp_4[slice6],\n",
        "       simple_regret_stp_5[slice6],\n",
        "       simple_regret_stp_6[slice6],\n",
        "       simple_regret_stp_7[slice6],\n",
        "       simple_regret_stp_8[slice6],\n",
        "       simple_regret_stp_9[slice6],\n",
        "       simple_regret_stp_10[slice6],\n",
        "       simple_regret_stp_11[slice6],\n",
        "       simple_regret_stp_12[slice6],\n",
        "       simple_regret_stp_13[slice6],\n",
        "       simple_regret_stp_14[slice6],\n",
        "       simple_regret_stp_15[slice6],\n",
        "       simple_regret_stp_16[slice6],\n",
        "       simple_regret_stp_17[slice6],\n",
        "       simple_regret_stp_18[slice6],\n",
        "       simple_regret_stp_19[slice6],\n",
        "       simple_regret_stp_20[slice6]]\n",
        "\n",
        "approx6_results = pd.DataFrame(approx6).sort_values(by=[0], ascending=False)\n",
        "exact6_results = pd.DataFrame(exact6).sort_values(by=[0], ascending=False)\n",
        "\n",
        "### Best simple regret minimization IQR - approx:\n",
        "lower_gp6 = np.asarray(approx6_results[4:5][0])[0]\n",
        "median_gp6 = np.asarray(approx6_results[9:10][0])[0]\n",
        "upper_gp6 = np.asarray(approx6_results[14:15][0])[0]\n",
        "\n",
        "lower_stp6 = np.asarray(exact6_results[4:5][0])[0]\n",
        "median_stp6 = np.asarray(exact6_results[9:10][0])[0]\n",
        "upper_stp6 = np.asarray(exact6_results[14:15][0])[0]"
      ]
    },
    {
      "cell_type": "code",
      "execution_count": 87,
      "metadata": {
        "id": "nwC5N1FsQxf7"
      },
      "outputs": [],
      "source": [
        "# Iteration16 :\n",
        "\n",
        "slice16 = 15\n",
        "\n",
        "approx16 = [simple_regret_gp_1[slice16],\n",
        "       simple_regret_gp_2[slice16],\n",
        "       simple_regret_gp_3[slice16],\n",
        "       simple_regret_gp_4[slice16],\n",
        "       simple_regret_gp_5[slice16],\n",
        "       simple_regret_gp_6[slice16],\n",
        "       simple_regret_gp_7[slice16],\n",
        "       simple_regret_gp_8[slice16],\n",
        "       simple_regret_gp_9[slice16],\n",
        "       simple_regret_gp_10[slice16],\n",
        "       simple_regret_gp_11[slice16],\n",
        "       simple_regret_gp_12[slice16],\n",
        "       simple_regret_gp_13[slice16],\n",
        "       simple_regret_gp_14[slice16],\n",
        "       simple_regret_gp_15[slice16],\n",
        "       simple_regret_gp_16[slice16],\n",
        "       simple_regret_gp_17[slice16],\n",
        "       simple_regret_gp_18[slice16],\n",
        "       simple_regret_gp_19[slice16],\n",
        "       simple_regret_gp_20[slice16]]\n",
        "\n",
        "exact16 = [simple_regret_stp_1[slice16],\n",
        "       simple_regret_stp_2[slice16],\n",
        "       simple_regret_stp_3[slice16],\n",
        "       simple_regret_stp_4[slice16],\n",
        "       simple_regret_stp_5[slice16],\n",
        "       simple_regret_stp_6[slice16],\n",
        "       simple_regret_stp_7[slice16],\n",
        "       simple_regret_stp_8[slice16],\n",
        "       simple_regret_stp_9[slice16],\n",
        "       simple_regret_stp_10[slice16],\n",
        "       simple_regret_stp_11[slice16],\n",
        "       simple_regret_stp_12[slice16],\n",
        "       simple_regret_stp_13[slice16],\n",
        "       simple_regret_stp_14[slice16],\n",
        "       simple_regret_stp_15[slice16],\n",
        "       simple_regret_stp_16[slice16],\n",
        "       simple_regret_stp_17[slice16],\n",
        "       simple_regret_stp_18[slice16],\n",
        "       simple_regret_stp_19[slice16],\n",
        "       simple_regret_stp_20[slice16]]\n",
        "\n",
        "approx16_results = pd.DataFrame(approx16).sort_values(by=[0], ascending=False)\n",
        "exact16_results = pd.DataFrame(exact16).sort_values(by=[0], ascending=False)\n",
        "\n",
        "### Best simple regret minimization IQR - approx:\n",
        "lower_gp16 = np.asarray(approx16_results[4:5][0])[0]\n",
        "median_gp16 = np.asarray(approx16_results[9:10][0])[0]\n",
        "upper_gp16 = np.asarray(approx16_results[14:15][0])[0]\n",
        "\n",
        "lower_stp16 = np.asarray(exact16_results[4:5][0])[0]\n",
        "median_stp16 = np.asarray(exact16_results[9:10][0])[0]\n",
        "upper_stp16 = np.asarray(exact16_results[14:15][0])[0]"
      ]
    },
    {
      "cell_type": "code",
      "execution_count": 88,
      "metadata": {
        "id": "TrPV0AfnQxf7"
      },
      "outputs": [],
      "source": [
        "# Iteration7 :\n",
        "\n",
        "slice7 = 6\n",
        "\n",
        "approx7 = [simple_regret_gp_1[slice7],\n",
        "       simple_regret_gp_2[slice7],\n",
        "       simple_regret_gp_3[slice7],\n",
        "       simple_regret_gp_4[slice7],\n",
        "       simple_regret_gp_5[slice7],\n",
        "       simple_regret_gp_6[slice7],\n",
        "       simple_regret_gp_7[slice7],\n",
        "       simple_regret_gp_8[slice7],\n",
        "       simple_regret_gp_9[slice7],\n",
        "       simple_regret_gp_10[slice7],\n",
        "       simple_regret_gp_11[slice7],\n",
        "       simple_regret_gp_12[slice7],\n",
        "       simple_regret_gp_13[slice7],\n",
        "       simple_regret_gp_14[slice7],\n",
        "       simple_regret_gp_15[slice7],\n",
        "       simple_regret_gp_16[slice7],\n",
        "       simple_regret_gp_17[slice7],\n",
        "       simple_regret_gp_18[slice7],\n",
        "       simple_regret_gp_19[slice7],\n",
        "       simple_regret_gp_20[slice7]]\n",
        "\n",
        "exact7 = [simple_regret_stp_1[slice7],\n",
        "       simple_regret_stp_2[slice7],\n",
        "       simple_regret_stp_3[slice7],\n",
        "       simple_regret_stp_4[slice7],\n",
        "       simple_regret_stp_5[slice7],\n",
        "       simple_regret_stp_6[slice7],\n",
        "       simple_regret_stp_7[slice7],\n",
        "       simple_regret_stp_8[slice7],\n",
        "       simple_regret_stp_9[slice7],\n",
        "       simple_regret_stp_10[slice7],\n",
        "       simple_regret_stp_11[slice7],\n",
        "       simple_regret_stp_12[slice7],\n",
        "       simple_regret_stp_13[slice7],\n",
        "       simple_regret_stp_14[slice7],\n",
        "       simple_regret_stp_15[slice7],\n",
        "       simple_regret_stp_16[slice7],\n",
        "       simple_regret_stp_17[slice7],\n",
        "       simple_regret_stp_18[slice7],\n",
        "       simple_regret_stp_19[slice7],\n",
        "       simple_regret_stp_20[slice7]]\n",
        "\n",
        "approx7_results = pd.DataFrame(approx7).sort_values(by=[0], ascending=False)\n",
        "exact7_results = pd.DataFrame(exact7).sort_values(by=[0], ascending=False)\n",
        "\n",
        "### Best simple regret minimization IQR - approx:\n",
        "lower_gp7 = np.asarray(approx7_results[4:5][0])[0]\n",
        "median_gp7 = np.asarray(approx7_results[9:10][0])[0]\n",
        "upper_gp7 = np.asarray(approx7_results[14:15][0])[0]\n",
        "\n",
        "lower_stp7 = np.asarray(exact7_results[4:5][0])[0]\n",
        "median_stp7 = np.asarray(exact7_results[9:10][0])[0]\n",
        "upper_stp7 = np.asarray(exact7_results[14:15][0])[0]"
      ]
    },
    {
      "cell_type": "code",
      "execution_count": 89,
      "metadata": {
        "id": "Ub_-wpK4Qxf8"
      },
      "outputs": [],
      "source": [
        "# Iteration17 :\n",
        "\n",
        "slice17 = 16\n",
        "\n",
        "approx17 = [simple_regret_gp_1[slice17],\n",
        "       simple_regret_gp_2[slice17],\n",
        "       simple_regret_gp_3[slice17],\n",
        "       simple_regret_gp_4[slice17],\n",
        "       simple_regret_gp_5[slice17],\n",
        "       simple_regret_gp_6[slice17],\n",
        "       simple_regret_gp_7[slice17],\n",
        "       simple_regret_gp_8[slice17],\n",
        "       simple_regret_gp_9[slice17],\n",
        "       simple_regret_gp_10[slice17],\n",
        "       simple_regret_gp_11[slice17],\n",
        "       simple_regret_gp_12[slice17],\n",
        "       simple_regret_gp_13[slice17],\n",
        "       simple_regret_gp_14[slice17],\n",
        "       simple_regret_gp_15[slice17],\n",
        "       simple_regret_gp_16[slice17],\n",
        "       simple_regret_gp_17[slice17],\n",
        "       simple_regret_gp_18[slice17],\n",
        "       simple_regret_gp_19[slice17],\n",
        "       simple_regret_gp_20[slice17]]\n",
        "\n",
        "exact17 = [simple_regret_stp_1[slice17],\n",
        "       simple_regret_stp_2[slice17],\n",
        "       simple_regret_stp_3[slice17],\n",
        "       simple_regret_stp_4[slice17],\n",
        "       simple_regret_stp_5[slice17],\n",
        "       simple_regret_stp_6[slice17],\n",
        "       simple_regret_stp_7[slice17],\n",
        "       simple_regret_stp_8[slice17],\n",
        "       simple_regret_stp_9[slice17],\n",
        "       simple_regret_stp_10[slice17],\n",
        "       simple_regret_stp_11[slice17],\n",
        "       simple_regret_stp_12[slice17],\n",
        "       simple_regret_stp_13[slice17],\n",
        "       simple_regret_stp_14[slice17],\n",
        "       simple_regret_stp_15[slice17],\n",
        "       simple_regret_stp_16[slice17],\n",
        "       simple_regret_stp_17[slice17],\n",
        "       simple_regret_stp_18[slice17],\n",
        "       simple_regret_stp_19[slice17],\n",
        "       simple_regret_stp_20[slice17]]\n",
        "\n",
        "approx17_results = pd.DataFrame(approx17).sort_values(by=[0], ascending=False)\n",
        "exact17_results = pd.DataFrame(exact17).sort_values(by=[0], ascending=False)\n",
        "\n",
        "### Best simple regret minimization IQR - approx:\n",
        "lower_gp17 = np.asarray(approx17_results[4:5][0])[0]\n",
        "median_gp17 = np.asarray(approx17_results[9:10][0])[0]\n",
        "upper_gp17 = np.asarray(approx17_results[14:15][0])[0]\n",
        "\n",
        "lower_stp17 = np.asarray(exact17_results[4:5][0])[0]\n",
        "median_stp17 = np.asarray(exact17_results[9:10][0])[0]\n",
        "upper_stp17 = np.asarray(exact17_results[14:15][0])[0]"
      ]
    },
    {
      "cell_type": "code",
      "execution_count": 90,
      "metadata": {
        "id": "-6VLo37PQxf8"
      },
      "outputs": [],
      "source": [
        "# Iteration8 :\n",
        "\n",
        "slice8 = 7\n",
        "\n",
        "approx8 = [simple_regret_gp_1[slice8],\n",
        "       simple_regret_gp_2[slice8],\n",
        "       simple_regret_gp_3[slice8],\n",
        "       simple_regret_gp_4[slice8],\n",
        "       simple_regret_gp_5[slice8],\n",
        "       simple_regret_gp_6[slice8],\n",
        "       simple_regret_gp_7[slice8],\n",
        "       simple_regret_gp_8[slice8],\n",
        "       simple_regret_gp_9[slice8],\n",
        "       simple_regret_gp_10[slice8],\n",
        "       simple_regret_gp_11[slice8],\n",
        "       simple_regret_gp_12[slice8],\n",
        "       simple_regret_gp_13[slice8],\n",
        "       simple_regret_gp_14[slice8],\n",
        "       simple_regret_gp_15[slice8],\n",
        "       simple_regret_gp_16[slice8],\n",
        "       simple_regret_gp_17[slice8],\n",
        "       simple_regret_gp_18[slice8],\n",
        "       simple_regret_gp_19[slice8],\n",
        "       simple_regret_gp_20[slice8]]\n",
        "\n",
        "exact8 = [simple_regret_stp_1[slice8],\n",
        "       simple_regret_stp_2[slice8],\n",
        "       simple_regret_stp_3[slice8],\n",
        "       simple_regret_stp_4[slice8],\n",
        "       simple_regret_stp_5[slice8],\n",
        "       simple_regret_stp_6[slice8],\n",
        "       simple_regret_stp_7[slice8],\n",
        "       simple_regret_stp_8[slice8],\n",
        "       simple_regret_stp_9[slice8],\n",
        "       simple_regret_stp_10[slice8],\n",
        "       simple_regret_stp_11[slice8],\n",
        "       simple_regret_stp_12[slice8],\n",
        "       simple_regret_stp_13[slice8],\n",
        "       simple_regret_stp_14[slice8],\n",
        "       simple_regret_stp_15[slice8],\n",
        "       simple_regret_stp_16[slice8],\n",
        "       simple_regret_stp_17[slice8],\n",
        "       simple_regret_stp_18[slice8],\n",
        "       simple_regret_stp_19[slice8],\n",
        "       simple_regret_stp_20[slice8]]\n",
        "\n",
        "approx8_results = pd.DataFrame(approx8).sort_values(by=[0], ascending=False)\n",
        "exact8_results = pd.DataFrame(exact8).sort_values(by=[0], ascending=False)\n",
        "\n",
        "### Best simple regret minimization IQR - approx:\n",
        "lower_gp8 = np.asarray(approx8_results[4:5][0])[0]\n",
        "median_gp8 = np.asarray(approx8_results[9:10][0])[0]\n",
        "upper_gp8 = np.asarray(approx8_results[14:15][0])[0]\n",
        "\n",
        "lower_stp8 = np.asarray(exact8_results[4:5][0])[0]\n",
        "median_stp8 = np.asarray(exact8_results[9:10][0])[0]\n",
        "upper_stp8 = np.asarray(exact8_results[14:15][0])[0]"
      ]
    },
    {
      "cell_type": "code",
      "execution_count": 91,
      "metadata": {
        "id": "2Dp-9CC2Qxf9"
      },
      "outputs": [],
      "source": [
        "# Iteration18 :\n",
        "\n",
        "slice18 = 17\n",
        "\n",
        "approx18 = [simple_regret_gp_1[slice18],\n",
        "       simple_regret_gp_2[slice18],\n",
        "       simple_regret_gp_3[slice18],\n",
        "       simple_regret_gp_4[slice18],\n",
        "       simple_regret_gp_5[slice18],\n",
        "       simple_regret_gp_6[slice18],\n",
        "       simple_regret_gp_7[slice18],\n",
        "       simple_regret_gp_8[slice18],\n",
        "       simple_regret_gp_9[slice18],\n",
        "       simple_regret_gp_10[slice18],\n",
        "       simple_regret_gp_11[slice18],\n",
        "       simple_regret_gp_12[slice18],\n",
        "       simple_regret_gp_13[slice18],\n",
        "       simple_regret_gp_14[slice18],\n",
        "       simple_regret_gp_15[slice18],\n",
        "       simple_regret_gp_16[slice18],\n",
        "       simple_regret_gp_17[slice18],\n",
        "       simple_regret_gp_18[slice18],\n",
        "       simple_regret_gp_19[slice18],\n",
        "       simple_regret_gp_20[slice18]]\n",
        "\n",
        "exact18 = [simple_regret_stp_1[slice18],\n",
        "       simple_regret_stp_2[slice18],\n",
        "       simple_regret_stp_3[slice18],\n",
        "       simple_regret_stp_4[slice18],\n",
        "       simple_regret_stp_5[slice18],\n",
        "       simple_regret_stp_6[slice18],\n",
        "       simple_regret_stp_7[slice18],\n",
        "       simple_regret_stp_8[slice18],\n",
        "       simple_regret_stp_9[slice18],\n",
        "       simple_regret_stp_10[slice18],\n",
        "       simple_regret_stp_11[slice18],\n",
        "       simple_regret_stp_12[slice18],\n",
        "       simple_regret_stp_13[slice18],\n",
        "       simple_regret_stp_14[slice18],\n",
        "       simple_regret_stp_15[slice18],\n",
        "       simple_regret_stp_16[slice18],\n",
        "       simple_regret_stp_17[slice18],\n",
        "       simple_regret_stp_18[slice18],\n",
        "       simple_regret_stp_19[slice18],\n",
        "       simple_regret_stp_20[slice18]]\n",
        "\n",
        "approx18_results = pd.DataFrame(approx18).sort_values(by=[0], ascending=False)\n",
        "exact18_results = pd.DataFrame(exact18).sort_values(by=[0], ascending=False)\n",
        "\n",
        "### Best simple regret minimization IQR - approx:\n",
        "lower_gp18 = np.asarray(approx18_results[4:5][0])[0]\n",
        "median_gp18 = np.asarray(approx18_results[9:10][0])[0]\n",
        "upper_gp18 = np.asarray(approx18_results[14:15][0])[0]\n",
        "\n",
        "lower_stp18 = np.asarray(exact18_results[4:5][0])[0]\n",
        "median_stp18 = np.asarray(exact18_results[9:10][0])[0]\n",
        "upper_stp18 = np.asarray(exact18_results[14:15][0])[0]"
      ]
    },
    {
      "cell_type": "code",
      "execution_count": 92,
      "metadata": {
        "id": "SqiaOpB7Qxf9"
      },
      "outputs": [],
      "source": [
        "# Iteration9 :\n",
        "\n",
        "slice9 = 8\n",
        "\n",
        "approx9 = [simple_regret_gp_1[slice9],\n",
        "       simple_regret_gp_2[slice9],\n",
        "       simple_regret_gp_3[slice9],\n",
        "       simple_regret_gp_4[slice9],\n",
        "       simple_regret_gp_5[slice9],\n",
        "       simple_regret_gp_6[slice9],\n",
        "       simple_regret_gp_7[slice9],\n",
        "       simple_regret_gp_8[slice9],\n",
        "       simple_regret_gp_9[slice9],\n",
        "       simple_regret_gp_10[slice9],\n",
        "       simple_regret_gp_11[slice9],\n",
        "       simple_regret_gp_12[slice9],\n",
        "       simple_regret_gp_13[slice9],\n",
        "       simple_regret_gp_14[slice9],\n",
        "       simple_regret_gp_15[slice9],\n",
        "       simple_regret_gp_16[slice9],\n",
        "       simple_regret_gp_17[slice9],\n",
        "       simple_regret_gp_18[slice9],\n",
        "       simple_regret_gp_19[slice9],\n",
        "       simple_regret_gp_20[slice9]]\n",
        "\n",
        "exact9 = [simple_regret_stp_1[slice9],\n",
        "       simple_regret_stp_2[slice9],\n",
        "       simple_regret_stp_3[slice9],\n",
        "       simple_regret_stp_4[slice9],\n",
        "       simple_regret_stp_5[slice9],\n",
        "       simple_regret_stp_6[slice9],\n",
        "       simple_regret_stp_7[slice9],\n",
        "       simple_regret_stp_8[slice9],\n",
        "       simple_regret_stp_9[slice9],\n",
        "       simple_regret_stp_10[slice9],\n",
        "       simple_regret_stp_11[slice9],\n",
        "       simple_regret_stp_12[slice9],\n",
        "       simple_regret_stp_13[slice9],\n",
        "       simple_regret_stp_14[slice9],\n",
        "       simple_regret_stp_15[slice9],\n",
        "       simple_regret_stp_16[slice9],\n",
        "       simple_regret_stp_17[slice9],\n",
        "       simple_regret_stp_18[slice9],\n",
        "       simple_regret_stp_19[slice9],\n",
        "       simple_regret_stp_20[slice9]]\n",
        "\n",
        "approx9_results = pd.DataFrame(approx9).sort_values(by=[0], ascending=False)\n",
        "exact9_results = pd.DataFrame(exact9).sort_values(by=[0], ascending=False)\n",
        "\n",
        "### Best simple regret minimization IQR - approx:\n",
        "lower_gp9 = np.asarray(approx9_results[4:5][0])[0]\n",
        "median_gp9 = np.asarray(approx9_results[9:10][0])[0]\n",
        "upper_gp9 = np.asarray(approx9_results[14:15][0])[0]\n",
        "\n",
        "lower_stp9 = np.asarray(exact9_results[4:5][0])[0]\n",
        "median_stp9 = np.asarray(exact9_results[9:10][0])[0]\n",
        "upper_stp9 = np.asarray(exact9_results[14:15][0])[0]"
      ]
    },
    {
      "cell_type": "code",
      "execution_count": 93,
      "metadata": {
        "id": "OQkCCOsPQxf9"
      },
      "outputs": [],
      "source": [
        "# Iteration19 :\n",
        "\n",
        "slice19 = 18\n",
        "\n",
        "approx19 = [simple_regret_gp_1[slice19],\n",
        "       simple_regret_gp_2[slice19],\n",
        "       simple_regret_gp_3[slice19],\n",
        "       simple_regret_gp_4[slice19],\n",
        "       simple_regret_gp_5[slice19],\n",
        "       simple_regret_gp_6[slice19],\n",
        "       simple_regret_gp_7[slice19],\n",
        "       simple_regret_gp_8[slice19],\n",
        "       simple_regret_gp_9[slice19],\n",
        "       simple_regret_gp_10[slice19],\n",
        "       simple_regret_gp_11[slice19],\n",
        "       simple_regret_gp_12[slice19],\n",
        "       simple_regret_gp_13[slice19],\n",
        "       simple_regret_gp_14[slice19],\n",
        "       simple_regret_gp_15[slice19],\n",
        "       simple_regret_gp_16[slice19],\n",
        "       simple_regret_gp_17[slice19],\n",
        "       simple_regret_gp_18[slice19],\n",
        "       simple_regret_gp_19[slice19],\n",
        "       simple_regret_gp_20[slice19]]\n",
        "\n",
        "exact19 = [simple_regret_stp_1[slice19],\n",
        "       simple_regret_stp_2[slice19],\n",
        "       simple_regret_stp_3[slice19],\n",
        "       simple_regret_stp_4[slice19],\n",
        "       simple_regret_stp_5[slice19],\n",
        "       simple_regret_stp_6[slice19],\n",
        "       simple_regret_stp_7[slice19],\n",
        "       simple_regret_stp_8[slice19],\n",
        "       simple_regret_stp_9[slice19],\n",
        "       simple_regret_stp_10[slice19],\n",
        "       simple_regret_stp_11[slice19],\n",
        "       simple_regret_stp_12[slice19],\n",
        "       simple_regret_stp_13[slice19],\n",
        "       simple_regret_stp_14[slice19],\n",
        "       simple_regret_stp_15[slice19],\n",
        "       simple_regret_stp_16[slice19],\n",
        "       simple_regret_stp_17[slice19],\n",
        "       simple_regret_stp_18[slice19],\n",
        "       simple_regret_stp_19[slice19],\n",
        "       simple_regret_stp_20[slice19]]\n",
        "\n",
        "approx19_results = pd.DataFrame(approx19).sort_values(by=[0], ascending=False)\n",
        "exact19_results = pd.DataFrame(exact19).sort_values(by=[0], ascending=False)\n",
        "\n",
        "### Best simple regret minimization IQR - approx:\n",
        "lower_gp19 = np.asarray(approx19_results[4:5][0])[0]\n",
        "median_gp19 = np.asarray(approx19_results[9:10][0])[0]\n",
        "upper_gp19 = np.asarray(approx19_results[14:15][0])[0]\n",
        "\n",
        "lower_stp19 = np.asarray(exact19_results[4:5][0])[0]\n",
        "median_stp19 = np.asarray(exact19_results[9:10][0])[0]\n",
        "upper_stp19 = np.asarray(exact19_results[14:15][0])[0]"
      ]
    },
    {
      "cell_type": "code",
      "execution_count": 94,
      "metadata": {
        "id": "h4vtWahcQxf-"
      },
      "outputs": [],
      "source": [
        "# Iteration10 :\n",
        "\n",
        "slice10 = 9\n",
        "\n",
        "approx10 = [simple_regret_gp_1[slice10],\n",
        "       simple_regret_gp_2[slice10],\n",
        "       simple_regret_gp_3[slice10],\n",
        "       simple_regret_gp_4[slice10],\n",
        "       simple_regret_gp_5[slice10],\n",
        "       simple_regret_gp_6[slice10],\n",
        "       simple_regret_gp_7[slice10],\n",
        "       simple_regret_gp_8[slice10],\n",
        "       simple_regret_gp_9[slice10],\n",
        "       simple_regret_gp_10[slice10],\n",
        "       simple_regret_gp_11[slice10],\n",
        "       simple_regret_gp_12[slice10],\n",
        "       simple_regret_gp_13[slice10],\n",
        "       simple_regret_gp_14[slice10],\n",
        "       simple_regret_gp_15[slice10],\n",
        "       simple_regret_gp_16[slice10],\n",
        "       simple_regret_gp_17[slice10],\n",
        "       simple_regret_gp_18[slice10],\n",
        "       simple_regret_gp_19[slice10],\n",
        "       simple_regret_gp_20[slice10]]\n",
        "\n",
        "exact10 = [simple_regret_stp_1[slice10],\n",
        "       simple_regret_stp_2[slice10],\n",
        "       simple_regret_stp_3[slice10],\n",
        "       simple_regret_stp_4[slice10],\n",
        "       simple_regret_stp_5[slice10],\n",
        "       simple_regret_stp_6[slice10],\n",
        "       simple_regret_stp_7[slice10],\n",
        "       simple_regret_stp_8[slice10],\n",
        "       simple_regret_stp_9[slice10],\n",
        "       simple_regret_stp_10[slice10],\n",
        "       simple_regret_stp_11[slice10],\n",
        "       simple_regret_stp_12[slice10],\n",
        "       simple_regret_stp_13[slice10],\n",
        "       simple_regret_stp_14[slice10],\n",
        "       simple_regret_stp_15[slice10],\n",
        "       simple_regret_stp_16[slice10],\n",
        "       simple_regret_stp_17[slice10],\n",
        "       simple_regret_stp_18[slice10],\n",
        "       simple_regret_stp_19[slice10],\n",
        "       simple_regret_stp_20[slice10]]\n",
        "\n",
        "approx10_results = pd.DataFrame(approx10).sort_values(by=[0], ascending=False)\n",
        "exact10_results = pd.DataFrame(exact10).sort_values(by=[0], ascending=False)\n",
        "\n",
        "### Best simple regret minimization IQR - approx:\n",
        "lower_gp10 = np.asarray(approx10_results[4:5][0])[0]\n",
        "median_gp10 = np.asarray(approx10_results[9:10][0])[0]\n",
        "upper_gp10 = np.asarray(approx10_results[14:15][0])[0]\n",
        "\n",
        "lower_stp10 = np.asarray(exact10_results[4:5][0])[0]\n",
        "median_stp10 = np.asarray(exact10_results[9:10][0])[0]\n",
        "upper_stp10 = np.asarray(exact10_results[14:15][0])[0]"
      ]
    },
    {
      "cell_type": "code",
      "execution_count": 95,
      "metadata": {
        "id": "Rsf240pWQxf-"
      },
      "outputs": [],
      "source": [
        "# Iteration20 :\n",
        "\n",
        "slice20 = 19\n",
        "\n",
        "approx20 = [simple_regret_gp_1[slice20],\n",
        "       simple_regret_gp_2[slice20],\n",
        "       simple_regret_gp_3[slice20],\n",
        "       simple_regret_gp_4[slice20],\n",
        "       simple_regret_gp_5[slice20],\n",
        "       simple_regret_gp_6[slice20],\n",
        "       simple_regret_gp_7[slice20],\n",
        "       simple_regret_gp_8[slice20],\n",
        "       simple_regret_gp_9[slice20],\n",
        "       simple_regret_gp_10[slice20],\n",
        "       simple_regret_gp_11[slice20],\n",
        "       simple_regret_gp_12[slice20],\n",
        "       simple_regret_gp_13[slice20],\n",
        "       simple_regret_gp_14[slice20],\n",
        "       simple_regret_gp_15[slice20],\n",
        "       simple_regret_gp_16[slice20],\n",
        "       simple_regret_gp_17[slice20],\n",
        "       simple_regret_gp_18[slice20],\n",
        "       simple_regret_gp_19[slice20],\n",
        "       simple_regret_gp_20[slice20]]\n",
        "\n",
        "exact20 = [simple_regret_stp_1[slice20],\n",
        "       simple_regret_stp_2[slice20],\n",
        "       simple_regret_stp_3[slice20],\n",
        "       simple_regret_stp_4[slice20],\n",
        "       simple_regret_stp_5[slice20],\n",
        "       simple_regret_stp_6[slice20],\n",
        "       simple_regret_stp_7[slice20],\n",
        "       simple_regret_stp_8[slice20],\n",
        "       simple_regret_stp_9[slice20],\n",
        "       simple_regret_stp_10[slice20],\n",
        "       simple_regret_stp_11[slice20],\n",
        "       simple_regret_stp_12[slice20],\n",
        "       simple_regret_stp_13[slice20],\n",
        "       simple_regret_stp_14[slice20],\n",
        "       simple_regret_stp_15[slice20],\n",
        "       simple_regret_stp_16[slice20],\n",
        "       simple_regret_stp_17[slice20],\n",
        "       simple_regret_stp_18[slice20],\n",
        "       simple_regret_stp_19[slice20],\n",
        "       simple_regret_stp_20[slice20]]\n",
        "\n",
        "approx20_results = pd.DataFrame(approx20).sort_values(by=[0], ascending=False)\n",
        "exact20_results = pd.DataFrame(exact20).sort_values(by=[0], ascending=False)\n",
        "\n",
        "### Best simple regret minimization IQR - approx:\n",
        "lower_gp20 = np.asarray(approx20_results[4:5][0])[0]\n",
        "median_gp20 = np.asarray(approx20_results[9:10][0])[0]\n",
        "upper_gp20 = np.asarray(approx20_results[14:15][0])[0]\n",
        "\n",
        "lower_stp20 = np.asarray(exact20_results[4:5][0])[0]\n",
        "median_stp20 = np.asarray(exact20_results[9:10][0])[0]\n",
        "upper_stp20 = np.asarray(exact20_results[14:15][0])[0]"
      ]
    },
    {
      "cell_type": "code",
      "execution_count": 96,
      "metadata": {
        "id": "gn36RejbQxf_"
      },
      "outputs": [],
      "source": [
        "### Summarize arrays: 'Loser'\n",
        "\n",
        "lower_gp = [lower_gp1,\n",
        "            lower_gp2,\n",
        "            lower_gp3,\n",
        "            lower_gp4,\n",
        "            lower_gp5,\n",
        "            lower_gp6,\n",
        "            lower_gp7,\n",
        "            lower_gp8,\n",
        "            lower_gp9,\n",
        "            lower_gp10,\n",
        "            lower_gp11,\n",
        "            lower_gp12,\n",
        "            lower_gp13,\n",
        "            lower_gp14,\n",
        "            lower_gp15,\n",
        "            lower_gp16,\n",
        "            lower_gp17,\n",
        "            lower_gp18,\n",
        "            lower_gp19,\n",
        "            lower_gp20,\n",
        "            lower_gp21]\n",
        "\n",
        "median_gp = [median_gp1,\n",
        "            median_gp2,\n",
        "            median_gp3,\n",
        "            median_gp4,\n",
        "            median_gp5,\n",
        "            median_gp6,\n",
        "            median_gp7,\n",
        "            median_gp8,\n",
        "            median_gp9,\n",
        "            median_gp10,\n",
        "            median_gp11,\n",
        "            median_gp12,\n",
        "            median_gp13,\n",
        "            median_gp14,\n",
        "            median_gp15,\n",
        "            median_gp16,\n",
        "            median_gp17,\n",
        "            median_gp18,\n",
        "            median_gp19,\n",
        "            median_gp20,\n",
        "            median_gp21]\n",
        "\n",
        "upper_gp = [upper_gp1,\n",
        "            upper_gp2,\n",
        "            upper_gp3,\n",
        "            upper_gp4,\n",
        "            upper_gp5,\n",
        "            upper_gp6,\n",
        "            upper_gp7,\n",
        "            upper_gp8,\n",
        "            upper_gp9,\n",
        "            upper_gp10,\n",
        "            upper_gp11,\n",
        "            upper_gp12,\n",
        "            upper_gp13,\n",
        "            upper_gp14,\n",
        "            upper_gp15,\n",
        "            upper_gp16,\n",
        "            upper_gp17,\n",
        "            upper_gp18,\n",
        "            upper_gp19,\n",
        "            upper_gp20,\n",
        "            upper_gp21]"
      ]
    },
    {
      "cell_type": "code",
      "execution_count": 97,
      "metadata": {
        "id": "wxtGTOYfQxf_"
      },
      "outputs": [],
      "source": [
        "### Summarize arrays: 'exact'\n",
        "\n",
        "lower_stp = [lower_stp1,\n",
        "            lower_stp2,\n",
        "            lower_stp3,\n",
        "            lower_stp4,\n",
        "            lower_stp5,\n",
        "            lower_stp6,\n",
        "            lower_stp7,\n",
        "            lower_stp8,\n",
        "            lower_stp9,\n",
        "            lower_stp10,\n",
        "            lower_stp11,\n",
        "            lower_stp12,\n",
        "            lower_stp13,\n",
        "            lower_stp14,\n",
        "            lower_stp15,\n",
        "            lower_stp16,\n",
        "            lower_stp17,\n",
        "            lower_stp18,\n",
        "            lower_stp19,\n",
        "            lower_stp20,\n",
        "            lower_stp21]\n",
        "\n",
        "median_stp = [median_stp1,\n",
        "            median_stp2,\n",
        "            median_stp3,\n",
        "            median_stp4,\n",
        "            median_stp5,\n",
        "            median_stp6,\n",
        "            median_stp7,\n",
        "            median_stp8,\n",
        "            median_stp9,\n",
        "            median_stp10,\n",
        "            median_stp11,\n",
        "            median_stp12,\n",
        "            median_stp13,\n",
        "            median_stp14,\n",
        "            median_stp15,\n",
        "            median_stp16,\n",
        "            median_stp17,\n",
        "            median_stp18,\n",
        "            median_stp19,\n",
        "            median_stp20,\n",
        "            median_stp21]\n",
        "\n",
        "upper_stp = [upper_stp1,\n",
        "            upper_stp2,\n",
        "            upper_stp3,\n",
        "            upper_stp4,\n",
        "            upper_stp5,\n",
        "            upper_stp6,\n",
        "            upper_stp7,\n",
        "            upper_stp8,\n",
        "            upper_stp9,\n",
        "            upper_stp10,\n",
        "            upper_stp11,\n",
        "            upper_stp12,\n",
        "            upper_stp13,\n",
        "            upper_stp14,\n",
        "            upper_stp15,\n",
        "            upper_stp16,\n",
        "            upper_stp17,\n",
        "            upper_stp18,\n",
        "            upper_stp19,\n",
        "            upper_stp20,\n",
        "            upper_stp21]"
      ]
    },
    {
      "cell_type": "code",
      "execution_count": 98,
      "metadata": {
        "id": "2MONq-BXQxgA",
        "colab": {
          "base_uri": "https://localhost:8080/",
          "height": 299
        },
        "outputId": "1f4f8fb8-d14c-4638-83e6-60fd01828bbb"
      },
      "outputs": [
        {
          "output_type": "display_data",
          "data": {
            "text/plain": [
              "<Figure size 432x288 with 1 Axes>"
            ],
            "image/png": "[encoded data removed]"
          },
          "metadata": {
            "needs_background": "light"
          }
        }
      ],
      "source": [
        "### Visualise!\n",
        "\n",
        "title = func\n",
        "plt.figure()\n",
        "\n",
        "plt.plot(median_gp, color = 'Red', ls='-')\n",
        "plt.plot(median_stp, color = 'Red', ls='--')\n",
        "\n",
        "xstar = np.arange(0, iters+1, step=1)\n",
        "plt.fill_between(xstar, lower_gp, upper_gp, facecolor = 'Red', alpha=0.2, label='GP EI Optimisation: Exact GP dEI gradients')\n",
        "plt.fill_between(xstar, lower_stp, upper_stp, facecolor = 'Red', alpha=0.4, label='STP EI Optimisation: Exact STP dEI gradients ' r'($\\nu$' ' = {})'.format(df))\n",
        "\n",
        "plt.title(title, weight = 'bold')\n",
        "plt.xlabel('(Post-initialisation) iteration $\\it{k}$', weight = 'bold')\n",
        "plt.ylabel('log(Regret)', weight = 'bold') \n",
        "plt.legend(loc=0) # add plot legend\n",
        "\n",
        "### Make the x-ticks integers, not floats:\n",
        "count = len(xstar)\n",
        "plt.xticks(np.arange(count), np.arange(0, count))\n",
        "plt.show() #visualise!\n"
      ]
    },
    {
      "cell_type": "code",
      "execution_count": 99,
      "metadata": {
        "id": "l5dkR2Id2oiu",
        "colab": {
          "base_uri": "https://localhost:8080/"
        },
        "outputId": "645768c3-afd1-4b70-e688-59716eccaee7"
      },
      "outputs": [
        {
          "output_type": "execute_result",
          "data": {
            "text/plain": [
              "(892.9335279464722, 1365.3315243721008)"
            ]
          },
          "metadata": {},
          "execution_count": 99
        }
      ],
      "source": [
        "time_gp, time_stp\n"
      ]
    },
    {
      "cell_type": "code",
      "source": [
        "### acqFunc attribute x, stddev: run number = 1\n",
        "\n",
        "acqFuncgp_gp_1 = acqFuncExact(gp_1.history)\n",
        "acqFuncstp_stp_1 = acqFuncExact(stp_1.history)\n",
        "\n",
        "e1 = np.mean(acqFuncstp_stp_1)\n",
        "a1 = np.mean(acqFuncgp_gp_1)\n",
        "\n",
        "e1, a1\n"
      ],
      "metadata": {
        "colab": {
          "base_uri": "https://localhost:8080/"
        },
        "id": "uwxv4dmfGsLr",
        "outputId": "fd274d53-0105-4da3-f296-abd73c448a98"
      },
      "execution_count": 100,
      "outputs": [
        {
          "output_type": "execute_result",
          "data": {
            "text/plain": [
              "(2.906523897881339, 3.3492140909575907)"
            ]
          },
          "metadata": {},
          "execution_count": 100
        }
      ]
    },
    {
      "cell_type": "code",
      "source": [
        "### acqFunc attribute x, stddev: run number = 2\n",
        "\n",
        "acqFuncgp_gp_2 = acqFuncExact(gp_2.history)\n",
        "acqFuncstp_stp_2 = acqFuncExact(stp_2.history)\n",
        "\n",
        "e2 = np.mean(acqFuncstp_stp_2)\n",
        "a2 = np.mean(acqFuncgp_gp_2)\n",
        "\n",
        "e2, a2\n"
      ],
      "metadata": {
        "colab": {
          "base_uri": "https://localhost:8080/"
        },
        "id": "0YSV00_pGsXe",
        "outputId": "b03f6ef2-c72f-41a4-bd7a-dff903830dc6"
      },
      "execution_count": 101,
      "outputs": [
        {
          "output_type": "execute_result",
          "data": {
            "text/plain": [
              "(3.006833834014953, 3.2245137881800345)"
            ]
          },
          "metadata": {},
          "execution_count": 101
        }
      ]
    },
    {
      "cell_type": "code",
      "source": [
        "### acqFunc attribute x, stddev: run number = 3\n",
        "\n",
        "acqFuncgp_gp_3 = acqFuncExact(gp_3.history)\n",
        "acqFuncstp_stp_3 = acqFuncExact(stp_3.history)\n",
        "\n",
        "e3 = np.mean(acqFuncstp_stp_3)\n",
        "a3 = np.mean(acqFuncgp_gp_3)\n",
        "\n",
        "e3, a3\n"
      ],
      "metadata": {
        "colab": {
          "base_uri": "https://localhost:8080/"
        },
        "id": "HHVmsd2UGsjT",
        "outputId": "8778e31a-cfa4-4ab9-cbb5-aba738485a4a"
      },
      "execution_count": 102,
      "outputs": [
        {
          "output_type": "execute_result",
          "data": {
            "text/plain": [
              "(2.964068168480085, 3.123013057232993)"
            ]
          },
          "metadata": {},
          "execution_count": 102
        }
      ]
    },
    {
      "cell_type": "code",
      "source": [
        "### acqFunc attribute x, stddev: run number = 4\n",
        "\n",
        "acqFuncgp_gp_4 = acqFuncExact(gp_4.history)\n",
        "acqFuncstp_stp_4 = acqFuncExact(stp_4.history)\n",
        "\n",
        "e4 = np.mean(acqFuncstp_stp_4)\n",
        "a4 = np.mean(acqFuncgp_gp_4)\n",
        "\n",
        "e4, a4\n"
      ],
      "metadata": {
        "colab": {
          "base_uri": "https://localhost:8080/"
        },
        "id": "r7O19S2eGsu7",
        "outputId": "635eb91a-bee4-462c-930c-cb5104d29e48"
      },
      "execution_count": 103,
      "outputs": [
        {
          "output_type": "execute_result",
          "data": {
            "text/plain": [
              "(2.849981332753422, 2.8961652098400132)"
            ]
          },
          "metadata": {},
          "execution_count": 103
        }
      ]
    },
    {
      "cell_type": "code",
      "source": [
        "### acqFunc attribute x, stddev: run number = 5\n",
        "\n",
        "acqFuncgp_gp_5 = acqFuncExact(gp_5.history)\n",
        "acqFuncstp_stp_5 = acqFuncExact(stp_5.history)\n",
        "\n",
        "e5 = np.mean(acqFuncstp_stp_5)\n",
        "a5 = np.mean(acqFuncgp_gp_5)\n",
        "\n",
        "e5, a5\n"
      ],
      "metadata": {
        "colab": {
          "base_uri": "https://localhost:8080/"
        },
        "id": "sdb9o6NuGs5m",
        "outputId": "70b4f7a8-c38d-44f4-d421-02bd0b1f413f"
      },
      "execution_count": 104,
      "outputs": [
        {
          "output_type": "execute_result",
          "data": {
            "text/plain": [
              "(3.0233469988555255, 3.0724338005809657)"
            ]
          },
          "metadata": {},
          "execution_count": 104
        }
      ]
    },
    {
      "cell_type": "code",
      "source": [
        "### acqFunc attribute x, stddev: run number = 6\n",
        "\n",
        "acqFuncgp_gp_6 = acqFuncExact(gp_6.history)\n",
        "acqFuncstp_stp_6 = acqFuncExact(stp_6.history)\n",
        "\n",
        "e6 = np.mean(acqFuncstp_stp_6)\n",
        "a6 = np.mean(acqFuncgp_gp_6)\n",
        "\n",
        "e6, a6\n"
      ],
      "metadata": {
        "colab": {
          "base_uri": "https://localhost:8080/"
        },
        "id": "COQl7LZ8GtE0",
        "outputId": "df350c8a-450b-4fe5-d657-7ccd16df44f6"
      },
      "execution_count": 105,
      "outputs": [
        {
          "output_type": "execute_result",
          "data": {
            "text/plain": [
              "(2.998579511086141, 3.109850755208984)"
            ]
          },
          "metadata": {},
          "execution_count": 105
        }
      ]
    },
    {
      "cell_type": "code",
      "source": [
        "### acqFunc attribute x, stddev: run number = 7\n",
        "\n",
        "acqFuncgp_gp_7 = acqFuncExact(gp_7.history)\n",
        "acqFuncstp_stp_7 = acqFuncExact(stp_7.history)\n",
        "\n",
        "e7 = np.mean(acqFuncstp_stp_7)\n",
        "a7 = np.mean(acqFuncgp_gp_7)\n",
        "\n",
        "e7, a7\n"
      ],
      "metadata": {
        "colab": {
          "base_uri": "https://localhost:8080/"
        },
        "id": "2gy9EtTzGtP7",
        "outputId": "ea959e75-44c3-4347-c118-043426aa98c5"
      },
      "execution_count": 106,
      "outputs": [
        {
          "output_type": "execute_result",
          "data": {
            "text/plain": [
              "(2.9945226008416532, 3.2815798325879606)"
            ]
          },
          "metadata": {},
          "execution_count": 106
        }
      ]
    },
    {
      "cell_type": "code",
      "source": [
        "### acqFunc attribute x, stddev: run number = 8\n",
        "\n",
        "acqFuncgp_gp_8 = acqFuncExact(gp_8.history)\n",
        "acqFuncstp_stp_8 = acqFuncExact(stp_8.history)\n",
        "\n",
        "e8 = np.mean(acqFuncstp_stp_8)\n",
        "a8 = np.mean(acqFuncgp_gp_8)\n",
        "\n",
        "e8, a8\n"
      ],
      "metadata": {
        "colab": {
          "base_uri": "https://localhost:8080/"
        },
        "id": "S7mn0qoMGtbM",
        "outputId": "570c5fcd-9d4c-419d-ce80-980dbde6bd83"
      },
      "execution_count": 107,
      "outputs": [
        {
          "output_type": "execute_result",
          "data": {
            "text/plain": [
              "(3.0302425396892945, 3.0379819093539338)"
            ]
          },
          "metadata": {},
          "execution_count": 107
        }
      ]
    },
    {
      "cell_type": "code",
      "source": [
        "### acqFunc attribute x, stddev: run number = 9\n",
        "\n",
        "acqFuncgp_gp_9 = acqFuncExact(gp_9.history)\n",
        "acqFuncstp_stp_9 = acqFuncExact(stp_9.history)\n",
        "\n",
        "e9 = np.mean(acqFuncstp_stp_9)\n",
        "a9 = np.mean(acqFuncgp_gp_9)\n",
        "\n",
        "e9, a9\n"
      ],
      "metadata": {
        "colab": {
          "base_uri": "https://localhost:8080/"
        },
        "id": "BhljmkNxGtms",
        "outputId": "2319590b-56b1-492f-be61-b457d3ac2e62"
      },
      "execution_count": 108,
      "outputs": [
        {
          "output_type": "execute_result",
          "data": {
            "text/plain": [
              "(2.8186144860924833, 2.9830517288330474)"
            ]
          },
          "metadata": {},
          "execution_count": 108
        }
      ]
    },
    {
      "cell_type": "code",
      "source": [
        "### acqFunc attribute x, stddev: run number = 10\n",
        "\n",
        "acqFuncgp_gp_10 = acqFuncExact(gp_10.history)\n",
        "acqFuncstp_stp_10 = acqFuncExact(stp_10.history)\n",
        "\n",
        "e10 = np.mean(acqFuncstp_stp_10)\n",
        "a10 = np.mean(acqFuncgp_gp_10)\n",
        "\n",
        "e10, a10\n"
      ],
      "metadata": {
        "colab": {
          "base_uri": "https://localhost:8080/"
        },
        "id": "W5GZo6k3Gtx8",
        "outputId": "4edc74fa-1cbd-4883-a58f-ca3dc4c71650"
      },
      "execution_count": 109,
      "outputs": [
        {
          "output_type": "execute_result",
          "data": {
            "text/plain": [
              "(2.9496411141872905, 3.163426095291605)"
            ]
          },
          "metadata": {},
          "execution_count": 109
        }
      ]
    },
    {
      "cell_type": "code",
      "source": [
        "### acqFunc attribute x, stddev: run number = 11\n",
        "\n",
        "acqFuncgp_gp_11 = acqFuncExact(gp_11.history)\n",
        "acqFuncstp_stp_11 = acqFuncExact(stp_11.history)\n",
        "\n",
        "e11 = np.mean(acqFuncstp_stp_11)\n",
        "a11 = np.mean(acqFuncgp_gp_11)\n",
        "\n",
        "e11, a11\n"
      ],
      "metadata": {
        "colab": {
          "base_uri": "https://localhost:8080/"
        },
        "id": "isKNhDk5Gt9D",
        "outputId": "e5ec8163-d0a1-4201-d768-0c0babbc87b6"
      },
      "execution_count": 110,
      "outputs": [
        {
          "output_type": "execute_result",
          "data": {
            "text/plain": [
              "(3.0360282069262543, 3.132783420855364)"
            ]
          },
          "metadata": {},
          "execution_count": 110
        }
      ]
    },
    {
      "cell_type": "code",
      "source": [
        "### acqFunc attribute x, stddev: run number = 12\n",
        "\n",
        "acqFuncgp_gp_12 = acqFuncExact(gp_12.history)\n",
        "acqFuncstp_stp_12 = acqFuncExact(stp_12.history)\n",
        "\n",
        "e12 = np.mean(acqFuncstp_stp_12)\n",
        "a12 = np.mean(acqFuncgp_gp_12)\n",
        "\n",
        "e12, a12\n"
      ],
      "metadata": {
        "colab": {
          "base_uri": "https://localhost:8080/"
        },
        "id": "8ts-wrSuGuIm",
        "outputId": "91781408-032f-4c7f-bce2-520b41620db1"
      },
      "execution_count": 111,
      "outputs": [
        {
          "output_type": "execute_result",
          "data": {
            "text/plain": [
              "(2.766740398256033, 2.9354128346115327)"
            ]
          },
          "metadata": {},
          "execution_count": 111
        }
      ]
    },
    {
      "cell_type": "code",
      "source": [
        "### acqFunc attribute x, stddev: run number = 13\n",
        "\n",
        "acqFuncgp_gp_13 = acqFuncExact(gp_13.history)\n",
        "acqFuncstp_stp_13 = acqFuncExact(stp_13.history)\n",
        "\n",
        "e13 = np.mean(acqFuncstp_stp_13)\n",
        "a13 = np.mean(acqFuncgp_gp_13)\n",
        "\n",
        "e13, a13\n"
      ],
      "metadata": {
        "colab": {
          "base_uri": "https://localhost:8080/"
        },
        "id": "n0drhEe3GuUL",
        "outputId": "055a061f-89cb-461e-c5d6-50cfc106c675"
      },
      "execution_count": 112,
      "outputs": [
        {
          "output_type": "execute_result",
          "data": {
            "text/plain": [
              "(2.9628302654643788, 3.0985281571377494)"
            ]
          },
          "metadata": {},
          "execution_count": 112
        }
      ]
    },
    {
      "cell_type": "code",
      "source": [
        "### acqFunc attribute x, stddev: run number = 14\n",
        "\n",
        "acqFuncgp_gp_14 = acqFuncExact(gp_14.history)\n",
        "acqFuncstp_stp_14 = acqFuncExact(stp_14.history)\n",
        "\n",
        "e14 = np.mean(acqFuncstp_stp_14)\n",
        "a14 = np.mean(acqFuncgp_gp_14)\n",
        "\n",
        "e14, a14\n"
      ],
      "metadata": {
        "colab": {
          "base_uri": "https://localhost:8080/"
        },
        "id": "R0W3MZaVGues",
        "outputId": "994ebd54-402a-4599-8ffb-ebb6a3798bab"
      },
      "execution_count": 113,
      "outputs": [
        {
          "output_type": "execute_result",
          "data": {
            "text/plain": [
              "(2.8756062649537673, 2.9697913472562956)"
            ]
          },
          "metadata": {},
          "execution_count": 113
        }
      ]
    },
    {
      "cell_type": "code",
      "source": [
        "### acqFunc attribute x, stddev: run number = 15\n",
        "\n",
        "acqFuncgp_gp_15 = acqFuncExact(gp_15.history)\n",
        "acqFuncstp_stp_15 = acqFuncExact(stp_15.history)\n",
        "\n",
        "e15 = np.mean(acqFuncstp_stp_15)\n",
        "a15 = np.mean(acqFuncgp_gp_15)\n",
        "\n",
        "e15, a15\n"
      ],
      "metadata": {
        "colab": {
          "base_uri": "https://localhost:8080/"
        },
        "id": "DoXdDFHoGup-",
        "outputId": "476646ff-d2e0-4191-f0ea-6dddc610b1dd"
      },
      "execution_count": 114,
      "outputs": [
        {
          "output_type": "execute_result",
          "data": {
            "text/plain": [
              "(2.825747955887124, 3.008083122575593)"
            ]
          },
          "metadata": {},
          "execution_count": 114
        }
      ]
    },
    {
      "cell_type": "code",
      "source": [
        "### acqFunc attribute x, stddev: run number = 16\n",
        "\n",
        "acqFuncgp_gp_16 = acqFuncExact(gp_16.history)\n",
        "acqFuncstp_stp_16 = acqFuncExact(stp_16.history)\n",
        "\n",
        "e16 = np.mean(acqFuncstp_stp_16)\n",
        "a16 = np.mean(acqFuncgp_gp_16)\n",
        "\n",
        "e16, a16\n"
      ],
      "metadata": {
        "colab": {
          "base_uri": "https://localhost:8080/"
        },
        "id": "K_wAeqSoGu2j",
        "outputId": "2547a0c2-b9ad-46bd-9f36-dfd1de9e4a76"
      },
      "execution_count": 115,
      "outputs": [
        {
          "output_type": "execute_result",
          "data": {
            "text/plain": [
              "(2.9357091640996513, 2.9601207943626653)"
            ]
          },
          "metadata": {},
          "execution_count": 115
        }
      ]
    },
    {
      "cell_type": "code",
      "source": [
        "### acqFunc attribute x, stddev: run number = 17\n",
        "\n",
        "acqFuncgp_gp_17 = acqFuncExact(gp_17.history)\n",
        "acqFuncstp_stp_17 = acqFuncExact(stp_17.history)\n",
        "\n",
        "e17 = np.mean(acqFuncstp_stp_17)\n",
        "a17 = np.mean(acqFuncgp_gp_17)\n",
        "\n",
        "e17, a17\n"
      ],
      "metadata": {
        "colab": {
          "base_uri": "https://localhost:8080/"
        },
        "id": "n6zy78fjGvBT",
        "outputId": "9c6c6718-be4e-4aef-e8d8-98c38ec393c3"
      },
      "execution_count": 116,
      "outputs": [
        {
          "output_type": "execute_result",
          "data": {
            "text/plain": [
              "(2.9419734458267843, 3.0894076932832926)"
            ]
          },
          "metadata": {},
          "execution_count": 116
        }
      ]
    },
    {
      "cell_type": "code",
      "source": [
        "### acqFunc attribute x, stddev: run number = 18\n",
        "\n",
        "acqFuncgp_gp_18 = acqFuncExact(gp_18.history)\n",
        "acqFuncstp_stp_18 = acqFuncExact(stp_18.history)\n",
        "\n",
        "e18 = np.mean(acqFuncstp_stp_18)\n",
        "a18 = np.mean(acqFuncgp_gp_18)\n",
        "\n",
        "e18, a18\n"
      ],
      "metadata": {
        "colab": {
          "base_uri": "https://localhost:8080/"
        },
        "id": "s_6_2K4iGvM-",
        "outputId": "8be3f51e-6fe5-4925-96e9-89c1dd1e9026"
      },
      "execution_count": 117,
      "outputs": [
        {
          "output_type": "execute_result",
          "data": {
            "text/plain": [
              "(2.941981868079542, 3.318487960175029)"
            ]
          },
          "metadata": {},
          "execution_count": 117
        }
      ]
    },
    {
      "cell_type": "code",
      "source": [
        "### acqFunc attribute x, stddev: run number = 19\n",
        "\n",
        "acqFuncgp_gp_19 = acqFuncExact(gp_19.history)\n",
        "acqFuncstp_stp_19 = acqFuncExact(stp_19.history)\n",
        "\n",
        "e19 = np.mean(acqFuncstp_stp_19)\n",
        "a19 = np.mean(acqFuncgp_gp_19)\n",
        "\n",
        "e19, a19\n"
      ],
      "metadata": {
        "colab": {
          "base_uri": "https://localhost:8080/"
        },
        "id": "o8oO8pdBGvYk",
        "outputId": "1706a99b-437c-4dcf-e685-1c68cbe91d7b"
      },
      "execution_count": 118,
      "outputs": [
        {
          "output_type": "execute_result",
          "data": {
            "text/plain": [
              "(2.9876597603176913, 3.038205150547778)"
            ]
          },
          "metadata": {},
          "execution_count": 118
        }
      ]
    },
    {
      "cell_type": "code",
      "source": [
        "### acqFunc attribute x, stddev: run number = 20\n",
        "\n",
        "acqFuncgp_gp_20 = acqFuncExact(gp_20.history)\n",
        "acqFuncstp_stp_20 = acqFuncExact(stp_20.history)\n",
        "\n",
        "e20 = np.mean(acqFuncstp_stp_20)\n",
        "a20 = np.mean(acqFuncgp_gp_20)\n",
        "\n",
        "e20, a20\n"
      ],
      "metadata": {
        "colab": {
          "base_uri": "https://localhost:8080/"
        },
        "id": "b2w8oLc0IMzU",
        "outputId": "95b2a136-9f9e-4bdc-a1a0-67aeafb0c9d5"
      },
      "execution_count": 119,
      "outputs": [
        {
          "output_type": "execute_result",
          "data": {
            "text/plain": [
              "(2.944664374689963, 3.084657903812386)"
            ]
          },
          "metadata": {},
          "execution_count": 119
        }
      ]
    },
    {
      "cell_type": "code",
      "source": [
        "### Summarize arrays: \n",
        "\n",
        "stp_stddev = np.sort([e1,e2,e3,e4,e5,e6,e7,e8,e9,e10,e11,e12,e13,e14,e15,e16,e17,e18,e19,e20])\n",
        "gp_stddev = np.sort([a1,a2,a3,a4,a5,a6,a7,a8,a9,a10,a11,a12,a13,a14,a15,a16,a17,a18,a19,a20])\n",
        "\n",
        "np.mean(stp_stddev), np.mean(gp_stddev)\n"
      ],
      "metadata": {
        "colab": {
          "base_uri": "https://localhost:8080/"
        },
        "id": "qAZs3yxMIZul",
        "outputId": "f4ddf98c-8792-41b5-fb37-57894bb17fa0"
      },
      "execution_count": 120,
      "outputs": [
        {
          "output_type": "execute_result",
          "data": {
            "text/plain": [
              "(2.938064809419169, 3.0938354326342403)"
            ]
          },
          "metadata": {},
          "execution_count": 120
        }
      ]
    },
    {
      "cell_type": "code",
      "source": [
        "### Visualise!\n",
        "\n",
        "title = func\n",
        "plt.figure()\n",
        "\n",
        "plt.plot(gp_stddev, color = 'Red', ls='--', label='Average $\\sigma$, attribute $\\mathbf{x}$: Exact GP dEI gradients')\n",
        "plt.plot(stp_stddev, color = 'Red', ls='-', label='Average $\\sigma$, attribute $\\mathbf{x}$: Exact STP dEI gradients')\n",
        "\n",
        "plt.title(title, weight = 'bold')\n",
        "plt.xlabel('Function evaluations: iteration $\\it{k}$', weight = 'bold')\n",
        "plt.ylabel('GP EI, STP EI: Average $\\sigma$, attribute $\\mathbf{x}$', weight = 'bold') \n",
        "plt.legend(loc=0) # add plot legend\n",
        "\n",
        "### Make the x-ticks integers, not floats:\n",
        "count = len(xstar)\n",
        "plt.xticks(np.arange(count), np.arange(1, count))\n",
        "plt.show() #visualize!\n"
      ],
      "metadata": {
        "colab": {
          "base_uri": "https://localhost:8080/",
          "height": 297
        },
        "id": "e_kpqYcMIZxu",
        "outputId": "a4697dfd-f336-4ddd-cca2-2e4b0a2e05cf"
      },
      "execution_count": 121,
      "outputs": [
        {
          "output_type": "display_data",
          "data": {
            "text/plain": [
              "<Figure size 432x288 with 1 Axes>"
            ],
            "image/png": "[encoded data removed]"
          },
          "metadata": {
            "needs_background": "light"
          }
        }
      ]
    },
    {
      "cell_type": "code",
      "source": [],
      "metadata": {
        "id": "LToGd4vZIZ3I"
      },
      "execution_count": 121,
      "outputs": []
    }
  ],
  "metadata": {
    "colab": {
      "collapsed_sections": [],
      "provenance": []
    },
    "kernelspec": {
      "display_name": "Python 3",
      "name": "python3"
    },
    "language_info": {
      "name": "python"
    }
  },
  "nbformat": 4,
  "nbformat_minor": 0
}