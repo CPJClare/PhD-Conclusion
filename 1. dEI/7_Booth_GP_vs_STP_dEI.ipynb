{
  "cells": [
    {
      "cell_type": "markdown",
      "metadata": {
        "id": "Dqn4dFx7Z2Ir"
      },
      "source": [
        "\n",
        "Booth: 2D\n"
      ]
    },
    {
      "cell_type": "code",
      "execution_count": 1,
      "metadata": {
        "colab": {
          "base_uri": "https://localhost:8080/"
        },
        "id": "MJTM_GZZZb5x",
        "outputId": "12cdd3c3-52ed-4bf2-dd85-9c1296028ed7"
      },
      "outputs": [
        {
          "output_type": "stream",
          "name": "stdout",
          "text": [
            "Looking in indexes: https://pypi.org/simple, https://us-python.pkg.dev/colab-wheels/public/simple/\n",
            "Collecting pyGPGO\n",
            "  Downloading pyGPGO-0.5.1.tar.gz (14 kB)\n",
            "Requirement already satisfied: numpy in /usr/local/lib/python3.7/dist-packages (from pyGPGO) (1.21.6)\n",
            "Requirement already satisfied: mkl in /usr/local/lib/python3.7/dist-packages (from pyGPGO) (2019.0)\n",
            "Requirement already satisfied: scipy in /usr/local/lib/python3.7/dist-packages (from pyGPGO) (1.7.3)\n",
            "Requirement already satisfied: joblib in /usr/local/lib/python3.7/dist-packages (from pyGPGO) (1.1.0)\n",
            "Requirement already satisfied: scikit-learn in /usr/local/lib/python3.7/dist-packages (from pyGPGO) (1.0.2)\n",
            "Collecting Theano-PyMC\n",
            "  Downloading Theano-PyMC-1.1.2.tar.gz (1.8 MB)\n",
            "\u001b[K     |████████████████████████████████| 1.8 MB 9.2 MB/s \n",
            "\u001b[?25hCollecting pyMC3\n",
            "  Downloading pymc3-3.11.5-py3-none-any.whl (872 kB)\n",
            "\u001b[K     |████████████████████████████████| 872 kB 56.0 MB/s \n",
            "\u001b[?25hRequirement already satisfied: intel-openmp in /usr/local/lib/python3.7/dist-packages (from mkl->pyGPGO) (2022.1.0)\n",
            "Requirement already satisfied: cachetools>=4.2.1 in /usr/local/lib/python3.7/dist-packages (from pyMC3->pyGPGO) (4.2.4)\n",
            "Collecting semver>=2.13.0\n",
            "  Downloading semver-2.13.0-py2.py3-none-any.whl (12 kB)\n",
            "Collecting deprecat\n",
            "  Downloading deprecat-2.1.1-py2.py3-none-any.whl (9.8 kB)\n",
            "Requirement already satisfied: pandas>=0.24.0 in /usr/local/lib/python3.7/dist-packages (from pyMC3->pyGPGO) (1.3.5)\n",
            "Requirement already satisfied: patsy>=0.5.1 in /usr/local/lib/python3.7/dist-packages (from pyMC3->pyGPGO) (0.5.2)\n",
            "Requirement already satisfied: arviz>=0.11.0 in /usr/local/lib/python3.7/dist-packages (from pyMC3->pyGPGO) (0.12.1)\n",
            "Requirement already satisfied: typing-extensions>=3.7.4 in /usr/local/lib/python3.7/dist-packages (from pyMC3->pyGPGO) (4.1.1)\n",
            "Requirement already satisfied: fastprogress>=0.2.0 in /usr/local/lib/python3.7/dist-packages (from pyMC3->pyGPGO) (1.0.3)\n",
            "Requirement already satisfied: dill in /usr/local/lib/python3.7/dist-packages (from pyMC3->pyGPGO) (0.3.5.1)\n",
            "Requirement already satisfied: filelock in /usr/local/lib/python3.7/dist-packages (from Theano-PyMC->pyGPGO) (3.8.0)\n",
            "Requirement already satisfied: xarray>=0.16.1 in /usr/local/lib/python3.7/dist-packages (from arviz>=0.11.0->pyMC3->pyGPGO) (0.20.2)\n",
            "Requirement already satisfied: packaging in /usr/local/lib/python3.7/dist-packages (from arviz>=0.11.0->pyMC3->pyGPGO) (21.3)\n",
            "Requirement already satisfied: xarray-einstats>=0.2 in /usr/local/lib/python3.7/dist-packages (from arviz>=0.11.0->pyMC3->pyGPGO) (0.2.2)\n",
            "Requirement already satisfied: setuptools>=38.4 in /usr/local/lib/python3.7/dist-packages (from arviz>=0.11.0->pyMC3->pyGPGO) (57.4.0)\n",
            "Requirement already satisfied: netcdf4 in /usr/local/lib/python3.7/dist-packages (from arviz>=0.11.0->pyMC3->pyGPGO) (1.6.0)\n",
            "Requirement already satisfied: matplotlib>=3.0 in /usr/local/lib/python3.7/dist-packages (from arviz>=0.11.0->pyMC3->pyGPGO) (3.2.2)\n",
            "Requirement already satisfied: kiwisolver>=1.0.1 in /usr/local/lib/python3.7/dist-packages (from matplotlib>=3.0->arviz>=0.11.0->pyMC3->pyGPGO) (1.4.4)\n",
            "Requirement already satisfied: pyparsing!=2.0.4,!=2.1.2,!=2.1.6,>=2.0.1 in /usr/local/lib/python3.7/dist-packages (from matplotlib>=3.0->arviz>=0.11.0->pyMC3->pyGPGO) (3.0.9)\n",
            "Requirement already satisfied: cycler>=0.10 in /usr/local/lib/python3.7/dist-packages (from matplotlib>=3.0->arviz>=0.11.0->pyMC3->pyGPGO) (0.11.0)\n",
            "Requirement already satisfied: python-dateutil>=2.1 in /usr/local/lib/python3.7/dist-packages (from matplotlib>=3.0->arviz>=0.11.0->pyMC3->pyGPGO) (2.8.2)\n",
            "Requirement already satisfied: pytz>=2017.3 in /usr/local/lib/python3.7/dist-packages (from pandas>=0.24.0->pyMC3->pyGPGO) (2022.2.1)\n",
            "Requirement already satisfied: six in /usr/local/lib/python3.7/dist-packages (from patsy>=0.5.1->pyMC3->pyGPGO) (1.15.0)\n",
            "Requirement already satisfied: importlib-metadata in /usr/local/lib/python3.7/dist-packages (from xarray>=0.16.1->arviz>=0.11.0->pyMC3->pyGPGO) (4.12.0)\n",
            "Requirement already satisfied: wrapt<2,>=1.10 in /usr/local/lib/python3.7/dist-packages (from deprecat->pyMC3->pyGPGO) (1.14.1)\n",
            "Requirement already satisfied: zipp>=0.5 in /usr/local/lib/python3.7/dist-packages (from importlib-metadata->xarray>=0.16.1->arviz>=0.11.0->pyMC3->pyGPGO) (3.8.1)\n",
            "Requirement already satisfied: cftime in /usr/local/lib/python3.7/dist-packages (from netcdf4->arviz>=0.11.0->pyMC3->pyGPGO) (1.6.1)\n",
            "Requirement already satisfied: threadpoolctl>=2.0.0 in /usr/local/lib/python3.7/dist-packages (from scikit-learn->pyGPGO) (3.1.0)\n",
            "Building wheels for collected packages: pyGPGO, Theano-PyMC\n",
            "  Building wheel for pyGPGO (setup.py) ... \u001b[?25l\u001b[?25hdone\n",
            "  Created wheel for pyGPGO: filename=pyGPGO-0.5.1-py3-none-any.whl size=19879 sha256=8a0702caf54a8c109d1dd7e3efdcac4268a8a0134b3457818568034ba4f68c77\n",
            "  Stored in directory: /root/.cache/pip/wheels/c8/5d/0b/2160114e2f1b87791c51b66cf07f89831dbb6f49167950316f\n",
            "  Building wheel for Theano-PyMC (setup.py) ... \u001b[?25l\u001b[?25hdone\n",
            "  Created wheel for Theano-PyMC: filename=Theano_PyMC-1.1.2-py3-none-any.whl size=1529963 sha256=48361085e09f56c783e63e10562f5fefb4c83b0d8214b708bc64e0bf6e574a8a\n",
            "  Stored in directory: /root/.cache/pip/wheels/f3/af/8c/5dd7553522d74c52a7813806fc7ee1a9caa20a3f7c8fd850d5\n",
            "Successfully built pyGPGO Theano-PyMC\n",
            "Installing collected packages: Theano-PyMC, semver, deprecat, pyMC3, pyGPGO\n",
            "Successfully installed Theano-PyMC-1.1.2 deprecat-2.1.1 pyGPGO-0.5.1 pyMC3-3.11.5 semver-2.13.0\n"
          ]
        }
      ],
      "source": [
        "pip install pyGPGO\n"
      ]
    },
    {
      "cell_type": "code",
      "execution_count": 2,
      "metadata": {
        "id": "ZJSSPbwPaEUB"
      },
      "outputs": [],
      "source": [
        "### 1. Import python modules/packages required:\n",
        "\n",
        "import numpy as np\n",
        "import pandas as pd\n",
        "import scipy as sp\n",
        "import matplotlib.pyplot as plt\n",
        "import warnings\n",
        "import itertools\n",
        "import seaborn as sns\n",
        "import time\n",
        "\n",
        "from pyGPGO.GPGO import GPGO\n",
        "from pyGPGO.surrogates.GaussianProcess import GaussianProcess\n",
        "from pyGPGO.surrogates.tStudentProcess import tStudentProcess\n",
        "from pyGPGO.acquisition import Acquisition\n",
        "from pyGPGO.covfunc import squaredExponential\n",
        "from joblib import Parallel, delayed\n",
        "from scipy.linalg import inv\n",
        "from scipy.spatial.distance import cdist\n",
        "from scipy.optimize import minimize\n",
        "from scipy.stats import norm, t\n",
        "from mpl_toolkits.axes_grid1.inset_locator import inset_axes, mark_inset\n",
        "\n",
        "warnings.filterwarnings(\"ignore\", category=RuntimeWarning)\n"
      ]
    },
    {
      "cell_type": "code",
      "execution_count": 3,
      "metadata": {
        "id": "OeYcTUNoaJWa"
      },
      "outputs": [],
      "source": [
        "### Inputs:\n",
        "\n",
        "func = 'Booth'\n",
        "n_test = 500\n",
        "eps = 1e-08\n",
        "\n",
        "util_gp = 'EI_gp'\n",
        "util_stp = 'EI_stp'\n",
        "\n",
        "n_init = 5 # random initialisations\n",
        "iters = 20\n",
        "opt = True\n",
        "\n",
        "df = 3"
      ]
    },
    {
      "cell_type": "code",
      "execution_count": 4,
      "metadata": {
        "id": "xpaEOjdzaPMS"
      },
      "outputs": [],
      "source": [
        "### Objective Function - Booth(x) 2-D:\n",
        "\n",
        "def objfunc(x1_training, x2_training):\n",
        "            return  operator * ( (x1_training + 2 * x2_training -7) ** 2 +\n",
        "                                 (2 * x1_training + x2_training -5) ** 2\n",
        "                            )\n",
        "        \n",
        "# Constraints:\n",
        "lb = -10\n",
        "ub = +10\n",
        "    \n",
        "# Input array dimension(s):\n",
        "dim = 2\n",
        "\n",
        "# 2-D inputs' parameter bounds:\n",
        "param = {'x1_training': ('cont', [lb, ub]),\n",
        "                 'x2_training': ('cont', [lb, ub])\n",
        "                 }\n",
        "    \n",
        "# True y bounds:\n",
        "y_lb = 0\n",
        "operator = -1 # targets global minimum \n",
        "y_global_orig = y_lb * operator # targets global minimum\n",
        "    \n",
        "# Test data:\n",
        "x1_test = np.linspace(lb, ub, n_test)\n",
        "x2_test = np.linspace(lb, ub, n_test)\n",
        "x_test = np.column_stack((x1_test, x2_test))"
      ]
    },
    {
      "cell_type": "code",
      "execution_count": 5,
      "metadata": {
        "id": "eYpI3Zm4aGxi"
      },
      "outputs": [],
      "source": [
        "n_start_AcqFunc = iters\n",
        "inverse = -1\n"
      ]
    },
    {
      "cell_type": "code",
      "execution_count": 6,
      "metadata": {
        "id": "oO_GUmOoaV0T"
      },
      "outputs": [],
      "source": [
        "### Cumulative Regret Calculators:\n",
        "\n",
        "def min_max_array(x):\n",
        "    new_list = []\n",
        "    for i, num in enumerate(x):\n",
        "            new_list.append(np.min(x[0:i+1]))\n",
        "    return new_list\n",
        "  \n",
        "def acqFuncExact(x):\n",
        "    new_array = []\n",
        "    x = np.array(x) \n",
        "    for i, num in enumerate(x):\n",
        "            new_array = x[:-2][::-3]\n",
        "    return new_array[::-1]\n",
        "\n",
        "def acqFuncApprox(x):\n",
        "    new_array = []\n",
        "    x = np.array(x) \n",
        "    for i, num in enumerate(x):\n",
        "            new_array = x[:-1][::-3]\n",
        "    return new_array[::-1]\n"
      ]
    },
    {
      "cell_type": "code",
      "execution_count": 7,
      "metadata": {
        "id": "kuuJx0IMam9S"
      },
      "outputs": [],
      "source": [
        "### Surrogate derivatives: \n",
        "\n",
        "cov_func = squaredExponential()\n",
        "\n",
        "def kronDelta(X, Xstar):                     # Kronecker's Delta method\n",
        "    return cdist(X, Xstar) < np.finfo(np.float32).eps\n",
        "\n",
        "def se(X, Xstar, sigmaf, l, sigman):         # S.E. kernel method\n",
        "    return sigmaf * np.exp(-0.5 * cdist(X, Xstar) ** 2 / l ** 2) + sigman * kronDelta(X, Xstar)\n",
        "\n",
        "def delta(X, Xstar):                         # Distance between training X and test Xstar vectors\n",
        "    return (X - Xstar)\n",
        "   \n",
        "def der_covmat(X, Xstar, sigmaf, l, sigman): # Covariance matrix derivative terms (i.e. exact, first-order)\n",
        "    nx = len(X)\n",
        "    ny = len(Xstar)\n",
        "    return np.round(np.array([(delta(np.atleast_2d(i), np.atleast_2d(j))[0] * se(np.atleast_2d(i), np.atleast_2d(j), sigmaf, l, sigman)[0]).sum() for (i, j) in itertools.product(X, Xstar)]).reshape(nx, ny), 8)\n",
        "\n",
        "class dGaussianProcess(GaussianProcess):    # Via inheritance, also optimises hyperparameters when opt = TRUE\n",
        "    \n",
        "    def AcqGrad(self, Xstar):               # Method returning exact, first-order derivatives of the GP's posterior mean and standard deviation\n",
        "        Xstar = np.atleast_2d(Xstar)\n",
        "        Kstar = self.covfunc.K(self.X, Xstar).T\n",
        "        \n",
        "        dKstar = der_covmat(self.X, Xstar, self.covfunc.sigmaf, self.covfunc.l, self.covfunc.sigman).T\n",
        "        alpha_Kstar = np.dot(np.linalg.inv(self.K + (self.covfunc.sigman**2) * np.eye(len(self.X))), Kstar.T)\n",
        "        \n",
        "        dm = np.dot(dKstar, self.alpha)\n",
        "        ds = -2 * np.dot(dKstar, alpha_Kstar)\n",
        "        \n",
        "        return dm, ds   \n",
        "\n",
        "class dtStudentProcess(tStudentProcess):    # Via inheritance, also optimises hyperparameters when opt = TRUE\n",
        "    \n",
        "    def AcqGrad(self, Xstar):               # Method returning exact, first-order derivatives of the STP's posterior mean and standard deviation\n",
        "        Xstar = np.atleast_2d(Xstar)\n",
        "        Kstar = self.covfunc.K(self.X, Xstar).T\n",
        "        dKstar = der_covmat(self.X, Xstar, self.covfunc.sigmaf, self.covfunc.l, self.covfunc.sigman).T\n",
        "        \n",
        "        smd_adj = (self.nu + self.beta1 - 2) / (self.nu + self.n1 - 2)\n",
        "\n",
        "        alpha = np.dot(np.linalg.inv(self.K11 + (self.covfunc.sigman**2) * np.eye(len(self.X))), self.y)\n",
        "        alpha_Kstar = np.dot(np.linalg.inv(self.K11 + (self.covfunc.sigman**2) * np.eye(len(self.X))), Kstar.T)      \n",
        "        \n",
        "        dm = np.dot(dKstar, alpha)\n",
        "        ds = -2 * smd_adj * np.dot(dKstar, alpha_Kstar)\n",
        "        \n",
        "        return dm, ds \n",
        "        "
      ]
    },
    {
      "cell_type": "code",
      "execution_count": 8,
      "metadata": {
        "id": "_Dc3YVHVaXz7"
      },
      "outputs": [],
      "source": [
        "### Add exact acquisition function gradient as attribute:\n",
        "\n",
        "class Acquisition_grad(Acquisition):    \n",
        "    def __init__(self, mode, eps=eps, **params):\n",
        "        \n",
        "        self.params = params\n",
        "        self.eps = eps\n",
        "\n",
        "        mode_dict = {\n",
        "            'EI_stp': self.EI_stp,\n",
        "            'EI_gp': self.EI_gp,\n",
        "        }\n",
        "\n",
        "        self.f = mode_dict[mode]\n",
        "    \n",
        "    def EI_stp(self, tau, mean, std, ds, dm, nu=3.0):\n",
        "        gamma = (mean - tau - self.eps) / (std + self.eps)\n",
        "        gamma_h = (mean - tau) / (std + self.eps)\n",
        "        dsdx = ds / (2 * (std + self.eps))\n",
        "        dmdx = (dm - gamma * dsdx) / (std + self.eps)\n",
        "        \n",
        "        f = (std + self.eps) * (gamma * t.cdf(gamma, df=nu) + (nu + gamma ** 2)/(nu - 1) * t.pdf(gamma, df=nu))\n",
        "        df1 = f / (std + self.eps) * dsdx \n",
        "        df2 = (std + self.eps) * (t.cdf(gamma, df=nu) * dmdx + gamma * t.pdf(gamma, df=nu) \\\n",
        "            * (1 - (nu + gamma ** 2)/(nu - 1) + 2/(nu - 1) * dmdx))\n",
        "        df = (df1 + df2)[0]\n",
        "        df_arr = []\n",
        "\n",
        "        for j in range(0, dim):\n",
        "          df_arr.append(df)\n",
        "        return f, np.asarray(df_arr).transpose()\n",
        "        \n",
        "    def d_eval_stp(self, tau, mean, std, ds, dm, nu=3.0):\n",
        "    \n",
        "        return self.f(tau, mean, std, ds, dm, nu=3.0, **self.params)\n",
        "\n",
        "    def EI_gp(self, tau, mean, std, ds, dm):\n",
        "        gamma = (mean - tau - self.eps) / (std + self.eps)\n",
        "        gamma_h = (mean - tau) / (std + self.eps)\n",
        "        dsdx = ds / (2 * (std + self.eps))\n",
        "        dmdx = (dm - gamma * dsdx) / (std + self.eps)\n",
        "        \n",
        "        f = (std + self.eps) * (gamma * norm.cdf(gamma) + norm.pdf(gamma))\n",
        "        df1 = f / (std + self.eps) * dsdx \n",
        "        df2 = (std + self.eps) * norm.cdf(gamma) * dmdx\n",
        "        df = (df1 + df2)[0]\n",
        "        df_arr = []\n",
        "\n",
        "        for j in range(0, dim):\n",
        "          df_arr.append(df)\n",
        "        return f, np.asarray(df_arr).transpose()\n",
        "        \n",
        "    def d_eval_gp(self, tau, mean, std, ds, dm):\n",
        "    \n",
        "        return self.f(tau, mean, std, ds, dm, **self.params)\n",
        "        "
      ]
    },
    {
      "cell_type": "code",
      "execution_count": 9,
      "metadata": {
        "id": "b_B-w81BJxKN"
      },
      "outputs": [],
      "source": [
        "## dGPGO - Gaussian:\n",
        "\n",
        "class dGPGO_gp(GPGO):\n",
        "    n_start = n_start_AcqFunc\n",
        "\n",
        "    def __init__(self, surrogate, acquisition, f, parameter_dict, n_jobs=1):\n",
        "        self.GP = surrogate\n",
        "        self.A = acquisition\n",
        "        self.f = f\n",
        "        self.parameters = parameter_dict\n",
        "        self.n_jobs = n_jobs\n",
        "\n",
        "        self.parameter_key = list(parameter_dict.keys())\n",
        "        self.parameter_value = list(parameter_dict.values())\n",
        "        self.parameter_type = [p[0] for p in self.parameter_value]\n",
        "        self.parameter_range = [p[1] for p in self.parameter_value]\n",
        "\n",
        "        self.history = []\n",
        "        self.header =   'Evaluation \\t Proposed point \\t  Current eval. \\t  Best eval. \\t        Exact EI: StdDev. x \\t Approx EI: StdDev. x '\n",
        "        self.template = '{:3}\\t {}\\t {:3}\\t {:3}\\t {:3}\\t {:3}'\n",
        "\n",
        "    def acqfuncExact(self, xnew, n_start=n_start_AcqFunc):\n",
        "        new_mean, new_var = self.GP.predict(xnew, return_std=True)\n",
        "        new_std = np.sqrt(new_var + eps)\n",
        "        dm, ds = self.GP.AcqGrad(xnew)\n",
        "        f, df = self.A.d_eval_gp(self.tau, new_mean, new_std, ds=ds, dm=dm)\n",
        "\n",
        "        return -f, -df\n",
        "   \n",
        "    def acqfuncApprox(self, xnew, n_start=n_start_AcqFunc):\n",
        "        new_mean, new_var = self.GP.predict(xnew, return_std=True)\n",
        "        new_std = np.sqrt(new_var + eps)\n",
        "        dm, ds = self.GP.AcqGrad(xnew)\n",
        "        f, df = self.A.d_eval_gp(self.tau, new_mean, new_std, ds=ds, dm=dm)\n",
        "\n",
        "        return -f\n",
        "\n",
        "    def d_optimizeAcq(self, method='L-BFGS-B', n_start=n_start_AcqFunc):\n",
        "        start_points_dict = [self._sampleParam() for i in range(n_start)]\n",
        "        start_points_arr = np.array([list(s.values())\n",
        "                                     for s in start_points_dict])\n",
        "        x_best = np.empty((n_start, len(self.parameter_key)))\n",
        "        f_best = np.empty((n_start,))\n",
        "        opt = Parallel(n_jobs=self.n_jobs)(delayed(minimize)(self.acqfuncExact,\n",
        "                                                                 x0=start_point,\n",
        "                                                                 method=method,\n",
        "                                                                 jac = True,\n",
        "                                                                 bounds=self.parameter_range) for start_point in\n",
        "                                               start_points_arr)\n",
        "        x_best = np.array([res.x for res in opt])\n",
        "        f_best = np.array([np.atleast_1d(res.fun)[0] for res in opt])\n",
        "        f_best_min = min(f_best)\n",
        "\n",
        "        self.x_best = x_best\n",
        "        self.f_best = f_best\n",
        "        self.f_best_min = f_best_min\n",
        "        self.x_best_std = np.std(x_best)\n",
        "        self.best = x_best[np.argmin(f_best)]\n",
        "        self.start_points_arr = start_points_arr\n",
        "        self.history.append(self.x_best_std)\n",
        "\n",
        "        x_best_gp = np.empty((n_start, len(self.parameter_key)))\n",
        "        f_best_gp = np.empty((n_start,))\n",
        "        opt_gp = Parallel(n_jobs=self.n_jobs)(delayed(minimize)(self.acqfuncApprox,\n",
        "                                                                 x0=start_point,\n",
        "                                                                 method=method,\n",
        "                                                                 jac = False,\n",
        "                                                                 bounds=self.parameter_range) for start_point in\n",
        "                                               start_points_arr)\n",
        "        x_best_gp = np.array([res.x for res in opt_gp])\n",
        "        f_best_gp = np.array([np.atleast_1d(res.fun)[0] for res in opt_gp])\n",
        "        f_best_min_gp = min(f_best_gp)\n",
        "\n",
        "        self.x_best_gp = x_best_gp\n",
        "        self.f_best_gp = f_best_gp\n",
        "        self.f_best_min_gp = f_best_min_gp\n",
        "        self.x_best_std_gp = np.std(x_best_gp)\n",
        "        self.best_gp = x_best_gp[np.argmin(f_best_gp)]\n",
        "        self.start_points_arr = start_points_arr\n",
        "        self.history.append(self.x_best_std_gp)\n",
        "    \n",
        "    def _printInit(self):\n",
        "        print(self.header)\n",
        "        for init_eval in range(self.init_evals):\n",
        "            print(self.template.format('init', self.GP.X[init_eval], inverse * self.GP.y[init_eval], inverse * self.tau, '', ''))\n",
        "      \n",
        "    def _printCurrent(self):\n",
        "        OKGREEN = '\\033[92m'\n",
        "        ENDC = '\\033[0m'\n",
        "        BOLD = '\\033[1m'\n",
        "        eval = str(len(self.GP.y) - self.init_evals)\n",
        "        proposed = str(self.best)\n",
        "        curr_eval = str(inverse * self.GP.y[-1])\n",
        "        curr_best = str(inverse * self.tau)\n",
        "        min_acqfunc = str(self.f_best_min)\n",
        "        min_acqfunc_gp = str(self.f_best_min_gp)\n",
        "        x_best_std = str(self.x_best_std)\n",
        "        x_best_std_gp = str(self.x_best_std_gp)\n",
        "        if float(curr_eval) <= float(curr_best):\n",
        "            eval = BOLD + OKGREEN + eval + ENDC\n",
        "            proposed = BOLD + OKGREEN + proposed + ENDC\n",
        "            curr_eval = BOLD + OKGREEN + curr_eval + ENDC\n",
        "            curr_best = BOLD + OKGREEN + curr_best + ENDC\n",
        "            x_best_std = BOLD + OKGREEN + x_best_std + ENDC\n",
        "            x_best_std_gp = BOLD + OKGREEN + x_best_std_gp + ENDC\n",
        "        print(self.template.format(eval, proposed, curr_eval, curr_best, x_best_std, x_best_std_gp))\n",
        "\n",
        "    def run(self, max_iter=10, init_evals=3, resume=False):\n",
        "        \n",
        "        if not resume:\n",
        "            self.init_evals = init_evals\n",
        "            self._firstRun(self.init_evals)\n",
        "            self._printInit()\n",
        "        for iteration in range(max_iter):\n",
        "            self.d_optimizeAcq()\n",
        "            self.updateGP()\n",
        "            self._printCurrent()\n"
      ]
    },
    {
      "cell_type": "code",
      "source": [
        "## dGPGO - Student's-t:\n",
        "\n",
        "class dGPGO_stp(GPGO):\n",
        "    n_start = n_start_AcqFunc\n",
        "\n",
        "    def __init__(self, surrogate, acquisition, f, parameter_dict, n_jobs=1):\n",
        "        self.GP = surrogate\n",
        "        self.A = acquisition\n",
        "        self.f = f\n",
        "        self.parameters = parameter_dict\n",
        "        self.n_jobs = n_jobs\n",
        "\n",
        "        self.parameter_key = list(parameter_dict.keys())\n",
        "        self.parameter_value = list(parameter_dict.values())\n",
        "        self.parameter_type = [p[0] for p in self.parameter_value]\n",
        "        self.parameter_range = [p[1] for p in self.parameter_value]\n",
        "\n",
        "        self.history = []\n",
        "        self.header =   'Evaluation \\t Proposed point \\t  Current eval. \\t  Best eval. \\t        Exact EI: StdDev. x \\t Approx EI: StdDev. x '\n",
        "        self.template = '{:3}\\t {}\\t {:3}\\t {:3}\\t {:3}\\t {:3}'\n",
        "\n",
        "    def acqfuncExact(self, xnew, n_start=n_start_AcqFunc):\n",
        "        new_mean, new_var = self.GP.predict(xnew, return_std=True)\n",
        "        new_std = np.sqrt(new_var + eps)\n",
        "        dm, ds = self.GP.AcqGrad(xnew)\n",
        "        f, df = self.A.d_eval_stp(self.tau, new_mean, new_std, ds=ds, dm=dm, nu=3.0)\n",
        "\n",
        "        return -f, -df\n",
        "   \n",
        "    def acqfuncApprox(self, xnew, n_start=n_start_AcqFunc):\n",
        "        new_mean, new_var = self.GP.predict(xnew, return_std=True)\n",
        "        new_std = np.sqrt(new_var + eps)\n",
        "        dm, ds = self.GP.AcqGrad(xnew)\n",
        "        f, df = self.A.d_eval_stp(self.tau, new_mean, new_std, ds=ds, dm=dm, nu=3.0)\n",
        "\n",
        "        return -f\n",
        "\n",
        "    def d_optimizeAcq(self, method='L-BFGS-B', n_start=n_start_AcqFunc):\n",
        "        start_points_dict = [self._sampleParam() for i in range(n_start)]\n",
        "        start_points_arr = np.array([list(s.values())\n",
        "                                     for s in start_points_dict])\n",
        "        x_best = np.empty((n_start, len(self.parameter_key)))\n",
        "        f_best = np.empty((n_start,))\n",
        "        opt = Parallel(n_jobs=self.n_jobs)(delayed(minimize)(self.acqfuncExact,\n",
        "                                                                 x0=start_point,\n",
        "                                                                 method=method,\n",
        "                                                                 jac = True,\n",
        "                                                                 bounds=self.parameter_range) for start_point in\n",
        "                                               start_points_arr)\n",
        "        x_best = np.array([res.x for res in opt])\n",
        "        f_best = np.array([np.atleast_1d(res.fun)[0] for res in opt])\n",
        "        f_best_min = min(f_best)\n",
        "\n",
        "        self.x_best = x_best\n",
        "        self.f_best = f_best\n",
        "        self.f_best_min = f_best_min\n",
        "        self.x_best_std = np.std(x_best)\n",
        "        self.best = x_best[np.argmin(f_best)]\n",
        "        self.start_points_arr = start_points_arr\n",
        "        self.history.append(self.x_best_std)\n",
        "\n",
        "        x_best_gp = np.empty((n_start, len(self.parameter_key)))\n",
        "        f_best_gp = np.empty((n_start,))\n",
        "        opt_gp = Parallel(n_jobs=self.n_jobs)(delayed(minimize)(self.acqfuncApprox,\n",
        "                                                                 x0=start_point,\n",
        "                                                                 method=method,\n",
        "                                                                 jac = False,\n",
        "                                                                 bounds=self.parameter_range) for start_point in\n",
        "                                               start_points_arr)\n",
        "        x_best_gp = np.array([res.x for res in opt_gp])\n",
        "        f_best_gp = np.array([np.atleast_1d(res.fun)[0] for res in opt_gp])\n",
        "        f_best_min_gp = min(f_best_gp)\n",
        "\n",
        "        self.x_best_gp = x_best_gp\n",
        "        self.f_best_gp = f_best_gp\n",
        "        self.f_best_min_gp = f_best_min_gp\n",
        "        self.x_best_std_gp = np.std(x_best_gp)\n",
        "        self.best_gp = x_best_gp[np.argmin(f_best_gp)]\n",
        "        self.start_points_arr = start_points_arr\n",
        "        self.history.append(self.x_best_std_gp)\n",
        "    \n",
        "    def _printInit(self):\n",
        "        print(self.header)\n",
        "        for init_eval in range(self.init_evals):\n",
        "            print(self.template.format('init', self.GP.X[init_eval], inverse * self.GP.y[init_eval], inverse * self.tau, '', ''))\n",
        "      \n",
        "    def _printCurrent(self):\n",
        "        OKGREEN = '\\033[92m'\n",
        "        ENDC = '\\033[0m'\n",
        "        BOLD = '\\033[1m'\n",
        "        eval = str(len(self.GP.y) - self.init_evals)\n",
        "        proposed = str(self.best)\n",
        "        curr_eval = str(inverse * self.GP.y[-1])\n",
        "        curr_best = str(inverse * self.tau)\n",
        "        min_acqfunc = str(self.f_best_min)\n",
        "        min_acqfunc_gp = str(self.f_best_min_gp)\n",
        "        x_best_std = str(self.x_best_std)\n",
        "        x_best_std_gp = str(self.x_best_std_gp)\n",
        "        if float(curr_eval) <= float(curr_best):\n",
        "            eval = BOLD + OKGREEN + eval + ENDC\n",
        "            proposed = BOLD + OKGREEN + proposed + ENDC\n",
        "            curr_eval = BOLD + OKGREEN + curr_eval + ENDC\n",
        "            curr_best = BOLD + OKGREEN + curr_best + ENDC\n",
        "            x_best_std = BOLD + OKGREEN + x_best_std + ENDC\n",
        "            x_best_std_gp = BOLD + OKGREEN + x_best_std_gp + ENDC\n",
        "        print(self.template.format(eval, proposed, curr_eval, curr_best, x_best_std, x_best_std_gp))\n",
        "\n",
        "    def run(self, max_iter=10, init_evals=3, resume=False):\n",
        "        \n",
        "        if not resume:\n",
        "            self.init_evals = init_evals\n",
        "            self._firstRun(self.init_evals)\n",
        "            self._printInit()\n",
        "        for iteration in range(max_iter):\n",
        "            self.d_optimizeAcq()\n",
        "            self.updateGP()\n",
        "            self._printCurrent()\n"
      ],
      "metadata": {
        "id": "3gxt4mo3xQTY"
      },
      "execution_count": 10,
      "outputs": []
    },
    {
      "cell_type": "code",
      "execution_count": 11,
      "metadata": {
        "id": "qXIKGuXVGEg2"
      },
      "outputs": [],
      "source": [
        "###Reproducible set-seeds:\n",
        "\n",
        "run_num_1 = 1\n",
        "run_num_2 = 2\n",
        "run_num_3 = 3\n",
        "run_num_4 = 4\n",
        "run_num_5 = 5\n",
        "run_num_6 = 6\n",
        "run_num_7 = 7\n",
        "run_num_8 = 8\n",
        "run_num_9 = 9\n",
        "run_num_10 = 10\n",
        "run_num_11 = 11\n",
        "run_num_12 = 12\n",
        "run_num_13 = 13\n",
        "run_num_14 = 14\n",
        "run_num_15 = 15\n",
        "run_num_16 = 16\n",
        "run_num_17 = 17\n",
        "run_num_18 = 18\n",
        "run_num_19 = 19\n",
        "run_num_20 = 20\n"
      ]
    },
    {
      "cell_type": "code",
      "execution_count": 12,
      "metadata": {
        "colab": {
          "base_uri": "https://localhost:8080/"
        },
        "id": "JEhagQmnTVIK",
        "outputId": "45ea7285-e0d9-41ff-cec0-6fa000dd4e74"
      },
      "outputs": [
        {
          "output_type": "execute_result",
          "data": {
            "text/plain": [
              "1663062984.257894"
            ]
          },
          "metadata": {},
          "execution_count": 12
        }
      ],
      "source": [
        "start_gp = time.time()\n",
        "start_gp\n"
      ]
    },
    {
      "cell_type": "code",
      "execution_count": 13,
      "metadata": {
        "colab": {
          "base_uri": "https://localhost:8080/"
        },
        "id": "aH0YSTXufD1v",
        "outputId": "0624d157-e13a-48bd-ea76-339aa75ce1c8"
      },
      "outputs": [
        {
          "output_type": "stream",
          "name": "stdout",
          "text": [
            "Evaluation \t Proposed point \t  Current eval. \t  Best eval. \t        Exact EI: StdDev. x \t Approx EI: StdDev. x \n",
            "init\t [-1.65955991  4.40648987]\t 15.332210716052247\t 15.332210716052247\t    \t    \n",
            "init\t [-9.9977125  -3.95334855]\t 1458.2611077633842\t 15.332210716052247\t    \t    \n",
            "init\t [-7.06488218 -8.1532281 ]\t 1666.779874000304\t 15.332210716052247\t    \t    \n",
            "init\t [-6.27479577 -3.08878546]\t 804.3371752309802\t 15.332210716052247\t    \t    \n",
            "init\t [-2.06465052  0.77633468]\t 126.2019077328938\t 15.332210716052247\t    \t    \n",
            "1  \t [ 7.89213327 -8.29911577]\t 252.857497365554\t 15.332210716052247\t 6.624156874827542\t 6.8913272043591975\n",
            "2  \t [7.66612182 2.47344414]\t 195.49152221204983\t 15.332210716052247\t 6.10859145748814\t 6.142979934160932\n",
            "3  \t [1.62717855 9.40039978]\t 238.9058988758153\t 15.332210716052247\t 6.369595532471226\t 6.125446709960312\n",
            "4  \t [-9.56950389  8.95940422]\t 232.24098716076017\t 15.332210716052247\t 6.330168650309316\t 6.713044213034362\n",
            "5  \t [10. 10.]\t 1154.0\t 15.332210716052247\t 5.98698721645626\t 6.08400924198963\n",
            "6  \t [-0.76004985 -6.88543015]\t 643.2883230424145\t 15.332210716052247\t 5.699846544506373\t 5.706520669743924\n",
            "7  \t [-8.75959565  2.5569331 ]\t 511.82330855319293\t 15.332210716052247\t 6.103041782531833\t 6.1994968790311376\n",
            "8  \t [ 5.02108206 -2.99433439]\t 67.67604468193399\t 15.332210716052247\t 6.259084345472764\t 6.677273436768873\n",
            "9  \t [-3.97037946  9.46622449]\t 75.4669406299586\t 15.332210716052247\t 6.320717457945691\t 5.875990427931536\n",
            "10 \t [10.         -2.66127205]\t 157.63841844940671\t 15.332210716052247\t 6.128437403363144\t 5.854327531546431\n",
            "\u001b[1m\u001b[92m11\u001b[0m\t \u001b[1m\u001b[92m[2.64032618 2.86488789]\u001b[0m\t \u001b[1m\u001b[92m11.771602941417102\u001b[0m\t \u001b[1m\u001b[92m11.771602941417102\u001b[0m\t \u001b[1m\u001b[92m6.088423432903245\u001b[0m\t \u001b[1m\u001b[92m6.096597220758966\u001b[0m\n",
            "12 \t [ 3.4619063  -8.48830053]\t 463.94520307504655\t 11.771602941417102\t 6.05789849123068\t 5.99895156978075\n",
            "13 \t [ 0.78809265 -2.26151008]\t 147.56158662113182\t 11.771602941417102\t 5.42989942514664\t 4.986597798632716\n",
            "14 \t [-5.35449437  5.58439215]\t 103.91336450652419\t 11.771602941417102\t 5.97473765681243\t 6.1893743358152955\n",
            "15 \t [5.65806865 7.13051936]\t 347.7159110545282\t 11.771602941417102\t 5.668280939700222\t 6.03821519771715\n",
            "16 \t [-1.72546583  7.8849524 ]\t 49.94445298233575\t 11.771602941417102\t 5.8294018428779095\t 5.981601981686124\n",
            "17 \t [3.87910604 0.41693238]\t 15.312044897658179\t 11.771602941417102\t 6.277109640097811\t 5.724970228651418\n",
            "18 \t [ -3.403777 -10.      ]\t 1399.9590673475345\t 11.771602941417102\t 5.803278282871167\t 6.053518748197831\n",
            "19 \t [ 7.06556248 -0.80726576]\t 71.68593719676102\t 11.771602941417102\t 6.690626069340105\t 6.504274955810814\n",
            "20 \t [10.          5.62435763]\t 628.3900140137407\t 11.771602941417102\t 6.115081883059965\t 5.791575762111122\n"
          ]
        }
      ],
      "source": [
        "### EXACT GP EI GRADIENTS\n",
        "\n",
        "np.random.seed(run_num_1)\n",
        "surrogate_gp_1 = dGaussianProcess(cov_func, optimize=opt)\n",
        "\n",
        "gp_1 = dGPGO_gp(surrogate_gp_1, Acquisition_grad(util_gp), objfunc, param)\n",
        "gp_1.run(init_evals=n_init, max_iter=iters)\n"
      ]
    },
    {
      "cell_type": "code",
      "execution_count": 14,
      "metadata": {
        "id": "wTxsSZxFGBB5",
        "colab": {
          "base_uri": "https://localhost:8080/"
        },
        "outputId": "67027958-0eb4-43b5-a5fc-9a4ce1e2e139"
      },
      "outputs": [
        {
          "output_type": "stream",
          "name": "stdout",
          "text": [
            "Evaluation \t Proposed point \t  Current eval. \t  Best eval. \t        Exact EI: StdDev. x \t Approx EI: StdDev. x \n",
            "init\t [-1.28010196 -9.48147536]\t 1032.6027521517153\t 92.40504507724606\t    \t    \n",
            "init\t [ 0.99324956 -1.29355215]\t 92.40504507724606\t 92.40504507724606\t    \t    \n",
            "init\t [-1.59264396 -3.39330358]\t 370.5851459944721\t 92.40504507724606\t    \t    \n",
            "init\t [-5.90702732  2.38541933]\t 274.38308294748543\t 92.40504507724606\t    \t    \n",
            "init\t [-4.00690653 -4.6634545 ]\t 725.9498417670716\t 92.40504507724606\t    \t    \n",
            "1  \t [4.01504693 9.2910216 ]\t 395.07910702982895\t 92.40504507724606\t 6.499174746678529\t 6.484694580492437\n",
            "2  \t [ 9.4582138 -7.7444757]\t 207.8931124700012\t 92.40504507724606\t 6.005296724064095\t 6.700399480203057\n",
            "3  \t [-10. -10.]\t 2594.0\t 92.40504507724606\t 7.032854675907769\t 6.535482197348729\n",
            "4  \t [8.51803193 1.4054842 ]\t 199.41545789668123\t 92.40504507724606\t 5.89668883662949\t 6.801380148095176\n",
            "\u001b[1m\u001b[92m5\u001b[0m\t \u001b[1m\u001b[92m[-3.02940699  7.85039728]\u001b[0m\t \u001b[1m\u001b[92m42.4585746721644\u001b[0m\t \u001b[1m\u001b[92m42.4585746721644\u001b[0m\t \u001b[1m\u001b[92m6.507909551325536\u001b[0m\t \u001b[1m\u001b[92m7.138591111267756\u001b[0m\n",
            "6  \t [-10.          -2.15637934]\t 1191.702621840299\t 42.4585746721644\t 6.7258325193187956\t 6.710696250857283\n",
            "7  \t [10. 10.]\t 1154.0\t 42.4585746721644\t 6.200731006369883\t 6.182226402710646\n",
            "8  \t [-8.02910362  9.26875701]\t 151.3000804279441\t 42.4585746721644\t 4.967732894692731\t 6.218498551941283\n",
            "\u001b[1m\u001b[92m9\u001b[0m\t \u001b[1m\u001b[92m[2.77284514 3.78089373]\u001b[0m\t \u001b[1m\u001b[92m29.839103635676324\u001b[0m\t \u001b[1m\u001b[92m29.839103635676324\u001b[0m\t \u001b[1m\u001b[92m5.302164839731586\u001b[0m\t \u001b[1m\u001b[92m5.760660117976281\u001b[0m\n",
            "10 \t [ 4.04320678 -6.03812597]\t 234.70505299725664\t 29.839103635676324\t 5.488668233558596\t 6.150426280807974\n",
            "11 \t [10.        -3.0555048]\t 152.34934633707434\t 29.839103635676324\t 6.49069200863721\t 7.1218510563277375\n",
            "\u001b[1m\u001b[92m12\u001b[0m\t \u001b[1m\u001b[92m[-1.33137451  3.32527081]\u001b[0m\t \u001b[1m\u001b[92m21.6389164884816\u001b[0m\t \u001b[1m\u001b[92m21.6389164884816\u001b[0m\t \u001b[1m\u001b[92m4.621946946770866\u001b[0m\t \u001b[1m\u001b[92m5.115962591745404\u001b[0m\n",
            "13 \t [7.58078705 5.70834615]\t 395.7938791866448\t 21.6389164884816\t 6.084859051966862\t 7.002172973981887\n",
            "14 \t [ 5.73174638 -2.01998842]\t 47.92204146598895\t 21.6389164884816\t 5.7213527654082235\t 6.417721771888524\n",
            "15 \t [-10.           3.98905762]\t 522.854104309952\t 21.6389164884816\t 5.8966826361679345\t 5.751538520589859\n",
            "16 \t [-0.06124668 10.        ]\t 191.20140835165324\t 21.6389164884816\t 5.460884460303309\t 5.590806724335581\n",
            "17 \t [-5.515103   -9.99841485]\t 1734.5148714722936\t 21.6389164884816\t 5.856432672259526\t 6.361048980400663\n",
            "18 \t [-2.78679684  0.55952251]\t 175.41154292211024\t 21.6389164884816\t 5.2278943931669595\t 5.77889978423309\n",
            "19 \t [0.81689159 6.13313975]\t 44.66083304941045\t 21.6389164884816\t 5.812664125467259\t 5.9833357074938895\n",
            "20 \t [-7.93391387 -6.04393388]\t 1454.41959670203\t 21.6389164884816\t 6.100216457035457\t 5.626943746354876\n"
          ]
        }
      ],
      "source": [
        "### EXACT GP EI GRADIENTS\n",
        "\n",
        "np.random.seed(run_num_2)\n",
        "surrogate_gp_2 = dGaussianProcess(cov_func, optimize=opt)\n",
        "\n",
        "gp_2 = dGPGO_gp(surrogate_gp_2, Acquisition_grad(util_gp), objfunc, param)\n",
        "gp_2.run(init_evals=n_init, max_iter=iters)\n"
      ]
    },
    {
      "cell_type": "code",
      "execution_count": 15,
      "metadata": {
        "id": "-dgzIrUIGCGT",
        "colab": {
          "base_uri": "https://localhost:8080/"
        },
        "outputId": "382f08e9-3cdb-4509-bcb1-9a3e64eed955"
      },
      "outputs": [
        {
          "output_type": "stream",
          "name": "stdout",
          "text": [
            "Evaluation \t Proposed point \t  Current eval. \t  Best eval. \t        Exact EI: StdDev. x \t Approx EI: StdDev. x \n",
            "init\t [1.01595805 4.16295645]\t 6.912079999083602\t 6.912079999083602\t    \t    \n",
            "init\t [-4.18190522  0.2165521 ]\t 288.3871250813255\t 6.912079999083602\t    \t    \n",
            "init\t [7.85893909 7.92586178]\t 626.8352854305291\t 6.912079999083602\t    \t    \n",
            "init\t [-7.48829379 -5.85514244]\t 1353.6437998345716\t 6.912079999083602\t    \t    \n",
            "init\t [-8.97065593 -1.18380313]\t 918.3130335940459\t 6.912079999083602\t    \t    \n",
            "1  \t [ 5.60629529 -3.87272935]\t 88.9992584872525\t 6.912079999083602\t 4.717150437873575\t 4.717150437873575\n",
            "2  \t [-6.2437035   9.04202486]\t 94.75343105833329\t 6.912079999083602\t 5.677703294817717\t 6.03479288667779\n",
            "3  \t [9.38223522 1.94345835]\t 286.04129236854146\t 6.912079999083602\t 5.6804141354308015\t 5.973954488477899\n",
            "4  \t [-0.42169096 -8.75441039]\t 834.625955715487\t 6.912079999083602\t 5.399971593025631\t 5.622654968982019\n",
            "5  \t [ 6.56853479 -9.15871319]\t 352.56469128833373\t 6.912079999083602\t 5.473590938944843\t 6.147094658568769\n",
            "6  \t [-9.21277105  4.93342182]\t 382.22930688812016\t 6.912079999083602\t 5.465383892925446\t 5.5296335874832065\n",
            "7  \t [ 0.69850669 -0.70926041]\t 78.19409262167642\t 6.912079999083602\t 5.928851698702294\t 5.898829384777766\n",
            "8  \t [-2.16996483  9.54788454]\t 98.5648352373222\t 6.912079999083602\t 5.676391104088933\t 5.82842928453213\n",
            "9  \t [ 9.59288412 -5.06236658]\t 139.96520776239177\t 6.912079999083602\t 5.217075965987376\t 5.095971061753054\n",
            "10 \t [2.88970909 7.67224967]\t 197.6381281492217\t 6.912079999083602\t 5.655725024262866\t 6.038597662929866\n",
            "11 \t [5.39985126 3.93075158]\t 133.8862966065001\t 6.912079999083602\t 5.737247444663111\t 5.46035697005496\n",
            "12 \t [-2.07562357 -4.24151498]\t 487.67239109411537\t 6.912079999083602\t 5.513400240111258\t 5.5268153014141435\n",
            "13 \t [-10. -10.]\t 2594.0\t 6.912079999083602\t 5.978281482731164\t 6.044011547994539\n",
            "14 \t [-3.12478981  4.95817715]\t 39.62519041801727\t 6.912079999083602\t 5.169424656754925\t 5.092204672435316\n",
            "15 \t [-4.81196297 -9.38054382]\t 1510.925993056701\t 6.912079999083602\t 5.790450299226617\t 6.130395457452285\n",
            "16 \t [4.52188676 0.05735452]\t 22.40493063025012\t 6.912079999083602\t 6.00784128829428\t 5.870500582572022\n",
            "17 \t [ 2.11844523 -5.1226064 ]\t 263.46074919373814\t 6.912079999083602\t 5.203850173594864\t 5.28560418776556\n",
            "18 \t [ 7.57298732 -1.21079456]\t 83.25477154541643\t 6.912079999083602\t 6.378111947757247\t 6.486595526805094\n",
            "19 \t [-5.76176387  3.36653875]\t 209.45141913241983\t 6.912079999083602\t 5.585345137513541\t 5.966756856248845\n",
            "20 \t [ 3.16730079 -9.18463899]\t 554.5508787439264\t 6.912079999083602\t 4.965129583512685\t 5.772190177386253\n"
          ]
        }
      ],
      "source": [
        "### EXACT GP EI GRADIENTS\n",
        "\n",
        "np.random.seed(run_num_3)\n",
        "surrogate_gp_3 = dGaussianProcess(cov_func, optimize=opt)\n",
        "\n",
        "gp_3 = dGPGO_gp(surrogate_gp_3, Acquisition_grad(util_gp), objfunc, param)\n",
        "gp_3.run(init_evals=n_init, max_iter=iters)\n"
      ]
    },
    {
      "cell_type": "code",
      "execution_count": 16,
      "metadata": {
        "id": "hOtG-2sCGCKS",
        "colab": {
          "base_uri": "https://localhost:8080/"
        },
        "outputId": "049beb3a-3fdd-40e1-d081-b916eb5105bb"
      },
      "outputs": [
        {
          "output_type": "stream",
          "name": "stdout",
          "text": [
            "Evaluation \t Proposed point \t  Current eval. \t  Best eval. \t        Exact EI: StdDev. x \t Approx EI: StdDev. x \n",
            "init\t [9.34059678 0.94464498]\t 231.80709501196006\t 215.08077877054313\t    \t    \n",
            "init\t [9.4536872  4.29631987]\t 453.3958241553961\t 215.08077877054313\t    \t    \n",
            "init\t [ 3.95457649 -5.67821009]\t 215.08077877054313\t 215.08077877054313\t    \t    \n",
            "init\t [ 9.5254891 -9.8753949]\t 314.14647993232734\t 215.08077877054313\t    \t    \n",
            "init\t [-4.94035275 -1.30416935]\t 473.61459720928724\t 215.08077877054313\t    \t    \n",
            "1  \t [-10. -10.]\t 2594.0\t 215.08077877054313\t 6.071620345789291\t 6.081906025685177\n",
            "\u001b[1m\u001b[92m2\u001b[0m\t \u001b[1m\u001b[92m[-0.24524722  6.20288844]\u001b[0m\t \u001b[1m\u001b[92m27.138571678074374\u001b[0m\t \u001b[1m\u001b[92m27.138571678074374\u001b[0m\t \u001b[1m\u001b[92m5.735162601139712\u001b[0m\t \u001b[1m\u001b[92m6.022739707902296\u001b[0m\n",
            "3  \t [ -2.69347877 -10.        ]\t 1297.3307185135461\t 27.138571678074374\t 6.996489883364462\t 6.702530192937601\n",
            "4  \t [-5.92084112  5.13271587]\t 144.15109225493686\t 27.138571678074374\t 6.462982978893737\t 6.736233123037502\n",
            "5  \t [10. 10.]\t 1154.0\t 27.138571678074374\t 5.953614144929394\t 6.157993129905176\n",
            "\u001b[1m\u001b[92m6\u001b[0m\t \u001b[1m\u001b[92m[2.60710906 0.23497623]\u001b[0m\t \u001b[1m\u001b[92m15.591221952149736\u001b[0m\t \u001b[1m\u001b[92m15.591221952149736\u001b[0m\t \u001b[1m\u001b[92m5.883379696544479\u001b[0m\t \u001b[1m\u001b[92m6.106180425874113\u001b[0m\n",
            "7  \t [ 3.76927652 10.        ]\t 438.4239472173208\t 15.591221952149736\t 5.189727500993194\t 5.275477662332664\n",
            "8  \t [-9.089894   -4.49899236]\t 1395.516541323428\t 15.591221952149736\t 5.082968080495932\t 6.2450187354494915\n",
            "9  \t [-10.          1.4694878]\t 751.397411472036\t 15.591221952149736\t 4.952192213228986\t 5.924389038764887\n",
            "10 \t [-3.63475528 10.        ]\t 92.85848688052214\t 15.591221952149736\t 6.53576403590895\t 6.642837218262477\n",
            "11 \t [10.         -4.42460342]\t 146.05223348242203\t 15.591221952149736\t 5.764239894785515\t 6.537309635405887\n",
            "12 \t [ 2.71135264 -9.66992891]\t 643.8174017780464\t 15.591221952149736\t 5.832629032595461\t 5.985606391132307\n",
            "13 \t [-0.73377368 -5.21466471]\t 466.3723927660839\t 15.591221952149736\t 5.45205544306226\t 5.4274720560090675\n",
            "14 \t [4.47657371 4.08011348]\t 96.30680247001334\t 15.591221952149736\t 5.156283549374046\t 4.9997257221923554\n",
            "15 \t [-0.16236167 -1.16445419]\t 132.19363192648478\t 15.591221952149736\t 5.628459258455743\t 6.09625892548399\n",
            "16 \t [-8.40094845  9.08018959]\t 169.45629469020935\t 15.591221952149736\t 5.482043925199012\t 5.8616137352933135\n",
            "\u001b[1m\u001b[92m17\u001b[0m\t \u001b[1m\u001b[92m[0.66200255 2.75362765]\u001b[0m\t \u001b[1m\u001b[92m1.540893868205215\u001b[0m\t \u001b[1m\u001b[92m1.540893868205215\u001b[0m\t \u001b[1m\u001b[92m5.391388289715535\u001b[0m\t \u001b[1m\u001b[92m5.855907441914981\u001b[0m\n",
            "18 \t [ 5.63796778 -1.42626732]\t 41.28185587642082\t 1.540893868205215\t 5.759310605405026\t 5.86591924286637\n",
            "19 \t [-1.25316565  2.23316679]\t 42.146361137941696\t 1.540893868205215\t 5.913397678877626\t 5.693201717320682\n",
            "20 \t [6.41523929 7.36045394]\t 430.595087612071\t 1.540893868205215\t 5.332708506721084\t 5.30587678551405\n"
          ]
        }
      ],
      "source": [
        "### EXACT GP EI GRADIENTS\n",
        "\n",
        "np.random.seed(run_num_4)\n",
        "surrogate_gp_4 = dGaussianProcess(cov_func, optimize=opt)\n",
        "\n",
        "gp_4= dGPGO_gp(surrogate_gp_4, Acquisition_grad(util_gp), objfunc, param)\n",
        "gp_4.run(init_evals=n_init, max_iter=iters)\n"
      ]
    },
    {
      "cell_type": "code",
      "execution_count": 17,
      "metadata": {
        "id": "JF_SxcEvGCOl",
        "colab": {
          "base_uri": "https://localhost:8080/"
        },
        "outputId": "419f0e2d-273c-4e3a-b44f-7bee5aaafff6"
      },
      "outputs": [
        {
          "output_type": "stream",
          "name": "stdout",
          "text": [
            "Evaluation \t Proposed point \t  Current eval. \t  Best eval. \t        Exact EI: StdDev. x \t Approx EI: StdDev. x \n",
            "init\t [-5.56013658  7.41464612]\t 80.93700948496809\t 18.053107398965345\t    \t    \n",
            "init\t [-5.86561689  8.37221816]\t 84.91838238990834\t 18.053107398965345\t    \t    \n",
            "init\t [-0.23177622  2.23487726]\t 18.053107398965345\t 18.053107398965345\t    \t    \n",
            "init\t [5.31815713 0.36835976]\t 36.94936820355582\t 18.053107398965345\t    \t    \n",
            "init\t [-4.06398997 -6.24557543]\t 930.179306576812\t 18.053107398965345\t    \t    \n",
            "1  \t [9.27861058 9.20453431]\t 946.0775823883291\t 18.053107398965345\t 7.492668514237962\t 7.214342666132895\n",
            "2  \t [ 8.87080164 -7.76615146]\t 211.3917378701312\t 18.053107398965345\t 6.294932375249826\t 6.509619060808437\n",
            "3  \t [-10. -10.]\t 2594.0\t 18.053107398965345\t 6.579078089697267\t 6.553580066270341\n",
            "4  \t [ 2.49508934 -6.80638133]\t 374.71070519582787\t 18.053107398965345\t 5.87030528500333\t 6.028614691809224\n",
            "5  \t [2.68428552 8.77105868]\t 258.4705647495647\t 18.053107398965345\t 5.977441260484064\t 6.0270098916936785\n",
            "6  \t [-8.62367183  0.50898962]\t 685.8822920729167\t 18.053107398965345\t 6.510000950273928\t 6.588604379883779\n",
            "7  \t [10.          3.20550308]\t 420.0073797092299\t 18.053107398965345\t 4.957495746229124\t 5.623940514013819\n",
            "8  \t [ 9.48598317 -2.28949251]\t 140.86085160173715\t 18.053107398965345\t 6.032523119356807\t 6.316608885724212\n",
            "9  \t [-0.07672475 -2.3293732 ]\t 193.7139184326847\t 18.053107398965345\t 5.491533805640215\t 5.91588907459181\n",
            "10 \t [-8.96266675 -4.75151322]\t 1414.5093746929565\t 18.053107398965345\t 5.790811031964832\t 5.975855797893001\n",
            "11 \t [-9.69320916  5.35034474]\t 398.28238943738796\t 18.053107398965345\t 6.007386803426525\t 6.586529818330548\n",
            "12 \t [-3.82227354  0.28958603]\t 257.56619049986233\t 18.053107398965345\t 5.178503198188765\t 5.400405866767853\n",
            "13 \t [ -0.98199144 -10.        ]\t 1070.7685606917926\t 18.053107398965345\t 5.487460847841546\t 6.079134212254558\n",
            "\u001b[1m\u001b[92m14\u001b[0m\t \u001b[1m\u001b[92m[-1.07040518  6.013492  ]\u001b[0m\t \u001b[1m\u001b[92m16.925362636022832\u001b[0m\t \u001b[1m\u001b[92m16.925362636022832\u001b[0m\t \u001b[1m\u001b[92m5.206350982717605\u001b[0m\t \u001b[1m\u001b[92m5.741218647149499\u001b[0m\n",
            "15 \t [ 4.36031545 -3.02514321]\t 75.9992984569193\t 16.925362636022832\t 5.315976045066417\t 5.570979096924353\n",
            "16 \t [5.29780052 4.76570364]\t 168.65312990060536\t 16.925362636022832\t 5.145056969969754\t 5.4402921627330825\n",
            "\u001b[1m\u001b[92m17\u001b[0m\t \u001b[1m\u001b[92m[2.60541848 2.04959738]\u001b[0m\t \u001b[1m\u001b[92m5.196816710989615\u001b[0m\t \u001b[1m\u001b[92m5.196816710989615\u001b[0m\t \u001b[1m\u001b[92m5.390957826461137\u001b[0m\t \u001b[1m\u001b[92m5.4671371409994665\u001b[0m\n",
            "18 \t [-5.71794665  3.88604066]\t 181.9603848450382\t 5.196816710989615\t 5.5715671723225695\t 5.578176122085467\n",
            "19 \t [1.55210109 4.94162581]\t 28.94942191523026\t 5.196816710989615\t 5.202387946945828\t 5.242319908658733\n",
            "20 \t [ 6.78556319 -4.78089199]\t 109.9403696735283\t 5.196816710989615\t 5.641922028065236\t 5.758749769161464\n"
          ]
        }
      ],
      "source": [
        "### EXACT GP EI GRADIENTS\n",
        "\n",
        "np.random.seed(run_num_5)\n",
        "surrogate_gp_5 = dGaussianProcess(cov_func, optimize=opt)\n",
        "\n",
        "gp_5 = dGPGO_gp(surrogate_gp_5, Acquisition_grad(util_gp), objfunc, param)\n",
        "gp_5.run(init_evals=n_init, max_iter=iters)\n"
      ]
    },
    {
      "cell_type": "code",
      "execution_count": 18,
      "metadata": {
        "id": "-kDxZtJsGCR3",
        "colab": {
          "base_uri": "https://localhost:8080/"
        },
        "outputId": "7609c858-9527-4871-be9b-c929302c923d"
      },
      "outputs": [
        {
          "output_type": "stream",
          "name": "stdout",
          "text": [
            "Evaluation \t Proposed point \t  Current eval. \t  Best eval. \t        Exact EI: StdDev. x \t Approx EI: StdDev. x \n",
            "init\t [ 7.85720303 -3.36040389]\t 88.46320859272592\t 88.46320859272592\t    \t    \n",
            "init\t [ 6.42458246 -9.16606749]\t 359.2297742730208\t 88.46320859272592\t    \t    \n",
            "init\t [-7.8468664   1.90104128]\t 475.1525044254979\t 88.46320859272592\t    \t    \n",
            "init\t [ 0.59634724 -1.62385143]\t 122.64613090496854\t 88.46320859272592\t    \t    \n",
            "init\t [-3.29184301  2.45038864]\t 112.48071079498652\t 88.46320859272592\t    \t    \n",
            "1  \t [10. 10.]\t 1154.0\t 88.46320859272592\t 6.615633602220421\t 6.528755314713192\n",
            "2  \t [-4.96771714 -9.17248997]\t 1500.0516160468933\t 88.46320859272592\t 7.04013313085325\t 6.994499009919301\n",
            "3  \t [2.46299902 9.4614501 ]\t 295.07827894539565\t 88.46320859272592\t 6.324401053720796\t 6.374923205748215\n",
            "\u001b[1m\u001b[92m4\u001b[0m\t \u001b[1m\u001b[92m[-5.6935267   8.60486508]\u001b[0m\t \u001b[1m\u001b[92m80.95854876086956\u001b[0m\t \u001b[1m\u001b[92m80.95854876086956\u001b[0m\t \u001b[1m\u001b[92m6.547864140298981\u001b[0m\t \u001b[1m\u001b[92m6.5774433647910895\u001b[0m\n",
            "5  \t [7.35584953 3.03387552]\t 203.71231541478778\t 80.95854876086956\t 5.758525188627015\t 6.27643109973121\n",
            "6  \t [  0.8634149 -10.       ]\t 859.2981283252254\t 80.95854876086956\t 6.983163726511971\t 7.218846434383753\n",
            "7  \t [-8.36917733 -4.79039395]\t 1326.2752690543525\t 80.95854876086956\t 6.16160615150502\t 6.622183143526872\n",
            "8  \t [-10. -10.]\t 2594.0\t 80.95854876086956\t 6.630815677010381\t 7.3518855517617485\n",
            "\u001b[1m\u001b[92m9\u001b[0m\t \u001b[1m\u001b[92m[-1.22868843  4.34354782]\u001b[0m\t \u001b[1m\u001b[92m9.906068482791387\u001b[0m\t \u001b[1m\u001b[92m9.906068482791387\u001b[0m\t \u001b[1m\u001b[92m5.292964911092762\u001b[0m\t \u001b[1m\u001b[92m5.299552170652167\u001b[0m\n",
            "10 \t [-3.37161586 -1.42226037]\t 347.996448669782\t 9.906068482791387\t 5.588612726596402\t 6.0389812156013765\n",
            "11 \t [ 2.37504354 -5.39305447]\t 269.34401806938286\t 9.906068482791387\t 6.52926688135876\t 6.712053132429341\n",
            "12 \t [2.62707209 4.73150832]\t 50.76573405526722\t 9.906068482791387\t 5.417559510586091\t 6.18254842717938\n",
            "13 \t [ 5.21347435 -0.8833208 ]\t 33.269551998031815\t 9.906068482791387\t 5.352244000376804\t 5.184737974822706\n",
            "14 \t [6.08857724 7.39077046]\t 404.6046151260254\t 9.906068482791387\t 6.166858453661549\t 6.62445058072124\n",
            "15 \t [-10.           6.42893698]\t 362.04158993111\t 9.906068482791387\t 5.861554328941305\t 6.09834306001223\n",
            "16 \t [-1.78364334  9.05384691]\t 87.17465829423871\t 9.906068482791387\t 5.76473659874629\t 6.238498531658158\n",
            "17 \t [-2.01971597 -5.53402172]\t 615.9036300874989\t 9.906068482791387\t 6.436784007618544\t 6.319505900810858\n",
            "18 \t [10.          0.43843064]\t 253.3751938459338\t 9.906068482791387\t 6.114561631660702\t 6.235266332837937\n",
            "19 \t [-4.30970498  5.68487609]\t 62.960433364928505\t 9.906068482791387\t 6.108766377308257\t 6.054742465823968\n",
            "20 \t [ 9.44848936 -6.34409872]\t 161.8976179339596\t 9.906068482791387\t 5.883523301104552\t 5.910333405802079\n"
          ]
        }
      ],
      "source": [
        "### EXACT GP EI GRADIENTS\n",
        "\n",
        "np.random.seed(run_num_6)\n",
        "surrogate_gp_6 = dGaussianProcess(cov_func, optimize=opt)\n",
        "\n",
        "gp_6 = dGPGO_gp(surrogate_gp_6, Acquisition_grad(util_gp), objfunc, param)\n",
        "gp_6.run(init_evals=n_init, max_iter=iters)\n"
      ]
    },
    {
      "cell_type": "code",
      "execution_count": 19,
      "metadata": {
        "id": "fKB8MCD_GCVI",
        "colab": {
          "base_uri": "https://localhost:8080/"
        },
        "outputId": "2863aba1-91ad-4728-ee69-6b58c17e3967"
      },
      "outputs": [
        {
          "output_type": "stream",
          "name": "stdout",
          "text": [
            "Evaluation \t Proposed point \t  Current eval. \t  Best eval. \t        Exact EI: StdDev. x \t Approx EI: StdDev. x \n",
            "init\t [-8.47383421  5.59837584]\t 285.59280278210764\t 9.465549861932052\t    \t    \n",
            "init\t [-1.23181537  4.46930356]\t 9.465549861932052\t 9.465549861932052\t    \t    \n",
            "init\t [9.55979024 0.76991741]\t 238.50407296157155\t 9.465549861932052\t    \t    \n",
            "init\t [ 0.02240927 -8.55897733]\t 763.2277954619568\t 9.465549861932052\t    \t    \n",
            "init\t [-4.63122040e+00 -2.34998349e-03]\t 338.87889871968287\t 9.465549861932052\t    \t    \n",
            "1  \t [10. 10.]\t 1154.0\t 9.465549861932052\t 5.091687089373891\t 5.2184086815999375\n",
            "2  \t [-10.          -6.20947903]\t 1839.506674110327\t 9.465549861932052\t 5.895091483553288\t 6.064963450521567\n",
            "3  \t [ 7.45254366 -9.52193948]\t 345.78455019200885\t 9.465549861932052\t 7.000466362240692\t 7.100529772114084\n",
            "4  \t [-7.86246511 -2.61028169]\t 947.860148457175\t 9.465549861932052\t 5.647846507469534\t 5.803585429886992\n",
            "5  \t [ 1.24464373 10.        ]\t 258.9993014246851\t 9.465549861932052\t 6.196361551299857\t 6.26508216425154\n",
            "6  \t [ 3.61581655 -0.65869286]\t 24.578893744471507\t 9.465549861932052\t 6.090841886440591\t 6.233016199012185\n",
            "7  \t [4.76541885 4.90404522]\t 146.37505890898768\t 9.465549861932052\t 5.268471932259617\t 6.380421467377267\n",
            "8  \t [-4.35091435  9.52073023]\t 76.62608394489475\t 9.465549861932052\t 5.707536930032703\t 6.39241206283613\n",
            "9  \t [10.         -4.65582254]\t 146.83887092529008\t 9.465549861932052\t 6.169973461930712\t 6.394194897203687\n",
            "10 \t [-5.5982515  -9.57729482]\t 1672.5315729344907\t 9.465549861932052\t 6.173835682836197\t 6.2993393856657125\n",
            "11 \t [-0.23708264 -3.26526496]\t 265.9247964454785\t 9.465549861932052\t 5.62028266221656\t 5.558626599505077\n",
            "12 \t [ 4.3006944  -4.94268712]\t 160.17324798034835\t 9.465549861932052\t 6.082053302777306\t 5.985985719705253\n",
            "13 \t [10.          5.20610775]\t 588.1743149875476\t 9.465549861932052\t 6.041429168381546\t 6.113517443061219\n",
            "14 \t [-0.20021368  1.29720912]\t 38.04975161397951\t 9.465549861932052\t 5.276353675059798\t 5.126081242530136\n",
            "15 \t [-8.99478163 10.        ]\t 184.77052790853537\t 9.465549861932052\t 6.898434126325246\t 6.684636523052493\n",
            "16 \t [-3.73797884 -4.02343344]\t 625.1003358183957\t 9.465549861932052\t 5.319513824214883\t 5.465429489541678\n",
            "17 \t [1.08541183 6.07928121]\t 49.55039603327896\t 9.465549861932052\t 4.6713289921074574\t 4.87010678658496\n",
            "18 \t [ 7.32292657 -2.67265715]\t 73.84984076642694\t 9.465549861932052\t 6.292856135904632\t 6.558000603664294\n",
            "19 \t [-4.62142193  6.04120162]\t 67.47943911545335\t 9.465549861932052\t 5.903085365017725\t 5.763292520686588\n",
            "20 \t [6.0944512  0.65183078]\t 61.6355904495248\t 9.465549861932052\t 5.614257090256666\t 5.4772911454415505\n"
          ]
        }
      ],
      "source": [
        "### EXACT GP EI GRADIENTS\n",
        "\n",
        "np.random.seed(run_num_7)\n",
        "surrogate_gp_7 = dGaussianProcess(cov_func, optimize=opt)\n",
        "\n",
        "gp_7 = dGPGO_gp(surrogate_gp_7, Acquisition_grad(util_gp), objfunc, param)\n",
        "gp_7.run(init_evals=n_init, max_iter=iters)\n"
      ]
    },
    {
      "cell_type": "code",
      "execution_count": 20,
      "metadata": {
        "id": "4unvifF-GCXp",
        "colab": {
          "base_uri": "https://localhost:8080/"
        },
        "outputId": "c895cfd8-db61-4127-89d6-8423e75a461c"
      },
      "outputs": [
        {
          "output_type": "stream",
          "name": "stdout",
          "text": [
            "Evaluation \t Proposed point \t  Current eval. \t  Best eval. \t        Exact EI: StdDev. x \t Approx EI: StdDev. x \n",
            "init\t [7.46858806 9.37081326]\t 741.8307972128058\t 75.39770051777191\t    \t    \n",
            "init\t [7.3838908  0.61711383]\t 110.46436066448925\t 75.39770051777191\t    \t    \n",
            "init\t [-5.34543344 -9.77202391]\t 1665.297823285088\t 75.39770051777191\t    \t    \n",
            "init\t [-1.39062363 -1.9529728 ]\t 245.96065521704543\t 75.39770051777191\t    \t    \n",
            "init\t [ 0.45349343 -0.43216408]\t 75.39770051777191\t 75.39770051777191\t    \t    \n",
            "1  \t [ 9.69498875 -9.42535902]\t 285.65502563735186\t 75.39770051777191\t 6.644059447721559\t 6.7403281983799745\n",
            "2  \t [-9.83383251  5.77166529]\t 385.04821658618386\t 75.39770051777191\t 6.326077787838371\t 6.042846358970839\n",
            "3  \t [-3.97152767  9.51013426]\t 76.56717653580492\t 75.39770051777191\t 6.393323785067345\t 5.997674224340312\n",
            "4  \t [-9.65586204 -5.07440767]\t 1582.0354694335447\t 75.39770051777191\t 6.967538337135723\t 6.948521159972315\n",
            "\u001b[1m\u001b[92m5\u001b[0m\t \u001b[1m\u001b[92m[1.10947828 5.5318851 ]\u001b[0m\t \u001b[1m\u001b[92m34.329629696240445\u001b[0m\t \u001b[1m\u001b[92m34.329629696240445\u001b[0m\t \u001b[1m\u001b[92m5.874594591772786\u001b[0m\t \u001b[1m\u001b[92m5.763035142834763\u001b[0m\n",
            "6  \t [  3.57727191 -10.        ]\t 610.1753735164684\t 34.329629696240445\t 6.4391691284450445\t 6.77592198053854\n",
            "7  \t [-4.26944589  3.62178393]\t 114.55672182658647\t 34.329629696240445\t 5.520543596515629\t 5.747945164640091\n",
            "8  \t [ 6.9560023  -4.77022785]\t 109.01606162659411\t 34.329629696240445\t 6.836468521308941\t 6.5516926188717015\n",
            "9  \t [-10.           0.47082988]\t 859.5504776082689\t 34.329629696240445\t 6.30521176308281\t 6.831709318167468\n",
            "10 \t [10.          4.76248115]\t 547.430341866343\t 34.329629696240445\t 6.452779572128879\t 6.969707934827461\n",
            "11 \t [ 2.04039854 10.        ]\t 308.6744639714519\t 34.329629696240445\t 6.279650803755636\t 5.811087994096099\n",
            "12 \t [5.08502726 5.06202044]\t 172.0841575885248\t 34.329629696240445\t 5.405931063817322\t 5.688851307673257\n",
            "13 \t [ 2.22081362 -5.15375118]\t 260.23653730763283\t 34.329629696240445\t 6.905219244702626\t 6.11767858364212\n",
            "14 \t [-8.30691291 10.        ]\t 156.90601672232873\t 34.329629696240445\t 7.360337355008104\t 7.968973199604151\n",
            "15 \t [-10. -10.]\t 2594.0\t 34.329629696240445\t 5.743141698401995\t 5.446836364394893\n",
            "16 \t [-0.76766103 -8.4750939 ]\t 836.2846390521617\t 34.329629696240445\t 6.222130668746596\t 5.9347574476865415\n",
            "17 \t [-5.57390688 -0.35684731]\t 448.9641900505949\t 34.329629696240445\t 5.988059281303967\t 5.839881083202617\n",
            "\u001b[1m\u001b[92m18\u001b[0m\t \u001b[1m\u001b[92m[3.68151726 1.17905664]\u001b[0m\t \u001b[1m\u001b[92m13.468719325203478\u001b[0m\t \u001b[1m\u001b[92m13.468719325203478\u001b[0m\t \u001b[1m\u001b[92m5.55765109314418\u001b[0m\t \u001b[1m\u001b[92m6.42862989638515\u001b[0m\n",
            "19 \t [-4.59923432 -5.0080605 ]\t 836.1143466631303\t 13.468719325203478\t 4.784255992070536\t 4.873667872286346\n",
            "20 \t [10.         -1.74548044]\t 175.9233314182597\t 13.468719325203478\t 5.540525752526165\t 5.35150703403437\n"
          ]
        }
      ],
      "source": [
        "### EXACT GP EI GRADIENTS\n",
        "\n",
        "np.random.seed(run_num_8)\n",
        "surrogate_gp_8 = dGaussianProcess(cov_func, optimize=opt)\n",
        "\n",
        "gp_8 = dGPGO_gp(surrogate_gp_8, Acquisition_grad(util_gp), objfunc, param)\n",
        "gp_8.run(init_evals=n_init, max_iter=iters)\n"
      ]
    },
    {
      "cell_type": "code",
      "execution_count": 21,
      "metadata": {
        "id": "85OIXcg7GCaJ",
        "colab": {
          "base_uri": "https://localhost:8080/"
        },
        "outputId": "711e96a6-8c2c-47ac-ff72-71310cc6c8e7"
      },
      "outputs": [
        {
          "output_type": "stream",
          "name": "stdout",
          "text": [
            "Evaluation \t Proposed point \t  Current eval. \t  Best eval. \t        Exact EI: StdDev. x \t Approx EI: StdDev. x \n",
            "init\t [-9.79251692  0.03749184]\t 882.0577358281939\t 526.7340464177141\t    \t    \n",
            "init\t [-0.08453414 -7.32340942]\t 628.3137012668271\t 526.7340464177141\t    \t    \n",
            "init\t [-7.15777829 -5.62882649]\t 1268.1663931377898\t 526.7340464177141\t    \t    \n",
            "init\t [-1.62983639 -5.03797663]\t 526.7340464177141\t 526.7340464177141\t    \t    \n",
            "init\t [-8.31880698 -3.0900272 ]\t 1073.657277368356\t 526.7340464177141\t    \t    \n",
            "1  \t [6.0747954  9.66718496]\t 621.7013152481403\t 526.7340464177141\t 6.232694320836195\t 5.9893578031882\n",
            "\u001b[1m\u001b[92m2\u001b[0m\t \u001b[1m\u001b[92m[4.69531634 1.12432974]\u001b[0m\t \u001b[1m\u001b[92m30.41794917619908\u001b[0m\t \u001b[1m\u001b[92m30.41794917619908\u001b[0m\t \u001b[1m\u001b[92m6.854359495968006\u001b[0m\t \u001b[1m\u001b[92m6.64260053582591\u001b[0m\n",
            "3  \t [-4.34667475  7.2314955 ]\t 51.466984168071384\t 30.41794917619908\t 6.068135845332652\t 5.683125747084214\n",
            "4  \t [ 8.66970884 -6.33785621]\t 157.1508550483091\t 30.41794917619908\t 5.876300373756267\t 6.007906092286219\n",
            "5  \t [9.65541334 4.16012269]\t 461.641055129542\t 30.41794917619908\t 7.900171884879659\t 6.839693009116458\n",
            "6  \t [1.25267459 5.77799908]\t 44.521054911628184\t 30.41794917619908\t 5.327936487574881\t 4.972657113987798\n",
            "7  \t [-2.00413361  1.08900426]\t 109.31070926825305\t 30.41794917619908\t 5.84569024783882\t 6.311973508043559\n",
            "8  \t [ 9.84015615 -1.23738471]\t 180.84580940181803\t 30.41794917619908\t 6.212694251245935\t 6.7333957386054175\n",
            "9  \t [ 4.07151463 -3.71357837]\t 107.56485001122672\t 30.41794917619908\t 6.4746433694339265\t 6.794343961123281\n",
            "10 \t [-10. -10.]\t 2594.0\t 30.41794917619908\t 6.9056441756165015\t 6.655038784940366\n",
            "11 \t [-10.           6.54567238]\t 355.83979381864117\t 30.41794917619908\t 6.869604990359393\t 7.078944286307524\n",
            "12 \t [ 1.11363557 10.        ]\t 251.42815696166338\t 30.41794917619908\t 6.194807177683852\t 7.0143286077830895\n",
            "13 \t [-5.97708538  3.18622071]\t 233.17777078299605\t 30.41794917619908\t 5.431421513242072\t 5.982666704020501\n",
            "14 \t [ 1.38878378 -0.71469381]\t 58.19681311366918\t 30.41794917619908\t 5.624372616467724\t 6.108678988677817\n",
            "15 \t [10. 10.]\t 1154.0\t 30.41794917619908\t 6.377272422425334\t 6.61739775077629\n",
            "16 \t [ 4.62696262 -9.44987009]\t 479.52890821763435\t 30.41794917619908\t 5.9588633849720285\t 6.705333063715249\n",
            "17 \t [5.25319466 4.94264867]\t 175.41744698986014\t 30.41794917619908\t 5.01968271331445\t 5.9728780396986405\n",
            "18 \t [-5.30467139 -9.5735486 ]\t 1623.391765190712\t 30.41794917619908\t 5.611915923461131\t 6.225466431709123\n",
            "\u001b[1m\u001b[92m19\u001b[0m\t \u001b[1m\u001b[92m[-2.14911158  4.92829421]\u001b[0m\t \u001b[1m\u001b[92m19.59680245214908\u001b[0m\t \u001b[1m\u001b[92m19.59680245214908\u001b[0m\t \u001b[1m\u001b[92m5.276267177277765\u001b[0m\t \u001b[1m\u001b[92m5.901647541805063\u001b[0m\n",
            "20 \t [-2.37065223  9.56413452]\t 95.24247490310017\t 19.59680245214908\t 5.969619605735444\t 6.508623455991639\n"
          ]
        }
      ],
      "source": [
        "### EXACT GP EI GRADIENTS\n",
        "\n",
        "np.random.seed(run_num_9)\n",
        "surrogate_gp_9 = dGaussianProcess(cov_func, optimize=opt)\n",
        "\n",
        "gp_9 = dGPGO_gp(surrogate_gp_9, Acquisition_grad(util_gp), objfunc, param)\n",
        "gp_9.run(init_evals=n_init, max_iter=iters)\n"
      ]
    },
    {
      "cell_type": "code",
      "execution_count": 22,
      "metadata": {
        "id": "QQBR-qJPGCcp",
        "colab": {
          "base_uri": "https://localhost:8080/"
        },
        "outputId": "14989b21-9b4f-4bab-87f3-09bb1b2dfc98"
      },
      "outputs": [
        {
          "output_type": "stream",
          "name": "stdout",
          "text": [
            "Evaluation \t Proposed point \t  Current eval. \t  Best eval. \t        Exact EI: StdDev. x \t Approx EI: StdDev. x \n",
            "init\t [ 5.42641287 -9.58496101]\t 444.22200604720473\t 59.96573403226766\t    \t    \n",
            "init\t [2.6729647  4.97607765]\t 59.96573403226766\t 59.96573403226766\t    \t    \n",
            "init\t [-0.02985975 -5.50406709]\t 436.96281238949786\t 59.96573403226766\t    \t    \n",
            "init\t [-6.0387427   5.21061424]\t 147.67401193720747\t 59.96573403226766\t    \t    \n",
            "init\t [-6.61778327 -8.23320372]\t 1605.6543289416081\t 59.96573403226766\t    \t    \n",
            "1  \t [10. 10.]\t 1154.0\t 59.96573403226766\t 5.8122326133871445\t 6.048239269846447\n",
            "\u001b[1m\u001b[92m2\u001b[0m\t \u001b[1m\u001b[92m[2.11155129 0.26933255]\u001b[0m\t \u001b[1m\u001b[92m19.17823960765822\u001b[0m\t \u001b[1m\u001b[92m19.17823960765822\u001b[0m\t \u001b[1m\u001b[92m5.072770469264647\u001b[0m\t \u001b[1m\u001b[92m5.067659960757658\u001b[0m\n",
            "3  \t [8.50713746 1.33499849]\t 195.6515526065785\t 19.17823960765822\t 5.34912043718532\t 6.59023790081138\n",
            "4  \t [-10.          -2.13748594]\t 1189.067572064311\t 19.17823960765822\t 6.7495083286425706\t 7.240691907824668\n",
            "5  \t [-1.9581759   8.72670283]\t 72.20489553023208\t 19.17823960765822\t 6.335473380263967\t 6.535557585701351\n",
            "6  \t [ 4.24458098 10.        ]\t 479.3330635360022\t 19.17823960765822\t 6.9536209787032925\t 6.674511178637597\n",
            "7  \t [ 5.88775726 -3.75619055]\t 83.50045354401163\t 19.17823960765822\t 6.196511561554263\t 6.462813893384313\n",
            "8  \t [-3.7613853  -0.33745254]\t 296.1740765903546\t 19.17823960765822\t 5.815110017700367\t 6.215970311111229\n",
            "9  \t [7.37409101 5.95305707]\t 397.3323474872592\t 19.17823960765822\t 6.2950740284483375\t 6.639144383390278\n",
            "10 \t [-10.           2.99889562]\t 605.0971911475335\t 19.17823960765822\t 6.476478626977531\t 6.873092446221468\n",
            "11 \t [-6.06716473  9.22601338]\t 91.5382023829747\t 19.17823960765822\t 5.768225578872329\t 5.900230530669186\n",
            "\u001b[1m\u001b[92m12\u001b[0m\t \u001b[1m\u001b[92m[-0.93311486  3.11579104]\u001b[0m\t \u001b[1m\u001b[92m16.961004066574844\u001b[0m\t \u001b[1m\u001b[92m16.961004066574844\u001b[0m\t \u001b[1m\u001b[92m6.206568031829905\u001b[0m\t \u001b[1m\u001b[92m6.9506359470539065\u001b[0m\n",
            "13 \t [10.         -6.70921789]\t 177.28087213857418\t 16.961004066574844\t 6.584233724089106\t 6.347207640371699\n",
            "14 \t [-4.05283721 -4.55838735]\t 718.8323220937377\t 16.961004066574844\t 5.7500283246293495\t 6.458672628802687\n",
            "15 \t [-0.22676474 -1.42076247]\t 148.62634690948414\t 16.961004066574844\t 5.73556693486986\t 6.309427558007118\n",
            "16 \t [4.98830128 0.07250832]\t 28.978022734618467\t 16.961004066574844\t 5.752018080805355\t 6.602298768976315\n",
            "17 \t [  0.35430391 -10.        ]\t 914.2370107241557\t 16.961004066574844\t 5.795227331650719\t 6.188100591170416\n",
            "18 \t [ 3.66732345 -6.21133463]\t 263.2596294950745\t 16.961004066574844\t 5.935203861954141\t 5.270032333678607\n",
            "\u001b[1m\u001b[92m19\u001b[0m\t \u001b[1m\u001b[92m[-1.90242723  5.44589082]\u001b[0m\t \u001b[1m\u001b[92m15.240167692442204\u001b[0m\t \u001b[1m\u001b[92m15.240167692442204\u001b[0m\t \u001b[1m\u001b[92m5.927280597647013\u001b[0m\t \u001b[1m\u001b[92m5.952071279506349\u001b[0m\n",
            "20 \t [1.12298286 7.67542135]\t 113.97342117111218\t 15.240167692442204\t 6.881331769249997\t 6.314139774761174\n"
          ]
        }
      ],
      "source": [
        "### EXACT GP EI GRADIENTS\n",
        "\n",
        "np.random.seed(run_num_10)\n",
        "surrogate_gp_10 = dGaussianProcess(cov_func, optimize=opt)\n",
        "\n",
        "gp_10 = dGPGO_gp(surrogate_gp_10, Acquisition_grad(util_gp), objfunc, param)\n",
        "gp_10.run(init_evals=n_init, max_iter=iters)\n"
      ]
    },
    {
      "cell_type": "code",
      "execution_count": 23,
      "metadata": {
        "id": "JS8ejeQ2GCfi",
        "colab": {
          "base_uri": "https://localhost:8080/"
        },
        "outputId": "dba0d074-79f2-46cf-9f6d-3077dfbcf4ea"
      },
      "outputs": [
        {
          "output_type": "stream",
          "name": "stdout",
          "text": [
            "Evaluation \t Proposed point \t  Current eval. \t  Best eval. \t        Exact EI: StdDev. x \t Approx EI: StdDev. x \n",
            "init\t [-6.39460622 -9.61049517]\t 1814.521116554919\t 5.483030044782123\t    \t    \n",
            "init\t [-0.73562947  4.49867858]\t 5.483030044782123\t 5.483030044782123\t    \t    \n",
            "init\t [-1.59592791 -0.29145804]\t 156.21779076814232\t 5.483030044782123\t    \t    \n",
            "init\t [-9.74438371 -0.25256785]\t 909.6795910034871\t 5.483030044782123\t    \t    \n",
            "init\t [8.83613305 7.01590179]\t 639.4153671589368\t 5.483030044782123\t    \t    \n",
            "1  \t [ 1.99086793 -8.88652641]\t 617.1328244256196\t 5.483030044782123\t 5.701202967465052\t 6.079485207605164\n",
            "2  \t [ 6.89877062 -3.95670624]\t 87.66816772781804\t 5.483030044782123\t 5.058132303434573\t 4.921440405688948\n",
            "3  \t [-5.78363514  5.43217487]\t 127.67400603355497\t 5.483030044782123\t 6.236238001268246\t 6.375354938211753\n",
            "4  \t [3.75874785 1.36613953]\t 15.341676166003793\t 5.483030044782123\t 5.024094131897508\t 5.4479160689718595\n",
            "5  \t [ 1.17774744 10.        ]\t 255.1118273884056\t 5.483030044782123\t 5.780028217766229\t 5.821073529039932\n",
            "6  \t [10.          0.29086466]\t 246.63932691070164\t 5.483030044782123\t 5.913338630606134\t 6.184158046438345\n",
            "7  \t [-5.40880168 -3.96715044]\t 805.2783043135323\t 5.483030044782123\t 6.016638795790136\t 7.402740125604023\n",
            "8  \t [-4.03937298 10.        ]\t 89.77151327507025\t 5.483030044782123\t 5.427682396957172\t 5.8170201459001944\n",
            "9  \t [3.82145709 5.67104636]\t 135.7654854011634\t 5.483030044782123\t 6.087908899997748\t 6.357917168162219\n",
            "10 \t [-9.91929274  4.41257878]\t 482.7367738209056\t 5.483030044782123\t 5.67865732602009\t 6.03086757117758\n",
            "11 \t [ 7.77602621 -9.30402747]\t 319.5388147682889\t 5.483030044782123\t 6.01194179650566\t 6.263924567998155\n",
            "12 \t [-8.67837897  9.34460623]\t 178.3812104704654\t 5.483030044782123\t 5.892670535056757\t 5.923595134953345\n",
            "13 \t [-0.66326722 -4.5487798 ]\t 399.1977756606938\t 5.483030044782123\t 5.891882446618046\t 5.611038470276383\n",
            "14 \t [ 2.16990425 -1.35308681]\t 60.84864548065482\t 5.483030044782123\t 6.3976338365563405\t 6.40795341402319\n",
            "15 \t [-5.49539525  1.38653382]\t 307.8079673390391\t 5.483030044782123\t 5.941964794086808\t 6.022312470080553\n",
            "16 \t [ 6.13912393 10.        ]\t 664.8439137867339\t 5.483030044782123\t 6.1667767943152745\t 5.915987253378633\n",
            "17 \t [-2.04065117 -9.96158476]\t 1201.5344585673301\t 5.483030044782123\t 4.805341639058797\t 4.721249762237913\n",
            "18 \t [6.84189532 2.98697839]\t 170.03098533285822\t 5.483030044782123\t 5.878141941840642\t 5.8768696797239235\n",
            "19 \t [ 3.49005057 -4.98087503]\t 190.4913311390622\t 5.483030044782123\t 5.264388560043488\t 5.386123421262276\n",
            "20 \t [-10.          -6.50236682]\t 1892.6831568777425\t 5.483030044782123\t 6.212029223715151\t 6.002798710939672\n"
          ]
        }
      ],
      "source": [
        "### EXACT GP EI GRADIENTS\n",
        "\n",
        "np.random.seed(run_num_11)\n",
        "surrogate_gp_11 = dGaussianProcess(cov_func, optimize=opt)\n",
        "\n",
        "gp_11 = dGPGO_gp(surrogate_gp_11, Acquisition_grad(util_gp), objfunc, param)\n",
        "gp_11.run(init_evals=n_init, max_iter=iters)\n"
      ]
    },
    {
      "cell_type": "code",
      "execution_count": 24,
      "metadata": {
        "id": "DXwjUVZ4GCii",
        "colab": {
          "base_uri": "https://localhost:8080/"
        },
        "outputId": "dae1ca7f-343b-400e-8cf9-32b2e3862580"
      },
      "outputs": [
        {
          "output_type": "stream",
          "name": "stdout",
          "text": [
            "Evaluation \t Proposed point \t  Current eval. \t  Best eval. \t        Exact EI: StdDev. x \t Approx EI: StdDev. x \n",
            "init\t [-6.91674315  4.80099393]\t 215.5279554685742\t 189.34864056663108\t    \t    \n",
            "init\t [-4.7336997   0.67478787]\t 298.0661631184378\t 189.34864056663108\t    \t    \n",
            "init\t [-9.70850075  8.37494016]\t 257.3494442600599\t 189.34864056663108\t    \t    \n",
            "init\t [ 8.01429708 -9.33157145]\t 314.3616446198572\t 189.34864056663108\t    \t    \n",
            "init\t [ 9.13898673 -7.25581357]\t 189.34864056663108\t 189.34864056663108\t    \t    \n",
            "\u001b[1m\u001b[92m1\u001b[0m\t \u001b[1m\u001b[92m[4.66251955 4.05244711]\u001b[0m\t \u001b[1m\u001b[92m103.44533669968575\u001b[0m\t \u001b[1m\u001b[92m103.44533669968575\u001b[0m\t \u001b[1m\u001b[92m6.224754561312221\u001b[0m\t \u001b[1m\u001b[92m5.899410547381348\u001b[0m\n",
            "2  \t [-3.75432006 -8.6025265 ]\t 1227.4078991356632\t 103.44533669968575\t 6.63785123040954\t 5.977039070216892\n",
            "3  \t [10. 10.]\t 1154.0\t 103.44533669968575\t 7.173169070351129\t 7.087722536126625\n",
            "4  \t [0.62006076 8.91956245]\t 157.93527468112498\t 103.44533669968575\t 6.37195412356197\t 6.081293045828425\n",
            "5  \t [-10.          -4.19932386]\t 1497.6918191741563\t 103.44533669968575\t 5.546027766666431\t 5.525706835490996\n",
            "6  \t [ 1.94965486 -3.07982591]\t 143.1407474999603\t 103.44533669968575\t 6.7316977131097575\t 6.16948777391816\n",
            "\u001b[1m\u001b[92m7\u001b[0m\t \u001b[1m\u001b[92m[ 7.56525136 -1.96937417]\u001b[0m\t \u001b[1m\u001b[92m77.98450109004803\u001b[0m\t \u001b[1m\u001b[92m77.98450109004803\u001b[0m\t \u001b[1m\u001b[92m6.665772998930842\u001b[0m\t \u001b[1m\u001b[92m6.412507388488291\u001b[0m\n",
            "8  \t [ 2.21276918 -9.22185459]\t 635.644384681251\t 77.98450109004803\t 6.495706246379756\t 7.258480981061169\n",
            "9  \t [-10. -10.]\t 2594.0\t 77.98450109004803\t 6.123632702653614\t 6.64162200138332\n",
            "\u001b[1m\u001b[92m10\u001b[0m\t \u001b[1m\u001b[92m[-0.65323682  3.96068651]\u001b[0m\t \u001b[1m\u001b[92m5.574614238025479\u001b[0m\t \u001b[1m\u001b[92m5.574614238025479\u001b[0m\t \u001b[1m\u001b[92m4.963514974093115\u001b[0m\t \u001b[1m\u001b[92m5.5720669337218816\u001b[0m\n",
            "11 \t [10.          3.98351292]\t 480.6494188721854\t 5.574614238025479\t 5.90844716612578\t 5.9719795483435565\n",
            "12 \t [5.04909137 9.97541983]\t 551.2110113765862\t 5.574614238025479\t 5.296136773220079\t 5.580882261183749\n",
            "13 \t [-10.          1.0767332]\t 792.7422538236042\t 5.574614238025479\t 5.372054048903968\t 5.374082916473414\n",
            "14 \t [-4.35250665  9.30226645]\t 71.97606452512002\t 5.574614238025479\t 5.431623553383736\t 5.608391831105476\n",
            "15 \t [-2.4459227  -3.83724793]\t 481.59673537017557\t 5.574614238025479\t 6.040517411971279\t 5.90712312111242\n",
            "16 \t [ 5.10399294 -5.18636194]\t 150.52222650444867\t 5.574614238025479\t 5.770742641329902\t 5.702410897553584\n",
            "17 \t [1.93058193 1.00469778]\t 9.381730849025477\t 5.574614238025479\t 5.0497865259216725\t 5.051344256781095\n",
            "18 \t [-0.59571349 -0.16240789]\t 103.10600144802176\t 5.574614238025479\t 6.0482114950600545\t 6.176325605051924\n",
            "19 \t [-2.82101437  5.28547656]\t 29.255059318320814\t 5.574614238025479\t 5.63938134863337\t 5.7717291799565045\n",
            "20 \t [4.77583213 0.02628486]\t 25.67345672883052\t 5.574614238025479\t 5.1584597705166555\t 5.393139462389494\n"
          ]
        }
      ],
      "source": [
        "### EXACT GP EI GRADIENTS\n",
        "\n",
        "np.random.seed(run_num_12)\n",
        "surrogate_gp_12 = dGaussianProcess(cov_func, optimize=opt)\n",
        "\n",
        "gp_12 = dGPGO_gp(surrogate_gp_12, Acquisition_grad(util_gp), objfunc, param)\n",
        "gp_12.run(init_evals=n_init, max_iter=iters)\n"
      ]
    },
    {
      "cell_type": "code",
      "execution_count": 25,
      "metadata": {
        "id": "CphOPndPGClX",
        "colab": {
          "base_uri": "https://localhost:8080/"
        },
        "outputId": "169fd2ea-26c0-4c4f-82d3-652d899865dc"
      },
      "outputs": [
        {
          "output_type": "stream",
          "name": "stdout",
          "text": [
            "Evaluation \t Proposed point \t  Current eval. \t  Best eval. \t        Exact EI: StdDev. x \t Approx EI: StdDev. x \n",
            "init\t [ 5.55404821 -5.2491756 ]\t 143.4041188295949\t 48.27231948835582\t    \t    \n",
            "init\t [6.48557065 9.31498396]\t 626.9828646177026\t 48.27231948835582\t    \t    \n",
            "init\t [ 9.45202228 -0.93101505]\t 168.64758529203058\t 48.27231948835582\t    \t    \n",
            "init\t [2.18084926 5.51053029]\t 62.202299160666314\t 48.27231948835582\t    \t    \n",
            "init\t [2.8322669  4.44036459]\t 48.27231948835582\t 48.27231948835582\t    \t    \n",
            "1  \t [-8.69830926  2.59657998]\t 502.3996877395562\t 48.27231948835582\t 5.849923237279736\t 6.216504412090185\n",
            "2  \t [-5.9673185  -6.48540274]\t 1221.284536050755\t 48.27231948835582\t 6.6089404780583845\t 6.825854450347928\n",
            "3  \t [ 1.27140344 -9.80309118]\t 792.165594807452\t 48.27231948835582\t 7.242853667464197\t 6.882612154126712\n",
            "4  \t [-5.68974606  9.11900061]\t 83.49787226161779\t 48.27231948835582\t 6.5931909794909\t 6.885958077448538\n",
            "5  \t [-2.12220526 -1.41193544]\t 256.2664446929993\t 48.27231948835582\t 7.117544150362632\t 7.25415946328941\n",
            "6  \t [-0.37273994 10.        ]\t 177.5486378765691\t 48.27231948835582\t 6.9922349780684305\t 6.63321771677632\n",
            "7  \t [-10. -10.]\t 2594.0\t 48.27231948835582\t 8.004336678689095\t 7.06024860007764\n",
            "8  \t [8.62368957 4.2994763 ]\t 378.3008372048785\t 48.27231948835582\t 6.664938237449407\t 7.254588528136474\n",
            "\u001b[1m\u001b[92m9\u001b[0m\t \u001b[1m\u001b[92m[-2.60721421  3.8625966 ]\u001b[0m\t \u001b[1m\u001b[92m43.88777048394915\u001b[0m\t \u001b[1m\u001b[92m43.88777048394915\u001b[0m\t \u001b[1m\u001b[92m6.163813971442839\u001b[0m\t \u001b[1m\u001b[92m6.266291225354168\u001b[0m\n",
            "\u001b[1m\u001b[92m10\u001b[0m\t \u001b[1m\u001b[92m[ 2.83526989 -0.20076919]\u001b[0m\t \u001b[1m\u001b[92m21.071492369234125\u001b[0m\t \u001b[1m\u001b[92m21.071492369234125\u001b[0m\t \u001b[1m\u001b[92m6.122436357030439\u001b[0m\t \u001b[1m\u001b[92m6.679605884285411\u001b[0m\n",
            "11 \t [10.         -6.87200353]\t 181.49801431373925\t 21.071492369234125\t 6.633746607897151\t 7.437110225386699\n",
            "12 \t [-10.          -4.08831197]\t 1479.9922856984954\t 21.071492369234125\t 6.316016752092199\t 6.048621589100603\n",
            "13 \t [-9.76887724  7.24237929]\t 304.3472011696368\t 21.071492369234125\t 5.290085668107302\t 6.067383180728804\n",
            "14 \t [-1.15640193 -5.67279614]\t 548.9535862020372\t 21.071492369234125\t 6.017309760306837\t 5.75024513015547\n",
            "15 \t [-6.11197997 -1.73190904]\t 634.0820493432213\t 21.071492369234125\t 6.0144142305012105\t 5.625359872680116\n",
            "16 \t [-5.60242228  5.39101232]\t 120.25281557511795\t 21.071492369234125\t 6.163600736254918\t 5.768548971924758\n",
            "17 \t [ 5.5825668  -9.13993465]\t 396.83316714597476\t 21.071492369234125\t 7.512270262029828\t 7.588859803976187\n",
            "18 \t [6.01476155 0.43824642]\t 55.77940733984055\t 21.071492369234125\t 5.811942414155964\t 5.243531041971935\n",
            "19 \t [-2.5792651   7.24243103]\t 32.568515980444616\t 21.071492369234125\t 6.338401722713598\t 6.281840856141722\n",
            "20 \t [ 1.98941807 -3.10232019]\t 142.78433238006676\t 21.071492369234125\t 6.877150497512374\t 6.712736773138544\n"
          ]
        }
      ],
      "source": [
        "### EXACT GP EI GRADIENTS\n",
        "\n",
        "np.random.seed(run_num_13)\n",
        "surrogate_gp_13 = dGaussianProcess(cov_func, optimize=opt)\n",
        "\n",
        "gp_13 = dGPGO_gp(surrogate_gp_13, Acquisition_grad(util_gp), objfunc, param)\n",
        "gp_13.run(init_evals=n_init, max_iter=iters)\n"
      ]
    },
    {
      "cell_type": "code",
      "execution_count": 26,
      "metadata": {
        "id": "ojHTeARNGCoi",
        "colab": {
          "base_uri": "https://localhost:8080/"
        },
        "outputId": "fd40b759-fac0-4187-9a49-4a9294cbadc6"
      },
      "outputs": [
        {
          "output_type": "stream",
          "name": "stdout",
          "text": [
            "Evaluation \t Proposed point \t  Current eval. \t  Best eval. \t        Exact EI: StdDev. x \t Approx EI: StdDev. x \n",
            "init\t [0.27886688 5.46330104]\t 18.728481209446468\t 18.728481209446468\t    \t    \n",
            "init\t [ 7.40855371 -9.83906103]\t 371.31674613664467\t 18.728481209446468\t    \t    \n",
            "init\t [-3.80528149  9.15207479]\t 68.19416312981014\t 18.728481209446468\t    \t    \n",
            "init\t [ 0.26233425 -3.6343115 ]\t 261.94243460125864\t 18.728481209446468\t    \t    \n",
            "init\t [ 0.78399875 -5.57490115]\t 382.6954465291845\t 18.728481209446468\t    \t    \n",
            "1  \t [10.          6.84833934]\t 756.1290111666306\t 18.728481209446468\t 6.640981601983202\t 6.686153732537138\n",
            "2  \t [-8.1477833   0.47898709]\t 634.6806661127735\t 18.728481209446468\t 6.4104893645351035\t 6.20169712248426\n",
            "3  \t [ 7.92213119 -1.18185926]\t 95.44020818229973\t 18.728481209446468\t 5.460779839551442\t 5.349772824252074\n",
            "4  \t [-10. -10.]\t 2594.0\t 18.728481209446468\t 7.072121364018484\t 6.579695167190048\n",
            "5  \t [ 3.70788054 10.        ]\t 433.3043950884461\t 18.728481209446468\t 5.793516448541957\t 5.809277783341511\n",
            "6  \t [-9.18393198  6.55872247]\t 291.95058027489983\t 18.728481209446468\t 6.14392251021526\t 5.862333662430254\n",
            "7  \t [-3.77019124 -9.46174232]\t 1365.8078831674034\t 18.728481209446468\t 5.338037001827513\t 5.02915236010792\n",
            "8  \t [-4.42148123  4.32435233]\t 98.29222870955579\t 18.728481209446468\t 6.482401156204039\t 5.972641707932133\n",
            "9  \t [-1.06929872  1.15463935]\t 68.98558526205093\t 18.728481209446468\t 5.8712868604096125\t 6.540905470418871\n",
            "10 \t [-5.16768301 -4.05001742]\t 786.5734769955272\t 18.728481209446468\t 6.156082229622395\t 5.887492898048435\n",
            "11 \t [ 9.5495426  -5.35483551]\t 143.04959843959347\t 18.728481209446468\t 6.40464067777022\t 6.300914979889566\n",
            "12 \t [5.01699111 3.72435177]\t 106.58223215246912\t 18.728481209446468\t 6.310985412949476\t 6.69426062416143\n",
            "13 \t [  2.34039688 -10.        ]\t 714.5820434736034\t 18.728481209446468\t 6.204518321632056\t 6.720386689542903\n",
            "\u001b[1m\u001b[92m14\u001b[0m\t \u001b[1m\u001b[92m[2.5540054 0.6946896]\u001b[0m\t \u001b[1m\u001b[92m9.987225602347364\u001b[0m\t \u001b[1m\u001b[92m9.987225602347364\u001b[0m\t \u001b[1m\u001b[92m6.11723823134528\u001b[0m\t \u001b[1m\u001b[92m6.17706946991963\u001b[0m\n",
            "15 \t [ 5.35878607 -5.97483216]\t 184.77815441064587\t 9.987225602347364\t 5.899124774778989\t 5.851512839528147\n",
            "16 \t [10.          2.31194876]\t 357.8273829585924\t 9.987225602347364\t 5.947758364013461\t 5.9402676106174805\n",
            "17 \t [-9.63360698 -5.17226981]\t 1594.5035995487676\t 9.987225602347364\t 6.78203736510246\t 6.404017770226675\n",
            "18 \t [ 3.67362909 -1.59294146]\t 42.978443690449126\t 9.987225602347364\t 5.158986561572287\t 5.0770574385571345\n",
            "19 \t [-0.21039953  8.80618458]\t 119.66180715819178\t 9.987225602347364\t 5.470568441274482\t 6.091739339578053\n",
            "20 \t [-2.40388076 -1.51004073]\t 282.4474845744273\t 9.987225602347364\t 6.3880013538948015\t 5.848353700637729\n"
          ]
        }
      ],
      "source": [
        "### EXACT GP EI GRADIENTS\n",
        "\n",
        "np.random.seed(run_num_14)\n",
        "surrogate_gp_14 = dGaussianProcess(cov_func, optimize=opt)\n",
        "\n",
        "gp_14 = dGPGO_gp(surrogate_gp_14, Acquisition_grad(util_gp), objfunc, param)\n",
        "gp_14.run(init_evals=n_init, max_iter=iters)\n"
      ]
    },
    {
      "cell_type": "code",
      "execution_count": 27,
      "metadata": {
        "id": "vCJzn4vWGCs3",
        "colab": {
          "base_uri": "https://localhost:8080/"
        },
        "outputId": "6f45fd14-e514-4344-d0fb-06ad6a20baf7"
      },
      "outputs": [
        {
          "output_type": "stream",
          "name": "stdout",
          "text": [
            "Evaluation \t Proposed point \t  Current eval. \t  Best eval. \t        Exact EI: StdDev. x \t Approx EI: StdDev. x \n",
            "init\t [ 6.97635395 -6.4220815 ]\t 171.98457986923216\t 171.98457986923216\t    \t    \n",
            "init\t [-8.91273571 -2.76923108]\t 1115.2426864421157\t 171.98457986923216\t    \t    \n",
            "init\t [-4.49198143  0.6000045 ]\t 285.0550378664367\t 171.98457986923216\t    \t    \n",
            "init\t [-3.88162169 -3.91051282]\t 627.8031621427792\t 171.98457986923216\t    \t    \n",
            "init\t [-7.76517448 -5.00201972]\t 1265.415808453521\t 171.98457986923216\t    \t    \n",
            "1  \t [10. 10.]\t 1154.0\t 171.98457986923216\t 6.928488246684234\t 7.020403565485656\n",
            "\u001b[1m\u001b[92m2\u001b[0m\t \u001b[1m\u001b[92m[1.47503373 7.60746764]\u001b[0m\t \u001b[1m\u001b[92m124.78169583492904\u001b[0m\t \u001b[1m\u001b[92m124.78169583492904\u001b[0m\t \u001b[1m\u001b[92m5.820987315892899\u001b[0m\t \u001b[1m\u001b[92m6.482498405902894\u001b[0m\n",
            "3  \t [-7.57016827  9.39485424]\t 133.26990946724956\t 124.78169583492904\t 6.382235345644607\t 6.9620930794799865\n",
            "4  \t [8.17696818 1.09984692]\t 166.4985641578168\t 124.78169583492904\t 5.629172254253652\t 6.210456610059423\n",
            "\u001b[1m\u001b[92m5\u001b[0m\t \u001b[1m\u001b[92m[ 1.97285658 -1.64674325]\u001b[0m\t \u001b[1m\u001b[92m76.52844554111326\u001b[0m\t \u001b[1m\u001b[92m76.52844554111326\u001b[0m\t \u001b[1m\u001b[92m6.9708191725925\u001b[0m\t \u001b[1m\u001b[92m7.231915980559664\u001b[0m\n",
            "6  \t [-0.62952455 -9.52479128]\t 960.9043734412453\t 76.52844554111326\t 6.97736028416815\t 7.808850810475655\n",
            "7  \t [-10.           3.88492006]\t 531.042452036236\t 76.52844554111326\t 6.094049531099851\t 6.731770762030098\n",
            "8  \t [-10. -10.]\t 2594.0\t 76.52844554111326\t 6.988871854514299\t 7.241302938733663\n",
            "\u001b[1m\u001b[92m9\u001b[0m\t \u001b[1m\u001b[92m[-2.99733783  5.48477538]\u001b[0m\t \u001b[1m\u001b[92m31.304199150751423\u001b[0m\t \u001b[1m\u001b[92m31.304199150751423\u001b[0m\t \u001b[1m\u001b[92m4.568283606701212\u001b[0m\t \u001b[1m\u001b[92m6.3748864810945465\u001b[0m\n",
            "10 \t [3.73346769 2.75167845]\t 32.23731472937324\t 31.304199150751423\t 5.3079792444444776\t 6.3634963623122625\n",
            "11 \t [-2.63594996 10.        ]\t 107.48746270888704\t 31.304199150751423\t 5.174305958152067\t 5.767295128688019\n",
            "12 \t [ -5.19541012 -10.        ]\t 1681.238185367559\t 31.304199150751423\t 5.088164953956126\t 5.800006492553143\n",
            "13 \t [7.99750195 5.52468474]\t 418.0272240483729\t 31.304199150751423\t 5.885166326754807\t 5.950035395221237\n",
            "14 \t [ 5.10432467 10.        ]\t 559.0695864102796\t 31.304199150751423\t 5.8873302562805785\t 6.5932871214743\n",
            "15 \t [ 9.88286932 -2.88689238]\t 149.4643805197214\t 31.304199150751423\t 4.435630330759326\t 5.517581663533536\n",
            "\u001b[1m\u001b[92m16\u001b[0m\t \u001b[1m\u001b[92m[0.23548327 1.5525327 ]\u001b[0m\t \u001b[1m\u001b[92m22.251140760679966\u001b[0m\t \u001b[1m\u001b[92m22.251140760679966\u001b[0m\t \u001b[1m\u001b[92m5.902895708294528\u001b[0m\t \u001b[1m\u001b[92m6.882660377527988\u001b[0m\n",
            "17 \t [ 1.37989813 -5.45724796]\t 332.643687234717\t 22.251140760679966\t 4.963113071435307\t 5.500019690787858\n",
            "18 \t [ 3.88220105 -9.25335257]\t 509.7256555510291\t 22.251140760679966\t 5.652898654050499\t 7.042148061301854\n",
            "19 \t [ 5.7148036  -2.29432782]\t 51.60267337877049\t 22.251140760679966\t 5.927670300603148\t 6.719269694214469\n",
            "\u001b[1m\u001b[92m20\u001b[0m\t \u001b[1m\u001b[92m[-0.27649629  4.62996281]\u001b[0m\t \u001b[1m\u001b[92m4.785975854046515\u001b[0m\t \u001b[1m\u001b[92m4.785975854046515\u001b[0m\t \u001b[1m\u001b[92m5.373654825262201\u001b[0m\t \u001b[1m\u001b[92m5.957596509376589\u001b[0m\n"
          ]
        }
      ],
      "source": [
        "### EXACT GP EI GRADIENTS\n",
        "\n",
        "np.random.seed(run_num_15)\n",
        "surrogate_gp_15 = dGaussianProcess(cov_func, optimize=opt)\n",
        "\n",
        "gp_15 = dGPGO_gp(surrogate_gp_15, Acquisition_grad(util_gp), objfunc, param)\n",
        "gp_15.run(init_evals=n_init, max_iter=iters)\n"
      ]
    },
    {
      "cell_type": "code",
      "execution_count": 28,
      "metadata": {
        "id": "bGGkhp-kGCw6",
        "colab": {
          "base_uri": "https://localhost:8080/"
        },
        "outputId": "0f83e486-f916-42eb-c637-7fdb1aba09f0"
      },
      "outputs": [
        {
          "output_type": "stream",
          "name": "stdout",
          "text": [
            "Evaluation \t Proposed point \t  Current eval. \t  Best eval. \t        Exact EI: StdDev. x \t Approx EI: StdDev. x \n",
            "init\t [-5.53417842  0.46326683]\t 378.2562509858209\t 182.86095429406956\t    \t    \n",
            "init\t [ 1.01402913 -9.087961  ]\t 729.2383206820605\t 182.86095429406956\t    \t    \n",
            "init\t [-2.78542329 -5.53838117]\t 694.7380078426447\t 182.86095429406956\t    \t    \n",
            "init\t [ 3.77452324 -6.7253715 ]\t 295.53799633399245\t 182.86095429406956\t    \t    \n",
            "init\t [-8.59350266  8.8202172 ]\t 182.86095429406956\t 182.86095429406956\t    \t    \n",
            "1  \t [10. 10.]\t 1154.0\t 182.86095429406956\t 6.925549952306833\t 6.975498251961761\n",
            "2  \t [ 0.50706415 10.        ]\t 218.61052121726888\t 182.86095429406956\t 7.148736581812941\t 7.080083338203967\n",
            "3  \t [-10. -10.]\t 2594.0\t 182.86095429406956\t 6.753420876446138\t 7.5299455303810365\n",
            "\u001b[1m\u001b[92m4\u001b[0m\t \u001b[1m\u001b[92m[5.7976487  1.62279444]\u001b[0m\t \u001b[1m\u001b[92m71.71185334713266\u001b[0m\t \u001b[1m\u001b[92m71.71185334713266\u001b[0m\t \u001b[1m\u001b[92m5.773675422771665\u001b[0m\t \u001b[1m\u001b[92m6.462297078212528\u001b[0m\n",
            "\u001b[1m\u001b[92m5\u001b[0m\t \u001b[1m\u001b[92m[-2.22531694  5.42968011]\u001b[0m\t \u001b[1m\u001b[92m18.838166667692633\u001b[0m\t \u001b[1m\u001b[92m18.838166667692633\u001b[0m\t \u001b[1m\u001b[92m5.544887211965563\u001b[0m\t \u001b[1m\u001b[92m5.704849308923134\u001b[0m\n",
            "6  \t [ 9.808689   -7.09213596]\t 186.03315452362685\t 18.838166667692633\t 6.558565437173248\t 6.89965247770554\n",
            "7  \t [ 1.13515307 -1.17676177]\t 82.8020085417395\t 18.838166667692633\t 5.726958936273395\t 6.26645712348441\n",
            "8  \t [-8.80475597 -4.08207813]\t 1286.9497343563723\t 18.838166667692633\t 5.464710263352938\t 6.435881929070363\n",
            "9  \t [4.92325857 7.17036499]\t 294.8108719371396\t 18.838166667692633\t 6.021899062248555\t 6.8454387827952905\n",
            "10 \t [10.         -0.21281506]\t 225.28821867065656\t 18.838166667692633\t 5.70808281358127\t 6.162232524918213\n",
            "11 \t [9.92921085 4.74112057]\t 538.1861976755205\t 18.838166667692633\t 6.314280733930947\t 6.560760785907968\n",
            "12 \t [-10.          2.6383971]\t 637.4748382197035\t 18.838166667692633\t 6.2539741429305336\t 6.867298367265481\n",
            "13 \t [-3.98849434  9.06699922]\t 66.34624647852043\t 18.838166667692633\t 5.022704749183602\t 4.6772456768235395\n",
            "\u001b[1m\u001b[92m14\u001b[0m\t \u001b[1m\u001b[92m[1.5626568  3.46867874]\u001b[0m\t \u001b[1m\u001b[92m4.790854388032722\u001b[0m\t \u001b[1m\u001b[92m4.790854388032722\u001b[0m\t \u001b[1m\u001b[92m4.509954437741323\u001b[0m\t \u001b[1m\u001b[92m5.5957881504598905\u001b[0m\n",
            "15 \t [ 5.57359978 -2.5361006 ]\t 55.271856018525824\t 4.790854388032722\t 5.400897618524814\t 5.593329856896243\n",
            "16 \t [-5.74135626  4.84333745]\t 144.806130279276\t 4.790854388032722\t 5.295024530805574\t 5.543968312895393\n",
            "17 \t [-5.83637603 -8.37823133]\t 1503.2878707584373\t 4.790854388032722\t 6.089871950126003\t 6.199106013793164\n",
            "18 \t [-1.16127868  1.66727659]\t 55.279479680316996\t 4.790854388032722\t 5.530163093755349\t 5.509731777218704\n",
            "19 \t [1.59403747 5.45722642]\t 43.63168748395686\t 4.790854388032722\t 5.314754230167346\t 5.459494473013797\n",
            "20 \t [  5.76768047 -10.        ]\t 462.8151163290602\t 4.790854388032722\t 6.1072440006347914\t 6.303267351689644\n"
          ]
        }
      ],
      "source": [
        "### EXACT GP EI GRADIENTS\n",
        "\n",
        "np.random.seed(run_num_16)\n",
        "surrogate_gp_16 = dGaussianProcess(cov_func, optimize=opt)\n",
        "\n",
        "gp_16 = dGPGO_gp(surrogate_gp_16, Acquisition_grad(util_gp), objfunc, param)\n",
        "gp_16.run(init_evals=n_init, max_iter=iters)\n"
      ]
    },
    {
      "cell_type": "code",
      "execution_count": 29,
      "metadata": {
        "id": "Yrs2mp7hGC1Z",
        "colab": {
          "base_uri": "https://localhost:8080/"
        },
        "outputId": "bd050292-7549-4c28-a3ae-2853dfecd2c8"
      },
      "outputs": [
        {
          "output_type": "stream",
          "name": "stdout",
          "text": [
            "Evaluation \t Proposed point \t  Current eval. \t  Best eval. \t        Exact EI: StdDev. x \t Approx EI: StdDev. x \n",
            "init\t [-4.10669995  0.61173511]\t 256.4801849765532\t 5.553508838684786\t    \t    \n",
            "init\t [-6.16958426 -8.64199284]\t 1602.4406672130797\t 5.553508838684786\t    \t    \n",
            "init\t [5.7397092  3.12667044]\t 117.20749172761734\t 5.553508838684786\t    \t    \n",
            "init\t [2.75041792 1.51205788]\t 5.553508838684786\t 5.553508838684786\t    \t    \n",
            "init\t [-9.21874168 -2.84372791]\t 1170.583554210921\t 5.553508838684786\t    \t    \n",
            "1  \t [-8.64042543  9.21575513]\t 178.4868811929342\t 5.553508838684786\t 6.898023252081969\t 6.859689088006699\n",
            "2  \t [ 4.54825031 -8.71744454]\t 416.8315243674168\t 5.553508838684786\t 5.612907571212438\t 5.834326546629668\n",
            "3  \t [9.12376544 9.73620918]\t 994.6474624709882\t 5.553508838684786\t 5.817822280639895\t 5.942179597428053\n",
            "4  \t [-0.05385845  7.96254756]\t 86.84889828641981\t 5.553508838684786\t 6.318750659523932\t 7.001012399771867\n",
            "5  \t [ 9.06636127 -2.74323799]\t 119.63857371103694\t 5.553508838684786\t 5.398508048725551\t 6.069709425531179\n",
            "6  \t [ 0.58933177 -4.38179652]\t 297.5495954624751\t 5.553508838684786\t 5.554536613651431\t 5.472766644463637\n",
            "7  \t [-10.           3.39894952]\t 570.6882457128905\t 5.553508838684786\t 5.548665967001582\t 5.639717014451719\n",
            "8  \t [-1.02859872 -9.21677652]\t 965.0877045352898\t 5.553508838684786\t 6.185835635912343\t 6.182927187621689\n",
            "9  \t [10.         -8.43968953]\t 235.67483654095952\t 5.553508838684786\t 6.666521967041666\t 6.525752472284824\n",
            "10 \t [-4.28358043 -4.23199582]\t 706.7765805451414\t 5.553508838684786\t 5.177875744227458\t 4.7091277437736645\n",
            "11 \t [-5.34307141  5.91978222]\t 95.63531874971927\t 5.553508838684786\t 6.304541778628272\t 6.0999186437297785\n",
            "12 \t [4.1884074  9.28650843]\t 408.7822502840248\t 5.553508838684786\t 5.5580450581747565\t 5.650437613940171\n",
            "\u001b[1m\u001b[92m13\u001b[0m\t \u001b[1m\u001b[92m[-0.27311899  3.39491013]\u001b[0m\t \u001b[1m\u001b[92m4.861789140373549\u001b[0m\t \u001b[1m\u001b[92m4.861789140373549\u001b[0m\t \u001b[1m\u001b[92m4.929731862329288\u001b[0m\t \u001b[1m\u001b[92m4.733459722660842\u001b[0m\n",
            "14 \t [10.         4.8525507]\t 555.5433706929301\t 4.861789140373549\t 5.465998767522884\t 5.621420703081712\n",
            "15 \t [ 4.84952793 -2.96851766]\t 68.40253815059951\t 4.861789140373549\t 5.2913745663379625\t 5.608835093361487\n",
            "16 \t [-0.01406508  0.06269927]\t 72.1092305343591\t 4.861789140373549\t 5.1626471206281135\t 5.005729442845816\n",
            "17 \t [-10.          -6.64465869]\t 1918.8271704373878\t 4.861789140373549\t 5.469447735861233\t 5.93611086638018\n",
            "18 \t [-3.44612701  9.43535972]\t 77.0100871696959\t 4.861789140373549\t 5.622567272559847\t 5.7634611939669735\n",
            "19 \t [9.7216859  0.82793107]\t 252.37561819567546\t 4.861789140373549\t 5.485885291364635\t 5.361114384468674\n",
            "20 \t [-6.75609331  2.15486813]\t 356.7955292452102\t 4.861789140373549\t 5.855217025850796\t 5.892807095633656\n"
          ]
        }
      ],
      "source": [
        "### EXACT GP EI GRADIENTS\n",
        "\n",
        "np.random.seed(run_num_17)\n",
        "surrogate_gp_17 = dGaussianProcess(cov_func, optimize=opt)\n",
        "\n",
        "gp_17 = dGPGO_gp(surrogate_gp_17, Acquisition_grad(util_gp), objfunc, param)\n",
        "gp_17.run(init_evals=n_init, max_iter=iters)\n"
      ]
    },
    {
      "cell_type": "code",
      "execution_count": 30,
      "metadata": {
        "id": "f0HIEP3PIUEa",
        "colab": {
          "base_uri": "https://localhost:8080/"
        },
        "outputId": "fb8d94f1-a76e-4616-dff5-3454350a7781"
      },
      "outputs": [
        {
          "output_type": "stream",
          "name": "stdout",
          "text": [
            "Evaluation \t Proposed point \t  Current eval. \t  Best eval. \t        Exact EI: StdDev. x \t Approx EI: StdDev. x \n",
            "init\t [3.00748483 0.10906747]\t 15.509405515253864\t 15.509405515253864\t    \t    \n",
            "init\t [ 7.57202942 -6.36319549]\t 162.0234327224751\t 15.509405515253864\t    \t    \n",
            "init\t [7.04466137 5.00272572]\t 299.59059770472754\t 15.509405515253864\t    \t    \n",
            "init\t [3.32203335 9.75790897]\t 380.8425822546991\t 15.509405515253864\t    \t    \n",
            "init\t [-4.86063155 -9.43388149]\t 1527.7052410059514\t 15.509405515253864\t    \t    \n",
            "1  \t [-6.1664519   4.28513481]\t 191.3691670751314\t 15.509405515253864\t 6.285691568926353\t 6.621112138158342\n",
            "2  \t [-6.07110106 -2.27098711]\t 687.0923366704285\t 15.509405515253864\t 5.304675370125934\t 5.237093746897661\n",
            "3  \t [10. 10.]\t 1154.0\t 15.509405515253864\t 6.280369814188278\t 6.388235831113425\n",
            "4  \t [-2.33775535  8.28880862]\t 54.33854275473706\t 15.509405515253864\t 6.696142278865547\t 6.838720827946587\n",
            "5  \t [ 4.59940623 -9.59713586]\t 495.48011107282537\t 15.509405515253864\t 5.362184656348668\t 5.721019003550569\n",
            "6  \t [-10.          -6.65024503]\t 1919.8577080046857\t 15.509405515253864\t 6.096415080310232\t 5.765838534820954\n",
            "7  \t [ 9.97797989 -0.13933672]\t 226.81857409050016\t 15.509405515253864\t 5.78028539022586\t 6.5501095359666905\n",
            "8  \t [-0.89131627 -4.57752476]\t 419.63176081459113\t 15.509405515253864\t 5.716803460787542\t 5.445093508591736\n",
            "9  \t [-1.39744815  1.99267847]\t 53.13228061372227\t 15.509405515253864\t 5.711162348984302\t 6.446899647051707\n",
            "10 \t [-7.66580745  9.87441846]\t 135.19014608649172\t 15.509405515253864\t 6.190438166112065\t 7.131903756195316\n",
            "11 \t [-10.           0.58433431]\t 846.7557838873237\t 15.509405515253864\t 6.165896678427487\t 6.098857257381493\n",
            "12 \t [1.30110828 5.41486147]\t 35.42818870834669\t 15.509405515253864\t 5.582397054802637\t 5.420745876813096\n",
            "13 \t [ 6.10972719 -2.4115894 ]\t 55.759094973975564\t 15.509405515253864\t 5.506420379424139\t 5.773817870066344\n",
            "14 \t [ 3.66056455 -5.53162979]\t 217.74493913095407\t 15.509405515253864\t 5.218978302654468\t 5.022883552586619\n",
            "15 \t [3.87157936 3.29377057]\t 48.410029900282\t 15.509405515253864\t 5.640163392559692\t 6.058481098189768\n",
            "16 \t [-10.           6.15196942]\t 377.30124721551795\t 15.509405515253864\t 5.319204417621589\t 5.829117524280832\n",
            "17 \t [ 8.51965038 -9.73389546]\t 327.45064243592316\t 15.509405515253864\t 6.96913099532707\t 6.473428707415774\n",
            "18 \t [ 9.59321385 -3.57342579]\t 133.37142597911267\t 15.509405515253864\t 6.282389401985849\t 6.016617850345077\n",
            "19 \t [ 1.00539323 -1.40809371]\t 96.9664056175074\t 15.509405515253864\t 5.399016718339269\t 5.447383549105733\n",
            "20 \t [-0.37612595 -8.71513625]\t 824.6627233210812\t 15.509405515253864\t 6.10432813084522\t 6.555099950183615\n"
          ]
        }
      ],
      "source": [
        "### EXACT GP EI GRADIENTS\n",
        "\n",
        "np.random.seed(run_num_18)\n",
        "surrogate_gp_18 = dGaussianProcess(cov_func, optimize=opt)\n",
        "\n",
        "gp_18 = dGPGO_gp(surrogate_gp_18, Acquisition_grad(util_gp), objfunc, param)\n",
        "gp_18.run(init_evals=n_init, max_iter=iters)\n"
      ]
    },
    {
      "cell_type": "code",
      "execution_count": 31,
      "metadata": {
        "id": "S3mxRQDLIUPC",
        "colab": {
          "base_uri": "https://localhost:8080/"
        },
        "outputId": "2be15722-f3d7-4eb8-9676-1419ea0d613e"
      },
      "outputs": [
        {
          "output_type": "stream",
          "name": "stdout",
          "text": [
            "Evaluation \t Proposed point \t  Current eval. \t  Best eval. \t        Exact EI: StdDev. x \t Approx EI: StdDev. x \n",
            "init\t [-8.04932797  5.22499433]\t 273.1270544592675\t 139.9227861892117\t    \t    \n",
            "init\t [-5.06124054 -7.23736625]\t 1204.1206373978957\t 139.9227861892117\t    \t    \n",
            "init\t [-3.37106873 -8.3400087 ]\t 1135.0538557997047\t 139.9227861892117\t    \t    \n",
            "init\t [3.43954163 6.13187596]\t 139.9227861892117\t 139.9227861892117\t    \t    \n",
            "init\t [9.65483829 2.7132147 ]\t 355.08571481298065\t 139.9227861892117\t    \t    \n",
            "1  \t [ 9.42739537 -7.28680447]\t 190.6689475777885\t 139.9227861892117\t 7.182621606688426\t 7.381150092311839\n",
            "2  \t [10. 10.]\t 1154.0\t 139.9227861892117\t 7.242417053310881\t 7.012253615876048\n",
            "\u001b[1m\u001b[92m3\u001b[0m\t \u001b[1m\u001b[92m[ 1.34122181 -1.20783379]\u001b[0m\t \u001b[1m\u001b[92m77.62505034350103\u001b[0m\t \u001b[1m\u001b[92m77.62505034350103\u001b[0m\t \u001b[1m\u001b[92m5.326094403100463\u001b[0m\t \u001b[1m\u001b[92m5.9609749885418655\u001b[0m\n",
            "4  \t [-9.64931371 -1.76781368]\t 1086.8911967373488\t 77.62505034350103\t 5.8104321483519605\t 6.476629229734532\n",
            "\u001b[1m\u001b[92m5\u001b[0m\t \u001b[1m\u001b[92m[-2.65957271  8.24430671]\u001b[0m\t \u001b[1m\u001b[92m50.940752667010955\u001b[0m\t \u001b[1m\u001b[92m50.940752667010955\u001b[0m\t \u001b[1m\u001b[92m5.600392621287592\u001b[0m\t \u001b[1m\u001b[92m6.201140291891371\u001b[0m\n",
            "6  \t [ 3.80143058 -9.67038884]\t 557.972115198769\t 50.940752667010955\t 6.4751111909551495\t 6.586642196271895\n",
            "7  \t [-3.92931283 -0.35725327]\t 310.23798482165694\t 50.940752667010955\t 6.541899921367187\t 6.218096631652151\n",
            "8  \t [-10. -10.]\t 2594.0\t 50.940752667010955\t 5.95221617391893\t 6.0698979679758125\n",
            "\u001b[1m\u001b[92m9\u001b[0m\t \u001b[1m\u001b[92m[-0.77028898  3.60734476]\u001b[0m\t \u001b[1m\u001b[92m8.91254776094752\u001b[0m\t \u001b[1m\u001b[92m8.91254776094752\u001b[0m\t \u001b[1m\u001b[92m6.112621359328148\u001b[0m\t \u001b[1m\u001b[92m7.10585008661651\u001b[0m\n",
            "10 \t [ 6.73884635 -2.32296054]\t 61.960110275031255\t 8.91254776094752\t 6.301254328537898\t 5.854148302754159\n",
            "11 \t [ 0.88851998 -5.59733609]\t 377.3005271590498\t 8.91254776094752\t 5.003419449730699\t 5.409521367811356\n",
            "12 \t [5.34516945 1.33369659]\t 50.36235781448157\t 8.91254776094752\t 5.569033871934837\t 5.67207744627584\n",
            "13 \t [-3.97555612  4.5515522 ]\t 74.05868456908335\t 8.91254776094752\t 5.717026343349961\t 6.116137776053836\n",
            "14 \t [ 5.11367815 10.        ]\t 559.9777157632534\t 8.91254776094752\t 5.161055252148353\t 6.508832744800402\n",
            "15 \t [-6.48363265  9.59719426]\t 102.6708217432341\t 8.91254776094752\t 5.583560652015243\t 5.829357785167657\n",
            "16 \t [ 5.28282103 -5.65289922]\t 169.6055544332534\t 8.91254776094752\t 5.342796199575574\t 5.715561362347937\n",
            "17 \t [0.92413756 9.08497581]\t 181.470459569043\t 8.91254776094752\t 5.431293831669075\t 5.630697186327918\n",
            "18 \t [10.         -1.51623535]\t 181.81296355167598\t 8.91254776094752\t 5.695662044072591\t 6.287214693834447\n",
            "\u001b[1m\u001b[92m19\u001b[0m\t \u001b[1m\u001b[92m[1.72103698 2.7337593 ]\u001b[0m\t \u001b[1m\u001b[92m1.4181370510303293\u001b[0m\t \u001b[1m\u001b[92m1.4181370510303293\u001b[0m\t \u001b[1m\u001b[92m4.85228974387863\u001b[0m\t \u001b[1m\u001b[92m4.8617961619211885\u001b[0m\n",
            "20 \t [-2.31937105 -4.05094169]\t 490.90754803569325\t 1.4181370510303293\t 5.442255191961352\t 5.427757356301279\n"
          ]
        }
      ],
      "source": [
        "### EXACT GP EI GRADIENTS\n",
        "\n",
        "np.random.seed(run_num_19)\n",
        "surrogate_gp_19 = dGaussianProcess(cov_func, optimize=opt)\n",
        "\n",
        "gp_19 = dGPGO_gp(surrogate_gp_19, Acquisition_grad(util_gp), objfunc, param)\n",
        "gp_19.run(init_evals=n_init, max_iter=iters)\n"
      ]
    },
    {
      "cell_type": "code",
      "execution_count": 32,
      "metadata": {
        "id": "Aawd59dRIUYn",
        "colab": {
          "base_uri": "https://localhost:8080/"
        },
        "outputId": "7fed5504-ca32-4c36-83bf-471b943c31c4"
      },
      "outputs": [
        {
          "output_type": "stream",
          "name": "stdout",
          "text": [
            "Evaluation \t Proposed point \t  Current eval. \t  Best eval. \t        Exact EI: StdDev. x \t Approx EI: StdDev. x \n",
            "init\t [1.76261602 7.95427456]\t 155.85777119682857\t 155.85777119682857\t    \t    \n",
            "init\t [7.83061459 6.31674955]\t 469.53411882784934\t 155.85777119682857\t    \t    \n",
            "init\t [-9.28220829  3.83515164]\t 463.4088031056881\t 155.85777119682857\t    \t    \n",
            "init\t [-2.42638116  0.37021891]\t 165.36424127801376\t 155.85777119682857\t    \t    \n",
            "init\t [ 3.15902931 -6.12299564]\t 281.877765303078\t 155.85777119682857\t    \t    \n",
            "1  \t [-10. -10.]\t 2594.0\t 155.85777119682857\t 6.053170869622787\t 5.775324040727576\n",
            "\u001b[1m\u001b[92m2\u001b[0m\t \u001b[1m\u001b[92m[ 8.33875675 -1.12182159]\u001b[0m\t \u001b[1m\u001b[92m112.24145136287324\u001b[0m\t \u001b[1m\u001b[92m112.24145136287324\u001b[0m\t \u001b[1m\u001b[92m6.365310119303876\u001b[0m\t \u001b[1m\u001b[92m6.742787911881372\u001b[0m\n",
            "\u001b[1m\u001b[92m3\u001b[0m\t \u001b[1m\u001b[92m[-4.56172279  9.14761084]\u001b[0m\t \u001b[1m\u001b[92m70.09893873088411\u001b[0m\t \u001b[1m\u001b[92m70.09893873088411\u001b[0m\t \u001b[1m\u001b[92m6.118841782707137\u001b[0m\t \u001b[1m\u001b[92m6.755964994192252\u001b[0m\n",
            "4  \t [ 9.03563127 -5.57761678]\t 139.32187278779242\t 70.09893873088411\t 5.953484604087999\t 6.841086959237739\n",
            "5  \t [-2.44422691 -9.55253684]\t 1193.0146818652051\t 70.09893873088411\t 6.70052109769312\t 7.223951819527064\n",
            "6  \t [-6.53820169 -4.08782132]\t 962.7438927886911\t 70.09893873088411\t 6.634362995976989\t 6.912498258562197\n",
            "7  \t [-9.73116283  9.35447028]\t 232.15889906056978\t 70.09893873088411\t 7.5683375494231715\t 8.041441431559543\n",
            "\u001b[1m\u001b[92m8\u001b[0m\t \u001b[1m\u001b[92m[3.34699524 1.42303463]\u001b[0m\t \u001b[1m\u001b[92m10.366990449112082\u001b[0m\t \u001b[1m\u001b[92m10.366990449112082\u001b[0m\t \u001b[1m\u001b[92m6.257422928652075\u001b[0m\t \u001b[1m\u001b[92m6.439524074785594\u001b[0m\n",
            "9  \t [ 6.52472269 -9.99503482]\t 422.6157436381751\t 10.366990449112082\t 5.971399747757567\t 5.835762872722281\n",
            "10 \t [-1.6496776   4.72300201]\t 13.424437895571627\t 10.366990449112082\t 5.998567925601056\t 5.915692842490365\n",
            "11 \t [-1.29275417 -4.42864419]\t 438.46382051715824\t 10.366990449112082\t 5.985002794852091\t 6.143169403429493\n",
            "12 \t [-10.          -0.81180914]\t 1013.088649541142\t 10.366990449112082\t 6.491301855955183\t 6.192573266567022\n",
            "13 \t [10. 10.]\t 1154.0\t 10.366990449112082\t 6.81599696146596\t 6.8047777796466145\n",
            "14 \t [ 5.17389934 10.        ]\t 565.8455419113072\t 10.366990449112082\t 5.741154162532293\t 5.744540111690027\n",
            "15 \t [ 3.53119578 -1.86975948]\t 51.997030349991384\t 10.366990449112082\t 5.056462182266244\t 5.257230558911152\n",
            "16 \t [10.          2.55589374]\t 374.0105009586564\t 10.366990449112082\t 6.040268075737899\t 6.087675966952372\n",
            "\u001b[1m\u001b[92m17\u001b[0m\t \u001b[1m\u001b[92m[1.45878121 3.98065243]\u001b[0m\t \u001b[1m\u001b[92m9.460036244859584\u001b[0m\t \u001b[1m\u001b[92m9.460036244859584\u001b[0m\t \u001b[1m\u001b[92m5.5830797807367025\u001b[0m\t \u001b[1m\u001b[92m5.573108654036278\u001b[0m\n",
            "18 \t [-4.9795989   4.40675537]\t 121.37815554149947\t 9.460036244859584\t 5.917797262311999\t 6.095532964297242\n",
            "19 \t [-1.43171721  8.86095795]\t 87.3028447385176\t 9.460036244859584\t 5.63170017176175\t 5.350018383142714\n",
            "20 \t [5.92744775 2.54307372]\t 104.43077180823786\t 9.460036244859584\t 4.819210127700693\t 4.935216336052998\n"
          ]
        }
      ],
      "source": [
        "### EXACT GP EI GRADIENTS\n",
        "\n",
        "np.random.seed(run_num_20)\n",
        "surrogate_gp_20 = dGaussianProcess(cov_func, optimize=opt)\n",
        "\n",
        "gp_20 = dGPGO_gp(surrogate_gp_20, Acquisition_grad(util_gp), objfunc, param)\n",
        "gp_20.run(init_evals=n_init, max_iter=iters)\n"
      ]
    },
    {
      "cell_type": "code",
      "execution_count": 33,
      "metadata": {
        "id": "xkgzPRbBTHaq",
        "colab": {
          "base_uri": "https://localhost:8080/"
        },
        "outputId": "d10bdb03-78da-43ef-9952-4d8b45b2289e"
      },
      "outputs": [
        {
          "output_type": "execute_result",
          "data": {
            "text/plain": [
              "1663063617.8842766"
            ]
          },
          "metadata": {},
          "execution_count": 33
        }
      ],
      "source": [
        "end_gp = time.time()\n",
        "end_gp\n",
        "\n",
        "time_gp = end_gp - start_gp\n",
        "time_gp\n",
        "\n",
        "start_stp = time.time()\n",
        "start_stp"
      ]
    },
    {
      "cell_type": "code",
      "execution_count": 34,
      "metadata": {
        "id": "7CG3Ndvb16Rb",
        "colab": {
          "base_uri": "https://localhost:8080/"
        },
        "outputId": "7b2d0ce8-5935-4e55-a67b-f9b784cfd753"
      },
      "outputs": [
        {
          "output_type": "stream",
          "name": "stdout",
          "text": [
            "Evaluation \t Proposed point \t  Current eval. \t  Best eval. \t        Exact EI: StdDev. x \t Approx EI: StdDev. x \n",
            "init\t [-1.65955991  4.40648987]\t 15.332210716052247\t 15.332210716052247\t    \t    \n",
            "init\t [-9.9977125  -3.95334855]\t 1458.2611077633842\t 15.332210716052247\t    \t    \n",
            "init\t [-7.06488218 -8.1532281 ]\t 1666.779874000304\t 15.332210716052247\t    \t    \n",
            "init\t [-6.27479577 -3.08878546]\t 804.3371752309802\t 15.332210716052247\t    \t    \n",
            "init\t [-2.06465052  0.77633468]\t 126.2019077328938\t 15.332210716052247\t    \t    \n",
            "1  \t [ 7.89213327 -8.29911577]\t 252.857497365554\t 15.332210716052247\t 6.563365918770951\t 7.186179585878235\n",
            "2  \t [7.66612182 2.47344414]\t 195.49152221204983\t 15.332210716052247\t 6.807025020409646\t 6.269278259143331\n",
            "3  \t [10. 10.]\t 1154.0\t 15.332210716052247\t 6.596695142160601\t 6.739004209436971\n",
            "4  \t [-9.56950389  8.95940422]\t 232.24098716076017\t 15.332210716052247\t 7.01126299961098\t 7.919561116056699\n",
            "5  \t [ 2.56152397 -4.28847437]\t 186.75205921539708\t 15.332210716052247\t 6.0229311989282195\t 6.571654329831197\n",
            "6  \t [2.97890774 9.09707946]\t 301.9767307180535\t 15.332210716052247\t 5.115274364819268\t 6.670935220862719\n",
            "7  \t [  1.37661052 -10.        ]\t 806.5416831783699\t 15.332210716052247\t 5.958550559312985\t 7.1397371565768\n",
            "8  \t [-10.           2.22744674]\t 675.9688796559989\t 15.332210716052247\t 5.718578200977699\t 7.317714139343345\n",
            "9  \t [-3.78825496  9.64834899]\t 80.96772891804711\t 15.332210716052247\t 5.907974126067941\t 7.450847832612554\n",
            "\u001b[1m\u001b[92m10\u001b[0m\t \u001b[1m\u001b[92m[2.77362896 1.28509929]\u001b[0m\t \u001b[1m\u001b[92m6.100440172371946\u001b[0m\t \u001b[1m\u001b[92m6.100440172371946\u001b[0m\t \u001b[1m\u001b[92m5.948286590177725\u001b[0m\t \u001b[1m\u001b[92m6.507237807180082\u001b[0m\n",
            "11 \t [-5.6773587  4.5727388]\t 151.28920377845924\t 6.100440172371946\t 5.662405416669754\t 6.578832991085266\n",
            "12 \t [10.         -2.50457216]\t 160.17237788156632\t 6.100440172371946\t 6.009144911704144\t 7.085113169138326\n",
            "13 \t [-1.80928302 -4.85888575]\t 524.8934556098603\t 6.100440172371946\t 4.746008764266977\t 6.264230220195758\n",
            "14 \t [ 6.1019515  -2.32566498]\t 54.592807513986216\t 6.100440172371946\t 6.396071375847312\t 6.71734290138466\n",
            "15 \t [3.77619376 4.4367942 ]\t 80.7686996809124\t 6.100440172371946\t 5.037977273895687\t 6.239267498266932\n",
            "16 \t [ -3.09264598 -10.        ]\t 1354.383937625414\t 6.100440172371946\t 6.614016891600316\t 7.0121125819969095\n",
            "17 \t [-5.28406372 -0.15157131]\t 405.54669203356013\t 6.100440172371946\t 5.661706917240001\t 5.574493898680317\n",
            "18 \t [-0.45149065  7.94323252]\t 75.31141801725924\t 6.100440172371946\t 6.058211203748528\t 6.568369320168638\n",
            "19 \t [6.53644443 7.70891005]\t 472.69520484484156\t 6.100440172371946\t 6.559888491670253\t 7.8109124951205935\n",
            "20 \t [9.54613651 5.6013337 ]\t 576.8677553592511\t 6.100440172371946\t 5.77640367523026\t 7.6967260862092735\n"
          ]
        }
      ],
      "source": [
        "### EXACT STP EI GRADIENTS\n",
        "\n",
        "np.random.seed(run_num_1)\n",
        "surrogate_stp_1 = dtStudentProcess(cov_func, optimize=opt, nu = df)\n",
        "\n",
        "stp_1 = dGPGO_stp(surrogate_stp_1, Acquisition_grad(util_stp), objfunc, param)\n",
        "stp_1.run(init_evals=n_init, max_iter=iters)\n"
      ]
    },
    {
      "cell_type": "code",
      "execution_count": 35,
      "metadata": {
        "id": "-ilCPSAu9SAg",
        "colab": {
          "base_uri": "https://localhost:8080/"
        },
        "outputId": "de01d273-c1b1-4bb9-ff6b-37ec84a34f90"
      },
      "outputs": [
        {
          "output_type": "stream",
          "name": "stdout",
          "text": [
            "Evaluation \t Proposed point \t  Current eval. \t  Best eval. \t        Exact EI: StdDev. x \t Approx EI: StdDev. x \n",
            "init\t [-1.28010196 -9.48147536]\t 1032.6027521517153\t 92.40504507724606\t    \t    \n",
            "init\t [ 0.99324956 -1.29355215]\t 92.40504507724606\t 92.40504507724606\t    \t    \n",
            "init\t [-1.59264396 -3.39330358]\t 370.5851459944721\t 92.40504507724606\t    \t    \n",
            "init\t [-5.90702732  2.38541933]\t 274.38308294748543\t 92.40504507724606\t    \t    \n",
            "init\t [-4.00690653 -4.6634545 ]\t 725.9498417670716\t 92.40504507724606\t    \t    \n",
            "1  \t [10. 10.]\t 1154.0\t 92.40504507724606\t 7.219981268929999\t 6.610779776070095\n",
            "2  \t [ 9.4582138 -7.7444757]\t 207.8931124700012\t 92.40504507724606\t 6.98781484854845\t 6.373938761220194\n",
            "\u001b[1m\u001b[92m3\u001b[0m\t \u001b[1m\u001b[92m[0.98993642 6.90226231]\u001b[0m\t \u001b[1m\u001b[92m75.82459634014478\u001b[0m\t \u001b[1m\u001b[92m75.82459634014478\u001b[0m\t \u001b[1m\u001b[92m6.433762001727779\u001b[0m\t \u001b[1m\u001b[92m6.507397640624521\u001b[0m\n",
            "4  \t [8.51803193 1.4054842 ]\t 199.41545789668123\t 75.82459634014478\t 7.006344830831036\t 7.187158754879026\n",
            "5  \t [-10. -10.]\t 2594.0\t 75.82459634014478\t 7.2583627964233965\t 6.8908904267368625\n",
            "6  \t [-8.60678819  8.70307127]\t 185.77142455141157\t 75.82459634014478\t 6.224949111651623\t 6.575321066109158\n",
            "7  \t [-10.          -3.48771936]\t 1386.371816436168\t 75.82459634014478\t 5.461891051005692\t 6.670708123293072\n",
            "8  \t [ 4.43983578 10.        ]\t 496.7931542370759\t 75.82459634014478\t 5.588836157304486\t 6.000524001991791\n",
            "9  \t [ 5.51898791 -3.88026339]\t 90.06176362217276\t 75.82459634014478\t 4.923164627248484\t 6.379774704791104\n",
            "\u001b[1m\u001b[92m10\u001b[0m\t \u001b[1m\u001b[92m[-0.92973946  2.82346295]\u001b[0m\t \u001b[1m\u001b[92m21.50066269540448\u001b[0m\t \u001b[1m\u001b[92m21.50066269540448\u001b[0m\t \u001b[1m\u001b[92m5.147936682488892\u001b[0m\t \u001b[1m\u001b[92m6.942427401205935\u001b[0m\n",
            "11 \t [-3.51933609  7.97398639]\t 45.991766859948605\t 21.50066269540448\t 5.505247549789587\t 6.079237875039209\n",
            "12 \t [ 4.19395359 -9.32717521]\t 495.82353684312966\t 21.50066269540448\t 5.0382312141495875\t 7.16974647853\n",
            "13 \t [-10.           2.44314868]\t 655.5533332371342\t 21.50066269540448\t 5.790843093753368\t 7.1914995691231915\n",
            "14 \t [ 1.84308145 -4.51537358]\t 235.26955554222883\t 21.50066269540448\t 6.170907506780522\t 7.26402121589982\n",
            "15 \t [6.32754413 5.26773985]\t 264.27872515431875\t 21.50066269540448\t 5.382732753032222\t 6.199151487709698\n",
            "16 \t [ -5.55167136 -10.        ]\t 1740.9958088482294\t 21.50066269540448\t 5.971783875912062\t 5.952510729193441\n",
            "\u001b[1m\u001b[92m17\u001b[0m\t \u001b[1m\u001b[92m[4.39087106 0.67718895]\u001b[0m\t \u001b[1m\u001b[92m21.45646646855156\u001b[0m\t \u001b[1m\u001b[92m21.45646646855156\u001b[0m\t \u001b[1m\u001b[92m5.403864228910868\u001b[0m\t \u001b[1m\u001b[92m6.270541635249961\u001b[0m\n",
            "18 \t [-6.11780078 -1.417923  ]\t 602.4728244485738\t 21.45646646855156\t 5.7816481126158905\t 6.062940419047072\n",
            "\u001b[1m\u001b[92m19\u001b[0m\t \u001b[1m\u001b[92m[1.99249647 3.06548729]\u001b[0m\t \u001b[1m\u001b[92m5.466656327244423\u001b[0m\t \u001b[1m\u001b[92m5.466656327244423\u001b[0m\t \u001b[1m\u001b[92m4.961149768040965\u001b[0m\t \u001b[1m\u001b[92m7.13081684324338\u001b[0m\n",
            "20 \t [-1.38791832 10.        ]\t 139.7873436620208\t 5.466656327244423\t 5.675926482945083\t 7.369997112249761\n"
          ]
        }
      ],
      "source": [
        "### EXACT STP EI GRADIENTS\n",
        "\n",
        "np.random.seed(run_num_2)\n",
        "surrogate_stp_2 = dtStudentProcess(cov_func, optimize=opt, nu = df)\n",
        "\n",
        "stp_2 = dGPGO_stp(surrogate_stp_2, Acquisition_grad(util_stp), objfunc, param)\n",
        "stp_2.run(init_evals=n_init, max_iter=iters)\n"
      ]
    },
    {
      "cell_type": "code",
      "execution_count": 36,
      "metadata": {
        "id": "XieJ158mIvlP",
        "colab": {
          "base_uri": "https://localhost:8080/"
        },
        "outputId": "4ce2603f-b979-461c-d3c8-a3a09640b826"
      },
      "outputs": [
        {
          "output_type": "stream",
          "name": "stdout",
          "text": [
            "Evaluation \t Proposed point \t  Current eval. \t  Best eval. \t        Exact EI: StdDev. x \t Approx EI: StdDev. x \n",
            "init\t [1.01595805 4.16295645]\t 6.912079999083602\t 6.912079999083602\t    \t    \n",
            "init\t [-4.18190522  0.2165521 ]\t 288.3871250813255\t 6.912079999083602\t    \t    \n",
            "init\t [7.85893909 7.92586178]\t 626.8352854305291\t 6.912079999083602\t    \t    \n",
            "init\t [-7.48829379 -5.85514244]\t 1353.6437998345716\t 6.912079999083602\t    \t    \n",
            "init\t [-8.97065593 -1.18380313]\t 918.3130335940459\t 6.912079999083602\t    \t    \n",
            "1  \t [ 5.60629529 -3.87272935]\t 88.9992584872525\t 6.912079999083602\t 4.717150437873575\t 4.717150437873575\n",
            "2  \t [-6.2437035   9.04202486]\t 94.75343105833329\t 6.912079999083602\t 6.192187119839109\t 7.006821936778671\n",
            "3  \t [-0.35005916 -4.25900471]\t 350.9797320079161\t 6.912079999083602\t 6.546315574103579\t 6.850359717017537\n",
            "4  \t [9.55904819 0.05502095]\t 208.0012970893658\t 6.912079999083602\t 6.674251003643317\t 6.970113722342271\n",
            "5  \t [ 6.56863844 -9.15860953]\t 352.5523955078021\t 6.912079999083602\t 6.151807321992772\t 7.151567078215122\n",
            "6  \t [-9.21277105  4.93342182]\t 382.22930688812016\t 6.912079999083602\t 6.145951067620935\t 6.031681694024333\n",
            "7  \t [-10. -10.]\t 2594.0\t 6.912079999083602\t 5.798721249161084\t 5.965443802646578\n",
            "8  \t [ 1.21152007 10.        ]\t 257.0688275145703\t 6.912079999083602\t 5.984144107393892\t 7.052765831545431\n",
            "9  \t [ 5.74317947 -0.19878238]\t 42.2706096709416\t 6.912079999083602\t 5.245152871247986\t 5.505516634228973\n",
            "10 \t [ -2.46738736 -10.        ]\t 1265.7221612814305\t 6.912079999083602\t 6.490957973425739\t 6.7297232572610275\n",
            "11 \t [4.91058642 3.44148674]\t 91.2497600166505\t 6.912079999083602\t 6.069178422466112\t 5.437791773673817\n",
            "12 \t [-1.60474871  6.2660378 ]\t 19.200931825838044\t 6.912079999083602\t 6.101593821109943\t 7.011036607032536\n",
            "13 \t [ 1.26096344 -1.05833434]\t 74.21828245498278\t 6.912079999083602\t 7.570611464916508\t 7.446201988914252\n",
            "14 \t [-5.43709392  5.43177937]\t 111.51990747943864\t 6.912079999083602\t 5.390643864644219\t 6.725944973530752\n",
            "15 \t [ 9.97093215 -4.21037813]\t 144.8653782548394\t 6.912079999083602\t 6.450950045366884\t 6.22325827149652\n",
            "16 \t [-2.56871811  9.343387  ]\t 83.76945736750552\t 6.912079999083602\t 6.270380596510366\t 7.787395382062972\n",
            "17 \t [-0.98805165  1.54228238]\t 53.570593714401355\t 6.912079999083602\t 6.9585239561721055\t 7.350089217221698\n",
            "18 \t [ 4.70293075 -5.98326533]\t 205.9384852288142\t 6.912079999083602\t 6.401549363702782\t 6.26622879510411\n",
            "19 \t [ 2.14653791 -9.8385215 ]\t 712.9521036669187\t 6.912079999083602\t 5.923170784924371\t 6.092702586756447\n",
            "20 \t [-4.77009806 -5.49033935]\t 918.8201938823742\t 6.912079999083602\t 5.152200994865835\t 5.154273974048872\n"
          ]
        }
      ],
      "source": [
        "### EXACT STP EI GRADIENTS\n",
        "\n",
        "np.random.seed(run_num_3)\n",
        "surrogate_stp_3 = dtStudentProcess(cov_func, optimize=opt, nu = df)\n",
        "\n",
        "stp_3 = dGPGO_stp(surrogate_stp_3, Acquisition_grad(util_stp), objfunc, param)\n",
        "stp_3.run(init_evals=n_init, max_iter=iters)\n"
      ]
    },
    {
      "cell_type": "code",
      "execution_count": 37,
      "metadata": {
        "id": "PhLBVOIfIvol",
        "colab": {
          "base_uri": "https://localhost:8080/"
        },
        "outputId": "5d586898-f23a-412b-e0ff-5c3dab906788"
      },
      "outputs": [
        {
          "output_type": "stream",
          "name": "stdout",
          "text": [
            "Evaluation \t Proposed point \t  Current eval. \t  Best eval. \t        Exact EI: StdDev. x \t Approx EI: StdDev. x \n",
            "init\t [9.34059678 0.94464498]\t 231.80709501196006\t 215.08077877054313\t    \t    \n",
            "init\t [9.4536872  4.29631987]\t 453.3958241553961\t 215.08077877054313\t    \t    \n",
            "init\t [ 3.95457649 -5.67821009]\t 215.08077877054313\t 215.08077877054313\t    \t    \n",
            "init\t [ 9.5254891 -9.8753949]\t 314.14647993232734\t 215.08077877054313\t    \t    \n",
            "init\t [-4.94035275 -1.30416935]\t 473.61459720928724\t 215.08077877054313\t    \t    \n",
            "1  \t [-10. -10.]\t 2594.0\t 215.08077877054313\t 5.923633376023098\t 6.1139263068365155\n",
            "\u001b[1m\u001b[92m2\u001b[0m\t \u001b[1m\u001b[92m[1.43282743 6.87413988]\u001b[0m\t \u001b[1m\u001b[92m89.39616910477575\u001b[0m\t \u001b[1m\u001b[92m89.39616910477575\u001b[0m\t \u001b[1m\u001b[92m5.311252469726594\u001b[0m\t \u001b[1m\u001b[92m6.0260256543479604\u001b[0m\n",
            "3  \t [-2.55821353 -9.21450286]\t 1156.969294103378\t 89.39616910477575\t 6.646272429844893\t 6.980591824398845\n",
            "4  \t [10. 10.]\t 1154.0\t 89.39616910477575\t 6.706399459887297\t 7.1005991756012845\n",
            "5  \t [-6.86935575  9.72449447]\t 112.38841506890779\t 89.39616910477575\t 4.972739194669284\t 6.503041084257529\n",
            "\u001b[1m\u001b[92m6\u001b[0m\t \u001b[1m\u001b[92m[-2.71246452  3.62896245]\u001b[0m\t \u001b[1m\u001b[92m52.20992668814128\u001b[0m\t \u001b[1m\u001b[92m52.20992668814128\u001b[0m\t \u001b[1m\u001b[92m5.81187721224039\u001b[0m\t \u001b[1m\u001b[92m6.756644245205107\u001b[0m\n",
            "\u001b[1m\u001b[92m7\u001b[0m\t \u001b[1m\u001b[92m[2.84147041 0.67262397]\u001b[0m\t \u001b[1m\u001b[92m9.752109563519467\u001b[0m\t \u001b[1m\u001b[92m9.752109563519467\u001b[0m\t \u001b[1m\u001b[92m5.344058555404145\u001b[0m\t \u001b[1m\u001b[92m5.535825980752871\u001b[0m\n",
            "8  \t [-9.98584723 -2.66812849]\t 1262.236149100414\t 9.752109563519467\t 5.4021016897277505\t 6.314251047944285\n",
            "9  \t [-8.44407261  4.00738683]\t 374.9160027936357\t 9.752109563519467\t 5.131168454024213\t 6.264465260067476\n",
            "10 \t [ 8.57028699 -4.98127621]\t 121.6856635726497\t 9.752109563519467\t 5.975641877676665\t 6.983913077769051\n",
            "11 \t [ 0.13629002 -3.03421374]\t 227.4831371351186\t 9.752109563519467\t 5.041194603153871\t 5.880133643008302\n",
            "12 \t [-2.91916568  8.15405406]\t 48.02393021395088\t 9.752109563519467\t 5.939834365841216\t 5.760943744530661\n",
            "13 \t [ 2.6643292  -9.85467442]\t 668.907950624283\t 9.752109563519467\t 5.819259809957416\t 6.70276742413694\n",
            "14 \t [-5.84175498 -6.52903025]\t 1209.6224645140333\t 9.752109563519467\t 4.855331716753974\t 5.429096967113205\n",
            "15 \t [4.65679105 9.47717321]\t 466.1148197707547\t 9.752109563519467\t 4.862452713576155\t 5.576647375548714\n",
            "16 \t [4.67263703 4.29493768]\t 113.87232009300544\t 9.752109563519467\t 5.046740409883775\t 6.181982731664783\n",
            "17 \t [2.14852253 4.24014763]\t 25.680050629095042\t 9.752109563519467\t 5.540576754791832\t 5.988825605321061\n",
            "18 \t [ 5.4528806 -1.6113545]\t 41.19319189745387\t 9.752109563519467\t 5.009079765914255\t 7.084754801525703\n",
            "19 \t [-1.84306566  0.36208   ]\t 135.2064595990725\t 9.752109563519467\t 4.772507659589633\t 6.3566771309134\n",
            "20 \t [-9.70741847 -6.29335414]\t 1801.1388618784295\t 9.752109563519467\t 5.907127199941564\t 5.905791505969478\n"
          ]
        }
      ],
      "source": [
        "### EXACT STP EI GRADIENTS\n",
        "\n",
        "np.random.seed(run_num_4)\n",
        "surrogate_stp_4 = dtStudentProcess(cov_func, optimize=opt, nu = df)\n",
        "\n",
        "stp_4 = dGPGO_stp(surrogate_stp_4, Acquisition_grad(util_stp), objfunc, param)\n",
        "stp_4.run(init_evals=n_init, max_iter=iters)\n"
      ]
    },
    {
      "cell_type": "code",
      "execution_count": 38,
      "metadata": {
        "id": "arbiPyj2IvsJ",
        "colab": {
          "base_uri": "https://localhost:8080/"
        },
        "outputId": "eee1d481-c5c5-4e4e-b246-6f8c7d95f9e0"
      },
      "outputs": [
        {
          "output_type": "stream",
          "name": "stdout",
          "text": [
            "Evaluation \t Proposed point \t  Current eval. \t  Best eval. \t        Exact EI: StdDev. x \t Approx EI: StdDev. x \n",
            "init\t [-5.56013658  7.41464612]\t 80.93700948496809\t 18.053107398965345\t    \t    \n",
            "init\t [-5.86561689  8.37221816]\t 84.91838238990834\t 18.053107398965345\t    \t    \n",
            "init\t [-0.23177622  2.23487726]\t 18.053107398965345\t 18.053107398965345\t    \t    \n",
            "init\t [5.31815713 0.36835976]\t 36.94936820355582\t 18.053107398965345\t    \t    \n",
            "init\t [-4.06398997 -6.24557543]\t 930.179306576812\t 18.053107398965345\t    \t    \n",
            "1  \t [9.27861058 9.20453431]\t 946.0775823883291\t 18.053107398965345\t 7.642855955099233\t 7.5506554476188645\n",
            "2  \t [ 8.87080164 -7.76615146]\t 211.3917378701312\t 18.053107398965345\t 6.853952885501704\t 6.84603029310969\n",
            "3  \t [-10. -10.]\t 2594.0\t 18.053107398965345\t 6.8065198011005394\t 7.339478387816786\n",
            "4  \t [-10.          -1.23864807]\t 1067.8317179536475\t 18.053107398965345\t 5.4934345241051314\t 6.229723439022237\n",
            "5  \t [ 2.71219403 -9.58857147]\t 634.5860850834351\t 18.053107398965345\t 5.404684433874697\t 6.376537091532854\n",
            "6  \t [ 1.66225258 -3.02344856]\t 151.69020026345768\t 18.053107398965345\t 6.665455234330691\t 6.846498004605951\n",
            "7  \t [0.08644828 7.48367441]\t 71.92101702836273\t 18.053107398965345\t 4.9916172549526925\t 5.999123424668389\n",
            "8  \t [-5.3109853   1.56454643]\t 281.91832294755307\t 18.053107398965345\t 5.776102419100357\t 7.557902543951707\n",
            "9  \t [9.07465641 3.57274639]\t 364.63841520619417\t 18.053107398965345\t 5.8557153384569975\t 6.561237052896602\n",
            "10 \t [-9.36450225  5.1046142 ]\t 384.75531053708687\t 18.053107398965345\t 6.345962849558715\t 6.867653601041864\n",
            "11 \t [4.24087895 8.62320876]\t 356.41197693801007\t 18.053107398965345\t 6.214711457634508\t 6.587059380309862\n",
            "12 \t [ 8.20061259 -2.69742324]\t 93.34776626019021\t 18.053107398965345\t 5.823322526066919\t 6.0900134562118335\n",
            "13 \t [3.06614703 4.18523889]\t 47.95979652513458\t 18.053107398965345\t 5.495735328950462\t 7.388572332784255\n",
            "14 \t [-8.48165682 -5.78419291]\t 1501.628926097257\t 18.053107398965345\t 4.917038394932202\t 5.877981399596112\n",
            "15 \t [ -2.4417179 -10.       ]\t 1262.1657720647158\t 18.053107398965345\t 5.022419006074256\t 6.510870788536376\n",
            "16 \t [-2.40052596 -1.74297865]\t 299.3260922470971\t 18.053107398965345\t 5.738110350200046\t 6.253344342976361\n",
            "17 \t [-6.18334685 -2.46975172]\t 721.9222691147922\t 18.053107398965345\t 5.570788440141838\t 6.864078586809834\n",
            "18 \t [ 0.22714018 -6.54835179]\t 517.8779706225785\t 18.053107398965345\t 5.4110621728706505\t 6.436736572284183\n",
            "19 \t [1.98003841 0.16520035]\t 22.757121477297574\t 18.053107398965345\t 5.159684548937926\t 7.3093577834937244\n",
            "20 \t [6.45844444 6.67176026]\t 376.7189902373001\t 18.053107398965345\t 5.574026205528393\t 6.505797659990447\n"
          ]
        }
      ],
      "source": [
        "### EXACT STP EI GRADIENTS\n",
        "\n",
        "np.random.seed(run_num_5)\n",
        "surrogate_stp_5 = dtStudentProcess(cov_func, optimize=opt, nu = df)\n",
        "\n",
        "stp_5 = dGPGO_stp(surrogate_stp_5, Acquisition_grad(util_stp), objfunc, param)\n",
        "stp_5.run(init_evals=n_init, max_iter=iters)\n"
      ]
    },
    {
      "cell_type": "code",
      "execution_count": 39,
      "metadata": {
        "id": "04KJCEm_Ivvf",
        "colab": {
          "base_uri": "https://localhost:8080/"
        },
        "outputId": "6a04da6f-814b-447a-d154-97600014e33c"
      },
      "outputs": [
        {
          "output_type": "stream",
          "name": "stdout",
          "text": [
            "Evaluation \t Proposed point \t  Current eval. \t  Best eval. \t        Exact EI: StdDev. x \t Approx EI: StdDev. x \n",
            "init\t [ 7.85720303 -3.36040389]\t 88.46320859272592\t 88.46320859272592\t    \t    \n",
            "init\t [ 6.42458246 -9.16606749]\t 359.2297742730208\t 88.46320859272592\t    \t    \n",
            "init\t [-7.8468664   1.90104128]\t 475.1525044254979\t 88.46320859272592\t    \t    \n",
            "init\t [ 0.59634724 -1.62385143]\t 122.64613090496854\t 88.46320859272592\t    \t    \n",
            "init\t [-3.29184301  2.45038864]\t 112.48071079498652\t 88.46320859272592\t    \t    \n",
            "1  \t [ -4.05176481 -10.        ]\t 1497.9851779796127\t 88.46320859272592\t 6.117702604195868\t 5.956539512944527\n",
            "2  \t [10. 10.]\t 1154.0\t 88.46320859272592\t 7.372934580459524\t 7.111602611345192\n",
            "3  \t [2.46299902 9.4614501 ]\t 295.07827894539565\t 88.46320859272592\t 6.182450903376501\t 6.258118644382397\n",
            "\u001b[1m\u001b[92m4\u001b[0m\t \u001b[1m\u001b[92m[-5.6935267   8.60486508]\u001b[0m\t \u001b[1m\u001b[92m80.95854876086956\u001b[0m\t \u001b[1m\u001b[92m80.95854876086956\u001b[0m\t \u001b[1m\u001b[92m6.64053898122913\u001b[0m\t \u001b[1m\u001b[92m6.4396477882903955\u001b[0m\n",
            "5  \t [-10.          -5.45565933]\t 1706.5888943865389\t 80.95854876086956\t 6.607320615423645\t 6.2950378000248275\n",
            "\u001b[1m\u001b[92m6\u001b[0m\t \u001b[1m\u001b[92m[5.27911136 2.46180165]\u001b[0m\t \u001b[1m\u001b[92m74.57817195671946\u001b[0m\t \u001b[1m\u001b[92m74.57817195671946\u001b[0m\t \u001b[1m\u001b[92m6.606199279464792\u001b[0m\t \u001b[1m\u001b[92m5.986458097011207\u001b[0m\n",
            "7  \t [ 0.80775099 -8.56786423]\t 687.0534960796683\t 74.57817195671946\t 6.2409856551036365\t 6.176210332848163\n",
            "8  \t [-5.2160087  -2.20998074]\t 587.9956019453816\t 74.57817195671946\t 6.767287945549084\t 6.700720619954912\n",
            "\u001b[1m\u001b[92m9\u001b[0m\t \u001b[1m\u001b[92m[-1.22868843  4.34354782]\u001b[0m\t \u001b[1m\u001b[92m9.906068482791387\u001b[0m\t \u001b[1m\u001b[92m9.906068482791387\u001b[0m\t \u001b[1m\u001b[92m5.526910149876347\u001b[0m\t \u001b[1m\u001b[92m5.243511560308378\u001b[0m\n",
            "10 \t [-8.80212012 -1.68075919]\t 957.006238778602\t 9.906068482791387\t 5.729411512346757\t 6.52957597526229\n",
            "11 \t [10.         2.2075002]\t 351.08029397433444\t 9.906068482791387\t 5.684515251731623\t 6.943426821629588\n",
            "12 \t [ -9.56356909 -10.        ]\t 2501.556144962756\t 9.906068482791387\t 6.304779901420866\t 7.691568978059419\n",
            "13 \t [ 3.45896194 -3.24909195]\t 102.55798614529127\t 9.906068482791387\t 5.483276557459465\t 5.520967049827114\n",
            "14 \t [7.66630543 5.89678902]\t 418.6421168819984\t 9.906068482791387\t 5.421289737363019\t 6.509529072935867\n",
            "15 \t [-10.           6.58025496]\t 354.028691181698\t 9.906068482791387\t 5.370630250970551\t 6.736429456850976\n",
            "16 \t [-2.08579126 -5.1087788 ]\t 576.5479969844708\t 9.906068482791387\t 5.183271524505449\t 5.897735756004069\n",
            "17 \t [-1.02635482  7.60571115]\t 51.93100534139855\t 9.906068482791387\t 6.392620462859447\t 7.419096386829006\n",
            "18 \t [2.51109386 5.23704755]\t 63.48204254569012\t 9.906068482791387\t 5.369785435775027\t 6.334845558638062\n",
            "19 \t [-4.62539184  5.36918923]\t 79.66951272617466\t 9.906068482791387\t 5.849889572427179\t 6.493679119367041\n",
            "20 \t [ 9.636742   -6.15584608]\t 159.50070605179778\t 9.906068482791387\t 6.1041962263534915\t 5.901370054827341\n"
          ]
        }
      ],
      "source": [
        "### EXACT STP EI GRADIENTS\n",
        "\n",
        "np.random.seed(run_num_6)\n",
        "surrogate_stp_6 = dtStudentProcess(cov_func, optimize=opt, nu = df)\n",
        "\n",
        "stp_6 = dGPGO_stp(surrogate_stp_6, Acquisition_grad(util_stp), objfunc, param)\n",
        "stp_6.run(init_evals=n_init, max_iter=iters)\n"
      ]
    },
    {
      "cell_type": "code",
      "execution_count": 40,
      "metadata": {
        "id": "tAOkme3CIvyO",
        "colab": {
          "base_uri": "https://localhost:8080/"
        },
        "outputId": "e0f33ca8-8112-4ae9-f21d-905827aff20f"
      },
      "outputs": [
        {
          "output_type": "stream",
          "name": "stdout",
          "text": [
            "Evaluation \t Proposed point \t  Current eval. \t  Best eval. \t        Exact EI: StdDev. x \t Approx EI: StdDev. x \n",
            "init\t [-8.47383421  5.59837584]\t 285.59280278210764\t 9.465549861932052\t    \t    \n",
            "init\t [-1.23181537  4.46930356]\t 9.465549861932052\t 9.465549861932052\t    \t    \n",
            "init\t [9.55979024 0.76991741]\t 238.50407296157155\t 9.465549861932052\t    \t    \n",
            "init\t [ 0.02240927 -8.55897733]\t 763.2277954619568\t 9.465549861932052\t    \t    \n",
            "init\t [-4.63122040e+00 -2.34998349e-03]\t 338.87889871968287\t 9.465549861932052\t    \t    \n",
            "1  \t [-10.         -8.2251621]\t 2222.835586043283\t 9.465549861932052\t 5.1555136817010485\t 5.320895598711625\n",
            "2  \t [10. 10.]\t 1154.0\t 9.465549861932052\t 6.802093333781339\t 6.921584111600699\n",
            "3  \t [ 7.45254366 -9.52193948]\t 345.78455019200885\t 9.465549861932052\t 6.286472392151477\t 7.264764452439928\n",
            "4  \t [-7.86246511 -2.61028169]\t 947.860148457175\t 9.465549861932052\t 5.644663185273079\t 5.6064499644646855\n",
            "5  \t [ 3.92046017 -1.99722202]\t 50.75307454952395\t 9.465549861932052\t 5.965485748524862\t 7.025283052935781\n",
            "6  \t [ 3.16650617 10.        ]\t 389.79309068462203\t 9.465549861932052\t 5.785758667305213\t 7.796492387163139\n",
            "7  \t [-2.78617785  9.79828268]\t 96.84289224848955\t 9.465549861932052\t 5.096297593958484\t 6.613143944180178\n",
            "8  \t [3.96359294 4.54552155]\t 92.49997371228781\t 9.465549861932052\t 5.568934097895892\t 6.362121286764405\n",
            "9  \t [0.63419491 0.82525783]\t 30.680838528608597\t 9.465549861932052\t 5.639802187148949\t 6.047444006585746\n",
            "10 \t [ 8.32532135 -4.42628539]\t 108.85082254015896\t 9.465549861932052\t 5.661780475918841\t 7.241582214976949\n",
            "11 \t [ -5.15235658 -10.        ]\t 1674.1025410053435\t 9.465549861932052\t 6.002143256949468\t 6.5403270755835425\n",
            "12 \t [-1.88426972 -3.6975958 ]\t 420.4253885014783\t 9.465549861932052\t 6.137719203171603\t 6.734631751286206\n",
            "13 \t [9.8943376  5.24374526]\t 580.3711942862276\t 9.465549861932052\t 6.020064858403132\t 7.469996127484095\n",
            "14 \t [-8.86474093  1.39639218]\t 625.9767640464489\t 9.465549861932052\t 5.0182642603584435\t 6.813959794279727\n",
            "15 \t [-9.34713271  9.86868536]\t 202.64037767350146\t 9.465549861932052\t 5.9013388370193445\t 7.472745926947149\n",
            "16 \t [-5.24466004  6.10803375]\t 88.00935067997807\t 9.465549861932052\t 4.963239489520222\t 5.692595285403079\n",
            "17 \t [ 3.82470431 -6.21196235]\t 256.0274662028883\t 9.465549861932052\t 4.889275330678608\t 6.5573987657678545\n",
            "18 \t [6.4749226  7.20223167]\t 422.22278743368844\t 9.465549861932052\t 6.419442901695942\t 7.216891012547277\n",
            "19 \t [-7.09877663 -7.65168159]\t 1585.3672377735647\t 9.465549861932052\t 6.043893598428641\t 6.058276771815705\n",
            "20 \t [5.53257114 1.07193347]\t 51.39541881046686\t 9.465549861932052\t 5.631308664157003\t 6.796122794126795\n"
          ]
        }
      ],
      "source": [
        "### EXACT STP EI GRADIENTS\n",
        "\n",
        "np.random.seed(run_num_7)\n",
        "surrogate_stp_7 = dtStudentProcess(cov_func, optimize=opt, nu = df)\n",
        "\n",
        "stp_7 = dGPGO_stp(surrogate_stp_7, Acquisition_grad(util_stp), objfunc, param)\n",
        "stp_7.run(init_evals=n_init, max_iter=iters)\n"
      ]
    },
    {
      "cell_type": "code",
      "execution_count": 41,
      "metadata": {
        "id": "69-J3EF4Iv1S",
        "colab": {
          "base_uri": "https://localhost:8080/"
        },
        "outputId": "756b3167-161c-402b-924e-70886926c617"
      },
      "outputs": [
        {
          "output_type": "stream",
          "name": "stdout",
          "text": [
            "Evaluation \t Proposed point \t  Current eval. \t  Best eval. \t        Exact EI: StdDev. x \t Approx EI: StdDev. x \n",
            "init\t [7.46858806 9.37081326]\t 741.8307972128058\t 75.39770051777191\t    \t    \n",
            "init\t [7.3838908  0.61711383]\t 110.46436066448925\t 75.39770051777191\t    \t    \n",
            "init\t [-5.34543344 -9.77202391]\t 1665.297823285088\t 75.39770051777191\t    \t    \n",
            "init\t [-1.39062363 -1.9529728 ]\t 245.96065521704543\t 75.39770051777191\t    \t    \n",
            "init\t [ 0.45349343 -0.43216408]\t 75.39770051777191\t 75.39770051777191\t    \t    \n",
            "1  \t [ 9.69498875 -9.42535902]\t 285.65502563735186\t 75.39770051777191\t 6.583109918991878\t 6.609275373863879\n",
            "2  \t [-9.83383251  5.77166529]\t 385.04821658618386\t 75.39770051777191\t 6.891921991488422\t 5.9999178884775635\n",
            "3  \t [-3.97152767  9.51013426]\t 76.56717653580492\t 75.39770051777191\t 7.108422013189667\t 6.345323094593282\n",
            "4  \t [-9.65586204 -5.07440767]\t 1582.0354694335447\t 75.39770051777191\t 7.238276215862219\t 7.22593890266256\n",
            "5  \t [  2.43630913 -10.        ]\t 705.9387696177387\t 75.39770051777191\t 5.9508031199609315\t 5.89836091475158\n",
            "6  \t [-3.74192841  4.06151807]\t 77.79438658797245\t 75.39770051777191\t 7.371195637154928\t 6.8923898408691775\n",
            "7  \t [-8.7145669   0.49877078]\t 697.5316569434235\t 75.39770051777191\t 6.971553023866391\t 5.774601714802446\n",
            "8  \t [1.70756289 8.58254224]\t 189.92711320123325\t 75.39770051777191\t 7.86216857283151\t 6.49388181975638\n",
            "9  \t [ 9.94206526 -3.51674415]\t 145.95721518615102\t 75.39770051777191\t 8.497497383286818\t 7.424439335764035\n",
            "10 \t [ 5.54123412 -6.09123291]\t 186.0832789468513\t 75.39770051777191\t 7.531797062851347\t 6.685745139675012\n",
            "11 \t [4.77050516 5.2861335 ]\t 166.17460320641646\t 75.39770051777191\t 7.480145942284722\t 6.88949157403749\n",
            "12 \t [-10. -10.]\t 2594.0\t 75.39770051777191\t 8.214945344281936\t 7.0568913274517655\n",
            "13 \t [ 1.77710967 -4.40330365]\t 231.03859125122864\t 75.39770051777191\t 5.342779085242279\t 5.69275235614767\n",
            "14 \t [9.99726945 4.43589418]\t 518.4162630323448\t 75.39770051777191\t 6.318617610878425\t 7.630135261433305\n",
            "15 \t [-1.49655092 -8.05221887]\t 862.6609602567836\t 75.39770051777191\t 5.4482408252517\t 5.066065602381475\n",
            "\u001b[1m\u001b[92m16\u001b[0m\t \u001b[1m\u001b[92m[0.3474399  4.55941326]\u001b[0m\t \u001b[1m\u001b[92m6.147135036807248\u001b[0m\t \u001b[1m\u001b[92m6.147135036807248\u001b[0m\t \u001b[1m\u001b[92m5.3241151403097815\u001b[0m\t \u001b[1m\u001b[92m6.523224501556323\u001b[0m\n",
            "17 \t [ 8.90857551 -6.91909576]\t 177.1027940812109\t 6.147135036807248\t 6.190327544706123\t 6.870037323677326\n",
            "18 \t [ 4.10184677 -1.13371736]\t 30.9681001894734\t 6.147135036807248\t 6.170198968244702\t 6.8677353343675716\n",
            "19 \t [-6.49139782 -4.3782308 ]\t 994.9827524646237\t 6.147135036807248\t 5.319706834190214\t 5.289863110597369\n",
            "\u001b[1m\u001b[92m20\u001b[0m\t \u001b[1m\u001b[92m[1.68781758 2.44141867]\u001b[0m\t \u001b[1m\u001b[92m0.8519141700285205\u001b[0m\t \u001b[1m\u001b[92m0.8519141700285205\u001b[0m\t \u001b[1m\u001b[92m5.449165532979618\u001b[0m\t \u001b[1m\u001b[92m8.13109525319931\u001b[0m\n"
          ]
        }
      ],
      "source": [
        "### EXACT STP EI GRADIENTS\n",
        "\n",
        "np.random.seed(run_num_8)\n",
        "surrogate_stp_8 = dtStudentProcess(cov_func, optimize=opt, nu = df)\n",
        "\n",
        "stp_8 = dGPGO_stp(surrogate_stp_8, Acquisition_grad(util_stp), objfunc, param)\n",
        "stp_8.run(init_evals=n_init, max_iter=iters)\n"
      ]
    },
    {
      "cell_type": "code",
      "execution_count": 42,
      "metadata": {
        "id": "vonm9jyuIv4t",
        "colab": {
          "base_uri": "https://localhost:8080/"
        },
        "outputId": "750a8432-44c8-48e9-9f00-72cd22283ada"
      },
      "outputs": [
        {
          "output_type": "stream",
          "name": "stdout",
          "text": [
            "Evaluation \t Proposed point \t  Current eval. \t  Best eval. \t        Exact EI: StdDev. x \t Approx EI: StdDev. x \n",
            "init\t [-9.79251692  0.03749184]\t 882.0577358281939\t 526.7340464177141\t    \t    \n",
            "init\t [-0.08453414 -7.32340942]\t 628.3137012668271\t 526.7340464177141\t    \t    \n",
            "init\t [-7.15777829 -5.62882649]\t 1268.1663931377898\t 526.7340464177141\t    \t    \n",
            "init\t [-1.62983639 -5.03797663]\t 526.7340464177141\t 526.7340464177141\t    \t    \n",
            "init\t [-8.31880698 -3.0900272 ]\t 1073.657277368356\t 526.7340464177141\t    \t    \n",
            "1  \t [6.0747954  9.66718496]\t 621.7013152481403\t 526.7340464177141\t 6.9318613169127135\t 6.029721267865269\n",
            "\u001b[1m\u001b[92m2\u001b[0m\t \u001b[1m\u001b[92m[4.69531634 1.12432974]\u001b[0m\t \u001b[1m\u001b[92m30.41794917619908\u001b[0m\t \u001b[1m\u001b[92m30.41794917619908\u001b[0m\t \u001b[1m\u001b[92m6.893895864664688\u001b[0m\t \u001b[1m\u001b[92m6.6687950738805934\u001b[0m\n",
            "3  \t [-4.34667475  7.2314955 ]\t 51.466984168071384\t 30.41794917619908\t 6.020341047827589\t 6.94601581632233\n",
            "4  \t [ 8.66970884 -6.33785621]\t 157.1508550483091\t 30.41794917619908\t 6.341120835016833\t 6.380981397299225\n",
            "5  \t [10.          5.77298998]\t 643.1026454398775\t 30.41794917619908\t 7.771732347272674\t 7.38526242103149\n",
            "6  \t [1.07454724 6.49643841]\t 63.23839280073391\t 30.41794917619908\t 5.745442529171696\t 6.023111926409521\n",
            "7  \t [-2.00413361  1.08900426]\t 109.31070926825305\t 30.41794917619908\t 5.481895895958088\t 7.048700536517888\n",
            "8  \t [-10. -10.]\t 2594.0\t 30.41794917619908\t 5.230394260720479\t 7.1975623576219645\n",
            "9  \t [ 3.85938425 -3.60405836]\t 107.88000196527028\t 30.41794917619908\t 5.145048007446997\t 7.077844378096866\n",
            "10 \t [ -4.3460849 -10.       ]\t 1543.8959485605797\t 30.41794917619908\t 5.03970912576443\t 7.187856074139438\n",
            "11 \t [-8.30362058  9.06853451]\t 165.24759444115244\t 30.41794917619908\t 5.289594046011296\t 7.141179166181464\n",
            "12 \t [-5.81688573  3.03901719]\t 230.22946123776634\t 30.41794917619908\t 4.7873216437821595\t 7.433953388186777\n",
            "13 \t [ 8.76473535 -1.85906421]\t 117.67331921260991\t 30.41794917619908\t 4.521665725068438\t 6.265768765692383\n",
            "14 \t [4.63548552 4.63548552]\t 127.02411061648692\t 30.41794917619908\t 4.74246564976697\t 7.76039964197395\n",
            "15 \t [10. 10.]\t 1154.0\t 30.41794917619908\t 5.541726420581893\t 5.9310560203797245\n",
            "16 \t [ 4.73628725 -9.42955506]\t 470.7453026673704\t 30.41794917619908\t 5.111745882995932\t 7.054008080182599\n",
            "17 \t [-10.           4.63549042]\t 474.45098766539564\t 30.41794917619908\t 4.516002041564645\t 6.281504971797525\n",
            "18 \t [2.15203928 9.6876432 ]\t 291.894251755474\t 30.41794917619908\t 5.030154995714405\t 6.790903006629618\n",
            "19 \t [-2.6962353   4.38117049]\t 37.00788774296733\t 30.41794917619908\t 5.302213520236485\t 6.2450226372177795\n",
            "20 \t [ 7.00622485 -5.03856773]\t 117.21497843754506\t 30.41794917619908\t 6.153300113169683\t 6.299474201808307\n"
          ]
        }
      ],
      "source": [
        "### EXACT STP EI GRADIENTS\n",
        "\n",
        "np.random.seed(run_num_9)\n",
        "surrogate_stp_9 = dtStudentProcess(cov_func, optimize=opt, nu = df)\n",
        "\n",
        "stp_9 = dGPGO_stp(surrogate_stp_9, Acquisition_grad(util_stp), objfunc, param)\n",
        "stp_9.run(init_evals=n_init, max_iter=iters)\n"
      ]
    },
    {
      "cell_type": "code",
      "execution_count": 43,
      "metadata": {
        "id": "6amuYlUdIv7r",
        "colab": {
          "base_uri": "https://localhost:8080/"
        },
        "outputId": "7b044200-4d02-4935-f8bb-8735cdbab3ea"
      },
      "outputs": [
        {
          "output_type": "stream",
          "name": "stdout",
          "text": [
            "Evaluation \t Proposed point \t  Current eval. \t  Best eval. \t        Exact EI: StdDev. x \t Approx EI: StdDev. x \n",
            "init\t [ 5.42641287 -9.58496101]\t 444.22200604720473\t 59.96573403226766\t    \t    \n",
            "init\t [2.6729647  4.97607765]\t 59.96573403226766\t 59.96573403226766\t    \t    \n",
            "init\t [-0.02985975 -5.50406709]\t 436.96281238949786\t 59.96573403226766\t    \t    \n",
            "init\t [-6.0387427   5.21061424]\t 147.67401193720747\t 59.96573403226766\t    \t    \n",
            "init\t [-6.61778327 -8.23320372]\t 1605.6543289416081\t 59.96573403226766\t    \t    \n",
            "1  \t [10.          7.96260972]\t 885.4453761277164\t 59.96573403226766\t 5.969361977723801\t 6.111381983339671\n",
            "\u001b[1m\u001b[92m2\u001b[0m\t \u001b[1m\u001b[92m[2.11155129 0.26933255]\u001b[0m\t \u001b[1m\u001b[92m19.17823960765822\u001b[0m\t \u001b[1m\u001b[92m19.17823960765822\u001b[0m\t \u001b[1m\u001b[92m5.0778730812242285\u001b[0m\t \u001b[1m\u001b[92m5.06792391472162\u001b[0m\n",
            "3  \t [8.50713746 1.33499849]\t 195.6515526065785\t 19.17823960765822\t 5.8476686200766945\t 6.747520609705895\n",
            "4  \t [-10.         -0.5992853]\t 986.5113795287016\t 19.17823960765822\t 7.116483163170883\t 7.032553394876229\n",
            "5  \t [-8.79899589  9.77833948]\t 178.46366706135103\t 19.17823960765822\t 6.467501210416215\t 7.0970969620307836\n",
            "6  \t [-3.60498845 -0.2559006 ]\t 278.98111382556135\t 19.17823960765822\t 6.859245083117939\t 7.127570012125382\n",
            "7  \t [ 5.09447132 -4.54947648]\t 121.50753305417155\t 19.17823960765822\t 7.080445998133439\t 8.078292956907257\n",
            "8  \t [0.07149479 9.31105431]\t 156.57886799914345\t 19.17823960765822\t 7.4785058648390415\t 7.421639697967867\n",
            "9  \t [ 9.4047906  -4.48760733]\t 130.06966925476868\t 19.17823960765822\t 6.994340094986956\t 7.029949364330738\n",
            "10 \t [-4.03085666  8.85260838]\t 62.26364719699235\t 19.17823960765822\t 7.591285481750088\t 7.849162491407549\n",
            "11 \t [-10.          -5.40106765]\t 1697.1836412439634\t 19.17823960765822\t 6.494757269928232\t 6.847427006061123\n",
            "12 \t [ -0.94421983 -10.        ]\t 1066.0988165962856\t 19.17823960765822\t 6.499844997108836\t 6.77869892416336\n",
            "13 \t [5.10814167 7.70628542]\t 349.8024499501879\t 19.17823960765822\t 6.944889648171287\t 6.802789997488224\n",
            "\u001b[1m\u001b[92m14\u001b[0m\t \u001b[1m\u001b[92m[-1.22344985  5.43438817]\u001b[0m\t \u001b[1m\u001b[92m11.047954896199062\u001b[0m\t \u001b[1m\u001b[92m11.047954896199062\u001b[0m\t \u001b[1m\u001b[92m6.396059509929385\u001b[0m\t \u001b[1m\u001b[92m7.018037695828577\u001b[0m\n",
            "15 \t [-0.27999011 -1.47398784]\t 154.08799087577378\t 11.047954896199062\t 6.594317603371522\t 7.380888097031039\n",
            "16 \t [-4.67570888 -4.54651693]\t 788.4726096336842\t 11.047954896199062\t 7.193887485271779\t 7.59011476178353\n",
            "17 \t [-10. -10.]\t 2594.0\t 11.047954896199062\t 5.98574388539301\t 6.361426463107793\n",
            "18 \t [-3.57069789 -5.01568782]\t 718.8109517085921\t 11.047954896199062\t 5.302002599319782\t 5.608551598692994\n",
            "19 \t [ 8.64991192 -7.50937555]\t 201.6742558529669\t 11.047954896199062\t 5.681902558830653\t 6.674967249834452\n",
            "20 \t [7.25828208 7.00737759]\t 476.7602434600968\t 11.047954896199062\t 6.411415291603953\t 6.465581462512402\n"
          ]
        }
      ],
      "source": [
        "### EXACT STP EI GRADIENTS\n",
        "\n",
        "np.random.seed(run_num_10)\n",
        "surrogate_stp_10 = dtStudentProcess(cov_func, optimize=opt, nu = df)\n",
        "\n",
        "stp_10 = dGPGO_stp(surrogate_stp_10, Acquisition_grad(util_stp), objfunc, param)\n",
        "stp_10.run(init_evals=n_init, max_iter=iters)\n"
      ]
    },
    {
      "cell_type": "code",
      "execution_count": 44,
      "metadata": {
        "id": "VwbLIP9cIv-F",
        "colab": {
          "base_uri": "https://localhost:8080/"
        },
        "outputId": "9db93aba-08dc-44fa-ba31-00b3edda7b58"
      },
      "outputs": [
        {
          "output_type": "stream",
          "name": "stdout",
          "text": [
            "Evaluation \t Proposed point \t  Current eval. \t  Best eval. \t        Exact EI: StdDev. x \t Approx EI: StdDev. x \n",
            "init\t [-6.39460622 -9.61049517]\t 1814.521116554919\t 5.483030044782123\t    \t    \n",
            "init\t [-0.73562947  4.49867858]\t 5.483030044782123\t 5.483030044782123\t    \t    \n",
            "init\t [-1.59592791 -0.29145804]\t 156.21779076814232\t 5.483030044782123\t    \t    \n",
            "init\t [-9.74438371 -0.25256785]\t 909.6795910034871\t 5.483030044782123\t    \t    \n",
            "init\t [8.83613305 7.01590179]\t 639.4153671589368\t 5.483030044782123\t    \t    \n",
            "1  \t [ 1.99086793 -8.88652641]\t 617.1328244256196\t 5.483030044782123\t 6.185758008302068\t 6.3943135155428195\n",
            "2  \t [ 4.79903036 -1.6267314 ]\t 38.579631108734375\t 5.483030044782123\t 5.1343567094759095\t 4.846654737033998\n",
            "3  \t [-3.72641694  8.61531845]\t 57.03140194376866\t 5.483030044782123\t 5.871646563702384\t 7.311316504665365\n",
            "4  \t [ 8.16895886 -5.52723039]\t 131.4872354745823\t 5.483030044782123\t 5.943477347841052\t 6.441309845454031\n",
            "5  \t [-7.89611862  5.10567265]\t 268.0154091266694\t 5.483030044782123\t 5.931561007052302\t 5.882427943078447\n",
            "6  \t [-8.47917244 -4.4343425 ]\t 1289.392108733857\t 5.483030044782123\t 5.8220736635277115\t 6.366895120813661\n",
            "7  \t [10.          1.68651078]\t 319.05504570130756\t 5.483030044782123\t 7.0892789120800295\t 7.616903526563893\n",
            "8  \t [3.82437955 9.26757252]\t 377.91395513391444\t 5.483030044782123\t 6.356479445138002\t 6.644571514192271\n",
            "9  \t [-2.7194663  -5.05091101]\t 632.8187254544616\t 5.483030044782123\t 6.538386873161076\t 7.828781791698121\n",
            "10 \t [4.74019012 3.20044955]\t 76.14376618341569\t 5.483030044782123\t 7.4456555198917895\t 8.409874167764738\n",
            "11 \t [ 6.88950588 -9.79837911]\t 389.4149050728702\t 5.483030044782123\t 7.951809783536994\t 7.834166701269447\n",
            "12 \t [ 2.04715395 -4.63556974]\t 233.0273473356793\t 5.483030044782123\t 6.192388202973971\t 7.042581741094949\n",
            "13 \t [-5.10621269 -1.90502323]\t 546.3343521074336\t 5.483030044782123\t 5.783188357271849\t 7.157136623785619\n",
            "14 \t [-0.23304298  8.96568363]\t 126.70132600840455\t 5.483030044782123\t 6.6832788408504005\t 6.8384082614984765\n",
            "15 \t [ -2.18498476 -10.        ]\t 1226.9590552858217\t 5.483030044782123\t 6.756217862592281\t 7.275216633784918\n",
            "16 \t [-7.34960756  9.10433592]\t 127.14384230386216\t 5.483030044782123\t 7.03365873537519\t 7.612898801226793\n",
            "17 \t [-4.02294126  4.10905981]\t 87.73382469252668\t 5.483030044782123\t 6.444227913900995\t 7.332372515708075\n",
            "18 \t [1.77275872 0.74150529]\t 14.52760009896163\t 5.483030044782123\t 7.583902220810693\t 7.856331502008434\n",
            "19 \t [1.58427125 5.79235841]\t 53.74514962119625\t 5.483030044782123\t 6.199190763822612\t 7.255515086778172\n",
            "20 \t [-5.92752638  1.57943132]\t 328.7714014093958\t 5.483030044782123\t 6.5397269082748455\t 7.267689669877159\n"
          ]
        }
      ],
      "source": [
        "### EXACT STP EI GRADIENTS\n",
        "\n",
        "np.random.seed(run_num_11)\n",
        "surrogate_stp_11 = dtStudentProcess(cov_func, optimize=opt, nu = df)\n",
        "\n",
        "stp_11 = dGPGO_stp(surrogate_stp_11, Acquisition_grad(util_stp), objfunc, param)\n",
        "stp_11.run(init_evals=n_init, max_iter=iters)\n"
      ]
    },
    {
      "cell_type": "code",
      "execution_count": 45,
      "metadata": {
        "id": "MlUNFjc-JTBY",
        "colab": {
          "base_uri": "https://localhost:8080/"
        },
        "outputId": "4fa7830d-26e7-417e-cfec-6acabbda1f8e"
      },
      "outputs": [
        {
          "output_type": "stream",
          "name": "stdout",
          "text": [
            "Evaluation \t Proposed point \t  Current eval. \t  Best eval. \t        Exact EI: StdDev. x \t Approx EI: StdDev. x \n",
            "init\t [-6.91674315  4.80099393]\t 215.5279554685742\t 189.34864056663108\t    \t    \n",
            "init\t [-4.7336997   0.67478787]\t 298.0661631184378\t 189.34864056663108\t    \t    \n",
            "init\t [-9.70850075  8.37494016]\t 257.3494442600599\t 189.34864056663108\t    \t    \n",
            "init\t [ 8.01429708 -9.33157145]\t 314.3616446198572\t 189.34864056663108\t    \t    \n",
            "init\t [ 9.13898673 -7.25581357]\t 189.34864056663108\t 189.34864056663108\t    \t    \n",
            "\u001b[1m\u001b[92m1\u001b[0m\t \u001b[1m\u001b[92m[4.66251955 4.05244711]\u001b[0m\t \u001b[1m\u001b[92m103.44533669968575\u001b[0m\t \u001b[1m\u001b[92m103.44533669968575\u001b[0m\t \u001b[1m\u001b[92m6.300792474230376\u001b[0m\t \u001b[1m\u001b[92m5.818882446790455\u001b[0m\n",
            "2  \t [-10. -10.]\t 2594.0\t 103.44533669968575\t 6.695732765956745\t 5.94385448028257\n",
            "3  \t [10. 10.]\t 1154.0\t 103.44533669968575\t 6.0560244547045645\t 7.089578131405223\n",
            "4  \t [ 0.911419   -9.62772996]\t 806.285667866742\t 103.44533669968575\t 5.324708278484238\t 5.444330535300343\n",
            "5  \t [ 8.15269188 -0.957369  ]\t 107.66212394211308\t 103.44533669968575\t 5.216133873346463\t 4.400564918665509\n",
            "\u001b[1m\u001b[92m6\u001b[0m\t \u001b[1m\u001b[92m[-0.43591373  6.57248893]\u001b[0m\t \u001b[1m\u001b[92m33.084339682889876\u001b[0m\t \u001b[1m\u001b[92m33.084339682889876\u001b[0m\t \u001b[1m\u001b[92m5.719715247701543\u001b[0m\t \u001b[1m\u001b[92m6.5115094397818725\u001b[0m\n",
            "7  \t [ 2.4307639  -2.13199137]\t 83.18075969577885\t 33.084339682889876\t 6.246710264956368\t 6.1672296465223315\n",
            "8  \t [-6.68439284 -4.93354608]\t 1097.671112036865\t 33.084339682889876\t 6.128291534098593\t 6.603736073666592\n",
            "9  \t [-10.          -0.40148902]\t 962.1816720357979\t 33.084339682889876\t 4.938473987553856\t 5.37237546250501\n",
            "10 \t [ -4.43280908 -10.        ]\t 1557.5892168501946\t 33.084339682889876\t 5.387242690167215\t 6.097078276472862\n",
            "11 \t [-1.62008991 -4.72992407]\t 495.10775467437134\t 33.084339682889876\t 4.855335910401192\t 5.184882912037439\n",
            "12 \t [3.87396922 9.57204863]\t 408.3605355345377\t 33.084339682889876\t 5.124198093724456\t 6.523573361256744\n",
            "13 \t [ 4.47330014 -7.80086288]\t 343.49515579843666\t 33.084339682889876\t 5.136571531772891\t 7.3856764248955376\n",
            "14 \t [-3.70052717  9.95424593]\t 90.77348499363086\t 33.084339682889876\t 5.095561188104886\t 6.80358644077916\n",
            "15 \t [8.70642489 3.73438248]\t 344.91721810132645\t 33.084339682889876\t 6.016815744772284\t 6.327015851799258\n",
            "\u001b[1m\u001b[92m16\u001b[0m\t \u001b[1m\u001b[92m[-1.2141344   2.79640277]\u001b[0m\t \u001b[1m\u001b[92m28.325547845514897\u001b[0m\t \u001b[1m\u001b[92m28.325547845514897\u001b[0m\t \u001b[1m\u001b[92m4.966604795132742\u001b[0m\t \u001b[1m\u001b[92m6.2196695854868125\u001b[0m\n",
            "\u001b[1m\u001b[92m17\u001b[0m\t \u001b[1m\u001b[92m[4.04316037 0.76898133]\u001b[0m\t \u001b[1m\u001b[92m16.87656588665721\u001b[0m\t \u001b[1m\u001b[92m16.87656588665721\u001b[0m\t \u001b[1m\u001b[92m5.080777409937499\u001b[0m\t \u001b[1m\u001b[92m6.334015583041624\u001b[0m\n",
            "18 \t [ 1.91508122 -6.44603993]\t 381.1740698937552\t 16.87656588665721\t 6.085791564910151\t 6.083292893171422\n",
            "19 \t [-9.6224482   2.99731971]\t 564.4098351351573\t 16.87656588665721\t 5.762802290166612\t 5.844636603506514\n",
            "20 \t [-3.67097785  5.8707617 ]\t 43.02241960460535\t 16.87656588665721\t 5.280109001941211\t 5.385807957893537\n"
          ]
        }
      ],
      "source": [
        "### EXACT STP EI GRADIENTS\n",
        "\n",
        "np.random.seed(run_num_12)\n",
        "surrogate_stp_12 = dtStudentProcess(cov_func, optimize=opt, nu = df)\n",
        "\n",
        "stp_12 = dGPGO_stp(surrogate_stp_12, Acquisition_grad(util_stp), objfunc, param)\n",
        "stp_12.run(init_evals=n_init, max_iter=iters)\n"
      ]
    },
    {
      "cell_type": "code",
      "execution_count": 46,
      "metadata": {
        "id": "9BsKdU9eJTFL",
        "colab": {
          "base_uri": "https://localhost:8080/"
        },
        "outputId": "54d75fa5-81c7-4c9d-e08c-88dd63d0e8f0"
      },
      "outputs": [
        {
          "output_type": "stream",
          "name": "stdout",
          "text": [
            "Evaluation \t Proposed point \t  Current eval. \t  Best eval. \t        Exact EI: StdDev. x \t Approx EI: StdDev. x \n",
            "init\t [ 5.55404821 -5.2491756 ]\t 143.4041188295949\t 48.27231948835582\t    \t    \n",
            "init\t [6.48557065 9.31498396]\t 626.9828646177026\t 48.27231948835582\t    \t    \n",
            "init\t [ 9.45202228 -0.93101505]\t 168.64758529203058\t 48.27231948835582\t    \t    \n",
            "init\t [2.18084926 5.51053029]\t 62.202299160666314\t 48.27231948835582\t    \t    \n",
            "init\t [2.8322669  4.44036459]\t 48.27231948835582\t 48.27231948835582\t    \t    \n",
            "1  \t [-8.69830926  2.59657998]\t 502.3996877395562\t 48.27231948835582\t 5.484391039397778\t 6.237105232579203\n",
            "2  \t [-10. -10.]\t 2594.0\t 48.27231948835582\t 5.990219527655926\t 6.678348829662276\n",
            "3  \t [-2.15602907 -6.60875043]\t 754.0469861276626\t 48.27231948835582\t 5.876019627795337\t 6.416474198791277\n",
            "4  \t [-5.68974606  9.11900061]\t 83.49787226161779\t 48.27231948835582\t 6.540117465109145\t 6.826533515985315\n",
            "5  \t [-10.         -3.9591904]\t 1459.5604108760238\t 48.27231948835582\t 6.644826098237407\t 7.648974958856778\n",
            "6  \t [-2.801531    1.39944676]\t 133.74346479929733\t 48.27231948835582\t 5.671256659676323\t 5.56466071543091\n",
            "7  \t [-1.22055759  9.78360556]\t 134.23380720925925\t 48.27231948835582\t 6.182442389113456\t 6.420074585959711\n",
            "8  \t [9.48855794 5.16434467]\t 530.6773396017954\t 48.27231948835582\t 5.726669457664342\t 7.524671792602315\n",
            "9  \t [ 2.16638115 -9.03847723]\t 619.0952721639597\t 48.27231948835582\t 6.472513370165837\t 6.9820504305559705\n",
            "\u001b[1m\u001b[92m10\u001b[0m\t \u001b[1m\u001b[92m[ 1.76327695 -0.00540788]\u001b[0m\t \u001b[1m\u001b[92m29.723672660871458\u001b[0m\t \u001b[1m\u001b[92m29.723672660871458\u001b[0m\t \u001b[1m\u001b[92m6.388088771888711\u001b[0m\t \u001b[1m\u001b[92m6.629964249572552\u001b[0m\n",
            "11 \t [-5.08302312 -2.57246144]\t 611.4567782216241\t 29.723672660871458\t 5.962004014224781\t 6.991288418488865\n",
            "12 \t [5.54543282 1.06324124]\t 51.63271531244357\t 29.723672660871458\t 6.258177608693221\t 7.091636685155103\n",
            "13 \t [-9.34861809  7.01676574]\t 283.59772008106995\t 29.723672660871458\t 6.365432420743951\t 7.068519680653639\n",
            "\u001b[1m\u001b[92m14\u001b[0m\t \u001b[1m\u001b[92m[-2.36372231  5.22048355]\u001b[0m\t \u001b[1m\u001b[92m21.47315437736948\u001b[0m\t \u001b[1m\u001b[92m21.47315437736948\u001b[0m\t \u001b[1m\u001b[92m6.203169990539567\u001b[0m\t \u001b[1m\u001b[92m6.777358433399495\u001b[0m\n",
            "15 \t [-0.13703947 -2.92561601]\t 235.93019338342225\t 21.47315437736948\t 6.181763019712976\t 7.466627851757191\n",
            "16 \t [-5.41207019 -9.56175576]\t 1638.9366356185997\t 21.47315437736948\t 7.350301563407188\t 8.244597654460112\n",
            "17 \t [ 9.18418822 -6.76386401]\t 172.29547971357295\t 21.47315437736948\t 7.151458521619067\t 7.84590876546041\n",
            "18 \t [5.74507377 5.77853967]\t 256.6550446583881\t 21.47315437736948\t 4.966822430668304\t 5.793043824852957\n",
            "19 \t [2.0460765  8.73954115]\t 218.21503639769725\t 21.47315437736948\t 6.410113885448533\t 7.438141776632956\n",
            "20 \t [-6.69250082 -5.45733689]\t 1173.9701484052875\t 21.47315437736948\t 6.51555434456211\t 6.55628574081188\n"
          ]
        }
      ],
      "source": [
        "### EXACT STP EI GRADIENTS\n",
        "\n",
        "np.random.seed(run_num_13)\n",
        "surrogate_stp_13 = dtStudentProcess(cov_func, optimize=opt, nu = df)\n",
        "\n",
        "stp_13 = dGPGO_stp(surrogate_stp_13, Acquisition_grad(util_stp), objfunc, param)\n",
        "stp_13.run(init_evals=n_init, max_iter=iters)\n"
      ]
    },
    {
      "cell_type": "code",
      "execution_count": 47,
      "metadata": {
        "id": "k6GjFBr1JTJf",
        "colab": {
          "base_uri": "https://localhost:8080/"
        },
        "outputId": "12441152-066f-4cec-ab1a-5fe561690159"
      },
      "outputs": [
        {
          "output_type": "stream",
          "name": "stdout",
          "text": [
            "Evaluation \t Proposed point \t  Current eval. \t  Best eval. \t        Exact EI: StdDev. x \t Approx EI: StdDev. x \n",
            "init\t [0.27886688 5.46330104]\t 18.728481209446468\t 18.728481209446468\t    \t    \n",
            "init\t [ 7.40855371 -9.83906103]\t 371.31674613664467\t 18.728481209446468\t    \t    \n",
            "init\t [-3.80528149  9.15207479]\t 68.19416312981014\t 18.728481209446468\t    \t    \n",
            "init\t [ 0.26233425 -3.6343115 ]\t 261.94243460125864\t 18.728481209446468\t    \t    \n",
            "init\t [ 0.78399875 -5.57490115]\t 382.6954465291845\t 18.728481209446468\t    \t    \n",
            "1  \t [-10.           0.30433183]\t 878.551933105977\t 18.728481209446468\t 6.054451764044567\t 6.7541062862693515\n",
            "2  \t [10.          1.54767172]\t 310.97865103063765\t 18.728481209446468\t 6.534406227155611\t 6.463113404674691\n",
            "3  \t [-10. -10.]\t 2594.0\t 18.728481209446468\t 6.969061987720945\t 6.995021138831806\n",
            "4  \t [-5.55439529 -4.70688097]\t 915.8921146807588\t 18.728481209446468\t 5.433667280053894\t 6.446911822689153\n",
            "5  \t [10. 10.]\t 1154.0\t 18.728481209446468\t 6.305267321362384\t 6.583884961837498\n",
            "6  \t [ 6.3354297  -3.13857972]\t 68.72917096426313\t 18.728481209446468\t 5.141721164089781\t 6.351292359633152\n",
            "7  \t [-4.14419986  2.50979868]\t 153.68899604811\t 18.728481209446468\t 5.282489562788551\t 5.235149321694259\n",
            "8  \t [-9.64177644  6.15475675]\t 347.42175153482356\t 18.728481209446468\t 6.582684703426764\t 7.126225416007622\n",
            "9  \t [4.5165816  5.14620144]\t 145.24097389079583\t 18.728481209446468\t 6.0101718547333105\t 6.9113099061755054\n",
            "10 \t [0.31957968 1.38993724]\t 24.040524918189675\t 18.728481209446468\t 5.282505534133883\t 7.0544631119971655\n",
            "11 \t [ -2.1248191 -10.       ]\t 1218.8036589043334\t 18.728481209446468\t 5.608672917105043\t 6.518851062024703\n",
            "12 \t [10.       -5.480952]\t 154.00419015060174\t 18.728481209446468\t 4.840915958417449\t 6.940343361807396\n",
            "13 \t [ 2.72439223 -9.45386622]\t 618.5587609473371\t 18.728481209446468\t 5.207572502625611\t 6.170712563950451\n",
            "14 \t [0.86265328 9.29983451]\t 191.6118019059136\t 18.728481209446468\t 5.29704197963617\t 6.226578278714265\n",
            "15 \t [ 3.54033234 -0.73254882]\t 26.07072964424956\t 18.728481209446468\t 5.440928220264914\t 6.246801053048856\n",
            "16 \t [-10.          -5.08315476]\t 1643.004573085137\t 18.728481209446468\t 5.797326357801687\t 7.458179369758228\n",
            "17 \t [7.47842852 9.96695579]\t 813.6219464910598\t 18.728481209446468\t 6.055973757745908\t 6.055973757745908\n",
            "18 \t [-6.10074952 -8.45844078]\t 1559.4906861877857\t 18.728481209446468\t 5.472373983977469\t 6.4462419190592115\n",
            "19 \t [8.49971462 5.09171459]\t 428.6030460057773\t 18.728481209446468\t 5.16853620721205\t 6.252472135520587\n",
            "20 \t [-2.13323309 -1.23939305]\t 245.21206790967142\t 18.728481209446468\t 5.213910208620029\t 5.176433785396408\n"
          ]
        }
      ],
      "source": [
        "### EXACT STP EI GRADIENTS\n",
        "\n",
        "np.random.seed(run_num_14)\n",
        "surrogate_stp_14 = dtStudentProcess(cov_func, optimize=opt, nu = df)\n",
        "\n",
        "stp_14 = dGPGO_stp(surrogate_stp_14, Acquisition_grad(util_stp), objfunc, param)\n",
        "stp_14.run(init_evals=n_init, max_iter=iters)\n"
      ]
    },
    {
      "cell_type": "code",
      "execution_count": 48,
      "metadata": {
        "id": "dPS8WB3aJTN6",
        "colab": {
          "base_uri": "https://localhost:8080/"
        },
        "outputId": "b9750cd8-3ba4-4eee-ae19-a8bc810d8daa"
      },
      "outputs": [
        {
          "output_type": "stream",
          "name": "stdout",
          "text": [
            "Evaluation \t Proposed point \t  Current eval. \t  Best eval. \t        Exact EI: StdDev. x \t Approx EI: StdDev. x \n",
            "init\t [ 6.97635395 -6.4220815 ]\t 171.98457986923216\t 171.98457986923216\t    \t    \n",
            "init\t [-8.91273571 -2.76923108]\t 1115.2426864421157\t 171.98457986923216\t    \t    \n",
            "init\t [-4.49198143  0.6000045 ]\t 285.0550378664367\t 171.98457986923216\t    \t    \n",
            "init\t [-3.88162169 -3.91051282]\t 627.8031621427792\t 171.98457986923216\t    \t    \n",
            "init\t [-7.76517448 -5.00201972]\t 1265.415808453521\t 171.98457986923216\t    \t    \n",
            "\u001b[1m\u001b[92m1\u001b[0m\t \u001b[1m\u001b[92m[-1.08003705  9.49213271]\u001b[0m\t \u001b[1m\u001b[92m124.34069392980017\u001b[0m\t \u001b[1m\u001b[92m124.34069392980017\u001b[0m\t \u001b[1m\u001b[92m6.159928384414911\u001b[0m\t \u001b[1m\u001b[92m6.519288465109335\u001b[0m\n",
            "2  \t [10. 10.]\t 1154.0\t 124.34069392980017\t 7.708264494555343\t 6.886455097725443\n",
            "\u001b[1m\u001b[92m3\u001b[0m\t \u001b[1m\u001b[92m[3.83917636 1.76653611]\u001b[0m\t \u001b[1m\u001b[92m19.89560577829772\u001b[0m\t \u001b[1m\u001b[92m19.89560577829772\u001b[0m\t \u001b[1m\u001b[92m6.504394494307731\u001b[0m\t \u001b[1m\u001b[92m6.875452558550738\u001b[0m\n",
            "4  \t [-9.85336983  7.92181089]\t 282.75342468429847\t 19.89560577829772\t 5.420109087857102\t 6.361716532316171\n",
            "5  \t [5.19399289 6.55869829]\t 270.67079150914697\t 19.89560577829772\t 6.469809515337501\t 6.573244681048196\n",
            "6  \t [10.          1.59568319]\t 313.74971820388555\t 19.89560577829772\t 6.064901361464273\t 7.117989441793739\n",
            "7  \t [ -0.41708665 -10.        ]\t 1002.4176846474676\t 19.89560577829772\t 6.120116738075091\t 6.449236071956127\n",
            "8  \t [-10. -10.]\t 2594.0\t 19.89560577829772\t 6.621383706074991\t 7.4867737770626075\n",
            "9  \t [ 1.93102714 -5.50722789]\t 302.8350096017848\t 19.89560577829772\t 4.907219449156061\t 6.687222959766581\n",
            "\u001b[1m\u001b[92m10\u001b[0m\t \u001b[1m\u001b[92m[0.11837607 4.90057499]\u001b[0m\t \u001b[1m\u001b[92m8.54249109165118\u001b[0m\t \u001b[1m\u001b[92m8.54249109165118\u001b[0m\t \u001b[1m\u001b[92m5.707215226625298\u001b[0m\t \u001b[1m\u001b[92m5.431303990647509\u001b[0m\n",
            "11 \t [-10.           2.72378361]\t 629.688519504333\t 8.54249109165118\t 4.779407180404601\t 6.1543884063537515\n",
            "12 \t [-3.8892695   5.53620235]\t 52.48497862600928\t 8.54249109165118\t 4.584988125455516\t 6.0181001803982745\n",
            "13 \t [3.04445606 9.86514255]\t 368.83377290885136\t 8.54249109165118\t 5.863505210412156\t 7.29493392387192\n",
            "14 \t [ 0.14895202 -0.19334178]\t 76.35006863156127\t 8.54249109165118\t 5.746063727670605\t 6.63805667412839\n",
            "15 \t [ 3.41166271 -2.19355949]\t 63.74497596932115\t 8.54249109165118\t 4.926955068015939\t 6.29996272704055\n",
            "16 \t [-5.33575905 -9.7479242 ]\t 1659.3992786737035\t 8.54249109165118\t 6.087184468126918\t 6.715244887357289\n",
            "17 \t [-4.81722907  9.24935463]\t 73.64151744612784\t 8.54249109165118\t 5.329441635018635\t 6.609041985368638\n",
            "18 \t [8.99596664 9.23889697]\t 913.3846859168063\t 8.54249109165118\t 5.849479928319824\t 5.849479928319824\n",
            "19 \t [ 7.46778737 -1.21238591]\t 79.923811669366\t 8.54249109165118\t 5.302476710488412\t 6.787270199058153\n",
            "20 \t [-10.          -7.14687703]\t 2012.7207461706957\t 8.54249109165118\t 5.491395959622532\t 5.63148414324649\n"
          ]
        }
      ],
      "source": [
        "### EXACT STP EI GRADIENTS\n",
        "\n",
        "np.random.seed(run_num_15)\n",
        "surrogate_stp_15 = dtStudentProcess(cov_func, optimize=opt, nu = df)\n",
        "\n",
        "stp_15 = dGPGO_stp(surrogate_stp_15, Acquisition_grad(util_stp), objfunc, param)\n",
        "stp_15.run(init_evals=n_init, max_iter=iters)\n"
      ]
    },
    {
      "cell_type": "code",
      "execution_count": 49,
      "metadata": {
        "id": "lu8ki9XIQPPN",
        "colab": {
          "base_uri": "https://localhost:8080/"
        },
        "outputId": "e0c83cf2-fa82-4fae-b38d-cceaa37433c1"
      },
      "outputs": [
        {
          "output_type": "stream",
          "name": "stdout",
          "text": [
            "Evaluation \t Proposed point \t  Current eval. \t  Best eval. \t        Exact EI: StdDev. x \t Approx EI: StdDev. x \n",
            "init\t [-5.53417842  0.46326683]\t 378.2562509858209\t 182.86095429406956\t    \t    \n",
            "init\t [ 1.01402913 -9.087961  ]\t 729.2383206820605\t 182.86095429406956\t    \t    \n",
            "init\t [-2.78542329 -5.53838117]\t 694.7380078426447\t 182.86095429406956\t    \t    \n",
            "init\t [ 3.77452324 -6.7253715 ]\t 295.53799633399245\t 182.86095429406956\t    \t    \n",
            "init\t [-8.59350266  8.8202172 ]\t 182.86095429406956\t 182.86095429406956\t    \t    \n",
            "1  \t [4.18505664 9.44091052]\t 422.2668893394708\t 182.86095429406956\t 6.70943214267663\t 6.911203548816236\n",
            "2  \t [-10. -10.]\t 2594.0\t 182.86095429406956\t 7.2245297250580185\t 7.3091131948441905\n",
            "\u001b[1m\u001b[92m3\u001b[0m\t \u001b[1m\u001b[92m[ 2.52801252 -0.08752176]\u001b[0m\t \u001b[1m\u001b[92m21.595889051827275\u001b[0m\t \u001b[1m\u001b[92m21.595889051827275\u001b[0m\t \u001b[1m\u001b[92m5.995561523915495\u001b[0m\t \u001b[1m\u001b[92m6.646108219670814\u001b[0m\n",
            "4  \t [10. 10.]\t 1154.0\t 21.595889051827275\t 6.35854552390612\t 6.276921249605526\n",
            "\u001b[1m\u001b[92m5\u001b[0m\t \u001b[1m\u001b[92m[-2.22531694  5.42968011]\u001b[0m\t \u001b[1m\u001b[92m18.838166667692633\u001b[0m\t \u001b[1m\u001b[92m18.838166667692633\u001b[0m\t \u001b[1m\u001b[92m5.996840969692976\u001b[0m\t \u001b[1m\u001b[92m6.309371962670296\u001b[0m\n",
            "6  \t [9.89125625 1.7559367 ]\t 314.52037100721634\t 18.838166667692633\t 6.245516194788561\t 7.2704126097312525\n",
            "7  \t [ 9.01080998 -8.91422867]\t 267.0686312970112\t 18.838166667692633\t 5.75487140280622\t 6.836285925608392\n",
            "8  \t [-8.80462948 -4.08195164]\t 1286.9112854364482\t 18.838166667692633\t 4.965599499669638\t 6.208181815377759\n",
            "9  \t [ 9.0441433  -4.42822156]\t 121.40415542091424\t 18.838166667692633\t 5.688765716044031\t 5.7433202443617315\n",
            "10 \t [-1.27077236 -0.22359095]\t 136.30005880344845\t 18.838166667692633\t 5.311881774340545\t 7.0667083411646034\n",
            "11 \t [6.79514084 5.36720192]\t 305.682659585107\t 18.838166667692633\t 5.260442727725598\t 6.932360247521324\n",
            "12 \t [-9.55306402  2.74881218]\t 578.3576867317987\t 18.838166667692633\t 5.7870187491300635\t 7.309246711904697\n",
            "13 \t [ -4.57090095 -10.        ]\t 1579.5483859654128\t 18.838166667692633\t 5.166971188709049\t 5.357795154845053\n",
            "14 \t [-1.59321032  9.84617866]\t 125.94586080886496\t 18.838166667692633\t 5.264781256222106\t 4.913094764918959\n",
            "\u001b[1m\u001b[92m15\u001b[0m\t \u001b[1m\u001b[92m[0.91923641 3.68882977]\u001b[0m\t \u001b[1m\u001b[92m1.95998711494752\u001b[0m\t \u001b[1m\u001b[92m1.95998711494752\u001b[0m\t \u001b[1m\u001b[92m4.921773654398185\u001b[0m\t \u001b[1m\u001b[92m6.7724935895397556\u001b[0m\n",
            "16 \t [ 4.98599951 -2.16477712]\t 48.12118136917709\t 1.95998711494752\t 4.173485427425671\t 4.855098494722159\n",
            "17 \t [2.64737063 5.80352894]\t 89.81563266812181\t 1.95998711494752\t 5.937463065898464\t 7.78141433284796\n",
            "18 \t [-5.81520922  4.8125769 ]\t 149.83783237985222\t 1.95998711494752\t 5.2565685981992365\t 6.832763654709886\n",
            "19 \t [-5.13340414  9.94184013]\t 88.42206579550387\t 1.95998711494752\t 5.168814921164049\t 6.119956982467139\n",
            "20 \t [ 5.63729319 -9.52640252]\t 427.3674317107321\t 1.95998711494752\t 5.3399382318102715\t 6.146935829766569\n"
          ]
        }
      ],
      "source": [
        "### EXACT STP EI GRADIENTS\n",
        "\n",
        "np.random.seed(run_num_16)\n",
        "surrogate_stp_16 = dtStudentProcess(cov_func, optimize=opt, nu = df)\n",
        "\n",
        "stp_16 = dGPGO_stp(surrogate_stp_16, Acquisition_grad(util_stp), objfunc, param)\n",
        "stp_16.run(init_evals=n_init, max_iter=iters)\n"
      ]
    },
    {
      "cell_type": "code",
      "execution_count": 50,
      "metadata": {
        "id": "yU2SflSsJTUs",
        "colab": {
          "base_uri": "https://localhost:8080/"
        },
        "outputId": "ce5791fd-b12a-4da4-e5d9-d8feab2b889f"
      },
      "outputs": [
        {
          "output_type": "stream",
          "name": "stdout",
          "text": [
            "Evaluation \t Proposed point \t  Current eval. \t  Best eval. \t        Exact EI: StdDev. x \t Approx EI: StdDev. x \n",
            "init\t [-4.10669995  0.61173511]\t 256.4801849765532\t 5.553508838684786\t    \t    \n",
            "init\t [-6.16958426 -8.64199284]\t 1602.4406672130797\t 5.553508838684786\t    \t    \n",
            "init\t [5.7397092  3.12667044]\t 117.20749172761734\t 5.553508838684786\t    \t    \n",
            "init\t [2.75041792 1.51205788]\t 5.553508838684786\t 5.553508838684786\t    \t    \n",
            "init\t [-9.21874168 -2.84372791]\t 1170.583554210921\t 5.553508838684786\t    \t    \n",
            "1  \t [-8.64042543  9.21575513]\t 178.4868811929342\t 5.553508838684786\t 7.085074212872569\t 7.6924545599563965\n",
            "2  \t [ 4.54825031 -8.71744454]\t 416.8315243674168\t 5.553508838684786\t 5.664941091052504\t 5.899649079769795\n",
            "3  \t [10. 10.]\t 1154.0\t 5.553508838684786\t 6.3849073627563815\t 6.5521896718966355\n",
            "4  \t [-0.05385845  7.96254756]\t 86.84889828641981\t 5.553508838684786\t 6.2050917018505976\t 6.893206545561586\n",
            "5  \t [ 9.06636127 -2.74323799]\t 119.63857371103694\t 5.553508838684786\t 5.069914618234281\t 5.400891266097706\n",
            "6  \t [-0.74976725 -4.11551796]\t 368.06540851126334\t 5.553508838684786\t 5.274294548361058\t 6.883605180145894\n",
            "7  \t [-8.83907727  3.98196103]\t 411.5657209486546\t 5.553508838684786\t 5.361263951945476\t 6.6300151802308545\n",
            "8  \t [5.45096118 8.92076449]\t 485.1572810390528\t 5.553508838684786\t 6.157123819233394\t 6.656585615855587\n",
            "9  \t [ -0.53032123 -10.        ]\t 1015.8628235478882\t 5.553508838684786\t 6.020841795037691\t 6.847261133927125\n",
            "10 \t [-1.40662711  4.05087953]\t 14.248407832524794\t 5.553508838684786\t 5.125209899207431\t 5.450685400391918\n",
            "11 \t [-5.34307141  5.91978222]\t 95.63531874971927\t 5.553508838684786\t 5.9383930999541334\t 7.1082979462508264\n",
            "12 \t [-4.98118541 -4.41977796]\t 809.170960673189\t 5.553508838684786\t 5.9932792687681875\t 7.0379053866009995\n",
            "13 \t [ 4.56840144 -3.36532309]\t 84.54190996834858\t 5.553508838684786\t 6.674991646359801\t 7.3832260009539645\n",
            "14 \t [10.          2.31768304]\t 358.20096091651453\t 5.553508838684786\t 5.805717586019817\t 7.340760539481614\n",
            "15 \t [-10. -10.]\t 2594.0\t 5.553508838684786\t 5.854276522519205\t 7.037852501501554\n",
            "16 \t [-0.09584239 -0.01907804]\t 78.0459833923089\t 5.553508838684786\t 4.592994788425001\t 6.414742061633077\n",
            "17 \t [ 5.51120899 -0.41001411]\t 36.829723476699115\t 5.553508838684786\t 5.165473172907835\t 6.53137798163934\n",
            "18 \t [ 8.83204814 -6.50840664]\t 162.9914860258379\t 5.553508838684786\t 5.8448759744931875\t 7.702163176758957\n",
            "19 \t [-3.86213355  9.50725056]\t 76.81029243769201\t 5.553508838684786\t 5.324315815077068\t 5.790361958482664\n",
            "20 \t [-0.70309283 -8.72086198]\t 861.0893815619343\t 5.553508838684786\t 5.907066535933258\t 5.838788051905537\n"
          ]
        }
      ],
      "source": [
        "### EXACT STP EI GRADIENTS\n",
        "\n",
        "np.random.seed(run_num_17)\n",
        "surrogate_stp_17 = dtStudentProcess(cov_func, optimize=opt, nu = df)\n",
        "\n",
        "stp_17 = dGPGO_stp(surrogate_stp_17, Acquisition_grad(util_stp), objfunc, param)\n",
        "stp_17.run(init_evals=n_init, max_iter=iters)\n"
      ]
    },
    {
      "cell_type": "code",
      "execution_count": 51,
      "metadata": {
        "id": "eVEhyZ9BQS-1",
        "colab": {
          "base_uri": "https://localhost:8080/"
        },
        "outputId": "1ccb7e78-0b8f-4ff9-f967-960cd86aaa86"
      },
      "outputs": [
        {
          "output_type": "stream",
          "name": "stdout",
          "text": [
            "Evaluation \t Proposed point \t  Current eval. \t  Best eval. \t        Exact EI: StdDev. x \t Approx EI: StdDev. x \n",
            "init\t [3.00748483 0.10906747]\t 15.509405515253864\t 15.509405515253864\t    \t    \n",
            "init\t [ 7.57202942 -6.36319549]\t 162.0234327224751\t 15.509405515253864\t    \t    \n",
            "init\t [7.04466137 5.00272572]\t 299.59059770472754\t 15.509405515253864\t    \t    \n",
            "init\t [3.32203335 9.75790897]\t 380.8425822546991\t 15.509405515253864\t    \t    \n",
            "init\t [-4.86063155 -9.43388149]\t 1527.7052410059514\t 15.509405515253864\t    \t    \n",
            "1  \t [-6.1664519   4.28513481]\t 191.3691670751314\t 15.509405515253864\t 7.169218051048424\t 7.4765549086243475\n",
            "2  \t [-6.07110106 -2.27098711]\t 687.0923366704285\t 15.509405515253864\t 6.0245994206096665\t 6.433527240717701\n",
            "3  \t [6.31975365 3.18761398]\t 149.65937068607042\t 15.509405515253864\t 5.359806725699657\t 5.359806725699657\n",
            "4  \t [  2.38134675 -10.        ]\t 710.8805324255294\t 15.509405515253864\t 6.743660369346146\t 6.90368218104326\n",
            "5  \t [10. 10.]\t 1154.0\t 15.509405515253864\t 6.660471804510902\t 7.083114454589216\n",
            "6  \t [-1.75469227  7.39322001]\t 37.62780405202233\t 15.509405515253864\t 5.997222399216723\t 6.300941824759037\n",
            "7  \t [ 0.43087656 -4.08873317]\t 285.14511096945193\t 15.509405515253864\t 5.570413507742974\t 6.302443865849413\n",
            "8  \t [-10.          -6.22123555]\t 1841.6246532275254\t 15.509405515253864\t 6.371574121585272\t 7.767791663887723\n",
            "9  \t [ 9.3119257  -1.84369375]\t 140.66400923927398\t 15.509405515253864\t 5.946424200610456\t 7.608089062092325\n",
            "10 \t [-9.69289674  8.4893621 ]\t 252.77822825688602\t 15.509405515253864\t 6.281244136975152\t 7.582511639491507\n",
            "11 \t [-1.82012595  2.48640284]\t 52.671731426823335\t 15.509405515253864\t 5.924229302995367\t 6.880100574875691\n",
            "\u001b[1m\u001b[92m12\u001b[0m\t \u001b[1m\u001b[92m[1.81396966 3.58044252]\u001b[0m\t \u001b[1m\u001b[92m8.777001433900303\u001b[0m\t \u001b[1m\u001b[92m8.777001433900303\u001b[0m\t \u001b[1m\u001b[92m6.957724389219142\u001b[0m\t \u001b[1m\u001b[92m7.601231428986206\u001b[0m\n",
            "13 \t [-5.64620854  9.66223371]\t 88.55847310009014\t 8.777001433900303\t 6.3519270101749745\t 7.408658022355721\n",
            "14 \t [-3.37860181 -5.49240135]\t 753.943924274052\t 8.777001433900303\t 4.6095931917376785\t 5.900048377469175\n",
            "15 \t [-10.           3.63287276]\t 551.3098368678089\t 8.777001433900303\t 5.306907806850489\t 6.1207424215556125\n",
            "16 \t [-2.50941091 -1.04892457]\t 257.22349565515646\t 8.777001433900303\t 5.281241695812383\t 6.666265724999085\n",
            "17 \t [ 4.66216672 -3.32473936]\t 81.77096514035668\t 8.777001433900303\t 6.587063417514047\t 7.962891322900045\n",
            "18 \t [10.          2.30404698]\t 357.31313555156964\t 8.777001433900303\t 5.9716279206488565\t 6.076693895736553\n",
            "19 \t [ 6.21766792 -9.86144235]\t 426.34990801682915\t 8.777001433900303\t 6.668526292296607\t 7.960982959855352\n",
            "20 \t [ 1.74286889 -5.14737398]\t 286.23833984861335\t 8.777001433900303\t 5.743977073112067\t 5.799517769906874\n"
          ]
        }
      ],
      "source": [
        "### EXACT STP EI GRADIENTS\n",
        "\n",
        "np.random.seed(run_num_18)\n",
        "surrogate_stp_18 = dtStudentProcess(cov_func, optimize=opt, nu = df)\n",
        "\n",
        "stp_18 = dGPGO_stp(surrogate_stp_18, Acquisition_grad(util_stp), objfunc, param)\n",
        "stp_18.run(init_evals=n_init, max_iter=iters)\n"
      ]
    },
    {
      "cell_type": "code",
      "execution_count": 52,
      "metadata": {
        "id": "B6gTz1ojQUxn",
        "colab": {
          "base_uri": "https://localhost:8080/"
        },
        "outputId": "7c037296-09dd-4195-f210-f85dbcf99662"
      },
      "outputs": [
        {
          "output_type": "stream",
          "name": "stdout",
          "text": [
            "Evaluation \t Proposed point \t  Current eval. \t  Best eval. \t        Exact EI: StdDev. x \t Approx EI: StdDev. x \n",
            "init\t [-8.04932797  5.22499433]\t 273.1270544592675\t 139.9227861892117\t    \t    \n",
            "init\t [-5.06124054 -7.23736625]\t 1204.1206373978957\t 139.9227861892117\t    \t    \n",
            "init\t [-3.37106873 -8.3400087 ]\t 1135.0538557997047\t 139.9227861892117\t    \t    \n",
            "init\t [3.43954163 6.13187596]\t 139.9227861892117\t 139.9227861892117\t    \t    \n",
            "init\t [9.65483829 2.7132147 ]\t 355.08571481298065\t 139.9227861892117\t    \t    \n",
            "\u001b[1m\u001b[92m1\u001b[0m\t \u001b[1m\u001b[92m[ 5.00312297 -4.26339021]\u001b[0m\t \u001b[1m\u001b[92m111.29920078806582\u001b[0m\t \u001b[1m\u001b[92m111.29920078806582\u001b[0m\t \u001b[1m\u001b[92m6.7907842952492095\u001b[0m\t \u001b[1m\u001b[92m7.333945307280279\u001b[0m\n",
            "2  \t [10. 10.]\t 1154.0\t 111.29920078806582\t 6.708200889523184\t 7.331463282094028\n",
            "3  \t [-9.01350225 -1.64234187]\t 980.9966331589392\t 111.29920078806582\t 5.622763460352984\t 5.952855831000739\n",
            "\u001b[1m\u001b[92m4\u001b[0m\t \u001b[1m\u001b[92m[-0.41300975 -0.01609316]\u001b[0m\t \u001b[1m\u001b[92m89.56122502202982\u001b[0m\t \u001b[1m\u001b[92m89.56122502202982\u001b[0m\t \u001b[1m\u001b[92m6.131961799086293\u001b[0m\t \u001b[1m\u001b[92m6.545201260957519\u001b[0m\n",
            "\u001b[1m\u001b[92m5\u001b[0m\t \u001b[1m\u001b[92m[-2.69333527  7.93798122]\u001b[0m\t \u001b[1m\u001b[92m44.22095814180932\u001b[0m\t \u001b[1m\u001b[92m44.22095814180932\u001b[0m\t \u001b[1m\u001b[92m5.754793594322569\u001b[0m\t \u001b[1m\u001b[92m7.108845197648403\u001b[0m\n",
            "6  \t [-10. -10.]\t 2594.0\t 44.22095814180932\t 6.228833444026333\t 6.933169000687381\n",
            "7  \t [-4.5669388  1.6400283]\t 224.76868686474103\t 44.22095814180932\t 5.571573042433308\t 6.524987432585141\n",
            "8  \t [ 5.27679274 -9.02270489]\t 402.8330092586917\t 44.22095814180932\t 5.053278929400206\t 6.123599257206032\n",
            "9  \t [-0.00584247 -4.75557678]\t 368.21055900613703\t 44.22095814180932\t 5.613627462253871\t 5.825652477052913\n",
            "10 \t [ 9.65914373 -4.5175604 ]\t 136.70733445592487\t 44.22095814180932\t 6.468885358659454\t 7.3171011047466\n",
            "\u001b[1m\u001b[92m11\u001b[0m\t \u001b[1m\u001b[92m[5.16611381 0.54501265]\u001b[0m\t \u001b[1m\u001b[92m35.0952822228039\u001b[0m\t \u001b[1m\u001b[92m35.0952822228039\u001b[0m\t \u001b[1m\u001b[92m4.876005430423096\u001b[0m\t \u001b[1m\u001b[92m7.663923427096204\u001b[0m\n",
            "12 \t [  0.97706605 -10.        ]\t 847.3877610485015\t 35.0952822228039\t 5.53419606263933\t 6.648070568529384\n",
            "13 \t [-5.85986603  8.79026408]\t 85.161113419994\t 35.0952822228039\t 5.687807448869356\t 7.331167812139184\n",
            "14 \t [-4.44284367 -2.55459274]\t 544.2524785696774\t 35.0952822228039\t 5.133774225272554\t 6.755156631161266\n",
            "15 \t [ 9.04287316 -8.33254334]\t 236.40206659016968\t 35.0952822228039\t 5.645217515579741\t 7.42309352707371\n",
            "\u001b[1m\u001b[92m16\u001b[0m\t \u001b[1m\u001b[92m[-0.57048178  4.2842815 ]\u001b[0m\t \u001b[1m\u001b[92m4.443434394597271\u001b[0m\t \u001b[1m\u001b[92m4.443434394597271\u001b[0m\t \u001b[1m\u001b[92m5.058869231142542\u001b[0m\t \u001b[1m\u001b[92m6.687207519993821\u001b[0m\n",
            "17 \t [2.854674   9.77131848]\t 346.9215541561922\t 4.443434394597271\t 5.618240569767219\t 6.728288725743635\n",
            "18 \t [ 7.71445139 -1.32729648]\t 86.6033864975764\t 4.443434394597271\t 5.711085849164766\t 7.707724799599407\n",
            "19 \t [9.17572749 6.8514031 ]\t 660.283307324958\t 4.443434394597271\t 4.825896569962788\t 5.045702573171055\n",
            "20 \t [-10.          -5.89173327]\t 1782.7871310297348\t 4.443434394597271\t 5.792354082193828\t 6.390777876897281\n"
          ]
        }
      ],
      "source": [
        "### EXACT STP EI GRADIENTS\n",
        "\n",
        "np.random.seed(run_num_19)\n",
        "surrogate_stp_19 = dtStudentProcess(cov_func, optimize=opt, nu = df)\n",
        "\n",
        "stp_19 = dGPGO_stp(surrogate_stp_19, Acquisition_grad(util_stp), objfunc, param)\n",
        "stp_19.run(init_evals=n_init, max_iter=iters)\n"
      ]
    },
    {
      "cell_type": "code",
      "execution_count": 53,
      "metadata": {
        "id": "aw3xvSryIwDi",
        "colab": {
          "base_uri": "https://localhost:8080/"
        },
        "outputId": "cf5f5bd0-68c9-4618-9715-2c08481c17f6"
      },
      "outputs": [
        {
          "output_type": "stream",
          "name": "stdout",
          "text": [
            "Evaluation \t Proposed point \t  Current eval. \t  Best eval. \t        Exact EI: StdDev. x \t Approx EI: StdDev. x \n",
            "init\t [1.76261602 7.95427456]\t 155.85777119682857\t 155.85777119682857\t    \t    \n",
            "init\t [7.83061459 6.31674955]\t 469.53411882784934\t 155.85777119682857\t    \t    \n",
            "init\t [-9.28220829  3.83515164]\t 463.4088031056881\t 155.85777119682857\t    \t    \n",
            "init\t [-2.42638116  0.37021891]\t 165.36424127801376\t 155.85777119682857\t    \t    \n",
            "init\t [ 3.15902931 -6.12299564]\t 281.877765303078\t 155.85777119682857\t    \t    \n",
            "1  \t [ -4.69618652 -10.        ]\t 1599.636101657008\t 155.85777119682857\t 6.059459938369186\t 5.600474507491347\n",
            "2  \t [ 9.25348277 -7.34677508]\t 192.70322330637893\t 155.85777119682857\t 7.677630094858582\t 7.226163615830357\n",
            "\u001b[1m\u001b[92m3\u001b[0m\t \u001b[1m\u001b[92m[-4.56172279  9.14761084]\u001b[0m\t \u001b[1m\u001b[92m70.09893873088411\u001b[0m\t \u001b[1m\u001b[92m70.09893873088411\u001b[0m\t \u001b[1m\u001b[92m5.638365363080539\u001b[0m\t \u001b[1m\u001b[92m6.131153099938437\u001b[0m\n",
            "4  \t [-10.          -5.97631011]\t 1797.7860055663223\t 70.09893873088411\t 6.56050434502064\t 6.9490901332662895\n",
            "\u001b[1m\u001b[92m5\u001b[0m\t \u001b[1m\u001b[92m[ 6.78424965 -0.32406028]\u001b[0m\t \u001b[1m\u001b[92m68.71704765795471\u001b[0m\t \u001b[1m\u001b[92m68.71704765795471\u001b[0m\t \u001b[1m\u001b[92m7.198452737248846\u001b[0m\t \u001b[1m\u001b[92m7.01344940740372\u001b[0m\n",
            "6  \t [-5.23782302 -3.78595775]\t 763.4351209210934\t 68.71704765795471\t 7.148751932868865\t 7.2833628398126145\n",
            "7  \t [-9.09731892  9.9883142 ]\t 189.45602622978356\t 68.71704765795471\t 8.330903618690224\t 7.4544710794883215\n",
            "\u001b[1m\u001b[92m8\u001b[0m\t \u001b[1m\u001b[92m[2.41138125 3.04677452]\u001b[0m\t \u001b[1m\u001b[92m10.499057918459783\u001b[0m\t \u001b[1m\u001b[92m10.499057918459783\u001b[0m\t \u001b[1m\u001b[92m7.6367009211963905\u001b[0m\t \u001b[1m\u001b[92m7.122400714151965\u001b[0m\n",
            "9  \t [-0.04194094 -9.04590134]\t 831.3558417935517\t 10.499057918459783\t 8.168659677551263\t 8.080530921066245\n",
            "10 \t [10. 10.]\t 1154.0\t 10.499057918459783\t 6.357523842921937\t 6.106112718046704\n",
            "11 \t [  5.22598189 -10.        ]\t 494.79249828790233\t 10.499057918459783\t 5.847407011183719\t 7.192396450304383\n",
            "12 \t [-10.          -1.24881103]\t 1069.1573463050763\t 10.499057918459783\t 6.095055326854815\t 7.2490356685809765\n",
            "13 \t [-2.40031784  5.51172137]\t 21.029320452013362\t 10.499057918459783\t 7.134341283526709\t 8.062524536988764\n",
            "14 \t [-10. -10.]\t 2594.0\t 10.499057918459783\t 5.82575728069354\t 6.071121513305995\n",
            "15 \t [ 1.63546653 -0.61311149]\t 48.92387027669607\t 10.499057918459783\t 4.321877993278921\t 5.632447968444973\n",
            "16 \t [4.98767437 9.71687901]\t 519.3678629215435\t 10.499057918459783\t 4.782316836312349\t 6.483369837055667\n",
            "17 \t [-6.23378625  0.81861692]\t 411.6677490372133\t 10.499057918459783\t 5.085920073483187\t 5.757357797100234\n",
            "18 \t [-0.26942582  9.11692846]\t 133.02138293328417\t 10.499057918459783\t 6.0155826980586\t 6.015582872558938\n",
            "19 \t [-1.10507197 -5.07944604]\t 484.6064045388964\t 10.499057918459783\t 5.245708322483116\t 6.09157419707153\n",
            "20 \t [ 3.12894682 -8.39318261]\t 477.6412830540284\t 10.499057918459783\t 4.953937703274392\t 5.37687517403062\n"
          ]
        }
      ],
      "source": [
        "### EXACT STP EI GRADIENTS\n",
        "\n",
        "np.random.seed(run_num_20)\n",
        "surrogate_stp_20 = dtStudentProcess(cov_func, optimize=opt, nu = df)\n",
        "\n",
        "stp_20 = dGPGO_stp(surrogate_stp_20, Acquisition_grad(util_stp), objfunc, param)\n",
        "stp_20.run(init_evals=n_init, max_iter=iters)\n"
      ]
    },
    {
      "cell_type": "code",
      "execution_count": 54,
      "metadata": {
        "id": "5c8szjivRPme",
        "colab": {
          "base_uri": "https://localhost:8080/"
        },
        "outputId": "fff8524a-7e80-47d7-f478-b92108197646"
      },
      "outputs": [
        {
          "output_type": "execute_result",
          "data": {
            "text/plain": [
              "1262.2023029327393"
            ]
          },
          "metadata": {},
          "execution_count": 54
        }
      ],
      "source": [
        "end_stp = time.time()\n",
        "end_stp\n",
        "\n",
        "time_stp = end_stp - start_stp\n",
        "time_stp\n"
      ]
    },
    {
      "cell_type": "code",
      "execution_count": 55,
      "metadata": {
        "id": "f6gCKnp6RR8c",
        "colab": {
          "base_uri": "https://localhost:8080/"
        },
        "outputId": "967cc78a-ca9b-4724-e17e-04c9ad629076"
      },
      "outputs": [
        {
          "output_type": "execute_result",
          "data": {
            "text/plain": [
              "(2.465690100734864, 1.808360927981138)"
            ]
          },
          "metadata": {},
          "execution_count": 55
        }
      ],
      "source": [
        "### Simple regret minimisation: run number = 1\n",
        "\n",
        "gp_output_1 = np.append(np.min(-gp_1.GP.y[0:n_init]),-gp_1.GP.y[n_init:(n_init+iters)]) \n",
        "stp_output_1 = np.append(np.min(-stp_1.GP.y[0:n_init]),-stp_1.GP.y[n_init:(n_init+iters)]) \n",
        "\n",
        "regret_gp_1 = np.log(gp_output_1 - y_global_orig)\n",
        "regret_stp_1 = np.log(stp_output_1 - y_global_orig)\n",
        "\n",
        "simple_regret_gp_1 = min_max_array(regret_gp_1)\n",
        "simple_regret_stp_1 = min_max_array(regret_stp_1)\n",
        "\n",
        "min_simple_regret_gp_1 = min(simple_regret_gp_1)\n",
        "min_simple_regret_stp_1 = min(simple_regret_stp_1)\n",
        "\n",
        "min_simple_regret_gp_1, min_simple_regret_stp_1\n"
      ]
    },
    {
      "cell_type": "code",
      "execution_count": 56,
      "metadata": {
        "id": "94yBw5tqQxfk",
        "colab": {
          "base_uri": "https://localhost:8080/"
        },
        "outputId": "a64587f7-5a3d-4762-ebfe-1bc21e35404b"
      },
      "outputs": [
        {
          "output_type": "execute_result",
          "data": {
            "text/plain": [
              "(3.074493382876389, 1.698667154802527)"
            ]
          },
          "metadata": {},
          "execution_count": 56
        }
      ],
      "source": [
        "### Simple regret minimisation: run number = 2\n",
        "\n",
        "gp_output_2 = np.append(np.min(-gp_2.GP.y[0:n_init]),-gp_2.GP.y[n_init:(n_init+iters)]) \n",
        "stp_output_2 = np.append(np.min(-stp_2.GP.y[0:n_init]),-stp_2.GP.y[n_init:(n_init+iters)]) \n",
        "\n",
        "regret_gp_2 = np.log(gp_output_2 - y_global_orig)\n",
        "regret_stp_2 = np.log(stp_output_2 - y_global_orig)\n",
        "\n",
        "simple_regret_gp_2 = min_max_array(regret_gp_2)\n",
        "simple_regret_stp_2 = min_max_array(regret_stp_2)\n",
        "\n",
        "min_simple_regret_gp_2 = min(simple_regret_gp_2)\n",
        "min_simple_regret_stp_2 = min(simple_regret_stp_2)\n",
        "\n",
        "min_simple_regret_gp_2, min_simple_regret_stp_2\n"
      ]
    },
    {
      "cell_type": "code",
      "execution_count": 57,
      "metadata": {
        "id": "Bu6SBWALQxfl",
        "colab": {
          "base_uri": "https://localhost:8080/"
        },
        "outputId": "4ccbbaec-8178-4b4a-fbe6-6b03b9ec3fe7"
      },
      "outputs": [
        {
          "output_type": "execute_result",
          "data": {
            "text/plain": [
              "(1.9332706053762703, 1.9332706053762703)"
            ]
          },
          "metadata": {},
          "execution_count": 57
        }
      ],
      "source": [
        "### Simple regret minimisation: run number = 3\n",
        "\n",
        "gp_output_3 = np.append(np.min(-gp_3.GP.y[0:n_init]),-gp_3.GP.y[n_init:(n_init+iters)]) \n",
        "stp_output_3 = np.append(np.min(-stp_3.GP.y[0:n_init]),-stp_3.GP.y[n_init:(n_init+iters)]) \n",
        "\n",
        "regret_gp_3 = np.log(gp_output_3 - y_global_orig)\n",
        "regret_stp_3 = np.log(stp_output_3 - y_global_orig)\n",
        "\n",
        "simple_regret_gp_3 = min_max_array(regret_gp_3)\n",
        "simple_regret_stp_3 = min_max_array(regret_stp_3)\n",
        "\n",
        "min_simple_regret_gp_3 = min(simple_regret_gp_3)\n",
        "min_simple_regret_stp_3 = min(simple_regret_stp_3)\n",
        "\n",
        "min_simple_regret_gp_3, min_simple_regret_stp_3"
      ]
    },
    {
      "cell_type": "code",
      "execution_count": 58,
      "metadata": {
        "id": "AZm0jgxkQxfm",
        "colab": {
          "base_uri": "https://localhost:8080/"
        },
        "outputId": "57f345c3-8f8f-43c6-89aa-2c05ebc4ba04"
      },
      "outputs": [
        {
          "output_type": "execute_result",
          "data": {
            "text/plain": [
              "(0.4323626819384272, 2.2774836270952954)"
            ]
          },
          "metadata": {},
          "execution_count": 58
        }
      ],
      "source": [
        "### Simple regret minimisation: run number = 4\n",
        "\n",
        "gp_output_4 = np.append(np.min(-gp_4.GP.y[0:n_init]),-gp_4.GP.y[n_init:(n_init+iters)]) \n",
        "stp_output_4 = np.append(np.min(-stp_4.GP.y[0:n_init]),-stp_4.GP.y[n_init:(n_init+iters)]) \n",
        "\n",
        "regret_gp_4 = np.log(gp_output_4 - y_global_orig)\n",
        "regret_stp_4 = np.log(stp_output_4 - y_global_orig)\n",
        "\n",
        "simple_regret_gp_4 = min_max_array(regret_gp_4)\n",
        "simple_regret_stp_4 = min_max_array(regret_stp_4)\n",
        "\n",
        "min_simple_regret_gp_4 = min(simple_regret_gp_4)\n",
        "min_simple_regret_stp_4 = min(simple_regret_stp_4)\n",
        "\n",
        "min_simple_regret_gp_4, min_simple_regret_stp_4"
      ]
    },
    {
      "cell_type": "code",
      "execution_count": 59,
      "metadata": {
        "id": "NONPm8JIQxfn",
        "colab": {
          "base_uri": "https://localhost:8080/"
        },
        "outputId": "8b70c8e8-092e-4527-bc04-1b66e90af355"
      },
      "outputs": [
        {
          "output_type": "execute_result",
          "data": {
            "text/plain": [
              "(1.6480462671706957, 2.893317825029239)"
            ]
          },
          "metadata": {},
          "execution_count": 59
        }
      ],
      "source": [
        "### Simple regret minimisation: run number = 5\n",
        "\n",
        "gp_output_5 = np.append(np.min(-gp_5.GP.y[0:n_init]),-gp_5.GP.y[n_init:(n_init+iters)]) \n",
        "stp_output_5 = np.append(np.min(-stp_5.GP.y[0:n_init]),-stp_5.GP.y[n_init:(n_init+iters)]) \n",
        "\n",
        "regret_gp_5 = np.log(gp_output_5 - y_global_orig)\n",
        "regret_stp_5 = np.log(stp_output_5 - y_global_orig)\n",
        "\n",
        "simple_regret_gp_5 = min_max_array(regret_gp_5)\n",
        "simple_regret_stp_5 = min_max_array(regret_stp_5)\n",
        "\n",
        "min_simple_regret_gp_5 = min(simple_regret_gp_5)\n",
        "min_simple_regret_stp_5 = min(simple_regret_stp_5)\n",
        "\n",
        "min_simple_regret_gp_5, min_simple_regret_stp_5"
      ]
    },
    {
      "cell_type": "code",
      "execution_count": 60,
      "metadata": {
        "id": "CJv3lPuSQxfp",
        "colab": {
          "base_uri": "https://localhost:8080/"
        },
        "outputId": "4c510ab5-fbb1-44ba-b577-b05e1a68a9ef"
      },
      "outputs": [
        {
          "output_type": "execute_result",
          "data": {
            "text/plain": [
              "(2.293147547405968, 2.293147547405968)"
            ]
          },
          "metadata": {},
          "execution_count": 60
        }
      ],
      "source": [
        "### Simple regret minimisation: run number = 6\n",
        "\n",
        "gp_output_6 = np.append(np.min(-gp_6.GP.y[0:n_init]),-gp_6.GP.y[n_init:(n_init+iters)]) \n",
        "stp_output_6 = np.append(np.min(-stp_6.GP.y[0:n_init]),-stp_6.GP.y[n_init:(n_init+iters)]) \n",
        "\n",
        "regret_gp_6 = np.log(gp_output_6 - y_global_orig)\n",
        "regret_stp_6 = np.log(stp_output_6 - y_global_orig)\n",
        "\n",
        "simple_regret_gp_6 = min_max_array(regret_gp_6)\n",
        "simple_regret_stp_6 = min_max_array(regret_stp_6)\n",
        "\n",
        "min_simple_regret_gp_6 = min(simple_regret_gp_6)\n",
        "min_simple_regret_stp_6 = min(simple_regret_stp_6)\n",
        "\n",
        "min_simple_regret_gp_6, min_simple_regret_stp_6"
      ]
    },
    {
      "cell_type": "code",
      "execution_count": 61,
      "metadata": {
        "id": "quR2ZyApQxfq",
        "colab": {
          "base_uri": "https://localhost:8080/"
        },
        "outputId": "4a59dd1d-ae66-4517-da18-db2a746043d3"
      },
      "outputs": [
        {
          "output_type": "execute_result",
          "data": {
            "text/plain": [
              "(2.2476588772086465, 2.2476588772086465)"
            ]
          },
          "metadata": {},
          "execution_count": 61
        }
      ],
      "source": [
        "### Simple regret minimisation: run number = 7\n",
        "\n",
        "gp_output_7 = np.append(np.min(-gp_7.GP.y[0:n_init]),-gp_7.GP.y[n_init:(n_init+iters)]) \n",
        "stp_output_7 = np.append(np.min(-stp_7.GP.y[0:n_init]),-stp_7.GP.y[n_init:(n_init+iters)]) \n",
        "\n",
        "regret_gp_7 = np.log(gp_output_7 - y_global_orig)\n",
        "regret_stp_7 = np.log(stp_output_7 - y_global_orig)\n",
        "\n",
        "simple_regret_gp_7 = min_max_array(regret_gp_7)\n",
        "simple_regret_stp_7 = min_max_array(regret_stp_7)\n",
        "\n",
        "min_simple_regret_gp_7 = min(simple_regret_gp_7)\n",
        "min_simple_regret_stp_7 = min(simple_regret_stp_7)\n",
        "\n",
        "min_simple_regret_gp_7, min_simple_regret_stp_7"
      ]
    },
    {
      "cell_type": "code",
      "execution_count": 62,
      "metadata": {
        "id": "99wY5nK6Qxfr",
        "colab": {
          "base_uri": "https://localhost:8080/"
        },
        "outputId": "ace1a788-b19d-41aa-eb5e-cec23465efc4"
      },
      "outputs": [
        {
          "output_type": "execute_result",
          "data": {
            "text/plain": [
              "(2.600369909822336, -0.1602694966305207)"
            ]
          },
          "metadata": {},
          "execution_count": 62
        }
      ],
      "source": [
        "### Simple regret minimisation: run number = 8\n",
        "\n",
        "gp_output_8 = np.append(np.min(-gp_8.GP.y[0:n_init]),-gp_8.GP.y[n_init:(n_init+iters)]) \n",
        "stp_output_8 = np.append(np.min(-stp_8.GP.y[0:n_init]),-stp_8.GP.y[n_init:(n_init+iters)]) \n",
        "\n",
        "regret_gp_8 = np.log(gp_output_8 - y_global_orig)\n",
        "regret_stp_8 = np.log(stp_output_8 - y_global_orig)\n",
        "\n",
        "simple_regret_gp_8 = min_max_array(regret_gp_8)\n",
        "simple_regret_stp_8 = min_max_array(regret_stp_8)\n",
        "\n",
        "min_simple_regret_gp_8 = min(simple_regret_gp_8)\n",
        "min_simple_regret_stp_8 = min(simple_regret_stp_8)\n",
        "\n",
        "min_simple_regret_gp_8, min_simple_regret_stp_8"
      ]
    },
    {
      "cell_type": "code",
      "execution_count": 63,
      "metadata": {
        "id": "qt0P5t9qQxfs",
        "colab": {
          "base_uri": "https://localhost:8080/"
        },
        "outputId": "520701a4-a738-45a1-974f-3ee460282697"
      },
      "outputs": [
        {
          "output_type": "execute_result",
          "data": {
            "text/plain": [
              "(2.9753664127311867, 3.4150328676025414)"
            ]
          },
          "metadata": {},
          "execution_count": 63
        }
      ],
      "source": [
        "### Simple regret minimisation: run number = 9\n",
        "\n",
        "gp_output_9 = np.append(np.min(-gp_9.GP.y[0:n_init]),-gp_9.GP.y[n_init:(n_init+iters)]) \n",
        "stp_output_9 = np.append(np.min(-stp_9.GP.y[0:n_init]),-stp_9.GP.y[n_init:(n_init+iters)]) \n",
        "\n",
        "regret_gp_9 = np.log(gp_output_9 - y_global_orig)\n",
        "regret_stp_9 = np.log(stp_output_9 - y_global_orig)\n",
        "\n",
        "simple_regret_gp_9 = min_max_array(regret_gp_9)\n",
        "simple_regret_stp_9 = min_max_array(regret_stp_9)\n",
        "\n",
        "min_simple_regret_gp_9 = min(simple_regret_gp_9)\n",
        "min_simple_regret_stp_9 = min(simple_regret_stp_9)\n",
        "\n",
        "min_simple_regret_gp_9, min_simple_regret_stp_9"
      ]
    },
    {
      "cell_type": "code",
      "execution_count": 64,
      "metadata": {
        "id": "vx8to9stQxft",
        "colab": {
          "base_uri": "https://localhost:8080/"
        },
        "outputId": "6261f953-c668-4444-fde1-da19277b64bf"
      },
      "outputs": [
        {
          "output_type": "execute_result",
          "data": {
            "text/plain": [
              "(2.7239345536390522, 2.4022453335677976)"
            ]
          },
          "metadata": {},
          "execution_count": 64
        }
      ],
      "source": [
        "### Simple regret minimisation: run number = 10\n",
        "\n",
        "gp_output_10 = np.append(np.min(-gp_10.GP.y[0:n_init]),-gp_10.GP.y[n_init:(n_init+iters)]) \n",
        "stp_output_10 = np.append(np.min(-stp_10.GP.y[0:n_init]),-stp_10.GP.y[n_init:(n_init+iters)]) \n",
        "\n",
        "regret_gp_10 = np.log(gp_output_10 - y_global_orig)\n",
        "regret_stp_10 = np.log(stp_output_10 - y_global_orig)\n",
        "\n",
        "simple_regret_gp_10 = min_max_array(regret_gp_10)\n",
        "simple_regret_stp_10 = min_max_array(regret_stp_10)\n",
        "\n",
        "min_simple_regret_gp_10 = min(simple_regret_gp_10)\n",
        "min_simple_regret_stp_10 = min(simple_regret_stp_10)\n",
        "\n",
        "min_simple_regret_gp_10, min_simple_regret_stp_10"
      ]
    },
    {
      "cell_type": "code",
      "execution_count": 65,
      "metadata": {
        "id": "d-FGzWyHQxfu",
        "colab": {
          "base_uri": "https://localhost:8080/"
        },
        "outputId": "a2acb2ae-b91a-41f3-c503-9cb3d9bee1cc"
      },
      "outputs": [
        {
          "output_type": "execute_result",
          "data": {
            "text/plain": [
              "(1.7016578760315788, 1.7016578760315788)"
            ]
          },
          "metadata": {},
          "execution_count": 65
        }
      ],
      "source": [
        "### Simple regret minimisation: run number = 11\n",
        "\n",
        "gp_output_11 = np.append(np.min(-gp_11.GP.y[0:n_init]),-gp_11.GP.y[n_init:(n_init+iters)]) \n",
        "stp_output_11 = np.append(np.min(-stp_11.GP.y[0:n_init]),-stp_11.GP.y[n_init:(n_init+iters)]) \n",
        "\n",
        "regret_gp_11 = np.log(gp_output_11 - y_global_orig)\n",
        "regret_stp_11 = np.log(stp_output_11 - y_global_orig)\n",
        "\n",
        "simple_regret_gp_11 = min_max_array(regret_gp_11)\n",
        "simple_regret_stp_11 = min_max_array(regret_stp_11)\n",
        "\n",
        "min_simple_regret_gp_11 = min(simple_regret_gp_11)\n",
        "min_simple_regret_stp_11 = min(simple_regret_stp_11)\n",
        "\n",
        "min_simple_regret_gp_11, min_simple_regret_stp_11"
      ]
    },
    {
      "cell_type": "code",
      "execution_count": 66,
      "metadata": {
        "id": "SvtsssyjQxfv",
        "colab": {
          "base_uri": "https://localhost:8080/"
        },
        "outputId": "f3807ff6-113c-4a3a-f6b9-e0bf24b0bc4d"
      },
      "outputs": [
        {
          "output_type": "execute_result",
          "data": {
            "text/plain": [
              "(1.7182231199790916, 2.8259260257369534)"
            ]
          },
          "metadata": {},
          "execution_count": 66
        }
      ],
      "source": [
        "### Simple regret minimisation: run number = 12\n",
        "\n",
        "gp_output_12 = np.append(np.min(-gp_12.GP.y[0:n_init]),-gp_12.GP.y[n_init:(n_init+iters)]) \n",
        "stp_output_12 = np.append(np.min(-stp_12.GP.y[0:n_init]),-stp_12.GP.y[n_init:(n_init+iters)]) \n",
        "\n",
        "regret_gp_12 = np.log(gp_output_12 - y_global_orig)\n",
        "regret_stp_12 = np.log(stp_output_12 - y_global_orig)\n",
        "\n",
        "simple_regret_gp_12 = min_max_array(regret_gp_12)\n",
        "simple_regret_stp_12 = min_max_array(regret_stp_12)\n",
        "\n",
        "min_simple_regret_gp_12 = min(simple_regret_gp_12)\n",
        "min_simple_regret_stp_12 = min(simple_regret_stp_12)\n",
        "\n",
        "min_simple_regret_gp_12, min_simple_regret_stp_12"
      ]
    },
    {
      "cell_type": "code",
      "execution_count": 67,
      "metadata": {
        "id": "K6OiGcHkQxfw",
        "colab": {
          "base_uri": "https://localhost:8080/"
        },
        "outputId": "fd5867a1-9c9f-458d-e219-ebd8736ec249"
      },
      "outputs": [
        {
          "output_type": "execute_result",
          "data": {
            "text/plain": [
              "(3.047921054412445, 3.066803521330431)"
            ]
          },
          "metadata": {},
          "execution_count": 67
        }
      ],
      "source": [
        "### Simple regret minimisation: run number = 13\n",
        "\n",
        "gp_output_13 = np.append(np.min(-gp_13.GP.y[0:n_init]),-gp_13.GP.y[n_init:(n_init+iters)]) \n",
        "stp_output_13 = np.append(np.min(-stp_13.GP.y[0:n_init]),-stp_13.GP.y[n_init:(n_init+iters)]) \n",
        "\n",
        "regret_gp_13 = np.log(gp_output_13 - y_global_orig)\n",
        "regret_stp_13 = np.log(stp_output_13 - y_global_orig)\n",
        "\n",
        "simple_regret_gp_13 = min_max_array(regret_gp_13)\n",
        "simple_regret_stp_13 = min_max_array(regret_stp_13)\n",
        "\n",
        "min_simple_regret_gp_13 = min(simple_regret_gp_13)\n",
        "min_simple_regret_stp_13 = min(simple_regret_stp_13)\n",
        "\n",
        "min_simple_regret_gp_13, min_simple_regret_stp_13"
      ]
    },
    {
      "cell_type": "code",
      "execution_count": 68,
      "metadata": {
        "id": "ogML73shQxfx",
        "colab": {
          "base_uri": "https://localhost:8080/"
        },
        "outputId": "a9065dad-d39e-4ba1-e317-5da41a2c40e8"
      },
      "outputs": [
        {
          "output_type": "execute_result",
          "data": {
            "text/plain": [
              "(2.301306836607074, 2.9300454245107113)"
            ]
          },
          "metadata": {},
          "execution_count": 68
        }
      ],
      "source": [
        "### Simple regret minimisation: run number = 14\n",
        "\n",
        "gp_output_14 = np.append(np.min(-gp_14.GP.y[0:n_init]),-gp_14.GP.y[n_init:(n_init+iters)]) \n",
        "stp_output_14 = np.append(np.min(-stp_14.GP.y[0:n_init]),-stp_14.GP.y[n_init:(n_init+iters)]) \n",
        "\n",
        "regret_gp_14 = np.log(gp_output_14 - y_global_orig)\n",
        "regret_stp_14 = np.log(stp_output_14 - y_global_orig)\n",
        "\n",
        "simple_regret_gp_14 = min_max_array(regret_gp_14)\n",
        "simple_regret_stp_14 = min_max_array(regret_stp_14)\n",
        "\n",
        "min_simple_regret_gp_14 = min(simple_regret_gp_14)\n",
        "min_simple_regret_stp_14 = min(simple_regret_stp_14)\n",
        "\n",
        "min_simple_regret_gp_14, min_simple_regret_stp_14"
      ]
    },
    {
      "cell_type": "code",
      "execution_count": 69,
      "metadata": {
        "id": "9Eg7gFT9Qxfx",
        "colab": {
          "base_uri": "https://localhost:8080/"
        },
        "outputId": "dba0f1e0-06e6-4cfc-b898-4108bbe91bb8"
      },
      "outputs": [
        {
          "output_type": "execute_result",
          "data": {
            "text/plain": [
              "(1.56568994435154, 2.1450526621798627)"
            ]
          },
          "metadata": {},
          "execution_count": 69
        }
      ],
      "source": [
        "### Simple regret minimisation: run number = 15\n",
        "\n",
        "gp_output_15 = np.append(np.min(-gp_15.GP.y[0:n_init]),-gp_15.GP.y[n_init:(n_init+iters)]) \n",
        "stp_output_15 = np.append(np.min(-stp_15.GP.y[0:n_init]),-stp_15.GP.y[n_init:(n_init+iters)]) \n",
        "\n",
        "regret_gp_15 = np.log(gp_output_15 - y_global_orig)\n",
        "regret_stp_15 = np.log(stp_output_15 - y_global_orig)\n",
        "\n",
        "simple_regret_gp_15 = min_max_array(regret_gp_15)\n",
        "simple_regret_stp_15 = min_max_array(regret_stp_15)\n",
        "\n",
        "min_simple_regret_gp_15 = min(simple_regret_gp_15)\n",
        "min_simple_regret_stp_15 = min(simple_regret_stp_15)\n",
        "\n",
        "min_simple_regret_gp_15, min_simple_regret_stp_15"
      ]
    },
    {
      "cell_type": "code",
      "execution_count": 70,
      "metadata": {
        "id": "lIAC1U7ZQxfy",
        "colab": {
          "base_uri": "https://localhost:8080/"
        },
        "outputId": "a03b3a85-bd80-4ee5-fcfe-44e3fdf9fc50"
      },
      "outputs": [
        {
          "output_type": "execute_result",
          "data": {
            "text/plain": [
              "(1.5667087646260736, 0.6729378992144497)"
            ]
          },
          "metadata": {},
          "execution_count": 70
        }
      ],
      "source": [
        "### Simple regret minimisation: run number = 16\n",
        "\n",
        "gp_output_16 = np.append(np.min(-gp_16.GP.y[0:n_init]),-gp_16.GP.y[n_init:(n_init+iters)]) \n",
        "stp_output_16 = np.append(np.min(-stp_16.GP.y[0:n_init]),-stp_16.GP.y[n_init:(n_init+iters)]) \n",
        "\n",
        "regret_gp_16 = np.log(gp_output_16 - y_global_orig)\n",
        "regret_stp_16 = np.log(stp_output_16 - y_global_orig)\n",
        "\n",
        "simple_regret_gp_16 = min_max_array(regret_gp_16)\n",
        "simple_regret_stp_16 = min_max_array(regret_stp_16)\n",
        "\n",
        "min_simple_regret_gp_16 = min(simple_regret_gp_16)\n",
        "min_simple_regret_stp_16 = min(simple_regret_stp_16)\n",
        "\n",
        "min_simple_regret_gp_16, min_simple_regret_stp_16"
      ]
    },
    {
      "cell_type": "code",
      "execution_count": 71,
      "metadata": {
        "id": "bGott36OQxfz",
        "colab": {
          "base_uri": "https://localhost:8080/"
        },
        "outputId": "3d0f039c-871a-42f8-9e1a-f9d493e8b573"
      },
      "outputs": [
        {
          "output_type": "execute_result",
          "data": {
            "text/plain": [
              "(1.5814065060463465, 1.714429951175907)"
            ]
          },
          "metadata": {},
          "execution_count": 71
        }
      ],
      "source": [
        "### Simple regret minimisation: run number = 17\n",
        "\n",
        "gp_output_17 = np.append(np.min(-gp_17.GP.y[0:n_init]),-gp_17.GP.y[n_init:(n_init+iters)]) \n",
        "stp_output_17 = np.append(np.min(-stp_17.GP.y[0:n_init]),-stp_17.GP.y[n_init:(n_init+iters)]) \n",
        "\n",
        "regret_gp_17 = np.log(gp_output_17 - y_global_orig)\n",
        "regret_stp_17 = np.log(stp_output_17 - y_global_orig)\n",
        "\n",
        "simple_regret_gp_17 = min_max_array(regret_gp_17)\n",
        "simple_regret_stp_17 = min_max_array(regret_stp_17)\n",
        "\n",
        "min_simple_regret_gp_17 = min(simple_regret_gp_17)\n",
        "min_simple_regret_stp_17 = min(simple_regret_stp_17)\n",
        "\n",
        "min_simple_regret_gp_17, min_simple_regret_stp_17"
      ]
    },
    {
      "cell_type": "code",
      "execution_count": 72,
      "metadata": {
        "id": "Cz9ZYMBMQxfz",
        "colab": {
          "base_uri": "https://localhost:8080/"
        },
        "outputId": "f19660c2-87ac-4bed-9fcb-6b908825664e"
      },
      "outputs": [
        {
          "output_type": "execute_result",
          "data": {
            "text/plain": [
              "(2.741446647327747, 2.172134826980174)"
            ]
          },
          "metadata": {},
          "execution_count": 72
        }
      ],
      "source": [
        "### Simple regret minimisation: run number = 18\n",
        "\n",
        "gp_output_18 = np.append(np.min(-gp_18.GP.y[0:n_init]),-gp_18.GP.y[n_init:(n_init+iters)]) \n",
        "stp_output_18 = np.append(np.min(-stp_18.GP.y[0:n_init]),-stp_18.GP.y[n_init:(n_init+iters)]) \n",
        "\n",
        "regret_gp_18 = np.log(gp_output_18 - y_global_orig)\n",
        "regret_stp_18 = np.log(stp_output_18 - y_global_orig)\n",
        "\n",
        "simple_regret_gp_18 = min_max_array(regret_gp_18)\n",
        "simple_regret_stp_18 = min_max_array(regret_stp_18)\n",
        "\n",
        "min_simple_regret_gp_18 = min(simple_regret_gp_18)\n",
        "min_simple_regret_stp_18 = min(simple_regret_stp_18)\n",
        "\n",
        "min_simple_regret_gp_18, min_simple_regret_stp_18"
      ]
    },
    {
      "cell_type": "code",
      "execution_count": 73,
      "metadata": {
        "id": "OBfpWOHNQxf0",
        "colab": {
          "base_uri": "https://localhost:8080/"
        },
        "outputId": "40d84ed8-43eb-444f-9371-2f1452f9bdea"
      },
      "outputs": [
        {
          "output_type": "execute_result",
          "data": {
            "text/plain": [
              "(0.34934407437770776, 1.4914275897343596)"
            ]
          },
          "metadata": {},
          "execution_count": 73
        }
      ],
      "source": [
        "### Simple regret minimisation: run number = 19\n",
        "\n",
        "gp_output_19 = np.append(np.min(-gp_19.GP.y[0:n_init]),-gp_19.GP.y[n_init:(n_init+iters)]) \n",
        "stp_output_19 = np.append(np.min(-stp_19.GP.y[0:n_init]),-stp_19.GP.y[n_init:(n_init+iters)]) \n",
        "\n",
        "regret_gp_19 = np.log(gp_output_19 - y_global_orig)\n",
        "regret_stp_19 = np.log(stp_output_19 - y_global_orig)\n",
        "\n",
        "simple_regret_gp_19 = min_max_array(regret_gp_19)\n",
        "simple_regret_stp_19 = min_max_array(regret_stp_19)\n",
        "\n",
        "min_simple_regret_gp_19 = min(simple_regret_gp_19)\n",
        "min_simple_regret_stp_19 = min(simple_regret_stp_19)\n",
        "\n",
        "min_simple_regret_gp_19, min_simple_regret_stp_19"
      ]
    },
    {
      "cell_type": "code",
      "execution_count": 74,
      "metadata": {
        "id": "BE1AJ7NsQxf0",
        "colab": {
          "base_uri": "https://localhost:8080/"
        },
        "outputId": "0a1738c2-af76-4d30-d055-725c967e5b7e"
      },
      "outputs": [
        {
          "output_type": "execute_result",
          "data": {
            "text/plain": [
              "(2.247076214436953, 2.3512855310867646)"
            ]
          },
          "metadata": {},
          "execution_count": 74
        }
      ],
      "source": [
        "### Simple regret minimisation: run number = 20\n",
        "\n",
        "gp_output_20 = np.append(np.min(-gp_20.GP.y[0:n_init]),-gp_20.GP.y[n_init:(n_init+iters)]) \n",
        "stp_output_20 = np.append(np.min(-stp_20.GP.y[0:n_init]),-stp_20.GP.y[n_init:(n_init+iters)]) \n",
        "\n",
        "regret_gp_20 = np.log(gp_output_20 - y_global_orig)\n",
        "regret_stp_20 = np.log(stp_output_20 - y_global_orig)\n",
        "\n",
        "simple_regret_gp_20 = min_max_array(regret_gp_20)\n",
        "simple_regret_stp_20 = min_max_array(regret_stp_20)\n",
        "\n",
        "min_simple_regret_gp_20 = min(simple_regret_gp_20)\n",
        "min_simple_regret_stp_20 = min(simple_regret_stp_20)\n",
        "\n",
        "min_simple_regret_gp_20, min_simple_regret_stp_20"
      ]
    },
    {
      "cell_type": "code",
      "execution_count": 75,
      "metadata": {
        "id": "bpX-bKAHQxf1"
      },
      "outputs": [],
      "source": [
        "# Iteration1 :\n",
        "\n",
        "slice1 = 0\n",
        "\n",
        "approx1 = [simple_regret_gp_1[slice1],\n",
        "       simple_regret_gp_2[slice1],\n",
        "       simple_regret_gp_3[slice1],\n",
        "       simple_regret_gp_4[slice1],\n",
        "       simple_regret_gp_5[slice1],\n",
        "       simple_regret_gp_6[slice1],\n",
        "       simple_regret_gp_7[slice1],\n",
        "       simple_regret_gp_8[slice1],\n",
        "       simple_regret_gp_9[slice1],\n",
        "       simple_regret_gp_10[slice1],\n",
        "       simple_regret_gp_11[slice1],\n",
        "       simple_regret_gp_12[slice1],\n",
        "       simple_regret_gp_13[slice1],\n",
        "       simple_regret_gp_14[slice1],\n",
        "       simple_regret_gp_15[slice1],\n",
        "       simple_regret_gp_16[slice1],\n",
        "       simple_regret_gp_17[slice1],\n",
        "       simple_regret_gp_18[slice1],\n",
        "       simple_regret_gp_19[slice1],\n",
        "       simple_regret_gp_20[slice1]]\n",
        "\n",
        "exact1 = [simple_regret_stp_1[slice1],\n",
        "       simple_regret_stp_2[slice1],\n",
        "       simple_regret_stp_3[slice1],\n",
        "       simple_regret_stp_4[slice1],\n",
        "       simple_regret_stp_5[slice1],\n",
        "       simple_regret_stp_6[slice1],\n",
        "       simple_regret_stp_7[slice1],\n",
        "       simple_regret_stp_8[slice1],\n",
        "       simple_regret_stp_9[slice1],\n",
        "       simple_regret_stp_10[slice1],\n",
        "       simple_regret_stp_11[slice1],\n",
        "       simple_regret_stp_12[slice1],\n",
        "       simple_regret_stp_13[slice1],\n",
        "       simple_regret_stp_14[slice1],\n",
        "       simple_regret_stp_15[slice1],\n",
        "       simple_regret_stp_16[slice1],\n",
        "       simple_regret_stp_17[slice1],\n",
        "       simple_regret_stp_18[slice1],\n",
        "       simple_regret_stp_19[slice1],\n",
        "       simple_regret_stp_20[slice1]]\n",
        "\n",
        "approx1_results = pd.DataFrame(approx1).sort_values(by=[0], ascending=False)\n",
        "exact1_results = pd.DataFrame(exact1).sort_values(by=[0], ascending=False)\n",
        "\n",
        "### Best simple regret minimization IQR - approx:\n",
        "lower_gp1 = np.asarray(approx1_results[4:5][0])[0]\n",
        "median_gp1 = np.asarray(approx1_results[9:10][0])[0]\n",
        "upper_gp1 = np.asarray(approx1_results[14:15][0])[0]\n",
        "\n",
        "lower_stp1 = np.asarray(exact1_results[4:5][0])[0]\n",
        "median_stp1 = np.asarray(exact1_results[9:10][0])[0]\n",
        "upper_stp1 = np.asarray(exact1_results[14:15][0])[0]"
      ]
    },
    {
      "cell_type": "code",
      "execution_count": 76,
      "metadata": {
        "id": "CgIkJA1xQxf2"
      },
      "outputs": [],
      "source": [
        "# Iteration11 :\n",
        "\n",
        "slice11 = 10\n",
        "\n",
        "approx11 = [simple_regret_gp_1[slice11],\n",
        "       simple_regret_gp_2[slice11],\n",
        "       simple_regret_gp_3[slice11],\n",
        "       simple_regret_gp_4[slice11],\n",
        "       simple_regret_gp_5[slice11],\n",
        "       simple_regret_gp_6[slice11],\n",
        "       simple_regret_gp_7[slice11],\n",
        "       simple_regret_gp_8[slice11],\n",
        "       simple_regret_gp_9[slice11],\n",
        "       simple_regret_gp_10[slice11],\n",
        "       simple_regret_gp_11[slice11],\n",
        "       simple_regret_gp_12[slice11],\n",
        "       simple_regret_gp_13[slice11],\n",
        "       simple_regret_gp_14[slice11],\n",
        "       simple_regret_gp_15[slice11],\n",
        "       simple_regret_gp_16[slice11],\n",
        "       simple_regret_gp_17[slice11],\n",
        "       simple_regret_gp_18[slice11],\n",
        "       simple_regret_gp_19[slice11],\n",
        "       simple_regret_gp_20[slice11]]\n",
        "\n",
        "exact11 = [simple_regret_stp_1[slice11],\n",
        "       simple_regret_stp_2[slice11],\n",
        "       simple_regret_stp_3[slice11],\n",
        "       simple_regret_stp_4[slice11],\n",
        "       simple_regret_stp_5[slice11],\n",
        "       simple_regret_stp_6[slice11],\n",
        "       simple_regret_stp_7[slice11],\n",
        "       simple_regret_stp_8[slice11],\n",
        "       simple_regret_stp_9[slice11],\n",
        "       simple_regret_stp_10[slice11],\n",
        "       simple_regret_stp_11[slice11],\n",
        "       simple_regret_stp_12[slice11],\n",
        "       simple_regret_stp_13[slice11],\n",
        "       simple_regret_stp_14[slice11],\n",
        "       simple_regret_stp_15[slice11],\n",
        "       simple_regret_stp_16[slice11],\n",
        "       simple_regret_stp_17[slice11],\n",
        "       simple_regret_stp_18[slice11],\n",
        "       simple_regret_stp_19[slice11],\n",
        "       simple_regret_stp_20[slice11]]\n",
        "\n",
        "approx11_results = pd.DataFrame(approx11).sort_values(by=[0], ascending=False)\n",
        "exact11_results = pd.DataFrame(exact11).sort_values(by=[0], ascending=False)\n",
        "\n",
        "### Best simple regret minimization IQR - approx:\n",
        "lower_gp11 = np.asarray(approx11_results[4:5][0])[0]\n",
        "median_gp11 = np.asarray(approx11_results[9:10][0])[0]\n",
        "upper_gp11 = np.asarray(approx11_results[14:15][0])[0]\n",
        "\n",
        "lower_stp11 = np.asarray(exact11_results[4:5][0])[0]\n",
        "median_stp11 = np.asarray(exact11_results[9:10][0])[0]\n",
        "upper_stp11 = np.asarray(exact11_results[14:15][0])[0]"
      ]
    },
    {
      "cell_type": "code",
      "execution_count": 77,
      "metadata": {
        "id": "MFePDfGuQxf2"
      },
      "outputs": [],
      "source": [
        "# Iteration21 :\n",
        "\n",
        "slice21 = 20\n",
        "\n",
        "approx21 = [simple_regret_gp_1[slice21],\n",
        "       simple_regret_gp_2[slice21],\n",
        "       simple_regret_gp_3[slice21],\n",
        "       simple_regret_gp_4[slice21],\n",
        "       simple_regret_gp_5[slice21],\n",
        "       simple_regret_gp_6[slice21],\n",
        "       simple_regret_gp_7[slice21],\n",
        "       simple_regret_gp_8[slice21],\n",
        "       simple_regret_gp_9[slice21],\n",
        "       simple_regret_gp_10[slice21],\n",
        "       simple_regret_gp_11[slice21],\n",
        "       simple_regret_gp_12[slice21],\n",
        "       simple_regret_gp_13[slice21],\n",
        "       simple_regret_gp_14[slice21],\n",
        "       simple_regret_gp_15[slice21],\n",
        "       simple_regret_gp_16[slice21],\n",
        "       simple_regret_gp_17[slice21],\n",
        "       simple_regret_gp_18[slice21],\n",
        "       simple_regret_gp_19[slice21],\n",
        "       simple_regret_gp_20[slice21]]\n",
        "\n",
        "exact21 = [simple_regret_stp_1[slice21],\n",
        "       simple_regret_stp_2[slice21],\n",
        "       simple_regret_stp_3[slice21],\n",
        "       simple_regret_stp_4[slice21],\n",
        "       simple_regret_stp_5[slice21],\n",
        "       simple_regret_stp_6[slice21],\n",
        "       simple_regret_stp_7[slice21],\n",
        "       simple_regret_stp_8[slice21],\n",
        "       simple_regret_stp_9[slice21],\n",
        "       simple_regret_stp_10[slice21],\n",
        "       simple_regret_stp_11[slice21],\n",
        "       simple_regret_stp_12[slice21],\n",
        "       simple_regret_stp_13[slice21],\n",
        "       simple_regret_stp_14[slice21],\n",
        "       simple_regret_stp_15[slice21],\n",
        "       simple_regret_stp_16[slice21],\n",
        "       simple_regret_stp_17[slice21],\n",
        "       simple_regret_stp_18[slice21],\n",
        "       simple_regret_stp_19[slice21],\n",
        "       simple_regret_stp_20[slice21]]\n",
        "\n",
        "approx21_results = pd.DataFrame(approx21).sort_values(by=[0], ascending=False)\n",
        "exact21_results = pd.DataFrame(exact21).sort_values(by=[0], ascending=False)\n",
        "\n",
        "### Best simple regret minimization IQR - approx:\n",
        "lower_gp21 = np.asarray(approx21_results[4:5][0])[0]\n",
        "median_gp21 = np.asarray(approx21_results[9:10][0])[0]\n",
        "upper_gp21 = np.asarray(approx21_results[14:15][0])[0]\n",
        "\n",
        "lower_stp21 = np.asarray(exact21_results[4:5][0])[0]\n",
        "median_stp21 = np.asarray(exact21_results[9:10][0])[0]\n",
        "upper_stp21 = np.asarray(exact21_results[14:15][0])[0]"
      ]
    },
    {
      "cell_type": "code",
      "execution_count": 78,
      "metadata": {
        "id": "PrRDB1kfQxf3"
      },
      "outputs": [],
      "source": [
        "# Iteration2 :\n",
        "\n",
        "slice2 = 1\n",
        "\n",
        "approx2 = [simple_regret_gp_1[slice2],\n",
        "       simple_regret_gp_2[slice2],\n",
        "       simple_regret_gp_3[slice2],\n",
        "       simple_regret_gp_4[slice2],\n",
        "       simple_regret_gp_5[slice2],\n",
        "       simple_regret_gp_6[slice2],\n",
        "       simple_regret_gp_7[slice2],\n",
        "       simple_regret_gp_8[slice2],\n",
        "       simple_regret_gp_9[slice2],\n",
        "       simple_regret_gp_10[slice2],\n",
        "       simple_regret_gp_11[slice2],\n",
        "       simple_regret_gp_12[slice2],\n",
        "       simple_regret_gp_13[slice2],\n",
        "       simple_regret_gp_14[slice2],\n",
        "       simple_regret_gp_15[slice2],\n",
        "       simple_regret_gp_16[slice2],\n",
        "       simple_regret_gp_17[slice2],\n",
        "       simple_regret_gp_18[slice2],\n",
        "       simple_regret_gp_19[slice2],\n",
        "       simple_regret_gp_20[slice2]]\n",
        "\n",
        "exact2 = [simple_regret_stp_1[slice2],\n",
        "       simple_regret_stp_2[slice2],\n",
        "       simple_regret_stp_3[slice2],\n",
        "       simple_regret_stp_4[slice2],\n",
        "       simple_regret_stp_5[slice2],\n",
        "       simple_regret_stp_6[slice2],\n",
        "       simple_regret_stp_7[slice2],\n",
        "       simple_regret_stp_8[slice2],\n",
        "       simple_regret_stp_9[slice2],\n",
        "       simple_regret_stp_10[slice2],\n",
        "       simple_regret_stp_11[slice2],\n",
        "       simple_regret_stp_12[slice2],\n",
        "       simple_regret_stp_13[slice2],\n",
        "       simple_regret_stp_14[slice2],\n",
        "       simple_regret_stp_15[slice2],\n",
        "       simple_regret_stp_16[slice2],\n",
        "       simple_regret_stp_17[slice2],\n",
        "       simple_regret_stp_18[slice2],\n",
        "       simple_regret_stp_19[slice2],\n",
        "       simple_regret_stp_20[slice2]]\n",
        "\n",
        "approx2_results = pd.DataFrame(approx2).sort_values(by=[0], ascending=False)\n",
        "exact2_results = pd.DataFrame(exact2).sort_values(by=[0], ascending=False)\n",
        "\n",
        "### Best simple regret minimization IQR - approx:\n",
        "lower_gp2 = np.asarray(approx2_results[4:5][0])[0]\n",
        "median_gp2 = np.asarray(approx2_results[9:10][0])[0]\n",
        "upper_gp2 = np.asarray(approx2_results[14:15][0])[0]\n",
        "\n",
        "lower_stp2 = np.asarray(exact2_results[4:5][0])[0]\n",
        "median_stp2 = np.asarray(exact2_results[9:10][0])[0]\n",
        "upper_stp2 = np.asarray(exact2_results[14:15][0])[0]"
      ]
    },
    {
      "cell_type": "code",
      "execution_count": 79,
      "metadata": {
        "id": "B8ncJDYeQxf3"
      },
      "outputs": [],
      "source": [
        "# Iteration12 :\n",
        "\n",
        "slice12 = 11\n",
        "\n",
        "approx12 = [simple_regret_gp_1[slice12],\n",
        "       simple_regret_gp_2[slice12],\n",
        "       simple_regret_gp_3[slice12],\n",
        "       simple_regret_gp_4[slice12],\n",
        "       simple_regret_gp_5[slice12],\n",
        "       simple_regret_gp_6[slice12],\n",
        "       simple_regret_gp_7[slice12],\n",
        "       simple_regret_gp_8[slice12],\n",
        "       simple_regret_gp_9[slice12],\n",
        "       simple_regret_gp_10[slice12],\n",
        "       simple_regret_gp_11[slice12],\n",
        "       simple_regret_gp_12[slice12],\n",
        "       simple_regret_gp_13[slice12],\n",
        "       simple_regret_gp_14[slice12],\n",
        "       simple_regret_gp_15[slice12],\n",
        "       simple_regret_gp_16[slice12],\n",
        "       simple_regret_gp_17[slice12],\n",
        "       simple_regret_gp_18[slice12],\n",
        "       simple_regret_gp_19[slice12],\n",
        "       simple_regret_gp_20[slice12]]\n",
        "\n",
        "exact12 = [simple_regret_stp_1[slice12],\n",
        "       simple_regret_stp_2[slice12],\n",
        "       simple_regret_stp_3[slice12],\n",
        "       simple_regret_stp_4[slice12],\n",
        "       simple_regret_stp_5[slice12],\n",
        "       simple_regret_stp_6[slice12],\n",
        "       simple_regret_stp_7[slice12],\n",
        "       simple_regret_stp_8[slice12],\n",
        "       simple_regret_stp_9[slice12],\n",
        "       simple_regret_stp_10[slice12],\n",
        "       simple_regret_stp_11[slice12],\n",
        "       simple_regret_stp_12[slice12],\n",
        "       simple_regret_stp_13[slice12],\n",
        "       simple_regret_stp_14[slice12],\n",
        "       simple_regret_stp_15[slice12],\n",
        "       simple_regret_stp_16[slice12],\n",
        "       simple_regret_stp_17[slice12],\n",
        "       simple_regret_stp_18[slice12],\n",
        "       simple_regret_stp_19[slice12],\n",
        "       simple_regret_stp_20[slice12]]\n",
        "\n",
        "approx12_results = pd.DataFrame(approx12).sort_values(by=[0], ascending=False)\n",
        "exact12_results = pd.DataFrame(exact12).sort_values(by=[0], ascending=False)\n",
        "\n",
        "### Best simple regret minimization IQR - approx:\n",
        "lower_gp12 = np.asarray(approx12_results[4:5][0])[0]\n",
        "median_gp12 = np.asarray(approx12_results[9:10][0])[0]\n",
        "upper_gp12 = np.asarray(approx12_results[14:15][0])[0]\n",
        "\n",
        "lower_stp12 = np.asarray(exact12_results[4:5][0])[0]\n",
        "median_stp12 = np.asarray(exact12_results[9:10][0])[0]\n",
        "upper_stp12 = np.asarray(exact12_results[14:15][0])[0]"
      ]
    },
    {
      "cell_type": "code",
      "execution_count": 80,
      "metadata": {
        "id": "Jn4KpGvcQxf4"
      },
      "outputs": [],
      "source": [
        "# Iteration3 :\n",
        "\n",
        "slice3 = 2\n",
        "\n",
        "approx3 = [simple_regret_gp_1[slice3],\n",
        "       simple_regret_gp_2[slice3],\n",
        "       simple_regret_gp_3[slice3],\n",
        "       simple_regret_gp_4[slice3],\n",
        "       simple_regret_gp_5[slice3],\n",
        "       simple_regret_gp_6[slice3],\n",
        "       simple_regret_gp_7[slice3],\n",
        "       simple_regret_gp_8[slice3],\n",
        "       simple_regret_gp_9[slice3],\n",
        "       simple_regret_gp_10[slice3],\n",
        "       simple_regret_gp_11[slice3],\n",
        "       simple_regret_gp_12[slice3],\n",
        "       simple_regret_gp_13[slice3],\n",
        "       simple_regret_gp_14[slice3],\n",
        "       simple_regret_gp_15[slice3],\n",
        "       simple_regret_gp_16[slice3],\n",
        "       simple_regret_gp_17[slice3],\n",
        "       simple_regret_gp_18[slice3],\n",
        "       simple_regret_gp_19[slice3],\n",
        "       simple_regret_gp_20[slice3]]\n",
        "\n",
        "exact3 = [simple_regret_stp_1[slice3],\n",
        "       simple_regret_stp_2[slice3],\n",
        "       simple_regret_stp_3[slice3],\n",
        "       simple_regret_stp_4[slice3],\n",
        "       simple_regret_stp_5[slice3],\n",
        "       simple_regret_stp_6[slice3],\n",
        "       simple_regret_stp_7[slice3],\n",
        "       simple_regret_stp_8[slice3],\n",
        "       simple_regret_stp_9[slice3],\n",
        "       simple_regret_stp_10[slice3],\n",
        "       simple_regret_stp_11[slice3],\n",
        "       simple_regret_stp_12[slice3],\n",
        "       simple_regret_stp_13[slice3],\n",
        "       simple_regret_stp_14[slice3],\n",
        "       simple_regret_stp_15[slice3],\n",
        "       simple_regret_stp_16[slice3],\n",
        "       simple_regret_stp_17[slice3],\n",
        "       simple_regret_stp_18[slice3],\n",
        "       simple_regret_stp_19[slice3],\n",
        "       simple_regret_stp_20[slice3]]\n",
        "\n",
        "approx3_results = pd.DataFrame(approx3).sort_values(by=[0], ascending=False)\n",
        "exact3_results = pd.DataFrame(exact3).sort_values(by=[0], ascending=False)\n",
        "\n",
        "### Best simple regret minimization IQR - approx:\n",
        "lower_gp3 = np.asarray(approx3_results[4:5][0])[0]\n",
        "median_gp3 = np.asarray(approx3_results[9:10][0])[0]\n",
        "upper_gp3 = np.asarray(approx3_results[14:15][0])[0]\n",
        "\n",
        "lower_stp3 = np.asarray(exact3_results[4:5][0])[0]\n",
        "median_stp3 = np.asarray(exact3_results[9:10][0])[0]\n",
        "upper_stp3 = np.asarray(exact3_results[14:15][0])[0]"
      ]
    },
    {
      "cell_type": "code",
      "execution_count": 81,
      "metadata": {
        "id": "plf83wxrQxf4"
      },
      "outputs": [],
      "source": [
        "# Iteration13 :\n",
        "\n",
        "slice13 = 12\n",
        "\n",
        "approx13 = [simple_regret_gp_1[slice13],\n",
        "       simple_regret_gp_2[slice13],\n",
        "       simple_regret_gp_3[slice13],\n",
        "       simple_regret_gp_4[slice13],\n",
        "       simple_regret_gp_5[slice13],\n",
        "       simple_regret_gp_6[slice13],\n",
        "       simple_regret_gp_7[slice13],\n",
        "       simple_regret_gp_8[slice13],\n",
        "       simple_regret_gp_9[slice13],\n",
        "       simple_regret_gp_10[slice13],\n",
        "       simple_regret_gp_11[slice13],\n",
        "       simple_regret_gp_12[slice13],\n",
        "       simple_regret_gp_13[slice13],\n",
        "       simple_regret_gp_14[slice13],\n",
        "       simple_regret_gp_15[slice13],\n",
        "       simple_regret_gp_16[slice13],\n",
        "       simple_regret_gp_17[slice13],\n",
        "       simple_regret_gp_18[slice13],\n",
        "       simple_regret_gp_19[slice13],\n",
        "       simple_regret_gp_20[slice13]]\n",
        "\n",
        "exact13 = [simple_regret_stp_1[slice13],\n",
        "       simple_regret_stp_2[slice13],\n",
        "       simple_regret_stp_3[slice13],\n",
        "       simple_regret_stp_4[slice13],\n",
        "       simple_regret_stp_5[slice13],\n",
        "       simple_regret_stp_6[slice13],\n",
        "       simple_regret_stp_7[slice13],\n",
        "       simple_regret_stp_8[slice13],\n",
        "       simple_regret_stp_9[slice13],\n",
        "       simple_regret_stp_10[slice13],\n",
        "       simple_regret_stp_11[slice13],\n",
        "       simple_regret_stp_12[slice13],\n",
        "       simple_regret_stp_13[slice13],\n",
        "       simple_regret_stp_14[slice13],\n",
        "       simple_regret_stp_15[slice13],\n",
        "       simple_regret_stp_16[slice13],\n",
        "       simple_regret_stp_17[slice13],\n",
        "       simple_regret_stp_18[slice13],\n",
        "       simple_regret_stp_19[slice13],\n",
        "       simple_regret_stp_20[slice13]]\n",
        "\n",
        "approx13_results = pd.DataFrame(approx13).sort_values(by=[0], ascending=False)\n",
        "exact13_results = pd.DataFrame(exact13).sort_values(by=[0], ascending=False)\n",
        "\n",
        "### Best simple regret minimization IQR - approx:\n",
        "lower_gp13 = np.asarray(approx13_results[4:5][0])[0]\n",
        "median_gp13 = np.asarray(approx13_results[9:10][0])[0]\n",
        "upper_gp13 = np.asarray(approx13_results[14:15][0])[0]\n",
        "\n",
        "lower_stp13 = np.asarray(exact13_results[4:5][0])[0]\n",
        "median_stp13 = np.asarray(exact13_results[9:10][0])[0]\n",
        "upper_stp13 = np.asarray(exact13_results[14:15][0])[0]"
      ]
    },
    {
      "cell_type": "code",
      "execution_count": 82,
      "metadata": {
        "id": "9A7mlVvJQxf5"
      },
      "outputs": [],
      "source": [
        "# Iteration4 :\n",
        "\n",
        "slice4 = 3\n",
        "\n",
        "approx4 = [simple_regret_gp_1[slice4],\n",
        "       simple_regret_gp_2[slice4],\n",
        "       simple_regret_gp_3[slice4],\n",
        "       simple_regret_gp_4[slice4],\n",
        "       simple_regret_gp_5[slice4],\n",
        "       simple_regret_gp_6[slice4],\n",
        "       simple_regret_gp_7[slice4],\n",
        "       simple_regret_gp_8[slice4],\n",
        "       simple_regret_gp_9[slice4],\n",
        "       simple_regret_gp_10[slice4],\n",
        "       simple_regret_gp_11[slice4],\n",
        "       simple_regret_gp_12[slice4],\n",
        "       simple_regret_gp_13[slice4],\n",
        "       simple_regret_gp_14[slice4],\n",
        "       simple_regret_gp_15[slice4],\n",
        "       simple_regret_gp_16[slice4],\n",
        "       simple_regret_gp_17[slice4],\n",
        "       simple_regret_gp_18[slice4],\n",
        "       simple_regret_gp_19[slice4],\n",
        "       simple_regret_gp_20[slice4]]\n",
        "\n",
        "exact4 = [simple_regret_stp_1[slice4],\n",
        "       simple_regret_stp_2[slice4],\n",
        "       simple_regret_stp_3[slice4],\n",
        "       simple_regret_stp_4[slice4],\n",
        "       simple_regret_stp_5[slice4],\n",
        "       simple_regret_stp_6[slice4],\n",
        "       simple_regret_stp_7[slice4],\n",
        "       simple_regret_stp_8[slice4],\n",
        "       simple_regret_stp_9[slice4],\n",
        "       simple_regret_stp_10[slice4],\n",
        "       simple_regret_stp_11[slice4],\n",
        "       simple_regret_stp_12[slice4],\n",
        "       simple_regret_stp_13[slice4],\n",
        "       simple_regret_stp_14[slice4],\n",
        "       simple_regret_stp_15[slice4],\n",
        "       simple_regret_stp_16[slice4],\n",
        "       simple_regret_stp_17[slice4],\n",
        "       simple_regret_stp_18[slice4],\n",
        "       simple_regret_stp_19[slice4],\n",
        "       simple_regret_stp_20[slice4]]\n",
        "\n",
        "approx4_results = pd.DataFrame(approx4).sort_values(by=[0], ascending=False)\n",
        "exact4_results = pd.DataFrame(exact4).sort_values(by=[0], ascending=False)\n",
        "\n",
        "### Best simple regret minimization IQR - approx:\n",
        "lower_gp4 = np.asarray(approx4_results[4:5][0])[0]\n",
        "median_gp4 = np.asarray(approx4_results[9:10][0])[0]\n",
        "upper_gp4 = np.asarray(approx4_results[14:15][0])[0]\n",
        "\n",
        "lower_stp4 = np.asarray(exact4_results[4:5][0])[0]\n",
        "median_stp4 = np.asarray(exact4_results[9:10][0])[0]\n",
        "upper_stp4 = np.asarray(exact4_results[14:15][0])[0]"
      ]
    },
    {
      "cell_type": "code",
      "execution_count": 83,
      "metadata": {
        "id": "ijq-rioYQxf5"
      },
      "outputs": [],
      "source": [
        "# Iteration14 :\n",
        "\n",
        "slice14 = 13\n",
        "\n",
        "approx14 = [simple_regret_gp_1[slice14],\n",
        "       simple_regret_gp_2[slice14],\n",
        "       simple_regret_gp_3[slice14],\n",
        "       simple_regret_gp_4[slice14],\n",
        "       simple_regret_gp_5[slice14],\n",
        "       simple_regret_gp_6[slice14],\n",
        "       simple_regret_gp_7[slice14],\n",
        "       simple_regret_gp_8[slice14],\n",
        "       simple_regret_gp_9[slice14],\n",
        "       simple_regret_gp_10[slice14],\n",
        "       simple_regret_gp_11[slice14],\n",
        "       simple_regret_gp_12[slice14],\n",
        "       simple_regret_gp_13[slice14],\n",
        "       simple_regret_gp_14[slice14],\n",
        "       simple_regret_gp_15[slice14],\n",
        "       simple_regret_gp_16[slice14],\n",
        "       simple_regret_gp_17[slice14],\n",
        "       simple_regret_gp_18[slice14],\n",
        "       simple_regret_gp_19[slice14],\n",
        "       simple_regret_gp_20[slice14]]\n",
        "\n",
        "exact14 = [simple_regret_stp_1[slice14],\n",
        "       simple_regret_stp_2[slice14],\n",
        "       simple_regret_stp_3[slice14],\n",
        "       simple_regret_stp_4[slice14],\n",
        "       simple_regret_stp_5[slice14],\n",
        "       simple_regret_stp_6[slice14],\n",
        "       simple_regret_stp_7[slice14],\n",
        "       simple_regret_stp_8[slice14],\n",
        "       simple_regret_stp_9[slice14],\n",
        "       simple_regret_stp_10[slice14],\n",
        "       simple_regret_stp_11[slice14],\n",
        "       simple_regret_stp_12[slice14],\n",
        "       simple_regret_stp_13[slice14],\n",
        "       simple_regret_stp_14[slice14],\n",
        "       simple_regret_stp_15[slice14],\n",
        "       simple_regret_stp_16[slice14],\n",
        "       simple_regret_stp_17[slice14],\n",
        "       simple_regret_stp_18[slice14],\n",
        "       simple_regret_stp_19[slice14],\n",
        "       simple_regret_stp_20[slice14]]\n",
        "\n",
        "approx14_results = pd.DataFrame(approx14).sort_values(by=[0], ascending=False)\n",
        "exact14_results = pd.DataFrame(exact14).sort_values(by=[0], ascending=False)\n",
        "\n",
        "### Best simple regret minimization IQR - approx:\n",
        "lower_gp14 = np.asarray(approx14_results[4:5][0])[0]\n",
        "median_gp14 = np.asarray(approx14_results[9:10][0])[0]\n",
        "upper_gp14 = np.asarray(approx14_results[14:15][0])[0]\n",
        "\n",
        "lower_stp14 = np.asarray(exact14_results[4:5][0])[0]\n",
        "median_stp14 = np.asarray(exact14_results[9:10][0])[0]\n",
        "upper_stp14 = np.asarray(exact14_results[14:15][0])[0]"
      ]
    },
    {
      "cell_type": "code",
      "execution_count": 84,
      "metadata": {
        "id": "XINlZjoTd-ZK"
      },
      "outputs": [],
      "source": [
        "# Iteration5 :\n",
        "\n",
        "slice5 = 4\n",
        "\n",
        "approx5 = [simple_regret_gp_1[slice5],\n",
        "       simple_regret_gp_2[slice5],\n",
        "       simple_regret_gp_3[slice5],\n",
        "       simple_regret_gp_4[slice5],\n",
        "       simple_regret_gp_5[slice5],\n",
        "       simple_regret_gp_6[slice5],\n",
        "       simple_regret_gp_7[slice5],\n",
        "       simple_regret_gp_8[slice5],\n",
        "       simple_regret_gp_9[slice5],\n",
        "       simple_regret_gp_10[slice5],\n",
        "       simple_regret_gp_11[slice5],\n",
        "       simple_regret_gp_12[slice5],\n",
        "       simple_regret_gp_13[slice5],\n",
        "       simple_regret_gp_14[slice5],\n",
        "       simple_regret_gp_15[slice5],\n",
        "       simple_regret_gp_16[slice5],\n",
        "       simple_regret_gp_17[slice5],\n",
        "       simple_regret_gp_18[slice5],\n",
        "       simple_regret_gp_19[slice5],\n",
        "       simple_regret_gp_20[slice5]]\n",
        "\n",
        "exact5 = [simple_regret_stp_1[slice5],\n",
        "       simple_regret_stp_2[slice5],\n",
        "       simple_regret_stp_3[slice5],\n",
        "       simple_regret_stp_4[slice5],\n",
        "       simple_regret_stp_5[slice5],\n",
        "       simple_regret_stp_6[slice5],\n",
        "       simple_regret_stp_7[slice5],\n",
        "       simple_regret_stp_8[slice5],\n",
        "       simple_regret_stp_9[slice5],\n",
        "       simple_regret_stp_10[slice5],\n",
        "       simple_regret_stp_11[slice5],\n",
        "       simple_regret_stp_12[slice5],\n",
        "       simple_regret_stp_13[slice5],\n",
        "       simple_regret_stp_14[slice5],\n",
        "       simple_regret_stp_15[slice5],\n",
        "       simple_regret_stp_16[slice5],\n",
        "       simple_regret_stp_17[slice5],\n",
        "       simple_regret_stp_18[slice5],\n",
        "       simple_regret_stp_19[slice5],\n",
        "       simple_regret_stp_20[slice5]]\n",
        "\n",
        "approx5_results = pd.DataFrame(approx5).sort_values(by=[0], ascending=False)\n",
        "exact5_results = pd.DataFrame(exact5).sort_values(by=[0], ascending=False)\n",
        "\n",
        "### Best simple regret minimization IQR - approx:\n",
        "lower_gp5 = np.asarray(approx5_results[4:5][0])[0]\n",
        "median_gp5 = np.asarray(approx5_results[9:10][0])[0]\n",
        "upper_gp5 = np.asarray(approx5_results[14:15][0])[0]\n",
        "\n",
        "lower_stp5 = np.asarray(exact5_results[4:5][0])[0]\n",
        "median_stp5 = np.asarray(exact5_results[9:10][0])[0]\n",
        "upper_stp5 = np.asarray(exact5_results[14:15][0])[0]"
      ]
    },
    {
      "cell_type": "code",
      "execution_count": 85,
      "metadata": {
        "id": "4aZ7C8sOQxf6"
      },
      "outputs": [],
      "source": [
        "# Iteration15 :\n",
        "\n",
        "slice15 = 14\n",
        "\n",
        "approx15 = [simple_regret_gp_1[slice15],\n",
        "       simple_regret_gp_2[slice15],\n",
        "       simple_regret_gp_3[slice15],\n",
        "       simple_regret_gp_4[slice15],\n",
        "       simple_regret_gp_5[slice15],\n",
        "       simple_regret_gp_6[slice15],\n",
        "       simple_regret_gp_7[slice15],\n",
        "       simple_regret_gp_8[slice15],\n",
        "       simple_regret_gp_9[slice15],\n",
        "       simple_regret_gp_10[slice15],\n",
        "       simple_regret_gp_11[slice15],\n",
        "       simple_regret_gp_12[slice15],\n",
        "       simple_regret_gp_13[slice15],\n",
        "       simple_regret_gp_14[slice15],\n",
        "       simple_regret_gp_15[slice15],\n",
        "       simple_regret_gp_16[slice15],\n",
        "       simple_regret_gp_17[slice15],\n",
        "       simple_regret_gp_18[slice15],\n",
        "       simple_regret_gp_19[slice15],\n",
        "       simple_regret_gp_20[slice15]]\n",
        "\n",
        "exact15 = [simple_regret_stp_1[slice15],\n",
        "       simple_regret_stp_2[slice15],\n",
        "       simple_regret_stp_3[slice15],\n",
        "       simple_regret_stp_4[slice15],\n",
        "       simple_regret_stp_5[slice15],\n",
        "       simple_regret_stp_6[slice15],\n",
        "       simple_regret_stp_7[slice15],\n",
        "       simple_regret_stp_8[slice15],\n",
        "       simple_regret_stp_9[slice15],\n",
        "       simple_regret_stp_10[slice15],\n",
        "       simple_regret_stp_11[slice15],\n",
        "       simple_regret_stp_12[slice15],\n",
        "       simple_regret_stp_13[slice15],\n",
        "       simple_regret_stp_14[slice15],\n",
        "       simple_regret_stp_15[slice15],\n",
        "       simple_regret_stp_16[slice15],\n",
        "       simple_regret_stp_17[slice15],\n",
        "       simple_regret_stp_18[slice15],\n",
        "       simple_regret_stp_19[slice15],\n",
        "       simple_regret_stp_20[slice15]]\n",
        "\n",
        "approx15_results = pd.DataFrame(approx15).sort_values(by=[0], ascending=False)\n",
        "exact15_results = pd.DataFrame(exact15).sort_values(by=[0], ascending=False)\n",
        "\n",
        "### Best simple regret minimization IQR - approx:\n",
        "lower_gp15 = np.asarray(approx15_results[4:5][0])[0]\n",
        "median_gp15 = np.asarray(approx15_results[9:10][0])[0]\n",
        "upper_gp15 = np.asarray(approx15_results[14:15][0])[0]\n",
        "\n",
        "lower_stp15 = np.asarray(exact15_results[4:5][0])[0]\n",
        "median_stp15 = np.asarray(exact15_results[9:10][0])[0]\n",
        "upper_stp15 = np.asarray(exact15_results[14:15][0])[0]"
      ]
    },
    {
      "cell_type": "code",
      "execution_count": 86,
      "metadata": {
        "id": "KJINKhv1Qxf6"
      },
      "outputs": [],
      "source": [
        "# Iteration6 :\n",
        "\n",
        "slice6 = 5\n",
        "\n",
        "approx6 = [simple_regret_gp_1[slice6],\n",
        "       simple_regret_gp_2[slice6],\n",
        "       simple_regret_gp_3[slice6],\n",
        "       simple_regret_gp_4[slice6],\n",
        "       simple_regret_gp_5[slice6],\n",
        "       simple_regret_gp_6[slice6],\n",
        "       simple_regret_gp_7[slice6],\n",
        "       simple_regret_gp_8[slice6],\n",
        "       simple_regret_gp_9[slice6],\n",
        "       simple_regret_gp_10[slice6],\n",
        "       simple_regret_gp_11[slice6],\n",
        "       simple_regret_gp_12[slice6],\n",
        "       simple_regret_gp_13[slice6],\n",
        "       simple_regret_gp_14[slice6],\n",
        "       simple_regret_gp_15[slice6],\n",
        "       simple_regret_gp_16[slice6],\n",
        "       simple_regret_gp_17[slice6],\n",
        "       simple_regret_gp_18[slice6],\n",
        "       simple_regret_gp_19[slice6],\n",
        "       simple_regret_gp_20[slice6]]\n",
        "\n",
        "exact6 = [simple_regret_stp_1[slice6],\n",
        "       simple_regret_stp_2[slice6],\n",
        "       simple_regret_stp_3[slice6],\n",
        "       simple_regret_stp_4[slice6],\n",
        "       simple_regret_stp_5[slice6],\n",
        "       simple_regret_stp_6[slice6],\n",
        "       simple_regret_stp_7[slice6],\n",
        "       simple_regret_stp_8[slice6],\n",
        "       simple_regret_stp_9[slice6],\n",
        "       simple_regret_stp_10[slice6],\n",
        "       simple_regret_stp_11[slice6],\n",
        "       simple_regret_stp_12[slice6],\n",
        "       simple_regret_stp_13[slice6],\n",
        "       simple_regret_stp_14[slice6],\n",
        "       simple_regret_stp_15[slice6],\n",
        "       simple_regret_stp_16[slice6],\n",
        "       simple_regret_stp_17[slice6],\n",
        "       simple_regret_stp_18[slice6],\n",
        "       simple_regret_stp_19[slice6],\n",
        "       simple_regret_stp_20[slice6]]\n",
        "\n",
        "approx6_results = pd.DataFrame(approx6).sort_values(by=[0], ascending=False)\n",
        "exact6_results = pd.DataFrame(exact6).sort_values(by=[0], ascending=False)\n",
        "\n",
        "### Best simple regret minimization IQR - approx:\n",
        "lower_gp6 = np.asarray(approx6_results[4:5][0])[0]\n",
        "median_gp6 = np.asarray(approx6_results[9:10][0])[0]\n",
        "upper_gp6 = np.asarray(approx6_results[14:15][0])[0]\n",
        "\n",
        "lower_stp6 = np.asarray(exact6_results[4:5][0])[0]\n",
        "median_stp6 = np.asarray(exact6_results[9:10][0])[0]\n",
        "upper_stp6 = np.asarray(exact6_results[14:15][0])[0]"
      ]
    },
    {
      "cell_type": "code",
      "execution_count": 87,
      "metadata": {
        "id": "nwC5N1FsQxf7"
      },
      "outputs": [],
      "source": [
        "# Iteration16 :\n",
        "\n",
        "slice16 = 15\n",
        "\n",
        "approx16 = [simple_regret_gp_1[slice16],\n",
        "       simple_regret_gp_2[slice16],\n",
        "       simple_regret_gp_3[slice16],\n",
        "       simple_regret_gp_4[slice16],\n",
        "       simple_regret_gp_5[slice16],\n",
        "       simple_regret_gp_6[slice16],\n",
        "       simple_regret_gp_7[slice16],\n",
        "       simple_regret_gp_8[slice16],\n",
        "       simple_regret_gp_9[slice16],\n",
        "       simple_regret_gp_10[slice16],\n",
        "       simple_regret_gp_11[slice16],\n",
        "       simple_regret_gp_12[slice16],\n",
        "       simple_regret_gp_13[slice16],\n",
        "       simple_regret_gp_14[slice16],\n",
        "       simple_regret_gp_15[slice16],\n",
        "       simple_regret_gp_16[slice16],\n",
        "       simple_regret_gp_17[slice16],\n",
        "       simple_regret_gp_18[slice16],\n",
        "       simple_regret_gp_19[slice16],\n",
        "       simple_regret_gp_20[slice16]]\n",
        "\n",
        "exact16 = [simple_regret_stp_1[slice16],\n",
        "       simple_regret_stp_2[slice16],\n",
        "       simple_regret_stp_3[slice16],\n",
        "       simple_regret_stp_4[slice16],\n",
        "       simple_regret_stp_5[slice16],\n",
        "       simple_regret_stp_6[slice16],\n",
        "       simple_regret_stp_7[slice16],\n",
        "       simple_regret_stp_8[slice16],\n",
        "       simple_regret_stp_9[slice16],\n",
        "       simple_regret_stp_10[slice16],\n",
        "       simple_regret_stp_11[slice16],\n",
        "       simple_regret_stp_12[slice16],\n",
        "       simple_regret_stp_13[slice16],\n",
        "       simple_regret_stp_14[slice16],\n",
        "       simple_regret_stp_15[slice16],\n",
        "       simple_regret_stp_16[slice16],\n",
        "       simple_regret_stp_17[slice16],\n",
        "       simple_regret_stp_18[slice16],\n",
        "       simple_regret_stp_19[slice16],\n",
        "       simple_regret_stp_20[slice16]]\n",
        "\n",
        "approx16_results = pd.DataFrame(approx16).sort_values(by=[0], ascending=False)\n",
        "exact16_results = pd.DataFrame(exact16).sort_values(by=[0], ascending=False)\n",
        "\n",
        "### Best simple regret minimization IQR - approx:\n",
        "lower_gp16 = np.asarray(approx16_results[4:5][0])[0]\n",
        "median_gp16 = np.asarray(approx16_results[9:10][0])[0]\n",
        "upper_gp16 = np.asarray(approx16_results[14:15][0])[0]\n",
        "\n",
        "lower_stp16 = np.asarray(exact16_results[4:5][0])[0]\n",
        "median_stp16 = np.asarray(exact16_results[9:10][0])[0]\n",
        "upper_stp16 = np.asarray(exact16_results[14:15][0])[0]"
      ]
    },
    {
      "cell_type": "code",
      "execution_count": 88,
      "metadata": {
        "id": "TrPV0AfnQxf7"
      },
      "outputs": [],
      "source": [
        "# Iteration7 :\n",
        "\n",
        "slice7 = 6\n",
        "\n",
        "approx7 = [simple_regret_gp_1[slice7],\n",
        "       simple_regret_gp_2[slice7],\n",
        "       simple_regret_gp_3[slice7],\n",
        "       simple_regret_gp_4[slice7],\n",
        "       simple_regret_gp_5[slice7],\n",
        "       simple_regret_gp_6[slice7],\n",
        "       simple_regret_gp_7[slice7],\n",
        "       simple_regret_gp_8[slice7],\n",
        "       simple_regret_gp_9[slice7],\n",
        "       simple_regret_gp_10[slice7],\n",
        "       simple_regret_gp_11[slice7],\n",
        "       simple_regret_gp_12[slice7],\n",
        "       simple_regret_gp_13[slice7],\n",
        "       simple_regret_gp_14[slice7],\n",
        "       simple_regret_gp_15[slice7],\n",
        "       simple_regret_gp_16[slice7],\n",
        "       simple_regret_gp_17[slice7],\n",
        "       simple_regret_gp_18[slice7],\n",
        "       simple_regret_gp_19[slice7],\n",
        "       simple_regret_gp_20[slice7]]\n",
        "\n",
        "exact7 = [simple_regret_stp_1[slice7],\n",
        "       simple_regret_stp_2[slice7],\n",
        "       simple_regret_stp_3[slice7],\n",
        "       simple_regret_stp_4[slice7],\n",
        "       simple_regret_stp_5[slice7],\n",
        "       simple_regret_stp_6[slice7],\n",
        "       simple_regret_stp_7[slice7],\n",
        "       simple_regret_stp_8[slice7],\n",
        "       simple_regret_stp_9[slice7],\n",
        "       simple_regret_stp_10[slice7],\n",
        "       simple_regret_stp_11[slice7],\n",
        "       simple_regret_stp_12[slice7],\n",
        "       simple_regret_stp_13[slice7],\n",
        "       simple_regret_stp_14[slice7],\n",
        "       simple_regret_stp_15[slice7],\n",
        "       simple_regret_stp_16[slice7],\n",
        "       simple_regret_stp_17[slice7],\n",
        "       simple_regret_stp_18[slice7],\n",
        "       simple_regret_stp_19[slice7],\n",
        "       simple_regret_stp_20[slice7]]\n",
        "\n",
        "approx7_results = pd.DataFrame(approx7).sort_values(by=[0], ascending=False)\n",
        "exact7_results = pd.DataFrame(exact7).sort_values(by=[0], ascending=False)\n",
        "\n",
        "### Best simple regret minimization IQR - approx:\n",
        "lower_gp7 = np.asarray(approx7_results[4:5][0])[0]\n",
        "median_gp7 = np.asarray(approx7_results[9:10][0])[0]\n",
        "upper_gp7 = np.asarray(approx7_results[14:15][0])[0]\n",
        "\n",
        "lower_stp7 = np.asarray(exact7_results[4:5][0])[0]\n",
        "median_stp7 = np.asarray(exact7_results[9:10][0])[0]\n",
        "upper_stp7 = np.asarray(exact7_results[14:15][0])[0]"
      ]
    },
    {
      "cell_type": "code",
      "execution_count": 89,
      "metadata": {
        "id": "Ub_-wpK4Qxf8"
      },
      "outputs": [],
      "source": [
        "# Iteration17 :\n",
        "\n",
        "slice17 = 16\n",
        "\n",
        "approx17 = [simple_regret_gp_1[slice17],\n",
        "       simple_regret_gp_2[slice17],\n",
        "       simple_regret_gp_3[slice17],\n",
        "       simple_regret_gp_4[slice17],\n",
        "       simple_regret_gp_5[slice17],\n",
        "       simple_regret_gp_6[slice17],\n",
        "       simple_regret_gp_7[slice17],\n",
        "       simple_regret_gp_8[slice17],\n",
        "       simple_regret_gp_9[slice17],\n",
        "       simple_regret_gp_10[slice17],\n",
        "       simple_regret_gp_11[slice17],\n",
        "       simple_regret_gp_12[slice17],\n",
        "       simple_regret_gp_13[slice17],\n",
        "       simple_regret_gp_14[slice17],\n",
        "       simple_regret_gp_15[slice17],\n",
        "       simple_regret_gp_16[slice17],\n",
        "       simple_regret_gp_17[slice17],\n",
        "       simple_regret_gp_18[slice17],\n",
        "       simple_regret_gp_19[slice17],\n",
        "       simple_regret_gp_20[slice17]]\n",
        "\n",
        "exact17 = [simple_regret_stp_1[slice17],\n",
        "       simple_regret_stp_2[slice17],\n",
        "       simple_regret_stp_3[slice17],\n",
        "       simple_regret_stp_4[slice17],\n",
        "       simple_regret_stp_5[slice17],\n",
        "       simple_regret_stp_6[slice17],\n",
        "       simple_regret_stp_7[slice17],\n",
        "       simple_regret_stp_8[slice17],\n",
        "       simple_regret_stp_9[slice17],\n",
        "       simple_regret_stp_10[slice17],\n",
        "       simple_regret_stp_11[slice17],\n",
        "       simple_regret_stp_12[slice17],\n",
        "       simple_regret_stp_13[slice17],\n",
        "       simple_regret_stp_14[slice17],\n",
        "       simple_regret_stp_15[slice17],\n",
        "       simple_regret_stp_16[slice17],\n",
        "       simple_regret_stp_17[slice17],\n",
        "       simple_regret_stp_18[slice17],\n",
        "       simple_regret_stp_19[slice17],\n",
        "       simple_regret_stp_20[slice17]]\n",
        "\n",
        "approx17_results = pd.DataFrame(approx17).sort_values(by=[0], ascending=False)\n",
        "exact17_results = pd.DataFrame(exact17).sort_values(by=[0], ascending=False)\n",
        "\n",
        "### Best simple regret minimization IQR - approx:\n",
        "lower_gp17 = np.asarray(approx17_results[4:5][0])[0]\n",
        "median_gp17 = np.asarray(approx17_results[9:10][0])[0]\n",
        "upper_gp17 = np.asarray(approx17_results[14:15][0])[0]\n",
        "\n",
        "lower_stp17 = np.asarray(exact17_results[4:5][0])[0]\n",
        "median_stp17 = np.asarray(exact17_results[9:10][0])[0]\n",
        "upper_stp17 = np.asarray(exact17_results[14:15][0])[0]"
      ]
    },
    {
      "cell_type": "code",
      "execution_count": 90,
      "metadata": {
        "id": "-6VLo37PQxf8"
      },
      "outputs": [],
      "source": [
        "# Iteration8 :\n",
        "\n",
        "slice8 = 7\n",
        "\n",
        "approx8 = [simple_regret_gp_1[slice8],\n",
        "       simple_regret_gp_2[slice8],\n",
        "       simple_regret_gp_3[slice8],\n",
        "       simple_regret_gp_4[slice8],\n",
        "       simple_regret_gp_5[slice8],\n",
        "       simple_regret_gp_6[slice8],\n",
        "       simple_regret_gp_7[slice8],\n",
        "       simple_regret_gp_8[slice8],\n",
        "       simple_regret_gp_9[slice8],\n",
        "       simple_regret_gp_10[slice8],\n",
        "       simple_regret_gp_11[slice8],\n",
        "       simple_regret_gp_12[slice8],\n",
        "       simple_regret_gp_13[slice8],\n",
        "       simple_regret_gp_14[slice8],\n",
        "       simple_regret_gp_15[slice8],\n",
        "       simple_regret_gp_16[slice8],\n",
        "       simple_regret_gp_17[slice8],\n",
        "       simple_regret_gp_18[slice8],\n",
        "       simple_regret_gp_19[slice8],\n",
        "       simple_regret_gp_20[slice8]]\n",
        "\n",
        "exact8 = [simple_regret_stp_1[slice8],\n",
        "       simple_regret_stp_2[slice8],\n",
        "       simple_regret_stp_3[slice8],\n",
        "       simple_regret_stp_4[slice8],\n",
        "       simple_regret_stp_5[slice8],\n",
        "       simple_regret_stp_6[slice8],\n",
        "       simple_regret_stp_7[slice8],\n",
        "       simple_regret_stp_8[slice8],\n",
        "       simple_regret_stp_9[slice8],\n",
        "       simple_regret_stp_10[slice8],\n",
        "       simple_regret_stp_11[slice8],\n",
        "       simple_regret_stp_12[slice8],\n",
        "       simple_regret_stp_13[slice8],\n",
        "       simple_regret_stp_14[slice8],\n",
        "       simple_regret_stp_15[slice8],\n",
        "       simple_regret_stp_16[slice8],\n",
        "       simple_regret_stp_17[slice8],\n",
        "       simple_regret_stp_18[slice8],\n",
        "       simple_regret_stp_19[slice8],\n",
        "       simple_regret_stp_20[slice8]]\n",
        "\n",
        "approx8_results = pd.DataFrame(approx8).sort_values(by=[0], ascending=False)\n",
        "exact8_results = pd.DataFrame(exact8).sort_values(by=[0], ascending=False)\n",
        "\n",
        "### Best simple regret minimization IQR - approx:\n",
        "lower_gp8 = np.asarray(approx8_results[4:5][0])[0]\n",
        "median_gp8 = np.asarray(approx8_results[9:10][0])[0]\n",
        "upper_gp8 = np.asarray(approx8_results[14:15][0])[0]\n",
        "\n",
        "lower_stp8 = np.asarray(exact8_results[4:5][0])[0]\n",
        "median_stp8 = np.asarray(exact8_results[9:10][0])[0]\n",
        "upper_stp8 = np.asarray(exact8_results[14:15][0])[0]"
      ]
    },
    {
      "cell_type": "code",
      "execution_count": 91,
      "metadata": {
        "id": "2Dp-9CC2Qxf9"
      },
      "outputs": [],
      "source": [
        "# Iteration18 :\n",
        "\n",
        "slice18 = 17\n",
        "\n",
        "approx18 = [simple_regret_gp_1[slice18],\n",
        "       simple_regret_gp_2[slice18],\n",
        "       simple_regret_gp_3[slice18],\n",
        "       simple_regret_gp_4[slice18],\n",
        "       simple_regret_gp_5[slice18],\n",
        "       simple_regret_gp_6[slice18],\n",
        "       simple_regret_gp_7[slice18],\n",
        "       simple_regret_gp_8[slice18],\n",
        "       simple_regret_gp_9[slice18],\n",
        "       simple_regret_gp_10[slice18],\n",
        "       simple_regret_gp_11[slice18],\n",
        "       simple_regret_gp_12[slice18],\n",
        "       simple_regret_gp_13[slice18],\n",
        "       simple_regret_gp_14[slice18],\n",
        "       simple_regret_gp_15[slice18],\n",
        "       simple_regret_gp_16[slice18],\n",
        "       simple_regret_gp_17[slice18],\n",
        "       simple_regret_gp_18[slice18],\n",
        "       simple_regret_gp_19[slice18],\n",
        "       simple_regret_gp_20[slice18]]\n",
        "\n",
        "exact18 = [simple_regret_stp_1[slice18],\n",
        "       simple_regret_stp_2[slice18],\n",
        "       simple_regret_stp_3[slice18],\n",
        "       simple_regret_stp_4[slice18],\n",
        "       simple_regret_stp_5[slice18],\n",
        "       simple_regret_stp_6[slice18],\n",
        "       simple_regret_stp_7[slice18],\n",
        "       simple_regret_stp_8[slice18],\n",
        "       simple_regret_stp_9[slice18],\n",
        "       simple_regret_stp_10[slice18],\n",
        "       simple_regret_stp_11[slice18],\n",
        "       simple_regret_stp_12[slice18],\n",
        "       simple_regret_stp_13[slice18],\n",
        "       simple_regret_stp_14[slice18],\n",
        "       simple_regret_stp_15[slice18],\n",
        "       simple_regret_stp_16[slice18],\n",
        "       simple_regret_stp_17[slice18],\n",
        "       simple_regret_stp_18[slice18],\n",
        "       simple_regret_stp_19[slice18],\n",
        "       simple_regret_stp_20[slice18]]\n",
        "\n",
        "approx18_results = pd.DataFrame(approx18).sort_values(by=[0], ascending=False)\n",
        "exact18_results = pd.DataFrame(exact18).sort_values(by=[0], ascending=False)\n",
        "\n",
        "### Best simple regret minimization IQR - approx:\n",
        "lower_gp18 = np.asarray(approx18_results[4:5][0])[0]\n",
        "median_gp18 = np.asarray(approx18_results[9:10][0])[0]\n",
        "upper_gp18 = np.asarray(approx18_results[14:15][0])[0]\n",
        "\n",
        "lower_stp18 = np.asarray(exact18_results[4:5][0])[0]\n",
        "median_stp18 = np.asarray(exact18_results[9:10][0])[0]\n",
        "upper_stp18 = np.asarray(exact18_results[14:15][0])[0]"
      ]
    },
    {
      "cell_type": "code",
      "execution_count": 92,
      "metadata": {
        "id": "SqiaOpB7Qxf9"
      },
      "outputs": [],
      "source": [
        "# Iteration9 :\n",
        "\n",
        "slice9 = 8\n",
        "\n",
        "approx9 = [simple_regret_gp_1[slice9],\n",
        "       simple_regret_gp_2[slice9],\n",
        "       simple_regret_gp_3[slice9],\n",
        "       simple_regret_gp_4[slice9],\n",
        "       simple_regret_gp_5[slice9],\n",
        "       simple_regret_gp_6[slice9],\n",
        "       simple_regret_gp_7[slice9],\n",
        "       simple_regret_gp_8[slice9],\n",
        "       simple_regret_gp_9[slice9],\n",
        "       simple_regret_gp_10[slice9],\n",
        "       simple_regret_gp_11[slice9],\n",
        "       simple_regret_gp_12[slice9],\n",
        "       simple_regret_gp_13[slice9],\n",
        "       simple_regret_gp_14[slice9],\n",
        "       simple_regret_gp_15[slice9],\n",
        "       simple_regret_gp_16[slice9],\n",
        "       simple_regret_gp_17[slice9],\n",
        "       simple_regret_gp_18[slice9],\n",
        "       simple_regret_gp_19[slice9],\n",
        "       simple_regret_gp_20[slice9]]\n",
        "\n",
        "exact9 = [simple_regret_stp_1[slice9],\n",
        "       simple_regret_stp_2[slice9],\n",
        "       simple_regret_stp_3[slice9],\n",
        "       simple_regret_stp_4[slice9],\n",
        "       simple_regret_stp_5[slice9],\n",
        "       simple_regret_stp_6[slice9],\n",
        "       simple_regret_stp_7[slice9],\n",
        "       simple_regret_stp_8[slice9],\n",
        "       simple_regret_stp_9[slice9],\n",
        "       simple_regret_stp_10[slice9],\n",
        "       simple_regret_stp_11[slice9],\n",
        "       simple_regret_stp_12[slice9],\n",
        "       simple_regret_stp_13[slice9],\n",
        "       simple_regret_stp_14[slice9],\n",
        "       simple_regret_stp_15[slice9],\n",
        "       simple_regret_stp_16[slice9],\n",
        "       simple_regret_stp_17[slice9],\n",
        "       simple_regret_stp_18[slice9],\n",
        "       simple_regret_stp_19[slice9],\n",
        "       simple_regret_stp_20[slice9]]\n",
        "\n",
        "approx9_results = pd.DataFrame(approx9).sort_values(by=[0], ascending=False)\n",
        "exact9_results = pd.DataFrame(exact9).sort_values(by=[0], ascending=False)\n",
        "\n",
        "### Best simple regret minimization IQR - approx:\n",
        "lower_gp9 = np.asarray(approx9_results[4:5][0])[0]\n",
        "median_gp9 = np.asarray(approx9_results[9:10][0])[0]\n",
        "upper_gp9 = np.asarray(approx9_results[14:15][0])[0]\n",
        "\n",
        "lower_stp9 = np.asarray(exact9_results[4:5][0])[0]\n",
        "median_stp9 = np.asarray(exact9_results[9:10][0])[0]\n",
        "upper_stp9 = np.asarray(exact9_results[14:15][0])[0]"
      ]
    },
    {
      "cell_type": "code",
      "execution_count": 93,
      "metadata": {
        "id": "OQkCCOsPQxf9"
      },
      "outputs": [],
      "source": [
        "# Iteration19 :\n",
        "\n",
        "slice19 = 18\n",
        "\n",
        "approx19 = [simple_regret_gp_1[slice19],\n",
        "       simple_regret_gp_2[slice19],\n",
        "       simple_regret_gp_3[slice19],\n",
        "       simple_regret_gp_4[slice19],\n",
        "       simple_regret_gp_5[slice19],\n",
        "       simple_regret_gp_6[slice19],\n",
        "       simple_regret_gp_7[slice19],\n",
        "       simple_regret_gp_8[slice19],\n",
        "       simple_regret_gp_9[slice19],\n",
        "       simple_regret_gp_10[slice19],\n",
        "       simple_regret_gp_11[slice19],\n",
        "       simple_regret_gp_12[slice19],\n",
        "       simple_regret_gp_13[slice19],\n",
        "       simple_regret_gp_14[slice19],\n",
        "       simple_regret_gp_15[slice19],\n",
        "       simple_regret_gp_16[slice19],\n",
        "       simple_regret_gp_17[slice19],\n",
        "       simple_regret_gp_18[slice19],\n",
        "       simple_regret_gp_19[slice19],\n",
        "       simple_regret_gp_20[slice19]]\n",
        "\n",
        "exact19 = [simple_regret_stp_1[slice19],\n",
        "       simple_regret_stp_2[slice19],\n",
        "       simple_regret_stp_3[slice19],\n",
        "       simple_regret_stp_4[slice19],\n",
        "       simple_regret_stp_5[slice19],\n",
        "       simple_regret_stp_6[slice19],\n",
        "       simple_regret_stp_7[slice19],\n",
        "       simple_regret_stp_8[slice19],\n",
        "       simple_regret_stp_9[slice19],\n",
        "       simple_regret_stp_10[slice19],\n",
        "       simple_regret_stp_11[slice19],\n",
        "       simple_regret_stp_12[slice19],\n",
        "       simple_regret_stp_13[slice19],\n",
        "       simple_regret_stp_14[slice19],\n",
        "       simple_regret_stp_15[slice19],\n",
        "       simple_regret_stp_16[slice19],\n",
        "       simple_regret_stp_17[slice19],\n",
        "       simple_regret_stp_18[slice19],\n",
        "       simple_regret_stp_19[slice19],\n",
        "       simple_regret_stp_20[slice19]]\n",
        "\n",
        "approx19_results = pd.DataFrame(approx19).sort_values(by=[0], ascending=False)\n",
        "exact19_results = pd.DataFrame(exact19).sort_values(by=[0], ascending=False)\n",
        "\n",
        "### Best simple regret minimization IQR - approx:\n",
        "lower_gp19 = np.asarray(approx19_results[4:5][0])[0]\n",
        "median_gp19 = np.asarray(approx19_results[9:10][0])[0]\n",
        "upper_gp19 = np.asarray(approx19_results[14:15][0])[0]\n",
        "\n",
        "lower_stp19 = np.asarray(exact19_results[4:5][0])[0]\n",
        "median_stp19 = np.asarray(exact19_results[9:10][0])[0]\n",
        "upper_stp19 = np.asarray(exact19_results[14:15][0])[0]"
      ]
    },
    {
      "cell_type": "code",
      "execution_count": 94,
      "metadata": {
        "id": "h4vtWahcQxf-"
      },
      "outputs": [],
      "source": [
        "# Iteration10 :\n",
        "\n",
        "slice10 = 9\n",
        "\n",
        "approx10 = [simple_regret_gp_1[slice10],\n",
        "       simple_regret_gp_2[slice10],\n",
        "       simple_regret_gp_3[slice10],\n",
        "       simple_regret_gp_4[slice10],\n",
        "       simple_regret_gp_5[slice10],\n",
        "       simple_regret_gp_6[slice10],\n",
        "       simple_regret_gp_7[slice10],\n",
        "       simple_regret_gp_8[slice10],\n",
        "       simple_regret_gp_9[slice10],\n",
        "       simple_regret_gp_10[slice10],\n",
        "       simple_regret_gp_11[slice10],\n",
        "       simple_regret_gp_12[slice10],\n",
        "       simple_regret_gp_13[slice10],\n",
        "       simple_regret_gp_14[slice10],\n",
        "       simple_regret_gp_15[slice10],\n",
        "       simple_regret_gp_16[slice10],\n",
        "       simple_regret_gp_17[slice10],\n",
        "       simple_regret_gp_18[slice10],\n",
        "       simple_regret_gp_19[slice10],\n",
        "       simple_regret_gp_20[slice10]]\n",
        "\n",
        "exact10 = [simple_regret_stp_1[slice10],\n",
        "       simple_regret_stp_2[slice10],\n",
        "       simple_regret_stp_3[slice10],\n",
        "       simple_regret_stp_4[slice10],\n",
        "       simple_regret_stp_5[slice10],\n",
        "       simple_regret_stp_6[slice10],\n",
        "       simple_regret_stp_7[slice10],\n",
        "       simple_regret_stp_8[slice10],\n",
        "       simple_regret_stp_9[slice10],\n",
        "       simple_regret_stp_10[slice10],\n",
        "       simple_regret_stp_11[slice10],\n",
        "       simple_regret_stp_12[slice10],\n",
        "       simple_regret_stp_13[slice10],\n",
        "       simple_regret_stp_14[slice10],\n",
        "       simple_regret_stp_15[slice10],\n",
        "       simple_regret_stp_16[slice10],\n",
        "       simple_regret_stp_17[slice10],\n",
        "       simple_regret_stp_18[slice10],\n",
        "       simple_regret_stp_19[slice10],\n",
        "       simple_regret_stp_20[slice10]]\n",
        "\n",
        "approx10_results = pd.DataFrame(approx10).sort_values(by=[0], ascending=False)\n",
        "exact10_results = pd.DataFrame(exact10).sort_values(by=[0], ascending=False)\n",
        "\n",
        "### Best simple regret minimization IQR - approx:\n",
        "lower_gp10 = np.asarray(approx10_results[4:5][0])[0]\n",
        "median_gp10 = np.asarray(approx10_results[9:10][0])[0]\n",
        "upper_gp10 = np.asarray(approx10_results[14:15][0])[0]\n",
        "\n",
        "lower_stp10 = np.asarray(exact10_results[4:5][0])[0]\n",
        "median_stp10 = np.asarray(exact10_results[9:10][0])[0]\n",
        "upper_stp10 = np.asarray(exact10_results[14:15][0])[0]"
      ]
    },
    {
      "cell_type": "code",
      "execution_count": 95,
      "metadata": {
        "id": "Rsf240pWQxf-"
      },
      "outputs": [],
      "source": [
        "# Iteration20 :\n",
        "\n",
        "slice20 = 19\n",
        "\n",
        "approx20 = [simple_regret_gp_1[slice20],\n",
        "       simple_regret_gp_2[slice20],\n",
        "       simple_regret_gp_3[slice20],\n",
        "       simple_regret_gp_4[slice20],\n",
        "       simple_regret_gp_5[slice20],\n",
        "       simple_regret_gp_6[slice20],\n",
        "       simple_regret_gp_7[slice20],\n",
        "       simple_regret_gp_8[slice20],\n",
        "       simple_regret_gp_9[slice20],\n",
        "       simple_regret_gp_10[slice20],\n",
        "       simple_regret_gp_11[slice20],\n",
        "       simple_regret_gp_12[slice20],\n",
        "       simple_regret_gp_13[slice20],\n",
        "       simple_regret_gp_14[slice20],\n",
        "       simple_regret_gp_15[slice20],\n",
        "       simple_regret_gp_16[slice20],\n",
        "       simple_regret_gp_17[slice20],\n",
        "       simple_regret_gp_18[slice20],\n",
        "       simple_regret_gp_19[slice20],\n",
        "       simple_regret_gp_20[slice20]]\n",
        "\n",
        "exact20 = [simple_regret_stp_1[slice20],\n",
        "       simple_regret_stp_2[slice20],\n",
        "       simple_regret_stp_3[slice20],\n",
        "       simple_regret_stp_4[slice20],\n",
        "       simple_regret_stp_5[slice20],\n",
        "       simple_regret_stp_6[slice20],\n",
        "       simple_regret_stp_7[slice20],\n",
        "       simple_regret_stp_8[slice20],\n",
        "       simple_regret_stp_9[slice20],\n",
        "       simple_regret_stp_10[slice20],\n",
        "       simple_regret_stp_11[slice20],\n",
        "       simple_regret_stp_12[slice20],\n",
        "       simple_regret_stp_13[slice20],\n",
        "       simple_regret_stp_14[slice20],\n",
        "       simple_regret_stp_15[slice20],\n",
        "       simple_regret_stp_16[slice20],\n",
        "       simple_regret_stp_17[slice20],\n",
        "       simple_regret_stp_18[slice20],\n",
        "       simple_regret_stp_19[slice20],\n",
        "       simple_regret_stp_20[slice20]]\n",
        "\n",
        "approx20_results = pd.DataFrame(approx20).sort_values(by=[0], ascending=False)\n",
        "exact20_results = pd.DataFrame(exact20).sort_values(by=[0], ascending=False)\n",
        "\n",
        "### Best simple regret minimization IQR - approx:\n",
        "lower_gp20 = np.asarray(approx20_results[4:5][0])[0]\n",
        "median_gp20 = np.asarray(approx20_results[9:10][0])[0]\n",
        "upper_gp20 = np.asarray(approx20_results[14:15][0])[0]\n",
        "\n",
        "lower_stp20 = np.asarray(exact20_results[4:5][0])[0]\n",
        "median_stp20 = np.asarray(exact20_results[9:10][0])[0]\n",
        "upper_stp20 = np.asarray(exact20_results[14:15][0])[0]"
      ]
    },
    {
      "cell_type": "code",
      "execution_count": 96,
      "metadata": {
        "id": "gn36RejbQxf_"
      },
      "outputs": [],
      "source": [
        "### Summarize arrays: 'Loser'\n",
        "\n",
        "lower_gp = [lower_gp1,\n",
        "            lower_gp2,\n",
        "            lower_gp3,\n",
        "            lower_gp4,\n",
        "            lower_gp5,\n",
        "            lower_gp6,\n",
        "            lower_gp7,\n",
        "            lower_gp8,\n",
        "            lower_gp9,\n",
        "            lower_gp10,\n",
        "            lower_gp11,\n",
        "            lower_gp12,\n",
        "            lower_gp13,\n",
        "            lower_gp14,\n",
        "            lower_gp15,\n",
        "            lower_gp16,\n",
        "            lower_gp17,\n",
        "            lower_gp18,\n",
        "            lower_gp19,\n",
        "            lower_gp20,\n",
        "            lower_gp21]\n",
        "\n",
        "median_gp = [median_gp1,\n",
        "            median_gp2,\n",
        "            median_gp3,\n",
        "            median_gp4,\n",
        "            median_gp5,\n",
        "            median_gp6,\n",
        "            median_gp7,\n",
        "            median_gp8,\n",
        "            median_gp9,\n",
        "            median_gp10,\n",
        "            median_gp11,\n",
        "            median_gp12,\n",
        "            median_gp13,\n",
        "            median_gp14,\n",
        "            median_gp15,\n",
        "            median_gp16,\n",
        "            median_gp17,\n",
        "            median_gp18,\n",
        "            median_gp19,\n",
        "            median_gp20,\n",
        "            median_gp21]\n",
        "\n",
        "upper_gp = [upper_gp1,\n",
        "            upper_gp2,\n",
        "            upper_gp3,\n",
        "            upper_gp4,\n",
        "            upper_gp5,\n",
        "            upper_gp6,\n",
        "            upper_gp7,\n",
        "            upper_gp8,\n",
        "            upper_gp9,\n",
        "            upper_gp10,\n",
        "            upper_gp11,\n",
        "            upper_gp12,\n",
        "            upper_gp13,\n",
        "            upper_gp14,\n",
        "            upper_gp15,\n",
        "            upper_gp16,\n",
        "            upper_gp17,\n",
        "            upper_gp18,\n",
        "            upper_gp19,\n",
        "            upper_gp20,\n",
        "            upper_gp21]"
      ]
    },
    {
      "cell_type": "code",
      "execution_count": 97,
      "metadata": {
        "id": "wxtGTOYfQxf_"
      },
      "outputs": [],
      "source": [
        "### Summarize arrays: 'exact'\n",
        "\n",
        "lower_stp = [lower_stp1,\n",
        "            lower_stp2,\n",
        "            lower_stp3,\n",
        "            lower_stp4,\n",
        "            lower_stp5,\n",
        "            lower_stp6,\n",
        "            lower_stp7,\n",
        "            lower_stp8,\n",
        "            lower_stp9,\n",
        "            lower_stp10,\n",
        "            lower_stp11,\n",
        "            lower_stp12,\n",
        "            lower_stp13,\n",
        "            lower_stp14,\n",
        "            lower_stp15,\n",
        "            lower_stp16,\n",
        "            lower_stp17,\n",
        "            lower_stp18,\n",
        "            lower_stp19,\n",
        "            lower_stp20,\n",
        "            lower_stp21]\n",
        "\n",
        "median_stp = [median_stp1,\n",
        "            median_stp2,\n",
        "            median_stp3,\n",
        "            median_stp4,\n",
        "            median_stp5,\n",
        "            median_stp6,\n",
        "            median_stp7,\n",
        "            median_stp8,\n",
        "            median_stp9,\n",
        "            median_stp10,\n",
        "            median_stp11,\n",
        "            median_stp12,\n",
        "            median_stp13,\n",
        "            median_stp14,\n",
        "            median_stp15,\n",
        "            median_stp16,\n",
        "            median_stp17,\n",
        "            median_stp18,\n",
        "            median_stp19,\n",
        "            median_stp20,\n",
        "            median_stp21]\n",
        "\n",
        "upper_stp = [upper_stp1,\n",
        "            upper_stp2,\n",
        "            upper_stp3,\n",
        "            upper_stp4,\n",
        "            upper_stp5,\n",
        "            upper_stp6,\n",
        "            upper_stp7,\n",
        "            upper_stp8,\n",
        "            upper_stp9,\n",
        "            upper_stp10,\n",
        "            upper_stp11,\n",
        "            upper_stp12,\n",
        "            upper_stp13,\n",
        "            upper_stp14,\n",
        "            upper_stp15,\n",
        "            upper_stp16,\n",
        "            upper_stp17,\n",
        "            upper_stp18,\n",
        "            upper_stp19,\n",
        "            upper_stp20,\n",
        "            upper_stp21]"
      ]
    },
    {
      "cell_type": "code",
      "execution_count": 98,
      "metadata": {
        "id": "2MONq-BXQxgA",
        "colab": {
          "base_uri": "https://localhost:8080/",
          "height": 299
        },
        "outputId": "d56d2452-191e-4b9e-e1a0-a1ac87e50836"
      },
      "outputs": [
        {
          "output_type": "display_data",
          "data": {
            "text/plain": [
              "<Figure size 432x288 with 1 Axes>"
            ],
            "image/png": "[encoded data removed]"
          },
          "metadata": {
            "needs_background": "light"
          }
        }
      ],
      "source": [
        "### Visualise!\n",
        "\n",
        "title = func\n",
        "plt.figure()\n",
        "\n",
        "plt.plot(median_gp, color = 'Red', ls='-')\n",
        "plt.plot(median_stp, color = 'Red', ls='--')\n",
        "\n",
        "xstar = np.arange(0, iters+1, step=1)\n",
        "plt.fill_between(xstar, lower_gp, upper_gp, facecolor = 'Red', alpha=0.2, label='GP EI Optimisation: Exact GP dEI gradients')\n",
        "plt.fill_between(xstar, lower_stp, upper_stp, facecolor = 'Red', alpha=0.4, label='STP EI Optimisation: Exact STP dEI gradients ' r'($\\nu$' ' = {})'.format(df))\n",
        "\n",
        "plt.title(title, weight = 'bold')\n",
        "plt.xlabel('(Post-initialisation) iteration $\\it{k}$', weight = 'bold')\n",
        "plt.ylabel('log(Regret)', weight = 'bold') \n",
        "plt.legend(loc=0) # add plot legend\n",
        "\n",
        "### Make the x-ticks integers, not floats:\n",
        "count = len(xstar)\n",
        "plt.xticks(np.arange(count), np.arange(0, count))\n",
        "plt.show() #visualise!\n"
      ]
    },
    {
      "cell_type": "code",
      "execution_count": 99,
      "metadata": {
        "id": "l5dkR2Id2oiu",
        "colab": {
          "base_uri": "https://localhost:8080/"
        },
        "outputId": "a84fb120-7102-4a72-de3b-2ff4aa4685a5"
      },
      "outputs": [
        {
          "output_type": "execute_result",
          "data": {
            "text/plain": [
              "(633.6262295246124, 1262.2023029327393)"
            ]
          },
          "metadata": {},
          "execution_count": 99
        }
      ],
      "source": [
        "time_gp, time_stp\n"
      ]
    },
    {
      "cell_type": "code",
      "source": [
        "### acqFunc attribute x, stddev: run number = 1\n",
        "\n",
        "acqFuncgp_gp_1 = acqFuncExact(gp_1.history)\n",
        "acqFuncstp_stp_1 = acqFuncExact(stp_1.history)\n",
        "\n",
        "e1 = np.mean(acqFuncstp_stp_1)\n",
        "a1 = np.mean(acqFuncgp_gp_1)\n",
        "\n",
        "e1, a1\n"
      ],
      "metadata": {
        "id": "uwxv4dmfGsLr",
        "colab": {
          "base_uri": "https://localhost:8080/"
        },
        "outputId": "e64ea305-bc43-410c-e08f-580baadeeb4b"
      },
      "execution_count": 100,
      "outputs": [
        {
          "output_type": "execute_result",
          "data": {
            "text/plain": [
              "(6.008588952155462, 6.093268246470622)"
            ]
          },
          "metadata": {},
          "execution_count": 100
        }
      ]
    },
    {
      "cell_type": "code",
      "source": [
        "### acqFunc attribute x, stddev: run number = 2\n",
        "\n",
        "acqFuncgp_gp_2 = acqFuncExact(gp_2.history)\n",
        "acqFuncstp_stp_2 = acqFuncExact(stp_2.history)\n",
        "\n",
        "e2 = np.mean(acqFuncstp_stp_2)\n",
        "a2 = np.mean(acqFuncgp_gp_2)\n",
        "\n",
        "e2, a2\n"
      ],
      "metadata": {
        "id": "0YSV00_pGsXe",
        "colab": {
          "base_uri": "https://localhost:8080/"
        },
        "outputId": "15d672d9-1fbf-49bb-a067-f216b7ce0ef2"
      },
      "execution_count": 101,
      "outputs": [
        {
          "output_type": "execute_result",
          "data": {
            "text/plain": [
              "(5.896768898104499, 5.895033977273032)"
            ]
          },
          "metadata": {},
          "execution_count": 101
        }
      ]
    },
    {
      "cell_type": "code",
      "source": [
        "### acqFunc attribute x, stddev: run number = 3\n",
        "\n",
        "acqFuncgp_gp_3 = acqFuncExact(gp_3.history)\n",
        "acqFuncstp_stp_3 = acqFuncExact(stp_3.history)\n",
        "\n",
        "e3 = np.mean(acqFuncstp_stp_3)\n",
        "a3 = np.mean(acqFuncgp_gp_3)\n",
        "\n",
        "e3, a3\n"
      ],
      "metadata": {
        "id": "HHVmsd2UGsjT",
        "colab": {
          "base_uri": "https://localhost:8080/"
        },
        "outputId": "039065ac-d05c-413e-ddf7-b9cfbd7523d2"
      },
      "execution_count": 102,
      "outputs": [
        {
          "output_type": "execute_result",
          "data": {
            "text/plain": [
              "(6.111772102049055, 5.561067017010959)"
            ]
          },
          "metadata": {},
          "execution_count": 102
        }
      ]
    },
    {
      "cell_type": "code",
      "source": [
        "### acqFunc attribute x, stddev: run number = 4\n",
        "\n",
        "acqFuncgp_gp_4 = acqFuncExact(gp_4.history)\n",
        "acqFuncstp_stp_4 = acqFuncExact(stp_4.history)\n",
        "\n",
        "e4 = np.mean(acqFuncstp_stp_4)\n",
        "a4 = np.mean(acqFuncgp_gp_4)\n",
        "\n",
        "e4, a4\n"
      ],
      "metadata": {
        "id": "r7O19S2eGsu7",
        "colab": {
          "base_uri": "https://localhost:8080/"
        },
        "outputId": "46a16fab-1093-410f-fb7a-86b4db7373ea"
      },
      "execution_count": 103,
      "outputs": [
        {
          "output_type": "execute_result",
          "data": {
            "text/plain": [
              "(5.500962485931401, 5.728820883273973)"
            ]
          },
          "metadata": {},
          "execution_count": 103
        }
      ]
    },
    {
      "cell_type": "code",
      "source": [
        "### acqFunc attribute x, stddev: run number = 5\n",
        "\n",
        "acqFuncgp_gp_5 = acqFuncExact(gp_5.history)\n",
        "acqFuncstp_stp_5 = acqFuncExact(stp_5.history)\n",
        "\n",
        "e5 = np.mean(acqFuncstp_stp_5)\n",
        "a5 = np.mean(acqFuncgp_gp_5)\n",
        "\n",
        "e5, a5\n"
      ],
      "metadata": {
        "id": "sdb9o6NuGs5m",
        "colab": {
          "base_uri": "https://localhost:8080/"
        },
        "outputId": "dd2a4f13-997c-4cf5-eaa4-6ce0cca3ee0d"
      },
      "execution_count": 104,
      "outputs": [
        {
          "output_type": "execute_result",
          "data": {
            "text/plain": [
              "(5.838159956370899, 5.757217999957137)"
            ]
          },
          "metadata": {},
          "execution_count": 104
        }
      ]
    },
    {
      "cell_type": "code",
      "source": [
        "### acqFunc attribute x, stddev: run number = 6\n",
        "\n",
        "acqFuncgp_gp_6 = acqFuncExact(gp_6.history)\n",
        "acqFuncstp_stp_6 = acqFuncExact(stp_6.history)\n",
        "\n",
        "e6 = np.mean(acqFuncstp_stp_6)\n",
        "a6 = np.mean(acqFuncgp_gp_6)\n",
        "\n",
        "e6, a6\n"
      ],
      "metadata": {
        "id": "COQl7LZ8GtE0",
        "colab": {
          "base_uri": "https://localhost:8080/"
        },
        "outputId": "9b30e359-c63d-4455-839f-dffd4b60598a"
      },
      "execution_count": 105,
      "outputs": [
        {
          "output_type": "execute_result",
          "data": {
            "text/plain": [
              "(6.04779985739457, 6.128978769989993)"
            ]
          },
          "metadata": {},
          "execution_count": 105
        }
      ]
    },
    {
      "cell_type": "code",
      "source": [
        "### acqFunc attribute x, stddev: run number = 7\n",
        "\n",
        "acqFuncgp_gp_7 = acqFuncExact(gp_7.history)\n",
        "acqFuncstp_stp_7 = acqFuncExact(stp_7.history)\n",
        "\n",
        "e7 = np.mean(acqFuncstp_stp_7)\n",
        "a7 = np.mean(acqFuncgp_gp_7)\n",
        "\n",
        "e7, a7\n"
      ],
      "metadata": {
        "id": "2gy9EtTzGtP7",
        "colab": {
          "base_uri": "https://localhost:8080/"
        },
        "outputId": "b5e68986-4f10-4878-ebdc-e1651e9df0c2"
      },
      "execution_count": 106,
      "outputs": [
        {
          "output_type": "execute_result",
          "data": {
            "text/plain": [
              "(5.73167458820208, 5.848085361484945)"
            ]
          },
          "metadata": {},
          "execution_count": 106
        }
      ]
    },
    {
      "cell_type": "code",
      "source": [
        "### acqFunc attribute x, stddev: run number = 8\n",
        "\n",
        "acqFuncgp_gp_8 = acqFuncExact(gp_8.history)\n",
        "acqFuncstp_stp_8 = acqFuncExact(stp_8.history)\n",
        "\n",
        "e8 = np.mean(acqFuncstp_stp_8)\n",
        "a8 = np.mean(acqFuncgp_gp_8)\n",
        "\n",
        "e8, a8\n"
      ],
      "metadata": {
        "id": "S7mn0qoMGtbM",
        "colab": {
          "base_uri": "https://localhost:8080/"
        },
        "outputId": "dd77d7f8-95ae-43da-93b0-c9da1d16915f"
      },
      "execution_count": 107,
      "outputs": [
        {
          "output_type": "execute_result",
          "data": {
            "text/plain": [
              "(6.66324938839268, 6.177333474224711)"
            ]
          },
          "metadata": {},
          "execution_count": 107
        }
      ]
    },
    {
      "cell_type": "code",
      "source": [
        "### acqFunc attribute x, stddev: run number = 9\n",
        "\n",
        "acqFuncgp_gp_9 = acqFuncExact(gp_9.history)\n",
        "acqFuncstp_stp_9 = acqFuncExact(stp_9.history)\n",
        "\n",
        "e9 = np.mean(acqFuncstp_stp_9)\n",
        "a9 = np.mean(acqFuncgp_gp_9)\n",
        "\n",
        "e9, a9\n"
      ],
      "metadata": {
        "id": "BhljmkNxGtms",
        "colab": {
          "base_uri": "https://localhost:8080/"
        },
        "outputId": "4ada794f-e3a9-46c0-d157-18edb4d54ade"
      },
      "execution_count": 108,
      "outputs": [
        {
          "output_type": "execute_result",
          "data": {
            "text/plain": [
              "(5.579881563482404, 6.101604898871101)"
            ]
          },
          "metadata": {},
          "execution_count": 108
        }
      ]
    },
    {
      "cell_type": "code",
      "source": [
        "### acqFunc attribute x, stddev: run number = 10\n",
        "\n",
        "acqFuncgp_gp_10 = acqFuncExact(gp_10.history)\n",
        "acqFuncstp_stp_10 = acqFuncExact(stp_10.history)\n",
        "\n",
        "e10 = np.mean(acqFuncstp_stp_10)\n",
        "a10 = np.mean(acqFuncgp_gp_10)\n",
        "\n",
        "e10, a10\n"
      ],
      "metadata": {
        "id": "W5GZo6k3Gtx8",
        "colab": {
          "base_uri": "https://localhost:8080/"
        },
        "outputId": "5ba7b420-c55e-4ad0-8557-1b04713a5c38"
      },
      "execution_count": 109,
      "outputs": [
        {
          "output_type": "execute_result",
          "data": {
            "text/plain": [
              "(6.499376571218386, 6.069579233886261)"
            ]
          },
          "metadata": {},
          "execution_count": 109
        }
      ]
    },
    {
      "cell_type": "code",
      "source": [
        "### acqFunc attribute x, stddev: run number = 11\n",
        "\n",
        "acqFuncgp_gp_11 = acqFuncExact(gp_11.history)\n",
        "acqFuncstp_stp_11 = acqFuncExact(stp_11.history)\n",
        "\n",
        "e11 = np.mean(acqFuncstp_stp_11)\n",
        "a11 = np.mean(acqFuncgp_gp_11)\n",
        "\n",
        "e11, a11\n"
      ],
      "metadata": {
        "id": "isKNhDk5Gt9D",
        "colab": {
          "base_uri": "https://localhost:8080/"
        },
        "outputId": "8b01ee18-85db-4d1a-bb46-f8e9ca1625b2"
      },
      "execution_count": 110,
      "outputs": [
        {
          "output_type": "execute_result",
          "data": {
            "text/plain": [
              "(6.474313181979109, 5.769334661949992)"
            ]
          },
          "metadata": {},
          "execution_count": 110
        }
      ]
    },
    {
      "cell_type": "code",
      "source": [
        "### acqFunc attribute x, stddev: run number = 12\n",
        "\n",
        "acqFuncgp_gp_12 = acqFuncExact(gp_12.history)\n",
        "acqFuncstp_stp_12 = acqFuncExact(stp_12.history)\n",
        "\n",
        "e12 = np.mean(acqFuncstp_stp_12)\n",
        "a12 = np.mean(acqFuncgp_gp_12)\n",
        "\n",
        "e12, a12\n"
      ],
      "metadata": {
        "id": "8ts-wrSuGuIm",
        "colab": {
          "base_uri": "https://localhost:8080/"
        },
        "outputId": "f664a8d7-c3d7-439a-e9b4-052f19d875ee"
      },
      "execution_count": 111,
      "outputs": [
        {
          "output_type": "execute_result",
          "data": {
            "text/plain": [
              "(5.570919655103195, 5.932472106126744)"
            ]
          },
          "metadata": {},
          "execution_count": 111
        }
      ]
    },
    {
      "cell_type": "code",
      "source": [
        "### acqFunc attribute x, stddev: run number = 13\n",
        "\n",
        "acqFuncgp_gp_13 = acqFuncExact(gp_13.history)\n",
        "acqFuncstp_stp_13 = acqFuncExact(stp_13.history)\n",
        "\n",
        "e13 = np.mean(acqFuncstp_stp_13)\n",
        "a13 = np.mean(acqFuncgp_gp_13)\n",
        "\n",
        "e13, a13\n"
      ],
      "metadata": {
        "id": "n0drhEe3GuUL",
        "colab": {
          "base_uri": "https://localhost:8080/"
        },
        "outputId": "82f1949d-0540-4283-e648-8298f076764c"
      },
      "execution_count": 112,
      "outputs": [
        {
          "output_type": "execute_result",
          "data": {
            "text/plain": [
              "(6.217067110316198, 6.516757569345373)"
            ]
          },
          "metadata": {},
          "execution_count": 112
        }
      ]
    },
    {
      "cell_type": "code",
      "source": [
        "### acqFunc attribute x, stddev: run number = 14\n",
        "\n",
        "acqFuncgp_gp_14 = acqFuncExact(gp_14.history)\n",
        "acqFuncstp_stp_14 = acqFuncExact(stp_14.history)\n",
        "\n",
        "e14 = np.mean(acqFuncstp_stp_14)\n",
        "a14 = np.mean(acqFuncgp_gp_14)\n",
        "\n",
        "e14, a14\n"
      ],
      "metadata": {
        "id": "R0W3MZaVGues",
        "colab": {
          "base_uri": "https://localhost:8080/"
        },
        "outputId": "7b6fb9a1-d328-4a0f-d829-c15e234c455c"
      },
      "execution_count": 113,
      "outputs": [
        {
          "output_type": "execute_result",
          "data": {
            "text/plain": [
              "(5.6849839746458, 6.102673894062127)"
            ]
          },
          "metadata": {},
          "execution_count": 113
        }
      ]
    },
    {
      "cell_type": "code",
      "source": [
        "### acqFunc attribute x, stddev: run number = 15\n",
        "\n",
        "acqFuncgp_gp_15 = acqFuncExact(gp_15.history)\n",
        "acqFuncstp_stp_15 = acqFuncExact(stp_15.history)\n",
        "\n",
        "e15 = np.mean(acqFuncstp_stp_15)\n",
        "a15 = np.mean(acqFuncgp_gp_15)\n",
        "\n",
        "e15, a15\n"
      ],
      "metadata": {
        "id": "DoXdDFHoGup-",
        "colab": {
          "base_uri": "https://localhost:8080/"
        },
        "outputId": "5b4fe04d-990f-45d4-cb54-5f04dc4f6d95"
      },
      "execution_count": 114,
      "outputs": [
        {
          "output_type": "execute_result",
          "data": {
            "text/plain": [
              "(5.782212023570173, 5.7979538620772235)"
            ]
          },
          "metadata": {},
          "execution_count": 114
        }
      ]
    },
    {
      "cell_type": "code",
      "source": [
        "### acqFunc attribute x, stddev: run number = 16\n",
        "\n",
        "acqFuncgp_gp_16 = acqFuncExact(gp_16.history)\n",
        "acqFuncstp_stp_16 = acqFuncExact(stp_16.history)\n",
        "\n",
        "e16 = np.mean(acqFuncstp_stp_16)\n",
        "a16 = np.mean(acqFuncgp_gp_16)\n",
        "\n",
        "e16, a16\n"
      ],
      "metadata": {
        "id": "K_wAeqSoGu2j",
        "colab": {
          "base_uri": "https://localhost:8080/"
        },
        "outputId": "972e4cc8-0af7-4c93-a452-2bfb7629449f"
      },
      "execution_count": 115,
      "outputs": [
        {
          "output_type": "execute_result",
          "data": {
            "text/plain": [
              "(5.626440114679046, 5.873267802286641)"
            ]
          },
          "metadata": {},
          "execution_count": 115
        }
      ]
    },
    {
      "cell_type": "code",
      "source": [
        "### acqFunc attribute x, stddev: run number = 17\n",
        "\n",
        "acqFuncgp_gp_17 = acqFuncExact(gp_17.history)\n",
        "acqFuncstp_stp_17 = acqFuncExact(stp_17.history)\n",
        "\n",
        "e17 = np.mean(acqFuncstp_stp_17)\n",
        "a17 = np.mean(acqFuncgp_gp_17)\n",
        "\n",
        "e17, a17\n"
      ],
      "metadata": {
        "id": "n6zy78fjGvBT",
        "colab": {
          "base_uri": "https://localhost:8080/"
        },
        "outputId": "4285230f-44c8-4fa9-cc56-32a0b7a7b233"
      },
      "execution_count": 116,
      "outputs": [
        {
          "output_type": "execute_result",
          "data": {
            "text/plain": [
              "(5.772502370550444, 5.716245210963804)"
            ]
          },
          "metadata": {},
          "execution_count": 116
        }
      ]
    },
    {
      "cell_type": "code",
      "source": [
        "### acqFunc attribute x, stddev: run number = 18\n",
        "\n",
        "acqFuncgp_gp_18 = acqFuncExact(gp_18.history)\n",
        "acqFuncstp_stp_18 = acqFuncExact(stp_18.history)\n",
        "\n",
        "e18 = np.mean(acqFuncstp_stp_18)\n",
        "a18 = np.mean(acqFuncgp_gp_18)\n",
        "\n",
        "e18, a18\n"
      ],
      "metadata": {
        "id": "s_6_2K4iGvM-",
        "colab": {
          "base_uri": "https://localhost:8080/"
        },
        "outputId": "1e09e447-2377-4ede-a29d-7b096ed1e946"
      },
      "execution_count": 117,
      "outputs": [
        {
          "output_type": "execute_result",
          "data": {
            "text/plain": [
              "(6.0763726418853485, 5.88060468034311)"
            ]
          },
          "metadata": {},
          "execution_count": 117
        }
      ]
    },
    {
      "cell_type": "code",
      "source": [
        "### acqFunc attribute x, stddev: run number = 19\n",
        "\n",
        "acqFuncgp_gp_19 = acqFuncExact(gp_19.history)\n",
        "acqFuncstp_stp_19 = acqFuncExact(stp_19.history)\n",
        "\n",
        "e19 = np.mean(acqFuncstp_stp_19)\n",
        "a19 = np.mean(acqFuncgp_gp_19)\n",
        "\n",
        "e19, a19\n"
      ],
      "metadata": {
        "id": "o8oO8pdBGvYk",
        "colab": {
          "base_uri": "https://localhost:8080/"
        },
        "outputId": "5068aca7-0df4-4a06-ae85-af40919d5ad0"
      },
      "execution_count": 118,
      "outputs": [
        {
          "output_type": "execute_result",
          "data": {
            "text/plain": [
              "(5.691407463016131, 5.817172669359147)"
            ]
          },
          "metadata": {},
          "execution_count": 118
        }
      ]
    },
    {
      "cell_type": "code",
      "source": [
        "### acqFunc attribute x, stddev: run number = 20\n",
        "\n",
        "acqFuncgp_gp_20 = acqFuncExact(gp_20.history)\n",
        "acqFuncstp_stp_20 = acqFuncExact(stp_20.history)\n",
        "\n",
        "e20 = np.mean(acqFuncstp_stp_20)\n",
        "a20 = np.mean(acqFuncgp_gp_20)\n",
        "\n",
        "e20, a20\n"
      ],
      "metadata": {
        "id": "b2w8oLc0IMzU",
        "colab": {
          "base_uri": "https://localhost:8080/"
        },
        "outputId": "46ad2aef-0efd-491f-dfcf-436094a21db4"
      },
      "execution_count": 119,
      "outputs": [
        {
          "output_type": "execute_result",
          "data": {
            "text/plain": [
              "(6.30424285004779, 6.085169649807329)"
            ]
          },
          "metadata": {},
          "execution_count": 119
        }
      ]
    },
    {
      "cell_type": "code",
      "source": [
        "### Summarize arrays: \n",
        "\n",
        "stp_stddev = np.sort([e1,e2,e3,e4,e5,e6,e7,e8,e9,e10,e11,e12,e13,e14,e15,e16,e17,e18,e19,e20])\n",
        "gp_stddev = np.sort([a1,a2,a3,a4,a5,a6,a7,a8,a9,a10,a11,a12,a13,a14,a15,a16,a17,a18,a19,a20])\n",
        "\n",
        "np.mean(stp_stddev), np.mean(gp_stddev)\n"
      ],
      "metadata": {
        "id": "qAZs3yxMIZul",
        "colab": {
          "base_uri": "https://localhost:8080/"
        },
        "outputId": "ac6b77e4-36e7-4309-b55b-4a7fe32c3f61"
      },
      "execution_count": 120,
      "outputs": [
        {
          "output_type": "execute_result",
          "data": {
            "text/plain": [
              "(5.953934787454734, 5.942632098438211)"
            ]
          },
          "metadata": {},
          "execution_count": 120
        }
      ]
    },
    {
      "cell_type": "code",
      "source": [
        "### Visualise!\n",
        "\n",
        "title = func\n",
        "plt.figure()\n",
        "\n",
        "plt.plot(gp_stddev, color = 'Red', ls='--', label='Average $\\sigma$, attribute $\\mathbf{x}$: Exact GP dEI gradients')\n",
        "plt.plot(stp_stddev, color = 'Red', ls='-', label='Average $\\sigma$, attribute $\\mathbf{x}$: Exact STP dEI gradients')\n",
        "\n",
        "plt.title(title, weight = 'bold')\n",
        "plt.xlabel('Function evaluations: iteration $\\it{k}$', weight = 'bold')\n",
        "plt.ylabel('GP EI, STP EI: Average $\\sigma$, attribute $\\mathbf{x}$', weight = 'bold') \n",
        "plt.legend(loc=0) # add plot legend\n",
        "\n",
        "### Make the x-ticks integers, not floats:\n",
        "count = len(xstar)\n",
        "plt.xticks(np.arange(count), np.arange(1, count))\n",
        "plt.show() #visualize!\n"
      ],
      "metadata": {
        "id": "e_kpqYcMIZxu",
        "colab": {
          "base_uri": "https://localhost:8080/",
          "height": 297
        },
        "outputId": "82754a74-760c-4f87-ea3a-29518fbdf805"
      },
      "execution_count": 121,
      "outputs": [
        {
          "output_type": "display_data",
          "data": {
            "text/plain": [
              "<Figure size 432x288 with 1 Axes>"
            ],
            "image/png": "[encoded data removed]"
          },
          "metadata": {
            "needs_background": "light"
          }
        }
      ]
    },
    {
      "cell_type": "code",
      "source": [],
      "metadata": {
        "id": "LToGd4vZIZ3I"
      },
      "execution_count": 121,
      "outputs": []
    }
  ],
  "metadata": {
    "colab": {
      "collapsed_sections": [],
      "provenance": []
    },
    "kernelspec": {
      "display_name": "Python 3",
      "name": "python3"
    },
    "language_info": {
      "name": "python"
    }
  },
  "nbformat": 4,
  "nbformat_minor": 0
}