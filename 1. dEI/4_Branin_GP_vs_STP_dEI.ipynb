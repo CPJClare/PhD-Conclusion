{
  "cells": [
    {
      "cell_type": "markdown",
      "metadata": {
        "id": "Dqn4dFx7Z2Ir"
      },
      "source": [
        "\n",
        "Branin: 2D\n"
      ]
    },
    {
      "cell_type": "code",
      "execution_count": 1,
      "metadata": {
        "colab": {
          "base_uri": "https://localhost:8080/"
        },
        "id": "MJTM_GZZZb5x",
        "outputId": "1ac63766-2283-4fd7-aa26-6610f5dfead5"
      },
      "outputs": [
        {
          "output_type": "stream",
          "name": "stdout",
          "text": [
            "Looking in indexes: https://pypi.org/simple, https://us-python.pkg.dev/colab-wheels/public/simple/\n",
            "Collecting pyGPGO\n",
            "  Downloading pyGPGO-0.5.1.tar.gz (14 kB)\n",
            "Requirement already satisfied: numpy in /usr/local/lib/python3.7/dist-packages (from pyGPGO) (1.21.6)\n",
            "Requirement already satisfied: mkl in /usr/local/lib/python3.7/dist-packages (from pyGPGO) (2019.0)\n",
            "Requirement already satisfied: scipy in /usr/local/lib/python3.7/dist-packages (from pyGPGO) (1.7.3)\n",
            "Requirement already satisfied: joblib in /usr/local/lib/python3.7/dist-packages (from pyGPGO) (1.1.0)\n",
            "Requirement already satisfied: scikit-learn in /usr/local/lib/python3.7/dist-packages (from pyGPGO) (1.0.2)\n",
            "Collecting Theano-PyMC\n",
            "  Downloading Theano-PyMC-1.1.2.tar.gz (1.8 MB)\n",
            "\u001b[K     |████████████████████████████████| 1.8 MB 5.0 MB/s \n",
            "\u001b[?25hCollecting pyMC3\n",
            "  Downloading pymc3-3.11.5-py3-none-any.whl (872 kB)\n",
            "\u001b[K     |████████████████████████████████| 872 kB 38.2 MB/s \n",
            "\u001b[?25hRequirement already satisfied: intel-openmp in /usr/local/lib/python3.7/dist-packages (from mkl->pyGPGO) (2022.1.0)\n",
            "Requirement already satisfied: cachetools>=4.2.1 in /usr/local/lib/python3.7/dist-packages (from pyMC3->pyGPGO) (4.2.4)\n",
            "Collecting semver>=2.13.0\n",
            "  Downloading semver-2.13.0-py2.py3-none-any.whl (12 kB)\n",
            "Requirement already satisfied: arviz>=0.11.0 in /usr/local/lib/python3.7/dist-packages (from pyMC3->pyGPGO) (0.12.1)\n",
            "Requirement already satisfied: patsy>=0.5.1 in /usr/local/lib/python3.7/dist-packages (from pyMC3->pyGPGO) (0.5.2)\n",
            "Requirement already satisfied: dill in /usr/local/lib/python3.7/dist-packages (from pyMC3->pyGPGO) (0.3.5.1)\n",
            "Requirement already satisfied: fastprogress>=0.2.0 in /usr/local/lib/python3.7/dist-packages (from pyMC3->pyGPGO) (1.0.3)\n",
            "Requirement already satisfied: typing-extensions>=3.7.4 in /usr/local/lib/python3.7/dist-packages (from pyMC3->pyGPGO) (4.1.1)\n",
            "Collecting deprecat\n",
            "  Downloading deprecat-2.1.1-py2.py3-none-any.whl (9.8 kB)\n",
            "Requirement already satisfied: pandas>=0.24.0 in /usr/local/lib/python3.7/dist-packages (from pyMC3->pyGPGO) (1.3.5)\n",
            "Requirement already satisfied: filelock in /usr/local/lib/python3.7/dist-packages (from Theano-PyMC->pyGPGO) (3.8.0)\n",
            "Requirement already satisfied: xarray>=0.16.1 in /usr/local/lib/python3.7/dist-packages (from arviz>=0.11.0->pyMC3->pyGPGO) (0.20.2)\n",
            "Requirement already satisfied: xarray-einstats>=0.2 in /usr/local/lib/python3.7/dist-packages (from arviz>=0.11.0->pyMC3->pyGPGO) (0.2.2)\n",
            "Requirement already satisfied: netcdf4 in /usr/local/lib/python3.7/dist-packages (from arviz>=0.11.0->pyMC3->pyGPGO) (1.6.0)\n",
            "Requirement already satisfied: packaging in /usr/local/lib/python3.7/dist-packages (from arviz>=0.11.0->pyMC3->pyGPGO) (21.3)\n",
            "Requirement already satisfied: matplotlib>=3.0 in /usr/local/lib/python3.7/dist-packages (from arviz>=0.11.0->pyMC3->pyGPGO) (3.2.2)\n",
            "Requirement already satisfied: setuptools>=38.4 in /usr/local/lib/python3.7/dist-packages (from arviz>=0.11.0->pyMC3->pyGPGO) (57.4.0)\n",
            "Requirement already satisfied: kiwisolver>=1.0.1 in /usr/local/lib/python3.7/dist-packages (from matplotlib>=3.0->arviz>=0.11.0->pyMC3->pyGPGO) (1.4.4)\n",
            "Requirement already satisfied: python-dateutil>=2.1 in /usr/local/lib/python3.7/dist-packages (from matplotlib>=3.0->arviz>=0.11.0->pyMC3->pyGPGO) (2.8.2)\n",
            "Requirement already satisfied: pyparsing!=2.0.4,!=2.1.2,!=2.1.6,>=2.0.1 in /usr/local/lib/python3.7/dist-packages (from matplotlib>=3.0->arviz>=0.11.0->pyMC3->pyGPGO) (3.0.9)\n",
            "Requirement already satisfied: cycler>=0.10 in /usr/local/lib/python3.7/dist-packages (from matplotlib>=3.0->arviz>=0.11.0->pyMC3->pyGPGO) (0.11.0)\n",
            "Requirement already satisfied: pytz>=2017.3 in /usr/local/lib/python3.7/dist-packages (from pandas>=0.24.0->pyMC3->pyGPGO) (2022.2.1)\n",
            "Requirement already satisfied: six in /usr/local/lib/python3.7/dist-packages (from patsy>=0.5.1->pyMC3->pyGPGO) (1.15.0)\n",
            "Requirement already satisfied: importlib-metadata in /usr/local/lib/python3.7/dist-packages (from xarray>=0.16.1->arviz>=0.11.0->pyMC3->pyGPGO) (4.12.0)\n",
            "Requirement already satisfied: wrapt<2,>=1.10 in /usr/local/lib/python3.7/dist-packages (from deprecat->pyMC3->pyGPGO) (1.14.1)\n",
            "Requirement already satisfied: zipp>=0.5 in /usr/local/lib/python3.7/dist-packages (from importlib-metadata->xarray>=0.16.1->arviz>=0.11.0->pyMC3->pyGPGO) (3.8.1)\n",
            "Requirement already satisfied: cftime in /usr/local/lib/python3.7/dist-packages (from netcdf4->arviz>=0.11.0->pyMC3->pyGPGO) (1.6.1)\n",
            "Requirement already satisfied: threadpoolctl>=2.0.0 in /usr/local/lib/python3.7/dist-packages (from scikit-learn->pyGPGO) (3.1.0)\n",
            "Building wheels for collected packages: pyGPGO, Theano-PyMC\n",
            "  Building wheel for pyGPGO (setup.py) ... \u001b[?25l\u001b[?25hdone\n",
            "  Created wheel for pyGPGO: filename=pyGPGO-0.5.1-py3-none-any.whl size=19879 sha256=8c330f83cdf3cece5f631eda4ab4d0e646b368db653768dc4d1935b8f743e79c\n",
            "  Stored in directory: /root/.cache/pip/wheels/c8/5d/0b/2160114e2f1b87791c51b66cf07f89831dbb6f49167950316f\n",
            "  Building wheel for Theano-PyMC (setup.py) ... \u001b[?25l\u001b[?25hdone\n",
            "  Created wheel for Theano-PyMC: filename=Theano_PyMC-1.1.2-py3-none-any.whl size=1529963 sha256=0abbc03bac9c84f8ecbdcda4c84a5c1fdfabed0ce8679bd1464492896cb6449e\n",
            "  Stored in directory: /root/.cache/pip/wheels/f3/af/8c/5dd7553522d74c52a7813806fc7ee1a9caa20a3f7c8fd850d5\n",
            "Successfully built pyGPGO Theano-PyMC\n",
            "Installing collected packages: Theano-PyMC, semver, deprecat, pyMC3, pyGPGO\n",
            "Successfully installed Theano-PyMC-1.1.2 deprecat-2.1.1 pyGPGO-0.5.1 pyMC3-3.11.5 semver-2.13.0\n"
          ]
        }
      ],
      "source": [
        "pip install pyGPGO\n"
      ]
    },
    {
      "cell_type": "code",
      "execution_count": 2,
      "metadata": {
        "id": "ZJSSPbwPaEUB"
      },
      "outputs": [],
      "source": [
        "### 1. Import python modules/packages required:\n",
        "\n",
        "import numpy as np\n",
        "import pandas as pd\n",
        "import scipy as sp\n",
        "import matplotlib.pyplot as plt\n",
        "import warnings\n",
        "import itertools\n",
        "import seaborn as sns\n",
        "import time\n",
        "\n",
        "from pyGPGO.GPGO import GPGO\n",
        "from pyGPGO.surrogates.GaussianProcess import GaussianProcess\n",
        "from pyGPGO.surrogates.tStudentProcess import tStudentProcess\n",
        "from pyGPGO.acquisition import Acquisition\n",
        "from pyGPGO.covfunc import squaredExponential\n",
        "from joblib import Parallel, delayed\n",
        "from scipy.linalg import inv\n",
        "from scipy.spatial.distance import cdist\n",
        "from scipy.optimize import minimize\n",
        "from scipy.stats import norm, t\n",
        "from mpl_toolkits.axes_grid1.inset_locator import inset_axes, mark_inset\n",
        "\n",
        "warnings.filterwarnings(\"ignore\", category=RuntimeWarning)\n"
      ]
    },
    {
      "cell_type": "code",
      "execution_count": 3,
      "metadata": {
        "id": "OeYcTUNoaJWa"
      },
      "outputs": [],
      "source": [
        "### Inputs:\n",
        "\n",
        "func = 'Branin'\n",
        "n_test = 500\n",
        "eps = 1e-08\n",
        "\n",
        "util_gp = 'EI_gp'\n",
        "util_stp = 'EI_stp'\n",
        "\n",
        "n_init = 5 # random initialisations\n",
        "iters = 20\n",
        "opt = True\n",
        "\n",
        "df = 3"
      ]
    },
    {
      "cell_type": "code",
      "execution_count": 4,
      "metadata": {
        "id": "xpaEOjdzaPMS"
      },
      "outputs": [],
      "source": [
        "### Objective Function - Branin(x) 2-D:\n",
        "\n",
        "def objfunc(x1_training, x2_training, a = 1, b = (5.1 / (4 * (np.pi) ** 2)), c = (5 / (np.pi)), r = 6, s = 10, t = (1 / (8 * np.pi))):\n",
        "        return operator * ((a * (x2_training - b * x1_training ** 2 + c * x1_training - r) ** 2) + \n",
        "                 s * (1 - t) * np.cos(x1_training) + s)\n",
        "        \n",
        "# Constraints:\n",
        "lb_x1 = -5 \n",
        "ub_x1 = +10\n",
        "lb_x2 = +0 \n",
        "ub_x2 = +15\n",
        "\n",
        "# Input array dimension(s):\n",
        "dim = 2\n",
        "\n",
        "# 2-D inputs' parameter bounds:\n",
        "param = {'x1_training': ('cont', [lb_x1, ub_x1]),\n",
        "             'x2_training': ('cont', [lb_x2, ub_x2])}\n",
        "\n",
        "# True y bounds:\n",
        "operator = -1\n",
        "y_lb = 0.397887 # targets global minimum\n",
        "y_global_orig = y_lb * operator # targets global minimum\n",
        "\n",
        "\n",
        "# Test data:\n",
        "x1_test = np.linspace(lb_x1, ub_x1, n_test)\n",
        "x2_test = np.linspace(lb_x2, ub_x2, n_test)\n",
        "  \n",
        "x_test = np.column_stack((x1_test,x2_test))"
      ]
    },
    {
      "cell_type": "code",
      "execution_count": 5,
      "metadata": {
        "id": "eYpI3Zm4aGxi"
      },
      "outputs": [],
      "source": [
        "n_start_AcqFunc = iters\n",
        "inverse = -1\n"
      ]
    },
    {
      "cell_type": "code",
      "execution_count": 6,
      "metadata": {
        "id": "oO_GUmOoaV0T"
      },
      "outputs": [],
      "source": [
        "### Cumulative Regret Calculators:\n",
        "\n",
        "def min_max_array(x):\n",
        "    new_list = []\n",
        "    for i, num in enumerate(x):\n",
        "            new_list.append(np.min(x[0:i+1]))\n",
        "    return new_list\n",
        "  \n",
        "def acqFuncExact(x):\n",
        "    new_array = []\n",
        "    x = np.array(x) \n",
        "    for i, num in enumerate(x):\n",
        "            new_array = x[:-2][::-3]\n",
        "    return new_array[::-1]\n",
        "\n",
        "def acqFuncApprox(x):\n",
        "    new_array = []\n",
        "    x = np.array(x) \n",
        "    for i, num in enumerate(x):\n",
        "            new_array = x[:-1][::-3]\n",
        "    return new_array[::-1]\n"
      ]
    },
    {
      "cell_type": "code",
      "execution_count": 7,
      "metadata": {
        "id": "kuuJx0IMam9S"
      },
      "outputs": [],
      "source": [
        "### Surrogate derivatives: \n",
        "\n",
        "cov_func = squaredExponential()\n",
        "\n",
        "def kronDelta(X, Xstar):                     # Kronecker's Delta method\n",
        "    return cdist(X, Xstar) < np.finfo(np.float32).eps\n",
        "\n",
        "def se(X, Xstar, sigmaf, l, sigman):         # S.E. kernel method\n",
        "    return sigmaf * np.exp(-0.5 * cdist(X, Xstar) ** 2 / l ** 2) + sigman * kronDelta(X, Xstar)\n",
        "\n",
        "def delta(X, Xstar):                         # Distance between training X and test Xstar vectors\n",
        "    return (X - Xstar)\n",
        "   \n",
        "def der_covmat(X, Xstar, sigmaf, l, sigman): # Covariance matrix derivative terms (i.e. exact, first-order)\n",
        "    nx = len(X)\n",
        "    ny = len(Xstar)\n",
        "    return np.round(np.array([(delta(np.atleast_2d(i), np.atleast_2d(j))[0] * se(np.atleast_2d(i), np.atleast_2d(j), sigmaf, l, sigman)[0]).sum() for (i, j) in itertools.product(X, Xstar)]).reshape(nx, ny), 8)\n",
        "\n",
        "class dGaussianProcess(GaussianProcess):    # Via inheritance, also optimises hyperparameters when opt = TRUE\n",
        "    \n",
        "    def AcqGrad(self, Xstar):               # Method returning exact, first-order derivatives of the GP's posterior mean and standard deviation\n",
        "        Xstar = np.atleast_2d(Xstar)\n",
        "        Kstar = self.covfunc.K(self.X, Xstar).T\n",
        "        \n",
        "        dKstar = der_covmat(self.X, Xstar, self.covfunc.sigmaf, self.covfunc.l, self.covfunc.sigman).T\n",
        "        alpha_Kstar = np.dot(np.linalg.inv(self.K + (self.covfunc.sigman**2) * np.eye(len(self.X))), Kstar.T)\n",
        "        \n",
        "        dm = np.dot(dKstar, self.alpha)\n",
        "        ds = -2 * np.dot(dKstar, alpha_Kstar)\n",
        "        \n",
        "        return dm, ds   \n",
        "\n",
        "class dtStudentProcess(tStudentProcess):    # Via inheritance, also optimises hyperparameters when opt = TRUE\n",
        "    \n",
        "    def AcqGrad(self, Xstar):               # Method returning exact, first-order derivatives of the STP's posterior mean and standard deviation\n",
        "        Xstar = np.atleast_2d(Xstar)\n",
        "        Kstar = self.covfunc.K(self.X, Xstar).T\n",
        "        dKstar = der_covmat(self.X, Xstar, self.covfunc.sigmaf, self.covfunc.l, self.covfunc.sigman).T\n",
        "        \n",
        "        smd_adj = (self.nu + self.beta1 - 2) / (self.nu + self.n1 - 2)\n",
        "\n",
        "        alpha = np.dot(np.linalg.inv(self.K11 + (self.covfunc.sigman**2) * np.eye(len(self.X))), self.y)\n",
        "        alpha_Kstar = np.dot(np.linalg.inv(self.K11 + (self.covfunc.sigman**2) * np.eye(len(self.X))), Kstar.T)      \n",
        "        \n",
        "        dm = np.dot(dKstar, alpha)\n",
        "        ds = -2 * smd_adj * np.dot(dKstar, alpha_Kstar)\n",
        "        \n",
        "        return dm, ds \n",
        "        "
      ]
    },
    {
      "cell_type": "code",
      "execution_count": 8,
      "metadata": {
        "id": "_Dc3YVHVaXz7"
      },
      "outputs": [],
      "source": [
        "### Add exact acquisition function gradient as attribute:\n",
        "\n",
        "class Acquisition_grad(Acquisition):    \n",
        "    def __init__(self, mode, eps=eps, **params):\n",
        "        \n",
        "        self.params = params\n",
        "        self.eps = eps\n",
        "\n",
        "        mode_dict = {\n",
        "            'EI_stp': self.EI_stp,\n",
        "            'EI_gp': self.EI_gp,\n",
        "        }\n",
        "\n",
        "        self.f = mode_dict[mode]\n",
        "    \n",
        "    def EI_stp(self, tau, mean, std, ds, dm, nu=3.0):\n",
        "        gamma = (mean - tau - self.eps) / (std + self.eps)\n",
        "        gamma_h = (mean - tau) / (std + self.eps)\n",
        "        dsdx = ds / (2 * (std + self.eps))\n",
        "        dmdx = (dm - gamma * dsdx) / (std + self.eps)\n",
        "        \n",
        "        f = (std + self.eps) * (gamma * t.cdf(gamma, df=nu) + (nu + gamma ** 2)/(nu - 1) * t.pdf(gamma, df=nu))\n",
        "        df1 = f / (std + self.eps) * dsdx \n",
        "        df2 = (std + self.eps) * (t.cdf(gamma, df=nu) * dmdx + gamma * t.pdf(gamma, df=nu) \\\n",
        "            * (1 - (nu + gamma ** 2)/(nu - 1) + 2/(nu - 1) * dmdx))\n",
        "        df = (df1 + df2)[0]\n",
        "        df_arr = []\n",
        "\n",
        "        for j in range(0, dim):\n",
        "          df_arr.append(df)\n",
        "        return f, np.asarray(df_arr).transpose()\n",
        "        \n",
        "    def d_eval_stp(self, tau, mean, std, ds, dm, nu=3.0):\n",
        "    \n",
        "        return self.f(tau, mean, std, ds, dm, nu=3.0, **self.params)\n",
        "\n",
        "    def EI_gp(self, tau, mean, std, ds, dm):\n",
        "        gamma = (mean - tau - self.eps) / (std + self.eps)\n",
        "        gamma_h = (mean - tau) / (std + self.eps)\n",
        "        dsdx = ds / (2 * (std + self.eps))\n",
        "        dmdx = (dm - gamma * dsdx) / (std + self.eps)\n",
        "        \n",
        "        f = (std + self.eps) * (gamma * norm.cdf(gamma) + norm.pdf(gamma))\n",
        "        df1 = f / (std + self.eps) * dsdx \n",
        "        df2 = (std + self.eps) * norm.cdf(gamma) * dmdx\n",
        "        df = (df1 + df2)[0]\n",
        "        df_arr = []\n",
        "\n",
        "        for j in range(0, dim):\n",
        "          df_arr.append(df)\n",
        "        return f, np.asarray(df_arr).transpose()\n",
        "        \n",
        "    def d_eval_gp(self, tau, mean, std, ds, dm):\n",
        "    \n",
        "        return self.f(tau, mean, std, ds, dm, **self.params)\n",
        "        "
      ]
    },
    {
      "cell_type": "code",
      "execution_count": 9,
      "metadata": {
        "id": "b_B-w81BJxKN"
      },
      "outputs": [],
      "source": [
        "## dGPGO - Gaussian:\n",
        "\n",
        "class dGPGO_gp(GPGO):\n",
        "    n_start = n_start_AcqFunc\n",
        "\n",
        "    def __init__(self, surrogate, acquisition, f, parameter_dict, n_jobs=1):\n",
        "        self.GP = surrogate\n",
        "        self.A = acquisition\n",
        "        self.f = f\n",
        "        self.parameters = parameter_dict\n",
        "        self.n_jobs = n_jobs\n",
        "\n",
        "        self.parameter_key = list(parameter_dict.keys())\n",
        "        self.parameter_value = list(parameter_dict.values())\n",
        "        self.parameter_type = [p[0] for p in self.parameter_value]\n",
        "        self.parameter_range = [p[1] for p in self.parameter_value]\n",
        "\n",
        "        self.history = []\n",
        "        self.header =   'Evaluation \\t Proposed point \\t  Current eval. \\t  Best eval. \\t        Exact EI: StdDev. x \\t Approx EI: StdDev. x '\n",
        "        self.template = '{:3}\\t {}\\t {:3}\\t {:3}\\t {:3}\\t {:3}'\n",
        "\n",
        "    def acqfuncExact(self, xnew, n_start=n_start_AcqFunc):\n",
        "        new_mean, new_var = self.GP.predict(xnew, return_std=True)\n",
        "        new_std = np.sqrt(new_var + eps)\n",
        "        dm, ds = self.GP.AcqGrad(xnew)\n",
        "        f, df = self.A.d_eval_gp(self.tau, new_mean, new_std, ds=ds, dm=dm)\n",
        "\n",
        "        return -f, -df\n",
        "   \n",
        "    def acqfuncApprox(self, xnew, n_start=n_start_AcqFunc):\n",
        "        new_mean, new_var = self.GP.predict(xnew, return_std=True)\n",
        "        new_std = np.sqrt(new_var + eps)\n",
        "        dm, ds = self.GP.AcqGrad(xnew)\n",
        "        f, df = self.A.d_eval_gp(self.tau, new_mean, new_std, ds=ds, dm=dm)\n",
        "\n",
        "        return -f\n",
        "\n",
        "    def d_optimizeAcq(self, method='L-BFGS-B', n_start=n_start_AcqFunc):\n",
        "        start_points_dict = [self._sampleParam() for i in range(n_start)]\n",
        "        start_points_arr = np.array([list(s.values())\n",
        "                                     for s in start_points_dict])\n",
        "        x_best = np.empty((n_start, len(self.parameter_key)))\n",
        "        f_best = np.empty((n_start,))\n",
        "        opt = Parallel(n_jobs=self.n_jobs)(delayed(minimize)(self.acqfuncExact,\n",
        "                                                                 x0=start_point,\n",
        "                                                                 method=method,\n",
        "                                                                 jac = True,\n",
        "                                                                 bounds=self.parameter_range) for start_point in\n",
        "                                               start_points_arr)\n",
        "        x_best = np.array([res.x for res in opt])\n",
        "        f_best = np.array([np.atleast_1d(res.fun)[0] for res in opt])\n",
        "        f_best_min = min(f_best)\n",
        "\n",
        "        self.x_best = x_best\n",
        "        self.f_best = f_best\n",
        "        self.f_best_min = f_best_min\n",
        "        self.x_best_std = np.std(x_best)\n",
        "        self.best = x_best[np.argmin(f_best)]\n",
        "        self.start_points_arr = start_points_arr\n",
        "        self.history.append(self.x_best_std)\n",
        "\n",
        "        x_best_gp = np.empty((n_start, len(self.parameter_key)))\n",
        "        f_best_gp = np.empty((n_start,))\n",
        "        opt_gp = Parallel(n_jobs=self.n_jobs)(delayed(minimize)(self.acqfuncApprox,\n",
        "                                                                 x0=start_point,\n",
        "                                                                 method=method,\n",
        "                                                                 jac = False,\n",
        "                                                                 bounds=self.parameter_range) for start_point in\n",
        "                                               start_points_arr)\n",
        "        x_best_gp = np.array([res.x for res in opt_gp])\n",
        "        f_best_gp = np.array([np.atleast_1d(res.fun)[0] for res in opt_gp])\n",
        "        f_best_min_gp = min(f_best_gp)\n",
        "\n",
        "        self.x_best_gp = x_best_gp\n",
        "        self.f_best_gp = f_best_gp\n",
        "        self.f_best_min_gp = f_best_min_gp\n",
        "        self.x_best_std_gp = np.std(x_best_gp)\n",
        "        self.best_gp = x_best_gp[np.argmin(f_best_gp)]\n",
        "        self.start_points_arr = start_points_arr\n",
        "        self.history.append(self.x_best_std_gp)\n",
        "    \n",
        "    def _printInit(self):\n",
        "        print(self.header)\n",
        "        for init_eval in range(self.init_evals):\n",
        "            print(self.template.format('init', self.GP.X[init_eval], inverse * self.GP.y[init_eval], inverse * self.tau, '', ''))\n",
        "      \n",
        "    def _printCurrent(self):\n",
        "        OKGREEN = '\\033[92m'\n",
        "        ENDC = '\\033[0m'\n",
        "        BOLD = '\\033[1m'\n",
        "        eval = str(len(self.GP.y) - self.init_evals)\n",
        "        proposed = str(self.best)\n",
        "        curr_eval = str(inverse * self.GP.y[-1])\n",
        "        curr_best = str(inverse * self.tau)\n",
        "        min_acqfunc = str(self.f_best_min)\n",
        "        min_acqfunc_gp = str(self.f_best_min_gp)\n",
        "        x_best_std = str(self.x_best_std)\n",
        "        x_best_std_gp = str(self.x_best_std_gp)\n",
        "        if float(curr_eval) <= float(curr_best):\n",
        "            eval = BOLD + OKGREEN + eval + ENDC\n",
        "            proposed = BOLD + OKGREEN + proposed + ENDC\n",
        "            curr_eval = BOLD + OKGREEN + curr_eval + ENDC\n",
        "            curr_best = BOLD + OKGREEN + curr_best + ENDC\n",
        "            x_best_std = BOLD + OKGREEN + x_best_std + ENDC\n",
        "            x_best_std_gp = BOLD + OKGREEN + x_best_std_gp + ENDC\n",
        "        print(self.template.format(eval, proposed, curr_eval, curr_best, x_best_std, x_best_std_gp))\n",
        "\n",
        "    def run(self, max_iter=10, init_evals=3, resume=False):\n",
        "        \n",
        "        if not resume:\n",
        "            self.init_evals = init_evals\n",
        "            self._firstRun(self.init_evals)\n",
        "            self._printInit()\n",
        "        for iteration in range(max_iter):\n",
        "            self.d_optimizeAcq()\n",
        "            self.updateGP()\n",
        "            self._printCurrent()\n"
      ]
    },
    {
      "cell_type": "code",
      "source": [
        "## dGPGO - Student's-t:\n",
        "\n",
        "class dGPGO_stp(GPGO):\n",
        "    n_start = n_start_AcqFunc\n",
        "\n",
        "    def __init__(self, surrogate, acquisition, f, parameter_dict, n_jobs=1):\n",
        "        self.GP = surrogate\n",
        "        self.A = acquisition\n",
        "        self.f = f\n",
        "        self.parameters = parameter_dict\n",
        "        self.n_jobs = n_jobs\n",
        "\n",
        "        self.parameter_key = list(parameter_dict.keys())\n",
        "        self.parameter_value = list(parameter_dict.values())\n",
        "        self.parameter_type = [p[0] for p in self.parameter_value]\n",
        "        self.parameter_range = [p[1] for p in self.parameter_value]\n",
        "\n",
        "        self.history = []\n",
        "        self.header =   'Evaluation \\t Proposed point \\t  Current eval. \\t  Best eval. \\t        Exact EI: StdDev. x \\t Approx EI: StdDev. x '\n",
        "        self.template = '{:3}\\t {}\\t {:3}\\t {:3}\\t {:3}\\t {:3}'\n",
        "\n",
        "    def acqfuncExact(self, xnew, n_start=n_start_AcqFunc):\n",
        "        new_mean, new_var = self.GP.predict(xnew, return_std=True)\n",
        "        new_std = np.sqrt(new_var + eps)\n",
        "        dm, ds = self.GP.AcqGrad(xnew)\n",
        "        f, df = self.A.d_eval_stp(self.tau, new_mean, new_std, ds=ds, dm=dm, nu=3.0)\n",
        "\n",
        "        return -f, -df\n",
        "   \n",
        "    def acqfuncApprox(self, xnew, n_start=n_start_AcqFunc):\n",
        "        new_mean, new_var = self.GP.predict(xnew, return_std=True)\n",
        "        new_std = np.sqrt(new_var + eps)\n",
        "        dm, ds = self.GP.AcqGrad(xnew)\n",
        "        f, df = self.A.d_eval_stp(self.tau, new_mean, new_std, ds=ds, dm=dm, nu=3.0)\n",
        "\n",
        "        return -f\n",
        "\n",
        "    def d_optimizeAcq(self, method='L-BFGS-B', n_start=n_start_AcqFunc):\n",
        "        start_points_dict = [self._sampleParam() for i in range(n_start)]\n",
        "        start_points_arr = np.array([list(s.values())\n",
        "                                     for s in start_points_dict])\n",
        "        x_best = np.empty((n_start, len(self.parameter_key)))\n",
        "        f_best = np.empty((n_start,))\n",
        "        opt = Parallel(n_jobs=self.n_jobs)(delayed(minimize)(self.acqfuncExact,\n",
        "                                                                 x0=start_point,\n",
        "                                                                 method=method,\n",
        "                                                                 jac = True,\n",
        "                                                                 bounds=self.parameter_range) for start_point in\n",
        "                                               start_points_arr)\n",
        "        x_best = np.array([res.x for res in opt])\n",
        "        f_best = np.array([np.atleast_1d(res.fun)[0] for res in opt])\n",
        "        f_best_min = min(f_best)\n",
        "\n",
        "        self.x_best = x_best\n",
        "        self.f_best = f_best\n",
        "        self.f_best_min = f_best_min\n",
        "        self.x_best_std = np.std(x_best)\n",
        "        self.best = x_best[np.argmin(f_best)]\n",
        "        self.start_points_arr = start_points_arr\n",
        "        self.history.append(self.x_best_std)\n",
        "\n",
        "        x_best_gp = np.empty((n_start, len(self.parameter_key)))\n",
        "        f_best_gp = np.empty((n_start,))\n",
        "        opt_gp = Parallel(n_jobs=self.n_jobs)(delayed(minimize)(self.acqfuncApprox,\n",
        "                                                                 x0=start_point,\n",
        "                                                                 method=method,\n",
        "                                                                 jac = False,\n",
        "                                                                 bounds=self.parameter_range) for start_point in\n",
        "                                               start_points_arr)\n",
        "        x_best_gp = np.array([res.x for res in opt_gp])\n",
        "        f_best_gp = np.array([np.atleast_1d(res.fun)[0] for res in opt_gp])\n",
        "        f_best_min_gp = min(f_best_gp)\n",
        "\n",
        "        self.x_best_gp = x_best_gp\n",
        "        self.f_best_gp = f_best_gp\n",
        "        self.f_best_min_gp = f_best_min_gp\n",
        "        self.x_best_std_gp = np.std(x_best_gp)\n",
        "        self.best_gp = x_best_gp[np.argmin(f_best_gp)]\n",
        "        self.start_points_arr = start_points_arr\n",
        "        self.history.append(self.x_best_std_gp)\n",
        "    \n",
        "    def _printInit(self):\n",
        "        print(self.header)\n",
        "        for init_eval in range(self.init_evals):\n",
        "            print(self.template.format('init', self.GP.X[init_eval], inverse * self.GP.y[init_eval], inverse * self.tau, '', ''))\n",
        "      \n",
        "    def _printCurrent(self):\n",
        "        OKGREEN = '\\033[92m'\n",
        "        ENDC = '\\033[0m'\n",
        "        BOLD = '\\033[1m'\n",
        "        eval = str(len(self.GP.y) - self.init_evals)\n",
        "        proposed = str(self.best)\n",
        "        curr_eval = str(inverse * self.GP.y[-1])\n",
        "        curr_best = str(inverse * self.tau)\n",
        "        min_acqfunc = str(self.f_best_min)\n",
        "        min_acqfunc_gp = str(self.f_best_min_gp)\n",
        "        x_best_std = str(self.x_best_std)\n",
        "        x_best_std_gp = str(self.x_best_std_gp)\n",
        "        if float(curr_eval) <= float(curr_best):\n",
        "            eval = BOLD + OKGREEN + eval + ENDC\n",
        "            proposed = BOLD + OKGREEN + proposed + ENDC\n",
        "            curr_eval = BOLD + OKGREEN + curr_eval + ENDC\n",
        "            curr_best = BOLD + OKGREEN + curr_best + ENDC\n",
        "            x_best_std = BOLD + OKGREEN + x_best_std + ENDC\n",
        "            x_best_std_gp = BOLD + OKGREEN + x_best_std_gp + ENDC\n",
        "        print(self.template.format(eval, proposed, curr_eval, curr_best, x_best_std, x_best_std_gp))\n",
        "\n",
        "    def run(self, max_iter=10, init_evals=3, resume=False):\n",
        "        \n",
        "        if not resume:\n",
        "            self.init_evals = init_evals\n",
        "            self._firstRun(self.init_evals)\n",
        "            self._printInit()\n",
        "        for iteration in range(max_iter):\n",
        "            self.d_optimizeAcq()\n",
        "            self.updateGP()\n",
        "            self._printCurrent()\n"
      ],
      "metadata": {
        "id": "3gxt4mo3xQTY"
      },
      "execution_count": 10,
      "outputs": []
    },
    {
      "cell_type": "code",
      "execution_count": 11,
      "metadata": {
        "id": "qXIKGuXVGEg2"
      },
      "outputs": [],
      "source": [
        "###Reproducible set-seeds:\n",
        "\n",
        "run_num_1 = 1\n",
        "run_num_2 = 2\n",
        "run_num_3 = 3\n",
        "run_num_4 = 4\n",
        "run_num_5 = 5\n",
        "run_num_6 = 6\n",
        "run_num_7 = 7\n",
        "run_num_8 = 8\n",
        "run_num_9 = 9\n",
        "run_num_10 = 10\n",
        "run_num_11 = 11\n",
        "run_num_12 = 12\n",
        "run_num_13 = 13\n",
        "run_num_14 = 14\n",
        "run_num_15 = 15\n",
        "run_num_16 = 16\n",
        "run_num_17 = 17\n",
        "run_num_18 = 18\n",
        "run_num_19 = 19\n",
        "run_num_20 = 20\n"
      ]
    },
    {
      "cell_type": "code",
      "execution_count": 12,
      "metadata": {
        "colab": {
          "base_uri": "https://localhost:8080/"
        },
        "id": "JEhagQmnTVIK",
        "outputId": "6b35955b-915e-438c-9576-45c4661486b1"
      },
      "outputs": [
        {
          "output_type": "execute_result",
          "data": {
            "text/plain": [
              "1663062823.1803267"
            ]
          },
          "metadata": {},
          "execution_count": 12
        }
      ],
      "source": [
        "start_gp = time.time()\n",
        "start_gp\n"
      ]
    },
    {
      "cell_type": "code",
      "execution_count": 13,
      "metadata": {
        "colab": {
          "base_uri": "https://localhost:8080/"
        },
        "id": "aH0YSTXufD1v",
        "outputId": "3f93ed60-33b8-4b5c-d8f2-1c4f3e1849e0"
      },
      "outputs": [
        {
          "output_type": "stream",
          "name": "stdout",
          "text": [
            "Evaluation \t Proposed point \t  Current eval. \t  Best eval. \t        Exact EI: StdDev. x \t Approx EI: StdDev. x \n",
            "init\t [ 1.25533007 10.8048674 ]\t 56.52874004692151\t 27.68166689936483\t    \t    \n",
            "init\t [-4.99828438  4.53498859]\t 172.66531086516164\t 27.68166689936483\t    \t    \n",
            "init\t [-2.79866164  1.38507892]\t 102.58290348816024\t 27.68166689936483\t    \t    \n",
            "init\t [-2.20609683  5.18341091]\t 28.868064601155666\t 27.68166689936483\t    \t    \n",
            "init\t [0.95151211 8.08225101]\t 27.68166689936483\t 27.68166689936483\t    \t    \n",
            "\u001b[1m\u001b[92m1\u001b[0m\t \u001b[1m\u001b[92m[8.41909995 1.27566317]\u001b[0m\t \u001b[1m\u001b[92m5.089934878453152\u001b[0m\t \u001b[1m\u001b[92m5.089934878453152\u001b[0m\t \u001b[1m\u001b[92m5.405420528794761\u001b[0m\t \u001b[1m\u001b[92m5.542141089617631\u001b[0m\n",
            "2  \t [ 8.98893195 10.45227242]\t 70.52424256621515\t 5.089934878453152\t 5.69036904730349\t 5.82372415819082\n",
            "3  \t [3.1784986 0.       ]\t 5.450714203742865\t 5.089934878453152\t 5.508275420942684\t 4.88921883949269\n",
            "4  \t [-4.67712792 14.21955317]\t 13.865244792739254\t 5.089934878453152\t 6.026294953585311\t 6.662757586585778\n",
            "5  \t [ 5.30676004 15.        ]\t 206.03558952485747\t 5.089934878453152\t 4.208898932289669\t 4.427635710806215\n",
            "6  \t [5.6509709  6.05693568]\t 42.00603936853098\t 5.089934878453152\t 5.05511116721913\t 5.401158531301679\n",
            "7  \t [-3.81418147  9.6732151 ]\t 20.778570204409263\t 5.089934878453152\t 5.700766524229558\t 6.092080444778015\n",
            "8  \t [10. 15.]\t 145.87219087939556\t 5.089934878453152\t 5.00642764077505\t 5.027714505473713\n",
            "9  \t [-0.28894486 15.        ]\t 91.95377472918058\t 5.089934878453152\t 5.17441584363039\t 5.297082311685551\n",
            "10 \t [10.          5.29237281]\t 7.18456719951715\t 5.089934878453152\t 4.522751891261811\t 4.520537549829767\n",
            "\u001b[1m\u001b[92m11\u001b[0m\t \u001b[1m\u001b[92m[2.19337067 3.45287133]\u001b[0m\t \u001b[1m\u001b[92m4.504572815126114\u001b[0m\t \u001b[1m\u001b[92m4.504572815126114\u001b[0m\t \u001b[1m\u001b[92m4.527295969221981\u001b[0m\t \u001b[1m\u001b[92m4.911105516854783\u001b[0m\n",
            "12 \t [5.42675726 2.23126487]\t 17.42234372828822\t 4.504572815126114\t 4.357647898527747\t 4.226995657147294\n",
            "13 \t [5.13257302 9.83709993]\t 87.923363463295\t 4.504572815126114\t 4.120380767960802\t 4.322295298853654\n",
            "14 \t [0.64301419 0.49016326]\t 38.29483628261505\t 4.504572815126114\t 5.123085253871569\t 5.3919674747438275\n",
            "15 \t [8.24298487 3.59982364]\t 10.126761992549532\t 4.504572815126114\t 4.950807402353259\t 5.197318217542276\n",
            "16 \t [1.88683678 5.43189266]\t 10.916116630836918\t 4.504572815126114\t 4.46304765349932\t 4.437543860415007\n",
            "17 \t [-1.50798545 10.24937492]\t 13.022529101464315\t 4.504572815126114\t 4.727245247872574\t 5.0927366562148775\n",
            "18 \t [8.88202855 7.16672204]\t 27.90509748368775\t 4.504572815126114\t 5.10910808987186\t 5.06489573839993\n",
            "19 \t [-2.31211909 12.39801829]\t 7.627035872636235\t 4.504572815126114\t 5.987213061243328\t 5.53517034502849\n",
            "20 \t [-0.10633456  3.82570689]\t 25.04685852577163\t 4.504572815126114\t 5.600297610228542\t 6.077735904844344\n"
          ]
        }
      ],
      "source": [
        "### EXACT GP EI GRADIENTS\n",
        "\n",
        "np.random.seed(run_num_1)\n",
        "surrogate_gp_1 = dGaussianProcess(cov_func, optimize=opt)\n",
        "\n",
        "gp_1 = dGPGO_gp(surrogate_gp_1, Acquisition_grad(util_gp), objfunc, param)\n",
        "gp_1.run(init_evals=n_init, max_iter=iters)\n"
      ]
    },
    {
      "cell_type": "code",
      "execution_count": 14,
      "metadata": {
        "id": "wTxsSZxFGBB5",
        "colab": {
          "base_uri": "https://localhost:8080/"
        },
        "outputId": "c1764c28-e717-450d-bdd6-998c4a6c5896"
      },
      "outputs": [
        {
          "output_type": "stream",
          "name": "stdout",
          "text": [
            "Evaluation \t Proposed point \t  Current eval. \t  Best eval. \t        Exact EI: StdDev. x \t Approx EI: StdDev. x \n",
            "init\t [1.53992353 0.38889348]\t 22.31361308916297\t 6.692051508754487\t    \t    \n",
            "init\t [3.24493717 6.52983589]\t 19.233109967858276\t 6.692051508754487\t    \t    \n",
            "init\t [1.30551703 4.95502232]\t 13.177851563387286\t 6.692051508754487\t    \t    \n",
            "init\t [-1.93027049  9.2890645 ]\t 6.692051508754487\t 6.692051508754487\t    \t    \n",
            "init\t [-0.50517989  4.00240913]\t 26.437522758780958\t 6.692051508754487\t    \t    \n",
            "1  \t [ 9.5587047  12.00387527]\t 89.09951357262268\t 6.692051508754487\t 5.75515449994353\t 6.099827733628081\n",
            "\u001b[1m\u001b[92m2\u001b[0m\t \u001b[1m\u001b[92m[9.59366035 1.69164323]\u001b[0m\t \u001b[1m\u001b[92m1.3984593420568778\u001b[0m\t \u001b[1m\u001b[92m1.3984593420568778\u001b[0m\t \u001b[1m\u001b[92m4.558221037166559\u001b[0m\t \u001b[1m\u001b[92m5.436385046269629\u001b[0m\n",
            "3  \t [ 3.24245232 12.67669673]\t 110.25694222671481\t 1.3984593420568778\t 5.641319204144841\t 6.034794047588232\n",
            "4  \t [-5.          0.47652372]\t 291.9758016736889\t 1.3984593420568778\t 5.026254267928121\t 5.110573840483808\n",
            "5  \t [9.02917984 6.38725122]\t 18.99628463361546\t 1.3984593420568778\t 5.276408169554564\t 5.658238448679558\n",
            "6  \t [-3.95507934 14.02731525]\t 3.4866936150466845\t 1.3984593420568778\t 5.14905248356774\t 5.66199020883198\n",
            "7  \t [6.11121402 0.        ]\t 20.66684023677474\t 1.3984593420568778\t 4.417316543050095\t 4.993795508307132\n",
            "8  \t [-0.53518615 15.        ]\t 84.05142673602415\t 1.3984593420568778\t 5.121213917967535\t 5.277599989295357\n",
            "9  \t [-5.         5.9468696]\t 139.07237800431037\t 1.3984593420568778\t 5.075340547346736\t 5.5132759671091724\n",
            "10 \t [ 6.76609444 15.        ]\t 210.45133046784113\t 1.3984593420568778\t 4.7426129302460485\t 4.333814484007697\n",
            "11 \t [6.15066039 9.24517374]\t 85.89353371388567\t 1.3984593420568778\t 5.296064576853094\t 5.176963399871595\n",
            "12 \t [6.26654663 3.75224143]\t 26.637788043362853\t 1.3984593420568778\t 4.448282656360162\t 4.8788728079889605\n",
            "13 \t [10.          3.46971226]\t 2.1610015012252557\t 1.3984593420568778\t 5.031423369911799\t 5.717506569234672\n",
            "14 \t [-5.         10.68349678]\t 55.02399145829575\t 1.3984593420568778\t 5.832230116173852\t 6.027801433849147\n",
            "15 \t [-1.05743169 11.63035107]\t 29.17810911637783\t 1.3984593420568778\t 5.0135304979877855\t 4.981318715575574\n",
            "16 \t [1.14276169 9.20729766]\t 37.57959383598781\t 1.3984593420568778\t 4.719550065792214\t 4.566422620351545\n",
            "\u001b[1m\u001b[92m17\u001b[0m\t \u001b[1m\u001b[92m[3.29061963 2.88248012]\u001b[0m\t \u001b[1m\u001b[92m1.0239145109053958\u001b[0m\t \u001b[1m\u001b[92m1.0239145109053958\u001b[0m\t \u001b[1m\u001b[92m4.414740154852413\u001b[0m\t \u001b[1m\u001b[92m5.023989618061668\u001b[0m\n",
            "18 \t [-1.52707094  6.9978374 ]\t 13.42586363502191\t 1.0239145109053958\t 5.2965704932990025\t 5.311746714520736\n",
            "19 \t [-1.42856749  1.19510368]\t 65.26859455646289\t 1.0239145109053958\t 5.355483513289965\t 5.674024725299121\n",
            "20 \t [10.          8.81339013]\t 35.70427836394819\t 1.0239145109053958\t 5.682684200313724\t 6.006588701817771\n"
          ]
        }
      ],
      "source": [
        "### EXACT GP EI GRADIENTS\n",
        "\n",
        "np.random.seed(run_num_2)\n",
        "surrogate_gp_2 = dGaussianProcess(cov_func, optimize=opt)\n",
        "\n",
        "gp_2 = dGPGO_gp(surrogate_gp_2, Acquisition_grad(util_gp), objfunc, param)\n",
        "gp_2.run(init_evals=n_init, max_iter=iters)\n"
      ]
    },
    {
      "cell_type": "code",
      "execution_count": 15,
      "metadata": {
        "id": "-dgzIrUIGCGT",
        "colab": {
          "base_uri": "https://localhost:8080/"
        },
        "outputId": "af1809ef-9a8e-4dfa-bea7-47dead029c5a"
      },
      "outputs": [
        {
          "output_type": "stream",
          "name": "stdout",
          "text": [
            "Evaluation \t Proposed point \t  Current eval. \t  Best eval. \t        Exact EI: StdDev. x \t Approx EI: StdDev. x \n",
            "init\t [ 3.26196854 10.62221734]\t 71.68783452098575\t 18.07886746449891\t    \t    \n",
            "init\t [-0.63642892  7.66241408]\t 18.07886746449891\t 18.07886746449891\t    \t    \n",
            "init\t [ 8.39420432 13.44439633]\t 141.98653529865882\t 18.07886746449891\t    \t    \n",
            "init\t [-3.11622034  3.10864317]\t 83.31045707266176\t 18.07886746449891\t    \t    \n",
            "init\t [-4.22799195  6.61214765]\t 76.5294170688398\t 18.07886746449891\t    \t    \n",
            "1  \t [6.70472147 4.59545299]\t 30.726791812855225\t 18.07886746449891\t 4.402099176428831\t 4.5324596575942495\n",
            "\u001b[1m\u001b[92m2\u001b[0m\t \u001b[1m\u001b[92m[-3.89564496 13.38589781]\u001b[0m\t \u001b[1m\u001b[92m3.6010193697779265\u001b[0m\t \u001b[1m\u001b[92m3.6010193697779265\u001b[0m\t \u001b[1m\u001b[92m5.874212059781057\u001b[0m\t \u001b[1m\u001b[92m6.119506956575642\u001b[0m\n",
            "3  \t [ 0.53511805 15.        ]\t 114.58765716763713\t 3.6010193697779265\t 5.559519807316652\t 6.120596128588412\n",
            "4  \t [3.11133413 0.        ]\t 5.686376470456184\t 3.6010193697779265\t 4.234811103024413\t 4.496638240588852\n",
            "5  \t [9.70346787 8.50929412]\t 34.28297118578492\t 3.6010193697779265\t 4.947543973652955\t 5.530459940834253\n",
            "6  \t [9.9367654  0.73581581]\t 6.490812722618764\t 3.6010193697779265\t 4.6882004498204495\t 4.682673573644713\n",
            "7  \t [-0.6195202  11.33294215]\t 36.28496106529289\t 3.6010193697779265\t 4.449244248391689\t 4.161287910098959\n",
            "8  \t [1.56074043 4.20064923]\t 10.233428734977783\t 3.6010193697779265\t 5.187788692897206\t 5.021356828053472\n",
            "9  \t [-2.53287617  0.2265116 ]\t 115.19315667597515\t 3.6010193697779265\t 4.385759292396832\t 4.21234519087257\n",
            "10 \t [6.54561084 0.        ]\t 20.52161785545228\t 3.6010193697779265\t 4.259092243809748\t 4.490301201221232\n",
            "11 \t [6.0458577  8.12119653]\t 68.63406939804878\t 3.6010193697779265\t 5.166650483821477\t 5.493560158281362\n",
            "12 \t [ 4.68107407 14.96625596]\t 194.26970941980653\t 3.6010193697779265\t 4.5278838529263625\t 4.8663781344300645\n",
            "13 \t [-5.         10.50373468]\t 57.39460205302869\t 3.6010193697779265\t 5.324922210373382\t 5.603290034418192\n",
            "14 \t [2.43309701 7.10720069]\t 20.47348795811149\t 3.6010193697779265\t 5.373518612813064\t 5.384262446504263\n",
            "15 \t [10.          4.55181794]\t 4.342112083281274\t 3.6010193697779265\t 5.323031783137355\t 5.886871813718536\n",
            "16 \t [0.9476583  1.34257093]\t 26.265185563975166\t 3.6010193697779265\t 5.514548985988619\t 5.491072216926055\n",
            "17 \t [3.89175399 3.17224744]\t 4.9621850236122365\t 3.6010193697779265\t 5.1518143394157105\t 5.36188887297415\n",
            "18 \t [8.48415476 2.47485514]\t 4.802652555865299\t 3.6010193697779265\t 5.189001198439178\t 5.484944579580013\n",
            "19 \t [4.7187222  1.72006089]\t 10.185897482463801\t 3.6010193697779265\t 5.195008407967038\t 5.022585660787516\n",
            "20 \t [-0.75272331  5.17702483]\t 21.393441640847428\t 3.6010193697779265\t 4.1114110430227795\t 3.8129023066864782\n"
          ]
        }
      ],
      "source": [
        "### EXACT GP EI GRADIENTS\n",
        "\n",
        "np.random.seed(run_num_3)\n",
        "surrogate_gp_3 = dGaussianProcess(cov_func, optimize=opt)\n",
        "\n",
        "gp_3 = dGPGO_gp(surrogate_gp_3, Acquisition_grad(util_gp), objfunc, param)\n",
        "gp_3.run(init_evals=n_init, max_iter=iters)\n"
      ]
    },
    {
      "cell_type": "code",
      "execution_count": 16,
      "metadata": {
        "id": "hOtG-2sCGCKS",
        "colab": {
          "base_uri": "https://localhost:8080/"
        },
        "outputId": "1156030e-c211-4fed-cd95-ffd51006c27e"
      },
      "outputs": [
        {
          "output_type": "stream",
          "name": "stdout",
          "text": [
            "Evaluation \t Proposed point \t  Current eval. \t  Best eval. \t        Exact EI: StdDev. x \t Approx EI: StdDev. x \n",
            "init\t [9.50544759 8.20848374]\t 32.51676744781521\t 7.247126865776948\t    \t    \n",
            "init\t [ 9.5902654  10.72223991]\t 66.20566674364716\t 7.247126865776948\t    \t    \n",
            "init\t [5.46593237 3.24134243]\t 20.90089401680587\t 7.247126865776948\t    \t    \n",
            "init\t [9.64411682 0.09345383]\t 7.247126865776948\t 7.247126865776948\t    \t    \n",
            "init\t [-1.20526456  6.52187299]\t 15.941376982363263\t 7.247126865776948\t    \t    \n",
            "1  \t [-5.  0.]\t 308.12909601160663\t 7.247126865776948\t 5.271989464069712\t 5.748331886405332\n",
            "2  \t [ 1.1294018  14.15696259]\t 109.93986979623045\t 7.247126865776948\t 5.3633368606094205\t 5.55926321816748\n",
            "3  \t [1.01107069 0.        ]\t 35.554826707809156\t 7.247126865776948\t 5.255427176061783\t 5.510322688158594\n",
            "4  \t [3.23218268 8.99706827]\t 46.56384602934775\t 7.247126865776948\t 4.838072506468379\t 5.287048471784001\n",
            "5  \t [-4.71931664 12.72607102]\t 23.47782987479111\t 7.247126865776948\t 5.39539237978254\t 6.260033667269982\n",
            "6  \t [ 6.54237273 15.        ]\t 212.0210607174384\t 7.247126865776948\t 4.865336775046842\t 5.243175053608674\n",
            "7  \t [-5.          4.97123958]\t 161.95735144062687\t 7.247126865776948\t 4.79331008335714\t 4.924626262102604\n",
            "\u001b[1m\u001b[92m8\u001b[0m\t \u001b[1m\u001b[92m[9.02535081 4.41775622]\u001b[0m\t \u001b[1m\u001b[92m6.257130409697806\u001b[0m\t \u001b[1m\u001b[92m6.257130409697806\u001b[0m\t \u001b[1m\u001b[92m4.018693807933599\u001b[0m\t \u001b[1m\u001b[92m4.09903272569043\u001b[0m\n",
            "9  \t [-1.66747037 10.74580077]\t 12.075583092561683\t 6.257130409697806\t 5.0255263494652915\t 5.05492917520777\n",
            "10 \t [-1.14870967  2.88992831]\t 40.03311016175269\t 6.257130409697806\t 5.704459259772265\t 5.585277976985678\n",
            "11 \t [2.30621771 4.92833989]\t 7.212593938941006\t 6.257130409697806\t 4.94389535000508\t 5.068575578913299\n",
            "12 \t [-4.78210044  9.01143995]\t 67.72817440816127\t 6.257130409697806\t 4.809460836896015\t 5.17752412745458\n",
            "13 \t [4.98289101 0.        ]\t 14.1966391438109\t 6.257130409697806\t 5.026680168622899\t 5.280337567701507\n",
            "14 \t [6.14503446 6.75154276]\t 51.47240275629184\t 6.257130409697806\t 4.685423546841581\t 4.364475602999553\n",
            "15 \t [10. 15.]\t 145.87219087939556\t 6.257130409697806\t 4.840472978649035\t 4.508717108847282\n",
            "16 \t [-2.31940994 14.86579944]\t 23.52937322780063\t 6.257130409697806\t 4.954356793438333\t 5.092865518104469\n",
            "17 \t [ 5.97759725 11.05583517]\t 118.2293824651525\t 6.257130409697806\t 5.311460879503478\t 5.139563604014456\n",
            "\u001b[1m\u001b[92m18\u001b[0m\t \u001b[1m\u001b[92m[2.81891202 2.33673074]\u001b[0m\t \u001b[1m\u001b[92m0.9348218204625756\u001b[0m\t \u001b[1m\u001b[92m0.9348218204625756\u001b[0m\t \u001b[1m\u001b[92m4.513898630019972\u001b[0m\t \u001b[1m\u001b[92m4.710947624334847\u001b[0m\n",
            "19 \t [8.122305   1.74929378]\t 7.477989934904331\t 0.9348218204625756\t 5.02554868652554\t 5.30815968735285\n",
            "20 \t [ 0.81186795 10.58999841]\t 50.212582057427106\t 0.9348218204625756\t 4.787230284979617\t 4.727491853056876\n"
          ]
        }
      ],
      "source": [
        "### EXACT GP EI GRADIENTS\n",
        "\n",
        "np.random.seed(run_num_4)\n",
        "surrogate_gp_4 = dGaussianProcess(cov_func, optimize=opt)\n",
        "\n",
        "gp_4= dGPGO_gp(surrogate_gp_4, Acquisition_grad(util_gp), objfunc, param)\n",
        "gp_4.run(init_evals=n_init, max_iter=iters)\n"
      ]
    },
    {
      "cell_type": "code",
      "execution_count": 17,
      "metadata": {
        "id": "JF_SxcEvGCOl",
        "colab": {
          "base_uri": "https://localhost:8080/"
        },
        "outputId": "9c8f4748-0ad1-45df-fbdb-f33b3b99fd96"
      },
      "outputs": [
        {
          "output_type": "stream",
          "name": "stdout",
          "text": [
            "Evaluation \t Proposed point \t  Current eval. \t  Best eval. \t        Exact EI: StdDev. x \t Approx EI: StdDev. x \n",
            "init\t [-1.67010243 13.06098459]\t 25.390690545664548\t 25.311309190989615\t    \t    \n",
            "init\t [-1.89921267 13.77916362]\t 25.311309190989615\t 25.311309190989615\t    \t    \n",
            "init\t [2.32616783 9.17615794]\t 41.60147975414021\t 25.311309190989615\t    \t    \n",
            "init\t [6.48861785 7.77626982]\t 63.81281921768236\t 25.311309190989615\t    \t    \n",
            "init\t [-0.54799248  2.81581843]\t 34.966203644931994\t 25.311309190989615\t    \t    \n",
            "\u001b[1m\u001b[92m1\u001b[0m\t \u001b[1m\u001b[92m[8.84124421 0.03321319]\u001b[0m\t \u001b[1m\u001b[92m5.96108856337545\u001b[0m\t \u001b[1m\u001b[92m5.96108856337545\u001b[0m\t \u001b[1m\u001b[92m6.242403489909564\u001b[0m\t \u001b[1m\u001b[92m6.208743753563759\u001b[0m\n",
            "2  \t [ 8.39476442 14.47736321]\t 167.21523769473345\t 5.96108856337545\t 5.6578963694911035\t 5.468399736609172\n",
            "3  \t [-5.          8.10986515]\t 95.12466680670255\t 5.96108856337545\t 5.540662303799341\t 5.616861827024229\n",
            "4  \t [-5.  0.]\t 308.12909601160663\t 5.96108856337545\t 5.141833667094785\t 5.56718785217153\n",
            "5  \t [4.68041959 2.64376529]\t 11.288061329654056\t 5.96108856337545\t 4.901728882789568\t 5.09475552848999\n",
            "6  \t [ 3.07485242 14.94793353]\t 159.6914920096218\t 5.96108856337545\t 5.44730370184961\t 6.09873557298452\n",
            "\u001b[1m\u001b[92m7\u001b[0m\t \u001b[1m\u001b[92m[10.          4.34286402]\u001b[0m\t \u001b[1m\u001b[92m3.738492541321359\u001b[0m\t \u001b[1m\u001b[92m3.738492541321359\u001b[0m\t \u001b[1m\u001b[92m4.296366162043162\u001b[0m\t \u001b[1m\u001b[92m4.327290873672618\u001b[0m\n",
            "8  \t [10.         10.27581248]\t 54.83757329070061\t 3.738492541321359\t 4.694653043683441\t 4.724749067211645\n",
            "9  \t [-1.03519792  6.99126788]\t 15.53210397903008\t 3.738492541321359\t 4.4479435407231565\t 4.680316013242962\n",
            "10 \t [-4.87522279  4.21394897]\t 170.71102908806404\t 3.738492541321359\t 5.537182437405818\t 5.56067576823577\n",
            "11 \t [2.06982231 0.        ]\t 16.027247417193454\t 3.738492541321359\t 4.144117878923084\t 4.598992774301063\n",
            "12 \t [-5.         12.15297558]\t 38.06878161278433\t 3.738492541321359\t 5.137945653461073\t 5.315371164028722\n",
            "13 \t [2.33452895 5.41477519]\t 9.24558006183136\t 3.738492541321359\t 4.7656129558774385\t 4.758182383713252\n",
            "14 \t [6.54425406 4.56515632]\t 31.16573156949684\t 3.738492541321359\t 4.769823286531378\t 4.849561127801639\n",
            "15 \t [ 6.6657743  11.06795891]\t 117.64930528535555\t 3.738492541321359\t 4.678803938613167\t 4.7301362924637305\n",
            "16 \t [-0.74857815  9.80931008]\t 23.51472972870166\t 3.738492541321359\t 4.762192705259334\t 4.6316595522486015\n",
            "17 \t [10.          6.77140164]\t 16.144318607650213\t 3.738492541321359\t 4.296178296680993\t 4.695069010299358\n",
            "18 \t [-1.19292359  0.        ]\t 78.86839901179698\t 3.738492541321359\t 5.263249513330764\t 5.369695854812994\n",
            "\u001b[1m\u001b[92m19\u001b[0m\t \u001b[1m\u001b[92m[9.35759935 2.37003592]\u001b[0m\t \u001b[1m\u001b[92m0.421935515032267\u001b[0m\t \u001b[1m\u001b[92m0.421935515032267\u001b[0m\t \u001b[1m\u001b[92m4.70830035777792\u001b[0m\t \u001b[1m\u001b[92m4.811476649994591\u001b[0m\n",
            "20 \t [10.          2.09532251]\t 2.7669403081998123\t 0.421935515032267\t 4.6790203778270625\t 4.7264343685697705\n"
          ]
        }
      ],
      "source": [
        "### EXACT GP EI GRADIENTS\n",
        "\n",
        "np.random.seed(run_num_5)\n",
        "surrogate_gp_5 = dGaussianProcess(cov_func, optimize=opt)\n",
        "\n",
        "gp_5 = dGPGO_gp(surrogate_gp_5, Acquisition_grad(util_gp), objfunc, param)\n",
        "gp_5.run(init_evals=n_init, max_iter=iters)\n"
      ]
    },
    {
      "cell_type": "code",
      "execution_count": 18,
      "metadata": {
        "id": "-kDxZtJsGCR3",
        "colab": {
          "base_uri": "https://localhost:8080/"
        },
        "outputId": "bc61dfbb-96d7-44a0-fb07-5be8b6be306e"
      },
      "outputs": [
        {
          "output_type": "stream",
          "name": "stdout",
          "text": [
            "Evaluation \t Proposed point \t  Current eval. \t  Best eval. \t        Exact EI: StdDev. x \t Approx EI: StdDev. x \n",
            "init\t [8.39290227 4.97969708]\t 15.553860636684597\t 15.31731051317483\t    \t    \n",
            "init\t [7.31843685 0.62544939]\t 15.31731051317483\t 15.31731051317483\t    \t    \n",
            "init\t [-3.3851498   8.92578096]\t 16.222288919361837\t 15.31731051317483\t    \t    \n",
            "init\t [2.94726043 6.28211143]\t 15.406373581304088\t 15.31731051317483\t    \t    \n",
            "init\t [0.03111774 9.33779148]\t 31.07053245856209\t 15.31731051317483\t    \t    \n",
            "1  \t [10. 15.]\t 145.87219087939556\t 15.31731051317483\t 5.416473913639316\t 5.6767114585495415\n",
            "2  \t [-2.67838097  0.        ]\t 126.61486786700603\t 15.31731051317483\t 5.917379916138948\t 5.809320467637314\n",
            "3  \t [ 4.34724927 14.59608757]\t 177.48889452505895\t 15.31731051317483\t 5.301645063832075\t 5.3471848286070145\n",
            "4  \t [-1.30746846 14.41632538]\t 49.88755953556025\t 15.31731051317483\t 5.91932709229756\t 6.571181255183814\n",
            "5  \t [8.13676748 9.89528697]\t 76.08522805324013\t 15.31731051317483\t 5.256081262434423\t 5.170530644989898\n",
            "6  \t [-5.          4.50612463]\t 173.5374838335397\t 15.31731051317483\t 5.794468454383353\t 5.753587762205405\n",
            "\u001b[1m\u001b[92m7\u001b[0m\t \u001b[1m\u001b[92m[2.56065162 0.        ]\u001b[0m\t \u001b[1m\u001b[92m9.65519629652384\u001b[0m\t \u001b[1m\u001b[92m9.65519629652384\u001b[0m\t \u001b[1m\u001b[92m5.725435197799229\u001b[0m\t \u001b[1m\u001b[92m5.946208603109806\u001b[0m\n",
            "8  \t [-0.66310856  5.01981229]\t 21.945235150727513\t 9.65519629652384\t 5.124516838789546\t 5.07545838670942\n",
            "9  \t [5.57672442 8.22374038]\t 67.45521325732554\t 9.65519629652384\t 4.721706681406535\t 4.650028573883155\n",
            "\u001b[1m\u001b[92m10\u001b[0m\t \u001b[1m\u001b[92m[2.89081943 3.07178535]\u001b[0m\t \u001b[1m\u001b[92m1.0499933199010147\u001b[0m\t \u001b[1m\u001b[92m1.0499933199010147\u001b[0m\t \u001b[1m\u001b[92m4.8149803913249105\u001b[0m\t \u001b[1m\u001b[92m5.508022017312914\u001b[0m\n",
            "11 \t [-4.83671344 12.1991182 ]\t 31.628938411402274\t 1.0499933199010147\t 5.457440662049493\t 5.997078609594953\n",
            "12 \t [5.24064045 3.49860895]\t 20.09013318586471\t 1.0499933199010147\t 5.356963442613489\t 5.235240511510239\n",
            "13 \t [-2.35948288  2.63627018]\t 64.62465195408333\t 1.0499933199010147\t 5.1698490126386885\t 4.9770999526918205\n",
            "14 \t [10.          2.42434163]\t 2.2779359530325296\t 1.0499933199010147\t 4.518958352217227\t 5.096591744354235\n",
            "15 \t [ 2.89344444 11.04157831]\t 74.0529961126017\t 1.0499933199010147\t 5.522934078024176\t 5.84881373681928\n",
            "16 \t [1.56965686 2.57203855]\t 11.56860179736689\t 1.0499933199010147\t 4.801519949403576\t 5.0334682920906175\n",
            "17 \t [4.79185083 0.01439838]\t 12.519009865422309\t 1.0499933199010147\t 5.300821357508323\t 5.41857724090149\n",
            "18 \t [-2.00739214 11.48281845]\t 9.063345388716673\t 1.0499933199010147\t 5.058779965996951\t 5.28130453578693\n",
            "19 \t [-4.0083223  14.75508283]\t 3.8743809675987535\t 1.0499933199010147\t 6.162009783594696\t 6.407359915083632\n",
            "20 \t [10.          3.27429568]\t 2.0167655552872485\t 1.0499933199010147\t 5.452160161482043\t 5.490384025051863\n"
          ]
        }
      ],
      "source": [
        "### EXACT GP EI GRADIENTS\n",
        "\n",
        "np.random.seed(run_num_6)\n",
        "surrogate_gp_6 = dGaussianProcess(cov_func, optimize=opt)\n",
        "\n",
        "gp_6 = dGPGO_gp(surrogate_gp_6, Acquisition_grad(util_gp), objfunc, param)\n",
        "gp_6.run(init_evals=n_init, max_iter=iters)\n"
      ]
    },
    {
      "cell_type": "code",
      "execution_count": 19,
      "metadata": {
        "id": "fKB8MCD_GCVI",
        "colab": {
          "base_uri": "https://localhost:8080/"
        },
        "outputId": "682d1481-e7ad-49dd-e854-6cf408c187cb"
      },
      "outputs": [
        {
          "output_type": "stream",
          "name": "stdout",
          "text": [
            "Evaluation \t Proposed point \t  Current eval. \t  Best eval. \t        Exact EI: StdDev. x \t Approx EI: StdDev. x \n",
            "init\t [-3.85537566 11.69878188]\t 8.299317850233932\t 5.211335324193094\t    \t    \n",
            "init\t [ 1.57613847 10.85197767]\t 59.50408380701259\t 5.211335324193094\t    \t    \n",
            "init\t [9.66984268 8.07743806]\t 29.714921414987273\t 5.211335324193094\t    \t    \n",
            "init\t [2.51680695 1.080767  ]\t 5.211335324193094\t 5.211335324193094\t    \t    \n",
            "init\t [-0.9734153   7.49823751]\t 15.431057204948033\t 5.211335324193094\t    \t    \n",
            "1  \t [-4.97859679  1.38393519]\t 260.3293952774437\t 5.211335324193094\t 4.3220330688703905\t 4.42140261603025\n",
            "2  \t [ 7.80155495 14.72615764]\t 186.86153570538508\t 5.211335324193094\t 5.64814606800707\t 5.633834196146552\n",
            "3  \t [8.08940775 0.35854539]\t 9.249625108410735\t 5.211335324193094\t 5.431240345337933\t 5.892289650100062\n",
            "4  \t [-3.39684884  5.54228873]\t 54.79871094423047\t 5.211335324193094\t 4.513781467363462\t 4.684343925138193\n",
            "5  \t [4.93717413 5.49891249]\t 29.845086555570777\t 5.211335324193094\t 5.041449344647964\t 5.682461354584287\n",
            "6  \t [-0.76126859 15.        ]\t 76.4502145210903\t 5.211335324193094\t 5.727841432866783\t 6.601458469690593\n",
            "\u001b[1m\u001b[92m7\u001b[0m\t \u001b[1m\u001b[92m[10.          3.83258422]\u001b[0m\t \u001b[1m\u001b[92m2.6314226354824584\u001b[0m\t \u001b[1m\u001b[92m2.6314226354824584\u001b[0m\t \u001b[1m\u001b[92m4.7405496834649306\u001b[0m\t \u001b[1m\u001b[92m5.142827982900336\u001b[0m\n",
            "8  \t [5.98744485 9.67721516]\t 92.72153836394546\t 2.6314226354824584\t 5.32604620017307\t 5.487100073566519\n",
            "9  \t [-0.74275876  0.        ]\t 69.68488488234455\t 2.6314226354824584\t 5.590170014208042\t 5.8917310808583485\n",
            "10 \t [-4.7803007  14.79125203]\t 13.780473177305767\t 2.6314226354824584\t 4.887866273520761\t 5.402079958734856\n",
            "11 \t [1.29699254 4.02585581]\t 12.612555104465851\t 2.6314226354824584\t 4.766190912841026\t 5.028478115594501\n",
            "12 \t [ 3.4997838  14.59788967]\t 159.40599219063606\t 2.6314226354824584\t 5.054700399990366\t 4.94972603645915\n",
            "13 \t [5.42061979 1.82772627]\t 16.680457566017523\t 2.6314226354824584\t 4.341266849807919\t 4.128519994333313\n",
            "14 \t [2.28546468 7.23691143]\t 21.343444616260573\t 2.6314226354824584\t 4.409979482364623\t 4.617918116410186\n",
            "15 \t [-5.          8.84822644]\t 82.26490279299715\t 2.6314226354824584\t 5.530307800865057\t 5.589598981394925\n",
            "16 \t [7.95415311 5.6569449 ]\t 26.204662661616666\t 2.6314226354824584\t 5.288728748151813\t 5.086183910253936\n",
            "17 \t [-1.30664257  3.23533845]\t 38.159303333794156\t 2.6314226354824584\t 4.1031813962220385\t 4.409610715941556\n",
            "18 \t [10.         11.71040965]\t 77.76287912447607\t 2.6314226354824584\t 4.995958494689789\t 5.132651176367349\n",
            "19 \t [-1.59861314 11.39835452]\t 16.10322468449581\t 2.6314226354824584\t 5.073174015982274\t 5.144548455523329\n",
            "20 \t [10.          1.97251209]\t 3.004956564829926\t 2.6314226354824584\t 4.499817910314734\t 4.9137726096501675\n"
          ]
        }
      ],
      "source": [
        "### EXACT GP EI GRADIENTS\n",
        "\n",
        "np.random.seed(run_num_7)\n",
        "surrogate_gp_7 = dGaussianProcess(cov_func, optimize=opt)\n",
        "\n",
        "gp_7 = dGPGO_gp(surrogate_gp_7, Acquisition_grad(util_gp), objfunc, param)\n",
        "gp_7.run(init_evals=n_init, max_iter=iters)\n"
      ]
    },
    {
      "cell_type": "code",
      "execution_count": 20,
      "metadata": {
        "id": "4unvifF-GCXp",
        "colab": {
          "base_uri": "https://localhost:8080/"
        },
        "outputId": "2a924577-e2f5-4510-9271-4c2c8857687e"
      },
      "outputs": [
        {
          "output_type": "stream",
          "name": "stdout",
          "text": [
            "Evaluation \t Proposed point \t  Current eval. \t  Best eval. \t        Exact EI: StdDev. x \t Approx EI: StdDev. x \n",
            "init\t [ 8.10144104 14.52810994]\t 175.17297136347514\t 15.416245468470875\t    \t    \n",
            "init\t [8.0379181  7.96283537]\t 49.32173799887473\t 15.416245468470875\t    \t    \n",
            "init\t [-1.50907508  0.17098206]\t 83.26753461673219\t 15.416245468470875\t    \t    \n",
            "init\t [1.45703227 6.0352704 ]\t 15.416245468470875\t 15.416245468470875\t    \t    \n",
            "init\t [2.84012007 7.17587694]\t 22.49093277852639\t 15.416245468470875\t    \t    \n",
            "\u001b[1m\u001b[92m1\u001b[0m\t \u001b[1m\u001b[92m[9.77124156 0.43098073]\u001b[0m\t \u001b[1m\u001b[92m6.499298445992174\u001b[0m\t \u001b[1m\u001b[92m6.499298445992174\u001b[0m\t \u001b[1m\u001b[92m5.244961970670866\u001b[0m\t \u001b[1m\u001b[92m5.668869685334021\u001b[0m\n",
            "2  \t [-4.87537438 11.82874897]\t 36.57081146531108\t 6.499298445992174\t 5.308224239671212\t 5.416866692563446\n",
            "3  \t [-0.06146391 15.        ]\t 98.82405002647226\t 6.499298445992174\t 4.939417304118056\t 5.731811372251875\n",
            "4  \t [4.4595038 0.8533709]\t 7.979766606771776\t 6.499298445992174\t 5.07625628604092\t 5.422455455023861\n",
            "5  \t [-5.         6.0933586]\t 135.8006206439636\t 6.499298445992174\t 5.4021399260642555\t 5.18892332713384\n",
            "6  \t [-0.59967171 10.08537949]\t 27.440988775280903\t 6.499298445992174\t 4.692938690197751\t 4.9433631490910965\n",
            "7  \t [ 3.81402265 11.86667675]\t 103.64479606779845\t 6.499298445992174\t 4.986964655535103\t 5.220647137644336\n",
            "8  \t [7.40395628 3.60928367]\t 19.51908227657733\t 6.499298445992174\t 5.073834754052323\t 4.97191702257832\n",
            "9  \t [1.15423972 2.8903799 ]\t 15.972303814139973\t 6.499298445992174\t 4.691851191343355\t 5.174049301655857\n",
            "10 \t [-5.          1.23092166]\t 267.3316770126038\t 6.499298445992174\t 5.855738597256932\t 6.081650995444702\n",
            "11 \t [ 9.90288513 11.22122281]\t 70.58720754528233\t 6.499298445992174\t 5.042638720816599\t 5.312533753634771\n",
            "12 \t [-1.45457497  5.37896212]\t 21.413662906957107\t 6.499298445992174\t 4.542163256576779\t 4.737493353872133\n",
            "13 \t [4.34653766 3.81561406]\t 11.821552398433539\t 6.499298445992174\t 4.4646471991506695\t 4.600851666525468\n",
            "\u001b[1m\u001b[92m14\u001b[0m\t \u001b[1m\u001b[92m[-3.66780073 14.9794794 ]\u001b[0m\t \u001b[1m\u001b[92m3.6683923541112007\u001b[0m\t \u001b[1m\u001b[92m3.6683923541112007\u001b[0m\t \u001b[1m\u001b[92m5.562152137013774\u001b[0m\t \u001b[1m\u001b[92m6.348067808309381\u001b[0m\n",
            "15 \t [6.91978505 0.04950909]\t 18.982638453333138\t 3.6683923541112007\t 4.48358631256277\t 4.898745403091133\n",
            "16 \t [1.72816761 0.30640526]\t 19.577029373709163\t 3.6683923541112007\t 4.0629041090553635\t 4.234239394796094\n",
            "17 \t [10.          5.72155397]\t 9.33391232056654\t 3.6683923541112007\t 5.410416215247061\t 5.682572760063217\n",
            "18 \t [ 4.67524484 15.        ]\t 195.0709927952468\t 3.6683923541112007\t 5.798383931123237\t 5.709291715140054\n",
            "19 \t [5.38118116 6.48194153]\t 44.102513813882524\t 3.6683923541112007\t 4.395139062379838\t 4.47918569005361\n",
            "20 \t [-3.50403068  9.20597036]\t 16.67973291324366\t 3.6683923541112007\t 4.324224513776058\t 4.86993316340847\n"
          ]
        }
      ],
      "source": [
        "### EXACT GP EI GRADIENTS\n",
        "\n",
        "np.random.seed(run_num_8)\n",
        "surrogate_gp_8 = dGaussianProcess(cov_func, optimize=opt)\n",
        "\n",
        "gp_8 = dGPGO_gp(surrogate_gp_8, Acquisition_grad(util_gp), objfunc, param)\n",
        "gp_8.run(init_evals=n_init, max_iter=iters)\n"
      ]
    },
    {
      "cell_type": "code",
      "execution_count": 21,
      "metadata": {
        "id": "85OIXcg7GCaJ",
        "colab": {
          "base_uri": "https://localhost:8080/"
        },
        "outputId": "e339dfa4-32cd-4339-e8b2-902264dd6b97"
      },
      "outputs": [
        {
          "output_type": "stream",
          "name": "stdout",
          "text": [
            "Evaluation \t Proposed point \t  Current eval. \t  Best eval. \t        Exact EI: StdDev. x \t Approx EI: StdDev. x \n",
            "init\t [-4.84438769  7.52811888]\t 96.15564306553264\t 3.4640248583909496\t    \t    \n",
            "init\t [2.4365994  2.00744293]\t 3.4640248583909496\t 3.4640248583909496\t    \t    \n",
            "init\t [-2.86833372  3.27838013]\t 70.46930174488207\t 3.4640248583909496\t    \t    \n",
            "init\t [1.27762271 3.72151753]\t 12.982825924833865\t 3.4640248583909496\t    \t    \n",
            "init\t [-3.73910523  5.1824796 ]\t 75.58547400560856\t 3.4640248583909496\t    \t    \n",
            "1  \t [ 7.05609655 14.75038872]\t 200.4388688685465\t 3.4640248583909496\t 5.562487311500015\t 5.668175250305087\n",
            "2  \t [-0.46054038 14.56197292]\t 79.4666617606301\t 3.4640248583909496\t 5.3059226593904505\t 5.02483024244295\n",
            "3  \t [8.28747407 1.2035024 ]\t 6.196385269800155\t 3.4640248583909496\t 4.840465996483128\t 4.4653438182993055\n",
            "4  \t [4.57208176 9.16642126]\t 68.60581850295517\t 3.4640248583909496\t 4.820500509685291\t 4.791794691107002\n",
            "5  \t [10.          6.41094566]\t 13.557530071759565\t 3.4640248583909496\t 5.710441272087044\t 4.986151919741268\n",
            "6  \t [5.8912128  4.49095395]\t 30.322494073443522\t 3.4640248583909496\t 5.020094971596057\t 5.198710345386469\n",
            "7  \t [-0.25390999  9.35697333]\t 27.964529725443967\t 3.4640248583909496\t 5.496625021807888\t 6.057126450599499\n",
            "8  \t [-0.32407797  0.        ]\t 61.73473466093925\t 3.4640248583909496\t 4.7965880923008815\t 5.074194953728596\n",
            "9  \t [10.         10.78990116]\t 62.579646216330644\t 3.4640248583909496\t 5.445818161629808\t 6.006570705102378\n",
            "10 \t [4.90384189 0.        ]\t 13.522031488272372\t 3.4640248583909496\t 3.9707192708212693\t 5.496168158867412\n",
            "11 \t [-5.         12.65482981]\t 33.267585144709244\t 3.4640248583909496\t 5.819882206416626\t 5.719028548890371\n",
            "12 \t [-5.  0.]\t 308.12909601160663\t 3.4640248583909496\t 5.234041746151335\t 5.000732977796551\n",
            "13 \t [ 3.16990412 14.74787517]\t 156.52302650660098\t 3.4640248583909496\t 4.878807575024314\t 4.752839425187268\n",
            "\u001b[1m\u001b[92m14\u001b[0m\t \u001b[1m\u001b[92m[9.14851126 3.71728919]\u001b[0m\t \u001b[1m\u001b[92m2.909586327372441\u001b[0m\t \u001b[1m\u001b[92m2.909586327372441\u001b[0m\t \u001b[1m\u001b[92m4.157747068891991\u001b[0m\t \u001b[1m\u001b[92m4.187703844619057\u001b[0m\n",
            "15 \t [0.59112688 6.42226502]\t 19.709704572558348\t 2.909586327372441\t 4.8497091581862986\t 4.811189356473794\n",
            "16 \t [ 2.10212761 11.29185157]\t 70.205353478914\t 2.909586327372441\t 5.325920917107261\t 5.032264307844331\n",
            "17 \t [-2.31649307 11.64126192]\t 5.075814329907596\t 2.909586327372441\t 5.419708817885848\t 5.356626122776143\n",
            "18 \t [7.43570493 9.37338964]\t 78.94621114259327\t 2.909586327372441\t 5.576946646607033\t 5.456178087123178\n",
            "19 \t [-3.69570719 15.        ]\t 3.667091562175994\t 2.909586327372441\t 4.097093090958231\t 4.169500866598214\n",
            "20 \t [3.36686089 5.99688546]\t 15.78043073149885\t 2.909586327372441\t 4.893005607577772\t 5.130280844695929\n"
          ]
        }
      ],
      "source": [
        "### EXACT GP EI GRADIENTS\n",
        "\n",
        "np.random.seed(run_num_9)\n",
        "surrogate_gp_9 = dGaussianProcess(cov_func, optimize=opt)\n",
        "\n",
        "gp_9 = dGPGO_gp(surrogate_gp_9, Acquisition_grad(util_gp), objfunc, param)\n",
        "gp_9.run(init_evals=n_init, max_iter=iters)\n"
      ]
    },
    {
      "cell_type": "code",
      "execution_count": 22,
      "metadata": {
        "id": "QQBR-qJPGCcp",
        "colab": {
          "base_uri": "https://localhost:8080/"
        },
        "outputId": "cd558979-3c57-44a4-97b3-3f63f1e480a2"
      },
      "outputs": [
        {
          "output_type": "stream",
          "name": "stdout",
          "text": [
            "Evaluation \t Proposed point \t  Current eval. \t  Best eval. \t        Exact EI: StdDev. x \t Approx EI: StdDev. x \n",
            "init\t [6.56980965 0.31127924]\t 19.863985024602144\t 2.710610964564512\t    \t    \n",
            "init\t [ 4.50472352 11.23205824]\t 103.66999147252169\t 2.710610964564512\t    \t    \n",
            "init\t [2.47760518 3.37194968]\t 2.710610964564512\t 2.710610964564512\t    \t    \n",
            "init\t [-2.02905703 11.40796068]\t 8.463930835255017\t 2.710610964564512\t    \t    \n",
            "init\t [-2.46333745  1.32509721]\t 90.49481266026973\t 2.710610964564512\t    \t    \n",
            "1  \t [ 9.16391068 14.81438212]\t 158.2412724465548\t 2.710610964564512\t 4.633475185943144\t 4.856549088456732\n",
            "2  \t [9.65621089 6.61160737]\t 16.1339423373336\t 2.710610964564512\t 4.531868088882084\t 4.758158781666425\n",
            "3  \t [-3.43070383  6.59407857]\t 41.58407101130534\t 2.710610964564512\t 4.536756511980913\t 4.592997361837028\n",
            "4  \t [ 0.96818967 15.        ]\t 124.01515892955138\t 2.710610964564512\t 5.470472997031114\t 5.650929279068344\n",
            "5  \t [5.26562048 6.20098174]\t 40.04142137111575\t 2.710610964564512\t 5.645669573352071\t 5.562492799286428\n",
            "6  \t [2.03162754 0.        ]\t 16.61852349658511\t 2.710610964564512\t 5.443717372933272\t 5.306154412290345\n",
            "7  \t [1.01047236 7.61600466]\t 24.66556920032004\t 2.710610964564512\t 4.725850226600163\t 6.096965334928671\n",
            "8  \t [-5.         10.18073998]\t 61.81647870589653\t 2.710610964564512\t 5.462568286554543\t 5.71692233267667\n",
            "9  \t [10.         10.49394986]\t 58.05812065646675\t 2.710610964564512\t 5.277941261539762\t 5.537861997010193\n",
            "10 \t [7.94022218 3.57703498]\t 13.456090850501838\t 2.710610964564512\t 5.170651422255862\t 5.267993008278892\n",
            "11 \t [-0.11817124  4.32816224]\t 23.001137198523924\t 2.710610964564512\t 4.418789267720502\t 4.771592565181004\n",
            "12 \t [-2.762562   14.08230486]\t 8.367504114526518\t 2.710610964564512\t 5.189404215413839\t 5.579941425138951\n",
            "13 \t [-5.          3.66717233]\t 195.51922766847932\t 2.710610964564512\t 5.216043499168967\t 5.611960770193241\n",
            "14 \t [ 5.39036255 14.85363852]\t 203.1398502099884\t 2.710610964564512\t 4.829165464126217\t 5.418040902399612\n",
            "15 \t [ 0.65134136 11.25312588]\t 56.51103445783228\t 2.710610964564512\t 5.604548881114506\t 5.398227850235908\n",
            "16 \t [7.30050102 8.6136563 ]\t 69.0342520627292\t 2.710610964564512\t 5.578845441776996\t 5.792090874720108\n",
            "17 \t [ 7.05244435 12.41994017]\t 142.76454466467493\t 2.710610964564512\t 5.211417933880484\t 5.740256690170851\n",
            "18 \t [4.0886307  3.23652145]\t 6.901239750644848\t 2.710610964564512\t 3.8442369537222185\t 4.02896930827171\n",
            "\u001b[1m\u001b[92m19\u001b[0m\t \u001b[1m\u001b[92m[10.         2.8805344]\u001b[0m\t \u001b[1m\u001b[92m1.958127859145474\u001b[0m\t \u001b[1m\u001b[92m1.958127859145474\u001b[0m\t \u001b[1m\u001b[92m3.91363025340406\u001b[0m\t \u001b[1m\u001b[92m4.280208726280923\u001b[0m\n",
            "20 \t [-1.76204958  9.04997081]\t 8.198923946980754\t 1.958127859145474\t 5.3484233044543\t 5.454779966786346\n"
          ]
        }
      ],
      "source": [
        "### EXACT GP EI GRADIENTS\n",
        "\n",
        "np.random.seed(run_num_10)\n",
        "surrogate_gp_10 = dGaussianProcess(cov_func, optimize=opt)\n",
        "\n",
        "gp_10 = dGPGO_gp(surrogate_gp_10, Acquisition_grad(util_gp), objfunc, param)\n",
        "gp_10.run(init_evals=n_init, max_iter=iters)\n"
      ]
    },
    {
      "cell_type": "code",
      "execution_count": 23,
      "metadata": {
        "id": "JS8ejeQ2GCfi",
        "colab": {
          "base_uri": "https://localhost:8080/"
        },
        "outputId": "b3177cb6-4e46-40d6-9c5a-7f9525b61114"
      },
      "outputs": [
        {
          "output_type": "stream",
          "name": "stdout",
          "text": [
            "Evaluation \t Proposed point \t  Current eval. \t  Best eval. \t        Exact EI: StdDev. x \t Approx EI: StdDev. x \n",
            "init\t [-2.29595467  0.29212862]\t 104.49282729548965\t 22.37435843952312\t    \t    \n",
            "init\t [ 1.9482779  10.87400894]\t 62.47758067812407\t 22.37435843952312\t    \t    \n",
            "init\t [1.30305407 7.28140647]\t 22.37435843952312\t 22.37435843952312\t    \t    \n",
            "init\t [-4.80828778  7.31057411]\t 97.94503054415523\t 22.37435843952312\t    \t    \n",
            "init\t [ 9.12709979 12.76192634]\t 111.62900800771942\t 22.37435843952312\t    \t    \n",
            "\u001b[1m\u001b[92m1\u001b[0m\t \u001b[1m\u001b[92m[6.94653631 0.95529646]\u001b[0m\t \u001b[1m\u001b[92m17.615403152614682\u001b[0m\t \u001b[1m\u001b[92m17.615403152614682\u001b[0m\t \u001b[1m\u001b[92m4.874316276916642\u001b[0m\t \u001b[1m\u001b[92m5.137820935750954\u001b[0m\n",
            "\u001b[1m\u001b[92m2\u001b[0m\t \u001b[1m\u001b[92m[9.28738882 6.14578118]\u001b[0m\t \u001b[1m\u001b[92m14.808790749874726\u001b[0m\t \u001b[1m\u001b[92m14.808790749874726\u001b[0m\t \u001b[1m\u001b[92m5.506028169438782\u001b[0m\t \u001b[1m\u001b[92m5.661407685502983\u001b[0m\n",
            "\u001b[1m\u001b[92m3\u001b[0m\t \u001b[1m\u001b[92m[2.54385739 0.04476512]\u001b[0m\t \u001b[1m\u001b[92m9.58430283129103\u001b[0m\t \u001b[1m\u001b[92m9.58430283129103\u001b[0m\t \u001b[1m\u001b[92m5.448696418711426\u001b[0m\t \u001b[1m\u001b[92m6.097729118009643\u001b[0m\n",
            "4  \t [ 4.54043559 15.        ]\t 192.31515921238574\t 9.58430283129103\t 4.244353329989661\t 4.987992177093464\n",
            "\u001b[1m\u001b[92m5\u001b[0m\t \u001b[1m\u001b[92m[-2.78845701 11.96288645]\u001b[0m\t \u001b[1m\u001b[92m1.2612701228696341\u001b[0m\t \u001b[1m\u001b[92m1.2612701228696341\u001b[0m\t \u001b[1m\u001b[92m5.139492996369046\u001b[0m\t \u001b[1m\u001b[92m5.142163597405813\u001b[0m\n",
            "6  \t [4.99074378 5.05294312]\t 26.913905406466366\t 1.2612701228696341\t 4.900839097846582\t 4.948537466999331\n",
            "7  \t [-0.18506082 14.68732815]\t 89.80291618540741\t 1.2612701228696341\t 5.118712975273819\t 5.409414573843769\n",
            "8  \t [6.22553301 9.18063219]\t 84.90549660847131\t 1.2612701228696341\t 4.738161467019023\t 5.003918773665121\n",
            "9  \t [0.35554859 3.60696505]\t 22.400019960224988\t 1.2612701228696341\t 4.935786512155746\t 5.126939719096816\n",
            "10 \t [-4.61329932  3.14393371]\t 176.69388802956092\t 1.2612701228696341\t 5.327275101434379\t 6.262250139345876\n",
            "11 \t [-5.         13.36925696]\t 27.301666173994466\t 1.2612701228696341\t 5.410482066546568\t 5.685816227216186\n",
            "12 \t [9.87581541 2.90868594]\t 1.3588692040375303\t 1.2612701228696341\t 5.2914361265710115\t 5.251024135148012\n",
            "13 \t [-1.40839824  9.05862644]\t 11.867063821352444\t 1.2612701228696341\t 5.654148271004933\t 5.230846567227246\n",
            "14 \t [9.80212913 9.37818875]\t 44.192245052676036\t 1.2612701228696341\t 5.248842781269936\t 5.3594557394707545\n",
            "\u001b[1m\u001b[92m15\u001b[0m\t \u001b[1m\u001b[92m[3.51214421 2.450997  ]\u001b[0m\t \u001b[1m\u001b[92m1.2496251948904433\u001b[0m\t \u001b[1m\u001b[92m1.2496251948904433\u001b[0m\t \u001b[1m\u001b[92m5.329415261106388\u001b[0m\t \u001b[1m\u001b[92m5.324909968269322\u001b[0m\n",
            "16 \t [8.08493465 3.57688428]\t 11.802669332554597\t 1.2496251948904433\t 5.5840911897209535\t 5.537352768940633\n",
            "17 \t [-1.69663552  6.07120048]\t 17.800539760092622\t 1.2496251948904433\t 4.208028305172016\t 4.51271450774242\n",
            "18 \t [9.94473912 1.77829676]\t 3.036350240464917\t 1.2496251948904433\t 4.77287719414805\t 4.985040988725845\n",
            "19 \t [-3.72854386 10.59665556]\t 11.82337510284313\t 1.2496251948904433\t 4.855721758884464\t 5.486691598760547\n",
            "20 \t [-1.64550271 11.83627901]\t 17.506399829213656\t 1.2496251948904433\t 5.360555022745836\t 5.8003235578699694\n"
          ]
        }
      ],
      "source": [
        "### EXACT GP EI GRADIENTS\n",
        "\n",
        "np.random.seed(run_num_11)\n",
        "surrogate_gp_11 = dGaussianProcess(cov_func, optimize=opt)\n",
        "\n",
        "gp_11 = dGPGO_gp(surrogate_gp_11, Acquisition_grad(util_gp), objfunc, param)\n",
        "gp_11.run(init_evals=n_init, max_iter=iters)\n"
      ]
    },
    {
      "cell_type": "code",
      "execution_count": 24,
      "metadata": {
        "id": "DXwjUVZ4GCii",
        "colab": {
          "base_uri": "https://localhost:8080/"
        },
        "outputId": "1b6811be-a506-4ab1-97b1-a200a892c650"
      },
      "outputs": [
        {
          "output_type": "stream",
          "name": "stdout",
          "text": [
            "Evaluation \t Proposed point \t  Current eval. \t  Best eval. \t        Exact EI: StdDev. x \t Approx EI: StdDev. x \n",
            "init\t [-2.68755736 11.10074545]\t 1.3827702760021356\t 0.5499315281120278\t    \t    \n",
            "init\t [-1.05027477  8.0060909 ]\t 14.81231853080056\t 0.5499315281120278\t    \t    \n",
            "init\t [-4.78137556 13.78120512]\t 18.401131000214548\t 0.5499315281120278\t    \t    \n",
            "init\t [8.51072281 0.50132141]\t 5.855172364344769\t 0.5499315281120278\t    \t    \n",
            "init\t [9.35424004 2.05813982]\t 0.5499315281120278\t 0.5499315281120278\t    \t    \n",
            "1  \t [10.         4.2917554]\t 3.604142984594371\t 0.5499315281120278\t 4.797036635424069\t 4.21916598043625\n",
            "2  \t [ 9.19833734 12.85785838]\t 112.3096138370831\t 0.5499315281120278\t 5.008107839472354\t 4.454417158523425\n",
            "3  \t [-4.8799499   0.15657603]\t 290.0404981832191\t 0.5499315281120278\t 5.363332189284486\t 5.021902195828354\n",
            "4  \t [2.31082274 1.96051811]\t 4.630930870259078\t 0.5499315281120278\t 4.352334193629211\t 4.259589137507181\n",
            "5  \t [4.84411484 8.7761414 ]\t 66.82952699849903\t 0.5499315281120278\t 4.830510804248314\t 4.829444863191923\n",
            "6  \t [ 2.01644576 13.63114238]\t 112.26327042119459\t 0.5499315281120278\t 5.684837961580413\t 5.846531454339222\n",
            "7  \t [-5.          5.48610464]\t 149.64313048168344\t 0.5499315281120278\t 5.172612411583082\t 5.251212991072352\n",
            "8  \t [9.91777015 8.21247811]\t 29.527850223409104\t 0.5499315281120278\t 5.2514355638989025\t 5.246792462750484\n",
            "9  \t [5.83605685 4.11212784]\t 27.661352282770494\t 0.5499315281120278\t 4.4240922011908985\t 4.210336529830352\n",
            "10 \t [-0.41259758  0.        ]\t 63.40084360945968\t 0.5499315281120278\t 5.249708718612364\t 5.497841999519475\n",
            "11 \t [-5.          9.73650373]\t 68.23901363739964\t 0.5499315281120278\t 5.35996378554235\t 5.374935842148851\n",
            "12 \t [ 5.81229962 15.        ]\t 211.38764072010517\t 0.5499315281120278\t 4.093046153578163\t 4.400108446355252\n",
            "13 \t [1.70927602 5.55502955]\t 12.27694534891511\t 0.5499315281120278\t 4.026790529997313\t 4.094160806493768\n",
            "14 \t [-1.25433527  3.80359406]\t 32.31300814999328\t 0.5499315281120278\t 5.054018771616249\t 5.180153269023243\n",
            "15 \t [5.02410618 0.        ]\t 14.544412167304742\t 0.5499315281120278\t 4.850722551905328\t 5.02121027245708\n",
            "16 \t [-1.64209086 15.        ]\t 45.775740647302655\t 0.5499315281120278\t 5.003509166805156\t 5.009389500779567\n",
            "17 \t [1.54730283 9.54676263]\t 42.71653531010302\t 0.5499315281120278\t 5.237925880578935\t 4.975188937521611\n",
            "18 \t [-1.28563115 11.40135005]\t 22.57139472963668\t 0.5499315281120278\t 6.118403975425488\t 5.6806391444023925\n",
            "19 \t [9.71853522 2.52537767]\t 0.8527132899758332\t 0.5499315281120278\t 4.943683184411396\t 4.986140042447799\n",
            "20 \t [7.47692657 6.55484485]\t 40.917086051105855\t 0.5499315281120278\t 4.138737997735653\t 4.191968756912145\n"
          ]
        }
      ],
      "source": [
        "### EXACT GP EI GRADIENTS\n",
        "\n",
        "np.random.seed(run_num_12)\n",
        "surrogate_gp_12 = dGaussianProcess(cov_func, optimize=opt)\n",
        "\n",
        "gp_12 = dGPGO_gp(surrogate_gp_12, Acquisition_grad(util_gp), objfunc, param)\n",
        "gp_12.run(init_evals=n_init, max_iter=iters)\n"
      ]
    },
    {
      "cell_type": "code",
      "execution_count": 25,
      "metadata": {
        "id": "CphOPndPGClX",
        "colab": {
          "base_uri": "https://localhost:8080/"
        },
        "outputId": "94eb64c1-0eaf-4bec-8f73-a2001844630c"
      },
      "outputs": [
        {
          "output_type": "stream",
          "name": "stdout",
          "text": [
            "Evaluation \t Proposed point \t  Current eval. \t  Best eval. \t        Exact EI: StdDev. x \t Approx EI: StdDev. x \n",
            "init\t [6.66553616 3.5631183 ]\t 24.823670200298267\t 18.038943061558626\t    \t    \n",
            "init\t [ 7.36417799 14.48623797]\t 188.7803334745195\t 18.038943061558626\t    \t    \n",
            "init\t [9.58901671 6.80173871]\t 18.038943061558626\t 18.038943061558626\t    \t    \n",
            "init\t [ 4.13563694 11.63289772]\t 104.87319703906111\t 18.038943061558626\t    \t    \n",
            "init\t [ 4.62420017 10.83027344]\t 98.03271225790056\t 18.038943061558626\t    \t    \n",
            "1  \t [-5.  0.]\t 308.12909601160663\t 18.038943061558626\t 5.591453158814838\t 5.529010593146355\n",
            "\u001b[1m\u001b[92m2\u001b[0m\t \u001b[1m\u001b[92m[-3.06562888 11.40851515]\u001b[0m\t \u001b[1m\u001b[92m0.8943531028899869\u001b[0m\t \u001b[1m\u001b[92m0.8943531028899869\u001b[0m\t \u001b[1m\u001b[92m4.450121985749643\u001b[0m\t \u001b[1m\u001b[92m5.024413928239849\u001b[0m\n",
            "3  \t [-0.77721745  5.55115316]\t 19.956248293009427\t 0.8943531028899869\t 5.48620809578768\t 5.745526096118713\n",
            "4  \t [-0.24948802 15.        ]\t 93.17689500314201\t 0.8943531028899869\t 5.9492137041854045\t 6.244282747027832\n",
            "5  \t [2.24297905 0.        ]\t 13.507883026233038\t 0.8943531028899869\t 5.163381049137952\t 5.332737545836319\n",
            "6  \t [-5.          5.28665565]\t 154.35051756072184\t 0.8943531028899869\t 5.070407406296715\t 5.628371352939442\n",
            "7  \t [3.49764332 6.24904563]\t 18.93821276490805\t 0.8943531028899869\t 5.527079342201665\t 5.6249436485499675\n",
            "8  \t [0.1330055  9.52209063]\t 33.441323493506054\t 0.8943531028899869\t 4.71667267890763\t 4.985953888585852\n",
            "9  \t [10.         10.78922699]\t 62.56914709872043\t 0.8943531028899869\t 5.156878181615533\t 5.515531802080464\n",
            "10 \t [-0.92831084  1.79465985]\t 49.32527682039021\t 0.8943531028899869\t 4.912637915555713\t 5.548707888992839\n",
            "11 \t [10.          2.34599735]\t 2.374736122313256\t 0.8943531028899869\t 5.364512054019939\t 6.524025302929015\n",
            "12 \t [6.27024657 0.        ]\t 20.810450559762344\t 0.8943531028899869\t 4.6837117768468435\t 5.350208513073702\n",
            "13 \t [-4.80002934  9.45928692]\t 62.05801658060028\t 0.8943531028899869\t 5.78094156298858\t 6.54232694372766\n",
            "\u001b[1m\u001b[92m14\u001b[0m\t \u001b[1m\u001b[92m[-3.31431208 12.77757262]\u001b[0m\t \u001b[1m\u001b[92m0.5477511752924471\u001b[0m\t \u001b[1m\u001b[92m0.5477511752924471\u001b[0m\t \u001b[1m\u001b[92m4.580195378934298\u001b[0m\t \u001b[1m\u001b[92m5.884602226894809\u001b[0m\n",
            "15 \t [-4.90448245 13.24427689]\t 25.293617388650464\t 0.5477511752924471\t 5.4562299158232195\t 5.790670664102295\n",
            "16 \t [2.99675887 3.0237469 ]\t 0.899221563975825\t 0.5477511752924471\t 4.914489900212575\t 5.1441198961876475\n",
            "17 \t [6.54094574 7.54214436]\t 60.57009683036506\t 0.5477511752924471\t 5.624027606952809\t 5.789010077202204\n",
            "18 \t [1.84963948 3.68095808]\t 7.390491087598858\t 0.5477511752924471\t 4.614046863876877\t 4.572597067610044\n",
            "19 \t [3.72213456 2.83138554]\t 2.9034036119451967\t 0.5477511752924471\t 5.434260688313305\t 5.577706194696277\n",
            "20 \t [-2.61803296 12.67726494]\t 4.325066076777643\t 0.5477511752924471\t 6.027051535141632\t 6.119915289978737\n"
          ]
        }
      ],
      "source": [
        "### EXACT GP EI GRADIENTS\n",
        "\n",
        "np.random.seed(run_num_13)\n",
        "surrogate_gp_13 = dGaussianProcess(cov_func, optimize=opt)\n",
        "\n",
        "gp_13 = dGPGO_gp(surrogate_gp_13, Acquisition_grad(util_gp), objfunc, param)\n",
        "gp_13.run(init_evals=n_init, max_iter=iters)\n"
      ]
    },
    {
      "cell_type": "code",
      "execution_count": 26,
      "metadata": {
        "id": "ojHTeARNGCoi",
        "colab": {
          "base_uri": "https://localhost:8080/"
        },
        "outputId": "0b456fca-acc2-4ba2-f434-784c0e2cae99"
      },
      "outputs": [
        {
          "output_type": "stream",
          "name": "stdout",
          "text": [
            "Evaluation \t Proposed point \t  Current eval. \t  Best eval. \t        Exact EI: StdDev. x \t Approx EI: StdDev. x \n",
            "init\t [ 2.70915016 11.59747578]\t 81.58264375064097\t 1.4149920024014744\t    \t    \n",
            "init\t [8.05641529 0.12070423]\t 10.148649076616518\t 1.4149920024014744\t    \t    \n",
            "init\t [-0.35396112 14.36405609]\t 79.6056658956529\t 1.4149920024014744\t    \t    \n",
            "init\t [2.69675068 4.77426637]\t 5.855607664288365\t 1.4149920024014744\t    \t    \n",
            "init\t [3.08799906 3.31882414]\t 1.4149920024014744\t 1.4149920024014744\t    \t    \n",
            "1  \t [-4.22572169  4.73878507]\t 111.46482334173054\t 1.4149920024014744\t 5.334127401745119\t 5.650793503051254\n",
            "2  \t [ 9.02510452 14.92575454]\t 164.15736583327134\t 1.4149920024014744\t 5.568291436744103\t 6.448265975129145\n",
            "3  \t [8.4415984  6.61360555]\t 28.132050221972662\t 1.4149920024014744\t 4.830684115447563\t 6.137688702844825\n",
            "4  \t [-0.6348753  0.       ]\t 67.61008168553072\t 1.4149920024014744\t 4.304840903704865\t 4.3951952621846075\n",
            "5  \t [-2.40015779  9.60941637]\t 3.8299944025381123\t 1.4149920024014744\t 4.468416802230639\t 5.905727494807351\n",
            "6  \t [ 7.23036704 10.62018868]\t 103.48188921884048\t 1.4149920024014744\t 4.496578171309726\t 5.1639576512711445\n",
            "7  \t [10.          3.08569949]\t 1.9499870470857505\t 1.4149920024014744\t 3.8791770237710774\t 4.420845426849168\n",
            "8  \t [-5.         13.12598231]\t 29.21854407846937\t 1.4149920024014744\t 5.302576879848112\t 5.296976768363417\n",
            "9  \t [-5.  0.]\t 308.12909601160663\t 1.4149920024014744\t 5.419619612686581\t 5.474852012865612\n",
            "10 \t [3.81718987 0.35764269]\t 4.608055435820795\t 1.4149920024014744\t 4.732856150511243\t 4.749447106550239\n",
            "11 \t [ 4.73297197 15.        ]\t 196.2170449024405\t 1.4149920024014744\t 4.716172769495064\t 4.52142177770724\n",
            "12 \t [5.86460467 3.7334441 ]\t 25.659208254997083\t 1.4149920024014744\t 4.786835259735879\t 4.886744230611789\n",
            "13 \t [0.22924746 7.99065372]\t 24.86739965679198\t 1.4149920024014744\t 4.84958928371703\t 4.822427161783548\n",
            "14 \t [4.16184    7.76735316]\t 42.84258223436467\t 1.4149920024014744\t 5.403908012123102\t 5.766244807019723\n",
            "15 \t [-0.38900439  4.28274191]\t 24.435101215447954\t 1.4149920024014744\t 5.368414228002577\t 5.389013553163931\n",
            "16 \t [-4.97973113  8.44579078]\t 87.93417808017053\t 1.4149920024014744\t 5.317008029459554\t 5.722052626852753\n",
            "17 \t [5.5911543  0.04197834]\t 18.59846086462394\t 1.4149920024014744\t 5.362657221143091\t 5.599850800964225\n",
            "18 \t [8.79961473 2.52422178]\t 2.4907088283548564\t 1.4149920024014744\t 4.4658437271980675\t 4.3726889272047105\n",
            "19 \t [2.66167425 1.27068607]\t 3.4660253665962424\t 1.4149920024014744\t 4.9916158196330915\t 4.952521837222979\n",
            "20 \t [-1.50421271 11.24621613]\t 17.191893340339796\t 1.4149920024014744\t 4.791632712562885\t 4.910289830225533\n"
          ]
        }
      ],
      "source": [
        "### EXACT GP EI GRADIENTS\n",
        "\n",
        "np.random.seed(run_num_14)\n",
        "surrogate_gp_14 = dGaussianProcess(cov_func, optimize=opt)\n",
        "\n",
        "gp_14 = dGPGO_gp(surrogate_gp_14, Acquisition_grad(util_gp), objfunc, param)\n",
        "gp_14.run(init_evals=n_init, max_iter=iters)\n"
      ]
    },
    {
      "cell_type": "code",
      "execution_count": 27,
      "metadata": {
        "id": "vCJzn4vWGCs3",
        "colab": {
          "base_uri": "https://localhost:8080/"
        },
        "outputId": "78edf498-72eb-4de8-81c5-eb01caace6e1"
      },
      "outputs": [
        {
          "output_type": "stream",
          "name": "stdout",
          "text": [
            "Evaluation \t Proposed point \t  Current eval. \t  Best eval. \t        Exact EI: StdDev. x \t Approx EI: StdDev. x \n",
            "init\t [7.73226546 2.68343887]\t 12.768724532005583\t 12.768724532005583\t    \t    \n",
            "init\t [-4.18455179  5.42307669]\t 95.39334176626551\t 12.768724532005583\t    \t    \n",
            "init\t [-0.86898607  7.95000337]\t 16.419487782111716\t 12.768724532005583\t    \t    \n",
            "init\t [-0.41121626  4.56711539]\t 23.250362743740954\t 12.768724532005583\t    \t    \n",
            "init\t [-3.32388086  3.74848521]\t 80.99796277938532\t 12.768724532005583\t    \t    \n",
            "1  \t [10. 15.]\t 145.87219087939556\t 12.768724532005583\t 5.513008539743212\t 4.929197982544672\n",
            "2  \t [-4.77493765 13.49591113]\t 19.896906503438096\t 12.768724532005583\t 5.331642034722968\t 5.505691419513752\n",
            "3  \t [ 3.80261319 11.96078244]\t 105.3381651976412\t 12.768724532005583\t 5.27904383977932\t 5.24289745677543\n",
            "4  \t [8.63272613 8.32488519]\t 44.68998814179533\t 12.768724532005583\t 5.1024344505545995\t 5.659667403878699\n",
            "\u001b[1m\u001b[92m5\u001b[0m\t \u001b[1m\u001b[92m[2.63098807 0.01106722]\u001b[0m\t \u001b[1m\u001b[92m8.890052611403327\u001b[0m\t \u001b[1m\u001b[92m8.890052611403327\u001b[0m\t \u001b[1m\u001b[92m5.898695205072629\u001b[0m\t \u001b[1m\u001b[92m5.872379240828305\u001b[0m\n",
            "6  \t [4.00168618 6.51255375]\t 26.898368577701646\t 8.890052611403327\t 5.344827398097018\t 4.939657669905545\n",
            "7  \t [-1.40724858  0.        ]\t 83.73754499640867\t 8.890052611403327\t 4.563675835327452\t 5.080270338526267\n",
            "8  \t [-0.25920208 15.        ]\t 92.87695097448946\t 8.890052611403327\t 5.6869038880351\t 6.43527007101193\n",
            "\u001b[1m\u001b[92m9\u001b[0m\t \u001b[1m\u001b[92m[3.61319085 3.0311653 ]\u001b[0m\t \u001b[1m\u001b[92m2.6455160649188842\u001b[0m\t \u001b[1m\u001b[92m2.6455160649188842\u001b[0m\t \u001b[1m\u001b[92m4.639465957579628\u001b[0m\t \u001b[1m\u001b[92m5.470713080728352\u001b[0m\n",
            "10 \t [-4.06847001  9.59158085]\t 29.45510497817347\t 2.6455160649188842\t 4.980371124717557\t 5.544603943389428\n",
            "11 \t [-5.  0.]\t 308.12909601160663\t 2.6455160649188842\t 5.224915834907464\t 5.437936328843081\n",
            "12 \t [-0.77793435 11.29116954]\t 32.63978577537418\t 2.6455160649188842\t 4.486080538561113\t 4.49131895600043\n",
            "13 \t [ 7.29495093 12.4883381 ]\t 141.06833598000512\t 2.6455160649188842\t 5.540659278556822\t 6.078220326130368\n",
            "14 \t [10.          4.91708611]\t 5.607032443023641\t 2.6455160649188842\t 4.856601657211164\t 4.898109088448749\n",
            "15 \t [1.67894419 9.19851899]\t 39.28500108182337\t 2.6455160649188842\t 4.367515090511349\t 4.628797271408825\n",
            "16 \t [7.66749604 5.14812308]\t 25.89159254231835\t 2.6455160649188842\t 5.790655827023514\t 6.067813973691785\n",
            "17 \t [5.08330669 9.19463846]\t 76.63281136023525\t 2.6455160649188842\t 5.073946622681341\t 5.339348345947604\n",
            "18 \t [5.4554963  0.60383109]\t 16.808315376835758\t 2.6455160649188842\t 5.064808325140856\t 5.482956425010817\n",
            "19 \t [5.21169875 3.43601347]\t 19.53409967079577\t 2.6455160649188842\t 4.909007623661539\t 5.061306851208764\n",
            "20 \t [ 5.68303817 15.        ]\t 210.37247823470142\t 2.6455160649188842\t 4.650642148757655\t 4.872118187997873\n"
          ]
        }
      ],
      "source": [
        "### EXACT GP EI GRADIENTS\n",
        "\n",
        "np.random.seed(run_num_15)\n",
        "surrogate_gp_15 = dGaussianProcess(cov_func, optimize=opt)\n",
        "\n",
        "gp_15 = dGPGO_gp(surrogate_gp_15, Acquisition_grad(util_gp), objfunc, param)\n",
        "gp_15.run(init_evals=n_init, max_iter=iters)\n"
      ]
    },
    {
      "cell_type": "code",
      "execution_count": 28,
      "metadata": {
        "id": "bGGkhp-kGCw6",
        "colab": {
          "base_uri": "https://localhost:8080/"
        },
        "outputId": "7aef49c7-8467-4f78-e779-277fd469ea37"
      },
      "outputs": [
        {
          "output_type": "stream",
          "name": "stdout",
          "text": [
            "Evaluation \t Proposed point \t  Current eval. \t  Best eval. \t        Exact EI: StdDev. x \t Approx EI: StdDev. x \n",
            "init\t [-1.65063381  7.84745012]\t 10.514702126319445\t 2.715864006988424\t    \t    \n",
            "init\t [3.26052185 0.68402925]\t 2.715864006988424\t 2.715864006988424\t    \t    \n",
            "init\t [0.41093253 3.34621413]\t 22.889515127492515\t 2.715864006988424\t    \t    \n",
            "init\t [5.33089243 2.45597138]\t 17.178157611778595\t 2.715864006988424\t    \t    \n",
            "init\t [-3.945127  14.1151629]\t 3.3649224341694195\t 2.715864006988424\t    \t    \n",
            "1  \t [ 5.63879248 14.58068289]\t 198.51319639462758\t 2.715864006988424\t 5.624085826757564\t 5.543292038414135\n",
            "2  \t [-5.          0.76360453]\t 282.4634960240413\t 2.715864006988424\t 5.871008204132948\t 5.3454243550994205\n",
            "3  \t [6.4086727  8.01053377]\t 67.19879991173286\t 2.715864006988424\t 5.119355070088669\t 5.63244466448665\n",
            "4  \t [ 1.37630907 11.42929673]\t 66.24718744041212\t 2.715864006988424\t 4.974356769948668\t 5.528194937684192\n",
            "5  \t [-5.         10.21600199]\t 61.323587189474544\t 2.715864006988424\t 5.488709469191308\t 5.661427939235714\n",
            "6  \t [10.         4.0174364]\t 2.9723099203221883\t 2.715864006988424\t 5.982345768752222\t 6.269558443223643\n",
            "7  \t [10.         11.64579395]\t 76.64177808743001\t 2.715864006988424\t 4.532104850747165\t 4.7002687403821755\n",
            "8  \t [2.37025999 6.80135031]\t 17.922255544951717\t 2.715864006988424\t 4.718582346231335\t 5.275432267125301\n",
            "9  \t [8.62900177 0.84186346]\t 4.370397698747435\t 2.715864006988424\t 4.778083610679852\t 5.361226301243906\n",
            "10 \t [-5.          5.57680421]\t 147.528759283989\t 2.715864006988424\t 4.983528513679394\t 5.470958212744035\n",
            "11 \t [-0.60075742  0.        ]\t 66.95949101400782\t 2.715864006988424\t 4.981695916591839\t 5.1274193863055855\n",
            "12 \t [-1.98556555 12.49323228]\t 14.104401720295524\t 2.715864006988424\t 4.671803137026942\t 5.049931786832224\n",
            "13 \t [ 0.49808598 15.        ]\t 113.7062993358486\t 2.715864006988424\t 4.113993438257348\t 4.9215723066576\n",
            "14 \t [10. 15.]\t 145.87219087939556\t 2.715864006988424\t 5.002457585431976\t 4.62711504069066\n",
            "15 \t [6.02532716 4.94305188]\t 34.05076542395406\t 2.715864006988424\t 4.730810279478658\t 4.471620445280661\n",
            "16 \t [10.         7.4930357]\t 22.103950953638623\t 2.715864006988424\t 4.727462405949886\t 4.555139136722819\n",
            "17 \t [ 4.4639101  11.23526934]\t 103.00566630125667\t 2.715864006988424\t 5.422131207412789\t 5.6623625006349325\n",
            "18 \t [-2.33079398  3.50645045]\t 51.062990238156985\t 2.715864006988424\t 5.250728458603084\t 5.364683337286438\n",
            "19 \t [8.79457482 2.76382139]\t 2.8339002481106537\t 2.715864006988424\t 4.474257295009167\t 4.65520124320551\n",
            "20 \t [6.38103885 0.        ]\t 20.775770489177802\t 2.715864006988424\t 5.566220879627405\t 5.6055548633540075\n"
          ]
        }
      ],
      "source": [
        "### EXACT GP EI GRADIENTS\n",
        "\n",
        "np.random.seed(run_num_16)\n",
        "surrogate_gp_16 = dGaussianProcess(cov_func, optimize=opt)\n",
        "\n",
        "gp_16 = dGPGO_gp(surrogate_gp_16, Acquisition_grad(util_gp), objfunc, param)\n",
        "gp_16.run(init_evals=n_init, max_iter=iters)\n"
      ]
    },
    {
      "cell_type": "code",
      "execution_count": 29,
      "metadata": {
        "id": "Yrs2mp7hGC1Z",
        "colab": {
          "base_uri": "https://localhost:8080/"
        },
        "outputId": "f00158ef-f3ff-4202-93a1-5b0bd654c193"
      },
      "outputs": [
        {
          "output_type": "stream",
          "name": "stdout",
          "text": [
            "Evaluation \t Proposed point \t  Current eval. \t  Best eval. \t        Exact EI: StdDev. x \t Approx EI: StdDev. x \n",
            "init\t [-0.58002496  7.95880133]\t 19.016141117164256\t 19.016141117164256\t    \t    \n",
            "init\t [-2.1271882   1.01850537]\t 85.05949339404415\t 19.016141117164256\t    \t    \n",
            "init\t [6.8047819  9.84500283]\t 93.89792695202516\t 19.016141117164256\t    \t    \n",
            "init\t [4.56281344 8.63404341]\t 60.50217141122736\t 19.016141117164256\t    \t    \n",
            "init\t [-4.41405626  5.36720407]\t 110.70834086593878\t 19.016141117164256\t    \t    \n",
            "\u001b[1m\u001b[92m1\u001b[0m\t \u001b[1m\u001b[92m[9.76575296 0.98553483]\u001b[0m\t \u001b[1m\u001b[92m4.1623278326263815\u001b[0m\t \u001b[1m\u001b[92m4.1623278326263815\u001b[0m\t \u001b[1m\u001b[92m6.1928033638359485\u001b[0m\t \u001b[1m\u001b[92m7.266313248029945\u001b[0m\n",
            "2  \t [-0.36591853 14.49945231]\t 81.3728947682288\t 4.1623278326263815\t 4.929903673320193\t 5.099048182921426\n",
            "\u001b[1m\u001b[92m3\u001b[0m\t \u001b[1m\u001b[92m[3.74599703 2.35814314]\u001b[0m\t \u001b[1m\u001b[92m2.3563457989420957\u001b[0m\t \u001b[1m\u001b[92m2.3563457989420957\u001b[0m\t \u001b[1m\u001b[92m4.741204576207125\u001b[0m\t \u001b[1m\u001b[92m4.686248127083818\u001b[0m\n",
            "4  \t [10.         14.92965946]\t 144.18938157396997\t 2.3563457989420957\t 5.654132934548375\t 5.821037819563722\n",
            "5  \t [9.39679852 5.53959908]\t 9.938002284241987\t 2.3563457989420957\t 5.066610382949073\t 5.48412931271079\n",
            "6  \t [-5.         11.20259998]\t 48.541107314045135\t 2.3563457989420957\t 5.395703611789276\t 5.468431396701193\n",
            "7  \t [ 4.76695041 15.        ]\t 196.88087701650383\t 2.3563457989420957\t 5.29759752156103\t 5.114240016320513\n",
            "8  \t [6.73796408 3.08155542]\t 22.391137470039823\t 2.3563457989420957\t 5.359007277891074\t 5.435038137078414\n",
            "9  \t [1.88309531 0.        ]\t 19.02868052761021\t 2.3563457989420957\t 5.4016255820593395\t 5.74680858745931\n",
            "10 \t [1.4730599  4.12354892]\t 10.972205983874675\t 2.3563457989420957\t 4.780819394763839\t 4.731308162728614\n",
            "11 \t [5.44913328 0.01944045]\t 17.759923373023906\t 2.3563457989420957\t 5.574413157603805\t 5.7118197746694985\n",
            "12 \t [ 1.72118454 11.04222898]\t 63.30471743941411\t 2.3563457989420957\t 5.741265313434381\t 5.712919940590309\n",
            "13 \t [-1.87389928 11.38287603]\t 10.924123007194773\t 2.3563457989420957\t 5.087720642195074\t 5.018169846634921\n",
            "14 \t [10.          8.89995637]\t 36.71774692163328\t 2.3563457989420957\t 4.652108684011668\t 4.752372372484765\n",
            "15 \t [4.71877166 4.95775684]\t 22.959360162540797\t 2.3563457989420957\t 5.144375134435175\t 5.472974785589936\n",
            "\u001b[1m\u001b[92m16\u001b[0m\t \u001b[1m\u001b[92m[-3.7047003  14.16477824]\u001b[0m\t \u001b[1m\u001b[92m2.126003258125605\u001b[0m\t \u001b[1m\u001b[92m2.126003258125605\u001b[0m\t \u001b[1m\u001b[92m4.79820422576344\u001b[0m\t \u001b[1m\u001b[92m4.745725167103916\u001b[0m\n",
            "17 \t [-5.  0.]\t 308.12909601160663\t 2.126003258125605\t 3.9735429665410247\t 4.587134654600399\n",
            "18 \t [2.05472744 6.59507853]\t 16.554061429130698\t 2.126003258125605\t 4.850855607625583\t 4.935763855506514\n",
            "19 \t [-2.9661298   8.28122846]\t 13.333592639338177\t 2.126003258125605\t 5.043536210757377\t 5.169165558760208\n",
            "\u001b[1m\u001b[92m20\u001b[0m\t \u001b[1m\u001b[92m[9.9683401  3.23455468]\u001b[0m\t \u001b[1m\u001b[92m1.8509281105180406\u001b[0m\t \u001b[1m\u001b[92m1.8509281105180406\u001b[0m\t \u001b[1m\u001b[92m4.8932056433263\u001b[0m\t \u001b[1m\u001b[92m4.877462555320599\u001b[0m\n"
          ]
        }
      ],
      "source": [
        "### EXACT GP EI GRADIENTS\n",
        "\n",
        "np.random.seed(run_num_17)\n",
        "surrogate_gp_17 = dGaussianProcess(cov_func, optimize=opt)\n",
        "\n",
        "gp_17 = dGPGO_gp(surrogate_gp_17, Acquisition_grad(util_gp), objfunc, param)\n",
        "gp_17.run(init_evals=n_init, max_iter=iters)\n"
      ]
    },
    {
      "cell_type": "code",
      "execution_count": 30,
      "metadata": {
        "id": "f0HIEP3PIUEa",
        "colab": {
          "base_uri": "https://localhost:8080/"
        },
        "outputId": "c13d8c76-0bd1-462a-e9a3-90d03086fc2b"
      },
      "outputs": [
        {
          "output_type": "stream",
          "name": "stdout",
          "text": [
            "Evaluation \t Proposed point \t  Current eval. \t  Best eval. \t        Exact EI: StdDev. x \t Approx EI: StdDev. x \n",
            "init\t [4.75561363 7.58180061]\t 49.215059064668324\t 8.150075223157177\t    \t    \n",
            "init\t [8.17902206 2.72760338]\t 8.150075223157177\t 8.150075223157177\t    \t    \n",
            "init\t [ 7.78349603 11.25204429]\t 106.98107856533271\t 8.150075223157177\t    \t    \n",
            "init\t [ 4.99152501 14.81843172]\t 196.08601750690153\t 8.150075223157177\t    \t    \n",
            "init\t [-1.14547366  0.42458888]\t 71.23649635555944\t 8.150075223157177\t    \t    \n",
            "1  \t [-4.83474958 11.77354131]\t 35.58412906267954\t 8.150075223157177\t 5.4564212992775305\t 5.198211197250047\n",
            "2  \t [-1.31027796  6.26018244]\t 16.663442406570503\t 8.150075223157177\t 5.450102520284124\t 4.960955963030882\n",
            "3  \t [ 0.35908684 11.68414639]\t 57.91470988730182\t 8.150075223157177\t 5.040401931063725\t 4.581409010512777\n",
            "\u001b[1m\u001b[92m4\u001b[0m\t \u001b[1m\u001b[92m[4.16866889 0.        ]\u001b[0m\t \u001b[1m\u001b[92m7.625670656251107\u001b[0m\t \u001b[1m\u001b[92m7.625670656251107\u001b[0m\t \u001b[1m\u001b[92m5.979243046371243\u001b[0m\t \u001b[1m\u001b[92m5.815469983182905\u001b[0m\n",
            "5  \t [10. 15.]\t 145.87219087939556\t 7.625670656251107\t 4.85121047028174\t 5.003284068472012\n",
            "6  \t [-5.          3.31100639]\t 205.27694256191015\t 7.625670656251107\t 5.021927057395277\t 5.722265424833936\n",
            "7  \t [10.          6.83388238]\t 16.61913292412361\t 7.625670656251107\t 4.39260860988063\t 4.672516097456038\n",
            "\u001b[1m\u001b[92m8\u001b[0m\t \u001b[1m\u001b[92m[1.91893934 4.15428297]\u001b[0m\t \u001b[1m\u001b[92m7.26101761917622\u001b[0m\t \u001b[1m\u001b[92m7.26101761917622\u001b[0m\t \u001b[1m\u001b[92m4.793811641111518\u001b[0m\t \u001b[1m\u001b[92m4.464490709379952\u001b[0m\n",
            "9  \t [-1.9875475 15.       ]\t 34.483643171373785\t 7.26101761917622\t 5.631753946834881\t 5.749130864183809\n",
            "10 \t [5.08711682 3.3237184 ]\t 17.82841116968373\t 7.26101761917622\t 5.4485096199841925\t 5.96344117918909\n",
            "11 \t [-5.          7.78764073]\t 101.0784764992863\t 7.26101761917622\t 5.430136069741557\t 5.330235335872916\n",
            "12 \t [1.40949089 7.73434554]\t 25.38780997399318\t 7.26101761917622\t 4.88086324529898\t 5.237931129741279\n",
            "\u001b[1m\u001b[92m13\u001b[0m\t \u001b[1m\u001b[92m[9.03261402 0.        ]\u001b[0m\t \u001b[1m\u001b[92m5.810034234100345\u001b[0m\t \u001b[1m\u001b[92m5.810034234100345\u001b[0m\t \u001b[1m\u001b[92m5.036381135917154\u001b[0m\t \u001b[1m\u001b[92m4.7130602998676725\u001b[0m\n",
            "14 \t [ 3.71765027 11.1657217 ]\t 88.38351459141313\t 5.810034234100345\t 4.492800917241701\t 4.539782973366193\n",
            "15 \t [-1.81885685  9.65554599]\t 7.753584778277769\t 5.810034234100345\t 5.091209191172838\t 5.07459063159741\n",
            "16 \t [6.58523601 0.09222466]\t 20.22661345150606\t 5.810034234100345\t 4.781956082613301\t 5.278466731238862\n",
            "\u001b[1m\u001b[92m17\u001b[0m\t \u001b[1m\u001b[92m[10.          4.06865332]\u001b[0m\t \u001b[1m\u001b[92m3.078850151318427\u001b[0m\t \u001b[1m\u001b[92m3.078850151318427\u001b[0m\t \u001b[1m\u001b[92m6.003890337754568\u001b[0m\t \u001b[1m\u001b[92m6.404771229710673\u001b[0m\n",
            "18 \t [2.15483299 1.41554252]\t 7.784677230602309\t 3.078850151318427\t 4.3096016918199975\t 4.515340850241452\n",
            "19 \t [-5.  0.]\t 308.12909601160663\t 3.078850151318427\t 4.809127015080826\t 4.954407964256578\n",
            "20 \t [ 1.27329956 15.        ]\t 129.8237238043874\t 3.078850151318427\t 5.120852377728859\t 5.058908051674953\n"
          ]
        }
      ],
      "source": [
        "### EXACT GP EI GRADIENTS\n",
        "\n",
        "np.random.seed(run_num_18)\n",
        "surrogate_gp_18 = dGaussianProcess(cov_func, optimize=opt)\n",
        "\n",
        "gp_18 = dGPGO_gp(surrogate_gp_18, Acquisition_grad(util_gp), objfunc, param)\n",
        "gp_18.run(init_evals=n_init, max_iter=iters)\n"
      ]
    },
    {
      "cell_type": "code",
      "execution_count": 31,
      "metadata": {
        "id": "S3mxRQDLIUPC",
        "colab": {
          "base_uri": "https://localhost:8080/"
        },
        "outputId": "9a015e8f-b3f9-4005-d953-aa9273535b7e"
      },
      "outputs": [
        {
          "output_type": "stream",
          "name": "stdout",
          "text": [
            "Evaluation \t Proposed point \t  Current eval. \t  Best eval. \t        Exact EI: StdDev. x \t Approx EI: StdDev. x \n",
            "init\t [-3.53699597 11.41874575]\t 4.475608269502271\t 4.475608269502271\t    \t    \n",
            "init\t [-1.2959304   2.07197531]\t 51.13947793770689\t 4.475608269502271\t    \t    \n",
            "init\t [-0.02830155  1.24499348]\t 42.63973921760034\t 4.475608269502271\t    \t    \n",
            "init\t [ 5.07965622 12.09890697]\t 131.17235664506808\t 4.475608269502271\t    \t    \n",
            "init\t [9.74112872 9.53491102]\t 46.84458913925112\t 4.475608269502271\t    \t    \n",
            "\u001b[1m\u001b[92m1\u001b[0m\t \u001b[1m\u001b[92m[9.57054653 2.03489665]\u001b[0m\t \u001b[1m\u001b[92m0.8198597583535783\u001b[0m\t \u001b[1m\u001b[92m0.8198597583535783\u001b[0m\t \u001b[1m\u001b[92m5.342923584321703\u001b[0m\t \u001b[1m\u001b[92m5.610004055810948\u001b[0m\n",
            "2  \t [5.03077312 4.64729248]\t 24.460797393473307\t 0.8198597583535783\t 5.58328579401077\t 5.978600455633415\n",
            "3  \t [0.20107266 7.62370777]\t 23.16644757636532\t 0.8198597583535783\t 4.954027294905357\t 5.492862237489285\n",
            "4  \t [ 0.09562252 15.        ]\t 103.29917138491766\t 0.8198597583535783\t 5.358401043501416\t 5.672031513091562\n",
            "5  \t [10. 15.]\t 145.87219087939556\t 0.8198597583535783\t 4.708150319128926\t 4.572521513674911\n",
            "6  \t [5.76502136 0.        ]\t 19.591995850394127\t 0.8198597583535783\t 4.920097866338157\t 5.020863442314987\n",
            "7  \t [-5.  0.]\t 308.12909601160663\t 0.8198597583535783\t 5.119866573432132\t 5.422285482297233\n",
            "8  \t [-5.          6.28808919]\t 131.51785785414725\t 0.8198597583535783\t 4.993924866178875\t 5.437995363765435\n",
            "9  \t [4.65863248 8.10578883]\t 54.59624846537711\t 0.8198597583535783\t 5.566945538397508\t 5.7646093213846985\n",
            "10 \t [10.          5.20984852]\t 6.813512606487913\t 0.8198597583535783\t 5.074818892744929\t 4.617391453488707\n",
            "11 \t [ 0.23236245 11.10727736]\t 49.2662554469767\t 0.8198597583535783\t 4.5009695579931375\t 4.41904970633885\n",
            "12 \t [9.10410543 0.03660365]\t 5.6449422844163415\t 0.8198597583535783\t 4.5470220723629975\t 4.835705623145804\n",
            "13 \t [7.78332077 3.21082841]\t 13.819188923453073\t 0.8198597583535783\t 5.483365727411171\t 5.989860644804716\n",
            "14 \t [-3.20852295  9.37713538]\t 9.778659280304918\t 0.8198597583535783\t 4.932340177076628\t 5.70934628022013\n",
            "15 \t [-3.66648234 14.10096019]\t 1.9703012804676767\t 0.8198597583535783\t 4.484957962210309\t 5.359145945346104\n",
            "16 \t [1.82994204 4.23826446]\t 8.05509237199721\t 0.8198597583535783\t 4.621617084989351\t 5.169099027083415\n",
            "17 \t [3.26348285 1.49272908]\t 0.9440337939764696\t 0.8198597583535783\t 5.360412272172288\t 5.31813634436103\n",
            "18 \t [7.6004046  7.06204549]\t 44.85297730090831\t 0.8198597583535783\t 4.80831664194038\t 5.017092403545751\n",
            "19 \t [ 8.69925413 11.95601084]\t 103.31688204880545\t 0.8198597583535783\t 3.965135926579558\t 4.2240474815175695\n",
            "20 \t [-1.71598966  5.4522955 ]\t 22.000374329630393\t 0.8198597583535783\t 5.150311776538603\t 5.523304091749591\n"
          ]
        }
      ],
      "source": [
        "### EXACT GP EI GRADIENTS\n",
        "\n",
        "np.random.seed(run_num_19)\n",
        "surrogate_gp_19 = dGaussianProcess(cov_func, optimize=opt)\n",
        "\n",
        "gp_19 = dGPGO_gp(surrogate_gp_19, Acquisition_grad(util_gp), objfunc, param)\n",
        "gp_19.run(init_evals=n_init, max_iter=iters)\n"
      ]
    },
    {
      "cell_type": "code",
      "execution_count": 32,
      "metadata": {
        "id": "Aawd59dRIUYn",
        "colab": {
          "base_uri": "https://localhost:8080/"
        },
        "outputId": "e59af42c-d34b-4ac2-c07d-baf2d50d4be6"
      },
      "outputs": [
        {
          "output_type": "stream",
          "name": "stdout",
          "text": [
            "Evaluation \t Proposed point \t  Current eval. \t  Best eval. \t        Exact EI: StdDev. x \t Approx EI: StdDev. x \n",
            "init\t [ 3.82196202 13.46570592]\t 138.5264349938869\t 14.042667401507376\t    \t    \n",
            "init\t [ 8.37296094 12.23756216]\t 115.63178540512689\t 14.042667401507376\t    \t    \n",
            "init\t [-4.46165622 10.37636373]\t 35.66708529307584\t 14.042667401507376\t    \t    \n",
            "init\t [0.68021413 7.77766418]\t 25.307769914281764\t 14.042667401507376\t    \t    \n",
            "init\t [4.86927198 2.90775327]\t 14.042667401507376\t 14.042667401507376\t    \t    \n",
            "1  \t [-5.  0.]\t 308.12909601160663\t 14.042667401507376\t 4.954456992826896\t 5.43013884026657\n",
            "\u001b[1m\u001b[92m2\u001b[0m\t \u001b[1m\u001b[92m[10.          5.49820193]\u001b[0m\t \u001b[1m\u001b[92m8.169389869926185\u001b[0m\t \u001b[1m\u001b[92m8.169389869926185\u001b[0m\t \u001b[1m\u001b[92m4.758630342078336\u001b[0m\t \u001b[1m\u001b[92m5.504489541643019\u001b[0m\n",
            "3  \t [0.61138061 0.18064926]\t 41.819817406212465\t 8.169389869926185\t 4.805116552295167\t 5.150122432625417\n",
            "4  \t [-1.2637238 15.       ]\t 58.90356087528688\t 8.169389869926185\t 5.745231144800313\t 6.35471017841094\n",
            "5  \t [-4.79483707  5.40415968]\t 136.16520405222136\t 8.169389869926185\t 5.527545314214944\t 5.684235084269123\n",
            "\u001b[1m\u001b[92m6\u001b[0m\t \u001b[1m\u001b[92m[9.09543778 0.72705293]\u001b[0m\t \u001b[1m\u001b[92m3.1166558164350517\u001b[0m\t \u001b[1m\u001b[92m3.1166558164350517\u001b[0m\t \u001b[1m\u001b[92m4.797768519485877\u001b[0m\t \u001b[1m\u001b[92m5.453828575932026\u001b[0m\n",
            "7  \t [6.2877259  7.03753344]\t 54.854569106195044\t 3.1166558164350517\t 5.704514854431774\t 5.663860688473243\n",
            "8  \t [-0.32754319 11.25902138]\t 41.40648193276813\t 3.1166558164350517\t 5.093074394843001\t 5.2907479634468295\n",
            "9  \t [-0.43666184  4.01206985]\t 26.031856556415313\t 3.1166558164350517\t 4.602128871731108\t 4.589634298016358\n",
            "10 \t [5.55724611 0.        ]\t 18.492151482084402\t 3.1166558164350517\t 5.424602342696841\t 5.711985112127696\n",
            "11 \t [10.          8.68787681]\t 34.26145842986103\t 3.1166558164350517\t 5.1714632284927715\t 5.397490909933775\n",
            "12 \t [3.5530158  9.63175124]\t 59.8094589777487\t 3.1166558164350517\t 5.511468818825396\t 5.265074733407417\n",
            "13 \t [8.01437616 3.29934291]\t 11.553758918487631\t 3.1166558164350517\t 5.332602214528738\t 6.0060033695105774\n",
            "14 \t [2.81703956 5.43654928]\t 9.279256796734517\t 3.1166558164350517\t 5.106795645915181\t 5.684234604675884\n",
            "15 \t [10. 15.]\t 145.87219087939556\t 3.1166558164350517\t 4.824661378641046\t 4.857137734238835\n",
            "16 \t [-1.95810036  7.24732044]\t 11.963763723982527\t 3.1166558164350517\t 4.898349797922781\t 4.998989964435413\n",
            "17 \t [6.67280468 4.20427796]\t 28.321284339165146\t 3.1166558164350517\t 4.685072681142361\t 5.116433014083367\n",
            "18 \t [-3.96224483 13.2823961 ]\t 4.560160747973746\t 3.1166558164350517\t 5.262158847260395\t 5.2298616279000125\n",
            "\u001b[1m\u001b[92m19\u001b[0m\t \u001b[1m\u001b[92m[2.60106723 2.30398717]\u001b[0m\t \u001b[1m\u001b[92m1.951929253660607\u001b[0m\t \u001b[1m\u001b[92m1.951929253660607\u001b[0m\t \u001b[1m\u001b[92m5.417957467267023\u001b[0m\t \u001b[1m\u001b[92m5.701512605093516\u001b[0m\n",
            "20 \t [2.22842663 2.93857546]\t 4.155201227936435\t 1.951929253660607\t 4.211542184563988\t 4.241762572074188\n"
          ]
        }
      ],
      "source": [
        "### EXACT GP EI GRADIENTS\n",
        "\n",
        "np.random.seed(run_num_20)\n",
        "surrogate_gp_20 = dGaussianProcess(cov_func, optimize=opt)\n",
        "\n",
        "gp_20 = dGPGO_gp(surrogate_gp_20, Acquisition_grad(util_gp), objfunc, param)\n",
        "gp_20.run(init_evals=n_init, max_iter=iters)\n"
      ]
    },
    {
      "cell_type": "code",
      "execution_count": 33,
      "metadata": {
        "id": "xkgzPRbBTHaq",
        "colab": {
          "base_uri": "https://localhost:8080/"
        },
        "outputId": "b9695e7b-74b6-40de-ef40-84bfdb55d718"
      },
      "outputs": [
        {
          "output_type": "execute_result",
          "data": {
            "text/plain": [
              "1663063840.0793989"
            ]
          },
          "metadata": {},
          "execution_count": 33
        }
      ],
      "source": [
        "end_gp = time.time()\n",
        "end_gp\n",
        "\n",
        "time_gp = end_gp - start_gp\n",
        "time_gp\n",
        "\n",
        "start_stp = time.time()\n",
        "start_stp"
      ]
    },
    {
      "cell_type": "code",
      "execution_count": 34,
      "metadata": {
        "id": "7CG3Ndvb16Rb",
        "colab": {
          "base_uri": "https://localhost:8080/"
        },
        "outputId": "a517fe56-3e7a-4980-ce0a-27b473e73afb"
      },
      "outputs": [
        {
          "output_type": "stream",
          "name": "stdout",
          "text": [
            "Evaluation \t Proposed point \t  Current eval. \t  Best eval. \t        Exact EI: StdDev. x \t Approx EI: StdDev. x \n",
            "init\t [ 1.25533007 10.8048674 ]\t 56.52874004692151\t 27.68166689936483\t    \t    \n",
            "init\t [-4.99828438  4.53498859]\t 172.66531086516164\t 27.68166689936483\t    \t    \n",
            "init\t [-2.79866164  1.38507892]\t 102.58290348816024\t 27.68166689936483\t    \t    \n",
            "init\t [-2.20609683  5.18341091]\t 28.868064601155666\t 27.68166689936483\t    \t    \n",
            "init\t [0.95151211 8.08225101]\t 27.68166689936483\t 27.68166689936483\t    \t    \n",
            "\u001b[1m\u001b[92m1\u001b[0m\t \u001b[1m\u001b[92m[8.41909995 1.27566317]\u001b[0m\t \u001b[1m\u001b[92m5.089934878453152\u001b[0m\t \u001b[1m\u001b[92m5.089934878453152\u001b[0m\t \u001b[1m\u001b[92m5.0986435978808435\u001b[0m\t \u001b[1m\u001b[92m5.550612902632472\u001b[0m\n",
            "2  \t [10. 15.]\t 145.87219087939556\t 5.089934878453152\t 5.743428588584457\t 5.745909579853837\n",
            "3  \t [9.50914495 8.52150693]\t 36.125759150808236\t 5.089934878453152\t 5.17493292436728\t 5.44868771731227\n",
            "4  \t [-4.67712792 14.21955317]\t 13.865244792739254\t 5.089934878453152\t 5.297127294685952\t 5.896806957798368\n",
            "5  \t [4.42114297 4.28364423]\t 15.05485122373766\t 5.089934878453152\t 4.362329371422389\t 4.845444055844694\n",
            "6  \t [2.33842643 0.        ]\t 12.240363443871619\t 5.089934878453152\t 4.796117357513849\t 5.509061123793996\n",
            "7  \t [ 4.549066   14.90869537]\t 190.02550896461008\t 5.089934878453152\t 5.621264302553576\t 6.346946286094974\n",
            "8  \t [-5.          9.38952899]\t 73.5299228461603\t 5.089934878453152\t 4.1186429963444615\t 5.683068208395666\n",
            "9  \t [-0.34119122 14.73626174]\t 85.93157875380474\t 5.089934878453152\t 4.785646838080558\t 5.625359989448316\n",
            "10 \t [5.59918115 7.84022451]\t 62.3529652380506\t 5.089934878453152\t 4.195819483961547\t 4.721203010819323\n",
            "11 \t [ 5.99867602 11.1670973 ]\t 120.53435096463605\t 5.089934878453152\t 4.65341525125324\t 4.6644243715490115\n",
            "12 \t [5.22913063 0.01461119]\t 16.17282035337646\t 5.089934878453152\t 4.493849568102925\t 4.888601177907189\n",
            "13 \t [0.90297928 3.61577723]\t 17.053921427770362\t 5.089934878453152\t 4.391414979738484\t 5.308556367137632\n",
            "14 \t [-2.11266054 11.09150435]\t 6.376135928114278\t 5.089934878453152\t 5.144199335601343\t 5.211972142946036\n",
            "15 \t [8.82802458 4.18486336]\t 6.754372695739836\t 5.089934878453152\t 4.7975288077885585\t 5.758719299082512\n",
            "16 \t [ 9.42376634 11.60297775]\t 83.7334466282797\t 5.089934878453152\t 5.0462466034222695\t 5.135145745671722\n",
            "17 \t [ 1.73318255 13.28996957]\t 101.77005377565716\t 5.089934878453152\t 4.812660378210082\t 5.008673921073214\n",
            "18 \t [-2.34865674  7.99297189]\t 9.301634743711869\t 5.089934878453152\t 5.8184941269863195\t 5.613176763739915\n",
            "19 \t [0.03495702 0.7846942 ]\t 46.220069769609644\t 5.089934878453152\t 5.289340357443195\t 5.474385849142563\n",
            "20 \t [ 7.33867229 13.19225285]\t 156.69292484166854\t 5.089934878453152\t 5.428950300671919\t 5.609559490172113\n"
          ]
        }
      ],
      "source": [
        "### EXACT STP EI GRADIENTS\n",
        "\n",
        "np.random.seed(run_num_1)\n",
        "surrogate_stp_1 = dtStudentProcess(cov_func, optimize=opt, nu = df)\n",
        "\n",
        "stp_1 = dGPGO_stp(surrogate_stp_1, Acquisition_grad(util_stp), objfunc, param)\n",
        "stp_1.run(init_evals=n_init, max_iter=iters)\n"
      ]
    },
    {
      "cell_type": "code",
      "execution_count": 35,
      "metadata": {
        "id": "-ilCPSAu9SAg",
        "colab": {
          "base_uri": "https://localhost:8080/"
        },
        "outputId": "333e5308-2b89-426c-d39f-2f6527624942"
      },
      "outputs": [
        {
          "output_type": "stream",
          "name": "stdout",
          "text": [
            "Evaluation \t Proposed point \t  Current eval. \t  Best eval. \t        Exact EI: StdDev. x \t Approx EI: StdDev. x \n",
            "init\t [1.53992353 0.38889348]\t 22.31361308916297\t 6.692051508754487\t    \t    \n",
            "init\t [3.24493717 6.52983589]\t 19.233109967858276\t 6.692051508754487\t    \t    \n",
            "init\t [1.30551703 4.95502232]\t 13.177851563387286\t 6.692051508754487\t    \t    \n",
            "init\t [-1.93027049  9.2890645 ]\t 6.692051508754487\t 6.692051508754487\t    \t    \n",
            "init\t [-0.50517989  4.00240913]\t 26.437522758780958\t 6.692051508754487\t    \t    \n",
            "1  \t [ 9.5587047  12.00387527]\t 89.09951357262268\t 6.692051508754487\t 5.612142841263094\t 5.935815288142359\n",
            "\u001b[1m\u001b[92m2\u001b[0m\t \u001b[1m\u001b[92m[9.59366035 1.69164323]\u001b[0m\t \u001b[1m\u001b[92m1.3984593420568778\u001b[0m\t \u001b[1m\u001b[92m1.3984593420568778\u001b[0m\t \u001b[1m\u001b[92m5.193407534244319\u001b[0m\t \u001b[1m\u001b[92m5.558824141617543\u001b[0m\n",
            "3  \t [ 3.24245232 12.67669673]\t 110.25694222671481\t 1.3984593420568778\t 5.314129256966174\t 6.040395913129957\n",
            "4  \t [-5.  0.]\t 308.12909601160663\t 1.3984593420568778\t 5.0282947008698455\t 5.543013897114612\n",
            "5  \t [7.9643039  7.11507193]\t 40.26323229404025\t 1.3984593420568778\t 5.3579878196146575\t 5.7823301825810995\n",
            "6  \t [-3.95509114 14.02730345]\t 3.48680055844817\t 1.3984593420568778\t 5.167497791386008\t 5.80377023161515\n",
            "7  \t [6.13582172 0.        ]\t 20.70389709515476\t 1.3984593420568778\t 4.57727148966613\t 5.137321391987545\n",
            "8  \t [5.97210888 3.66858743]\t 25.725551799542355\t 1.3984593420568778\t 4.976465092132935\t 5.539493347614081\n",
            "9  \t [-5.          4.37231791]\t 176.94905714153495\t 1.3984593420568778\t 5.165817284207664\t 5.161611844323632\n",
            "10 \t [ 6.44684139 15.        ]\t 212.44287914538023\t 1.3984593420568778\t 5.01898169650398\t 5.426612066570856\n",
            "11 \t [-1.19439227 12.42559959]\t 32.368379368903916\t 1.3984593420568778\t 5.582516414272117\t 5.835111468956851\n",
            "12 \t [-4.77396844  8.13918233]\t 81.20199159326864\t 1.3984593420568778\t 5.336712454585772\t 5.715985095349599\n",
            "13 \t [1.0466587  9.29531818]\t 38.03414164987086\t 1.3984593420568778\t 5.367256258157613\t 5.094887568321471\n",
            "14 \t [6.21901207 9.84564383]\t 96.09505989911395\t 1.3984593420568778\t 5.63271637266752\t 6.020297105333556\n",
            "15 \t [-1.78779647  1.0538651 ]\t 75.24488271527939\t 1.3984593420568778\t 5.444088321684306\t 5.452071187108505\n",
            "16 \t [10. 15.]\t 145.87219087939556\t 1.3984593420568778\t 5.148701737438498\t 5.710146317225017\n",
            "17 \t [-3.87645216  2.57784513]\t 135.88512865239227\t 1.3984593420568778\t 4.226652239685598\t 4.197178221701707\n",
            "18 \t [ 0.69566795 15.        ]\t 118.2662363849377\t 1.3984593420568778\t 5.360921204252031\t 6.512155745079233\n",
            "19 \t [-5.         11.36486689]\t 46.62518089891582\t 1.3984593420568778\t 5.140520721690784\t 6.50145312718828\n",
            "20 \t [-1.93345252  6.58296199]\t 15.456962055762464\t 1.3984593420568778\t 5.563608718158607\t 6.087880818435653\n"
          ]
        }
      ],
      "source": [
        "### EXACT STP EI GRADIENTS\n",
        "\n",
        "np.random.seed(run_num_2)\n",
        "surrogate_stp_2 = dtStudentProcess(cov_func, optimize=opt, nu = df)\n",
        "\n",
        "stp_2 = dGPGO_stp(surrogate_stp_2, Acquisition_grad(util_stp), objfunc, param)\n",
        "stp_2.run(init_evals=n_init, max_iter=iters)\n"
      ]
    },
    {
      "cell_type": "code",
      "execution_count": 36,
      "metadata": {
        "id": "XieJ158mIvlP",
        "colab": {
          "base_uri": "https://localhost:8080/"
        },
        "outputId": "332fe114-c35f-4164-aeb7-115881dcb821"
      },
      "outputs": [
        {
          "output_type": "stream",
          "name": "stdout",
          "text": [
            "Evaluation \t Proposed point \t  Current eval. \t  Best eval. \t        Exact EI: StdDev. x \t Approx EI: StdDev. x \n",
            "init\t [ 3.26196854 10.62221734]\t 71.68783452098575\t 18.07886746449891\t    \t    \n",
            "init\t [-0.63642892  7.66241408]\t 18.07886746449891\t 18.07886746449891\t    \t    \n",
            "init\t [ 8.39420432 13.44439633]\t 141.98653529865882\t 18.07886746449891\t    \t    \n",
            "init\t [-3.11622034  3.10864317]\t 83.31045707266176\t 18.07886746449891\t    \t    \n",
            "init\t [-4.22799195  6.61214765]\t 76.5294170688398\t 18.07886746449891\t    \t    \n",
            "1  \t [6.70472147 4.59545299]\t 30.726791812855225\t 18.07886746449891\t 4.241477993385701\t 4.241477993385701\n",
            "\u001b[1m\u001b[92m2\u001b[0m\t \u001b[1m\u001b[92m[-3.89564496 13.38589781]\u001b[0m\t \u001b[1m\u001b[92m3.6010193697779265\u001b[0m\t \u001b[1m\u001b[92m3.6010193697779265\u001b[0m\t \u001b[1m\u001b[92m5.397008567378645\u001b[0m\t \u001b[1m\u001b[92m6.026965997277288\u001b[0m\n",
            "3  \t [2.09735732 4.16564816]\t 6.049352404635327\t 3.6010193697779265\t 5.662870973819743\t 6.6516714448187795\n",
            "4  \t [6.0924896 0.       ]\t 20.635034297790384\t 3.6010193697779265\t 4.87913739953211\t 5.031647917597796\n",
            "5  \t [7.38322622 8.90437688]\t 72.31345729730506\t 3.6010193697779265\t 5.204085634334333\t 6.395562181034925\n",
            "6  \t [-0.09059743  0.        ]\t 57.32683813843937\t 3.6010193697779265\t 5.399657639702302\t 5.008423744261422\n",
            "7  \t [ 0.7273756  14.67607729]\t 112.53473754745858\t 3.6010193697779265\t 4.365316382122953\t 4.370736890833507\n",
            "8  \t [-5.         10.25737694]\t 60.74841982754976\t 3.6010193697779265\t 5.672901334542811\t 5.707845867860964\n",
            "9  \t [4.42471628 3.20280397]\t 10.219541102760163\t 3.6010193697779265\t 4.322366051343367\t 4.174981351857085\n",
            "\u001b[1m\u001b[92m10\u001b[0m\t \u001b[1m\u001b[92m[9.69076517 1.91135623]\u001b[0m\t \u001b[1m\u001b[92m1.371007380740057\u001b[0m\t \u001b[1m\u001b[92m1.371007380740057\u001b[0m\t \u001b[1m\u001b[92m5.045636020848145\u001b[0m\t \u001b[1m\u001b[92m5.740382355669865\u001b[0m\n",
            "11 \t [-5.  0.]\t 308.12909601160663\t 1.371007380740057\t 5.573600369370136\t 5.51387314749495\n",
            "12 \t [3.43677047 6.81235191]\t 23.43549974897457\t 1.371007380740057\t 4.9228782936889575\t 5.305847184123794\n",
            "13 \t [-1.48279737 10.95042243]\t 16.16355443974024\t 1.371007380740057\t 5.811936249626089\t 5.517417839215659\n",
            "14 \t [ 4.49105071 13.89176449]\t 162.493915317688\t 1.371007380740057\t 5.19273079237522\t 6.144667986194006\n",
            "15 \t [9.97819911 4.3422164 ]\t 3.683034505878166\t 1.371007380740057\t 5.5592012043831875\t 5.832128251285845\n",
            "16 \t [2.85273535 1.0828439 ]\t 2.835466889724481\t 1.371007380740057\t 5.351624188287663\t 5.584690314212502\n",
            "17 \t [-0.65073427  4.95971537]\t 22.179547393049447\t 1.371007380740057\t 5.799864675345604\t 5.566204033781858\n",
            "18 \t [7.32227541 2.05787598]\t 15.485042803339528\t 1.371007380740057\t 5.135019146261325\t 5.253138024239799\n",
            "19 \t [-2.91786555  8.85934088]\t 8.95728105526044\t 1.371007380740057\t 5.203991639591454\t 5.371217138777911\n",
            "20 \t [ 6.09172464 11.51542692]\t 127.93608191346723\t 1.371007380740057\t 4.0786448171171195\t 4.213520258069859\n"
          ]
        }
      ],
      "source": [
        "### EXACT STP EI GRADIENTS\n",
        "\n",
        "np.random.seed(run_num_3)\n",
        "surrogate_stp_3 = dtStudentProcess(cov_func, optimize=opt, nu = df)\n",
        "\n",
        "stp_3 = dGPGO_stp(surrogate_stp_3, Acquisition_grad(util_stp), objfunc, param)\n",
        "stp_3.run(init_evals=n_init, max_iter=iters)\n"
      ]
    },
    {
      "cell_type": "code",
      "execution_count": 37,
      "metadata": {
        "id": "PhLBVOIfIvol",
        "colab": {
          "base_uri": "https://localhost:8080/"
        },
        "outputId": "cc9be7c7-60b7-4088-b9b5-5416d85a160a"
      },
      "outputs": [
        {
          "output_type": "stream",
          "name": "stdout",
          "text": [
            "Evaluation \t Proposed point \t  Current eval. \t  Best eval. \t        Exact EI: StdDev. x \t Approx EI: StdDev. x \n",
            "init\t [9.50544759 8.20848374]\t 32.51676744781521\t 7.247126865776948\t    \t    \n",
            "init\t [ 9.5902654  10.72223991]\t 66.20566674364716\t 7.247126865776948\t    \t    \n",
            "init\t [5.46593237 3.24134243]\t 20.90089401680587\t 7.247126865776948\t    \t    \n",
            "init\t [9.64411682 0.09345383]\t 7.247126865776948\t 7.247126865776948\t    \t    \n",
            "init\t [-1.20526456  6.52187299]\t 15.941376982363263\t 7.247126865776948\t    \t    \n",
            "1  \t [ 1.25164457 13.57001383]\t 100.61648848019335\t 7.247126865776948\t 5.4717999935406\t 5.85258200897411\n",
            "2  \t [-4.27198795  1.64727177]\t 188.41076037632916\t 7.247126865776948\t 6.062521919456094\t 5.78607657471202\n",
            "3  \t [4.00915917 8.47937128]\t 49.809284714246935\t 7.247126865776948\t 4.8678890622864035\t 5.95838132553714\n",
            "4  \t [-4.84138409  8.44878365]\t 79.86770526646004\t 7.247126865776948\t 5.070702113839586\t 6.751751223487513\n",
            "5  \t [1.74626501 0.        ]\t 21.389627350637003\t 7.247126865776948\t 5.505426983532677\t 6.137847406402859\n",
            "6  \t [ 9.14558449 15.        ]\t 163.34331347595247\t 7.247126865776948\t 4.997538270549905\t 5.517624124010903\n",
            "7  \t [ 5.59336547 12.25076167]\t 140.866495214906\t 7.247126865776948\t 4.538827085997214\t 6.164185862951766\n",
            "\u001b[1m\u001b[92m8\u001b[0m\t \u001b[1m\u001b[92m[-2.62422251 11.54144209]\u001b[0m\t \u001b[1m\u001b[92m1.8804251723327905\u001b[0m\t \u001b[1m\u001b[92m1.8804251723327905\u001b[0m\t \u001b[1m\u001b[92m3.9060108839811605\u001b[0m\t \u001b[1m\u001b[92m4.173072518203676\u001b[0m\n",
            "9  \t [-0.4655786   9.86369714]\t 28.15727113291534\t 1.8804251723327905\t 4.982092621216928\t 5.447043022041094\n",
            "10 \t [8.92771524 3.76404284]\t 4.370211743563413\t 1.8804251723327905\t 5.234686712053156\t 6.024084095473062\n",
            "11 \t [-3.83661247 14.66994264]\t 3.0637462396772754\t 1.8804251723327905\t 4.616453505254252\t 4.252600424102431\n",
            "12 \t [-4.74142398  5.04874127]\t 140.27705185442014\t 1.8804251723327905\t 4.815531777832435\t 5.378605928363949\n",
            "13 \t [5.78821516 0.        ]\t 19.694914753902957\t 1.8804251723327905\t 4.799604652550376\t 5.518830399591946\n",
            "14 \t [1.6847382  3.58563672]\t 8.918221070132168\t 1.8804251723327905\t 4.2501956971165455\t 4.3058281495399395\n",
            "15 \t [1.69242345 5.94085406]\t 13.96253821520299\t 1.8804251723327905\t 4.1431999588972666\t 5.313820645507999\n",
            "16 \t [7.10691791 5.90669546]\t 38.5470643495632\t 1.8804251723327905\t 4.664858966641455\t 5.28445561226692\n",
            "17 \t [ 4.1113919  10.68011072]\t 86.29046140588906\t 1.8804251723327905\t 5.449074282353666\t 5.869533025106265\n",
            "18 \t [-1.03249572  3.32456396]\t 34.78247526627077\t 1.8804251723327905\t 4.952649117879114\t 5.802993061219108\n",
            "19 \t [ 4.19257736 15.        ]\t 184.84211613646434\t 1.8804251723327905\t 5.344704065357935\t 6.4169796883365535\n",
            "20 \t [1.51280519 8.33221912]\t 30.308099711697345\t 1.8804251723327905\t 4.89655207112161\t 5.3212235393635545\n"
          ]
        }
      ],
      "source": [
        "### EXACT STP EI GRADIENTS\n",
        "\n",
        "np.random.seed(run_num_4)\n",
        "surrogate_stp_4 = dtStudentProcess(cov_func, optimize=opt, nu = df)\n",
        "\n",
        "stp_4 = dGPGO_stp(surrogate_stp_4, Acquisition_grad(util_stp), objfunc, param)\n",
        "stp_4.run(init_evals=n_init, max_iter=iters)\n"
      ]
    },
    {
      "cell_type": "code",
      "execution_count": 38,
      "metadata": {
        "id": "arbiPyj2IvsJ",
        "colab": {
          "base_uri": "https://localhost:8080/"
        },
        "outputId": "6656647a-8f96-49a2-d48f-4771dfb9d740"
      },
      "outputs": [
        {
          "output_type": "stream",
          "name": "stdout",
          "text": [
            "Evaluation \t Proposed point \t  Current eval. \t  Best eval. \t        Exact EI: StdDev. x \t Approx EI: StdDev. x \n",
            "init\t [-1.67010243 13.06098459]\t 25.390690545664548\t 25.311309190989615\t    \t    \n",
            "init\t [-1.89921267 13.77916362]\t 25.311309190989615\t 25.311309190989615\t    \t    \n",
            "init\t [2.32616783 9.17615794]\t 41.60147975414021\t 25.311309190989615\t    \t    \n",
            "init\t [6.48861785 7.77626982]\t 63.81281921768236\t 25.311309190989615\t    \t    \n",
            "init\t [-0.54799248  2.81581843]\t 34.966203644931994\t 25.311309190989615\t    \t    \n",
            "\u001b[1m\u001b[92m1\u001b[0m\t \u001b[1m\u001b[92m[8.84124421 0.03321319]\u001b[0m\t \u001b[1m\u001b[92m5.96108856337545\u001b[0m\t \u001b[1m\u001b[92m5.96108856337545\u001b[0m\t \u001b[1m\u001b[92m6.257038257405818\u001b[0m\t \u001b[1m\u001b[92m6.146656705388622\u001b[0m\n",
            "2  \t [ 8.50288449 15.        ]\t 178.24846487856252\t 5.96108856337545\t 5.986764400111081\t 5.495075922249839\n",
            "3  \t [-5.          6.43765017]\t 128.28001516361476\t 5.96108856337545\t 5.441055215499201\t 5.764257836088027\n",
            "4  \t [-5.  0.]\t 308.12909601160663\t 5.96108856337545\t 5.111166957542164\t 5.526973695448354\n",
            "5  \t [4.1379882  3.47946366]\t 8.217428035421637\t 5.96108856337545\t 4.826058832667626\t 5.20007321323332\n",
            "6  \t [ 3.05016039 14.80715901]\t 155.68398238917743\t 5.96108856337545\t 5.424045790702896\t 5.5831118371372765\n",
            "7  \t [10.         10.39913967]\t 56.646664599104874\t 5.96108856337545\t 4.229999639437536\t 5.132273934764549\n",
            "8  \t [8.73101102 3.79074418]\t 5.998572066391249\t 5.96108856337545\t 4.645412577899604\t 5.336486438732272\n",
            "9  \t [-1.53330503  8.58907309]\t 10.383928137338515\t 5.96108856337545\t 4.812513961403437\t 5.089527250570645\n",
            "10 \t [-4.81416663 10.620326  ]\t 47.40483697136906\t 5.96108856337545\t 5.501506570227342\t 6.1731900257686325\n",
            "11 \t [2.54432354 0.        ]\t 9.826901489798377\t 5.96108856337545\t 4.433543225483076\t 4.8792899872958895\n",
            "12 \t [-0.79296663  6.01351805]\t 18.506394249272986\t 5.96108856337545\t 5.258650772296483\t 4.778186698889867\n",
            "13 \t [ 5.40135733 11.55376969]\t 123.87756333079555\t 5.96108856337545\t 5.231546303361302\t 4.709809282240985\n",
            "14 \t [-1.01431825  0.        ]\t 75.09167769737017\t 5.96108856337545\t 5.019459183283291\t 5.895605933619585\n",
            "15 \t [1.91527829 5.27662255]\t 10.183466126705424\t 5.96108856337545\t 4.601219579805632\t 4.853735706423863\n",
            "16 \t [5.15113499 1.21120811]\t 14.079356794205431\t 5.96108856337545\t 5.2989211606881605\t 4.891184235439591\n",
            "17 \t [9.83868988 5.34356425]\t 7.4451925124811575\t 5.96108856337545\t 4.433080189934076\t 4.69214196755435\n",
            "18 \t [-4.11459384  3.25814196]\t 136.3291010822939\t 5.96108856337545\t 4.8308112035740844\t 5.258567060724012\n",
            "19 \t [3.76034174 6.67952685]\t 25.58050314996925\t 5.96108856337545\t 4.904422829285991\t 5.225663356375752\n",
            "20 \t [ 1.65541607 12.85612534]\t 92.6692685043064\t 5.96108856337545\t 4.683263405614099\t 4.823461684483835\n"
          ]
        }
      ],
      "source": [
        "### EXACT STP EI GRADIENTS\n",
        "\n",
        "np.random.seed(run_num_5)\n",
        "surrogate_stp_5 = dtStudentProcess(cov_func, optimize=opt, nu = df)\n",
        "\n",
        "stp_5 = dGPGO_stp(surrogate_stp_5, Acquisition_grad(util_stp), objfunc, param)\n",
        "stp_5.run(init_evals=n_init, max_iter=iters)\n"
      ]
    },
    {
      "cell_type": "code",
      "execution_count": 39,
      "metadata": {
        "id": "04KJCEm_Ivvf",
        "colab": {
          "base_uri": "https://localhost:8080/"
        },
        "outputId": "dfdac414-fb1d-45ac-d028-55a2669ad114"
      },
      "outputs": [
        {
          "output_type": "stream",
          "name": "stdout",
          "text": [
            "Evaluation \t Proposed point \t  Current eval. \t  Best eval. \t        Exact EI: StdDev. x \t Approx EI: StdDev. x \n",
            "init\t [8.39290227 4.97969708]\t 15.553860636684597\t 15.31731051317483\t    \t    \n",
            "init\t [7.31843685 0.62544939]\t 15.31731051317483\t 15.31731051317483\t    \t    \n",
            "init\t [-3.3851498   8.92578096]\t 16.222288919361837\t 15.31731051317483\t    \t    \n",
            "init\t [2.94726043 6.28211143]\t 15.406373581304088\t 15.31731051317483\t    \t    \n",
            "init\t [0.03111774 9.33779148]\t 31.07053245856209\t 15.31731051317483\t    \t    \n",
            "1  \t [-3.07553743  0.        ]\t 147.23608569115513\t 15.31731051317483\t 5.281664754978231\t 5.668419882807131\n",
            "2  \t [ 9.0758891  11.79008788]\t 93.01466310382783\t 15.31731051317483\t 5.350533916982397\t 5.824233867342463\n",
            "3  \t [ 4.34724927 14.59608757]\t 177.48889452505895\t 15.31731051317483\t 5.34691430221382\t 5.4303256668287005\n",
            "4  \t [-1.77014503 13.95364881]\t 30.486400153319025\t 15.31731051317483\t 5.665147917410167\t 6.447813877442302\n",
            "\u001b[1m\u001b[92m5\u001b[0m\t \u001b[1m\u001b[92m[1.61545077 1.8313572 ]\u001b[0m\t \u001b[1m\u001b[92m13.314442924245594\u001b[0m\t \u001b[1m\u001b[92m13.314442924245594\u001b[0m\t \u001b[1m\u001b[92m5.656696599397337\u001b[0m\t \u001b[1m\u001b[92m6.08387444800158\u001b[0m\n",
            "6  \t [-2.29621162  4.66236518]\t 35.815913052129\t 13.314442924245594\t 5.307253763659491\t 6.100937754736275\n",
            "7  \t [-4.94044529 11.87591352]\t 38.592389664968216\t 13.314442924245594\t 5.6848144805485665\t 6.31546492203948\n",
            "8  \t [ 4.81061868 10.91279154]\t 102.70917446165065\t 13.314442924245594\t 5.242549152720635\t 5.35957563342901\n",
            "9  \t [8.34883414 8.35730852]\t 49.534038736142236\t 13.314442924245594\t 4.408906667541224\t 4.919148662422189\n",
            "10 \t [ 7.81795063 14.9264498 ]\t 191.8757654797541\t 13.314442924245594\t 5.776120169380203\t 5.991813548658815\n",
            "\u001b[1m\u001b[92m11\u001b[0m\t \u001b[1m\u001b[92m[4.48700938 3.57777614]\u001b[0m\t \u001b[1m\u001b[92m12.340794248984912\u001b[0m\t \u001b[1m\u001b[92m12.340794248984912\u001b[0m\t \u001b[1m\u001b[92m5.791992737167633\u001b[0m\t \u001b[1m\u001b[92m5.696160875519685\u001b[0m\n",
            "12 \t [-5.          6.13753926]\t 134.82229199471183\t 12.340794248984912\t 5.537002967074022\t 5.711526213036513\n",
            "\u001b[1m\u001b[92m13\u001b[0m\t \u001b[1m\u001b[92m[-2.38717443 11.36798852]\u001b[0m\t \u001b[1m\u001b[92m3.6963026700783326\u001b[0m\t \u001b[1m\u001b[92m3.6963026700783326\u001b[0m\t \u001b[1m\u001b[92m5.4155972710285285\u001b[0m\t \u001b[1m\u001b[92m4.745921613485461\u001b[0m\n",
            "14 \t [ 1.20959195 12.34390841]\t 78.68015800102044\t 3.6963026700783326\t 5.188122293246023\t 4.88571387625733\n",
            "15 \t [-0.2511404   6.57476468]\t 19.328751480586753\t 3.6963026700783326\t 5.672185606485093\t 5.548140275441606\n",
            "\u001b[1m\u001b[92m16\u001b[0m\t \u001b[1m\u001b[92m[9.62799516 2.58902283]\u001b[0m\t \u001b[1m\u001b[92m0.5994113678822615\u001b[0m\t \u001b[1m\u001b[92m0.5994113678822615\u001b[0m\t \u001b[1m\u001b[92m5.560438256088512\u001b[0m\t \u001b[1m\u001b[92m5.632848616390493\u001b[0m\n",
            "17 \t [4.10271553 0.        ]\t 7.207181710259304\t 0.5994113678822615\t 5.176706527214864\t 5.904211198256299\n",
            "18 \t [-4.98200455  2.30253214]\t 232.57497077267837\t 0.5994113678822615\t 5.399762283546615\t 6.310651207179201\n",
            "19 \t [5.86965166 6.31799509]\t 45.927090423710226\t 0.5994113678822615\t 6.103888487870723\t 6.5723326158161495\n",
            "20 \t [2.46552087 9.80714927]\t 50.75499407080327\t 0.5994113678822615\t 5.658240133149084\t 5.854932084312421\n"
          ]
        }
      ],
      "source": [
        "### EXACT STP EI GRADIENTS\n",
        "\n",
        "np.random.seed(run_num_6)\n",
        "surrogate_stp_6 = dtStudentProcess(cov_func, optimize=opt, nu = df)\n",
        "\n",
        "stp_6 = dGPGO_stp(surrogate_stp_6, Acquisition_grad(util_stp), objfunc, param)\n",
        "stp_6.run(init_evals=n_init, max_iter=iters)\n"
      ]
    },
    {
      "cell_type": "code",
      "execution_count": 40,
      "metadata": {
        "id": "tAOkme3CIvyO",
        "colab": {
          "base_uri": "https://localhost:8080/"
        },
        "outputId": "9a3c453b-735c-4d12-ae37-6acc06189e6b"
      },
      "outputs": [
        {
          "output_type": "stream",
          "name": "stdout",
          "text": [
            "Evaluation \t Proposed point \t  Current eval. \t  Best eval. \t        Exact EI: StdDev. x \t Approx EI: StdDev. x \n",
            "init\t [-3.85537566 11.69878188]\t 8.299317850233932\t 5.211335324193094\t    \t    \n",
            "init\t [ 1.57613847 10.85197767]\t 59.50408380701259\t 5.211335324193094\t    \t    \n",
            "init\t [9.66984268 8.07743806]\t 29.714921414987273\t 5.211335324193094\t    \t    \n",
            "init\t [2.51680695 1.080767  ]\t 5.211335324193094\t 5.211335324193094\t    \t    \n",
            "init\t [-0.9734153   7.49823751]\t 15.431057204948033\t 5.211335324193094\t    \t    \n",
            "1  \t [-5.          0.17211502]\t 302.2423139726426\t 5.211335324193094\t 4.308091072598926\t 4.425188484137239\n",
            "2  \t [10. 15.]\t 145.87219087939556\t 5.211335324193094\t 5.9418263678602115\t 5.778953899758212\n",
            "3  \t [8.08940775 0.35854539]\t 9.249625108410735\t 5.211335324193094\t 5.058600441564939\t 5.962417830876022\n",
            "4  \t [-3.39684884  5.54228873]\t 54.79871094423047\t 5.211335324193094\t 4.531859875930617\t 4.47443187301265\n",
            "5  \t [5.17359234 5.7353307 ]\t 34.62771248981179\t 5.211335324193094\t 4.828048585658848\t 5.330313276565793\n",
            "6  \t [ 4.92537891 14.49682524]\t 186.31925701702895\t 5.211335324193094\t 6.01397896825012\t 6.771839457904936\n",
            "7  \t [ 0.41036662 14.84871201]\t 108.67673451031358\t 5.211335324193094\t 5.023503064708509\t 5.149389982970674\n",
            "8  \t [5.78236022 9.47213053]\t 88.24005802901836\t 5.211335324193094\t 5.404431981557234\t 5.62106530852649\n",
            "9  \t [-0.92748181  2.25205759]\t 44.22422496743738\t 5.211335324193094\t 5.375783446455438\t 5.847864929583746\n",
            "\u001b[1m\u001b[92m10\u001b[0m\t \u001b[1m\u001b[92m[9.4142684  3.91103432]\u001b[0m\t \u001b[1m\u001b[92m2.486110556647123\u001b[0m\t \u001b[1m\u001b[92m2.486110556647123\u001b[0m\t \u001b[1m\u001b[92m4.83676143054384\u001b[0m\t \u001b[1m\u001b[92m6.77379641476175\u001b[0m\n",
            "11 \t [1.78283021 4.51169348]\t 8.860114966845122\t 2.486110556647123\t 4.468673763403737\t 4.497694024330314\n",
            "12 \t [-4.98962971 14.885908  ]\t 17.7881286640214\t 2.486110556647123\t 5.145642213499963\t 5.087919316155877\n",
            "13 \t [5.17539706 0.61112583]\t 14.663425518228298\t 2.486110556647123\t 4.566285905154732\t 4.513705328825028\n",
            "14 \t [-3.93902947  8.81180588]\t 33.12349642197762\t 2.486110556647123\t 4.542918014035843\t 5.08961250039379\n",
            "15 \t [ 8.90193681 11.43815341]\t 89.4563558227362\t 2.486110556647123\t 5.417193056182102\t 5.035080270847819\n",
            "16 \t [-1.34661404 10.35681151]\t 16.05246211089583\t 2.486110556647123\t 4.905755440591356\t 5.037146189522732\n",
            "17 \t [6.54396054 3.03341416]\t 22.94978349796724\t 2.486110556647123\t 4.092807348009781\t 4.236655896480414\n",
            "18 \t [2.07983913 7.62532093]\t 24.475733627577245\t 2.486110556647123\t 4.764052899680302\t 5.258144939323226\n",
            "19 \t [ 6.74044954 13.31380067]\t 166.7789131947879\t 2.486110556647123\t 5.100053194519722\t 5.128867676711722\n",
            "20 \t [9.97487162 1.81088328]\t 3.1768455259733157\t 2.486110556647123\t 4.832476259729423\t 5.202073964003649\n"
          ]
        }
      ],
      "source": [
        "### EXACT STP EI GRADIENTS\n",
        "\n",
        "np.random.seed(run_num_7)\n",
        "surrogate_stp_7 = dtStudentProcess(cov_func, optimize=opt, nu = df)\n",
        "\n",
        "stp_7 = dGPGO_stp(surrogate_stp_7, Acquisition_grad(util_stp), objfunc, param)\n",
        "stp_7.run(init_evals=n_init, max_iter=iters)\n"
      ]
    },
    {
      "cell_type": "code",
      "execution_count": 41,
      "metadata": {
        "id": "69-J3EF4Iv1S",
        "colab": {
          "base_uri": "https://localhost:8080/"
        },
        "outputId": "83df7e90-7a12-4f0a-bac7-f1d9120992c9"
      },
      "outputs": [
        {
          "output_type": "stream",
          "name": "stdout",
          "text": [
            "Evaluation \t Proposed point \t  Current eval. \t  Best eval. \t        Exact EI: StdDev. x \t Approx EI: StdDev. x \n",
            "init\t [ 8.10144104 14.52810994]\t 175.17297136347514\t 15.416245468470875\t    \t    \n",
            "init\t [8.0379181  7.96283537]\t 49.32173799887473\t 15.416245468470875\t    \t    \n",
            "init\t [-1.50907508  0.17098206]\t 83.26753461673219\t 15.416245468470875\t    \t    \n",
            "init\t [1.45703227 6.0352704 ]\t 15.416245468470875\t 15.416245468470875\t    \t    \n",
            "init\t [2.84012007 7.17587694]\t 22.49093277852639\t 15.416245468470875\t    \t    \n",
            "\u001b[1m\u001b[92m1\u001b[0m\t \u001b[1m\u001b[92m[9.77124156 0.43098073]\u001b[0m\t \u001b[1m\u001b[92m6.499298445992174\u001b[0m\t \u001b[1m\u001b[92m6.499298445992174\u001b[0m\t \u001b[1m\u001b[92m5.113061507619488\u001b[0m\t \u001b[1m\u001b[92m5.635856736903455\u001b[0m\n",
            "2  \t [-4.87537438 11.82874897]\t 36.57081146531108\t 6.499298445992174\t 5.657687468643916\t 5.464221186524835\n",
            "3  \t [-0.47864575 14.6326007 ]\t 80.00768934620143\t 6.499298445992174\t 4.725750952759138\t 5.9382287845275705\n",
            "4  \t [-3.44158579  5.39867053]\t 58.72225773742389\t 6.499298445992174\t 5.65358168566078\t 5.322030721767772\n",
            "\u001b[1m\u001b[92m5\u001b[0m\t \u001b[1m\u001b[92m[3.66376848 0.        ]\u001b[0m\t \u001b[1m\u001b[92m5.298915302985195\u001b[0m\t \u001b[1m\u001b[92m5.298915302985195\u001b[0m\t \u001b[1m\u001b[92m4.755769544502533\u001b[0m\t \u001b[1m\u001b[92m5.320284012202585\u001b[0m\n",
            "6  \t [6.45636383 3.31536933]\t 24.32484358791749\t 5.298915302985195\t 5.063745017612013\t 4.608782083220413\n",
            "7  \t [-1.35181765  9.56660471]\t 13.476045481310058\t 5.298915302985195\t 5.093913238149023\t 5.218762933803423\n",
            "8  \t [ 3.51987494 12.89379943]\t 119.78475901305845\t 5.298915302985195\t 5.192754492402926\t 4.79832842875658\n",
            "9  \t [9.95654894 4.86244188]\t 5.342778101026292\t 5.298915302985195\t 4.5839089248290605\t 5.276949487917855\n",
            "10 \t [-5.          1.04279972]\t 273.37057903494474\t 5.298915302985195\t 5.6913043972686\t 5.612899561637431\n",
            "11 \t [1.41166971 2.76260565]\t 13.079246687379626\t 5.298915302985195\t 5.040591127572936\t 5.3381530445885295\n",
            "12 \t [5.0592789  9.33631633]\t 78.5793669895847\t 5.298915302985195\t 4.745585197868322\t 4.82286836468745\n",
            "13 \t [10.         11.01361964]\t 66.11386298829862\t 5.298915302985195\t 4.8999866102712515\t 5.484226985339103\n",
            "\u001b[1m\u001b[92m14\u001b[0m\t \u001b[1m\u001b[92m[-3.98440547 14.82637789]\u001b[0m\t \u001b[1m\u001b[92m3.7995552704136486\u001b[0m\t \u001b[1m\u001b[92m3.7995552704136486\u001b[0m\t \u001b[1m\u001b[92m5.935242437368418\u001b[0m\t \u001b[1m\u001b[92m5.693204129870925\u001b[0m\n",
            "15 \t [6.66847349 0.        ]\t 20.1783424325097\t 3.7995552704136486\t 4.6734327095885915\t 4.90571254273164\n",
            "16 \t [0.9228754  9.91322582]\t 43.58916079668906\t 3.7995552704136486\t 4.21545987767737\t 3.6880041958283223\n",
            "17 \t [3.6242468  4.42429657]\t 7.722816183515861\t 3.7995552704136486\t 5.79555802512705\t 6.5999891837955635\n",
            "18 \t [-5.          8.47459936]\t 88.63595220245138\t 3.7995552704136486\t 5.8238201442428155\t 6.138307023206123\n",
            "19 \t [5.34865217 6.61818351]\t 45.245906268983546\t 3.7995552704136486\t 4.338069431635522\t 5.209544905660871\n",
            "20 \t [3.4007548  9.68205435]\t 58.485962247402895\t 3.7995552704136486\t 4.275601026699134\t 4.275915374785735\n"
          ]
        }
      ],
      "source": [
        "### EXACT STP EI GRADIENTS\n",
        "\n",
        "np.random.seed(run_num_8)\n",
        "surrogate_stp_8 = dtStudentProcess(cov_func, optimize=opt, nu = df)\n",
        "\n",
        "stp_8 = dGPGO_stp(surrogate_stp_8, Acquisition_grad(util_stp), objfunc, param)\n",
        "stp_8.run(init_evals=n_init, max_iter=iters)\n"
      ]
    },
    {
      "cell_type": "code",
      "execution_count": 42,
      "metadata": {
        "id": "vonm9jyuIv4t",
        "colab": {
          "base_uri": "https://localhost:8080/"
        },
        "outputId": "8b0e4369-7373-4ef7-baa5-1e4219821460"
      },
      "outputs": [
        {
          "output_type": "stream",
          "name": "stdout",
          "text": [
            "Evaluation \t Proposed point \t  Current eval. \t  Best eval. \t        Exact EI: StdDev. x \t Approx EI: StdDev. x \n",
            "init\t [-4.84438769  7.52811888]\t 96.15564306553264\t 3.4640248583909496\t    \t    \n",
            "init\t [2.4365994  2.00744293]\t 3.4640248583909496\t 3.4640248583909496\t    \t    \n",
            "init\t [-2.86833372  3.27838013]\t 70.46930174488207\t 3.4640248583909496\t    \t    \n",
            "init\t [1.27762271 3.72151753]\t 12.982825924833865\t 3.4640248583909496\t    \t    \n",
            "init\t [-3.73910523  5.1824796 ]\t 75.58547400560856\t 3.4640248583909496\t    \t    \n",
            "1  \t [ 7.05609655 14.75038872]\t 200.4388688685465\t 3.4640248583909496\t 5.707262055695117\t 5.510307113917957\n",
            "2  \t [-0.46054038 14.56197292]\t 79.4666617606301\t 3.4640248583909496\t 5.22888222448805\t 4.867813289580715\n",
            "3  \t [8.28747407 1.2035024 ]\t 6.196385269800155\t 3.4640248583909496\t 5.12282090032766\t 4.500011981298069\n",
            "4  \t [3.94155975 9.34962016]\t 61.310487913157274\t 3.4640248583909496\t 5.164926280343697\t 4.672953318528358\n",
            "5  \t [9.67993735 5.53971063]\t 8.780439004073106\t 3.4640248583909496\t 5.386385605470314\t 4.959146504177089\n",
            "6  \t [5.69614675 4.2958879 ]\t 28.043820974806252\t 3.4640248583909496\t 5.301968585737564\t 5.554552520657861\n",
            "7  \t [-1.28537303 10.10721258]\t 16.118862625186125\t 3.4640248583909496\t 5.2445414679010725\t 6.182984058497552\n",
            "8  \t [8.37966849 9.87422103]\t 71.43615583810767\t 3.4640248583909496\t 5.1693545232152065\t 5.2367978970656\n",
            "9  \t [-5.  0.]\t 308.12909601160663\t 3.4640248583909496\t 6.388244674623316\t 6.571229714706574\n",
            "10 \t [-0.38613179  0.        ]\t 62.90255709207396\t 3.4640248583909496\t 4.363226943938438\t 4.496498309696107\n",
            "11 \t [-4.66523529 12.26176777]\t 25.34651314340228\t 3.4640248583909496\t 5.152084904407087\t 6.194627563328663\n",
            "12 \t [0.37920028 6.89620034]\t 21.11376511618584\t 3.4640248583909496\t 5.275910871808752\t 4.7217096389021\n",
            "13 \t [ 2.62564216 14.20602321]\t 133.76597603764714\t 3.4640248583909496\t 4.774977334277547\t 5.499448304943441\n",
            "14 \t [4.28065987 0.        ]\t 8.39792707059312\t 3.4640248583909496\t 4.772654990831954\t 5.341546700656143\n",
            "15 \t [3.20014574 5.59199937]\t 11.71886374841904\t 3.4640248583909496\t 4.679707759448783\t 4.845657599670668\n",
            "16 \t [5.95849089 7.43184611]\t 59.15108234037165\t 3.4640248583909496\t 5.281230531612603\t 6.349594703146008\n",
            "17 \t [10. 15.]\t 145.87219087939556\t 3.4640248583909496\t 5.824780000806999\t 6.116592473268394\n",
            "18 \t [ 0.90143801 10.73043781]\t 52.68332658226026\t 3.4640248583909496\t 5.150744449555974\t 5.347826194549111\n",
            "\u001b[1m\u001b[92m19\u001b[0m\t \u001b[1m\u001b[92m[-3.81701423 14.9217906 ]\u001b[0m\t \u001b[1m\u001b[92m3.436658193480292\u001b[0m\t \u001b[1m\u001b[92m3.436658193480292\u001b[0m\t \u001b[1m\u001b[92m4.343854852662936\u001b[0m\t \u001b[1m\u001b[92m5.198597111592879\u001b[0m\n",
            "20 \t [-3.10066424  9.92846774]\t 5.461176684614152\t 3.436658193480292\t 4.734829220121599\t 4.79011128505996\n"
          ]
        }
      ],
      "source": [
        "### EXACT STP EI GRADIENTS\n",
        "\n",
        "np.random.seed(run_num_9)\n",
        "surrogate_stp_9 = dtStudentProcess(cov_func, optimize=opt, nu = df)\n",
        "\n",
        "stp_9 = dGPGO_stp(surrogate_stp_9, Acquisition_grad(util_stp), objfunc, param)\n",
        "stp_9.run(init_evals=n_init, max_iter=iters)\n"
      ]
    },
    {
      "cell_type": "code",
      "execution_count": 43,
      "metadata": {
        "id": "6amuYlUdIv7r",
        "colab": {
          "base_uri": "https://localhost:8080/"
        },
        "outputId": "927d19b0-43db-4611-bde4-db1416e2fa7f"
      },
      "outputs": [
        {
          "output_type": "stream",
          "name": "stdout",
          "text": [
            "Evaluation \t Proposed point \t  Current eval. \t  Best eval. \t        Exact EI: StdDev. x \t Approx EI: StdDev. x \n",
            "init\t [6.56980965 0.31127924]\t 19.863985024602144\t 2.710610964564512\t    \t    \n",
            "init\t [ 4.50472352 11.23205824]\t 103.66999147252169\t 2.710610964564512\t    \t    \n",
            "init\t [2.47760518 3.37194968]\t 2.710610964564512\t 2.710610964564512\t    \t    \n",
            "init\t [-2.02905703 11.40796068]\t 8.463930835255017\t 2.710610964564512\t    \t    \n",
            "init\t [-2.46333745  1.32509721]\t 90.49481266026973\t 2.710610964564512\t    \t    \n",
            "1  \t [ 9.16391068 14.81438212]\t 158.2412724465548\t 2.710610964564512\t 4.79428467440649\t 5.203917709185374\n",
            "2  \t [9.65621089 6.61160737]\t 16.1339423373336\t 2.710610964564512\t 4.468203933218896\t 4.776287144468003\n",
            "3  \t [-3.43070383  6.59407857]\t 41.58407101130534\t 2.710610964564512\t 4.368505583501311\t 5.002268036787654\n",
            "4  \t [1.05948815 8.11037376]\t 28.032600849082318\t 2.710610964564512\t 5.351324250953185\t 5.578819823417572\n",
            "5  \t [-4.09924692 14.83375461]\t 4.493827434732684\t 2.710610964564512\t 5.262234845034307\t 6.701131130566074\n",
            "6  \t [ 2.65497677 14.92888177]\t 151.42312581109823\t 2.710610964564512\t 5.431572316890512\t 5.732895700967943\n",
            "7  \t [4.67853157 6.65431263]\t 37.47686663855281\t 2.710610964564512\t 4.7602949128751355\t 5.146799967923768\n",
            "8  \t [2.04025289 0.        ]\t 16.483932439002636\t 2.710610964564512\t 5.480163450938808\t 5.765337660271324\n",
            "9  \t [ 8.56406388 11.03150462]\t 88.1382946619044\t 2.710610964564512\t 5.442066370247236\t 5.392919988040575\n",
            "10 \t [-5.          9.78832438]\t 67.4694826942422\t 2.710610964564512\t 5.091645357171274\t 5.863606840768677\n",
            "11 \t [-0.50846171  4.0801973 ]\t 26.018484090048673\t 2.710610964564512\t 4.846600178288688\t 4.740452059766701\n",
            "12 \t [8.60233507 2.86393261]\t 4.457024412780543\t 2.710610964564512\t 5.327332545935217\t 5.720646038883817\n",
            "13 \t [4.44669485 2.62888084]\t 8.804955710274616\t 2.710610964564512\t 4.71192991413004\t 5.82172833823908\n",
            "14 \t [-0.49141538 13.65051935]\t 65.21330681421733\t 2.710610964564512\t 4.850885233269295\t 5.489730130407757\n",
            "15 \t [-5.  0.]\t 308.12909601160663\t 2.710610964564512\t 6.074073632014275\t 6.198625807169635\n",
            "16 \t [-5.          3.39832791]\t 202.8611590826686\t 2.710610964564512\t 5.297176949227308\t 5.516196829282204\n",
            "17 \t [ 1.94435114 10.45891457]\t 56.41104561748115\t 2.710610964564512\t 5.489219820157795\t 5.957424413906757\n",
            "18 \t [7.17086333 7.85993681]\t 60.016400374255234\t 2.710610964564512\t 3.658232480500409\t 5.23639216522021\n",
            "19 \t [-1.69455498  8.81668356]\t 8.877808114573337\t 2.710610964564512\t 4.156835511076414\t 4.6727266763838795\n",
            "20 \t [ 6.92068317 13.3114756 ]\t 165.06374753602876\t 2.710610964564512\t 5.325155326670849\t 5.316123589348293\n"
          ]
        }
      ],
      "source": [
        "### EXACT STP EI GRADIENTS\n",
        "\n",
        "np.random.seed(run_num_10)\n",
        "surrogate_stp_10 = dtStudentProcess(cov_func, optimize=opt, nu = df)\n",
        "\n",
        "stp_10 = dGPGO_stp(surrogate_stp_10, Acquisition_grad(util_stp), objfunc, param)\n",
        "stp_10.run(init_evals=n_init, max_iter=iters)\n"
      ]
    },
    {
      "cell_type": "code",
      "execution_count": 44,
      "metadata": {
        "id": "VwbLIP9cIv-F",
        "colab": {
          "base_uri": "https://localhost:8080/"
        },
        "outputId": "f0ba3a73-b991-452f-9f20-230e015bfe9f"
      },
      "outputs": [
        {
          "output_type": "stream",
          "name": "stdout",
          "text": [
            "Evaluation \t Proposed point \t  Current eval. \t  Best eval. \t        Exact EI: StdDev. x \t Approx EI: StdDev. x \n",
            "init\t [-2.29595467  0.29212862]\t 104.49282729548965\t 22.37435843952312\t    \t    \n",
            "init\t [ 1.9482779  10.87400894]\t 62.47758067812407\t 22.37435843952312\t    \t    \n",
            "init\t [1.30305407 7.28140647]\t 22.37435843952312\t 22.37435843952312\t    \t    \n",
            "init\t [-4.80828778  7.31057411]\t 97.94503054415523\t 22.37435843952312\t    \t    \n",
            "init\t [ 9.12709979 12.76192634]\t 111.62900800771942\t 22.37435843952312\t    \t    \n",
            "\u001b[1m\u001b[92m1\u001b[0m\t \u001b[1m\u001b[92m[6.94653631 0.95529646]\u001b[0m\t \u001b[1m\u001b[92m17.615403152614682\u001b[0m\t \u001b[1m\u001b[92m17.615403152614682\u001b[0m\t \u001b[1m\u001b[92m4.572990142708335\u001b[0m\t \u001b[1m\u001b[92m4.995408119136995\u001b[0m\n",
            "2  \t [6.18693254 5.95578131]\t 43.15441398245177\t 17.615403152614682\t 4.8360421899299055\t 5.502311667340213\n",
            "\u001b[1m\u001b[92m3\u001b[0m\t \u001b[1m\u001b[92m[1.17950507 2.99234971]\u001b[0m\t \u001b[1m\u001b[92m15.378531253008628\u001b[0m\t \u001b[1m\u001b[92m15.378531253008628\u001b[0m\t \u001b[1m\u001b[92m5.174667263831869\u001b[0m\t \u001b[1m\u001b[92m5.96329043419755\u001b[0m\n",
            "4  \t [ 4.90430653 15.        ]\t 199.47416982917684\t 15.378531253008628\t 4.4325112144584455\t 4.864992243667537\n",
            "\u001b[1m\u001b[92m5\u001b[0m\t \u001b[1m\u001b[92m[-3.42208896 11.32925449]\u001b[0m\t \u001b[1m\u001b[92m3.4300860679630905\u001b[0m\t \u001b[1m\u001b[92m3.4300860679630905\u001b[0m\t \u001b[1m\u001b[92m5.568051878771343\u001b[0m\t \u001b[1m\u001b[92m5.732868765855031\u001b[0m\n",
            "6  \t [6.43645684 9.64474589]\t 92.36705154594212\t 3.4300860679630905\t 5.425065008917805\t 5.666645116222379\n",
            "7  \t [-0.54533048 14.6951449 ]\t 78.87489616827352\t 3.4300860679630905\t 5.517769407160576\t 5.593614271602302\n",
            "8  \t [10.          5.14895298]\t 6.548441099087019\t 3.4300860679630905\t 4.91051805058444\t 5.321196761987708\n",
            "9  \t [2.7442183 0.       ]\t 7.933643741495122\t 3.4300860679630905\t 5.37496343203439\t 4.994096698426216\n",
            "10 \t [4.21974581 2.33170144]\t 6.017141305235302\t 3.4300860679630905\t 5.476543437487915\t 6.2850609856136135\n",
            "11 \t [-4.75415634 13.61510062]\t 18.644743848491714\t 3.4300860679630905\t 5.567708552755812\t 5.568846127016744\n",
            "\u001b[1m\u001b[92m12\u001b[0m\t \u001b[1m\u001b[92m[9.34392777 2.04075113]\u001b[0m\t \u001b[1m\u001b[92m0.563865132864759\u001b[0m\t \u001b[1m\u001b[92m0.563865132864759\u001b[0m\t \u001b[1m\u001b[92m5.713168549603835\u001b[0m\t \u001b[1m\u001b[92m5.306082957486892\u001b[0m\n",
            "13 \t [-2.36116183  5.03973027]\t 32.75272541910515\t 0.563865132864759\t 5.721592717058231\t 4.8023069763609865\n",
            "14 \t [-5.          2.69578983]\t 222.7293589165445\t 0.563865132864759\t 5.636612491166934\t 5.840675232030656\n",
            "15 \t [-1.76661918  8.92207799]\t 8.21739030307639\t 0.563865132864759\t 5.731553805801624\t 5.251478853845168\n",
            "16 \t [9.4077514  9.56586927]\t 50.883062153958974\t 0.563865132864759\t 5.594072151515053\t 5.5971692349697015\n",
            "17 \t [3.71707582 8.52754632]\t 46.28090951507064\t 0.563865132864759\t 4.401426845667646\t 4.273315763228916\n",
            "18 \t [-0.91971995 11.03946228]\t 27.83527225020902\t 0.563865132864759\t 4.902633844714111\t 4.902962636485242\n",
            "19 \t [0.48589501 0.        ]\t 46.12861446297121\t 0.563865132864759\t 5.378888390376455\t 5.517723398329432\n",
            "20 \t [2.67498366 5.15305277]\t 7.604743127020579\t 0.563865132864759\t 5.533601296336324\t 5.51633741965178\n"
          ]
        }
      ],
      "source": [
        "### EXACT STP EI GRADIENTS\n",
        "\n",
        "np.random.seed(run_num_11)\n",
        "surrogate_stp_11 = dtStudentProcess(cov_func, optimize=opt, nu = df)\n",
        "\n",
        "stp_11 = dGPGO_stp(surrogate_stp_11, Acquisition_grad(util_stp), objfunc, param)\n",
        "stp_11.run(init_evals=n_init, max_iter=iters)\n"
      ]
    },
    {
      "cell_type": "code",
      "execution_count": 45,
      "metadata": {
        "id": "MlUNFjc-JTBY",
        "colab": {
          "base_uri": "https://localhost:8080/"
        },
        "outputId": "e203109b-2022-4589-d032-84ace0a8906e"
      },
      "outputs": [
        {
          "output_type": "stream",
          "name": "stdout",
          "text": [
            "Evaluation \t Proposed point \t  Current eval. \t  Best eval. \t        Exact EI: StdDev. x \t Approx EI: StdDev. x \n",
            "init\t [-2.68755736 11.10074545]\t 1.3827702760021356\t 0.5499315281120278\t    \t    \n",
            "init\t [-1.05027477  8.0060909 ]\t 14.81231853080056\t 0.5499315281120278\t    \t    \n",
            "init\t [-4.78137556 13.78120512]\t 18.401131000214548\t 0.5499315281120278\t    \t    \n",
            "init\t [8.51072281 0.50132141]\t 5.855172364344769\t 0.5499315281120278\t    \t    \n",
            "init\t [9.35424004 2.05813982]\t 0.5499315281120278\t 0.5499315281120278\t    \t    \n",
            "1  \t [9.43895355 6.28875405]\t 14.852312468115107\t 0.5499315281120278\t 4.793668138150754\t 4.182314830100322\n",
            "2  \t [-5.  0.]\t 308.12909601160663\t 0.5499315281120278\t 5.672602160834171\t 4.481227689145763\n",
            "3  \t [10. 15.]\t 145.87219087939556\t 0.5499315281120278\t 5.333641084854815\t 4.944965969221232\n",
            "4  \t [ 2.96504557 14.18967184]\t 139.14981054237984\t 0.5499315281120278\t 4.419922516669865\t 4.13970888109774\n",
            "5  \t [1.83254566 0.        ]\t 19.886256227164537\t 0.5499315281120278\t 4.159345883304069\t 4.2244821288892735\n",
            "6  \t [4.42105458 7.91114944]\t 48.49012083096494\t 0.5499315281120278\t 4.664040662403255\t 4.349259218115098\n",
            "7  \t [-5.       5.44203]\t 150.67653034776723\t 0.5499315281120278\t 5.35229062477919\t 5.048958590476262\n",
            "8  \t [5.23091662 2.76859335]\t 17.189449438071385\t 0.5499315281120278\t 4.8854057340444035\t 5.295488853830487\n",
            "9  \t [-0.79367715  4.09916335]\t 27.26582735293364\t 0.5499315281120278\t 4.326569213970146\t 4.130373992185027\n",
            "10 \t [ 7.43848958 10.3316678 ]\t 95.2807117740619\t 0.5499315281120278\t 5.260755043825092\t 5.8169888350220615\n",
            "11 \t [-5.          9.58078396]\t 70.58375346635958\t 0.5499315281120278\t 5.1481632165342415\t 5.594101379066913\n",
            "12 \t [ 1.289063   10.23146341]\t 49.49515463723561\t 0.5499315281120278\t 4.418671612736477\t 4.973169364882566\n",
            "13 \t [2.46564753 3.7578293 ]\t 3.3132422016949556\t 0.5499315281120278\t 4.2181511575395705\t 4.521906612646756\n",
            "14 \t [-0.83175609 13.40485804]\t 52.3683076128788\t 0.5499315281120278\t 4.877092096913866\t 5.366677608885145\n",
            "15 \t [5.44766312 0.        ]\t 17.794942620935593\t 0.5499315281120278\t 4.858462159923911\t 4.176960359531321\n",
            "16 \t [ 6.371185   14.86332708]\t 208.88950121456935\t 0.5499315281120278\t 4.993410638931689\t 5.2650996267822885\n",
            "17 \t [1.67098694 6.19844059]\t 15.27552636510396\t 0.5499315281120278\t 4.970939841439005\t 5.105449010499316\n",
            "18 \t [3.93631092 2.66547005]\t 4.136243786491044\t 0.5499315281120278\t 6.119082335119981\t 6.119082335119981\n",
            "19 \t [-1.15544945  0.75755733]\t 66.4931108983734\t 0.5499315281120278\t 5.410256964976496\t 5.595878624924\n",
            "20 \t [6.36829127 5.44620955]\t 38.425228992400285\t 0.5499315281120278\t 4.292461884923139\t 4.449576980948594\n"
          ]
        }
      ],
      "source": [
        "### EXACT STP EI GRADIENTS\n",
        "\n",
        "np.random.seed(run_num_12)\n",
        "surrogate_stp_12 = dtStudentProcess(cov_func, optimize=opt, nu = df)\n",
        "\n",
        "stp_12 = dGPGO_stp(surrogate_stp_12, Acquisition_grad(util_stp), objfunc, param)\n",
        "stp_12.run(init_evals=n_init, max_iter=iters)\n"
      ]
    },
    {
      "cell_type": "code",
      "execution_count": 46,
      "metadata": {
        "id": "9BsKdU9eJTFL",
        "colab": {
          "base_uri": "https://localhost:8080/"
        },
        "outputId": "e9b43a13-f332-4353-bced-98be9b260cba"
      },
      "outputs": [
        {
          "output_type": "stream",
          "name": "stdout",
          "text": [
            "Evaluation \t Proposed point \t  Current eval. \t  Best eval. \t        Exact EI: StdDev. x \t Approx EI: StdDev. x \n",
            "init\t [6.66553616 3.5631183 ]\t 24.823670200298267\t 18.038943061558626\t    \t    \n",
            "init\t [ 7.36417799 14.48623797]\t 188.7803334745195\t 18.038943061558626\t    \t    \n",
            "init\t [9.58901671 6.80173871]\t 18.038943061558626\t 18.038943061558626\t    \t    \n",
            "init\t [ 4.13563694 11.63289772]\t 104.87319703906111\t 18.038943061558626\t    \t    \n",
            "init\t [ 4.62420017 10.83027344]\t 98.03271225790056\t 18.038943061558626\t    \t    \n",
            "1  \t [-3.51870171  3.68338658]\t 91.63196166423945\t 18.038943061558626\t 5.522714454318587\t 5.806619281166263\n",
            "\u001b[1m\u001b[92m2\u001b[0m\t \u001b[1m\u001b[92m[-3.06562888 11.40851515]\u001b[0m\t \u001b[1m\u001b[92m0.8943531028899869\u001b[0m\t \u001b[1m\u001b[92m0.8943531028899869\u001b[0m\t \u001b[1m\u001b[92m3.8217538237112976\u001b[0m\t \u001b[1m\u001b[92m5.154859902035678\u001b[0m\n",
            "3  \t [1.71859813 0.        ]\t 21.88162227587915\t 0.8943531028899869\t 5.8467888976871745\t 5.679229540913796\n",
            "4  \t [2.11702107 5.4034413 ]\t 9.824834872557432\t 0.8943531028899869\t 5.848084224045363\t 6.1617598247170005\n",
            "5  \t [-0.27482781  8.99283113]\t 25.722208565875633\t 0.8943531028899869\t 4.928881435939478\t 5.991067892450354\n",
            "6  \t [ 0.05921669 13.50653104]\t 77.35021187126164\t 0.8943531028899869\t 5.24011634648884\t 5.623557061640219\n",
            "7  \t [-5.          8.02403906]\t 96.69020485419651\t 0.8943531028899869\t 5.968134979396747\t 6.356497954374626\n",
            "8  \t [10.         10.34744645]\t 55.884671785975975\t 0.8943531028899869\t 5.14877959360665\t 5.748304888477713\n",
            "9  \t [5.07926544 0.45761937]\t 14.070450669173916\t 0.8943531028899869\t 4.945587058693404\t 5.09268020242254\n",
            "10 \t [-5.  0.]\t 308.12909601160663\t 0.8943531028899869\t 5.106176275989083\t 5.217078102694372\n",
            "11 \t [9.24149036 1.58748771]\t 1.1022551284354893\t 0.8943531028899869\t 5.20837955401928\t 6.576057585598636\n",
            "12 \t [6.12048763 6.9924179 ]\t 54.216630388066676\t 0.8943531028899869\t 4.870597839717793\t 4.909158189343841\n",
            "13 \t [-4.43446921 13.32397319]\t 12.536929350944982\t 0.8943531028899869\t 5.998642158500574\t 6.915781988623358\n",
            "14 \t [-1.16279473  0.84036844]\t 65.43333655291917\t 0.8943531028899869\t 4.834328496384519\t 4.960799041135312\n",
            "15 \t [-0.86952868  5.95043484]\t 18.539535671829142\t 0.8943531028899869\t 5.507248263849097\t 5.941762810362549\n",
            "16 \t [ 3.3194548 15.       ]\t 165.91921289583559\t 0.8943531028899869\t 4.929142386416622\t 5.328871830826634\n",
            "17 \t [9.64639287 3.91209639]\t 2.179794374315418\t 0.8943531028899869\t 5.821977668302148\t 6.124647421174212\n",
            "\u001b[1m\u001b[92m18\u001b[0m\t \u001b[1m\u001b[92m[3.18163052 2.8854534 ]\u001b[0m\t \u001b[1m\u001b[92m0.8170666118494498\u001b[0m\t \u001b[1m\u001b[92m0.8170666118494498\u001b[0m\t \u001b[1m\u001b[92m4.549214913403543\u001b[0m\t \u001b[1m\u001b[92m4.219139002298692\u001b[0m\n",
            "19 \t [2.50323329 8.18257142]\t 30.987287054227906\t 0.8170666118494498\t 5.270378943397934\t 5.856935043241038\n",
            "20 \t [-2.71771691 15.        ]\t 15.08951260912144\t 0.8170666118494498\t 6.071243763990453\t 6.672003967977676\n"
          ]
        }
      ],
      "source": [
        "### EXACT STP EI GRADIENTS\n",
        "\n",
        "np.random.seed(run_num_13)\n",
        "surrogate_stp_13 = dtStudentProcess(cov_func, optimize=opt, nu = df)\n",
        "\n",
        "stp_13 = dGPGO_stp(surrogate_stp_13, Acquisition_grad(util_stp), objfunc, param)\n",
        "stp_13.run(init_evals=n_init, max_iter=iters)\n"
      ]
    },
    {
      "cell_type": "code",
      "execution_count": 47,
      "metadata": {
        "id": "k6GjFBr1JTJf",
        "colab": {
          "base_uri": "https://localhost:8080/"
        },
        "outputId": "50108326-db67-42cf-ae96-c641feb5c781"
      },
      "outputs": [
        {
          "output_type": "stream",
          "name": "stdout",
          "text": [
            "Evaluation \t Proposed point \t  Current eval. \t  Best eval. \t        Exact EI: StdDev. x \t Approx EI: StdDev. x \n",
            "init\t [ 2.70915016 11.59747578]\t 81.58264375064097\t 1.4149920024014744\t    \t    \n",
            "init\t [8.05641529 0.12070423]\t 10.148649076616518\t 1.4149920024014744\t    \t    \n",
            "init\t [-0.35396112 14.36405609]\t 79.6056658956529\t 1.4149920024014744\t    \t    \n",
            "init\t [2.69675068 4.77426637]\t 5.855607664288365\t 1.4149920024014744\t    \t    \n",
            "init\t [3.08799906 3.31882414]\t 1.4149920024014744\t 1.4149920024014744\t    \t    \n",
            "1  \t [-5.  0.]\t 308.12909601160663\t 1.4149920024014744\t 5.296988628673486\t 5.3777635677532505\n",
            "2  \t [-3.61083748  7.85924032]\t 32.481990179851884\t 1.4149920024014744\t 5.320604150836499\t 5.707339486968772\n",
            "3  \t [10. 15.]\t 145.87219087939556\t 1.4149920024014744\t 5.315487723813065\t 5.121028404681541\n",
            "4  \t [8.19772537 6.72053896]\t 32.63212233587686\t 1.4149920024014744\t 4.1727215091261565\t 4.20315828389491\n",
            "5  \t [0.97475301 0.        ]\t 36.28784219036623\t 1.4149920024014744\t 4.969559308771885\t 4.95566481284977\n",
            "6  \t [-5.         11.80699084]\t 41.67212733777352\t 1.4149920024014744\t 4.769297062154836\t 4.821080043395919\n",
            "7  \t [ 7.07453624 10.83985628]\t 109.55864346502544\t 1.4149920024014744\t 4.05247271205885\t 3.8914111502472193\n",
            "8  \t [10.          3.29239522]\t 2.0269153747020745\t 1.4149920024014744\t 5.532652882373893\t 5.8886418235738685\n",
            "9  \t [ 5.27738543 14.89686616]\t 202.78162409064413\t 1.4149920024014744\t 5.257250651594405\t 5.881902836895701\n",
            "10 \t [-2.13243305  3.63180926]\t 45.20233559043634\t 1.4149920024014744\t 4.976360760909708\t 5.978513337975233\n",
            "11 \t [4.71052159 0.        ]\t 11.857459322119345\t 1.4149920024014744\t 4.983284215452677\t 4.434412076927392\n",
            "12 \t [-0.08791148  8.66294311]\t 25.925663471576385\t 1.4149920024014744\t 4.8285114804989435\t 5.046577195180941\n",
            "13 \t [4.66951819 7.16095808]\t 42.94991682605787\t 1.4149920024014744\t 4.909582166168825\t 5.050850653368464\n",
            "14 \t [-4.38913636 14.75399057]\t 7.468574425569316\t 1.4149920024014744\t 5.336514556757017\t 6.425531426664286\n",
            "15 \t [7.23823496 2.90148873]\t 18.27913326282239\t 1.4149920024014744\t 5.25705562317745\t 5.624923362864451\n",
            "16 \t [10.          9.24976995]\t 40.96581757074264\t 1.4149920024014744\t 5.347834008995557\t 4.718453432240344\n",
            "17 \t [-1.82931394  0.        ]\t 94.85081708392283\t 1.4149920024014744\t 5.583912672030992\t 6.092165939989535\n",
            "18 \t [0.56321844 3.33568315]\t 21.39112257532063\t 1.4149920024014744\t 4.592972092406221\t 4.678635791910982\n",
            "19 \t [-5.          4.80137254]\t 166.13643877588177\t 1.4149920024014744\t 4.703959512029494\t 5.522096630715778\n",
            "20 \t [-0.90524778 11.41640604]\t 30.90453766242105\t 1.4149920024014744\t 4.890558551749553\t 4.757128652058487\n"
          ]
        }
      ],
      "source": [
        "### EXACT STP EI GRADIENTS\n",
        "\n",
        "np.random.seed(run_num_14)\n",
        "surrogate_stp_14 = dtStudentProcess(cov_func, optimize=opt, nu = df)\n",
        "\n",
        "stp_14 = dGPGO_stp(surrogate_stp_14, Acquisition_grad(util_stp), objfunc, param)\n",
        "stp_14.run(init_evals=n_init, max_iter=iters)\n"
      ]
    },
    {
      "cell_type": "code",
      "execution_count": 48,
      "metadata": {
        "id": "dPS8WB3aJTN6",
        "colab": {
          "base_uri": "https://localhost:8080/"
        },
        "outputId": "0f07fdbd-24a2-48c4-e1e2-e6571626e18d"
      },
      "outputs": [
        {
          "output_type": "stream",
          "name": "stdout",
          "text": [
            "Evaluation \t Proposed point \t  Current eval. \t  Best eval. \t        Exact EI: StdDev. x \t Approx EI: StdDev. x \n",
            "init\t [7.73226546 2.68343887]\t 12.768724532005583\t 12.768724532005583\t    \t    \n",
            "init\t [-4.18455179  5.42307669]\t 95.39334176626551\t 12.768724532005583\t    \t    \n",
            "init\t [-0.86898607  7.95000337]\t 16.419487782111716\t 12.768724532005583\t    \t    \n",
            "init\t [-0.41121626  4.56711539]\t 23.250362743740954\t 12.768724532005583\t    \t    \n",
            "init\t [-3.32388086  3.74848521]\t 80.99796277938532\t 12.768724532005583\t    \t    \n",
            "1  \t [ 6.5655417  11.87699252]\t 134.95011349993544\t 12.768724532005583\t 4.778377002095066\t 5.03398539056343\n",
            "2  \t [-4.77493765 13.49591113]\t 19.896906503438096\t 12.768724532005583\t 5.085559724490371\t 6.068903666287861\n",
            "\u001b[1m\u001b[92m3\u001b[0m\t \u001b[1m\u001b[92m[3.71891505 0.        ]\u001b[0m\t \u001b[1m\u001b[92m5.442908441895087\u001b[0m\t \u001b[1m\u001b[92m5.442908441895087\u001b[0m\t \u001b[1m\u001b[92m5.6313058911702205\u001b[0m\t \u001b[1m\u001b[92m5.845404205066821\u001b[0m\n",
            "4  \t [4.35176896 6.82771086]\t 34.77911378970321\t 5.442908441895087\t 4.919083295754282\t 5.025030871200043\n",
            "5  \t [10. 15.]\t 145.87219087939556\t 5.442908441895087\t 6.234347478091865\t 5.790230238586709\n",
            "6  \t [ 2.96076612 14.94100093]\t 157.32381663986516\t 5.442908441895087\t 5.645688233489533\t 5.521435454184273\n",
            "7  \t [-0.44976385  0.        ]\t 64.10112186220695\t 5.442908441895087\t 4.67661460904883\t 4.84402256366342\n",
            "8  \t [10.         5.8475003]\t 10.034569489423504\t 5.442908441895087\t 5.802145808534653\t 5.988538410912319\n",
            "9  \t [-5.  0.]\t 308.12909601160663\t 5.442908441895087\t 5.07109953622803\t 5.743092106709945\n",
            "10 \t [-1.48087951 12.18436364]\t 23.423358999230484\t 5.442908441895087\t 4.235426040740817\t 4.994734012739027\n",
            "11 \t [-5.          9.60644785]\t 70.19398347734692\t 5.442908441895087\t 4.673774467733523\t 5.081011160612358\n",
            "12 \t [ 1.90576015 10.45915326]\t 56.16705605142275\t 5.442908441895087\t 4.399592136531962\t 3.9217348993939893\n",
            "13 \t [4.30008773 2.64883609]\t 7.370890623709252\t 5.442908441895087\t 4.9167400389337645\t 5.147676451977072\n",
            "14 \t [9.45003777 8.95107782]\t 42.06395037319377\t 5.442908441895087\t 4.685731103210029\t 4.960423943130392\n",
            "15 \t [1.76591699 2.49545836]\t 9.34138519700579\t 5.442908441895087\t 4.486975906403728\t 5.097799405217742\n",
            "16 \t [7.38757751 4.86820455]\t 27.101957517123534\t 5.442908441895087\t 5.82571262239078\t 5.3980013611514135\n",
            "\u001b[1m\u001b[92m17\u001b[0m\t \u001b[1m\u001b[92m[2.51230767 4.33962608]\u001b[0m\t \u001b[1m\u001b[92m4.555848040028737\u001b[0m\t \u001b[1m\u001b[92m4.555848040028737\u001b[0m\t \u001b[1m\u001b[92m4.8147024716869185\u001b[0m\t \u001b[1m\u001b[92m6.384840891437698\u001b[0m\n",
            "18 \t [-2.84646182  1.34655423]\t 105.47469852700566\t 4.555848040028737\t 5.063363273029515\t 4.904869473191775\n",
            "19 \t [1.28454778 6.8712239 ]\t 20.01462077043069\t 4.555848040028737\t 4.474060477317403\t 4.487142147733081\n",
            "20 \t [ 5.38013932 15.        ]\t 207.03210501424962\t 4.555848040028737\t 4.681897738823726\t 4.429808897140287\n"
          ]
        }
      ],
      "source": [
        "### EXACT STP EI GRADIENTS\n",
        "\n",
        "np.random.seed(run_num_15)\n",
        "surrogate_stp_15 = dtStudentProcess(cov_func, optimize=opt, nu = df)\n",
        "\n",
        "stp_15 = dGPGO_stp(surrogate_stp_15, Acquisition_grad(util_stp), objfunc, param)\n",
        "stp_15.run(init_evals=n_init, max_iter=iters)\n"
      ]
    },
    {
      "cell_type": "code",
      "execution_count": 49,
      "metadata": {
        "id": "lu8ki9XIQPPN",
        "colab": {
          "base_uri": "https://localhost:8080/"
        },
        "outputId": "d7cf3594-0846-496b-a2b3-ec62dae7a2c0"
      },
      "outputs": [
        {
          "output_type": "stream",
          "name": "stdout",
          "text": [
            "Evaluation \t Proposed point \t  Current eval. \t  Best eval. \t        Exact EI: StdDev. x \t Approx EI: StdDev. x \n",
            "init\t [-1.65063381  7.84745012]\t 10.514702126319445\t 2.715864006988424\t    \t    \n",
            "init\t [3.26052185 0.68402925]\t 2.715864006988424\t 2.715864006988424\t    \t    \n",
            "init\t [0.41093253 3.34621413]\t 22.889515127492515\t 2.715864006988424\t    \t    \n",
            "init\t [5.33089243 2.45597138]\t 17.178157611778595\t 2.715864006988424\t    \t    \n",
            "init\t [-3.945127  14.1151629]\t 3.3649224341694195\t 2.715864006988424\t    \t    \n",
            "1  \t [ 5.63879248 14.58068289]\t 198.51319639462758\t 2.715864006988424\t 5.294379775593306\t 5.541078495643862\n",
            "2  \t [-5.  0.]\t 308.12909601160663\t 2.715864006988424\t 5.897176526566142\t 5.489359615241944\n",
            "3  \t [4.39600939 7.43435868]\t 42.22899400142327\t 2.715864006988424\t 4.851081289072472\t 5.771335824801749\n",
            "4  \t [10.          9.09483127]\t 39.05407754897555\t 2.715864006988424\t 5.115270113679681\t 6.0123333254996565\n",
            "5  \t [ 0.8310123  11.57226008]\t 62.78985808204933\t 2.715864006988424\t 5.2750038058147375\t 5.130396388104556\n",
            "6  \t [-5.         5.0575989]\t 159.85485767997437\t 2.715864006988424\t 5.43339924236804\t 6.28354577988971\n",
            "7  \t [9.25810749 0.8143285 ]\t 2.8525180892541595\t 2.715864006988424\t 4.111140894488995\t 4.932636868246743\n",
            "8  \t [10. 15.]\t 145.87219087939556\t 2.715864006988424\t 4.908443559068684\t 5.722310141864276\n",
            "9  \t [9.28310748 4.17883383]\t 3.8091914051547873\t 2.715864006988424\t 4.386696660039328\t 4.544807563934242\n",
            "10 \t [-5.         10.34050885]\t 59.60312528271335\t 2.715864006988424\t 4.566942491029969\t 5.738323354981043\n",
            "11 \t [ 6.39354171 10.32258752]\t 104.50603585084522\t 2.715864006988424\t 4.493255750977549\t 5.338951134342047\n",
            "12 \t [-0.55506794  0.        ]\t 66.09146919665218\t 2.715864006988424\t 5.059632943750086\t 4.782223587869553\n",
            "13 \t [1.29631147 8.09806885]\t 28.158808651661694\t 2.715864006988424\t 4.087468021524537\t 4.683379463446429\n",
            "14 \t [ 1.30509226 14.884634  ]\t 127.90589634494864\t 2.715864006988424\t 4.99578836872536\t 5.283948102725517\n",
            "15 \t [5.57562145 0.        ]\t 18.60161652116152\t 2.715864006988424\t 4.356234766939704\t 5.35926475899471\n",
            "16 \t [7.12511682 5.36662675]\t 33.60324998666509\t 2.715864006988424\t 4.327638253661945\t 5.152226170616431\n",
            "17 \t [7.35242849 3.17344348]\t 18.195162893133364\t 2.715864006988424\t 5.588260829373804\t 5.2499785828590335\n",
            "18 \t [-2.72402393  2.66211933]\t 75.73241479188133\t 2.715864006988424\t 5.168808607708974\t 5.130646285336074\n",
            "19 \t [2.5476707  5.22235661]\t 7.989056440568922\t 2.715864006988424\t 4.677591432849149\t 4.538648922061046\n",
            "20 \t [-2.2162522  13.08181428]\t 12.75021094176814\t 2.715864006988424\t 5.199536698340262\t 4.791997194291208\n"
          ]
        }
      ],
      "source": [
        "### EXACT STP EI GRADIENTS\n",
        "\n",
        "np.random.seed(run_num_16)\n",
        "surrogate_stp_16 = dtStudentProcess(cov_func, optimize=opt, nu = df)\n",
        "\n",
        "stp_16 = dGPGO_stp(surrogate_stp_16, Acquisition_grad(util_stp), objfunc, param)\n",
        "stp_16.run(init_evals=n_init, max_iter=iters)\n"
      ]
    },
    {
      "cell_type": "code",
      "execution_count": 50,
      "metadata": {
        "id": "yU2SflSsJTUs",
        "colab": {
          "base_uri": "https://localhost:8080/"
        },
        "outputId": "2f5af62e-6b8b-4f00-aeac-55d70b284f9a"
      },
      "outputs": [
        {
          "output_type": "stream",
          "name": "stdout",
          "text": [
            "Evaluation \t Proposed point \t  Current eval. \t  Best eval. \t        Exact EI: StdDev. x \t Approx EI: StdDev. x \n",
            "init\t [-0.58002496  7.95880133]\t 19.016141117164256\t 19.016141117164256\t    \t    \n",
            "init\t [-2.1271882   1.01850537]\t 85.05949339404415\t 19.016141117164256\t    \t    \n",
            "init\t [6.8047819  9.84500283]\t 93.89792695202516\t 19.016141117164256\t    \t    \n",
            "init\t [4.56281344 8.63404341]\t 60.50217141122736\t 19.016141117164256\t    \t    \n",
            "init\t [-4.41405626  5.36720407]\t 110.70834086593878\t 19.016141117164256\t    \t    \n",
            "\u001b[1m\u001b[92m1\u001b[0m\t \u001b[1m\u001b[92m[9.76575296 0.98553483]\u001b[0m\t \u001b[1m\u001b[92m4.1623278326263815\u001b[0m\t \u001b[1m\u001b[92m4.1623278326263815\u001b[0m\t \u001b[1m\u001b[92m5.807197416513701\u001b[0m\t \u001b[1m\u001b[92m7.182295008591052\u001b[0m\n",
            "2  \t [-0.36591853 14.49945231]\t 81.3728947682288\t 4.1623278326263815\t 4.9748975540247695\t 5.3644262398357085\n",
            "\u001b[1m\u001b[92m3\u001b[0m\t \u001b[1m\u001b[92m[3.74599703 2.35814314]\u001b[0m\t \u001b[1m\u001b[92m2.3563457989420957\u001b[0m\t \u001b[1m\u001b[92m2.3563457989420957\u001b[0m\t \u001b[1m\u001b[92m4.486543565927281\u001b[0m\t \u001b[1m\u001b[92m4.517351572696088\u001b[0m\n",
            "4  \t [10. 15.]\t 145.87219087939556\t 2.3563457989420957\t 5.680552314402931\t 6.419994285155655\n",
            "5  \t [9.29977095 5.44257151]\t 9.903848503973805\t 2.3563457989420957\t 5.003168775966834\t 5.719870793469565\n",
            "6  \t [-5.         11.69051689]\t 42.939039120011564\t 2.3563457989420957\t 5.307488454883999\t 5.81460048837803\n",
            "7  \t [ 4.03996887 14.67401248]\t 172.89833550316087\t 2.3563457989420957\t 5.135750068414126\t 5.379963603022577\n",
            "8  \t [6.70657825 3.05016959]\t 22.41586307439441\t 2.3563457989420957\t 5.342038867421077\t 5.578197824722245\n",
            "9  \t [1.90430316 0.        ]\t 18.67429743768774\t 2.3563457989420957\t 5.681717236524191\t 6.308517196212841\n",
            "10 \t [-0.0321702   4.45699003]\t 22.139077536465095\t 2.3563457989420957\t 5.013697164603927\t 5.6549302540121795\n",
            "11 \t [5.31090087 0.        ]\t 16.828857181119808\t 2.3563457989420957\t 5.482948852447682\t 5.743387454559767\n",
            "12 \t [ 1.43728812 10.75833256]\t 57.23270751253966\t 2.3563457989420957\t 5.521329421589324\t 6.0084117929290795\n",
            "13 \t [2.54117171 5.93926145]\t 11.996327108848904\t 2.3563457989420957\t 4.638633510509234\t 4.648859673491646\n",
            "14 \t [10.          7.94935407]\t 26.409988554173808\t 2.3563457989420957\t 4.734722382387732\t 5.3322959259586575\n",
            "15 \t [ 9.97802058 11.35736028]\t 71.99013521533912\t 2.3563457989420957\t 5.029690233192042\t 4.9910486783255665\n",
            "16 \t [6.62376227 5.96740682]\t 42.49149850354457\t 2.3563457989420957\t 4.689381196958649\t 4.857530533669507\n",
            "17 \t [-5.  0.]\t 308.12909601160663\t 2.3563457989420957\t 4.953718790409291\t 4.91161825811249\n",
            "18 \t [ 6.80659613 13.7547197 ]\t 177.14381062041403\t 2.3563457989420957\t 4.679875900938047\t 4.95343443407085\n",
            "19 \t [-2.37778908 10.26596695]\t 3.127153602521206\t 2.3563457989420957\t 4.969036264610569\t 5.497792252744461\n",
            "20 \t [1.97268038 0.95935351]\t 12.022097562939827\t 2.3563457989420957\t 4.9546049112068635\t 4.743597211579854\n"
          ]
        }
      ],
      "source": [
        "### EXACT STP EI GRADIENTS\n",
        "\n",
        "np.random.seed(run_num_17)\n",
        "surrogate_stp_17 = dtStudentProcess(cov_func, optimize=opt, nu = df)\n",
        "\n",
        "stp_17 = dGPGO_stp(surrogate_stp_17, Acquisition_grad(util_stp), objfunc, param)\n",
        "stp_17.run(init_evals=n_init, max_iter=iters)\n"
      ]
    },
    {
      "cell_type": "code",
      "execution_count": 51,
      "metadata": {
        "id": "eVEhyZ9BQS-1",
        "colab": {
          "base_uri": "https://localhost:8080/"
        },
        "outputId": "f65258cb-06fd-40fa-c284-81ea187e0d21"
      },
      "outputs": [
        {
          "output_type": "stream",
          "name": "stdout",
          "text": [
            "Evaluation \t Proposed point \t  Current eval. \t  Best eval. \t        Exact EI: StdDev. x \t Approx EI: StdDev. x \n",
            "init\t [4.75561363 7.58180061]\t 49.215059064668324\t 8.150075223157177\t    \t    \n",
            "init\t [8.17902206 2.72760338]\t 8.150075223157177\t 8.150075223157177\t    \t    \n",
            "init\t [ 7.78349603 11.25204429]\t 106.98107856533271\t 8.150075223157177\t    \t    \n",
            "init\t [ 4.99152501 14.81843172]\t 196.08601750690153\t 8.150075223157177\t    \t    \n",
            "init\t [-1.14547366  0.42458888]\t 71.23649635555944\t 8.150075223157177\t    \t    \n",
            "\u001b[1m\u001b[92m1\u001b[0m\t \u001b[1m\u001b[92m[-2.12483893 10.71385111]\u001b[0m\t \u001b[1m\u001b[92m5.508754856016457\u001b[0m\t \u001b[1m\u001b[92m5.508754856016457\u001b[0m\t \u001b[1m\u001b[92m5.5853463759087845\u001b[0m\t \u001b[1m\u001b[92m6.064619817525864\u001b[0m\n",
            "2  \t [-5.          5.56398299]\t 147.82664666642734\t 5.508754856016457\t 5.548569449904449\t 5.770078858541384\n",
            "3  \t [0.88788193 4.41747816]\t 16.133054615947543\t 5.508754856016457\t 5.485987837484299\t 5.090623466113305\n",
            "4  \t [4.23250225 0.        ]\t 8.056944065342153\t 5.508754856016457\t 5.78208838858246\t 6.007656712351842\n",
            "5  \t [8.48364674 7.50515098]\t 36.945014181400296\t 5.508754856016457\t 4.612189296871686\t 4.648919760469059\n",
            "6  \t [10. 15.]\t 145.87219087939556\t 5.508754856016457\t 5.821756224782252\t 5.682326738807978\n",
            "7  \t [0.19559397 8.38724694]\t 26.674516212359777\t 5.508754856016457\t 4.90111895566953\t 5.672270063935368\n",
            "8  \t [-5.  0.]\t 308.12909601160663\t 5.508754856016457\t 4.66452257169646\t 7.068989651260164\n",
            "9  \t [-0.51657686 14.28710066]\t 73.5610643915935\t 5.508754856016457\t 5.785648798078579\t 7.560816195140135\n",
            "10 \t [-5.         13.13746239]\t 29.125425957743033\t 5.508754856016457\t 5.722134782591746\t 6.2529128262774405\n",
            "11 \t [-5.          9.51691828]\t 71.55943068445589\t 5.508754856016457\t 5.393274376851404\t 6.358119856313773\n",
            "12 \t [ 2.96146189 11.04677678]\t 74.98024759365455\t 5.508754856016457\t 4.705051791912141\t 4.0886642297846665\n",
            "13 \t [4.91115625 3.95036007]\t 18.923037923681175\t 5.508754856016457\t 4.671136535000484\t 5.250529252376879\n",
            "14 \t [6.75442513 0.45201557]\t 19.03395122296322\t 5.508754856016457\t 4.241840066933535\t 4.855767589608134\n",
            "15 \t [1.94531724 1.68743185]\t 9.395568340523553\t 5.508754856016457\t 5.184676772100052\t 5.518947728425094\n",
            "16 \t [-1.81174566  5.16967441]\t 24.830472801935784\t 5.508754856016457\t 4.7994929026341975\t 5.12288673523972\n",
            "\u001b[1m\u001b[92m17\u001b[0m\t \u001b[1m\u001b[92m[9.51596417 0.82580478]\u001b[0m\t \u001b[1m\u001b[92m3.4209546196981684\u001b[0m\t \u001b[1m\u001b[92m3.4209546196981684\u001b[0m\t \u001b[1m\u001b[92m5.6002898510685535\u001b[0m\t \u001b[1m\u001b[92m5.463534392543065\u001b[0m\n",
            "18 \t [10.          4.63478339]\t 4.605999329835544\t 3.4209546196981684\t 4.479203298126418\t 4.2586692261692685\n",
            "19 \t [7.63614369 4.85406912]\t 24.14756857820481\t 3.4209546196981684\t 4.614953083098164\t 5.19374460552591\n",
            "20 \t [ 2.13130399 14.54569603]\t 133.73957767701316\t 3.4209546196981684\t 4.977468229754925\t 4.975398762269155\n"
          ]
        }
      ],
      "source": [
        "### EXACT STP EI GRADIENTS\n",
        "\n",
        "np.random.seed(run_num_18)\n",
        "surrogate_stp_18 = dtStudentProcess(cov_func, optimize=opt, nu = df)\n",
        "\n",
        "stp_18 = dGPGO_stp(surrogate_stp_18, Acquisition_grad(util_stp), objfunc, param)\n",
        "stp_18.run(init_evals=n_init, max_iter=iters)\n"
      ]
    },
    {
      "cell_type": "code",
      "execution_count": 52,
      "metadata": {
        "id": "B6gTz1ojQUxn",
        "colab": {
          "base_uri": "https://localhost:8080/"
        },
        "outputId": "c3b38262-3af0-4cb5-b3f1-a273a342da20"
      },
      "outputs": [
        {
          "output_type": "stream",
          "name": "stdout",
          "text": [
            "Evaluation \t Proposed point \t  Current eval. \t  Best eval. \t        Exact EI: StdDev. x \t Approx EI: StdDev. x \n",
            "init\t [-3.53699597 11.41874575]\t 4.475608269502271\t 4.475608269502271\t    \t    \n",
            "init\t [-1.2959304   2.07197531]\t 51.13947793770689\t 4.475608269502271\t    \t    \n",
            "init\t [-0.02830155  1.24499348]\t 42.63973921760034\t 4.475608269502271\t    \t    \n",
            "init\t [ 5.07965622 12.09890697]\t 131.17235664506808\t 4.475608269502271\t    \t    \n",
            "init\t [9.74112872 9.53491102]\t 46.84458913925112\t 4.475608269502271\t    \t    \n",
            "\u001b[1m\u001b[92m1\u001b[0m\t \u001b[1m\u001b[92m[9.57054653 2.03489665]\u001b[0m\t \u001b[1m\u001b[92m0.8198597583535783\u001b[0m\t \u001b[1m\u001b[92m0.8198597583535783\u001b[0m\t \u001b[1m\u001b[92m5.4309826177999145\u001b[0m\t \u001b[1m\u001b[92m5.646882254432331\u001b[0m\n",
            "2  \t [4.87196034 4.4884797 ]\t 21.613480273508134\t 0.8198597583535783\t 5.927250970224576\t 6.165904572883813\n",
            "3  \t [-5.          6.16161367]\t 134.29083579801522\t 0.8198597583535783\t 5.214311829208944\t 5.762058499382029\n",
            "4  \t [0.14723717 7.18515855]\t 21.505239166131638\t 0.8198597583535783\t 5.504901969321676\t 5.70719626639767\n",
            "5  \t [10. 15.]\t 145.87219087933477\t 0.8198597583535783\t 5.012828036004187\t 5.595139749339622\n",
            "6  \t [5.51068283 0.        ]\t 18.204972386283732\t 0.8198597583535783\t 5.080157181044632\t 5.59200897318674\n",
            "7  \t [-5.  0.]\t 308.12909601160663\t 0.8198597583535783\t 5.4926801740993945\t 6.221773126349677\n",
            "8  \t [-1.19074159 14.84845082]\t 59.397180764913905\t 0.8198597583535783\t 4.990703087476511\t 6.08612276411613\n",
            "9  \t [4.47642164 7.923578  ]\t 49.478770850180084\t 0.8198597583535783\t 5.27329412555335\t 5.657830657768817\n",
            "10 \t [8.68150967 4.43582675]\t 9.262718201714078\t 0.8198597583535783\t 4.963852061620652\t 4.804018886839417\n",
            "11 \t [ 0.91926441 10.7853969 ]\t 53.51358752125294\t 0.8198597583535783\t 4.656558544662625\t 5.077340636075978\n",
            "12 \t [8.67164349 0.        ]\t 6.654322137097651\t 0.8198597583535783\t 4.730327536349329\t 4.9148655406959785\n",
            "13 \t [2.83243313 2.35704693]\t 0.8825055069172816\t 0.8198597583535783\t 5.319982315913441\t 5.981727660452682\n",
            "14 \t [ 2.14427122 15.        ]\t 144.4728603727677\t 0.8198597583535783\t 5.001139309380129\t 4.594049056145084\n",
            "15 \t [7.61887285 6.71683699]\t 40.793508211391206\t 0.8198597583535783\t 4.725426732921413\t 5.390601405973491\n",
            "16 \t [1.06436952 4.575945  ]\t 14.672833715829046\t 0.8198597583535783\t 4.635735995627305\t 4.6556914311969555\n",
            "17 \t [-3.07267174  8.76767998]\t 11.591654351450895\t 0.8198597583535783\t 5.253940002385528\t 5.8115773959808585\n",
            "18 \t [2.58569995 0.        ]\t 9.397593064969998\t 0.8198597583535783\t 4.9621393056272565\t 5.682452868680479\n",
            "19 \t [-5.          3.11754484]\t 210.6834515781492\t 0.8198597583535783\t 4.136763206798352\t 3.890926238251475\n",
            "20 \t [ 6.51814514 15.        ]\t 212.14231584839675\t 0.8198597583535783\t 5.125541424288224\t 5.428445749118165\n"
          ]
        }
      ],
      "source": [
        "### EXACT STP EI GRADIENTS\n",
        "\n",
        "np.random.seed(run_num_19)\n",
        "surrogate_stp_19 = dtStudentProcess(cov_func, optimize=opt, nu = df)\n",
        "\n",
        "stp_19 = dGPGO_stp(surrogate_stp_19, Acquisition_grad(util_stp), objfunc, param)\n",
        "stp_19.run(init_evals=n_init, max_iter=iters)\n"
      ]
    },
    {
      "cell_type": "code",
      "execution_count": 53,
      "metadata": {
        "id": "aw3xvSryIwDi",
        "colab": {
          "base_uri": "https://localhost:8080/"
        },
        "outputId": "6abc955b-813e-462e-b5a7-e0e976ad7eab"
      },
      "outputs": [
        {
          "output_type": "stream",
          "name": "stdout",
          "text": [
            "Evaluation \t Proposed point \t  Current eval. \t  Best eval. \t        Exact EI: StdDev. x \t Approx EI: StdDev. x \n",
            "init\t [ 3.82196202 13.46570592]\t 138.5264349938869\t 14.042667401507376\t    \t    \n",
            "init\t [ 8.37296094 12.23756216]\t 115.63178540512689\t 14.042667401507376\t    \t    \n",
            "init\t [-4.46165622 10.37636373]\t 35.66708529307584\t 14.042667401507376\t    \t    \n",
            "init\t [0.68021413 7.77766418]\t 25.307769914281764\t 14.042667401507376\t    \t    \n",
            "init\t [4.86927198 2.90775327]\t 14.042667401507376\t 14.042667401507376\t    \t    \n",
            "1  \t [-5.          1.08303276]\t 272.0731082659908\t 14.042667401507376\t 4.86513489386243\t 5.379503104088616\n",
            "\u001b[1m\u001b[92m2\u001b[0m\t \u001b[1m\u001b[92m[9.44011208 1.98991869]\u001b[0m\t \u001b[1m\u001b[92m0.6470663908351462\u001b[0m\t \u001b[1m\u001b[92m0.6470663908351462\u001b[0m\t \u001b[1m\u001b[92m4.803815949230901\u001b[0m\t \u001b[1m\u001b[92m5.154784943280879\u001b[0m\n",
            "3  \t [0.27791048 0.        ]\t 50.23262742833977\t 0.6470663908351462\t 4.922365406528885\t 4.472371512780875\n",
            "4  \t [-0.52595056 12.3818394 ]\t 48.653744029890824\t 0.6470663908351462\t 5.831441976443628\t 6.673799693838109\n",
            "5  \t [7.46907551 7.13784307]\t 47.45931649234844\t 0.6470663908351462\t 5.403985437836934\t 6.027070592825427\n",
            "6  \t [-1.68184859  4.40705035]\t 30.42008042102848\t 0.6470663908351462\t 5.14690199638352\t 5.4741395930579815\n",
            "7  \t [-4.32298919 14.99123565]\t 6.4466772514526305\t 0.6470663908351462\t 5.992029633662136\t 6.49791226056901\n",
            "8  \t [7.20111969 0.        ]\t 17.365738655186682\t 0.6470663908351462\t 5.193715896688345\t 5.401337978739528\n",
            "9  \t [-5.          6.30531592]\t 131.14263699787327\t 0.6470663908351462\t 4.67740538228905\t 5.3910901263450155\n",
            "10 \t [1.66235613 3.58476495]\t 9.138063855775158\t 0.6470663908351462\t 5.735737022964498\t 5.359799863489247\n",
            "11 \t [4.24291681 9.13012083]\t 62.76877066907907\t 0.6470663908351462\t 5.295989720569975\t 5.416667550671277\n",
            "12 \t [10. 15.]\t 145.87219087939383\t 0.6470663908351462\t 5.68795852253464\t 6.373846443766163\n",
            "13 \t [9.23429152 4.51925827]\t 5.412668692544831\t 0.6470663908351462\t 5.092442510519965\t 5.349696832792067\n",
            "14 \t [3.63456718 0.        ]\t 5.235089332358559\t 0.6470663908351462\t 5.213174732193498\t 5.563532872059516\n",
            "15 \t [4.52471548 5.47399904]\t 24.45348006304919\t 0.6470663908351462\t 4.423671046283402\t 4.981346446448004\n",
            "16 \t [-2.120537    8.14709259]\t 8.254790329376066\t 0.6470663908351462\t 4.667593583903181\t 4.716211415177133\n",
            "17 \t [9.74552357 9.11262392]\t 41.25808392270066\t 0.6470663908351462\t 4.520602901371998\t 4.778928106991511\n",
            "18 \t [ 0.93742664 15.        ]\t 123.39511231816\t 0.6470663908351462\t 5.253308485962906\t 5.542878092049281\n",
            "19 \t [ 6.6430673 15.       ]\t 211.41418904007813\t 0.6470663908351462\t 5.399025845411819\t 5.273841336226826\n",
            "20 \t [6.93007705 9.77257665]\t 91.58643875673704\t 0.6470663908351462\t 4.128023329895072\t 4.513117542870068\n"
          ]
        }
      ],
      "source": [
        "### EXACT STP EI GRADIENTS\n",
        "\n",
        "np.random.seed(run_num_20)\n",
        "surrogate_stp_20 = dtStudentProcess(cov_func, optimize=opt, nu = df)\n",
        "\n",
        "stp_20 = dGPGO_stp(surrogate_stp_20, Acquisition_grad(util_stp), objfunc, param)\n",
        "stp_20.run(init_evals=n_init, max_iter=iters)\n"
      ]
    },
    {
      "cell_type": "code",
      "execution_count": 54,
      "metadata": {
        "id": "5c8szjivRPme",
        "colab": {
          "base_uri": "https://localhost:8080/"
        },
        "outputId": "5d0b0127-9e01-4111-d917-d91898962270"
      },
      "outputs": [
        {
          "output_type": "execute_result",
          "data": {
            "text/plain": [
              "1670.0499761104584"
            ]
          },
          "metadata": {},
          "execution_count": 54
        }
      ],
      "source": [
        "end_stp = time.time()\n",
        "end_stp\n",
        "\n",
        "time_stp = end_stp - start_stp\n",
        "time_stp\n"
      ]
    },
    {
      "cell_type": "code",
      "execution_count": 55,
      "metadata": {
        "id": "f6gCKnp6RR8c",
        "colab": {
          "base_uri": "https://localhost:8080/"
        },
        "outputId": "d514b706-6579-4a39-b4aa-0b4672f5dfb5"
      },
      "outputs": [
        {
          "output_type": "execute_result",
          "data": {
            "text/plain": [
              "(1.5897370822421468, 1.7025314333467774)"
            ]
          },
          "metadata": {},
          "execution_count": 55
        }
      ],
      "source": [
        "### Simple regret minimisation: run number = 1\n",
        "\n",
        "gp_output_1 = np.append(np.min(-gp_1.GP.y[0:n_init]),-gp_1.GP.y[n_init:(n_init+iters)]) \n",
        "stp_output_1 = np.append(np.min(-stp_1.GP.y[0:n_init]),-stp_1.GP.y[n_init:(n_init+iters)]) \n",
        "\n",
        "regret_gp_1 = np.log(gp_output_1 - y_global_orig)\n",
        "regret_stp_1 = np.log(stp_output_1 - y_global_orig)\n",
        "\n",
        "simple_regret_gp_1 = min_max_array(regret_gp_1)\n",
        "simple_regret_stp_1 = min_max_array(regret_stp_1)\n",
        "\n",
        "min_simple_regret_gp_1 = min(simple_regret_gp_1)\n",
        "min_simple_regret_stp_1 = min(simple_regret_stp_1)\n",
        "\n",
        "min_simple_regret_gp_1, min_simple_regret_stp_1\n"
      ]
    },
    {
      "cell_type": "code",
      "execution_count": 56,
      "metadata": {
        "id": "94yBw5tqQxfk",
        "colab": {
          "base_uri": "https://localhost:8080/"
        },
        "outputId": "1edb80ac-a4dd-416a-dc99-87d6dc455076"
      },
      "outputs": [
        {
          "output_type": "execute_result",
          "data": {
            "text/plain": [
              "(0.35192473718351774, 0.5857547920775205)"
            ]
          },
          "metadata": {},
          "execution_count": 56
        }
      ],
      "source": [
        "### Simple regret minimisation: run number = 2\n",
        "\n",
        "gp_output_2 = np.append(np.min(-gp_2.GP.y[0:n_init]),-gp_2.GP.y[n_init:(n_init+iters)]) \n",
        "stp_output_2 = np.append(np.min(-stp_2.GP.y[0:n_init]),-stp_2.GP.y[n_init:(n_init+iters)]) \n",
        "\n",
        "regret_gp_2 = np.log(gp_output_2 - y_global_orig)\n",
        "regret_stp_2 = np.log(stp_output_2 - y_global_orig)\n",
        "\n",
        "simple_regret_gp_2 = min_max_array(regret_gp_2)\n",
        "simple_regret_stp_2 = min_max_array(regret_stp_2)\n",
        "\n",
        "min_simple_regret_gp_2 = min(simple_regret_gp_2)\n",
        "min_simple_regret_stp_2 = min(simple_regret_stp_2)\n",
        "\n",
        "min_simple_regret_gp_2, min_simple_regret_stp_2\n"
      ]
    },
    {
      "cell_type": "code",
      "execution_count": 57,
      "metadata": {
        "id": "Bu6SBWALQxfl",
        "colab": {
          "base_uri": "https://localhost:8080/"
        },
        "outputId": "706c9b15-f759-4f1d-dc63-106528c86d76"
      },
      "outputs": [
        {
          "output_type": "execute_result",
          "data": {
            "text/plain": [
              "(1.3860209161817125, 0.5703547077649286)"
            ]
          },
          "metadata": {},
          "execution_count": 57
        }
      ],
      "source": [
        "### Simple regret minimisation: run number = 3\n",
        "\n",
        "gp_output_3 = np.append(np.min(-gp_3.GP.y[0:n_init]),-gp_3.GP.y[n_init:(n_init+iters)]) \n",
        "stp_output_3 = np.append(np.min(-stp_3.GP.y[0:n_init]),-stp_3.GP.y[n_init:(n_init+iters)]) \n",
        "\n",
        "regret_gp_3 = np.log(gp_output_3 - y_global_orig)\n",
        "regret_stp_3 = np.log(stp_output_3 - y_global_orig)\n",
        "\n",
        "simple_regret_gp_3 = min_max_array(regret_gp_3)\n",
        "simple_regret_stp_3 = min_max_array(regret_stp_3)\n",
        "\n",
        "min_simple_regret_gp_3 = min(simple_regret_gp_3)\n",
        "min_simple_regret_stp_3 = min(simple_regret_stp_3)\n",
        "\n",
        "min_simple_regret_gp_3, min_simple_regret_stp_3"
      ]
    },
    {
      "cell_type": "code",
      "execution_count": 58,
      "metadata": {
        "id": "AZm0jgxkQxfm",
        "colab": {
          "base_uri": "https://localhost:8080/"
        },
        "outputId": "d6f8724e-4e5f-4b88-9f48-b62ddb31adf1"
      },
      "outputs": [
        {
          "output_type": "execute_result",
          "data": {
            "text/plain": [
              "(0.2872135780723568, 0.8234348935346586)"
            ]
          },
          "metadata": {},
          "execution_count": 58
        }
      ],
      "source": [
        "### Simple regret minimisation: run number = 4\n",
        "\n",
        "gp_output_4 = np.append(np.min(-gp_4.GP.y[0:n_init]),-gp_4.GP.y[n_init:(n_init+iters)]) \n",
        "stp_output_4 = np.append(np.min(-stp_4.GP.y[0:n_init]),-stp_4.GP.y[n_init:(n_init+iters)]) \n",
        "\n",
        "regret_gp_4 = np.log(gp_output_4 - y_global_orig)\n",
        "regret_stp_4 = np.log(stp_output_4 - y_global_orig)\n",
        "\n",
        "simple_regret_gp_4 = min_max_array(regret_gp_4)\n",
        "simple_regret_stp_4 = min_max_array(regret_stp_4)\n",
        "\n",
        "min_simple_regret_gp_4 = min(simple_regret_gp_4)\n",
        "min_simple_regret_stp_4 = min(simple_regret_stp_4)\n",
        "\n",
        "min_simple_regret_gp_4, min_simple_regret_stp_4"
      ]
    },
    {
      "cell_type": "code",
      "execution_count": 59,
      "metadata": {
        "id": "NONPm8JIQxfn",
        "colab": {
          "base_uri": "https://localhost:8080/"
        },
        "outputId": "3ef32693-c667-4b93-c521-d254031ea702"
      },
      "outputs": [
        {
          "output_type": "execute_result",
          "data": {
            "text/plain": [
              "(-0.19866740723405696, 1.8498672894371022)"
            ]
          },
          "metadata": {},
          "execution_count": 59
        }
      ],
      "source": [
        "### Simple regret minimisation: run number = 5\n",
        "\n",
        "gp_output_5 = np.append(np.min(-gp_5.GP.y[0:n_init]),-gp_5.GP.y[n_init:(n_init+iters)]) \n",
        "stp_output_5 = np.append(np.min(-stp_5.GP.y[0:n_init]),-stp_5.GP.y[n_init:(n_init+iters)]) \n",
        "\n",
        "regret_gp_5 = np.log(gp_output_5 - y_global_orig)\n",
        "regret_stp_5 = np.log(stp_output_5 - y_global_orig)\n",
        "\n",
        "simple_regret_gp_5 = min_max_array(regret_gp_5)\n",
        "simple_regret_stp_5 = min_max_array(regret_stp_5)\n",
        "\n",
        "min_simple_regret_gp_5 = min(simple_regret_gp_5)\n",
        "min_simple_regret_stp_5 = min(simple_regret_stp_5)\n",
        "\n",
        "min_simple_regret_gp_5, min_simple_regret_stp_5"
      ]
    },
    {
      "cell_type": "code",
      "execution_count": 60,
      "metadata": {
        "id": "CJv3lPuSQxfp",
        "colab": {
          "base_uri": "https://localhost:8080/"
        },
        "outputId": "4190c14b-e292-44e5-8fb6-b46eeafc5132"
      },
      "outputs": [
        {
          "output_type": "execute_result",
          "data": {
            "text/plain": [
              "(0.37010063854559794, -0.0027052881120407093)"
            ]
          },
          "metadata": {},
          "execution_count": 60
        }
      ],
      "source": [
        "### Simple regret minimisation: run number = 6\n",
        "\n",
        "gp_output_6 = np.append(np.min(-gp_6.GP.y[0:n_init]),-gp_6.GP.y[n_init:(n_init+iters)]) \n",
        "stp_output_6 = np.append(np.min(-stp_6.GP.y[0:n_init]),-stp_6.GP.y[n_init:(n_init+iters)]) \n",
        "\n",
        "regret_gp_6 = np.log(gp_output_6 - y_global_orig)\n",
        "regret_stp_6 = np.log(stp_output_6 - y_global_orig)\n",
        "\n",
        "simple_regret_gp_6 = min_max_array(regret_gp_6)\n",
        "simple_regret_stp_6 = min_max_array(regret_stp_6)\n",
        "\n",
        "min_simple_regret_gp_6 = min(simple_regret_gp_6)\n",
        "min_simple_regret_stp_6 = min(simple_regret_stp_6)\n",
        "\n",
        "min_simple_regret_gp_6, min_simple_regret_stp_6"
      ]
    },
    {
      "cell_type": "code",
      "execution_count": 61,
      "metadata": {
        "id": "quR2ZyApQxfq",
        "colab": {
          "base_uri": "https://localhost:8080/"
        },
        "outputId": "7e09ac5c-acac-406b-f77f-d361bde260cc"
      },
      "outputs": [
        {
          "output_type": "execute_result",
          "data": {
            "text/plain": [
              "(1.1083347504860048, 1.0591773722126083)"
            ]
          },
          "metadata": {},
          "execution_count": 61
        }
      ],
      "source": [
        "### Simple regret minimisation: run number = 7\n",
        "\n",
        "gp_output_7 = np.append(np.min(-gp_7.GP.y[0:n_init]),-gp_7.GP.y[n_init:(n_init+iters)]) \n",
        "stp_output_7 = np.append(np.min(-stp_7.GP.y[0:n_init]),-stp_7.GP.y[n_init:(n_init+iters)]) \n",
        "\n",
        "regret_gp_7 = np.log(gp_output_7 - y_global_orig)\n",
        "regret_stp_7 = np.log(stp_output_7 - y_global_orig)\n",
        "\n",
        "simple_regret_gp_7 = min_max_array(regret_gp_7)\n",
        "simple_regret_stp_7 = min_max_array(regret_stp_7)\n",
        "\n",
        "min_simple_regret_gp_7 = min(simple_regret_gp_7)\n",
        "min_simple_regret_stp_7 = min(simple_regret_stp_7)\n",
        "\n",
        "min_simple_regret_gp_7, min_simple_regret_stp_7"
      ]
    },
    {
      "cell_type": "code",
      "execution_count": 62,
      "metadata": {
        "id": "99wY5nK6Qxfr",
        "colab": {
          "base_uri": "https://localhost:8080/"
        },
        "outputId": "3b6a3cb8-a003-407a-eb4f-f74705fe4488"
      },
      "outputs": [
        {
          "output_type": "execute_result",
          "data": {
            "text/plain": [
              "(1.4027284177430812, 1.43447535654887)"
            ]
          },
          "metadata": {},
          "execution_count": 62
        }
      ],
      "source": [
        "### Simple regret minimisation: run number = 8\n",
        "\n",
        "gp_output_8 = np.append(np.min(-gp_8.GP.y[0:n_init]),-gp_8.GP.y[n_init:(n_init+iters)]) \n",
        "stp_output_8 = np.append(np.min(-stp_8.GP.y[0:n_init]),-stp_8.GP.y[n_init:(n_init+iters)]) \n",
        "\n",
        "regret_gp_8 = np.log(gp_output_8 - y_global_orig)\n",
        "regret_stp_8 = np.log(stp_output_8 - y_global_orig)\n",
        "\n",
        "simple_regret_gp_8 = min_max_array(regret_gp_8)\n",
        "simple_regret_stp_8 = min_max_array(regret_stp_8)\n",
        "\n",
        "min_simple_regret_gp_8 = min(simple_regret_gp_8)\n",
        "min_simple_regret_stp_8 = min(simple_regret_stp_8)\n",
        "\n",
        "min_simple_regret_gp_8, min_simple_regret_stp_8"
      ]
    },
    {
      "cell_type": "code",
      "execution_count": 63,
      "metadata": {
        "id": "qt0P5t9qQxfs",
        "colab": {
          "base_uri": "https://localhost:8080/"
        },
        "outputId": "69ca8657-b131-4891-d174-1b23a4ca785d"
      },
      "outputs": [
        {
          "output_type": "execute_result",
          "data": {
            "text/plain": [
              "(1.1961845526879693, 1.3440508341698283)"
            ]
          },
          "metadata": {},
          "execution_count": 63
        }
      ],
      "source": [
        "### Simple regret minimisation: run number = 9\n",
        "\n",
        "gp_output_9 = np.append(np.min(-gp_9.GP.y[0:n_init]),-gp_9.GP.y[n_init:(n_init+iters)]) \n",
        "stp_output_9 = np.append(np.min(-stp_9.GP.y[0:n_init]),-stp_9.GP.y[n_init:(n_init+iters)]) \n",
        "\n",
        "regret_gp_9 = np.log(gp_output_9 - y_global_orig)\n",
        "regret_stp_9 = np.log(stp_output_9 - y_global_orig)\n",
        "\n",
        "simple_regret_gp_9 = min_max_array(regret_gp_9)\n",
        "simple_regret_stp_9 = min_max_array(regret_stp_9)\n",
        "\n",
        "min_simple_regret_gp_9 = min(simple_regret_gp_9)\n",
        "min_simple_regret_stp_9 = min(simple_regret_stp_9)\n",
        "\n",
        "min_simple_regret_gp_9, min_simple_regret_stp_9"
      ]
    },
    {
      "cell_type": "code",
      "execution_count": 64,
      "metadata": {
        "id": "vx8to9stQxft",
        "colab": {
          "base_uri": "https://localhost:8080/"
        },
        "outputId": "f4b9c3c7-c035-4a1f-8681-4f583b845011"
      },
      "outputs": [
        {
          "output_type": "execute_result",
          "data": {
            "text/plain": [
              "(0.8569715727072589, 1.134139639930358)"
            ]
          },
          "metadata": {},
          "execution_count": 64
        }
      ],
      "source": [
        "### Simple regret minimisation: run number = 10\n",
        "\n",
        "gp_output_10 = np.append(np.min(-gp_10.GP.y[0:n_init]),-gp_10.GP.y[n_init:(n_init+iters)]) \n",
        "stp_output_10 = np.append(np.min(-stp_10.GP.y[0:n_init]),-stp_10.GP.y[n_init:(n_init+iters)]) \n",
        "\n",
        "regret_gp_10 = np.log(gp_output_10 - y_global_orig)\n",
        "regret_stp_10 = np.log(stp_output_10 - y_global_orig)\n",
        "\n",
        "simple_regret_gp_10 = min_max_array(regret_gp_10)\n",
        "simple_regret_stp_10 = min_max_array(regret_stp_10)\n",
        "\n",
        "min_simple_regret_gp_10 = min(simple_regret_gp_10)\n",
        "min_simple_regret_stp_10 = min(simple_regret_stp_10)\n",
        "\n",
        "min_simple_regret_gp_10, min_simple_regret_stp_10"
      ]
    },
    {
      "cell_type": "code",
      "execution_count": 65,
      "metadata": {
        "id": "d-FGzWyHQxfu",
        "colab": {
          "base_uri": "https://localhost:8080/"
        },
        "outputId": "8f6f00d0-a463-4046-8bd5-d7691dd093e7"
      },
      "outputs": [
        {
          "output_type": "execute_result",
          "data": {
            "text/plain": [
              "(0.4992663894250623, -0.03899851966073436)"
            ]
          },
          "metadata": {},
          "execution_count": 65
        }
      ],
      "source": [
        "### Simple regret minimisation: run number = 11\n",
        "\n",
        "gp_output_11 = np.append(np.min(-gp_11.GP.y[0:n_init]),-gp_11.GP.y[n_init:(n_init+iters)]) \n",
        "stp_output_11 = np.append(np.min(-stp_11.GP.y[0:n_init]),-stp_11.GP.y[n_init:(n_init+iters)]) \n",
        "\n",
        "regret_gp_11 = np.log(gp_output_11 - y_global_orig)\n",
        "regret_stp_11 = np.log(stp_output_11 - y_global_orig)\n",
        "\n",
        "simple_regret_gp_11 = min_max_array(regret_gp_11)\n",
        "simple_regret_stp_11 = min_max_array(regret_stp_11)\n",
        "\n",
        "min_simple_regret_gp_11 = min(simple_regret_gp_11)\n",
        "min_simple_regret_stp_11 = min(simple_regret_stp_11)\n",
        "\n",
        "min_simple_regret_gp_11, min_simple_regret_stp_11"
      ]
    },
    {
      "cell_type": "code",
      "execution_count": 66,
      "metadata": {
        "id": "SvtsssyjQxfv",
        "colab": {
          "base_uri": "https://localhost:8080/"
        },
        "outputId": "97555e25-7522-4d4b-b511-52cd63107e0d"
      },
      "outputs": [
        {
          "output_type": "execute_result",
          "data": {
            "text/plain": [
              "(-0.05359222109358334, -0.05359222109358334)"
            ]
          },
          "metadata": {},
          "execution_count": 66
        }
      ],
      "source": [
        "### Simple regret minimisation: run number = 12\n",
        "\n",
        "gp_output_12 = np.append(np.min(-gp_12.GP.y[0:n_init]),-gp_12.GP.y[n_init:(n_init+iters)]) \n",
        "stp_output_12 = np.append(np.min(-stp_12.GP.y[0:n_init]),-stp_12.GP.y[n_init:(n_init+iters)]) \n",
        "\n",
        "regret_gp_12 = np.log(gp_output_12 - y_global_orig)\n",
        "regret_stp_12 = np.log(stp_output_12 - y_global_orig)\n",
        "\n",
        "simple_regret_gp_12 = min_max_array(regret_gp_12)\n",
        "simple_regret_stp_12 = min_max_array(regret_stp_12)\n",
        "\n",
        "min_simple_regret_gp_12 = min(simple_regret_gp_12)\n",
        "min_simple_regret_stp_12 = min(simple_regret_stp_12)\n",
        "\n",
        "min_simple_regret_gp_12, min_simple_regret_stp_12"
      ]
    },
    {
      "cell_type": "code",
      "execution_count": 67,
      "metadata": {
        "id": "K6OiGcHkQxfw",
        "colab": {
          "base_uri": "https://localhost:8080/"
        },
        "outputId": "5c4bf37c-23cb-4034-b0ab-54e2f4c8b0e6"
      },
      "outputs": [
        {
          "output_type": "execute_result",
          "data": {
            "text/plain": [
              "(-0.0558952616430456, 0.19470589651587628)"
            ]
          },
          "metadata": {},
          "execution_count": 67
        }
      ],
      "source": [
        "### Simple regret minimisation: run number = 13\n",
        "\n",
        "gp_output_13 = np.append(np.min(-gp_13.GP.y[0:n_init]),-gp_13.GP.y[n_init:(n_init+iters)]) \n",
        "stp_output_13 = np.append(np.min(-stp_13.GP.y[0:n_init]),-stp_13.GP.y[n_init:(n_init+iters)]) \n",
        "\n",
        "regret_gp_13 = np.log(gp_output_13 - y_global_orig)\n",
        "regret_stp_13 = np.log(stp_output_13 - y_global_orig)\n",
        "\n",
        "simple_regret_gp_13 = min_max_array(regret_gp_13)\n",
        "simple_regret_stp_13 = min_max_array(regret_stp_13)\n",
        "\n",
        "min_simple_regret_gp_13 = min(simple_regret_gp_13)\n",
        "min_simple_regret_stp_13 = min(simple_regret_stp_13)\n",
        "\n",
        "min_simple_regret_gp_13, min_simple_regret_stp_13"
      ]
    },
    {
      "cell_type": "code",
      "execution_count": 68,
      "metadata": {
        "id": "ogML73shQxfx",
        "colab": {
          "base_uri": "https://localhost:8080/"
        },
        "outputId": "e64e3e0f-809b-46c6-c48c-c384dc40682b"
      },
      "outputs": [
        {
          "output_type": "execute_result",
          "data": {
            "text/plain": [
              "(0.5949161906605641, 0.5949161906605641)"
            ]
          },
          "metadata": {},
          "execution_count": 68
        }
      ],
      "source": [
        "### Simple regret minimisation: run number = 14\n",
        "\n",
        "gp_output_14 = np.append(np.min(-gp_14.GP.y[0:n_init]),-gp_14.GP.y[n_init:(n_init+iters)]) \n",
        "stp_output_14 = np.append(np.min(-stp_14.GP.y[0:n_init]),-stp_14.GP.y[n_init:(n_init+iters)]) \n",
        "\n",
        "regret_gp_14 = np.log(gp_output_14 - y_global_orig)\n",
        "regret_stp_14 = np.log(stp_output_14 - y_global_orig)\n",
        "\n",
        "simple_regret_gp_14 = min_max_array(regret_gp_14)\n",
        "simple_regret_stp_14 = min_max_array(regret_stp_14)\n",
        "\n",
        "min_simple_regret_gp_14 = min(simple_regret_gp_14)\n",
        "min_simple_regret_stp_14 = min(simple_regret_stp_14)\n",
        "\n",
        "min_simple_regret_gp_14, min_simple_regret_stp_14"
      ]
    },
    {
      "cell_type": "code",
      "execution_count": 69,
      "metadata": {
        "id": "9Eg7gFT9Qxfx",
        "colab": {
          "base_uri": "https://localhost:8080/"
        },
        "outputId": "0f98b9a6-4f2b-41d0-ca17-886a930f060d"
      },
      "outputs": [
        {
          "output_type": "execute_result",
          "data": {
            "text/plain": [
              "(1.1129763185740422, 1.6001418455893557)"
            ]
          },
          "metadata": {},
          "execution_count": 69
        }
      ],
      "source": [
        "### Simple regret minimisation: run number = 15\n",
        "\n",
        "gp_output_15 = np.append(np.min(-gp_15.GP.y[0:n_init]),-gp_15.GP.y[n_init:(n_init+iters)]) \n",
        "stp_output_15 = np.append(np.min(-stp_15.GP.y[0:n_init]),-stp_15.GP.y[n_init:(n_init+iters)]) \n",
        "\n",
        "regret_gp_15 = np.log(gp_output_15 - y_global_orig)\n",
        "regret_stp_15 = np.log(stp_output_15 - y_global_orig)\n",
        "\n",
        "simple_regret_gp_15 = min_max_array(regret_gp_15)\n",
        "simple_regret_stp_15 = min_max_array(regret_stp_15)\n",
        "\n",
        "min_simple_regret_gp_15 = min(simple_regret_gp_15)\n",
        "min_simple_regret_stp_15 = min(simple_regret_stp_15)\n",
        "\n",
        "min_simple_regret_gp_15, min_simple_regret_stp_15"
      ]
    },
    {
      "cell_type": "code",
      "execution_count": 70,
      "metadata": {
        "id": "lIAC1U7ZQxfy",
        "colab": {
          "base_uri": "https://localhost:8080/"
        },
        "outputId": "90508c4b-0b1d-4514-fc5e-18e14f0bf361"
      },
      "outputs": [
        {
          "output_type": "execute_result",
          "data": {
            "text/plain": [
              "(1.1358281109947383, 1.1358281109947383)"
            ]
          },
          "metadata": {},
          "execution_count": 70
        }
      ],
      "source": [
        "### Simple regret minimisation: run number = 16\n",
        "\n",
        "gp_output_16 = np.append(np.min(-gp_16.GP.y[0:n_init]),-gp_16.GP.y[n_init:(n_init+iters)]) \n",
        "stp_output_16 = np.append(np.min(-stp_16.GP.y[0:n_init]),-stp_16.GP.y[n_init:(n_init+iters)]) \n",
        "\n",
        "regret_gp_16 = np.log(gp_output_16 - y_global_orig)\n",
        "regret_stp_16 = np.log(stp_output_16 - y_global_orig)\n",
        "\n",
        "simple_regret_gp_16 = min_max_array(regret_gp_16)\n",
        "simple_regret_stp_16 = min_max_array(regret_stp_16)\n",
        "\n",
        "min_simple_regret_gp_16 = min(simple_regret_gp_16)\n",
        "min_simple_regret_stp_16 = min(simple_regret_stp_16)\n",
        "\n",
        "min_simple_regret_gp_16, min_simple_regret_stp_16"
      ]
    },
    {
      "cell_type": "code",
      "execution_count": 71,
      "metadata": {
        "id": "bGott36OQxfz",
        "colab": {
          "base_uri": "https://localhost:8080/"
        },
        "outputId": "c19b6996-c54b-4865-ae25-9f5baaa8f891"
      },
      "outputs": [
        {
          "output_type": "execute_result",
          "data": {
            "text/plain": [
              "(0.8104034599570697, 1.0131389279401821)"
            ]
          },
          "metadata": {},
          "execution_count": 71
        }
      ],
      "source": [
        "### Simple regret minimisation: run number = 17\n",
        "\n",
        "gp_output_17 = np.append(np.min(-gp_17.GP.y[0:n_init]),-gp_17.GP.y[n_init:(n_init+iters)]) \n",
        "stp_output_17 = np.append(np.min(-stp_17.GP.y[0:n_init]),-stp_17.GP.y[n_init:(n_init+iters)]) \n",
        "\n",
        "regret_gp_17 = np.log(gp_output_17 - y_global_orig)\n",
        "regret_stp_17 = np.log(stp_output_17 - y_global_orig)\n",
        "\n",
        "simple_regret_gp_17 = min_max_array(regret_gp_17)\n",
        "simple_regret_stp_17 = min_max_array(regret_stp_17)\n",
        "\n",
        "min_simple_regret_gp_17 = min(simple_regret_gp_17)\n",
        "min_simple_regret_stp_17 = min(simple_regret_stp_17)\n",
        "\n",
        "min_simple_regret_gp_17, min_simple_regret_stp_17"
      ]
    },
    {
      "cell_type": "code",
      "execution_count": 72,
      "metadata": {
        "id": "Cz9ZYMBMQxfz",
        "colab": {
          "base_uri": "https://localhost:8080/"
        },
        "outputId": "fcda5a23-eacc-4371-fdcd-87166eb753f3"
      },
      "outputs": [
        {
          "output_type": "execute_result",
          "data": {
            "text/plain": [
              "(1.2460942537685253, 1.3399471357149502)"
            ]
          },
          "metadata": {},
          "execution_count": 72
        }
      ],
      "source": [
        "### Simple regret minimisation: run number = 18\n",
        "\n",
        "gp_output_18 = np.append(np.min(-gp_18.GP.y[0:n_init]),-gp_18.GP.y[n_init:(n_init+iters)]) \n",
        "stp_output_18 = np.append(np.min(-stp_18.GP.y[0:n_init]),-stp_18.GP.y[n_init:(n_init+iters)]) \n",
        "\n",
        "regret_gp_18 = np.log(gp_output_18 - y_global_orig)\n",
        "regret_stp_18 = np.log(stp_output_18 - y_global_orig)\n",
        "\n",
        "simple_regret_gp_18 = min_max_array(regret_gp_18)\n",
        "simple_regret_stp_18 = min_max_array(regret_stp_18)\n",
        "\n",
        "min_simple_regret_gp_18 = min(simple_regret_gp_18)\n",
        "min_simple_regret_stp_18 = min(simple_regret_stp_18)\n",
        "\n",
        "min_simple_regret_gp_18, min_simple_regret_stp_18"
      ]
    },
    {
      "cell_type": "code",
      "execution_count": 73,
      "metadata": {
        "id": "OBfpWOHNQxf0",
        "colab": {
          "base_uri": "https://localhost:8080/"
        },
        "outputId": "ffa4ff14-3a20-46f9-f81f-5fdf7c1e18bd"
      },
      "outputs": [
        {
          "output_type": "execute_result",
          "data": {
            "text/plain": [
              "(0.1970022317043208, 0.1970022317043208)"
            ]
          },
          "metadata": {},
          "execution_count": 73
        }
      ],
      "source": [
        "### Simple regret minimisation: run number = 19\n",
        "\n",
        "gp_output_19 = np.append(np.min(-gp_19.GP.y[0:n_init]),-gp_19.GP.y[n_init:(n_init+iters)]) \n",
        "stp_output_19 = np.append(np.min(-stp_19.GP.y[0:n_init]),-stp_19.GP.y[n_init:(n_init+iters)]) \n",
        "\n",
        "regret_gp_19 = np.log(gp_output_19 - y_global_orig)\n",
        "regret_stp_19 = np.log(stp_output_19 - y_global_orig)\n",
        "\n",
        "simple_regret_gp_19 = min_max_array(regret_gp_19)\n",
        "simple_regret_stp_19 = min_max_array(regret_stp_19)\n",
        "\n",
        "min_simple_regret_gp_19 = min(simple_regret_gp_19)\n",
        "min_simple_regret_stp_19 = min(simple_regret_stp_19)\n",
        "\n",
        "min_simple_regret_gp_19, min_simple_regret_stp_19"
      ]
    },
    {
      "cell_type": "code",
      "execution_count": 74,
      "metadata": {
        "id": "BE1AJ7NsQxf0",
        "colab": {
          "base_uri": "https://localhost:8080/"
        },
        "outputId": "a7dddabe-0a16-4b1c-e7fc-81e30b1d97da"
      },
      "outputs": [
        {
          "output_type": "execute_result",
          "data": {
            "text/plain": [
              "(0.8543371351674189, 0.043972282350441774)"
            ]
          },
          "metadata": {},
          "execution_count": 74
        }
      ],
      "source": [
        "### Simple regret minimisation: run number = 20\n",
        "\n",
        "gp_output_20 = np.append(np.min(-gp_20.GP.y[0:n_init]),-gp_20.GP.y[n_init:(n_init+iters)]) \n",
        "stp_output_20 = np.append(np.min(-stp_20.GP.y[0:n_init]),-stp_20.GP.y[n_init:(n_init+iters)]) \n",
        "\n",
        "regret_gp_20 = np.log(gp_output_20 - y_global_orig)\n",
        "regret_stp_20 = np.log(stp_output_20 - y_global_orig)\n",
        "\n",
        "simple_regret_gp_20 = min_max_array(regret_gp_20)\n",
        "simple_regret_stp_20 = min_max_array(regret_stp_20)\n",
        "\n",
        "min_simple_regret_gp_20 = min(simple_regret_gp_20)\n",
        "min_simple_regret_stp_20 = min(simple_regret_stp_20)\n",
        "\n",
        "min_simple_regret_gp_20, min_simple_regret_stp_20"
      ]
    },
    {
      "cell_type": "code",
      "execution_count": 75,
      "metadata": {
        "id": "bpX-bKAHQxf1"
      },
      "outputs": [],
      "source": [
        "# Iteration1 :\n",
        "\n",
        "slice1 = 0\n",
        "\n",
        "approx1 = [simple_regret_gp_1[slice1],\n",
        "       simple_regret_gp_2[slice1],\n",
        "       simple_regret_gp_3[slice1],\n",
        "       simple_regret_gp_4[slice1],\n",
        "       simple_regret_gp_5[slice1],\n",
        "       simple_regret_gp_6[slice1],\n",
        "       simple_regret_gp_7[slice1],\n",
        "       simple_regret_gp_8[slice1],\n",
        "       simple_regret_gp_9[slice1],\n",
        "       simple_regret_gp_10[slice1],\n",
        "       simple_regret_gp_11[slice1],\n",
        "       simple_regret_gp_12[slice1],\n",
        "       simple_regret_gp_13[slice1],\n",
        "       simple_regret_gp_14[slice1],\n",
        "       simple_regret_gp_15[slice1],\n",
        "       simple_regret_gp_16[slice1],\n",
        "       simple_regret_gp_17[slice1],\n",
        "       simple_regret_gp_18[slice1],\n",
        "       simple_regret_gp_19[slice1],\n",
        "       simple_regret_gp_20[slice1]]\n",
        "\n",
        "exact1 = [simple_regret_stp_1[slice1],\n",
        "       simple_regret_stp_2[slice1],\n",
        "       simple_regret_stp_3[slice1],\n",
        "       simple_regret_stp_4[slice1],\n",
        "       simple_regret_stp_5[slice1],\n",
        "       simple_regret_stp_6[slice1],\n",
        "       simple_regret_stp_7[slice1],\n",
        "       simple_regret_stp_8[slice1],\n",
        "       simple_regret_stp_9[slice1],\n",
        "       simple_regret_stp_10[slice1],\n",
        "       simple_regret_stp_11[slice1],\n",
        "       simple_regret_stp_12[slice1],\n",
        "       simple_regret_stp_13[slice1],\n",
        "       simple_regret_stp_14[slice1],\n",
        "       simple_regret_stp_15[slice1],\n",
        "       simple_regret_stp_16[slice1],\n",
        "       simple_regret_stp_17[slice1],\n",
        "       simple_regret_stp_18[slice1],\n",
        "       simple_regret_stp_19[slice1],\n",
        "       simple_regret_stp_20[slice1]]\n",
        "\n",
        "approx1_results = pd.DataFrame(approx1).sort_values(by=[0], ascending=False)\n",
        "exact1_results = pd.DataFrame(exact1).sort_values(by=[0], ascending=False)\n",
        "\n",
        "### Best simple regret minimization IQR - approx:\n",
        "lower_gp1 = np.asarray(approx1_results[4:5][0])[0]\n",
        "median_gp1 = np.asarray(approx1_results[9:10][0])[0]\n",
        "upper_gp1 = np.asarray(approx1_results[14:15][0])[0]\n",
        "\n",
        "lower_stp1 = np.asarray(exact1_results[4:5][0])[0]\n",
        "median_stp1 = np.asarray(exact1_results[9:10][0])[0]\n",
        "upper_stp1 = np.asarray(exact1_results[14:15][0])[0]"
      ]
    },
    {
      "cell_type": "code",
      "execution_count": 76,
      "metadata": {
        "id": "CgIkJA1xQxf2"
      },
      "outputs": [],
      "source": [
        "# Iteration11 :\n",
        "\n",
        "slice11 = 10\n",
        "\n",
        "approx11 = [simple_regret_gp_1[slice11],\n",
        "       simple_regret_gp_2[slice11],\n",
        "       simple_regret_gp_3[slice11],\n",
        "       simple_regret_gp_4[slice11],\n",
        "       simple_regret_gp_5[slice11],\n",
        "       simple_regret_gp_6[slice11],\n",
        "       simple_regret_gp_7[slice11],\n",
        "       simple_regret_gp_8[slice11],\n",
        "       simple_regret_gp_9[slice11],\n",
        "       simple_regret_gp_10[slice11],\n",
        "       simple_regret_gp_11[slice11],\n",
        "       simple_regret_gp_12[slice11],\n",
        "       simple_regret_gp_13[slice11],\n",
        "       simple_regret_gp_14[slice11],\n",
        "       simple_regret_gp_15[slice11],\n",
        "       simple_regret_gp_16[slice11],\n",
        "       simple_regret_gp_17[slice11],\n",
        "       simple_regret_gp_18[slice11],\n",
        "       simple_regret_gp_19[slice11],\n",
        "       simple_regret_gp_20[slice11]]\n",
        "\n",
        "exact11 = [simple_regret_stp_1[slice11],\n",
        "       simple_regret_stp_2[slice11],\n",
        "       simple_regret_stp_3[slice11],\n",
        "       simple_regret_stp_4[slice11],\n",
        "       simple_regret_stp_5[slice11],\n",
        "       simple_regret_stp_6[slice11],\n",
        "       simple_regret_stp_7[slice11],\n",
        "       simple_regret_stp_8[slice11],\n",
        "       simple_regret_stp_9[slice11],\n",
        "       simple_regret_stp_10[slice11],\n",
        "       simple_regret_stp_11[slice11],\n",
        "       simple_regret_stp_12[slice11],\n",
        "       simple_regret_stp_13[slice11],\n",
        "       simple_regret_stp_14[slice11],\n",
        "       simple_regret_stp_15[slice11],\n",
        "       simple_regret_stp_16[slice11],\n",
        "       simple_regret_stp_17[slice11],\n",
        "       simple_regret_stp_18[slice11],\n",
        "       simple_regret_stp_19[slice11],\n",
        "       simple_regret_stp_20[slice11]]\n",
        "\n",
        "approx11_results = pd.DataFrame(approx11).sort_values(by=[0], ascending=False)\n",
        "exact11_results = pd.DataFrame(exact11).sort_values(by=[0], ascending=False)\n",
        "\n",
        "### Best simple regret minimization IQR - approx:\n",
        "lower_gp11 = np.asarray(approx11_results[4:5][0])[0]\n",
        "median_gp11 = np.asarray(approx11_results[9:10][0])[0]\n",
        "upper_gp11 = np.asarray(approx11_results[14:15][0])[0]\n",
        "\n",
        "lower_stp11 = np.asarray(exact11_results[4:5][0])[0]\n",
        "median_stp11 = np.asarray(exact11_results[9:10][0])[0]\n",
        "upper_stp11 = np.asarray(exact11_results[14:15][0])[0]"
      ]
    },
    {
      "cell_type": "code",
      "execution_count": 77,
      "metadata": {
        "id": "MFePDfGuQxf2"
      },
      "outputs": [],
      "source": [
        "# Iteration21 :\n",
        "\n",
        "slice21 = 20\n",
        "\n",
        "approx21 = [simple_regret_gp_1[slice21],\n",
        "       simple_regret_gp_2[slice21],\n",
        "       simple_regret_gp_3[slice21],\n",
        "       simple_regret_gp_4[slice21],\n",
        "       simple_regret_gp_5[slice21],\n",
        "       simple_regret_gp_6[slice21],\n",
        "       simple_regret_gp_7[slice21],\n",
        "       simple_regret_gp_8[slice21],\n",
        "       simple_regret_gp_9[slice21],\n",
        "       simple_regret_gp_10[slice21],\n",
        "       simple_regret_gp_11[slice21],\n",
        "       simple_regret_gp_12[slice21],\n",
        "       simple_regret_gp_13[slice21],\n",
        "       simple_regret_gp_14[slice21],\n",
        "       simple_regret_gp_15[slice21],\n",
        "       simple_regret_gp_16[slice21],\n",
        "       simple_regret_gp_17[slice21],\n",
        "       simple_regret_gp_18[slice21],\n",
        "       simple_regret_gp_19[slice21],\n",
        "       simple_regret_gp_20[slice21]]\n",
        "\n",
        "exact21 = [simple_regret_stp_1[slice21],\n",
        "       simple_regret_stp_2[slice21],\n",
        "       simple_regret_stp_3[slice21],\n",
        "       simple_regret_stp_4[slice21],\n",
        "       simple_regret_stp_5[slice21],\n",
        "       simple_regret_stp_6[slice21],\n",
        "       simple_regret_stp_7[slice21],\n",
        "       simple_regret_stp_8[slice21],\n",
        "       simple_regret_stp_9[slice21],\n",
        "       simple_regret_stp_10[slice21],\n",
        "       simple_regret_stp_11[slice21],\n",
        "       simple_regret_stp_12[slice21],\n",
        "       simple_regret_stp_13[slice21],\n",
        "       simple_regret_stp_14[slice21],\n",
        "       simple_regret_stp_15[slice21],\n",
        "       simple_regret_stp_16[slice21],\n",
        "       simple_regret_stp_17[slice21],\n",
        "       simple_regret_stp_18[slice21],\n",
        "       simple_regret_stp_19[slice21],\n",
        "       simple_regret_stp_20[slice21]]\n",
        "\n",
        "approx21_results = pd.DataFrame(approx21).sort_values(by=[0], ascending=False)\n",
        "exact21_results = pd.DataFrame(exact21).sort_values(by=[0], ascending=False)\n",
        "\n",
        "### Best simple regret minimization IQR - approx:\n",
        "lower_gp21 = np.asarray(approx21_results[4:5][0])[0]\n",
        "median_gp21 = np.asarray(approx21_results[9:10][0])[0]\n",
        "upper_gp21 = np.asarray(approx21_results[14:15][0])[0]\n",
        "\n",
        "lower_stp21 = np.asarray(exact21_results[4:5][0])[0]\n",
        "median_stp21 = np.asarray(exact21_results[9:10][0])[0]\n",
        "upper_stp21 = np.asarray(exact21_results[14:15][0])[0]"
      ]
    },
    {
      "cell_type": "code",
      "execution_count": 78,
      "metadata": {
        "id": "PrRDB1kfQxf3"
      },
      "outputs": [],
      "source": [
        "# Iteration2 :\n",
        "\n",
        "slice2 = 1\n",
        "\n",
        "approx2 = [simple_regret_gp_1[slice2],\n",
        "       simple_regret_gp_2[slice2],\n",
        "       simple_regret_gp_3[slice2],\n",
        "       simple_regret_gp_4[slice2],\n",
        "       simple_regret_gp_5[slice2],\n",
        "       simple_regret_gp_6[slice2],\n",
        "       simple_regret_gp_7[slice2],\n",
        "       simple_regret_gp_8[slice2],\n",
        "       simple_regret_gp_9[slice2],\n",
        "       simple_regret_gp_10[slice2],\n",
        "       simple_regret_gp_11[slice2],\n",
        "       simple_regret_gp_12[slice2],\n",
        "       simple_regret_gp_13[slice2],\n",
        "       simple_regret_gp_14[slice2],\n",
        "       simple_regret_gp_15[slice2],\n",
        "       simple_regret_gp_16[slice2],\n",
        "       simple_regret_gp_17[slice2],\n",
        "       simple_regret_gp_18[slice2],\n",
        "       simple_regret_gp_19[slice2],\n",
        "       simple_regret_gp_20[slice2]]\n",
        "\n",
        "exact2 = [simple_regret_stp_1[slice2],\n",
        "       simple_regret_stp_2[slice2],\n",
        "       simple_regret_stp_3[slice2],\n",
        "       simple_regret_stp_4[slice2],\n",
        "       simple_regret_stp_5[slice2],\n",
        "       simple_regret_stp_6[slice2],\n",
        "       simple_regret_stp_7[slice2],\n",
        "       simple_regret_stp_8[slice2],\n",
        "       simple_regret_stp_9[slice2],\n",
        "       simple_regret_stp_10[slice2],\n",
        "       simple_regret_stp_11[slice2],\n",
        "       simple_regret_stp_12[slice2],\n",
        "       simple_regret_stp_13[slice2],\n",
        "       simple_regret_stp_14[slice2],\n",
        "       simple_regret_stp_15[slice2],\n",
        "       simple_regret_stp_16[slice2],\n",
        "       simple_regret_stp_17[slice2],\n",
        "       simple_regret_stp_18[slice2],\n",
        "       simple_regret_stp_19[slice2],\n",
        "       simple_regret_stp_20[slice2]]\n",
        "\n",
        "approx2_results = pd.DataFrame(approx2).sort_values(by=[0], ascending=False)\n",
        "exact2_results = pd.DataFrame(exact2).sort_values(by=[0], ascending=False)\n",
        "\n",
        "### Best simple regret minimization IQR - approx:\n",
        "lower_gp2 = np.asarray(approx2_results[4:5][0])[0]\n",
        "median_gp2 = np.asarray(approx2_results[9:10][0])[0]\n",
        "upper_gp2 = np.asarray(approx2_results[14:15][0])[0]\n",
        "\n",
        "lower_stp2 = np.asarray(exact2_results[4:5][0])[0]\n",
        "median_stp2 = np.asarray(exact2_results[9:10][0])[0]\n",
        "upper_stp2 = np.asarray(exact2_results[14:15][0])[0]"
      ]
    },
    {
      "cell_type": "code",
      "execution_count": 79,
      "metadata": {
        "id": "B8ncJDYeQxf3"
      },
      "outputs": [],
      "source": [
        "# Iteration12 :\n",
        "\n",
        "slice12 = 11\n",
        "\n",
        "approx12 = [simple_regret_gp_1[slice12],\n",
        "       simple_regret_gp_2[slice12],\n",
        "       simple_regret_gp_3[slice12],\n",
        "       simple_regret_gp_4[slice12],\n",
        "       simple_regret_gp_5[slice12],\n",
        "       simple_regret_gp_6[slice12],\n",
        "       simple_regret_gp_7[slice12],\n",
        "       simple_regret_gp_8[slice12],\n",
        "       simple_regret_gp_9[slice12],\n",
        "       simple_regret_gp_10[slice12],\n",
        "       simple_regret_gp_11[slice12],\n",
        "       simple_regret_gp_12[slice12],\n",
        "       simple_regret_gp_13[slice12],\n",
        "       simple_regret_gp_14[slice12],\n",
        "       simple_regret_gp_15[slice12],\n",
        "       simple_regret_gp_16[slice12],\n",
        "       simple_regret_gp_17[slice12],\n",
        "       simple_regret_gp_18[slice12],\n",
        "       simple_regret_gp_19[slice12],\n",
        "       simple_regret_gp_20[slice12]]\n",
        "\n",
        "exact12 = [simple_regret_stp_1[slice12],\n",
        "       simple_regret_stp_2[slice12],\n",
        "       simple_regret_stp_3[slice12],\n",
        "       simple_regret_stp_4[slice12],\n",
        "       simple_regret_stp_5[slice12],\n",
        "       simple_regret_stp_6[slice12],\n",
        "       simple_regret_stp_7[slice12],\n",
        "       simple_regret_stp_8[slice12],\n",
        "       simple_regret_stp_9[slice12],\n",
        "       simple_regret_stp_10[slice12],\n",
        "       simple_regret_stp_11[slice12],\n",
        "       simple_regret_stp_12[slice12],\n",
        "       simple_regret_stp_13[slice12],\n",
        "       simple_regret_stp_14[slice12],\n",
        "       simple_regret_stp_15[slice12],\n",
        "       simple_regret_stp_16[slice12],\n",
        "       simple_regret_stp_17[slice12],\n",
        "       simple_regret_stp_18[slice12],\n",
        "       simple_regret_stp_19[slice12],\n",
        "       simple_regret_stp_20[slice12]]\n",
        "\n",
        "approx12_results = pd.DataFrame(approx12).sort_values(by=[0], ascending=False)\n",
        "exact12_results = pd.DataFrame(exact12).sort_values(by=[0], ascending=False)\n",
        "\n",
        "### Best simple regret minimization IQR - approx:\n",
        "lower_gp12 = np.asarray(approx12_results[4:5][0])[0]\n",
        "median_gp12 = np.asarray(approx12_results[9:10][0])[0]\n",
        "upper_gp12 = np.asarray(approx12_results[14:15][0])[0]\n",
        "\n",
        "lower_stp12 = np.asarray(exact12_results[4:5][0])[0]\n",
        "median_stp12 = np.asarray(exact12_results[9:10][0])[0]\n",
        "upper_stp12 = np.asarray(exact12_results[14:15][0])[0]"
      ]
    },
    {
      "cell_type": "code",
      "execution_count": 80,
      "metadata": {
        "id": "Jn4KpGvcQxf4"
      },
      "outputs": [],
      "source": [
        "# Iteration3 :\n",
        "\n",
        "slice3 = 2\n",
        "\n",
        "approx3 = [simple_regret_gp_1[slice3],\n",
        "       simple_regret_gp_2[slice3],\n",
        "       simple_regret_gp_3[slice3],\n",
        "       simple_regret_gp_4[slice3],\n",
        "       simple_regret_gp_5[slice3],\n",
        "       simple_regret_gp_6[slice3],\n",
        "       simple_regret_gp_7[slice3],\n",
        "       simple_regret_gp_8[slice3],\n",
        "       simple_regret_gp_9[slice3],\n",
        "       simple_regret_gp_10[slice3],\n",
        "       simple_regret_gp_11[slice3],\n",
        "       simple_regret_gp_12[slice3],\n",
        "       simple_regret_gp_13[slice3],\n",
        "       simple_regret_gp_14[slice3],\n",
        "       simple_regret_gp_15[slice3],\n",
        "       simple_regret_gp_16[slice3],\n",
        "       simple_regret_gp_17[slice3],\n",
        "       simple_regret_gp_18[slice3],\n",
        "       simple_regret_gp_19[slice3],\n",
        "       simple_regret_gp_20[slice3]]\n",
        "\n",
        "exact3 = [simple_regret_stp_1[slice3],\n",
        "       simple_regret_stp_2[slice3],\n",
        "       simple_regret_stp_3[slice3],\n",
        "       simple_regret_stp_4[slice3],\n",
        "       simple_regret_stp_5[slice3],\n",
        "       simple_regret_stp_6[slice3],\n",
        "       simple_regret_stp_7[slice3],\n",
        "       simple_regret_stp_8[slice3],\n",
        "       simple_regret_stp_9[slice3],\n",
        "       simple_regret_stp_10[slice3],\n",
        "       simple_regret_stp_11[slice3],\n",
        "       simple_regret_stp_12[slice3],\n",
        "       simple_regret_stp_13[slice3],\n",
        "       simple_regret_stp_14[slice3],\n",
        "       simple_regret_stp_15[slice3],\n",
        "       simple_regret_stp_16[slice3],\n",
        "       simple_regret_stp_17[slice3],\n",
        "       simple_regret_stp_18[slice3],\n",
        "       simple_regret_stp_19[slice3],\n",
        "       simple_regret_stp_20[slice3]]\n",
        "\n",
        "approx3_results = pd.DataFrame(approx3).sort_values(by=[0], ascending=False)\n",
        "exact3_results = pd.DataFrame(exact3).sort_values(by=[0], ascending=False)\n",
        "\n",
        "### Best simple regret minimization IQR - approx:\n",
        "lower_gp3 = np.asarray(approx3_results[4:5][0])[0]\n",
        "median_gp3 = np.asarray(approx3_results[9:10][0])[0]\n",
        "upper_gp3 = np.asarray(approx3_results[14:15][0])[0]\n",
        "\n",
        "lower_stp3 = np.asarray(exact3_results[4:5][0])[0]\n",
        "median_stp3 = np.asarray(exact3_results[9:10][0])[0]\n",
        "upper_stp3 = np.asarray(exact3_results[14:15][0])[0]"
      ]
    },
    {
      "cell_type": "code",
      "execution_count": 81,
      "metadata": {
        "id": "plf83wxrQxf4"
      },
      "outputs": [],
      "source": [
        "# Iteration13 :\n",
        "\n",
        "slice13 = 12\n",
        "\n",
        "approx13 = [simple_regret_gp_1[slice13],\n",
        "       simple_regret_gp_2[slice13],\n",
        "       simple_regret_gp_3[slice13],\n",
        "       simple_regret_gp_4[slice13],\n",
        "       simple_regret_gp_5[slice13],\n",
        "       simple_regret_gp_6[slice13],\n",
        "       simple_regret_gp_7[slice13],\n",
        "       simple_regret_gp_8[slice13],\n",
        "       simple_regret_gp_9[slice13],\n",
        "       simple_regret_gp_10[slice13],\n",
        "       simple_regret_gp_11[slice13],\n",
        "       simple_regret_gp_12[slice13],\n",
        "       simple_regret_gp_13[slice13],\n",
        "       simple_regret_gp_14[slice13],\n",
        "       simple_regret_gp_15[slice13],\n",
        "       simple_regret_gp_16[slice13],\n",
        "       simple_regret_gp_17[slice13],\n",
        "       simple_regret_gp_18[slice13],\n",
        "       simple_regret_gp_19[slice13],\n",
        "       simple_regret_gp_20[slice13]]\n",
        "\n",
        "exact13 = [simple_regret_stp_1[slice13],\n",
        "       simple_regret_stp_2[slice13],\n",
        "       simple_regret_stp_3[slice13],\n",
        "       simple_regret_stp_4[slice13],\n",
        "       simple_regret_stp_5[slice13],\n",
        "       simple_regret_stp_6[slice13],\n",
        "       simple_regret_stp_7[slice13],\n",
        "       simple_regret_stp_8[slice13],\n",
        "       simple_regret_stp_9[slice13],\n",
        "       simple_regret_stp_10[slice13],\n",
        "       simple_regret_stp_11[slice13],\n",
        "       simple_regret_stp_12[slice13],\n",
        "       simple_regret_stp_13[slice13],\n",
        "       simple_regret_stp_14[slice13],\n",
        "       simple_regret_stp_15[slice13],\n",
        "       simple_regret_stp_16[slice13],\n",
        "       simple_regret_stp_17[slice13],\n",
        "       simple_regret_stp_18[slice13],\n",
        "       simple_regret_stp_19[slice13],\n",
        "       simple_regret_stp_20[slice13]]\n",
        "\n",
        "approx13_results = pd.DataFrame(approx13).sort_values(by=[0], ascending=False)\n",
        "exact13_results = pd.DataFrame(exact13).sort_values(by=[0], ascending=False)\n",
        "\n",
        "### Best simple regret minimization IQR - approx:\n",
        "lower_gp13 = np.asarray(approx13_results[4:5][0])[0]\n",
        "median_gp13 = np.asarray(approx13_results[9:10][0])[0]\n",
        "upper_gp13 = np.asarray(approx13_results[14:15][0])[0]\n",
        "\n",
        "lower_stp13 = np.asarray(exact13_results[4:5][0])[0]\n",
        "median_stp13 = np.asarray(exact13_results[9:10][0])[0]\n",
        "upper_stp13 = np.asarray(exact13_results[14:15][0])[0]"
      ]
    },
    {
      "cell_type": "code",
      "execution_count": 82,
      "metadata": {
        "id": "9A7mlVvJQxf5"
      },
      "outputs": [],
      "source": [
        "# Iteration4 :\n",
        "\n",
        "slice4 = 3\n",
        "\n",
        "approx4 = [simple_regret_gp_1[slice4],\n",
        "       simple_regret_gp_2[slice4],\n",
        "       simple_regret_gp_3[slice4],\n",
        "       simple_regret_gp_4[slice4],\n",
        "       simple_regret_gp_5[slice4],\n",
        "       simple_regret_gp_6[slice4],\n",
        "       simple_regret_gp_7[slice4],\n",
        "       simple_regret_gp_8[slice4],\n",
        "       simple_regret_gp_9[slice4],\n",
        "       simple_regret_gp_10[slice4],\n",
        "       simple_regret_gp_11[slice4],\n",
        "       simple_regret_gp_12[slice4],\n",
        "       simple_regret_gp_13[slice4],\n",
        "       simple_regret_gp_14[slice4],\n",
        "       simple_regret_gp_15[slice4],\n",
        "       simple_regret_gp_16[slice4],\n",
        "       simple_regret_gp_17[slice4],\n",
        "       simple_regret_gp_18[slice4],\n",
        "       simple_regret_gp_19[slice4],\n",
        "       simple_regret_gp_20[slice4]]\n",
        "\n",
        "exact4 = [simple_regret_stp_1[slice4],\n",
        "       simple_regret_stp_2[slice4],\n",
        "       simple_regret_stp_3[slice4],\n",
        "       simple_regret_stp_4[slice4],\n",
        "       simple_regret_stp_5[slice4],\n",
        "       simple_regret_stp_6[slice4],\n",
        "       simple_regret_stp_7[slice4],\n",
        "       simple_regret_stp_8[slice4],\n",
        "       simple_regret_stp_9[slice4],\n",
        "       simple_regret_stp_10[slice4],\n",
        "       simple_regret_stp_11[slice4],\n",
        "       simple_regret_stp_12[slice4],\n",
        "       simple_regret_stp_13[slice4],\n",
        "       simple_regret_stp_14[slice4],\n",
        "       simple_regret_stp_15[slice4],\n",
        "       simple_regret_stp_16[slice4],\n",
        "       simple_regret_stp_17[slice4],\n",
        "       simple_regret_stp_18[slice4],\n",
        "       simple_regret_stp_19[slice4],\n",
        "       simple_regret_stp_20[slice4]]\n",
        "\n",
        "approx4_results = pd.DataFrame(approx4).sort_values(by=[0], ascending=False)\n",
        "exact4_results = pd.DataFrame(exact4).sort_values(by=[0], ascending=False)\n",
        "\n",
        "### Best simple regret minimization IQR - approx:\n",
        "lower_gp4 = np.asarray(approx4_results[4:5][0])[0]\n",
        "median_gp4 = np.asarray(approx4_results[9:10][0])[0]\n",
        "upper_gp4 = np.asarray(approx4_results[14:15][0])[0]\n",
        "\n",
        "lower_stp4 = np.asarray(exact4_results[4:5][0])[0]\n",
        "median_stp4 = np.asarray(exact4_results[9:10][0])[0]\n",
        "upper_stp4 = np.asarray(exact4_results[14:15][0])[0]"
      ]
    },
    {
      "cell_type": "code",
      "execution_count": 83,
      "metadata": {
        "id": "ijq-rioYQxf5"
      },
      "outputs": [],
      "source": [
        "# Iteration14 :\n",
        "\n",
        "slice14 = 13\n",
        "\n",
        "approx14 = [simple_regret_gp_1[slice14],\n",
        "       simple_regret_gp_2[slice14],\n",
        "       simple_regret_gp_3[slice14],\n",
        "       simple_regret_gp_4[slice14],\n",
        "       simple_regret_gp_5[slice14],\n",
        "       simple_regret_gp_6[slice14],\n",
        "       simple_regret_gp_7[slice14],\n",
        "       simple_regret_gp_8[slice14],\n",
        "       simple_regret_gp_9[slice14],\n",
        "       simple_regret_gp_10[slice14],\n",
        "       simple_regret_gp_11[slice14],\n",
        "       simple_regret_gp_12[slice14],\n",
        "       simple_regret_gp_13[slice14],\n",
        "       simple_regret_gp_14[slice14],\n",
        "       simple_regret_gp_15[slice14],\n",
        "       simple_regret_gp_16[slice14],\n",
        "       simple_regret_gp_17[slice14],\n",
        "       simple_regret_gp_18[slice14],\n",
        "       simple_regret_gp_19[slice14],\n",
        "       simple_regret_gp_20[slice14]]\n",
        "\n",
        "exact14 = [simple_regret_stp_1[slice14],\n",
        "       simple_regret_stp_2[slice14],\n",
        "       simple_regret_stp_3[slice14],\n",
        "       simple_regret_stp_4[slice14],\n",
        "       simple_regret_stp_5[slice14],\n",
        "       simple_regret_stp_6[slice14],\n",
        "       simple_regret_stp_7[slice14],\n",
        "       simple_regret_stp_8[slice14],\n",
        "       simple_regret_stp_9[slice14],\n",
        "       simple_regret_stp_10[slice14],\n",
        "       simple_regret_stp_11[slice14],\n",
        "       simple_regret_stp_12[slice14],\n",
        "       simple_regret_stp_13[slice14],\n",
        "       simple_regret_stp_14[slice14],\n",
        "       simple_regret_stp_15[slice14],\n",
        "       simple_regret_stp_16[slice14],\n",
        "       simple_regret_stp_17[slice14],\n",
        "       simple_regret_stp_18[slice14],\n",
        "       simple_regret_stp_19[slice14],\n",
        "       simple_regret_stp_20[slice14]]\n",
        "\n",
        "approx14_results = pd.DataFrame(approx14).sort_values(by=[0], ascending=False)\n",
        "exact14_results = pd.DataFrame(exact14).sort_values(by=[0], ascending=False)\n",
        "\n",
        "### Best simple regret minimization IQR - approx:\n",
        "lower_gp14 = np.asarray(approx14_results[4:5][0])[0]\n",
        "median_gp14 = np.asarray(approx14_results[9:10][0])[0]\n",
        "upper_gp14 = np.asarray(approx14_results[14:15][0])[0]\n",
        "\n",
        "lower_stp14 = np.asarray(exact14_results[4:5][0])[0]\n",
        "median_stp14 = np.asarray(exact14_results[9:10][0])[0]\n",
        "upper_stp14 = np.asarray(exact14_results[14:15][0])[0]"
      ]
    },
    {
      "cell_type": "code",
      "execution_count": 84,
      "metadata": {
        "id": "XINlZjoTd-ZK"
      },
      "outputs": [],
      "source": [
        "# Iteration5 :\n",
        "\n",
        "slice5 = 4\n",
        "\n",
        "approx5 = [simple_regret_gp_1[slice5],\n",
        "       simple_regret_gp_2[slice5],\n",
        "       simple_regret_gp_3[slice5],\n",
        "       simple_regret_gp_4[slice5],\n",
        "       simple_regret_gp_5[slice5],\n",
        "       simple_regret_gp_6[slice5],\n",
        "       simple_regret_gp_7[slice5],\n",
        "       simple_regret_gp_8[slice5],\n",
        "       simple_regret_gp_9[slice5],\n",
        "       simple_regret_gp_10[slice5],\n",
        "       simple_regret_gp_11[slice5],\n",
        "       simple_regret_gp_12[slice5],\n",
        "       simple_regret_gp_13[slice5],\n",
        "       simple_regret_gp_14[slice5],\n",
        "       simple_regret_gp_15[slice5],\n",
        "       simple_regret_gp_16[slice5],\n",
        "       simple_regret_gp_17[slice5],\n",
        "       simple_regret_gp_18[slice5],\n",
        "       simple_regret_gp_19[slice5],\n",
        "       simple_regret_gp_20[slice5]]\n",
        "\n",
        "exact5 = [simple_regret_stp_1[slice5],\n",
        "       simple_regret_stp_2[slice5],\n",
        "       simple_regret_stp_3[slice5],\n",
        "       simple_regret_stp_4[slice5],\n",
        "       simple_regret_stp_5[slice5],\n",
        "       simple_regret_stp_6[slice5],\n",
        "       simple_regret_stp_7[slice5],\n",
        "       simple_regret_stp_8[slice5],\n",
        "       simple_regret_stp_9[slice5],\n",
        "       simple_regret_stp_10[slice5],\n",
        "       simple_regret_stp_11[slice5],\n",
        "       simple_regret_stp_12[slice5],\n",
        "       simple_regret_stp_13[slice5],\n",
        "       simple_regret_stp_14[slice5],\n",
        "       simple_regret_stp_15[slice5],\n",
        "       simple_regret_stp_16[slice5],\n",
        "       simple_regret_stp_17[slice5],\n",
        "       simple_regret_stp_18[slice5],\n",
        "       simple_regret_stp_19[slice5],\n",
        "       simple_regret_stp_20[slice5]]\n",
        "\n",
        "approx5_results = pd.DataFrame(approx5).sort_values(by=[0], ascending=False)\n",
        "exact5_results = pd.DataFrame(exact5).sort_values(by=[0], ascending=False)\n",
        "\n",
        "### Best simple regret minimization IQR - approx:\n",
        "lower_gp5 = np.asarray(approx5_results[4:5][0])[0]\n",
        "median_gp5 = np.asarray(approx5_results[9:10][0])[0]\n",
        "upper_gp5 = np.asarray(approx5_results[14:15][0])[0]\n",
        "\n",
        "lower_stp5 = np.asarray(exact5_results[4:5][0])[0]\n",
        "median_stp5 = np.asarray(exact5_results[9:10][0])[0]\n",
        "upper_stp5 = np.asarray(exact5_results[14:15][0])[0]"
      ]
    },
    {
      "cell_type": "code",
      "execution_count": 85,
      "metadata": {
        "id": "4aZ7C8sOQxf6"
      },
      "outputs": [],
      "source": [
        "# Iteration15 :\n",
        "\n",
        "slice15 = 14\n",
        "\n",
        "approx15 = [simple_regret_gp_1[slice15],\n",
        "       simple_regret_gp_2[slice15],\n",
        "       simple_regret_gp_3[slice15],\n",
        "       simple_regret_gp_4[slice15],\n",
        "       simple_regret_gp_5[slice15],\n",
        "       simple_regret_gp_6[slice15],\n",
        "       simple_regret_gp_7[slice15],\n",
        "       simple_regret_gp_8[slice15],\n",
        "       simple_regret_gp_9[slice15],\n",
        "       simple_regret_gp_10[slice15],\n",
        "       simple_regret_gp_11[slice15],\n",
        "       simple_regret_gp_12[slice15],\n",
        "       simple_regret_gp_13[slice15],\n",
        "       simple_regret_gp_14[slice15],\n",
        "       simple_regret_gp_15[slice15],\n",
        "       simple_regret_gp_16[slice15],\n",
        "       simple_regret_gp_17[slice15],\n",
        "       simple_regret_gp_18[slice15],\n",
        "       simple_regret_gp_19[slice15],\n",
        "       simple_regret_gp_20[slice15]]\n",
        "\n",
        "exact15 = [simple_regret_stp_1[slice15],\n",
        "       simple_regret_stp_2[slice15],\n",
        "       simple_regret_stp_3[slice15],\n",
        "       simple_regret_stp_4[slice15],\n",
        "       simple_regret_stp_5[slice15],\n",
        "       simple_regret_stp_6[slice15],\n",
        "       simple_regret_stp_7[slice15],\n",
        "       simple_regret_stp_8[slice15],\n",
        "       simple_regret_stp_9[slice15],\n",
        "       simple_regret_stp_10[slice15],\n",
        "       simple_regret_stp_11[slice15],\n",
        "       simple_regret_stp_12[slice15],\n",
        "       simple_regret_stp_13[slice15],\n",
        "       simple_regret_stp_14[slice15],\n",
        "       simple_regret_stp_15[slice15],\n",
        "       simple_regret_stp_16[slice15],\n",
        "       simple_regret_stp_17[slice15],\n",
        "       simple_regret_stp_18[slice15],\n",
        "       simple_regret_stp_19[slice15],\n",
        "       simple_regret_stp_20[slice15]]\n",
        "\n",
        "approx15_results = pd.DataFrame(approx15).sort_values(by=[0], ascending=False)\n",
        "exact15_results = pd.DataFrame(exact15).sort_values(by=[0], ascending=False)\n",
        "\n",
        "### Best simple regret minimization IQR - approx:\n",
        "lower_gp15 = np.asarray(approx15_results[4:5][0])[0]\n",
        "median_gp15 = np.asarray(approx15_results[9:10][0])[0]\n",
        "upper_gp15 = np.asarray(approx15_results[14:15][0])[0]\n",
        "\n",
        "lower_stp15 = np.asarray(exact15_results[4:5][0])[0]\n",
        "median_stp15 = np.asarray(exact15_results[9:10][0])[0]\n",
        "upper_stp15 = np.asarray(exact15_results[14:15][0])[0]"
      ]
    },
    {
      "cell_type": "code",
      "execution_count": 86,
      "metadata": {
        "id": "KJINKhv1Qxf6"
      },
      "outputs": [],
      "source": [
        "# Iteration6 :\n",
        "\n",
        "slice6 = 5\n",
        "\n",
        "approx6 = [simple_regret_gp_1[slice6],\n",
        "       simple_regret_gp_2[slice6],\n",
        "       simple_regret_gp_3[slice6],\n",
        "       simple_regret_gp_4[slice6],\n",
        "       simple_regret_gp_5[slice6],\n",
        "       simple_regret_gp_6[slice6],\n",
        "       simple_regret_gp_7[slice6],\n",
        "       simple_regret_gp_8[slice6],\n",
        "       simple_regret_gp_9[slice6],\n",
        "       simple_regret_gp_10[slice6],\n",
        "       simple_regret_gp_11[slice6],\n",
        "       simple_regret_gp_12[slice6],\n",
        "       simple_regret_gp_13[slice6],\n",
        "       simple_regret_gp_14[slice6],\n",
        "       simple_regret_gp_15[slice6],\n",
        "       simple_regret_gp_16[slice6],\n",
        "       simple_regret_gp_17[slice6],\n",
        "       simple_regret_gp_18[slice6],\n",
        "       simple_regret_gp_19[slice6],\n",
        "       simple_regret_gp_20[slice6]]\n",
        "\n",
        "exact6 = [simple_regret_stp_1[slice6],\n",
        "       simple_regret_stp_2[slice6],\n",
        "       simple_regret_stp_3[slice6],\n",
        "       simple_regret_stp_4[slice6],\n",
        "       simple_regret_stp_5[slice6],\n",
        "       simple_regret_stp_6[slice6],\n",
        "       simple_regret_stp_7[slice6],\n",
        "       simple_regret_stp_8[slice6],\n",
        "       simple_regret_stp_9[slice6],\n",
        "       simple_regret_stp_10[slice6],\n",
        "       simple_regret_stp_11[slice6],\n",
        "       simple_regret_stp_12[slice6],\n",
        "       simple_regret_stp_13[slice6],\n",
        "       simple_regret_stp_14[slice6],\n",
        "       simple_regret_stp_15[slice6],\n",
        "       simple_regret_stp_16[slice6],\n",
        "       simple_regret_stp_17[slice6],\n",
        "       simple_regret_stp_18[slice6],\n",
        "       simple_regret_stp_19[slice6],\n",
        "       simple_regret_stp_20[slice6]]\n",
        "\n",
        "approx6_results = pd.DataFrame(approx6).sort_values(by=[0], ascending=False)\n",
        "exact6_results = pd.DataFrame(exact6).sort_values(by=[0], ascending=False)\n",
        "\n",
        "### Best simple regret minimization IQR - approx:\n",
        "lower_gp6 = np.asarray(approx6_results[4:5][0])[0]\n",
        "median_gp6 = np.asarray(approx6_results[9:10][0])[0]\n",
        "upper_gp6 = np.asarray(approx6_results[14:15][0])[0]\n",
        "\n",
        "lower_stp6 = np.asarray(exact6_results[4:5][0])[0]\n",
        "median_stp6 = np.asarray(exact6_results[9:10][0])[0]\n",
        "upper_stp6 = np.asarray(exact6_results[14:15][0])[0]"
      ]
    },
    {
      "cell_type": "code",
      "execution_count": 87,
      "metadata": {
        "id": "nwC5N1FsQxf7"
      },
      "outputs": [],
      "source": [
        "# Iteration16 :\n",
        "\n",
        "slice16 = 15\n",
        "\n",
        "approx16 = [simple_regret_gp_1[slice16],\n",
        "       simple_regret_gp_2[slice16],\n",
        "       simple_regret_gp_3[slice16],\n",
        "       simple_regret_gp_4[slice16],\n",
        "       simple_regret_gp_5[slice16],\n",
        "       simple_regret_gp_6[slice16],\n",
        "       simple_regret_gp_7[slice16],\n",
        "       simple_regret_gp_8[slice16],\n",
        "       simple_regret_gp_9[slice16],\n",
        "       simple_regret_gp_10[slice16],\n",
        "       simple_regret_gp_11[slice16],\n",
        "       simple_regret_gp_12[slice16],\n",
        "       simple_regret_gp_13[slice16],\n",
        "       simple_regret_gp_14[slice16],\n",
        "       simple_regret_gp_15[slice16],\n",
        "       simple_regret_gp_16[slice16],\n",
        "       simple_regret_gp_17[slice16],\n",
        "       simple_regret_gp_18[slice16],\n",
        "       simple_regret_gp_19[slice16],\n",
        "       simple_regret_gp_20[slice16]]\n",
        "\n",
        "exact16 = [simple_regret_stp_1[slice16],\n",
        "       simple_regret_stp_2[slice16],\n",
        "       simple_regret_stp_3[slice16],\n",
        "       simple_regret_stp_4[slice16],\n",
        "       simple_regret_stp_5[slice16],\n",
        "       simple_regret_stp_6[slice16],\n",
        "       simple_regret_stp_7[slice16],\n",
        "       simple_regret_stp_8[slice16],\n",
        "       simple_regret_stp_9[slice16],\n",
        "       simple_regret_stp_10[slice16],\n",
        "       simple_regret_stp_11[slice16],\n",
        "       simple_regret_stp_12[slice16],\n",
        "       simple_regret_stp_13[slice16],\n",
        "       simple_regret_stp_14[slice16],\n",
        "       simple_regret_stp_15[slice16],\n",
        "       simple_regret_stp_16[slice16],\n",
        "       simple_regret_stp_17[slice16],\n",
        "       simple_regret_stp_18[slice16],\n",
        "       simple_regret_stp_19[slice16],\n",
        "       simple_regret_stp_20[slice16]]\n",
        "\n",
        "approx16_results = pd.DataFrame(approx16).sort_values(by=[0], ascending=False)\n",
        "exact16_results = pd.DataFrame(exact16).sort_values(by=[0], ascending=False)\n",
        "\n",
        "### Best simple regret minimization IQR - approx:\n",
        "lower_gp16 = np.asarray(approx16_results[4:5][0])[0]\n",
        "median_gp16 = np.asarray(approx16_results[9:10][0])[0]\n",
        "upper_gp16 = np.asarray(approx16_results[14:15][0])[0]\n",
        "\n",
        "lower_stp16 = np.asarray(exact16_results[4:5][0])[0]\n",
        "median_stp16 = np.asarray(exact16_results[9:10][0])[0]\n",
        "upper_stp16 = np.asarray(exact16_results[14:15][0])[0]"
      ]
    },
    {
      "cell_type": "code",
      "execution_count": 88,
      "metadata": {
        "id": "TrPV0AfnQxf7"
      },
      "outputs": [],
      "source": [
        "# Iteration7 :\n",
        "\n",
        "slice7 = 6\n",
        "\n",
        "approx7 = [simple_regret_gp_1[slice7],\n",
        "       simple_regret_gp_2[slice7],\n",
        "       simple_regret_gp_3[slice7],\n",
        "       simple_regret_gp_4[slice7],\n",
        "       simple_regret_gp_5[slice7],\n",
        "       simple_regret_gp_6[slice7],\n",
        "       simple_regret_gp_7[slice7],\n",
        "       simple_regret_gp_8[slice7],\n",
        "       simple_regret_gp_9[slice7],\n",
        "       simple_regret_gp_10[slice7],\n",
        "       simple_regret_gp_11[slice7],\n",
        "       simple_regret_gp_12[slice7],\n",
        "       simple_regret_gp_13[slice7],\n",
        "       simple_regret_gp_14[slice7],\n",
        "       simple_regret_gp_15[slice7],\n",
        "       simple_regret_gp_16[slice7],\n",
        "       simple_regret_gp_17[slice7],\n",
        "       simple_regret_gp_18[slice7],\n",
        "       simple_regret_gp_19[slice7],\n",
        "       simple_regret_gp_20[slice7]]\n",
        "\n",
        "exact7 = [simple_regret_stp_1[slice7],\n",
        "       simple_regret_stp_2[slice7],\n",
        "       simple_regret_stp_3[slice7],\n",
        "       simple_regret_stp_4[slice7],\n",
        "       simple_regret_stp_5[slice7],\n",
        "       simple_regret_stp_6[slice7],\n",
        "       simple_regret_stp_7[slice7],\n",
        "       simple_regret_stp_8[slice7],\n",
        "       simple_regret_stp_9[slice7],\n",
        "       simple_regret_stp_10[slice7],\n",
        "       simple_regret_stp_11[slice7],\n",
        "       simple_regret_stp_12[slice7],\n",
        "       simple_regret_stp_13[slice7],\n",
        "       simple_regret_stp_14[slice7],\n",
        "       simple_regret_stp_15[slice7],\n",
        "       simple_regret_stp_16[slice7],\n",
        "       simple_regret_stp_17[slice7],\n",
        "       simple_regret_stp_18[slice7],\n",
        "       simple_regret_stp_19[slice7],\n",
        "       simple_regret_stp_20[slice7]]\n",
        "\n",
        "approx7_results = pd.DataFrame(approx7).sort_values(by=[0], ascending=False)\n",
        "exact7_results = pd.DataFrame(exact7).sort_values(by=[0], ascending=False)\n",
        "\n",
        "### Best simple regret minimization IQR - approx:\n",
        "lower_gp7 = np.asarray(approx7_results[4:5][0])[0]\n",
        "median_gp7 = np.asarray(approx7_results[9:10][0])[0]\n",
        "upper_gp7 = np.asarray(approx7_results[14:15][0])[0]\n",
        "\n",
        "lower_stp7 = np.asarray(exact7_results[4:5][0])[0]\n",
        "median_stp7 = np.asarray(exact7_results[9:10][0])[0]\n",
        "upper_stp7 = np.asarray(exact7_results[14:15][0])[0]"
      ]
    },
    {
      "cell_type": "code",
      "execution_count": 89,
      "metadata": {
        "id": "Ub_-wpK4Qxf8"
      },
      "outputs": [],
      "source": [
        "# Iteration17 :\n",
        "\n",
        "slice17 = 16\n",
        "\n",
        "approx17 = [simple_regret_gp_1[slice17],\n",
        "       simple_regret_gp_2[slice17],\n",
        "       simple_regret_gp_3[slice17],\n",
        "       simple_regret_gp_4[slice17],\n",
        "       simple_regret_gp_5[slice17],\n",
        "       simple_regret_gp_6[slice17],\n",
        "       simple_regret_gp_7[slice17],\n",
        "       simple_regret_gp_8[slice17],\n",
        "       simple_regret_gp_9[slice17],\n",
        "       simple_regret_gp_10[slice17],\n",
        "       simple_regret_gp_11[slice17],\n",
        "       simple_regret_gp_12[slice17],\n",
        "       simple_regret_gp_13[slice17],\n",
        "       simple_regret_gp_14[slice17],\n",
        "       simple_regret_gp_15[slice17],\n",
        "       simple_regret_gp_16[slice17],\n",
        "       simple_regret_gp_17[slice17],\n",
        "       simple_regret_gp_18[slice17],\n",
        "       simple_regret_gp_19[slice17],\n",
        "       simple_regret_gp_20[slice17]]\n",
        "\n",
        "exact17 = [simple_regret_stp_1[slice17],\n",
        "       simple_regret_stp_2[slice17],\n",
        "       simple_regret_stp_3[slice17],\n",
        "       simple_regret_stp_4[slice17],\n",
        "       simple_regret_stp_5[slice17],\n",
        "       simple_regret_stp_6[slice17],\n",
        "       simple_regret_stp_7[slice17],\n",
        "       simple_regret_stp_8[slice17],\n",
        "       simple_regret_stp_9[slice17],\n",
        "       simple_regret_stp_10[slice17],\n",
        "       simple_regret_stp_11[slice17],\n",
        "       simple_regret_stp_12[slice17],\n",
        "       simple_regret_stp_13[slice17],\n",
        "       simple_regret_stp_14[slice17],\n",
        "       simple_regret_stp_15[slice17],\n",
        "       simple_regret_stp_16[slice17],\n",
        "       simple_regret_stp_17[slice17],\n",
        "       simple_regret_stp_18[slice17],\n",
        "       simple_regret_stp_19[slice17],\n",
        "       simple_regret_stp_20[slice17]]\n",
        "\n",
        "approx17_results = pd.DataFrame(approx17).sort_values(by=[0], ascending=False)\n",
        "exact17_results = pd.DataFrame(exact17).sort_values(by=[0], ascending=False)\n",
        "\n",
        "### Best simple regret minimization IQR - approx:\n",
        "lower_gp17 = np.asarray(approx17_results[4:5][0])[0]\n",
        "median_gp17 = np.asarray(approx17_results[9:10][0])[0]\n",
        "upper_gp17 = np.asarray(approx17_results[14:15][0])[0]\n",
        "\n",
        "lower_stp17 = np.asarray(exact17_results[4:5][0])[0]\n",
        "median_stp17 = np.asarray(exact17_results[9:10][0])[0]\n",
        "upper_stp17 = np.asarray(exact17_results[14:15][0])[0]"
      ]
    },
    {
      "cell_type": "code",
      "execution_count": 90,
      "metadata": {
        "id": "-6VLo37PQxf8"
      },
      "outputs": [],
      "source": [
        "# Iteration8 :\n",
        "\n",
        "slice8 = 7\n",
        "\n",
        "approx8 = [simple_regret_gp_1[slice8],\n",
        "       simple_regret_gp_2[slice8],\n",
        "       simple_regret_gp_3[slice8],\n",
        "       simple_regret_gp_4[slice8],\n",
        "       simple_regret_gp_5[slice8],\n",
        "       simple_regret_gp_6[slice8],\n",
        "       simple_regret_gp_7[slice8],\n",
        "       simple_regret_gp_8[slice8],\n",
        "       simple_regret_gp_9[slice8],\n",
        "       simple_regret_gp_10[slice8],\n",
        "       simple_regret_gp_11[slice8],\n",
        "       simple_regret_gp_12[slice8],\n",
        "       simple_regret_gp_13[slice8],\n",
        "       simple_regret_gp_14[slice8],\n",
        "       simple_regret_gp_15[slice8],\n",
        "       simple_regret_gp_16[slice8],\n",
        "       simple_regret_gp_17[slice8],\n",
        "       simple_regret_gp_18[slice8],\n",
        "       simple_regret_gp_19[slice8],\n",
        "       simple_regret_gp_20[slice8]]\n",
        "\n",
        "exact8 = [simple_regret_stp_1[slice8],\n",
        "       simple_regret_stp_2[slice8],\n",
        "       simple_regret_stp_3[slice8],\n",
        "       simple_regret_stp_4[slice8],\n",
        "       simple_regret_stp_5[slice8],\n",
        "       simple_regret_stp_6[slice8],\n",
        "       simple_regret_stp_7[slice8],\n",
        "       simple_regret_stp_8[slice8],\n",
        "       simple_regret_stp_9[slice8],\n",
        "       simple_regret_stp_10[slice8],\n",
        "       simple_regret_stp_11[slice8],\n",
        "       simple_regret_stp_12[slice8],\n",
        "       simple_regret_stp_13[slice8],\n",
        "       simple_regret_stp_14[slice8],\n",
        "       simple_regret_stp_15[slice8],\n",
        "       simple_regret_stp_16[slice8],\n",
        "       simple_regret_stp_17[slice8],\n",
        "       simple_regret_stp_18[slice8],\n",
        "       simple_regret_stp_19[slice8],\n",
        "       simple_regret_stp_20[slice8]]\n",
        "\n",
        "approx8_results = pd.DataFrame(approx8).sort_values(by=[0], ascending=False)\n",
        "exact8_results = pd.DataFrame(exact8).sort_values(by=[0], ascending=False)\n",
        "\n",
        "### Best simple regret minimization IQR - approx:\n",
        "lower_gp8 = np.asarray(approx8_results[4:5][0])[0]\n",
        "median_gp8 = np.asarray(approx8_results[9:10][0])[0]\n",
        "upper_gp8 = np.asarray(approx8_results[14:15][0])[0]\n",
        "\n",
        "lower_stp8 = np.asarray(exact8_results[4:5][0])[0]\n",
        "median_stp8 = np.asarray(exact8_results[9:10][0])[0]\n",
        "upper_stp8 = np.asarray(exact8_results[14:15][0])[0]"
      ]
    },
    {
      "cell_type": "code",
      "execution_count": 91,
      "metadata": {
        "id": "2Dp-9CC2Qxf9"
      },
      "outputs": [],
      "source": [
        "# Iteration18 :\n",
        "\n",
        "slice18 = 17\n",
        "\n",
        "approx18 = [simple_regret_gp_1[slice18],\n",
        "       simple_regret_gp_2[slice18],\n",
        "       simple_regret_gp_3[slice18],\n",
        "       simple_regret_gp_4[slice18],\n",
        "       simple_regret_gp_5[slice18],\n",
        "       simple_regret_gp_6[slice18],\n",
        "       simple_regret_gp_7[slice18],\n",
        "       simple_regret_gp_8[slice18],\n",
        "       simple_regret_gp_9[slice18],\n",
        "       simple_regret_gp_10[slice18],\n",
        "       simple_regret_gp_11[slice18],\n",
        "       simple_regret_gp_12[slice18],\n",
        "       simple_regret_gp_13[slice18],\n",
        "       simple_regret_gp_14[slice18],\n",
        "       simple_regret_gp_15[slice18],\n",
        "       simple_regret_gp_16[slice18],\n",
        "       simple_regret_gp_17[slice18],\n",
        "       simple_regret_gp_18[slice18],\n",
        "       simple_regret_gp_19[slice18],\n",
        "       simple_regret_gp_20[slice18]]\n",
        "\n",
        "exact18 = [simple_regret_stp_1[slice18],\n",
        "       simple_regret_stp_2[slice18],\n",
        "       simple_regret_stp_3[slice18],\n",
        "       simple_regret_stp_4[slice18],\n",
        "       simple_regret_stp_5[slice18],\n",
        "       simple_regret_stp_6[slice18],\n",
        "       simple_regret_stp_7[slice18],\n",
        "       simple_regret_stp_8[slice18],\n",
        "       simple_regret_stp_9[slice18],\n",
        "       simple_regret_stp_10[slice18],\n",
        "       simple_regret_stp_11[slice18],\n",
        "       simple_regret_stp_12[slice18],\n",
        "       simple_regret_stp_13[slice18],\n",
        "       simple_regret_stp_14[slice18],\n",
        "       simple_regret_stp_15[slice18],\n",
        "       simple_regret_stp_16[slice18],\n",
        "       simple_regret_stp_17[slice18],\n",
        "       simple_regret_stp_18[slice18],\n",
        "       simple_regret_stp_19[slice18],\n",
        "       simple_regret_stp_20[slice18]]\n",
        "\n",
        "approx18_results = pd.DataFrame(approx18).sort_values(by=[0], ascending=False)\n",
        "exact18_results = pd.DataFrame(exact18).sort_values(by=[0], ascending=False)\n",
        "\n",
        "### Best simple regret minimization IQR - approx:\n",
        "lower_gp18 = np.asarray(approx18_results[4:5][0])[0]\n",
        "median_gp18 = np.asarray(approx18_results[9:10][0])[0]\n",
        "upper_gp18 = np.asarray(approx18_results[14:15][0])[0]\n",
        "\n",
        "lower_stp18 = np.asarray(exact18_results[4:5][0])[0]\n",
        "median_stp18 = np.asarray(exact18_results[9:10][0])[0]\n",
        "upper_stp18 = np.asarray(exact18_results[14:15][0])[0]"
      ]
    },
    {
      "cell_type": "code",
      "execution_count": 92,
      "metadata": {
        "id": "SqiaOpB7Qxf9"
      },
      "outputs": [],
      "source": [
        "# Iteration9 :\n",
        "\n",
        "slice9 = 8\n",
        "\n",
        "approx9 = [simple_regret_gp_1[slice9],\n",
        "       simple_regret_gp_2[slice9],\n",
        "       simple_regret_gp_3[slice9],\n",
        "       simple_regret_gp_4[slice9],\n",
        "       simple_regret_gp_5[slice9],\n",
        "       simple_regret_gp_6[slice9],\n",
        "       simple_regret_gp_7[slice9],\n",
        "       simple_regret_gp_8[slice9],\n",
        "       simple_regret_gp_9[slice9],\n",
        "       simple_regret_gp_10[slice9],\n",
        "       simple_regret_gp_11[slice9],\n",
        "       simple_regret_gp_12[slice9],\n",
        "       simple_regret_gp_13[slice9],\n",
        "       simple_regret_gp_14[slice9],\n",
        "       simple_regret_gp_15[slice9],\n",
        "       simple_regret_gp_16[slice9],\n",
        "       simple_regret_gp_17[slice9],\n",
        "       simple_regret_gp_18[slice9],\n",
        "       simple_regret_gp_19[slice9],\n",
        "       simple_regret_gp_20[slice9]]\n",
        "\n",
        "exact9 = [simple_regret_stp_1[slice9],\n",
        "       simple_regret_stp_2[slice9],\n",
        "       simple_regret_stp_3[slice9],\n",
        "       simple_regret_stp_4[slice9],\n",
        "       simple_regret_stp_5[slice9],\n",
        "       simple_regret_stp_6[slice9],\n",
        "       simple_regret_stp_7[slice9],\n",
        "       simple_regret_stp_8[slice9],\n",
        "       simple_regret_stp_9[slice9],\n",
        "       simple_regret_stp_10[slice9],\n",
        "       simple_regret_stp_11[slice9],\n",
        "       simple_regret_stp_12[slice9],\n",
        "       simple_regret_stp_13[slice9],\n",
        "       simple_regret_stp_14[slice9],\n",
        "       simple_regret_stp_15[slice9],\n",
        "       simple_regret_stp_16[slice9],\n",
        "       simple_regret_stp_17[slice9],\n",
        "       simple_regret_stp_18[slice9],\n",
        "       simple_regret_stp_19[slice9],\n",
        "       simple_regret_stp_20[slice9]]\n",
        "\n",
        "approx9_results = pd.DataFrame(approx9).sort_values(by=[0], ascending=False)\n",
        "exact9_results = pd.DataFrame(exact9).sort_values(by=[0], ascending=False)\n",
        "\n",
        "### Best simple regret minimization IQR - approx:\n",
        "lower_gp9 = np.asarray(approx9_results[4:5][0])[0]\n",
        "median_gp9 = np.asarray(approx9_results[9:10][0])[0]\n",
        "upper_gp9 = np.asarray(approx9_results[14:15][0])[0]\n",
        "\n",
        "lower_stp9 = np.asarray(exact9_results[4:5][0])[0]\n",
        "median_stp9 = np.asarray(exact9_results[9:10][0])[0]\n",
        "upper_stp9 = np.asarray(exact9_results[14:15][0])[0]"
      ]
    },
    {
      "cell_type": "code",
      "execution_count": 93,
      "metadata": {
        "id": "OQkCCOsPQxf9"
      },
      "outputs": [],
      "source": [
        "# Iteration19 :\n",
        "\n",
        "slice19 = 18\n",
        "\n",
        "approx19 = [simple_regret_gp_1[slice19],\n",
        "       simple_regret_gp_2[slice19],\n",
        "       simple_regret_gp_3[slice19],\n",
        "       simple_regret_gp_4[slice19],\n",
        "       simple_regret_gp_5[slice19],\n",
        "       simple_regret_gp_6[slice19],\n",
        "       simple_regret_gp_7[slice19],\n",
        "       simple_regret_gp_8[slice19],\n",
        "       simple_regret_gp_9[slice19],\n",
        "       simple_regret_gp_10[slice19],\n",
        "       simple_regret_gp_11[slice19],\n",
        "       simple_regret_gp_12[slice19],\n",
        "       simple_regret_gp_13[slice19],\n",
        "       simple_regret_gp_14[slice19],\n",
        "       simple_regret_gp_15[slice19],\n",
        "       simple_regret_gp_16[slice19],\n",
        "       simple_regret_gp_17[slice19],\n",
        "       simple_regret_gp_18[slice19],\n",
        "       simple_regret_gp_19[slice19],\n",
        "       simple_regret_gp_20[slice19]]\n",
        "\n",
        "exact19 = [simple_regret_stp_1[slice19],\n",
        "       simple_regret_stp_2[slice19],\n",
        "       simple_regret_stp_3[slice19],\n",
        "       simple_regret_stp_4[slice19],\n",
        "       simple_regret_stp_5[slice19],\n",
        "       simple_regret_stp_6[slice19],\n",
        "       simple_regret_stp_7[slice19],\n",
        "       simple_regret_stp_8[slice19],\n",
        "       simple_regret_stp_9[slice19],\n",
        "       simple_regret_stp_10[slice19],\n",
        "       simple_regret_stp_11[slice19],\n",
        "       simple_regret_stp_12[slice19],\n",
        "       simple_regret_stp_13[slice19],\n",
        "       simple_regret_stp_14[slice19],\n",
        "       simple_regret_stp_15[slice19],\n",
        "       simple_regret_stp_16[slice19],\n",
        "       simple_regret_stp_17[slice19],\n",
        "       simple_regret_stp_18[slice19],\n",
        "       simple_regret_stp_19[slice19],\n",
        "       simple_regret_stp_20[slice19]]\n",
        "\n",
        "approx19_results = pd.DataFrame(approx19).sort_values(by=[0], ascending=False)\n",
        "exact19_results = pd.DataFrame(exact19).sort_values(by=[0], ascending=False)\n",
        "\n",
        "### Best simple regret minimization IQR - approx:\n",
        "lower_gp19 = np.asarray(approx19_results[4:5][0])[0]\n",
        "median_gp19 = np.asarray(approx19_results[9:10][0])[0]\n",
        "upper_gp19 = np.asarray(approx19_results[14:15][0])[0]\n",
        "\n",
        "lower_stp19 = np.asarray(exact19_results[4:5][0])[0]\n",
        "median_stp19 = np.asarray(exact19_results[9:10][0])[0]\n",
        "upper_stp19 = np.asarray(exact19_results[14:15][0])[0]"
      ]
    },
    {
      "cell_type": "code",
      "execution_count": 94,
      "metadata": {
        "id": "h4vtWahcQxf-"
      },
      "outputs": [],
      "source": [
        "# Iteration10 :\n",
        "\n",
        "slice10 = 9\n",
        "\n",
        "approx10 = [simple_regret_gp_1[slice10],\n",
        "       simple_regret_gp_2[slice10],\n",
        "       simple_regret_gp_3[slice10],\n",
        "       simple_regret_gp_4[slice10],\n",
        "       simple_regret_gp_5[slice10],\n",
        "       simple_regret_gp_6[slice10],\n",
        "       simple_regret_gp_7[slice10],\n",
        "       simple_regret_gp_8[slice10],\n",
        "       simple_regret_gp_9[slice10],\n",
        "       simple_regret_gp_10[slice10],\n",
        "       simple_regret_gp_11[slice10],\n",
        "       simple_regret_gp_12[slice10],\n",
        "       simple_regret_gp_13[slice10],\n",
        "       simple_regret_gp_14[slice10],\n",
        "       simple_regret_gp_15[slice10],\n",
        "       simple_regret_gp_16[slice10],\n",
        "       simple_regret_gp_17[slice10],\n",
        "       simple_regret_gp_18[slice10],\n",
        "       simple_regret_gp_19[slice10],\n",
        "       simple_regret_gp_20[slice10]]\n",
        "\n",
        "exact10 = [simple_regret_stp_1[slice10],\n",
        "       simple_regret_stp_2[slice10],\n",
        "       simple_regret_stp_3[slice10],\n",
        "       simple_regret_stp_4[slice10],\n",
        "       simple_regret_stp_5[slice10],\n",
        "       simple_regret_stp_6[slice10],\n",
        "       simple_regret_stp_7[slice10],\n",
        "       simple_regret_stp_8[slice10],\n",
        "       simple_regret_stp_9[slice10],\n",
        "       simple_regret_stp_10[slice10],\n",
        "       simple_regret_stp_11[slice10],\n",
        "       simple_regret_stp_12[slice10],\n",
        "       simple_regret_stp_13[slice10],\n",
        "       simple_regret_stp_14[slice10],\n",
        "       simple_regret_stp_15[slice10],\n",
        "       simple_regret_stp_16[slice10],\n",
        "       simple_regret_stp_17[slice10],\n",
        "       simple_regret_stp_18[slice10],\n",
        "       simple_regret_stp_19[slice10],\n",
        "       simple_regret_stp_20[slice10]]\n",
        "\n",
        "approx10_results = pd.DataFrame(approx10).sort_values(by=[0], ascending=False)\n",
        "exact10_results = pd.DataFrame(exact10).sort_values(by=[0], ascending=False)\n",
        "\n",
        "### Best simple regret minimization IQR - approx:\n",
        "lower_gp10 = np.asarray(approx10_results[4:5][0])[0]\n",
        "median_gp10 = np.asarray(approx10_results[9:10][0])[0]\n",
        "upper_gp10 = np.asarray(approx10_results[14:15][0])[0]\n",
        "\n",
        "lower_stp10 = np.asarray(exact10_results[4:5][0])[0]\n",
        "median_stp10 = np.asarray(exact10_results[9:10][0])[0]\n",
        "upper_stp10 = np.asarray(exact10_results[14:15][0])[0]"
      ]
    },
    {
      "cell_type": "code",
      "execution_count": 95,
      "metadata": {
        "id": "Rsf240pWQxf-"
      },
      "outputs": [],
      "source": [
        "# Iteration20 :\n",
        "\n",
        "slice20 = 19\n",
        "\n",
        "approx20 = [simple_regret_gp_1[slice20],\n",
        "       simple_regret_gp_2[slice20],\n",
        "       simple_regret_gp_3[slice20],\n",
        "       simple_regret_gp_4[slice20],\n",
        "       simple_regret_gp_5[slice20],\n",
        "       simple_regret_gp_6[slice20],\n",
        "       simple_regret_gp_7[slice20],\n",
        "       simple_regret_gp_8[slice20],\n",
        "       simple_regret_gp_9[slice20],\n",
        "       simple_regret_gp_10[slice20],\n",
        "       simple_regret_gp_11[slice20],\n",
        "       simple_regret_gp_12[slice20],\n",
        "       simple_regret_gp_13[slice20],\n",
        "       simple_regret_gp_14[slice20],\n",
        "       simple_regret_gp_15[slice20],\n",
        "       simple_regret_gp_16[slice20],\n",
        "       simple_regret_gp_17[slice20],\n",
        "       simple_regret_gp_18[slice20],\n",
        "       simple_regret_gp_19[slice20],\n",
        "       simple_regret_gp_20[slice20]]\n",
        "\n",
        "exact20 = [simple_regret_stp_1[slice20],\n",
        "       simple_regret_stp_2[slice20],\n",
        "       simple_regret_stp_3[slice20],\n",
        "       simple_regret_stp_4[slice20],\n",
        "       simple_regret_stp_5[slice20],\n",
        "       simple_regret_stp_6[slice20],\n",
        "       simple_regret_stp_7[slice20],\n",
        "       simple_regret_stp_8[slice20],\n",
        "       simple_regret_stp_9[slice20],\n",
        "       simple_regret_stp_10[slice20],\n",
        "       simple_regret_stp_11[slice20],\n",
        "       simple_regret_stp_12[slice20],\n",
        "       simple_regret_stp_13[slice20],\n",
        "       simple_regret_stp_14[slice20],\n",
        "       simple_regret_stp_15[slice20],\n",
        "       simple_regret_stp_16[slice20],\n",
        "       simple_regret_stp_17[slice20],\n",
        "       simple_regret_stp_18[slice20],\n",
        "       simple_regret_stp_19[slice20],\n",
        "       simple_regret_stp_20[slice20]]\n",
        "\n",
        "approx20_results = pd.DataFrame(approx20).sort_values(by=[0], ascending=False)\n",
        "exact20_results = pd.DataFrame(exact20).sort_values(by=[0], ascending=False)\n",
        "\n",
        "### Best simple regret minimization IQR - approx:\n",
        "lower_gp20 = np.asarray(approx20_results[4:5][0])[0]\n",
        "median_gp20 = np.asarray(approx20_results[9:10][0])[0]\n",
        "upper_gp20 = np.asarray(approx20_results[14:15][0])[0]\n",
        "\n",
        "lower_stp20 = np.asarray(exact20_results[4:5][0])[0]\n",
        "median_stp20 = np.asarray(exact20_results[9:10][0])[0]\n",
        "upper_stp20 = np.asarray(exact20_results[14:15][0])[0]"
      ]
    },
    {
      "cell_type": "code",
      "execution_count": 96,
      "metadata": {
        "id": "gn36RejbQxf_"
      },
      "outputs": [],
      "source": [
        "### Summarize arrays: 'Loser'\n",
        "\n",
        "lower_gp = [lower_gp1,\n",
        "            lower_gp2,\n",
        "            lower_gp3,\n",
        "            lower_gp4,\n",
        "            lower_gp5,\n",
        "            lower_gp6,\n",
        "            lower_gp7,\n",
        "            lower_gp8,\n",
        "            lower_gp9,\n",
        "            lower_gp10,\n",
        "            lower_gp11,\n",
        "            lower_gp12,\n",
        "            lower_gp13,\n",
        "            lower_gp14,\n",
        "            lower_gp15,\n",
        "            lower_gp16,\n",
        "            lower_gp17,\n",
        "            lower_gp18,\n",
        "            lower_gp19,\n",
        "            lower_gp20,\n",
        "            lower_gp21]\n",
        "\n",
        "median_gp = [median_gp1,\n",
        "            median_gp2,\n",
        "            median_gp3,\n",
        "            median_gp4,\n",
        "            median_gp5,\n",
        "            median_gp6,\n",
        "            median_gp7,\n",
        "            median_gp8,\n",
        "            median_gp9,\n",
        "            median_gp10,\n",
        "            median_gp11,\n",
        "            median_gp12,\n",
        "            median_gp13,\n",
        "            median_gp14,\n",
        "            median_gp15,\n",
        "            median_gp16,\n",
        "            median_gp17,\n",
        "            median_gp18,\n",
        "            median_gp19,\n",
        "            median_gp20,\n",
        "            median_gp21]\n",
        "\n",
        "upper_gp = [upper_gp1,\n",
        "            upper_gp2,\n",
        "            upper_gp3,\n",
        "            upper_gp4,\n",
        "            upper_gp5,\n",
        "            upper_gp6,\n",
        "            upper_gp7,\n",
        "            upper_gp8,\n",
        "            upper_gp9,\n",
        "            upper_gp10,\n",
        "            upper_gp11,\n",
        "            upper_gp12,\n",
        "            upper_gp13,\n",
        "            upper_gp14,\n",
        "            upper_gp15,\n",
        "            upper_gp16,\n",
        "            upper_gp17,\n",
        "            upper_gp18,\n",
        "            upper_gp19,\n",
        "            upper_gp20,\n",
        "            upper_gp21]"
      ]
    },
    {
      "cell_type": "code",
      "execution_count": 97,
      "metadata": {
        "id": "wxtGTOYfQxf_"
      },
      "outputs": [],
      "source": [
        "### Summarize arrays: 'exact'\n",
        "\n",
        "lower_stp = [lower_stp1,\n",
        "            lower_stp2,\n",
        "            lower_stp3,\n",
        "            lower_stp4,\n",
        "            lower_stp5,\n",
        "            lower_stp6,\n",
        "            lower_stp7,\n",
        "            lower_stp8,\n",
        "            lower_stp9,\n",
        "            lower_stp10,\n",
        "            lower_stp11,\n",
        "            lower_stp12,\n",
        "            lower_stp13,\n",
        "            lower_stp14,\n",
        "            lower_stp15,\n",
        "            lower_stp16,\n",
        "            lower_stp17,\n",
        "            lower_stp18,\n",
        "            lower_stp19,\n",
        "            lower_stp20,\n",
        "            lower_stp21]\n",
        "\n",
        "median_stp = [median_stp1,\n",
        "            median_stp2,\n",
        "            median_stp3,\n",
        "            median_stp4,\n",
        "            median_stp5,\n",
        "            median_stp6,\n",
        "            median_stp7,\n",
        "            median_stp8,\n",
        "            median_stp9,\n",
        "            median_stp10,\n",
        "            median_stp11,\n",
        "            median_stp12,\n",
        "            median_stp13,\n",
        "            median_stp14,\n",
        "            median_stp15,\n",
        "            median_stp16,\n",
        "            median_stp17,\n",
        "            median_stp18,\n",
        "            median_stp19,\n",
        "            median_stp20,\n",
        "            median_stp21]\n",
        "\n",
        "upper_stp = [upper_stp1,\n",
        "            upper_stp2,\n",
        "            upper_stp3,\n",
        "            upper_stp4,\n",
        "            upper_stp5,\n",
        "            upper_stp6,\n",
        "            upper_stp7,\n",
        "            upper_stp8,\n",
        "            upper_stp9,\n",
        "            upper_stp10,\n",
        "            upper_stp11,\n",
        "            upper_stp12,\n",
        "            upper_stp13,\n",
        "            upper_stp14,\n",
        "            upper_stp15,\n",
        "            upper_stp16,\n",
        "            upper_stp17,\n",
        "            upper_stp18,\n",
        "            upper_stp19,\n",
        "            upper_stp20,\n",
        "            upper_stp21]"
      ]
    },
    {
      "cell_type": "code",
      "execution_count": 98,
      "metadata": {
        "id": "2MONq-BXQxgA",
        "colab": {
          "base_uri": "https://localhost:8080/",
          "height": 299
        },
        "outputId": "05a932e1-8940-4b3e-ee3c-a9435144c0e2"
      },
      "outputs": [
        {
          "output_type": "display_data",
          "data": {
            "text/plain": [
              "<Figure size 432x288 with 1 Axes>"
            ],
            "image/png": "[encoded data removed]"
          },
          "metadata": {
            "needs_background": "light"
          }
        }
      ],
      "source": [
        "### Visualise!\n",
        "\n",
        "title = func\n",
        "plt.figure()\n",
        "\n",
        "plt.plot(median_gp, color = 'Red', ls='-')\n",
        "plt.plot(median_stp, color = 'Red', ls='--')\n",
        "\n",
        "xstar = np.arange(0, iters+1, step=1)\n",
        "plt.fill_between(xstar, lower_gp, upper_gp, facecolor = 'Red', alpha=0.2, label='GP EI Optimisation: Exact GP dEI gradients')\n",
        "plt.fill_between(xstar, lower_stp, upper_stp, facecolor = 'Red', alpha=0.4, label='STP EI Optimisation: Exact STP dEI gradients ' r'($\\nu$' ' = {})'.format(df))\n",
        "\n",
        "plt.title(title, weight = 'bold')\n",
        "plt.xlabel('(Post-initialisation) iteration $\\it{k}$', weight = 'bold')\n",
        "plt.ylabel('log(Regret)', weight = 'bold') \n",
        "plt.legend(loc=0) # add plot legend\n",
        "\n",
        "### Make the x-ticks integers, not floats:\n",
        "count = len(xstar)\n",
        "plt.xticks(np.arange(count), np.arange(0, count))\n",
        "plt.show() #visualise!\n"
      ]
    },
    {
      "cell_type": "code",
      "execution_count": 99,
      "metadata": {
        "id": "l5dkR2Id2oiu",
        "colab": {
          "base_uri": "https://localhost:8080/"
        },
        "outputId": "8d03f7fe-3c27-4f7d-f322-66f592c96fa8"
      },
      "outputs": [
        {
          "output_type": "execute_result",
          "data": {
            "text/plain": [
              "(1016.8989021778107, 1670.0499761104584)"
            ]
          },
          "metadata": {},
          "execution_count": 99
        }
      ],
      "source": [
        "time_gp, time_stp\n"
      ]
    },
    {
      "cell_type": "code",
      "source": [
        "### acqFunc attribute x, stddev: run number = 1\n",
        "\n",
        "acqFuncgp_gp_1 = acqFuncExact(gp_1.history)\n",
        "acqFuncstp_stp_1 = acqFuncExact(stp_1.history)\n",
        "\n",
        "e1 = np.mean(acqFuncstp_stp_1)\n",
        "a1 = np.mean(acqFuncgp_gp_1)\n",
        "\n",
        "e1, a1\n"
      ],
      "metadata": {
        "colab": {
          "base_uri": "https://localhost:8080/"
        },
        "id": "uwxv4dmfGsLr",
        "outputId": "0e8790cc-6a67-4359-e7f1-ddca3ca7bd72"
      },
      "execution_count": 100,
      "outputs": [
        {
          "output_type": "execute_result",
          "data": {
            "text/plain": [
              "(4.953502623230662, 5.063243045234142)"
            ]
          },
          "metadata": {},
          "execution_count": 100
        }
      ]
    },
    {
      "cell_type": "code",
      "source": [
        "### acqFunc attribute x, stddev: run number = 2\n",
        "\n",
        "acqFuncgp_gp_2 = acqFuncExact(gp_2.history)\n",
        "acqFuncstp_stp_2 = acqFuncExact(stp_2.history)\n",
        "\n",
        "e2 = np.mean(acqFuncstp_stp_2)\n",
        "a2 = np.mean(acqFuncgp_gp_2)\n",
        "\n",
        "e2, a2\n"
      ],
      "metadata": {
        "colab": {
          "base_uri": "https://localhost:8080/"
        },
        "id": "0YSV00_pGsXe",
        "outputId": "a7c798ca-c1a3-40b3-c5b4-7034a062e56d"
      },
      "execution_count": 101,
      "outputs": [
        {
          "output_type": "execute_result",
          "data": {
            "text/plain": [
              "(5.210784497472384, 5.092672662287489)"
            ]
          },
          "metadata": {},
          "execution_count": 101
        }
      ]
    },
    {
      "cell_type": "code",
      "source": [
        "### acqFunc attribute x, stddev: run number = 3\n",
        "\n",
        "acqFuncgp_gp_3 = acqFuncExact(gp_3.history)\n",
        "acqFuncstp_stp_3 = acqFuncExact(stp_3.history)\n",
        "\n",
        "e3 = np.mean(acqFuncstp_stp_3)\n",
        "a3 = np.mean(acqFuncgp_gp_3)\n",
        "\n",
        "e3, a3\n"
      ],
      "metadata": {
        "colab": {
          "base_uri": "https://localhost:8080/"
        },
        "id": "HHVmsd2UGsjT",
        "outputId": "ca8408b3-b625-4691-f106-682086c75985"
      },
      "execution_count": 102,
      "outputs": [
        {
          "output_type": "execute_result",
          "data": {
            "text/plain": [
              "(5.140997468652843, 4.943303098271239)"
            ]
          },
          "metadata": {},
          "execution_count": 102
        }
      ]
    },
    {
      "cell_type": "code",
      "source": [
        "### acqFunc attribute x, stddev: run number = 4\n",
        "\n",
        "acqFuncgp_gp_4 = acqFuncExact(gp_4.history)\n",
        "acqFuncstp_stp_4 = acqFuncExact(stp_4.history)\n",
        "\n",
        "e4 = np.mean(acqFuncstp_stp_4)\n",
        "a4 = np.mean(acqFuncgp_gp_4)\n",
        "\n",
        "e4, a4\n"
      ],
      "metadata": {
        "colab": {
          "base_uri": "https://localhost:8080/"
        },
        "id": "r7O19S2eGsu7",
        "outputId": "cd9a8fc4-db81-4b42-ef6f-006b0326ba80"
      },
      "execution_count": 103,
      "outputs": [
        {
          "output_type": "execute_result",
          "data": {
            "text/plain": [
              "(4.9285159870729185, 4.971498640902427)"
            ]
          },
          "metadata": {},
          "execution_count": 103
        }
      ]
    },
    {
      "cell_type": "code",
      "source": [
        "### acqFunc attribute x, stddev: run number = 5\n",
        "\n",
        "acqFuncgp_gp_5 = acqFuncExact(gp_5.history)\n",
        "acqFuncstp_stp_5 = acqFuncExact(stp_5.history)\n",
        "\n",
        "e5 = np.mean(acqFuncstp_stp_5)\n",
        "a5 = np.mean(acqFuncgp_gp_5)\n",
        "\n",
        "e5, a5\n"
      ],
      "metadata": {
        "colab": {
          "base_uri": "https://localhost:8080/"
        },
        "id": "sdb9o6NuGs5m",
        "outputId": "1eb97035-9faf-4061-b780-5a46c1ec2f7f"
      },
      "execution_count": 104,
      "outputs": [
        {
          "output_type": "execute_result",
          "data": {
            "text/plain": [
              "(5.046524002811145, 4.955660928153588)"
            ]
          },
          "metadata": {},
          "execution_count": 104
        }
      ]
    },
    {
      "cell_type": "code",
      "source": [
        "### acqFunc attribute x, stddev: run number = 6\n",
        "\n",
        "acqFuncgp_gp_6 = acqFuncExact(gp_6.history)\n",
        "acqFuncstp_stp_6 = acqFuncExact(stp_6.history)\n",
        "\n",
        "e6 = np.mean(acqFuncstp_stp_6)\n",
        "a6 = np.mean(acqFuncgp_gp_6)\n",
        "\n",
        "e6, a6\n"
      ],
      "metadata": {
        "colab": {
          "base_uri": "https://localhost:8080/"
        },
        "id": "COQl7LZ8GtE0",
        "outputId": "64635197-1de5-4486-9399-f5628418874e"
      },
      "execution_count": 105,
      "outputs": [
        {
          "output_type": "execute_result",
          "data": {
            "text/plain": [
              "(5.461226914385158, 5.339672578878728)"
            ]
          },
          "metadata": {},
          "execution_count": 105
        }
      ]
    },
    {
      "cell_type": "code",
      "source": [
        "### acqFunc attribute x, stddev: run number = 7\n",
        "\n",
        "acqFuncgp_gp_7 = acqFuncExact(gp_7.history)\n",
        "acqFuncstp_stp_7 = acqFuncExact(stp_7.history)\n",
        "\n",
        "e7 = np.mean(acqFuncstp_stp_7)\n",
        "a7 = np.mean(acqFuncgp_gp_7)\n",
        "\n",
        "e7, a7\n"
      ],
      "metadata": {
        "colab": {
          "base_uri": "https://localhost:8080/"
        },
        "id": "2gy9EtTzGtP7",
        "outputId": "96669606-8ddf-4525-ed67-cd065721c474"
      },
      "execution_count": 106,
      "outputs": [
        {
          "output_type": "execute_result",
          "data": {
            "text/plain": [
              "(4.957937166496782, 4.9646214954845025)"
            ]
          },
          "metadata": {},
          "execution_count": 106
        }
      ]
    },
    {
      "cell_type": "code",
      "source": [
        "### acqFunc attribute x, stddev: run number = 8\n",
        "\n",
        "acqFuncgp_gp_8 = acqFuncExact(gp_8.history)\n",
        "acqFuncstp_stp_8 = acqFuncExact(stp_8.history)\n",
        "\n",
        "e8 = np.mean(acqFuncstp_stp_8)\n",
        "a8 = np.mean(acqFuncgp_gp_8)\n",
        "\n",
        "e8, a8\n"
      ],
      "metadata": {
        "colab": {
          "base_uri": "https://localhost:8080/"
        },
        "id": "S7mn0qoMGtbM",
        "outputId": "d882fdcb-8bdb-4ad8-9e28-5b07ce9ad55e"
      },
      "execution_count": 107,
      "outputs": [
        {
          "output_type": "execute_result",
          "data": {
            "text/plain": [
              "(5.063741190874945, 4.967929153632647)"
            ]
          },
          "metadata": {},
          "execution_count": 107
        }
      ]
    },
    {
      "cell_type": "code",
      "source": [
        "### acqFunc attribute x, stddev: run number = 9\n",
        "\n",
        "acqFuncgp_gp_9 = acqFuncExact(gp_9.history)\n",
        "acqFuncstp_stp_9 = acqFuncExact(stp_9.history)\n",
        "\n",
        "e9 = np.mean(acqFuncstp_stp_9)\n",
        "a9 = np.mean(acqFuncgp_gp_9)\n",
        "\n",
        "e9, a9\n"
      ],
      "metadata": {
        "colab": {
          "base_uri": "https://localhost:8080/"
        },
        "id": "BhljmkNxGtms",
        "outputId": "7687d0f1-0339-48f7-b8ee-5bf93bea9639"
      },
      "execution_count": 108,
      "outputs": [
        {
          "output_type": "execute_result",
          "data": {
            "text/plain": [
              "(5.153419408863733, 5.061126305105427)"
            ]
          },
          "metadata": {},
          "execution_count": 108
        }
      ]
    },
    {
      "cell_type": "code",
      "source": [
        "### acqFunc attribute x, stddev: run number = 10\n",
        "\n",
        "acqFuncgp_gp_10 = acqFuncExact(gp_10.history)\n",
        "acqFuncstp_stp_10 = acqFuncExact(stp_10.history)\n",
        "\n",
        "e10 = np.mean(acqFuncstp_stp_10)\n",
        "a10 = np.mean(acqFuncgp_gp_10)\n",
        "\n",
        "e10, a10\n"
      ],
      "metadata": {
        "colab": {
          "base_uri": "https://localhost:8080/"
        },
        "id": "W5GZo6k3Gtx8",
        "outputId": "daa89404-2ec2-4a9a-888c-3a925e8f2324"
      },
      "execution_count": 109,
      "outputs": [
        {
          "output_type": "execute_result",
          "data": {
            "text/plain": [
              "(5.009386864325372, 5.002673807092751)"
            ]
          },
          "metadata": {},
          "execution_count": 109
        }
      ]
    },
    {
      "cell_type": "code",
      "source": [
        "### acqFunc attribute x, stddev: run number = 11\n",
        "\n",
        "acqFuncgp_gp_11 = acqFuncExact(gp_11.history)\n",
        "acqFuncstp_stp_11 = acqFuncExact(stp_11.history)\n",
        "\n",
        "e11 = np.mean(acqFuncstp_stp_11)\n",
        "a11 = np.mean(acqFuncgp_gp_11)\n",
        "\n",
        "e11, a11\n"
      ],
      "metadata": {
        "colab": {
          "base_uri": "https://localhost:8080/"
        },
        "id": "isKNhDk5Gt9D",
        "outputId": "7d7f6488-728b-48ef-9601-2faa8d09c69d"
      },
      "execution_count": 110,
      "outputs": [
        {
          "output_type": "execute_result",
          "data": {
            "text/plain": [
              "(5.273519033544053, 5.097463016116263)"
            ]
          },
          "metadata": {},
          "execution_count": 110
        }
      ]
    },
    {
      "cell_type": "code",
      "source": [
        "### acqFunc attribute x, stddev: run number = 12\n",
        "\n",
        "acqFuncgp_gp_12 = acqFuncExact(gp_12.history)\n",
        "acqFuncstp_stp_12 = acqFuncExact(stp_12.history)\n",
        "\n",
        "e12 = np.mean(acqFuncstp_stp_12)\n",
        "a12 = np.mean(acqFuncgp_gp_12)\n",
        "\n",
        "e12, a12\n"
      ],
      "metadata": {
        "colab": {
          "base_uri": "https://localhost:8080/"
        },
        "id": "8ts-wrSuGuIm",
        "outputId": "7a7f068b-bafc-4332-dfed-f7e5e2bda8fc"
      },
      "execution_count": 111,
      "outputs": [
        {
          "output_type": "execute_result",
          "data": {
            "text/plain": [
              "(4.9087466485937075, 4.9480405258260065)"
            ]
          },
          "metadata": {},
          "execution_count": 111
        }
      ]
    },
    {
      "cell_type": "code",
      "source": [
        "### acqFunc attribute x, stddev: run number = 13\n",
        "\n",
        "acqFuncgp_gp_13 = acqFuncExact(gp_13.history)\n",
        "acqFuncstp_stp_13 = acqFuncExact(stp_13.history)\n",
        "\n",
        "e13 = np.mean(acqFuncstp_stp_13)\n",
        "a13 = np.mean(acqFuncgp_gp_13)\n",
        "\n",
        "e13, a13\n"
      ],
      "metadata": {
        "colab": {
          "base_uri": "https://localhost:8080/"
        },
        "id": "n0drhEe3GuUL",
        "outputId": "80eace5f-42a2-4f39-86dd-b9b4b9016860"
      },
      "execution_count": 112,
      "outputs": [
        {
          "output_type": "execute_result",
          "data": {
            "text/plain": [
              "(5.27190855389293, 5.225176040068143)"
            ]
          },
          "metadata": {},
          "execution_count": 112
        }
      ]
    },
    {
      "cell_type": "code",
      "source": [
        "### acqFunc attribute x, stddev: run number = 14\n",
        "\n",
        "acqFuncgp_gp_14 = acqFuncExact(gp_14.history)\n",
        "acqFuncstp_stp_14 = acqFuncExact(stp_14.history)\n",
        "\n",
        "e14 = np.mean(acqFuncstp_stp_14)\n",
        "a14 = np.mean(acqFuncgp_gp_14)\n",
        "\n",
        "e14, a14\n"
      ],
      "metadata": {
        "colab": {
          "base_uri": "https://localhost:8080/"
        },
        "id": "R0W3MZaVGues",
        "outputId": "08b00a3c-386a-4aca-b3a7-4d346a24802e"
      },
      "execution_count": 113,
      "outputs": [
        {
          "output_type": "execute_result",
          "data": {
            "text/plain": [
              "(5.004879013478975, 4.919542278053469)"
            ]
          },
          "metadata": {},
          "execution_count": 113
        }
      ]
    },
    {
      "cell_type": "code",
      "source": [
        "### acqFunc attribute x, stddev: run number = 15\n",
        "\n",
        "acqFuncgp_gp_15 = acqFuncExact(gp_15.history)\n",
        "acqFuncstp_stp_15 = acqFuncExact(stp_15.history)\n",
        "\n",
        "e15 = np.mean(acqFuncstp_stp_15)\n",
        "a15 = np.mean(acqFuncgp_gp_15)\n",
        "\n",
        "e15, a15\n"
      ],
      "metadata": {
        "colab": {
          "base_uri": "https://localhost:8080/"
        },
        "id": "DoXdDFHoGup-",
        "outputId": "a243c7f7-1f37-4e24-8c88-84ad11d16bf4"
      },
      "execution_count": 114,
      "outputs": [
        {
          "output_type": "execute_result",
          "data": {
            "text/plain": [
              "(5.005109892785251, 5.115245061032115)"
            ]
          },
          "metadata": {},
          "execution_count": 114
        }
      ]
    },
    {
      "cell_type": "code",
      "source": [
        "### acqFunc attribute x, stddev: run number = 16\n",
        "\n",
        "acqFuncgp_gp_16 = acqFuncExact(gp_16.history)\n",
        "acqFuncstp_stp_16 = acqFuncExact(stp_16.history)\n",
        "\n",
        "e16 = np.mean(acqFuncstp_stp_16)\n",
        "a16 = np.mean(acqFuncgp_gp_16)\n",
        "\n",
        "e16, a16\n"
      ],
      "metadata": {
        "colab": {
          "base_uri": "https://localhost:8080/"
        },
        "id": "K_wAeqSoGu2j",
        "outputId": "d244a31a-1103-4374-8f1c-f591c7c44c24"
      },
      "execution_count": 115,
      "outputs": [
        {
          "output_type": "execute_result",
          "data": {
            "text/plain": [
              "(4.889687501578637, 5.050686051679911)"
            ]
          },
          "metadata": {},
          "execution_count": 115
        }
      ]
    },
    {
      "cell_type": "code",
      "source": [
        "### acqFunc attribute x, stddev: run number = 17\n",
        "\n",
        "acqFuncgp_gp_17 = acqFuncExact(gp_17.history)\n",
        "acqFuncstp_stp_17 = acqFuncExact(stp_17.history)\n",
        "\n",
        "e17 = np.mean(acqFuncstp_stp_17)\n",
        "a17 = np.mean(acqFuncgp_gp_17)\n",
        "\n",
        "e17, a17\n"
      ],
      "metadata": {
        "colab": {
          "base_uri": "https://localhost:8080/"
        },
        "id": "n6zy78fjGvBT",
        "outputId": "46d233f4-382a-4dd1-9949-a19c47d64565"
      },
      "execution_count": 116,
      "outputs": [
        {
          "output_type": "execute_result",
          "data": {
            "text/plain": [
              "(5.104349644146613, 5.128931795230954)"
            ]
          },
          "metadata": {},
          "execution_count": 116
        }
      ]
    },
    {
      "cell_type": "code",
      "source": [
        "### acqFunc attribute x, stddev: run number = 18\n",
        "\n",
        "acqFuncgp_gp_18 = acqFuncExact(gp_18.history)\n",
        "acqFuncstp_stp_18 = acqFuncExact(stp_18.history)\n",
        "\n",
        "e18 = np.mean(acqFuncstp_stp_18)\n",
        "a18 = np.mean(acqFuncgp_gp_18)\n",
        "\n",
        "e18, a18\n"
      ],
      "metadata": {
        "colab": {
          "base_uri": "https://localhost:8080/"
        },
        "id": "s_6_2K4iGvM-",
        "outputId": "8981e52d-7989-4e39-ccfa-de1abc02dc60"
      },
      "execution_count": 117,
      "outputs": [
        {
          "output_type": "execute_result",
          "data": {
            "text/plain": [
              "(5.128837479452505, 5.101140410342731)"
            ]
          },
          "metadata": {},
          "execution_count": 117
        }
      ]
    },
    {
      "cell_type": "code",
      "source": [
        "### acqFunc attribute x, stddev: run number = 19\n",
        "\n",
        "acqFuncgp_gp_19 = acqFuncExact(gp_19.history)\n",
        "acqFuncstp_stp_19 = acqFuncExact(stp_19.history)\n",
        "\n",
        "e19 = np.mean(acqFuncstp_stp_19)\n",
        "a19 = np.mean(acqFuncgp_gp_19)\n",
        "\n",
        "e19, a19\n"
      ],
      "metadata": {
        "colab": {
          "base_uri": "https://localhost:8080/"
        },
        "id": "o8oO8pdBGvYk",
        "outputId": "937be966-6a42-4b1f-9c66-639bfda83d97"
      },
      "execution_count": 118,
      "outputs": [
        {
          "output_type": "execute_result",
          "data": {
            "text/plain": [
              "(5.071925821315373, 4.97384454861171)"
            ]
          },
          "metadata": {},
          "execution_count": 118
        }
      ]
    },
    {
      "cell_type": "code",
      "source": [
        "### acqFunc attribute x, stddev: run number = 20\n",
        "\n",
        "acqFuncgp_gp_20 = acqFuncExact(gp_20.history)\n",
        "acqFuncstp_stp_20 = acqFuncExact(stp_20.history)\n",
        "\n",
        "e20 = np.mean(acqFuncstp_stp_20)\n",
        "a20 = np.mean(acqFuncgp_gp_20)\n",
        "\n",
        "e20, a20\n"
      ],
      "metadata": {
        "colab": {
          "base_uri": "https://localhost:8080/"
        },
        "id": "b2w8oLc0IMzU",
        "outputId": "d5a4322b-db2f-43c7-f5f0-627a76dd54d7"
      },
      "execution_count": 119,
      "outputs": [
        {
          "output_type": "execute_result",
          "data": {
            "text/plain": [
              "(5.11271621372684, 5.091757079698197)"
            ]
          },
          "metadata": {},
          "execution_count": 119
        }
      ]
    },
    {
      "cell_type": "code",
      "source": [
        "### Summarize arrays: \n",
        "\n",
        "stp_stddev = np.sort([e1,e2,e3,e4,e5,e6,e7,e8,e9,e10,e11,e12,e13,e14,e15,e16,e17,e18,e19,e20])\n",
        "gp_stddev = np.sort([a1,a2,a3,a4,a5,a6,a7,a8,a9,a10,a11,a12,a13,a14,a15,a16,a17,a18,a19,a20])\n",
        "\n",
        "np.mean(stp_stddev), np.mean(gp_stddev)\n"
      ],
      "metadata": {
        "colab": {
          "base_uri": "https://localhost:8080/"
        },
        "id": "qAZs3yxMIZul",
        "outputId": "ff575cb9-8e74-492d-e5d4-376116eabf18"
      },
      "execution_count": 120,
      "outputs": [
        {
          "output_type": "execute_result",
          "data": {
            "text/plain": [
              "(5.084885796335041, 5.0507114260851225)"
            ]
          },
          "metadata": {},
          "execution_count": 120
        }
      ]
    },
    {
      "cell_type": "code",
      "source": [
        "### Visualise!\n",
        "\n",
        "title = func\n",
        "plt.figure()\n",
        "\n",
        "plt.plot(gp_stddev, color = 'Red', ls='--', label='Average $\\sigma$, attribute $\\mathbf{x}$: Exact GP dEI gradients')\n",
        "plt.plot(stp_stddev, color = 'Red', ls='-', label='Average $\\sigma$, attribute $\\mathbf{x}$: Exact STP dEI gradients')\n",
        "\n",
        "plt.title(title, weight = 'bold')\n",
        "plt.xlabel('Function evaluations: iteration $\\it{k}$', weight = 'bold')\n",
        "plt.ylabel('GP EI, STP EI: Average $\\sigma$, attribute $\\mathbf{x}$', weight = 'bold') \n",
        "plt.legend(loc=0) # add plot legend\n",
        "\n",
        "### Make the x-ticks integers, not floats:\n",
        "count = len(xstar)\n",
        "plt.xticks(np.arange(count), np.arange(1, count))\n",
        "plt.show() #visualize!\n"
      ],
      "metadata": {
        "colab": {
          "base_uri": "https://localhost:8080/",
          "height": 297
        },
        "id": "e_kpqYcMIZxu",
        "outputId": "bfae8515-05f2-4b5f-a5f9-b3d38e9cad78"
      },
      "execution_count": 121,
      "outputs": [
        {
          "output_type": "display_data",
          "data": {
            "text/plain": [
              "<Figure size 432x288 with 1 Axes>"
            ],
            "image/png": "[encoded data removed]"
          },
          "metadata": {
            "needs_background": "light"
          }
        }
      ]
    },
    {
      "cell_type": "code",
      "source": [],
      "metadata": {
        "id": "LToGd4vZIZ3I"
      },
      "execution_count": 121,
      "outputs": []
    }
  ],
  "metadata": {
    "colab": {
      "collapsed_sections": [],
      "provenance": []
    },
    "kernelspec": {
      "display_name": "Python 3",
      "name": "python3"
    },
    "language_info": {
      "name": "python"
    }
  },
  "nbformat": 4,
  "nbformat_minor": 0
}