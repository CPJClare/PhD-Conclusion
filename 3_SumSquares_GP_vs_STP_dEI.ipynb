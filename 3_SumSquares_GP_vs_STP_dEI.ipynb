{
  "cells": [
    {
      "cell_type": "markdown",
      "metadata": {
        "id": "Dqn4dFx7Z2Ir"
      },
      "source": [
        "\n",
        "SumSquares: 2D\n"
      ]
    },
    {
      "cell_type": "code",
      "execution_count": 1,
      "metadata": {
        "colab": {
          "base_uri": "https://localhost:8080/"
        },
        "id": "MJTM_GZZZb5x",
        "outputId": "371eb677-e6f1-442d-c8b4-9fb2fe3e9c9b"
      },
      "outputs": [
        {
          "output_type": "stream",
          "name": "stdout",
          "text": [
            "Looking in indexes: https://pypi.org/simple, https://us-python.pkg.dev/colab-wheels/public/simple/\n",
            "Collecting pyGPGO\n",
            "  Downloading pyGPGO-0.5.1.tar.gz (14 kB)\n",
            "Requirement already satisfied: numpy in /usr/local/lib/python3.7/dist-packages (from pyGPGO) (1.21.6)\n",
            "Requirement already satisfied: mkl in /usr/local/lib/python3.7/dist-packages (from pyGPGO) (2019.0)\n",
            "Requirement already satisfied: scipy in /usr/local/lib/python3.7/dist-packages (from pyGPGO) (1.7.3)\n",
            "Requirement already satisfied: joblib in /usr/local/lib/python3.7/dist-packages (from pyGPGO) (1.1.0)\n",
            "Requirement already satisfied: scikit-learn in /usr/local/lib/python3.7/dist-packages (from pyGPGO) (1.0.2)\n",
            "Collecting Theano-PyMC\n",
            "  Downloading Theano-PyMC-1.1.2.tar.gz (1.8 MB)\n",
            "\u001b[K     |████████████████████████████████| 1.8 MB 4.2 MB/s \n",
            "\u001b[?25hCollecting pyMC3\n",
            "  Downloading pymc3-3.11.5-py3-none-any.whl (872 kB)\n",
            "\u001b[K     |████████████████████████████████| 872 kB 40.2 MB/s \n",
            "\u001b[?25hRequirement already satisfied: intel-openmp in /usr/local/lib/python3.7/dist-packages (from mkl->pyGPGO) (2022.1.0)\n",
            "Requirement already satisfied: typing-extensions>=3.7.4 in /usr/local/lib/python3.7/dist-packages (from pyMC3->pyGPGO) (4.1.1)\n",
            "Requirement already satisfied: fastprogress>=0.2.0 in /usr/local/lib/python3.7/dist-packages (from pyMC3->pyGPGO) (1.0.3)\n",
            "Requirement already satisfied: cachetools>=4.2.1 in /usr/local/lib/python3.7/dist-packages (from pyMC3->pyGPGO) (4.2.4)\n",
            "Requirement already satisfied: dill in /usr/local/lib/python3.7/dist-packages (from pyMC3->pyGPGO) (0.3.5.1)\n",
            "Collecting deprecat\n",
            "  Downloading deprecat-2.1.1-py2.py3-none-any.whl (9.8 kB)\n",
            "Requirement already satisfied: pandas>=0.24.0 in /usr/local/lib/python3.7/dist-packages (from pyMC3->pyGPGO) (1.3.5)\n",
            "Requirement already satisfied: patsy>=0.5.1 in /usr/local/lib/python3.7/dist-packages (from pyMC3->pyGPGO) (0.5.2)\n",
            "Collecting semver>=2.13.0\n",
            "  Downloading semver-2.13.0-py2.py3-none-any.whl (12 kB)\n",
            "Requirement already satisfied: arviz>=0.11.0 in /usr/local/lib/python3.7/dist-packages (from pyMC3->pyGPGO) (0.12.1)\n",
            "Requirement already satisfied: filelock in /usr/local/lib/python3.7/dist-packages (from Theano-PyMC->pyGPGO) (3.8.0)\n",
            "Requirement already satisfied: xarray>=0.16.1 in /usr/local/lib/python3.7/dist-packages (from arviz>=0.11.0->pyMC3->pyGPGO) (0.20.2)\n",
            "Requirement already satisfied: packaging in /usr/local/lib/python3.7/dist-packages (from arviz>=0.11.0->pyMC3->pyGPGO) (21.3)\n",
            "Requirement already satisfied: xarray-einstats>=0.2 in /usr/local/lib/python3.7/dist-packages (from arviz>=0.11.0->pyMC3->pyGPGO) (0.2.2)\n",
            "Requirement already satisfied: netcdf4 in /usr/local/lib/python3.7/dist-packages (from arviz>=0.11.0->pyMC3->pyGPGO) (1.6.0)\n",
            "Requirement already satisfied: matplotlib>=3.0 in /usr/local/lib/python3.7/dist-packages (from arviz>=0.11.0->pyMC3->pyGPGO) (3.2.2)\n",
            "Requirement already satisfied: setuptools>=38.4 in /usr/local/lib/python3.7/dist-packages (from arviz>=0.11.0->pyMC3->pyGPGO) (57.4.0)\n",
            "Requirement already satisfied: kiwisolver>=1.0.1 in /usr/local/lib/python3.7/dist-packages (from matplotlib>=3.0->arviz>=0.11.0->pyMC3->pyGPGO) (1.4.4)\n",
            "Requirement already satisfied: python-dateutil>=2.1 in /usr/local/lib/python3.7/dist-packages (from matplotlib>=3.0->arviz>=0.11.0->pyMC3->pyGPGO) (2.8.2)\n",
            "Requirement already satisfied: pyparsing!=2.0.4,!=2.1.2,!=2.1.6,>=2.0.1 in /usr/local/lib/python3.7/dist-packages (from matplotlib>=3.0->arviz>=0.11.0->pyMC3->pyGPGO) (3.0.9)\n",
            "Requirement already satisfied: cycler>=0.10 in /usr/local/lib/python3.7/dist-packages (from matplotlib>=3.0->arviz>=0.11.0->pyMC3->pyGPGO) (0.11.0)\n",
            "Requirement already satisfied: pytz>=2017.3 in /usr/local/lib/python3.7/dist-packages (from pandas>=0.24.0->pyMC3->pyGPGO) (2022.2.1)\n",
            "Requirement already satisfied: six in /usr/local/lib/python3.7/dist-packages (from patsy>=0.5.1->pyMC3->pyGPGO) (1.15.0)\n",
            "Requirement already satisfied: importlib-metadata in /usr/local/lib/python3.7/dist-packages (from xarray>=0.16.1->arviz>=0.11.0->pyMC3->pyGPGO) (4.12.0)\n",
            "Requirement already satisfied: wrapt<2,>=1.10 in /usr/local/lib/python3.7/dist-packages (from deprecat->pyMC3->pyGPGO) (1.14.1)\n",
            "Requirement already satisfied: zipp>=0.5 in /usr/local/lib/python3.7/dist-packages (from importlib-metadata->xarray>=0.16.1->arviz>=0.11.0->pyMC3->pyGPGO) (3.8.1)\n",
            "Requirement already satisfied: cftime in /usr/local/lib/python3.7/dist-packages (from netcdf4->arviz>=0.11.0->pyMC3->pyGPGO) (1.6.1)\n",
            "Requirement already satisfied: threadpoolctl>=2.0.0 in /usr/local/lib/python3.7/dist-packages (from scikit-learn->pyGPGO) (3.1.0)\n",
            "Building wheels for collected packages: pyGPGO, Theano-PyMC\n",
            "  Building wheel for pyGPGO (setup.py) ... \u001b[?25l\u001b[?25hdone\n",
            "  Created wheel for pyGPGO: filename=pyGPGO-0.5.1-py3-none-any.whl size=19879 sha256=ed149504875c275f9f598045b2ff5dfb7b83c83f18595fb2f725c3772eb728d5\n",
            "  Stored in directory: /root/.cache/pip/wheels/c8/5d/0b/2160114e2f1b87791c51b66cf07f89831dbb6f49167950316f\n",
            "  Building wheel for Theano-PyMC (setup.py) ... \u001b[?25l\u001b[?25hdone\n",
            "  Created wheel for Theano-PyMC: filename=Theano_PyMC-1.1.2-py3-none-any.whl size=1529963 sha256=3112f6dd2de1426d741dfae34ec83242daa94aaf19a620ee6f3b9a9832561b39\n",
            "  Stored in directory: /root/.cache/pip/wheels/f3/af/8c/5dd7553522d74c52a7813806fc7ee1a9caa20a3f7c8fd850d5\n",
            "Successfully built pyGPGO Theano-PyMC\n",
            "Installing collected packages: Theano-PyMC, semver, deprecat, pyMC3, pyGPGO\n",
            "Successfully installed Theano-PyMC-1.1.2 deprecat-2.1.1 pyGPGO-0.5.1 pyMC3-3.11.5 semver-2.13.0\n"
          ]
        }
      ],
      "source": [
        "pip install pyGPGO\n"
      ]
    },
    {
      "cell_type": "code",
      "execution_count": 2,
      "metadata": {
        "id": "ZJSSPbwPaEUB"
      },
      "outputs": [],
      "source": [
        "### 1. Import python modules/packages required:\n",
        "\n",
        "import numpy as np\n",
        "import pandas as pd\n",
        "import scipy as sp\n",
        "import matplotlib.pyplot as plt\n",
        "import warnings\n",
        "import itertools\n",
        "import seaborn as sns\n",
        "import time\n",
        "\n",
        "from pyGPGO.GPGO import GPGO\n",
        "from pyGPGO.surrogates.GaussianProcess import GaussianProcess\n",
        "from pyGPGO.surrogates.tStudentProcess import tStudentProcess\n",
        "from pyGPGO.acquisition import Acquisition\n",
        "from pyGPGO.covfunc import squaredExponential\n",
        "from joblib import Parallel, delayed\n",
        "from scipy.linalg import inv\n",
        "from scipy.spatial.distance import cdist\n",
        "from scipy.optimize import minimize\n",
        "from scipy.stats import norm, t\n",
        "from mpl_toolkits.axes_grid1.inset_locator import inset_axes, mark_inset\n",
        "\n",
        "warnings.filterwarnings(\"ignore\", category=RuntimeWarning)\n"
      ]
    },
    {
      "cell_type": "code",
      "execution_count": 3,
      "metadata": {
        "id": "OeYcTUNoaJWa"
      },
      "outputs": [],
      "source": [
        "### Inputs:\n",
        "\n",
        "func = 'SumSquares'\n",
        "n_test = 500\n",
        "eps = 1e-08\n",
        "\n",
        "util_gp = 'EI_gp'\n",
        "util_stp = 'EI_stp'\n",
        "\n",
        "n_init = 5 # random initialisations\n",
        "iters = 20\n",
        "opt = True\n",
        "\n",
        "df = 3"
      ]
    },
    {
      "cell_type": "code",
      "execution_count": 4,
      "metadata": {
        "id": "xpaEOjdzaPMS"
      },
      "outputs": [],
      "source": [
        "### Objective Function - Sum Squares(x) 2-D:\n",
        "\n",
        "def objfunc(x1_training, x2_training):\n",
        "            return  operator * (  1 * x1_training ** 2\n",
        "                            + 2 * x2_training ** 2\n",
        "                            )\n",
        "        \n",
        "# Constraints:\n",
        "lb = -5.12\n",
        "ub = +5.12\n",
        "    \n",
        "# Input array dimension(s):\n",
        "dim = 2\n",
        "\n",
        "# 2-D inputs' parameter bounds:\n",
        "param = {'x1_training': ('cont', [lb, ub]),\n",
        "                 'x2_training': ('cont', [lb, ub])\n",
        "                 }\n",
        "    \n",
        "# True y bounds:\n",
        "y_lb = 0\n",
        "operator = -1 # targets global minimum \n",
        "y_global_orig = y_lb * operator # targets global minimum\n",
        "    \n",
        "# Test data:\n",
        "x1_test = np.linspace(lb, ub, n_test)\n",
        "x2_test = np.linspace(lb, ub, n_test)\n",
        "x_test = np.column_stack((x1_test, x2_test))"
      ]
    },
    {
      "cell_type": "code",
      "execution_count": 5,
      "metadata": {
        "id": "eYpI3Zm4aGxi"
      },
      "outputs": [],
      "source": [
        "n_start_AcqFunc = iters\n",
        "inverse = -1\n"
      ]
    },
    {
      "cell_type": "code",
      "execution_count": 6,
      "metadata": {
        "id": "oO_GUmOoaV0T"
      },
      "outputs": [],
      "source": [
        "### Cumulative Regret Calculators:\n",
        "\n",
        "def min_max_array(x):\n",
        "    new_list = []\n",
        "    for i, num in enumerate(x):\n",
        "            new_list.append(np.min(x[0:i+1]))\n",
        "    return new_list\n",
        "  \n",
        "def acqFuncExact(x):\n",
        "    new_array = []\n",
        "    x = np.array(x) \n",
        "    for i, num in enumerate(x):\n",
        "            new_array = x[:-2][::-3]\n",
        "    return new_array[::-1]\n",
        "\n",
        "def acqFuncApprox(x):\n",
        "    new_array = []\n",
        "    x = np.array(x) \n",
        "    for i, num in enumerate(x):\n",
        "            new_array = x[:-1][::-3]\n",
        "    return new_array[::-1]\n"
      ]
    },
    {
      "cell_type": "code",
      "execution_count": 7,
      "metadata": {
        "id": "kuuJx0IMam9S"
      },
      "outputs": [],
      "source": [
        "### Surrogate derivatives: \n",
        "\n",
        "cov_func = squaredExponential()\n",
        "\n",
        "def kronDelta(X, Xstar):                     # Kronecker's Delta method\n",
        "    return cdist(X, Xstar) < np.finfo(np.float32).eps\n",
        "\n",
        "def se(X, Xstar, sigmaf, l, sigman):         # S.E. kernel method\n",
        "    return sigmaf * np.exp(-0.5 * cdist(X, Xstar) ** 2 / l ** 2) + sigman * kronDelta(X, Xstar)\n",
        "\n",
        "def delta(X, Xstar):                         # Distance between training X and test Xstar vectors\n",
        "    return (X - Xstar)\n",
        "   \n",
        "def der_covmat(X, Xstar, sigmaf, l, sigman): # Covariance matrix derivative terms (i.e. exact, first-order)\n",
        "    nx = len(X)\n",
        "    ny = len(Xstar)\n",
        "    return np.round(np.array([(delta(np.atleast_2d(i), np.atleast_2d(j))[0] * se(np.atleast_2d(i), np.atleast_2d(j), sigmaf, l, sigman)[0]).sum() for (i, j) in itertools.product(X, Xstar)]).reshape(nx, ny), 8)\n",
        "\n",
        "class dGaussianProcess(GaussianProcess):    # Via inheritance, also optimises hyperparameters when opt = TRUE\n",
        "    \n",
        "    def AcqGrad(self, Xstar):               # Method returning exact, first-order derivatives of the GP's posterior mean and standard deviation\n",
        "        Xstar = np.atleast_2d(Xstar)\n",
        "        Kstar = self.covfunc.K(self.X, Xstar).T\n",
        "        \n",
        "        dKstar = der_covmat(self.X, Xstar, self.covfunc.sigmaf, self.covfunc.l, self.covfunc.sigman).T\n",
        "        alpha_Kstar = np.dot(np.linalg.inv(self.K + (self.covfunc.sigman**2) * np.eye(len(self.X))), Kstar.T)\n",
        "        \n",
        "        dm = np.dot(dKstar, self.alpha)\n",
        "        ds = -2 * np.dot(dKstar, alpha_Kstar)\n",
        "        \n",
        "        return dm, ds   \n",
        "\n",
        "class dtStudentProcess(tStudentProcess):    # Via inheritance, also optimises hyperparameters when opt = TRUE\n",
        "    \n",
        "    def AcqGrad(self, Xstar):               # Method returning exact, first-order derivatives of the STP's posterior mean and standard deviation\n",
        "        Xstar = np.atleast_2d(Xstar)\n",
        "        Kstar = self.covfunc.K(self.X, Xstar).T\n",
        "        dKstar = der_covmat(self.X, Xstar, self.covfunc.sigmaf, self.covfunc.l, self.covfunc.sigman).T\n",
        "        \n",
        "        smd_adj = (self.nu + self.beta1 - 2) / (self.nu + self.n1 - 2)\n",
        "\n",
        "        alpha = np.dot(np.linalg.inv(self.K11 + (self.covfunc.sigman**2) * np.eye(len(self.X))), self.y)\n",
        "        alpha_Kstar = np.dot(np.linalg.inv(self.K11 + (self.covfunc.sigman**2) * np.eye(len(self.X))), Kstar.T)      \n",
        "        \n",
        "        dm = np.dot(dKstar, alpha)\n",
        "        ds = -2 * smd_adj * np.dot(dKstar, alpha_Kstar)\n",
        "        \n",
        "        return dm, ds \n",
        "        "
      ]
    },
    {
      "cell_type": "code",
      "execution_count": 8,
      "metadata": {
        "id": "_Dc3YVHVaXz7"
      },
      "outputs": [],
      "source": [
        "### Add exact acquisition function gradient as attribute:\n",
        "\n",
        "class Acquisition_grad(Acquisition):    \n",
        "    def __init__(self, mode, eps=eps, **params):\n",
        "        \n",
        "        self.params = params\n",
        "        self.eps = eps\n",
        "\n",
        "        mode_dict = {\n",
        "            'EI_stp': self.EI_stp,\n",
        "            'EI_gp': self.EI_gp,\n",
        "        }\n",
        "\n",
        "        self.f = mode_dict[mode]\n",
        "    \n",
        "    def EI_stp(self, tau, mean, std, ds, dm, nu=3.0):\n",
        "        gamma = (mean - tau - self.eps) / (std + self.eps)\n",
        "        gamma_h = (mean - tau) / (std + self.eps)\n",
        "        dsdx = ds / (2 * (std + self.eps))\n",
        "        dmdx = (dm - gamma * dsdx) / (std + self.eps)\n",
        "        \n",
        "        f = (std + self.eps) * (gamma * t.cdf(gamma, df=nu) + (nu + gamma ** 2)/(nu - 1) * t.pdf(gamma, df=nu))\n",
        "        df1 = f / (std + self.eps) * dsdx \n",
        "        df2 = (std + self.eps) * (t.cdf(gamma, df=nu) * dmdx + gamma * t.pdf(gamma, df=nu) \\\n",
        "            * (1 - (nu + gamma ** 2)/(nu - 1) + 2/(nu - 1) * dmdx))\n",
        "        df = (df1 + df2)[0]\n",
        "        df_arr = []\n",
        "\n",
        "        for j in range(0, dim):\n",
        "          df_arr.append(df)\n",
        "        return f, np.asarray(df_arr).transpose()\n",
        "        \n",
        "    def d_eval_stp(self, tau, mean, std, ds, dm, nu=3.0):\n",
        "    \n",
        "        return self.f(tau, mean, std, ds, dm, nu=3.0, **self.params)\n",
        "\n",
        "    def EI_gp(self, tau, mean, std, ds, dm):\n",
        "        gamma = (mean - tau - self.eps) / (std + self.eps)\n",
        "        gamma_h = (mean - tau) / (std + self.eps)\n",
        "        dsdx = ds / (2 * (std + self.eps))\n",
        "        dmdx = (dm - gamma * dsdx) / (std + self.eps)\n",
        "        \n",
        "        f = (std + self.eps) * (gamma * norm.cdf(gamma) + norm.pdf(gamma))\n",
        "        df1 = f / (std + self.eps) * dsdx \n",
        "        df2 = (std + self.eps) * norm.cdf(gamma) * dmdx\n",
        "        df = (df1 + df2)[0]\n",
        "        df_arr = []\n",
        "\n",
        "        for j in range(0, dim):\n",
        "          df_arr.append(df)\n",
        "        return f, np.asarray(df_arr).transpose()\n",
        "        \n",
        "    def d_eval_gp(self, tau, mean, std, ds, dm):\n",
        "    \n",
        "        return self.f(tau, mean, std, ds, dm, **self.params)\n",
        "        "
      ]
    },
    {
      "cell_type": "code",
      "execution_count": 9,
      "metadata": {
        "id": "b_B-w81BJxKN"
      },
      "outputs": [],
      "source": [
        "## dGPGO - Gaussian:\n",
        "\n",
        "class dGPGO_gp(GPGO):\n",
        "    n_start = n_start_AcqFunc\n",
        "\n",
        "    def __init__(self, surrogate, acquisition, f, parameter_dict, n_jobs=1):\n",
        "        self.GP = surrogate\n",
        "        self.A = acquisition\n",
        "        self.f = f\n",
        "        self.parameters = parameter_dict\n",
        "        self.n_jobs = n_jobs\n",
        "\n",
        "        self.parameter_key = list(parameter_dict.keys())\n",
        "        self.parameter_value = list(parameter_dict.values())\n",
        "        self.parameter_type = [p[0] for p in self.parameter_value]\n",
        "        self.parameter_range = [p[1] for p in self.parameter_value]\n",
        "\n",
        "        self.history = []\n",
        "        self.header =   'Evaluation \\t Proposed point \\t  Current eval. \\t  Best eval. \\t        Exact EI: StdDev. x \\t Approx EI: StdDev. x '\n",
        "        self.template = '{:3}\\t {}\\t {:3}\\t {:3}\\t {:3}\\t {:3}'\n",
        "\n",
        "    def acqfuncExact(self, xnew, n_start=n_start_AcqFunc):\n",
        "        new_mean, new_var = self.GP.predict(xnew, return_std=True)\n",
        "        new_std = np.sqrt(new_var + eps)\n",
        "        dm, ds = self.GP.AcqGrad(xnew)\n",
        "        f, df = self.A.d_eval_gp(self.tau, new_mean, new_std, ds=ds, dm=dm)\n",
        "\n",
        "        return -f, -df\n",
        "   \n",
        "    def acqfuncApprox(self, xnew, n_start=n_start_AcqFunc):\n",
        "        new_mean, new_var = self.GP.predict(xnew, return_std=True)\n",
        "        new_std = np.sqrt(new_var + eps)\n",
        "        dm, ds = self.GP.AcqGrad(xnew)\n",
        "        f, df = self.A.d_eval_gp(self.tau, new_mean, new_std, ds=ds, dm=dm)\n",
        "\n",
        "        return -f\n",
        "\n",
        "    def d_optimizeAcq(self, method='L-BFGS-B', n_start=n_start_AcqFunc):\n",
        "        start_points_dict = [self._sampleParam() for i in range(n_start)]\n",
        "        start_points_arr = np.array([list(s.values())\n",
        "                                     for s in start_points_dict])\n",
        "        x_best = np.empty((n_start, len(self.parameter_key)))\n",
        "        f_best = np.empty((n_start,))\n",
        "        opt = Parallel(n_jobs=self.n_jobs)(delayed(minimize)(self.acqfuncExact,\n",
        "                                                                 x0=start_point,\n",
        "                                                                 method=method,\n",
        "                                                                 jac = True,\n",
        "                                                                 bounds=self.parameter_range) for start_point in\n",
        "                                               start_points_arr)\n",
        "        x_best = np.array([res.x for res in opt])\n",
        "        f_best = np.array([np.atleast_1d(res.fun)[0] for res in opt])\n",
        "        f_best_min = min(f_best)\n",
        "\n",
        "        self.x_best = x_best\n",
        "        self.f_best = f_best\n",
        "        self.f_best_min = f_best_min\n",
        "        self.x_best_std = np.std(x_best)\n",
        "        self.best = x_best[np.argmin(f_best)]\n",
        "        self.start_points_arr = start_points_arr\n",
        "        self.history.append(self.x_best_std)\n",
        "\n",
        "        x_best_gp = np.empty((n_start, len(self.parameter_key)))\n",
        "        f_best_gp = np.empty((n_start,))\n",
        "        opt_gp = Parallel(n_jobs=self.n_jobs)(delayed(minimize)(self.acqfuncApprox,\n",
        "                                                                 x0=start_point,\n",
        "                                                                 method=method,\n",
        "                                                                 jac = False,\n",
        "                                                                 bounds=self.parameter_range) for start_point in\n",
        "                                               start_points_arr)\n",
        "        x_best_gp = np.array([res.x for res in opt_gp])\n",
        "        f_best_gp = np.array([np.atleast_1d(res.fun)[0] for res in opt_gp])\n",
        "        f_best_min_gp = min(f_best_gp)\n",
        "\n",
        "        self.x_best_gp = x_best_gp\n",
        "        self.f_best_gp = f_best_gp\n",
        "        self.f_best_min_gp = f_best_min_gp\n",
        "        self.x_best_std_gp = np.std(x_best_gp)\n",
        "        self.best_gp = x_best_gp[np.argmin(f_best_gp)]\n",
        "        self.start_points_arr = start_points_arr\n",
        "        self.history.append(self.x_best_std_gp)\n",
        "    \n",
        "    def _printInit(self):\n",
        "        print(self.header)\n",
        "        for init_eval in range(self.init_evals):\n",
        "            print(self.template.format('init', self.GP.X[init_eval], inverse * self.GP.y[init_eval], inverse * self.tau, '', ''))\n",
        "      \n",
        "    def _printCurrent(self):\n",
        "        OKGREEN = '\\033[92m'\n",
        "        ENDC = '\\033[0m'\n",
        "        BOLD = '\\033[1m'\n",
        "        eval = str(len(self.GP.y) - self.init_evals)\n",
        "        proposed = str(self.best)\n",
        "        curr_eval = str(inverse * self.GP.y[-1])\n",
        "        curr_best = str(inverse * self.tau)\n",
        "        min_acqfunc = str(self.f_best_min)\n",
        "        min_acqfunc_gp = str(self.f_best_min_gp)\n",
        "        x_best_std = str(self.x_best_std)\n",
        "        x_best_std_gp = str(self.x_best_std_gp)\n",
        "        if float(curr_eval) <= float(curr_best):\n",
        "            eval = BOLD + OKGREEN + eval + ENDC\n",
        "            proposed = BOLD + OKGREEN + proposed + ENDC\n",
        "            curr_eval = BOLD + OKGREEN + curr_eval + ENDC\n",
        "            curr_best = BOLD + OKGREEN + curr_best + ENDC\n",
        "            x_best_std = BOLD + OKGREEN + x_best_std + ENDC\n",
        "            x_best_std_gp = BOLD + OKGREEN + x_best_std_gp + ENDC\n",
        "        print(self.template.format(eval, proposed, curr_eval, curr_best, x_best_std, x_best_std_gp))\n",
        "\n",
        "    def run(self, max_iter=10, init_evals=3, resume=False):\n",
        "        \n",
        "        if not resume:\n",
        "            self.init_evals = init_evals\n",
        "            self._firstRun(self.init_evals)\n",
        "            self._printInit()\n",
        "        for iteration in range(max_iter):\n",
        "            self.d_optimizeAcq()\n",
        "            self.updateGP()\n",
        "            self._printCurrent()\n"
      ]
    },
    {
      "cell_type": "code",
      "source": [
        "## dGPGO - Student's-t:\n",
        "\n",
        "class dGPGO_stp(GPGO):\n",
        "    n_start = n_start_AcqFunc\n",
        "\n",
        "    def __init__(self, surrogate, acquisition, f, parameter_dict, n_jobs=1):\n",
        "        self.GP = surrogate\n",
        "        self.A = acquisition\n",
        "        self.f = f\n",
        "        self.parameters = parameter_dict\n",
        "        self.n_jobs = n_jobs\n",
        "\n",
        "        self.parameter_key = list(parameter_dict.keys())\n",
        "        self.parameter_value = list(parameter_dict.values())\n",
        "        self.parameter_type = [p[0] for p in self.parameter_value]\n",
        "        self.parameter_range = [p[1] for p in self.parameter_value]\n",
        "\n",
        "        self.history = []\n",
        "        self.header =   'Evaluation \\t Proposed point \\t  Current eval. \\t  Best eval. \\t        Exact EI: StdDev. x \\t Approx EI: StdDev. x '\n",
        "        self.template = '{:3}\\t {}\\t {:3}\\t {:3}\\t {:3}\\t {:3}'\n",
        "\n",
        "    def acqfuncExact(self, xnew, n_start=n_start_AcqFunc):\n",
        "        new_mean, new_var = self.GP.predict(xnew, return_std=True)\n",
        "        new_std = np.sqrt(new_var + eps)\n",
        "        dm, ds = self.GP.AcqGrad(xnew)\n",
        "        f, df = self.A.d_eval_stp(self.tau, new_mean, new_std, ds=ds, dm=dm, nu=3.0)\n",
        "\n",
        "        return -f, -df\n",
        "   \n",
        "    def acqfuncApprox(self, xnew, n_start=n_start_AcqFunc):\n",
        "        new_mean, new_var = self.GP.predict(xnew, return_std=True)\n",
        "        new_std = np.sqrt(new_var + eps)\n",
        "        dm, ds = self.GP.AcqGrad(xnew)\n",
        "        f, df = self.A.d_eval_stp(self.tau, new_mean, new_std, ds=ds, dm=dm, nu=3.0)\n",
        "\n",
        "        return -f\n",
        "\n",
        "    def d_optimizeAcq(self, method='L-BFGS-B', n_start=n_start_AcqFunc):\n",
        "        start_points_dict = [self._sampleParam() for i in range(n_start)]\n",
        "        start_points_arr = np.array([list(s.values())\n",
        "                                     for s in start_points_dict])\n",
        "        x_best = np.empty((n_start, len(self.parameter_key)))\n",
        "        f_best = np.empty((n_start,))\n",
        "        opt = Parallel(n_jobs=self.n_jobs)(delayed(minimize)(self.acqfuncExact,\n",
        "                                                                 x0=start_point,\n",
        "                                                                 method=method,\n",
        "                                                                 jac = True,\n",
        "                                                                 bounds=self.parameter_range) for start_point in\n",
        "                                               start_points_arr)\n",
        "        x_best = np.array([res.x for res in opt])\n",
        "        f_best = np.array([np.atleast_1d(res.fun)[0] for res in opt])\n",
        "        f_best_min = min(f_best)\n",
        "\n",
        "        self.x_best = x_best\n",
        "        self.f_best = f_best\n",
        "        self.f_best_min = f_best_min\n",
        "        self.x_best_std = np.std(x_best)\n",
        "        self.best = x_best[np.argmin(f_best)]\n",
        "        self.start_points_arr = start_points_arr\n",
        "        self.history.append(self.x_best_std)\n",
        "\n",
        "        x_best_gp = np.empty((n_start, len(self.parameter_key)))\n",
        "        f_best_gp = np.empty((n_start,))\n",
        "        opt_gp = Parallel(n_jobs=self.n_jobs)(delayed(minimize)(self.acqfuncApprox,\n",
        "                                                                 x0=start_point,\n",
        "                                                                 method=method,\n",
        "                                                                 jac = False,\n",
        "                                                                 bounds=self.parameter_range) for start_point in\n",
        "                                               start_points_arr)\n",
        "        x_best_gp = np.array([res.x for res in opt_gp])\n",
        "        f_best_gp = np.array([np.atleast_1d(res.fun)[0] for res in opt_gp])\n",
        "        f_best_min_gp = min(f_best_gp)\n",
        "\n",
        "        self.x_best_gp = x_best_gp\n",
        "        self.f_best_gp = f_best_gp\n",
        "        self.f_best_min_gp = f_best_min_gp\n",
        "        self.x_best_std_gp = np.std(x_best_gp)\n",
        "        self.best_gp = x_best_gp[np.argmin(f_best_gp)]\n",
        "        self.start_points_arr = start_points_arr\n",
        "        self.history.append(self.x_best_std_gp)\n",
        "    \n",
        "    def _printInit(self):\n",
        "        print(self.header)\n",
        "        for init_eval in range(self.init_evals):\n",
        "            print(self.template.format('init', self.GP.X[init_eval], inverse * self.GP.y[init_eval], inverse * self.tau, '', ''))\n",
        "      \n",
        "    def _printCurrent(self):\n",
        "        OKGREEN = '\\033[92m'\n",
        "        ENDC = '\\033[0m'\n",
        "        BOLD = '\\033[1m'\n",
        "        eval = str(len(self.GP.y) - self.init_evals)\n",
        "        proposed = str(self.best)\n",
        "        curr_eval = str(inverse * self.GP.y[-1])\n",
        "        curr_best = str(inverse * self.tau)\n",
        "        min_acqfunc = str(self.f_best_min)\n",
        "        min_acqfunc_gp = str(self.f_best_min_gp)\n",
        "        x_best_std = str(self.x_best_std)\n",
        "        x_best_std_gp = str(self.x_best_std_gp)\n",
        "        if float(curr_eval) <= float(curr_best):\n",
        "            eval = BOLD + OKGREEN + eval + ENDC\n",
        "            proposed = BOLD + OKGREEN + proposed + ENDC\n",
        "            curr_eval = BOLD + OKGREEN + curr_eval + ENDC\n",
        "            curr_best = BOLD + OKGREEN + curr_best + ENDC\n",
        "            x_best_std = BOLD + OKGREEN + x_best_std + ENDC\n",
        "            x_best_std_gp = BOLD + OKGREEN + x_best_std_gp + ENDC\n",
        "        print(self.template.format(eval, proposed, curr_eval, curr_best, x_best_std, x_best_std_gp))\n",
        "\n",
        "    def run(self, max_iter=10, init_evals=3, resume=False):\n",
        "        \n",
        "        if not resume:\n",
        "            self.init_evals = init_evals\n",
        "            self._firstRun(self.init_evals)\n",
        "            self._printInit()\n",
        "        for iteration in range(max_iter):\n",
        "            self.d_optimizeAcq()\n",
        "            self.updateGP()\n",
        "            self._printCurrent()\n"
      ],
      "metadata": {
        "id": "3gxt4mo3xQTY"
      },
      "execution_count": 10,
      "outputs": []
    },
    {
      "cell_type": "code",
      "execution_count": 11,
      "metadata": {
        "id": "qXIKGuXVGEg2"
      },
      "outputs": [],
      "source": [
        "###Reproducible set-seeds:\n",
        "\n",
        "run_num_1 = 1\n",
        "run_num_2 = 2\n",
        "run_num_3 = 3\n",
        "run_num_4 = 4\n",
        "run_num_5 = 5\n",
        "run_num_6 = 6\n",
        "run_num_7 = 7\n",
        "run_num_8 = 8\n",
        "run_num_9 = 9\n",
        "run_num_10 = 10\n",
        "run_num_11 = 11\n",
        "run_num_12 = 12\n",
        "run_num_13 = 13\n",
        "run_num_14 = 14\n",
        "run_num_15 = 15\n",
        "run_num_16 = 16\n",
        "run_num_17 = 17\n",
        "run_num_18 = 18\n",
        "run_num_19 = 19\n",
        "run_num_20 = 20\n"
      ]
    },
    {
      "cell_type": "code",
      "execution_count": 12,
      "metadata": {
        "colab": {
          "base_uri": "https://localhost:8080/"
        },
        "id": "JEhagQmnTVIK",
        "outputId": "15f24f63-4856-4167-bedc-95c1110de7b2"
      },
      "outputs": [
        {
          "output_type": "execute_result",
          "data": {
            "text/plain": [
              "1663071636.2487276"
            ]
          },
          "metadata": {},
          "execution_count": 12
        }
      ],
      "source": [
        "start_gp = time.time()\n",
        "start_gp\n"
      ]
    },
    {
      "cell_type": "code",
      "execution_count": 13,
      "metadata": {
        "colab": {
          "base_uri": "https://localhost:8080/"
        },
        "id": "aH0YSTXufD1v",
        "outputId": "96151461-813f-422f-8abd-f3b71805b7a1"
      },
      "outputs": [
        {
          "output_type": "stream",
          "name": "stdout",
          "text": [
            "Evaluation \t Proposed point \t  Current eval. \t  Best eval. \t        Exact EI: StdDev. x \t Approx EI: StdDev. x \n",
            "init\t [-0.84969467  2.25612281]\t 10.902161328666502\t 1.4334486961549602\t    \t    \n",
            "init\t [-5.1188288  -2.02411446]\t 34.396486966857985\t 1.4334486961549602\t    \t    \n",
            "init\t [-3.61721968 -4.17445279]\t 47.936390383803385\t 1.4334486961549602\t    \t    \n",
            "init\t [-3.21269544 -1.58145816]\t 15.323431753768267\t 1.4334486961549602\t    \t    \n",
            "init\t [-1.05710106  0.39748336]\t 1.4334486961549602\t 1.4334486961549602\t    \t    \n",
            "1  \t [ 4.04077223 -4.24914728]\t 52.43834538835027\t 1.4334486961549602\t 3.4489756845924497\t 4.163974683192937\n",
            "2  \t [3.95540519 5.12      ]\t 68.07403023591242\t 1.4334486961549602\t 3.3878383996330093\t 3.5005012055534523\n",
            "3  \t [5.12       0.42690956]\t 26.57890353728757\t 1.4334486961549602\t 3.15227018152962\t 3.564639216485689\n",
            "4  \t [-5.12        4.36680096]\t 64.35230119366302\t 1.4334486961549602\t 3.370663359363788\t 4.0553052367487945\n",
            "5  \t [ 0.77902525 -1.82331002]\t 7.255799175882487\t 1.4334486961549602\t 2.6121881029160487\t 2.6988002626844008\n",
            "6  \t [ 0.14460689 -5.12      ]\t 52.449711153986044\t 1.4334486961549602\t 2.941846899860684\t 2.997382009550626\n",
            "7  \t [0.1654036 5.12     ]\t 52.45615834989323\t 1.4334486961549602\t 3.1411395424129678\t 3.3210243986084813\n",
            "8  \t [1.97640992 0.88930345]\t 5.487917398252676\t 1.4334486961549602\t 3.1772157364108433\t 3.048323834016115\n",
            "9  \t [-5.11979273  1.06243374]\t 28.46980844652034\t 1.4334486961549602\t 2.8095758793598993\t 2.987988373861534\n",
            "10 \t [ 3.05577758 -1.43267475]\t 13.442890470452681\t 1.4334486961549602\t 3.0741106083494354\t 3.0693517556475864\n",
            "11 \t [2.38842949 2.50340509]\t 18.238669509911347\t 1.4334486961549602\t 2.8118879481747063\t 2.5742129442658483\n",
            "12 \t [-1.56479364  0.07916935]\t 2.4611147024836493\t 1.4334486961549602\t 2.9581152559635893\t 2.93595379084362\n",
            "\u001b[1m\u001b[92m13\u001b[0m\t \u001b[1m\u001b[92m[-0.87353405 -0.03577156]\u001b[0m\t \u001b[1m\u001b[92m0.765620942134662\u001b[0m\t \u001b[1m\u001b[92m0.765620942134662\u001b[0m\t \u001b[1m\u001b[92m2.257173471643327\u001b[0m\t \u001b[1m\u001b[92m2.183946251567475\u001b[0m\n",
            "14 \t [-0.88705955 -2.41502467]\t 12.451562911429045\t 0.765620942134662\t 2.9452832032456535\t 2.773480259853474\n",
            "\u001b[1m\u001b[92m15\u001b[0m\t \u001b[1m\u001b[92m[0.21364086 0.10294333]\u001b[0m\t \u001b[1m\u001b[92m0.06683707856635299\u001b[0m\t \u001b[1m\u001b[92m0.06683707856635299\u001b[0m\t \u001b[1m\u001b[92m2.4910790460747365\u001b[0m\t \u001b[1m\u001b[92m2.4841623545066405\u001b[0m\n",
            "16 \t [0.39543881 0.03639201]\t 0.15902060613118404\t 0.06683707856635299\t 3.019899636668791\t 2.9980779993998716\n",
            "17 \t [ 0.96785058 -0.24587553]\t 1.0576442947440718\t 0.06683707856635299\t 2.892440545844892\t 2.8342508082943434\n",
            "18 \t [0.00857995 0.21571421]\t 0.09313885346003073\t 0.06683707856635299\t 2.8476086032407233\t 2.8905332569883373\n",
            "19 \t [ 0.78837852 -0.16451239]\t 0.6756693403741052\t 0.06683707856635299\t 3.248111025611899\t 3.0963427561635415\n",
            "20 \t [0.03500544 0.20620798]\t 0.08626884572874087\t 0.06683707856635299\t 2.8933629014072855\t 2.718292556731729\n"
          ]
        }
      ],
      "source": [
        "### EXACT GP EI GRADIENTS\n",
        "\n",
        "np.random.seed(run_num_1)\n",
        "surrogate_gp_1 = dGaussianProcess(cov_func, optimize=opt)\n",
        "\n",
        "gp_1 = dGPGO_gp(surrogate_gp_1, Acquisition_grad(util_gp), objfunc, param)\n",
        "gp_1.run(init_evals=n_init, max_iter=iters)\n"
      ]
    },
    {
      "cell_type": "code",
      "execution_count": 14,
      "metadata": {
        "id": "wTxsSZxFGBB5",
        "colab": {
          "base_uri": "https://localhost:8080/"
        },
        "outputId": "1ca3c6f2-a47a-4557-e1db-5c13f459b7a3"
      },
      "outputs": [
        {
          "output_type": "stream",
          "name": "stdout",
          "text": [
            "Evaluation \t Proposed point \t  Current eval. \t  Best eval. \t        Exact EI: StdDev. x \t Approx EI: StdDev. x \n",
            "init\t [-0.6554122  -4.85451539]\t 47.562204422038214\t 1.1358959044973735\t    \t    \n",
            "init\t [ 0.50854377 -0.6622987 ]\t 1.1358959044973735\t 1.1358959044973735\t    \t    \n",
            "init\t [-0.81543371 -1.73737143]\t 6.7018511217540135\t 1.1358959044973735\t    \t    \n",
            "init\t [-3.02439799  1.2213347 ]\t 12.13030006303276\t 1.1358959044973735\t    \t    \n",
            "init\t [-2.05153614 -2.3876887 ]\t 15.610915224537823\t 1.1358959044973735\t    \t    \n",
            "1  \t [4.65822565 5.12      ]\t 74.12786624034281\t 1.1358959044973735\t 3.793495730061243\t 3.7991229147714978\n",
            "2  \t [ 4.84262551 -3.96515151]\t 54.89587485526295\t 1.1358959044973735\t 2.7483713464466506\t 3.7930249222606087\n",
            "3  \t [-0.49783222  5.12      ]\t 52.67663691998099\t 1.1358959044973735\t 3.698685800326653\t 4.058112345323993\n",
            "4  \t [4.16937798 0.52775354]\t 17.940760340983772\t 1.1358959044973735\t 3.3633254722324413\t 3.4196991947885618\n",
            "5  \t [-5.12 -5.12]\t 78.64319999999998\t 1.1358959044973735\t 3.6143311431067975\t 3.447558791349844\n",
            "6  \t [-4.55161521  4.31103283]\t 57.887209156267105\t 1.1358959044973735\t 3.243854733715896\t 3.4470103253052917\n",
            "7  \t [0.80027071 1.58356484]\t 5.655788434007557\t 1.1358959044973735\t 2.9474669407621623\t 3.0399312610259392\n",
            "8  \t [ 1.8643364  -1.85601054]\t 10.365300438404619\t 1.1358959044973735\t 2.793875729938725\t 2.797400433694802\n",
            "9  \t [-5.12       -1.19452282]\t 29.068169552831993\t 1.1358959044973735\t 2.9046846839882026\t 2.9621475718901604\n",
            "10 \t [2.5454172  2.73935266]\t 21.48725475092696\t 1.1358959044973735\t 2.855530543167245\t 2.925915475851146\n",
            "\u001b[1m\u001b[92m11\u001b[0m\t \u001b[1m\u001b[92m[-0.59072987  0.33796907]\u001b[0m\t \u001b[1m\u001b[92m0.5774079638389199\u001b[0m\t \u001b[1m\u001b[92m0.5774079638389199\u001b[0m\t \u001b[1m\u001b[92m3.1302547359696273\u001b[0m\t \u001b[1m\u001b[92m2.923776290837337\u001b[0m\n",
            "12 \t [ 2.19129599 -5.12      ]\t 57.23057810678403\t 0.5774079638389199\t 2.355781026267004\t 2.3185824760529097\n",
            "13 \t [-0.79503668  0.81798754]\t 1.9702905604207102\t 0.5774079638389199\t 3.0362574823296797\t 2.7370923614641853\n",
            "\u001b[1m\u001b[92m14\u001b[0m\t \u001b[1m\u001b[92m[-0.19002217  0.01751651]\u001b[0m\t \u001b[1m\u001b[92m0.0367220822481718\u001b[0m\t \u001b[1m\u001b[92m0.0367220822481718\u001b[0m\t \u001b[1m\u001b[92m3.0810529588086966\u001b[0m\t \u001b[1m\u001b[92m3.0737647147477936\u001b[0m\n",
            "\u001b[1m\u001b[92m15\u001b[0m\t \u001b[1m\u001b[92m[ 0.0305564  -0.07132707]\u001b[0m\t \u001b[1m\u001b[92m0.011108796521832134\u001b[0m\t \u001b[1m\u001b[92m0.011108796521832134\u001b[0m\t \u001b[1m\u001b[92m2.8194799599207356\u001b[0m\t \u001b[1m\u001b[92m2.7576128596224088\u001b[0m\n",
            "16 \t [ 0.5066282  -0.24286003]\t 0.37463411466229385\t 0.011108796521832134\t 2.672933764980469\t 2.979582936348741\n",
            "17 \t [-0.45996118  0.16581082]\t 0.26655073890744235\t 0.011108796521832134\t 2.89447220336475\t 2.800068213656052\n",
            "18 \t [-0.34308335  0.11219796]\t 0.1428829489483746\t 0.011108796521832134\t 2.824851455530157\t 2.6324095413358326\n",
            "19 \t [ 0.1326651  -0.12218095]\t 0.04745639798430533\t 0.011108796521832134\t 2.833382818315538\t 2.5683841168114956\n",
            "20 \t [-0.22564273  0.05367523]\t 0.056676701271164504\t 0.011108796521832134\t 2.8501876842602614\t 2.7600816031481563\n"
          ]
        }
      ],
      "source": [
        "### EXACT GP EI GRADIENTS\n",
        "\n",
        "np.random.seed(run_num_2)\n",
        "surrogate_gp_2 = dGaussianProcess(cov_func, optimize=opt)\n",
        "\n",
        "gp_2 = dGPGO_gp(surrogate_gp_2, Acquisition_grad(util_gp), objfunc, param)\n",
        "gp_2.run(init_evals=n_init, max_iter=iters)\n"
      ]
    },
    {
      "cell_type": "code",
      "execution_count": 15,
      "metadata": {
        "id": "-dgzIrUIGCGT",
        "colab": {
          "base_uri": "https://localhost:8080/"
        },
        "outputId": "cf5df25f-af7b-46a4-abd6-495802c8de1e"
      },
      "outputs": [
        {
          "output_type": "stream",
          "name": "stdout",
          "text": [
            "Evaluation \t Proposed point \t  Current eval. \t  Best eval. \t        Exact EI: StdDev. x \t Approx EI: StdDev. x \n",
            "init\t [0.52017052 2.1314337 ]\t 9.356596638100186\t 4.609047504113831\t    \t    \n",
            "init\t [-2.14113547  0.11087468]\t 4.609047504113831\t 4.609047504113831\t    \t    \n",
            "init\t [4.02377681 4.05804123]\t 49.12617709674532\t 4.609047504113831\t    \t    \n",
            "init\t [-3.83400642 -2.99783293]\t 32.673609761904345\t 4.609047504113831\t    \t    \n",
            "init\t [-4.59297584 -0.6061072 ]\t 21.83015892853491\t 4.609047504113831\t    \t    \n",
            "1  \t [ 1.78282979 -3.07043083]\t 22.033572998458702\t 4.609047504113831\t 2.080558878714637\t 3.531962042320513\n",
            "2  \t [-3.52881074  4.85538913]\t 59.60211244097039\t 4.609047504113831\t 2.742731871411798\t 3.937381998432584\n",
            "3  \t [ 5.12      -0.3773989]\t 26.499259852483945\t 4.609047504113831\t 2.6902293515476057\t 3.1984000212581876\n",
            "4  \t [-0.99705128 -5.12      ]\t 53.42291126073889\t 4.609047504113831\t 3.0980546557030793\t 2.8601588315267703\n",
            "5  \t [0.90918729 4.87135527]\t 48.28682587351447\t 4.609047504113831\t 2.8391945218776256\t 3.1574414519287566\n",
            "6  \t [ 5.12       -4.57451492]\t 68.06677358046802\t 4.609047504113831\t 2.6498786719177008\t 2.9149503978923477\n",
            "\u001b[1m\u001b[92m7\u001b[0m\t \u001b[1m\u001b[92m[ 0.11981153 -0.60096523]\u001b[0m\t \u001b[1m\u001b[92m0.7366732091774585\u001b[0m\t \u001b[1m\u001b[92m0.7366732091774585\u001b[0m\t \u001b[1m\u001b[92m2.7949454688060515\u001b[0m\t \u001b[1m\u001b[92m2.355382129728611\u001b[0m\n",
            "8  \t [2.03899141 0.01216407]\t 4.157781902155698\t 0.7366732091774585\t 2.858966853178148\t 2.793062610149155\n",
            "9  \t [-1.87432422  2.40950566]\t 15.124526367578365\t 0.7366732091774585\t 2.610187023437065\t 2.7797517050920217\n",
            "10 \t [-0.34565181 -2.15507155]\t 9.408141965251438\t 0.7366732091774585\t 2.8753117192923767\t 2.677391827039695\n",
            "\u001b[1m\u001b[92m11\u001b[0m\t \u001b[1m\u001b[92m[-0.25950416  0.04709741]\u001b[0m\t \u001b[1m\u001b[92m0.07177874444810566\u001b[0m\t \u001b[1m\u001b[92m0.07177874444810566\u001b[0m\t \u001b[1m\u001b[92m2.8837284440508615\u001b[0m\t \u001b[1m\u001b[92m3.154199424840842\u001b[0m\n",
            "12 \t [-4.76490423  1.89371773]\t 29.876645966293896\t 0.07177874444810566\t 2.960924977633452\t 2.758360232889907\n",
            "13 \t [-5.12 -5.12]\t 78.64320000000001\t 0.07177874444810566\t 3.273951462470743\t 3.1399347564934095\n",
            "\u001b[1m\u001b[92m14\u001b[0m\t \u001b[1m\u001b[92m[-0.14303767 -0.00946237]\u001b[0m\t \u001b[1m\u001b[92m0.020638849411387696\u001b[0m\t \u001b[1m\u001b[92m0.020638849411387696\u001b[0m\t \u001b[1m\u001b[92m2.6740462690157694\u001b[0m\t \u001b[1m\u001b[92m2.481627815718432\u001b[0m\n",
            "15 \t [-0.88655771  0.38370642]\t 1.0804458089358155\t 0.020638849411387696\t 2.8244625172746325\t 2.666837273691414\n",
            "16 \t [-0.60904287  0.23731331]\t 0.4835684337610422\t 0.020638849411387696\t 2.99128022208792\t 2.941602525171102\n",
            "17 \t [-0.17295038  0.01893504]\t 0.03062890612396298\t 0.020638849411387696\t 2.7235622693117687\t 2.5258362635196323\n",
            "18 \t [ 0.94420261 -0.54009464]\t 1.474923024525585\t 0.020638849411387696\t 3.2666461670327536\t 2.991758015636017\n",
            "19 \t [ 0.17409086 -0.16620281]\t 0.08555437215350424\t 0.020638849411387696\t 2.914453905335184\t 2.841222644570919\n",
            "20 \t [ 0.19698963 -0.17177391]\t 0.09781746618240472\t 0.020638849411387696\t 2.4253296140868104\t 2.351879414284688\n"
          ]
        }
      ],
      "source": [
        "### EXACT GP EI GRADIENTS\n",
        "\n",
        "np.random.seed(run_num_3)\n",
        "surrogate_gp_3 = dGaussianProcess(cov_func, optimize=opt)\n",
        "\n",
        "gp_3 = dGPGO_gp(surrogate_gp_3, Acquisition_grad(util_gp), objfunc, param)\n",
        "gp_3.run(init_evals=n_init, max_iter=iters)\n"
      ]
    },
    {
      "cell_type": "code",
      "execution_count": 16,
      "metadata": {
        "id": "hOtG-2sCGCKS",
        "colab": {
          "base_uri": "https://localhost:8080/"
        },
        "outputId": "fe0f94b9-28d4-49b8-cb46-564a061e731f"
      },
      "outputs": [
        {
          "output_type": "stream",
          "name": "stdout",
          "text": [
            "Evaluation \t Proposed point \t  Current eval. \t  Best eval. \t        Exact EI: StdDev. x \t Approx EI: StdDev. x \n",
            "init\t [4.78238555 0.48365823]\t 23.33906213310676\t 7.289910254474112\t    \t    \n",
            "init\t [4.84028785 2.19971578]\t 33.10588541607836\t 7.289910254474112\t    \t    \n",
            "init\t [ 2.02474316 -2.90724357]\t 21.003715175118646\t 7.289910254474112\t    \t    \n",
            "init\t [ 4.87705042 -5.05620219]\t 74.91598187475032\t 7.289910254474112\t    \t    \n",
            "init\t [-2.52946061 -0.66773471]\t 7.289910254474112\t 7.289910254474112\t    \t    \n",
            "1  \t [-1.14362514  4.64615262]\t 44.481346743661575\t 7.289910254474112\t 2.9160309599087104\t 3.8217678725355855\n",
            "2  \t [-5.12 -5.12]\t 78.64320000000001\t 7.289910254474112\t 3.6941402497674853\t 3.610537251250352\n",
            "3  \t [-0.9772831 -5.12     ]\t 53.38388225290658\t 7.289910254474112\t 3.5172193743490783\t 3.711135803421386\n",
            "\u001b[1m\u001b[92m4\u001b[0m\t \u001b[1m\u001b[92m[0.61262941 1.13479131]\u001b[0m\t \u001b[1m\u001b[92m2.950817435087264\u001b[0m\t \u001b[1m\u001b[92m2.950817435087264\u001b[0m\t \u001b[1m\u001b[92m3.213597652615168\u001b[0m\t \u001b[1m\u001b[92m3.4189480861208605\u001b[0m\n",
            "5  \t [-5.12        2.58975774]\t 39.62809034363863\t 2.950817435087264\t 2.885579183484972\t 3.2535728827284034\n",
            "6  \t [-5.09648932 -1.57948958]\t 30.96377804105198\t 2.950817435087264\t 3.1119779425562952\t 3.0850076347882323\n",
            "7  \t [3.00661713 5.12      ]\t 61.46854655472272\t 2.950817435087264\t 2.457954749333772\t 2.276378600362925\n",
            "8  \t [-2.05255935  1.69411264]\t 9.953035177662326\t 2.950817435087264\t 2.5943694702555518\t 2.430272408839391\n",
            "\u001b[1m\u001b[92m9\u001b[0m\t \u001b[1m\u001b[92m[-0.22716402 -0.67097205]\u001b[0m\t \u001b[1m\u001b[92m0.9520104856369708\u001b[0m\t \u001b[1m\u001b[92m0.9520104856369708\u001b[0m\t \u001b[1m\u001b[92m2.6503130120021403\u001b[0m\t \u001b[1m\u001b[92m2.8399746508759267\u001b[0m\n",
            "10 \t [1.79334439 0.53693162]\t 3.7926752520155036\t 0.9520104856369708\t 3.5859605598777957\t 3.57570533980508\n",
            "11 \t [-0.64266435 -1.59210494]\t 5.482613752474002\t 0.9520104856369708\t 3.1197756234437475\t 3.560689786159411\n",
            "12 \t [ 5.07434269 -1.97036271]\t 33.513612161321504\t 0.9520104856369708\t 2.946603035260622\t 3.418944008713308\n",
            "\u001b[1m\u001b[92m13\u001b[0m\t \u001b[1m\u001b[92m[ 0.21207905 -0.19304105]\u001b[0m\t \u001b[1m\u001b[92m0.11950721915031083\u001b[0m\t \u001b[1m\u001b[92m0.11950721915031083\u001b[0m\t \u001b[1m\u001b[92m2.8312585504629015\u001b[0m\t \u001b[1m\u001b[92m3.2885961402497794\u001b[0m\n",
            "14 \t [1.25098941 2.56545249]\t 14.72806749542708\t 0.11950721915031083\t 2.691878516643452\t 2.676756856268261\n",
            "15 \t [ 0.35195344 -0.16111793]\t 0.17578919843518678\t 0.11950721915031083\t 3.00921307809586\t 3.0952735233230473\n",
            "\u001b[1m\u001b[92m16\u001b[0m\t \u001b[1m\u001b[92m[ 0.17221108 -0.02117099]\u001b[0m\t \u001b[1m\u001b[92m0.030553077051286587\u001b[0m\t \u001b[1m\u001b[92m0.030553077051286587\u001b[0m\t \u001b[1m\u001b[92m2.938375301846538\u001b[0m\t \u001b[1m\u001b[92m3.0425423506375946\u001b[0m\n",
            "17 \t [ 0.70092284 -0.41202995]\t 0.8308301779869051\t 0.030553077051286587\t 2.7546682445828083\t 2.886399551885836\n",
            "18 \t [-2.44622276 -2.88513669]\t 22.632033236095147\t 0.030553077051286587\t 2.8495763160276897\t 3.1028837552480213\n",
            "19 \t [ 0.36682313 -0.23240727]\t 0.24258548349556103\t 0.030553077051286587\t 2.92697203134582\t 3.136533498981245\n",
            "20 \t [-0.50634361  0.58102725]\t 0.9315691936309234\t 0.030553077051286587\t 2.6857162472442884\t 3.1538696302210525\n"
          ]
        }
      ],
      "source": [
        "### EXACT GP EI GRADIENTS\n",
        "\n",
        "np.random.seed(run_num_4)\n",
        "surrogate_gp_4 = dGaussianProcess(cov_func, optimize=opt)\n",
        "\n",
        "gp_4= dGPGO_gp(surrogate_gp_4, Acquisition_grad(util_gp), objfunc, param)\n",
        "gp_4.run(init_evals=n_init, max_iter=iters)\n"
      ]
    },
    {
      "cell_type": "code",
      "execution_count": 17,
      "metadata": {
        "id": "JF_SxcEvGCOl",
        "colab": {
          "base_uri": "https://localhost:8080/"
        },
        "outputId": "4cf22096-c767-42af-dc26-9bf79c0d21c0"
      },
      "outputs": [
        {
          "output_type": "stream",
          "name": "stdout",
          "text": [
            "Evaluation \t Proposed point \t  Current eval. \t  Best eval. \t        Exact EI: StdDev. x \t Approx EI: StdDev. x \n",
            "init\t [-2.84678993  3.79629882]\t 36.927982283829365\t 2.6327313115208373\t    \t    \n",
            "init\t [-3.00319585  4.2865757 ]\t 45.76864772649561\t 2.6327313115208373\t    \t    \n",
            "init\t [-0.11866943  1.14425716]\t 2.6327313115208373\t 2.6327313115208373\t    \t    \n",
            "init\t [2.72289645 0.1886002 ]\t 7.485305147100433\t 2.6327313115208373\t    \t    \n",
            "init\t [-2.08076286 -3.19773462]\t 24.780587476435763\t 2.6327313115208373\t    \t    \n",
            "1  \t [ 4.32895605 -5.09732646]\t 70.70533460957368\t 2.6327313115208373\t 4.41822901128693\t 4.499439960007176\n",
            "2  \t [5.12 5.12]\t 78.64320000000001\t 2.6327313115208373\t 4.325609223196669\t 3.928369913497632\n",
            "3  \t [-5.12       -0.29642107]\t 26.390130906870272\t 2.6327313115208373\t 3.3559403839575737\t 3.6433785072186846\n",
            "4  \t [1.00930079 5.12      ]\t 53.4474880829955\t 2.6327313115208373\t 3.369004338030763\t 3.325394358259418\n",
            "5  \t [-5.12 -5.12]\t 78.64320000000001\t 2.6327313115208373\t 3.243336221868366\t 3.4234605725371368\n",
            "6  \t [ 1.33367086 -2.63160902]\t 15.629410054968467\t 2.6327313115208373\t 3.2384165139668966\t 3.3816715192076323\n",
            "7  \t [5.12       1.35503819]\t 29.8866569770837\t 2.6327313115208373\t 2.5266532300558007\t 2.767485721241969\n",
            "8  \t [ 5.12       -1.79977093]\t 32.6927507994572\t 2.6327313115208373\t 3.0419476867447006\t 3.1824402637758773\n",
            "9  \t [-1.94002873  0.12603859]\t 3.79548293395145\t 2.6327313115208373\t 2.736541591918308\t 2.429075581633888\n",
            "10 \t [0.65918955 2.1532113 ]\t 9.707168693395099\t 2.6327313115208373\t 2.843248237168155\t 2.7846805940959407\n",
            "11 \t [-0.19195154 -5.12      ]\t 52.46564539371727\t 2.6327313115208373\t 2.8936158971186354\t 2.7632531596751746\n",
            "12 \t [-5.12        2.18326161]\t 35.747662501113936\t 2.6327313115208373\t 2.348051137372657\t 2.3630904188519164\n",
            "\u001b[1m\u001b[92m13\u001b[0m\t \u001b[1m\u001b[92m[ 0.32316263 -0.55706051]\u001b[0m\t \u001b[1m\u001b[92m0.7250669025976992\u001b[0m\t \u001b[1m\u001b[92m0.7250669025976992\u001b[0m\t \u001b[1m\u001b[92m2.8434880308255934\u001b[0m\t \u001b[1m\u001b[92m2.5441949542507993\u001b[0m\n",
            "\u001b[1m\u001b[92m14\u001b[0m\t \u001b[1m\u001b[92m[-0.04677867 -0.49586489]\u001b[0m\t \u001b[1m\u001b[92m0.4939522305963353\u001b[0m\t \u001b[1m\u001b[92m0.4939522305963353\u001b[0m\t \u001b[1m\u001b[92m2.4451075474792314\u001b[0m\t \u001b[1m\u001b[92m2.072903571271972\u001b[0m\n",
            "\u001b[1m\u001b[92m15\u001b[0m\t \u001b[1m\u001b[92m[-0.01565707 -0.46983313]\u001b[0m\t \u001b[1m\u001b[92m0.44173148239695315\u001b[0m\t \u001b[1m\u001b[92m0.44173148239695315\u001b[0m\t \u001b[1m\u001b[92m2.4967913262169525\u001b[0m\t \u001b[1m\u001b[92m2.4684129989516044\u001b[0m\n",
            "16 \t [ 0.05137111 -0.49625718]\t 0.49518136840334126\t 0.44173148239695315\t 2.696185278757188\t 2.737152672805659\n",
            "\u001b[1m\u001b[92m17\u001b[0m\t \u001b[1m\u001b[92m[-0.14954566 -0.43412606]\u001b[0m\t \u001b[1m\u001b[92m0.39929478295236764\u001b[0m\t \u001b[1m\u001b[92m0.39929478295236764\u001b[0m\t \u001b[1m\u001b[92m2.6235550418137645\u001b[0m\t \u001b[1m\u001b[92m2.5335346431642822\u001b[0m\n",
            "18 \t [ 0.02961306 -0.48615489]\t 0.47357008945148377\t 0.39929478295236764\t 2.6019398286689133\t 2.820490905862038\n",
            "19 \t [-0.12271311 -0.44360692]\t 0.40863271343097696\t 0.39929478295236764\t 2.626579281476516\t 2.5808993772621323\n",
            "20 \t [ 0.08672132 -0.4893223 ]\t 0.48639322337053675\t 0.39929478295236764\t 2.8796142020646194\t 2.7126350127860634\n"
          ]
        }
      ],
      "source": [
        "### EXACT GP EI GRADIENTS\n",
        "\n",
        "np.random.seed(run_num_5)\n",
        "surrogate_gp_5 = dGaussianProcess(cov_func, optimize=opt)\n",
        "\n",
        "gp_5 = dGPGO_gp(surrogate_gp_5, Acquisition_grad(util_gp), objfunc, param)\n",
        "gp_5.run(init_evals=n_init, max_iter=iters)\n"
      ]
    },
    {
      "cell_type": "code",
      "execution_count": 18,
      "metadata": {
        "id": "-kDxZtJsGCR3",
        "colab": {
          "base_uri": "https://localhost:8080/"
        },
        "outputId": "261c882d-33c3-4fe8-810f-95f6185f85f7"
      },
      "outputs": [
        {
          "output_type": "stream",
          "name": "stdout",
          "text": [
            "Evaluation \t Proposed point \t  Current eval. \t  Best eval. \t        Exact EI: StdDev. x \t Approx EI: StdDev. x \n",
            "init\t [ 4.02288795 -1.72052679]\t 22.104052359713652\t 1.4757178799086357\t    \t    \n",
            "init\t [ 3.28938622 -4.69302655]\t 54.869058151382724\t 1.4757178799086357\t    \t    \n",
            "init\t [-4.0175956   0.97333314]\t 18.035829177697114\t 1.4757178799086357\t    \t    \n",
            "init\t [ 0.30532979 -0.83141193]\t 1.4757178799086357\t 1.4757178799086357\t    \t    \n",
            "init\t [-1.68542362  1.25459899]\t 5.988690020231891\t 1.4757178799086357\t    \t    \n",
            "1  \t [2.19009888 5.12      ]\t 57.22533310680345\t 1.4757178799086357\t 3.8938233923482723\t 3.857012510005505\n",
            "2  \t [-5.12 -5.12]\t 78.64320000000001\t 1.4757178799086357\t 3.8359252616388826\t 3.8529075592463884\n",
            "3  \t [-3.01245635  5.12      ]\t 61.5036932630161\t 1.4757178799086357\t 3.5810487068786037\t 3.5820889271597576\n",
            "4  \t [5.12       2.13583625]\t 35.33799293336946\t 1.4757178799086357\t 3.262782922873095\t 3.2687448732841995\n",
            "5  \t [-0.90911896 -4.20509113]\t 36.19208013970827\t 1.4757178799086357\t 2.774296441864668\t 2.7723729266290564\n",
            "6  \t [1.63486318 1.19537152]\t 5.530603757958224\t 1.4757178799086357\t 3.145767191870962\t 3.2292943293034253\n",
            "7  \t [-3.72999349 -1.8976564 ]\t 21.115051015832393\t 1.4757178799086357\t 3.2671976515714403\t 3.2021002042850646\n",
            "8  \t [-0.09667167  2.83732535]\t 16.11017567180349\t 1.4757178799086357\t 3.0798358813027944\t 2.943965788689576\n",
            "9  \t [ 1.22073267 -1.98751023]\t 9.390582057083211\t 1.4757178799086357\t 2.587080604770479\t 2.7195448647147615\n",
            "10 \t [5.12 5.12]\t 78.64320000000001\t 1.4757178799086357\t 3.043554255160499\t 3.1496031942830496\n",
            "11 \t [3.03902707 0.31355663]\t 9.432321078391402\t 1.4757178799086357\t 3.1823358815368885\t 3.361049590233804\n",
            "12 \t [-0.55365815 -1.24856417]\t 3.4243623452107497\t 1.4757178799086357\t 2.7234471062283885\t 2.8401707236859584\n",
            "\u001b[1m\u001b[92m13\u001b[0m\t \u001b[1m\u001b[92m[ 0.06469966 -0.01994169]\u001b[0m\t \u001b[1m\u001b[92m0.004981388009910454\u001b[0m\t \u001b[1m\u001b[92m0.004981388009910454\u001b[0m\t \u001b[1m\u001b[92m2.593276878618822\u001b[0m\t \u001b[1m\u001b[92m2.4549549910689725\u001b[0m\n",
            "14 \t [ 0.45403122 -0.17034845]\t 0.26418154467006144\t 0.004981388009910454\t 2.8818130171585805\t 3.052053390351934\n",
            "15 \t [-5.12        2.92730527]\t 43.35263229552437\t 0.004981388009910454\t 2.8265092270888217\t 2.8277235104686635\n",
            "16 \t [-0.58995374  0.23482222]\t 0.45832835644719827\t 0.004981388009910454\t 2.7875903548726386\t 2.9851055246665803\n",
            "17 \t [ 0.55635799 -0.21323858]\t 0.4004755904978287\t 0.004981388009910454\t 3.3099728302524687\t 3.4129209692892757\n",
            "18 \t [-0.21355561  4.5802006 ]\t 42.002081128837546\t 0.004981388009910454\t 3.0933951992356663\t 3.145574180066196\n",
            "19 \t [-1.47319826 -0.04591742]\t 2.174529936885632\t 0.004981388009910454\t 3.0557967205455094\t 3.006475750456877\n",
            "20 \t [ 0.2733106  -0.02886199]\t 0.07636471130294312\t 0.004981388009910454\t 2.9769144160643553\t 2.8797858372831433\n"
          ]
        }
      ],
      "source": [
        "### EXACT GP EI GRADIENTS\n",
        "\n",
        "np.random.seed(run_num_6)\n",
        "surrogate_gp_6 = dGaussianProcess(cov_func, optimize=opt)\n",
        "\n",
        "gp_6 = dGPGO_gp(surrogate_gp_6, Acquisition_grad(util_gp), objfunc, param)\n",
        "gp_6.run(init_evals=n_init, max_iter=iters)\n"
      ]
    },
    {
      "cell_type": "code",
      "execution_count": 19,
      "metadata": {
        "id": "fKB8MCD_GCVI",
        "colab": {
          "base_uri": "https://localhost:8080/"
        },
        "outputId": "aed3fffc-eefd-46e0-8335-055a3b2d465f"
      },
      "outputs": [
        {
          "output_type": "stream",
          "name": "stdout",
          "text": [
            "Evaluation \t Proposed point \t  Current eval. \t  Best eval. \t        Exact EI: StdDev. x \t Approx EI: StdDev. x \n",
            "init\t [-4.33860312  2.86636843]\t 35.25561298730891\t 5.622520458601941\t    \t    \n",
            "init\t [-0.63068947  2.28828342]\t 10.870251237170722\t 5.622520458601941\t    \t    \n",
            "init\t [4.8946126  0.39419771]\t 24.268016205804518\t 5.622520458601941\t    \t    \n",
            "init\t [ 0.01147355 -4.38219639]\t 38.407422120416236\t 5.622520458601941\t    \t    \n",
            "init\t [-2.37118484e+00 -1.20319155e-03]\t 5.622520458601941\t 5.622520458601941\t    \t    \n",
            "1  \t [-5.12 -5.12]\t 78.64320000000001\t 5.622520458601941\t 3.301788783268242\t 3.377456193469764\n",
            "2  \t [3.47906186 5.12      ]\t 64.53267142431227\t 5.622520458601941\t 3.687463003663664\t 3.7176658546865755\n",
            "3  \t [ 4.60106308 -4.08987229]\t 54.62389212361763\t 5.622520458601941\t 3.3012614952810666\t 3.3304438224345527\n",
            "4  \t [-4.02558214 -1.33646422]\t 19.777584798449002\t 5.622520458601941\t 2.889414688252331\t 3.046307140328312\n",
            "\u001b[1m\u001b[92m5\u001b[0m\t \u001b[1m\u001b[92m[ 1.26778926 -0.69601606]\u001b[0m\t \u001b[1m\u001b[92m2.5761663018498875\u001b[0m\t \u001b[1m\u001b[92m2.5761663018498875\u001b[0m\t \u001b[1m\u001b[92m3.0751949422758127\u001b[0m\t \u001b[1m\u001b[92m3.053587821576109\u001b[0m\n",
            "6  \t [0.34404585 4.6048711 ]\t 42.5280432433541\t 2.5761663018498875\t 3.1547522189260713\t 3.2560436820718492\n",
            "7  \t [2.19367246 1.12486712]\t 7.342850946751342\t 2.5761663018498875\t 2.458190913500452\t 2.7082214946621037\n",
            "8  \t [-2.6654517  5.12     ]\t 59.53343279143426\t 2.5761663018498875\t 2.8781547585127467\t 2.8954755796040303\n",
            "\u001b[1m\u001b[92m9\u001b[0m\t \u001b[1m\u001b[92m[-0.63231707 -0.7010451 ]\u001b[0m\t \u001b[1m\u001b[92m1.3827533497906126\u001b[0m\t \u001b[1m\u001b[92m1.3827533497906126\u001b[0m\t \u001b[1m\u001b[92m3.1672781655614797\u001b[0m\t \u001b[1m\u001b[92m3.193797764066085\u001b[0m\n",
            "10 \t [ 1.89198238 -1.75692406]\t 9.75316164813467\t 1.3827533497906126\t 3.0778224586918106\t 3.4604951584665593\n",
            "11 \t [-0.14026854 -1.69069788]\t 5.736593906789096\t 1.3827533497906126\t 2.967876725086987\t 2.8311738190031637\n",
            "12 \t [-2.46835921 -3.39678216]\t 29.169055305468568\t 1.3827533497906126\t 3.2938250824942235\t 3.387495943261549\n",
            "13 \t [5.12       2.88474555]\t 42.857913725706496\t 1.3827533497906126\t 3.2091469108111497\t 3.020366142566974\n",
            "\u001b[1m\u001b[92m14\u001b[0m\t \u001b[1m\u001b[92m[0.09126454 0.05811885]\u001b[0m\t \u001b[1m\u001b[92m0.015084817170421344\u001b[0m\t \u001b[1m\u001b[92m0.015084817170421344\u001b[0m\t \u001b[1m\u001b[92m2.517303603572276\u001b[0m\t \u001b[1m\u001b[92m2.6689965816219727\u001b[0m\n",
            "15 \t [0.27367214 0.02391846]\t 0.07604062506820662\t 0.015084817170421344\t 3.21354406834117\t 3.2957865323291315\n",
            "16 \t [0.21220108 0.06611211]\t 0.05377092059278732\t 0.015084817170421344\t 2.4247394799901696\t 2.435614273598745\n",
            "17 \t [ 0.61587767 -0.1438755 ]\t 0.4207056240603707\t 0.015084817170421344\t 2.277745649550875\t 2.2513039511232606\n",
            "18 \t [-0.34953912  0.29067286]\t 0.291159018657531\t 0.015084817170421344\t 3.204134326350869\t 3.2337673099151285\n",
            "19 \t [0.26325878 0.04877391]\t 0.07406297470094311\t 0.015084817170421344\t 3.0583543043002956\t 3.0914368624149247\n",
            "20 \t [0.33216602 0.01268527]\t 0.11065610025139994\t 0.015084817170421344\t 2.936925326352958\t 3.0887306242615375\n"
          ]
        }
      ],
      "source": [
        "### EXACT GP EI GRADIENTS\n",
        "\n",
        "np.random.seed(run_num_7)\n",
        "surrogate_gp_7 = dGaussianProcess(cov_func, optimize=opt)\n",
        "\n",
        "gp_7 = dGPGO_gp(surrogate_gp_7, Acquisition_grad(util_gp), objfunc, param)\n",
        "gp_7.run(init_evals=n_init, max_iter=iters)\n"
      ]
    },
    {
      "cell_type": "code",
      "execution_count": 20,
      "metadata": {
        "id": "4unvifF-GCXp",
        "colab": {
          "base_uri": "https://localhost:8080/"
        },
        "outputId": "a9750d91-85ee-4645-8758-22fadbfe2d3a"
      },
      "outputs": [
        {
          "output_type": "stream",
          "name": "stdout",
          "text": [
            "Evaluation \t Proposed point \t  Current eval. \t  Best eval. \t        Exact EI: StdDev. x \t Approx EI: StdDev. x \n",
            "init\t [3.82391708 4.79785639]\t 60.661193695854244\t 0.1518306274298758\t    \t    \n",
            "init\t [3.78055209 0.31596228]\t 14.492238445440277\t 0.1518306274298758\t    \t    \n",
            "init\t [-2.73686192 -5.00327624]\t 57.555959528959804\t 0.1518306274298758\t    \t    \n",
            "init\t [-0.7119993  -0.99992207]\t 2.506631309190485\t 0.1518306274298758\t    \t    \n",
            "init\t [ 0.23218863 -0.22126801]\t 0.1518306274298758\t 0.1518306274298758\t    \t    \n",
            "1  \t [0.03252479 1.99788883]\t 7.984177400212775\t 0.1518306274298758\t 3.0082400260186315\t 3.749786221681577\n",
            "2  \t [-5.03492225  2.95509263]\t 42.81558690689544\t 0.1518306274298758\t 3.0734788919679232\t 3.4551867222608723\n",
            "3  \t [-1.7372006  5.12     ]\t 55.44666591362916\t 0.1518306274298758\t 2.80062561605492\t 3.2063813725670296\n",
            "4  \t [ 2.61852195 -4.65214283]\t 50.14152293437924\t 0.1518306274298758\t 3.066081627137047\t 3.830791582752968\n",
            "5  \t [-5.12       -1.44108206]\t 30.3678349887081\t 0.1518306274298758\t 3.0472514233628045\t 3.333872473894134\n",
            "6  \t [ 5.12       -2.39414844]\t 37.67829347872958\t 0.1518306274298758\t 2.950007503820194\t 3.2608767160677266\n",
            "7  \t [ 1.09752977 -0.76057182]\t 2.3615105663958067\t 0.1518306274298758\t 2.904309807364441\t 2.8977032469075796\n",
            "8  \t [-0.35935394 -2.71598206]\t 14.882252307967375\t 0.1518306274298758\t 3.2516762061121907\t 3.0086002637839293\n",
            "9  \t [-1.09345147 -0.11137848]\t 1.2204464504972452\t 0.1518306274298758\t 2.79217097367444\t 2.8408756236289263\n",
            "10 \t [-2.56823139  0.71417796]\t 7.61591276648631\t 0.1518306274298758\t 3.1103865140291145\t 2.811616682510623\n",
            "11 \t [2.05073465 2.31473636]\t 14.921521407177389\t 0.1518306274298758\t 2.8733461819914043\t 3.0838394671707405\n",
            "\u001b[1m\u001b[92m12\u001b[0m\t \u001b[1m\u001b[92m[-0.04490861 -0.0566881 ]\u001b[0m\t \u001b[1m\u001b[92m0.008443864600419721\u001b[0m\t \u001b[1m\u001b[92m0.008443864600419721\u001b[0m\t \u001b[1m\u001b[92m2.502992031936917\u001b[0m\t \u001b[1m\u001b[92m2.7113680531729423\u001b[0m\n",
            "13 \t [ 0.5438975  -0.21050684]\t 0.3844507443796906\t 0.008443864600419721\t 2.774436687635822\t 3.2349899642188564\n",
            "14 \t [5.12       2.22226522]\t 36.09132538237591\t 0.008443864600419721\t 3.0422011851817587\t 3.349088426402884\n",
            "15 \t [-0.08964748 -0.01910683]\t 0.008766813095790858\t 0.008443864600419721\t 2.8375056734054245\t 2.617857036454978\n",
            "16 \t [-0.42187245  0.12624346]\t 0.2098511906329513\t 0.008443864600419721\t 2.671833619724225\t 2.815685309746132\n",
            "17 \t [ 2.0919825  -1.57072072]\t 9.310717948760004\t 0.008443864600419721\t 3.069559004979558\t 3.1952498150883013\n",
            "18 \t [ 0.34307172 -0.14977665]\t 0.16256429002770917\t 0.008443864600419721\t 3.116456725376145\t 3.3270930753745027\n",
            "19 \t [ 0.13122495 -0.07430891]\t 0.028263615766367836\t 0.008443864600419721\t 2.348357330241703\t 2.976217349639873\n",
            "20 \t [-0.29503101  0.09081275]\t 0.10353720576719057\t 0.008443864600419721\t 2.653277962376879\t 2.9557254125830212\n"
          ]
        }
      ],
      "source": [
        "### EXACT GP EI GRADIENTS\n",
        "\n",
        "np.random.seed(run_num_8)\n",
        "surrogate_gp_8 = dGaussianProcess(cov_func, optimize=opt)\n",
        "\n",
        "gp_8 = dGPGO_gp(surrogate_gp_8, Acquisition_grad(util_gp), objfunc, param)\n",
        "gp_8.run(init_evals=n_init, max_iter=iters)\n"
      ]
    },
    {
      "cell_type": "code",
      "execution_count": 21,
      "metadata": {
        "id": "85OIXcg7GCaJ",
        "colab": {
          "base_uri": "https://localhost:8080/"
        },
        "outputId": "7bb55ca9-9f9d-42a2-c81b-357b349635c9"
      },
      "outputs": [
        {
          "output_type": "stream",
          "name": "stdout",
          "text": [
            "Evaluation \t Proposed point \t  Current eval. \t  Best eval. \t        Exact EI: StdDev. x \t Approx EI: StdDev. x \n",
            "init\t [-5.01376866  0.01919582]\t 25.138613177506063\t 14.00341364504739\t    \t    \n",
            "init\t [-0.04328148 -3.74958562]\t 28.12065798163534\t 14.00341364504739\t    \t    \n",
            "init\t [-3.66478248 -2.88195916]\t 30.04200788009657\t 14.00341364504739\t    \t    \n",
            "init\t [-0.83447623 -2.57944404]\t 14.00341364504739\t 14.00341364504739\t    \t    \n",
            "init\t [-4.25922917 -1.58209393]\t 23.14707552082245\t 14.00341364504739\t    \t    \n",
            "1  \t [5.12 5.12]\t 78.64320000000001\t 14.00341364504739\t 2.97471277204924\t 2.9015048208642384\n",
            "2  \t [-0.71921853  4.11475232]\t 34.37964852502853\t 14.00341364504739\t 3.2873440621875427\t 3.6925402559920446\n",
            "3  \t [ 5.12       -1.23922894]\t 29.28577674150329\t 14.00341364504739\t 3.2332348955757384\t 4.0445464755427265\n",
            "\u001b[1m\u001b[92m4\u001b[0m\t \u001b[1m\u001b[92m[1.22324519 0.71921471]\u001b[0m\t \u001b[1m\u001b[92m2.530868410983344\u001b[0m\t \u001b[1m\u001b[92m2.530868410983344\u001b[0m\t \u001b[1m\u001b[92m3.2510640150500616\u001b[0m\t \u001b[1m\u001b[92m3.665010110653459\u001b[0m\n",
            "5  \t [3.49274801 1.82644176]\t 18.87106772816955\t 2.530868410983344\t 3.349317942500236\t 3.8002239689771926\n",
            "6  \t [-4.35069339  3.526827  ]\t 43.80555037399521\t 2.530868410983344\t 2.754198057287038\t 3.508898995260379\n",
            "\u001b[1m\u001b[92m7\u001b[0m\t \u001b[1m\u001b[92m[-1.17456136  0.40912522]\u001b[0m\t \u001b[1m\u001b[92m1.7143612947983011\u001b[0m\t \u001b[1m\u001b[92m1.7143612947983011\u001b[0m\t \u001b[1m\u001b[92m2.6887141734888025\u001b[0m\t \u001b[1m\u001b[92m2.910866231251054\u001b[0m\n",
            "8  \t [ 2.90520972 -3.39396042]\t 31.47817810470231\t 1.7143612947983011\t 2.660879600034344\t 3.130413769762295\n",
            "9  \t [-5.12 -5.12]\t 78.64320000000001\t 1.7143612947983011\t 3.1167060275631386\t 2.880534185853155\n",
            "10 \t [ 1.05838044 -0.64077017]\t 1.9413419901576958\t 1.7143612947983011\t 2.710482613459823\t 2.606902321188428\n",
            "11 \t [2.01657361 5.02414916]\t 54.55071861113195\t 1.7143612947983011\t 2.748999103625919\t 3.1342846799246398\n",
            "12 \t [-2.21081841  1.2752538 ]\t 8.140262575531114\t 1.7143612947983011\t 2.6967179325972728\t 2.874045475885869\n",
            "\u001b[1m\u001b[92m13\u001b[0m\t \u001b[1m\u001b[92m[-0.32894352  0.20978107]\u001b[0m\t \u001b[1m\u001b[92m0.1962200322627102\u001b[0m\t \u001b[1m\u001b[92m0.1962200322627102\u001b[0m\t \u001b[1m\u001b[92m2.0782164232985227\u001b[0m\t \u001b[1m\u001b[92m1.6679745490649902\u001b[0m\n",
            "\u001b[1m\u001b[92m14\u001b[0m\t \u001b[1m\u001b[92m[-0.07171916 -0.24626247]\u001b[0m\t \u001b[1m\u001b[92m0.12643404189248625\u001b[0m\t \u001b[1m\u001b[92m0.12643404189248625\u001b[0m\t \u001b[1m\u001b[92m2.5350260501023074\u001b[0m\t \u001b[1m\u001b[92m2.8896287691732314\u001b[0m\n",
            "15 \t [-0.33983646  0.22755384]\t 0.219050323727435\t 0.12643404189248625\t 2.7148280756003413\t 2.769392504690496\n",
            "16 \t [-0.12743092 -0.23876509]\t 0.1302561717814623\t 0.12643404189248625\t 2.9293421728049216\t 3.3993351594494556\n",
            "17 \t [ 0.03093222 -0.35396003]\t 0.25153220791003367\t 0.12643404189248625\t 2.720545232755947\t 2.668453871206392\n",
            "\u001b[1m\u001b[92m18\u001b[0m\t \u001b[1m\u001b[92m[-0.29853667 -0.070888  ]\u001b[0m\t \u001b[1m\u001b[92m0.09917436315177403\u001b[0m\t \u001b[1m\u001b[92m0.09917436315177403\u001b[0m\t \u001b[1m\u001b[92m2.6071964870811595\u001b[0m\t \u001b[1m\u001b[92m2.6840376471051925\u001b[0m\n",
            "19 \t [-0.09009198 -0.27107664]\t 0.15508165154511314\t 0.09917436315177403\t 2.829700712552493\t 2.880252930354457\n",
            "20 \t [ 0.03658418 -0.35862612]\t 0.2585637908330661\t 0.09917436315177403\t 3.055712864128313\t 3.288920431837102\n"
          ]
        }
      ],
      "source": [
        "### EXACT GP EI GRADIENTS\n",
        "\n",
        "np.random.seed(run_num_9)\n",
        "surrogate_gp_9 = dGaussianProcess(cov_func, optimize=opt)\n",
        "\n",
        "gp_9 = dGPGO_gp(surrogate_gp_9, Acquisition_grad(util_gp), objfunc, param)\n",
        "gp_9.run(init_evals=n_init, max_iter=iters)\n"
      ]
    },
    {
      "cell_type": "code",
      "execution_count": 22,
      "metadata": {
        "id": "QQBR-qJPGCcp",
        "colab": {
          "base_uri": "https://localhost:8080/"
        },
        "outputId": "5e1c1e33-d6e1-40a1-8f7d-9d56147364c5"
      },
      "outputs": [
        {
          "output_type": "stream",
          "name": "stdout",
          "text": [
            "Evaluation \t Proposed point \t  Current eval. \t  Best eval. \t        Exact EI: StdDev. x \t Approx EI: StdDev. x \n",
            "init\t [ 2.77832339 -4.90750004]\t 55.886194099964676\t 14.855028828430257\t    \t    \n",
            "init\t [1.36855793 2.54775176]\t 14.855028828430257\t 14.855028828430257\t    \t    \n",
            "init\t [-0.01528819 -2.81808235]\t 15.883409988980564\t 14.855028828430257\t    \t    \n",
            "init\t [-3.09183626  2.66783449]\t 23.79413325191142\t 14.855028828430257\t    \t    \n",
            "init\t [-3.38830503 -4.2154003 ]\t 47.019810427389544\t 14.855028828430257\t    \t    \n",
            "1  \t [ 5.12       -0.36575711]\t 26.48195652786448\t 14.855028828430257\t 3.5904008134800907\t 3.7809645500304745\n",
            "2  \t [5.12 5.12]\t 78.64320000000001\t 14.855028828430257\t 3.281124488444716\t 3.444164457373556\n",
            "3  \t [-4.19726726 -0.70771609]\t 18.618776591669107\t 14.855028828430257\t 2.7119989973772727\t 3.3160893184259193\n",
            "4  \t [0.20972177 5.12      ]\t 52.47278322104103\t 14.855028828430257\t 3.4685923886852894\t 3.622389677147536\n",
            "\u001b[1m\u001b[92m5\u001b[0m\t \u001b[1m\u001b[92m[ 2.00133395 -0.65417626]\u001b[0m\t \u001b[1m\u001b[92m4.861230722576716\u001b[0m\t \u001b[1m\u001b[92m4.861230722576716\u001b[0m\t \u001b[1m\u001b[92m3.5285633672727847\u001b[0m\t \u001b[1m\u001b[92m3.13042594566837\u001b[0m\n",
            "\u001b[1m\u001b[92m6\u001b[0m\t \u001b[1m\u001b[92m[-1.18244688  0.5322861 ]\u001b[0m\t \u001b[1m\u001b[92m1.9648376049785918\u001b[0m\t \u001b[1m\u001b[92m1.9648376049785918\u001b[0m\t \u001b[1m\u001b[92m3.3040595139382454\u001b[0m\t \u001b[1m\u001b[92m3.1188886869281673\u001b[0m\n",
            "7  \t [4.14049116 2.07595769]\t 25.76286769519988\t 1.9648376049785918\t 3.062568193423912\t 3.0824689670693397\n",
            "\u001b[1m\u001b[92m8\u001b[0m\t \u001b[1m\u001b[92m[ 0.03651737 -0.1054671 ]\u001b[0m\t \u001b[1m\u001b[92m0.02358013639969881\u001b[0m\t \u001b[1m\u001b[92m0.02358013639969881\u001b[0m\t \u001b[1m\u001b[92m2.7989404026442464\u001b[0m\t \u001b[1m\u001b[92m3.3062766513843247\u001b[0m\n",
            "9  \t [-0.88206025 -5.12      ]\t 53.2068302794414\t 0.02358013639969881\t 3.1677900102963945\t 3.166505450160778\n",
            "10 \t [ 0.45630733 -0.43005239]\t 0.5781064882339653\t 0.02358013639969881\t 3.016027614504061\t 3.3380585999580235\n",
            "11 \t [ 0.13738058 -0.20326081]\t 0.10150333944766224\t 0.02358013639969881\t 2.563982380662322\t 2.852305424579194\n",
            "\u001b[1m\u001b[92m12\u001b[0m\t \u001b[1m\u001b[92m[-0.06197703 -0.05899388]\u001b[0m\t \u001b[1m\u001b[92m0.010801708369521715\u001b[0m\t \u001b[1m\u001b[92m0.010801708369521715\u001b[0m\t \u001b[1m\u001b[92m3.0488407860286943\u001b[0m\t \u001b[1m\u001b[92m3.1475724004200005\u001b[0m\n",
            "13 \t [-3.32372707  5.12      ]\t 63.47596162582866\t 0.010801708369521715\t 2.8393739282053634\t 3.0964448410983176\n",
            "14 \t [ 0.08877802 -0.17006366]\t 0.06572483039293525\t 0.010801708369521715\t 2.7994445082795623\t 2.9452829535113425\n",
            "15 \t [-0.27401435  0.15736408]\t 0.12461076790642786\t 0.010801708369521715\t 3.0596341442875223\t 3.069769153511129\n",
            "16 \t [-0.20173751  0.09340814]\t 0.05814818420586729\t 0.010801708369521715\t 3.1770698800277724\t 3.1630216899058974\n",
            "17 \t [-0.11784553 -0.00655924]\t 0.013973616161579846\t 0.010801708369521715\t 2.8943994941844817\t 3.2231996867036563\n",
            "18 \t [-0.23065521  0.10550599]\t 0.07546485355845516\t 0.010801708369521715\t 2.7687461329139174\t 2.6558180544539747\n",
            "19 \t [-0.10555363 -0.02117923]\t 0.012038688601918488\t 0.010801708369521715\t 2.574244604524564\t 2.517017038600471\n",
            "20 \t [ 0.01359054 -0.11487256]\t 0.02657611253793517\t 0.010801708369521715\t 3.1797669829312816\t 3.191966970114408\n"
          ]
        }
      ],
      "source": [
        "### EXACT GP EI GRADIENTS\n",
        "\n",
        "np.random.seed(run_num_10)\n",
        "surrogate_gp_10 = dGaussianProcess(cov_func, optimize=opt)\n",
        "\n",
        "gp_10 = dGPGO_gp(surrogate_gp_10, Acquisition_grad(util_gp), objfunc, param)\n",
        "gp_10.run(init_evals=n_init, max_iter=iters)\n"
      ]
    },
    {
      "cell_type": "code",
      "execution_count": 23,
      "metadata": {
        "id": "JS8ejeQ2GCfi",
        "colab": {
          "base_uri": "https://localhost:8080/"
        },
        "outputId": "74715cc4-345a-4dd4-eeba-4753047e1d08"
      },
      "outputs": [
        {
          "output_type": "stream",
          "name": "stdout",
          "text": [
            "Evaluation \t Proposed point \t  Current eval. \t  Best eval. \t        Exact EI: StdDev. x \t Approx EI: StdDev. x \n",
            "init\t [-3.27403839 -4.92057353]\t 59.14341502486697\t 0.7122141741228657\t    \t    \n",
            "init\t [-0.37664229  2.30332343]\t 10.752457105378047\t 0.7122141741228657\t    \t    \n",
            "init\t [-0.81711509 -0.14922651]\t 0.7122141741228657\t 0.7122141741228657\t    \t    \n",
            "init\t [-4.98912446 -0.12931474]\t 24.924807467825406\t 0.7122141741228657\t    \t    \n",
            "init\t [4.52410012 3.59214172]\t 46.27444610017016\t 0.7122141741228657\t    \t    \n",
            "1  \t [ 3.03550212 -4.46785095]\t 49.13765732819627\t 0.7122141741228657\t 2.686370835414964\t 3.9529838321385635\n",
            "2  \t [ 4.96308933 -0.59491482]\t 25.34010298072491\t 0.7122141741228657\t 2.5495153641901935\t 3.1204325681850396\n",
            "3  \t [-1.19896852  5.12      ]\t 53.86632550764567\t 0.7122141741228657\t 3.203201429859622\t 3.7659259924361743\n",
            "4  \t [ 1.28140813 -1.21714588]\t 4.604894973126546\t 0.7122141741228657\t 2.463900599458722\t 2.6024585826788433\n",
            "5  \t [-1.69216183 -1.61119498]\t 8.05531017348553\t 0.7122141741228657\t 2.789101437496809\t 3.0059910575375954\n",
            "6  \t [-3.56030457  2.61220117]\t 26.322958583188054\t 0.7122141741228657\t 2.809024921585713\t 3.9287319686270545\n",
            "7  \t [-0.05289944 -5.12      ]\t 52.43159835080264\t 0.7122141741228657\t 3.1751253638418198\t 3.4007934129643806\n",
            "8  \t [2.35136716 0.95538154]\t 7.354435291576335\t 0.7122141741228657\t 2.8381679476260695\t 2.905247055325458\n",
            "9  \t [1.69637518 3.88348309]\t 33.04057064875691\t 0.7122141741228657\t 3.0792744489168062\t 3.1262818743697554\n",
            "10 \t [-1.5003829   0.38188818]\t 2.542826008097038\t 0.7122141741228657\t 2.624624314011364\t 3.6926084902385536\n",
            "11 \t [-4.11151594  5.01523014]\t 67.20963012269696\t 0.7122141741228657\t 3.082145105573058\t 3.3355345176902067\n",
            "12 \t [ 5.12       -3.01810581]\t 44.43232534104057\t 0.7122141741228657\t 3.0330782991606395\t 2.8225449082638536\n",
            "\u001b[1m\u001b[92m13\u001b[0m\t \u001b[1m\u001b[92m[-0.16854809  0.0585988 ]\u001b[0m\t \u001b[1m\u001b[92m0.03527609886706972\u001b[0m\t \u001b[1m\u001b[92m0.03527609886706972\u001b[0m\t \u001b[1m\u001b[92m2.856455526285809\u001b[0m\t \u001b[1m\u001b[92m2.9911101038387695\u001b[0m\n",
            "14 \t [-5.12       -2.74649344]\t 41.300852424701446\t 0.03527609886706972\t 3.045742716231113\t 3.1908655990870503\n",
            "15 \t [ 0.30676307 -0.68180338]\t 1.0238152907608464\t 0.03527609886706972\t 2.9120845990846975\t 2.729832966390623\n",
            "16 \t [-0.69509127  0.34472526]\t 0.7208228812719599\t 0.03527609886706972\t 3.167615070544701\t 3.092923134040059\n",
            "17 \t [ 0.19944848 -0.22526259]\t 0.1412661700666658\t 0.03527609886706972\t 2.3799528183234653\t 1.983727903870405\n",
            "\u001b[1m\u001b[92m18\u001b[0m\t \u001b[1m\u001b[92m[-0.02297216  0.00238515]\u001b[0m\t \u001b[1m\u001b[92m0.0005390978180346446\u001b[0m\t \u001b[1m\u001b[92m0.0005390978180346446\u001b[0m\t \u001b[1m\u001b[92m2.8076918435688505\u001b[0m\t \u001b[1m\u001b[92m2.8386432783430515\u001b[0m\n",
            "19 \t [ 0.09679478 -0.10067957]\t 0.029641982961420732\t 0.0005390978180346446\t 2.696340067999619\t 2.521907049200321\n",
            "20 \t [ 0.12457852 -1.59705963]\t 5.116718737322617\t 0.0005390978180346446\t 2.9873095076278706\t 2.8440765844763582\n"
          ]
        }
      ],
      "source": [
        "### EXACT GP EI GRADIENTS\n",
        "\n",
        "np.random.seed(run_num_11)\n",
        "surrogate_gp_11 = dGaussianProcess(cov_func, optimize=opt)\n",
        "\n",
        "gp_11 = dGPGO_gp(surrogate_gp_11, Acquisition_grad(util_gp), objfunc, param)\n",
        "gp_11.run(init_evals=n_init, max_iter=iters)\n"
      ]
    },
    {
      "cell_type": "code",
      "execution_count": 24,
      "metadata": {
        "id": "DXwjUVZ4GCii",
        "colab": {
          "base_uri": "https://localhost:8080/"
        },
        "outputId": "14141eff-f3e7-4311-c457-5a143ed4fb87"
      },
      "outputs": [
        {
          "output_type": "stream",
          "name": "stdout",
          "text": [
            "Evaluation \t Proposed point \t  Current eval. \t  Best eval. \t        Exact EI: StdDev. x \t Approx EI: StdDev. x \n",
            "init\t [-3.54137249  2.45810889]\t 24.62591779447066\t 6.112828495563743\t    \t    \n",
            "init\t [-2.42365424  0.34549139]\t 6.112828495563743\t 6.112828495563743\t    \t    \n",
            "init\t [-4.97075238  4.28796936]\t 61.48174177959852\t 6.112828495563743\t    \t    \n",
            "init\t [ 4.10332011 -4.77776458]\t 62.49130467854858\t 6.112828495563743\t    \t    \n",
            "init\t [ 4.6791612  -3.71497655]\t 49.4966510918416\t 6.112828495563743\t    \t    \n",
            "1  \t [5.12 5.12]\t 78.64320000000001\t 6.112828495563743\t 3.7035472890922616\t 3.664352039607077\n",
            "2  \t [-5.12 -5.12]\t 78.64320000000001\t 6.112828495563743\t 3.603562655993318\t 3.1430042803363434\n",
            "3  \t [2.21060156 0.79247397]\t 6.142789264583078\t 6.112828495563743\t 2.998313901225209\t 2.821666498570226\n",
            "4  \t [0.42823336 4.67757823]\t 43.94285991467947\t 6.112828495563743\t 2.986077824527493\t 3.077144611028562\n",
            "5  \t [-0.4673844  -4.08946082]\t 33.66582782388065\t 6.112828495563743\t 2.622597152841547\t 2.6430972658943697\n",
            "6  \t [-5.12      -1.2826401]\t 29.50473123467627\t 6.112828495563743\t 2.992020575513795\t 3.393544750658489\n",
            "7  \t [5.12       0.31018901]\t 26.406834444413615\t 6.112828495563743\t 2.6683435206278623\t 2.674945114366405\n",
            "\u001b[1m\u001b[92m8\u001b[0m\t \u001b[1m\u001b[92m[ 1.29362762 -1.46505872]\u001b[0m\t \u001b[1m\u001b[92m5.966266537562421\u001b[0m\t \u001b[1m\u001b[92m5.966266537562421\u001b[0m\t \u001b[1m\u001b[92m2.8630230990936294\u001b[0m\t \u001b[1m\u001b[92m2.698863503775921\u001b[0m\n",
            "\u001b[1m\u001b[92m9\u001b[0m\t \u001b[1m\u001b[92m[-0.24014471  1.3964888 ]\u001b[0m\t \u001b[1m\u001b[92m3.9580314320543892\u001b[0m\t \u001b[1m\u001b[92m3.9580314320543892\u001b[0m\t \u001b[1m\u001b[92m2.7594606276681626\u001b[0m\t \u001b[1m\u001b[92m2.69513700954936\u001b[0m\n",
            "10 \t [-2.03030035 -1.7076071 ]\t 9.953963537576193\t 3.9580314320543892\t 2.9109426441731943\t 3.011279640128455\n",
            "11 \t [-2.18025949  5.12      ]\t 57.18233142254921\t 3.9580314320543892\t 2.8173954608337057\t 2.7610691538126093\n",
            "12 \t [2.77328974 2.87539832]\t 24.226966939697988\t 3.9580314320543892\t 2.522395562540817\t 2.4544933038409336\n",
            "\u001b[1m\u001b[92m13\u001b[0m\t \u001b[1m\u001b[92m[-0.09964391 -0.24206493]\u001b[0m\t \u001b[1m\u001b[92m0.12711977239694486\u001b[0m\t \u001b[1m\u001b[92m0.12711977239694486\u001b[0m\t \u001b[1m\u001b[92m2.6398368025910366\u001b[0m\t \u001b[1m\u001b[92m2.7558581620313913\u001b[0m\n",
            "14 \t [-0.0014531 -0.3910717]\t 0.3058762673990645\t 0.12711977239694486\t 2.8478575033886733\t 2.776568454063636\n",
            "15 \t [ 0.12388016 -0.58847836]\t 0.7079598592323372\t 0.12711977239694486\t 3.208702327949627\t 3.133878269608983\n",
            "16 \t [ 2.68059111 -0.83862608]\t 8.59215609636287\t 0.12711977239694486\t 2.943425998668936\t 3.077215325943974\n",
            "17 \t [-0.00437849 -0.47843117]\t 0.45781194105912654\t 0.12711977239694486\t 2.6458813773752143\t 2.661657914566604\n",
            "\u001b[1m\u001b[92m18\u001b[0m\t \u001b[1m\u001b[92m[-0.29298498 -0.07113252]\u001b[0m\t \u001b[1m\u001b[92m0.09595987053002414\u001b[0m\t \u001b[1m\u001b[92m0.09595987053002414\u001b[0m\t \u001b[1m\u001b[92m3.161632406921221\u001b[0m\t \u001b[1m\u001b[92m3.14542063195073\u001b[0m\n",
            "19 \t [ 0.03480576 -0.56364118]\t 0.6365942031999581\t 0.09595987053002414\t 2.8967406940533014\t 2.9899426105426277\n",
            "20 \t [ 0.01741058 -0.51805932]\t 0.5370740463834152\t 0.09595987053002414\t 2.7476607424304946\t 2.4661774449450142\n"
          ]
        }
      ],
      "source": [
        "### EXACT GP EI GRADIENTS\n",
        "\n",
        "np.random.seed(run_num_12)\n",
        "surrogate_gp_12 = dGaussianProcess(cov_func, optimize=opt)\n",
        "\n",
        "gp_12 = dGPGO_gp(surrogate_gp_12, Acquisition_grad(util_gp), objfunc, param)\n",
        "gp_12.run(init_evals=n_init, max_iter=iters)\n"
      ]
    },
    {
      "cell_type": "code",
      "execution_count": 25,
      "metadata": {
        "id": "CphOPndPGClX",
        "colab": {
          "base_uri": "https://localhost:8080/"
        },
        "outputId": "03b6ff25-a494-4527-cc46-5fcfe836a71c"
      },
      "outputs": [
        {
          "output_type": "stream",
          "name": "stdout",
          "text": [
            "Evaluation \t Proposed point \t  Current eval. \t  Best eval. \t        Exact EI: StdDev. x \t Approx EI: StdDev. x \n",
            "init\t [ 2.84367268 -2.68757791]\t 22.532624345992815\t 12.440151302029248\t    \t    \n",
            "init\t [3.32061217 4.76927179]\t 56.51837198799\t 12.440151302029248\t    \t    \n",
            "init\t [ 4.83943541 -0.47667971]\t 23.87458213765974\t 12.440151302029248\t    \t    \n",
            "init\t [1.11659482 2.82139151]\t 17.16728408945556\t 12.440151302029248\t    \t    \n",
            "init\t [1.45012065 2.27346667]\t 12.440151302029248\t 12.440151302029248\t    \t    \n",
            "1  \t [-4.98875265 -5.12      ]\t 77.31645300895626\t 12.440151302029248\t 2.797645369960195\t 3.166668561947521\n",
            "2  \t [-4.39199693  2.0756854 ]\t 27.906576763179505\t 12.440151302029248\t 2.676785498513581\t 3.621381099734055\n",
            "\u001b[1m\u001b[92m3\u001b[0m\t \u001b[1m\u001b[92m[-2.15996326 -1.35939384]\u001b[0m\t \u001b[1m\u001b[92m8.36134453142119\u001b[0m\t \u001b[1m\u001b[92m8.36134453142119\u001b[0m\t \u001b[1m\u001b[92m3.090541073257211\u001b[0m\t \u001b[1m\u001b[92m3.4998618978017264\u001b[0m\n",
            "4  \t [-1.90088387  5.12      ]\t 56.04215949678534\t 8.36134453142119\t 3.1455723818445627\t 3.6122813687649233\n",
            "5  \t [-0.47880672 -5.12      ]\t 52.65805587212888\t 8.36134453142119\t 3.508435830784136\t 3.9312635173937114\n",
            "6  \t [-5.06973052 -1.57201056]\t 30.644601903275156\t 8.36134453142119\t 2.6614730618816154\t 3.4056604843256837\n",
            "\u001b[1m\u001b[92m7\u001b[0m\t \u001b[1m\u001b[92m[ 0.46159248 -0.43945326]\u001b[0m\t \u001b[1m\u001b[92m0.5993059510887679\u001b[0m\t \u001b[1m\u001b[92m0.5993059510887679\u001b[0m\t \u001b[1m\u001b[92m2.861785975363449\u001b[0m\t \u001b[1m\u001b[92m3.390241307616367\u001b[0m\n",
            "8  \t [-1.49909669  1.49718543]\t 6.730419290389669\t 0.5993059510887679\t 2.8005317403739842\t 2.940607792573163\n",
            "9  \t [5.12       2.49986267]\t 38.71302671069651\t 0.5993059510887679\t 2.953889161866749\t 3.2399844360809045\n",
            "10 \t [ 0.35216681 -1.2022852 ]\t 3.015000868185074\t 0.5993059510887679\t 2.7482714383117575\t 3.353934641380687\n",
            "11 \t [ 5.12       -3.51846581]\t 50.97360327298751\t 0.5993059510887679\t 2.9886247338601213\t 3.5558924299550787\n",
            "12 \t [ 1.47775381 -0.01053741]\t 2.183978399813599\t 0.5993059510887679\t 2.759427515819592\t 2.902492781128511\n",
            "13 \t [-2.64052898 -3.15628253]\t 26.89663205054162\t 0.5993059510887679\t 3.095980970752148\t 3.1864702117029884\n",
            "14 \t [ 2.47585468 -5.12      ]\t 58.558656389493336\t 0.5993059510887679\t 2.4355061118857333\t 2.6069788826491544\n",
            "15 \t [-4.58620851  4.3900112 ]\t 59.577705092346775\t 0.5993059510887679\t 2.885622885454436\t 2.9990807688730343\n",
            "\u001b[1m\u001b[92m16\u001b[0m\t \u001b[1m\u001b[92m[-0.02967692  0.01487756]\u001b[0m\t \u001b[1m\u001b[92m0.0013234028349070038\u001b[0m\t \u001b[1m\u001b[92m0.0013234028349070038\u001b[0m\t \u001b[1m\u001b[92m2.6415806084322084\u001b[0m\t \u001b[1m\u001b[92m2.6022392555431866\u001b[0m\n",
            "17 \t [ 2.44265159 -0.28719683]\t 6.131510812535368\t 0.0013234028349070038\t 3.4609104242834863\t 3.383934557446816\n",
            "18 \t [-0.27772807  0.2240471 ]\t 0.17752708620370528\t 0.0013234028349070038\t 2.338448283720432\t 2.2161161527598288\n",
            "19 \t [-2.62087883  0.16584435]\t 6.924014550435769\t 0.0013234028349070038\t 3.0795546347124088\t 3.0098423189289503\n",
            "20 \t [-0.25469847  0.37770546]\t 0.35019413654104753\t 0.0013234028349070038\t 3.2929657284352034\t 3.306685580125118\n"
          ]
        }
      ],
      "source": [
        "### EXACT GP EI GRADIENTS\n",
        "\n",
        "np.random.seed(run_num_13)\n",
        "surrogate_gp_13 = dGaussianProcess(cov_func, optimize=opt)\n",
        "\n",
        "gp_13 = dGPGO_gp(surrogate_gp_13, Acquisition_grad(util_gp), objfunc, param)\n",
        "gp_13.run(init_evals=n_init, max_iter=iters)\n"
      ]
    },
    {
      "cell_type": "code",
      "execution_count": 26,
      "metadata": {
        "id": "ojHTeARNGCoi",
        "colab": {
          "base_uri": "https://localhost:8080/"
        },
        "outputId": "6887e3d6-0b85-4b44-bf13-7f0fb52994d6"
      },
      "outputs": [
        {
          "output_type": "stream",
          "name": "stdout",
          "text": [
            "Evaluation \t Proposed point \t  Current eval. \t  Best eval. \t        Exact EI: StdDev. x \t Approx EI: StdDev. x \n",
            "init\t [0.14277984 2.79721013]\t 15.669155142359655\t 6.942951853664133\t    \t    \n",
            "init\t [ 3.7931795  -5.03759925]\t 65.14302308089468\t 6.942951853664133\t    \t    \n",
            "init\t [-1.94830412  4.68586229]\t 47.71049977745547\t 6.942951853664133\t    \t    \n",
            "init\t [ 0.13431513 -1.86076749]\t 6.942951853664133\t 6.942951853664133\t    \t    \n",
            "init\t [ 0.40140736 -2.85434939]\t 16.455748743182696\t 6.942951853664133\t    \t    \n",
            "1  \t [-5.12 -5.12]\t 78.64320000000001\t 6.942951853664133\t 4.121274436170594\t 3.9768855759570823\n",
            "2  \t [5.12 5.12]\t 78.64320000000001\t 6.942951853664133\t 3.9666011310036655\t 3.9488983817451895\n",
            "3  \t [-5.12        0.36978819]\t 26.487886607475154\t 6.942951853664133\t 2.8111046167207094\t 3.7193130546290223\n",
            "4  \t [4.78909935 0.0121152 ]\t 22.9357661657475\t 6.942951853664133\t 3.039484181486929\t 3.1541528424549536\n",
            "\u001b[1m\u001b[92m5\u001b[0m\t \u001b[1m\u001b[92m[-1.7489573   0.06030275]\u001b[0m\t \u001b[1m\u001b[92m3.066124484489773\u001b[0m\t \u001b[1m\u001b[92m3.066124484489773\u001b[0m\t \u001b[1m\u001b[92m2.984701878973859\u001b[0m\t \u001b[1m\u001b[92m2.698366579051017\u001b[0m\n",
            "\u001b[1m\u001b[92m6\u001b[0m\t \u001b[1m\u001b[92m[1.68388011 0.13490387]\u001b[0m\t \u001b[1m\u001b[92m2.8718503143009966\u001b[0m\t \u001b[1m\u001b[92m2.8718503143009966\u001b[0m\t \u001b[1m\u001b[92m2.6243514175186267\u001b[0m\t \u001b[1m\u001b[92m2.924280784573994\u001b[0m\n",
            "7  \t [-1.75110365 -4.82311049]\t 49.59115361404314\t 2.8718503143009966\t 2.528222368690376\t 3.2305093148669792\n",
            "8  \t [-5.00740026  3.4082952 ]\t 48.30700965443003\t 2.8718503143009966\t 2.99330345144369\t 3.093114963683634\n",
            "9  \t [2.66424963 2.98661499]\t 24.937964255197183\t 2.8718503143009966\t 3.054470319938935\t 2.9842848614067625\n",
            "10 \t [-2.57746371 -1.92746699]\t 14.07357719323589\t 2.8718503143009966\t 2.6387998165869737\t 2.671204093936075\n",
            "11 \t [ 2.93370866 -1.94989718]\t 16.210844499000405\t 2.8718503143009966\t 3.065119687320382\t 3.158374090273671\n",
            "\u001b[1m\u001b[92m12\u001b[0m\t \u001b[1m\u001b[92m[0.04829984 0.10523403]\u001b[0m\t \u001b[1m\u001b[92m0.024481278262089366\u001b[0m\t \u001b[1m\u001b[92m0.024481278262089366\u001b[0m\t \u001b[1m\u001b[92m3.0512374307666286\u001b[0m\t \u001b[1m\u001b[92m3.024889413661674\u001b[0m\n",
            "13 \t [-0.35170215  0.34614328]\t 0.36332473745539423\t 0.024481278262089366\t 2.8815566878394385\t 2.9062733078622807\n",
            "14 \t [0.00525304 0.13605047]\t 0.037047053625625374\t 0.024481278262089366\t 2.870374009856332\t 2.93650292502383\n",
            "\u001b[1m\u001b[92m15\u001b[0m\t \u001b[1m\u001b[92m[0.0665647 0.0996491]\u001b[0m\t \u001b[1m\u001b[92m0.02429074514725482\u001b[0m\t \u001b[1m\u001b[92m0.02429074514725482\u001b[0m\t \u001b[1m\u001b[92m2.948422577589022\u001b[0m\t \u001b[1m\u001b[92m3.00573255068897\u001b[0m\n",
            "16 \t [-0.07921472  0.18487559]\t 0.07463294228584176\t 0.02429074514725482\t 2.945010375357598\t 3.1034228752724986\n",
            "17 \t [-2.0266715   1.29852198]\t 7.479716019902786\t 0.02429074514725482\t 3.220501496248601\t 3.2079000546444094\n",
            "18 \t [-0.24516327  0.22905   ]\t 0.1650328388654427\t 0.02429074514725482\t 2.5641635762666852\t 2.839209394866809\n",
            "19 \t [-5.12       -2.21628323]\t 36.0382226796559\t 0.02429074514725482\t 3.0093024169393874\t 3.218529671052834\n",
            "20 \t [ 0.16233161 -0.00848136]\t 0.02649541937194353\t 0.02429074514725482\t 2.712431366365253\t 2.6362064530453964\n"
          ]
        }
      ],
      "source": [
        "### EXACT GP EI GRADIENTS\n",
        "\n",
        "np.random.seed(run_num_14)\n",
        "surrogate_gp_14 = dGaussianProcess(cov_func, optimize=opt)\n",
        "\n",
        "gp_14 = dGPGO_gp(surrogate_gp_14, Acquisition_grad(util_gp), objfunc, param)\n",
        "gp_14.run(init_evals=n_init, max_iter=iters)\n"
      ]
    },
    {
      "cell_type": "code",
      "execution_count": 27,
      "metadata": {
        "id": "vCJzn4vWGCs3",
        "colab": {
          "base_uri": "https://localhost:8080/"
        },
        "outputId": "9d897dd0-36c0-4035-fd07-37bbc7c7b2dd"
      },
      "outputs": [
        {
          "output_type": "stream",
          "name": "stdout",
          "text": [
            "Evaluation \t Proposed point \t  Current eval. \t  Best eval. \t        Exact EI: StdDev. x \t Approx EI: StdDev. x \n",
            "init\t [ 3.57189322 -3.28810573]\t 34.38169974295086\t 5.478261179905657\t    \t    \n",
            "init\t [-4.56332069 -1.41784631]\t 24.84447200795673\t 5.478261179905657\t    \t    \n",
            "init\t [-2.29989449  0.3072023 ]\t 5.478261179905657\t 5.478261179905657\t    \t    \n",
            "init\t [-1.9873903  -2.00218256]\t 11.967190241167383\t 5.478261179905657\t    \t    \n",
            "init\t [-3.97576933 -2.5610341 ]\t 28.924533081850157\t 5.478261179905657\t    \t    \n",
            "1  \t [4.12498913 5.12      ]\t 69.44433534653355\t 5.478261179905657\t 3.729730094167296\t 3.766997094729225\n",
            "2  \t [-1.61427045  5.12      ]\t 55.03466908322628\t 5.478261179905657\t 2.8254618495368256\t 3.6153089732436547\n",
            "\u001b[1m\u001b[92m3\u001b[0m\t \u001b[1m\u001b[92m[1.80215427 1.00841853]\u001b[0m\t \u001b[1m\u001b[92m5.281575878408494\u001b[0m\t \u001b[1m\u001b[92m5.281575878408494\u001b[0m\t \u001b[1m\u001b[92m2.9680328069369257\u001b[0m\t \u001b[1m\u001b[92m3.212933681137238\u001b[0m\n",
            "4  \t [-5.12       2.7993309]\t 41.88690693468751\t 5.281575878408494\t 2.9194718568305884\t 3.547384679383585\n",
            "5  \t [5.12       0.84586656]\t 27.645380472801122\t 5.281575878408494\t 3.124541492791064\t 3.2629608177486786\n",
            "6  \t [-0.5315062  -5.08588277]\t 52.01490583883032\t 5.281575878408494\t 3.218620818752067\t 3.231175637811479\n",
            "7  \t [-5.12 -5.12]\t 78.64320000000001\t 5.281575878408494\t 2.7198133392064197\t 2.6096637018672895\n",
            "\u001b[1m\u001b[92m8\u001b[0m\t \u001b[1m\u001b[92m[ 0.74309069 -1.30912259]\u001b[0m\t \u001b[1m\u001b[92m3.97978770435528\u001b[0m\t \u001b[1m\u001b[92m3.97978770435528\u001b[0m\t \u001b[1m\u001b[92m3.052104515209789\u001b[0m\t \u001b[1m\u001b[92m3.104941352463163\u001b[0m\n",
            "9  \t [-0.41840646  2.00642063]\t 8.226511480702836\t 3.97978770435528\t 1.9564925118596947\t 2.0340713310197387\n",
            "10 \t [1.29732859 3.74581444]\t 29.745313102291124\t 3.97978770435528\t 2.9730180017809014\t 3.273644778833007\n",
            "11 \t [ 2.19962016 -0.41060403]\t 5.175520214588265\t 3.97978770435528\t 2.579462823392196\t 2.6646940158987915\n",
            "\u001b[1m\u001b[92m12\u001b[0m\t \u001b[1m\u001b[92m[-0.17572656 -0.29045961]\u001b[0m\t \u001b[1m\u001b[92m0.1996133925063203\u001b[0m\t \u001b[1m\u001b[92m0.1996133925063203\u001b[0m\t \u001b[1m\u001b[92m2.506344406128813\u001b[0m\t \u001b[1m\u001b[92m2.846389362468879\u001b[0m\n",
            "13 \t [ 0.14243634 -2.11516112]\t 8.968101213322328\t 0.1996133925063203\t 3.163472538753893\t 3.092182949798977\n",
            "\u001b[1m\u001b[92m14\u001b[0m\t \u001b[1m\u001b[92m[ 0.0699782  -0.10527622]\u001b[0m\t \u001b[1m\u001b[92m0.027063114007103657\u001b[0m\t \u001b[1m\u001b[92m0.027063114007103657\u001b[0m\t \u001b[1m\u001b[92m2.938316722735634\u001b[0m\t \u001b[1m\u001b[92m3.2227014523469193\u001b[0m\n",
            "15 \t [-0.50859082  0.20169431]\t 0.34002580959934364\t 0.027063114007103657\t 2.1268810683018815\t 2.665275399934331\n",
            "16 \t [-0.47336934  0.18093929]\t 0.28955658643390886\t 0.027063114007103657\t 3.170862177169014\t 3.2129159361490407\n",
            "17 \t [-0.65958066  0.28674105]\t 0.5994875077525303\t 0.027063114007103657\t 2.5960305275607514\t 2.7125452239035877\n",
            "\u001b[1m\u001b[92m18\u001b[0m\t \u001b[1m\u001b[92m[-0.05487937 -0.04135761]\u001b[0m\t \u001b[1m\u001b[92m0.006432648727782142\u001b[0m\t \u001b[1m\u001b[92m0.006432648727782142\u001b[0m\t \u001b[1m\u001b[92m2.8720419746945054\u001b[0m\t \u001b[1m\u001b[92m3.1516740447216445\u001b[0m\n",
            "19 \t [-0.30047362  0.09600512]\t 0.10871836352074637\t 0.006432648727782142\t 3.1057332742595753\t 2.978014081501656\n",
            "20 \t [-0.14983857  0.01639724]\t 0.022989337052918765\t 0.006432648727782142\t 2.6569396270453867\t 2.819905133383584\n"
          ]
        }
      ],
      "source": [
        "### EXACT GP EI GRADIENTS\n",
        "\n",
        "np.random.seed(run_num_15)\n",
        "surrogate_gp_15 = dGaussianProcess(cov_func, optimize=opt)\n",
        "\n",
        "gp_15 = dGPGO_gp(surrogate_gp_15, Acquisition_grad(util_gp), objfunc, param)\n",
        "gp_15.run(init_evals=n_init, max_iter=iters)\n"
      ]
    },
    {
      "cell_type": "code",
      "execution_count": 28,
      "metadata": {
        "id": "bGGkhp-kGCw6",
        "colab": {
          "base_uri": "https://localhost:8080/"
        },
        "outputId": "f1e6344f-a7c1-4075-dfb3-73bcb0cf8da0"
      },
      "outputs": [
        {
          "output_type": "stream",
          "name": "stdout",
          "text": [
            "Evaluation \t Proposed point \t  Current eval. \t  Best eval. \t        Exact EI: StdDev. x \t Approx EI: StdDev. x \n",
            "init\t [-2.83349935  0.23719262]\t 8.141239237549925\t 8.141239237549925\t    \t    \n",
            "init\t [ 0.51918292 -4.65303603]\t 43.571039504503474\t 8.141239237549925\t    \t    \n",
            "init\t [-1.42613673 -2.83565116]\t 18.11570093066862\t 8.141239237549925\t    \t    \n",
            "init\t [ 1.9325559  -3.44339021]\t 27.448644544199137\t 8.141239237549925\t    \t    \n",
            "init\t [-4.39987336  4.51595121]\t 60.146516261103784\t 8.141239237549925\t    \t    \n",
            "1  \t [5.12 5.12]\t 78.64320000000001\t 8.141239237549925\t 3.916851608419127\t 3.8994468146665966\n",
            "2  \t [5.12       0.06492156]\t 26.22282961736193\t 8.141239237549925\t 3.4043356895336654\t 3.2869652556692786\n",
            "3  \t [0.38934266 3.73115153]\t 27.99457111540883\t 8.141239237549925\t 3.5157944415217006\t 3.890540294218093\n",
            "4  \t [-5.12 -5.12]\t 78.64320000000001\t 8.141239237549925\t 3.3818447953682025\t 3.5898895109093982\n",
            "\u001b[1m\u001b[92m5\u001b[0m\t \u001b[1m\u001b[92m[0.61640032 0.23811921]\u001b[0m\t \u001b[1m\u001b[92m0.4933508728333715\u001b[0m\t \u001b[1m\u001b[92m0.4933508728333715\u001b[0m\t \u001b[1m\u001b[92m2.636389786019075\u001b[0m\t \u001b[1m\u001b[92m2.596809725508147\u001b[0m\n",
            "6  \t [ 5.12      -3.3408377]\t 48.536793050252186\t 0.4933508728333715\t 3.1816254122630827\t 3.361767959903089\n",
            "7  \t [1.8745191  0.34376099]\t 3.7501650739905465\t 0.4933508728333715\t 2.8392095750634234\t 2.889252276222184\n",
            "8  \t [-5.12       -1.37592588]\t 30.00074403755221\t 0.4933508728333715\t 2.781412103317054\t 2.959812234418302\n",
            "9  \t [-0.7250386   1.07205424]\t 2.8242815478503407\t 0.4933508728333715\t 3.0198893452335103\t 2.8182898079677807\n",
            "\u001b[1m\u001b[92m10\u001b[0m\t \u001b[1m\u001b[92m[-0.48385045  0.05230643]\u001b[0m\t \u001b[1m\u001b[92m0.23958318184330013\u001b[0m\t \u001b[1m\u001b[92m0.23958318184330013\u001b[0m\t \u001b[1m\u001b[92m3.118181739351627\u001b[0m\t \u001b[1m\u001b[92m3.2224558692394676\u001b[0m\n",
            "11 \t [3.11255025 2.38144552]\t 21.030534561839488\t 0.23958318184330013\t 3.1980445633040286\t 3.22687982408856\n",
            "12 \t [ 0.13959261 -0.49482944]\t 0.5091984540712474\t 0.23958318184330013\t 3.132499881794238\t 3.1956658735308827\n",
            "13 \t [ 0.0004529  -0.35802266]\t 0.25636066200937957\t 0.23958318184330013\t 2.5925253774663752\t 2.5991209792318126\n",
            "14 \t [ 0.02860786 -0.37673153]\t 0.2846716944363513\t 0.23958318184330013\t 2.5852516829281402\t 2.620102576261047\n",
            "\u001b[1m\u001b[92m15\u001b[0m\t \u001b[1m\u001b[92m[-0.2149288  -0.16814103]\u001b[0m\t \u001b[1m\u001b[92m0.10273720269897411\u001b[0m\t \u001b[1m\u001b[92m0.10273720269897411\u001b[0m\t \u001b[1m\u001b[92m2.718499078735863\u001b[0m\t \u001b[1m\u001b[92m2.7195881576833094\u001b[0m\n",
            "16 \t [ 0.07734291 -0.42261654]\t 0.36319141086370116\t 0.10273720269897411\t 2.6354334979817504\t 2.4737222171739335\n",
            "17 \t [-0.33328082 -0.07713457]\t 0.12297558954985663\t 0.10273720269897411\t 3.136022276574084\t 3.156274955139672\n",
            "18 \t [-4.956284    1.39592028]\t 28.46193789655621\t 0.10273720269897411\t 2.7375594837583823\t 2.8864968282135135\n",
            "19 \t [ 0.53606268 -0.77056512]\t 1.4749044124825805\t 0.10273720269897411\t 2.7467715472924734\t 2.5044952520349892\n",
            "20 \t [-0.6999042   0.26565129]\t 0.6310071001218873\t 0.10273720269897411\t 2.9886365296084754\t 3.0752335365463663\n"
          ]
        }
      ],
      "source": [
        "### EXACT GP EI GRADIENTS\n",
        "\n",
        "np.random.seed(run_num_16)\n",
        "surrogate_gp_16 = dGaussianProcess(cov_func, optimize=opt)\n",
        "\n",
        "gp_16 = dGPGO_gp(surrogate_gp_16, Acquisition_grad(util_gp), objfunc, param)\n",
        "gp_16.run(init_evals=n_init, max_iter=iters)\n"
      ]
    },
    {
      "cell_type": "code",
      "execution_count": 29,
      "metadata": {
        "id": "Yrs2mp7hGC1Z",
        "colab": {
          "base_uri": "https://localhost:8080/"
        },
        "outputId": "cb40bd33-db10-4e6a-b1b8-bd0b3744c242"
      },
      "outputs": [
        {
          "output_type": "stream",
          "name": "stdout",
          "text": [
            "Evaluation \t Proposed point \t  Current eval. \t  Best eval. \t        Exact EI: StdDev. x \t Approx EI: StdDev. x \n",
            "init\t [-2.10263037  0.31320838]\t 4.617253458637031\t 3.1817562258207746\t    \t    \n",
            "init\t [-3.15882714 -4.42470033]\t 49.134134969019556\t 3.1817562258207746\t    \t    \n",
            "init\t [2.93873111 1.60085526]\t 13.761615685279608\t 3.1817562258207746\t    \t    \n",
            "init\t [1.40821398 0.77417363]\t 3.1817562258207746\t 3.1817562258207746\t    \t    \n",
            "init\t [-4.71999574 -1.45598869]\t 26.518165900202685\t 3.1817562258207746\t    \t    \n",
            "1  \t [ 4.96008736 -4.44720822]\t 64.15778856025273\t 3.1817562258207746\t 3.330997861947753\t 4.404836650990023\n",
            "2  \t [-1.25765516  5.12      ]\t 54.01049649555178\t 3.1817562258207746\t 3.1512014650356934\t 3.3674817751446904\n",
            "3  \t [5.12 5.12]\t 78.64320000000001\t 3.1817562258207746\t 3.407266155412709\t 3.386126911556011\n",
            "4  \t [ 0.93267141 -3.01501446]\t 19.05050033633732\t 3.1817562258207746\t 3.2802510471851196\t 3.669815815496104\n",
            "5  \t [ 5.12       -0.66225644]\t 27.091567173816713\t 3.1817562258207746\t 2.614922555974353\t 3.2942645142624514\n",
            "6  \t [-5.03769575  2.71164555]\t 40.08442163187438\t 3.1817562258207746\t 2.6214446610223607\t 2.8885964770306485\n",
            "7  \t [-0.36744187  1.98404776]\t 8.007904562215607\t 3.1817562258207746\t 2.665182166633943\t 2.5669335044451915\n",
            "8  \t [2.08525667 3.86179596]\t 34.17523146268955\t 3.1817562258207746\t 3.3496952614448174\t 3.02228208872319\n",
            "9  \t [-1.62701342 -1.37620773]\t 6.4350680879931215\t 3.1817562258207746\t 3.2536171774916154\t 3.3344695667203257\n",
            "\u001b[1m\u001b[92m10\u001b[0m\t \u001b[1m\u001b[92m[ 1.52821306 -0.5544101 ]\u001b[0m\t \u001b[1m\u001b[92m2.950176277846247\u001b[0m\t \u001b[1m\u001b[92m2.950176277846247\u001b[0m\t \u001b[1m\u001b[92m2.41452076050198\u001b[0m\t \u001b[1m\u001b[92m2.5237656362479384\u001b[0m\n",
            "11 \t [-0.30291891 -5.12      ]\t 52.520559868674866\t 2.950176277846247\t 3.2050660831923277\t 3.0131254533207072\n",
            "12 \t [5.12       2.26243326]\t 36.4516085023628\t 2.950176277846247\t 2.6854246704875084\t 3.0782774168226075\n",
            "13 \t [-2.36161381  2.00017697]\t 13.578635610755425\t 2.950176277846247\t 2.7129851582611453\t 2.4212328758491024\n",
            "\u001b[1m\u001b[92m14\u001b[0m\t \u001b[1m\u001b[92m[-0.13743682  0.02277007]\u001b[0m\t \u001b[1m\u001b[92m0.019925832763943063\u001b[0m\t \u001b[1m\u001b[92m0.019925832763943063\u001b[0m\t \u001b[1m\u001b[92m2.6515149463937404\u001b[0m\t \u001b[1m\u001b[92m2.6025297141532255\u001b[0m\n",
            "15 \t [ 0.04425738 -0.16026284]\t 0.05332707453615614\t 0.019925832763943063\t 2.6718839997649675\t 2.8455734883295594\n",
            "16 \t [ 0.16709726 -0.28690256]\t 0.1925476530638992\t 0.019925832763943063\t 2.48434243637148\t 2.454141313369773\n",
            "17 \t [ 0.10358405 -0.22590599]\t 0.1127966917040377\t 0.019925832763943063\t 2.4877334866906424\t 2.9113286577641433\n",
            "18 \t [ 0.34723101 -0.45684148]\t 0.5379776495693981\t 0.019925832763943063\t 2.8484744024043587\t 3.0226040279255795\n",
            "19 \t [ 0.61792174 -0.61862996]\t 1.147233325599606\t 0.019925832763943063\t 2.6542328479338932\t 2.8309171896378382\n",
            "20 \t [ 0.53468623 -0.57687149]\t 0.951450796811558\t 0.019925832763943063\t 2.8952733336915175\t 3.2032727313053284\n"
          ]
        }
      ],
      "source": [
        "### EXACT GP EI GRADIENTS\n",
        "\n",
        "np.random.seed(run_num_17)\n",
        "surrogate_gp_17 = dGaussianProcess(cov_func, optimize=opt)\n",
        "\n",
        "gp_17 = dGPGO_gp(surrogate_gp_17, Acquisition_grad(util_gp), objfunc, param)\n",
        "gp_17.run(init_evals=n_init, max_iter=iters)\n"
      ]
    },
    {
      "cell_type": "code",
      "execution_count": 30,
      "metadata": {
        "id": "f0HIEP3PIUEa",
        "colab": {
          "base_uri": "https://localhost:8080/"
        },
        "outputId": "f5f4eaa6-1924-4435-dc37-3b9b601747b1"
      },
      "outputs": [
        {
          "output_type": "stream",
          "name": "stdout",
          "text": [
            "Evaluation \t Proposed point \t  Current eval. \t  Best eval. \t        Exact EI: StdDev. x \t Approx EI: StdDev. x \n",
            "init\t [1.53983224 0.05584255]\t 2.3773200933391867\t 2.3773200933391867\t    \t    \n",
            "init\t [ 3.87687906 -3.25795609]\t 36.25874706055664\t 2.3773200933391867\t    \t    \n",
            "init\t [3.60686662 2.56139557]\t 26.130981366974602\t 2.3773200933391867\t    \t    \n",
            "init\t [1.70088108 4.99604939]\t 52.81401545301259\t 2.3773200933391867\t    \t    \n",
            "init\t [-2.48864335 -4.83014733]\t 52.85399210258478\t 2.3773200933391867\t    \t    \n",
            "1  \t [-5.00718904  2.9174042 ]\t 42.09443666312248\t 2.3773200933391867\t 3.077046067626628\t 3.6505861325773443\n",
            "2  \t [-2.12750099 -0.37273337]\t 4.80412080606555\t 2.3773200933391867\t 2.611673796822958\t 2.5847399606849\n",
            "3  \t [-1.38388786  2.93401946]\t 19.132085955660546\t 2.3773200933391867\t 2.9546443621558236\t 3.0752340434726504\n",
            "4  \t [-5.12       -1.70034653]\t 31.99675663722693\t 2.3773200933391867\t 3.10647722839905\t 3.5576315421726643\n",
            "5  \t [ 0.2392604  -2.31514409]\t 10.777029851248393\t 2.3773200933391867\t 2.7727618662825266\t 2.960049701377955\n",
            "6  \t [ 1.12143533 -5.12      ]\t 53.68641718867477\t 2.3773200933391867\t 2.8949866424063884\t 3.145965395889192\n",
            "7  \t [5.12 5.12]\t 78.64320000000001\t 2.3773200933391867\t 3.092852804551579\t 3.2367463995171692\n",
            "\u001b[1m\u001b[92m8\u001b[0m\t \u001b[1m\u001b[92m[0.43194908 0.53164495]\u001b[0m\t \u001b[1m\u001b[92m0.7518727141981607\u001b[0m\t \u001b[1m\u001b[92m0.7518727141981607\u001b[0m\t \u001b[1m\u001b[92m2.873261840133095\u001b[0m\t \u001b[1m\u001b[92m3.057131436885241\u001b[0m\n",
            "9  \t [ 5.12       -0.19797371]\t 26.29278717633463\t 0.7518727141981607\t 3.085607877172016\t 3.1326657035703747\n",
            "10 \t [-2.65327644  5.12      ]\t 59.46867584757596\t 0.7518727141981607\t 3.1165728747479333\t 3.2271347578411396\n",
            "11 \t [-5.12 -5.12]\t 78.64320000000001\t 0.7518727141981607\t 3.087102756215863\t 2.9337440618783788\n",
            "12 \t [-0.02616698  0.67222403]\t 0.9044549929527481\t 0.7518727141981607\t 2.7227438821711716\t 2.83715273716121\n",
            "13 \t [0.80942089 1.39931824]\t 4.571345268347654\t 0.7518727141981607\t 2.936473859053718\t 2.8116712656956824\n",
            "\u001b[1m\u001b[92m14\u001b[0m\t \u001b[1m\u001b[92m[-0.17035956  0.03750562]\u001b[0m\t \u001b[1m\u001b[92m0.031835722060102205\u001b[0m\t \u001b[1m\u001b[92m0.031835722060102205\u001b[0m\t \u001b[1m\u001b[92m2.481094078293845\u001b[0m\t \u001b[1m\u001b[92m2.571152558683765\u001b[0m\n",
            "\u001b[1m\u001b[92m15\u001b[0m\t \u001b[1m\u001b[92m[-0.12143334 -0.06259317]\u001b[0m\t \u001b[1m\u001b[92m0.022581867591206554\u001b[0m\t \u001b[1m\u001b[92m0.022581867591206554\u001b[0m\t \u001b[1m\u001b[92m2.7332024656744864\u001b[0m\t \u001b[1m\u001b[92m2.6108141377220355\u001b[0m\n",
            "16 \t [-0.28170978  0.02957765]\t 0.08111007449753574\t 0.022581867591206554\t 2.5794992129748167\t 2.6462056139007895\n",
            "17 \t [ 0.51258726 -0.33288388]\t 0.4843690580868645\t 0.022581867591206554\t 3.429127511406201\t 3.369620762346148\n",
            "18 \t [-3.2537634  0.659772 ]\t 11.457574421759322\t 0.022581867591206554\t 3.0110269365899\t 3.0964707966019556\n",
            "19 \t [-0.21381695 -0.07354871]\t 0.056536513806654295\t 0.022581867591206554\t 2.6904755674501484\t 2.6042743562714064\n",
            "20 \t [-0.08354527 -0.1518503 ]\t 0.0530968418251979\t 0.022581867591206554\t 2.917734156400689\t 2.8589159626827527\n"
          ]
        }
      ],
      "source": [
        "### EXACT GP EI GRADIENTS\n",
        "\n",
        "np.random.seed(run_num_18)\n",
        "surrogate_gp_18 = dGaussianProcess(cov_func, optimize=opt)\n",
        "\n",
        "gp_18 = dGPGO_gp(surrogate_gp_18, Acquisition_grad(util_gp), objfunc, param)\n",
        "gp_18.run(init_evals=n_init, max_iter=iters)\n"
      ]
    },
    {
      "cell_type": "code",
      "execution_count": 31,
      "metadata": {
        "id": "S3mxRQDLIUPC",
        "colab": {
          "base_uri": "https://localhost:8080/"
        },
        "outputId": "ddd6fdcc-c34d-41d8-ed6c-510176759ea1"
      },
      "outputs": [
        {
          "output_type": "stream",
          "name": "stdout",
          "text": [
            "Evaluation \t Proposed point \t  Current eval. \t  Best eval. \t        Exact EI: StdDev. x \t Approx EI: StdDev. x \n",
            "init\t [-4.12125592  2.6751971 ]\t 31.298109376682206\t 22.814458446152262\t    \t    \n",
            "init\t [-2.59135515 -3.70553152]\t 34.17704923320956\t 22.814458446152262\t    \t    \n",
            "init\t [-1.72598719 -4.27008445]\t 39.4462742815243\t 22.814458446152262\t    \t    \n",
            "init\t [1.76104531 3.13952049]\t 22.814458446152262\t 22.814458446152262\t    \t    \n",
            "init\t [4.9432772  1.38916592]\t 28.295553455390152\t 22.814458446152262\t    \t    \n",
            "1  \t [ 4.82667719 -3.73099312]\t 51.13743209688758\t 22.814458446152262\t 3.4513529092014785\t 4.589131028028589\n",
            "\u001b[1m\u001b[92m2\u001b[0m\t \u001b[1m\u001b[92m[-0.88068028  0.08134902]\u001b[0m\t \u001b[1m\u001b[92m0.7888330757079672\u001b[0m\t \u001b[1m\u001b[92m0.7888330757079672\u001b[0m\t \u001b[1m\u001b[92m4.076574730412819\u001b[0m\t \u001b[1m\u001b[92m3.837125947206755\u001b[0m\n",
            "3  \t [5.12 5.12]\t 78.64320000000001\t 0.7888330757079672\t 3.4390683119261056\t 3.191820875666437\n",
            "4  \t [-5.12       -1.18501843]\t 29.022937359837208\t 0.7888330757079672\t 3.024198829032659\t 3.228615543326342\n",
            "5  \t [ 1.45315185 -0.97755119]\t 4.022862961377536\t 0.7888330757079672\t 2.552473630829064\t 2.5831605436474963\n",
            "6  \t [-1.31656727  5.12      ]\t 54.16214936584562\t 0.7888330757079672\t 3.340819149692984\t 3.463998130139457\n",
            "7  \t [-5.12 -5.12]\t 78.64320000000001\t 0.7888330757079672\t 2.9239690983251587\t 3.042792617403688\n",
            "8  \t [ 1.48625581 -4.98566492]\t 51.922665764083234\t 0.7888330757079672\t 2.5777670034100217\t 2.867436267805655\n",
            "9  \t [-1.12630392  1.49362181]\t 5.73037273223318\t 0.7888330757079672\t 2.583904254027373\t 2.6829452744013356\n",
            "10 \t [-1.08000165 -0.9083028 ]\t 2.8164315269966584\t 0.7888330757079672\t 3.0153894889136352\t 2.940687340886755\n",
            "11 \t [ 2.89321201 -0.42754629]\t 8.736267419924125\t 0.7888330757079672\t 2.458392439053938\t 2.421596801770011\n",
            "12 \t [-2.22132384 -0.49372568]\t 5.421809707805304\t 0.7888330757079672\t 2.7231474105847253\t 2.7968187381297134\n",
            "\u001b[1m\u001b[92m13\u001b[0m\t \u001b[1m\u001b[92m[ 0.19096442 -0.44108395]\u001b[0m\t \u001b[1m\u001b[92m0.42557750230031527\u001b[0m\t \u001b[1m\u001b[92m0.42557750230031527\u001b[0m\t \u001b[1m\u001b[92m2.8894048795367446\u001b[0m\t \u001b[1m\u001b[92m3.0088934282882143\u001b[0m\n",
            "\u001b[1m\u001b[92m14\u001b[0m\t \u001b[1m\u001b[92m[0.32550323 0.07772213]\u001b[0m\t \u001b[1m\u001b[92m0.11803381407908117\u001b[0m\t \u001b[1m\u001b[92m0.11803381407908117\u001b[0m\t \u001b[1m\u001b[92m2.669505484259949\u001b[0m\t \u001b[1m\u001b[92m2.4317645680960003\u001b[0m\n",
            "15 \t [0.21995205 0.32957258]\t 0.26561507865617423\t 0.11803381407908117\t 2.7087617325143625\t 2.9352976100290444\n",
            "16 \t [0.2078803  0.38435669]\t 0.3386743462695476\t 0.11803381407908117\t 2.6455580906415217\t 2.3950490886257847\n",
            "\u001b[1m\u001b[92m17\u001b[0m\t \u001b[1m\u001b[92m[0.28050132 0.00831077]\u001b[0m\t \u001b[1m\u001b[92m0.07881912884075376\u001b[0m\t \u001b[1m\u001b[92m0.07881912884075376\u001b[0m\t \u001b[1m\u001b[92m2.709717970818535\u001b[0m\t \u001b[1m\u001b[92m2.7936468887515464\u001b[0m\n",
            "18 \t [-0.04400536  0.96671663]\t 1.871018556000851\t 0.07881912884075376\t 2.912869561967665\t 2.7335434789746182\n",
            "\u001b[1m\u001b[92m19\u001b[0m\t \u001b[1m\u001b[92m[0.13095629 0.00612856]\u001b[0m\t \u001b[1m\u001b[92m0.017224667023412778\u001b[0m\t \u001b[1m\u001b[92m0.017224667023412778\u001b[0m\t \u001b[1m\u001b[92m2.4299970890871956\u001b[0m\t \u001b[1m\u001b[92m2.484715433675349\u001b[0m\n",
            "20 \t [ 0.14901438 -0.73754978]\t 1.110164656577102\t 0.017224667023412778\t 2.684157443788901\t 2.754760747490991\n"
          ]
        }
      ],
      "source": [
        "### EXACT GP EI GRADIENTS\n",
        "\n",
        "np.random.seed(run_num_19)\n",
        "surrogate_gp_19 = dGaussianProcess(cov_func, optimize=opt)\n",
        "\n",
        "gp_19 = dGPGO_gp(surrogate_gp_19, Acquisition_grad(util_gp), objfunc, param)\n",
        "gp_19.run(init_evals=n_init, max_iter=iters)\n"
      ]
    },
    {
      "cell_type": "code",
      "execution_count": 32,
      "metadata": {
        "id": "Aawd59dRIUYn",
        "colab": {
          "base_uri": "https://localhost:8080/"
        },
        "outputId": "642c1ac7-b83f-4238-8b77-1cd9b32e68e6"
      },
      "outputs": [
        {
          "output_type": "stream",
          "name": "stdout",
          "text": [
            "Evaluation \t Proposed point \t  Current eval. \t  Best eval. \t        Exact EI: StdDev. x \t Approx EI: StdDev. x \n",
            "init\t [0.9024594  4.07258857]\t 33.98638835688907\t 1.615187047660523\t    \t    \n",
            "init\t [4.00927467 3.23417577]\t 36.994069169927414\t 1.615187047660523\t    \t    \n",
            "init\t [-4.75249064  1.96359764]\t 30.297598676217497\t 1.615187047660523\t    \t    \n",
            "init\t [-1.24230715  0.18955208]\t 1.615187047660523\t 1.615187047660523\t    \t    \n",
            "init\t [ 1.61742301 -3.13497377]\t 22.27217824772924\t 1.615187047660523\t    \t    \n",
            "1  \t [-3.73124233 -5.12      ]\t 66.35096932954521\t 1.615187047660523\t 2.9592848905706246\t 2.8636010936681755\n",
            "2  \t [ 5.12       -1.00299666]\t 28.22640459558733\t 1.615187047660523\t 2.7529317336889503\t 3.5789598992602683\n",
            "3  \t [1.4218861  0.40795045]\t 2.3546072162223264\t 1.615187047660523\t 2.652461525515539\t 2.8272726241317296\n",
            "4  \t [-2.7112628  5.12     ]\t 59.77974595129713\t 1.615187047660523\t 3.137576723778746\t 3.408811381960788\n",
            "5  \t [-4.20379857 -1.46219823]\t 21.947969747309262\t 1.615187047660523\t 2.7789238609573803\t 3.0094963842902485\n",
            "6  \t [ 4.53656619 -4.58958453]\t 62.709005094456565\t 1.615187047660523\t 3.162295342295965\t 3.7183572603952495\n",
            "7  \t [-0.45328198 -5.12      ]\t 52.63426454994734\t 1.615187047660523\t 3.2874747566592335\t 3.2186741560684955\n",
            "8  \t [-1.41213908  1.78376183]\t 8.357749337503389\t 1.615187047660523\t 2.9922858447411995\t 2.991098784885164\n",
            "9  \t [-0.99122595 -1.39475774]\t 4.873227207605211\t 1.615187047660523\t 2.8240325392996364\t 2.789357921110493\n",
            "10 \t [2.63113039 0.35947974]\t 7.181298471237765\t 1.615187047660523\t 2.9124534807012927\t 2.7745124890658177\n",
            "\u001b[1m\u001b[92m11\u001b[0m\t \u001b[1m\u001b[92m[0.2999834  0.22298134]\u001b[0m\t \u001b[1m\u001b[92m0.18943139875175988\u001b[0m\t \u001b[1m\u001b[92m0.18943139875175988\u001b[0m\t \u001b[1m\u001b[92m3.0407919145629907\u001b[0m\t \u001b[1m\u001b[92m2.881347721862417\u001b[0m\n",
            "12 \t [ 0.67051027 -0.48410205]\t 0.9182936045321617\t 0.18943139875175988\t 3.5676564378997213\t 3.0929469717823443\n",
            "13 \t [5.12 5.12]\t 78.64320000000001\t 0.18943139875175988\t 3.4509391744639486\t 3.5001532152934\n",
            "14 \t [0.17791018 1.31629245]\t 3.4969036574758716\t 0.18943139875175988\t 2.595393992054214\t 2.73797573287639\n",
            "15 \t [ 0.64905062 -0.50222133]\t 0.9257192307678893\t 0.18943139875175988\t 2.599001230642505\t 2.36419216723521\n",
            "\u001b[1m\u001b[92m16\u001b[0m\t \u001b[1m\u001b[92m[-0.15207019  0.13100715]\u001b[0m\t \u001b[1m\u001b[92m0.05745108959925947\u001b[0m\t \u001b[1m\u001b[92m0.05745108959925947\u001b[0m\t \u001b[1m\u001b[92m2.6959686966587566\u001b[0m\t \u001b[1m\u001b[92m2.5910156067876975\u001b[0m\n",
            "\u001b[1m\u001b[92m17\u001b[0m\t \u001b[1m\u001b[92m[-0.06837494  0.07530723]\u001b[0m\t \u001b[1m\u001b[92m0.01601748932043489\u001b[0m\t \u001b[1m\u001b[92m0.01601748932043489\u001b[0m\t \u001b[1m\u001b[92m2.858720164426622\u001b[0m\t \u001b[1m\u001b[92m2.677022367507474\u001b[0m\n",
            "18 \t [ 0.29996821 -0.20943011]\t 0.17770286543865432\t 0.01601748932043489\t 2.9947712850915242\t 3.1610556015291356\n",
            "19 \t [ 0.48476599 -0.39607343]\t 0.5487463806181774\t 0.01601748932043489\t 2.8941854223321553\t 2.6839223271972767\n",
            "20 \t [ 0.14843033 -0.07965281]\t 0.03472070407297882\t 0.01601748932043489\t 2.413183951862844\t 2.713276777062435\n"
          ]
        }
      ],
      "source": [
        "### EXACT GP EI GRADIENTS\n",
        "\n",
        "np.random.seed(run_num_20)\n",
        "surrogate_gp_20 = dGaussianProcess(cov_func, optimize=opt)\n",
        "\n",
        "gp_20 = dGPGO_gp(surrogate_gp_20, Acquisition_grad(util_gp), objfunc, param)\n",
        "gp_20.run(init_evals=n_init, max_iter=iters)\n"
      ]
    },
    {
      "cell_type": "code",
      "execution_count": 33,
      "metadata": {
        "id": "xkgzPRbBTHaq",
        "colab": {
          "base_uri": "https://localhost:8080/"
        },
        "outputId": "0cbdffa2-671c-4196-9f50-2242d30ddf9b"
      },
      "outputs": [
        {
          "output_type": "execute_result",
          "data": {
            "text/plain": [
              "1663072508.5958908"
            ]
          },
          "metadata": {},
          "execution_count": 33
        }
      ],
      "source": [
        "end_gp = time.time()\n",
        "end_gp\n",
        "\n",
        "time_gp = end_gp - start_gp\n",
        "time_gp\n",
        "\n",
        "start_stp = time.time()\n",
        "start_stp"
      ]
    },
    {
      "cell_type": "code",
      "execution_count": 34,
      "metadata": {
        "id": "7CG3Ndvb16Rb",
        "colab": {
          "base_uri": "https://localhost:8080/"
        },
        "outputId": "ce4963af-7df3-4b28-9194-d17db34b88df"
      },
      "outputs": [
        {
          "output_type": "stream",
          "name": "stdout",
          "text": [
            "Evaluation \t Proposed point \t  Current eval. \t  Best eval. \t        Exact EI: StdDev. x \t Approx EI: StdDev. x \n",
            "init\t [-0.84969467  2.25612281]\t 10.902161328666502\t 1.4334486961549602\t    \t    \n",
            "init\t [-5.1188288  -2.02411446]\t 34.396486966857985\t 1.4334486961549602\t    \t    \n",
            "init\t [-3.61721968 -4.17445279]\t 47.936390383803385\t 1.4334486961549602\t    \t    \n",
            "init\t [-3.21269544 -1.58145816]\t 15.323431753768267\t 1.4334486961549602\t    \t    \n",
            "init\t [-1.05710106  0.39748336]\t 1.4334486961549602\t 1.4334486961549602\t    \t    \n",
            "1  \t [ 4.04077223 -4.24914728]\t 52.43834538835027\t 1.4334486961549602\t 2.9799470751008448\t 4.192274266791109\n",
            "2  \t [4.42977754 2.01541797]\t 27.746748284258675\t 1.4334486961549602\t 3.0404581104611554\t 3.456996873533477\n",
            "3  \t [ 0.70503872 -1.87020893]\t 7.492442463517867\t 1.4334486961549602\t 2.9642200721557983\t 3.891863247821448\n",
            "4  \t [-4.89958599  4.58721496]\t 66.09102514366414\t 1.4334486961549602\t 2.9663641480066967\t 4.12658556044772\n",
            "5  \t [-0.17058957 -5.12      ]\t 52.457900799779765\t 1.4334486961549602\t 3.192509505279646\t 3.650361624762834\n",
            "6  \t [-0.89703758  5.12      ]\t 53.233476427022985\t 1.4334486961549602\t 2.6166239733712744\t 2.876209172155932\n",
            "7  \t [2.96024718 5.08831915]\t 60.54504697221543\t 1.4334486961549602\t 3.188826521861704\t 3.481031142365151\n",
            "8  \t [-5.12        1.13168778]\t 28.775834447898873\t 1.4334486961549602\t 2.9486545842934304\t 3.410966425102677\n",
            "9  \t [ 5.12       -1.16179591]\t 28.913939461375232\t 1.4334486961549602\t 2.672630795415001\t 3.141021560198394\n",
            "10 \t [1.41636417 1.12754107]\t 4.5487852037883725\t 1.4334486961549602\t 2.7813221166325577\t 2.900842613011078\n",
            "11 \t [ 2.57605739 -1.01259889]\t 8.686784683116182\t 1.4334486961549602\t 2.8347055692830727\t 2.532667450664508\n",
            "12 \t [-2.70740167  1.40043259]\t 11.252446670545595\t 1.4334486961549602\t 3.1972023432898653\t 2.5635108635121218\n",
            "13 \t [-1.11699116 -1.94284033]\t 8.796926390989231\t 1.4334486961549602\t 2.3903043962845016\t 2.4644409379598824\n",
            "14 \t [5.12 5.12]\t 78.64320000000001\t 1.4334486961549602\t 2.814631820004567\t 3.03261549650352\n",
            "15 \t [1.2366888 2.948986 ]\t 18.922436005574554\t 1.4334486961549602\t 2.487364913300652\t 2.238067434135949\n",
            "\u001b[1m\u001b[92m16\u001b[0m\t \u001b[1m\u001b[92m[ 0.71973547 -0.27350638]\u001b[0m\t \u001b[1m\u001b[92m0.6676306333346996\u001b[0m\t \u001b[1m\u001b[92m0.6676306333346996\u001b[0m\t \u001b[1m\u001b[92m2.3825452108472196\u001b[0m\t \u001b[1m\u001b[92m2.879493656087342\u001b[0m\n",
            "17 \t [ 1.85000558 -4.34812831]\t 41.234960323756816\t 0.6676306333346996\t 3.1310294101377427\t 3.0398969582486353\n",
            "18 \t [2.64831681 0.78175841]\t 8.235874377087328\t 0.6676306333346996\t 2.698736592822117\t 2.711514005858109\n",
            "19 \t [-1.70283906 -3.7383497 ]\t 30.850177844236356\t 0.6676306333346996\t 3.417071164943572\t 3.4392997081237984\n",
            "20 \t [-2.60327578  3.13491193]\t 26.432390455511243\t 0.6676306333346996\t 2.537718520973402\t 2.413434691963105\n"
          ]
        }
      ],
      "source": [
        "### EXACT STP EI GRADIENTS\n",
        "\n",
        "np.random.seed(run_num_1)\n",
        "surrogate_stp_1 = dtStudentProcess(cov_func, optimize=opt, nu = df)\n",
        "\n",
        "stp_1 = dGPGO_stp(surrogate_stp_1, Acquisition_grad(util_stp), objfunc, param)\n",
        "stp_1.run(init_evals=n_init, max_iter=iters)\n"
      ]
    },
    {
      "cell_type": "code",
      "execution_count": 35,
      "metadata": {
        "id": "-ilCPSAu9SAg",
        "colab": {
          "base_uri": "https://localhost:8080/"
        },
        "outputId": "5b15d9f8-2759-465f-888c-19f0586e4c6b"
      },
      "outputs": [
        {
          "output_type": "stream",
          "name": "stdout",
          "text": [
            "Evaluation \t Proposed point \t  Current eval. \t  Best eval. \t        Exact EI: StdDev. x \t Approx EI: StdDev. x \n",
            "init\t [-0.6554122  -4.85451539]\t 47.562204422038214\t 1.1358959044973735\t    \t    \n",
            "init\t [ 0.50854377 -0.6622987 ]\t 1.1358959044973735\t 1.1358959044973735\t    \t    \n",
            "init\t [-0.81543371 -1.73737143]\t 6.7018511217540135\t 1.1358959044973735\t    \t    \n",
            "init\t [-3.02439799  1.2213347 ]\t 12.13030006303276\t 1.1358959044973735\t    \t    \n",
            "init\t [-2.05153614 -2.3876887 ]\t 15.610915224537823\t 1.1358959044973735\t    \t    \n",
            "1  \t [4.81874241 3.07464552]\t 42.12716849729408\t 1.1358959044973735\t 3.295949625249032\t 3.76394240085085\n",
            "2  \t [ 4.84260546 -3.96517156]\t 54.89599861946712\t 1.1358959044973735\t 2.469412380602055\t 3.8761364370549227\n",
            "3  \t [0.47291219 3.50002305]\t 24.723968609082025\t 1.1358959044973735\t 3.5245246106980623\t 3.9974292884739064\n",
            "4  \t [-5.12 -5.12]\t 78.64320000000001\t 1.1358959044973735\t 3.307188106630815\t 3.251282912105232\n",
            "5  \t [ 3.34154465 -0.52061153]\t 11.707993393985362\t 1.1358959044973735\t 3.062060881634684\t 3.3722905473134253\n",
            "6  \t [-4.40667555  4.45597249]\t 59.13017108022278\t 1.1358959044973735\t 3.2336596105364968\t 3.592449670562108\n",
            "7  \t [ 1.76748181 -2.80909195]\t 18.90598709879483\t 1.1358959044973735\t 3.0449114216433317\t 2.8780724642964666\n",
            "8  \t [2.72102911 5.12      ]\t 59.83279940264515\t 1.1358959044973735\t 2.3531613139947014\t 2.788798612473649\n",
            "9  \t [-5.12       -1.32422156]\t 29.72152546981425\t 1.1358959044973735\t 2.568845164113378\t 2.598374299628642\n",
            "10 \t [-0.65660648  0.90032394]\t 2.0522984525628445\t 1.1358959044973735\t 2.7038262854542423\t 2.9304472189567665\n",
            "11 \t [1.64465523 1.11477586]\t 5.190341286632688\t 1.1358959044973735\t 2.7511833303540683\t 3.0681043766769642\n",
            "12 \t [5.12       0.28875154]\t 26.381154906936988\t 1.1358959044973735\t 2.725621734681737\t 2.5746651292991523\n",
            "13 \t [-1.79798793  3.53487935]\t 28.223504674083383\t 1.1358959044973735\t 2.747146300816381\t 3.1813932611067197\n",
            "14 \t [-2.52671038 -0.3220207 ]\t 6.591659990996799\t 1.1358959044973735\t 2.453201816301015\t 2.9344866590794663\n",
            "15 \t [-5.03789254  1.37074025]\t 29.1382188601058\t 1.1358959044973735\t 2.728766430058119\t 2.7866616846636627\n",
            "16 \t [ 1.77503146 -4.70721187]\t 47.46642393265993\t 1.1358959044973735\t 2.8292077770842847\t 2.8548621307058513\n",
            "17 \t [-4.35299134 -3.36019106]\t 41.530301542296236\t 1.1358959044973735\t 2.966594600661182\t 3.0989197886102295\n",
            "18 \t [2.73212218 2.11406359]\t 16.40302130624631\t 1.1358959044973735\t 2.4523062459321805\t 2.8503649098394623\n",
            "19 \t [5.12 5.12]\t 78.64320000000001\t 1.1358959044973735\t 2.6527915572823737\t 2.4597741005619915\n",
            "20 \t [-1.50172301  5.12      ]\t 54.683971986731386\t 1.1358959044973735\t 3.036020942221302\t 3.186701176849125\n"
          ]
        }
      ],
      "source": [
        "### EXACT STP EI GRADIENTS\n",
        "\n",
        "np.random.seed(run_num_2)\n",
        "surrogate_stp_2 = dtStudentProcess(cov_func, optimize=opt, nu = df)\n",
        "\n",
        "stp_2 = dGPGO_stp(surrogate_stp_2, Acquisition_grad(util_stp), objfunc, param)\n",
        "stp_2.run(init_evals=n_init, max_iter=iters)\n"
      ]
    },
    {
      "cell_type": "code",
      "execution_count": 36,
      "metadata": {
        "id": "XieJ158mIvlP",
        "colab": {
          "base_uri": "https://localhost:8080/"
        },
        "outputId": "35d8e3ba-4159-4486-d4c3-8c629e575b84"
      },
      "outputs": [
        {
          "output_type": "stream",
          "name": "stdout",
          "text": [
            "Evaluation \t Proposed point \t  Current eval. \t  Best eval. \t        Exact EI: StdDev. x \t Approx EI: StdDev. x \n",
            "init\t [0.52017052 2.1314337 ]\t 9.356596638100186\t 4.609047504113831\t    \t    \n",
            "init\t [-2.14113547  0.11087468]\t 4.609047504113831\t 4.609047504113831\t    \t    \n",
            "init\t [4.02377681 4.05804123]\t 49.12617709674532\t 4.609047504113831\t    \t    \n",
            "init\t [-3.83400642 -2.99783293]\t 32.673609761904345\t 4.609047504113831\t    \t    \n",
            "init\t [-4.59297584 -0.6061072 ]\t 21.83015892853491\t 4.609047504113831\t    \t    \n",
            "1  \t [ 2.87042319 -1.98283743]\t 16.10261781709846\t 4.609047504113831\t 2.964631924916011\t 2.6270820340778105\n",
            "2  \t [-3.19677619  4.62951673]\t 53.08422830822903\t 4.609047504113831\t 3.0714919875493076\t 4.0888538948112485\n",
            "3  \t [5.12       0.43052476]\t 26.585103144927754\t 4.609047504113831\t 2.68170134334774\t 3.316457065909388\n",
            "4  \t [ 0.00948055 -5.12      ]\t 52.42888988088601\t 4.609047504113831\t 2.7819726428202625\t 3.335169911094238\n",
            "5  \t [ 3.36314288 -4.68920808]\t 55.28807488779404\t 4.609047504113831\t 2.657676828561898\t 3.349661437607405\n",
            "\u001b[1m\u001b[92m6\u001b[0m\t \u001b[1m\u001b[92m[-0.20536532 -1.3057836 ]\u001b[0m\t \u001b[1m\u001b[92m3.4523165119826182\u001b[0m\t \u001b[1m\u001b[92m3.4523165119826182\u001b[0m\t \u001b[1m\u001b[92m2.8353186708503517\u001b[0m\t \u001b[1m\u001b[92m3.0352365822005303\u001b[0m\n",
            "7  \t [0.43228658 5.07027688]\t 51.60228706123868\t 3.4523165119826182\t 3.0056933311791507\t 3.2027199273601585\n",
            "8  \t [-5.05995935  2.1371721 ]\t 34.73819784091651\t 3.4523165119826182\t 2.9194646789755696\t 3.216215621401976\n",
            "9  \t [-2.63428211 -5.12      ]\t 59.36824222187896\t 3.4523165119826182\t 2.6540989068145233\t 3.014170199049387\n",
            "\u001b[1m\u001b[92m10\u001b[0m\t \u001b[1m\u001b[92m[1.14411893 0.09002891]\u001b[0m\t \u001b[1m\u001b[92m1.325218528401687\u001b[0m\t \u001b[1m\u001b[92m1.325218528401687\u001b[0m\t \u001b[1m\u001b[92m2.7440301067827404\u001b[0m\t \u001b[1m\u001b[92m2.7895398676614644\u001b[0m\n",
            "11 \t [2.7469131  0.76809548]\t 8.725472934891165\t 1.325218528401687\t 2.4469500009250305\t 2.5387197334537266\n",
            "12 \t [ 5.12       -2.19977435]\t 35.89241439436586\t 1.325218528401687\t 2.5133591048858768\t 2.5427537060941696\n",
            "13 \t [-1.45344694  1.76169417]\t 8.319640707587615\t 1.325218528401687\t 3.194520489910883\t 2.6893927836755793\n",
            "14 \t [ 0.38493128 -2.46469009]\t 12.297566534590663\t 1.325218528401687\t 2.5341463084765388\t 2.708051192582257\n",
            "15 \t [-1.31096393 -2.55856667]\t 14.811153272287266\t 1.325218528401687\t 2.7735123014105576\t 2.5399782970223876\n",
            "16 \t [-5.12 -5.12]\t 78.64320000000001\t 1.325218528401687\t 3.125724401943689\t 3.0231049373835637\n",
            "\u001b[1m\u001b[92m17\u001b[0m\t \u001b[1m\u001b[92m[-0.29252768  0.12420594]\u001b[0m\t \u001b[1m\u001b[92m0.11642667302823217\u001b[0m\t \u001b[1m\u001b[92m0.11642667302823217\u001b[0m\t \u001b[1m\u001b[92m2.3670244685883657\u001b[0m\t \u001b[1m\u001b[92m2.35299470164875\u001b[0m\n",
            "18 \t [-2.72014247  1.52205181]\t 12.032458462859779\t 0.11642667302823217\t 2.5689107591544027\t 2.8827395227872756\n",
            "19 \t [2.39530384 2.49818954]\t 18.219382494474115\t 0.11642667302823217\t 2.921761948903137\t 3.3541281384241817\n",
            "20 \t [ 1.63639191 -0.96341519]\t 4.5341161294129595\t 0.11642667302823217\t 2.4267206948967925\t 2.190678354422246\n"
          ]
        }
      ],
      "source": [
        "### EXACT STP EI GRADIENTS\n",
        "\n",
        "np.random.seed(run_num_3)\n",
        "surrogate_stp_3 = dtStudentProcess(cov_func, optimize=opt, nu = df)\n",
        "\n",
        "stp_3 = dGPGO_stp(surrogate_stp_3, Acquisition_grad(util_stp), objfunc, param)\n",
        "stp_3.run(init_evals=n_init, max_iter=iters)\n"
      ]
    },
    {
      "cell_type": "code",
      "execution_count": 37,
      "metadata": {
        "id": "PhLBVOIfIvol",
        "colab": {
          "base_uri": "https://localhost:8080/"
        },
        "outputId": "0bda8efa-956c-4c7c-e31e-7a0202180e61"
      },
      "outputs": [
        {
          "output_type": "stream",
          "name": "stdout",
          "text": [
            "Evaluation \t Proposed point \t  Current eval. \t  Best eval. \t        Exact EI: StdDev. x \t Approx EI: StdDev. x \n",
            "init\t [4.78238555 0.48365823]\t 23.33906213310676\t 7.289910254474112\t    \t    \n",
            "init\t [4.84028785 2.19971578]\t 33.10588541607836\t 7.289910254474112\t    \t    \n",
            "init\t [ 2.02474316 -2.90724357]\t 21.003715175118646\t 7.289910254474112\t    \t    \n",
            "init\t [ 4.87705042 -5.05620219]\t 74.91598187475032\t 7.289910254474112\t    \t    \n",
            "init\t [-2.52946061 -0.66773471]\t 7.289910254474112\t 7.289910254474112\t    \t    \n",
            "1  \t [-5.12 -5.12]\t 78.64320000000001\t 7.289910254474112\t 2.9940146543141943\t 3.872482414186995\n",
            "2  \t [-0.9356617   4.54448646]\t 42.18017719838807\t 7.289910254474112\t 2.909308925852836\t 3.417763649278245\n",
            "3  \t [-0.97292774 -5.12      ]\t 53.37538839182487\t 7.289910254474112\t 3.2905741252681167\t 3.6141116378105265\n",
            "\u001b[1m\u001b[92m4\u001b[0m\t \u001b[1m\u001b[92m[0.49976441 1.02192631]\u001b[0m\t \u001b[1m\u001b[92m2.338431231941128\u001b[0m\t \u001b[1m\u001b[92m2.338431231941128\u001b[0m\t \u001b[1m\u001b[92m3.3873364373482984\u001b[0m\t \u001b[1m\u001b[92m3.3054203743462525\u001b[0m\n",
            "5  \t [-5.12        2.54146587]\t 39.132497487117064\t 2.338431231941128\t 2.8616338668869328\t 3.856224837415127\n",
            "6  \t [2.80694158 4.90587817]\t 56.01420223506265\t 2.338431231941128\t 3.0388270268681894\t 3.4436854569725908\n",
            "7  \t [-5.12       -1.33538196]\t 29.78088995138926\t 2.338431231941128\t 2.82907373955009\t 2.7235737982927923\n",
            "8  \t [-2.08045973  1.66621226]\t 9.880839291273972\t 2.338431231941128\t 2.6605133859624055\t 2.5398220047672857\n",
            "9  \t [ 2.18539451 -0.43254576]\t 5.150140852830497\t 2.338431231941128\t 3.001779424719943\t 3.191100707952874\n",
            "10 \t [ 4.79910842 -1.95858303]\t 30.703536556989363\t 2.338431231941128\t 2.8312041207379814\t 3.3957319953477407\n",
            "11 \t [-3.87104463  5.12      ]\t 67.41378652311204\t 2.338431231941128\t 3.0407955201396977\t 3.075607270539374\n",
            "12 \t [-0.3655951  -2.13708968]\t 9.267964367294132\t 2.338431231941128\t 2.729144826162577\t 2.639460516995663\n",
            "13 \t [2.18003237 1.72227148]\t 10.684979216324933\t 2.338431231941128\t 2.5638315766262534\t 2.810054527314611\n",
            "14 \t [-2.68429089 -3.03617583]\t 25.642144976226582\t 2.338431231941128\t 2.895714819743182\t 2.3318335810901014\n",
            "\u001b[1m\u001b[92m15\u001b[0m\t \u001b[1m\u001b[92m[-0.48916165 -0.21291919]\u001b[0m\t \u001b[1m\u001b[92m0.32994828461190934\u001b[0m\t \u001b[1m\u001b[92m0.32994828461190934\u001b[0m\t \u001b[1m\u001b[92m2.4714006335607386\u001b[0m\t \u001b[1m\u001b[92m2.526920885078084\u001b[0m\n",
            "16 \t [5.12 5.12]\t 78.64320000000001\t 0.32994828461190934\t 2.8534646590112893\t 2.7002055268132956\n",
            "17 \t [0.92842362 3.0150678 ]\t 19.04323810600716\t 0.32994828461190934\t 2.5292963957213677\t 2.527238143887418\n",
            "18 \t [ 1.83034374 -5.12      ]\t 55.778958197159724\t 0.32994828461190934\t 2.832192783545345\t 2.565590808188951\n",
            "19 \t [ 0.57129378 -0.24377938]\t 0.44523336464789115\t 0.32994828461190934\t 2.2812020211069055\t 2.745697749416754\n",
            "20 \t [0.81818666 5.06120375]\t 51.900996206413495\t 0.32994828461190934\t 2.839183650865606\t 3.2064562340215352\n"
          ]
        }
      ],
      "source": [
        "### EXACT STP EI GRADIENTS\n",
        "\n",
        "np.random.seed(run_num_4)\n",
        "surrogate_stp_4 = dtStudentProcess(cov_func, optimize=opt, nu = df)\n",
        "\n",
        "stp_4 = dGPGO_stp(surrogate_stp_4, Acquisition_grad(util_stp), objfunc, param)\n",
        "stp_4.run(init_evals=n_init, max_iter=iters)\n"
      ]
    },
    {
      "cell_type": "code",
      "execution_count": 38,
      "metadata": {
        "id": "arbiPyj2IvsJ",
        "colab": {
          "base_uri": "https://localhost:8080/"
        },
        "outputId": "6e93943c-a8ee-40d8-eb50-56117f99e60a"
      },
      "outputs": [
        {
          "output_type": "stream",
          "name": "stdout",
          "text": [
            "Evaluation \t Proposed point \t  Current eval. \t  Best eval. \t        Exact EI: StdDev. x \t Approx EI: StdDev. x \n",
            "init\t [-2.84678993  3.79629882]\t 36.927982283829365\t 2.6327313115208373\t    \t    \n",
            "init\t [-3.00319585  4.2865757 ]\t 45.76864772649561\t 2.6327313115208373\t    \t    \n",
            "init\t [-0.11866943  1.14425716]\t 2.6327313115208373\t 2.6327313115208373\t    \t    \n",
            "init\t [2.72289645 0.1886002 ]\t 7.485305147100433\t 2.6327313115208373\t    \t    \n",
            "init\t [-2.08076286 -3.19773462]\t 24.780587476435763\t 2.6327313115208373\t    \t    \n",
            "1  \t [ 4.32895605 -5.09732646]\t 70.70533460957368\t 2.6327313115208373\t 4.242751218859209\t 4.529726791608251\n",
            "2  \t [4.02415917 4.76321328]\t 61.570258588006226\t 2.6327313115208373\t 3.603344278127478\t 3.7690438113578053\n",
            "3  \t [-4.75642671 -0.23389661]\t 22.73301028348433\t 2.6327313115208373\t 3.29238384476449\t 3.75471965257173\n",
            "4  \t [-5.12 -5.12]\t 78.64320000000001\t 2.6327313115208373\t 3.184806886231689\t 3.403779035280114\n",
            "5  \t [0.50419853 4.87621481]\t 47.80915783862206\t 2.6327313115208373\t 2.898898354087495\t 3.3644752256411423\n",
            "6  \t [ 1.09269003 -2.49303761]\t 13.624444534162041\t 2.6327313115208373\t 3.3582753656494835\t 3.429905337438209\n",
            "7  \t [ 5.09803381 -1.45504528]\t 30.22426225845544\t 2.6327313115208373\t 2.318875973707857\t 2.7822104089886155\n",
            "8  \t [ 0.2175035 -5.12     ]\t 52.47610777120238\t 2.6327313115208373\t 3.0486330628370215\t 2.942651698368301\n",
            "9  \t [4.91446098 1.6510243 ]\t 29.603689175987775\t 2.6327313115208373\t 2.978266315792033\t 2.705538928487902\n",
            "10 \t [-1.83192513 -0.25982882]\t 3.4909717216340725\t 2.6327313115208373\t 2.535026472964388\t 2.63635661928619\n",
            "11 \t [-5.12        2.31609561]\t 36.942997710187186\t 2.6327313115208373\t 2.403447553167682\t 2.9756266054079314\n",
            "12 \t [-4.94116789 -2.41807024]\t 36.10926748827203\t 2.6327313115208373\t 2.519746863684069\t 2.697859858575298\n",
            "13 \t [1.5034374 2.2901509]\t 12.749906344291357\t 2.6327313115208373\t 2.4606414640981784\t 2.5906126627758352\n",
            "\u001b[1m\u001b[92m14\u001b[0m\t \u001b[1m\u001b[92m[-0.21098908 -0.82438525]\u001b[0m\t \u001b[1m\u001b[92m1.403738464947534\u001b[0m\t \u001b[1m\u001b[92m1.403738464947534\u001b[0m\t \u001b[1m\u001b[92m2.2264534659576527\u001b[0m\t \u001b[1m\u001b[92m2.405756587294552\u001b[0m\n",
            "15 \t [-1.52775781  1.25388569]\t 5.478502596985433\t 1.403738464947534\t 2.3465960382222413\t 2.3827656446765775\n",
            "16 \t [ 2.93152103 -2.30533996]\t 19.22300022252356\t 1.403738464947534\t 2.6289445277910883\t 2.457864267312296\n",
            "\u001b[1m\u001b[92m17\u001b[0m\t \u001b[1m\u001b[92m[ 1.03437686 -0.07929671]\u001b[0m\t \u001b[1m\u001b[92m1.0825114260628101\u001b[0m\t \u001b[1m\u001b[92m1.0825114260628101\u001b[0m\t \u001b[1m\u001b[92m2.275362992746764\u001b[0m\t \u001b[1m\u001b[92m2.402350007177648\u001b[0m\n",
            "18 \t [-3.1026502  1.3111579]\t 13.064708360504321\t 1.0825114260628101\t 2.3572440258157514\t 2.9587411609842498\n",
            "19 \t [-0.39020286  2.62212847]\t 13.903373683119863\t 1.0825114260628101\t 2.7719860616861896\t 3.1273598482596525\n",
            "20 \t [-1.55304489 -1.32331073]\t 5.914251006194528\t 1.0825114260628101\t 2.470956698087779\t 2.8103277028893925\n"
          ]
        }
      ],
      "source": [
        "### EXACT STP EI GRADIENTS\n",
        "\n",
        "np.random.seed(run_num_5)\n",
        "surrogate_stp_5 = dtStudentProcess(cov_func, optimize=opt, nu = df)\n",
        "\n",
        "stp_5 = dGPGO_stp(surrogate_stp_5, Acquisition_grad(util_stp), objfunc, param)\n",
        "stp_5.run(init_evals=n_init, max_iter=iters)\n"
      ]
    },
    {
      "cell_type": "code",
      "execution_count": 39,
      "metadata": {
        "id": "04KJCEm_Ivvf",
        "colab": {
          "base_uri": "https://localhost:8080/"
        },
        "outputId": "282d3c78-f67f-4988-d80a-2debcbdd55a7"
      },
      "outputs": [
        {
          "output_type": "stream",
          "name": "stdout",
          "text": [
            "Evaluation \t Proposed point \t  Current eval. \t  Best eval. \t        Exact EI: StdDev. x \t Approx EI: StdDev. x \n",
            "init\t [ 4.02288795 -1.72052679]\t 22.104052359713652\t 1.4757178799086357\t    \t    \n",
            "init\t [ 3.28938622 -4.69302655]\t 54.869058151382724\t 1.4757178799086357\t    \t    \n",
            "init\t [-4.0175956   0.97333314]\t 18.035829177697114\t 1.4757178799086357\t    \t    \n",
            "init\t [ 0.30532979 -0.83141193]\t 1.4757178799086357\t 1.4757178799086357\t    \t    \n",
            "init\t [-1.68542362  1.25459899]\t 5.988690020231891\t 1.4757178799086357\t    \t    \n",
            "1  \t [-5.12 -5.12]\t 78.64320000000001\t 1.4757178799086357\t 3.5532100777338433\t 3.8495935345376786\n",
            "2  \t [4.48914029 2.92869999]\t 37.30694787610285\t 1.4757178799086357\t 3.1067524074395587\t 3.688438023183272\n",
            "3  \t [0.63040683 4.21361378]\t 35.906494934008215\t 1.4757178799086357\t 3.420894266589849\t 3.5850114801948205\n",
            "4  \t [-0.90604696 -4.27703623]\t 37.406998930919904\t 1.4757178799086357\t 3.039304018382156\t 3.952634780973248\n",
            "5  \t [1.49801394 1.08989116]\t 4.619771277777468\t 1.4757178799086357\t 2.498965148120648\t 3.3535840465135376\n",
            "6  \t [-3.67373247  4.48684359]\t 53.759841099862946\t 1.4757178799086357\t 3.047202209358209\t 3.6757958509622477\n",
            "7  \t [-3.73086011 -1.89852302]\t 21.12809641606417\t 1.4757178799086357\t 3.4382496070699604\t 3.564273349033413\n",
            "8  \t [5.06568089 0.51803545]\t 26.197844295340545\t 1.4757178799086357\t 2.804871351313221\t 3.0566718118245295\n",
            "9  \t [ 1.10076191 -2.30678625]\t 11.854202379271973\t 1.4757178799086357\t 2.6480163111104775\t 2.74023503182744\n",
            "10 \t [5.12 5.12]\t 78.64320000000001\t 1.4757178799086357\t 3.147988411196992\t 3.092027020709437\n",
            "11 \t [ 2.49045206 -0.23501838]\t 6.31281876354147\t 1.4757178799086357\t 3.035688071991244\t 3.431339858252473\n",
            "12 \t [-1.07909534 -1.67611184]\t 6.783148528571608\t 1.4757178799086357\t 2.6142903094396686\t 2.8044955127667137\n",
            "13 \t [-0.73305208  2.79000324]\t 16.105601540019133\t 1.4757178799086357\t 2.772043120040433\t 3.292750013031675\n",
            "\u001b[1m\u001b[92m14\u001b[0m\t \u001b[1m\u001b[92m[-0.35736201  0.52277271]\u001b[0m\t \u001b[1m\u001b[92m0.6742902127532275\u001b[0m\t \u001b[1m\u001b[92m0.6742902127532275\u001b[0m\t \u001b[1m\u001b[92m2.7347573777540943\u001b[0m\t \u001b[1m\u001b[92m3.2641552642630702\u001b[0m\n",
            "15 \t [-1.60082384 -0.35433931]\t 2.813749659912247\t 0.6742902127532275\t 3.009071043600461\t 2.929033516978191\n",
            "16 \t [2.528251 5.12    ]\t 58.82085313162985\t 0.6742902127532275\t 2.8868815613543592\t 3.135184731573076\n",
            "17 \t [-1.33717141  5.12      ]\t 54.21682738721416\t 0.6742902127532275\t 3.1347875601600252\t 3.7648339210642474\n",
            "18 \t [-3.16019257 -4.36123636]\t 48.0275822137275\t 0.6742902127532275\t 2.880567865962646\t 3.6676309525516184\n",
            "19 \t [-5.12        2.27066921]\t 36.526277305580436\t 0.6742902127532275\t 2.9156849942637946\t 3.0059495098689974\n",
            "20 \t [2.40040692 2.09927051]\t 14.57582678429274\t 0.6742902127532275\t 2.650641585142411\t 2.161929371741479\n"
          ]
        }
      ],
      "source": [
        "### EXACT STP EI GRADIENTS\n",
        "\n",
        "np.random.seed(run_num_6)\n",
        "surrogate_stp_6 = dtStudentProcess(cov_func, optimize=opt, nu = df)\n",
        "\n",
        "stp_6 = dGPGO_stp(surrogate_stp_6, Acquisition_grad(util_stp), objfunc, param)\n",
        "stp_6.run(init_evals=n_init, max_iter=iters)\n"
      ]
    },
    {
      "cell_type": "code",
      "execution_count": 40,
      "metadata": {
        "id": "tAOkme3CIvyO",
        "colab": {
          "base_uri": "https://localhost:8080/"
        },
        "outputId": "20a27675-e924-4581-ce3d-a47252797737"
      },
      "outputs": [
        {
          "output_type": "stream",
          "name": "stdout",
          "text": [
            "Evaluation \t Proposed point \t  Current eval. \t  Best eval. \t        Exact EI: StdDev. x \t Approx EI: StdDev. x \n",
            "init\t [-4.33860312  2.86636843]\t 35.25561298730891\t 5.622520458601941\t    \t    \n",
            "init\t [-0.63068947  2.28828342]\t 10.870251237170722\t 5.622520458601941\t    \t    \n",
            "init\t [4.8946126  0.39419771]\t 24.268016205804518\t 5.622520458601941\t    \t    \n",
            "init\t [ 0.01147355 -4.38219639]\t 38.407422120416236\t 5.622520458601941\t    \t    \n",
            "init\t [-2.37118484e+00 -1.20319155e-03]\t 5.622520458601941\t 5.622520458601941\t    \t    \n",
            "1  \t [-5.12 -5.12]\t 78.64320000000001\t 5.622520458601941\t 3.050954544491586\t 3.4566865957284305\n",
            "2  \t [3.36336072 4.52412691]\t 52.24764383930762\t 5.622520458601941\t 3.0736652165933824\t 3.769304244530836\n",
            "3  \t [ 3.81570236 -4.87523301]\t 62.09537831346706\t 5.622520458601941\t 3.0657132345729323\t 3.7566694268659657\n",
            "4  \t [-4.02558214 -1.33646422]\t 19.777584798449002\t 5.622520458601941\t 2.913441032930869\t 3.046307140328312\n",
            "\u001b[1m\u001b[92m5\u001b[0m\t \u001b[1m\u001b[92m[ 1.17207755 -0.79172776]\u001b[0m\t \u001b[1m\u001b[92m2.62743148171259\u001b[0m\t \u001b[1m\u001b[92m2.62743148171259\u001b[0m\t \u001b[1m\u001b[92m2.9685400635671986\u001b[0m\t \u001b[1m\u001b[92m3.2267591812229983\u001b[0m\n",
            "6  \t [-1.29333717  5.12      ]\t 54.10152104647887\t 2.62743148171259\t 3.311938569036018\t 3.488108921335638\n",
            "7  \t [2.19666838 0.91785653]\t 6.510273172597033\t 2.62743148171259\t 2.6772660342587966\t 3.0161484207175757\n",
            "8  \t [ 3.45539431 -2.16752842]\t 21.336108765371485\t 2.62743148171259\t 3.065388755224494\t 3.029927336938766\n",
            "\u001b[1m\u001b[92m9\u001b[0m\t \u001b[1m\u001b[92m[-0.87561213 -0.94434016]\u001b[0m\t \u001b[1m\u001b[92m2.5502532820575166\u001b[0m\t \u001b[1m\u001b[92m2.5502532820575166\u001b[0m\t \u001b[1m\u001b[92m2.973952413799491\u001b[0m\t \u001b[1m\u001b[92m3.4588597254262923\u001b[0m\n",
            "10 \t [-4.57631308  5.12      ]\t 73.37144138649496\t 2.5502532820575166\t 3.022639159389131\t 3.18471733072485\n",
            "11 \t [0.93886452 3.49621498]\t 25.328505002954408\t 2.5502532820575166\t 2.5620785556835646\t 2.7137534478063587\n",
            "12 \t [-2.48745119 -3.28558073]\t 27.777494835869803\t 2.5502532820575166\t 3.15271364434828\t 3.044773230634204\n",
            "13 \t [5.12       2.71116686]\t 40.91525143988001\t 2.5502532820575166\t 3.1232823334089104\t 3.624876052387049\n",
            "\u001b[1m\u001b[92m14\u001b[0m\t \u001b[1m\u001b[92m[-0.21257905  0.55410143]\u001b[0m\t \u001b[1m\u001b[92m0.6592466352404629\u001b[0m\t \u001b[1m\u001b[92m0.6592466352404629\u001b[0m\t \u001b[1m\u001b[92m2.445835870358335\u001b[0m\t \u001b[1m\u001b[92m2.725792804799186\u001b[0m\n",
            "15 \t [ 0.973601   -2.15792653]\t 10.26119271272145\t 0.6592466352404629\t 3.208238254799984\t 2.8871634583497805\n",
            "16 \t [-2.47683397  1.76671611]\t 12.377278102609523\t 0.6592466352404629\t 2.9265147971969325\t 3.1095081297724816\n",
            "17 \t [-5.12        0.52290062]\t 26.761250121298243\t 0.6592466352404629\t 2.773627737841262\t 2.612791773135139\n",
            "18 \t [ 2.75405047 -0.44598995]\t 7.982608050993168\t 0.6592466352404629\t 3.4741338473581593\t 3.182189649470041\n",
            "19 \t [-3.63457363 -3.91766098]\t 43.90626054398093\t 0.6592466352404629\t 3.1685364837114878\t 3.181796586481718\n",
            "20 \t [2.74538998 2.06007287]\t 16.024966594174263\t 0.6592466352404629\t 2.6712707111414424\t 2.726264320592192\n"
          ]
        }
      ],
      "source": [
        "### EXACT STP EI GRADIENTS\n",
        "\n",
        "np.random.seed(run_num_7)\n",
        "surrogate_stp_7 = dtStudentProcess(cov_func, optimize=opt, nu = df)\n",
        "\n",
        "stp_7 = dGPGO_stp(surrogate_stp_7, Acquisition_grad(util_stp), objfunc, param)\n",
        "stp_7.run(init_evals=n_init, max_iter=iters)\n"
      ]
    },
    {
      "cell_type": "code",
      "execution_count": 41,
      "metadata": {
        "id": "69-J3EF4Iv1S",
        "colab": {
          "base_uri": "https://localhost:8080/"
        },
        "outputId": "e5958f32-2f04-411c-bda4-ec9e07cb9cad"
      },
      "outputs": [
        {
          "output_type": "stream",
          "name": "stdout",
          "text": [
            "Evaluation \t Proposed point \t  Current eval. \t  Best eval. \t        Exact EI: StdDev. x \t Approx EI: StdDev. x \n",
            "init\t [3.82391708 4.79785639]\t 60.661193695854244\t 0.1518306274298758\t    \t    \n",
            "init\t [3.78055209 0.31596228]\t 14.492238445440277\t 0.1518306274298758\t    \t    \n",
            "init\t [-2.73686192 -5.00327624]\t 57.555959528959804\t 0.1518306274298758\t    \t    \n",
            "init\t [-0.7119993  -0.99992207]\t 2.506631309190485\t 0.1518306274298758\t    \t    \n",
            "init\t [ 0.23218863 -0.22126801]\t 0.1518306274298758\t 0.1518306274298758\t    \t    \n",
            "1  \t [ 4.96383424 -4.82578382]\t 71.21602926839647\t 0.1518306274298758\t 3.2162195481590437\t 3.7482855178828105\n",
            "2  \t [-1.54340229  3.52582031]\t 27.244908286162797\t 0.1518306274298758\t 3.15191768543365\t 3.453546499703136\n",
            "3  \t [-4.75004216 -0.84236955]\t 23.98207346163373\t 0.1518306274298758\t 2.391832872745587\t 3.2753465877187726\n",
            "4  \t [ 1.07762044 -4.43084507]\t 40.426041945333296\t 0.1518306274298758\t 2.9795429459511573\t 3.627181572650257\n",
            "5  \t [1.24322831 2.46575913]\t 13.7055527596688\t 0.1518306274298758\t 2.7692689873468015\t 3.051422256330198\n",
            "6  \t [-3.9509451  1.9225873]\t 23.002651011317568\t 0.1518306274298758\t 3.063854087151959\t 3.526763769455834\n",
            "7  \t [ 1.76951659 -1.42014266]\t 7.164799280051253\t 0.1518306274298758\t 2.593739347734213\t 3.3919630540962467\n",
            "8  \t [ 5.12       -1.63042376]\t 31.530963256792738\t 0.1518306274298758\t 3.0751724153084496\t 3.744149594268139\n",
            "9  \t [0.74549398 5.12      ]\t 52.984561270287394\t 0.1518306274298758\t 2.8783564231646372\t 3.157680660036443\n",
            "10 \t [-5.12       -3.53269533]\t 51.174272609080276\t 0.1518306274298758\t 3.137593790052275\t 3.5264255697543527\n",
            "11 \t [-1.0161689   0.68454761]\t 1.96981010054752\t 0.1518306274298758\t 2.5821552175394915\t 3.26563245846687\n",
            "12 \t [-2.05997111 -2.11988527]\t 13.231308075286474\t 0.1518306274298758\t 2.4876854839023586\t 2.4515683986163865\n",
            "13 \t [5.12       2.36555224]\t 37.40607483818175\t 0.1518306274298758\t 2.40600952540893\t 2.5973561779345515\n",
            "14 \t [-4.31254702  5.11561442]\t 70.93708353428389\t 0.1518306274298758\t 2.5167057893360765\t 2.9020215699928453\n",
            "15 \t [-2.34985689  0.18166007]\t 5.587828183898741\t 0.1518306274298758\t 2.5798810756539905\t 2.5088924677731486\n",
            "16 \t [1.75295976 0.4028569 ]\t 3.397455299419844\t 0.1518306274298758\t 2.109716499612863\t 2.030881151104065\n",
            "17 \t [ 0.52525369 -2.34191233]\t 11.244998171093076\t 0.1518306274298758\t 2.8114100738921337\t 2.7864821383974916\n",
            "18 \t [ 3.00813535 -2.0869556 ]\t 17.75964565422339\t 0.1518306274298758\t 2.7465914894981833\t 2.4945762008311942\n",
            "19 \t [0.59350815 0.75748686]\t 1.4998246014519978\t 0.1518306274298758\t 2.5635464567174973\t 2.4365693165276765\n",
            "20 \t [ 2.83073866 -3.8287368 ]\t 37.33153232244034\t 0.1518306274298758\t 2.769869312186225\t 3.403195553205588\n"
          ]
        }
      ],
      "source": [
        "### EXACT STP EI GRADIENTS\n",
        "\n",
        "np.random.seed(run_num_8)\n",
        "surrogate_stp_8 = dtStudentProcess(cov_func, optimize=opt, nu = df)\n",
        "\n",
        "stp_8 = dGPGO_stp(surrogate_stp_8, Acquisition_grad(util_stp), objfunc, param)\n",
        "stp_8.run(init_evals=n_init, max_iter=iters)\n"
      ]
    },
    {
      "cell_type": "code",
      "execution_count": 42,
      "metadata": {
        "id": "vonm9jyuIv4t",
        "colab": {
          "base_uri": "https://localhost:8080/"
        },
        "outputId": "2d935db5-0a14-4618-c1fe-be7416aaee8f"
      },
      "outputs": [
        {
          "output_type": "stream",
          "name": "stdout",
          "text": [
            "Evaluation \t Proposed point \t  Current eval. \t  Best eval. \t        Exact EI: StdDev. x \t Approx EI: StdDev. x \n",
            "init\t [-5.01376866  0.01919582]\t 25.138613177506063\t 14.00341364504739\t    \t    \n",
            "init\t [-0.04328148 -3.74958562]\t 28.12065798163534\t 14.00341364504739\t    \t    \n",
            "init\t [-3.66478248 -2.88195916]\t 30.04200788009657\t 14.00341364504739\t    \t    \n",
            "init\t [-0.83447623 -2.57944404]\t 14.00341364504739\t 14.00341364504739\t    \t    \n",
            "init\t [-4.25922917 -1.58209393]\t 23.14707552082245\t 14.00341364504739\t    \t    \n",
            "1  \t [3.11029524 4.9495987 ]\t 58.67099112867045\t 14.00341364504739\t 3.0767090305933436\t 2.996437151513082\n",
            "2  \t [-2.02106223  4.82097351]\t 50.56826379765111\t 14.00341364504739\t 3.125288851080033\t 4.110212864660323\n",
            "\u001b[1m\u001b[92m3\u001b[0m\t \u001b[1m\u001b[92m[2.0867143  0.36749559]\u001b[0m\t \u001b[1m\u001b[92m4.624482565955004\u001b[0m\t \u001b[1m\u001b[92m4.624482565955004\u001b[0m\t \u001b[1m\u001b[92m2.6603689366739656\u001b[0m\t \u001b[1m\u001b[92m3.9782625223422916\u001b[0m\n",
            "4  \t [ 4.43889093 -3.24498238]\t 40.76357399073012\t 4.624482565955004\t 2.877525324038016\t 3.560423826984714\n",
            "5  \t [5.12       1.04719385]\t 28.407629938977987\t 4.624482565955004\t 3.3515287088347443\t 3.3417633678113754\n",
            "\u001b[1m\u001b[92m6\u001b[0m\t \u001b[1m\u001b[92m[-1.30859648  1.00836966]\u001b[0m\t \u001b[1m\u001b[92m3.746043492125785\u001b[0m\t \u001b[1m\u001b[92m3.746043492125785\u001b[0m\t \u001b[1m\u001b[92m2.7304125722554393\u001b[0m\t \u001b[1m\u001b[92m2.8490031266499045\u001b[0m\n",
            "7  \t [-5.12 -5.12]\t 78.64320000000001\t 3.746043492125785\t 2.8227339694367037\t 3.408717464399822\n",
            "8  \t [0.67629793 2.5583122 ]\t 13.547301545610338\t 3.746043492125785\t 2.757627936294646\t 2.981574145410224\n",
            "9  \t [-3.8783768   2.38287814]\t 26.398023058026126\t 3.746043492125785\t 3.074913592613038\t 3.553486011527147\n",
            "10 \t [ 1.79202262 -1.63299945]\t 8.544719504472663\t 3.746043492125785\t 2.479865042443218\t 2.759722667727885\n",
            "\u001b[1m\u001b[92m11\u001b[0m\t \u001b[1m\u001b[92m[-0.64479469 -0.55472199]\u001b[0m\t \u001b[1m\u001b[92m1.031193168920053\u001b[0m\t \u001b[1m\u001b[92m1.031193168920053\u001b[0m\t \u001b[1m\u001b[92m2.429509892851703\u001b[0m\t \u001b[1m\u001b[92m3.763059773262969\u001b[0m\n",
            "\u001b[1m\u001b[92m12\u001b[0m\t \u001b[1m\u001b[92m[0.43949267 0.40727926]\u001b[0m\t \u001b[1m\u001b[92m0.5249065987417781\u001b[0m\t \u001b[1m\u001b[92m0.5249065987417781\u001b[0m\t \u001b[1m\u001b[92m2.3875732443489195\u001b[0m\t \u001b[1m\u001b[92m2.8802654206602347\u001b[0m\n",
            "13 \t [0.51869252 5.12      ]\t 52.69784193074383\t 0.5249065987417781\t 2.511370241558457\t 2.5287876993301914\n",
            "14 \t [5.10098568 3.46318942]\t 50.00741684043946\t 0.5249065987417781\t 2.3646977360024013\t 2.975655638710525\n",
            "15 \t [-2.33490952 -0.22146411]\t 5.549895163718375\t 0.5249065987417781\t 2.5273016969651656\t 2.65319880660291\n",
            "16 \t [ 2.04695877 -5.12      ]\t 56.61884018968673\t 0.5249065987417781\t 2.9126337605505723\t 3.1564230612301816\n",
            "17 \t [2.68614439 1.94868614]\t 14.810127055111177\t 0.5249065987417781\t 2.6181361283484836\t 3.707305653134574\n",
            "18 \t [ 3.89709703 -0.74267536]\t 16.290498617022426\t 0.5249065987417781\t 2.5621416261574277\t 2.6200936401403765\n",
            "19 \t [-4.99200742  4.38701668]\t 63.41196877291334\t 0.5249065987417781\t 2.8007824384113595\t 3.2400355775808767\n",
            "20 \t [-1.47522518  2.68570211]\t 16.602280936812328\t 0.5249065987417781\t 2.828001608705827\t 3.4156255967683204\n"
          ]
        }
      ],
      "source": [
        "### EXACT STP EI GRADIENTS\n",
        "\n",
        "np.random.seed(run_num_9)\n",
        "surrogate_stp_9 = dtStudentProcess(cov_func, optimize=opt, nu = df)\n",
        "\n",
        "stp_9 = dGPGO_stp(surrogate_stp_9, Acquisition_grad(util_stp), objfunc, param)\n",
        "stp_9.run(init_evals=n_init, max_iter=iters)\n"
      ]
    },
    {
      "cell_type": "code",
      "execution_count": 43,
      "metadata": {
        "id": "6amuYlUdIv7r",
        "colab": {
          "base_uri": "https://localhost:8080/"
        },
        "outputId": "c3c309f3-c05c-418d-9a7e-6b0087aba53b"
      },
      "outputs": [
        {
          "output_type": "stream",
          "name": "stdout",
          "text": [
            "Evaluation \t Proposed point \t  Current eval. \t  Best eval. \t        Exact EI: StdDev. x \t Approx EI: StdDev. x \n",
            "init\t [ 2.77832339 -4.90750004]\t 55.886194099964676\t 14.855028828430257\t    \t    \n",
            "init\t [1.36855793 2.54775176]\t 14.855028828430257\t 14.855028828430257\t    \t    \n",
            "init\t [-0.01528819 -2.81808235]\t 15.883409988980564\t 14.855028828430257\t    \t    \n",
            "init\t [-3.09183626  2.66783449]\t 23.79413325191142\t 14.855028828430257\t    \t    \n",
            "init\t [-3.38830503 -4.2154003 ]\t 47.019810427389544\t 14.855028828430257\t    \t    \n",
            "1  \t [ 5.12       -0.92295094]\t 27.918076891516563\t 14.855028828430257\t 3.02960415297717\t 3.662383805122701\n",
            "2  \t [-4.53368979 -0.83360555]\t 21.94413955906086\t 14.855028828430257\t 2.4369309015275533\t 3.4653086708394247\n",
            "3  \t [5.12       2.36993047]\t 37.44754083098983\t 14.855028828430257\t 2.507623572939473\t 3.5663939187319205\n",
            "\u001b[1m\u001b[92m4\u001b[0m\t \u001b[1m\u001b[92m[-1.19128957  0.19557535]\u001b[0m\t \u001b[1m\u001b[92m1.4956702686100236\u001b[0m\t \u001b[1m\u001b[92m1.4956702686100236\u001b[0m\t \u001b[1m\u001b[92m3.0287371804704954\u001b[0m\t \u001b[1m\u001b[92m3.4966608795856624\u001b[0m\n",
            "5  \t [-0.42424098  5.12      ]\t 52.608780405988526\t 1.4956702686100236\t 2.8005753460479754\t 3.3124766336250966\n",
            "6  \t [3.42348054 5.12      ]\t 64.14901897626575\t 1.4956702686100236\t 3.286776033619666\t 3.4438934121413607\n",
            "7  \t [ 1.68117311 -0.38336035]\t 3.1202733515771084\t 1.4956702686100236\t 2.6620146840516665\t 2.8846897932069386\n",
            "8  \t [-5.12        1.66064529]\t 31.72988556757864\t 1.4956702686100236\t 3.198753889285747\t 2.712401598024657\n",
            "9  \t [-1.01487021 -5.11348335]\t 53.32538539534439\t 1.4956702686100236\t 3.394661046925657\t 2.836462235280315\n",
            "10 \t [ 2.63849196 -2.00447928]\t 14.99751422350801\t 1.4956702686100236\t 3.0519840376612675\t 3.3075469950719434\n",
            "11 \t [2.92708347 0.8038947 ]\t 9.860311008221533\t 1.4956702686100236\t 2.7383216584144385\t 3.0013558976822456\n",
            "12 \t [-2.251636   -1.04516792]\t 7.25461662257405\t 1.4956702686100236\t 3.1039604779652525\t 2.8793005132057092\n",
            "13 \t [-3.28172753  5.07406562]\t 62.26201932589913\t 1.4956702686100236\t 2.9406971361716896\t 3.1941582574720337\n",
            "\u001b[1m\u001b[92m14\u001b[0m\t \u001b[1m\u001b[92m[ 0.15749244 -0.10134924]\u001b[0m\t \u001b[1m\u001b[92m0.045347202943637324\u001b[0m\t \u001b[1m\u001b[92m0.045347202943637324\u001b[0m\t \u001b[1m\u001b[92m2.6651085021444945\u001b[0m\t \u001b[1m\u001b[92m3.060946891872577\u001b[0m\n",
            "15 \t [-0.85386779  1.93939477]\t 8.251594333154815\t 0.045347202943637324\t 2.6871884166268223\t 3.1575969511784923\n",
            "16 \t [-5.12 -5.12]\t 78.64320000000001\t 0.045347202943637324\t 2.8657007135603787\t 2.539831427015039\n",
            "17 \t [ 4.57759092 -3.4678307 ]\t 45.006038169609965\t 0.045347202943637324\t 2.8065737394594024\t 3.060850214899629\n",
            "18 \t [-0.39756821 -1.13740305]\t 2.74543188123452\t 0.045347202943637324\t 3.1382917220092734\t 2.2889552429729725\n",
            "19 \t [-3.0544152   0.65046362]\t 10.175658051857951\t 0.045347202943637324\t 2.5848920165398046\t 2.8151047207845825\n",
            "20 \t [3.01785305 3.96730068]\t 40.586386347298316\t 0.045347202943637324\t 3.2357144942295832\t 3.212063870486814\n"
          ]
        }
      ],
      "source": [
        "### EXACT STP EI GRADIENTS\n",
        "\n",
        "np.random.seed(run_num_10)\n",
        "surrogate_stp_10 = dtStudentProcess(cov_func, optimize=opt, nu = df)\n",
        "\n",
        "stp_10 = dGPGO_stp(surrogate_stp_10, Acquisition_grad(util_stp), objfunc, param)\n",
        "stp_10.run(init_evals=n_init, max_iter=iters)\n"
      ]
    },
    {
      "cell_type": "code",
      "execution_count": 44,
      "metadata": {
        "id": "VwbLIP9cIv-F",
        "colab": {
          "base_uri": "https://localhost:8080/"
        },
        "outputId": "8323671c-4b27-476d-e7c5-ee4d8bdc05c1"
      },
      "outputs": [
        {
          "output_type": "stream",
          "name": "stdout",
          "text": [
            "Evaluation \t Proposed point \t  Current eval. \t  Best eval. \t        Exact EI: StdDev. x \t Approx EI: StdDev. x \n",
            "init\t [-3.27403839 -4.92057353]\t 59.14341502486697\t 0.7122141741228657\t    \t    \n",
            "init\t [-0.37664229  2.30332343]\t 10.752457105378047\t 0.7122141741228657\t    \t    \n",
            "init\t [-0.81711509 -0.14922651]\t 0.7122141741228657\t 0.7122141741228657\t    \t    \n",
            "init\t [-4.98912446 -0.12931474]\t 24.924807467825406\t 0.7122141741228657\t    \t    \n",
            "init\t [4.52410012 3.59214172]\t 46.27444610017016\t 0.7122141741228657\t    \t    \n",
            "1  \t [ 3.03550212 -4.46785095]\t 49.13765732819627\t 0.7122141741228657\t 2.917049448223232\t 3.810074819442744\n",
            "2  \t [ 3.06822416 -0.50290842]\t 9.919833239745746\t 0.7122141741228657\t 2.2335983049261006\t 3.4061985062063633\n",
            "3  \t [1.01074484 5.12      ]\t 53.4504051288689\t 0.7122141741228657\t 2.662224677342874\t 3.998638509657341\n",
            "4  \t [-0.19079099 -2.689345  ]\t 14.501554258695888\t 0.7122141741228657\t 2.8169856422850947\t 2.795142542378547\n",
            "5  \t [-3.91546497  2.74145216]\t 30.361985816690076\t 0.7122141741228657\t 2.738143302693825\t 3.269220779515964\n",
            "6  \t [-2.56266227 -1.5103724 ]\t 11.129687503414907\t 0.7122141741228657\t 3.0196381112890722\t 3.186634087628443\n",
            "7  \t [ 5.12       -1.37161633]\t 29.977062710415765\t 0.7122141741228657\t 2.8791801871695033\t 3.8309593885766566\n",
            "8  \t [-2.074133    5.01401875]\t 54.58279565827046\t 0.7122141741228657\t 2.84618040303133\t 2.9886449319467046\n",
            "9  \t [-0.3180281  -5.08164082]\t 51.747288644115976\t 0.7122141741228657\t 3.276541189996209\t 3.1400505292260057\n",
            "10 \t [2.14866947 1.52580327]\t 9.272931734510147\t 0.7122141741228657\t 2.827972114446844\t 3.1534582495534984\n",
            "\u001b[1m\u001b[92m11\u001b[0m\t \u001b[1m\u001b[92m[ 0.75649133 -0.22542793]\u001b[0m\t \u001b[1m\u001b[92m0.6739146301351958\u001b[0m\t \u001b[1m\u001b[92m0.6739146301351958\u001b[0m\t \u001b[1m\u001b[92m2.6170694433883024\u001b[0m\t \u001b[1m\u001b[92m3.0209008062349287\u001b[0m\n",
            "12 \t [-2.07401079  0.70912855]\t 5.307247365268639\t 0.6739146301351958\t 2.823731536480539\t 3.2553695012048927\n",
            "13 \t [5.10624441 1.33370465]\t 29.631268207452024\t 0.6739146301351958\t 2.8238256117626443\t 3.508280627953309\n",
            "14 \t [-5.10567648 -2.94119279]\t 43.36916242924716\t 0.6739146301351958\t 3.1061880278342033\t 3.276029820599031\n",
            "15 \t [ 2.48525067 -2.20402312]\t 15.891906674001516\t 0.6739146301351958\t 2.700667925857132\t 2.6694945552253957\n",
            "16 \t [ 0.09774553 -1.04826661]\t 2.2072799593147234\t 0.6739146301351958\t 3.1098116357452166\t 3.075935013419045\n",
            "17 \t [0.40956463 1.06895822]\t 2.4530865286199894\t 0.6739146301351958\t 1.835895720953259\t 2.5797803520406366\n",
            "18 \t [ 5.08396191 -3.84746858]\t 55.452697713551885\t 0.6739146301351958\t 2.833491673220444\t 2.8149273177089884\n",
            "19 \t [-4.57340702  4.63646853]\t 63.90973259572008\t 0.6739146301351958\t 3.066573180206733\t 3.0412830270034\n",
            "20 \t [3.49601779 5.12      ]\t 64.65094036410784\t 0.6739146301351958\t 3.3093282020234294\t 2.9526628436026843\n"
          ]
        }
      ],
      "source": [
        "### EXACT STP EI GRADIENTS\n",
        "\n",
        "np.random.seed(run_num_11)\n",
        "surrogate_stp_11 = dtStudentProcess(cov_func, optimize=opt, nu = df)\n",
        "\n",
        "stp_11 = dGPGO_stp(surrogate_stp_11, Acquisition_grad(util_stp), objfunc, param)\n",
        "stp_11.run(init_evals=n_init, max_iter=iters)\n"
      ]
    },
    {
      "cell_type": "code",
      "execution_count": 45,
      "metadata": {
        "id": "MlUNFjc-JTBY",
        "colab": {
          "base_uri": "https://localhost:8080/"
        },
        "outputId": "b8f68749-03a5-4e10-b54d-d3c434330469"
      },
      "outputs": [
        {
          "output_type": "stream",
          "name": "stdout",
          "text": [
            "Evaluation \t Proposed point \t  Current eval. \t  Best eval. \t        Exact EI: StdDev. x \t Approx EI: StdDev. x \n",
            "init\t [-3.54137249  2.45810889]\t 24.62591779447066\t 6.112828495563743\t    \t    \n",
            "init\t [-2.42365424  0.34549139]\t 6.112828495563743\t 6.112828495563743\t    \t    \n",
            "init\t [-4.97075238  4.28796936]\t 61.48174177959852\t 6.112828495563743\t    \t    \n",
            "init\t [ 4.10332011 -4.77776458]\t 62.49130467854858\t 6.112828495563743\t    \t    \n",
            "init\t [ 4.6791612  -3.71497655]\t 49.4966510918416\t 6.112828495563743\t    \t    \n",
            "1  \t [5.12      4.3492536]\t 64.04641368501669\t 6.112828495563743\t 3.5850537694099014\t 3.6079742361239755\n",
            "2  \t [-5.12 -5.12]\t 78.64320000000001\t 6.112828495563743\t 3.0520983958014876\t 3.34200243501747\n",
            "3  \t [-0.50478567 -5.12      ]\t 52.68360857567453\t 6.112828495563743\t 2.6518666275265623\t 2.8490558959052166\n",
            "\u001b[1m\u001b[92m4\u001b[0m\t \u001b[1m\u001b[92m[1.73103938 0.55066033]\u001b[0m\t \u001b[1m\u001b[92m3.6029509351301945\u001b[0m\t \u001b[1m\u001b[92m3.6029509351301945\u001b[0m\t \u001b[1m\u001b[92m2.352448972003072\u001b[0m\t \u001b[1m\u001b[92m2.304505699502614\u001b[0m\n",
            "5  \t [0.42957022 4.67137479]\t 43.828015439807544\t 3.6029509351301945\t 2.826501358624722\t 3.172292074812374\n",
            "6  \t [5.10383112 0.23181841]\t 26.156571606938883\t 3.6029509351301945\t 3.09564817812829\t 2.9981013044978058\n",
            "7  \t [ 0.53812978 -1.93152582]\t 7.751167672888344\t 3.6029509351301945\t 3.0315494835152403\t 2.5643490729250917\n",
            "8  \t [-5.12       -1.29626008]\t 29.574980386584524\t 3.6029509351301945\t 3.130433396163166\t 3.024925796210338\n",
            "9  \t [-2.45163218 -2.22882795]\t 15.94584838086529\t 3.6029509351301945\t 2.6952009733412536\t 2.3541825837932584\n",
            "10 \t [-0.60287212  1.75945663]\t 6.554830043296933\t 3.6029509351301945\t 2.5698180284968952\t 2.6303063863469696\n",
            "11 \t [2.67580612 2.34155044]\t 18.12565531039113\t 3.6029509351301945\t 2.547081568964479\t 2.8074339197142697\n",
            "12 \t [ 2.60507112 -1.4148912 ]\t 10.790229773900375\t 3.6029509351301945\t 2.3280706277441734\t 3.0766059005654753\n",
            "\u001b[1m\u001b[92m13\u001b[0m\t \u001b[1m\u001b[92m[-0.50460335 -0.64702438]\u001b[0m\t \u001b[1m\u001b[92m1.0919056406810845\u001b[0m\t \u001b[1m\u001b[92m1.0919056406810845\u001b[0m\t \u001b[1m\u001b[92m2.7229210806308433\u001b[0m\t \u001b[1m\u001b[92m2.7795895794642047\u001b[0m\n",
            "14 \t [-2.04879104  4.94245278]\t 53.053223758111486\t 1.0919056406810845\t 2.896322569034139\t 2.9577891826885736\n",
            "15 \t [2.77395958 5.12      ]\t 60.1236517372644\t 1.0919056406810845\t 3.0677198732388833\t 3.210638698115245\n",
            "16 \t [ 1.68670882 -3.58195288]\t 28.50575949872755\t 1.0919056406810845\t 2.6989154666610844\t 2.934352414104557\n",
            "\u001b[1m\u001b[92m17\u001b[0m\t \u001b[1m\u001b[92m[0.53697721 0.06292453]\u001b[0m\t \u001b[1m\u001b[92m0.2962635152340248\u001b[0m\t \u001b[1m\u001b[92m0.2962635152340248\u001b[0m\t \u001b[1m\u001b[92m2.300122416550466\u001b[0m\t \u001b[1m\u001b[92m2.6891285723430083\u001b[0m\n",
            "18 \t [-2.72505001 -4.0017124 ]\t 39.453301818649116\t 0.2962635152340248\t 2.824339277784916\t 3.1121461598301883\n",
            "19 \t [-5.00472374  0.95025063]\t 26.853212204316698\t 0.2962635152340248\t 2.6995013897639617\t 2.7958440602770325\n",
            "20 \t [-0.42561495  0.39371643]\t 0.49117334521223965\t 0.2962635152340248\t 2.2774653731813714\t 2.098345724616901\n"
          ]
        }
      ],
      "source": [
        "### EXACT STP EI GRADIENTS\n",
        "\n",
        "np.random.seed(run_num_12)\n",
        "surrogate_stp_12 = dtStudentProcess(cov_func, optimize=opt, nu = df)\n",
        "\n",
        "stp_12 = dGPGO_stp(surrogate_stp_12, Acquisition_grad(util_stp), objfunc, param)\n",
        "stp_12.run(init_evals=n_init, max_iter=iters)\n"
      ]
    },
    {
      "cell_type": "code",
      "execution_count": 46,
      "metadata": {
        "id": "9BsKdU9eJTFL",
        "colab": {
          "base_uri": "https://localhost:8080/"
        },
        "outputId": "1be42b3b-0ac1-4c82-c3a0-47729ae28347"
      },
      "outputs": [
        {
          "output_type": "stream",
          "name": "stdout",
          "text": [
            "Evaluation \t Proposed point \t  Current eval. \t  Best eval. \t        Exact EI: StdDev. x \t Approx EI: StdDev. x \n",
            "init\t [ 2.84367268 -2.68757791]\t 22.532624345992815\t 12.440151302029248\t    \t    \n",
            "init\t [3.32061217 4.76927179]\t 56.51837198799\t 12.440151302029248\t    \t    \n",
            "init\t [ 4.83943541 -0.47667971]\t 23.87458213765974\t 12.440151302029248\t    \t    \n",
            "init\t [1.11659482 2.82139151]\t 17.16728408945556\t 12.440151302029248\t    \t    \n",
            "init\t [1.45012065 2.27346667]\t 12.440151302029248\t 12.440151302029248\t    \t    \n",
            "1  \t [-5.12 -5.12]\t 78.6432\t 12.440151302029248\t 2.688041238719633\t 3.116140253854654\n",
            "2  \t [-3.79946932  2.66821301]\t 28.67468842013809\t 12.440151302029248\t 1.993446692176966\t 3.7718614903198406\n",
            "\u001b[1m\u001b[92m3\u001b[0m\t \u001b[1m\u001b[92m[-2.23724711 -1.33041277]\u001b[0m\t \u001b[1m\u001b[92m8.54527092573222\u001b[0m\t \u001b[1m\u001b[92m8.54527092573222\u001b[0m\t \u001b[1m\u001b[92m2.648138198511781\u001b[0m\t \u001b[1m\u001b[92m3.1413214140449948\u001b[0m\n",
            "4  \t [-0.51332362 -5.12      ]\t 52.69230114095165\t 8.54527092573222\t 3.06462465347584\t 3.698936783248702\n",
            "5  \t [-5.12       -1.75439767]\t 32.37022233576809\t 8.54527092573222\t 3.465481352659524\t 3.879831660011816\n",
            "6  \t [-1.47143339  4.29526654]\t 39.06374549479558\t 8.54527092573222\t 2.774652560555325\t 2.946883149140189\n",
            "\u001b[1m\u001b[92m7\u001b[0m\t \u001b[1m\u001b[92m[ 0.18267647 -0.52458385]\u001b[0m\t \u001b[1m\u001b[92m0.5837471268716766\u001b[0m\t \u001b[1m\u001b[92m0.5837471268716766\u001b[0m\t \u001b[1m\u001b[92m3.2595789220121203\u001b[0m\t \u001b[1m\u001b[92m3.7732835205135378\u001b[0m\n",
            "8  \t [-1.13094141  0.8604345 ]\t 2.7597235495268055\t 0.5837471268716766\t 2.90936386176108\t 3.8493334637350753\n",
            "9  \t [5.12       2.30865457]\t 36.87417181872518\t 0.5837471268716766\t 3.1692855895285446\t 3.7864121638150365\n",
            "10 \t [ 2.4505544 -0.2436658]\t 6.123962908083425\t 0.5837471268716766\t 2.7208236851517404\t 3.220006056271119\n",
            "11 \t [ 5.12       -3.51846581]\t 50.9736032729875\t 0.5837471268716766\t 3.004362783707858\t 3.363240491907847\n",
            "12 \t [ 0.22177269 -2.29778985]\t 10.608859542816615\t 0.5837471268716766\t 2.8514922561023583\t 2.3936836487996036\n",
            "13 \t [-5.06405808  0.67990728]\t 26.56923211752101\t 0.5837471268716766\t 3.3821887054420934\t 3.761187717969718\n",
            "14 \t [ 2.21560695 -4.97658291]\t 54.44166906549968\t 0.5837471268716766\t 2.498185118660564\t 2.8667931542624436\n",
            "15 \t [-3.62246273  5.12      ]\t 65.55103623663224\t 0.5837471268716766\t 2.9453204948095184\t 3.721311121820956\n",
            "16 \t [0.7426431 5.12     ]\t 52.9803187697003\t 0.5837471268716766\t 2.628765462564644\t 2.4145581997958554\n",
            "17 \t [0.65395338 0.64121484]\t 1.2499679565003616\t 0.5837471268716766\t 3.2160896534927663\t 2.751855520901328\n",
            "18 \t [-2.76963434 -3.91277331]\t 38.2904643537935\t 0.5837471268716766\t 2.3688537996426065\t 2.4248777775637294\n",
            "19 \t [-1.25605959  2.05429662]\t 10.017954935426381\t 0.5837471268716766\t 2.672743837853515\t 2.240144561510458\n",
            "20 \t [-2.51753514  0.24856886]\t 6.461556122741737\t 0.5837471268716766\t 3.1931530963358283\t 3.74401857958114\n"
          ]
        }
      ],
      "source": [
        "### EXACT STP EI GRADIENTS\n",
        "\n",
        "np.random.seed(run_num_13)\n",
        "surrogate_stp_13 = dtStudentProcess(cov_func, optimize=opt, nu = df)\n",
        "\n",
        "stp_13 = dGPGO_stp(surrogate_stp_13, Acquisition_grad(util_stp), objfunc, param)\n",
        "stp_13.run(init_evals=n_init, max_iter=iters)\n"
      ]
    },
    {
      "cell_type": "code",
      "execution_count": 47,
      "metadata": {
        "id": "k6GjFBr1JTJf",
        "colab": {
          "base_uri": "https://localhost:8080/"
        },
        "outputId": "77a36b79-900e-4728-b3e3-3bdec7bcfee9"
      },
      "outputs": [
        {
          "output_type": "stream",
          "name": "stdout",
          "text": [
            "Evaluation \t Proposed point \t  Current eval. \t  Best eval. \t        Exact EI: StdDev. x \t Approx EI: StdDev. x \n",
            "init\t [0.14277984 2.79721013]\t 15.669155142359655\t 6.942951853664133\t    \t    \n",
            "init\t [ 3.7931795  -5.03759925]\t 65.14302308089468\t 6.942951853664133\t    \t    \n",
            "init\t [-1.94830412  4.68586229]\t 47.71049977745547\t 6.942951853664133\t    \t    \n",
            "init\t [ 0.13431513 -1.86076749]\t 6.942951853664133\t 6.942951853664133\t    \t    \n",
            "init\t [ 0.40140736 -2.85434939]\t 16.455748743182696\t 6.942951853664133\t    \t    \n",
            "1  \t [-5.12 -5.12]\t 78.64320000000001\t 6.942951853664133\t 3.253213124749766\t 3.8676874304300517\n",
            "2  \t [5.12       3.13586271]\t 45.881669829697685\t 6.942951853664133\t 3.1707709840747405\t 3.8980608866139788\n",
            "3  \t [-4.30415445 -0.04968542]\t 18.530682816800297\t 6.942951853664133\t 2.7508013660032833\t 3.7580275145107804\n",
            "4  \t [ 4.85715482 -1.03191025]\t 25.721630442552335\t 6.942951853664133\t 2.758272796543012\t 3.4076477057832304\n",
            "5  \t [2.25106485 4.99722511]\t 55.011810511995954\t 6.942951853664133\t 2.952223757716765\t 3.0757683844412647\n",
            "\u001b[1m\u001b[92m6\u001b[0m\t \u001b[1m\u001b[92m[-1.50472395  0.49758763]\u001b[0m\t \u001b[1m\u001b[92m2.759381051149387\u001b[0m\t \u001b[1m\u001b[92m2.759381051149387\u001b[0m\t \u001b[1m\u001b[92m3.0862810294297374\u001b[0m\t \u001b[1m\u001b[92m2.8911116803310226\u001b[0m\n",
            "7  \t [1.83387158 0.1727657 ]\t 3.4227809563812213\t 2.759381051149387\t 2.7576838534039165\t 3.0409961691475527\n",
            "8  \t [-5.12       3.1952144]\t 46.63319014467511\t 2.759381051149387\t 3.1616942169721325\t 2.9638750494288066\n",
            "9  \t [-1.55634432 -5.12      ]\t 54.85100765101992\t 2.759381051149387\t 2.886939682380283\t 3.101320419005077\n",
            "10 \t [-2.98932647 -2.33932975]\t 19.881000148411132\t 2.759381051149387\t 2.89678479784517\t 2.632797504239924\n",
            "11 \t [ 2.66536377 -2.21824206]\t 16.945359748186842\t 2.759381051149387\t 2.842836971444007\t 3.0678326505813187\n",
            "12 \t [2.41617774 1.75434639]\t 11.993377399352156\t 2.759381051149387\t 2.6460235721699648\t 3.301704557069019\n",
            "13 \t [-2.71293541  1.90600982]\t 14.625765404149215\t 2.759381051149387\t 3.126691034779616\t 3.1520139712135706\n",
            "\u001b[1m\u001b[92m14\u001b[0m\t \u001b[1m\u001b[92m[-0.06694853 -0.06893981]\u001b[0m\t \u001b[1m\u001b[92m0.013987501118139789\u001b[0m\t \u001b[1m\u001b[92m0.013987501118139789\u001b[0m\t \u001b[1m\u001b[92m2.616462129745283\u001b[0m\t \u001b[1m\u001b[92m3.0475887945650517\u001b[0m\n",
            "15 \t [-1.50102309 -0.82922833]\t 3.6283095858977186\t 0.013987501118139789\t 2.739903726847548\t 3.124291127921019\n",
            "16 \t [ 1.15313124 -5.12      ]\t 53.75851165859974\t 0.013987501118139789\t 2.653514745317073\t 2.7227834469005305\n",
            "17 \t [5.12 5.12]\t 78.64320000000001\t 0.013987501118139789\t 2.45191224401111\t 3.16445648167224\n",
            "18 \t [0.46222471 0.93643799]\t 1.967483887587862\t 0.013987501118139789\t 2.390543143269544\t 2.283686065834181\n",
            "19 \t [-5.12       -2.67625751]\t 40.539108505310956\t 0.013987501118139789\t 2.79451882183777\t 3.2223422701776854\n",
            "20 \t [ 5.00788372 -3.79145698]\t 53.82919141791261\t 0.013987501118139789\t 3.1167955341935\t 2.812740103670161\n"
          ]
        }
      ],
      "source": [
        "### EXACT STP EI GRADIENTS\n",
        "\n",
        "np.random.seed(run_num_14)\n",
        "surrogate_stp_14 = dtStudentProcess(cov_func, optimize=opt, nu = df)\n",
        "\n",
        "stp_14 = dGPGO_stp(surrogate_stp_14, Acquisition_grad(util_stp), objfunc, param)\n",
        "stp_14.run(init_evals=n_init, max_iter=iters)\n"
      ]
    },
    {
      "cell_type": "code",
      "execution_count": 48,
      "metadata": {
        "id": "dPS8WB3aJTN6",
        "colab": {
          "base_uri": "https://localhost:8080/"
        },
        "outputId": "3fea8299-ea89-494f-86eb-1f0490947636"
      },
      "outputs": [
        {
          "output_type": "stream",
          "name": "stdout",
          "text": [
            "Evaluation \t Proposed point \t  Current eval. \t  Best eval. \t        Exact EI: StdDev. x \t Approx EI: StdDev. x \n",
            "init\t [ 3.57189322 -3.28810573]\t 34.38169974295086\t 5.478261179905657\t    \t    \n",
            "init\t [-4.56332069 -1.41784631]\t 24.84447200795673\t 5.478261179905657\t    \t    \n",
            "init\t [-2.29989449  0.3072023 ]\t 5.478261179905657\t 5.478261179905657\t    \t    \n",
            "init\t [-1.9873903  -2.00218256]\t 11.967190241167383\t 5.478261179905657\t    \t    \n",
            "init\t [-3.97576933 -2.5610341 ]\t 28.924533081850157\t 5.478261179905657\t    \t    \n",
            "1  \t [2.7754098  2.98802689]\t 25.55950900004833\t 5.478261179905657\t 2.946951084400587\t 3.7096168365584195\n",
            "2  \t [-4.96635744  4.09320867]\t 58.17342058218776\t 5.478261179905657\t 2.673394451174834\t 3.9076289182279553\n",
            "3  \t [-0.11735048 -5.12      ]\t 52.44257113458514\t 5.478261179905657\t 3.2482887021351186\t 3.8652446760107573\n",
            "4  \t [-0.72555979  5.04745052]\t 51.47995052899442\t 5.478261179905657\t 2.5199072891535645\t 3.080467066253649\n",
            "\u001b[1m\u001b[92m5\u001b[0m\t \u001b[1m\u001b[92m[ 1.18728701 -0.62417343]\u001b[0m\t \u001b[1m\u001b[92m2.1888353885351486\u001b[0m\t \u001b[1m\u001b[92m2.1888353885351486\u001b[0m\t \u001b[1m\u001b[92m3.4453477401706767\u001b[0m\t \u001b[1m\u001b[92m3.6925022276370756\u001b[0m\n",
            "6  \t [5.12 5.12]\t 78.64320000000001\t 2.1888353885351486\t 3.0965092840891706\t 4.010778110897173\n",
            "7  \t [5.00772953 0.40994903]\t 25.413471450205222\t 2.1888353885351486\t 2.75872647724268\t 3.067062397152336\n",
            "8  \t [-5.12 -5.12]\t 78.64320000000001\t 2.1888353885351486\t 3.409604557548034\t 3.385616528441186\n",
            "9  \t [-0.1448344   1.52701079]\t 4.684500907891964\t 2.1888353885351486\t 2.0097448933739748\t 2.7148226589890365\n",
            "10 \t [ 1.05777677 -2.54024922]\t 14.024623903600599\t 2.1888353885351486\t 2.3289749056612177\t 3.0546098808355175\n",
            "11 \t [-5.12        0.88864144]\t 27.79376720055747\t 2.1888353885351486\t 2.3303680456361233\t 2.845752306628948\n",
            "12 \t [-2.42217211  2.4380243 ]\t 17.754842714759143\t 2.1888353885351486\t 2.461805207599745\t 3.000134129655453\n",
            "13 \t [ 2.68055442 -0.24896179]\t 7.30933596645575\t 2.1888353885351486\t 2.8933759798184\t 3.246308727364529\n",
            "\u001b[1m\u001b[92m14\u001b[0m\t \u001b[1m\u001b[92m[-0.36940443 -0.54465885]\u001b[0m\t \u001b[1m\u001b[92m0.7297661534115025\u001b[0m\t \u001b[1m\u001b[92m0.7297661534115025\u001b[0m\t \u001b[1m\u001b[92m2.3744162420661734\u001b[0m\t \u001b[1m\u001b[92m3.4289869427467337\u001b[0m\n",
            "15 \t [2.04520381 5.12      ]\t 56.61165864239008\t 0.7297661534115025\t 2.181411854813822\t 2.6349261041272145\n",
            "16 \t [-2.42245283 -5.12      ]\t 58.29707770940978\t 0.7297661534115025\t 3.0982782303533494\t 3.022282856462233\n",
            "17 \t [1.56827868 0.96161451]\t 4.308902965668278\t 0.7297661534115025\t 2.2759308626677135\t 2.5799566623402423\n",
            "18 \t [ 3.05964589 -2.50794515]\t 21.941010700535113\t 0.7297661534115025\t 3.1555518089287777\t 2.9944896018396636\n",
            "19 \t [5.12      2.7417997]\t 41.24933123592011\t 0.7297661534115025\t 2.843220140065337\t 2.7550899026780247\n",
            "20 \t [ 2.07341872 -4.67005088]\t 47.91781562405985\t 0.7297661534115025\t 2.3285753720773408\t 2.72877844556751\n"
          ]
        }
      ],
      "source": [
        "### EXACT STP EI GRADIENTS\n",
        "\n",
        "np.random.seed(run_num_15)\n",
        "surrogate_stp_15 = dtStudentProcess(cov_func, optimize=opt, nu = df)\n",
        "\n",
        "stp_15 = dGPGO_stp(surrogate_stp_15, Acquisition_grad(util_stp), objfunc, param)\n",
        "stp_15.run(init_evals=n_init, max_iter=iters)\n"
      ]
    },
    {
      "cell_type": "code",
      "execution_count": 49,
      "metadata": {
        "id": "lu8ki9XIQPPN",
        "colab": {
          "base_uri": "https://localhost:8080/"
        },
        "outputId": "a60ce04b-c7c0-4cd9-fe9b-b51b6c93fd98"
      },
      "outputs": [
        {
          "output_type": "stream",
          "name": "stdout",
          "text": [
            "Evaluation \t Proposed point \t  Current eval. \t  Best eval. \t        Exact EI: StdDev. x \t Approx EI: StdDev. x \n",
            "init\t [-2.83349935  0.23719262]\t 8.141239237549925\t 8.141239237549925\t    \t    \n",
            "init\t [ 0.51918292 -4.65303603]\t 43.571039504503474\t 8.141239237549925\t    \t    \n",
            "init\t [-1.42613673 -2.83565116]\t 18.11570093066862\t 8.141239237549925\t    \t    \n",
            "init\t [ 1.9325559  -3.44339021]\t 27.448644544199137\t 8.141239237549925\t    \t    \n",
            "init\t [-4.39987336  4.51595121]\t 60.146516261103784\t 8.141239237549925\t    \t    \n",
            "1  \t [2.142749   4.83374619]\t 51.32157765102846\t 8.141239237549925\t 3.5713409571506967\t 3.9198499862978435\n",
            "2  \t [5.12       1.23042807]\t 29.24230645017389\t 8.141239237549925\t 3.5755970411754117\t 3.363470468860747\n",
            "3  \t [-5.12 -5.12]\t 78.64320000000001\t 8.141239237549925\t 3.43031690431971\t 3.567913445022909\n",
            "\u001b[1m\u001b[92m4\u001b[0m\t \u001b[1m\u001b[92m[0.30900264 1.2409931 ]\u001b[0m\t \u001b[1m\u001b[92m3.175610363392214\u001b[0m\t \u001b[1m\u001b[92m3.175610363392214\u001b[0m\t \u001b[1m\u001b[92m2.5329741922215594\u001b[0m\t \u001b[1m\u001b[92m2.8801072246778756\u001b[0m\n",
            "5  \t [-5.12       -1.41124362]\t 30.197617120510053\t 3.175610363392214\t 2.9628074295706313\t 3.2048724275895473\n",
            "6  \t [ 4.7626215  -3.77763161]\t 51.22356469434732\t 3.175610363392214\t 3.3107556395489093\t 3.70913471485472\n",
            "7  \t [-1.1356977   4.86351255]\t 48.59731791527554\t 3.175610363392214\t 2.560905716888432\t 2.93382699014613\n",
            "8  \t [ 2.0843122  -0.52276172]\t 4.890916985299526\t 3.175610363392214\t 2.635541195969025\t 2.702515913289744\n",
            "9  \t [5.12 5.12]\t 78.64320000000001\t 3.175610363392214\t 2.9564900699212617\t 3.0735036448717565\n",
            "10 \t [2.39822856 1.44210275]\t 9.910820913449419\t 3.175610363392214\t 2.7106182622270243\t 3.2310191956335776\n",
            "\u001b[1m\u001b[92m11\u001b[0m\t \u001b[1m\u001b[92m[ 0.00984841 -0.98092865]\u001b[0m\t \u001b[1m\u001b[92m1.9245390285892507\u001b[0m\t \u001b[1m\u001b[92m1.9245390285892507\u001b[0m\t \u001b[1m\u001b[92m2.9432018620642713\u001b[0m\t \u001b[1m\u001b[92m2.905264391254048\u001b[0m\n",
            "12 \t [-4.92162021  1.37237908]\t 27.989194232983134\t 1.9245390285892507\t 3.00561877110854\t 3.5191467346335954\n",
            "13 \t [-1.61927831  1.99631188]\t 10.592584474847495\t 1.9245390285892507\t 2.451776423125741\t 2.479645174598839\n",
            "14 \t [-2.42344238 -4.90769742]\t 54.04406092408473\t 1.9245390285892507\t 2.5954095286385126\t 2.5694019465915363\n",
            "15 \t [ 4.34645832 -1.14254556]\t 21.50252064931245\t 1.9245390285892507\t 2.0925588289463133\t 2.589350332878798\n",
            "16 \t [-1.26424146 -0.66973349]\t 2.4953923464933965\t 1.9245390285892507\t 1.9617543089267142\t 1.6087922883106085\n",
            "17 \t [0.97835734 2.52827043]\t 13.741485779481243\t 1.9245390285892507\t 2.573662341798437\t 2.758176113017284\n",
            "18 \t [-4.06066837 -2.87289754]\t 32.996108097268404\t 1.9245390285892507\t 2.848429655728161\t 3.0362664433887354\n",
            "\u001b[1m\u001b[92m19\u001b[0m\t \u001b[1m\u001b[92m[-0.35823938  0.26007061]\u001b[0m\t \u001b[1m\u001b[92m0.26360889777065394\u001b[0m\t \u001b[1m\u001b[92m0.26360889777065394\u001b[0m\t \u001b[1m\u001b[92m2.13488651730335\u001b[0m\t \u001b[1m\u001b[92m1.6719833875262298\u001b[0m\n",
            "20 \t [-3.42963222  2.7780368 ]\t 27.19735414222299\t 0.26360889777065394\t 3.1227316903996165\t 3.1133176740717943\n"
          ]
        }
      ],
      "source": [
        "### EXACT STP EI GRADIENTS\n",
        "\n",
        "np.random.seed(run_num_16)\n",
        "surrogate_stp_16 = dtStudentProcess(cov_func, optimize=opt, nu = df)\n",
        "\n",
        "stp_16 = dGPGO_stp(surrogate_stp_16, Acquisition_grad(util_stp), objfunc, param)\n",
        "stp_16.run(init_evals=n_init, max_iter=iters)\n"
      ]
    },
    {
      "cell_type": "code",
      "execution_count": 50,
      "metadata": {
        "id": "yU2SflSsJTUs",
        "colab": {
          "base_uri": "https://localhost:8080/"
        },
        "outputId": "09a23efc-c54a-4619-e83f-12092a3ccc5a"
      },
      "outputs": [
        {
          "output_type": "stream",
          "name": "stdout",
          "text": [
            "Evaluation \t Proposed point \t  Current eval. \t  Best eval. \t        Exact EI: StdDev. x \t Approx EI: StdDev. x \n",
            "init\t [-2.10263037  0.31320838]\t 4.617253458637031\t 3.1817562258207746\t    \t    \n",
            "init\t [-3.15882714 -4.42470033]\t 49.134134969019556\t 3.1817562258207746\t    \t    \n",
            "init\t [2.93873111 1.60085526]\t 13.761615685279608\t 3.1817562258207746\t    \t    \n",
            "init\t [1.40821398 0.77417363]\t 3.1817562258207746\t 3.1817562258207746\t    \t    \n",
            "init\t [-4.71999574 -1.45598869]\t 26.518165900202685\t 3.1817562258207746\t    \t    \n",
            "1  \t [ 4.96008736 -4.44720822]\t 64.15778856025273\t 3.1817562258207746\t 3.029644539389759\t 4.401036040357305\n",
            "2  \t [-1.95646705  4.77829278]\t 49.491927105437156\t 3.1817562258207746\t 2.8602684376192613\t 3.44151993856674\n",
            "3  \t [5.12 5.12]\t 78.64320000000001\t 3.1817562258207746\t 2.9359319265865165\t 3.3392456253916687\n",
            "4  \t [ 0.36733635 -2.43679252]\t 12.01085157427602\t 3.1817562258207746\t 3.2521570007740186\t 3.7544991846821616\n",
            "5  \t [1.46283012 4.70698611]\t 46.45130852567843\t 3.1817562258207746\t 2.6554254934283974\t 3.371835178147673\n",
            "6  \t [-5.12        2.09568674]\t 34.998205825519875\t 3.1817562258207746\t 2.6139536820959104\t 3.1179283364223065\n",
            "7  \t [ 3.79063835 -1.16778615]\t 17.096388078181455\t 3.1817562258207746\t 2.7067523103049047\t 3.0917947323517043\n",
            "8  \t [ 0.78944164 -5.12      ]\t 53.052018110265955\t 3.1817562258207746\t 3.240149806598699\t 3.51567562268199\n",
            "9  \t [-0.91864904  1.95066181]\t 8.454079062955335\t 3.1817562258207746\t 3.2774426065395965\t 3.598057308544916\n",
            "10 \t [5.12       1.56274465]\t 31.098741673950702\t 3.1817562258207746\t 2.5913463879320995\t 2.473247469708018\n",
            "11 \t [-2.40853536 -1.28048258]\t 9.080313813015932\t 3.1817562258207746\t 3.041449776815338\t 3.111964435357034\n",
            "\u001b[1m\u001b[92m12\u001b[0m\t \u001b[1m\u001b[92m[-0.11013766 -0.22909088]\u001b[0m\t \u001b[1m\u001b[92m0.117095564407296\u001b[0m\t \u001b[1m\u001b[92m0.117095564407296\u001b[0m\t \u001b[1m\u001b[92m2.660253841206626\u001b[0m\t \u001b[1m\u001b[92m3.4089844617924485\u001b[0m\n",
            "13 \t [ 1.62017287 -0.79968244]\t 3.9039441296767574\t 0.117095564407296\t 2.185899150183957\t 2.382390880536777\n",
            "14 \t [-2.73135779  1.91810604]\t 14.818576972036228\t 0.117095564407296\t 2.5062662161530573\t 3.0777535859348406\n",
            "15 \t [0.91021931 2.24708492]\t 10.927280472812296\t 0.117095564407296\t 2.6070244303403003\t 3.228236385491268\n",
            "16 \t [-4.48281977  4.45493667]\t 59.78859460029231\t 0.117095564407296\t 2.468041516143173\t 2.8504238436173073\n",
            "17 \t [ 2.38769447 -2.75495324]\t 20.880619578507016\t 0.117095564407296\t 2.6359391181305463\t 2.895174724466146\n",
            "18 \t [-1.28495498 -3.21503379]\t 22.323993875006973\t 0.117095564407296\t 2.9980491401567164\t 3.240160329005221\n",
            "19 \t [-0.49742919 -0.71524537]\t 1.2705876765940947\t 0.117095564407296\t 2.335744270443361\t 2.683366455123379\n",
            "20 \t [-5.12 -5.12]\t 78.64320000000001\t 0.117095564407296\t 3.082293275837615\t 3.1768054754339103\n"
          ]
        }
      ],
      "source": [
        "### EXACT STP EI GRADIENTS\n",
        "\n",
        "np.random.seed(run_num_17)\n",
        "surrogate_stp_17 = dtStudentProcess(cov_func, optimize=opt, nu = df)\n",
        "\n",
        "stp_17 = dGPGO_stp(surrogate_stp_17, Acquisition_grad(util_stp), objfunc, param)\n",
        "stp_17.run(init_evals=n_init, max_iter=iters)\n"
      ]
    },
    {
      "cell_type": "code",
      "execution_count": 51,
      "metadata": {
        "id": "eVEhyZ9BQS-1",
        "colab": {
          "base_uri": "https://localhost:8080/"
        },
        "outputId": "769596b5-8f0b-4801-f9c7-b4993b4def92"
      },
      "outputs": [
        {
          "output_type": "stream",
          "name": "stdout",
          "text": [
            "Evaluation \t Proposed point \t  Current eval. \t  Best eval. \t        Exact EI: StdDev. x \t Approx EI: StdDev. x \n",
            "init\t [1.53983224 0.05584255]\t 2.3773200933391867\t 2.3773200933391867\t    \t    \n",
            "init\t [ 3.87687906 -3.25795609]\t 36.25874706055664\t 2.3773200933391867\t    \t    \n",
            "init\t [3.60686662 2.56139557]\t 26.130981366974602\t 2.3773200933391867\t    \t    \n",
            "init\t [1.70088108 4.99604939]\t 52.81401545301259\t 2.3773200933391867\t    \t    \n",
            "init\t [-2.48864335 -4.83014733]\t 52.85399210258478\t 2.3773200933391867\t    \t    \n",
            "1  \t [-5.00718904  2.9174042 ]\t 42.09443666312248\t 2.3773200933391867\t 3.2039672804564496\t 3.6212463412265103\n",
            "2  \t [-1.69518918 -0.75621845]\t 4.017399056328712\t 2.3773200933391867\t 2.8448462093332503\t 2.478451126286371\n",
            "3  \t [ 0.70708592 -5.12      ]\t 52.92877050483074\t 2.3773200933391867\t 3.383005353277074\t 3.078055261820011\n",
            "4  \t [-5.12       -1.56644697]\t 31.12191221108737\t 2.3773200933391867\t 3.1384261892828493\t 3.4931075927773554\n",
            "5  \t [-1.76847027  4.21781194]\t 38.70736220052378\t 2.3773200933391867\t 2.7562910326851133\t 2.798896432171147\n",
            "6  \t [ 4.91608763 -0.19848845]\t 24.246712867680763\t 2.3773200933391867\t 2.6803642380933783\t 2.9370537055228043\n",
            "7  \t [5.12 5.12]\t 78.6431999999999\t 2.3773200933391867\t 3.148868085868087\t 2.9701135548193354\n",
            "8  \t [-1.4290074  1.1753212]\t 4.804821967229817\t 2.3773200933391867\t 2.6166705112092035\t 3.1125897266575886\n",
            "9  \t [0.81457827 1.77154953]\t 6.940313231556821\t 2.3773200933391867\t 2.7923417837004836\t 3.04942119169544\n",
            "10 \t [ 0.01998299 -2.09351761]\t 8.766031253677555\t 2.3773200933391867\t 3.0571068782557886\t 3.0241566271623506\n",
            "11 \t [ 1.82692059 -1.33642691]\t 6.909712590940311\t 2.3773200933391867\t 2.9013324279394586\t 2.9535251064053787\n",
            "12 \t [-3.53098986  0.63402436]\t 13.271863154535044\t 2.3773200933391867\t 2.693718418685685\t 2.7593357333358677\n",
            "13 \t [-2.80775613 -2.02283535]\t 16.06722022415214\t 2.3773200933391867\t 2.8031831958371765\t 2.659050852022551\n",
            "14 \t [-5.12 -5.12]\t 78.64320000000001\t 2.3773200933391867\t 2.570552836283185\t 2.7938537430496355\n",
            "\u001b[1m\u001b[92m15\u001b[0m\t \u001b[1m\u001b[92m[-0.11235586 -0.05351569]\u001b[0m\t \u001b[1m\u001b[92m0.01835169799654567\u001b[0m\t \u001b[1m\u001b[92m0.01835169799654567\u001b[0m\t \u001b[1m\u001b[92m2.614602433799466\u001b[0m\t \u001b[1m\u001b[92m3.225946699580955\u001b[0m\n",
            "16 \t [2.93339802 0.10880662]\t 8.628501703998433\t 0.01835169799654567\t 2.2376451410398626\t 2.714401369776861\n",
            "17 \t [-4.00829848  4.96587477]\t 65.38628115121425\t 0.01835169799654567\t 3.172869373802951\t 3.321071681715148\n",
            "18 \t [ 2.92889108 -5.10770481]\t 60.75569979941354\t 0.01835169799654567\t 3.228954100569104\t 3.472059844712851\n",
            "19 \t [-2.8009322   2.51203546]\t 20.465865484510847\t 0.01835169799654567\t 2.5728229954202755\t 2.866878706293068\n",
            "20 \t [3.36865916 4.78932992]\t 57.22322665055839\t 0.01835169799654567\t 2.7965836835412023\t 3.053154181659552\n"
          ]
        }
      ],
      "source": [
        "### EXACT STP EI GRADIENTS\n",
        "\n",
        "np.random.seed(run_num_18)\n",
        "surrogate_stp_18 = dtStudentProcess(cov_func, optimize=opt, nu = df)\n",
        "\n",
        "stp_18 = dGPGO_stp(surrogate_stp_18, Acquisition_grad(util_stp), objfunc, param)\n",
        "stp_18.run(init_evals=n_init, max_iter=iters)\n"
      ]
    },
    {
      "cell_type": "code",
      "execution_count": 52,
      "metadata": {
        "id": "B6gTz1ojQUxn",
        "colab": {
          "base_uri": "https://localhost:8080/"
        },
        "outputId": "8cf6c1a6-93aa-40a3-c69e-61576c851536"
      },
      "outputs": [
        {
          "output_type": "stream",
          "name": "stdout",
          "text": [
            "Evaluation \t Proposed point \t  Current eval. \t  Best eval. \t        Exact EI: StdDev. x \t Approx EI: StdDev. x \n",
            "init\t [-4.12125592  2.6751971 ]\t 31.298109376682206\t 22.814458446152262\t    \t    \n",
            "init\t [-2.59135515 -3.70553152]\t 34.17704923320956\t 22.814458446152262\t    \t    \n",
            "init\t [-1.72598719 -4.27008445]\t 39.4462742815243\t 22.814458446152262\t    \t    \n",
            "init\t [1.76104531 3.13952049]\t 22.814458446152262\t 22.814458446152262\t    \t    \n",
            "init\t [4.9432772  1.38916592]\t 28.295553455390152\t 22.814458446152262\t    \t    \n",
            "1  \t [ 4.82682643 -3.73084389]\t 51.136645588372765\t 22.814458446152262\t 3.1702654048389025\t 4.5172584886297455\n",
            "2  \t [-5.12       -1.36648449]\t 29.948959696456487\t 22.814458446152262\t 3.803646175121205\t 3.8383411111182264\n",
            "\u001b[1m\u001b[92m3\u001b[0m\t \u001b[1m\u001b[92m[ 0.24577043 -0.51969434]\u001b[0m\t \u001b[1m\u001b[92m0.6005675098753336\u001b[0m\t \u001b[1m\u001b[92m0.6005675098753336\u001b[0m\t \u001b[1m\u001b[92m3.4538163428424666\u001b[0m\t \u001b[1m\u001b[92m3.4850073454610655\u001b[0m\n",
            "4  \t [-1.99064521  5.12      ]\t 56.391468365049796\t 0.6005675098753336\t 3.1157082644864857\t 3.326056971740211\n",
            "5  \t [5.12 5.12]\t 78.64320000000001\t 0.6005675098753336\t 2.930533887380456\t 2.9160663698891867\n",
            "6  \t [ 1.57664235 -5.12      ]\t 54.91460109293939\t 0.6005675098753336\t 3.2317676065688\t 3.124971605728314\n",
            "7  \t [-1.91709289 -0.0881984 ]\t 3.690803069337918\t 0.6005675098753336\t 2.8992892771995002\t 3.5103815069948237\n",
            "8  \t [ 2.28571467 -0.87212858]\t 6.745708084056087\t 0.6005675098753336\t 2.592567880761915\t 2.783111229008921\n",
            "9  \t [-5.12 -5.12]\t 78.64320000000001\t 0.6005675098753336\t 3.3977004707402547\t 3.1478604099681413\n",
            "10 \t [-0.56098393 -1.79243889]\t 6.740377310274877\t 0.6005675098753336\t 2.815993003762822\t 2.897327828144427\n",
            "11 \t [-0.21409531  1.28831781]\t 3.365362346427389\t 0.6005675098753336\t 2.157782525741432\t 3.079091976101774\n",
            "12 \t [ 5.12       -1.04090266]\t 28.38135669419372\t 0.6005675098753336\t 2.685426365950148\t 2.712583965339584\n",
            "13 \t [1.2765769 5.12     ]\t 54.05844858957823\t 0.6005675098753336\t 2.743185740639864\t 2.4673709502241623\n",
            "14 \t [-1.54946761  1.66280102]\t 7.9306643445121905\t 0.6005675098753336\t 2.40656173729271\t 2.3530409346908696\n",
            "15 \t [1.60930952 0.86646018]\t 4.09138361562259\t 0.6005675098753336\t 2.7300043709515593\t 2.8743048231061556\n",
            "16 \t [ 2.04077197 -2.56763283]\t 17.350226978240403\t 0.6005675098753336\t 2.726410462122301\t 2.566802247381252\n",
            "17 \t [-3.37762991  0.27173929]\t 11.556068304239199\t 0.6005675098753336\t 2.7244400863290372\t 2.824603860779096\n",
            "18 \t [-2.39255425 -1.38183227]\t 9.543236657006101\t 0.6005675098753336\t 2.6378845850414865\t 2.8775701443226733\n",
            "19 \t [3.28436559 4.10530129]\t 44.49405465914458\t 0.6005675098753336\t 2.4378995723681665\t 2.6274144638235355\n",
            "20 \t [-0.56711323  3.21107446]\t 20.943615850102347\t 0.6005675098753336\t 2.4569508444912884\t 2.724627503614723\n"
          ]
        }
      ],
      "source": [
        "### EXACT STP EI GRADIENTS\n",
        "\n",
        "np.random.seed(run_num_19)\n",
        "surrogate_stp_19 = dtStudentProcess(cov_func, optimize=opt, nu = df)\n",
        "\n",
        "stp_19 = dGPGO_stp(surrogate_stp_19, Acquisition_grad(util_stp), objfunc, param)\n",
        "stp_19.run(init_evals=n_init, max_iter=iters)\n"
      ]
    },
    {
      "cell_type": "code",
      "execution_count": 53,
      "metadata": {
        "id": "aw3xvSryIwDi",
        "colab": {
          "base_uri": "https://localhost:8080/"
        },
        "outputId": "3976b525-345e-4570-83a1-74526fd3ebe2"
      },
      "outputs": [
        {
          "output_type": "stream",
          "name": "stdout",
          "text": [
            "Evaluation \t Proposed point \t  Current eval. \t  Best eval. \t        Exact EI: StdDev. x \t Approx EI: StdDev. x \n",
            "init\t [0.9024594  4.07258857]\t 33.98638835688907\t 1.615187047660523\t    \t    \n",
            "init\t [4.00927467 3.23417577]\t 36.994069169927414\t 1.615187047660523\t    \t    \n",
            "init\t [-4.75249064  1.96359764]\t 30.297598676217497\t 1.615187047660523\t    \t    \n",
            "init\t [-1.24230715  0.18955208]\t 1.615187047660523\t 1.615187047660523\t    \t    \n",
            "init\t [ 1.61742301 -3.13497377]\t 22.27217824772924\t 1.615187047660523\t    \t    \n",
            "1  \t [-5.12 -5.12]\t 78.64320000000001\t 1.615187047660523\t 3.0617269241324045\t 2.954028476584628\n",
            "2  \t [-2.4105533  -2.32247375]\t 16.598535829081897\t 1.615187047660523\t 2.8756746536160906\t 3.4806981888039896\n",
            "3  \t [ 4.62178162 -0.61932787]\t 22.127999328741105\t 1.615187047660523\t 2.7205294819466506\t 3.1103653948711942\n",
            "4  \t [-2.72116469  5.12      ]\t 59.83353725657117\t 1.615187047660523\t 2.8299867703491492\t 3.3889802636364275\n",
            "5  \t [ 1.57721126 -0.05242972]\t 2.4930931061581845\t 1.615187047660523\t 3.254598039407733\t 3.0658619327184082\n",
            "6  \t [ 4.14636433 -4.97978639]\t 66.7888821736437\t 1.615187047660523\t 3.171665674028531\t 4.000305362180794\n",
            "7  \t [-1.13115757 -5.12      ]\t 53.7083174395236\t 1.615187047660523\t 3.889457008230501\t 3.5144529740811077\n",
            "8  \t [-5.0492747  -1.91255659]\t 32.81092039194326\t 1.615187047660523\t 3.0307668943530754\t 3.1731650232060233\n",
            "9  \t [-0.42108459  1.71043035]\t 6.028456224191401\t 1.615187047660523\t 2.5156703197926347\t 2.733911746218403\n",
            "10 \t [-2.99096567  0.27184629]\t 9.093676432150694\t 1.615187047660523\t 3.1033943662707397\t 2.9669836143992994\n",
            "11 \t [ 0.08952587 -1.51604982]\t 4.604828993678127\t 1.615187047660523\t 2.886948657370786\t 2.8878138370586077\n",
            "12 \t [5.12 5.12]\t 78.64320000000001\t 1.615187047660523\t 2.8098933352414983\t 3.2928393410751973\n",
            "13 \t [-1.93654471  2.11441936]\t 12.691743927214048\t 1.615187047660523\t 2.8450741209743335\t 3.52121054606278\n",
            "14 \t [2.60973768 1.11903232]\t 9.315197395262068\t 1.615187047660523\t 2.7803209365356927\t 2.968764461998213\n",
            "\u001b[1m\u001b[92m15\u001b[0m\t \u001b[1m\u001b[92m[0.24873258 0.01943564]\u001b[0m\t \u001b[1m\u001b[92m0.0626233858150284\u001b[0m\t \u001b[1m\u001b[92m0.0626233858150284\u001b[0m\t \u001b[1m\u001b[92m2.367911422419973\u001b[0m\t \u001b[1m\u001b[92m2.6499796907707447\u001b[0m\n",
            "16 \t [5.12       1.57887275]\t 31.200078299876036\t 0.0626233858150284\t 2.221429375016906\t 3.160101111163682\n",
            "17 \t [ 4.66645586 -2.38026481]\t 33.10713145894154\t 0.0626233858150284\t 2.5977380724586863\t 2.885618154582647\n",
            "18 \t [2.70240921 5.12      ]\t 59.7318155443883\t 0.0626233858150284\t 3.215750174381412\t 3.444098024341125\n",
            "19 \t [1.06510368 1.55817728]\t 5.990278700205682\t 0.0626233858150284\t 2.785442037947257\t 2.838717101982429\n",
            "20 \t [-0.40650897 -3.33504737]\t 22.410331435463675\t 0.0626233858150284\t 2.490319544103456\t 2.807846009986952\n"
          ]
        }
      ],
      "source": [
        "### EXACT STP EI GRADIENTS\n",
        "\n",
        "np.random.seed(run_num_20)\n",
        "surrogate_stp_20 = dtStudentProcess(cov_func, optimize=opt, nu = df)\n",
        "\n",
        "stp_20 = dGPGO_stp(surrogate_stp_20, Acquisition_grad(util_stp), objfunc, param)\n",
        "stp_20.run(init_evals=n_init, max_iter=iters)\n"
      ]
    },
    {
      "cell_type": "code",
      "execution_count": 54,
      "metadata": {
        "id": "5c8szjivRPme",
        "colab": {
          "base_uri": "https://localhost:8080/"
        },
        "outputId": "815fa608-b471-48e7-b1f9-f68d6f78531d"
      },
      "outputs": [
        {
          "output_type": "execute_result",
          "data": {
            "text/plain": [
              "1346.3499114513397"
            ]
          },
          "metadata": {},
          "execution_count": 54
        }
      ],
      "source": [
        "end_stp = time.time()\n",
        "end_stp\n",
        "\n",
        "time_stp = end_stp - start_stp\n",
        "time_stp\n"
      ]
    },
    {
      "cell_type": "code",
      "execution_count": 55,
      "metadata": {
        "id": "f6gCKnp6RR8c",
        "colab": {
          "base_uri": "https://localhost:8080/"
        },
        "outputId": "cf69648e-022f-4138-f4f6-07afb7c5225e"
      },
      "outputs": [
        {
          "output_type": "execute_result",
          "data": {
            "text/plain": [
              "(-2.705497284074419, -0.40402020248519377)"
            ]
          },
          "metadata": {},
          "execution_count": 55
        }
      ],
      "source": [
        "### Simple regret minimisation: run number = 1\n",
        "\n",
        "gp_output_1 = np.append(np.min(-gp_1.GP.y[0:n_init]),-gp_1.GP.y[n_init:(n_init+iters)]) \n",
        "stp_output_1 = np.append(np.min(-stp_1.GP.y[0:n_init]),-stp_1.GP.y[n_init:(n_init+iters)]) \n",
        "\n",
        "regret_gp_1 = np.log(gp_output_1 - y_global_orig)\n",
        "regret_stp_1 = np.log(stp_output_1 - y_global_orig)\n",
        "\n",
        "simple_regret_gp_1 = min_max_array(regret_gp_1)\n",
        "simple_regret_stp_1 = min_max_array(regret_stp_1)\n",
        "\n",
        "min_simple_regret_gp_1 = min(simple_regret_gp_1)\n",
        "min_simple_regret_stp_1 = min(simple_regret_stp_1)\n",
        "\n",
        "min_simple_regret_gp_1, min_simple_regret_stp_1\n"
      ]
    },
    {
      "cell_type": "code",
      "execution_count": 56,
      "metadata": {
        "id": "94yBw5tqQxfk",
        "colab": {
          "base_uri": "https://localhost:8080/"
        },
        "outputId": "0e21d0dd-5355-498f-bc46-0dfebe64342f"
      },
      "outputs": [
        {
          "output_type": "execute_result",
          "data": {
            "text/plain": [
              "(-4.500018005065547, 0.12742168273537824)"
            ]
          },
          "metadata": {},
          "execution_count": 56
        }
      ],
      "source": [
        "### Simple regret minimisation: run number = 2\n",
        "\n",
        "gp_output_2 = np.append(np.min(-gp_2.GP.y[0:n_init]),-gp_2.GP.y[n_init:(n_init+iters)]) \n",
        "stp_output_2 = np.append(np.min(-stp_2.GP.y[0:n_init]),-stp_2.GP.y[n_init:(n_init+iters)]) \n",
        "\n",
        "regret_gp_2 = np.log(gp_output_2 - y_global_orig)\n",
        "regret_stp_2 = np.log(stp_output_2 - y_global_orig)\n",
        "\n",
        "simple_regret_gp_2 = min_max_array(regret_gp_2)\n",
        "simple_regret_stp_2 = min_max_array(regret_stp_2)\n",
        "\n",
        "min_simple_regret_gp_2 = min(simple_regret_gp_2)\n",
        "min_simple_regret_stp_2 = min(simple_regret_stp_2)\n",
        "\n",
        "min_simple_regret_gp_2, min_simple_regret_stp_2\n"
      ]
    },
    {
      "cell_type": "code",
      "execution_count": 57,
      "metadata": {
        "id": "Bu6SBWALQxfl",
        "colab": {
          "base_uri": "https://localhost:8080/"
        },
        "outputId": "22a21af1-c911-4c6f-cccd-6c030e9fe461"
      },
      "outputs": [
        {
          "output_type": "execute_result",
          "data": {
            "text/plain": [
              "(-3.880580085494919, -2.1504936202085077)"
            ]
          },
          "metadata": {},
          "execution_count": 57
        }
      ],
      "source": [
        "### Simple regret minimisation: run number = 3\n",
        "\n",
        "gp_output_3 = np.append(np.min(-gp_3.GP.y[0:n_init]),-gp_3.GP.y[n_init:(n_init+iters)]) \n",
        "stp_output_3 = np.append(np.min(-stp_3.GP.y[0:n_init]),-stp_3.GP.y[n_init:(n_init+iters)]) \n",
        "\n",
        "regret_gp_3 = np.log(gp_output_3 - y_global_orig)\n",
        "regret_stp_3 = np.log(stp_output_3 - y_global_orig)\n",
        "\n",
        "simple_regret_gp_3 = min_max_array(regret_gp_3)\n",
        "simple_regret_stp_3 = min_max_array(regret_stp_3)\n",
        "\n",
        "min_simple_regret_gp_3 = min(simple_regret_gp_3)\n",
        "min_simple_regret_stp_3 = min(simple_regret_stp_3)\n",
        "\n",
        "min_simple_regret_gp_3, min_simple_regret_stp_3"
      ]
    },
    {
      "cell_type": "code",
      "execution_count": 58,
      "metadata": {
        "id": "AZm0jgxkQxfm",
        "colab": {
          "base_uri": "https://localhost:8080/"
        },
        "outputId": "faca0ecd-c937-42fa-f1b0-19bfcdcfd6ec"
      },
      "outputs": [
        {
          "output_type": "execute_result",
          "data": {
            "text/plain": [
              "(-3.4882898766269252, -1.1088193500996675)"
            ]
          },
          "metadata": {},
          "execution_count": 58
        }
      ],
      "source": [
        "### Simple regret minimisation: run number = 4\n",
        "\n",
        "gp_output_4 = np.append(np.min(-gp_4.GP.y[0:n_init]),-gp_4.GP.y[n_init:(n_init+iters)]) \n",
        "stp_output_4 = np.append(np.min(-stp_4.GP.y[0:n_init]),-stp_4.GP.y[n_init:(n_init+iters)]) \n",
        "\n",
        "regret_gp_4 = np.log(gp_output_4 - y_global_orig)\n",
        "regret_stp_4 = np.log(stp_output_4 - y_global_orig)\n",
        "\n",
        "simple_regret_gp_4 = min_max_array(regret_gp_4)\n",
        "simple_regret_stp_4 = min_max_array(regret_stp_4)\n",
        "\n",
        "min_simple_regret_gp_4 = min(simple_regret_gp_4)\n",
        "min_simple_regret_stp_4 = min(simple_regret_stp_4)\n",
        "\n",
        "min_simple_regret_gp_4, min_simple_regret_stp_4"
      ]
    },
    {
      "cell_type": "code",
      "execution_count": 59,
      "metadata": {
        "id": "NONPm8JIQxfn",
        "colab": {
          "base_uri": "https://localhost:8080/"
        },
        "outputId": "f5c37f4b-91d7-4c80-bd5c-52ecb7e67a28"
      },
      "outputs": [
        {
          "output_type": "execute_result",
          "data": {
            "text/plain": [
              "(-0.918055330481993, 0.07928373609312964)"
            ]
          },
          "metadata": {},
          "execution_count": 59
        }
      ],
      "source": [
        "### Simple regret minimisation: run number = 5\n",
        "\n",
        "gp_output_5 = np.append(np.min(-gp_5.GP.y[0:n_init]),-gp_5.GP.y[n_init:(n_init+iters)]) \n",
        "stp_output_5 = np.append(np.min(-stp_5.GP.y[0:n_init]),-stp_5.GP.y[n_init:(n_init+iters)]) \n",
        "\n",
        "regret_gp_5 = np.log(gp_output_5 - y_global_orig)\n",
        "regret_stp_5 = np.log(stp_output_5 - y_global_orig)\n",
        "\n",
        "simple_regret_gp_5 = min_max_array(regret_gp_5)\n",
        "simple_regret_stp_5 = min_max_array(regret_stp_5)\n",
        "\n",
        "min_simple_regret_gp_5 = min(simple_regret_gp_5)\n",
        "min_simple_regret_stp_5 = min(simple_regret_stp_5)\n",
        "\n",
        "min_simple_regret_gp_5, min_simple_regret_stp_5"
      ]
    },
    {
      "cell_type": "code",
      "execution_count": 60,
      "metadata": {
        "id": "CJv3lPuSQxfp",
        "colab": {
          "base_uri": "https://localhost:8080/"
        },
        "outputId": "f245b0fa-6f88-4eaa-b629-02e2b678af4c"
      },
      "outputs": [
        {
          "output_type": "execute_result",
          "data": {
            "text/plain": [
              "(-5.302046709930412, -0.3940946780240456)"
            ]
          },
          "metadata": {},
          "execution_count": 60
        }
      ],
      "source": [
        "### Simple regret minimisation: run number = 6\n",
        "\n",
        "gp_output_6 = np.append(np.min(-gp_6.GP.y[0:n_init]),-gp_6.GP.y[n_init:(n_init+iters)]) \n",
        "stp_output_6 = np.append(np.min(-stp_6.GP.y[0:n_init]),-stp_6.GP.y[n_init:(n_init+iters)]) \n",
        "\n",
        "regret_gp_6 = np.log(gp_output_6 - y_global_orig)\n",
        "regret_stp_6 = np.log(stp_output_6 - y_global_orig)\n",
        "\n",
        "simple_regret_gp_6 = min_max_array(regret_gp_6)\n",
        "simple_regret_stp_6 = min_max_array(regret_stp_6)\n",
        "\n",
        "min_simple_regret_gp_6 = min(simple_regret_gp_6)\n",
        "min_simple_regret_stp_6 = min(simple_regret_stp_6)\n",
        "\n",
        "min_simple_regret_gp_6, min_simple_regret_stp_6"
      ]
    },
    {
      "cell_type": "code",
      "execution_count": 61,
      "metadata": {
        "id": "quR2ZyApQxfq",
        "colab": {
          "base_uri": "https://localhost:8080/"
        },
        "outputId": "3d012567-520f-49b4-c57e-e2fa462637cb"
      },
      "outputs": [
        {
          "output_type": "execute_result",
          "data": {
            "text/plain": [
              "(-4.19406652640337, -0.4166575576821864)"
            ]
          },
          "metadata": {},
          "execution_count": 61
        }
      ],
      "source": [
        "### Simple regret minimisation: run number = 7\n",
        "\n",
        "gp_output_7 = np.append(np.min(-gp_7.GP.y[0:n_init]),-gp_7.GP.y[n_init:(n_init+iters)]) \n",
        "stp_output_7 = np.append(np.min(-stp_7.GP.y[0:n_init]),-stp_7.GP.y[n_init:(n_init+iters)]) \n",
        "\n",
        "regret_gp_7 = np.log(gp_output_7 - y_global_orig)\n",
        "regret_stp_7 = np.log(stp_output_7 - y_global_orig)\n",
        "\n",
        "simple_regret_gp_7 = min_max_array(regret_gp_7)\n",
        "simple_regret_stp_7 = min_max_array(regret_stp_7)\n",
        "\n",
        "min_simple_regret_gp_7 = min(simple_regret_gp_7)\n",
        "min_simple_regret_stp_7 = min(simple_regret_stp_7)\n",
        "\n",
        "min_simple_regret_gp_7, min_simple_regret_stp_7"
      ]
    },
    {
      "cell_type": "code",
      "execution_count": 62,
      "metadata": {
        "id": "99wY5nK6Qxfr",
        "colab": {
          "base_uri": "https://localhost:8080/"
        },
        "outputId": "5aad51be-a8df-4c3f-a107-8a1b226c5c58"
      },
      "outputs": [
        {
          "output_type": "execute_result",
          "data": {
            "text/plain": [
              "(-4.774315184129395, -1.88498967264663)"
            ]
          },
          "metadata": {},
          "execution_count": 62
        }
      ],
      "source": [
        "### Simple regret minimisation: run number = 8\n",
        "\n",
        "gp_output_8 = np.append(np.min(-gp_8.GP.y[0:n_init]),-gp_8.GP.y[n_init:(n_init+iters)]) \n",
        "stp_output_8 = np.append(np.min(-stp_8.GP.y[0:n_init]),-stp_8.GP.y[n_init:(n_init+iters)]) \n",
        "\n",
        "regret_gp_8 = np.log(gp_output_8 - y_global_orig)\n",
        "regret_stp_8 = np.log(stp_output_8 - y_global_orig)\n",
        "\n",
        "simple_regret_gp_8 = min_max_array(regret_gp_8)\n",
        "simple_regret_stp_8 = min_max_array(regret_stp_8)\n",
        "\n",
        "min_simple_regret_gp_8 = min(simple_regret_gp_8)\n",
        "min_simple_regret_stp_8 = min(simple_regret_stp_8)\n",
        "\n",
        "min_simple_regret_gp_8, min_simple_regret_stp_8"
      ]
    },
    {
      "cell_type": "code",
      "execution_count": 63,
      "metadata": {
        "id": "qt0P5t9qQxfs",
        "colab": {
          "base_uri": "https://localhost:8080/"
        },
        "outputId": "9b32a3dc-fc4c-4c5f-d368-7dd32a539c5a"
      },
      "outputs": [
        {
          "output_type": "execute_result",
          "data": {
            "text/plain": [
              "(-2.3108757340616597, -0.6445349393763868)"
            ]
          },
          "metadata": {},
          "execution_count": 63
        }
      ],
      "source": [
        "### Simple regret minimisation: run number = 9\n",
        "\n",
        "gp_output_9 = np.append(np.min(-gp_9.GP.y[0:n_init]),-gp_9.GP.y[n_init:(n_init+iters)]) \n",
        "stp_output_9 = np.append(np.min(-stp_9.GP.y[0:n_init]),-stp_9.GP.y[n_init:(n_init+iters)]) \n",
        "\n",
        "regret_gp_9 = np.log(gp_output_9 - y_global_orig)\n",
        "regret_stp_9 = np.log(stp_output_9 - y_global_orig)\n",
        "\n",
        "simple_regret_gp_9 = min_max_array(regret_gp_9)\n",
        "simple_regret_stp_9 = min_max_array(regret_stp_9)\n",
        "\n",
        "min_simple_regret_gp_9 = min(simple_regret_gp_9)\n",
        "min_simple_regret_stp_9 = min(simple_regret_stp_9)\n",
        "\n",
        "min_simple_regret_gp_9, min_simple_regret_stp_9"
      ]
    },
    {
      "cell_type": "code",
      "execution_count": 64,
      "metadata": {
        "id": "vx8to9stQxft",
        "colab": {
          "base_uri": "https://localhost:8080/"
        },
        "outputId": "c83008e9-a77f-4a72-99db-2a29e9e8f54e"
      },
      "outputs": [
        {
          "output_type": "execute_result",
          "data": {
            "text/plain": [
              "(-4.528050974998352, -3.0934067814204047)"
            ]
          },
          "metadata": {},
          "execution_count": 64
        }
      ],
      "source": [
        "### Simple regret minimisation: run number = 10\n",
        "\n",
        "gp_output_10 = np.append(np.min(-gp_10.GP.y[0:n_init]),-gp_10.GP.y[n_init:(n_init+iters)]) \n",
        "stp_output_10 = np.append(np.min(-stp_10.GP.y[0:n_init]),-stp_10.GP.y[n_init:(n_init+iters)]) \n",
        "\n",
        "regret_gp_10 = np.log(gp_output_10 - y_global_orig)\n",
        "regret_stp_10 = np.log(stp_output_10 - y_global_orig)\n",
        "\n",
        "simple_regret_gp_10 = min_max_array(regret_gp_10)\n",
        "simple_regret_stp_10 = min_max_array(regret_stp_10)\n",
        "\n",
        "min_simple_regret_gp_10 = min(simple_regret_gp_10)\n",
        "min_simple_regret_stp_10 = min(simple_regret_stp_10)\n",
        "\n",
        "min_simple_regret_gp_10, min_simple_regret_stp_10"
      ]
    },
    {
      "cell_type": "code",
      "execution_count": 65,
      "metadata": {
        "id": "d-FGzWyHQxfu",
        "colab": {
          "base_uri": "https://localhost:8080/"
        },
        "outputId": "ccc1fb71-dad8-45ed-e3e9-8831ae75b10e"
      },
      "outputs": [
        {
          "output_type": "execute_result",
          "data": {
            "text/plain": [
              "(-7.52561352293713, -0.3946518376125588)"
            ]
          },
          "metadata": {},
          "execution_count": 65
        }
      ],
      "source": [
        "### Simple regret minimisation: run number = 11\n",
        "\n",
        "gp_output_11 = np.append(np.min(-gp_11.GP.y[0:n_init]),-gp_11.GP.y[n_init:(n_init+iters)]) \n",
        "stp_output_11 = np.append(np.min(-stp_11.GP.y[0:n_init]),-stp_11.GP.y[n_init:(n_init+iters)]) \n",
        "\n",
        "regret_gp_11 = np.log(gp_output_11 - y_global_orig)\n",
        "regret_stp_11 = np.log(stp_output_11 - y_global_orig)\n",
        "\n",
        "simple_regret_gp_11 = min_max_array(regret_gp_11)\n",
        "simple_regret_stp_11 = min_max_array(regret_stp_11)\n",
        "\n",
        "min_simple_regret_gp_11 = min(simple_regret_gp_11)\n",
        "min_simple_regret_stp_11 = min(simple_regret_stp_11)\n",
        "\n",
        "min_simple_regret_gp_11, min_simple_regret_stp_11"
      ]
    },
    {
      "cell_type": "code",
      "execution_count": 66,
      "metadata": {
        "id": "SvtsssyjQxfv",
        "colab": {
          "base_uri": "https://localhost:8080/"
        },
        "outputId": "d4a7079a-d868-4ef1-c1fc-078a0745fa62"
      },
      "outputs": [
        {
          "output_type": "execute_result",
          "data": {
            "text/plain": [
              "(-2.343825190219305, -1.2165059665302826)"
            ]
          },
          "metadata": {},
          "execution_count": 66
        }
      ],
      "source": [
        "### Simple regret minimisation: run number = 12\n",
        "\n",
        "gp_output_12 = np.append(np.min(-gp_12.GP.y[0:n_init]),-gp_12.GP.y[n_init:(n_init+iters)]) \n",
        "stp_output_12 = np.append(np.min(-stp_12.GP.y[0:n_init]),-stp_12.GP.y[n_init:(n_init+iters)]) \n",
        "\n",
        "regret_gp_12 = np.log(gp_output_12 - y_global_orig)\n",
        "regret_stp_12 = np.log(stp_output_12 - y_global_orig)\n",
        "\n",
        "simple_regret_gp_12 = min_max_array(regret_gp_12)\n",
        "simple_regret_stp_12 = min_max_array(regret_stp_12)\n",
        "\n",
        "min_simple_regret_gp_12 = min(simple_regret_gp_12)\n",
        "min_simple_regret_stp_12 = min(simple_regret_stp_12)\n",
        "\n",
        "min_simple_regret_gp_12, min_simple_regret_stp_12"
      ]
    },
    {
      "cell_type": "code",
      "execution_count": 67,
      "metadata": {
        "id": "K6OiGcHkQxfw",
        "colab": {
          "base_uri": "https://localhost:8080/"
        },
        "outputId": "74dd24ce-4e0e-444a-9730-0d5e216d7cdd"
      },
      "outputs": [
        {
          "output_type": "execute_result",
          "data": {
            "text/plain": [
              "(-6.62754895424942, -0.5382873918583773)"
            ]
          },
          "metadata": {},
          "execution_count": 67
        }
      ],
      "source": [
        "### Simple regret minimisation: run number = 13\n",
        "\n",
        "gp_output_13 = np.append(np.min(-gp_13.GP.y[0:n_init]),-gp_13.GP.y[n_init:(n_init+iters)]) \n",
        "stp_output_13 = np.append(np.min(-stp_13.GP.y[0:n_init]),-stp_13.GP.y[n_init:(n_init+iters)]) \n",
        "\n",
        "regret_gp_13 = np.log(gp_output_13 - y_global_orig)\n",
        "regret_stp_13 = np.log(stp_output_13 - y_global_orig)\n",
        "\n",
        "simple_regret_gp_13 = min_max_array(regret_gp_13)\n",
        "simple_regret_stp_13 = min_max_array(regret_stp_13)\n",
        "\n",
        "min_simple_regret_gp_13 = min(simple_regret_gp_13)\n",
        "min_simple_regret_stp_13 = min(simple_regret_stp_13)\n",
        "\n",
        "min_simple_regret_gp_13, min_simple_regret_stp_13"
      ]
    },
    {
      "cell_type": "code",
      "execution_count": 68,
      "metadata": {
        "id": "ogML73shQxfx",
        "colab": {
          "base_uri": "https://localhost:8080/"
        },
        "outputId": "371d7683-bef7-495d-f24e-e00c7cd05c4e"
      },
      "outputs": [
        {
          "output_type": "execute_result",
          "data": {
            "text/plain": [
              "(-3.717659859318177, -4.269591125405595)"
            ]
          },
          "metadata": {},
          "execution_count": 68
        }
      ],
      "source": [
        "### Simple regret minimisation: run number = 14\n",
        "\n",
        "gp_output_14 = np.append(np.min(-gp_14.GP.y[0:n_init]),-gp_14.GP.y[n_init:(n_init+iters)]) \n",
        "stp_output_14 = np.append(np.min(-stp_14.GP.y[0:n_init]),-stp_14.GP.y[n_init:(n_init+iters)]) \n",
        "\n",
        "regret_gp_14 = np.log(gp_output_14 - y_global_orig)\n",
        "regret_stp_14 = np.log(stp_output_14 - y_global_orig)\n",
        "\n",
        "simple_regret_gp_14 = min_max_array(regret_gp_14)\n",
        "simple_regret_stp_14 = min_max_array(regret_stp_14)\n",
        "\n",
        "min_simple_regret_gp_14 = min(simple_regret_gp_14)\n",
        "min_simple_regret_stp_14 = min(simple_regret_stp_14)\n",
        "\n",
        "min_simple_regret_gp_14, min_simple_regret_stp_14"
      ]
    },
    {
      "cell_type": "code",
      "execution_count": 69,
      "metadata": {
        "id": "9Eg7gFT9Qxfx",
        "colab": {
          "base_uri": "https://localhost:8080/"
        },
        "outputId": "c55478b8-48c9-4ce1-d555-4e96ff505e1b"
      },
      "outputs": [
        {
          "output_type": "execute_result",
          "data": {
            "text/plain": [
              "(-5.046368892772576, -0.3150311339512731)"
            ]
          },
          "metadata": {},
          "execution_count": 69
        }
      ],
      "source": [
        "### Simple regret minimisation: run number = 15\n",
        "\n",
        "gp_output_15 = np.append(np.min(-gp_15.GP.y[0:n_init]),-gp_15.GP.y[n_init:(n_init+iters)]) \n",
        "stp_output_15 = np.append(np.min(-stp_15.GP.y[0:n_init]),-stp_15.GP.y[n_init:(n_init+iters)]) \n",
        "\n",
        "regret_gp_15 = np.log(gp_output_15 - y_global_orig)\n",
        "regret_stp_15 = np.log(stp_output_15 - y_global_orig)\n",
        "\n",
        "simple_regret_gp_15 = min_max_array(regret_gp_15)\n",
        "simple_regret_stp_15 = min_max_array(regret_stp_15)\n",
        "\n",
        "min_simple_regret_gp_15 = min(simple_regret_gp_15)\n",
        "min_simple_regret_stp_15 = min(simple_regret_stp_15)\n",
        "\n",
        "min_simple_regret_gp_15, min_simple_regret_stp_15"
      ]
    },
    {
      "cell_type": "code",
      "execution_count": 70,
      "metadata": {
        "id": "lIAC1U7ZQxfy",
        "colab": {
          "base_uri": "https://localhost:8080/"
        },
        "outputId": "4b865504-0fea-47dd-c6d7-46785c5826b4"
      },
      "outputs": [
        {
          "output_type": "execute_result",
          "data": {
            "text/plain": [
              "(-2.27558098130439, -1.3332887221030794)"
            ]
          },
          "metadata": {},
          "execution_count": 70
        }
      ],
      "source": [
        "### Simple regret minimisation: run number = 16\n",
        "\n",
        "gp_output_16 = np.append(np.min(-gp_16.GP.y[0:n_init]),-gp_16.GP.y[n_init:(n_init+iters)]) \n",
        "stp_output_16 = np.append(np.min(-stp_16.GP.y[0:n_init]),-stp_16.GP.y[n_init:(n_init+iters)]) \n",
        "\n",
        "regret_gp_16 = np.log(gp_output_16 - y_global_orig)\n",
        "regret_stp_16 = np.log(stp_output_16 - y_global_orig)\n",
        "\n",
        "simple_regret_gp_16 = min_max_array(regret_gp_16)\n",
        "simple_regret_stp_16 = min_max_array(regret_stp_16)\n",
        "\n",
        "min_simple_regret_gp_16 = min(simple_regret_gp_16)\n",
        "min_simple_regret_stp_16 = min(simple_regret_stp_16)\n",
        "\n",
        "min_simple_regret_gp_16, min_simple_regret_stp_16"
      ]
    },
    {
      "cell_type": "code",
      "execution_count": 71,
      "metadata": {
        "id": "bGott36OQxfz",
        "colab": {
          "base_uri": "https://localhost:8080/"
        },
        "outputId": "205af8f2-c175-4b84-ff04-684cea3af747"
      },
      "outputs": [
        {
          "output_type": "execute_result",
          "data": {
            "text/plain": [
              "(-3.9157382602511084, -2.1447648877696976)"
            ]
          },
          "metadata": {},
          "execution_count": 71
        }
      ],
      "source": [
        "### Simple regret minimisation: run number = 17\n",
        "\n",
        "gp_output_17 = np.append(np.min(-gp_17.GP.y[0:n_init]),-gp_17.GP.y[n_init:(n_init+iters)]) \n",
        "stp_output_17 = np.append(np.min(-stp_17.GP.y[0:n_init]),-stp_17.GP.y[n_init:(n_init+iters)]) \n",
        "\n",
        "regret_gp_17 = np.log(gp_output_17 - y_global_orig)\n",
        "regret_stp_17 = np.log(stp_output_17 - y_global_orig)\n",
        "\n",
        "simple_regret_gp_17 = min_max_array(regret_gp_17)\n",
        "simple_regret_stp_17 = min_max_array(regret_stp_17)\n",
        "\n",
        "min_simple_regret_gp_17 = min(simple_regret_gp_17)\n",
        "min_simple_regret_stp_17 = min(simple_regret_stp_17)\n",
        "\n",
        "min_simple_regret_gp_17, min_simple_regret_stp_17"
      ]
    },
    {
      "cell_type": "code",
      "execution_count": 72,
      "metadata": {
        "id": "Cz9ZYMBMQxfz",
        "colab": {
          "base_uri": "https://localhost:8080/"
        },
        "outputId": "4532bd0a-06e2-4d93-98a5-316a4c57ade0"
      },
      "outputs": [
        {
          "output_type": "execute_result",
          "data": {
            "text/plain": [
              "(-3.7906080137071845, -3.9980331748908537)"
            ]
          },
          "metadata": {},
          "execution_count": 72
        }
      ],
      "source": [
        "### Simple regret minimisation: run number = 18\n",
        "\n",
        "gp_output_18 = np.append(np.min(-gp_18.GP.y[0:n_init]),-gp_18.GP.y[n_init:(n_init+iters)]) \n",
        "stp_output_18 = np.append(np.min(-stp_18.GP.y[0:n_init]),-stp_18.GP.y[n_init:(n_init+iters)]) \n",
        "\n",
        "regret_gp_18 = np.log(gp_output_18 - y_global_orig)\n",
        "regret_stp_18 = np.log(stp_output_18 - y_global_orig)\n",
        "\n",
        "simple_regret_gp_18 = min_max_array(regret_gp_18)\n",
        "simple_regret_stp_18 = min_max_array(regret_stp_18)\n",
        "\n",
        "min_simple_regret_gp_18 = min(simple_regret_gp_18)\n",
        "min_simple_regret_stp_18 = min(simple_regret_stp_18)\n",
        "\n",
        "min_simple_regret_gp_18, min_simple_regret_stp_18"
      ]
    },
    {
      "cell_type": "code",
      "execution_count": 73,
      "metadata": {
        "id": "OBfpWOHNQxf0",
        "colab": {
          "base_uri": "https://localhost:8080/"
        },
        "outputId": "521ce62b-7698-40dc-9109-06b52e42c766"
      },
      "outputs": [
        {
          "output_type": "execute_result",
          "data": {
            "text/plain": [
              "(-4.061412793275776, -0.5098802210078203)"
            ]
          },
          "metadata": {},
          "execution_count": 73
        }
      ],
      "source": [
        "### Simple regret minimisation: run number = 19\n",
        "\n",
        "gp_output_19 = np.append(np.min(-gp_19.GP.y[0:n_init]),-gp_19.GP.y[n_init:(n_init+iters)]) \n",
        "stp_output_19 = np.append(np.min(-stp_19.GP.y[0:n_init]),-stp_19.GP.y[n_init:(n_init+iters)]) \n",
        "\n",
        "regret_gp_19 = np.log(gp_output_19 - y_global_orig)\n",
        "regret_stp_19 = np.log(stp_output_19 - y_global_orig)\n",
        "\n",
        "simple_regret_gp_19 = min_max_array(regret_gp_19)\n",
        "simple_regret_stp_19 = min_max_array(regret_stp_19)\n",
        "\n",
        "min_simple_regret_gp_19 = min(simple_regret_gp_19)\n",
        "min_simple_regret_stp_19 = min(simple_regret_stp_19)\n",
        "\n",
        "min_simple_regret_gp_19, min_simple_regret_stp_19"
      ]
    },
    {
      "cell_type": "code",
      "execution_count": 74,
      "metadata": {
        "id": "BE1AJ7NsQxf0",
        "colab": {
          "base_uri": "https://localhost:8080/"
        },
        "outputId": "c94ba729-aa41-4c8a-9af9-fdf7ff4a7fae"
      },
      "outputs": [
        {
          "output_type": "execute_result",
          "data": {
            "text/plain": [
              "(-4.134074071194888, -2.770616495318028)"
            ]
          },
          "metadata": {},
          "execution_count": 74
        }
      ],
      "source": [
        "### Simple regret minimisation: run number = 20\n",
        "\n",
        "gp_output_20 = np.append(np.min(-gp_20.GP.y[0:n_init]),-gp_20.GP.y[n_init:(n_init+iters)]) \n",
        "stp_output_20 = np.append(np.min(-stp_20.GP.y[0:n_init]),-stp_20.GP.y[n_init:(n_init+iters)]) \n",
        "\n",
        "regret_gp_20 = np.log(gp_output_20 - y_global_orig)\n",
        "regret_stp_20 = np.log(stp_output_20 - y_global_orig)\n",
        "\n",
        "simple_regret_gp_20 = min_max_array(regret_gp_20)\n",
        "simple_regret_stp_20 = min_max_array(regret_stp_20)\n",
        "\n",
        "min_simple_regret_gp_20 = min(simple_regret_gp_20)\n",
        "min_simple_regret_stp_20 = min(simple_regret_stp_20)\n",
        "\n",
        "min_simple_regret_gp_20, min_simple_regret_stp_20"
      ]
    },
    {
      "cell_type": "code",
      "execution_count": 75,
      "metadata": {
        "id": "bpX-bKAHQxf1"
      },
      "outputs": [],
      "source": [
        "# Iteration1 :\n",
        "\n",
        "slice1 = 0\n",
        "\n",
        "approx1 = [simple_regret_gp_1[slice1],\n",
        "       simple_regret_gp_2[slice1],\n",
        "       simple_regret_gp_3[slice1],\n",
        "       simple_regret_gp_4[slice1],\n",
        "       simple_regret_gp_5[slice1],\n",
        "       simple_regret_gp_6[slice1],\n",
        "       simple_regret_gp_7[slice1],\n",
        "       simple_regret_gp_8[slice1],\n",
        "       simple_regret_gp_9[slice1],\n",
        "       simple_regret_gp_10[slice1],\n",
        "       simple_regret_gp_11[slice1],\n",
        "       simple_regret_gp_12[slice1],\n",
        "       simple_regret_gp_13[slice1],\n",
        "       simple_regret_gp_14[slice1],\n",
        "       simple_regret_gp_15[slice1],\n",
        "       simple_regret_gp_16[slice1],\n",
        "       simple_regret_gp_17[slice1],\n",
        "       simple_regret_gp_18[slice1],\n",
        "       simple_regret_gp_19[slice1],\n",
        "       simple_regret_gp_20[slice1]]\n",
        "\n",
        "exact1 = [simple_regret_stp_1[slice1],\n",
        "       simple_regret_stp_2[slice1],\n",
        "       simple_regret_stp_3[slice1],\n",
        "       simple_regret_stp_4[slice1],\n",
        "       simple_regret_stp_5[slice1],\n",
        "       simple_regret_stp_6[slice1],\n",
        "       simple_regret_stp_7[slice1],\n",
        "       simple_regret_stp_8[slice1],\n",
        "       simple_regret_stp_9[slice1],\n",
        "       simple_regret_stp_10[slice1],\n",
        "       simple_regret_stp_11[slice1],\n",
        "       simple_regret_stp_12[slice1],\n",
        "       simple_regret_stp_13[slice1],\n",
        "       simple_regret_stp_14[slice1],\n",
        "       simple_regret_stp_15[slice1],\n",
        "       simple_regret_stp_16[slice1],\n",
        "       simple_regret_stp_17[slice1],\n",
        "       simple_regret_stp_18[slice1],\n",
        "       simple_regret_stp_19[slice1],\n",
        "       simple_regret_stp_20[slice1]]\n",
        "\n",
        "approx1_results = pd.DataFrame(approx1).sort_values(by=[0], ascending=False)\n",
        "exact1_results = pd.DataFrame(exact1).sort_values(by=[0], ascending=False)\n",
        "\n",
        "### Best simple regret minimization IQR - approx:\n",
        "lower_gp1 = np.asarray(approx1_results[4:5][0])[0]\n",
        "median_gp1 = np.asarray(approx1_results[9:10][0])[0]\n",
        "upper_gp1 = np.asarray(approx1_results[14:15][0])[0]\n",
        "\n",
        "lower_stp1 = np.asarray(exact1_results[4:5][0])[0]\n",
        "median_stp1 = np.asarray(exact1_results[9:10][0])[0]\n",
        "upper_stp1 = np.asarray(exact1_results[14:15][0])[0]"
      ]
    },
    {
      "cell_type": "code",
      "execution_count": 76,
      "metadata": {
        "id": "CgIkJA1xQxf2"
      },
      "outputs": [],
      "source": [
        "# Iteration11 :\n",
        "\n",
        "slice11 = 10\n",
        "\n",
        "approx11 = [simple_regret_gp_1[slice11],\n",
        "       simple_regret_gp_2[slice11],\n",
        "       simple_regret_gp_3[slice11],\n",
        "       simple_regret_gp_4[slice11],\n",
        "       simple_regret_gp_5[slice11],\n",
        "       simple_regret_gp_6[slice11],\n",
        "       simple_regret_gp_7[slice11],\n",
        "       simple_regret_gp_8[slice11],\n",
        "       simple_regret_gp_9[slice11],\n",
        "       simple_regret_gp_10[slice11],\n",
        "       simple_regret_gp_11[slice11],\n",
        "       simple_regret_gp_12[slice11],\n",
        "       simple_regret_gp_13[slice11],\n",
        "       simple_regret_gp_14[slice11],\n",
        "       simple_regret_gp_15[slice11],\n",
        "       simple_regret_gp_16[slice11],\n",
        "       simple_regret_gp_17[slice11],\n",
        "       simple_regret_gp_18[slice11],\n",
        "       simple_regret_gp_19[slice11],\n",
        "       simple_regret_gp_20[slice11]]\n",
        "\n",
        "exact11 = [simple_regret_stp_1[slice11],\n",
        "       simple_regret_stp_2[slice11],\n",
        "       simple_regret_stp_3[slice11],\n",
        "       simple_regret_stp_4[slice11],\n",
        "       simple_regret_stp_5[slice11],\n",
        "       simple_regret_stp_6[slice11],\n",
        "       simple_regret_stp_7[slice11],\n",
        "       simple_regret_stp_8[slice11],\n",
        "       simple_regret_stp_9[slice11],\n",
        "       simple_regret_stp_10[slice11],\n",
        "       simple_regret_stp_11[slice11],\n",
        "       simple_regret_stp_12[slice11],\n",
        "       simple_regret_stp_13[slice11],\n",
        "       simple_regret_stp_14[slice11],\n",
        "       simple_regret_stp_15[slice11],\n",
        "       simple_regret_stp_16[slice11],\n",
        "       simple_regret_stp_17[slice11],\n",
        "       simple_regret_stp_18[slice11],\n",
        "       simple_regret_stp_19[slice11],\n",
        "       simple_regret_stp_20[slice11]]\n",
        "\n",
        "approx11_results = pd.DataFrame(approx11).sort_values(by=[0], ascending=False)\n",
        "exact11_results = pd.DataFrame(exact11).sort_values(by=[0], ascending=False)\n",
        "\n",
        "### Best simple regret minimization IQR - approx:\n",
        "lower_gp11 = np.asarray(approx11_results[4:5][0])[0]\n",
        "median_gp11 = np.asarray(approx11_results[9:10][0])[0]\n",
        "upper_gp11 = np.asarray(approx11_results[14:15][0])[0]\n",
        "\n",
        "lower_stp11 = np.asarray(exact11_results[4:5][0])[0]\n",
        "median_stp11 = np.asarray(exact11_results[9:10][0])[0]\n",
        "upper_stp11 = np.asarray(exact11_results[14:15][0])[0]"
      ]
    },
    {
      "cell_type": "code",
      "execution_count": 77,
      "metadata": {
        "id": "MFePDfGuQxf2"
      },
      "outputs": [],
      "source": [
        "# Iteration21 :\n",
        "\n",
        "slice21 = 20\n",
        "\n",
        "approx21 = [simple_regret_gp_1[slice21],\n",
        "       simple_regret_gp_2[slice21],\n",
        "       simple_regret_gp_3[slice21],\n",
        "       simple_regret_gp_4[slice21],\n",
        "       simple_regret_gp_5[slice21],\n",
        "       simple_regret_gp_6[slice21],\n",
        "       simple_regret_gp_7[slice21],\n",
        "       simple_regret_gp_8[slice21],\n",
        "       simple_regret_gp_9[slice21],\n",
        "       simple_regret_gp_10[slice21],\n",
        "       simple_regret_gp_11[slice21],\n",
        "       simple_regret_gp_12[slice21],\n",
        "       simple_regret_gp_13[slice21],\n",
        "       simple_regret_gp_14[slice21],\n",
        "       simple_regret_gp_15[slice21],\n",
        "       simple_regret_gp_16[slice21],\n",
        "       simple_regret_gp_17[slice21],\n",
        "       simple_regret_gp_18[slice21],\n",
        "       simple_regret_gp_19[slice21],\n",
        "       simple_regret_gp_20[slice21]]\n",
        "\n",
        "exact21 = [simple_regret_stp_1[slice21],\n",
        "       simple_regret_stp_2[slice21],\n",
        "       simple_regret_stp_3[slice21],\n",
        "       simple_regret_stp_4[slice21],\n",
        "       simple_regret_stp_5[slice21],\n",
        "       simple_regret_stp_6[slice21],\n",
        "       simple_regret_stp_7[slice21],\n",
        "       simple_regret_stp_8[slice21],\n",
        "       simple_regret_stp_9[slice21],\n",
        "       simple_regret_stp_10[slice21],\n",
        "       simple_regret_stp_11[slice21],\n",
        "       simple_regret_stp_12[slice21],\n",
        "       simple_regret_stp_13[slice21],\n",
        "       simple_regret_stp_14[slice21],\n",
        "       simple_regret_stp_15[slice21],\n",
        "       simple_regret_stp_16[slice21],\n",
        "       simple_regret_stp_17[slice21],\n",
        "       simple_regret_stp_18[slice21],\n",
        "       simple_regret_stp_19[slice21],\n",
        "       simple_regret_stp_20[slice21]]\n",
        "\n",
        "approx21_results = pd.DataFrame(approx21).sort_values(by=[0], ascending=False)\n",
        "exact21_results = pd.DataFrame(exact21).sort_values(by=[0], ascending=False)\n",
        "\n",
        "### Best simple regret minimization IQR - approx:\n",
        "lower_gp21 = np.asarray(approx21_results[4:5][0])[0]\n",
        "median_gp21 = np.asarray(approx21_results[9:10][0])[0]\n",
        "upper_gp21 = np.asarray(approx21_results[14:15][0])[0]\n",
        "\n",
        "lower_stp21 = np.asarray(exact21_results[4:5][0])[0]\n",
        "median_stp21 = np.asarray(exact21_results[9:10][0])[0]\n",
        "upper_stp21 = np.asarray(exact21_results[14:15][0])[0]"
      ]
    },
    {
      "cell_type": "code",
      "execution_count": 78,
      "metadata": {
        "id": "PrRDB1kfQxf3"
      },
      "outputs": [],
      "source": [
        "# Iteration2 :\n",
        "\n",
        "slice2 = 1\n",
        "\n",
        "approx2 = [simple_regret_gp_1[slice2],\n",
        "       simple_regret_gp_2[slice2],\n",
        "       simple_regret_gp_3[slice2],\n",
        "       simple_regret_gp_4[slice2],\n",
        "       simple_regret_gp_5[slice2],\n",
        "       simple_regret_gp_6[slice2],\n",
        "       simple_regret_gp_7[slice2],\n",
        "       simple_regret_gp_8[slice2],\n",
        "       simple_regret_gp_9[slice2],\n",
        "       simple_regret_gp_10[slice2],\n",
        "       simple_regret_gp_11[slice2],\n",
        "       simple_regret_gp_12[slice2],\n",
        "       simple_regret_gp_13[slice2],\n",
        "       simple_regret_gp_14[slice2],\n",
        "       simple_regret_gp_15[slice2],\n",
        "       simple_regret_gp_16[slice2],\n",
        "       simple_regret_gp_17[slice2],\n",
        "       simple_regret_gp_18[slice2],\n",
        "       simple_regret_gp_19[slice2],\n",
        "       simple_regret_gp_20[slice2]]\n",
        "\n",
        "exact2 = [simple_regret_stp_1[slice2],\n",
        "       simple_regret_stp_2[slice2],\n",
        "       simple_regret_stp_3[slice2],\n",
        "       simple_regret_stp_4[slice2],\n",
        "       simple_regret_stp_5[slice2],\n",
        "       simple_regret_stp_6[slice2],\n",
        "       simple_regret_stp_7[slice2],\n",
        "       simple_regret_stp_8[slice2],\n",
        "       simple_regret_stp_9[slice2],\n",
        "       simple_regret_stp_10[slice2],\n",
        "       simple_regret_stp_11[slice2],\n",
        "       simple_regret_stp_12[slice2],\n",
        "       simple_regret_stp_13[slice2],\n",
        "       simple_regret_stp_14[slice2],\n",
        "       simple_regret_stp_15[slice2],\n",
        "       simple_regret_stp_16[slice2],\n",
        "       simple_regret_stp_17[slice2],\n",
        "       simple_regret_stp_18[slice2],\n",
        "       simple_regret_stp_19[slice2],\n",
        "       simple_regret_stp_20[slice2]]\n",
        "\n",
        "approx2_results = pd.DataFrame(approx2).sort_values(by=[0], ascending=False)\n",
        "exact2_results = pd.DataFrame(exact2).sort_values(by=[0], ascending=False)\n",
        "\n",
        "### Best simple regret minimization IQR - approx:\n",
        "lower_gp2 = np.asarray(approx2_results[4:5][0])[0]\n",
        "median_gp2 = np.asarray(approx2_results[9:10][0])[0]\n",
        "upper_gp2 = np.asarray(approx2_results[14:15][0])[0]\n",
        "\n",
        "lower_stp2 = np.asarray(exact2_results[4:5][0])[0]\n",
        "median_stp2 = np.asarray(exact2_results[9:10][0])[0]\n",
        "upper_stp2 = np.asarray(exact2_results[14:15][0])[0]"
      ]
    },
    {
      "cell_type": "code",
      "execution_count": 79,
      "metadata": {
        "id": "B8ncJDYeQxf3"
      },
      "outputs": [],
      "source": [
        "# Iteration12 :\n",
        "\n",
        "slice12 = 11\n",
        "\n",
        "approx12 = [simple_regret_gp_1[slice12],\n",
        "       simple_regret_gp_2[slice12],\n",
        "       simple_regret_gp_3[slice12],\n",
        "       simple_regret_gp_4[slice12],\n",
        "       simple_regret_gp_5[slice12],\n",
        "       simple_regret_gp_6[slice12],\n",
        "       simple_regret_gp_7[slice12],\n",
        "       simple_regret_gp_8[slice12],\n",
        "       simple_regret_gp_9[slice12],\n",
        "       simple_regret_gp_10[slice12],\n",
        "       simple_regret_gp_11[slice12],\n",
        "       simple_regret_gp_12[slice12],\n",
        "       simple_regret_gp_13[slice12],\n",
        "       simple_regret_gp_14[slice12],\n",
        "       simple_regret_gp_15[slice12],\n",
        "       simple_regret_gp_16[slice12],\n",
        "       simple_regret_gp_17[slice12],\n",
        "       simple_regret_gp_18[slice12],\n",
        "       simple_regret_gp_19[slice12],\n",
        "       simple_regret_gp_20[slice12]]\n",
        "\n",
        "exact12 = [simple_regret_stp_1[slice12],\n",
        "       simple_regret_stp_2[slice12],\n",
        "       simple_regret_stp_3[slice12],\n",
        "       simple_regret_stp_4[slice12],\n",
        "       simple_regret_stp_5[slice12],\n",
        "       simple_regret_stp_6[slice12],\n",
        "       simple_regret_stp_7[slice12],\n",
        "       simple_regret_stp_8[slice12],\n",
        "       simple_regret_stp_9[slice12],\n",
        "       simple_regret_stp_10[slice12],\n",
        "       simple_regret_stp_11[slice12],\n",
        "       simple_regret_stp_12[slice12],\n",
        "       simple_regret_stp_13[slice12],\n",
        "       simple_regret_stp_14[slice12],\n",
        "       simple_regret_stp_15[slice12],\n",
        "       simple_regret_stp_16[slice12],\n",
        "       simple_regret_stp_17[slice12],\n",
        "       simple_regret_stp_18[slice12],\n",
        "       simple_regret_stp_19[slice12],\n",
        "       simple_regret_stp_20[slice12]]\n",
        "\n",
        "approx12_results = pd.DataFrame(approx12).sort_values(by=[0], ascending=False)\n",
        "exact12_results = pd.DataFrame(exact12).sort_values(by=[0], ascending=False)\n",
        "\n",
        "### Best simple regret minimization IQR - approx:\n",
        "lower_gp12 = np.asarray(approx12_results[4:5][0])[0]\n",
        "median_gp12 = np.asarray(approx12_results[9:10][0])[0]\n",
        "upper_gp12 = np.asarray(approx12_results[14:15][0])[0]\n",
        "\n",
        "lower_stp12 = np.asarray(exact12_results[4:5][0])[0]\n",
        "median_stp12 = np.asarray(exact12_results[9:10][0])[0]\n",
        "upper_stp12 = np.asarray(exact12_results[14:15][0])[0]"
      ]
    },
    {
      "cell_type": "code",
      "execution_count": 80,
      "metadata": {
        "id": "Jn4KpGvcQxf4"
      },
      "outputs": [],
      "source": [
        "# Iteration3 :\n",
        "\n",
        "slice3 = 2\n",
        "\n",
        "approx3 = [simple_regret_gp_1[slice3],\n",
        "       simple_regret_gp_2[slice3],\n",
        "       simple_regret_gp_3[slice3],\n",
        "       simple_regret_gp_4[slice3],\n",
        "       simple_regret_gp_5[slice3],\n",
        "       simple_regret_gp_6[slice3],\n",
        "       simple_regret_gp_7[slice3],\n",
        "       simple_regret_gp_8[slice3],\n",
        "       simple_regret_gp_9[slice3],\n",
        "       simple_regret_gp_10[slice3],\n",
        "       simple_regret_gp_11[slice3],\n",
        "       simple_regret_gp_12[slice3],\n",
        "       simple_regret_gp_13[slice3],\n",
        "       simple_regret_gp_14[slice3],\n",
        "       simple_regret_gp_15[slice3],\n",
        "       simple_regret_gp_16[slice3],\n",
        "       simple_regret_gp_17[slice3],\n",
        "       simple_regret_gp_18[slice3],\n",
        "       simple_regret_gp_19[slice3],\n",
        "       simple_regret_gp_20[slice3]]\n",
        "\n",
        "exact3 = [simple_regret_stp_1[slice3],\n",
        "       simple_regret_stp_2[slice3],\n",
        "       simple_regret_stp_3[slice3],\n",
        "       simple_regret_stp_4[slice3],\n",
        "       simple_regret_stp_5[slice3],\n",
        "       simple_regret_stp_6[slice3],\n",
        "       simple_regret_stp_7[slice3],\n",
        "       simple_regret_stp_8[slice3],\n",
        "       simple_regret_stp_9[slice3],\n",
        "       simple_regret_stp_10[slice3],\n",
        "       simple_regret_stp_11[slice3],\n",
        "       simple_regret_stp_12[slice3],\n",
        "       simple_regret_stp_13[slice3],\n",
        "       simple_regret_stp_14[slice3],\n",
        "       simple_regret_stp_15[slice3],\n",
        "       simple_regret_stp_16[slice3],\n",
        "       simple_regret_stp_17[slice3],\n",
        "       simple_regret_stp_18[slice3],\n",
        "       simple_regret_stp_19[slice3],\n",
        "       simple_regret_stp_20[slice3]]\n",
        "\n",
        "approx3_results = pd.DataFrame(approx3).sort_values(by=[0], ascending=False)\n",
        "exact3_results = pd.DataFrame(exact3).sort_values(by=[0], ascending=False)\n",
        "\n",
        "### Best simple regret minimization IQR - approx:\n",
        "lower_gp3 = np.asarray(approx3_results[4:5][0])[0]\n",
        "median_gp3 = np.asarray(approx3_results[9:10][0])[0]\n",
        "upper_gp3 = np.asarray(approx3_results[14:15][0])[0]\n",
        "\n",
        "lower_stp3 = np.asarray(exact3_results[4:5][0])[0]\n",
        "median_stp3 = np.asarray(exact3_results[9:10][0])[0]\n",
        "upper_stp3 = np.asarray(exact3_results[14:15][0])[0]"
      ]
    },
    {
      "cell_type": "code",
      "execution_count": 81,
      "metadata": {
        "id": "plf83wxrQxf4"
      },
      "outputs": [],
      "source": [
        "# Iteration13 :\n",
        "\n",
        "slice13 = 12\n",
        "\n",
        "approx13 = [simple_regret_gp_1[slice13],\n",
        "       simple_regret_gp_2[slice13],\n",
        "       simple_regret_gp_3[slice13],\n",
        "       simple_regret_gp_4[slice13],\n",
        "       simple_regret_gp_5[slice13],\n",
        "       simple_regret_gp_6[slice13],\n",
        "       simple_regret_gp_7[slice13],\n",
        "       simple_regret_gp_8[slice13],\n",
        "       simple_regret_gp_9[slice13],\n",
        "       simple_regret_gp_10[slice13],\n",
        "       simple_regret_gp_11[slice13],\n",
        "       simple_regret_gp_12[slice13],\n",
        "       simple_regret_gp_13[slice13],\n",
        "       simple_regret_gp_14[slice13],\n",
        "       simple_regret_gp_15[slice13],\n",
        "       simple_regret_gp_16[slice13],\n",
        "       simple_regret_gp_17[slice13],\n",
        "       simple_regret_gp_18[slice13],\n",
        "       simple_regret_gp_19[slice13],\n",
        "       simple_regret_gp_20[slice13]]\n",
        "\n",
        "exact13 = [simple_regret_stp_1[slice13],\n",
        "       simple_regret_stp_2[slice13],\n",
        "       simple_regret_stp_3[slice13],\n",
        "       simple_regret_stp_4[slice13],\n",
        "       simple_regret_stp_5[slice13],\n",
        "       simple_regret_stp_6[slice13],\n",
        "       simple_regret_stp_7[slice13],\n",
        "       simple_regret_stp_8[slice13],\n",
        "       simple_regret_stp_9[slice13],\n",
        "       simple_regret_stp_10[slice13],\n",
        "       simple_regret_stp_11[slice13],\n",
        "       simple_regret_stp_12[slice13],\n",
        "       simple_regret_stp_13[slice13],\n",
        "       simple_regret_stp_14[slice13],\n",
        "       simple_regret_stp_15[slice13],\n",
        "       simple_regret_stp_16[slice13],\n",
        "       simple_regret_stp_17[slice13],\n",
        "       simple_regret_stp_18[slice13],\n",
        "       simple_regret_stp_19[slice13],\n",
        "       simple_regret_stp_20[slice13]]\n",
        "\n",
        "approx13_results = pd.DataFrame(approx13).sort_values(by=[0], ascending=False)\n",
        "exact13_results = pd.DataFrame(exact13).sort_values(by=[0], ascending=False)\n",
        "\n",
        "### Best simple regret minimization IQR - approx:\n",
        "lower_gp13 = np.asarray(approx13_results[4:5][0])[0]\n",
        "median_gp13 = np.asarray(approx13_results[9:10][0])[0]\n",
        "upper_gp13 = np.asarray(approx13_results[14:15][0])[0]\n",
        "\n",
        "lower_stp13 = np.asarray(exact13_results[4:5][0])[0]\n",
        "median_stp13 = np.asarray(exact13_results[9:10][0])[0]\n",
        "upper_stp13 = np.asarray(exact13_results[14:15][0])[0]"
      ]
    },
    {
      "cell_type": "code",
      "execution_count": 82,
      "metadata": {
        "id": "9A7mlVvJQxf5"
      },
      "outputs": [],
      "source": [
        "# Iteration4 :\n",
        "\n",
        "slice4 = 3\n",
        "\n",
        "approx4 = [simple_regret_gp_1[slice4],\n",
        "       simple_regret_gp_2[slice4],\n",
        "       simple_regret_gp_3[slice4],\n",
        "       simple_regret_gp_4[slice4],\n",
        "       simple_regret_gp_5[slice4],\n",
        "       simple_regret_gp_6[slice4],\n",
        "       simple_regret_gp_7[slice4],\n",
        "       simple_regret_gp_8[slice4],\n",
        "       simple_regret_gp_9[slice4],\n",
        "       simple_regret_gp_10[slice4],\n",
        "       simple_regret_gp_11[slice4],\n",
        "       simple_regret_gp_12[slice4],\n",
        "       simple_regret_gp_13[slice4],\n",
        "       simple_regret_gp_14[slice4],\n",
        "       simple_regret_gp_15[slice4],\n",
        "       simple_regret_gp_16[slice4],\n",
        "       simple_regret_gp_17[slice4],\n",
        "       simple_regret_gp_18[slice4],\n",
        "       simple_regret_gp_19[slice4],\n",
        "       simple_regret_gp_20[slice4]]\n",
        "\n",
        "exact4 = [simple_regret_stp_1[slice4],\n",
        "       simple_regret_stp_2[slice4],\n",
        "       simple_regret_stp_3[slice4],\n",
        "       simple_regret_stp_4[slice4],\n",
        "       simple_regret_stp_5[slice4],\n",
        "       simple_regret_stp_6[slice4],\n",
        "       simple_regret_stp_7[slice4],\n",
        "       simple_regret_stp_8[slice4],\n",
        "       simple_regret_stp_9[slice4],\n",
        "       simple_regret_stp_10[slice4],\n",
        "       simple_regret_stp_11[slice4],\n",
        "       simple_regret_stp_12[slice4],\n",
        "       simple_regret_stp_13[slice4],\n",
        "       simple_regret_stp_14[slice4],\n",
        "       simple_regret_stp_15[slice4],\n",
        "       simple_regret_stp_16[slice4],\n",
        "       simple_regret_stp_17[slice4],\n",
        "       simple_regret_stp_18[slice4],\n",
        "       simple_regret_stp_19[slice4],\n",
        "       simple_regret_stp_20[slice4]]\n",
        "\n",
        "approx4_results = pd.DataFrame(approx4).sort_values(by=[0], ascending=False)\n",
        "exact4_results = pd.DataFrame(exact4).sort_values(by=[0], ascending=False)\n",
        "\n",
        "### Best simple regret minimization IQR - approx:\n",
        "lower_gp4 = np.asarray(approx4_results[4:5][0])[0]\n",
        "median_gp4 = np.asarray(approx4_results[9:10][0])[0]\n",
        "upper_gp4 = np.asarray(approx4_results[14:15][0])[0]\n",
        "\n",
        "lower_stp4 = np.asarray(exact4_results[4:5][0])[0]\n",
        "median_stp4 = np.asarray(exact4_results[9:10][0])[0]\n",
        "upper_stp4 = np.asarray(exact4_results[14:15][0])[0]"
      ]
    },
    {
      "cell_type": "code",
      "execution_count": 83,
      "metadata": {
        "id": "ijq-rioYQxf5"
      },
      "outputs": [],
      "source": [
        "# Iteration14 :\n",
        "\n",
        "slice14 = 13\n",
        "\n",
        "approx14 = [simple_regret_gp_1[slice14],\n",
        "       simple_regret_gp_2[slice14],\n",
        "       simple_regret_gp_3[slice14],\n",
        "       simple_regret_gp_4[slice14],\n",
        "       simple_regret_gp_5[slice14],\n",
        "       simple_regret_gp_6[slice14],\n",
        "       simple_regret_gp_7[slice14],\n",
        "       simple_regret_gp_8[slice14],\n",
        "       simple_regret_gp_9[slice14],\n",
        "       simple_regret_gp_10[slice14],\n",
        "       simple_regret_gp_11[slice14],\n",
        "       simple_regret_gp_12[slice14],\n",
        "       simple_regret_gp_13[slice14],\n",
        "       simple_regret_gp_14[slice14],\n",
        "       simple_regret_gp_15[slice14],\n",
        "       simple_regret_gp_16[slice14],\n",
        "       simple_regret_gp_17[slice14],\n",
        "       simple_regret_gp_18[slice14],\n",
        "       simple_regret_gp_19[slice14],\n",
        "       simple_regret_gp_20[slice14]]\n",
        "\n",
        "exact14 = [simple_regret_stp_1[slice14],\n",
        "       simple_regret_stp_2[slice14],\n",
        "       simple_regret_stp_3[slice14],\n",
        "       simple_regret_stp_4[slice14],\n",
        "       simple_regret_stp_5[slice14],\n",
        "       simple_regret_stp_6[slice14],\n",
        "       simple_regret_stp_7[slice14],\n",
        "       simple_regret_stp_8[slice14],\n",
        "       simple_regret_stp_9[slice14],\n",
        "       simple_regret_stp_10[slice14],\n",
        "       simple_regret_stp_11[slice14],\n",
        "       simple_regret_stp_12[slice14],\n",
        "       simple_regret_stp_13[slice14],\n",
        "       simple_regret_stp_14[slice14],\n",
        "       simple_regret_stp_15[slice14],\n",
        "       simple_regret_stp_16[slice14],\n",
        "       simple_regret_stp_17[slice14],\n",
        "       simple_regret_stp_18[slice14],\n",
        "       simple_regret_stp_19[slice14],\n",
        "       simple_regret_stp_20[slice14]]\n",
        "\n",
        "approx14_results = pd.DataFrame(approx14).sort_values(by=[0], ascending=False)\n",
        "exact14_results = pd.DataFrame(exact14).sort_values(by=[0], ascending=False)\n",
        "\n",
        "### Best simple regret minimization IQR - approx:\n",
        "lower_gp14 = np.asarray(approx14_results[4:5][0])[0]\n",
        "median_gp14 = np.asarray(approx14_results[9:10][0])[0]\n",
        "upper_gp14 = np.asarray(approx14_results[14:15][0])[0]\n",
        "\n",
        "lower_stp14 = np.asarray(exact14_results[4:5][0])[0]\n",
        "median_stp14 = np.asarray(exact14_results[9:10][0])[0]\n",
        "upper_stp14 = np.asarray(exact14_results[14:15][0])[0]"
      ]
    },
    {
      "cell_type": "code",
      "execution_count": 84,
      "metadata": {
        "id": "XINlZjoTd-ZK"
      },
      "outputs": [],
      "source": [
        "# Iteration5 :\n",
        "\n",
        "slice5 = 4\n",
        "\n",
        "approx5 = [simple_regret_gp_1[slice5],\n",
        "       simple_regret_gp_2[slice5],\n",
        "       simple_regret_gp_3[slice5],\n",
        "       simple_regret_gp_4[slice5],\n",
        "       simple_regret_gp_5[slice5],\n",
        "       simple_regret_gp_6[slice5],\n",
        "       simple_regret_gp_7[slice5],\n",
        "       simple_regret_gp_8[slice5],\n",
        "       simple_regret_gp_9[slice5],\n",
        "       simple_regret_gp_10[slice5],\n",
        "       simple_regret_gp_11[slice5],\n",
        "       simple_regret_gp_12[slice5],\n",
        "       simple_regret_gp_13[slice5],\n",
        "       simple_regret_gp_14[slice5],\n",
        "       simple_regret_gp_15[slice5],\n",
        "       simple_regret_gp_16[slice5],\n",
        "       simple_regret_gp_17[slice5],\n",
        "       simple_regret_gp_18[slice5],\n",
        "       simple_regret_gp_19[slice5],\n",
        "       simple_regret_gp_20[slice5]]\n",
        "\n",
        "exact5 = [simple_regret_stp_1[slice5],\n",
        "       simple_regret_stp_2[slice5],\n",
        "       simple_regret_stp_3[slice5],\n",
        "       simple_regret_stp_4[slice5],\n",
        "       simple_regret_stp_5[slice5],\n",
        "       simple_regret_stp_6[slice5],\n",
        "       simple_regret_stp_7[slice5],\n",
        "       simple_regret_stp_8[slice5],\n",
        "       simple_regret_stp_9[slice5],\n",
        "       simple_regret_stp_10[slice5],\n",
        "       simple_regret_stp_11[slice5],\n",
        "       simple_regret_stp_12[slice5],\n",
        "       simple_regret_stp_13[slice5],\n",
        "       simple_regret_stp_14[slice5],\n",
        "       simple_regret_stp_15[slice5],\n",
        "       simple_regret_stp_16[slice5],\n",
        "       simple_regret_stp_17[slice5],\n",
        "       simple_regret_stp_18[slice5],\n",
        "       simple_regret_stp_19[slice5],\n",
        "       simple_regret_stp_20[slice5]]\n",
        "\n",
        "approx5_results = pd.DataFrame(approx5).sort_values(by=[0], ascending=False)\n",
        "exact5_results = pd.DataFrame(exact5).sort_values(by=[0], ascending=False)\n",
        "\n",
        "### Best simple regret minimization IQR - approx:\n",
        "lower_gp5 = np.asarray(approx5_results[4:5][0])[0]\n",
        "median_gp5 = np.asarray(approx5_results[9:10][0])[0]\n",
        "upper_gp5 = np.asarray(approx5_results[14:15][0])[0]\n",
        "\n",
        "lower_stp5 = np.asarray(exact5_results[4:5][0])[0]\n",
        "median_stp5 = np.asarray(exact5_results[9:10][0])[0]\n",
        "upper_stp5 = np.asarray(exact5_results[14:15][0])[0]"
      ]
    },
    {
      "cell_type": "code",
      "execution_count": 85,
      "metadata": {
        "id": "4aZ7C8sOQxf6"
      },
      "outputs": [],
      "source": [
        "# Iteration15 :\n",
        "\n",
        "slice15 = 14\n",
        "\n",
        "approx15 = [simple_regret_gp_1[slice15],\n",
        "       simple_regret_gp_2[slice15],\n",
        "       simple_regret_gp_3[slice15],\n",
        "       simple_regret_gp_4[slice15],\n",
        "       simple_regret_gp_5[slice15],\n",
        "       simple_regret_gp_6[slice15],\n",
        "       simple_regret_gp_7[slice15],\n",
        "       simple_regret_gp_8[slice15],\n",
        "       simple_regret_gp_9[slice15],\n",
        "       simple_regret_gp_10[slice15],\n",
        "       simple_regret_gp_11[slice15],\n",
        "       simple_regret_gp_12[slice15],\n",
        "       simple_regret_gp_13[slice15],\n",
        "       simple_regret_gp_14[slice15],\n",
        "       simple_regret_gp_15[slice15],\n",
        "       simple_regret_gp_16[slice15],\n",
        "       simple_regret_gp_17[slice15],\n",
        "       simple_regret_gp_18[slice15],\n",
        "       simple_regret_gp_19[slice15],\n",
        "       simple_regret_gp_20[slice15]]\n",
        "\n",
        "exact15 = [simple_regret_stp_1[slice15],\n",
        "       simple_regret_stp_2[slice15],\n",
        "       simple_regret_stp_3[slice15],\n",
        "       simple_regret_stp_4[slice15],\n",
        "       simple_regret_stp_5[slice15],\n",
        "       simple_regret_stp_6[slice15],\n",
        "       simple_regret_stp_7[slice15],\n",
        "       simple_regret_stp_8[slice15],\n",
        "       simple_regret_stp_9[slice15],\n",
        "       simple_regret_stp_10[slice15],\n",
        "       simple_regret_stp_11[slice15],\n",
        "       simple_regret_stp_12[slice15],\n",
        "       simple_regret_stp_13[slice15],\n",
        "       simple_regret_stp_14[slice15],\n",
        "       simple_regret_stp_15[slice15],\n",
        "       simple_regret_stp_16[slice15],\n",
        "       simple_regret_stp_17[slice15],\n",
        "       simple_regret_stp_18[slice15],\n",
        "       simple_regret_stp_19[slice15],\n",
        "       simple_regret_stp_20[slice15]]\n",
        "\n",
        "approx15_results = pd.DataFrame(approx15).sort_values(by=[0], ascending=False)\n",
        "exact15_results = pd.DataFrame(exact15).sort_values(by=[0], ascending=False)\n",
        "\n",
        "### Best simple regret minimization IQR - approx:\n",
        "lower_gp15 = np.asarray(approx15_results[4:5][0])[0]\n",
        "median_gp15 = np.asarray(approx15_results[9:10][0])[0]\n",
        "upper_gp15 = np.asarray(approx15_results[14:15][0])[0]\n",
        "\n",
        "lower_stp15 = np.asarray(exact15_results[4:5][0])[0]\n",
        "median_stp15 = np.asarray(exact15_results[9:10][0])[0]\n",
        "upper_stp15 = np.asarray(exact15_results[14:15][0])[0]"
      ]
    },
    {
      "cell_type": "code",
      "execution_count": 86,
      "metadata": {
        "id": "KJINKhv1Qxf6"
      },
      "outputs": [],
      "source": [
        "# Iteration6 :\n",
        "\n",
        "slice6 = 5\n",
        "\n",
        "approx6 = [simple_regret_gp_1[slice6],\n",
        "       simple_regret_gp_2[slice6],\n",
        "       simple_regret_gp_3[slice6],\n",
        "       simple_regret_gp_4[slice6],\n",
        "       simple_regret_gp_5[slice6],\n",
        "       simple_regret_gp_6[slice6],\n",
        "       simple_regret_gp_7[slice6],\n",
        "       simple_regret_gp_8[slice6],\n",
        "       simple_regret_gp_9[slice6],\n",
        "       simple_regret_gp_10[slice6],\n",
        "       simple_regret_gp_11[slice6],\n",
        "       simple_regret_gp_12[slice6],\n",
        "       simple_regret_gp_13[slice6],\n",
        "       simple_regret_gp_14[slice6],\n",
        "       simple_regret_gp_15[slice6],\n",
        "       simple_regret_gp_16[slice6],\n",
        "       simple_regret_gp_17[slice6],\n",
        "       simple_regret_gp_18[slice6],\n",
        "       simple_regret_gp_19[slice6],\n",
        "       simple_regret_gp_20[slice6]]\n",
        "\n",
        "exact6 = [simple_regret_stp_1[slice6],\n",
        "       simple_regret_stp_2[slice6],\n",
        "       simple_regret_stp_3[slice6],\n",
        "       simple_regret_stp_4[slice6],\n",
        "       simple_regret_stp_5[slice6],\n",
        "       simple_regret_stp_6[slice6],\n",
        "       simple_regret_stp_7[slice6],\n",
        "       simple_regret_stp_8[slice6],\n",
        "       simple_regret_stp_9[slice6],\n",
        "       simple_regret_stp_10[slice6],\n",
        "       simple_regret_stp_11[slice6],\n",
        "       simple_regret_stp_12[slice6],\n",
        "       simple_regret_stp_13[slice6],\n",
        "       simple_regret_stp_14[slice6],\n",
        "       simple_regret_stp_15[slice6],\n",
        "       simple_regret_stp_16[slice6],\n",
        "       simple_regret_stp_17[slice6],\n",
        "       simple_regret_stp_18[slice6],\n",
        "       simple_regret_stp_19[slice6],\n",
        "       simple_regret_stp_20[slice6]]\n",
        "\n",
        "approx6_results = pd.DataFrame(approx6).sort_values(by=[0], ascending=False)\n",
        "exact6_results = pd.DataFrame(exact6).sort_values(by=[0], ascending=False)\n",
        "\n",
        "### Best simple regret minimization IQR - approx:\n",
        "lower_gp6 = np.asarray(approx6_results[4:5][0])[0]\n",
        "median_gp6 = np.asarray(approx6_results[9:10][0])[0]\n",
        "upper_gp6 = np.asarray(approx6_results[14:15][0])[0]\n",
        "\n",
        "lower_stp6 = np.asarray(exact6_results[4:5][0])[0]\n",
        "median_stp6 = np.asarray(exact6_results[9:10][0])[0]\n",
        "upper_stp6 = np.asarray(exact6_results[14:15][0])[0]"
      ]
    },
    {
      "cell_type": "code",
      "execution_count": 87,
      "metadata": {
        "id": "nwC5N1FsQxf7"
      },
      "outputs": [],
      "source": [
        "# Iteration16 :\n",
        "\n",
        "slice16 = 15\n",
        "\n",
        "approx16 = [simple_regret_gp_1[slice16],\n",
        "       simple_regret_gp_2[slice16],\n",
        "       simple_regret_gp_3[slice16],\n",
        "       simple_regret_gp_4[slice16],\n",
        "       simple_regret_gp_5[slice16],\n",
        "       simple_regret_gp_6[slice16],\n",
        "       simple_regret_gp_7[slice16],\n",
        "       simple_regret_gp_8[slice16],\n",
        "       simple_regret_gp_9[slice16],\n",
        "       simple_regret_gp_10[slice16],\n",
        "       simple_regret_gp_11[slice16],\n",
        "       simple_regret_gp_12[slice16],\n",
        "       simple_regret_gp_13[slice16],\n",
        "       simple_regret_gp_14[slice16],\n",
        "       simple_regret_gp_15[slice16],\n",
        "       simple_regret_gp_16[slice16],\n",
        "       simple_regret_gp_17[slice16],\n",
        "       simple_regret_gp_18[slice16],\n",
        "       simple_regret_gp_19[slice16],\n",
        "       simple_regret_gp_20[slice16]]\n",
        "\n",
        "exact16 = [simple_regret_stp_1[slice16],\n",
        "       simple_regret_stp_2[slice16],\n",
        "       simple_regret_stp_3[slice16],\n",
        "       simple_regret_stp_4[slice16],\n",
        "       simple_regret_stp_5[slice16],\n",
        "       simple_regret_stp_6[slice16],\n",
        "       simple_regret_stp_7[slice16],\n",
        "       simple_regret_stp_8[slice16],\n",
        "       simple_regret_stp_9[slice16],\n",
        "       simple_regret_stp_10[slice16],\n",
        "       simple_regret_stp_11[slice16],\n",
        "       simple_regret_stp_12[slice16],\n",
        "       simple_regret_stp_13[slice16],\n",
        "       simple_regret_stp_14[slice16],\n",
        "       simple_regret_stp_15[slice16],\n",
        "       simple_regret_stp_16[slice16],\n",
        "       simple_regret_stp_17[slice16],\n",
        "       simple_regret_stp_18[slice16],\n",
        "       simple_regret_stp_19[slice16],\n",
        "       simple_regret_stp_20[slice16]]\n",
        "\n",
        "approx16_results = pd.DataFrame(approx16).sort_values(by=[0], ascending=False)\n",
        "exact16_results = pd.DataFrame(exact16).sort_values(by=[0], ascending=False)\n",
        "\n",
        "### Best simple regret minimization IQR - approx:\n",
        "lower_gp16 = np.asarray(approx16_results[4:5][0])[0]\n",
        "median_gp16 = np.asarray(approx16_results[9:10][0])[0]\n",
        "upper_gp16 = np.asarray(approx16_results[14:15][0])[0]\n",
        "\n",
        "lower_stp16 = np.asarray(exact16_results[4:5][0])[0]\n",
        "median_stp16 = np.asarray(exact16_results[9:10][0])[0]\n",
        "upper_stp16 = np.asarray(exact16_results[14:15][0])[0]"
      ]
    },
    {
      "cell_type": "code",
      "execution_count": 88,
      "metadata": {
        "id": "TrPV0AfnQxf7"
      },
      "outputs": [],
      "source": [
        "# Iteration7 :\n",
        "\n",
        "slice7 = 6\n",
        "\n",
        "approx7 = [simple_regret_gp_1[slice7],\n",
        "       simple_regret_gp_2[slice7],\n",
        "       simple_regret_gp_3[slice7],\n",
        "       simple_regret_gp_4[slice7],\n",
        "       simple_regret_gp_5[slice7],\n",
        "       simple_regret_gp_6[slice7],\n",
        "       simple_regret_gp_7[slice7],\n",
        "       simple_regret_gp_8[slice7],\n",
        "       simple_regret_gp_9[slice7],\n",
        "       simple_regret_gp_10[slice7],\n",
        "       simple_regret_gp_11[slice7],\n",
        "       simple_regret_gp_12[slice7],\n",
        "       simple_regret_gp_13[slice7],\n",
        "       simple_regret_gp_14[slice7],\n",
        "       simple_regret_gp_15[slice7],\n",
        "       simple_regret_gp_16[slice7],\n",
        "       simple_regret_gp_17[slice7],\n",
        "       simple_regret_gp_18[slice7],\n",
        "       simple_regret_gp_19[slice7],\n",
        "       simple_regret_gp_20[slice7]]\n",
        "\n",
        "exact7 = [simple_regret_stp_1[slice7],\n",
        "       simple_regret_stp_2[slice7],\n",
        "       simple_regret_stp_3[slice7],\n",
        "       simple_regret_stp_4[slice7],\n",
        "       simple_regret_stp_5[slice7],\n",
        "       simple_regret_stp_6[slice7],\n",
        "       simple_regret_stp_7[slice7],\n",
        "       simple_regret_stp_8[slice7],\n",
        "       simple_regret_stp_9[slice7],\n",
        "       simple_regret_stp_10[slice7],\n",
        "       simple_regret_stp_11[slice7],\n",
        "       simple_regret_stp_12[slice7],\n",
        "       simple_regret_stp_13[slice7],\n",
        "       simple_regret_stp_14[slice7],\n",
        "       simple_regret_stp_15[slice7],\n",
        "       simple_regret_stp_16[slice7],\n",
        "       simple_regret_stp_17[slice7],\n",
        "       simple_regret_stp_18[slice7],\n",
        "       simple_regret_stp_19[slice7],\n",
        "       simple_regret_stp_20[slice7]]\n",
        "\n",
        "approx7_results = pd.DataFrame(approx7).sort_values(by=[0], ascending=False)\n",
        "exact7_results = pd.DataFrame(exact7).sort_values(by=[0], ascending=False)\n",
        "\n",
        "### Best simple regret minimization IQR - approx:\n",
        "lower_gp7 = np.asarray(approx7_results[4:5][0])[0]\n",
        "median_gp7 = np.asarray(approx7_results[9:10][0])[0]\n",
        "upper_gp7 = np.asarray(approx7_results[14:15][0])[0]\n",
        "\n",
        "lower_stp7 = np.asarray(exact7_results[4:5][0])[0]\n",
        "median_stp7 = np.asarray(exact7_results[9:10][0])[0]\n",
        "upper_stp7 = np.asarray(exact7_results[14:15][0])[0]"
      ]
    },
    {
      "cell_type": "code",
      "execution_count": 89,
      "metadata": {
        "id": "Ub_-wpK4Qxf8"
      },
      "outputs": [],
      "source": [
        "# Iteration17 :\n",
        "\n",
        "slice17 = 16\n",
        "\n",
        "approx17 = [simple_regret_gp_1[slice17],\n",
        "       simple_regret_gp_2[slice17],\n",
        "       simple_regret_gp_3[slice17],\n",
        "       simple_regret_gp_4[slice17],\n",
        "       simple_regret_gp_5[slice17],\n",
        "       simple_regret_gp_6[slice17],\n",
        "       simple_regret_gp_7[slice17],\n",
        "       simple_regret_gp_8[slice17],\n",
        "       simple_regret_gp_9[slice17],\n",
        "       simple_regret_gp_10[slice17],\n",
        "       simple_regret_gp_11[slice17],\n",
        "       simple_regret_gp_12[slice17],\n",
        "       simple_regret_gp_13[slice17],\n",
        "       simple_regret_gp_14[slice17],\n",
        "       simple_regret_gp_15[slice17],\n",
        "       simple_regret_gp_16[slice17],\n",
        "       simple_regret_gp_17[slice17],\n",
        "       simple_regret_gp_18[slice17],\n",
        "       simple_regret_gp_19[slice17],\n",
        "       simple_regret_gp_20[slice17]]\n",
        "\n",
        "exact17 = [simple_regret_stp_1[slice17],\n",
        "       simple_regret_stp_2[slice17],\n",
        "       simple_regret_stp_3[slice17],\n",
        "       simple_regret_stp_4[slice17],\n",
        "       simple_regret_stp_5[slice17],\n",
        "       simple_regret_stp_6[slice17],\n",
        "       simple_regret_stp_7[slice17],\n",
        "       simple_regret_stp_8[slice17],\n",
        "       simple_regret_stp_9[slice17],\n",
        "       simple_regret_stp_10[slice17],\n",
        "       simple_regret_stp_11[slice17],\n",
        "       simple_regret_stp_12[slice17],\n",
        "       simple_regret_stp_13[slice17],\n",
        "       simple_regret_stp_14[slice17],\n",
        "       simple_regret_stp_15[slice17],\n",
        "       simple_regret_stp_16[slice17],\n",
        "       simple_regret_stp_17[slice17],\n",
        "       simple_regret_stp_18[slice17],\n",
        "       simple_regret_stp_19[slice17],\n",
        "       simple_regret_stp_20[slice17]]\n",
        "\n",
        "approx17_results = pd.DataFrame(approx17).sort_values(by=[0], ascending=False)\n",
        "exact17_results = pd.DataFrame(exact17).sort_values(by=[0], ascending=False)\n",
        "\n",
        "### Best simple regret minimization IQR - approx:\n",
        "lower_gp17 = np.asarray(approx17_results[4:5][0])[0]\n",
        "median_gp17 = np.asarray(approx17_results[9:10][0])[0]\n",
        "upper_gp17 = np.asarray(approx17_results[14:15][0])[0]\n",
        "\n",
        "lower_stp17 = np.asarray(exact17_results[4:5][0])[0]\n",
        "median_stp17 = np.asarray(exact17_results[9:10][0])[0]\n",
        "upper_stp17 = np.asarray(exact17_results[14:15][0])[0]"
      ]
    },
    {
      "cell_type": "code",
      "execution_count": 90,
      "metadata": {
        "id": "-6VLo37PQxf8"
      },
      "outputs": [],
      "source": [
        "# Iteration8 :\n",
        "\n",
        "slice8 = 7\n",
        "\n",
        "approx8 = [simple_regret_gp_1[slice8],\n",
        "       simple_regret_gp_2[slice8],\n",
        "       simple_regret_gp_3[slice8],\n",
        "       simple_regret_gp_4[slice8],\n",
        "       simple_regret_gp_5[slice8],\n",
        "       simple_regret_gp_6[slice8],\n",
        "       simple_regret_gp_7[slice8],\n",
        "       simple_regret_gp_8[slice8],\n",
        "       simple_regret_gp_9[slice8],\n",
        "       simple_regret_gp_10[slice8],\n",
        "       simple_regret_gp_11[slice8],\n",
        "       simple_regret_gp_12[slice8],\n",
        "       simple_regret_gp_13[slice8],\n",
        "       simple_regret_gp_14[slice8],\n",
        "       simple_regret_gp_15[slice8],\n",
        "       simple_regret_gp_16[slice8],\n",
        "       simple_regret_gp_17[slice8],\n",
        "       simple_regret_gp_18[slice8],\n",
        "       simple_regret_gp_19[slice8],\n",
        "       simple_regret_gp_20[slice8]]\n",
        "\n",
        "exact8 = [simple_regret_stp_1[slice8],\n",
        "       simple_regret_stp_2[slice8],\n",
        "       simple_regret_stp_3[slice8],\n",
        "       simple_regret_stp_4[slice8],\n",
        "       simple_regret_stp_5[slice8],\n",
        "       simple_regret_stp_6[slice8],\n",
        "       simple_regret_stp_7[slice8],\n",
        "       simple_regret_stp_8[slice8],\n",
        "       simple_regret_stp_9[slice8],\n",
        "       simple_regret_stp_10[slice8],\n",
        "       simple_regret_stp_11[slice8],\n",
        "       simple_regret_stp_12[slice8],\n",
        "       simple_regret_stp_13[slice8],\n",
        "       simple_regret_stp_14[slice8],\n",
        "       simple_regret_stp_15[slice8],\n",
        "       simple_regret_stp_16[slice8],\n",
        "       simple_regret_stp_17[slice8],\n",
        "       simple_regret_stp_18[slice8],\n",
        "       simple_regret_stp_19[slice8],\n",
        "       simple_regret_stp_20[slice8]]\n",
        "\n",
        "approx8_results = pd.DataFrame(approx8).sort_values(by=[0], ascending=False)\n",
        "exact8_results = pd.DataFrame(exact8).sort_values(by=[0], ascending=False)\n",
        "\n",
        "### Best simple regret minimization IQR - approx:\n",
        "lower_gp8 = np.asarray(approx8_results[4:5][0])[0]\n",
        "median_gp8 = np.asarray(approx8_results[9:10][0])[0]\n",
        "upper_gp8 = np.asarray(approx8_results[14:15][0])[0]\n",
        "\n",
        "lower_stp8 = np.asarray(exact8_results[4:5][0])[0]\n",
        "median_stp8 = np.asarray(exact8_results[9:10][0])[0]\n",
        "upper_stp8 = np.asarray(exact8_results[14:15][0])[0]"
      ]
    },
    {
      "cell_type": "code",
      "execution_count": 91,
      "metadata": {
        "id": "2Dp-9CC2Qxf9"
      },
      "outputs": [],
      "source": [
        "# Iteration18 :\n",
        "\n",
        "slice18 = 17\n",
        "\n",
        "approx18 = [simple_regret_gp_1[slice18],\n",
        "       simple_regret_gp_2[slice18],\n",
        "       simple_regret_gp_3[slice18],\n",
        "       simple_regret_gp_4[slice18],\n",
        "       simple_regret_gp_5[slice18],\n",
        "       simple_regret_gp_6[slice18],\n",
        "       simple_regret_gp_7[slice18],\n",
        "       simple_regret_gp_8[slice18],\n",
        "       simple_regret_gp_9[slice18],\n",
        "       simple_regret_gp_10[slice18],\n",
        "       simple_regret_gp_11[slice18],\n",
        "       simple_regret_gp_12[slice18],\n",
        "       simple_regret_gp_13[slice18],\n",
        "       simple_regret_gp_14[slice18],\n",
        "       simple_regret_gp_15[slice18],\n",
        "       simple_regret_gp_16[slice18],\n",
        "       simple_regret_gp_17[slice18],\n",
        "       simple_regret_gp_18[slice18],\n",
        "       simple_regret_gp_19[slice18],\n",
        "       simple_regret_gp_20[slice18]]\n",
        "\n",
        "exact18 = [simple_regret_stp_1[slice18],\n",
        "       simple_regret_stp_2[slice18],\n",
        "       simple_regret_stp_3[slice18],\n",
        "       simple_regret_stp_4[slice18],\n",
        "       simple_regret_stp_5[slice18],\n",
        "       simple_regret_stp_6[slice18],\n",
        "       simple_regret_stp_7[slice18],\n",
        "       simple_regret_stp_8[slice18],\n",
        "       simple_regret_stp_9[slice18],\n",
        "       simple_regret_stp_10[slice18],\n",
        "       simple_regret_stp_11[slice18],\n",
        "       simple_regret_stp_12[slice18],\n",
        "       simple_regret_stp_13[slice18],\n",
        "       simple_regret_stp_14[slice18],\n",
        "       simple_regret_stp_15[slice18],\n",
        "       simple_regret_stp_16[slice18],\n",
        "       simple_regret_stp_17[slice18],\n",
        "       simple_regret_stp_18[slice18],\n",
        "       simple_regret_stp_19[slice18],\n",
        "       simple_regret_stp_20[slice18]]\n",
        "\n",
        "approx18_results = pd.DataFrame(approx18).sort_values(by=[0], ascending=False)\n",
        "exact18_results = pd.DataFrame(exact18).sort_values(by=[0], ascending=False)\n",
        "\n",
        "### Best simple regret minimization IQR - approx:\n",
        "lower_gp18 = np.asarray(approx18_results[4:5][0])[0]\n",
        "median_gp18 = np.asarray(approx18_results[9:10][0])[0]\n",
        "upper_gp18 = np.asarray(approx18_results[14:15][0])[0]\n",
        "\n",
        "lower_stp18 = np.asarray(exact18_results[4:5][0])[0]\n",
        "median_stp18 = np.asarray(exact18_results[9:10][0])[0]\n",
        "upper_stp18 = np.asarray(exact18_results[14:15][0])[0]"
      ]
    },
    {
      "cell_type": "code",
      "execution_count": 92,
      "metadata": {
        "id": "SqiaOpB7Qxf9"
      },
      "outputs": [],
      "source": [
        "# Iteration9 :\n",
        "\n",
        "slice9 = 8\n",
        "\n",
        "approx9 = [simple_regret_gp_1[slice9],\n",
        "       simple_regret_gp_2[slice9],\n",
        "       simple_regret_gp_3[slice9],\n",
        "       simple_regret_gp_4[slice9],\n",
        "       simple_regret_gp_5[slice9],\n",
        "       simple_regret_gp_6[slice9],\n",
        "       simple_regret_gp_7[slice9],\n",
        "       simple_regret_gp_8[slice9],\n",
        "       simple_regret_gp_9[slice9],\n",
        "       simple_regret_gp_10[slice9],\n",
        "       simple_regret_gp_11[slice9],\n",
        "       simple_regret_gp_12[slice9],\n",
        "       simple_regret_gp_13[slice9],\n",
        "       simple_regret_gp_14[slice9],\n",
        "       simple_regret_gp_15[slice9],\n",
        "       simple_regret_gp_16[slice9],\n",
        "       simple_regret_gp_17[slice9],\n",
        "       simple_regret_gp_18[slice9],\n",
        "       simple_regret_gp_19[slice9],\n",
        "       simple_regret_gp_20[slice9]]\n",
        "\n",
        "exact9 = [simple_regret_stp_1[slice9],\n",
        "       simple_regret_stp_2[slice9],\n",
        "       simple_regret_stp_3[slice9],\n",
        "       simple_regret_stp_4[slice9],\n",
        "       simple_regret_stp_5[slice9],\n",
        "       simple_regret_stp_6[slice9],\n",
        "       simple_regret_stp_7[slice9],\n",
        "       simple_regret_stp_8[slice9],\n",
        "       simple_regret_stp_9[slice9],\n",
        "       simple_regret_stp_10[slice9],\n",
        "       simple_regret_stp_11[slice9],\n",
        "       simple_regret_stp_12[slice9],\n",
        "       simple_regret_stp_13[slice9],\n",
        "       simple_regret_stp_14[slice9],\n",
        "       simple_regret_stp_15[slice9],\n",
        "       simple_regret_stp_16[slice9],\n",
        "       simple_regret_stp_17[slice9],\n",
        "       simple_regret_stp_18[slice9],\n",
        "       simple_regret_stp_19[slice9],\n",
        "       simple_regret_stp_20[slice9]]\n",
        "\n",
        "approx9_results = pd.DataFrame(approx9).sort_values(by=[0], ascending=False)\n",
        "exact9_results = pd.DataFrame(exact9).sort_values(by=[0], ascending=False)\n",
        "\n",
        "### Best simple regret minimization IQR - approx:\n",
        "lower_gp9 = np.asarray(approx9_results[4:5][0])[0]\n",
        "median_gp9 = np.asarray(approx9_results[9:10][0])[0]\n",
        "upper_gp9 = np.asarray(approx9_results[14:15][0])[0]\n",
        "\n",
        "lower_stp9 = np.asarray(exact9_results[4:5][0])[0]\n",
        "median_stp9 = np.asarray(exact9_results[9:10][0])[0]\n",
        "upper_stp9 = np.asarray(exact9_results[14:15][0])[0]"
      ]
    },
    {
      "cell_type": "code",
      "execution_count": 93,
      "metadata": {
        "id": "OQkCCOsPQxf9"
      },
      "outputs": [],
      "source": [
        "# Iteration19 :\n",
        "\n",
        "slice19 = 18\n",
        "\n",
        "approx19 = [simple_regret_gp_1[slice19],\n",
        "       simple_regret_gp_2[slice19],\n",
        "       simple_regret_gp_3[slice19],\n",
        "       simple_regret_gp_4[slice19],\n",
        "       simple_regret_gp_5[slice19],\n",
        "       simple_regret_gp_6[slice19],\n",
        "       simple_regret_gp_7[slice19],\n",
        "       simple_regret_gp_8[slice19],\n",
        "       simple_regret_gp_9[slice19],\n",
        "       simple_regret_gp_10[slice19],\n",
        "       simple_regret_gp_11[slice19],\n",
        "       simple_regret_gp_12[slice19],\n",
        "       simple_regret_gp_13[slice19],\n",
        "       simple_regret_gp_14[slice19],\n",
        "       simple_regret_gp_15[slice19],\n",
        "       simple_regret_gp_16[slice19],\n",
        "       simple_regret_gp_17[slice19],\n",
        "       simple_regret_gp_18[slice19],\n",
        "       simple_regret_gp_19[slice19],\n",
        "       simple_regret_gp_20[slice19]]\n",
        "\n",
        "exact19 = [simple_regret_stp_1[slice19],\n",
        "       simple_regret_stp_2[slice19],\n",
        "       simple_regret_stp_3[slice19],\n",
        "       simple_regret_stp_4[slice19],\n",
        "       simple_regret_stp_5[slice19],\n",
        "       simple_regret_stp_6[slice19],\n",
        "       simple_regret_stp_7[slice19],\n",
        "       simple_regret_stp_8[slice19],\n",
        "       simple_regret_stp_9[slice19],\n",
        "       simple_regret_stp_10[slice19],\n",
        "       simple_regret_stp_11[slice19],\n",
        "       simple_regret_stp_12[slice19],\n",
        "       simple_regret_stp_13[slice19],\n",
        "       simple_regret_stp_14[slice19],\n",
        "       simple_regret_stp_15[slice19],\n",
        "       simple_regret_stp_16[slice19],\n",
        "       simple_regret_stp_17[slice19],\n",
        "       simple_regret_stp_18[slice19],\n",
        "       simple_regret_stp_19[slice19],\n",
        "       simple_regret_stp_20[slice19]]\n",
        "\n",
        "approx19_results = pd.DataFrame(approx19).sort_values(by=[0], ascending=False)\n",
        "exact19_results = pd.DataFrame(exact19).sort_values(by=[0], ascending=False)\n",
        "\n",
        "### Best simple regret minimization IQR - approx:\n",
        "lower_gp19 = np.asarray(approx19_results[4:5][0])[0]\n",
        "median_gp19 = np.asarray(approx19_results[9:10][0])[0]\n",
        "upper_gp19 = np.asarray(approx19_results[14:15][0])[0]\n",
        "\n",
        "lower_stp19 = np.asarray(exact19_results[4:5][0])[0]\n",
        "median_stp19 = np.asarray(exact19_results[9:10][0])[0]\n",
        "upper_stp19 = np.asarray(exact19_results[14:15][0])[0]"
      ]
    },
    {
      "cell_type": "code",
      "execution_count": 94,
      "metadata": {
        "id": "h4vtWahcQxf-"
      },
      "outputs": [],
      "source": [
        "# Iteration10 :\n",
        "\n",
        "slice10 = 9\n",
        "\n",
        "approx10 = [simple_regret_gp_1[slice10],\n",
        "       simple_regret_gp_2[slice10],\n",
        "       simple_regret_gp_3[slice10],\n",
        "       simple_regret_gp_4[slice10],\n",
        "       simple_regret_gp_5[slice10],\n",
        "       simple_regret_gp_6[slice10],\n",
        "       simple_regret_gp_7[slice10],\n",
        "       simple_regret_gp_8[slice10],\n",
        "       simple_regret_gp_9[slice10],\n",
        "       simple_regret_gp_10[slice10],\n",
        "       simple_regret_gp_11[slice10],\n",
        "       simple_regret_gp_12[slice10],\n",
        "       simple_regret_gp_13[slice10],\n",
        "       simple_regret_gp_14[slice10],\n",
        "       simple_regret_gp_15[slice10],\n",
        "       simple_regret_gp_16[slice10],\n",
        "       simple_regret_gp_17[slice10],\n",
        "       simple_regret_gp_18[slice10],\n",
        "       simple_regret_gp_19[slice10],\n",
        "       simple_regret_gp_20[slice10]]\n",
        "\n",
        "exact10 = [simple_regret_stp_1[slice10],\n",
        "       simple_regret_stp_2[slice10],\n",
        "       simple_regret_stp_3[slice10],\n",
        "       simple_regret_stp_4[slice10],\n",
        "       simple_regret_stp_5[slice10],\n",
        "       simple_regret_stp_6[slice10],\n",
        "       simple_regret_stp_7[slice10],\n",
        "       simple_regret_stp_8[slice10],\n",
        "       simple_regret_stp_9[slice10],\n",
        "       simple_regret_stp_10[slice10],\n",
        "       simple_regret_stp_11[slice10],\n",
        "       simple_regret_stp_12[slice10],\n",
        "       simple_regret_stp_13[slice10],\n",
        "       simple_regret_stp_14[slice10],\n",
        "       simple_regret_stp_15[slice10],\n",
        "       simple_regret_stp_16[slice10],\n",
        "       simple_regret_stp_17[slice10],\n",
        "       simple_regret_stp_18[slice10],\n",
        "       simple_regret_stp_19[slice10],\n",
        "       simple_regret_stp_20[slice10]]\n",
        "\n",
        "approx10_results = pd.DataFrame(approx10).sort_values(by=[0], ascending=False)\n",
        "exact10_results = pd.DataFrame(exact10).sort_values(by=[0], ascending=False)\n",
        "\n",
        "### Best simple regret minimization IQR - approx:\n",
        "lower_gp10 = np.asarray(approx10_results[4:5][0])[0]\n",
        "median_gp10 = np.asarray(approx10_results[9:10][0])[0]\n",
        "upper_gp10 = np.asarray(approx10_results[14:15][0])[0]\n",
        "\n",
        "lower_stp10 = np.asarray(exact10_results[4:5][0])[0]\n",
        "median_stp10 = np.asarray(exact10_results[9:10][0])[0]\n",
        "upper_stp10 = np.asarray(exact10_results[14:15][0])[0]"
      ]
    },
    {
      "cell_type": "code",
      "execution_count": 95,
      "metadata": {
        "id": "Rsf240pWQxf-"
      },
      "outputs": [],
      "source": [
        "# Iteration20 :\n",
        "\n",
        "slice20 = 19\n",
        "\n",
        "approx20 = [simple_regret_gp_1[slice20],\n",
        "       simple_regret_gp_2[slice20],\n",
        "       simple_regret_gp_3[slice20],\n",
        "       simple_regret_gp_4[slice20],\n",
        "       simple_regret_gp_5[slice20],\n",
        "       simple_regret_gp_6[slice20],\n",
        "       simple_regret_gp_7[slice20],\n",
        "       simple_regret_gp_8[slice20],\n",
        "       simple_regret_gp_9[slice20],\n",
        "       simple_regret_gp_10[slice20],\n",
        "       simple_regret_gp_11[slice20],\n",
        "       simple_regret_gp_12[slice20],\n",
        "       simple_regret_gp_13[slice20],\n",
        "       simple_regret_gp_14[slice20],\n",
        "       simple_regret_gp_15[slice20],\n",
        "       simple_regret_gp_16[slice20],\n",
        "       simple_regret_gp_17[slice20],\n",
        "       simple_regret_gp_18[slice20],\n",
        "       simple_regret_gp_19[slice20],\n",
        "       simple_regret_gp_20[slice20]]\n",
        "\n",
        "exact20 = [simple_regret_stp_1[slice20],\n",
        "       simple_regret_stp_2[slice20],\n",
        "       simple_regret_stp_3[slice20],\n",
        "       simple_regret_stp_4[slice20],\n",
        "       simple_regret_stp_5[slice20],\n",
        "       simple_regret_stp_6[slice20],\n",
        "       simple_regret_stp_7[slice20],\n",
        "       simple_regret_stp_8[slice20],\n",
        "       simple_regret_stp_9[slice20],\n",
        "       simple_regret_stp_10[slice20],\n",
        "       simple_regret_stp_11[slice20],\n",
        "       simple_regret_stp_12[slice20],\n",
        "       simple_regret_stp_13[slice20],\n",
        "       simple_regret_stp_14[slice20],\n",
        "       simple_regret_stp_15[slice20],\n",
        "       simple_regret_stp_16[slice20],\n",
        "       simple_regret_stp_17[slice20],\n",
        "       simple_regret_stp_18[slice20],\n",
        "       simple_regret_stp_19[slice20],\n",
        "       simple_regret_stp_20[slice20]]\n",
        "\n",
        "approx20_results = pd.DataFrame(approx20).sort_values(by=[0], ascending=False)\n",
        "exact20_results = pd.DataFrame(exact20).sort_values(by=[0], ascending=False)\n",
        "\n",
        "### Best simple regret minimization IQR - approx:\n",
        "lower_gp20 = np.asarray(approx20_results[4:5][0])[0]\n",
        "median_gp20 = np.asarray(approx20_results[9:10][0])[0]\n",
        "upper_gp20 = np.asarray(approx20_results[14:15][0])[0]\n",
        "\n",
        "lower_stp20 = np.asarray(exact20_results[4:5][0])[0]\n",
        "median_stp20 = np.asarray(exact20_results[9:10][0])[0]\n",
        "upper_stp20 = np.asarray(exact20_results[14:15][0])[0]"
      ]
    },
    {
      "cell_type": "code",
      "execution_count": 96,
      "metadata": {
        "id": "gn36RejbQxf_"
      },
      "outputs": [],
      "source": [
        "### Summarize arrays: 'Loser'\n",
        "\n",
        "lower_gp = [lower_gp1,\n",
        "            lower_gp2,\n",
        "            lower_gp3,\n",
        "            lower_gp4,\n",
        "            lower_gp5,\n",
        "            lower_gp6,\n",
        "            lower_gp7,\n",
        "            lower_gp8,\n",
        "            lower_gp9,\n",
        "            lower_gp10,\n",
        "            lower_gp11,\n",
        "            lower_gp12,\n",
        "            lower_gp13,\n",
        "            lower_gp14,\n",
        "            lower_gp15,\n",
        "            lower_gp16,\n",
        "            lower_gp17,\n",
        "            lower_gp18,\n",
        "            lower_gp19,\n",
        "            lower_gp20,\n",
        "            lower_gp21]\n",
        "\n",
        "median_gp = [median_gp1,\n",
        "            median_gp2,\n",
        "            median_gp3,\n",
        "            median_gp4,\n",
        "            median_gp5,\n",
        "            median_gp6,\n",
        "            median_gp7,\n",
        "            median_gp8,\n",
        "            median_gp9,\n",
        "            median_gp10,\n",
        "            median_gp11,\n",
        "            median_gp12,\n",
        "            median_gp13,\n",
        "            median_gp14,\n",
        "            median_gp15,\n",
        "            median_gp16,\n",
        "            median_gp17,\n",
        "            median_gp18,\n",
        "            median_gp19,\n",
        "            median_gp20,\n",
        "            median_gp21]\n",
        "\n",
        "upper_gp = [upper_gp1,\n",
        "            upper_gp2,\n",
        "            upper_gp3,\n",
        "            upper_gp4,\n",
        "            upper_gp5,\n",
        "            upper_gp6,\n",
        "            upper_gp7,\n",
        "            upper_gp8,\n",
        "            upper_gp9,\n",
        "            upper_gp10,\n",
        "            upper_gp11,\n",
        "            upper_gp12,\n",
        "            upper_gp13,\n",
        "            upper_gp14,\n",
        "            upper_gp15,\n",
        "            upper_gp16,\n",
        "            upper_gp17,\n",
        "            upper_gp18,\n",
        "            upper_gp19,\n",
        "            upper_gp20,\n",
        "            upper_gp21]"
      ]
    },
    {
      "cell_type": "code",
      "execution_count": 97,
      "metadata": {
        "id": "wxtGTOYfQxf_"
      },
      "outputs": [],
      "source": [
        "### Summarize arrays: 'exact'\n",
        "\n",
        "lower_stp = [lower_stp1,\n",
        "            lower_stp2,\n",
        "            lower_stp3,\n",
        "            lower_stp4,\n",
        "            lower_stp5,\n",
        "            lower_stp6,\n",
        "            lower_stp7,\n",
        "            lower_stp8,\n",
        "            lower_stp9,\n",
        "            lower_stp10,\n",
        "            lower_stp11,\n",
        "            lower_stp12,\n",
        "            lower_stp13,\n",
        "            lower_stp14,\n",
        "            lower_stp15,\n",
        "            lower_stp16,\n",
        "            lower_stp17,\n",
        "            lower_stp18,\n",
        "            lower_stp19,\n",
        "            lower_stp20,\n",
        "            lower_stp21]\n",
        "\n",
        "median_stp = [median_stp1,\n",
        "            median_stp2,\n",
        "            median_stp3,\n",
        "            median_stp4,\n",
        "            median_stp5,\n",
        "            median_stp6,\n",
        "            median_stp7,\n",
        "            median_stp8,\n",
        "            median_stp9,\n",
        "            median_stp10,\n",
        "            median_stp11,\n",
        "            median_stp12,\n",
        "            median_stp13,\n",
        "            median_stp14,\n",
        "            median_stp15,\n",
        "            median_stp16,\n",
        "            median_stp17,\n",
        "            median_stp18,\n",
        "            median_stp19,\n",
        "            median_stp20,\n",
        "            median_stp21]\n",
        "\n",
        "upper_stp = [upper_stp1,\n",
        "            upper_stp2,\n",
        "            upper_stp3,\n",
        "            upper_stp4,\n",
        "            upper_stp5,\n",
        "            upper_stp6,\n",
        "            upper_stp7,\n",
        "            upper_stp8,\n",
        "            upper_stp9,\n",
        "            upper_stp10,\n",
        "            upper_stp11,\n",
        "            upper_stp12,\n",
        "            upper_stp13,\n",
        "            upper_stp14,\n",
        "            upper_stp15,\n",
        "            upper_stp16,\n",
        "            upper_stp17,\n",
        "            upper_stp18,\n",
        "            upper_stp19,\n",
        "            upper_stp20,\n",
        "            upper_stp21]"
      ]
    },
    {
      "cell_type": "code",
      "execution_count": 98,
      "metadata": {
        "id": "2MONq-BXQxgA",
        "colab": {
          "base_uri": "https://localhost:8080/",
          "height": 299
        },
        "outputId": "0c994116-9562-4592-9638-bdee9a425bab"
      },
      "outputs": [
        {
          "output_type": "display_data",
          "data": {
            "text/plain": [
              "<Figure size 432x288 with 1 Axes>"
            ],
            "image/png": "[encoded data removed]"
          },
          "metadata": {
            "needs_background": "light"
          }
        }
      ],
      "source": [
        "### Visualise!\n",
        "\n",
        "title = func\n",
        "plt.figure()\n",
        "\n",
        "plt.plot(median_gp, color = 'Red', ls='-')\n",
        "plt.plot(median_stp, color = 'Red', ls='--')\n",
        "\n",
        "xstar = np.arange(0, iters+1, step=1)\n",
        "plt.fill_between(xstar, lower_gp, upper_gp, facecolor = 'Red', alpha=0.2, label='GP EI Optimisation: Exact GP dEI gradients')\n",
        "plt.fill_between(xstar, lower_stp, upper_stp, facecolor = 'Red', alpha=0.4, label='STP EI Optimisation: Exact STP dEI gradients ' r'($\\nu$' ' = {})'.format(df))\n",
        "\n",
        "plt.title(title, weight = 'bold')\n",
        "plt.xlabel('(Post-initialisation) iteration $\\it{k}$', weight = 'bold')\n",
        "plt.ylabel('log(Regret)', weight = 'bold') \n",
        "plt.legend(loc=1) # add plot legend\n",
        "\n",
        "### Make the x-ticks integers, not floats:\n",
        "count = len(xstar)\n",
        "plt.xticks(np.arange(count), np.arange(0, count))\n",
        "plt.show() #visualise!\n"
      ]
    },
    {
      "cell_type": "code",
      "execution_count": 99,
      "metadata": {
        "id": "l5dkR2Id2oiu",
        "colab": {
          "base_uri": "https://localhost:8080/"
        },
        "outputId": "85be7e6b-157c-4056-fe77-449f262344aa"
      },
      "outputs": [
        {
          "output_type": "execute_result",
          "data": {
            "text/plain": [
              "(872.347002029419, 1346.3499114513397)"
            ]
          },
          "metadata": {},
          "execution_count": 99
        }
      ],
      "source": [
        "time_gp, time_stp\n"
      ]
    },
    {
      "cell_type": "code",
      "source": [
        "### acqFunc attribute x, stddev: run number = 1\n",
        "\n",
        "acqFuncgp_gp_1 = acqFuncExact(gp_1.history)\n",
        "acqFuncstp_stp_1 = acqFuncExact(stp_1.history)\n",
        "\n",
        "e1 = np.std(acqFuncstp_stp_1)\n",
        "a1 = np.std(acqFuncgp_gp_1)\n",
        "\n",
        "e1, a1\n"
      ],
      "metadata": {
        "colab": {
          "base_uri": "https://localhost:8080/"
        },
        "id": "uwxv4dmfGsLr",
        "outputId": "b2c02c3c-c438-48ea-a505-dad14cc3f6d3"
      },
      "execution_count": 100,
      "outputs": [
        {
          "output_type": "execute_result",
          "data": {
            "text/plain": [
              "(0.284042956268755, 0.2919760646319212)"
            ]
          },
          "metadata": {},
          "execution_count": 100
        }
      ]
    },
    {
      "cell_type": "code",
      "source": [
        "### acqFunc attribute x, stddev: run number = 2\n",
        "\n",
        "acqFuncgp_gp_2 = acqFuncExact(gp_2.history)\n",
        "acqFuncstp_stp_2 = acqFuncExact(stp_2.history)\n",
        "\n",
        "e2 = np.std(acqFuncstp_stp_2)\n",
        "a2 = np.std(acqFuncgp_gp_2)\n",
        "\n",
        "e2, a2\n"
      ],
      "metadata": {
        "colab": {
          "base_uri": "https://localhost:8080/"
        },
        "id": "0YSV00_pGsXe",
        "outputId": "e2756055-6c82-4249-d802-ce2deb02ddd1"
      },
      "execution_count": 101,
      "outputs": [
        {
          "output_type": "execute_result",
          "data": {
            "text/plain": [
              "(0.31924477180902083, 0.35255868373422955)"
            ]
          },
          "metadata": {},
          "execution_count": 101
        }
      ]
    },
    {
      "cell_type": "code",
      "source": [
        "### acqFunc attribute x, stddev: run number = 3\n",
        "\n",
        "acqFuncgp_gp_3 = acqFuncExact(gp_3.history)\n",
        "acqFuncstp_stp_3 = acqFuncExact(stp_3.history)\n",
        "\n",
        "e3 = np.std(acqFuncstp_stp_3)\n",
        "a3 = np.std(acqFuncgp_gp_3)\n",
        "\n",
        "e3, a3\n"
      ],
      "metadata": {
        "colab": {
          "base_uri": "https://localhost:8080/"
        },
        "id": "HHVmsd2UGsjT",
        "outputId": "10904733-0608-40cb-d363-7d74a3c62d35"
      },
      "execution_count": 102,
      "outputs": [
        {
          "output_type": "execute_result",
          "data": {
            "text/plain": [
              "(0.23661039560441224, 0.2624035469861842)"
            ]
          },
          "metadata": {},
          "execution_count": 102
        }
      ]
    },
    {
      "cell_type": "code",
      "source": [
        "### acqFunc attribute x, stddev: run number = 4\n",
        "\n",
        "acqFuncgp_gp_4 = acqFuncExact(gp_4.history)\n",
        "acqFuncstp_stp_4 = acqFuncExact(stp_4.history)\n",
        "\n",
        "e4 = np.std(acqFuncstp_stp_4)\n",
        "a4 = np.std(acqFuncgp_gp_4)\n",
        "\n",
        "e4, a4\n"
      ],
      "metadata": {
        "colab": {
          "base_uri": "https://localhost:8080/"
        },
        "id": "r7O19S2eGsu7",
        "outputId": "adc1a3e4-5c30-45bc-9c15-5209adbc7404"
      },
      "execution_count": 103,
      "outputs": [
        {
          "output_type": "execute_result",
          "data": {
            "text/plain": [
              "(0.25558781606762493, 0.32123981021025944)"
            ]
          },
          "metadata": {},
          "execution_count": 103
        }
      ]
    },
    {
      "cell_type": "code",
      "source": [
        "### acqFunc attribute x, stddev: run number = 5\n",
        "\n",
        "acqFuncgp_gp_5 = acqFuncExact(gp_5.history)\n",
        "acqFuncstp_stp_5 = acqFuncExact(stp_5.history)\n",
        "\n",
        "e5 = np.std(acqFuncstp_stp_5)\n",
        "a5 = np.std(acqFuncgp_gp_5)\n",
        "\n",
        "e5, a5\n"
      ],
      "metadata": {
        "colab": {
          "base_uri": "https://localhost:8080/"
        },
        "id": "sdb9o6NuGs5m",
        "outputId": "fe1a0904-18b6-4270-edba-38f445abb375"
      },
      "execution_count": 104,
      "outputs": [
        {
          "output_type": "execute_result",
          "data": {
            "text/plain": [
              "(0.5161847866183769, 0.5488965895582665)"
            ]
          },
          "metadata": {},
          "execution_count": 104
        }
      ]
    },
    {
      "cell_type": "code",
      "source": [
        "### acqFunc attribute x, stddev: run number = 6\n",
        "\n",
        "acqFuncgp_gp_6 = acqFuncExact(gp_6.history)\n",
        "acqFuncstp_stp_6 = acqFuncExact(stp_6.history)\n",
        "\n",
        "e6 = np.std(acqFuncstp_stp_6)\n",
        "a6 = np.std(acqFuncgp_gp_6)\n",
        "\n",
        "e6, a6\n"
      ],
      "metadata": {
        "colab": {
          "base_uri": "https://localhost:8080/"
        },
        "id": "COQl7LZ8GtE0",
        "outputId": "dad0bda4-f7a0-4e13-affe-8c251f7b58ce"
      },
      "execution_count": 105,
      "outputs": [
        {
          "output_type": "execute_result",
          "data": {
            "text/plain": [
              "(0.2784218169322125, 0.3548634201235403)"
            ]
          },
          "metadata": {},
          "execution_count": 105
        }
      ]
    },
    {
      "cell_type": "code",
      "source": [
        "### acqFunc attribute x, stddev: run number = 7\n",
        "\n",
        "acqFuncgp_gp_7 = acqFuncExact(gp_7.history)\n",
        "acqFuncstp_stp_7 = acqFuncExact(stp_7.history)\n",
        "\n",
        "e7 = np.std(acqFuncstp_stp_7)\n",
        "a7 = np.std(acqFuncgp_gp_7)\n",
        "\n",
        "e7, a7\n"
      ],
      "metadata": {
        "colab": {
          "base_uri": "https://localhost:8080/"
        },
        "id": "2gy9EtTzGtP7",
        "outputId": "69a0ae23-cd4a-431e-c442-9ff77f21e5c8"
      },
      "execution_count": 106,
      "outputs": [
        {
          "output_type": "execute_result",
          "data": {
            "text/plain": [
              "(0.2469381586607452, 0.34275341405141424)"
            ]
          },
          "metadata": {},
          "execution_count": 106
        }
      ]
    },
    {
      "cell_type": "code",
      "source": [
        "### acqFunc attribute x, stddev: run number = 8\n",
        "\n",
        "acqFuncgp_gp_8 = acqFuncExact(gp_8.history)\n",
        "acqFuncstp_stp_8 = acqFuncExact(stp_8.history)\n",
        "\n",
        "e8 = np.std(acqFuncstp_stp_8)\n",
        "a8 = np.std(acqFuncgp_gp_8)\n",
        "\n",
        "e8, a8\n"
      ],
      "metadata": {
        "colab": {
          "base_uri": "https://localhost:8080/"
        },
        "id": "S7mn0qoMGtbM",
        "outputId": "b0100392-a4bf-4565-ee4e-60ac07b89c11"
      },
      "execution_count": 107,
      "outputs": [
        {
          "output_type": "execute_result",
          "data": {
            "text/plain": [
              "(0.29169865480415275, 0.22062878282267226)"
            ]
          },
          "metadata": {},
          "execution_count": 107
        }
      ]
    },
    {
      "cell_type": "code",
      "source": [
        "### acqFunc attribute x, stddev: run number = 9\n",
        "\n",
        "acqFuncgp_gp_9 = acqFuncExact(gp_9.history)\n",
        "acqFuncstp_stp_9 = acqFuncExact(stp_9.history)\n",
        "\n",
        "e9 = np.std(acqFuncstp_stp_9)\n",
        "a9 = np.std(acqFuncgp_gp_9)\n",
        "\n",
        "e9, a9\n"
      ],
      "metadata": {
        "colab": {
          "base_uri": "https://localhost:8080/"
        },
        "id": "BhljmkNxGtms",
        "outputId": "6292d686-6d23-4e34-e1be-01f3d4f8cbc6"
      },
      "execution_count": 108,
      "outputs": [
        {
          "output_type": "execute_result",
          "data": {
            "text/plain": [
              "(0.264039204513311, 0.2997347589134226)"
            ]
          },
          "metadata": {},
          "execution_count": 108
        }
      ]
    },
    {
      "cell_type": "code",
      "source": [
        "### acqFunc attribute x, stddev: run number = 10\n",
        "\n",
        "acqFuncgp_gp_10 = acqFuncExact(gp_10.history)\n",
        "acqFuncstp_stp_10 = acqFuncExact(stp_10.history)\n",
        "\n",
        "e10 = np.std(acqFuncstp_stp_10)\n",
        "a10 = np.std(acqFuncgp_gp_10)\n",
        "\n",
        "e10, a10\n"
      ],
      "metadata": {
        "colab": {
          "base_uri": "https://localhost:8080/"
        },
        "id": "W5GZo6k3Gtx8",
        "outputId": "a87d5c2e-704e-4621-9aa3-5d72e2188c43"
      },
      "execution_count": 109,
      "outputs": [
        {
          "output_type": "execute_result",
          "data": {
            "text/plain": [
              "(0.2666571419246182, 0.29252725795436973)"
            ]
          },
          "metadata": {},
          "execution_count": 109
        }
      ]
    },
    {
      "cell_type": "code",
      "source": [
        "### acqFunc attribute x, stddev: run number = 11\n",
        "\n",
        "acqFuncgp_gp_11 = acqFuncExact(gp_11.history)\n",
        "acqFuncstp_stp_11 = acqFuncExact(stp_11.history)\n",
        "\n",
        "e11 = np.std(acqFuncstp_stp_11)\n",
        "a11 = np.std(acqFuncgp_gp_11)\n",
        "\n",
        "e11, a11\n"
      ],
      "metadata": {
        "colab": {
          "base_uri": "https://localhost:8080/"
        },
        "id": "isKNhDk5Gt9D",
        "outputId": "21dbac13-af83-4fed-c3ec-b830d282a84d"
      },
      "execution_count": 110,
      "outputs": [
        {
          "output_type": "execute_result",
          "data": {
            "text/plain": [
              "(0.32615602391232407, 0.23446115453502128)"
            ]
          },
          "metadata": {},
          "execution_count": 110
        }
      ]
    },
    {
      "cell_type": "code",
      "source": [
        "### acqFunc attribute x, stddev: run number = 12\n",
        "\n",
        "acqFuncgp_gp_12 = acqFuncExact(gp_12.history)\n",
        "acqFuncstp_stp_12 = acqFuncExact(stp_12.history)\n",
        "\n",
        "e12 = np.std(acqFuncstp_stp_12)\n",
        "a12 = np.std(acqFuncgp_gp_12)\n",
        "\n",
        "e12, a12\n"
      ],
      "metadata": {
        "colab": {
          "base_uri": "https://localhost:8080/"
        },
        "id": "8ts-wrSuGuIm",
        "outputId": "506f56af-246b-4e08-e815-83b750fb82b6"
      },
      "execution_count": 111,
      "outputs": [
        {
          "output_type": "execute_result",
          "data": {
            "text/plain": [
              "(0.32507459972986225, 0.29805865447461577)"
            ]
          },
          "metadata": {},
          "execution_count": 111
        }
      ]
    },
    {
      "cell_type": "code",
      "source": [
        "### acqFunc attribute x, stddev: run number = 13\n",
        "\n",
        "acqFuncgp_gp_13 = acqFuncExact(gp_13.history)\n",
        "acqFuncstp_stp_13 = acqFuncExact(stp_13.history)\n",
        "\n",
        "e13 = np.std(acqFuncstp_stp_13)\n",
        "a13 = np.std(acqFuncgp_gp_13)\n",
        "\n",
        "e13, a13\n"
      ],
      "metadata": {
        "colab": {
          "base_uri": "https://localhost:8080/"
        },
        "id": "n0drhEe3GuUL",
        "outputId": "96ecd852-d29f-4ab8-8b41-cf962f0feb8f"
      },
      "execution_count": 112,
      "outputs": [
        {
          "output_type": "execute_result",
          "data": {
            "text/plain": [
              "(0.3545668614144285, 0.2986780294269379)"
            ]
          },
          "metadata": {},
          "execution_count": 112
        }
      ]
    },
    {
      "cell_type": "code",
      "source": [
        "### acqFunc attribute x, stddev: run number = 14\n",
        "\n",
        "acqFuncgp_gp_14 = acqFuncExact(gp_14.history)\n",
        "acqFuncstp_stp_14 = acqFuncExact(stp_14.history)\n",
        "\n",
        "e14 = np.std(acqFuncstp_stp_14)\n",
        "a14 = np.std(acqFuncgp_gp_14)\n",
        "\n",
        "e14, a14\n"
      ],
      "metadata": {
        "colab": {
          "base_uri": "https://localhost:8080/"
        },
        "id": "R0W3MZaVGues",
        "outputId": "8e14421a-87b8-4414-e658-e4cf6d8ab285"
      },
      "execution_count": 113,
      "outputs": [
        {
          "output_type": "execute_result",
          "data": {
            "text/plain": [
              "(0.23731909230412956, 0.3931223680578414)"
            ]
          },
          "metadata": {},
          "execution_count": 113
        }
      ]
    },
    {
      "cell_type": "code",
      "source": [
        "### acqFunc attribute x, stddev: run number = 15\n",
        "\n",
        "acqFuncgp_gp_15 = acqFuncExact(gp_15.history)\n",
        "acqFuncstp_stp_15 = acqFuncExact(stp_15.history)\n",
        "\n",
        "e15 = np.std(acqFuncstp_stp_15)\n",
        "a15 = np.std(acqFuncgp_gp_15)\n",
        "\n",
        "e15, a15\n"
      ],
      "metadata": {
        "colab": {
          "base_uri": "https://localhost:8080/"
        },
        "id": "DoXdDFHoGup-",
        "outputId": "b567e65f-a54f-4d32-a8d4-c7434cbd789c"
      },
      "execution_count": 114,
      "outputs": [
        {
          "output_type": "execute_result",
          "data": {
            "text/plain": [
              "(0.4202098994671563, 0.38500789055511575)"
            ]
          },
          "metadata": {},
          "execution_count": 114
        }
      ]
    },
    {
      "cell_type": "code",
      "source": [
        "### acqFunc attribute x, stddev: run number = 16\n",
        "\n",
        "acqFuncgp_gp_16 = acqFuncExact(gp_16.history)\n",
        "acqFuncstp_stp_16 = acqFuncExact(stp_16.history)\n",
        "\n",
        "e16 = np.std(acqFuncstp_stp_16)\n",
        "a16 = np.std(acqFuncgp_gp_16)\n",
        "\n",
        "e16, a16\n"
      ],
      "metadata": {
        "colab": {
          "base_uri": "https://localhost:8080/"
        },
        "id": "K_wAeqSoGu2j",
        "outputId": "ba5ab875-4035-4560-d8e0-baa4557093f1"
      },
      "execution_count": 115,
      "outputs": [
        {
          "output_type": "execute_result",
          "data": {
            "text/plain": [
              "(0.4526753973244267, 0.3481525472772838)"
            ]
          },
          "metadata": {},
          "execution_count": 115
        }
      ]
    },
    {
      "cell_type": "code",
      "source": [
        "### acqFunc attribute x, stddev: run number = 17\n",
        "\n",
        "acqFuncgp_gp_17 = acqFuncExact(gp_17.history)\n",
        "acqFuncstp_stp_17 = acqFuncExact(stp_17.history)\n",
        "\n",
        "e17 = np.std(acqFuncstp_stp_17)\n",
        "a17 = np.std(acqFuncgp_gp_17)\n",
        "\n",
        "e17, a17\n"
      ],
      "metadata": {
        "colab": {
          "base_uri": "https://localhost:8080/"
        },
        "id": "n6zy78fjGvBT",
        "outputId": "68e32287-f40e-4f23-a627-eb2f93107379"
      },
      "execution_count": 116,
      "outputs": [
        {
          "output_type": "execute_result",
          "data": {
            "text/plain": [
              "(0.3044466330582513, 0.32423476558409836)"
            ]
          },
          "metadata": {},
          "execution_count": 116
        }
      ]
    },
    {
      "cell_type": "code",
      "source": [
        "### acqFunc attribute x, stddev: run number = 18\n",
        "\n",
        "acqFuncgp_gp_18 = acqFuncExact(gp_18.history)\n",
        "acqFuncstp_stp_18 = acqFuncExact(stp_18.history)\n",
        "\n",
        "e18 = np.std(acqFuncstp_stp_18)\n",
        "a18 = np.std(acqFuncgp_gp_18)\n",
        "\n",
        "e18, a18\n"
      ],
      "metadata": {
        "colab": {
          "base_uri": "https://localhost:8080/"
        },
        "id": "s_6_2K4iGvM-",
        "outputId": "cabc82ec-41be-4803-99dc-e03aa765b29a"
      },
      "execution_count": 117,
      "outputs": [
        {
          "output_type": "execute_result",
          "data": {
            "text/plain": [
              "(0.28134623629482464, 0.22409279826182466)"
            ]
          },
          "metadata": {},
          "execution_count": 117
        }
      ]
    },
    {
      "cell_type": "code",
      "source": [
        "### acqFunc attribute x, stddev: run number = 19\n",
        "\n",
        "acqFuncgp_gp_19 = acqFuncExact(gp_19.history)\n",
        "acqFuncstp_stp_19 = acqFuncExact(stp_19.history)\n",
        "\n",
        "e19 = np.std(acqFuncstp_stp_19)\n",
        "a19 = np.std(acqFuncgp_gp_19)\n",
        "\n",
        "e19, a19\n"
      ],
      "metadata": {
        "colab": {
          "base_uri": "https://localhost:8080/"
        },
        "id": "o8oO8pdBGvYk",
        "outputId": "000cc262-4ef3-4367-df76-807b9f81d080"
      },
      "execution_count": 118,
      "outputs": [
        {
          "output_type": "execute_result",
          "data": {
            "text/plain": [
              "(0.39354918665147665, 0.40063141562403)"
            ]
          },
          "metadata": {},
          "execution_count": 118
        }
      ]
    },
    {
      "cell_type": "code",
      "source": [
        "### acqFunc attribute x, stddev: run number = 20\n",
        "\n",
        "acqFuncgp_gp_20 = acqFuncExact(gp_20.history)\n",
        "acqFuncstp_stp_20 = acqFuncExact(stp_20.history)\n",
        "\n",
        "e20 = np.std(acqFuncstp_stp_20)\n",
        "a20 = np.std(acqFuncgp_gp_20)\n",
        "\n",
        "e20, a20\n"
      ],
      "metadata": {
        "colab": {
          "base_uri": "https://localhost:8080/"
        },
        "id": "b2w8oLc0IMzU",
        "outputId": "192a109a-23bd-4ca4-a6ae-13317ea21cb9"
      },
      "execution_count": 119,
      "outputs": [
        {
          "output_type": "execute_result",
          "data": {
            "text/plain": [
              "(0.35881352407773764, 0.284295636138283)"
            ]
          },
          "metadata": {},
          "execution_count": 119
        }
      ]
    },
    {
      "cell_type": "code",
      "source": [
        "### Summarize arrays: \n",
        "\n",
        "stp_stddev = np.sort([e1,e2,e3,e4,e5,e6,e7,e8,e9,e10,e11,e12,e13,e14,e15,e16,e17,e18,e19,e20])\n",
        "gp_stddev = np.sort([a1,a2,a3,a4,a5,a6,a7,a8,a9,a10,a11,a12,a13,a14,a15,a16,a17,a18,a19,a20])\n",
        "\n",
        "np.mean(stp_stddev), np.mean(gp_stddev)\n"
      ],
      "metadata": {
        "colab": {
          "base_uri": "https://localhost:8080/"
        },
        "id": "qAZs3yxMIZul",
        "outputId": "7dc96013-4df1-4cdc-fa1a-bb2879b43f0b"
      },
      "execution_count": 120,
      "outputs": [
        {
          "output_type": "execute_result",
          "data": {
            "text/plain": [
              "(0.32067915787189233, 0.32391587944606653)"
            ]
          },
          "metadata": {},
          "execution_count": 120
        }
      ]
    },
    {
      "cell_type": "code",
      "source": [
        "### Visualise!\n",
        "\n",
        "title = func\n",
        "plt.figure()\n",
        "\n",
        "plt.plot(gp_stddev, color = 'Red', ls='-.', label='Average $\\sigma$, attribute $\\mathbf{x}$: Exact GP dEI gradients')\n",
        "plt.plot(stp_stddev, color = 'Red', ls='-', label='Average $\\sigma$, attribute $\\mathbf{x}$: Exact STP dEI gradients')\n",
        "\n",
        "plt.title(title, weight = 'bold')\n",
        "plt.xlabel('Function evaluations: iteration $\\it{k}$', weight = 'bold')\n",
        "plt.ylabel('GP EI, STP EI: Average $\\sigma$, attribute $\\mathbf{x}$', weight = 'bold') \n",
        "plt.legend(loc=0) # add plot legend\n",
        "\n",
        "### Make the x-ticks integers, not floats:\n",
        "count = len(xstar)\n",
        "plt.xticks(np.arange(count), np.arange(1, count))\n",
        "plt.show() #visualize!\n"
      ],
      "metadata": {
        "colab": {
          "base_uri": "https://localhost:8080/",
          "height": 297
        },
        "id": "e_kpqYcMIZxu",
        "outputId": "13a16717-31b3-4fd5-d888-876d406f3fd2"
      },
      "execution_count": 121,
      "outputs": [
        {
          "output_type": "display_data",
          "data": {
            "text/plain": [
              "<Figure size 432x288 with 1 Axes>"
            ],
            "image/png": "[encoded data removed]"
          },
          "metadata": {
            "needs_background": "light"
          }
        }
      ]
    },
    {
      "cell_type": "code",
      "source": [],
      "metadata": {
        "id": "LToGd4vZIZ3I"
      },
      "execution_count": 121,
      "outputs": []
    }
  ],
  "metadata": {
    "colab": {
      "collapsed_sections": [],
      "provenance": []
    },
    "kernelspec": {
      "display_name": "Python 3",
      "name": "python3"
    },
    "language_info": {
      "name": "python"
    }
  },
  "nbformat": 4,
  "nbformat_minor": 0
}