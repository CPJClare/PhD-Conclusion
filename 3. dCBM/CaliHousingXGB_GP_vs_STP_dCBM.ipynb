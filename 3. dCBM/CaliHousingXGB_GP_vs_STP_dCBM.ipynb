{
  "nbformat": 4,
  "nbformat_minor": 0,
  "metadata": {
    "colab": {
      "provenance": [],
      "collapsed_sections": []
    },
    "kernelspec": {
      "name": "python3",
      "display_name": "Python 3"
    }
  },
  "cells": [
    {
      "cell_type": "markdown",
      "metadata": {
        "id": "W9wHutsqZUcn"
      },
      "source": [
        "XGBoost Regression - 'real-world' example: Californian Housing Dataset\n",
        "\n",
        "https://scikit-learn.org/stable/datasets/real_world.html#california-housing-dataset"
      ]
    },
    {
      "cell_type": "code",
      "metadata": {
        "id": "X-0Pe1i4Z2R_",
        "colab": {
          "base_uri": "https://localhost:8080/"
        },
        "outputId": "8aefc0c4-338b-47bd-cab8-97c2d80f8ddd"
      },
      "source": [
        "!pip install pyGPGO"
      ],
      "execution_count": null,
      "outputs": [
        {
          "output_type": "stream",
          "name": "stdout",
          "text": [
            "Looking in indexes: https://pypi.org/simple, https://us-python.pkg.dev/colab-wheels/public/simple/\n",
            "Requirement already satisfied: pyGPGO in /usr/local/lib/python3.7/dist-packages (0.5.1)\n",
            "Requirement already satisfied: joblib in /usr/local/lib/python3.7/dist-packages (from pyGPGO) (1.1.0)\n",
            "Requirement already satisfied: mkl in /usr/local/lib/python3.7/dist-packages (from pyGPGO) (2019.0)\n",
            "Requirement already satisfied: pyMC3 in /usr/local/lib/python3.7/dist-packages (from pyGPGO) (3.11.5)\n",
            "Requirement already satisfied: numpy in /usr/local/lib/python3.7/dist-packages (from pyGPGO) (1.21.6)\n",
            "Requirement already satisfied: scikit-learn in /usr/local/lib/python3.7/dist-packages (from pyGPGO) (1.0.2)\n",
            "Requirement already satisfied: scipy in /usr/local/lib/python3.7/dist-packages (from pyGPGO) (1.7.3)\n",
            "Requirement already satisfied: Theano-PyMC in /usr/local/lib/python3.7/dist-packages (from pyGPGO) (1.1.2)\n",
            "Requirement already satisfied: intel-openmp in /usr/local/lib/python3.7/dist-packages (from mkl->pyGPGO) (2022.1.0)\n",
            "Requirement already satisfied: fastprogress>=0.2.0 in /usr/local/lib/python3.7/dist-packages (from pyMC3->pyGPGO) (1.0.3)\n",
            "Requirement already satisfied: deprecat in /usr/local/lib/python3.7/dist-packages (from pyMC3->pyGPGO) (2.1.1)\n",
            "Requirement already satisfied: pandas>=0.24.0 in /usr/local/lib/python3.7/dist-packages (from pyMC3->pyGPGO) (1.3.5)\n",
            "Requirement already satisfied: semver>=2.13.0 in /usr/local/lib/python3.7/dist-packages (from pyMC3->pyGPGO) (2.13.0)\n",
            "Requirement already satisfied: dill in /usr/local/lib/python3.7/dist-packages (from pyMC3->pyGPGO) (0.3.5.1)\n",
            "Requirement already satisfied: arviz>=0.11.0 in /usr/local/lib/python3.7/dist-packages (from pyMC3->pyGPGO) (0.12.1)\n",
            "Requirement already satisfied: patsy>=0.5.1 in /usr/local/lib/python3.7/dist-packages (from pyMC3->pyGPGO) (0.5.2)\n",
            "Requirement already satisfied: cachetools>=4.2.1 in /usr/local/lib/python3.7/dist-packages (from pyMC3->pyGPGO) (4.2.4)\n",
            "Requirement already satisfied: typing-extensions>=3.7.4 in /usr/local/lib/python3.7/dist-packages (from pyMC3->pyGPGO) (4.1.1)\n",
            "Requirement already satisfied: filelock in /usr/local/lib/python3.7/dist-packages (from Theano-PyMC->pyGPGO) (3.8.0)\n",
            "Requirement already satisfied: setuptools>=38.4 in /usr/local/lib/python3.7/dist-packages (from arviz>=0.11.0->pyMC3->pyGPGO) (57.4.0)\n",
            "Requirement already satisfied: xarray>=0.16.1 in /usr/local/lib/python3.7/dist-packages (from arviz>=0.11.0->pyMC3->pyGPGO) (0.20.2)\n",
            "Requirement already satisfied: packaging in /usr/local/lib/python3.7/dist-packages (from arviz>=0.11.0->pyMC3->pyGPGO) (21.3)\n",
            "Requirement already satisfied: xarray-einstats>=0.2 in /usr/local/lib/python3.7/dist-packages (from arviz>=0.11.0->pyMC3->pyGPGO) (0.2.2)\n",
            "Requirement already satisfied: matplotlib>=3.0 in /usr/local/lib/python3.7/dist-packages (from arviz>=0.11.0->pyMC3->pyGPGO) (3.2.2)\n",
            "Requirement already satisfied: netcdf4 in /usr/local/lib/python3.7/dist-packages (from arviz>=0.11.0->pyMC3->pyGPGO) (1.6.0)\n",
            "Requirement already satisfied: cycler>=0.10 in /usr/local/lib/python3.7/dist-packages (from matplotlib>=3.0->arviz>=0.11.0->pyMC3->pyGPGO) (0.11.0)\n",
            "Requirement already satisfied: kiwisolver>=1.0.1 in /usr/local/lib/python3.7/dist-packages (from matplotlib>=3.0->arviz>=0.11.0->pyMC3->pyGPGO) (1.4.4)\n",
            "Requirement already satisfied: pyparsing!=2.0.4,!=2.1.2,!=2.1.6,>=2.0.1 in /usr/local/lib/python3.7/dist-packages (from matplotlib>=3.0->arviz>=0.11.0->pyMC3->pyGPGO) (3.0.9)\n",
            "Requirement already satisfied: python-dateutil>=2.1 in /usr/local/lib/python3.7/dist-packages (from matplotlib>=3.0->arviz>=0.11.0->pyMC3->pyGPGO) (2.8.2)\n",
            "Requirement already satisfied: pytz>=2017.3 in /usr/local/lib/python3.7/dist-packages (from pandas>=0.24.0->pyMC3->pyGPGO) (2022.2.1)\n",
            "Requirement already satisfied: six in /usr/local/lib/python3.7/dist-packages (from patsy>=0.5.1->pyMC3->pyGPGO) (1.15.0)\n",
            "Requirement already satisfied: importlib-metadata in /usr/local/lib/python3.7/dist-packages (from xarray>=0.16.1->arviz>=0.11.0->pyMC3->pyGPGO) (4.12.0)\n",
            "Requirement already satisfied: wrapt<2,>=1.10 in /usr/local/lib/python3.7/dist-packages (from deprecat->pyMC3->pyGPGO) (1.14.1)\n",
            "Requirement already satisfied: zipp>=0.5 in /usr/local/lib/python3.7/dist-packages (from importlib-metadata->xarray>=0.16.1->arviz>=0.11.0->pyMC3->pyGPGO) (3.8.1)\n",
            "Requirement already satisfied: cftime in /usr/local/lib/python3.7/dist-packages (from netcdf4->arviz>=0.11.0->pyMC3->pyGPGO) (1.6.1)\n",
            "Requirement already satisfied: threadpoolctl>=2.0.0 in /usr/local/lib/python3.7/dist-packages (from scikit-learn->pyGPGO) (3.1.0)\n"
          ]
        }
      ]
    },
    {
      "cell_type": "code",
      "metadata": {
        "id": "W7zDTf1naBsH"
      },
      "source": [
        "# Load some default Python modules:\n",
        "\n",
        "import numpy as np\n",
        "import scipy as sp\n",
        "import pandas as pd\n",
        "import matplotlib.pyplot as plt\n",
        "import xgboost as xgb\n",
        "import time\n",
        "\n",
        "from matplotlib.pyplot import rc\n",
        "rc('font',**{'family':'sans-serif','sans-serif':['Helvetica']})\n",
        "rc('text', usetex=False)\n",
        "import seaborn as sns\n",
        "plt.style.use('seaborn-whitegrid')\n",
        "\n",
        "from collections import OrderedDict\n",
        "from joblib import Parallel, delayed\n",
        "from numpy.linalg import slogdet, inv, cholesky, solve\n",
        "from scipy.optimize import minimize\n",
        "from scipy.spatial.distance import cdist\n",
        "from scipy.special import gamma\n",
        "from scipy.stats import norm, t\n",
        "from joblib import Parallel, delayed\n",
        "import itertools\n",
        "\n",
        "from pyGPGO.logger import EventLogger\n",
        "from pyGPGO.GPGO import GPGO\n",
        "from pyGPGO.surrogates.GaussianProcess import GaussianProcess\n",
        "from pyGPGO.surrogates.tStudentProcess import tStudentProcess\n",
        "from pyGPGO.acquisition import Acquisition\n",
        "from pyGPGO.covfunc import squaredExponential\n",
        "from sklearn.model_selection import cross_val_score, train_test_split\n",
        "from sklearn.metrics import mean_squared_error\n",
        "from xgboost import XGBRegressor\n",
        "from pandas_datareader import data\n",
        "\n",
        "import warnings\n",
        "import random\n",
        "warnings.filterwarnings(\"ignore\", category=FutureWarning)\n",
        "warnings.filterwarnings(\"ignore\", category=RuntimeWarning)\n",
        "warnings.filterwarnings(\"ignore\", category=UserWarning)"
      ],
      "execution_count": null,
      "outputs": []
    },
    {
      "cell_type": "code",
      "metadata": {
        "id": "VXicekJhaE0P"
      },
      "source": [
        "# Read data in pandas dataframe:\n",
        "df_train =  pd.read_csv('/content/sample_data/california_housing_train.csv')\n"
      ],
      "execution_count": null,
      "outputs": []
    },
    {
      "cell_type": "code",
      "metadata": {
        "id": "YQ0mDzt_cBmw",
        "colab": {
          "base_uri": "https://localhost:8080/",
          "height": 270
        },
        "outputId": "8664cb19-21fc-493d-d468-cebc4f1522c7"
      },
      "source": [
        "# List first rows:\n",
        "\n",
        "df_train.head()"
      ],
      "execution_count": null,
      "outputs": [
        {
          "output_type": "execute_result",
          "data": {
            "text/plain": [
              "   longitude  latitude  housing_median_age  total_rooms  total_bedrooms  \\\n",
              "0    -114.31     34.19                15.0       5612.0          1283.0   \n",
              "1    -114.47     34.40                19.0       7650.0          1901.0   \n",
              "2    -114.56     33.69                17.0        720.0           174.0   \n",
              "3    -114.57     33.64                14.0       1501.0           337.0   \n",
              "4    -114.57     33.57                20.0       1454.0           326.0   \n",
              "\n",
              "   population  households  median_income  median_house_value  \n",
              "0      1015.0       472.0         1.4936             66900.0  \n",
              "1      1129.0       463.0         1.8200             80100.0  \n",
              "2       333.0       117.0         1.6509             85700.0  \n",
              "3       515.0       226.0         3.1917             73400.0  \n",
              "4       624.0       262.0         1.9250             65500.0  "
            ],
            "text/html": [
              "\n",
              "  <div id=\"df-44cfc9aa-fb47-4b7f-bdd1-9b9a9a60a8ac\">\n",
              "    <div class=\"colab-df-container\">\n",
              "      <div>\n",
              "<style scoped>\n",
              "    .dataframe tbody tr th:only-of-type {\n",
              "        vertical-align: middle;\n",
              "    }\n",
              "\n",
              "    .dataframe tbody tr th {\n",
              "        vertical-align: top;\n",
              "    }\n",
              "\n",
              "    .dataframe thead th {\n",
              "        text-align: right;\n",
              "    }\n",
              "</style>\n",
              "<table border=\"1\" class=\"dataframe\">\n",
              "  <thead>\n",
              "    <tr style=\"text-align: right;\">\n",
              "      <th></th>\n",
              "      <th>longitude</th>\n",
              "      <th>latitude</th>\n",
              "      <th>housing_median_age</th>\n",
              "      <th>total_rooms</th>\n",
              "      <th>total_bedrooms</th>\n",
              "      <th>population</th>\n",
              "      <th>households</th>\n",
              "      <th>median_income</th>\n",
              "      <th>median_house_value</th>\n",
              "    </tr>\n",
              "  </thead>\n",
              "  <tbody>\n",
              "    <tr>\n",
              "      <th>0</th>\n",
              "      <td>-114.31</td>\n",
              "      <td>34.19</td>\n",
              "      <td>15.0</td>\n",
              "      <td>5612.0</td>\n",
              "      <td>1283.0</td>\n",
              "      <td>1015.0</td>\n",
              "      <td>472.0</td>\n",
              "      <td>1.4936</td>\n",
              "      <td>66900.0</td>\n",
              "    </tr>\n",
              "    <tr>\n",
              "      <th>1</th>\n",
              "      <td>-114.47</td>\n",
              "      <td>34.40</td>\n",
              "      <td>19.0</td>\n",
              "      <td>7650.0</td>\n",
              "      <td>1901.0</td>\n",
              "      <td>1129.0</td>\n",
              "      <td>463.0</td>\n",
              "      <td>1.8200</td>\n",
              "      <td>80100.0</td>\n",
              "    </tr>\n",
              "    <tr>\n",
              "      <th>2</th>\n",
              "      <td>-114.56</td>\n",
              "      <td>33.69</td>\n",
              "      <td>17.0</td>\n",
              "      <td>720.0</td>\n",
              "      <td>174.0</td>\n",
              "      <td>333.0</td>\n",
              "      <td>117.0</td>\n",
              "      <td>1.6509</td>\n",
              "      <td>85700.0</td>\n",
              "    </tr>\n",
              "    <tr>\n",
              "      <th>3</th>\n",
              "      <td>-114.57</td>\n",
              "      <td>33.64</td>\n",
              "      <td>14.0</td>\n",
              "      <td>1501.0</td>\n",
              "      <td>337.0</td>\n",
              "      <td>515.0</td>\n",
              "      <td>226.0</td>\n",
              "      <td>3.1917</td>\n",
              "      <td>73400.0</td>\n",
              "    </tr>\n",
              "    <tr>\n",
              "      <th>4</th>\n",
              "      <td>-114.57</td>\n",
              "      <td>33.57</td>\n",
              "      <td>20.0</td>\n",
              "      <td>1454.0</td>\n",
              "      <td>326.0</td>\n",
              "      <td>624.0</td>\n",
              "      <td>262.0</td>\n",
              "      <td>1.9250</td>\n",
              "      <td>65500.0</td>\n",
              "    </tr>\n",
              "  </tbody>\n",
              "</table>\n",
              "</div>\n",
              "      <button class=\"colab-df-convert\" onclick=\"convertToInteractive('df-44cfc9aa-fb47-4b7f-bdd1-9b9a9a60a8ac')\"\n",
              "              title=\"Convert this dataframe to an interactive table.\"\n",
              "              style=\"display:none;\">\n",
              "        \n",
              "  <svg xmlns=\"http://www.w3.org/2000/svg\" height=\"24px\"viewBox=\"0 0 24 24\"\n",
              "       width=\"24px\">\n",
              "    <path d=\"M0 0h24v24H0V0z\" fill=\"none\"/>\n",
              "    <path d=\"M18.56 5.44l.94 2.06.94-2.06 2.06-.94-2.06-.94-.94-2.06-.94 2.06-2.06.94zm-11 1L8.5 8.5l.94-2.06 2.06-.94-2.06-.94L8.5 2.5l-.94 2.06-2.06.94zm10 10l.94 2.06.94-2.06 2.06-.94-2.06-.94-.94-2.06-.94 2.06-2.06.94z\"/><path d=\"M17.41 7.96l-1.37-1.37c-.4-.4-.92-.59-1.43-.59-.52 0-1.04.2-1.43.59L10.3 9.45l-7.72 7.72c-.78.78-.78 2.05 0 2.83L4 21.41c.39.39.9.59 1.41.59.51 0 1.02-.2 1.41-.59l7.78-7.78 2.81-2.81c.8-.78.8-2.07 0-2.86zM5.41 20L4 18.59l7.72-7.72 1.47 1.35L5.41 20z\"/>\n",
              "  </svg>\n",
              "      </button>\n",
              "      \n",
              "  <style>\n",
              "    .colab-df-container {\n",
              "      display:flex;\n",
              "      flex-wrap:wrap;\n",
              "      gap: 12px;\n",
              "    }\n",
              "\n",
              "    .colab-df-convert {\n",
              "      background-color: #E8F0FE;\n",
              "      border: none;\n",
              "      border-radius: 50%;\n",
              "      cursor: pointer;\n",
              "      display: none;\n",
              "      fill: #1967D2;\n",
              "      height: 32px;\n",
              "      padding: 0 0 0 0;\n",
              "      width: 32px;\n",
              "    }\n",
              "\n",
              "    .colab-df-convert:hover {\n",
              "      background-color: #E2EBFA;\n",
              "      box-shadow: 0px 1px 2px rgba(60, 64, 67, 0.3), 0px 1px 3px 1px rgba(60, 64, 67, 0.15);\n",
              "      fill: #174EA6;\n",
              "    }\n",
              "\n",
              "    [theme=dark] .colab-df-convert {\n",
              "      background-color: #3B4455;\n",
              "      fill: #D2E3FC;\n",
              "    }\n",
              "\n",
              "    [theme=dark] .colab-df-convert:hover {\n",
              "      background-color: #434B5C;\n",
              "      box-shadow: 0px 1px 3px 1px rgba(0, 0, 0, 0.15);\n",
              "      filter: drop-shadow(0px 1px 2px rgba(0, 0, 0, 0.3));\n",
              "      fill: #FFFFFF;\n",
              "    }\n",
              "  </style>\n",
              "\n",
              "      <script>\n",
              "        const buttonEl =\n",
              "          document.querySelector('#df-44cfc9aa-fb47-4b7f-bdd1-9b9a9a60a8ac button.colab-df-convert');\n",
              "        buttonEl.style.display =\n",
              "          google.colab.kernel.accessAllowed ? 'block' : 'none';\n",
              "\n",
              "        async function convertToInteractive(key) {\n",
              "          const element = document.querySelector('#df-44cfc9aa-fb47-4b7f-bdd1-9b9a9a60a8ac');\n",
              "          const dataTable =\n",
              "            await google.colab.kernel.invokeFunction('convertToInteractive',\n",
              "                                                     [key], {});\n",
              "          if (!dataTable) return;\n",
              "\n",
              "          const docLinkHtml = 'Like what you see? Visit the ' +\n",
              "            '<a target=\"_blank\" href=https://colab.research.google.com/notebooks/data_table.ipynb>data table notebook</a>'\n",
              "            + ' to learn more about interactive tables.';\n",
              "          element.innerHTML = '';\n",
              "          dataTable['output_type'] = 'display_data';\n",
              "          await google.colab.output.renderOutput(dataTable, element);\n",
              "          const docLink = document.createElement('div');\n",
              "          docLink.innerHTML = docLinkHtml;\n",
              "          element.appendChild(docLink);\n",
              "        }\n",
              "      </script>\n",
              "    </div>\n",
              "  </div>\n",
              "  "
            ]
          },
          "metadata": {},
          "execution_count": 4
        }
      ]
    },
    {
      "cell_type": "code",
      "metadata": {
        "id": "KTVDAD2KchTv",
        "colab": {
          "base_uri": "https://localhost:8080/"
        },
        "outputId": "b7903e26-d025-4722-cd04-8a033130bda2"
      },
      "source": [
        "# Remove missing data:\n",
        "\n",
        "df_train = df_train.dropna(how = 'any', axis = 'rows')\n",
        "print('New size: %d' % len(df_train))"
      ],
      "execution_count": null,
      "outputs": [
        {
          "output_type": "stream",
          "name": "stdout",
          "text": [
            "New size: 17000\n"
          ]
        }
      ]
    },
    {
      "cell_type": "code",
      "metadata": {
        "id": "OXgSHPyYcnuv",
        "colab": {
          "base_uri": "https://localhost:8080/",
          "height": 381
        },
        "outputId": "49515a18-d71f-4ebe-9c9a-4f3a1772c98f"
      },
      "source": [
        "# Histogram fare plot:\n",
        "\n",
        "df_train.median_house_value.hist(bins=100, figsize=(16,5), color = \"red\")\n",
        "plt.xlabel('$ US Dollars', weight = 'bold', family = 'Arial')\n",
        "plt.title('Median Californian House Price', weight = 'bold', family = 'Arial')\n",
        "plt.grid(b=None)"
      ],
      "execution_count": null,
      "outputs": [
        {
          "output_type": "stream",
          "name": "stderr",
          "text": [
            "WARNING:matplotlib.font_manager:findfont: Font family ['Arial'] not found. Falling back to DejaVu Sans.\n",
            "WARNING:matplotlib.font_manager:findfont: Font family ['Arial'] not found. Falling back to DejaVu Sans.\n"
          ]
        },
        {
          "output_type": "display_data",
          "data": {
            "text/plain": [
              "<Figure size 1152x360 with 1 Axes>"
            ],
            "image/png": "[encoded data removed]"
          },
          "metadata": {}
        }
      ]
    },
    {
      "cell_type": "code",
      "metadata": {
        "id": "9TMSdAAjcr4o",
        "colab": {
          "base_uri": "https://localhost:8080/"
        },
        "outputId": "778c8cc0-0568-4788-f2ce-b847a52786fd"
      },
      "source": [
        "y = df_train.median_house_value.values + 1e-10\n",
        "y ### for supervised learning: output vector y"
      ],
      "execution_count": null,
      "outputs": [
        {
          "output_type": "execute_result",
          "data": {
            "text/plain": [
              "array([ 66900.,  80100.,  85700., ..., 103600.,  85800.,  94600.])"
            ]
          },
          "metadata": {},
          "execution_count": 7
        }
      ]
    },
    {
      "cell_type": "code",
      "metadata": {
        "id": "6FOeHvi3cu1n",
        "colab": {
          "base_uri": "https://localhost:8080/",
          "height": 270
        },
        "outputId": "b8aca9d4-1716-4aeb-dd19-b561c1203bd3"
      },
      "source": [
        "# List first rows (post-cleaning):\n",
        "\n",
        "df_train.head()"
      ],
      "execution_count": null,
      "outputs": [
        {
          "output_type": "execute_result",
          "data": {
            "text/plain": [
              "   longitude  latitude  housing_median_age  total_rooms  total_bedrooms  \\\n",
              "0    -114.31     34.19                15.0       5612.0          1283.0   \n",
              "1    -114.47     34.40                19.0       7650.0          1901.0   \n",
              "2    -114.56     33.69                17.0        720.0           174.0   \n",
              "3    -114.57     33.64                14.0       1501.0           337.0   \n",
              "4    -114.57     33.57                20.0       1454.0           326.0   \n",
              "\n",
              "   population  households  median_income  median_house_value  \n",
              "0      1015.0       472.0         1.4936             66900.0  \n",
              "1      1129.0       463.0         1.8200             80100.0  \n",
              "2       333.0       117.0         1.6509             85700.0  \n",
              "3       515.0       226.0         3.1917             73400.0  \n",
              "4       624.0       262.0         1.9250             65500.0  "
            ],
            "text/html": [
              "\n",
              "  <div id=\"df-fa793455-0d0d-4877-b02a-78271c9291d5\">\n",
              "    <div class=\"colab-df-container\">\n",
              "      <div>\n",
              "<style scoped>\n",
              "    .dataframe tbody tr th:only-of-type {\n",
              "        vertical-align: middle;\n",
              "    }\n",
              "\n",
              "    .dataframe tbody tr th {\n",
              "        vertical-align: top;\n",
              "    }\n",
              "\n",
              "    .dataframe thead th {\n",
              "        text-align: right;\n",
              "    }\n",
              "</style>\n",
              "<table border=\"1\" class=\"dataframe\">\n",
              "  <thead>\n",
              "    <tr style=\"text-align: right;\">\n",
              "      <th></th>\n",
              "      <th>longitude</th>\n",
              "      <th>latitude</th>\n",
              "      <th>housing_median_age</th>\n",
              "      <th>total_rooms</th>\n",
              "      <th>total_bedrooms</th>\n",
              "      <th>population</th>\n",
              "      <th>households</th>\n",
              "      <th>median_income</th>\n",
              "      <th>median_house_value</th>\n",
              "    </tr>\n",
              "  </thead>\n",
              "  <tbody>\n",
              "    <tr>\n",
              "      <th>0</th>\n",
              "      <td>-114.31</td>\n",
              "      <td>34.19</td>\n",
              "      <td>15.0</td>\n",
              "      <td>5612.0</td>\n",
              "      <td>1283.0</td>\n",
              "      <td>1015.0</td>\n",
              "      <td>472.0</td>\n",
              "      <td>1.4936</td>\n",
              "      <td>66900.0</td>\n",
              "    </tr>\n",
              "    <tr>\n",
              "      <th>1</th>\n",
              "      <td>-114.47</td>\n",
              "      <td>34.40</td>\n",
              "      <td>19.0</td>\n",
              "      <td>7650.0</td>\n",
              "      <td>1901.0</td>\n",
              "      <td>1129.0</td>\n",
              "      <td>463.0</td>\n",
              "      <td>1.8200</td>\n",
              "      <td>80100.0</td>\n",
              "    </tr>\n",
              "    <tr>\n",
              "      <th>2</th>\n",
              "      <td>-114.56</td>\n",
              "      <td>33.69</td>\n",
              "      <td>17.0</td>\n",
              "      <td>720.0</td>\n",
              "      <td>174.0</td>\n",
              "      <td>333.0</td>\n",
              "      <td>117.0</td>\n",
              "      <td>1.6509</td>\n",
              "      <td>85700.0</td>\n",
              "    </tr>\n",
              "    <tr>\n",
              "      <th>3</th>\n",
              "      <td>-114.57</td>\n",
              "      <td>33.64</td>\n",
              "      <td>14.0</td>\n",
              "      <td>1501.0</td>\n",
              "      <td>337.0</td>\n",
              "      <td>515.0</td>\n",
              "      <td>226.0</td>\n",
              "      <td>3.1917</td>\n",
              "      <td>73400.0</td>\n",
              "    </tr>\n",
              "    <tr>\n",
              "      <th>4</th>\n",
              "      <td>-114.57</td>\n",
              "      <td>33.57</td>\n",
              "      <td>20.0</td>\n",
              "      <td>1454.0</td>\n",
              "      <td>326.0</td>\n",
              "      <td>624.0</td>\n",
              "      <td>262.0</td>\n",
              "      <td>1.9250</td>\n",
              "      <td>65500.0</td>\n",
              "    </tr>\n",
              "  </tbody>\n",
              "</table>\n",
              "</div>\n",
              "      <button class=\"colab-df-convert\" onclick=\"convertToInteractive('df-fa793455-0d0d-4877-b02a-78271c9291d5')\"\n",
              "              title=\"Convert this dataframe to an interactive table.\"\n",
              "              style=\"display:none;\">\n",
              "        \n",
              "  <svg xmlns=\"http://www.w3.org/2000/svg\" height=\"24px\"viewBox=\"0 0 24 24\"\n",
              "       width=\"24px\">\n",
              "    <path d=\"M0 0h24v24H0V0z\" fill=\"none\"/>\n",
              "    <path d=\"M18.56 5.44l.94 2.06.94-2.06 2.06-.94-2.06-.94-.94-2.06-.94 2.06-2.06.94zm-11 1L8.5 8.5l.94-2.06 2.06-.94-2.06-.94L8.5 2.5l-.94 2.06-2.06.94zm10 10l.94 2.06.94-2.06 2.06-.94-2.06-.94-.94-2.06-.94 2.06-2.06.94z\"/><path d=\"M17.41 7.96l-1.37-1.37c-.4-.4-.92-.59-1.43-.59-.52 0-1.04.2-1.43.59L10.3 9.45l-7.72 7.72c-.78.78-.78 2.05 0 2.83L4 21.41c.39.39.9.59 1.41.59.51 0 1.02-.2 1.41-.59l7.78-7.78 2.81-2.81c.8-.78.8-2.07 0-2.86zM5.41 20L4 18.59l7.72-7.72 1.47 1.35L5.41 20z\"/>\n",
              "  </svg>\n",
              "      </button>\n",
              "      \n",
              "  <style>\n",
              "    .colab-df-container {\n",
              "      display:flex;\n",
              "      flex-wrap:wrap;\n",
              "      gap: 12px;\n",
              "    }\n",
              "\n",
              "    .colab-df-convert {\n",
              "      background-color: #E8F0FE;\n",
              "      border: none;\n",
              "      border-radius: 50%;\n",
              "      cursor: pointer;\n",
              "      display: none;\n",
              "      fill: #1967D2;\n",
              "      height: 32px;\n",
              "      padding: 0 0 0 0;\n",
              "      width: 32px;\n",
              "    }\n",
              "\n",
              "    .colab-df-convert:hover {\n",
              "      background-color: #E2EBFA;\n",
              "      box-shadow: 0px 1px 2px rgba(60, 64, 67, 0.3), 0px 1px 3px 1px rgba(60, 64, 67, 0.15);\n",
              "      fill: #174EA6;\n",
              "    }\n",
              "\n",
              "    [theme=dark] .colab-df-convert {\n",
              "      background-color: #3B4455;\n",
              "      fill: #D2E3FC;\n",
              "    }\n",
              "\n",
              "    [theme=dark] .colab-df-convert:hover {\n",
              "      background-color: #434B5C;\n",
              "      box-shadow: 0px 1px 3px 1px rgba(0, 0, 0, 0.15);\n",
              "      filter: drop-shadow(0px 1px 2px rgba(0, 0, 0, 0.3));\n",
              "      fill: #FFFFFF;\n",
              "    }\n",
              "  </style>\n",
              "\n",
              "      <script>\n",
              "        const buttonEl =\n",
              "          document.querySelector('#df-fa793455-0d0d-4877-b02a-78271c9291d5 button.colab-df-convert');\n",
              "        buttonEl.style.display =\n",
              "          google.colab.kernel.accessAllowed ? 'block' : 'none';\n",
              "\n",
              "        async function convertToInteractive(key) {\n",
              "          const element = document.querySelector('#df-fa793455-0d0d-4877-b02a-78271c9291d5');\n",
              "          const dataTable =\n",
              "            await google.colab.kernel.invokeFunction('convertToInteractive',\n",
              "                                                     [key], {});\n",
              "          if (!dataTable) return;\n",
              "\n",
              "          const docLinkHtml = 'Like what you see? Visit the ' +\n",
              "            '<a target=\"_blank\" href=https://colab.research.google.com/notebooks/data_table.ipynb>data table notebook</a>'\n",
              "            + ' to learn more about interactive tables.';\n",
              "          element.innerHTML = '';\n",
              "          dataTable['output_type'] = 'display_data';\n",
              "          await google.colab.output.renderOutput(dataTable, element);\n",
              "          const docLink = document.createElement('div');\n",
              "          docLink.innerHTML = docLinkHtml;\n",
              "          element.appendChild(docLink);\n",
              "        }\n",
              "      </script>\n",
              "    </div>\n",
              "  </div>\n",
              "  "
            ]
          },
          "metadata": {},
          "execution_count": 8
        }
      ]
    },
    {
      "cell_type": "code",
      "metadata": {
        "id": "n-lT9BBicw4P",
        "colab": {
          "base_uri": "https://localhost:8080/",
          "height": 206
        },
        "outputId": "ec710cd6-b934-47f2-b8fc-e6c871f406b7"
      },
      "source": [
        "X = df_train.drop(['median_house_value'], axis = 1)\n",
        "X.head() ### for supervised learning: input matrix X"
      ],
      "execution_count": null,
      "outputs": [
        {
          "output_type": "execute_result",
          "data": {
            "text/plain": [
              "   longitude  latitude  housing_median_age  total_rooms  total_bedrooms  \\\n",
              "0    -114.31     34.19                15.0       5612.0          1283.0   \n",
              "1    -114.47     34.40                19.0       7650.0          1901.0   \n",
              "2    -114.56     33.69                17.0        720.0           174.0   \n",
              "3    -114.57     33.64                14.0       1501.0           337.0   \n",
              "4    -114.57     33.57                20.0       1454.0           326.0   \n",
              "\n",
              "   population  households  median_income  \n",
              "0      1015.0       472.0         1.4936  \n",
              "1      1129.0       463.0         1.8200  \n",
              "2       333.0       117.0         1.6509  \n",
              "3       515.0       226.0         3.1917  \n",
              "4       624.0       262.0         1.9250  "
            ],
            "text/html": [
              "\n",
              "  <div id=\"df-c2c8654c-a833-4823-b8f2-6697cb685562\">\n",
              "    <div class=\"colab-df-container\">\n",
              "      <div>\n",
              "<style scoped>\n",
              "    .dataframe tbody tr th:only-of-type {\n",
              "        vertical-align: middle;\n",
              "    }\n",
              "\n",
              "    .dataframe tbody tr th {\n",
              "        vertical-align: top;\n",
              "    }\n",
              "\n",
              "    .dataframe thead th {\n",
              "        text-align: right;\n",
              "    }\n",
              "</style>\n",
              "<table border=\"1\" class=\"dataframe\">\n",
              "  <thead>\n",
              "    <tr style=\"text-align: right;\">\n",
              "      <th></th>\n",
              "      <th>longitude</th>\n",
              "      <th>latitude</th>\n",
              "      <th>housing_median_age</th>\n",
              "      <th>total_rooms</th>\n",
              "      <th>total_bedrooms</th>\n",
              "      <th>population</th>\n",
              "      <th>households</th>\n",
              "      <th>median_income</th>\n",
              "    </tr>\n",
              "  </thead>\n",
              "  <tbody>\n",
              "    <tr>\n",
              "      <th>0</th>\n",
              "      <td>-114.31</td>\n",
              "      <td>34.19</td>\n",
              "      <td>15.0</td>\n",
              "      <td>5612.0</td>\n",
              "      <td>1283.0</td>\n",
              "      <td>1015.0</td>\n",
              "      <td>472.0</td>\n",
              "      <td>1.4936</td>\n",
              "    </tr>\n",
              "    <tr>\n",
              "      <th>1</th>\n",
              "      <td>-114.47</td>\n",
              "      <td>34.40</td>\n",
              "      <td>19.0</td>\n",
              "      <td>7650.0</td>\n",
              "      <td>1901.0</td>\n",
              "      <td>1129.0</td>\n",
              "      <td>463.0</td>\n",
              "      <td>1.8200</td>\n",
              "    </tr>\n",
              "    <tr>\n",
              "      <th>2</th>\n",
              "      <td>-114.56</td>\n",
              "      <td>33.69</td>\n",
              "      <td>17.0</td>\n",
              "      <td>720.0</td>\n",
              "      <td>174.0</td>\n",
              "      <td>333.0</td>\n",
              "      <td>117.0</td>\n",
              "      <td>1.6509</td>\n",
              "    </tr>\n",
              "    <tr>\n",
              "      <th>3</th>\n",
              "      <td>-114.57</td>\n",
              "      <td>33.64</td>\n",
              "      <td>14.0</td>\n",
              "      <td>1501.0</td>\n",
              "      <td>337.0</td>\n",
              "      <td>515.0</td>\n",
              "      <td>226.0</td>\n",
              "      <td>3.1917</td>\n",
              "    </tr>\n",
              "    <tr>\n",
              "      <th>4</th>\n",
              "      <td>-114.57</td>\n",
              "      <td>33.57</td>\n",
              "      <td>20.0</td>\n",
              "      <td>1454.0</td>\n",
              "      <td>326.0</td>\n",
              "      <td>624.0</td>\n",
              "      <td>262.0</td>\n",
              "      <td>1.9250</td>\n",
              "    </tr>\n",
              "  </tbody>\n",
              "</table>\n",
              "</div>\n",
              "      <button class=\"colab-df-convert\" onclick=\"convertToInteractive('df-c2c8654c-a833-4823-b8f2-6697cb685562')\"\n",
              "              title=\"Convert this dataframe to an interactive table.\"\n",
              "              style=\"display:none;\">\n",
              "        \n",
              "  <svg xmlns=\"http://www.w3.org/2000/svg\" height=\"24px\"viewBox=\"0 0 24 24\"\n",
              "       width=\"24px\">\n",
              "    <path d=\"M0 0h24v24H0V0z\" fill=\"none\"/>\n",
              "    <path d=\"M18.56 5.44l.94 2.06.94-2.06 2.06-.94-2.06-.94-.94-2.06-.94 2.06-2.06.94zm-11 1L8.5 8.5l.94-2.06 2.06-.94-2.06-.94L8.5 2.5l-.94 2.06-2.06.94zm10 10l.94 2.06.94-2.06 2.06-.94-2.06-.94-.94-2.06-.94 2.06-2.06.94z\"/><path d=\"M17.41 7.96l-1.37-1.37c-.4-.4-.92-.59-1.43-.59-.52 0-1.04.2-1.43.59L10.3 9.45l-7.72 7.72c-.78.78-.78 2.05 0 2.83L4 21.41c.39.39.9.59 1.41.59.51 0 1.02-.2 1.41-.59l7.78-7.78 2.81-2.81c.8-.78.8-2.07 0-2.86zM5.41 20L4 18.59l7.72-7.72 1.47 1.35L5.41 20z\"/>\n",
              "  </svg>\n",
              "      </button>\n",
              "      \n",
              "  <style>\n",
              "    .colab-df-container {\n",
              "      display:flex;\n",
              "      flex-wrap:wrap;\n",
              "      gap: 12px;\n",
              "    }\n",
              "\n",
              "    .colab-df-convert {\n",
              "      background-color: #E8F0FE;\n",
              "      border: none;\n",
              "      border-radius: 50%;\n",
              "      cursor: pointer;\n",
              "      display: none;\n",
              "      fill: #1967D2;\n",
              "      height: 32px;\n",
              "      padding: 0 0 0 0;\n",
              "      width: 32px;\n",
              "    }\n",
              "\n",
              "    .colab-df-convert:hover {\n",
              "      background-color: #E2EBFA;\n",
              "      box-shadow: 0px 1px 2px rgba(60, 64, 67, 0.3), 0px 1px 3px 1px rgba(60, 64, 67, 0.15);\n",
              "      fill: #174EA6;\n",
              "    }\n",
              "\n",
              "    [theme=dark] .colab-df-convert {\n",
              "      background-color: #3B4455;\n",
              "      fill: #D2E3FC;\n",
              "    }\n",
              "\n",
              "    [theme=dark] .colab-df-convert:hover {\n",
              "      background-color: #434B5C;\n",
              "      box-shadow: 0px 1px 3px 1px rgba(0, 0, 0, 0.15);\n",
              "      filter: drop-shadow(0px 1px 2px rgba(0, 0, 0, 0.3));\n",
              "      fill: #FFFFFF;\n",
              "    }\n",
              "  </style>\n",
              "\n",
              "      <script>\n",
              "        const buttonEl =\n",
              "          document.querySelector('#df-c2c8654c-a833-4823-b8f2-6697cb685562 button.colab-df-convert');\n",
              "        buttonEl.style.display =\n",
              "          google.colab.kernel.accessAllowed ? 'block' : 'none';\n",
              "\n",
              "        async function convertToInteractive(key) {\n",
              "          const element = document.querySelector('#df-c2c8654c-a833-4823-b8f2-6697cb685562');\n",
              "          const dataTable =\n",
              "            await google.colab.kernel.invokeFunction('convertToInteractive',\n",
              "                                                     [key], {});\n",
              "          if (!dataTable) return;\n",
              "\n",
              "          const docLinkHtml = 'Like what you see? Visit the ' +\n",
              "            '<a target=\"_blank\" href=https://colab.research.google.com/notebooks/data_table.ipynb>data table notebook</a>'\n",
              "            + ' to learn more about interactive tables.';\n",
              "          element.innerHTML = '';\n",
              "          dataTable['output_type'] = 'display_data';\n",
              "          await google.colab.output.renderOutput(dataTable, element);\n",
              "          const docLink = document.createElement('div');\n",
              "          docLink.innerHTML = docLinkHtml;\n",
              "          element.appendChild(docLink);\n",
              "        }\n",
              "      </script>\n",
              "    </div>\n",
              "  </div>\n",
              "  "
            ]
          },
          "metadata": {},
          "execution_count": 9
        }
      ]
    },
    {
      "cell_type": "code",
      "metadata": {
        "id": "2eC8SDPzczNY"
      },
      "source": [
        "### Optimum rmse: regression model objective function is Root Mean Square Error (RMSE); \n",
        "### Should be minimized (as close to zero as possible):\n",
        "\n",
        "y_global_orig = 0"
      ],
      "execution_count": null,
      "outputs": []
    },
    {
      "cell_type": "code",
      "metadata": {
        "id": "GoTmWEhSc1qQ"
      },
      "source": [
        "### Bayesian Optimization - inputs:\n",
        "\n",
        "obj_func = 'XGBoost'\n",
        "n_test = 500 # test points\n",
        "\n",
        "util_gp = 'CBM_gp'\n",
        "util_stp = 'CBM_stp'\n",
        "n_init = 5 # random initialisations\n",
        "opt = True\n",
        "\n",
        "test_perc = 0.10\n",
        "train_perc = 1 - test_perc\n",
        "\n",
        "n_test = int(len(df_train) * test_perc)\n",
        "n_train = int(len(df_train) - n_test)\n",
        "\n",
        "eps = 1e-08\n",
        "inverse = -1\n",
        "\n",
        "df = 3"
      ],
      "execution_count": null,
      "outputs": []
    },
    {
      "cell_type": "code",
      "metadata": {
        "id": "W2ngnRxbc7cg"
      },
      "source": [
        "### Objective function:\n",
        "\n",
        "if obj_func == 'XGBoost': # 6-D\n",
        "            \n",
        "    # Constraints:\n",
        "    param_lb_alpha = 0\n",
        "    param_ub_alpha = 10\n",
        "    \n",
        "    param_lb_gamma = 0\n",
        "    param_ub_gamma = 10\n",
        "    \n",
        "    param_lb_max_depth = 5\n",
        "    param_ub_max_depth = 15\n",
        "    \n",
        "    param_lb_min_child_weight = 1\n",
        "    param_ub_min_child_weight = 20\n",
        "    \n",
        "    param_lb_subsample = .5\n",
        "    param_ub_subsample = 1\n",
        "    \n",
        "    param_lb_colsample = .1\n",
        "    param_ub_colsample = 1\n",
        "    \n",
        "    # 6-D inputs' parameter bounds:\n",
        "    param = { 'alpha':  ('cont', (param_lb_alpha, param_ub_alpha)),\n",
        "         'gamma':  ('cont', (param_lb_gamma, param_ub_gamma)),     \n",
        "         'max_depth':  ('int', (param_lb_max_depth, param_ub_max_depth)),\n",
        "         'subsample':  ('cont', (param_lb_subsample, param_ub_subsample)),\n",
        "          'min_child_weight':  ('int', (param_lb_min_child_weight, param_ub_min_child_weight)),\n",
        "            'colsample': ('cont', (param_lb_colsample, param_ub_colsample))\n",
        "        }\n",
        "       \n",
        "    # True y bounds:\n",
        "    dim = 6\n",
        "    \n",
        "    max_iter = 30  # iterations of Bayesian optimization\n",
        "    \n",
        "    operator = 1 \n",
        "    \n",
        "    n_est = 5"
      ],
      "execution_count": null,
      "outputs": []
    },
    {
      "cell_type": "code",
      "metadata": {
        "id": "_3pmZYhVl9Hb"
      },
      "source": [
        "n_start_AcqFunc = max_iter\n"
      ],
      "execution_count": null,
      "outputs": []
    },
    {
      "cell_type": "code",
      "metadata": {
        "id": "PmJsNX29c_xA"
      },
      "source": [
        "### Surrogate derivatives: \n",
        "\n",
        "cov_func = squaredExponential()\n",
        "\n",
        "def kronDelta(X, Xstar):                     # Kronecker's Delta method\n",
        "    return cdist(X, Xstar) < np.finfo(np.float32).eps\n",
        "\n",
        "def se(X, Xstar, sigmaf, l, sigman):         # S.E. kernel method\n",
        "    return sigmaf * np.exp(-0.5 * cdist(X, Xstar) ** 2 / l ** 2) + sigman * kronDelta(X, Xstar)\n",
        "\n",
        "def delta(X, Xstar):                         # Distance between training X and test Xstar vectors\n",
        "    return (X - Xstar)\n",
        "   \n",
        "def der_covmat(X, Xstar, sigmaf, l, sigman): # Covariance matrix derivative terms (i.e. exact, first-order)\n",
        "    nx = len(X)\n",
        "    ny = len(Xstar)\n",
        "    return np.round(np.array([(delta(np.atleast_2d(i), np.atleast_2d(j))[0] * se(np.atleast_2d(i), np.atleast_2d(j), sigmaf, l, sigman)[0]).sum() for (i, j) in itertools.product(X, Xstar)]).reshape(nx, ny), 8)\n",
        "\n",
        "class dGaussianProcess(GaussianProcess):    # Via inheritance, also optimises hyperparameters when opt = TRUE\n",
        "    \n",
        "    def AcqGrad(self, Xstar):               # Method returning exact, first-order derivatives of the GP's posterior mean and standard deviation\n",
        "        Xstar = np.atleast_2d(Xstar)\n",
        "        Kstar = self.covfunc.K(self.X, Xstar).T\n",
        "        \n",
        "        dKstar = der_covmat(self.X, Xstar, self.covfunc.sigmaf, self.covfunc.l, self.covfunc.sigman).T\n",
        "        alpha_Kstar = np.dot(np.linalg.inv(self.K + (self.covfunc.sigman**2) * np.eye(len(self.X))), Kstar.T)\n",
        "        \n",
        "        dm = np.dot(dKstar, self.alpha)\n",
        "        ds = -2 * np.dot(dKstar, alpha_Kstar)\n",
        "        \n",
        "        return dm, ds\n",
        "\n",
        "class dtStudentProcess(tStudentProcess):    # Via inheritance, also optimises hyperparameters when opt = TRUE\n",
        "    \n",
        "    def AcqGrad(self, Xstar):               # Method returning exact, first-order derivatives of the STP's posterior mean and standard deviation\n",
        "        Xstar = np.atleast_2d(Xstar)\n",
        "        Kstar = self.covfunc.K(self.X, Xstar).T\n",
        "        dKstar = der_covmat(self.X, Xstar, self.covfunc.sigmaf, self.covfunc.l, self.covfunc.sigman).T\n",
        "        \n",
        "        smd_adj = (self.nu + self.beta1 - 2) / (self.nu + self.n1 - 2)\n",
        "\n",
        "        alpha = np.dot(np.linalg.inv(self.K11 + (self.covfunc.sigman**2) * np.eye(len(self.X))), self.y)\n",
        "        alpha_Kstar = np.dot(np.linalg.inv(self.K11 + (self.covfunc.sigman**2) * np.eye(len(self.X))), Kstar.T)      \n",
        "        \n",
        "        dm = np.dot(dKstar, alpha)\n",
        "        ds = -2 * smd_adj * np.dot(dKstar, alpha_Kstar)\n",
        "        \n",
        "        return dm, ds            \n",
        "        "
      ],
      "execution_count": null,
      "outputs": []
    },
    {
      "cell_type": "code",
      "metadata": {
        "id": "n9ZuEB2VdE0W"
      },
      "source": [
        "### Set-seeds:\n",
        "\n",
        "run_num_1 = 1\n",
        "run_num_2 = 2\n",
        "run_num_3 = 3\n",
        "run_num_4 = 4\n",
        "run_num_5 = 5\n",
        "run_num_6 = 6\n",
        "run_num_7 = 7\n",
        "run_num_8 = 8\n",
        "run_num_9 = 9\n",
        "run_num_10 = 10\n",
        "run_num_11 = 11\n",
        "run_num_12 = 12\n",
        "run_num_13 = 13\n",
        "run_num_14 = 14\n",
        "run_num_15 = 15\n",
        "run_num_16 = 16\n",
        "run_num_17 = 17\n",
        "run_num_18 = 18\n",
        "run_num_19 = 19\n",
        "run_num_20 = 20\n"
      ],
      "execution_count": null,
      "outputs": []
    },
    {
      "cell_type": "code",
      "metadata": {
        "id": "XgHMFEyPdCk4"
      },
      "source": [
        "### Cumulative Regret Calculator:\n",
        "\n",
        "def min_max_array(x):\n",
        "    new_list = []\n",
        "    for i, num in enumerate(x):\n",
        "            new_list.append(np.min(x[0:i+1]))\n",
        "    return new_list\n",
        "    "
      ],
      "execution_count": null,
      "outputs": []
    },
    {
      "cell_type": "code",
      "source": [
        "### Add exact acquisition function gradient as attribute:\n",
        "\n",
        "Beta_CBM = dim\n",
        "\n",
        "class Acquisition_grad(Acquisition):    \n",
        "    def __init__(self, mode, eps=eps, **params):\n",
        "        \n",
        "        self.params = params\n",
        "        self.eps = eps\n",
        "\n",
        "        mode_dict = {\n",
        "            'CBM_stp': self.CBM_stp,\n",
        "            'CBM_gp': self.CBM_gp,\n",
        "        }\n",
        "\n",
        "        self.f = mode_dict[mode]\n",
        "    \n",
        "    def CBM_stp(self, y_global_orig, mean, std, ds, dm, nu=3.0):\n",
        "        gamma = (mean - y_global_orig - self.eps) / (std + self.eps)\n",
        "        gamma_h = (mean - y_global_orig) / (std + self.eps)\n",
        "        dsdx = ds / (2 * (std + self.eps))\n",
        "        dmdx = (dm - gamma * dsdx) / (std + self.eps)\n",
        "\n",
        "        f = (std + self.eps) * (gamma + np.sqrt(Beta_CBM))\n",
        "        df = dsdx * (gamma + np.sqrt(Beta_CBM)) + (std + self.eps) * dmdx\n",
        "        df_arr = []\n",
        "\n",
        "        for j in range(0, dim):\n",
        "          df_arr.append(df)\n",
        "        return f, np.asarray(df_arr).transpose()\n",
        "        \n",
        "    def d_eval_stp(self, tau, mean, std, ds, dm, nu=3.0):\n",
        "    \n",
        "        return self.f(tau, mean, std, ds, dm, nu=3.0, **self.params)\n",
        "\n",
        "    def CBM_gp(self, tau, mean, std, ds, dm):\n",
        "        gamma = (mean - y_global_orig - self.eps) / (std + self.eps)\n",
        "        gamma_h = (mean - y_global_orig) / (std + self.eps)\n",
        "        dsdx = ds / (2 * (std + self.eps))\n",
        "        dmdx = (dm - gamma * dsdx) / (std + self.eps)\n",
        "\n",
        "        f = (std + self.eps) * (gamma + np.sqrt(Beta_CBM))\n",
        "        df = dsdx * (gamma + np.sqrt(Beta_CBM)) + (std + self.eps) * dmdx\n",
        "        df_arr = []\n",
        "\n",
        "        for j in range(0, dim):\n",
        "          df_arr.append(df)\n",
        "        return f, np.asarray(df_arr).transpose()\n",
        "        \n",
        "    def d_eval_gp(self, tau, mean, std, ds, dm):\n",
        "    \n",
        "        return self.f(tau, mean, std, ds, dm, **self.params)\n",
        "        "
      ],
      "metadata": {
        "id": "ZIh5RYGkwBUZ"
      },
      "execution_count": null,
      "outputs": []
    },
    {
      "cell_type": "code",
      "source": [
        "## dGPGO - Gaussian:\n",
        "\n",
        "class dGPGO_gp(GPGO):\n",
        "    n_start = n_start_AcqFunc\n",
        "\n",
        "    def __init__(self, surrogate, acquisition, f, parameter_dict, n_jobs=1):\n",
        "        self.GP = surrogate\n",
        "        self.A = acquisition\n",
        "        self.f = f\n",
        "        self.parameters = parameter_dict\n",
        "        self.n_jobs = n_jobs\n",
        "\n",
        "        self.parameter_key = list(parameter_dict.keys())\n",
        "        self.parameter_value = list(parameter_dict.values())\n",
        "        self.parameter_type = [p[0] for p in self.parameter_value]\n",
        "        self.parameter_range = [p[1] for p in self.parameter_value]\n",
        "\n",
        "        self.history = []\n",
        "        self.header =   'Evaluation \\t Proposed point \\t  Current eval. \\t  Best eval. \\t         Max. ExactAcqFunc \\t Max. ApproxAcqFunc '\n",
        "        self.template = '{:3}\\t {}\\t {:3}\\t {:3}\\t {:3}\\t {:3}'\n",
        "\n",
        "    def acqfuncExact(self, xnew, n_start=n_start_AcqFunc):\n",
        "        new_mean, new_var = self.GP.predict(xnew, return_std=True)\n",
        "        new_std = np.sqrt(new_var + eps)\n",
        "        dm, ds = self.GP.AcqGrad(xnew)\n",
        "        f, df = self.A.d_eval_gp(self.tau, new_mean, new_std, ds=ds, dm=dm)\n",
        "\n",
        "        return -f, -df\n",
        "   \n",
        "    def acqfuncApprox(self, xnew, n_start=n_start_AcqFunc):\n",
        "        new_mean, new_var = self.GP.predict(xnew, return_std=True)\n",
        "        new_std = np.sqrt(new_var + eps)\n",
        "        dm, ds = self.GP.AcqGrad(xnew)\n",
        "        f, df = self.A.d_eval_gp(self.tau, new_mean, new_std, ds=ds, dm=dm)\n",
        "\n",
        "        return -f\n",
        "\n",
        "    def d_optimizeAcq(self, method='L-BFGS-B', n_start=n_start_AcqFunc):\n",
        "        start_points_dict = [self._sampleParam() for i in range(n_start)]\n",
        "        start_points_arr = np.array([list(s.values())\n",
        "                                     for s in start_points_dict])\n",
        "        x_best = np.empty((n_start, len(self.parameter_key)))\n",
        "        f_best = np.empty((n_start,))\n",
        "        opt = Parallel(n_jobs=self.n_jobs)(delayed(minimize)(self.acqfuncExact,\n",
        "                                                                 x0=start_point,\n",
        "                                                                 method=method,\n",
        "                                                                 jac = True,\n",
        "                                                                 bounds=self.parameter_range) for start_point in\n",
        "                                               start_points_arr)\n",
        "        x_best = np.array([res.x for res in opt])\n",
        "        f_best = np.array([np.atleast_1d(res.fun)[0] for res in opt])\n",
        "        f_best_min = min(f_best)\n",
        "\n",
        "        self.x_best = x_best\n",
        "        self.f_best = f_best\n",
        "        self.f_best_min = f_best_min\n",
        "        self.x_best_std = np.std(x_best)\n",
        "        self.best = x_best[np.argmin(f_best)]\n",
        "        self.start_points_arr = start_points_arr\n",
        "        self.history.append(self.x_best_std)\n",
        "\n",
        "        x_best_gp = np.empty((n_start, len(self.parameter_key)))\n",
        "        f_best_gp = np.empty((n_start,))\n",
        "        opt_gp = Parallel(n_jobs=self.n_jobs)(delayed(minimize)(self.acqfuncApprox,\n",
        "                                                                 x0=start_point,\n",
        "                                                                 method=method,\n",
        "                                                                 jac = False,\n",
        "                                                                 bounds=self.parameter_range) for start_point in\n",
        "                                               start_points_arr)\n",
        "        x_best_gp = np.array([res.x for res in opt_gp])\n",
        "        f_best_gp = np.array([np.atleast_1d(res.fun)[0] for res in opt_gp])\n",
        "        f_best_min_gp = min(f_best_gp)\n",
        "\n",
        "        self.x_best_gp = x_best_gp\n",
        "        self.f_best_gp = f_best_gp\n",
        "        self.f_best_min_gp = f_best_min_gp\n",
        "        self.x_best_std_gp = np.std(x_best_gp)\n",
        "        self.best_gp = x_best_gp[np.argmin(f_best_gp)]\n",
        "        self.start_points_arr = start_points_arr\n",
        "        self.history.append(self.x_best_std_gp)\n",
        "    \n",
        "    def _printInit(self):\n",
        "        print(self.header)\n",
        "        for init_eval in range(self.init_evals):\n",
        "            print(self.template.format('init', self.GP.X[init_eval], inverse * self.GP.y[init_eval], inverse * self.tau, '', ''))\n",
        "      \n",
        "    def _printCurrent(self):\n",
        "        OKGREEN = '\\033[92m'\n",
        "        ENDC = '\\033[0m'\n",
        "        BOLD = '\\033[1m'\n",
        "        eval = str(len(self.GP.y) - self.init_evals)\n",
        "        proposed = str(self.best)\n",
        "        curr_eval = str(inverse * self.GP.y[-1])\n",
        "        curr_best = str(inverse * self.tau)\n",
        "        min_acqfunc = str(self.f_best_min)\n",
        "        min_acqfunc_gp = str(self.f_best_min_gp)\n",
        "        x_best_std = str(self.x_best_std)\n",
        "        x_best_std_gp = str(self.x_best_std_gp)\n",
        "        if float(curr_eval) <= float(curr_best):\n",
        "            eval = BOLD + OKGREEN + eval + ENDC\n",
        "            proposed = BOLD + OKGREEN + proposed + ENDC\n",
        "            curr_eval = BOLD + OKGREEN + curr_eval + ENDC\n",
        "            curr_best = BOLD + OKGREEN + curr_best + ENDC\n",
        "            x_best_std = BOLD + OKGREEN + x_best_std + ENDC\n",
        "            x_best_std_gp = BOLD + OKGREEN + x_best_std_gp + ENDC\n",
        "        print(self.template.format(eval, proposed, curr_eval, curr_best, x_best_std, x_best_std_gp))\n",
        "\n",
        "    def run(self, max_iter=10, init_evals=3, resume=False):\n",
        "        \n",
        "        if not resume:\n",
        "            self.init_evals = init_evals\n",
        "            self._firstRun(self.init_evals)\n",
        "            self._printInit()\n",
        "        for iteration in range(max_iter):\n",
        "            self.d_optimizeAcq()\n",
        "            self.updateGP()\n",
        "            self._printCurrent()\n"
      ],
      "metadata": {
        "id": "VFzOGH9cU0Aw"
      },
      "execution_count": null,
      "outputs": []
    },
    {
      "cell_type": "code",
      "source": [
        "## dGPGO - Student's-t:\n",
        "\n",
        "class dGPGO_stp(GPGO):\n",
        "    n_start = n_start_AcqFunc\n",
        "\n",
        "    def __init__(self, surrogate, acquisition, f, parameter_dict, n_jobs=1):\n",
        "        self.GP = surrogate\n",
        "        self.A = acquisition\n",
        "        self.f = f\n",
        "        self.parameters = parameter_dict\n",
        "        self.n_jobs = n_jobs\n",
        "\n",
        "        self.parameter_key = list(parameter_dict.keys())\n",
        "        self.parameter_value = list(parameter_dict.values())\n",
        "        self.parameter_type = [p[0] for p in self.parameter_value]\n",
        "        self.parameter_range = [p[1] for p in self.parameter_value]\n",
        "\n",
        "        self.history = []\n",
        "        self.header =   'Evaluation \\t Proposed point \\t  Current eval. \\t  Best eval. \\t        Exact CBM: StdDev. x \\t Approx CBM: StdDev. x '\n",
        "        self.template = '{:3}\\t {}\\t {:3}\\t {:3}\\t {:3}\\t {:3}'\n",
        "\n",
        "    def acqfuncExact(self, xnew, n_start=n_start_AcqFunc):\n",
        "        new_mean, new_var = self.GP.predict(xnew, return_std=True)\n",
        "        new_std = np.sqrt(new_var + eps)\n",
        "        dm, ds = self.GP.AcqGrad(xnew)\n",
        "        f, df = self.A.d_eval_stp(self.tau, new_mean, new_std, ds=ds, dm=dm, nu=3.0)\n",
        "\n",
        "        return -f, -df\n",
        "   \n",
        "    def acqfuncApprox(self, xnew, n_start=n_start_AcqFunc):\n",
        "        new_mean, new_var = self.GP.predict(xnew, return_std=True)\n",
        "        new_std = np.sqrt(new_var + eps)\n",
        "        dm, ds = self.GP.AcqGrad(xnew)\n",
        "        f, df = self.A.d_eval_stp(self.tau, new_mean, new_std, ds=ds, dm=dm, nu=3.0)\n",
        "\n",
        "        return -f\n",
        "\n",
        "    def d_optimizeAcq(self, method='L-BFGS-B', n_start=n_start_AcqFunc):\n",
        "        start_points_dict = [self._sampleParam() for i in range(n_start)]\n",
        "        start_points_arr = np.array([list(s.values())\n",
        "                                     for s in start_points_dict])\n",
        "        x_best = np.empty((n_start, len(self.parameter_key)))\n",
        "        f_best = np.empty((n_start,))\n",
        "        opt = Parallel(n_jobs=self.n_jobs)(delayed(minimize)(self.acqfuncExact,\n",
        "                                                                 x0=start_point,\n",
        "                                                                 method=method,\n",
        "                                                                 jac = True,\n",
        "                                                                 bounds=self.parameter_range) for start_point in\n",
        "                                               start_points_arr)\n",
        "        x_best = np.array([res.x for res in opt])\n",
        "        f_best = np.array([np.atleast_1d(res.fun)[0] for res in opt])\n",
        "        f_best_min = min(f_best)\n",
        "\n",
        "        self.x_best = x_best\n",
        "        self.f_best = f_best\n",
        "        self.f_best_min = f_best_min\n",
        "        self.x_best_std = np.std(x_best)\n",
        "        self.best = x_best[np.argmin(f_best)]\n",
        "        self.start_points_arr = start_points_arr\n",
        "        self.history.append(self.x_best_std)\n",
        "\n",
        "        x_best_gp = np.empty((n_start, len(self.parameter_key)))\n",
        "        f_best_gp = np.empty((n_start,))\n",
        "        opt_gp = Parallel(n_jobs=self.n_jobs)(delayed(minimize)(self.acqfuncApprox,\n",
        "                                                                 x0=start_point,\n",
        "                                                                 method=method,\n",
        "                                                                 jac = False,\n",
        "                                                                 bounds=self.parameter_range) for start_point in\n",
        "                                               start_points_arr)\n",
        "        x_best_gp = np.array([res.x for res in opt_gp])\n",
        "        f_best_gp = np.array([np.atleast_1d(res.fun)[0] for res in opt_gp])\n",
        "        f_best_min_gp = min(f_best_gp)\n",
        "\n",
        "        self.x_best_gp = x_best_gp\n",
        "        self.f_best_gp = f_best_gp\n",
        "        self.f_best_min_gp = f_best_min_gp\n",
        "        self.x_best_std_gp = np.std(x_best_gp)\n",
        "        self.best_gp = x_best_gp[np.argmin(f_best_gp)]\n",
        "        self.start_points_arr = start_points_arr\n",
        "        self.history.append(self.x_best_std_gp)\n",
        "    \n",
        "    def _printInit(self):\n",
        "        print(self.header)\n",
        "        for init_eval in range(self.init_evals):\n",
        "            print(self.template.format('init', self.GP.X[init_eval], inverse * self.GP.y[init_eval], inverse * self.tau, '', ''))\n",
        "      \n",
        "    def _printCurrent(self):\n",
        "        OKGREEN = '\\033[92m'\n",
        "        ENDC = '\\033[0m'\n",
        "        BOLD = '\\033[1m'\n",
        "        eval = str(len(self.GP.y) - self.init_evals)\n",
        "        proposed = str(self.best)\n",
        "        curr_eval = str(inverse * self.GP.y[-1])\n",
        "        curr_best = str(inverse * self.tau)\n",
        "        min_acqfunc = str(self.f_best_min)\n",
        "        min_acqfunc_gp = str(self.f_best_min_gp)\n",
        "        x_best_std = str(self.x_best_std)\n",
        "        x_best_std_gp = str(self.x_best_std_gp)\n",
        "        if float(curr_eval) <= float(curr_best):\n",
        "            eval = BOLD + OKGREEN + eval + ENDC\n",
        "            proposed = BOLD + OKGREEN + proposed + ENDC\n",
        "            curr_eval = BOLD + OKGREEN + curr_eval + ENDC\n",
        "            curr_best = BOLD + OKGREEN + curr_best + ENDC\n",
        "            x_best_std = BOLD + OKGREEN + x_best_std + ENDC\n",
        "            x_best_std_gp = BOLD + OKGREEN + x_best_std_gp + ENDC\n",
        "        print(self.template.format(eval, proposed, curr_eval, curr_best, x_best_std, x_best_std_gp))\n",
        "\n",
        "    def run(self, max_iter=10, init_evals=3, resume=False):\n",
        "        \n",
        "        if not resume:\n",
        "            self.init_evals = init_evals\n",
        "            self._firstRun(self.init_evals)\n",
        "            self._printInit()\n",
        "        for iteration in range(max_iter):\n",
        "            self.d_optimizeAcq()\n",
        "            self.updateGP()\n",
        "            self._printCurrent()\n"
      ],
      "metadata": {
        "id": "lxI0s0PhVic9"
      },
      "execution_count": null,
      "outputs": []
    },
    {
      "cell_type": "code",
      "metadata": {
        "id": "HlilveEgdIR_",
        "colab": {
          "base_uri": "https://localhost:8080/"
        },
        "outputId": "528043ec-9841-4450-ca43-a3e2298b3d8c"
      },
      "source": [
        "start_gp = time.time()\n",
        "start_gp"
      ],
      "execution_count": null,
      "outputs": [
        {
          "output_type": "execute_result",
          "data": {
            "text/plain": [
              "1663766614.0837166"
            ]
          },
          "metadata": {},
          "execution_count": 20
        }
      ]
    },
    {
      "cell_type": "code",
      "metadata": {
        "id": "1wlzDSHbUG-c",
        "colab": {
          "base_uri": "https://localhost:8080/"
        },
        "outputId": "ea1d71bb-1ad7-4256-b7ca-724cd58d3d1c"
      },
      "source": [
        "### Bayesian optimization runs (x20): 'Exact GP CBM' Acquisition Function run number = 1\n",
        "\n",
        "np.random.seed(run_num_1)\n",
        "surrogate_gp_1 = dGaussianProcess(cov_func, optimize=opt)\n",
        "\n",
        "X_train1, X_test1, y_train1, y_test1 = train_test_split(X, y, test_size=test_perc, random_state=run_num_1)\n",
        "\n",
        "def f_syn_polarity1(alpha, gamma, max_depth, subsample, min_child_weight, colsample):\n",
        "    reg = XGBRegressor(reg_alpha=alpha, gamma=gamma, max_depth=int(max_depth), subsample=subsample, min_child_weight=min_child_weight,\n",
        "          colsample_bytree=colsample, n_estimators = n_est, random_state=run_num_1, objective = 'reg:squarederror')\n",
        "    score = np.array(cross_val_score(reg, X=X_train1, y=y_train1).mean())\n",
        "    return operator * score\n",
        "\n",
        "gp_1 = dGPGO_gp(surrogate_gp_1, Acquisition_grad(util_gp), f_syn_polarity1, param, n_jobs = -1) # define BayesOpt\n",
        "gp_1.run(max_iter = max_iter, init_evals = n_init) # run\n",
        "\n",
        "### Return optimal parameters' set:\n",
        "params_gp_1 = gp_1.getResult()[0]\n",
        "params_gp_1['max_depth'] = int(params_gp_1['max_depth'])\n",
        "params_gp_1['min_child_weight'] = int(params_gp_1['min_child_weight'])\n",
        "\n",
        "### Re-train with optimal parameters, run predictons:\n",
        "dX_gp_train1 = xgb.DMatrix(X_train1, y_train1)\n",
        "dX_gp_test1 = xgb.DMatrix(X_test1, y_test1)\n",
        "model_gp_1 = xgb.train(params_gp_1, dX_gp_train1)\n",
        "pred_gp_1 = model_gp_1.predict(dX_gp_test1)\n",
        "\n",
        "rmse_gp_1 = np.sqrt(mean_squared_error(pred_gp_1, y_test1))\n",
        "rmse_gp_1"
      ],
      "execution_count": null,
      "outputs": [
        {
          "output_type": "stream",
          "name": "stdout",
          "text": [
            "Evaluation \t Proposed point \t  Current eval. \t  Best eval. \t         Max. ExactAcqFunc \t Max. ApproxAcqFunc \n",
            "init\t [ 4.17022005  7.20324493 14.          0.65116629 16.          0.31248008]\t 1.0028690365100252\t 0.6536753952667645\t    \t    \n",
            "init\t [ 3.96580727  3.87910741 11.          0.96776954  6.          0.71669755]\t 0.7391862019705779\t 0.6536753952667645\t    \t    \n",
            "init\t [ 2.0445225   8.78117436  7.          0.95698101 10.          0.48762871]\t 0.8806962872539386\t 0.6536753952667645\t    \t    \n",
            "init\t [ 9.39127789  7.78389236 14.          0.98413079  2.          0.87851823]\t 0.6536753952667645\t 0.6536753952667645\t    \t    \n",
            "init\t [8.29146907 8.29603359 8.         0.58491521 9.         0.18851215]\t 1.062518544792604\t 0.6536753952667645\t    \t    \n",
            "1  \t [ 7.86951474  0.6406733  11.          0.78919481 19.          0.44182296]\t 0.8659738506300403\t 0.6536753952667645\t 5.063230540565571\t 5.071506221508329\n",
            "2  \t [ 0.74723898  0.36469704 11.          0.84902862 15.          0.10419698]\t 1.0589776023267656\t 0.6536753952667645\t 4.657698565106573\t 4.65779107652675\n",
            "3  \t [ 3.61274713  8.16007507 11.          0.84840025 19.          0.76215891]\t 0.6771887207267527\t 0.6536753952667645\t 4.637663030917348\t 4.637663030917348\n",
            "4  \t [ 9.28266952  0.44927819  7.          0.97265422 12.          0.93288355]\t 0.6820774846874944\t 0.6536753952667645\t 4.343685623082818\t 4.384383715523146\n",
            "5  \t [0.         0.         5.         0.5        4.16307351 0.1       ]\t 1.0642140288564224\t 0.6536753952667645\t 5.077356031270844\t 5.0943882622503445\n",
            "6  \t [ 5.1476318   2.63826491  5.          0.83046451 17.          0.39543049]\t 0.9004243658767852\t 0.6536753952667645\t 4.740036540582272\t 4.679378071380302\n",
            "7  \t [ 2.05722318  9.92568059 11.          0.85938245  2.          0.31039182]\t 1.0042308077866626\t 0.6536753952667645\t 5.097031472062328\t 4.99131625656609\n",
            "8  \t [8.51945771 8.4424986  8.         0.90741371 1.         0.49942468]\t 0.8757522803338091\t 0.6536753952667645\t 4.86845297290965\t 4.8129162431072094\n",
            "9  \t [ 2.08878558  0.52993661 12.          0.75288969  1.          0.24822289]\t 1.0632523501795186\t 0.6536753952667645\t 5.148321787710419\t 5.055058575359502\n",
            "10 \t [2.9041318  7.39326981 5.         0.58898617 5.         0.32854047]\t 1.0120361806256697\t 0.6536753952667645\t 4.71627900323458\t 4.712686138600566\n",
            "11 \t [ 9.4605503   2.00186066 12.          0.69186722  8.          0.11311186]\t 1.061946992849472\t 0.6536753952667645\t 4.864557083226624\t 4.880079727559562\n",
            "12 \t [6.76356635 2.31703141 5.         0.84148498 5.         0.43949556]\t 0.8998699639297213\t 0.6536753952667645\t 5.039261039406859\t 5.068361872650771\n",
            "13 \t [ 0.31984184  8.77960419  5.          0.79374224 16.          0.99761184]\t 0.7310969316491746\t 0.6536753952667645\t 5.303570543891491\t 5.148822912442981\n",
            "14 \t [ 0.99440257  2.23238431 10.          0.58984965 12.          0.68792603]\t 0.7499303794197336\t 0.6536753952667645\t 4.475094501045932\t 4.475094501045932\n",
            "15 \t [ 9.20512342  1.60831322 11.          0.87041344  2.          0.50117029]\t 0.8186293003915115\t 0.6536753952667645\t 5.013917613540534\t 4.944046307707017\n",
            "16 \t [ 0.21685405  7.71152333 13.          0.94772928  9.          0.78016857]\t 0.6760611870438261\t 0.6536753952667645\t 5.075894748741488\t 5.099530593477317\n",
            "\u001b[1m\u001b[92m17\u001b[0m\t \u001b[1m\u001b[92m[10. 10. 15.  1. 20.  1.]\u001b[0m\t \u001b[1m\u001b[92m0.6504936383293095\u001b[0m\t \u001b[1m\u001b[92m0.6504936383293095\u001b[0m\t \u001b[1m\u001b[92m4.65852577081481\u001b[0m\t \u001b[1m\u001b[92m4.517274710627573\u001b[0m\n",
            "18 \t [ 9.07473203  7.82580978  7.          0.8004828  15.          0.48928248]\t 0.8798731047836086\t 0.6504936383293095\t 4.856285118276052\t 4.855359518593805\n",
            "19 \t [ 5.97608649  2.36667377 13.          0.98001528 12.          0.35946301]\t 1.0002489375044032\t 0.6504936383293095\t 5.2006396587806805\t 5.172589840087019\n",
            "20 \t [ 5.14454264  3.57498003 14.78018505  1.          1.78018505  1.        ]\t 0.6523064283153609\t 0.6504936383293095\t 5.082166110655254\t 5.045540996836961\n",
            "21 \t [ 9.72376714  9.82517342 14.          0.96896704 10.          0.66715413]\t 0.7365987830832396\t 0.6504936383293095\t 5.229819586172789\t 5.222907613399276\n",
            "22 \t [ 4.65410509  7.57869444  5.          0.7635136  15.          0.8131422 ]\t 0.7396988098813949\t 0.6504936383293095\t 4.778451962424505\t 4.776873808358088\n",
            "23 \t [ 5.5061052   5.26576203 10.          0.77550389  1.          0.3745881 ]\t 1.003664213324171\t 0.6504936383293095\t 4.759191795434065\t 4.738080436627516\n",
            "\u001b[1m\u001b[92m24\u001b[0m\t \u001b[1m\u001b[92m[ 9.89768519  7.35883605 12.56890672  1.         14.56890672  1.        ]\u001b[0m\t \u001b[1m\u001b[92m0.6482478115944295\u001b[0m\t \u001b[1m\u001b[92m0.6482478115944295\u001b[0m\t \u001b[1m\u001b[92m5.258237660828313\u001b[0m\t \u001b[1m\u001b[92m5.059799516016247\u001b[0m\n",
            "25 \t [3.92428694 0.68431362 6.         0.64283095 9.         0.2162494 ]\t 1.0619895012405975\t 0.6482478115944295\t 4.89568813142736\t 4.809715929157425\n",
            "26 \t [ 1.03968583  3.49943563 14.          0.82879876  3.          0.98366866]\t 0.6562345271802523\t 0.6482478115944295\t 4.67011011141825\t 4.6288959748214\n",
            "27 \t [4.30702998 1.603885   6.         0.67957661 1.         0.65896812]\t 0.7831673379940609\t 0.6482478115944295\t 4.8354105617775645\t 4.847028168341116\n",
            "28 \t [ 0.15246909  0.64891005  5.          0.82057511 17.          0.55392553]\t 0.8471082658020649\t 0.6482478115944295\t 4.758050733595693\t 4.783326626929882\n",
            "29 \t [ 8.76026329  6.43976448 10.81236188  1.         20.          1.        ]\t 0.6560121548112782\t 0.6482478115944295\t 5.116931935913356\t 5.247756619274584\n",
            "30 \t [0.01760125 4.20168637 5.         0.62711786 8.         0.78825566]\t 0.7378644330521015\t 0.6482478115944295\t 4.725859139558703\t 4.740639797339312\n"
          ]
        },
        {
          "output_type": "execute_result",
          "data": {
            "text/plain": [
              "46668.8273192029"
            ]
          },
          "metadata": {},
          "execution_count": 21
        }
      ]
    },
    {
      "cell_type": "code",
      "metadata": {
        "id": "ClJ9rN2KUJzy",
        "colab": {
          "base_uri": "https://localhost:8080/"
        },
        "outputId": "7613b3aa-e7ed-4db9-8d2a-89724e04656d"
      },
      "source": [
        "### Bayesian optimization runs (x20): 'Exact GP CBM' Acquisition Function run number = 2\n",
        "\n",
        "np.random.seed(run_num_2)\n",
        "surrogate_gp_2 = dGaussianProcess(cov_func, optimize=opt)\n",
        "\n",
        "X_train2, X_test2, y_train2, y_test2 = train_test_split(X, y, test_size=test_perc, random_state=run_num_2)\n",
        "\n",
        "def f_syn_polarity2(alpha, gamma, max_depth, subsample, min_child_weight, colsample):\n",
        "    reg = XGBRegressor(reg_alpha=alpha, gamma=gamma, max_depth=int(max_depth), subsample=subsample, min_child_weight=min_child_weight,\n",
        "          colsample_bytree=colsample, n_estimators = n_est, random_state=run_num_2, objective = 'reg:squarederror')\n",
        "    score = np.array(cross_val_score(reg, X=X_train2, y=y_train2).mean())\n",
        "    return operator * score\n",
        "\n",
        "gp_2 = dGPGO_gp(surrogate_gp_2, Acquisition_grad(util_gp), f_syn_polarity2, param, n_jobs = -1) # define BayesOpt\n",
        "gp_2.run(max_iter = max_iter, init_evals = n_init) # run\n",
        "\n",
        "### Return optimal parameters' set:\n",
        "params_gp_2 = gp_2.getResult()[0]\n",
        "params_gp_2['max_depth'] = int(params_gp_2['max_depth'])\n",
        "params_gp_2['min_child_weight'] = int(params_gp_2['min_child_weight'])\n",
        "\n",
        "### Re-train with optimal parameters, run predictons:\n",
        "dX_gp_train2 = xgb.DMatrix(X_train2, y_train2)\n",
        "dX_gp_test2 = xgb.DMatrix(X_test2, y_test2)\n",
        "model_gp_2 = xgb.train(params_gp_2, dX_gp_train2)\n",
        "pred_gp_2 = model_gp_2.predict(dX_gp_test2)\n",
        "\n",
        "rmse_gp_2 = np.sqrt(mean_squared_error(pred_gp_2, y_test2))\n",
        "rmse_gp_2"
      ],
      "execution_count": null,
      "outputs": [
        {
          "output_type": "stream",
          "name": "stdout",
          "text": [
            "Evaluation \t Proposed point \t  Current eval. \t  Best eval. \t         Max. ExactAcqFunc \t Max. ApproxAcqFunc \n",
            "init\t [ 4.35994902  0.25926232 11.          0.97386531 12.          0.47833102]\t 0.778909206070606\t 0.681387807728051\t    \t    \n",
            "init\t [ 3.30334821  2.04648634 10.          0.55997527  6.          0.71472339]\t 0.681387807728051\t 0.681387807728051\t    \t    \n",
            "init\t [ 4.9856117   5.86796978  8.          0.89266757 11.          0.59158659]\t 0.7040746477543849\t 0.681387807728051\t    \t    \n",
            "init\t [ 4.07307832  1.76984624 13.          0.75262305  7.          0.35908193]\t 0.7953147984784036\t 0.681387807728051\t    \t    \n",
            "init\t [ 1.16193318  1.81727038  9.          0.79837265 19.          0.29965165]\t 0.7954413972964868\t 0.681387807728051\t    \t    \n",
            "\u001b[1m\u001b[92m1\u001b[0m\t \u001b[1m\u001b[92m[10. 10. 15.  1. 20.  1.]\u001b[0m\t \u001b[1m\u001b[92m0.6547874419782912\u001b[0m\t \u001b[1m\u001b[92m0.6547874419782912\u001b[0m\t \u001b[1m\u001b[92m4.490261388508174\u001b[0m\t \u001b[1m\u001b[92m4.3681701942462\u001b[0m\n",
            "2  \t [ 2.17907321  8.34965852  5.          0.91660625 18.          0.97349298]\t 0.7341430302765248\t 0.6547874419782912\t 5.002040325870812\t 5.070515900773083\n",
            "3  \t [ 9.82078709  9.9850326  13.          0.56249358  3.          0.74498359]\t 0.683685379651464\t 0.6547874419782912\t 4.680107608833176\t 4.650159454436582\n",
            "4  \t [9.65259502 5.7740337  5.         0.69028314 1.         0.90626847]\t 0.7326570250862032\t 0.6547874419782912\t 5.041694650811671\t 5.064835931973899\n",
            "5  \t [1.25559631 9.8394609  9.         0.52015567 2.         0.32958416]\t 0.8058953821841264\t 0.6547874419782912\t 4.592462069765025\t 4.485726923621604\n",
            "6  \t [ 9.90020282  3.3367177  10.          0.62203407  7.          0.71235234]\t 0.67907472219801\t 0.6547874419782912\t 4.5431787875207625\t 4.544634977948156\n",
            "7  \t [ 0.66591974  9.26661294 14.          0.96342421 18.          0.94909068]\t 0.6568524558078858\t 0.6547874419782912\t 5.1890570238601335\t 5.107938152340916\n",
            "8  \t [ 7.73753078  4.7386917  10.          0.75300372 18.          0.75097316]\t 0.6740149070019592\t 0.6547874419782912\t 5.060477762608834\t 5.1075541676575895\n",
            "9  \t [ 9.24652802  2.85452625  6.          0.82083864 14.          0.624768  ]\t 0.7397571279868462\t 0.6547874419782912\t 4.679238185004215\t 4.685225695755266\n",
            "10 \t [ 0.27081994  8.72536784 13.          0.81607342  8.          0.82891087]\t 0.6684024492575475\t 0.6547874419782912\t 4.431309959680761\t 4.402052784826639\n",
            "11 \t [4.59560507 9.66694693 5.         0.8652774  6.         0.90565092]\t 0.7323276592879555\t 0.6547874419782912\t 4.815593198775637\t 4.887575720553147\n",
            "12 \t [0.  0.  5.  0.5 1.  0.1]\t 0.8726019020039407\t 0.6547874419782912\t 4.85757059058576\t 4.804253292176325\n",
            "13 \t [ 6.62295179  6.77584978 14.          0.65936287 12.          0.50955919]\t 0.7009189105357144\t 0.6547874419782912\t 4.808359290179987\t 4.841143283623993\n",
            "14 \t [ 1.44915477  0.14257847  6.          0.52441016 14.          0.6286643 ]\t 0.7143733066956096\t 0.6547874419782912\t 5.263233142072173\t 5.134848757589304\n",
            "15 \t [ 9.80429676  9.59801315  7.          0.61168386 14.          0.66107461]\t 0.6949698710548621\t 0.6547874419782912\t 4.990108039868042\t 4.950317633993694\n",
            "16 \t [ 6.52098806  7.37654971 12.          0.62621853  7.          0.13475551]\t 0.8637260588745512\t 0.6547874419782912\t 4.552977547501476\t 4.532588851140266\n",
            "17 \t [0.81506126 0.56814432 5.         0.5118248  7.390786   0.1       ]\t 0.8728857058495552\t 0.6547874419782912\t 4.843498622887531\t 4.9359747216519665\n",
            "18 \t [ 2.30799756  7.36699425 12.          0.5719573  14.          0.13065153]\t 0.8641783079125256\t 0.6547874419782912\t 4.333059578184762\t 4.321372321400757\n",
            "19 \t [ 4.07173     8.95519099 14.          0.647596    2.          0.58797878]\t 0.7073319601685856\t 0.6547874419782912\t 5.025417956230913\t 5.1090661431757045\n",
            "20 \t [ 8.59076902  2.12489768 14.          0.94217664  7.          0.48489882]\t 0.779620799149445\t 0.6547874419782912\t 4.857895126598598\t 4.859024531119213\n",
            "21 \t [7.13284983 1.18470919 5.         0.63977211 3.         0.12223048]\t 0.8717594731267366\t 0.6547874419782912\t 4.590460890792307\t 4.357298525360795\n",
            "22 \t [ 5.52544267  3.27494755 14.          0.81226214 16.          0.89371273]\t 0.6639720259059373\t 0.6547874419782912\t 5.127132336351935\t 5.143555879379599\n",
            "23 \t [2.36161323 4.19936331 9.         0.73250204 1.         0.79018905]\t 0.680281465679196\t 0.6547874419782912\t 4.469069501202762\t 4.475475814407397\n",
            "24 \t [ 5.48814708  1.96120195 13.          0.89659682  1.          0.34125713]\t 0.7953122343367733\t 0.6547874419782912\t 5.005981690455461\t 4.9964424210501885\n",
            "25 \t [2.15304935 5.68296712 7.         0.50474377 7.         0.14577811]\t 0.8659386705475542\t 0.6547874419782912\t 4.7752962236201135\t 4.804905799368989\n",
            "26 \t [ 8.70315358  0.48555779  7.          0.66852423 19.          0.41281589]\t 0.7989791012517438\t 0.6547874419782912\t 4.83404243164111\t 4.873059973389501\n",
            "27 \t [ 8.92720117  4.31465286 13.          0.70553933  1.          0.75946259]\t 0.6817048020092698\t 0.6547874419782912\t 4.677470365730984\t 4.677470365730984\n",
            "28 \t [ 4.11831219  1.06523616 12.          0.63008078 16.          0.53873389]\t 0.7006937452963055\t 0.6547874419782912\t 5.193366609603908\t 5.193366609603908\n",
            "29 \t [ 6.25409576  9.66919464  9.          0.55640442 19.          0.48201317]\t 0.7923994561772171\t 0.6547874419782912\t 5.381304724145108\t 5.411198533702073\n",
            "30 \t [ 5.76132114  1.07764863  5.59110641  0.5        10.59110641  0.1       ]\t 0.8723710388153713\t 0.6547874419782912\t 5.0759964511879625\t 5.199978871594551\n"
          ]
        },
        {
          "output_type": "execute_result",
          "data": {
            "text/plain": [
              "48520.086007711776"
            ]
          },
          "metadata": {},
          "execution_count": 22
        }
      ]
    },
    {
      "cell_type": "code",
      "metadata": {
        "id": "-45l3NU4UNiI",
        "colab": {
          "base_uri": "https://localhost:8080/"
        },
        "outputId": "25ce7293-fa2d-4dcd-ebbb-b162a6362393"
      },
      "source": [
        "### Bayesian optimization runs (x20): 'Exact GP CBM' Acquisition Function run number = 3\n",
        "\n",
        "np.random.seed(run_num_3)\n",
        "surrogate_gp_3 = dGaussianProcess(cov_func, optimize=opt)\n",
        "\n",
        "X_train3, X_test3, y_train3, y_test3 = train_test_split(X, y, test_size=test_perc, random_state=run_num_3)\n",
        "\n",
        "def f_syn_polarity3(alpha, gamma, max_depth, subsample, min_child_weight, colsample):\n",
        "    reg = XGBRegressor(reg_alpha=alpha, gamma=gamma, max_depth=int(max_depth), subsample=subsample, min_child_weight=min_child_weight,\n",
        "          colsample_bytree=colsample, n_estimators = n_est, random_state=run_num_3, objective = 'reg:squarederror')\n",
        "    score = np.array(cross_val_score(reg, X=X_train3, y=y_train3).mean())\n",
        "    return operator * score\n",
        "\n",
        "gp_3 = dGPGO_gp(surrogate_gp_3, Acquisition_grad(util_gp), f_syn_polarity3, param, n_jobs = -1) # define BayesOpt\n",
        "gp_3.run(max_iter = max_iter, init_evals = n_init) # run\n",
        "\n",
        "### Return optimal parameters' set:\n",
        "params_gp_3 = gp_3.getResult()[0]\n",
        "params_gp_3['max_depth'] = int(params_gp_3['max_depth'])\n",
        "params_gp_3['min_child_weight'] = int(params_gp_3['min_child_weight'])\n",
        "\n",
        "### Re-train with optimal parameters, run predictons:\n",
        "dX_gp_train3 = xgb.DMatrix(X_train3, y_train3)\n",
        "dX_gp_test3 = xgb.DMatrix(X_test3, y_test3)\n",
        "model_gp_3 = xgb.train(params_gp_3, dX_gp_train3)\n",
        "pred_gp_3 = model_gp_3.predict(dX_gp_test3)\n",
        "\n",
        "rmse_gp_3 = np.sqrt(mean_squared_error(pred_gp_3, y_test3))\n",
        "rmse_gp_3"
      ],
      "execution_count": null,
      "outputs": [
        {
          "output_type": "stream",
          "name": "stdout",
          "text": [
            "Evaluation \t Proposed point \t  Current eval. \t  Best eval. \t         Max. ExactAcqFunc \t Max. ApproxAcqFunc \n",
            "init\t [ 5.50797903  7.08147823 13.          0.56066429 11.          0.11687321]\t 1.0213644638508028\t 0.7688389438662246\t    \t    \n",
            "init\t [ 0.40630737  2.47888297 11.          0.72040492 13.          0.23083313]\t 1.022822678309975\t 0.7688389438662246\t    \t    \n",
            "init\t [ 4.53172301  2.15577008 11.          0.74631796  2.          0.60296868]\t 0.7688389438662246\t 0.7688389438662246\t    \t    \n",
            "init\t [ 2.59252447  4.15101197 13.          0.79330998  8.          0.24118096]\t 1.0239688135226253\t 0.7688389438662246\t    \t    \n",
            "init\t [ 5.44649018  7.80314765 10.          0.62879264 18.          0.44917413]\t 0.8703298117399682\t 0.7688389438662246\t    \t    \n",
            "1  \t [ 4.57686399  8.60533913  5.          0.93553602 12.          0.35017976]\t 0.9903445707071453\t 0.7688389438662246\t 4.758979073179226\t 4.69788245575587\n",
            "\u001b[1m\u001b[92m2\u001b[0m\t \u001b[1m\u001b[92m[7.88832343 8.95739531 8.         0.70911141 2.         0.87634458]\u001b[0m\t \u001b[1m\u001b[92m0.6938092267899838\u001b[0m\t \u001b[1m\u001b[92m0.6938092267899838\u001b[0m\t \u001b[1m\u001b[92m4.712601392155939\u001b[0m\t \u001b[1m\u001b[92m4.668435904836886\u001b[0m\n",
            "3  \t [4.47677412 5.05596963 6.         0.77295773 5.         0.95873323]\t 0.7169387303226469\t 0.6938092267899838\t 5.291004477853178\t 5.294127400291552\n",
            "4  \t [ 6.69378835  1.1746468   5.          0.75549171 16.          0.73450657]\t 0.7722220514333056\t 0.6938092267899838\t 5.002506488648317\t 4.930949106453035\n",
            "5  \t [ 0.24010242  9.80847714 13.          0.63702721  3.          0.56729929]\t 0.7723921954821745\t 0.6938092267899838\t 4.661296007521837\t 4.644515811075891\n",
            "\u001b[1m\u001b[92m6\u001b[0m\t \u001b[1m\u001b[92m[ 9.48771786  3.57791816 15.          1.          5.05990926  1.        ]\u001b[0m\t \u001b[1m\u001b[92m0.6525687833366302\u001b[0m\t \u001b[1m\u001b[92m0.6525687833366302\u001b[0m\t \u001b[1m\u001b[92m4.726466255257997\u001b[0m\t \u001b[1m\u001b[92m4.701803903928425\u001b[0m\n",
            "7  \t [6.87752707 0.15955299 8.         0.55138154 9.         0.67263073]\t 0.7372222724588662\t 0.6525687833366302\t 5.024970478212809\t 4.988194794542723\n",
            "8  \t [1.32710451 9.31408284 5.         0.83446011 3.         0.89210195]\t 0.7368197289369623\t 0.6525687833366302\t 4.4623823991276765\t 4.435860628258038\n",
            "9  \t [10. 10. 15.  1. 20.  1.]\t 0.6548396524742095\t 0.6525687833366302\t 5.045303903244148\t 4.825569842785269\n",
            "10 \t [ 8.44289655  0.57103551 12.          0.84075455 17.          0.88566746]\t 0.6798132840292306\t 0.6525687833366302\t 5.1464314374548294\t 5.099361116871689\n",
            "11 \t [9.16522925 3.01199498 6.         0.84622621 2.         0.15596669]\t 1.0269718898544153\t 0.6525687833366302\t 4.842566623319988\t 4.886442824564458\n",
            "12 \t [ 7.36281279  7.66763777  8.          0.59948159 13.          0.98370581]\t 0.6998375974069359\t 0.6525687833366302\t 4.995762197453587\t 4.995762197453587\n",
            "13 \t [ 6.79447642  1.68451162 13.          0.84859128 12.          0.28425267]\t 0.9785306475319395\t 0.6525687833366302\t 4.900080793441247\t 4.969322935439221\n",
            "14 \t [ 0.68308523  3.05829619  5.          0.71250074 17.          0.5517841 ]\t 0.8061350962237561\t 0.6525687833366302\t 4.355518230109882\t 4.362212446853481\n",
            "15 \t [0.  0.  5.  0.5 1.  0.1]\t 1.0276382267404158\t 0.6525687833366302\t 4.977650549529254\t 4.966753533458161\n",
            "16 \t [ 9.86273212  5.79963604 13.          0.69696961 16.          0.70097151]\t 0.7296642769414492\t 0.6525687833366302\t 5.2162443641818115\t 5.222799152555198\n",
            "17 \t [ 9.40129426  8.85637698 13.          0.72340176  7.          0.76030308]\t 0.7059876882234674\t 0.6525687833366302\t 4.615222886976053\t 4.573765547108619\n",
            "18 \t [1.14934749 1.30310631 7.         0.60930428 6.         0.86412796]\t 0.7189871901849552\t 0.6525687833366302\t 5.1540652323191605\t 5.04191919828984\n",
            "19 \t [ 2.58261481  1.43735307 13.          0.73828328 19.          0.96017932]\t 0.6819322162402592\t 0.6525687833366302\t 5.170385137039592\t 5.158422876888964\n",
            "20 \t [ 1.06084272  8.60821489 11.          0.60672694  9.          0.40602348]\t 0.8723133504012892\t 0.6525687833366302\t 5.01799469651794\t 4.9385350550324745\n",
            "21 \t [ 9.83060339  5.43479292  5.          0.93965116 19.          0.81693736]\t 0.7430400763458248\t 0.6525687833366302\t 4.58734731175938\t 4.5930614245731585\n",
            "22 \t [ 0.7793921   8.87321184 14.          0.62565306 14.          0.27955137]\t 0.9804360243561806\t 0.6525687833366302\t 5.197238402174729\t 5.184480195858541\n",
            "23 \t [ 1.88355751  3.72198107  6.          0.67898342 12.          0.15252662]\t 1.0277162438428806\t 0.6525687833366302\t 4.943673515450973\t 4.98186438011085\n",
            "24 \t [ 1.7900993   9.8557373   9.          0.54156619 14.          0.32411954]\t 0.9770854174118455\t 0.6525687833366302\t 4.796348837766165\t 4.906065525536641\n",
            "25 \t [7.04836549 4.50704597 9.         0.81696224 8.         0.24681977]\t 1.0224075228339722\t 0.6525687833366302\t 4.557324417588517\t 4.488310854056057\n",
            "26 \t [ 9.66834755 10.         15.          1.         13.13891046  1.        ]\t 0.6529787875483413\t 0.6525687833366302\t 4.9003425526505895\t 4.895418969511478\n",
            "27 \t [ 4.44833713  9.863683   14.          0.95372572  1.          0.28251319]\t 0.9921458084449043\t 0.6525687833366302\t 4.835995641082418\t 4.8142171648365215\n",
            "28 \t [5.21300134 0.08265837 5.         0.5        2.1844141  0.1       ]\t 1.0276634056703216\t 0.6525687833366302\t 4.624640212873074\t 4.715771166658446\n",
            "29 \t [10.          5.06134497 10.10080726  1.         20.          1.        ]\t 0.6610291923202357\t 0.6525687833366302\t 4.785816656230873\t 4.720230570483103\n",
            "30 \t [ 0.56213381  4.41770035 10.          0.6803733   4.          0.67199979]\t 0.7355552741037803\t 0.6525687833366302\t 4.59898893807235\t 4.639384751727683\n"
          ]
        },
        {
          "output_type": "execute_result",
          "data": {
            "text/plain": [
              "47903.28477519841"
            ]
          },
          "metadata": {},
          "execution_count": 23
        }
      ]
    },
    {
      "cell_type": "code",
      "metadata": {
        "id": "voPfk1UDUQU0",
        "colab": {
          "base_uri": "https://localhost:8080/"
        },
        "outputId": "2e387043-6c27-4f75-94f5-446b38e996ba"
      },
      "source": [
        "### Bayesian optimization runs (x20): 'Exact GP CBM' Acquisition Function run number = 4\n",
        "\n",
        "np.random.seed(run_num_4)\n",
        "surrogate_gp_4 = dGaussianProcess(cov_func, optimize=opt)\n",
        "\n",
        "X_train4, X_test4, y_train4, y_test4 = train_test_split(X, y, test_size=test_perc, random_state=run_num_4)\n",
        "\n",
        "def f_syn_polarity4(alpha, gamma, max_depth, subsample, min_child_weight, colsample):\n",
        "    reg = XGBRegressor(reg_alpha=alpha, gamma=gamma, max_depth=int(max_depth), subsample=subsample, min_child_weight=min_child_weight,\n",
        "          colsample_bytree=colsample, n_estimators = n_est, random_state=run_num_4, objective = 'reg:squarederror')\n",
        "    score = np.array(cross_val_score(reg, X=X_train4, y=y_train4).mean())\n",
        "    return operator * score\n",
        "\n",
        "gp_4 = dGPGO_gp(surrogate_gp_4, Acquisition_grad(util_gp), f_syn_polarity4, param, n_jobs = -1) # define BayesOpt\n",
        "gp_4.run(max_iter = max_iter, init_evals = n_init) # run\n",
        "\n",
        "### Return optimal parameters' set:\n",
        "params_gp_4 = gp_4.getResult()[0]\n",
        "params_gp_4['max_depth'] = int(params_gp_4['max_depth'])\n",
        "params_gp_4['min_child_weight'] = int(params_gp_4['min_child_weight'])\n",
        "\n",
        "### Re-train with optimal parameters, run predictons:\n",
        "dX_gp_train4 = xgb.DMatrix(X_train4, y_train4)\n",
        "dX_gp_test4 = xgb.DMatrix(X_test4, y_test4)\n",
        "model_gp_4 = xgb.train(params_gp_4, dX_gp_train4)\n",
        "pred_gp_4 = model_gp_4.predict(dX_gp_test4)\n",
        "\n",
        "rmse_gp_4 = np.sqrt(mean_squared_error(pred_gp_4, y_test4))\n",
        "rmse_gp_4"
      ],
      "execution_count": null,
      "outputs": [
        {
          "output_type": "stream",
          "name": "stdout",
          "text": [
            "Evaluation \t Proposed point \t  Current eval. \t  Best eval. \t         Max. ExactAcqFunc \t Max. ApproxAcqFunc \n",
            "init\t [9.67029839 5.47232249 6.         0.92781047 9.         0.72795594]\t 0.7356156069458683\t 0.6641721421409617\t    \t    \n",
            "init\t [ 2.16089496  9.76274455 12.          0.62649118  9.          0.66966679]\t 0.7070759857649549\t 0.6641721421409617\t    \t    \n",
            "init\t [ 0.05159149  5.72356491  9.          0.99170034 10.          0.10808749]\t 0.9423811784101735\t 0.6641721421409617\t    \t    \n",
            "init\t [ 3.86571283  0.44160058 10.          0.90553105 18.          0.95407958]\t 0.6641721421409617\t 0.6641721421409617\t    \t    \n",
            "init\t [ 7.86305986  8.66289299  6.          0.53285477 14.          0.25117497]\t 0.8244425146132294\t 0.6641721421409617\t    \t    \n",
            "1  \t [ 8.45443649  8.61014312 11.          0.83475494  1.          0.14018305]\t 0.9441431878307984\t 0.6641721421409617\t 4.823584273836064\t 4.849518981636656\n",
            "2  \t [ 0.90674561  6.32290535 11.          0.94435129  1.          0.40346185]\t 0.7807426885653221\t 0.6641721421409617\t 4.8572900290579915\t 4.837013198196181\n",
            "3  \t [ 1.20931261  6.80689034  9.          0.92011951 17.          0.30723956]\t 0.8166403766735346\t 0.6641721421409617\t 4.9179842129754645\t 4.9142197731895685\n",
            "4  \t [6.09263548 1.21260536 9.         0.98871171 4.         0.70734523]\t 0.702922445815302\t 0.6641721421409617\t 5.350009646743988\t 5.418710725203182\n",
            "\u001b[1m\u001b[92m5\u001b[0m\t \u001b[1m\u001b[92m[10. 10. 15.  1. 20.  1.]\u001b[0m\t \u001b[1m\u001b[92m0.6437292534451688\u001b[0m\t \u001b[1m\u001b[92m0.6437292534451688\u001b[0m\t \u001b[1m\u001b[92m4.835000952683853\u001b[0m\t \u001b[1m\u001b[92m4.681004698368733\u001b[0m\n",
            "6  \t [ 9.52993971  0.33702013  5.          0.64331783 18.          0.12071935]\t 0.9390440646887555\t 0.6437292534451688\t 4.933312176011368\t 4.889781166619152\n",
            "7  \t [ 4.78239078  2.50215387 14.          0.69422942 12.          0.74303412]\t 0.7026919855148966\t 0.6437292534451688\t 4.651313661891175\t 4.678793028056755\n",
            "8  \t [2.27858743 6.23199766 5.         0.58705984 2.         0.80794289]\t 0.7541323112332569\t 0.6437292534451688\t 4.598980907604735\t 4.651674955190194\n",
            "9  \t [0.  0.  5.  0.5 1.  0.1]\t 0.9408999252070572\t 0.6437292534451688\t 4.607443263124455\t 4.60153091920198\n",
            "10 \t [ 9.3450382   8.82768787 11.          0.76868692  7.          0.8502727 ]\t 0.6886255429382424\t 0.6437292534451688\t 5.204080409782775\t 5.247548084265382\n",
            "11 \t [ 9.65147322  0.33792642 12.          0.92327424 17.          0.84355403]\t 0.681769217592037\t 0.6437292534451688\t 4.770533852458595\t 4.8022906876335245\n",
            "12 \t [ 8.48843563  0.37785156 11.          0.83297408  1.          0.855572  ]\t 0.6923205913979871\t 0.6437292534451688\t 4.895696643504746\t 4.895696643504746\n",
            "13 \t [0.69118951 0.05924245 6.         0.53870729 9.         0.9249957 ]\t 0.7094683558071616\t 0.6437292534451688\t 5.1340513983339\t 5.1050138072340925\n",
            "14 \t [ 8.80115023  0.9731531  12.          0.74454518  8.          0.98529907]\t 0.6631979339057104\t 0.6437292534451688\t 4.658237122594038\t 4.646449529865512\n",
            "15 \t [9.41541409 7.69245319 5.         0.52626745 1.         0.60186246]\t 0.7682434061303821\t 0.6437292534451688\t 4.590622328946746\t 4.589120698852958\n",
            "16 \t [ 1.59376327  9.3637724   5.          0.56698742 13.          0.29635446]\t 0.8312840491127815\t 0.6437292534451688\t 4.846703513957288\t 4.807442172139214\n",
            "17 \t [ 5.06744175  4.49053918 14.          0.66443905 19.          0.12165765]\t 0.9418957117193069\t 0.6437292534451688\t 5.069311778570967\t 5.101369668878614\n",
            "18 \t [ 6.5341517 10.        11.3275343  1.        16.3275343  1.       ]\t 0.6445807725971372\t 0.6437292534451688\t 4.578147908572246\t 4.588708453632601\n",
            "19 \t [ 7.38805311  3.2889511   9.          0.96164384 12.          0.26669832]\t 0.8179704798095913\t 0.6437292534451688\t 4.809676014344003\t 4.798109773602745\n",
            "20 \t [ 7.97119076  8.60858359  5.          0.89580835 19.          0.23533594]\t 0.9392342883690045\t 0.6437292534451688\t 4.592969541661885\t 4.4912000491214075\n",
            "21 \t [ 2.53595099  3.58249861 14.          0.85804634  5.          0.53784435]\t 0.7147790736420511\t 0.6437292534451688\t 4.545301404997457\t 4.578646748326348\n",
            "22 \t [ 0.34343537  0.75830465 14.          0.57372847 18.          0.51234475]\t 0.7152925670973206\t 0.6437292534451688\t 4.918872150525021\t 4.940444859820069\n",
            "23 \t [4.54498845 4.73987501 6.         0.7658368  6.         0.15012886]\t 0.9412996363676764\t 0.6437292534451688\t 4.759128801049681\t 4.759128801049681\n",
            "24 \t [4.14031595 9.74303651 8.         0.64648684 4.         0.90875697]\t 0.6785656397479644\t 0.6437292534451688\t 4.467297317087782\t 4.443492180465321\n",
            "25 \t [9.14387233 8.82409497 7.         0.87227821 8.         0.52464991]\t 0.73021361391417\t 0.6437292534451688\t 4.444865507334132\t 4.443429420223106\n",
            "\u001b[1m\u001b[92m26\u001b[0m\t \u001b[1m\u001b[92m[10.          5.5290222  15.          1.          9.02430588  1.        ]\u001b[0m\t \u001b[1m\u001b[92m0.6420895464196169\u001b[0m\t \u001b[1m\u001b[92m0.6420895464196169\u001b[0m\t \u001b[1m\u001b[92m4.8041683965266095\u001b[0m\t \u001b[1m\u001b[92m4.856651860513539\u001b[0m\n",
            "27 \t [ 2.71752202  3.17424325  5.          0.5        14.56611322  0.1       ]\t 0.9400240678270932\t 0.6420895464196169\t 5.4906072824696635\t 5.5450740573886605\n",
            "28 \t [ 5.66588054  7.91454523 11.          0.93003188 12.          0.45330688]\t 0.7712523815321525\t 0.6420895464196169\t 4.668765680945186\t 4.632666242976658\n",
            "29 \t [ 9.90871158 10.         15.          1.         11.72692394  1.        ]\t 0.6432825179326151\t 0.6420895464196169\t 4.9150030131884765\t 4.814123345545312\n",
            "30 \t [ 8.96815261  3.85879208  8.84501922  1.         19.84501922  1.        ]\t 0.6627353729946039\t 0.6420895464196169\t 5.075378335105878\t 5.071068097113343\n"
          ]
        },
        {
          "output_type": "execute_result",
          "data": {
            "text/plain": [
              "49143.54554150723"
            ]
          },
          "metadata": {},
          "execution_count": 24
        }
      ]
    },
    {
      "cell_type": "code",
      "metadata": {
        "id": "8kEnTd7MUdlv",
        "colab": {
          "base_uri": "https://localhost:8080/"
        },
        "outputId": "37d68f3a-4a3c-4753-c372-185e3a54ec48"
      },
      "source": [
        "### Bayesian optimization runs (x20): 'Exact GP CBM' Acquisition Function run number = 5\n",
        "\n",
        "np.random.seed(run_num_5)\n",
        "surrogate_gp_5 = dGaussianProcess(cov_func, optimize=opt)\n",
        "\n",
        "X_train5, X_test5, y_train5, y_test5 = train_test_split(X, y, test_size=test_perc, random_state=run_num_5)\n",
        "\n",
        "def f_syn_polarity5(alpha, gamma, max_depth, subsample, min_child_weight, colsample):\n",
        "    reg = XGBRegressor(reg_alpha=alpha, gamma=gamma, max_depth=int(max_depth), subsample=subsample, min_child_weight=min_child_weight,\n",
        "          colsample_bytree=colsample, n_estimators = n_est, random_state=run_num_5, objective = 'reg:squarederror')\n",
        "    score = np.array(cross_val_score(reg, X=X_train5, y=y_train5).mean())\n",
        "    return operator * score\n",
        "\n",
        "gp_5 = dGPGO_gp(surrogate_gp_5, Acquisition_grad(util_gp), f_syn_polarity5, param, n_jobs = -1) # define BayesOpt\n",
        "gp_5.run(max_iter = max_iter, init_evals = n_init) # run\n",
        "\n",
        "### Return optimal parameters' set:\n",
        "params_gp_5 = gp_5.getResult()[0]\n",
        "params_gp_5['max_depth'] = int(params_gp_5['max_depth'])\n",
        "params_gp_5['min_child_weight'] = int(params_gp_5['min_child_weight'])\n",
        "\n",
        "### Re-train with optimal parameters, run predictons:\n",
        "dX_gp_train5 = xgb.DMatrix(X_train5, y_train5)\n",
        "dX_gp_test5 = xgb.DMatrix(X_test5, y_test5)\n",
        "model_gp_5 = xgb.train(params_gp_5, dX_gp_train5)\n",
        "pred_gp_5 = model_gp_5.predict(dX_gp_test5)\n",
        "\n",
        "rmse_gp_5 = np.sqrt(mean_squared_error(pred_gp_5, y_test5))\n",
        "rmse_gp_5"
      ],
      "execution_count": null,
      "outputs": [
        {
          "output_type": "stream",
          "name": "stdout",
          "text": [
            "Evaluation \t Proposed point \t  Current eval. \t  Best eval. \t         Max. ExactAcqFunc \t Max. ApproxAcqFunc \n",
            "init\t [ 2.21993171  8.70732306 11.          0.68186845 10.          0.53957007]\t 0.7403320965261992\t 0.7403320965261992\t    \t    \n",
            "init\t [ 6.11743863  7.65907856  5.          0.64840025 16.          0.82745351]\t 0.7493104333264211\t 0.7403320965261992\t    \t    \n",
            "init\t [ 6.49458883  8.19472793  6.          0.93996852 19.          0.36647194]\t 0.9342492295788805\t 0.7403320965261992\t    \t    \n",
            "init\t [ 6.28787909  5.7983781   6.          0.63290956 17.          0.18402673]\t 0.939514214921639\t 0.7403320965261992\t    \t    \n",
            "init\t [8.26554249 8.33492742 9.         0.97900675 3.         0.26957319]\t 0.921290745787579\t 0.7403320965261992\t    \t    \n",
            "1  \t [1.95474956 1.21548467 5.         0.65548996 6.         0.3261206 ]\t 0.9436861715841889\t 0.7403320965261992\t 4.776358850888028\t 4.768912156354352\n",
            "2  \t [ 3.90043826  0.30059527 11.          0.95660877 13.          0.16396145]\t 0.9276450520884063\t 0.7403320965261992\t 4.954861699240723\t 4.935293435386994\n",
            "\u001b[1m\u001b[92m3\u001b[0m\t \u001b[1m\u001b[92m[ 1.89102498  3.81201457 14.          0.79693323  4.          0.52365093]\u001b[0m\t \u001b[1m\u001b[92m0.7398148307506893\u001b[0m\t \u001b[1m\u001b[92m0.7398148307506893\u001b[0m\t \u001b[1m\u001b[92m4.485503673638533\u001b[0m\t \u001b[1m\u001b[92m4.516606018080914\u001b[0m\n",
            "4  \t [ 8.98063632  2.97885127  9.          0.64249728 18.          0.16342995]\t 0.9276698902289097\t 0.7398148307506893\t 4.901271648809893\t 4.901271648809893\n",
            "\u001b[1m\u001b[92m5\u001b[0m\t \u001b[1m\u001b[92m[ 7.2080363   0.14020863 14.          0.70262402  1.          0.81354205]\u001b[0m\t \u001b[1m\u001b[92m0.6989575443158274\u001b[0m\t \u001b[1m\u001b[92m0.6989575443158274\u001b[0m\t \u001b[1m\u001b[92m5.1017399391616856\u001b[0m\t \u001b[1m\u001b[92m4.825107114394302\u001b[0m\n",
            "\u001b[1m\u001b[92m6\u001b[0m\t \u001b[1m\u001b[92m[10.          9.10264912 14.72032855  1.         20.          1.        ]\u001b[0m\t \u001b[1m\u001b[92m0.6465555412981011\u001b[0m\t \u001b[1m\u001b[92m0.6465555412981011\u001b[0m\t \u001b[1m\u001b[92m4.712956394776093\u001b[0m\t \u001b[1m\u001b[92m4.642398086117449\u001b[0m\n",
            "7  \t [4.37003348 9.87890289 5.         0.65374913 7.         0.62009063]\t 0.8160533272968584\t 0.6465555412981011\t 4.784059544454598\t 4.722333431589952\n",
            "8  \t [ 2.68679241  7.25440098 14.          0.65390023 17.          0.99358304]\t 0.6747588495441635\t 0.6465555412981011\t 4.5675655615116355\t 4.515127699822753\n",
            "9  \t [ 9.58792626  8.48977785 13.          0.60628176  9.          0.18518956]\t 0.9277423136052668\t 0.6465555412981011\t 5.27588303115447\t 5.29237222406225\n",
            "10 \t [ 6.97752806  2.98678749 10.          0.57146948  7.          0.9882264 ]\t 0.6796390241442563\t 0.6465555412981011\t 4.7772139531544\t 4.733112429895088\n",
            "11 \t [ 9.88162042  4.98501997  7.          0.71514689 11.          0.88825005]\t 0.6938260252917123\t 0.6465555412981011\t 5.098623109031287\t 4.9198877267822985\n",
            "12 \t [ 1.24947698  9.04398434 11.          0.51619206  1.          0.25149054]\t 0.938747258179798\t 0.6465555412981011\t 4.96104985436385\t 4.975771089317998\n",
            "13 \t [4.29434972 2.01082809 8.         0.64047641 1.         0.68777935]\t 0.7130088179210804\t 0.6465555412981011\t 5.262939672440144\t 5.169941946392001\n",
            "14 \t [ 1.07015143  3.42246657  5.          0.5        14.46053506  0.1       ]\t 0.9483182030742092\t 0.6465555412981011\t 4.427915411234244\t 4.649531633655013\n",
            "15 \t [ 1.02937954  1.87162456 12.          0.80403735 18.          0.49076122]\t 0.779444839237101\t 0.6465555412981011\t 4.659643532718384\t 4.602846736806641\n",
            "16 \t [ 9.85923825  0.4401096  14.          0.51176114 16.          0.65114761]\t 0.7072532974379651\t 0.6465555412981011\t 5.083090381658903\t 4.941027902688204\n",
            "17 \t [ 1.11081165  8.62779853  7.          0.59553888 14.          0.69059047]\t 0.7236698467146807\t 0.6465555412981011\t 5.108545352518265\t 4.96508562191112\n",
            "18 \t [ 6.81824956  0.34511024  6.          0.68216555 12.          0.49718858]\t 0.8156900149703201\t 0.6465555412981011\t 5.2218591373141\t 5.281962850506148\n",
            "19 \t [6.1008886  6.23991852 5.         0.5        1.         0.1       ]\t 0.9489321115478966\t 0.6465555412981011\t 4.852448026214554\t 4.732478466420014\n",
            "20 \t [ 2.93448298  5.80717368  5.          0.89608154 19.          0.6387738 ]\t 0.7616619440927369\t 0.6465555412981011\t 4.695331378991879\t 4.697335258745872\n",
            "21 \t [ 0.65715018  0.68213825 10.35590945  0.5         8.35590945  0.1       ]\t 0.9303219238058054\t 0.6465555412981011\t 4.917079142130951\t 4.822715348084031\n",
            "22 \t [ 4.48662037  8.13739253 15.          1.          5.02004733  1.        ]\t 0.6473603944753747\t 0.6465555412981011\t 4.925876562776027\t 4.889067917707197\n",
            "23 \t [ 0.14337166  3.83051228 13.          0.67084469 13.          0.27589041]\t 0.9247196191844409\t 0.6465555412981011\t 5.2074417327368625\t 5.25010474394211\n",
            "24 \t [0.  0.  5.  0.5 1.  0.1]\t 0.9489319500726727\t 0.6465555412981011\t 4.784979001697016\t 4.72853830312974\n",
            "25 \t [ 7.8290944   6.65463898 14.          0.74840184 15.          0.9196642 ]\t 0.6715421819709559\t 0.6465555412981011\t 4.905739517351535\t 4.6753796964743355\n",
            "26 \t [10.          8.17895022  8.90346398  1.         15.90346398  1.        ]\t 0.6630337577107737\t 0.6465555412981011\t 4.983885946477392\t 5.06613685212192\n",
            "27 \t [0.         7.3454689  7.26611225 0.5        7.26611225 0.1       ]\t 0.9330522293068235\t 0.6465555412981011\t 5.200203050060568\t 5.238840232315494\n",
            "28 \t [9.64880583 0.85455793 9.         0.80366346 1.         0.54097439]\t 0.7473671119907898\t 0.6465555412981011\t 4.838695663283194\t 4.931774081386259\n",
            "29 \t [10.         10.         13.97702171  1.          2.97702171  1.        ]\t 0.6487055825319914\t 0.6465555412981011\t 4.823078680350434\t 5.0495550625390715\n",
            "30 \t [8.33659961 0.         6.23410308 0.5        6.23410308 0.1       ]\t 0.9404086624038793\t 0.6465555412981011\t 4.8478104178926325\t 4.758693120866052\n"
          ]
        },
        {
          "output_type": "execute_result",
          "data": {
            "text/plain": [
              "49468.85892012615"
            ]
          },
          "metadata": {},
          "execution_count": 25
        }
      ]
    },
    {
      "cell_type": "code",
      "metadata": {
        "id": "OjVSH6caUgyy",
        "colab": {
          "base_uri": "https://localhost:8080/"
        },
        "outputId": "009cf65f-422d-4306-c046-3331371b7832"
      },
      "source": [
        "### Bayesian optimization runs (x20): 'Exact GP CBM' Acquisition Function run number = 6\n",
        "\n",
        "np.random.seed(run_num_6)\n",
        "surrogate_gp_6 = dGaussianProcess(cov_func, optimize=opt)\n",
        "\n",
        "X_train6, X_test6, y_train6, y_test6 = train_test_split(X, y, test_size=test_perc, random_state=run_num_6)\n",
        "\n",
        "def f_syn_polarity6(alpha, gamma, max_depth, subsample, min_child_weight, colsample):\n",
        "    reg = XGBRegressor(reg_alpha=alpha, gamma=gamma, max_depth=int(max_depth), subsample=subsample, min_child_weight=min_child_weight,\n",
        "          colsample_bytree=colsample, n_estimators = n_est, random_state=run_num_6, objective = 'reg:squarederror')\n",
        "    score = np.array(cross_val_score(reg, X=X_train6, y=y_train6).mean())\n",
        "    return operator * score\n",
        "\n",
        "gp_6 = dGPGO_gp(surrogate_gp_6, Acquisition_grad(util_gp), f_syn_polarity6, param, n_jobs = -1) # define BayesOpt\n",
        "gp_6.run(max_iter = max_iter, init_evals = n_init) # run\n",
        "\n",
        "### Return optimal parameters' set:\n",
        "params_gp_6 = gp_6.getResult()[0]\n",
        "params_gp_6['max_depth'] = int(params_gp_6['max_depth'])\n",
        "params_gp_6['min_child_weight'] = int(params_gp_6['min_child_weight'])\n",
        "\n",
        "### Re-train with optimal parameters, run predictons:\n",
        "dX_gp_train6 = xgb.DMatrix(X_train6, y_train6)\n",
        "dX_gp_test6 = xgb.DMatrix(X_test6, y_test6)\n",
        "model_gp_6 = xgb.train(params_gp_6, dX_gp_train6)\n",
        "pred_gp_6 = model_gp_6.predict(dX_gp_test6)\n",
        "\n",
        "rmse_gp_6 = np.sqrt(mean_squared_error(pred_gp_6, y_test6))\n",
        "rmse_gp_6"
      ],
      "execution_count": null,
      "outputs": [
        {
          "output_type": "stream",
          "name": "stdout",
          "text": [
            "Evaluation \t Proposed point \t  Current eval. \t  Best eval. \t         Max. ExactAcqFunc \t Max. ApproxAcqFunc \n",
            "init\t [8.92860151 3.31979805 5.         0.99251441 2.         0.57683563]\t 0.8597082353696148\t 0.7312157182363477\t    \t    \n",
            "init\t [4.18807429 3.35407849 9.         0.87750649 3.         0.56623277]\t 0.8283267033366734\t 0.7312157182363477\t    \t    \n",
            "init\t [ 5.788586    6.45355096 14.          0.70660047 12.          0.82154882]\t 0.7312157182363477\t 0.7312157182363477\t    \t    \n",
            "init\t [4.58184578 6.73834679 5.         0.90108528 3.         0.65482895]\t 0.835804847353631\t 0.7312157182363477\t    \t    \n",
            "init\t [ 4.42510505  5.75952352 14.          0.97882365 15.          0.29525604]\t 1.0201879064028692\t 0.7312157182363477\t    \t    \n",
            "1  \t [ 2.83859384  1.8954219   7.          0.66740302 13.          0.2701964 ]\t 1.019213535386702\t 0.7312157182363477\t 4.486126289118232\t 4.47770841599493\n",
            "2  \t [ 8.38264396  7.97650716 14.          0.82584689  4.          0.25017455]\t 1.0290226001513474\t 0.7312157182363477\t 4.839877706719176\t 4.764917368587384\n",
            "3  \t [8.90357673 8.23982464 5.         0.66456142 9.         0.34395649]\t 1.0228902128409325\t 0.7312157182363477\t 5.079092871520737\t 5.1253263962040645\n",
            "\u001b[1m\u001b[92m4\u001b[0m\t \u001b[1m\u001b[92m[10. 10. 15.  1. 20.  1.]\u001b[0m\t \u001b[1m\u001b[92m0.6519505196682808\u001b[0m\t \u001b[1m\u001b[92m0.6519505196682808\u001b[0m\t \u001b[1m\u001b[92m4.934463449749865\u001b[0m\t \u001b[1m\u001b[92m4.797284047727896\u001b[0m\n",
            "5  \t [ 0.84801146  1.44124026 14.          0.54887437  7.          0.93547384]\t 0.6939533330723558\t 0.6519505196682808\t 4.855277149726008\t 4.926715008408522\n",
            "6  \t [ 8.37754293  7.69636444  8.          0.98881796 16.          0.46623185]\t 0.9234519385526558\t 0.6519505196682808\t 4.737136932874284\t 4.57575574709085\n",
            "7  \t [ 0.5654966   9.52584762 14.          0.82016688  4.          0.10717254]\t 1.0610911324495744\t 0.6519505196682808\t 4.89020659446719\t 4.939903084585241\n",
            "8  \t [ 6.75909949  0.94220097  9.          0.71741448 19.          0.94972086]\t 0.6895189879978737\t 0.6519505196682808\t 4.816991607546529\t 4.909448138126373\n",
            "9  \t [ 1.43292764  9.31823681  5.          0.51738676 10.          0.30600768]\t 1.0250396556181756\t 0.6519505196682808\t 4.6499459281632785\t 4.631242345587771\n",
            "10 \t [ 0.09135886  8.11961466 10.          0.74013552 12.          0.97362941]\t 0.6832941408312798\t 0.6519505196682808\t 4.767740006890268\t 4.758232656341914\n",
            "11 \t [0.  0.  5.  0.5 1.  0.1]\t 1.0641944470930125\t 0.6519505196682808\t 4.46352201039867\t 4.5279114232222915\n",
            "12 \t [ 2.98453858  8.8700865   6.          0.73955182 19.          0.28620498]\t 1.0180101584031926\t 0.6519505196682808\t 4.907901145371327\t 4.899029578983029\n",
            "13 \t [ 8.10242703  1.00723999  8.          0.85100455 12.          0.45856376]\t 0.9258125865874908\t 0.6519505196682808\t 4.5173898480955765\t 4.530877296266843\n",
            "14 \t [9.89801174 9.77563967 9.         0.68555662 3.         0.83921118]\t 0.73813303625317\t 0.6519505196682808\t 5.144156803291448\t 5.113167048896702\n",
            "15 \t [ 0.50127522  1.94924928 11.          0.89270197 19.          0.91286914]\t 0.6768798166626013\t 0.6519505196682808\t 5.266558228277403\t 5.251879882261436\n",
            "16 \t [ 7.61299111  2.26128634 14.          0.96291638  9.          0.36475064]\t 1.0230023185305606\t 0.6519505196682808\t 4.335702137351024\t 4.4476371533448935\n",
            "17 \t [5.45577791 0.01600384 5.         0.68033296 5.         0.47973584]\t 0.9614697348345509\t 0.6519505196682808\t 4.74737117792227\t 4.736110723979655\n",
            "18 \t [0.75190021 2.99821111 7.         0.73112778 8.         0.11979456]\t 1.060673835734707\t 0.6519505196682808\t 4.623375381541291\t 4.623706323571972\n",
            "19 \t [ 5.98453698  2.00451687 13.          0.80337068 13.          0.24875337]\t 1.0599380721478096\t 0.6519505196682808\t 4.951028142966822\t 4.951028142966822\n",
            "\u001b[1m\u001b[92m20\u001b[0m\t \u001b[1m\u001b[92m[10.         10.         15.          1.         10.94369947  1.        ]\u001b[0m\t \u001b[1m\u001b[92m0.6499177222164608\u001b[0m\t \u001b[1m\u001b[92m0.6499177222164608\u001b[0m\t \u001b[1m\u001b[92m5.148590504308855\u001b[0m\t \u001b[1m\u001b[92m5.065210192792071\u001b[0m\n",
            "21 \t [4.70222718 7.76335614 9.         0.92367012 9.         0.28724782]\t 1.0152545517792837\t 0.6499177222164608\t 4.995340837890142\t 4.923454102474975\n",
            "22 \t [ 0.15151883  3.04875397  5.          0.61495161 19.          0.79420245]\t 0.7938992290953346\t 0.6499177222164608\t 4.666373218995151\t 4.675604634861422\n",
            "23 \t [0.09752792 7.56070281 9.         0.95937939 3.         0.71279346]\t 0.7751689886400943\t 0.6499177222164608\t 4.939091275072791\t 4.817303098974186\n",
            "24 \t [ 9.56781733  5.5339101  14.00008742  0.95163253 15.5003051   0.88693115]\t 0.6765524295337417\t 0.6499177222164608\t 4.396858483958365\t 4.363382606765772\n",
            "25 \t [ 3.81847995  9.43141013 12.          0.56182914 19.          0.95661081]\t 0.6893334668436607\t 0.6499177222164608\t 4.844446421670923\t 4.796321072337977\n",
            "26 \t [ 8.9710907   1.42533194 14.          0.83283676  2.          0.95624906]\t 0.683895121854963\t 0.6499177222164608\t 4.674276929487649\t 4.867137680147316\n",
            "27 \t [ 2.4597816   4.44826577 15.          1.         20.          1.        ]\t 0.6519494867924734\t 0.6499177222164608\t 4.590126109691656\t 4.821684485194525\n",
            "28 \t [10.          3.25954401 12.40128875  1.         20.          1.        ]\t 0.6526577384353626\t 0.6499177222164608\t 4.541544751606208\t 4.543998780270025\n",
            "29 \t [ 1.0021313   4.9490761  14.          0.62016719  1.          0.18537333]\t 1.0636257139268357\t 0.6499177222164608\t 4.66926436033612\t 4.777196040929978\n",
            "30 \t [ 4.46432054  1.37976416 14.          0.91350827  1.          0.70455501]\t 0.786373065109467\t 0.6499177222164608\t 4.577812144792283\t 4.551289244161928\n"
          ]
        },
        {
          "output_type": "execute_result",
          "data": {
            "text/plain": [
              "48097.64481046575"
            ]
          },
          "metadata": {},
          "execution_count": 26
        }
      ]
    },
    {
      "cell_type": "code",
      "metadata": {
        "id": "J1WsphKSUj19",
        "colab": {
          "base_uri": "https://localhost:8080/"
        },
        "outputId": "0567a7c7-514d-453b-a58e-6d6b772c9ec5"
      },
      "source": [
        "### Bayesian optimization runs (x20): 'Exact GP CBM' Acquisition Function run number = 7\n",
        "\n",
        "np.random.seed(run_num_7)\n",
        "surrogate_gp_7 = dGaussianProcess(cov_func, optimize=opt)\n",
        "\n",
        "X_train7, X_test7, y_train7, y_test7 = train_test_split(X, y, test_size=test_perc, random_state=run_num_7)\n",
        "\n",
        "def f_syn_polarity7(alpha, gamma, max_depth, subsample, min_child_weight, colsample):\n",
        "    reg = XGBRegressor(reg_alpha=alpha, gamma=gamma, max_depth=int(max_depth), subsample=subsample, min_child_weight=min_child_weight,\n",
        "          colsample_bytree=colsample, n_estimators = n_est, random_state=run_num_7, objective = 'reg:squarederror')\n",
        "    score = np.array(cross_val_score(reg, X=X_train7, y=y_train7).mean())\n",
        "    return operator * score\n",
        "\n",
        "gp_7 = dGPGO_gp(surrogate_gp_7, Acquisition_grad(util_gp), f_syn_polarity7, param, n_jobs = -1) # define BayesOpt\n",
        "gp_7.run(max_iter = max_iter, init_evals = n_init) # run\n",
        "\n",
        "### Return optimal parameters' set:\n",
        "params_gp_7 = gp_7.getResult()[0]\n",
        "params_gp_7['max_depth'] = int(params_gp_7['max_depth'])\n",
        "params_gp_7['min_child_weight'] = int(params_gp_7['min_child_weight'])\n",
        "\n",
        "### Re-train with optimal parameters, run predictons:\n",
        "dX_gp_train7 = xgb.DMatrix(X_train7, y_train7)\n",
        "dX_gp_test7 = xgb.DMatrix(X_test7, y_test7)\n",
        "model_gp_7 = xgb.train(params_gp_7, dX_gp_train7)\n",
        "pred_gp_7 = model_gp_7.predict(dX_gp_test7)\n",
        "\n",
        "rmse_gp_7 = np.sqrt(mean_squared_error(pred_gp_7, y_test7))\n",
        "rmse_gp_7"
      ],
      "execution_count": null,
      "outputs": [
        {
          "output_type": "stream",
          "name": "stdout",
          "text": [
            "Evaluation \t Proposed point \t  Current eval. \t  Best eval. \t         Max. ExactAcqFunc \t Max. ApproxAcqFunc \n",
            "init\t [0.76308289 7.79918792 8.         0.98911145 8.         0.98019056]\t 0.6599162825175136\t 0.6529031062312245\t    \t    \n",
            "init\t [ 5.3849587   5.01120464 13.          0.74994125  5.          0.88192131]\t 0.6529031062312245\t 0.6529031062312245\t    \t    \n",
            "init\t [ 3.30839249  3.9294231  12.          0.6440728  13.          0.41137564]\t 0.7849988476524127\t 0.6529031062312245\t    \t    \n",
            "init\t [9.29528191 2.6258377  5.         0.80027446 1.         0.86616513]\t 0.7434573966703171\t 0.6529031062312245\t    \t    \n",
            "init\t [ 1.74052764  7.90763512 14.          0.7244129   4.          0.77536887]\t 0.6887936732176462\t 0.6529031062312245\t    \t    \n",
            "1  \t [3.43305102 3.00339076 8.         0.71322679 4.         0.33322219]\t 0.8461730749178773\t 0.6529031062312245\t 5.060686359322351\t 4.935257110656476\n",
            "2  \t [ 8.27276329  5.80705371  6.          0.6575149  16.          0.66596626]\t 0.7280339284910606\t 0.6529031062312245\t 4.662911590050168\t 4.6290259907147515\n",
            "3  \t [ 8.97988092  8.79483413 14.          0.55379557 13.          0.92924117]\t 0.6571137209723783\t 0.6529031062312245\t 4.944728113108767\t 4.867635302700273\n",
            "4  \t [ 6.31879092  0.69939064  5.          0.5769645  12.          0.84874959]\t 0.7458231993222018\t 0.6529031062312245\t 4.928296008268691\t 4.948330689876796\n",
            "5  \t [ 9.90436619  1.68371673 11.          0.68947817 16.          0.400226  ]\t 0.7838758112536788\t 0.6529031062312245\t 4.691429631846773\t 4.7066013089106855\n",
            "6  \t [ 2.27614069  9.14855814 13.          0.84138599 18.          0.79014716]\t 0.6787899501779286\t 0.6529031062312245\t 4.7300469242313765\t 4.720339639286584\n",
            "7  \t [ 0.63761793  0.73483023 14.          0.60715475  1.          0.28353184]\t 0.8531322761504475\t 0.6529031062312245\t 5.038918291022881\t 4.976906070195416\n",
            "8  \t [ 1.95327375  0.09413692  7.          0.63967551 19.          0.52105045]\t 0.718715865573951\t 0.6529031062312245\t 4.860817061744697\t 4.885491240707448\n",
            "9  \t [5.70513125 8.30861013 6.         0.98680016 3.         0.16134411]\t 0.9984088714580504\t 0.6529031062312245\t 5.182074761932997\t 5.167605702927827\n",
            "10 \t [ 0.25030147  5.86047618  7.          0.62148035 15.          0.70956246]\t 0.7144935773647406\t 0.6529031062312245\t 4.65746737803104\t 4.651898346280812\n",
            "11 \t [0.         0.         5.         0.5        9.74109616 0.1       ]\t 1.0011007755268673\t 0.6529031062312245\t 4.742033636671146\t 4.77217068545718\n",
            "12 \t [9.93412004 7.01728008 6.         0.60790736 8.         0.46475011]\t 0.8183353504315909\t 0.6529031062312245\t 4.895879580906328\t 4.89621854692145\n",
            "13 \t [ 9.74185418  1.9812272  14.          0.94068286 10.          0.45784207]\t 0.7792188999132433\t 0.6529031062312245\t 5.100251755315631\t 5.03600451071356\n",
            "14 \t [ 5.05369665  2.67147005  5.          0.51290284 10.          0.64085   ]\t 0.7504591409344632\t 0.6529031062312245\t 4.858513214558489\t 4.85868230522435\n",
            "15 \t [ 7.27698082  9.82692974 11.          0.6446349   1.          0.67673022]\t 0.6974468561044718\t 0.6529031062312245\t 4.793895102206063\t 4.669626185454027\n",
            "\u001b[1m\u001b[92m16\u001b[0m\t \u001b[1m\u001b[92m[10. 10. 15.  1. 20.  1.]\u001b[0m\t \u001b[1m\u001b[92m0.6415746011828174\u001b[0m\t \u001b[1m\u001b[92m0.6415746011828174\u001b[0m\t \u001b[1m\u001b[92m4.96608171781022\u001b[0m\t \u001b[1m\u001b[92m4.7470680528355125\u001b[0m\n",
            "17 \t [ 0.08258912  2.04682383 12.          0.59206459 18.          0.58057909]\t 0.6960149194291863\t 0.6415746011828174\t 4.699811041022721\t 4.6665613226805345\n",
            "18 \t [ 7.87862448  0.37268652 11.          0.83129981  1.          0.83621209]\t 0.6910349298616485\t 0.6415746011828174\t 5.053414890911005\t 5.193330189960579\n",
            "19 \t [ 5.28371353  3.6868484  11.          0.82200641 19.          0.12021404]\t 0.9924220081561828\t 0.6415746011828174\t 4.943749679539733\t 4.9460930524012845\n",
            "20 \t [0.         2.85774827 5.         0.5        1.         0.1       ]\t 1.0017306757451643\t 0.6415746011828174\t 4.499858252978644\t 4.549659342725284\n",
            "21 \t [ 5.0398281   1.39537705 13.          0.78131563  9.          0.78164875]\t 0.68352995842156\t 0.6415746011828174\t 4.823362572704114\t 4.794302295278128\n",
            "\u001b[1m\u001b[92m22\u001b[0m\t \u001b[1m\u001b[92m[ 5.00129372  9.30964692 15.          1.          9.57717461  1.        ]\u001b[0m\t \u001b[1m\u001b[92m0.6381380599742951\u001b[0m\t \u001b[1m\u001b[92m0.6381380599742951\u001b[0m\t \u001b[1m\u001b[92m4.722564519289293\u001b[0m\t \u001b[1m\u001b[92m4.699430458465111\u001b[0m\n",
            "23 \t [ 4.45475741  9.04863317  5.          0.93353577 13.          0.79638216]\t 0.7447620295741274\t 0.6381380599742951\t 5.008672960709448\t 4.916478949057448\n",
            "24 \t [ 7.66468312  8.14667958  8.78373632  1.         19.78373632  1.        ]\t 0.6608286075361031\t 0.6381380599742951\t 5.394106957010848\t 5.346552958564888\n",
            "25 \t [10.         10.         10.76872843  1.          6.76872843  1.        ]\t 0.643490965867324\t 0.6381380599742951\t 4.944749400867384\t 5.103125844218622\n",
            "26 \t [7.682941   3.89268106 6.         0.79195699 6.         0.59903885]\t 0.73375115736573\t 0.6381380599742951\t 4.886395808315566\t 4.891951700590261\n",
            "27 \t [5.81424403 8.61077121 9.         0.96496634 9.         0.25956361]\t 0.8375529567895306\t 0.6381380599742951\t 4.797024033575648\t 4.861551916377729\n",
            "28 \t [4.62271649 0.         5.         0.5        1.         0.1       ]\t 1.0017571281882154\t 0.6381380599742951\t 4.726211975657458\t 4.830936706666622\n",
            "29 \t [ 9.92745389  2.10791379  6.          0.91867901 19.          0.37494465]\t 0.8675172360459502\t 0.6381380599742951\t 5.025896516911548\t 4.94141553878491\n",
            "30 \t [ 0.83988096  8.81297503 13.          0.79448275 13.          0.32240045]\t 0.8343155616914754\t 0.6381380599742951\t 4.741872080749155\t 4.722529385212005\n"
          ]
        },
        {
          "output_type": "execute_result",
          "data": {
            "text/plain": [
              "49346.0589810043"
            ]
          },
          "metadata": {},
          "execution_count": 27
        }
      ]
    },
    {
      "cell_type": "code",
      "metadata": {
        "id": "hI8sFP4ZUmOs",
        "colab": {
          "base_uri": "https://localhost:8080/"
        },
        "outputId": "124c3bed-72ef-4023-c9c6-40b6376be628"
      },
      "source": [
        "### Bayesian optimization runs (x20): 'Exact GP CBM' Acquisition Function run number = 8\n",
        "\n",
        "np.random.seed(run_num_8)\n",
        "surrogate_gp_8 = dGaussianProcess(cov_func, optimize=opt)\n",
        "\n",
        "X_train8, X_test8, y_train8, y_test8 = train_test_split(X, y, test_size=test_perc, random_state=run_num_8)\n",
        "\n",
        "def f_syn_polarity8(alpha, gamma, max_depth, subsample, min_child_weight, colsample):\n",
        "    reg = XGBRegressor(reg_alpha=alpha, gamma=gamma, max_depth=int(max_depth), subsample=subsample, min_child_weight=min_child_weight,\n",
        "          colsample_bytree=colsample, n_estimators = n_est, random_state=run_num_8, objective = 'reg:squarederror')\n",
        "    score = np.array(cross_val_score(reg, X=X_train8, y=y_train8).mean())\n",
        "    return operator * score\n",
        "\n",
        "gp_8 = dGPGO_gp(surrogate_gp_8, Acquisition_grad(util_gp), f_syn_polarity8, param, n_jobs = -1) # define BayesOpt\n",
        "gp_8.run(max_iter = max_iter, init_evals = n_init) # run\n",
        "\n",
        "### Return optimal parameters' set:\n",
        "params_gp_8 = gp_8.getResult()[0]\n",
        "params_gp_8['max_depth'] = int(params_gp_8['max_depth'])\n",
        "params_gp_8['min_child_weight'] = int(params_gp_8['min_child_weight'])\n",
        "\n",
        "### Re-train with optimal parameters, run predictons:\n",
        "dX_gp_train8 = xgb.DMatrix(X_train8, y_train8)\n",
        "dX_gp_test8 = xgb.DMatrix(X_test8, y_test8)\n",
        "model_gp_8 = xgb.train(params_gp_8, dX_gp_train8)\n",
        "pred_gp_8 = model_gp_8.predict(dX_gp_test8)\n",
        "\n",
        "rmse_gp_8 = np.sqrt(mean_squared_error(pred_gp_8, y_test8))\n",
        "rmse_gp_8"
      ],
      "execution_count": null,
      "outputs": [
        {
          "output_type": "stream",
          "name": "stdout",
          "text": [
            "Evaluation \t Proposed point \t  Current eval. \t  Best eval. \t         Max. ExactAcqFunc \t Max. ApproxAcqFunc \n",
            "init\t [ 8.73429403  9.68540663 10.          0.68875849  9.          0.48011572]\t 0.8097437093843076\t 0.6653168057229354\t    \t    \n",
            "init\t [ 6.12033333  7.66062926  8.          0.76133734 13.          0.93379456]\t 0.676783388491471\t 0.6653168057229354\t    \t    \n",
            "init\t [ 1.46524679  7.01527914  7.          0.90913299 10.          0.36016753]\t 0.8290150461838799\t 0.6653168057229354\t    \t    \n",
            "init\t [ 9.73855241  3.33774046 14.          0.53290419  7.          0.7088681 ]\t 0.704280612172438\t 0.6653168057229354\t    \t    \n",
            "init\t [ 3.00618018  1.82702795 11.          0.75681389 14.          0.98627449]\t 0.6653168057229354\t 0.6653168057229354\t    \t    \n",
            "1  \t [4.42022545 5.48487111 9.         0.97165909 3.         0.63617522]\t 0.6939807861210728\t 0.6653168057229354\t 4.9757171367012765\t 4.993001422663098\n",
            "2  \t [ 4.42530022  8.86662399 12.          0.55390756 19.          0.26906902]\t 0.8292448989696929\t 0.6653168057229354\t 4.517444096658647\t 4.484078548719706\n",
            "3  \t [ 9.08237751  2.49680746  6.          0.65941352 17.          0.68321352]\t 0.7238654894117781\t 0.6653168057229354\t 4.959048312767807\t 4.95541796738536\n",
            "4  \t [ 2.65017214  0.71847009 13.          0.73718634  4.          0.80301028]\t 0.6751159047919135\t 0.6653168057229354\t 5.256372650712756\t 5.2372786835412715\n",
            "5  \t [ 2.71549468  6.59835463  5.          0.95307649 18.          0.8022723 ]\t 0.7298305735353544\t 0.6653168057229354\t 4.54031790595165\t 4.5164143648560735\n",
            "6  \t [8.02691358 0.52300563 6.         0.98815878 7.         0.44490514]\t 0.8276007354468167\t 0.6653168057229354\t 4.697920383446171\t 4.771145716951388\n",
            "7  \t [ 8.83774177  5.41674027 14.          0.73954397  1.          0.31035075]\t 0.8412489648220683\t 0.6653168057229354\t 4.996092217700593\t 4.998120690467941\n",
            "\u001b[1m\u001b[92m8\u001b[0m\t \u001b[1m\u001b[92m[10. 10. 15.  1. 20.  1.]\u001b[0m\t \u001b[1m\u001b[92m0.6454226853941064\u001b[0m\t \u001b[1m\u001b[92m0.6454226853941064\u001b[0m\t \u001b[1m\u001b[92m4.955637254447373\u001b[0m\t \u001b[1m\u001b[92m4.879823501251189\u001b[0m\n",
            "9  \t [0.  0.  5.  0.5 1.  0.1]\t 0.9366264008615343\t 0.6454226853941064\t 4.630193498189166\t 4.671023594819928\n",
            "10 \t [ 9.10556495  0.26506496 13.          0.920006   16.          0.11711319]\t 0.9294301012904793\t 0.6454226853941064\t 5.3251260737361985\t 5.4416847177527\n",
            "11 \t [9.23421894 1.96715525 6.         0.84213684 1.         0.28111445]\t 0.8403741678101049\t 0.6454226853941064\t 5.3616595989171785\t 5.281380722553238\n",
            "12 \t [ 8.78489361  6.07405176 13.          0.94922041 14.          0.63892045]\t 0.6876296775669728\t 0.6454226853941064\t 4.917567929390592\t 4.906857431095992\n",
            "13 \t [ 9.08307561  9.73616604  5.          0.74596783 18.          0.23735578]\t 0.9373386140641772\t 0.6454226853941064\t 4.7818420265716375\t 4.751784048510899\n",
            "14 \t [ 1.35924905  5.41793837 14.          0.87246457  8.          0.19493237]\t 0.9296907918318995\t 0.6454226853941064\t 4.91648723488501\t 4.888845967726323\n",
            "15 \t [3.63587924 9.92644255 5.         0.74785877 1.         0.42737692]\t 0.8438702768074448\t 0.6454226853941064\t 4.572293852520619\t 4.68727357589047\n",
            "16 \t [0.05861183 0.85510206 7.         0.55669041 9.         0.24118856]\t 0.9320720399646423\t 0.6454226853941064\t 4.982353620783606\t 5.049795757949859\n",
            "17 \t [ 0.09889076  5.63526532 14.          0.81316857 16.          0.71340054]\t 0.6907172665844576\t 0.6454226853941064\t 4.768196711944834\t 4.5165931855424475\n",
            "18 \t [7.03420555 6.86511317 6.         0.99570411 7.         0.89816896]\t 0.7028525133662334\t 0.6454226853941064\t 4.872843472967687\t 4.815973453147336\n",
            "19 \t [ 1.3544572   9.55649539 12.          0.53328948 12.          0.91626416]\t 0.6731132832963013\t 0.6454226853941064\t 4.5641473534796635\t 4.571421874451014\n",
            "20 \t [ 1.37842187  7.92618907 14.          0.53493538  2.          0.9994541 ]\t 0.6778496323948628\t 0.6454226853941064\t 4.709658615340232\t 4.838003100943504\n",
            "\u001b[1m\u001b[92m21\u001b[0m\t \u001b[1m\u001b[92m[ 7.2710967   4.1300803  12.89996749  1.         18.89996749  1.        ]\u001b[0m\t \u001b[1m\u001b[92m0.6437683046890322\u001b[0m\t \u001b[1m\u001b[92m0.6437683046890322\u001b[0m\t \u001b[1m\u001b[92m4.793463624614465\u001b[0m\t \u001b[1m\u001b[92m4.853847957289176\u001b[0m\n",
            "22 \t [ 0.76637948  1.6718521   5.          0.89180884 15.          0.76035097]\t 0.7285188069721016\t 0.6437683046890322\t 4.650265976916919\t 4.6493530550326625\n",
            "23 \t [10.         10.         15.          1.          4.81254913  1.        ]\t 0.6457070766459646\t 0.6437683046890322\t 4.930093771909918\t 4.908707539944154\n",
            "24 \t [0.         3.62609878 5.         0.5        5.2983855  0.1       ]\t 0.9363375899786289\t 0.6437683046890322\t 4.382554492777906\t 4.449763340937359\n",
            "25 \t [ 2.00363843  0.25557305 13.          0.79852696 19.          0.41982126]\t 0.8045050796386125\t 0.6437683046890322\t 4.482665798812341\t 4.657084340464722\n",
            "26 \t [ 9.52083942  2.81740018  8.57671086  1.         10.57671086  1.        ]\t 0.6646779353618895\t 0.6437683046890322\t 4.687236670959967\t 4.81253632865187\n",
            "27 \t [ 7.15040543  9.72926644 14.          0.63776297 15.          0.43073814]\t 0.8100270760776773\t 0.6437683046890322\t 4.890893623495531\t 4.890893623495531\n",
            "28 \t [ 5.81852673  5.98213093 14.          0.56622599 10.          0.77542331]\t 0.6825078483491837\t 0.6437683046890322\t 4.874979850579709\t 4.985901250460145\n",
            "29 \t [ 9.6464663   0.98885701  8.          0.8054878  19.          0.70201828]\t 0.699572467500549\t 0.6437683046890322\t 5.05036790058675\t 5.05036790058675\n",
            "30 \t [8.66270612 8.68970778 9.         0.80306345 1.         0.23433357]\t 0.9299168982143875\t 0.6437683046890322\t 5.102955262165011\t 5.09585293736866\n"
          ]
        },
        {
          "output_type": "execute_result",
          "data": {
            "text/plain": [
              "51118.12299299014"
            ]
          },
          "metadata": {},
          "execution_count": 28
        }
      ]
    },
    {
      "cell_type": "code",
      "metadata": {
        "id": "Vw5IYus6UpAn",
        "colab": {
          "base_uri": "https://localhost:8080/"
        },
        "outputId": "5019fa95-84a2-4970-b53d-48fef270948d"
      },
      "source": [
        "### Bayesian optimization runs (x20): 'Exact GP CBM' Acquisition Function run number = 9\n",
        "\n",
        "np.random.seed(run_num_9)\n",
        "surrogate_gp_9 = dGaussianProcess(cov_func, optimize=opt)\n",
        "\n",
        "X_train9, X_test9, y_train9, y_test9 = train_test_split(X, y, test_size=test_perc, random_state=run_num_9)\n",
        "\n",
        "def f_syn_polarity9(alpha, gamma, max_depth, subsample, min_child_weight, colsample):\n",
        "    reg = XGBRegressor(reg_alpha=alpha, gamma=gamma, max_depth=int(max_depth), subsample=subsample, min_child_weight=min_child_weight,\n",
        "          colsample_bytree=colsample, n_estimators = n_est, random_state=run_num_9, objective = 'reg:squarederror')\n",
        "    score = np.array(cross_val_score(reg, X=X_train9, y=y_train9).mean())\n",
        "    return operator * score\n",
        "\n",
        "gp_9 = dGPGO_gp(surrogate_gp_9, Acquisition_grad(util_gp), f_syn_polarity9, param, n_jobs = -1) # define BayesOpt\n",
        "gp_9.run(max_iter = max_iter, init_evals = n_init) # run\n",
        "\n",
        "### Return optimal parameters' set:\n",
        "params_gp_9 = gp_9.getResult()[0]\n",
        "params_gp_9['max_depth'] = int(params_gp_9['max_depth'])\n",
        "params_gp_9['min_child_weight'] = int(params_gp_9['min_child_weight'])\n",
        "\n",
        "### Re-train with optimal parameters, run predictons:\n",
        "dX_gp_train9 = xgb.DMatrix(X_train9, y_train9)\n",
        "dX_gp_test9 = xgb.DMatrix(X_test9, y_test9)\n",
        "model_gp_9 = xgb.train(params_gp_9, dX_gp_train9)\n",
        "pred_gp_9 = model_gp_9.predict(dX_gp_test9)\n",
        "\n",
        "rmse_gp_9 = np.sqrt(mean_squared_error(pred_gp_9, y_test9))\n",
        "rmse_gp_9"
      ],
      "execution_count": null,
      "outputs": [
        {
          "output_type": "stream",
          "name": "stdout",
          "text": [
            "Evaluation \t Proposed point \t  Current eval. \t  Best eval. \t         Max. ExactAcqFunc \t Max. ApproxAcqFunc \n",
            "init\t [ 0.10374154  5.01874592 11.          0.50377155  2.          0.29670281]\t 0.8449026536729003\t 0.6448358819228919\t    \t    \n",
            "init\t [ 4.18508181  2.48101168 13.          0.69794293  2.          0.25009871]\t 0.8430936233516066\t 0.6448358819228919\t    \t    \n",
            "init\t [ 8.78559086  9.50964032 13.          0.98395204 11.          0.90820641]\t 0.6448358819228919\t 0.6448358819228919\t    \t    \n",
            "init\t [ 6.66898973  5.47837783  6.          0.97165345 12.          0.72499481]\t 0.7455250925664565\t 0.6448358819228919\t    \t    \n",
            "init\t [ 8.24870465  4.65668475 13.          0.68760467  9.          0.98502332]\t 0.6542440322310401\t 0.6448358819228919\t    \t    \n",
            "1  \t [6.73714319 2.39608167 5.         0.58130302 3.         0.163077  ]\t 1.0516333409565926\t 0.6448358819228919\t 5.050994458603757\t 5.03692018039646\n",
            "2  \t [9.23885705 0.0495141  9.         0.5847098  7.         0.79832927]\t 0.6774051522557019\t 0.6448358819228919\t 5.19950173430746\t 5.19950173430746\n",
            "3  \t [ 3.67545472  4.78145311 14.          0.63123486 17.          0.4863889 ]\t 0.7930932442681178\t 0.6448358819228919\t 4.915719858030142\t 4.916112621760458\n",
            "4  \t [ 0.19525707  9.62416422  9.          0.85280832 10.          0.52998476]\t 0.7396199848029671\t 0.6448358819228919\t 4.827900666788127\t 4.857197106828814\n",
            "5  \t [ 1.86381009  9.16177979  5.          0.9344438  17.          0.81379931]\t 0.7377720407232845\t 0.6448358819228919\t 5.074571622665763\t 5.1128601693646205\n",
            "6  \t [ 2.35563756  1.41309797  5.          0.61127581 14.          0.85229383]\t 0.7381603779527465\t 0.6448358819228919\t 4.681778625303122\t 4.807864412293924\n",
            "7  \t [0.  0.  5.  0.5 1.  0.1]\t 1.0517934452387856\t 0.6448358819228919\t 4.756144442639873\t 4.722486862206487\n",
            "8  \t [ 9.89935012  1.80411649  9.          0.642097   16.          0.9768379 ]\t 0.6624923928604278\t 0.6448358819228919\t 4.52270689458669\t 4.562000749687667\n",
            "9  \t [ 0.30581668  9.33751049 12.          0.80943195 19.          0.44519139]\t 0.788150408197674\t 0.6448358819228919\t 5.172198031874852\t 5.213086703816734\n",
            "10 \t [ 0.67105095  0.94101024 14.          0.7967074   8.          0.63229074]\t 0.6948006463812106\t 0.6448358819228919\t 4.839019300714443\t 4.851508720594857\n",
            "11 \t [ 7.69830016  7.83404591 13.          0.63442501  2.          0.36725242]\t 0.842436384626135\t 0.6448358819228919\t 4.9671490689749564\t 4.973644042011097\n",
            "12 \t [1.13081555 8.89608809 5.         0.68242063 1.         0.25767085]\t 0.8508904111239197\t 0.6448358819228919\t 4.828277478900403\t 4.856685896142868\n",
            "13 \t [10.          7.80511878 15.          1.         20.          1.        ]\t 0.6505488267879174\t 0.6448358819228919\t 5.276487005753692\t 5.253982393008528\n",
            "14 \t [ 4.6542071   1.48576825 11.          0.81087875 13.          0.32744452]\t 0.8333502680307973\t 0.6448358819228919\t 4.772770081161868\t 4.76601390927749\n",
            "15 \t [9.88943457 8.53804591 8.         0.65243257 7.         0.28069664]\t 0.8352977818443392\t 0.6448358819228919\t 5.162169430532237\t 5.128416992491259\n",
            "16 \t [1.12068613 5.38370759 5.         0.59812309 7.         0.55127392]\t 0.7957827851423114\t 0.6448358819228919\t 4.717367815929226\t 4.6753644270464845\n",
            "17 \t [ 7.81834149  9.72965303  8.          0.64259089 17.          0.22077726]\t 1.0465197239444557\t 0.6448358819228919\t 5.325662801234181\t 5.382967777806437\n",
            "18 \t [ 9.00084206  1.85673124 10.          0.98011614  2.          0.25530052]\t 0.83279328574821\t 0.6448358819228919\t 4.946994782394011\t 4.832370557156754\n",
            "19 \t [ 1.5375546   6.06327242 13.          0.75086004 12.          0.81590341]\t 0.6618581672592485\t 0.6448358819228919\t 4.728892684184871\t 4.738656635014854\n",
            "20 \t [ 4.49089064  7.04035213 10.          0.71518167  6.          0.54341653]\t 0.7431428744858811\t 0.6448358819228919\t 4.671901611818552\t 4.67779503617551\n",
            "21 \t [ 4.2953213   0.27911896 10.          0.9783586  19.          0.46300401]\t 0.7860315206098012\t 0.6448358819228919\t 5.14146954935666\t 5.136231191921273\n",
            "22 \t [ 6.00011977  5.16081767  6.          0.83034316 19.          0.20760473]\t 1.0484753830587141\t 0.6448358819228919\t 4.8096047183170585\t 4.900078681664722\n",
            "23 \t [3.28978779 1.18048837 9.         0.79741221 5.         0.15669852]\t 1.0467260574119817\t 0.6448358819228919\t 5.079994679171796\t 5.178664291362031\n",
            "24 \t [ 3.74834789  9.93946975 10.          0.52571565  1.          0.6614516 ]\t 0.7187682581856685\t 0.6448358819228919\t 4.762424976516022\t 4.8310671628600215\n",
            "25 \t [ 0.          6.95312426  5.          0.5        12.52762629  0.1       ]\t 1.0518144393328384\t 0.6448358819228919\t 4.809476718008333\t 4.833538287912666\n",
            "26 \t [ 2.6116157   9.96913447 13.          0.85452594  8.          0.87833359]\t 0.6481765931528018\t 0.6448358819228919\t 5.146020822101597\t 5.234225745421526\n",
            "27 \t [5.96338281 7.43745558 6.         0.95219878 2.         0.95757005]\t 0.6956794677502447\t 0.6448358819228919\t 4.319846183193863\t 4.336192805143604\n",
            "28 \t [7.20425099 1.56266186 5.         0.88211354 9.         0.78887069]\t 0.7368960706458181\t 0.6448358819228919\t 4.701964270085568\t 4.734960945451869\n",
            "29 \t [ 4.3882931   7.21586896  9.          0.93421279 16.          0.9902477 ]\t 0.6576348485163184\t 0.6448358819228919\t 5.070165057037863\t 4.995821938611622\n",
            "30 \t [ 0.13180157  0.51738182 13.          0.74380693 15.          0.82527503]\t 0.6608833650110759\t 0.6448358819228919\t 4.6420764699963755\t 4.651321954576406\n"
          ]
        },
        {
          "output_type": "execute_result",
          "data": {
            "text/plain": [
              "48075.00995818073"
            ]
          },
          "metadata": {},
          "execution_count": 29
        }
      ]
    },
    {
      "cell_type": "code",
      "metadata": {
        "id": "YD494io_Ur7V",
        "colab": {
          "base_uri": "https://localhost:8080/"
        },
        "outputId": "c3fd5e3a-f53c-4de9-a564-ea90ab28ecf9"
      },
      "source": [
        "### Bayesian optimization runs (x20): 'Exact GP CBM' Acquisition Function run number = 10\n",
        "\n",
        "np.random.seed(run_num_10)\n",
        "surrogate_gp_10 = dGaussianProcess(cov_func, optimize=opt)\n",
        "\n",
        "X_train10, X_test10, y_train10, y_test10 = train_test_split(X, y, test_size=test_perc, random_state=run_num_10)\n",
        "\n",
        "def f_syn_polarity10(alpha, gamma, max_depth, subsample, min_child_weight, colsample):\n",
        "    reg = XGBRegressor(reg_alpha=alpha, gamma=gamma, max_depth=int(max_depth), subsample=subsample, min_child_weight=min_child_weight,\n",
        "          colsample_bytree=colsample, n_estimators = n_est, random_state=run_num_10, objective = 'reg:squarederror')\n",
        "    score = np.array(cross_val_score(reg, X=X_train10, y=y_train10).mean())\n",
        "    return operator * score\n",
        "\n",
        "gp_10 = dGPGO_gp(surrogate_gp_10, Acquisition_grad(util_gp), f_syn_polarity10, param, n_jobs = -1) # define BayesOpt\n",
        "gp_10.run(max_iter = max_iter, init_evals = n_init) # run\n",
        "\n",
        "### Return optimal parameters' set:\n",
        "params_gp_10 = gp_10.getResult()[0]\n",
        "params_gp_10['max_depth'] = int(params_gp_10['max_depth'])\n",
        "params_gp_10['min_child_weight'] = int(params_gp_10['min_child_weight'])\n",
        "\n",
        "### Re-train with optimal parameters, run predictons:\n",
        "dX_gp_train10 = xgb.DMatrix(X_train10, y_train10)\n",
        "dX_gp_test10 = xgb.DMatrix(X_test10, y_test10)\n",
        "model_gp_10 = xgb.train(params_gp_10, dX_gp_train10)\n",
        "pred_gp_10 = model_gp_10.predict(dX_gp_test10)\n",
        "\n",
        "rmse_gp_10 = np.sqrt(mean_squared_error(pred_gp_10, y_test10))\n",
        "rmse_gp_10"
      ],
      "execution_count": null,
      "outputs": [
        {
          "output_type": "stream",
          "name": "stdout",
          "text": [
            "Evaluation \t Proposed point \t  Current eval. \t  Best eval. \t         Max. ExactAcqFunc \t Max. ApproxAcqFunc \n",
            "init\t [ 7.71320643  0.20751949  5.          0.72150747 17.          0.12265456]\t 0.8785010703819621\t 0.6669292375133978\t    \t    \n",
            "init\t [ 7.0920801   2.65566127 13.          0.57518893 17.          0.83494165]\t 0.6669292375133978\t 0.6669292375133978\t    \t    \n",
            "init\t [ 3.36071584  8.90816531  6.          0.86087766 15.          0.75469196]\t 0.7012460140601039\t 0.6669292375133978\t    \t    \n",
            "init\t [ 5.40880931  1.31458152  8.          0.57108502 14.          0.62551123]\t 0.7005965853529538\t 0.6669292375133978\t    \t    \n",
            "init\t [1.82631436 8.26082248 6.         0.80888349 5.         0.15900694]\t 0.880412005930048\t 0.6669292375133978\t    \t    \n",
            "1  \t [8.31989768 3.09778055 7.         0.64798085 3.         0.98471878]\t 0.6770142260932797\t 0.6669292375133978\t 4.537033529102261\t 4.61282489506922\n",
            "2  \t [ 3.05837423  0.98670899 11.          0.63714741 18.          0.46809298]\t 0.7417959722875219\t 0.6669292375133978\t 5.128967017136254\t 5.131647656874277\n",
            "3  \t [ 2.20772511  4.37663949 11.          0.65455258  3.          0.57545511]\t 0.7112447021396917\t 0.6669292375133978\t 4.5963032232180705\t 4.588074125525618\n",
            "4  \t [ 2.98946783  8.70916918 12.          0.89809007  8.          0.53350402]\t 0.7006385046040607\t 0.6669292375133978\t 4.892917910549493\t 4.874757161223437\n",
            "5  \t [0.  0.  5.  0.5 1.  0.1]\t 0.8815800498680714\t 0.6669292375133978\t 4.760265100463475\t 4.58818460624903\n",
            "\u001b[1m\u001b[92m6\u001b[0m\t \u001b[1m\u001b[92m[10.         10.         15.          1.         14.59116268  1.        ]\u001b[0m\t \u001b[1m\u001b[92m0.6428463931407646\u001b[0m\t \u001b[1m\u001b[92m0.6428463931407646\u001b[0m\t \u001b[1m\u001b[92m4.818513635050309\u001b[0m\t \u001b[1m\u001b[92m4.682829024892697\u001b[0m\n",
            "7  \t [8.82521763 9.96779345 8.         0.82356907 1.         0.3598298 ]\t 0.8142907394883079\t 0.6428463931407646\t 4.922590829302762\t 4.807925404113449\n",
            "8  \t [ 9.67396075  2.8020106  13.          0.65074314 10.          0.54373377]\t 0.7069523757910561\t 0.6428463931407646\t 4.655893815954775\t 4.649031074281892\n",
            "9  \t [7.7714375  7.70616843 8.         0.82339468 6.         0.96195202]\t 0.661096368919013\t 0.6428463931407646\t 5.026973406145135\t 5.026973589804152\n",
            "10 \t [ 9.68988111  3.14723756  5.          0.57337272 11.          0.12853019]\t 0.8805076498265475\t 0.6428463931407646\t 5.064269212229844\t 4.787187711571494\n",
            "11 \t [ 7.71064959  9.96207932 10.          0.59477685 12.          0.11554071]\t 0.8835980337648006\t 0.6428463931407646\t 4.87595057259673\t 4.709064150186384\n",
            "12 \t [0.3261262  0.3175016  8.         0.74340245 7.         0.15256221]\t 0.8813486259366499\t 0.6428463931407646\t 4.724253887206259\t 4.743524316223531\n",
            "13 \t [ 1.32528066  5.17118506  5.          0.79204954 19.          0.27904411]\t 0.823119322181516\t 0.6428463931407646\t 4.973927117066635\t 4.99400528430216\n",
            "14 \t [ 0.17384891  6.43364358 13.          0.60012539 17.          0.33877166]\t 0.813133928753623\t 0.6428463931407646\t 5.006825323037282\t 5.002785532964557\n",
            "15 \t [ 9.86913094  2.54287696 14.          0.86051843  2.          0.74044264]\t 0.6976866250322032\t 0.6428463931407646\t 4.861212139107229\t 4.833502135668137\n",
            "16 \t [ 0.          3.02384577  5.          0.5        13.39376426  0.1       ]\t 0.8811984456086404\t 0.6428463931407646\t 4.604573236139633\t 4.534091483210194\n",
            "17 \t [ 2.976945    3.09934964 13.          0.72508505  8.          0.38866253]\t 0.7428630374254214\t 0.6428463931407646\t 4.820403232620258\t 4.8239582372682115\n",
            "18 \t [ 9.38854854  7.91087361  8.          0.57475286 19.          0.33969987]\t 0.8127393354944645\t 0.6428463931407646\t 4.9765886414111975\t 4.958239116129185\n",
            "19 \t [ 3.80090214  9.80981443 12.          0.76771143  3.          0.20106055]\t 0.8840643207380687\t 0.6428463931407646\t 4.621025120663834\t 4.681558457530942\n",
            "\u001b[1m\u001b[92m20\u001b[0m\t \u001b[1m\u001b[92m[ 2.42340497 10.         15.          1.         11.68405394  1.        ]\u001b[0m\t \u001b[1m\u001b[92m0.6420508896216662\u001b[0m\t \u001b[1m\u001b[92m0.6420508896216662\u001b[0m\t \u001b[1m\u001b[92m4.796729842838642\u001b[0m\t \u001b[1m\u001b[92m4.83535664291047\u001b[0m\n",
            "21 \t [10. 10. 15.  1. 20.  1.]\t 0.6455928988859453\t 0.6420508896216662\t 5.194891839835839\t 5.0907658026793925\n",
            "22 \t [6.36911271 1.38988653 5.         0.54358761 7.         0.34523115]\t 0.8241546513796788\t 0.6420508896216662\t 4.953516297457954\t 4.988329398927336\n",
            "23 \t [ 4.47829069  7.43510935  7.          0.67276165 10.          0.2175314 ]\t 0.8808510005535177\t 0.6420508896216662\t 4.940515580250963\t 4.84429470450291\n",
            "24 \t [ 4.11986688  9.81320751 11.          0.98131964 17.          0.2975892 ]\t 0.81020927033387\t 0.6420508896216662\t 4.807928098593962\t 4.759886857335836\n",
            "25 \t [4.66195218 5.96776172 7.         0.68043003 1.         0.11094684]\t 0.8818491623143119\t 0.6420508896216662\t 4.786311175433926\t 4.795501830198926\n",
            "26 \t [ 7.98827045  1.4624675  10.54562841  0.5         6.54562841  0.1       ]\t 0.8846486972626545\t 0.6420508896216662\t 4.5865222063654265\t 4.777793187739201\n",
            "27 \t [ 8.4662657   4.43414414  9.          0.87315205 12.          0.38094136]\t 0.7396754730540172\t 0.6420508896216662\t 4.582108580636974\t 4.568411958626055\n",
            "28 \t [ 3.73162208  6.88484696 15.          1.         20.          1.        ]\t 0.6455697253498037\t 0.6420508896216662\t 5.385194902335257\t 5.50464288583285\n",
            "29 \t [10.          4.73730569 15.          1.         20.          1.        ]\t 0.6455928988859453\t 0.6420508896216662\t 4.99216951142438\t 4.904544447908774\n",
            "\u001b[1m\u001b[92m30\u001b[0m\t \u001b[1m\u001b[92m[ 4.3653861   5.84238893 11.          0.99018622 12.          0.90940203]\u001b[0m\t \u001b[1m\u001b[92m0.6407467455108058\u001b[0m\t \u001b[1m\u001b[92m0.6407467455108058\u001b[0m\t \u001b[1m\u001b[92m5.052721753523178\u001b[0m\t \u001b[1m\u001b[92m5.000174747707753\u001b[0m\n"
          ]
        },
        {
          "output_type": "execute_result",
          "data": {
            "text/plain": [
              "50267.17290962269"
            ]
          },
          "metadata": {},
          "execution_count": 30
        }
      ]
    },
    {
      "cell_type": "code",
      "metadata": {
        "id": "N03Sq0TvUuhp",
        "colab": {
          "base_uri": "https://localhost:8080/"
        },
        "outputId": "bfab2b2b-d94d-479b-f0f0-abb86f15c493"
      },
      "source": [
        "### Bayesian optimization runs (x20): 'Exact GP CBM' Acquisition Function run number = 11\n",
        "\n",
        "np.random.seed(run_num_11)\n",
        "surrogate_gp_11 = dGaussianProcess(cov_func, optimize=opt)\n",
        "\n",
        "X_train11, X_test11, y_train11, y_test11 = train_test_split(X, y, test_size=test_perc, random_state=run_num_11)\n",
        "\n",
        "def f_syn_polarity11(alpha, gamma, max_depth, subsample, min_child_weight, colsample):\n",
        "    reg = XGBRegressor(reg_alpha=alpha, gamma=gamma, max_depth=int(max_depth), subsample=subsample, min_child_weight=min_child_weight,\n",
        "          colsample_bytree=colsample, n_estimators = n_est, random_state=run_num_11, objective = 'reg:squarederror')\n",
        "    score = np.array(cross_val_score(reg, X=X_train11, y=y_train11).mean())\n",
        "    return operator * score\n",
        "\n",
        "gp_11 = dGPGO_gp(surrogate_gp_11, Acquisition_grad(util_gp), f_syn_polarity11, param, n_jobs = -1) # define BayesOpt\n",
        "gp_11.run(max_iter = max_iter, init_evals = n_init) # run\n",
        "\n",
        "### Return optimal parameters' set:\n",
        "params_gp_11 = gp_11.getResult()[0]\n",
        "params_gp_11['max_depth'] = int(params_gp_11['max_depth'])\n",
        "params_gp_11['min_child_weight'] = int(params_gp_11['min_child_weight'])\n",
        "\n",
        "### Re-train with optimal parameters, run predictons:\n",
        "dX_gp_train11 = xgb.DMatrix(X_train11, y_train11)\n",
        "dX_gp_test11 = xgb.DMatrix(X_test11, y_test11)\n",
        "model_gp_11 = xgb.train(params_gp_11, dX_gp_train11)\n",
        "pred_gp_11 = model_gp_11.predict(dX_gp_test11)\n",
        "\n",
        "rmse_gp_11 = np.sqrt(mean_squared_error(pred_gp_11, y_test11))\n",
        "rmse_gp_11"
      ],
      "execution_count": null,
      "outputs": [
        {
          "output_type": "stream",
          "name": "stdout",
          "text": [
            "Evaluation \t Proposed point \t  Current eval. \t  Best eval. \t         Max. ExactAcqFunc \t Max. ApproxAcqFunc \n",
            "init\t [ 1.80269689  0.19475241  6.          0.59705781 13.          0.47818324]\t 0.7904007286371394\t 0.6894069737354023\t    \t    \n",
            "init\t [ 4.85427098  0.12780815  5.          0.91309068 14.          0.86571558]\t 0.727634308123781\t 0.6894069737354023\t    \t    \n",
            "init\t [ 7.2996447   1.08736072 10.          0.92857712 18.          0.66910061]\t 0.6894069737354023\t 0.6894069737354023\t    \t    \n",
            "init\t [ 0.20483613  1.16737269  7.          0.57895615 16.          0.83644782]\t 0.7071657410132528\t 0.6894069737354023\t    \t    \n",
            "init\t [ 3.44624491  3.18798797 14.          0.54197657 15.          0.63958906]\t 0.7012825433030343\t 0.6894069737354023\t    \t    \n",
            "1  \t [9.77136617 6.6548802  7.         0.51036649 9.         0.81011527]\t 0.711031226877882\t 0.6894069737354023\t 4.243112299054295\t 4.1590461202027456\n",
            "\u001b[1m\u001b[92m2\u001b[0m\t \u001b[1m\u001b[92m[ 0.59719728  4.15307516 11.          0.66501717  3.          0.95537014]\u001b[0m\t \u001b[1m\u001b[92m0.6577294425265764\u001b[0m\t \u001b[1m\u001b[92m0.6577294425265764\u001b[0m\t \u001b[1m\u001b[92m4.554226316476871\u001b[0m\t \u001b[1m\u001b[92m4.507278720953402\u001b[0m\n",
            "3  \t [ 8.79191945  9.92354379  5.          0.67714371 18.          0.57050675]\t 0.7648729702018928\t 0.6577294425265764\t 4.587599477874605\t 4.470688092563367\n",
            "4  \t [ 8.43962982  4.2216354  12.          0.61829836  3.          0.16854155]\t 0.9235319432135773\t 0.6577294425265764\t 4.882010683487482\t 4.8070932565475015\n",
            "5  \t [2.20135958 9.62559813 6.         0.71280025 1.         0.39977427]\t 0.7883201967902798\t 0.6577294425265764\t 4.6200458331503835\t 4.4904206059084455\n",
            "\u001b[1m\u001b[92m6\u001b[0m\t \u001b[1m\u001b[92m[10.         10.         15.          1.         13.86520378  1.        ]\u001b[0m\t \u001b[1m\u001b[92m0.6391734323910704\u001b[0m\t \u001b[1m\u001b[92m0.6391734323910704\u001b[0m\t \u001b[1m\u001b[92m4.868478072274743\u001b[0m\t \u001b[1m\u001b[92m4.71387955618826\u001b[0m\n",
            "7  \t [ 4.15094515  7.09288961  8.          0.62079813 14.          0.58741281]\t 0.735671533105253\t 0.6391734323910704\t 4.904417103564953\t 4.872861937703983\n",
            "8  \t [ 8.85500249  6.36292728 13.          0.79559894 18.          0.41909456]\t 0.7595325243902282\t 0.6391734323910704\t 4.91034423098858\t 4.928421347824987\n",
            "9  \t [ 4.65266155  1.51144578 13.          0.9981878   8.          0.76538736]\t 0.6852941374864567\t 0.6391734323910704\t 4.9106679717527975\t 4.778523289896067\n",
            "10 \t [ 9.96434657  9.7457538   7.          0.51716335 13.          0.80468719]\t 0.7098807101273504\t 0.6391734323910704\t 4.819590569575617\t 4.864413198369983\n",
            "11 \t [ 0.23708771  7.99354078 13.          0.65974332 19.          0.67724424]\t 0.6950970831418338\t 0.6391734323910704\t 4.9216370808897105\t 4.8916379126183775\n",
            "12 \t [2.49649648 9.56561388 5.         0.80281761 9.         0.94453549]\t 0.712573326980913\t 0.6391734323910704\t 5.071875954479939\t 5.112398099422035\n",
            "13 \t [8.7750324  1.27842362 6.         0.78646972 2.         0.59379009]\t 0.7479074011505135\t 0.6391734323910704\t 4.855188659924395\t 4.844264980889146\n",
            "14 \t [0.  0.  5.  0.5 1.  0.1]\t 0.9342890171193261\t 0.6391734323910704\t 5.125562163360268\t 5.055010824851029\n",
            "15 \t [9.60860975 1.04640388 6.         0.96693807 8.         0.36470327]\t 0.8776279327315801\t 0.6391734323910704\t 4.869764109343863\t 4.878442757779075\n",
            "16 \t [ 4.54549823  8.84141407 12.          0.50940273  3.          0.75742975]\t 0.7068100593711837\t 0.6391734323910704\t 5.1136641329079815\t 4.952289473733462\n",
            "17 \t [0.39970699 3.63260444 5.         0.5        6.6603264  0.1       ]\t 0.934060192860624\t 0.6391734323910704\t 5.013466791433507\t 4.761008384119246\n",
            "18 \t [ 2.10994823  7.1805032  12.          0.63048792  8.          0.67645363]\t 0.698358780864823\t 0.6391734323910704\t 4.733650174032537\t 4.733650062912332\n",
            "19 \t [ 1.41414587  5.82374358  8.          0.73371898 19.          0.60959215]\t 0.7312153103225351\t 0.6391734323910704\t 5.010200464640741\t 5.106886930239851\n",
            "20 \t [9.22875209 9.1986098  9.         0.90439491 3.         0.27523226]\t 0.8725625909092452\t 0.6391734323910704\t 4.4852065822955485\t 4.75883454212335\n",
            "21 \t [ 4.20382838  8.11840794 14.          0.97060995 11.          0.52636944]\t 0.7250537141107671\t 0.6391734323910704\t 4.875614547758587\t 4.870370442355254\n",
            "22 \t [5.15068265 4.76861601 5.         0.70076898 1.         0.87159533]\t 0.7286740032592812\t 0.6391734323910704\t 4.56194157814883\t 4.571825267759676\n",
            "23 \t [ 9.97716226  3.28825714 13.          0.55185778 13.          0.23012169]\t 0.9247048172921157\t 0.6391734323910704\t 4.65671267180526\t 4.724207193291106\n",
            "24 \t [5.96609946 8.58923382 8.         0.83624418 7.         0.41971406]\t 0.7695460798342351\t 0.6391734323910704\t 4.421476712019963\t 4.423780139750278\n",
            "25 \t [ 4.52812342  0.19443533 13.          0.65004115  2.          0.16077491]\t 0.9247656684808231\t 0.6391734323910704\t 4.703507481365349\t 4.820136959137977\n",
            "26 \t [ 6.43973822  4.38457739 10.          0.73526918 10.          0.83575743]\t 0.6925394075386978\t 0.6391734323910704\t 4.355896366764118\t 4.457602188689541\n",
            "27 \t [ 0.24250155  0.         11.68320556  0.5        13.68320556  0.1       ]\t 0.9257345462461771\t 0.6391734323910704\t 4.894950097020321\t 4.986331806220591\n",
            "28 \t [ 8.4194991   8.27446809 13.          0.60543789  8.          0.33710004]\t 0.8768536860033761\t 0.6391734323910704\t 4.731685169963454\t 4.718772333292747\n",
            "29 \t [1.33134297 0.         9.39895008 0.5        7.39895008 0.20059491]\t 0.9260096854517735\t 0.6391734323910704\t 4.9077699845059986\t 5.029100424316299\n",
            "\u001b[1m\u001b[92m30\u001b[0m\t \u001b[1m\u001b[92m[ 5.1131797  10.         12.70197513  1.         18.70197513  1.        ]\u001b[0m\t \u001b[1m\u001b[92m0.6370251143949369\u001b[0m\t \u001b[1m\u001b[92m0.6370251143949369\u001b[0m\t \u001b[1m\u001b[92m5.192141729699504\u001b[0m\t \u001b[1m\u001b[92m5.259375968079846\u001b[0m\n"
          ]
        },
        {
          "output_type": "execute_result",
          "data": {
            "text/plain": [
              "50848.269313694145"
            ]
          },
          "metadata": {},
          "execution_count": 31
        }
      ]
    },
    {
      "cell_type": "code",
      "metadata": {
        "id": "g_nP9lQjUztV",
        "colab": {
          "base_uri": "https://localhost:8080/"
        },
        "outputId": "66deaff4-3662-493a-ea52-b42c32a9768d"
      },
      "source": [
        "### Bayesian optimization runs (x20): 'Exact GP CBM' Acquisition Function run number = 12\n",
        "\n",
        "np.random.seed(run_num_12)\n",
        "surrogate_gp_12 = dGaussianProcess(cov_func, optimize=opt)\n",
        "\n",
        "X_train12, X_test12, y_train12, y_test12 = train_test_split(X, y, test_size=test_perc, random_state=run_num_12)\n",
        "\n",
        "def f_syn_polarity12(alpha, gamma, max_depth, subsample, min_child_weight, colsample):\n",
        "    reg = XGBRegressor(reg_alpha=alpha, gamma=gamma, max_depth=int(max_depth), subsample=subsample, min_child_weight=min_child_weight,\n",
        "          colsample_bytree=colsample, n_estimators = n_est, random_state=run_num_12, objective = 'reg:squarederror')\n",
        "    score = np.array(cross_val_score(reg, X=X_train12, y=y_train12).mean())\n",
        "    return operator * score\n",
        "\n",
        "gp_12 = dGPGO_gp(surrogate_gp_12, Acquisition_grad(util_gp), f_syn_polarity12, param, n_jobs = -1) # define BayesOpt\n",
        "gp_12.run(max_iter = max_iter, init_evals = n_init) # run\n",
        "\n",
        "### Return optimal parameters' set:\n",
        "params_gp_12 = gp_12.getResult()[0]\n",
        "params_gp_12['max_depth'] = int(params_gp_12['max_depth'])\n",
        "params_gp_12['min_child_weight'] = int(params_gp_12['min_child_weight'])\n",
        "\n",
        "### Re-train with optimal parameters, run predictons:\n",
        "dX_gp_train12 = xgb.DMatrix(X_train12, y_train12)\n",
        "dX_gp_test12 = xgb.DMatrix(X_test12, y_test12)\n",
        "model_gp_12 = xgb.train(params_gp_12, dX_gp_train12)\n",
        "pred_gp_12 = model_gp_12.predict(dX_gp_test12)\n",
        "\n",
        "rmse_gp_12 = np.sqrt(mean_squared_error(pred_gp_12, y_test12))\n",
        "rmse_gp_12"
      ],
      "execution_count": null,
      "outputs": [
        {
          "output_type": "stream",
          "name": "stdout",
          "text": [
            "Evaluation \t Proposed point \t  Current eval. \t  Best eval. \t         Max. ExactAcqFunc \t Max. ApproxAcqFunc \n",
            "init\t [1.54162842 7.40049697 6.         0.54321714 4.         0.11311747]\t 0.9314271055202143\t 0.7056203424268611\t    \t    \n",
            "init\t [ 9.18747008  9.00714854 14.          0.97847467 11.          0.35544552]\t 0.7910532936167305\t 0.7056203424268611\t    \t    \n",
            "init\t [ 6.06083184  9.44225136 14.          0.95626942  5.          0.56910342]\t 0.7196830962696428\t 0.7056203424268611\t    \t    \n",
            "init\t [ 5.52037633  4.85377414  7.          0.97886436 17.          0.78810441]\t 0.7056203424268611\t 0.7056203424268611\t    \t    \n",
            "init\t [ 0.20809798  1.35210178  5.          0.65494879 16.          0.36062811]\t 0.8082458628311272\t 0.7056203424268611\t    \t    \n",
            "1  \t [9.46555822 8.57190559 5.         0.50164398 5.         0.71992807]\t 0.74699493326549\t 0.7056203424268611\t 4.72654354090543\t 4.6948346838912345\n",
            "2  \t [ 7.57473716  9.63637997 12.          0.83444517 10.          0.18761713]\t 0.9247498596892157\t 0.7056203424268611\t 5.137307524642909\t 5.137307524642909\n",
            "\u001b[1m\u001b[92m3\u001b[0m\t \u001b[1m\u001b[92m[ 9.04517621  0.80881017 13.          0.96890904  5.          0.75400021]\u001b[0m\t \u001b[1m\u001b[92m0.6897808103544698\u001b[0m\t \u001b[1m\u001b[92m0.6897808103544698\u001b[0m\t \u001b[1m\u001b[92m5.173827489055408\u001b[0m\t \u001b[1m\u001b[92m5.148210445252705\u001b[0m\n",
            "4  \t [ 2.73241117  0.55778587 14.          0.70282167 15.          0.8966204 ]\t 0.6967406870158588\t 0.6897808103544698\t 5.058312502303734\t 5.122682187421846\n",
            "5  \t [ 6.66970674  0.03985694  6.          0.76922453 11.          0.18327615]\t 0.9302409127927834\t 0.6897808103544698\t 4.9088902985148755\t 4.9001059286544555\n",
            "6  \t [ 1.23389285  0.85357459 13.          0.93854198  3.          0.52598214]\t 0.7221002132069921\t 0.6897808103544698\t 4.727607331978349\t 4.745079927952683\n",
            "7  \t [ 0.57203639  5.0857779   9.          0.68290949 10.          0.94408458]\t 0.7012842559435354\t 0.6897808103544698\t 4.423174149659969\t 4.54141689290186\n",
            "8  \t [0.         1.01976365 5.         0.5        1.         0.1       ]\t 0.9380339511614821\t 0.6897808103544698\t 4.53096919788583\t 4.467636069471953\n",
            "9  \t [9.77568711 0.70796585 6.         0.73327465 3.         0.82051057]\t 0.7213506404912987\t 0.6897808103544698\t 4.548366203332304\t 4.61236277190166\n",
            "10 \t [ 9.20470536  7.96480391  5.          0.84400217 12.          0.74025549]\t 0.7417877006073502\t 0.6897808103544698\t 4.908115572538058\t 4.844589607982344\n",
            "\u001b[1m\u001b[92m11\u001b[0m\t \u001b[1m\u001b[92m[10. 10. 15.  1. 20.  1.]\u001b[0m\t \u001b[1m\u001b[92m0.650360917790661\u001b[0m\t \u001b[1m\u001b[92m0.650360917790661\u001b[0m\t \u001b[1m\u001b[92m5.030197291629017\u001b[0m\t \u001b[1m\u001b[92m4.804802813100701\u001b[0m\n",
            "12 \t [ 1.1215575   6.61045389 13.          0.73682382 17.          0.82385484]\t 0.6943570082727238\t 0.650360917790661\t 5.0121941461432185\t 5.014540773176685\n",
            "13 \t [ 4.45674451  0.94208473 10.          0.94738373  7.          0.60125252]\t 0.7166741353060685\t 0.650360917790661\t 4.738420688804782\t 4.523780135973445\n",
            "14 \t [ 0.609825    8.87388875 14.          0.9069446   2.          0.82580346]\t 0.6998436682886817\t 0.650360917790661\t 4.578299733077791\t 4.459558540611296\n",
            "15 \t [ 1.10490837  9.58829464  6.          0.57860445 19.          0.21544386]\t 0.9310123715662361\t 0.650360917790661\t 4.750977590394988\t 4.7769453254335765\n",
            "16 \t [ 9.86500554  3.24622219 14.          0.95268622 17.          0.83554836]\t 0.6861949687174898\t 0.650360917790661\t 4.832971432391701\t 4.828534795500084\n",
            "17 \t [0.17059882 0.49735145 6.         0.94724054 9.         0.97251917]\t 0.7200838686336246\t 0.650360917790661\t 4.624374606166558\t 4.699175947096531\n",
            "18 \t [ 1.40667435  9.60801033 13.          0.60326903 11.          0.82424216]\t 0.6997408299858809\t 0.650360917790661\t 4.942791675773459\t 4.9124694760480665\n",
            "19 \t [5.58200824 6.47832626 5.         0.55772632 8.         0.94343024]\t 0.7445698470409463\t 0.650360917790661\t 4.591365795720285\t 4.559467460848337\n",
            "20 \t [ 9.98175567  0.8705802   6.          0.55210219 18.          0.50471737]\t 0.7496479603542527\t 0.650360917790661\t 4.703324048315438\t 4.572331321201716\n",
            "21 \t [ 5.49888822  5.20148414 10.          0.54435316  4.          0.7517198 ]\t 0.7056903211932897\t 0.650360917790661\t 5.13638736912631\t 5.08634140258462\n",
            "22 \t [ 6.2678708   0.4680065  11.          0.92045895 18.          0.950288  ]\t 0.6904250593809932\t 0.650360917790661\t 4.787708204951586\t 4.640206510171417\n",
            "23 \t [ 9.50639663  8.7681455   8.09209016  1.         16.09209016  1.        ]\t 0.6685953705024923\t 0.650360917790661\t 5.032920062919455\t 4.956586368534849\n",
            "\u001b[1m\u001b[92m24\u001b[0m\t \u001b[1m\u001b[92m[ 4.18366353 10.         13.16600792  1.         20.          1.        ]\u001b[0m\t \u001b[1m\u001b[92m0.6500053323803071\u001b[0m\t \u001b[1m\u001b[92m0.6500053323803071\u001b[0m\t \u001b[1m\u001b[92m5.0686406344437085\u001b[0m\t \u001b[1m\u001b[92m5.234955083844176\u001b[0m\n",
            "25 \t [ 3.95469902  4.43691502 14.          0.58535398 11.          0.45476493]\t 0.7762242661293977\t 0.6500053323803071\t 5.2249590762194185\t 5.193312759070551\n",
            "26 \t [ 6.95690553  1.11504601 14.          0.90956566 11.          0.39724356]\t 0.7711246067958923\t 0.6500053323803071\t 4.911416376103625\t 4.85339584215043\n",
            "27 \t [ 2.07000214  9.81928136 10.06696685  1.          6.06696685  1.        ]\t 0.6528481461977028\t 0.6500053323803071\t 4.850787650668545\t 5.016363138871157\n",
            "28 \t [ 2.10897089  0.08470362  9.52338473  0.5        12.52338473  0.329552  ]\t 0.7977424248508573\t 0.6500053323803071\t 4.866810316786152\t 4.834103193967386\n",
            "29 \t [ 1.89754186  9.17101444  5.          0.60232858 15.          0.66852878]\t 0.7436237996074502\t 0.6500053323803071\t 4.679471787831871\t 4.675189090575922\n",
            "30 \t [6.7712309  5.31842817 5.         0.84774393 2.         0.83146944]\t 0.7412768910071137\t 0.6500053323803071\t 4.693535654403014\t 4.914928387303235\n"
          ]
        },
        {
          "output_type": "execute_result",
          "data": {
            "text/plain": [
              "50883.66286006226"
            ]
          },
          "metadata": {},
          "execution_count": 32
        }
      ]
    },
    {
      "cell_type": "code",
      "metadata": {
        "id": "yDI2Bi9vU05U",
        "colab": {
          "base_uri": "https://localhost:8080/"
        },
        "outputId": "32d5c7a4-ecdb-4c87-d3e7-124796c98f26"
      },
      "source": [
        "### Bayesian optimization runs (x20): 'Exact GP CBM' Acquisition Function run number = 13\n",
        "\n",
        "np.random.seed(run_num_13)\n",
        "surrogate_gp_13 = dGaussianProcess(cov_func, optimize=opt)\n",
        "\n",
        "X_train13, X_test13, y_train13, y_test13 = train_test_split(X, y, test_size=test_perc, random_state=run_num_13)\n",
        "\n",
        "def f_syn_polarity13(alpha, gamma, max_depth, subsample, min_child_weight, colsample):\n",
        "    reg = XGBRegressor(reg_alpha=alpha, gamma=gamma, max_depth=int(max_depth), subsample=subsample, min_child_weight=min_child_weight,\n",
        "          colsample_bytree=colsample, n_estimators = n_est, random_state=run_num_13, objective = 'reg:squarederror')\n",
        "    score = np.array(cross_val_score(reg, X=X_train13, y=y_train13).mean())\n",
        "    return operator * score\n",
        "\n",
        "gp_13 = dGPGO_gp(surrogate_gp_13, Acquisition_grad(util_gp), f_syn_polarity13, param, n_jobs = -1) # define BayesOpt\n",
        "gp_13.run(max_iter = max_iter, init_evals = n_init) # run\n",
        "\n",
        "### Return optimal parameters' set:\n",
        "params_gp_13 = gp_13.getResult()[0]\n",
        "params_gp_13['max_depth'] = int(params_gp_13['max_depth'])\n",
        "params_gp_13['min_child_weight'] = int(params_gp_13['min_child_weight'])\n",
        "\n",
        "### Re-train with optimal parameters, run predictons:\n",
        "dX_gp_train13 = xgb.DMatrix(X_train13, y_train13)\n",
        "dX_gp_test13 = xgb.DMatrix(X_test13, y_test13)\n",
        "model_gp_13 = xgb.train(params_gp_13, dX_gp_train13)\n",
        "pred_gp_13 = model_gp_13.predict(dX_gp_test13)\n",
        "\n",
        "rmse_gp_13 = np.sqrt(mean_squared_error(pred_gp_13, y_test13))\n",
        "rmse_gp_13"
      ],
      "execution_count": null,
      "outputs": [
        {
          "output_type": "stream",
          "name": "stdout",
          "text": [
            "Evaluation \t Proposed point \t  Current eval. \t  Best eval. \t         Max. ExactAcqFunc \t Max. ApproxAcqFunc \n",
            "init\t [ 7.77702411  2.3754122  11.          0.94649135 13.          0.7827256 ]\t 0.6628876451121497\t 0.6628876451121497\t    \t    \n",
            "init\t [ 7.51661514  6.07343344 11.          0.69402149 11.          0.13153287]\t 1.1013657958154304\t 0.6628876451121497\t    \t    \n",
            "init\t [ 2.98449471  0.58512492 10.          0.73579614 12.          0.33065195]\t 0.92150734169971\t 0.6628876451121497\t    \t    \n",
            "init\t [ 3.47581215  0.0941277  11.          0.86143432  8.          0.58454932]\t 0.71924819784624\t 0.6628876451121497\t    \t    \n",
            "init\t [ 4.70137857  6.24432527 10.          0.8149145  18.          0.10784416]\t 1.1014421616742969\t 0.6628876451121497\t    \t    \n",
            "1  \t [1.51786663 9.25994479 9.         0.99792981 2.         0.61199673]\t 0.7207240599672383\t 0.6628876451121497\t 5.003427509449544\t 4.981319166459438\n",
            "\u001b[1m\u001b[92m2\u001b[0m\t \u001b[1m\u001b[92m[10.         6.4393369 15.         1.        20.         1.       ]\u001b[0m\t \u001b[1m\u001b[92m0.648463895263151\u001b[0m\t \u001b[1m\u001b[92m0.648463895263151\u001b[0m\t \u001b[1m\u001b[92m5.092691777692252\u001b[0m\t \u001b[1m\u001b[92m4.969156226225452\u001b[0m\n",
            "3  \t [ 1.27154032  7.56256657  5.          0.85984573 12.          0.61608824]\t 0.7679544515659981\t 0.648463895263151\t 4.932907433233208\t 4.8777399892116815\n",
            "4  \t [ 4.39024044  6.42906019 12.          0.96666124  5.          0.79403332]\t 0.6655222383347275\t 0.648463895263151\t 4.38069550756972\t 4.370320488307577\n",
            "5  \t [5.34651487 5.45650069 6.         0.93529094 7.         0.24078895]\t 1.0980632271289044\t 0.648463895263151\t 4.788545475441256\t 4.778852762469979\n",
            "6  \t [ 1.86840748  0.75206083 14.          0.81141351 17.          0.47108772]\t 0.8190622083881806\t 0.648463895263151\t 4.9814495960997025\t 4.912169955291086\n",
            "7  \t [ 7.23781106  2.82221969 13.          0.97315776  3.          0.70798739]\t 0.7059530276956625\t 0.648463895263151\t 4.6993356901635694\t 4.715520456482833\n",
            "8  \t [ 0.53852623  1.13078322 12.          0.85062386  1.          0.22708294]\t 1.1062273028353988\t 0.648463895263151\t 5.06255485644271\t 4.925197321459069\n",
            "9  \t [9.52796793 0.5269077  7.         0.61130342 2.         0.41024487]\t 0.8258632893631743\t 0.648463895263151\t 4.5614499420119134\t 4.526913885132641\n",
            "10 \t [ 0.95213595  8.68324297 14.          0.57163216  8.          0.28130834]\t 0.9272758866528952\t 0.648463895263151\t 4.80003537587533\t 4.83773835066146\n",
            "11 \t [ 4.33230901  0.85672678  6.          0.63795453 19.          0.64597264]\t 0.7370906275446215\t 0.648463895263151\t 4.895805198336576\t 4.90624332837033\n",
            "12 \t [ 9.46545841  2.71414127  5.          0.83512297 13.          0.70984642]\t 0.7596192306405462\t 0.648463895263151\t 4.919574246261293\t 4.90753231016409\n",
            "13 \t [0.  0.  5.  0.5 1.  0.1]\t 1.0998776154616823\t 0.648463895263151\t 4.570592502689113\t 4.667176961809076\n",
            "14 \t [8.89376119 7.09293115 9.         0.78983641 3.         0.25997795]\t 0.9218455789450489\t 0.648463895263151\t 4.775688648141979\t 4.791159423611935\n",
            "15 \t [ 3.78319896  9.10205064 14.          0.62806706 13.          0.90182995]\t 0.6686440552339279\t 0.648463895263151\t 4.969846502400064\t 4.881811312245806\n",
            "16 \t [ 7.05126219  8.04267575  5.          0.67903172 17.          0.24444218]\t 1.0976230359264239\t 0.648463895263151\t 4.777012458657763\t 4.769191851122227\n",
            "17 \t [ 9.50305523  1.39719827 14.          0.80515064 17.          0.21967579]\t 1.1032556266920364\t 0.648463895263151\t 4.8696992107073775\t 4.884244222142452\n",
            "18 \t [0.75135379 4.33666257 5.         0.52792906 6.         0.30010782]\t 0.9162713030758676\t 0.648463895263151\t 4.395651404555619\t 4.557160423172184\n",
            "19 \t [ 0.          0.          5.          0.5        15.18174148  0.1       ]\t 1.0998894285008507\t 0.648463895263151\t 4.825745043829087\t 4.872743301119244\n",
            "20 \t [ 9.35280568  2.44132886  8.          0.87489385 18.          0.92170626]\t 0.67440347483604\t 0.648463895263151\t 5.297606907748528\t 5.258061255837018\n",
            "21 \t [9.95671825 0.88335607 5.         0.76593799 7.         0.60049246]\t 0.7676754691372668\t 0.648463895263151\t 5.020450805995907\t 5.011078678664497\n",
            "22 \t [4.74151988e-03 7.73535708e+00 9.00000000e+00 8.10214170e-01\n",
            " 7.00000000e+00 8.51111303e-01]\t 0.6741140944144826\t 0.648463895263151\t 4.920674922652487\t 4.789845526339856\n",
            "23 \t [ 2.05622909  9.08047387  8.          0.8397078  17.          0.73365999]\t 0.7124011319640049\t 0.648463895263151\t 4.780692140793196\t 4.787741833198835\n",
            "24 \t [ 0.537802    3.33621713  8.          0.77943172 18.          0.5870313 ]\t 0.7295026676611162\t 0.648463895263151\t 4.69349476215175\t 4.704655558190944\n",
            "25 \t [ 8.82163174 10.         10.40188946  1.         20.          1.        ]\t 0.6522290559082727\t 0.648463895263151\t 5.050746646359479\t 5.074288405068684\n",
            "26 \t [ 0.16863022  2.67389719  9.          0.62610438 15.          0.96408501]\t 0.672888499874982\t 0.648463895263151\t 4.779947431461189\t 4.779947431461189\n",
            "27 \t [ 7.81157149  9.253568   12.          0.76765119  7.          0.85043688]\t 0.6675539039152634\t 0.648463895263151\t 4.998605733830145\t 5.0094323902674205\n",
            "28 \t [5.51645808 4.30839226 5.         0.5        1.91383742 0.1       ]\t 1.0999574358377582\t 0.648463895263151\t 4.875590182800876\t 5.033554779301524\n",
            "\u001b[1m\u001b[92m29\u001b[0m\t \u001b[1m\u001b[92m[10.          6.83717655 14.21749351  1.         14.21749351  1.        ]\u001b[0m\t \u001b[1m\u001b[92m0.6482677002572682\u001b[0m\t \u001b[1m\u001b[92m0.6482677002572682\u001b[0m\t \u001b[1m\u001b[92m4.871260251681861\u001b[0m\t \u001b[1m\u001b[92m4.982375383323425\u001b[0m\n",
            "\u001b[1m\u001b[92m30\u001b[0m\t \u001b[1m\u001b[92m[ 3.38496451  5.58190461 15.          1.         18.55791486  1.        ]\u001b[0m\t \u001b[1m\u001b[92m0.6476658604292315\u001b[0m\t \u001b[1m\u001b[92m0.6476658604292315\u001b[0m\t \u001b[1m\u001b[92m4.6703512224372155\u001b[0m\t \u001b[1m\u001b[92m4.720008169122126\u001b[0m\n"
          ]
        },
        {
          "output_type": "execute_result",
          "data": {
            "text/plain": [
              "49040.01074805314"
            ]
          },
          "metadata": {},
          "execution_count": 33
        }
      ]
    },
    {
      "cell_type": "code",
      "metadata": {
        "id": "Z2F_Q194U3uu",
        "colab": {
          "base_uri": "https://localhost:8080/"
        },
        "outputId": "b27c72d0-c41a-4ef5-9d41-1dc201338c37"
      },
      "source": [
        "### Bayesian optimization runs (x20): 'Exact GP CBM' Acquisition Function run number = 14\n",
        "\n",
        "np.random.seed(run_num_14)\n",
        "surrogate_gp_14 = dGaussianProcess(cov_func, optimize=opt)\n",
        "\n",
        "X_train14, X_test14, y_train14, y_test14 = train_test_split(X, y, test_size=test_perc, random_state=run_num_14)\n",
        "\n",
        "def f_syn_polarity14(alpha, gamma, max_depth, subsample, min_child_weight, colsample):\n",
        "    reg = XGBRegressor(reg_alpha=alpha, gamma=gamma, max_depth=int(max_depth), subsample=subsample, min_child_weight=min_child_weight,\n",
        "          colsample_bytree=colsample, n_estimators = n_est, random_state=run_num_14, objective = 'reg:squarederror')\n",
        "    score = np.array(cross_val_score(reg, X=X_train14, y=y_train14).mean())\n",
        "    return operator * score\n",
        "\n",
        "gp_14 = dGPGO_gp(surrogate_gp_14, Acquisition_grad(util_gp), f_syn_polarity14, param, n_jobs = -1) # define BayesOpt\n",
        "gp_14.run(max_iter = max_iter, init_evals = n_init) # run\n",
        "\n",
        "### Return optimal parameters' set:\n",
        "params_gp_14 = gp_14.getResult()[0]\n",
        "params_gp_14['max_depth'] = int(params_gp_14['max_depth'])\n",
        "params_gp_14['min_child_weight'] = int(params_gp_14['min_child_weight'])\n",
        "\n",
        "### Re-train with optimal parameters, run predictons:\n",
        "dX_gp_train14 = xgb.DMatrix(X_train14, y_train14)\n",
        "dX_gp_test14 = xgb.DMatrix(X_test14, y_test14)\n",
        "model_gp_14 = xgb.train(params_gp_14, dX_gp_train14)\n",
        "pred_gp_14 = model_gp_14.predict(dX_gp_test14)\n",
        "\n",
        "rmse_gp_14 = np.sqrt(mean_squared_error(pred_gp_14, y_test14))\n",
        "rmse_gp_14"
      ],
      "execution_count": null,
      "outputs": [
        {
          "output_type": "stream",
          "name": "stdout",
          "text": [
            "Evaluation \t Proposed point \t  Current eval. \t  Best eval. \t         Max. ExactAcqFunc \t Max. ApproxAcqFunc \n",
            "init\t [ 5.13943344  7.73165052 12.          0.6831412  11.          0.37876233]\t 0.8139066743222003\t 0.6747866005380063\t    \t    \n",
            "init\t [ 9.57603739  5.13116712 14.          0.76959997 12.          0.71328228]\t 0.6747866005380063\t 0.6747866005380063\t    \t    \n",
            "init\t [5.34950319 2.47493539 5.         0.50293689 6.         0.29706373]\t 0.977412427074478\t 0.6747866005380063\t    \t    \n",
            "init\t [ 2.94506579  3.45329697  8.          0.87620946 14.          0.9783044 ]\t 0.6774024187451972\t 0.6747866005380063\t    \t    \n",
            "init\t [ 1.11811929  1.73004086  5.          0.73745288 12.          0.20586008]\t 1.0197967308919336\t 0.6747866005380063\t    \t    \n",
            "1  \t [ 6.50637223  2.67617722 14.          0.53562507  1.          0.16862152]\t 1.0126649561802825\t 0.6747866005380063\t 4.910977751890678\t 4.840166821203167\n",
            "\u001b[1m\u001b[92m2\u001b[0m\t \u001b[1m\u001b[92m[10. 10. 15.  1. 20.  1.]\u001b[0m\t \u001b[1m\u001b[92m0.6502979285238808\u001b[0m\t \u001b[1m\u001b[92m0.6502979285238808\u001b[0m\t \u001b[1m\u001b[92m5.100010267536391\u001b[0m\t \u001b[1m\u001b[92m4.971940538204546\u001b[0m\n",
            "3  \t [0.07739536 3.94062842 5.         0.7395899  3.         0.9764837 ]\t 0.7245455903141328\t 0.6502979285238808\t 5.0808007300624825\t 5.029090560002041\n",
            "4  \t [6.9195004  0.54496332 8.         0.81208598 3.         0.15286338]\t 1.0111604668907606\t 0.6502979285238808\t 4.628549379403512\t 4.628549379403512\n",
            "5  \t [ 9.22243919  0.59642165  6.          0.72537748 19.          0.46639325]\t 0.8253470890530193\t 0.6502979285238808\t 5.315204803833861\t 5.290101106021109\n",
            "6  \t [ 0.49138495  8.52939618 10.          0.75897738  1.          0.21612775]\t 1.0131910395518218\t 0.6502979285238808\t 4.732301058525417\t 4.7866417186697765\n",
            "7  \t [9.50752677 9.21478059 7.         0.68709357 5.         0.7478709 ]\t 0.6980584298280876\t 0.6502979285238808\t 4.819577227187821\t 4.776681240793571\n",
            "8  \t [ 0.63353879  9.61017877  8.          0.96421247 18.          0.39200727]\t 0.8087127953472528\t 0.6502979285238808\t 4.321869910676865\t 4.34039109204666\n",
            "9  \t [ 2.48800603  5.10093097 14.          0.58870342  6.          0.75046851]\t 0.679436663814411\t 0.6502979285238808\t 4.981166389755377\t 4.950796071422072\n",
            "10 \t [ 1.6361515   9.65601963  6.          0.78645605 10.          0.24059194]\t 1.0163848571205125\t 0.6502979285238808\t 5.05832462728154\t 5.087000806655927\n",
            "11 \t [ 9.88809977  3.72297385  6.          0.68686416 11.          0.16446157]\t 1.0169921141610336\t 0.6502979285238808\t 4.826817414802157\t 4.7689200957869105\n",
            "12 \t [ 7.35080411  8.42969833  8.          0.54853874 19.          0.64845929]\t 0.6929769156766643\t 0.6502979285238808\t 4.763334654282979\t 4.760263570228443\n",
            "13 \t [ 0.91289908  0.49155493 12.          0.69437528 19.          0.25722688]\t 0.9566828107379326\t 0.6502979285238808\t 4.893009349578055\t 4.9262236155817565\n",
            "14 \t [ 9.50881705  0.8310658  14.          0.86317554 18.          0.16718532]\t 1.0124852561685407\t 0.6502979285238808\t 4.768430151588047\t 4.79860346054301\n",
            "15 \t [ 9.08335885  5.57767412 12.          0.65195184  6.          0.80607804]\t 0.6813882293464838\t 0.6502979285238808\t 4.844425977441394\t 4.822731582103232\n",
            "16 \t [ 0.14027374  5.40881405 13.          0.72865252 14.          0.51307231]\t 0.716284046319991\t 0.6502979285238808\t 4.688590653649029\t 4.749082912545437\n",
            "17 \t [ 7.83429508  8.78694401 14.          0.74976219  2.          0.13371773]\t 1.0143595783371873\t 0.6502979285238808\t 4.8474987632829265\t 4.866260373585137\n",
            "18 \t [ 0.96607499  0.08146515 10.          0.75402335  6.          0.63275599]\t 0.6767950914466152\t 0.6502979285238808\t 4.492108564194083\t 4.4819614913081445\n",
            "19 \t [ 2.09007555  7.86113915 13.          0.73459776 19.          0.32750702]\t 0.9574373954877385\t 0.6502979285238808\t 4.963798723660637\t 4.901464071600511\n",
            "20 \t [ 4.57870743  1.98552875 14.          0.65566453 14.          0.81792968]\t 0.6768346638837561\t 0.6502979285238808\t 4.763631481438941\t 4.785929716758242\n",
            "21 \t [6.71747687 5.953553   9.1268929  0.5        2.1268929  0.1       ]\t 1.0114593919882844\t 0.6502979285238808\t 4.766112659723139\t 4.7021868912732865\n",
            "22 \t [ 2.89145179  8.95900591 10.          0.52398991  6.          0.6540998 ]\t 0.684154512907023\t 0.6502979285238808\t 4.799911222920906\t 4.922331524114199\n",
            "23 \t [ 5.55049789  0.77634749 10.94158757  0.5         9.94158757  0.1       ]\t 1.009887441146531\t 0.6502979285238808\t 5.009198836622504\t 5.037467193690672\n",
            "24 \t [ 4.3622478   7.44308476  5.          0.5        15.81162154  0.1       ]\t 1.018369300296423\t 0.6502979285238808\t 4.62267669274448\t 4.569846697629198\n",
            "25 \t [ 3.84023791  5.55129887  6.          0.6736522  10.          0.55319483]\t 0.7431106498194995\t 0.6502979285238808\t 4.734872444523386\t 4.73082865854613\n",
            "\u001b[1m\u001b[92m26\u001b[0m\t \u001b[1m\u001b[92m[ 5.63414853 10.         15.          1.          6.          1.        ]\u001b[0m\t \u001b[1m\u001b[92m0.6498120471285148\u001b[0m\t \u001b[1m\u001b[92m0.6498120471285148\u001b[0m\t \u001b[1m\u001b[92m4.341039071922744\u001b[0m\t \u001b[1m\u001b[92m4.391199246001003\u001b[0m\n",
            "27 \t [ 0.19921359  1.33183456 11.          0.79119941 11.          0.23591371]\t 1.0112356555986186\t 0.6498120471285148\t 4.760477298197098\t 4.627824022582947\n",
            "28 \t [ 0.40405522  2.81796516 11.          0.8908648   1.          0.54002187]\t 0.7224622612996938\t 0.6498120471285148\t 4.982722498496084\t 4.858339035721566\n",
            "29 \t [ 6.80918331  2.60600854 10.          0.6146055  16.          0.83665564]\t 0.6767211406591878\t 0.6498120471285148\t 4.826532008672551\t 4.828272002640888\n",
            "30 \t [ 1.26617981  4.03386415  8.          0.85223134 19.          0.86958504]\t 0.6828604856051443\t 0.6498120471285148\t 4.652370856551942\t 4.6443278024856225\n"
          ]
        },
        {
          "output_type": "execute_result",
          "data": {
            "text/plain": [
              "51097.26452839193"
            ]
          },
          "metadata": {},
          "execution_count": 34
        }
      ]
    },
    {
      "cell_type": "code",
      "metadata": {
        "id": "Po5wImJaU6VC",
        "colab": {
          "base_uri": "https://localhost:8080/"
        },
        "outputId": "08e9ed09-0433-4d1b-a9d2-86d32c6bdc2f"
      },
      "source": [
        "### Bayesian optimization runs (x20): 'Exact GP CBM' Acquisition Function run number = 15\n",
        "\n",
        "np.random.seed(run_num_15)\n",
        "surrogate_gp_15 = dGaussianProcess(cov_func, optimize=opt)\n",
        "\n",
        "X_train15, X_test15, y_train15, y_test15 = train_test_split(X, y, test_size=test_perc, random_state=run_num_15)\n",
        "\n",
        "def f_syn_polarity15(alpha, gamma, max_depth, subsample, min_child_weight, colsample):\n",
        "    reg = XGBRegressor(reg_alpha=alpha, gamma=gamma, max_depth=int(max_depth), subsample=subsample, min_child_weight=min_child_weight,\n",
        "          colsample_bytree=colsample, n_estimators = n_est, random_state=run_num_15, objective = 'reg:squarederror')\n",
        "    score = np.array(cross_val_score(reg, X=X_train15, y=y_train15).mean())\n",
        "    return operator * score\n",
        "\n",
        "gp_15 = dGPGO_gp(surrogate_gp_15, Acquisition_grad(util_gp), f_syn_polarity15, param, n_jobs = -1) # define BayesOpt\n",
        "gp_15.run(max_iter = max_iter, init_evals = n_init) # run\n",
        "\n",
        "### Return optimal parameters' set:\n",
        "params_gp_15 = gp_15.getResult()[0]\n",
        "params_gp_15['max_depth'] = int(params_gp_15['max_depth'])\n",
        "params_gp_15['min_child_weight'] = int(params_gp_15['min_child_weight'])\n",
        "\n",
        "### Re-train with optimal parameters, run predictons:\n",
        "dX_gp_train15 = xgb.DMatrix(X_train15, y_train15)\n",
        "dX_gp_test15 = xgb.DMatrix(X_test15, y_test15)\n",
        "model_gp_15 = xgb.train(params_gp_15, dX_gp_train15)\n",
        "pred_gp_15 = model_gp_15.predict(dX_gp_test15)\n",
        "\n",
        "rmse_gp_15 = np.sqrt(mean_squared_error(pred_gp_15, y_test15))\n",
        "rmse_gp_15"
      ],
      "execution_count": null,
      "outputs": [
        {
          "output_type": "stream",
          "name": "stdout",
          "text": [
            "Evaluation \t Proposed point \t  Current eval. \t  Best eval. \t         Max. ExactAcqFunc \t Max. ApproxAcqFunc \n",
            "init\t [ 8.48817697  1.78895925 12.          0.55549316  8.          0.93397854]\t 0.6568473525973234\t 0.6568473525973234\t    \t    \n",
            "init\t [ 0.24953032  8.22298097 12.          0.62494951 11.          0.12924598]\t 0.9115777462403312\t 0.6568473525973234\t    \t    \n",
            "init\t [ 5.02017228  5.50882771 11.          0.85295832 19.          0.13548008]\t 0.9091447847268881\t 0.6568473525973234\t    \t    \n",
            "init\t [2.0023081  9.98543403 7.         0.6295772  2.         0.526127  ]\t 0.702826724376194\t 0.6568473525973234\t    \t    \n",
            "init\t [ 5.09715306  9.45038417 11.          0.7388277  16.          0.22739973]\t 0.9107852583947551\t 0.6568473525973234\t    \t    \n",
            "1  \t [ 0.29158961  4.9949242  12.          0.89124583  3.          0.67554049]\t 0.663179402460053\t 0.6568473525973234\t 4.927018597144541\t 4.927018549900286\n",
            "2  \t [2.60517447 0.82584036 7.         0.6107555  4.         0.25427784]\t 0.8585273074032198\t 0.6568473525973234\t 4.628103493979789\t 4.592684086690579\n",
            "3  \t [ 9.6900225   0.69761314 13.          0.54877119 16.          0.55532692]\t 0.676755395441882\t 0.6568473525973234\t 4.890406102452028\t 4.867700479246852\n",
            "4  \t [ 3.00890132  3.25033589  6.          0.76721153 13.          0.286699  ]\t 0.8615658015198442\t 0.6568473525973234\t 5.299508209514075\t 5.081479353974853\n",
            "5  \t [ 7.00755347  9.83963845  5.          0.51866345 10.          0.95031515]\t 0.730615339433918\t 0.6568473525973234\t 4.778090841571785\t 4.680989152424764\n",
            "6  \t [ 8.69662558  6.80112051 14.          0.50188459  3.          0.90006664]\t 0.6638687110610159\t 0.6568473525973234\t 4.706359354139058\t 4.706359354139058\n",
            "\u001b[1m\u001b[92m7\u001b[0m\t \u001b[1m\u001b[92m[10. 10. 15.  1. 20.  1.]\u001b[0m\t \u001b[1m\u001b[92m0.6491916518522693\u001b[0m\t \u001b[1m\u001b[92m0.6491916518522693\u001b[0m\t \u001b[1m\u001b[92m5.353491008838289\u001b[0m\t \u001b[1m\u001b[92m5.011817993912248\u001b[0m\n",
            "8  \t [ 9.21941721  9.79827821 11.          0.81783228 11.          0.53477407]\t 0.6659586056207597\t 0.6491916518522693\t 4.9330505764598644\t 4.947230992874104\n",
            "9  \t [8.88449541 3.44367948 6.         0.58829924 7.         0.7864797 ]\t 0.7097411329660293\t 0.6491916518522693\t 4.891015684564819\t 4.839443795025377\n",
            "10 \t [ 8.47779105  8.43696768  5.          0.73890705 16.          0.66738091]\t 0.7564851327663848\t 0.6491916518522693\t 4.503580929277662\t 4.573294863719744\n",
            "11 \t [9.8850401  9.05036452 8.         0.98423572 3.         0.82693955]\t 0.6638601166418586\t 0.6491916518522693\t 4.632636237559448\t 4.594163078282197\n",
            "12 \t [1.37672687 0.04946237 5.         0.79719419 1.         0.81843222]\t 0.7350998875793917\t 0.6491916518522693\t 4.744584401069443\t 4.756476482852465\n",
            "13 \t [ 0.90706815  0.79490515  7.          0.51831376 19.          0.91250419]\t 0.6855937848974291\t 0.6491916518522693\t 4.746862073842201\t 4.703025220756249\n",
            "14 \t [ 7.24320809  1.00477988 10.          0.73543626  1.          0.62081075]\t 0.6775831216463617\t 0.6491916518522693\t 4.791042368115122\t 4.891358529501088\n",
            "\u001b[1m\u001b[92m15\u001b[0m\t \u001b[1m\u001b[92m[ 3.58964297  7.1703904  14.          0.98600195  8.          0.97766641]\u001b[0m\t \u001b[1m\u001b[92m0.6394751818409936\u001b[0m\t \u001b[1m\u001b[92m0.6394751818409936\u001b[0m\t \u001b[1m\u001b[92m4.627091504260295\u001b[0m\t \u001b[1m\u001b[92m4.636169527885374\u001b[0m\n",
            "16 \t [ 8.3663813   2.71045401  6.          0.93358602 19.          0.54898259]\t 0.722555636740782\t 0.6394751818409936\t 4.585563055782183\t 4.527604177251746\n",
            "17 \t [ 1.99733414  0.13877735 14.          0.5792705  10.          0.44528521]\t 0.7943377363668869\t 0.6394751818409936\t 4.463245733467055\t 4.468540438673532\n",
            "18 \t [ 4.29171811  0.04074186 13.          0.58769183 18.          0.36351335]\t 0.8568574802990294\t 0.6394751818409936\t 5.150576592033543\t 5.103790732165081\n",
            "19 \t [ 1.82906731  5.15105244 12.          0.56966528 15.          0.63831204]\t 0.6762407016215379\t 0.6394751818409936\t 4.6698677797815495\t 4.660016909118603\n",
            "20 \t [1.78502553 6.3382371  7.         0.5356847  8.         0.94131063]\t 0.6859250343998504\t 0.6394751818409936\t 5.020174077157734\t 4.8314100719583015\n",
            "21 \t [ 9.26423889 10.         15.          1.         14.44229663  1.        ]\t 0.6457723771986569\t 0.6394751818409936\t 5.074401227371879\t 4.927582042158687\n",
            "22 \t [ 0.          0.          8.83635743  0.5        10.83635743  0.1       ]\t 0.9122629412332228\t 0.6394751818409936\t 4.979262468499036\t 5.013204728780723\n",
            "23 \t [ 5.3880688   2.65297896 14.          0.90613057  4.          0.23404421]\t 0.9109113159973135\t 0.6394751818409936\t 4.704279038031395\t 4.611788438765542\n",
            "24 \t [ 9.36080884  1.0313168   5.          0.6330142  14.          0.51274968]\t 0.756031776613528\t 0.6394751818409936\t 5.08373436464649\t 4.961623389601877\n",
            "25 \t [10.          3.26605082 14.98685509  1.         19.98685509  1.        ]\t 0.6479723881006704\t 0.6394751818409936\t 4.934938600219605\t 5.004932231585701\n",
            "26 \t [5.40926155 6.11332903 5.         0.73993604 2.         0.74799534]\t 0.7555933489593251\t 0.6394751818409936\t 4.772246928154064\t 4.784329042916743\n",
            "27 \t [ 7.81154233  4.07454888  9.          0.93317853 14.          0.30786282]\t 0.848881320125441\t 0.6394751818409936\t 4.674450525875377\t 4.725998715931013\n",
            "28 \t [ 5.94544405  5.28909748 15.          1.         13.09357729  1.        ]\t 0.645213163160023\t 0.6394751818409936\t 4.902048111810188\t 4.873138023396015\n",
            "29 \t [ 2.27601751  8.37986432  6.          0.63312332 14.          0.21259169]\t 0.9131057510002976\t 0.6394751818409936\t 4.8728269146870735\t 4.81609778508865\n",
            "30 \t [ 6.18561281  9.20132045 12.          0.91758231  6.          0.24268371]\t 0.9100686128500474\t 0.6394751818409936\t 4.952988083613835\t 4.891754031358188\n"
          ]
        },
        {
          "output_type": "execute_result",
          "data": {
            "text/plain": [
              "49982.6349332846"
            ]
          },
          "metadata": {},
          "execution_count": 35
        }
      ]
    },
    {
      "cell_type": "code",
      "metadata": {
        "id": "9HrAQN-pU9Qo",
        "colab": {
          "base_uri": "https://localhost:8080/"
        },
        "outputId": "0eb53218-6ee1-4fbc-ab69-7638d8faa620"
      },
      "source": [
        "### Bayesian optimization runs (x20): 'Exact GP CBM' Acquisition Function run number = 16\n",
        "\n",
        "np.random.seed(run_num_16)\n",
        "surrogate_gp_16 = dGaussianProcess(cov_func, optimize=opt)\n",
        "\n",
        "X_train16, X_test16, y_train16, y_test16 = train_test_split(X, y, test_size=test_perc, random_state=run_num_16)\n",
        "\n",
        "def f_syn_polarity16(alpha, gamma, max_depth, subsample, min_child_weight, colsample):\n",
        "    reg = XGBRegressor(reg_alpha=alpha, gamma=gamma, max_depth=int(max_depth), subsample=subsample, min_child_weight=min_child_weight,\n",
        "          colsample_bytree=colsample, n_estimators = n_est, random_state=run_num_16, objective = 'reg:squarederror')\n",
        "    score = np.array(cross_val_score(reg, X=X_train16, y=y_train16).mean())\n",
        "    return operator * score\n",
        "\n",
        "gp_16 = dGPGO_gp(surrogate_gp_16, Acquisition_grad(util_gp), f_syn_polarity16, param, n_jobs = -1) # define BayesOpt\n",
        "gp_16.run(max_iter = max_iter, init_evals = n_init) # run\n",
        "\n",
        "### Return optimal parameters' set:\n",
        "params_gp_16 = gp_16.getResult()[0]\n",
        "params_gp_16['max_depth'] = int(params_gp_16['max_depth'])\n",
        "params_gp_16['min_child_weight'] = int(params_gp_16['min_child_weight'])\n",
        "\n",
        "### Re-train with optimal parameters, run predictons:\n",
        "dX_gp_train16 = xgb.DMatrix(X_train16, y_train16)\n",
        "dX_gp_test16 = xgb.DMatrix(X_test16, y_test16)\n",
        "model_gp_16 = xgb.train(params_gp_16, dX_gp_train16)\n",
        "pred_gp_16 = model_gp_16.predict(dX_gp_test16)\n",
        "\n",
        "rmse_gp_16 = np.sqrt(mean_squared_error(pred_gp_16, y_test16))\n",
        "rmse_gp_16"
      ],
      "execution_count": null,
      "outputs": [
        {
          "output_type": "stream",
          "name": "stdout",
          "text": [
            "Evaluation \t Proposed point \t  Current eval. \t  Best eval. \t         Max. ExactAcqFunc \t Max. ApproxAcqFunc \n",
            "init\t [2.23291079 5.23163341 6.         0.65430839 5.         0.30077285]\t 0.9529819347295859\t 0.8883829281923242\t    \t    \n",
            "init\t [6.88726162 1.63731425 7.         0.97050543 2.         0.25392012]\t 0.9481041389252269\t 0.8883829281923242\t    \t    \n",
            "init\t [ 5.94328983  5.6393473   5.          0.67602695 19.          0.42538144]\t 0.8883829281923242\t 0.8883829281923242\t    \t    \n",
            "init\t [ 0.88741148  3.08148142 14.          0.56043938  9.          0.27515386]\t 0.9564077542414676\t 0.8883829281923242\t    \t    \n",
            "init\t [ 2.74631586  1.30996118 11.          0.52160786  8.          0.27956463]\t 0.9552184743546004\t 0.8883829281923242\t    \t    \n",
            "\u001b[1m\u001b[92m1\u001b[0m\t \u001b[1m\u001b[92m[ 7.8937256   1.5972923  14.          0.61610774 17.          0.78739284]\u001b[0m\t \u001b[1m\u001b[92m0.6878693399983744\u001b[0m\t \u001b[1m\u001b[92m0.6878693399983744\u001b[0m\t \u001b[1m\u001b[92m4.913864242189729\u001b[0m\t \u001b[1m\u001b[92m4.953963173345659\u001b[0m\n",
            "2  \t [ 9.65014948  7.07834667 14.          0.88748515  2.          0.43513691]\t 0.8747438848890932\t 0.6878693399983744\t 4.9943957780390935\t 4.940586329638052\n",
            "3  \t [ 9.80741348  8.90144788 14.          0.82131992 14.          0.46769684]\t 0.8608053593354814\t 0.6878693399983744\t 4.540298456628626\t 4.540679323330313\n",
            "4  \t [ 0.78730688  7.98438553 14.          0.91743896 18.          0.25645593]\t 0.9494553422981233\t 0.6878693399983744\t 4.902760217574971\t 4.98287573929346\n",
            "5  \t [ 1.64983341  0.37890577  9.          0.65437216 16.          0.49641159]\t 0.8646755374886521\t 0.6878693399983744\t 4.814632783880202\t 4.662962527451311\n",
            "6  \t [ 5.58043809  8.91463745  8.          0.85851576 10.          0.64398202]\t 0.7307340308882677\t 0.6878693399983744\t 4.8196455637426245\t 4.789221757349002\n",
            "7  \t [ 2.65571666  4.32529089 14.          0.66921971  2.          0.36607383]\t 0.9623426051674955\t 0.6878693399983744\t 4.9885243741537195\t 4.976309030344153\n",
            "8  \t [ 5.53392197  2.00879238  6.          0.89871466 12.          0.67694144]\t 0.7620148611738933\t 0.6878693399983744\t 4.795518177139348\t 4.766421647586129\n",
            "\u001b[1m\u001b[92m9\u001b[0m\t \u001b[1m\u001b[92m[6.95801625 9.13555009 8.         0.87520198 2.         0.98461662]\u001b[0m\t \u001b[1m\u001b[92m0.6730441336589406\u001b[0m\t \u001b[1m\u001b[92m0.6730441336589406\u001b[0m\t \u001b[1m\u001b[92m5.187000507168628\u001b[0m\t \u001b[1m\u001b[92m5.201243633584739\u001b[0m\n",
            "10 \t [0.  0.  5.  0.5 1.  0.1]\t 0.9761208022264058\t 0.6730441336589406\t 4.67838498524907\t 4.756826085419286\n",
            "11 \t [ 1.18539745  9.79684488 10.          0.69107903  4.          0.12860486]\t 0.9735436243628346\t 0.6730441336589406\t 5.177988416894124\t 5.1986120135104965\n",
            "12 \t [ 8.8197294   2.64777319 14.          0.98646567 10.          0.63786085]\t 0.7141008345477899\t 0.6730441336589406\t 5.097567823395034\t 5.11762065411459\n",
            "\u001b[1m\u001b[92m13\u001b[0m\t \u001b[1m\u001b[92m[ 0.26172129  9.94921995 14.          0.88029118  9.          0.93655616]\u001b[0m\t \u001b[1m\u001b[92m0.6551680070961308\u001b[0m\t \u001b[1m\u001b[92m0.6551680070961308\u001b[0m\t \u001b[1m\u001b[92m4.510330928162356\u001b[0m\t \u001b[1m\u001b[92m4.659969090180088\u001b[0m\n",
            "14 \t [ 9.63904847  1.13624975 14.          0.67706869  2.          0.95236673]\t 0.6655207401201757\t 0.6551680070961308\t 4.502113825005717\t 4.477130914353825\n",
            "15 \t [ 0.02157337  9.97534925  5.          0.75404051 13.          0.40760752]\t 0.8854668121365705\t 0.6551680070961308\t 4.748976923025051\t 4.726946852543375\n",
            "16 \t [ 5.73702737  7.50903876 13.          0.61487351 15.          0.57742278]\t 0.7778153254020743\t 0.6551680070961308\t 5.115396035318225\t 5.115396035318225\n",
            "17 \t [ 7.10469951  6.34150339 11.          0.9481748   6.          0.12277199]\t 0.9718611347031094\t 0.6551680070961308\t 4.675936148025302\t 4.65177888702853\n",
            "\u001b[1m\u001b[92m18\u001b[0m\t \u001b[1m\u001b[92m[10. 10. 15.  1. 20.  1.]\u001b[0m\t \u001b[1m\u001b[92m0.6493784945243817\u001b[0m\t \u001b[1m\u001b[92m0.6493784945243817\u001b[0m\t \u001b[1m\u001b[92m5.2037207400080625\u001b[0m\t \u001b[1m\u001b[92m4.9117917606508\u001b[0m\n",
            "19 \t [ 8.59406441  8.78568802  9.          0.91225225 18.          0.8490503 ]\t 0.6862655208656384\t 0.6493784945243817\t 4.6573264668486924\t 4.709838416764657\n",
            "20 \t [8.75370971 6.63075821 5.         0.51315816 7.         0.52603065]\t 0.8073058384557079\t 0.6493784945243817\t 4.925673524702594\t 4.970019373731213\n",
            "21 \t [ 9.99386934  5.02816989  8.          0.55649553 14.          0.90191945]\t 0.6762300545524115\t 0.6493784945243817\t 4.970904731615963\t 4.972721008148775\n",
            "22 \t [ 0.99836011  5.48181888  8.02868344  0.5        11.02868344  0.1       ]\t 0.9737157209462687\t 0.6493784945243817\t 4.773074678351833\t 5.08634164157474\n",
            "23 \t [ 3.65536835  8.11784641  8.          0.98715029 16.          0.54731662]\t 0.77590743437461\t 0.6493784945243817\t 5.104117809698371\t 5.040351312225171\n",
            "24 \t [9.80508544 0.83042511 7.         0.54124599 9.         0.7836072 ]\t 0.7113005276137964\t 0.6493784945243817\t 4.6577328250820615\t 4.658314878435452\n",
            "25 \t [ 9.31851763  0.06323567 10.          0.84876026 13.          0.97965305]\t 0.660053100016843\t 0.6493784945243817\t 4.629188198094144\t 4.694993016829583\n",
            "26 \t [ 5.38505352  0.27838384  8.          0.64624975 19.          0.94943729]\t 0.6741571003845405\t 0.6493784945243817\t 4.827584201511107\t 4.836557883566906\n",
            "27 \t [ 0.2375092   5.20448002  7.          0.887766   16.          0.16167958]\t 0.971082975245141\t 0.6493784945243817\t 4.6977860363183055\t 4.702381814741581\n",
            "28 \t [ 1.9619463   0.16028995 10.          0.50330845  2.          0.6207421 ]\t 0.7893707891931834\t 0.6493784945243817\t 4.832102518844202\t 4.861091349737974\n",
            "29 \t [ 0.          1.49372721  5.          0.5        12.84890732  0.1       ]\t 0.975832568729668\t 0.6493784945243817\t 4.8117079754561365\t 4.901814108417601\n",
            "\u001b[1m\u001b[92m30\u001b[0m\t \u001b[1m\u001b[92m[10.          7.94805311 14.69446325  1.          7.69446325  1.        ]\u001b[0m\t \u001b[1m\u001b[92m0.6469284373153619\u001b[0m\t \u001b[1m\u001b[92m0.6469284373153619\u001b[0m\t \u001b[1m\u001b[92m4.815629105410811\u001b[0m\t \u001b[1m\u001b[92m4.821159371031054\u001b[0m\n"
          ]
        },
        {
          "output_type": "execute_result",
          "data": {
            "text/plain": [
              "50464.36043981432"
            ]
          },
          "metadata": {},
          "execution_count": 36
        }
      ]
    },
    {
      "cell_type": "code",
      "metadata": {
        "id": "SXelbcAVVCqO",
        "colab": {
          "base_uri": "https://localhost:8080/"
        },
        "outputId": "8df24060-fdc1-4b34-c2c1-cb14682c0c55"
      },
      "source": [
        "### Bayesian optimization runs (x20): 'Exact GP CBM' Acquisition Function run number = 17\n",
        "\n",
        "np.random.seed(run_num_17)\n",
        "surrogate_gp_17 = dGaussianProcess(cov_func, optimize=opt)\n",
        "\n",
        "X_train17, X_test17, y_train17, y_test17 = train_test_split(X, y, test_size=test_perc, random_state=run_num_17)\n",
        "\n",
        "def f_syn_polarity17(alpha, gamma, max_depth, subsample, min_child_weight, colsample):\n",
        "    reg = XGBRegressor(reg_alpha=alpha, gamma=gamma, max_depth=int(max_depth), subsample=subsample, min_child_weight=min_child_weight,\n",
        "          colsample_bytree=colsample, n_estimators = n_est, random_state=run_num_17, objective = 'reg:squarederror')\n",
        "    score = np.array(cross_val_score(reg, X=X_train17, y=y_train17).mean())\n",
        "    return operator * score\n",
        "\n",
        "gp_17 = dGPGO_gp(surrogate_gp_17, Acquisition_grad(util_gp), f_syn_polarity17, param, n_jobs = -1) # define BayesOpt\n",
        "gp_17.run(max_iter = max_iter, init_evals = n_init) # run\n",
        "\n",
        "### Return optimal parameters' set:\n",
        "params_gp_17 = gp_17.getResult()[0]\n",
        "params_gp_17['max_depth'] = int(params_gp_17['max_depth'])\n",
        "params_gp_17['min_child_weight'] = int(params_gp_17['min_child_weight'])\n",
        "\n",
        "### Re-train with optimal parameters, run predictons:\n",
        "dX_gp_train17 = xgb.DMatrix(X_train17, y_train17)\n",
        "dX_gp_test17 = xgb.DMatrix(X_test17, y_test17)\n",
        "model_gp_17 = xgb.train(params_gp_17, dX_gp_train17)\n",
        "pred_gp_17 = model_gp_17.predict(dX_gp_test17)\n",
        "\n",
        "rmse_gp_17 = np.sqrt(mean_squared_error(pred_gp_17, y_test17))\n",
        "rmse_gp_17"
      ],
      "execution_count": null,
      "outputs": [
        {
          "output_type": "stream",
          "name": "stdout",
          "text": [
            "Evaluation \t Proposed point \t  Current eval. \t  Best eval. \t         Max. ExactAcqFunc \t Max. ApproxAcqFunc \n",
            "init\t [ 2.94665003  5.30586756 11.          0.94443241 14.          0.80828691]\t 0.7141038418197827\t 0.7141038418197827\t    \t    \n",
            "init\t [ 6.56333522  6.37520896 12.          0.81487881 18.          0.42203224]\t 0.8024876355160464\t 0.7141038418197827\t    \t    \n",
            "init\t [ 9.45683187  0.6004468  11.          0.5171566  10.          0.53881211]\t 0.7659849712152795\t 0.7141038418197827\t    \t    \n",
            "init\t [2.72705857 1.19063434 6.         0.74176431 6.         0.10101151]\t 0.9684453836634761\t 0.7141038418197827\t    \t    \n",
            "init\t [ 4.77631812  5.24671297 13.          0.66254476 19.          0.36708086]\t 0.8556892362199922\t 0.7141038418197827\t    \t    \n",
            "1  \t [ 0.65702322  5.79284078 13.          0.75136902  1.          0.30306068]\t 0.86898292288902\t 0.7141038418197827\t 4.747791559315053\t 4.671180894742347\n",
            "2  \t [8.79462978 7.51560605 6.         0.76312232 8.         0.57156636]\t 0.778300364354035\t 0.7141038418197827\t 4.491563385633753\t 4.450053555075303\n",
            "3  \t [0.65992542 7.03112384 5.         0.85138174 1.         0.9514344 ]\t 0.726434848802118\t 0.7141038418197827\t 4.7534424795890695\t 4.883858636025436\n",
            "4  \t [ 9.51671323  9.6124566  13.          0.71797221  5.          0.16581182]\t 0.9672674042711217\t 0.7141038418197827\t 4.681741728719324\t 4.670974963061081\n",
            "5  \t [ 9.17797544  5.99568118  6.          0.52445603 15.          0.40946449]\t 0.826366430225874\t 0.7141038418197827\t 4.910430341922362\t 4.8823987717619595\n",
            "6  \t [ 6.81284184  2.29577018  7.          0.5239727  13.          0.33920765]\t 0.8659399691320455\t 0.7141038418197827\t 5.060617134184262\t 5.0619872515754505\n",
            "7  \t [ 2.46339402  0.14039019 14.          0.95096219  7.          0.5441132 ]\t 0.7563633439329396\t 0.7141038418197827\t 5.467307528156022\t 5.127880144108581\n",
            "8  \t [9.72843652 3.88893279 9.         0.6901555  1.         0.31608219]\t 0.861798864893942\t 0.7141038418197827\t 4.848001378026345\t 4.875954077739349\n",
            "9  \t [ 1.2716555   3.78378689  5.          0.57556817 17.          0.18163876]\t 0.9716163961274858\t 0.7141038418197827\t 5.194856132728539\t 4.843949624555134\n",
            "10 \t [1.38490793 6.87002541 5.         0.73931504 9.         0.41767138]\t 0.829976302946727\t 0.7141038418197827\t 4.9723366698807245\t 4.812616963004089\n",
            "11 \t [ 0.19725752  8.16335211 14.          0.80836431  8.          0.45209851]\t 0.8069651446453449\t 0.7141038418197827\t 4.803875785804784\t 4.782601377697226\n",
            "12 \t [0.  0.  5.  0.5 1.  0.1]\t 0.973743062796521\t 0.7141038418197827\t 5.062202272896403\t 4.952772331093984\n",
            "\u001b[1m\u001b[92m13\u001b[0m\t \u001b[1m\u001b[92m[ 3.59195217  9.80069458 14.46395668  1.         13.46395668  1.        ]\u001b[0m\t \u001b[1m\u001b[92m0.6456659252877076\u001b[0m\t \u001b[1m\u001b[92m0.6456659252877076\u001b[0m\t \u001b[1m\u001b[92m4.7610441289234915\u001b[0m\t \u001b[1m\u001b[92m4.738132323298915\u001b[0m\n",
            "14 \t [ 7.35111323  4.42247898 14.          0.92954426  7.          0.31778445]\t 0.8561431043387969\t 0.6456659252877076\t 4.660464137146349\t 4.641437818237277\n",
            "15 \t [ 9.19532326  8.42928342 11.          0.5289521  11.          0.74996998]\t 0.7306673350944987\t 0.6456659252877076\t 4.9533546224195675\t 4.809072634257162\n",
            "16 \t [6.14842106 3.92031042 5.         0.80436272 5.         0.42842685]\t 0.8298337600349435\t 0.6456659252877076\t 4.5749237146611685\t 4.565831357006665\n",
            "17 \t [ 8.71411284 10.         15.          1.         20.          1.        ]\t 0.6457002498512738\t 0.6456659252877076\t 4.946989692848916\t 4.852739908930836\n",
            "18 \t [3.21543768 9.27540715 7.30100001 1.         4.30100001 1.        ]\t 0.6762117159594514\t 0.6456659252877076\t 4.649424086705432\t 4.835044597909451\n",
            "19 \t [ 0.45348627  9.34732483 12.          0.95759453 19.          0.71400033]\t 0.7137199048529451\t 0.6456659252877076\t 4.836942529733114\t 4.957751549057328\n",
            "20 \t [ 6.88175573  0.68997438  9.          0.55006192 19.          0.74555899]\t 0.7341056462061506\t 0.6456659252877076\t 5.042915030670929\t 5.173400215278046\n",
            "21 \t [ 7.32262595  0.987487   14.          0.78324612 14.          0.76403633]\t 0.7129217809179572\t 0.6456659252877076\t 5.316860481798476\t 5.205464845322413\n",
            "22 \t [10.          8.60512129  7.32316083  1.         19.32316083  1.        ]\t 0.6751862254562437\t 0.6456659252877076\t 5.101644826423877\t 5.038928762853327\n",
            "23 \t [ 1.82571417  1.10459506  8.          0.86860341 12.          0.79911304]\t 0.7245512187959985\t 0.6456659252877076\t 5.139334427458683\t 5.114845709299017\n",
            "24 \t [ 6.29608276  2.95005189 13.          0.54497938  1.          0.46521165]\t 0.8294583632030414\t 0.6456659252877076\t 4.475147574322815\t 4.548402695584415\n",
            "25 \t [9.66959108 0.03423869 5.         0.63791788 7.         0.65549808]\t 0.7797393754763862\t 0.6456659252877076\t 4.94874940880409\t 5.028790843142109\n",
            "26 \t [ 3.48848181 10.          8.05755142  1.         11.05755142  1.        ]\t 0.6628017804606305\t 0.6456659252877076\t 4.542104620880178\t 4.6038108010557455\n",
            "27 \t [ 5.48379726  6.58855631  5.          0.91493075 18.          0.89669113]\t 0.7275389527778259\t 0.6456659252877076\t 4.9403234219552505\t 4.964526660574482\n",
            "\u001b[1m\u001b[92m28\u001b[0m\t \u001b[1m\u001b[92m[10.          9.41707104 15.          1.         14.23412687  1.        ]\u001b[0m\t \u001b[1m\u001b[92m0.6454802782627663\u001b[0m\t \u001b[1m\u001b[92m0.6454802782627663\u001b[0m\t \u001b[1m\u001b[92m4.895868535683143\u001b[0m\t \u001b[1m\u001b[92m4.85121613391787\u001b[0m\n",
            "29 \t [ 0.30609514  2.49894713 14.          0.69397027 18.          0.71750058]\t 0.7193266691045255\t 0.6454802782627663\t 5.187823115928704\t 5.551085463822327\n",
            "30 \t [7.09089096 0.15824242 6.3104263  0.5        1.3104263  0.1       ]\t 0.9731847360919395\t 0.6454802782627663\t 4.801034131160994\t 4.946235060624009\n"
          ]
        },
        {
          "output_type": "execute_result",
          "data": {
            "text/plain": [
              "48192.62034549872"
            ]
          },
          "metadata": {},
          "execution_count": 37
        }
      ]
    },
    {
      "cell_type": "code",
      "metadata": {
        "id": "qJG2fAtAVFDZ",
        "colab": {
          "base_uri": "https://localhost:8080/"
        },
        "outputId": "65c0bbc5-7e2f-474f-fa4c-115c66e196a8"
      },
      "source": [
        "### Bayesian optimization runs (x20): 'Exact GP CBM' Acquisition Function run number = 18\n",
        "\n",
        "np.random.seed(run_num_18)\n",
        "surrogate_gp_18 = dGaussianProcess(cov_func, optimize=opt)\n",
        "\n",
        "X_train18, X_test18, y_train18, y_test18 = train_test_split(X, y, test_size=test_perc, random_state=run_num_18)\n",
        "\n",
        "def f_syn_polarity18(alpha, gamma, max_depth, subsample, min_child_weight, colsample):\n",
        "    reg = XGBRegressor(reg_alpha=alpha, gamma=gamma, max_depth=int(max_depth), subsample=subsample, min_child_weight=min_child_weight,\n",
        "          colsample_bytree=colsample, n_estimators = n_est, random_state=run_num_11, objective = 'reg:squarederror')\n",
        "    score = np.array(cross_val_score(reg, X=X_train18, y=y_train18).mean())\n",
        "    return operator * score\n",
        "\n",
        "gp_18 = dGPGO_gp(surrogate_gp_18, Acquisition_grad(util_gp), f_syn_polarity18, param, n_jobs = -1) # define BayesOpt\n",
        "gp_18.run(max_iter = max_iter, init_evals = n_init) # run\n",
        "\n",
        "### Return optimal parameters' set:\n",
        "params_gp_18 = gp_18.getResult()[0]\n",
        "params_gp_18['max_depth'] = int(params_gp_18['max_depth'])\n",
        "params_gp_18['min_child_weight'] = int(params_gp_18['min_child_weight'])\n",
        "\n",
        "### Re-train with optimal parameters, run predictons:\n",
        "dX_gp_train18 = xgb.DMatrix(X_train18, y_train18)\n",
        "dX_gp_test18 = xgb.DMatrix(X_test18, y_test18)\n",
        "model_gp_18 = xgb.train(params_gp_18, dX_gp_train18)\n",
        "pred_gp_18 = model_gp_18.predict(dX_gp_test18)\n",
        "\n",
        "rmse_gp_18 = np.sqrt(mean_squared_error(pred_gp_18, y_test18))\n",
        "rmse_gp_18"
      ],
      "execution_count": null,
      "outputs": [
        {
          "output_type": "stream",
          "name": "stdout",
          "text": [
            "Evaluation \t Proposed point \t  Current eval. \t  Best eval. \t         Max. ExactAcqFunc \t Max. ApproxAcqFunc \n",
            "init\t [6.50374242 5.05453374 6.         0.59092011 3.         0.28357516]\t 0.8853778201562241\t 0.6968179065224296\t    \t    \n",
            "init\t [0.11506734 4.26891483 9.         0.81785956 5.         0.63489043]\t 0.6968179065224296\t 0.6968179065224296\t    \t    \n",
            "init\t [ 2.8861259   6.35547834 11.          0.64267955 14.          0.27877092]\t 0.8778125354456613\t 0.6968179065224296\t    \t    \n",
            "init\t [6.57189031 6.99655629 8.         0.63235896 4.         0.52894035]\t 0.7421252990295766\t 0.6968179065224296\t    \t    \n",
            "init\t [ 6.66600348  2.11312037 14.          0.74363461  4.          0.73174558]\t 0.7041732589144625\t 0.6968179065224296\t    \t    \n",
            "1  \t [ 8.67093232  0.11649132  5.          0.92962202 15.          0.53672863]\t 0.7694285284315747\t 0.6968179065224296\t 4.770084294240499\t 4.654012318154751\n",
            "\u001b[1m\u001b[92m2\u001b[0m\t \u001b[1m\u001b[92m[ 7.2764983   0.11744451 14.          0.65239666 17.          0.99049521]\u001b[0m\t \u001b[1m\u001b[92m0.65697799905797\u001b[0m\t \u001b[1m\u001b[92m0.65697799905797\u001b[0m\t \u001b[1m\u001b[92m5.288963880303652\u001b[0m\t \u001b[1m\u001b[92m5.197528338647241\u001b[0m\n",
            "3  \t [ 6.9243088   2.24175244  9.          0.535904   10.          0.52104842]\t 0.740342057576812\t 0.65697799905797\t 4.554715834467605\t 4.5983167432252205\n",
            "4  \t [ 9.05522886  7.72410538  5.          0.69563915 18.          0.34113663]\t 0.893321248053374\t 0.65697799905797\t 5.074592456225588\t 5.077419459361694\n",
            "5  \t [ 9.98394208  8.5932438  14.          0.75596751 19.          0.64506065]\t 0.697182883066114\t 0.65697799905797\t 5.0907596722290736\t 5.090759478364865\n",
            "\u001b[1m\u001b[92m6\u001b[0m\t \u001b[1m\u001b[92m[10.         10.         14.30076199  1.          8.30076199  1.        ]\u001b[0m\t \u001b[1m\u001b[92m0.6426792166415345\u001b[0m\t \u001b[1m\u001b[92m0.6426792166415345\u001b[0m\t \u001b[1m\u001b[92m5.249769991714341\u001b[0m\t \u001b[1m\u001b[92m5.278325514241494\u001b[0m\n",
            "7  \t [ 0.08591204  9.74195655 12.          0.74151757  5.          0.3185873 ]\t 0.8840725618249469\t 0.6426792166415345\t 4.820158538585032\t 4.765905944930675\n",
            "8  \t [0.  0.  5.  0.5 1.  0.1]\t 0.9362285777120221\t 0.6426792166415345\t 4.813294095683826\t 4.691725699590233\n",
            "9  \t [ 1.80118477  1.19747778 13.          0.79590104  8.          0.56741067]\t 0.7318688282028918\t 0.6426792166415345\t 5.255461181959773\t 5.229331253031967\n",
            "10 \t [ 2.63732683  4.87962717 14.          0.99986359 19.          0.86504659]\t 0.6917610853596872\t 0.6426792166415345\t 4.8363260686870415\t 4.729387567079121\n",
            "11 \t [ 0.2637722   4.11659493  5.          0.61604637 11.          0.22374653]\t 0.934862140121076\t 0.6426792166415345\t 4.873855619030762\t 4.662838192749388\n",
            "12 \t [ 8.56482477  9.24926819  7.          0.5563792  11.          0.77957337]\t 0.7146827233550802\t 0.6426792166415345\t 4.599214714888663\t 4.638316554434193\n",
            "13 \t [ 1.3916722   9.15131624  5.          0.92812295 18.          0.82773453]\t 0.7365431886620325\t 0.6426792166415345\t 4.657060063769553\t 4.67760119006878\n",
            "\u001b[1m\u001b[92m14\u001b[0m\t \u001b[1m\u001b[92m[10.          5.00427882 15.          1.         13.88463307  1.        ]\u001b[0m\t \u001b[1m\u001b[92m0.6419310258048125\u001b[0m\t \u001b[1m\u001b[92m0.6419310258048125\u001b[0m\t \u001b[1m\u001b[92m4.836244786242166\u001b[0m\t \u001b[1m\u001b[92m4.773320118146322\u001b[0m\n",
            "15 \t [ 2.3725221   1.25906939 10.          0.50882646  1.          0.22780426]\t 0.9299367930940793\t 0.6419310258048125\t 4.85369218335767\t 4.7858775629953305\n",
            "16 \t [ 0.71491502  0.67997826 10.          0.84656193 16.          0.26877596]\t 0.8729085752645085\t 0.6419310258048125\t 5.0919836491519614\t 5.127811144267269\n",
            "17 \t [ 5.01391374  9.05765577 13.          0.9768187   1.          0.92456281]\t 0.6564534467026883\t 0.6419310258048125\t 5.057373593897772\t 4.938462771552999\n",
            "\u001b[1m\u001b[92m18\u001b[0m\t \u001b[1m\u001b[92m[ 3.94098716 10.         15.          1.          6.91515274  1.        ]\u001b[0m\t \u001b[1m\u001b[92m0.6409471889030014\u001b[0m\t \u001b[1m\u001b[92m0.6409471889030014\u001b[0m\t \u001b[1m\u001b[92m4.747642106205155\u001b[0m\t \u001b[1m\u001b[92m4.992224097649923\u001b[0m\n",
            "19 \t [9.2798599  7.10759547 6.         0.7926243  1.         0.10786223]\t 0.932289957585124\t 0.6409471889030014\t 4.959782156348551\t 4.851500871761815\n",
            "20 \t [ 6.02194149  6.46806979 13.          0.63216095 10.          0.2491756 ]\t 0.9278265252934119\t 0.6409471889030014\t 4.945164063517641\t 4.9563094741780285\n",
            "21 \t [ 1.2588084   9.80413977  5.          0.75618546 12.          0.53020258]\t 0.7726367108722194\t 0.6409471889030014\t 5.055413147320846\t 5.058226012688078\n",
            "22 \t [10.          2.44018128  8.68201897  1.         17.68201897  1.        ]\t 0.6623755610666212\t 0.6409471889030014\t 4.73901380431352\t 4.6365948857434125\n",
            "23 \t [ 4.38510117 10.         12.08528003  1.         19.08528003  1.        ]\t 0.6442979586734034\t 0.6409471889030014\t 4.983975593554427\t 4.849025619013779\n",
            "24 \t [ 4.74991262  6.10890882  7.          0.89072689 18.          0.37196885]\t 0.877748764283187\t 0.6409471889030014\t 5.094313984956504\t 5.105779024004193\n",
            "25 \t [1.07172211 9.91320527 6.         0.98176043 4.         0.24706724]\t 0.9310139235762914\t 0.6409471889030014\t 4.463914739492755\t 4.505593144331447\n",
            "26 \t [0.         0.         5.         0.5        7.52731033 0.1       ]\t 0.9359570304385496\t 0.6409471889030014\t 4.788517789380181\t 4.852524641515345\n",
            "27 \t [ 0.24526093  9.9241919  13.          0.52652258 12.          0.43108972]\t 0.7744431314593644\t 0.6409471889030014\t 5.399363041353364\t 5.475872375725821\n",
            "28 \t [0.68687496 7.61952967 6.         0.69420959 8.         0.10232955]\t 0.9323929856925224\t 0.6409471889030014\t 4.226492831557808\t 4.21334199378396\n",
            "29 \t [9.89337178 3.81875947 5.         0.59649267 7.         0.86884145]\t 0.739125810481835\t 0.6409471889030014\t 4.902461135986769\t 4.942206792186569\n",
            "30 \t [ 0.          0.          5.          0.5        14.96323063  0.1       ]\t 0.9354493510289681\t 0.6409471889030014\t 5.176074646396735\t 5.267660965330373\n"
          ]
        },
        {
          "output_type": "execute_result",
          "data": {
            "text/plain": [
              "48664.93248815556"
            ]
          },
          "metadata": {},
          "execution_count": 38
        }
      ]
    },
    {
      "cell_type": "code",
      "metadata": {
        "id": "XHidSEGcVHvG",
        "colab": {
          "base_uri": "https://localhost:8080/"
        },
        "outputId": "7c48af27-1748-4b6a-a941-d0552f1e483a"
      },
      "source": [
        "### Bayesian optimization runs (x20): 'Exact GP CBM' Acquisition Function run number = 19\n",
        "\n",
        "np.random.seed(run_num_19)\n",
        "surrogate_gp_19 = dGaussianProcess(cov_func, optimize=opt)\n",
        "\n",
        "X_train19, X_test19, y_train19, y_test19 = train_test_split(X, y, test_size=test_perc, random_state=run_num_19)\n",
        "\n",
        "def f_syn_polarity19(alpha, gamma, max_depth, subsample, min_child_weight, colsample):\n",
        "    reg = XGBRegressor(reg_alpha=alpha, gamma=gamma, max_depth=int(max_depth), subsample=subsample, min_child_weight=min_child_weight,\n",
        "          colsample_bytree=colsample, n_estimators = n_est, random_state=run_num_19, objective = 'reg:squarederror')\n",
        "    score = np.array(cross_val_score(reg, X=X_train19, y=y_train19).mean())\n",
        "    return operator * score\n",
        "\n",
        "gp_19 = dGPGO_gp(surrogate_gp_19, Acquisition_grad(util_gp), f_syn_polarity19, param, n_jobs = -1) # define BayesOpt\n",
        "gp_19.run(max_iter = max_iter, init_evals = n_init) # run\n",
        "\n",
        "### Return optimal parameters' set:\n",
        "params_gp_19 = gp_19.getResult()[0]\n",
        "params_gp_19['max_depth'] = int(params_gp_19['max_depth'])\n",
        "params_gp_19['min_child_weight'] = int(params_gp_19['min_child_weight'])\n",
        "\n",
        "### Re-train with optimal parameters, run predictons:\n",
        "dX_gp_train19 = xgb.DMatrix(X_train19, y_train19)\n",
        "dX_gp_test19 = xgb.DMatrix(X_test19, y_test19)\n",
        "model_gp_19 = xgb.train(params_gp_19, dX_gp_train19)\n",
        "pred_gp_19 = model_gp_19.predict(dX_gp_test19)\n",
        "\n",
        "rmse_gp_19 = np.sqrt(mean_squared_error(pred_gp_19, y_test19))\n",
        "rmse_gp_19"
      ],
      "execution_count": null,
      "outputs": [
        {
          "output_type": "stream",
          "name": "stdout",
          "text": [
            "Evaluation \t Proposed point \t  Current eval. \t  Best eval. \t         Max. ExactAcqFunc \t Max. ApproxAcqFunc \n",
            "init\t [ 0.97533602  7.61249717 13.          0.85765469 11.          0.39830191]\t 0.7381578397530673\t 0.7295721630591281\t    \t    \n",
            "init\t [ 0.82999565  6.71977081  6.          0.50407413 19.          0.67209466]\t 0.7470234185181706\t 0.7295721630591281\t    \t    \n",
            "init\t [ 2.15923256  5.49027432 12.          0.52588686 10.          0.20235326]\t 1.018052265694813\t 0.7295721630591281\t    \t    \n",
            "init\t [4.99659267 1.52108422 6.         0.73481085 4.         0.71949465]\t 0.7455570460653044\t 0.7295721630591281\t    \t    \n",
            "init\t [ 3.72927156  9.46160045  5.          0.80554614 18.          0.97708466]\t 0.7295721630591281\t 0.7295721630591281\t    \t    \n",
            "\u001b[1m\u001b[92m1\u001b[0m\t \u001b[1m\u001b[92m[ 8.33060043  1.42030563  8.          0.92863724 14.          0.78606141]\u001b[0m\t \u001b[1m\u001b[92m0.6773838424850286\u001b[0m\t \u001b[1m\u001b[92m0.6773838424850286\u001b[0m\t \u001b[1m\u001b[92m5.062198493324845\u001b[0m\t \u001b[1m\u001b[92m4.918837011711703\u001b[0m\n",
            "2  \t [ 9.87536409  7.17591217 14.          0.99713522 17.          0.55460731]\t 0.7019341665321482\t 0.6773838424850286\t 4.646070358964871\t 4.716635009368274\n",
            "3  \t [ 9.05225624  3.60011377 14.          0.89518364  1.          0.11342054]\t 1.0199606306890758\t 0.6773838424850286\t 5.073270631355707\t 5.018665433340296\n",
            "4  \t [ 0.63994078  3.71351436 14.          0.60091862  1.          0.58598556]\t 0.7327508164518542\t 0.6773838424850286\t 4.628123306108822\t 4.660299749770266\n",
            "5  \t [4.99125702 9.50308409 8.         0.55828329 3.         0.34673953]\t 0.8626234515673594\t 0.6773838424850286\t 4.466116377723856\t 4.391527305872192\n",
            "6  \t [ 1.75895835  6.57561646  5.          0.5        11.74942566  0.1       ]\t 1.0123750187307672\t 0.6773838424850286\t 4.634718371913562\t 4.60543594208835\n",
            "7  \t [ 3.74566023  2.13062241 14.          0.71219729 18.          0.68959412]\t 0.7065170119936448\t 0.6773838424850286\t 5.108042045661801\t 4.879288867184523\n",
            "\u001b[1m\u001b[92m8\u001b[0m\t \u001b[1m\u001b[92m[ 8.78531367  5.16236615 10.          0.71284072  9.          0.88546543]\u001b[0m\t \u001b[1m\u001b[92m0.6722375711719282\u001b[0m\t \u001b[1m\u001b[92m0.6722375711719282\u001b[0m\t \u001b[1m\u001b[92m4.869917057653894\u001b[0m\t \u001b[1m\u001b[92m4.584281145049932\u001b[0m\n",
            "9  \t [ 2.19431997  0.03640407  7.          0.62674231 12.          0.80025129]\t 0.6943584427070677\t 0.6722375711719282\t 4.6919152325222555\t 4.695708270689887\n",
            "10 \t [ 4.45643696  6.43761151 10.          0.59521711 15.          0.91320177]\t 0.6773536163008785\t 0.6722375711719282\t 5.314985501214943\t 5.192330554723294\n",
            "11 \t [ 8.347612    9.05501181  5.          0.50033019 10.          0.41046448]\t 0.7834119309620006\t 0.6722375711719282\t 4.577846473839981\t 4.528673839229174\n",
            "12 \t [0.65143665 0.43333944 8.         0.99854237 1.         0.16016316]\t 1.0166352242080512\t 0.6722375711719282\t 4.959058040625464\t 4.759738264071343\n",
            "13 \t [0.04130113 6.56643894 8.         0.8316257  6.         0.23623124]\t 1.0149681655113947\t 0.6722375711719282\t 4.602203602398329\t 4.632545510296022\n",
            "14 \t [ 9.18890824  5.50760906  5.          0.92553651 18.          0.76040056]\t 0.7335321473751593\t 0.6722375711719282\t 4.729111621325819\t 4.711535370297752\n",
            "15 \t [ 8.99876272  0.14180428 14.          0.5207566  10.          0.28841204]\t 0.8640399232649498\t 0.6722375711719282\t 5.363282156155798\t 5.063301240637541\n",
            "16 \t [ 0.9019348   8.21531788 14.          0.85098746 17.          0.41254672]\t 0.7391934581482711\t 0.6722375711719282\t 4.890032201574086\t 4.857567232328437\n",
            "17 \t [9.42305669 0.3423134  7.         0.77066127 8.         0.63693457]\t 0.7280806792663158\t 0.6722375711719282\t 4.647060249730861\t 4.678872792827488\n",
            "18 \t [ 4.53712581  0.82823489 12.          0.77278662  7.          0.49955948]\t 0.7418182765032342\t 0.6722375711719282\t 5.277360458560701\t 5.209727788201925\n",
            "19 \t [ 9.97958622  9.03409533 12.          0.51772082  4.          0.45869101]\t 0.7501971944554292\t 0.6722375711719282\t 5.1555279239331995\t 5.2646490908343635\n",
            "\u001b[1m\u001b[92m20\u001b[0m\t \u001b[1m\u001b[92m[10.         10.          8.38011117  1.         20.          1.        ]\u001b[0m\t \u001b[1m\u001b[92m0.6711453076896204\u001b[0m\t \u001b[1m\u001b[92m0.6711453076896204\u001b[0m\t \u001b[1m\u001b[92m5.138983993783417\u001b[0m\t \u001b[1m\u001b[92m5.071216550429764\u001b[0m\n",
            "21 \t [ 3.16526468  9.88957695 14.          0.66718624  2.          0.49421519]\t 0.754638877583424\t 0.6711453076896204\t 4.9762875211147515\t 4.995868785923335\n",
            "22 \t [9.45817904 5.07482593 5.         0.8727678  6.         0.48725282]\t 0.7840445337336488\t 0.6711453076896204\t 5.063032737791107\t 4.875183372260635\n",
            "23 \t [1.72494605 7.33858862 5.         0.5        1.         0.1       ]\t 1.0128744970813746\t 0.6711453076896204\t 4.826829846551751\t 4.746058525646648\n",
            "\u001b[1m\u001b[92m24\u001b[0m\t \u001b[1m\u001b[92m[ 9.73418959  9.54467348 12.4113706   1.         10.4113706   1.        ]\u001b[0m\t \u001b[1m\u001b[92m0.6510500032625633\u001b[0m\t \u001b[1m\u001b[92m0.6510500032625633\u001b[0m\t \u001b[1m\u001b[92m5.0663551331044365\u001b[0m\t \u001b[1m\u001b[92m5.074541415704492\u001b[0m\n",
            "25 \t [ 0.43243892  2.15970764 11.6598002   0.5        14.6598002   0.1       ]\t 1.0156352787457366\t 0.6510500032625633\t 5.024585902886183\t 4.938032649681902\n",
            "26 \t [ 4.53180487  0.0612731  11.50016617  0.5         1.50016617  0.1       ]\t 1.0193560199836262\t 0.6510500032625633\t 5.342507196888323\t 5.129566668583006\n",
            "\u001b[1m\u001b[92m27\u001b[0m\t \u001b[1m\u001b[92m[ 7.05604369  4.57549649 15.          1.         11.72304426  1.        ]\u001b[0m\t \u001b[1m\u001b[92m0.6499323326996702\u001b[0m\t \u001b[1m\u001b[92m0.6499323326996702\u001b[0m\t \u001b[1m\u001b[92m4.963520990955362\u001b[0m\t \u001b[1m\u001b[92m4.94592969189384\u001b[0m\n",
            "28 \t [ 4.53470807  2.6500816   5.          0.70480421 17.          0.65004423]\t 0.7697998132860621\t 0.6499323326996702\t 4.654900321846855\t 4.769104979852507\n",
            "29 \t [ 8.73793669  2.43663345 11.          0.74070373 19.          0.18745114]\t 1.016658260578657\t 0.6499323326996702\t 4.928814249037072\t 4.808012935285768\n",
            "30 \t [ 9.80949062  0.42526047 11.          0.61085682  4.          0.94165398]\t 0.6776829311951872\t 0.6499323326996702\t 5.047669879099033\t 4.618825340986989\n"
          ]
        },
        {
          "output_type": "execute_result",
          "data": {
            "text/plain": [
              "48910.5972756216"
            ]
          },
          "metadata": {},
          "execution_count": 39
        }
      ]
    },
    {
      "cell_type": "code",
      "metadata": {
        "id": "CWGPYRJhVKsO",
        "colab": {
          "base_uri": "https://localhost:8080/"
        },
        "outputId": "08b7fb46-e9b0-4902-e297-c4c5315652e5"
      },
      "source": [
        "### Bayesian optimization runs (x20): 'Exact GP CBM' Acquisition Function run number = 20\n",
        "\n",
        "np.random.seed(run_num_20)\n",
        "surrogate_gp_20 = dGaussianProcess(cov_func, optimize=opt)\n",
        "\n",
        "X_train20, X_test20, y_train20, y_test20 = train_test_split(X, y, test_size=test_perc, random_state=run_num_20)\n",
        "\n",
        "def f_syn_polarity20(alpha, gamma, max_depth, subsample, min_child_weight, colsample):\n",
        "    reg = XGBRegressor(reg_alpha=alpha, gamma=gamma, max_depth=int(max_depth), subsample=subsample, min_child_weight=min_child_weight,\n",
        "          colsample_bytree=colsample, n_estimators = n_est, random_state=run_num_20, objective = 'reg:squarederror')\n",
        "    score = np.array(cross_val_score(reg, X=X_train20, y=y_train20).mean())\n",
        "    return operator * score\n",
        "\n",
        "gp_20 = dGPGO_gp(surrogate_gp_20, Acquisition_grad(util_gp), f_syn_polarity20, param, n_jobs = -1) # define BayesOpt\n",
        "gp_20.run(max_iter = max_iter, init_evals = n_init) # run\n",
        "\n",
        "### Return optimal parameters' set:\n",
        "params_gp_20 = gp_20.getResult()[0]\n",
        "params_gp_20['max_depth'] = int(params_gp_20['max_depth'])\n",
        "params_gp_20['min_child_weight'] = int(params_gp_20['min_child_weight'])\n",
        "\n",
        "### Re-train with optimal parameters, run predictons:\n",
        "dX_gp_train20 = xgb.DMatrix(X_train20, y_train20)\n",
        "dX_gp_test20 = xgb.DMatrix(X_test20, y_test20)\n",
        "model_gp_20 = xgb.train(params_gp_20, dX_gp_train20)\n",
        "pred_gp_20 = model_gp_20.predict(dX_gp_test20)\n",
        "\n",
        "rmse_gp_20 = np.sqrt(mean_squared_error(pred_gp_20, y_test20))\n",
        "rmse_gp_20"
      ],
      "execution_count": null,
      "outputs": [
        {
          "output_type": "stream",
          "name": "stdout",
          "text": [
            "Evaluation \t Proposed point \t  Current eval. \t  Best eval. \t         Max. ExactAcqFunc \t Max. ApproxAcqFunc \n",
            "init\t [ 5.88130801  8.97713728 14.          0.81074445  8.          0.95540649]\t 0.6597299542050263\t 0.6597299542050263\t    \t    \n",
            "init\t [6.72865655 0.41173329 8.         0.6361582  7.         0.76174061]\t 0.6983733363249625\t 0.6597299542050263\t    \t    \n",
            "init\t [ 4.77387703  8.66202323 10.          0.51833215  7.          0.10123387]\t 1.0633118913318171\t 0.6597299542050263\t    \t    \n",
            "init\t [ 5.75489985  4.74524381  8.          0.78084343 15.          0.26643049]\t 0.8790653027854468\t 0.6597299542050263\t    \t    \n",
            "init\t [ 4.53444     4.47342833  8.          0.91974896 18.          0.35997552]\t 0.8778581695963045\t 0.6597299542050263\t    \t    \n",
            "1  \t [ 7.96566073  7.15509535  7.          0.79906691 11.          0.34132075]\t 0.8825953654337161\t 0.6597299542050263\t 4.876693171082517\t 4.876693171082517\n",
            "2  \t [ 1.72798052  9.03285612 13.          0.50351094 19.          0.11416888]\t 1.0635732061044851\t 0.6597299542050263\t 4.700856482885773\t 4.709488497914603\n",
            "3  \t [ 1.96661701  1.73294312 11.          0.93201699  1.          0.60463107]\t 0.7502219040814293\t 0.6597299542050263\t 4.803342138589183\t 4.660057208709943\n",
            "4  \t [1.41824857 5.09758018 5.         0.56802833 5.         0.75704697]\t 0.7367139517682284\t 0.6597299542050263\t 4.9516961782360625\t 4.972384278894695\n",
            "5  \t [ 0.41794531  1.88324969 13.          0.88408406 13.          0.43578884]\t 0.8006234291185196\t 0.6597299542050263\t 4.869110896164763\t 4.885388913113899\n",
            "6  \t [ 9.80686472  1.37296982 14.          0.9100959  10.          0.1681724 ]\t 1.058727127460609\t 0.6597299542050263\t 5.051870034200651\t 5.01071470599176\n",
            "7  \t [ 9.82409087  4.45469949 11.          0.53160513  4.          0.66763423]\t 0.703165388931625\t 0.6597299542050263\t 4.558879917894496\t 4.564288650216035\n",
            "\u001b[1m\u001b[92m8\u001b[0m\t \u001b[1m\u001b[92m[ 9.3088306 10.        15.         1.        20.         1.       ]\u001b[0m\t \u001b[1m\u001b[92m0.6408926754324007\u001b[0m\t \u001b[1m\u001b[92m0.6408926754324007\u001b[0m\t \u001b[1m\u001b[92m5.168468341056951\u001b[0m\t \u001b[1m\u001b[92m5.067155126837937\u001b[0m\n",
            "9  \t [1.40842154 7.81898154 9.         0.57297042 1.         0.11610409]\t 1.0651952678837315\t 0.6408926754324007\t 4.822946446535163\t 4.769090540434363\n",
            "10 \t [8.51004072 7.2917763  5.         0.96135496 1.         0.57493956]\t 0.8036859734991779\t 0.6408926754324007\t 4.764541916648862\t 4.758266192354432\n",
            "11 \t [ 9.3606342   3.21248061 14.          0.65614013 17.          0.10926152]\t 1.0624486911635314\t 0.6408926754324007\t 5.129814452143058\t 5.090673628034056\n",
            "12 \t [ 8.56008703  8.65926498 12.60442862  1.         13.52548717  1.        ]\t 0.6409773217068411\t 0.6408926754324007\t 5.256076210818427\t 5.183664397391702\n",
            "13 \t [ 3.51322154  8.79998304 14.          0.91142182  1.          0.35103611]\t 0.8922088424958478\t 0.6408926754324007\t 5.199336187554397\t 5.148755339036167\n",
            "14 \t [ 0.30329279  8.44985963 11.          0.88949602 12.          0.98063814]\t 0.6581410006205839\t 0.6408926754324007\t 4.892023873065992\t 4.997695876495852\n",
            "15 \t [0.  0.  5.  0.5 1.  0.1]\t 1.0679096170180373\t 0.6408926754324007\t 4.877839330334595\t 4.905969390916773\n",
            "16 \t [ 7.31252146  8.98299937  5.          0.81221269 16.          0.68394735]\t 0.7337730558747049\t 0.6408926754324007\t 4.9016035680512235\t 4.956177983262804\n",
            "17 \t [ 8.3723055   9.68266939 11.          0.50145124  1.          0.82596229]\t 0.7117644991570005\t 0.6408926754324007\t 4.788088248418491\t 4.82799971219644\n",
            "18 \t [ 9.6068935   0.80663714  8.          0.73945426 19.          0.81169876]\t 0.6946194207600972\t 0.6408926754324007\t 4.850865242528606\t 4.972861951191875\n",
            "19 \t [8.67223652 9.66010575 6.         0.63457768 6.         0.86415257]\t 0.7147083784607429\t 0.6408926754324007\t 4.583378392711647\t 4.6976742992848735\n",
            "20 \t [ 5.3866253   1.98558863 14.          0.93996594  6.          0.18524928]\t 1.0595101751758718\t 0.6408926754324007\t 4.484822415384346\t 4.425156721863568\n",
            "21 \t [ 2.16891361  0.40236972  6.          0.57865056 19.          0.33900997]\t 0.8933558323113931\t 0.6408926754324007\t 5.125958405625125\t 5.10389469615637\n",
            "22 \t [7.09521948 1.98932663 6.         0.65989265 2.         0.73023722]\t 0.7154584586376316\t 0.6408926754324007\t 4.703229481526098\t 4.804398276706816\n",
            "23 \t [ 9.71937523  0.84081751  8.          0.83815718 13.          0.15657647]\t 1.0605231713179224\t 0.6408926754324007\t 4.586250714789989\t 4.7959905876011915\n",
            "24 \t [ 0.30624064  4.32445332  5.          0.82426886 14.          0.23255411]\t 1.0644960035612792\t 0.6408926754324007\t 4.507563351498553\t 4.507563351498553\n",
            "25 \t [ 2.52257001  0.          6.80398932  0.5        11.80398932  0.1       ]\t 1.0660402353624359\t 0.6408926754324007\t 4.8654548956478765\t 4.910003919375355\n",
            "26 \t [ 0.96616103  8.61825128  6.          0.54652057 18.          0.73561745]\t 0.7195663176706344\t 0.6408926754324007\t 4.912215901049913\t 4.8762782577237225\n",
            "27 \t [ 0.          8.12377432  6.12914689  0.5        10.12914689  0.1       ]\t 1.0660704765209514\t 0.6408926754324007\t 5.225560030942774\t 5.124726454232272\n",
            "28 \t [ 9.47577312 10.          7.46517626  1.         20.          1.        ]\t 0.6680358551275073\t 0.6408926754324007\t 5.134411215288401\t 5.118521777958523\n",
            "29 \t [ 0.          0.         10.86001457  0.5         7.86001457  0.1       ]\t 1.0629776702102938\t 0.6408926754324007\t 5.196072583908969\t 5.183174115824771\n",
            "30 \t [ 0.89195001  6.01604215 14.          0.84121292  7.          0.44798682]\t 0.8038070345544759\t 0.6408926754324007\t 5.140187932905592\t 5.18731078543958\n"
          ]
        },
        {
          "output_type": "execute_result",
          "data": {
            "text/plain": [
              "49345.03939718434"
            ]
          },
          "metadata": {},
          "execution_count": 40
        }
      ]
    },
    {
      "cell_type": "code",
      "metadata": {
        "id": "-1d_1LyydIfe",
        "colab": {
          "base_uri": "https://localhost:8080/"
        },
        "outputId": "c22b4aab-99b6-4a0b-a0bc-30946d669dbe"
      },
      "source": [
        "end_gp = time.time()\n",
        "end_gp\n",
        "\n",
        "time_gp = end_gp - start_gp\n",
        "time_gp\n",
        "\n",
        "start_stp = time.time()\n",
        "start_stp"
      ],
      "execution_count": null,
      "outputs": [
        {
          "output_type": "execute_result",
          "data": {
            "text/plain": [
              "1663768559.930856"
            ]
          },
          "metadata": {},
          "execution_count": 41
        }
      ]
    },
    {
      "cell_type": "code",
      "metadata": {
        "id": "ZAyOw7XYVwAf",
        "colab": {
          "base_uri": "https://localhost:8080/"
        },
        "outputId": "8b500124-09fb-45dc-86f9-fecc466b628e"
      },
      "source": [
        "### Bayesian optimization runs (x20): 'Exact STP CBM' Acquisition Function run number = 1 \n",
        "\n",
        "np.random.seed(run_num_1)\n",
        "surrogate_stp_1 = dtStudentProcess(cov_func, optimize=opt, nu = df)\n",
        "\n",
        "X_train1, X_test1, y_train1, y_test1 = train_test_split(X, y, test_size=test_perc, random_state=run_num_1)\n",
        "\n",
        "def f_syn_polarity1(alpha, gamma, max_depth, subsample, min_child_weight, colsample):\n",
        "    reg = XGBRegressor(reg_alpha=alpha, gamma=gamma, max_depth=int(max_depth), subsample=subsample, min_child_weight=min_child_weight,\n",
        "          colsample_bytree=colsample, n_estimators = n_est, random_state=run_num_1, objective = 'reg:squarederror')\n",
        "    score = np.array(cross_val_score(reg, X=X_train1, y=y_train1).mean())\n",
        "    return operator * score\n",
        "\n",
        "stp_1 = dGPGO_stp(surrogate_stp_1, Acquisition_grad(util_stp), f_syn_polarity1, param, n_jobs = -1) # Define BayesOpt\n",
        "stp_1.run(max_iter = max_iter, init_evals = n_init) # run\n",
        "\n",
        "### Return optimal parameters' set:\n",
        "params_stp_1 = stp_1.getResult()[0]\n",
        "params_stp_1['max_depth'] = int(params_stp_1['max_depth'])\n",
        "params_stp_1['min_child_weight'] = int(params_stp_1['min_child_weight'])\n",
        "\n",
        "### Re-train with optimal parameters, run predictons:\n",
        "dX_stp_train1 = xgb.DMatrix(X_train1, y_train1)\n",
        "dX_stp_test1 = xgb.DMatrix(X_test1, y_test1)\n",
        "model_stp_1 = xgb.train(params_stp_1, dX_stp_train1)\n",
        "pred_stp_1 = model_stp_1.predict(dX_stp_test1)\n",
        "\n",
        "rmse_stp_1 = np.sqrt(mean_squared_error(pred_stp_1, y_test1))\n",
        "rmse_stp_1"
      ],
      "execution_count": null,
      "outputs": [
        {
          "output_type": "stream",
          "name": "stdout",
          "text": [
            "Evaluation \t Proposed point \t  Current eval. \t  Best eval. \t        Exact CBM: StdDev. x \t Approx CBM: StdDev. x \n",
            "init\t [ 4.17022005  7.20324493 14.          0.65116629 16.          0.31248008]\t 1.0028690365100252\t 0.6536753952667645\t    \t    \n",
            "init\t [ 3.96580727  3.87910741 11.          0.96776954  6.          0.71669755]\t 0.7391862019705779\t 0.6536753952667645\t    \t    \n",
            "init\t [ 2.0445225   8.78117436  7.          0.95698101 10.          0.48762871]\t 0.8806962872539386\t 0.6536753952667645\t    \t    \n",
            "init\t [ 9.39127789  7.78389236 14.          0.98413079  2.          0.87851823]\t 0.6536753952667645\t 0.6536753952667645\t    \t    \n",
            "init\t [8.29146907 8.29603359 8.         0.58491521 9.         0.18851215]\t 1.062518544792604\t 0.6536753952667645\t    \t    \n",
            "1  \t [ 7.86951474  0.6406733  11.          0.78919481 19.          0.44182296]\t 0.8659738506300403\t 0.6536753952667645\t 5.055385401423344\t 5.088137782374301\n",
            "2  \t [ 0.74723898  0.36469704 11.          0.84902862 15.          0.10419698]\t 1.0589776023267656\t 0.6536753952667645\t 4.638440141493251\t 4.654799664403203\n",
            "3  \t [ 3.61274713  8.16007507 11.          0.84840025 19.          0.76215891]\t 0.6771887207267527\t 0.6536753952667645\t 4.637663030917348\t 4.637663030917348\n",
            "4  \t [7.54305951 2.10732392 5.         0.87446419 8.         0.37589556]\t 0.8992034514090065\t 0.6536753952667645\t 4.351260959926155\t 4.3836796877299085\n",
            "5  \t [0.         0.         5.         0.5        3.08862403 0.1       ]\t 1.0640504359985177\t 0.6536753952667645\t 5.130984583175047\t 5.097148618061137\n",
            "6  \t [ 5.1476318   2.63826491  5.          0.83046451 17.          0.39543049]\t 0.9004243658767852\t 0.6536753952667645\t 4.719278460382827\t 4.668430749963292\n",
            "7  \t [ 2.05722318  9.92568059 11.          0.85938245  2.          0.31039182]\t 1.0042308077866626\t 0.6536753952667645\t 5.087121126335221\t 4.998265261581461\n",
            "8  \t [8.51945771 8.4424986  8.         0.90741371 1.         0.49942468]\t 0.8757522803338091\t 0.6536753952667645\t 4.870092134540935\t 4.815424943293993\n",
            "9  \t [ 2.08878558  0.52993661 12.          0.75288969  1.          0.24822289]\t 1.0632523501795186\t 0.6536753952667645\t 5.151695598330605\t 5.065277057215398\n",
            "10 \t [ 5.33531967  8.54366774  8.          0.66341534 14.          0.29734112]\t 0.998213042419686\t 0.6536753952667645\t 4.716778132333556\t 4.712641270532093\n",
            "11 \t [ 9.4605503   2.00186066 12.          0.69186722  8.          0.11311186]\t 1.061946992849472\t 0.6536753952667645\t 4.863763646081606\t 4.872119574308251\n",
            "12 \t [0.15776536 8.02750992 5.         0.65248282 3.         0.71659731]\t 0.8032223773845614\t 0.6536753952667645\t 5.043620076659097\t 5.066032808219437\n",
            "13 \t [ 9.31003194  2.78504172 14.          0.81837194 14.          0.87646711]\t 0.653685020702474\t 0.6536753952667645\t 5.302194278756462\t 5.16694377232444\n",
            "14 \t [ 0.99440257  2.23238431 10.          0.58984965 12.          0.68792603]\t 0.7499303794197336\t 0.6536753952667645\t 4.475094501045932\t 4.475094501045932\n",
            "15 \t [6.82478079 2.20366901 5.         0.88422891 1.         0.83561656]\t 0.7357264382359029\t 0.6536753952667645\t 5.004754813938081\t 4.868692693453551\n",
            "16 \t [ 1.7276597   4.40364756 12.          0.7865661  17.          0.71662208]\t 0.7414066870872308\t 0.6536753952667645\t 4.9385955191226705\t 4.965487634778756\n",
            "17 \t [1.68476972 5.2908721  8.         0.92839616 1.         0.96471758]\t 0.670961172017669\t 0.6536753952667645\t 4.542379304214328\t 4.512472322172935\n",
            "18 \t [ 1.11955444  5.11272894 10.          0.77604051 14.          0.40977672]\t 0.8661734316276007\t 0.6536753952667645\t 4.846330835014759\t 4.846330835014759\n",
            "19 \t [ 9.68760652  2.49858493  5.          0.84574421 13.          0.33692235]\t 1.0095429457834948\t 0.6536753952667645\t 5.179724527163104\t 5.179724527163104\n",
            "20 \t [ 2.98592593  1.33714456 14.          0.64490167 11.          0.53589395]\t 0.8159826746665118\t 0.6536753952667645\t 4.937057280943246\t 4.941019264329016\n",
            "21 \t [ 9.72376714  9.82517342 14.          0.96896704 10.          0.66715413]\t 0.7365987830832396\t 0.6536753952667645\t 5.220398917741057\t 5.22957365794639\n",
            "22 \t [ 3.42988222  3.60806268 11.          0.65919672 19.          0.15600267]\t 1.060877500434967\t 0.6536753952667645\t 4.780971690416915\t 4.780971690416915\n",
            "23 \t [ 3.79839517  0.81425404  8.          0.93236393 16.          0.87681693]\t 0.6693366893520581\t 0.6536753952667645\t 4.6897047402538785\t 4.6897047402538785\n",
            "\u001b[1m\u001b[92m24\u001b[0m\t \u001b[1m\u001b[92m[10.          8.69238475 15.          1.         20.          1.        ]\u001b[0m\t \u001b[1m\u001b[92m0.6504936383293095\u001b[0m\t \u001b[1m\u001b[92m0.6504936383293095\u001b[0m\t \u001b[1m\u001b[92m5.032124690269855\u001b[0m\t \u001b[1m\u001b[92m4.921599172990391\u001b[0m\n",
            "25 \t [2.02068721 2.71449408 7.         0.65358809 8.         0.4934225 ]\t 0.8791123839413542\t 0.6504936383293095\t 4.860949286071526\t 4.813557034640795\n",
            "26 \t [ 1.03968583  3.49943563 14.          0.82879876  3.          0.98366866]\t 0.6562345271802523\t 0.6504936383293095\t 4.630472616181299\t 4.626985973702041\n",
            "27 \t [ 2.52136808  8.51741902 14.          0.89185963  6.          0.23066693]\t 1.0608073786807473\t 0.6504936383293095\t 4.777604225816223\t 4.840654002631382\n",
            "28 \t [ 0.15246909  0.64891005  5.          0.82057511 17.          0.55392553]\t 0.8471082658020649\t 0.6504936383293095\t 4.765748068314016\t 4.573965706480804\n",
            "29 \t [ 7.40845157  8.58336508  5.          0.8318041  19.          0.36434664]\t 1.0097984953249557\t 0.6504936383293095\t 5.242409965786289\t 5.138961273309671\n",
            "30 \t [ 1.2654566   9.68568733  5.          0.57664611 17.          0.70355107]\t 0.804917733132231\t 0.6504936383293095\t 4.794944266613127\t 4.742531249194721\n"
          ]
        },
        {
          "output_type": "execute_result",
          "data": {
            "text/plain": [
              "47321.8408099896"
            ]
          },
          "metadata": {},
          "execution_count": 44
        }
      ]
    },
    {
      "cell_type": "code",
      "metadata": {
        "id": "hrDQbChpZ48F",
        "colab": {
          "base_uri": "https://localhost:8080/"
        },
        "outputId": "de9802ca-c4f1-4aa7-e794-c6cf45097a14"
      },
      "source": [
        "### Bayesian optimization runs (x20): 'Exact STP CBM' Acquisition Function run number = 2 \n",
        "\n",
        "np.random.seed(run_num_2)\n",
        "surrogate_stp_2 = dtStudentProcess(cov_func, optimize=opt, nu = df)\n",
        "\n",
        "X_train2, X_test2, y_train2, y_test2 = train_test_split(X, y, test_size=test_perc, random_state=run_num_2)\n",
        "\n",
        "def f_syn_polarity2(alpha, gamma, max_depth, subsample, min_child_weight, colsample):\n",
        "    reg = XGBRegressor(reg_alpha=alpha, gamma=gamma, max_depth=int(max_depth), subsample=subsample, min_child_weight=min_child_weight,\n",
        "          colsample_bytree=colsample, n_estimators = n_est, random_state=run_num_2, objective = 'reg:squarederror')\n",
        "    score = np.array(cross_val_score(reg, X=X_train2, y=y_train2).mean())\n",
        "    return operator * score\n",
        "\n",
        "stp_2 = dGPGO_stp(surrogate_stp_2, Acquisition_grad(util_stp), f_syn_polarity2, param, n_jobs = -1) # Define BayesOpt\n",
        "stp_2.run(max_iter = max_iter, init_evals = n_init) # run\n",
        "\n",
        "### Return optimal parameters' set:\n",
        "params_stp_2 = stp_2.getResult()[0]\n",
        "params_stp_2['max_depth'] = int(params_stp_2['max_depth'])\n",
        "params_stp_2['min_child_weight'] = int(params_stp_2['min_child_weight'])\n",
        "\n",
        "### Re-train with optimal parameters, run predictons:\n",
        "dX_stp_train2 = xgb.DMatrix(X_train2, y_train2)\n",
        "dX_stp_test2 = xgb.DMatrix(X_test2, y_test2)\n",
        "model_stp_2 = xgb.train(params_stp_2, dX_stp_train2)\n",
        "pred_stp_2 = model_stp_2.predict(dX_stp_test2)\n",
        "\n",
        "rmse_stp_2 = np.sqrt(mean_squared_error(pred_stp_2, y_test2))\n",
        "rmse_stp_2"
      ],
      "execution_count": null,
      "outputs": [
        {
          "output_type": "stream",
          "name": "stdout",
          "text": [
            "Evaluation \t Proposed point \t  Current eval. \t  Best eval. \t        Exact CBM: StdDev. x \t Approx CBM: StdDev. x \n",
            "init\t [ 4.35994902  0.25926232 11.          0.97386531 12.          0.47833102]\t 0.778909206070606\t 0.681387807728051\t    \t    \n",
            "init\t [ 3.30334821  2.04648634 10.          0.55997527  6.          0.71472339]\t 0.681387807728051\t 0.681387807728051\t    \t    \n",
            "init\t [ 4.9856117   5.86796978  8.          0.89266757 11.          0.59158659]\t 0.7040746477543849\t 0.681387807728051\t    \t    \n",
            "init\t [ 4.07307832  1.76984624 13.          0.75262305  7.          0.35908193]\t 0.7953147984784036\t 0.681387807728051\t    \t    \n",
            "init\t [ 1.16193318  1.81727038  9.          0.79837265 19.          0.29965165]\t 0.7954413972964868\t 0.681387807728051\t    \t    \n",
            "\u001b[1m\u001b[92m1\u001b[0m\t \u001b[1m\u001b[92m[10. 10. 15.  1. 20.  1.]\u001b[0m\t \u001b[1m\u001b[92m0.6547874419782912\u001b[0m\t \u001b[1m\u001b[92m0.6547874419782912\u001b[0m\t \u001b[1m\u001b[92m4.490263041285718\u001b[0m\t \u001b[1m\u001b[92m4.363880807640578\u001b[0m\n",
            "2  \t [ 2.17907321  8.34965852  5.          0.91660625 18.          0.97349298]\t 0.7341430302765248\t 0.6547874419782912\t 5.0020403802273234\t 5.061183990200792\n",
            "3  \t [ 9.82078709  9.9850326  13.          0.56249358  3.          0.74498359]\t 0.683685379651464\t 0.6547874419782912\t 4.680106956600068\t 4.649161996109274\n",
            "4  \t [9.65259502 5.7740337  5.         0.69028314 1.         0.90626847]\t 0.7326570250862032\t 0.6547874419782912\t 5.041788987645382\t 5.05453373283299\n",
            "5  \t [1.25559631 9.8394609  9.         0.52015567 2.         0.32958416]\t 0.8058953821841264\t 0.6547874419782912\t 4.592478757408851\t 4.485086924729429\n",
            "6  \t [0.  0.  5.  0.5 1.  0.1]\t 0.8726019020039407\t 0.6547874419782912\t 4.688549368508012\t 4.570330511184131\n",
            "7  \t [ 0.66591974  9.26661294 14.          0.96342421 18.          0.94909068]\t 0.6568524558078858\t 0.6547874419782912\t 5.1976031229795705\t 5.077175082021967\n",
            "8  \t [ 7.73753078  4.7386917  10.          0.75300372 18.          0.75097316]\t 0.6740149070019592\t 0.6547874419782912\t 5.074365605501613\t 5.110790600883036\n",
            "9  \t [ 9.24652802  2.85452625  6.          0.82083864 14.          0.624768  ]\t 0.7397571279868462\t 0.6547874419782912\t 4.680953037520926\t 4.687976892507907\n",
            "10 \t [ 0.27081994  8.72536784 13.          0.81607342  8.          0.82891087]\t 0.6684024492575475\t 0.6547874419782912\t 4.42863135733379\t 4.401757003794533\n",
            "11 \t [4.59560507 9.66694693 5.         0.8652774  6.         0.90565092]\t 0.7323276592879555\t 0.6547874419782912\t 4.845503116201061\t 4.851368035652802\n",
            "\u001b[1m\u001b[92m12\u001b[0m\t \u001b[1m\u001b[92m[ 9.51486009  9.51681389 14.6322155   0.88876263 13.13820973  1.        ]\u001b[0m\t \u001b[1m\u001b[92m0.6534767863205851\u001b[0m\t \u001b[1m\u001b[92m0.6534767863205851\u001b[0m\t \u001b[1m\u001b[92m4.870856165662186\u001b[0m\t \u001b[1m\u001b[92m4.784608941773836\u001b[0m\n",
            "13 \t [ 7.86086296  9.53235807  5.          0.78700181 16.          0.22516618]\t 0.8728710854388536\t 0.6534767863205851\t 4.768205354350023\t 4.81858762821286\n",
            "14 \t [ 1.44915477  0.14257847  6.          0.52441016 14.          0.6286643 ]\t 0.7143733066956096\t 0.6534767863205851\t 5.200290339457115\t 5.091621580994707\n",
            "15 \t [ 9.92385114  1.42193513 10.          0.58826787  1.          0.80423472]\t 0.6817768071355952\t 0.6534767863205851\t 4.950758349826167\t 4.849776251922084\n",
            "16 \t [ 6.52098806  7.37654971 12.          0.62621853  7.          0.13475551]\t 0.8637260588745512\t 0.6534767863205851\t 4.5332258377220755\t 4.528069063905656\n",
            "17 \t [ 1.94467794  1.47584396  5.          0.91953126 11.          0.49707889]\t 0.8258856905247922\t 0.6534767863205851\t 4.68242897145966\t 4.691046444889209\n",
            "18 \t [ 3.19241925  2.91302128 11.          0.905155   18.          0.71674806]\t 0.6693925559674401\t 0.6534767863205851\t 4.340094918562057\t 4.340094918562057\n",
            "19 \t [ 6.92673077  1.23845568 10.          0.63463476  8.          0.28240746]\t 0.7984787223028406\t 0.6534767863205851\t 4.9561806841122005\t 4.9561806841122005\n",
            "20 \t [ 2.26812476  6.7571478  13.          0.87941648  6.          0.30778351]\t 0.7918243780041875\t 0.6534767863205851\t 4.86736654358642\t 4.86736654358642\n",
            "21 \t [7.13284983 1.18470919 5.         0.63977211 3.         0.12223048]\t 0.8717594731267366\t 0.6534767863205851\t 4.349422172378544\t 4.302442307686511\n",
            "22 \t [ 5.73129906  9.2176475  11.          0.8835332   4.          0.9298239 ]\t 0.664392530003631\t 0.6534767863205851\t 5.164972975578443\t 5.164972975578443\n",
            "23 \t [2.36161323 4.19936331 9.         0.73250204 1.         0.79018905]\t 0.680281465679196\t 0.6534767863205851\t 4.463845776958769\t 4.47127720448438\n",
            "24 \t [ 0.46676511  3.42223934 13.          0.71405562 11.          0.87561456]\t 0.6646623391819284\t 0.6534767863205851\t 5.17585193838934\t 5.172712244607107\n",
            "25 \t [ 8.22593027  3.70832356  5.          0.80279417 18.          0.57200994]\t 0.768920640618771\t 0.6534767863205851\t 4.800939177819622\t 4.79729275954931\n",
            "26 \t [ 8.30471915  3.26072064 14.          0.69508376  6.          0.94564556]\t 0.6666799570614775\t 0.6534767863205851\t 4.875192107194716\t 4.87169798717006\n",
            "27 \t [ 8.92720117  4.31465286 13.          0.70553933  1.          0.75946259]\t 0.6817048020092698\t 0.6534767863205851\t 4.677470365730984\t 4.677470365730984\n",
            "28 \t [3.43433026 6.08655828 9.         0.81139776 7.         0.47049625]\t 0.786015794690162\t 0.6534767863205851\t 5.193366609603908\t 5.193366609603908\n",
            "29 \t [ 5.23695984  7.3107296  12.          0.61613332 14.          0.59498605]\t 0.7013908908972221\t 0.6534767863205851\t 5.204487664158445\t 5.217514046176722\n",
            "30 \t [5.55301534 4.43776121 9.         0.77874612 6.         0.99491253]\t 0.6713718258462102\t 0.6534767863205851\t 5.040950887704175\t 5.040950887704175\n"
          ]
        },
        {
          "output_type": "execute_result",
          "data": {
            "text/plain": [
              "48559.067114842015"
            ]
          },
          "metadata": {},
          "execution_count": 45
        }
      ]
    },
    {
      "cell_type": "code",
      "metadata": {
        "id": "HpUPyXRfZ95Y",
        "colab": {
          "base_uri": "https://localhost:8080/"
        },
        "outputId": "5eaadf97-702e-4738-af23-7c37d27fa857"
      },
      "source": [
        "### Bayesian optimization runs (x20): 'Exact STP CBM' Acquisition Function run number = 3 \n",
        "\n",
        "np.random.seed(run_num_3)\n",
        "surrogate_stp_3 = dtStudentProcess(cov_func, optimize=opt, nu = df)\n",
        "\n",
        "X_train3, X_test3, y_train3, y_test3 = train_test_split(X, y, test_size=test_perc, random_state=run_num_3)\n",
        "\n",
        "def f_syn_polarity3(alpha, gamma, max_depth, subsample, min_child_weight, colsample):\n",
        "    reg = XGBRegressor(reg_alpha=alpha, gamma=gamma, max_depth=int(max_depth), subsample=subsample, min_child_weight=min_child_weight,\n",
        "          colsample_bytree=colsample, n_estimators = n_est, random_state=run_num_3, objective = 'reg:squarederror')\n",
        "    score = np.array(cross_val_score(reg, X=X_train3, y=y_train3).mean())\n",
        "    return operator * score\n",
        "\n",
        "stp_3 = dGPGO_stp(surrogate_stp_3, Acquisition_grad(util_stp), f_syn_polarity3, param, n_jobs = -1) # Define BayesOpt\n",
        "stp_3.run(max_iter = max_iter, init_evals = n_init) # run\n",
        "\n",
        "### Return optimal parameters' set:\n",
        "params_stp_3 = stp_3.getResult()[0]\n",
        "params_stp_3['max_depth'] = int(params_stp_3['max_depth'])\n",
        "params_stp_3['min_child_weight'] = int(params_stp_3['min_child_weight'])\n",
        "\n",
        "### Re-train with optimal parameters, run predictons:\n",
        "dX_stp_train3 = xgb.DMatrix(X_train3, y_train3)\n",
        "dX_stp_test3 = xgb.DMatrix(X_test3, y_test3)\n",
        "model_stp_3 = xgb.train(params_stp_3, dX_stp_train3)\n",
        "pred_stp_3 = model_stp_3.predict(dX_stp_test3)\n",
        "\n",
        "rmse_stp_3 = np.sqrt(mean_squared_error(pred_stp_3, y_test3))\n",
        "rmse_stp_3"
      ],
      "execution_count": null,
      "outputs": [
        {
          "output_type": "stream",
          "name": "stdout",
          "text": [
            "Evaluation \t Proposed point \t  Current eval. \t  Best eval. \t        Exact CBM: StdDev. x \t Approx CBM: StdDev. x \n",
            "init\t [ 5.50797903  7.08147823 13.          0.56066429 11.          0.11687321]\t 1.0213644638508028\t 0.7688389438662246\t    \t    \n",
            "init\t [ 0.40630737  2.47888297 11.          0.72040492 13.          0.23083313]\t 1.022822678309975\t 0.7688389438662246\t    \t    \n",
            "init\t [ 4.53172301  2.15577008 11.          0.74631796  2.          0.60296868]\t 0.7688389438662246\t 0.7688389438662246\t    \t    \n",
            "init\t [ 2.59252447  4.15101197 13.          0.79330998  8.          0.24118096]\t 1.0239688135226253\t 0.7688389438662246\t    \t    \n",
            "init\t [ 5.44649018  7.80314765 10.          0.62879264 18.          0.44917413]\t 0.8703298117399682\t 0.7688389438662246\t    \t    \n",
            "1  \t [1.56262424 9.7795241  5.         0.91450054 5.         0.53102391]\t 0.8050626816251143\t 0.7688389438662246\t 4.8128932943594025\t 4.69694352403053\n",
            "\u001b[1m\u001b[92m2\u001b[0m\t \u001b[1m\u001b[92m[ 2.46535469  7.06056184  5.          0.53518488 13.          0.98930148]\u001b[0m\t \u001b[1m\u001b[92m0.7347345488605661\u001b[0m\t \u001b[1m\u001b[92m0.7347345488605661\u001b[0m\t \u001b[1m\u001b[92m4.734651966345758\u001b[0m\t \u001b[1m\u001b[92m4.660070663825395\u001b[0m\n",
            "3  \t [ 7.38032831  9.94067232 11.          0.77461843  2.          0.2199184 ]\t 1.0239673069901083\t 0.7347345488605661\t 5.286838804682021\t 5.286776737506526\n",
            "4  \t [ 6.69378835  1.1746468   5.          0.75549171 16.          0.73450657]\t 0.7722220514333056\t 0.7347345488605661\t 4.9637534166246\t 4.8866133453206295\n",
            "5  \t [ 0.24010242  9.80847714 13.          0.63702721  3.          0.56729929]\t 0.7723921954821745\t 0.7347345488605661\t 4.631010141298141\t 4.6349287442627665\n",
            "\u001b[1m\u001b[92m6\u001b[0m\t \u001b[1m\u001b[92m[ 9.47914479  3.5693451  15.          1.          5.05133619  1.        ]\u001b[0m\t \u001b[1m\u001b[92m0.6525687814512948\u001b[0m\t \u001b[1m\u001b[92m0.6525687814512948\u001b[0m\t \u001b[1m\u001b[92m4.664830686204943\u001b[0m\t \u001b[1m\u001b[92m4.673173764221023\u001b[0m\n",
            "7  \t [8.71334312 0.05751618 6.         0.96160691 6.         0.14416297]\t 1.026737246970301\t 0.6525687814512948\t 5.012171193691469\t 4.9849716556757215\n",
            "8  \t [3.50549632 8.04483305 8.         0.95341936 1.         0.79512535]\t 0.7104180654574984\t 0.6525687814512948\t 4.369046367784969\t 4.369046367784969\n",
            "9  \t [10. 10. 15.  1. 20.  1.]\t 0.6548396524742095\t 0.6525687814512948\t 5.036966983990032\t 4.797929008662805\n",
            "10 \t [3.28340726 7.81144764 9.         0.96528359 7.         0.1686463 ]\t 1.0208805187492747\t 0.6525687814512948\t 5.116057900848616\t 5.116057900848616\n",
            "11 \t [ 3.53262431  2.07514765  7.          0.93520802 15.          0.4184813 ]\t 0.8751855836959452\t 0.6525687814512948\t 4.93509740191631\t 4.93509740191631\n",
            "12 \t [ 7.36281279  7.66763777  8.          0.59948159 13.          0.98370581]\t 0.6998375974069359\t 0.6525687814512948\t 4.990254162186227\t 4.997223261363263\n",
            "13 \t [ 6.1126819   0.33369181 12.          0.91661864 13.          0.98011882]\t 0.6793370945679467\t 0.6525687814512948\t 4.945292961158421\t 4.954793866213607\n",
            "14 \t [ 9.85636221  3.89791593  9.          0.61925349 14.          0.90156475]\t 0.692118262463878\t 0.6525687814512948\t 4.397417241094053\t 4.397417241094053\n",
            "15 \t [ 3.16495907  6.4145149  13.          0.75645197  1.          0.86589234]\t 0.7155662797926698\t 0.6525687814512948\t 4.841585419799662\t 4.841585419799662\n",
            "16 \t [0.         1.91879105 5.         0.5        1.         0.1       ]\t 1.0276382267404158\t 0.6525687814512948\t 5.185075010134403\t 5.153395433587612\n",
            "17 \t [ 9.40129426  8.85637698 13.          0.72340176  7.          0.76030308]\t 0.7059876882234674\t 0.6525687814512948\t 4.705660685907795\t 4.564485635773573\n",
            "18 \t [ 0.          1.06165136  5.          0.5        10.66922402  0.1       ]\t 1.0275047745823027\t 0.6525687814512948\t 5.019323562335785\t 5.026068690636154\n",
            "19 \t [ 0.59117942  7.04764364 14.          0.92579676 15.          0.40983297]\t 0.8649856112240915\t 0.6525687814512948\t 5.106932992244694\t 5.105868144391492\n",
            "20 \t [6.03739837 7.88708686 5.         0.82648265 8.         0.58420151]\t 0.8065292315417267\t 0.6525687814512948\t 4.88770175860712\t 4.825448652518045\n",
            "21 \t [ 9.83060339  5.43479292  5.          0.93965116 19.          0.81693736]\t 0.7430400763458248\t 0.6525687814512948\t 4.56883207381203\t 4.5854860252217104\n",
            "22 \t [ 2.77110475  0.35980325 10.          0.77088835  9.          0.78161047]\t 0.702308760297458\t 0.6525687814512948\t 5.192057028166481\t 5.192057028166481\n",
            "23 \t [ 9.71610686  2.88363039 10.          0.71373353  2.          0.42833271]\t 0.8752416347792465\t 0.6525687814512948\t 4.974038256868328\t 4.974038256868328\n",
            "24 \t [ 1.81637107  2.43482354 12.          0.52164424 18.          0.82567571]\t 0.7068734002824963\t 0.6525687814512948\t 4.926325691890336\t 4.949783336603479\n",
            "25 \t [ 3.76231631  7.22695293  6.          0.99331542 15.          0.98845508]\t 0.7185577429000575\t 0.6525687814512948\t 4.510739782077856\t 4.510739782077856\n",
            "26 \t [9.31049687 7.23936563 9.         0.50075442 6.         0.48740514]\t 0.878695565780004\t 0.6525687814512948\t 4.7715390317712405\t 4.736146729631934\n",
            "27 \t [ 8.754153    1.40502279 10.          0.86398258 18.          0.79859119]\t 0.7021571166393743\t 0.6525687814512948\t 4.790561389975125\t 4.793101800002869\n",
            "28 \t [ 9.01763405  8.9342346  11.          0.78253186 14.          0.5899614 ]\t 0.7571328011102442\t 0.6525687814512948\t 4.592398773882128\t 4.592398773882128\n",
            "29 \t [ 8.92640491  5.86829423 11.          0.69146564 16.          0.20693725]\t 1.0229660667953924\t 0.6525687814512948\t 4.6578959990439825\t 4.6578959990439825\n",
            "30 \t [6.73898941 3.54735303 5.         0.70575667 2.         0.14846127]\t 1.0308483369485308\t 0.6525687814512948\t 4.6649736906891\t 4.624604004341691\n"
          ]
        },
        {
          "output_type": "execute_result",
          "data": {
            "text/plain": [
              "47903.284595342564"
            ]
          },
          "metadata": {},
          "execution_count": 46
        }
      ]
    },
    {
      "cell_type": "code",
      "source": [
        "### Bayesian optimization runs (x20): 'Exact STP CBM' Acquisition Function run number = 4 \n",
        "\n",
        "np.random.seed(run_num_4)\n",
        "surrogate_stp_4 = dtStudentProcess(cov_func, optimize=opt, nu = df)\n",
        "\n",
        "X_train4, X_test4, y_train4, y_test4 = train_test_split(X, y, test_size=test_perc, random_state=run_num_4)\n",
        "\n",
        "def f_syn_polarity4(alpha, gamma, max_depth, subsample, min_child_weight, colsample):\n",
        "    reg = XGBRegressor(reg_alpha=alpha, gamma=gamma, max_depth=int(max_depth), subsample=subsample, min_child_weight=min_child_weight,\n",
        "          colsample_bytree=colsample, n_estimators = n_est, random_state=run_num_4, objective = 'reg:squarederror')\n",
        "    score = np.array(cross_val_score(reg, X=X_train4, y=y_train4).mean())\n",
        "    return operator * score\n",
        "\n",
        "stp_4 = dGPGO_stp(surrogate_stp_4, Acquisition_grad(util_stp), f_syn_polarity4, param, n_jobs = -1) # Define BayesOpt\n",
        "stp_4.run(max_iter = max_iter, init_evals = n_init) # run\n",
        "\n",
        "### Return optimal parameters' set:\n",
        "params_stp_4 = stp_4.getResult()[0]\n",
        "params_stp_4['max_depth'] = int(params_stp_4['max_depth'])\n",
        "params_stp_4['min_child_weight'] = int(params_stp_4['min_child_weight'])\n",
        "\n",
        "### Re-train with optimal parameters, run predictons:\n",
        "dX_stp_train4 = xgb.DMatrix(X_train4, y_train4)\n",
        "dX_stp_test4 = xgb.DMatrix(X_test4, y_test4)\n",
        "model_stp_4 = xgb.train(params_stp_4, dX_stp_train4)\n",
        "pred_stp_4 = model_stp_4.predict(dX_stp_test4)\n",
        "\n",
        "rmse_stp_4 = np.sqrt(mean_squared_error(pred_stp_4, y_test4))\n",
        "rmse_stp_4"
      ],
      "metadata": {
        "colab": {
          "base_uri": "https://localhost:8080/"
        },
        "id": "bdDTsSEtNuf-",
        "outputId": "c04c666b-fc94-4150-fba9-5ff103222be3"
      },
      "execution_count": null,
      "outputs": [
        {
          "output_type": "stream",
          "name": "stdout",
          "text": [
            "Evaluation \t Proposed point \t  Current eval. \t  Best eval. \t        Exact CBM: StdDev. x \t Approx CBM: StdDev. x \n",
            "init\t [9.67029839 5.47232249 6.         0.92781047 9.         0.72795594]\t 0.7356156069458683\t 0.6641721421409617\t    \t    \n",
            "init\t [ 2.16089496  9.76274455 12.          0.62649118  9.          0.66966679]\t 0.7070759857649549\t 0.6641721421409617\t    \t    \n",
            "init\t [ 0.05159149  5.72356491  9.          0.99170034 10.          0.10808749]\t 0.9423811784101735\t 0.6641721421409617\t    \t    \n",
            "init\t [ 3.86571283  0.44160058 10.          0.90553105 18.          0.95407958]\t 0.6641721421409617\t 0.6641721421409617\t    \t    \n",
            "init\t [ 7.86305986  8.66289299  6.          0.53285477 14.          0.25117497]\t 0.8244425146132294\t 0.6641721421409617\t    \t    \n",
            "1  \t [ 8.45443649  8.61014312 11.          0.83475494  1.          0.14018305]\t 0.9441431878307984\t 0.6641721421409617\t 4.823898615924959\t 4.850037338242717\n",
            "2  \t [ 1.00550234  4.3617101   5.          0.74088358 17.          0.26186467]\t 0.8335452348239523\t 0.6641721421409617\t 4.831710548362841\t 4.831710548362841\n",
            "3  \t [ 7.37481669  1.69273565 11.          0.93066167  4.          0.26673965]\t 0.8222887232504895\t 0.6641721421409617\t 4.9138326365769815\t 4.911104427000093\n",
            "4  \t [0.         1.77445534 6.16551389 0.5        2.16551389 0.1       ]\t 0.94111787462067\t 0.6641721421409617\t 5.411126624414631\t 5.425503307497405\n",
            "\u001b[1m\u001b[92m5\u001b[0m\t \u001b[1m\u001b[92m[10. 10. 15.  1. 20.  1.]\u001b[0m\t \u001b[1m\u001b[92m0.6437292534451688\u001b[0m\t \u001b[1m\u001b[92m0.6437292534451688\u001b[0m\t \u001b[1m\u001b[92m4.77899762568018\u001b[0m\t \u001b[1m\u001b[92m4.647017665559265\u001b[0m\n",
            "6  \t [ 9.06307728  4.86114267 13.          0.58554955 19.          0.71395167]\t 0.7071143487048749\t 0.6437292534451688\t 4.889094295677607\t 4.889094295677607\n",
            "7  \t [3.21596988 8.94366669 5.         0.67472534 1.         0.78039064]\t 0.7531044966742895\t 0.6437292534451688\t 4.653087156298706\t 4.6551912613422735\n",
            "8  \t [ 0.81680031  1.59198282 10.          0.96064429  2.          0.39459215]\t 0.7752807013373675\t 0.6437292534451688\t 4.637672333687826\t 4.637672333687826\n",
            "9  \t [ 6.20101053  2.42333708 13.          0.95657352 12.          0.75772985]\t 0.6795457016514543\t 0.6437292534451688\t 4.739661617282733\t 4.582311725241399\n",
            "10 \t [ 9.3450382   8.82768787 11.          0.76868692  7.          0.8502727 ]\t 0.6886255429382424\t 0.6437292534451688\t 5.175201598138124\t 5.255498116212184\n",
            "11 \t [6.34509608 0.88047103 5.         0.68127637 3.         0.68591136]\t 0.7605575419542034\t 0.6437292534451688\t 4.842615691146009\t 4.804627585130992\n",
            "12 \t [ 8.48843563  0.37785156 11.          0.83297408  1.          0.855572  ]\t 0.6923205913979871\t 0.6437292534451688\t 4.895696643504746\t 4.895696643504746\n",
            "13 \t [ 1.88634477  6.88806857 14.          0.85788793 18.          0.9393565 ]\t 0.6631529549264683\t 0.6437292534451688\t 5.187208326170578\t 5.1027268953072005\n",
            "14 \t [ 3.22282465  1.05364145  6.          0.75774626 12.          0.92739587]\t 0.7076032952079638\t 0.6437292534451688\t 4.633374709444175\t 4.634250193119742\n",
            "15 \t [9.41541409 7.69245319 5.         0.52626745 1.         0.60186246]\t 0.7682434061303821\t 0.6437292534451688\t 4.5665590478463365\t 4.586641252543843\n",
            "16 \t [ 4.96117219  0.19149034 14.          0.77604099 18.          0.36193386]\t 0.8218071663359531\t 0.6437292534451688\t 4.7784958658664705\t 4.7784958658664705\n",
            "17 \t [ 4.21251381  9.34883611  7.          0.86607935 10.          0.51599279]\t 0.7304919327049673\t 0.6437292534451688\t 5.06571141472447\t 5.061432928747873\n",
            "18 \t [ 3.8330061   0.35722521 10.          0.9669447   8.          0.85083452]\t 0.6866407929155406\t 0.6437292534451688\t 4.468007588030755\t 4.504204933831141\n",
            "19 \t [ 2.28250676  8.57781075 10.          0.71780124 12.          0.3772521 ]\t 0.7733889133490559\t 0.6437292534451688\t 4.844477322267043\t 4.840627103932161\n",
            "20 \t [ 7.85117777  8.88777162 12.          0.91846109 14.          0.15331143]\t 0.9427358983432921\t 0.6437292534451688\t 4.62055452037783\t 4.5294483893949264\n",
            "21 \t [ 8.38684604  2.03564345  5.          0.88957543 17.          0.94491074]\t 0.7260124312506191\t 0.6437292534451688\t 4.7048717677762495\t 4.690845587235758\n",
            "22 \t [ 0.34343537  0.75830465 14.          0.57372847 18.          0.51234475]\t 0.7152925670973206\t 0.6437292534451688\t 4.887599304733723\t 4.903196538539054\n",
            "23 \t [4.54498845 4.73987501 6.         0.7658368  6.         0.15012886]\t 0.9412996363676764\t 0.6437292534451688\t 4.759128801049681\t 4.759128801049681\n",
            "24 \t [5.87233788 6.93253231 8.         0.71079844 3.         0.57913783]\t 0.724172646323414\t 0.6437292534451688\t 4.40815258149829\t 4.40815258149829\n",
            "25 \t [4.21410488 1.53847897 8.         0.72947689 4.         0.95835056]\t 0.6751026509280861\t 0.6437292534451688\t 4.444865575306976\t 4.443406580903955\n",
            "26 \t [ 7.01360923  0.03074572 13.          0.56476682  9.          0.19217174]\t 0.9417712124079543\t 0.6437292534451688\t 4.60066481990776\t 4.60066481990776\n",
            "27 \t [ 6.1514088   6.60813003  8.          0.73826275 18.          0.31604591]\t 0.8210770187407983\t 0.6437292534451688\t 5.3981679283559805\t 5.434697646295008\n",
            "28 \t [ 0.40130386  1.97007932 14.          0.94919936  9.          0.10604155]\t 0.9446648711157029\t 0.6437292534451688\t 4.563945441050457\t 4.544255059345317\n",
            "29 \t [ 6.25251023  4.76484713  9.          0.6837293  11.          0.18403618]\t 0.9419703047602315\t 0.6437292534451688\t 4.89103079740135\t 4.837816800165191\n",
            "30 \t [ 3.28945486  7.32829483  5.          0.81826638 14.          0.99879914]\t 0.7287191818596066\t 0.6437292534451688\t 4.894468997705139\t 4.886256836991471\n"
          ]
        },
        {
          "output_type": "execute_result",
          "data": {
            "text/plain": [
              "49658.75602012835"
            ]
          },
          "metadata": {},
          "execution_count": 47
        }
      ]
    },
    {
      "cell_type": "code",
      "metadata": {
        "id": "PJmI9saAaEG1",
        "colab": {
          "base_uri": "https://localhost:8080/"
        },
        "outputId": "6e570562-d16d-4303-f6ac-407e9c12d998"
      },
      "source": [
        "### Bayesian optimization runs (x20): 'Exact STP CBM' Acquisition Function run number = 5 \n",
        "\n",
        "np.random.seed(run_num_5)\n",
        "surrogate_stp_5 =dtStudentProcess(cov_func, optimize=opt, nu = df)\n",
        "\n",
        "X_train5, X_test5, y_train5, y_test5 = train_test_split(X, y, test_size=test_perc, random_state=run_num_5)\n",
        "\n",
        "def f_syn_polarity5(alpha, gamma, max_depth, subsample, min_child_weight, colsample):\n",
        "    reg = XGBRegressor(reg_alpha=alpha, gamma=gamma, max_depth=int(max_depth), subsample=subsample, min_child_weight=min_child_weight,\n",
        "          colsample_bytree=colsample, n_estimators = n_est, random_state=run_num_5, objective = 'reg:squarederror')\n",
        "    score = np.array(cross_val_score(reg, X=X_train5, y=y_train5).mean())\n",
        "    return operator * score\n",
        "\n",
        "stp_5 = dGPGO_stp(surrogate_stp_5, Acquisition_grad(util_stp), f_syn_polarity5, param, n_jobs = -1) # Define BayesOpt\n",
        "stp_5.run(max_iter = max_iter, init_evals = n_init) # run\n",
        "\n",
        "### Return optimal parameters' set:\n",
        "params_stp_5 = stp_5.getResult()[0]\n",
        "params_stp_5['max_depth'] = int(params_stp_5['max_depth'])\n",
        "params_stp_5['min_child_weight'] = int(params_stp_5['min_child_weight'])\n",
        "\n",
        "### Re-train with optimal parameters, run predictons:\n",
        "dX_stp_train5 = xgb.DMatrix(X_train5, y_train5)\n",
        "dX_stp_test5 = xgb.DMatrix(X_test5, y_test5)\n",
        "model_stp_5 = xgb.train(params_stp_5, dX_stp_train5)\n",
        "pred_stp_5 = model_stp_5.predict(dX_stp_test5)\n",
        "\n",
        "rmse_stp_5 = np.sqrt(mean_squared_error(pred_stp_5, y_test5))\n",
        "rmse_stp_5"
      ],
      "execution_count": null,
      "outputs": [
        {
          "output_type": "stream",
          "name": "stdout",
          "text": [
            "Evaluation \t Proposed point \t  Current eval. \t  Best eval. \t        Exact CBM: StdDev. x \t Approx CBM: StdDev. x \n",
            "init\t [ 2.21993171  8.70732306 11.          0.68186845 10.          0.53957007]\t 0.7403320965261992\t 0.7403320965261992\t    \t    \n",
            "init\t [ 6.11743863  7.65907856  5.          0.64840025 16.          0.82745351]\t 0.7493104333264211\t 0.7403320965261992\t    \t    \n",
            "init\t [ 6.49458883  8.19472793  6.          0.93996852 19.          0.36647194]\t 0.9342492295788805\t 0.7403320965261992\t    \t    \n",
            "init\t [ 6.28787909  5.7983781   6.          0.63290956 17.          0.18402673]\t 0.939514214921639\t 0.7403320965261992\t    \t    \n",
            "init\t [8.26554249 8.33492742 9.         0.97900675 3.         0.26957319]\t 0.921290745787579\t 0.7403320965261992\t    \t    \n",
            "1  \t [1.95474956 1.21548467 5.         0.65548996 6.         0.3261206 ]\t 0.9436861715841889\t 0.7403320965261992\t 4.7763612358823035\t 4.770920724193781\n",
            "2  \t [ 3.90043826  0.30059527 11.          0.95660877 13.          0.16396145]\t 0.9276450520884063\t 0.7403320965261992\t 4.954861694266832\t 4.93842142088234\n",
            "\u001b[1m\u001b[92m3\u001b[0m\t \u001b[1m\u001b[92m[ 1.89102498  3.81201457 14.          0.79693323  4.          0.52365093]\u001b[0m\t \u001b[1m\u001b[92m0.7398148307506893\u001b[0m\t \u001b[1m\u001b[92m0.7398148307506893\u001b[0m\t \u001b[1m\u001b[92m4.485503677418573\u001b[0m\t \u001b[1m\u001b[92m4.517173712518337\u001b[0m\n",
            "4  \t [ 8.98063632  2.97885127  9.          0.64249728 18.          0.16342995]\t 0.9276698902289097\t 0.7398148307506893\t 4.901271648809893\t 4.901271648809893\n",
            "\u001b[1m\u001b[92m5\u001b[0m\t \u001b[1m\u001b[92m[ 7.2080363   0.14020863 14.          0.70262402  1.          0.81354205]\u001b[0m\t \u001b[1m\u001b[92m0.6989575443158274\u001b[0m\t \u001b[1m\u001b[92m0.6989575443158274\u001b[0m\t \u001b[1m\u001b[92m5.101738070434966\u001b[0m\t \u001b[1m\u001b[92m4.826153339967485\u001b[0m\n",
            "6  \t [0.43749481 8.4213957  8.         0.8974006  1.         0.32861568]\t 0.92565009216999\t 0.6989575443158274\t 4.69970977902865\t 4.646405335446864\n",
            "7  \t [4.37003348 9.87890289 5.         0.65374913 7.         0.62009063]\t 0.8160533272968584\t 0.6989575443158274\t 4.8140563527568645\t 4.720467689207827\n",
            "\u001b[1m\u001b[92m8\u001b[0m\t \u001b[1m\u001b[92m[10. 10. 15.  1. 20.  1.]\u001b[0m\t \u001b[1m\u001b[92m0.6458620128690523\u001b[0m\t \u001b[1m\u001b[92m0.6458620128690523\u001b[0m\t \u001b[1m\u001b[92m4.710497108622345\u001b[0m\t \u001b[1m\u001b[92m4.562347220590784\u001b[0m\n",
            "9  \t [ 9.58792626  8.48977785 13.          0.60628176  9.          0.18518956]\t 0.9277423136052668\t 0.6458620128690523\t 5.29370866304616\t 5.285365200085241\n",
            "10 \t [ 6.97752806  2.98678749 10.          0.57146948  7.          0.9882264 ]\t 0.6796390241442563\t 0.6458620128690523\t 4.78289952616199\t 4.735157677642397\n",
            "11 \t [ 0.89740814  7.68177756 10.          0.50899891 18.          0.1637852 ]\t 0.929958591632978\t 0.6458620128690523\t 5.115478693453739\t 4.930686135140926\n",
            "12 \t [8.44893619 0.35900307 6.         0.94734172 4.         0.72898681]\t 0.7387384974169141\t 0.6458620128690523\t 4.987600264993194\t 4.975803335878027\n",
            "13 \t [ 7.62027901  8.36748806 13.          0.68088493 15.          0.89941602]\t 0.6746484007561842\t 0.6458620128690523\t 5.2788457976491525\t 5.162288835442347\n",
            "14 \t [ 1.08413831  3.43645345  5.          0.5        14.47452195  0.1       ]\t 0.9483182036944408\t 0.6458620128690523\t 4.511962536318952\t 4.620228251369154\n",
            "15 \t [ 1.02937954  1.87162456 12.          0.80403735 18.          0.49076122]\t 0.779444839237101\t 0.6458620128690523\t 4.4509953317080795\t 4.463925611719576\n",
            "16 \t [ 9.85923825  0.4401096  14.          0.51176114 16.          0.65114761]\t 0.7072532974379651\t 0.6458620128690523\t 5.034631900811645\t 4.965549832681539\n",
            "17 \t [ 9.34484937  3.49003142 14.          0.90417251  7.          0.92435507]\t 0.6682628994459927\t 0.6458620128690523\t 4.870747155864507\t 4.870747155864507\n",
            "18 \t [ 9.73905766  7.12200775  5.          0.85875901 11.          0.99496281]\t 0.7281481211112614\t 0.6458620128690523\t 5.221599835777721\t 5.349210394831107\n",
            "19 \t [ 2.91927839  7.3392069   6.          0.85847684 14.          0.50487035]\t 0.7871744338256177\t 0.6458620128690523\t 4.646064265083888\t 4.646064265083888\n",
            "20 \t [ 2.93448298  5.80717368  5.          0.89608154 19.          0.6387738 ]\t 0.7616619440927369\t 0.6458620128690523\t 4.695278882223025\t 4.695279062134997\n",
            "21 \t [ 3.87687792  9.24471285 10.          0.79467506 14.          0.58974564]\t 0.7413460349644984\t 0.6458620128690523\t 4.791461555936312\t 4.79141421867786\n",
            "22 \t [ 3.12623913  1.70372165 14.          0.65033852 15.          0.68304577]\t 0.7003442032528848\t 0.6458620128690523\t 4.803446715007628\t 4.798465127062839\n",
            "23 \t [ 0.19302552  7.40732602 14.          0.96196983 15.          0.6651316 ]\t 0.6933552649675729\t 0.6458620128690523\t 5.1244374263355565\t 5.124315995380069\n",
            "24 \t [3.94047137 4.02714818 9.         0.84897818 1.         0.28601664]\t 0.9261840428765531\t 0.6458620128690523\t 4.795530950660443\t 4.620120505369435\n",
            "25 \t [ 2.60956706  4.4745251   9.          0.69330349 17.          0.83988084]\t 0.6920167982810115\t 0.6458620128690523\t 4.658087418003335\t 4.658087418003335\n",
            "26 \t [ 0.65904826  3.00639193 10.          0.88267232 10.          0.15011078]\t 0.9287520803820832\t 0.6458620128690523\t 4.9262299696184035\t 4.925012467385766\n",
            "27 \t [ 8.63550776  0.42604305  7.          0.87159448 12.          0.96938136]\t 0.6947969884242674\t 0.6458620128690523\t 5.197609300520264\t 5.185383062130646\n",
            "28 \t [ 8.6598151   9.62485551  8.          0.71851231 16.          0.71522574]\t 0.7099197558902939\t 0.6458620128690523\t 4.841890499824233\t 4.841890499824233\n",
            "29 \t [ 9.89240609  4.6385061   5.          0.77405056 16.          0.99983452]\t 0.7312561878518347\t 0.6458620128690523\t 4.942196456161363\t 4.944815797258058\n",
            "30 \t [ 4.26618531  5.80193116 14.          0.50854942 16.          0.74490807]\t 0.7077898406414209\t 0.6458620128690523\t 4.627375204316172\t 4.624062217635823\n"
          ]
        },
        {
          "output_type": "execute_result",
          "data": {
            "text/plain": [
              "49933.520017673625"
            ]
          },
          "metadata": {},
          "execution_count": 48
        }
      ]
    },
    {
      "cell_type": "code",
      "source": [
        "### Bayesian optimization runs (x20): 'Exact STP CBM' Acquisition Function run number = 6 \n",
        "\n",
        "np.random.seed(run_num_6)\n",
        "surrogate_stp_6 = dtStudentProcess(cov_func, optimize=opt, nu = df)\n",
        "\n",
        "X_train6, X_test6, y_train6, y_test6 = train_test_split(X, y, test_size=test_perc, random_state=run_num_6)\n",
        "\n",
        "def f_syn_polarity6(alpha, gamma, max_depth, subsample, min_child_weight, colsample):\n",
        "    reg = XGBRegressor(reg_alpha=alpha, gamma=gamma, max_depth=int(max_depth), subsample=subsample, min_child_weight=int(min_child_weight),\n",
        "          colsample_bytree=colsample, n_estimators = n_est, random_state=run_num_6, objective = 'reg:squarederror', eval_metric = 'rmse')\n",
        "    score = np.array(cross_val_score(reg, X=X_train6, y=y_train6).mean())\n",
        "    return operator * score\n",
        "\n",
        "stp_6 = dGPGO_stp(surrogate_stp_6, Acquisition_grad(util_stp), f_syn_polarity6, param, n_jobs = -1) # Define BayesOpt\n",
        "stp_6.run(max_iter = max_iter, init_evals = n_init) # run\n",
        "\n",
        "### Return optimal parameters' set:\n",
        "params_stp_6 = stp_6.getResult()[0]\n",
        "params_stp_6['max_depth'] = int(params_stp_6['max_depth'])\n",
        "params_stp_6['min_child_weight'] = int(params_stp_6['min_child_weight'])\n",
        "\n",
        "### Re-train with optimal parameters, run predictons:\n",
        "dX_stp_train6 = xgb.DMatrix(X_train6, y_train6)\n",
        "dX_stp_test6 = xgb.DMatrix(X_test6, y_test6)\n",
        "model_stp_6 = xgb.train(params_stp_6, dX_stp_train6)\n",
        "pred_stp_6 = model_stp_6.predict(dX_stp_test6)\n",
        "\n",
        "rmse_stp_6 = np.sqrt(mean_squared_error(pred_stp_6, y_test6))\n",
        "rmse_stp_6"
      ],
      "metadata": {
        "colab": {
          "base_uri": "https://localhost:8080/"
        },
        "id": "-i707LrINxei",
        "outputId": "4039aa47-ac2c-46b1-8a95-53a337b88f42"
      },
      "execution_count": null,
      "outputs": [
        {
          "output_type": "stream",
          "name": "stdout",
          "text": [
            "Evaluation \t Proposed point \t  Current eval. \t  Best eval. \t        Exact CBM: StdDev. x \t Approx CBM: StdDev. x \n",
            "init\t [8.92860151 3.31979805 5.         0.99251441 2.         0.57683563]\t 0.8597082353696148\t 0.7312157182363477\t    \t    \n",
            "init\t [4.18807429 3.35407849 9.         0.87750649 3.         0.56623277]\t 0.8283267033366734\t 0.7312157182363477\t    \t    \n",
            "init\t [ 5.788586    6.45355096 14.          0.70660047 12.          0.82154882]\t 0.7312157182363477\t 0.7312157182363477\t    \t    \n",
            "init\t [4.58184578 6.73834679 5.         0.90108528 3.         0.65482895]\t 0.835804847353631\t 0.7312157182363477\t    \t    \n",
            "init\t [ 4.42510505  5.75952352 14.          0.97882365 15.          0.29525604]\t 1.0201879064028692\t 0.7312157182363477\t    \t    \n",
            "1  \t [ 2.83859384  1.8954219   7.          0.66740302 13.          0.2701964 ]\t 1.019213535386702\t 0.7312157182363477\t 4.486126274199133\t 4.477554059061711\n",
            "2  \t [ 8.38264396  7.97650716 14.          0.82584689  4.          0.25017455]\t 1.0290226001513474\t 0.7312157182363477\t 4.839877743649067\t 4.763748509061645\n",
            "3  \t [8.90357673 8.23982464 5.         0.66456142 9.         0.34395649]\t 1.0228902128409325\t 0.7312157182363477\t 5.079092565032105\t 5.127125234494527\n",
            "\u001b[1m\u001b[92m4\u001b[0m\t \u001b[1m\u001b[92m[10. 10. 15.  1. 20.  1.]\u001b[0m\t \u001b[1m\u001b[92m0.6519505196682808\u001b[0m\t \u001b[1m\u001b[92m0.6519505196682808\u001b[0m\t \u001b[1m\u001b[92m4.9344634891604615\u001b[0m\t \u001b[1m\u001b[92m4.795825898893288\u001b[0m\n",
            "5  \t [ 0.84801146  1.44124026 14.          0.54887437  7.          0.93547384]\t 0.6939533330723558\t 0.6519505196682808\t 4.858820724663497\t 4.924483843888103\n",
            "6  \t [ 8.37754293  7.69636444  8.          0.98881796 16.          0.46623185]\t 0.9234519385526558\t 0.6519505196682808\t 4.737335732783281\t 4.577509442039829\n",
            "7  \t [ 0.5654966   9.52584762 14.          0.82016688  4.          0.10717254]\t 1.0610911324495744\t 0.6519505196682808\t 4.890474654568076\t 4.940174785727879\n",
            "8  \t [ 6.75909949  0.94220097  9.          0.71741448 19.          0.94972086]\t 0.6895189879978737\t 0.6519505196682808\t 4.731139715761246\t 4.773082746439674\n",
            "9  \t [ 1.43292764  9.31823681  5.          0.51738676 10.          0.30600768]\t 1.0250396556181756\t 0.6519505196682808\t 4.646545549963058\t 4.6328013643466255\n",
            "10 \t [ 0.09135886  8.11961466 10.          0.74013552 12.          0.97362941]\t 0.6832941408312798\t 0.6519505196682808\t 4.767405959901048\t 4.7575889026827385\n",
            "11 \t [ 8.51551086  2.70859558 10.          0.84297574  9.          0.42302662]\t 0.9225835870454052\t 0.6519505196682808\t 4.465552962507184\t 4.501654404422712\n",
            "12 \t [ 2.98453858  8.8700865   6.          0.73955182 19.          0.28620498]\t 1.0180101584031926\t 0.6519505196682808\t 4.927797388628772\t 4.898993460134973\n",
            "13 \t [0.  0.  5.  0.5 1.  0.1]\t 1.0641944470930125\t 0.6519505196682808\t 4.575949542392175\t 4.55508302752058\n",
            "14 \t [ 3.5216677   2.1967706  11.          0.74600018 10.          0.41151111]\t 0.924098127724531\t 0.6519505196682808\t 5.086065210997269\t 5.086065210997269\n",
            "15 \t [ 0.50127522  1.94924928 11.          0.89270197 19.          0.91286914]\t 0.6768798166626013\t 0.6519505196682808\t 5.168966030558657\t 5.184625467692242\n",
            "16 \t [ 4.8891514   9.63319929 13.          0.90452221  7.          0.96899492]\t 0.6778772824836011\t 0.6519505196682808\t 4.308211974234888\t 4.308211974234888\n",
            "17 \t [5.45577791 0.01600384 5.         0.68033296 5.         0.47973584]\t 0.9614697348345509\t 0.6519505196682808\t 4.704013769816354\t 4.718579253419589\n",
            "18 \t [ 4.48555971  3.69204095  9.          0.58646272 16.          0.41216867]\t 0.9310926555739572\t 0.6519505196682808\t 4.609108368896559\t 4.609108194824478\n",
            "19 \t [ 5.98453698  2.00451687 13.          0.80337068 13.          0.24875337]\t 1.0599380721478096\t 0.6519505196682808\t 4.951028142966822\t 4.951028142966822\n",
            "20 \t [ 7.65515729  8.3524801  13.          0.94320546  2.          0.37856462]\t 0.9398497506465855\t 0.6519505196682808\t 4.890870368872766\t 4.890870368872766\n",
            "21 \t [4.70222718 7.76335614 9.         0.92367012 9.         0.28724782]\t 1.0152545517792837\t 0.6519505196682808\t 5.006231447984148\t 4.943708154449061\n",
            "22 \t [ 0.15151883  3.04875397  5.          0.61495161 19.          0.79420245]\t 0.7938992290953346\t 0.6519505196682808\t 4.648275087911198\t 4.658660577776804\n",
            "23 \t [ 7.36797889  8.11394282  7.          0.58550636 12.          0.48664462]\t 0.9387634302639226\t 0.6519505196682808\t 4.703188131201835\t 4.703188131201835\n",
            "24 \t [8.12249915 9.52146586 8.         0.55686302 4.         0.21818921]\t 1.0606438147117943\t 0.6519505196682808\t 4.370428533590682\t 4.374758274961856\n",
            "25 \t [ 3.81847995  9.43141013 12.          0.56182914 19.          0.95661081]\t 0.6893334668436607\t 0.6519505196682808\t 4.844507394336188\t 4.80083533865812\n",
            "26 \t [ 1.76346732  7.41255372 13.          0.55954485  5.          0.82537699]\t 0.7458275930604825\t 0.6519505196682808\t 4.643424036896246\t 4.643350555137735\n",
            "27 \t [ 9.88239745  3.08226956 11.          0.65295835  2.          0.64174706]\t 0.7805648156360628\t 0.6519505196682808\t 4.74918129775991\t 4.720259056631445\n",
            "28 \t [5.9270225  4.64228615 5.         0.60674766 7.         0.57131582]\t 0.8654275908149657\t 0.6519505196682808\t 4.491577221387526\t 4.49338706379371\n",
            "29 \t [ 9.93142529  1.55453711  5.          0.69644974 13.          0.89571454]\t 0.7435142600117224\t 0.6519505196682808\t 4.826974044086469\t 4.8416959050415\n",
            "30 \t [ 4.46432054  1.37976416 14.          0.91350827  1.          0.70455501]\t 0.786373065109467\t 0.6519505196682808\t 4.609581960929165\t 4.549005963046329\n"
          ]
        },
        {
          "output_type": "execute_result",
          "data": {
            "text/plain": [
              "46832.22443034189"
            ]
          },
          "metadata": {},
          "execution_count": 49
        }
      ]
    },
    {
      "cell_type": "code",
      "source": [
        "### Bayesian optimization runs (x20): 'Exact STP CBM' Acquisition Function run number = 7 \n",
        "\n",
        "np.random.seed(run_num_7)\n",
        "surrogate_stp_7 = dtStudentProcess(cov_func, optimize=opt, nu = df)\n",
        "\n",
        "X_train7, X_test7, y_train7, y_test7 = train_test_split(X, y, test_size=test_perc, random_state=run_num_7)\n",
        "\n",
        "def f_syn_polarity7(alpha, gamma, max_depth, subsample, min_child_weight, colsample):\n",
        "    reg = XGBRegressor(reg_alpha=alpha, gamma=gamma, max_depth=int(max_depth), subsample=subsample, min_child_weight=min_child_weight,\n",
        "          colsample_bytree=colsample, n_estimators = n_est, random_state=run_num_7, objective = 'reg:squarederror')\n",
        "    score = np.array(cross_val_score(reg, X=X_train7, y=y_train7).mean())\n",
        "    return operator * score\n",
        "\n",
        "stp_7 = dGPGO_stp(surrogate_stp_7, Acquisition_grad(util_stp), f_syn_polarity7, param, n_jobs = -1) # Define BayesOpt\n",
        "stp_7.run(max_iter = max_iter, init_evals = n_init) # run\n",
        "\n",
        "### Return optimal parameters' set:\n",
        "params_stp_7 = stp_7.getResult()[0]\n",
        "params_stp_7['max_depth'] = int(params_stp_7['max_depth'])\n",
        "params_stp_7['min_child_weight'] = int(params_stp_7['min_child_weight'])\n",
        "\n",
        "### Re-train with optimal parameters, run predictons:\n",
        "dX_stp_train7 = xgb.DMatrix(X_train7, y_train7)\n",
        "dX_stp_test7 = xgb.DMatrix(X_test7, y_test7)\n",
        "model_stp_7 = xgb.train(params_stp_7, dX_stp_train7)\n",
        "pred_stp_7 = model_stp_7.predict(dX_stp_test7)\n",
        "\n",
        "rmse_stp_7 = np.sqrt(mean_squared_error(pred_stp_7, y_test7))\n",
        "rmse_stp_7"
      ],
      "metadata": {
        "colab": {
          "base_uri": "https://localhost:8080/"
        },
        "id": "zh0IJf8zNy9E",
        "outputId": "ba13c4fe-2ea1-4284-9980-344fda498e97"
      },
      "execution_count": null,
      "outputs": [
        {
          "output_type": "stream",
          "name": "stdout",
          "text": [
            "Evaluation \t Proposed point \t  Current eval. \t  Best eval. \t        Exact CBM: StdDev. x \t Approx CBM: StdDev. x \n",
            "init\t [0.76308289 7.79918792 8.         0.98911145 8.         0.98019056]\t 0.6599162825175136\t 0.6529031062312245\t    \t    \n",
            "init\t [ 5.3849587   5.01120464 13.          0.74994125  5.          0.88192131]\t 0.6529031062312245\t 0.6529031062312245\t    \t    \n",
            "init\t [ 3.30839249  3.9294231  12.          0.6440728  13.          0.41137564]\t 0.7849988476524127\t 0.6529031062312245\t    \t    \n",
            "init\t [9.29528191 2.6258377  5.         0.80027446 1.         0.86616513]\t 0.7434573966703171\t 0.6529031062312245\t    \t    \n",
            "init\t [ 1.74052764  7.90763512 14.          0.7244129   4.          0.77536887]\t 0.6887936732176462\t 0.6529031062312245\t    \t    \n",
            "1  \t [3.43305102 3.00339076 8.         0.71322679 4.         0.33322219]\t 0.8461730749178773\t 0.6529031062312245\t 5.060576092330004\t 4.935072128624982\n",
            "2  \t [ 8.27276329  5.80705371  6.          0.6575149  16.          0.66596626]\t 0.7280339284910606\t 0.6529031062312245\t 4.624921186427447\t 4.62296162004954\n",
            "3  \t [ 8.97988092  8.79483413 14.          0.55379557 13.          0.92924117]\t 0.6571137209723783\t 0.6529031062312245\t 4.937898913028917\t 4.867616543577254\n",
            "4  \t [ 6.31879092  0.69939064  5.          0.5769645  12.          0.84874959]\t 0.7458231993222018\t 0.6529031062312245\t 4.928296009153436\t 4.9496516585029395\n",
            "5  \t [ 9.90436619  1.68371673 11.          0.68947817 16.          0.400226  ]\t 0.7838758112536788\t 0.6529031062312245\t 4.683158830426995\t 4.706704995933657\n",
            "6  \t [ 2.27614069  9.14855814 13.          0.84138599 18.          0.79014716]\t 0.6787899501779286\t 0.6529031062312245\t 4.721212275966195\t 4.713053124919864\n",
            "7  \t [ 0.63761793  0.73483023 14.          0.60715475  1.          0.28353184]\t 0.8531322761504475\t 0.6529031062312245\t 5.036640310843782\t 4.976034658353283\n",
            "8  \t [ 0.46626117  2.25760624  6.          0.85367342 17.          0.48531791]\t 0.8135396529627978\t 0.6529031062312245\t 4.882408208755735\t 4.877604513927096\n",
            "9  \t [5.70513125 8.30861013 6.         0.98680016 3.         0.16134411]\t 0.9984088714580504\t 0.6529031062312245\t 5.182333463429893\t 5.1693656756483275\n",
            "10 \t [ 3.5721216   0.0452777  14.          0.8757848   8.          0.10300558]\t 0.9938990668172615\t 0.6529031062312245\t 4.856470077992088\t 4.654706482296019\n",
            "11 \t [ 0.          0.26297593  5.26246401  0.5        10.26246401  0.1       ]\t 1.0011804256482524\t 0.6529031062312245\t 4.76031048031989\t 4.756459864468295\n",
            "\u001b[1m\u001b[92m12\u001b[0m\t \u001b[1m\u001b[92m[7.0602652  6.93790534 9.         0.99868525 6.         0.93828193]\u001b[0m\t \u001b[1m\u001b[92m0.6512010756034953\u001b[0m\t \u001b[1m\u001b[92m0.6512010756034953\u001b[0m\t \u001b[1m\u001b[92m4.890307849711915\u001b[0m\t \u001b[1m\u001b[92m4.890307849711915\u001b[0m\n",
            "13 \t [ 9.74185418  1.9812272  14.          0.94068286 10.          0.45784207]\t 0.7792188999132433\t 0.6512010756034953\t 5.113904691560597\t 5.039963054369957\n",
            "14 \t [ 5.05369665  2.67147005  5.          0.51290284 10.          0.64085   ]\t 0.7504591409344632\t 0.6512010756034953\t 4.858513105000703\t 4.858513105000703\n",
            "15 \t [ 0.80466258  8.06348306  7.          0.77513285 17.          0.96959926]\t 0.6790417202245967\t 0.6512010756034953\t 4.791339512434056\t 4.668456083816948\n",
            "16 \t [ 1.46233253  4.21473795 12.          0.82588689  8.          0.69701346]\t 0.686927347743188\t 0.6512010756034953\t 4.630583368040084\t 4.61606296037214\n",
            "17 \t [ 0.08258912  2.04682383 12.          0.59206459 18.          0.58057909]\t 0.6960149194291863\t 0.6512010756034953\t 4.571889959695198\t 4.577656463507459\n",
            "\u001b[1m\u001b[92m18\u001b[0m\t \u001b[1m\u001b[92m[10.         10.         15.          1.         19.90383112  1.        ]\u001b[0m\t \u001b[1m\u001b[92m0.6415746011828174\u001b[0m\t \u001b[1m\u001b[92m0.6415746011828174\u001b[0m\t \u001b[1m\u001b[92m5.1122963149328555\u001b[0m\t \u001b[1m\u001b[92m5.13307655379924\u001b[0m\n",
            "19 \t [ 7.50373907  5.41854764 11.          0.90174644  5.          0.21227631]\t 0.9937922112122403\t 0.6415746011828174\t 4.907500318419061\t 4.907500318419061\n",
            "20 \t [ 5.0541702   1.72413952  9.          0.76132059 15.          0.37444251]\t 0.8385022169449027\t 0.6415746011828174\t 4.51869576782571\t 4.51869576782571\n",
            "21 \t [ 3.09348613  3.96247234  8.          0.81774087 13.          0.58941598]\t 0.7015179019308584\t 0.6415746011828174\t 4.824675981197851\t 4.824675981197851\n",
            "22 \t [9.36551555 8.35926435 5.         0.8418078  9.         0.1220723 ]\t 0.9984569363237903\t 0.6415746011828174\t 4.564815918857059\t 4.5708277512148\n",
            "23 \t [ 4.56796849  7.2276288  12.          0.69041532 11.          0.25650596]\t 0.8346586316188039\t 0.6415746011828174\t 4.814076462332264\t 4.814076462332264\n",
            "24 \t [ 8.17909255  8.95640578 13.          0.94174624  1.          0.89014148]\t 0.6509486270988182\t 0.6415746011828174\t 5.355297481045916\t 5.3142027363298885\n",
            "25 \t [2.62154521 9.82821247 5.         0.94306877 2.         0.54997602]\t 0.7621762752757402\t 0.6415746011828174\t 4.9151297940328105\t 4.9151297940328105\n",
            "26 \t [ 2.06002331  9.88106062 13.          0.81874566 19.          0.24780841]\t 0.9921424184439918\t 0.6415746011828174\t 4.869217368686481\t 4.869217368686481\n",
            "27 \t [9.91546913 0.35662679 7.         0.87706909 8.         0.31009443]\t 0.8520314289074896\t 0.6415746011828174\t 4.744959251321387\t 4.770315648580087\n",
            "28 \t [ 7.27114604  3.7137488   9.          0.55194413 17.          0.65085645]\t 0.6957804844340307\t 0.6415746011828174\t 4.630604082788684\t 4.623777193912462\n",
            "29 \t [5.13805575 8.46039335 5.         0.82814397 6.         0.39527277]\t 0.833602430515404\t 0.6415746011828174\t 4.93511917968854\t 4.936535399965266\n",
            "30 \t [ 6.51356727  1.45057476 10.          0.5773341   4.          0.42302705]\t 0.7973763757188531\t 0.6415746011828174\t 4.716342316604875\t 4.716342316604875\n"
          ]
        },
        {
          "output_type": "execute_result",
          "data": {
            "text/plain": [
              "49759.76528877992"
            ]
          },
          "metadata": {},
          "execution_count": 50
        }
      ]
    },
    {
      "cell_type": "code",
      "metadata": {
        "id": "xk0IPTSTbIl3",
        "colab": {
          "base_uri": "https://localhost:8080/"
        },
        "outputId": "06eac593-5688-43a6-cc41-88eaf766afde"
      },
      "source": [
        "### Bayesian optimization runs (x20): 'Exact STP CBM' Acquisition Function run number = 8 \n",
        "\n",
        "np.random.seed(run_num_8)\n",
        "surrogate_stp_8 = dtStudentProcess(cov_func, optimize=opt, nu = df)\n",
        "\n",
        "X_train8, X_test8, y_train8, y_test8 = train_test_split(X, y, test_size=test_perc, random_state=run_num_8)\n",
        "\n",
        "def f_syn_polarity8(alpha, gamma, max_depth, subsample, min_child_weight, colsample):\n",
        "    reg = XGBRegressor(reg_alpha=alpha, gamma=gamma, max_depth=int(max_depth), subsample=subsample, min_child_weight=min_child_weight,\n",
        "          colsample_bytree=colsample, n_estimators = n_est, random_state=run_num_8, objective = 'reg:squarederror')\n",
        "    score = np.array(cross_val_score(reg, X=X_train8, y=y_train8).mean())\n",
        "    return operator * score\n",
        "\n",
        "stp_8 = dGPGO_stp(surrogate_stp_8, Acquisition_grad(util_stp), f_syn_polarity8, param, n_jobs = -1) # Define BayesOpt\n",
        "stp_8.run(max_iter = max_iter, init_evals = n_init) # run\n",
        "\n",
        "### Return optimal parameters' set:\n",
        "params_stp_8 = stp_8.getResult()[0]\n",
        "params_stp_8['max_depth'] = int(params_stp_8['max_depth'])\n",
        "params_stp_8['min_child_weight'] = int(params_stp_8['min_child_weight'])\n",
        "\n",
        "### Re-train with optimal parameters, run predictons:\n",
        "dX_stp_train8 = xgb.DMatrix(X_train8, y_train8)\n",
        "dX_stp_test8 = xgb.DMatrix(X_test8, y_test8)\n",
        "model_stp_8 = xgb.train(params_stp_8, dX_stp_train8)\n",
        "pred_stp_8 = model_stp_8.predict(dX_stp_test8)\n",
        "\n",
        "rmse_stp_8 = np.sqrt(mean_squared_error(pred_stp_8, y_test8))\n",
        "rmse_stp_8"
      ],
      "execution_count": null,
      "outputs": [
        {
          "output_type": "stream",
          "name": "stdout",
          "text": [
            "Evaluation \t Proposed point \t  Current eval. \t  Best eval. \t        Exact CBM: StdDev. x \t Approx CBM: StdDev. x \n",
            "init\t [ 8.73429403  9.68540663 10.          0.68875849  9.          0.48011572]\t 0.8097437093843076\t 0.6653168057229354\t    \t    \n",
            "init\t [ 6.12033333  7.66062926  8.          0.76133734 13.          0.93379456]\t 0.676783388491471\t 0.6653168057229354\t    \t    \n",
            "init\t [ 1.46524679  7.01527914  7.          0.90913299 10.          0.36016753]\t 0.8290150461838799\t 0.6653168057229354\t    \t    \n",
            "init\t [ 9.73855241  3.33774046 14.          0.53290419  7.          0.7088681 ]\t 0.704280612172438\t 0.6653168057229354\t    \t    \n",
            "init\t [ 3.00618018  1.82702795 11.          0.75681389 14.          0.98627449]\t 0.6653168057229354\t 0.6653168057229354\t    \t    \n",
            "1  \t [4.42022545 5.48487111 9.         0.97165909 3.         0.63617522]\t 0.6939807861210728\t 0.6653168057229354\t 4.975717130214291\t 4.992823950931282\n",
            "2  \t [ 4.42530022  8.86662399 12.          0.55390756 19.          0.26906902]\t 0.8292448989696929\t 0.6653168057229354\t 4.513581245244959\t 4.487225163253807\n",
            "3  \t [ 9.08237751  2.49680746  6.          0.65941352 17.          0.68321352]\t 0.7238654894117781\t 0.6653168057229354\t 4.957728080375066\t 4.966639257673504\n",
            "4  \t [ 2.65017214  0.71847009 13.          0.73718634  4.          0.80301028]\t 0.6751159047919135\t 0.6653168057229354\t 5.323310180525051\t 5.265466345772919\n",
            "5  \t [ 2.71549468  6.59835463  5.          0.95307649 18.          0.8022723 ]\t 0.7298305735353544\t 0.6653168057229354\t 4.539997766677285\t 4.519450743563177\n",
            "6  \t [8.02691358 0.52300563 6.         0.98815878 7.         0.44490514]\t 0.8276007354468167\t 0.6653168057229354\t 4.702364441187376\t 4.77396980934904\n",
            "7  \t [ 8.83774177  5.41674027 14.          0.73954397  1.          0.31035075]\t 0.8412489648220683\t 0.6653168057229354\t 4.975087765643483\t 4.975087765643483\n",
            "\u001b[1m\u001b[92m8\u001b[0m\t \u001b[1m\u001b[92m[10. 10. 15.  1. 20.  1.]\u001b[0m\t \u001b[1m\u001b[92m0.6454226853941064\u001b[0m\t \u001b[1m\u001b[92m0.6454226853941064\u001b[0m\t \u001b[1m\u001b[92m4.9558254887462585\u001b[0m\t \u001b[1m\u001b[92m4.884249625300031\u001b[0m\n",
            "9  \t [0.  0.  5.  0.5 1.  0.1]\t 0.9366264008615343\t 0.6454226853941064\t 4.5750851903798555\t 4.66964211367807\n",
            "10 \t [ 6.33546486  6.1965483  14.          0.77082014  7.          0.18999946]\t 0.9299324411052285\t 0.6454226853941064\t 5.342171295436109\t 5.342171295436109\n",
            "11 \t [10.          4.16096577 11.86739479  1.         18.90793781  1.        ]\t 0.6458202413673299\t 0.6454226853941064\t 5.36159499726931\t 5.279013140998587\n",
            "12 \t [ 2.23792501  1.93071873 12.          0.98369968  9.          0.32338652]\t 0.8257312995110603\t 0.6454226853941064\t 4.9020742102223664\t 4.907822148275812\n",
            "13 \t [8.84715023 2.54200416 9.         0.79480608 3.         0.41227405]\t 0.8075723681673436\t 0.6454226853941064\t 4.732480919161265\t 4.732480919161265\n",
            "14 \t [ 0.1290715   5.68749065 14.          0.75519623 17.          0.53665405]\t 0.7118901789751246\t 0.6454226853941064\t 4.876756263240049\t 4.891303561676811\n",
            "15 \t [3.63587924 9.92644255 5.         0.74785877 1.         0.42737692]\t 0.8438702768074448\t 0.6454226853941064\t 4.655399856063607\t 4.602410165789206\n",
            "16 \t [ 9.24749658  6.40397266 14.          0.77519031 13.          0.76425416]\t 0.6718841919044787\t 0.6454226853941064\t 4.983418354087527\t 5.080938074223229\n",
            "17 \t [7.57595113 9.13206965 6.         0.71378494 5.         0.12569757]\t 0.9344292292417483\t 0.6454226853941064\t 4.470067605135768\t 4.478164230875803\n",
            "18 \t [0.49004135 4.66713294 7.         0.88291513 6.         0.10482779]\t 0.931613586677549\t 0.6454226853941064\t 4.832818276662793\t 4.832818276662793\n",
            "19 \t [ 6.52363809  2.73893268  6.          0.5666018  11.          0.58254937]\t 0.7470781062254958\t 0.6454226853941064\t 4.5076706529535775\t 4.498147335054358\n",
            "20 \t [ 1.37842187  7.92618907 14.          0.53493538  2.          0.9994541 ]\t 0.6778496323948628\t 0.6454226853941064\t 4.690588176582328\t 4.748800533638697\n",
            "21 \t [ 4.96181193  2.91089923  6.          0.69167509 15.          0.83383245]\t 0.713587872750312\t 0.6454226853941064\t 4.676294784533085\t 4.676294784533085\n",
            "22 \t [ 3.36538587  9.88859923 13.          0.74640712 14.          0.34166583]\t 0.8265101138776348\t 0.6454226853941064\t 4.653045666036307\t 4.653045666036307\n",
            "23 \t [ 9.13538777  0.58601887 12.          0.9561044  15.          0.84753378]\t 0.6674074169237443\t 0.6454226853941064\t 4.988129567104512\t 4.8728211552208744\n",
            "24 \t [ 1.01106536  1.91323701  8.          0.85516417 17.          0.54957799]\t 0.7180303992622827\t 0.6454226853941064\t 4.44451625298478\t 4.395266737907344\n",
            "25 \t [ 9.99727845  0.24472381  5.          0.5470058  17.          0.11307902]\t 0.9378047957688525\t 0.6454226853941064\t 4.609318377646824\t 4.6093184295872875\n",
            "26 \t [ 3.21551212  3.04157433  6.          0.9055065  17.          0.2304952 ]\t 0.9338663333604857\t 0.6454226853941064\t 4.6765235333005135\t 4.6765235333005135\n",
            "27 \t [ 7.15040543  9.72926644 14.          0.63776297 15.          0.43073814]\t 0.8100270760776773\t 0.6454226853941064\t 4.890893623495531\t 4.890893623495531\n",
            "28 \t [ 5.29841112  4.74245374 11.          0.68146799 19.          0.79014882]\t 0.675192856271044\t 0.6454226853941064\t 4.893836153388102\t 4.893836153388102\n",
            "29 \t [ 9.6464663   0.98885701  8.          0.8054878  19.          0.70201828]\t 0.699572467500549\t 0.6454226853941064\t 5.05036790058675\t 5.05036790058675\n",
            "30 \t [ 6.13227177  4.9471251  12.          0.70151646  5.          0.22031339]\t 0.930914842449664\t 0.6454226853941064\t 4.95701667701793\t 4.95701667701793\n"
          ]
        },
        {
          "output_type": "execute_result",
          "data": {
            "text/plain": [
              "51081.55924427656"
            ]
          },
          "metadata": {},
          "execution_count": 51
        }
      ]
    },
    {
      "cell_type": "code",
      "metadata": {
        "id": "9UroEj_RbLSb",
        "colab": {
          "base_uri": "https://localhost:8080/"
        },
        "outputId": "0ac0cb42-8e12-4137-d44b-3937d5217f43"
      },
      "source": [
        "### Bayesian optimization runs (x20): 'Exact STP CBM' Acquisition Function run number = 9 \n",
        "\n",
        "np.random.seed(run_num_9)\n",
        "surrogate_stp_9 = dtStudentProcess(cov_func, optimize=opt, nu = df)\n",
        "\n",
        "X_train9, X_test9, y_train9, y_test9 = train_test_split(X, y, test_size=test_perc, random_state=run_num_9)\n",
        "\n",
        "def f_syn_polarity9(alpha, gamma, max_depth, subsample, min_child_weight, colsample):\n",
        "    reg = XGBRegressor(reg_alpha=alpha, gamma=gamma, max_depth=int(max_depth), subsample=subsample, min_child_weight=min_child_weight,\n",
        "          colsample_bytree=colsample, n_estimators = n_est, random_state=run_num_9, objective = 'reg:squarederror')\n",
        "    score = np.array(cross_val_score(reg, X=X_train9, y=y_train9).mean())\n",
        "    return operator * score\n",
        "\n",
        "stp_9 = dGPGO_stp(surrogate_stp_9, Acquisition_grad(util_stp), f_syn_polarity9, param, n_jobs = -1) # Define BayesOpt\n",
        "stp_9.run(max_iter = max_iter, init_evals = n_init) # run\n",
        "\n",
        "### Return optimal parameters' set:\n",
        "params_stp_9 = stp_9.getResult()[0]\n",
        "params_stp_9['max_depth'] = int(params_stp_9['max_depth'])\n",
        "params_stp_9['min_child_weight'] = int(params_stp_9['min_child_weight'])\n",
        "\n",
        "### Re-train with optimal parameters, run predictons:\n",
        "dX_stp_train9 = xgb.DMatrix(X_train9, y_train9)\n",
        "dX_stp_test9 = xgb.DMatrix(X_test9, y_test9)\n",
        "model_stp_9 = xgb.train(params_stp_9, dX_stp_train9)\n",
        "pred_stp_9 = model_stp_9.predict(dX_stp_test9)\n",
        "\n",
        "rmse_stp_9 = np.sqrt(mean_squared_error(pred_stp_9, y_test9))\n",
        "rmse_stp_9"
      ],
      "execution_count": null,
      "outputs": [
        {
          "output_type": "stream",
          "name": "stdout",
          "text": [
            "Evaluation \t Proposed point \t  Current eval. \t  Best eval. \t        Exact CBM: StdDev. x \t Approx CBM: StdDev. x \n",
            "init\t [ 0.10374154  5.01874592 11.          0.50377155  2.          0.29670281]\t 0.8449026536729003\t 0.6448358819228919\t    \t    \n",
            "init\t [ 4.18508181  2.48101168 13.          0.69794293  2.          0.25009871]\t 0.8430936233516066\t 0.6448358819228919\t    \t    \n",
            "init\t [ 8.78559086  9.50964032 13.          0.98395204 11.          0.90820641]\t 0.6448358819228919\t 0.6448358819228919\t    \t    \n",
            "init\t [ 6.66898973  5.47837783  6.          0.97165345 12.          0.72499481]\t 0.7455250925664565\t 0.6448358819228919\t    \t    \n",
            "init\t [ 8.24870465  4.65668475 13.          0.68760467  9.          0.98502332]\t 0.6542440322310401\t 0.6448358819228919\t    \t    \n",
            "1  \t [ 4.77974014  4.35555465  8.          0.84383705 19.          0.93268007]\t 0.6693804798942404\t 0.6448358819228919\t 5.051189846803885\t 5.036352968518687\n",
            "2  \t [9.23885705 0.0495141  9.         0.5847098  7.         0.79832927]\t 0.6774051522557019\t 0.6448358819228919\t 5.192833866106862\t 5.208544888650289\n",
            "3  \t [ 1.1881623   5.46583409 14.          0.63059352 16.          0.25294896]\t 0.8340800401331336\t 0.6448358819228919\t 4.871372053071675\t 4.878291744317191\n",
            "4  \t [ 0.19525707  9.62416422  9.          0.85280832 10.          0.52998476]\t 0.7396199848029671\t 0.6448358819228919\t 4.806158275546574\t 4.8680762775971775\n",
            "5  \t [6.85269834 6.20136147 6.         0.67238567 1.         0.99204973]\t 0.7018514223261489\t 0.6448358819228919\t 5.023910931036111\t 5.104619408670197\n",
            "6  \t [1.77268072 0.55805065 5.         0.58527637 6.         0.74360757]\t 0.7790397025965164\t 0.6448358819228919\t 4.763675829817233\t 4.79964963061356\n",
            "7  \t [ 9.59185621  7.9773415  13.          0.62536457 17.          0.96619226]\t 0.6567267794130591\t 0.6448358819228919\t 4.743309071313555\t 4.711426633330115\n",
            "8  \t [ 9.89935012  1.80411649  9.          0.642097   16.          0.9768379 ]\t 0.6624923928604278\t 0.6448358819228919\t 4.533113335423339\t 4.536001973893659\n",
            "9  \t [ 4.1253999   0.08646796  9.          0.85911567 12.          0.13912314]\t 1.046239948905622\t 0.6448358819228919\t 5.180901448723017\t 5.220845281128032\n",
            "10 \t [ 8.9317907   9.240006   13.          0.55531212  4.          0.42887515]\t 0.8067241228581707\t 0.6448358819228919\t 4.825797785700277\t 4.845030572563089\n",
            "11 \t [ 3.86509378  6.88963598 11.          0.9021876  17.          0.39037234]\t 0.7850360169721176\t 0.6448358819228919\t 4.960458547711071\t 4.973083095350149\n",
            "12 \t [1.14165439 8.14162839 5.         0.79417539 4.         0.57345322]\t 0.7979787228896624\t 0.6448358819228919\t 4.903554914069952\t 4.862412178192052\n",
            "13 \t [ 3.46207476  9.83623086 13.          0.59254174 15.          0.37573299]\t 0.7964686272194577\t 0.6448358819228919\t 5.222113425672909\t 5.222113425672909\n",
            "14 \t [ 4.02558043  2.43101342 14.          0.52315735 18.          0.26385595]\t 0.838493873986689\t 0.6448358819228919\t 4.728757306799949\t 4.727493681422732\n",
            "15 \t [9.88943457 8.53804591 8.         0.65243257 7.         0.28069664]\t 0.8352977818443392\t 0.6448358819228919\t 5.037900434447447\t 5.100778581412547\n",
            "16 \t [ 1.83091944  2.76282241 14.          0.70552322 11.          0.75741796]\t 0.6641486784734261\t 0.6448358819228919\t 4.533308118402666\t 4.642914370209695\n",
            "17 \t [ 7.81834149  9.72965303  8.          0.64259089 17.          0.22077726]\t 1.0465197239444557\t 0.6448358819228919\t 5.183718619883823\t 5.28367203472483\n",
            "18 \t [2.32449242 8.80135208 8.         0.99642073 4.         0.14576968]\t 1.0446140483804913\t 0.6448358819228919\t 4.829967737092157\t 4.829967737092157\n",
            "19 \t [4.28498147 5.75333434 9.         0.59253851 8.         0.20391969]\t 1.0473660903878694\t 0.6448358819228919\t 4.814114295629441\t 4.701491974001735\n",
            "20 \t [ 9.4006826   2.14529633  7.          0.801278   16.          0.55170588]\t 0.7578480827583333\t 0.6448358819228919\t 4.710646194563929\t 4.710646194563929\n",
            "21 \t [0.         0.         6.46254694 0.5        1.         0.1       ]\t 1.0500165840560578\t 0.6448358819228919\t 5.2282557002300045\t 5.163637155698727\n",
            "22 \t [ 0.3768638   0.98456584  9.          0.99441364 13.          0.49763585]\t 0.7865928825712862\t 0.6448358819228919\t 4.778682092658471\t 4.778682092658471\n",
            "23 \t [ 0.79581704  0.44548953 10.          0.5535323   5.          0.9139619 ]\t 0.6649440013666069\t 0.6448358819228919\t 5.232401767828203\t 5.141692697222519\n",
            "24 \t [8.70124272 3.38452793 9.         0.60282302 2.         0.97675759]\t 0.6677234893412216\t 0.6448358819228919\t 4.731199403236425\t 4.7939906454499\n",
            "25 \t [ 1.79202857  9.42549797  6.          0.88561061 15.          0.20505899]\t 1.0478804877849381\t 0.6448358819228919\t 4.906875278890757\t 4.845427524042441\n",
            "26 \t [ 0.34910818  3.39479926 12.          0.75007153 14.          0.74419655]\t 0.6950503015339501\t 0.6448358819228919\t 5.2202546438984845\t 5.215281143297262\n",
            "27 \t [ 0.45983101  9.28402862 13.          0.52786561  6.          0.42783681]\t 0.8036069849990609\t 0.6448358819228919\t 4.378025618795693\t 4.29764071266875\n",
            "28 \t [3.83388461 2.85611667 7.         0.74640655 5.         0.27473638]\t 0.8375129312365261\t 0.6448358819228919\t 4.698753626537375\t 4.698753626537375\n",
            "29 \t [ 5.3574592   5.42167977 11.          0.80739246  3.          0.15190636]\t 1.0470179871579322\t 0.6448358819228919\t 4.984944249095173\t 4.984402056249123\n",
            "30 \t [ 0.01153499  2.29531024 11.          0.50673714  7.          0.13750522]\t 1.0484367411595503\t 0.6448358819228919\t 4.617992103532055\t 4.617992103532055\n"
          ]
        },
        {
          "output_type": "execute_result",
          "data": {
            "text/plain": [
              "48075.00995818073"
            ]
          },
          "metadata": {},
          "execution_count": 52
        }
      ]
    },
    {
      "cell_type": "code",
      "metadata": {
        "id": "7VgaJOoJbOIE",
        "colab": {
          "base_uri": "https://localhost:8080/"
        },
        "outputId": "531b093b-a424-4120-9aee-ea40851dc527"
      },
      "source": [
        "### Bayesian optimization runs (x20): 'Exact STP CBM' Acquisition Function run number = 10 \n",
        "\n",
        "np.random.seed(run_num_10)\n",
        "surrogate_stp_10 = dtStudentProcess(cov_func, optimize=opt, nu = df)\n",
        "\n",
        "X_train10, X_test10, y_train10, y_test10 = train_test_split(X, y, test_size=test_perc, random_state=run_num_10)\n",
        "\n",
        "def f_syn_polarity10(alpha, gamma, max_depth, subsample, min_child_weight, colsample):\n",
        "    reg = XGBRegressor(reg_alpha=alpha, gamma=gamma, max_depth=int(max_depth), subsample=subsample, min_child_weight=min_child_weight,\n",
        "          colsample_bytree=colsample, n_estimators = n_est, random_state=run_num_10, objective = 'reg:squarederror')\n",
        "    score = np.array(cross_val_score(reg, X=X_train10, y=y_train10).mean())\n",
        "    return operator * score\n",
        "\n",
        "stp_10 = dGPGO_stp(surrogate_stp_10, Acquisition_grad(util_stp), f_syn_polarity10, param, n_jobs = -1) # Define BayesOpt\n",
        "stp_10.run(max_iter = max_iter, init_evals = n_init) # run\n",
        "\n",
        "### Return optimal parameters' set:\n",
        "params_stp_10 = stp_10.getResult()[0]\n",
        "params_stp_10['max_depth'] = int(params_stp_10['max_depth'])\n",
        "params_stp_10['min_child_weight'] = int(params_stp_10['min_child_weight'])\n",
        "\n",
        "### Re-train with optimal parameters, run predictons:\n",
        "dX_stp_train10 = xgb.DMatrix(X_train10, y_train10)\n",
        "dX_stp_test10 = xgb.DMatrix(X_test10, y_test10)\n",
        "model_stp_10 = xgb.train(params_stp_10, dX_stp_train10)\n",
        "pred_stp_10 = model_stp_10.predict(dX_stp_test10)\n",
        "\n",
        "rmse_stp_10 = np.sqrt(mean_squared_error(pred_stp_10, y_test10))\n",
        "rmse_stp_10"
      ],
      "execution_count": null,
      "outputs": [
        {
          "output_type": "stream",
          "name": "stdout",
          "text": [
            "Evaluation \t Proposed point \t  Current eval. \t  Best eval. \t        Exact CBM: StdDev. x \t Approx CBM: StdDev. x \n",
            "init\t [ 7.71320643  0.20751949  5.          0.72150747 17.          0.12265456]\t 0.8785010703819621\t 0.6669292375133978\t    \t    \n",
            "init\t [ 7.0920801   2.65566127 13.          0.57518893 17.          0.83494165]\t 0.6669292375133978\t 0.6669292375133978\t    \t    \n",
            "init\t [ 3.36071584  8.90816531  6.          0.86087766 15.          0.75469196]\t 0.7012460140601039\t 0.6669292375133978\t    \t    \n",
            "init\t [ 5.40880931  1.31458152  8.          0.57108502 14.          0.62551123]\t 0.7005965853529538\t 0.6669292375133978\t    \t    \n",
            "init\t [1.82631436 8.26082248 6.         0.80888349 5.         0.15900694]\t 0.880412005930048\t 0.6669292375133978\t    \t    \n",
            "1  \t [8.31989768 3.09778055 7.         0.64798085 3.         0.98471878]\t 0.6770142260932797\t 0.6669292375133978\t 4.530702769291637\t 4.614270739784392\n",
            "2  \t [ 3.05837423  0.98670899 11.          0.63714741 18.          0.46809298]\t 0.7417959722875219\t 0.6669292375133978\t 5.128967043921179\t 5.1313402578105345\n",
            "3  \t [ 2.20772511  4.37663949 11.          0.65455258  3.          0.57545511]\t 0.7112447021396917\t 0.6669292375133978\t 4.592346702284125\t 4.586720064862734\n",
            "4  \t [ 2.98946783  8.70916918 12.          0.89809007  8.          0.53350402]\t 0.7006385046040607\t 0.6669292375133978\t 4.885171393996706\t 4.874120288953303\n",
            "\u001b[1m\u001b[92m5\u001b[0m\t \u001b[1m\u001b[92m[ 3.75041373  9.81989522 14.          0.71370546 14.          0.97207881]\u001b[0m\t \u001b[1m\u001b[92m0.6475832890376199\u001b[0m\t \u001b[1m\u001b[92m0.6475832890376199\u001b[0m\t \u001b[1m\u001b[92m4.6140938166929475\u001b[0m\t \u001b[1m\u001b[92m4.592030459409285\u001b[0m\n",
            "6  \t [9.5129367  9.98430937 6.         0.51699097 2.         0.32133886]\t 0.8210163484458256\t 0.6475832890376199\t 4.667685233623898\t 4.667685087089161\n",
            "7  \t [0.  0.  5.  0.5 1.  0.1]\t 0.8815800498680714\t 0.6475832890376199\t 4.935356134162375\t 4.8177043741486525\n",
            "\u001b[1m\u001b[92m8\u001b[0m\t \u001b[1m\u001b[92m[10.          6.78215987 12.73413954  1.         10.73413954  1.        ]\u001b[0m\t \u001b[1m\u001b[92m0.6423941455356202\u001b[0m\t \u001b[1m\u001b[92m0.6423941455356202\u001b[0m\t \u001b[1m\u001b[92m4.659200074795027\u001b[0m\t \u001b[1m\u001b[92m4.653921058174583\u001b[0m\n",
            "9  \t [7.7714375  7.70616843 8.         0.82339468 6.         0.96195202]\t 0.661096368919013\t 0.6423941455356202\t 5.026973406145135\t 5.026973406145135\n",
            "10 \t [0.         2.22734427 5.         0.5        7.99368693 0.1       ]\t 0.8814015453098782\t 0.6423941455356202\t 4.773044091437372\t 4.787256293070192\n",
            "11 \t [5.00762913 1.53619492 9.         0.56892944 8.         0.96567366]\t 0.662454600529182\t 0.6423941455356202\t 4.676129703131721\t 4.680482341742117\n",
            "12 \t [ 8.79417312  9.02268129 11.          0.87585483  1.          0.84249089]\t 0.6656143987957235\t 0.6423941455356202\t 4.722444717571928\t 4.722444717571928\n",
            "13 \t [10.         10.         15.          1.         18.76124676  1.        ]\t 0.6455443154718696\t 0.6423941455356202\t 5.05504420097037\t 5.043097235841668\n",
            "14 \t [ 3.89768175  5.29572603  8.          0.92074245 11.          0.31486353]\t 0.8106110145898601\t 0.6423941455356202\t 4.951734709619386\t 4.951734709619386\n",
            "15 \t [2.14023913 7.87482927 8.         0.56565632 3.         0.51657322]\t 0.7143214190270583\t 0.6423941455356202\t 4.809648796290574\t 4.809648796290574\n",
            "16 \t [ 0.79209787  5.77655365 11.          0.54385846 15.          0.82704826]\t 0.6707470768091746\t 0.6423941455356202\t 4.501041916997484\t 4.7706587287131805\n",
            "17 \t [ 8.35606609  9.54397398  8.          0.89431505 16.          0.32940842]\t 0.8105681189470862\t 0.6423941455356202\t 4.746338856057592\t 4.822235746201767\n",
            "18 \t [ 0.19295602  0.79378594 12.          0.59003081  7.          0.10978379]\t 0.8849133129136291\t 0.6423941455356202\t 4.939592618121645\t 4.995735346894119\n",
            "19 \t [ 1.75909042  8.50460179 10.          0.61596511  8.          0.92202704]\t 0.6552140243198975\t 0.6423941455356202\t 4.663953524037191\t 4.663953524037191\n",
            "20 \t [ 5.75608238  3.36114356  7.          0.8888975  17.          0.1085544 ]\t 0.8804917195016874\t 0.6423941455356202\t 4.725930632965149\t 4.728816730679861\n",
            "21 \t [ 1.40673694  2.81853826  8.          0.57005206 17.          0.51239648]\t 0.7119792503375972\t 0.6423941455356202\t 5.0130754398739565\t 5.013075548035192\n",
            "22 \t [ 7.61103017  3.62093566 13.          0.5614452  13.          0.12084556]\t 0.8840919924947371\t 0.6423941455356202\t 4.967870252489145\t 4.966812169281604\n",
            "23 \t [ 6.89824313  6.43931113 11.          0.60707962 11.          0.89509759]\t 0.6539666670983036\t 0.6423941455356202\t 4.858116616898044\t 4.858116616898044\n",
            "24 \t [ 8.33810851  9.8990204  14.          0.61893039  5.          0.69227045]\t 0.699282809687575\t 0.6423941455356202\t 4.789518619357037\t 4.770814151334351\n",
            "25 \t [ 9.8750257   5.38059903  9.          0.71778174 19.          0.87413503]\t 0.6657607451774454\t 0.6423941455356202\t 4.905613825765595\t 4.930570069702414\n",
            "26 \t [ 0.41334249  8.31887156 14.          0.56806567  3.          0.60385777]\t 0.7174804114401528\t 0.6423941455356202\t 4.74417913430629\t 4.818924471580392\n",
            "27 \t [ 8.41854148  7.38245647  7.          0.57908813 12.          0.74367697]\t 0.7079468130001596\t 0.6423941455356202\t 4.651576473763365\t 4.554996616817689\n",
            "28 \t [ 1.55481231  8.89847306 13.          0.92315868 19.          0.23858876]\t 0.8822650514974324\t 0.6423941455356202\t 5.193797644869338\t 5.303233955075679\n",
            "29 \t [ 6.51286665  1.39669624 14.          0.78787389  3.          0.11385444]\t 0.8836810798728383\t 0.6423941455356202\t 4.962150228829681\t 4.867674877170266\n",
            "30 \t [ 9.44119737  4.83052802 12.          0.87311968 19.          0.35147834]\t 0.81181886510441\t 0.6423941455356202\t 4.979347172381205\t 4.979347172381205\n"
          ]
        },
        {
          "output_type": "execute_result",
          "data": {
            "text/plain": [
              "50424.27457116489"
            ]
          },
          "metadata": {},
          "execution_count": 53
        }
      ]
    },
    {
      "cell_type": "code",
      "metadata": {
        "id": "51z87uHWbRGr",
        "colab": {
          "base_uri": "https://localhost:8080/"
        },
        "outputId": "8e29791d-dda7-4c2c-a461-a9e5d818b86c"
      },
      "source": [
        "### Bayesian optimization runs (x20): 'Exact STP CBM' Acquisition Function run number = 11 \n",
        "\n",
        "np.random.seed(run_num_11)\n",
        "surrogate_stp_11 = dtStudentProcess(cov_func, optimize=opt, nu = df)\n",
        "\n",
        "X_train11, X_test11, y_train11, y_test11 = train_test_split(X, y, test_size=test_perc, random_state=run_num_11)\n",
        "\n",
        "def f_syn_polarity11(alpha, gamma, max_depth, subsample, min_child_weight, colsample):\n",
        "    reg = XGBRegressor(reg_alpha=alpha, gamma=gamma, max_depth=int(max_depth), subsample=subsample, min_child_weight=min_child_weight,\n",
        "          colsample_bytree=colsample, n_estimators = n_est, random_state=run_num_11, objective = 'reg:squarederror')\n",
        "    score = np.array(cross_val_score(reg, X=X_train11, y=y_train11).mean())\n",
        "    return operator * score\n",
        "\n",
        "stp_11 = dGPGO_stp(surrogate_stp_11, Acquisition_grad(util_stp), f_syn_polarity11, param, n_jobs = -1) # Define BayesOpt\n",
        "stp_11.run(max_iter = max_iter, init_evals = n_init) # run\n",
        "\n",
        "### Return optimal parameters' set:\n",
        "params_stp_11 = stp_11.getResult()[0]\n",
        "params_stp_11['max_depth'] = int(params_stp_11['max_depth'])\n",
        "params_stp_11['min_child_weight'] = int(params_stp_11['min_child_weight'])\n",
        "\n",
        "### Re-train with optimal parameters, run predictons:\n",
        "dX_stp_train11 = xgb.DMatrix(X_train11, y_train11)\n",
        "dX_stp_test11 = xgb.DMatrix(X_test11, y_test11)\n",
        "model_stp_11 = xgb.train(params_stp_11, dX_stp_train11)\n",
        "pred_stp_11 = model_stp_11.predict(dX_stp_test11)\n",
        "\n",
        "rmse_stp_11 = np.sqrt(mean_squared_error(pred_stp_11, y_test11))\n",
        "rmse_stp_11"
      ],
      "execution_count": null,
      "outputs": [
        {
          "output_type": "stream",
          "name": "stdout",
          "text": [
            "Evaluation \t Proposed point \t  Current eval. \t  Best eval. \t        Exact CBM: StdDev. x \t Approx CBM: StdDev. x \n",
            "init\t [ 1.80269689  0.19475241  6.          0.59705781 13.          0.47818324]\t 0.7904007286371394\t 0.6894069737354023\t    \t    \n",
            "init\t [ 4.85427098  0.12780815  5.          0.91309068 14.          0.86571558]\t 0.727634308123781\t 0.6894069737354023\t    \t    \n",
            "init\t [ 7.2996447   1.08736072 10.          0.92857712 18.          0.66910061]\t 0.6894069737354023\t 0.6894069737354023\t    \t    \n",
            "init\t [ 0.20483613  1.16737269  7.          0.57895615 16.          0.83644782]\t 0.7071657410132528\t 0.6894069737354023\t    \t    \n",
            "init\t [ 3.44624491  3.18798797 14.          0.54197657 15.          0.63958906]\t 0.7012825433030343\t 0.6894069737354023\t    \t    \n",
            "1  \t [9.77136617 6.6548802  7.         0.51036649 9.         0.81011527]\t 0.711031226877882\t 0.6894069737354023\t 4.242832736000586\t 4.158866954097257\n",
            "\u001b[1m\u001b[92m2\u001b[0m\t \u001b[1m\u001b[92m[ 0.59719728  4.15307516 11.          0.66501717  3.          0.95537014]\u001b[0m\t \u001b[1m\u001b[92m0.6577294425265764\u001b[0m\t \u001b[1m\u001b[92m0.6577294425265764\u001b[0m\t \u001b[1m\u001b[92m4.554229766126038\u001b[0m\t \u001b[1m\u001b[92m4.5073337995631535\u001b[0m\n",
            "3  \t [ 8.79191945  9.92354379  5.          0.67714371 18.          0.57050675]\t 0.7648729702018928\t 0.6577294425265764\t 4.587599496078124\t 4.469517237510135\n",
            "4  \t [ 8.43962982  4.2216354  12.          0.61829836  3.          0.16854155]\t 0.9235319432135773\t 0.6577294425265764\t 4.873372861272081\t 4.806743720936647\n",
            "5  \t [2.20135958 9.62559813 6.         0.71280025 1.         0.39977427]\t 0.7883201967902798\t 0.6577294425265764\t 4.6200450063167535\t 4.48783228584403\n",
            "6  \t [ 4.3826391   8.63134178  8.          0.99312919 13.          0.76681566]\t 0.6922630708519245\t 0.6577294425265764\t 4.621690368026642\t 4.659456411502595\n",
            "\u001b[1m\u001b[92m7\u001b[0m\t \u001b[1m\u001b[92m[ 8.22239698 10.         12.51158254  1.         20.          1.        ]\u001b[0m\t \u001b[1m\u001b[92m0.6379613499899032\u001b[0m\t \u001b[1m\u001b[92m0.6379613499899032\u001b[0m\t \u001b[1m\u001b[92m5.003167846100603\u001b[0m\t \u001b[1m\u001b[92m4.939158137284382\u001b[0m\n",
            "8  \t [6.77981326 1.558009   7.         0.85055204 5.         0.30145072]\t 0.8743477887688297\t 0.6379613499899032\t 4.903080073304223\t 4.926902052101378\n",
            "9  \t [ 7.64065289  8.8630116  14.          0.9254486   9.          0.47351621]\t 0.7626076284004604\t 0.6379613499899032\t 4.877170717587787\t 4.795969439021906\n",
            "10 \t [ 1.06054513  2.23745512 13.          0.92745502  9.          0.16992758]\t 0.9226798533243917\t 0.6379613499899032\t 4.840472586437706\t 4.841014816214423\n",
            "11 \t [ 0.11403055  8.4704762   5.          0.64787128 18.          0.27113862]\t 0.8864529961319944\t 0.6379613499899032\t 4.905281020790443\t 4.880882177188499\n",
            "12 \t [ 6.57200974  0.32012384 12.          0.93711127 11.          0.95294152]\t 0.6440920207844668\t 0.6379613499899032\t 5.095449753306024\t 5.088438589247053\n",
            "13 \t [1.37264123 4.42539257 5.         0.50284853 7.         0.43970984]\t 0.8076253627013447\t 0.6379613499899032\t 4.736443626538762\t 4.818209979514241\n",
            "14 \t [ 8.71522337  2.64896453  8.          0.8880663  13.          0.19932467]\t 0.9228060288203824\t 0.6379613499899032\t 4.981209537928296\t 5.014546704009226\n",
            "15 \t [0.61700864 1.88368662 5.         0.7080512  1.         0.20173876]\t 0.9297173774466645\t 0.6379613499899032\t 4.977234575552733\t 4.904235809061044\n",
            "16 \t [ 1.89793764  8.73729849 11.          0.54212945 19.          0.98798362]\t 0.662113773168444\t 0.6379613499899032\t 5.110942481515294\t 5.013747780785882\n",
            "17 \t [4.68258101 8.96288202 5.         0.97630328 6.         0.39227084]\t 0.8031528445623343\t 0.6379613499899032\t 4.71443484710796\t 4.715436010913955\n",
            "18 \t [ 2.10994823  7.1805032  12.          0.63048792  8.          0.67645363]\t 0.698358780864823\t 0.6379613499899032\t 4.732958910901898\t 4.731932369896073\n",
            "19 \t [ 2.16727134  8.25338567 14.          0.51858242  5.          0.20747401]\t 0.9265282654642244\t 0.6379613499899032\t 5.023642690553102\t 5.026243115259128\n",
            "20 \t [9.22875209 9.1986098  9.         0.90439491 3.         0.27523226]\t 0.8725625909092452\t 0.6379613499899032\t 4.707959983424293\t 4.712416947402211\n",
            "21 \t [ 3.32966927  6.72206515 14.          0.83912863 18.          0.84659432]\t 0.6883249973001357\t 0.6379613499899032\t 4.871951012965535\t 4.8704084586438645\n",
            "22 \t [5.15068265 4.76861601 5.         0.70076898 1.         0.87159533]\t 0.7286740032592812\t 0.6379613499899032\t 4.568974365603331\t 4.573230650162794\n",
            "23 \t [5.65101211 8.94413403 7.         0.64809449 8.         0.59228465]\t 0.7418835369809943\t 0.6379613499899032\t 4.721069117894493\t 4.719839629395732\n",
            "24 \t [ 3.1808698   6.08364786 11.          0.83908038 16.          0.30036907]\t 0.8686347965869988\t 0.6379613499899032\t 4.425098923849427\t 4.425098923849427\n",
            "25 \t [ 4.52812342  0.19443533 13.          0.65004115  2.          0.16077491]\t 0.9247656684808231\t 0.6379613499899032\t 4.711869618907663\t 4.701506108899902\n",
            "26 \t [ 4.35725957  3.75495843 10.          0.8962831   7.          0.47601782]\t 0.764405864026175\t 0.6379613499899032\t 4.4392708773943\t 4.4392708773943\n",
            "27 \t [ 3.02633699  5.92948093 12.          0.75060687  4.          0.57938735]\t 0.7332555811634872\t 0.6379613499899032\t 4.69843290237351\t 4.69843290237351\n",
            "28 \t [0.37569294 0.30864512 9.         0.6310655  7.         0.92576756]\t 0.6621924195468778\t 0.6379613499899032\t 4.59999771339352\t 4.632089295472612\n",
            "29 \t [9.27654384 0.11345815 9.         0.76045104 1.         0.92226676]\t 0.6600116767225708\t 0.6379613499899032\t 4.747798548092701\t 4.7190368473266044\n",
            "30 \t [ 8.90038024  6.84704721 14.          0.51883719 15.          0.17155821]\t 0.9255113000968498\t 0.6379613499899032\t 5.156372386012835\t 5.036095920179499\n"
          ]
        },
        {
          "output_type": "execute_result",
          "data": {
            "text/plain": [
              "50731.822037997925"
            ]
          },
          "metadata": {},
          "execution_count": 54
        }
      ]
    },
    {
      "cell_type": "code",
      "metadata": {
        "id": "j8jZUeoWbTvn",
        "colab": {
          "base_uri": "https://localhost:8080/"
        },
        "outputId": "f9f10c99-239b-4549-abf3-0387cc6c3f6f"
      },
      "source": [
        "### Bayesian optimization runs (x20): 'Exact STP CBM' Acquisition Function run number = 12\n",
        "\n",
        "np.random.seed(run_num_12)\n",
        "surrogate_stp_12 = dtStudentProcess(cov_func, optimize=opt, nu = df)\n",
        "\n",
        "X_train12, X_test12, y_train12, y_test12 = train_test_split(X, y, test_size=test_perc, random_state=run_num_12)\n",
        "\n",
        "def f_syn_polarity12(alpha, gamma, max_depth, subsample, min_child_weight, colsample):\n",
        "    reg = XGBRegressor(reg_alpha=alpha, gamma=gamma, max_depth=int(max_depth), subsample=subsample, min_child_weight=min_child_weight,\n",
        "          colsample_bytree=colsample, n_estimators = n_est, random_state=run_num_12, objective = 'reg:squarederror')\n",
        "    score = np.array(cross_val_score(reg, X=X_train12, y=y_train12).mean())\n",
        "    return operator * score\n",
        "\n",
        "stp_12 = dGPGO_stp(surrogate_stp_12, Acquisition_grad(util_stp), f_syn_polarity12, param, n_jobs = -1) # Define BayesOpt\n",
        "stp_12.run(max_iter = max_iter, init_evals = n_init) # run\n",
        "\n",
        "### Return optimal parameters' set:\n",
        "params_stp_12 = stp_12.getResult()[0]\n",
        "params_stp_12['max_depth'] = int(params_stp_12['max_depth'])\n",
        "params_stp_12['min_child_weight'] = int(params_stp_12['min_child_weight'])\n",
        "\n",
        "### Re-train with optimal parameters, run predictons:\n",
        "dX_stp_train12 = xgb.DMatrix(X_train12, y_train12)\n",
        "dX_stp_test12 = xgb.DMatrix(X_test12, y_test12)\n",
        "model_stp_12 = xgb.train(params_stp_12, dX_stp_train12)\n",
        "pred_stp_12 = model_stp_12.predict(dX_stp_test12)\n",
        "\n",
        "rmse_stp_12 = np.sqrt(mean_squared_error(pred_stp_12, y_test12))\n",
        "rmse_stp_12"
      ],
      "execution_count": null,
      "outputs": [
        {
          "output_type": "stream",
          "name": "stdout",
          "text": [
            "Evaluation \t Proposed point \t  Current eval. \t  Best eval. \t        Exact CBM: StdDev. x \t Approx CBM: StdDev. x \n",
            "init\t [1.54162842 7.40049697 6.         0.54321714 4.         0.11311747]\t 0.9314271055202143\t 0.7056203424268611\t    \t    \n",
            "init\t [ 9.18747008  9.00714854 14.          0.97847467 11.          0.35544552]\t 0.7910532936167305\t 0.7056203424268611\t    \t    \n",
            "init\t [ 6.06083184  9.44225136 14.          0.95626942  5.          0.56910342]\t 0.7196830962696428\t 0.7056203424268611\t    \t    \n",
            "init\t [ 5.52037633  4.85377414  7.          0.97886436 17.          0.78810441]\t 0.7056203424268611\t 0.7056203424268611\t    \t    \n",
            "init\t [ 0.20809798  1.35210178  5.          0.65494879 16.          0.36062811]\t 0.8082458628311272\t 0.7056203424268611\t    \t    \n",
            "1  \t [9.46555822 8.57190559 5.         0.50164398 5.         0.71992807]\t 0.74699493326549\t 0.7056203424268611\t 4.729854452134731\t 4.701342351219999\n",
            "2  \t [ 3.78385301  2.21923666 12.          0.57141407  8.          0.55842631]\t 0.7285402508953416\t 0.7056203424268611\t 5.139313607433769\t 5.145903986191685\n",
            "\u001b[1m\u001b[92m3\u001b[0m\t \u001b[1m\u001b[92m[ 4.70630658  9.38750646 12.          0.7933865  10.          0.74968408]\u001b[0m\t \u001b[1m\u001b[92m0.6939932582164752\u001b[0m\t \u001b[1m\u001b[92m0.6939932582164752\u001b[0m\t \u001b[1m\u001b[92m5.1104372841284915\u001b[0m\t \u001b[1m\u001b[92m5.112024736885022\u001b[0m\n",
            "4  \t [6.38266166 3.66323517 5.         0.6972131  9.         0.47709595]\t 0.8009366885878899\t 0.6939932582164752\t 5.047941544317755\t 5.075605402377056\n",
            "5  \t [ 9.02656498  0.48984226 12.          0.66187047 14.          0.17842177]\t 0.9261950890540188\t 0.6939932582164752\t 4.968233806616308\t 4.881517152149971\n",
            "6  \t [ 3.52118615  0.23388076 12.          0.56204237  1.          0.44568429]\t 0.7872412218199303\t 0.6939932582164752\t 4.687380095188474\t 4.753801929959097\n",
            "7  \t [ 9.92159613  3.53760601 14.          0.66495754  4.          0.92098158]\t 0.7037336633700015\t 0.6939932582164752\t 4.450118733338753\t 4.464193971514232\n",
            "8  \t [ 9.11635581  9.60013795  5.          0.57034236 14.          0.41758327]\t 0.8017323350323444\t 0.6939932582164752\t 4.4544938724772924\t 4.460097021853302\n",
            "9  \t [9.77568711 0.70796585 6.         0.73327465 3.         0.82051057]\t 0.7213506404912987\t 0.6939932582164752\t 4.551309110035971\t 4.578865046437421\n",
            "10 \t [ 2.00580329  2.31031601 14.          0.90401435 16.          0.44341936]\t 0.7698813922221472\t 0.6939932582164752\t 4.856691914894879\t 4.839533442874329\n",
            "\u001b[1m\u001b[92m11\u001b[0m\t \u001b[1m\u001b[92m[10.          5.17125849 14.36518135  1.         20.          1.        ]\u001b[0m\t \u001b[1m\u001b[92m0.6502180205688785\u001b[0m\t \u001b[1m\u001b[92m0.6502180205688785\u001b[0m\t \u001b[1m\u001b[92m4.852668488358745\u001b[0m\t \u001b[1m\u001b[92m4.761933221169326\u001b[0m\n",
            "12 \t [ 0.10274077  3.67012236  6.          0.81389509 11.          0.83682267]\t 0.7202487480474815\t 0.6502180205688785\t 4.92239919954213\t 4.92239919954213\n",
            "13 \t [ 5.97904546  9.54654633 12.          0.85402391 19.          0.25521119]\t 0.7891186169314436\t 0.6502180205688785\t 4.587105491999327\t 4.580435342652723\n",
            "14 \t [4.78141019e-03 0.00000000e+00 6.24978833e+00 5.00000000e-01\n",
            " 4.24978833e+00 1.00000000e-01]\t 0.9343367579639097\t 0.6502180205688785\t 4.362554148029617\t 4.438007252168354\n",
            "15 \t [ 1.10490837  9.58829464  6.          0.57860445 19.          0.21544386]\t 0.9310123715662361\t 0.6502180205688785\t 4.723094695168828\t 4.716485975178605\n",
            "16 \t [ 3.08736763  8.9307732   8.          0.97392078 10.          0.55958339]\t 0.7224438046165756\t 0.6502180205688785\t 4.824025453039245\t 4.824025453039245\n",
            "17 \t [ 2.38620183  1.03950496 13.          0.6257051   6.          0.34211692]\t 0.7949227225244432\t 0.6502180205688785\t 4.701403315770347\t 4.701403315770347\n",
            "18 \t [ 3.78107951  0.45942362 10.          0.50753562 14.          0.98062991]\t 0.706698998449962\t 0.6502180205688785\t 5.037567582823106\t 4.841369936642313\n",
            "19 \t [9.51121457 1.16444035 9.         0.81792407 9.         0.70590587]\t 0.6983390620759949\t 0.6502180205688785\t 4.578170506401528\t 4.580960839443582\n",
            "20 \t [ 9.98175567  0.8705802   6.          0.55210219 18.          0.50471737]\t 0.7496479603542527\t 0.6502180205688785\t 4.610233079399786\t 4.539322591208899\n",
            "21 \t [ 0.60383814  6.44796032 11.          0.78951032 16.          0.75679881]\t 0.694356779546439\t 0.6502180205688785\t 5.01454404023252\t 5.010821065395424\n",
            "22 \t [ 4.22119996  7.99655483  5.          0.78307763 14.          0.79061697]\t 0.7405746569621561\t 0.6502180205688785\t 4.570065987453487\t 4.570065987453487\n",
            "23 \t [4.95914531 0.87379526 5.         0.9944488  1.         0.26445681]\t 0.8061596255501012\t 0.6502180205688785\t 4.986302980614052\t 4.922741202263658\n",
            "24 \t [ 3.54377146  1.55114788  9.          0.60325108 18.          0.58026864]\t 0.7288271346270945\t 0.6502180205688785\t 5.095795266871987\t 5.098867018694712\n",
            "25 \t [ 1.04159226  4.03780394  5.          0.9134339  15.          0.13519165]\t 0.9328823718301782\t 0.6502180205688785\t 5.107343105426055\t 5.104954240850503\n",
            "26 \t [ 1.0206155   0.50876351 11.          0.82996077 17.          0.80891943]\t 0.6931022492573785\t 0.6502180205688785\t 4.865843015572723\t 4.865843015572723\n",
            "\u001b[1m\u001b[92m27\u001b[0m\t \u001b[1m\u001b[92m[ 7.73125063  2.38838897 15.          1.          9.46015807  1.        ]\u001b[0m\t \u001b[1m\u001b[92m0.6486175918156064\u001b[0m\t \u001b[1m\u001b[92m0.6486175918156064\u001b[0m\t \u001b[1m\u001b[92m4.984731262539908\u001b[0m\t \u001b[1m\u001b[92m5.02687277750397\u001b[0m\n",
            "28 \t [ 0.95326243  8.54359757 11.          0.78353092  5.          0.635258  ]\t 0.6959154097267148\t 0.6486175918156064\t 4.758893284585209\t 4.823690697639817\n",
            "29 \t [4.85059817 0.59059416 8.         0.66375786 6.         0.57600536]\t 0.7292686946198735\t 0.6486175918156064\t 4.6795485767491725\t 4.6795485767491725\n",
            "30 \t [ 0.42138623  7.7269096  13.          0.72605204 19.          0.17338535]\t 0.9256181718283066\t 0.6486175918156064\t 4.622896682355147\t 4.622896682355147\n"
          ]
        },
        {
          "output_type": "execute_result",
          "data": {
            "text/plain": [
              "50726.745623014824"
            ]
          },
          "metadata": {},
          "execution_count": 55
        }
      ]
    },
    {
      "cell_type": "code",
      "metadata": {
        "id": "snTrqE2RbWbe",
        "colab": {
          "base_uri": "https://localhost:8080/"
        },
        "outputId": "d51f84bc-9619-4c31-a1fb-081badcd40d0"
      },
      "source": [
        "### Bayesian optimization runs (x20): 'Exact STP CBM' Acquisition Function run number = 13 \n",
        "\n",
        "np.random.seed(run_num_13)\n",
        "surrogate_stp_13 = dtStudentProcess(cov_func, optimize=opt, nu = df)\n",
        "\n",
        "X_train13, X_test13, y_train13, y_test13 = train_test_split(X, y, test_size=test_perc, random_state=run_num_13)\n",
        "\n",
        "def f_syn_polarity13(alpha, gamma, max_depth, subsample, min_child_weight, colsample):\n",
        "    reg = XGBRegressor(reg_alpha=alpha, gamma=gamma, max_depth=int(max_depth), subsample=subsample, min_child_weight=min_child_weight,\n",
        "          colsample_bytree=colsample, n_estimators = n_est, random_state=run_num_13, objective = 'reg:squarederror')\n",
        "    score = np.array(cross_val_score(reg, X=X_train13, y=y_train13).mean())\n",
        "    return operator * score\n",
        "\n",
        "stp_13 = dGPGO_stp(surrogate_stp_13, Acquisition_grad(util_stp), f_syn_polarity13, param, n_jobs = -1) # Define BayesOpt\n",
        "stp_13.run(max_iter = max_iter, init_evals = n_init) # run\n",
        "\n",
        "### Return optimal parameters' set:\n",
        "params_stp_13 = stp_13.getResult()[0]\n",
        "params_stp_13['max_depth'] = int(params_stp_13['max_depth'])\n",
        "params_stp_13['min_child_weight'] = int(params_stp_13['min_child_weight'])\n",
        "\n",
        "### Re-train with optimal parameters, run predictons:\n",
        "dX_stp_train13 = xgb.DMatrix(X_train13, y_train13)\n",
        "dX_stp_test13 = xgb.DMatrix(X_test13, y_test13)\n",
        "model_stp_13 = xgb.train(params_stp_13, dX_stp_train13)\n",
        "pred_stp_13 = model_stp_13.predict(dX_stp_test13)\n",
        "\n",
        "rmse_stp_13 = np.sqrt(mean_squared_error(pred_stp_13, y_test13))\n",
        "rmse_stp_13"
      ],
      "execution_count": null,
      "outputs": [
        {
          "output_type": "stream",
          "name": "stdout",
          "text": [
            "Evaluation \t Proposed point \t  Current eval. \t  Best eval. \t        Exact CBM: StdDev. x \t Approx CBM: StdDev. x \n",
            "init\t [ 7.77702411  2.3754122  11.          0.94649135 13.          0.7827256 ]\t 0.6628876451121497\t 0.6628876451121497\t    \t    \n",
            "init\t [ 7.51661514  6.07343344 11.          0.69402149 11.          0.13153287]\t 1.1013657958154304\t 0.6628876451121497\t    \t    \n",
            "init\t [ 2.98449471  0.58512492 10.          0.73579614 12.          0.33065195]\t 0.92150734169971\t 0.6628876451121497\t    \t    \n",
            "init\t [ 3.47581215  0.0941277  11.          0.86143432  8.          0.58454932]\t 0.71924819784624\t 0.6628876451121497\t    \t    \n",
            "init\t [ 4.70137857  6.24432527 10.          0.8149145  18.          0.10784416]\t 1.1014421616742969\t 0.6628876451121497\t    \t    \n",
            "1  \t [1.51786663 9.25994479 9.         0.99792981 2.         0.61199673]\t 0.7207240599672383\t 0.6628876451121497\t 4.991974607897239\t 4.9890811331675575\n",
            "\u001b[1m\u001b[92m2\u001b[0m\t \u001b[1m\u001b[92m[10.          6.10411631 14.76729771  1.         19.76729771  1.        ]\u001b[0m\t \u001b[1m\u001b[92m0.648501739792713\u001b[0m\t \u001b[1m\u001b[92m0.648501739792713\u001b[0m\t \u001b[1m\u001b[92m5.064238898321749\u001b[0m\t \u001b[1m\u001b[92m4.969755641688927\u001b[0m\n",
            "3  \t [ 1.27154032  7.56256657  5.          0.85984573 12.          0.61608824]\t 0.7679544515659981\t 0.648501739792713\t 4.930375634668851\t 4.872489725215618\n",
            "4  \t [ 4.39024044  6.42906019 12.          0.96666124  5.          0.79403332]\t 0.6655222383347275\t 0.648501739792713\t 4.399629245866015\t 4.368888895750188\n",
            "5  \t [5.34651487 5.45650069 6.         0.93529094 7.         0.24078895]\t 1.0980632271289044\t 0.648501739792713\t 4.788603954014629\t 4.7782652778490275\n",
            "6  \t [10.         10.         15.          1.          7.74975518  1.        ]\t 0.6494969194253049\t 0.648501739792713\t 4.9674460148394\t 4.856436804747471\n",
            "7  \t [ 9.02205177  6.25193027 13.          0.53959181  5.          0.35908499]\t 0.9298403863958434\t 0.648501739792713\t 4.706395972108631\t 4.714484035771566\n",
            "8  \t [ 0.53852623  1.13078322 12.          0.85062386  1.          0.22708294]\t 1.1062273028353988\t 0.648501739792713\t 5.004136684118441\t 4.933234550199105\n",
            "9  \t [9.52796793 0.5269077  7.         0.61130342 2.         0.41024487]\t 0.8258632893631743\t 0.648501739792713\t 4.466087243763398\t 4.466087212001791\n",
            "10 \t [ 6.60596124  8.35313787  6.          0.72167152 19.          0.94552853]\t 0.7025896131486131\t 0.648501739792713\t 4.8166750573046055\t 4.8197866547581825\n",
            "11 \t [ 4.33230901  0.85672678  6.          0.63795453 19.          0.64597264]\t 0.7370906275446215\t 0.648501739792713\t 4.868778151357507\t 4.901509700998134\n",
            "12 \t [ 9.46545841  2.71414127  5.          0.83512297 13.          0.70984642]\t 0.7596192306405462\t 0.648501739792713\t 4.881136404109465\t 4.918570603720649\n",
            "13 \t [0.  0.  5.  0.5 1.  0.1]\t 1.0998776154616823\t 0.648501739792713\t 4.473379921397911\t 4.660508103837917\n",
            "14 \t [ 6.793309    1.72666931 10.          0.6712551  19.          0.98626138]\t 0.665716157807314\t 0.648501739792713\t 4.747316898235953\t 4.750001573737613\n",
            "15 \t [0.52318014 4.47325525 6.         0.56368365 1.         0.82956529]\t 0.7119758465386674\t 0.648501739792713\t 4.8913674238789415\t 4.8913674238789415\n",
            "16 \t [ 5.15317103  7.91292649 13.          0.71857309 14.          0.19964443]\t 1.1021716045983279\t 0.648501739792713\t 4.778199390801633\t 4.7576900376223135\n",
            "17 \t [ 6.20565504  8.79840282 14.          0.71344255  6.          0.21980806]\t 1.105080285400748\t 0.648501739792713\t 4.864265600284009\t 4.864265600284009\n",
            "18 \t [2.57352577 0.33719112 9.         0.97251025 4.         0.51947396]\t 0.7203223434212329\t 0.648501739792713\t 4.443018296620503\t 4.452967327368031\n",
            "19 \t [ 0.786033    9.84105109  9.          0.91945518 19.          0.21791409]\t 1.0995998424487943\t 0.648501739792713\t 4.842884464842559\t 4.842884464842559\n",
            "20 \t [ 2.43733809  3.83718859 13.          0.87000869 16.          0.41452306]\t 0.8189050631597883\t 0.648501739792713\t 5.242775832687285\t 5.242775832687285\n",
            "21 \t [4.36648808 8.42254188 6.         0.54886836 3.         0.62627434]\t 0.7390982861353472\t 0.648501739792713\t 5.001771069165116\t 4.99607141706983\n",
            "22 \t [4.74151988e-03 7.73535708e+00 9.00000000e+00 8.10214170e-01\n",
            " 7.00000000e+00 8.51111303e-01]\t 0.6741140944144826\t 0.648501739792713\t 4.886836302036668\t 4.789797448222667\n",
            "23 \t [3.55859061 5.61875163 8.         0.5882063  1.         0.57036163]\t 0.7346535405920693\t 0.648501739792713\t 4.79055859770072\t 4.790558366509556\n",
            "24 \t [0.         2.04879038 5.         0.5        8.59523545 0.1       ]\t 1.1001735825073005\t 0.648501739792713\t 4.702544937519289\t 4.730923493992835\n",
            "25 \t [9.92248648 8.73301847 7.         0.58578431 6.         0.64802898]\t 0.7258609233436316\t 0.648501739792713\t 4.999012342115503\t 4.969868466821585\n",
            "26 \t [ 0.16863022  2.67389719  9.          0.62610438 15.          0.96408501]\t 0.672888499874982\t 0.648501739792713\t 4.779947431461189\t 4.779947431461189\n",
            "27 \t [ 8.09528142  1.39150052 12.          0.83538636  7.          0.34189645]\t 0.9243154896909775\t 0.648501739792713\t 5.160183559419553\t 5.027904947788825\n",
            "28 \t [ 3.21523099  9.01411529  5.          0.71759952 10.          0.55614635]\t 0.768583852631927\t 0.648501739792713\t 4.812932292602263\t 4.812932449570338\n",
            "29 \t [ 5.91501296  1.79061927 12.          0.95089632 11.          0.34299477]\t 0.9197610970890002\t 0.648501739792713\t 4.849759556045388\t 4.849759556045388\n",
            "30 \t [ 2.32893999  0.70568143 10.          0.95982734 18.          0.36824695]\t 0.9166993865744176\t 0.648501739792713\t 4.711002268678092\t 4.711002268678092\n"
          ]
        },
        {
          "output_type": "execute_result",
          "data": {
            "text/plain": [
              "49402.95915471633"
            ]
          },
          "metadata": {},
          "execution_count": 56
        }
      ]
    },
    {
      "cell_type": "code",
      "metadata": {
        "id": "nAuEsXYbtOnC",
        "colab": {
          "base_uri": "https://localhost:8080/"
        },
        "outputId": "82f0a227-5d43-4152-b3ef-453d4567c070"
      },
      "source": [
        "### Bayesian optimization runs (x20): 'Exact STP CBM' Acquisition Function run number = 14 \n",
        "\n",
        "np.random.seed(run_num_14)\n",
        "surrogate_stp_14 = dtStudentProcess(cov_func, optimize=opt, nu = df)\n",
        "\n",
        "X_train14, X_test14, y_train14, y_test14 = train_test_split(X, y, test_size=test_perc, random_state=run_num_14)\n",
        "\n",
        "def f_syn_polarity14(alpha, gamma, max_depth, subsample, min_child_weight, colsample):\n",
        "    reg = XGBRegressor(reg_alpha=alpha, gamma=gamma, max_depth=int(max_depth), subsample=subsample, min_child_weight=min_child_weight,\n",
        "          colsample_bytree=colsample, n_estimators = n_est, random_state=run_num_14, objective = 'reg:squarederror')\n",
        "    score = np.array(cross_val_score(reg, X=X_train14, y=y_train14).mean())\n",
        "    return operator * score\n",
        "\n",
        "stp_14 = dGPGO_stp(surrogate_stp_14, Acquisition_grad(util_stp), f_syn_polarity14, param, n_jobs = -1) # Define BayesOpt\n",
        "stp_14.run(max_iter = max_iter, init_evals = n_init) # run\n",
        "\n",
        "### Return optimal parameters' set:\n",
        "params_stp_14 = stp_14.getResult()[0]\n",
        "params_stp_14['max_depth'] = int(params_stp_14['max_depth'])\n",
        "params_stp_14['min_child_weight'] = int(params_stp_14['min_child_weight'])\n",
        "\n",
        "### Re-train with optimal parameters, run predictons:\n",
        "dX_stp_train14 = xgb.DMatrix(X_train14, y_train14)\n",
        "dX_stp_test14 = xgb.DMatrix(X_test14, y_test14)\n",
        "model_stp_14 = xgb.train(params_stp_14, dX_stp_train14)\n",
        "pred_stp_14 = model_stp_14.predict(dX_stp_test14)\n",
        "\n",
        "rmse_stp_14 = np.sqrt(mean_squared_error(pred_stp_14, y_test14))\n",
        "rmse_stp_14"
      ],
      "execution_count": null,
      "outputs": [
        {
          "output_type": "stream",
          "name": "stdout",
          "text": [
            "Evaluation \t Proposed point \t  Current eval. \t  Best eval. \t        Exact CBM: StdDev. x \t Approx CBM: StdDev. x \n",
            "init\t [ 5.13943344  7.73165052 12.          0.6831412  11.          0.37876233]\t 0.8139066743222003\t 0.6747866005380063\t    \t    \n",
            "init\t [ 9.57603739  5.13116712 14.          0.76959997 12.          0.71328228]\t 0.6747866005380063\t 0.6747866005380063\t    \t    \n",
            "init\t [5.34950319 2.47493539 5.         0.50293689 6.         0.29706373]\t 0.977412427074478\t 0.6747866005380063\t    \t    \n",
            "init\t [ 2.94506579  3.45329697  8.          0.87620946 14.          0.9783044 ]\t 0.6774024187451972\t 0.6747866005380063\t    \t    \n",
            "init\t [ 1.11811929  1.73004086  5.          0.73745288 12.          0.20586008]\t 1.0197967308919336\t 0.6747866005380063\t    \t    \n",
            "1  \t [ 6.50637223  2.67617722 14.          0.53562507  1.          0.16862152]\t 1.0126649561802825\t 0.6747866005380063\t 4.9109417431444795\t 4.841907942868138\n",
            "2  \t [ 9.16780803  5.31613214 10.          0.57182868  6.          0.98158575]\t 0.6763772246849529\t 0.6747866005380063\t 4.966160312228324\t 4.971800846591661\n",
            "3  \t [0.07739536 3.94062842 5.         0.7395899  3.         0.9764837 ]\t 0.7245455903141328\t 0.6747866005380063\t 5.1501451905424265\t 5.0259421566917615\n",
            "4  \t [6.9195004  0.54496332 8.         0.81208598 3.         0.15286338]\t 1.0111604668907606\t 0.6747866005380063\t 4.628549379403512\t 4.628549379403512\n",
            "5  \t [ 9.22243919  0.59642165  6.          0.72537748 19.          0.46639325]\t 0.8253470890530193\t 0.6747866005380063\t 5.384454250009212\t 5.296248373008274\n",
            "6  \t [ 0.49138495  8.52939618 10.          0.75897738  1.          0.21612775]\t 1.0131910395518218\t 0.6747866005380063\t 4.728999778686669\t 4.790899905769155\n",
            "\u001b[1m\u001b[92m7\u001b[0m\t \u001b[1m\u001b[92m[ 5.79577795  1.8570688  14.          0.83128935 19.          0.71549729]\u001b[0m\t \u001b[1m\u001b[92m0.672743180913679\u001b[0m\t \u001b[1m\u001b[92m0.672743180913679\u001b[0m\t \u001b[1m\u001b[92m4.817343481977922\u001b[0m\t \u001b[1m\u001b[92m4.776901157256265\u001b[0m\n",
            "8  \t [ 7.13077184  9.67534636 12.          0.53994085 17.          0.99732292]\t 0.6733183778157861\t 0.672743180913679\t 4.326225175245363\t 4.338650277711221\n",
            "9  \t [ 4.99777324  7.1255563   5.          0.87428718 19.          0.63814647]\t 0.7320174755578019\t 0.672743180913679\t 4.959445795944851\t 4.9894777868977345\n",
            "10 \t [ 1.6361515   9.65601963  6.          0.78645605 10.          0.24059194]\t 1.0163848571205125\t 0.672743180913679\t 5.055526652652195\t 5.112528266579758\n",
            "11 \t [ 9.88809977  3.72297385  6.          0.68686416 11.          0.16446157]\t 1.0169921141610336\t 0.672743180913679\t 4.84860867956377\t 4.780958757281558\n",
            "12 \t [ 1.50285169  4.17593259 14.          0.69234646  6.          0.74044842]\t 0.677587403128438\t 0.672743180913679\t 4.762993312214129\t 4.762878663967895\n",
            "13 \t [ 9.52967585  8.1936199  11.          0.55796294 10.          0.99729185]\t 0.6733311328695132\t 0.672743180913679\t 4.957092248422728\t 4.957960147096214\n",
            "14 \t [ 0.77805729  7.10709828  8.          0.71028916 18.          0.61939327]\t 0.7245923159585083\t 0.672743180913679\t 4.776939314702783\t 4.776939314702783\n",
            "15 \t [ 0.32189186  8.92148001 13.          0.56341011 16.          0.8101351 ]\t 0.6819415514307418\t 0.672743180913679\t 5.105116191740784\t 4.880063603330704\n",
            "16 \t [ 6.17398984  7.07288493 12.          0.63300963  8.          0.36188703]\t 0.9625825839575025\t 0.672743180913679\t 4.752506563938521\t 4.752506563938521\n",
            "17 \t [ 1.36823932  1.07854751  6.          0.59486343 17.          0.76880686]\t 0.7105097809499443\t 0.672743180913679\t 4.86122988092895\t 4.860280101820257\n",
            "18 \t [ 0.96607499  0.08146515 10.          0.75402335  6.          0.63275599]\t 0.6767950914466152\t 0.672743180913679\t 4.472983181751284\t 4.466249509030925\n",
            "19 \t [8.73295943 6.81682693 5.         0.89035289 4.         0.58477188]\t 0.7630604142670447\t 0.672743180913679\t 4.863436941138202\t 4.8610635209830235\n",
            "\u001b[1m\u001b[92m20\u001b[0m\t \u001b[1m\u001b[92m[ 8.45451465  8.29831948 14.          0.74040213  3.          0.92215751]\u001b[0m\t \u001b[1m\u001b[92m0.6695771267492402\u001b[0m\t \u001b[1m\u001b[92m0.6695771267492402\u001b[0m\t \u001b[1m\u001b[92m4.748179103104824\u001b[0m\t \u001b[1m\u001b[92m4.740108230772976\u001b[0m\n",
            "21 \t [4.16561464 4.3151821  6.         0.76299318 2.         0.59049538]\t 0.7439602970032533\t 0.6695771267492402\t 4.741813397488344\t 4.741813397488344\n",
            "22 \t [9.92293334 7.62999832 9.         0.69951574 1.         0.13133752]\t 1.0125255122341243\t 0.6695771267492402\t 4.852757014309542\t 4.799468309385672\n",
            "23 \t [ 7.23492203  5.17054691  8.          0.53461021 18.          0.11544004]\t 1.008805594135994\t 0.6695771267492402\t 4.983307182661672\t 4.983307182661672\n",
            "24 \t [1.12842654 4.49436112 8.         0.68703394 7.         0.83701659]\t 0.6871807270632571\t 0.6695771267492402\t 4.55546276859173\t 4.55546276859173\n",
            "25 \t [ 5.5386478   9.30162083  6.          0.50498383 14.          0.37570322]\t 0.8247413269393998\t 0.6695771267492402\t 4.750374613634866\t 4.750336680290714\n",
            "26 \t [ 5.73005003  1.18628884 13.          0.88016467 12.          0.48547975]\t 0.8109689394932417\t 0.6695771267492402\t 4.259175831556307\t 4.247075527035466\n",
            "27 \t [ 0.19921359  1.33183456 11.          0.79119941 11.          0.23591371]\t 1.0112356555986186\t 0.6695771267492402\t 4.505290947436536\t 4.472610016699936\n",
            "28 \t [ 0.40405522  2.81796516 11.          0.8908648   1.          0.54002187]\t 0.7224622612996938\t 0.6695771267492402\t 4.92419741597428\t 4.88660440715602\n",
            "29 \t [ 7.16352089  0.19968156 11.          0.62318898  8.          0.21107406]\t 1.013079448285806\t 0.6695771267492402\t 4.795991298384255\t 4.7726282471232775\n",
            "30 \t [ 4.33442518  0.21201691 11.          0.77606546  3.          0.66988451]\t 0.6762301508489591\t 0.6695771267492402\t 4.5968730063525305\t 4.5968730063525305\n"
          ]
        },
        {
          "output_type": "execute_result",
          "data": {
            "text/plain": [
              "51790.603546872044"
            ]
          },
          "metadata": {},
          "execution_count": 57
        }
      ]
    },
    {
      "cell_type": "code",
      "metadata": {
        "id": "KgxvE7Irbbj_",
        "colab": {
          "base_uri": "https://localhost:8080/"
        },
        "outputId": "4bf97b6f-6feb-4363-8dd9-f6a132688514"
      },
      "source": [
        "### Bayesian optimization runs (x20): 'Exact STP CBM' Acquisition Function run number = 15 \n",
        "\n",
        "np.random.seed(run_num_15)\n",
        "surrogate_stp_15 = dtStudentProcess(cov_func, optimize=opt, nu = df)\n",
        "\n",
        "X_train15, X_test15, y_train15, y_test15 = train_test_split(X, y, test_size=test_perc, random_state=run_num_15)\n",
        "\n",
        "def f_syn_polarity15(alpha, gamma, max_depth, subsample, min_child_weight, colsample):\n",
        "    reg = XGBRegressor(reg_alpha=alpha, gamma=gamma, max_depth=int(max_depth), subsample=subsample, min_child_weight=min_child_weight,\n",
        "          colsample_bytree=colsample, n_estimators = n_est, random_state=run_num_15, objective = 'reg:squarederror')\n",
        "    score = np.array(cross_val_score(reg, X=X_train15, y=y_train15).mean())\n",
        "    return operator * score\n",
        "\n",
        "stp_15 = dGPGO_stp(surrogate_stp_15, Acquisition_grad(util_stp), f_syn_polarity15, param, n_jobs = -1) # Define BayesOpt\n",
        "stp_15.run(max_iter = max_iter, init_evals = n_init) # run\n",
        "\n",
        "### Return optimal parameters' set:\n",
        "params_stp_15 = stp_15.getResult()[0]\n",
        "params_stp_15['max_depth'] = int(params_stp_15['max_depth'])\n",
        "params_stp_15['min_child_weight'] = int(params_stp_15['min_child_weight'])\n",
        "\n",
        "### Re-train with optimal parameters, run predictons:\n",
        "dX_stp_train15 = xgb.DMatrix(X_train15, y_train15)\n",
        "dX_stp_test15 = xgb.DMatrix(X_test15, y_test15)\n",
        "model_stp_15 = xgb.train(params_stp_15, dX_stp_train15)\n",
        "pred_stp_15 = model_stp_15.predict(dX_stp_test15)\n",
        "\n",
        "rmse_stp_15 = np.sqrt(mean_squared_error(pred_stp_15, y_test15))\n",
        "rmse_stp_15"
      ],
      "execution_count": null,
      "outputs": [
        {
          "output_type": "stream",
          "name": "stdout",
          "text": [
            "Evaluation \t Proposed point \t  Current eval. \t  Best eval. \t        Exact CBM: StdDev. x \t Approx CBM: StdDev. x \n",
            "init\t [ 8.48817697  1.78895925 12.          0.55549316  8.          0.93397854]\t 0.6568473525973234\t 0.6568473525973234\t    \t    \n",
            "init\t [ 0.24953032  8.22298097 12.          0.62494951 11.          0.12924598]\t 0.9115777462403312\t 0.6568473525973234\t    \t    \n",
            "init\t [ 5.02017228  5.50882771 11.          0.85295832 19.          0.13548008]\t 0.9091447847268881\t 0.6568473525973234\t    \t    \n",
            "init\t [2.0023081  9.98543403 7.         0.6295772  2.         0.526127  ]\t 0.702826724376194\t 0.6568473525973234\t    \t    \n",
            "init\t [ 5.09715306  9.45038417 11.          0.7388277  16.          0.22739973]\t 0.9107852583947551\t 0.6568473525973234\t    \t    \n",
            "1  \t [ 0.29158961  4.9949242  12.          0.89124583  3.          0.67554049]\t 0.663179402460053\t 0.6568473525973234\t 4.927018687962268\t 4.927018687962268\n",
            "2  \t [2.60517447 0.82584036 7.         0.6107555  4.         0.25427784]\t 0.8585273074032198\t 0.6568473525973234\t 4.626442896533987\t 4.59271933510059\n",
            "3  \t [ 7.5915683   5.13937898 12.          0.70919884  1.          0.76222697]\t 0.6599034896559471\t 0.6568473525973234\t 4.886979885333488\t 4.8676922680947925\n",
            "4  \t [ 3.00890132  3.25033589  6.          0.76721153 13.          0.286699  ]\t 0.8615658015198442\t 0.6568473525973234\t 5.2923245222726765\t 5.098212032295581\n",
            "5  \t [ 7.00755347  9.83963845  5.          0.51866345 10.          0.95031515]\t 0.730615339433918\t 0.6568473525973234\t 4.776853986150299\t 4.679099284272537\n",
            "6  \t [ 7.93959095  1.14458347 12.          0.83279927 13.          0.31926382]\t 0.8514677232156771\t 0.6568473525973234\t 4.706359354139058\t 4.706359354139058\n",
            "\u001b[1m\u001b[92m7\u001b[0m\t \u001b[1m\u001b[92m[10. 10. 15.  1. 20.  1.]\u001b[0m\t \u001b[1m\u001b[92m0.6491916518522693\u001b[0m\t \u001b[1m\u001b[92m0.6491916518522693\u001b[0m\t \u001b[1m\u001b[92m5.343433415136527\u001b[0m\t \u001b[1m\u001b[92m5.005132781809035\u001b[0m\n",
            "8  \t [ 9.21941721  9.79827821 11.          0.81783228 11.          0.53477407]\t 0.6659586056207597\t 0.6491916518522693\t 4.956715685264481\t 4.974832626621429\n",
            "\u001b[1m\u001b[92m9\u001b[0m\t \u001b[1m\u001b[92m[ 9.57627476  9.33745748 15.          1.          5.56936218  1.        ]\u001b[0m\t \u001b[1m\u001b[92m0.6482716832300982\u001b[0m\t \u001b[1m\u001b[92m0.6482716832300982\u001b[0m\t \u001b[1m\u001b[92m5.000134027276936\u001b[0m\t \u001b[1m\u001b[92m4.955642712678355\u001b[0m\n",
            "10 \t [ 8.47779105  8.43696768  5.          0.73890705 16.          0.66738091]\t 0.7564851327663848\t 0.6482716832300982\t 4.548538383518942\t 4.578787648954731\n",
            "11 \t [9.8850401  9.05036452 8.         0.98423572 3.         0.82693955]\t 0.6638601166418586\t 0.6482716832300982\t 4.589989966523359\t 4.579677235772306\n",
            "12 \t [1.37672687 0.04946237 5.         0.79719419 1.         0.81843222]\t 0.7350998875793917\t 0.6482716832300982\t 4.747365166220248\t 4.7550300681599635\n",
            "13 \t [ 7.39713594  3.35991644 14.          0.6025392  18.          0.38842452]\t 0.7902911115290869\t 0.6482716832300982\t 4.74147896803703\t 4.734731317716835\n",
            "14 \t [ 0.30003945  0.76498683 12.          0.61016683 19.          0.36909762]\t 0.8558439960503271\t 0.6482716832300982\t 4.830428743512294\t 4.883591672995634\n",
            "15 \t [ 0.95566099  3.27803887  7.          0.79832937 17.          0.8547564 ]\t 0.6862274453809547\t 0.6482716832300982\t 4.637016596269334\t 4.637851977988916\n",
            "16 \t [8.78569544 0.14730956 7.         0.66172647 2.         0.54513841]\t 0.7029675116471538\t 0.6482716832300982\t 4.581818626504564\t 4.536213124004445\n",
            "17 \t [ 8.86262657  4.80771183  7.          0.94053059 11.          0.89773164]\t 0.6755564834011178\t 0.6482716832300982\t 4.49571905683686\t 4.4878034599688235\n",
            "18 \t [ 3.30019767  4.93644704 14.          0.76077125 17.          0.73607537]\t 0.6653785933459865\t 0.6482716832300982\t 5.093784877466741\t 5.093784877466741\n",
            "19 \t [ 9.64875283  9.32176949  8.          0.85263567 19.          0.33410227]\t 0.849585847576698\t 0.6482716832300982\t 4.663986317129624\t 4.664286145879285\n",
            "20 \t [ 5.31037667  6.81676807  5.          0.53020463 18.          0.21260061]\t 0.9149718789671064\t 0.6482716832300982\t 4.775311894419871\t 4.775311894419871\n",
            "21 \t [5.22443689 7.89924289 6.         0.9713403  5.         0.74877367]\t 0.7211762120086169\t 0.6482716832300982\t 4.780287989985932\t 4.847065323730701\n",
            "22 \t [ 4.90087649  7.40954674 11.          0.53028779  8.          0.43614982]\t 0.7965594035331703\t 0.6482716832300982\t 4.924573139293923\t 4.9125487979814215\n",
            "23 \t [ 7.26711337  0.14235978  5.          0.76462611 16.          0.41351262]\t 0.8266718126292492\t 0.6482716832300982\t 4.644294867325605\t 4.595999319779093\n",
            "24 \t [ 4.16359362  2.79691345 14.          0.87075333  6.          0.5765776 ]\t 0.6628948200762557\t 0.6482716832300982\t 4.936232576132909\t 4.937112659378259\n",
            "25 \t [ 1.719002    1.73903169  5.          0.87805761 14.          0.46260902]\t 0.8248486263986295\t 0.6482716832300982\t 4.8805549693149\t 4.8805549693149\n",
            "26 \t [ 6.59000923  9.78665977 14.          0.63113594  1.          0.38899025]\t 0.8070679905812153\t 0.6482716832300982\t 4.736946493708675\t 4.736946493708675\n",
            "27 \t [ 5.05579023  0.09405836  8.          0.93704589 10.          0.9570134 ]\t 0.659126679409869\t 0.6482716832300982\t 4.636161721065845\t 4.6146898586812855\n",
            "\u001b[1m\u001b[92m28\u001b[0m\t \u001b[1m\u001b[92m[ 2.19860267  0.42105203 13.          0.92769696 11.          0.87600458]\u001b[0m\t \u001b[1m\u001b[92m0.6422107560773703\u001b[0m\t \u001b[1m\u001b[92m0.6422107560773703\u001b[0m\t \u001b[1m\u001b[92m4.923326161570837\u001b[0m\t \u001b[1m\u001b[92m4.805146503625936\u001b[0m\n",
            "29 \t [ 3.89851316 10.         15.          1.         12.62608855  1.        ]\t 0.6462115619951808\t 0.6422107560773703\t 4.8047241715433735\t 4.836295408737752\n",
            "30 \t [ 1.37049407  7.85946389  5.          0.57853198 11.          0.51266434]\t 0.7579938987964742\t 0.6422107560773703\t 4.864387361024274\t 4.865972716248774\n"
          ]
        },
        {
          "output_type": "execute_result",
          "data": {
            "text/plain": [
              "49510.79989667552"
            ]
          },
          "metadata": {},
          "execution_count": 58
        }
      ]
    },
    {
      "cell_type": "code",
      "metadata": {
        "id": "5TaP6RoGuiNT",
        "colab": {
          "base_uri": "https://localhost:8080/"
        },
        "outputId": "e50d0cef-0a3e-47a0-eb20-8bfa20cce74a"
      },
      "source": [
        "### Bayesian optimization runs (x20): 'Exact STP CBM' Acquisition Function run number = 16 \n",
        "\n",
        "np.random.seed(run_num_16)\n",
        "surrogate_stp_16 = dtStudentProcess(cov_func, optimize=opt, nu = df)\n",
        "\n",
        "X_train16, X_test16, y_train16, y_test16 = train_test_split(X, y, test_size=test_perc, random_state=run_num_16)\n",
        "\n",
        "def f_syn_polarity16(alpha, gamma, max_depth, subsample, min_child_weight, colsample):\n",
        "    reg = XGBRegressor(reg_alpha=alpha, gamma=gamma, max_depth=int(max_depth), subsample=subsample, min_child_weight=min_child_weight,\n",
        "          colsample_bytree=colsample, n_estimators = n_est, random_state=run_num_16, objective = 'reg:squarederror')\n",
        "    score = np.array(cross_val_score(reg, X=X_train16, y=y_train16).mean())\n",
        "    return operator * score\n",
        "\n",
        "stp_16 = dGPGO_stp(surrogate_stp_16, Acquisition_grad(util_stp), f_syn_polarity16, param, n_jobs = -1) # Define BayesOpt\n",
        "stp_16.run(max_iter = max_iter, init_evals = n_init) # run\n",
        "\n",
        "### Return optimal parameters' set:\n",
        "params_stp_16 = stp_16.getResult()[0]\n",
        "params_stp_16['max_depth'] = int(params_stp_16['max_depth'])\n",
        "params_stp_16['min_child_weight'] = int(params_stp_16['min_child_weight'])\n",
        "\n",
        "### Re-train with optimal parameters, run predictons:\n",
        "dX_stp_train16 = xgb.DMatrix(X_train16, y_train16)\n",
        "dX_stp_test16 = xgb.DMatrix(X_test16, y_test16)\n",
        "model_stp_16 = xgb.train(params_stp_16, dX_stp_train16)\n",
        "pred_stp_16 = model_stp_16.predict(dX_stp_test16)\n",
        "\n",
        "rmse_stp_16 = np.sqrt(mean_squared_error(pred_stp_16, y_test16))\n",
        "rmse_stp_16"
      ],
      "execution_count": null,
      "outputs": [
        {
          "output_type": "stream",
          "name": "stdout",
          "text": [
            "Evaluation \t Proposed point \t  Current eval. \t  Best eval. \t        Exact CBM: StdDev. x \t Approx CBM: StdDev. x \n",
            "init\t [2.23291079 5.23163341 6.         0.65430839 5.         0.30077285]\t 0.9529819347295859\t 0.8883829281923242\t    \t    \n",
            "init\t [6.88726162 1.63731425 7.         0.97050543 2.         0.25392012]\t 0.9481041389252269\t 0.8883829281923242\t    \t    \n",
            "init\t [ 5.94328983  5.6393473   5.          0.67602695 19.          0.42538144]\t 0.8883829281923242\t 0.8883829281923242\t    \t    \n",
            "init\t [ 0.88741148  3.08148142 14.          0.56043938  9.          0.27515386]\t 0.9564077542414676\t 0.8883829281923242\t    \t    \n",
            "init\t [ 2.74631586  1.30996118 11.          0.52160786  8.          0.27956463]\t 0.9552184743546004\t 0.8883829281923242\t    \t    \n",
            "\u001b[1m\u001b[92m1\u001b[0m\t \u001b[1m\u001b[92m[ 7.8937256   1.5972923  14.          0.61610774 17.          0.78739284]\u001b[0m\t \u001b[1m\u001b[92m0.6878693399983744\u001b[0m\t \u001b[1m\u001b[92m0.6878693399983744\u001b[0m\t \u001b[1m\u001b[92m4.913982314059304\u001b[0m\t \u001b[1m\u001b[92m4.95304562166452\u001b[0m\n",
            "2  \t [ 9.65014948  7.07834667 14.          0.88748515  2.          0.43513691]\t 0.8747438848890932\t 0.6878693399983744\t 4.994396295749297\t 4.941047194743873\n",
            "3  \t [ 9.80741348  8.90144788 14.          0.82131992 14.          0.46769684]\t 0.8608053593354814\t 0.6878693399983744\t 4.546751924973042\t 4.540106865732528\n",
            "4  \t [ 0.78730688  7.98438553 14.          0.91743896 18.          0.25645593]\t 0.9494553422981233\t 0.6878693399983744\t 4.902453317515032\t 4.981458780808126\n",
            "5  \t [ 1.64983341  0.37890577  9.          0.65437216 16.          0.49641159]\t 0.8646755374886521\t 0.6878693399983744\t 4.81363915737275\t 4.664335431822843\n",
            "6  \t [ 5.58043809  8.91463745  8.          0.85851576 10.          0.64398202]\t 0.7307340308882677\t 0.6878693399983744\t 4.819406377011673\t 4.7903403752010405\n",
            "7  \t [ 2.65571666  4.32529089 14.          0.66921971  2.          0.36607383]\t 0.9623426051674955\t 0.6878693399983744\t 4.987839349125413\t 4.976796402647065\n",
            "8  \t [ 5.53392197  2.00879238  6.          0.89871466 12.          0.67694144]\t 0.7620148611738933\t 0.6878693399983744\t 4.817150721124078\t 4.77019290271708\n",
            "\u001b[1m\u001b[92m9\u001b[0m\t \u001b[1m\u001b[92m[6.95801625 9.13555009 8.         0.87520198 2.         0.98461662]\u001b[0m\t \u001b[1m\u001b[92m0.6730441336589406\u001b[0m\t \u001b[1m\u001b[92m0.6730441336589406\u001b[0m\t \u001b[1m\u001b[92m5.178960550795141\u001b[0m\t \u001b[1m\u001b[92m5.201932354587546\u001b[0m\n",
            "10 \t [ 8.77492053  6.74985642  5.          0.72525183 13.          0.93231357]\t 0.7199718018091047\t 0.6730441336589406\t 4.721723028524636\t 4.7581018615664235\n",
            "11 \t [ 3.92379693  5.26427008  7.          0.52294127 13.          0.66328071]\t 0.7482193144353987\t 0.6730441336589406\t 5.204827134718972\t 5.204827134718972\n",
            "12 \t [ 8.8197294   2.64777319 14.          0.98646567 10.          0.63786085]\t 0.7141008345477899\t 0.6730441336589406\t 5.106152429738381\t 5.118497727133936\n",
            "\u001b[1m\u001b[92m13\u001b[0m\t \u001b[1m\u001b[92m[ 0.26172129  9.94921995 14.          0.88029118  9.          0.93655616]\u001b[0m\t \u001b[1m\u001b[92m0.6551680070961308\u001b[0m\t \u001b[1m\u001b[92m0.6551680070961308\u001b[0m\t \u001b[1m\u001b[92m4.5244919940922115\u001b[0m\t \u001b[1m\u001b[92m4.6886209644099885\u001b[0m\n",
            "14 \t [ 5.41155711  5.82534705 10.          0.62444801 12.          0.48368067]\t 0.8667049733212127\t 0.6551680070961308\t 4.4401340530539075\t 4.4401340530539075\n",
            "15 \t [ 0.02157337  9.97534925  5.          0.75404051 13.          0.40760752]\t 0.8854668121365705\t 0.6551680070961308\t 4.750960317984902\t 4.722830084299317\n",
            "16 \t [ 5.73702737  7.50903876 13.          0.61487351 15.          0.57742278]\t 0.7778153254020743\t 0.6551680070961308\t 5.115396035318225\t 5.11656365313218\n",
            "17 \t [ 7.10469951  6.34150339 11.          0.9481748   6.          0.12277199]\t 0.9718611347031094\t 0.6551680070961308\t 4.721810407830707\t 4.719488399497849\n",
            "18 \t [ 9.56839048  0.13416862 13.          0.80729993  3.          0.41100156]\t 0.8703303423168164\t 0.6551680070961308\t 4.960419775332811\t 4.914916640303645\n",
            "19 \t [0.  0.  5.  0.5 1.  0.1]\t 0.9761208022264058\t 0.6551680070961308\t 4.731124374507983\t 4.685548095770818\n",
            "20 \t [8.75370971 6.63075821 5.         0.51315816 7.         0.52603065]\t 0.8073058384557079\t 0.6551680070961308\t 4.939029591293707\t 4.952804535884822\n",
            "\u001b[1m\u001b[92m21\u001b[0m\t \u001b[1m\u001b[92m[ 7.94526849 10.         11.10265977  1.         20.          1.        ]\u001b[0m\t \u001b[1m\u001b[92m0.6497986288967132\u001b[0m\t \u001b[1m\u001b[92m0.6497986288967132\u001b[0m\t \u001b[1m\u001b[92m5.031119114729918\u001b[0m\t \u001b[1m\u001b[92m4.935637391934766\u001b[0m\n",
            "22 \t [ 9.03366199  7.80955039  7.          0.58807038 16.          0.37530235]\t 0.8718032531648561\t 0.6497986288967132\t 5.00186782218883\t 5.00186782218883\n",
            "23 \t [ 1.30643471  9.21858448  9.          0.51787301 19.          0.17653473]\t 0.9732754583939892\t 0.6497986288967132\t 5.09692470931997\t 5.095561064226027\n",
            "24 \t [9.80508544 0.83042511 7.         0.54124599 9.         0.7836072 ]\t 0.7113005276137964\t 0.6497986288967132\t 4.66691291993595\t 4.666095270097495\n",
            "25 \t [ 1.2601232   9.9585863  10.          0.70525992  2.          0.9880166 ]\t 0.6631852367566748\t 0.6497986288967132\t 4.659942921783292\t 4.648783709067794\n",
            "26 \t [ 3.73420217  8.22730904 13.          0.84562785  9.          0.47506411]\t 0.8623919725421392\t 0.6497986288967132\t 4.791527345445895\t 4.793377941393088\n",
            "27 \t [ 3.87907908  1.7609891  11.          0.72159537 13.          0.66065913]\t 0.7206151175283746\t 0.6497986288967132\t 4.672512817424778\t 4.700355916543465\n",
            "28 \t [1.37294589 2.61228134 9.         0.89667199 1.         0.42044841]\t 0.8676686566935652\t 0.6497986288967132\t 4.902569905598888\t 4.901947319911712\n",
            "29 \t [ 0.07133277  0.91368388 13.          0.65353856  5.          0.96196496]\t 0.6625479830509244\t 0.6497986288967132\t 4.776943868552407\t 4.776943891441716\n",
            "30 \t [0.45093612 0.         6.94516457 0.5        6.15158827 0.1       ]\t 0.9745383320209864\t 0.6497986288967132\t 4.826224766582434\t 4.910576309096394\n"
          ]
        },
        {
          "output_type": "execute_result",
          "data": {
            "text/plain": [
              "50531.56595546403"
            ]
          },
          "metadata": {},
          "execution_count": 59
        }
      ]
    },
    {
      "cell_type": "code",
      "metadata": {
        "id": "NiOaMUmgulbx",
        "colab": {
          "base_uri": "https://localhost:8080/"
        },
        "outputId": "2272647d-b4b6-468c-92e2-88cfbc42539c"
      },
      "source": [
        "### Bayesian optimization runs (x20): 'Exact STP CBM' Acquisition Function run number = 17 \n",
        "\n",
        "np.random.seed(run_num_17)\n",
        "surrogate_stp_17 = dtStudentProcess(cov_func, optimize=opt, nu = df)\n",
        "\n",
        "X_train17, X_test17, y_train17, y_test17 = train_test_split(X, y, test_size=test_perc, random_state=run_num_17)\n",
        "\n",
        "def f_syn_polarity17(alpha, gamma, max_depth, subsample, min_child_weight, colsample):\n",
        "    reg = XGBRegressor(reg_alpha=alpha, gamma=gamma, max_depth=int(max_depth), subsample=subsample, min_child_weight=min_child_weight,\n",
        "          colsample_bytree=colsample, n_estimators = n_est, random_state=run_num_17, objective = 'reg:squarederror')\n",
        "    score = np.array(cross_val_score(reg, X=X_train17, y=y_train17).mean())\n",
        "    return operator * score\n",
        "\n",
        "stp_17 = dGPGO_stp(surrogate_stp_17, Acquisition_grad(util_stp), f_syn_polarity17, param, n_jobs = -1) # Define BayesOpt\n",
        "stp_17.run(max_iter = max_iter, init_evals = n_init) # run\n",
        "\n",
        "### Return optimal parameters' set:\n",
        "params_stp_17 = stp_17.getResult()[0]\n",
        "params_stp_17['max_depth'] = int(params_stp_17['max_depth'])\n",
        "params_stp_17['min_child_weight'] = int(params_stp_17['min_child_weight'])\n",
        "\n",
        "### Re-train with optimal parameters, run predictons:\n",
        "dX_stp_train17 = xgb.DMatrix(X_train17, y_train17)\n",
        "dX_stp_test17 = xgb.DMatrix(X_test17, y_test17)\n",
        "model_stp_17 = xgb.train(params_stp_17, dX_stp_train17)\n",
        "pred_stp_17 = model_stp_17.predict(dX_stp_test17)\n",
        "\n",
        "rmse_stp_17 = np.sqrt(mean_squared_error(pred_stp_17, y_test17))\n",
        "rmse_stp_17"
      ],
      "execution_count": null,
      "outputs": [
        {
          "output_type": "stream",
          "name": "stdout",
          "text": [
            "Evaluation \t Proposed point \t  Current eval. \t  Best eval. \t        Exact CBM: StdDev. x \t Approx CBM: StdDev. x \n",
            "init\t [ 2.94665003  5.30586756 11.          0.94443241 14.          0.80828691]\t 0.7141038418197827\t 0.7141038418197827\t    \t    \n",
            "init\t [ 6.56333522  6.37520896 12.          0.81487881 18.          0.42203224]\t 0.8024876355160464\t 0.7141038418197827\t    \t    \n",
            "init\t [ 9.45683187  0.6004468  11.          0.5171566  10.          0.53881211]\t 0.7659849712152795\t 0.7141038418197827\t    \t    \n",
            "init\t [2.72705857 1.19063434 6.         0.74176431 6.         0.10101151]\t 0.9684453836634761\t 0.7141038418197827\t    \t    \n",
            "init\t [ 4.77631812  5.24671297 13.          0.66254476 19.          0.36708086]\t 0.8556892362199922\t 0.7141038418197827\t    \t    \n",
            "1  \t [ 0.65702322  5.79284078 13.          0.75136902  1.          0.30306068]\t 0.86898292288902\t 0.7141038418197827\t 4.747791560424384\t 4.665829459156685\n",
            "2  \t [8.79462978 7.51560605 6.         0.76312232 8.         0.57156636]\t 0.778300364354035\t 0.7141038418197827\t 4.483024851567387\t 4.44538243797831\n",
            "3  \t [0.65992542 7.03112384 5.         0.85138174 1.         0.9514344 ]\t 0.726434848802118\t 0.7141038418197827\t 4.753439086905993\t 4.891944809342119\n",
            "4  \t [ 9.51671323  9.6124566  13.          0.71797221  5.          0.16581182]\t 0.9672674042711217\t 0.7141038418197827\t 4.681742079972851\t 4.670393973049315\n",
            "5  \t [ 9.17797544  5.99568118  6.          0.52445603 15.          0.40946449]\t 0.826366430225874\t 0.7141038418197827\t 4.9104483201640265\t 4.889717263899853\n",
            "6  \t [ 6.81284184  2.29577018  7.          0.5239727  13.          0.33920765]\t 0.8659399691320455\t 0.7141038418197827\t 5.055452592984694\t 5.061643795246001\n",
            "7  \t [ 2.46339402  0.14039019 14.          0.95096219  7.          0.5441132 ]\t 0.7563633439329396\t 0.7141038418197827\t 5.453892846476193\t 5.133131440071228\n",
            "8  \t [9.72843652 3.88893279 9.         0.6901555  1.         0.31608219]\t 0.861798864893942\t 0.7141038418197827\t 4.847905856331794\t 4.879764850858993\n",
            "9  \t [9.85206608 0.28191822 5.         0.52457928 8.         0.84714334]\t 0.7819517369688569\t 0.7141038418197827\t 4.7679107520943385\t 4.75066473656619\n",
            "10 \t [ 0.2191332   8.51773955  5.          0.60657578 15.          0.49735822]\t 0.8316281392969092\t 0.7141038418197827\t 4.972528143187894\t 4.8243643041782\n",
            "11 \t [ 0.19725752  8.16335211 14.          0.80836431  8.          0.45209851]\t 0.8069651446453449\t 0.7141038418197827\t 4.793435902718359\t 4.757986100162849\n",
            "12 \t [0.95504342 7.30424524 8.         0.76682007 6.         0.21761275]\t 0.9667342747401506\t 0.7141038418197827\t 4.881610425327303\t 4.910288943744923\n",
            "13 \t [0.        0.9070919 5.        0.5       1.        0.1      ]\t 0.973743062796521\t 0.7141038418197827\t 4.6597706022941\t 4.673872838368984\n",
            "14 \t [ 7.35111323  4.42247898 14.          0.92954426  7.          0.31778445]\t 0.8561431043387969\t 0.7141038418197827\t 4.623510435159647\t 4.597332675471938\n",
            "15 \t [ 4.97204887  2.40072226  5.          0.54268748 19.          0.30995407]\t 0.8751160002928657\t 0.7141038418197827\t 4.804494842489781\t 4.689528235558281\n",
            "16 \t [6.14842106 3.92031042 5.         0.80436272 5.         0.42842685]\t 0.8298337600349435\t 0.7141038418197827\t 4.568865038692418\t 4.564758644640412\n",
            "17 \t [ 9.1928307   3.75120063 13.          0.61085648 16.          0.3130605 ]\t 0.8587285155589749\t 0.7141038418197827\t 4.711016675345144\t 4.711016675345144\n",
            "18 \t [ 5.52019288  4.04438509 14.          0.68962025 12.          0.65928036]\t 0.7200967455068522\t 0.7141038418197827\t 4.801590561966304\t 4.804580542733038\n",
            "\u001b[1m\u001b[92m19\u001b[0m\t \u001b[1m\u001b[92m[ 0.45348627  9.34732483 12.          0.95759453 19.          0.71400033]\u001b[0m\t \u001b[1m\u001b[92m0.7137199048529451\u001b[0m\t \u001b[1m\u001b[92m0.7137199048529451\u001b[0m\t \u001b[1m\u001b[92m4.834786898957398\u001b[0m\t \u001b[1m\u001b[92m4.86681275594619\u001b[0m\n",
            "20 \t [ 8.57333797  0.94219501 14.          0.51089969  3.          0.1953435 ]\t 0.9742874478076378\t 0.7137199048529451\t 5.090487844920099\t 5.1705953086298315\n",
            "\u001b[1m\u001b[92m21\u001b[0m\t \u001b[1m\u001b[92m[ 4.48878711  5.49356507 14.          0.56680442 14.          0.88105297]\u001b[0m\t \u001b[1m\u001b[92m0.6678102642866967\u001b[0m\t \u001b[1m\u001b[92m0.6678102642866967\u001b[0m\t \u001b[1m\u001b[92m5.112492837346613\u001b[0m\t \u001b[1m\u001b[92m5.112492837346613\u001b[0m\n",
            "\u001b[1m\u001b[92m22\u001b[0m\t \u001b[1m\u001b[92m[ 5.71105683  9.4586208  15.          1.         10.40318867  1.        ]\u001b[0m\t \u001b[1m\u001b[92m0.6451990217431166\u001b[0m\t \u001b[1m\u001b[92m0.6451990217431166\u001b[0m\t \u001b[1m\u001b[92m5.021884068320822\u001b[0m\t \u001b[1m\u001b[92m4.933494609385207\u001b[0m\n",
            "23 \t [ 5.18644121  9.97216159 13.          0.51656015 15.          0.59837352]\t 0.7660042630046296\t 0.6451990217431166\t 5.1256749694939705\t 5.1256749694939705\n",
            "24 \t [9.30371298 5.41042714 5.         0.80825473 7.         0.72790994]\t 0.775406840278715\t 0.6451990217431166\t 4.4464037749812535\t 4.4464037749812535\n",
            "25 \t [ 0.26941126  0.          5.24688849  0.5        13.24688849  0.1       ]\t 0.9735784465348413\t 0.6451990217431166\t 4.946018577689632\t 4.9043334438656645\n",
            "26 \t [ 9.68199458  9.34620738 11.          0.57663541 14.          0.24521092]\t 0.9699971507331904\t 0.6451990217431166\t 4.430181975861446\t 4.475812376138424\n",
            "27 \t [ 5.48379726  6.58855631  5.          0.91493075 18.          0.89669113]\t 0.7275389527778259\t 0.6451990217431166\t 4.945731053629368\t 4.945794635338415\n",
            "28 \t [ 4.55919043  8.6591134   6.          0.8884863  12.          0.96165246]\t 0.7009533648321409\t 0.6451990217431166\t 4.801148661328272\t 4.839746046161173\n",
            "29 \t [ 7.57643221  2.75634527 14.          0.54972325 18.          0.56026463]\t 0.7646380284813412\t 0.6451990217431166\t 5.1919368506546935\t 5.191937211487707\n",
            "30 \t [ 3.17187998  4.13355162  8.          0.8657932  13.          0.82446402]\t 0.7247998938700702\t 0.6451990217431166\t 4.809494188241973\t 4.809494188241973\n"
          ]
        },
        {
          "output_type": "execute_result",
          "data": {
            "text/plain": [
              "48181.78878166302"
            ]
          },
          "metadata": {},
          "execution_count": 60
        }
      ]
    },
    {
      "cell_type": "code",
      "metadata": {
        "id": "5H4MWSXFcZjO",
        "colab": {
          "base_uri": "https://localhost:8080/"
        },
        "outputId": "9f251c6c-b995-457a-8c2e-962e3dbfdbac"
      },
      "source": [
        "### Bayesian optimization runs (x20): 'Exact STP CBM' Acquisition Function run number = 18 \n",
        "\n",
        "np.random.seed(run_num_18)\n",
        "surrogate_stp_18 = dtStudentProcess(cov_func, optimize=opt, nu = df)\n",
        "\n",
        "X_train18, X_test18, y_train18, y_test18 = train_test_split(X, y, test_size=test_perc, random_state=run_num_18)\n",
        "\n",
        "def f_syn_polarity18(alpha, gamma, max_depth, subsample, min_child_weight, colsample):\n",
        "    reg = XGBRegressor(reg_alpha=alpha, gamma=gamma, max_depth=int(max_depth), subsample=subsample, min_child_weight=min_child_weight,\n",
        "          colsample_bytree=colsample, n_estimators = n_est, random_state=run_num_18, objective = 'reg:squarederror')\n",
        "    score = np.array(cross_val_score(reg, X=X_train18, y=y_train18).mean())\n",
        "    return operator * score\n",
        "\n",
        "stp_18 = dGPGO_stp(surrogate_stp_18, Acquisition_grad(util_stp), f_syn_polarity18, param, n_jobs = -1) # Define BayesOpt\n",
        "stp_18.run(max_iter = max_iter, init_evals = n_init) # run\n",
        "\n",
        "### Return optimal parameters' set:\n",
        "params_stp_18 = stp_18.getResult()[0]\n",
        "params_stp_18['max_depth'] = int(params_stp_18['max_depth'])\n",
        "params_stp_18['min_child_weight'] = int(params_stp_18['min_child_weight'])\n",
        "\n",
        "### Re-train with optimal parameters, run predictons:\n",
        "dX_stp_train18 = xgb.DMatrix(X_train18, y_train18)\n",
        "dX_stp_test18 = xgb.DMatrix(X_test18, y_test18)\n",
        "model_stp_18 = xgb.train(params_stp_18, dX_stp_train18)\n",
        "pred_stp_18 = model_stp_18.predict(dX_stp_test18)\n",
        "\n",
        "rmse_stp_18 = np.sqrt(mean_squared_error(pred_stp_18, y_test18))\n",
        "rmse_stp_18"
      ],
      "execution_count": null,
      "outputs": [
        {
          "output_type": "stream",
          "name": "stdout",
          "text": [
            "Evaluation \t Proposed point \t  Current eval. \t  Best eval. \t        Exact CBM: StdDev. x \t Approx CBM: StdDev. x \n",
            "init\t [6.50374242 5.05453374 6.         0.59092011 3.         0.28357516]\t 0.9953081887469889\t 0.7220763687473127\t    \t    \n",
            "init\t [0.11506734 4.26891483 9.         0.81785956 5.         0.63489043]\t 0.7220763687473127\t 0.7220763687473127\t    \t    \n",
            "init\t [ 2.8861259   6.35547834 11.          0.64267955 14.          0.27877092]\t 0.9889075947558364\t 0.7220763687473127\t    \t    \n",
            "init\t [6.57189031 6.99655629 8.         0.63235896 4.         0.52894035]\t 0.7606594495187335\t 0.7220763687473127\t    \t    \n",
            "init\t [ 6.66600348  2.11312037 14.          0.74363461  4.          0.73174558]\t 0.7225304513182221\t 0.7220763687473127\t    \t    \n",
            "1  \t [ 8.67093232  0.11649132  5.          0.92962202 15.          0.53672863]\t 0.8181138208820815\t 0.7220763687473127\t 4.771964562929873\t 4.652783186263037\n",
            "\u001b[1m\u001b[92m2\u001b[0m\t \u001b[1m\u001b[92m[ 7.2764983   0.11744451 14.          0.65239666 17.          0.99049521]\u001b[0m\t \u001b[1m\u001b[92m0.6527007643358951\u001b[0m\t \u001b[1m\u001b[92m0.6527007643358951\u001b[0m\t \u001b[1m\u001b[92m5.288044236087737\u001b[0m\t \u001b[1m\u001b[92m5.200150556324806\u001b[0m\n",
            "3  \t [ 6.9243088   2.24175244  9.          0.535904   10.          0.52104842]\t 0.7581381331811782\t 0.6527007643358951\t 4.553660094105394\t 4.605271349443566\n",
            "4  \t [ 9.09300285  7.4380425   7.          0.5961396  18.          0.81515856]\t 0.7190170169682334\t 0.6527007643358951\t 5.075281848022215\t 5.073827766895085\n",
            "5  \t [ 9.98394208  8.5932438  14.          0.75596751 19.          0.64506065]\t 0.7153197782842456\t 0.6527007643358951\t 5.090759673009507\t 5.090759258923253\n",
            "\u001b[1m\u001b[92m6\u001b[0m\t \u001b[1m\u001b[92m[10.         10.         13.66197481  1.          7.66197481  1.        ]\u001b[0m\t \u001b[1m\u001b[92m0.6435447991477096\u001b[0m\t \u001b[1m\u001b[92m0.6435447991477096\u001b[0m\t \u001b[1m\u001b[92m5.24777545948912\u001b[0m\t \u001b[1m\u001b[92m5.280314767727893\u001b[0m\n",
            "7  \t [3.28907983 0.32007134 5.         0.82737078 1.         0.19815427]\t 1.0120318552286456\t 0.6435447991477096\t 4.668023278457255\t 4.670006861350252\n",
            "8  \t [ 1.24316399  9.43141312 14.          0.66900118  7.          0.55235225]\t 0.745004296865836\t 0.6435447991477096\t 4.781090056859482\t 4.686765640545467\n",
            "9  \t [ 1.80118477  1.19747778 13.          0.79590104  8.          0.56741067]\t 0.7386631133573338\t 0.6435447991477096\t 5.204922525982247\t 5.255381746606281\n",
            "10 \t [ 2.63732683  4.87962717 14.          0.99986359 19.          0.86504659]\t 0.664354143494327\t 0.6435447991477096\t 4.738762557324166\t 4.777437484497897\n",
            "11 \t [ 4.88144715  8.15190527  6.          0.64651992 13.          0.17458086]\t 1.0121229762977084\t 0.6435447991477096\t 4.645274225734417\t 4.662003982752912\n",
            "12 \t [ 3.09522647  6.97119948 14.          0.63850148  1.          0.54769428]\t 0.7593781021734818\t 0.6435447991477096\t 4.565931539642715\t 4.708082107809919\n",
            "13 \t [0.         0.         5.         0.5        7.42400344 0.1       ]\t 1.0169021736510433\t 0.6435447991477096\t 4.705129452620609\t 4.67071864591359\n",
            "\u001b[1m\u001b[92m14\u001b[0m\t \u001b[1m\u001b[92m[ 7.77610365  4.28084097 15.          1.          9.07822721  1.        ]\u001b[0m\t \u001b[1m\u001b[92m0.6429167346236143\u001b[0m\t \u001b[1m\u001b[92m0.6429167346236143\u001b[0m\t \u001b[1m\u001b[92m4.746879377218558\u001b[0m\t \u001b[1m\u001b[92m4.736883235487264\u001b[0m\n",
            "15 \t [8.57853094 9.14216964 6.         0.59396607 9.         0.92089263]\t 0.7042971761386584\t 0.6429167346236143\t 4.733686486435764\t 4.730979279851105\n",
            "16 \t [ 0.71491502  0.67997826 10.          0.84656193 16.          0.26877596]\t 0.9849909769793056\t 0.6429167346236143\t 5.003382816110075\t 4.962474957502912\n",
            "17 \t [9.98273363 0.40807687 5.         0.58049551 4.         0.30262691]\t 0.9970945517723454\t 0.6429167346236143\t 5.012432943719343\t 4.8593882186384665\n",
            "18 \t [ 4.48360078  7.855369   10.          0.64837174 18.          0.21997892]\t 1.005509476452373\t 0.6429167346236143\t 4.900443967599622\t 4.900489702630052\n",
            "19 \t [9.2798599  7.10759547 6.         0.7926243  1.         0.10786223]\t 1.0088210680321927\t 0.6429167346236143\t 4.844507600207575\t 4.845891419929735\n",
            "20 \t [2.46492428 5.43160937 5.         0.80464169 6.         0.16325382]\t 1.011717078840387\t 0.6429167346236143\t 4.785486586786731\t 4.845287978730538\n",
            "21 \t [ 8.85035918  6.89749862 12.          0.72158349 14.          0.78694849]\t 0.6753851064749854\t 0.6429167346236143\t 5.070897928080062\t 4.996430354348498\n",
            "22 \t [ 3.44634229  0.73068286  6.          0.98116529 13.          0.55221155]\t 0.7918727230418927\t 0.6429167346236143\t 4.595385967326818\t 4.588531128136371\n",
            "23 \t [ 9.53885612  7.77476011 11.          0.72419664  1.          0.36894154]\t 0.9966950049469988\t 0.6429167346236143\t 4.850529792897502\t 4.839644983919337\n",
            "24 \t [ 6.53986112  7.86486911  8.          0.51123614 12.          0.99656982]\t 0.6770117185241518\t 0.6429167346236143\t 5.081889381838381\t 5.081889381838381\n",
            "25 \t [1.07172211 9.91320527 6.         0.98176043 4.         0.24706724]\t 1.0106629985673714\t 0.6429167346236143\t 4.383035052090239\t 4.380760518201298\n",
            "26 \t [ 0.40678625  1.26787537  5.          0.70261051 12.          0.55749237]\t 0.8194429585323096\t 0.6429167346236143\t 4.8652305565290535\t 4.8652305565290535\n",
            "27 \t [ 2.61804656  1.63569751 10.          0.63241032  1.          0.28443324]\t 0.9978409265559002\t 0.6429167346236143\t 5.383913507885137\t 5.411885974093627\n",
            "28 \t [ 0.21959499  5.23035289 12.          0.91796248  7.          0.20873253]\t 1.003549466667358\t 0.6429167346236143\t 4.230130218111998\t 4.229786929468903\n",
            "29 \t [9.31614024 4.63885987 7.         0.54659744 6.         0.74814245]\t 0.7575197707232916\t 0.6429167346236143\t 4.9303782979343005\t 4.9303782979343005\n",
            "30 \t [ 2.39862109  3.75790269 11.          0.82657555 17.          0.95299573]\t 0.6491212536138201\t 0.6429167346236143\t 5.198237107744202\t 5.123901801676235\n"
          ]
        },
        {
          "output_type": "execute_result",
          "data": {
            "text/plain": [
              "47957.67085347183"
            ]
          },
          "metadata": {},
          "execution_count": 61
        }
      ]
    },
    {
      "cell_type": "code",
      "metadata": {
        "id": "B-zaPbk2uuzH",
        "colab": {
          "base_uri": "https://localhost:8080/"
        },
        "outputId": "20618858-c52c-472e-9fc2-4053220968a5"
      },
      "source": [
        "### Bayesian optimization runs (x20): 'Exact STP CBM' Acquisition Function run number = 19 \n",
        "\n",
        "np.random.seed(run_num_19)\n",
        "surrogate_stp_19 = dtStudentProcess(cov_func, optimize=opt, nu = df)\n",
        "\n",
        "X_train19, X_test19, y_train19, y_test19 = train_test_split(X, y, test_size=test_perc, random_state=run_num_19)\n",
        "\n",
        "def f_syn_polarity19(alpha, gamma, max_depth, subsample, min_child_weight, colsample):\n",
        "    reg = XGBRegressor(reg_alpha=alpha, gamma=gamma, max_depth=int(max_depth), subsample=subsample, min_child_weight=min_child_weight,\n",
        "          colsample_bytree=colsample, n_estimators = n_est, random_state=run_num_19, objective = 'reg:squarederror')\n",
        "    score = np.array(cross_val_score(reg, X=X_train19, y=y_train19).mean())\n",
        "    return operator * score\n",
        "\n",
        "stp_19 = dGPGO_stp(surrogate_stp_19, Acquisition_grad(util_stp), f_syn_polarity19, param, n_jobs = -1) # Define BayesOpt\n",
        "stp_19.run(max_iter = max_iter, init_evals = n_init) # run\n",
        "\n",
        "### Return optimal parameters' set:\n",
        "params_stp_19 = stp_19.getResult()[0]\n",
        "params_stp_19['max_depth'] = int(params_stp_19['max_depth'])\n",
        "params_stp_19['min_child_weight'] = int(params_stp_19['min_child_weight'])\n",
        "\n",
        "### Re-train with optimal parameters, run predictons:\n",
        "dX_stp_train19 = xgb.DMatrix(X_train19, y_train19)\n",
        "dX_stp_test19 = xgb.DMatrix(X_test19, y_test19)\n",
        "model_stp_19 = xgb.train(params_stp_19, dX_stp_train19)\n",
        "pred_stp_19 = model_stp_19.predict(dX_stp_test19)\n",
        "\n",
        "rmse_stp_19 = np.sqrt(mean_squared_error(pred_stp_19, y_test19))\n",
        "rmse_stp_19"
      ],
      "execution_count": null,
      "outputs": [
        {
          "output_type": "stream",
          "name": "stdout",
          "text": [
            "Evaluation \t Proposed point \t  Current eval. \t  Best eval. \t        Exact CBM: StdDev. x \t Approx CBM: StdDev. x \n",
            "init\t [ 0.97533602  7.61249717 13.          0.85765469 11.          0.39830191]\t 0.7381578397530673\t 0.7295721630591281\t    \t    \n",
            "init\t [ 0.82999565  6.71977081  6.          0.50407413 19.          0.67209466]\t 0.7470234185181706\t 0.7295721630591281\t    \t    \n",
            "init\t [ 2.15923256  5.49027432 12.          0.52588686 10.          0.20235326]\t 1.018052265694813\t 0.7295721630591281\t    \t    \n",
            "init\t [4.99659267 1.52108422 6.         0.73481085 4.         0.71949465]\t 0.7455570460653044\t 0.7295721630591281\t    \t    \n",
            "init\t [ 3.72927156  9.46160045  5.          0.80554614 18.          0.97708466]\t 0.7295721630591281\t 0.7295721630591281\t    \t    \n",
            "\u001b[1m\u001b[92m1\u001b[0m\t \u001b[1m\u001b[92m[ 3.75019371  2.78533043 14.          0.97471706  2.          0.68741144]\u001b[0m\t \u001b[1m\u001b[92m0.7084677234689745\u001b[0m\t \u001b[1m\u001b[92m0.7084677234689745\u001b[0m\t \u001b[1m\u001b[92m5.062198505137056\u001b[0m\t \u001b[1m\u001b[92m4.918105202040897\u001b[0m\n",
            "2  \t [ 9.59707982  2.24624431 11.          0.80745994 19.          0.34919653]\t 0.8582500944811489\t 0.7084677234689745\t 4.697482876616324\t 4.750696562112395\n",
            "3  \t [ 9.59052981  0.71011468  5.          0.5535659  11.          0.88675668]\t 0.733197026085173\t 0.7084677234689745\t 5.040760492856248\t 5.033952801952071\n",
            "\u001b[1m\u001b[92m4\u001b[0m\t \u001b[1m\u001b[92m[ 7.89674065  9.31460122 11.          0.96158687  5.          0.67754853]\u001b[0m\t \u001b[1m\u001b[92m0.7030341396346454\u001b[0m\t \u001b[1m\u001b[92m0.7030341396346454\u001b[0m\t \u001b[1m\u001b[92m4.642551917500368\u001b[0m\t \u001b[1m\u001b[92m4.6616132164781545\u001b[0m\n",
            "5  \t [ 9.75728619  5.02833066 14.          0.90836764 10.          0.54167198]\t 0.7070704196223556\t 0.7030341396346454\t 4.5196188504269745\t 4.428145829698244\n",
            "6  \t [2.42043242 8.59644584 5.         0.87331997 6.         0.89695546]\t 0.7305208677134416\t 0.7030341396346454\t 4.649626337600671\t 4.590913126736576\n",
            "7  \t [ 0.63449436  1.6900082   5.          0.9424975  14.          0.7717074 ]\t 0.7312559795759925\t 0.7030341396346454\t 4.890554558558142\t 4.841886856222156\n",
            "8  \t [ 6.01263818  1.47905833  5.          0.64101179 19.          0.83091413]\t 0.7330875238161113\t 0.7030341396346454\t 4.585993588899864\t 4.575310942507808\n",
            "9  \t [9.41953078 6.1385813  6.         0.89269444 1.         0.11740523]\t 1.01462685395533\t 0.7030341396346454\t 4.695703223741234\t 4.6592487756519185\n",
            "10 \t [ 7.02867933  9.90727204 13.          0.63894045 15.          0.55404042]\t 0.7147532542215222\t 0.7030341396346454\t 5.22013851137763\t 5.194630127838675\n",
            "11 \t [ 8.347612    9.05501181  5.          0.50033019 10.          0.41046448]\t 0.7834119309620006\t 0.7030341396346454\t 4.622959605464734\t 4.511127721619757\n",
            "12 \t [ 4.39875612  4.25627616 13.          0.57929417 17.          0.72841492]\t 0.7117607631871969\t 0.7030341396346454\t 4.928867574697532\t 4.679571160926872\n",
            "13 \t [3.00801305 1.64921363 7.81779745 0.5        9.81779745 0.1       ]\t 1.0140239748361601\t 0.7030341396346454\t 4.669403320686956\t 4.632338845918826\n",
            "14 \t [ 8.7302317   4.34183104 12.          0.88721606  1.          0.17942171]\t 1.0191191433145619\t 0.7030341396346454\t 4.783569065919055\t 4.614444730751924\n",
            "\u001b[1m\u001b[92m15\u001b[0m\t \u001b[1m\u001b[92m[ 2.12619764  8.93463468 12.          0.77271642  1.          0.97600614]\u001b[0m\t \u001b[1m\u001b[92m0.6755768230492677\u001b[0m\t \u001b[1m\u001b[92m0.6755768230492677\u001b[0m\t \u001b[1m\u001b[92m5.0341453820512365\u001b[0m\t \u001b[1m\u001b[92m4.950994731866236\u001b[0m\n",
            "16 \t [ 5.54939976  0.19185024 13.          0.76589321  7.          0.24489209]\t 1.0200364441972856\t 0.6755768230492677\t 4.8923833837508655\t 4.783498604885708\n",
            "17 \t [ 4.34521215  5.28934175 10.          0.70701942 19.          0.12854445]\t 1.0162103828928835\t 0.6755768230492677\t 4.5534793389003205\t 4.5534793389003205\n",
            "18 \t [ 9.95511956  7.60041193  6.          0.68015183 19.          0.83239317]\t 0.709906904841392\t 0.6755768230492677\t 5.124298871433126\t 5.003842060064608\n",
            "19 \t [ 2.76696568  4.32638207 10.          0.69065092 10.          0.32928339]\t 0.8606879483167145\t 0.6755768230492677\t 5.11712392866769\t 5.11712392866769\n",
            "20 \t [ 6.29422274  0.33190252 10.          0.79417079 15.          0.49996939]\t 0.7404429116901219\t 0.6755768230492677\t 4.9858109789012826\t 4.994979528125169\n",
            "21 \t [ 9.95530246  5.50525097  9.          0.72320589 18.          0.9960274 ]\t 0.679119846341469\t 0.6755768230492677\t 4.7956185998339835\t 4.794235000162185\n",
            "22 \t [ 2.60768732  9.91933042 11.          0.69532366 12.          0.51088157]\t 0.7131407042423596\t 0.6755768230492677\t 4.825738962453172\t 4.826730734894457\n",
            "23 \t [1.60895472e-01 8.27074864e-03 1.30000000e+01 6.91893018e-01\n",
            " 5.00000000e+00 4.60327119e-01]\t 0.7458028061131368\t 0.6755768230492677\t 4.656360352100458\t 4.751411023221039\n",
            "\u001b[1m\u001b[92m24\u001b[0m\t \u001b[1m\u001b[92m[ 9.38912369  9.90171967 12.          0.61591012 19.          0.76327492]\u001b[0m\t \u001b[1m\u001b[92m0.6691521602841723\u001b[0m\t \u001b[1m\u001b[92m0.6691521602841723\u001b[0m\t \u001b[1m\u001b[92m5.013230763096823\u001b[0m\t \u001b[1m\u001b[92m5.032758162699167\u001b[0m\n",
            "25 \t [3.50392351 6.35497601 9.         0.51577921 5.         0.45370698]\t 0.7487322203145116\t 0.6691521602841723\t 4.859377919004865\t 4.859377919004865\n",
            "26 \t [ 3.26806392  8.03852835 12.          0.60354247 16.          0.69840157]\t 0.7108432598487722\t 0.6691521602841723\t 5.021399280874591\t 5.021399280874591\n",
            "27 \t [ 1.56204295  7.22226414  7.          0.60623869 14.          0.4680562 ]\t 0.7555703250463353\t 0.6691521602841723\t 4.7848648880774265\t 4.860367198038647\n",
            "28 \t [8.3735996  5.34104024 8.         0.56456303 7.         0.59553385]\t 0.7245806620781778\t 0.6691521602841723\t 4.67044103002946\t 4.665096593616267\n",
            "29 \t [ 6.19086368  8.47911079  6.          0.770382   12.          0.93751062]\t 0.7131420295812025\t 0.6691521602841723\t 4.657363528193773\t 4.657363528193773\n",
            "30 \t [3.55854994 9.98564885 9.         0.6576158  5.         0.90577361]\t 0.6789276544602764\t 0.6691521602841723\t 4.479817201172116\t 4.4731463100535915\n"
          ]
        },
        {
          "output_type": "execute_result",
          "data": {
            "text/plain": [
              "49909.73074278121"
            ]
          },
          "metadata": {},
          "execution_count": 62
        }
      ]
    },
    {
      "cell_type": "code",
      "metadata": {
        "id": "NvkuHKlQuxRy",
        "colab": {
          "base_uri": "https://localhost:8080/"
        },
        "outputId": "7366fc97-fe93-45fb-8fb4-974bee482be8"
      },
      "source": [
        "### Bayesian optimization runs (x20): 'Exact STP CBM' Acquisition Function run number = 20 \n",
        "\n",
        "np.random.seed(run_num_20)\n",
        "surrogate_stp_20 = dtStudentProcess(cov_func, optimize=opt, nu = df)\n",
        "\n",
        "X_train20, X_test20, y_train20, y_test20 = train_test_split(X, y, test_size=test_perc, random_state=run_num_20)\n",
        "\n",
        "def f_syn_polarity20(alpha, gamma, max_depth, subsample, min_child_weight, colsample):\n",
        "    reg = XGBRegressor(reg_alpha=alpha, gamma=gamma, max_depth=int(max_depth), subsample=subsample, min_child_weight=min_child_weight,\n",
        "          colsample_bytree=colsample, n_estimators = n_est, random_state=run_num_20, objective = 'reg:squarederror')\n",
        "    score = np.array(cross_val_score(reg, X=X_train20, y=y_train20).mean())\n",
        "    return operator * score\n",
        "\n",
        "stp_20 = dGPGO_stp(surrogate_stp_20, Acquisition_grad(util_stp), f_syn_polarity20, param, n_jobs = -1) # Define BayesOpt\n",
        "stp_20.run(max_iter = max_iter, init_evals = n_init) # run\n",
        "\n",
        "### Return optimal parameters' set:\n",
        "params_stp_20 = stp_20.getResult()[0]\n",
        "params_stp_20['max_depth'] = int(params_stp_20['max_depth'])\n",
        "params_stp_20['min_child_weight'] = int(params_stp_20['min_child_weight'])\n",
        "\n",
        "### Re-train with optimal parameters, run predictons:\n",
        "dX_stp_train20 = xgb.DMatrix(X_train20, y_train20)\n",
        "dX_stp_test20 = xgb.DMatrix(X_test20, y_test20)\n",
        "model_stp_20 = xgb.train(params_stp_20, dX_stp_train20)\n",
        "pred_stp_20 = model_stp_20.predict(dX_stp_test20)\n",
        "\n",
        "rmse_stp_20 = np.sqrt(mean_squared_error(pred_stp_20, y_test20))\n",
        "rmse_stp_20"
      ],
      "execution_count": null,
      "outputs": [
        {
          "output_type": "stream",
          "name": "stdout",
          "text": [
            "Evaluation \t Proposed point \t  Current eval. \t  Best eval. \t        Exact CBM: StdDev. x \t Approx CBM: StdDev. x \n",
            "init\t [ 5.88130801  8.97713728 14.          0.81074445  8.          0.95540649]\t 0.6597299542050263\t 0.6597299542050263\t    \t    \n",
            "init\t [6.72865655 0.41173329 8.         0.6361582  7.         0.76174061]\t 0.6983733363249625\t 0.6597299542050263\t    \t    \n",
            "init\t [ 4.77387703  8.66202323 10.          0.51833215  7.          0.10123387]\t 1.0633118913318171\t 0.6597299542050263\t    \t    \n",
            "init\t [ 5.75489985  4.74524381  8.          0.78084343 15.          0.26643049]\t 0.8790653027854468\t 0.6597299542050263\t    \t    \n",
            "init\t [ 4.53444     4.47342833  8.          0.91974896 18.          0.35997552]\t 0.8778581695963045\t 0.6597299542050263\t    \t    \n",
            "1  \t [ 7.96566073  7.15509535  7.          0.79906691 11.          0.34132075]\t 0.8825953654337161\t 0.6597299542050263\t 4.876693171082517\t 4.876693171082517\n",
            "2  \t [ 1.72798052  9.03285612 13.          0.50351094 19.          0.11416888]\t 1.0635732061044851\t 0.6597299542050263\t 4.700791615861461\t 4.707184221580863\n",
            "3  \t [ 1.96661701  1.73294312 11.          0.93201699  1.          0.60463107]\t 0.7502219040814293\t 0.6597299542050263\t 4.8033419406357645\t 4.658096746659045\n",
            "4  \t [1.41824857 5.09758018 5.         0.56802833 5.         0.75704697]\t 0.7367139517682284\t 0.6597299542050263\t 4.9516962912787665\t 4.968969483770265\n",
            "5  \t [ 0.41794531  1.88324969 13.          0.88408406 13.          0.43578884]\t 0.8006234291185196\t 0.6597299542050263\t 4.8691080621600715\t 4.884961414011665\n",
            "6  \t [ 9.80686472  1.37296982 14.          0.9100959  10.          0.1681724 ]\t 1.058727127460609\t 0.6597299542050263\t 5.0515664164818785\t 5.008576644271621\n",
            "7  \t [ 9.82409087  4.45469949 11.          0.53160513  4.          0.66763423]\t 0.703165388931625\t 0.6597299542050263\t 4.558879481336314\t 4.560862639158891\n",
            "\u001b[1m\u001b[92m8\u001b[0m\t \u001b[1m\u001b[92m[ 9.3078326 10.        15.         1.        20.         1.       ]\u001b[0m\t \u001b[1m\u001b[92m0.6408926751525865\u001b[0m\t \u001b[1m\u001b[92m0.6408926751525865\u001b[0m\t \u001b[1m\u001b[92m5.168437377044754\u001b[0m\t \u001b[1m\u001b[92m5.068437184562432\u001b[0m\n",
            "9  \t [1.40842154 7.81898154 9.         0.57297042 1.         0.11610409]\t 1.0651952678837315\t 0.6408926751525865\t 4.719123640734686\t 4.705449820741208\n",
            "10 \t [8.51004072 7.2917763  5.         0.96135496 1.         0.57493956]\t 0.8036859734991779\t 0.6408926751525865\t 4.7642687393462255\t 4.758938849073346\n",
            "11 \t [ 9.3606342   3.21248061 14.          0.65614013 17.          0.10926152]\t 1.0624486911635314\t 0.6408926751525865\t 5.095470991412755\t 5.069575005629249\n",
            "12 \t [ 6.27900589  9.12764923  5.          0.84263312 18.          0.79256191]\t 0.730579912896863\t 0.6408926751525865\t 5.244167580075902\t 5.132230834230244\n",
            "13 \t [6.3101326  8.61804899 7.         0.66826014 6.         0.89905701]\t 0.6870759519223828\t 0.6408926751525865\t 5.159908400377343\t 5.159908400377343\n",
            "14 \t [ 0.30329279  8.44985963 11.          0.88949602 12.          0.98063814]\t 0.6581410006205839\t 0.6408926751525865\t 4.882690559031102\t 4.918250771082615\n",
            "15 \t [ 3.5266353   3.62825369 14.          0.9501826  16.          0.91321928]\t 0.6526439057061743\t 0.6408926751525865\t 4.889966056511159\t 4.90547715440797\n",
            "16 \t [1.51752921 8.74454394 5.         0.58818521 9.         0.96193229]\t 0.726853528653156\t 0.6408926751525865\t 4.861993034562134\t 4.935783955861483\n",
            "17 \t [8.4112622  6.61129193 7.         0.60328014 5.         0.90260887]\t 0.6916923925215309\t 0.6408926751525865\t 4.7536798079549385\t 4.7536798079549385\n",
            "18 \t [ 7.12036371  2.07341345  8.          0.8344432  12.          0.81503216]\t 0.6925988539602622\t 0.6408926751525865\t 4.868291370677105\t 4.868291544297936\n",
            "19 \t [4.83067255 2.19904639 7.         0.5680519  3.         0.59514532]\t 0.7720408244337518\t 0.6408926751525865\t 4.580848023992031\t 4.574698585554167\n",
            "20 \t [ 5.3866253   1.98558863 14.          0.93996594  6.          0.18524928]\t 1.0595101751758718\t 0.6408926751525865\t 4.49355013001565\t 4.435973039378884\n",
            "21 \t [ 7.41954815  2.80862624  9.          0.85591029 17.          0.3641919 ]\t 0.8784158308955667\t 0.6408926751525865\t 5.098838376546552\t 5.098838376546552\n",
            "22 \t [ 1.71952995  4.4925773  14.          0.76008669  5.          0.56223045]\t 0.7522330435679732\t 0.6408926751525865\t 4.696923171966011\t 4.698660647955299\n",
            "23 \t [ 5.86852957  9.2552543  14.          0.74343957 14.          0.26209686]\t 0.8830540745289366\t 0.6408926751525865\t 4.79763992422455\t 4.8789628535504415\n",
            "24 \t [ 1.96869013  7.00264368 10.          0.79233192  3.          0.8133863 ]\t 0.6902699854328027\t 0.6408926751525865\t 4.507563351498553\t 4.507563351498553\n",
            "25 \t [0.         0.55042088 5.         0.5        9.83400077 0.1       ]\t 1.0673951734730103\t 0.6408926751525865\t 4.825735218419685\t 4.8496834562953905\n",
            "26 \t [ 8.41587592  4.63136717 11.          0.99322381 16.          0.53340451]\t 0.7422712401342008\t 0.6408926751525865\t 4.812890764577131\t 4.812890764577131\n",
            "27 \t [0.  0.  5.  0.5 1.  0.1]\t 1.0679096170180373\t 0.6408926751525865\t 5.143570947379255\t 5.138143806975415\n",
            "28 \t [ 5.02199529  8.17608785 14.          0.82123354 16.          0.12042445]\t 1.0600568728235613\t 0.6408926751525865\t 5.054489060764614\t 5.054489060764614\n",
            "29 \t [ 0.39565672  8.50724472  5.          0.74462587 17.          0.73375146]\t 0.7368138593297264\t 0.6408926751525865\t 5.040175069433936\t 5.218080194453639\n",
            "30 \t [ 1.60661165  0.80083299  7.          0.86256396 18.          0.24826278]\t 1.059862568161305\t 0.6408926751525865\t 5.334246164187545\t 5.150765764293998\n"
          ]
        },
        {
          "output_type": "execute_result",
          "data": {
            "text/plain": [
              "49345.03933994111"
            ]
          },
          "metadata": {},
          "execution_count": 63
        }
      ]
    },
    {
      "cell_type": "code",
      "metadata": {
        "id": "KFKuwvS3uzrs",
        "colab": {
          "base_uri": "https://localhost:8080/"
        },
        "outputId": "3720fdc9-1324-4908-8f53-ac8d8c9d46af"
      },
      "source": [
        "end_stp = time.time()\n",
        "end_stp\n",
        "\n",
        "time_stp = end_stp - start_stp\n",
        "time_stp"
      ],
      "execution_count": null,
      "outputs": [
        {
          "output_type": "execute_result",
          "data": {
            "text/plain": [
              "1426.125387430191"
            ]
          },
          "metadata": {},
          "execution_count": 64
        }
      ]
    },
    {
      "cell_type": "code",
      "metadata": {
        "id": "CU2FlhY4vHUk",
        "colab": {
          "base_uri": "https://localhost:8080/"
        },
        "outputId": "7c7aa21c-6533-4d06-869f-2722f410e46f"
      },
      "source": [
        "rmse_gp = [rmse_gp_1,\n",
        "rmse_gp_2,\n",
        "rmse_gp_3,\n",
        "rmse_gp_4,\n",
        "rmse_gp_5,\n",
        "rmse_gp_6,\n",
        "rmse_gp_7,\n",
        "rmse_gp_8,\n",
        "rmse_gp_9,\n",
        "rmse_gp_10,\n",
        "rmse_gp_11,\n",
        "rmse_gp_12,\n",
        "rmse_gp_13,\n",
        "rmse_gp_14,\n",
        "rmse_gp_15,\n",
        "rmse_gp_16,\n",
        "rmse_gp_17,\n",
        "rmse_gp_18,\n",
        "rmse_gp_19,\n",
        "rmse_gp_20]\n",
        "\n",
        "np.mean(rmse_gp)"
      ],
      "execution_count": null,
      "outputs": [
        {
          "output_type": "execute_result",
          "data": {
            "text/plain": [
              "49301.90022728853"
            ]
          },
          "metadata": {},
          "execution_count": 65
        }
      ]
    },
    {
      "cell_type": "code",
      "metadata": {
        "id": "iZ53FsWXu3J1",
        "colab": {
          "base_uri": "https://localhost:8080/"
        },
        "outputId": "f78c9ef4-d70a-4668-989c-196780e5f0f3"
      },
      "source": [
        "rmse_stp = [rmse_stp_1,\n",
        "rmse_stp_2,\n",
        "rmse_stp_3,\n",
        "rmse_stp_4,\n",
        "rmse_stp_5,\n",
        "rmse_stp_6,\n",
        "rmse_stp_7,\n",
        "rmse_stp_8,\n",
        "rmse_stp_9,\n",
        "rmse_stp_10,\n",
        "rmse_stp_11,\n",
        "rmse_stp_12,\n",
        "rmse_stp_13,\n",
        "rmse_stp_14,\n",
        "rmse_stp_15,\n",
        "rmse_stp_16,\n",
        "rmse_stp_17,\n",
        "rmse_stp_18,\n",
        "rmse_stp_19,\n",
        "rmse_stp_20]\n",
        "\n",
        "np.mean(rmse_stp)"
      ],
      "execution_count": null,
      "outputs": [
        {
          "output_type": "execute_result",
          "data": {
            "text/plain": [
              "49381.9013991659"
            ]
          },
          "metadata": {},
          "execution_count": 66
        }
      ]
    },
    {
      "cell_type": "code",
      "metadata": {
        "id": "a9FOyoH8u5Wx",
        "colab": {
          "base_uri": "https://localhost:8080/"
        },
        "outputId": "b8fab44a-6151-4ced-ab2e-d998ee1ba7d6"
      },
      "source": [
        "min_rmse_gp = min_max_array(rmse_gp)\n",
        "min_rmse_gp, len(min_rmse_gp)"
      ],
      "execution_count": null,
      "outputs": [
        {
          "output_type": "execute_result",
          "data": {
            "text/plain": [
              "([46668.8273192029,\n",
              "  46668.8273192029,\n",
              "  46668.8273192029,\n",
              "  46668.8273192029,\n",
              "  46668.8273192029,\n",
              "  46668.8273192029,\n",
              "  46668.8273192029,\n",
              "  46668.8273192029,\n",
              "  46668.8273192029,\n",
              "  46668.8273192029,\n",
              "  46668.8273192029,\n",
              "  46668.8273192029,\n",
              "  46668.8273192029,\n",
              "  46668.8273192029,\n",
              "  46668.8273192029,\n",
              "  46668.8273192029,\n",
              "  46668.8273192029,\n",
              "  46668.8273192029,\n",
              "  46668.8273192029,\n",
              "  46668.8273192029],\n",
              " 20)"
            ]
          },
          "metadata": {},
          "execution_count": 67
        }
      ]
    },
    {
      "cell_type": "code",
      "metadata": {
        "id": "unXOpKHcvO15",
        "colab": {
          "base_uri": "https://localhost:8080/"
        },
        "outputId": "fc197153-62b8-4713-f17c-a344f9f79cfa"
      },
      "source": [
        "min_rmse_stp = min_max_array(rmse_stp)\n",
        "min_rmse_stp, len(min_rmse_stp)"
      ],
      "execution_count": null,
      "outputs": [
        {
          "output_type": "execute_result",
          "data": {
            "text/plain": [
              "([47321.8408099896,\n",
              "  47321.8408099896,\n",
              "  47321.8408099896,\n",
              "  47321.8408099896,\n",
              "  47321.8408099896,\n",
              "  46832.22443034189,\n",
              "  46832.22443034189,\n",
              "  46832.22443034189,\n",
              "  46832.22443034189,\n",
              "  46832.22443034189,\n",
              "  46832.22443034189,\n",
              "  46832.22443034189,\n",
              "  46832.22443034189,\n",
              "  46832.22443034189,\n",
              "  46832.22443034189,\n",
              "  46832.22443034189,\n",
              "  46832.22443034189,\n",
              "  46832.22443034189,\n",
              "  46832.22443034189,\n",
              "  46832.22443034189],\n",
              " 20)"
            ]
          },
          "metadata": {},
          "execution_count": 68
        }
      ]
    },
    {
      "cell_type": "code",
      "metadata": {
        "id": "Yxo85-HEvRPi",
        "colab": {
          "base_uri": "https://localhost:8080/",
          "height": 292
        },
        "outputId": "a7de261d-dc95-4776-bb14-9daef351b758"
      },
      "source": [
        "### Visualise!\n",
        "\n",
        "title = obj_func\n",
        "plt.figure()\n",
        "\n",
        "plt.plot(min_rmse_stp, color = 'Orange', label='RMSE: Exact STP dCBM gradients', ls='--')# r'($\\nu$' ' = {})'.format(df))\n",
        "plt.plot(min_rmse_gp, color = 'Orange', label='RMSE: Exact GP dCBM gradients')\n",
        "\n",
        "plt.title(title, weight = 'bold', family = 'Arial')\n",
        "plt.xlabel('Experiment(s)', weight = 'bold', family = 'Arial') # x-axis label\n",
        "plt.ylabel('RMSE (US Dollars $)', weight = 'bold', family = 'Arial') # y-axis label\n",
        "plt.legend(loc=0) # add plot legend\n",
        "\n",
        "### Make the x-ticks integers, not floats:\n",
        "count = len(min_rmse_gp)\n",
        "plt.xticks(np.arange(count), np.arange(1, count + 1))\n",
        "plt.grid(b=None)\n",
        "plt.show() #visualize!\n"
      ],
      "execution_count": null,
      "outputs": [
        {
          "output_type": "display_data",
          "data": {
            "text/plain": [
              "<Figure size 432x288 with 1 Axes>"
            ],
            "image/png": "[encoded data removed]"
          },
          "metadata": {}
        }
      ]
    },
    {
      "cell_type": "code",
      "metadata": {
        "id": "AwyO7_iZvT7a",
        "colab": {
          "base_uri": "https://localhost:8080/"
        },
        "outputId": "b8179087-9136-4a02-912b-744edd61496d"
      },
      "source": [
        "time_gp, time_stp\n"
      ],
      "execution_count": null,
      "outputs": [
        {
          "output_type": "execute_result",
          "data": {
            "text/plain": [
              "(1945.847018957138, 1426.125387430191)"
            ]
          },
          "metadata": {},
          "execution_count": 70
        }
      ]
    },
    {
      "cell_type": "code",
      "metadata": {
        "id": "aHLA-0DnVXxD",
        "colab": {
          "base_uri": "https://localhost:8080/"
        },
        "outputId": "7098765f-8306-4e6d-eb76-07fca73e2dc0"
      },
      "source": [
        "min(min_rmse_stp), min(min_rmse_gp)\n"
      ],
      "execution_count": null,
      "outputs": [
        {
          "output_type": "execute_result",
          "data": {
            "text/plain": [
              "(46832.22443034189, 46668.8273192029)"
            ]
          },
          "metadata": {},
          "execution_count": 71
        }
      ]
    },
    {
      "cell_type": "code",
      "metadata": {
        "id": "-iUNBRy3W0GY"
      },
      "source": [],
      "execution_count": null,
      "outputs": []
    }
  ]
}