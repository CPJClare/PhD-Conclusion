{
  "nbformat": 4,
  "nbformat_minor": 0,
  "metadata": {
    "colab": {
      "provenance": [],
      "collapsed_sections": []
    },
    "kernelspec": {
      "name": "python3",
      "display_name": "Python 3"
    }
  },
  "cells": [
    {
      "cell_type": "markdown",
      "metadata": {
        "id": "W9wHutsqZUcn"
      },
      "source": [
        "XGBoost Regression - 'real-world' example: Californian Housing Dataset\n",
        "\n",
        "https://scikit-learn.org/stable/datasets/real_world.html#california-housing-dataset"
      ]
    },
    {
      "cell_type": "code",
      "metadata": {
        "id": "X-0Pe1i4Z2R_",
        "colab": {
          "base_uri": "https://localhost:8080/"
        },
        "outputId": "5a714fa5-4c3f-4bf7-c94f-ba0884167a84"
      },
      "source": [
        "!pip install pyGPGO"
      ],
      "execution_count": null,
      "outputs": [
        {
          "output_type": "stream",
          "name": "stdout",
          "text": [
            "Looking in indexes: https://pypi.org/simple, https://us-python.pkg.dev/colab-wheels/public/simple/\n",
            "Requirement already satisfied: pyGPGO in /usr/local/lib/python3.7/dist-packages (0.5.1)\n",
            "Requirement already satisfied: scipy in /usr/local/lib/python3.7/dist-packages (from pyGPGO) (1.7.3)\n",
            "Requirement already satisfied: Theano-PyMC in /usr/local/lib/python3.7/dist-packages (from pyGPGO) (1.1.2)\n",
            "Requirement already satisfied: joblib in /usr/local/lib/python3.7/dist-packages (from pyGPGO) (1.1.0)\n",
            "Requirement already satisfied: pyMC3 in /usr/local/lib/python3.7/dist-packages (from pyGPGO) (3.11.5)\n",
            "Requirement already satisfied: mkl in /usr/local/lib/python3.7/dist-packages (from pyGPGO) (2019.0)\n",
            "Requirement already satisfied: scikit-learn in /usr/local/lib/python3.7/dist-packages (from pyGPGO) (1.0.2)\n",
            "Requirement already satisfied: numpy in /usr/local/lib/python3.7/dist-packages (from pyGPGO) (1.21.6)\n",
            "Requirement already satisfied: intel-openmp in /usr/local/lib/python3.7/dist-packages (from mkl->pyGPGO) (2022.1.0)\n",
            "Requirement already satisfied: dill in /usr/local/lib/python3.7/dist-packages (from pyMC3->pyGPGO) (0.3.5.1)\n",
            "Requirement already satisfied: fastprogress>=0.2.0 in /usr/local/lib/python3.7/dist-packages (from pyMC3->pyGPGO) (1.0.3)\n",
            "Requirement already satisfied: deprecat in /usr/local/lib/python3.7/dist-packages (from pyMC3->pyGPGO) (2.1.1)\n",
            "Requirement already satisfied: arviz>=0.11.0 in /usr/local/lib/python3.7/dist-packages (from pyMC3->pyGPGO) (0.12.1)\n",
            "Requirement already satisfied: semver>=2.13.0 in /usr/local/lib/python3.7/dist-packages (from pyMC3->pyGPGO) (2.13.0)\n",
            "Requirement already satisfied: cachetools>=4.2.1 in /usr/local/lib/python3.7/dist-packages (from pyMC3->pyGPGO) (4.2.4)\n",
            "Requirement already satisfied: patsy>=0.5.1 in /usr/local/lib/python3.7/dist-packages (from pyMC3->pyGPGO) (0.5.2)\n",
            "Requirement already satisfied: typing-extensions>=3.7.4 in /usr/local/lib/python3.7/dist-packages (from pyMC3->pyGPGO) (4.1.1)\n",
            "Requirement already satisfied: pandas>=0.24.0 in /usr/local/lib/python3.7/dist-packages (from pyMC3->pyGPGO) (1.3.5)\n",
            "Requirement already satisfied: filelock in /usr/local/lib/python3.7/dist-packages (from Theano-PyMC->pyGPGO) (3.8.0)\n",
            "Requirement already satisfied: xarray>=0.16.1 in /usr/local/lib/python3.7/dist-packages (from arviz>=0.11.0->pyMC3->pyGPGO) (0.20.2)\n",
            "Requirement already satisfied: packaging in /usr/local/lib/python3.7/dist-packages (from arviz>=0.11.0->pyMC3->pyGPGO) (21.3)\n",
            "Requirement already satisfied: setuptools>=38.4 in /usr/local/lib/python3.7/dist-packages (from arviz>=0.11.0->pyMC3->pyGPGO) (57.4.0)\n",
            "Requirement already satisfied: matplotlib>=3.0 in /usr/local/lib/python3.7/dist-packages (from arviz>=0.11.0->pyMC3->pyGPGO) (3.2.2)\n",
            "Requirement already satisfied: xarray-einstats>=0.2 in /usr/local/lib/python3.7/dist-packages (from arviz>=0.11.0->pyMC3->pyGPGO) (0.2.2)\n",
            "Requirement already satisfied: netcdf4 in /usr/local/lib/python3.7/dist-packages (from arviz>=0.11.0->pyMC3->pyGPGO) (1.6.0)\n",
            "Requirement already satisfied: pyparsing!=2.0.4,!=2.1.2,!=2.1.6,>=2.0.1 in /usr/local/lib/python3.7/dist-packages (from matplotlib>=3.0->arviz>=0.11.0->pyMC3->pyGPGO) (3.0.9)\n",
            "Requirement already satisfied: cycler>=0.10 in /usr/local/lib/python3.7/dist-packages (from matplotlib>=3.0->arviz>=0.11.0->pyMC3->pyGPGO) (0.11.0)\n",
            "Requirement already satisfied: python-dateutil>=2.1 in /usr/local/lib/python3.7/dist-packages (from matplotlib>=3.0->arviz>=0.11.0->pyMC3->pyGPGO) (2.8.2)\n",
            "Requirement already satisfied: kiwisolver>=1.0.1 in /usr/local/lib/python3.7/dist-packages (from matplotlib>=3.0->arviz>=0.11.0->pyMC3->pyGPGO) (1.4.4)\n",
            "Requirement already satisfied: pytz>=2017.3 in /usr/local/lib/python3.7/dist-packages (from pandas>=0.24.0->pyMC3->pyGPGO) (2022.2.1)\n",
            "Requirement already satisfied: six in /usr/local/lib/python3.7/dist-packages (from patsy>=0.5.1->pyMC3->pyGPGO) (1.15.0)\n",
            "Requirement already satisfied: importlib-metadata in /usr/local/lib/python3.7/dist-packages (from xarray>=0.16.1->arviz>=0.11.0->pyMC3->pyGPGO) (4.12.0)\n",
            "Requirement already satisfied: wrapt<2,>=1.10 in /usr/local/lib/python3.7/dist-packages (from deprecat->pyMC3->pyGPGO) (1.14.1)\n",
            "Requirement already satisfied: zipp>=0.5 in /usr/local/lib/python3.7/dist-packages (from importlib-metadata->xarray>=0.16.1->arviz>=0.11.0->pyMC3->pyGPGO) (3.8.1)\n",
            "Requirement already satisfied: cftime in /usr/local/lib/python3.7/dist-packages (from netcdf4->arviz>=0.11.0->pyMC3->pyGPGO) (1.6.1)\n",
            "Requirement already satisfied: threadpoolctl>=2.0.0 in /usr/local/lib/python3.7/dist-packages (from scikit-learn->pyGPGO) (3.1.0)\n"
          ]
        }
      ]
    },
    {
      "cell_type": "code",
      "metadata": {
        "id": "W7zDTf1naBsH"
      },
      "source": [
        "# Load some default Python modules:\n",
        "\n",
        "import numpy as np\n",
        "import scipy as sp\n",
        "import pandas as pd\n",
        "import matplotlib.pyplot as plt\n",
        "import xgboost as xgb\n",
        "import time\n",
        "\n",
        "from matplotlib.pyplot import rc\n",
        "rc('font',**{'family':'sans-serif','sans-serif':['Helvetica']})\n",
        "rc('text', usetex=False)\n",
        "import seaborn as sns\n",
        "plt.style.use('seaborn-whitegrid')\n",
        "\n",
        "from collections import OrderedDict\n",
        "from joblib import Parallel, delayed\n",
        "from numpy.linalg import slogdet, inv, cholesky, solve\n",
        "from scipy.optimize import minimize\n",
        "from scipy.spatial.distance import cdist\n",
        "from scipy.special import gamma\n",
        "from scipy.stats import norm, t\n",
        "from joblib import Parallel, delayed\n",
        "import itertools\n",
        "\n",
        "from pyGPGO.logger import EventLogger\n",
        "from pyGPGO.GPGO import GPGO\n",
        "from pyGPGO.surrogates.GaussianProcess import GaussianProcess\n",
        "from pyGPGO.surrogates.tStudentProcess import tStudentProcess\n",
        "from pyGPGO.acquisition import Acquisition\n",
        "from pyGPGO.covfunc import squaredExponential\n",
        "from sklearn.model_selection import cross_val_score, train_test_split\n",
        "from sklearn.metrics import mean_squared_error\n",
        "from xgboost import XGBRegressor\n",
        "from pandas_datareader import data\n",
        "\n",
        "import warnings\n",
        "import random\n",
        "warnings.filterwarnings(\"ignore\", category=FutureWarning)\n",
        "warnings.filterwarnings(\"ignore\", category=RuntimeWarning)\n",
        "warnings.filterwarnings(\"ignore\", category=UserWarning)"
      ],
      "execution_count": null,
      "outputs": []
    },
    {
      "cell_type": "code",
      "metadata": {
        "id": "VXicekJhaE0P"
      },
      "source": [
        "# Read data in pandas dataframe:\n",
        "df_train =  pd.read_csv('/content/sample_data/california_housing_train.csv')\n"
      ],
      "execution_count": null,
      "outputs": []
    },
    {
      "cell_type": "code",
      "metadata": {
        "id": "YQ0mDzt_cBmw",
        "colab": {
          "base_uri": "https://localhost:8080/",
          "height": 270
        },
        "outputId": "dcbbcabe-64e4-4b47-d915-496358e0203f"
      },
      "source": [
        "# List first rows:\n",
        "\n",
        "df_train.head()"
      ],
      "execution_count": null,
      "outputs": [
        {
          "output_type": "execute_result",
          "data": {
            "text/plain": [
              "   longitude  latitude  housing_median_age  total_rooms  total_bedrooms  \\\n",
              "0    -114.31     34.19                15.0       5612.0          1283.0   \n",
              "1    -114.47     34.40                19.0       7650.0          1901.0   \n",
              "2    -114.56     33.69                17.0        720.0           174.0   \n",
              "3    -114.57     33.64                14.0       1501.0           337.0   \n",
              "4    -114.57     33.57                20.0       1454.0           326.0   \n",
              "\n",
              "   population  households  median_income  median_house_value  \n",
              "0      1015.0       472.0         1.4936             66900.0  \n",
              "1      1129.0       463.0         1.8200             80100.0  \n",
              "2       333.0       117.0         1.6509             85700.0  \n",
              "3       515.0       226.0         3.1917             73400.0  \n",
              "4       624.0       262.0         1.9250             65500.0  "
            ],
            "text/html": [
              "\n",
              "  <div id=\"df-0d5c11e3-c3d2-420c-bb77-a4999553b645\">\n",
              "    <div class=\"colab-df-container\">\n",
              "      <div>\n",
              "<style scoped>\n",
              "    .dataframe tbody tr th:only-of-type {\n",
              "        vertical-align: middle;\n",
              "    }\n",
              "\n",
              "    .dataframe tbody tr th {\n",
              "        vertical-align: top;\n",
              "    }\n",
              "\n",
              "    .dataframe thead th {\n",
              "        text-align: right;\n",
              "    }\n",
              "</style>\n",
              "<table border=\"1\" class=\"dataframe\">\n",
              "  <thead>\n",
              "    <tr style=\"text-align: right;\">\n",
              "      <th></th>\n",
              "      <th>longitude</th>\n",
              "      <th>latitude</th>\n",
              "      <th>housing_median_age</th>\n",
              "      <th>total_rooms</th>\n",
              "      <th>total_bedrooms</th>\n",
              "      <th>population</th>\n",
              "      <th>households</th>\n",
              "      <th>median_income</th>\n",
              "      <th>median_house_value</th>\n",
              "    </tr>\n",
              "  </thead>\n",
              "  <tbody>\n",
              "    <tr>\n",
              "      <th>0</th>\n",
              "      <td>-114.31</td>\n",
              "      <td>34.19</td>\n",
              "      <td>15.0</td>\n",
              "      <td>5612.0</td>\n",
              "      <td>1283.0</td>\n",
              "      <td>1015.0</td>\n",
              "      <td>472.0</td>\n",
              "      <td>1.4936</td>\n",
              "      <td>66900.0</td>\n",
              "    </tr>\n",
              "    <tr>\n",
              "      <th>1</th>\n",
              "      <td>-114.47</td>\n",
              "      <td>34.40</td>\n",
              "      <td>19.0</td>\n",
              "      <td>7650.0</td>\n",
              "      <td>1901.0</td>\n",
              "      <td>1129.0</td>\n",
              "      <td>463.0</td>\n",
              "      <td>1.8200</td>\n",
              "      <td>80100.0</td>\n",
              "    </tr>\n",
              "    <tr>\n",
              "      <th>2</th>\n",
              "      <td>-114.56</td>\n",
              "      <td>33.69</td>\n",
              "      <td>17.0</td>\n",
              "      <td>720.0</td>\n",
              "      <td>174.0</td>\n",
              "      <td>333.0</td>\n",
              "      <td>117.0</td>\n",
              "      <td>1.6509</td>\n",
              "      <td>85700.0</td>\n",
              "    </tr>\n",
              "    <tr>\n",
              "      <th>3</th>\n",
              "      <td>-114.57</td>\n",
              "      <td>33.64</td>\n",
              "      <td>14.0</td>\n",
              "      <td>1501.0</td>\n",
              "      <td>337.0</td>\n",
              "      <td>515.0</td>\n",
              "      <td>226.0</td>\n",
              "      <td>3.1917</td>\n",
              "      <td>73400.0</td>\n",
              "    </tr>\n",
              "    <tr>\n",
              "      <th>4</th>\n",
              "      <td>-114.57</td>\n",
              "      <td>33.57</td>\n",
              "      <td>20.0</td>\n",
              "      <td>1454.0</td>\n",
              "      <td>326.0</td>\n",
              "      <td>624.0</td>\n",
              "      <td>262.0</td>\n",
              "      <td>1.9250</td>\n",
              "      <td>65500.0</td>\n",
              "    </tr>\n",
              "  </tbody>\n",
              "</table>\n",
              "</div>\n",
              "      <button class=\"colab-df-convert\" onclick=\"convertToInteractive('df-0d5c11e3-c3d2-420c-bb77-a4999553b645')\"\n",
              "              title=\"Convert this dataframe to an interactive table.\"\n",
              "              style=\"display:none;\">\n",
              "        \n",
              "  <svg xmlns=\"http://www.w3.org/2000/svg\" height=\"24px\"viewBox=\"0 0 24 24\"\n",
              "       width=\"24px\">\n",
              "    <path d=\"M0 0h24v24H0V0z\" fill=\"none\"/>\n",
              "    <path d=\"M18.56 5.44l.94 2.06.94-2.06 2.06-.94-2.06-.94-.94-2.06-.94 2.06-2.06.94zm-11 1L8.5 8.5l.94-2.06 2.06-.94-2.06-.94L8.5 2.5l-.94 2.06-2.06.94zm10 10l.94 2.06.94-2.06 2.06-.94-2.06-.94-.94-2.06-.94 2.06-2.06.94z\"/><path d=\"M17.41 7.96l-1.37-1.37c-.4-.4-.92-.59-1.43-.59-.52 0-1.04.2-1.43.59L10.3 9.45l-7.72 7.72c-.78.78-.78 2.05 0 2.83L4 21.41c.39.39.9.59 1.41.59.51 0 1.02-.2 1.41-.59l7.78-7.78 2.81-2.81c.8-.78.8-2.07 0-2.86zM5.41 20L4 18.59l7.72-7.72 1.47 1.35L5.41 20z\"/>\n",
              "  </svg>\n",
              "      </button>\n",
              "      \n",
              "  <style>\n",
              "    .colab-df-container {\n",
              "      display:flex;\n",
              "      flex-wrap:wrap;\n",
              "      gap: 12px;\n",
              "    }\n",
              "\n",
              "    .colab-df-convert {\n",
              "      background-color: #E8F0FE;\n",
              "      border: none;\n",
              "      border-radius: 50%;\n",
              "      cursor: pointer;\n",
              "      display: none;\n",
              "      fill: #1967D2;\n",
              "      height: 32px;\n",
              "      padding: 0 0 0 0;\n",
              "      width: 32px;\n",
              "    }\n",
              "\n",
              "    .colab-df-convert:hover {\n",
              "      background-color: #E2EBFA;\n",
              "      box-shadow: 0px 1px 2px rgba(60, 64, 67, 0.3), 0px 1px 3px 1px rgba(60, 64, 67, 0.15);\n",
              "      fill: #174EA6;\n",
              "    }\n",
              "\n",
              "    [theme=dark] .colab-df-convert {\n",
              "      background-color: #3B4455;\n",
              "      fill: #D2E3FC;\n",
              "    }\n",
              "\n",
              "    [theme=dark] .colab-df-convert:hover {\n",
              "      background-color: #434B5C;\n",
              "      box-shadow: 0px 1px 3px 1px rgba(0, 0, 0, 0.15);\n",
              "      filter: drop-shadow(0px 1px 2px rgba(0, 0, 0, 0.3));\n",
              "      fill: #FFFFFF;\n",
              "    }\n",
              "  </style>\n",
              "\n",
              "      <script>\n",
              "        const buttonEl =\n",
              "          document.querySelector('#df-0d5c11e3-c3d2-420c-bb77-a4999553b645 button.colab-df-convert');\n",
              "        buttonEl.style.display =\n",
              "          google.colab.kernel.accessAllowed ? 'block' : 'none';\n",
              "\n",
              "        async function convertToInteractive(key) {\n",
              "          const element = document.querySelector('#df-0d5c11e3-c3d2-420c-bb77-a4999553b645');\n",
              "          const dataTable =\n",
              "            await google.colab.kernel.invokeFunction('convertToInteractive',\n",
              "                                                     [key], {});\n",
              "          if (!dataTable) return;\n",
              "\n",
              "          const docLinkHtml = 'Like what you see? Visit the ' +\n",
              "            '<a target=\"_blank\" href=https://colab.research.google.com/notebooks/data_table.ipynb>data table notebook</a>'\n",
              "            + ' to learn more about interactive tables.';\n",
              "          element.innerHTML = '';\n",
              "          dataTable['output_type'] = 'display_data';\n",
              "          await google.colab.output.renderOutput(dataTable, element);\n",
              "          const docLink = document.createElement('div');\n",
              "          docLink.innerHTML = docLinkHtml;\n",
              "          element.appendChild(docLink);\n",
              "        }\n",
              "      </script>\n",
              "    </div>\n",
              "  </div>\n",
              "  "
            ]
          },
          "metadata": {},
          "execution_count": 4
        }
      ]
    },
    {
      "cell_type": "code",
      "metadata": {
        "id": "KTVDAD2KchTv",
        "colab": {
          "base_uri": "https://localhost:8080/"
        },
        "outputId": "6d0bc4e7-b089-4b25-a3d7-9ba897d6f39d"
      },
      "source": [
        "# Remove missing data:\n",
        "\n",
        "df_train = df_train.dropna(how = 'any', axis = 'rows')\n",
        "print('New size: %d' % len(df_train))"
      ],
      "execution_count": null,
      "outputs": [
        {
          "output_type": "stream",
          "name": "stdout",
          "text": [
            "New size: 17000\n"
          ]
        }
      ]
    },
    {
      "cell_type": "code",
      "metadata": {
        "id": "OXgSHPyYcnuv",
        "colab": {
          "base_uri": "https://localhost:8080/",
          "height": 381
        },
        "outputId": "76f2660d-c62f-4721-90de-14da754597e2"
      },
      "source": [
        "# Histogram fare plot:\n",
        "\n",
        "df_train.median_house_value.hist(bins=100, figsize=(16,5), color = \"red\")\n",
        "plt.xlabel('$ US Dollars', weight = 'bold', family = 'Arial')\n",
        "plt.title('Median Californian House Price', weight = 'bold', family = 'Arial')\n",
        "plt.grid(b=None)"
      ],
      "execution_count": null,
      "outputs": [
        {
          "output_type": "stream",
          "name": "stderr",
          "text": [
            "WARNING:matplotlib.font_manager:findfont: Font family ['Arial'] not found. Falling back to DejaVu Sans.\n",
            "WARNING:matplotlib.font_manager:findfont: Font family ['Arial'] not found. Falling back to DejaVu Sans.\n"
          ]
        },
        {
          "output_type": "display_data",
          "data": {
            "text/plain": [
              "<Figure size 1152x360 with 1 Axes>"
            ],
            "image/png": "[encoded data removed]"
          },
          "metadata": {}
        }
      ]
    },
    {
      "cell_type": "code",
      "metadata": {
        "id": "9TMSdAAjcr4o",
        "colab": {
          "base_uri": "https://localhost:8080/"
        },
        "outputId": "64b9e111-e7a9-43f3-9f38-aa02bb983c6b"
      },
      "source": [
        "y = df_train.median_house_value.values + 1e-10\n",
        "y ### for supervised learning: output vector y"
      ],
      "execution_count": null,
      "outputs": [
        {
          "output_type": "execute_result",
          "data": {
            "text/plain": [
              "array([ 66900.,  80100.,  85700., ..., 103600.,  85800.,  94600.])"
            ]
          },
          "metadata": {},
          "execution_count": 7
        }
      ]
    },
    {
      "cell_type": "code",
      "metadata": {
        "id": "6FOeHvi3cu1n",
        "colab": {
          "base_uri": "https://localhost:8080/",
          "height": 270
        },
        "outputId": "3bc1a009-ea84-4668-a6ae-6e1158aa733e"
      },
      "source": [
        "# List first rows (post-cleaning):\n",
        "\n",
        "df_train.head()"
      ],
      "execution_count": null,
      "outputs": [
        {
          "output_type": "execute_result",
          "data": {
            "text/plain": [
              "   longitude  latitude  housing_median_age  total_rooms  total_bedrooms  \\\n",
              "0    -114.31     34.19                15.0       5612.0          1283.0   \n",
              "1    -114.47     34.40                19.0       7650.0          1901.0   \n",
              "2    -114.56     33.69                17.0        720.0           174.0   \n",
              "3    -114.57     33.64                14.0       1501.0           337.0   \n",
              "4    -114.57     33.57                20.0       1454.0           326.0   \n",
              "\n",
              "   population  households  median_income  median_house_value  \n",
              "0      1015.0       472.0         1.4936             66900.0  \n",
              "1      1129.0       463.0         1.8200             80100.0  \n",
              "2       333.0       117.0         1.6509             85700.0  \n",
              "3       515.0       226.0         3.1917             73400.0  \n",
              "4       624.0       262.0         1.9250             65500.0  "
            ],
            "text/html": [
              "\n",
              "  <div id=\"df-4cb435b2-c5fe-4e06-9b1b-dd1549ca1eda\">\n",
              "    <div class=\"colab-df-container\">\n",
              "      <div>\n",
              "<style scoped>\n",
              "    .dataframe tbody tr th:only-of-type {\n",
              "        vertical-align: middle;\n",
              "    }\n",
              "\n",
              "    .dataframe tbody tr th {\n",
              "        vertical-align: top;\n",
              "    }\n",
              "\n",
              "    .dataframe thead th {\n",
              "        text-align: right;\n",
              "    }\n",
              "</style>\n",
              "<table border=\"1\" class=\"dataframe\">\n",
              "  <thead>\n",
              "    <tr style=\"text-align: right;\">\n",
              "      <th></th>\n",
              "      <th>longitude</th>\n",
              "      <th>latitude</th>\n",
              "      <th>housing_median_age</th>\n",
              "      <th>total_rooms</th>\n",
              "      <th>total_bedrooms</th>\n",
              "      <th>population</th>\n",
              "      <th>households</th>\n",
              "      <th>median_income</th>\n",
              "      <th>median_house_value</th>\n",
              "    </tr>\n",
              "  </thead>\n",
              "  <tbody>\n",
              "    <tr>\n",
              "      <th>0</th>\n",
              "      <td>-114.31</td>\n",
              "      <td>34.19</td>\n",
              "      <td>15.0</td>\n",
              "      <td>5612.0</td>\n",
              "      <td>1283.0</td>\n",
              "      <td>1015.0</td>\n",
              "      <td>472.0</td>\n",
              "      <td>1.4936</td>\n",
              "      <td>66900.0</td>\n",
              "    </tr>\n",
              "    <tr>\n",
              "      <th>1</th>\n",
              "      <td>-114.47</td>\n",
              "      <td>34.40</td>\n",
              "      <td>19.0</td>\n",
              "      <td>7650.0</td>\n",
              "      <td>1901.0</td>\n",
              "      <td>1129.0</td>\n",
              "      <td>463.0</td>\n",
              "      <td>1.8200</td>\n",
              "      <td>80100.0</td>\n",
              "    </tr>\n",
              "    <tr>\n",
              "      <th>2</th>\n",
              "      <td>-114.56</td>\n",
              "      <td>33.69</td>\n",
              "      <td>17.0</td>\n",
              "      <td>720.0</td>\n",
              "      <td>174.0</td>\n",
              "      <td>333.0</td>\n",
              "      <td>117.0</td>\n",
              "      <td>1.6509</td>\n",
              "      <td>85700.0</td>\n",
              "    </tr>\n",
              "    <tr>\n",
              "      <th>3</th>\n",
              "      <td>-114.57</td>\n",
              "      <td>33.64</td>\n",
              "      <td>14.0</td>\n",
              "      <td>1501.0</td>\n",
              "      <td>337.0</td>\n",
              "      <td>515.0</td>\n",
              "      <td>226.0</td>\n",
              "      <td>3.1917</td>\n",
              "      <td>73400.0</td>\n",
              "    </tr>\n",
              "    <tr>\n",
              "      <th>4</th>\n",
              "      <td>-114.57</td>\n",
              "      <td>33.57</td>\n",
              "      <td>20.0</td>\n",
              "      <td>1454.0</td>\n",
              "      <td>326.0</td>\n",
              "      <td>624.0</td>\n",
              "      <td>262.0</td>\n",
              "      <td>1.9250</td>\n",
              "      <td>65500.0</td>\n",
              "    </tr>\n",
              "  </tbody>\n",
              "</table>\n",
              "</div>\n",
              "      <button class=\"colab-df-convert\" onclick=\"convertToInteractive('df-4cb435b2-c5fe-4e06-9b1b-dd1549ca1eda')\"\n",
              "              title=\"Convert this dataframe to an interactive table.\"\n",
              "              style=\"display:none;\">\n",
              "        \n",
              "  <svg xmlns=\"http://www.w3.org/2000/svg\" height=\"24px\"viewBox=\"0 0 24 24\"\n",
              "       width=\"24px\">\n",
              "    <path d=\"M0 0h24v24H0V0z\" fill=\"none\"/>\n",
              "    <path d=\"M18.56 5.44l.94 2.06.94-2.06 2.06-.94-2.06-.94-.94-2.06-.94 2.06-2.06.94zm-11 1L8.5 8.5l.94-2.06 2.06-.94-2.06-.94L8.5 2.5l-.94 2.06-2.06.94zm10 10l.94 2.06.94-2.06 2.06-.94-2.06-.94-.94-2.06-.94 2.06-2.06.94z\"/><path d=\"M17.41 7.96l-1.37-1.37c-.4-.4-.92-.59-1.43-.59-.52 0-1.04.2-1.43.59L10.3 9.45l-7.72 7.72c-.78.78-.78 2.05 0 2.83L4 21.41c.39.39.9.59 1.41.59.51 0 1.02-.2 1.41-.59l7.78-7.78 2.81-2.81c.8-.78.8-2.07 0-2.86zM5.41 20L4 18.59l7.72-7.72 1.47 1.35L5.41 20z\"/>\n",
              "  </svg>\n",
              "      </button>\n",
              "      \n",
              "  <style>\n",
              "    .colab-df-container {\n",
              "      display:flex;\n",
              "      flex-wrap:wrap;\n",
              "      gap: 12px;\n",
              "    }\n",
              "\n",
              "    .colab-df-convert {\n",
              "      background-color: #E8F0FE;\n",
              "      border: none;\n",
              "      border-radius: 50%;\n",
              "      cursor: pointer;\n",
              "      display: none;\n",
              "      fill: #1967D2;\n",
              "      height: 32px;\n",
              "      padding: 0 0 0 0;\n",
              "      width: 32px;\n",
              "    }\n",
              "\n",
              "    .colab-df-convert:hover {\n",
              "      background-color: #E2EBFA;\n",
              "      box-shadow: 0px 1px 2px rgba(60, 64, 67, 0.3), 0px 1px 3px 1px rgba(60, 64, 67, 0.15);\n",
              "      fill: #174EA6;\n",
              "    }\n",
              "\n",
              "    [theme=dark] .colab-df-convert {\n",
              "      background-color: #3B4455;\n",
              "      fill: #D2E3FC;\n",
              "    }\n",
              "\n",
              "    [theme=dark] .colab-df-convert:hover {\n",
              "      background-color: #434B5C;\n",
              "      box-shadow: 0px 1px 3px 1px rgba(0, 0, 0, 0.15);\n",
              "      filter: drop-shadow(0px 1px 2px rgba(0, 0, 0, 0.3));\n",
              "      fill: #FFFFFF;\n",
              "    }\n",
              "  </style>\n",
              "\n",
              "      <script>\n",
              "        const buttonEl =\n",
              "          document.querySelector('#df-4cb435b2-c5fe-4e06-9b1b-dd1549ca1eda button.colab-df-convert');\n",
              "        buttonEl.style.display =\n",
              "          google.colab.kernel.accessAllowed ? 'block' : 'none';\n",
              "\n",
              "        async function convertToInteractive(key) {\n",
              "          const element = document.querySelector('#df-4cb435b2-c5fe-4e06-9b1b-dd1549ca1eda');\n",
              "          const dataTable =\n",
              "            await google.colab.kernel.invokeFunction('convertToInteractive',\n",
              "                                                     [key], {});\n",
              "          if (!dataTable) return;\n",
              "\n",
              "          const docLinkHtml = 'Like what you see? Visit the ' +\n",
              "            '<a target=\"_blank\" href=https://colab.research.google.com/notebooks/data_table.ipynb>data table notebook</a>'\n",
              "            + ' to learn more about interactive tables.';\n",
              "          element.innerHTML = '';\n",
              "          dataTable['output_type'] = 'display_data';\n",
              "          await google.colab.output.renderOutput(dataTable, element);\n",
              "          const docLink = document.createElement('div');\n",
              "          docLink.innerHTML = docLinkHtml;\n",
              "          element.appendChild(docLink);\n",
              "        }\n",
              "      </script>\n",
              "    </div>\n",
              "  </div>\n",
              "  "
            ]
          },
          "metadata": {},
          "execution_count": 8
        }
      ]
    },
    {
      "cell_type": "code",
      "metadata": {
        "id": "n-lT9BBicw4P",
        "colab": {
          "base_uri": "https://localhost:8080/",
          "height": 206
        },
        "outputId": "2bbe8e1b-71f7-41a7-9db7-077b72ac787b"
      },
      "source": [
        "X = df_train.drop(['median_house_value'], axis = 1)\n",
        "X.head() ### for supervised learning: input matrix X"
      ],
      "execution_count": null,
      "outputs": [
        {
          "output_type": "execute_result",
          "data": {
            "text/plain": [
              "   longitude  latitude  housing_median_age  total_rooms  total_bedrooms  \\\n",
              "0    -114.31     34.19                15.0       5612.0          1283.0   \n",
              "1    -114.47     34.40                19.0       7650.0          1901.0   \n",
              "2    -114.56     33.69                17.0        720.0           174.0   \n",
              "3    -114.57     33.64                14.0       1501.0           337.0   \n",
              "4    -114.57     33.57                20.0       1454.0           326.0   \n",
              "\n",
              "   population  households  median_income  \n",
              "0      1015.0       472.0         1.4936  \n",
              "1      1129.0       463.0         1.8200  \n",
              "2       333.0       117.0         1.6509  \n",
              "3       515.0       226.0         3.1917  \n",
              "4       624.0       262.0         1.9250  "
            ],
            "text/html": [
              "\n",
              "  <div id=\"df-dcd3601c-5af7-4375-b9be-f8be850891fc\">\n",
              "    <div class=\"colab-df-container\">\n",
              "      <div>\n",
              "<style scoped>\n",
              "    .dataframe tbody tr th:only-of-type {\n",
              "        vertical-align: middle;\n",
              "    }\n",
              "\n",
              "    .dataframe tbody tr th {\n",
              "        vertical-align: top;\n",
              "    }\n",
              "\n",
              "    .dataframe thead th {\n",
              "        text-align: right;\n",
              "    }\n",
              "</style>\n",
              "<table border=\"1\" class=\"dataframe\">\n",
              "  <thead>\n",
              "    <tr style=\"text-align: right;\">\n",
              "      <th></th>\n",
              "      <th>longitude</th>\n",
              "      <th>latitude</th>\n",
              "      <th>housing_median_age</th>\n",
              "      <th>total_rooms</th>\n",
              "      <th>total_bedrooms</th>\n",
              "      <th>population</th>\n",
              "      <th>households</th>\n",
              "      <th>median_income</th>\n",
              "    </tr>\n",
              "  </thead>\n",
              "  <tbody>\n",
              "    <tr>\n",
              "      <th>0</th>\n",
              "      <td>-114.31</td>\n",
              "      <td>34.19</td>\n",
              "      <td>15.0</td>\n",
              "      <td>5612.0</td>\n",
              "      <td>1283.0</td>\n",
              "      <td>1015.0</td>\n",
              "      <td>472.0</td>\n",
              "      <td>1.4936</td>\n",
              "    </tr>\n",
              "    <tr>\n",
              "      <th>1</th>\n",
              "      <td>-114.47</td>\n",
              "      <td>34.40</td>\n",
              "      <td>19.0</td>\n",
              "      <td>7650.0</td>\n",
              "      <td>1901.0</td>\n",
              "      <td>1129.0</td>\n",
              "      <td>463.0</td>\n",
              "      <td>1.8200</td>\n",
              "    </tr>\n",
              "    <tr>\n",
              "      <th>2</th>\n",
              "      <td>-114.56</td>\n",
              "      <td>33.69</td>\n",
              "      <td>17.0</td>\n",
              "      <td>720.0</td>\n",
              "      <td>174.0</td>\n",
              "      <td>333.0</td>\n",
              "      <td>117.0</td>\n",
              "      <td>1.6509</td>\n",
              "    </tr>\n",
              "    <tr>\n",
              "      <th>3</th>\n",
              "      <td>-114.57</td>\n",
              "      <td>33.64</td>\n",
              "      <td>14.0</td>\n",
              "      <td>1501.0</td>\n",
              "      <td>337.0</td>\n",
              "      <td>515.0</td>\n",
              "      <td>226.0</td>\n",
              "      <td>3.1917</td>\n",
              "    </tr>\n",
              "    <tr>\n",
              "      <th>4</th>\n",
              "      <td>-114.57</td>\n",
              "      <td>33.57</td>\n",
              "      <td>20.0</td>\n",
              "      <td>1454.0</td>\n",
              "      <td>326.0</td>\n",
              "      <td>624.0</td>\n",
              "      <td>262.0</td>\n",
              "      <td>1.9250</td>\n",
              "    </tr>\n",
              "  </tbody>\n",
              "</table>\n",
              "</div>\n",
              "      <button class=\"colab-df-convert\" onclick=\"convertToInteractive('df-dcd3601c-5af7-4375-b9be-f8be850891fc')\"\n",
              "              title=\"Convert this dataframe to an interactive table.\"\n",
              "              style=\"display:none;\">\n",
              "        \n",
              "  <svg xmlns=\"http://www.w3.org/2000/svg\" height=\"24px\"viewBox=\"0 0 24 24\"\n",
              "       width=\"24px\">\n",
              "    <path d=\"M0 0h24v24H0V0z\" fill=\"none\"/>\n",
              "    <path d=\"M18.56 5.44l.94 2.06.94-2.06 2.06-.94-2.06-.94-.94-2.06-.94 2.06-2.06.94zm-11 1L8.5 8.5l.94-2.06 2.06-.94-2.06-.94L8.5 2.5l-.94 2.06-2.06.94zm10 10l.94 2.06.94-2.06 2.06-.94-2.06-.94-.94-2.06-.94 2.06-2.06.94z\"/><path d=\"M17.41 7.96l-1.37-1.37c-.4-.4-.92-.59-1.43-.59-.52 0-1.04.2-1.43.59L10.3 9.45l-7.72 7.72c-.78.78-.78 2.05 0 2.83L4 21.41c.39.39.9.59 1.41.59.51 0 1.02-.2 1.41-.59l7.78-7.78 2.81-2.81c.8-.78.8-2.07 0-2.86zM5.41 20L4 18.59l7.72-7.72 1.47 1.35L5.41 20z\"/>\n",
              "  </svg>\n",
              "      </button>\n",
              "      \n",
              "  <style>\n",
              "    .colab-df-container {\n",
              "      display:flex;\n",
              "      flex-wrap:wrap;\n",
              "      gap: 12px;\n",
              "    }\n",
              "\n",
              "    .colab-df-convert {\n",
              "      background-color: #E8F0FE;\n",
              "      border: none;\n",
              "      border-radius: 50%;\n",
              "      cursor: pointer;\n",
              "      display: none;\n",
              "      fill: #1967D2;\n",
              "      height: 32px;\n",
              "      padding: 0 0 0 0;\n",
              "      width: 32px;\n",
              "    }\n",
              "\n",
              "    .colab-df-convert:hover {\n",
              "      background-color: #E2EBFA;\n",
              "      box-shadow: 0px 1px 2px rgba(60, 64, 67, 0.3), 0px 1px 3px 1px rgba(60, 64, 67, 0.15);\n",
              "      fill: #174EA6;\n",
              "    }\n",
              "\n",
              "    [theme=dark] .colab-df-convert {\n",
              "      background-color: #3B4455;\n",
              "      fill: #D2E3FC;\n",
              "    }\n",
              "\n",
              "    [theme=dark] .colab-df-convert:hover {\n",
              "      background-color: #434B5C;\n",
              "      box-shadow: 0px 1px 3px 1px rgba(0, 0, 0, 0.15);\n",
              "      filter: drop-shadow(0px 1px 2px rgba(0, 0, 0, 0.3));\n",
              "      fill: #FFFFFF;\n",
              "    }\n",
              "  </style>\n",
              "\n",
              "      <script>\n",
              "        const buttonEl =\n",
              "          document.querySelector('#df-dcd3601c-5af7-4375-b9be-f8be850891fc button.colab-df-convert');\n",
              "        buttonEl.style.display =\n",
              "          google.colab.kernel.accessAllowed ? 'block' : 'none';\n",
              "\n",
              "        async function convertToInteractive(key) {\n",
              "          const element = document.querySelector('#df-dcd3601c-5af7-4375-b9be-f8be850891fc');\n",
              "          const dataTable =\n",
              "            await google.colab.kernel.invokeFunction('convertToInteractive',\n",
              "                                                     [key], {});\n",
              "          if (!dataTable) return;\n",
              "\n",
              "          const docLinkHtml = 'Like what you see? Visit the ' +\n",
              "            '<a target=\"_blank\" href=https://colab.research.google.com/notebooks/data_table.ipynb>data table notebook</a>'\n",
              "            + ' to learn more about interactive tables.';\n",
              "          element.innerHTML = '';\n",
              "          dataTable['output_type'] = 'display_data';\n",
              "          await google.colab.output.renderOutput(dataTable, element);\n",
              "          const docLink = document.createElement('div');\n",
              "          docLink.innerHTML = docLinkHtml;\n",
              "          element.appendChild(docLink);\n",
              "        }\n",
              "      </script>\n",
              "    </div>\n",
              "  </div>\n",
              "  "
            ]
          },
          "metadata": {},
          "execution_count": 9
        }
      ]
    },
    {
      "cell_type": "code",
      "metadata": {
        "id": "2eC8SDPzczNY"
      },
      "source": [
        "### Optimum rmse: regression model objective function is Root Mean Square Error (RMSE); \n",
        "### Should be minimized (as close to zero as possible):\n",
        "\n",
        "y_global_orig = 0"
      ],
      "execution_count": null,
      "outputs": []
    },
    {
      "cell_type": "code",
      "metadata": {
        "id": "GoTmWEhSc1qQ"
      },
      "source": [
        "### Bayesian Optimization - inputs:\n",
        "\n",
        "obj_func = 'XGBoost'\n",
        "n_test = 500 # test points\n",
        "\n",
        "util_gp = 'ERM_gp'\n",
        "util_stp = 'ERM_stp'\n",
        "n_init = 5 # random initialisations\n",
        "opt = True\n",
        "\n",
        "test_perc = 0.10\n",
        "train_perc = 1 - test_perc\n",
        "\n",
        "n_test = int(len(df_train) * test_perc)\n",
        "n_train = int(len(df_train) - n_test)\n",
        "\n",
        "eps = 1e-08\n",
        "inverse = -1\n",
        "\n",
        "df = 3\n"
      ],
      "execution_count": null,
      "outputs": []
    },
    {
      "cell_type": "code",
      "metadata": {
        "id": "W2ngnRxbc7cg"
      },
      "source": [
        "### Objective function:\n",
        "\n",
        "if obj_func == 'XGBoost': # 6-D\n",
        "            \n",
        "    # Constraints:\n",
        "    param_lb_alpha = 0\n",
        "    param_ub_alpha = 10\n",
        "    \n",
        "    param_lb_gamma = 0\n",
        "    param_ub_gamma = 10\n",
        "    \n",
        "    param_lb_max_depth = 5\n",
        "    param_ub_max_depth = 15\n",
        "    \n",
        "    param_lb_min_child_weight = 1\n",
        "    param_ub_min_child_weight = 20\n",
        "    \n",
        "    param_lb_subsample = .5\n",
        "    param_ub_subsample = 1\n",
        "    \n",
        "    param_lb_colsample = .1\n",
        "    param_ub_colsample = 1\n",
        "    \n",
        "    # 6-D inputs' parameter bounds:\n",
        "    param = { 'alpha':  ('cont', (param_lb_alpha, param_ub_alpha)),\n",
        "         'gamma':  ('cont', (param_lb_gamma, param_ub_gamma)),     \n",
        "         'max_depth':  ('int', (param_lb_max_depth, param_ub_max_depth)),\n",
        "         'subsample':  ('cont', (param_lb_subsample, param_ub_subsample)),\n",
        "          'min_child_weight':  ('int', (param_lb_min_child_weight, param_ub_min_child_weight)),\n",
        "            'colsample': ('cont', (param_lb_colsample, param_ub_colsample))\n",
        "        }\n",
        "       \n",
        "    # True y bounds:\n",
        "    dim = 6\n",
        "    \n",
        "    max_iter = 30  # iterations of Bayesian optimization\n",
        "    \n",
        "    operator = 1 \n",
        "    \n",
        "    n_est = 5"
      ],
      "execution_count": null,
      "outputs": []
    },
    {
      "cell_type": "code",
      "metadata": {
        "id": "_3pmZYhVl9Hb"
      },
      "source": [
        "n_start_AcqFunc = max_iter\n"
      ],
      "execution_count": null,
      "outputs": []
    },
    {
      "cell_type": "code",
      "metadata": {
        "id": "PmJsNX29c_xA"
      },
      "source": [
        "### Surrogate derivatives: \n",
        "\n",
        "cov_func = squaredExponential()\n",
        "\n",
        "def kronDelta(X, Xstar):                     # Kronecker's Delta method\n",
        "    return cdist(X, Xstar) < np.finfo(np.float32).eps\n",
        "\n",
        "def se(X, Xstar, sigmaf, l, sigman):         # S.E. kernel method\n",
        "    return sigmaf * np.exp(-0.5 * cdist(X, Xstar) ** 2 / l ** 2) + sigman * kronDelta(X, Xstar)\n",
        "\n",
        "def delta(X, Xstar):                         # Distance between training X and test Xstar vectors\n",
        "    return (X - Xstar)\n",
        "   \n",
        "def der_covmat(X, Xstar, sigmaf, l, sigman): # Covariance matrix derivative terms (i.e. exact, first-order)\n",
        "    nx = len(X)\n",
        "    ny = len(Xstar)\n",
        "    return np.round(np.array([(delta(np.atleast_2d(i), np.atleast_2d(j))[0] * se(np.atleast_2d(i), np.atleast_2d(j), sigmaf, l, sigman)[0]).sum() for (i, j) in itertools.product(X, Xstar)]).reshape(nx, ny), 8)\n",
        "\n",
        "class dGaussianProcess(GaussianProcess):    # Via inheritance, also optimises hyperparameters when opt = TRUE\n",
        "    \n",
        "    def AcqGrad(self, Xstar):               # Method returning exact, first-order derivatives of the GP's posterior mean and standard deviation\n",
        "        Xstar = np.atleast_2d(Xstar)\n",
        "        Kstar = self.covfunc.K(self.X, Xstar).T\n",
        "        \n",
        "        dKstar = der_covmat(self.X, Xstar, self.covfunc.sigmaf, self.covfunc.l, self.covfunc.sigman).T\n",
        "        alpha_Kstar = np.dot(np.linalg.inv(self.K + (self.covfunc.sigman**2) * np.eye(len(self.X))), Kstar.T)\n",
        "        \n",
        "        dm = np.dot(dKstar, self.alpha)\n",
        "        ds = -2 * np.dot(dKstar, alpha_Kstar)\n",
        "        \n",
        "        return dm, ds\n",
        "\n",
        "class dtStudentProcess(tStudentProcess):    # Via inheritance, also optimises hyperparameters when opt = TRUE\n",
        "    \n",
        "    def AcqGrad(self, Xstar):               # Method returning exact, first-order derivatives of the STP's posterior mean and standard deviation\n",
        "        Xstar = np.atleast_2d(Xstar)\n",
        "        Kstar = self.covfunc.K(self.X, Xstar).T\n",
        "        dKstar = der_covmat(self.X, Xstar, self.covfunc.sigmaf, self.covfunc.l, self.covfunc.sigman).T\n",
        "        \n",
        "        smd_adj = (self.nu + self.beta1 - 2) / (self.nu + self.n1 - 2)\n",
        "\n",
        "        alpha = np.dot(np.linalg.inv(self.K11 + (self.covfunc.sigman**2) * np.eye(len(self.X))), self.y)\n",
        "        alpha_Kstar = np.dot(np.linalg.inv(self.K11 + (self.covfunc.sigman**2) * np.eye(len(self.X))), Kstar.T)      \n",
        "        \n",
        "        dm = np.dot(dKstar, alpha)\n",
        "        ds = -2 * smd_adj * np.dot(dKstar, alpha_Kstar)\n",
        "        \n",
        "        return dm, ds            \n",
        "        "
      ],
      "execution_count": null,
      "outputs": []
    },
    {
      "cell_type": "code",
      "metadata": {
        "id": "n9ZuEB2VdE0W"
      },
      "source": [
        "### Set-seeds:\n",
        "\n",
        "run_num_1 = 1\n",
        "run_num_2 = 2\n",
        "run_num_3 = 3\n",
        "run_num_4 = 4\n",
        "run_num_5 = 5\n",
        "run_num_6 = 6\n",
        "run_num_7 = 7\n",
        "run_num_8 = 8\n",
        "run_num_9 = 9\n",
        "run_num_10 = 10\n",
        "run_num_11 = 11\n",
        "run_num_12 = 12\n",
        "run_num_13 = 13\n",
        "run_num_14 = 14\n",
        "run_num_15 = 15\n",
        "run_num_16 = 16\n",
        "run_num_17 = 17\n",
        "run_num_18 = 18\n",
        "run_num_19 = 19\n",
        "run_num_20 = 20\n"
      ],
      "execution_count": null,
      "outputs": []
    },
    {
      "cell_type": "code",
      "metadata": {
        "id": "XgHMFEyPdCk4"
      },
      "source": [
        "### Cumulative Regret Calculator:\n",
        "\n",
        "def min_max_array(x):\n",
        "    new_list = []\n",
        "    for i, num in enumerate(x):\n",
        "            new_list.append(np.min(x[0:i+1]))\n",
        "    return new_list\n",
        "    "
      ],
      "execution_count": null,
      "outputs": []
    },
    {
      "cell_type": "code",
      "source": [
        "### Add exact acquisition function gradient as attribute:\n",
        "\n",
        "class Acquisition_grad(Acquisition):    \n",
        "    def __init__(self, mode, eps=eps, **params):\n",
        "        \n",
        "        self.params = params\n",
        "        self.eps = eps\n",
        "\n",
        "        mode_dict = {\n",
        "            'ERM_stp': self.ERM_stp,\n",
        "            'ERM_gp': self.ERM_gp,\n",
        "        }\n",
        "\n",
        "        self.f = mode_dict[mode]\n",
        "    \n",
        "    def ERM_stp(self, tau, mean, std, ds, dm, nu=3.0):\n",
        "        gamma = (mean - y_global_orig - self.eps) / (std + self.eps)\n",
        "        gamma_h = (mean - tau) / (std + self.eps)\n",
        "        dsdx = ds / (2 * (std + self.eps))\n",
        "        dmdx = (dm - gamma * dsdx) / (std + self.eps)\n",
        "        \n",
        "        f = (std + self.eps) * (gamma * t.cdf(gamma, df=nu) + (nu + gamma ** 2)/(nu - 1) * t.pdf(gamma, df=nu))\n",
        "        df1 = f / (std + self.eps) * dsdx \n",
        "        df2 = (std + self.eps) * (t.cdf(gamma, df=nu) * dmdx + gamma * t.pdf(gamma, df=nu) \\\n",
        "            * (1 - (nu + gamma ** 2)/(nu - 1) + 2/(nu - 1) * dmdx))\n",
        "        df = (df1 + df2)[0]\n",
        "        df_arr = []\n",
        "\n",
        "        for j in range(0, dim):\n",
        "          df_arr.append(df)\n",
        "        return f, np.asarray(df_arr).transpose()\n",
        "        \n",
        "    def d_eval_stp(self, tau, mean, std, ds, dm, nu=3.0):\n",
        "    \n",
        "        return self.f(tau, mean, std, ds, dm, nu=3.0, **self.params)\n",
        "\n",
        "    def ERM_gp(self, tau, mean, std, ds, dm):\n",
        "        gamma = (mean - y_global_orig - self.eps) / (std + self.eps)\n",
        "        gamma_h = (mean - tau) / (std + self.eps)\n",
        "        dsdx = ds / (2 * (std + self.eps))\n",
        "        dmdx = (dm - gamma * dsdx) / (std + self.eps)\n",
        "        \n",
        "        f = (std + self.eps) * (gamma * norm.cdf(gamma) + norm.pdf(gamma))\n",
        "        df1 = f / (std + self.eps) * dsdx \n",
        "        df2 = (std + self.eps) * norm.cdf(gamma) * dmdx\n",
        "        df = (df1 + df2)[0]\n",
        "        df_arr = []\n",
        "\n",
        "        for j in range(0, dim):\n",
        "          df_arr.append(df)\n",
        "        return f, np.asarray(df_arr).transpose()\n",
        "        \n",
        "    def d_eval_gp(self, tau, mean, std, ds, dm):\n",
        "    \n",
        "        return self.f(tau, mean, std, ds, dm, **self.params)\n",
        "        "
      ],
      "metadata": {
        "id": "ZIh5RYGkwBUZ"
      },
      "execution_count": null,
      "outputs": []
    },
    {
      "cell_type": "code",
      "source": [
        "## dGPGO - Gaussian:\n",
        "\n",
        "class dGPGO_gp(GPGO):\n",
        "    n_start = n_start_AcqFunc\n",
        "\n",
        "    def __init__(self, surrogate, acquisition, f, parameter_dict, n_jobs=1):\n",
        "        self.GP = surrogate\n",
        "        self.A = acquisition\n",
        "        self.f = f\n",
        "        self.parameters = parameter_dict\n",
        "        self.n_jobs = n_jobs\n",
        "\n",
        "        self.parameter_key = list(parameter_dict.keys())\n",
        "        self.parameter_value = list(parameter_dict.values())\n",
        "        self.parameter_type = [p[0] for p in self.parameter_value]\n",
        "        self.parameter_range = [p[1] for p in self.parameter_value]\n",
        "\n",
        "        self.history = []\n",
        "        self.header =   'Evaluation \\t Proposed point \\t  Current eval. \\t  Best eval. \\t         Max. ExactAcqFunc \\t Max. ApproxAcqFunc '\n",
        "        self.template = '{:3}\\t {}\\t {:3}\\t {:3}\\t {:3}\\t {:3}'\n",
        "\n",
        "    def acqfuncExact(self, xnew, n_start=n_start_AcqFunc):\n",
        "        new_mean, new_var = self.GP.predict(xnew, return_std=True)\n",
        "        new_std = np.sqrt(new_var + eps)\n",
        "        dm, ds = self.GP.AcqGrad(xnew)\n",
        "        f, df = self.A.d_eval_gp(self.tau, new_mean, new_std, ds=ds, dm=dm)\n",
        "\n",
        "        return -f, -df\n",
        "   \n",
        "    def acqfuncApprox(self, xnew, n_start=n_start_AcqFunc):\n",
        "        new_mean, new_var = self.GP.predict(xnew, return_std=True)\n",
        "        new_std = np.sqrt(new_var + eps)\n",
        "        dm, ds = self.GP.AcqGrad(xnew)\n",
        "        f, df = self.A.d_eval_gp(self.tau, new_mean, new_std, ds=ds, dm=dm)\n",
        "\n",
        "        return -f\n",
        "\n",
        "    def d_optimizeAcq(self, method='L-BFGS-B', n_start=n_start_AcqFunc):\n",
        "        start_points_dict = [self._sampleParam() for i in range(n_start)]\n",
        "        start_points_arr = np.array([list(s.values())\n",
        "                                     for s in start_points_dict])\n",
        "        x_best = np.empty((n_start, len(self.parameter_key)))\n",
        "        f_best = np.empty((n_start,))\n",
        "        opt = Parallel(n_jobs=self.n_jobs)(delayed(minimize)(self.acqfuncExact,\n",
        "                                                                 x0=start_point,\n",
        "                                                                 method=method,\n",
        "                                                                 jac = True,\n",
        "                                                                 bounds=self.parameter_range) for start_point in\n",
        "                                               start_points_arr)\n",
        "        x_best = np.array([res.x for res in opt])\n",
        "        f_best = np.array([np.atleast_1d(res.fun)[0] for res in opt])\n",
        "        f_best_min = min(f_best)\n",
        "\n",
        "        self.x_best = x_best\n",
        "        self.f_best = f_best\n",
        "        self.f_best_min = f_best_min\n",
        "        self.x_best_std = np.std(x_best)\n",
        "        self.best = x_best[np.argmin(f_best)]\n",
        "        self.start_points_arr = start_points_arr\n",
        "        self.history.append(self.x_best_std)\n",
        "\n",
        "        x_best_gp = np.empty((n_start, len(self.parameter_key)))\n",
        "        f_best_gp = np.empty((n_start,))\n",
        "        opt_gp = Parallel(n_jobs=self.n_jobs)(delayed(minimize)(self.acqfuncApprox,\n",
        "                                                                 x0=start_point,\n",
        "                                                                 method=method,\n",
        "                                                                 jac = False,\n",
        "                                                                 bounds=self.parameter_range) for start_point in\n",
        "                                               start_points_arr)\n",
        "        x_best_gp = np.array([res.x for res in opt_gp])\n",
        "        f_best_gp = np.array([np.atleast_1d(res.fun)[0] for res in opt_gp])\n",
        "        f_best_min_gp = min(f_best_gp)\n",
        "\n",
        "        self.x_best_gp = x_best_gp\n",
        "        self.f_best_gp = f_best_gp\n",
        "        self.f_best_min_gp = f_best_min_gp\n",
        "        self.x_best_std_gp = np.std(x_best_gp)\n",
        "        self.best_gp = x_best_gp[np.argmin(f_best_gp)]\n",
        "        self.start_points_arr = start_points_arr\n",
        "        self.history.append(self.x_best_std_gp)\n",
        "    \n",
        "    def _printInit(self):\n",
        "        print(self.header)\n",
        "        for init_eval in range(self.init_evals):\n",
        "            print(self.template.format('init', self.GP.X[init_eval], inverse * self.GP.y[init_eval], inverse * self.tau, '', ''))\n",
        "      \n",
        "    def _printCurrent(self):\n",
        "        OKGREEN = '\\033[92m'\n",
        "        ENDC = '\\033[0m'\n",
        "        BOLD = '\\033[1m'\n",
        "        eval = str(len(self.GP.y) - self.init_evals)\n",
        "        proposed = str(self.best)\n",
        "        curr_eval = str(inverse * self.GP.y[-1])\n",
        "        curr_best = str(inverse * self.tau)\n",
        "        min_acqfunc = str(self.f_best_min)\n",
        "        min_acqfunc_gp = str(self.f_best_min_gp)\n",
        "        x_best_std = str(self.x_best_std)\n",
        "        x_best_std_gp = str(self.x_best_std_gp)\n",
        "        if float(curr_eval) <= float(curr_best):\n",
        "            eval = BOLD + OKGREEN + eval + ENDC\n",
        "            proposed = BOLD + OKGREEN + proposed + ENDC\n",
        "            curr_eval = BOLD + OKGREEN + curr_eval + ENDC\n",
        "            curr_best = BOLD + OKGREEN + curr_best + ENDC\n",
        "            x_best_std = BOLD + OKGREEN + x_best_std + ENDC\n",
        "            x_best_std_gp = BOLD + OKGREEN + x_best_std_gp + ENDC\n",
        "        print(self.template.format(eval, proposed, curr_eval, curr_best, x_best_std, x_best_std_gp))\n",
        "\n",
        "    def run(self, max_iter=10, init_evals=3, resume=False):\n",
        "        \n",
        "        if not resume:\n",
        "            self.init_evals = init_evals\n",
        "            self._firstRun(self.init_evals)\n",
        "            self._printInit()\n",
        "        for iteration in range(max_iter):\n",
        "            self.d_optimizeAcq()\n",
        "            self.updateGP()\n",
        "            self._printCurrent()\n"
      ],
      "metadata": {
        "id": "VFzOGH9cU0Aw"
      },
      "execution_count": null,
      "outputs": []
    },
    {
      "cell_type": "code",
      "source": [
        "## dGPGO - Student's-t:\n",
        "\n",
        "class dGPGO_stp(GPGO):\n",
        "    n_start = n_start_AcqFunc\n",
        "\n",
        "    def __init__(self, surrogate, acquisition, f, parameter_dict, n_jobs=1):\n",
        "        self.GP = surrogate\n",
        "        self.A = acquisition\n",
        "        self.f = f\n",
        "        self.parameters = parameter_dict\n",
        "        self.n_jobs = n_jobs\n",
        "\n",
        "        self.parameter_key = list(parameter_dict.keys())\n",
        "        self.parameter_value = list(parameter_dict.values())\n",
        "        self.parameter_type = [p[0] for p in self.parameter_value]\n",
        "        self.parameter_range = [p[1] for p in self.parameter_value]\n",
        "\n",
        "        self.history = []\n",
        "        self.header =   'Evaluation \\t Proposed point \\t  Current eval. \\t  Best eval. \\t        Exact ERM: StdDev. x \\t Approx ERM: StdDev. x '\n",
        "        self.template = '{:3}\\t {}\\t {:3}\\t {:3}\\t {:3}\\t {:3}'\n",
        "\n",
        "    def acqfuncExact(self, xnew, n_start=n_start_AcqFunc):\n",
        "        new_mean, new_var = self.GP.predict(xnew, return_std=True)\n",
        "        new_std = np.sqrt(new_var + eps)\n",
        "        dm, ds = self.GP.AcqGrad(xnew)\n",
        "        f, df = self.A.d_eval_stp(self.tau, new_mean, new_std, ds=ds, dm=dm, nu=3.0)\n",
        "\n",
        "        return -f, -df\n",
        "   \n",
        "    def acqfuncApprox(self, xnew, n_start=n_start_AcqFunc):\n",
        "        new_mean, new_var = self.GP.predict(xnew, return_std=True)\n",
        "        new_std = np.sqrt(new_var + eps)\n",
        "        dm, ds = self.GP.AcqGrad(xnew)\n",
        "        f, df = self.A.d_eval_stp(self.tau, new_mean, new_std, ds=ds, dm=dm, nu=3.0)\n",
        "\n",
        "        return -f\n",
        "\n",
        "    def d_optimizeAcq(self, method='L-BFGS-B', n_start=n_start_AcqFunc):\n",
        "        start_points_dict = [self._sampleParam() for i in range(n_start)]\n",
        "        start_points_arr = np.array([list(s.values())\n",
        "                                     for s in start_points_dict])\n",
        "        x_best = np.empty((n_start, len(self.parameter_key)))\n",
        "        f_best = np.empty((n_start,))\n",
        "        opt = Parallel(n_jobs=self.n_jobs)(delayed(minimize)(self.acqfuncExact,\n",
        "                                                                 x0=start_point,\n",
        "                                                                 method=method,\n",
        "                                                                 jac = True,\n",
        "                                                                 bounds=self.parameter_range) for start_point in\n",
        "                                               start_points_arr)\n",
        "        x_best = np.array([res.x for res in opt])\n",
        "        f_best = np.array([np.atleast_1d(res.fun)[0] for res in opt])\n",
        "        f_best_min = min(f_best)\n",
        "\n",
        "        self.x_best = x_best\n",
        "        self.f_best = f_best\n",
        "        self.f_best_min = f_best_min\n",
        "        self.x_best_std = np.std(x_best)\n",
        "        self.best = x_best[np.argmin(f_best)]\n",
        "        self.start_points_arr = start_points_arr\n",
        "        self.history.append(self.x_best_std)\n",
        "\n",
        "        x_best_gp = np.empty((n_start, len(self.parameter_key)))\n",
        "        f_best_gp = np.empty((n_start,))\n",
        "        opt_gp = Parallel(n_jobs=self.n_jobs)(delayed(minimize)(self.acqfuncApprox,\n",
        "                                                                 x0=start_point,\n",
        "                                                                 method=method,\n",
        "                                                                 jac = False,\n",
        "                                                                 bounds=self.parameter_range) for start_point in\n",
        "                                               start_points_arr)\n",
        "        x_best_gp = np.array([res.x for res in opt_gp])\n",
        "        f_best_gp = np.array([np.atleast_1d(res.fun)[0] for res in opt_gp])\n",
        "        f_best_min_gp = min(f_best_gp)\n",
        "\n",
        "        self.x_best_gp = x_best_gp\n",
        "        self.f_best_gp = f_best_gp\n",
        "        self.f_best_min_gp = f_best_min_gp\n",
        "        self.x_best_std_gp = np.std(x_best_gp)\n",
        "        self.best_gp = x_best_gp[np.argmin(f_best_gp)]\n",
        "        self.start_points_arr = start_points_arr\n",
        "        self.history.append(self.x_best_std_gp)\n",
        "    \n",
        "    def _printInit(self):\n",
        "        print(self.header)\n",
        "        for init_eval in range(self.init_evals):\n",
        "            print(self.template.format('init', self.GP.X[init_eval], inverse * self.GP.y[init_eval], inverse * self.tau, '', ''))\n",
        "      \n",
        "    def _printCurrent(self):\n",
        "        OKGREEN = '\\033[92m'\n",
        "        ENDC = '\\033[0m'\n",
        "        BOLD = '\\033[1m'\n",
        "        eval = str(len(self.GP.y) - self.init_evals)\n",
        "        proposed = str(self.best)\n",
        "        curr_eval = str(inverse * self.GP.y[-1])\n",
        "        curr_best = str(inverse * self.tau)\n",
        "        min_acqfunc = str(self.f_best_min)\n",
        "        min_acqfunc_gp = str(self.f_best_min_gp)\n",
        "        x_best_std = str(self.x_best_std)\n",
        "        x_best_std_gp = str(self.x_best_std_gp)\n",
        "        if float(curr_eval) <= float(curr_best):\n",
        "            eval = BOLD + OKGREEN + eval + ENDC\n",
        "            proposed = BOLD + OKGREEN + proposed + ENDC\n",
        "            curr_eval = BOLD + OKGREEN + curr_eval + ENDC\n",
        "            curr_best = BOLD + OKGREEN + curr_best + ENDC\n",
        "            x_best_std = BOLD + OKGREEN + x_best_std + ENDC\n",
        "            x_best_std_gp = BOLD + OKGREEN + x_best_std_gp + ENDC\n",
        "        print(self.template.format(eval, proposed, curr_eval, curr_best, x_best_std, x_best_std_gp))\n",
        "\n",
        "    def run(self, max_iter=10, init_evals=3, resume=False):\n",
        "        \n",
        "        if not resume:\n",
        "            self.init_evals = init_evals\n",
        "            self._firstRun(self.init_evals)\n",
        "            self._printInit()\n",
        "        for iteration in range(max_iter):\n",
        "            self.d_optimizeAcq()\n",
        "            self.updateGP()\n",
        "            self._printCurrent()\n"
      ],
      "metadata": {
        "id": "lxI0s0PhVic9"
      },
      "execution_count": null,
      "outputs": []
    },
    {
      "cell_type": "code",
      "metadata": {
        "id": "HlilveEgdIR_",
        "colab": {
          "base_uri": "https://localhost:8080/"
        },
        "outputId": "54e03e20-d6df-4789-b9f6-2b568dab89e0"
      },
      "source": [
        "start_gp = time.time()\n",
        "start_gp"
      ],
      "execution_count": null,
      "outputs": [
        {
          "output_type": "execute_result",
          "data": {
            "text/plain": [
              "1663766618.983121"
            ]
          },
          "metadata": {},
          "execution_count": 20
        }
      ]
    },
    {
      "cell_type": "code",
      "metadata": {
        "id": "1wlzDSHbUG-c",
        "colab": {
          "base_uri": "https://localhost:8080/"
        },
        "outputId": "32790702-3e50-473a-a6fb-70d3fe1af53e"
      },
      "source": [
        "### Bayesian optimization runs (x20): 'Exact GP ERM' Acquisition Function run number = 1\n",
        "\n",
        "np.random.seed(run_num_1)\n",
        "surrogate_gp_1 = dGaussianProcess(cov_func, optimize=opt)\n",
        "\n",
        "X_train1, X_test1, y_train1, y_test1 = train_test_split(X, y, test_size=test_perc, random_state=run_num_1)\n",
        "\n",
        "def f_syn_polarity1(alpha, gamma, max_depth, subsample, min_child_weight, colsample):\n",
        "    reg = XGBRegressor(reg_alpha=alpha, gamma=gamma, max_depth=int(max_depth), subsample=subsample, min_child_weight=min_child_weight,\n",
        "          colsample_bytree=colsample, n_estimators = n_est, random_state=run_num_1, objective = 'reg:squarederror')\n",
        "    score = np.array(cross_val_score(reg, X=X_train1, y=y_train1).mean())\n",
        "    return operator * score\n",
        "\n",
        "gp_1 = dGPGO_gp(surrogate_gp_1, Acquisition_grad(util_gp), f_syn_polarity1, param, n_jobs = -1) # define BayesOpt\n",
        "gp_1.run(max_iter = max_iter, init_evals = n_init) # run\n",
        "\n",
        "### Return optimal parameters' set:\n",
        "params_gp_1 = gp_1.getResult()[0]\n",
        "params_gp_1['max_depth'] = int(params_gp_1['max_depth'])\n",
        "params_gp_1['min_child_weight'] = int(params_gp_1['min_child_weight'])\n",
        "\n",
        "### Re-train with optimal parameters, run predictons:\n",
        "dX_gp_train1 = xgb.DMatrix(X_train1, y_train1)\n",
        "dX_gp_test1 = xgb.DMatrix(X_test1, y_test1)\n",
        "model_gp_1 = xgb.train(params_gp_1, dX_gp_train1)\n",
        "pred_gp_1 = model_gp_1.predict(dX_gp_test1)\n",
        "\n",
        "rmse_gp_1 = np.sqrt(mean_squared_error(pred_gp_1, y_test1))\n",
        "rmse_gp_1"
      ],
      "execution_count": null,
      "outputs": [
        {
          "output_type": "stream",
          "name": "stdout",
          "text": [
            "Evaluation \t Proposed point \t  Current eval. \t  Best eval. \t         Max. ExactAcqFunc \t Max. ApproxAcqFunc \n",
            "init\t [ 4.17022005  7.20324493 14.          0.65116629 16.          0.31248008]\t 1.0028690365100252\t 0.6536753952667645\t    \t    \n",
            "init\t [ 3.96580727  3.87910741 11.          0.96776954  6.          0.71669755]\t 0.7391862019705779\t 0.6536753952667645\t    \t    \n",
            "init\t [ 2.0445225   8.78117436  7.          0.95698101 10.          0.48762871]\t 0.8806962872539386\t 0.6536753952667645\t    \t    \n",
            "init\t [ 9.39127789  7.78389236 14.          0.98413079  2.          0.87851823]\t 0.6536753952667645\t 0.6536753952667645\t    \t    \n",
            "init\t [8.29146907 8.29603359 8.         0.58491521 9.         0.18851215]\t 1.062518544792604\t 0.6536753952667645\t    \t    \n",
            "1  \t [ 7.86951474  0.6406733  11.          0.78919481 19.          0.44182296]\t 0.8659738506300403\t 0.6536753952667645\t 5.0550654287553005\t 5.069533250933288\n",
            "2  \t [ 0.74723898  0.36469704 11.          0.84902862 15.          0.10419698]\t 1.0589776023267656\t 0.6536753952667645\t 4.647940673943498\t 4.656461218052457\n",
            "3  \t [ 3.61274713  8.16007507 11.          0.84840025 19.          0.76215891]\t 0.6771887207267527\t 0.6536753952667645\t 4.637663030917348\t 4.637663030917348\n",
            "4  \t [ 9.28266952  0.44927819  7.          0.97265422 12.          0.93288355]\t 0.6820774846874944\t 0.6536753952667645\t 4.340912964401423\t 4.381507793258173\n",
            "5  \t [0.         0.         5.         0.5        3.69183045 0.1       ]\t 1.0640504359985177\t 0.6536753952667645\t 5.078486917955286\t 5.086038223124447\n",
            "6  \t [ 5.1476318   2.63826491  5.          0.83046451 17.          0.39543049]\t 0.9004243658767852\t 0.6536753952667645\t 4.702317945729895\t 4.656748365858599\n",
            "7  \t [ 2.05722318  9.92568059 11.          0.85938245  2.          0.31039182]\t 1.0042308077866626\t 0.6536753952667645\t 5.105437369717486\t 4.993257665288588\n",
            "8  \t [8.51945771 8.4424986  8.         0.90741371 1.         0.49942468]\t 0.8757522803338091\t 0.6536753952667645\t 4.878243958952663\t 4.810858432090888\n",
            "9  \t [ 2.08878558  0.52993661 12.          0.75288969  1.          0.24822289]\t 1.0632523501795186\t 0.6536753952667645\t 5.144772236726276\t 5.041522227796417\n",
            "10 \t [ 9.11336104  7.53362458  9.          0.74107696 16.          0.6810286 ]\t 0.7469510576000753\t 0.6536753952667645\t 4.717288527956601\t 4.713945572769916\n",
            "11 \t [ 9.4605503   2.00186066 12.          0.69186722  8.          0.11311186]\t 1.061946992849472\t 0.6536753952667645\t 4.874193782183572\t 4.878742492183775\n",
            "12 \t [6.76356635 2.31703141 5.         0.84148498 5.         0.43949556]\t 0.8998699639297213\t 0.6536753952667645\t 5.036961141602507\t 5.060130768727099\n",
            "13 \t [ 0.31984184  8.77960419  5.          0.79374224 16.          0.99761184]\t 0.7310969316491746\t 0.6536753952667645\t 5.321581710879465\t 5.159515111738202\n",
            "14 \t [ 0.99440257  2.23238431 10.          0.58984965 12.          0.68792603]\t 0.7499303794197336\t 0.6536753952667645\t 4.475094501045932\t 4.475094501045932\n",
            "15 \t [ 9.20512342  1.60831322 11.          0.87041344  2.          0.50117029]\t 0.8186293003915115\t 0.6536753952667645\t 4.876259312317112\t 4.873145507138454\n",
            "\u001b[1m\u001b[92m16\u001b[0m\t \u001b[1m\u001b[92m[ 6.70762007  7.34936999 15.          1.          8.61394352  1.        ]\u001b[0m\t \u001b[1m\u001b[92m0.6467899788844533\u001b[0m\t \u001b[1m\u001b[92m0.6467899788844533\u001b[0m\t \u001b[1m\u001b[92m5.024646084427144\u001b[0m\t \u001b[1m\u001b[92m5.084811048418574\u001b[0m\n",
            "17 \t [1.68476972 5.2908721  8.         0.92839616 1.         0.96471758]\t 0.670961172017669\t 0.6467899788844533\t 4.578796062677853\t 4.515129875378043\n",
            "18 \t [ 1.73244272  9.39481924 14.          0.69771339 11.          0.59112044]\t 0.8167281986762898\t 0.6467899788844533\t 4.8528351754280425\t 4.845707470766042\n",
            "19 \t [10. 10. 15.  1. 20.  1.]\t 0.6504936383293095\t 0.6467899788844533\t 5.423396197318989\t 5.269953969219275\n",
            "20 \t [0.         6.83764348 5.         0.5        6.20528825 0.1       ]\t 1.064396151529363\t 0.6467899788844533\t 4.994714899259609\t 5.002335967258492\n",
            "21 \t [ 9.4425029   7.91959048 12.          0.56014827 12.          0.69595669]\t 0.7511032808618066\t 0.6467899788844533\t 5.238336898619344\t 5.228195521689917\n",
            "22 \t [5.85156673 7.89906642 5.         0.85677229 5.         0.41366189]\t 0.8998998428518361\t 0.6467899788844533\t 4.810584290398042\t 4.7708916320594605\n",
            "23 \t [ 0.13012668  6.42252804 13.          0.9980631   6.          0.4031198 ]\t 0.8682080246709607\t 0.6467899788844533\t 4.69821135009633\t 4.712674730739007\n",
            "24 \t [ 7.04750175  3.42465254 14.          0.6398927  13.          0.58870141]\t 0.815252067284572\t 0.6467899788844533\t 5.038375433147547\t 5.0390242338752715\n",
            "25 \t [3.92428694 0.68431362 6.         0.64283095 9.         0.2162494 ]\t 1.0619895012405975\t 0.6467899788844533\t 4.818875963525451\t 4.802569745931088\n",
            "26 \t [ 1.03968583  3.49943563 14.          0.82879876  3.          0.98366866]\t 0.6562345271802523\t 0.6467899788844533\t 4.633850647646995\t 4.630508647306924\n",
            "27 \t [ 9.80506138  4.80078528 13.          0.71095318 17.          0.3227225 ]\t 1.0006677560529766\t 0.6467899788844533\t 4.808918392481558\t 4.850739919093001\n",
            "28 \t [ 0.15246909  0.64891005  5.          0.82057511 17.          0.55392553]\t 0.8471082658020649\t 0.6467899788844533\t 4.694998678558096\t 4.7343232433881495\n",
            "29 \t [ 7.40845157  8.58336508  5.          0.8318041  19.          0.36434664]\t 1.0097984953249557\t 0.6467899788844533\t 5.029680658802277\t 5.192446715806224\n",
            "30 \t [ 3.57982931  9.40933622 11.          0.73034117  7.          0.92682434]\t 0.6617439770794065\t 0.6467899788844533\t 4.709253035659004\t 4.723129006621584\n"
          ]
        },
        {
          "output_type": "execute_result",
          "data": {
            "text/plain": [
              "47122.48782091602"
            ]
          },
          "metadata": {},
          "execution_count": 21
        }
      ]
    },
    {
      "cell_type": "code",
      "metadata": {
        "id": "ClJ9rN2KUJzy",
        "colab": {
          "base_uri": "https://localhost:8080/"
        },
        "outputId": "a8ffb35f-0fd4-466f-9d04-65f93249132c"
      },
      "source": [
        "### Bayesian optimization runs (x20): 'Exact GP ERM' Acquisition Function run number = 2\n",
        "\n",
        "np.random.seed(run_num_2)\n",
        "surrogate_gp_2 = dGaussianProcess(cov_func, optimize=opt)\n",
        "\n",
        "X_train2, X_test2, y_train2, y_test2 = train_test_split(X, y, test_size=test_perc, random_state=run_num_2)\n",
        "\n",
        "def f_syn_polarity2(alpha, gamma, max_depth, subsample, min_child_weight, colsample):\n",
        "    reg = XGBRegressor(reg_alpha=alpha, gamma=gamma, max_depth=int(max_depth), subsample=subsample, min_child_weight=min_child_weight,\n",
        "          colsample_bytree=colsample, n_estimators = n_est, random_state=run_num_2, objective = 'reg:squarederror')\n",
        "    score = np.array(cross_val_score(reg, X=X_train2, y=y_train2).mean())\n",
        "    return operator * score\n",
        "\n",
        "gp_2 = dGPGO_gp(surrogate_gp_2, Acquisition_grad(util_gp), f_syn_polarity2, param, n_jobs = -1) # define BayesOpt\n",
        "gp_2.run(max_iter = max_iter, init_evals = n_init) # run\n",
        "\n",
        "### Return optimal parameters' set:\n",
        "params_gp_2 = gp_2.getResult()[0]\n",
        "params_gp_2['max_depth'] = int(params_gp_2['max_depth'])\n",
        "params_gp_2['min_child_weight'] = int(params_gp_2['min_child_weight'])\n",
        "\n",
        "### Re-train with optimal parameters, run predictons:\n",
        "dX_gp_train2 = xgb.DMatrix(X_train2, y_train2)\n",
        "dX_gp_test2 = xgb.DMatrix(X_test2, y_test2)\n",
        "model_gp_2 = xgb.train(params_gp_2, dX_gp_train2)\n",
        "pred_gp_2 = model_gp_2.predict(dX_gp_test2)\n",
        "\n",
        "rmse_gp_2 = np.sqrt(mean_squared_error(pred_gp_2, y_test2))\n",
        "rmse_gp_2"
      ],
      "execution_count": null,
      "outputs": [
        {
          "output_type": "stream",
          "name": "stdout",
          "text": [
            "Evaluation \t Proposed point \t  Current eval. \t  Best eval. \t         Max. ExactAcqFunc \t Max. ApproxAcqFunc \n",
            "init\t [ 4.35994902  0.25926232 11.          0.97386531 12.          0.47833102]\t 0.778909206070606\t 0.681387807728051\t    \t    \n",
            "init\t [ 3.30334821  2.04648634 10.          0.55997527  6.          0.71472339]\t 0.681387807728051\t 0.681387807728051\t    \t    \n",
            "init\t [ 4.9856117   5.86796978  8.          0.89266757 11.          0.59158659]\t 0.7040746477543849\t 0.681387807728051\t    \t    \n",
            "init\t [ 4.07307832  1.76984624 13.          0.75262305  7.          0.35908193]\t 0.7953147984784036\t 0.681387807728051\t    \t    \n",
            "init\t [ 1.16193318  1.81727038  9.          0.79837265 19.          0.29965165]\t 0.7954413972964868\t 0.681387807728051\t    \t    \n",
            "\u001b[1m\u001b[92m1\u001b[0m\t \u001b[1m\u001b[92m[9.68290573 5.74953535 8.         0.93445831 2.         0.81872709]\u001b[0m\t \u001b[1m\u001b[92m0.6807577751383148\u001b[0m\t \u001b[1m\u001b[92m0.6807577751383148\u001b[0m\t \u001b[1m\u001b[92m4.309555603986988\u001b[0m\t \u001b[1m\u001b[92m4.353680949878666\u001b[0m\n",
            "2  \t [ 2.17907321  8.34965852  5.          0.91660625 18.          0.97349298]\t 0.7341430302765248\t 0.6807577751383148\t 4.997216444579706\t 5.047100440557714\n",
            "3  \t [ 3.86971225  8.36249195 14.          0.65193715  2.          0.53564822]\t 0.7073935536898857\t 0.6807577751383148\t 4.690415719158553\t 4.649739041425721\n",
            "4  \t [ 8.78180153  6.61060882 12.          0.91523653 18.          0.29687212]\t 0.7899041327973497\t 0.6807577751383148\t 5.140055733011487\t 5.0570000587370005\n",
            "5  \t [ 1.04358891  9.72033478 14.          0.5859025  14.          0.459264  ]\t 0.7887181971022355\t 0.6807577751383148\t 4.566127179505164\t 4.491017124336261\n",
            "\u001b[1m\u001b[92m6\u001b[0m\t \u001b[1m\u001b[92m[ 9.90020282  3.3367177  10.          0.62203407  7.          0.71235234]\u001b[0m\t \u001b[1m\u001b[92m0.67907472219801\u001b[0m\t \u001b[1m\u001b[92m0.67907472219801\u001b[0m\t \u001b[1m\u001b[92m4.543498632632873\u001b[0m\t \u001b[1m\u001b[92m4.542511316149407\u001b[0m\n",
            "7  \t [0.         0.         5.42926341 0.5        1.         0.1       ]\t 0.8726019020039407\t 0.67907472219801\t 5.213927464498843\t 5.149733269393627\n",
            "8  \t [1.98662322 5.58086412 6.         0.94862422 3.         0.77339666]\t 0.7107162399424428\t 0.67907472219801\t 5.014737508562483\t 5.064961779569398\n",
            "9  \t [ 9.24652802  2.85452625  6.          0.82083864 14.          0.624768  ]\t 0.7397571279868462\t 0.67907472219801\t 4.67923810840052\t 4.679423082687128\n",
            "\u001b[1m\u001b[92m10\u001b[0m\t \u001b[1m\u001b[92m[ 0.27081994  8.72536784 13.          0.81607342  8.          0.82891087]\u001b[0m\t \u001b[1m\u001b[92m0.6684024492575475\u001b[0m\t \u001b[1m\u001b[92m0.6684024492575475\u001b[0m\t \u001b[1m\u001b[92m4.410565376500199\u001b[0m\t \u001b[1m\u001b[92m4.39620252216752\u001b[0m\n",
            "11 \t [ 8.6330652   9.62113163 11.          0.50355876 13.          0.80231095]\t 0.6810729676933972\t 0.6684024492575475\t 4.788924723046837\t 4.871616866891184\n",
            "12 \t [ 8.76507252  8.76898373 14.          0.51356786  6.          0.73624795]\t 0.6802600475884806\t 0.6684024492575475\t 4.935460102465193\t 4.7853722823116\n",
            "13 \t [ 7.86086296  9.53235807  5.          0.78700181 16.          0.22516618]\t 0.8728710854388536\t 0.6684024492575475\t 4.86655393128778\t 4.835023302441011\n",
            "14 \t [ 9.27473506  0.48916448  9.          0.9279608  19.          0.68123621]\t 0.6739448414977296\t 0.6684024492575475\t 5.139711237116848\t 5.098739780295076\n",
            "15 \t [6.7013581  8.78983047 8.         0.50210667 6.         0.10992865]\t 0.864505287294602\t 0.6684024492575475\t 4.9800385008531025\t 4.877778759289865\n",
            "16 \t [9.70003354 0.07825472 7.         0.79315177 1.         0.1995403 ]\t 0.8658541266182345\t 0.6684024492575475\t 4.515490674448851\t 4.524478147698036\n",
            "17 \t [ 1.94467794  1.47584396  5.          0.91953126 11.          0.49707889]\t 0.8258856905247922\t 0.6684024492575475\t 5.1753602369716525\t 4.837511241762066\n",
            "18 \t [ 5.64670451  8.85432647 14.          0.95807607 10.          0.35707694]\t 0.7882609808277333\t 0.6684024492575475\t 4.340094918562057\t 4.3452108131906435\n",
            "\u001b[1m\u001b[92m19\u001b[0m\t \u001b[1m\u001b[92m[ 0.48637371  2.78458646 12.          0.70150197  2.          0.96585736]\u001b[0m\t \u001b[1m\u001b[92m0.668026783011353\u001b[0m\t \u001b[1m\u001b[92m0.668026783011353\u001b[0m\t \u001b[1m\u001b[92m4.94747889354304\u001b[0m\t \u001b[1m\u001b[92m4.969103538801348\u001b[0m\n",
            "20 \t [ 4.83121679  4.47130268 10.          0.728185   17.          0.20086862]\t 0.863733069206407\t 0.668026783011353\t 4.86736639343194\t 4.8673663357438315\n",
            "21 \t [ 9.82029269  9.84985633  5.          0.72258871 11.          0.9421958 ]\t 0.7335433725717916\t 0.668026783011353\t 4.28420987894494\t 4.2758645987194015\n",
            "22 \t [ 0.51057799  7.98632671  8.          0.8773209  13.          0.97148281]\t 0.6760991691526478\t 0.668026783011353\t 5.230367145357305\t 5.143517304931216\n",
            "23 \t [ 1.14769908  9.46854425 10.          0.58022432 19.          0.87672068]\t 0.6763818131586096\t 0.668026783011353\t 4.475348250460691\t 4.4918909188621905\n",
            "\u001b[1m\u001b[92m24\u001b[0m\t \u001b[1m\u001b[92m[ 0.46676511  3.42223934 13.          0.71405562 11.          0.87561456]\u001b[0m\t \u001b[1m\u001b[92m0.6646623391819284\u001b[0m\t \u001b[1m\u001b[92m0.6646623391819284\u001b[0m\t \u001b[1m\u001b[92m5.049504238981345\u001b[0m\t \u001b[1m\u001b[92m5.003488241379512\u001b[0m\n",
            "25 \t [ 9.70148981  3.84860271 14.          0.8648022   1.          0.77351018]\t 0.6761632488275804\t 0.6646623391819284\t 5.021333938205495\t 4.7809680987244\n",
            "26 \t [ 0.02669598  1.64831584  5.          0.65312552 16.          0.42301503]\t 0.826317354920929\t 0.6646623391819284\t 4.815185302101691\t 4.863181926383193\n",
            "27 \t [ 0.83347683  9.2405824  11.          0.54910641  7.          0.39091807]\t 0.7920844160112999\t 0.6646623391819284\t 4.677470365730984\t 4.677470365730984\n",
            "28 \t [ 7.32261517  3.77223908 13.          0.66532455  8.          0.34613674]\t 0.7978087661541414\t 0.6646623391819284\t 5.193366609603908\t 5.192610316022366\n",
            "29 \t [ 0.9606398   3.99734176 14.          0.87801589 19.          0.63696571]\t 0.6694636250286194\t 0.6646623391819284\t 5.297221489093162\t 5.276533982324607\n",
            "30 \t [5.42020088 3.35712712 5.         0.5        6.62536706 0.1       ]\t 0.8724885207531285\t 0.6646623391819284\t 5.048459856164965\t 5.1762584209683755\n"
          ]
        },
        {
          "output_type": "execute_result",
          "data": {
            "text/plain": [
              "49438.684153303526"
            ]
          },
          "metadata": {},
          "execution_count": 22
        }
      ]
    },
    {
      "cell_type": "code",
      "metadata": {
        "id": "-45l3NU4UNiI",
        "colab": {
          "base_uri": "https://localhost:8080/"
        },
        "outputId": "34964421-1870-4e59-e693-68955bf86656"
      },
      "source": [
        "### Bayesian optimization runs (x20): 'Exact GP ERM' Acquisition Function run number = 3\n",
        "\n",
        "np.random.seed(run_num_3)\n",
        "surrogate_gp_3 = dGaussianProcess(cov_func, optimize=opt)\n",
        "\n",
        "X_train3, X_test3, y_train3, y_test3 = train_test_split(X, y, test_size=test_perc, random_state=run_num_3)\n",
        "\n",
        "def f_syn_polarity3(alpha, gamma, max_depth, subsample, min_child_weight, colsample):\n",
        "    reg = XGBRegressor(reg_alpha=alpha, gamma=gamma, max_depth=int(max_depth), subsample=subsample, min_child_weight=min_child_weight,\n",
        "          colsample_bytree=colsample, n_estimators = n_est, random_state=run_num_3, objective = 'reg:squarederror')\n",
        "    score = np.array(cross_val_score(reg, X=X_train3, y=y_train3).mean())\n",
        "    return operator * score\n",
        "\n",
        "gp_3 = dGPGO_gp(surrogate_gp_3, Acquisition_grad(util_gp), f_syn_polarity3, param, n_jobs = -1) # define BayesOpt\n",
        "gp_3.run(max_iter = max_iter, init_evals = n_init) # run\n",
        "\n",
        "### Return optimal parameters' set:\n",
        "params_gp_3 = gp_3.getResult()[0]\n",
        "params_gp_3['max_depth'] = int(params_gp_3['max_depth'])\n",
        "params_gp_3['min_child_weight'] = int(params_gp_3['min_child_weight'])\n",
        "\n",
        "### Re-train with optimal parameters, run predictons:\n",
        "dX_gp_train3 = xgb.DMatrix(X_train3, y_train3)\n",
        "dX_gp_test3 = xgb.DMatrix(X_test3, y_test3)\n",
        "model_gp_3 = xgb.train(params_gp_3, dX_gp_train3)\n",
        "pred_gp_3 = model_gp_3.predict(dX_gp_test3)\n",
        "\n",
        "rmse_gp_3 = np.sqrt(mean_squared_error(pred_gp_3, y_test3))\n",
        "rmse_gp_3"
      ],
      "execution_count": null,
      "outputs": [
        {
          "output_type": "stream",
          "name": "stdout",
          "text": [
            "Evaluation \t Proposed point \t  Current eval. \t  Best eval. \t         Max. ExactAcqFunc \t Max. ApproxAcqFunc \n",
            "init\t [ 5.50797903  7.08147823 13.          0.56066429 11.          0.11687321]\t 1.0213644638508028\t 0.7688389438662246\t    \t    \n",
            "init\t [ 0.40630737  2.47888297 11.          0.72040492 13.          0.23083313]\t 1.022822678309975\t 0.7688389438662246\t    \t    \n",
            "init\t [ 4.53172301  2.15577008 11.          0.74631796  2.          0.60296868]\t 0.7688389438662246\t 0.7688389438662246\t    \t    \n",
            "init\t [ 2.59252447  4.15101197 13.          0.79330998  8.          0.24118096]\t 1.0239688135226253\t 0.7688389438662246\t    \t    \n",
            "init\t [ 5.44649018  7.80314765 10.          0.62879264 18.          0.44917413]\t 0.8703298117399682\t 0.7688389438662246\t    \t    \n",
            "1  \t [1.56262424 9.7795241  5.         0.91450054 5.         0.53102391]\t 0.8050626816251143\t 0.7688389438662246\t 4.738450179133658\t 4.6967323132294165\n",
            "\u001b[1m\u001b[92m2\u001b[0m\t \u001b[1m\u001b[92m[ 2.46535469  7.06056184  5.          0.53518488 13.          0.98930148]\u001b[0m\t \u001b[1m\u001b[92m0.7347345488605661\u001b[0m\t \u001b[1m\u001b[92m0.7347345488605661\u001b[0m\t \u001b[1m\u001b[92m4.72555886882153\u001b[0m\t \u001b[1m\u001b[92m4.652083700076147\u001b[0m\n",
            "3  \t [ 7.38032831  9.94067232 11.          0.77461843  2.          0.2199184 ]\t 1.0239673069901083\t 0.7347345488605661\t 5.286485024846139\t 5.284569253551325\n",
            "4  \t [ 6.69378835  1.1746468   5.          0.75549171 16.          0.73450657]\t 0.7722220514333056\t 0.7347345488605661\t 4.957330449094547\t 4.879869569432821\n",
            "5  \t [ 0.24010242  9.80847714 13.          0.63702721  3.          0.56729929]\t 0.7723921954821745\t 0.7347345488605661\t 4.634575925727393\t 4.637420914492742\n",
            "6  \t [9.87422438 6.71772444 5.         0.63287091 5.         0.98483042]\t 0.7384798879960105\t 0.7347345488605661\t 4.659576606367592\t 4.670884823651919\n",
            "7  \t [6.87752707 0.15955299 8.         0.55138154 9.         0.67263073]\t 0.7372222724588662\t 0.7347345488605661\t 5.044028363126721\t 4.9635507052753995\n",
            "\u001b[1m\u001b[92m8\u001b[0m\t \u001b[1m\u001b[92m[10.         10.         15.          1.         19.97016437  1.        ]\u001b[0m\t \u001b[1m\u001b[92m0.6548396524742095\u001b[0m\t \u001b[1m\u001b[92m0.6548396524742095\u001b[0m\t \u001b[1m\u001b[92m4.637595158379456\u001b[0m\t \u001b[1m\u001b[92m4.384122335267873\u001b[0m\n",
            "9  \t [ 8.89682762  0.79017134 14.          0.58366818  8.          0.97456627]\t 0.6882258735708705\t 0.6548396524742095\t 4.933673795481201\t 4.812139989308461\n",
            "10 \t [ 8.44289655  0.57103551 12.          0.84075455 17.          0.88566746]\t 0.6798132840292306\t 0.6548396524742095\t 5.157379797988939\t 5.108605891223731\n",
            "11 \t [ 1.21954001  0.36323278  6.          0.64916715 17.          0.72126664]\t 0.7591259448829037\t 0.6548396524742095\t 4.815348611745082\t 4.905846029022124\n",
            "12 \t [ 7.36281279  7.66763777  8.          0.59948159 13.          0.98370581]\t 0.6998375974069359\t 0.6548396524742095\t 4.995762197453587\t 4.995762197453587\n",
            "13 \t [6.20912945 0.39964995 6.         0.93464521 2.         0.86851666]\t 0.730951449819879\t 0.6548396524742095\t 4.98986844444678\t 4.936946518878578\n",
            "14 \t [1.50960194 4.23400924 5.         0.89031631 5.         0.36573726]\t 0.9903357121595885\t 0.6548396524742095\t 4.366020782901523\t 4.383820512618873\n",
            "15 \t [ 8.58495733  5.09928748 13.          0.89538108  1.          0.67774369]\t 0.7408787247915003\t 0.6548396524742095\t 4.903813179689325\t 4.91520502622254\n",
            "16 \t [ 9.86273212  5.79963604 13.          0.69696961 16.          0.70097151]\t 0.7296642769414492\t 0.6548396524742095\t 5.139759877625189\t 5.1476536153082195\n",
            "17 \t [ 9.40129426  8.85637698 13.          0.72340176  7.          0.76030308]\t 0.7059876882234674\t 0.6548396524742095\t 4.698493535483455\t 4.556687597300711\n",
            "18 \t [9.83745664 3.68679807 9.         0.98607907 6.         0.93173856]\t 0.685538272783727\t 0.6548396524742095\t 5.168554846110709\t 5.009763719402811\n",
            "19 \t [ 2.58261481  1.43735307 13.          0.73828328 19.          0.96017932]\t 0.6819322162402592\t 0.6548396524742095\t 5.124969531768574\t 5.108926774283397\n",
            "20 \t [ 1.06084272  8.60821489 11.          0.60672694  9.          0.40602348]\t 0.8723133504012892\t 0.6548396524742095\t 5.01624423786211\t 4.933668355354151\n",
            "21 \t [ 9.83060339  5.43479292  5.          0.93965116 19.          0.81693736]\t 0.7430400763458248\t 0.6548396524742095\t 4.61445660441177\t 4.591036882286647\n",
            "22 \t [ 0.7793921   8.87321184 14.          0.62565306 14.          0.27955137]\t 0.9804360243561806\t 0.6548396524742095\t 5.231915743716938\t 5.1849656508597555\n",
            "23 \t [ 0.89096443  0.          5.          0.5        10.70486842  0.1       ]\t 1.0275047954954335\t 0.6548396524742095\t 4.936140175247127\t 4.991806288844234\n",
            "24 \t [0.  0.  5.  0.5 1.  0.1]\t 1.0276382267404158\t 0.6548396524742095\t 4.960870154693173\t 4.912963305822895\n",
            "25 \t [ 5.97844374  3.36129959  7.          0.91463604 12.          0.38394576]\t 0.8766228713943243\t 0.6548396524742095\t 4.572411272167158\t 4.483618467544334\n",
            "\u001b[1m\u001b[92m26\u001b[0m\t \u001b[1m\u001b[92m[ 8.94329651 10.         15.          1.         12.41385942  1.        ]\u001b[0m\t \u001b[1m\u001b[92m0.6536482646986954\u001b[0m\t \u001b[1m\u001b[92m0.6536482646986954\u001b[0m\t \u001b[1m\u001b[92m4.8678930396999025\u001b[0m\t \u001b[1m\u001b[92m4.792214877839583\u001b[0m\n",
            "27 \t [ 3.48494009  3.901268    7.11378496  1.         19.11378496  1.        ]\t 0.6872502862699843\t 0.6536482646986954\t 4.861632309210668\t 4.812083256454404\n",
            "28 \t [0.10407235 6.38352286 6.         0.56621173 1.         0.79521576]\t 0.7357893847800288\t 0.6536482646986954\t 4.569849113934855\t 4.717422710460157\n",
            "29 \t [0.33715852 0.41541443 9.         0.53276138 6.         0.26454539]\t 0.9783805417169177\t 0.6536482646986954\t 4.728855011731455\t 4.674476990161869\n",
            "30 \t [9.08126432 3.56543214 8.         0.91637613 1.         0.41674238]\t 0.8703845962289429\t 0.6536482646986954\t 4.678609380557877\t 4.577392256280459\n"
          ]
        },
        {
          "output_type": "execute_result",
          "data": {
            "text/plain": [
              "47949.10243627046"
            ]
          },
          "metadata": {},
          "execution_count": 23
        }
      ]
    },
    {
      "cell_type": "code",
      "metadata": {
        "id": "voPfk1UDUQU0",
        "colab": {
          "base_uri": "https://localhost:8080/"
        },
        "outputId": "1ae92ce0-d392-4b36-a575-ce015e98997a"
      },
      "source": [
        "### Bayesian optimization runs (x20): 'Exact GP ERM' Acquisition Function run number = 4\n",
        "\n",
        "np.random.seed(run_num_4)\n",
        "surrogate_gp_4 = dGaussianProcess(cov_func, optimize=opt)\n",
        "\n",
        "X_train4, X_test4, y_train4, y_test4 = train_test_split(X, y, test_size=test_perc, random_state=run_num_4)\n",
        "\n",
        "def f_syn_polarity4(alpha, gamma, max_depth, subsample, min_child_weight, colsample):\n",
        "    reg = XGBRegressor(reg_alpha=alpha, gamma=gamma, max_depth=int(max_depth), subsample=subsample, min_child_weight=min_child_weight,\n",
        "          colsample_bytree=colsample, n_estimators = n_est, random_state=run_num_4, objective = 'reg:squarederror')\n",
        "    score = np.array(cross_val_score(reg, X=X_train4, y=y_train4).mean())\n",
        "    return operator * score\n",
        "\n",
        "gp_4 = dGPGO_gp(surrogate_gp_4, Acquisition_grad(util_gp), f_syn_polarity4, param, n_jobs = -1) # define BayesOpt\n",
        "gp_4.run(max_iter = max_iter, init_evals = n_init) # run\n",
        "\n",
        "### Return optimal parameters' set:\n",
        "params_gp_4 = gp_4.getResult()[0]\n",
        "params_gp_4['max_depth'] = int(params_gp_4['max_depth'])\n",
        "params_gp_4['min_child_weight'] = int(params_gp_4['min_child_weight'])\n",
        "\n",
        "### Re-train with optimal parameters, run predictons:\n",
        "dX_gp_train4 = xgb.DMatrix(X_train4, y_train4)\n",
        "dX_gp_test4 = xgb.DMatrix(X_test4, y_test4)\n",
        "model_gp_4 = xgb.train(params_gp_4, dX_gp_train4)\n",
        "pred_gp_4 = model_gp_4.predict(dX_gp_test4)\n",
        "\n",
        "rmse_gp_4 = np.sqrt(mean_squared_error(pred_gp_4, y_test4))\n",
        "rmse_gp_4"
      ],
      "execution_count": null,
      "outputs": [
        {
          "output_type": "stream",
          "name": "stdout",
          "text": [
            "Evaluation \t Proposed point \t  Current eval. \t  Best eval. \t         Max. ExactAcqFunc \t Max. ApproxAcqFunc \n",
            "init\t [9.67029839 5.47232249 6.         0.92781047 9.         0.72795594]\t 0.7356156069458683\t 0.6641721421409617\t    \t    \n",
            "init\t [ 2.16089496  9.76274455 12.          0.62649118  9.          0.66966679]\t 0.7070759857649549\t 0.6641721421409617\t    \t    \n",
            "init\t [ 0.05159149  5.72356491  9.          0.99170034 10.          0.10808749]\t 0.9423811784101735\t 0.6641721421409617\t    \t    \n",
            "init\t [ 3.86571283  0.44160058 10.          0.90553105 18.          0.95407958]\t 0.6641721421409617\t 0.6641721421409617\t    \t    \n",
            "init\t [ 7.86305986  8.66289299  6.          0.53285477 14.          0.25117497]\t 0.8244425146132294\t 0.6641721421409617\t    \t    \n",
            "1  \t [ 8.45443649  8.61014312 11.          0.83475494  1.          0.14018305]\t 0.9441431878307984\t 0.6641721421409617\t 4.8265402407898765\t 4.846897055274186\n",
            "2  \t [5.94148132 0.3774518  8.         0.8050532  1.         0.46608024]\t 0.7805337335260593\t 0.6641721421409617\t 4.857338618954214\t 4.836354631934177\n",
            "3  \t [ 5.85683381  2.94167057 14.          0.88584905  6.          0.61705001]\t 0.7122631009157718\t 0.6641721421409617\t 4.915841153735266\t 4.916512894684513\n",
            "4  \t [ 5.92074392  7.05411368 14.          0.56897417 18.          0.54051446]\t 0.7168223003470561\t 0.6641721421409617\t 5.324884695540542\t 5.380024500055981\n",
            "5  \t [0.         0.         5.         0.5        6.73198666 0.1       ]\t 0.9404794500681988\t 0.6641721421409617\t 4.803725811846552\t 4.66684779620676\n",
            "6  \t [ 9.52993971  0.33702013  5.          0.64331783 18.          0.12071935]\t 0.9390440646887555\t 0.6641721421409617\t 4.903227197178291\t 4.8921744548814665\n",
            "7  \t [3.21596988 8.94366669 5.         0.67472534 1.         0.78039064]\t 0.7531044966742895\t 0.6641721421409617\t 4.6806430333380415\t 4.679452849019638\n",
            "8  \t [ 0.32236964  2.41893129 14.          0.88540422 15.          0.72064562]\t 0.6990250321451492\t 0.6641721421409617\t 4.628695303791836\t 4.6492770125877\n",
            "\u001b[1m\u001b[92m9\u001b[0m\t \u001b[1m\u001b[92m[ 9.60850755 10.         11.70227466  1.         10.70227466  1.        ]\u001b[0m\t \u001b[1m\u001b[92m0.6453275415844378\u001b[0m\t \u001b[1m\u001b[92m0.6453275415844378\u001b[0m\t \u001b[1m\u001b[92m4.621836500028689\u001b[0m\t \u001b[1m\u001b[92m4.5528937061993275\u001b[0m\n",
            "10 \t [ 3.07807355  8.11709345  7.          0.6375573  19.          0.82418508]\t 0.7129287838369809\t 0.6453275415844378\t 5.185591500218033\t 5.228252743991592\n",
            "11 \t [ 9.65147322  0.33792642 12.          0.92327424 17.          0.84355403]\t 0.681769217592037\t 0.6453275415844378\t 4.9213492721862835\t 4.799080591632968\n",
            "12 \t [ 8.48843563  0.37785156 11.          0.83297408  1.          0.855572  ]\t 0.6923205913979871\t 0.6453275415844378\t 4.895696643504746\t 4.895696643504746\n",
            "13 \t [ 3.43261604  8.66268038 14.          0.50531501  2.          0.27796316]\t 0.8344269219556752\t 0.6453275415844378\t 5.150966551627611\t 5.085484577970267\n",
            "14 \t [ 3.22282465  1.05364145  6.          0.75774626 12.          0.92739587]\t 0.7076032952079638\t 0.6453275415844378\t 4.610696569566525\t 4.66515599724434\n",
            "15 \t [9.41541409 7.69245319 5.         0.52626745 1.         0.60186246]\t 0.7682434061303821\t 0.6453275415844378\t 4.587090252290988\t 4.58059011424731\n",
            "16 \t [ 1.59376327  9.3637724   5.          0.56698742 13.          0.29635446]\t 0.8312840491127815\t 0.6453275415844378\t 4.823714185250717\t 4.762186463416455\n",
            "17 \t [0.  0.  5.  0.5 1.  0.1]\t 0.9408999252070572\t 0.6453275415844378\t 5.079402999662866\t 5.132375863401712\n",
            "18 \t [ 5.7913209   0.66562836 12.          0.88967575 12.          0.45276187]\t 0.7701049123721093\t 0.6453275415844378\t 4.699579276465622\t 4.579463201317613\n",
            "19 \t [6.04758549 0.99675153 5.         0.67521977 7.         0.8442095 ]\t 0.7543233654111011\t 0.6453275415844378\t 4.906445376146213\t 4.836005649246172\n",
            "\u001b[1m\u001b[92m20\u001b[0m\t \u001b[1m\u001b[92m[10. 10. 15.  1. 20.  1.]\u001b[0m\t \u001b[1m\u001b[92m0.6437292534451688\u001b[0m\t \u001b[1m\u001b[92m0.6437292534451688\u001b[0m\t \u001b[1m\u001b[92m4.759602209395104\u001b[0m\t \u001b[1m\u001b[92m4.491189500834375\u001b[0m\n",
            "21 \t [3.83586625 6.82676995 9.         0.53079541 5.         0.93774826]\t 0.6805235814013784\t 0.6437292534451688\t 4.750144930203342\t 4.606396727852529\n",
            "22 \t [ 0.47074559  8.10477098 13.          0.56791553 14.          0.20602216]\t 0.9419371446444249\t 0.6437292534451688\t 4.8536309206029244\t 4.94202339956564\n",
            "23 \t [4.54498845 4.73987501 6.         0.7658368  6.         0.15012886]\t 0.9412996363676764\t 0.6437292534451688\t 4.759128801049681\t 4.759128801049681\n",
            "24 \t [ 9.80678487  3.95044929 10.          0.72584344 13.          0.44065799]\t 0.7744169895010555\t 0.6437292534451688\t 4.479418011206663\t 4.444313705332184\n",
            "25 \t [ 1.0597149   0.38351024 12.          0.75387748  5.          0.85079697]\t 0.6904594739904761\t 0.6437292534451688\t 4.434322164128801\t 4.442338730862659\n",
            "26 \t [ 0.52746177  0.91300727  5.70921531  0.5        17.70921531  0.1       ]\t 0.9400557578776609\t 0.6437292534451688\t 4.702657181200353\t 4.721032684994691\n",
            "27 \t [ 9.5097348   7.3660116   9.          0.93170762 19.          0.34791577]\t 0.8162562136213343\t 0.6437292534451688\t 5.500546345482004\t 5.520007696806394\n",
            "28 \t [8.0273803  9.87833752 7.         0.89111617 6.         0.4918673 ]\t 0.7835403275506838\t 0.6437292534451688\t 4.64260614529442\t 4.575451521412941\n",
            "29 \t [ 0.          0.93408053 11.12982099  0.5        11.12982099  0.1       ]\t 0.9438467410602944\t 0.6437292534451688\t 4.5943802955901845\t 4.728459362464136\n",
            "\u001b[1m\u001b[92m30\u001b[0m\t \u001b[1m\u001b[92m[ 9.65854213  4.11912588 15.          1.          9.16593907  1.        ]\u001b[0m\t \u001b[1m\u001b[92m0.6420894908216785\u001b[0m\t \u001b[1m\u001b[92m0.6420894908216785\u001b[0m\t \u001b[1m\u001b[92m5.064359391030236\u001b[0m\t \u001b[1m\u001b[92m4.949715623239611\u001b[0m\n"
          ]
        },
        {
          "output_type": "execute_result",
          "data": {
            "text/plain": [
              "49143.54464745735"
            ]
          },
          "metadata": {},
          "execution_count": 24
        }
      ]
    },
    {
      "cell_type": "code",
      "metadata": {
        "id": "8kEnTd7MUdlv",
        "colab": {
          "base_uri": "https://localhost:8080/"
        },
        "outputId": "b249f9b9-7511-495f-8baf-a81f39fd1be4"
      },
      "source": [
        "### Bayesian optimization runs (x20): 'Exact GP ERM' Acquisition Function run number = 5\n",
        "\n",
        "np.random.seed(run_num_5)\n",
        "surrogate_gp_5 = dGaussianProcess(cov_func, optimize=opt)\n",
        "\n",
        "X_train5, X_test5, y_train5, y_test5 = train_test_split(X, y, test_size=test_perc, random_state=run_num_5)\n",
        "\n",
        "def f_syn_polarity5(alpha, gamma, max_depth, subsample, min_child_weight, colsample):\n",
        "    reg = XGBRegressor(reg_alpha=alpha, gamma=gamma, max_depth=int(max_depth), subsample=subsample, min_child_weight=min_child_weight,\n",
        "          colsample_bytree=colsample, n_estimators = n_est, random_state=run_num_5, objective = 'reg:squarederror')\n",
        "    score = np.array(cross_val_score(reg, X=X_train5, y=y_train5).mean())\n",
        "    return operator * score\n",
        "\n",
        "gp_5 = dGPGO_gp(surrogate_gp_5, Acquisition_grad(util_gp), f_syn_polarity5, param, n_jobs = -1) # define BayesOpt\n",
        "gp_5.run(max_iter = max_iter, init_evals = n_init) # run\n",
        "\n",
        "### Return optimal parameters' set:\n",
        "params_gp_5 = gp_5.getResult()[0]\n",
        "params_gp_5['max_depth'] = int(params_gp_5['max_depth'])\n",
        "params_gp_5['min_child_weight'] = int(params_gp_5['min_child_weight'])\n",
        "\n",
        "### Re-train with optimal parameters, run predictons:\n",
        "dX_gp_train5 = xgb.DMatrix(X_train5, y_train5)\n",
        "dX_gp_test5 = xgb.DMatrix(X_test5, y_test5)\n",
        "model_gp_5 = xgb.train(params_gp_5, dX_gp_train5)\n",
        "pred_gp_5 = model_gp_5.predict(dX_gp_test5)\n",
        "\n",
        "rmse_gp_5 = np.sqrt(mean_squared_error(pred_gp_5, y_test5))\n",
        "rmse_gp_5"
      ],
      "execution_count": null,
      "outputs": [
        {
          "output_type": "stream",
          "name": "stdout",
          "text": [
            "Evaluation \t Proposed point \t  Current eval. \t  Best eval. \t         Max. ExactAcqFunc \t Max. ApproxAcqFunc \n",
            "init\t [ 2.21993171  8.70732306 11.          0.68186845 10.          0.53957007]\t 0.7403320965261992\t 0.7403320965261992\t    \t    \n",
            "init\t [ 6.11743863  7.65907856  5.          0.64840025 16.          0.82745351]\t 0.7493104333264211\t 0.7403320965261992\t    \t    \n",
            "init\t [ 6.49458883  8.19472793  6.          0.93996852 19.          0.36647194]\t 0.9342492295788805\t 0.7403320965261992\t    \t    \n",
            "init\t [ 6.28787909  5.7983781   6.          0.63290956 17.          0.18402673]\t 0.939514214921639\t 0.7403320965261992\t    \t    \n",
            "init\t [8.26554249 8.33492742 9.         0.97900675 3.         0.26957319]\t 0.921290745787579\t 0.7403320965261992\t    \t    \n",
            "1  \t [1.95474956 1.21548467 5.         0.65548996 6.         0.3261206 ]\t 0.9436861715841889\t 0.7403320965261992\t 4.783992200615561\t 4.764208711329295\n",
            "2  \t [ 3.90043826  0.30059527 11.          0.95660877 13.          0.16396145]\t 0.9276450520884063\t 0.7403320965261992\t 4.94820403770068\t 4.934632852105013\n",
            "\u001b[1m\u001b[92m3\u001b[0m\t \u001b[1m\u001b[92m[ 1.89102498  3.81201457 14.          0.79693323  4.          0.52365093]\u001b[0m\t \u001b[1m\u001b[92m0.7398148307506893\u001b[0m\t \u001b[1m\u001b[92m0.7398148307506893\u001b[0m\t \u001b[1m\u001b[92m4.530442471928309\u001b[0m\t \u001b[1m\u001b[92m4.510095244379702\u001b[0m\n",
            "4  \t [ 8.98063632  2.97885127  9.          0.64249728 18.          0.16342995]\t 0.9276698902289097\t 0.7398148307506893\t 4.901271648809893\t 4.901271648809893\n",
            "\u001b[1m\u001b[92m5\u001b[0m\t \u001b[1m\u001b[92m[ 7.2080363   0.14020863 14.          0.70262402  1.          0.81354205]\u001b[0m\t \u001b[1m\u001b[92m0.6989575443158274\u001b[0m\t \u001b[1m\u001b[92m0.6989575443158274\u001b[0m\t \u001b[1m\u001b[92m5.082059079597143\u001b[0m\t \u001b[1m\u001b[92m4.824683332831536\u001b[0m\n",
            "\u001b[1m\u001b[92m6\u001b[0m\t \u001b[1m\u001b[92m[10.          9.59464903 15.          1.         20.          1.        ]\u001b[0m\t \u001b[1m\u001b[92m0.6458620128690523\u001b[0m\t \u001b[1m\u001b[92m0.6458620128690523\u001b[0m\t \u001b[1m\u001b[92m4.718169219249343\u001b[0m\t \u001b[1m\u001b[92m4.63057076377285\u001b[0m\n",
            "7  \t [4.37003348 9.87890289 5.         0.65374913 7.         0.62009063]\t 0.8160533272968584\t 0.6458620128690523\t 4.769428428455783\t 4.715822166397881\n",
            "8  \t [ 2.68679241  7.25440098 14.          0.65390023 17.          0.99358304]\t 0.6747588495441635\t 0.6458620128690523\t 4.564675721349318\t 4.539186543871346\n",
            "9  \t [ 9.58792626  8.48977785 13.          0.60628176  9.          0.18518956]\t 0.9277423136052668\t 0.6458620128690523\t 5.242231005081878\t 5.2850390149730835\n",
            "10 \t [ 6.97752806  2.98678749 10.          0.57146948  7.          0.9882264 ]\t 0.6796390241442563\t 0.6458620128690523\t 4.7742065757796235\t 4.732511481094515\n",
            "11 \t [ 9.88162042  4.98501997  7.          0.71514689 11.          0.88825005]\t 0.6938260252917123\t 0.6458620128690523\t 5.094259287586075\t 4.9243571296746165\n",
            "12 \t [ 1.24947698  9.04398434 11.          0.51619206  1.          0.25149054]\t 0.938747258179798\t 0.6458620128690523\t 4.966558712731334\t 4.951407398363076\n",
            "13 \t [4.29434972 2.01082809 8.         0.64047641 1.         0.68777935]\t 0.7130088179210804\t 0.6458620128690523\t 5.258971791943661\t 5.15653947170106\n",
            "14 \t [8.65416386 1.0753157  5.         0.51446617 5.         0.26433033]\t 0.9436404003700456\t 0.6458620128690523\t 4.394256599049849\t 4.627082633276962\n",
            "15 \t [ 0.69381482  7.09764326  5.          0.79260103 13.          0.36148114]\t 0.9417860014577227\t 0.6458620128690523\t 4.620744486957623\t 4.530698550940974\n",
            "16 \t [ 5.90866369  1.23912394  5.          0.73203526 13.          0.44895514]\t 0.8392510578678525\t 0.6458620128690523\t 5.028509532303947\t 4.999018908496458\n",
            "17 \t [ 9.82957504  3.67845167 14.          0.66259018 12.          0.65947706]\t 0.6974835790346434\t 0.6458620128690523\t 4.921258399311067\t 4.969580844096079\n",
            "18 \t [ 0.33154545  2.45627958  8.          0.87454095 14.          0.94998466]\t 0.680697624911\t 0.6458620128690523\t 5.175625275296907\t 5.267826863237406\n",
            "19 \t [10.         10.          9.37903877  1.         16.37903877  1.        ]\t 0.6549325643063361\t 0.6458620128690523\t 4.880920368758658\t 4.828051414363412\n",
            "20 \t [ 2.93448298  5.80717368  5.          0.89608154 19.          0.6387738 ]\t 0.7616619440927369\t 0.6458620128690523\t 4.696646839458508\t 4.6965247530073775\n",
            "21 \t [ 1.45932766  1.48724096 14.          0.8053907  17.          0.73407168]\t 0.696669546047991\t 0.6458620128690523\t 4.802711994876818\t 4.895094716791304\n",
            "22 \t [1.22587583 6.62501016 8.97024148 0.5        5.97024148 0.1       ]\t 0.9300207135435375\t 0.6458620128690523\t 4.905684353545557\t 5.023564223275622\n",
            "23 \t [0.  0.  5.  0.5 1.  0.1]\t 0.9489319500726727\t 0.6458620128690523\t 5.182159500616649\t 5.171835778602112\n",
            "24 \t [5.80891976 6.22815082 5.         0.60791835 2.         0.19304152]\t 0.9476839298613445\t 0.6458620128690523\t 4.696731395828124\t 4.640777049591561\n",
            "25 \t [ 6.05189812  5.21423081 10.17947731  0.5        13.17947731  0.1       ]\t 0.9298424629235571\t 0.6458620128690523\t 4.823331525165898\t 4.670715594085312\n",
            "\u001b[1m\u001b[92m26\u001b[0m\t \u001b[1m\u001b[92m[ 9.22558868 10.         15.          1.         14.81599467  1.        ]\u001b[0m\t \u001b[1m\u001b[92m0.6457065030086862\u001b[0m\t \u001b[1m\u001b[92m0.6457065030086862\u001b[0m\t \u001b[1m\u001b[92m5.179753710267851\u001b[0m\t \u001b[1m\u001b[92m5.208402002657702\u001b[0m\n",
            "27 \t [ 6.72997514  0.60780575 14.          0.89835235 18.          0.97859978]\t 0.6669043358767854\t 0.6457065030086862\t 5.24095199362175\t 5.237769522421967\n",
            "28 \t [9.64880583 0.85455793 9.         0.80366346 1.         0.54097439]\t 0.7473671119907898\t 0.6457065030086862\t 5.005604775611014\t 4.974670850659764\n",
            "29 \t [10.         10.         14.00026162  1.          3.00026162  1.        ]\t 0.6480809050621559\t 0.6457065030086862\t 4.99205151866265\t 5.056432744474333\n",
            "30 \t [ 6.70889282  4.76705147 14.80504615  1.          4.80504615  1.        ]\t 0.6476571742915229\t 0.6457065030086862\t 4.87815992141473\t 4.8332960794438575\n"
          ]
        },
        {
          "output_type": "execute_result",
          "data": {
            "text/plain": [
              "50481.71745089331"
            ]
          },
          "metadata": {},
          "execution_count": 25
        }
      ]
    },
    {
      "cell_type": "code",
      "metadata": {
        "id": "OjVSH6caUgyy",
        "colab": {
          "base_uri": "https://localhost:8080/"
        },
        "outputId": "739ff518-46d5-42b1-a614-6e5c1dc95728"
      },
      "source": [
        "### Bayesian optimization runs (x20): 'Exact GP ERM' Acquisition Function run number = 6\n",
        "\n",
        "np.random.seed(run_num_6)\n",
        "surrogate_gp_6 = dGaussianProcess(cov_func, optimize=opt)\n",
        "\n",
        "X_train6, X_test6, y_train6, y_test6 = train_test_split(X, y, test_size=test_perc, random_state=run_num_6)\n",
        "\n",
        "def f_syn_polarity6(alpha, gamma, max_depth, subsample, min_child_weight, colsample):\n",
        "    reg = XGBRegressor(reg_alpha=alpha, gamma=gamma, max_depth=int(max_depth), subsample=subsample, min_child_weight=min_child_weight,\n",
        "          colsample_bytree=colsample, n_estimators = n_est, random_state=run_num_6, objective = 'reg:squarederror')\n",
        "    score = np.array(cross_val_score(reg, X=X_train6, y=y_train6).mean())\n",
        "    return operator * score\n",
        "\n",
        "gp_6 = dGPGO_gp(surrogate_gp_6, Acquisition_grad(util_gp), f_syn_polarity6, param, n_jobs = -1) # define BayesOpt\n",
        "gp_6.run(max_iter = max_iter, init_evals = n_init) # run\n",
        "\n",
        "### Return optimal parameters' set:\n",
        "params_gp_6 = gp_6.getResult()[0]\n",
        "params_gp_6['max_depth'] = int(params_gp_6['max_depth'])\n",
        "params_gp_6['min_child_weight'] = int(params_gp_6['min_child_weight'])\n",
        "\n",
        "### Re-train with optimal parameters, run predictons:\n",
        "dX_gp_train6 = xgb.DMatrix(X_train6, y_train6)\n",
        "dX_gp_test6 = xgb.DMatrix(X_test6, y_test6)\n",
        "model_gp_6 = xgb.train(params_gp_6, dX_gp_train6)\n",
        "pred_gp_6 = model_gp_6.predict(dX_gp_test6)\n",
        "\n",
        "rmse_gp_6 = np.sqrt(mean_squared_error(pred_gp_6, y_test6))\n",
        "rmse_gp_6"
      ],
      "execution_count": null,
      "outputs": [
        {
          "output_type": "stream",
          "name": "stdout",
          "text": [
            "Evaluation \t Proposed point \t  Current eval. \t  Best eval. \t         Max. ExactAcqFunc \t Max. ApproxAcqFunc \n",
            "init\t [8.92860151 3.31979805 5.         0.99251441 2.         0.57683563]\t 0.8597082353696148\t 0.7312157182363477\t    \t    \n",
            "init\t [4.18807429 3.35407849 9.         0.87750649 3.         0.56623277]\t 0.8283267033366734\t 0.7312157182363477\t    \t    \n",
            "init\t [ 5.788586    6.45355096 14.          0.70660047 12.          0.82154882]\t 0.7312157182363477\t 0.7312157182363477\t    \t    \n",
            "init\t [4.58184578 6.73834679 5.         0.90108528 3.         0.65482895]\t 0.835804847353631\t 0.7312157182363477\t    \t    \n",
            "init\t [ 4.42510505  5.75952352 14.          0.97882365 15.          0.29525604]\t 1.0201879064028692\t 0.7312157182363477\t    \t    \n",
            "1  \t [ 2.83859384  1.8954219   7.          0.66740302 13.          0.2701964 ]\t 1.019213535386702\t 0.7312157182363477\t 4.482517174221263\t 4.4710965020062625\n",
            "2  \t [ 8.38264396  7.97650716 14.          0.82584689  4.          0.25017455]\t 1.0290226001513474\t 0.7312157182363477\t 4.842358212097011\t 4.76607609834322\n",
            "3  \t [8.90357673 8.23982464 5.         0.66456142 9.         0.34395649]\t 1.0228902128409325\t 0.7312157182363477\t 5.130422204122578\t 5.1172545496217685\n",
            "\u001b[1m\u001b[92m4\u001b[0m\t \u001b[1m\u001b[92m[10. 10. 15.  1. 20.  1.]\u001b[0m\t \u001b[1m\u001b[92m0.6519505196682808\u001b[0m\t \u001b[1m\u001b[92m0.6519505196682808\u001b[0m\t \u001b[1m\u001b[92m4.92943034502375\u001b[0m\t \u001b[1m\u001b[92m4.785323653513992\u001b[0m\n",
            "5  \t [ 0.84801146  1.44124026 14.          0.54887437  7.          0.93547384]\t 0.6939533330723558\t 0.6519505196682808\t 4.921991980842748\t 4.916633696667442\n",
            "6  \t [ 8.37754293  7.69636444  8.          0.98881796 16.          0.46623185]\t 0.9234519385526558\t 0.6519505196682808\t 4.727187572518335\t 4.57411428206862\n",
            "7  \t [ 0.5654966   9.52584762 14.          0.82016688  4.          0.10717254]\t 1.0610911324495744\t 0.6519505196682808\t 4.891514820691823\t 4.938301953336558\n",
            "8  \t [ 6.75909949  0.94220097  9.          0.71741448 19.          0.94972086]\t 0.6895189879978737\t 0.6519505196682808\t 4.840095138650504\t 4.8867459461149405\n",
            "9  \t [ 1.43292764  9.31823681  5.          0.51738676 10.          0.30600768]\t 1.0250396556181756\t 0.6519505196682808\t 4.650003353059782\t 4.631179480030033\n",
            "10 \t [ 0.09135886  8.11961466 10.          0.74013552 12.          0.97362941]\t 0.6832941408312798\t 0.6519505196682808\t 4.770160088773771\t 4.7583111168075005\n",
            "11 \t [ 8.51551086  2.70859558 10.          0.84297574  9.          0.42302662]\t 0.9225835870454052\t 0.6519505196682808\t 4.447753020987423\t 4.51849197281306\n",
            "12 \t [ 1.03080361  6.70895845  7.          0.73336025 19.          0.31104879]\t 1.016921838187168\t 0.6519505196682808\t 5.110326859928146\t 4.945401681460326\n",
            "13 \t [0.2400873  1.61429062 5.         0.72296529 1.         0.1077861 ]\t 1.0624531854847687\t 0.6519505196682808\t 4.574774924623216\t 4.678733777778929\n",
            "14 \t [9.89801174 9.77563967 9.         0.68555662 3.         0.83921118]\t 0.73813303625317\t 0.6519505196682808\t 5.186053558615987\t 5.049205989522797\n",
            "15 \t [ 0.50127522  1.94924928 11.          0.89270197 19.          0.91286914]\t 0.6768798166626013\t 0.6519505196682808\t 5.235420698014956\t 5.218549607284317\n",
            "16 \t [ 8.27965778  0.50999055  5.          0.77678861 11.          0.85564655]\t 0.7905013033543324\t 0.6519505196682808\t 4.503221790557377\t 4.45223432827175\n",
            "17 \t [5.45577791 0.01600384 5.         0.68033296 5.         0.47973584]\t 0.9614697348345509\t 0.6519505196682808\t 4.7522565106538535\t 4.733173493533205\n",
            "\u001b[1m\u001b[92m18\u001b[0m\t \u001b[1m\u001b[92m[10.        10.        15.         1.        13.8347907  1.       ]\u001b[0m\t \u001b[1m\u001b[92m0.6512338672125428\u001b[0m\t \u001b[1m\u001b[92m0.6512338672125428\u001b[0m\t \u001b[1m\u001b[92m4.877612752242399\u001b[0m\t \u001b[1m\u001b[92m4.71381388990709\u001b[0m\n",
            "19 \t [ 5.98453698  2.00451687 13.          0.80337068 13.          0.24875337]\t 1.0599380721478096\t 0.6512338672125428\t 4.951028142966822\t 4.951028142966822\n",
            "20 \t [ 0.08217017  5.74710834 10.          0.94165761  5.          0.50303435]\t 0.8246545779716495\t 0.6512338672125428\t 5.062892765449808\t 5.071016582652583\n",
            "21 \t [4.70222718 7.76335614 9.         0.92367012 9.         0.28724782]\t 1.0152545517792837\t 0.6512338672125428\t 4.980503316815673\t 4.921013636149966\n",
            "22 \t [ 9.56780844  0.64608047 12.          0.83676299  2.          0.96098008]\t 0.6833221374902283\t 0.6512338672125428\t 4.670211577342812\t 4.665513636071652\n",
            "23 \t [ 5.35289055  4.65907777 13.46123718  1.         20.          1.        ]\t 0.6521815371682091\t 0.6512338672125428\t 4.790169048921531\t 4.835469984376641\n",
            "24 \t [0.02966045 1.1870223  6.         0.92997678 6.         0.66621503]\t 0.8113301041670242\t 0.6512338672125428\t 4.358122876017336\t 4.374812168093343\n",
            "25 \t [ 3.81847995  9.43141013 12.          0.56182914 19.          0.95661081]\t 0.6893334668436607\t 0.6512338672125428\t 4.85673059208281\t 4.8204629632508835\n",
            "26 \t [10.         10.          9.54998285  1.         20.          1.        ]\t 0.6611320833450127\t 0.6512338672125428\t 4.74897185382783\t 4.875511024516467\n",
            "27 \t [ 3.07145128  8.24536112 10.          0.9499357   1.          0.14212758]\t 1.0601608868750403\t 0.6512338672125428\t 4.572446404759885\t 4.745665578833212\n",
            "28 \t [10.          7.94651529  9.97169729  1.          9.97169729  1.        ]\t 0.6589951009292451\t 0.6512338672125428\t 4.678993520413966\t 4.529128692416464\n",
            "29 \t [ 1.0021313   4.9490761  14.          0.62016719  1.          0.18537333]\t 1.0636257139268357\t 0.6512338672125428\t 4.77187986150134\t 4.87358667407728\n",
            "30 \t [ 4.46432054  1.37976416 14.          0.91350827  1.          0.70455501]\t 0.786373065109467\t 0.6512338672125428\t 4.576159542458984\t 4.558313012175312\n"
          ]
        },
        {
          "output_type": "execute_result",
          "data": {
            "text/plain": [
              "46629.15174803453"
            ]
          },
          "metadata": {},
          "execution_count": 26
        }
      ]
    },
    {
      "cell_type": "code",
      "metadata": {
        "id": "J1WsphKSUj19",
        "colab": {
          "base_uri": "https://localhost:8080/"
        },
        "outputId": "72781d7f-3ab3-4001-b29a-b6667eae1da8"
      },
      "source": [
        "### Bayesian optimization runs (x20): 'Exact GP ERM' Acquisition Function run number = 7\n",
        "\n",
        "np.random.seed(run_num_7)\n",
        "surrogate_gp_7 = dGaussianProcess(cov_func, optimize=opt)\n",
        "\n",
        "X_train7, X_test7, y_train7, y_test7 = train_test_split(X, y, test_size=test_perc, random_state=run_num_7)\n",
        "\n",
        "def f_syn_polarity7(alpha, gamma, max_depth, subsample, min_child_weight, colsample):\n",
        "    reg = XGBRegressor(reg_alpha=alpha, gamma=gamma, max_depth=int(max_depth), subsample=subsample, min_child_weight=min_child_weight,\n",
        "          colsample_bytree=colsample, n_estimators = n_est, random_state=run_num_7, objective = 'reg:squarederror')\n",
        "    score = np.array(cross_val_score(reg, X=X_train7, y=y_train7).mean())\n",
        "    return operator * score\n",
        "\n",
        "gp_7 = dGPGO_gp(surrogate_gp_7, Acquisition_grad(util_gp), f_syn_polarity7, param, n_jobs = -1) # define BayesOpt\n",
        "gp_7.run(max_iter = max_iter, init_evals = n_init) # run\n",
        "\n",
        "### Return optimal parameters' set:\n",
        "params_gp_7 = gp_7.getResult()[0]\n",
        "params_gp_7['max_depth'] = int(params_gp_7['max_depth'])\n",
        "params_gp_7['min_child_weight'] = int(params_gp_7['min_child_weight'])\n",
        "\n",
        "### Re-train with optimal parameters, run predictons:\n",
        "dX_gp_train7 = xgb.DMatrix(X_train7, y_train7)\n",
        "dX_gp_test7 = xgb.DMatrix(X_test7, y_test7)\n",
        "model_gp_7 = xgb.train(params_gp_7, dX_gp_train7)\n",
        "pred_gp_7 = model_gp_7.predict(dX_gp_test7)\n",
        "\n",
        "rmse_gp_7 = np.sqrt(mean_squared_error(pred_gp_7, y_test7))\n",
        "rmse_gp_7"
      ],
      "execution_count": null,
      "outputs": [
        {
          "output_type": "stream",
          "name": "stdout",
          "text": [
            "Evaluation \t Proposed point \t  Current eval. \t  Best eval. \t         Max. ExactAcqFunc \t Max. ApproxAcqFunc \n",
            "init\t [0.76308289 7.79918792 8.         0.98911145 8.         0.98019056]\t 0.6599162825175136\t 0.6529031062312245\t    \t    \n",
            "init\t [ 5.3849587   5.01120464 13.          0.74994125  5.          0.88192131]\t 0.6529031062312245\t 0.6529031062312245\t    \t    \n",
            "init\t [ 3.30839249  3.9294231  12.          0.6440728  13.          0.41137564]\t 0.7849988476524127\t 0.6529031062312245\t    \t    \n",
            "init\t [9.29528191 2.6258377  5.         0.80027446 1.         0.86616513]\t 0.7434573966703171\t 0.6529031062312245\t    \t    \n",
            "init\t [ 1.74052764  7.90763512 14.          0.7244129   4.          0.77536887]\t 0.6887936732176462\t 0.6529031062312245\t    \t    \n",
            "1  \t [3.43305102 3.00339076 8.         0.71322679 4.         0.33322219]\t 0.8461730749178773\t 0.6529031062312245\t 4.938027638859675\t 4.9327860343071475\n",
            "2  \t [ 8.27276329  5.80705371  6.          0.6575149  16.          0.66596626]\t 0.7280339284910606\t 0.6529031062312245\t 4.624944854633672\t 4.621612965581566\n",
            "3  \t [ 8.97988092  8.79483413 14.          0.55379557 13.          0.92924117]\t 0.6571137209723783\t 0.6529031062312245\t 5.011252792875776\t 4.86722253512517\n",
            "4  \t [ 6.31879092  0.69939064  5.          0.5769645  12.          0.84874959]\t 0.7458231993222018\t 0.6529031062312245\t 4.9248595310193695\t 4.947298326215699\n",
            "5  \t [ 9.90436619  1.68371673 11.          0.68947817 16.          0.400226  ]\t 0.7838758112536788\t 0.6529031062312245\t 4.6921997741403825\t 4.698694050163699\n",
            "6  \t [ 2.27614069  9.14855814 13.          0.84138599 18.          0.79014716]\t 0.6787899501779286\t 0.6529031062312245\t 4.728741384417236\t 4.713943474519548\n",
            "7  \t [ 0.63761793  0.73483023 14.          0.60715475  1.          0.28353184]\t 0.8531322761504475\t 0.6529031062312245\t 5.034305726450841\t 4.971165030577416\n",
            "8  \t [ 1.95327375  0.09413692  7.          0.63967551 19.          0.52105045]\t 0.718715865573951\t 0.6529031062312245\t 4.852524160064163\t 4.878584372613132\n",
            "9  \t [5.70513125 8.30861013 6.         0.98680016 3.         0.16134411]\t 0.9984088714580504\t 0.6529031062312245\t 5.181838462614144\t 5.171624059652454\n",
            "10 \t [ 0.25030147  5.86047618  7.          0.62148035 15.          0.70956246]\t 0.7144935773647406\t 0.6529031062312245\t 4.659186474247325\t 4.653324614382086\n",
            "11 \t [0.         0.         5.         0.5        9.52558393 0.1       ]\t 1.0011007755268673\t 0.6529031062312245\t 4.723900982198636\t 4.759391958448077\n",
            "12 \t [9.93412004 7.01728008 6.         0.60790736 8.         0.46475011]\t 0.8183353504315909\t 0.6529031062312245\t 4.8948839268250515\t 4.8928058026478976\n",
            "13 \t [ 9.74185418  1.9812272  14.          0.94068286 10.          0.45784207]\t 0.7792188999132433\t 0.6529031062312245\t 5.088624604805665\t 5.022178080896511\n",
            "14 \t [ 5.05369665  2.67147005  5.          0.51290284 10.          0.64085   ]\t 0.7504591409344632\t 0.6529031062312245\t 4.858513105000703\t 4.858513202858699\n",
            "15 \t [ 7.27698082  9.82692974 11.          0.6446349   1.          0.67673022]\t 0.6974468561044718\t 0.6529031062312245\t 4.790198337101785\t 4.666282710961898\n",
            "\u001b[1m\u001b[92m16\u001b[0m\t \u001b[1m\u001b[92m[10. 10. 15.  1. 20.  1.]\u001b[0m\t \u001b[1m\u001b[92m0.6415746011828174\u001b[0m\t \u001b[1m\u001b[92m0.6415746011828174\u001b[0m\t \u001b[1m\u001b[92m4.951547404917909\u001b[0m\t \u001b[1m\u001b[92m4.721204625876965\u001b[0m\n",
            "\u001b[1m\u001b[92m17\u001b[0m\t \u001b[1m\u001b[92m[10.         10.         12.43589204  1.          6.43589204  1.        ]\u001b[0m\t \u001b[1m\u001b[92m0.6392991199859175\u001b[0m\t \u001b[1m\u001b[92m0.6392991199859175\u001b[0m\t \u001b[1m\u001b[92m4.750804434641283\u001b[0m\t \u001b[1m\u001b[92m4.653715947786271\u001b[0m\n",
            "18 \t [ 7.87862448  0.37268652 11.          0.83129981  1.          0.83621209]\t 0.6910349298616485\t 0.6392991199859175\t 4.9451669009509684\t 5.195071131096455\n",
            "19 \t [ 5.28371353  3.6868484  11.          0.82200641 19.          0.12021404]\t 0.9924220081561828\t 0.6392991199859175\t 4.978058394934521\t 4.946960077746493\n",
            "20 \t [ 9.02606866  9.9399456   5.          0.69325176 13.          0.80731892]\t 0.7457716132538541\t 0.6392991199859175\t 4.445264664288972\t 4.5153962274498\n",
            "21 \t [ 1.02977609  0.66145279  7.          0.5528148  14.          0.97405529]\t 0.6856334744458132\t 0.6392991199859175\t 4.828321442252069\t 4.826631373009955\n",
            "22 \t [0.  0.  5.  0.5 1.  0.1]\t 1.0017306757451643\t 0.6392991199859175\t 4.7190280081419225\t 4.611709179325246\n",
            "23 \t [ 9.74199865  2.5831282  14.82996334  1.          2.82996334  1.        ]\t 0.6408145367091512\t 0.6392991199859175\t 4.997738845133681\t 4.941562647209799\n",
            "24 \t [ 4.2776564   9.48283936 11.          0.71877499 12.          0.19591223]\t 0.9919884917700834\t 0.6392991199859175\t 5.318457288908316\t 5.327479671623461\n",
            "25 \t [10.          6.78050772 11.62035199  1.         17.62035199  1.        ]\t 0.6410204278890739\t 0.6392991199859175\t 4.943165470546668\t 5.058288545823006\n",
            "26 \t [ 7.50583035  7.42634963 14.          0.81352069  9.          0.10482848]\t 0.9927806614182308\t 0.6392991199859175\t 4.885588680780187\t 4.886822324024045\n",
            "27 \t [9.91546913 0.35662679 7.         0.87706909 8.         0.31009443]\t 0.8520314289074896\t 0.6392991199859175\t 4.8460921548831815\t 4.793994593660149\n",
            "28 \t [ 9.910572    5.76876265 10.          0.62357248  4.          0.60901783]\t 0.7016274432002019\t 0.6392991199859175\t 4.6816340228861435\t 4.73597348836631\n",
            "29 \t [ 9.92745389  2.10791379  6.          0.91867901 19.          0.37494465]\t 0.8675172360459502\t 0.6392991199859175\t 4.979427510330063\t 4.953068624399998\n",
            "30 \t [1.52216216 8.41306408 5.         0.57743997 1.         0.26594603]\t 0.888278592469768\t 0.6392991199859175\t 4.720426128624122\t 4.715425524508995\n"
          ]
        },
        {
          "output_type": "execute_result",
          "data": {
            "text/plain": [
              "50127.473180390705"
            ]
          },
          "metadata": {},
          "execution_count": 27
        }
      ]
    },
    {
      "cell_type": "code",
      "metadata": {
        "id": "hI8sFP4ZUmOs",
        "colab": {
          "base_uri": "https://localhost:8080/"
        },
        "outputId": "736cd090-43ce-4f6f-b28d-58a19fc98c5b"
      },
      "source": [
        "### Bayesian optimization runs (x20): 'Exact GP ERM' Acquisition Function run number = 8\n",
        "\n",
        "np.random.seed(run_num_8)\n",
        "surrogate_gp_8 = dGaussianProcess(cov_func, optimize=opt)\n",
        "\n",
        "X_train8, X_test8, y_train8, y_test8 = train_test_split(X, y, test_size=test_perc, random_state=run_num_8)\n",
        "\n",
        "def f_syn_polarity8(alpha, gamma, max_depth, subsample, min_child_weight, colsample):\n",
        "    reg = XGBRegressor(reg_alpha=alpha, gamma=gamma, max_depth=int(max_depth), subsample=subsample, min_child_weight=min_child_weight,\n",
        "          colsample_bytree=colsample, n_estimators = n_est, random_state=run_num_8, objective = 'reg:squarederror')\n",
        "    score = np.array(cross_val_score(reg, X=X_train8, y=y_train8).mean())\n",
        "    return operator * score\n",
        "\n",
        "gp_8 = dGPGO_gp(surrogate_gp_8, Acquisition_grad(util_gp), f_syn_polarity8, param, n_jobs = -1) # define BayesOpt\n",
        "gp_8.run(max_iter = max_iter, init_evals = n_init) # run\n",
        "\n",
        "### Return optimal parameters' set:\n",
        "params_gp_8 = gp_8.getResult()[0]\n",
        "params_gp_8['max_depth'] = int(params_gp_8['max_depth'])\n",
        "params_gp_8['min_child_weight'] = int(params_gp_8['min_child_weight'])\n",
        "\n",
        "### Re-train with optimal parameters, run predictons:\n",
        "dX_gp_train8 = xgb.DMatrix(X_train8, y_train8)\n",
        "dX_gp_test8 = xgb.DMatrix(X_test8, y_test8)\n",
        "model_gp_8 = xgb.train(params_gp_8, dX_gp_train8)\n",
        "pred_gp_8 = model_gp_8.predict(dX_gp_test8)\n",
        "\n",
        "rmse_gp_8 = np.sqrt(mean_squared_error(pred_gp_8, y_test8))\n",
        "rmse_gp_8"
      ],
      "execution_count": null,
      "outputs": [
        {
          "output_type": "stream",
          "name": "stdout",
          "text": [
            "Evaluation \t Proposed point \t  Current eval. \t  Best eval. \t         Max. ExactAcqFunc \t Max. ApproxAcqFunc \n",
            "init\t [ 8.73429403  9.68540663 10.          0.68875849  9.          0.48011572]\t 0.8097437093843076\t 0.6653168057229354\t    \t    \n",
            "init\t [ 6.12033333  7.66062926  8.          0.76133734 13.          0.93379456]\t 0.676783388491471\t 0.6653168057229354\t    \t    \n",
            "init\t [ 1.46524679  7.01527914  7.          0.90913299 10.          0.36016753]\t 0.8290150461838799\t 0.6653168057229354\t    \t    \n",
            "init\t [ 9.73855241  3.33774046 14.          0.53290419  7.          0.7088681 ]\t 0.704280612172438\t 0.6653168057229354\t    \t    \n",
            "init\t [ 3.00618018  1.82702795 11.          0.75681389 14.          0.98627449]\t 0.6653168057229354\t 0.6653168057229354\t    \t    \n",
            "1  \t [4.42022545 5.48487111 9.         0.97165909 3.         0.63617522]\t 0.6939807861210728\t 0.6653168057229354\t 4.976352087300382\t 4.9906765661342\n",
            "2  \t [ 4.42530022  8.86662399 12.          0.55390756 19.          0.26906902]\t 0.8292448989696929\t 0.6653168057229354\t 4.506678615853252\t 4.480237335920916\n",
            "3  \t [ 9.08237751  2.49680746  6.          0.65941352 17.          0.68321352]\t 0.7238654894117781\t 0.6653168057229354\t 4.959185434730285\t 4.95366594051193\n",
            "4  \t [9.24101391 3.71625162 7.         0.92041359 7.         0.33094108]\t 0.8298868503374536\t 0.6653168057229354\t 5.233715254090718\t 5.224347607216733\n",
            "5  \t [ 2.71549468  6.59835463  5.          0.95307649 18.          0.8022723 ]\t 0.7298305735353544\t 0.6653168057229354\t 4.558010349993885\t 4.528422938671803\n",
            "6  \t [ 8.42695368  3.16936553 13.          0.82366295 16.          0.76402556]\t 0.6713374162855336\t 0.6653168057229354\t 4.6776852909268225\t 4.7648433510947354\n",
            "7  \t [ 8.83774177  5.41674027 14.          0.73954397  1.          0.31035075]\t 0.8412489648220683\t 0.6653168057229354\t 4.981619813392555\t 4.9981542247800945\n",
            "8  \t [ 0.45904618  0.31422469 12.          0.85221495  5.          0.31125587]\t 0.8281572228887775\t 0.6653168057229354\t 4.902948306644575\t 4.881048863439947\n",
            "9  \t [0.  0.  5.  0.5 1.  0.1]\t 0.9366264008615343\t 0.6653168057229354\t 4.794726965148781\t 4.665227706887982\n",
            "10 \t [ 3.96405062  8.0979425  14.          0.59297393  7.          0.94464131]\t 0.6700820921354065\t 0.6653168057229354\t 5.35250405552455\t 5.4120605229451035\n",
            "11 \t [9.23421894 1.96715525 6.         0.84213684 1.         0.28111445]\t 0.8403741678101049\t 0.6653168057229354\t 5.347118352099033\t 5.297391222861841\n",
            "12 \t [ 6.07416022  0.73060636  9.          0.91953118 17.          0.26381452]\t 0.824083830642531\t 0.6653168057229354\t 4.9022897475922855\t 4.9022897475922855\n",
            "13 \t [ 9.08307561  9.73616604  5.          0.74596783 18.          0.23735578]\t 0.9373386140641772\t 0.6653168057229354\t 4.778752168668262\t 4.739921231550824\n",
            "14 \t [1.36072521 8.96337054 5.         0.74382165 2.         0.12580076]\t 0.9379435984221122\t 0.6653168057229354\t 4.903310189080281\t 4.879602785992463\n",
            "15 \t [ 3.32794564  9.35873285 13.          0.95404271 12.          0.46503428]\t 0.8057168013419183\t 0.6653168057229354\t 4.673761548777966\t 4.6934188496851785\n",
            "16 \t [2.33188869 0.42958899 6.09250392 0.5        9.09250392 0.1       ]\t 0.9343506859058938\t 0.6653168057229354\t 4.917216158058417\t 5.022885650654586\n",
            "17 \t [ 0.09889076  5.63526532 14.          0.81316857 16.          0.71340054]\t 0.6907172665844576\t 0.6653168057229354\t 4.5515764405231804\t 4.5486814917234195\n",
            "18 \t [ 8.81884199  0.29557486 11.          0.94612367  2.          0.80082225]\t 0.6729826219675135\t 0.6653168057229354\t 4.844595947599534\t 4.864868645739327\n",
            "19 \t [ 4.10272358  0.68972827 14.          0.96902802  1.          0.19814279]\t 0.9303071311772037\t 0.6653168057229354\t 4.61782488002705\t 4.528689671573575\n",
            "20 \t [ 1.37842187  7.92618907 14.          0.53493538  2.          0.9994541 ]\t 0.6778496323948628\t 0.6653168057229354\t 4.7061864367929545\t 4.787238682208009\n",
            "21 \t [8.49304258 9.45420615 6.         0.52298498 5.         0.36186114]\t 0.8398941833093019\t 0.6653168057229354\t 4.743591937856124\t 4.775413370794987\n",
            "\u001b[1m\u001b[92m22\u001b[0m\t \u001b[1m\u001b[92m[10. 10. 15.  1. 20.  1.]\u001b[0m\t \u001b[1m\u001b[92m0.6454226853941064\u001b[0m\t \u001b[1m\u001b[92m0.6454226853941064\u001b[0m\t \u001b[1m\u001b[92m4.72668946208754\u001b[0m\t \u001b[1m\u001b[92m4.675508527013309\u001b[0m\n",
            "23 \t [ 9.52932664  9.97395786 14.86660448  1.          3.86660448  1.        ]\t 0.647499308728734\t 0.6454226853941064\t 4.8801851255994135\t 4.8831043610447376\n",
            "24 \t [ 9.32779145  5.8517174  11.          0.74437014 12.          0.90919993]\t 0.6652912380850803\t 0.6454226853941064\t 4.399895685041429\t 4.418291825700026\n",
            "25 \t [ 2.00363843  0.25557305 13.          0.79852696 19.          0.41982126]\t 0.8045050796386125\t 0.6454226853941064\t 4.456176506576362\t 4.653651029063237\n",
            "26 \t [5.73496419 0.50535549 7.48043893 0.59642613 4.81088198 0.23276134]\t 0.9325451088795486\t 0.6454226853941064\t 4.656593845912059\t 4.851412343298705\n",
            "27 \t [ 7.15040543  9.72926644 14.          0.63776297 15.          0.43073814]\t 0.8100270760776773\t 0.6454226853941064\t 4.890893623495531\t 4.890893623495531\n",
            "28 \t [ 1.06330602  9.84698732  5.          0.70744161 15.          0.6986094 ]\t 0.7398934603464837\t 0.6454226853941064\t 4.966901596905536\t 4.976728373720459\n",
            "29 \t [ 0.27915127  2.21091316  7.          0.63525922 18.          0.68442751]\t 0.7123197525509278\t 0.6454226853941064\t 5.044640500788184\t 5.05492251598227\n",
            "30 \t [8.66270612 8.68970778 9.         0.80306345 1.         0.23433357]\t 0.9299168982143875\t 0.6454226853941064\t 5.03551084646101\t 4.967274408880528\n"
          ]
        },
        {
          "output_type": "execute_result",
          "data": {
            "text/plain": [
              "51081.55924427656"
            ]
          },
          "metadata": {},
          "execution_count": 28
        }
      ]
    },
    {
      "cell_type": "code",
      "metadata": {
        "id": "Vw5IYus6UpAn",
        "colab": {
          "base_uri": "https://localhost:8080/"
        },
        "outputId": "4608c4ad-b26c-4a0c-b740-d18a87626bcd"
      },
      "source": [
        "### Bayesian optimization runs (x20): 'Exact GP ERM' Acquisition Function run number = 9\n",
        "\n",
        "np.random.seed(run_num_9)\n",
        "surrogate_gp_9 = dGaussianProcess(cov_func, optimize=opt)\n",
        "\n",
        "X_train9, X_test9, y_train9, y_test9 = train_test_split(X, y, test_size=test_perc, random_state=run_num_9)\n",
        "\n",
        "def f_syn_polarity9(alpha, gamma, max_depth, subsample, min_child_weight, colsample):\n",
        "    reg = XGBRegressor(reg_alpha=alpha, gamma=gamma, max_depth=int(max_depth), subsample=subsample, min_child_weight=min_child_weight,\n",
        "          colsample_bytree=colsample, n_estimators = n_est, random_state=run_num_9, objective = 'reg:squarederror')\n",
        "    score = np.array(cross_val_score(reg, X=X_train9, y=y_train9).mean())\n",
        "    return operator * score\n",
        "\n",
        "gp_9 = dGPGO_gp(surrogate_gp_9, Acquisition_grad(util_gp), f_syn_polarity9, param, n_jobs = -1) # define BayesOpt\n",
        "gp_9.run(max_iter = max_iter, init_evals = n_init) # run\n",
        "\n",
        "### Return optimal parameters' set:\n",
        "params_gp_9 = gp_9.getResult()[0]\n",
        "params_gp_9['max_depth'] = int(params_gp_9['max_depth'])\n",
        "params_gp_9['min_child_weight'] = int(params_gp_9['min_child_weight'])\n",
        "\n",
        "### Re-train with optimal parameters, run predictons:\n",
        "dX_gp_train9 = xgb.DMatrix(X_train9, y_train9)\n",
        "dX_gp_test9 = xgb.DMatrix(X_test9, y_test9)\n",
        "model_gp_9 = xgb.train(params_gp_9, dX_gp_train9)\n",
        "pred_gp_9 = model_gp_9.predict(dX_gp_test9)\n",
        "\n",
        "rmse_gp_9 = np.sqrt(mean_squared_error(pred_gp_9, y_test9))\n",
        "rmse_gp_9"
      ],
      "execution_count": null,
      "outputs": [
        {
          "output_type": "stream",
          "name": "stdout",
          "text": [
            "Evaluation \t Proposed point \t  Current eval. \t  Best eval. \t         Max. ExactAcqFunc \t Max. ApproxAcqFunc \n",
            "init\t [ 0.10374154  5.01874592 11.          0.50377155  2.          0.29670281]\t 0.8449026536729003\t 0.6448358819228919\t    \t    \n",
            "init\t [ 4.18508181  2.48101168 13.          0.69794293  2.          0.25009871]\t 0.8430936233516066\t 0.6448358819228919\t    \t    \n",
            "init\t [ 8.78559086  9.50964032 13.          0.98395204 11.          0.90820641]\t 0.6448358819228919\t 0.6448358819228919\t    \t    \n",
            "init\t [ 6.66898973  5.47837783  6.          0.97165345 12.          0.72499481]\t 0.7455250925664565\t 0.6448358819228919\t    \t    \n",
            "init\t [ 8.24870465  4.65668475 13.          0.68760467  9.          0.98502332]\t 0.6542440322310401\t 0.6448358819228919\t    \t    \n",
            "1  \t [6.73714319 2.39608167 5.         0.58130302 3.         0.163077  ]\t 1.0516333409565926\t 0.6448358819228919\t 5.05310641765467\t 5.039040378473217\n",
            "2  \t [9.23885705 0.0495141  9.         0.5847098  7.         0.79832927]\t 0.6774051522557019\t 0.6448358819228919\t 5.19950173430746\t 5.19950173430746\n",
            "3  \t [ 3.67545472  4.78145311 14.          0.63123486 17.          0.4863889 ]\t 0.7930932442681178\t 0.6448358819228919\t 4.8730545063100426\t 4.908172388749463\n",
            "4  \t [ 0.19525707  9.62416422  9.          0.85280832 10.          0.52998476]\t 0.7396199848029671\t 0.6448358819228919\t 4.829714479942112\t 4.8550776691506154\n",
            "5  \t [10. 10. 15.  1. 20.  1.]\t 0.6505488267879174\t 0.6448358819228919\t 5.21603741328387\t 5.104096656537663\n",
            "6  \t [ 0.58316798  9.10724777  7.          0.55034291 18.          0.73246248]\t 0.7346285445714027\t 0.6448358819228919\t 4.667518605536675\t 4.7906446299097505\n",
            "7  \t [ 0.65024006  0.20015298 14.          0.90298726 13.          0.95798937]\t 0.6479585144859159\t 0.6448358819228919\t 4.669924294894213\t 4.698588329983596\n",
            "8  \t [0.  0.  5.  0.5 1.  0.1]\t 1.0517934452387856\t 0.6448358819228919\t 4.527008518247671\t 4.518743717055848\n",
            "9  \t [1.3954524  3.3924047  5.99902849 0.66180734 8.49292615 0.19961046]\t 1.0504038809376606\t 0.6448358819228919\t 5.128763327861849\t 5.198208969936011\n",
            "10 \t [ 8.9317907   9.240006   13.          0.55531212  4.          0.42887515]\t 0.8067241228581707\t 0.6448358819228919\t 4.812472660163466\t 4.856279910170322\n",
            "11 \t [ 2.72183423  9.69902384 13.          0.83330411  1.          0.50869592]\t 0.7457949006827783\t 0.6448358819228919\t 4.977639758962698\t 4.952443539821827\n",
            "12 \t [ 3.2619616   0.2475915   7.          0.55801432 16.          0.81247949]\t 0.697722603557653\t 0.6448358819228919\t 4.8041176228485\t 4.829341441398974\n",
            "13 \t [ 9.90759058  1.21564186 12.          0.74911905 17.          0.244927  ]\t 1.0470230913477547\t 0.6448358819228919\t 5.230436247069217\t 5.225629563345348\n",
            "14 \t [ 4.6542071   1.48576825 11.          0.81087875 13.          0.32744452]\t 0.8333502680307973\t 0.6448358819228919\t 4.718786675384724\t 4.726773645859209\n",
            "15 \t [2.17616972 7.47175906 6.         0.55382404 4.         0.64093097]\t 0.752401932457821\t 0.6448358819228919\t 5.0178988902417965\t 5.140380690732845\n",
            "16 \t [9.39353565 9.93046622 5.         0.57188784 4.         0.83501032]\t 0.738886934813979\t 0.6448358819228919\t 4.647882574715105\t 4.721859007984423\n",
            "17 \t [ 7.81834149  9.72965303  8.          0.64259089 17.          0.22077726]\t 1.0465197239444557\t 0.6448358819228919\t 5.295080876848266\t 5.390912824967442\n",
            "18 \t [ 9.00084206  1.85673124 10.          0.98011614  2.          0.25530052]\t 0.83279328574821\t 0.6448358819228919\t 4.876278572070602\t 4.837242973414672\n",
            "19 \t [ 9.51504197  0.48338584  6.          0.77192355 13.          0.39589712]\t 0.8079627199466959\t 0.6448358819228919\t 4.822907544434578\t 4.724518174831035\n",
            "20 \t [ 5.06569568  9.95512019 10.          0.79200421  8.          0.9497448 ]\t 0.6524837713585139\t 0.6448358819228919\t 4.699998679100882\t 4.718068762272373\n",
            "21 \t [ 7.66179073  4.31797968  8.          0.58094349 18.          0.72416412]\t 0.7183963476604479\t 0.6448358819228919\t 5.142102285239157\t 5.117991334063393\n",
            "22 \t [ 4.99585633  9.84423212 13.          0.58601629 15.          0.62308889]\t 0.7423299571177332\t 0.6448358819228919\t 4.827194643460425\t 4.873214446437603\n",
            "23 \t [ 0.79581704  0.44548953 10.          0.5535323   5.          0.9139619 ]\t 0.6649440013666069\t 0.6448358819228919\t 5.065117371536417\t 5.195393874163066\n",
            "24 \t [ 2.42220116  6.1788397  13.          0.64865813 10.          0.13940747]\t 1.0466026780420001\t 0.6448358819228919\t 4.757066215745742\t 4.823194769022895\n",
            "25 \t [8.2007632  5.80436627 6.         0.76635233 7.         0.49444634]\t 0.808546353545904\t 0.6448358819228919\t 4.88646594853107\t 4.864234295608116\n",
            "26 \t [ 0.34910818  3.39479926 12.          0.75007153 14.          0.74419655]\t 0.6950503015339501\t 0.6448358819228919\t 5.224214353869852\t 5.2206521476415455\n",
            "27 \t [ 0.45983101  9.28402862 13.          0.52786561  6.          0.42783681]\t 0.8036069849990609\t 0.6448358819228919\t 4.24806621828738\t 4.364622609282607\n",
            "28 \t [ 7.48807874  5.11462429 12.          0.72630446 14.          0.28208232]\t 0.834870831846418\t 0.6448358819228919\t 4.747805416205097\t 4.702197778013233\n",
            "29 \t [ 2.15240036  5.039039   13.70756964  1.          5.70756964  1.        ]\t 0.6478922453627118\t 0.6448358819228919\t 5.015000224596833\t 5.075909772648906\n",
            "30 \t [ 0.71982943  1.64712597  8.          0.95730675 13.          0.62848123]\t 0.7117012613015085\t 0.6448358819228919\t 4.628856081661271\t 4.627981884364044\n"
          ]
        },
        {
          "output_type": "execute_result",
          "data": {
            "text/plain": [
              "48075.00995818073"
            ]
          },
          "metadata": {},
          "execution_count": 29
        }
      ]
    },
    {
      "cell_type": "code",
      "metadata": {
        "id": "YD494io_Ur7V",
        "colab": {
          "base_uri": "https://localhost:8080/"
        },
        "outputId": "cf22a313-d413-428e-b8b9-c13675669d13"
      },
      "source": [
        "### Bayesian optimization runs (x20): 'Exact GP ERM' Acquisition Function run number = 10\n",
        "\n",
        "np.random.seed(run_num_10)\n",
        "surrogate_gp_10 = dGaussianProcess(cov_func, optimize=opt)\n",
        "\n",
        "X_train10, X_test10, y_train10, y_test10 = train_test_split(X, y, test_size=test_perc, random_state=run_num_10)\n",
        "\n",
        "def f_syn_polarity10(alpha, gamma, max_depth, subsample, min_child_weight, colsample):\n",
        "    reg = XGBRegressor(reg_alpha=alpha, gamma=gamma, max_depth=int(max_depth), subsample=subsample, min_child_weight=min_child_weight,\n",
        "          colsample_bytree=colsample, n_estimators = n_est, random_state=run_num_10, objective = 'reg:squarederror')\n",
        "    score = np.array(cross_val_score(reg, X=X_train10, y=y_train10).mean())\n",
        "    return operator * score\n",
        "\n",
        "gp_10 = dGPGO_gp(surrogate_gp_10, Acquisition_grad(util_gp), f_syn_polarity10, param, n_jobs = -1) # define BayesOpt\n",
        "gp_10.run(max_iter = max_iter, init_evals = n_init) # run\n",
        "\n",
        "### Return optimal parameters' set:\n",
        "params_gp_10 = gp_10.getResult()[0]\n",
        "params_gp_10['max_depth'] = int(params_gp_10['max_depth'])\n",
        "params_gp_10['min_child_weight'] = int(params_gp_10['min_child_weight'])\n",
        "\n",
        "### Re-train with optimal parameters, run predictons:\n",
        "dX_gp_train10 = xgb.DMatrix(X_train10, y_train10)\n",
        "dX_gp_test10 = xgb.DMatrix(X_test10, y_test10)\n",
        "model_gp_10 = xgb.train(params_gp_10, dX_gp_train10)\n",
        "pred_gp_10 = model_gp_10.predict(dX_gp_test10)\n",
        "\n",
        "rmse_gp_10 = np.sqrt(mean_squared_error(pred_gp_10, y_test10))\n",
        "rmse_gp_10"
      ],
      "execution_count": null,
      "outputs": [
        {
          "output_type": "stream",
          "name": "stdout",
          "text": [
            "Evaluation \t Proposed point \t  Current eval. \t  Best eval. \t         Max. ExactAcqFunc \t Max. ApproxAcqFunc \n",
            "init\t [ 7.71320643  0.20751949  5.          0.72150747 17.          0.12265456]\t 0.8785010703819621\t 0.6669292375133978\t    \t    \n",
            "init\t [ 7.0920801   2.65566127 13.          0.57518893 17.          0.83494165]\t 0.6669292375133978\t 0.6669292375133978\t    \t    \n",
            "init\t [ 3.36071584  8.90816531  6.          0.86087766 15.          0.75469196]\t 0.7012460140601039\t 0.6669292375133978\t    \t    \n",
            "init\t [ 5.40880931  1.31458152  8.          0.57108502 14.          0.62551123]\t 0.7005965853529538\t 0.6669292375133978\t    \t    \n",
            "init\t [1.82631436 8.26082248 6.         0.80888349 5.         0.15900694]\t 0.880412005930048\t 0.6669292375133978\t    \t    \n",
            "1  \t [8.31989768 3.09778055 7.         0.64798085 3.         0.98471878]\t 0.6770142260932797\t 0.6669292375133978\t 4.604187342513345\t 4.610089431270367\n",
            "2  \t [ 3.05837423  0.98670899 11.          0.63714741 18.          0.46809298]\t 0.7417959722875219\t 0.6669292375133978\t 5.128967043921179\t 5.130373047216288\n",
            "3  \t [1.0517383  0.29626986 6.         0.71496305 2.         0.21703638]\t 0.8792946548244501\t 0.6669292375133978\t 4.592338149390347\t 4.587224238326459\n",
            "4  \t [ 2.98946783  8.70916918 12.          0.89809007  8.          0.53350402]\t 0.7006385046040607\t 0.6669292375133978\t 4.926109378389868\t 4.875239065632912\n",
            "\u001b[1m\u001b[92m5\u001b[0m\t \u001b[1m\u001b[92m[10. 10. 15.  1. 20.  1.]\u001b[0m\t \u001b[1m\u001b[92m0.6455928988859453\u001b[0m\t \u001b[1m\u001b[92m0.6455928988859453\u001b[0m\t \u001b[1m\u001b[92m4.748366194250923\u001b[0m\t \u001b[1m\u001b[92m4.570575236252572\u001b[0m\n",
            "6  \t [ 9.8195229   7.4353827   6.          0.61370759 10.          0.85798549]\t 0.7015549121482302\t 0.6455928988859453\t 4.685653456818447\t 4.667084120304429\n",
            "7  \t [ 3.62490684  2.84275183 14.          0.74589397  2.          0.75096489]\t 0.6670230975290341\t 0.6455928988859453\t 4.8656659261907675\t 4.787554740588866\n",
            "8  \t [ 9.67396075  2.8020106  13.          0.65074314 10.          0.54373377]\t 0.7069523757910561\t 0.6455928988859453\t 4.660428502331069\t 4.643719802932235\n",
            "9  \t [7.7714375  7.70616843 8.         0.82339468 6.         0.96195202]\t 0.661096368919013\t 0.6455928988859453\t 5.026973406145135\t 5.026973406145135\n",
            "10 \t [ 3.30148079  9.88907038 12.          0.72868817  1.          0.65479477]\t 0.6997345104361262\t 0.6455928988859453\t 4.86184504499538\t 4.756114540050262\n",
            "11 \t [5.00762913 1.53619492 9.         0.56892944 8.         0.96567366]\t 0.662454600529182\t 0.6455928988859453\t 4.659239553246412\t 4.648065955211563\n",
            "12 \t [ 2.40528406  7.71427622 14.          0.55203588 14.          0.3470708 ]\t 0.8154596077767258\t 0.6455928988859453\t 4.675141614466799\t 4.748327702404439\n",
            "\u001b[1m\u001b[92m13\u001b[0m\t \u001b[1m\u001b[92m[10.         10.         14.05053987  1.          7.05053987  1.        ]\u001b[0m\t \u001b[1m\u001b[92m0.6431298994400969\u001b[0m\t \u001b[1m\u001b[92m0.6431298994400969\u001b[0m\t \u001b[1m\u001b[92m4.922294264443567\u001b[0m\t \u001b[1m\u001b[92m5.003063332634473\u001b[0m\n",
            "14 \t [ 0.2734411   0.20947276 13.          0.89386904  7.          0.27558279]\t 0.8166474442456968\t 0.6431298994400969\t 4.980063547598703\t 4.982542996324395\n",
            "15 \t [ 9.72703693  6.521415    7.          0.50173837 17.          0.28475777]\t 0.815168593089996\t 0.6431298994400969\t 4.8282107746643295\t 4.810118708210513\n",
            "16 \t [ 8.95941594  0.86941552 12.          0.83050216  3.          0.94464191]\t 0.6482192885028333\t 0.6431298994400969\t 4.538568713357638\t 4.57879995824083\n",
            "17 \t [ 0.03333836  7.73565901  8.          0.63028199 18.          0.66078172]\t 0.6999224079617695\t 0.6431298994400969\t 4.913899019892857\t 4.8062551333909465\n",
            "18 \t [ 3.35903512  5.65946459  5.          0.99895528 10.          0.94028903]\t 0.7198633628577074\t 0.6431298994400969\t 4.938157656687943\t 4.96461511643715\n",
            "19 \t [0.         0.         5.         0.5        8.92862398 0.1       ]\t 0.8813018879019564\t 0.6431298994400969\t 4.734268014282022\t 4.687987554738219\n",
            "20 \t [ 6.6230501 10.        15.         1.        15.9030355  1.       ]\t 0.6443490851593168\t 0.6431298994400969\t 4.937937798803287\t 4.800245186535631\n",
            "21 \t [ 7.22258807  6.23065969 12.          0.56635095 13.          0.86573749]\t 0.667894664145167\t 0.6431298994400969\t 5.228507135160802\t 5.114920348244394\n",
            "22 \t [ 9.43678992  0.9880373   6.          0.64942758 10.          0.75777997]\t 0.7009594179307976\t 0.6431298994400969\t 4.9448093037524945\t 5.006234268102656\n",
            "23 \t [4.76122383 5.37906206 8.         0.72454772 2.         0.37435491]\t 0.8130617229633597\t 0.6431298994400969\t 4.9567750321393325\t 4.84793884523918\n",
            "24 \t [ 0.83576406  4.3523579   5.          0.70563375 16.          0.45250813]\t 0.7600979001766136\t 0.6431298994400969\t 4.779084093381426\t 4.753190456947841\n",
            "25 \t [ 6.60529858  9.1738315  11.47415173  1.         20.          1.        ]\t 0.6472829600869499\t 0.6431298994400969\t 4.8691092820954935\t 4.857011247915875\n",
            "\u001b[1m\u001b[92m26\u001b[0m\t \u001b[1m\u001b[92m[ 2.76071662  2.85083342 14.0376749   1.         11.0376749   1.        ]\u001b[0m\t \u001b[1m\u001b[92m0.6422970344997925\u001b[0m\t \u001b[1m\u001b[92m0.6422970344997925\u001b[0m\t \u001b[1m\u001b[92m4.7298959639402005\u001b[0m\t \u001b[1m\u001b[92m4.772493390241612\u001b[0m\n",
            "27 \t [ 9.40854499  7.80841653 11.          0.95953726  2.          0.65169631]\t 0.6921338634127544\t 0.6422970344997925\t 4.56751405676427\t 4.562142427936607\n",
            "28 \t [ 1.55481231  8.89847306 13.          0.92315868 19.          0.23858876]\t 0.8822650514974324\t 0.6422970344997925\t 5.2969658506320485\t 5.401769919678677\n",
            "29 \t [ 0.15356814  4.5107537  10.          0.76934228  3.          0.57910338]\t 0.7089716211388317\t 0.6422970344997925\t 4.8636035376415405\t 4.972111755140858\n",
            "30 \t [ 7.48523074  9.74348988  9.          0.66544612 14.          0.64199162]\t 0.6952851433032754\t 0.6422970344997925\t 4.99015827949864\t 4.9812110785681485\n"
          ]
        },
        {
          "output_type": "execute_result",
          "data": {
            "text/plain": [
              "51059.50064492665"
            ]
          },
          "metadata": {},
          "execution_count": 30
        }
      ]
    },
    {
      "cell_type": "code",
      "metadata": {
        "id": "N03Sq0TvUuhp",
        "colab": {
          "base_uri": "https://localhost:8080/"
        },
        "outputId": "a3e05ece-5c12-4ce3-e5cf-b477ce7523a8"
      },
      "source": [
        "### Bayesian optimization runs (x20): 'Exact GP ERM' Acquisition Function run number = 11\n",
        "\n",
        "np.random.seed(run_num_11)\n",
        "surrogate_gp_11 = dGaussianProcess(cov_func, optimize=opt)\n",
        "\n",
        "X_train11, X_test11, y_train11, y_test11 = train_test_split(X, y, test_size=test_perc, random_state=run_num_11)\n",
        "\n",
        "def f_syn_polarity11(alpha, gamma, max_depth, subsample, min_child_weight, colsample):\n",
        "    reg = XGBRegressor(reg_alpha=alpha, gamma=gamma, max_depth=int(max_depth), subsample=subsample, min_child_weight=min_child_weight,\n",
        "          colsample_bytree=colsample, n_estimators = n_est, random_state=run_num_11, objective = 'reg:squarederror')\n",
        "    score = np.array(cross_val_score(reg, X=X_train11, y=y_train11).mean())\n",
        "    return operator * score\n",
        "\n",
        "gp_11 = dGPGO_gp(surrogate_gp_11, Acquisition_grad(util_gp), f_syn_polarity11, param, n_jobs = -1) # define BayesOpt\n",
        "gp_11.run(max_iter = max_iter, init_evals = n_init) # run\n",
        "\n",
        "### Return optimal parameters' set:\n",
        "params_gp_11 = gp_11.getResult()[0]\n",
        "params_gp_11['max_depth'] = int(params_gp_11['max_depth'])\n",
        "params_gp_11['min_child_weight'] = int(params_gp_11['min_child_weight'])\n",
        "\n",
        "### Re-train with optimal parameters, run predictons:\n",
        "dX_gp_train11 = xgb.DMatrix(X_train11, y_train11)\n",
        "dX_gp_test11 = xgb.DMatrix(X_test11, y_test11)\n",
        "model_gp_11 = xgb.train(params_gp_11, dX_gp_train11)\n",
        "pred_gp_11 = model_gp_11.predict(dX_gp_test11)\n",
        "\n",
        "rmse_gp_11 = np.sqrt(mean_squared_error(pred_gp_11, y_test11))\n",
        "rmse_gp_11"
      ],
      "execution_count": null,
      "outputs": [
        {
          "output_type": "stream",
          "name": "stdout",
          "text": [
            "Evaluation \t Proposed point \t  Current eval. \t  Best eval. \t         Max. ExactAcqFunc \t Max. ApproxAcqFunc \n",
            "init\t [ 1.80269689  0.19475241  6.          0.59705781 13.          0.47818324]\t 0.7904007286371394\t 0.6894069737354023\t    \t    \n",
            "init\t [ 4.85427098  0.12780815  5.          0.91309068 14.          0.86571558]\t 0.727634308123781\t 0.6894069737354023\t    \t    \n",
            "init\t [ 7.2996447   1.08736072 10.          0.92857712 18.          0.66910061]\t 0.6894069737354023\t 0.6894069737354023\t    \t    \n",
            "init\t [ 0.20483613  1.16737269  7.          0.57895615 16.          0.83644782]\t 0.7071657410132528\t 0.6894069737354023\t    \t    \n",
            "init\t [ 3.44624491  3.18798797 14.          0.54197657 15.          0.63958906]\t 0.7012825433030343\t 0.6894069737354023\t    \t    \n",
            "1  \t [9.77136617 6.6548802  7.         0.51036649 9.         0.81011527]\t 0.711031226877882\t 0.6894069737354023\t 4.235895543899586\t 4.160467135246257\n",
            "\u001b[1m\u001b[92m2\u001b[0m\t \u001b[1m\u001b[92m[ 0.59719728  4.15307516 11.          0.66501717  3.          0.95537014]\u001b[0m\t \u001b[1m\u001b[92m0.6577294425265764\u001b[0m\t \u001b[1m\u001b[92m0.6577294425265764\u001b[0m\t \u001b[1m\u001b[92m4.512563248001859\u001b[0m\t \u001b[1m\u001b[92m4.511999618060117\u001b[0m\n",
            "3  \t [ 8.79191945  9.92354379  5.          0.67714371 18.          0.57050675]\t 0.7648729702018928\t 0.6577294425265764\t 4.409300625418051\t 4.473518751463199\n",
            "4  \t [ 8.43962982  4.2216354  12.          0.61829836  3.          0.16854155]\t 0.9235319432135773\t 0.6577294425265764\t 4.8726239705382275\t 4.802553490505201\n",
            "5  \t [2.20135958 9.62559813 6.         0.71280025 1.         0.39977427]\t 0.7883201967902798\t 0.6577294425265764\t 4.614907863581731\t 4.493230204836476\n",
            "\u001b[1m\u001b[92m6\u001b[0m\t \u001b[1m\u001b[92m[10.         10.         15.          1.         15.67034797  1.        ]\u001b[0m\t \u001b[1m\u001b[92m0.6381026907714851\u001b[0m\t \u001b[1m\u001b[92m0.6381026907714851\u001b[0m\t \u001b[1m\u001b[92m4.891750354807649\u001b[0m\t \u001b[1m\u001b[92m4.706761868503369\u001b[0m\n",
            "7  \t [ 4.15094515  7.09288961  8.          0.62079813 14.          0.58741281]\t 0.735671533105253\t 0.6381026907714851\t 4.892992404145872\t 4.840222916588432\n",
            "8  \t [6.77981326 1.558009   7.         0.85055204 5.         0.30145072]\t 0.8743477887688297\t 0.6381026907714851\t 4.910307522360055\t 4.927923878629411\n",
            "9  \t [ 7.64065289  8.8630116  14.          0.9254486   9.          0.47351621]\t 0.7626076284004604\t 0.6381026907714851\t 5.054336233997016\t 4.799101388968001\n",
            "10 \t [ 1.06054513  2.23745512 13.          0.92745502  9.          0.16992758]\t 0.9226798533243917\t 0.6381026907714851\t 4.855259895197243\t 4.869418125088308\n",
            "11 \t [ 0.23708771  7.99354078 13.          0.65974332 19.          0.67724424]\t 0.6950970831418338\t 0.6381026907714851\t 4.93140776634866\t 4.931369362384728\n",
            "12 \t [2.49649648 9.56561388 5.         0.80281761 9.         0.94453549]\t 0.712573326980913\t 0.6381026907714851\t 5.158783971018928\t 5.07359283067835\n",
            "13 \t [5.25943475 8.43895766 9.         0.84239601 5.         0.23871726]\t 0.9230087471537732\t 0.6381026907714851\t 4.827757761413397\t 4.825010864719544\n",
            "14 \t [3.05804163 0.         6.87570538 0.5        1.         0.1       ]\t 0.9313011031698311\t 0.6381026907714851\t 5.087213222007747\t 5.039480071670771\n",
            "15 \t [1.11163956 4.97558037 7.         0.57979481 7.         0.49674445]\t 0.7820730361773386\t 0.6381026907714851\t 5.058773773297995\t 4.883405548011529\n",
            "16 \t [ 8.16281368  3.58969423 13.          0.69582692 11.          0.52807397]\t 0.7303655873769592\t 0.6381026907714851\t 5.380949827412071\t 4.9820066419575735\n",
            "17 \t [ 8.42222274  3.29986994 14.33404133  1.         19.33404133  0.80201088]\t 0.645795120099317\t 0.6381026907714851\t 4.912207011669723\t 4.802661168781281\n",
            "18 \t [ 2.10994823  7.1805032  12.          0.63048792  8.          0.67645363]\t 0.698358780864823\t 0.6381026907714851\t 4.7417292025691955\t 4.736060856522758\n",
            "19 \t [ 1.41414587  5.82374358  8.          0.73371898 19.          0.60959215]\t 0.7312153103225351\t 0.6381026907714851\t 5.053342750158085\t 5.143902693123943\n",
            "20 \t [ 1.82088725  9.15875432 13.          0.70714197  2.          0.23699913]\t 0.9235017342249415\t 0.6381026907714851\t 4.696064885202549\t 4.796452130703386\n",
            "21 \t [9.80647192 0.96870215 6.         0.98951642 2.         0.21475285]\t 0.9278938669620349\t 0.6381026907714851\t 4.893232085020373\t 4.864579368571185\n",
            "22 \t [5.15068265 4.76861601 5.         0.70076898 1.         0.87159533]\t 0.7286740032592812\t 0.6381026907714851\t 4.568149955798813\t 4.569283664454509\n",
            "23 \t [ 7.09999192  4.47345685  5.          0.9460382  13.          0.80427626]\t 0.7278949453832291\t 0.6381026907714851\t 4.723127324628952\t 4.719445891305587\n",
            "24 \t [9.06829377 8.93961606 6.         0.58229519 2.         0.64167434]\t 0.7207061667898202\t 0.6381026907714851\t 4.451542649904161\t 4.441184703266723\n",
            "25 \t [ 4.52812342  0.19443533 13.          0.65004115  2.          0.16077491]\t 0.9247656684808231\t 0.6381026907714851\t 4.794864302760102\t 4.948478842811678\n",
            "26 \t [ 5.90188989  6.38867765 11.41502241  1.         17.41502241  0.71756332]\t 0.6917000452044801\t 0.6381026907714851\t 4.318701573197021\t 4.501387095803358\n",
            "27 \t [0.         0.         5.97258142 0.5        7.97258142 0.1       ]\t 0.9340141900105075\t 0.6381026907714851\t 4.928566619066863\t 4.858238576777118\n",
            "28 \t [ 7.80000006  9.9668728  15.          1.          3.52337629  1.        ]\t 0.6390272249905182\t 0.6381026907714851\t 4.857356146926658\t 4.732851626267454\n",
            "29 \t [ 7.90276645  0.         12.34866387  0.5         7.34866387  0.33150128]\t 0.8824402125969122\t 0.6381026907714851\t 4.791910359053604\t 4.816721373233612\n",
            "30 \t [ 6.16014534 10.         14.19972937  1.         20.          1.        ]\t 0.6381111600168861\t 0.6381026907714851\t 5.293937566059398\t 5.288309639250279\n"
          ]
        },
        {
          "output_type": "execute_result",
          "data": {
            "text/plain": [
              "50024.33952205649"
            ]
          },
          "metadata": {},
          "execution_count": 31
        }
      ]
    },
    {
      "cell_type": "code",
      "metadata": {
        "id": "g_nP9lQjUztV",
        "colab": {
          "base_uri": "https://localhost:8080/"
        },
        "outputId": "b5afe6dc-9427-4e22-aca9-aa44a85b09b1"
      },
      "source": [
        "### Bayesian optimization runs (x20): 'Exact GP ERM' Acquisition Function run number = 12\n",
        "\n",
        "np.random.seed(run_num_12)\n",
        "surrogate_gp_12 = dGaussianProcess(cov_func, optimize=opt)\n",
        "\n",
        "X_train12, X_test12, y_train12, y_test12 = train_test_split(X, y, test_size=test_perc, random_state=run_num_12)\n",
        "\n",
        "def f_syn_polarity12(alpha, gamma, max_depth, subsample, min_child_weight, colsample):\n",
        "    reg = XGBRegressor(reg_alpha=alpha, gamma=gamma, max_depth=int(max_depth), subsample=subsample, min_child_weight=min_child_weight,\n",
        "          colsample_bytree=colsample, n_estimators = n_est, random_state=run_num_12, objective = 'reg:squarederror')\n",
        "    score = np.array(cross_val_score(reg, X=X_train12, y=y_train12).mean())\n",
        "    return operator * score\n",
        "\n",
        "gp_12 = dGPGO_gp(surrogate_gp_12, Acquisition_grad(util_gp), f_syn_polarity12, param, n_jobs = -1) # define BayesOpt\n",
        "gp_12.run(max_iter = max_iter, init_evals = n_init) # run\n",
        "\n",
        "### Return optimal parameters' set:\n",
        "params_gp_12 = gp_12.getResult()[0]\n",
        "params_gp_12['max_depth'] = int(params_gp_12['max_depth'])\n",
        "params_gp_12['min_child_weight'] = int(params_gp_12['min_child_weight'])\n",
        "\n",
        "### Re-train with optimal parameters, run predictons:\n",
        "dX_gp_train12 = xgb.DMatrix(X_train12, y_train12)\n",
        "dX_gp_test12 = xgb.DMatrix(X_test12, y_test12)\n",
        "model_gp_12 = xgb.train(params_gp_12, dX_gp_train12)\n",
        "pred_gp_12 = model_gp_12.predict(dX_gp_test12)\n",
        "\n",
        "rmse_gp_12 = np.sqrt(mean_squared_error(pred_gp_12, y_test12))\n",
        "rmse_gp_12"
      ],
      "execution_count": null,
      "outputs": [
        {
          "output_type": "stream",
          "name": "stdout",
          "text": [
            "Evaluation \t Proposed point \t  Current eval. \t  Best eval. \t         Max. ExactAcqFunc \t Max. ApproxAcqFunc \n",
            "init\t [1.54162842 7.40049697 6.         0.54321714 4.         0.11311747]\t 0.9314271055202143\t 0.7056203424268611\t    \t    \n",
            "init\t [ 9.18747008  9.00714854 14.          0.97847467 11.          0.35544552]\t 0.7910532936167305\t 0.7056203424268611\t    \t    \n",
            "init\t [ 6.06083184  9.44225136 14.          0.95626942  5.          0.56910342]\t 0.7196830962696428\t 0.7056203424268611\t    \t    \n",
            "init\t [ 5.52037633  4.85377414  7.          0.97886436 17.          0.78810441]\t 0.7056203424268611\t 0.7056203424268611\t    \t    \n",
            "init\t [ 0.20809798  1.35210178  5.          0.65494879 16.          0.36062811]\t 0.8082458628311272\t 0.7056203424268611\t    \t    \n",
            "1  \t [9.46555822 8.57190559 5.         0.50164398 5.         0.71992807]\t 0.74699493326549\t 0.7056203424268611\t 4.726245884875538\t 4.686808933816807\n",
            "2  \t [ 7.57473716  9.63637997 12.          0.83444517 10.          0.18761713]\t 0.9247498596892157\t 0.7056203424268611\t 5.137307524642909\t 5.137307524642909\n",
            "\u001b[1m\u001b[92m3\u001b[0m\t \u001b[1m\u001b[92m[ 9.04517621  0.80881017 13.          0.96890904  5.          0.75400021]\u001b[0m\t \u001b[1m\u001b[92m0.6897808103544698\u001b[0m\t \u001b[1m\u001b[92m0.6897808103544698\u001b[0m\t \u001b[1m\u001b[92m5.169301731195696\u001b[0m\t \u001b[1m\u001b[92m5.1435497961785694\u001b[0m\n",
            "4  \t [ 2.73241117  0.55778587 14.          0.70282167 15.          0.8966204 ]\t 0.6967406870158588\t 0.6897808103544698\t 5.065701226847753\t 5.114878046336744\n",
            "5  \t [ 6.66970674  0.03985694  6.          0.76922453 11.          0.18327615]\t 0.9302409127927834\t 0.6897808103544698\t 4.873776730938761\t 4.893787984496548\n",
            "6  \t [ 1.23389285  0.85357459 13.          0.93854198  3.          0.52598214]\t 0.7221002132069921\t 0.6897808103544698\t 4.730392684873921\t 4.732677329236252\n",
            "7  \t [ 0.57203639  5.0857779   9.          0.68290949 10.          0.94408458]\t 0.7012842559435354\t 0.6897808103544698\t 4.42407631859209\t 4.529216463487697\n",
            "8  \t [0.         0.67745925 5.         0.5        1.         0.1       ]\t 0.9380339511614821\t 0.6897808103544698\t 4.530273762974884\t 4.461965026118748\n",
            "9  \t [9.77568711 0.70796585 6.         0.73327465 3.         0.82051057]\t 0.7213506404912987\t 0.6897808103544698\t 4.551142110436964\t 4.605658153657427\n",
            "10 \t [ 9.20470536  7.96480391  5.          0.84400217 12.          0.74025549]\t 0.7417877006073502\t 0.6897808103544698\t 4.907887267293085\t 4.8408961247304365\n",
            "\u001b[1m\u001b[92m11\u001b[0m\t \u001b[1m\u001b[92m[10. 10. 15.  1. 20.  1.]\u001b[0m\t \u001b[1m\u001b[92m0.650360917790661\u001b[0m\t \u001b[1m\u001b[92m0.650360917790661\u001b[0m\t \u001b[1m\u001b[92m4.9073296429532025\u001b[0m\t \u001b[1m\u001b[92m4.791497657044671\u001b[0m\n",
            "12 \t [ 1.1215575   6.61045389 13.          0.73682382 17.          0.82385484]\t 0.6943570082727238\t 0.650360917790661\t 5.016703819937768\t 5.009232838927123\n",
            "13 \t [ 4.45674451  0.94208473 10.          0.94738373  7.          0.60125252]\t 0.7166741353060685\t 0.650360917790661\t 4.693368622343498\t 4.530636855331781\n",
            "14 \t [ 0.609825    8.87388875 14.          0.9069446   2.          0.82580346]\t 0.6998436682886817\t 0.650360917790661\t 4.504597689958855\t 4.452628129206008\n",
            "15 \t [ 1.10490837  9.58829464  6.          0.57860445 19.          0.21544386]\t 0.9310123715662361\t 0.650360917790661\t 4.7335757915497085\t 4.740028074981343\n",
            "16 \t [ 9.86500554  3.24622219 14.          0.95268622 17.          0.83554836]\t 0.6861949687174898\t 0.650360917790661\t 4.827274285478714\t 4.832953808885096\n",
            "17 \t [0.17059882 0.49735145 6.         0.94724054 9.         0.97251917]\t 0.7200838686336246\t 0.650360917790661\t 4.633338343654034\t 4.6963898825629755\n",
            "18 \t [ 1.40667435  9.60801033 13.          0.60326903 11.          0.82424216]\t 0.6997408299858809\t 0.650360917790661\t 4.866294134502902\t 4.886492531059964\n",
            "19 \t [5.58200824 6.47832626 5.         0.55772632 8.         0.94343024]\t 0.7445698470409463\t 0.650360917790661\t 4.565249802136586\t 4.547068314982769\n",
            "20 \t [ 9.98175567  0.8705802   6.          0.55210219 18.          0.50471737]\t 0.7496479603542527\t 0.650360917790661\t 4.720909956316334\t 4.574328873126638\n",
            "21 \t [ 4.91923868  9.45159785 12.60379882  0.9864316  19.81834933  1.        ]\t 0.6507675386482195\t 0.650360917790661\t 5.128881393530035\t 5.08000953431671\n",
            "22 \t [5.76471438 5.23960103 5.         0.5        1.         0.1       ]\t 0.938034092658342\t 0.650360917790661\t 4.688552839771768\t 4.594164601726725\n",
            "23 \t [ 9.41306296  8.67481182  7.99875648  1.         15.99875648  1.        ]\t 0.6811651265970322\t 0.650360917790661\t 4.984319990243774\t 4.933783532483673\n",
            "24 \t [8.76763879 4.36040002 9.         0.6751541  8.         0.94911869]\t 0.7027322856127343\t 0.650360917790661\t 5.044290498238177\t 5.157025959254942\n",
            "25 \t [ 3.95469902  4.43691502 14.          0.58535398 11.          0.45476493]\t 0.7762242661293977\t 0.650360917790661\t 5.355416198207696\t 5.188762315893472\n",
            "26 \t [8.97886962 5.1990592  8.         0.6115526  3.         0.92989751]\t 0.7062171777812216\t 0.650360917790661\t 4.837559371638193\t 4.850912851744786\n",
            "27 \t [ 2.9881373  10.          7.70018212  1.          8.70018212  1.        ]\t 0.679592210543832\t 0.650360917790661\t 5.0125560439846595\t 4.98809667338448\n",
            "28 \t [ 9.13327668  0.92433654 12.          0.91412474 10.          0.85058075]\t 0.6905450567206979\t 0.650360917790661\t 4.768937604316352\t 4.788454985410501\n",
            "29 \t [ 3.8544074   5.22723842 10.          0.76354194  1.          0.13710805]\t 0.927143786270312\t 0.650360917790661\t 4.6937372786556555\t 4.682098064673098\n",
            "\u001b[1m\u001b[92m30\u001b[0m\t \u001b[1m\u001b[92m[10.          8.41516271 11.44768018  1.          4.44768018  1.        ]\u001b[0m\t \u001b[1m\u001b[92m0.6499571344941641\u001b[0m\t \u001b[1m\u001b[92m0.6499571344941641\u001b[0m\t \u001b[1m\u001b[92m4.7127340574123995\u001b[0m\t \u001b[1m\u001b[92m4.936940124437348\u001b[0m\n"
          ]
        },
        {
          "output_type": "execute_result",
          "data": {
            "text/plain": [
              "51431.10635933817"
            ]
          },
          "metadata": {},
          "execution_count": 32
        }
      ]
    },
    {
      "cell_type": "code",
      "metadata": {
        "id": "yDI2Bi9vU05U",
        "colab": {
          "base_uri": "https://localhost:8080/"
        },
        "outputId": "75e28d52-7b49-4bed-eac8-2def6461e5dd"
      },
      "source": [
        "### Bayesian optimization runs (x20): 'Exact GP ERM' Acquisition Function run number = 13\n",
        "\n",
        "np.random.seed(run_num_13)\n",
        "surrogate_gp_13 = dGaussianProcess(cov_func, optimize=opt)\n",
        "\n",
        "X_train13, X_test13, y_train13, y_test13 = train_test_split(X, y, test_size=test_perc, random_state=run_num_13)\n",
        "\n",
        "def f_syn_polarity13(alpha, gamma, max_depth, subsample, min_child_weight, colsample):\n",
        "    reg = XGBRegressor(reg_alpha=alpha, gamma=gamma, max_depth=int(max_depth), subsample=subsample, min_child_weight=min_child_weight,\n",
        "          colsample_bytree=colsample, n_estimators = n_est, random_state=run_num_13, objective = 'reg:squarederror')\n",
        "    score = np.array(cross_val_score(reg, X=X_train13, y=y_train13).mean())\n",
        "    return operator * score\n",
        "\n",
        "gp_13 = dGPGO_gp(surrogate_gp_13, Acquisition_grad(util_gp), f_syn_polarity13, param, n_jobs = -1) # define BayesOpt\n",
        "gp_13.run(max_iter = max_iter, init_evals = n_init) # run\n",
        "\n",
        "### Return optimal parameters' set:\n",
        "params_gp_13 = gp_13.getResult()[0]\n",
        "params_gp_13['max_depth'] = int(params_gp_13['max_depth'])\n",
        "params_gp_13['min_child_weight'] = int(params_gp_13['min_child_weight'])\n",
        "\n",
        "### Re-train with optimal parameters, run predictons:\n",
        "dX_gp_train13 = xgb.DMatrix(X_train13, y_train13)\n",
        "dX_gp_test13 = xgb.DMatrix(X_test13, y_test13)\n",
        "model_gp_13 = xgb.train(params_gp_13, dX_gp_train13)\n",
        "pred_gp_13 = model_gp_13.predict(dX_gp_test13)\n",
        "\n",
        "rmse_gp_13 = np.sqrt(mean_squared_error(pred_gp_13, y_test13))\n",
        "rmse_gp_13"
      ],
      "execution_count": null,
      "outputs": [
        {
          "output_type": "stream",
          "name": "stdout",
          "text": [
            "Evaluation \t Proposed point \t  Current eval. \t  Best eval. \t         Max. ExactAcqFunc \t Max. ApproxAcqFunc \n",
            "init\t [ 7.77702411  2.3754122  11.          0.94649135 13.          0.7827256 ]\t 0.6628876451121497\t 0.6628876451121497\t    \t    \n",
            "init\t [ 7.51661514  6.07343344 11.          0.69402149 11.          0.13153287]\t 1.1013657958154304\t 0.6628876451121497\t    \t    \n",
            "init\t [ 2.98449471  0.58512492 10.          0.73579614 12.          0.33065195]\t 0.92150734169971\t 0.6628876451121497\t    \t    \n",
            "init\t [ 3.47581215  0.0941277  11.          0.86143432  8.          0.58454932]\t 0.71924819784624\t 0.6628876451121497\t    \t    \n",
            "init\t [ 4.70137857  6.24432527 10.          0.8149145  18.          0.10784416]\t 1.1014421616742969\t 0.6628876451121497\t    \t    \n",
            "1  \t [1.51786663 9.25994479 9.         0.99792981 2.         0.61199673]\t 0.7207240599672383\t 0.6628876451121497\t 4.999376957420473\t 4.9782276906729255\n",
            "\u001b[1m\u001b[92m2\u001b[0m\t \u001b[1m\u001b[92m[10.          8.76999345 15.          1.         20.          1.        ]\u001b[0m\t \u001b[1m\u001b[92m0.648463895263151\u001b[0m\t \u001b[1m\u001b[92m0.648463895263151\u001b[0m\t \u001b[1m\u001b[92m5.070296575422656\u001b[0m\t \u001b[1m\u001b[92m4.957108072007007\u001b[0m\n",
            "3  \t [ 1.27154032  7.56256657  5.          0.85984573 12.          0.61608824]\t 0.7679544515659981\t 0.648463895263151\t 4.915332339683968\t 4.901451536599262\n",
            "4  \t [ 4.39024044  6.42906019 12.          0.96666124  5.          0.79403332]\t 0.6655222383347275\t 0.648463895263151\t 4.378827372696025\t 4.368949250421159\n",
            "5  \t [5.34651487 5.45650069 6.         0.93529094 7.         0.24078895]\t 1.0980632271289044\t 0.648463895263151\t 4.789282827959654\t 4.779355153250344\n",
            "6  \t [ 1.86840748  0.75206083 14.          0.81141351 17.          0.47108772]\t 0.8190622083881806\t 0.648463895263151\t 4.99633254310328\t 4.911741726485647\n",
            "7  \t [2.42114726 2.21731466 7.         0.52977639 2.         0.33969965]\t 0.9201419758889635\t 0.648463895263151\t 4.684852512423963\t 4.715438420991306\n",
            "8  \t [ 9.44002225  4.67426365 14.          0.69806573  1.          0.72511221]\t 0.7229243973927224\t 0.648463895263151\t 5.043689401659279\t 4.926971678825862\n",
            "9  \t [9.52796793 0.5269077  7.         0.61130342 2.         0.41024487]\t 0.8258632893631743\t 0.648463895263151\t 4.735278303883597\t 4.514436022128405\n",
            "10 \t [ 5.91640152  9.89232522  5.          0.52190423 15.          0.21991228]\t 1.0998703523971674\t 0.648463895263151\t 4.800042281485676\t 4.835978777861913\n",
            "11 \t [ 4.33230901  0.85672678  6.          0.63795453 19.          0.64597264]\t 0.7370906275446215\t 0.648463895263151\t 4.874717184824037\t 4.881875440969312\n",
            "12 \t [ 8.67074354  1.64396694 14.          0.83039094  7.          0.18845957]\t 1.1043508783594271\t 0.648463895263151\t 4.903005886246936\t 4.883384664925983\n",
            "13 \t [0.         0.         5.         0.5        7.77619938 0.1       ]\t 1.099828942687583\t 0.648463895263151\t 4.609272075189473\t 4.691111708396877\n",
            "14 \t [8.89376119 7.09293115 9.         0.78983641 3.         0.25997795]\t 0.9218455789450489\t 0.648463895263151\t 4.783896271944297\t 4.7877613410833\n",
            "15 \t [ 3.78319896  9.10205064 14.          0.62806706 13.          0.90182995]\t 0.6686440552339279\t 0.648463895263151\t 4.935065840727711\t 4.884368301172033\n",
            "16 \t [9.66123717 1.6749164  7.         0.52601834 9.         0.78339475]\t 0.6982122839928836\t 0.648463895263151\t 4.812335435294855\t 4.770916809999346\n",
            "17 \t [1.72746041 9.05911241 9.         0.76972057 8.         0.72560219]\t 0.7119151444767224\t 0.648463895263151\t 4.84725093575043\t 4.870728120295417\n",
            "18 \t [ 0.94229296  2.02450761 13.          0.65000924  1.          0.22250131]\t 1.104491648360375\t 0.648463895263151\t 4.505520210569058\t 4.538264047926545\n",
            "19 \t [ 9.4287899  10.         12.82026372  1.          5.82026372  1.        ]\t 0.6486933892246464\t 0.648463895263151\t 4.8418334347982235\t 4.867081202274418\n",
            "20 \t [ 9.35280568  2.44132886  8.          0.87489385 18.          0.92170626]\t 0.67440347483604\t 0.648463895263151\t 5.30156031280098\t 5.266558159180959\n",
            "21 \t [ 0.33371233  4.85712217  6.98466222  0.5        15.98466222  0.1       ]\t 1.1007126314952358\t 0.648463895263151\t 5.04073909206791\t 5.006036310096178\n",
            "22 \t [ 7.83111842  5.45254473 14.          0.60495399 17.          0.59120871]\t 0.7272082462623335\t 0.648463895263151\t 4.836027892356964\t 4.758480021763959\n",
            "23 \t [ 2.05622909  9.08047387  8.          0.8397078  17.          0.73365999]\t 0.7124011319640049\t 0.648463895263151\t 4.798068323768359\t 4.792854296621828\n",
            "24 \t [ 5.54617933  1.56123407 12.          0.78374404  3.          0.15837523]\t 1.104938811784906\t 0.648463895263151\t 4.730675611358207\t 4.703308726811584\n",
            "25 \t [ 1.31863824  8.38888205 14.          0.95097909  8.          0.13910651]\t 1.1022707045584863\t 0.648463895263151\t 4.993672772566535\t 5.041803768160081\n",
            "26 \t [2.82817177 7.85679171 5.         0.75925491 2.         0.28870643]\t 0.9160132100682634\t 0.648463895263151\t 4.781481496049172\t 4.780917337457877\n",
            "27 \t [ 5.85240254  2.29607078  6.          0.83156764 14.          0.75611542]\t 0.7093200501398801\t 0.648463895263151\t 4.978342448664971\t 4.993602595032245\n",
            "28 \t [ 9.03385543  8.30985065  9.          0.8338378  16.          0.1765382 ]\t 1.101578572523866\t 0.648463895263151\t 4.955004948015255\t 5.013846049791641\n",
            "29 \t [ 8.39231109  0.32510731 14.          0.5902879  19.          0.62232309]\t 0.7267306709791242\t 0.648463895263151\t 4.850890262088015\t 4.820825367601074\n",
            "30 \t [ 0.70251408  2.90157697 12.          0.70852125  6.          0.90296694]\t 0.6650910147401161\t 0.648463895263151\t 4.684763408915884\t 4.729610236792591\n"
          ]
        },
        {
          "output_type": "execute_result",
          "data": {
            "text/plain": [
              "49288.16946361499"
            ]
          },
          "metadata": {},
          "execution_count": 33
        }
      ]
    },
    {
      "cell_type": "code",
      "metadata": {
        "id": "Z2F_Q194U3uu",
        "colab": {
          "base_uri": "https://localhost:8080/"
        },
        "outputId": "e24ed82d-66f3-4364-f6d6-4d5dd6e82b3f"
      },
      "source": [
        "### Bayesian optimization runs (x20): 'Exact GP ERM' Acquisition Function run number = 14\n",
        "\n",
        "np.random.seed(run_num_14)\n",
        "surrogate_gp_14 = dGaussianProcess(cov_func, optimize=opt)\n",
        "\n",
        "X_train14, X_test14, y_train14, y_test14 = train_test_split(X, y, test_size=test_perc, random_state=run_num_14)\n",
        "\n",
        "def f_syn_polarity14(alpha, gamma, max_depth, subsample, min_child_weight, colsample):\n",
        "    reg = XGBRegressor(reg_alpha=alpha, gamma=gamma, max_depth=int(max_depth), subsample=subsample, min_child_weight=min_child_weight,\n",
        "          colsample_bytree=colsample, n_estimators = n_est, random_state=run_num_14, objective = 'reg:squarederror')\n",
        "    score = np.array(cross_val_score(reg, X=X_train14, y=y_train14).mean())\n",
        "    return operator * score\n",
        "\n",
        "gp_14 = dGPGO_gp(surrogate_gp_14, Acquisition_grad(util_gp), f_syn_polarity14, param, n_jobs = -1) # define BayesOpt\n",
        "gp_14.run(max_iter = max_iter, init_evals = n_init) # run\n",
        "\n",
        "### Return optimal parameters' set:\n",
        "params_gp_14 = gp_14.getResult()[0]\n",
        "params_gp_14['max_depth'] = int(params_gp_14['max_depth'])\n",
        "params_gp_14['min_child_weight'] = int(params_gp_14['min_child_weight'])\n",
        "\n",
        "### Re-train with optimal parameters, run predictons:\n",
        "dX_gp_train14 = xgb.DMatrix(X_train14, y_train14)\n",
        "dX_gp_test14 = xgb.DMatrix(X_test14, y_test14)\n",
        "model_gp_14 = xgb.train(params_gp_14, dX_gp_train14)\n",
        "pred_gp_14 = model_gp_14.predict(dX_gp_test14)\n",
        "\n",
        "rmse_gp_14 = np.sqrt(mean_squared_error(pred_gp_14, y_test14))\n",
        "rmse_gp_14"
      ],
      "execution_count": null,
      "outputs": [
        {
          "output_type": "stream",
          "name": "stdout",
          "text": [
            "Evaluation \t Proposed point \t  Current eval. \t  Best eval. \t         Max. ExactAcqFunc \t Max. ApproxAcqFunc \n",
            "init\t [ 5.13943344  7.73165052 12.          0.6831412  11.          0.37876233]\t 0.8139066743222003\t 0.6747866005380063\t    \t    \n",
            "init\t [ 9.57603739  5.13116712 14.          0.76959997 12.          0.71328228]\t 0.6747866005380063\t 0.6747866005380063\t    \t    \n",
            "init\t [5.34950319 2.47493539 5.         0.50293689 6.         0.29706373]\t 0.977412427074478\t 0.6747866005380063\t    \t    \n",
            "init\t [ 2.94506579  3.45329697  8.          0.87620946 14.          0.9783044 ]\t 0.6774024187451972\t 0.6747866005380063\t    \t    \n",
            "init\t [ 1.11811929  1.73004086  5.          0.73745288 12.          0.20586008]\t 1.0197967308919336\t 0.6747866005380063\t    \t    \n",
            "1  \t [ 6.50637223  2.67617722 14.          0.53562507  1.          0.16862152]\t 1.0126649561802825\t 0.6747866005380063\t 4.832048486513644\t 4.834500826921935\n",
            "2  \t [ 5.83528891  2.63149599 12.          0.61005677 19.          0.2879488 ]\t 0.9571856949825378\t 0.6747866005380063\t 4.966888680417473\t 4.97097184670916\n",
            "3  \t [0.07739536 3.94062842 5.         0.7395899  3.         0.9764837 ]\t 0.7245455903141328\t 0.6747866005380063\t 5.092136211508963\t 5.042343303788418\n",
            "4  \t [6.9195004  0.54496332 8.         0.81208598 3.         0.15286338]\t 1.0111604668907606\t 0.6747866005380063\t 4.628549379403512\t 4.628549379403512\n",
            "5  \t [9.99867084 7.44671039 9.         0.55715966 3.         0.32152891]\t 0.9600990595782894\t 0.6747866005380063\t 5.27001485711095\t 5.285569362542127\n",
            "\u001b[1m\u001b[92m6\u001b[0m\t \u001b[1m\u001b[92m[10. 10. 15.  1. 20.  1.]\u001b[0m\t \u001b[1m\u001b[92m0.6502979285238808\u001b[0m\t \u001b[1m\u001b[92m0.6502979285238808\u001b[0m\t \u001b[1m\u001b[92m4.856726179973023\u001b[0m\t \u001b[1m\u001b[92m4.744183213426867\u001b[0m\n",
            "7  \t [ 0.57003128  6.21663363 13.          0.81050271  5.          0.20904924]\t 1.0121120103807468\t 0.6502979285238808\t 4.941068525528639\t 4.788228090335357\n",
            "8  \t [ 0.63353879  9.61017877  8.          0.96421247 18.          0.39200727]\t 0.8087127953472528\t 0.6502979285238808\t 4.321427893041073\t 4.350435076990682\n",
            "9  \t [ 8.76969774  6.4254199   8.          0.64683378 19.          0.24400256]\t 1.011399948588137\t 0.6502979285238808\t 4.949497506978615\t 4.950090392243744\n",
            "10 \t [ 1.6361515   9.65601963  6.          0.78645605 10.          0.24059194]\t 1.0163848571205125\t 0.6502979285238808\t 5.0506767859191175\t 5.077806073260841\n",
            "11 \t [ 9.88809977  3.72297385  6.          0.68686416 11.          0.16446157]\t 1.0169921141610336\t 0.6502979285238808\t 4.823296103034208\t 4.748280891770283\n",
            "12 \t [ 2.3962028   7.36014903 14.          0.56524147 18.          0.26929367]\t 0.9601203476407975\t 0.6502979285238808\t 4.84462266482301\t 4.771690827218846\n",
            "13 \t [ 1.48556604  1.71732125 13.          0.7779625   9.          0.35101548]\t 0.9594313331116266\t 0.6502979285238808\t 5.002319557024303\t 4.953052831333778\n",
            "\u001b[1m\u001b[92m14\u001b[0m\t \u001b[1m\u001b[92m[10.          9.93940321 15.          1.          7.37023779  1.        ]\u001b[0m\t \u001b[1m\u001b[92m0.649473493609829\u001b[0m\t \u001b[1m\u001b[92m0.649473493609829\u001b[0m\t \u001b[1m\u001b[92m4.881116163224458\u001b[0m\t \u001b[1m\u001b[92m4.813146975710381\u001b[0m\n",
            "15 \t [5.73566512 8.66603361 8.         0.81300017 7.         0.72050723]\t 0.6856543899131531\t 0.649473493609829\t 4.798408788524401\t 4.836875598378109\n",
            "16 \t [ 5.21920054  9.35580917 14.          0.81835368  4.          0.54800317]\t 0.7211586025861135\t 0.649473493609829\t 4.747889554788777\t 4.745366556801491\n",
            "17 \t [ 1.02993124  0.1201973   8.          0.85143335 18.          0.97029247]\t 0.6777675347345953\t 0.649473493609829\t 4.8324427048384715\t 4.846045760612538\n",
            "18 \t [ 9.40706915  0.91600736 13.          0.648599    7.          0.62885715]\t 0.6782712913254569\t 0.649473493609829\t 4.35354888966062\t 4.495010944020041\n",
            "19 \t [ 6.7258229   9.09121303  7.          0.59866387 14.          0.92807463]\t 0.6900997553621118\t 0.649473493609829\t 4.984957910442626\t 4.908037598373116\n",
            "20 \t [ 4.57870743  1.98552875 14.          0.65566453 14.          0.81792968]\t 0.6768346638837561\t 0.649473493609829\t 4.783258314473642\t 4.806320130696837\n",
            "21 \t [ 1.52900897  2.49551652 10.          0.74070159  3.          0.79386687]\t 0.6772839651254358\t 0.649473493609829\t 4.851371046781692\t 4.728939015935587\n",
            "22 \t [1.24403253 7.31158665 8.35258074 0.5        4.35258074 0.1       ]\t 1.0100954849169752\t 0.649473493609829\t 4.849311558746586\t 4.83485880149742\n",
            "23 \t [10.         10.         15.          1.         13.52878035  1.        ]\t 0.6496747559339833\t 0.649473493609829\t 5.0393000284671094\t 5.044956579034767\n",
            "24 \t [8.68356706 3.39368135 5.         0.96902719 1.         0.52647669]\t 0.7606090853553124\t 0.649473493609829\t 4.601182491212083\t 4.527991113751367\n",
            "25 \t [ 6.71198965  0.7988094   6.          0.93755772 17.          0.83354732]\t 0.7109212151666767\t 0.649473493609829\t 4.72488087916842\t 4.722479838450577\n",
            "26 \t [ 7.99859192  1.27814403 11.          0.87670998 12.          0.48785901]\t 0.8089215294655372\t 0.649473493609829\t 4.310788222126671\t 4.320203156841741\n",
            "27 \t [0.         0.         8.52096537 0.5        8.52096537 0.1       ]\t 1.0098091832445955\t 0.649473493609829\t 4.5910167333188925\t 4.537094665727986\n",
            "28 \t [4.67246168 8.89222989 6.         0.98000557 3.         0.96185968]\t 0.7052214130755474\t 0.649473493609829\t 4.94609873142835\t 4.923662002907911\n",
            "29 \t [10.          5.82112683 13.00697085  1.          5.00697085  1.        ]\t 0.6495982786735853\t 0.649473493609829\t 4.788489883772349\t 4.805109994063181\n",
            "30 \t [ 4.84035975  4.60315859  7.          0.56564288 10.          0.14999938]\t 1.012036852276137\t 0.649473493609829\t 4.63018290927767\t 4.6110144672110005\n"
          ]
        },
        {
          "output_type": "execute_result",
          "data": {
            "text/plain": [
              "51426.81737728424"
            ]
          },
          "metadata": {},
          "execution_count": 34
        }
      ]
    },
    {
      "cell_type": "code",
      "metadata": {
        "id": "Po5wImJaU6VC",
        "colab": {
          "base_uri": "https://localhost:8080/"
        },
        "outputId": "e5630058-a6fd-4b47-c4cb-3b1a3f548dac"
      },
      "source": [
        "### Bayesian optimization runs (x20): 'Exact GP ERM' Acquisition Function run number = 15\n",
        "\n",
        "np.random.seed(run_num_15)\n",
        "surrogate_gp_15 = dGaussianProcess(cov_func, optimize=opt)\n",
        "\n",
        "X_train15, X_test15, y_train15, y_test15 = train_test_split(X, y, test_size=test_perc, random_state=run_num_15)\n",
        "\n",
        "def f_syn_polarity15(alpha, gamma, max_depth, subsample, min_child_weight, colsample):\n",
        "    reg = XGBRegressor(reg_alpha=alpha, gamma=gamma, max_depth=int(max_depth), subsample=subsample, min_child_weight=min_child_weight,\n",
        "          colsample_bytree=colsample, n_estimators = n_est, random_state=run_num_15, objective = 'reg:squarederror')\n",
        "    score = np.array(cross_val_score(reg, X=X_train15, y=y_train15).mean())\n",
        "    return operator * score\n",
        "\n",
        "gp_15 = dGPGO_gp(surrogate_gp_15, Acquisition_grad(util_gp), f_syn_polarity15, param, n_jobs = -1) # define BayesOpt\n",
        "gp_15.run(max_iter = max_iter, init_evals = n_init) # run\n",
        "\n",
        "### Return optimal parameters' set:\n",
        "params_gp_15 = gp_15.getResult()[0]\n",
        "params_gp_15['max_depth'] = int(params_gp_15['max_depth'])\n",
        "params_gp_15['min_child_weight'] = int(params_gp_15['min_child_weight'])\n",
        "\n",
        "### Re-train with optimal parameters, run predictons:\n",
        "dX_gp_train15 = xgb.DMatrix(X_train15, y_train15)\n",
        "dX_gp_test15 = xgb.DMatrix(X_test15, y_test15)\n",
        "model_gp_15 = xgb.train(params_gp_15, dX_gp_train15)\n",
        "pred_gp_15 = model_gp_15.predict(dX_gp_test15)\n",
        "\n",
        "rmse_gp_15 = np.sqrt(mean_squared_error(pred_gp_15, y_test15))\n",
        "rmse_gp_15"
      ],
      "execution_count": null,
      "outputs": [
        {
          "output_type": "stream",
          "name": "stdout",
          "text": [
            "Evaluation \t Proposed point \t  Current eval. \t  Best eval. \t         Max. ExactAcqFunc \t Max. ApproxAcqFunc \n",
            "init\t [ 8.48817697  1.78895925 12.          0.55549316  8.          0.93397854]\t 0.6568473525973234\t 0.6568473525973234\t    \t    \n",
            "init\t [ 0.24953032  8.22298097 12.          0.62494951 11.          0.12924598]\t 0.9115777462403312\t 0.6568473525973234\t    \t    \n",
            "init\t [ 5.02017228  5.50882771 11.          0.85295832 19.          0.13548008]\t 0.9091447847268881\t 0.6568473525973234\t    \t    \n",
            "init\t [2.0023081  9.98543403 7.         0.6295772  2.         0.526127  ]\t 0.702826724376194\t 0.6568473525973234\t    \t    \n",
            "init\t [ 5.09715306  9.45038417 11.          0.7388277  16.          0.22739973]\t 0.9107852583947551\t 0.6568473525973234\t    \t    \n",
            "1  \t [ 0.29158961  4.9949242  12.          0.89124583  3.          0.67554049]\t 0.663179402460053\t 0.6568473525973234\t 4.927018687962268\t 4.927018687962268\n",
            "2  \t [2.60517447 0.82584036 7.         0.6107555  4.         0.25427784]\t 0.8585273074032198\t 0.6568473525973234\t 4.637929002951287\t 4.593252700153346\n",
            "3  \t [ 1.91126037  0.99517267  5.          0.54111286 13.          0.82351196]\t 0.7380302996053825\t 0.6568473525973234\t 4.886611051911927\t 4.870094956970559\n",
            "4  \t [ 9.65016643  9.36315476  6.          0.59817648 12.          0.93115055]\t 0.703799488681527\t 0.6568473525973234\t 5.271497043755506\t 5.095169300855762\n",
            "5  \t [ 7.92634325  7.5869497  10.          0.81214373  5.          0.71583728]\t 0.6720659222110311\t 0.6568473525973234\t 4.74939574694817\t 4.6627035357677995\n",
            "6  \t [ 7.93959095  1.14458347 12.          0.83279927 13.          0.31926382]\t 0.8514677232156771\t 0.6568473525973234\t 4.706359354139058\t 4.706359354139058\n",
            "7  \t [ 1.16848639  8.05538533  5.          0.78038294 17.          0.39890654]\t 0.8255978584765504\t 0.6568473525973234\t 5.082644651704763\t 5.018293327485083\n",
            "8  \t [ 2.92030295  6.55213539  7.          0.85743112 11.          0.10721562]\t 0.9101677934684653\t 0.6568473525973234\t 4.938587511461371\t 4.929946908031232\n",
            "9  \t [8.88449541 3.44367948 6.         0.58829924 7.         0.7864797 ]\t 0.7097411329660293\t 0.6568473525973234\t 4.991269310955193\t 4.908579725943334\n",
            "10 \t [ 7.63220266  0.71776488 13.          0.94235703 19.          0.50312607]\t 0.6591343622016139\t 0.6568473525973234\t 4.60871678744676\t 4.663370399381722\n",
            "11 \t [7.86329715 0.45193827 6.         0.68312899 1.         0.69810196]\t 0.7252936528187457\t 0.6568473525973234\t 4.615061034894096\t 4.5714677518627145\n",
            "\u001b[1m\u001b[92m12\u001b[0m\t \u001b[1m\u001b[92m[10. 10. 15.  1. 20.  1.]\u001b[0m\t \u001b[1m\u001b[92m0.6491916518522693\u001b[0m\t \u001b[1m\u001b[92m0.6491916518522693\u001b[0m\t \u001b[1m\u001b[92m4.911727294259566\u001b[0m\t \u001b[1m\u001b[92m4.771503805026039\u001b[0m\n",
            "13 \t [ 0.90706815  0.79490515  7.          0.51831376 19.          0.91250419]\t 0.6855937848974291\t 0.6491916518522693\t 4.802160055420334\t 4.753628496945151\n",
            "14 \t [ 7.74771021  6.65318771  6.          0.83647538 17.          0.81072392]\t 0.7061824016851268\t 0.6491916518522693\t 4.806745216320676\t 4.861734518101656\n",
            "15 \t [ 6.65116837  8.16324548 14.          0.95750787  1.          0.74925927]\t 0.6659910272710082\t 0.6491916518522693\t 4.636697912889879\t 4.6404239732137516\n",
            "16 \t [ 1.01000548  1.96777104 12.          0.51504561  8.          0.68970296]\t 0.6828545569961324\t 0.6491916518522693\t 4.560579031687168\t 4.52391124647699\n",
            "\u001b[1m\u001b[92m17\u001b[0m\t \u001b[1m\u001b[92m[ 4.37932047  6.20385796 12.          0.97766072  9.          0.88967325]\u001b[0m\t \u001b[1m\u001b[92m0.6404286658351375\u001b[0m\t \u001b[1m\u001b[92m0.6404286658351375\u001b[0m\t \u001b[1m\u001b[92m4.467543321357812\u001b[0m\t \u001b[1m\u001b[92m4.475022450683929\u001b[0m\n",
            "18 \t [ 1.86027286  4.35430307 13.          0.53536444 15.          0.92334731]\t 0.6602836056414704\t 0.6404286658351375\t 5.052996373141042\t 5.084585143476492\n",
            "19 \t [ 6.18689053  4.41947903 10.          0.55970253  2.          0.89284311]\t 0.6634774918096769\t 0.6404286658351375\t 4.675558656825489\t 4.654436428462174\n",
            "20 \t [6.71458767 6.21192942 5.         0.70021974 1.         0.14733325]\t 0.9149321430036975\t 0.6404286658351375\t 4.968233536487032\t 4.933829268433771\n",
            "21 \t [0.77398289 6.88386985 5.         0.5        7.29947997 0.1       ]\t 0.9160935971368735\t 0.6404286658351375\t 4.885941775706628\t 4.844331860803152\n",
            "22 \t [ 9.31305405  2.68340802  7.          0.59348541 12.          0.97471219]\t 0.6816029222172933\t 0.6404286658351375\t 4.914919912866628\t 4.98841301219561\n",
            "23 \t [ 7.26711337  0.14235978  5.          0.76462611 16.          0.41351262]\t 0.8266718126292492\t 0.6404286658351375\t 4.602695745634702\t 4.583733325428425\n",
            "24 \t [ 7.76649344  1.163194   14.          0.89685392  1.          0.90591323]\t 0.6511140602736504\t 0.6404286658351375\t 5.046683067188099\t 4.999984758202388\n",
            "25 \t [ 9.28741494 10.         15.          1.         14.25947896  1.        ]\t 0.6457723809896091\t 0.6404286658351375\t 5.102490166923526\t 4.93337532773068\n",
            "26 \t [ 7.4679151   6.11968454 14.          0.59617872 16.          0.1338107 ]\t 0.9124887462916614\t 0.6404286658351375\t 4.823280167491593\t 4.881066570231129\n",
            "27 \t [ 9.9822358   7.62766742 15.          1.          9.5510336   1.        ]\t 0.6475064476857713\t 0.6404286658351375\t 4.713318649394292\t 4.675329038117205\n",
            "28 \t [ 9.88829338 10.         10.6991311   1.          8.6991311   1.        ]\t 0.6520598303585712\t 0.6404286658351375\t 4.963454957247257\t 4.867685645090772\n",
            "29 \t [ 4.65617249  4.2358638  14.          0.83630546  4.          0.12527477]\t 0.9111271550835559\t 0.6404286658351375\t 4.783695076221436\t 4.830266718334755\n",
            "30 \t [ 9.40435768  7.598465   10.          0.97457018 15.          0.31309738]\t 0.847985472604506\t 0.6404286658351375\t 4.858033878756001\t 4.870539941064733\n"
          ]
        },
        {
          "output_type": "execute_result",
          "data": {
            "text/plain": [
              "50042.62774515855"
            ]
          },
          "metadata": {},
          "execution_count": 35
        }
      ]
    },
    {
      "cell_type": "code",
      "metadata": {
        "id": "9HrAQN-pU9Qo",
        "colab": {
          "base_uri": "https://localhost:8080/"
        },
        "outputId": "c33252b8-c015-4ee1-cd4a-ba37806fd1a0"
      },
      "source": [
        "### Bayesian optimization runs (x20): 'Exact GP ERM' Acquisition Function run number = 16\n",
        "\n",
        "np.random.seed(run_num_16)\n",
        "surrogate_gp_16 = dGaussianProcess(cov_func, optimize=opt)\n",
        "\n",
        "X_train16, X_test16, y_train16, y_test16 = train_test_split(X, y, test_size=test_perc, random_state=run_num_16)\n",
        "\n",
        "def f_syn_polarity16(alpha, gamma, max_depth, subsample, min_child_weight, colsample):\n",
        "    reg = XGBRegressor(reg_alpha=alpha, gamma=gamma, max_depth=int(max_depth), subsample=subsample, min_child_weight=min_child_weight,\n",
        "          colsample_bytree=colsample, n_estimators = n_est, random_state=run_num_16, objective = 'reg:squarederror')\n",
        "    score = np.array(cross_val_score(reg, X=X_train16, y=y_train16).mean())\n",
        "    return operator * score\n",
        "\n",
        "gp_16 = dGPGO_gp(surrogate_gp_16, Acquisition_grad(util_gp), f_syn_polarity16, param, n_jobs = -1) # define BayesOpt\n",
        "gp_16.run(max_iter = max_iter, init_evals = n_init) # run\n",
        "\n",
        "### Return optimal parameters' set:\n",
        "params_gp_16 = gp_16.getResult()[0]\n",
        "params_gp_16['max_depth'] = int(params_gp_16['max_depth'])\n",
        "params_gp_16['min_child_weight'] = int(params_gp_16['min_child_weight'])\n",
        "\n",
        "### Re-train with optimal parameters, run predictons:\n",
        "dX_gp_train16 = xgb.DMatrix(X_train16, y_train16)\n",
        "dX_gp_test16 = xgb.DMatrix(X_test16, y_test16)\n",
        "model_gp_16 = xgb.train(params_gp_16, dX_gp_train16)\n",
        "pred_gp_16 = model_gp_16.predict(dX_gp_test16)\n",
        "\n",
        "rmse_gp_16 = np.sqrt(mean_squared_error(pred_gp_16, y_test16))\n",
        "rmse_gp_16"
      ],
      "execution_count": null,
      "outputs": [
        {
          "output_type": "stream",
          "name": "stdout",
          "text": [
            "Evaluation \t Proposed point \t  Current eval. \t  Best eval. \t         Max. ExactAcqFunc \t Max. ApproxAcqFunc \n",
            "init\t [2.23291079 5.23163341 6.         0.65430839 5.         0.30077285]\t 0.9529819347295859\t 0.8883829281923242\t    \t    \n",
            "init\t [6.88726162 1.63731425 7.         0.97050543 2.         0.25392012]\t 0.9481041389252269\t 0.8883829281923242\t    \t    \n",
            "init\t [ 5.94328983  5.6393473   5.          0.67602695 19.          0.42538144]\t 0.8883829281923242\t 0.8883829281923242\t    \t    \n",
            "init\t [ 0.88741148  3.08148142 14.          0.56043938  9.          0.27515386]\t 0.9564077542414676\t 0.8883829281923242\t    \t    \n",
            "init\t [ 2.74631586  1.30996118 11.          0.52160786  8.          0.27956463]\t 0.9552184743546004\t 0.8883829281923242\t    \t    \n",
            "\u001b[1m\u001b[92m1\u001b[0m\t \u001b[1m\u001b[92m[ 7.8937256   1.5972923  14.          0.61610774 17.          0.78739284]\u001b[0m\t \u001b[1m\u001b[92m0.6878693399983744\u001b[0m\t \u001b[1m\u001b[92m0.6878693399983744\u001b[0m\t \u001b[1m\u001b[92m4.910970206106358\u001b[0m\t \u001b[1m\u001b[92m4.950371282226563\u001b[0m\n",
            "2  \t [ 9.65014948  7.07834667 14.          0.88748515  2.          0.43513691]\t 0.8747438848890932\t 0.6878693399983744\t 4.984752293294484\t 4.93965405425713\n",
            "3  \t [ 9.80741348  8.90144788 14.          0.82131992 14.          0.46769684]\t 0.8608053593354814\t 0.6878693399983744\t 4.551266028735274\t 4.542208186410593\n",
            "4  \t [ 0.78730688  7.98438553 14.          0.91743896 18.          0.25645593]\t 0.9494553422981233\t 0.6878693399983744\t 4.90704138439046\t 4.981386368536861\n",
            "5  \t [ 1.64983341  0.37890577  9.          0.65437216 16.          0.49641159]\t 0.8646755374886521\t 0.6878693399983744\t 4.806574938683981\t 4.654574364338754\n",
            "6  \t [ 5.58043809  8.91463745  8.          0.85851576 10.          0.64398202]\t 0.7307340308882677\t 0.6878693399983744\t 4.823710743397189\t 4.786255393813935\n",
            "7  \t [ 2.65571666  4.32529089 14.          0.66921971  2.          0.36607383]\t 0.9623426051674955\t 0.6878693399983744\t 4.983434793497987\t 4.977298477064085\n",
            "8  \t [ 5.53392197  2.00879238  6.          0.89871466 12.          0.67694144]\t 0.7620148611738933\t 0.6878693399983744\t 4.813223272985182\t 4.768558139357502\n",
            "\u001b[1m\u001b[92m9\u001b[0m\t \u001b[1m\u001b[92m[6.95801625 9.13555009 8.         0.87520198 2.         0.98461662]\u001b[0m\t \u001b[1m\u001b[92m0.6730441336589406\u001b[0m\t \u001b[1m\u001b[92m0.6730441336589406\u001b[0m\t \u001b[1m\u001b[92m5.20492809275964\u001b[0m\t \u001b[1m\u001b[92m5.201608375982579\u001b[0m\n",
            "10 \t [0.  0.  5.  0.5 1.  0.1]\t 0.9761208022264058\t 0.6730441336589406\t 4.7630406573026685\t 4.7476974399848\n",
            "11 \t [ 1.18539745  9.79684488 10.          0.69107903  4.          0.12860486]\t 0.9735436243628346\t 0.6730441336589406\t 5.175675061001832\t 5.197104727312779\n",
            "12 \t [ 8.8197294   2.64777319 14.          0.98646567 10.          0.63786085]\t 0.7141008345477899\t 0.6730441336589406\t 5.091162024449905\t 5.112267458430189\n",
            "\u001b[1m\u001b[92m13\u001b[0m\t \u001b[1m\u001b[92m[ 0.26172129  9.94921995 14.          0.88029118  9.          0.93655616]\u001b[0m\t \u001b[1m\u001b[92m0.6551680070961308\u001b[0m\t \u001b[1m\u001b[92m0.6551680070961308\u001b[0m\t \u001b[1m\u001b[92m4.5000655529761495\u001b[0m\t \u001b[1m\u001b[92m4.664330530462224\u001b[0m\n",
            "14 \t [ 9.63904847  1.13624975 14.          0.67706869  2.          0.95236673]\t 0.6655207401201757\t 0.6551680070961308\t 4.49913839016698\t 4.473948224488306\n",
            "15 \t [ 0.02157337  9.97534925  5.          0.75404051 13.          0.40760752]\t 0.8854668121365705\t 0.6551680070961308\t 4.7452177891969285\t 4.725204037042432\n",
            "16 \t [ 5.73702737  7.50903876 13.          0.61487351 15.          0.57742278]\t 0.7778153254020743\t 0.6551680070961308\t 5.115396035318225\t 5.115396035318225\n",
            "17 \t [ 7.10469951  6.34150339 11.          0.9481748   6.          0.12277199]\t 0.9718611347031094\t 0.6551680070961308\t 4.686087532053467\t 4.654640612887393\n",
            "18 \t [ 0.27887436  5.35249607  5.          0.53060455 10.          0.99538283]\t 0.7208146068785257\t 0.6551680070961308\t 4.974296909134263\t 4.899201855806973\n",
            "19 \t [ 9.86485549  9.03746465 10.          0.52506306 19.          0.37580875]\t 0.8664298555004347\t 0.6551680070961308\t 4.672148637861081\t 4.711927376186056\n",
            "20 \t [8.75370971 6.63075821 5.         0.51315816 7.         0.52603065]\t 0.8073058384557079\t 0.6551680070961308\t 5.118040286214875\t 4.971757585787069\n",
            "21 \t [ 9.99386934  5.02816989  8.          0.55649553 14.          0.90191945]\t 0.6762300545524115\t 0.6551680070961308\t 4.953038814986761\t 4.908546221636256\n",
            "22 \t [1.06221729 0.         5.         0.5        9.56507722 0.1       ]\t 0.9756897016398189\t 0.6551680070961308\t 4.828935162287049\t 5.083132289141483\n",
            "23 \t [ 3.65536835  8.11784641  8.          0.98715029 16.          0.54731662]\t 0.77590743437461\t 0.6551680070961308\t 5.13358938629416\t 5.054858066345303\n",
            "24 \t [9.80508544 0.83042511 7.         0.54124599 9.         0.7836072 ]\t 0.7113005276137964\t 0.6551680070961308\t 4.643965407258359\t 4.643932972353739\n",
            "\u001b[1m\u001b[92m25\u001b[0m\t \u001b[1m\u001b[92m[ 7.11570529 10.         14.09028906  1.          8.09028906  1.        ]\u001b[0m\t \u001b[1m\u001b[92m0.6470779178382641\u001b[0m\t \u001b[1m\u001b[92m0.6470779178382641\u001b[0m\t \u001b[1m\u001b[92m4.643194790283081\u001b[0m\t \u001b[1m\u001b[92m4.6930074114869145\u001b[0m\n",
            "26 \t [ 5.38505352  0.27838384  8.          0.64624975 19.          0.94943729]\t 0.6741571003845405\t 0.6470779178382641\t 4.823904807828296\t 4.82942884015052\n",
            "27 \t [ 0.2375092   5.20448002  7.          0.887766   16.          0.16167958]\t 0.971082975245141\t 0.6470779178382641\t 4.703118997861346\t 4.704234569714026\n",
            "28 \t [ 1.9619463   0.16028995 10.          0.50330845  2.          0.6207421 ]\t 0.7893707891931834\t 0.6470779178382641\t 4.91606164205488\t 4.844784989221109\n",
            "29 \t [ 2.85481198  1.91621026 14.          0.54622477 17.          0.11441312]\t 0.9744815425855189\t 0.6470779178382641\t 4.780651069376129\t 4.911271250944031\n",
            "30 \t [ 4.09115251  8.7531525  14.85872848  1.          3.85872848  0.99918402]\t 0.6540273057189099\t 0.6470779178382641\t 4.76805778517258\t 4.757173909214545\n"
          ]
        },
        {
          "output_type": "execute_result",
          "data": {
            "text/plain": [
              "49831.7587544266"
            ]
          },
          "metadata": {},
          "execution_count": 36
        }
      ]
    },
    {
      "cell_type": "code",
      "metadata": {
        "id": "SXelbcAVVCqO",
        "colab": {
          "base_uri": "https://localhost:8080/"
        },
        "outputId": "7cc43c1d-e965-4907-a7a9-112f08183dae"
      },
      "source": [
        "### Bayesian optimization runs (x20): 'Exact GP ERM' Acquisition Function run number = 17\n",
        "\n",
        "np.random.seed(run_num_17)\n",
        "surrogate_gp_17 = dGaussianProcess(cov_func, optimize=opt)\n",
        "\n",
        "X_train17, X_test17, y_train17, y_test17 = train_test_split(X, y, test_size=test_perc, random_state=run_num_17)\n",
        "\n",
        "def f_syn_polarity17(alpha, gamma, max_depth, subsample, min_child_weight, colsample):\n",
        "    reg = XGBRegressor(reg_alpha=alpha, gamma=gamma, max_depth=int(max_depth), subsample=subsample, min_child_weight=min_child_weight,\n",
        "          colsample_bytree=colsample, n_estimators = n_est, random_state=run_num_17, objective = 'reg:squarederror')\n",
        "    score = np.array(cross_val_score(reg, X=X_train17, y=y_train17).mean())\n",
        "    return operator * score\n",
        "\n",
        "gp_17 = dGPGO_gp(surrogate_gp_17, Acquisition_grad(util_gp), f_syn_polarity17, param, n_jobs = -1) # define BayesOpt\n",
        "gp_17.run(max_iter = max_iter, init_evals = n_init) # run\n",
        "\n",
        "### Return optimal parameters' set:\n",
        "params_gp_17 = gp_17.getResult()[0]\n",
        "params_gp_17['max_depth'] = int(params_gp_17['max_depth'])\n",
        "params_gp_17['min_child_weight'] = int(params_gp_17['min_child_weight'])\n",
        "\n",
        "### Re-train with optimal parameters, run predictons:\n",
        "dX_gp_train17 = xgb.DMatrix(X_train17, y_train17)\n",
        "dX_gp_test17 = xgb.DMatrix(X_test17, y_test17)\n",
        "model_gp_17 = xgb.train(params_gp_17, dX_gp_train17)\n",
        "pred_gp_17 = model_gp_17.predict(dX_gp_test17)\n",
        "\n",
        "rmse_gp_17 = np.sqrt(mean_squared_error(pred_gp_17, y_test17))\n",
        "rmse_gp_17"
      ],
      "execution_count": null,
      "outputs": [
        {
          "output_type": "stream",
          "name": "stdout",
          "text": [
            "Evaluation \t Proposed point \t  Current eval. \t  Best eval. \t         Max. ExactAcqFunc \t Max. ApproxAcqFunc \n",
            "init\t [ 2.94665003  5.30586756 11.          0.94443241 14.          0.80828691]\t 0.7141038418197827\t 0.7141038418197827\t    \t    \n",
            "init\t [ 6.56333522  6.37520896 12.          0.81487881 18.          0.42203224]\t 0.8024876355160464\t 0.7141038418197827\t    \t    \n",
            "init\t [ 9.45683187  0.6004468  11.          0.5171566  10.          0.53881211]\t 0.7659849712152795\t 0.7141038418197827\t    \t    \n",
            "init\t [2.72705857 1.19063434 6.         0.74176431 6.         0.10101151]\t 0.9684453836634761\t 0.7141038418197827\t    \t    \n",
            "init\t [ 4.77631812  5.24671297 13.          0.66254476 19.          0.36708086]\t 0.8556892362199922\t 0.7141038418197827\t    \t    \n",
            "1  \t [ 0.65702322  5.79284078 13.          0.75136902  1.          0.30306068]\t 0.86898292288902\t 0.7141038418197827\t 4.747182106177225\t 4.659027351872353\n",
            "2  \t [8.79462978 7.51560605 6.         0.76312232 8.         0.57156636]\t 0.778300364354035\t 0.7141038418197827\t 4.483661270549353\t 4.440841523609715\n",
            "3  \t [0.65992542 7.03112384 5.         0.85138174 1.         0.9514344 ]\t 0.726434848802118\t 0.7141038418197827\t 4.753531062477331\t 4.872112179858744\n",
            "4  \t [ 9.51671323  9.6124566  13.          0.71797221  5.          0.16581182]\t 0.9672674042711217\t 0.7141038418197827\t 4.675229957161876\t 4.665827953580587\n",
            "5  \t [ 9.17797544  5.99568118  6.          0.52445603 15.          0.40946449]\t 0.826366430225874\t 0.7141038418197827\t 4.962150891463907\t 4.868149603547444\n",
            "6  \t [ 6.81284184  2.29577018  7.          0.5239727  13.          0.33920765]\t 0.8659399691320455\t 0.7141038418197827\t 5.055110074715633\t 5.061244549677813\n",
            "7  \t [ 2.46339402  0.14039019 14.          0.95096219  7.          0.5441132 ]\t 0.7563633439329396\t 0.7141038418197827\t 5.169276220231128\t 5.1208632549730595\n",
            "8  \t [9.72843652 3.88893279 9.         0.6901555  1.         0.31608219]\t 0.861798864893942\t 0.7141038418197827\t 4.780544741494721\t 4.869284616679907\n",
            "9  \t [ 1.2716555   3.78378689  5.          0.57556817 17.          0.18163876]\t 0.9716163961274858\t 0.7141038418197827\t 5.1690797661723735\t 4.867721807579707\n",
            "10 \t [1.38490793 6.87002541 5.         0.73931504 9.         0.41767138]\t 0.829976302946727\t 0.7141038418197827\t 4.943786387635386\t 4.808310062245904\n",
            "11 \t [ 0.19725752  8.16335211 14.          0.80836431  8.          0.45209851]\t 0.8069651446453449\t 0.7141038418197827\t 4.790656995925929\t 4.776080508043921\n",
            "12 \t [ 0.          0.05792963  9.60265257  0.5        13.60265257  0.1       ]\t 0.9717734124498569\t 0.7141038418197827\t 5.03794955773186\t 4.936715653678479\n",
            "13 \t [0.  0.  5.  0.5 1.  0.1]\t 0.973743062796521\t 0.7141038418197827\t 4.75654663646172\t 4.714854870728899\n",
            "14 \t [ 7.35111323  4.42247898 14.          0.92954426  7.          0.31778445]\t 0.8561431043387969\t 0.7141038418197827\t 4.641665915144072\t 4.660940778405793\n",
            "15 \t [ 9.19532326  8.42928342 11.          0.5289521  11.          0.74996998]\t 0.7306673350944987\t 0.7141038418197827\t 4.8142473278307065\t 4.812794949825189\n",
            "16 \t [6.14842106 3.92031042 5.         0.80436272 5.         0.42842685]\t 0.8298337600349435\t 0.7141038418197827\t 4.5757521029172326\t 4.5658992231951165\n",
            "\u001b[1m\u001b[92m17\u001b[0m\t \u001b[1m\u001b[92m[ 7.93462308 10.         14.68514013  1.         20.          1.        ]\u001b[0m\t \u001b[1m\u001b[92m0.6458261258217902\u001b[0m\t \u001b[1m\u001b[92m0.6458261258217902\u001b[0m\t \u001b[1m\u001b[92m4.971312184970946\u001b[0m\t \u001b[1m\u001b[92m4.792585052109003\u001b[0m\n",
            "18 \t [ 1.83368891  8.1756677   8.          0.96471075 17.          0.14868642]\t 0.9653693800994253\t 0.6458261258217902\t 4.700916378819058\t 4.795568168238582\n",
            "19 \t [ 1.32113565  9.62738611 14.          0.55066636 15.          0.36069244]\t 0.8636922015613553\t 0.6458261258217902\t 4.96265469130069\t 4.935304805083889\n",
            "20 \t [ 6.88175573  0.68997438  9.          0.55006192 19.          0.74555899]\t 0.7341056462061506\t 0.6458261258217902\t 5.135048048142088\t 5.216200951245532\n",
            "21 \t [ 7.32262595  0.987487   14.          0.78324612 14.          0.76403633]\t 0.7129217809179572\t 0.6458261258217902\t 5.310261696899214\t 5.2781316312343\n",
            "22 \t [ 6.72796419  6.10053296 14.          0.56325639  2.          0.91580991]\t 0.672911524877989\t 0.6458261258217902\t 5.146013606344687\t 4.995673324387138\n",
            "23 \t [ 7.07271536  8.13007518  5.          0.98530219 19.          0.92839144]\t 0.7288961616067631\t 0.6458261258217902\t 5.13953833846963\t 5.102582829126806\n",
            "24 \t [0.85666329 5.92364698 9.         0.69191689 5.         0.98975497]\t 0.6651465396376819\t 0.6458261258217902\t 4.64471130625787\t 4.461123951952261\n",
            "25 \t [9.66959108 0.03423869 5.         0.63791788 7.         0.65549808]\t 0.7797393754763862\t 0.6458261258217902\t 4.994816407123323\t 5.096126809873325\n",
            "26 \t [ 3.61406382  9.87735751 10.          0.70199599  8.          0.85082246]\t 0.721371984674188\t 0.6458261258217902\t 4.527467409671417\t 4.504963378272214\n",
            "27 \t [ 5.62137526  0.50742571 12.          0.60891749  1.          0.89299215]\t 0.6736748141470514\t 0.6458261258217902\t 4.94042635715125\t 4.952452571844105\n",
            "\u001b[1m\u001b[92m28\u001b[0m\t \u001b[1m\u001b[92m[ 8.00674591 10.         15.          1.         14.7502302   1.        ]\u001b[0m\t \u001b[1m\u001b[92m0.6454808272106777\u001b[0m\t \u001b[1m\u001b[92m0.6454808272106777\u001b[0m\t \u001b[1m\u001b[92m4.918986005254668\u001b[0m\t \u001b[1m\u001b[92m4.815544206876738\u001b[0m\n",
            "29 \t [ 0.30609514  2.49894713 14.          0.69397027 18.          0.71750058]\t 0.7193266691045255\t 0.6454808272106777\t 5.09118117250755\t 5.242062999948111\n",
            "30 \t [6.87315371 8.0573145  9.         0.75725    3.         0.56369239]\t 0.7599113236373156\t 0.6454808272106777\t 4.7013086360162895\t 4.741208326662981\n"
          ]
        },
        {
          "output_type": "execute_result",
          "data": {
            "text/plain": [
              "48192.61443002094"
            ]
          },
          "metadata": {},
          "execution_count": 37
        }
      ]
    },
    {
      "cell_type": "code",
      "metadata": {
        "id": "qJG2fAtAVFDZ",
        "colab": {
          "base_uri": "https://localhost:8080/"
        },
        "outputId": "ff106241-a848-48c1-dfbd-c24b655f8e69"
      },
      "source": [
        "### Bayesian optimization runs (x20): 'Exact GP ERM' Acquisition Function run number = 18\n",
        "\n",
        "np.random.seed(run_num_18)\n",
        "surrogate_gp_18 = dGaussianProcess(cov_func, optimize=opt)\n",
        "\n",
        "X_train18, X_test18, y_train18, y_test18 = train_test_split(X, y, test_size=test_perc, random_state=run_num_18)\n",
        "\n",
        "def f_syn_polarity18(alpha, gamma, max_depth, subsample, min_child_weight, colsample):\n",
        "    reg = XGBRegressor(reg_alpha=alpha, gamma=gamma, max_depth=int(max_depth), subsample=subsample, min_child_weight=min_child_weight,\n",
        "          colsample_bytree=colsample, n_estimators = n_est, random_state=run_num_11, objective = 'reg:squarederror')\n",
        "    score = np.array(cross_val_score(reg, X=X_train18, y=y_train18).mean())\n",
        "    return operator * score\n",
        "\n",
        "gp_18 = dGPGO_gp(surrogate_gp_18, Acquisition_grad(util_gp), f_syn_polarity18, param, n_jobs = -1) # define BayesOpt\n",
        "gp_18.run(max_iter = max_iter, init_evals = n_init) # run\n",
        "\n",
        "### Return optimal parameters' set:\n",
        "params_gp_18 = gp_18.getResult()[0]\n",
        "params_gp_18['max_depth'] = int(params_gp_18['max_depth'])\n",
        "params_gp_18['min_child_weight'] = int(params_gp_18['min_child_weight'])\n",
        "\n",
        "### Re-train with optimal parameters, run predictons:\n",
        "dX_gp_train18 = xgb.DMatrix(X_train18, y_train18)\n",
        "dX_gp_test18 = xgb.DMatrix(X_test18, y_test18)\n",
        "model_gp_18 = xgb.train(params_gp_18, dX_gp_train18)\n",
        "pred_gp_18 = model_gp_18.predict(dX_gp_test18)\n",
        "\n",
        "rmse_gp_18 = np.sqrt(mean_squared_error(pred_gp_18, y_test18))\n",
        "rmse_gp_18"
      ],
      "execution_count": null,
      "outputs": [
        {
          "output_type": "stream",
          "name": "stdout",
          "text": [
            "Evaluation \t Proposed point \t  Current eval. \t  Best eval. \t         Max. ExactAcqFunc \t Max. ApproxAcqFunc \n",
            "init\t [6.50374242 5.05453374 6.         0.59092011 3.         0.28357516]\t 0.8853778201562241\t 0.6968179065224296\t    \t    \n",
            "init\t [0.11506734 4.26891483 9.         0.81785956 5.         0.63489043]\t 0.6968179065224296\t 0.6968179065224296\t    \t    \n",
            "init\t [ 2.8861259   6.35547834 11.          0.64267955 14.          0.27877092]\t 0.8778125354456613\t 0.6968179065224296\t    \t    \n",
            "init\t [6.57189031 6.99655629 8.         0.63235896 4.         0.52894035]\t 0.7421252990295766\t 0.6968179065224296\t    \t    \n",
            "init\t [ 6.66600348  2.11312037 14.          0.74363461  4.          0.73174558]\t 0.7041732589144625\t 0.6968179065224296\t    \t    \n",
            "1  \t [ 8.67093232  0.11649132  5.          0.92962202 15.          0.53672863]\t 0.7694285284315747\t 0.6968179065224296\t 4.780506030409122\t 4.642842501528879\n",
            "\u001b[1m\u001b[92m2\u001b[0m\t \u001b[1m\u001b[92m[ 7.2764983   0.11744451 14.          0.65239666 17.          0.99049521]\u001b[0m\t \u001b[1m\u001b[92m0.65697799905797\u001b[0m\t \u001b[1m\u001b[92m0.65697799905797\u001b[0m\t \u001b[1m\u001b[92m5.28801435419683\u001b[0m\t \u001b[1m\u001b[92m5.1947966849539275\u001b[0m\n",
            "3  \t [ 6.9243088   2.24175244  9.          0.535904   10.          0.52104842]\t 0.740342057576812\t 0.65697799905797\t 4.5850240349905\t 4.577835331832849\n",
            "4  \t [ 9.05522886  7.72410538  5.          0.69563915 18.          0.34113663]\t 0.893321248053374\t 0.65697799905797\t 5.1100074743418045\t 5.069180684076783\n",
            "5  \t [ 9.98394208  8.5932438  14.          0.75596751 19.          0.64506065]\t 0.697182883066114\t 0.65697799905797\t 5.090759666912007\t 5.090759572503075\n",
            "6  \t [ 8.22273842  9.68669454  5.          0.7147283  11.          0.16411281]\t 0.934413982456124\t 0.65697799905797\t 5.22122910393424\t 5.259715059075603\n",
            "7  \t [3.28907983 0.32007134 5.         0.82737078 1.         0.19815427]\t 0.9339136409907385\t 0.65697799905797\t 4.667523952594872\t 4.669297674785304\n",
            "8  \t [ 1.24316399  9.43141312 14.          0.66900118  7.          0.55235225]\t 0.7385292363411576\t 0.65697799905797\t 4.773839104357091\t 4.6870904209478255\n",
            "9  \t [ 1.80118477  1.19747778 13.          0.79590104  8.          0.56741067]\t 0.7318688282028918\t 0.65697799905797\t 5.2894794528764315\t 5.236942266084976\n",
            "10 \t [ 2.63732683  4.87962717 14.          0.99986359 19.          0.86504659]\t 0.6917610853596872\t 0.65697799905797\t 4.819002798754717\t 4.755747976764849\n",
            "11 \t [ 0.2637722   4.11659493  5.          0.61604637 11.          0.22374653]\t 0.934862140121076\t 0.65697799905797\t 4.804669200566148\t 4.660341986149771\n",
            "12 \t [ 3.09522647  6.97119948 14.          0.63850148  1.          0.54769428]\t 0.7530157713797134\t 0.65697799905797\t 4.6521985519800175\t 4.629543652620078\n",
            "13 \t [ 1.3916722   9.15131624  5.          0.92812295 18.          0.82773453]\t 0.7365431886620325\t 0.65697799905797\t 4.770144527493784\t 4.651202433468905\n",
            "14 \t [8.45918053 0.39509087 9.         0.81105792 3.         0.47358724]\t 0.7718546540038929\t 0.65697799905797\t 4.818267149156155\t 4.772673175344483\n",
            "15 \t [3.36125149 0.38066674 7.         0.83604387 7.         0.55591318]\t 0.7419578447057461\t 0.65697799905797\t 4.772150231475243\t 4.781517124594861\n",
            "16 \t [ 9.04557073  7.9579056  13.          0.79457459 11.          0.37545445]\t 0.7687992481703463\t 0.65697799905797\t 5.113346765907891\t 5.065058205690149\n",
            "17 \t [ 2.34351425  1.27586471  9.          0.74485285 16.          0.89346344]\t 0.6655993851049598\t 0.65697799905797\t 5.059203604635656\t 4.890905817311886\n",
            "18 \t [ 1.81282378  0.         10.27834914  0.5         2.27834914  0.1       ]\t 0.9278680231918928\t 0.65697799905797\t 4.908751782428264\t 5.000587565825332\n",
            "19 \t [9.2798599  7.10759547 6.         0.7926243  1.         0.10786223]\t 0.932289957585124\t 0.65697799905797\t 4.959787699496784\t 4.851483303751282\n",
            "20 \t [ 4.73830465  8.38099578  8.50175159  1.         19.50175159  0.61122186]\t 0.7632692932227313\t 0.65697799905797\t 5.073952816295588\t 4.960464138912006\n",
            "21 \t [ 1.2588084   9.80413977  5.          0.75618546 12.          0.53020258]\t 0.7726367108722194\t 0.65697799905797\t 5.149980294699862\t 5.041200439119859\n",
            "\u001b[1m\u001b[92m22\u001b[0m\t \u001b[1m\u001b[92m[ 5.2188434   5.56035943 15.          1.          9.62785349  1.        ]\u001b[0m\t \u001b[1m\u001b[92m0.6429163479476522\u001b[0m\t \u001b[1m\u001b[92m0.6429163479476522\u001b[0m\t \u001b[1m\u001b[92m4.697430258098648\u001b[0m\t \u001b[1m\u001b[92m4.669489355660193\u001b[0m\n",
            "23 \t [ 9.73631216  7.46194167 14.          0.919988    1.          0.18982878]\t 0.9255803683426104\t 0.6429163479476522\t 4.925488736415022\t 4.86551977873044\n",
            "24 \t [ 2.61567385  0.01777662 13.          0.8245822  14.          0.91600971]\t 0.6484014268359763\t 0.6429163479476522\t 5.098367845786247\t 5.102527683090648\n",
            "25 \t [1.07172211 9.91320527 6.         0.98176043 4.         0.24706724]\t 0.9310139235762914\t 0.6429163479476522\t 4.564283741757581\t 4.519788245422082\n",
            "26 \t [ 8.82466247  4.45234747  9.38412445  1.         16.38412445  1.        ]\t 0.654505341756521\t 0.6429163479476522\t 4.837837298838658\t 4.851689889625319\n",
            "27 \t [ 2.85341187  9.666784   14.5714172   1.         15.5714172   0.80559489]\t 0.6496681053780236\t 0.6429163479476522\t 5.372727124199609\t 5.550801794328344\n",
            "28 \t [0.68687496 7.61952967 6.         0.69420959 8.         0.10232955]\t 0.9323929856925224\t 0.6429163479476522\t 4.220561722058165\t 4.222696052503183\n",
            "29 \t [9.89337178 3.81875947 5.         0.59649267 7.         0.86884145]\t 0.739125810481835\t 0.6429163479476522\t 4.913516222301389\t 4.919791822707687\n",
            "30 \t [ 0.          0.          5.          0.5        14.56993883  0.1       ]\t 0.9354493510289681\t 0.6429163479476522\t 5.107021239301351\t 5.264606545460139\n"
          ]
        },
        {
          "output_type": "execute_result",
          "data": {
            "text/plain": [
              "47957.662255231924"
            ]
          },
          "metadata": {},
          "execution_count": 38
        }
      ]
    },
    {
      "cell_type": "code",
      "metadata": {
        "id": "XHidSEGcVHvG",
        "colab": {
          "base_uri": "https://localhost:8080/"
        },
        "outputId": "f6335e0a-8619-456e-c91f-6852115a1fe6"
      },
      "source": [
        "### Bayesian optimization runs (x20): 'Exact GP ERM' Acquisition Function run number = 19\n",
        "\n",
        "np.random.seed(run_num_19)\n",
        "surrogate_gp_19 = dGaussianProcess(cov_func, optimize=opt)\n",
        "\n",
        "X_train19, X_test19, y_train19, y_test19 = train_test_split(X, y, test_size=test_perc, random_state=run_num_19)\n",
        "\n",
        "def f_syn_polarity19(alpha, gamma, max_depth, subsample, min_child_weight, colsample):\n",
        "    reg = XGBRegressor(reg_alpha=alpha, gamma=gamma, max_depth=int(max_depth), subsample=subsample, min_child_weight=min_child_weight,\n",
        "          colsample_bytree=colsample, n_estimators = n_est, random_state=run_num_19, objective = 'reg:squarederror')\n",
        "    score = np.array(cross_val_score(reg, X=X_train19, y=y_train19).mean())\n",
        "    return operator * score\n",
        "\n",
        "gp_19 = dGPGO_gp(surrogate_gp_19, Acquisition_grad(util_gp), f_syn_polarity19, param, n_jobs = -1) # define BayesOpt\n",
        "gp_19.run(max_iter = max_iter, init_evals = n_init) # run\n",
        "\n",
        "### Return optimal parameters' set:\n",
        "params_gp_19 = gp_19.getResult()[0]\n",
        "params_gp_19['max_depth'] = int(params_gp_19['max_depth'])\n",
        "params_gp_19['min_child_weight'] = int(params_gp_19['min_child_weight'])\n",
        "\n",
        "### Re-train with optimal parameters, run predictons:\n",
        "dX_gp_train19 = xgb.DMatrix(X_train19, y_train19)\n",
        "dX_gp_test19 = xgb.DMatrix(X_test19, y_test19)\n",
        "model_gp_19 = xgb.train(params_gp_19, dX_gp_train19)\n",
        "pred_gp_19 = model_gp_19.predict(dX_gp_test19)\n",
        "\n",
        "rmse_gp_19 = np.sqrt(mean_squared_error(pred_gp_19, y_test19))\n",
        "rmse_gp_19"
      ],
      "execution_count": null,
      "outputs": [
        {
          "output_type": "stream",
          "name": "stdout",
          "text": [
            "Evaluation \t Proposed point \t  Current eval. \t  Best eval. \t         Max. ExactAcqFunc \t Max. ApproxAcqFunc \n",
            "init\t [ 0.97533602  7.61249717 13.          0.85765469 11.          0.39830191]\t 0.7381578397530673\t 0.7295721630591281\t    \t    \n",
            "init\t [ 0.82999565  6.71977081  6.          0.50407413 19.          0.67209466]\t 0.7470234185181706\t 0.7295721630591281\t    \t    \n",
            "init\t [ 2.15923256  5.49027432 12.          0.52588686 10.          0.20235326]\t 1.018052265694813\t 0.7295721630591281\t    \t    \n",
            "init\t [4.99659267 1.52108422 6.         0.73481085 4.         0.71949465]\t 0.7455570460653044\t 0.7295721630591281\t    \t    \n",
            "init\t [ 3.72927156  9.46160045  5.          0.80554614 18.          0.97708466]\t 0.7295721630591281\t 0.7295721630591281\t    \t    \n",
            "\u001b[1m\u001b[92m1\u001b[0m\t \u001b[1m\u001b[92m[ 8.33060043  1.42030563  8.          0.92863724 14.          0.78606141]\u001b[0m\t \u001b[1m\u001b[92m0.6773838424850286\u001b[0m\t \u001b[1m\u001b[92m0.6773838424850286\u001b[0m\t \u001b[1m\u001b[92m5.0593015860724755\u001b[0m\t \u001b[1m\u001b[92m4.913737741548912\u001b[0m\n",
            "2  \t [ 9.87536409  7.17591217 14.          0.99713522 17.          0.55460731]\t 0.7019341665321482\t 0.6773838424850286\t 4.684585216300173\t 4.715964450137377\n",
            "3  \t [ 9.05225624  3.60011377 14.          0.89518364  1.          0.11342054]\t 1.0199606306890758\t 0.6773838424850286\t 5.071568480693538\t 5.020692369637106\n",
            "4  \t [ 0.63994078  3.71351436 14.          0.60091862  1.          0.58598556]\t 0.7327508164518542\t 0.6773838424850286\t 4.652327007812494\t 4.656265858175592\n",
            "5  \t [4.99125702 9.50308409 8.         0.55828329 3.         0.34673953]\t 0.8626234515673594\t 0.6773838424850286\t 4.464865496925461\t 4.398036999452785\n",
            "6  \t [ 1.32803357  6.14469168  5.          0.5        11.31850088  0.1       ]\t 1.0123750103467304\t 0.6773838424850286\t 4.630452781400915\t 4.605335570092138\n",
            "\u001b[1m\u001b[92m7\u001b[0m\t \u001b[1m\u001b[92m[ 9.4686931  10.         13.33146213  1.          9.33146213  1.        ]\u001b[0m\t \u001b[1m\u001b[92m0.6504093874669943\u001b[0m\t \u001b[1m\u001b[92m0.6504093874669943\u001b[0m\t \u001b[1m\u001b[92m5.164901052060929\u001b[0m\t \u001b[1m\u001b[92m4.873223528591527\u001b[0m\n",
            "8  \t [ 8.91661877  0.81129414 14.          0.76941451 18.          0.38451622]\t 0.739345489918133\t 0.6504093874669943\t 4.678330187794824\t 4.579317379926133\n",
            "9  \t [ 7.79697396  2.4759708  14.          0.85704175 10.          0.8747867 ]\t 0.6661208346027878\t 0.6504093874669943\t 4.666248434520575\t 4.671273347626444\n",
            "10 \t [0.  0.  5.  0.5 1.  0.1]\t 1.012959712728477\t 0.6504093874669943\t 5.205539964561558\t 5.145411102576845\n",
            "11 \t [ 8.347612    9.05501181  5.          0.50033019 10.          0.41046448]\t 0.7834119309620006\t 0.6504093874669943\t 4.4343974376201425\t 4.4376185707845766\n",
            "12 \t [ 6.11039048  8.9398787   9.          0.84431675 14.          0.73928782]\t 0.7102000973560662\t 0.6504093874669943\t 4.853451775983359\t 4.723747876149173\n",
            "13 \t [0.04130113 6.56643894 8.         0.8316257  6.         0.23623124]\t 1.0149681655113947\t 0.6504093874669943\t 4.540139692263048\t 4.6068998976701785\n",
            "14 \t [ 0.76961365  0.71322479  7.          0.76261327 16.          0.65707922]\t 0.7283281329156809\t 0.6504093874669943\t 4.824656115717147\t 4.601621222694826\n",
            "15 \t [ 5.84124648  6.227347   10.00656641  1.         20.          1.        ]\t 0.6567579646960292\t 0.6504093874669943\t 4.815416551401218\t 4.96339699882038\n",
            "16 \t [ 0.9019348   8.21531788 14.          0.85098746 17.          0.41254672]\t 0.7391934581482711\t 0.6504093874669943\t 4.818430779574116\t 4.770603241441931\n",
            "17 \t [9.42305669 0.3423134  7.         0.77066127 8.         0.63693457]\t 0.7280806792663158\t 0.6504093874669943\t 4.65040033567218\t 4.620209254111536\n",
            "18 \t [ 9.95511956  7.60041193  6.          0.68015183 19.          0.83239317]\t 0.709906904841392\t 0.6504093874669943\t 5.171940642845652\t 5.127289128999711\n",
            "19 \t [ 1.5998037   2.07899705 13.          0.69607466 16.          0.66181568]\t 0.7053392217903056\t 0.6504093874669943\t 5.0279701876492044\t 5.235150559051582\n",
            "20 \t [ 9.47745808  9.50911305 13.          0.70555451  1.          0.87222907]\t 0.6776716071409558\t 0.6504093874669943\t 4.8999008406502655\t 4.983561274718647\n",
            "21 \t [ 3.16526468  9.88957695 14.          0.66718624  2.          0.49421519]\t 0.754638877583424\t 0.6504093874669943\t 4.927684352721307\t 4.835197938890707\n",
            "22 \t [ 2.09634932  0.14030298  6.          0.5964387  10.          0.52444645]\t 0.7482123766842939\t 0.6504093874669943\t 4.8889927749515065\t 4.8785642933870355\n",
            "23 \t [1.60895472e-01 8.27074864e-03 1.30000000e+01 6.91893018e-01\n",
            " 5.00000000e+00 4.60327119e-01]\t 0.7458028061131368\t 0.6504093874669943\t 4.787173128602954\t 4.599292642905558\n",
            "24 \t [9.2527463  5.48357582 5.         0.70904629 2.         0.53145819]\t 0.7709681184461903\t 0.6504093874669943\t 5.006728472389194\t 5.003925156489444\n",
            "25 \t [ 8.28202559  0.45721202  6.          0.9018841  19.          0.27559296]\t 0.8619873306358585\t 0.6504093874669943\t 5.008643839847391\t 4.879579725778483\n",
            "26 \t [ 3.61202122  0.         10.58038252  0.5         1.          0.1       ]\t 1.018785316316397\t 0.6504093874669943\t 5.1088729875437515\t 5.079672025417262\n",
            "27 \t [ 4.59052191  5.6077033  13.99546761  1.          4.99546761  1.        ]\t 0.6517331858361427\t 0.6504093874669943\t 5.093690858967875\t 4.963677892894825\n",
            "28 \t [8.3735996  5.34104024 8.         0.56456303 7.         0.59553385]\t 0.7245806620781778\t 0.6504093874669943\t 4.72034906549546\t 4.613772376166266\n",
            "29 \t [1.29619202 7.0308562  6.30562327 0.5        1.         0.1       ]\t 1.014538930910223\t 0.6504093874669943\t 4.705636302670112\t 4.853014148206484\n",
            "30 \t [ 9.80949062  0.42526047 11.          0.61085682  4.          0.94165398]\t 0.6776829311951872\t 0.6504093874669943\t 4.577069560782055\t 4.584587194426964\n"
          ]
        },
        {
          "output_type": "execute_result",
          "data": {
            "text/plain": [
              "49131.68094915563"
            ]
          },
          "metadata": {},
          "execution_count": 39
        }
      ]
    },
    {
      "cell_type": "code",
      "metadata": {
        "id": "CWGPYRJhVKsO",
        "colab": {
          "base_uri": "https://localhost:8080/"
        },
        "outputId": "567d9779-e637-4779-9163-2d987724ea34"
      },
      "source": [
        "### Bayesian optimization runs (x20): 'Exact GP ERM' Acquisition Function run number = 20\n",
        "\n",
        "np.random.seed(run_num_20)\n",
        "surrogate_gp_20 = dGaussianProcess(cov_func, optimize=opt)\n",
        "\n",
        "X_train20, X_test20, y_train20, y_test20 = train_test_split(X, y, test_size=test_perc, random_state=run_num_20)\n",
        "\n",
        "def f_syn_polarity20(alpha, gamma, max_depth, subsample, min_child_weight, colsample):\n",
        "    reg = XGBRegressor(reg_alpha=alpha, gamma=gamma, max_depth=int(max_depth), subsample=subsample, min_child_weight=min_child_weight,\n",
        "          colsample_bytree=colsample, n_estimators = n_est, random_state=run_num_20, objective = 'reg:squarederror')\n",
        "    score = np.array(cross_val_score(reg, X=X_train20, y=y_train20).mean())\n",
        "    return operator * score\n",
        "\n",
        "gp_20 = dGPGO_gp(surrogate_gp_20, Acquisition_grad(util_gp), f_syn_polarity20, param, n_jobs = -1) # define BayesOpt\n",
        "gp_20.run(max_iter = max_iter, init_evals = n_init) # run\n",
        "\n",
        "### Return optimal parameters' set:\n",
        "params_gp_20 = gp_20.getResult()[0]\n",
        "params_gp_20['max_depth'] = int(params_gp_20['max_depth'])\n",
        "params_gp_20['min_child_weight'] = int(params_gp_20['min_child_weight'])\n",
        "\n",
        "### Re-train with optimal parameters, run predictons:\n",
        "dX_gp_train20 = xgb.DMatrix(X_train20, y_train20)\n",
        "dX_gp_test20 = xgb.DMatrix(X_test20, y_test20)\n",
        "model_gp_20 = xgb.train(params_gp_20, dX_gp_train20)\n",
        "pred_gp_20 = model_gp_20.predict(dX_gp_test20)\n",
        "\n",
        "rmse_gp_20 = np.sqrt(mean_squared_error(pred_gp_20, y_test20))\n",
        "rmse_gp_20"
      ],
      "execution_count": null,
      "outputs": [
        {
          "output_type": "stream",
          "name": "stdout",
          "text": [
            "Evaluation \t Proposed point \t  Current eval. \t  Best eval. \t         Max. ExactAcqFunc \t Max. ApproxAcqFunc \n",
            "init\t [ 5.88130801  8.97713728 14.          0.81074445  8.          0.95540649]\t 0.6597299542050263\t 0.6597299542050263\t    \t    \n",
            "init\t [6.72865655 0.41173329 8.         0.6361582  7.         0.76174061]\t 0.6983733363249625\t 0.6597299542050263\t    \t    \n",
            "init\t [ 4.77387703  8.66202323 10.          0.51833215  7.          0.10123387]\t 1.0633118913318171\t 0.6597299542050263\t    \t    \n",
            "init\t [ 5.75489985  4.74524381  8.          0.78084343 15.          0.26643049]\t 0.8790653027854468\t 0.6597299542050263\t    \t    \n",
            "init\t [ 4.53444     4.47342833  8.          0.91974896 18.          0.35997552]\t 0.8778581695963045\t 0.6597299542050263\t    \t    \n",
            "1  \t [ 7.96566073  7.15509535  7.          0.79906691 11.          0.34132075]\t 0.8825953654337161\t 0.6597299542050263\t 4.876693171082517\t 4.876693171082517\n",
            "2  \t [ 1.72798052  9.03285612 13.          0.50351094 19.          0.11416888]\t 1.0635732061044851\t 0.6597299542050263\t 4.721270347664566\t 4.698667521521685\n",
            "\u001b[1m\u001b[92m3\u001b[0m\t \u001b[1m\u001b[92m[10.        10.        15.         1.        17.4599503  1.       ]\u001b[0m\t \u001b[1m\u001b[92m0.6401374028449338\u001b[0m\t \u001b[1m\u001b[92m0.6401374028449338\u001b[0m\t \u001b[1m\u001b[92m4.914255053945111\u001b[0m\t \u001b[1m\u001b[92m4.654846121439656\u001b[0m\n",
            "4  \t [0.  0.  5.  0.5 1.  0.1]\t 1.0679096170180373\t 0.6401374028449338\t 4.97126293183409\t 4.962833598632606\n",
            "5  \t [ 7.50758902  2.31989813 13.          0.92794435  1.          0.52943075]\t 0.7559982376783114\t 0.6401374028449338\t 4.909888901036825\t 4.876520877568141\n",
            "6  \t [ 0.55198982  4.75264073 14.          0.93528567 13.          0.58376745]\t 0.7405528896365979\t 0.6401374028449338\t 4.965103378206446\t 4.971345725630172\n",
            "7  \t [ 1.01837104  4.41995744  6.          0.52021829 12.          0.99601116]\t 0.7078573361250974\t 0.6401374028449338\t 4.557992103216489\t 4.561228291330318\n",
            "8  \t [ 0.54239845  2.74182658 10.          0.793938    8.          0.40512022]\t 0.8006633302852804\t 0.6401374028449338\t 5.140043599128133\t 5.035474216090161\n",
            "9  \t [1.40842154 7.81898154 9.         0.57297042 1.         0.11610409]\t 1.0651952678837315\t 0.6401374028449338\t 4.7099819538567385\t 4.720747909585873\n",
            "10 \t [8.51004072 7.2917763  5.         0.96135496 1.         0.57493956]\t 0.8036859734991779\t 0.6401374028449338\t 4.768076508171424\t 4.757490051042158\n",
            "11 \t [ 9.3606342   3.21248061 14.          0.65614013 17.          0.10926152]\t 1.0624486911635314\t 0.6401374028449338\t 5.126151085578386\t 5.091892860265905\n",
            "12 \t [ 1.82697381  3.23883023 14.          0.52727974  1.          0.42452427]\t 0.828664138263217\t 0.6401374028449338\t 5.308245102603389\t 5.1335334925205585\n",
            "13 \t [ 3.51322154  8.79998304 14.          0.91142182  1.          0.35103611]\t 0.8922088424958478\t 0.6401374028449338\t 5.203422086006238\t 5.149820519620706\n",
            "14 \t [ 2.78517086  0.20608894 12.          0.52669069 17.          0.68320382]\t 0.6983391825028334\t 0.6401374028449338\t 4.854049091221233\t 4.933725677607405\n",
            "15 \t [ 9.90619221  7.05528672  5.          0.91932487 18.          0.63366006]\t 0.7328927505356351\t 0.6401374028449338\t 4.895213245751204\t 4.905139978584751\n",
            "16 \t [ 7.65146653  2.36586786 13.          0.71989624  7.          0.80860445]\t 0.6888973472758477\t 0.6401374028449338\t 4.919311487250362\t 4.965840700614399\n",
            "17 \t [ 8.3723055   9.68266939 11.          0.50145124  1.          0.82596229]\t 0.7117644991570005\t 0.6401374028449338\t 4.7720825008644\t 4.803671814325944\n",
            "18 \t [ 9.6068935   0.80663714  8.          0.73945426 19.          0.81169876]\t 0.6946194207600972\t 0.6401374028449338\t 5.0659581327100875\t 4.927450581702161\n",
            "19 \t [0.74035504 4.5748447  5.         0.89363317 5.         0.49127349]\t 0.8310222116990836\t 0.6401374028449338\t 4.782284263043147\t 4.604871612201347\n",
            "20 \t [9.77613663 2.80327235 8.         0.65089037 2.         0.68605672]\t 0.7015374046471099\t 0.6401374028449338\t 4.609802421697056\t 4.454307660081215\n",
            "21 \t [ 2.16891361  0.40236972  6.          0.57865056 19.          0.33900997]\t 0.8933558323113931\t 0.6401374028449338\t 5.100101832482239\t 5.101184948604618\n",
            "22 \t [ 9.41379303  0.90177992 11.          0.70724067 13.          0.84884535]\t 0.6905070716835877\t 0.6401374028449338\t 4.729968427790454\t 4.7882914717669385\n",
            "23 \t [ 5.86852957  9.2552543  14.          0.74343957 14.          0.26209686]\t 0.8830540745289366\t 0.6401374028449338\t 4.740697378570237\t 4.726458070640361\n",
            "24 \t [8.80668839 9.74974177 8.         0.78186711 8.         0.24236328]\t 1.0595424210891182\t 0.6401374028449338\t 4.529361042153092\t 4.5065975852939\n",
            "25 \t [ 0.83358887  9.71793838 12.          0.52075624 11.          0.67770945]\t 0.6983988113329787\t 0.6401374028449338\t 4.774093899672338\t 4.931376227520527\n",
            "26 \t [ 0.96616103  8.61825128  6.          0.54652057 18.          0.73561745]\t 0.7195663176706344\t 0.6401374028449338\t 4.990630408127215\t 4.856656514269553\n",
            "27 \t [10.          7.90969886 10.45083702  1.         20.          1.        ]\t 0.6438960621134096\t 0.6401374028449338\t 5.298417124157267\t 4.978327161961559\n",
            "28 \t [0.         0.         5.         0.5        9.85493975 0.1       ]\t 1.0673951734730103\t 0.6401374028449338\t 5.192934838420626\t 5.194439826638423\n",
            "29 \t [ 7.19997824  0.84742136  6.29869529  0.5        12.29869529  0.1       ]\t 1.0658522980140046\t 0.6401374028449338\t 4.866027827783522\t 4.9401776849797585\n",
            "30 \t [ 0.89195001  6.01604215 14.          0.84121292  7.          0.44798682]\t 0.8038070345544759\t 0.6401374028449338\t 5.236578416541235\t 5.186734558663593\n"
          ]
        },
        {
          "output_type": "execute_result",
          "data": {
            "text/plain": [
              "48896.62839356588"
            ]
          },
          "metadata": {},
          "execution_count": 40
        }
      ]
    },
    {
      "cell_type": "code",
      "metadata": {
        "id": "-1d_1LyydIfe",
        "colab": {
          "base_uri": "https://localhost:8080/"
        },
        "outputId": "b39b7c97-5deb-453b-c52b-3f2cab733334"
      },
      "source": [
        "end_gp = time.time()\n",
        "end_gp\n",
        "\n",
        "time_gp = end_gp - start_gp\n",
        "time_gp\n",
        "\n",
        "start_stp = time.time()\n",
        "start_stp"
      ],
      "execution_count": null,
      "outputs": [
        {
          "output_type": "execute_result",
          "data": {
            "text/plain": [
              "1663768860.8388631"
            ]
          },
          "metadata": {},
          "execution_count": 41
        }
      ]
    },
    {
      "cell_type": "code",
      "metadata": {
        "id": "ZAyOw7XYVwAf",
        "colab": {
          "base_uri": "https://localhost:8080/"
        },
        "outputId": "71af6157-32ef-46ba-fe78-a9a3668c5797"
      },
      "source": [
        "### Bayesian optimization runs (x20): 'Exact STP ERM' Acquisition Function run number = 1 \n",
        "\n",
        "np.random.seed(run_num_1)\n",
        "surrogate_stp_1 = dtStudentProcess(cov_func, optimize=opt, nu = df)\n",
        "\n",
        "X_train1, X_test1, y_train1, y_test1 = train_test_split(X, y, test_size=test_perc, random_state=run_num_1)\n",
        "\n",
        "def f_syn_polarity1(alpha, gamma, max_depth, subsample, min_child_weight, colsample):\n",
        "    reg = XGBRegressor(reg_alpha=alpha, gamma=gamma, max_depth=int(max_depth), subsample=subsample, min_child_weight=min_child_weight,\n",
        "          colsample_bytree=colsample, n_estimators = n_est, random_state=run_num_1, objective = 'reg:squarederror')\n",
        "    score = np.array(cross_val_score(reg, X=X_train1, y=y_train1).mean())\n",
        "    return operator * score\n",
        "\n",
        "stp_1 = dGPGO_stp(surrogate_stp_1, Acquisition_grad(util_stp), f_syn_polarity1, param, n_jobs = -1) # Define BayesOpt\n",
        "stp_1.run(max_iter = max_iter, init_evals = n_init) # run\n",
        "\n",
        "### Return optimal parameters' set:\n",
        "params_stp_1 = stp_1.getResult()[0]\n",
        "params_stp_1['max_depth'] = int(params_stp_1['max_depth'])\n",
        "params_stp_1['min_child_weight'] = int(params_stp_1['min_child_weight'])\n",
        "\n",
        "### Re-train with optimal parameters, run predictons:\n",
        "dX_stp_train1 = xgb.DMatrix(X_train1, y_train1)\n",
        "dX_stp_test1 = xgb.DMatrix(X_test1, y_test1)\n",
        "model_stp_1 = xgb.train(params_stp_1, dX_stp_train1)\n",
        "pred_stp_1 = model_stp_1.predict(dX_stp_test1)\n",
        "\n",
        "rmse_stp_1 = np.sqrt(mean_squared_error(pred_stp_1, y_test1))\n",
        "rmse_stp_1"
      ],
      "execution_count": null,
      "outputs": [
        {
          "output_type": "stream",
          "name": "stdout",
          "text": [
            "Evaluation \t Proposed point \t  Current eval. \t  Best eval. \t        Exact ERM: StdDev. x \t Approx ERM: StdDev. x \n",
            "init\t [ 4.17022005  7.20324493 14.          0.65116629 16.          0.31248008]\t 1.0028690365100252\t 0.6536753952667645\t    \t    \n",
            "init\t [ 3.96580727  3.87910741 11.          0.96776954  6.          0.71669755]\t 0.7391862019705779\t 0.6536753952667645\t    \t    \n",
            "init\t [ 2.0445225   8.78117436  7.          0.95698101 10.          0.48762871]\t 0.8806962872539386\t 0.6536753952667645\t    \t    \n",
            "init\t [ 9.39127789  7.78389236 14.          0.98413079  2.          0.87851823]\t 0.6536753952667645\t 0.6536753952667645\t    \t    \n",
            "init\t [8.29146907 8.29603359 8.         0.58491521 9.         0.18851215]\t 1.062518544792604\t 0.6536753952667645\t    \t    \n",
            "1  \t [ 7.86951474  0.6406733  11.          0.78919481 19.          0.44182296]\t 0.8659738506300403\t 0.6536753952667645\t 5.056372785934988\t 5.068902674368323\n",
            "2  \t [ 0.74723898  0.36469704 11.          0.84902862 15.          0.10419698]\t 1.0589776023267656\t 0.6536753952667645\t 4.660507930532674\t 4.647885297321622\n",
            "3  \t [ 3.61274713  8.16007507 11.          0.84840025 19.          0.76215891]\t 0.6771887207267527\t 0.6536753952667645\t 4.637663030917348\t 4.637663030917348\n",
            "4  \t [7.54305951 2.10732392 5.         0.87446419 8.         0.37589556]\t 0.8992034514090065\t 0.6536753952667645\t 4.340225491639632\t 4.382412709649581\n",
            "\u001b[1m\u001b[92m5\u001b[0m\t \u001b[1m\u001b[92m[10. 10. 15.  1. 20.  1.]\u001b[0m\t \u001b[1m\u001b[92m0.6504936383293095\u001b[0m\t \u001b[1m\u001b[92m0.6504936383293095\u001b[0m\t \u001b[1m\u001b[92m5.092927431044994\u001b[0m\t \u001b[1m\u001b[92m5.0866325265253085\u001b[0m\n",
            "6  \t [ 5.1476318   2.63826491  5.          0.83046451 17.          0.39543049]\t 0.9004243658767852\t 0.6504936383293095\t 4.733332450729269\t 4.6487691414245225\n",
            "7  \t [ 2.05722318  9.92568059 11.          0.85938245  2.          0.31039182]\t 1.0042308077866626\t 0.6504936383293095\t 5.069340842433887\t 5.0063869419521465\n",
            "8  \t [8.51945771 8.4424986  8.         0.90741371 1.         0.49942468]\t 0.8757522803338091\t 0.6504936383293095\t 4.84197921963153\t 4.812746344655551\n",
            "9  \t [ 2.08878558  0.52993661 12.          0.75288969  1.          0.24822289]\t 1.0632523501795186\t 0.6504936383293095\t 5.099815456420458\t 5.040696151383315\n",
            "10 \t [ 5.33531967  8.54366774  8.          0.66341534 14.          0.29734112]\t 0.998213042419686\t 0.6504936383293095\t 4.724716666261893\t 4.724716666261893\n",
            "11 \t [ 9.4605503   2.00186066 12.          0.69186722  8.          0.11311186]\t 1.061946992849472\t 0.6504936383293095\t 4.860512076306174\t 4.860512076306174\n",
            "12 \t [0.15776536 8.02750992 5.         0.65248282 3.         0.71659731]\t 0.8032223773845614\t 0.6504936383293095\t 5.042010033664631\t 5.054837367877538\n",
            "13 \t [4.13690736 2.14715696 6.         0.52611104 1.         0.96671642]\t 0.7093885008364936\t 0.6504936383293095\t 5.312182070526673\t 5.167960546491024\n",
            "14 \t [ 0.99440257  2.23238431 10.          0.58984965 12.          0.68792603]\t 0.7499303794197336\t 0.6504936383293095\t 4.475094501045932\t 4.475094501045932\n",
            "15 \t [ 9.20512342  1.60831322 11.          0.87041344  2.          0.50117029]\t 0.8186293003915115\t 0.6504936383293095\t 5.00565978839849\t 4.865356663134893\n",
            "16 \t [ 0.28990425  5.36117717 14.          0.57624837 11.          0.76620972]\t 0.684834878460344\t 0.6504936383293095\t 4.930320247642232\t 4.9673165415181035\n",
            "17 \t [1.68476972 5.2908721  8.         0.92839616 1.         0.96471758]\t 0.670961172017669\t 0.6504936383293095\t 4.585400403723971\t 4.51249486351841\n",
            "18 \t [ 1.11955444  5.11272894 10.          0.77604051 14.          0.40977672]\t 0.8661734316276007\t 0.6504936383293095\t 4.846330835014759\t 4.846330835014759\n",
            "19 \t [ 9.68760652  2.49858493  5.          0.84574421 13.          0.33692235]\t 1.0095429457834948\t 0.6504936383293095\t 5.179724527163104\t 5.179724527163104\n",
            "20 \t [ 5.68575652  2.73061603 14.          0.61811388 15.          0.91855302]\t 0.6649510133524581\t 0.6504936383293095\t 4.93872991623329\t 4.940681864473402\n",
            "21 \t [ 9.72376714  9.82517342 14.          0.96896704 10.          0.66715413]\t 0.7365987830832396\t 0.6504936383293095\t 5.221616247341604\t 5.227610961060652\n",
            "22 \t [ 3.42988222  3.60806268 11.          0.65919672 19.          0.15600267]\t 1.060877500434967\t 0.6504936383293095\t 4.780971690416915\t 4.780971690416915\n",
            "23 \t [ 3.79839517  0.81425404  8.          0.93236393 16.          0.87681693]\t 0.6693366893520581\t 0.6504936383293095\t 4.6897047402538785\t 4.6897047402538785\n",
            "24 \t [9.91212104 3.52811735 6.         0.93018572 1.         0.49999318]\t 0.8890012000810771\t 0.6504936383293095\t 4.938550771331971\t 4.937928617098053\n",
            "25 \t [ 9.92106016  5.52981723 11.          0.80826141 13.          0.31322593]\t 1.000587889017468\t 0.6504936383293095\t 4.897707959770073\t 4.800054858779096\n",
            "26 \t [ 1.03968583  3.49943563 14.          0.82879876  3.          0.98366866]\t 0.6562345271802523\t 0.6504936383293095\t 4.631768859249778\t 4.62723804288131\n",
            "27 \t [ 2.52136808  8.51741902 14.          0.89185963  6.          0.23066693]\t 1.0608073786807473\t 0.6504936383293095\t 4.74569540994641\t 4.838278889742544\n",
            "28 \t [0.72761348 1.82196215 5.         0.79281157 6.         0.99771556]\t 0.7301068319230399\t 0.6504936383293095\t 4.762078905919656\t 4.577678258346786\n",
            "29 \t [ 7.40845157  8.58336508  5.          0.8318041  19.          0.36434664]\t 1.0097984953249557\t 0.6504936383293095\t 5.180805849193846\t 5.110884869873536\n",
            "30 \t [ 1.2654566   9.68568733  5.          0.57664611 17.          0.70355107]\t 0.804917733132231\t 0.6504936383293095\t 4.7598382948282225\t 4.7329249251399474\n"
          ]
        },
        {
          "output_type": "execute_result",
          "data": {
            "text/plain": [
              "47321.8408099896"
            ]
          },
          "metadata": {},
          "execution_count": 44
        }
      ]
    },
    {
      "cell_type": "code",
      "metadata": {
        "id": "hrDQbChpZ48F",
        "colab": {
          "base_uri": "https://localhost:8080/"
        },
        "outputId": "61a259bd-9dcd-4de7-8006-e813ffe3d26f"
      },
      "source": [
        "### Bayesian optimization runs (x20): 'Exact STP ERM' Acquisition Function run number = 2 \n",
        "\n",
        "np.random.seed(run_num_2)\n",
        "surrogate_stp_2 = dtStudentProcess(cov_func, optimize=opt, nu = df)\n",
        "\n",
        "X_train2, X_test2, y_train2, y_test2 = train_test_split(X, y, test_size=test_perc, random_state=run_num_2)\n",
        "\n",
        "def f_syn_polarity2(alpha, gamma, max_depth, subsample, min_child_weight, colsample):\n",
        "    reg = XGBRegressor(reg_alpha=alpha, gamma=gamma, max_depth=int(max_depth), subsample=subsample, min_child_weight=min_child_weight,\n",
        "          colsample_bytree=colsample, n_estimators = n_est, random_state=run_num_2, objective = 'reg:squarederror')\n",
        "    score = np.array(cross_val_score(reg, X=X_train2, y=y_train2).mean())\n",
        "    return operator * score\n",
        "\n",
        "stp_2 = dGPGO_stp(surrogate_stp_2, Acquisition_grad(util_stp), f_syn_polarity2, param, n_jobs = -1) # Define BayesOpt\n",
        "stp_2.run(max_iter = max_iter, init_evals = n_init) # run\n",
        "\n",
        "### Return optimal parameters' set:\n",
        "params_stp_2 = stp_2.getResult()[0]\n",
        "params_stp_2['max_depth'] = int(params_stp_2['max_depth'])\n",
        "params_stp_2['min_child_weight'] = int(params_stp_2['min_child_weight'])\n",
        "\n",
        "### Re-train with optimal parameters, run predictons:\n",
        "dX_stp_train2 = xgb.DMatrix(X_train2, y_train2)\n",
        "dX_stp_test2 = xgb.DMatrix(X_test2, y_test2)\n",
        "model_stp_2 = xgb.train(params_stp_2, dX_stp_train2)\n",
        "pred_stp_2 = model_stp_2.predict(dX_stp_test2)\n",
        "\n",
        "rmse_stp_2 = np.sqrt(mean_squared_error(pred_stp_2, y_test2))\n",
        "rmse_stp_2"
      ],
      "execution_count": null,
      "outputs": [
        {
          "output_type": "stream",
          "name": "stdout",
          "text": [
            "Evaluation \t Proposed point \t  Current eval. \t  Best eval. \t        Exact ERM: StdDev. x \t Approx ERM: StdDev. x \n",
            "init\t [ 4.35994902  0.25926232 11.          0.97386531 12.          0.47833102]\t 0.778909206070606\t 0.681387807728051\t    \t    \n",
            "init\t [ 3.30334821  2.04648634 10.          0.55997527  6.          0.71472339]\t 0.681387807728051\t 0.681387807728051\t    \t    \n",
            "init\t [ 4.9856117   5.86796978  8.          0.89266757 11.          0.59158659]\t 0.7040746477543849\t 0.681387807728051\t    \t    \n",
            "init\t [ 4.07307832  1.76984624 13.          0.75262305  7.          0.35908193]\t 0.7953147984784036\t 0.681387807728051\t    \t    \n",
            "init\t [ 1.16193318  1.81727038  9.          0.79837265 19.          0.29965165]\t 0.7954413972964868\t 0.681387807728051\t    \t    \n",
            "\u001b[1m\u001b[92m1\u001b[0m\t \u001b[1m\u001b[92m[9.68290573 5.74953535 8.         0.93445831 2.         0.81872709]\u001b[0m\t \u001b[1m\u001b[92m0.6807577751383148\u001b[0m\t \u001b[1m\u001b[92m0.6807577751383148\u001b[0m\t \u001b[1m\u001b[92m4.311021258705122\u001b[0m\t \u001b[1m\u001b[92m4.353566925432769\u001b[0m\n",
            "2  \t [ 2.17907321  8.34965852  5.          0.91660625 18.          0.97349298]\t 0.7341430302765248\t 0.6807577751383148\t 4.987854597487966\t 5.046606336961779\n",
            "3  \t [ 3.86971225  8.36249195 14.          0.65193715  2.          0.53564822]\t 0.7073935536898857\t 0.6807577751383148\t 4.727984661747143\t 4.647027826185523\n",
            "4  \t [ 5.03756278  5.01206033 13.          0.59912629 19.          0.46413865]\t 0.7900256550528338\t 0.6807577751383148\t 5.05777371670215\t 5.044709600377797\n",
            "5  \t [0.  0.  5.  0.5 1.  0.1]\t 0.8726019020039407\t 0.6807577751383148\t 4.57390024281199\t 4.490784827037438\n",
            "\u001b[1m\u001b[92m6\u001b[0m\t \u001b[1m\u001b[92m[ 9.90020282  3.3367177  10.          0.62203407  7.          0.71235234]\u001b[0m\t \u001b[1m\u001b[92m0.67907472219801\u001b[0m\t \u001b[1m\u001b[92m0.67907472219801\u001b[0m\t \u001b[1m\u001b[92m4.543459446455653\u001b[0m\t \u001b[1m\u001b[92m4.542545864520352\u001b[0m\n",
            "\u001b[1m\u001b[92m7\u001b[0m\t \u001b[1m\u001b[92m[10.         10.         15.          1.          9.51871594  1.        ]\u001b[0m\t \u001b[1m\u001b[92m0.654043934674785\u001b[0m\t \u001b[1m\u001b[92m0.654043934674785\u001b[0m\t \u001b[1m\u001b[92m5.265406902900668\u001b[0m\t \u001b[1m\u001b[92m5.123715921162687\u001b[0m\n",
            "8  \t [1.98662322 5.58086412 6.         0.94862422 3.         0.77339666]\t 0.7107162399424428\t 0.654043934674785\t 4.9855681820105495\t 5.072449234193682\n",
            "9  \t [ 9.24652802  2.85452625  6.          0.82083864 14.          0.624768  ]\t 0.7397571279868462\t 0.654043934674785\t 4.6856422708923064\t 4.685985001036378\n",
            "10 \t [ 0.27081994  8.72536784 13.          0.81607342  8.          0.82891087]\t 0.6684024492575475\t 0.654043934674785\t 4.4116196431506065\t 4.400297088627458\n",
            "11 \t [ 5.44997493  9.23863618 12.          0.63531171 14.          0.3187171 ]\t 0.7973294184994432\t 0.654043934674785\t 4.841616071872692\t 4.856231234229205\n",
            "12 \t [ 0.29437191  1.54419592 13.          0.81915517  2.          0.27031264]\t 0.796661991187597\t 0.654043934674785\t 4.921404649891384\t 4.772881275591233\n",
            "13 \t [ 7.86086296  9.53235807  5.          0.78700181 16.          0.22516618]\t 0.8728710854388536\t 0.654043934674785\t 4.803010645823975\t 4.830491600177221\n",
            "14 \t [ 9.27473506  0.48916448  9.          0.9279608  19.          0.68123621]\t 0.6739448414977296\t 0.654043934674785\t 5.202827767386942\t 5.070382540001504\n",
            "15 \t [ 9.03841746 10.         13.36649945  1.         19.36649945  1.        ]\t 0.6547228859829877\t 0.654043934674785\t 4.995209830180176\t 4.841681647700784\n",
            "16 \t [ 3.79151097  4.0129324  10.          0.78656319  9.          0.57380624]\t 0.6970533395297733\t 0.654043934674785\t 4.539265653806359\t 4.539265653806359\n",
            "17 \t [ 1.94467794  1.47584396  5.          0.91953126 11.          0.49707889]\t 0.8258856905247922\t 0.654043934674785\t 4.775868407291836\t 4.697549773659448\n",
            "18 \t [ 3.19241925  2.91302128 11.          0.905155   18.          0.71674806]\t 0.6693925559674401\t 0.654043934674785\t 4.340094918562057\t 4.340094918562057\n",
            "19 \t [ 6.92673077  1.23845568 10.          0.63463476  8.          0.28240746]\t 0.7984787223028406\t 0.654043934674785\t 4.9557864782257735\t 4.958512696357491\n",
            "20 \t [ 2.26812476  6.7571478  13.          0.87941648  6.          0.30778351]\t 0.7918243780041875\t 0.654043934674785\t 4.86736654358642\t 4.86736654358642\n",
            "21 \t [7.13284983 1.18470919 5.         0.63977211 3.         0.12223048]\t 0.8717594731267366\t 0.654043934674785\t 4.3262169453220505\t 4.301929055173018\n",
            "22 \t [ 5.73129906  9.2176475  11.          0.8835332   4.          0.9298239 ]\t 0.664392530003631\t 0.654043934674785\t 5.164972975578443\t 5.164972975578443\n",
            "23 \t [8.76774335 2.47727368 5.         0.77895852 8.         0.95970784]\t 0.7344723614600867\t 0.654043934674785\t 4.462896229839572\t 4.471217147278985\n",
            "24 \t [ 0.49801933  9.4005764  12.          0.91363804 18.          0.53716763]\t 0.6927907397975772\t 0.654043934674785\t 5.332381584546209\t 5.215932978317658\n",
            "25 \t [ 8.22593027  3.70832356  5.          0.80279417 18.          0.57200994]\t 0.768920640618771\t 0.654043934674785\t 4.803166530808419\t 4.799481177731437\n",
            "26 \t [ 8.30471915  3.26072064 14.          0.69508376  6.          0.94564556]\t 0.6666799570614775\t 0.654043934674785\t 4.879606857690863\t 4.8761931489000565\n",
            "27 \t [ 8.92720117  4.31465286 13.          0.70553933  1.          0.75946259]\t 0.6817048020092698\t 0.654043934674785\t 4.677470365730984\t 4.677470365730984\n",
            "28 \t [ 4.9644812   1.12270948  6.          0.71065886 17.          0.26866166]\t 0.816338550997086\t 0.654043934674785\t 5.193366609603908\t 5.193366609603908\n",
            "29 \t [ 5.98509126  0.06989145 14.          0.5561472  16.          0.1874862 ]\t 0.8641573587264293\t 0.654043934674785\t 5.208172435939712\t 5.220147357533505\n",
            "30 \t [5.55301534 4.43776121 9.         0.77874612 6.         0.99491253]\t 0.6713718258462102\t 0.654043934674785\t 5.040950887704175\t 5.040950887704175\n"
          ]
        },
        {
          "output_type": "execute_result",
          "data": {
            "text/plain": [
              "49022.23069865059"
            ]
          },
          "metadata": {},
          "execution_count": 45
        }
      ]
    },
    {
      "cell_type": "code",
      "metadata": {
        "id": "HpUPyXRfZ95Y",
        "colab": {
          "base_uri": "https://localhost:8080/"
        },
        "outputId": "86034252-6b87-4661-b175-b9857faecd08"
      },
      "source": [
        "### Bayesian optimization runs (x20): 'Exact STP ERM' Acquisition Function run number = 3 \n",
        "\n",
        "np.random.seed(run_num_3)\n",
        "surrogate_stp_3 = dtStudentProcess(cov_func, optimize=opt, nu = df)\n",
        "\n",
        "X_train3, X_test3, y_train3, y_test3 = train_test_split(X, y, test_size=test_perc, random_state=run_num_3)\n",
        "\n",
        "def f_syn_polarity3(alpha, gamma, max_depth, subsample, min_child_weight, colsample):\n",
        "    reg = XGBRegressor(reg_alpha=alpha, gamma=gamma, max_depth=int(max_depth), subsample=subsample, min_child_weight=min_child_weight,\n",
        "          colsample_bytree=colsample, n_estimators = n_est, random_state=run_num_3, objective = 'reg:squarederror')\n",
        "    score = np.array(cross_val_score(reg, X=X_train3, y=y_train3).mean())\n",
        "    return operator * score\n",
        "\n",
        "stp_3 = dGPGO_stp(surrogate_stp_3, Acquisition_grad(util_stp), f_syn_polarity3, param, n_jobs = -1) # Define BayesOpt\n",
        "stp_3.run(max_iter = max_iter, init_evals = n_init) # run\n",
        "\n",
        "### Return optimal parameters' set:\n",
        "params_stp_3 = stp_3.getResult()[0]\n",
        "params_stp_3['max_depth'] = int(params_stp_3['max_depth'])\n",
        "params_stp_3['min_child_weight'] = int(params_stp_3['min_child_weight'])\n",
        "\n",
        "### Re-train with optimal parameters, run predictons:\n",
        "dX_stp_train3 = xgb.DMatrix(X_train3, y_train3)\n",
        "dX_stp_test3 = xgb.DMatrix(X_test3, y_test3)\n",
        "model_stp_3 = xgb.train(params_stp_3, dX_stp_train3)\n",
        "pred_stp_3 = model_stp_3.predict(dX_stp_test3)\n",
        "\n",
        "rmse_stp_3 = np.sqrt(mean_squared_error(pred_stp_3, y_test3))\n",
        "rmse_stp_3"
      ],
      "execution_count": null,
      "outputs": [
        {
          "output_type": "stream",
          "name": "stdout",
          "text": [
            "Evaluation \t Proposed point \t  Current eval. \t  Best eval. \t        Exact ERM: StdDev. x \t Approx ERM: StdDev. x \n",
            "init\t [ 5.50797903  7.08147823 13.          0.56066429 11.          0.11687321]\t 1.0213644638508028\t 0.7688389438662246\t    \t    \n",
            "init\t [ 0.40630737  2.47888297 11.          0.72040492 13.          0.23083313]\t 1.022822678309975\t 0.7688389438662246\t    \t    \n",
            "init\t [ 4.53172301  2.15577008 11.          0.74631796  2.          0.60296868]\t 0.7688389438662246\t 0.7688389438662246\t    \t    \n",
            "init\t [ 2.59252447  4.15101197 13.          0.79330998  8.          0.24118096]\t 1.0239688135226253\t 0.7688389438662246\t    \t    \n",
            "init\t [ 5.44649018  7.80314765 10.          0.62879264 18.          0.44917413]\t 0.8703298117399682\t 0.7688389438662246\t    \t    \n",
            "1  \t [1.56262424 9.7795241  5.         0.91450054 5.         0.53102391]\t 0.8050626816251143\t 0.7688389438662246\t 4.73784505612141\t 4.697232799257213\n",
            "\u001b[1m\u001b[92m2\u001b[0m\t \u001b[1m\u001b[92m[ 2.46535469  7.06056184  5.          0.53518488 13.          0.98930148]\u001b[0m\t \u001b[1m\u001b[92m0.7347345488605661\u001b[0m\t \u001b[1m\u001b[92m0.7347345488605661\u001b[0m\t \u001b[1m\u001b[92m4.791403527364033\u001b[0m\t \u001b[1m\u001b[92m4.655097214390696\u001b[0m\n",
            "3  \t [ 7.38032831  9.94067232 11.          0.77461843  2.          0.2199184 ]\t 1.0239673069901083\t 0.7347345488605661\t 5.2860901918674115\t 5.284494264452405\n",
            "4  \t [ 6.69378835  1.1746468   5.          0.75549171 16.          0.73450657]\t 0.7722220514333056\t 0.7347345488605661\t 4.978834950957388\t 4.8822820093205905\n",
            "\u001b[1m\u001b[92m5\u001b[0m\t \u001b[1m\u001b[92m[8.5662852  7.62282167 7.         0.57679587 9.         0.92751362]\u001b[0m\t \u001b[1m\u001b[92m0.7056354714684\u001b[0m\t \u001b[1m\u001b[92m0.7056354714684\u001b[0m\t \u001b[1m\u001b[92m4.630362409059801\u001b[0m\t \u001b[1m\u001b[92m4.635864405618453\u001b[0m\n",
            "6  \t [5.7225441  2.61495097 6.         0.67527106 6.         0.33729846]\t 0.983509408209931\t 0.7056354714684\t 4.686266168900868\t 4.683265052502041\n",
            "7  \t [ 6.56033613  1.17774647 12.          0.5376295  15.          0.81305603]\t 0.7061518218591949\t 0.7056354714684\t 5.024423525182548\t 4.958995421403418\n",
            "8  \t [3.50549632 8.04483305 8.         0.95341936 1.         0.79512535]\t 0.7104180654574984\t 0.7056354714684\t 4.369046367784969\t 4.369046367784969\n",
            "\u001b[1m\u001b[92m9\u001b[0m\t \u001b[1m\u001b[92m[ 8.89682762  0.79017134 14.          0.58366818  8.          0.97456627]\u001b[0m\t \u001b[1m\u001b[92m0.6882258735708705\u001b[0m\t \u001b[1m\u001b[92m0.6882258735708705\u001b[0m\t \u001b[1m\u001b[92m4.908718790468692\u001b[0m\t \u001b[1m\u001b[92m4.799242654684574\u001b[0m\n",
            "10 \t [3.28340726 7.81144764 9.         0.96528359 7.         0.1686463 ]\t 1.0208805187492747\t 0.6882258735708705\t 5.116057900848616\t 5.116057900848616\n",
            "11 \t [ 3.53262431  2.07514765  7.          0.93520802 15.          0.4184813 ]\t 0.8751855836959452\t 0.6882258735708705\t 4.93509740191631\t 4.93509740191631\n",
            "12 \t [ 7.36281279  7.66763777  8.          0.59948159 13.          0.98370581]\t 0.6998375974069359\t 0.6882258735708705\t 4.990771910644117\t 5.001518451257053\n",
            "13 \t [ 3.26032277  7.80574265 14.          0.88329978  3.          0.24845127]\t 1.021317881731207\t 0.6882258735708705\t 5.100094705059061\t 4.9817255901107105\n",
            "14 \t [ 9.85636221  3.89791593  9.          0.61925349 14.          0.90156475]\t 0.692118262463878\t 0.6882258735708705\t 4.397417352579782\t 4.397766233522172\n",
            "15 \t [0.         0.         5.         0.5        4.56991129 0.1       ]\t 1.02783969823506\t 0.6882258735708705\t 5.048961846909269\t 4.9489680013180894\n",
            "\u001b[1m\u001b[92m16\u001b[0m\t \u001b[1m\u001b[92m[10. 10. 15.  1. 20.  1.]\u001b[0m\t \u001b[1m\u001b[92m0.6548396524742095\u001b[0m\t \u001b[1m\u001b[92m0.6548396524742095\u001b[0m\t \u001b[1m\u001b[92m5.28846217480228\u001b[0m\t \u001b[1m\u001b[92m5.192438698728038\u001b[0m\n",
            "17 \t [ 9.40129426  8.85637698 13.          0.72340176  7.          0.76030308]\t 0.7059876882234674\t 0.6548396524742095\t 4.607985546372371\t 4.560844379361963\n",
            "18 \t [9.83745664 3.68679807 9.         0.98607907 6.         0.93173856]\t 0.685538272783727\t 0.6548396524742095\t 5.014153575216809\t 5.032321361324735\n",
            "19 \t [ 0.59117942  7.04764364 14.          0.92579676 15.          0.40983297]\t 0.8649856112240915\t 0.6548396524742095\t 5.117854291008441\t 5.102949867389374\n",
            "20 \t [ 3.58262831  2.79375979  9.          0.709183   11.          0.30931145]\t 0.9766713924391162\t 0.6548396524742095\t 4.855959926118082\t 4.835781918738941\n",
            "21 \t [ 9.83060339  5.43479292  5.          0.93965116 19.          0.81693736]\t 0.7430400763458248\t 0.6548396524742095\t 4.588153468007114\t 4.581555369266049\n",
            "22 \t [ 2.77110475  0.35980325 10.          0.77088835  9.          0.78161047]\t 0.702308760297458\t 0.6548396524742095\t 5.192057028166481\t 5.192057028166481\n",
            "23 \t [ 9.71610686  2.88363039 10.          0.71373353  2.          0.42833271]\t 0.8752416347792465\t 0.6548396524742095\t 4.974038256868328\t 4.974038256868328\n",
            "24 \t [ 1.81637107  2.43482354 12.          0.52164424 18.          0.82567571]\t 0.7068734002824963\t 0.6548396524742095\t 4.925116537093193\t 4.928140109931115\n",
            "25 \t [ 3.76231631  7.22695293  6.          0.99331542 15.          0.98845508]\t 0.7185577429000575\t 0.6548396524742095\t 4.510739782077856\t 4.510739782077856\n",
            "26 \t [ 2.54357797  2.17286037  5.          0.86076647 19.          0.34653218]\t 0.9894490705371982\t 0.6548396524742095\t 4.852970642286379\t 4.741136777610459\n",
            "27 \t [ 8.21944232  0.76315735 14.          0.70782001  3.          0.58640207]\t 0.771954843353409\t 0.6548396524742095\t 4.790872646576768\t 4.7893351656246805\n",
            "28 \t [ 9.01763405  8.9342346  11.          0.78253186 14.          0.5899614 ]\t 0.7571328011102442\t 0.6548396524742095\t 4.592398773882128\t 4.592398773882128\n",
            "29 \t [ 8.92640491  5.86829423 11.          0.69146564 16.          0.20693725]\t 1.0229660667953924\t 0.6548396524742095\t 4.6578959990439825\t 4.6578959990439825\n",
            "30 \t [ 0.56213381  4.41770035 10.          0.6803733   4.          0.67199979]\t 0.7355552741037803\t 0.6548396524742095\t 4.66329781823001\t 4.608600205468626\n"
          ]
        },
        {
          "output_type": "execute_result",
          "data": {
            "text/plain": [
              "46877.10407555545"
            ]
          },
          "metadata": {},
          "execution_count": 46
        }
      ]
    },
    {
      "cell_type": "code",
      "source": [
        "### Bayesian optimization runs (x20): 'Exact STP ERM' Acquisition Function run number = 4 \n",
        "\n",
        "np.random.seed(run_num_4)\n",
        "surrogate_stp_4 = dtStudentProcess(cov_func, optimize=opt, nu = df)\n",
        "\n",
        "X_train4, X_test4, y_train4, y_test4 = train_test_split(X, y, test_size=test_perc, random_state=run_num_4)\n",
        "\n",
        "def f_syn_polarity4(alpha, gamma, max_depth, subsample, min_child_weight, colsample):\n",
        "    reg = XGBRegressor(reg_alpha=alpha, gamma=gamma, max_depth=int(max_depth), subsample=subsample, min_child_weight=min_child_weight,\n",
        "          colsample_bytree=colsample, n_estimators = n_est, random_state=run_num_4, objective = 'reg:squarederror')\n",
        "    score = np.array(cross_val_score(reg, X=X_train4, y=y_train4).mean())\n",
        "    return operator * score\n",
        "\n",
        "stp_4 = dGPGO_stp(surrogate_stp_4, Acquisition_grad(util_stp), f_syn_polarity4, param, n_jobs = -1) # Define BayesOpt\n",
        "stp_4.run(max_iter = max_iter, init_evals = n_init) # run\n",
        "\n",
        "### Return optimal parameters' set:\n",
        "params_stp_4 = stp_4.getResult()[0]\n",
        "params_stp_4['max_depth'] = int(params_stp_4['max_depth'])\n",
        "params_stp_4['min_child_weight'] = int(params_stp_4['min_child_weight'])\n",
        "\n",
        "### Re-train with optimal parameters, run predictons:\n",
        "dX_stp_train4 = xgb.DMatrix(X_train4, y_train4)\n",
        "dX_stp_test4 = xgb.DMatrix(X_test4, y_test4)\n",
        "model_stp_4 = xgb.train(params_stp_4, dX_stp_train4)\n",
        "pred_stp_4 = model_stp_4.predict(dX_stp_test4)\n",
        "\n",
        "rmse_stp_4 = np.sqrt(mean_squared_error(pred_stp_4, y_test4))\n",
        "rmse_stp_4"
      ],
      "metadata": {
        "colab": {
          "base_uri": "https://localhost:8080/"
        },
        "id": "bdDTsSEtNuf-",
        "outputId": "7df108c9-22d1-4e93-99f4-da951830034e"
      },
      "execution_count": null,
      "outputs": [
        {
          "output_type": "stream",
          "name": "stdout",
          "text": [
            "Evaluation \t Proposed point \t  Current eval. \t  Best eval. \t        Exact ERM: StdDev. x \t Approx ERM: StdDev. x \n",
            "init\t [9.67029839 5.47232249 6.         0.92781047 9.         0.72795594]\t 0.7356156069458683\t 0.6641721421409617\t    \t    \n",
            "init\t [ 2.16089496  9.76274455 12.          0.62649118  9.          0.66966679]\t 0.7070759857649549\t 0.6641721421409617\t    \t    \n",
            "init\t [ 0.05159149  5.72356491  9.          0.99170034 10.          0.10808749]\t 0.9423811784101735\t 0.6641721421409617\t    \t    \n",
            "init\t [ 3.86571283  0.44160058 10.          0.90553105 18.          0.95407958]\t 0.6641721421409617\t 0.6641721421409617\t    \t    \n",
            "init\t [ 7.86305986  8.66289299  6.          0.53285477 14.          0.25117497]\t 0.8244425146132294\t 0.6641721421409617\t    \t    \n",
            "1  \t [ 8.45443649  8.61014312 11.          0.83475494  1.          0.14018305]\t 0.9441431878307984\t 0.6641721421409617\t 4.838256791226375\t 4.851675358382425\n",
            "2  \t [ 8.38710697  4.03810262 13.          0.67620396  7.          0.21955781]\t 0.9436692731753087\t 0.6641721421409617\t 4.831710548362841\t 4.831710548362841\n",
            "3  \t [7.47521879 1.08446649 5.         0.82092246 1.         0.87686231]\t 0.7277791972054833\t 0.6641721421409617\t 4.926030712327993\t 4.91207510651567\n",
            "4  \t [ 1.21913591  5.39021078 12.          0.52306788  2.          0.57375676]\t 0.7297298564124828\t 0.6641721421409617\t 5.361278166467088\t 5.383267375636662\n",
            "\u001b[1m\u001b[92m5\u001b[0m\t \u001b[1m\u001b[92m[10.         10.         15.          1.         16.98989514  1.        ]\u001b[0m\t \u001b[1m\u001b[92m0.6433372706341197\u001b[0m\t \u001b[1m\u001b[92m0.6433372706341197\u001b[0m\t \u001b[1m\u001b[92m4.813722405055016\u001b[0m\t \u001b[1m\u001b[92m4.669237041634694\u001b[0m\n",
            "6  \t [ 9.52993971  0.33702013  5.          0.64331783 18.          0.12071935]\t 0.9390440646887555\t 0.6433372706341197\t 4.912339551093759\t 4.91051558484289\n",
            "7  \t [3.21596988 8.94366669 5.         0.67472534 1.         0.78039064]\t 0.7531044966742895\t 0.6433372706341197\t 4.653086747766142\t 4.65308684413438\n",
            "8  \t [ 0.32236964  2.41893129 14.          0.88540422 15.          0.72064562]\t 0.6990250321451492\t 0.6433372706341197\t 4.62781670605759\t 4.649652347638286\n",
            "9  \t [ 3.69209917  2.68210714  5.          0.5        12.44903937  0.1       ]\t 0.9401495944049177\t 0.6433372706341197\t 4.595196617569396\t 4.553303273435578\n",
            "10 \t [ 2.85681452  3.87276276 14.          0.7995451  19.          0.43455239]\t 0.7705863499687786\t 0.6433372706341197\t 5.150362519664597\t 5.15415723694854\n",
            "11 \t [ 1.21907942  7.91297486  9.          0.5539985  16.          0.24710819]\t 0.9403329304575425\t 0.6433372706341197\t 4.822101352850421\t 4.779960445286055\n",
            "12 \t [ 8.48843563  0.37785156 11.          0.83297408  1.          0.855572  ]\t 0.6923205913979871\t 0.6433372706341197\t 4.895696643504746\t 4.895696643504746\n",
            "13 \t [ 2.71889417  6.23637706 13.          0.68299595  7.          0.60398003]\t 0.7183753718380752\t 0.6433372706341197\t 5.091831901725657\t 5.091831901725657\n",
            "14 \t [8.19619365 4.83684524 9.         0.8298899  4.         0.33596065]\t 0.8217273448818323\t 0.6433372706341197\t 4.621898589118028\t 4.6343464635825535\n",
            "15 \t [0.         2.41631774 5.         0.5        1.         0.1       ]\t 0.9408999252070572\t 0.6433372706341197\t 4.563804633563411\t 4.579753187231003\n",
            "16 \t [ 3.46388124  0.89729092 11.          0.85678068  8.          0.44423579]\t 0.7732877075402497\t 0.6433372706341197\t 4.863540656881326\t 4.790475991043308\n",
            "17 \t [ 7.11901622  5.30460878 11.21763161  0.5        16.21763161  0.1       ]\t 0.9433886080079537\t 0.6433372706341197\t 5.030800363778509\t 5.077543433252877\n",
            "18 \t [6.18461978 1.56321293 5.         0.63345598 8.         0.11755092]\t 0.9382571320102834\t 0.6433372706341197\t 4.583284071344632\t 4.516305008419201\n",
            "19 \t [ 7.0857374   0.50559932 11.          0.75013908 13.          0.89656104]\t 0.6645935641687042\t 0.6433372706341197\t 4.888433130639434\t 4.849315845655848\n",
            "20 \t [ 1.78217576  9.78210974  5.          0.8003284  12.          0.83416548]\t 0.7532223657335955\t 0.6433372706341197\t 4.57028550984731\t 4.532622956585648\n",
            "21 \t [ 8.89454243 10.          7.48110967  1.         19.48110967  1.        ]\t 0.6746924462866547\t 0.6433372706341197\t 4.812461721367815\t 4.763297606418571\n",
            "22 \t [ 1.84655537  0.92635666  9.          0.60237883 14.          0.70534193]\t 0.7101596489776973\t 0.6433372706341197\t 4.904406073329712\t 4.8987124218708376\n",
            "23 \t [4.54498845 4.73987501 6.         0.7658368  6.         0.15012886]\t 0.9412996363676764\t 0.6433372706341197\t 4.759128801049681\t 4.759128801049681\n",
            "24 \t [5.87233788 6.93253231 8.         0.71079844 3.         0.57913783]\t 0.724172646323414\t 0.6433372706341197\t 4.40815258149829\t 4.40815258149829\n",
            "25 \t [4.21410488 1.53847897 8.         0.72947689 4.         0.95835056]\t 0.6751026509280861\t 0.6433372706341197\t 4.4448657719660964\t 4.4410757352264865\n",
            "26 \t [ 7.01360923  0.03074572 13.          0.56476682  9.          0.19217174]\t 0.9417712124079543\t 0.6433372706341197\t 4.6060791208430505\t 4.60327831339446\n",
            "27 \t [ 2.49277017  9.71877294 14.          0.64108163 15.          0.60597318]\t 0.7146840039689067\t 0.6433372706341197\t 5.511577161696271\t 5.427986337469365\n",
            "28 \t [ 5.66588054  7.91454523 11.          0.93003188 12.          0.45330688]\t 0.7712523815321525\t 0.6433372706341197\t 4.560417953832468\t 4.535581371534891\n",
            "29 \t [0.57836485 1.08971763 5.         0.5        6.32987311 0.1       ]\t 0.9404794612511042\t 0.6433372706341197\t 4.731268485298866\t 4.689802562799294\n",
            "30 \t [ 1.40912589  1.93204629 14.          0.88642674  6.          0.63288273]\t 0.7035285706615795\t 0.6433372706341197\t 4.883133135157063\t 4.885488864121687\n"
          ]
        },
        {
          "output_type": "execute_result",
          "data": {
            "text/plain": [
              "49863.83231446011"
            ]
          },
          "metadata": {},
          "execution_count": 47
        }
      ]
    },
    {
      "cell_type": "code",
      "metadata": {
        "id": "PJmI9saAaEG1",
        "colab": {
          "base_uri": "https://localhost:8080/"
        },
        "outputId": "e58d9bab-8b98-47f7-ef44-7719439d82b5"
      },
      "source": [
        "### Bayesian optimization runs (x20): 'Exact STP ERM' Acquisition Function run number = 5 \n",
        "\n",
        "np.random.seed(run_num_5)\n",
        "surrogate_stp_5 = dtStudentProcess(cov_func, optimize=opt, nu = df)\n",
        "\n",
        "X_train5, X_test5, y_train5, y_test5 = train_test_split(X, y, test_size=test_perc, random_state=run_num_5)\n",
        "\n",
        "def f_syn_polarity5(alpha, gamma, max_depth, subsample, min_child_weight, colsample):\n",
        "    reg = XGBRegressor(reg_alpha=alpha, gamma=gamma, max_depth=int(max_depth), subsample=subsample, min_child_weight=min_child_weight,\n",
        "          colsample_bytree=colsample, n_estimators = n_est, random_state=run_num_5, objective = 'reg:squarederror')\n",
        "    score = np.array(cross_val_score(reg, X=X_train5, y=y_train5).mean())\n",
        "    return operator * score\n",
        "\n",
        "stp_5 = dGPGO_stp(surrogate_stp_5, Acquisition_grad(util_stp), f_syn_polarity5, param, n_jobs = -1) # Define BayesOpt\n",
        "stp_5.run(max_iter = max_iter, init_evals = n_init) # run\n",
        "\n",
        "### Return optimal parameters' set:\n",
        "params_stp_5 = stp_5.getResult()[0]\n",
        "params_stp_5['max_depth'] = int(params_stp_5['max_depth'])\n",
        "params_stp_5['min_child_weight'] = int(params_stp_5['min_child_weight'])\n",
        "\n",
        "### Re-train with optimal parameters, run predictons:\n",
        "dX_stp_train5 = xgb.DMatrix(X_train5, y_train5)\n",
        "dX_stp_test5 = xgb.DMatrix(X_test5, y_test5)\n",
        "model_stp_5 = xgb.train(params_stp_5, dX_stp_train5)\n",
        "pred_stp_5 = model_stp_5.predict(dX_stp_test5)\n",
        "\n",
        "rmse_stp_5 = np.sqrt(mean_squared_error(pred_stp_5, y_test5))\n",
        "rmse_stp_5"
      ],
      "execution_count": null,
      "outputs": [
        {
          "output_type": "stream",
          "name": "stdout",
          "text": [
            "Evaluation \t Proposed point \t  Current eval. \t  Best eval. \t        Exact ERM: StdDev. x \t Approx ERM: StdDev. x \n",
            "init\t [ 2.21993171  8.70732306 11.          0.68186845 10.          0.53957007]\t 0.7403320965261992\t 0.7403320965261992\t    \t    \n",
            "init\t [ 6.11743863  7.65907856  5.          0.64840025 16.          0.82745351]\t 0.7493104333264211\t 0.7403320965261992\t    \t    \n",
            "init\t [ 6.49458883  8.19472793  6.          0.93996852 19.          0.36647194]\t 0.9342492295788805\t 0.7403320965261992\t    \t    \n",
            "init\t [ 6.28787909  5.7983781   6.          0.63290956 17.          0.18402673]\t 0.939514214921639\t 0.7403320965261992\t    \t    \n",
            "init\t [8.26554249 8.33492742 9.         0.97900675 3.         0.26957319]\t 0.921290745787579\t 0.7403320965261992\t    \t    \n",
            "1  \t [1.95474956 1.21548467 5.         0.65548996 6.         0.3261206 ]\t 0.9436861715841889\t 0.7403320965261992\t 4.817786303166851\t 4.7653955811744915\n",
            "2  \t [ 3.90043826  0.30059527 11.          0.95660877 13.          0.16396145]\t 0.9276450520884063\t 0.7403320965261992\t 4.9475906586636595\t 4.936656786997956\n",
            "\u001b[1m\u001b[92m3\u001b[0m\t \u001b[1m\u001b[92m[ 1.89102498  3.81201457 14.          0.79693323  4.          0.52365093]\u001b[0m\t \u001b[1m\u001b[92m0.7398148307506893\u001b[0m\t \u001b[1m\u001b[92m0.7398148307506893\u001b[0m\t \u001b[1m\u001b[92m4.453830264462873\u001b[0m\t \u001b[1m\u001b[92m4.511204150526533\u001b[0m\n",
            "4  \t [ 8.98063632  2.97885127  9.          0.64249728 18.          0.16342995]\t 0.9276698902289097\t 0.7398148307506893\t 4.901271648809893\t 4.901271648809893\n",
            "\u001b[1m\u001b[92m5\u001b[0m\t \u001b[1m\u001b[92m[ 7.2080363   0.14020863 14.          0.70262402  1.          0.81354205]\u001b[0m\t \u001b[1m\u001b[92m0.6989575443158274\u001b[0m\t \u001b[1m\u001b[92m0.6989575443158274\u001b[0m\t \u001b[1m\u001b[92m5.0848583188100775\u001b[0m\t \u001b[1m\u001b[92m4.819410175232172\u001b[0m\n",
            "6  \t [0.43749481 8.4213957  8.         0.8974006  1.         0.32861568]\t 0.92565009216999\t 0.6989575443158274\t 4.682167443883405\t 4.647825342972238\n",
            "7  \t [4.37003348 9.87890289 5.         0.65374913 7.         0.62009063]\t 0.8160533272968584\t 0.6989575443158274\t 4.795760918351866\t 4.723182702055701\n",
            "\u001b[1m\u001b[92m8\u001b[0m\t \u001b[1m\u001b[92m[ 2.68679241  7.25440098 14.          0.65390023 17.          0.99358304]\u001b[0m\t \u001b[1m\u001b[92m0.6747588495441635\u001b[0m\t \u001b[1m\u001b[92m0.6747588495441635\u001b[0m\t \u001b[1m\u001b[92m4.613084204608899\u001b[0m\t \u001b[1m\u001b[92m4.559190454760054\u001b[0m\n",
            "9  \t [ 9.58792626  8.48977785 13.          0.60628176  9.          0.18518956]\t 0.9277423136052668\t 0.6747588495441635\t 5.292302933466649\t 5.287058269021364\n",
            "10 \t [ 6.97752806  2.98678749 10.          0.57146948  7.          0.9882264 ]\t 0.6796390241442563\t 0.6747588495441635\t 4.781200643998804\t 4.737232640355775\n",
            "\u001b[1m\u001b[92m11\u001b[0m\t \u001b[1m\u001b[92m[10. 10. 15.  1. 20.  1.]\u001b[0m\t \u001b[1m\u001b[92m0.6458620128690523\u001b[0m\t \u001b[1m\u001b[92m0.6458620128690523\u001b[0m\t \u001b[1m\u001b[92m5.3058514571981705\u001b[0m\t \u001b[1m\u001b[92m4.938297365289226\u001b[0m\n",
            "12 \t [8.44893619 0.35900307 6.         0.94734172 4.         0.72898681]\t 0.7387384974169141\t 0.6458620128690523\t 4.99255521727606\t 4.966870561565718\n",
            "13 \t [ 0.44763689  4.50747029  9.11849709  0.5        17.11849709  0.1       ]\t 0.9296719516378518\t 0.6458620128690523\t 5.279047533480189\t 5.1455392197276275\n",
            "14 \t [ 9.58736014  2.45468429 12.          0.89338522 12.          0.76778503]\t 0.6833142835714986\t 0.6458620128690523\t 4.59253938783153\t 4.631022469756193\n",
            "15 \t [ 0.69381482  7.09764326  5.          0.79260103 13.          0.36148114]\t 0.9417860014577227\t 0.6458620128690523\t 4.460352037103261\t 4.4603437585586265\n",
            "16 \t [ 5.90866369  1.23912394  5.          0.73203526 13.          0.44895514]\t 0.8392510578678525\t 0.6458620128690523\t 4.995079300791857\t 4.943029674543892\n",
            "17 \t [ 9.34484937  3.49003142 14.          0.90417251  7.          0.92435507]\t 0.6682628994459927\t 0.6458620128690523\t 4.870747155864507\t 4.870747155864507\n",
            "18 \t [ 5.89128049  7.40217342 14.          0.90594716 12.          0.81399699]\t 0.6832896781938512\t 0.6458620128690523\t 5.208214674012616\t 5.192216641770837\n",
            "19 \t [1.07658799 0.12945598 8.         0.90000966 1.         0.17336755]\t 0.9286510383873756\t 0.6458620128690523\t 4.729157444992516\t 4.662643438403408\n",
            "20 \t [ 2.93448298  5.80717368  5.          0.89608154 19.          0.6387738 ]\t 0.7616619440927369\t 0.6458620128690523\t 4.695278882223025\t 4.695278972045394\n",
            "21 \t [ 3.87687792  9.24471285 10.          0.79467506 14.          0.58974564]\t 0.7413460349644984\t 0.6458620128690523\t 4.780589968253488\t 4.796578993489057\n",
            "22 \t [4.07754006 0.11652617 9.         0.95821235 4.         0.97462432]\t 0.6727052649233233\t 0.6458620128690523\t 4.803864901107972\t 4.803864790845159\n",
            "23 \t [ 0.14337166  3.83051228 13.          0.67084469 13.          0.27589041]\t 0.9247196191844409\t 0.6458620128690523\t 5.085825286949755\t 5.029775889122274\n",
            "24 \t [0.         4.02974491 7.88862693 0.5        9.88862693 0.1       ]\t 0.9328370307054457\t 0.6458620128690523\t 4.636814297252546\t 4.592983074651469\n",
            "25 \t [ 2.60956706  4.4745251   9.          0.69330349 17.          0.83988084]\t 0.6920167982810115\t 0.6458620128690523\t 4.658087418003335\t 4.658087418003335\n",
            "26 \t [ 4.17159166  1.29977694 14.          0.98338203 15.          0.31941672]\t 0.9223893560576031\t 0.6458620128690523\t 4.9234992204470736\t 4.924435124530754\n",
            "27 \t [ 6.7869298   7.33423056  8.          0.62356625 11.          0.28561393]\t 0.9246183343310115\t 0.6458620128690523\t 5.204431529115337\t 5.120334025721418\n",
            "28 \t [ 8.6598151   9.62485551  8.          0.71851231 16.          0.71522574]\t 0.7099197558902939\t 0.6458620128690523\t 4.841890499824233\t 4.841890499824233\n",
            "29 \t [ 9.89240609  4.6385061   5.          0.77405056 16.          0.99983452]\t 0.7312561878518347\t 0.6458620128690523\t 4.943420275141967\t 4.943420275141967\n",
            "30 \t [ 3.24299685  5.0767909  11.          0.96497977  1.          0.60484337]\t 0.7411866605831333\t 0.6458620128690523\t 4.6223054921190725\t 4.6139704955233745\n"
          ]
        },
        {
          "output_type": "execute_result",
          "data": {
            "text/plain": [
              "49933.520017673625"
            ]
          },
          "metadata": {},
          "execution_count": 48
        }
      ]
    },
    {
      "cell_type": "code",
      "source": [
        "### Bayesian optimization runs (x20): 'Exact STP ERM' Acquisition Function run number = 6 \n",
        "\n",
        "np.random.seed(run_num_6)\n",
        "surrogate_stp_6 = dtStudentProcess(cov_func, optimize=opt, nu = df)\n",
        "\n",
        "X_train6, X_test6, y_train6, y_test6 = train_test_split(X, y, test_size=test_perc, random_state=run_num_6)\n",
        "\n",
        "def f_syn_polarity6(alpha, gamma, max_depth, subsample, min_child_weight, colsample):\n",
        "    reg = XGBRegressor(reg_alpha=alpha, gamma=gamma, max_depth=int(max_depth), subsample=subsample, min_child_weight=int(min_child_weight),\n",
        "          colsample_bytree=colsample, n_estimators = n_est, random_state=run_num_6, objective = 'reg:squarederror', eval_metric = 'rmse')\n",
        "    score = np.array(cross_val_score(reg, X=X_train6, y=y_train6).mean())\n",
        "    return operator * score\n",
        "\n",
        "stp_6 = dGPGO_stp(surrogate_stp_6, Acquisition_grad(util_stp), f_syn_polarity6, param, n_jobs = -1) # Define BayesOpt\n",
        "stp_6.run(max_iter = max_iter, init_evals = n_init) # run\n",
        "\n",
        "### Return optimal parameters' set:\n",
        "params_stp_6 = stp_6.getResult()[0]\n",
        "params_stp_6['max_depth'] = int(params_stp_6['max_depth'])\n",
        "params_stp_6['min_child_weight'] = int(params_stp_6['min_child_weight'])\n",
        "\n",
        "### Re-train with optimal parameters, run predictons:\n",
        "dX_stp_train6 = xgb.DMatrix(X_train6, y_train6)\n",
        "dX_stp_test6 = xgb.DMatrix(X_test6, y_test6)\n",
        "model_stp_6 = xgb.train(params_stp_6, dX_stp_train6)\n",
        "pred_stp_6 = model_stp_6.predict(dX_stp_test6)\n",
        "\n",
        "rmse_stp_6 = np.sqrt(mean_squared_error(pred_stp_6, y_test6))\n",
        "rmse_stp_6"
      ],
      "metadata": {
        "colab": {
          "base_uri": "https://localhost:8080/"
        },
        "id": "-i707LrINxei",
        "outputId": "77f655cf-8740-4b95-e9cf-4188fdbeb8fa"
      },
      "execution_count": null,
      "outputs": [
        {
          "output_type": "stream",
          "name": "stdout",
          "text": [
            "Evaluation \t Proposed point \t  Current eval. \t  Best eval. \t        Exact ERM: StdDev. x \t Approx ERM: StdDev. x \n",
            "init\t [8.92860151 3.31979805 5.         0.99251441 2.         0.57683563]\t 0.8597082353696148\t 0.7312157182363477\t    \t    \n",
            "init\t [4.18807429 3.35407849 9.         0.87750649 3.         0.56623277]\t 0.8283267033366734\t 0.7312157182363477\t    \t    \n",
            "init\t [ 5.788586    6.45355096 14.          0.70660047 12.          0.82154882]\t 0.7312157182363477\t 0.7312157182363477\t    \t    \n",
            "init\t [4.58184578 6.73834679 5.         0.90108528 3.         0.65482895]\t 0.835804847353631\t 0.7312157182363477\t    \t    \n",
            "init\t [ 4.42510505  5.75952352 14.          0.97882365 15.          0.29525604]\t 1.0201879064028692\t 0.7312157182363477\t    \t    \n",
            "1  \t [ 2.83859384  1.8954219   7.          0.66740302 13.          0.2701964 ]\t 1.019213535386702\t 0.7312157182363477\t 4.461394473773332\t 4.4708945632770725\n",
            "2  \t [ 8.38264396  7.97650716 14.          0.82584689  4.          0.25017455]\t 1.0290226001513474\t 0.7312157182363477\t 4.830302665977546\t 4.7624340708660355\n",
            "3  \t [8.90357673 8.23982464 5.         0.66456142 9.         0.34395649]\t 1.0228902128409325\t 0.7312157182363477\t 5.130908164326833\t 5.118874442276546\n",
            "4  \t [ 8.97809086  0.52071511 12.          0.96314156 10.          0.21133381]\t 1.0595990180003476\t 0.7312157182363477\t 4.8967369372863745\t 4.784049244077883\n",
            "\u001b[1m\u001b[92m5\u001b[0m\t \u001b[1m\u001b[92m[ 0.84801146  1.44124026 14.          0.54887437  7.          0.93547384]\u001b[0m\t \u001b[1m\u001b[92m0.6939533330723558\u001b[0m\t \u001b[1m\u001b[92m0.6939533330723558\u001b[0m\t \u001b[1m\u001b[92m4.92010327120273\u001b[0m\t \u001b[1m\u001b[92m4.911326279959149\u001b[0m\n",
            "\u001b[1m\u001b[92m6\u001b[0m\t \u001b[1m\u001b[92m[10. 10. 15.  1. 20.  1.]\u001b[0m\t \u001b[1m\u001b[92m0.6519505196682808\u001b[0m\t \u001b[1m\u001b[92m0.6519505196682808\u001b[0m\t \u001b[1m\u001b[92m4.9742059833171\u001b[0m\t \u001b[1m\u001b[92m4.571023283032166\u001b[0m\n",
            "7  \t [ 0.5654966   9.52584762 14.          0.82016688  4.          0.10717254]\t 1.0610911324495744\t 0.6519505196682808\t 4.9115389328112276\t 4.921154978580899\n",
            "8  \t [ 7.95338906  4.97443695  6.          0.96129183 19.          0.6207097 ]\t 0.8468653810155391\t 0.6519505196682808\t 4.758947435135105\t 4.73872862214753\n",
            "9  \t [ 1.43292764  9.31823681  5.          0.51738676 10.          0.30600768]\t 1.0250396556181756\t 0.6519505196682808\t 4.64952702928057\t 4.62451542927806\n",
            "10 \t [ 0.09135886  8.11961466 10.          0.74013552 12.          0.97362941]\t 0.6832941408312798\t 0.6519505196682808\t 4.760245861349834\t 4.753421006509701\n",
            "11 \t [ 6.40351874  0.13565515 11.          0.58564403 18.          0.80232868]\t 0.7351278242287741\t 0.6519505196682808\t 4.487239118542371\t 4.471111725616728\n",
            "12 \t [ 1.03080361  6.70895845  7.          0.73336025 19.          0.31104879]\t 1.016921838187168\t 0.6519505196682808\t 4.917102567543882\t 4.899223235620908\n",
            "13 \t [0.  0.  5.  0.5 1.  0.1]\t 1.0641944470930125\t 0.6519505196682808\t 4.702036887424045\t 4.544054975864007\n",
            "14 \t [9.89801174 9.77563967 9.         0.68555662 3.         0.83921118]\t 0.73813303625317\t 0.6519505196682808\t 5.110969180164745\t 5.057596132043402\n",
            "15 \t [ 0.50127522  1.94924928 11.          0.89270197 19.          0.91286914]\t 0.6768798166626013\t 0.6519505196682808\t 5.1660797997303645\t 5.155507951634788\n",
            "16 \t [ 8.27965778  0.50999055  5.          0.77678861 11.          0.85564655]\t 0.7905013033543324\t 0.6519505196682808\t 4.360733619234732\t 4.314931544446955\n",
            "17 \t [5.45577791 0.01600384 5.         0.68033296 5.         0.47973584]\t 0.9614697348345509\t 0.6519505196682808\t 4.718873341467454\t 4.718873341467454\n",
            "18 \t [ 4.48555971  3.69204095  9.          0.58646272 16.          0.41216867]\t 0.9310926555739572\t 0.6519505196682808\t 4.6091086379419055\t 4.609108416302373\n",
            "19 \t [ 5.98453698  2.00451687 13.          0.80337068 13.          0.24875337]\t 1.0599380721478096\t 0.6519505196682808\t 4.951028142966822\t 4.951028142966822\n",
            "20 \t [ 7.65515729  8.3524801  13.          0.94320546  2.          0.37856462]\t 0.9398497506465855\t 0.6519505196682808\t 4.890870368872766\t 4.890870368872766\n",
            "21 \t [ 9.93156192  7.7870595  10.          0.99771234 15.          0.55373941]\t 0.8201615943694559\t 0.6519505196682808\t 4.9337871321190985\t 4.910373166120366\n",
            "22 \t [ 9.56780844  0.64608047 12.          0.83676299  2.          0.96098008]\t 0.6833221374902283\t 0.6519505196682808\t 4.685305503594797\t 4.656554687630528\n",
            "23 \t [ 7.36797889  8.11394282  7.          0.58550636 12.          0.48664462]\t 0.9387634302639226\t 0.6519505196682808\t 4.703188131201835\t 4.703884864354398\n",
            "24 \t [ 9.55684885  4.02134483 11.          0.82079508  6.          0.83404351]\t 0.7299947122757273\t 0.6519505196682808\t 4.380314951377291\t 4.39018442407729\n",
            "25 \t [ 3.81847995  9.43141013 12.          0.56182914 19.          0.95661081]\t 0.6893334668436607\t 0.6519505196682808\t 4.870127097573054\t 4.811445550381919\n",
            "26 \t [ 1.76346732  7.41255372 13.          0.55954485  5.          0.82537699]\t 0.7458275930604825\t 0.6519505196682808\t 4.643424036896246\t 4.643424036896246\n",
            "27 \t [4.35202159 5.24316404 7.         0.80344711 8.         0.19668159]\t 1.0598689889242516\t 0.6519505196682808\t 4.74266916319543\t 4.718825281242646\n",
            "28 \t [2.67216807 9.69926207 9.         0.64694239 5.         0.78751691]\t 0.7418123175221034\t 0.6519505196682808\t 4.507615756374644\t 4.477548561914831\n",
            "29 \t [ 1.77214312  9.25420942  5.          0.67440912 15.          0.38002389]\t 0.9607222392225847\t 0.6519505196682808\t 4.9037692079494075\t 4.836018035552275\n",
            "30 \t [ 4.46432054  1.37976416 14.          0.91350827  1.          0.70455501]\t 0.786373065109467\t 0.6519505196682808\t 4.577041062535945\t 4.5551016894227825\n"
          ]
        },
        {
          "output_type": "execute_result",
          "data": {
            "text/plain": [
              "46832.22443034189"
            ]
          },
          "metadata": {},
          "execution_count": 49
        }
      ]
    },
    {
      "cell_type": "code",
      "source": [
        "### Bayesian optimization runs (x20): 'Exact STP ERM' Acquisition Function run number = 7 \n",
        "\n",
        "np.random.seed(run_num_7)\n",
        "surrogate_stp_7 = dtStudentProcess(cov_func, optimize=opt, nu = df)\n",
        "\n",
        "X_train7, X_test7, y_train7, y_test7 = train_test_split(X, y, test_size=test_perc, random_state=run_num_7)\n",
        "\n",
        "def f_syn_polarity7(alpha, gamma, max_depth, subsample, min_child_weight, colsample):\n",
        "    reg = XGBRegressor(reg_alpha=alpha, gamma=gamma, max_depth=int(max_depth), subsample=subsample, min_child_weight=min_child_weight,\n",
        "          colsample_bytree=colsample, n_estimators = n_est, random_state=run_num_7, objective = 'reg:squarederror')\n",
        "    score = np.array(cross_val_score(reg, X=X_train7, y=y_train7).mean())\n",
        "    return operator * score\n",
        "\n",
        "stp_7 = dGPGO_stp(surrogate_stp_7, Acquisition_grad(util_stp), f_syn_polarity7, param, n_jobs = -1) # Define BayesOpt\n",
        "stp_7.run(max_iter = max_iter, init_evals = n_init) # run\n",
        "\n",
        "### Return optimal parameters' set:\n",
        "params_stp_7 = stp_7.getResult()[0]\n",
        "params_stp_7['max_depth'] = int(params_stp_7['max_depth'])\n",
        "params_stp_7['min_child_weight'] = int(params_stp_7['min_child_weight'])\n",
        "\n",
        "### Re-train with optimal parameters, run predictons:\n",
        "dX_stp_train7 = xgb.DMatrix(X_train7, y_train7)\n",
        "dX_stp_test7 = xgb.DMatrix(X_test7, y_test7)\n",
        "model_stp_7 = xgb.train(params_stp_7, dX_stp_train7)\n",
        "pred_stp_7 = model_stp_7.predict(dX_stp_test7)\n",
        "\n",
        "rmse_stp_7 = np.sqrt(mean_squared_error(pred_stp_7, y_test7))\n",
        "rmse_stp_7"
      ],
      "metadata": {
        "colab": {
          "base_uri": "https://localhost:8080/"
        },
        "id": "zh0IJf8zNy9E",
        "outputId": "e8dc4fe5-e9c1-4098-f066-b9a8b0b07695"
      },
      "execution_count": null,
      "outputs": [
        {
          "output_type": "stream",
          "name": "stdout",
          "text": [
            "Evaluation \t Proposed point \t  Current eval. \t  Best eval. \t        Exact ERM: StdDev. x \t Approx ERM: StdDev. x \n",
            "init\t [0.76308289 7.79918792 8.         0.98911145 8.         0.98019056]\t 0.6599162825175136\t 0.6529031062312245\t    \t    \n",
            "init\t [ 5.3849587   5.01120464 13.          0.74994125  5.          0.88192131]\t 0.6529031062312245\t 0.6529031062312245\t    \t    \n",
            "init\t [ 3.30839249  3.9294231  12.          0.6440728  13.          0.41137564]\t 0.7849988476524127\t 0.6529031062312245\t    \t    \n",
            "init\t [9.29528191 2.6258377  5.         0.80027446 1.         0.86616513]\t 0.7434573966703171\t 0.6529031062312245\t    \t    \n",
            "init\t [ 1.74052764  7.90763512 14.          0.7244129   4.          0.77536887]\t 0.6887936732176462\t 0.6529031062312245\t    \t    \n",
            "1  \t [ 9.55468323  6.82913854  8.          0.82455943 12.          0.31160837]\t 0.8416584500129389\t 0.6529031062312245\t 4.931785604885422\t 4.932261254812715\n",
            "2  \t [4.37424807 0.         5.         0.5        7.59762639 0.1       ]\t 1.0010074936588798\t 0.6529031062312245\t 4.596988809497658\t 4.618079640484881\n",
            "3  \t [ 9.16018191  2.71212808 10.          0.9776402  19.          0.41742389]\t 0.7822778484971837\t 0.6529031062312245\t 4.92780789084571\t 4.883971512637623\n",
            "4  \t [ 1.32843216  2.19353037  6.          0.94261641 13.          0.5630397 ]\t 0.7345852348176267\t 0.6529031062312245\t 4.9279737926364975\t 4.929199324121178\n",
            "5  \t [ 6.19812193  5.75755827  5.          0.80922676 17.          0.36934488]\t 0.8870271108470653\t 0.6529031062312245\t 4.667591859914172\t 4.689103026901463\n",
            "6  \t [ 2.27614069  9.14855814 13.          0.84138599 18.          0.79014716]\t 0.6787899501779286\t 0.6529031062312245\t 4.707744232800609\t 4.707945220986242\n",
            "7  \t [ 0.63761793  0.73483023 14.          0.60715475  1.          0.28353184]\t 0.8531322761504475\t 0.6529031062312245\t 5.124186331249925\t 4.959513456719578\n",
            "8  \t [2.59969694 6.06128167 7.         0.94107568 1.         0.29258808]\t 0.8525714213670698\t 0.6529031062312245\t 4.866824487153302\t 4.872270220513031\n",
            "9  \t [0.19352615 0.96857518 7.         0.99703217 1.         0.36778699]\t 0.8539978950304207\t 0.6529031062312245\t 5.182114921884028\t 5.177749112310994\n",
            "10 \t [ 3.23063104  1.13251329 14.          0.56093148  7.          0.35241226]\t 0.8450769378247118\t 0.6529031062312245\t 4.664199512268086\t 4.664199512268086\n",
            "\u001b[1m\u001b[92m11\u001b[0m\t \u001b[1m\u001b[92m[ 8.5803984 10.        15.         1.        20.         1.       ]\u001b[0m\t \u001b[1m\u001b[92m0.64157441567256\u001b[0m\t \u001b[1m\u001b[92m0.64157441567256\u001b[0m\t \u001b[1m\u001b[92m4.778135804798102\u001b[0m\t \u001b[1m\u001b[92m4.73040725464133\u001b[0m\n",
            "12 \t [ 8.73271627  9.30388015 13.          0.94065667  9.          0.80274839]\t 0.6799490868442287\t 0.64157441567256\t 4.992975716449372\t 4.892013209350724\n",
            "13 \t [ 1.09439533  3.2006585   9.          0.50381113 19.          0.472626  ]\t 0.7984289026782336\t 0.64157441567256\t 4.970771177802678\t 4.904759309734506\n",
            "14 \t [ 5.05369665  2.67147005  5.          0.51290284 10.          0.64085   ]\t 0.7504591409344632\t 0.64157441567256\t 4.858513105000703\t 4.858513105000703\n",
            "15 \t [ 5.68512904  1.06118229  8.          0.98280719 13.          0.69447233]\t 0.6947668291504472\t 0.64157441567256\t 4.642576601540839\t 4.642170555415127\n",
            "16 \t [7.89296158 8.07854158 9.         0.82581845 4.         0.89844069]\t 0.6591722803339997\t 0.64157441567256\t 4.630131238810515\t 4.631267900735509\n",
            "17 \t [9.91439686 1.1223406  9.         0.69987447 9.         0.50079002]\t 0.7024687257866902\t 0.64157441567256\t 4.573877255066789\t 4.570295213026113\n",
            "18 \t [ 7.87862448  0.37268652 11.          0.83129981  1.          0.83621209]\t 0.6910349298616485\t 0.64157441567256\t 5.064197316889351\t 5.09086716753967\n",
            "19 \t [ 7.50373907  5.41854764 11.          0.90174644  5.          0.21227631]\t 0.9937922112122403\t 0.64157441567256\t 4.907500318419061\t 4.907500318419061\n",
            "20 \t [ 5.0541702   1.72413952  9.          0.76132059 15.          0.37444251]\t 0.8385022169449027\t 0.64157441567256\t 4.51869576782571\t 4.51869576782571\n",
            "21 \t [ 3.09348613  3.96247234  8.          0.81774087 13.          0.58941598]\t 0.7015179019308584\t 0.64157441567256\t 4.824675981197851\t 4.824675981197851\n",
            "22 \t [ 8.54638969  0.26613927 13.          0.51657274 13.          0.48506928]\t 0.791548114972684\t 0.64157441567256\t 4.570397807805139\t 4.562833399384941\n",
            "23 \t [ 4.56796849  7.2276288  12.          0.69041532 11.          0.25650596]\t 0.8346586316188039\t 0.64157441567256\t 4.814076462332264\t 4.814076462332264\n",
            "24 \t [ 8.17909255  8.95640578 13.          0.94174624  1.          0.89014148]\t 0.6509486270988182\t 0.64157441567256\t 5.2869109245230375\t 5.280905796827469\n",
            "25 \t [2.62154521 9.82821247 5.         0.94306877 2.         0.54997602]\t 0.7621762752757402\t 0.64157441567256\t 4.9151297940328105\t 4.9151297940328105\n",
            "26 \t [ 2.06002331  9.88106062 13.          0.81874566 19.          0.24780841]\t 0.9921424184439918\t 0.64157441567256\t 4.869217368686481\t 4.869217368686481\n",
            "27 \t [ 0.          0.          9.37424568  0.5        10.37424568  0.1       ]\t 0.9947053939566501\t 0.64157441567256\t 4.931558617867525\t 4.789174489627552\n",
            "28 \t [ 2.61920828  0.74890646 14.          0.70116142 18.          0.54069228]\t 0.6934175200009414\t 0.64157441567256\t 4.617655005222988\t 4.621369991386625\n",
            "29 \t [5.13805575 8.46039335 5.         0.82814397 6.         0.39527277]\t 0.833602430515404\t 0.64157441567256\t 4.9353119196685205\t 4.934938871550644\n",
            "30 \t [ 0.17868882  0.02563999  6.          0.70125149 17.          0.2280711 ]\t 0.9950218956004317\t 0.64157441567256\t 4.709790661773464\t 4.718329065199212\n"
          ]
        },
        {
          "output_type": "execute_result",
          "data": {
            "text/plain": [
              "49437.905311907154"
            ]
          },
          "metadata": {},
          "execution_count": 50
        }
      ]
    },
    {
      "cell_type": "code",
      "metadata": {
        "id": "xk0IPTSTbIl3",
        "colab": {
          "base_uri": "https://localhost:8080/"
        },
        "outputId": "f744a7f8-ce58-4d3d-c3ba-23abe321272f"
      },
      "source": [
        "### Bayesian optimization runs (x20): 'Exact STP ERM' Acquisition Function run number = 8 \n",
        "\n",
        "np.random.seed(run_num_8)\n",
        "surrogate_stp_8 = dtStudentProcess(cov_func, optimize=opt, nu = df)\n",
        "\n",
        "X_train8, X_test8, y_train8, y_test8 = train_test_split(X, y, test_size=test_perc, random_state=run_num_8)\n",
        "\n",
        "def f_syn_polarity8(alpha, gamma, max_depth, subsample, min_child_weight, colsample):\n",
        "    reg = XGBRegressor(reg_alpha=alpha, gamma=gamma, max_depth=int(max_depth), subsample=subsample, min_child_weight=min_child_weight,\n",
        "          colsample_bytree=colsample, n_estimators = n_est, random_state=run_num_8, objective = 'reg:squarederror')\n",
        "    score = np.array(cross_val_score(reg, X=X_train8, y=y_train8).mean())\n",
        "    return operator * score\n",
        "\n",
        "stp_8 = dGPGO_stp(surrogate_stp_8, Acquisition_grad(util_stp), f_syn_polarity8, param, n_jobs = -1) # Define BayesOpt\n",
        "stp_8.run(max_iter = max_iter, init_evals = n_init) # run\n",
        "\n",
        "### Return optimal parameters' set:\n",
        "params_stp_8 = stp_8.getResult()[0]\n",
        "params_stp_8['max_depth'] = int(params_stp_8['max_depth'])\n",
        "params_stp_8['min_child_weight'] = int(params_stp_8['min_child_weight'])\n",
        "\n",
        "### Re-train with optimal parameters, run predictons:\n",
        "dX_stp_train8 = xgb.DMatrix(X_train8, y_train8)\n",
        "dX_stp_test8 = xgb.DMatrix(X_test8, y_test8)\n",
        "model_stp_8 = xgb.train(params_stp_8, dX_stp_train8)\n",
        "pred_stp_8 = model_stp_8.predict(dX_stp_test8)\n",
        "\n",
        "rmse_stp_8 = np.sqrt(mean_squared_error(pred_stp_8, y_test8))\n",
        "rmse_stp_8"
      ],
      "execution_count": null,
      "outputs": [
        {
          "output_type": "stream",
          "name": "stdout",
          "text": [
            "Evaluation \t Proposed point \t  Current eval. \t  Best eval. \t        Exact ERM: StdDev. x \t Approx ERM: StdDev. x \n",
            "init\t [ 8.73429403  9.68540663 10.          0.68875849  9.          0.48011572]\t 0.8097437093843076\t 0.6653168057229354\t    \t    \n",
            "init\t [ 6.12033333  7.66062926  8.          0.76133734 13.          0.93379456]\t 0.676783388491471\t 0.6653168057229354\t    \t    \n",
            "init\t [ 1.46524679  7.01527914  7.          0.90913299 10.          0.36016753]\t 0.8290150461838799\t 0.6653168057229354\t    \t    \n",
            "init\t [ 9.73855241  3.33774046 14.          0.53290419  7.          0.7088681 ]\t 0.704280612172438\t 0.6653168057229354\t    \t    \n",
            "init\t [ 3.00618018  1.82702795 11.          0.75681389 14.          0.98627449]\t 0.6653168057229354\t 0.6653168057229354\t    \t    \n",
            "1  \t [4.42022545 5.48487111 9.         0.97165909 3.         0.63617522]\t 0.6939807861210728\t 0.6653168057229354\t 4.976662769569143\t 4.992877353529075\n",
            "2  \t [ 4.42530022  8.86662399 12.          0.55390756 19.          0.26906902]\t 0.8292448989696929\t 0.6653168057229354\t 4.50268573884837\t 4.481454849574137\n",
            "3  \t [ 9.08237751  2.49680746  6.          0.65941352 17.          0.68321352]\t 0.7238654894117781\t 0.6653168057229354\t 4.959133953210231\t 4.957842132670711\n",
            "4  \t [9.24101391 3.71625162 7.         0.92041359 7.         0.33094108]\t 0.8298868503374536\t 0.6653168057229354\t 5.23058031962141\t 5.220593398446247\n",
            "5  \t [ 2.71549468  6.59835463  5.          0.95307649 18.          0.8022723 ]\t 0.7298305735353544\t 0.6653168057229354\t 4.612306618086276\t 4.528702778119788\n",
            "6  \t [ 8.42695368  3.16936553 13.          0.82366295 16.          0.76402556]\t 0.6713374162855336\t 0.6653168057229354\t 4.681160772312909\t 4.763429491724591\n",
            "7  \t [ 8.83774177  5.41674027 14.          0.73954397  1.          0.31035075]\t 0.8412489648220683\t 0.6653168057229354\t 4.975087765643483\t 4.975087765643483\n",
            "8  \t [ 0.45904618  0.31422469 12.          0.85221495  5.          0.31125587]\t 0.8281572228887775\t 0.6653168057229354\t 4.877685457739715\t 4.884185020374553\n",
            "\u001b[1m\u001b[92m9\u001b[0m\t \u001b[1m\u001b[92m[10. 10. 15.  1. 20.  1.]\u001b[0m\t \u001b[1m\u001b[92m0.6454226853941064\u001b[0m\t \u001b[1m\u001b[92m0.6454226853941064\u001b[0m\t \u001b[1m\u001b[92m4.811252696316555\u001b[0m\t \u001b[1m\u001b[92m4.665673589840877\u001b[0m\n",
            "10 \t [ 6.33546486  6.1965483  14.          0.77082014  7.          0.18999946]\t 0.9299324411052285\t 0.6454226853941064\t 5.342171295436109\t 5.342171295436109\n",
            "11 \t [9.23421894 1.96715525 6.         0.84213684 1.         0.28111445]\t 0.8403741678101049\t 0.6454226853941064\t 5.4060985741522\t 5.296830018219789\n",
            "12 \t [ 0.20192989  7.58476143 13.          0.98270421 14.          0.40270035]\t 0.8039385291078224\t 0.6454226853941064\t 4.9159788736853285\t 4.90286094933134\n",
            "13 \t [ 0.22888225  1.52219033  6.          0.51713456 14.          0.15753373]\t 0.9337269032683195\t 0.6454226853941064\t 4.749736495230148\t 4.745311256220118\n",
            "14 \t [ 5.98690224  8.81178262 10.          0.88479084 18.          0.87962399]\t 0.6615155897240605\t 0.6454226853941064\t 4.902355582980509\t 4.902355582980509\n",
            "15 \t [3.63587924 9.92644255 5.         0.74785877 1.         0.42737692]\t 0.8438702768074448\t 0.6454226853941064\t 4.675535403867263\t 4.66979780522754\n",
            "16 \t [3.43569941 0.11776396 7.         0.67769873 2.         0.85092179]\t 0.6970572728060835\t 0.6454226853941064\t 5.020453378151753\t 5.045701527740744\n",
            "17 \t [2.76407972 8.95502778 9.         0.67297573 5.         0.56560976]\t 0.7213199372798768\t 0.6454226853941064\t 4.5075919709309495\t 4.5075919709309495\n",
            "18 \t [ 1.35322101  2.96172691 10.          0.82171324  9.          0.2070415 ]\t 0.9301596203801468\t 0.6454226853941064\t 4.832818276662793\t 4.832818276662793\n",
            "19 \t [ 1.24817982  5.75156112 12.          0.56532786 19.          0.40494625]\t 0.8104031101648417\t 0.6454226853941064\t 4.497778270327188\t 4.498999714269652\n",
            "20 \t [ 1.37842187  7.92618907 14.          0.53493538  2.          0.9994541 ]\t 0.6778496323948628\t 0.6454226853941064\t 4.698101774797109\t 4.717210661798827\n",
            "21 \t [ 4.96181193  2.91089923  6.          0.69167509 15.          0.83383245]\t 0.713587872750312\t 0.6454226853941064\t 4.676294784533085\t 4.676294784533085\n",
            "22 \t [ 3.36538587  9.88859923 13.          0.74640712 14.          0.34166583]\t 0.8265101138776348\t 0.6454226853941064\t 4.653045666036307\t 4.653045666036307\n",
            "23 \t [9.0548994  9.22699073 6.         0.81952407 4.         0.89275019]\t 0.7048213880431081\t 0.6454226853941064\t 4.96878075810847\t 4.815400706993444\n",
            "24 \t [ 9.32779145  5.8517174  11.          0.74437014 12.          0.90919993]\t 0.6652912380850803\t 0.6454226853941064\t 4.425177369780023\t 4.403769009617508\n",
            "25 \t [0.16001103 3.6224827  6.         0.58145757 6.         0.34057575]\t 0.8407613659642559\t 0.6454226853941064\t 4.580905705401443\t 4.610576126933163\n",
            "26 \t [ 3.21551212  3.04157433  6.          0.9055065  17.          0.2304952 ]\t 0.9338663333604857\t 0.6454226853941064\t 4.6765235333005135\t 4.6765235333005135\n",
            "27 \t [ 7.15040543  9.72926644 14.          0.63776297 15.          0.43073814]\t 0.8100270760776773\t 0.6454226853941064\t 4.890893623495531\t 4.890893623495531\n",
            "28 \t [ 5.29841112  4.74245374 11.          0.68146799 19.          0.79014882]\t 0.675192856271044\t 0.6454226853941064\t 4.893836153388102\t 4.893836153388102\n",
            "29 \t [ 9.6464663   0.98885701  8.          0.8054878  19.          0.70201828]\t 0.699572467500549\t 0.6454226853941064\t 5.05036790058675\t 5.05036790058675\n",
            "30 \t [ 6.13227177  4.9471251  12.          0.70151646  5.          0.22031339]\t 0.930914842449664\t 0.6454226853941064\t 4.95701667701793\t 4.95701667701793\n"
          ]
        },
        {
          "output_type": "execute_result",
          "data": {
            "text/plain": [
              "51081.55924427656"
            ]
          },
          "metadata": {},
          "execution_count": 51
        }
      ]
    },
    {
      "cell_type": "code",
      "metadata": {
        "id": "9UroEj_RbLSb",
        "colab": {
          "base_uri": "https://localhost:8080/"
        },
        "outputId": "250e1b04-0124-47b1-cd15-eb153caeaa8f"
      },
      "source": [
        "### Bayesian optimization runs (x20): 'Exact STP ERM' Acquisition Function run number = 9 \n",
        "\n",
        "np.random.seed(run_num_9)\n",
        "surrogate_stp_9 = dtStudentProcess(cov_func, optimize=opt, nu = df)\n",
        "\n",
        "X_train9, X_test9, y_train9, y_test9 = train_test_split(X, y, test_size=test_perc, random_state=run_num_9)\n",
        "\n",
        "def f_syn_polarity9(alpha, gamma, max_depth, subsample, min_child_weight, colsample):\n",
        "    reg = XGBRegressor(reg_alpha=alpha, gamma=gamma, max_depth=int(max_depth), subsample=subsample, min_child_weight=min_child_weight,\n",
        "          colsample_bytree=colsample, n_estimators = n_est, random_state=run_num_9, objective = 'reg:squarederror')\n",
        "    score = np.array(cross_val_score(reg, X=X_train9, y=y_train9).mean())\n",
        "    return operator * score\n",
        "\n",
        "stp_9 = dGPGO_stp(surrogate_stp_9, Acquisition_grad(util_stp), f_syn_polarity9, param, n_jobs = -1) # Define BayesOpt\n",
        "stp_9.run(max_iter = max_iter, init_evals = n_init) # run\n",
        "\n",
        "### Return optimal parameters' set:\n",
        "params_stp_9 = stp_9.getResult()[0]\n",
        "params_stp_9['max_depth'] = int(params_stp_9['max_depth'])\n",
        "params_stp_9['min_child_weight'] = int(params_stp_9['min_child_weight'])\n",
        "\n",
        "### Re-train with optimal parameters, run predictons:\n",
        "dX_stp_train9 = xgb.DMatrix(X_train9, y_train9)\n",
        "dX_stp_test9 = xgb.DMatrix(X_test9, y_test9)\n",
        "model_stp_9 = xgb.train(params_stp_9, dX_stp_train9)\n",
        "pred_stp_9 = model_stp_9.predict(dX_stp_test9)\n",
        "\n",
        "rmse_stp_9 = np.sqrt(mean_squared_error(pred_stp_9, y_test9))\n",
        "rmse_stp_9"
      ],
      "execution_count": null,
      "outputs": [
        {
          "output_type": "stream",
          "name": "stdout",
          "text": [
            "Evaluation \t Proposed point \t  Current eval. \t  Best eval. \t        Exact ERM: StdDev. x \t Approx ERM: StdDev. x \n",
            "init\t [ 0.10374154  5.01874592 11.          0.50377155  2.          0.29670281]\t 0.8449026536729003\t 0.6448358819228919\t    \t    \n",
            "init\t [ 4.18508181  2.48101168 13.          0.69794293  2.          0.25009871]\t 0.8430936233516066\t 0.6448358819228919\t    \t    \n",
            "init\t [ 8.78559086  9.50964032 13.          0.98395204 11.          0.90820641]\t 0.6448358819228919\t 0.6448358819228919\t    \t    \n",
            "init\t [ 6.66898973  5.47837783  6.          0.97165345 12.          0.72499481]\t 0.7455250925664565\t 0.6448358819228919\t    \t    \n",
            "init\t [ 8.24870465  4.65668475 13.          0.68760467  9.          0.98502332]\t 0.6542440322310401\t 0.6448358819228919\t    \t    \n",
            "1  \t [6.73714319 2.39608167 5.         0.58130302 3.         0.163077  ]\t 1.0516333409565926\t 0.6448358819228919\t 5.052963702996541\t 5.0389287787059125\n",
            "2  \t [9.23885705 0.0495141  9.         0.5847098  7.         0.79832927]\t 0.6774051522557019\t 0.6448358819228919\t 5.204105734197108\t 5.20536329557409\n",
            "3  \t [ 8.20707753  5.23681739  9.          0.99500664 19.          0.41686889]\t 0.7862089426832719\t 0.6448358819228919\t 4.85592901318608\t 4.855929111749431\n",
            "4  \t [ 0.19525707  9.62416422  9.          0.85280832 10.          0.52998476]\t 0.7396199848029671\t 0.6448358819228919\t 4.863968942557657\t 4.871724130596661\n",
            "5  \t [ 1.86381009  9.16177979  5.          0.9344438  17.          0.81379931]\t 0.7377720407232845\t 0.6448358819228919\t 5.071026079144133\t 5.100188801456134\n",
            "6  \t [ 2.07399013  1.08547559 13.          0.90854674 16.          0.44415088]\t 0.7854445167823974\t 0.6448358819228919\t 4.765120683951416\t 4.833820973268715\n",
            "7  \t [0.  0.  5.  0.5 1.  0.1]\t 1.0517934452387856\t 0.6448358819228919\t 4.676052570735196\t 4.661838356073152\n",
            "8  \t [ 0.56883492  2.21937218  6.          0.84490274 16.          0.30898926]\t 0.8417982153735359\t 0.6448358819228919\t 4.488315855643147\t 4.519386577193526\n",
            "9  \t [ 0.30581668  9.33751049 12.          0.80943195 19.          0.44519139]\t 0.788150408197674\t 0.6448358819228919\t 5.129987579520745\t 5.210050287573899\n",
            "10 \t [ 0.67105095  0.94101024 14.          0.7967074   8.          0.63229074]\t 0.6948006463812106\t 0.6448358819228919\t 4.768028733988845\t 4.845627794863928\n",
            "11 \t [ 7.53441733  9.89426931 12.          0.67232682 16.          0.3377491 ]\t 0.8356708666812738\t 0.6448358819228919\t 4.973135502498305\t 4.973135502498305\n",
            "12 \t [ 4.47453193  7.16141346  8.          0.50393935 18.          0.6896195 ]\t 0.7226637411621276\t 0.6448358819228919\t 4.829409989209426\t 4.822562180823232\n",
            "13 \t [ 3.46207476  9.83623086 13.          0.59254174 15.          0.37573299]\t 0.7964686272194577\t 0.6448358819228919\t 5.221459452194412\t 5.219568262271035\n",
            "14 \t [ 8.88182279  1.21247755  8.          0.57194414 15.          0.58313863]\t 0.7551157627093398\t 0.6448358819228919\t 4.73030787351324\t 4.736061237090337\n",
            "15 \t [6.5099841  8.70472582 8.         0.63069736 4.         0.74098062]\t 0.7182841662032551\t 0.6448358819228919\t 5.030500173482759\t 5.0817601044390255\n",
            "16 \t [1.12068613 5.38370759 5.         0.59812309 7.         0.55127392]\t 0.7957827851423114\t 0.6448358819228919\t 4.58860660017583\t 4.584941026608561\n",
            "17 \t [ 4.19189824  5.69856246 15.          1.         20.          1.        ]\t 0.6505668917473632\t 0.6448358819228919\t 5.3982744495343855\t 5.396760392436578\n",
            "18 \t [ 6.28900386  8.75764894 14.          0.6787757   5.          0.37393632]\t 0.8397681012018501\t 0.6448358819228919\t 4.868816644637496\t 4.838818984289994\n",
            "19 \t [3.71364107 1.34189013 8.         0.86771065 9.         0.8854455 ]\t 0.6658411506285626\t 0.6448358819228919\t 4.719402961893738\t 4.724795678407169\n",
            "20 \t [ 5.06569568  9.95512019 10.          0.79200421  8.          0.9497448 ]\t 0.6524837713585139\t 0.6448358819228919\t 4.728857495328623\t 4.719731103070974\n",
            "21 \t [ 4.2953213   0.27911896 10.          0.9783586  19.          0.46300401]\t 0.7860315206098012\t 0.6448358819228919\t 5.203478532842603\t 5.141739056599614\n",
            "22 \t [ 0.3768638   0.98456584  9.          0.99441364 13.          0.49763585]\t 0.7865928825712862\t 0.6448358819228919\t 4.778682092658471\t 4.778682092658471\n",
            "23 \t [10. 10. 15.  1. 20.  1.]\t 0.6505488267879174\t 0.6448358819228919\t 5.317464810688054\t 5.1229305181253695\n",
            "24 \t [ 2.42220116  6.1788397  13.          0.64865813 10.          0.13940747]\t 1.0466026780420001\t 0.6448358819228919\t 4.823938666360519\t 4.77879634969348\n",
            "25 \t [2.57515952 4.90843155 5.81121657 0.5        1.         0.1       ]\t 1.0517934852889312\t 0.6448358819228919\t 4.8669139792176574\t 4.8481079724645575\n",
            "26 \t [ 0.34910818  3.39479926 12.          0.75007153 14.          0.74419655]\t 0.6950503015339501\t 0.6448358819228919\t 5.218456992381211\t 5.219212977012179\n",
            "27 \t [ 0.45983101  9.28402862 13.          0.52786561  6.          0.42783681]\t 0.8036069849990609\t 0.6448358819228919\t 4.305069560299014\t 4.297415442287238\n",
            "28 \t [3.83388461 2.85611667 7.         0.74640655 5.         0.27473638]\t 0.8375129312365261\t 0.6448358819228919\t 4.698753626537375\t 4.698753626537375\n",
            "29 \t [2.42401477 8.78296692 9.         0.60498241 1.         0.43587645]\t 0.7989562518109162\t 0.6448358819228919\t 4.982978730695706\t 4.984871679019676\n",
            "30 \t [ 6.14078962  2.31372054 11.          0.9240952  13.          0.361681  ]\t 0.8314074749252223\t 0.6448358819228919\t 4.682414284304063\t 4.577961065195484\n"
          ]
        },
        {
          "output_type": "execute_result",
          "data": {
            "text/plain": [
              "48075.00995818073"
            ]
          },
          "metadata": {},
          "execution_count": 52
        }
      ]
    },
    {
      "cell_type": "code",
      "metadata": {
        "id": "7VgaJOoJbOIE",
        "colab": {
          "base_uri": "https://localhost:8080/"
        },
        "outputId": "68dfde73-38c2-4fc2-c82e-00afa17566c8"
      },
      "source": [
        "### Bayesian optimization runs (x20): 'Exact STP ERM' Acquisition Function run number = 10 \n",
        "\n",
        "np.random.seed(run_num_10)\n",
        "surrogate_stp_10 = dtStudentProcess(cov_func, optimize=opt, nu = df)\n",
        "\n",
        "X_train10, X_test10, y_train10, y_test10 = train_test_split(X, y, test_size=test_perc, random_state=run_num_10)\n",
        "\n",
        "def f_syn_polarity10(alpha, gamma, max_depth, subsample, min_child_weight, colsample):\n",
        "    reg = XGBRegressor(reg_alpha=alpha, gamma=gamma, max_depth=int(max_depth), subsample=subsample, min_child_weight=min_child_weight,\n",
        "          colsample_bytree=colsample, n_estimators = n_est, random_state=run_num_10, objective = 'reg:squarederror')\n",
        "    score = np.array(cross_val_score(reg, X=X_train10, y=y_train10).mean())\n",
        "    return operator * score\n",
        "\n",
        "stp_10 = dGPGO_stp(surrogate_stp_10, Acquisition_grad(util_stp), f_syn_polarity10, param, n_jobs = -1) # Define BayesOpt\n",
        "stp_10.run(max_iter = max_iter, init_evals = n_init) # run\n",
        "\n",
        "### Return optimal parameters' set:\n",
        "params_stp_10 = stp_10.getResult()[0]\n",
        "params_stp_10['max_depth'] = int(params_stp_10['max_depth'])\n",
        "params_stp_10['min_child_weight'] = int(params_stp_10['min_child_weight'])\n",
        "\n",
        "### Re-train with optimal parameters, run predictons:\n",
        "dX_stp_train10 = xgb.DMatrix(X_train10, y_train10)\n",
        "dX_stp_test10 = xgb.DMatrix(X_test10, y_test10)\n",
        "model_stp_10 = xgb.train(params_stp_10, dX_stp_train10)\n",
        "pred_stp_10 = model_stp_10.predict(dX_stp_test10)\n",
        "\n",
        "rmse_stp_10 = np.sqrt(mean_squared_error(pred_stp_10, y_test10))\n",
        "rmse_stp_10"
      ],
      "execution_count": null,
      "outputs": [
        {
          "output_type": "stream",
          "name": "stdout",
          "text": [
            "Evaluation \t Proposed point \t  Current eval. \t  Best eval. \t        Exact ERM: StdDev. x \t Approx ERM: StdDev. x \n",
            "init\t [ 7.71320643  0.20751949  5.          0.72150747 17.          0.12265456]\t 0.8785010703819621\t 0.6669292375133978\t    \t    \n",
            "init\t [ 7.0920801   2.65566127 13.          0.57518893 17.          0.83494165]\t 0.6669292375133978\t 0.6669292375133978\t    \t    \n",
            "init\t [ 3.36071584  8.90816531  6.          0.86087766 15.          0.75469196]\t 0.7012460140601039\t 0.6669292375133978\t    \t    \n",
            "init\t [ 5.40880931  1.31458152  8.          0.57108502 14.          0.62551123]\t 0.7005965853529538\t 0.6669292375133978\t    \t    \n",
            "init\t [1.82631436 8.26082248 6.         0.80888349 5.         0.15900694]\t 0.880412005930048\t 0.6669292375133978\t    \t    \n",
            "1  \t [8.31989768 3.09778055 7.         0.64798085 3.         0.98471878]\t 0.6770142260932797\t 0.6669292375133978\t 4.603413518473101\t 4.6145649161073825\n",
            "2  \t [ 3.05837423  0.98670899 11.          0.63714741 18.          0.46809298]\t 0.7417959722875219\t 0.6669292375133978\t 5.128967043921179\t 5.130509709497878\n",
            "3  \t [1.0517383  0.29626986 6.         0.71496305 2.         0.21703638]\t 0.8792946548244501\t 0.6669292375133978\t 4.592888649707429\t 4.587241311818689\n",
            "4  \t [ 2.98946783  8.70916918 12.          0.89809007  8.          0.53350402]\t 0.7006385046040607\t 0.6669292375133978\t 4.846799185544506\t 4.875138706399737\n",
            "\u001b[1m\u001b[92m5\u001b[0m\t \u001b[1m\u001b[92m[10. 10. 15.  1. 20.  1.]\u001b[0m\t \u001b[1m\u001b[92m0.6455928988859453\u001b[0m\t \u001b[1m\u001b[92m0.6455928988859453\u001b[0m\t \u001b[1m\u001b[92m4.746681494147235\u001b[0m\t \u001b[1m\u001b[92m4.568721365653992\u001b[0m\n",
            "6  \t [9.5129367  9.98430937 6.         0.51699097 2.         0.32133886]\t 0.8210163484458256\t 0.6455928988859453\t 4.667685113860873\t 4.667685113860873\n",
            "7  \t [ 3.62490684  2.84275183 14.          0.74589397  2.          0.75096489]\t 0.6670230975290341\t 0.6455928988859453\t 4.844396946160464\t 4.783434559454619\n",
            "8  \t [ 9.67396075  2.8020106  13.          0.65074314 10.          0.54373377]\t 0.7069523757910561\t 0.6455928988859453\t 4.611521519194687\t 4.647484307929204\n",
            "9  \t [7.7714375  7.70616843 8.         0.82339468 6.         0.96195202]\t 0.661096368919013\t 0.6455928988859453\t 5.026973406145135\t 5.026973406145135\n",
            "10 \t [ 3.30148079  9.88907038 12.          0.72868817  1.          0.65479477]\t 0.6997345104361262\t 0.6455928988859453\t 4.945793109434533\t 4.753610647052707\n",
            "11 \t [ 7.71064959  9.96207932 10.          0.59477685 12.          0.11554071]\t 0.8835980337648006\t 0.6455928988859453\t 4.724921145216077\t 4.65365847969001\n",
            "12 \t [2.09526391 0.         6.28082505 0.5        9.28082505 0.1       ]\t 0.8821767837924288\t 0.6455928988859453\t 4.6846619364190465\t 4.699654798073783\n",
            "\u001b[1m\u001b[92m13\u001b[0m\t \u001b[1m\u001b[92m[10.         10.         13.73223735  1.          6.73223735  1.        ]\u001b[0m\t \u001b[1m\u001b[92m0.6418479660754709\u001b[0m\t \u001b[1m\u001b[92m0.6418479660754709\u001b[0m\t \u001b[1m\u001b[92m4.967492400947568\u001b[0m\t \u001b[1m\u001b[92m4.973579424230109\u001b[0m\n",
            "14 \t [ 3.89768175  5.29572603  8.          0.92074245 11.          0.31486353]\t 0.8106110145898601\t 0.6418479660754709\t 4.951734790757382\t 4.9517350298404\n",
            "15 \t [ 0.07808224  6.49649777 13.          0.58750637 14.          0.83487235]\t 0.6660901372736843\t 0.6418479660754709\t 4.809648796290574\t 4.8096487927343405\n",
            "16 \t [ 0.04708663  5.63008151  7.          0.89049451 16.          0.24468474]\t 0.8805243043062951\t 0.6418479660754709\t 4.543514129405587\t 4.543514129405587\n",
            "17 \t [0.54815519 9.09457687 7.         0.55756737 9.         0.32110491]\t 0.8160888137431301\t 0.6418479660754709\t 4.725547367582464\t 4.7255475169049515\n",
            "18 \t [ 6.17394409  4.04114422 10.          0.65058545  1.          0.14583054]\t 0.884659950113891\t 0.6418479660754709\t 4.923665583281483\t 4.923665583281483\n",
            "19 \t [ 1.75909042  8.50460179 10.          0.61596511  8.          0.92202704]\t 0.6552140243198975\t 0.6418479660754709\t 4.663953524037191\t 4.663953524037191\n",
            "20 \t [ 5.75608238  3.36114356  7.          0.8888975  17.          0.1085544 ]\t 0.8804917195016874\t 0.6418479660754709\t 4.730095557730075\t 4.730095557730075\n",
            "21 \t [ 1.40673694  2.81853826  8.          0.57005206 17.          0.51239648]\t 0.7119792503375972\t 0.6418479660754709\t 5.0130754398739565\t 5.013075494051726\n",
            "22 \t [ 7.61103017  3.62093566 13.          0.5614452  13.          0.12084556]\t 0.8840919924947371\t 0.6418479660754709\t 4.967778040081075\t 4.966250436774859\n",
            "23 \t [ 6.89824313  6.43931113 11.          0.60707962 11.          0.89509759]\t 0.6539666670983036\t 0.6418479660754709\t 4.852971318697688\t 4.854982197137114\n",
            "24 \t [ 2.44191194  3.33063319 11.          0.65513922  6.          0.45905506]\t 0.7450791968566186\t 0.6418479660754709\t 4.785562322763465\t 4.781173875152309\n",
            "25 \t [ 9.03172065  9.67970196  7.          0.96197904 17.          0.43267247]\t 0.7430943297217871\t 0.6418479660754709\t 4.74457755079338\t 4.822278132732175\n",
            "26 \t [10.         10.         15.          1.         15.00990788  1.        ]\t 0.6443484935444447\t 0.6418479660754709\t 4.881204099910259\t 4.7762539259621235\n",
            "27 \t [ 9.40854499  7.80841653 11.          0.95953726  2.          0.65169631]\t 0.6921338634127544\t 0.6418479660754709\t 4.589208281730766\t 4.5549972704763295\n",
            "28 \t [ 1.55481231  8.89847306 13.          0.92315868 19.          0.23858876]\t 0.8822650514974324\t 0.6418479660754709\t 5.28623582869458\t 5.334908570667543\n",
            "29 \t [ 7.25858886  0.05284455 11.          0.66498317  6.          0.51372905]\t 0.7081124510423997\t 0.6418479660754709\t 4.94785398429025\t 4.869560222169376\n",
            "30 \t [ 9.44119737  4.83052802 12.          0.87311968 19.          0.35147834]\t 0.81181886510441\t 0.6418479660754709\t 4.979347172381205\t 4.979347172381205\n"
          ]
        },
        {
          "output_type": "execute_result",
          "data": {
            "text/plain": [
              "49767.57796170873"
            ]
          },
          "metadata": {},
          "execution_count": 53
        }
      ]
    },
    {
      "cell_type": "code",
      "metadata": {
        "id": "51z87uHWbRGr",
        "colab": {
          "base_uri": "https://localhost:8080/"
        },
        "outputId": "25cd5f89-2c97-4db0-b968-ce21ff853dd1"
      },
      "source": [
        "### Bayesian optimization runs (x20): 'Exact STP ERM' Acquisition Function run number = 11 \n",
        "\n",
        "np.random.seed(run_num_11)\n",
        "surrogate_stp_11 = dtStudentProcess(cov_func, optimize=opt, nu = df)\n",
        "\n",
        "X_train11, X_test11, y_train11, y_test11 = train_test_split(X, y, test_size=test_perc, random_state=run_num_11)\n",
        "\n",
        "def f_syn_polarity11(alpha, gamma, max_depth, subsample, min_child_weight, colsample):\n",
        "    reg = XGBRegressor(reg_alpha=alpha, gamma=gamma, max_depth=int(max_depth), subsample=subsample, min_child_weight=min_child_weight,\n",
        "          colsample_bytree=colsample, n_estimators = n_est, random_state=run_num_11, objective = 'reg:squarederror')\n",
        "    score = np.array(cross_val_score(reg, X=X_train11, y=y_train11).mean())\n",
        "    return operator * score\n",
        "\n",
        "stp_11 = dGPGO_stp(surrogate_stp_11, Acquisition_grad(util_stp), f_syn_polarity11, param, n_jobs = -1) # Define BayesOpt\n",
        "stp_11.run(max_iter = max_iter, init_evals = n_init) # run\n",
        "\n",
        "### Return optimal parameters' set:\n",
        "params_stp_11 = stp_11.getResult()[0]\n",
        "params_stp_11['max_depth'] = int(params_stp_11['max_depth'])\n",
        "params_stp_11['min_child_weight'] = int(params_stp_11['min_child_weight'])\n",
        "\n",
        "### Re-train with optimal parameters, run predictons:\n",
        "dX_stp_train11 = xgb.DMatrix(X_train11, y_train11)\n",
        "dX_stp_test11 = xgb.DMatrix(X_test11, y_test11)\n",
        "model_stp_11 = xgb.train(params_stp_11, dX_stp_train11)\n",
        "pred_stp_11 = model_stp_11.predict(dX_stp_test11)\n",
        "\n",
        "rmse_stp_11 = np.sqrt(mean_squared_error(pred_stp_11, y_test11))\n",
        "rmse_stp_11"
      ],
      "execution_count": null,
      "outputs": [
        {
          "output_type": "stream",
          "name": "stdout",
          "text": [
            "Evaluation \t Proposed point \t  Current eval. \t  Best eval. \t        Exact ERM: StdDev. x \t Approx ERM: StdDev. x \n",
            "init\t [ 1.80269689  0.19475241  6.          0.59705781 13.          0.47818324]\t 0.7904007286371394\t 0.6894069737354023\t    \t    \n",
            "init\t [ 4.85427098  0.12780815  5.          0.91309068 14.          0.86571558]\t 0.727634308123781\t 0.6894069737354023\t    \t    \n",
            "init\t [ 7.2996447   1.08736072 10.          0.92857712 18.          0.66910061]\t 0.6894069737354023\t 0.6894069737354023\t    \t    \n",
            "init\t [ 0.20483613  1.16737269  7.          0.57895615 16.          0.83644782]\t 0.7071657410132528\t 0.6894069737354023\t    \t    \n",
            "init\t [ 3.44624491  3.18798797 14.          0.54197657 15.          0.63958906]\t 0.7012825433030343\t 0.6894069737354023\t    \t    \n",
            "1  \t [9.77136617 6.6548802  7.         0.51036649 9.         0.81011527]\t 0.711031226877882\t 0.6894069737354023\t 4.195699770536334\t 4.159918687978874\n",
            "\u001b[1m\u001b[92m2\u001b[0m\t \u001b[1m\u001b[92m[ 0.59719728  4.15307516 11.          0.66501717  3.          0.95537014]\u001b[0m\t \u001b[1m\u001b[92m0.6577294425265764\u001b[0m\t \u001b[1m\u001b[92m0.6577294425265764\u001b[0m\t \u001b[1m\u001b[92m4.551859860410641\u001b[0m\t \u001b[1m\u001b[92m4.512573917531264\u001b[0m\n",
            "3  \t [ 8.79191945  9.92354379  5.          0.67714371 18.          0.57050675]\t 0.7648729702018928\t 0.6577294425265764\t 4.502223595852116\t 4.474189664977086\n",
            "4  \t [ 8.43962982  4.2216354  12.          0.61829836  3.          0.16854155]\t 0.9235319432135773\t 0.6577294425265764\t 4.764525501550832\t 4.80460579266625\n",
            "\u001b[1m\u001b[92m5\u001b[0m\t \u001b[1m\u001b[92m[ 8.67505649  9.5012475  12.82893091  1.         20.          1.        ]\u001b[0m\t \u001b[1m\u001b[92m0.6379572694545345\u001b[0m\t \u001b[1m\u001b[92m0.6379572694545345\u001b[0m\t \u001b[1m\u001b[92m4.750851641666893\u001b[0m\t \u001b[1m\u001b[92m4.493290909696462\u001b[0m\n",
            "6  \t [ 4.3826391   8.63134178  8.          0.99312919 13.          0.76681566]\t 0.6922630708519245\t 0.6379572694545345\t 4.650001758230448\t 4.660361131143401\n",
            "7  \t [8.5599695  9.54840342 6.         0.73281277 1.         0.77796226]\t 0.7154523071123053\t 0.6379572694545345\t 4.960788732956969\t 4.9162254356751\n",
            "8  \t [0.50746251 9.37264814 7.         0.59739834 4.         0.27068294]\t 0.8761103353410163\t 0.6379572694545345\t 4.903243504535277\t 4.926802591705449\n",
            "9  \t [0.  0.  5.  0.5 1.  0.1]\t 0.9342890171193261\t 0.6379572694545345\t 4.940987437176724\t 4.788622473998986\n",
            "10 \t [ 1.06054513  2.23745512 13.          0.92745502  9.          0.16992758]\t 0.9226798533243917\t 0.6379572694545345\t 4.873738898070906\t 4.853380174500132\n",
            "11 \t [ 0.11403055  8.4704762   5.          0.64787128 18.          0.27113862]\t 0.8864529961319944\t 0.6379572694545345\t 4.900196555316802\t 4.876746097950451\n",
            "12 \t [ 8.75969772  9.81259093 13.          0.73915202  9.          0.12048735]\t 0.9231023673501877\t 0.6379572694545345\t 5.063719145852681\t 4.999183486584211\n",
            "13 \t [ 9.1224192   0.14577581 10.          0.79058624  9.          0.93264556]\t 0.6536325607956057\t 0.6379572694545345\t 4.80575538524001\t 4.820378094280969\n",
            "14 \t [ 6.98012979  9.70420514 13.          0.5373863  14.          0.73047943]\t 0.7019688866391167\t 0.6379572694545345\t 4.936466378131026\t 4.991429831918673\n",
            "15 \t [ 2.15117289  9.9737351  13.          0.92054036 19.          0.17057887]\t 0.9220444895634238\t 0.6379572694545345\t 4.960942138929459\t 4.865235735177206\n",
            "16 \t [ 4.54549823  8.84141407 12.          0.50940273  3.          0.75742975]\t 0.7068100593711837\t 0.6379572694545345\t 4.908049322194117\t 4.918294822830128\n",
            "17 \t [6.84259942 4.32103035 5.         0.56696926 3.         0.18577896]\t 0.932783668551836\t 0.6379572694545345\t 4.711612416474879\t 4.726134010910353\n",
            "18 \t [ 2.10994823  7.1805032  12.          0.63048792  8.          0.67645363]\t 0.698358780864823\t 0.6379572694545345\t 4.733650117394476\t 4.7336500617193815\n",
            "19 \t [ 2.16727134  8.25338567 14.          0.51858242  5.          0.20747401]\t 0.9265282654642244\t 0.6379572694545345\t 5.01693387356029\t 5.021174806936837\n",
            "20 \t [0.56806539 7.69746805 6.         0.94796222 9.         0.37129588]\t 0.8772298745282174\t 0.6379572694545345\t 4.7068466341839\t 4.717323264259076\n",
            "21 \t [ 3.32966927  6.72206515 14.          0.83912863 18.          0.84659432]\t 0.6883249973001357\t 0.6379572694545345\t 4.875088338370292\t 4.87021190738844\n",
            "22 \t [3.9771337  2.1194538  8.         0.99912274 6.         0.12579719]\t 0.9220848297716273\t 0.6379572694545345\t 4.568221731783101\t 4.572672040432319\n",
            "23 \t [5.65101211 8.94413403 7.         0.64809449 8.         0.59228465]\t 0.7418835369809943\t 0.6379572694545345\t 4.7203769599043595\t 4.7198987140687905\n",
            "24 \t [ 3.1808698   6.08364786 11.          0.83908038 16.          0.30036907]\t 0.8686347965869988\t 0.6379572694545345\t 4.425098923849427\t 4.425098923849427\n",
            "25 \t [ 4.52812342  0.19443533 13.          0.65004115  2.          0.16077491]\t 0.9247656684808231\t 0.6379572694545345\t 4.701172446730749\t 4.702342372011295\n",
            "26 \t [ 4.35725957  3.75495843 10.          0.8962831   7.          0.47601782]\t 0.764405864026175\t 0.6379572694545345\t 4.4392708773943\t 4.4392708773943\n",
            "27 \t [ 3.02633699  5.92948093 12.          0.75060687  4.          0.57938735]\t 0.7332555811634872\t 0.6379572694545345\t 4.69843290237351\t 4.69843290237351\n",
            "28 \t [ 6.68138453  0.2955558   6.          0.96090271 10.          0.14408308]\t 0.9276546535784822\t 0.6379572694545345\t 4.55608480820568\t 4.624988032259841\n",
            "29 \t [9.27654384 0.11345815 9.         0.76045104 1.         0.92226676]\t 0.6600116767225708\t 0.6379572694545345\t 4.751826359211223\t 4.677299134504154\n",
            "30 \t [ 8.69363194  5.58726529 10.          0.7161638  14.          0.98763741]\t 0.6573177381041478\t 0.6379572694545345\t 5.113142570708196\t 5.012222873056122\n"
          ]
        },
        {
          "output_type": "execute_result",
          "data": {
            "text/plain": [
              "50731.823425048555"
            ]
          },
          "metadata": {},
          "execution_count": 54
        }
      ]
    },
    {
      "cell_type": "code",
      "metadata": {
        "id": "j8jZUeoWbTvn",
        "colab": {
          "base_uri": "https://localhost:8080/"
        },
        "outputId": "146b0c42-23aa-4c8c-c9a1-8ba7ed62450f"
      },
      "source": [
        "### Bayesian optimization runs (x20): 'Exact STP ERM' Acquisition Function run number = 12\n",
        "\n",
        "np.random.seed(run_num_12)\n",
        "surrogate_stp_12 = dtStudentProcess(cov_func, optimize=opt, nu = df)\n",
        "\n",
        "X_train12, X_test12, y_train12, y_test12 = train_test_split(X, y, test_size=test_perc, random_state=run_num_12)\n",
        "\n",
        "def f_syn_polarity12(alpha, gamma, max_depth, subsample, min_child_weight, colsample):\n",
        "    reg = XGBRegressor(reg_alpha=alpha, gamma=gamma, max_depth=int(max_depth), subsample=subsample, min_child_weight=min_child_weight,\n",
        "          colsample_bytree=colsample, n_estimators = n_est, random_state=run_num_12, objective = 'reg:squarederror')\n",
        "    score = np.array(cross_val_score(reg, X=X_train12, y=y_train12).mean())\n",
        "    return operator * score\n",
        "\n",
        "stp_12 = dGPGO_stp(surrogate_stp_12, Acquisition_grad(util_stp), f_syn_polarity12, param, n_jobs = -1) # Define BayesOpt\n",
        "stp_12.run(max_iter = max_iter, init_evals = n_init) # run\n",
        "\n",
        "### Return optimal parameters' set:\n",
        "params_stp_12 = stp_12.getResult()[0]\n",
        "params_stp_12['max_depth'] = int(params_stp_12['max_depth'])\n",
        "params_stp_12['min_child_weight'] = int(params_stp_12['min_child_weight'])\n",
        "\n",
        "### Re-train with optimal parameters, run predictons:\n",
        "dX_stp_train12 = xgb.DMatrix(X_train12, y_train12)\n",
        "dX_stp_test12 = xgb.DMatrix(X_test12, y_test12)\n",
        "model_stp_12 = xgb.train(params_stp_12, dX_stp_train12)\n",
        "pred_stp_12 = model_stp_12.predict(dX_stp_test12)\n",
        "\n",
        "rmse_stp_12 = np.sqrt(mean_squared_error(pred_stp_12, y_test12))\n",
        "rmse_stp_12"
      ],
      "execution_count": null,
      "outputs": [
        {
          "output_type": "stream",
          "name": "stdout",
          "text": [
            "Evaluation \t Proposed point \t  Current eval. \t  Best eval. \t        Exact ERM: StdDev. x \t Approx ERM: StdDev. x \n",
            "init\t [1.54162842 7.40049697 6.         0.54321714 4.         0.11311747]\t 0.9314271055202143\t 0.7056203424268611\t    \t    \n",
            "init\t [ 9.18747008  9.00714854 14.          0.97847467 11.          0.35544552]\t 0.7910532936167305\t 0.7056203424268611\t    \t    \n",
            "init\t [ 6.06083184  9.44225136 14.          0.95626942  5.          0.56910342]\t 0.7196830962696428\t 0.7056203424268611\t    \t    \n",
            "init\t [ 5.52037633  4.85377414  7.          0.97886436 17.          0.78810441]\t 0.7056203424268611\t 0.7056203424268611\t    \t    \n",
            "init\t [ 0.20809798  1.35210178  5.          0.65494879 16.          0.36062811]\t 0.8082458628311272\t 0.7056203424268611\t    \t    \n",
            "1  \t [9.46555822 8.57190559 5.         0.50164398 5.         0.71992807]\t 0.74699493326549\t 0.7056203424268611\t 4.705291068821244\t 4.6860697442445565\n",
            "\u001b[1m\u001b[92m2\u001b[0m\t \u001b[1m\u001b[92m[10.          7.27377669 10.6363985   1.         20.          1.        ]\u001b[0m\t \u001b[1m\u001b[92m0.6540301941887037\u001b[0m\t \u001b[1m\u001b[92m0.6540301941887037\u001b[0m\t \u001b[1m\u001b[92m5.170278056324831\u001b[0m\t \u001b[1m\u001b[92m5.145817667707268\u001b[0m\n",
            "3  \t [ 7.48458025  0.82585105 14.          0.62666135 18.          0.34757206]\t 0.7923560070207463\t 0.6540301941887037\t 5.1124752489732055\t 5.110660314394417\n",
            "4  \t [6.38266166 3.66323517 5.         0.6972131  9.         0.47709595]\t 0.8009366885878899\t 0.6540301941887037\t 5.0630586316573165\t 5.072714487976828\n",
            "5  \t [ 5.83217552  8.53843574 11.          0.58549752 18.          0.26781236]\t 0.7937241882253031\t 0.6540301941887037\t 4.86113587836441\t 4.861861855499705\n",
            "6  \t [ 3.52118615  0.23388076 12.          0.56204237  1.          0.44568429]\t 0.7872412218199303\t 0.6540301941887037\t 4.684454680488647\t 4.722353531923599\n",
            "7  \t [ 9.92159613  3.53760601 14.          0.66495754  4.          0.92098158]\t 0.7037336633700015\t 0.6540301941887037\t 4.45205860965378\t 4.468118372442069\n",
            "8  \t [ 1.25868956  0.22795824 11.          0.81986474  9.          0.64717158]\t 0.695450831468692\t 0.6540301941887037\t 4.451404720952353\t 4.43948066004603\n",
            "9  \t [ 2.73067092  9.86029136  9.          0.98915314 11.          0.78920814]\t 0.693545230998452\t 0.6540301941887037\t 4.558765201105274\t 4.588671823434669\n",
            "10 \t [ 0.14475494  9.8292754  12.          0.60331385  2.          0.9622215 ]\t 0.7073584311311387\t 0.6540301941887037\t 4.78600583206202\t 4.825935996618991\n",
            "11 \t [ 1.81539004  3.97973122 11.          0.55780808 14.          0.86016605]\t 0.7041682587723528\t 0.6540301941887037\t 4.697076134320428\t 4.6861520452080265\n",
            "12 \t [ 0.10274077  3.67012236  6.          0.81389509 11.          0.83682267]\t 0.7202487480474815\t 0.6540301941887037\t 4.923120008581796\t 4.921389907372363\n",
            "13 \t [ 6.90129968  1.22715242 14.          0.66551675  8.          0.14885541]\t 0.9268098747337306\t 0.6540301941887037\t 4.620259695919973\t 4.624977422257026\n",
            "14 \t [8.72042964 1.18098427 6.         0.87093363 1.         0.1200865 ]\t 0.930151934795418\t 0.6540301941887037\t 4.648854430595419\t 4.462146465906229\n",
            "15 \t [ 8.84534507  8.61072725  6.          0.70366548 19.          0.12607791]\t 0.929431740491148\t 0.6540301941887037\t 4.716147706028638\t 4.716147706028638\n",
            "16 \t [0.         1.53887053 5.         0.5        1.         0.1       ]\t 0.9380339511614821\t 0.6540301941887037\t 4.990234609153539\t 4.842624457044527\n",
            "17 \t [ 2.38620183  1.03950496 13.          0.6257051   6.          0.34211692]\t 0.7949227225244432\t 0.6540301941887037\t 4.701403315770347\t 4.701403315770347\n",
            "18 \t [ 9.66419595  5.21985973  6.          0.59246694 13.          0.24342225]\t 0.9308052505637308\t 0.6540301941887037\t 4.850250205153917\t 4.828843295404256\n",
            "19 \t [ 4.82116392  7.94441114 13.          0.79896359 10.          0.94409065]\t 0.6965786487707983\t 0.6540301941887037\t 4.577556567288171\t 4.577556567288171\n",
            "20 \t [ 9.98175567  0.8705802   6.          0.55210219 18.          0.50471737]\t 0.7496479603542527\t 0.6540301941887037\t 4.574155499777846\t 4.539222518567728\n",
            "21 \t [ 1.31543985  7.56963465  9.          0.65553666 19.          0.70845471]\t 0.7028718248487947\t 0.6540301941887037\t 5.0141792825453715\t 5.0109104514411555\n",
            "22 \t [ 4.22119996  7.99655483  5.          0.78307763 14.          0.79061697]\t 0.7405746569621561\t 0.6540301941887037\t 4.570065987453487\t 4.570065987453487\n",
            "23 \t [ 9.39056075  5.8448496  10.          0.68658632  9.          0.39035966]\t 0.7745690312005094\t 0.6540301941887037\t 5.006519457981234\t 4.895270361327145\n",
            "24 \t [ 3.54377146  1.55114788  9.          0.60325108 18.          0.58026864]\t 0.7288271346270945\t 0.6540301941887037\t 5.1015545680265175\t 5.101092171758776\n",
            "25 \t [ 1.04159226  4.03780394  5.          0.9134339  15.          0.13519165]\t 0.9328823718301782\t 0.6540301941887037\t 5.107988850219233\t 5.107988850219233\n",
            "26 \t [ 1.0206155   0.50876351 11.          0.82996077 17.          0.80891943]\t 0.6931022492573785\t 0.6540301941887037\t 4.870363924915121\t 4.866841005440247\n",
            "\u001b[1m\u001b[92m27\u001b[0m\t \u001b[1m\u001b[92m[10. 10. 15.  1. 20.  1.]\u001b[0m\t \u001b[1m\u001b[92m0.650360917790661\u001b[0m\t \u001b[1m\u001b[92m0.650360917790661\u001b[0m\t \u001b[1m\u001b[92m4.898345462735384\u001b[0m\t \u001b[1m\u001b[92m5.031352857006398\u001b[0m\n",
            "28 \t [6.03395923 5.04528992 9.         0.51562369 6.         0.58948876]\t 0.7337956797757847\t 0.650360917790661\t 4.831779054008818\t 4.826664898859665\n",
            "29 \t [4.85059817 0.59059416 8.         0.66375786 6.         0.57600536]\t 0.7292686946198735\t 0.650360917790661\t 4.6795485767491725\t 4.6795485767491725\n",
            "30 \t [ 0.42138623  7.7269096  13.          0.72605204 19.          0.17338535]\t 0.9256181718283066\t 0.650360917790661\t 4.622896682355147\t 4.622896682355147\n"
          ]
        },
        {
          "output_type": "execute_result",
          "data": {
            "text/plain": [
              "49876.69652464331"
            ]
          },
          "metadata": {},
          "execution_count": 55
        }
      ]
    },
    {
      "cell_type": "code",
      "metadata": {
        "id": "snTrqE2RbWbe",
        "colab": {
          "base_uri": "https://localhost:8080/"
        },
        "outputId": "8a1fc022-14e8-4a00-d062-ed5b9005a819"
      },
      "source": [
        "### Bayesian optimization runs (x20): 'Exact STP ERM' Acquisition Function run number = 13 \n",
        "\n",
        "np.random.seed(run_num_13)\n",
        "surrogate_stp_13 = dtStudentProcess(cov_func, optimize=opt, nu = df)\n",
        "\n",
        "X_train13, X_test13, y_train13, y_test13 = train_test_split(X, y, test_size=test_perc, random_state=run_num_13)\n",
        "\n",
        "def f_syn_polarity13(alpha, gamma, max_depth, subsample, min_child_weight, colsample):\n",
        "    reg = XGBRegressor(reg_alpha=alpha, gamma=gamma, max_depth=int(max_depth), subsample=subsample, min_child_weight=min_child_weight,\n",
        "          colsample_bytree=colsample, n_estimators = n_est, random_state=run_num_13, objective = 'reg:squarederror')\n",
        "    score = np.array(cross_val_score(reg, X=X_train13, y=y_train13).mean())\n",
        "    return operator * score\n",
        "\n",
        "stp_13 = dGPGO_stp(surrogate_stp_13, Acquisition_grad(util_stp), f_syn_polarity13, param, n_jobs = -1) # Define BayesOpt\n",
        "stp_13.run(max_iter = max_iter, init_evals = n_init) # run\n",
        "\n",
        "### Return optimal parameters' set:\n",
        "params_stp_13 = stp_13.getResult()[0]\n",
        "params_stp_13['max_depth'] = int(params_stp_13['max_depth'])\n",
        "params_stp_13['min_child_weight'] = int(params_stp_13['min_child_weight'])\n",
        "\n",
        "### Re-train with optimal parameters, run predictons:\n",
        "dX_stp_train13 = xgb.DMatrix(X_train13, y_train13)\n",
        "dX_stp_test13 = xgb.DMatrix(X_test13, y_test13)\n",
        "model_stp_13 = xgb.train(params_stp_13, dX_stp_train13)\n",
        "pred_stp_13 = model_stp_13.predict(dX_stp_test13)\n",
        "\n",
        "rmse_stp_13 = np.sqrt(mean_squared_error(pred_stp_13, y_test13))\n",
        "rmse_stp_13"
      ],
      "execution_count": null,
      "outputs": [
        {
          "output_type": "stream",
          "name": "stdout",
          "text": [
            "Evaluation \t Proposed point \t  Current eval. \t  Best eval. \t        Exact ERM: StdDev. x \t Approx ERM: StdDev. x \n",
            "init\t [ 7.77702411  2.3754122  11.          0.94649135 13.          0.7827256 ]\t 0.6628876451121497\t 0.6628876451121497\t    \t    \n",
            "init\t [ 7.51661514  6.07343344 11.          0.69402149 11.          0.13153287]\t 1.1013657958154304\t 0.6628876451121497\t    \t    \n",
            "init\t [ 2.98449471  0.58512492 10.          0.73579614 12.          0.33065195]\t 0.92150734169971\t 0.6628876451121497\t    \t    \n",
            "init\t [ 3.47581215  0.0941277  11.          0.86143432  8.          0.58454932]\t 0.71924819784624\t 0.6628876451121497\t    \t    \n",
            "init\t [ 4.70137857  6.24432527 10.          0.8149145  18.          0.10784416]\t 1.1014421616742969\t 0.6628876451121497\t    \t    \n",
            "1  \t [1.51786663 9.25994479 9.         0.99792981 2.         0.61199673]\t 0.7207240599672383\t 0.6628876451121497\t 4.99896338006787\t 4.984536187408674\n",
            "2  \t [6.93463528 1.25795731 8.         0.92695971 3.         0.9534311 ]\t 0.6734860180774931\t 0.6628876451121497\t 4.997205845957694\t 4.9594223844477225\n",
            "3  \t [ 1.27154032  7.56256657  5.          0.85984573 12.          0.61608824]\t 0.7679544515659981\t 0.6628876451121497\t 4.990204899135639\t 4.898200226391487\n",
            "4  \t [ 9.69332517  0.05133704 14.          0.6050422   3.          0.79031428]\t 0.6797825903178236\t 0.6628876451121497\t 4.378818594052884\t 4.369123997905944\n",
            "5  \t [0.         0.         5.         0.5        7.86383038 0.1       ]\t 1.099828942687583\t 0.6628876451121497\t 4.763419355771335\t 4.778184074762639\n",
            "6  \t [ 7.68636788  7.27927184 12.          0.97932089  3.          0.87363673]\t 0.6657443951678294\t 0.6628876451121497\t 4.914317624718822\t 4.858027359742872\n",
            "7  \t [ 1.83205559  5.96122477  9.          0.60293091 14.          0.2543724 ]\t 0.9191321113264156\t 0.6628876451121497\t 4.714677716991343\t 4.7139799280701205\n",
            "8  \t [ 0.53852623  1.13078322 12.          0.85062386  1.          0.22708294]\t 1.1062273028353988\t 0.6628876451121497\t 4.986155736097474\t 4.8984044746161866\n",
            "9  \t [9.82022331 2.48941517 7.         0.64964742 8.         0.44060186]\t 0.8227498001206589\t 0.6628876451121497\t 4.4660872479341664\t 4.466087234817126\n",
            "10 \t [ 6.60596124  8.35313787  6.          0.72167152 19.          0.94552853]\t 0.7025896131486131\t 0.6628876451121497\t 4.808883664418171\t 4.831347530412316\n",
            "11 \t [0.  0.  5.  0.5 1.  0.1]\t 1.0998776154616823\t 0.6628876451121497\t 4.91791864192852\t 4.89076506107436\n",
            "12 \t [ 9.65518672  0.13040633  6.          0.63296628 18.          0.44133279]\t 0.8313881881531572\t 0.6628876451121497\t 4.895936268877564\t 4.85568182647338\n",
            "13 \t [ 7.77142802  6.85788776  8.          0.58776826 12.          0.54100185]\t 0.732296187069162\t 0.6628876451121497\t 4.641507949840412\t 4.641507949840412\n",
            "14 \t [ 6.64335896  4.21317694 13.          0.67704359  4.          0.77970128]\t 0.6746732785820976\t 0.6628876451121497\t 4.740424248840007\t 4.740424248840007\n",
            "15 \t [ 3.78319896  9.10205064 14.          0.62806706 13.          0.90182995]\t 0.6686440552339279\t 0.6628876451121497\t 4.860257306251124\t 4.878466699858535\n",
            "\u001b[1m\u001b[92m16\u001b[0m\t \u001b[1m\u001b[92m[10.         10.         15.          1.         18.98268304  1.        ]\u001b[0m\t \u001b[1m\u001b[92m0.6476667557756681\u001b[0m\t \u001b[1m\u001b[92m0.6476667557756681\u001b[0m\t \u001b[1m\u001b[92m4.961239602519883\u001b[0m\t \u001b[1m\u001b[92m4.818683266622088\u001b[0m\n",
            "17 \t [ 6.20565504  8.79840282 14.          0.71344255  6.          0.21980806]\t 1.105080285400748\t 0.6476667557756681\t 4.864265600284009\t 4.864265600284009\n",
            "18 \t [2.57352577 0.33719112 9.         0.97251025 4.         0.51947396]\t 0.7203223434212329\t 0.6476667557756681\t 4.443908047266712\t 4.451679453767914\n",
            "19 \t [ 0.786033    9.84105109  9.          0.91945518 19.          0.21791409]\t 1.0995998424487943\t 0.6476667557756681\t 4.842884464842559\t 4.842884464842559\n",
            "20 \t [7.78054327e-03 3.05674801e+00 1.40000000e+01 9.86996551e-01\n",
            " 1.60000000e+01 3.30836599e-01]\t 0.9201059801130411\t 0.6476667557756681\t 5.25903113551807\t 5.272235440118058\n",
            "21 \t [4.43762845 4.57483662 7.         0.94265707 5.         0.33245902]\t 0.9143862631824987\t 0.6476667557756681\t 4.994324927937249\t 4.994324859305992\n",
            "22 \t [4.74151988e-03 7.73535708e+00 9.00000000e+00 8.10214170e-01\n",
            " 7.00000000e+00 8.51111303e-01]\t 0.6741140944144826\t 0.6476667557756681\t 4.791370721912331\t 4.756192096271225\n",
            "23 \t [3.55859061 5.61875163 8.         0.5882063  1.         0.57036163]\t 0.7346535405920693\t 0.6476667557756681\t 4.79055859770072\t 4.79055859770072\n",
            "24 \t [ 0.2594182   8.03698568 14.          0.55642831  5.          0.91542841]\t 0.6724111162410003\t 0.6476667557756681\t 4.724149589121886\t 4.725970768762442\n",
            "25 \t [9.92248648 8.73301847 7.         0.58578431 6.         0.64802898]\t 0.7258609233436316\t 0.6476667557756681\t 4.944587327945452\t 4.988868754347689\n",
            "26 \t [ 0.16863022  2.67389719  9.          0.62610438 15.          0.96408501]\t 0.672888499874982\t 0.6476667557756681\t 4.779947431461189\t 4.779947431461189\n",
            "27 \t [ 5.85240254  2.29607078  6.          0.83156764 14.          0.75611542]\t 0.7093200501398801\t 0.6476667557756681\t 5.0667485655938505\t 5.024376444326593\n",
            "28 \t [ 3.21523099  9.01411529  5.          0.71759952 10.          0.55614635]\t 0.768583852631927\t 0.6476667557756681\t 4.813916259388488\t 4.8115180527027\n",
            "29 \t [ 5.91501296  1.79061927 12.          0.95089632 11.          0.34299477]\t 0.9197610970890002\t 0.6476667557756681\t 4.849759556045388\t 4.849759556045388\n",
            "30 \t [ 2.32893999  0.70568143 10.          0.95982734 18.          0.36824695]\t 0.9166993865744176\t 0.6476667557756681\t 4.711002268678092\t 4.711002268678092\n"
          ]
        },
        {
          "output_type": "execute_result",
          "data": {
            "text/plain": [
              "49047.4697426364"
            ]
          },
          "metadata": {},
          "execution_count": 56
        }
      ]
    },
    {
      "cell_type": "code",
      "metadata": {
        "id": "nAuEsXYbtOnC",
        "colab": {
          "base_uri": "https://localhost:8080/"
        },
        "outputId": "af1a5b56-d0d3-4fa9-ec75-86af04b73765"
      },
      "source": [
        "### Bayesian optimization runs (x20): 'Exact STP ERM' Acquisition Function run number = 14 \n",
        "\n",
        "np.random.seed(run_num_14)\n",
        "surrogate_stp_14 = dtStudentProcess(cov_func, optimize=opt, nu = df)\n",
        "\n",
        "X_train14, X_test14, y_train14, y_test14 = train_test_split(X, y, test_size=test_perc, random_state=run_num_14)\n",
        "\n",
        "def f_syn_polarity14(alpha, gamma, max_depth, subsample, min_child_weight, colsample):\n",
        "    reg = XGBRegressor(reg_alpha=alpha, gamma=gamma, max_depth=int(max_depth), subsample=subsample, min_child_weight=min_child_weight,\n",
        "          colsample_bytree=colsample, n_estimators = n_est, random_state=run_num_14, objective = 'reg:squarederror')\n",
        "    score = np.array(cross_val_score(reg, X=X_train14, y=y_train14).mean())\n",
        "    return operator * score\n",
        "\n",
        "stp_14 = dGPGO_stp(surrogate_stp_14, Acquisition_grad(util_stp), f_syn_polarity14, param, n_jobs = -1) # Define BayesOpt\n",
        "stp_14.run(max_iter = max_iter, init_evals = n_init) # run\n",
        "\n",
        "### Return optimal parameters' set:\n",
        "params_stp_14 = stp_14.getResult()[0]\n",
        "params_stp_14['max_depth'] = int(params_stp_14['max_depth'])\n",
        "params_stp_14['min_child_weight'] = int(params_stp_14['min_child_weight'])\n",
        "\n",
        "### Re-train with optimal parameters, run predictons:\n",
        "dX_stp_train14 = xgb.DMatrix(X_train14, y_train14)\n",
        "dX_stp_test14 = xgb.DMatrix(X_test14, y_test14)\n",
        "model_stp_14 = xgb.train(params_stp_14, dX_stp_train14)\n",
        "pred_stp_14 = model_stp_14.predict(dX_stp_test14)\n",
        "\n",
        "rmse_stp_14 = np.sqrt(mean_squared_error(pred_stp_14, y_test14))\n",
        "rmse_stp_14"
      ],
      "execution_count": null,
      "outputs": [
        {
          "output_type": "stream",
          "name": "stdout",
          "text": [
            "Evaluation \t Proposed point \t  Current eval. \t  Best eval. \t        Exact ERM: StdDev. x \t Approx ERM: StdDev. x \n",
            "init\t [ 5.13943344  7.73165052 12.          0.6831412  11.          0.37876233]\t 0.8139066743222003\t 0.6747866005380063\t    \t    \n",
            "init\t [ 9.57603739  5.13116712 14.          0.76959997 12.          0.71328228]\t 0.6747866005380063\t 0.6747866005380063\t    \t    \n",
            "init\t [5.34950319 2.47493539 5.         0.50293689 6.         0.29706373]\t 0.977412427074478\t 0.6747866005380063\t    \t    \n",
            "init\t [ 2.94506579  3.45329697  8.          0.87620946 14.          0.9783044 ]\t 0.6774024187451972\t 0.6747866005380063\t    \t    \n",
            "init\t [ 1.11811929  1.73004086  5.          0.73745288 12.          0.20586008]\t 1.0197967308919336\t 0.6747866005380063\t    \t    \n",
            "1  \t [ 6.50637223  2.67617722 14.          0.53562507  1.          0.16862152]\t 1.0126649561802825\t 0.6747866005380063\t 4.907514504264498\t 4.832687619434117\n",
            "2  \t [ 5.83528891  2.63149599 12.          0.61005677 19.          0.2879488 ]\t 0.9571856949825378\t 0.6747866005380063\t 4.966868633265424\t 4.970146331498852\n",
            "3  \t [0.07739536 3.94062842 5.         0.7395899  3.         0.9764837 ]\t 0.7245455903141328\t 0.6747866005380063\t 5.06131984441319\t 5.042019352175611\n",
            "4  \t [6.9195004  0.54496332 8.         0.81208598 3.         0.15286338]\t 1.0111604668907606\t 0.6747866005380063\t 4.628549379403512\t 4.628549379403512\n",
            "5  \t [9.99867084 7.44671039 9.         0.55715966 3.         0.32152891]\t 0.9600990595782894\t 0.6747866005380063\t 5.269068535402717\t 5.286191735043179\n",
            "6  \t [ 0.49138495  8.52939618 10.          0.75897738  1.          0.21612775]\t 1.0131910395518218\t 0.6747866005380063\t 4.690275836572842\t 4.74288570876482\n",
            "7  \t [ 6.6877751   9.48200682  5.          0.90861826 11.          0.9411861 ]\t 0.7242608483603965\t 0.6747866005380063\t 4.87741297723407\t 4.7841881281980285\n",
            "\u001b[1m\u001b[92m8\u001b[0m\t \u001b[1m\u001b[92m[ 7.13077184  9.67534636 12.          0.53994085 17.          0.99732292]\u001b[0m\t \u001b[1m\u001b[92m0.6733183778157861\u001b[0m\t \u001b[1m\u001b[92m0.6733183778157861\u001b[0m\t \u001b[1m\u001b[92m4.349195082981296\u001b[0m\t \u001b[1m\u001b[92m4.346169825722408\u001b[0m\n",
            "9  \t [ 4.99777324  7.1255563   5.          0.87428718 19.          0.63814647]\t 0.7320174755578019\t 0.6733183778157861\t 4.985002663845297\t 4.983269141186165\n",
            "10 \t [ 8.90983817  2.82321414  7.          0.66164117 11.          0.64519606]\t 0.697395180788185\t 0.6733183778157861\t 5.066125291351914\t 5.102637311685108\n",
            "\u001b[1m\u001b[92m11\u001b[0m\t \u001b[1m\u001b[92m[ 2.67348935  9.63015736 15.          1.          3.27730534  1.        ]\u001b[0m\t \u001b[1m\u001b[92m0.6494078889322195\u001b[0m\t \u001b[1m\u001b[92m0.6494078889322195\u001b[0m\t \u001b[1m\u001b[92m5.043974717233419\u001b[0m\t \u001b[1m\u001b[92m4.747917316686254\u001b[0m\n",
            "12 \t [ 1.87613733  0.3867672  10.          0.63542614  2.          0.41568093]\t 0.8195578782244798\t 0.6494078889322195\t 4.739841378654152\t 4.739841378654152\n",
            "13 \t [ 9.52967585  8.1936199  11.          0.55796294 10.          0.99729185]\t 0.6733311328695132\t 0.6494078889322195\t 4.957926504221019\t 4.963536728219313\n",
            "14 \t [ 0.14006525  1.03750573 13.          0.72168802 14.          0.72400369]\t 0.67689133219431\t 0.6494078889322195\t 4.776939072354188\t 4.7769393060001555\n",
            "15 \t [ 4.60180761  5.86373927 12.          0.57860802 15.          0.61913601]\t 0.7198975715482087\t 0.6494078889322195\t 4.806955071643006\t 4.806955071643006\n",
            "16 \t [ 6.17398984  7.07288493 12.          0.63300963  8.          0.36188703]\t 0.9625825839575025\t 0.6494078889322195\t 4.752506563938521\t 4.752506563938521\n",
            "17 \t [ 1.36823932  1.07854751  6.          0.59486343 17.          0.76880686]\t 0.7105097809499443\t 0.6494078889322195\t 4.86123051500074\t 4.86123051500074\n",
            "18 \t [1.97879228 8.99345507 8.         0.55562265 8.         0.49118331]\t 0.8134492450677617\t 0.6494078889322195\t 4.467772589624315\t 4.468697186232254\n",
            "19 \t [ 2.09007555  7.86113915 13.          0.73459776 19.          0.32750702]\t 0.9574373954877385\t 0.6494078889322195\t 4.928746603224324\t 4.867916855543945\n",
            "20 \t [ 1.65783574  0.06450124 14.          0.84574925  8.          0.63962887]\t 0.673073219622785\t 0.6494078889322195\t 4.795434721700992\t 4.716591229105105\n",
            "21 \t [4.16561464 4.3151821  6.         0.76299318 2.         0.59049538]\t 0.7439602970032533\t 0.6494078889322195\t 4.741813397488344\t 4.741813397488344\n",
            "22 \t [10. 10. 15.  1. 20.  1.]\t 0.6502979285238808\t 0.6494078889322195\t 5.088123831763017\t 4.79852911237744\n",
            "23 \t [ 7.23492203  5.17054691  8.          0.53461021 18.          0.11544004]\t 1.008805594135994\t 0.6494078889322195\t 4.983307182661672\t 4.983307182661672\n",
            "24 \t [1.12842654 4.49436112 8.         0.68703394 7.         0.83701659]\t 0.6871807270632571\t 0.6494078889322195\t 4.55546276859173\t 4.55546276859173\n",
            "25 \t [ 1.51961568  8.70421801  5.          0.99750159 15.          0.60985883]\t 0.7613941242589393\t 0.6494078889322195\t 4.74756853563095\t 4.732071737906929\n",
            "26 \t [ 5.73005003  1.18628884 13.          0.88016467 12.          0.48547975]\t 0.8109689394932417\t 0.6494078889322195\t 4.2886703313809535\t 4.243030464485343\n",
            "27 \t [8.60914739 9.54673859 7.         0.78963544 7.         0.48348756]\t 0.815291878276993\t 0.6494078889322195\t 4.5632326877166545\t 4.49761736327315\n",
            "28 \t [ 2.62398972  4.9810834  13.          0.9301268   3.          0.39611817]\t 0.8199554258125602\t 0.6494078889322195\t 4.955322854216901\t 4.903400120428339\n",
            "29 \t [ 7.16352089  0.19968156 11.          0.62318898  8.          0.21107406]\t 1.013079448285806\t 0.6494078889322195\t 4.893798696722153\t 4.7743090710600065\n",
            "30 \t [ 4.33442518  0.21201691 11.          0.77606546  3.          0.66988451]\t 0.6762301508489591\t 0.6494078889322195\t 4.596872852428403\t 4.596030551931664\n"
          ]
        },
        {
          "output_type": "execute_result",
          "data": {
            "text/plain": [
              "52576.92115809613"
            ]
          },
          "metadata": {},
          "execution_count": 57
        }
      ]
    },
    {
      "cell_type": "code",
      "metadata": {
        "id": "KgxvE7Irbbj_",
        "colab": {
          "base_uri": "https://localhost:8080/"
        },
        "outputId": "9fcd81f2-ab4e-46a7-bf8c-abd36a5aff2d"
      },
      "source": [
        "### Bayesian optimization runs (x20): 'Exact STP ERM' Acquisition Function run number = 15 \n",
        "\n",
        "np.random.seed(run_num_15)\n",
        "surrogate_stp_15 = dtStudentProcess(cov_func, optimize=opt, nu = df)\n",
        "\n",
        "X_train15, X_test15, y_train15, y_test15 = train_test_split(X, y, test_size=test_perc, random_state=run_num_15)\n",
        "\n",
        "def f_syn_polarity15(alpha, gamma, max_depth, subsample, min_child_weight, colsample):\n",
        "    reg = XGBRegressor(reg_alpha=alpha, gamma=gamma, max_depth=int(max_depth), subsample=subsample, min_child_weight=min_child_weight,\n",
        "          colsample_bytree=colsample, n_estimators = n_est, random_state=run_num_15, objective = 'reg:squarederror')\n",
        "    score = np.array(cross_val_score(reg, X=X_train15, y=y_train15).mean())\n",
        "    return operator * score\n",
        "\n",
        "stp_15 = dGPGO_stp(surrogate_stp_15, Acquisition_grad(util_stp), f_syn_polarity15, param, n_jobs = -1) # Define BayesOpt\n",
        "stp_15.run(max_iter = max_iter, init_evals = n_init) # run\n",
        "\n",
        "### Return optimal parameters' set:\n",
        "params_stp_15 = stp_15.getResult()[0]\n",
        "params_stp_15['max_depth'] = int(params_stp_15['max_depth'])\n",
        "params_stp_15['min_child_weight'] = int(params_stp_15['min_child_weight'])\n",
        "\n",
        "### Re-train with optimal parameters, run predictons:\n",
        "dX_stp_train15 = xgb.DMatrix(X_train15, y_train15)\n",
        "dX_stp_test15 = xgb.DMatrix(X_test15, y_test15)\n",
        "model_stp_15 = xgb.train(params_stp_15, dX_stp_train15)\n",
        "pred_stp_15 = model_stp_15.predict(dX_stp_test15)\n",
        "\n",
        "rmse_stp_15 = np.sqrt(mean_squared_error(pred_stp_15, y_test15))\n",
        "rmse_stp_15"
      ],
      "execution_count": null,
      "outputs": [
        {
          "output_type": "stream",
          "name": "stdout",
          "text": [
            "Evaluation \t Proposed point \t  Current eval. \t  Best eval. \t        Exact ERM: StdDev. x \t Approx ERM: StdDev. x \n",
            "init\t [ 8.48817697  1.78895925 12.          0.55549316  8.          0.93397854]\t 0.6568473525973234\t 0.6568473525973234\t    \t    \n",
            "init\t [ 0.24953032  8.22298097 12.          0.62494951 11.          0.12924598]\t 0.9115777462403312\t 0.6568473525973234\t    \t    \n",
            "init\t [ 5.02017228  5.50882771 11.          0.85295832 19.          0.13548008]\t 0.9091447847268881\t 0.6568473525973234\t    \t    \n",
            "init\t [2.0023081  9.98543403 7.         0.6295772  2.         0.526127  ]\t 0.702826724376194\t 0.6568473525973234\t    \t    \n",
            "init\t [ 5.09715306  9.45038417 11.          0.7388277  16.          0.22739973]\t 0.9107852583947551\t 0.6568473525973234\t    \t    \n",
            "1  \t [ 0.29158961  4.9949242  12.          0.89124583  3.          0.67554049]\t 0.663179402460053\t 0.6568473525973234\t 4.927018687962268\t 4.927018687962268\n",
            "2  \t [2.60517447 0.82584036 7.         0.6107555  4.         0.25427784]\t 0.8585273074032198\t 0.6568473525973234\t 4.622414946883808\t 4.592870063176835\n",
            "3  \t [ 9.6900225   0.69761314 13.          0.54877119 16.          0.55532692]\t 0.676755395441882\t 0.6568473525973234\t 4.868543745942458\t 4.870061177622072\n",
            "4  \t [ 3.00890132  3.25033589  6.          0.76721153 13.          0.286699  ]\t 0.8615658015198442\t 0.6568473525973234\t 5.2075688083844005\t 5.085191877131115\n",
            "5  \t [ 7.00755347  9.83963845  5.          0.51866345 10.          0.95031515]\t 0.730615339433918\t 0.6568473525973234\t 4.751073466991077\t 4.675472277541528\n",
            "6  \t [ 7.93959095  1.14458347 12.          0.83279927 13.          0.31926382]\t 0.8514677232156771\t 0.6568473525973234\t 4.706359354139058\t 4.706359354139058\n",
            "7  \t [ 9.09795503  1.07150197  7.          0.98191679 19.          0.62951892]\t 0.6952220627574484\t 0.6568473525973234\t 5.389316272724194\t 4.997617226530598\n",
            "8  \t [ 8.63880631  5.06396165 13.          0.58410058  1.          0.41865338]\t 0.8085010839601445\t 0.6568473525973234\t 4.996334207055481\t 4.9488399573659185\n",
            "9  \t [8.88449541 3.44367948 6.         0.58829924 7.         0.7864797 ]\t 0.7097411329660293\t 0.6568473525973234\t 5.06039061751815\t 4.840472813681269\n",
            "\u001b[1m\u001b[92m10\u001b[0m\t \u001b[1m\u001b[92m[10.         10.         14.94793326  1.         11.94793326  1.        ]\u001b[0m\t \u001b[1m\u001b[92m0.6463125386249665\u001b[0m\t \u001b[1m\u001b[92m0.6463125386249665\u001b[0m\t \u001b[1m\u001b[92m4.721640092645\u001b[0m\t \u001b[1m\u001b[92m4.587943252428008\u001b[0m\n",
            "11 \t [9.8850401  9.05036452 8.         0.98423572 3.         0.82693955]\t 0.6638601166418586\t 0.6463125386249665\t 4.657984468171147\t 4.593634433763536\n",
            "12 \t [ 9.64496659  9.57963322 10.          0.94492464 10.          0.37804844]\t 0.7837998757691783\t 0.6463125386249665\t 4.750716031563484\t 4.750716470065954\n",
            "13 \t [ 0.90706815  0.79490515  7.          0.51831376 19.          0.91250419]\t 0.6855937848974291\t 0.6463125386249665\t 4.713882298513235\t 4.720226626931325\n",
            "14 \t [10. 10. 15.  1. 20.  1.]\t 0.6491916518522693\t 0.6463125386249665\t 4.923335903349076\t 4.8734162008756625\n",
            "15 \t [ 0.16461509  2.47453913  6.          0.69159787 16.          0.61162096]\t 0.7243032673932515\t 0.6463125386249665\t 4.629869374991699\t 4.638173631113031\n",
            "16 \t [1.58135563 6.14676537 7.         0.58599454 7.         0.37032959]\t 0.8586845884175147\t 0.6463125386249665\t 4.645644632934245\t 4.528114513853701\n",
            "17 \t [4.50435964 1.42883317 8.         0.76583339 3.         0.4306355 ]\t 0.7929882304105694\t 0.6463125386249665\t 4.4734457888415236\t 4.4734457888415236\n",
            "18 \t [ 3.30019767  4.93644704 14.          0.76077125 17.          0.73607537]\t 0.6653785933459865\t 0.6463125386249665\t 5.093784877466741\t 5.093784877466741\n",
            "19 \t [ 9.64875283  9.32176949  8.          0.85263567 19.          0.33410227]\t 0.849585847576698\t 0.6463125386249665\t 4.666838614669621\t 4.666838614669621\n",
            "20 \t [ 5.31037667  6.81676807  5.          0.53020463 18.          0.21260061]\t 0.9149718789671064\t 0.6463125386249665\t 4.775311894419871\t 4.775311894419871\n",
            "21 \t [10.          2.73232205 14.92186549  1.         19.92186549  1.        ]\t 0.6479723881006704\t 0.6463125386249665\t 4.910317061994243\t 4.897889231568857\n",
            "22 \t [ 4.90087649  7.40954674 11.          0.53028779  8.          0.43614982]\t 0.7965594035331703\t 0.6463125386249665\t 5.062354994705515\t 4.935753055290539\n",
            "23 \t [ 1.04966198  1.72140723 11.          0.68060657  8.          0.5044115 ]\t 0.671250212686766\t 0.6463125386249665\t 4.617728020067048\t 4.6075734847911205\n",
            "24 \t [ 9.36080884  1.0313168   5.          0.6330142  14.          0.51274968]\t 0.756031776613528\t 0.6463125386249665\t 4.899477807391922\t 4.909650884380529\n",
            "25 \t [ 1.719002    1.73903169  5.          0.87805761 14.          0.46260902]\t 0.8248486263986295\t 0.6463125386249665\t 4.8805549693149\t 4.8805549693149\n",
            "26 \t [ 6.59000923  9.78665977 14.          0.63113594  1.          0.38899025]\t 0.8070679905812153\t 0.6463125386249665\t 4.736946493708675\t 4.736946493708675\n",
            "27 \t [ 5.05579023  0.09405836  8.          0.93704589 10.          0.9570134 ]\t 0.659126679409869\t 0.6463125386249665\t 4.618803006855513\t 4.616871183393156\n",
            "28 \t [0.         0.70837277 5.         0.5        8.49071851 0.1       ]\t 0.9161068736690398\t 0.6463125386249665\t 4.7911787666121874\t 4.761467681163743\n",
            "29 \t [ 2.27601751  8.37986432  6.          0.63312332 14.          0.21259169]\t 0.9131057510002976\t 0.6463125386249665\t 4.939800731472681\t 4.8751891109345875\n",
            "30 \t [ 5.49283486  0.14349186 11.          0.52303405 19.          0.41411835]\t 0.7943810197692028\t 0.6463125386249665\t 4.871589403995786\t 4.840708235621162\n"
          ]
        },
        {
          "output_type": "execute_result",
          "data": {
            "text/plain": [
              "49563.56629739273"
            ]
          },
          "metadata": {},
          "execution_count": 58
        }
      ]
    },
    {
      "cell_type": "code",
      "metadata": {
        "id": "5TaP6RoGuiNT",
        "colab": {
          "base_uri": "https://localhost:8080/"
        },
        "outputId": "5c9d7f8b-2e43-4fb6-a3fb-0b846e6a5343"
      },
      "source": [
        "### Bayesian optimization runs (x20): 'Exact STP ERM' Acquisition Function run number = 16 \n",
        "\n",
        "np.random.seed(run_num_16)\n",
        "surrogate_stp_16 = dtStudentProcess(cov_func, optimize=opt, nu = df)\n",
        "\n",
        "X_train16, X_test16, y_train16, y_test16 = train_test_split(X, y, test_size=test_perc, random_state=run_num_16)\n",
        "\n",
        "def f_syn_polarity16(alpha, gamma, max_depth, subsample, min_child_weight, colsample):\n",
        "    reg = XGBRegressor(reg_alpha=alpha, gamma=gamma, max_depth=int(max_depth), subsample=subsample, min_child_weight=min_child_weight,\n",
        "          colsample_bytree=colsample, n_estimators = n_est, random_state=run_num_16, objective = 'reg:squarederror')\n",
        "    score = np.array(cross_val_score(reg, X=X_train16, y=y_train16).mean())\n",
        "    return operator * score\n",
        "\n",
        "stp_16 = dGPGO_stp(surrogate_stp_16, Acquisition_grad(util_stp), f_syn_polarity16, param, n_jobs = -1) # Define BayesOpt\n",
        "stp_16.run(max_iter = max_iter, init_evals = n_init) # run\n",
        "\n",
        "### Return optimal parameters' set:\n",
        "params_stp_16 = stp_16.getResult()[0]\n",
        "params_stp_16['max_depth'] = int(params_stp_16['max_depth'])\n",
        "params_stp_16['min_child_weight'] = int(params_stp_16['min_child_weight'])\n",
        "\n",
        "### Re-train with optimal parameters, run predictons:\n",
        "dX_stp_train16 = xgb.DMatrix(X_train16, y_train16)\n",
        "dX_stp_test16 = xgb.DMatrix(X_test16, y_test16)\n",
        "model_stp_16 = xgb.train(params_stp_16, dX_stp_train16)\n",
        "pred_stp_16 = model_stp_16.predict(dX_stp_test16)\n",
        "\n",
        "rmse_stp_16 = np.sqrt(mean_squared_error(pred_stp_16, y_test16))\n",
        "rmse_stp_16"
      ],
      "execution_count": null,
      "outputs": [
        {
          "output_type": "stream",
          "name": "stdout",
          "text": [
            "Evaluation \t Proposed point \t  Current eval. \t  Best eval. \t        Exact ERM: StdDev. x \t Approx ERM: StdDev. x \n",
            "init\t [2.23291079 5.23163341 6.         0.65430839 5.         0.30077285]\t 0.9529819347295859\t 0.8883829281923242\t    \t    \n",
            "init\t [6.88726162 1.63731425 7.         0.97050543 2.         0.25392012]\t 0.9481041389252269\t 0.8883829281923242\t    \t    \n",
            "init\t [ 5.94328983  5.6393473   5.          0.67602695 19.          0.42538144]\t 0.8883829281923242\t 0.8883829281923242\t    \t    \n",
            "init\t [ 0.88741148  3.08148142 14.          0.56043938  9.          0.27515386]\t 0.9564077542414676\t 0.8883829281923242\t    \t    \n",
            "init\t [ 2.74631586  1.30996118 11.          0.52160786  8.          0.27956463]\t 0.9552184743546004\t 0.8883829281923242\t    \t    \n",
            "\u001b[1m\u001b[92m1\u001b[0m\t \u001b[1m\u001b[92m[ 7.8937256   1.5972923  14.          0.61610774 17.          0.78739284]\u001b[0m\t \u001b[1m\u001b[92m0.6878693399983744\u001b[0m\t \u001b[1m\u001b[92m0.6878693399983744\u001b[0m\t \u001b[1m\u001b[92m4.911758621684175\u001b[0m\t \u001b[1m\u001b[92m4.960305036329843\u001b[0m\n",
            "2  \t [ 9.65014948  7.07834667 14.          0.88748515  2.          0.43513691]\t 0.8747438848890932\t 0.6878693399983744\t 4.979843798079749\t 4.93898809943277\n",
            "3  \t [ 9.80741348  8.90144788 14.          0.82131992 14.          0.46769684]\t 0.8608053593354814\t 0.6878693399983744\t 4.55473807857031\t 4.53761730744678\n",
            "4  \t [ 0.78730688  7.98438553 14.          0.91743896 18.          0.25645593]\t 0.9494553422981233\t 0.6878693399983744\t 4.903499936358715\t 4.9805469884168385\n",
            "5  \t [ 1.64983341  0.37890577  9.          0.65437216 16.          0.49641159]\t 0.8646755374886521\t 0.6878693399983744\t 4.662825464747511\t 4.655481049057848\n",
            "6  \t [ 5.58043809  8.91463745  8.          0.85851576 10.          0.64398202]\t 0.7307340308882677\t 0.6878693399983744\t 4.794191430135645\t 4.7857063496965875\n",
            "7  \t [ 2.65571666  4.32529089 14.          0.66921971  2.          0.36607383]\t 0.9623426051674955\t 0.6878693399983744\t 4.98600047882927\t 4.976876194719272\n",
            "8  \t [ 5.53392197  2.00879238  6.          0.89871466 12.          0.67694144]\t 0.7620148611738933\t 0.6878693399983744\t 4.791375054559065\t 4.766472760625174\n",
            "\u001b[1m\u001b[92m9\u001b[0m\t \u001b[1m\u001b[92m[6.95801625 9.13555009 8.         0.87520198 2.         0.98461662]\u001b[0m\t \u001b[1m\u001b[92m0.6730441336589406\u001b[0m\t \u001b[1m\u001b[92m0.6730441336589406\u001b[0m\t \u001b[1m\u001b[92m5.205175131434071\u001b[0m\t \u001b[1m\u001b[92m5.201669294424651\u001b[0m\n",
            "10 \t [ 8.77492053  6.74985642  5.          0.72525183 13.          0.93231357]\t 0.7199718018091047\t 0.6730441336589406\t 4.72053727932177\t 4.746050148402964\n",
            "11 \t [ 3.92379693  5.26427008  7.          0.52294127 13.          0.66328071]\t 0.7482193144353987\t 0.6730441336589406\t 5.204827134718972\t 5.204827134718972\n",
            "12 \t [ 8.8197294   2.64777319 14.          0.98646567 10.          0.63786085]\t 0.7141008345477899\t 0.6730441336589406\t 5.119063229094407\t 5.109548997444756\n",
            "13 \t [0.  0.  5.  0.5 1.  0.1]\t 0.9761208022264058\t 0.6730441336589406\t 4.5322044130434405\t 4.685973784970085\n",
            "14 \t [ 5.41155711  5.82534705 10.          0.62444801 12.          0.48368067]\t 0.8667049733212127\t 0.6730441336589406\t 4.4401340530539075\t 4.4401340530539075\n",
            "15 \t [ 3.80611843  6.00578786 13.          0.99755611 17.          0.8390553 ]\t 0.674115404745782\t 0.6730441336589406\t 4.732525983564788\t 4.732525983564788\n",
            "16 \t [ 5.73702737  7.50903876 13.          0.61487351 15.          0.57742278]\t 0.7778153254020743\t 0.6730441336589406\t 5.115396035318225\t 5.115396301530041\n",
            "17 \t [ 0.21149048  9.62450412 13.          0.59110309 11.          0.7784724 ]\t 0.6874818585611984\t 0.6730441336589406\t 4.694201672612894\t 4.701989485165144\n",
            "18 \t [ 9.56839048  0.13416862 13.          0.80729993  3.          0.41100156]\t 0.8703303423168164\t 0.6730441336589406\t 4.845490293843873\t 4.862295411636066\n",
            "19 \t [ 9.86485549  9.03746465 10.          0.52506306 19.          0.37580875]\t 0.8664298555004347\t 0.6730441336589406\t 4.7263203523614346\t 4.6625346154639855\n",
            "20 \t [8.75370971 6.63075821 5.         0.51315816 7.         0.52603065]\t 0.8073058384557079\t 0.6730441336589406\t 4.963800300292559\t 4.970531736861287\n",
            "21 \t [ 9.56073795  5.10603834 10.          0.97339183  6.          0.73852605]\t 0.7185412612177071\t 0.6730441336589406\t 4.93731018854246\t 4.925350376623653\n",
            "22 \t [ 9.03366199  7.80955039  7.          0.58807038 16.          0.37530235]\t 0.8718032531648561\t 0.6730441336589406\t 5.00186782218883\t 5.00186782218883\n",
            "23 \t [ 1.30643471  9.21858448  9.          0.51787301 19.          0.17653473]\t 0.9732754583939892\t 0.6730441336589406\t 5.061338266112503\t 5.078914034794998\n",
            "\u001b[1m\u001b[92m24\u001b[0m\t \u001b[1m\u001b[92m[ 2.91558366  9.40302939 14.          0.60718476  6.          0.89915876]\u001b[0m\t \u001b[1m\u001b[92m0.6633813585457923\u001b[0m\t \u001b[1m\u001b[92m0.6633813585457923\u001b[0m\t \u001b[1m\u001b[92m4.667154178398182\u001b[0m\t \u001b[1m\u001b[92m4.664458959039679\u001b[0m\n",
            "\u001b[1m\u001b[92m25\u001b[0m\t \u001b[1m\u001b[92m[ 1.2601232   9.9585863  10.          0.70525992  2.          0.9880166 ]\u001b[0m\t \u001b[1m\u001b[92m0.6631852367566748\u001b[0m\t \u001b[1m\u001b[92m0.6631852367566748\u001b[0m\t \u001b[1m\u001b[92m4.64300557288338\u001b[0m\t \u001b[1m\u001b[92m4.646023367980132\u001b[0m\n",
            "26 \t [ 3.73420217  8.22730904 13.          0.84562785  9.          0.47506411]\t 0.8623919725421392\t 0.6631852367566748\t 4.79169232700314\t 4.793218728919398\n",
            "27 \t [ 3.87907908  1.7609891  11.          0.72159537 13.          0.66065913]\t 0.7206151175283746\t 0.6631852367566748\t 4.69890617712118\t 4.7005833154723895\n",
            "28 \t [1.37294589 2.61228134 9.         0.89667199 1.         0.42044841]\t 0.8676686566935652\t 0.6631852367566748\t 4.901097582551108\t 4.901771908531478\n",
            "29 \t [ 1.58467279  1.68272877 13.          0.86101343 12.          0.4100987 ]\t 0.8613126520852274\t 0.6631852367566748\t 4.776943868552407\t 4.776943868552407\n",
            "\u001b[1m\u001b[92m30\u001b[0m\t \u001b[1m\u001b[92m[10. 10. 15.  1. 20.  1.]\u001b[0m\t \u001b[1m\u001b[92m0.6493784945243817\u001b[0m\t \u001b[1m\u001b[92m0.6493784945243817\u001b[0m\t \u001b[1m\u001b[92m5.1083863913132515\u001b[0m\t \u001b[1m\u001b[92m4.868576097444952\u001b[0m\n"
          ]
        },
        {
          "output_type": "execute_result",
          "data": {
            "text/plain": [
              "50307.652362955014"
            ]
          },
          "metadata": {},
          "execution_count": 59
        }
      ]
    },
    {
      "cell_type": "code",
      "metadata": {
        "id": "NiOaMUmgulbx",
        "colab": {
          "base_uri": "https://localhost:8080/"
        },
        "outputId": "dc2cb4e1-e3f4-402c-f20e-2db38ca8c105"
      },
      "source": [
        "### Bayesian optimization runs (x20): 'Exact STP ERM' Acquisition Function run number = 17 \n",
        "\n",
        "np.random.seed(run_num_17)\n",
        "surrogate_stp_17 = dtStudentProcess(cov_func, optimize=opt, nu = df)\n",
        "\n",
        "X_train17, X_test17, y_train17, y_test17 = train_test_split(X, y, test_size=test_perc, random_state=run_num_17)\n",
        "\n",
        "def f_syn_polarity17(alpha, gamma, max_depth, subsample, min_child_weight, colsample):\n",
        "    reg = XGBRegressor(reg_alpha=alpha, gamma=gamma, max_depth=int(max_depth), subsample=subsample, min_child_weight=min_child_weight,\n",
        "          colsample_bytree=colsample, n_estimators = n_est, random_state=run_num_17, objective = 'reg:squarederror')\n",
        "    score = np.array(cross_val_score(reg, X=X_train17, y=y_train17).mean())\n",
        "    return operator * score\n",
        "\n",
        "stp_17 = dGPGO_stp(surrogate_stp_17, Acquisition_grad(util_stp), f_syn_polarity17, param, n_jobs = -1) # Define BayesOpt\n",
        "stp_17.run(max_iter = max_iter, init_evals = n_init) # run\n",
        "\n",
        "### Return optimal parameters' set:\n",
        "params_stp_17 = stp_17.getResult()[0]\n",
        "params_stp_17['max_depth'] = int(params_stp_17['max_depth'])\n",
        "params_stp_17['min_child_weight'] = int(params_stp_17['min_child_weight'])\n",
        "\n",
        "### Re-train with optimal parameters, run predictons:\n",
        "dX_stp_train17 = xgb.DMatrix(X_train17, y_train17)\n",
        "dX_stp_test17 = xgb.DMatrix(X_test17, y_test17)\n",
        "model_stp_17 = xgb.train(params_stp_17, dX_stp_train17)\n",
        "pred_stp_17 = model_stp_17.predict(dX_stp_test17)\n",
        "\n",
        "rmse_stp_17 = np.sqrt(mean_squared_error(pred_stp_17, y_test17))\n",
        "rmse_stp_17"
      ],
      "execution_count": null,
      "outputs": [
        {
          "output_type": "stream",
          "name": "stdout",
          "text": [
            "Evaluation \t Proposed point \t  Current eval. \t  Best eval. \t        Exact ERM: StdDev. x \t Approx ERM: StdDev. x \n",
            "init\t [ 2.94665003  5.30586756 11.          0.94443241 14.          0.80828691]\t 0.7141038418197827\t 0.7141038418197827\t    \t    \n",
            "init\t [ 6.56333522  6.37520896 12.          0.81487881 18.          0.42203224]\t 0.8024876355160464\t 0.7141038418197827\t    \t    \n",
            "init\t [ 9.45683187  0.6004468  11.          0.5171566  10.          0.53881211]\t 0.7659849712152795\t 0.7141038418197827\t    \t    \n",
            "init\t [2.72705857 1.19063434 6.         0.74176431 6.         0.10101151]\t 0.9684453836634761\t 0.7141038418197827\t    \t    \n",
            "init\t [ 4.77631812  5.24671297 13.          0.66254476 19.          0.36708086]\t 0.8556892362199922\t 0.7141038418197827\t    \t    \n",
            "1  \t [ 0.65702322  5.79284078 13.          0.75136902  1.          0.30306068]\t 0.86898292288902\t 0.7141038418197827\t 4.752463248642172\t 4.65894138692907\n",
            "2  \t [8.79462978 7.51560605 6.         0.76312232 8.         0.57156636]\t 0.778300364354035\t 0.7141038418197827\t 4.428778355705293\t 4.44097787661297\n",
            "3  \t [0.65992542 7.03112384 5.         0.85138174 1.         0.9514344 ]\t 0.726434848802118\t 0.7141038418197827\t 4.974941769431432\t 4.876319416192386\n",
            "4  \t [ 9.51671323  9.6124566  13.          0.71797221  5.          0.16581182]\t 0.9672674042711217\t 0.7141038418197827\t 4.682243972127417\t 4.663873656769177\n",
            "5  \t [ 9.17797544  5.99568118  6.          0.52445603 15.          0.40946449]\t 0.826366430225874\t 0.7141038418197827\t 4.950332823960869\t 4.8717229330209735\n",
            "6  \t [ 6.81284184  2.29577018  7.          0.5239727  13.          0.33920765]\t 0.8659399691320455\t 0.7141038418197827\t 5.126806058518685\t 5.060981976021477\n",
            "7  \t [ 2.46339402  0.14039019 14.          0.95096219  7.          0.5441132 ]\t 0.7563633439329396\t 0.7141038418197827\t 5.26969778070293\t 5.117920472533915\n",
            "8  \t [9.72843652 3.88893279 9.         0.6901555  1.         0.31608219]\t 0.861798864893942\t 0.7141038418197827\t 4.8016768595692385\t 4.871215123075328\n",
            "9  \t [9.85206608 0.28191822 5.         0.52457928 8.         0.84714334]\t 0.7819517369688569\t 0.7141038418197827\t 4.767069397528274\t 4.748437543694275\n",
            "10 \t [ 0.2191332   8.51773955  5.          0.60657578 15.          0.49735822]\t 0.8316281392969092\t 0.7141038418197827\t 4.949546716284557\t 4.815668717065072\n",
            "11 \t [ 0.19725752  8.16335211 14.          0.80836431  8.          0.45209851]\t 0.8069651446453449\t 0.7141038418197827\t 4.876317910783426\t 4.745032537464366\n",
            "12 \t [0.95504342 7.30424524 8.         0.76682007 6.         0.21761275]\t 0.9667342747401506\t 0.7141038418197827\t 4.900764338104921\t 4.909687424386772\n",
            "\u001b[1m\u001b[92m13\u001b[0m\t \u001b[1m\u001b[92m[10.         10.         15.          1.         17.20867128  1.        ]\u001b[0m\t \u001b[1m\u001b[92m0.6462975059517682\u001b[0m\t \u001b[1m\u001b[92m0.6462975059517682\u001b[0m\t \u001b[1m\u001b[92m4.802759983962688\u001b[0m\t \u001b[1m\u001b[92m4.654337292093547\u001b[0m\n",
            "14 \t [ 7.35111323  4.42247898 14.          0.92954426  7.          0.31778445]\t 0.8561431043387969\t 0.6462975059517682\t 4.631583869100895\t 4.59025459130721\n",
            "15 \t [ 4.97204887  2.40072226  5.          0.54268748 19.          0.30995407]\t 0.8751160002928657\t 0.6462975059517682\t 4.7573056061740795\t 4.699166341663718\n",
            "16 \t [ 5.22074709  0.74229772 13.          0.87455275  7.          0.44305495]\t 0.8053149455389029\t 0.6462975059517682\t 4.569260772502229\t 4.569458975328855\n",
            "17 \t [4.28909467 2.95396152 7.         0.61833417 1.         0.26051641]\t 0.8651717443623994\t 0.6462975059517682\t 4.862940886933837\t 4.757395399425464\n",
            "18 \t [ 4.89792246 10.          7.75863264  1.         17.75863264  1.        ]\t 0.675296473350069\t 0.6462975059517682\t 4.806517142499276\t 4.7610343812086136\n",
            "19 \t [ 4.97292776  1.20431154 12.          0.66041686 13.          0.76932779]\t 0.7197765289730202\t 0.6462975059517682\t 4.848648699133192\t 4.848648699133192\n",
            "20 \t [ 8.57333797  0.94219501 14.          0.51089969  3.          0.1953435 ]\t 0.9742874478076378\t 0.6462975059517682\t 5.147689460657002\t 5.126297849055309\n",
            "21 \t [ 4.48878711  5.49356507 14.          0.56680442 14.          0.88105297]\t 0.6678102642866967\t 0.6462975059517682\t 5.112492837346613\t 5.112492837346613\n",
            "\u001b[1m\u001b[92m22\u001b[0m\t \u001b[1m\u001b[92m[ 6.07236319  9.81992716 15.          1.         10.76449502  1.        ]\u001b[0m\t \u001b[1m\u001b[92m0.6451990768641908\u001b[0m\t \u001b[1m\u001b[92m0.6451990768641908\u001b[0m\t \u001b[1m\u001b[92m4.9720464253232945\u001b[0m\t \u001b[1m\u001b[92m4.910200142987172\u001b[0m\n",
            "23 \t [ 5.18644121  9.97216159 13.          0.51656015 15.          0.59837352]\t 0.7660042630046296\t 0.6451990768641908\t 5.1256749694939705\t 5.1256748665165315\n",
            "24 \t [9.30371298 5.41042714 5.         0.80825473 7.         0.72790994]\t 0.775406840278715\t 0.6451990768641908\t 4.4464037749812535\t 4.4464037749812535\n",
            "25 \t [ 0.13287937  9.19770254 14.          0.75778617 16.          0.92734937]\t 0.6527026234014134\t 0.6451990768641908\t 5.138212221332159\t 4.90711408065574\n",
            "26 \t [ 8.35560958  6.49504743 11.          0.90882708 12.          0.40676904]\t 0.8022669136645764\t 0.6451990768641908\t 4.447124648870201\t 4.461567545136589\n",
            "27 \t [ 5.48379726  6.58855631  5.          0.91493075 18.          0.89669113]\t 0.7275389527778259\t 0.6451990768641908\t 4.946952068296352\t 4.948132250958612\n",
            "28 \t [ 4.55919043  8.6591134   6.          0.8884863  12.          0.96165246]\t 0.7009533648321409\t 0.6451990768641908\t 4.845021654365892\t 4.888471916255189\n",
            "29 \t [ 7.57643221  2.75634527 14.          0.54972325 18.          0.56026463]\t 0.7646380284813412\t 0.6451990768641908\t 5.1919368506546935\t 5.19193703135709\n",
            "30 \t [ 3.17187998  4.13355162  8.          0.8657932  13.          0.82446402]\t 0.7247998938700702\t 0.6451990768641908\t 4.809494188241973\t 4.809494188241973\n"
          ]
        },
        {
          "output_type": "execute_result",
          "data": {
            "text/plain": [
              "48181.79061276722"
            ]
          },
          "metadata": {},
          "execution_count": 60
        }
      ]
    },
    {
      "cell_type": "code",
      "metadata": {
        "id": "5H4MWSXFcZjO",
        "colab": {
          "base_uri": "https://localhost:8080/"
        },
        "outputId": "057276b5-a28b-439e-f9c0-17a723ddae60"
      },
      "source": [
        "### Bayesian optimization runs (x20): 'Exact STP ERM' Acquisition Function run number = 18 \n",
        "\n",
        "np.random.seed(run_num_18)\n",
        "surrogate_stp_18 = dtStudentProcess(cov_func, optimize=opt, nu = df)\n",
        "\n",
        "X_train18, X_test18, y_train18, y_test18 = train_test_split(X, y, test_size=test_perc, random_state=run_num_18)\n",
        "\n",
        "def f_syn_polarity18(alpha, gamma, max_depth, subsample, min_child_weight, colsample):\n",
        "    reg = XGBRegressor(reg_alpha=alpha, gamma=gamma, max_depth=int(max_depth), subsample=subsample, min_child_weight=min_child_weight,\n",
        "          colsample_bytree=colsample, n_estimators = n_est, random_state=run_num_18, objective = 'reg:squarederror')\n",
        "    score = np.array(cross_val_score(reg, X=X_train18, y=y_train18).mean())\n",
        "    return operator * score\n",
        "\n",
        "stp_18 = dGPGO_stp(surrogate_stp_18, Acquisition_grad(util_stp), f_syn_polarity18, param, n_jobs = -1) # Define BayesOpt\n",
        "stp_18.run(max_iter = max_iter, init_evals = n_init) # run\n",
        "\n",
        "### Return optimal parameters' set:\n",
        "params_stp_18 = stp_18.getResult()[0]\n",
        "params_stp_18['max_depth'] = int(params_stp_18['max_depth'])\n",
        "params_stp_18['min_child_weight'] = int(params_stp_18['min_child_weight'])\n",
        "\n",
        "### Re-train with optimal parameters, run predictons:\n",
        "dX_stp_train18 = xgb.DMatrix(X_train18, y_train18)\n",
        "dX_stp_test18 = xgb.DMatrix(X_test18, y_test18)\n",
        "model_stp_18 = xgb.train(params_stp_18, dX_stp_train18)\n",
        "pred_stp_18 = model_stp_18.predict(dX_stp_test18)\n",
        "\n",
        "rmse_stp_18 = np.sqrt(mean_squared_error(pred_stp_18, y_test18))\n",
        "rmse_stp_18"
      ],
      "execution_count": null,
      "outputs": [
        {
          "output_type": "stream",
          "name": "stdout",
          "text": [
            "Evaluation \t Proposed point \t  Current eval. \t  Best eval. \t        Exact ERM: StdDev. x \t Approx ERM: StdDev. x \n",
            "init\t [6.50374242 5.05453374 6.         0.59092011 3.         0.28357516]\t 0.9953081887469889\t 0.7220763687473127\t    \t    \n",
            "init\t [0.11506734 4.26891483 9.         0.81785956 5.         0.63489043]\t 0.7220763687473127\t 0.7220763687473127\t    \t    \n",
            "init\t [ 2.8861259   6.35547834 11.          0.64267955 14.          0.27877092]\t 0.9889075947558364\t 0.7220763687473127\t    \t    \n",
            "init\t [6.57189031 6.99655629 8.         0.63235896 4.         0.52894035]\t 0.7606594495187335\t 0.7220763687473127\t    \t    \n",
            "init\t [ 6.66600348  2.11312037 14.          0.74363461  4.          0.73174558]\t 0.7225304513182221\t 0.7220763687473127\t    \t    \n",
            "1  \t [ 8.67093232  0.11649132  5.          0.92962202 15.          0.53672863]\t 0.8181138208820815\t 0.7220763687473127\t 4.6961264000480245\t 4.641340497832633\n",
            "\u001b[1m\u001b[92m2\u001b[0m\t \u001b[1m\u001b[92m[10.          9.20775036 15.          1.         11.19712219  1.        ]\u001b[0m\t \u001b[1m\u001b[92m0.6430021390685138\u001b[0m\t \u001b[1m\u001b[92m0.6430021390685138\u001b[0m\t \u001b[1m\u001b[92m5.294028730030332\u001b[0m\t \u001b[1m\u001b[92m5.195431743110158\u001b[0m\n",
            "3  \t [ 9.73276592  4.33279761 10.          0.71324    18.          0.20825635]\t 1.0032478680346943\t 0.6430021390685138\t 4.543562695882186\t 4.577359452277705\n",
            "4  \t [ 8.75973966  9.82329124  5.          0.53071358 10.          0.36963631]\t 0.9980169308427342\t 0.6430021390685138\t 5.005883292177661\t 5.074926449089718\n",
            "5  \t [ 9.98394208  8.5932438  14.          0.75596751 19.          0.64506065]\t 0.7153197782842456\t 0.6430021390685138\t 5.090759666912007\t 5.090759552022041\n",
            "6  \t [ 6.79595692  7.93947545  5.          0.67208024 18.          0.4521055 ]\t 0.9008535104045862\t 0.6430021390685138\t 5.179157411802099\t 5.289880779561204\n",
            "7  \t [3.28907983 0.32007134 5.         0.82737078 1.         0.19815427]\t 1.0120318552286456\t 0.6430021390685138\t 4.668000278287959\t 4.669527581183188\n",
            "8  \t [ 1.24316399  9.43141312 14.          0.66900118  7.          0.55235225]\t 0.745004296865836\t 0.6430021390685138\t 4.708828682121243\t 4.661404247778317\n",
            "9  \t [ 2.23113902  0.01922131 12.          0.79543463 18.          0.19646488]\t 1.001968930279911\t 0.6430021390685138\t 5.358469914218863\t 5.226237416814074\n",
            "10 \t [ 1.39180663  0.94255352  5.          0.5        14.0831317   0.1       ]\t 1.016751521143701\t 0.6430021390685138\t 4.7028079230200825\t 4.765659165093191\n",
            "11 \t [2.26673282 9.18109909 5.         0.89654818 1.         0.23064839]\t 1.0135085581422132\t 0.6430021390685138\t 4.692339343840952\t 4.687848503739819\n",
            "12 \t [ 3.09522647  6.97119948 14.          0.63850148  1.          0.54769428]\t 0.7593781021734818\t 0.6430021390685138\t 4.671695015334596\t 4.57144458188469\n",
            "13 \t [10.         10.          8.96189557  1.         14.96189557  1.        ]\t 0.663377805190321\t 0.6430021390685138\t 4.679185161801131\t 4.629534647202192\n",
            "14 \t [ 9.17553299  1.41421886 11.          0.77317761 11.          0.82263086]\t 0.6736743474910011\t 0.6430021390685138\t 4.7374796272603\t 4.670752293119984\n",
            "15 \t [0.73985165 0.58861565 5.         0.76246476 8.         0.22502929]\t 1.011956540988281\t 0.6430021390685138\t 4.72786953854012\t 4.698675044004964\n",
            "16 \t [ 0.21200191  9.95034596  6.          0.77719285 19.          0.61346381]\t 0.7917438451600965\t 0.6430021390685138\t 4.962739682585127\t 4.935038206701572\n",
            "17 \t [9.98273363 0.40807687 5.         0.58049551 4.         0.30262691]\t 0.9970945517723454\t 0.6430021390685138\t 5.0212093089937975\t 4.871557060897103\n",
            "18 \t [ 7.49379106  4.28777418 12.          0.51562956  7.          0.83771026]\t 0.6902334466391202\t 0.6430021390685138\t 4.897810503159399\t 4.897810503159399\n",
            "19 \t [9.2798599  7.10759547 6.         0.7926243  1.         0.10786223]\t 1.0088210680321927\t 0.6430021390685138\t 4.844507600207575\t 4.844507600207575\n",
            "20 \t [ 2.76899542  3.95112357  8.          0.68989555 17.          0.45648964]\t 0.8469938115494976\t 0.6430021390685138\t 4.846645706705054\t 4.848332849109349\n",
            "21 \t [ 1.2588084   9.80413977  5.          0.75618546 12.          0.53020258]\t 0.8196793624782129\t 0.6430021390685138\t 4.994437396484876\t 4.9942401390764335\n",
            "22 \t [ 4.52625472  6.1466137  15.          1.         20.          1.        ]\t 0.6430322328902018\t 0.6430021390685138\t 4.6286914256477925\t 4.564434785883916\n",
            "23 \t [ 9.53885612  7.77476011 11.          0.72419664  1.          0.36894154]\t 0.9966950049469988\t 0.6430021390685138\t 4.8592643125401525\t 4.843903369717401\n",
            "24 \t [ 6.53986112  7.86486911  8.          0.51123614 12.          0.99656982]\t 0.6770117185241518\t 0.6430021390685138\t 5.081889381838381\t 5.081889381838381\n",
            "25 \t [ 0.58971199  1.10190062 11.          0.65725563 12.          0.9091195 ]\t 0.6564060234815495\t 0.6430021390685138\t 4.411337150180544\t 4.356199981560194\n",
            "26 \t [ 0.40678625  1.26787537  5.          0.70261051 12.          0.55749237]\t 0.8194429585323096\t 0.6430021390685138\t 4.8652305565290535\t 4.8652305565290535\n",
            "27 \t [ 2.61804656  1.63569751 10.          0.63241032  1.          0.28443324]\t 0.9978409265559002\t 0.6430021390685138\t 5.3784443156436375\t 5.446777779176629\n",
            "28 \t [ 0.21959499  5.23035289 12.          0.91796248  7.          0.20873253]\t 1.003549466667358\t 0.6430021390685138\t 4.2262149087481164\t 4.2262149087481164\n",
            "29 \t [9.31614024 4.63885987 7.         0.54659744 6.         0.74814245]\t 0.7575197707232916\t 0.6430021390685138\t 4.9303782979343005\t 4.9303782979343005\n",
            "30 \t [ 5.9265347   0.36590014 12.          0.80067771 15.          0.64080372]\t 0.7128216181811142\t 0.6430021390685138\t 5.1176493387459985\t 5.123626280936294\n"
          ]
        },
        {
          "output_type": "execute_result",
          "data": {
            "text/plain": [
              "47741.442886593046"
            ]
          },
          "metadata": {},
          "execution_count": 61
        }
      ]
    },
    {
      "cell_type": "code",
      "metadata": {
        "id": "B-zaPbk2uuzH",
        "colab": {
          "base_uri": "https://localhost:8080/"
        },
        "outputId": "b1da8c2f-2aeb-45cb-bbbb-9df1b2135340"
      },
      "source": [
        "### Bayesian optimization runs (x20): 'Exact STP ERM' Acquisition Function run number = 19 \n",
        "\n",
        "np.random.seed(run_num_19)\n",
        "surrogate_stp_19 = dtStudentProcess(cov_func, optimize=opt, nu = df)\n",
        "\n",
        "X_train19, X_test19, y_train19, y_test19 = train_test_split(X, y, test_size=test_perc, random_state=run_num_19)\n",
        "\n",
        "def f_syn_polarity19(alpha, gamma, max_depth, subsample, min_child_weight, colsample):\n",
        "    reg = XGBRegressor(reg_alpha=alpha, gamma=gamma, max_depth=int(max_depth), subsample=subsample, min_child_weight=min_child_weight,\n",
        "          colsample_bytree=colsample, n_estimators = n_est, random_state=run_num_19, objective = 'reg:squarederror')\n",
        "    score = np.array(cross_val_score(reg, X=X_train19, y=y_train19).mean())\n",
        "    return operator * score\n",
        "\n",
        "stp_19 = dGPGO_stp(surrogate_stp_19, Acquisition_grad(util_stp), f_syn_polarity19, param, n_jobs = -1) # Define BayesOpt\n",
        "stp_19.run(max_iter = max_iter, init_evals = n_init) # run\n",
        "\n",
        "### Return optimal parameters' set:\n",
        "params_stp_19 = stp_19.getResult()[0]\n",
        "params_stp_19['max_depth'] = int(params_stp_19['max_depth'])\n",
        "params_stp_19['min_child_weight'] = int(params_stp_19['min_child_weight'])\n",
        "\n",
        "### Re-train with optimal parameters, run predictons:\n",
        "dX_stp_train19 = xgb.DMatrix(X_train19, y_train19)\n",
        "dX_stp_test19 = xgb.DMatrix(X_test19, y_test19)\n",
        "model_stp_19 = xgb.train(params_stp_19, dX_stp_train19)\n",
        "pred_stp_19 = model_stp_19.predict(dX_stp_test19)\n",
        "\n",
        "rmse_stp_19 = np.sqrt(mean_squared_error(pred_stp_19, y_test19))\n",
        "rmse_stp_19"
      ],
      "execution_count": null,
      "outputs": [
        {
          "output_type": "stream",
          "name": "stdout",
          "text": [
            "Evaluation \t Proposed point \t  Current eval. \t  Best eval. \t        Exact ERM: StdDev. x \t Approx ERM: StdDev. x \n",
            "init\t [ 0.97533602  7.61249717 13.          0.85765469 11.          0.39830191]\t 0.7381578397530673\t 0.7295721630591281\t    \t    \n",
            "init\t [ 0.82999565  6.71977081  6.          0.50407413 19.          0.67209466]\t 0.7470234185181706\t 0.7295721630591281\t    \t    \n",
            "init\t [ 2.15923256  5.49027432 12.          0.52588686 10.          0.20235326]\t 1.018052265694813\t 0.7295721630591281\t    \t    \n",
            "init\t [4.99659267 1.52108422 6.         0.73481085 4.         0.71949465]\t 0.7455570460653044\t 0.7295721630591281\t    \t    \n",
            "init\t [ 3.72927156  9.46160045  5.          0.80554614 18.          0.97708466]\t 0.7295721630591281\t 0.7295721630591281\t    \t    \n",
            "\u001b[1m\u001b[92m1\u001b[0m\t \u001b[1m\u001b[92m[ 8.33060043  1.42030563  8.          0.92863724 14.          0.78606141]\u001b[0m\t \u001b[1m\u001b[92m0.6773838424850286\u001b[0m\t \u001b[1m\u001b[92m0.6773838424850286\u001b[0m\t \u001b[1m\u001b[92m5.028453734696504\u001b[0m\t \u001b[1m\u001b[92m4.912262116630544\u001b[0m\n",
            "2  \t [ 9.87536409  7.17591217 14.          0.99713522 17.          0.55460731]\t 0.7019341665321482\t 0.6773838424850286\t 4.7062060736492795\t 4.719367987283077\n",
            "3  \t [ 9.05225624  3.60011377 14.          0.89518364  1.          0.11342054]\t 1.0199606306890758\t 0.6773838424850286\t 5.097263140728267\t 5.017839948575538\n",
            "4  \t [ 0.63994078  3.71351436 14.          0.60091862  1.          0.58598556]\t 0.7327508164518542\t 0.6773838424850286\t 4.646475763882308\t 4.655955825370009\n",
            "5  \t [4.99125702 9.50308409 8.         0.55828329 3.         0.34673953]\t 0.8626234515673594\t 0.6773838424850286\t 4.5101396142842445\t 4.396853742333381\n",
            "6  \t [ 8.42570155  4.07975309 12.          0.91619537  8.          0.61684591]\t 0.7059767781587389\t 0.6773838424850286\t 4.6240035172421186\t 4.609819373997836\n",
            "7  \t [ 3.74566023  2.13062241 14.          0.71219729 18.          0.68959412]\t 0.7065170119936448\t 0.6773838424850286\t 5.005624425363432\t 4.889069751084768\n",
            "8  \t [ 3.63408057  9.2502169   7.          0.59622027 10.          0.62731569]\t 0.7317581740148223\t 0.6773838424850286\t 4.913075062540862\t 4.620712745036742\n",
            "9  \t [ 1.79783097  1.91934618  5.          0.77893204 13.          0.47835366]\t 0.7857306346205829\t 0.6773838424850286\t 4.704325510149147\t 4.705886169928827\n",
            "10 \t [0.         2.9963083  5.         0.5        7.28612373 0.1       ]\t 1.0125393973803523\t 0.6773838424850286\t 5.306290389889881\t 5.227869025569202\n",
            "11 \t [9.94019054 7.43271319 5.         0.78342194 4.         0.90198883]\t 0.7333445147195274\t 0.6773838424850286\t 4.595937822639865\t 4.4797483503875934\n",
            "\u001b[1m\u001b[92m12\u001b[0m\t \u001b[1m\u001b[92m[10.          9.60926601  9.89068249  1.          6.89068249  1.        ]\u001b[0m\t \u001b[1m\u001b[92m0.6599925512336002\u001b[0m\t \u001b[1m\u001b[92m0.6599925512336002\u001b[0m\t \u001b[1m\u001b[92m4.876403121694104\u001b[0m\t \u001b[1m\u001b[92m4.708256883915261\u001b[0m\n",
            "13 \t [ 4.84381248  4.87586967 12.          0.75612961  4.          0.36979417]\t 0.867035932761975\t 0.6599925512336002\t 4.652745244588272\t 4.6245441224466575\n",
            "14 \t [ 9.18890824  5.50760906  5.          0.92553651 18.          0.76040056]\t 0.7335321473751593\t 0.6599925512336002\t 4.779163870008897\t 4.62090092570091\n",
            "15 \t [ 3.29312611  0.9704927   6.          0.68391426 19.          0.43020049]\t 0.767048132195449\t 0.6599925512336002\t 4.967826521810577\t 4.973336439491293\n",
            "16 \t [ 9.59735383  9.10351575  9.          0.67389645 14.          0.42791014]\t 0.7455236601760216\t 0.6599925512336002\t 4.850557676936607\t 4.787845845478512\n",
            "17 \t [ 4.34521215  5.28934175 10.          0.70701942 19.          0.12854445]\t 1.0162103828928835\t 0.6599925512336002\t 4.552809035397978\t 4.556105731264112\n",
            "18 \t [ 9.86546391  1.61531421  5.          0.70369851 10.          0.92790326]\t 0.7312350236326303\t 0.6599925512336002\t 5.05928047660263\t 5.058177675602827\n",
            "19 \t [ 2.76696568  4.32638207 10.          0.69065092 10.          0.32928339]\t 0.8606879483167145\t 0.6599925512336002\t 5.11712392866769\t 5.11712392866769\n",
            "20 \t [ 9.47745808  9.50911305 13.          0.70555451  1.          0.87222907]\t 0.6776716071409558\t 0.6599925512336002\t 4.969747421803654\t 5.012899590704148\n",
            "21 \t [ 9.95530246  5.50525097  9.          0.72320589 18.          0.9960274 ]\t 0.679119846341469\t 0.6599925512336002\t 4.79517423212797\t 4.793371542514336\n",
            "22 \t [ 2.60768732  9.91933042 11.          0.69532366 12.          0.51088157]\t 0.7131407042423596\t 0.6599925512336002\t 4.825739134768792\t 4.825739134768792\n",
            "23 \t [1.60895472e-01 8.27074864e-03 1.30000000e+01 6.91893018e-01\n",
            " 5.00000000e+00 4.60327119e-01]\t 0.7458028061131368\t 0.6599925512336002\t 4.770539799307381\t 4.748440931725135\n",
            "24 \t [ 2.76287935  0.832992   10.          0.52421602  1.          0.77581255]\t 0.6811258108165148\t 0.6599925512336002\t 5.019861131878361\t 5.026413887696633\n",
            "25 \t [3.50392351 6.35497601 9.         0.51577921 5.         0.45370698]\t 0.7487322203145116\t 0.6599925512336002\t 4.859377919004865\t 4.859377919004865\n",
            "26 \t [ 3.26806392  8.03852835 12.          0.60354247 16.          0.69840157]\t 0.7108432598487722\t 0.6599925512336002\t 5.021399280874591\t 5.021399280874591\n",
            "27 \t [ 1.56204295  7.22226414  7.          0.60623869 14.          0.4680562 ]\t 0.7555703250463353\t 0.6599925512336002\t 4.809801642869913\t 4.822470798115498\n",
            "28 \t [8.3735996  5.34104024 8.         0.56456303 7.         0.59553385]\t 0.7245806620781778\t 0.6599925512336002\t 4.657916414013751\t 4.648826621962558\n",
            "29 \t [ 6.19086368  8.47911079  6.          0.770382   12.          0.93751062]\t 0.7131420295812025\t 0.6599925512336002\t 4.657363528193773\t 4.657363528193773\n",
            "30 \t [9.30545715 2.21896205 9.         0.96965499 5.         0.61228081]\t 0.7128642744554409\t 0.6599925512336002\t 4.478912117775476\t 4.478709584766227\n"
          ]
        },
        {
          "output_type": "execute_result",
          "data": {
            "text/plain": [
              "49706.11896343179"
            ]
          },
          "metadata": {},
          "execution_count": 62
        }
      ]
    },
    {
      "cell_type": "code",
      "metadata": {
        "id": "NvkuHKlQuxRy",
        "colab": {
          "base_uri": "https://localhost:8080/"
        },
        "outputId": "7b2fb088-6806-448a-95bb-b6f24385b618"
      },
      "source": [
        "### Bayesian optimization runs (x20): 'Exact STP ERM' Acquisition Function run number = 20 \n",
        "\n",
        "np.random.seed(run_num_20)\n",
        "surrogate_stp_20 = dtStudentProcess(cov_func, optimize=opt, nu = df)\n",
        "\n",
        "X_train20, X_test20, y_train20, y_test20 = train_test_split(X, y, test_size=test_perc, random_state=run_num_20)\n",
        "\n",
        "def f_syn_polarity20(alpha, gamma, max_depth, subsample, min_child_weight, colsample):\n",
        "    reg = XGBRegressor(reg_alpha=alpha, gamma=gamma, max_depth=int(max_depth), subsample=subsample, min_child_weight=min_child_weight,\n",
        "          colsample_bytree=colsample, n_estimators = n_est, random_state=run_num_20, objective = 'reg:squarederror')\n",
        "    score = np.array(cross_val_score(reg, X=X_train20, y=y_train20).mean())\n",
        "    return operator * score\n",
        "\n",
        "stp_20 = dGPGO_stp(surrogate_stp_20, Acquisition_grad(util_stp), f_syn_polarity20, param, n_jobs = -1) # Define BayesOpt\n",
        "stp_20.run(max_iter = max_iter, init_evals = n_init) # run\n",
        "\n",
        "### Return optimal parameters' set:\n",
        "params_stp_20 = stp_20.getResult()[0]\n",
        "params_stp_20['max_depth'] = int(params_stp_20['max_depth'])\n",
        "params_stp_20['min_child_weight'] = int(params_stp_20['min_child_weight'])\n",
        "\n",
        "### Re-train with optimal parameters, run predictons:\n",
        "dX_stp_train20 = xgb.DMatrix(X_train20, y_train20)\n",
        "dX_stp_test20 = xgb.DMatrix(X_test20, y_test20)\n",
        "model_stp_20 = xgb.train(params_stp_20, dX_stp_train20)\n",
        "pred_stp_20 = model_stp_20.predict(dX_stp_test20)\n",
        "\n",
        "rmse_stp_20 = np.sqrt(mean_squared_error(pred_stp_20, y_test20))\n",
        "rmse_stp_20"
      ],
      "execution_count": null,
      "outputs": [
        {
          "output_type": "stream",
          "name": "stdout",
          "text": [
            "Evaluation \t Proposed point \t  Current eval. \t  Best eval. \t        Exact ERM: StdDev. x \t Approx ERM: StdDev. x \n",
            "init\t [ 5.88130801  8.97713728 14.          0.81074445  8.          0.95540649]\t 0.6597299542050263\t 0.6597299542050263\t    \t    \n",
            "init\t [6.72865655 0.41173329 8.         0.6361582  7.         0.76174061]\t 0.6983733363249625\t 0.6597299542050263\t    \t    \n",
            "init\t [ 4.77387703  8.66202323 10.          0.51833215  7.          0.10123387]\t 1.0633118913318171\t 0.6597299542050263\t    \t    \n",
            "init\t [ 5.75489985  4.74524381  8.          0.78084343 15.          0.26643049]\t 0.8790653027854468\t 0.6597299542050263\t    \t    \n",
            "init\t [ 4.53444     4.47342833  8.          0.91974896 18.          0.35997552]\t 0.8778581695963045\t 0.6597299542050263\t    \t    \n",
            "1  \t [ 7.96566073  7.15509535  7.          0.79906691 11.          0.34132075]\t 0.8825953654337161\t 0.6597299542050263\t 4.876693171082517\t 4.876693171082517\n",
            "2  \t [ 1.72798052  9.03285612 13.          0.50351094 19.          0.11416888]\t 1.0635732061044851\t 0.6597299542050263\t 4.696763019823334\t 4.700888175722818\n",
            "3  \t [ 1.96661701  1.73294312 11.          0.93201699  1.          0.60463107]\t 0.7502219040814293\t 0.6597299542050263\t 4.76920910245759\t 4.6529005329497695\n",
            "4  \t [1.41824857 5.09758018 5.         0.56802833 5.         0.75704697]\t 0.7367139517682284\t 0.6597299542050263\t 4.950925429507712\t 4.965185998696666\n",
            "5  \t [ 0.41794531  1.88324969 13.          0.88408406 13.          0.43578884]\t 0.8006234291185196\t 0.6597299542050263\t 4.923003692727782\t 4.883171628728877\n",
            "\u001b[1m\u001b[92m6\u001b[0m\t \u001b[1m\u001b[92m[10. 10. 15.  1. 20.  1.]\u001b[0m\t \u001b[1m\u001b[92m0.6408433430998837\u001b[0m\t \u001b[1m\u001b[92m0.6408433430998837\u001b[0m\t \u001b[1m\u001b[92m5.134305251263614\u001b[0m\t \u001b[1m\u001b[92m4.9968555064850335\u001b[0m\n",
            "7  \t [ 9.82409087  4.45469949 11.          0.53160513  4.          0.66763423]\t 0.703165388931625\t 0.6408433430998837\t 4.563302661113249\t 4.562717146704002\n",
            "\u001b[1m\u001b[92m8\u001b[0m\t \u001b[1m\u001b[92m[10.         10.         15.          1.         13.87817567  1.        ]\u001b[0m\t \u001b[1m\u001b[92m0.6403650661465254\u001b[0m\t \u001b[1m\u001b[92m0.6403650661465254\u001b[0m\t \u001b[1m\u001b[92m5.244817517051476\u001b[0m\t \u001b[1m\u001b[92m5.0622097246823765\u001b[0m\n",
            "9  \t [1.40842154 7.81898154 9.         0.57297042 1.         0.11610409]\t 1.0651952678837315\t 0.6403650661465254\t 4.711902058993611\t 4.709998215748745\n",
            "10 \t [8.51004072 7.2917763  5.         0.96135496 1.         0.57493956]\t 0.8036859734991779\t 0.6403650661465254\t 4.76587998691617\t 4.757565090682063\n",
            "11 \t [ 9.3606342   3.21248061 14.          0.65614013 17.          0.10926152]\t 1.0624486911635314\t 0.6403650661465254\t 5.064995883134978\t 5.073498036583991\n",
            "12 \t [ 6.27900589  9.12764923  5.          0.84263312 18.          0.79256191]\t 0.730579912896863\t 0.6403650661465254\t 5.218388565015181\t 5.122040523272376\n",
            "13 \t [ 5.96615687  3.82181138 12.          0.64448426  8.          0.96178268]\t 0.6691597261782757\t 0.6403650661465254\t 5.174574010758196\t 5.149897530415736\n",
            "14 \t [ 0.30329279  8.44985963 11.          0.88949602 12.          0.98063814]\t 0.6581410006205839\t 0.6403650661465254\t 4.875908828888863\t 4.91764457182534\n",
            "15 \t [ 6.97560183  1.48211849  9.          0.80794429 10.          0.21839694]\t 1.0602103565189318\t 0.6403650661465254\t 4.901563776893759\t 4.901563776893759\n",
            "16 \t [ 0.3999032   2.66263318 14.          0.55784408  3.          0.95411688]\t 0.6765956478595294\t 0.6403650661465254\t 4.900589318221872\t 4.9028876687708465\n",
            "17 \t [8.4112622  6.61129193 7.         0.60328014 5.         0.90260887]\t 0.6916923925215309\t 0.6403650661465254\t 4.7536798079549385\t 4.7536798079549385\n",
            "18 \t [0.05603826 5.95458494 6.         0.80513443 9.         0.58618251]\t 0.7819963212764711\t 0.6403650661465254\t 4.868291370677105\t 4.868291507878988\n",
            "19 \t [4.83067255 2.19904639 7.         0.5680519  3.         0.59514532]\t 0.7720408244337518\t 0.6403650661465254\t 4.584704041767684\t 4.568245848969072\n",
            "20 \t [ 0.02776244  1.53012881  8.          0.96273615 15.          0.27616872]\t 0.8778800869252311\t 0.6403650661465254\t 4.505824791642672\t 4.44203309862872\n",
            "21 \t [ 7.41954815  2.80862624  9.          0.85591029 17.          0.3641919 ]\t 0.8784158308955667\t 0.6403650661465254\t 5.098838376546552\t 5.098838376546552\n",
            "22 \t [ 2.87514576  3.13712267 13.          0.97475974 17.          0.73021265]\t 0.6835469609962976\t 0.6403650661465254\t 4.688563133689507\t 4.691965539669921\n",
            "23 \t [10.          6.88191732 10.15407151  1.         14.15407151  1.        ]\t 0.6464923700219258\t 0.6403650661465254\t 4.731460646740314\t 4.7783615793035965\n",
            "24 \t [ 1.96869013  7.00264368 10.          0.79233192  3.          0.8133863 ]\t 0.6902699854328027\t 0.6403650661465254\t 4.507563351498553\t 4.507563351498553\n",
            "25 \t [ 0.          1.01182241  5.          0.5        10.29540229  0.1       ]\t 1.0673802924142777\t 0.6403650661465254\t 5.006617644815836\t 4.880038041981479\n",
            "26 \t [ 8.41587592  4.63136717 11.          0.99322381 16.          0.53340451]\t 0.7422712401342008\t 0.6403650661465254\t 4.812890764577131\t 4.812890764577131\n",
            "27 \t [ 2.03880167  9.16229686  8.          0.60402254 16.          0.20309055]\t 1.0619957315160622\t 0.6403650661465254\t 5.196603627315665\t 5.093735891367939\n",
            "28 \t [ 5.02199529  8.17608785 14.          0.82123354 16.          0.12042445]\t 1.0600568728235613\t 0.6403650661465254\t 5.054489060764614\t 5.054489060764614\n",
            "29 \t [ 9.46105078  8.51558179 14.          0.6234267   1.          0.59075489]\t 0.7699575115200042\t 0.6403650661465254\t 4.9643278193571465\t 5.170082592527244\n",
            "30 \t [0.         0.         6.23968388 0.5        1.23968388 0.1       ]\t 1.0665626114625386\t 0.6403650661465254\t 5.252081574379426\t 5.131666697985038\n"
          ]
        },
        {
          "output_type": "execute_result",
          "data": {
            "text/plain": [
              "48475.65686277387"
            ]
          },
          "metadata": {},
          "execution_count": 63
        }
      ]
    },
    {
      "cell_type": "code",
      "metadata": {
        "id": "KFKuwvS3uzrs",
        "colab": {
          "base_uri": "https://localhost:8080/"
        },
        "outputId": "c2b34ade-4f33-4249-ee7e-1714b48420fb"
      },
      "source": [
        "end_stp = time.time()\n",
        "end_stp\n",
        "\n",
        "time_stp = end_stp - start_stp\n",
        "time_stp"
      ],
      "execution_count": null,
      "outputs": [
        {
          "output_type": "execute_result",
          "data": {
            "text/plain": [
              "1736.8878240585327"
            ]
          },
          "metadata": {},
          "execution_count": 64
        }
      ]
    },
    {
      "cell_type": "code",
      "metadata": {
        "id": "CU2FlhY4vHUk",
        "colab": {
          "base_uri": "https://localhost:8080/"
        },
        "outputId": "cac98ec7-9410-4732-f54e-3eb7287eaa86"
      },
      "source": [
        "rmse_gp = [rmse_gp_1,\n",
        "rmse_gp_2,\n",
        "rmse_gp_3,\n",
        "rmse_gp_4,\n",
        "rmse_gp_5,\n",
        "rmse_gp_6,\n",
        "rmse_gp_7,\n",
        "rmse_gp_8,\n",
        "rmse_gp_9,\n",
        "rmse_gp_10,\n",
        "rmse_gp_11,\n",
        "rmse_gp_12,\n",
        "rmse_gp_13,\n",
        "rmse_gp_14,\n",
        "rmse_gp_15,\n",
        "rmse_gp_16,\n",
        "rmse_gp_17,\n",
        "rmse_gp_18,\n",
        "rmse_gp_19,\n",
        "rmse_gp_20]\n",
        "\n",
        "np.mean(rmse_gp)"
      ],
      "execution_count": null,
      "outputs": [
        {
          "output_type": "execute_result",
          "data": {
            "text/plain": [
              "49366.58182672516"
            ]
          },
          "metadata": {},
          "execution_count": 65
        }
      ]
    },
    {
      "cell_type": "code",
      "metadata": {
        "id": "iZ53FsWXu3J1",
        "colab": {
          "base_uri": "https://localhost:8080/"
        },
        "outputId": "f07763ff-fec9-454f-d242-f06dc99a72c7"
      },
      "source": [
        "rmse_stp = [rmse_stp_1,\n",
        "rmse_stp_2,\n",
        "rmse_stp_3,\n",
        "rmse_stp_4,\n",
        "rmse_stp_5,\n",
        "rmse_stp_6,\n",
        "rmse_stp_7,\n",
        "rmse_stp_8,\n",
        "rmse_stp_9,\n",
        "rmse_stp_10,\n",
        "rmse_stp_11,\n",
        "rmse_stp_12,\n",
        "rmse_stp_13,\n",
        "rmse_stp_14,\n",
        "rmse_stp_15,\n",
        "rmse_stp_16,\n",
        "rmse_stp_17,\n",
        "rmse_stp_18,\n",
        "rmse_stp_19,\n",
        "rmse_stp_20]\n",
        "\n",
        "np.mean(rmse_stp)"
      ],
      "execution_count": null,
      "outputs": [
        {
          "output_type": "execute_result",
          "data": {
            "text/plain": [
              "49221.09718295412"
            ]
          },
          "metadata": {},
          "execution_count": 66
        }
      ]
    },
    {
      "cell_type": "code",
      "metadata": {
        "id": "a9FOyoH8u5Wx",
        "colab": {
          "base_uri": "https://localhost:8080/"
        },
        "outputId": "b3a6f11e-a598-401d-f777-6d52ffdb85e8"
      },
      "source": [
        "min_rmse_gp = min_max_array(rmse_gp)\n",
        "min_rmse_gp, len(min_rmse_gp)"
      ],
      "execution_count": null,
      "outputs": [
        {
          "output_type": "execute_result",
          "data": {
            "text/plain": [
              "([47122.48782091602,\n",
              "  47122.48782091602,\n",
              "  47122.48782091602,\n",
              "  47122.48782091602,\n",
              "  47122.48782091602,\n",
              "  46629.15174803453,\n",
              "  46629.15174803453,\n",
              "  46629.15174803453,\n",
              "  46629.15174803453,\n",
              "  46629.15174803453,\n",
              "  46629.15174803453,\n",
              "  46629.15174803453,\n",
              "  46629.15174803453,\n",
              "  46629.15174803453,\n",
              "  46629.15174803453,\n",
              "  46629.15174803453,\n",
              "  46629.15174803453,\n",
              "  46629.15174803453,\n",
              "  46629.15174803453,\n",
              "  46629.15174803453],\n",
              " 20)"
            ]
          },
          "metadata": {},
          "execution_count": 67
        }
      ]
    },
    {
      "cell_type": "code",
      "metadata": {
        "id": "unXOpKHcvO15",
        "colab": {
          "base_uri": "https://localhost:8080/"
        },
        "outputId": "21fd08ff-86dc-44d5-d1e7-990cc6fcf2dd"
      },
      "source": [
        "min_rmse_stp = min_max_array(rmse_stp)\n",
        "min_rmse_stp, len(min_rmse_stp)"
      ],
      "execution_count": null,
      "outputs": [
        {
          "output_type": "execute_result",
          "data": {
            "text/plain": [
              "([47321.8408099896,\n",
              "  47321.8408099896,\n",
              "  46877.10407555545,\n",
              "  46877.10407555545,\n",
              "  46877.10407555545,\n",
              "  46832.22443034189,\n",
              "  46832.22443034189,\n",
              "  46832.22443034189,\n",
              "  46832.22443034189,\n",
              "  46832.22443034189,\n",
              "  46832.22443034189,\n",
              "  46832.22443034189,\n",
              "  46832.22443034189,\n",
              "  46832.22443034189,\n",
              "  46832.22443034189,\n",
              "  46832.22443034189,\n",
              "  46832.22443034189,\n",
              "  46832.22443034189,\n",
              "  46832.22443034189,\n",
              "  46832.22443034189],\n",
              " 20)"
            ]
          },
          "metadata": {},
          "execution_count": 68
        }
      ]
    },
    {
      "cell_type": "code",
      "metadata": {
        "id": "Yxo85-HEvRPi",
        "colab": {
          "base_uri": "https://localhost:8080/",
          "height": 292
        },
        "outputId": "1306d829-45cd-41ff-eb23-94091929f5f8"
      },
      "source": [
        "### Visualise!\n",
        "\n",
        "title = obj_func\n",
        "plt.figure()\n",
        "\n",
        "plt.plot(min_rmse_stp, color = 'Blue', label='RMSE: Exact STP dERM gradients', ls='--')# r'($\\nu$' ' = {})'.format(df))\n",
        "plt.plot(min_rmse_gp, color = 'Blue', label='RMSE: Exact GP dERM gradients')\n",
        "\n",
        "plt.title(title, weight = 'bold', family = 'Arial')\n",
        "plt.xlabel('Experiment(s)', weight = 'bold', family = 'Arial') # x-axis label\n",
        "plt.ylabel('RMSE (US Dollars $)', weight = 'bold', family = 'Arial') # y-axis label\n",
        "plt.legend(loc=0) # add plot legend\n",
        "\n",
        "### Make the x-ticks integers, not floats:\n",
        "count = len(min_rmse_gp)\n",
        "plt.xticks(np.arange(count), np.arange(1, count + 1))\n",
        "plt.grid(b=None)\n",
        "plt.show() #visualize!\n"
      ],
      "execution_count": null,
      "outputs": [
        {
          "output_type": "display_data",
          "data": {
            "text/plain": [
              "<Figure size 432x288 with 1 Axes>"
            ],
            "image/png": "[encoded data removed]"
          },
          "metadata": {}
        }
      ]
    },
    {
      "cell_type": "code",
      "metadata": {
        "id": "AwyO7_iZvT7a",
        "colab": {
          "base_uri": "https://localhost:8080/"
        },
        "outputId": "cbd39184-4b4b-409f-a03f-3a51d0f21fad"
      },
      "source": [
        "time_gp, time_stp\n"
      ],
      "execution_count": null,
      "outputs": [
        {
          "output_type": "execute_result",
          "data": {
            "text/plain": [
              "(2241.855192899704, 1736.8878240585327)"
            ]
          },
          "metadata": {},
          "execution_count": 70
        }
      ]
    },
    {
      "cell_type": "code",
      "metadata": {
        "id": "aHLA-0DnVXxD",
        "colab": {
          "base_uri": "https://localhost:8080/"
        },
        "outputId": "5fc0df01-bf98-4429-95ee-41338cc4962d"
      },
      "source": [
        "min(min_rmse_stp), min(min_rmse_gp)\n"
      ],
      "execution_count": null,
      "outputs": [
        {
          "output_type": "execute_result",
          "data": {
            "text/plain": [
              "(46832.22443034189, 46629.15174803453)"
            ]
          },
          "metadata": {},
          "execution_count": 71
        }
      ]
    },
    {
      "cell_type": "code",
      "metadata": {
        "id": "-iUNBRy3W0GY"
      },
      "source": [],
      "execution_count": null,
      "outputs": []
    }
  ]
}