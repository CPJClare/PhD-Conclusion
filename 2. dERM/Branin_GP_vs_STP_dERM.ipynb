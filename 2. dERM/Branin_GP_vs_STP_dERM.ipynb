{
  "cells": [
    {
      "cell_type": "markdown",
      "metadata": {
        "id": "Dqn4dFx7Z2Ir"
      },
      "source": [
        "\n",
        "Branin: 2D\n"
      ]
    },
    {
      "cell_type": "code",
      "execution_count": null,
      "metadata": {
        "colab": {
          "base_uri": "https://localhost:8080/"
        },
        "id": "MJTM_GZZZb5x",
        "outputId": "25a08687-7880-4463-903c-75e541bfe9ed"
      },
      "outputs": [
        {
          "output_type": "stream",
          "name": "stdout",
          "text": [
            "Looking in indexes: https://pypi.org/simple, https://us-python.pkg.dev/colab-wheels/public/simple/\n",
            "Collecting pyGPGO\n",
            "  Downloading pyGPGO-0.5.1.tar.gz (14 kB)\n",
            "Requirement already satisfied: numpy in /usr/local/lib/python3.7/dist-packages (from pyGPGO) (1.21.6)\n",
            "Requirement already satisfied: mkl in /usr/local/lib/python3.7/dist-packages (from pyGPGO) (2019.0)\n",
            "Requirement already satisfied: scipy in /usr/local/lib/python3.7/dist-packages (from pyGPGO) (1.7.3)\n",
            "Requirement already satisfied: joblib in /usr/local/lib/python3.7/dist-packages (from pyGPGO) (1.1.0)\n",
            "Requirement already satisfied: scikit-learn in /usr/local/lib/python3.7/dist-packages (from pyGPGO) (1.0.2)\n",
            "Collecting Theano-PyMC\n",
            "  Downloading Theano-PyMC-1.1.2.tar.gz (1.8 MB)\n",
            "\u001b[K     |████████████████████████████████| 1.8 MB 3.9 MB/s \n",
            "\u001b[?25hCollecting pyMC3\n",
            "  Downloading pymc3-3.11.5-py3-none-any.whl (872 kB)\n",
            "\u001b[K     |████████████████████████████████| 872 kB 41.9 MB/s \n",
            "\u001b[?25hRequirement already satisfied: intel-openmp in /usr/local/lib/python3.7/dist-packages (from mkl->pyGPGO) (2022.1.0)\n",
            "Requirement already satisfied: pandas>=0.24.0 in /usr/local/lib/python3.7/dist-packages (from pyMC3->pyGPGO) (1.3.5)\n",
            "Requirement already satisfied: typing-extensions>=3.7.4 in /usr/local/lib/python3.7/dist-packages (from pyMC3->pyGPGO) (4.1.1)\n",
            "Requirement already satisfied: arviz>=0.11.0 in /usr/local/lib/python3.7/dist-packages (from pyMC3->pyGPGO) (0.12.1)\n",
            "Collecting deprecat\n",
            "  Downloading deprecat-2.1.1-py2.py3-none-any.whl (9.8 kB)\n",
            "Requirement already satisfied: cachetools>=4.2.1 in /usr/local/lib/python3.7/dist-packages (from pyMC3->pyGPGO) (4.2.4)\n",
            "Requirement already satisfied: dill in /usr/local/lib/python3.7/dist-packages (from pyMC3->pyGPGO) (0.3.5.1)\n",
            "Requirement already satisfied: patsy>=0.5.1 in /usr/local/lib/python3.7/dist-packages (from pyMC3->pyGPGO) (0.5.2)\n",
            "Collecting semver>=2.13.0\n",
            "  Downloading semver-2.13.0-py2.py3-none-any.whl (12 kB)\n",
            "Requirement already satisfied: fastprogress>=0.2.0 in /usr/local/lib/python3.7/dist-packages (from pyMC3->pyGPGO) (1.0.3)\n",
            "Requirement already satisfied: filelock in /usr/local/lib/python3.7/dist-packages (from Theano-PyMC->pyGPGO) (3.8.0)\n",
            "Requirement already satisfied: matplotlib>=3.0 in /usr/local/lib/python3.7/dist-packages (from arviz>=0.11.0->pyMC3->pyGPGO) (3.2.2)\n",
            "Requirement already satisfied: netcdf4 in /usr/local/lib/python3.7/dist-packages (from arviz>=0.11.0->pyMC3->pyGPGO) (1.6.0)\n",
            "Requirement already satisfied: xarray-einstats>=0.2 in /usr/local/lib/python3.7/dist-packages (from arviz>=0.11.0->pyMC3->pyGPGO) (0.2.2)\n",
            "Requirement already satisfied: setuptools>=38.4 in /usr/local/lib/python3.7/dist-packages (from arviz>=0.11.0->pyMC3->pyGPGO) (57.4.0)\n",
            "Requirement already satisfied: packaging in /usr/local/lib/python3.7/dist-packages (from arviz>=0.11.0->pyMC3->pyGPGO) (21.3)\n",
            "Requirement already satisfied: xarray>=0.16.1 in /usr/local/lib/python3.7/dist-packages (from arviz>=0.11.0->pyMC3->pyGPGO) (0.20.2)\n",
            "Requirement already satisfied: pyparsing!=2.0.4,!=2.1.2,!=2.1.6,>=2.0.1 in /usr/local/lib/python3.7/dist-packages (from matplotlib>=3.0->arviz>=0.11.0->pyMC3->pyGPGO) (3.0.9)\n",
            "Requirement already satisfied: kiwisolver>=1.0.1 in /usr/local/lib/python3.7/dist-packages (from matplotlib>=3.0->arviz>=0.11.0->pyMC3->pyGPGO) (1.4.4)\n",
            "Requirement already satisfied: cycler>=0.10 in /usr/local/lib/python3.7/dist-packages (from matplotlib>=3.0->arviz>=0.11.0->pyMC3->pyGPGO) (0.11.0)\n",
            "Requirement already satisfied: python-dateutil>=2.1 in /usr/local/lib/python3.7/dist-packages (from matplotlib>=3.0->arviz>=0.11.0->pyMC3->pyGPGO) (2.8.2)\n",
            "Requirement already satisfied: pytz>=2017.3 in /usr/local/lib/python3.7/dist-packages (from pandas>=0.24.0->pyMC3->pyGPGO) (2022.2.1)\n",
            "Requirement already satisfied: six in /usr/local/lib/python3.7/dist-packages (from patsy>=0.5.1->pyMC3->pyGPGO) (1.15.0)\n",
            "Requirement already satisfied: importlib-metadata in /usr/local/lib/python3.7/dist-packages (from xarray>=0.16.1->arviz>=0.11.0->pyMC3->pyGPGO) (4.12.0)\n",
            "Requirement already satisfied: wrapt<2,>=1.10 in /usr/local/lib/python3.7/dist-packages (from deprecat->pyMC3->pyGPGO) (1.14.1)\n",
            "Requirement already satisfied: zipp>=0.5 in /usr/local/lib/python3.7/dist-packages (from importlib-metadata->xarray>=0.16.1->arviz>=0.11.0->pyMC3->pyGPGO) (3.8.1)\n",
            "Requirement already satisfied: cftime in /usr/local/lib/python3.7/dist-packages (from netcdf4->arviz>=0.11.0->pyMC3->pyGPGO) (1.6.1)\n",
            "Requirement already satisfied: threadpoolctl>=2.0.0 in /usr/local/lib/python3.7/dist-packages (from scikit-learn->pyGPGO) (3.1.0)\n",
            "Building wheels for collected packages: pyGPGO, Theano-PyMC\n",
            "  Building wheel for pyGPGO (setup.py) ... \u001b[?25l\u001b[?25hdone\n",
            "  Created wheel for pyGPGO: filename=pyGPGO-0.5.1-py3-none-any.whl size=19879 sha256=631c2049077dad02a83174c928872abe8e7fc17129ec9162f6cf54ab56d967b2\n",
            "  Stored in directory: /root/.cache/pip/wheels/c8/5d/0b/2160114e2f1b87791c51b66cf07f89831dbb6f49167950316f\n",
            "  Building wheel for Theano-PyMC (setup.py) ... \u001b[?25l\u001b[?25hdone\n",
            "  Created wheel for Theano-PyMC: filename=Theano_PyMC-1.1.2-py3-none-any.whl size=1529963 sha256=0bfa04a9381be23a5df55e770ba6085be261eddef4586f4e4869cc4854355e6e\n",
            "  Stored in directory: /root/.cache/pip/wheels/f3/af/8c/5dd7553522d74c52a7813806fc7ee1a9caa20a3f7c8fd850d5\n",
            "Successfully built pyGPGO Theano-PyMC\n",
            "Installing collected packages: Theano-PyMC, semver, deprecat, pyMC3, pyGPGO\n",
            "Successfully installed Theano-PyMC-1.1.2 deprecat-2.1.1 pyGPGO-0.5.1 pyMC3-3.11.5 semver-2.13.0\n"
          ]
        }
      ],
      "source": [
        "pip install pyGPGO\n"
      ]
    },
    {
      "cell_type": "code",
      "execution_count": null,
      "metadata": {
        "id": "ZJSSPbwPaEUB"
      },
      "outputs": [],
      "source": [
        "### 1. Import python modules/packages required:\n",
        "\n",
        "import numpy as np\n",
        "import pandas as pd\n",
        "import scipy as sp\n",
        "import matplotlib.pyplot as plt\n",
        "import warnings\n",
        "import itertools\n",
        "import seaborn as sns\n",
        "import time\n",
        "\n",
        "from pyGPGO.GPGO import GPGO\n",
        "from pyGPGO.surrogates.GaussianProcess import GaussianProcess\n",
        "from pyGPGO.surrogates.tStudentProcess import tStudentProcess\n",
        "from pyGPGO.acquisition import Acquisition\n",
        "from pyGPGO.covfunc import squaredExponential\n",
        "from joblib import Parallel, delayed\n",
        "from scipy.linalg import inv\n",
        "from scipy.spatial.distance import cdist\n",
        "from scipy.optimize import minimize\n",
        "from scipy.stats import norm, t\n",
        "from mpl_toolkits.axes_grid1.inset_locator import inset_axes, mark_inset\n",
        "\n",
        "warnings.filterwarnings(\"ignore\", category=RuntimeWarning)\n"
      ]
    },
    {
      "cell_type": "code",
      "execution_count": null,
      "metadata": {
        "id": "OeYcTUNoaJWa"
      },
      "outputs": [],
      "source": [
        "### Inputs:\n",
        "\n",
        "func = 'Branin'\n",
        "n_test = 500\n",
        "eps = 1e-08\n",
        "\n",
        "util_gp = 'ERM_gp'\n",
        "util_stp = 'ERM_stp'\n",
        "\n",
        "n_init = 5 # random initialisations\n",
        "iters = 20\n",
        "opt = True\n",
        "\n",
        "df = 3"
      ]
    },
    {
      "cell_type": "code",
      "execution_count": null,
      "metadata": {
        "id": "xpaEOjdzaPMS"
      },
      "outputs": [],
      "source": [
        "### Objective Function - Branin(x) 2-D:\n",
        "\n",
        "def objfunc(x1_training, x2_training, a = 1, b = (5.1 / (4 * (np.pi) ** 2)), c = (5 / (np.pi)), r = 6, s = 10, t = (1 / (8 * np.pi))):\n",
        "        return operator * ((a * (x2_training - b * x1_training ** 2 + c * x1_training - r) ** 2) + \n",
        "                 s * (1 - t) * np.cos(x1_training) + s)\n",
        "        \n",
        "# Constraints:\n",
        "lb_x1 = -5 \n",
        "ub_x1 = +10\n",
        "lb_x2 = +0 \n",
        "ub_x2 = +15\n",
        "\n",
        "# Input array dimension(s):\n",
        "dim = 2\n",
        "\n",
        "# 2-D inputs' parameter bounds:\n",
        "param = {'x1_training': ('cont', [lb_x1, ub_x1]),\n",
        "             'x2_training': ('cont', [lb_x2, ub_x2])}\n",
        "\n",
        "# True y bounds:\n",
        "operator = -1\n",
        "y_lb = 0.397887 # targets global minimum\n",
        "y_global_orig = y_lb * operator # targets global minimum\n",
        "\n",
        "\n",
        "# Test data:\n",
        "x1_test = np.linspace(lb_x1, ub_x1, n_test)\n",
        "x2_test = np.linspace(lb_x2, ub_x2, n_test)\n",
        "  \n",
        "x_test = np.column_stack((x1_test,x2_test))"
      ]
    },
    {
      "cell_type": "code",
      "execution_count": null,
      "metadata": {
        "id": "eYpI3Zm4aGxi"
      },
      "outputs": [],
      "source": [
        "n_start_AcqFunc = iters\n",
        "inverse = -1\n"
      ]
    },
    {
      "cell_type": "code",
      "execution_count": null,
      "metadata": {
        "id": "oO_GUmOoaV0T"
      },
      "outputs": [],
      "source": [
        "### Cumulative Regret Calculators:\n",
        "\n",
        "def min_max_array(x):\n",
        "    new_list = []\n",
        "    for i, num in enumerate(x):\n",
        "            new_list.append(np.min(x[0:i+1]))\n",
        "    return new_list\n",
        "  \n",
        "def acqFuncExact(x):\n",
        "    new_array = []\n",
        "    x = np.array(x) \n",
        "    for i, num in enumerate(x):\n",
        "            new_array = x[:-2][::-3]\n",
        "    return new_array[::-1]\n",
        "\n",
        "def acqFuncApprox(x):\n",
        "    new_array = []\n",
        "    x = np.array(x) \n",
        "    for i, num in enumerate(x):\n",
        "            new_array = x[:-1][::-3]\n",
        "    return new_array[::-1]\n"
      ]
    },
    {
      "cell_type": "code",
      "execution_count": null,
      "metadata": {
        "id": "kuuJx0IMam9S"
      },
      "outputs": [],
      "source": [
        "### Surrogate derivatives: \n",
        "\n",
        "cov_func = squaredExponential()\n",
        "\n",
        "def kronDelta(X, Xstar):                     # Kronecker's Delta method\n",
        "    return cdist(X, Xstar) < np.finfo(np.float32).eps\n",
        "\n",
        "def se(X, Xstar, sigmaf, l, sigman):         # S.E. kernel method\n",
        "    return sigmaf * np.exp(-0.5 * cdist(X, Xstar) ** 2 / l ** 2) + sigman * kronDelta(X, Xstar)\n",
        "\n",
        "def delta(X, Xstar):                         # Distance between training X and test Xstar vectors\n",
        "    return (X - Xstar)\n",
        "   \n",
        "def der_covmat(X, Xstar, sigmaf, l, sigman): # Covariance matrix derivative terms (i.e. exact, first-order)\n",
        "    nx = len(X)\n",
        "    ny = len(Xstar)\n",
        "    return np.round(np.array([(delta(np.atleast_2d(i), np.atleast_2d(j))[0] * se(np.atleast_2d(i), np.atleast_2d(j), sigmaf, l, sigman)[0]).sum() for (i, j) in itertools.product(X, Xstar)]).reshape(nx, ny), 8)\n",
        "\n",
        "class dGaussianProcess(GaussianProcess):    # Via inheritance, also optimises hyperparameters when opt = TRUE\n",
        "    \n",
        "    def AcqGrad(self, Xstar):               # Method returning exact, first-order derivatives of the GP's posterior mean and standard deviation\n",
        "        Xstar = np.atleast_2d(Xstar)\n",
        "        Kstar = self.covfunc.K(self.X, Xstar).T\n",
        "        \n",
        "        dKstar = der_covmat(self.X, Xstar, self.covfunc.sigmaf, self.covfunc.l, self.covfunc.sigman).T\n",
        "        alpha_Kstar = np.dot(np.linalg.inv(self.K + (self.covfunc.sigman**2) * np.eye(len(self.X))), Kstar.T)\n",
        "        \n",
        "        dm = np.dot(dKstar, self.alpha)\n",
        "        ds = -2 * np.dot(dKstar, alpha_Kstar)\n",
        "        \n",
        "        return dm, ds   \n",
        "\n",
        "class dtStudentProcess(tStudentProcess):    # Via inheritance, also optimises hyperparameters when opt = TRUE\n",
        "    \n",
        "    def AcqGrad(self, Xstar):               # Method returning exact, first-order derivatives of the STP's posterior mean and standard deviation\n",
        "        Xstar = np.atleast_2d(Xstar)\n",
        "        Kstar = self.covfunc.K(self.X, Xstar).T\n",
        "        dKstar = der_covmat(self.X, Xstar, self.covfunc.sigmaf, self.covfunc.l, self.covfunc.sigman).T\n",
        "        \n",
        "        smd_adj = (self.nu + self.beta1 - 2) / (self.nu + self.n1 - 2)\n",
        "\n",
        "        alpha = np.dot(np.linalg.inv(self.K11 + (self.covfunc.sigman**2) * np.eye(len(self.X))), self.y)\n",
        "        alpha_Kstar = np.dot(np.linalg.inv(self.K11 + (self.covfunc.sigman**2) * np.eye(len(self.X))), Kstar.T)      \n",
        "        \n",
        "        dm = np.dot(dKstar, alpha)\n",
        "        ds = -2 * smd_adj * np.dot(dKstar, alpha_Kstar)\n",
        "        \n",
        "        return dm, ds \n",
        "        "
      ]
    },
    {
      "cell_type": "code",
      "execution_count": null,
      "metadata": {
        "id": "_Dc3YVHVaXz7"
      },
      "outputs": [],
      "source": [
        "### Add exact acquisition function gradient as attribute:\n",
        "\n",
        "class Acquisition_grad(Acquisition):    \n",
        "    def __init__(self, mode, eps=eps, **params):\n",
        "        \n",
        "        self.params = params\n",
        "        self.eps = eps\n",
        "\n",
        "        mode_dict = {\n",
        "            'ERM_stp': self.ERM_stp,\n",
        "            'ERM_gp': self.ERM_gp,\n",
        "        }\n",
        "\n",
        "        self.f = mode_dict[mode]\n",
        "    \n",
        "    def ERM_stp(self, tau, mean, std, ds, dm, nu=3.0):\n",
        "        gamma = (mean - y_global_orig - self.eps) / (std + self.eps)\n",
        "        gamma_h = (mean - tau) / (std + self.eps)\n",
        "        dsdx = ds / (2 * (std + self.eps))\n",
        "        dmdx = (dm - gamma * dsdx) / (std + self.eps)\n",
        "        \n",
        "        f = (std + self.eps) * (gamma * t.cdf(gamma, df=nu) + (nu + gamma ** 2)/(nu - 1) * t.pdf(gamma, df=nu))\n",
        "        df1 = f / (std + self.eps) * dsdx \n",
        "        df2 = (std + self.eps) * (t.cdf(gamma, df=nu) * dmdx + gamma * t.pdf(gamma, df=nu) \\\n",
        "            * (1 - (nu + gamma ** 2)/(nu - 1) + 2/(nu - 1) * dmdx))\n",
        "        df = (df1 + df2)[0]\n",
        "        df_arr = []\n",
        "\n",
        "        for j in range(0, dim):\n",
        "          df_arr.append(df)\n",
        "        return f, np.asarray(df_arr).transpose()\n",
        "        \n",
        "    def d_eval_stp(self, tau, mean, std, ds, dm, nu=3.0):\n",
        "    \n",
        "        return self.f(tau, mean, std, ds, dm, nu=3.0, **self.params)\n",
        "\n",
        "    def ERM_gp(self, tau, mean, std, ds, dm):\n",
        "        gamma = (mean - y_global_orig - self.eps) / (std + self.eps)\n",
        "        gamma_h = (mean - tau) / (std + self.eps)\n",
        "        dsdx = ds / (2 * (std + self.eps))\n",
        "        dmdx = (dm - gamma * dsdx) / (std + self.eps)\n",
        "        \n",
        "        f = (std + self.eps) * (gamma * norm.cdf(gamma) + norm.pdf(gamma))\n",
        "        df1 = f / (std + self.eps) * dsdx \n",
        "        df2 = (std + self.eps) * norm.cdf(gamma) * dmdx\n",
        "        df = (df1 + df2)[0]\n",
        "        df_arr = []\n",
        "\n",
        "        for j in range(0, dim):\n",
        "          df_arr.append(df)\n",
        "        return f, np.asarray(df_arr).transpose()\n",
        "        \n",
        "    def d_eval_gp(self, tau, mean, std, ds, dm):\n",
        "    \n",
        "        return self.f(tau, mean, std, ds, dm, **self.params)\n",
        "        "
      ]
    },
    {
      "cell_type": "code",
      "execution_count": null,
      "metadata": {
        "id": "b_B-w81BJxKN"
      },
      "outputs": [],
      "source": [
        "## dGPGO - Gaussian:\n",
        "\n",
        "class dGPGO_gp(GPGO):\n",
        "    n_start = n_start_AcqFunc\n",
        "\n",
        "    def __init__(self, surrogate, acquisition, f, parameter_dict, n_jobs=1):\n",
        "        self.GP = surrogate\n",
        "        self.A = acquisition\n",
        "        self.f = f\n",
        "        self.parameters = parameter_dict\n",
        "        self.n_jobs = n_jobs\n",
        "\n",
        "        self.parameter_key = list(parameter_dict.keys())\n",
        "        self.parameter_value = list(parameter_dict.values())\n",
        "        self.parameter_type = [p[0] for p in self.parameter_value]\n",
        "        self.parameter_range = [p[1] for p in self.parameter_value]\n",
        "\n",
        "        self.history = []\n",
        "        self.header =   'Evaluation \\t Proposed point \\t  Current eval. \\t  Best eval. \\t        Exact ERM: StdDev. x \\t Approx ERM: StdDev. x '\n",
        "        self.template = '{:3}\\t {}\\t {:3}\\t {:3}\\t {:3}\\t {:3}'\n",
        "\n",
        "    def acqfuncExact(self, xnew, n_start=n_start_AcqFunc):\n",
        "        new_mean, new_var = self.GP.predict(xnew, return_std=True)\n",
        "        new_std = np.sqrt(new_var + eps)\n",
        "        dm, ds = self.GP.AcqGrad(xnew)\n",
        "        f, df = self.A.d_eval_gp(self.tau, new_mean, new_std, ds=ds, dm=dm)\n",
        "\n",
        "        return -f, -df\n",
        "   \n",
        "    def acqfuncApprox(self, xnew, n_start=n_start_AcqFunc):\n",
        "        new_mean, new_var = self.GP.predict(xnew, return_std=True)\n",
        "        new_std = np.sqrt(new_var + eps)\n",
        "        dm, ds = self.GP.AcqGrad(xnew)\n",
        "        f, df = self.A.d_eval_gp(self.tau, new_mean, new_std, ds=ds, dm=dm)\n",
        "\n",
        "        return -f\n",
        "\n",
        "    def d_optimizeAcq(self, method='L-BFGS-B', n_start=n_start_AcqFunc):\n",
        "        start_points_dict = [self._sampleParam() for i in range(n_start)]\n",
        "        start_points_arr = np.array([list(s.values())\n",
        "                                     for s in start_points_dict])\n",
        "        x_best = np.empty((n_start, len(self.parameter_key)))\n",
        "        f_best = np.empty((n_start,))\n",
        "        opt = Parallel(n_jobs=self.n_jobs)(delayed(minimize)(self.acqfuncExact,\n",
        "                                                                 x0=start_point,\n",
        "                                                                 method=method,\n",
        "                                                                 jac = True,\n",
        "                                                                 bounds=self.parameter_range) for start_point in\n",
        "                                               start_points_arr)\n",
        "        x_best = np.array([res.x for res in opt])\n",
        "        f_best = np.array([np.atleast_1d(res.fun)[0] for res in opt])\n",
        "        f_best_min = min(f_best)\n",
        "\n",
        "        self.x_best = x_best\n",
        "        self.f_best = f_best\n",
        "        self.f_best_min = f_best_min\n",
        "        self.x_best_std = np.std(x_best)\n",
        "        self.best = x_best[np.argmin(f_best)]\n",
        "        self.start_points_arr = start_points_arr\n",
        "        self.history.append(self.x_best_std)\n",
        "\n",
        "        x_best_gp = np.empty((n_start, len(self.parameter_key)))\n",
        "        f_best_gp = np.empty((n_start,))\n",
        "        opt_gp = Parallel(n_jobs=self.n_jobs)(delayed(minimize)(self.acqfuncApprox,\n",
        "                                                                 x0=start_point,\n",
        "                                                                 method=method,\n",
        "                                                                 jac = False,\n",
        "                                                                 bounds=self.parameter_range) for start_point in\n",
        "                                               start_points_arr)\n",
        "        x_best_gp = np.array([res.x for res in opt_gp])\n",
        "        f_best_gp = np.array([np.atleast_1d(res.fun)[0] for res in opt_gp])\n",
        "        f_best_min_gp = min(f_best_gp)\n",
        "\n",
        "        self.x_best_gp = x_best_gp\n",
        "        self.f_best_gp = f_best_gp\n",
        "        self.f_best_min_gp = f_best_min_gp\n",
        "        self.x_best_std_gp = np.std(x_best_gp)\n",
        "        self.best_gp = x_best_gp[np.argmin(f_best_gp)]\n",
        "        self.start_points_arr = start_points_arr\n",
        "        self.history.append(self.x_best_std_gp)\n",
        "    \n",
        "    def _printInit(self):\n",
        "        print(self.header)\n",
        "        for init_eval in range(self.init_evals):\n",
        "            print(self.template.format('init', self.GP.X[init_eval], inverse * self.GP.y[init_eval], inverse * self.tau, '', ''))\n",
        "      \n",
        "    def _printCurrent(self):\n",
        "        OKGREEN = '\\033[92m'\n",
        "        ENDC = '\\033[0m'\n",
        "        BOLD = '\\033[1m'\n",
        "        eval = str(len(self.GP.y) - self.init_evals)\n",
        "        proposed = str(self.best)\n",
        "        curr_eval = str(inverse * self.GP.y[-1])\n",
        "        curr_best = str(inverse * self.tau)\n",
        "        min_acqfunc = str(self.f_best_min)\n",
        "        min_acqfunc_gp = str(self.f_best_min_gp)\n",
        "        x_best_std = str(self.x_best_std)\n",
        "        x_best_std_gp = str(self.x_best_std_gp)\n",
        "        if float(curr_eval) <= float(curr_best):\n",
        "            eval = BOLD + OKGREEN + eval + ENDC\n",
        "            proposed = BOLD + OKGREEN + proposed + ENDC\n",
        "            curr_eval = BOLD + OKGREEN + curr_eval + ENDC\n",
        "            curr_best = BOLD + OKGREEN + curr_best + ENDC\n",
        "            x_best_std = BOLD + OKGREEN + x_best_std + ENDC\n",
        "            x_best_std_gp = BOLD + OKGREEN + x_best_std_gp + ENDC\n",
        "        print(self.template.format(eval, proposed, curr_eval, curr_best, x_best_std, x_best_std_gp))\n",
        "\n",
        "    def run(self, max_iter=10, init_evals=3, resume=False):\n",
        "        \n",
        "        if not resume:\n",
        "            self.init_evals = init_evals\n",
        "            self._firstRun(self.init_evals)\n",
        "            self._printInit()\n",
        "        for iteration in range(max_iter):\n",
        "            self.d_optimizeAcq()\n",
        "            self.updateGP()\n",
        "            self._printCurrent()\n"
      ]
    },
    {
      "cell_type": "code",
      "source": [
        "## dGPGO - Student's-t:\n",
        "\n",
        "class dGPGO_stp(GPGO):\n",
        "    n_start = n_start_AcqFunc\n",
        "\n",
        "    def __init__(self, surrogate, acquisition, f, parameter_dict, n_jobs=1):\n",
        "        self.GP = surrogate\n",
        "        self.A = acquisition\n",
        "        self.f = f\n",
        "        self.parameters = parameter_dict\n",
        "        self.n_jobs = n_jobs\n",
        "\n",
        "        self.parameter_key = list(parameter_dict.keys())\n",
        "        self.parameter_value = list(parameter_dict.values())\n",
        "        self.parameter_type = [p[0] for p in self.parameter_value]\n",
        "        self.parameter_range = [p[1] for p in self.parameter_value]\n",
        "\n",
        "        self.history = []\n",
        "        self.header =   'Evaluation \\t Proposed point \\t  Current eval. \\t  Best eval. \\t        Exact ERM: StdDev. x \\t Approx ERM: StdDev. x '\n",
        "        self.template = '{:3}\\t {}\\t {:3}\\t {:3}\\t {:3}\\t {:3}'\n",
        "\n",
        "    def acqfuncExact(self, xnew, n_start=n_start_AcqFunc):\n",
        "        new_mean, new_var = self.GP.predict(xnew, return_std=True)\n",
        "        new_std = np.sqrt(new_var + eps)\n",
        "        dm, ds = self.GP.AcqGrad(xnew)\n",
        "        f, df = self.A.d_eval_stp(self.tau, new_mean, new_std, ds=ds, dm=dm, nu=3.0)\n",
        "\n",
        "        return -f, -df\n",
        "   \n",
        "    def acqfuncApprox(self, xnew, n_start=n_start_AcqFunc):\n",
        "        new_mean, new_var = self.GP.predict(xnew, return_std=True)\n",
        "        new_std = np.sqrt(new_var + eps)\n",
        "        dm, ds = self.GP.AcqGrad(xnew)\n",
        "        f, df = self.A.d_eval_stp(self.tau, new_mean, new_std, ds=ds, dm=dm, nu=3.0)\n",
        "\n",
        "        return -f\n",
        "\n",
        "    def d_optimizeAcq(self, method='L-BFGS-B', n_start=n_start_AcqFunc):\n",
        "        start_points_dict = [self._sampleParam() for i in range(n_start)]\n",
        "        start_points_arr = np.array([list(s.values())\n",
        "                                     for s in start_points_dict])\n",
        "        x_best = np.empty((n_start, len(self.parameter_key)))\n",
        "        f_best = np.empty((n_start,))\n",
        "        opt = Parallel(n_jobs=self.n_jobs)(delayed(minimize)(self.acqfuncExact,\n",
        "                                                                 x0=start_point,\n",
        "                                                                 method=method,\n",
        "                                                                 jac = True,\n",
        "                                                                 bounds=self.parameter_range) for start_point in\n",
        "                                               start_points_arr)\n",
        "        x_best = np.array([res.x for res in opt])\n",
        "        f_best = np.array([np.atleast_1d(res.fun)[0] for res in opt])\n",
        "        f_best_min = min(f_best)\n",
        "\n",
        "        self.x_best = x_best\n",
        "        self.f_best = f_best\n",
        "        self.f_best_min = f_best_min\n",
        "        self.x_best_std = np.std(x_best)\n",
        "        self.best = x_best[np.argmin(f_best)]\n",
        "        self.start_points_arr = start_points_arr\n",
        "        self.history.append(self.x_best_std)\n",
        "\n",
        "        x_best_gp = np.empty((n_start, len(self.parameter_key)))\n",
        "        f_best_gp = np.empty((n_start,))\n",
        "        opt_gp = Parallel(n_jobs=self.n_jobs)(delayed(minimize)(self.acqfuncApprox,\n",
        "                                                                 x0=start_point,\n",
        "                                                                 method=method,\n",
        "                                                                 jac = False,\n",
        "                                                                 bounds=self.parameter_range) for start_point in\n",
        "                                               start_points_arr)\n",
        "        x_best_gp = np.array([res.x for res in opt_gp])\n",
        "        f_best_gp = np.array([np.atleast_1d(res.fun)[0] for res in opt_gp])\n",
        "        f_best_min_gp = min(f_best_gp)\n",
        "\n",
        "        self.x_best_gp = x_best_gp\n",
        "        self.f_best_gp = f_best_gp\n",
        "        self.f_best_min_gp = f_best_min_gp\n",
        "        self.x_best_std_gp = np.std(x_best_gp)\n",
        "        self.best_gp = x_best_gp[np.argmin(f_best_gp)]\n",
        "        self.start_points_arr = start_points_arr\n",
        "        self.history.append(self.x_best_std_gp)\n",
        "    \n",
        "    def _printInit(self):\n",
        "        print(self.header)\n",
        "        for init_eval in range(self.init_evals):\n",
        "            print(self.template.format('init', self.GP.X[init_eval], inverse * self.GP.y[init_eval], inverse * self.tau, '', ''))\n",
        "      \n",
        "    def _printCurrent(self):\n",
        "        OKGREEN = '\\033[92m'\n",
        "        ENDC = '\\033[0m'\n",
        "        BOLD = '\\033[1m'\n",
        "        eval = str(len(self.GP.y) - self.init_evals)\n",
        "        proposed = str(self.best)\n",
        "        curr_eval = str(inverse * self.GP.y[-1])\n",
        "        curr_best = str(inverse * self.tau)\n",
        "        min_acqfunc = str(self.f_best_min)\n",
        "        min_acqfunc_gp = str(self.f_best_min_gp)\n",
        "        x_best_std = str(self.x_best_std)\n",
        "        x_best_std_gp = str(self.x_best_std_gp)\n",
        "        if float(curr_eval) <= float(curr_best):\n",
        "            eval = BOLD + OKGREEN + eval + ENDC\n",
        "            proposed = BOLD + OKGREEN + proposed + ENDC\n",
        "            curr_eval = BOLD + OKGREEN + curr_eval + ENDC\n",
        "            curr_best = BOLD + OKGREEN + curr_best + ENDC\n",
        "            x_best_std = BOLD + OKGREEN + x_best_std + ENDC\n",
        "            x_best_std_gp = BOLD + OKGREEN + x_best_std_gp + ENDC\n",
        "        print(self.template.format(eval, proposed, curr_eval, curr_best, x_best_std, x_best_std_gp))\n",
        "\n",
        "    def run(self, max_iter=10, init_evals=3, resume=False):\n",
        "        \n",
        "        if not resume:\n",
        "            self.init_evals = init_evals\n",
        "            self._firstRun(self.init_evals)\n",
        "            self._printInit()\n",
        "        for iteration in range(max_iter):\n",
        "            self.d_optimizeAcq()\n",
        "            self.updateGP()\n",
        "            self._printCurrent()\n"
      ],
      "metadata": {
        "id": "3gxt4mo3xQTY"
      },
      "execution_count": null,
      "outputs": []
    },
    {
      "cell_type": "code",
      "execution_count": null,
      "metadata": {
        "id": "qXIKGuXVGEg2"
      },
      "outputs": [],
      "source": [
        "###Reproducible set-seeds:\n",
        "\n",
        "run_num_1 = 1\n",
        "run_num_2 = 2\n",
        "run_num_3 = 3\n",
        "run_num_4 = 4\n",
        "run_num_5 = 5\n",
        "run_num_6 = 6\n",
        "run_num_7 = 7\n",
        "run_num_8 = 8\n",
        "run_num_9 = 9\n",
        "run_num_10 = 10\n",
        "run_num_11 = 11\n",
        "run_num_12 = 12\n",
        "run_num_13 = 13\n",
        "run_num_14 = 14\n",
        "run_num_15 = 15\n",
        "run_num_16 = 16\n",
        "run_num_17 = 17\n",
        "run_num_18 = 18\n",
        "run_num_19 = 19\n",
        "run_num_20 = 20\n"
      ]
    },
    {
      "cell_type": "code",
      "execution_count": null,
      "metadata": {
        "colab": {
          "base_uri": "https://localhost:8080/"
        },
        "id": "JEhagQmnTVIK",
        "outputId": "3c424811-8a72-4aef-e0a8-13f8d8b85ba1"
      },
      "outputs": [
        {
          "output_type": "execute_result",
          "data": {
            "text/plain": [
              "1663675564.1197526"
            ]
          },
          "metadata": {},
          "execution_count": 12
        }
      ],
      "source": [
        "start_gp = time.time()\n",
        "start_gp\n"
      ]
    },
    {
      "cell_type": "code",
      "execution_count": null,
      "metadata": {
        "colab": {
          "base_uri": "https://localhost:8080/"
        },
        "id": "aH0YSTXufD1v",
        "outputId": "16789061-9f1c-498a-eb62-3c55f9c9c599"
      },
      "outputs": [
        {
          "output_type": "stream",
          "name": "stdout",
          "text": [
            "Evaluation \t Proposed point \t  Current eval. \t  Best eval. \t        Exact ERM: StdDev. x \t Approx ERM: StdDev. x \n",
            "init\t [ 1.25533007 10.8048674 ]\t 56.52874004692151\t 27.68166689936483\t    \t    \n",
            "init\t [-4.99828438  4.53498859]\t 172.66531086516164\t 27.68166689936483\t    \t    \n",
            "init\t [-2.79866164  1.38507892]\t 102.58290348816024\t 27.68166689936483\t    \t    \n",
            "init\t [-2.20609683  5.18341091]\t 28.868064601155666\t 27.68166689936483\t    \t    \n",
            "init\t [0.95151211 8.08225101]\t 27.68166689936483\t 27.68166689936483\t    \t    \n",
            "\u001b[1m\u001b[92m1\u001b[0m\t \u001b[1m\u001b[92m[8.41909995 1.27566317]\u001b[0m\t \u001b[1m\u001b[92m5.089934878453152\u001b[0m\t \u001b[1m\u001b[92m5.089934878453152\u001b[0m\t \u001b[1m\u001b[92m5.024119661816372\u001b[0m\t \u001b[1m\u001b[92m5.448884175378119\u001b[0m\n",
            "2  \t [ 8.98893195 10.45227242]\t 70.52424256621515\t 5.089934878453152\t 5.614397129493898\t 5.837863716490593\n",
            "3  \t [3.24709681 0.02115122]\t 5.173244296289956\t 5.089934878453152\t 5.319599347196216\t 4.8949857735864715\n",
            "4  \t [-4.67712792 14.21955317]\t 13.865244792739254\t 5.089934878453152\t 6.061931265013673\t 6.54256969996361\n",
            "5  \t [ 5.28828699 15.        ]\t 205.7740594331423\t 5.089934878453152\t 4.360191011679411\t 4.2826841198237755\n",
            "6  \t [5.68448723 6.090452  ]\t 42.565414798707565\t 5.089934878453152\t 5.156942148536775\t 5.519615438903843\n",
            "7  \t [-3.81415702  9.67323954]\t 20.77767614983764\t 5.089934878453152\t 5.786607197678524\t 5.960780252785663\n",
            "8  \t [10. 15.]\t 145.87219087939556\t 5.089934878453152\t 5.146805421095319\t 5.054166492799744\n",
            "9  \t [-0.28894486 15.        ]\t 91.95377472918068\t 5.089934878453152\t 5.21182698820842\t 5.3670743239930125\n",
            "10 \t [10.          5.31332201]\t 7.280928959044602\t 5.089934878453152\t 4.45615838254183\t 4.362085657024052\n",
            "\u001b[1m\u001b[92m11\u001b[0m\t \u001b[1m\u001b[92m[2.20595829 3.46545894]\u001b[0m\t \u001b[1m\u001b[92m4.423890368648928\u001b[0m\t \u001b[1m\u001b[92m4.423890368648928\u001b[0m\t \u001b[1m\u001b[92m4.394127032979463\u001b[0m\t \u001b[1m\u001b[92m4.728798645603241\u001b[0m\n",
            "12 \t [5.45503956 2.25954717]\t 17.697449549498952\t 4.423890368648928\t 4.311822601129956\t 4.171177028259008\n",
            "13 \t [5.14202597 9.84655287]\t 88.21181932878149\t 4.423890368648928\t 4.458777133821803\t 4.501198056607848\n",
            "14 \t [0.50195469 0.        ]\t 45.80886498078063\t 4.423890368648928\t 5.161255997363949\t 5.231800672147785\n",
            "15 \t [-1.82801883 11.75457757]\t 13.382275156388781\t 4.423890368648928\t 4.8516939900477665\t 4.903073544812718\n",
            "16 \t [1.90770052 5.4527564 ]\t 10.901461730978797\t 4.423890368648928\t 4.62331174752614\t 4.84725443965996\n",
            "\u001b[1m\u001b[92m17\u001b[0m\t \u001b[1m\u001b[92m[10.          2.78751054]\u001b[0m\t \u001b[1m\u001b[92m1.9895576691576817\u001b[0m\t \u001b[1m\u001b[92m1.9895576691576817\u001b[0m\t \u001b[1m\u001b[92m4.800970059094403\u001b[0m\t \u001b[1m\u001b[92m4.900328246134111\u001b[0m\n",
            "18 \t [8.14521415 3.64536851]\t 11.39715911315373\t 1.9895576691576817\t 5.119279253522574\t 5.360164582614928\n",
            "19 \t [6.47232727 0.        ]\t 20.664393704567026\t 1.9895576691576817\t 5.590113868409192\t 5.717929491521459\n",
            "20 \t [8.52154187 7.31858526]\t 34.30660101428078\t 1.9895576691576817\t 5.541950709747272\t 5.771007854349433\n"
          ]
        }
      ],
      "source": [
        "### EXACT GP ERM GRADIENTS\n",
        "\n",
        "np.random.seed(run_num_1)\n",
        "surrogate_gp_1 = dGaussianProcess(cov_func, optimize=opt)\n",
        "\n",
        "gp_1 = dGPGO_gp(surrogate_gp_1, Acquisition_grad(util_gp), objfunc, param)\n",
        "gp_1.run(init_evals=n_init, max_iter=iters)\n"
      ]
    },
    {
      "cell_type": "code",
      "execution_count": null,
      "metadata": {
        "id": "wTxsSZxFGBB5",
        "colab": {
          "base_uri": "https://localhost:8080/"
        },
        "outputId": "2bf38486-e892-4cf5-c274-648565cd4486"
      },
      "outputs": [
        {
          "output_type": "stream",
          "name": "stdout",
          "text": [
            "Evaluation \t Proposed point \t  Current eval. \t  Best eval. \t        Exact ERM: StdDev. x \t Approx ERM: StdDev. x \n",
            "init\t [1.53992353 0.38889348]\t 22.31361308916297\t 6.692051508754487\t    \t    \n",
            "init\t [3.24493717 6.52983589]\t 19.233109967858276\t 6.692051508754487\t    \t    \n",
            "init\t [1.30551703 4.95502232]\t 13.177851563387286\t 6.692051508754487\t    \t    \n",
            "init\t [-1.93027049  9.2890645 ]\t 6.692051508754487\t 6.692051508754487\t    \t    \n",
            "init\t [-0.50517989  4.00240913]\t 26.437522758780958\t 6.692051508754487\t    \t    \n",
            "1  \t [ 9.5587047  12.00387527]\t 89.09951357262268\t 6.692051508754487\t 5.772985618646367\t 5.930681052750104\n",
            "\u001b[1m\u001b[92m2\u001b[0m\t \u001b[1m\u001b[92m[9.59366035 1.69164323]\u001b[0m\t \u001b[1m\u001b[92m1.3984593420568778\u001b[0m\t \u001b[1m\u001b[92m1.3984593420568778\u001b[0m\t \u001b[1m\u001b[92m4.9799088241008285\u001b[0m\t \u001b[1m\u001b[92m5.507042230845006\u001b[0m\n",
            "3  \t [ 3.24245232 12.67669673]\t 110.25694222671481\t 1.3984593420568778\t 5.619443017981148\t 6.039865021400427\n",
            "4  \t [-5.  0.]\t 308.12909601160663\t 1.3984593420568778\t 4.882224798385331\t 5.110701318446632\n",
            "5  \t [9.02394693 6.38201831]\t 19.00430028763514\t 1.3984593420568778\t 5.276760188740036\t 5.7442595253783235\n",
            "6  \t [-3.95509114 14.02730345]\t 3.48680055844817\t 1.3984593420568778\t 4.994294617471335\t 5.639419787052207\n",
            "7  \t [6.10821742 0.        ]\t 20.661959366791898\t 1.3984593420568778\t 4.404716741827221\t 4.918920151600742\n",
            "8  \t [-0.52939792 15.        ]\t 84.24209321185434\t 1.3984593420568778\t 5.192251151511941\t 5.267136344355727\n",
            "9  \t [-5.          5.74689705]\t 143.6079459962207\t 1.3984593420568778\t 5.147943078444317\t 5.449338977948849\n",
            "10 \t [6.29613152 3.73513195]\t 26.542942639106734\t 1.3984593420568778\t 4.4794413982996115\t 4.693437209558955\n",
            "11 \t [6.15104183 9.24555519]\t 85.90024718469762\t 1.3984593420568778\t 5.3420228393700855\t 5.153941348471957\n",
            "12 \t [0.99587189 9.48835588]\t 39.67650619445164\t 1.3984593420568778\t 4.470704415954809\t 5.186556695099488\n",
            "13 \t [10.         3.4781198]\t 2.16892072692493\t 1.3984593420568778\t 5.098749276455708\t 5.523723668469071\n",
            "14 \t [-5.         10.71185428]\t 54.655929076061824\t 1.3984593420568778\t 5.805707008960602\t 6.374328154858585\n",
            "15 \t [-1.91684373 11.96023032]\t 12.671470538919952\t 1.3984593420568778\t 5.015810438767936\t 4.978947933217996\n",
            "16 \t [-1.28382847  0.        ]\t 80.8826784532322\t 1.3984593420568778\t 4.735980460604976\t 4.888838446523289\n",
            "17 \t [ 6.80588314 15.        ]\t 210.08895858513765\t 1.3984593420568778\t 4.416663535021594\t 5.536951402730443\n",
            "18 \t [3.56892961 2.50509999]\t 1.552732848461659\t 1.3984593420568778\t 5.29587092055343\t 5.25097028679053\n",
            "19 \t [-1.79335679  7.16267079]\t 12.320078008742804\t 1.3984593420568778\t 5.403978789547145\t 5.2828919425056275\n",
            "20 \t [10.          8.80162357]\t 35.567679199058844\t 1.3984593420568778\t 5.576073513252025\t 5.970979802413873\n"
          ]
        }
      ],
      "source": [
        "### EXACT GP ERM GRADIENTS\n",
        "\n",
        "np.random.seed(run_num_2)\n",
        "surrogate_gp_2 = dGaussianProcess(cov_func, optimize=opt)\n",
        "\n",
        "gp_2 = dGPGO_gp(surrogate_gp_2, Acquisition_grad(util_gp), objfunc, param)\n",
        "gp_2.run(init_evals=n_init, max_iter=iters)\n"
      ]
    },
    {
      "cell_type": "code",
      "execution_count": null,
      "metadata": {
        "id": "-dgzIrUIGCGT",
        "colab": {
          "base_uri": "https://localhost:8080/"
        },
        "outputId": "1d58ee15-5531-4cca-f240-77398d273a45"
      },
      "outputs": [
        {
          "output_type": "stream",
          "name": "stdout",
          "text": [
            "Evaluation \t Proposed point \t  Current eval. \t  Best eval. \t        Exact ERM: StdDev. x \t Approx ERM: StdDev. x \n",
            "init\t [ 3.26196854 10.62221734]\t 71.68783452098575\t 18.07886746449891\t    \t    \n",
            "init\t [-0.63642892  7.66241408]\t 18.07886746449891\t 18.07886746449891\t    \t    \n",
            "init\t [ 8.39420432 13.44439633]\t 141.98653529865882\t 18.07886746449891\t    \t    \n",
            "init\t [-3.11622034  3.10864317]\t 83.31045707266176\t 18.07886746449891\t    \t    \n",
            "init\t [-4.22799195  6.61214765]\t 76.5294170688398\t 18.07886746449891\t    \t    \n",
            "1  \t [6.70472147 4.59545299]\t 30.726791812855225\t 18.07886746449891\t 4.319872826546153\t 4.339813657593017\n",
            "\u001b[1m\u001b[92m2\u001b[0m\t \u001b[1m\u001b[92m[-3.89564496 13.38589781]\u001b[0m\t \u001b[1m\u001b[92m3.6010193697779265\u001b[0m\t \u001b[1m\u001b[92m3.6010193697779265\u001b[0m\t \u001b[1m\u001b[92m5.468214607201284\u001b[0m\t \u001b[1m\u001b[92m5.742969020471602\u001b[0m\n",
            "3  \t [ 0.49219244 15.        ]\t 113.5648734358273\t 3.6010193697779265\t 5.599638895038234\t 6.100991404415216\n",
            "4  \t [3.31497689 0.        ]\t 5.137169559364589\t 3.6010193697779265\t 4.237031950366765\t 4.45259519702195\n",
            "5  \t [10.          8.34527826]\t 30.48354136249052\t 3.6010193697779265\t 5.004249133602336\t 5.484025010027688\n",
            "6  \t [9.93677706 0.73582747]\t 6.490866332170537\t 3.6010193697779265\t 4.7728238486551895\t 4.687510175620072\n",
            "7  \t [-0.6195202  11.33294215]\t 36.28496106529289\t 3.6010193697779265\t 4.4836731239038174\t 4.238960836022024\n",
            "8  \t [1.55084112 4.19074992]\t 10.312903587616654\t 3.6010193697779265\t 5.199209904859056\t 5.136034296623501\n",
            "9  \t [-2.53287617  0.2265116 ]\t 115.19315667597515\t 3.6010193697779265\t 4.43326955047697\t 4.183256696790566\n",
            "10 \t [6.62898669 0.        ]\t 20.302607831612985\t 3.6010193697779265\t 4.235758308878211\t 4.3701488472324\n",
            "11 \t [6.30222741 8.37756624]\t 72.55383850865258\t 3.6010193697779265\t 5.228509752200375\t 5.3319472172268805\n",
            "12 \t [ 4.66696535 15.        ]\t 194.90482997646194\t 3.6010193697779265\t 4.622190344502776\t 4.875490114266488\n",
            "13 \t [-5.         10.54206463]\t 56.88370528440957\t 3.6010193697779265\t 5.246151608568989\t 5.168691015752815\n",
            "14 \t [2.36704157 7.23371396]\t 21.43122994218093\t 3.6010193697779265\t 5.381811358553251\t 5.540289356100471\n",
            "15 \t [10.         4.4598571]\t 4.065699703086047\t 3.6010193697779265\t 5.28643880827029\t 6.15799908425847\n",
            "16 \t [0.95569447 1.3506071 ]\t 26.079600235845575\t 3.6010193697779265\t 5.544317856451283\t 5.56922216505393\n",
            "17 \t [3.89541448 3.17590794]\t 5.002590666259948\t 3.6010193697779265\t 5.308780866177423\t 5.131890783180758\n",
            "18 \t [8.49637958 2.48707996]\t 4.714869817448361\t 3.6010193697779265\t 5.075498850112996\t 5.338451706323686\n",
            "19 \t [4.79911922 1.80045791]\t 11.04628051153771\t 3.6010193697779265\t 5.1560465186519835\t 5.011894236848285\n",
            "20 \t [-0.77426771  5.19337229]\t 21.343840345869474\t 3.6010193697779265\t 4.143735033751674\t 3.942999078660958\n"
          ]
        }
      ],
      "source": [
        "### EXACT GP ERM GRADIENTS\n",
        "\n",
        "np.random.seed(run_num_3)\n",
        "surrogate_gp_3 = dGaussianProcess(cov_func, optimize=opt)\n",
        "\n",
        "gp_3 = dGPGO_gp(surrogate_gp_3, Acquisition_grad(util_gp), objfunc, param)\n",
        "gp_3.run(init_evals=n_init, max_iter=iters)\n"
      ]
    },
    {
      "cell_type": "code",
      "execution_count": null,
      "metadata": {
        "id": "hOtG-2sCGCKS",
        "colab": {
          "base_uri": "https://localhost:8080/"
        },
        "outputId": "c600efb5-679a-4147-e95b-7703b63eb21f"
      },
      "outputs": [
        {
          "output_type": "stream",
          "name": "stdout",
          "text": [
            "Evaluation \t Proposed point \t  Current eval. \t  Best eval. \t        Exact ERM: StdDev. x \t Approx ERM: StdDev. x \n",
            "init\t [9.50544759 8.20848374]\t 32.51676744781521\t 7.247126865776948\t    \t    \n",
            "init\t [ 9.5902654  10.72223991]\t 66.20566674364716\t 7.247126865776948\t    \t    \n",
            "init\t [5.46593237 3.24134243]\t 20.90089401680587\t 7.247126865776948\t    \t    \n",
            "init\t [9.64411682 0.09345383]\t 7.247126865776948\t 7.247126865776948\t    \t    \n",
            "init\t [-1.20526456  6.52187299]\t 15.941376982363263\t 7.247126865776948\t    \t    \n",
            "1  \t [ 1.25164457 13.57001383]\t 100.61648848019335\t 7.247126865776948\t 5.245312208905975\t 5.779671792863304\n",
            "2  \t [-4.27198795  1.64727177]\t 188.41076037632916\t 7.247126865776948\t 5.709907985571528\t 5.739207017859388\n",
            "3  \t [1.24680796 0.        ]\t 30.835406601599388\t 7.247126865776948\t 5.129184249146725\t 5.414193387400524\n",
            "4  \t [ 6.62356632 15.        ]\t 211.54458919378212\t 7.247126865776948\t 4.79187004820975\t 5.33664328912155\n",
            "5  \t [-4.73699493 13.33053872]\t 19.892240270122997\t 7.247126865776948\t 5.101819976159066\t 6.22778884498817\n",
            "6  \t [-5.          8.03524818]\t 96.48490483669138\t 7.247126865776948\t 4.603325447088546\t 4.527557606420717\n",
            "7  \t [4.23328895 8.18288921]\t 49.20355213513324\t 7.247126865776948\t 4.3783188825788715\t 4.4153256210456195\n",
            "\u001b[1m\u001b[92m8\u001b[0m\t \u001b[1m\u001b[92m[9.02535142 4.41775683]\u001b[0m\t \u001b[1m\u001b[92m6.257128851106306\u001b[0m\t \u001b[1m\u001b[92m6.257128851106306\u001b[0m\t \u001b[1m\u001b[92m3.9924670809806617\u001b[0m\t \u001b[1m\u001b[92m4.006649033312735\u001b[0m\n",
            "9  \t [-1.92146775 10.86858645]\t 8.47968037948363\t 6.257128851106306\t 5.014363390904273\t 4.858919755657194\n",
            "10 \t [5.1636724 0.       ]\t 15.691426583918854\t 6.257128851106306\t 5.780288334546477\t 5.916839320980295\n",
            "11 \t [1.66288432 4.12232952]\t 9.286484731045467\t 6.257128851106306\t 4.996876034971974\t 5.2366451130664124\n",
            "12 \t [0.59561762 9.84746133]\t 40.507223068709756\t 6.257128851106306\t 4.807020745812573\t 4.940172650763941\n",
            "13 \t [-0.94772975  3.28436387]\t 34.43894115831414\t 6.257128851106306\t 5.049180117018316\t 5.8128299258698775\n",
            "14 \t [ 4.68589558 11.6113786 ]\t 114.45233383195297\t 6.257128851106306\t 4.876792343843822\t 4.741643096696795\n",
            "15 \t [10. 15.]\t 145.87219087939556\t 6.257128851106306\t 4.803766307201115\t 4.633502944250412\n",
            "16 \t [-1.91388197 15.        ]\t 36.80870442793804\t 6.257128851106306\t 5.05928856749884\t 5.185383199073464\n",
            "17 \t [-3.22408271  4.86511071]\t 58.32759744823859\t 6.257128851106306\t 5.402150526504825\t 5.36398424964251\n",
            "18 \t [6.7186221  6.42044578]\t 46.60658891288536\t 6.257128851106306\t 4.4697603016126735\t 4.601570228766013\n",
            "19 \t [8.23619301 1.86318179]\t 6.462047954580447\t 6.257128851106306\t 5.1419168962849\t 5.2622754716733535\n",
            "\u001b[1m\u001b[92m20\u001b[0m\t \u001b[1m\u001b[92m[2.67437637 2.53019316]\u001b[0m\t \u001b[1m\u001b[92m1.4458589997135203\u001b[0m\t \u001b[1m\u001b[92m1.4458589997135203\u001b[0m\t \u001b[1m\u001b[92m4.8256844918846555\u001b[0m\t \u001b[1m\u001b[92m4.808429963666361\u001b[0m\n"
          ]
        }
      ],
      "source": [
        "### EXACT GP ERM GRADIENTS\n",
        "\n",
        "np.random.seed(run_num_4)\n",
        "surrogate_gp_4 = dGaussianProcess(cov_func, optimize=opt)\n",
        "\n",
        "gp_4= dGPGO_gp(surrogate_gp_4, Acquisition_grad(util_gp), objfunc, param)\n",
        "gp_4.run(init_evals=n_init, max_iter=iters)\n"
      ]
    },
    {
      "cell_type": "code",
      "execution_count": null,
      "metadata": {
        "id": "JF_SxcEvGCOl",
        "colab": {
          "base_uri": "https://localhost:8080/"
        },
        "outputId": "04883503-6c3e-4ce7-d18e-12d363a03617"
      },
      "outputs": [
        {
          "output_type": "stream",
          "name": "stdout",
          "text": [
            "Evaluation \t Proposed point \t  Current eval. \t  Best eval. \t        Exact ERM: StdDev. x \t Approx ERM: StdDev. x \n",
            "init\t [-1.67010243 13.06098459]\t 25.390690545664548\t 25.311309190989615\t    \t    \n",
            "init\t [-1.89921267 13.77916362]\t 25.311309190989615\t 25.311309190989615\t    \t    \n",
            "init\t [2.32616783 9.17615794]\t 41.60147975414021\t 25.311309190989615\t    \t    \n",
            "init\t [6.48861785 7.77626982]\t 63.81281921768236\t 25.311309190989615\t    \t    \n",
            "init\t [-0.54799248  2.81581843]\t 34.966203644931994\t 25.311309190989615\t    \t    \n",
            "\u001b[1m\u001b[92m1\u001b[0m\t \u001b[1m\u001b[92m[8.84124421 0.03321319]\u001b[0m\t \u001b[1m\u001b[92m5.96108856337545\u001b[0m\t \u001b[1m\u001b[92m5.96108856337545\u001b[0m\t \u001b[1m\u001b[92m5.948183689630253\u001b[0m\t \u001b[1m\u001b[92m6.0486277841254426\u001b[0m\n",
            "2  \t [ 8.39476442 14.47736321]\t 167.21523769473345\t 5.96108856337545\t 5.749478620670972\t 5.384390780641253\n",
            "3  \t [-5.          8.50731558]\t 88.06692538826472\t 5.96108856337545\t 5.282482843937836\t 5.422031909351116\n",
            "4  \t [-5.  0.]\t 308.12909601160663\t 5.96108856337545\t 5.125813475204832\t 5.573332613754421\n",
            "5  \t [4.68269035 2.64603605]\t 11.31779144014903\t 5.96108856337545\t 4.887184362685607\t 5.1287832668649\n",
            "6  \t [ 3.03229916 15.        ]\t 160.17986849640116\t 5.96108856337545\t 5.466207811952167\t 5.748101487685947\n",
            "\u001b[1m\u001b[92m7\u001b[0m\t \u001b[1m\u001b[92m[10.          4.33968607]\u001b[0m\t \u001b[1m\u001b[92m3.7299863204283366\u001b[0m\t \u001b[1m\u001b[92m3.7299863204283366\u001b[0m\t \u001b[1m\u001b[92m4.117304594676447\u001b[0m\t \u001b[1m\u001b[92m4.487006341980283\u001b[0m\n",
            "8  \t [-1.19617761  7.56956282]\t 13.783001649930567\t 3.7299863204283366\t 4.558031886634856\t 4.421688921606737\n",
            "9  \t [10.        10.1798307]\t 53.45066238084503\t 3.7299863204283366\t 4.8616544121513785\t 4.87676178314306\n",
            "10 \t [-5.          4.41014881]\t 175.98087898480938\t 3.7299863204283366\t 5.520559255098481\t 5.9189406088249426\n",
            "11 \t [1.98335614 0.        ]\t 17.38295944488382\t 3.7299863204283366\t 4.420646094272399\t 4.4543146103604\n",
            "12 \t [-5.         12.41096768]\t 35.537678769674024\t 3.7299863204283366\t 5.107713283519485\t 5.398717157339738\n",
            "13 \t [2.309834   5.39008025]\t 9.182618476742036\t 3.7299863204283366\t 4.8406251115430186\t 4.845223376679968\n",
            "14 \t [-1.35035272  0.        ]\t 82.40306629847964\t 3.7299863204283366\t 4.69149541838166\t 4.752697805604609\n",
            "15 \t [ 6.72025666 11.05679399]\t 117.07022441470544\t 3.7299863204283366\t 4.708486636066626\t 4.763589675231014\n",
            "16 \t [7.54361305 3.60368616]\t 18.032645206797653\t 3.7299863204283366\t 4.693850199211674\t 4.6877058973155075\n",
            "17 \t [10.          6.77805233]\t 16.194488427683186\t 3.7299863204283366\t 4.197464953852885\t 4.41770255193554\n",
            "18 \t [ 0.77973082 12.24527003]\t 71.70223533673263\t 3.7299863204283366\t 4.911437968535191\t 4.7985753012448855\n",
            "\u001b[1m\u001b[92m19\u001b[0m\t \u001b[1m\u001b[92m[-2.65597849 10.67708855]\u001b[0m\t \u001b[1m\u001b[92m1.7208265991945755\u001b[0m\t \u001b[1m\u001b[92m1.7208265991945755\u001b[0m\t \u001b[1m\u001b[92m4.732085748045711\u001b[0m\t \u001b[1m\u001b[92m5.228917792820762\u001b[0m\n",
            "20 \t [5.87412081 0.        ]\t 20.038859308291798\t 1.7208265991945755\t 4.653573012285696\t 4.758571895152496\n"
          ]
        }
      ],
      "source": [
        "### EXACT GP ERM GRADIENTS\n",
        "\n",
        "np.random.seed(run_num_5)\n",
        "surrogate_gp_5 = dGaussianProcess(cov_func, optimize=opt)\n",
        "\n",
        "gp_5 = dGPGO_gp(surrogate_gp_5, Acquisition_grad(util_gp), objfunc, param)\n",
        "gp_5.run(init_evals=n_init, max_iter=iters)\n"
      ]
    },
    {
      "cell_type": "code",
      "execution_count": null,
      "metadata": {
        "id": "-kDxZtJsGCR3",
        "colab": {
          "base_uri": "https://localhost:8080/"
        },
        "outputId": "e2cdc0d3-542f-4208-81b3-4d994d34b519"
      },
      "outputs": [
        {
          "output_type": "stream",
          "name": "stdout",
          "text": [
            "Evaluation \t Proposed point \t  Current eval. \t  Best eval. \t        Exact ERM: StdDev. x \t Approx ERM: StdDev. x \n",
            "init\t [8.39290227 4.97969708]\t 15.553860636684597\t 15.31731051317483\t    \t    \n",
            "init\t [7.31843685 0.62544939]\t 15.31731051317483\t 15.31731051317483\t    \t    \n",
            "init\t [-3.3851498   8.92578096]\t 16.222288919361837\t 15.31731051317483\t    \t    \n",
            "init\t [2.94726043 6.28211143]\t 15.406373581304088\t 15.31731051317483\t    \t    \n",
            "init\t [0.03111774 9.33779148]\t 31.07053245856209\t 15.31731051317483\t    \t    \n",
            "1  \t [ 9.64829531 12.55362889]\t 98.32295673962142\t 15.31731051317483\t 5.157173025716337\t 5.689267794405934\n",
            "2  \t [-1.22578785  0.62063252]\t 69.8637190838968\t 15.31731051317483\t 5.7216382806261725\t 6.527979283900396\n",
            "3  \t [ 1.3395746  14.83539323]\t 127.45307783921733\t 15.31731051317483\t 5.597058130481164\t 6.600995008910992\n",
            "4  \t [-5.          4.21567906]\t 180.98825955860133\t 15.31731051317483\t 5.757202760095788\t 7.001816355625583\n",
            "5  \t [ 4.82185171 10.81025099]\t 100.93632097217323\t 15.31731051317483\t 5.4446129766157725\t 5.94886058400813\n",
            "\u001b[1m\u001b[92m6\u001b[0m\t \u001b[1m\u001b[92m[-3.4990027  13.45496615]\u001b[0m\t \u001b[1m\u001b[92m1.0974162749042282\u001b[0m\t \u001b[1m\u001b[92m1.0974162749042282\u001b[0m\t \u001b[1m\u001b[92m5.1577607775372645\u001b[0m\t \u001b[1m\u001b[92m5.246768730382566\u001b[0m\n",
            "7  \t [3.23889405 0.70631865]\t 2.6754106017511115\t 1.0974162749042282\t 5.996107145025477\t 6.223478811660525\n",
            "8  \t [ 5.97912759 15.        ]\t 212.30870276210814\t 1.0974162749042282\t 5.230179714367552\t 5.389801726497043\n",
            "9  \t [8.34883414 8.35730852]\t 49.534038736142236\t 1.0974162749042282\t 4.622836069525781\t 4.687596089720044\n",
            "10 \t [-2.21942625  5.40496174]\t 26.892331361844676\t 1.0974162749042282\t 5.063447927857349\t 4.89856627915538\n",
            "11 \t [4.20035488 3.37428137]\t 8.464378677935738\t 1.0974162749042282\t 5.450506490083603\t 5.676645944464469\n",
            "12 \t [-5.  0.]\t 308.12909601160663\t 1.0974162749042282\t 5.664406254464226\t 5.40755678165217\n",
            "13 \t [-0.87068685 12.31324987]\t 39.51144463993649\t 1.0974162749042282\t 5.104881329495373\t 5.050102396482068\n",
            "14 \t [1.0236397  3.55073207]\t 15.908507754981796\t 1.0974162749042282\t 4.832836519470203\t 4.743932385038633\n",
            "15 \t [-5.         11.92114602]\t 40.45676468894391\t 1.0974162749042282\t 5.496238487064255\t 6.194132450403385\n",
            "\u001b[1m\u001b[92m16\u001b[0m\t \u001b[1m\u001b[92m[9.73321    2.69423766]\u001b[0m\t \u001b[1m\u001b[92m0.8538365738479072\u001b[0m\t \u001b[1m\u001b[92m0.8538365738479072\u001b[0m\t \u001b[1m\u001b[92m4.835807359580811\u001b[0m\t \u001b[1m\u001b[92m5.168378010529173\u001b[0m\n",
            "17 \t [4.69809732 0.        ]\t 11.750984882957855\t 0.8538365738479072\t 5.31661109693875\t 5.61980649292287\n",
            "18 \t [5.83842016 5.46405697]\t 37.613584630458405\t 0.8538365738479072\t 5.05092933056661\t 5.107212937196246\n",
            "19 \t [-3.50933351 15.        ]\t 4.365968792912589\t 0.8538365738479072\t 6.120351470660483\t 6.590940713888887\n",
            "20 \t [9.7275565  2.88311544]\t 0.8545162706160028\t 0.8538365738479072\t 5.512562425926731\t 5.4625868290304505\n"
          ]
        }
      ],
      "source": [
        "### EXACT GP ERM GRADIENTS\n",
        "\n",
        "np.random.seed(run_num_6)\n",
        "surrogate_gp_6 = dGaussianProcess(cov_func, optimize=opt)\n",
        "\n",
        "gp_6 = dGPGO_gp(surrogate_gp_6, Acquisition_grad(util_gp), objfunc, param)\n",
        "gp_6.run(init_evals=n_init, max_iter=iters)\n"
      ]
    },
    {
      "cell_type": "code",
      "execution_count": null,
      "metadata": {
        "id": "fKB8MCD_GCVI",
        "colab": {
          "base_uri": "https://localhost:8080/"
        },
        "outputId": "c4756ee8-c0f6-457c-e540-bc90e7b5725a"
      },
      "outputs": [
        {
          "output_type": "stream",
          "name": "stdout",
          "text": [
            "Evaluation \t Proposed point \t  Current eval. \t  Best eval. \t        Exact ERM: StdDev. x \t Approx ERM: StdDev. x \n",
            "init\t [-3.85537566 11.69878188]\t 8.299317850233932\t 5.211335324193094\t    \t    \n",
            "init\t [ 1.57613847 10.85197767]\t 59.50408380701259\t 5.211335324193094\t    \t    \n",
            "init\t [9.66984268 8.07743806]\t 29.714921414987273\t 5.211335324193094\t    \t    \n",
            "init\t [2.51680695 1.080767  ]\t 5.211335324193094\t 5.211335324193094\t    \t    \n",
            "init\t [-0.9734153   7.49823751]\t 15.431057204948033\t 5.211335324193094\t    \t    \n",
            "1  \t [-4.97859679  1.38393519]\t 260.3293952774437\t 5.211335324193094\t 4.218238789465274\t 4.244972226016435\n",
            "2  \t [ 7.42679792 14.12713902]\t 178.37635728719692\t 5.211335324193094\t 5.62388440549628\t 5.711002173363323\n",
            "3  \t [8.08940775 0.35854539]\t 9.249625108410735\t 5.211335324193094\t 5.360195792803128\t 5.647811409707666\n",
            "4  \t [-3.39684884  5.54228873]\t 54.79871094423047\t 5.211335324193094\t 4.515431540467075\t 4.488354410810848\n",
            "5  \t [4.94544954 5.5071879 ]\t 30.014161847547594\t 5.211335324193094\t 5.039720038817176\t 5.406797594551564\n",
            "6  \t [-0.82354444 15.        ]\t 74.31125853225242\t 5.211335324193094\t 5.941782002113737\t 6.581015703445586\n",
            "\u001b[1m\u001b[92m7\u001b[0m\t \u001b[1m\u001b[92m[10.          3.82267853]\u001b[0m\t \u001b[1m\u001b[92m2.615084703275878\u001b[0m\t \u001b[1m\u001b[92m2.615084703275878\u001b[0m\t \u001b[1m\u001b[92m4.878943723833807\u001b[0m\t \u001b[1m\u001b[92m5.048969942785637\u001b[0m\n",
            "8  \t [0.41578037 4.08275839]\t 20.416899017503518\t 2.615084703275878\t 5.409033339217121\t 5.818913281948617\n",
            "9  \t [-0.81528439  0.        ]\t 71.0988792898282\t 2.615084703275878\t 5.574718272899476\t 6.125369630888985\n",
            "10 \t [5.65977331 9.92202418]\t 95.0891813332579\t 2.615084703275878\t 5.176582895855235\t 5.357415025007113\n",
            "11 \t [5.38372711 1.39077826]\t 16.01902331528769\t 2.615084703275878\t 4.6262987844110555\t 5.089476227968764\n",
            "12 \t [-4.98229363 14.89324408]\t 17.591808856439044\t 2.615084703275878\t 5.2277732046884475\t 5.691862060191091\n",
            "13 \t [10.         11.67100202]\t 77.07815195790475\t 2.615084703275878\t 4.283524303927733\t 4.502206869090253\n",
            "14 \t [2.23150369 7.18295044]\t 20.84542249983378\t 2.615084703275878\t 4.6269440011238805\t 5.254807269000916\n",
            "15 \t [ 3.29534001 15.        ]\t 165.4242021890356\t 2.615084703275878\t 5.543902511042914\t 5.776106159841602\n",
            "16 \t [8.03417665 5.73696844]\t 25.79463246995277\t 2.615084703275878\t 5.374819513197265\t 5.197575730394822\n",
            "17 \t [-5.          8.65734926]\t 85.48483742812796\t 2.615084703275878\t 3.9979364077269213\t 4.739536388547843\n",
            "\u001b[1m\u001b[92m18\u001b[0m\t \u001b[1m\u001b[92m[3.19912787 3.1497985 ]\u001b[0m\t \u001b[1m\u001b[92m1.2587785285412991\u001b[0m\t \u001b[1m\u001b[92m1.2587785285412991\u001b[0m\t \u001b[1m\u001b[92m4.897533317639956\u001b[0m\t \u001b[1m\u001b[92m4.99581298943011\u001b[0m\n",
            "19 \t [-1.59794127 11.39902639]\t 16.119867447672302\t 1.2587785285412991\t 5.049032362614302\t 5.180513930433549\n",
            "20 \t [10.         1.8862291]\t 3.1902209750140624\t 1.2587785285412991\t 4.490633848931321\t 4.6968867646546\n"
          ]
        }
      ],
      "source": [
        "### EXACT GP ERM GRADIENTS\n",
        "\n",
        "np.random.seed(run_num_7)\n",
        "surrogate_gp_7 = dGaussianProcess(cov_func, optimize=opt)\n",
        "\n",
        "gp_7 = dGPGO_gp(surrogate_gp_7, Acquisition_grad(util_gp), objfunc, param)\n",
        "gp_7.run(init_evals=n_init, max_iter=iters)\n"
      ]
    },
    {
      "cell_type": "code",
      "execution_count": null,
      "metadata": {
        "id": "4unvifF-GCXp",
        "colab": {
          "base_uri": "https://localhost:8080/"
        },
        "outputId": "a085ea83-e99f-4662-9115-a4da4d613398"
      },
      "outputs": [
        {
          "output_type": "stream",
          "name": "stdout",
          "text": [
            "Evaluation \t Proposed point \t  Current eval. \t  Best eval. \t        Exact ERM: StdDev. x \t Approx ERM: StdDev. x \n",
            "init\t [ 8.10144104 14.52810994]\t 175.17297136347514\t 15.416245468470875\t    \t    \n",
            "init\t [8.0379181  7.96283537]\t 49.32173799887473\t 15.416245468470875\t    \t    \n",
            "init\t [-1.50907508  0.17098206]\t 83.26753461673219\t 15.416245468470875\t    \t    \n",
            "init\t [1.45703227 6.0352704 ]\t 15.416245468470875\t 15.416245468470875\t    \t    \n",
            "init\t [2.84012007 7.17587694]\t 22.49093277852639\t 15.416245468470875\t    \t    \n",
            "\u001b[1m\u001b[92m1\u001b[0m\t \u001b[1m\u001b[92m[9.77124156 0.43098073]\u001b[0m\t \u001b[1m\u001b[92m6.499298445992174\u001b[0m\t \u001b[1m\u001b[92m6.499298445992174\u001b[0m\t \u001b[1m\u001b[92m5.08071803891309\u001b[0m\t \u001b[1m\u001b[92m5.609058862398624\u001b[0m\n",
            "2  \t [-4.87537438 11.82874897]\t 36.57081146531108\t 6.499298445992174\t 5.301343306569386\t 5.5138088881522425\n",
            "3  \t [ 0.45081738 13.94638662]\t 93.25142611098795\t 6.499298445992174\t 4.9887099462715065\t 5.690985281087296\n",
            "4  \t [4.47251591 0.866383  ]\t 8.078155973488538\t 6.499298445992174\t 5.266370388166795\t 5.410309806033254\n",
            "5  \t [-4.06875054  6.05187677]\t 77.55161170327132\t 6.499298445992174\t 4.957848160655365\t 5.384903125086395\n",
            "6  \t [-1.07541354  9.60963765]\t 17.62235362551366\t 6.499298445992174\t 4.877905489442827\t 5.100316847046667\n",
            "7  \t [ 4.66367209 11.11979984]\t 104.25439279342791\t 6.499298445992174\t 5.0161907345522225\t 5.088256245585906\n",
            "8  \t [7.41184625 3.61717364]\t 19.475477310242354\t 6.499298445992174\t 4.9798620943094\t 4.996017888810808\n",
            "9  \t [1.15417919 2.89031937]\t 15.973236463891121\t 6.499298445992174\t 4.145865647519381\t 4.264853532363493\n",
            "10 \t [-4.98803444  1.24288722]\t 265.74116183756587\t 6.499298445992174\t 5.812240168675374\t 5.950879050394311\n",
            "11 \t [ 4.14432739 15.        ]\t 183.78087339910962\t 6.499298445992174\t 5.223308403951025\t 5.123203953011319\n",
            "12 \t [ 1.35087848 10.59290154]\t 54.43764639419132\t 6.499298445992174\t 4.496117724741767\t 4.380305252544255\n",
            "13 \t [4.35471987 3.82379628]\t 11.950236751154993\t 6.499298445992174\t 4.672530413138719\t 4.917453511421489\n",
            "\u001b[1m\u001b[92m14\u001b[0m\t \u001b[1m\u001b[92m[-3.40174572 15.        ]\u001b[0m\t \u001b[1m\u001b[92m5.0934687541721155\u001b[0m\t \u001b[1m\u001b[92m5.0934687541721155\u001b[0m\t \u001b[1m\u001b[92m5.451221070021519\u001b[0m\t \u001b[1m\u001b[92m5.791529926732194\u001b[0m\n",
            "15 \t [7.09340796 0.        ]\t 18.084632591119856\t 5.0934687541721155\t 4.514364055880066\t 4.711215472381987\n",
            "16 \t [10.         11.02646334]\t 66.3198009259072\t 5.0934687541721155\t 4.0831904891461415\t 4.394616181371933\n",
            "17 \t [10.          5.48301729]\t 8.093841641334354\t 5.0934687541721155\t 5.50445530321192\t 5.7543264092790105\n",
            "\u001b[1m\u001b[92m18\u001b[0m\t \u001b[1m\u001b[92m[10.          2.81715921]\u001b[0m\t \u001b[1m\u001b[92m1.9776613337857079\u001b[0m\t \u001b[1m\u001b[92m1.9776613337857079\u001b[0m\t \u001b[1m\u001b[92m5.597988559282746\u001b[0m\t \u001b[1m\u001b[92m5.45819463050061\u001b[0m\n",
            "19 \t [1.83318844e+00 2.97660841e-18]\t 19.87524031936838\t 1.9776613337857079\t 4.275847940567206\t 4.3606858040128\n",
            "20 \t [-0.97283901  6.83170099]\t 16.10928521204263\t 1.9776613337857079\t 4.214013693883664\t 4.317759096542606\n"
          ]
        }
      ],
      "source": [
        "### EXACT GP ERM GRADIENTS\n",
        "\n",
        "np.random.seed(run_num_8)\n",
        "surrogate_gp_8 = dGaussianProcess(cov_func, optimize=opt)\n",
        "\n",
        "gp_8 = dGPGO_gp(surrogate_gp_8, Acquisition_grad(util_gp), objfunc, param)\n",
        "gp_8.run(init_evals=n_init, max_iter=iters)\n"
      ]
    },
    {
      "cell_type": "code",
      "execution_count": null,
      "metadata": {
        "id": "85OIXcg7GCaJ",
        "colab": {
          "base_uri": "https://localhost:8080/"
        },
        "outputId": "64d02b21-0880-41fa-d728-065a8e4c3dac"
      },
      "outputs": [
        {
          "output_type": "stream",
          "name": "stdout",
          "text": [
            "Evaluation \t Proposed point \t  Current eval. \t  Best eval. \t        Exact ERM: StdDev. x \t Approx ERM: StdDev. x \n",
            "init\t [-4.84438769  7.52811888]\t 96.15564306553264\t 3.4640248583909496\t    \t    \n",
            "init\t [2.4365994  2.00744293]\t 3.4640248583909496\t 3.4640248583909496\t    \t    \n",
            "init\t [-2.86833372  3.27838013]\t 70.46930174488207\t 3.4640248583909496\t    \t    \n",
            "init\t [1.27762271 3.72151753]\t 12.982825924833865\t 3.4640248583909496\t    \t    \n",
            "init\t [-3.73910523  5.1824796 ]\t 75.58547400560856\t 3.4640248583909496\t    \t    \n",
            "1  \t [ 7.05609655 14.75038872]\t 200.4388688685465\t 3.4640248583909496\t 5.560611967332576\t 5.684402554204693\n",
            "2  \t [-0.46054038 14.56197292]\t 79.4666617606301\t 3.4640248583909496\t 5.192641788307269\t 4.908297246913737\n",
            "3  \t [8.28747407 1.2035024 ]\t 6.196385269800155\t 3.4640248583909496\t 4.870718318091647\t 4.684391875627888\n",
            "4  \t [4.00818884 9.58112639]\t 65.95553030943105\t 3.4640248583909496\t 5.2082206288114135\t 4.914757552051944\n",
            "5  \t [10.          7.36889848]\t 21.004589149340347\t 3.4640248583909496\t 5.217349479454739\t 5.043147801377161\n",
            "6  \t [6.12749834 4.72723949]\t 32.65608244198498\t 3.4640248583909496\t 5.005836063890732\t 5.317074353776708\n",
            "7  \t [-0.4808683   9.13001502]\t 23.964544433750902\t 3.4640248583909496\t 5.160708857803785\t 5.6463142841165475\n",
            "8  \t [-0.31392797  0.        ]\t 61.54371115276555\t 3.4640248583909496\t 4.6972900080493085\t 5.299435491293272\n",
            "9  \t [10.         11.36476855]\t 71.8630396479476\t 3.4640248583909496\t 5.189093697867227\t 5.727186151253231\n",
            "10 \t [4.86893462 0.        ]\t 13.221965999904889\t 3.4640248583909496\t 4.111119557621612\t 4.573149062235315\n",
            "11 \t [-5.         12.67015985]\t 33.12885243260634\t 3.4640248583909496\t 5.4358406199277\t 5.894184651913018\n",
            "12 \t [-5.  0.]\t 308.12909601160663\t 3.4640248583909496\t 5.374269570163849\t 4.731847521136791\n",
            "13 \t [ 3.1701245  14.75050555]\t 156.59308127815763\t 3.4640248583909496\t 4.582835052524164\t 4.6257492536614295\n",
            "\u001b[1m\u001b[92m14\u001b[0m\t \u001b[1m\u001b[92m[9.56260129 4.13137922]\u001b[0m\t \u001b[1m\u001b[92m2.8533646447146195\u001b[0m\t \u001b[1m\u001b[92m2.8533646447146195\u001b[0m\t \u001b[1m\u001b[92m4.183093314262209\u001b[0m\t \u001b[1m\u001b[92m4.167322356278677\u001b[0m\n",
            "15 \t [3.27807164 5.86280817]\t 14.116830881896266\t 2.8533646447146195\t 4.851703498506599\t 4.816788994685553\n",
            "16 \t [7.27580604 8.74916126]\t 71.35182284977571\t 2.8533646447146195\t 5.341346631895573\t 5.302716390194395\n",
            "17 \t [-0.27550593  6.15628205]\t 19.32526160975053\t 2.8533646447146195\t 5.446633011059333\t 5.494377323673579\n",
            "18 \t [-2.34571897 11.75460368]\t 4.9990611969732885\t 2.8533646447146195\t 5.305859715127285\t 5.831112831326521\n",
            "19 \t [ 1.24841408 11.55646842]\t 66.947792105816\t 2.8533646447146195\t 4.107672972638944\t 5.057372809108703\n",
            "\u001b[1m\u001b[92m20\u001b[0m\t \u001b[1m\u001b[92m[10.          2.48694864]\u001b[0m\t \u001b[1m\u001b[92m2.209404885743255\u001b[0m\t \u001b[1m\u001b[92m2.209404885743255\u001b[0m\t \u001b[1m\u001b[92m4.8959661742299625\u001b[0m\t \u001b[1m\u001b[92m5.14329300706963\u001b[0m\n"
          ]
        }
      ],
      "source": [
        "### EXACT GP ERM GRADIENTS\n",
        "\n",
        "np.random.seed(run_num_9)\n",
        "surrogate_gp_9 = dGaussianProcess(cov_func, optimize=opt)\n",
        "\n",
        "gp_9 = dGPGO_gp(surrogate_gp_9, Acquisition_grad(util_gp), objfunc, param)\n",
        "gp_9.run(init_evals=n_init, max_iter=iters)\n"
      ]
    },
    {
      "cell_type": "code",
      "execution_count": null,
      "metadata": {
        "id": "QQBR-qJPGCcp",
        "colab": {
          "base_uri": "https://localhost:8080/"
        },
        "outputId": "35b91e3f-b70d-43d0-9d76-51250488e0bf"
      },
      "outputs": [
        {
          "output_type": "stream",
          "name": "stdout",
          "text": [
            "Evaluation \t Proposed point \t  Current eval. \t  Best eval. \t        Exact ERM: StdDev. x \t Approx ERM: StdDev. x \n",
            "init\t [6.56980965 0.31127924]\t 19.863985024602144\t 2.710610964564512\t    \t    \n",
            "init\t [ 4.50472352 11.23205824]\t 103.66999147252169\t 2.710610964564512\t    \t    \n",
            "init\t [2.47760518 3.37194968]\t 2.710610964564512\t 2.710610964564512\t    \t    \n",
            "init\t [-2.02905703 11.40796068]\t 8.463930835255017\t 2.710610964564512\t    \t    \n",
            "init\t [-2.46333745  1.32509721]\t 90.49481266026973\t 2.710610964564512\t    \t    \n",
            "1  \t [ 9.16391068 14.81438212]\t 158.2412724465548\t 2.710610964564512\t 4.640275832564628\t 4.85471248254164\n",
            "2  \t [9.65621089 6.61160737]\t 16.1339423373336\t 2.710610964564512\t 4.478646410962929\t 4.742455524474485\n",
            "3  \t [-3.43070383  6.59407857]\t 41.58407101130534\t 2.710610964564512\t 4.522319955366268\t 4.612620045670789\n",
            "4  \t [ 0.88935901 15.        ]\t 122.4121928003227\t 2.710610964564512\t 5.4727984622340395\t 5.646797550884301\n",
            "5  \t [5.26536588 6.20072713]\t 40.03620701930768\t 2.710610964564512\t 5.671002314426542\t 5.702380773140737\n",
            "6  \t [1.92213987 0.        ]\t 18.37879825106846\t 2.710610964564512\t 5.2178214586445995\t 5.210904165978974\n",
            "7  \t [1.01053924 7.61607154]\t 24.665989186486094\t 2.710610964564512\t 4.678981436849713\t 5.492568733772889\n",
            "8  \t [-5.         10.21830808]\t 61.2914393258614\t 2.710610964564512\t 5.348462382929646\t 5.639938589071926\n",
            "9  \t [8.66639002 3.24709157]\t 4.818313385776877\t 2.710610964564512\t 5.067715534725681\t 5.722759690730263\n",
            "10 \t [ 9.65909394 10.45045292]\t 61.044209445884725\t 2.710610964564512\t 5.3322151731126075\t 5.460947033965495\n",
            "11 \t [-0.11813422  4.32819926]\t 23.00081768658695\t 2.710610964564512\t 4.320136931234756\t 4.536693636497892\n",
            "12 \t [-2.81079911 14.03406775]\t 7.369599263057522\t 2.710610964564512\t 5.057193066857981\t 5.832469324102154\n",
            "13 \t [-5.          3.68736668]\t 194.97357280690673\t 2.710610964564512\t 4.798724839092771\t 5.316145049010967\n",
            "14 \t [ 5.07149261 15.        ]\t 202.40679295701207\t 2.710610964564512\t 4.638778331653029\t 5.458746208275323\n",
            "15 \t [ 0.65270233 11.25448685]\t 56.544238300787555\t 2.710610964564512\t 5.604242846421887\t 5.7346638237743655\n",
            "16 \t [4.22496607 3.13230536]\t 7.90708389899906\t 2.710610964564512\t 5.598311552116825\t 5.678720487094517\n",
            "17 \t [-5.  0.]\t 308.12909601160663\t 2.710610964564512\t 5.384087753222172\t 5.407391494239537\n",
            "18 \t [7.47449495 8.16356843]\t 60.37420468929715\t 2.710610964564512\t 3.8441934980948607\t 3.912151448658618\n",
            "19 \t [-1.60357815  8.90766039]\t 9.685824227051759\t 2.710610964564512\t 3.8292134696301505\t 3.9802479346107837\n",
            "\u001b[1m\u001b[92m20\u001b[0m\t \u001b[1m\u001b[92m[8.74931877 1.75530217]\u001b[0m\t \u001b[1m\u001b[92m2.5499481461498386\u001b[0m\t \u001b[1m\u001b[92m2.5499481461498386\u001b[0m\t \u001b[1m\u001b[92m5.203510128358224\u001b[0m\t \u001b[1m\u001b[92m5.2560002493609215\u001b[0m\n"
          ]
        }
      ],
      "source": [
        "### EXACT GP ERM GRADIENTS\n",
        "\n",
        "np.random.seed(run_num_10)\n",
        "surrogate_gp_10 = dGaussianProcess(cov_func, optimize=opt)\n",
        "\n",
        "gp_10 = dGPGO_gp(surrogate_gp_10, Acquisition_grad(util_gp), objfunc, param)\n",
        "gp_10.run(init_evals=n_init, max_iter=iters)\n"
      ]
    },
    {
      "cell_type": "code",
      "execution_count": null,
      "metadata": {
        "id": "JS8ejeQ2GCfi",
        "colab": {
          "base_uri": "https://localhost:8080/"
        },
        "outputId": "38996f0c-4c93-4982-8210-0948c6f89e64"
      },
      "outputs": [
        {
          "output_type": "stream",
          "name": "stdout",
          "text": [
            "Evaluation \t Proposed point \t  Current eval. \t  Best eval. \t        Exact ERM: StdDev. x \t Approx ERM: StdDev. x \n",
            "init\t [-2.29595467  0.29212862]\t 104.49282729548965\t 22.37435843952312\t    \t    \n",
            "init\t [ 1.9482779  10.87400894]\t 62.47758067812407\t 22.37435843952312\t    \t    \n",
            "init\t [1.30305407 7.28140647]\t 22.37435843952312\t 22.37435843952312\t    \t    \n",
            "init\t [-4.80828778  7.31057411]\t 97.94503054415523\t 22.37435843952312\t    \t    \n",
            "init\t [ 9.12709979 12.76192634]\t 111.62900800771942\t 22.37435843952312\t    \t    \n",
            "\u001b[1m\u001b[92m1\u001b[0m\t \u001b[1m\u001b[92m[6.94653631 0.95529646]\u001b[0m\t \u001b[1m\u001b[92m17.615403152614682\u001b[0m\t \u001b[1m\u001b[92m17.615403152614682\u001b[0m\t \u001b[1m\u001b[92m4.664336634742871\u001b[0m\t \u001b[1m\u001b[92m4.7277614894283575\u001b[0m\n",
            "\u001b[1m\u001b[92m2\u001b[0m\t \u001b[1m\u001b[92m[9.18257738 6.04096973]\u001b[0m\t \u001b[1m\u001b[92m14.836006875517853\u001b[0m\t \u001b[1m\u001b[92m14.836006875517853\u001b[0m\t \u001b[1m\u001b[92m4.430379443281257\u001b[0m\t \u001b[1m\u001b[92m5.37772792986339\u001b[0m\n",
            "\u001b[1m\u001b[92m3\u001b[0m\t \u001b[1m\u001b[92m[2.57274635 0.        ]\u001b[0m\t \u001b[1m\u001b[92m9.529930973982662\u001b[0m\t \u001b[1m\u001b[92m9.529930973982662\u001b[0m\t \u001b[1m\u001b[92m5.335355604046608\u001b[0m\t \u001b[1m\u001b[92m5.788580200470712\u001b[0m\n",
            "4  \t [6.00460921 9.21015297]\t 84.98773163386197\t 9.529930973982662\t 3.9716403865577443\t 4.368938769582523\n",
            "5  \t [ 4.56481756 15.        ]\t 192.82106325520704\t 9.529930973982662\t 4.864980608477392\t 5.235140847576637\n",
            "\u001b[1m\u001b[92m6\u001b[0m\t \u001b[1m\u001b[92m[-2.55282032 11.48893614]\u001b[0m\t \u001b[1m\u001b[92m2.355851786361387\u001b[0m\t \u001b[1m\u001b[92m2.355851786361387\u001b[0m\t \u001b[1m\u001b[92m4.917064777128129\u001b[0m\t \u001b[1m\u001b[92m5.28065761956942\u001b[0m\n",
            "7  \t [-0.17856056 14.6938284 ]\t 90.10223500036446\t 2.355851786361387\t 5.165251082231057\t 5.496917439526647\n",
            "8  \t [4.98150475 4.49910886]\t 22.93206870691391\t 2.355851786361387\t 4.703214253420864\t 4.644529876396244\n",
            "9  \t [0.35411845 3.60553491]\t 22.417985420590657\t 2.355851786361387\t 4.931419490036561\t 5.266026093193219\n",
            "10 \t [-5.         11.10474342]\t 49.72197927526792\t 2.355851786361387\t 5.203645644195877\t 6.671593304003534\n",
            "\u001b[1m\u001b[92m11\u001b[0m\t \u001b[1m\u001b[92m[10.          2.60885792]\u001b[0m\t \u001b[1m\u001b[92m2.0984544353776142\u001b[0m\t \u001b[1m\u001b[92m2.0984544353776142\u001b[0m\t \u001b[1m\u001b[92m5.58967570138582\u001b[0m\t \u001b[1m\u001b[92m6.0385164172223496\u001b[0m\n",
            "12 \t [-3.93034229 14.58689661]\t 3.345952665427367\t 2.0984544353776142\t 5.391072350435887\t 5.817501169795143\n",
            "13 \t [-3.67846269  3.72242941]\t 99.36381932774619\t 2.0984544353776142\t 5.507779326051343\t 5.42084058001024\n",
            "14 \t [9.6504002  9.27928699]\t 44.29890300478732\t 2.0984544353776142\t 5.282834580049\t 5.273006045456599\n",
            "15 \t [-1.47451292  9.21418425]\t 11.26714025987707\t 2.0984544353776142\t 5.271514611197227\t 4.621437994214856\n",
            "16 \t [8.05899975 3.55094938]\t 11.993474519446421\t 2.0984544353776142\t 5.546456940622915\t 5.135893720953244\n",
            "17 \t [-1.42176738  6.34606861]\t 16.168866953280066\t 2.0984544353776142\t 4.129463911146832\t 4.667930551728639\n",
            "18 \t [4.44287258 1.40854061]\t 7.448245934603296\t 2.0984544353776142\t 4.766889244356146\t 5.367007281909567\n",
            "19 \t [-1.33026405 11.65190507]\t 23.217833506409043\t 2.0984544353776142\t 4.865636984941275\t 5.354598109131326\n",
            "\u001b[1m\u001b[92m20\u001b[0m\t \u001b[1m\u001b[92m[9.54178163 1.51942402]\u001b[0m\t \u001b[1m\u001b[92m1.5787577809316495\u001b[0m\t \u001b[1m\u001b[92m1.5787577809316495\u001b[0m\t \u001b[1m\u001b[92m5.542070586589082\u001b[0m\t \u001b[1m\u001b[92m5.368444727110686\u001b[0m\n"
          ]
        }
      ],
      "source": [
        "### EXACT GP ERM GRADIENTS\n",
        "\n",
        "np.random.seed(run_num_11)\n",
        "surrogate_gp_11 = dGaussianProcess(cov_func, optimize=opt)\n",
        "\n",
        "gp_11 = dGPGO_gp(surrogate_gp_11, Acquisition_grad(util_gp), objfunc, param)\n",
        "gp_11.run(init_evals=n_init, max_iter=iters)\n"
      ]
    },
    {
      "cell_type": "code",
      "execution_count": null,
      "metadata": {
        "id": "DXwjUVZ4GCii",
        "colab": {
          "base_uri": "https://localhost:8080/"
        },
        "outputId": "09dc9fc7-e632-4c9f-8757-eafad1793aeb"
      },
      "outputs": [
        {
          "output_type": "stream",
          "name": "stdout",
          "text": [
            "Evaluation \t Proposed point \t  Current eval. \t  Best eval. \t        Exact ERM: StdDev. x \t Approx ERM: StdDev. x \n",
            "init\t [-2.68755736 11.10074545]\t 1.3827702760021356\t 0.5499315281120278\t    \t    \n",
            "init\t [-1.05027477  8.0060909 ]\t 14.81231853080056\t 0.5499315281120278\t    \t    \n",
            "init\t [-4.78137556 13.78120512]\t 18.401131000214548\t 0.5499315281120278\t    \t    \n",
            "init\t [8.51072281 0.50132141]\t 5.855172364344769\t 0.5499315281120278\t    \t    \n",
            "init\t [9.35424004 2.05813982]\t 0.5499315281120278\t 0.5499315281120278\t    \t    \n",
            "1  \t [10.          4.30416863]\t 3.636293400304428\t 0.5499315281120278\t 4.81045063367269\t 4.248269942946071\n",
            "2  \t [ 9.19833734 12.85785838]\t 112.3096138370831\t 0.5499315281120278\t 4.990703655979911\t 4.448044711008259\n",
            "3  \t [-4.8799499   0.15657603]\t 290.0404981832191\t 0.5499315281120278\t 5.370774739253261\t 5.008660403252024\n",
            "4  \t [1.89159848 0.57192205]\t 15.265125065800465\t 0.5499315281120278\t 4.380025858707267\t 4.259318414291637\n",
            "5  \t [ 0.90630086 15.        ]\t 122.76062232846587\t 0.5499315281120278\t 4.8289058542017145\t 4.769404913283852\n",
            "6  \t [5.12931711 8.56003383]\t 67.54059008909404\t 0.5499315281120278\t 5.493458052673787\t 5.197946579854174\n",
            "7  \t [-5.          5.52173819]\t 148.8104858093234\t 0.5499315281120278\t 5.200097593843569\t 5.112317698893317\n",
            "8  \t [9.89973767 8.26181859]\t 30.15858706623289\t 0.5499315281120278\t 5.490525131449252\t 4.980492115309678\n",
            "9  \t [5.3711041 3.6471751]\t 21.972142678374716\t 0.5499315281120278\t 4.152203216257991\t 3.7311789820873824\n",
            "10 \t [ 1.0975917  10.91270085]\t 56.677348483015344\t 0.5499315281120278\t 5.348453905672212\t 4.999202292545685\n",
            "11 \t [1.62502615 4.29265053]\t 9.768785933920945\t 0.5499315281120278\t 5.398750273159368\t 5.495303798755676\n",
            "12 \t [ 5.30353031 14.57708987]\t 194.4906108937172\t 0.5499315281120278\t 4.472315909703841\t 4.907885149451197\n",
            "13 \t [-5.          9.75464779]\t 67.96896529781029\t 0.5499315281120278\t 4.060671219805441\t 4.585362683109389\n",
            "14 \t [-1.49813353  2.93113609]\t 43.680986001062564\t 0.5499315281120278\t 5.035022261389345\t 5.018807294170706\n",
            "15 \t [5.35281414 0.        ]\t 17.135223483959912\t 0.5499315281120278\t 4.766698760950164\t 4.912144142475531\n",
            "16 \t [-2.18048368 13.40127771]\t 15.502362687957127\t 0.5499315281120278\t 5.052063519185922\t 4.6901751369476985\n",
            "17 \t [8.16055712 4.87103455]\t 17.703413008644127\t 0.5499315281120278\t 5.268696361710848\t 5.014750760847361\n",
            "18 \t [1.87550812 7.20048732]\t 21.039855805356773\t 0.5499315281120278\t 6.144701459694467\t 5.641825961273462\n",
            "19 \t [-1.28941592e+00  8.61136440e-18]\t 81.00880459524187\t 0.5499315281120278\t 5.063435697257383\t 5.110949595371458\n",
            "20 \t [8.6086809  2.39288741]\t 3.6925379571576524\t 0.5499315281120278\t 4.14542379366917\t 4.201650284084833\n"
          ]
        }
      ],
      "source": [
        "### EXACT GP ERM GRADIENTS\n",
        "\n",
        "np.random.seed(run_num_12)\n",
        "surrogate_gp_12 = dGaussianProcess(cov_func, optimize=opt)\n",
        "\n",
        "gp_12 = dGPGO_gp(surrogate_gp_12, Acquisition_grad(util_gp), objfunc, param)\n",
        "gp_12.run(init_evals=n_init, max_iter=iters)\n"
      ]
    },
    {
      "cell_type": "code",
      "execution_count": null,
      "metadata": {
        "id": "CphOPndPGClX",
        "colab": {
          "base_uri": "https://localhost:8080/"
        },
        "outputId": "48f324be-44d7-48a4-8b1f-a201c545fb3e"
      },
      "outputs": [
        {
          "output_type": "stream",
          "name": "stdout",
          "text": [
            "Evaluation \t Proposed point \t  Current eval. \t  Best eval. \t        Exact ERM: StdDev. x \t Approx ERM: StdDev. x \n",
            "init\t [6.66553616 3.5631183 ]\t 24.823670200298267\t 18.038943061558626\t    \t    \n",
            "init\t [ 7.36417799 14.48623797]\t 188.7803334745195\t 18.038943061558626\t    \t    \n",
            "init\t [9.58901671 6.80173871]\t 18.038943061558626\t 18.038943061558626\t    \t    \n",
            "init\t [ 4.13563694 11.63289772]\t 104.87319703906111\t 18.038943061558626\t    \t    \n",
            "init\t [ 4.62420017 10.83027344]\t 98.03271225790056\t 18.038943061558626\t    \t    \n",
            "1  \t [-3.51870171  3.68338658]\t 91.63196166423945\t 18.038943061558626\t 5.375628511615252\t 5.409772224917\n",
            "\u001b[1m\u001b[92m2\u001b[0m\t \u001b[1m\u001b[92m[-3.06562888 11.40851515]\u001b[0m\t \u001b[1m\u001b[92m0.8943531028899869\u001b[0m\t \u001b[1m\u001b[92m0.8943531028899869\u001b[0m\t \u001b[1m\u001b[92m4.66272995057891\u001b[0m\t \u001b[1m\u001b[92m4.563640555712185\u001b[0m\n",
            "3  \t [2.22555486 0.        ]\t 13.748879685908804\t 0.8943531028899869\t 5.356184381872098\t 5.594340251511384\n",
            "4  \t [1.45066852 6.21135436]\t 16.205579709602702\t 0.8943531028899869\t 5.5439210984147165\t 5.944817764581863\n",
            "5  \t [-0.02228696 13.86809438]\t 80.94871489112535\t 0.8943531028899869\t 4.846254879734471\t 5.663767967528674\n",
            "6  \t [-5.          8.23487072]\t 92.87081848692483\t 0.8943531028899869\t 4.972106705396418\t 5.620717179943787\n",
            "7  \t [-4.02680902 13.16145731]\t 5.722083744228451\t 0.8943531028899869\t 5.507136860129554\t 5.994286342141361\n",
            "8  \t [10.         10.91369438]\t 64.52291284160813\t 0.8943531028899869\t 5.0393265650998185\t 4.758652221078816\n",
            "9  \t [-0.28061215  9.49941466]\t 28.48415902721704\t 0.8943531028899869\t 4.8592349055779245\t 5.1319119215988005\n",
            "10 \t [-5.  0.]\t 308.12909601160663\t 0.8943531028899869\t 4.805470453294415\t 4.578482614186562\n",
            "11 \t [10.          2.34599735]\t 2.3747361223132604\t 0.8943531028899869\t 5.344540357756377\t 5.670666295083109\n",
            "12 \t [6.24187398 0.        ]\t 20.801513474250925\t 0.8943531028899869\t 4.585800429331194\t 4.9323184410030985\n",
            "13 \t [-0.91853332  0.05417786]\t 72.32923195798782\t 0.8943531028899869\t 5.817180758832207\t 5.897068429792421\n",
            "14 \t [4.95892483 6.96208799]\t 44.57956724195149\t 0.8943531028899869\t 4.6538746170463625\t 4.910852561155546\n",
            "15 \t [1.79106437 3.11774465]\t 8.101028442109984\t 0.8943531028899869\t 5.45310573918411\t 5.46381779581124\n",
            "16 \t [-1.53081736  6.53301352]\t 15.250609815920178\t 0.8943531028899869\t 4.841710281472824\t 5.367213168566173\n",
            "17 \t [ 3.57262446 15.        ]\t 171.24324454941942\t 0.8943531028899869\t 5.639245757536017\t 6.104969568959006\n",
            "18 \t [4.09160302 2.18729777]\t 4.702613105021491\t 0.8943531028899869\t 4.535224824818258\t 4.391583016900758\n",
            "19 \t [-2.82270992 14.23183665]\t 8.226347310518324\t 0.8943531028899869\t 5.422700374463\t 5.559356263269152\n",
            "20 \t [-5.         11.52895879]\t 44.74125915221332\t 0.8943531028899869\t 6.037739070751172\t 6.088649707315205\n"
          ]
        }
      ],
      "source": [
        "### EXACT GP ERM GRADIENTS\n",
        "\n",
        "np.random.seed(run_num_13)\n",
        "surrogate_gp_13 = dGaussianProcess(cov_func, optimize=opt)\n",
        "\n",
        "gp_13 = dGPGO_gp(surrogate_gp_13, Acquisition_grad(util_gp), objfunc, param)\n",
        "gp_13.run(init_evals=n_init, max_iter=iters)\n"
      ]
    },
    {
      "cell_type": "code",
      "execution_count": null,
      "metadata": {
        "id": "ojHTeARNGCoi",
        "colab": {
          "base_uri": "https://localhost:8080/"
        },
        "outputId": "e60969fb-c3c5-4f6f-f3cd-d15e1b73aa17"
      },
      "outputs": [
        {
          "output_type": "stream",
          "name": "stdout",
          "text": [
            "Evaluation \t Proposed point \t  Current eval. \t  Best eval. \t        Exact ERM: StdDev. x \t Approx ERM: StdDev. x \n",
            "init\t [ 2.70915016 11.59747578]\t 81.58264375064097\t 1.4149920024014744\t    \t    \n",
            "init\t [8.05641529 0.12070423]\t 10.148649076616518\t 1.4149920024014744\t    \t    \n",
            "init\t [-0.35396112 14.36405609]\t 79.6056658956529\t 1.4149920024014744\t    \t    \n",
            "init\t [2.69675068 4.77426637]\t 5.855607664288365\t 1.4149920024014744\t    \t    \n",
            "init\t [3.08799906 3.31882414]\t 1.4149920024014744\t 1.4149920024014744\t    \t    \n",
            "1  \t [10.          9.77645093]\t 47.823366031636674\t 1.4149920024014744\t 5.43536005449988\t 5.692888383988993\n",
            "2  \t [-3.61083748  7.85924032]\t 32.481990179851884\t 1.4149920024014744\t 5.572928491144988\t 5.839876276575841\n",
            "3  \t [-0.5369506  0.       ]\t 65.74814342277702\t 1.4149920024014744\t 5.477547764190026\t 5.201215889106549\n",
            "4  \t [-5.          2.79941019]\t 219.73685262933344\t 1.4149920024014744\t 4.010737678499898\t 4.8154794078708125\n",
            "5  \t [ 7.44802367 15.        ]\t 201.14330599451029\t 1.4149920024014744\t 4.525799981147764\t 4.46345423976556\n",
            "6  \t [10.          4.59999645]\t 4.493676938063431\t 1.4149920024014744\t 4.574928744672902\t 4.685270255421051\n",
            "7  \t [5.98587267 7.36093484]\t 58.35566375359257\t 1.4149920024014744\t 3.7646214535465115\t 4.212785803940777\n",
            "8  \t [-5.         12.63504155]\t 33.447358508988735\t 1.4149920024014744\t 5.2846130915092795\t 5.118248958988369\n",
            "9  \t [3.62913725 0.78504437]\t 2.8172885458466723\t 1.4149920024014744\t 5.236796413978345\t 5.0006166147359865\n",
            "10 \t [-0.92286882  5.02927481]\t 22.29537400672306\t 1.4149920024014744\t 4.6178640183681905\t 4.750167750740302\n",
            "11 \t [5.66520582 3.51148633]\t 23.499284691946368\t 1.4149920024014744\t 4.698003979535928\t 4.658178155589163\n",
            "12 \t [5.47902682e-03 8.75633362e+00]\t 27.247469367505488\t 1.4149920024014744\t 4.979736249805629\t 4.965277158142024\n",
            "13 \t [ 7.06079375 10.44373538]\t 102.23605689435959\t 1.4149920024014744\t 4.943903976283274\t 4.945871371778639\n",
            "14 \t [ 3.47985314 15.        ]\t 169.26705261180817\t 1.4149920024014744\t 5.4144447278030485\t 5.257047888685235\n",
            "15 \t [2.69495007 7.36669637]\t 23.595648177659196\t 1.4149920024014744\t 5.3619580572664285\t 5.376954297449609\n",
            "16 \t [9.95207006 2.25709482]\t 2.190164430445259\t 1.4149920024014744\t 4.984800183584256\t 5.665486914677847\n",
            "17 \t [5.39395526 0.        ]\t 17.427340475391695\t 1.4149920024014744\t 5.39945576451395\t 5.612803769688348\n",
            "18 \t [1.19664153 2.88197951]\t 15.46521753634183\t 1.4149920024014744\t 4.5156081341862855\t 4.7430314191179885\n",
            "19 \t [2.52291363e+00 5.55111512e-17]\t 10.056538545250168\t 1.4149920024014744\t 4.811685284035999\t 4.878546918399089\n",
            "20 \t [-1.75327579 10.99715305]\t 11.5322366774762\t 1.4149920024014744\t 4.808230315379711\t 4.911126186626188\n"
          ]
        }
      ],
      "source": [
        "### EXACT GP ERM GRADIENTS\n",
        "\n",
        "np.random.seed(run_num_14)\n",
        "surrogate_gp_14 = dGaussianProcess(cov_func, optimize=opt)\n",
        "\n",
        "gp_14 = dGPGO_gp(surrogate_gp_14, Acquisition_grad(util_gp), objfunc, param)\n",
        "gp_14.run(init_evals=n_init, max_iter=iters)\n"
      ]
    },
    {
      "cell_type": "code",
      "execution_count": null,
      "metadata": {
        "id": "vCJzn4vWGCs3",
        "colab": {
          "base_uri": "https://localhost:8080/"
        },
        "outputId": "2113b554-2109-42e2-ba8f-dc19f81ef746"
      },
      "outputs": [
        {
          "output_type": "stream",
          "name": "stdout",
          "text": [
            "Evaluation \t Proposed point \t  Current eval. \t  Best eval. \t        Exact ERM: StdDev. x \t Approx ERM: StdDev. x \n",
            "init\t [7.73226546 2.68343887]\t 12.768724532005583\t 12.768724532005583\t    \t    \n",
            "init\t [-4.18455179  5.42307669]\t 95.39334176626551\t 12.768724532005583\t    \t    \n",
            "init\t [-0.86898607  7.95000337]\t 16.419487782111716\t 12.768724532005583\t    \t    \n",
            "init\t [-0.41121626  4.56711539]\t 23.250362743740954\t 12.768724532005583\t    \t    \n",
            "init\t [-3.32388086  3.74848521]\t 80.99796277938532\t 12.768724532005583\t    \t    \n",
            "1  \t [ 6.5655417  11.87699252]\t 134.95011349993544\t 12.768724532005583\t 5.229098297114108\t 4.888615086638568\n",
            "2  \t [-4.77493765 13.49591113]\t 19.896906503438096\t 12.768724532005583\t 5.302274617094189\t 5.918363841144785\n",
            "3  \t [ 1.21146284 15.        ]\t 128.69210522895327\t 12.768724532005583\t 5.459485089686377\t 5.76103591727659\n",
            "\u001b[1m\u001b[92m4\u001b[0m\t \u001b[1m\u001b[92m[2.54720482 0.07864599]\u001b[0m\t \u001b[1m\u001b[92m9.364642237420483\u001b[0m\t \u001b[1m\u001b[92m9.364642237420483\u001b[0m\t \u001b[1m\u001b[92m5.206880910560678\u001b[0m\t \u001b[1m\u001b[92m5.232289820884126\u001b[0m\n",
            "5  \t [9.99501649 7.39458825]\t 21.247060417486146\t 9.364642237420483\t 5.928196350289883\t 5.6087816373322275\n",
            "6  \t [4.31404749 6.82491505]\t 34.22443290077146\t 9.364642237420483\t 5.236792309383744\t 5.140930237630988\n",
            "7  \t [10. 15.]\t 145.87219087939556\t 9.364642237420483\t 4.45337183745326\t 4.356430372174781\n",
            "8  \t [-5.  0.]\t 308.12909601160663\t 9.364642237420483\t 5.735921514460599\t 5.707824828760534\n",
            "9  \t [ 2.66617257 10.11516454]\t 56.819406694928674\t 9.364642237420483\t 4.47191952130371\t 4.986529385830498\n",
            "10 \t [-1.72610592 11.93913724]\t 16.394254941736527\t 9.364642237420483\t 4.920439712183617\t 5.3107070225314486\n",
            "11 \t [-5.          9.57986674]\t 70.5977081150132\t 9.364642237420483\t 4.903193187515277\t 5.140249084441264\n",
            "\u001b[1m\u001b[92m12\u001b[0m\t \u001b[1m\u001b[92m[3.04659233 3.38882768]\u001b[0m\t \u001b[1m\u001b[92m1.5198224356961507\u001b[0m\t \u001b[1m\u001b[92m1.5198224356961507\u001b[0m\t \u001b[1m\u001b[92m4.5772125565880035\u001b[0m\t \u001b[1m\u001b[92m5.136924364556199\u001b[0m\n",
            "13 \t [4.79604945 2.05583199]\t 11.317140877221311\t 1.5198224356961507\t 5.951121222054921\t 5.748758649112735\n",
            "14 \t [-0.7917398   0.79845457]\t 59.55237534570689\t 1.5198224356961507\t 5.097845486587103\t 5.084775979684428\n",
            "15 \t [ 5.04585578 15.        ]\t 201.97470559337938\t 1.5198224356961507\t 4.526013156995378\t 4.631561644558632\n",
            "16 \t [7.85524398 5.33587102]\t 24.938229358955226\t 1.5198224356961507\t 5.8143912316671775\t 5.837316978127119\n",
            "17 \t [4.62657048 4.196267  ]\t 16.986025033527365\t 1.5198224356961507\t 4.9819648975177016\t 5.173958478052245\n",
            "18 \t [6.49499436 8.65173676]\t 76.22704893754486\t 1.5198224356961507\t 5.013239388437018\t 5.3324830249999255\n",
            "19 \t [10.         10.74804169]\t 61.92948364647507\t 1.5198224356961507\t 4.941758710196496\t 5.051819242379457\n",
            "20 \t [5.91090547 0.        ]\t 20.167728032626272\t 1.5198224356961507\t 4.632617359441643\t 4.713279977021766\n"
          ]
        }
      ],
      "source": [
        "### EXACT GP ERM GRADIENTS\n",
        "\n",
        "np.random.seed(run_num_15)\n",
        "surrogate_gp_15 = dGaussianProcess(cov_func, optimize=opt)\n",
        "\n",
        "gp_15 = dGPGO_gp(surrogate_gp_15, Acquisition_grad(util_gp), objfunc, param)\n",
        "gp_15.run(init_evals=n_init, max_iter=iters)\n"
      ]
    },
    {
      "cell_type": "code",
      "execution_count": null,
      "metadata": {
        "id": "bGGkhp-kGCw6",
        "colab": {
          "base_uri": "https://localhost:8080/"
        },
        "outputId": "0ab52df7-4a0a-4747-ea1d-8424ef8ca1c2"
      },
      "outputs": [
        {
          "output_type": "stream",
          "name": "stdout",
          "text": [
            "Evaluation \t Proposed point \t  Current eval. \t  Best eval. \t        Exact ERM: StdDev. x \t Approx ERM: StdDev. x \n",
            "init\t [-1.65063381  7.84745012]\t 10.514702126319445\t 2.715864006988424\t    \t    \n",
            "init\t [3.26052185 0.68402925]\t 2.715864006988424\t 2.715864006988424\t    \t    \n",
            "init\t [0.41093253 3.34621413]\t 22.889515127492515\t 2.715864006988424\t    \t    \n",
            "init\t [5.33089243 2.45597138]\t 17.178157611778595\t 2.715864006988424\t    \t    \n",
            "init\t [-3.945127  14.1151629]\t 3.3649224341694195\t 2.715864006988424\t    \t    \n",
            "1  \t [ 5.63879248 14.58068289]\t 198.51319639462758\t 2.715864006988424\t 5.410561144923152\t 5.5393645132027105\n",
            "2  \t [-5.          0.77723009]\t 282.01611609418495\t 2.715864006988424\t 5.833148349613304\t 5.332073435864266\n",
            "3  \t [10.          5.64059168]\t 8.900259472871072\t 2.715864006988424\t 5.0983624811193655\t 5.631489293253166\n",
            "4  \t [4.11243132 8.80009307]\t 55.85062737292832\t 2.715864006988424\t 4.724306931768137\t 5.4747327024705275\n",
            "5  \t [-5.         10.28108353]\t 60.42040928471862\t 2.715864006988424\t 5.544619074622109\t 5.545576505817304\n",
            "6  \t [10.         10.86618331]\t 63.773474833133626\t 2.715864006988424\t 5.945505694131927\t 5.995039332125745\n",
            "7  \t [ 0.36855248 15.        ]\t 110.52351557994749\t 2.715864006988424\t 3.9010129667121043\t 4.4977213353465535\n",
            "8  \t [10. 15.]\t 145.87219087939556\t 2.715864006988424\t 4.9857177216238835\t 5.332981048636464\n",
            "\u001b[1m\u001b[92m9\u001b[0m\t \u001b[1m\u001b[92m[9.23747248 1.84803799]\u001b[0m\t \u001b[1m\u001b[92m0.7900330342927973\u001b[0m\t \u001b[1m\u001b[92m0.7900330342927973\u001b[0m\t \u001b[1m\u001b[92m4.879900204610705\u001b[0m\t \u001b[1m\u001b[92m5.15957319184036\u001b[0m\n",
            "10 \t [-5.          5.59824037]\t 147.03144724540155\t 0.7900330342927973\t 5.089672218463749\t 5.0062932063273715\n",
            "11 \t [-0.83842475  0.        ]\t 71.5539846868843\t 0.7900330342927973\t 4.82387076539334\t 4.6830064907865205\n",
            "12 \t [-0.80051684 11.14198641]\t 31.013575234537665\t 0.7900330342927973\t 4.596574735708116\t 4.454189891255559\n",
            "13 \t [5.77977349 5.80762428]\t 40.415527850035076\t 0.7900330342927973\t 4.254003482365982\t 4.114931975413594\n",
            "14 \t [1.78699717 6.19323831]\t 14.82972604925502\t 0.7900330342927973\t 4.710559611552577\t 4.788055924650616\n",
            "15 \t [ 2.6304753  11.96989331]\t 87.41979978821439\t 0.7900330342927973\t 4.836826557035497\t 4.677868211280059\n",
            "16 \t [ 6.20068477 11.22115843]\t 122.04266385940957\t 0.7900330342927973\t 4.550539341480504\t 4.837246896359868\n",
            "17 \t [8.52761474 3.1386196 ]\t 5.742866303239097\t 0.7900330342927973\t 5.6129428084331305\t 5.534225148633576\n",
            "18 \t [10.          7.81186739]\t 25.068763583409776\t 0.7900330342927973\t 5.058275694224403\t 5.238638602624752\n",
            "19 \t [-1.5732743   5.36355986]\t 21.948777977241452\t 0.7900330342927973\t 4.452253706960372\t 4.833785506622898\n",
            "20 \t [6.82576035 0.        ]\t 19.557796077699543\t 0.7900330342927973\t 5.512897063507817\t 5.670046209086297\n"
          ]
        }
      ],
      "source": [
        "### EXACT GP ERM GRADIENTS\n",
        "\n",
        "np.random.seed(run_num_16)\n",
        "surrogate_gp_16 = dGaussianProcess(cov_func, optimize=opt)\n",
        "\n",
        "gp_16 = dGPGO_gp(surrogate_gp_16, Acquisition_grad(util_gp), objfunc, param)\n",
        "gp_16.run(init_evals=n_init, max_iter=iters)\n"
      ]
    },
    {
      "cell_type": "code",
      "execution_count": null,
      "metadata": {
        "id": "Yrs2mp7hGC1Z",
        "colab": {
          "base_uri": "https://localhost:8080/"
        },
        "outputId": "2cc27912-d713-4673-f216-e731c3277e0b"
      },
      "outputs": [
        {
          "output_type": "stream",
          "name": "stdout",
          "text": [
            "Evaluation \t Proposed point \t  Current eval. \t  Best eval. \t        Exact ERM: StdDev. x \t Approx ERM: StdDev. x \n",
            "init\t [-0.58002496  7.95880133]\t 19.016141117164256\t 19.016141117164256\t    \t    \n",
            "init\t [-2.1271882   1.01850537]\t 85.05949339404415\t 19.016141117164256\t    \t    \n",
            "init\t [6.8047819  9.84500283]\t 93.89792695202516\t 19.016141117164256\t    \t    \n",
            "init\t [4.56281344 8.63404341]\t 60.50217141122736\t 19.016141117164256\t    \t    \n",
            "init\t [-4.41405626  5.36720407]\t 110.70834086593878\t 19.016141117164256\t    \t    \n",
            "\u001b[1m\u001b[92m1\u001b[0m\t \u001b[1m\u001b[92m[9.76575296 0.98553483]\u001b[0m\t \u001b[1m\u001b[92m4.1623278326263815\u001b[0m\t \u001b[1m\u001b[92m4.1623278326263815\u001b[0m\t \u001b[1m\u001b[92m6.2106230096475326\u001b[0m\t \u001b[1m\u001b[92m6.393209536511405\u001b[0m\n",
            "2  \t [-0.36591853 14.49945231]\t 81.3728947682288\t 4.1623278326263815\t 5.216215013912565\t 5.116096090716837\n",
            "\u001b[1m\u001b[92m3\u001b[0m\t \u001b[1m\u001b[92m[3.74599703 2.35814314]\u001b[0m\t \u001b[1m\u001b[92m2.3563457989420957\u001b[0m\t \u001b[1m\u001b[92m2.3563457989420957\u001b[0m\t \u001b[1m\u001b[92m4.735952348940336\u001b[0m\t \u001b[1m\u001b[92m4.797045298621163\u001b[0m\n",
            "4  \t [10.         14.83591807]\t 141.96211758268552\t 2.3563457989420957\t 5.785721789142651\t 5.806814569147859\n",
            "5  \t [9.40340415 5.54620471]\t 9.943082500300157\t 2.3563457989420957\t 4.963489617552288\t 5.355295576146952\n",
            "6  \t [-5.         11.25245434]\t 47.946860113766995\t 2.3563457989420957\t 5.252930679566411\t 5.612004677995332\n",
            "7  \t [ 4.99405377 14.31114788]\t 182.64524954946458\t 2.3563457989420957\t 5.159571696635687\t 4.98734187389152\n",
            "8  \t [6.74191484 3.08550618]\t 22.38745217867914\t 2.3563457989420957\t 5.379858471775466\t 5.5341892148994525\n",
            "9  \t [1.94926006 0.        ]\t 17.934067106924132\t 2.3563457989420957\t 5.251199721002724\t 5.633747222672948\n",
            "10 \t [1.4338906  4.08437962]\t 11.32065797283982\t 2.3563457989420957\t 4.671494175678604\t 4.7079437760760925\n",
            "11 \t [5.4647046 0.       ]\t 17.908158366978736\t 2.3563457989420957\t 5.860645462072595\t 5.764188384402852\n",
            "12 \t [ 1.66730529 10.98834972]\t 62.11432572852553\t 2.3563457989420957\t 5.775788299340796\t 5.646499154942839\n",
            "13 \t [-1.88173451 11.37504081]\t 10.759123501853288\t 2.3563457989420957\t 4.956911260291174\t 4.768919432183457\n",
            "14 \t [10.          8.76832234]\t 35.182582675394706\t 2.3563457989420957\t 4.572606847406638\t 5.090323276840713\n",
            "15 \t [4.74574555 4.91239588]\t 22.965213501188845\t 2.3563457989420957\t 5.097087231637567\t 5.1675127837802295\n",
            "16 \t [-3.78333242 14.35012882]\t 2.5382597946685763\t 2.3563457989420957\t 4.728428522518361\t 4.665557551094077\n",
            "17 \t [-1.05480413  4.73365754]\t 24.278643545451946\t 2.3563457989420957\t 3.9090591098679\t 4.584112273040066\n",
            "18 \t [2.42421895 6.24637839]\t 13.956484270822592\t 2.3563457989420957\t 4.954300967416556\t 5.170576144079973\n",
            "19 \t [-5.          1.80053186]\t 249.47823277397916\t 2.3563457989420957\t 5.086761074367863\t 5.4466205170756465\n",
            "\u001b[1m\u001b[92m20\u001b[0m\t \u001b[1m\u001b[92m[9.9683401  3.23455468]\u001b[0m\t \u001b[1m\u001b[92m1.8509281105180317\u001b[0m\t \u001b[1m\u001b[92m1.8509281105180317\u001b[0m\t \u001b[1m\u001b[92m4.966765487681353\u001b[0m\t \u001b[1m\u001b[92m4.870208831727565\u001b[0m\n"
          ]
        }
      ],
      "source": [
        "### EXACT GP ERM GRADIENTS\n",
        "\n",
        "np.random.seed(run_num_17)\n",
        "surrogate_gp_17 = dGaussianProcess(cov_func, optimize=opt)\n",
        "\n",
        "gp_17 = dGPGO_gp(surrogate_gp_17, Acquisition_grad(util_gp), objfunc, param)\n",
        "gp_17.run(init_evals=n_init, max_iter=iters)\n"
      ]
    },
    {
      "cell_type": "code",
      "execution_count": null,
      "metadata": {
        "id": "f0HIEP3PIUEa",
        "colab": {
          "base_uri": "https://localhost:8080/"
        },
        "outputId": "3eb5627c-1083-4c5b-fb3f-15275ddffc21"
      },
      "outputs": [
        {
          "output_type": "stream",
          "name": "stdout",
          "text": [
            "Evaluation \t Proposed point \t  Current eval. \t  Best eval. \t        Exact ERM: StdDev. x \t Approx ERM: StdDev. x \n",
            "init\t [4.75561363 7.58180061]\t 49.215059064668324\t 8.150075223157177\t    \t    \n",
            "init\t [8.17902206 2.72760338]\t 8.150075223157177\t 8.150075223157177\t    \t    \n",
            "init\t [ 7.78349603 11.25204429]\t 106.98107856533271\t 8.150075223157177\t    \t    \n",
            "init\t [ 4.99152501 14.81843172]\t 196.08601750690153\t 8.150075223157177\t    \t    \n",
            "init\t [-1.14547366  0.42458888]\t 71.23649635555944\t 8.150075223157177\t    \t    \n",
            "1  \t [-4.83474958 11.77354131]\t 35.58412906267954\t 8.150075223157177\t 5.057184276951297\t 5.155761413869055\n",
            "2  \t [-0.88714687  6.68331353]\t 16.754341712767037\t 8.150075223157177\t 5.075507459560602\t 5.118697565376318\n",
            "3  \t [9.35887108 6.57464965]\t 17.680119729213096\t 8.150075223157177\t 4.743364812398619\t 4.540537172535264\n",
            "4  \t [-0.63498014 15.        ]\t 80.73140113884219\t 8.150075223157177\t 5.403681316810754\t 5.869053753940788\n",
            "5  \t [-0.12756076 10.65515995]\t 39.32694072953375\t 8.150075223157177\t 4.9078739926935615\t 4.558219005564233\n",
            "\u001b[1m\u001b[92m6\u001b[0m\t \u001b[1m\u001b[92m[4.16504649 0.        ]\u001b[0m\t \u001b[1m\u001b[92m7.601947803668464\u001b[0m\t \u001b[1m\u001b[92m7.601947803668464\u001b[0m\t \u001b[1m\u001b[92m5.085282357814381\u001b[0m\t \u001b[1m\u001b[92m5.110331399039754\u001b[0m\n",
            "7  \t [-5.          3.99491174]\t 186.76444432328384\t 7.601947803668464\t 5.111225836562359\t 5.524723038456916\n",
            "8  \t [10. 15.]\t 145.87219087939556\t 7.601947803668464\t 4.745770376934164\t 5.077567362519782\n",
            "\u001b[1m\u001b[92m9\u001b[0m\t \u001b[1m\u001b[92m[4.04288989 3.52229312]\u001b[0m\t \u001b[1m\u001b[92m7.445892086973834\u001b[0m\t \u001b[1m\u001b[92m7.445892086973834\u001b[0m\t \u001b[1m\u001b[92m5.662387227402091\u001b[0m\t \u001b[1m\u001b[92m5.570944370946155\u001b[0m\n",
            "10 \t [-4.73937452  8.11274109]\t 79.67977183840433\t 7.445892086973834\t 5.562910345592445\t 5.725954000644134\n",
            "11 \t [ 3.16299936 11.39289595]\t 83.83974329676161\t 7.445892086973834\t 5.436183376695503\t 5.4733294672935795\n",
            "12 \t [-5.  0.]\t 308.12909601160663\t 7.445892086973834\t 5.144624409380325\t 4.969800697255191\n",
            "\u001b[1m\u001b[92m13\u001b[0m\t \u001b[1m\u001b[92m[9.03261402 0.        ]\u001b[0m\t \u001b[1m\u001b[92m5.810034234100348\u001b[0m\t \u001b[1m\u001b[92m5.810034234100348\u001b[0m\t \u001b[1m\u001b[92m4.564585603765389\u001b[0m\t \u001b[1m\u001b[92m4.483392871547311\u001b[0m\n",
            "14 \t [1.28760753 3.12753761]\t 13.759107656156424\t 5.810034234100348\t 4.496512560194493\t 4.287352506122094\n",
            "15 \t [-4.42535272 14.61247769]\t 8.204301440997101\t 5.810034234100348\t 5.126052221279701\t 5.278679460647742\n",
            "16 \t [6.63724656 0.        ]\t 20.277692837610786\t 5.810034234100348\t 4.6608701495603215\t 4.5661146923508555\n",
            "17 \t [2.06470708 5.82622396]\t 12.009651469610098\t 5.810034234100348\t 5.855967025048912\t 5.808586403212089\n",
            "\u001b[1m\u001b[92m18\u001b[0m\t \u001b[1m\u001b[92m[10.         3.8933149]\u001b[0m\t \u001b[1m\u001b[92m2.735878551786099\u001b[0m\t \u001b[1m\u001b[92m2.735878551786099\u001b[0m\t \u001b[1m\u001b[92m4.244330196477601\u001b[0m\t \u001b[1m\u001b[92m4.476337194964755\u001b[0m\n",
            "19 \t [7.27898092 4.49690635]\t 25.70084123255058\t 2.735878551786099\t 4.352145730434068\t 4.362937974053026\n",
            "20 \t [1.96722186 0.71296413]\t 13.346968728316085\t 2.735878551786099\t 5.200741562544574\t 5.2391082113297776\n"
          ]
        }
      ],
      "source": [
        "### EXACT GP ERM GRADIENTS\n",
        "\n",
        "np.random.seed(run_num_18)\n",
        "surrogate_gp_18 = dGaussianProcess(cov_func, optimize=opt)\n",
        "\n",
        "gp_18 = dGPGO_gp(surrogate_gp_18, Acquisition_grad(util_gp), objfunc, param)\n",
        "gp_18.run(init_evals=n_init, max_iter=iters)\n"
      ]
    },
    {
      "cell_type": "code",
      "execution_count": null,
      "metadata": {
        "id": "S3mxRQDLIUPC",
        "colab": {
          "base_uri": "https://localhost:8080/"
        },
        "outputId": "b420b18a-1f28-4a12-d29a-7cfc503483d9"
      },
      "outputs": [
        {
          "output_type": "stream",
          "name": "stdout",
          "text": [
            "Evaluation \t Proposed point \t  Current eval. \t  Best eval. \t        Exact ERM: StdDev. x \t Approx ERM: StdDev. x \n",
            "init\t [-3.53699597 11.41874575]\t 4.475608269502271\t 4.475608269502271\t    \t    \n",
            "init\t [-1.2959304   2.07197531]\t 51.13947793770689\t 4.475608269502271\t    \t    \n",
            "init\t [-0.02830155  1.24499348]\t 42.63973921760034\t 4.475608269502271\t    \t    \n",
            "init\t [ 5.07965622 12.09890697]\t 131.17235664506808\t 4.475608269502271\t    \t    \n",
            "init\t [9.74112872 9.53491102]\t 46.84458913925112\t 4.475608269502271\t    \t    \n",
            "\u001b[1m\u001b[92m1\u001b[0m\t \u001b[1m\u001b[92m[9.57054653 2.03489665]\u001b[0m\t \u001b[1m\u001b[92m0.8198597583535783\u001b[0m\t \u001b[1m\u001b[92m0.8198597583535783\u001b[0m\t \u001b[1m\u001b[92m5.264363816634271\u001b[0m\t \u001b[1m\u001b[92m5.530288424406532\u001b[0m\n",
            "2  \t [4.94894051 4.56545987]\t 22.995257753719198\t 0.8198597583535783\t 5.588793985197896\t 5.986875118175558\n",
            "3  \t [-5.          6.36422973]\t 129.86390264478524\t 0.8198597583535783\t 4.956266668251157\t 5.45017680070392\n",
            "4  \t [ 0.09498041 15.        ]\t 103.28134455168016\t 0.8198597583535783\t 5.268203561071366\t 5.441372029545118\n",
            "5  \t [10. 15.]\t 145.87219087939556\t 0.8198597583535783\t 4.764258706087841\t 4.526255023944184\n",
            "6  \t [0.40358398 9.24732989]\t 33.79683336886079\t 0.8198597583535783\t 4.89879063708023\t 4.895917603199117\n",
            "7  \t [-5.  0.]\t 308.12909601160663\t 0.8198597583535783\t 5.115476473663529\t 5.31513659581071\n",
            "8  \t [5.68108845 0.        ]\t 19.185211663897224\t 0.8198597583535783\t 5.05375041556865\t 5.344878840394085\n",
            "9  \t [0.30159816 5.57804262]\t 19.170845607213394\t 0.8198597583535783\t 5.540353411746815\t 5.595142217913356\n",
            "10 \t [10.          5.20709057]\t 6.80134717884335\t 0.8198597583535783\t 5.06737260879014\t 5.010089703126629\n",
            "11 \t [5.01936262 8.08413677]\t 59.386995797350664\t 0.8198597583535783\t 4.523578181380393\t 5.062985828354138\n",
            "12 \t [9.07231429e+00 4.81250788e-03]\t 5.77957173802523\t 0.8198597583535783\t 4.53832236617042\t 4.940113841606479\n",
            "13 \t [3.26301061 1.54093348]\t 0.8798218733731975\t 0.8198597583535783\t 5.512584471026479\t 5.796491084836902\n",
            "14 \t [7.86401324 2.93253008]\t 12.033456692617728\t 0.8198597583535783\t 4.827600349221801\t 4.813177281971758\n",
            "15 \t [-3.64416928 14.12327325]\t 1.9547017806646618\t 0.8198597583535783\t 4.455246389163562\t 4.635718083087073\n",
            "16 \t [2.57574717 2.93460874]\t 1.9258318767428388\t 0.8198597583535783\t 4.488169501262287\t 4.849453991382028\n",
            "17 \t [-2.7304674   9.10988432]\t 6.03325741544623\t 0.8198597583535783\t 5.167654835160578\t 5.356424914151309\n",
            "18 \t [2.77491735 0.        ]\t 7.6839480534918145\t 0.8198597583535783\t 4.639591783036706\t 5.433691629626112\n",
            "19 \t [ 1.56525369 11.98953179]\t 76.70747871433095\t 0.8198597583535783\t 4.02012747253176\t 4.326487360515834\n",
            "20 \t [ 6.49261328 15.        ]\t 212.2596194543408\t 0.8198597583535783\t 5.142232929278456\t 5.20320752184217\n"
          ]
        }
      ],
      "source": [
        "### EXACT GP ERM GRADIENTS\n",
        "\n",
        "np.random.seed(run_num_19)\n",
        "surrogate_gp_19 = dGaussianProcess(cov_func, optimize=opt)\n",
        "\n",
        "gp_19 = dGPGO_gp(surrogate_gp_19, Acquisition_grad(util_gp), objfunc, param)\n",
        "gp_19.run(init_evals=n_init, max_iter=iters)\n"
      ]
    },
    {
      "cell_type": "code",
      "execution_count": null,
      "metadata": {
        "id": "Aawd59dRIUYn",
        "colab": {
          "base_uri": "https://localhost:8080/"
        },
        "outputId": "2c74d07d-7f1c-49e0-e895-a258be1d4516"
      },
      "outputs": [
        {
          "output_type": "stream",
          "name": "stdout",
          "text": [
            "Evaluation \t Proposed point \t  Current eval. \t  Best eval. \t        Exact ERM: StdDev. x \t Approx ERM: StdDev. x \n",
            "init\t [ 3.82196202 13.46570592]\t 138.5264349938869\t 14.042667401507376\t    \t    \n",
            "init\t [ 8.37296094 12.23756216]\t 115.63178540512689\t 14.042667401507376\t    \t    \n",
            "init\t [-4.46165622 10.37636373]\t 35.66708529307584\t 14.042667401507376\t    \t    \n",
            "init\t [0.68021413 7.77766418]\t 25.307769914281764\t 14.042667401507376\t    \t    \n",
            "init\t [4.86927198 2.90775327]\t 14.042667401507376\t 14.042667401507376\t    \t    \n",
            "1  \t [0.14992375 0.        ]\t 52.72147028896617\t 14.042667401507376\t 4.756048162008917\t 5.198976167051431\n",
            "\u001b[1m\u001b[92m2\u001b[0m\t \u001b[1m\u001b[92m[10.          5.64843486]\u001b[0m\t \u001b[1m\u001b[92m8.941695868504478\u001b[0m\t \u001b[1m\u001b[92m8.941695868504478\u001b[0m\t \u001b[1m\u001b[92m4.779979709327234\u001b[0m\t \u001b[1m\u001b[92m5.19648670392523\u001b[0m\n",
            "3  \t [-5.          4.78158886]\t 166.62691093349147\t 8.941695868504478\t 4.9106317983637435\t 5.257575073923963\n",
            "4  \t [-2.33773731 13.96321458]\t 15.844251775381395\t 8.941695868504478\t 5.599055299435761\t 6.166479540394654\n",
            "5  \t [-5.  0.]\t 308.12909601160663\t 8.941695868504478\t 5.738671321365932\t 5.6984326696873735\n",
            "\u001b[1m\u001b[92m6\u001b[0m\t \u001b[1m\u001b[92m[9.19905437 0.83066952]\u001b[0m\t \u001b[1m\u001b[92m2.7745590618899953\u001b[0m\t \u001b[1m\u001b[92m2.7745590618899953\u001b[0m\t \u001b[1m\u001b[92m4.804728987391762\u001b[0m\t \u001b[1m\u001b[92m5.152585185403995\u001b[0m\n",
            "7  \t [5.49750575 7.93367069]\t 62.74176825810233\t 2.7745590618899953\t 5.855604239191715\t 5.902157922410549\n",
            "8  \t [-0.10894803 11.47761654]\t 47.66367128034553\t 2.7745590618899953\t 5.134382522875399\t 5.354042660243576\n",
            "9  \t [0.88466782 3.96968559]\t 16.60673108539687\t 2.7745590618899953\t 4.830419891728843\t 4.902992234442298\n",
            "10 \t [5.55724611 0.        ]\t 18.49215148208436\t 2.7745590618899953\t 5.340790235275928\t 5.409458830303012\n",
            "11 \t [9.74424848 8.75814955]\t 36.88955250229134\t 2.7745590618899953\t 5.073332285961341\t 5.006488429941223\n",
            "12 \t [-2.60076717  7.78568928]\t 12.18413421587125\t 2.7745590618899953\t 5.305348800172934\t 5.339207663832022\n",
            "13 \t [8.05345736 3.33842411]\t 11.255828236849988\t 2.7745590618899953\t 5.301202291183487\t 5.596131248116886\n",
            "14 \t [ 0.75894508 14.91028497]\t 117.84431980561553\t 2.7745590618899953\t 5.0245710179956715\t 5.308276778845977\n",
            "15 \t [10. 15.]\t 145.87219087939556\t 2.7745590618899953\t 4.5801973762782175\t 4.797640573833742\n",
            "16 \t [-1.48347269  5.07214322]\t 23.604985086318358\t 2.7745590618899953\t 4.851402862397518\t 4.9978830455652234\n",
            "17 \t [ 2.67778201 10.17463543]\t 57.814485579990446\t 2.7745590618899953\t 4.7704043813026304\t 5.019720806657705\n",
            "18 \t [-2.28461777  2.46100624]\t 65.32555801169701\t 2.7745590618899953\t 5.31410852808173\t 5.377525048507114\n",
            "19 \t [3.59289592 5.22099756]\t 12.062877632429643\t 2.7745590618899953\t 5.432374523711956\t 5.63759138596556\n",
            "20 \t [2.53167525 1.90301761]\t 2.9314512071140273\t 2.7745590618899953\t 4.129558410246586\t 4.318122972438944\n"
          ]
        }
      ],
      "source": [
        "### EXACT GP ERM GRADIENTS\n",
        "\n",
        "np.random.seed(run_num_20)\n",
        "surrogate_gp_20 = dGaussianProcess(cov_func, optimize=opt)\n",
        "\n",
        "gp_20 = dGPGO_gp(surrogate_gp_20, Acquisition_grad(util_gp), objfunc, param)\n",
        "gp_20.run(init_evals=n_init, max_iter=iters)\n"
      ]
    },
    {
      "cell_type": "code",
      "execution_count": null,
      "metadata": {
        "id": "xkgzPRbBTHaq",
        "colab": {
          "base_uri": "https://localhost:8080/"
        },
        "outputId": "74df03ba-5cbb-411f-8f61-ba754ccaccfd"
      },
      "outputs": [
        {
          "output_type": "execute_result",
          "data": {
            "text/plain": [
              "1663676330.1740406"
            ]
          },
          "metadata": {},
          "execution_count": 33
        }
      ],
      "source": [
        "end_gp = time.time()\n",
        "end_gp\n",
        "\n",
        "time_gp = end_gp - start_gp\n",
        "time_gp\n",
        "\n",
        "start_stp = time.time()\n",
        "start_stp"
      ]
    },
    {
      "cell_type": "code",
      "execution_count": null,
      "metadata": {
        "id": "7CG3Ndvb16Rb",
        "colab": {
          "base_uri": "https://localhost:8080/"
        },
        "outputId": "256ec784-aeec-4e19-f930-96e294599d4a"
      },
      "outputs": [
        {
          "output_type": "stream",
          "name": "stdout",
          "text": [
            "Evaluation \t Proposed point \t  Current eval. \t  Best eval. \t        Exact ERM: StdDev. x \t Approx ERM: StdDev. x \n",
            "init\t [ 1.25533007 10.8048674 ]\t 56.52874004692151\t 27.68166689936483\t    \t    \n",
            "init\t [-4.99828438  4.53498859]\t 172.66531086516164\t 27.68166689936483\t    \t    \n",
            "init\t [-2.79866164  1.38507892]\t 102.58290348816024\t 27.68166689936483\t    \t    \n",
            "init\t [-2.20609683  5.18341091]\t 28.868064601155666\t 27.68166689936483\t    \t    \n",
            "init\t [0.95151211 8.08225101]\t 27.68166689936483\t 27.68166689936483\t    \t    \n",
            "\u001b[1m\u001b[92m1\u001b[0m\t \u001b[1m\u001b[92m[8.41909995 1.27566317]\u001b[0m\t \u001b[1m\u001b[92m5.089934878453152\u001b[0m\t \u001b[1m\u001b[92m5.089934878453152\u001b[0m\t \u001b[1m\u001b[92m5.340590691766231\u001b[0m\t \u001b[1m\u001b[92m5.496908624787056\u001b[0m\n",
            "2  \t [10. 15.]\t 145.87219087924458\t 5.089934878453152\t 5.715074871881187\t 5.7405797219728365\n",
            "3  \t [9.50914495 8.52150693]\t 36.125759150808236\t 5.089934878453152\t 5.201269653012405\t 5.439181591117297\n",
            "4  \t [-4.67712792 14.21955317]\t 13.865244792739254\t 5.089934878453152\t 5.3127732170976865\t 5.865813372485215\n",
            "5  \t [3.09728785 0.        ]\t 5.742509418786376\t 5.089934878453152\t 4.4019278052984205\t 4.820337050936547\n",
            "6  \t [4.9938493  5.39981407]\t 29.69177431126688\t 5.089934878453152\t 4.596702145286507\t 4.838787538754023\n",
            "7  \t [ 4.549066   14.90869537]\t 190.02550896349496\t 5.089934878453152\t 5.6637841153804915\t 6.262166726625311\n",
            "8  \t [-5.          9.61789439]\t 70.02056414282396\t 5.089934878453152\t 4.301191473981715\t 5.421702149817529\n",
            "9  \t [-0.34119122 14.73626174]\t 85.93157875380474\t 5.089934878453152\t 5.063498386040752\t 5.5959499697165205\n",
            "10 \t [5.44040493 9.32400767]\t 82.95968893464577\t 5.089934878453152\t 4.205407792796436\t 4.786197049194755\n",
            "11 \t [1.71452062 2.97402127]\t 9.082995130743484\t 5.089934878453152\t 4.4856656239716735\t 4.829304673823889\n",
            "\u001b[1m\u001b[92m12\u001b[0m\t \u001b[1m\u001b[92m[10.          3.55420647]\u001b[0m\t \u001b[1m\u001b[92m2.2470170807532712\u001b[0m\t \u001b[1m\u001b[92m2.2470170807532712\u001b[0m\t \u001b[1m\u001b[92m4.411624634452126\u001b[0m\t \u001b[1m\u001b[92m4.4490027126273315\u001b[0m\n",
            "13 \t [5.68783743 0.27491001]\t 18.675882888703676\t 2.2470170807532712\t 4.256835223439602\t 4.481929174659942\n",
            "14 \t [ 7.57497339 12.09678801]\t 127.99412387069582\t 2.2470170807532712\t 5.2630575791299625\t 5.173954467935474\n",
            "15 \t [8.0979843  5.40314601]\t 22.271955398154788\t 2.2470170807532712\t 4.751452799013882\t 5.533541070814908\n",
            "16 \t [-1.86461012 10.44641954]\t 8.279373514096967\t 2.2470170807532712\t 4.818604597602814\t 4.824606967583946\n",
            "17 \t [0.04624005 0.        ]\t 54.71741921384713\t 2.2470170807532712\t 4.890940402710457\t 4.610541949922215\n",
            "18 \t [-2.54699017  7.80941515]\t 11.54637330979547\t 2.2470170807532712\t 5.133609282321296\t 5.47797070532535\n",
            "19 \t [ 4.84302322 12.34504561]\t 132.75622858309882\t 2.2470170807532712\t 5.469194172265595\t 5.566192975595268\n",
            "20 \t [1.86676247 5.24630383]\t 10.322284335201251\t 2.2470170807532712\t 5.3870830422114695\t 6.706250427851572\n"
          ]
        }
      ],
      "source": [
        "### EXACT STP ERM GRADIENTS\n",
        "\n",
        "np.random.seed(run_num_1)\n",
        "surrogate_stp_1 = dtStudentProcess(cov_func, optimize=opt, nu = df)\n",
        "\n",
        "stp_1 = dGPGO_stp(surrogate_stp_1, Acquisition_grad(util_stp), objfunc, param)\n",
        "stp_1.run(init_evals=n_init, max_iter=iters)\n"
      ]
    },
    {
      "cell_type": "code",
      "execution_count": null,
      "metadata": {
        "id": "-ilCPSAu9SAg",
        "colab": {
          "base_uri": "https://localhost:8080/"
        },
        "outputId": "2c47b21d-57f2-419c-823e-fae6f9462a95"
      },
      "outputs": [
        {
          "output_type": "stream",
          "name": "stdout",
          "text": [
            "Evaluation \t Proposed point \t  Current eval. \t  Best eval. \t        Exact ERM: StdDev. x \t Approx ERM: StdDev. x \n",
            "init\t [1.53992353 0.38889348]\t 22.31361308916297\t 6.692051508754487\t    \t    \n",
            "init\t [3.24493717 6.52983589]\t 19.233109967858276\t 6.692051508754487\t    \t    \n",
            "init\t [1.30551703 4.95502232]\t 13.177851563387286\t 6.692051508754487\t    \t    \n",
            "init\t [-1.93027049  9.2890645 ]\t 6.692051508754487\t 6.692051508754487\t    \t    \n",
            "init\t [-0.50517989  4.00240913]\t 26.437522758780958\t 6.692051508754487\t    \t    \n",
            "1  \t [ 9.5587047  12.00387527]\t 89.09951357262268\t 6.692051508754487\t 5.599226190971729\t 6.086998482655873\n",
            "\u001b[1m\u001b[92m2\u001b[0m\t \u001b[1m\u001b[92m[9.59366035 1.69164323]\u001b[0m\t \u001b[1m\u001b[92m1.3984593420568778\u001b[0m\t \u001b[1m\u001b[92m1.3984593420568778\u001b[0m\t \u001b[1m\u001b[92m4.413475142154889\u001b[0m\t \u001b[1m\u001b[92m5.5216330813752785\u001b[0m\n",
            "3  \t [ 3.24245232 12.67669673]\t 110.25694222671481\t 1.3984593420568778\t 5.568444047507924\t 6.045299537237288\n",
            "4  \t [-5.  0.]\t 308.12909601160663\t 1.3984593420568778\t 5.464328296398272\t 5.459384948106579\n",
            "5  \t [-5.          5.78298656]\t 142.78348721830454\t 1.3984593420568778\t 5.351473152499579\t 5.78448905986798\n",
            "6  \t [-3.95509114 14.02730345]\t 3.486800558660862\t 1.3984593420568778\t 5.25367684696131\t 5.299565460006577\n",
            "7  \t [6.10273603 0.        ]\t 20.65282479637566\t 1.3984593420568778\t 4.565442658200733\t 5.184207736857134\n",
            "8  \t [7.94468569 6.87836372]\t 37.95481386990482\t 1.3984593420568778\t 4.738121722899462\t 5.4865055061551935\n",
            "9  \t [-5.         10.71976079]\t 54.553594295328374\t 1.3984593420568778\t 5.152967316105071\t 4.381148404605845\n",
            "10 \t [ 6.95708896 14.99211561]\t 208.27424212215737\t 1.3984593420568778\t 5.077274939177755\t 5.068750738528872\n",
            "11 \t [-0.97662797 12.64336388]\t 40.034580212291175\t 1.3984593420568778\t 5.4581339496580545\t 6.028849039383727\n",
            "12 \t [5.93359713 3.41929192]\t 24.378838038516605\t 1.3984593420568778\t 5.274764348010127\t 5.218310049495526\n",
            "13 \t [9.90247319 4.23859685]\t 3.2447964405896137\t 1.3984593420568778\t 5.530178171321785\t 4.893354834285954\n",
            "14 \t [6.08406544 9.7106972 ]\t 93.57743701539373\t 1.3984593420568778\t 5.454551814908784\t 6.2990787510294135\n",
            "15 \t [-1.78779647  1.0538651 ]\t 75.24488271527939\t 1.3984593420568778\t 5.487532417753382\t 5.1186564623852036\n",
            "16 \t [0.86502943 9.33277869]\t 37.506486752235844\t 1.3984593420568778\t 5.446755882913431\t 4.792400292873811\n",
            "17 \t [ 4.65840401 14.36372523]\t 177.81713455401555\t 1.3984593420568778\t 4.226328929448634\t 4.379733345542626\n",
            "18 \t [-1.62323085  6.90167749]\t 13.585880045170331\t 1.3984593420568778\t 5.2615834099622\t 5.945286040498561\n",
            "\u001b[1m\u001b[92m19\u001b[0m\t \u001b[1m\u001b[92m[3.07328493 2.67531427]\u001b[0m\t \u001b[1m\u001b[92m0.5403015489870544\u001b[0m\t \u001b[1m\u001b[92m0.5403015489870544\u001b[0m\t \u001b[1m\u001b[92m5.569276869488258\u001b[0m\t \u001b[1m\u001b[92m6.658202669111467\u001b[0m\n",
            "20 \t [10. 15.]\t 145.87219087928463\t 0.5403015489870544\t 5.892849300098177\t 6.665273753607545\n"
          ]
        }
      ],
      "source": [
        "### EXACT STP ERM GRADIENTS\n",
        "\n",
        "np.random.seed(run_num_2)\n",
        "surrogate_stp_2 = dtStudentProcess(cov_func, optimize=opt, nu = df)\n",
        "\n",
        "stp_2 = dGPGO_stp(surrogate_stp_2, Acquisition_grad(util_stp), objfunc, param)\n",
        "stp_2.run(init_evals=n_init, max_iter=iters)\n"
      ]
    },
    {
      "cell_type": "code",
      "execution_count": null,
      "metadata": {
        "id": "XieJ158mIvlP",
        "colab": {
          "base_uri": "https://localhost:8080/"
        },
        "outputId": "0c85afa5-bbdc-4e69-c102-576ff904d58c"
      },
      "outputs": [
        {
          "output_type": "stream",
          "name": "stdout",
          "text": [
            "Evaluation \t Proposed point \t  Current eval. \t  Best eval. \t        Exact ERM: StdDev. x \t Approx ERM: StdDev. x \n",
            "init\t [ 3.26196854 10.62221734]\t 71.68783452098575\t 18.07886746449891\t    \t    \n",
            "init\t [-0.63642892  7.66241408]\t 18.07886746449891\t 18.07886746449891\t    \t    \n",
            "init\t [ 8.39420432 13.44439633]\t 141.98653529865882\t 18.07886746449891\t    \t    \n",
            "init\t [-3.11622034  3.10864317]\t 83.31045707266176\t 18.07886746449891\t    \t    \n",
            "init\t [-4.22799195  6.61214765]\t 76.5294170688398\t 18.07886746449891\t    \t    \n",
            "1  \t [6.70472147 4.59545299]\t 30.726791812855225\t 18.07886746449891\t 4.241477993385701\t 4.241477993385701\n",
            "\u001b[1m\u001b[92m2\u001b[0m\t \u001b[1m\u001b[92m[-3.89564496 13.38589781]\u001b[0m\t \u001b[1m\u001b[92m3.6010193697779265\u001b[0m\t \u001b[1m\u001b[92m3.6010193697779265\u001b[0m\t \u001b[1m\u001b[92m5.205194297266853\u001b[0m\t \u001b[1m\u001b[92m6.041582924078019\u001b[0m\n",
            "3  \t [10.          7.61285855]\t 23.194336566245866\t 3.6010193697779265\t 5.454625391754562\t 6.646141012317317\n",
            "4  \t [1.92237887 0.        ]\t 18.37485478152121\t 3.6010193697779265\t 4.412182154941415\t 4.219843510886701\n",
            "5  \t [6.79543598 0.        ]\t 19.6925879675945\t 3.6010193697779265\t 4.873939140838872\t 6.472241249811275\n",
            "6  \t [0.99668535 4.38474452]\t 15.239543865281291\t 3.6010193697779265\t 4.652395098453496\t 4.806125640228084\n",
            "7  \t [ 0.7273756  14.67607729]\t 112.53473754745858\t 3.6010193697779265\t 5.009701027003779\t 4.633429077805425\n",
            "8  \t [-5.  0.]\t 308.12909601160663\t 3.6010193697779265\t 5.1838454360882285\t 5.560333984594891\n",
            "9  \t [ 6.22047423 11.17698776]\t 121.158913811279\t 3.6010193697779265\t 4.253390133888657\t 4.206377646284788\n",
            "\u001b[1m\u001b[92m10\u001b[0m\t \u001b[1m\u001b[92m[9.69076517 1.91135623]\u001b[0m\t \u001b[1m\u001b[92m1.371007380740057\u001b[0m\t \u001b[1m\u001b[92m1.371007380740057\u001b[0m\t \u001b[1m\u001b[92m4.090344810315544\u001b[0m\t \u001b[1m\u001b[92m5.4267592283359525\u001b[0m\n",
            "11 \t [-1.89997183 11.08706323]\t 9.4458333149888\t 1.371007380740057\t 5.420020301981195\t 5.194884365547735\n",
            "12 \t [3.6925435  6.58347869]\t 23.898675444210223\t 1.371007380740057\t 5.0783860942491375\t 5.4541920256487515\n",
            "13 \t [-4.88539687 10.1296702 ]\t 56.93160466539013\t 1.371007380740057\t 6.102763898769266\t 6.225766735150563\n",
            "14 \t [ 4.42319744 15.        ]\t 189.84352272767958\t 1.371007380740057\t 5.411197042337134\t 6.416352665575477\n",
            "15 \t [9.97819911 4.3422164 ]\t 3.683034505878166\t 1.371007380740057\t 5.432092299742337\t 5.544167401459289\n",
            "16 \t [4.59183497 1.63959267]\t 8.89534930513642\t 1.371007380740057\t 5.187630054585364\t 5.243853630207997\n",
            "17 \t [-0.2470508  12.67633296]\t 58.6893940287311\t 1.371007380740057\t 5.205730516655265\t 4.85800434317726\n",
            "18 \t [6.02719806 3.012551  ]\t 22.945854874494934\t 1.371007380740057\t 5.030836359942069\t 5.096079054138333\n",
            "19 \t [6.19401586 7.32768803]\t 58.37062426290875\t 1.371007380740057\t 5.182199826895691\t 5.474795483871376\n",
            "20 \t [-1.1916868e+00  2.0268110e-06]\t 78.84142904286689\t 1.371007380740057\t 4.7506809998744455\t 4.627902144392594\n"
          ]
        }
      ],
      "source": [
        "### EXACT STP ERM GRADIENTS\n",
        "\n",
        "np.random.seed(run_num_3)\n",
        "surrogate_stp_3 = dtStudentProcess(cov_func, optimize=opt, nu = df)\n",
        "\n",
        "stp_3 = dGPGO_stp(surrogate_stp_3, Acquisition_grad(util_stp), objfunc, param)\n",
        "stp_3.run(init_evals=n_init, max_iter=iters)\n"
      ]
    },
    {
      "cell_type": "code",
      "execution_count": null,
      "metadata": {
        "id": "PhLBVOIfIvol",
        "colab": {
          "base_uri": "https://localhost:8080/"
        },
        "outputId": "9aebd4ec-7ffb-49d3-9bba-c38fc20f109c"
      },
      "outputs": [
        {
          "output_type": "stream",
          "name": "stdout",
          "text": [
            "Evaluation \t Proposed point \t  Current eval. \t  Best eval. \t        Exact ERM: StdDev. x \t Approx ERM: StdDev. x \n",
            "init\t [9.50544759 8.20848374]\t 32.51676744781521\t 7.247126865776948\t    \t    \n",
            "init\t [ 9.5902654  10.72223991]\t 66.20566674364716\t 7.247126865776948\t    \t    \n",
            "init\t [5.46593237 3.24134243]\t 20.90089401680587\t 7.247126865776948\t    \t    \n",
            "init\t [9.64411682 0.09345383]\t 7.247126865776948\t 7.247126865776948\t    \t    \n",
            "init\t [-1.20526456  6.52187299]\t 15.941376982363263\t 7.247126865776948\t    \t    \n",
            "1  \t [ 1.25164457 13.57001383]\t 100.61648848019335\t 7.247126865776948\t 5.2402538839240655\t 5.741752587556389\n",
            "2  \t [-5.  0.]\t 308.12909601160663\t 7.247126865776948\t 6.20581639654956\t 5.898092220590237\n",
            "3  \t [4.10141048 8.46112595]\t 50.94447777623793\t 7.247126865776948\t 5.018840856051719\t 5.868780513318772\n",
            "4  \t [-5.          8.29016774]\t 91.88378422148983\t 7.247126865776948\t 5.384694354725709\t 6.589363478829995\n",
            "5  \t [0.79785733 0.        ]\t 39.86385550359393\t 7.247126865776948\t 5.862339490397121\t 6.04518653265454\n",
            "6  \t [ 8.92772357 15.        ]\t 168.28884975068254\t 7.247126865776948\t 4.388926660594463\t 5.811943896636423\n",
            "7  \t [ 5.65108715 12.00827959]\t 136.0513252853779\t 7.247126865776948\t 4.403524432263372\t 5.904108973773672\n",
            "\u001b[1m\u001b[92m8\u001b[0m\t \u001b[1m\u001b[92m[-2.57292201 11.59274259]\u001b[0m\t \u001b[1m\u001b[92m2.3220487610235105\u001b[0m\t \u001b[1m\u001b[92m2.3220487610235105\u001b[0m\t \u001b[1m\u001b[92m4.017544168266949\u001b[0m\t \u001b[1m\u001b[92m4.159758894364502\u001b[0m\n",
            "9  \t [-0.490197    9.83907875]\t 27.639328625909343\t 2.3220487610235105\t 5.017346226470611\t 5.852253642545327\n",
            "10 \t [8.92771524 3.76404284]\t 4.370211743563413\t 2.3220487610235105\t 5.328745387969035\t 6.048849291685884\n",
            "11 \t [-3.83661247 14.66994264]\t 3.0637462396772754\t 2.3220487610235105\t 4.91213111396393\t 4.25717858799327\n",
            "12 \t [6.89474821 6.10551723]\t 42.24296670727987\t 2.3220487610235105\t 4.8055606513655045\t 5.150318159785355\n",
            "13 \t [-5.          4.29731017]\t 178.8771377715247\t 2.3220487610235105\t 5.169424105578524\t 5.403881855157748\n",
            "14 \t [1.78959081 3.69048933]\t 7.931452794753375\t 2.3220487610235105\t 4.678884596321218\t 4.112723236598498\n",
            "15 \t [4.15471672 0.08782408]\t 7.258360339670874\t 2.3220487610235105\t 4.598785559545259\t 4.8850969054156925\n",
            "16 \t [6.89136143 0.        ]\t 19.24259116507897\t 2.3220487610235105\t 4.781368715042967\t 4.95571741279378\n",
            "17 \t [ 4.1113919  10.68011072]\t 86.29046140588906\t 2.3220487610235105\t 5.8506816649281825\t 5.488439019682175\n",
            "18 \t [-1.40721717  2.9498425 ]\t 42.31774561515712\t 2.3220487610235105\t 4.768405914019691\t 5.324251965993811\n",
            "19 \t [2.01082618 6.13304728]\t 13.811706335962079\t 2.3220487610235105\t 4.798822575450352\t 6.269234843061978\n",
            "20 \t [ 4.66793429 14.2132705 ]\t 174.1215917547776\t 2.3220487610235105\t 4.803480026689629\t 4.844593796024297\n"
          ]
        }
      ],
      "source": [
        "### EXACT STP ERM GRADIENTS\n",
        "\n",
        "np.random.seed(run_num_4)\n",
        "surrogate_stp_4 = dtStudentProcess(cov_func, optimize=opt, nu = df)\n",
        "\n",
        "stp_4 = dGPGO_stp(surrogate_stp_4, Acquisition_grad(util_stp), objfunc, param)\n",
        "stp_4.run(init_evals=n_init, max_iter=iters)\n"
      ]
    },
    {
      "cell_type": "code",
      "execution_count": null,
      "metadata": {
        "id": "arbiPyj2IvsJ",
        "colab": {
          "base_uri": "https://localhost:8080/"
        },
        "outputId": "af1764ac-1b96-4615-b882-a137c11e311b"
      },
      "outputs": [
        {
          "output_type": "stream",
          "name": "stdout",
          "text": [
            "Evaluation \t Proposed point \t  Current eval. \t  Best eval. \t        Exact ERM: StdDev. x \t Approx ERM: StdDev. x \n",
            "init\t [-1.67010243 13.06098459]\t 25.390690545664548\t 25.311309190989615\t    \t    \n",
            "init\t [-1.89921267 13.77916362]\t 25.311309190989615\t 25.311309190989615\t    \t    \n",
            "init\t [2.32616783 9.17615794]\t 41.60147975414021\t 25.311309190989615\t    \t    \n",
            "init\t [6.48861785 7.77626982]\t 63.81281921768236\t 25.311309190989615\t    \t    \n",
            "init\t [-0.54799248  2.81581843]\t 34.966203644931994\t 25.311309190989615\t    \t    \n",
            "\u001b[1m\u001b[92m1\u001b[0m\t \u001b[1m\u001b[92m[8.84124421 0.03321319]\u001b[0m\t \u001b[1m\u001b[92m5.96108856337545\u001b[0m\t \u001b[1m\u001b[92m5.96108856337545\u001b[0m\t \u001b[1m\u001b[92m6.141465238109788\u001b[0m\t \u001b[1m\u001b[92m6.0812975364330475\u001b[0m\n",
            "2  \t [ 8.50022859 15.        ]\t 178.31120292364685\t 5.96108856337545\t 5.543552314619118\t 5.474371671665266\n",
            "3  \t [-5.        7.931711]\t 98.39079249024725\t 5.96108856337545\t 5.621589944011876\t 5.7359174610527885\n",
            "4  \t [-5.  0.]\t 308.12909601160663\t 5.96108856337545\t 5.1951716211227925\t 5.606282943819306\n",
            "5  \t [4.54205242 2.61598405]\t 9.764182039504554\t 5.96108856337545\t 5.018881771337198\t 5.261794478285413\n",
            "6  \t [ 3.99896898 13.00894549]\t 131.57832068426893\t 5.96108856337545\t 5.550471940413776\t 5.380064630572471\n",
            "7  \t [ 9.50361479 10.47395751]\t 63.33884777188751\t 5.96108856337545\t 4.24125120904403\t 5.27176632505414\n",
            "\u001b[1m\u001b[92m8\u001b[0m\t \u001b[1m\u001b[92m[10.          4.14120703]\u001b[0m\t \u001b[1m\u001b[92m3.238754699454356\u001b[0m\t \u001b[1m\u001b[92m3.238754699454356\u001b[0m\t \u001b[1m\u001b[92m4.806594193395899\u001b[0m\t \u001b[1m\u001b[92m5.289870390376236\u001b[0m\n",
            "9  \t [2.12278265 5.43329631]\t 9.936311212360934\t 3.238754699454356\t 5.099070677850868\t 5.755558792062084\n",
            "10 \t [-1.31513929  6.63206467]\t 15.26566925041552\t 3.238754699454356\t 5.748952989406035\t 5.641713306460527\n",
            "11 \t [1.48625792 0.        ]\t 26.17648145723722\t 3.238754699454356\t 4.384610482694668\t 4.951054328900835\n",
            "12 \t [-5.         11.87186246]\t 40.97826908891641\t 3.238754699454356\t 5.273493313954391\t 6.21702798099135\n",
            "13 \t [-4.95150379  3.932476  ]\t 184.28670111879782\t 3.238754699454356\t 4.624148018374287\t 5.2462794674331015\n",
            "14 \t [-0.85839697  9.45455908]\t 20.249236976744733\t 3.238754699454356\t 4.947381378147381\t 5.455104032607463\n",
            "15 \t [5.43617746 4.89708347]\t 30.28187179871334\t 3.238754699454356\t 4.749136756104337\t 5.113153386998008\n",
            "16 \t [9.72698697 7.05580388]\t 19.4443776540256\t 3.238754699454356\t 4.7766823324841\t 5.32740463279914\n",
            "17 \t [ 6.23146371 10.81459789]\t 113.98795884540569\t 3.238754699454356\t 4.6391088443777155\t 4.188525144469518\n",
            "18 \t [ 0.85380989 13.04360893]\t 85.33780376229544\t 3.238754699454356\t 5.026755377408702\t 4.961957885117245\n",
            "\u001b[1m\u001b[92m19\u001b[0m\t \u001b[1m\u001b[92m[9.17543443 2.187871  ]\u001b[0m\t \u001b[1m\u001b[92m0.7020331217473412\u001b[0m\t \u001b[1m\u001b[92m0.7020331217473412\u001b[0m\t \u001b[1m\u001b[92m5.174581518863865\u001b[0m\t \u001b[1m\u001b[92m4.890730579768453\u001b[0m\n",
            "20 \t [-1.27822621  0.        ]\t 80.75649843738671\t 0.7020331217473412\t 4.85119614652283\t 4.261268542430333\n"
          ]
        }
      ],
      "source": [
        "### EXACT STP ERM GRADIENTS\n",
        "\n",
        "np.random.seed(run_num_5)\n",
        "surrogate_stp_5 = dtStudentProcess(cov_func, optimize=opt, nu = df)\n",
        "\n",
        "stp_5 = dGPGO_stp(surrogate_stp_5, Acquisition_grad(util_stp), objfunc, param)\n",
        "stp_5.run(init_evals=n_init, max_iter=iters)\n"
      ]
    },
    {
      "cell_type": "code",
      "execution_count": null,
      "metadata": {
        "id": "04KJCEm_Ivvf",
        "colab": {
          "base_uri": "https://localhost:8080/"
        },
        "outputId": "e23ccfcb-0efe-46b0-f9ef-21e529c3de60"
      },
      "outputs": [
        {
          "output_type": "stream",
          "name": "stdout",
          "text": [
            "Evaluation \t Proposed point \t  Current eval. \t  Best eval. \t        Exact ERM: StdDev. x \t Approx ERM: StdDev. x \n",
            "init\t [8.39290227 4.97969708]\t 15.553860636684597\t 15.31731051317483\t    \t    \n",
            "init\t [7.31843685 0.62544939]\t 15.31731051317483\t 15.31731051317483\t    \t    \n",
            "init\t [-3.3851498   8.92578096]\t 16.222288919361837\t 15.31731051317483\t    \t    \n",
            "init\t [2.94726043 6.28211143]\t 15.406373581304088\t 15.31731051317483\t    \t    \n",
            "init\t [0.03111774 9.33779148]\t 31.07053245856209\t 15.31731051317483\t    \t    \n",
            "1  \t [-3.52736493  0.        ]\t 175.90709218361607\t 15.31731051317483\t 5.361214713282755\t 5.618991212886415\n",
            "2  \t [ 9.0758891  11.79008788]\t 93.01466310382783\t 15.31731051317483\t 5.287086104542808\t 5.759625805511511\n",
            "3  \t [ 4.34724927 14.59608757]\t 177.48889452505895\t 15.31731051317483\t 5.371482047405225\t 5.4297606474368\n",
            "\u001b[1m\u001b[92m4\u001b[0m\t \u001b[1m\u001b[92m[1.9206314  0.98203154]\u001b[0m\t \u001b[1m\u001b[92m12.651460650116729\u001b[0m\t \u001b[1m\u001b[92m12.651460650116729\u001b[0m\t \u001b[1m\u001b[92m5.760920322272895\u001b[0m\t \u001b[1m\u001b[92m6.694149177102279\u001b[0m\n",
            "5  \t [-1.22507193  4.46209656]\t 26.807730355625996\t 12.651460650116729\t 5.064136250686171\t 6.207540469022735\n",
            "\u001b[1m\u001b[92m6\u001b[0m\t \u001b[1m\u001b[92m[-2.88144405 14.07252479]\u001b[0m\t \u001b[1m\u001b[92m6.548287565825361\u001b[0m\t \u001b[1m\u001b[92m6.548287565825361\u001b[0m\t \u001b[1m\u001b[92m5.552027523531187\u001b[0m\t \u001b[1m\u001b[92m6.581564467568138\u001b[0m\n",
            "7  \t [5.00779924 9.77036689]\t 85.05961219632958\t 6.548287565825361\t 5.871924791091977\t 6.212985913724662\n",
            "8  \t [9.78392361 8.03590981]\t 28.481751260970825\t 6.548287565825361\t 5.0305802475898025\t 5.439832947328774\n",
            "9  \t [ 0.18638758 12.6865283 ]\t 68.1378550124482\t 6.548287565825361\t 4.588007803096023\t 4.994234855166883\n",
            "10 \t [ 7.81795063 14.9264498 ]\t 191.8757654797541\t 6.548287565825361\t 5.191735210505361\t 5.850938317714371\n",
            "11 \t [-5.          4.04681521]\t 185.39767052369922\t 6.548287565825361\t 5.386680107647189\t 5.842278038489975\n",
            "12 \t [4.92527267 3.18324116]\t 15.594246857384624\t 6.548287565825361\t 5.583226595252861\t 5.560851535023204\n",
            "13 \t [6.41010576 6.8375094 ]\t 52.373690032560226\t 6.548287565825361\t 5.280370075694992\t 5.3107182221700775\n",
            "14 \t [-4.56781718 11.42518846]\t 29.22957269713623\t 6.548287565825361\t 5.353135626635961\t 4.754168314829012\n",
            "15 \t [1.40001436 4.23817414]\t 11.67734464572332\t 6.548287565825361\t 5.383907941775171\t 5.599376247517067\n",
            "\u001b[1m\u001b[92m16\u001b[0m\t \u001b[1m\u001b[92m[9.68465451 2.64568218]\u001b[0m\t \u001b[1m\u001b[92m0.7235879042761031\u001b[0m\t \u001b[1m\u001b[92m0.7235879042761031\u001b[0m\t \u001b[1m\u001b[92m5.219897712434721\u001b[0m\t \u001b[1m\u001b[92m5.409600219145336\u001b[0m\n",
            "17 \t [4.52172821 0.        ]\t 10.26764495844872\t 0.7235879042761031\t 5.467165887468236\t 5.000730406557772\n",
            "18 \t [-0.35521752  0.        ]\t 62.32073406130837\t 0.7235879042761031\t 5.204468927113926\t 6.007536779407201\n",
            "19 \t [-0.28819301  6.80255041]\t 19.31709944495689\t 0.7235879042761031\t 6.065401913369615\t 6.304469835911236\n",
            "20 \t [-5.          6.91147415]\t 118.31758378245839\t 0.7235879042761031\t 5.574873348782933\t 5.51157445001749\n"
          ]
        }
      ],
      "source": [
        "### EXACT STP ERM GRADIENTS\n",
        "\n",
        "np.random.seed(run_num_6)\n",
        "surrogate_stp_6 = dtStudentProcess(cov_func, optimize=opt, nu = df)\n",
        "\n",
        "stp_6 = dGPGO_stp(surrogate_stp_6, Acquisition_grad(util_stp), objfunc, param)\n",
        "stp_6.run(init_evals=n_init, max_iter=iters)\n"
      ]
    },
    {
      "cell_type": "code",
      "execution_count": null,
      "metadata": {
        "id": "tAOkme3CIvyO",
        "colab": {
          "base_uri": "https://localhost:8080/"
        },
        "outputId": "a4e1e71c-207d-4ef6-c7a0-9e3df8cc892c"
      },
      "outputs": [
        {
          "output_type": "stream",
          "name": "stdout",
          "text": [
            "Evaluation \t Proposed point \t  Current eval. \t  Best eval. \t        Exact ERM: StdDev. x \t Approx ERM: StdDev. x \n",
            "init\t [-3.85537566 11.69878188]\t 8.299317850233932\t 5.211335324193094\t    \t    \n",
            "init\t [ 1.57613847 10.85197767]\t 59.50408380701259\t 5.211335324193094\t    \t    \n",
            "init\t [9.66984268 8.07743806]\t 29.714921414987273\t 5.211335324193094\t    \t    \n",
            "init\t [2.51680695 1.080767  ]\t 5.211335324193094\t 5.211335324193094\t    \t    \n",
            "init\t [-0.9734153   7.49823751]\t 15.431057204948033\t 5.211335324193094\t    \t    \n",
            "1  \t [-4.97859679  1.38393519]\t 260.3293952774437\t 5.211335324193094\t 4.216856105783353\t 4.7003466868822\n",
            "2  \t [10. 15.]\t 145.87219087939556\t 5.211335324193094\t 5.753066840343669\t 5.797063315279278\n",
            "3  \t [8.08940775 0.35854539]\t 9.249625108410735\t 5.211335324193094\t 5.316690175103101\t 5.947077988920478\n",
            "4  \t [-3.39684884  5.54228873]\t 54.79871094423047\t 5.211335324193094\t 4.511278388123972\t 4.474253720050951\n",
            "5  \t [5.26455898 5.1618109 ]\t 30.719782090689836\t 5.211335324193094\t 4.82620589489326\t 5.442264479094518\n",
            "6  \t [ 4.23206853 15.        ]\t 185.7079172699578\t 5.211335324193094\t 5.808207594655405\t 6.764291735888841\n",
            "7  \t [-0.35565921 14.08268619]\t 75.25562480025303\t 5.211335324193094\t 4.948154201831778\t 5.27013480588833\n",
            "8  \t [5.86143144 9.55120175]\t 90.02211866238973\t 5.211335324193094\t 5.00404114687874\t 6.051373552600446\n",
            "\u001b[1m\u001b[92m9\u001b[0m\t \u001b[1m\u001b[92m[10.          3.34263479]\u001b[0m\t \u001b[1m\u001b[92m2.058521930196454\u001b[0m\t \u001b[1m\u001b[92m2.058521930196454\u001b[0m\t \u001b[1m\u001b[92m5.344857900408906\u001b[0m\t \u001b[1m\u001b[92m5.906573155982001\u001b[0m\n",
            "10 \t [-0.81588331  0.        ]\t 71.11063261766392\t 2.058521930196454\t 5.18334777415995\t 6.316097210138189\n",
            "11 \t [0.96532467 3.69418794]\t 16.256841064592646\t 2.058521930196454\t 4.739888252967213\t 4.577166965449359\n",
            "12 \t [-4.98962971 14.885908  ]\t 17.7881286640214\t 2.058521930196454\t 5.080287969356531\t 5.043837801819652\n",
            "13 \t [2.31571595 6.6838541 ]\t 17.008532607203136\t 2.058521930196454\t 4.575188026460943\t 4.301852135365366\n",
            "14 \t [-3.93902947  8.81180588]\t 33.123496421987326\t 2.058521930196454\t 4.994342631535865\t 5.27039738695504\n",
            "15 \t [ 8.91734213 11.45355873]\t 89.46708992007142\t 2.058521930196454\t 5.19222673553386\t 5.209656591408808\n",
            "16 \t [-1.92946785  2.8564412 ]\t 51.45689285334571\t 2.058521930196454\t 5.047282249341605\t 4.621873640408514\n",
            "17 \t [5.25102735 1.80533708]\t 15.286251293578019\t 2.058521930196454\t 4.150033223837534\t 4.418676086370405\n",
            "18 \t [ 7.04746014 13.58765721]\t 170.3909590537286\t 2.058521930196454\t 5.025539656523839\t 5.2427332693783635\n",
            "19 \t [-4.30552354  2.26782759]\t 174.66464458634962\t 2.058521930196454\t 5.171360807412449\t 5.055411374500061\n",
            "20 \t [7.79887409 3.10033192]\t 13.268928551373186\t 2.058521930196454\t 4.65125271990746\t 4.838168281765523\n"
          ]
        }
      ],
      "source": [
        "### EXACT STP ERM GRADIENTS\n",
        "\n",
        "np.random.seed(run_num_7)\n",
        "surrogate_stp_7 = dtStudentProcess(cov_func, optimize=opt, nu = df)\n",
        "\n",
        "stp_7 = dGPGO_stp(surrogate_stp_7, Acquisition_grad(util_stp), objfunc, param)\n",
        "stp_7.run(init_evals=n_init, max_iter=iters)\n"
      ]
    },
    {
      "cell_type": "code",
      "execution_count": null,
      "metadata": {
        "id": "69-J3EF4Iv1S",
        "colab": {
          "base_uri": "https://localhost:8080/"
        },
        "outputId": "606229c0-e6ab-42ac-a07b-79fb57333fbc"
      },
      "outputs": [
        {
          "output_type": "stream",
          "name": "stdout",
          "text": [
            "Evaluation \t Proposed point \t  Current eval. \t  Best eval. \t        Exact ERM: StdDev. x \t Approx ERM: StdDev. x \n",
            "init\t [ 8.10144104 14.52810994]\t 175.17297136347514\t 15.416245468470875\t    \t    \n",
            "init\t [8.0379181  7.96283537]\t 49.32173799887473\t 15.416245468470875\t    \t    \n",
            "init\t [-1.50907508  0.17098206]\t 83.26753461673219\t 15.416245468470875\t    \t    \n",
            "init\t [1.45703227 6.0352704 ]\t 15.416245468470875\t 15.416245468470875\t    \t    \n",
            "init\t [2.84012007 7.17587694]\t 22.49093277852639\t 15.416245468470875\t    \t    \n",
            "\u001b[1m\u001b[92m1\u001b[0m\t \u001b[1m\u001b[92m[9.77124156 0.43098073]\u001b[0m\t \u001b[1m\u001b[92m6.499298445992174\u001b[0m\t \u001b[1m\u001b[92m6.499298445992174\u001b[0m\t \u001b[1m\u001b[92m5.082282249401537\u001b[0m\t \u001b[1m\u001b[92m5.674101801382928\u001b[0m\n",
            "2  \t [-4.87537438 11.82874897]\t 36.57081146531108\t 6.499298445992174\t 5.245266860859549\t 5.543706227232879\n",
            "3  \t [-5.         5.7241298]\t 144.1294001558661\t 6.499298445992174\t 4.816415697400608\t 5.9419919633513\n",
            "4  \t [4.95455185 1.71484609]\t 12.486735378828065\t 6.499298445992174\t 5.059141673558017\t 5.489759493260913\n",
            "5  \t [-0.10664759 12.3093941 ]\t 57.22493359529306\t 6.499298445992174\t 4.940331518471301\t 5.027452351799017\n",
            "6  \t [8.42532341 3.8352012 ]\t 9.109933142734505\t 6.499298445992174\t 4.944638912878002\t 4.462894501713405\n",
            "7  \t [ 3.38154359 14.74265704]\t 160.62837755360607\t 6.499298445992174\t 4.9606732577392325\t 5.1200911252023396\n",
            "8  \t [ 3.78995158 10.28542822]\t 73.94762957630297\t 6.499298445992174\t 5.085069964178175\t 4.924790311377639\n",
            "9  \t [10.         10.96862814]\t 65.39506364076263\t 6.499298445992174\t 4.984311565734299\t 4.603657968558937\n",
            "10 \t [-1.5151857   8.29303111]\t 10.705964191045595\t 6.499298445992174\t 5.752722803189336\t 5.069258408019277\n",
            "11 \t [1.37312836 2.72406431]\t 13.665540905835096\t 6.499298445992174\t 5.083899274425006\t 5.935093980511589\n",
            "12 \t [-5.  0.]\t 308.12909601160663\t 6.499298445992174\t 5.185277884797589\t 5.331077103375669\n",
            "13 \t [-1.91707246  3.92388672]\t 38.12351160125604\t 6.499298445992174\t 4.731653905947587\t 5.4092456772039705\n",
            "\u001b[1m\u001b[92m14\u001b[0m\t \u001b[1m\u001b[92m[-3.64913395 15.        ]\u001b[0m\t \u001b[1m\u001b[92m3.7750310258570092\u001b[0m\t \u001b[1m\u001b[92m3.7750310258570092\u001b[0m\t \u001b[1m\u001b[92m5.928536634008407\u001b[0m\t \u001b[1m\u001b[92m5.674082441361818\u001b[0m\n",
            "15 \t [2.34410986 0.        ]\t 12.167761163495662\t 3.7750310258570092\t 4.907544764867809\t 4.846477150877914\n",
            "16 \t [5.1145524  4.86464018]\t 26.90197049241296\t 3.7750310258570092\t 4.236194151777328\t 4.29998222716128\n",
            "17 \t [-1.2232806 15.       ]\t 60.32663492552562\t 3.7750310258570092\t 5.377243247742196\t 6.009137635019035\n",
            "18 \t [-4.01952153  8.92612879]\t 34.76155199569476\t 3.7750310258570092\t 5.426558036306785\t 5.573873293991688\n",
            "19 \t [7.04037037 0.78450844]\t 17.149664090282037\t 3.7750310258570092\t 4.255474195799387\t 4.722058452076148\n",
            "20 \t [ 7.26265914 10.44933208]\t 99.88644879369095\t 3.7750310258570092\t 4.7040720818737825\t 4.7618128299683535\n"
          ]
        }
      ],
      "source": [
        "### EXACT STP ERM GRADIENTS\n",
        "\n",
        "np.random.seed(run_num_8)\n",
        "surrogate_stp_8 = dtStudentProcess(cov_func, optimize=opt, nu = df)\n",
        "\n",
        "stp_8 = dGPGO_stp(surrogate_stp_8, Acquisition_grad(util_stp), objfunc, param)\n",
        "stp_8.run(init_evals=n_init, max_iter=iters)\n"
      ]
    },
    {
      "cell_type": "code",
      "execution_count": null,
      "metadata": {
        "id": "vonm9jyuIv4t",
        "colab": {
          "base_uri": "https://localhost:8080/"
        },
        "outputId": "036183dc-6510-4a52-b9f3-ff0c84e23527"
      },
      "outputs": [
        {
          "output_type": "stream",
          "name": "stdout",
          "text": [
            "Evaluation \t Proposed point \t  Current eval. \t  Best eval. \t        Exact ERM: StdDev. x \t Approx ERM: StdDev. x \n",
            "init\t [-4.84438769  7.52811888]\t 96.15564306553264\t 3.4640248583909496\t    \t    \n",
            "init\t [2.4365994  2.00744293]\t 3.4640248583909496\t 3.4640248583909496\t    \t    \n",
            "init\t [-2.86833372  3.27838013]\t 70.46930174488207\t 3.4640248583909496\t    \t    \n",
            "init\t [1.27762271 3.72151753]\t 12.982825924833865\t 3.4640248583909496\t    \t    \n",
            "init\t [-3.73910523  5.1824796 ]\t 75.58547400560856\t 3.4640248583909496\t    \t    \n",
            "1  \t [ 7.05609655 14.75038872]\t 200.4388688685465\t 3.4640248583909496\t 5.706309062230284\t 5.499480808847191\n",
            "2  \t [-0.46054038 14.56197292]\t 79.4666617606301\t 3.4640248583909496\t 4.900317304969094\t 4.854241455361167\n",
            "3  \t [8.28747407 1.2035024 ]\t 6.196385269800155\t 3.4640248583909496\t 4.932050589364364\t 4.490643825557569\n",
            "4  \t [3.64521891 9.21815645]\t 54.92606929281933\t 3.4640248583909496\t 5.001872525129249\t 4.649878588216721\n",
            "5  \t [9.67993735 5.53971063]\t 8.780439004073106\t 3.4640248583909496\t 5.261124920651723\t 4.976490217566992\n",
            "6  \t [5.69614675 4.2958879 ]\t 28.043820974806252\t 3.4640248583909496\t 5.065412451349353\t 5.57928399348893\n",
            "7  \t [-1.33871014 10.05387546]\t 15.070531777450903\t 3.4640248583909496\t 5.533651779675087\t 6.17322537445628\n",
            "8  \t [-0.39889157  0.        ]\t 63.1427633084718\t 3.4640248583909496\t 4.9129157821724\t 5.255168534924451\n",
            "9  \t [ 9.43768443 10.16698247]\t 59.39758589958582\t 3.4640248583909496\t 5.6076012125462364\t 6.139605667324173\n",
            "10 \t [-5.  0.]\t 308.12909601160663\t 3.4640248583909496\t 5.003392399318283\t 4.726720380721671\n",
            "11 \t [-5.         12.93128759]\t 30.837907598957987\t 3.4640248583909496\t 5.172425867015564\t 6.393169511038392\n",
            "12 \t [ 3.12894904 13.23550013]\t 120.31471654027513\t 3.4640248583909496\t 5.217394802380207\t 4.761319497606937\n",
            "13 \t [0.86443719 6.66989294]\t 20.031629352591537\t 3.4640248583909496\t 4.745321229293051\t 5.413260207808654\n",
            "14 \t [6.85593356 7.35396908]\t 56.427467358648116\t 3.4640248583909496\t 4.853974582084008\t 4.411735548983027\n",
            "15 \t [4.54897268 1.18451402]\t 8.499737220414504\t 3.4640248583909496\t 4.925846067685124\t 4.943827133680695\n",
            "16 \t [10.         13.41548243]\t 110.3638347335093\t 3.4640248583909496\t 5.44359313005628\t 5.522277557973683\n",
            "17 \t [ 6.30984557 10.34009767]\t 104.96072668209003\t 3.4640248583909496\t 5.592736881693912\t 6.786722994158735\n",
            "18 \t [ 0.66711837 11.499587  ]\t 59.84350390859656\t 3.4640248583909496\t 5.462089320026303\t 5.514711301525606\n",
            "19 \t [2.2913516  0.03325076]\t 12.653747701376833\t 3.4640248583909496\t 4.303471428096876\t 4.792107090653386\n",
            "\u001b[1m\u001b[92m20\u001b[0m\t \u001b[1m\u001b[92m[10.          2.77536883]\u001b[0m\t \u001b[1m\u001b[92m1.9949368564013863\u001b[0m\t \u001b[1m\u001b[92m1.9949368564013863\u001b[0m\t \u001b[1m\u001b[92m4.669766645978615\u001b[0m\t \u001b[1m\u001b[92m5.1877025963221\u001b[0m\n"
          ]
        }
      ],
      "source": [
        "### EXACT STP ERM GRADIENTS\n",
        "\n",
        "np.random.seed(run_num_9)\n",
        "surrogate_stp_9 = dtStudentProcess(cov_func, optimize=opt, nu = df)\n",
        "\n",
        "stp_9 = dGPGO_stp(surrogate_stp_9, Acquisition_grad(util_stp), objfunc, param)\n",
        "stp_9.run(init_evals=n_init, max_iter=iters)\n"
      ]
    },
    {
      "cell_type": "code",
      "execution_count": null,
      "metadata": {
        "id": "6amuYlUdIv7r",
        "colab": {
          "base_uri": "https://localhost:8080/"
        },
        "outputId": "39e69fbc-a920-47d5-e6dd-14b46e569eb4"
      },
      "outputs": [
        {
          "output_type": "stream",
          "name": "stdout",
          "text": [
            "Evaluation \t Proposed point \t  Current eval. \t  Best eval. \t        Exact ERM: StdDev. x \t Approx ERM: StdDev. x \n",
            "init\t [6.56980965 0.31127924]\t 19.863985024602144\t 2.710610964564512\t    \t    \n",
            "init\t [ 4.50472352 11.23205824]\t 103.66999147252169\t 2.710610964564512\t    \t    \n",
            "init\t [2.47760518 3.37194968]\t 2.710610964564512\t 2.710610964564512\t    \t    \n",
            "init\t [-2.02905703 11.40796068]\t 8.463930835255017\t 2.710610964564512\t    \t    \n",
            "init\t [-2.46333745  1.32509721]\t 90.49481266026973\t 2.710610964564512\t    \t    \n",
            "1  \t [ 9.16391068 14.81438212]\t 158.2412724465548\t 2.710610964564512\t 4.68703420880756\t 5.194079048287083\n",
            "2  \t [9.65621089 6.61160737]\t 16.1339423373336\t 2.710610964564512\t 4.479203789039923\t 4.771757289235599\n",
            "3  \t [-3.43070383  6.59407857]\t 41.58407101130534\t 2.710610964564512\t 4.523394081324088\t 5.000378579661473\n",
            "4  \t [1.11775906 8.16864467]\t 28.538232618918585\t 2.710610964564512\t 5.423681166439236\t 5.571110275903699\n",
            "5  \t [-4.09924692 14.83375461]\t 4.493827434732684\t 2.710610964564512\t 5.239271410876281\t 6.699629166342108\n",
            "6  \t [5.23841902 5.91476222]\t 36.97718919166813\t 2.710610964564512\t 5.208479578147174\t 5.72947616259022\n",
            "7  \t [1.97452444 0.        ]\t 17.52483844546277\t 2.710610964564512\t 5.050242584672436\t 5.546636396341927\n",
            "8  \t [ 0.31835157 13.61714771]\t 84.90353128248466\t 2.710610964564512\t 5.458264103184564\t 6.483190838712363\n",
            "9  \t [8.63815778 3.21885933]\t 4.980718604648086\t 2.710610964564512\t 4.86423309358554\t 5.737056248908865\n",
            "10 \t [ 9.65820404 10.44956301]\t 61.040900751329914\t 2.710610964564512\t 5.23326591567901\t 6.1806488360074825\n",
            "11 \t [-0.44906199  4.08353117]\t 25.71094830332185\t 2.710610964564512\t 4.8564852511435\t 5.338679352292933\n",
            "12 \t [-5.         10.12767269]\t 62.562939563407255\t 2.710610964564512\t 5.292898797991156\t 5.475767324522739\n",
            "13 \t [-5.          2.95321699]\t 215.33458003856202\t 2.710610964564512\t 4.838203366721095\t 5.674094229903542\n",
            "14 \t [6.97123577 8.48410878]\t 70.72282056472008\t 2.710610964564512\t 4.89313046688043\t 5.734924726929534\n",
            "15 \t [ 3.90050645 15.        ]\t 178.39513409755773\t 2.710610964564512\t 5.319467068155145\t 5.8895683367956915\n",
            "16 \t [4.3916343  3.29897358]\t 10.201704837059026\t 2.710610964564512\t 5.357820926241989\t 6.014012416068882\n",
            "17 \t [-5.  0.]\t 308.12909601160663\t 2.710610964564512\t 5.692715743883031\t 6.053038583938428\n",
            "18 \t [1.81858628 5.73484383]\t 12.493627545299676\t 2.710610964564512\t 4.271710034029174\t 5.018768423752317\n",
            "19 \t [-1.39187889  9.11935965]\t 12.13634485831467\t 2.710610964564512\t 3.9508568259041374\t 3.988379152691661\n",
            "20 \t [ 6.92068317 13.3114756 ]\t 165.06374753602876\t 2.710610964564512\t 5.316049287547192\t 5.316634293574963\n"
          ]
        }
      ],
      "source": [
        "### EXACT STP ERM GRADIENTS\n",
        "\n",
        "np.random.seed(run_num_10)\n",
        "surrogate_stp_10 = dtStudentProcess(cov_func, optimize=opt, nu = df)\n",
        "\n",
        "stp_10 = dGPGO_stp(surrogate_stp_10, Acquisition_grad(util_stp), objfunc, param)\n",
        "stp_10.run(init_evals=n_init, max_iter=iters)\n"
      ]
    },
    {
      "cell_type": "code",
      "execution_count": null,
      "metadata": {
        "id": "VwbLIP9cIv-F",
        "colab": {
          "base_uri": "https://localhost:8080/"
        },
        "outputId": "fc5cab00-d18d-4e7e-cffa-4d81d480bfe3"
      },
      "outputs": [
        {
          "output_type": "stream",
          "name": "stdout",
          "text": [
            "Evaluation \t Proposed point \t  Current eval. \t  Best eval. \t        Exact ERM: StdDev. x \t Approx ERM: StdDev. x \n",
            "init\t [-2.29595467  0.29212862]\t 104.49282729548965\t 22.37435843952312\t    \t    \n",
            "init\t [ 1.9482779  10.87400894]\t 62.47758067812407\t 22.37435843952312\t    \t    \n",
            "init\t [1.30305407 7.28140647]\t 22.37435843952312\t 22.37435843952312\t    \t    \n",
            "init\t [-4.80828778  7.31057411]\t 97.94503054415523\t 22.37435843952312\t    \t    \n",
            "init\t [ 9.12709979 12.76192634]\t 111.62900800771942\t 22.37435843952312\t    \t    \n",
            "\u001b[1m\u001b[92m1\u001b[0m\t \u001b[1m\u001b[92m[6.94653631 0.95529646]\u001b[0m\t \u001b[1m\u001b[92m17.615403152614682\u001b[0m\t \u001b[1m\u001b[92m17.615403152614682\u001b[0m\t \u001b[1m\u001b[92m4.660999999972853\u001b[0m\t \u001b[1m\u001b[92m4.995585873400998\u001b[0m\n",
            "2  \t [7.19106811 6.95991687]\t 48.67962340591087\t 17.615403152614682\t 4.339990910920864\t 5.479299878433456\n",
            "\u001b[1m\u001b[92m3\u001b[0m\t \u001b[1m\u001b[92m[2.54941416 0.        ]\u001b[0m\t \u001b[1m\u001b[92m9.773049806267423\u001b[0m\t \u001b[1m\u001b[92m9.773049806267423\u001b[0m\t \u001b[1m\u001b[92m5.1965301573609555\u001b[0m\t \u001b[1m\u001b[92m5.977907213775175\u001b[0m\n",
            "4  \t [ 4.68792333 14.74413073]\t 188.41914504166638\t 9.773049806267423\t 4.038858147359663\t 4.764173590316874\n",
            "\u001b[1m\u001b[92m5\u001b[0m\t \u001b[1m\u001b[92m[-3.42208896 11.32925449]\u001b[0m\t \u001b[1m\u001b[92m3.4300860679630905\u001b[0m\t \u001b[1m\u001b[92m3.4300860679630905\u001b[0m\t \u001b[1m\u001b[92m5.37761214070054\u001b[0m\t \u001b[1m\u001b[92m5.812567079266246\u001b[0m\n",
            "6  \t [3.85639254 4.11630485]\t 8.189938698665571\t 3.4300860679630905\t 5.357428742011773\t 5.523261552389859\n",
            "7  \t [-0.34674146 14.86901278]\t 87.94761799681596\t 3.4300860679630905\t 5.190846324004856\t 5.362710395860543\n",
            "8  \t [0.54560804 2.81588541]\t 23.750300872608673\t 3.4300860679630905\t 4.654667889023593\t 5.299125688038698\n",
            "9  \t [-5.          3.24615504]\t 207.0809487830449\t 3.4300860679630905\t 5.078012810379439\t 5.384338016045064\n",
            "\u001b[1m\u001b[92m10\u001b[0m\t \u001b[1m\u001b[92m[9.34760694 3.61520968]\u001b[0m\t \u001b[1m\u001b[92m1.877371556236696\u001b[0m\t \u001b[1m\u001b[92m1.877371556236696\u001b[0m\t \u001b[1m\u001b[92m5.232039020651249\u001b[0m\t \u001b[1m\u001b[92m6.006306968141151\u001b[0m\n",
            "11 \t [-4.75415634 13.61510062]\t 18.644743848491714\t 1.877371556236696\t 5.590797765831768\t 6.068122155123177\n",
            "12 \t [-1.47344188  8.86487533]\t 10.990623742369415\t 1.877371556236696\t 5.594723889768936\t 5.434499422809501\n",
            "13 \t [ 5.13723596 10.46997067]\t 99.27632834611862\t 1.877371556236696\t 5.525041213229213\t 4.621395656847814\n",
            "14 \t [10.          8.96604498]\t 37.501563576110655\t 1.877371556236696\t 5.144512887076404\t 5.508367249094949\n",
            "15 \t [4.03995898 7.09357196]\t 33.34021564951778\t 1.877371556236696\t 5.562796757652055\t 5.603459261350654\n",
            "16 \t [6.91574414 3.50883116]\t 23.205865115126134\t 1.877371556236696\t 5.658579301619589\t 5.559685241794383\n",
            "17 \t [-1.63107822  5.30119573]\t 22.659693034729493\t 1.877371556236696\t 4.941683318861491\t 5.1398649325209425\n",
            "18 \t [9.70919344 1.54275108]\t 2.1822093006438736\t 1.877371556236696\t 4.762212019036392\t 5.385978308068209\n",
            "19 \t [ 7.4836557 15.       ]\t 200.49767037718956\t 1.877371556236696\t 5.323266162816418\t 5.193513599767716\n",
            "20 \t [-0.71112897 11.43090016]\t 35.19964825167476\t 1.877371556236696\t 5.454181204420979\t 5.50569968788167\n"
          ]
        }
      ],
      "source": [
        "### EXACT STP ERM GRADIENTS\n",
        "\n",
        "np.random.seed(run_num_11)\n",
        "surrogate_stp_11 = dtStudentProcess(cov_func, optimize=opt, nu = df)\n",
        "\n",
        "stp_11 = dGPGO_stp(surrogate_stp_11, Acquisition_grad(util_stp), objfunc, param)\n",
        "stp_11.run(init_evals=n_init, max_iter=iters)\n"
      ]
    },
    {
      "cell_type": "code",
      "execution_count": null,
      "metadata": {
        "id": "MlUNFjc-JTBY",
        "colab": {
          "base_uri": "https://localhost:8080/"
        },
        "outputId": "4e80f3e2-a96e-43a0-cfb4-7f81f234bf8c"
      },
      "outputs": [
        {
          "output_type": "stream",
          "name": "stdout",
          "text": [
            "Evaluation \t Proposed point \t  Current eval. \t  Best eval. \t        Exact ERM: StdDev. x \t Approx ERM: StdDev. x \n",
            "init\t [-2.68755736 11.10074545]\t 1.3827702760021356\t 0.5499315281120278\t    \t    \n",
            "init\t [-1.05027477  8.0060909 ]\t 14.81231853080056\t 0.5499315281120278\t    \t    \n",
            "init\t [-4.78137556 13.78120512]\t 18.401131000214548\t 0.5499315281120278\t    \t    \n",
            "init\t [8.51072281 0.50132141]\t 5.855172364344769\t 0.5499315281120278\t    \t    \n",
            "init\t [9.35424004 2.05813982]\t 0.5499315281120278\t 0.5499315281120278\t    \t    \n",
            "1  \t [9.43895355 6.28875405]\t 14.852312468115107\t 0.5499315281120278\t 4.837803345434685\t 4.182051439339511\n",
            "2  \t [-5.  0.]\t 308.12909601160663\t 0.5499315281120278\t 5.583437248549205\t 4.4820338772634924\n",
            "3  \t [10. 15.]\t 145.87219087939556\t 0.5499315281120278\t 5.324237884857967\t 4.923621421482216\n",
            "4  \t [ 2.96504557 14.18967184]\t 139.14981054237984\t 0.5499315281120278\t 4.385557913089573\t 4.1572518124141915\n",
            "5  \t [1.93570332 0.        ]\t 18.155681846878494\t 0.5499315281120278\t 4.121932591347314\t 4.2296317094965135\n",
            "6  \t [4.24455848 7.73465334]\t 43.648223846497075\t 0.5499315281120278\t 4.645831984602435\t 4.34478033965076\n",
            "7  \t [-4.89014029  5.28693871]\t 145.91493814409483\t 0.5499315281120278\t 5.465787555588998\t 5.04071482826574\n",
            "8  \t [ 7.7941997  10.61584365]\t 94.71389729681759\t 0.5499315281120278\t 4.97445950861914\t 5.312509419658182\n",
            "9  \t [4.2062305  3.35947422]\t 8.471639972202178\t 0.5499315281120278\t 4.09553872441376\t 4.225858018417106\n",
            "10 \t [-1.22850937 14.63493594]\t 55.274633482995604\t 0.5499315281120278\t 5.262618315772985\t 5.659864072389573\n",
            "11 \t [-1.13948359  3.47172058]\t 34.35042587083049\t 0.5499315281120278\t 5.229003750805065\t 5.43791434360822\n",
            "12 \t [ 1.289063   10.23146341]\t 49.49515463723561\t 0.5499315281120278\t 4.626325312989889\t 5.1349898284135485\n",
            "13 \t [-5.          9.48069239]\t 72.11648015909844\t 0.5499315281120278\t 4.374223678408681\t 4.4921693232965465\n",
            "14 \t [5.35486116 0.        ]\t 17.149964364150275\t 0.5499315281120278\t 4.75143027648891\t 4.671266782950979\n",
            "15 \t [1.51761316 5.47411923]\t 13.044716811723994\t 0.5499315281120278\t 4.625207761452591\t 4.776304917003709\n",
            "16 \t [7.20400716 3.44330993]\t 20.67052582827187\t 0.5499315281120278\t 5.076209709643949\t 5.36969332393314\n",
            "17 \t [ 6.43556361 14.85797048]\t 208.55666753159483\t 0.5499315281120278\t 5.087552248277108\t 4.490411254481447\n",
            "18 \t [3.93631092 2.66547005]\t 4.136243786491044\t 0.5499315281120278\t 6.119082335119981\t 6.119082335119981\n",
            "19 \t [-1.22859333  0.68441345]\t 68.96252515898271\t 0.5499315281120278\t 5.31157012948597\t 5.500112588083712\n",
            "20 \t [6.91829533 5.99621361]\t 40.99966706342099\t 0.5499315281120278\t 4.362350585844919\t 4.470739476460583\n"
          ]
        }
      ],
      "source": [
        "### EXACT STP ERM GRADIENTS\n",
        "\n",
        "np.random.seed(run_num_12)\n",
        "surrogate_stp_12 = dtStudentProcess(cov_func, optimize=opt, nu = df)\n",
        "\n",
        "stp_12 = dGPGO_stp(surrogate_stp_12, Acquisition_grad(util_stp), objfunc, param)\n",
        "stp_12.run(init_evals=n_init, max_iter=iters)\n"
      ]
    },
    {
      "cell_type": "code",
      "execution_count": null,
      "metadata": {
        "id": "9BsKdU9eJTFL",
        "colab": {
          "base_uri": "https://localhost:8080/"
        },
        "outputId": "773b528a-9235-4c30-959f-b10088fe8add"
      },
      "outputs": [
        {
          "output_type": "stream",
          "name": "stdout",
          "text": [
            "Evaluation \t Proposed point \t  Current eval. \t  Best eval. \t        Exact ERM: StdDev. x \t Approx ERM: StdDev. x \n",
            "init\t [6.66553616 3.5631183 ]\t 24.823670200298267\t 18.038943061558626\t    \t    \n",
            "init\t [ 7.36417799 14.48623797]\t 188.7803334745195\t 18.038943061558626\t    \t    \n",
            "init\t [9.58901671 6.80173871]\t 18.038943061558626\t 18.038943061558626\t    \t    \n",
            "init\t [ 4.13563694 11.63289772]\t 104.87319703906111\t 18.038943061558626\t    \t    \n",
            "init\t [ 4.62420017 10.83027344]\t 98.03271225790056\t 18.038943061558626\t    \t    \n",
            "1  \t [-5.  0.]\t 308.12909601160663\t 18.038943061558626\t 6.130023692705932\t 5.729491241131659\n",
            "\u001b[1m\u001b[92m2\u001b[0m\t \u001b[1m\u001b[92m[-3.06562888 11.40851515]\u001b[0m\t \u001b[1m\u001b[92m0.8943531030676173\u001b[0m\t \u001b[1m\u001b[92m0.8943531030676173\u001b[0m\t \u001b[1m\u001b[92m4.77366319176455\u001b[0m\t \u001b[1m\u001b[92m4.862290240566748\u001b[0m\n",
            "3  \t [-0.77721745  5.55115316]\t 19.956248293152978\t 0.8943531030676173\t 5.766790764086707\t 5.571343922540283\n",
            "4  \t [-5.          7.71867593]\t 102.37973209931107\t 0.8943531030676173\t 6.077979720552878\t 6.506490854734041\n",
            "5  \t [1.70334002 0.        ]\t 22.154907440082695\t 0.8943531030676173\t 5.392713175729995\t 5.129926552254299\n",
            "6  \t [-0.0981476  13.34916674]\t 71.27667395866462\t 0.8943531030676173\t 5.477839199914472\t 5.123823614281769\n",
            "7  \t [3.46144458 6.22038997]\t 18.37077632305828\t 0.8943531030676173\t 5.591122407595079\t 5.752251128228784\n",
            "8  \t [10.         10.71839793]\t 61.4711755102888\t 0.8943531030676173\t 5.271733220807724\t 5.334108719985092\n",
            "9  \t [-0.4985845   9.28144232]\t 24.4641420926061\t 0.8943531030676173\t 5.168624791316893\t 5.440875094900179\n",
            "10 \t [-5.          4.00898671]\t 186.3932757743541\t 0.8943531030676173\t 5.704500572488892\t 5.4003791888543455\n",
            "11 \t [9.24149036 1.58748771]\t 1.1022551284354893\t 0.8943531030676173\t 5.335266248507906\t 6.5904780941554595\n",
            "12 \t [-1.08759921  1.82347875]\t 51.18847348295179\t 0.8943531030676173\t 5.055010854687082\t 5.4709586641187\n",
            "13 \t [-4.43446921 13.32397319]\t 12.536929350944982\t 0.8943531030676173\t 5.730691725235033\t 6.6080646329774035\n",
            "14 \t [5.54351681 0.        ]\t 18.408919921266445\t 0.8943531030676173\t 4.6742955114942815\t 4.677187630845702\n",
            "15 \t [ 3.17323045 15.        ]\t 162.9535575706629\t 0.8943531030676173\t 5.189489613938129\t 5.693903106091876\n",
            "\u001b[1m\u001b[92m16\u001b[0m\t \u001b[1m\u001b[92m[2.98485819 3.01184622]\u001b[0m\t \u001b[1m\u001b[92m0.8894485702984465\u001b[0m\t \u001b[1m\u001b[92m0.8894485702984465\u001b[0m\t \u001b[1m\u001b[92m5.114923171312562\u001b[0m\t \u001b[1m\u001b[92m5.2889408656339505\u001b[0m\n",
            "17 \t [6.35091508 7.35211369]\t 58.63466214314029\t 0.8894485702984465\t 5.401833819170596\t 5.949056916047298\n",
            "18 \t [2.15598839 8.59824525]\t 34.17153467742369\t 0.8894485702984465\t 4.840047129664342\t 4.824315247612532\n",
            "19 \t [10. 15.]\t 145.87219087939556\t 0.8894485702984465\t 5.210250384816315\t 5.698764010704262\n",
            "20 \t [8.80751464 8.79594345]\t 48.30646574951298\t 0.8894485702984465\t 5.985640205074865\t 5.782453204444997\n"
          ]
        }
      ],
      "source": [
        "### EXACT STP ERM GRADIENTS\n",
        "\n",
        "np.random.seed(run_num_13)\n",
        "surrogate_stp_13 = dtStudentProcess(cov_func, optimize=opt, nu = df)\n",
        "\n",
        "stp_13 = dGPGO_stp(surrogate_stp_13, Acquisition_grad(util_stp), objfunc, param)\n",
        "stp_13.run(init_evals=n_init, max_iter=iters)\n"
      ]
    },
    {
      "cell_type": "code",
      "execution_count": null,
      "metadata": {
        "id": "k6GjFBr1JTJf",
        "colab": {
          "base_uri": "https://localhost:8080/"
        },
        "outputId": "2843c025-c485-45d1-fd68-8d89cf521ca8"
      },
      "outputs": [
        {
          "output_type": "stream",
          "name": "stdout",
          "text": [
            "Evaluation \t Proposed point \t  Current eval. \t  Best eval. \t        Exact ERM: StdDev. x \t Approx ERM: StdDev. x \n",
            "init\t [ 2.70915016 11.59747578]\t 81.58264375064097\t 1.4149920024014744\t    \t    \n",
            "init\t [8.05641529 0.12070423]\t 10.148649076616518\t 1.4149920024014744\t    \t    \n",
            "init\t [-0.35396112 14.36405609]\t 79.6056658956529\t 1.4149920024014744\t    \t    \n",
            "init\t [2.69675068 4.77426637]\t 5.855607664288365\t 1.4149920024014744\t    \t    \n",
            "init\t [3.08799906 3.31882414]\t 1.4149920024014744\t 1.4149920024014744\t    \t    \n",
            "1  \t [-4.22572169  4.73878507]\t 111.46482334173054\t 1.4149920024014744\t 4.8894974490054155\t 5.427344747965223\n",
            "2  \t [ 9.02510452 14.92575454]\t 164.15736583327134\t 1.4149920024014744\t 5.580045400895932\t 6.531394389551471\n",
            "3  \t [8.4415984  6.61360555]\t 28.132050221972662\t 1.4149920024014744\t 5.148162736635453\t 6.371178054277318\n",
            "4  \t [-1.54716831e+00  8.74660312e-17]\t 87.16830945506574\t 1.4149920024014744\t 4.996428695937003\t 4.712551820841518\n",
            "5  \t [-2.34721787  9.6154237 ]\t 3.9637644452644256\t 1.4149920024014744\t 4.35765472402261\t 5.536738233060165\n",
            "6  \t [ 7.33726726 10.58825964]\t 101.4416132312179\t 1.4149920024014744\t 4.573874775825691\t 4.967557094586447\n",
            "\u001b[1m\u001b[92m7\u001b[0m\t \u001b[1m\u001b[92m[9.64630457 3.16921643]\u001b[0m\t \u001b[1m\u001b[92m0.8835481011824502\u001b[0m\t \u001b[1m\u001b[92m0.8835481011824502\u001b[0m\t \u001b[1m\u001b[92m4.340492386185404\u001b[0m\t \u001b[1m\u001b[92m4.595693120924579\u001b[0m\n",
            "8  \t [3.57318196 0.        ]\t 5.129725530959386\t 0.8835481011824502\t 5.53233179384276\t 5.925717428867639\n",
            "9  \t [-5.         13.04636622]\t 29.87158478184854\t 0.8835481011824502\t 5.301253040545112\t 6.276786627452332\n",
            "10 \t [0.98975761 7.37512741]\t 23.244508479900254\t 0.8835481011824502\t 4.986322020181014\t 5.515630210295557\n",
            "11 \t [5.89841424 3.74469475]\t 25.85812567322156\t 0.8835481011824502\t 4.783177985569935\t 4.728967454629652\n",
            "12 \t [ 4.0640614 15.       ]\t 182.00971783601625\t 0.8835481011824502\t 5.247089091322458\t 5.331641665726597\n",
            "13 \t [4.82830233 7.31974222]\t 47.02189373571933\t 0.8835481011824502\t 4.92540386881353\t 5.881604647422941\n",
            "14 \t [-0.08155479  3.52395836]\t 26.365079162728666\t 0.8835481011824502\t 5.720436607419613\t 6.129645720557598\n",
            "15 \t [-5.         8.5573368]\t 87.20105471722167\t 0.8835481011824502\t 5.54412589024765\t 5.185964800111912\n",
            "16 \t [-5.  0.]\t 308.12909601160663\t 0.8835481011824502\t 5.377760797957917\t 5.422953631513479\n",
            "17 \t [5.72442889 0.30557417]\t 18.80921984057827\t 0.8835481011824502\t 5.310416929087066\t 5.797896359392657\n",
            "18 \t [-2.37563365  6.86617735]\t 16.35709218052885\t 0.8835481011824502\t 4.554287971511826\t 4.629762791748977\n",
            "19 \t [1.35630914 0.        ]\t 28.682109786124453\t 0.8835481011824502\t 4.823821174998071\t 5.680668925749492\n",
            "20 \t [-0.02745812 10.78874551]\t 42.11301662498331\t 0.8835481011824502\t 4.951174630497658\t 4.933829397317104\n"
          ]
        }
      ],
      "source": [
        "### EXACT STP ERM GRADIENTS\n",
        "\n",
        "np.random.seed(run_num_14)\n",
        "surrogate_stp_14 = dtStudentProcess(cov_func, optimize=opt, nu = df)\n",
        "\n",
        "stp_14 = dGPGO_stp(surrogate_stp_14, Acquisition_grad(util_stp), objfunc, param)\n",
        "stp_14.run(init_evals=n_init, max_iter=iters)\n"
      ]
    },
    {
      "cell_type": "code",
      "execution_count": null,
      "metadata": {
        "id": "dPS8WB3aJTN6",
        "colab": {
          "base_uri": "https://localhost:8080/"
        },
        "outputId": "1704502f-a9e4-4f08-f8f4-15ab7ebe8e04"
      },
      "outputs": [
        {
          "output_type": "stream",
          "name": "stdout",
          "text": [
            "Evaluation \t Proposed point \t  Current eval. \t  Best eval. \t        Exact ERM: StdDev. x \t Approx ERM: StdDev. x \n",
            "init\t [7.73226546 2.68343887]\t 12.768724532005583\t 12.768724532005583\t    \t    \n",
            "init\t [-4.18455179  5.42307669]\t 95.39334176626551\t 12.768724532005583\t    \t    \n",
            "init\t [-0.86898607  7.95000337]\t 16.419487782111716\t 12.768724532005583\t    \t    \n",
            "init\t [-0.41121626  4.56711539]\t 23.250362743740954\t 12.768724532005583\t    \t    \n",
            "init\t [-3.32388086  3.74848521]\t 80.99796277938532\t 12.768724532005583\t    \t    \n",
            "1  \t [ 6.5655417  11.87699252]\t 134.95011349993544\t 12.768724532005583\t 4.968094775083851\t 5.02464708127746\n",
            "2  \t [-4.77493765 13.49591113]\t 19.896906503438096\t 12.768724532005583\t 5.300707200174809\t 6.019393648788107\n",
            "\u001b[1m\u001b[92m3\u001b[0m\t \u001b[1m\u001b[92m[2.82510315 0.        ]\u001b[0m\t \u001b[1m\u001b[92m7.299780876268308\u001b[0m\t \u001b[1m\u001b[92m7.299780876268308\u001b[0m\t \u001b[1m\u001b[92m5.65387975347592\u001b[0m\t \u001b[1m\u001b[92m5.843548682476663\u001b[0m\n",
            "4  \t [ 1.37272768 15.        ]\t 131.60219222947694\t 7.299780876268308\t 4.774834565436448\t 5.04032189574334\n",
            "5  \t [8.37150312 7.10816022]\t 34.1757242405039\t 7.299780876268308\t 6.172879400300789\t 5.766820723318989\n",
            "6  \t [3.5415815  7.29987201]\t 29.417156827255134\t 7.299780876268308\t 5.89004917996615\t 5.784957166711794\n",
            "7  \t [10. 15.]\t 145.87219087939556\t 7.299780876268308\t 4.671618588026159\t 4.42256296926729\n",
            "8  \t [-5.  0.]\t 308.12909601160663\t 7.299780876268308\t 5.779108898511887\t 5.765669459065879\n",
            "\u001b[1m\u001b[92m9\u001b[0m\t \u001b[1m\u001b[92m[3.87917517 3.29714961]\u001b[0m\t \u001b[1m\u001b[92m5.2254839893143945\u001b[0m\t \u001b[1m\u001b[92m5.2254839893143945\u001b[0m\t \u001b[1m\u001b[92m4.5021959500383195\u001b[0m\t \u001b[1m\u001b[92m5.724749341615435\u001b[0m\n",
            "10 \t [-0.57181752  0.        ]\t 66.40929453409848\t 5.2254839893143945\t 4.652817388000353\t 5.752649402870097\n",
            "11 \t [-5.          9.61675792]\t 70.03777032648975\t 5.2254839893143945\t 4.818717441721781\t 5.323599731847309\n",
            "12 \t [ 1.49388656 10.72653456]\t 57.193282177691096\t 5.2254839893143945\t 4.32016936154766\t 4.293957230053731\n",
            "13 \t [-1.94363089 12.1126965 ]\t 12.909802215181614\t 5.2254839893143945\t 5.093535444893125\t 5.389829339437373\n",
            "14 \t [ 9.99602349 10.64674284]\t 60.410197940361655\t 5.2254839893143945\t 4.714669537288432\t 4.749332871551259\n",
            "\u001b[1m\u001b[92m15\u001b[0m\t \u001b[1m\u001b[92m[10.          4.32433751]\u001b[0m\t \u001b[1m\u001b[92m3.6891881461979636\u001b[0m\t \u001b[1m\u001b[92m3.6891881461979636\u001b[0m\t \u001b[1m\u001b[92m4.3911910181438065\u001b[0m\t \u001b[1m\u001b[92m4.78317613854407\u001b[0m\n",
            "16 \t [ 5.09407432 15.        ]\t 202.78177505622494\t 3.6891881461979636\t 5.92465975872499\t 5.465885704955532\n",
            "17 \t [5.68703499 5.25673151]\t 35.00099393345638\t 3.6891881461979636\t 5.018122555534463\t 6.222587473951601\n",
            "18 \t [5.26658532 0.41492011]\t 15.671365654624177\t 3.6891881461979636\t 4.76829021225181\t 5.0108768462968705\n",
            "19 \t [5.4283971  9.09196569]\t 79.10482181959027\t 3.6891881461979636\t 4.704841548879299\t 4.463925772155141\n",
            "20 \t [ 9.9275136  12.96486961]\t 102.25009626234477\t 3.6891881461979636\t 4.597721933113587\t 4.543933734204002\n"
          ]
        }
      ],
      "source": [
        "### EXACT STP ERM GRADIENTS\n",
        "\n",
        "np.random.seed(run_num_15)\n",
        "surrogate_stp_15 = dtStudentProcess(cov_func, optimize=opt, nu = df)\n",
        "\n",
        "stp_15 = dGPGO_stp(surrogate_stp_15, Acquisition_grad(util_stp), objfunc, param)\n",
        "stp_15.run(init_evals=n_init, max_iter=iters)\n"
      ]
    },
    {
      "cell_type": "code",
      "execution_count": null,
      "metadata": {
        "id": "lu8ki9XIQPPN",
        "colab": {
          "base_uri": "https://localhost:8080/"
        },
        "outputId": "56befc47-2faa-4c01-826c-6439b2573a39"
      },
      "outputs": [
        {
          "output_type": "stream",
          "name": "stdout",
          "text": [
            "Evaluation \t Proposed point \t  Current eval. \t  Best eval. \t        Exact ERM: StdDev. x \t Approx ERM: StdDev. x \n",
            "init\t [-1.65063381  7.84745012]\t 10.514702126319445\t 2.715864006988424\t    \t    \n",
            "init\t [3.26052185 0.68402925]\t 2.715864006988424\t 2.715864006988424\t    \t    \n",
            "init\t [0.41093253 3.34621413]\t 22.889515127492515\t 2.715864006988424\t    \t    \n",
            "init\t [5.33089243 2.45597138]\t 17.178157611778595\t 2.715864006988424\t    \t    \n",
            "init\t [-3.945127  14.1151629]\t 3.3649224341694195\t 2.715864006988424\t    \t    \n",
            "1  \t [ 5.63879248 14.58068289]\t 198.51319639462758\t 2.715864006988424\t 5.140742256925427\t 5.5404198387477575\n",
            "2  \t [-5.  0.]\t 308.12909601160663\t 2.715864006988424\t 5.959525081595655\t 5.446431464601831\n",
            "3  \t [4.39600939 7.43435868]\t 42.22899400142327\t 2.715864006988424\t 4.826050540154118\t 5.763484491254287\n",
            "4  \t [10.          9.47803921]\t 43.869835427045274\t 2.715864006988424\t 5.130847183644675\t 6.0193045963482765\n",
            "5  \t [ 0.83101229 11.57226008]\t 62.789858080895414\t 2.715864006988424\t 5.1531618431740265\t 5.100915371448674\n",
            "6  \t [-5.          4.85549264]\t 164.79870598961614\t 2.715864006988424\t 5.6238691940547225\t 6.303378035857992\n",
            "7  \t [8.97411151 4.88997732]\t 9.023324019257892\t 2.715864006988424\t 4.453474096266795\t 4.983089787110573\n",
            "8  \t [10. 15.]\t 145.8721908792686\t 2.715864006988424\t 4.605460622190896\t 5.616561441636528\n",
            "9  \t [8.58924681 0.80210851]\t 4.679032567618621\t 2.715864006988424\t 4.429843279414232\t 4.552635053575995\n",
            "10 \t [-5.       10.061513]\t 63.50145012687367\t 2.715864006988424\t 4.471543641229659\t 5.7800639998422465\n",
            "11 \t [ 6.35359778 10.2826436 ]\t 103.84634615540088\t 2.715864006988424\t 4.339244560356333\t 5.361185113280147\n",
            "12 \t [-0.56559293  0.        ]\t 66.2911328264608\t 2.715864006988424\t 4.5391720927237\t 4.897798382655749\n",
            "13 \t [1.13902036 6.83872479]\t 20.18825399259879\t 2.715864006988424\t 4.19349543121753\t 5.1403629023707875\n",
            "14 \t [ 1.30509226 14.884634  ]\t 127.90589634403422\t 2.715864006988424\t 4.9531351258951375\t 5.336993496889029\n",
            "15 \t [6.16388498 5.08160971]\t 35.40268049528029\t 2.715864006988424\t 4.400796993317386\t 5.099737536882146\n",
            "16 \t [3.17550109 4.13037846]\t 3.9441030226527465\t 2.715864006988424\t 4.4091708553582345\t 5.080043518659005\n",
            "17 \t [ 3.57917156 10.83764705]\t 80.14210224725682\t 2.715864006988424\t 5.3051787709753135\t 4.986615908195362\n",
            "18 \t [-2.34995134 12.0862135 ]\t 5.918700581867037\t 2.715864006988424\t 5.238600625668921\t 5.267505562604565\n",
            "19 \t [-1.92827507  5.0085591 ]\t 27.25828041607948\t 2.715864006988424\t 4.528746089414812\t 4.491489645301396\n",
            "20 \t [-1.86397076 14.91919743]\t 37.5164212174102\t 2.715864006988424\t 4.952422409518767\t 5.610503150644839\n"
          ]
        }
      ],
      "source": [
        "### EXACT STP ERM GRADIENTS\n",
        "\n",
        "np.random.seed(run_num_16)\n",
        "surrogate_stp_16 = dtStudentProcess(cov_func, optimize=opt, nu = df)\n",
        "\n",
        "stp_16 = dGPGO_stp(surrogate_stp_16, Acquisition_grad(util_stp), objfunc, param)\n",
        "stp_16.run(init_evals=n_init, max_iter=iters)\n"
      ]
    },
    {
      "cell_type": "code",
      "execution_count": null,
      "metadata": {
        "id": "yU2SflSsJTUs",
        "colab": {
          "base_uri": "https://localhost:8080/"
        },
        "outputId": "19fb0030-3dee-495d-c18e-47349a11af45"
      },
      "outputs": [
        {
          "output_type": "stream",
          "name": "stdout",
          "text": [
            "Evaluation \t Proposed point \t  Current eval. \t  Best eval. \t        Exact ERM: StdDev. x \t Approx ERM: StdDev. x \n",
            "init\t [-0.58002496  7.95880133]\t 19.016141117164256\t 19.016141117164256\t    \t    \n",
            "init\t [-2.1271882   1.01850537]\t 85.05949339404415\t 19.016141117164256\t    \t    \n",
            "init\t [6.8047819  9.84500283]\t 93.89792695202516\t 19.016141117164256\t    \t    \n",
            "init\t [4.56281344 8.63404341]\t 60.50217141122736\t 19.016141117164256\t    \t    \n",
            "init\t [-4.41405626  5.36720407]\t 110.70834086593878\t 19.016141117164256\t    \t    \n",
            "\u001b[1m\u001b[92m1\u001b[0m\t \u001b[1m\u001b[92m[9.76575296 0.98553483]\u001b[0m\t \u001b[1m\u001b[92m4.1623278326263815\u001b[0m\t \u001b[1m\u001b[92m4.1623278326263815\u001b[0m\t \u001b[1m\u001b[92m6.027547752836504\u001b[0m\t \u001b[1m\u001b[92m7.087933317300506\u001b[0m\n",
            "2  \t [-0.36591853 14.49945231]\t 81.3728947682288\t 4.1623278326263815\t 4.80407888851987\t 5.363963111642544\n",
            "\u001b[1m\u001b[92m3\u001b[0m\t \u001b[1m\u001b[92m[3.74599703 2.35814314]\u001b[0m\t \u001b[1m\u001b[92m2.3563457989420957\u001b[0m\t \u001b[1m\u001b[92m2.3563457989420957\u001b[0m\t \u001b[1m\u001b[92m4.5145486973193725\u001b[0m\t \u001b[1m\u001b[92m4.5123752242305954\u001b[0m\n",
            "4  \t [10. 15.]\t 145.87219087939556\t 2.3563457989420957\t 5.651715690272202\t 6.419409997523032\n",
            "5  \t [9.29977095 5.44257151]\t 9.903848503973805\t 2.3563457989420957\t 4.6668010948841525\t 5.719642996218961\n",
            "6  \t [-5.         10.91009209]\t 52.12784724281622\t 2.3563457989420957\t 5.196889827690044\t 5.812017395598779\n",
            "7  \t [ 4.75165257 14.75691375]\t 190.00793632892052\t 2.3563457989420957\t 5.139836409520479\t 5.684788136105559\n",
            "8  \t [6.65149539 2.99508674]\t 22.439521979202098\t 2.3563457989420957\t 5.375667870117215\t 5.728377487931472\n",
            "9  \t [1.85550014 0.        ]\t 19.494620445251787\t 2.3563457989420957\t 5.601921395947389\t 6.149149285082358\n",
            "10 \t [0.77206734 4.36773122]\t 17.110496927415394\t 2.3563457989420957\t 4.9094843583098005\t 5.599484992961328\n",
            "11 \t [5.4647046 0.       ]\t 17.908158366978682\t 2.3563457989420957\t 5.628529044132163\t 5.541888406727504\n",
            "12 \t [ 1.69194265 11.01298709]\t 62.656256349689734\t 2.3563457989420957\t 5.553690962858291\t 6.0995361052442405\n",
            "13 \t [-1.86902859 11.38774672]\t 11.027336746628539\t 2.3563457989420957\t 4.561557252172382\t 4.825729061990474\n",
            "14 \t [10.          8.41479307]\t 31.231114571606902\t 2.3563457989420957\t 4.844802294393068\t 4.996998562008606\n",
            "15 \t [ 9.85844277 11.59257824]\t 77.45560326197874\t 2.3563457989420957\t 5.008667797035786\t 5.542802090148614\n",
            "16 \t [-4.00334807 14.13011317]\t 3.84524161261057\t 2.3563457989420957\t 4.455153503314032\t 4.853534633198215\n",
            "17 \t [4.80555738 5.36464006]\t 27.13111677953356\t 2.3563457989420957\t 4.7728258843325255\t 4.624955581544091\n",
            "18 \t [2.44484757 6.267007  ]\t 14.100331217197422\t 2.3563457989420957\t 4.7404047294670475\t 5.13761502428939\n",
            "19 \t [-3.08773607  8.05371397]\t 17.15815972581443\t 2.3563457989420957\t 4.802937358505783\t 5.326181620849129\n",
            "\u001b[1m\u001b[92m20\u001b[0m\t \u001b[1m\u001b[92m[9.95332462 3.2195392 ]\u001b[0m\t \u001b[1m\u001b[92m1.7771471219578814\u001b[0m\t \u001b[1m\u001b[92m1.7771471219578814\u001b[0m\t \u001b[1m\u001b[92m4.8081602205195555\u001b[0m\t \u001b[1m\u001b[92m5.542925109735036\u001b[0m\n"
          ]
        }
      ],
      "source": [
        "### EXACT STP ERM GRADIENTS\n",
        "\n",
        "np.random.seed(run_num_17)\n",
        "surrogate_stp_17 = dtStudentProcess(cov_func, optimize=opt, nu = df)\n",
        "\n",
        "stp_17 = dGPGO_stp(surrogate_stp_17, Acquisition_grad(util_stp), objfunc, param)\n",
        "stp_17.run(init_evals=n_init, max_iter=iters)\n"
      ]
    },
    {
      "cell_type": "code",
      "execution_count": null,
      "metadata": {
        "id": "eVEhyZ9BQS-1",
        "colab": {
          "base_uri": "https://localhost:8080/"
        },
        "outputId": "3fbd8eb8-d3ab-4a1c-e3dc-ddec0c8fb836"
      },
      "outputs": [
        {
          "output_type": "stream",
          "name": "stdout",
          "text": [
            "Evaluation \t Proposed point \t  Current eval. \t  Best eval. \t        Exact ERM: StdDev. x \t Approx ERM: StdDev. x \n",
            "init\t [4.75561363 7.58180061]\t 49.215059064668324\t 8.150075223157177\t    \t    \n",
            "init\t [8.17902206 2.72760338]\t 8.150075223157177\t 8.150075223157177\t    \t    \n",
            "init\t [ 7.78349603 11.25204429]\t 106.98107856533271\t 8.150075223157177\t    \t    \n",
            "init\t [ 4.99152501 14.81843172]\t 196.08601750690153\t 8.150075223157177\t    \t    \n",
            "init\t [-1.14547366  0.42458888]\t 71.23649635555944\t 8.150075223157177\t    \t    \n",
            "\u001b[1m\u001b[92m1\u001b[0m\t \u001b[1m\u001b[92m[-2.12483893 10.71385111]\u001b[0m\t \u001b[1m\u001b[92m5.508754856016457\u001b[0m\t \u001b[1m\u001b[92m5.508754856016457\u001b[0m\t \u001b[1m\u001b[92m5.659171820853315\u001b[0m\t \u001b[1m\u001b[92m6.03916981330079\u001b[0m\n",
            "2  \t [-5.          6.15870599]\t 134.3549629625931\t 5.508754856016457\t 5.706765427972737\t 5.776197999566847\n",
            "3  \t [0.59356239 4.59031092]\t 18.220333891306154\t 5.508754856016457\t 4.707915027239905\t 5.027247648277779\n",
            "4  \t [4.1900768 0.       ]\t 7.767550818379065\t 5.508754856016457\t 5.976981400399981\t 5.980823039459322\n",
            "5  \t [-5.          1.77141971]\t 250.37496777409976\t 5.508754856016457\t 4.972711416876549\t 4.693312557484819\n",
            "6  \t [ 1.5931775  11.00804151]\t 61.85236512310362\t 5.508754856016457\t 5.177295145111187\t 6.166590741608611\n",
            "7  \t [10. 15.]\t 145.87219087939556\t 5.508754856016457\t 4.652281905423109\t 6.072924223459921\n",
            "8  \t [-0.90336196  7.63874221]\t 15.95258239116957\t 5.508754856016457\t 4.132008931288307\t 6.880742854521406\n",
            "9  \t [10.          6.56033411]\t 14.598075346656682\t 5.508754856016457\t 5.728386011038577\t 7.851016537090827\n",
            "10 \t [-4.76967256 13.86702157]\t 17.641667143206\t 5.508754856016457\t 5.632686859802455\t 6.9779428030021915\n",
            "11 \t [-0.56317354 14.85364973]\t 80.78794298700325\t 5.508754856016457\t 5.365612148911687\t 6.279551962896257\n",
            "12 \t [-5.         10.22566788]\t 61.18891182944128\t 5.508754856016457\t 4.397448361788701\t 4.526817502842788\n",
            "13 \t [4.83651813 3.44553069]\t 15.688402079431057\t 5.508754856016457\t 4.649638027309612\t 4.806050927349846\n",
            "14 \t [6.79112526 0.38488067]\t 18.97446983349606\t 5.508754856016457\t 4.033307035054118\t 4.916901646250906\n",
            "15 \t [1.93188211 1.97562013]\t 8.657811521998282\t 5.508754856016457\t 4.981806330063308\t 5.666165724509706\n",
            "16 \t [-2.26096757  4.7204525 ]\t 34.56025049053687\t 5.508754856016457\t 4.509600085725512\t 4.6721723567826645\n",
            "\u001b[1m\u001b[92m17\u001b[0m\t \u001b[1m\u001b[92m[9.51596417 0.82580478]\u001b[0m\t \u001b[1m\u001b[92m3.4209546196981684\u001b[0m\t \u001b[1m\u001b[92m3.4209546196981684\u001b[0m\t \u001b[1m\u001b[92m5.3707663747564585\u001b[0m\t \u001b[1m\u001b[92m5.33530906453595\u001b[0m\n",
            "18 \t [2.75557598 5.21136387]\t 7.948299305381821\t 3.4209546196981684\t 4.1339493958120705\t 4.404789752094272\n",
            "19 \t [ 4.35188118 11.06715898]\t 97.75395247037932\t 3.4209546196981684\t 4.583836936625452\t 4.197215778160214\n",
            "20 \t [3.80715166 3.63946951]\t 5.7825744631702385\t 3.4209546196981684\t 5.186064096469503\t 5.293000301693874\n"
          ]
        }
      ],
      "source": [
        "### EXACT STP ERM GRADIENTS\n",
        "\n",
        "np.random.seed(run_num_18)\n",
        "surrogate_stp_18 = dtStudentProcess(cov_func, optimize=opt, nu = df)\n",
        "\n",
        "stp_18 = dGPGO_stp(surrogate_stp_18, Acquisition_grad(util_stp), objfunc, param)\n",
        "stp_18.run(init_evals=n_init, max_iter=iters)\n"
      ]
    },
    {
      "cell_type": "code",
      "execution_count": null,
      "metadata": {
        "id": "B6gTz1ojQUxn",
        "colab": {
          "base_uri": "https://localhost:8080/"
        },
        "outputId": "b5b1230c-b907-441d-d8b9-9993ee6146cc"
      },
      "outputs": [
        {
          "output_type": "stream",
          "name": "stdout",
          "text": [
            "Evaluation \t Proposed point \t  Current eval. \t  Best eval. \t        Exact ERM: StdDev. x \t Approx ERM: StdDev. x \n",
            "init\t [-3.53699597 11.41874575]\t 4.475608269502271\t 4.475608269502271\t    \t    \n",
            "init\t [-1.2959304   2.07197531]\t 51.13947793770689\t 4.475608269502271\t    \t    \n",
            "init\t [-0.02830155  1.24499348]\t 42.63973921760034\t 4.475608269502271\t    \t    \n",
            "init\t [ 5.07965622 12.09890697]\t 131.17235664506808\t 4.475608269502271\t    \t    \n",
            "init\t [9.74112872 9.53491102]\t 46.84458913925112\t 4.475608269502271\t    \t    \n",
            "\u001b[1m\u001b[92m1\u001b[0m\t \u001b[1m\u001b[92m[9.57054653 2.03489665]\u001b[0m\t \u001b[1m\u001b[92m0.8198597583535783\u001b[0m\t \u001b[1m\u001b[92m0.8198597583535783\u001b[0m\t \u001b[1m\u001b[92m5.720542187459437\u001b[0m\t \u001b[1m\u001b[92m5.64595730937796\u001b[0m\n",
            "2  \t [4.92671407 4.54323343]\t 22.59637030087211\t 0.8198597583535783\t 5.905933710502545\t 6.2240600113464515\n",
            "3  \t [-5.          6.22133771]\t 132.97739859336184\t 0.8198597583535783\t 5.210460393646125\t 5.754055252674902\n",
            "4  \t [0.72694679 7.76486817]\t 25.317640019453304\t 0.8198597583535783\t 5.727071315071402\t 5.265399698788491\n",
            "5  \t [10. 15.]\t 145.87219087926889\t 0.8198597583535783\t 5.005398216349216\t 5.5884756256549775\n",
            "6  \t [5.02579626 0.        ]\t 14.558600863688937\t 0.8198597583535783\t 5.074905842498588\t 5.522402885728138\n",
            "7  \t [-1.0547233  14.22621679]\t 55.74779207244822\t 0.8198597583535783\t 5.532051897028459\t 6.222121182339752\n",
            "8  \t [-5.  0.]\t 308.12909601160663\t 0.8198597583535783\t 5.4186554010068475\t 4.8350733966458\n",
            "9  \t [4.63784455 8.0850009 ]\t 54.00957294839718\t 0.8198597583535783\t 5.296311353214491\t 6.679788573750189\n",
            "10 \t [8.37255521 5.8642055 ]\t 22.328665667522195\t 0.8198597583535783\t 5.008298322147356\t 4.8453265605181945\n",
            "11 \t [ 2.39653391 15.        ]\t 148.68113633681133\t 0.8198597583535783\t 4.607667473521539\t 5.500335684006145\n",
            "12 \t [ 0.24369579 10.93653731]\t 47.585901024713976\t 0.8198597583535783\t 4.836134933533963\t 4.9426934518852645\n",
            "13 \t [-1.29579909  5.40151218]\t 20.888724230591663\t 0.8198597583535783\t 5.538179888970427\t 5.870239350791021\n",
            "14 \t [6.96089943 2.67336575]\t 19.707558103666607\t 0.8198597583535783\t 5.065269049245238\t 4.875472798870029\n",
            "15 \t [2.83881701 2.44192817]\t 0.8412299494958102\t 0.8198597583535783\t 5.235294634418628\t 5.053650400879227\n",
            "16 \t [-2.17385541  8.45989098]\t 7.147370490457094\t 0.8198597583535783\t 4.709713722459373\t 5.335772306464712\n",
            "17 \t [ 6.59274305 15.        ]\t 211.7381322775745\t 0.8198597583535783\t 5.138998191438325\t 5.761292201687873\n",
            "18 \t [8.4762911  3.62702023]\t 7.773224071324273\t 0.8198597583535783\t 4.6445326929121675\t 4.9284830683635805\n",
            "19 \t [2.13153509 5.27552308]\t 9.224143412941832\t 0.8198597583535783\t 4.593718830979678\t 4.005858347490313\n",
            "20 \t [7.0876908  9.90142024]\t 92.21309602031519\t 0.8198597583535783\t 5.02634952930322\t 5.63948491890306\n"
          ]
        }
      ],
      "source": [
        "### EXACT STP ERM GRADIENTS\n",
        "\n",
        "np.random.seed(run_num_19)\n",
        "surrogate_stp_19 = dtStudentProcess(cov_func, optimize=opt, nu = df)\n",
        "\n",
        "stp_19 = dGPGO_stp(surrogate_stp_19, Acquisition_grad(util_stp), objfunc, param)\n",
        "stp_19.run(init_evals=n_init, max_iter=iters)\n"
      ]
    },
    {
      "cell_type": "code",
      "execution_count": null,
      "metadata": {
        "id": "aw3xvSryIwDi",
        "colab": {
          "base_uri": "https://localhost:8080/"
        },
        "outputId": "f5dd3b41-7d62-4085-f1c1-82efc4ac4dca"
      },
      "outputs": [
        {
          "output_type": "stream",
          "name": "stdout",
          "text": [
            "Evaluation \t Proposed point \t  Current eval. \t  Best eval. \t        Exact ERM: StdDev. x \t Approx ERM: StdDev. x \n",
            "init\t [ 3.82196202 13.46570592]\t 138.5264349938869\t 14.042667401507376\t    \t    \n",
            "init\t [ 8.37296094 12.23756216]\t 115.63178540512689\t 14.042667401507376\t    \t    \n",
            "init\t [-4.46165622 10.37636373]\t 35.66708529307584\t 14.042667401507376\t    \t    \n",
            "init\t [0.68021413 7.77766418]\t 25.307769914281764\t 14.042667401507376\t    \t    \n",
            "init\t [4.86927198 2.90775327]\t 14.042667401507376\t 14.042667401507376\t    \t    \n",
            "1  \t [-4.63587627  0.        ]\t 270.23634495036345\t 14.042667401507376\t 4.913955979348157\t 5.371092224423555\n",
            "2  \t [8.35929903 6.62265811]\t 29.359368903223917\t 14.042667401507376\t 4.472134993948404\t 5.298908623064647\n",
            "3  \t [0.71261201 0.58763805]\t 36.134159014493406\t 14.042667401507376\t 4.953510020822079\t 5.415135675898801\n",
            "\u001b[1m\u001b[92m4\u001b[0m\t \u001b[1m\u001b[92m[8.69107139 2.73113535]\u001b[0m\t \u001b[1m\u001b[92m3.517347724389211\u001b[0m\t \u001b[1m\u001b[92m3.517347724389211\u001b[0m\t \u001b[1m\u001b[92m5.790825487086137\u001b[0m\t \u001b[1m\u001b[92m6.875609681645035\u001b[0m\n",
            "5  \t [-3.95150181  5.33140712]\t 83.92464167850142\t 3.517347724389211\t 5.381079637516703\t 6.789451695811623\n",
            "6  \t [4.2304701  9.06811267]\t 61.6364624810251\t 3.517347724389211\t 4.88290689103315\t 5.219810190732164\n",
            "7  \t [-4.32298919 14.99123565]\t 6.446677251505133\t 3.517347724389211\t 6.21035019893362\t 6.807322432226319\n",
            "8  \t [-0.86518879 14.99502714]\t 72.7974178130248\t 3.517347724389211\t 5.5712668306959054\t 5.896502550960658\n",
            "9  \t [6.9851089 0.       ]\t 18.7387645082898\t 3.517347724389211\t 5.509914223457191\t 6.129015364927277\n",
            "10 \t [1.71774974 3.63450325]\t 8.59417366668087\t 3.517347724389211\t 5.351699100643859\t 5.080215019683551\n",
            "11 \t [9.99227222 0.3524908 ]\t 8.887439660387686\t 3.517347724389211\t 5.378246445099927\t 5.393088065042315\n",
            "12 \t [5.09223401 5.76603166]\t 33.99705743371642\t 3.517347724389211\t 5.349100588336849\t 6.004054445996454\n",
            "13 \t [ 0.52170122 11.34607745]\t 56.039478414339925\t 3.517347724389211\t 5.460610686765592\t 5.521329791006288\n",
            "14 \t [10.          9.28327678]\t 41.38556212007182\t 3.517347724389211\t 5.2456158324879185\t 5.829404423579262\n",
            "15 \t [-1.40259361  3.2615222 ]\t 38.907238680360926\t 3.517347724389211\t 5.292071768766604\t 5.702443041523443\n",
            "16 \t [10. 15.]\t 145.87219087939556\t 3.517347724389211\t 5.62384469091822\t 5.851711639842304\n",
            "17 \t [3.70119855 0.        ]\t 5.393348223047477\t 3.517347724389211\t 4.489459948044673\t 4.9535650126010236\n",
            "18 \t [-2.32737435 11.74589722]\t 5.209760825073092\t 3.517347724389211\t 5.126623370361046\t 4.938195178615094\n",
            "19 \t [ 6.45727518 15.        ]\t 212.40416639151104\t 3.517347724389211\t 5.83081885668994\t 6.264969330709988\n",
            "20 \t [4.84671012 1.20511305]\t 11.299285190642689\t 3.517347724389211\t 4.319229943632809\t 4.159912673929305\n"
          ]
        }
      ],
      "source": [
        "### EXACT STP ERM GRADIENTS\n",
        "\n",
        "np.random.seed(run_num_20)\n",
        "surrogate_stp_20 = dtStudentProcess(cov_func, optimize=opt, nu = df)\n",
        "\n",
        "stp_20 = dGPGO_stp(surrogate_stp_20, Acquisition_grad(util_stp), objfunc, param)\n",
        "stp_20.run(init_evals=n_init, max_iter=iters)\n"
      ]
    },
    {
      "cell_type": "code",
      "execution_count": null,
      "metadata": {
        "id": "5c8szjivRPme",
        "colab": {
          "base_uri": "https://localhost:8080/"
        },
        "outputId": "3bf6b896-36a8-429b-aaaa-1753a7c14cf0"
      },
      "outputs": [
        {
          "output_type": "execute_result",
          "data": {
            "text/plain": [
              "1316.2683222293854"
            ]
          },
          "metadata": {},
          "execution_count": 54
        }
      ],
      "source": [
        "end_stp = time.time()\n",
        "end_stp\n",
        "\n",
        "time_stp = end_stp - start_stp\n",
        "time_stp\n"
      ]
    },
    {
      "cell_type": "code",
      "execution_count": null,
      "metadata": {
        "id": "f6gCKnp6RR8c",
        "colab": {
          "base_uri": "https://localhost:8080/"
        },
        "outputId": "faa6cb06-9739-48af-89af-54f13de754c2"
      },
      "outputs": [
        {
          "output_type": "execute_result",
          "data": {
            "text/plain": [
              "(0.8702236178822852, 0.9726348002872017)"
            ]
          },
          "metadata": {},
          "execution_count": 55
        }
      ],
      "source": [
        "### Simple regret minimisation: run number = 1\n",
        "\n",
        "gp_output_1 = np.append(np.min(-gp_1.GP.y[0:n_init]),-gp_1.GP.y[n_init:(n_init+iters)]) \n",
        "stp_output_1 = np.append(np.min(-stp_1.GP.y[0:n_init]),-stp_1.GP.y[n_init:(n_init+iters)]) \n",
        "\n",
        "regret_gp_1 = np.log(gp_output_1 - y_global_orig)\n",
        "regret_stp_1 = np.log(stp_output_1 - y_global_orig)\n",
        "\n",
        "simple_regret_gp_1 = min_max_array(regret_gp_1)\n",
        "simple_regret_stp_1 = min_max_array(regret_stp_1)\n",
        "\n",
        "min_simple_regret_gp_1 = min(simple_regret_gp_1)\n",
        "min_simple_regret_stp_1 = min(simple_regret_stp_1)\n",
        "\n",
        "min_simple_regret_gp_1, min_simple_regret_stp_1\n"
      ]
    },
    {
      "cell_type": "code",
      "execution_count": null,
      "metadata": {
        "id": "94yBw5tqQxfk",
        "colab": {
          "base_uri": "https://localhost:8080/"
        },
        "outputId": "f7e54d00-caea-4057-f1e1-97db28efa6ec"
      },
      "outputs": [
        {
          "output_type": "execute_result",
          "data": {
            "text/plain": [
              "(0.5857547920775205, -0.06380433846278227)"
            ]
          },
          "metadata": {},
          "execution_count": 56
        }
      ],
      "source": [
        "### Simple regret minimisation: run number = 2\n",
        "\n",
        "gp_output_2 = np.append(np.min(-gp_2.GP.y[0:n_init]),-gp_2.GP.y[n_init:(n_init+iters)]) \n",
        "stp_output_2 = np.append(np.min(-stp_2.GP.y[0:n_init]),-stp_2.GP.y[n_init:(n_init+iters)]) \n",
        "\n",
        "regret_gp_2 = np.log(gp_output_2 - y_global_orig)\n",
        "regret_stp_2 = np.log(stp_output_2 - y_global_orig)\n",
        "\n",
        "simple_regret_gp_2 = min_max_array(regret_gp_2)\n",
        "simple_regret_stp_2 = min_max_array(regret_stp_2)\n",
        "\n",
        "min_simple_regret_gp_2 = min(simple_regret_gp_2)\n",
        "min_simple_regret_stp_2 = min(simple_regret_stp_2)\n",
        "\n",
        "min_simple_regret_gp_2, min_simple_regret_stp_2\n"
      ]
    },
    {
      "cell_type": "code",
      "execution_count": null,
      "metadata": {
        "id": "Bu6SBWALQxfl",
        "colab": {
          "base_uri": "https://localhost:8080/"
        },
        "outputId": "81b8ac1e-7841-4141-9c99-b9b253a38a26"
      },
      "outputs": [
        {
          "output_type": "execute_result",
          "data": {
            "text/plain": [
              "(1.3860209161817125, 0.5703547077649286)"
            ]
          },
          "metadata": {},
          "execution_count": 57
        }
      ],
      "source": [
        "### Simple regret minimisation: run number = 3\n",
        "\n",
        "gp_output_3 = np.append(np.min(-gp_3.GP.y[0:n_init]),-gp_3.GP.y[n_init:(n_init+iters)]) \n",
        "stp_output_3 = np.append(np.min(-stp_3.GP.y[0:n_init]),-stp_3.GP.y[n_init:(n_init+iters)]) \n",
        "\n",
        "regret_gp_3 = np.log(gp_output_3 - y_global_orig)\n",
        "regret_stp_3 = np.log(stp_output_3 - y_global_orig)\n",
        "\n",
        "simple_regret_gp_3 = min_max_array(regret_gp_3)\n",
        "simple_regret_stp_3 = min_max_array(regret_stp_3)\n",
        "\n",
        "min_simple_regret_gp_3 = min(simple_regret_gp_3)\n",
        "min_simple_regret_stp_3 = min(simple_regret_stp_3)\n",
        "\n",
        "min_simple_regret_gp_3, min_simple_regret_stp_3"
      ]
    },
    {
      "cell_type": "code",
      "execution_count": null,
      "metadata": {
        "id": "AZm0jgxkQxfm",
        "colab": {
          "base_uri": "https://localhost:8080/"
        },
        "outputId": "13789c6d-c3ef-4e05-99f2-6d7aacf1608e"
      },
      "outputs": [
        {
          "output_type": "execute_result",
          "data": {
            "text/plain": [
              "(0.6117993714567349, 1.0006082627582455)"
            ]
          },
          "metadata": {},
          "execution_count": 58
        }
      ],
      "source": [
        "### Simple regret minimisation: run number = 4\n",
        "\n",
        "gp_output_4 = np.append(np.min(-gp_4.GP.y[0:n_init]),-gp_4.GP.y[n_init:(n_init+iters)]) \n",
        "stp_output_4 = np.append(np.min(-stp_4.GP.y[0:n_init]),-stp_4.GP.y[n_init:(n_init+iters)]) \n",
        "\n",
        "regret_gp_4 = np.log(gp_output_4 - y_global_orig)\n",
        "regret_stp_4 = np.log(stp_output_4 - y_global_orig)\n",
        "\n",
        "simple_regret_gp_4 = min_max_array(regret_gp_4)\n",
        "simple_regret_stp_4 = min_max_array(regret_stp_4)\n",
        "\n",
        "min_simple_regret_gp_4 = min(simple_regret_gp_4)\n",
        "min_simple_regret_stp_4 = min(simple_regret_stp_4)\n",
        "\n",
        "min_simple_regret_gp_4, min_simple_regret_stp_4"
      ]
    },
    {
      "cell_type": "code",
      "execution_count": null,
      "metadata": {
        "id": "NONPm8JIQxfn",
        "colab": {
          "base_uri": "https://localhost:8080/"
        },
        "outputId": "e5078a6f-3efa-4947-80c8-f72f8f56bc79"
      },
      "outputs": [
        {
          "output_type": "execute_result",
          "data": {
            "text/plain": [
              "(0.7508091116778955, 0.09523756057428613)"
            ]
          },
          "metadata": {},
          "execution_count": 59
        }
      ],
      "source": [
        "### Simple regret minimisation: run number = 5\n",
        "\n",
        "gp_output_5 = np.append(np.min(-gp_5.GP.y[0:n_init]),-gp_5.GP.y[n_init:(n_init+iters)]) \n",
        "stp_output_5 = np.append(np.min(-stp_5.GP.y[0:n_init]),-stp_5.GP.y[n_init:(n_init+iters)]) \n",
        "\n",
        "regret_gp_5 = np.log(gp_output_5 - y_global_orig)\n",
        "regret_stp_5 = np.log(stp_output_5 - y_global_orig)\n",
        "\n",
        "simple_regret_gp_5 = min_max_array(regret_gp_5)\n",
        "simple_regret_stp_5 = min_max_array(regret_stp_5)\n",
        "\n",
        "min_simple_regret_gp_5 = min(simple_regret_gp_5)\n",
        "min_simple_regret_stp_5 = min(simple_regret_stp_5)\n",
        "\n",
        "min_simple_regret_gp_5, min_simple_regret_stp_5"
      ]
    },
    {
      "cell_type": "code",
      "execution_count": null,
      "metadata": {
        "id": "CJv3lPuSQxfp",
        "colab": {
          "base_uri": "https://localhost:8080/"
        },
        "outputId": "1e2a4e16-3c67-4350-deb7-b143b40143a7"
      },
      "outputs": [
        {
          "output_type": "execute_result",
          "data": {
            "text/plain": [
              "(0.22452146063930684, 0.11464469780052113)"
            ]
          },
          "metadata": {},
          "execution_count": 60
        }
      ],
      "source": [
        "### Simple regret minimisation: run number = 6\n",
        "\n",
        "gp_output_6 = np.append(np.min(-gp_6.GP.y[0:n_init]),-gp_6.GP.y[n_init:(n_init+iters)]) \n",
        "stp_output_6 = np.append(np.min(-stp_6.GP.y[0:n_init]),-stp_6.GP.y[n_init:(n_init+iters)]) \n",
        "\n",
        "regret_gp_6 = np.log(gp_output_6 - y_global_orig)\n",
        "regret_stp_6 = np.log(stp_output_6 - y_global_orig)\n",
        "\n",
        "simple_regret_gp_6 = min_max_array(regret_gp_6)\n",
        "simple_regret_stp_6 = min_max_array(regret_stp_6)\n",
        "\n",
        "min_simple_regret_gp_6 = min(simple_regret_gp_6)\n",
        "min_simple_regret_stp_6 = min(simple_regret_stp_6)\n",
        "\n",
        "min_simple_regret_gp_6, min_simple_regret_stp_6"
      ]
    },
    {
      "cell_type": "code",
      "execution_count": null,
      "metadata": {
        "id": "quR2ZyApQxfq",
        "colab": {
          "base_uri": "https://localhost:8080/"
        },
        "outputId": "bc7c472c-4893-4924-bcac-e747284af3e5"
      },
      "outputs": [
        {
          "output_type": "execute_result",
          "data": {
            "text/plain": [
              "(0.5048068644429878, 0.8987004989478755)"
            ]
          },
          "metadata": {},
          "execution_count": 61
        }
      ],
      "source": [
        "### Simple regret minimisation: run number = 7\n",
        "\n",
        "gp_output_7 = np.append(np.min(-gp_7.GP.y[0:n_init]),-gp_7.GP.y[n_init:(n_init+iters)]) \n",
        "stp_output_7 = np.append(np.min(-stp_7.GP.y[0:n_init]),-stp_7.GP.y[n_init:(n_init+iters)]) \n",
        "\n",
        "regret_gp_7 = np.log(gp_output_7 - y_global_orig)\n",
        "regret_stp_7 = np.log(stp_output_7 - y_global_orig)\n",
        "\n",
        "simple_regret_gp_7 = min_max_array(regret_gp_7)\n",
        "simple_regret_stp_7 = min_max_array(regret_stp_7)\n",
        "\n",
        "min_simple_regret_gp_7 = min(simple_regret_gp_7)\n",
        "min_simple_regret_stp_7 = min(simple_regret_stp_7)\n",
        "\n",
        "min_simple_regret_gp_7, min_simple_regret_stp_7"
      ]
    },
    {
      "cell_type": "code",
      "execution_count": null,
      "metadata": {
        "id": "99wY5nK6Qxfr",
        "colab": {
          "base_uri": "https://localhost:8080/"
        },
        "outputId": "b68bf5c5-7c4b-4bd0-d716-b803f8e5f8ee"
      },
      "outputs": [
        {
          "output_type": "execute_result",
          "data": {
            "text/plain": [
              "(0.8652282882219788, 1.4286155574809352)"
            ]
          },
          "metadata": {},
          "execution_count": 62
        }
      ],
      "source": [
        "### Simple regret minimisation: run number = 8\n",
        "\n",
        "gp_output_8 = np.append(np.min(-gp_8.GP.y[0:n_init]),-gp_8.GP.y[n_init:(n_init+iters)]) \n",
        "stp_output_8 = np.append(np.min(-stp_8.GP.y[0:n_init]),-stp_8.GP.y[n_init:(n_init+iters)]) \n",
        "\n",
        "regret_gp_8 = np.log(gp_output_8 - y_global_orig)\n",
        "regret_stp_8 = np.log(stp_output_8 - y_global_orig)\n",
        "\n",
        "simple_regret_gp_8 = min_max_array(regret_gp_8)\n",
        "simple_regret_stp_8 = min_max_array(regret_stp_8)\n",
        "\n",
        "min_simple_regret_gp_8 = min(simple_regret_gp_8)\n",
        "min_simple_regret_stp_8 = min(simple_regret_stp_8)\n",
        "\n",
        "min_simple_regret_gp_8, min_simple_regret_stp_8"
      ]
    },
    {
      "cell_type": "code",
      "execution_count": null,
      "metadata": {
        "id": "qt0P5t9qQxfs",
        "colab": {
          "base_uri": "https://localhost:8080/"
        },
        "outputId": "4a9dd0fc-0f9f-4727-f68a-f0e4c6a5f728"
      },
      "outputs": [
        {
          "output_type": "execute_result",
          "data": {
            "text/plain": [
              "(0.9583120909944691, 0.872474198361377)"
            ]
          },
          "metadata": {},
          "execution_count": 63
        }
      ],
      "source": [
        "### Simple regret minimisation: run number = 9\n",
        "\n",
        "gp_output_9 = np.append(np.min(-gp_9.GP.y[0:n_init]),-gp_9.GP.y[n_init:(n_init+iters)]) \n",
        "stp_output_9 = np.append(np.min(-stp_9.GP.y[0:n_init]),-stp_9.GP.y[n_init:(n_init+iters)]) \n",
        "\n",
        "regret_gp_9 = np.log(gp_output_9 - y_global_orig)\n",
        "regret_stp_9 = np.log(stp_output_9 - y_global_orig)\n",
        "\n",
        "simple_regret_gp_9 = min_max_array(regret_gp_9)\n",
        "simple_regret_stp_9 = min_max_array(regret_stp_9)\n",
        "\n",
        "min_simple_regret_gp_9 = min(simple_regret_gp_9)\n",
        "min_simple_regret_stp_9 = min(simple_regret_stp_9)\n",
        "\n",
        "min_simple_regret_gp_9, min_simple_regret_stp_9"
      ]
    },
    {
      "cell_type": "code",
      "execution_count": null,
      "metadata": {
        "id": "vx8to9stQxft",
        "colab": {
          "base_uri": "https://localhost:8080/"
        },
        "outputId": "6fb02fd9-f8aa-46fc-d5e2-6c398f7f46a9"
      },
      "outputs": [
        {
          "output_type": "execute_result",
          "data": {
            "text/plain": [
              "(1.0810710521901519, 1.134139639930358)"
            ]
          },
          "metadata": {},
          "execution_count": 64
        }
      ],
      "source": [
        "### Simple regret minimisation: run number = 10\n",
        "\n",
        "gp_output_10 = np.append(np.min(-gp_10.GP.y[0:n_init]),-gp_10.GP.y[n_init:(n_init+iters)]) \n",
        "stp_output_10 = np.append(np.min(-stp_10.GP.y[0:n_init]),-stp_10.GP.y[n_init:(n_init+iters)]) \n",
        "\n",
        "regret_gp_10 = np.log(gp_output_10 - y_global_orig)\n",
        "regret_stp_10 = np.log(stp_output_10 - y_global_orig)\n",
        "\n",
        "simple_regret_gp_10 = min_max_array(regret_gp_10)\n",
        "simple_regret_stp_10 = min_max_array(regret_stp_10)\n",
        "\n",
        "min_simple_regret_gp_10 = min(simple_regret_gp_10)\n",
        "min_simple_regret_stp_10 = min(simple_regret_stp_10)\n",
        "\n",
        "min_simple_regret_gp_10, min_simple_regret_stp_10"
      ]
    },
    {
      "cell_type": "code",
      "execution_count": null,
      "metadata": {
        "id": "d-FGzWyHQxfu",
        "colab": {
          "base_uri": "https://localhost:8080/"
        },
        "outputId": "5fbed9a6-041d-4add-c34d-d1f16a7c5dcd"
      },
      "outputs": [
        {
          "output_type": "execute_result",
          "data": {
            "text/plain": [
              "(0.6814008522389048, 0.8220936970381707)"
            ]
          },
          "metadata": {},
          "execution_count": 65
        }
      ],
      "source": [
        "### Simple regret minimisation: run number = 11\n",
        "\n",
        "gp_output_11 = np.append(np.min(-gp_11.GP.y[0:n_init]),-gp_11.GP.y[n_init:(n_init+iters)]) \n",
        "stp_output_11 = np.append(np.min(-stp_11.GP.y[0:n_init]),-stp_11.GP.y[n_init:(n_init+iters)]) \n",
        "\n",
        "regret_gp_11 = np.log(gp_output_11 - y_global_orig)\n",
        "regret_stp_11 = np.log(stp_output_11 - y_global_orig)\n",
        "\n",
        "simple_regret_gp_11 = min_max_array(regret_gp_11)\n",
        "simple_regret_stp_11 = min_max_array(regret_stp_11)\n",
        "\n",
        "min_simple_regret_gp_11 = min(simple_regret_gp_11)\n",
        "min_simple_regret_stp_11 = min(simple_regret_stp_11)\n",
        "\n",
        "min_simple_regret_gp_11, min_simple_regret_stp_11"
      ]
    },
    {
      "cell_type": "code",
      "execution_count": null,
      "metadata": {
        "id": "SvtsssyjQxfv",
        "colab": {
          "base_uri": "https://localhost:8080/"
        },
        "outputId": "ce23ab83-76bf-4db0-b0c1-bea30850cc1b"
      },
      "outputs": [
        {
          "output_type": "execute_result",
          "data": {
            "text/plain": [
              "(-0.05359222109358334, -0.05359222109358334)"
            ]
          },
          "metadata": {},
          "execution_count": 66
        }
      ],
      "source": [
        "### Simple regret minimisation: run number = 12\n",
        "\n",
        "gp_output_12 = np.append(np.min(-gp_12.GP.y[0:n_init]),-gp_12.GP.y[n_init:(n_init+iters)]) \n",
        "stp_output_12 = np.append(np.min(-stp_12.GP.y[0:n_init]),-stp_12.GP.y[n_init:(n_init+iters)]) \n",
        "\n",
        "regret_gp_12 = np.log(gp_output_12 - y_global_orig)\n",
        "regret_stp_12 = np.log(stp_output_12 - y_global_orig)\n",
        "\n",
        "simple_regret_gp_12 = min_max_array(regret_gp_12)\n",
        "simple_regret_stp_12 = min_max_array(regret_stp_12)\n",
        "\n",
        "min_simple_regret_gp_12 = min(simple_regret_gp_12)\n",
        "min_simple_regret_stp_12 = min(simple_regret_stp_12)\n",
        "\n",
        "min_simple_regret_gp_12, min_simple_regret_stp_12"
      ]
    },
    {
      "cell_type": "code",
      "execution_count": null,
      "metadata": {
        "id": "K6OiGcHkQxfw",
        "colab": {
          "base_uri": "https://localhost:8080/"
        },
        "outputId": "901fbe2b-d09f-4778-ffbd-9da25c5d8299"
      },
      "outputs": [
        {
          "output_type": "execute_result",
          "data": {
            "text/plain": [
              "(0.2563772262447847, 0.2525746330102763)"
            ]
          },
          "metadata": {},
          "execution_count": 67
        }
      ],
      "source": [
        "### Simple regret minimisation: run number = 13\n",
        "\n",
        "gp_output_13 = np.append(np.min(-gp_13.GP.y[0:n_init]),-gp_13.GP.y[n_init:(n_init+iters)]) \n",
        "stp_output_13 = np.append(np.min(-stp_13.GP.y[0:n_init]),-stp_13.GP.y[n_init:(n_init+iters)]) \n",
        "\n",
        "regret_gp_13 = np.log(gp_output_13 - y_global_orig)\n",
        "regret_stp_13 = np.log(stp_output_13 - y_global_orig)\n",
        "\n",
        "simple_regret_gp_13 = min_max_array(regret_gp_13)\n",
        "simple_regret_stp_13 = min_max_array(regret_stp_13)\n",
        "\n",
        "min_simple_regret_gp_13 = min(simple_regret_gp_13)\n",
        "min_simple_regret_stp_13 = min(simple_regret_stp_13)\n",
        "\n",
        "min_simple_regret_gp_13, min_simple_regret_stp_13"
      ]
    },
    {
      "cell_type": "code",
      "execution_count": null,
      "metadata": {
        "id": "ogML73shQxfx",
        "colab": {
          "base_uri": "https://localhost:8080/"
        },
        "outputId": "41f4957b-d31e-4ec6-9eca-1060fb49bfe9"
      },
      "outputs": [
        {
          "output_type": "execute_result",
          "data": {
            "text/plain": [
              "(0.5949161906605641, 0.2479806226854799)"
            ]
          },
          "metadata": {},
          "execution_count": 68
        }
      ],
      "source": [
        "### Simple regret minimisation: run number = 14\n",
        "\n",
        "gp_output_14 = np.append(np.min(-gp_14.GP.y[0:n_init]),-gp_14.GP.y[n_init:(n_init+iters)]) \n",
        "stp_output_14 = np.append(np.min(-stp_14.GP.y[0:n_init]),-stp_14.GP.y[n_init:(n_init+iters)]) \n",
        "\n",
        "regret_gp_14 = np.log(gp_output_14 - y_global_orig)\n",
        "regret_stp_14 = np.log(stp_output_14 - y_global_orig)\n",
        "\n",
        "simple_regret_gp_14 = min_max_array(regret_gp_14)\n",
        "simple_regret_stp_14 = min_max_array(regret_stp_14)\n",
        "\n",
        "min_simple_regret_gp_14 = min(simple_regret_gp_14)\n",
        "min_simple_regret_stp_14 = min(simple_regret_stp_14)\n",
        "\n",
        "min_simple_regret_gp_14, min_simple_regret_stp_14"
      ]
    },
    {
      "cell_type": "code",
      "execution_count": null,
      "metadata": {
        "id": "9Eg7gFT9Qxfx",
        "colab": {
          "base_uri": "https://localhost:8080/"
        },
        "outputId": "99674578-038d-4047-a961-43ebfbc64b24"
      },
      "outputs": [
        {
          "output_type": "execute_result",
          "data": {
            "text/plain": [
              "(0.651131471604439, 1.4078295910531775)"
            ]
          },
          "metadata": {},
          "execution_count": 69
        }
      ],
      "source": [
        "### Simple regret minimisation: run number = 15\n",
        "\n",
        "gp_output_15 = np.append(np.min(-gp_15.GP.y[0:n_init]),-gp_15.GP.y[n_init:(n_init+iters)]) \n",
        "stp_output_15 = np.append(np.min(-stp_15.GP.y[0:n_init]),-stp_15.GP.y[n_init:(n_init+iters)]) \n",
        "\n",
        "regret_gp_15 = np.log(gp_output_15 - y_global_orig)\n",
        "regret_stp_15 = np.log(stp_output_15 - y_global_orig)\n",
        "\n",
        "simple_regret_gp_15 = min_max_array(regret_gp_15)\n",
        "simple_regret_stp_15 = min_max_array(regret_stp_15)\n",
        "\n",
        "min_simple_regret_gp_15 = min(simple_regret_gp_15)\n",
        "min_simple_regret_stp_15 = min(simple_regret_stp_15)\n",
        "\n",
        "min_simple_regret_gp_15, min_simple_regret_stp_15"
      ]
    },
    {
      "cell_type": "code",
      "execution_count": null,
      "metadata": {
        "id": "lIAC1U7ZQxfy",
        "colab": {
          "base_uri": "https://localhost:8080/"
        },
        "outputId": "d58f0cd9-4390-4ff1-ab7d-5a79c5a2ba6c"
      },
      "outputs": [
        {
          "output_type": "execute_result",
          "data": {
            "text/plain": [
              "(0.1722039074736034, 1.1358281109947383)"
            ]
          },
          "metadata": {},
          "execution_count": 70
        }
      ],
      "source": [
        "### Simple regret minimisation: run number = 16\n",
        "\n",
        "gp_output_16 = np.append(np.min(-gp_16.GP.y[0:n_init]),-gp_16.GP.y[n_init:(n_init+iters)]) \n",
        "stp_output_16 = np.append(np.min(-stp_16.GP.y[0:n_init]),-stp_16.GP.y[n_init:(n_init+iters)]) \n",
        "\n",
        "regret_gp_16 = np.log(gp_output_16 - y_global_orig)\n",
        "regret_stp_16 = np.log(stp_output_16 - y_global_orig)\n",
        "\n",
        "simple_regret_gp_16 = min_max_array(regret_gp_16)\n",
        "simple_regret_stp_16 = min_max_array(regret_stp_16)\n",
        "\n",
        "min_simple_regret_gp_16 = min(simple_regret_gp_16)\n",
        "min_simple_regret_stp_16 = min(simple_regret_stp_16)\n",
        "\n",
        "min_simple_regret_gp_16, min_simple_regret_stp_16"
      ]
    },
    {
      "cell_type": "code",
      "execution_count": null,
      "metadata": {
        "id": "bGott36OQxfz",
        "colab": {
          "base_uri": "https://localhost:8080/"
        },
        "outputId": "eb3242c5-5c69-44e5-d756-f825a191566e"
      },
      "outputs": [
        {
          "output_type": "execute_result",
          "data": {
            "text/plain": [
              "(0.8104034599570658, 0.7770443526740851)"
            ]
          },
          "metadata": {},
          "execution_count": 71
        }
      ],
      "source": [
        "### Simple regret minimisation: run number = 17\n",
        "\n",
        "gp_output_17 = np.append(np.min(-gp_17.GP.y[0:n_init]),-gp_17.GP.y[n_init:(n_init+iters)]) \n",
        "stp_output_17 = np.append(np.min(-stp_17.GP.y[0:n_init]),-stp_17.GP.y[n_init:(n_init+iters)]) \n",
        "\n",
        "regret_gp_17 = np.log(gp_output_17 - y_global_orig)\n",
        "regret_stp_17 = np.log(stp_output_17 - y_global_orig)\n",
        "\n",
        "simple_regret_gp_17 = min_max_array(regret_gp_17)\n",
        "simple_regret_stp_17 = min_max_array(regret_stp_17)\n",
        "\n",
        "min_simple_regret_gp_17 = min(simple_regret_gp_17)\n",
        "min_simple_regret_stp_17 = min(simple_regret_stp_17)\n",
        "\n",
        "min_simple_regret_gp_17, min_simple_regret_stp_17"
      ]
    },
    {
      "cell_type": "code",
      "execution_count": null,
      "metadata": {
        "id": "Cz9ZYMBMQxfz",
        "colab": {
          "base_uri": "https://localhost:8080/"
        },
        "outputId": "b6277b85-c345-457f-b01d-12b46acd47eb"
      },
      "outputs": [
        {
          "output_type": "execute_result",
          "data": {
            "text/plain": [
              "(1.1422353331541109, 1.3399471357149502)"
            ]
          },
          "metadata": {},
          "execution_count": 72
        }
      ],
      "source": [
        "### Simple regret minimisation: run number = 18\n",
        "\n",
        "gp_output_18 = np.append(np.min(-gp_18.GP.y[0:n_init]),-gp_18.GP.y[n_init:(n_init+iters)]) \n",
        "stp_output_18 = np.append(np.min(-stp_18.GP.y[0:n_init]),-stp_18.GP.y[n_init:(n_init+iters)]) \n",
        "\n",
        "regret_gp_18 = np.log(gp_output_18 - y_global_orig)\n",
        "regret_stp_18 = np.log(stp_output_18 - y_global_orig)\n",
        "\n",
        "simple_regret_gp_18 = min_max_array(regret_gp_18)\n",
        "simple_regret_stp_18 = min_max_array(regret_stp_18)\n",
        "\n",
        "min_simple_regret_gp_18 = min(simple_regret_gp_18)\n",
        "min_simple_regret_stp_18 = min(simple_regret_stp_18)\n",
        "\n",
        "min_simple_regret_gp_18, min_simple_regret_stp_18"
      ]
    },
    {
      "cell_type": "code",
      "execution_count": null,
      "metadata": {
        "id": "OBfpWOHNQxf0",
        "colab": {
          "base_uri": "https://localhost:8080/"
        },
        "outputId": "d8095440-a540-4bdc-d41a-cda26a80b6f0"
      },
      "outputs": [
        {
          "output_type": "execute_result",
          "data": {
            "text/plain": [
              "(0.1970022317043208, 0.1970022317043208)"
            ]
          },
          "metadata": {},
          "execution_count": 73
        }
      ],
      "source": [
        "### Simple regret minimisation: run number = 19\n",
        "\n",
        "gp_output_19 = np.append(np.min(-gp_19.GP.y[0:n_init]),-gp_19.GP.y[n_init:(n_init+iters)]) \n",
        "stp_output_19 = np.append(np.min(-stp_19.GP.y[0:n_init]),-stp_19.GP.y[n_init:(n_init+iters)]) \n",
        "\n",
        "regret_gp_19 = np.log(gp_output_19 - y_global_orig)\n",
        "regret_stp_19 = np.log(stp_output_19 - y_global_orig)\n",
        "\n",
        "simple_regret_gp_19 = min_max_array(regret_gp_19)\n",
        "simple_regret_stp_19 = min_max_array(regret_stp_19)\n",
        "\n",
        "min_simple_regret_gp_19 = min(simple_regret_gp_19)\n",
        "min_simple_regret_stp_19 = min(simple_regret_stp_19)\n",
        "\n",
        "min_simple_regret_gp_19, min_simple_regret_stp_19"
      ]
    },
    {
      "cell_type": "code",
      "execution_count": null,
      "metadata": {
        "id": "BE1AJ7NsQxf0",
        "colab": {
          "base_uri": "https://localhost:8080/"
        },
        "outputId": "edc2b9b5-e8c6-433d-f828-50e15cd016fd"
      },
      "outputs": [
        {
          "output_type": "execute_result",
          "data": {
            "text/plain": [
              "(1.154502918693551, 1.3648752827896438)"
            ]
          },
          "metadata": {},
          "execution_count": 74
        }
      ],
      "source": [
        "### Simple regret minimisation: run number = 20\n",
        "\n",
        "gp_output_20 = np.append(np.min(-gp_20.GP.y[0:n_init]),-gp_20.GP.y[n_init:(n_init+iters)]) \n",
        "stp_output_20 = np.append(np.min(-stp_20.GP.y[0:n_init]),-stp_20.GP.y[n_init:(n_init+iters)]) \n",
        "\n",
        "regret_gp_20 = np.log(gp_output_20 - y_global_orig)\n",
        "regret_stp_20 = np.log(stp_output_20 - y_global_orig)\n",
        "\n",
        "simple_regret_gp_20 = min_max_array(regret_gp_20)\n",
        "simple_regret_stp_20 = min_max_array(regret_stp_20)\n",
        "\n",
        "min_simple_regret_gp_20 = min(simple_regret_gp_20)\n",
        "min_simple_regret_stp_20 = min(simple_regret_stp_20)\n",
        "\n",
        "min_simple_regret_gp_20, min_simple_regret_stp_20"
      ]
    },
    {
      "cell_type": "code",
      "execution_count": null,
      "metadata": {
        "id": "bpX-bKAHQxf1"
      },
      "outputs": [],
      "source": [
        "# Iteration1 :\n",
        "\n",
        "slice1 = 0\n",
        "\n",
        "approx1 = [simple_regret_gp_1[slice1],\n",
        "       simple_regret_gp_2[slice1],\n",
        "       simple_regret_gp_3[slice1],\n",
        "       simple_regret_gp_4[slice1],\n",
        "       simple_regret_gp_5[slice1],\n",
        "       simple_regret_gp_6[slice1],\n",
        "       simple_regret_gp_7[slice1],\n",
        "       simple_regret_gp_8[slice1],\n",
        "       simple_regret_gp_9[slice1],\n",
        "       simple_regret_gp_10[slice1],\n",
        "       simple_regret_gp_11[slice1],\n",
        "       simple_regret_gp_12[slice1],\n",
        "       simple_regret_gp_13[slice1],\n",
        "       simple_regret_gp_14[slice1],\n",
        "       simple_regret_gp_15[slice1],\n",
        "       simple_regret_gp_16[slice1],\n",
        "       simple_regret_gp_17[slice1],\n",
        "       simple_regret_gp_18[slice1],\n",
        "       simple_regret_gp_19[slice1],\n",
        "       simple_regret_gp_20[slice1]]\n",
        "\n",
        "exact1 = [simple_regret_stp_1[slice1],\n",
        "       simple_regret_stp_2[slice1],\n",
        "       simple_regret_stp_3[slice1],\n",
        "       simple_regret_stp_4[slice1],\n",
        "       simple_regret_stp_5[slice1],\n",
        "       simple_regret_stp_6[slice1],\n",
        "       simple_regret_stp_7[slice1],\n",
        "       simple_regret_stp_8[slice1],\n",
        "       simple_regret_stp_9[slice1],\n",
        "       simple_regret_stp_10[slice1],\n",
        "       simple_regret_stp_11[slice1],\n",
        "       simple_regret_stp_12[slice1],\n",
        "       simple_regret_stp_13[slice1],\n",
        "       simple_regret_stp_14[slice1],\n",
        "       simple_regret_stp_15[slice1],\n",
        "       simple_regret_stp_16[slice1],\n",
        "       simple_regret_stp_17[slice1],\n",
        "       simple_regret_stp_18[slice1],\n",
        "       simple_regret_stp_19[slice1],\n",
        "       simple_regret_stp_20[slice1]]\n",
        "\n",
        "approx1_results = pd.DataFrame(approx1).sort_values(by=[0], ascending=False)\n",
        "exact1_results = pd.DataFrame(exact1).sort_values(by=[0], ascending=False)\n",
        "\n",
        "### Best simple regret minimization IQR - approx:\n",
        "lower_gp1 = np.asarray(approx1_results[4:5][0])[0]\n",
        "median_gp1 = np.asarray(approx1_results[9:10][0])[0]\n",
        "upper_gp1 = np.asarray(approx1_results[14:15][0])[0]\n",
        "\n",
        "lower_stp1 = np.asarray(exact1_results[4:5][0])[0]\n",
        "median_stp1 = np.asarray(exact1_results[9:10][0])[0]\n",
        "upper_stp1 = np.asarray(exact1_results[14:15][0])[0]"
      ]
    },
    {
      "cell_type": "code",
      "execution_count": null,
      "metadata": {
        "id": "CgIkJA1xQxf2"
      },
      "outputs": [],
      "source": [
        "# Iteration11 :\n",
        "\n",
        "slice11 = 10\n",
        "\n",
        "approx11 = [simple_regret_gp_1[slice11],\n",
        "       simple_regret_gp_2[slice11],\n",
        "       simple_regret_gp_3[slice11],\n",
        "       simple_regret_gp_4[slice11],\n",
        "       simple_regret_gp_5[slice11],\n",
        "       simple_regret_gp_6[slice11],\n",
        "       simple_regret_gp_7[slice11],\n",
        "       simple_regret_gp_8[slice11],\n",
        "       simple_regret_gp_9[slice11],\n",
        "       simple_regret_gp_10[slice11],\n",
        "       simple_regret_gp_11[slice11],\n",
        "       simple_regret_gp_12[slice11],\n",
        "       simple_regret_gp_13[slice11],\n",
        "       simple_regret_gp_14[slice11],\n",
        "       simple_regret_gp_15[slice11],\n",
        "       simple_regret_gp_16[slice11],\n",
        "       simple_regret_gp_17[slice11],\n",
        "       simple_regret_gp_18[slice11],\n",
        "       simple_regret_gp_19[slice11],\n",
        "       simple_regret_gp_20[slice11]]\n",
        "\n",
        "exact11 = [simple_regret_stp_1[slice11],\n",
        "       simple_regret_stp_2[slice11],\n",
        "       simple_regret_stp_3[slice11],\n",
        "       simple_regret_stp_4[slice11],\n",
        "       simple_regret_stp_5[slice11],\n",
        "       simple_regret_stp_6[slice11],\n",
        "       simple_regret_stp_7[slice11],\n",
        "       simple_regret_stp_8[slice11],\n",
        "       simple_regret_stp_9[slice11],\n",
        "       simple_regret_stp_10[slice11],\n",
        "       simple_regret_stp_11[slice11],\n",
        "       simple_regret_stp_12[slice11],\n",
        "       simple_regret_stp_13[slice11],\n",
        "       simple_regret_stp_14[slice11],\n",
        "       simple_regret_stp_15[slice11],\n",
        "       simple_regret_stp_16[slice11],\n",
        "       simple_regret_stp_17[slice11],\n",
        "       simple_regret_stp_18[slice11],\n",
        "       simple_regret_stp_19[slice11],\n",
        "       simple_regret_stp_20[slice11]]\n",
        "\n",
        "approx11_results = pd.DataFrame(approx11).sort_values(by=[0], ascending=False)\n",
        "exact11_results = pd.DataFrame(exact11).sort_values(by=[0], ascending=False)\n",
        "\n",
        "### Best simple regret minimization IQR - approx:\n",
        "lower_gp11 = np.asarray(approx11_results[4:5][0])[0]\n",
        "median_gp11 = np.asarray(approx11_results[9:10][0])[0]\n",
        "upper_gp11 = np.asarray(approx11_results[14:15][0])[0]\n",
        "\n",
        "lower_stp11 = np.asarray(exact11_results[4:5][0])[0]\n",
        "median_stp11 = np.asarray(exact11_results[9:10][0])[0]\n",
        "upper_stp11 = np.asarray(exact11_results[14:15][0])[0]"
      ]
    },
    {
      "cell_type": "code",
      "execution_count": null,
      "metadata": {
        "id": "MFePDfGuQxf2"
      },
      "outputs": [],
      "source": [
        "# Iteration21 :\n",
        "\n",
        "slice21 = 20\n",
        "\n",
        "approx21 = [simple_regret_gp_1[slice21],\n",
        "       simple_regret_gp_2[slice21],\n",
        "       simple_regret_gp_3[slice21],\n",
        "       simple_regret_gp_4[slice21],\n",
        "       simple_regret_gp_5[slice21],\n",
        "       simple_regret_gp_6[slice21],\n",
        "       simple_regret_gp_7[slice21],\n",
        "       simple_regret_gp_8[slice21],\n",
        "       simple_regret_gp_9[slice21],\n",
        "       simple_regret_gp_10[slice21],\n",
        "       simple_regret_gp_11[slice21],\n",
        "       simple_regret_gp_12[slice21],\n",
        "       simple_regret_gp_13[slice21],\n",
        "       simple_regret_gp_14[slice21],\n",
        "       simple_regret_gp_15[slice21],\n",
        "       simple_regret_gp_16[slice21],\n",
        "       simple_regret_gp_17[slice21],\n",
        "       simple_regret_gp_18[slice21],\n",
        "       simple_regret_gp_19[slice21],\n",
        "       simple_regret_gp_20[slice21]]\n",
        "\n",
        "exact21 = [simple_regret_stp_1[slice21],\n",
        "       simple_regret_stp_2[slice21],\n",
        "       simple_regret_stp_3[slice21],\n",
        "       simple_regret_stp_4[slice21],\n",
        "       simple_regret_stp_5[slice21],\n",
        "       simple_regret_stp_6[slice21],\n",
        "       simple_regret_stp_7[slice21],\n",
        "       simple_regret_stp_8[slice21],\n",
        "       simple_regret_stp_9[slice21],\n",
        "       simple_regret_stp_10[slice21],\n",
        "       simple_regret_stp_11[slice21],\n",
        "       simple_regret_stp_12[slice21],\n",
        "       simple_regret_stp_13[slice21],\n",
        "       simple_regret_stp_14[slice21],\n",
        "       simple_regret_stp_15[slice21],\n",
        "       simple_regret_stp_16[slice21],\n",
        "       simple_regret_stp_17[slice21],\n",
        "       simple_regret_stp_18[slice21],\n",
        "       simple_regret_stp_19[slice21],\n",
        "       simple_regret_stp_20[slice21]]\n",
        "\n",
        "approx21_results = pd.DataFrame(approx21).sort_values(by=[0], ascending=False)\n",
        "exact21_results = pd.DataFrame(exact21).sort_values(by=[0], ascending=False)\n",
        "\n",
        "### Best simple regret minimization IQR - approx:\n",
        "lower_gp21 = np.asarray(approx21_results[4:5][0])[0]\n",
        "median_gp21 = np.asarray(approx21_results[9:10][0])[0]\n",
        "upper_gp21 = np.asarray(approx21_results[14:15][0])[0]\n",
        "\n",
        "lower_stp21 = np.asarray(exact21_results[4:5][0])[0]\n",
        "median_stp21 = np.asarray(exact21_results[9:10][0])[0]\n",
        "upper_stp21 = np.asarray(exact21_results[14:15][0])[0]"
      ]
    },
    {
      "cell_type": "code",
      "execution_count": null,
      "metadata": {
        "id": "PrRDB1kfQxf3"
      },
      "outputs": [],
      "source": [
        "# Iteration2 :\n",
        "\n",
        "slice2 = 1\n",
        "\n",
        "approx2 = [simple_regret_gp_1[slice2],\n",
        "       simple_regret_gp_2[slice2],\n",
        "       simple_regret_gp_3[slice2],\n",
        "       simple_regret_gp_4[slice2],\n",
        "       simple_regret_gp_5[slice2],\n",
        "       simple_regret_gp_6[slice2],\n",
        "       simple_regret_gp_7[slice2],\n",
        "       simple_regret_gp_8[slice2],\n",
        "       simple_regret_gp_9[slice2],\n",
        "       simple_regret_gp_10[slice2],\n",
        "       simple_regret_gp_11[slice2],\n",
        "       simple_regret_gp_12[slice2],\n",
        "       simple_regret_gp_13[slice2],\n",
        "       simple_regret_gp_14[slice2],\n",
        "       simple_regret_gp_15[slice2],\n",
        "       simple_regret_gp_16[slice2],\n",
        "       simple_regret_gp_17[slice2],\n",
        "       simple_regret_gp_18[slice2],\n",
        "       simple_regret_gp_19[slice2],\n",
        "       simple_regret_gp_20[slice2]]\n",
        "\n",
        "exact2 = [simple_regret_stp_1[slice2],\n",
        "       simple_regret_stp_2[slice2],\n",
        "       simple_regret_stp_3[slice2],\n",
        "       simple_regret_stp_4[slice2],\n",
        "       simple_regret_stp_5[slice2],\n",
        "       simple_regret_stp_6[slice2],\n",
        "       simple_regret_stp_7[slice2],\n",
        "       simple_regret_stp_8[slice2],\n",
        "       simple_regret_stp_9[slice2],\n",
        "       simple_regret_stp_10[slice2],\n",
        "       simple_regret_stp_11[slice2],\n",
        "       simple_regret_stp_12[slice2],\n",
        "       simple_regret_stp_13[slice2],\n",
        "       simple_regret_stp_14[slice2],\n",
        "       simple_regret_stp_15[slice2],\n",
        "       simple_regret_stp_16[slice2],\n",
        "       simple_regret_stp_17[slice2],\n",
        "       simple_regret_stp_18[slice2],\n",
        "       simple_regret_stp_19[slice2],\n",
        "       simple_regret_stp_20[slice2]]\n",
        "\n",
        "approx2_results = pd.DataFrame(approx2).sort_values(by=[0], ascending=False)\n",
        "exact2_results = pd.DataFrame(exact2).sort_values(by=[0], ascending=False)\n",
        "\n",
        "### Best simple regret minimization IQR - approx:\n",
        "lower_gp2 = np.asarray(approx2_results[4:5][0])[0]\n",
        "median_gp2 = np.asarray(approx2_results[9:10][0])[0]\n",
        "upper_gp2 = np.asarray(approx2_results[14:15][0])[0]\n",
        "\n",
        "lower_stp2 = np.asarray(exact2_results[4:5][0])[0]\n",
        "median_stp2 = np.asarray(exact2_results[9:10][0])[0]\n",
        "upper_stp2 = np.asarray(exact2_results[14:15][0])[0]"
      ]
    },
    {
      "cell_type": "code",
      "execution_count": null,
      "metadata": {
        "id": "B8ncJDYeQxf3"
      },
      "outputs": [],
      "source": [
        "# Iteration12 :\n",
        "\n",
        "slice12 = 11\n",
        "\n",
        "approx12 = [simple_regret_gp_1[slice12],\n",
        "       simple_regret_gp_2[slice12],\n",
        "       simple_regret_gp_3[slice12],\n",
        "       simple_regret_gp_4[slice12],\n",
        "       simple_regret_gp_5[slice12],\n",
        "       simple_regret_gp_6[slice12],\n",
        "       simple_regret_gp_7[slice12],\n",
        "       simple_regret_gp_8[slice12],\n",
        "       simple_regret_gp_9[slice12],\n",
        "       simple_regret_gp_10[slice12],\n",
        "       simple_regret_gp_11[slice12],\n",
        "       simple_regret_gp_12[slice12],\n",
        "       simple_regret_gp_13[slice12],\n",
        "       simple_regret_gp_14[slice12],\n",
        "       simple_regret_gp_15[slice12],\n",
        "       simple_regret_gp_16[slice12],\n",
        "       simple_regret_gp_17[slice12],\n",
        "       simple_regret_gp_18[slice12],\n",
        "       simple_regret_gp_19[slice12],\n",
        "       simple_regret_gp_20[slice12]]\n",
        "\n",
        "exact12 = [simple_regret_stp_1[slice12],\n",
        "       simple_regret_stp_2[slice12],\n",
        "       simple_regret_stp_3[slice12],\n",
        "       simple_regret_stp_4[slice12],\n",
        "       simple_regret_stp_5[slice12],\n",
        "       simple_regret_stp_6[slice12],\n",
        "       simple_regret_stp_7[slice12],\n",
        "       simple_regret_stp_8[slice12],\n",
        "       simple_regret_stp_9[slice12],\n",
        "       simple_regret_stp_10[slice12],\n",
        "       simple_regret_stp_11[slice12],\n",
        "       simple_regret_stp_12[slice12],\n",
        "       simple_regret_stp_13[slice12],\n",
        "       simple_regret_stp_14[slice12],\n",
        "       simple_regret_stp_15[slice12],\n",
        "       simple_regret_stp_16[slice12],\n",
        "       simple_regret_stp_17[slice12],\n",
        "       simple_regret_stp_18[slice12],\n",
        "       simple_regret_stp_19[slice12],\n",
        "       simple_regret_stp_20[slice12]]\n",
        "\n",
        "approx12_results = pd.DataFrame(approx12).sort_values(by=[0], ascending=False)\n",
        "exact12_results = pd.DataFrame(exact12).sort_values(by=[0], ascending=False)\n",
        "\n",
        "### Best simple regret minimization IQR - approx:\n",
        "lower_gp12 = np.asarray(approx12_results[4:5][0])[0]\n",
        "median_gp12 = np.asarray(approx12_results[9:10][0])[0]\n",
        "upper_gp12 = np.asarray(approx12_results[14:15][0])[0]\n",
        "\n",
        "lower_stp12 = np.asarray(exact12_results[4:5][0])[0]\n",
        "median_stp12 = np.asarray(exact12_results[9:10][0])[0]\n",
        "upper_stp12 = np.asarray(exact12_results[14:15][0])[0]"
      ]
    },
    {
      "cell_type": "code",
      "execution_count": null,
      "metadata": {
        "id": "Jn4KpGvcQxf4"
      },
      "outputs": [],
      "source": [
        "# Iteration3 :\n",
        "\n",
        "slice3 = 2\n",
        "\n",
        "approx3 = [simple_regret_gp_1[slice3],\n",
        "       simple_regret_gp_2[slice3],\n",
        "       simple_regret_gp_3[slice3],\n",
        "       simple_regret_gp_4[slice3],\n",
        "       simple_regret_gp_5[slice3],\n",
        "       simple_regret_gp_6[slice3],\n",
        "       simple_regret_gp_7[slice3],\n",
        "       simple_regret_gp_8[slice3],\n",
        "       simple_regret_gp_9[slice3],\n",
        "       simple_regret_gp_10[slice3],\n",
        "       simple_regret_gp_11[slice3],\n",
        "       simple_regret_gp_12[slice3],\n",
        "       simple_regret_gp_13[slice3],\n",
        "       simple_regret_gp_14[slice3],\n",
        "       simple_regret_gp_15[slice3],\n",
        "       simple_regret_gp_16[slice3],\n",
        "       simple_regret_gp_17[slice3],\n",
        "       simple_regret_gp_18[slice3],\n",
        "       simple_regret_gp_19[slice3],\n",
        "       simple_regret_gp_20[slice3]]\n",
        "\n",
        "exact3 = [simple_regret_stp_1[slice3],\n",
        "       simple_regret_stp_2[slice3],\n",
        "       simple_regret_stp_3[slice3],\n",
        "       simple_regret_stp_4[slice3],\n",
        "       simple_regret_stp_5[slice3],\n",
        "       simple_regret_stp_6[slice3],\n",
        "       simple_regret_stp_7[slice3],\n",
        "       simple_regret_stp_8[slice3],\n",
        "       simple_regret_stp_9[slice3],\n",
        "       simple_regret_stp_10[slice3],\n",
        "       simple_regret_stp_11[slice3],\n",
        "       simple_regret_stp_12[slice3],\n",
        "       simple_regret_stp_13[slice3],\n",
        "       simple_regret_stp_14[slice3],\n",
        "       simple_regret_stp_15[slice3],\n",
        "       simple_regret_stp_16[slice3],\n",
        "       simple_regret_stp_17[slice3],\n",
        "       simple_regret_stp_18[slice3],\n",
        "       simple_regret_stp_19[slice3],\n",
        "       simple_regret_stp_20[slice3]]\n",
        "\n",
        "approx3_results = pd.DataFrame(approx3).sort_values(by=[0], ascending=False)\n",
        "exact3_results = pd.DataFrame(exact3).sort_values(by=[0], ascending=False)\n",
        "\n",
        "### Best simple regret minimization IQR - approx:\n",
        "lower_gp3 = np.asarray(approx3_results[4:5][0])[0]\n",
        "median_gp3 = np.asarray(approx3_results[9:10][0])[0]\n",
        "upper_gp3 = np.asarray(approx3_results[14:15][0])[0]\n",
        "\n",
        "lower_stp3 = np.asarray(exact3_results[4:5][0])[0]\n",
        "median_stp3 = np.asarray(exact3_results[9:10][0])[0]\n",
        "upper_stp3 = np.asarray(exact3_results[14:15][0])[0]"
      ]
    },
    {
      "cell_type": "code",
      "execution_count": null,
      "metadata": {
        "id": "plf83wxrQxf4"
      },
      "outputs": [],
      "source": [
        "# Iteration13 :\n",
        "\n",
        "slice13 = 12\n",
        "\n",
        "approx13 = [simple_regret_gp_1[slice13],\n",
        "       simple_regret_gp_2[slice13],\n",
        "       simple_regret_gp_3[slice13],\n",
        "       simple_regret_gp_4[slice13],\n",
        "       simple_regret_gp_5[slice13],\n",
        "       simple_regret_gp_6[slice13],\n",
        "       simple_regret_gp_7[slice13],\n",
        "       simple_regret_gp_8[slice13],\n",
        "       simple_regret_gp_9[slice13],\n",
        "       simple_regret_gp_10[slice13],\n",
        "       simple_regret_gp_11[slice13],\n",
        "       simple_regret_gp_12[slice13],\n",
        "       simple_regret_gp_13[slice13],\n",
        "       simple_regret_gp_14[slice13],\n",
        "       simple_regret_gp_15[slice13],\n",
        "       simple_regret_gp_16[slice13],\n",
        "       simple_regret_gp_17[slice13],\n",
        "       simple_regret_gp_18[slice13],\n",
        "       simple_regret_gp_19[slice13],\n",
        "       simple_regret_gp_20[slice13]]\n",
        "\n",
        "exact13 = [simple_regret_stp_1[slice13],\n",
        "       simple_regret_stp_2[slice13],\n",
        "       simple_regret_stp_3[slice13],\n",
        "       simple_regret_stp_4[slice13],\n",
        "       simple_regret_stp_5[slice13],\n",
        "       simple_regret_stp_6[slice13],\n",
        "       simple_regret_stp_7[slice13],\n",
        "       simple_regret_stp_8[slice13],\n",
        "       simple_regret_stp_9[slice13],\n",
        "       simple_regret_stp_10[slice13],\n",
        "       simple_regret_stp_11[slice13],\n",
        "       simple_regret_stp_12[slice13],\n",
        "       simple_regret_stp_13[slice13],\n",
        "       simple_regret_stp_14[slice13],\n",
        "       simple_regret_stp_15[slice13],\n",
        "       simple_regret_stp_16[slice13],\n",
        "       simple_regret_stp_17[slice13],\n",
        "       simple_regret_stp_18[slice13],\n",
        "       simple_regret_stp_19[slice13],\n",
        "       simple_regret_stp_20[slice13]]\n",
        "\n",
        "approx13_results = pd.DataFrame(approx13).sort_values(by=[0], ascending=False)\n",
        "exact13_results = pd.DataFrame(exact13).sort_values(by=[0], ascending=False)\n",
        "\n",
        "### Best simple regret minimization IQR - approx:\n",
        "lower_gp13 = np.asarray(approx13_results[4:5][0])[0]\n",
        "median_gp13 = np.asarray(approx13_results[9:10][0])[0]\n",
        "upper_gp13 = np.asarray(approx13_results[14:15][0])[0]\n",
        "\n",
        "lower_stp13 = np.asarray(exact13_results[4:5][0])[0]\n",
        "median_stp13 = np.asarray(exact13_results[9:10][0])[0]\n",
        "upper_stp13 = np.asarray(exact13_results[14:15][0])[0]"
      ]
    },
    {
      "cell_type": "code",
      "execution_count": null,
      "metadata": {
        "id": "9A7mlVvJQxf5"
      },
      "outputs": [],
      "source": [
        "# Iteration4 :\n",
        "\n",
        "slice4 = 3\n",
        "\n",
        "approx4 = [simple_regret_gp_1[slice4],\n",
        "       simple_regret_gp_2[slice4],\n",
        "       simple_regret_gp_3[slice4],\n",
        "       simple_regret_gp_4[slice4],\n",
        "       simple_regret_gp_5[slice4],\n",
        "       simple_regret_gp_6[slice4],\n",
        "       simple_regret_gp_7[slice4],\n",
        "       simple_regret_gp_8[slice4],\n",
        "       simple_regret_gp_9[slice4],\n",
        "       simple_regret_gp_10[slice4],\n",
        "       simple_regret_gp_11[slice4],\n",
        "       simple_regret_gp_12[slice4],\n",
        "       simple_regret_gp_13[slice4],\n",
        "       simple_regret_gp_14[slice4],\n",
        "       simple_regret_gp_15[slice4],\n",
        "       simple_regret_gp_16[slice4],\n",
        "       simple_regret_gp_17[slice4],\n",
        "       simple_regret_gp_18[slice4],\n",
        "       simple_regret_gp_19[slice4],\n",
        "       simple_regret_gp_20[slice4]]\n",
        "\n",
        "exact4 = [simple_regret_stp_1[slice4],\n",
        "       simple_regret_stp_2[slice4],\n",
        "       simple_regret_stp_3[slice4],\n",
        "       simple_regret_stp_4[slice4],\n",
        "       simple_regret_stp_5[slice4],\n",
        "       simple_regret_stp_6[slice4],\n",
        "       simple_regret_stp_7[slice4],\n",
        "       simple_regret_stp_8[slice4],\n",
        "       simple_regret_stp_9[slice4],\n",
        "       simple_regret_stp_10[slice4],\n",
        "       simple_regret_stp_11[slice4],\n",
        "       simple_regret_stp_12[slice4],\n",
        "       simple_regret_stp_13[slice4],\n",
        "       simple_regret_stp_14[slice4],\n",
        "       simple_regret_stp_15[slice4],\n",
        "       simple_regret_stp_16[slice4],\n",
        "       simple_regret_stp_17[slice4],\n",
        "       simple_regret_stp_18[slice4],\n",
        "       simple_regret_stp_19[slice4],\n",
        "       simple_regret_stp_20[slice4]]\n",
        "\n",
        "approx4_results = pd.DataFrame(approx4).sort_values(by=[0], ascending=False)\n",
        "exact4_results = pd.DataFrame(exact4).sort_values(by=[0], ascending=False)\n",
        "\n",
        "### Best simple regret minimization IQR - approx:\n",
        "lower_gp4 = np.asarray(approx4_results[4:5][0])[0]\n",
        "median_gp4 = np.asarray(approx4_results[9:10][0])[0]\n",
        "upper_gp4 = np.asarray(approx4_results[14:15][0])[0]\n",
        "\n",
        "lower_stp4 = np.asarray(exact4_results[4:5][0])[0]\n",
        "median_stp4 = np.asarray(exact4_results[9:10][0])[0]\n",
        "upper_stp4 = np.asarray(exact4_results[14:15][0])[0]"
      ]
    },
    {
      "cell_type": "code",
      "execution_count": null,
      "metadata": {
        "id": "ijq-rioYQxf5"
      },
      "outputs": [],
      "source": [
        "# Iteration14 :\n",
        "\n",
        "slice14 = 13\n",
        "\n",
        "approx14 = [simple_regret_gp_1[slice14],\n",
        "       simple_regret_gp_2[slice14],\n",
        "       simple_regret_gp_3[slice14],\n",
        "       simple_regret_gp_4[slice14],\n",
        "       simple_regret_gp_5[slice14],\n",
        "       simple_regret_gp_6[slice14],\n",
        "       simple_regret_gp_7[slice14],\n",
        "       simple_regret_gp_8[slice14],\n",
        "       simple_regret_gp_9[slice14],\n",
        "       simple_regret_gp_10[slice14],\n",
        "       simple_regret_gp_11[slice14],\n",
        "       simple_regret_gp_12[slice14],\n",
        "       simple_regret_gp_13[slice14],\n",
        "       simple_regret_gp_14[slice14],\n",
        "       simple_regret_gp_15[slice14],\n",
        "       simple_regret_gp_16[slice14],\n",
        "       simple_regret_gp_17[slice14],\n",
        "       simple_regret_gp_18[slice14],\n",
        "       simple_regret_gp_19[slice14],\n",
        "       simple_regret_gp_20[slice14]]\n",
        "\n",
        "exact14 = [simple_regret_stp_1[slice14],\n",
        "       simple_regret_stp_2[slice14],\n",
        "       simple_regret_stp_3[slice14],\n",
        "       simple_regret_stp_4[slice14],\n",
        "       simple_regret_stp_5[slice14],\n",
        "       simple_regret_stp_6[slice14],\n",
        "       simple_regret_stp_7[slice14],\n",
        "       simple_regret_stp_8[slice14],\n",
        "       simple_regret_stp_9[slice14],\n",
        "       simple_regret_stp_10[slice14],\n",
        "       simple_regret_stp_11[slice14],\n",
        "       simple_regret_stp_12[slice14],\n",
        "       simple_regret_stp_13[slice14],\n",
        "       simple_regret_stp_14[slice14],\n",
        "       simple_regret_stp_15[slice14],\n",
        "       simple_regret_stp_16[slice14],\n",
        "       simple_regret_stp_17[slice14],\n",
        "       simple_regret_stp_18[slice14],\n",
        "       simple_regret_stp_19[slice14],\n",
        "       simple_regret_stp_20[slice14]]\n",
        "\n",
        "approx14_results = pd.DataFrame(approx14).sort_values(by=[0], ascending=False)\n",
        "exact14_results = pd.DataFrame(exact14).sort_values(by=[0], ascending=False)\n",
        "\n",
        "### Best simple regret minimization IQR - approx:\n",
        "lower_gp14 = np.asarray(approx14_results[4:5][0])[0]\n",
        "median_gp14 = np.asarray(approx14_results[9:10][0])[0]\n",
        "upper_gp14 = np.asarray(approx14_results[14:15][0])[0]\n",
        "\n",
        "lower_stp14 = np.asarray(exact14_results[4:5][0])[0]\n",
        "median_stp14 = np.asarray(exact14_results[9:10][0])[0]\n",
        "upper_stp14 = np.asarray(exact14_results[14:15][0])[0]"
      ]
    },
    {
      "cell_type": "code",
      "execution_count": null,
      "metadata": {
        "id": "XINlZjoTd-ZK"
      },
      "outputs": [],
      "source": [
        "# Iteration5 :\n",
        "\n",
        "slice5 = 4\n",
        "\n",
        "approx5 = [simple_regret_gp_1[slice5],\n",
        "       simple_regret_gp_2[slice5],\n",
        "       simple_regret_gp_3[slice5],\n",
        "       simple_regret_gp_4[slice5],\n",
        "       simple_regret_gp_5[slice5],\n",
        "       simple_regret_gp_6[slice5],\n",
        "       simple_regret_gp_7[slice5],\n",
        "       simple_regret_gp_8[slice5],\n",
        "       simple_regret_gp_9[slice5],\n",
        "       simple_regret_gp_10[slice5],\n",
        "       simple_regret_gp_11[slice5],\n",
        "       simple_regret_gp_12[slice5],\n",
        "       simple_regret_gp_13[slice5],\n",
        "       simple_regret_gp_14[slice5],\n",
        "       simple_regret_gp_15[slice5],\n",
        "       simple_regret_gp_16[slice5],\n",
        "       simple_regret_gp_17[slice5],\n",
        "       simple_regret_gp_18[slice5],\n",
        "       simple_regret_gp_19[slice5],\n",
        "       simple_regret_gp_20[slice5]]\n",
        "\n",
        "exact5 = [simple_regret_stp_1[slice5],\n",
        "       simple_regret_stp_2[slice5],\n",
        "       simple_regret_stp_3[slice5],\n",
        "       simple_regret_stp_4[slice5],\n",
        "       simple_regret_stp_5[slice5],\n",
        "       simple_regret_stp_6[slice5],\n",
        "       simple_regret_stp_7[slice5],\n",
        "       simple_regret_stp_8[slice5],\n",
        "       simple_regret_stp_9[slice5],\n",
        "       simple_regret_stp_10[slice5],\n",
        "       simple_regret_stp_11[slice5],\n",
        "       simple_regret_stp_12[slice5],\n",
        "       simple_regret_stp_13[slice5],\n",
        "       simple_regret_stp_14[slice5],\n",
        "       simple_regret_stp_15[slice5],\n",
        "       simple_regret_stp_16[slice5],\n",
        "       simple_regret_stp_17[slice5],\n",
        "       simple_regret_stp_18[slice5],\n",
        "       simple_regret_stp_19[slice5],\n",
        "       simple_regret_stp_20[slice5]]\n",
        "\n",
        "approx5_results = pd.DataFrame(approx5).sort_values(by=[0], ascending=False)\n",
        "exact5_results = pd.DataFrame(exact5).sort_values(by=[0], ascending=False)\n",
        "\n",
        "### Best simple regret minimization IQR - approx:\n",
        "lower_gp5 = np.asarray(approx5_results[4:5][0])[0]\n",
        "median_gp5 = np.asarray(approx5_results[9:10][0])[0]\n",
        "upper_gp5 = np.asarray(approx5_results[14:15][0])[0]\n",
        "\n",
        "lower_stp5 = np.asarray(exact5_results[4:5][0])[0]\n",
        "median_stp5 = np.asarray(exact5_results[9:10][0])[0]\n",
        "upper_stp5 = np.asarray(exact5_results[14:15][0])[0]"
      ]
    },
    {
      "cell_type": "code",
      "execution_count": null,
      "metadata": {
        "id": "4aZ7C8sOQxf6"
      },
      "outputs": [],
      "source": [
        "# Iteration15 :\n",
        "\n",
        "slice15 = 14\n",
        "\n",
        "approx15 = [simple_regret_gp_1[slice15],\n",
        "       simple_regret_gp_2[slice15],\n",
        "       simple_regret_gp_3[slice15],\n",
        "       simple_regret_gp_4[slice15],\n",
        "       simple_regret_gp_5[slice15],\n",
        "       simple_regret_gp_6[slice15],\n",
        "       simple_regret_gp_7[slice15],\n",
        "       simple_regret_gp_8[slice15],\n",
        "       simple_regret_gp_9[slice15],\n",
        "       simple_regret_gp_10[slice15],\n",
        "       simple_regret_gp_11[slice15],\n",
        "       simple_regret_gp_12[slice15],\n",
        "       simple_regret_gp_13[slice15],\n",
        "       simple_regret_gp_14[slice15],\n",
        "       simple_regret_gp_15[slice15],\n",
        "       simple_regret_gp_16[slice15],\n",
        "       simple_regret_gp_17[slice15],\n",
        "       simple_regret_gp_18[slice15],\n",
        "       simple_regret_gp_19[slice15],\n",
        "       simple_regret_gp_20[slice15]]\n",
        "\n",
        "exact15 = [simple_regret_stp_1[slice15],\n",
        "       simple_regret_stp_2[slice15],\n",
        "       simple_regret_stp_3[slice15],\n",
        "       simple_regret_stp_4[slice15],\n",
        "       simple_regret_stp_5[slice15],\n",
        "       simple_regret_stp_6[slice15],\n",
        "       simple_regret_stp_7[slice15],\n",
        "       simple_regret_stp_8[slice15],\n",
        "       simple_regret_stp_9[slice15],\n",
        "       simple_regret_stp_10[slice15],\n",
        "       simple_regret_stp_11[slice15],\n",
        "       simple_regret_stp_12[slice15],\n",
        "       simple_regret_stp_13[slice15],\n",
        "       simple_regret_stp_14[slice15],\n",
        "       simple_regret_stp_15[slice15],\n",
        "       simple_regret_stp_16[slice15],\n",
        "       simple_regret_stp_17[slice15],\n",
        "       simple_regret_stp_18[slice15],\n",
        "       simple_regret_stp_19[slice15],\n",
        "       simple_regret_stp_20[slice15]]\n",
        "\n",
        "approx15_results = pd.DataFrame(approx15).sort_values(by=[0], ascending=False)\n",
        "exact15_results = pd.DataFrame(exact15).sort_values(by=[0], ascending=False)\n",
        "\n",
        "### Best simple regret minimization IQR - approx:\n",
        "lower_gp15 = np.asarray(approx15_results[4:5][0])[0]\n",
        "median_gp15 = np.asarray(approx15_results[9:10][0])[0]\n",
        "upper_gp15 = np.asarray(approx15_results[14:15][0])[0]\n",
        "\n",
        "lower_stp15 = np.asarray(exact15_results[4:5][0])[0]\n",
        "median_stp15 = np.asarray(exact15_results[9:10][0])[0]\n",
        "upper_stp15 = np.asarray(exact15_results[14:15][0])[0]"
      ]
    },
    {
      "cell_type": "code",
      "execution_count": null,
      "metadata": {
        "id": "KJINKhv1Qxf6"
      },
      "outputs": [],
      "source": [
        "# Iteration6 :\n",
        "\n",
        "slice6 = 5\n",
        "\n",
        "approx6 = [simple_regret_gp_1[slice6],\n",
        "       simple_regret_gp_2[slice6],\n",
        "       simple_regret_gp_3[slice6],\n",
        "       simple_regret_gp_4[slice6],\n",
        "       simple_regret_gp_5[slice6],\n",
        "       simple_regret_gp_6[slice6],\n",
        "       simple_regret_gp_7[slice6],\n",
        "       simple_regret_gp_8[slice6],\n",
        "       simple_regret_gp_9[slice6],\n",
        "       simple_regret_gp_10[slice6],\n",
        "       simple_regret_gp_11[slice6],\n",
        "       simple_regret_gp_12[slice6],\n",
        "       simple_regret_gp_13[slice6],\n",
        "       simple_regret_gp_14[slice6],\n",
        "       simple_regret_gp_15[slice6],\n",
        "       simple_regret_gp_16[slice6],\n",
        "       simple_regret_gp_17[slice6],\n",
        "       simple_regret_gp_18[slice6],\n",
        "       simple_regret_gp_19[slice6],\n",
        "       simple_regret_gp_20[slice6]]\n",
        "\n",
        "exact6 = [simple_regret_stp_1[slice6],\n",
        "       simple_regret_stp_2[slice6],\n",
        "       simple_regret_stp_3[slice6],\n",
        "       simple_regret_stp_4[slice6],\n",
        "       simple_regret_stp_5[slice6],\n",
        "       simple_regret_stp_6[slice6],\n",
        "       simple_regret_stp_7[slice6],\n",
        "       simple_regret_stp_8[slice6],\n",
        "       simple_regret_stp_9[slice6],\n",
        "       simple_regret_stp_10[slice6],\n",
        "       simple_regret_stp_11[slice6],\n",
        "       simple_regret_stp_12[slice6],\n",
        "       simple_regret_stp_13[slice6],\n",
        "       simple_regret_stp_14[slice6],\n",
        "       simple_regret_stp_15[slice6],\n",
        "       simple_regret_stp_16[slice6],\n",
        "       simple_regret_stp_17[slice6],\n",
        "       simple_regret_stp_18[slice6],\n",
        "       simple_regret_stp_19[slice6],\n",
        "       simple_regret_stp_20[slice6]]\n",
        "\n",
        "approx6_results = pd.DataFrame(approx6).sort_values(by=[0], ascending=False)\n",
        "exact6_results = pd.DataFrame(exact6).sort_values(by=[0], ascending=False)\n",
        "\n",
        "### Best simple regret minimization IQR - approx:\n",
        "lower_gp6 = np.asarray(approx6_results[4:5][0])[0]\n",
        "median_gp6 = np.asarray(approx6_results[9:10][0])[0]\n",
        "upper_gp6 = np.asarray(approx6_results[14:15][0])[0]\n",
        "\n",
        "lower_stp6 = np.asarray(exact6_results[4:5][0])[0]\n",
        "median_stp6 = np.asarray(exact6_results[9:10][0])[0]\n",
        "upper_stp6 = np.asarray(exact6_results[14:15][0])[0]"
      ]
    },
    {
      "cell_type": "code",
      "execution_count": null,
      "metadata": {
        "id": "nwC5N1FsQxf7"
      },
      "outputs": [],
      "source": [
        "# Iteration16 :\n",
        "\n",
        "slice16 = 15\n",
        "\n",
        "approx16 = [simple_regret_gp_1[slice16],\n",
        "       simple_regret_gp_2[slice16],\n",
        "       simple_regret_gp_3[slice16],\n",
        "       simple_regret_gp_4[slice16],\n",
        "       simple_regret_gp_5[slice16],\n",
        "       simple_regret_gp_6[slice16],\n",
        "       simple_regret_gp_7[slice16],\n",
        "       simple_regret_gp_8[slice16],\n",
        "       simple_regret_gp_9[slice16],\n",
        "       simple_regret_gp_10[slice16],\n",
        "       simple_regret_gp_11[slice16],\n",
        "       simple_regret_gp_12[slice16],\n",
        "       simple_regret_gp_13[slice16],\n",
        "       simple_regret_gp_14[slice16],\n",
        "       simple_regret_gp_15[slice16],\n",
        "       simple_regret_gp_16[slice16],\n",
        "       simple_regret_gp_17[slice16],\n",
        "       simple_regret_gp_18[slice16],\n",
        "       simple_regret_gp_19[slice16],\n",
        "       simple_regret_gp_20[slice16]]\n",
        "\n",
        "exact16 = [simple_regret_stp_1[slice16],\n",
        "       simple_regret_stp_2[slice16],\n",
        "       simple_regret_stp_3[slice16],\n",
        "       simple_regret_stp_4[slice16],\n",
        "       simple_regret_stp_5[slice16],\n",
        "       simple_regret_stp_6[slice16],\n",
        "       simple_regret_stp_7[slice16],\n",
        "       simple_regret_stp_8[slice16],\n",
        "       simple_regret_stp_9[slice16],\n",
        "       simple_regret_stp_10[slice16],\n",
        "       simple_regret_stp_11[slice16],\n",
        "       simple_regret_stp_12[slice16],\n",
        "       simple_regret_stp_13[slice16],\n",
        "       simple_regret_stp_14[slice16],\n",
        "       simple_regret_stp_15[slice16],\n",
        "       simple_regret_stp_16[slice16],\n",
        "       simple_regret_stp_17[slice16],\n",
        "       simple_regret_stp_18[slice16],\n",
        "       simple_regret_stp_19[slice16],\n",
        "       simple_regret_stp_20[slice16]]\n",
        "\n",
        "approx16_results = pd.DataFrame(approx16).sort_values(by=[0], ascending=False)\n",
        "exact16_results = pd.DataFrame(exact16).sort_values(by=[0], ascending=False)\n",
        "\n",
        "### Best simple regret minimization IQR - approx:\n",
        "lower_gp16 = np.asarray(approx16_results[4:5][0])[0]\n",
        "median_gp16 = np.asarray(approx16_results[9:10][0])[0]\n",
        "upper_gp16 = np.asarray(approx16_results[14:15][0])[0]\n",
        "\n",
        "lower_stp16 = np.asarray(exact16_results[4:5][0])[0]\n",
        "median_stp16 = np.asarray(exact16_results[9:10][0])[0]\n",
        "upper_stp16 = np.asarray(exact16_results[14:15][0])[0]"
      ]
    },
    {
      "cell_type": "code",
      "execution_count": null,
      "metadata": {
        "id": "TrPV0AfnQxf7"
      },
      "outputs": [],
      "source": [
        "# Iteration7 :\n",
        "\n",
        "slice7 = 6\n",
        "\n",
        "approx7 = [simple_regret_gp_1[slice7],\n",
        "       simple_regret_gp_2[slice7],\n",
        "       simple_regret_gp_3[slice7],\n",
        "       simple_regret_gp_4[slice7],\n",
        "       simple_regret_gp_5[slice7],\n",
        "       simple_regret_gp_6[slice7],\n",
        "       simple_regret_gp_7[slice7],\n",
        "       simple_regret_gp_8[slice7],\n",
        "       simple_regret_gp_9[slice7],\n",
        "       simple_regret_gp_10[slice7],\n",
        "       simple_regret_gp_11[slice7],\n",
        "       simple_regret_gp_12[slice7],\n",
        "       simple_regret_gp_13[slice7],\n",
        "       simple_regret_gp_14[slice7],\n",
        "       simple_regret_gp_15[slice7],\n",
        "       simple_regret_gp_16[slice7],\n",
        "       simple_regret_gp_17[slice7],\n",
        "       simple_regret_gp_18[slice7],\n",
        "       simple_regret_gp_19[slice7],\n",
        "       simple_regret_gp_20[slice7]]\n",
        "\n",
        "exact7 = [simple_regret_stp_1[slice7],\n",
        "       simple_regret_stp_2[slice7],\n",
        "       simple_regret_stp_3[slice7],\n",
        "       simple_regret_stp_4[slice7],\n",
        "       simple_regret_stp_5[slice7],\n",
        "       simple_regret_stp_6[slice7],\n",
        "       simple_regret_stp_7[slice7],\n",
        "       simple_regret_stp_8[slice7],\n",
        "       simple_regret_stp_9[slice7],\n",
        "       simple_regret_stp_10[slice7],\n",
        "       simple_regret_stp_11[slice7],\n",
        "       simple_regret_stp_12[slice7],\n",
        "       simple_regret_stp_13[slice7],\n",
        "       simple_regret_stp_14[slice7],\n",
        "       simple_regret_stp_15[slice7],\n",
        "       simple_regret_stp_16[slice7],\n",
        "       simple_regret_stp_17[slice7],\n",
        "       simple_regret_stp_18[slice7],\n",
        "       simple_regret_stp_19[slice7],\n",
        "       simple_regret_stp_20[slice7]]\n",
        "\n",
        "approx7_results = pd.DataFrame(approx7).sort_values(by=[0], ascending=False)\n",
        "exact7_results = pd.DataFrame(exact7).sort_values(by=[0], ascending=False)\n",
        "\n",
        "### Best simple regret minimization IQR - approx:\n",
        "lower_gp7 = np.asarray(approx7_results[4:5][0])[0]\n",
        "median_gp7 = np.asarray(approx7_results[9:10][0])[0]\n",
        "upper_gp7 = np.asarray(approx7_results[14:15][0])[0]\n",
        "\n",
        "lower_stp7 = np.asarray(exact7_results[4:5][0])[0]\n",
        "median_stp7 = np.asarray(exact7_results[9:10][0])[0]\n",
        "upper_stp7 = np.asarray(exact7_results[14:15][0])[0]"
      ]
    },
    {
      "cell_type": "code",
      "execution_count": null,
      "metadata": {
        "id": "Ub_-wpK4Qxf8"
      },
      "outputs": [],
      "source": [
        "# Iteration17 :\n",
        "\n",
        "slice17 = 16\n",
        "\n",
        "approx17 = [simple_regret_gp_1[slice17],\n",
        "       simple_regret_gp_2[slice17],\n",
        "       simple_regret_gp_3[slice17],\n",
        "       simple_regret_gp_4[slice17],\n",
        "       simple_regret_gp_5[slice17],\n",
        "       simple_regret_gp_6[slice17],\n",
        "       simple_regret_gp_7[slice17],\n",
        "       simple_regret_gp_8[slice17],\n",
        "       simple_regret_gp_9[slice17],\n",
        "       simple_regret_gp_10[slice17],\n",
        "       simple_regret_gp_11[slice17],\n",
        "       simple_regret_gp_12[slice17],\n",
        "       simple_regret_gp_13[slice17],\n",
        "       simple_regret_gp_14[slice17],\n",
        "       simple_regret_gp_15[slice17],\n",
        "       simple_regret_gp_16[slice17],\n",
        "       simple_regret_gp_17[slice17],\n",
        "       simple_regret_gp_18[slice17],\n",
        "       simple_regret_gp_19[slice17],\n",
        "       simple_regret_gp_20[slice17]]\n",
        "\n",
        "exact17 = [simple_regret_stp_1[slice17],\n",
        "       simple_regret_stp_2[slice17],\n",
        "       simple_regret_stp_3[slice17],\n",
        "       simple_regret_stp_4[slice17],\n",
        "       simple_regret_stp_5[slice17],\n",
        "       simple_regret_stp_6[slice17],\n",
        "       simple_regret_stp_7[slice17],\n",
        "       simple_regret_stp_8[slice17],\n",
        "       simple_regret_stp_9[slice17],\n",
        "       simple_regret_stp_10[slice17],\n",
        "       simple_regret_stp_11[slice17],\n",
        "       simple_regret_stp_12[slice17],\n",
        "       simple_regret_stp_13[slice17],\n",
        "       simple_regret_stp_14[slice17],\n",
        "       simple_regret_stp_15[slice17],\n",
        "       simple_regret_stp_16[slice17],\n",
        "       simple_regret_stp_17[slice17],\n",
        "       simple_regret_stp_18[slice17],\n",
        "       simple_regret_stp_19[slice17],\n",
        "       simple_regret_stp_20[slice17]]\n",
        "\n",
        "approx17_results = pd.DataFrame(approx17).sort_values(by=[0], ascending=False)\n",
        "exact17_results = pd.DataFrame(exact17).sort_values(by=[0], ascending=False)\n",
        "\n",
        "### Best simple regret minimization IQR - approx:\n",
        "lower_gp17 = np.asarray(approx17_results[4:5][0])[0]\n",
        "median_gp17 = np.asarray(approx17_results[9:10][0])[0]\n",
        "upper_gp17 = np.asarray(approx17_results[14:15][0])[0]\n",
        "\n",
        "lower_stp17 = np.asarray(exact17_results[4:5][0])[0]\n",
        "median_stp17 = np.asarray(exact17_results[9:10][0])[0]\n",
        "upper_stp17 = np.asarray(exact17_results[14:15][0])[0]"
      ]
    },
    {
      "cell_type": "code",
      "execution_count": null,
      "metadata": {
        "id": "-6VLo37PQxf8"
      },
      "outputs": [],
      "source": [
        "# Iteration8 :\n",
        "\n",
        "slice8 = 7\n",
        "\n",
        "approx8 = [simple_regret_gp_1[slice8],\n",
        "       simple_regret_gp_2[slice8],\n",
        "       simple_regret_gp_3[slice8],\n",
        "       simple_regret_gp_4[slice8],\n",
        "       simple_regret_gp_5[slice8],\n",
        "       simple_regret_gp_6[slice8],\n",
        "       simple_regret_gp_7[slice8],\n",
        "       simple_regret_gp_8[slice8],\n",
        "       simple_regret_gp_9[slice8],\n",
        "       simple_regret_gp_10[slice8],\n",
        "       simple_regret_gp_11[slice8],\n",
        "       simple_regret_gp_12[slice8],\n",
        "       simple_regret_gp_13[slice8],\n",
        "       simple_regret_gp_14[slice8],\n",
        "       simple_regret_gp_15[slice8],\n",
        "       simple_regret_gp_16[slice8],\n",
        "       simple_regret_gp_17[slice8],\n",
        "       simple_regret_gp_18[slice8],\n",
        "       simple_regret_gp_19[slice8],\n",
        "       simple_regret_gp_20[slice8]]\n",
        "\n",
        "exact8 = [simple_regret_stp_1[slice8],\n",
        "       simple_regret_stp_2[slice8],\n",
        "       simple_regret_stp_3[slice8],\n",
        "       simple_regret_stp_4[slice8],\n",
        "       simple_regret_stp_5[slice8],\n",
        "       simple_regret_stp_6[slice8],\n",
        "       simple_regret_stp_7[slice8],\n",
        "       simple_regret_stp_8[slice8],\n",
        "       simple_regret_stp_9[slice8],\n",
        "       simple_regret_stp_10[slice8],\n",
        "       simple_regret_stp_11[slice8],\n",
        "       simple_regret_stp_12[slice8],\n",
        "       simple_regret_stp_13[slice8],\n",
        "       simple_regret_stp_14[slice8],\n",
        "       simple_regret_stp_15[slice8],\n",
        "       simple_regret_stp_16[slice8],\n",
        "       simple_regret_stp_17[slice8],\n",
        "       simple_regret_stp_18[slice8],\n",
        "       simple_regret_stp_19[slice8],\n",
        "       simple_regret_stp_20[slice8]]\n",
        "\n",
        "approx8_results = pd.DataFrame(approx8).sort_values(by=[0], ascending=False)\n",
        "exact8_results = pd.DataFrame(exact8).sort_values(by=[0], ascending=False)\n",
        "\n",
        "### Best simple regret minimization IQR - approx:\n",
        "lower_gp8 = np.asarray(approx8_results[4:5][0])[0]\n",
        "median_gp8 = np.asarray(approx8_results[9:10][0])[0]\n",
        "upper_gp8 = np.asarray(approx8_results[14:15][0])[0]\n",
        "\n",
        "lower_stp8 = np.asarray(exact8_results[4:5][0])[0]\n",
        "median_stp8 = np.asarray(exact8_results[9:10][0])[0]\n",
        "upper_stp8 = np.asarray(exact8_results[14:15][0])[0]"
      ]
    },
    {
      "cell_type": "code",
      "execution_count": null,
      "metadata": {
        "id": "2Dp-9CC2Qxf9"
      },
      "outputs": [],
      "source": [
        "# Iteration18 :\n",
        "\n",
        "slice18 = 17\n",
        "\n",
        "approx18 = [simple_regret_gp_1[slice18],\n",
        "       simple_regret_gp_2[slice18],\n",
        "       simple_regret_gp_3[slice18],\n",
        "       simple_regret_gp_4[slice18],\n",
        "       simple_regret_gp_5[slice18],\n",
        "       simple_regret_gp_6[slice18],\n",
        "       simple_regret_gp_7[slice18],\n",
        "       simple_regret_gp_8[slice18],\n",
        "       simple_regret_gp_9[slice18],\n",
        "       simple_regret_gp_10[slice18],\n",
        "       simple_regret_gp_11[slice18],\n",
        "       simple_regret_gp_12[slice18],\n",
        "       simple_regret_gp_13[slice18],\n",
        "       simple_regret_gp_14[slice18],\n",
        "       simple_regret_gp_15[slice18],\n",
        "       simple_regret_gp_16[slice18],\n",
        "       simple_regret_gp_17[slice18],\n",
        "       simple_regret_gp_18[slice18],\n",
        "       simple_regret_gp_19[slice18],\n",
        "       simple_regret_gp_20[slice18]]\n",
        "\n",
        "exact18 = [simple_regret_stp_1[slice18],\n",
        "       simple_regret_stp_2[slice18],\n",
        "       simple_regret_stp_3[slice18],\n",
        "       simple_regret_stp_4[slice18],\n",
        "       simple_regret_stp_5[slice18],\n",
        "       simple_regret_stp_6[slice18],\n",
        "       simple_regret_stp_7[slice18],\n",
        "       simple_regret_stp_8[slice18],\n",
        "       simple_regret_stp_9[slice18],\n",
        "       simple_regret_stp_10[slice18],\n",
        "       simple_regret_stp_11[slice18],\n",
        "       simple_regret_stp_12[slice18],\n",
        "       simple_regret_stp_13[slice18],\n",
        "       simple_regret_stp_14[slice18],\n",
        "       simple_regret_stp_15[slice18],\n",
        "       simple_regret_stp_16[slice18],\n",
        "       simple_regret_stp_17[slice18],\n",
        "       simple_regret_stp_18[slice18],\n",
        "       simple_regret_stp_19[slice18],\n",
        "       simple_regret_stp_20[slice18]]\n",
        "\n",
        "approx18_results = pd.DataFrame(approx18).sort_values(by=[0], ascending=False)\n",
        "exact18_results = pd.DataFrame(exact18).sort_values(by=[0], ascending=False)\n",
        "\n",
        "### Best simple regret minimization IQR - approx:\n",
        "lower_gp18 = np.asarray(approx18_results[4:5][0])[0]\n",
        "median_gp18 = np.asarray(approx18_results[9:10][0])[0]\n",
        "upper_gp18 = np.asarray(approx18_results[14:15][0])[0]\n",
        "\n",
        "lower_stp18 = np.asarray(exact18_results[4:5][0])[0]\n",
        "median_stp18 = np.asarray(exact18_results[9:10][0])[0]\n",
        "upper_stp18 = np.asarray(exact18_results[14:15][0])[0]"
      ]
    },
    {
      "cell_type": "code",
      "execution_count": null,
      "metadata": {
        "id": "SqiaOpB7Qxf9"
      },
      "outputs": [],
      "source": [
        "# Iteration9 :\n",
        "\n",
        "slice9 = 8\n",
        "\n",
        "approx9 = [simple_regret_gp_1[slice9],\n",
        "       simple_regret_gp_2[slice9],\n",
        "       simple_regret_gp_3[slice9],\n",
        "       simple_regret_gp_4[slice9],\n",
        "       simple_regret_gp_5[slice9],\n",
        "       simple_regret_gp_6[slice9],\n",
        "       simple_regret_gp_7[slice9],\n",
        "       simple_regret_gp_8[slice9],\n",
        "       simple_regret_gp_9[slice9],\n",
        "       simple_regret_gp_10[slice9],\n",
        "       simple_regret_gp_11[slice9],\n",
        "       simple_regret_gp_12[slice9],\n",
        "       simple_regret_gp_13[slice9],\n",
        "       simple_regret_gp_14[slice9],\n",
        "       simple_regret_gp_15[slice9],\n",
        "       simple_regret_gp_16[slice9],\n",
        "       simple_regret_gp_17[slice9],\n",
        "       simple_regret_gp_18[slice9],\n",
        "       simple_regret_gp_19[slice9],\n",
        "       simple_regret_gp_20[slice9]]\n",
        "\n",
        "exact9 = [simple_regret_stp_1[slice9],\n",
        "       simple_regret_stp_2[slice9],\n",
        "       simple_regret_stp_3[slice9],\n",
        "       simple_regret_stp_4[slice9],\n",
        "       simple_regret_stp_5[slice9],\n",
        "       simple_regret_stp_6[slice9],\n",
        "       simple_regret_stp_7[slice9],\n",
        "       simple_regret_stp_8[slice9],\n",
        "       simple_regret_stp_9[slice9],\n",
        "       simple_regret_stp_10[slice9],\n",
        "       simple_regret_stp_11[slice9],\n",
        "       simple_regret_stp_12[slice9],\n",
        "       simple_regret_stp_13[slice9],\n",
        "       simple_regret_stp_14[slice9],\n",
        "       simple_regret_stp_15[slice9],\n",
        "       simple_regret_stp_16[slice9],\n",
        "       simple_regret_stp_17[slice9],\n",
        "       simple_regret_stp_18[slice9],\n",
        "       simple_regret_stp_19[slice9],\n",
        "       simple_regret_stp_20[slice9]]\n",
        "\n",
        "approx9_results = pd.DataFrame(approx9).sort_values(by=[0], ascending=False)\n",
        "exact9_results = pd.DataFrame(exact9).sort_values(by=[0], ascending=False)\n",
        "\n",
        "### Best simple regret minimization IQR - approx:\n",
        "lower_gp9 = np.asarray(approx9_results[4:5][0])[0]\n",
        "median_gp9 = np.asarray(approx9_results[9:10][0])[0]\n",
        "upper_gp9 = np.asarray(approx9_results[14:15][0])[0]\n",
        "\n",
        "lower_stp9 = np.asarray(exact9_results[4:5][0])[0]\n",
        "median_stp9 = np.asarray(exact9_results[9:10][0])[0]\n",
        "upper_stp9 = np.asarray(exact9_results[14:15][0])[0]"
      ]
    },
    {
      "cell_type": "code",
      "execution_count": null,
      "metadata": {
        "id": "OQkCCOsPQxf9"
      },
      "outputs": [],
      "source": [
        "# Iteration19 :\n",
        "\n",
        "slice19 = 18\n",
        "\n",
        "approx19 = [simple_regret_gp_1[slice19],\n",
        "       simple_regret_gp_2[slice19],\n",
        "       simple_regret_gp_3[slice19],\n",
        "       simple_regret_gp_4[slice19],\n",
        "       simple_regret_gp_5[slice19],\n",
        "       simple_regret_gp_6[slice19],\n",
        "       simple_regret_gp_7[slice19],\n",
        "       simple_regret_gp_8[slice19],\n",
        "       simple_regret_gp_9[slice19],\n",
        "       simple_regret_gp_10[slice19],\n",
        "       simple_regret_gp_11[slice19],\n",
        "       simple_regret_gp_12[slice19],\n",
        "       simple_regret_gp_13[slice19],\n",
        "       simple_regret_gp_14[slice19],\n",
        "       simple_regret_gp_15[slice19],\n",
        "       simple_regret_gp_16[slice19],\n",
        "       simple_regret_gp_17[slice19],\n",
        "       simple_regret_gp_18[slice19],\n",
        "       simple_regret_gp_19[slice19],\n",
        "       simple_regret_gp_20[slice19]]\n",
        "\n",
        "exact19 = [simple_regret_stp_1[slice19],\n",
        "       simple_regret_stp_2[slice19],\n",
        "       simple_regret_stp_3[slice19],\n",
        "       simple_regret_stp_4[slice19],\n",
        "       simple_regret_stp_5[slice19],\n",
        "       simple_regret_stp_6[slice19],\n",
        "       simple_regret_stp_7[slice19],\n",
        "       simple_regret_stp_8[slice19],\n",
        "       simple_regret_stp_9[slice19],\n",
        "       simple_regret_stp_10[slice19],\n",
        "       simple_regret_stp_11[slice19],\n",
        "       simple_regret_stp_12[slice19],\n",
        "       simple_regret_stp_13[slice19],\n",
        "       simple_regret_stp_14[slice19],\n",
        "       simple_regret_stp_15[slice19],\n",
        "       simple_regret_stp_16[slice19],\n",
        "       simple_regret_stp_17[slice19],\n",
        "       simple_regret_stp_18[slice19],\n",
        "       simple_regret_stp_19[slice19],\n",
        "       simple_regret_stp_20[slice19]]\n",
        "\n",
        "approx19_results = pd.DataFrame(approx19).sort_values(by=[0], ascending=False)\n",
        "exact19_results = pd.DataFrame(exact19).sort_values(by=[0], ascending=False)\n",
        "\n",
        "### Best simple regret minimization IQR - approx:\n",
        "lower_gp19 = np.asarray(approx19_results[4:5][0])[0]\n",
        "median_gp19 = np.asarray(approx19_results[9:10][0])[0]\n",
        "upper_gp19 = np.asarray(approx19_results[14:15][0])[0]\n",
        "\n",
        "lower_stp19 = np.asarray(exact19_results[4:5][0])[0]\n",
        "median_stp19 = np.asarray(exact19_results[9:10][0])[0]\n",
        "upper_stp19 = np.asarray(exact19_results[14:15][0])[0]"
      ]
    },
    {
      "cell_type": "code",
      "execution_count": null,
      "metadata": {
        "id": "h4vtWahcQxf-"
      },
      "outputs": [],
      "source": [
        "# Iteration10 :\n",
        "\n",
        "slice10 = 9\n",
        "\n",
        "approx10 = [simple_regret_gp_1[slice10],\n",
        "       simple_regret_gp_2[slice10],\n",
        "       simple_regret_gp_3[slice10],\n",
        "       simple_regret_gp_4[slice10],\n",
        "       simple_regret_gp_5[slice10],\n",
        "       simple_regret_gp_6[slice10],\n",
        "       simple_regret_gp_7[slice10],\n",
        "       simple_regret_gp_8[slice10],\n",
        "       simple_regret_gp_9[slice10],\n",
        "       simple_regret_gp_10[slice10],\n",
        "       simple_regret_gp_11[slice10],\n",
        "       simple_regret_gp_12[slice10],\n",
        "       simple_regret_gp_13[slice10],\n",
        "       simple_regret_gp_14[slice10],\n",
        "       simple_regret_gp_15[slice10],\n",
        "       simple_regret_gp_16[slice10],\n",
        "       simple_regret_gp_17[slice10],\n",
        "       simple_regret_gp_18[slice10],\n",
        "       simple_regret_gp_19[slice10],\n",
        "       simple_regret_gp_20[slice10]]\n",
        "\n",
        "exact10 = [simple_regret_stp_1[slice10],\n",
        "       simple_regret_stp_2[slice10],\n",
        "       simple_regret_stp_3[slice10],\n",
        "       simple_regret_stp_4[slice10],\n",
        "       simple_regret_stp_5[slice10],\n",
        "       simple_regret_stp_6[slice10],\n",
        "       simple_regret_stp_7[slice10],\n",
        "       simple_regret_stp_8[slice10],\n",
        "       simple_regret_stp_9[slice10],\n",
        "       simple_regret_stp_10[slice10],\n",
        "       simple_regret_stp_11[slice10],\n",
        "       simple_regret_stp_12[slice10],\n",
        "       simple_regret_stp_13[slice10],\n",
        "       simple_regret_stp_14[slice10],\n",
        "       simple_regret_stp_15[slice10],\n",
        "       simple_regret_stp_16[slice10],\n",
        "       simple_regret_stp_17[slice10],\n",
        "       simple_regret_stp_18[slice10],\n",
        "       simple_regret_stp_19[slice10],\n",
        "       simple_regret_stp_20[slice10]]\n",
        "\n",
        "approx10_results = pd.DataFrame(approx10).sort_values(by=[0], ascending=False)\n",
        "exact10_results = pd.DataFrame(exact10).sort_values(by=[0], ascending=False)\n",
        "\n",
        "### Best simple regret minimization IQR - approx:\n",
        "lower_gp10 = np.asarray(approx10_results[4:5][0])[0]\n",
        "median_gp10 = np.asarray(approx10_results[9:10][0])[0]\n",
        "upper_gp10 = np.asarray(approx10_results[14:15][0])[0]\n",
        "\n",
        "lower_stp10 = np.asarray(exact10_results[4:5][0])[0]\n",
        "median_stp10 = np.asarray(exact10_results[9:10][0])[0]\n",
        "upper_stp10 = np.asarray(exact10_results[14:15][0])[0]"
      ]
    },
    {
      "cell_type": "code",
      "execution_count": null,
      "metadata": {
        "id": "Rsf240pWQxf-"
      },
      "outputs": [],
      "source": [
        "# Iteration20 :\n",
        "\n",
        "slice20 = 19\n",
        "\n",
        "approx20 = [simple_regret_gp_1[slice20],\n",
        "       simple_regret_gp_2[slice20],\n",
        "       simple_regret_gp_3[slice20],\n",
        "       simple_regret_gp_4[slice20],\n",
        "       simple_regret_gp_5[slice20],\n",
        "       simple_regret_gp_6[slice20],\n",
        "       simple_regret_gp_7[slice20],\n",
        "       simple_regret_gp_8[slice20],\n",
        "       simple_regret_gp_9[slice20],\n",
        "       simple_regret_gp_10[slice20],\n",
        "       simple_regret_gp_11[slice20],\n",
        "       simple_regret_gp_12[slice20],\n",
        "       simple_regret_gp_13[slice20],\n",
        "       simple_regret_gp_14[slice20],\n",
        "       simple_regret_gp_15[slice20],\n",
        "       simple_regret_gp_16[slice20],\n",
        "       simple_regret_gp_17[slice20],\n",
        "       simple_regret_gp_18[slice20],\n",
        "       simple_regret_gp_19[slice20],\n",
        "       simple_regret_gp_20[slice20]]\n",
        "\n",
        "exact20 = [simple_regret_stp_1[slice20],\n",
        "       simple_regret_stp_2[slice20],\n",
        "       simple_regret_stp_3[slice20],\n",
        "       simple_regret_stp_4[slice20],\n",
        "       simple_regret_stp_5[slice20],\n",
        "       simple_regret_stp_6[slice20],\n",
        "       simple_regret_stp_7[slice20],\n",
        "       simple_regret_stp_8[slice20],\n",
        "       simple_regret_stp_9[slice20],\n",
        "       simple_regret_stp_10[slice20],\n",
        "       simple_regret_stp_11[slice20],\n",
        "       simple_regret_stp_12[slice20],\n",
        "       simple_regret_stp_13[slice20],\n",
        "       simple_regret_stp_14[slice20],\n",
        "       simple_regret_stp_15[slice20],\n",
        "       simple_regret_stp_16[slice20],\n",
        "       simple_regret_stp_17[slice20],\n",
        "       simple_regret_stp_18[slice20],\n",
        "       simple_regret_stp_19[slice20],\n",
        "       simple_regret_stp_20[slice20]]\n",
        "\n",
        "approx20_results = pd.DataFrame(approx20).sort_values(by=[0], ascending=False)\n",
        "exact20_results = pd.DataFrame(exact20).sort_values(by=[0], ascending=False)\n",
        "\n",
        "### Best simple regret minimization IQR - approx:\n",
        "lower_gp20 = np.asarray(approx20_results[4:5][0])[0]\n",
        "median_gp20 = np.asarray(approx20_results[9:10][0])[0]\n",
        "upper_gp20 = np.asarray(approx20_results[14:15][0])[0]\n",
        "\n",
        "lower_stp20 = np.asarray(exact20_results[4:5][0])[0]\n",
        "median_stp20 = np.asarray(exact20_results[9:10][0])[0]\n",
        "upper_stp20 = np.asarray(exact20_results[14:15][0])[0]"
      ]
    },
    {
      "cell_type": "code",
      "execution_count": null,
      "metadata": {
        "id": "gn36RejbQxf_"
      },
      "outputs": [],
      "source": [
        "### Summarize arrays: 'Loser'\n",
        "\n",
        "lower_gp = [lower_gp1,\n",
        "            lower_gp2,\n",
        "            lower_gp3,\n",
        "            lower_gp4,\n",
        "            lower_gp5,\n",
        "            lower_gp6,\n",
        "            lower_gp7,\n",
        "            lower_gp8,\n",
        "            lower_gp9,\n",
        "            lower_gp10,\n",
        "            lower_gp11,\n",
        "            lower_gp12,\n",
        "            lower_gp13,\n",
        "            lower_gp14,\n",
        "            lower_gp15,\n",
        "            lower_gp16,\n",
        "            lower_gp17,\n",
        "            lower_gp18,\n",
        "            lower_gp19,\n",
        "            lower_gp20,\n",
        "            lower_gp21]\n",
        "\n",
        "median_gp = [median_gp1,\n",
        "            median_gp2,\n",
        "            median_gp3,\n",
        "            median_gp4,\n",
        "            median_gp5,\n",
        "            median_gp6,\n",
        "            median_gp7,\n",
        "            median_gp8,\n",
        "            median_gp9,\n",
        "            median_gp10,\n",
        "            median_gp11,\n",
        "            median_gp12,\n",
        "            median_gp13,\n",
        "            median_gp14,\n",
        "            median_gp15,\n",
        "            median_gp16,\n",
        "            median_gp17,\n",
        "            median_gp18,\n",
        "            median_gp19,\n",
        "            median_gp20,\n",
        "            median_gp21]\n",
        "\n",
        "upper_gp = [upper_gp1,\n",
        "            upper_gp2,\n",
        "            upper_gp3,\n",
        "            upper_gp4,\n",
        "            upper_gp5,\n",
        "            upper_gp6,\n",
        "            upper_gp7,\n",
        "            upper_gp8,\n",
        "            upper_gp9,\n",
        "            upper_gp10,\n",
        "            upper_gp11,\n",
        "            upper_gp12,\n",
        "            upper_gp13,\n",
        "            upper_gp14,\n",
        "            upper_gp15,\n",
        "            upper_gp16,\n",
        "            upper_gp17,\n",
        "            upper_gp18,\n",
        "            upper_gp19,\n",
        "            upper_gp20,\n",
        "            upper_gp21]"
      ]
    },
    {
      "cell_type": "code",
      "execution_count": null,
      "metadata": {
        "id": "wxtGTOYfQxf_"
      },
      "outputs": [],
      "source": [
        "### Summarize arrays: 'exact'\n",
        "\n",
        "lower_stp = [lower_stp1,\n",
        "            lower_stp2,\n",
        "            lower_stp3,\n",
        "            lower_stp4,\n",
        "            lower_stp5,\n",
        "            lower_stp6,\n",
        "            lower_stp7,\n",
        "            lower_stp8,\n",
        "            lower_stp9,\n",
        "            lower_stp10,\n",
        "            lower_stp11,\n",
        "            lower_stp12,\n",
        "            lower_stp13,\n",
        "            lower_stp14,\n",
        "            lower_stp15,\n",
        "            lower_stp16,\n",
        "            lower_stp17,\n",
        "            lower_stp18,\n",
        "            lower_stp19,\n",
        "            lower_stp20,\n",
        "            lower_stp21]\n",
        "\n",
        "median_stp = [median_stp1,\n",
        "            median_stp2,\n",
        "            median_stp3,\n",
        "            median_stp4,\n",
        "            median_stp5,\n",
        "            median_stp6,\n",
        "            median_stp7,\n",
        "            median_stp8,\n",
        "            median_stp9,\n",
        "            median_stp10,\n",
        "            median_stp11,\n",
        "            median_stp12,\n",
        "            median_stp13,\n",
        "            median_stp14,\n",
        "            median_stp15,\n",
        "            median_stp16,\n",
        "            median_stp17,\n",
        "            median_stp18,\n",
        "            median_stp19,\n",
        "            median_stp20,\n",
        "            median_stp21]\n",
        "\n",
        "upper_stp = [upper_stp1,\n",
        "            upper_stp2,\n",
        "            upper_stp3,\n",
        "            upper_stp4,\n",
        "            upper_stp5,\n",
        "            upper_stp6,\n",
        "            upper_stp7,\n",
        "            upper_stp8,\n",
        "            upper_stp9,\n",
        "            upper_stp10,\n",
        "            upper_stp11,\n",
        "            upper_stp12,\n",
        "            upper_stp13,\n",
        "            upper_stp14,\n",
        "            upper_stp15,\n",
        "            upper_stp16,\n",
        "            upper_stp17,\n",
        "            upper_stp18,\n",
        "            upper_stp19,\n",
        "            upper_stp20,\n",
        "            upper_stp21]"
      ]
    },
    {
      "cell_type": "code",
      "execution_count": null,
      "metadata": {
        "id": "2MONq-BXQxgA",
        "colab": {
          "base_uri": "https://localhost:8080/",
          "height": 299
        },
        "outputId": "53392822-986b-46c2-ac57-46c694854354"
      },
      "outputs": [
        {
          "output_type": "display_data",
          "data": {
            "text/plain": [
              "<Figure size 432x288 with 1 Axes>"
            ],
            "image/png": "[encoded data removed]"
          },
          "metadata": {
            "needs_background": "light"
          }
        }
      ],
      "source": [
        "### Visualise!\n",
        "\n",
        "title = func\n",
        "plt.figure()\n",
        "\n",
        "plt.plot(median_stp, color = 'Blue', ls='--')\n",
        "plt.plot(median_gp, color = 'Blue', ls='-')\n",
        "\n",
        "xstar = np.arange(0, iters+1, step=1)\n",
        "plt.fill_between(xstar, lower_stp, upper_stp, facecolor = 'Blue', alpha=0.4, label='STP ERM Optimisation: Exact STP dERM gradients ' r'($\\nu$' ' = {})'.format(df))\n",
        "plt.fill_between(xstar, lower_gp, upper_gp, facecolor = 'Blue', alpha=0.2, label='GP ERM Optimisation: Exact GP dERM gradients')\n",
        "\n",
        "plt.title(title, weight = 'bold')\n",
        "plt.xlabel('(Post-initialisation) iteration $\\it{k}$', weight = 'bold')\n",
        "plt.ylabel('log(Regret)', weight = 'bold') \n",
        "plt.legend(loc=1) # add plot legend\n",
        "\n",
        "### Make the x-ticks integers, not floats:\n",
        "count = len(xstar)\n",
        "plt.xticks(np.arange(count), np.arange(0, count))\n",
        "plt.show() #visualise!\n"
      ]
    },
    {
      "cell_type": "code",
      "execution_count": null,
      "metadata": {
        "id": "l5dkR2Id2oiu",
        "colab": {
          "base_uri": "https://localhost:8080/"
        },
        "outputId": "49142f28-6e20-4225-cb59-b1668bf2ceb5"
      },
      "outputs": [
        {
          "output_type": "execute_result",
          "data": {
            "text/plain": [
              "(766.0541224479675, 1316.2683222293854)"
            ]
          },
          "metadata": {},
          "execution_count": 99
        }
      ],
      "source": [
        "time_gp, time_stp\n"
      ]
    },
    {
      "cell_type": "code",
      "source": [
        "### acqFunc attribute x, stddev: run number = 1\n",
        "\n",
        "acqFuncgp_gp_1 = acqFuncExact(gp_1.history)\n",
        "acqFuncstp_stp_1 = acqFuncExact(stp_1.history)\n",
        "\n",
        "e1 = np.std(acqFuncstp_stp_1)\n",
        "a1 = np.std(acqFuncgp_gp_1)\n",
        "\n",
        "e1, a1\n"
      ],
      "metadata": {
        "colab": {
          "base_uri": "https://localhost:8080/"
        },
        "id": "uwxv4dmfGsLr",
        "outputId": "30db7e43-28a3-4e5d-fb69-afe109c2503c"
      },
      "execution_count": null,
      "outputs": [
        {
          "output_type": "execute_result",
          "data": {
            "text/plain": [
              "(0.47373913768729253, 0.49964534513589465)"
            ]
          },
          "metadata": {},
          "execution_count": 100
        }
      ]
    },
    {
      "cell_type": "code",
      "source": [
        "### acqFunc attribute x, stddev: run number = 2\n",
        "\n",
        "acqFuncgp_gp_2 = acqFuncExact(gp_2.history)\n",
        "acqFuncstp_stp_2 = acqFuncExact(stp_2.history)\n",
        "\n",
        "e2 = np.std(acqFuncstp_stp_2)\n",
        "a2 = np.std(acqFuncgp_gp_2)\n",
        "\n",
        "e2, a2\n"
      ],
      "metadata": {
        "colab": {
          "base_uri": "https://localhost:8080/"
        },
        "id": "0YSV00_pGsXe",
        "outputId": "45c656d7-ba68-4156-dc61-1dd76901cbc8"
      },
      "execution_count": null,
      "outputs": [
        {
          "output_type": "execute_result",
          "data": {
            "text/plain": [
              "(0.4224707413086202, 0.4255877670888939)"
            ]
          },
          "metadata": {},
          "execution_count": 101
        }
      ]
    },
    {
      "cell_type": "code",
      "source": [
        "### acqFunc attribute x, stddev: run number = 3\n",
        "\n",
        "acqFuncgp_gp_3 = acqFuncExact(gp_3.history)\n",
        "acqFuncstp_stp_3 = acqFuncExact(stp_3.history)\n",
        "\n",
        "e3 = np.std(acqFuncstp_stp_3)\n",
        "a3 = np.std(acqFuncgp_gp_3)\n",
        "\n",
        "e3, a3\n"
      ],
      "metadata": {
        "colab": {
          "base_uri": "https://localhost:8080/"
        },
        "id": "HHVmsd2UGsjT",
        "outputId": "7e514d34-234f-4dc2-fcca-038a0611d7e9"
      },
      "execution_count": null,
      "outputs": [
        {
          "output_type": "execute_result",
          "data": {
            "text/plain": [
              "(0.48227925785594516, 0.4715086796005578)"
            ]
          },
          "metadata": {},
          "execution_count": 102
        }
      ]
    },
    {
      "cell_type": "code",
      "source": [
        "### acqFunc attribute x, stddev: run number = 4\n",
        "\n",
        "acqFuncgp_gp_4 = acqFuncExact(gp_4.history)\n",
        "acqFuncstp_stp_4 = acqFuncExact(stp_4.history)\n",
        "\n",
        "e4 = np.std(acqFuncstp_stp_4)\n",
        "a4 = np.std(acqFuncgp_gp_4)\n",
        "\n",
        "e4, a4\n"
      ],
      "metadata": {
        "colab": {
          "base_uri": "https://localhost:8080/"
        },
        "id": "r7O19S2eGsu7",
        "outputId": "af2715da-0436-417a-d14c-c05800400e29"
      },
      "execution_count": null,
      "outputs": [
        {
          "output_type": "execute_result",
          "data": {
            "text/plain": [
              "(0.5219636494969415, 0.4098254623639914)"
            ]
          },
          "metadata": {},
          "execution_count": 103
        }
      ]
    },
    {
      "cell_type": "code",
      "source": [
        "### acqFunc attribute x, stddev: run number = 5\n",
        "\n",
        "acqFuncgp_gp_5 = acqFuncExact(gp_5.history)\n",
        "acqFuncstp_stp_5 = acqFuncExact(stp_5.history)\n",
        "\n",
        "e5 = np.std(acqFuncstp_stp_5)\n",
        "a5 = np.std(acqFuncgp_gp_5)\n",
        "\n",
        "e5, a5\n"
      ],
      "metadata": {
        "colab": {
          "base_uri": "https://localhost:8080/"
        },
        "id": "sdb9o6NuGs5m",
        "outputId": "6a2ab7bb-50f1-4db6-ebb2-aa19b92fa85c"
      },
      "execution_count": null,
      "outputs": [
        {
          "output_type": "execute_result",
          "data": {
            "text/plain": [
              "(0.4638976522907652, 0.4703680560904897)"
            ]
          },
          "metadata": {},
          "execution_count": 104
        }
      ]
    },
    {
      "cell_type": "code",
      "source": [
        "### acqFunc attribute x, stddev: run number = 6\n",
        "\n",
        "acqFuncgp_gp_6 = acqFuncExact(gp_6.history)\n",
        "acqFuncstp_stp_6 = acqFuncExact(stp_6.history)\n",
        "\n",
        "e6 = np.std(acqFuncstp_stp_6)\n",
        "a6 = np.std(acqFuncgp_gp_6)\n",
        "\n",
        "e6, a6\n"
      ],
      "metadata": {
        "colab": {
          "base_uri": "https://localhost:8080/"
        },
        "id": "COQl7LZ8GtE0",
        "outputId": "9a7a58d5-5dd2-408e-d440-541b79520a70"
      },
      "execution_count": null,
      "outputs": [
        {
          "output_type": "execute_result",
          "data": {
            "text/plain": [
              "(0.31097454410052916, 0.3822669783052033)"
            ]
          },
          "metadata": {},
          "execution_count": 105
        }
      ]
    },
    {
      "cell_type": "code",
      "source": [
        "### acqFunc attribute x, stddev: run number = 7\n",
        "\n",
        "acqFuncgp_gp_7 = acqFuncExact(gp_7.history)\n",
        "acqFuncstp_stp_7 = acqFuncExact(stp_7.history)\n",
        "\n",
        "e7 = np.std(acqFuncstp_stp_7)\n",
        "a7 = np.std(acqFuncgp_gp_7)\n",
        "\n",
        "e7, a7\n"
      ],
      "metadata": {
        "colab": {
          "base_uri": "https://localhost:8080/"
        },
        "id": "2gy9EtTzGtP7",
        "outputId": "96ab057f-632b-441d-9b69-136ef33e800d"
      },
      "execution_count": null,
      "outputs": [
        {
          "output_type": "execute_result",
          "data": {
            "text/plain": [
              "(0.4192562046266675, 0.5173361073828447)"
            ]
          },
          "metadata": {},
          "execution_count": 106
        }
      ]
    },
    {
      "cell_type": "code",
      "source": [
        "### acqFunc attribute x, stddev: run number = 8\n",
        "\n",
        "acqFuncgp_gp_8 = acqFuncExact(gp_8.history)\n",
        "acqFuncstp_stp_8 = acqFuncExact(stp_8.history)\n",
        "\n",
        "e8 = np.std(acqFuncstp_stp_8)\n",
        "a8 = np.std(acqFuncgp_gp_8)\n",
        "\n",
        "e8, a8\n"
      ],
      "metadata": {
        "colab": {
          "base_uri": "https://localhost:8080/"
        },
        "id": "S7mn0qoMGtbM",
        "outputId": "5736c398-b423-4340-eea3-f1a69621f28a"
      },
      "execution_count": null,
      "outputs": [
        {
          "output_type": "execute_result",
          "data": {
            "text/plain": [
              "(0.39968861239111403, 0.49505999275169066)"
            ]
          },
          "metadata": {},
          "execution_count": 107
        }
      ]
    },
    {
      "cell_type": "code",
      "source": [
        "### acqFunc attribute x, stddev: run number = 9\n",
        "\n",
        "acqFuncgp_gp_9 = acqFuncExact(gp_9.history)\n",
        "acqFuncstp_stp_9 = acqFuncExact(stp_9.history)\n",
        "\n",
        "e9 = np.std(acqFuncstp_stp_9)\n",
        "a9 = np.std(acqFuncgp_gp_9)\n",
        "\n",
        "e9, a9\n"
      ],
      "metadata": {
        "colab": {
          "base_uri": "https://localhost:8080/"
        },
        "id": "BhljmkNxGtms",
        "outputId": "54062459-0b81-4fa7-c289-7356e8389758"
      },
      "execution_count": null,
      "outputs": [
        {
          "output_type": "execute_result",
          "data": {
            "text/plain": [
              "(0.3538979113384411, 0.4363865639961091)"
            ]
          },
          "metadata": {},
          "execution_count": 108
        }
      ]
    },
    {
      "cell_type": "code",
      "source": [
        "### acqFunc attribute x, stddev: run number = 10\n",
        "\n",
        "acqFuncgp_gp_10 = acqFuncExact(gp_10.history)\n",
        "acqFuncstp_stp_10 = acqFuncExact(stp_10.history)\n",
        "\n",
        "e10 = np.std(acqFuncstp_stp_10)\n",
        "a10 = np.std(acqFuncgp_gp_10)\n",
        "\n",
        "e10, a10\n"
      ],
      "metadata": {
        "colab": {
          "base_uri": "https://localhost:8080/"
        },
        "id": "W5GZo6k3Gtx8",
        "outputId": "1ace4c95-93b5-4a87-a4c5-da59a8a647af"
      },
      "execution_count": null,
      "outputs": [
        {
          "output_type": "execute_result",
          "data": {
            "text/plain": [
              "(0.4328256620250109, 0.5413779116109867)"
            ]
          },
          "metadata": {},
          "execution_count": 109
        }
      ]
    },
    {
      "cell_type": "code",
      "source": [
        "### acqFunc attribute x, stddev: run number = 11\n",
        "\n",
        "acqFuncgp_gp_11 = acqFuncExact(gp_11.history)\n",
        "acqFuncstp_stp_11 = acqFuncExact(stp_11.history)\n",
        "\n",
        "e11 = np.std(acqFuncstp_stp_11)\n",
        "a11 = np.std(acqFuncgp_gp_11)\n",
        "\n",
        "e11, a11\n"
      ],
      "metadata": {
        "colab": {
          "base_uri": "https://localhost:8080/"
        },
        "id": "isKNhDk5Gt9D",
        "outputId": "ec3c046c-aed1-4c1d-ecbb-713903b42195"
      },
      "execution_count": null,
      "outputs": [
        {
          "output_type": "execute_result",
          "data": {
            "text/plain": [
              "(0.4335309970037541, 0.4543327618045602)"
            ]
          },
          "metadata": {},
          "execution_count": 110
        }
      ]
    },
    {
      "cell_type": "code",
      "source": [
        "### acqFunc attribute x, stddev: run number = 12\n",
        "\n",
        "acqFuncgp_gp_12 = acqFuncExact(gp_12.history)\n",
        "acqFuncstp_stp_12 = acqFuncExact(stp_12.history)\n",
        "\n",
        "e12 = np.std(acqFuncstp_stp_12)\n",
        "a12 = np.std(acqFuncgp_gp_12)\n",
        "\n",
        "e12, a12\n"
      ],
      "metadata": {
        "colab": {
          "base_uri": "https://localhost:8080/"
        },
        "id": "8ts-wrSuGuIm",
        "outputId": "a95e609a-feb8-402e-9c99-7c092750842c"
      },
      "execution_count": null,
      "outputs": [
        {
          "output_type": "execute_result",
          "data": {
            "text/plain": [
              "(0.5125675215833049, 0.5211822821741755)"
            ]
          },
          "metadata": {},
          "execution_count": 111
        }
      ]
    },
    {
      "cell_type": "code",
      "source": [
        "### acqFunc attribute x, stddev: run number = 13\n",
        "\n",
        "acqFuncgp_gp_13 = acqFuncExact(gp_13.history)\n",
        "acqFuncstp_stp_13 = acqFuncExact(stp_13.history)\n",
        "\n",
        "e13 = np.std(acqFuncstp_stp_13)\n",
        "a13 = np.std(acqFuncgp_gp_13)\n",
        "\n",
        "e13, a13\n"
      ],
      "metadata": {
        "colab": {
          "base_uri": "https://localhost:8080/"
        },
        "id": "n0drhEe3GuUL",
        "outputId": "80da9f63-920e-402c-ba3b-94cb265be090"
      },
      "execution_count": null,
      "outputs": [
        {
          "output_type": "execute_result",
          "data": {
            "text/plain": [
              "(0.40629536762356366, 0.42793746188193377)"
            ]
          },
          "metadata": {},
          "execution_count": 112
        }
      ]
    },
    {
      "cell_type": "code",
      "source": [
        "### acqFunc attribute x, stddev: run number = 14\n",
        "\n",
        "acqFuncgp_gp_14 = acqFuncExact(gp_14.history)\n",
        "acqFuncstp_stp_14 = acqFuncExact(stp_14.history)\n",
        "\n",
        "e14 = np.std(acqFuncstp_stp_14)\n",
        "a14 = np.std(acqFuncgp_gp_14)\n",
        "\n",
        "e14, a14\n"
      ],
      "metadata": {
        "colab": {
          "base_uri": "https://localhost:8080/"
        },
        "id": "R0W3MZaVGues",
        "outputId": "0e998218-46f2-4e3d-ecc6-998d8c370b28"
      },
      "execution_count": null,
      "outputs": [
        {
          "output_type": "execute_result",
          "data": {
            "text/plain": [
              "(0.39556464862247326, 0.4836592809659953)"
            ]
          },
          "metadata": {},
          "execution_count": 113
        }
      ]
    },
    {
      "cell_type": "code",
      "source": [
        "### acqFunc attribute x, stddev: run number = 15\n",
        "\n",
        "acqFuncgp_gp_15 = acqFuncExact(gp_15.history)\n",
        "acqFuncstp_stp_15 = acqFuncExact(stp_15.history)\n",
        "\n",
        "e15 = np.std(acqFuncstp_stp_15)\n",
        "a15 = np.std(acqFuncgp_gp_15)\n",
        "\n",
        "e15, a15\n"
      ],
      "metadata": {
        "colab": {
          "base_uri": "https://localhost:8080/"
        },
        "id": "DoXdDFHoGup-",
        "outputId": "dc3e86d8-532e-47fa-ef40-b97230d379c7"
      },
      "execution_count": null,
      "outputs": [
        {
          "output_type": "execute_result",
          "data": {
            "text/plain": [
              "(0.5435413520811432, 0.4629232152671867)"
            ]
          },
          "metadata": {},
          "execution_count": 114
        }
      ]
    },
    {
      "cell_type": "code",
      "source": [
        "### acqFunc attribute x, stddev: run number = 16\n",
        "\n",
        "acqFuncgp_gp_16 = acqFuncExact(gp_16.history)\n",
        "acqFuncstp_stp_16 = acqFuncExact(stp_16.history)\n",
        "\n",
        "e16 = np.std(acqFuncstp_stp_16)\n",
        "a16 = np.std(acqFuncgp_gp_16)\n",
        "\n",
        "e16, a16\n"
      ],
      "metadata": {
        "colab": {
          "base_uri": "https://localhost:8080/"
        },
        "id": "K_wAeqSoGu2j",
        "outputId": "ce53e0b8-fa30-49e4-8a1f-9546b93d45c7"
      },
      "execution_count": null,
      "outputs": [
        {
          "output_type": "execute_result",
          "data": {
            "text/plain": [
              "(0.46280432111397224, 0.5183002777465654)"
            ]
          },
          "metadata": {},
          "execution_count": 115
        }
      ]
    },
    {
      "cell_type": "code",
      "source": [
        "### acqFunc attribute x, stddev: run number = 17\n",
        "\n",
        "acqFuncgp_gp_17 = acqFuncExact(gp_17.history)\n",
        "acqFuncstp_stp_17 = acqFuncExact(stp_17.history)\n",
        "\n",
        "e17 = np.std(acqFuncstp_stp_17)\n",
        "a17 = np.std(acqFuncgp_gp_17)\n",
        "\n",
        "e17, a17\n"
      ],
      "metadata": {
        "colab": {
          "base_uri": "https://localhost:8080/"
        },
        "id": "n6zy78fjGvBT",
        "outputId": "b47eb9f8-4399-4d44-bc19-4b6cb9f224ac"
      },
      "execution_count": null,
      "outputs": [
        {
          "output_type": "execute_result",
          "data": {
            "text/plain": [
              "(0.4352228585656611, 0.5047390655691033)"
            ]
          },
          "metadata": {},
          "execution_count": 116
        }
      ]
    },
    {
      "cell_type": "code",
      "source": [
        "### acqFunc attribute x, stddev: run number = 18\n",
        "\n",
        "acqFuncgp_gp_18 = acqFuncExact(gp_18.history)\n",
        "acqFuncstp_stp_18 = acqFuncExact(stp_18.history)\n",
        "\n",
        "e18 = np.std(acqFuncstp_stp_18)\n",
        "a18 = np.std(acqFuncgp_gp_18)\n",
        "\n",
        "e18, a18\n"
      ],
      "metadata": {
        "colab": {
          "base_uri": "https://localhost:8080/"
        },
        "id": "s_6_2K4iGvM-",
        "outputId": "bfa7c1fb-ddf5-4ec7-a9dd-2a5b41790d8e"
      },
      "execution_count": null,
      "outputs": [
        {
          "output_type": "execute_result",
          "data": {
            "text/plain": [
              "(0.5784264077028081, 0.4257644820862155)"
            ]
          },
          "metadata": {},
          "execution_count": 117
        }
      ]
    },
    {
      "cell_type": "code",
      "source": [
        "### acqFunc attribute x, stddev: run number = 19\n",
        "\n",
        "acqFuncgp_gp_19 = acqFuncExact(gp_19.history)\n",
        "acqFuncstp_stp_19 = acqFuncExact(stp_19.history)\n",
        "\n",
        "e19 = np.std(acqFuncstp_stp_19)\n",
        "a19 = np.std(acqFuncgp_gp_19)\n",
        "\n",
        "e19, a19\n"
      ],
      "metadata": {
        "colab": {
          "base_uri": "https://localhost:8080/"
        },
        "id": "o8oO8pdBGvYk",
        "outputId": "601851f1-5d44-45fc-c754-16c9233879b5"
      },
      "execution_count": null,
      "outputs": [
        {
          "output_type": "execute_result",
          "data": {
            "text/plain": [
              "(0.3773203047485883, 0.40190468366025545)"
            ]
          },
          "metadata": {},
          "execution_count": 118
        }
      ]
    },
    {
      "cell_type": "code",
      "source": [
        "### acqFunc attribute x, stddev: run number = 20\n",
        "\n",
        "acqFuncgp_gp_20 = acqFuncExact(gp_20.history)\n",
        "acqFuncstp_stp_20 = acqFuncExact(stp_20.history)\n",
        "\n",
        "e20 = np.std(acqFuncstp_stp_20)\n",
        "a20 = np.std(acqFuncgp_gp_20)\n",
        "\n",
        "e20, a20\n"
      ],
      "metadata": {
        "colab": {
          "base_uri": "https://localhost:8080/"
        },
        "id": "b2w8oLc0IMzU",
        "outputId": "bc346c09-e4ca-4c9d-c99e-35adff49cdce"
      },
      "execution_count": null,
      "outputs": [
        {
          "output_type": "execute_result",
          "data": {
            "text/plain": [
              "(0.4670142512054806, 0.40745124953439354)"
            ]
          },
          "metadata": {},
          "execution_count": 119
        }
      ]
    },
    {
      "cell_type": "code",
      "source": [
        "### Summarize arrays: \n",
        "\n",
        "stp_stddev = np.sort([e1,e2,e3,e4,e5,e6,e7,e8,e9,e10,e11,e12,e13,e14,e15,e16,e17,e18,e19,e20])\n",
        "gp_stddev = np.sort([a1,a2,a3,a4,a5,a6,a7,a8,a9,a10,a11,a12,a13,a14,a15,a16,a17,a18,a19,a20])\n",
        "\n",
        "np.mean(stp_stddev), np.mean(gp_stddev)\n"
      ],
      "metadata": {
        "colab": {
          "base_uri": "https://localhost:8080/"
        },
        "id": "qAZs3yxMIZul",
        "outputId": "4e462439-9ad2-48f6-b074-e2bf5da9b69b"
      },
      "execution_count": null,
      "outputs": [
        {
          "output_type": "execute_result",
          "data": {
            "text/plain": [
              "(0.4446640701686039, 0.4628778812508524)"
            ]
          },
          "metadata": {},
          "execution_count": 120
        }
      ]
    },
    {
      "cell_type": "code",
      "source": [
        "### Visualise!\n",
        "\n",
        "title = func\n",
        "plt.figure()\n",
        "\n",
        "plt.plot(stp_stddev, color = 'Blue', ls='-', label='Average $\\sigma$, attribute $\\mathbf{x}$: Exact STP dERM gradients')\n",
        "plt.plot(gp_stddev, color = 'Blue', ls='-.', label='Average $\\sigma$, attribute $\\mathbf{x}$: Exact GP dERM gradients')\n",
        "\n",
        "plt.title(title, weight = 'bold')\n",
        "plt.xlabel('Experiment(s)', weight = 'bold')\n",
        "plt.ylabel('GP ERM, STP ERM: Average $\\sigma$, attribute $\\mathbf{x}$', weight = 'bold') \n",
        "plt.legend(loc=0) # add plot legend\n",
        "\n",
        "### Make the x-ticks integers, not floats:\n",
        "count = len(xstar)\n",
        "plt.xticks(np.arange(count), np.arange(1, count))\n",
        "plt.show() #visualise!\n"
      ],
      "metadata": {
        "colab": {
          "base_uri": "https://localhost:8080/",
          "height": 295
        },
        "id": "e_kpqYcMIZxu",
        "outputId": "7a8a977b-36b7-4598-b9eb-2b36b7bef19c"
      },
      "execution_count": null,
      "outputs": [
        {
          "output_type": "display_data",
          "data": {
            "text/plain": [
              "<Figure size 432x288 with 1 Axes>"
            ],
            "image/png": "[encoded data removed]"
          },
          "metadata": {
            "needs_background": "light"
          }
        }
      ]
    },
    {
      "cell_type": "code",
      "source": [],
      "metadata": {
        "id": "LToGd4vZIZ3I"
      },
      "execution_count": null,
      "outputs": []
    }
  ],
  "metadata": {
    "colab": {
      "collapsed_sections": [],
      "provenance": []
    },
    "kernelspec": {
      "display_name": "Python 3",
      "name": "python3"
    },
    "language_info": {
      "name": "python"
    }
  },
  "nbformat": 4,
  "nbformat_minor": 0
}